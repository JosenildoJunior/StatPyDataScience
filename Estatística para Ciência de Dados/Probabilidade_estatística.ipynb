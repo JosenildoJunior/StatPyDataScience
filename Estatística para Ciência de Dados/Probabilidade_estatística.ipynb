{
  "nbformat": 4,
  "nbformat_minor": 0,
  "metadata": {
    "colab": {
      "provenance": [],
      "collapsed_sections": [
        "iIsQc0KF2TDu",
        "m02LvliZwLAs",
        "s7XPRHxd-XJE",
        "6q5FY8ri-nyJ",
        "gv7YTWk--i44",
        "WW6eKxE1-gmC",
        "fr_0mXxhSI9D",
        "CfN7E4LKy2OF",
        "_aiSrAJ1TgpT",
        "bi5rlCIhTqZB",
        "aidnSPOeTxmw",
        "VAf1oVFfTz2g",
        "4Y7LMU7eT05p",
        "RBbQ03UwzCTM",
        "h2DQakFj0_Mt"
      ],
      "authorship_tag": "ABX9TyPCnpCIgGwC+ybSeDkZwi6t",
      "include_colab_link": true
    },
    "kernelspec": {
      "name": "python3",
      "display_name": "Python 3"
    },
    "language_info": {
      "name": "python"
    }
  },
  "cells": [
    {
      "cell_type": "markdown",
      "metadata": {
        "id": "view-in-github",
        "colab_type": "text"
      },
      "source": [
        "<a href=\"https://colab.research.google.com/github/JosenildoJunior/StatPyDataScience/blob/main/Probabilidade_estat%C3%ADstica.ipynb\" target=\"_parent\"><img src=\"https://colab.research.google.com/assets/colab-badge.svg\" alt=\"Open In Colab\"/></a>"
      ]
    },
    {
      "cell_type": "markdown",
      "source": [
        "# **Estatística com Python: Um Guia para Estudos e Solução de Problemas**"
      ],
      "metadata": {
        "id": "Gwh89yDA3cHG"
      }
    },
    {
      "cell_type": "markdown",
      "source": [
        "\n",
        "## Breve Resumo:\n",
        "\n",
        "Probabilidade é a área da matemática que estuda a chance de ocorrência de eventos."
      ],
      "metadata": {
        "id": "Leonv9Gk312s"
      }
    },
    {
      "cell_type": "markdown",
      "source": [
        "# **Permutação**"
      ],
      "metadata": {
        "id": "iIsQc0KF2TDu"
      }
    },
    {
      "cell_type": "markdown",
      "source": [
        "Breve Resumo:\n",
        "\n",
        "Permutação é uma técnica de contagem utilizada para determinar quantas maneiras existem para ordenar os elementos de um conjunto finito.\n",
        "\n",
        "Cálculo:\n",
        "\n",
        "O número de permutações de um conjunto com n elementos é dado pela seguinte fórmula:\n",
        "\n",
        "- P(n) = n!"
      ],
      "metadata": {
        "id": "Knt6HgY22pq7"
      }
    },
    {
      "cell_type": "markdown",
      "source": [
        " Realizando importações necessarias"
      ],
      "metadata": {
        "id": "FA7Ww-BK27zi"
      }
    },
    {
      "cell_type": "code",
      "source": [
        "# Manipulação de arquivos\n",
        "import pandas as pd\n",
        "\n",
        "# Algébra linear\n",
        "import numpy as np\n",
        "\n",
        "# Funções estatísticas\n",
        "from scipy import stats\n",
        "\n",
        "# Funções matemáticas\n",
        "import math\n",
        "\n",
        "# Visualização de dados\n",
        "import seaborn as sns\n",
        "import matplotlib.pyplot as plt"
      ],
      "metadata": {
        "id": "zOhmv1AT2-PK"
      },
      "execution_count": 3,
      "outputs": []
    },
    {
      "cell_type": "markdown",
      "source": [
        "Digamos que tenhamos a seguinte pergunta:\n",
        "- Dados 5 números, calcule o número de permutações possíveis."
      ],
      "metadata": {
        "id": "gluHJCY34DZa"
      }
    },
    {
      "cell_type": "markdown",
      "source": [
        "Para resolvermos essa questão, basta usar a função factorial() do pacote math. Como sabemos que é uma permutação de 5, basta aplicar a função para sabermos o valor de 5!"
      ],
      "metadata": {
        "id": "XYkY9FAt4mQN"
      }
    },
    {
      "cell_type": "code",
      "source": [
        "# Calculando o fatorial de 5\n",
        "math.factorial(5)"
      ],
      "metadata": {
        "colab": {
          "base_uri": "https://localhost:8080/"
        },
        "id": "BX54dnRz4dr-",
        "outputId": "1efc162a-0cce-4fa3-a15e-a898a42c711e"
      },
      "execution_count": null,
      "outputs": [
        {
          "output_type": "execute_result",
          "data": {
            "text/plain": [
              "120"
            ]
          },
          "metadata": {},
          "execution_count": 5
        }
      ]
    },
    {
      "cell_type": "markdown",
      "source": [
        "Portanto, podemos afirmar que nesse caso existem 120 permutações possíveis utilizando apenas 5 números"
      ],
      "metadata": {
        "id": "AHBc_8e-4_ui"
      }
    },
    {
      "cell_type": "markdown",
      "source": [
        "Resolva essa questâo:\n",
        "\n",
        "- Ao criar uma senha com 5 dígitos, utilizando qualquer letra e números de 0 a 9 e levando em consideração que as letras e números **não podem se repetir**, quantas permutações são possíveis?"
      ],
      "metadata": {
        "id": "NMbGCgjq4VJB"
      }
    },
    {
      "cell_type": "markdown",
      "source": [
        "**Esse é um caso de permutação de subconjunto onde utilizaremos a seguinte formula:**\n",
        "- $P(n, k) = n! / (n-k)!$"
      ],
      "metadata": {
        "id": "YDEhEH7O6LiW"
      }
    },
    {
      "cell_type": "code",
      "source": [
        "# Aplicando a fórmula da permutação de subconjunto\n",
        "math.factorial(36) / math.factorial(36 -5)"
      ],
      "metadata": {
        "colab": {
          "base_uri": "https://localhost:8080/"
        },
        "id": "OwRwmHUv6YOx",
        "outputId": "ee4230dc-963f-4710-d8c3-64ba865f9948"
      },
      "execution_count": null,
      "outputs": [
        {
          "output_type": "execute_result",
          "data": {
            "text/plain": [
              "45239040.0"
            ]
          },
          "metadata": {},
          "execution_count": 6
        }
      ]
    },
    {
      "cell_type": "markdown",
      "source": [
        "Assim, podemos observar que chegamos ao valor de 452 milhões de possibilidades diferentes"
      ],
      "metadata": {
        "id": "I2Jo6YhB63El"
      }
    },
    {
      "cell_type": "markdown",
      "source": [
        "Resolva essa questâo:\n",
        "- Ao criar uma senha com 5 dígitos, utilizando qualquer letra e números de 0 a 9 e levando em consideração que as letras e números **podem se repetir**, quantas permutações são possíveis?"
      ],
      "metadata": {
        "id": "h2NBFxCW7dNx"
      }
    },
    {
      "cell_type": "markdown",
      "source": [
        "Como os valores podem se repetir, aplicaremos uma abordagem um pouco diferente. Utilizaremos a seguinte fórmula:\n",
        "\n",
        "- $P(n, k) = n^k$"
      ],
      "metadata": {
        "id": "80I3xab27fYB"
      }
    },
    {
      "cell_type": "markdown",
      "source": [
        "Agora, basta aplicar a fórmula nos valores para aplicar a permutação"
      ],
      "metadata": {
        "id": "OZ96vgeG8deR"
      }
    },
    {
      "cell_type": "code",
      "source": [
        "# Aplicando a fórmula\n",
        "math.pow(36, 5)"
      ],
      "metadata": {
        "colab": {
          "base_uri": "https://localhost:8080/"
        },
        "id": "jGov8RFP8kNC",
        "outputId": "93bd796d-7c0a-4b82-a97d-0d11d5dbef47"
      },
      "execution_count": null,
      "outputs": [
        {
          "output_type": "execute_result",
          "data": {
            "text/plain": [
              "60466176.0"
            ]
          },
          "metadata": {},
          "execution_count": 7
        }
      ]
    },
    {
      "cell_type": "markdown",
      "source": [
        "Dito isso, podemos montar 60 milhões de senhas de diferentes fórmulas, podendo utilizar valores diferentes."
      ],
      "metadata": {
        "id": "xW50svvH89ju"
      }
    },
    {
      "cell_type": "markdown",
      "source": [
        "# **Combinação**"
      ],
      "metadata": {
        "id": "m02LvliZwLAs"
      }
    },
    {
      "cell_type": "markdown",
      "source": [
        "Breve Resumo:\n",
        "\n",
        "Combinação é uma técnica de contagem utilizada para determinar quantas maneiras existem de escolher elementos de um conjunto finito, sem considerar a ordem dos elementos escolhidos."
      ],
      "metadata": {
        "id": "RnX5SEesw01W"
      }
    },
    {
      "cell_type": "markdown",
      "source": [
        "Imagine a seguinte pergunta:\n",
        "- Quantas combinação podem de 2 letras podem ser feitas com ABCDEF, considerando repetição ?"
      ],
      "metadata": {
        "id": "2PnmAAiSw1Q2"
      }
    },
    {
      "cell_type": "markdown",
      "source": [
        "Já que nesse caso não iremos considerar repetições, utilizaremos a seguinte fórmula:\n",
        "\n",
        "- $C(n, k) = n! / (k!(n-k)!)$"
      ],
      "metadata": {
        "id": "7dkMCfbXxGFd"
      }
    },
    {
      "cell_type": "code",
      "source": [
        "# Aplicando a fórmula\n",
        "math.factorial(6) / (math.factorial(2) * math.factorial(6 - 2))"
      ],
      "metadata": {
        "colab": {
          "base_uri": "https://localhost:8080/"
        },
        "id": "c2FkICH6xRaC",
        "outputId": "0ee2a9a2-de91-4303-8a19-e7f49d317a19"
      },
      "execution_count": null,
      "outputs": [
        {
          "output_type": "execute_result",
          "data": {
            "text/plain": [
              "15.0"
            ]
          },
          "metadata": {},
          "execution_count": 2
        }
      ]
    },
    {
      "cell_type": "markdown",
      "source": [
        "Nesse caso, podemos confirmar que existem 15 maneiras de selecionar 2 letras com repetição, dentre as 6 letras pré-selecionadas."
      ],
      "metadata": {
        "id": "DP57bc-zxx4v"
      }
    },
    {
      "cell_type": "markdown",
      "source": [
        "Agora, vamos imaginar a mesma questão, porém considerando repetições."
      ],
      "metadata": {
        "id": "ZQxTsnaAx8Wd"
      }
    },
    {
      "cell_type": "markdown",
      "source": [
        "Nesse caso, utilizaremos a seguinte fórmula:\n",
        "- $C(n + r - 1, r) = \\frac{(n + r - 1)!}{r!(n - 1)!}\n",
        "$"
      ],
      "metadata": {
        "id": "UwQux_gnyLMG"
      }
    },
    {
      "cell_type": "code",
      "source": [
        "# Aplicando a fórmula\n",
        "math.factorial(6 + 2 - 1) / (math.factorial(2) * math.factorial(6 - 1))"
      ],
      "metadata": {
        "colab": {
          "base_uri": "https://localhost:8080/"
        },
        "id": "alU6Us0jyWXT",
        "outputId": "d39c6f0c-e40c-44e5-9b70-a9bfb56470f9"
      },
      "execution_count": null,
      "outputs": [
        {
          "output_type": "execute_result",
          "data": {
            "text/plain": [
              "21.0"
            ]
          },
          "metadata": {},
          "execution_count": 8
        }
      ]
    },
    {
      "cell_type": "markdown",
      "source": [
        "Dessa forma, obtemos tanto a combinação para valores que aceitam a repetição quanto para os que não aceitam."
      ],
      "metadata": {
        "id": "9FZDDKnL08rB"
      }
    },
    {
      "cell_type": "markdown",
      "source": [
        "# **Interseção, União e Diferença**"
      ],
      "metadata": {
        "id": "s7XPRHxd-XJE"
      }
    },
    {
      "cell_type": "markdown",
      "source": [
        "Para exemplificação desse tema será criado dois conjuntos sendo eles:"
      ],
      "metadata": {
        "id": "ZaqNJ97D_ZzC"
      }
    },
    {
      "cell_type": "code",
      "source": [
        "# Conjunto 1\n",
        "a = (0,1,2,3,4,5,6,7)\n",
        "\n",
        "# Conjunto 2\n",
        "b = (0,2,4,6,8)"
      ],
      "metadata": {
        "id": "UTtQCZDy_dXZ"
      },
      "execution_count": null,
      "outputs": []
    },
    {
      "cell_type": "markdown",
      "source": [
        "Com os conjuntos criados podemos seguir adiante"
      ],
      "metadata": {
        "id": "rzX2MgnH_hQi"
      }
    },
    {
      "cell_type": "markdown",
      "source": [
        "## *Interseção*"
      ],
      "metadata": {
        "id": "6q5FY8ri-nyJ"
      }
    },
    {
      "cell_type": "markdown",
      "source": [
        "A interseção de dois conjuntos é o conjunto formado pelos elementos que pertencem a ambos os conjuntos.\n",
        "\n",
        "Forma de calcular:\n",
        "\n",
        "A interseção de dois conjuntos pode ser calculada usando a seguinte fórmula:\n",
        "\n",
        "- $A∩B = (x ∈ A ∩ B)$"
      ],
      "metadata": {
        "id": "Oz0nJzNv-waI"
      }
    },
    {
      "cell_type": "markdown",
      "source": [
        "Para calcularmos a interseção utilizando o python, será da seguinte forma"
      ],
      "metadata": {
        "id": "Y3LVsVDB_mcK"
      }
    },
    {
      "cell_type": "code",
      "source": [
        "# Calculando a interseção\n",
        "set(a) & set(b)"
      ],
      "metadata": {
        "colab": {
          "base_uri": "https://localhost:8080/"
        },
        "id": "VsjEwWc5_qXA",
        "outputId": "6d21e1dd-dcf8-47ed-8239-91a719a8e91b"
      },
      "execution_count": null,
      "outputs": [
        {
          "output_type": "execute_result",
          "data": {
            "text/plain": [
              "{0, 2, 4, 6}"
            ]
          },
          "metadata": {},
          "execution_count": 3
        }
      ]
    },
    {
      "cell_type": "markdown",
      "source": [
        "Dessa forma obtivemos a interseção dos conjuntos"
      ],
      "metadata": {
        "id": "kObCTEFaAu6x"
      }
    },
    {
      "cell_type": "markdown",
      "source": [
        "## *União*"
      ],
      "metadata": {
        "id": "gv7YTWk--i44"
      }
    },
    {
      "cell_type": "markdown",
      "source": [
        "A união de dois conjuntos é o conjunto formado pelos elementos que pertencem a pelo menos um dos conjuntos.\n",
        "\n",
        "Forma de calcular:\n",
        "\n",
        "A união de dois conjuntos pode ser calculada usando a seguinte fórmula:\n",
        "\n",
        "- $A∪B = (x | x ∈ A ∨ x ∈ B)$"
      ],
      "metadata": {
        "id": "S7ds5Nqr-9wW"
      }
    },
    {
      "cell_type": "code",
      "source": [
        "# Calculando a união\n",
        "set(a) | set(b)"
      ],
      "metadata": {
        "colab": {
          "base_uri": "https://localhost:8080/"
        },
        "id": "DlC6joJsA2b4",
        "outputId": "40886597-1b17-49ab-c709-74d1883d7248"
      },
      "execution_count": null,
      "outputs": [
        {
          "output_type": "execute_result",
          "data": {
            "text/plain": [
              "{0, 1, 2, 3, 4, 5, 6, 7, 8}"
            ]
          },
          "metadata": {},
          "execution_count": 4
        }
      ]
    },
    {
      "cell_type": "markdown",
      "source": [
        "Agora podemos observar a união dos conjuntos"
      ],
      "metadata": {
        "id": "2mvmsnEVBG1n"
      }
    },
    {
      "cell_type": "markdown",
      "source": [
        "## *Diferença*"
      ],
      "metadata": {
        "id": "WW6eKxE1-gmC"
      }
    },
    {
      "cell_type": "markdown",
      "source": [
        "A diferença de dois conjuntos é o conjunto formado pelos elementos que pertencem ao primeiro conjunto, mas não pertencem ao segundo conjunto.\n",
        "\n",
        "Forma de calcular:\n",
        "\n",
        "A diferença de dois conjuntos pode ser calculada usando a seguinte fórmula:\n",
        "\n",
        "A \\ B = $(x | x ∈ A ∧ x ∉ B)$"
      ],
      "metadata": {
        "id": "dLx01sx2_N9M"
      }
    },
    {
      "cell_type": "code",
      "source": [
        "# Calculando a difenreça do conjunto A em relação ao conjunto B\n",
        "set(a).difference(set(b))"
      ],
      "metadata": {
        "colab": {
          "base_uri": "https://localhost:8080/"
        },
        "id": "H6WjhoDABN9-",
        "outputId": "1cec2d40-3382-41d3-e1d8-fec88de2c20f"
      },
      "execution_count": null,
      "outputs": [
        {
          "output_type": "execute_result",
          "data": {
            "text/plain": [
              "{1, 3, 5, 7}"
            ]
          },
          "metadata": {},
          "execution_count": 5
        }
      ]
    },
    {
      "cell_type": "code",
      "source": [
        "# Calculando a difenreça do conjunto B em relação ao conjunto A\n",
        "set(b).difference(set(a))"
      ],
      "metadata": {
        "colab": {
          "base_uri": "https://localhost:8080/"
        },
        "id": "1OZMy4gWBWt-",
        "outputId": "80b56392-b2f3-4898-a058-84310090c681"
      },
      "execution_count": null,
      "outputs": [
        {
          "output_type": "execute_result",
          "data": {
            "text/plain": [
              "{8}"
            ]
          },
          "metadata": {},
          "execution_count": 7
        }
      ]
    },
    {
      "cell_type": "markdown",
      "source": [
        "Dessa maneira foi possivel calcular os elementos presente em um conjunto e não estão no outro"
      ],
      "metadata": {
        "id": "iXugz1fuBw3Z"
      }
    },
    {
      "cell_type": "markdown",
      "source": [
        "# **Probabilidade e distribuição**"
      ],
      "metadata": {
        "id": "fr_0mXxhSI9D"
      }
    },
    {
      "cell_type": "markdown",
      "source": [
        "## *Distribuição normal*"
      ],
      "metadata": {
        "id": "CfN7E4LKy2OF"
      }
    },
    {
      "cell_type": "markdown",
      "source": [
        "Vamos observar como podemos utilizar a probabilidade em algumas questões que podem surgir ao observar uma distribuição."
      ],
      "metadata": {
        "id": "-kX9cg-wSRQD"
      }
    },
    {
      "cell_type": "markdown",
      "source": [
        "Primeiro, vamos gerar dados fictícios"
      ],
      "metadata": {
        "id": "ZGLW6KtBSYaS"
      }
    },
    {
      "cell_type": "code",
      "source": [
        "# Gerando dados\n",
        "dados = np.array([126. , 129.5, 133. , 133. , 136.5, 136.5, 140. , 140. , 140. ,\n",
        "                  140. , 143.5, 143.5, 143.5, 143.5, 143.5, 143.5, 147. , 147. ,\n",
        "                  147. , 147. , 147. , 147. , 147. , 150.5, 150.5, 150.5, 150.5,\n",
        "                  150.5, 150.5, 150.5, 150.5, 154. , 154. , 154. , 154. , 154. ,\n",
        "                  154. , 154. , 154. , 154. , 157.5, 157.5, 157.5, 157.5, 157.5,\n",
        "                  157.5, 157.5, 157.5, 157.5, 157.5, 161. , 161. , 161. , 161. ,\n",
        "                  161. , 161. , 161. , 161. , 161. , 161. , 164.5, 164.5, 164.5,\n",
        "                  164.5, 164.5, 164.5, 164.5, 164.5, 164.5, 168. , 168. , 168. ,\n",
        "                  168. , 168. , 168. , 168. , 168. , 171.5, 171.5, 171.5, 171.5,\n",
        "                  171.5, 171.5, 171.5, 175. , 175. , 175. , 175. , 175. , 175. ,\n",
        "                  178.5, 178.5, 178.5, 178.5, 182. , 182. , 185.5, 185.5, 189., 192.5])"
      ],
      "metadata": {
        "id": "HBP4jf1oSaS5"
      },
      "execution_count": null,
      "outputs": []
    },
    {
      "cell_type": "code",
      "source": [
        "# Criando o gráfico\n",
        "sns.displot(dados, kde = True)\n",
        "\n",
        "# Adicionando o título\n",
        "plt.title(\"Distribuição dos dados\");"
      ],
      "metadata": {
        "colab": {
          "base_uri": "https://localhost:8080/",
          "height": 529
        },
        "id": "HS2YaSGySeF5",
        "outputId": "29b5b214-620c-4a3a-ab1d-025d029ea22c"
      },
      "execution_count": null,
      "outputs": [
        {
          "output_type": "display_data",
          "data": {
            "text/plain": [
              "<Figure size 500x500 with 1 Axes>"
            ],
            "image/png": "[encoded data removed]"
          },
          "metadata": {}
        }
      ]
    },
    {
      "cell_type": "markdown",
      "source": [
        "Para realização dos cálculos, será necessário utilizar medidas como média e desvio padrão. Dito isso, iremos calcular esses valores antes e armazená-los em uma variável para utilizar mais adiante."
      ],
      "metadata": {
        "id": "rFN9OhePTHId"
      }
    },
    {
      "cell_type": "code",
      "source": [
        "# Calculando a média\n",
        "media = dados.mean()\n",
        "\n",
        "# Calculando o desvio padrão\n",
        "desvio_padrao = np.std(dados)"
      ],
      "metadata": {
        "id": "ojJYVa21TS67"
      },
      "execution_count": null,
      "outputs": []
    },
    {
      "cell_type": "markdown",
      "source": [
        "Agora que já temos essas medidas, vamos observar os quartis."
      ],
      "metadata": {
        "id": "UC-lTkA4S4gF"
      }
    },
    {
      "cell_type": "code",
      "source": [
        "# Exibindo o Q1, Q2 e Q3 dos dados\n",
        "np.quantile(dados, [0.25, 0.50, 0.75])"
      ],
      "metadata": {
        "colab": {
          "base_uri": "https://localhost:8080/"
        },
        "id": "wmDPhmFSS5q3",
        "outputId": "cfefc3b1-06ae-441a-c279-5f514e7f2cd0"
      },
      "execution_count": null,
      "outputs": [
        {
          "output_type": "execute_result",
          "data": {
            "text/plain": [
              "array([150.5 , 159.25, 168.  ])"
            ]
          },
          "metadata": {},
          "execution_count": 12
        }
      ]
    },
    {
      "cell_type": "markdown",
      "source": [
        "Agora já temos tudo o que é necessário para realizar os cálculos. Dito isso, vamos seguir adiante."
      ],
      "metadata": {
        "id": "QYg0biieTggB"
      }
    },
    {
      "cell_type": "markdown",
      "source": [
        "### *Calcular a probabilidade de selecionar uma pessoa em Q1*"
      ],
      "metadata": {
        "id": "_aiSrAJ1TgpT"
      }
    },
    {
      "cell_type": "markdown",
      "source": [
        "Para realizar esse calculo seguiremos os seguintes passos, iremos chamar a função do pacote stats, passaremos o valor do Q1, o valor da média e o valor do desvio padrão."
      ],
      "metadata": {
        "id": "Zz6-ljRlURsT"
      }
    },
    {
      "cell_type": "code",
      "source": [
        "# Realizando o cálculo\n",
        "stats.norm.cdf(150.5, media, desvio_padrao)"
      ],
      "metadata": {
        "colab": {
          "base_uri": "https://localhost:8080/"
        },
        "id": "wa_-gAQqUV5q",
        "outputId": "42646443-5375-48ef-84e9-4b1a9e3ea897"
      },
      "execution_count": null,
      "outputs": [
        {
          "output_type": "execute_result",
          "data": {
            "text/plain": [
              "0.26075301195608336"
            ]
          },
          "metadata": {},
          "execution_count": 18
        }
      ]
    },
    {
      "cell_type": "markdown",
      "source": [
        "Agora podemos observar que a probabilidade de selecionarmos um valor do primeiro quartil é de 26%."
      ],
      "metadata": {
        "id": "qKAblZynU8mw"
      }
    },
    {
      "cell_type": "markdown",
      "source": [
        "### Calcular a probabilidade de selecionar uma pessoa em Q3"
      ],
      "metadata": {
        "id": "bi5rlCIhTqZB"
      }
    },
    {
      "cell_type": "markdown",
      "source": [
        "Seguiremos um processo similar ao utilizado anteriormente. No entanto, o método anterior utiliza um cálculo cumulativo, o que não é o que queremos nesse caso. Se utilizarmos a mesma função do exemplo anterior, ela calculará a probabilidade de escolhermos um elemento do primeiro quartil até o terceiro. Como queremos apenas a probabilidade de tirarmos um elemento exclusivamente do terceiro, utilizaremos outra técnica, que é semelhante ao exemplo anterior:"
      ],
      "metadata": {
        "id": "IhpWIasuVOCl"
      }
    },
    {
      "cell_type": "code",
      "source": [
        "# Realizando o cálculo\n",
        "stats.norm.sf(168, media, desvio_padrao)"
      ],
      "metadata": {
        "colab": {
          "base_uri": "https://localhost:8080/"
        },
        "id": "g-8UyplMVSN1",
        "outputId": "82ca27a4-fcfe-4b28-b51d-845fdc60f045"
      },
      "execution_count": null,
      "outputs": [
        {
          "output_type": "execute_result",
          "data": {
            "text/plain": [
              "0.26075301195608336"
            ]
          },
          "metadata": {},
          "execution_count": 23
        }
      ]
    },
    {
      "cell_type": "markdown",
      "source": [
        "Dessa forma, é possível notar que a probabilidade de escolhermos um elemento do terceiro quartil é de 26%."
      ],
      "metadata": {
        "id": "Fg-1bqT9WKzu"
      }
    },
    {
      "cell_type": "markdown",
      "source": [
        "### Calcular a probabilidade de selecionar uma pessoa entre Q2 e Q3"
      ],
      "metadata": {
        "id": "aidnSPOeTxmw"
      }
    },
    {
      "cell_type": "markdown",
      "source": [
        "Nesse caso, basta calcularmos a diferença entre a probabilidade de escolher um e a probabilidade de escolher o outro."
      ],
      "metadata": {
        "id": "ttyFxo1tWYdM"
      }
    },
    {
      "cell_type": "code",
      "source": [
        "# Realizando o cálculo\n",
        "stats.norm.cdf(168, media, desvio_padrao) - stats.norm.cdf(159.25, media, desvio_padrao)"
      ],
      "metadata": {
        "colab": {
          "base_uri": "https://localhost:8080/"
        },
        "id": "_K623eEmWicq",
        "outputId": "3a06515e-df0b-4773-a8d9-8d0757c6fc1b"
      },
      "execution_count": null,
      "outputs": [
        {
          "output_type": "execute_result",
          "data": {
            "text/plain": [
              "0.23924698804391664"
            ]
          },
          "metadata": {},
          "execution_count": 27
        }
      ]
    },
    {
      "cell_type": "markdown",
      "source": [
        "Dito isso, chegamos a uma probabilidade de 23% de escolhermos um elemento entre a mediana e o terceiro quartil."
      ],
      "metadata": {
        "id": "PW9t5WkbW1Uy"
      }
    },
    {
      "cell_type": "markdown",
      "source": [
        "### Calcular a probabilidade de selecionar uma pessoa em Q1 ou Q3"
      ],
      "metadata": {
        "id": "VAf1oVFfTz2g"
      }
    },
    {
      "cell_type": "markdown",
      "source": [
        "Nesta etapa, basta somarmos as probabilidades de cada um dos quartis. Nesse caso, seria da seguinte forma:"
      ],
      "metadata": {
        "id": "ZfoyXWQEsxfy"
      }
    },
    {
      "cell_type": "code",
      "source": [
        "# Probabilidade do 1 quartil\n",
        "q1 = 0.26075301195608336\n",
        "\n",
        "# Probabilidade do 2 quartil\n",
        "q3 = 0.26075301195608336\n",
        "\n",
        "# Calculando a probabilidade\n",
        "q1 + q3"
      ],
      "metadata": {
        "colab": {
          "base_uri": "https://localhost:8080/"
        },
        "id": "XTTO9y1qs5rQ",
        "outputId": "343001af-ad99-48da-be59-7b69ef072442"
      },
      "execution_count": 1,
      "outputs": [
        {
          "output_type": "execute_result",
          "data": {
            "text/plain": [
              "0.5215060239121667"
            ]
          },
          "metadata": {},
          "execution_count": 1
        }
      ]
    },
    {
      "cell_type": "markdown",
      "source": [
        "Podemos confirmar que a probabilidade de selecionarmos um elemento presente no primeiro ou terceiro quartil é de aproximadamente 52%."
      ],
      "metadata": {
        "id": "pURcrAAytUKF"
      }
    },
    {
      "cell_type": "markdown",
      "source": [
        "### Calcular a probabilidade de não selecionar uma pessoa em Q1 ou Q3"
      ],
      "metadata": {
        "id": "4Y7LMU7eT05p"
      }
    },
    {
      "cell_type": "markdown",
      "source": [
        "Nessa etapa, basta subtrair a probabilidade de selecionarmos um elemento do primeiro ou terceiro quartil do topo. Como já sabemos essa probabilidade, basta realizar a subtração."
      ],
      "metadata": {
        "id": "UAuYFg3itd3M"
      }
    },
    {
      "cell_type": "code",
      "source": [
        "# Calculando a probabilidade\n",
        "1 - 0.5215060239121667"
      ],
      "metadata": {
        "colab": {
          "base_uri": "https://localhost:8080/"
        },
        "id": "-I7ceD5jttBz",
        "outputId": "afab2c7b-e0ab-4260-fd56-3e179f00c84d"
      },
      "execution_count": 2,
      "outputs": [
        {
          "output_type": "execute_result",
          "data": {
            "text/plain": [
              "0.4784939760878333"
            ]
          },
          "metadata": {},
          "execution_count": 2
        }
      ]
    },
    {
      "cell_type": "markdown",
      "source": [
        "Dessa forma, podemos visualizar que a probabilidade de não selecionarmos um elemento presente no primeiro e terceiro quartil é de aproximadamente 47%."
      ],
      "metadata": {
        "id": "f4kciYDkt1fi"
      }
    },
    {
      "cell_type": "markdown",
      "source": [
        "## *Distribuição binomial*"
      ],
      "metadata": {
        "id": "RBbQ03UwzCTM"
      }
    },
    {
      "cell_type": "markdown",
      "source": [
        "**imagine um cenario onde alguém joga uma moeda 10 vezes, qual a probabilidade de obter 5 \"caras\"?**"
      ],
      "metadata": {
        "id": "K6wNqCWdzIX0"
      }
    },
    {
      "cell_type": "markdown",
      "source": [
        "Para realizar esse cálculo, iremos utilizar uma funcionalidade da biblioteca scipy. Antes, devemos determinar o valor das seguintes variáveis:\n",
        "\n",
        "n: Representa o número total de eventos em um experimento binomial.\n",
        "x: Representa o número de sucessos (resultados positivos) que queremos encontrar a probabilidade.\n",
        "p: Representa a probabilidade de sucesso em uma única tentativa."
      ],
      "metadata": {
        "id": "C_LBE6uszVVR"
      }
    },
    {
      "cell_type": "code",
      "source": [
        "# Número total de eventos\n",
        "n = 10\n",
        "\n",
        "# Número de sucessos que queremos encontrar a probabilidade\n",
        "x = 5\n",
        "\n",
        "# Probabilidade de cada evento ocorrer em uma única tentativa\n",
        "p = 0.5"
      ],
      "metadata": {
        "id": "BsAehx1czcc5"
      },
      "execution_count": 4,
      "outputs": []
    },
    {
      "cell_type": "markdown",
      "source": [
        "Agora que os valores estão determinados, podemos calcular a probabilidade propriamente dita."
      ],
      "metadata": {
        "id": "YG3V_C6v0zsf"
      }
    },
    {
      "cell_type": "code",
      "source": [
        "# calculando a probabilidade\n",
        "stats.binom.pmf(x, n, p)"
      ],
      "metadata": {
        "colab": {
          "base_uri": "https://localhost:8080/"
        },
        "id": "V80KSa_Mza-R",
        "outputId": "a161d475-1ccf-42c7-b8f7-c4ee893fd93c"
      },
      "execution_count": 5,
      "outputs": [
        {
          "output_type": "execute_result",
          "data": {
            "text/plain": [
              "0.24609375000000003"
            ]
          },
          "metadata": {},
          "execution_count": 5
        }
      ]
    },
    {
      "cell_type": "markdown",
      "source": [
        "Observamos que a probabilidade de tirar 5 caras jogando a moeda 10 vezes é de aproximadamente 24%. Vejamos outro exemplo."
      ],
      "metadata": {
        "id": "PaTYpZF91LQ1"
      }
    },
    {
      "cell_type": "markdown",
      "source": [
        "**70% das pessoas que compraram o livro de Python são mulheres. Se 10 leitores forem selecionados randomicamente, qual a probabilidade de selecionarmos 7 mulheres?**"
      ],
      "metadata": {
        "id": "bJV98h9R1HxE"
      }
    },
    {
      "cell_type": "markdown",
      "source": [
        "Vamos seguir os mesmos passos do exemplo anterior."
      ],
      "metadata": {
        "id": "PQ-bKRVn1rU5"
      }
    },
    {
      "cell_type": "code",
      "source": [
        "# Número total de eventos\n",
        "n = 10\n",
        "\n",
        "# Número de sucessos que queremos encontrar a probabilidade\n",
        "x = 7\n",
        "\n",
        "# Probabilidade de cada evento ocorrer em uma única tentativa\n",
        "p = 0.7"
      ],
      "metadata": {
        "id": "Ha-1gRUA1_JN"
      },
      "execution_count": 8,
      "outputs": []
    },
    {
      "cell_type": "code",
      "source": [
        "# calculando a probabilidade\n",
        "stats.binom.pmf(x, n, p)"
      ],
      "metadata": {
        "colab": {
          "base_uri": "https://localhost:8080/"
        },
        "id": "GA9vbqgm1ZaB",
        "outputId": "3510af80-cb85-47aa-9516-04fc191e1452"
      },
      "execution_count": 9,
      "outputs": [
        {
          "output_type": "execute_result",
          "data": {
            "text/plain": [
              "0.26682793200000005"
            ]
          },
          "metadata": {},
          "execution_count": 9
        }
      ]
    },
    {
      "cell_type": "markdown",
      "source": [
        "Dessa forma, podemos observar que temos 26% de chance de selecionarmos 7 mulheres a cada 10 leitores."
      ],
      "metadata": {
        "id": "5s5C34Si13Cu"
      }
    },
    {
      "cell_type": "markdown",
      "source": [
        "## *Distribuição de poisson*"
      ],
      "metadata": {
        "id": "h2DQakFj0_Mt"
      }
    },
    {
      "cell_type": "markdown",
      "source": [
        "**Para exemplificarmos a probabilidade nessa distirbuição vamos imaginar o seguinte cenario: Imagine que uma concessionaria apresenta uma média de 10 carros vendidos por dia. Qual a probabilidade de vender 14 carros amanhã?**"
      ],
      "metadata": {
        "id": "TzjfLbA-2cny"
      }
    },
    {
      "cell_type": "markdown",
      "source": [
        "Para realizar esse cálculo, vamos utilizar a biblioteca scipy novamente. Basta passarmos o número de eventos esperados e a média de eventos que temos."
      ],
      "metadata": {
        "id": "2qlSSu9W3JWW"
      }
    },
    {
      "cell_type": "code",
      "source": [
        "# Número de eventos esperados\n",
        "x = 14\n",
        "\n",
        "# Média de eventos\n",
        "media = 10"
      ],
      "metadata": {
        "id": "ABgIy1sJ2a5j"
      },
      "execution_count": 10,
      "outputs": []
    },
    {
      "cell_type": "code",
      "source": [
        "# Calculando a probabilidade\n",
        "stats.poisson.pmf(x, media)"
      ],
      "metadata": {
        "colab": {
          "base_uri": "https://localhost:8080/"
        },
        "id": "1t-rDRCe2Zmi",
        "outputId": "6a1991e7-024d-400b-809e-9c8f02483d28"
      },
      "execution_count": 11,
      "outputs": [
        {
          "output_type": "execute_result",
          "data": {
            "text/plain": [
              "0.05207710444602615"
            ]
          },
          "metadata": {},
          "execution_count": 11
        }
      ]
    },
    {
      "cell_type": "markdown",
      "source": [
        "A média obtida foi de 5%. Vamos observar outro exemplo."
      ],
      "metadata": {
        "id": "zt9qbPrb4DD_"
      }
    },
    {
      "cell_type": "markdown",
      "source": [
        "**Um vendedor de uma loja vende, em média, 50 produtos por dia. Qual a probabilidade de vender apenas 5 produtos no próximo dia?**"
      ],
      "metadata": {
        "id": "yz8-ZGZc4PPG"
      }
    },
    {
      "cell_type": "code",
      "source": [
        "# Número de eventos esperados\n",
        "x = 5\n",
        "\n",
        "# Média de eventos\n",
        "media = 10"
      ],
      "metadata": {
        "id": "X9ygK8Xg4Qrl"
      },
      "execution_count": 12,
      "outputs": []
    },
    {
      "cell_type": "code",
      "source": [
        "# Calculando a probabilidade\n",
        "stats.poisson.pmf(x, media)"
      ],
      "metadata": {
        "colab": {
          "base_uri": "https://localhost:8080/"
        },
        "id": "Dr2WLijW4R_3",
        "outputId": "a5453134-85f1-48ef-ac42-25cbadfae18e"
      },
      "execution_count": 13,
      "outputs": [
        {
          "output_type": "execute_result",
          "data": {
            "text/plain": [
              "0.03783327480207079"
            ]
          },
          "metadata": {},
          "execution_count": 13
        }
      ]
    },
    {
      "cell_type": "markdown",
      "source": [
        "A probabilidade de esse vendedor vender apenas 5 produtos no próximo dia é de apenas 3%."
      ],
      "metadata": {
        "id": "gPnqMGFY4VJ1"
      }
    }
  ]
}