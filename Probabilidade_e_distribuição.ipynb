{
  "nbformat": 4,
  "nbformat_minor": 0,
  "metadata": {
    "colab": {
      "provenance": [],
      "collapsed_sections": [
        "OgcZ6k_LXeLW",
        "lBEEi3wijfd7",
        "2LOPp2zvjhlD",
        "6DxZg4eWSUk5",
        "BmsQWHjodpu8",
        "aOl22r6sp_9K",
        "wII_oTqXO1fE",
        "2VCu4lrQeWUg",
        "ngTRec0kiiJZ",
        "l4pl2z9ajEpl",
        "XWLndazJjcoU",
        "RUK3OwyoXWbw",
        "mtYZsAF0gnY4",
        "Hyu0iiLGg7Bt"
      ],
      "authorship_tag": "ABX9TyP3RqnwVXwRUs+8AL4cYe+k",
      "include_colab_link": true
    },
    "kernelspec": {
      "name": "python3",
      "display_name": "Python 3"
    },
    "language_info": {
      "name": "python"
    }
  },
  "cells": [
    {
      "cell_type": "markdown",
      "metadata": {
        "id": "view-in-github",
        "colab_type": "text"
      },
      "source": [
        "<a href=\"https://colab.research.google.com/github/JosenildoJunior/StatPyDataScience/blob/main/Probabilidade_e_distribui%C3%A7%C3%A3o.ipynb\" target=\"_parent\"><img src=\"https://colab.research.google.com/assets/colab-badge.svg\" alt=\"Open In Colab\"/></a>"
      ]
    },
    {
      "cell_type": "markdown",
      "source": [
        "# Estatística com Python: Um Guia para Estudos e Solução de Problemas"
      ],
      "metadata": {
        "id": "t7bMsgTvIqRt"
      }
    },
    {
      "cell_type": "markdown",
      "source": [
        "## **Probabilidade e distribuição**"
      ],
      "metadata": {
        "id": "3NsHpbK4TAQA"
      }
    },
    {
      "cell_type": "markdown",
      "source": [
        "## **Probabilidade**"
      ],
      "metadata": {
        "id": "OgcZ6k_LXeLW"
      }
    },
    {
      "cell_type": "markdown",
      "source": [
        "A probabilidade é a chance de algo acontecer. Podemos pensar em probabilidade como uma medida de incerteza. Quanto maior a probabilidade, mais provável é que algo aconteça.\n",
        "\n",
        "Para calcular a probabilidade de um evento, podemos utilizar a seguinte fórmula:\n",
        "\n",
        "- $P(A) = n(A) / n(S)$\n",
        "\n",
        "Onde:\n",
        "\n",
        "- P(A) é a probabilidade do evento A ocorrer\n",
        "- n(A) é o número de resultados possíveis em que o evento A ocorre\n",
        "- n(S) é o número total de resultados possíveis"
      ],
      "metadata": {
        "id": "ZZLsRyP0Xcw_"
      }
    },
    {
      "cell_type": "markdown",
      "source": [
        "### **Eventos**"
      ],
      "metadata": {
        "id": "lBEEi3wijfd7"
      }
    },
    {
      "cell_type": "markdown",
      "source": [
        "#### Em probabilidade, eventos independentes são eventos em que a ocorrência de um evento não afeta a probabilidade de ocorrência de outro evento. Para realizar os cálculos de eventos independentes, utilizamos a seguinte fórmula:\n",
        "\n",
        "- $P(A ∩ B) = P(A) * P(B)$\n",
        "\n",
        "\n"
      ],
      "metadata": {
        "id": "2LOPp2zvjhlD"
      }
    },
    {
      "cell_type": "markdown",
      "source": [
        "**Exercício**: Um dado justo de seis faces é lançado duas vezes. Qual é a probabilidade de obter um número par no primeiro lançamento e um número ímpar no segundo lançamento?"
      ],
      "metadata": {
        "id": "soaz2IWRX1pL"
      }
    },
    {
      "cell_type": "markdown",
      "source": [
        "**Resposta:** Existem 3 possibilidades de resultados em que o valor do dado seja par e 3 possibilidades de resultados em que o valor seja ímpar. Sabendo disso, vamos aplicar a fórmula da probabilidade independente, que é:\n",
        "\n",
        "- $P(A ∩ B) = P(A) * P(B)$"
      ],
      "metadata": {
        "id": "eltsAcJFYoQV"
      }
    },
    {
      "cell_type": "code",
      "source": [
        "# Faces do dados\n",
        "dado = [1, 2, 3, 4, 5, 6]\n",
        "\n",
        "# Calculando a probabilidade\n",
        "prob = (3/6 * 3/6) * 100\n",
        "\n",
        "print(f\"A probabilidade de obter um número par no primeiro e um ímpar no segundo é de {prob}%\")"
      ],
      "metadata": {
        "colab": {
          "base_uri": "https://localhost:8080/"
        },
        "id": "H8Vc7_3ZX3zM",
        "outputId": "f06fc6e0-330e-4f00-e781-58b2657e9f74"
      },
      "execution_count": null,
      "outputs": [
        {
          "output_type": "stream",
          "name": "stdout",
          "text": [
            "A probabilidade de obter um número par no primeiro e um ímpar no segundo é de 25.0%\n"
          ]
        }
      ]
    },
    {
      "cell_type": "markdown",
      "source": [
        "#### Em probabilidade, eventos **dependentes** são eventos em que a ocorrência de um evento influencia a probabilidade de ocorrência de outro evento. Para realizar os cálculos de eventos dependentes, utilizamos a seguinte fórmula:"
      ],
      "metadata": {
        "id": "J_9C0TtSUGuz"
      }
    },
    {
      "cell_type": "markdown",
      "source": [
        "### **Porobabilidade da união de dois eventos**"
      ],
      "metadata": {
        "id": "6DxZg4eWSUk5"
      }
    },
    {
      "cell_type": "markdown",
      "source": [
        "A probabilidade da união de dois eventos é a probabilidade de que ambos ou apenas um dos eventos ocorra. Para isso, utilizamos a seguinte fórmula:\n",
        "\n",
        "- $P(A ∪ B) = P(A) + P(B) - P(A ∩ B)$"
      ],
      "metadata": {
        "id": "EA-NxoWkSZuw"
      }
    },
    {
      "cell_type": "markdown",
      "source": [
        "**Exercício**: Uma empresa de tecnologia produz dois modelos de smartphones: A e B. Sabe-se que 60% dos clientes escolhem o modelo A e 40% escolhem o modelo B. Além disso, sabe-se que 5% dos clientes que compram o modelo A relatam problemas técnicos, enquanto 10% dos clientes que compram o modelo B relatam problemas técnicos. Se um cliente escolhido aleatoriamente relatar problemas técnicos, qual é a probabilidade de que ele tenha escolhido o modelo A?"
      ],
      "metadata": {
        "id": "eMgoxrrbJpsy"
      }
    },
    {
      "cell_type": "code",
      "source": [
        "# Em breve!!!"
      ],
      "metadata": {
        "id": "OIVpdDGNJu8x"
      },
      "execution_count": null,
      "outputs": []
    },
    {
      "cell_type": "markdown",
      "source": [
        "### **Porobabilidade condicional**"
      ],
      "metadata": {
        "id": "BmsQWHjodpu8"
      }
    },
    {
      "cell_type": "markdown",
      "source": [
        "A probabilidade condicional é a probabilidade de um evento A acontecer, dado que outro evento B já aconteceu. Utilizamos a seguinte fórmula:\n",
        "\n",
        "- $P(A/B) = P(A ∩ B) / P(B)$"
      ],
      "metadata": {
        "id": "nh22SXGEds9F"
      }
    },
    {
      "cell_type": "markdown",
      "source": [
        "#### **Exercício**:(UFSCAR) Dois dados usuais e não viciados são lançados. Sabe-se que os números observados são ímpares. Então, a probabilidade de que a soma deles seja 8 é:"
      ],
      "metadata": {
        "id": "aOl22r6sp_9K"
      }
    },
    {
      "cell_type": "code",
      "source": [
        "# Em breve!!!"
      ],
      "metadata": {
        "id": "gWCPqWsxqTdv"
      },
      "execution_count": null,
      "outputs": []
    },
    {
      "cell_type": "markdown",
      "source": [
        "### **Teorema da Probabilidade Total**"
      ],
      "metadata": {
        "id": "wII_oTqXO1fE"
      }
    },
    {
      "cell_type": "markdown",
      "source": [
        "O Teorema da Probabilidade Total é uma maneira de calcular a probabilidade de um evento A considerando todos os cenários representados por eventos. A fórmula é:\n",
        "\n",
        "- $P(A)=P(A∣B\n",
        "1\n",
        "​\n",
        " )⋅P(B\n",
        "1\n",
        "​\n",
        " )+P(A∣B\n",
        "2\n",
        "​\n",
        " )⋅P(B\n",
        "2\n",
        "​\n",
        " )+…+P(A∣B\n",
        "n\n",
        "​\n",
        " )⋅P(B\n",
        "n\n",
        "​\n",
        " )$"
      ],
      "metadata": {
        "id": "1Gt9U5qzQLLj"
      }
    },
    {
      "cell_type": "markdown",
      "source": [
        "Basicamente a probabilidade de A é a soma das probabilidades de A dado cada B multiplicada pela probabilidade de cada B ocorrer. Isso ajuda quando calcular diretamente a probabilidade de A é complicado, mas você conhece a relação entre A e diferentes situações representadas por B1, B2, ..., Bn."
      ],
      "metadata": {
        "id": "sHbdUxsZQZv3"
      }
    },
    {
      "cell_type": "markdown",
      "source": [
        "### **Teorema de Bayes**"
      ],
      "metadata": {
        "id": "2VCu4lrQeWUg"
      }
    },
    {
      "cell_type": "markdown",
      "source": [
        "O teorema de Bayes é uma ferramenta que nos permite calcular a probabilidade condicional de um evento, dado que sabemos a probabilidade de outros eventos. Por exemplo, o teorema de Bayes pode ser usado para calcular a probabilidade de uma pessoa ter uma doença, dado que ela apresentou alguns sintomas."
      ],
      "metadata": {
        "id": "sNXjCeNheasY"
      }
    },
    {
      "cell_type": "markdown",
      "source": [
        "**Exercício**: Uma empresa de tecnologia produz dois modelos de smartphones: A e B. Sabe-se que 60% dos clientes escolhem o modelo A e 40% escolhem o modelo B. Além disso, sabe-se que 5% dos clientes que compram o modelo A relatam problemas técnicos, enquanto 10% dos clientes que compram o modelo B relatam problemas técnicos. Se um cliente escolhido aleatoriamente relatar problemas técnicos, qual é a probabilidade de que ele tenha escolhido o modelo A?"
      ],
      "metadata": {
        "id": "Cwxa8w50XqiF"
      }
    },
    {
      "cell_type": "markdown",
      "source": [
        "Para resolução desse exercício, utilizaremos ambos o teorema da probabilidade geral e o teorema de Bayes. Dito isso, vamos seguir para a resolução."
      ],
      "metadata": {
        "id": "BVbCECnpbCjX"
      }
    },
    {
      "cell_type": "markdown",
      "source": [
        "## **Variáveis aleatórias**"
      ],
      "metadata": {
        "id": "ngTRec0kiiJZ"
      }
    },
    {
      "cell_type": "markdown",
      "source": [
        "Uma variável aleatória é uma função que associa um valor numérico a cada resultado de um experimento aleatório."
      ],
      "metadata": {
        "id": "3Ts_ZmBJi4HX"
      }
    },
    {
      "cell_type": "markdown",
      "source": [
        "### **Variáveis aleatórias discretas**"
      ],
      "metadata": {
        "id": "l4pl2z9ajEpl"
      }
    },
    {
      "cell_type": "markdown",
      "source": [
        "As variáveis aleatórias discretas são aquelas que podem assumir apenas um número finito ou contável de valores.\n",
        "\n",
        "Por exemplo, o número de pessoas que entram em uma loja em uma hora é uma variável aleatória discreta.\n"
      ],
      "metadata": {
        "id": "PHw4Te4wjF8F"
      }
    },
    {
      "cell_type": "markdown",
      "source": [
        "Imagine que você está contabilizando o número de acidentes de carro em um dia. A variável aleatória \"número de acidentes\" pode assumir valores inteiros, como: 10, 50, 100, 500 e assim vai. Essa é uma variável aleatória discreta."
      ],
      "metadata": {
        "id": "7zGwDEGQj2wI"
      }
    },
    {
      "cell_type": "markdown",
      "source": [
        "### **Variáveis aleatórias contínuas**"
      ],
      "metadata": {
        "id": "XWLndazJjcoU"
      }
    },
    {
      "cell_type": "markdown",
      "source": [
        "Variáveis aleatórias contínuas: As variáveis aleatórias contínuas são aquelas que podem assumir qualquer valor dentro de um intervalo. Por exemplo, o tempo de duração de uma ligação telefônica."
      ],
      "metadata": {
        "id": "KgAu1x7ojgHj"
      }
    },
    {
      "cell_type": "markdown",
      "source": [
        "Imagine que você está medindo o peso das pessoas. O peso das pessoas pode ser qualquer número entre, digamos, 50 kilos e 100 kilos. Essa é uma variável aleatória contínua."
      ],
      "metadata": {
        "id": "tfMb_-TNjqXw"
      }
    },
    {
      "cell_type": "markdown",
      "source": [
        "## **Distribuição**"
      ],
      "metadata": {
        "id": "RUK3OwyoXWbw"
      }
    },
    {
      "cell_type": "markdown",
      "source": [
        "\n",
        "\n",
        "Uma distribuição é uma descrição da probabilidade de diferentes valores de uma variável. Existem muitos tipos diferentes de distribuições, incluindo:\n",
        "\n",
        "- Distribuição uniforme: Uma distribuição uniforme é uma distribuição em que todos os valores têm a mesma probabilidade de ocorrer.\n",
        "\n",
        "\n",
        "- Distribuição normal: Uma distribuição normal é uma distribuição em forma de sino que é frequentemente usada para modelar dados reais.\n",
        "\n",
        "\n",
        "- Distribuição binomial: Uma distribuição binomial é uma distribuição que descreve o número de sucessos em uma série de tentativas independentes.\n",
        "\n",
        "- Distribuição de Poisson: Uma distribuição de Poisson é uma distribuição que descreve o número de eventos que ocorrem em um intervalo de tempo fixo."
      ],
      "metadata": {
        "id": "lOiE_IWlXY8X"
      }
    },
    {
      "cell_type": "markdown",
      "source": [
        "### **Distribuições discretas**"
      ],
      "metadata": {
        "id": "mtYZsAF0gnY4"
      }
    },
    {
      "cell_type": "markdown",
      "source": [
        "Uma distribuição discreta é uma distribuição de probabilidade em que os resultados possíveis são finitos ou contáveis."
      ],
      "metadata": {
        "id": "bgWvbJ8JgrNn"
      }
    },
    {
      "cell_type": "markdown",
      "source": [
        "Imagine que você está jogando um jogo de dados. Você pode tirar qualquer um dos números de 1 a 6. A probabilidade de tirar cada um desses números é igual, ou seja, 1/6. Essa é uma distribuição de probabilidade discreta."
      ],
      "metadata": {
        "id": "he2DBOMcgtA2"
      }
    },
    {
      "cell_type": "markdown",
      "source": [
        "### **Distribuições contínuas**"
      ],
      "metadata": {
        "id": "Hyu0iiLGg7Bt"
      }
    },
    {
      "cell_type": "markdown",
      "source": [
        "Uma distribuição contínua é uma distribuição de probabilidade em que os resultados possíveis são infinitos ou não contáveis."
      ],
      "metadata": {
        "id": "EYet4J9phAW0"
      }
    },
    {
      "cell_type": "markdown",
      "source": [
        "imagine que você está medindo a altura das pessoas. A altura das pessoas pode ser qualquer número entre, digamos, 1,50 metro e 2,00 metros. A probabilidade de uma pessoa ter uma altura específica é zero, porque não há apenas uma pessoa com aquela altura exata. Essa é uma distribuição de probabilidade contínua."
      ],
      "metadata": {
        "id": "uhsFnB_Yg45F"
      }
    },
    {
      "cell_type": "code",
      "execution_count": null,
      "metadata": {
        "id": "xPhUy-aXIotG"
      },
      "outputs": [],
      "source": []
    }
  ]
}