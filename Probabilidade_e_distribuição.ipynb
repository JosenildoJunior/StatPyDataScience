{
  "nbformat": 4,
  "nbformat_minor": 0,
  "metadata": {
    "colab": {
      "provenance": [],
      "collapsed_sections": [
        "OgcZ6k_LXeLW",
        "lBEEi3wijfd7",
        "2LOPp2zvjhlD",
        "6DxZg4eWSUk5",
        "BmsQWHjodpu8",
        "aOl22r6sp_9K",
        "wII_oTqXO1fE",
        "2VCu4lrQeWUg",
        "ngTRec0kiiJZ",
        "l4pl2z9ajEpl",
        "XWLndazJjcoU",
        "RUK3OwyoXWbw",
        "mtYZsAF0gnY4",
        "otxJgJ5Fj6ii",
        "Hyu0iiLGg7Bt",
        "znUIfWU2lial",
        "__P_6bE6YjGz",
        "7v5YD-_zgXZ4"
      ],
      "authorship_tag": "ABX9TyNKJ7uOwv9BfRXGScw/jtHp",
      "include_colab_link": true
    },
    "kernelspec": {
      "name": "python3",
      "display_name": "Python 3"
    },
    "language_info": {
      "name": "python"
    }
  },
  "cells": [
    {
      "cell_type": "markdown",
      "metadata": {
        "id": "view-in-github",
        "colab_type": "text"
      },
      "source": [
        "<a href=\"https://colab.research.google.com/github/JosenildoJunior/StatPyDataScience/blob/main/Probabilidade_e_distribui%C3%A7%C3%A3o.ipynb\" target=\"_parent\"><img src=\"https://colab.research.google.com/assets/colab-badge.svg\" alt=\"Open In Colab\"/></a>"
      ]
    },
    {
      "cell_type": "markdown",
      "source": [
        "# Estatística com Python: Um Guia para Estudos e Solução de Problemas"
      ],
      "metadata": {
        "id": "t7bMsgTvIqRt"
      }
    },
    {
      "cell_type": "markdown",
      "source": [
        "## **Probabilidade e distribuição**"
      ],
      "metadata": {
        "id": "3NsHpbK4TAQA"
      }
    },
    {
      "cell_type": "markdown",
      "source": [
        "## **Probabilidade**"
      ],
      "metadata": {
        "id": "OgcZ6k_LXeLW"
      }
    },
    {
      "cell_type": "markdown",
      "source": [
        "A probabilidade é a chance de algo acontecer. Podemos pensar em probabilidade como uma medida de incerteza. Quanto maior a probabilidade, mais provável é que algo aconteça.\n",
        "\n",
        "Para calcular a probabilidade de um evento, podemos utilizar a seguinte fórmula:\n",
        "\n",
        "- $P(A) = n(A) / n(S)$\n",
        "\n",
        "Onde:\n",
        "\n",
        "- P(A) é a probabilidade do evento A ocorrer\n",
        "- n(A) é o número de resultados possíveis em que o evento A ocorre\n",
        "- n(S) é o número total de resultados possíveis"
      ],
      "metadata": {
        "id": "ZZLsRyP0Xcw_"
      }
    },
    {
      "cell_type": "markdown",
      "source": [
        "### **Eventos**"
      ],
      "metadata": {
        "id": "lBEEi3wijfd7"
      }
    },
    {
      "cell_type": "markdown",
      "source": [
        "#### Em probabilidade, eventos **independentes** são eventos em que a ocorrência de um evento não afeta a probabilidade de ocorrência de outro evento. Para realizar os cálculos de eventos independentes, utilizamos a seguinte fórmula:\n",
        "\n",
        "- $P(A ∩ B) = P(A) * P(B)$\n",
        "\n",
        "\n"
      ],
      "metadata": {
        "id": "2LOPp2zvjhlD"
      }
    },
    {
      "cell_type": "markdown",
      "source": [
        "**Exercício**: Um dado justo de seis faces é lançado duas vezes. Qual é a probabilidade de obter um número par no primeiro lançamento e um número ímpar no segundo lançamento?"
      ],
      "metadata": {
        "id": "soaz2IWRX1pL"
      }
    },
    {
      "cell_type": "markdown",
      "source": [
        "**Resposta:** Existem 3 possibilidades de resultados em que o valor do dado seja par e 3 possibilidades de resultados em que o valor seja ímpar. Sabendo disso, vamos aplicar a fórmula da probabilidade independente, que é:\n",
        "\n",
        "- $P(A ∩ B) = P(A) * P(B)$"
      ],
      "metadata": {
        "id": "eltsAcJFYoQV"
      }
    },
    {
      "cell_type": "code",
      "source": [
        "# Faces do dados\n",
        "dado = [1, 2, 3, 4, 5, 6]\n",
        "\n",
        "# Calculando a probabilidade\n",
        "prob = (3/6 * 3/6) * 100\n",
        "\n",
        "print(f\"A probabilidade de obter um número par no primeiro e um ímpar no segundo é de {prob}%\")"
      ],
      "metadata": {
        "colab": {
          "base_uri": "https://localhost:8080/"
        },
        "id": "H8Vc7_3ZX3zM",
        "outputId": "f06fc6e0-330e-4f00-e781-58b2657e9f74"
      },
      "execution_count": null,
      "outputs": [
        {
          "output_type": "stream",
          "name": "stdout",
          "text": [
            "A probabilidade de obter um número par no primeiro e um ímpar no segundo é de 25.0%\n"
          ]
        }
      ]
    },
    {
      "cell_type": "markdown",
      "source": [
        "#### Em probabilidade, eventos **dependentes** são eventos em que a ocorrência de um evento influencia a probabilidade de ocorrência de outro evento. Para realizar os cálculos de eventos dependentes, utilizamos a seguinte fórmula:"
      ],
      "metadata": {
        "id": "J_9C0TtSUGuz"
      }
    },
    {
      "cell_type": "markdown",
      "source": [
        "### **Probabilidade da união de dois eventos**"
      ],
      "metadata": {
        "id": "6DxZg4eWSUk5"
      }
    },
    {
      "cell_type": "markdown",
      "source": [
        "A probabilidade da união de dois eventos é a probabilidade de que ambos ou apenas um dos eventos ocorra. Para isso, utilizamos a seguinte fórmula:\n",
        "\n",
        "- $P(A ∪ B) = P(A) + P(B) - P(A ∩ B)$"
      ],
      "metadata": {
        "id": "EA-NxoWkSZuw"
      }
    },
    {
      "cell_type": "code",
      "source": [
        "# Em breve!!!"
      ],
      "metadata": {
        "id": "OIVpdDGNJu8x"
      },
      "execution_count": null,
      "outputs": []
    },
    {
      "cell_type": "markdown",
      "source": [
        "### **Probabilidade condicional**"
      ],
      "metadata": {
        "id": "BmsQWHjodpu8"
      }
    },
    {
      "cell_type": "markdown",
      "source": [
        "A probabilidade condicional é a probabilidade de um evento A acontecer, dado que outro evento B já aconteceu. Utilizamos a seguinte fórmula:\n",
        "\n",
        "- $P(A/B) = P(A ∩ B) / P(B)$"
      ],
      "metadata": {
        "id": "nh22SXGEds9F"
      }
    },
    {
      "cell_type": "markdown",
      "source": [
        "#### **Exercício**:(UFSCAR) Dois dados usuais e não viciados são lançados. Sabe-se que os números observados são ímpares. Então, a probabilidade de que a soma deles seja 8 é:"
      ],
      "metadata": {
        "id": "aOl22r6sp_9K"
      }
    },
    {
      "cell_type": "code",
      "source": [
        "# Em breve!!!"
      ],
      "metadata": {
        "id": "gWCPqWsxqTdv"
      },
      "execution_count": null,
      "outputs": []
    },
    {
      "cell_type": "markdown",
      "source": [
        "### **Teorema da Probabilidade Total**"
      ],
      "metadata": {
        "id": "wII_oTqXO1fE"
      }
    },
    {
      "cell_type": "markdown",
      "source": [
        "O Teorema da Probabilidade Total é uma maneira de calcular a probabilidade de um evento A considerando todos os cenários representados por eventos. A fórmula é:\n",
        "\n",
        "- $P(A)=P(A∣B\n",
        "1\n",
        "​\n",
        " )⋅P(B\n",
        "1\n",
        "​\n",
        " )+P(A∣B\n",
        "2\n",
        "​\n",
        " )⋅P(B\n",
        "2\n",
        "​\n",
        " )+…+P(A∣B\n",
        "n\n",
        "​\n",
        " )⋅P(B\n",
        "n\n",
        "​\n",
        " )$"
      ],
      "metadata": {
        "id": "1Gt9U5qzQLLj"
      }
    },
    {
      "cell_type": "markdown",
      "source": [
        "Basicamente a probabilidade de A é a soma das probabilidades de A dado cada B multiplicada pela probabilidade de cada B ocorrer. Isso ajuda quando calcular diretamente a probabilidade de A é complicado, mas você conhece a relação entre A e diferentes situações representadas por B1, B2, ..., Bn."
      ],
      "metadata": {
        "id": "sHbdUxsZQZv3"
      }
    },
    {
      "cell_type": "markdown",
      "source": [
        "### **Teorema de Bayes**"
      ],
      "metadata": {
        "id": "2VCu4lrQeWUg"
      }
    },
    {
      "cell_type": "markdown",
      "source": [
        "O teorema de Bayes é uma ferramenta que nos permite calcular a probabilidade condicional de um evento, dado que sabemos a probabilidade de outros eventos. Por exemplo, o teorema de Bayes pode ser usado para calcular a probabilidade de uma pessoa ter uma doença, dado que ela apresentou alguns sintomas."
      ],
      "metadata": {
        "id": "sNXjCeNheasY"
      }
    },
    {
      "cell_type": "markdown",
      "source": [
        "**Exercício**: Uma empresa de tecnologia produz dois modelos de smartphones: A e B. Sabe-se que 60% dos clientes escolhem o modelo A e 40% escolhem o modelo B. Além disso, sabe-se que 5% dos clientes que compram o modelo A relatam problemas técnicos, enquanto 10% dos clientes que compram o modelo B relatam problemas técnicos. Se um cliente escolhido aleatoriamente relatar problemas técnicos, qual é a probabilidade de que ele tenha escolhido o modelo A?"
      ],
      "metadata": {
        "id": "Cwxa8w50XqiF"
      }
    },
    {
      "cell_type": "markdown",
      "source": [
        "Para resolução desse exercício, utilizaremos ambos o teorema da probabilidade total e o teorema de Bayes. Dito isso, vamos seguir para a resolução."
      ],
      "metadata": {
        "id": "BVbCECnpbCjX"
      }
    },
    {
      "cell_type": "code",
      "source": [
        "# Em breve!!!"
      ],
      "metadata": {
        "id": "BmyQdpuyR657"
      },
      "execution_count": null,
      "outputs": []
    },
    {
      "cell_type": "markdown",
      "source": [
        "## **Variáveis aleatórias**"
      ],
      "metadata": {
        "id": "ngTRec0kiiJZ"
      }
    },
    {
      "cell_type": "markdown",
      "source": [
        "Uma variável aleatória é uma função que associa um valor numérico a cada resultado de um experimento aleatório."
      ],
      "metadata": {
        "id": "3Ts_ZmBJi4HX"
      }
    },
    {
      "cell_type": "markdown",
      "source": [
        "### **Variáveis aleatórias discretas**"
      ],
      "metadata": {
        "id": "l4pl2z9ajEpl"
      }
    },
    {
      "cell_type": "markdown",
      "source": [
        "As variáveis aleatórias discretas são aquelas que podem assumir apenas um número finito ou contável de valores.\n",
        "\n",
        "Por exemplo, o número de pessoas que entram em uma loja em uma hora é uma variável aleatória discreta.\n"
      ],
      "metadata": {
        "id": "PHw4Te4wjF8F"
      }
    },
    {
      "cell_type": "markdown",
      "source": [
        "Imagine que você está contabilizando o número de acidentes de carro em um dia. A variável aleatória \"número de acidentes\" pode assumir valores inteiros, como: 10, 50, 100, 500 e assim vai. Essa é uma variável aleatória discreta."
      ],
      "metadata": {
        "id": "7zGwDEGQj2wI"
      }
    },
    {
      "cell_type": "markdown",
      "source": [
        "### **Variáveis aleatórias contínuas**"
      ],
      "metadata": {
        "id": "XWLndazJjcoU"
      }
    },
    {
      "cell_type": "markdown",
      "source": [
        "Variáveis aleatórias contínuas: As variáveis aleatórias contínuas são aquelas que podem assumir qualquer valor dentro de um intervalo. Por exemplo, o tempo de duração de uma ligação telefônica."
      ],
      "metadata": {
        "id": "KgAu1x7ojgHj"
      }
    },
    {
      "cell_type": "markdown",
      "source": [
        "Imagine que você está medindo o peso das pessoas. O peso das pessoas pode ser qualquer número entre, digamos, 50 kilos e 100 kilos. Essa é uma variável aleatória contínua."
      ],
      "metadata": {
        "id": "tfMb_-TNjqXw"
      }
    },
    {
      "cell_type": "markdown",
      "source": [
        "## **Distribuição**"
      ],
      "metadata": {
        "id": "RUK3OwyoXWbw"
      }
    },
    {
      "cell_type": "markdown",
      "source": [
        "\n",
        "\n",
        "Uma distribuição é uma descrição da probabilidade de diferentes valores de uma variável. Existem muitos tipos diferentes de distribuições, incluindo:\n",
        "\n",
        "- Distribuição uniforme: Uma distribuição uniforme é uma distribuição em que todos os valores têm a mesma probabilidade de ocorrer.\n",
        "\n",
        "\n",
        "- Distribuição normal: Uma distribuição normal é uma distribuição em forma de sino que é frequentemente usada para modelar dados reais.\n",
        "\n",
        "\n",
        "- Distribuição binomial: Uma distribuição binomial é uma distribuição que descreve o número de sucessos em uma série de tentativas independentes.\n",
        "\n",
        "- Distribuição de Poisson: Uma distribuição de Poisson é uma distribuição que descreve o número de eventos que ocorrem em um intervalo de tempo fixo."
      ],
      "metadata": {
        "id": "lOiE_IWlXY8X"
      }
    },
    {
      "cell_type": "markdown",
      "source": [
        "### **Distribuições discretas**"
      ],
      "metadata": {
        "id": "mtYZsAF0gnY4"
      }
    },
    {
      "cell_type": "markdown",
      "source": [
        "Uma distribuição discreta é uma distribuição de probabilidade em que os resultados possíveis são finitos ou contáveis."
      ],
      "metadata": {
        "id": "bgWvbJ8JgrNn"
      }
    },
    {
      "cell_type": "markdown",
      "source": [
        "Imagine que você está jogando um jogo de dados. Você pode tirar qualquer um dos números de 1 a 6. A probabilidade de tirar cada um desses números é igual, ou seja, 1/6. Essa é uma distribuição de probabilidade discreta."
      ],
      "metadata": {
        "id": "he2DBOMcgtA2"
      }
    },
    {
      "cell_type": "markdown",
      "source": [
        "#### **Distribuição de Bernoulli**"
      ],
      "metadata": {
        "id": "otxJgJ5Fj6ii"
      }
    },
    {
      "cell_type": "markdown",
      "source": [
        "A distribuição de Bernoulli é uma distribuição de probabilidade discreta que descreve a probabilidade de um único evento ocorrer. O evento é chamado de tentativa de Bernoulli e pode ter dois resultados possíveis, chamados de sucesso e fracasso."
      ],
      "metadata": {
        "id": "9JnZQajEkC7n"
      }
    },
    {
      "cell_type": "markdown",
      "source": [
        "Vamos observar um exemplo de uma distribuição de Bernoulli."
      ],
      "metadata": {
        "id": "P_MbsRJ1k3yC"
      }
    },
    {
      "cell_type": "code",
      "source": [
        "# Realizando a importação do modelo\n",
        "from scipy.stats import bernoulli\n",
        "\n",
        "# Visualização de dados\n",
        "import seaborn as sns\n",
        "import matplotlib.pyplot as plt\n",
        "\n",
        "# Criando a distribuição\n",
        "dados_bernoulli = bernoulli.rvs(size = 1000, p = 0.3)"
      ],
      "metadata": {
        "id": "TumbR2ABkgxs"
      },
      "execution_count": null,
      "outputs": []
    },
    {
      "cell_type": "markdown",
      "source": [
        "O parâmetro 'p' = 0.3, estamos afirmando que 30% de todos os registros serão positivos. Nesse caso, esses registros serão representados pelo número 1."
      ],
      "metadata": {
        "id": "n1aslxjVlG8p"
      }
    },
    {
      "cell_type": "code",
      "source": [
        "# Gerando o histograma\n",
        "sns.histplot(dados_bernoulli, kde = True)\n",
        "plt.title(\"Distribuição de Bernoulli\")\n",
        "\n",
        "# Exibindo a figura\n",
        "plt.show()"
      ],
      "metadata": {
        "colab": {
          "base_uri": "https://localhost:8080/",
          "height": 452
        },
        "id": "LvMFCMIzlBKA",
        "outputId": "564bcade-023e-469c-c51a-7fe69a5a2440"
      },
      "execution_count": null,
      "outputs": [
        {
          "output_type": "display_data",
          "data": {
            "text/plain": [
              "<Figure size 640x480 with 1 Axes>"
            ],
            "image/png": "[encoded data removed]"
          },
          "metadata": {}
        }
      ]
    },
    {
      "cell_type": "markdown",
      "source": [
        "### **Distribuições contínuas**"
      ],
      "metadata": {
        "id": "Hyu0iiLGg7Bt"
      }
    },
    {
      "cell_type": "markdown",
      "source": [
        "Uma distribuição contínua é uma distribuição de probabilidade em que os resultados possíveis são infinitos ou não contáveis."
      ],
      "metadata": {
        "id": "EYet4J9phAW0"
      }
    },
    {
      "cell_type": "markdown",
      "source": [
        "imagine que você está medindo a altura das pessoas. A altura das pessoas pode ser qualquer número entre, digamos, 1,50 metro e 2,00 metros. A probabilidade de uma pessoa ter uma altura específica é zero, porque não há apenas uma pessoa com aquela altura exata. Essa é uma distribuição de probabilidade contínua."
      ],
      "metadata": {
        "id": "uhsFnB_Yg45F"
      }
    },
    {
      "cell_type": "markdown",
      "source": [
        "#### **Distribuição binomial**"
      ],
      "metadata": {
        "id": "znUIfWU2lial"
      }
    },
    {
      "cell_type": "markdown",
      "source": [
        "A distribuição binomial é uma distribuição de probabilidade discreta que descreve a probabilidade de um número fixo de sucessos em uma sequência de n tentativas independentes."
      ],
      "metadata": {
        "id": "rXlTyTtalySq"
      }
    },
    {
      "cell_type": "markdown",
      "source": [
        "Vamos observar um exemplo de uma distribuição binomial."
      ],
      "metadata": {
        "id": "if2GfZupl1K0"
      }
    },
    {
      "cell_type": "code",
      "execution_count": null,
      "metadata": {
        "id": "xPhUy-aXIotG"
      },
      "outputs": [],
      "source": [
        "# Realizando a importação\n",
        "from scipy.stats import binom\n",
        "\n",
        "# Criando a distribuição\n",
        "dados_binomial = binom.rvs(size = 1000, n = 10, p = 0.7)"
      ]
    },
    {
      "cell_type": "markdown",
      "source": [
        "Agora vamos gerar a visualização."
      ],
      "metadata": {
        "id": "cXVMDEtUl7j6"
      }
    },
    {
      "cell_type": "code",
      "source": [
        "# Gerando o histograma\n",
        "sns.histplot(dados_binomial, kde = False)\n",
        "plt.title(\"Distribuição binomial\")\n",
        "\n",
        "# Exibindo a figura\n",
        "plt.show()"
      ],
      "metadata": {
        "colab": {
          "base_uri": "https://localhost:8080/",
          "height": 452
        },
        "id": "OJlJRDPCl95M",
        "outputId": "94613b7e-7e18-4944-f3ff-74729d5daaf5"
      },
      "execution_count": null,
      "outputs": [
        {
          "output_type": "display_data",
          "data": {
            "text/plain": [
              "<Figure size 640x480 with 1 Axes>"
            ],
            "image/png": "[encoded data removed]"
          },
          "metadata": {}
        }
      ]
    },
    {
      "cell_type": "markdown",
      "source": [
        "Esse é um exemplo de como a distribuição binomial se parece."
      ],
      "metadata": {
        "id": "wPBwGZfwl_9i"
      }
    },
    {
      "cell_type": "markdown",
      "source": [
        "### **Distribuições normal**"
      ],
      "metadata": {
        "id": "__P_6bE6YjGz"
      }
    },
    {
      "cell_type": "markdown",
      "source": [
        "A distribuição normal, também conhecida como distribuição gaussiana, é uma das distribuições de probabilidade mais importantes na estatística.\n",
        "\n",
        "Caracteristicas distribuição normal:\n",
        "\n",
        "- A curva da distribuição é em forma de sino.\n",
        "- A média, a mediana e a moda são iguais.\n",
        "- A maioria dos dados está concentrada em torno da média, com valores mais extremos se tornando menos frequentes à medida que nos afastamos da média."
      ],
      "metadata": {
        "id": "kLZlOI7ZZSRc"
      }
    },
    {
      "cell_type": "markdown",
      "source": [
        "Vamos observar um exemplo de uma distribuição normal. Para isso, em vez de inserirmos os dados um por um, vamos utilizar uma biblioteca para gerar os dados de maneira aleatória, porém de forma que no final o resultado seja uma distribuição normal. Para isso, vamos importar a seguinte biblioteca:"
      ],
      "metadata": {
        "id": "vT7heqUpZ4Uo"
      }
    },
    {
      "cell_type": "code",
      "source": [
        "# Importando a biblioteca para gerar distribuições\n",
        "from scipy.stats import skewnorm\n",
        "\n",
        "# Manipulação de dados\n",
        "import pandas as pd\n",
        "\n",
        "# Algébra linear\n",
        "import numpy as np\n",
        "\n",
        "# Visualização de dados\n",
        "import seaborn as sns\n",
        "import matplotlib.pyplot as plt\n",
        "\n",
        "# Funções estatísticas\n",
        "import statistics\n",
        "from scipy import stats"
      ],
      "metadata": {
        "id": "qGvIQSJFY7WH"
      },
      "execution_count": null,
      "outputs": []
    },
    {
      "cell_type": "markdown",
      "source": [
        " Com as bibliotecas devidamente importadas, vamos criar a distribuição."
      ],
      "metadata": {
        "id": "m-rcM8OraII-"
      }
    },
    {
      "cell_type": "code",
      "source": [
        "# Gerando uma distribuição normal\n",
        "dados_normal = skewnorm.rvs(a = 0, size = 1000, random_state = 21)\n",
        "\n",
        "# Criando uma cópia dos dados no formato series\n",
        "dados_normal_2 = pd.Series(dados_normal)"
      ],
      "metadata": {
        "id": "Oxz3rs7DY-qn"
      },
      "execution_count": null,
      "outputs": []
    },
    {
      "cell_type": "markdown",
      "source": [
        "Agora vamos visualizar a distribuição."
      ],
      "metadata": {
        "id": "SOnvbuHsaSG1"
      }
    },
    {
      "cell_type": "code",
      "source": [
        "# Criando o gráfico\n",
        "sns.displot(dados_normal, kde = True)\n",
        "\n",
        "# Adicionando o título\n",
        "plt.title(\"Distribuição normal\");"
      ],
      "metadata": {
        "colab": {
          "base_uri": "https://localhost:8080/",
          "height": 529
        },
        "id": "SvX5TWdPZCSW",
        "outputId": "58331af9-99d4-4a67-de54-853ae14bb8cc"
      },
      "execution_count": null,
      "outputs": [
        {
          "output_type": "display_data",
          "data": {
            "text/plain": [
              "<Figure size 500x500 with 1 Axes>"
            ],
            "image/png": "[encoded data removed]"
          },
          "metadata": {}
        }
      ]
    },
    {
      "cell_type": "markdown",
      "source": [
        "Observando as medidas."
      ],
      "metadata": {
        "id": "pChoOUqCaUyl"
      }
    },
    {
      "cell_type": "code",
      "source": [
        "# Calculando a média\n",
        "media_dados_normal = dados_normal.mean()\n",
        "\n",
        "# Calculando a mediana\n",
        "mediana_dados_normal = np.median(dados_normal)\n",
        "\n",
        "# Calculando a moda\n",
        "moda_dados_normal = statistics.mode(dados_normal)\n",
        "\n",
        "print(f\"A média é {media_dados_normal}\\nA mediana é: {mediana_dados_normal}\\nA moda é {moda_dados_normal}\")"
      ],
      "metadata": {
        "colab": {
          "base_uri": "https://localhost:8080/"
        },
        "id": "SNYtqZG5aOpN",
        "outputId": "5c294b18-9335-4413-ab80-f6b5da59c62e"
      },
      "execution_count": null,
      "outputs": [
        {
          "output_type": "stream",
          "name": "stdout",
          "text": [
            "A média é 0.033737333940124944\n",
            "A mediana é: 0.022782690327902397\n",
            "A moda é -1.5437670063009328\n"
          ]
        }
      ]
    },
    {
      "cell_type": "markdown",
      "source": [
        "Podemos observar que a média e a mediana estão bem próximas. Apesar de não serem iguais, a proximidade entre elas, juntamente com o formato de sino da distribuição, confere a essa distribuição o título de distribuição normal, embora não seja uma distribuição normal perfeita. A moda distoa um pouco mais dos outros valores, pois como os dados foram gerados aleatoriamente, é muito difícil que a moda seja igual à média e à mediana."
      ],
      "metadata": {
        "id": "FeOjXCOXagRi"
      }
    },
    {
      "cell_type": "markdown",
      "source": [
        "Vamos calcular o skew dessa distribuição, para verificarmos a assimetria dos dados."
      ],
      "metadata": {
        "id": "WaFpqeQJcpsD"
      }
    },
    {
      "cell_type": "code",
      "source": [
        "# Importando o skew\n",
        "from scipy.stats import skew\n",
        "\n",
        "# Verificando assimetria\n",
        "dados_normal_2.skew()"
      ],
      "metadata": {
        "colab": {
          "base_uri": "https://localhost:8080/"
        },
        "id": "_uaJJyFXcv2S",
        "outputId": "28cf1319-35f1-481a-ec18-c3cd9736429f"
      },
      "execution_count": null,
      "outputs": [
        {
          "output_type": "execute_result",
          "data": {
            "text/plain": [
              "0.03472445924082342"
            ]
          },
          "metadata": {},
          "execution_count": 25
        }
      ]
    },
    {
      "cell_type": "markdown",
      "source": [
        "Obtivemos um skew positivo e bem baixo, o que indica uma leve assimetria à direita. Apesar do skew ser positivo, essa assimetria é muito pequena. Por pouco não obtivemos uma distribuição normal perfeita, pois para isso o skew deveria ser igual a 0."
      ],
      "metadata": {
        "id": "d4KiFY_peEex"
      }
    },
    {
      "cell_type": "markdown",
      "source": [
        "#### *Probabilidade*"
      ],
      "metadata": {
        "id": "7v5YD-_zgXZ4"
      }
    },
    {
      "cell_type": "markdown",
      "source": [
        "Vamos observar como podemos utilizar a probabilidade em uma distribuição normal para calcular áreas sob a curva e determinar a probabilidade de um evento ocorrer."
      ],
      "metadata": {
        "id": "IXJ8-GYAgZFK"
      }
    },
    {
      "cell_type": "markdown",
      "source": [
        "Imagine que temos uma base de dados contendo o IMC de uma determinada população."
      ],
      "metadata": {
        "id": "zsc0hicNhglg"
      }
    },
    {
      "cell_type": "code",
      "source": [
        "# Criando uma série de 100 valores aleatórios\n",
        "dados = pd.Series(np.random.normal(29, 6, 100))"
      ],
      "metadata": {
        "id": "JUZMp7zuhy3t"
      },
      "execution_count": null,
      "outputs": []
    },
    {
      "cell_type": "markdown",
      "source": [
        "Agora vamos analisar a distribuição dos dados."
      ],
      "metadata": {
        "id": "_klw1nWoiX_B"
      }
    },
    {
      "cell_type": "code",
      "source": [
        "# Criando o gráfico\n",
        "sns.displot(dados, kde = True)\n",
        "\n",
        "# Adicionando o título\n",
        "plt.title(\"Distribuição das alturas\");"
      ],
      "metadata": {
        "colab": {
          "base_uri": "https://localhost:8080/",
          "height": 529
        },
        "id": "c476T2mgiaZR",
        "outputId": "68059b14-291f-4f20-eb1d-ea73f9116efe"
      },
      "execution_count": null,
      "outputs": [
        {
          "output_type": "display_data",
          "data": {
            "text/plain": [
              "<Figure size 500x500 with 1 Axes>"
            ],
            "image/png": "[encoded data removed]"
          },
          "metadata": {}
        }
      ]
    },
    {
      "cell_type": "markdown",
      "source": [
        "Vamos analisar as medidas desses dados."
      ],
      "metadata": {
        "id": "Fu_JkmtGiigB"
      }
    },
    {
      "cell_type": "code",
      "source": [
        "# Calculando a média\n",
        "media_imc = dados.mean()\n",
        "\n",
        "# Calculando a mediana\n",
        "mediana_imc = np.median(dados)\n",
        "\n",
        "# Calculando a moda\n",
        "moda_imc = statistics.mode(dados)\n",
        "\n",
        "# Calculando o desvio\n",
        "desvio_imc = dados.std()\n",
        "\n",
        "print(f\"A média é {media_imc}\\nA mediana é: {mediana_imc}\\nA moda é {moda_imc}\\nO desvio padrão é {desvio_imc}\")"
      ],
      "metadata": {
        "colab": {
          "base_uri": "https://localhost:8080/"
        },
        "id": "2fczNJDqiyV2",
        "outputId": "15fba7a9-2be8-457e-9779-2c08aa53cfcb"
      },
      "execution_count": null,
      "outputs": [
        {
          "output_type": "stream",
          "name": "stdout",
          "text": [
            "A média é 28.80960516725068\n",
            "A mediana é: 29.21689811208371\n",
            "A moda é 22.533848109768385\n",
            "O desvio padrão é 6.110787135177151\n"
          ]
        }
      ]
    },
    {
      "cell_type": "markdown",
      "source": [
        "Neste caso, podemos observar que a média e a mediana são bastante próximas, enquanto a moda está um pouco distante. Apesar de duas das três medidas serem próximas, a curva em formato de sino não está presente. No entanto, vamos verificar o skew para entender melhor a assimetria da distribuição."
      ],
      "metadata": {
        "id": "GzqWYQXwjC08"
      }
    },
    {
      "cell_type": "code",
      "source": [
        "# Verificando assimetria\n",
        "dados.skew()"
      ],
      "metadata": {
        "colab": {
          "base_uri": "https://localhost:8080/"
        },
        "id": "jMm5Bt_YjT_i",
        "outputId": "f3d00204-385d-46e0-9f1d-70255e431632"
      },
      "execution_count": null,
      "outputs": [
        {
          "output_type": "execute_result",
          "data": {
            "text/plain": [
              "-0.6238226696692614"
            ]
          },
          "metadata": {},
          "execution_count": 56
        }
      ]
    },
    {
      "cell_type": "markdown",
      "source": [
        "Obtivemos um skew negativo, o que nos permite afirmar que a distribuição apresenta uma assimetria à esquerda."
      ],
      "metadata": {
        "id": "FgoZi7T8jo3A"
      }
    },
    {
      "cell_type": "markdown",
      "source": [
        "Vamos analisar os quartis desses dados."
      ],
      "metadata": {
        "id": "5xbH3KWKkNOM"
      }
    },
    {
      "cell_type": "code",
      "source": [
        "# Exibindo o Q1, Q2 e Q3 dos dados\n",
        "np.quantile(dados, [0.25, 0.50, 0.75])"
      ],
      "metadata": {
        "colab": {
          "base_uri": "https://localhost:8080/"
        },
        "id": "Zqsc07v7kMkS",
        "outputId": "c597f765-b83b-4cb8-ffdb-66517f9aacce"
      },
      "execution_count": null,
      "outputs": [
        {
          "output_type": "execute_result",
          "data": {
            "text/plain": [
              "array([24.60181714, 29.21689811, 33.08845147])"
            ]
          },
          "metadata": {},
          "execution_count": 57
        }
      ]
    },
    {
      "cell_type": "markdown",
      "source": [
        "Utilizando o método de quantile, podemos determinar o percentil em que um determinado valor se encontra. Qual é o IMC que representa o percentil 90?"
      ],
      "metadata": {
        "id": "hj9T19jmldL7"
      }
    },
    {
      "cell_type": "code",
      "source": [
        "# Exibindo o quartil desejado\n",
        "np.quantile(dados, 0.90)"
      ],
      "metadata": {
        "colab": {
          "base_uri": "https://localhost:8080/"
        },
        "id": "zf6QtAlGl3Cv",
        "outputId": "02d11772-1669-4c72-ef6a-de4213398b73"
      },
      "execution_count": null,
      "outputs": [
        {
          "output_type": "execute_result",
          "data": {
            "text/plain": [
              "36.673671502026366"
            ]
          },
          "metadata": {},
          "execution_count": 62
        }
      ]
    },
    {
      "cell_type": "markdown",
      "source": [
        "Dessa forma, podemos observar que o valor do percentil 90 é de 36,6."
      ],
      "metadata": {
        "id": "KoUi3sJAq8gB"
      }
    },
    {
      "cell_type": "markdown",
      "source": [
        "Importante frisarmos que essa função utiliza a formula do Z calculado que é:\n",
        "\n",
        "- $Z = (x - μ) / σ$\n",
        "\n",
        "Onde:\n",
        "\n",
        "- Z é o valor Z calculado.\n",
        "- x é o valor da observação.\n",
        "- μ é a média da população.\n",
        "- σ é o desvio padrão da população."
      ],
      "metadata": {
        "id": "vyCp4aw9r_06"
      }
    },
    {
      "cell_type": "markdown",
      "source": [
        "Então, o cálculo ficaria da seguinte forma:\n",
        "\n",
        "- Primeiro vamos isolar o valor que queremos que é o X dito isso a formula vai ficar da seguinte maneira:\n",
        " - $X = (z * μ) + σ$\n",
        "\n",
        "- Para encontrar o valor de Z, consultamos a tabela Z e buscamos o valor referente ao percentil desejado, que neste caso é 0,90.\n",
        "\n",
        "Substituindo o valor de Z na fórmula original, obtemos:"
      ],
      "metadata": {
        "id": "00d9RiMzsU75"
      }
    },
    {
      "cell_type": "code",
      "source": [
        "# Aplicando a formula do z calculado\n",
        "x = (1.28 * desvio_imc) + media_imc\n",
        "\n",
        "# Observando o resultado\n",
        "x"
      ],
      "metadata": {
        "colab": {
          "base_uri": "https://localhost:8080/"
        },
        "id": "Vf6wCiCJsYk4",
        "outputId": "601d2406-cd8f-47b3-afb3-87ccab4a4262"
      },
      "execution_count": null,
      "outputs": [
        {
          "output_type": "execute_result",
          "data": {
            "text/plain": [
              "36.63141270027744"
            ]
          },
          "metadata": {},
          "execution_count": 66
        }
      ]
    },
    {
      "cell_type": "markdown",
      "source": [
        "O IMC correspondente ao percentil 90 é de 36,6, o mesmo resultado que obtivemos anteriormente."
      ],
      "metadata": {
        "id": "wfPtlL90z5a3"
      }
    },
    {
      "cell_type": "markdown",
      "source": [
        "## **Teorema do limite central**"
      ],
      "metadata": {
        "id": "Nt4YUnkrIeXX"
      }
    },
    {
      "cell_type": "markdown",
      "source": [
        "O Teorema do Limite Central (TLC) é um teorema fundamental em probabilidade e estatística que afirma que, sob condições específicas, a distribuição da média de uma grande quantidade de variáveis aleatórias independentes tende a ser uma distribuição normal, independentemente da distribuição original das variáveis.\n",
        "\n",
        "\n",
        "Basicamente a distribuição da média de uma grande quantidade de variáveis aleatórias independentes tende a ser uma distribuição normal, independentemente da distribuição original das variáveis."
      ],
      "metadata": {
        "id": "m-lOhKFrI40k"
      }
    },
    {
      "cell_type": "markdown",
      "source": [
        "Para exemplificarmos melhor, vamos primeiro realizar a importação das bibliotecas necessárias.\n",
        "\n"
      ],
      "metadata": {
        "id": "zEkhVJNPJHci"
      }
    },
    {
      "cell_type": "code",
      "source": [
        "# Manipulação de dados\n",
        "import pandas as pd\n",
        "\n",
        "# Algébra linear\n",
        "import numpy as np\n",
        "\n",
        "# Visualização de dados\n",
        "import seaborn as sns\n",
        "import matplotlib.pyplot as plt\n",
        "\n",
        "# Funções estatísticas\n",
        "import statistics\n",
        "import scipy.stats"
      ],
      "metadata": {
        "id": "hOIeS6TaJ8uW"
      },
      "execution_count": 1,
      "outputs": []
    },
    {
      "cell_type": "markdown",
      "source": [
        "Imagine que temos os seguintes dados e que a distribuição desses dados segue uma distribuição exponencial."
      ],
      "metadata": {
        "id": "7iftN6XwKPQ6"
      }
    },
    {
      "cell_type": "code",
      "source": [
        "# Criar uma distribuição original não normal (exponencial)\n",
        "dados_nao_normais = np.random.exponential(scale=5, size=30000)\n",
        "\n",
        "# Calculando a média dos dados gerados\n",
        "media_nao_normal = dados_nao_normais.mean()\n",
        "\n",
        "# Calculando o desvio padrão dos dados gerados\n",
        "desvio_nao_normal = dados_nao_normais.std()\n",
        "\n",
        "print(f\"A média é {media_nao_normal}\\nO desvio é {desvio_nao_normal}\")"
      ],
      "metadata": {
        "colab": {
          "base_uri": "https://localhost:8080/"
        },
        "id": "_h12jm-1Kz1G",
        "outputId": "ed876c8e-66d2-431c-a243-60e5e0192a1e"
      },
      "execution_count": 13,
      "outputs": [
        {
          "output_type": "stream",
          "name": "stdout",
          "text": [
            "A média é 4.988725839835605\n",
            "O desvio é 5.016822650220222\n"
          ]
        }
      ]
    },
    {
      "cell_type": "markdown",
      "source": [
        "Agora vamos observar a distribuição desses dados."
      ],
      "metadata": {
        "id": "qbXda96YLi5J"
      }
    },
    {
      "cell_type": "code",
      "source": [
        "# Gerando a distribuição\n",
        "sns.displot(dados_nao_normais, bins=30, edgecolor='black', color='red', alpha=0.7, kde = True)\n",
        "\n",
        "# Adicionando o título\n",
        "plt.title('Distribuição Original Não Normal (Exponencial)')\n",
        "\n",
        "# Exibindo o gráfico\n",
        "plt.tight_layout()\n",
        "plt.show()"
      ],
      "metadata": {
        "colab": {
          "base_uri": "https://localhost:8080/",
          "height": 506
        },
        "id": "5mtya-FzLlUw",
        "outputId": "4493af8a-3756-4375-c5a9-92d2374e0078"
      },
      "execution_count": 4,
      "outputs": [
        {
          "output_type": "display_data",
          "data": {
            "text/plain": [
              "<Figure size 500x500 with 1 Axes>"
            ],
            "image/png": "[encoded data removed]"
          },
          "metadata": {}
        }
      ]
    },
    {
      "cell_type": "markdown",
      "source": [
        "Esta distribuição é uma distribuição exponencial. Agora, vamos aplicar o teorema diretamente a ela."
      ],
      "metadata": {
        "id": "UVMTBiE_MPm0"
      }
    },
    {
      "cell_type": "markdown",
      "source": [
        "Lembremos que, de acordo com o teorema, para uma distribuição com pelo menos 30 dados, a distribuição da média das subamostras segue uma distribuição normal. Antes de testarmos com 30 amostras, vamos testar com 10 ."
      ],
      "metadata": {
        "id": "qIojLF-tM8xX"
      }
    },
    {
      "cell_type": "code",
      "source": [
        "# Escolher o tamanho da amostra\n",
        "tamanho_amostra = 10\n",
        "\n",
        "# Gerar várias amostras e calcular as médias\n",
        "num_amostras = 1000\n",
        "medias_amostrais_10 = []\n",
        "\n",
        "# Executando o loop referente ao número de amostras passadas\n",
        "for _ in range(num_amostras):\n",
        "\n",
        "  #  Gerando uma amostra aleatória\n",
        "    amostra = np.random.choice(dados_nao_normais, size=tamanho_amostra, replace=False)\n",
        "\n",
        "    # Calculando a média da amostra\n",
        "    media_amostral = np.mean(amostra)\n",
        "\n",
        "    # Adicionando a média nas variável 'media_amostral'\n",
        "    medias_amostrais_10.append(media_amostral)"
      ],
      "metadata": {
        "id": "Q9-SxRv-NSO0"
      },
      "execution_count": 12,
      "outputs": []
    },
    {
      "cell_type": "markdown",
      "source": [
        "Vamos observar essa distribuição com as 10 amostras."
      ],
      "metadata": {
        "id": "PEHwuKh6j4DF"
      }
    },
    {
      "cell_type": "code",
      "source": [
        "# Gerando a distribuição\n",
        "sns.displot(medias_amostrais_10, bins=30, edgecolor='black', color='green', alpha=0.7, kde = True)\n",
        "\n",
        "# Adicionando o título\n",
        "plt.title('Distribuição Original 10 amostras')\n",
        "\n",
        "# Exibindo o gráfico\n",
        "plt.tight_layout()\n",
        "plt.show()"
      ],
      "metadata": {
        "id": "PyFw2ZkKOEou",
        "colab": {
          "base_uri": "https://localhost:8080/",
          "height": 506
        },
        "outputId": "1ca31de9-64c8-4dd2-e768-8c82ca819139"
      },
      "execution_count": 51,
      "outputs": [
        {
          "output_type": "display_data",
          "data": {
            "text/plain": [
              "<Figure size 500x500 with 1 Axes>"
            ],
            "image/png": "[encoded data removed]"
          },
          "metadata": {}
        }
      ]
    },
    {
      "cell_type": "markdown",
      "source": [
        "Dessa forma podemos observar que a distribuição começa a se aproximar de uma normal, dessa vez vamos utilizar 30 amostras."
      ],
      "metadata": {
        "id": "dH9EgcZOkMIq"
      }
    },
    {
      "cell_type": "code",
      "source": [
        "# Escolher o tamanho da amostra\n",
        "tamanho_amostra = 30\n",
        "\n",
        "# Gerar várias amostras e calcular as médias\n",
        "num_amostras = 1000\n",
        "medias_amostrais_30 = []\n",
        "\n",
        "# Executando o loop referente ao número de amostras passadas\n",
        "for _ in range(num_amostras):\n",
        "\n",
        "  #  Gerando uma amostra aleatória\n",
        "    amostra = np.random.choice(dados_nao_normais, size=tamanho_amostra, replace=False)\n",
        "\n",
        "    # Calculando a média da amostra\n",
        "    media_amostral = np.mean(amostra)\n",
        "\n",
        "    # Adicionando a média nas variável 'media_amostral'\n",
        "    medias_amostrais_30.append(media_amostral)"
      ],
      "metadata": {
        "id": "Gj3-oOcbkhFw"
      },
      "execution_count": 11,
      "outputs": []
    },
    {
      "cell_type": "markdown",
      "source": [
        "Realizaremos o mesmo procedimento, porém, desta vez, utilizaremos 100 amostras."
      ],
      "metadata": {
        "id": "fz8Jo8apq3ph"
      }
    },
    {
      "cell_type": "code",
      "source": [
        "# Escolher o tamanho da amostra\n",
        "tamanho_amostra = 100\n",
        "\n",
        "# Gerar várias amostras e calcular as médias\n",
        "num_amostras = 1000\n",
        "medias_amostrais_100 = []\n",
        "\n",
        "# Executando o loop referente ao número de amostras passadas\n",
        "for _ in range(num_amostras):\n",
        "\n",
        "  #  Gerando uma amostra aleatória\n",
        "    amostra = np.random.choice(dados_nao_normais, size=tamanho_amostra, replace=False)\n",
        "\n",
        "    # Calculando a média da amostra\n",
        "    media_amostral = np.mean(amostra)\n",
        "\n",
        "    # Adicionando a média nas variável 'media_amostral'\n",
        "    medias_amostrais_100.append(media_amostral)"
      ],
      "metadata": {
        "id": "dze67e1oq8nX"
      },
      "execution_count": 42,
      "outputs": []
    },
    {
      "cell_type": "markdown",
      "source": [
        "Agora, vamos realizar um comparativo entre essas 4 amostras."
      ],
      "metadata": {
        "id": "MyCxYTtBp8D4"
      }
    },
    {
      "cell_type": "code",
      "source": [
        "# Plotar o histograma das médias amostrais\n",
        "plt.figure(figsize=(18, 5))\n",
        "\n",
        "# Plotar a distribuição original não normal\n",
        "plt.subplot(1, 4, 1)\n",
        "sns.histplot(dados_nao_normais, bins=30, edgecolor='black', color='red', alpha=0.7, kde = True)\n",
        "plt.title('Distribuição Original Não Normal (Exponencial)')\n",
        "\n",
        "# Plotar o histograma das médias amostrais 10\n",
        "plt.subplot(1, 4, 2)\n",
        "sns.histplot(medias_amostrais_10, bins=30, edgecolor='black', color='green', alpha=0.7, kde = True)\n",
        "plt.title('Distribuição Original 10 amostras')\n",
        "\n",
        "# Plotar o histograma das médias amostrais 30\n",
        "plt.subplot(1, 4, 3)\n",
        "sns.histplot(medias_amostrais_30, bins=30, edgecolor='black', color='blue', alpha=0.7, kde = True)\n",
        "plt.title('Distribuição Original 30 amostras')\n",
        "\n",
        "# Plotar o histograma das médias amostrais 50\n",
        "plt.subplot(1, 4, 4)\n",
        "sns.histplot(medias_amostrais_100, bins=30, edgecolor='black', color='purple', alpha=0.7, kde = True)\n",
        "plt.title('Distribuição Original 100 amostras')\n",
        "\n",
        "# Exibindo e ajustando os gráficos\n",
        "plt.tight_layout()\n",
        "plt.show()"
      ],
      "metadata": {
        "colab": {
          "base_uri": "https://localhost:8080/",
          "height": 507
        },
        "id": "FCnwZCYqkqLf",
        "outputId": "9e15822d-f086-4327-ced5-18a636409f6a"
      },
      "execution_count": 50,
      "outputs": [
        {
          "output_type": "display_data",
          "data": {
            "text/plain": [
              "<Figure size 1800x500 with 4 Axes>"
            ],
            "image/png": "[encoded data removed]"
          },
          "metadata": {}
        }
      ]
    },
    {
      "cell_type": "markdown",
      "source": [
        "Portanto, podemos confirmar que quanto maior o número de amostras, mais a distribuição se aproxima de uma normal, corroborando o Teorema do Limite Central."
      ],
      "metadata": {
        "id": "sEMxFn19r9uh"
      }
    },
    {
      "cell_type": "markdown",
      "source": [
        "## **Transformações**"
      ],
      "metadata": {
        "id": "y_P4cnevugwF"
      }
    },
    {
      "cell_type": "markdown",
      "source": [
        "Levando em consideração que a gente queira obter a probabilidade de algumas medidas amostrais podemos utilizar o teorema do limite central, mas caso precisemos de outras medidas será necessario recorrer a outra tecnica como a tranformação das observações visando obter uma distribuição semetrica e por consequencia mais proxima a uma normal"
      ],
      "metadata": {
        "id": "pKXJ48lAuwf7"
      }
    },
    {
      "cell_type": "markdown",
      "source": [
        "### **Tranformação de log**"
      ],
      "metadata": {
        "id": "ORrYBSidv0t0"
      }
    },
    {
      "cell_type": "markdown",
      "source": [
        "Na transformação Log cada variável de x será substituída por log(x) com base\n",
        "10, base 2 ou log natural."
      ],
      "metadata": {
        "id": "VInBbTHPv9Ry"
      }
    },
    {
      "cell_type": "markdown",
      "source": [
        "Vamos aplicar essa transformação em uma variavel na base de dados que trabalhamos com estatistica descritiva"
      ],
      "metadata": {
        "id": "ctVonGOKxXkC"
      }
    },
    {
      "cell_type": "code",
      "source": [
        "# Acesso ao drive\n",
        "from google.colab import drive\n",
        "drive.mount('/content/drive')"
      ],
      "metadata": {
        "colab": {
          "base_uri": "https://localhost:8080/"
        },
        "id": "UX5YQXclwDbi",
        "outputId": "97ff89f1-604e-47b5-fe52-46a219285ef4"
      },
      "execution_count": 64,
      "outputs": [
        {
          "output_type": "stream",
          "name": "stdout",
          "text": [
            "Mounted at /content/drive\n"
          ]
        }
      ]
    },
    {
      "cell_type": "code",
      "source": [
        "# Importando o dataset\n",
        "df = pd.read_csv('/content/drive/MyDrive/Estatística para ciência de dados/house_price.csv')\n",
        "\n",
        "# Observando os primeiros registros\n",
        "df.head()"
      ],
      "metadata": {
        "colab": {
          "base_uri": "https://localhost:8080/",
          "height": 206
        },
        "id": "Z9-tMGPyxntu",
        "outputId": "31793f09-3058-49dd-d070-1e5392d47477"
      },
      "execution_count": 65,
      "outputs": [
        {
          "output_type": "execute_result",
          "data": {
            "text/plain": [
              "   Unnamed: 0  SalePrice  OverallQual  OverallCond  BedroomAbvGr  \\\n",
              "0           0     208500            7            5             3   \n",
              "1           1     181500            6            8             3   \n",
              "2           2     223500            7            5             3   \n",
              "3           3     140000            7            5             3   \n",
              "4           4     250000            8            5             4   \n",
              "\n",
              "   TotRmsAbvGrd  GrLivArea  TotalBsmtSF  YearBuilt MSZoning Utilities BldgType  \n",
              "0             8       1710          856       2003       RL    AllPub     1Fam  \n",
              "1             6       1262         1262       1976       RL    AllPub     1Fam  \n",
              "2             6       1786          920       2001       RL    AllPub     1Fam  \n",
              "3             7       1717          756       1915       RL    AllPub     1Fam  \n",
              "4             9       2198         1145       2000       RL    AllPub     1Fam  "
            ],
            "text/html": [
              "\n",
              "  <div id=\"df-d0a1064a-26b8-4aaa-b2bc-3010986856d5\" class=\"colab-df-container\">\n",
              "    <div>\n",
              "<style scoped>\n",
              "    .dataframe tbody tr th:only-of-type {\n",
              "        vertical-align: middle;\n",
              "    }\n",
              "\n",
              "    .dataframe tbody tr th {\n",
              "        vertical-align: top;\n",
              "    }\n",
              "\n",
              "    .dataframe thead th {\n",
              "        text-align: right;\n",
              "    }\n",
              "</style>\n",
              "<table border=\"1\" class=\"dataframe\">\n",
              "  <thead>\n",
              "    <tr style=\"text-align: right;\">\n",
              "      <th></th>\n",
              "      <th>Unnamed: 0</th>\n",
              "      <th>SalePrice</th>\n",
              "      <th>OverallQual</th>\n",
              "      <th>OverallCond</th>\n",
              "      <th>BedroomAbvGr</th>\n",
              "      <th>TotRmsAbvGrd</th>\n",
              "      <th>GrLivArea</th>\n",
              "      <th>TotalBsmtSF</th>\n",
              "      <th>YearBuilt</th>\n",
              "      <th>MSZoning</th>\n",
              "      <th>Utilities</th>\n",
              "      <th>BldgType</th>\n",
              "    </tr>\n",
              "  </thead>\n",
              "  <tbody>\n",
              "    <tr>\n",
              "      <th>0</th>\n",
              "      <td>0</td>\n",
              "      <td>208500</td>\n",
              "      <td>7</td>\n",
              "      <td>5</td>\n",
              "      <td>3</td>\n",
              "      <td>8</td>\n",
              "      <td>1710</td>\n",
              "      <td>856</td>\n",
              "      <td>2003</td>\n",
              "      <td>RL</td>\n",
              "      <td>AllPub</td>\n",
              "      <td>1Fam</td>\n",
              "    </tr>\n",
              "    <tr>\n",
              "      <th>1</th>\n",
              "      <td>1</td>\n",
              "      <td>181500</td>\n",
              "      <td>6</td>\n",
              "      <td>8</td>\n",
              "      <td>3</td>\n",
              "      <td>6</td>\n",
              "      <td>1262</td>\n",
              "      <td>1262</td>\n",
              "      <td>1976</td>\n",
              "      <td>RL</td>\n",
              "      <td>AllPub</td>\n",
              "      <td>1Fam</td>\n",
              "    </tr>\n",
              "    <tr>\n",
              "      <th>2</th>\n",
              "      <td>2</td>\n",
              "      <td>223500</td>\n",
              "      <td>7</td>\n",
              "      <td>5</td>\n",
              "      <td>3</td>\n",
              "      <td>6</td>\n",
              "      <td>1786</td>\n",
              "      <td>920</td>\n",
              "      <td>2001</td>\n",
              "      <td>RL</td>\n",
              "      <td>AllPub</td>\n",
              "      <td>1Fam</td>\n",
              "    </tr>\n",
              "    <tr>\n",
              "      <th>3</th>\n",
              "      <td>3</td>\n",
              "      <td>140000</td>\n",
              "      <td>7</td>\n",
              "      <td>5</td>\n",
              "      <td>3</td>\n",
              "      <td>7</td>\n",
              "      <td>1717</td>\n",
              "      <td>756</td>\n",
              "      <td>1915</td>\n",
              "      <td>RL</td>\n",
              "      <td>AllPub</td>\n",
              "      <td>1Fam</td>\n",
              "    </tr>\n",
              "    <tr>\n",
              "      <th>4</th>\n",
              "      <td>4</td>\n",
              "      <td>250000</td>\n",
              "      <td>8</td>\n",
              "      <td>5</td>\n",
              "      <td>4</td>\n",
              "      <td>9</td>\n",
              "      <td>2198</td>\n",
              "      <td>1145</td>\n",
              "      <td>2000</td>\n",
              "      <td>RL</td>\n",
              "      <td>AllPub</td>\n",
              "      <td>1Fam</td>\n",
              "    </tr>\n",
              "  </tbody>\n",
              "</table>\n",
              "</div>\n",
              "    <div class=\"colab-df-buttons\">\n",
              "\n",
              "  <div class=\"colab-df-container\">\n",
              "    <button class=\"colab-df-convert\" onclick=\"convertToInteractive('df-d0a1064a-26b8-4aaa-b2bc-3010986856d5')\"\n",
              "            title=\"Convert this dataframe to an interactive table.\"\n",
              "            style=\"display:none;\">\n",
              "\n",
              "  <svg xmlns=\"http://www.w3.org/2000/svg\" height=\"24px\" viewBox=\"0 -960 960 960\">\n",
              "    <path d=\"M120-120v-720h720v720H120Zm60-500h600v-160H180v160Zm220 220h160v-160H400v160Zm0 220h160v-160H400v160ZM180-400h160v-160H180v160Zm440 0h160v-160H620v160ZM180-180h160v-160H180v160Zm440 0h160v-160H620v160Z\"/>\n",
              "  </svg>\n",
              "    </button>\n",
              "\n",
              "  <style>\n",
              "    .colab-df-container {\n",
              "      display:flex;\n",
              "      gap: 12px;\n",
              "    }\n",
              "\n",
              "    .colab-df-convert {\n",
              "      background-color: #E8F0FE;\n",
              "      border: none;\n",
              "      border-radius: 50%;\n",
              "      cursor: pointer;\n",
              "      display: none;\n",
              "      fill: #1967D2;\n",
              "      height: 32px;\n",
              "      padding: 0 0 0 0;\n",
              "      width: 32px;\n",
              "    }\n",
              "\n",
              "    .colab-df-convert:hover {\n",
              "      background-color: #E2EBFA;\n",
              "      box-shadow: 0px 1px 2px rgba(60, 64, 67, 0.3), 0px 1px 3px 1px rgba(60, 64, 67, 0.15);\n",
              "      fill: #174EA6;\n",
              "    }\n",
              "\n",
              "    .colab-df-buttons div {\n",
              "      margin-bottom: 4px;\n",
              "    }\n",
              "\n",
              "    [theme=dark] .colab-df-convert {\n",
              "      background-color: #3B4455;\n",
              "      fill: #D2E3FC;\n",
              "    }\n",
              "\n",
              "    [theme=dark] .colab-df-convert:hover {\n",
              "      background-color: #434B5C;\n",
              "      box-shadow: 0px 1px 3px 1px rgba(0, 0, 0, 0.15);\n",
              "      filter: drop-shadow(0px 1px 2px rgba(0, 0, 0, 0.3));\n",
              "      fill: #FFFFFF;\n",
              "    }\n",
              "  </style>\n",
              "\n",
              "    <script>\n",
              "      const buttonEl =\n",
              "        document.querySelector('#df-d0a1064a-26b8-4aaa-b2bc-3010986856d5 button.colab-df-convert');\n",
              "      buttonEl.style.display =\n",
              "        google.colab.kernel.accessAllowed ? 'block' : 'none';\n",
              "\n",
              "      async function convertToInteractive(key) {\n",
              "        const element = document.querySelector('#df-d0a1064a-26b8-4aaa-b2bc-3010986856d5');\n",
              "        const dataTable =\n",
              "          await google.colab.kernel.invokeFunction('convertToInteractive',\n",
              "                                                    [key], {});\n",
              "        if (!dataTable) return;\n",
              "\n",
              "        const docLinkHtml = 'Like what you see? Visit the ' +\n",
              "          '<a target=\"_blank\" href=https://colab.research.google.com/notebooks/data_table.ipynb>data table notebook</a>'\n",
              "          + ' to learn more about interactive tables.';\n",
              "        element.innerHTML = '';\n",
              "        dataTable['output_type'] = 'display_data';\n",
              "        await google.colab.output.renderOutput(dataTable, element);\n",
              "        const docLink = document.createElement('div');\n",
              "        docLink.innerHTML = docLinkHtml;\n",
              "        element.appendChild(docLink);\n",
              "      }\n",
              "    </script>\n",
              "  </div>\n",
              "\n",
              "\n",
              "<div id=\"df-aac3d5d4-cd02-4388-a91c-8ee5ca9bfd41\">\n",
              "  <button class=\"colab-df-quickchart\" onclick=\"quickchart('df-aac3d5d4-cd02-4388-a91c-8ee5ca9bfd41')\"\n",
              "            title=\"Suggest charts\"\n",
              "            style=\"display:none;\">\n",
              "\n",
              "<svg xmlns=\"http://www.w3.org/2000/svg\" height=\"24px\"viewBox=\"0 0 24 24\"\n",
              "     width=\"24px\">\n",
              "    <g>\n",
              "        <path d=\"M19 3H5c-1.1 0-2 .9-2 2v14c0 1.1.9 2 2 2h14c1.1 0 2-.9 2-2V5c0-1.1-.9-2-2-2zM9 17H7v-7h2v7zm4 0h-2V7h2v10zm4 0h-2v-4h2v4z\"/>\n",
              "    </g>\n",
              "</svg>\n",
              "  </button>\n",
              "\n",
              "<style>\n",
              "  .colab-df-quickchart {\n",
              "      --bg-color: #E8F0FE;\n",
              "      --fill-color: #1967D2;\n",
              "      --hover-bg-color: #E2EBFA;\n",
              "      --hover-fill-color: #174EA6;\n",
              "      --disabled-fill-color: #AAA;\n",
              "      --disabled-bg-color: #DDD;\n",
              "  }\n",
              "\n",
              "  [theme=dark] .colab-df-quickchart {\n",
              "      --bg-color: #3B4455;\n",
              "      --fill-color: #D2E3FC;\n",
              "      --hover-bg-color: #434B5C;\n",
              "      --hover-fill-color: #FFFFFF;\n",
              "      --disabled-bg-color: #3B4455;\n",
              "      --disabled-fill-color: #666;\n",
              "  }\n",
              "\n",
              "  .colab-df-quickchart {\n",
              "    background-color: var(--bg-color);\n",
              "    border: none;\n",
              "    border-radius: 50%;\n",
              "    cursor: pointer;\n",
              "    display: none;\n",
              "    fill: var(--fill-color);\n",
              "    height: 32px;\n",
              "    padding: 0;\n",
              "    width: 32px;\n",
              "  }\n",
              "\n",
              "  .colab-df-quickchart:hover {\n",
              "    background-color: var(--hover-bg-color);\n",
              "    box-shadow: 0 1px 2px rgba(60, 64, 67, 0.3), 0 1px 3px 1px rgba(60, 64, 67, 0.15);\n",
              "    fill: var(--button-hover-fill-color);\n",
              "  }\n",
              "\n",
              "  .colab-df-quickchart-complete:disabled,\n",
              "  .colab-df-quickchart-complete:disabled:hover {\n",
              "    background-color: var(--disabled-bg-color);\n",
              "    fill: var(--disabled-fill-color);\n",
              "    box-shadow: none;\n",
              "  }\n",
              "\n",
              "  .colab-df-spinner {\n",
              "    border: 2px solid var(--fill-color);\n",
              "    border-color: transparent;\n",
              "    border-bottom-color: var(--fill-color);\n",
              "    animation:\n",
              "      spin 1s steps(1) infinite;\n",
              "  }\n",
              "\n",
              "  @keyframes spin {\n",
              "    0% {\n",
              "      border-color: transparent;\n",
              "      border-bottom-color: var(--fill-color);\n",
              "      border-left-color: var(--fill-color);\n",
              "    }\n",
              "    20% {\n",
              "      border-color: transparent;\n",
              "      border-left-color: var(--fill-color);\n",
              "      border-top-color: var(--fill-color);\n",
              "    }\n",
              "    30% {\n",
              "      border-color: transparent;\n",
              "      border-left-color: var(--fill-color);\n",
              "      border-top-color: var(--fill-color);\n",
              "      border-right-color: var(--fill-color);\n",
              "    }\n",
              "    40% {\n",
              "      border-color: transparent;\n",
              "      border-right-color: var(--fill-color);\n",
              "      border-top-color: var(--fill-color);\n",
              "    }\n",
              "    60% {\n",
              "      border-color: transparent;\n",
              "      border-right-color: var(--fill-color);\n",
              "    }\n",
              "    80% {\n",
              "      border-color: transparent;\n",
              "      border-right-color: var(--fill-color);\n",
              "      border-bottom-color: var(--fill-color);\n",
              "    }\n",
              "    90% {\n",
              "      border-color: transparent;\n",
              "      border-bottom-color: var(--fill-color);\n",
              "    }\n",
              "  }\n",
              "</style>\n",
              "\n",
              "  <script>\n",
              "    async function quickchart(key) {\n",
              "      const quickchartButtonEl =\n",
              "        document.querySelector('#' + key + ' button');\n",
              "      quickchartButtonEl.disabled = true;  // To prevent multiple clicks.\n",
              "      quickchartButtonEl.classList.add('colab-df-spinner');\n",
              "      try {\n",
              "        const charts = await google.colab.kernel.invokeFunction(\n",
              "            'suggestCharts', [key], {});\n",
              "      } catch (error) {\n",
              "        console.error('Error during call to suggestCharts:', error);\n",
              "      }\n",
              "      quickchartButtonEl.classList.remove('colab-df-spinner');\n",
              "      quickchartButtonEl.classList.add('colab-df-quickchart-complete');\n",
              "    }\n",
              "    (() => {\n",
              "      let quickchartButtonEl =\n",
              "        document.querySelector('#df-aac3d5d4-cd02-4388-a91c-8ee5ca9bfd41 button');\n",
              "      quickchartButtonEl.style.display =\n",
              "        google.colab.kernel.accessAllowed ? 'block' : 'none';\n",
              "    })();\n",
              "  </script>\n",
              "</div>\n",
              "\n",
              "    </div>\n",
              "  </div>\n"
            ]
          },
          "metadata": {},
          "execution_count": 65
        }
      ]
    },
    {
      "cell_type": "markdown",
      "source": [
        "Vamos observar a distribuição da variavel 'SalePrice'"
      ],
      "metadata": {
        "id": "1ftrTd0wxv_l"
      }
    },
    {
      "cell_type": "code",
      "source": [
        "# Observando a distribuição\n",
        "sns.displot(df['SalePrice'], kde = True)\n",
        "\n",
        "plt.title(\"Variável original\");"
      ],
      "metadata": {
        "colab": {
          "base_uri": "https://localhost:8080/",
          "height": 529
        },
        "id": "-Xtl4SYOwMJy",
        "outputId": "6cec1476-cfb1-4c8e-eb0c-0366b23cace4"
      },
      "execution_count": 77,
      "outputs": [
        {
          "output_type": "display_data",
          "data": {
            "text/plain": [
              "<Figure size 500x500 with 1 Axes>"
            ],
            "image/png": "[encoded data removed]"
          },
          "metadata": {}
        }
      ]
    },
    {
      "cell_type": "markdown",
      "source": [
        "Podemos observar que essa distribuição esta bem longe de ser uma distribuição normal, mas vamos calcular o seu skew para compararmos os resultados apos a tranformação"
      ],
      "metadata": {
        "id": "IYCzbf8vySJB"
      }
    },
    {
      "cell_type": "code",
      "source": [
        "# Importando o skew\n",
        "from scipy.stats import skew\n",
        "\n",
        "# Verificando assimetria\n",
        "skew(df['SalePrice'])"
      ],
      "metadata": {
        "colab": {
          "base_uri": "https://localhost:8080/"
        },
        "id": "lLCWvcI8zbUZ",
        "outputId": "e903d69d-d1e4-4fac-ea24-8944873c8c86"
      },
      "execution_count": 73,
      "outputs": [
        {
          "output_type": "execute_result",
          "data": {
            "text/plain": [
              "1.880940746034036"
            ]
          },
          "metadata": {},
          "execution_count": 73
        }
      ]
    },
    {
      "cell_type": "markdown",
      "source": [
        "Podemos observar um skew positivo e uma  assimetria a direita essa distribuição esta bem longe de ser uma normal, dito isso vamos aplicar a tranformação utilizando o log"
      ],
      "metadata": {
        "id": "t6EvhYwezhfI"
      }
    },
    {
      "cell_type": "code",
      "source": [
        "# Aplicando a transformação\n",
        "df[\"log_SalePrice\"] = np.log(df['SalePrice'])"
      ],
      "metadata": {
        "id": "jeEsvvWiwRzR"
      },
      "execution_count": 68,
      "outputs": []
    },
    {
      "cell_type": "markdown",
      "source": [
        "Agora vamos observar como ficou a distribuição dessa variavel apos a tranformação"
      ],
      "metadata": {
        "id": "EvB_n2nYyhwH"
      }
    },
    {
      "cell_type": "code",
      "source": [
        "# Observando a distribuição\n",
        "sns.displot(df['log_SalePrice'], kde = True)\n",
        "\n",
        "plt.title(\"Variável transformada\");"
      ],
      "metadata": {
        "colab": {
          "base_uri": "https://localhost:8080/",
          "height": 529
        },
        "id": "hUI6cKKXyrzm",
        "outputId": "246f0d40-285c-4fcc-ab22-90ec418c62ec"
      },
      "execution_count": 76,
      "outputs": [
        {
          "output_type": "display_data",
          "data": {
            "text/plain": [
              "<Figure size 500x500 with 1 Axes>"
            ],
            "image/png": "[encoded data removed]"
          },
          "metadata": {}
        }
      ]
    },
    {
      "cell_type": "markdown",
      "source": [
        "Podemos observar logo de cara que essa distribuição aparenta estar bem mais proxima de uma normal, vamos calcular o seu skew para termos certeza"
      ],
      "metadata": {
        "id": "xVrjQiKIzr3w"
      }
    },
    {
      "cell_type": "code",
      "source": [
        "# Verificando assimetria\n",
        "skew(df['log_SalePrice'])"
      ],
      "metadata": {
        "colab": {
          "base_uri": "https://localhost:8080/"
        },
        "id": "SFGllnH-zypm",
        "outputId": "77761846-9c87-4967-9c42-0c7cb1d4af87"
      },
      "execution_count": 74,
      "outputs": [
        {
          "output_type": "execute_result",
          "data": {
            "text/plain": [
              "0.1212103673013655"
            ]
          },
          "metadata": {},
          "execution_count": 74
        }
      ]
    },
    {
      "cell_type": "markdown",
      "source": [
        "Obtivemos um skew bem mais baixo, que a variavel sem tranformação, logo podemos confirmar a nossa suspeita inicial de que realmente essa variavel está bem proximo de uma normal"
      ],
      "metadata": {
        "id": "kC-u2_lZ0ABN"
      }
    }
  ]
}