{
  "nbformat": 4,
  "nbformat_minor": 0,
  "metadata": {
    "colab": {
      "provenance": [],
      "authorship_tag": "ABX9TyPMFouRRLwyDcD/eysBXUeQ",
      "include_colab_link": true
    },
    "kernelspec": {
      "name": "python3",
      "display_name": "Python 3"
    },
    "language_info": {
      "name": "python"
    }
  },
  "cells": [
    {
      "cell_type": "markdown",
      "metadata": {
        "id": "view-in-github",
        "colab_type": "text"
      },
      "source": [
        "<a href=\"https://colab.research.google.com/github/JosenildoJunior/StatPyDataScience/blob/main/Probabilidade_e_distribui%C3%A7%C3%A3o.ipynb\" target=\"_parent\"><img src=\"https://colab.research.google.com/assets/colab-badge.svg\" alt=\"Open In Colab\"/></a>"
      ]
    },
    {
      "cell_type": "markdown",
      "source": [
        "# Estatística com Python: Um Guia para Estudos e Solução de Problemas"
      ],
      "metadata": {
        "id": "t7bMsgTvIqRt"
      }
    },
    {
      "cell_type": "markdown",
      "source": [
        "## **Probabilidade e distribuição**"
      ],
      "metadata": {
        "id": "3NsHpbK4TAQA"
      }
    },
    {
      "cell_type": "markdown",
      "source": [
        "## Breve resumo:\n",
        "\n",
        "Probabilidade é a medida da chance de um evento ocorrer. Distribuição é a descrição da probabilidade de diferentes valores de uma variável.\n",
        "\n",
        "\n",
        "\n",
        "\n"
      ],
      "metadata": {
        "id": "oDvtY17HSa6D"
      }
    },
    {
      "cell_type": "markdown",
      "source": [
        "## **Probabilidade**"
      ],
      "metadata": {
        "id": "OgcZ6k_LXeLW"
      }
    },
    {
      "cell_type": "markdown",
      "source": [
        "\n",
        "\n",
        "A probabilidade de um evento pode ser calculada usando a seguinte fórmula:\n",
        "\n",
        "- P(A) = n(A) / n(S)\n",
        "\n",
        "Onde:\n",
        "\n",
        "- P(A) é a probabilidade do evento A ocorrer\n",
        "- n(A) é o número de resultados possíveis em que o evento A ocorre\n",
        "- n(S) é o número total de resultados possíveis"
      ],
      "metadata": {
        "id": "ZZLsRyP0Xcw_"
      }
    },
    {
      "cell_type": "markdown",
      "source": [
        "Agora que temos um conceito basico sobre probabilidade vamos, observar alguns exercicios e ir avançando no asunto conforme os exercicios vão exigindo isso"
      ],
      "metadata": {
        "id": "Cwxa8w50XqiF"
      }
    },
    {
      "cell_type": "markdown",
      "source": [
        "### **Exercicio**"
      ],
      "metadata": {
        "id": "qgMFI35sXx2V"
      }
    },
    {
      "cell_type": "markdown",
      "source": [
        "Um dado justo de seis faces é lançado duas vezes. Qual é a probabilidade de obter um número par no primeiro lançamento e um número ímpar no segundo lançamento?"
      ],
      "metadata": {
        "id": "soaz2IWRX1pL"
      }
    },
    {
      "cell_type": "markdown",
      "source": [
        "Resposta: Existem 3 possiveis resultados em que o valor do dado seja par e 3 possibilidade em que o valor seja impar, sabendo disso vamos aplicar a formula da probabilidade independente que é:\n",
        "\n",
        "- $P(A ∩ B) = P(A) * P(B)$"
      ],
      "metadata": {
        "id": "eltsAcJFYoQV"
      }
    },
    {
      "cell_type": "code",
      "source": [
        "# Faces do dados\n",
        "dado = [1, 2, 3, 4, 5, 6]\n",
        "\n",
        "# Realizando o\n",
        "prob = (3/6 * 3/6) * 100\n",
        "\n",
        "print(f\"A probabilidade de obter um número par no primeiro e um ímpar no segundo é de {prob}%\")"
      ],
      "metadata": {
        "colab": {
          "base_uri": "https://localhost:8080/"
        },
        "id": "H8Vc7_3ZX3zM",
        "outputId": "f06fc6e0-330e-4f00-e781-58b2657e9f74"
      },
      "execution_count": 2,
      "outputs": [
        {
          "output_type": "stream",
          "name": "stdout",
          "text": [
            "A probabilidade de obter um número par no primeiro e um ímpar no segundo é de 25.0%\n"
          ]
        }
      ]
    },
    {
      "cell_type": "markdown",
      "source": [
        "Um dado honesto é lançado repetidamente até que um número maior que 4 seja observado. Qual é a probabilidade de você precisar de 4 jogadas para obter um número maior que 4?"
      ],
      "metadata": {
        "id": "KrgJJBokZ37D"
      }
    },
    {
      "cell_type": "code",
      "source": [
        "# Em breve!!"
      ],
      "metadata": {
        "id": "QfNu5Wf1jVg2"
      },
      "execution_count": null,
      "outputs": []
    },
    {
      "cell_type": "markdown",
      "source": [
        "## **Distribuição**"
      ],
      "metadata": {
        "id": "RUK3OwyoXWbw"
      }
    },
    {
      "cell_type": "markdown",
      "source": [
        "\n",
        "\n",
        "Uma distribuição é uma descrição da probabilidade de diferentes valores de uma variável. Existem muitos tipos diferentes de distribuições, incluindo:\n",
        "\n",
        "- Distribuição uniforme: Uma distribuição uniforme é uma distribuição em que todos os valores têm a mesma probabilidade de ocorrer.\n",
        "\n",
        "\n",
        "- Distribuição normal: Uma distribuição normal é uma distribuição em forma de sino que é frequentemente usada para modelar dados reais.\n",
        "\n",
        "\n",
        "- Distribuição binomial: Uma distribuição binomial é uma distribuição que descreve o número de sucessos em uma série de tentativas independentes.\n",
        "\n",
        "- Distribuição de Poisson: Uma distribuição de Poisson é uma distribuição que descreve o número de eventos que ocorrem em um intervalo de tempo fixo."
      ],
      "metadata": {
        "id": "lOiE_IWlXY8X"
      }
    },
    {
      "cell_type": "code",
      "execution_count": null,
      "metadata": {
        "id": "xPhUy-aXIotG"
      },
      "outputs": [],
      "source": []
    }
  ]
}