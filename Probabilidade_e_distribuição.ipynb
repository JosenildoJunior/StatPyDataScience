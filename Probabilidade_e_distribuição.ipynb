{
  "nbformat": 4,
  "nbformat_minor": 0,
  "metadata": {
    "colab": {
      "provenance": [],
      "collapsed_sections": [
        "OgcZ6k_LXeLW",
        "lBEEi3wijfd7",
        "2LOPp2zvjhlD",
        "6DxZg4eWSUk5",
        "BmsQWHjodpu8",
        "aOl22r6sp_9K",
        "wII_oTqXO1fE",
        "2VCu4lrQeWUg",
        "ngTRec0kiiJZ",
        "l4pl2z9ajEpl",
        "XWLndazJjcoU",
        "mtYZsAF0gnY4",
        "otxJgJ5Fj6ii",
        "Hyu0iiLGg7Bt",
        "znUIfWU2lial"
      ],
      "authorship_tag": "ABX9TyMS4EInZa60wPWUM7Npi9TB",
      "include_colab_link": true
    },
    "kernelspec": {
      "name": "python3",
      "display_name": "Python 3"
    },
    "language_info": {
      "name": "python"
    }
  },
  "cells": [
    {
      "cell_type": "markdown",
      "metadata": {
        "id": "view-in-github",
        "colab_type": "text"
      },
      "source": [
        "<a href=\"https://colab.research.google.com/github/JosenildoJunior/StatPyDataScience/blob/main/Probabilidade_e_distribui%C3%A7%C3%A3o.ipynb\" target=\"_parent\"><img src=\"https://colab.research.google.com/assets/colab-badge.svg\" alt=\"Open In Colab\"/></a>"
      ]
    },
    {
      "cell_type": "markdown",
      "source": [
        "# Estatística com Python: Um Guia para Estudos e Solução de Problemas"
      ],
      "metadata": {
        "id": "t7bMsgTvIqRt"
      }
    },
    {
      "cell_type": "markdown",
      "source": [
        "## **Probabilidade e distribuição**"
      ],
      "metadata": {
        "id": "3NsHpbK4TAQA"
      }
    },
    {
      "cell_type": "markdown",
      "source": [
        "## **Probabilidade**"
      ],
      "metadata": {
        "id": "OgcZ6k_LXeLW"
      }
    },
    {
      "cell_type": "markdown",
      "source": [
        "A probabilidade é a chance de algo acontecer. Podemos pensar em probabilidade como uma medida de incerteza. Quanto maior a probabilidade, mais provável é que algo aconteça.\n",
        "\n",
        "Para calcular a probabilidade de um evento, podemos utilizar a seguinte fórmula:\n",
        "\n",
        "- $P(A) = n(A) / n(S)$\n",
        "\n",
        "Onde:\n",
        "\n",
        "- P(A) é a probabilidade do evento A ocorrer\n",
        "- n(A) é o número de resultados possíveis em que o evento A ocorre\n",
        "- n(S) é o número total de resultados possíveis"
      ],
      "metadata": {
        "id": "ZZLsRyP0Xcw_"
      }
    },
    {
      "cell_type": "markdown",
      "source": [
        "### **Eventos**"
      ],
      "metadata": {
        "id": "lBEEi3wijfd7"
      }
    },
    {
      "cell_type": "markdown",
      "source": [
        "#### Em probabilidade, eventos **independentes** são eventos em que a ocorrência de um evento não afeta a probabilidade de ocorrência de outro evento. Para realizar os cálculos de eventos independentes, utilizamos a seguinte fórmula:\n",
        "\n",
        "- $P(A ∩ B) = P(A) * P(B)$\n",
        "\n",
        "\n"
      ],
      "metadata": {
        "id": "2LOPp2zvjhlD"
      }
    },
    {
      "cell_type": "markdown",
      "source": [
        "**Exercício**: Um dado justo de seis faces é lançado duas vezes. Qual é a probabilidade de obter um número par no primeiro lançamento e um número ímpar no segundo lançamento?"
      ],
      "metadata": {
        "id": "soaz2IWRX1pL"
      }
    },
    {
      "cell_type": "markdown",
      "source": [
        "**Resposta:** Existem 3 possibilidades de resultados em que o valor do dado seja par e 3 possibilidades de resultados em que o valor seja ímpar. Sabendo disso, vamos aplicar a fórmula da probabilidade independente, que é:\n",
        "\n",
        "- $P(A ∩ B) = P(A) * P(B)$"
      ],
      "metadata": {
        "id": "eltsAcJFYoQV"
      }
    },
    {
      "cell_type": "code",
      "source": [
        "# Faces do dados\n",
        "dado = [1, 2, 3, 4, 5, 6]\n",
        "\n",
        "# Calculando a probabilidade\n",
        "prob = (3/6 * 3/6) * 100\n",
        "\n",
        "print(f\"A probabilidade de obter um número par no primeiro e um ímpar no segundo é de {prob}%\")"
      ],
      "metadata": {
        "colab": {
          "base_uri": "https://localhost:8080/"
        },
        "id": "H8Vc7_3ZX3zM",
        "outputId": "f06fc6e0-330e-4f00-e781-58b2657e9f74"
      },
      "execution_count": null,
      "outputs": [
        {
          "output_type": "stream",
          "name": "stdout",
          "text": [
            "A probabilidade de obter um número par no primeiro e um ímpar no segundo é de 25.0%\n"
          ]
        }
      ]
    },
    {
      "cell_type": "markdown",
      "source": [
        "#### Em probabilidade, eventos **dependentes** são eventos em que a ocorrência de um evento influencia a probabilidade de ocorrência de outro evento. Para realizar os cálculos de eventos dependentes, utilizamos a seguinte fórmula:"
      ],
      "metadata": {
        "id": "J_9C0TtSUGuz"
      }
    },
    {
      "cell_type": "markdown",
      "source": [
        "### **Probabilidade da união de dois eventos**"
      ],
      "metadata": {
        "id": "6DxZg4eWSUk5"
      }
    },
    {
      "cell_type": "markdown",
      "source": [
        "A probabilidade da união de dois eventos é a probabilidade de que ambos ou apenas um dos eventos ocorra. Para isso, utilizamos a seguinte fórmula:\n",
        "\n",
        "- $P(A ∪ B) = P(A) + P(B) - P(A ∩ B)$"
      ],
      "metadata": {
        "id": "EA-NxoWkSZuw"
      }
    },
    {
      "cell_type": "code",
      "source": [
        "# Em breve!!!"
      ],
      "metadata": {
        "id": "OIVpdDGNJu8x"
      },
      "execution_count": null,
      "outputs": []
    },
    {
      "cell_type": "markdown",
      "source": [
        "### **Probabilidade condicional**"
      ],
      "metadata": {
        "id": "BmsQWHjodpu8"
      }
    },
    {
      "cell_type": "markdown",
      "source": [
        "A probabilidade condicional é a probabilidade de um evento A acontecer, dado que outro evento B já aconteceu. Utilizamos a seguinte fórmula:\n",
        "\n",
        "- $P(A/B) = P(A ∩ B) / P(B)$"
      ],
      "metadata": {
        "id": "nh22SXGEds9F"
      }
    },
    {
      "cell_type": "markdown",
      "source": [
        "#### **Exercício**:(UFSCAR) Dois dados usuais e não viciados são lançados. Sabe-se que os números observados são ímpares. Então, a probabilidade de que a soma deles seja 8 é:"
      ],
      "metadata": {
        "id": "aOl22r6sp_9K"
      }
    },
    {
      "cell_type": "code",
      "source": [
        "# Em breve!!!"
      ],
      "metadata": {
        "id": "gWCPqWsxqTdv"
      },
      "execution_count": null,
      "outputs": []
    },
    {
      "cell_type": "markdown",
      "source": [
        "### **Teorema da Probabilidade Total**"
      ],
      "metadata": {
        "id": "wII_oTqXO1fE"
      }
    },
    {
      "cell_type": "markdown",
      "source": [
        "O Teorema da Probabilidade Total é uma maneira de calcular a probabilidade de um evento A considerando todos os cenários representados por eventos. A fórmula é:\n",
        "\n",
        "- $P(A)=P(A∣B\n",
        "1\n",
        "​\n",
        " )⋅P(B\n",
        "1\n",
        "​\n",
        " )+P(A∣B\n",
        "2\n",
        "​\n",
        " )⋅P(B\n",
        "2\n",
        "​\n",
        " )+…+P(A∣B\n",
        "n\n",
        "​\n",
        " )⋅P(B\n",
        "n\n",
        "​\n",
        " )$"
      ],
      "metadata": {
        "id": "1Gt9U5qzQLLj"
      }
    },
    {
      "cell_type": "markdown",
      "source": [
        "Basicamente a probabilidade de A é a soma das probabilidades de A dado cada B multiplicada pela probabilidade de cada B ocorrer. Isso ajuda quando calcular diretamente a probabilidade de A é complicado, mas você conhece a relação entre A e diferentes situações representadas por B1, B2, ..., Bn."
      ],
      "metadata": {
        "id": "sHbdUxsZQZv3"
      }
    },
    {
      "cell_type": "markdown",
      "source": [
        "### **Teorema de Bayes**"
      ],
      "metadata": {
        "id": "2VCu4lrQeWUg"
      }
    },
    {
      "cell_type": "markdown",
      "source": [
        "O teorema de Bayes é uma ferramenta que nos permite calcular a probabilidade condicional de um evento, dado que sabemos a probabilidade de outros eventos. Por exemplo, o teorema de Bayes pode ser usado para calcular a probabilidade de uma pessoa ter uma doença, dado que ela apresentou alguns sintomas."
      ],
      "metadata": {
        "id": "sNXjCeNheasY"
      }
    },
    {
      "cell_type": "markdown",
      "source": [
        "**Exercício**: Uma empresa de tecnologia produz dois modelos de smartphones: A e B. Sabe-se que 60% dos clientes escolhem o modelo A e 40% escolhem o modelo B. Além disso, sabe-se que 5% dos clientes que compram o modelo A relatam problemas técnicos, enquanto 10% dos clientes que compram o modelo B relatam problemas técnicos. Se um cliente escolhido aleatoriamente relatar problemas técnicos, qual é a probabilidade de que ele tenha escolhido o modelo A?"
      ],
      "metadata": {
        "id": "Cwxa8w50XqiF"
      }
    },
    {
      "cell_type": "markdown",
      "source": [
        "Para resolução desse exercício, utilizaremos ambos o teorema da probabilidade total e o teorema de Bayes. Dito isso, vamos seguir para a resolução."
      ],
      "metadata": {
        "id": "BVbCECnpbCjX"
      }
    },
    {
      "cell_type": "code",
      "source": [
        "# Em breve!!!"
      ],
      "metadata": {
        "id": "BmyQdpuyR657"
      },
      "execution_count": null,
      "outputs": []
    },
    {
      "cell_type": "markdown",
      "source": [
        "## **Variáveis aleatórias**"
      ],
      "metadata": {
        "id": "ngTRec0kiiJZ"
      }
    },
    {
      "cell_type": "markdown",
      "source": [
        "Uma variável aleatória é uma função que associa um valor numérico a cada resultado de um experimento aleatório."
      ],
      "metadata": {
        "id": "3Ts_ZmBJi4HX"
      }
    },
    {
      "cell_type": "markdown",
      "source": [
        "### **Variáveis aleatórias discretas**"
      ],
      "metadata": {
        "id": "l4pl2z9ajEpl"
      }
    },
    {
      "cell_type": "markdown",
      "source": [
        "As variáveis aleatórias discretas são aquelas que podem assumir apenas um número finito ou contável de valores.\n",
        "\n",
        "Por exemplo, o número de pessoas que entram em uma loja em uma hora é uma variável aleatória discreta.\n"
      ],
      "metadata": {
        "id": "PHw4Te4wjF8F"
      }
    },
    {
      "cell_type": "markdown",
      "source": [
        "Imagine que você está contabilizando o número de acidentes de carro em um dia. A variável aleatória \"número de acidentes\" pode assumir valores inteiros, como: 10, 50, 100, 500 e assim vai. Essa é uma variável aleatória discreta."
      ],
      "metadata": {
        "id": "7zGwDEGQj2wI"
      }
    },
    {
      "cell_type": "markdown",
      "source": [
        "### **Variáveis aleatórias contínuas**"
      ],
      "metadata": {
        "id": "XWLndazJjcoU"
      }
    },
    {
      "cell_type": "markdown",
      "source": [
        "Variáveis aleatórias contínuas: As variáveis aleatórias contínuas são aquelas que podem assumir qualquer valor dentro de um intervalo. Por exemplo, o tempo de duração de uma ligação telefônica."
      ],
      "metadata": {
        "id": "KgAu1x7ojgHj"
      }
    },
    {
      "cell_type": "markdown",
      "source": [
        "Imagine que você está medindo o peso das pessoas. O peso das pessoas pode ser qualquer número entre, digamos, 50 kilos e 100 kilos. Essa é uma variável aleatória contínua."
      ],
      "metadata": {
        "id": "tfMb_-TNjqXw"
      }
    },
    {
      "cell_type": "markdown",
      "source": [
        "## **Distribuição**"
      ],
      "metadata": {
        "id": "RUK3OwyoXWbw"
      }
    },
    {
      "cell_type": "markdown",
      "source": [
        "\n",
        "\n",
        "Uma distribuição é uma descrição da probabilidade de diferentes valores de uma variável. Existem muitos tipos diferentes de distribuições, incluindo:\n",
        "\n",
        "- Distribuição uniforme: Uma distribuição uniforme é uma distribuição em que todos os valores têm a mesma probabilidade de ocorrer.\n",
        "\n",
        "\n",
        "- Distribuição normal: Uma distribuição normal é uma distribuição em forma de sino que é frequentemente usada para modelar dados reais.\n",
        "\n",
        "\n",
        "- Distribuição binomial: Uma distribuição binomial é uma distribuição que descreve o número de sucessos em uma série de tentativas independentes.\n",
        "\n",
        "- Distribuição de Poisson: Uma distribuição de Poisson é uma distribuição que descreve o número de eventos que ocorrem em um intervalo de tempo fixo."
      ],
      "metadata": {
        "id": "lOiE_IWlXY8X"
      }
    },
    {
      "cell_type": "markdown",
      "source": [
        "### **Distribuições discretas**"
      ],
      "metadata": {
        "id": "mtYZsAF0gnY4"
      }
    },
    {
      "cell_type": "markdown",
      "source": [
        "Uma distribuição discreta é uma distribuição de probabilidade em que os resultados possíveis são finitos ou contáveis."
      ],
      "metadata": {
        "id": "bgWvbJ8JgrNn"
      }
    },
    {
      "cell_type": "markdown",
      "source": [
        "Imagine que você está jogando um jogo de dados. Você pode tirar qualquer um dos números de 1 a 6. A probabilidade de tirar cada um desses números é igual, ou seja, 1/6. Essa é uma distribuição de probabilidade discreta."
      ],
      "metadata": {
        "id": "he2DBOMcgtA2"
      }
    },
    {
      "cell_type": "markdown",
      "source": [
        "#### **Distribuição de Bernoulli**"
      ],
      "metadata": {
        "id": "otxJgJ5Fj6ii"
      }
    },
    {
      "cell_type": "markdown",
      "source": [
        "A distribuição de Bernoulli é uma distribuição de probabilidade discreta que descreve a probabilidade de um único evento ocorrer. O evento é chamado de tentativa de Bernoulli e pode ter dois resultados possíveis, chamados de sucesso e fracasso."
      ],
      "metadata": {
        "id": "9JnZQajEkC7n"
      }
    },
    {
      "cell_type": "markdown",
      "source": [
        "Vamos observar um exemplo de uma distribuição de Bernoulli."
      ],
      "metadata": {
        "id": "P_MbsRJ1k3yC"
      }
    },
    {
      "cell_type": "code",
      "source": [
        "# Realizando a importação do modelo\n",
        "from scipy.stats import bernoulli\n",
        "\n",
        "# Visualização de dados\n",
        "import seaborn as sns\n",
        "import matplotlib.pyplot as plt\n",
        "\n",
        "# Criando a distribuição\n",
        "dados_bernoulli = bernoulli.rvs(size = 1000, p = 0.3)"
      ],
      "metadata": {
        "id": "TumbR2ABkgxs"
      },
      "execution_count": null,
      "outputs": []
    },
    {
      "cell_type": "markdown",
      "source": [
        "O parâmetro 'p' = 0.3, estamos afirmando que 30% de todos os registros serão positivos. Nesse caso, esses registros serão representados pelo número 1."
      ],
      "metadata": {
        "id": "n1aslxjVlG8p"
      }
    },
    {
      "cell_type": "code",
      "source": [
        "# Gerando o histograma\n",
        "sns.histplot(dados_bernoulli, kde = True)\n",
        "plt.title(\"Distribuição de Bernoulli\")\n",
        "\n",
        "# Exibindo a figura\n",
        "plt.show()"
      ],
      "metadata": {
        "colab": {
          "base_uri": "https://localhost:8080/",
          "height": 452
        },
        "id": "LvMFCMIzlBKA",
        "outputId": "564bcade-023e-469c-c51a-7fe69a5a2440"
      },
      "execution_count": null,
      "outputs": [
        {
          "output_type": "display_data",
          "data": {
            "text/plain": [
              "<Figure size 640x480 with 1 Axes>"
            ],
            "image/png": "[encoded data removed]"
          },
          "metadata": {}
        }
      ]
    },
    {
      "cell_type": "markdown",
      "source": [
        "### **Distribuições contínuas**"
      ],
      "metadata": {
        "id": "Hyu0iiLGg7Bt"
      }
    },
    {
      "cell_type": "markdown",
      "source": [
        "Uma distribuição contínua é uma distribuição de probabilidade em que os resultados possíveis são infinitos ou não contáveis."
      ],
      "metadata": {
        "id": "EYet4J9phAW0"
      }
    },
    {
      "cell_type": "markdown",
      "source": [
        "imagine que você está medindo a altura das pessoas. A altura das pessoas pode ser qualquer número entre, digamos, 1,50 metro e 2,00 metros. A probabilidade de uma pessoa ter uma altura específica é zero, porque não há apenas uma pessoa com aquela altura exata. Essa é uma distribuição de probabilidade contínua."
      ],
      "metadata": {
        "id": "uhsFnB_Yg45F"
      }
    },
    {
      "cell_type": "markdown",
      "source": [
        "#### **Distribuição binomial**"
      ],
      "metadata": {
        "id": "znUIfWU2lial"
      }
    },
    {
      "cell_type": "markdown",
      "source": [
        "A distribuição binomial é uma distribuição de probabilidade discreta que descreve a probabilidade de um número fixo de sucessos em uma sequência de n tentativas independentes."
      ],
      "metadata": {
        "id": "rXlTyTtalySq"
      }
    },
    {
      "cell_type": "markdown",
      "source": [
        "Vamos observar um exemplo de uma distribuição binomial."
      ],
      "metadata": {
        "id": "if2GfZupl1K0"
      }
    },
    {
      "cell_type": "code",
      "execution_count": null,
      "metadata": {
        "id": "xPhUy-aXIotG"
      },
      "outputs": [],
      "source": [
        "# Realizando a importação\n",
        "from scipy.stats import binom\n",
        "\n",
        "# Criando a distribuição\n",
        "dados_binomial = binom.rvs(size = 1000, n = 10, p = 0.7)"
      ]
    },
    {
      "cell_type": "markdown",
      "source": [
        "Agora vamos gerar a visualização."
      ],
      "metadata": {
        "id": "cXVMDEtUl7j6"
      }
    },
    {
      "cell_type": "code",
      "source": [
        "# Gerando o histograma\n",
        "sns.histplot(dados_binomial, kde = False)\n",
        "plt.title(\"Distribuição binomial\")\n",
        "\n",
        "# Exibindo a figura\n",
        "plt.show()"
      ],
      "metadata": {
        "colab": {
          "base_uri": "https://localhost:8080/",
          "height": 452
        },
        "id": "OJlJRDPCl95M",
        "outputId": "94613b7e-7e18-4944-f3ff-74729d5daaf5"
      },
      "execution_count": null,
      "outputs": [
        {
          "output_type": "display_data",
          "data": {
            "text/plain": [
              "<Figure size 640x480 with 1 Axes>"
            ],
            "image/png": "[encoded data removed]"
          },
          "metadata": {}
        }
      ]
    },
    {
      "cell_type": "markdown",
      "source": [
        "Esse é um exemplo de como a distribuição binomial se parece."
      ],
      "metadata": {
        "id": "wPBwGZfwl_9i"
      }
    },
    {
      "cell_type": "markdown",
      "source": [
        "### **Distribuições normal**"
      ],
      "metadata": {
        "id": "__P_6bE6YjGz"
      }
    },
    {
      "cell_type": "markdown",
      "source": [
        "A distribuição normal, também conhecida como distribuição gaussiana, é uma das distribuições de probabilidade mais importantes na estatística.\n",
        "\n",
        "Caracteristicas distribuição normal:\n",
        "\n",
        "- A curva da distribuição é em forma de sino.\n",
        "- A média, a mediana e a moda são iguais.\n",
        "- A maioria dos dados está concentrada em torno da média, com valores mais extremos se tornando menos frequentes à medida que nos afastamos da média."
      ],
      "metadata": {
        "id": "kLZlOI7ZZSRc"
      }
    },
    {
      "cell_type": "markdown",
      "source": [
        "Vamos observar um exemplo de uma distribuição normal. Para isso, em vez de inserirmos os dados um por um, vamos utilizar uma biblioteca para gerar os dados de maneira aleatória, porém de forma que no final o resultado seja uma distribuição normal. Para isso, vamos importar a seguinte biblioteca:"
      ],
      "metadata": {
        "id": "vT7heqUpZ4Uo"
      }
    },
    {
      "cell_type": "code",
      "source": [
        "# Importando a biblioteca para gerar distribuições\n",
        "from scipy.stats import skewnorm\n",
        "\n",
        "# Manipulação de dados\n",
        "import pandas as pd\n",
        "\n",
        "# Algébra linear\n",
        "import numpy as np\n",
        "\n",
        "# Visualização de dados\n",
        "import seaborn as sns\n",
        "import matplotlib.pyplot as plt\n",
        "\n",
        "# Funções estatísticas\n",
        "import statistics\n",
        "from scipy import stats"
      ],
      "metadata": {
        "id": "qGvIQSJFY7WH"
      },
      "execution_count": null,
      "outputs": []
    },
    {
      "cell_type": "markdown",
      "source": [
        " Com as bibliotecas devidamente importadas, vamos criar a distribuição."
      ],
      "metadata": {
        "id": "m-rcM8OraII-"
      }
    },
    {
      "cell_type": "code",
      "source": [
        "# Gerando uma distribuição normal\n",
        "dados_normal = skewnorm.rvs(a = 0, size = 1000, random_state = 21)\n",
        "\n",
        "# Criando uma cópia dos dados no formato series\n",
        "dados_normal_2 = pd.Series(dados_normal)"
      ],
      "metadata": {
        "id": "Oxz3rs7DY-qn"
      },
      "execution_count": null,
      "outputs": []
    },
    {
      "cell_type": "markdown",
      "source": [
        "Agora vamos visualizar a distribuição."
      ],
      "metadata": {
        "id": "SOnvbuHsaSG1"
      }
    },
    {
      "cell_type": "code",
      "source": [
        "# Criando o gráfico\n",
        "sns.displot(dados_normal, kde = True)\n",
        "\n",
        "# Adicionando o título\n",
        "plt.title(\"Distribuição normal\");"
      ],
      "metadata": {
        "colab": {
          "base_uri": "https://localhost:8080/",
          "height": 529
        },
        "id": "SvX5TWdPZCSW",
        "outputId": "58331af9-99d4-4a67-de54-853ae14bb8cc"
      },
      "execution_count": null,
      "outputs": [
        {
          "output_type": "display_data",
          "data": {
            "text/plain": [
              "<Figure size 500x500 with 1 Axes>"
            ],
            "image/png": "[encoded data removed]"
          },
          "metadata": {}
        }
      ]
    },
    {
      "cell_type": "markdown",
      "source": [
        "Observando as medidas."
      ],
      "metadata": {
        "id": "pChoOUqCaUyl"
      }
    },
    {
      "cell_type": "code",
      "source": [
        "# Calculando a média\n",
        "media_dados_normal = dados_normal.mean()\n",
        "\n",
        "# Calculando a mediana\n",
        "mediana_dados_normal = np.median(dados_normal)\n",
        "\n",
        "# Calculando a moda\n",
        "moda_dados_normal = statistics.mode(dados_normal)\n",
        "\n",
        "print(f\"A média é {media_dados_normal}\\nA mediana é: {mediana_dados_normal}\\nA moda é {moda_dados_normal}\")"
      ],
      "metadata": {
        "colab": {
          "base_uri": "https://localhost:8080/"
        },
        "id": "SNYtqZG5aOpN",
        "outputId": "5c294b18-9335-4413-ab80-f6b5da59c62e"
      },
      "execution_count": null,
      "outputs": [
        {
          "output_type": "stream",
          "name": "stdout",
          "text": [
            "A média é 0.033737333940124944\n",
            "A mediana é: 0.022782690327902397\n",
            "A moda é -1.5437670063009328\n"
          ]
        }
      ]
    },
    {
      "cell_type": "markdown",
      "source": [
        "Podemos observar que a média e a mediana estão bem próximas. Apesar de não serem iguais, a proximidade entre elas, juntamente com o formato de sino da distribuição, confere a essa distribuição o título de distribuição normal, embora não seja uma distribuição normal perfeita. A moda distoa um pouco mais dos outros valores, pois como os dados foram gerados aleatoriamente, é muito difícil que a moda seja igual à média e à mediana."
      ],
      "metadata": {
        "id": "FeOjXCOXagRi"
      }
    },
    {
      "cell_type": "markdown",
      "source": [
        "Vamos calcular o skew dessa distribuição, para verificarmos a assimetria dos dados."
      ],
      "metadata": {
        "id": "WaFpqeQJcpsD"
      }
    },
    {
      "cell_type": "code",
      "source": [
        "# Importando o skew\n",
        "from scipy.stats import skew\n",
        "\n",
        "# Verificando assimetria\n",
        "dados_normal_2.skew()"
      ],
      "metadata": {
        "colab": {
          "base_uri": "https://localhost:8080/"
        },
        "id": "_uaJJyFXcv2S",
        "outputId": "28cf1319-35f1-481a-ec18-c3cd9736429f"
      },
      "execution_count": null,
      "outputs": [
        {
          "output_type": "execute_result",
          "data": {
            "text/plain": [
              "0.03472445924082342"
            ]
          },
          "metadata": {},
          "execution_count": 25
        }
      ]
    },
    {
      "cell_type": "markdown",
      "source": [
        "Obtivemos um skew positivo e bem baixo, o que indica uma leve assimetria à direita. Apesar do skew ser positivo, essa assimetria é muito pequena. Por pouco não obtivemos uma distribuição normal perfeita, pois para isso o skew deveria ser igual a 0."
      ],
      "metadata": {
        "id": "d4KiFY_peEex"
      }
    },
    {
      "cell_type": "markdown",
      "source": [
        "#### *Probabilidade*"
      ],
      "metadata": {
        "id": "7v5YD-_zgXZ4"
      }
    },
    {
      "cell_type": "markdown",
      "source": [
        "Vamos observar como podemos utilizar a probabilidade em uma distribuição normal para calcular áreas sob a curva e determinar a probabilidade de um evento ocorrer."
      ],
      "metadata": {
        "id": "IXJ8-GYAgZFK"
      }
    },
    {
      "cell_type": "markdown",
      "source": [
        "Imagine que temos uma base de dados contendo o IMC de uma determinada população."
      ],
      "metadata": {
        "id": "zsc0hicNhglg"
      }
    },
    {
      "cell_type": "code",
      "source": [
        "# Criando uma série de 100 valores aleatórios\n",
        "dados = pd.Series(np.random.normal(29, 6, 100))"
      ],
      "metadata": {
        "id": "JUZMp7zuhy3t"
      },
      "execution_count": null,
      "outputs": []
    },
    {
      "cell_type": "markdown",
      "source": [
        "Agora vamos analisar a distribuição dos dados."
      ],
      "metadata": {
        "id": "_klw1nWoiX_B"
      }
    },
    {
      "cell_type": "code",
      "source": [
        "# Criando o gráfico\n",
        "sns.displot(dados, kde = True)\n",
        "\n",
        "# Adicionando o título\n",
        "plt.title(\"Distribuição das alturas\");"
      ],
      "metadata": {
        "colab": {
          "base_uri": "https://localhost:8080/",
          "height": 529
        },
        "id": "c476T2mgiaZR",
        "outputId": "68059b14-291f-4f20-eb1d-ea73f9116efe"
      },
      "execution_count": null,
      "outputs": [
        {
          "output_type": "display_data",
          "data": {
            "text/plain": [
              "<Figure size 500x500 with 1 Axes>"
            ],
            "image/png": "[encoded data removed]"
          },
          "metadata": {}
        }
      ]
    },
    {
      "cell_type": "markdown",
      "source": [
        "Vamos analisar as medidas desses dados."
      ],
      "metadata": {
        "id": "Fu_JkmtGiigB"
      }
    },
    {
      "cell_type": "code",
      "source": [
        "# Calculando a média\n",
        "media_imc = dados.mean()\n",
        "\n",
        "# Calculando a mediana\n",
        "mediana_imc = np.median(dados)\n",
        "\n",
        "# Calculando a moda\n",
        "moda_imc = statistics.mode(dados)\n",
        "\n",
        "# Calculando o desvio\n",
        "desvio_imc = dados.std()\n",
        "\n",
        "print(f\"A média é {media_imc}\\nA mediana é: {mediana_imc}\\nA moda é {moda_imc}\\nO desvio padrão é {desvio_imc}\")"
      ],
      "metadata": {
        "colab": {
          "base_uri": "https://localhost:8080/"
        },
        "id": "2fczNJDqiyV2",
        "outputId": "15fba7a9-2be8-457e-9779-2c08aa53cfcb"
      },
      "execution_count": null,
      "outputs": [
        {
          "output_type": "stream",
          "name": "stdout",
          "text": [
            "A média é 28.80960516725068\n",
            "A mediana é: 29.21689811208371\n",
            "A moda é 22.533848109768385\n",
            "O desvio padrão é 6.110787135177151\n"
          ]
        }
      ]
    },
    {
      "cell_type": "markdown",
      "source": [
        "Neste caso, podemos observar que a média e a mediana são bastante próximas, enquanto a moda está um pouco distante. Apesar de duas das três medidas serem próximas, a curva em formato de sino não está presente. No entanto, vamos verificar o skew para entender melhor a assimetria da distribuição."
      ],
      "metadata": {
        "id": "GzqWYQXwjC08"
      }
    },
    {
      "cell_type": "code",
      "source": [
        "# Verificando assimetria\n",
        "dados.skew()"
      ],
      "metadata": {
        "colab": {
          "base_uri": "https://localhost:8080/"
        },
        "id": "jMm5Bt_YjT_i",
        "outputId": "f3d00204-385d-46e0-9f1d-70255e431632"
      },
      "execution_count": null,
      "outputs": [
        {
          "output_type": "execute_result",
          "data": {
            "text/plain": [
              "-0.6238226696692614"
            ]
          },
          "metadata": {},
          "execution_count": 56
        }
      ]
    },
    {
      "cell_type": "markdown",
      "source": [
        "Obtivemos um skew negativo, o que nos permite afirmar que a distribuição apresenta uma assimetria à esquerda."
      ],
      "metadata": {
        "id": "FgoZi7T8jo3A"
      }
    },
    {
      "cell_type": "markdown",
      "source": [
        "Vamos analisar os quartis desses dados."
      ],
      "metadata": {
        "id": "5xbH3KWKkNOM"
      }
    },
    {
      "cell_type": "code",
      "source": [
        "# Exibindo o Q1, Q2 e Q3 dos dados\n",
        "np.quantile(dados, [0.25, 0.50, 0.75])"
      ],
      "metadata": {
        "colab": {
          "base_uri": "https://localhost:8080/"
        },
        "id": "Zqsc07v7kMkS",
        "outputId": "c597f765-b83b-4cb8-ffdb-66517f9aacce"
      },
      "execution_count": null,
      "outputs": [
        {
          "output_type": "execute_result",
          "data": {
            "text/plain": [
              "array([24.60181714, 29.21689811, 33.08845147])"
            ]
          },
          "metadata": {},
          "execution_count": 57
        }
      ]
    },
    {
      "cell_type": "markdown",
      "source": [
        "Utilizando o método de quantile, podemos determinar o percentil em que um determinado valor se encontra. Qual é o IMC que representa o percentil 90?"
      ],
      "metadata": {
        "id": "hj9T19jmldL7"
      }
    },
    {
      "cell_type": "code",
      "source": [
        "# Exibindo o quartil desejado\n",
        "np.quantile(dados, 0.90)"
      ],
      "metadata": {
        "colab": {
          "base_uri": "https://localhost:8080/"
        },
        "id": "zf6QtAlGl3Cv",
        "outputId": "02d11772-1669-4c72-ef6a-de4213398b73"
      },
      "execution_count": null,
      "outputs": [
        {
          "output_type": "execute_result",
          "data": {
            "text/plain": [
              "36.673671502026366"
            ]
          },
          "metadata": {},
          "execution_count": 62
        }
      ]
    },
    {
      "cell_type": "markdown",
      "source": [
        "Dessa forma, podemos observar que o valor do percentil 90 é de 36,6."
      ],
      "metadata": {
        "id": "KoUi3sJAq8gB"
      }
    },
    {
      "cell_type": "markdown",
      "source": [
        "Importante frisarmos que essa função utiliza a formula do Z calculado que é:\n",
        "\n",
        "- $Z = (x - μ) / σ$\n",
        "\n",
        "Onde:\n",
        "\n",
        "- Z é o valor Z calculado.\n",
        "- x é o valor da observação.\n",
        "- μ é a média da população.\n",
        "- σ é o desvio padrão da população."
      ],
      "metadata": {
        "id": "vyCp4aw9r_06"
      }
    },
    {
      "cell_type": "markdown",
      "source": [
        "Então, o cálculo ficaria da seguinte forma:\n",
        "\n",
        "- Primeiro vamos isolar o valor que queremos que é o X dito isso a formula vai ficar da seguinte maneira:\n",
        " - $X = (z * μ) + σ$\n",
        "\n",
        "- Para encontrar o valor de Z, consultamos a tabela Z e buscamos o valor referente ao percentil desejado, que neste caso é 0,90.\n",
        "\n",
        "Substituindo o valor de Z na fórmula original, obtemos:"
      ],
      "metadata": {
        "id": "00d9RiMzsU75"
      }
    },
    {
      "cell_type": "code",
      "source": [
        "# Aplicando a formula do z calculado\n",
        "x = (1.28 * desvio_imc) + media_imc\n",
        "\n",
        "# Observando o resultado\n",
        "x"
      ],
      "metadata": {
        "colab": {
          "base_uri": "https://localhost:8080/"
        },
        "id": "Vf6wCiCJsYk4",
        "outputId": "601d2406-cd8f-47b3-afb3-87ccab4a4262"
      },
      "execution_count": null,
      "outputs": [
        {
          "output_type": "execute_result",
          "data": {
            "text/plain": [
              "36.63141270027744"
            ]
          },
          "metadata": {},
          "execution_count": 66
        }
      ]
    },
    {
      "cell_type": "markdown",
      "source": [
        "O IMC correspondente ao percentil 90 é de 36,6, o mesmo resultado que obtivemos anteriormente."
      ],
      "metadata": {
        "id": "wfPtlL90z5a3"
      }
    },
    {
      "cell_type": "markdown",
      "source": [
        "## **Teorema do limite central**"
      ],
      "metadata": {
        "id": "Nt4YUnkrIeXX"
      }
    },
    {
      "cell_type": "markdown",
      "source": [
        "O Teorema do Limite Central (TLC) é um teorema fundamental em probabilidade e estatística que afirma que, sob condições específicas, a distribuição da média de uma grande quantidade de variáveis aleatórias independentes tende a ser uma distribuição normal, independentemente da distribuição original das variáveis.\n",
        "\n",
        "\n",
        "Basicamente se pegarmos uma distribuição com pelo menos 30 dados, a distribuição da média desses dados se assemelhara com uma distribuição normal"
      ],
      "metadata": {
        "id": "m-lOhKFrI40k"
      }
    },
    {
      "cell_type": "markdown",
      "source": [
        "Para exemplificarmos melhor vamos primeiro realizar a importação das bibliotecas necessarias"
      ],
      "metadata": {
        "id": "zEkhVJNPJHci"
      }
    },
    {
      "cell_type": "code",
      "source": [
        "# Manipulação de dados\n",
        "import pandas as pd\n",
        "\n",
        "# Algébra linear\n",
        "import numpy as np\n",
        "\n",
        "# Visualização de dados\n",
        "import seaborn as sns\n",
        "import matplotlib.pyplot as plt\n",
        "\n",
        "# Funções estatísticas\n",
        "import statistics\n",
        "import scipy.stats"
      ],
      "metadata": {
        "id": "hOIeS6TaJ8uW"
      },
      "execution_count": 2,
      "outputs": []
    },
    {
      "cell_type": "markdown",
      "source": [
        "Agora imagine o caso onde temos a altura de 30000 individuos"
      ],
      "metadata": {
        "id": "7iftN6XwKPQ6"
      }
    },
    {
      "cell_type": "code",
      "source": [
        "# Gerando os dados aleatórios\n",
        "alturas = np.random.randint(126, 192, 30000)\n",
        "\n",
        "# Calculando a média dos dados gerados\n",
        "media_altura = alturas.mean()\n",
        "\n",
        "# Calculando o desvio padrão dos dados gerados\n",
        "desvio_altura = alturas.std()\n",
        "\n",
        "print(f\"A média é {media_altura}\\nO desvio é {desvio_altura}\")"
      ],
      "metadata": {
        "colab": {
          "base_uri": "https://localhost:8080/"
        },
        "id": "_h12jm-1Kz1G",
        "outputId": "9758ce60-fda0-4168-b7d8-d8cf8fa83c2f"
      },
      "execution_count": 16,
      "outputs": [
        {
          "output_type": "stream",
          "name": "stdout",
          "text": [
            "A média é 158.54493333333335\n",
            "O desvio é 18.99981353405577\n"
          ]
        }
      ]
    },
    {
      "cell_type": "markdown",
      "source": [
        "Agora vamos observar a distribuição desses dados"
      ],
      "metadata": {
        "id": "qbXda96YLi5J"
      }
    },
    {
      "cell_type": "code",
      "source": [
        "# Gerando a distribuição\n",
        "sns.displot(alturas, kde = True)\n",
        "\n",
        "# Adicionando um título\n",
        "plt.title(\"Distribuição das alturas\");"
      ],
      "metadata": {
        "colab": {
          "base_uri": "https://localhost:8080/",
          "height": 529
        },
        "id": "5mtya-FzLlUw",
        "outputId": "449c4287-785b-4e17-cf86-11ca41654340"
      },
      "execution_count": 5,
      "outputs": [
        {
          "output_type": "display_data",
          "data": {
            "text/plain": [
              "<Figure size 500x500 with 1 Axes>"
            ],
            "image/png": "[encoded data removed]"
          },
          "metadata": {}
        }
      ]
    },
    {
      "cell_type": "markdown",
      "source": [
        "Essa distribuição é uma distribuição uniforma, agora vamos aplicar o teorema diretamente nessa distribuição"
      ],
      "metadata": {
        "id": "UVMTBiE_MPm0"
      }
    },
    {
      "cell_type": "markdown",
      "source": [
        "Lembrando o que diz o teorema para uma distribuição com pelo menos 30 dados a distribuição da média das subamostras seguira uma normal, dito isso vamos fazer o teste para 3 amostras"
      ],
      "metadata": {
        "id": "qIojLF-tM8xX"
      }
    },
    {
      "cell_type": "code",
      "source": [
        "# Definindo o tamanho das amostras\n",
        "tamanho_amostra_1 = 10\n",
        "tamanho_amostra_2 = 30\n",
        "tamanho_amostra_3 = 100"
      ],
      "metadata": {
        "id": "Q9-SxRv-NSO0"
      },
      "execution_count": 7,
      "outputs": []
    },
    {
      "cell_type": "code",
      "source": [
        "#Em breve!!"
      ],
      "metadata": {
        "id": "PyFw2ZkKOEou"
      },
      "execution_count": null,
      "outputs": []
    }
  ]
}