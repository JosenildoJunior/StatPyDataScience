{
  "nbformat": 4,
  "nbformat_minor": 0,
  "metadata": {
    "colab": {
      "provenance": [],
      "collapsed_sections": [
        "Z7yo8ZjZjCYV",
        "CQSTAmqjiKbc",
        "wc5TSve3k_KQ",
        "GVwY7A0KlII-",
        "I1GgN5NKt5lv",
        "0oVkANhp2mxk",
        "voPM4GWM7fF-",
        "xAklZWKXTO8V",
        "BkSd-F5ST7wJ",
        "9XmchFQ-UY91",
        "0FUf7TFTeDgX",
        "dcvwXdZ6e2FN",
        "O6tFnSeUlwJt",
        "jtrjzLF2mvUH",
        "BABhFGTd016n",
        "-pcnQgHhoJBD",
        "yT3qld0xveXT",
        "Geg4uVaj0WeM",
        "mnhP_Qa444dJ"
      ]
    },
    "kernelspec": {
      "name": "python3",
      "display_name": "Python 3"
    },
    "language_info": {
      "name": "python"
    }
  },
  "cells": [
    {
      "cell_type": "markdown",
      "source": [
        "# **Análise exploratória em dados do Ifood**"
      ],
      "metadata": {
        "id": "6M6aieWTh2u3"
      }
    },
    {
      "cell_type": "markdown",
      "source": [
        "O conjunto de dados é composto por clientes da empresa Ifood com dados sobre:\n",
        "\n",
        "- Perfis de clientes\n",
        "- Preferências do produto\n",
        "- Sucessos/fracassos da campanha\n",
        "- Desempenho do canal\n",
        "\n",
        "\n",
        "**O objetivo é realizar uma análise exploratória desses dados.**"
      ],
      "metadata": {
        "id": "NCKRWXxZhwgP"
      }
    },
    {
      "cell_type": "markdown",
      "source": [
        "## **Importando os dados**"
      ],
      "metadata": {
        "id": "Z7yo8ZjZjCYV"
      }
    },
    {
      "cell_type": "markdown",
      "source": [
        "Nessa parte iremos importar todas as bibliotecas que iremos precisar para realizar nossa analise e também os dados, dito isso vamos seguir para a importação das bibliotecas e posteriormente dos dados"
      ],
      "metadata": {
        "id": "IOC57p6ejGM8"
      }
    },
    {
      "cell_type": "code",
      "source": [
        "# Manipulação de dados\n",
        "import pandas as pd\n",
        "\n",
        "# Algébra linear\n",
        "import numpy as np\n",
        "\n",
        "# Visualização de dados\n",
        "import matplotlib.pyplot as plt\n",
        "import seaborn as sns\n",
        "\n",
        "# Funções estatísticas\n",
        "import statistics\n",
        "import scipy.stats"
      ],
      "metadata": {
        "id": "xFlFR6ybjjf7"
      },
      "execution_count": 1,
      "outputs": []
    },
    {
      "cell_type": "markdown",
      "source": [
        "Com as bibliotecas importadas podemos seguir para a importação dos dados propriamente dito"
      ],
      "metadata": {
        "id": "RDpdpordj89e"
      }
    },
    {
      "cell_type": "code",
      "source": [
        "# Acesso ao drive\n",
        "from google.colab import drive\n",
        "drive.mount('/content/drive')"
      ],
      "metadata": {
        "colab": {
          "base_uri": "https://localhost:8080/"
        },
        "id": "uNkZvF1lj6yg",
        "outputId": "18cf916c-305e-4ccb-d0da-daa59bd0d1cb"
      },
      "execution_count": 2,
      "outputs": [
        {
          "output_type": "stream",
          "name": "stdout",
          "text": [
            "Mounted at /content/drive\n"
          ]
        }
      ]
    },
    {
      "cell_type": "code",
      "source": [
        "# Importando o dataset\n",
        "df = pd.read_csv('/content/drive/MyDrive/Estatística para ciência de dados/mkt_data.csv')\n",
        "\n",
        "# Observando os primeiro registros\n",
        "df.head()"
      ],
      "metadata": {
        "colab": {
          "base_uri": "https://localhost:8080/",
          "height": 0
        },
        "id": "KEqWK4S8kF3l",
        "outputId": "01c2a196-40ab-4a37-f7e9-a5fd9892b432"
      },
      "execution_count": 3,
      "outputs": [
        {
          "output_type": "execute_result",
          "data": {
            "text/plain": [
              "   Unnamed: 0   Income  Kidhome  Teenhome  Recency  MntWines  MntFruits  \\\n",
              "0           0  58138.0        0         0       58       635         88   \n",
              "1           1  46344.0        1         1       38        11          1   \n",
              "2           2  71613.0        0         0       26       426         49   \n",
              "3           3  26646.0        1         0       26        11          4   \n",
              "4           4  58293.0        1         0       94       173         43   \n",
              "\n",
              "   MntMeatProducts  MntFishProducts  MntSweetProducts  ...  \\\n",
              "0              546              172                88  ...   \n",
              "1                6                2                 1  ...   \n",
              "2              127              111                21  ...   \n",
              "3               20               10                 3  ...   \n",
              "4              118               46                27  ...   \n",
              "\n",
              "   education_Graduation  education_Master  education_PhD  MntTotal  \\\n",
              "0                   3.0               NaN            NaN      1529   \n",
              "1                   3.0               NaN            NaN        21   \n",
              "2                   3.0               NaN            NaN       734   \n",
              "3                   3.0               NaN            NaN        48   \n",
              "4                   NaN               NaN            5.0       407   \n",
              "\n",
              "   MntRegularProds  AcceptedCmpOverall  marital_status  education_level  kids  \\\n",
              "0             1441                   0          Single       Graduation     0   \n",
              "1               15                   0          Single       Graduation     2   \n",
              "2              692                   0        Together       Graduation     0   \n",
              "3               43                   0        Together       Graduation     1   \n",
              "4              392                   0         Married              PhD     1   \n",
              "\n",
              "   expenses  \n",
              "0      1529  \n",
              "1        21  \n",
              "2       734  \n",
              "3        48  \n",
              "4       407  \n",
              "\n",
              "[5 rows x 44 columns]"
            ],
            "text/html": [
              "\n",
              "  <div id=\"df-25bb1eab-053d-45db-b0eb-89ec5319dd7e\" class=\"colab-df-container\">\n",
              "    <div>\n",
              "<style scoped>\n",
              "    .dataframe tbody tr th:only-of-type {\n",
              "        vertical-align: middle;\n",
              "    }\n",
              "\n",
              "    .dataframe tbody tr th {\n",
              "        vertical-align: top;\n",
              "    }\n",
              "\n",
              "    .dataframe thead th {\n",
              "        text-align: right;\n",
              "    }\n",
              "</style>\n",
              "<table border=\"1\" class=\"dataframe\">\n",
              "  <thead>\n",
              "    <tr style=\"text-align: right;\">\n",
              "      <th></th>\n",
              "      <th>Unnamed: 0</th>\n",
              "      <th>Income</th>\n",
              "      <th>Kidhome</th>\n",
              "      <th>Teenhome</th>\n",
              "      <th>Recency</th>\n",
              "      <th>MntWines</th>\n",
              "      <th>MntFruits</th>\n",
              "      <th>MntMeatProducts</th>\n",
              "      <th>MntFishProducts</th>\n",
              "      <th>MntSweetProducts</th>\n",
              "      <th>...</th>\n",
              "      <th>education_Graduation</th>\n",
              "      <th>education_Master</th>\n",
              "      <th>education_PhD</th>\n",
              "      <th>MntTotal</th>\n",
              "      <th>MntRegularProds</th>\n",
              "      <th>AcceptedCmpOverall</th>\n",
              "      <th>marital_status</th>\n",
              "      <th>education_level</th>\n",
              "      <th>kids</th>\n",
              "      <th>expenses</th>\n",
              "    </tr>\n",
              "  </thead>\n",
              "  <tbody>\n",
              "    <tr>\n",
              "      <th>0</th>\n",
              "      <td>0</td>\n",
              "      <td>58138.0</td>\n",
              "      <td>0</td>\n",
              "      <td>0</td>\n",
              "      <td>58</td>\n",
              "      <td>635</td>\n",
              "      <td>88</td>\n",
              "      <td>546</td>\n",
              "      <td>172</td>\n",
              "      <td>88</td>\n",
              "      <td>...</td>\n",
              "      <td>3.0</td>\n",
              "      <td>NaN</td>\n",
              "      <td>NaN</td>\n",
              "      <td>1529</td>\n",
              "      <td>1441</td>\n",
              "      <td>0</td>\n",
              "      <td>Single</td>\n",
              "      <td>Graduation</td>\n",
              "      <td>0</td>\n",
              "      <td>1529</td>\n",
              "    </tr>\n",
              "    <tr>\n",
              "      <th>1</th>\n",
              "      <td>1</td>\n",
              "      <td>46344.0</td>\n",
              "      <td>1</td>\n",
              "      <td>1</td>\n",
              "      <td>38</td>\n",
              "      <td>11</td>\n",
              "      <td>1</td>\n",
              "      <td>6</td>\n",
              "      <td>2</td>\n",
              "      <td>1</td>\n",
              "      <td>...</td>\n",
              "      <td>3.0</td>\n",
              "      <td>NaN</td>\n",
              "      <td>NaN</td>\n",
              "      <td>21</td>\n",
              "      <td>15</td>\n",
              "      <td>0</td>\n",
              "      <td>Single</td>\n",
              "      <td>Graduation</td>\n",
              "      <td>2</td>\n",
              "      <td>21</td>\n",
              "    </tr>\n",
              "    <tr>\n",
              "      <th>2</th>\n",
              "      <td>2</td>\n",
              "      <td>71613.0</td>\n",
              "      <td>0</td>\n",
              "      <td>0</td>\n",
              "      <td>26</td>\n",
              "      <td>426</td>\n",
              "      <td>49</td>\n",
              "      <td>127</td>\n",
              "      <td>111</td>\n",
              "      <td>21</td>\n",
              "      <td>...</td>\n",
              "      <td>3.0</td>\n",
              "      <td>NaN</td>\n",
              "      <td>NaN</td>\n",
              "      <td>734</td>\n",
              "      <td>692</td>\n",
              "      <td>0</td>\n",
              "      <td>Together</td>\n",
              "      <td>Graduation</td>\n",
              "      <td>0</td>\n",
              "      <td>734</td>\n",
              "    </tr>\n",
              "    <tr>\n",
              "      <th>3</th>\n",
              "      <td>3</td>\n",
              "      <td>26646.0</td>\n",
              "      <td>1</td>\n",
              "      <td>0</td>\n",
              "      <td>26</td>\n",
              "      <td>11</td>\n",
              "      <td>4</td>\n",
              "      <td>20</td>\n",
              "      <td>10</td>\n",
              "      <td>3</td>\n",
              "      <td>...</td>\n",
              "      <td>3.0</td>\n",
              "      <td>NaN</td>\n",
              "      <td>NaN</td>\n",
              "      <td>48</td>\n",
              "      <td>43</td>\n",
              "      <td>0</td>\n",
              "      <td>Together</td>\n",
              "      <td>Graduation</td>\n",
              "      <td>1</td>\n",
              "      <td>48</td>\n",
              "    </tr>\n",
              "    <tr>\n",
              "      <th>4</th>\n",
              "      <td>4</td>\n",
              "      <td>58293.0</td>\n",
              "      <td>1</td>\n",
              "      <td>0</td>\n",
              "      <td>94</td>\n",
              "      <td>173</td>\n",
              "      <td>43</td>\n",
              "      <td>118</td>\n",
              "      <td>46</td>\n",
              "      <td>27</td>\n",
              "      <td>...</td>\n",
              "      <td>NaN</td>\n",
              "      <td>NaN</td>\n",
              "      <td>5.0</td>\n",
              "      <td>407</td>\n",
              "      <td>392</td>\n",
              "      <td>0</td>\n",
              "      <td>Married</td>\n",
              "      <td>PhD</td>\n",
              "      <td>1</td>\n",
              "      <td>407</td>\n",
              "    </tr>\n",
              "  </tbody>\n",
              "</table>\n",
              "<p>5 rows × 44 columns</p>\n",
              "</div>\n",
              "    <div class=\"colab-df-buttons\">\n",
              "\n",
              "  <div class=\"colab-df-container\">\n",
              "    <button class=\"colab-df-convert\" onclick=\"convertToInteractive('df-25bb1eab-053d-45db-b0eb-89ec5319dd7e')\"\n",
              "            title=\"Convert this dataframe to an interactive table.\"\n",
              "            style=\"display:none;\">\n",
              "\n",
              "  <svg xmlns=\"http://www.w3.org/2000/svg\" height=\"24px\" viewBox=\"0 -960 960 960\">\n",
              "    <path d=\"M120-120v-720h720v720H120Zm60-500h600v-160H180v160Zm220 220h160v-160H400v160Zm0 220h160v-160H400v160ZM180-400h160v-160H180v160Zm440 0h160v-160H620v160ZM180-180h160v-160H180v160Zm440 0h160v-160H620v160Z\"/>\n",
              "  </svg>\n",
              "    </button>\n",
              "\n",
              "  <style>\n",
              "    .colab-df-container {\n",
              "      display:flex;\n",
              "      gap: 12px;\n",
              "    }\n",
              "\n",
              "    .colab-df-convert {\n",
              "      background-color: #E8F0FE;\n",
              "      border: none;\n",
              "      border-radius: 50%;\n",
              "      cursor: pointer;\n",
              "      display: none;\n",
              "      fill: #1967D2;\n",
              "      height: 32px;\n",
              "      padding: 0 0 0 0;\n",
              "      width: 32px;\n",
              "    }\n",
              "\n",
              "    .colab-df-convert:hover {\n",
              "      background-color: #E2EBFA;\n",
              "      box-shadow: 0px 1px 2px rgba(60, 64, 67, 0.3), 0px 1px 3px 1px rgba(60, 64, 67, 0.15);\n",
              "      fill: #174EA6;\n",
              "    }\n",
              "\n",
              "    .colab-df-buttons div {\n",
              "      margin-bottom: 4px;\n",
              "    }\n",
              "\n",
              "    [theme=dark] .colab-df-convert {\n",
              "      background-color: #3B4455;\n",
              "      fill: #D2E3FC;\n",
              "    }\n",
              "\n",
              "    [theme=dark] .colab-df-convert:hover {\n",
              "      background-color: #434B5C;\n",
              "      box-shadow: 0px 1px 3px 1px rgba(0, 0, 0, 0.15);\n",
              "      filter: drop-shadow(0px 1px 2px rgba(0, 0, 0, 0.3));\n",
              "      fill: #FFFFFF;\n",
              "    }\n",
              "  </style>\n",
              "\n",
              "    <script>\n",
              "      const buttonEl =\n",
              "        document.querySelector('#df-25bb1eab-053d-45db-b0eb-89ec5319dd7e button.colab-df-convert');\n",
              "      buttonEl.style.display =\n",
              "        google.colab.kernel.accessAllowed ? 'block' : 'none';\n",
              "\n",
              "      async function convertToInteractive(key) {\n",
              "        const element = document.querySelector('#df-25bb1eab-053d-45db-b0eb-89ec5319dd7e');\n",
              "        const dataTable =\n",
              "          await google.colab.kernel.invokeFunction('convertToInteractive',\n",
              "                                                    [key], {});\n",
              "        if (!dataTable) return;\n",
              "\n",
              "        const docLinkHtml = 'Like what you see? Visit the ' +\n",
              "          '<a target=\"_blank\" href=https://colab.research.google.com/notebooks/data_table.ipynb>data table notebook</a>'\n",
              "          + ' to learn more about interactive tables.';\n",
              "        element.innerHTML = '';\n",
              "        dataTable['output_type'] = 'display_data';\n",
              "        await google.colab.output.renderOutput(dataTable, element);\n",
              "        const docLink = document.createElement('div');\n",
              "        docLink.innerHTML = docLinkHtml;\n",
              "        element.appendChild(docLink);\n",
              "      }\n",
              "    </script>\n",
              "  </div>\n",
              "\n",
              "\n",
              "<div id=\"df-6d279401-504b-4df3-ac5f-e219c8ec62d8\">\n",
              "  <button class=\"colab-df-quickchart\" onclick=\"quickchart('df-6d279401-504b-4df3-ac5f-e219c8ec62d8')\"\n",
              "            title=\"Suggest charts\"\n",
              "            style=\"display:none;\">\n",
              "\n",
              "<svg xmlns=\"http://www.w3.org/2000/svg\" height=\"24px\"viewBox=\"0 0 24 24\"\n",
              "     width=\"24px\">\n",
              "    <g>\n",
              "        <path d=\"M19 3H5c-1.1 0-2 .9-2 2v14c0 1.1.9 2 2 2h14c1.1 0 2-.9 2-2V5c0-1.1-.9-2-2-2zM9 17H7v-7h2v7zm4 0h-2V7h2v10zm4 0h-2v-4h2v4z\"/>\n",
              "    </g>\n",
              "</svg>\n",
              "  </button>\n",
              "\n",
              "<style>\n",
              "  .colab-df-quickchart {\n",
              "      --bg-color: #E8F0FE;\n",
              "      --fill-color: #1967D2;\n",
              "      --hover-bg-color: #E2EBFA;\n",
              "      --hover-fill-color: #174EA6;\n",
              "      --disabled-fill-color: #AAA;\n",
              "      --disabled-bg-color: #DDD;\n",
              "  }\n",
              "\n",
              "  [theme=dark] .colab-df-quickchart {\n",
              "      --bg-color: #3B4455;\n",
              "      --fill-color: #D2E3FC;\n",
              "      --hover-bg-color: #434B5C;\n",
              "      --hover-fill-color: #FFFFFF;\n",
              "      --disabled-bg-color: #3B4455;\n",
              "      --disabled-fill-color: #666;\n",
              "  }\n",
              "\n",
              "  .colab-df-quickchart {\n",
              "    background-color: var(--bg-color);\n",
              "    border: none;\n",
              "    border-radius: 50%;\n",
              "    cursor: pointer;\n",
              "    display: none;\n",
              "    fill: var(--fill-color);\n",
              "    height: 32px;\n",
              "    padding: 0;\n",
              "    width: 32px;\n",
              "  }\n",
              "\n",
              "  .colab-df-quickchart:hover {\n",
              "    background-color: var(--hover-bg-color);\n",
              "    box-shadow: 0 1px 2px rgba(60, 64, 67, 0.3), 0 1px 3px 1px rgba(60, 64, 67, 0.15);\n",
              "    fill: var(--button-hover-fill-color);\n",
              "  }\n",
              "\n",
              "  .colab-df-quickchart-complete:disabled,\n",
              "  .colab-df-quickchart-complete:disabled:hover {\n",
              "    background-color: var(--disabled-bg-color);\n",
              "    fill: var(--disabled-fill-color);\n",
              "    box-shadow: none;\n",
              "  }\n",
              "\n",
              "  .colab-df-spinner {\n",
              "    border: 2px solid var(--fill-color);\n",
              "    border-color: transparent;\n",
              "    border-bottom-color: var(--fill-color);\n",
              "    animation:\n",
              "      spin 1s steps(1) infinite;\n",
              "  }\n",
              "\n",
              "  @keyframes spin {\n",
              "    0% {\n",
              "      border-color: transparent;\n",
              "      border-bottom-color: var(--fill-color);\n",
              "      border-left-color: var(--fill-color);\n",
              "    }\n",
              "    20% {\n",
              "      border-color: transparent;\n",
              "      border-left-color: var(--fill-color);\n",
              "      border-top-color: var(--fill-color);\n",
              "    }\n",
              "    30% {\n",
              "      border-color: transparent;\n",
              "      border-left-color: var(--fill-color);\n",
              "      border-top-color: var(--fill-color);\n",
              "      border-right-color: var(--fill-color);\n",
              "    }\n",
              "    40% {\n",
              "      border-color: transparent;\n",
              "      border-right-color: var(--fill-color);\n",
              "      border-top-color: var(--fill-color);\n",
              "    }\n",
              "    60% {\n",
              "      border-color: transparent;\n",
              "      border-right-color: var(--fill-color);\n",
              "    }\n",
              "    80% {\n",
              "      border-color: transparent;\n",
              "      border-right-color: var(--fill-color);\n",
              "      border-bottom-color: var(--fill-color);\n",
              "    }\n",
              "    90% {\n",
              "      border-color: transparent;\n",
              "      border-bottom-color: var(--fill-color);\n",
              "    }\n",
              "  }\n",
              "</style>\n",
              "\n",
              "  <script>\n",
              "    async function quickchart(key) {\n",
              "      const quickchartButtonEl =\n",
              "        document.querySelector('#' + key + ' button');\n",
              "      quickchartButtonEl.disabled = true;  // To prevent multiple clicks.\n",
              "      quickchartButtonEl.classList.add('colab-df-spinner');\n",
              "      try {\n",
              "        const charts = await google.colab.kernel.invokeFunction(\n",
              "            'suggestCharts', [key], {});\n",
              "      } catch (error) {\n",
              "        console.error('Error during call to suggestCharts:', error);\n",
              "      }\n",
              "      quickchartButtonEl.classList.remove('colab-df-spinner');\n",
              "      quickchartButtonEl.classList.add('colab-df-quickchart-complete');\n",
              "    }\n",
              "    (() => {\n",
              "      let quickchartButtonEl =\n",
              "        document.querySelector('#df-6d279401-504b-4df3-ac5f-e219c8ec62d8 button');\n",
              "      quickchartButtonEl.style.display =\n",
              "        google.colab.kernel.accessAllowed ? 'block' : 'none';\n",
              "    })();\n",
              "  </script>\n",
              "</div>\n",
              "\n",
              "    </div>\n",
              "  </div>\n"
            ]
          },
          "metadata": {},
          "execution_count": 3
        }
      ]
    },
    {
      "cell_type": "markdown",
      "source": [
        "Agora podemos partir para a proxima etapa"
      ],
      "metadata": {
        "id": "nFERFnhlkl4h"
      }
    },
    {
      "cell_type": "markdown",
      "source": [
        "## **Análise inicial**"
      ],
      "metadata": {
        "id": "CQSTAmqjiKbc"
      }
    },
    {
      "cell_type": "markdown",
      "source": [
        "Nessa parte do desafio responderemos algumas perguntas com o intuito de enterdermos um pouco mais de como esses dados se comportam, para isso responderemos as seguintes perguntas:\n",
        "\n",
        "- Quantos dados temos? Linhas e colunas\n",
        "- Quais são as colunas numéricas?\n",
        "- Temos duplicados na nossa base? Se tivermos, retire-os\n",
        "- Temos dados nulos nessa base? Será que eles indicam algo? O que fazer com eles?\n",
        "- Qual é a média, mediana, 25 percentil, 75 percentil, mínimo e máximo de cada uma das colunas numéricas?"
      ],
      "metadata": {
        "id": "2dvgLmgYiPMj"
      }
    },
    {
      "cell_type": "markdown",
      "source": [
        "Agora que já sabemos as perguntas, vamos partir para a resolução das mesmas."
      ],
      "metadata": {
        "id": "nL1uADqYi-tP"
      }
    },
    {
      "cell_type": "markdown",
      "source": [
        "### **Quantos dados temos? Linhas e colunas**"
      ],
      "metadata": {
        "id": "wc5TSve3k_KQ"
      }
    },
    {
      "cell_type": "code",
      "execution_count": 4,
      "metadata": {
        "colab": {
          "base_uri": "https://localhost:8080/"
        },
        "id": "Pyto1meGhnvA",
        "outputId": "3687917b-6de5-47d4-dabe-545319dd0d00"
      },
      "outputs": [
        {
          "output_type": "execute_result",
          "data": {
            "text/plain": [
              "(2205, 44)"
            ]
          },
          "metadata": {},
          "execution_count": 4
        }
      ],
      "source": [
        "# Observando as dimensões dos dados\n",
        "df.shape"
      ]
    },
    {
      "cell_type": "markdown",
      "source": [
        "Dessa forma, podemos observar que temos 2205 linhas e 44 colunas nessa base de dados."
      ],
      "metadata": {
        "id": "sfEBNsiolBwW"
      }
    },
    {
      "cell_type": "markdown",
      "source": [
        "### **Quais são as colunas numéricas?**"
      ],
      "metadata": {
        "id": "GVwY7A0KlII-"
      }
    },
    {
      "cell_type": "code",
      "source": [
        "# Observando o tipo de dado\n",
        "df.info()"
      ],
      "metadata": {
        "colab": {
          "base_uri": "https://localhost:8080/"
        },
        "id": "AQUtC98JlLBt",
        "outputId": "133d6462-4238-4273-a39c-9a1ff1e47e8d"
      },
      "execution_count": 5,
      "outputs": [
        {
          "output_type": "stream",
          "name": "stdout",
          "text": [
            "<class 'pandas.core.frame.DataFrame'>\n",
            "RangeIndex: 2205 entries, 0 to 2204\n",
            "Data columns (total 44 columns):\n",
            " #   Column                Non-Null Count  Dtype  \n",
            "---  ------                --------------  -----  \n",
            " 0   Unnamed: 0            2205 non-null   int64  \n",
            " 1   Income                2205 non-null   float64\n",
            " 2   Kidhome               2205 non-null   int64  \n",
            " 3   Teenhome              2205 non-null   int64  \n",
            " 4   Recency               2205 non-null   int64  \n",
            " 5   MntWines              2205 non-null   int64  \n",
            " 6   MntFruits             2205 non-null   int64  \n",
            " 7   MntMeatProducts       2205 non-null   int64  \n",
            " 8   MntFishProducts       2205 non-null   int64  \n",
            " 9   MntSweetProducts      2205 non-null   int64  \n",
            " 10  MntGoldProds          2205 non-null   int64  \n",
            " 11  NumDealsPurchases     2205 non-null   int64  \n",
            " 12  NumWebPurchases       2205 non-null   int64  \n",
            " 13  NumCatalogPurchases   2205 non-null   int64  \n",
            " 14  NumStorePurchases     2205 non-null   int64  \n",
            " 15  NumWebVisitsMonth     2205 non-null   int64  \n",
            " 16  AcceptedCmp3          2205 non-null   int64  \n",
            " 17  AcceptedCmp4          2205 non-null   int64  \n",
            " 18  AcceptedCmp5          2205 non-null   int64  \n",
            " 19  AcceptedCmp1          2205 non-null   int64  \n",
            " 20  AcceptedCmp2          2205 non-null   int64  \n",
            " 21  Complain              2205 non-null   int64  \n",
            " 22  Z_CostContact         2205 non-null   int64  \n",
            " 23  Z_Revenue             2205 non-null   int64  \n",
            " 24  Response              2205 non-null   int64  \n",
            " 25  Age                   2205 non-null   int64  \n",
            " 26  Customer_Days         2205 non-null   int64  \n",
            " 27  marital_Divorced      230 non-null    float64\n",
            " 28  marital_Married       854 non-null    float64\n",
            " 29  marital_Single        477 non-null    float64\n",
            " 30  marital_Together      568 non-null    float64\n",
            " 31  marital_Widow         76 non-null     float64\n",
            " 32  education_2n Cycle    198 non-null    float64\n",
            " 33  education_Basic       54 non-null     float64\n",
            " 34  education_Graduation  1113 non-null   float64\n",
            " 35  education_Master      364 non-null    float64\n",
            " 36  education_PhD         476 non-null    float64\n",
            " 37  MntTotal              2205 non-null   int64  \n",
            " 38  MntRegularProds       2205 non-null   int64  \n",
            " 39  AcceptedCmpOverall    2205 non-null   int64  \n",
            " 40  marital_status        2205 non-null   object \n",
            " 41  education_level       2205 non-null   object \n",
            " 42  kids                  2205 non-null   int64  \n",
            " 43  expenses              2205 non-null   int64  \n",
            "dtypes: float64(11), int64(31), object(2)\n",
            "memory usage: 758.1+ KB\n"
          ]
        }
      ]
    },
    {
      "cell_type": "markdown",
      "source": [
        "Dessa forma, podemos observar o tipo de dado presente em cada uma das colunas. Temos 2 variáveis categóricas e 42 colunas numéricas, sendo elas:\n",
        "\n",
        "**Variáveis categóricas:**\n",
        " - marital_status        \n",
        " - education_level\n",
        "\n",
        "**Variáveis numéricas:**\n",
        "- Income\n",
        "- Kidhome\n",
        "- Teenhome              \n",
        "- Recency               \n",
        "- MntWines              \n",
        "- MntFruits             \n",
        "- MntMeatProducts       \n",
        "- MntFishProducts     \n",
        "-  MntSweetProducts       \n",
        "- MntGoldProds          \n",
        "- NumDealsPurchases\n",
        "- NumWebPurchases       \n",
        "- NumCatalogPurchases    \n",
        "- NumStorePurchases     \n",
        "- NumWebVisitsMonth    \n",
        "- AcceptedCmp3        \n",
        "- AcceptedCmp4         \n",
        "- AcceptedCmp5          \n",
        "- AcceptedCmp1          \n",
        "- AcceptedCmp2          \n",
        "- Complain             \n",
        "- Z_CostContact        \n",
        "-  Z_Revenue             \n",
        "-  Response              \n",
        "- Age                   \n",
        "- Customer_Days       \n",
        "- marital_Divorced     \n",
        "- marital_Married      \n",
        "- marital_Single        \n",
        "- marital_Together    \n",
        "- marital_Widow         \n",
        "- education_2n Cycle    \n",
        "- education_Basic       \n",
        "- education_Graduation  \n",
        "- education_Master     \n",
        "-  education_PhD         \n",
        "-  MntTotal              \n",
        "-  MntRegularProds       \n",
        "-  AcceptedCmpOverall   \n",
        "-  kids                \n",
        "-  expenses             \n",
        "\n",
        "\n"
      ],
      "metadata": {
        "id": "3YoQ7v-ClRju"
      }
    },
    {
      "cell_type": "markdown",
      "source": [
        "### **Temos duplicados na nossa base? Se tivermos, retire-os**"
      ],
      "metadata": {
        "id": "I1GgN5NKt5lv"
      }
    },
    {
      "cell_type": "code",
      "source": [
        "# Verificando o valores duplicados\n",
        "df.duplicated().sum()"
      ],
      "metadata": {
        "colab": {
          "base_uri": "https://localhost:8080/"
        },
        "id": "0Za8XSoVtkVx",
        "outputId": "5b4ef036-b58c-400c-9d86-099be0cf7c72"
      },
      "execution_count": 6,
      "outputs": [
        {
          "output_type": "execute_result",
          "data": {
            "text/plain": [
              "0"
            ]
          },
          "metadata": {},
          "execution_count": 6
        }
      ]
    },
    {
      "cell_type": "markdown",
      "source": [
        "Podemos observar que nesta base não existem valores duplicados. Sendo assim, podemos seguir adiante."
      ],
      "metadata": {
        "id": "2lwSGAgYt-Bt"
      }
    },
    {
      "cell_type": "markdown",
      "source": [
        "### **Temos dados nulos nessa base? Será que eles indicam algo? O que fazer com eles?**"
      ],
      "metadata": {
        "id": "0oVkANhp2mxk"
      }
    },
    {
      "cell_type": "code",
      "source": [
        "# Observando os valores ausentes\n",
        "def percent_ausentes(df_medias):\n",
        "    p_faltantes = df_medias.isnull().mean()\n",
        "    valores_faltantes = pd.DataFrame({'Variavéis': df_medias.columns,\n",
        "                                           '% de ausentes': p_faltantes}\n",
        "                                      ).reset_index(drop = True)\n",
        "\n",
        "    return valores_faltantes.sort_values(by = ['% de ausentes'], ascending = False)\n",
        "\n",
        "percent_ausentes(df)"
      ],
      "metadata": {
        "colab": {
          "base_uri": "https://localhost:8080/",
          "height": 0
        },
        "id": "kS7qmSHl23VZ",
        "outputId": "f38b7a4d-8a55-4335-d57a-d352645cdb3e"
      },
      "execution_count": 7,
      "outputs": [
        {
          "output_type": "execute_result",
          "data": {
            "text/plain": [
              "               Variavéis  % de ausentes\n",
              "33       education_Basic       0.975510\n",
              "31         marital_Widow       0.965533\n",
              "32    education_2n Cycle       0.910204\n",
              "27      marital_Divorced       0.895692\n",
              "35      education_Master       0.834921\n",
              "36         education_PhD       0.784127\n",
              "29        marital_Single       0.783673\n",
              "30      marital_Together       0.742404\n",
              "28       marital_Married       0.612698\n",
              "34  education_Graduation       0.495238\n",
              "24              Response       0.000000\n",
              "25                   Age       0.000000\n",
              "26         Customer_Days       0.000000\n",
              "0             Unnamed: 0       0.000000\n",
              "1                 Income       0.000000\n",
              "37              MntTotal       0.000000\n",
              "38       MntRegularProds       0.000000\n",
              "39    AcceptedCmpOverall       0.000000\n",
              "40        marital_status       0.000000\n",
              "41       education_level       0.000000\n",
              "42                  kids       0.000000\n",
              "23             Z_Revenue       0.000000\n",
              "22         Z_CostContact       0.000000\n",
              "21              Complain       0.000000\n",
              "10          MntGoldProds       0.000000\n",
              "2                Kidhome       0.000000\n",
              "3               Teenhome       0.000000\n",
              "4                Recency       0.000000\n",
              "5               MntWines       0.000000\n",
              "6              MntFruits       0.000000\n",
              "7        MntMeatProducts       0.000000\n",
              "8        MntFishProducts       0.000000\n",
              "9       MntSweetProducts       0.000000\n",
              "11     NumDealsPurchases       0.000000\n",
              "20          AcceptedCmp2       0.000000\n",
              "12       NumWebPurchases       0.000000\n",
              "13   NumCatalogPurchases       0.000000\n",
              "14     NumStorePurchases       0.000000\n",
              "15     NumWebVisitsMonth       0.000000\n",
              "16          AcceptedCmp3       0.000000\n",
              "17          AcceptedCmp4       0.000000\n",
              "18          AcceptedCmp5       0.000000\n",
              "19          AcceptedCmp1       0.000000\n",
              "43              expenses       0.000000"
            ],
            "text/html": [
              "\n",
              "  <div id=\"df-886c0548-1cac-4987-9c2c-2efdc46b2201\" class=\"colab-df-container\">\n",
              "    <div>\n",
              "<style scoped>\n",
              "    .dataframe tbody tr th:only-of-type {\n",
              "        vertical-align: middle;\n",
              "    }\n",
              "\n",
              "    .dataframe tbody tr th {\n",
              "        vertical-align: top;\n",
              "    }\n",
              "\n",
              "    .dataframe thead th {\n",
              "        text-align: right;\n",
              "    }\n",
              "</style>\n",
              "<table border=\"1\" class=\"dataframe\">\n",
              "  <thead>\n",
              "    <tr style=\"text-align: right;\">\n",
              "      <th></th>\n",
              "      <th>Variavéis</th>\n",
              "      <th>% de ausentes</th>\n",
              "    </tr>\n",
              "  </thead>\n",
              "  <tbody>\n",
              "    <tr>\n",
              "      <th>33</th>\n",
              "      <td>education_Basic</td>\n",
              "      <td>0.975510</td>\n",
              "    </tr>\n",
              "    <tr>\n",
              "      <th>31</th>\n",
              "      <td>marital_Widow</td>\n",
              "      <td>0.965533</td>\n",
              "    </tr>\n",
              "    <tr>\n",
              "      <th>32</th>\n",
              "      <td>education_2n Cycle</td>\n",
              "      <td>0.910204</td>\n",
              "    </tr>\n",
              "    <tr>\n",
              "      <th>27</th>\n",
              "      <td>marital_Divorced</td>\n",
              "      <td>0.895692</td>\n",
              "    </tr>\n",
              "    <tr>\n",
              "      <th>35</th>\n",
              "      <td>education_Master</td>\n",
              "      <td>0.834921</td>\n",
              "    </tr>\n",
              "    <tr>\n",
              "      <th>36</th>\n",
              "      <td>education_PhD</td>\n",
              "      <td>0.784127</td>\n",
              "    </tr>\n",
              "    <tr>\n",
              "      <th>29</th>\n",
              "      <td>marital_Single</td>\n",
              "      <td>0.783673</td>\n",
              "    </tr>\n",
              "    <tr>\n",
              "      <th>30</th>\n",
              "      <td>marital_Together</td>\n",
              "      <td>0.742404</td>\n",
              "    </tr>\n",
              "    <tr>\n",
              "      <th>28</th>\n",
              "      <td>marital_Married</td>\n",
              "      <td>0.612698</td>\n",
              "    </tr>\n",
              "    <tr>\n",
              "      <th>34</th>\n",
              "      <td>education_Graduation</td>\n",
              "      <td>0.495238</td>\n",
              "    </tr>\n",
              "    <tr>\n",
              "      <th>24</th>\n",
              "      <td>Response</td>\n",
              "      <td>0.000000</td>\n",
              "    </tr>\n",
              "    <tr>\n",
              "      <th>25</th>\n",
              "      <td>Age</td>\n",
              "      <td>0.000000</td>\n",
              "    </tr>\n",
              "    <tr>\n",
              "      <th>26</th>\n",
              "      <td>Customer_Days</td>\n",
              "      <td>0.000000</td>\n",
              "    </tr>\n",
              "    <tr>\n",
              "      <th>0</th>\n",
              "      <td>Unnamed: 0</td>\n",
              "      <td>0.000000</td>\n",
              "    </tr>\n",
              "    <tr>\n",
              "      <th>1</th>\n",
              "      <td>Income</td>\n",
              "      <td>0.000000</td>\n",
              "    </tr>\n",
              "    <tr>\n",
              "      <th>37</th>\n",
              "      <td>MntTotal</td>\n",
              "      <td>0.000000</td>\n",
              "    </tr>\n",
              "    <tr>\n",
              "      <th>38</th>\n",
              "      <td>MntRegularProds</td>\n",
              "      <td>0.000000</td>\n",
              "    </tr>\n",
              "    <tr>\n",
              "      <th>39</th>\n",
              "      <td>AcceptedCmpOverall</td>\n",
              "      <td>0.000000</td>\n",
              "    </tr>\n",
              "    <tr>\n",
              "      <th>40</th>\n",
              "      <td>marital_status</td>\n",
              "      <td>0.000000</td>\n",
              "    </tr>\n",
              "    <tr>\n",
              "      <th>41</th>\n",
              "      <td>education_level</td>\n",
              "      <td>0.000000</td>\n",
              "    </tr>\n",
              "    <tr>\n",
              "      <th>42</th>\n",
              "      <td>kids</td>\n",
              "      <td>0.000000</td>\n",
              "    </tr>\n",
              "    <tr>\n",
              "      <th>23</th>\n",
              "      <td>Z_Revenue</td>\n",
              "      <td>0.000000</td>\n",
              "    </tr>\n",
              "    <tr>\n",
              "      <th>22</th>\n",
              "      <td>Z_CostContact</td>\n",
              "      <td>0.000000</td>\n",
              "    </tr>\n",
              "    <tr>\n",
              "      <th>21</th>\n",
              "      <td>Complain</td>\n",
              "      <td>0.000000</td>\n",
              "    </tr>\n",
              "    <tr>\n",
              "      <th>10</th>\n",
              "      <td>MntGoldProds</td>\n",
              "      <td>0.000000</td>\n",
              "    </tr>\n",
              "    <tr>\n",
              "      <th>2</th>\n",
              "      <td>Kidhome</td>\n",
              "      <td>0.000000</td>\n",
              "    </tr>\n",
              "    <tr>\n",
              "      <th>3</th>\n",
              "      <td>Teenhome</td>\n",
              "      <td>0.000000</td>\n",
              "    </tr>\n",
              "    <tr>\n",
              "      <th>4</th>\n",
              "      <td>Recency</td>\n",
              "      <td>0.000000</td>\n",
              "    </tr>\n",
              "    <tr>\n",
              "      <th>5</th>\n",
              "      <td>MntWines</td>\n",
              "      <td>0.000000</td>\n",
              "    </tr>\n",
              "    <tr>\n",
              "      <th>6</th>\n",
              "      <td>MntFruits</td>\n",
              "      <td>0.000000</td>\n",
              "    </tr>\n",
              "    <tr>\n",
              "      <th>7</th>\n",
              "      <td>MntMeatProducts</td>\n",
              "      <td>0.000000</td>\n",
              "    </tr>\n",
              "    <tr>\n",
              "      <th>8</th>\n",
              "      <td>MntFishProducts</td>\n",
              "      <td>0.000000</td>\n",
              "    </tr>\n",
              "    <tr>\n",
              "      <th>9</th>\n",
              "      <td>MntSweetProducts</td>\n",
              "      <td>0.000000</td>\n",
              "    </tr>\n",
              "    <tr>\n",
              "      <th>11</th>\n",
              "      <td>NumDealsPurchases</td>\n",
              "      <td>0.000000</td>\n",
              "    </tr>\n",
              "    <tr>\n",
              "      <th>20</th>\n",
              "      <td>AcceptedCmp2</td>\n",
              "      <td>0.000000</td>\n",
              "    </tr>\n",
              "    <tr>\n",
              "      <th>12</th>\n",
              "      <td>NumWebPurchases</td>\n",
              "      <td>0.000000</td>\n",
              "    </tr>\n",
              "    <tr>\n",
              "      <th>13</th>\n",
              "      <td>NumCatalogPurchases</td>\n",
              "      <td>0.000000</td>\n",
              "    </tr>\n",
              "    <tr>\n",
              "      <th>14</th>\n",
              "      <td>NumStorePurchases</td>\n",
              "      <td>0.000000</td>\n",
              "    </tr>\n",
              "    <tr>\n",
              "      <th>15</th>\n",
              "      <td>NumWebVisitsMonth</td>\n",
              "      <td>0.000000</td>\n",
              "    </tr>\n",
              "    <tr>\n",
              "      <th>16</th>\n",
              "      <td>AcceptedCmp3</td>\n",
              "      <td>0.000000</td>\n",
              "    </tr>\n",
              "    <tr>\n",
              "      <th>17</th>\n",
              "      <td>AcceptedCmp4</td>\n",
              "      <td>0.000000</td>\n",
              "    </tr>\n",
              "    <tr>\n",
              "      <th>18</th>\n",
              "      <td>AcceptedCmp5</td>\n",
              "      <td>0.000000</td>\n",
              "    </tr>\n",
              "    <tr>\n",
              "      <th>19</th>\n",
              "      <td>AcceptedCmp1</td>\n",
              "      <td>0.000000</td>\n",
              "    </tr>\n",
              "    <tr>\n",
              "      <th>43</th>\n",
              "      <td>expenses</td>\n",
              "      <td>0.000000</td>\n",
              "    </tr>\n",
              "  </tbody>\n",
              "</table>\n",
              "</div>\n",
              "    <div class=\"colab-df-buttons\">\n",
              "\n",
              "  <div class=\"colab-df-container\">\n",
              "    <button class=\"colab-df-convert\" onclick=\"convertToInteractive('df-886c0548-1cac-4987-9c2c-2efdc46b2201')\"\n",
              "            title=\"Convert this dataframe to an interactive table.\"\n",
              "            style=\"display:none;\">\n",
              "\n",
              "  <svg xmlns=\"http://www.w3.org/2000/svg\" height=\"24px\" viewBox=\"0 -960 960 960\">\n",
              "    <path d=\"M120-120v-720h720v720H120Zm60-500h600v-160H180v160Zm220 220h160v-160H400v160Zm0 220h160v-160H400v160ZM180-400h160v-160H180v160Zm440 0h160v-160H620v160ZM180-180h160v-160H180v160Zm440 0h160v-160H620v160Z\"/>\n",
              "  </svg>\n",
              "    </button>\n",
              "\n",
              "  <style>\n",
              "    .colab-df-container {\n",
              "      display:flex;\n",
              "      gap: 12px;\n",
              "    }\n",
              "\n",
              "    .colab-df-convert {\n",
              "      background-color: #E8F0FE;\n",
              "      border: none;\n",
              "      border-radius: 50%;\n",
              "      cursor: pointer;\n",
              "      display: none;\n",
              "      fill: #1967D2;\n",
              "      height: 32px;\n",
              "      padding: 0 0 0 0;\n",
              "      width: 32px;\n",
              "    }\n",
              "\n",
              "    .colab-df-convert:hover {\n",
              "      background-color: #E2EBFA;\n",
              "      box-shadow: 0px 1px 2px rgba(60, 64, 67, 0.3), 0px 1px 3px 1px rgba(60, 64, 67, 0.15);\n",
              "      fill: #174EA6;\n",
              "    }\n",
              "\n",
              "    .colab-df-buttons div {\n",
              "      margin-bottom: 4px;\n",
              "    }\n",
              "\n",
              "    [theme=dark] .colab-df-convert {\n",
              "      background-color: #3B4455;\n",
              "      fill: #D2E3FC;\n",
              "    }\n",
              "\n",
              "    [theme=dark] .colab-df-convert:hover {\n",
              "      background-color: #434B5C;\n",
              "      box-shadow: 0px 1px 3px 1px rgba(0, 0, 0, 0.15);\n",
              "      filter: drop-shadow(0px 1px 2px rgba(0, 0, 0, 0.3));\n",
              "      fill: #FFFFFF;\n",
              "    }\n",
              "  </style>\n",
              "\n",
              "    <script>\n",
              "      const buttonEl =\n",
              "        document.querySelector('#df-886c0548-1cac-4987-9c2c-2efdc46b2201 button.colab-df-convert');\n",
              "      buttonEl.style.display =\n",
              "        google.colab.kernel.accessAllowed ? 'block' : 'none';\n",
              "\n",
              "      async function convertToInteractive(key) {\n",
              "        const element = document.querySelector('#df-886c0548-1cac-4987-9c2c-2efdc46b2201');\n",
              "        const dataTable =\n",
              "          await google.colab.kernel.invokeFunction('convertToInteractive',\n",
              "                                                    [key], {});\n",
              "        if (!dataTable) return;\n",
              "\n",
              "        const docLinkHtml = 'Like what you see? Visit the ' +\n",
              "          '<a target=\"_blank\" href=https://colab.research.google.com/notebooks/data_table.ipynb>data table notebook</a>'\n",
              "          + ' to learn more about interactive tables.';\n",
              "        element.innerHTML = '';\n",
              "        dataTable['output_type'] = 'display_data';\n",
              "        await google.colab.output.renderOutput(dataTable, element);\n",
              "        const docLink = document.createElement('div');\n",
              "        docLink.innerHTML = docLinkHtml;\n",
              "        element.appendChild(docLink);\n",
              "      }\n",
              "    </script>\n",
              "  </div>\n",
              "\n",
              "\n",
              "<div id=\"df-af1dff9e-d982-4e9d-ae4d-c387bb36dd24\">\n",
              "  <button class=\"colab-df-quickchart\" onclick=\"quickchart('df-af1dff9e-d982-4e9d-ae4d-c387bb36dd24')\"\n",
              "            title=\"Suggest charts\"\n",
              "            style=\"display:none;\">\n",
              "\n",
              "<svg xmlns=\"http://www.w3.org/2000/svg\" height=\"24px\"viewBox=\"0 0 24 24\"\n",
              "     width=\"24px\">\n",
              "    <g>\n",
              "        <path d=\"M19 3H5c-1.1 0-2 .9-2 2v14c0 1.1.9 2 2 2h14c1.1 0 2-.9 2-2V5c0-1.1-.9-2-2-2zM9 17H7v-7h2v7zm4 0h-2V7h2v10zm4 0h-2v-4h2v4z\"/>\n",
              "    </g>\n",
              "</svg>\n",
              "  </button>\n",
              "\n",
              "<style>\n",
              "  .colab-df-quickchart {\n",
              "      --bg-color: #E8F0FE;\n",
              "      --fill-color: #1967D2;\n",
              "      --hover-bg-color: #E2EBFA;\n",
              "      --hover-fill-color: #174EA6;\n",
              "      --disabled-fill-color: #AAA;\n",
              "      --disabled-bg-color: #DDD;\n",
              "  }\n",
              "\n",
              "  [theme=dark] .colab-df-quickchart {\n",
              "      --bg-color: #3B4455;\n",
              "      --fill-color: #D2E3FC;\n",
              "      --hover-bg-color: #434B5C;\n",
              "      --hover-fill-color: #FFFFFF;\n",
              "      --disabled-bg-color: #3B4455;\n",
              "      --disabled-fill-color: #666;\n",
              "  }\n",
              "\n",
              "  .colab-df-quickchart {\n",
              "    background-color: var(--bg-color);\n",
              "    border: none;\n",
              "    border-radius: 50%;\n",
              "    cursor: pointer;\n",
              "    display: none;\n",
              "    fill: var(--fill-color);\n",
              "    height: 32px;\n",
              "    padding: 0;\n",
              "    width: 32px;\n",
              "  }\n",
              "\n",
              "  .colab-df-quickchart:hover {\n",
              "    background-color: var(--hover-bg-color);\n",
              "    box-shadow: 0 1px 2px rgba(60, 64, 67, 0.3), 0 1px 3px 1px rgba(60, 64, 67, 0.15);\n",
              "    fill: var(--button-hover-fill-color);\n",
              "  }\n",
              "\n",
              "  .colab-df-quickchart-complete:disabled,\n",
              "  .colab-df-quickchart-complete:disabled:hover {\n",
              "    background-color: var(--disabled-bg-color);\n",
              "    fill: var(--disabled-fill-color);\n",
              "    box-shadow: none;\n",
              "  }\n",
              "\n",
              "  .colab-df-spinner {\n",
              "    border: 2px solid var(--fill-color);\n",
              "    border-color: transparent;\n",
              "    border-bottom-color: var(--fill-color);\n",
              "    animation:\n",
              "      spin 1s steps(1) infinite;\n",
              "  }\n",
              "\n",
              "  @keyframes spin {\n",
              "    0% {\n",
              "      border-color: transparent;\n",
              "      border-bottom-color: var(--fill-color);\n",
              "      border-left-color: var(--fill-color);\n",
              "    }\n",
              "    20% {\n",
              "      border-color: transparent;\n",
              "      border-left-color: var(--fill-color);\n",
              "      border-top-color: var(--fill-color);\n",
              "    }\n",
              "    30% {\n",
              "      border-color: transparent;\n",
              "      border-left-color: var(--fill-color);\n",
              "      border-top-color: var(--fill-color);\n",
              "      border-right-color: var(--fill-color);\n",
              "    }\n",
              "    40% {\n",
              "      border-color: transparent;\n",
              "      border-right-color: var(--fill-color);\n",
              "      border-top-color: var(--fill-color);\n",
              "    }\n",
              "    60% {\n",
              "      border-color: transparent;\n",
              "      border-right-color: var(--fill-color);\n",
              "    }\n",
              "    80% {\n",
              "      border-color: transparent;\n",
              "      border-right-color: var(--fill-color);\n",
              "      border-bottom-color: var(--fill-color);\n",
              "    }\n",
              "    90% {\n",
              "      border-color: transparent;\n",
              "      border-bottom-color: var(--fill-color);\n",
              "    }\n",
              "  }\n",
              "</style>\n",
              "\n",
              "  <script>\n",
              "    async function quickchart(key) {\n",
              "      const quickchartButtonEl =\n",
              "        document.querySelector('#' + key + ' button');\n",
              "      quickchartButtonEl.disabled = true;  // To prevent multiple clicks.\n",
              "      quickchartButtonEl.classList.add('colab-df-spinner');\n",
              "      try {\n",
              "        const charts = await google.colab.kernel.invokeFunction(\n",
              "            'suggestCharts', [key], {});\n",
              "      } catch (error) {\n",
              "        console.error('Error during call to suggestCharts:', error);\n",
              "      }\n",
              "      quickchartButtonEl.classList.remove('colab-df-spinner');\n",
              "      quickchartButtonEl.classList.add('colab-df-quickchart-complete');\n",
              "    }\n",
              "    (() => {\n",
              "      let quickchartButtonEl =\n",
              "        document.querySelector('#df-af1dff9e-d982-4e9d-ae4d-c387bb36dd24 button');\n",
              "      quickchartButtonEl.style.display =\n",
              "        google.colab.kernel.accessAllowed ? 'block' : 'none';\n",
              "    })();\n",
              "  </script>\n",
              "</div>\n",
              "\n",
              "    </div>\n",
              "  </div>\n"
            ]
          },
          "metadata": {},
          "execution_count": 7
        }
      ]
    },
    {
      "cell_type": "markdown",
      "source": [
        "Essa função nos retorna a porcentagem de valores ausentes presentes em cada coluna. Podemos observar que existem variáveis com a grande maioria de registros ausentes, como, por exemplo, education_basic, marital_widow e education_2n Cycle, que possuem mais de 90% dos valores ausentes. As variáveis marital_divorced e education_master possuem mais de 80%. Variáveis como education_Phd, marital_single e marital_together possuem um pouco mais de 70% de valores ausentes, enquanto as variáveis marital_married e education_graduation possuem, respectivamente, 61% e 49% de valores ausentes."
      ],
      "metadata": {
        "id": "HgRh1AHB3cNc"
      }
    },
    {
      "cell_type": "markdown",
      "source": [
        "Pelo expressivo número de valores ausentes, é possível levantar a hipótese de que os usuários não davam tanta importância para o preenchimento dessas características e acabavam deixando em branco."
      ],
      "metadata": {
        "id": "eKI8fqRj5V-O"
      }
    },
    {
      "cell_type": "markdown",
      "source": [
        "Essas variáveis que, em sua grande maioria, possuem valores ausentes, não vão nos dizer nada a respeito dos nossos dados. Portanto, no momento, elas podem ser retiradas do nosso dataset. Vamos aproveitar para retirar também a coluna \"Unnamed\", já que ela não será utilizada."
      ],
      "metadata": {
        "id": "sbdhRHN459xK"
      }
    },
    {
      "cell_type": "code",
      "source": [
        "# Realizando a exclusão das colunas\n",
        "df = df.drop(['Unnamed: 0','education_Basic', 'marital_Widow', 'education_2n Cycle', 'marital_Divorced', 'education_Master',\n",
        "              'education_PhD', 'marital_Single', 'marital_Together', 'marital_Married', 'education_Graduation'], axis = 1)"
      ],
      "metadata": {
        "id": "9wmwpMpB6XLv"
      },
      "execution_count": 8,
      "outputs": []
    },
    {
      "cell_type": "markdown",
      "source": [
        "Agora vamos observar novamente os valores ausentes."
      ],
      "metadata": {
        "id": "Bkq3EW8R7IOB"
      }
    },
    {
      "cell_type": "code",
      "source": [
        "# Observando os valores ausentes\n",
        "def percent_ausentes(df_medias):\n",
        "    p_faltantes = df_medias.isnull().mean()\n",
        "    valores_faltantes = pd.DataFrame({'Variavéis': df_medias.columns,\n",
        "                                           '% de ausentes': p_faltantes}\n",
        "                                      ).reset_index(drop = True)\n",
        "\n",
        "    return valores_faltantes.sort_values(by = ['% de ausentes'], ascending = False)\n",
        "\n",
        "percent_ausentes(df)"
      ],
      "metadata": {
        "colab": {
          "base_uri": "https://localhost:8080/",
          "height": 0
        },
        "id": "u9w1lShA7L1Y",
        "outputId": "ab76ea86-25e2-470c-dde3-2176aee69d8a"
      },
      "execution_count": 9,
      "outputs": [
        {
          "output_type": "execute_result",
          "data": {
            "text/plain": [
              "              Variavéis  % de ausentes\n",
              "0                Income            0.0\n",
              "17         AcceptedCmp5            0.0\n",
              "31                 kids            0.0\n",
              "30      education_level            0.0\n",
              "29       marital_status            0.0\n",
              "28   AcceptedCmpOverall            0.0\n",
              "27      MntRegularProds            0.0\n",
              "26             MntTotal            0.0\n",
              "25        Customer_Days            0.0\n",
              "24                  Age            0.0\n",
              "23             Response            0.0\n",
              "22            Z_Revenue            0.0\n",
              "21        Z_CostContact            0.0\n",
              "20             Complain            0.0\n",
              "19         AcceptedCmp2            0.0\n",
              "18         AcceptedCmp1            0.0\n",
              "16         AcceptedCmp4            0.0\n",
              "1               Kidhome            0.0\n",
              "15         AcceptedCmp3            0.0\n",
              "14    NumWebVisitsMonth            0.0\n",
              "13    NumStorePurchases            0.0\n",
              "12  NumCatalogPurchases            0.0\n",
              "11      NumWebPurchases            0.0\n",
              "10    NumDealsPurchases            0.0\n",
              "9          MntGoldProds            0.0\n",
              "8      MntSweetProducts            0.0\n",
              "7       MntFishProducts            0.0\n",
              "6       MntMeatProducts            0.0\n",
              "5             MntFruits            0.0\n",
              "4              MntWines            0.0\n",
              "3               Recency            0.0\n",
              "2              Teenhome            0.0\n",
              "32             expenses            0.0"
            ],
            "text/html": [
              "\n",
              "  <div id=\"df-25f35116-03a5-4a68-ad22-1600efe71a16\" class=\"colab-df-container\">\n",
              "    <div>\n",
              "<style scoped>\n",
              "    .dataframe tbody tr th:only-of-type {\n",
              "        vertical-align: middle;\n",
              "    }\n",
              "\n",
              "    .dataframe tbody tr th {\n",
              "        vertical-align: top;\n",
              "    }\n",
              "\n",
              "    .dataframe thead th {\n",
              "        text-align: right;\n",
              "    }\n",
              "</style>\n",
              "<table border=\"1\" class=\"dataframe\">\n",
              "  <thead>\n",
              "    <tr style=\"text-align: right;\">\n",
              "      <th></th>\n",
              "      <th>Variavéis</th>\n",
              "      <th>% de ausentes</th>\n",
              "    </tr>\n",
              "  </thead>\n",
              "  <tbody>\n",
              "    <tr>\n",
              "      <th>0</th>\n",
              "      <td>Income</td>\n",
              "      <td>0.0</td>\n",
              "    </tr>\n",
              "    <tr>\n",
              "      <th>17</th>\n",
              "      <td>AcceptedCmp5</td>\n",
              "      <td>0.0</td>\n",
              "    </tr>\n",
              "    <tr>\n",
              "      <th>31</th>\n",
              "      <td>kids</td>\n",
              "      <td>0.0</td>\n",
              "    </tr>\n",
              "    <tr>\n",
              "      <th>30</th>\n",
              "      <td>education_level</td>\n",
              "      <td>0.0</td>\n",
              "    </tr>\n",
              "    <tr>\n",
              "      <th>29</th>\n",
              "      <td>marital_status</td>\n",
              "      <td>0.0</td>\n",
              "    </tr>\n",
              "    <tr>\n",
              "      <th>28</th>\n",
              "      <td>AcceptedCmpOverall</td>\n",
              "      <td>0.0</td>\n",
              "    </tr>\n",
              "    <tr>\n",
              "      <th>27</th>\n",
              "      <td>MntRegularProds</td>\n",
              "      <td>0.0</td>\n",
              "    </tr>\n",
              "    <tr>\n",
              "      <th>26</th>\n",
              "      <td>MntTotal</td>\n",
              "      <td>0.0</td>\n",
              "    </tr>\n",
              "    <tr>\n",
              "      <th>25</th>\n",
              "      <td>Customer_Days</td>\n",
              "      <td>0.0</td>\n",
              "    </tr>\n",
              "    <tr>\n",
              "      <th>24</th>\n",
              "      <td>Age</td>\n",
              "      <td>0.0</td>\n",
              "    </tr>\n",
              "    <tr>\n",
              "      <th>23</th>\n",
              "      <td>Response</td>\n",
              "      <td>0.0</td>\n",
              "    </tr>\n",
              "    <tr>\n",
              "      <th>22</th>\n",
              "      <td>Z_Revenue</td>\n",
              "      <td>0.0</td>\n",
              "    </tr>\n",
              "    <tr>\n",
              "      <th>21</th>\n",
              "      <td>Z_CostContact</td>\n",
              "      <td>0.0</td>\n",
              "    </tr>\n",
              "    <tr>\n",
              "      <th>20</th>\n",
              "      <td>Complain</td>\n",
              "      <td>0.0</td>\n",
              "    </tr>\n",
              "    <tr>\n",
              "      <th>19</th>\n",
              "      <td>AcceptedCmp2</td>\n",
              "      <td>0.0</td>\n",
              "    </tr>\n",
              "    <tr>\n",
              "      <th>18</th>\n",
              "      <td>AcceptedCmp1</td>\n",
              "      <td>0.0</td>\n",
              "    </tr>\n",
              "    <tr>\n",
              "      <th>16</th>\n",
              "      <td>AcceptedCmp4</td>\n",
              "      <td>0.0</td>\n",
              "    </tr>\n",
              "    <tr>\n",
              "      <th>1</th>\n",
              "      <td>Kidhome</td>\n",
              "      <td>0.0</td>\n",
              "    </tr>\n",
              "    <tr>\n",
              "      <th>15</th>\n",
              "      <td>AcceptedCmp3</td>\n",
              "      <td>0.0</td>\n",
              "    </tr>\n",
              "    <tr>\n",
              "      <th>14</th>\n",
              "      <td>NumWebVisitsMonth</td>\n",
              "      <td>0.0</td>\n",
              "    </tr>\n",
              "    <tr>\n",
              "      <th>13</th>\n",
              "      <td>NumStorePurchases</td>\n",
              "      <td>0.0</td>\n",
              "    </tr>\n",
              "    <tr>\n",
              "      <th>12</th>\n",
              "      <td>NumCatalogPurchases</td>\n",
              "      <td>0.0</td>\n",
              "    </tr>\n",
              "    <tr>\n",
              "      <th>11</th>\n",
              "      <td>NumWebPurchases</td>\n",
              "      <td>0.0</td>\n",
              "    </tr>\n",
              "    <tr>\n",
              "      <th>10</th>\n",
              "      <td>NumDealsPurchases</td>\n",
              "      <td>0.0</td>\n",
              "    </tr>\n",
              "    <tr>\n",
              "      <th>9</th>\n",
              "      <td>MntGoldProds</td>\n",
              "      <td>0.0</td>\n",
              "    </tr>\n",
              "    <tr>\n",
              "      <th>8</th>\n",
              "      <td>MntSweetProducts</td>\n",
              "      <td>0.0</td>\n",
              "    </tr>\n",
              "    <tr>\n",
              "      <th>7</th>\n",
              "      <td>MntFishProducts</td>\n",
              "      <td>0.0</td>\n",
              "    </tr>\n",
              "    <tr>\n",
              "      <th>6</th>\n",
              "      <td>MntMeatProducts</td>\n",
              "      <td>0.0</td>\n",
              "    </tr>\n",
              "    <tr>\n",
              "      <th>5</th>\n",
              "      <td>MntFruits</td>\n",
              "      <td>0.0</td>\n",
              "    </tr>\n",
              "    <tr>\n",
              "      <th>4</th>\n",
              "      <td>MntWines</td>\n",
              "      <td>0.0</td>\n",
              "    </tr>\n",
              "    <tr>\n",
              "      <th>3</th>\n",
              "      <td>Recency</td>\n",
              "      <td>0.0</td>\n",
              "    </tr>\n",
              "    <tr>\n",
              "      <th>2</th>\n",
              "      <td>Teenhome</td>\n",
              "      <td>0.0</td>\n",
              "    </tr>\n",
              "    <tr>\n",
              "      <th>32</th>\n",
              "      <td>expenses</td>\n",
              "      <td>0.0</td>\n",
              "    </tr>\n",
              "  </tbody>\n",
              "</table>\n",
              "</div>\n",
              "    <div class=\"colab-df-buttons\">\n",
              "\n",
              "  <div class=\"colab-df-container\">\n",
              "    <button class=\"colab-df-convert\" onclick=\"convertToInteractive('df-25f35116-03a5-4a68-ad22-1600efe71a16')\"\n",
              "            title=\"Convert this dataframe to an interactive table.\"\n",
              "            style=\"display:none;\">\n",
              "\n",
              "  <svg xmlns=\"http://www.w3.org/2000/svg\" height=\"24px\" viewBox=\"0 -960 960 960\">\n",
              "    <path d=\"M120-120v-720h720v720H120Zm60-500h600v-160H180v160Zm220 220h160v-160H400v160Zm0 220h160v-160H400v160ZM180-400h160v-160H180v160Zm440 0h160v-160H620v160ZM180-180h160v-160H180v160Zm440 0h160v-160H620v160Z\"/>\n",
              "  </svg>\n",
              "    </button>\n",
              "\n",
              "  <style>\n",
              "    .colab-df-container {\n",
              "      display:flex;\n",
              "      gap: 12px;\n",
              "    }\n",
              "\n",
              "    .colab-df-convert {\n",
              "      background-color: #E8F0FE;\n",
              "      border: none;\n",
              "      border-radius: 50%;\n",
              "      cursor: pointer;\n",
              "      display: none;\n",
              "      fill: #1967D2;\n",
              "      height: 32px;\n",
              "      padding: 0 0 0 0;\n",
              "      width: 32px;\n",
              "    }\n",
              "\n",
              "    .colab-df-convert:hover {\n",
              "      background-color: #E2EBFA;\n",
              "      box-shadow: 0px 1px 2px rgba(60, 64, 67, 0.3), 0px 1px 3px 1px rgba(60, 64, 67, 0.15);\n",
              "      fill: #174EA6;\n",
              "    }\n",
              "\n",
              "    .colab-df-buttons div {\n",
              "      margin-bottom: 4px;\n",
              "    }\n",
              "\n",
              "    [theme=dark] .colab-df-convert {\n",
              "      background-color: #3B4455;\n",
              "      fill: #D2E3FC;\n",
              "    }\n",
              "\n",
              "    [theme=dark] .colab-df-convert:hover {\n",
              "      background-color: #434B5C;\n",
              "      box-shadow: 0px 1px 3px 1px rgba(0, 0, 0, 0.15);\n",
              "      filter: drop-shadow(0px 1px 2px rgba(0, 0, 0, 0.3));\n",
              "      fill: #FFFFFF;\n",
              "    }\n",
              "  </style>\n",
              "\n",
              "    <script>\n",
              "      const buttonEl =\n",
              "        document.querySelector('#df-25f35116-03a5-4a68-ad22-1600efe71a16 button.colab-df-convert');\n",
              "      buttonEl.style.display =\n",
              "        google.colab.kernel.accessAllowed ? 'block' : 'none';\n",
              "\n",
              "      async function convertToInteractive(key) {\n",
              "        const element = document.querySelector('#df-25f35116-03a5-4a68-ad22-1600efe71a16');\n",
              "        const dataTable =\n",
              "          await google.colab.kernel.invokeFunction('convertToInteractive',\n",
              "                                                    [key], {});\n",
              "        if (!dataTable) return;\n",
              "\n",
              "        const docLinkHtml = 'Like what you see? Visit the ' +\n",
              "          '<a target=\"_blank\" href=https://colab.research.google.com/notebooks/data_table.ipynb>data table notebook</a>'\n",
              "          + ' to learn more about interactive tables.';\n",
              "        element.innerHTML = '';\n",
              "        dataTable['output_type'] = 'display_data';\n",
              "        await google.colab.output.renderOutput(dataTable, element);\n",
              "        const docLink = document.createElement('div');\n",
              "        docLink.innerHTML = docLinkHtml;\n",
              "        element.appendChild(docLink);\n",
              "      }\n",
              "    </script>\n",
              "  </div>\n",
              "\n",
              "\n",
              "<div id=\"df-94b12dc8-cf01-498f-91eb-d82849419e7d\">\n",
              "  <button class=\"colab-df-quickchart\" onclick=\"quickchart('df-94b12dc8-cf01-498f-91eb-d82849419e7d')\"\n",
              "            title=\"Suggest charts\"\n",
              "            style=\"display:none;\">\n",
              "\n",
              "<svg xmlns=\"http://www.w3.org/2000/svg\" height=\"24px\"viewBox=\"0 0 24 24\"\n",
              "     width=\"24px\">\n",
              "    <g>\n",
              "        <path d=\"M19 3H5c-1.1 0-2 .9-2 2v14c0 1.1.9 2 2 2h14c1.1 0 2-.9 2-2V5c0-1.1-.9-2-2-2zM9 17H7v-7h2v7zm4 0h-2V7h2v10zm4 0h-2v-4h2v4z\"/>\n",
              "    </g>\n",
              "</svg>\n",
              "  </button>\n",
              "\n",
              "<style>\n",
              "  .colab-df-quickchart {\n",
              "      --bg-color: #E8F0FE;\n",
              "      --fill-color: #1967D2;\n",
              "      --hover-bg-color: #E2EBFA;\n",
              "      --hover-fill-color: #174EA6;\n",
              "      --disabled-fill-color: #AAA;\n",
              "      --disabled-bg-color: #DDD;\n",
              "  }\n",
              "\n",
              "  [theme=dark] .colab-df-quickchart {\n",
              "      --bg-color: #3B4455;\n",
              "      --fill-color: #D2E3FC;\n",
              "      --hover-bg-color: #434B5C;\n",
              "      --hover-fill-color: #FFFFFF;\n",
              "      --disabled-bg-color: #3B4455;\n",
              "      --disabled-fill-color: #666;\n",
              "  }\n",
              "\n",
              "  .colab-df-quickchart {\n",
              "    background-color: var(--bg-color);\n",
              "    border: none;\n",
              "    border-radius: 50%;\n",
              "    cursor: pointer;\n",
              "    display: none;\n",
              "    fill: var(--fill-color);\n",
              "    height: 32px;\n",
              "    padding: 0;\n",
              "    width: 32px;\n",
              "  }\n",
              "\n",
              "  .colab-df-quickchart:hover {\n",
              "    background-color: var(--hover-bg-color);\n",
              "    box-shadow: 0 1px 2px rgba(60, 64, 67, 0.3), 0 1px 3px 1px rgba(60, 64, 67, 0.15);\n",
              "    fill: var(--button-hover-fill-color);\n",
              "  }\n",
              "\n",
              "  .colab-df-quickchart-complete:disabled,\n",
              "  .colab-df-quickchart-complete:disabled:hover {\n",
              "    background-color: var(--disabled-bg-color);\n",
              "    fill: var(--disabled-fill-color);\n",
              "    box-shadow: none;\n",
              "  }\n",
              "\n",
              "  .colab-df-spinner {\n",
              "    border: 2px solid var(--fill-color);\n",
              "    border-color: transparent;\n",
              "    border-bottom-color: var(--fill-color);\n",
              "    animation:\n",
              "      spin 1s steps(1) infinite;\n",
              "  }\n",
              "\n",
              "  @keyframes spin {\n",
              "    0% {\n",
              "      border-color: transparent;\n",
              "      border-bottom-color: var(--fill-color);\n",
              "      border-left-color: var(--fill-color);\n",
              "    }\n",
              "    20% {\n",
              "      border-color: transparent;\n",
              "      border-left-color: var(--fill-color);\n",
              "      border-top-color: var(--fill-color);\n",
              "    }\n",
              "    30% {\n",
              "      border-color: transparent;\n",
              "      border-left-color: var(--fill-color);\n",
              "      border-top-color: var(--fill-color);\n",
              "      border-right-color: var(--fill-color);\n",
              "    }\n",
              "    40% {\n",
              "      border-color: transparent;\n",
              "      border-right-color: var(--fill-color);\n",
              "      border-top-color: var(--fill-color);\n",
              "    }\n",
              "    60% {\n",
              "      border-color: transparent;\n",
              "      border-right-color: var(--fill-color);\n",
              "    }\n",
              "    80% {\n",
              "      border-color: transparent;\n",
              "      border-right-color: var(--fill-color);\n",
              "      border-bottom-color: var(--fill-color);\n",
              "    }\n",
              "    90% {\n",
              "      border-color: transparent;\n",
              "      border-bottom-color: var(--fill-color);\n",
              "    }\n",
              "  }\n",
              "</style>\n",
              "\n",
              "  <script>\n",
              "    async function quickchart(key) {\n",
              "      const quickchartButtonEl =\n",
              "        document.querySelector('#' + key + ' button');\n",
              "      quickchartButtonEl.disabled = true;  // To prevent multiple clicks.\n",
              "      quickchartButtonEl.classList.add('colab-df-spinner');\n",
              "      try {\n",
              "        const charts = await google.colab.kernel.invokeFunction(\n",
              "            'suggestCharts', [key], {});\n",
              "      } catch (error) {\n",
              "        console.error('Error during call to suggestCharts:', error);\n",
              "      }\n",
              "      quickchartButtonEl.classList.remove('colab-df-spinner');\n",
              "      quickchartButtonEl.classList.add('colab-df-quickchart-complete');\n",
              "    }\n",
              "    (() => {\n",
              "      let quickchartButtonEl =\n",
              "        document.querySelector('#df-94b12dc8-cf01-498f-91eb-d82849419e7d button');\n",
              "      quickchartButtonEl.style.display =\n",
              "        google.colab.kernel.accessAllowed ? 'block' : 'none';\n",
              "    })();\n",
              "  </script>\n",
              "</div>\n",
              "\n",
              "    </div>\n",
              "  </div>\n"
            ]
          },
          "metadata": {},
          "execution_count": 9
        }
      ]
    },
    {
      "cell_type": "markdown",
      "source": [
        "Com os valores ausentes tratados, podemos seguir adiante."
      ],
      "metadata": {
        "id": "nSBi5zoG7TkG"
      }
    },
    {
      "cell_type": "markdown",
      "source": [
        "### **Qual é a média, mediana, 25 percentil, 75 percentil, mínimo e máximo de cada uma das colunas numéricas?**"
      ],
      "metadata": {
        "id": "voPM4GWM7fF-"
      }
    },
    {
      "cell_type": "markdown",
      "source": [
        "Como este dataset possui bastante colunas, vamos utilizar o seguinte método para que todas as colunas sejam exibidas corretamente."
      ],
      "metadata": {
        "id": "Ml0ujT6o8FqB"
      }
    },
    {
      "cell_type": "code",
      "source": [
        "# Configurar para exibir todas as colunas\n",
        "pd.set_option('display.max_columns', None)"
      ],
      "metadata": {
        "id": "YskjhmT68BsC"
      },
      "execution_count": 10,
      "outputs": []
    },
    {
      "cell_type": "markdown",
      "source": [
        "Vamos utilizar o método 'describe' para observar essas informações de todas as colunas numéricas de uma só vez."
      ],
      "metadata": {
        "id": "8jCyVXHB7hIW"
      }
    },
    {
      "cell_type": "code",
      "source": [
        "# Resumo estatístico\n",
        "df.describe()"
      ],
      "metadata": {
        "colab": {
          "base_uri": "https://localhost:8080/",
          "height": 320
        },
        "id": "THL0zKFD7mqG",
        "outputId": "5dcf4a3b-0473-47fc-fa9d-1d86af83b640"
      },
      "execution_count": 11,
      "outputs": [
        {
          "output_type": "execute_result",
          "data": {
            "text/plain": [
              "              Income      Kidhome     Teenhome      Recency     MntWines  \\\n",
              "count    2205.000000  2205.000000  2205.000000  2205.000000  2205.000000   \n",
              "mean    51622.094785     0.442177     0.506576    49.009070   306.164626   \n",
              "std     20713.063826     0.537132     0.544380    28.932111   337.493839   \n",
              "min      1730.000000     0.000000     0.000000     0.000000     0.000000   \n",
              "25%     35196.000000     0.000000     0.000000    24.000000    24.000000   \n",
              "50%     51287.000000     0.000000     0.000000    49.000000   178.000000   \n",
              "75%     68281.000000     1.000000     1.000000    74.000000   507.000000   \n",
              "max    113734.000000     2.000000     2.000000    99.000000  1493.000000   \n",
              "\n",
              "         MntFruits  MntMeatProducts  MntFishProducts  MntSweetProducts  \\\n",
              "count  2205.000000      2205.000000      2205.000000       2205.000000   \n",
              "mean     26.403175       165.312018        37.756463         27.128345   \n",
              "std      39.784484       217.784507        54.824635         41.130468   \n",
              "min       0.000000         0.000000         0.000000          0.000000   \n",
              "25%       2.000000        16.000000         3.000000          1.000000   \n",
              "50%       8.000000        68.000000        12.000000          8.000000   \n",
              "75%      33.000000       232.000000        50.000000         34.000000   \n",
              "max     199.000000      1725.000000       259.000000        262.000000   \n",
              "\n",
              "       MntGoldProds  NumDealsPurchases  NumWebPurchases  NumCatalogPurchases  \\\n",
              "count   2205.000000        2205.000000      2205.000000          2205.000000   \n",
              "mean      44.057143           2.318367         4.100680             2.645351   \n",
              "std       51.736211           1.886107         2.737424             2.798647   \n",
              "min        0.000000           0.000000         0.000000             0.000000   \n",
              "25%        9.000000           1.000000         2.000000             0.000000   \n",
              "50%       25.000000           2.000000         4.000000             2.000000   \n",
              "75%       56.000000           3.000000         6.000000             4.000000   \n",
              "max      321.000000          15.000000        27.000000            28.000000   \n",
              "\n",
              "       NumStorePurchases  NumWebVisitsMonth  AcceptedCmp3  AcceptedCmp4  \\\n",
              "count        2205.000000        2205.000000   2205.000000   2205.000000   \n",
              "mean            5.823583           5.336961      0.073923      0.074376   \n",
              "std             3.241796           2.413535      0.261705      0.262442   \n",
              "min             0.000000           0.000000      0.000000      0.000000   \n",
              "25%             3.000000           3.000000      0.000000      0.000000   \n",
              "50%             5.000000           6.000000      0.000000      0.000000   \n",
              "75%             8.000000           7.000000      0.000000      0.000000   \n",
              "max            13.000000          20.000000      1.000000      1.000000   \n",
              "\n",
              "       AcceptedCmp5  AcceptedCmp1  AcceptedCmp2     Complain  Z_CostContact  \\\n",
              "count   2205.000000   2205.000000   2205.000000  2205.000000         2205.0   \n",
              "mean       0.073016      0.064399      0.013605     0.009070            3.0   \n",
              "std        0.260222      0.245518      0.115872     0.094827            0.0   \n",
              "min        0.000000      0.000000      0.000000     0.000000            3.0   \n",
              "25%        0.000000      0.000000      0.000000     0.000000            3.0   \n",
              "50%        0.000000      0.000000      0.000000     0.000000            3.0   \n",
              "75%        0.000000      0.000000      0.000000     0.000000            3.0   \n",
              "max        1.000000      1.000000      1.000000     1.000000            3.0   \n",
              "\n",
              "       Z_Revenue    Response          Age  Customer_Days     MntTotal  \\\n",
              "count     2205.0  2205.00000  2205.000000    2205.000000  2205.000000   \n",
              "mean        11.0     0.15102    51.095692    2512.718367   562.764626   \n",
              "std          0.0     0.35815    11.705801     202.563647   575.936911   \n",
              "min         11.0     0.00000    24.000000    2159.000000     4.000000   \n",
              "25%         11.0     0.00000    43.000000    2339.000000    56.000000   \n",
              "50%         11.0     0.00000    50.000000    2515.000000   343.000000   \n",
              "75%         11.0     0.00000    61.000000    2688.000000   964.000000   \n",
              "max         11.0     1.00000    80.000000    2858.000000  2491.000000   \n",
              "\n",
              "       MntRegularProds  AcceptedCmpOverall         kids     expenses  \n",
              "count      2205.000000          2205.00000  2205.000000  2205.000000  \n",
              "mean        518.707483             0.29932     0.948753   562.764626  \n",
              "std         553.847248             0.68044     0.749231   575.936911  \n",
              "min        -283.000000             0.00000     0.000000     4.000000  \n",
              "25%          42.000000             0.00000     0.000000    56.000000  \n",
              "50%         288.000000             0.00000     1.000000   343.000000  \n",
              "75%         884.000000             0.00000     1.000000   964.000000  \n",
              "max        2458.000000             4.00000     3.000000  2491.000000  "
            ],
            "text/html": [
              "\n",
              "  <div id=\"df-fd0b7610-8b93-4b2a-8e1f-efc72fbbad90\" class=\"colab-df-container\">\n",
              "    <div>\n",
              "<style scoped>\n",
              "    .dataframe tbody tr th:only-of-type {\n",
              "        vertical-align: middle;\n",
              "    }\n",
              "\n",
              "    .dataframe tbody tr th {\n",
              "        vertical-align: top;\n",
              "    }\n",
              "\n",
              "    .dataframe thead th {\n",
              "        text-align: right;\n",
              "    }\n",
              "</style>\n",
              "<table border=\"1\" class=\"dataframe\">\n",
              "  <thead>\n",
              "    <tr style=\"text-align: right;\">\n",
              "      <th></th>\n",
              "      <th>Income</th>\n",
              "      <th>Kidhome</th>\n",
              "      <th>Teenhome</th>\n",
              "      <th>Recency</th>\n",
              "      <th>MntWines</th>\n",
              "      <th>MntFruits</th>\n",
              "      <th>MntMeatProducts</th>\n",
              "      <th>MntFishProducts</th>\n",
              "      <th>MntSweetProducts</th>\n",
              "      <th>MntGoldProds</th>\n",
              "      <th>NumDealsPurchases</th>\n",
              "      <th>NumWebPurchases</th>\n",
              "      <th>NumCatalogPurchases</th>\n",
              "      <th>NumStorePurchases</th>\n",
              "      <th>NumWebVisitsMonth</th>\n",
              "      <th>AcceptedCmp3</th>\n",
              "      <th>AcceptedCmp4</th>\n",
              "      <th>AcceptedCmp5</th>\n",
              "      <th>AcceptedCmp1</th>\n",
              "      <th>AcceptedCmp2</th>\n",
              "      <th>Complain</th>\n",
              "      <th>Z_CostContact</th>\n",
              "      <th>Z_Revenue</th>\n",
              "      <th>Response</th>\n",
              "      <th>Age</th>\n",
              "      <th>Customer_Days</th>\n",
              "      <th>MntTotal</th>\n",
              "      <th>MntRegularProds</th>\n",
              "      <th>AcceptedCmpOverall</th>\n",
              "      <th>kids</th>\n",
              "      <th>expenses</th>\n",
              "    </tr>\n",
              "  </thead>\n",
              "  <tbody>\n",
              "    <tr>\n",
              "      <th>count</th>\n",
              "      <td>2205.000000</td>\n",
              "      <td>2205.000000</td>\n",
              "      <td>2205.000000</td>\n",
              "      <td>2205.000000</td>\n",
              "      <td>2205.000000</td>\n",
              "      <td>2205.000000</td>\n",
              "      <td>2205.000000</td>\n",
              "      <td>2205.000000</td>\n",
              "      <td>2205.000000</td>\n",
              "      <td>2205.000000</td>\n",
              "      <td>2205.000000</td>\n",
              "      <td>2205.000000</td>\n",
              "      <td>2205.000000</td>\n",
              "      <td>2205.000000</td>\n",
              "      <td>2205.000000</td>\n",
              "      <td>2205.000000</td>\n",
              "      <td>2205.000000</td>\n",
              "      <td>2205.000000</td>\n",
              "      <td>2205.000000</td>\n",
              "      <td>2205.000000</td>\n",
              "      <td>2205.000000</td>\n",
              "      <td>2205.0</td>\n",
              "      <td>2205.0</td>\n",
              "      <td>2205.00000</td>\n",
              "      <td>2205.000000</td>\n",
              "      <td>2205.000000</td>\n",
              "      <td>2205.000000</td>\n",
              "      <td>2205.000000</td>\n",
              "      <td>2205.00000</td>\n",
              "      <td>2205.000000</td>\n",
              "      <td>2205.000000</td>\n",
              "    </tr>\n",
              "    <tr>\n",
              "      <th>mean</th>\n",
              "      <td>51622.094785</td>\n",
              "      <td>0.442177</td>\n",
              "      <td>0.506576</td>\n",
              "      <td>49.009070</td>\n",
              "      <td>306.164626</td>\n",
              "      <td>26.403175</td>\n",
              "      <td>165.312018</td>\n",
              "      <td>37.756463</td>\n",
              "      <td>27.128345</td>\n",
              "      <td>44.057143</td>\n",
              "      <td>2.318367</td>\n",
              "      <td>4.100680</td>\n",
              "      <td>2.645351</td>\n",
              "      <td>5.823583</td>\n",
              "      <td>5.336961</td>\n",
              "      <td>0.073923</td>\n",
              "      <td>0.074376</td>\n",
              "      <td>0.073016</td>\n",
              "      <td>0.064399</td>\n",
              "      <td>0.013605</td>\n",
              "      <td>0.009070</td>\n",
              "      <td>3.0</td>\n",
              "      <td>11.0</td>\n",
              "      <td>0.15102</td>\n",
              "      <td>51.095692</td>\n",
              "      <td>2512.718367</td>\n",
              "      <td>562.764626</td>\n",
              "      <td>518.707483</td>\n",
              "      <td>0.29932</td>\n",
              "      <td>0.948753</td>\n",
              "      <td>562.764626</td>\n",
              "    </tr>\n",
              "    <tr>\n",
              "      <th>std</th>\n",
              "      <td>20713.063826</td>\n",
              "      <td>0.537132</td>\n",
              "      <td>0.544380</td>\n",
              "      <td>28.932111</td>\n",
              "      <td>337.493839</td>\n",
              "      <td>39.784484</td>\n",
              "      <td>217.784507</td>\n",
              "      <td>54.824635</td>\n",
              "      <td>41.130468</td>\n",
              "      <td>51.736211</td>\n",
              "      <td>1.886107</td>\n",
              "      <td>2.737424</td>\n",
              "      <td>2.798647</td>\n",
              "      <td>3.241796</td>\n",
              "      <td>2.413535</td>\n",
              "      <td>0.261705</td>\n",
              "      <td>0.262442</td>\n",
              "      <td>0.260222</td>\n",
              "      <td>0.245518</td>\n",
              "      <td>0.115872</td>\n",
              "      <td>0.094827</td>\n",
              "      <td>0.0</td>\n",
              "      <td>0.0</td>\n",
              "      <td>0.35815</td>\n",
              "      <td>11.705801</td>\n",
              "      <td>202.563647</td>\n",
              "      <td>575.936911</td>\n",
              "      <td>553.847248</td>\n",
              "      <td>0.68044</td>\n",
              "      <td>0.749231</td>\n",
              "      <td>575.936911</td>\n",
              "    </tr>\n",
              "    <tr>\n",
              "      <th>min</th>\n",
              "      <td>1730.000000</td>\n",
              "      <td>0.000000</td>\n",
              "      <td>0.000000</td>\n",
              "      <td>0.000000</td>\n",
              "      <td>0.000000</td>\n",
              "      <td>0.000000</td>\n",
              "      <td>0.000000</td>\n",
              "      <td>0.000000</td>\n",
              "      <td>0.000000</td>\n",
              "      <td>0.000000</td>\n",
              "      <td>0.000000</td>\n",
              "      <td>0.000000</td>\n",
              "      <td>0.000000</td>\n",
              "      <td>0.000000</td>\n",
              "      <td>0.000000</td>\n",
              "      <td>0.000000</td>\n",
              "      <td>0.000000</td>\n",
              "      <td>0.000000</td>\n",
              "      <td>0.000000</td>\n",
              "      <td>0.000000</td>\n",
              "      <td>0.000000</td>\n",
              "      <td>3.0</td>\n",
              "      <td>11.0</td>\n",
              "      <td>0.00000</td>\n",
              "      <td>24.000000</td>\n",
              "      <td>2159.000000</td>\n",
              "      <td>4.000000</td>\n",
              "      <td>-283.000000</td>\n",
              "      <td>0.00000</td>\n",
              "      <td>0.000000</td>\n",
              "      <td>4.000000</td>\n",
              "    </tr>\n",
              "    <tr>\n",
              "      <th>25%</th>\n",
              "      <td>35196.000000</td>\n",
              "      <td>0.000000</td>\n",
              "      <td>0.000000</td>\n",
              "      <td>24.000000</td>\n",
              "      <td>24.000000</td>\n",
              "      <td>2.000000</td>\n",
              "      <td>16.000000</td>\n",
              "      <td>3.000000</td>\n",
              "      <td>1.000000</td>\n",
              "      <td>9.000000</td>\n",
              "      <td>1.000000</td>\n",
              "      <td>2.000000</td>\n",
              "      <td>0.000000</td>\n",
              "      <td>3.000000</td>\n",
              "      <td>3.000000</td>\n",
              "      <td>0.000000</td>\n",
              "      <td>0.000000</td>\n",
              "      <td>0.000000</td>\n",
              "      <td>0.000000</td>\n",
              "      <td>0.000000</td>\n",
              "      <td>0.000000</td>\n",
              "      <td>3.0</td>\n",
              "      <td>11.0</td>\n",
              "      <td>0.00000</td>\n",
              "      <td>43.000000</td>\n",
              "      <td>2339.000000</td>\n",
              "      <td>56.000000</td>\n",
              "      <td>42.000000</td>\n",
              "      <td>0.00000</td>\n",
              "      <td>0.000000</td>\n",
              "      <td>56.000000</td>\n",
              "    </tr>\n",
              "    <tr>\n",
              "      <th>50%</th>\n",
              "      <td>51287.000000</td>\n",
              "      <td>0.000000</td>\n",
              "      <td>0.000000</td>\n",
              "      <td>49.000000</td>\n",
              "      <td>178.000000</td>\n",
              "      <td>8.000000</td>\n",
              "      <td>68.000000</td>\n",
              "      <td>12.000000</td>\n",
              "      <td>8.000000</td>\n",
              "      <td>25.000000</td>\n",
              "      <td>2.000000</td>\n",
              "      <td>4.000000</td>\n",
              "      <td>2.000000</td>\n",
              "      <td>5.000000</td>\n",
              "      <td>6.000000</td>\n",
              "      <td>0.000000</td>\n",
              "      <td>0.000000</td>\n",
              "      <td>0.000000</td>\n",
              "      <td>0.000000</td>\n",
              "      <td>0.000000</td>\n",
              "      <td>0.000000</td>\n",
              "      <td>3.0</td>\n",
              "      <td>11.0</td>\n",
              "      <td>0.00000</td>\n",
              "      <td>50.000000</td>\n",
              "      <td>2515.000000</td>\n",
              "      <td>343.000000</td>\n",
              "      <td>288.000000</td>\n",
              "      <td>0.00000</td>\n",
              "      <td>1.000000</td>\n",
              "      <td>343.000000</td>\n",
              "    </tr>\n",
              "    <tr>\n",
              "      <th>75%</th>\n",
              "      <td>68281.000000</td>\n",
              "      <td>1.000000</td>\n",
              "      <td>1.000000</td>\n",
              "      <td>74.000000</td>\n",
              "      <td>507.000000</td>\n",
              "      <td>33.000000</td>\n",
              "      <td>232.000000</td>\n",
              "      <td>50.000000</td>\n",
              "      <td>34.000000</td>\n",
              "      <td>56.000000</td>\n",
              "      <td>3.000000</td>\n",
              "      <td>6.000000</td>\n",
              "      <td>4.000000</td>\n",
              "      <td>8.000000</td>\n",
              "      <td>7.000000</td>\n",
              "      <td>0.000000</td>\n",
              "      <td>0.000000</td>\n",
              "      <td>0.000000</td>\n",
              "      <td>0.000000</td>\n",
              "      <td>0.000000</td>\n",
              "      <td>0.000000</td>\n",
              "      <td>3.0</td>\n",
              "      <td>11.0</td>\n",
              "      <td>0.00000</td>\n",
              "      <td>61.000000</td>\n",
              "      <td>2688.000000</td>\n",
              "      <td>964.000000</td>\n",
              "      <td>884.000000</td>\n",
              "      <td>0.00000</td>\n",
              "      <td>1.000000</td>\n",
              "      <td>964.000000</td>\n",
              "    </tr>\n",
              "    <tr>\n",
              "      <th>max</th>\n",
              "      <td>113734.000000</td>\n",
              "      <td>2.000000</td>\n",
              "      <td>2.000000</td>\n",
              "      <td>99.000000</td>\n",
              "      <td>1493.000000</td>\n",
              "      <td>199.000000</td>\n",
              "      <td>1725.000000</td>\n",
              "      <td>259.000000</td>\n",
              "      <td>262.000000</td>\n",
              "      <td>321.000000</td>\n",
              "      <td>15.000000</td>\n",
              "      <td>27.000000</td>\n",
              "      <td>28.000000</td>\n",
              "      <td>13.000000</td>\n",
              "      <td>20.000000</td>\n",
              "      <td>1.000000</td>\n",
              "      <td>1.000000</td>\n",
              "      <td>1.000000</td>\n",
              "      <td>1.000000</td>\n",
              "      <td>1.000000</td>\n",
              "      <td>1.000000</td>\n",
              "      <td>3.0</td>\n",
              "      <td>11.0</td>\n",
              "      <td>1.00000</td>\n",
              "      <td>80.000000</td>\n",
              "      <td>2858.000000</td>\n",
              "      <td>2491.000000</td>\n",
              "      <td>2458.000000</td>\n",
              "      <td>4.00000</td>\n",
              "      <td>3.000000</td>\n",
              "      <td>2491.000000</td>\n",
              "    </tr>\n",
              "  </tbody>\n",
              "</table>\n",
              "</div>\n",
              "    <div class=\"colab-df-buttons\">\n",
              "\n",
              "  <div class=\"colab-df-container\">\n",
              "    <button class=\"colab-df-convert\" onclick=\"convertToInteractive('df-fd0b7610-8b93-4b2a-8e1f-efc72fbbad90')\"\n",
              "            title=\"Convert this dataframe to an interactive table.\"\n",
              "            style=\"display:none;\">\n",
              "\n",
              "  <svg xmlns=\"http://www.w3.org/2000/svg\" height=\"24px\" viewBox=\"0 -960 960 960\">\n",
              "    <path d=\"M120-120v-720h720v720H120Zm60-500h600v-160H180v160Zm220 220h160v-160H400v160Zm0 220h160v-160H400v160ZM180-400h160v-160H180v160Zm440 0h160v-160H620v160ZM180-180h160v-160H180v160Zm440 0h160v-160H620v160Z\"/>\n",
              "  </svg>\n",
              "    </button>\n",
              "\n",
              "  <style>\n",
              "    .colab-df-container {\n",
              "      display:flex;\n",
              "      gap: 12px;\n",
              "    }\n",
              "\n",
              "    .colab-df-convert {\n",
              "      background-color: #E8F0FE;\n",
              "      border: none;\n",
              "      border-radius: 50%;\n",
              "      cursor: pointer;\n",
              "      display: none;\n",
              "      fill: #1967D2;\n",
              "      height: 32px;\n",
              "      padding: 0 0 0 0;\n",
              "      width: 32px;\n",
              "    }\n",
              "\n",
              "    .colab-df-convert:hover {\n",
              "      background-color: #E2EBFA;\n",
              "      box-shadow: 0px 1px 2px rgba(60, 64, 67, 0.3), 0px 1px 3px 1px rgba(60, 64, 67, 0.15);\n",
              "      fill: #174EA6;\n",
              "    }\n",
              "\n",
              "    .colab-df-buttons div {\n",
              "      margin-bottom: 4px;\n",
              "    }\n",
              "\n",
              "    [theme=dark] .colab-df-convert {\n",
              "      background-color: #3B4455;\n",
              "      fill: #D2E3FC;\n",
              "    }\n",
              "\n",
              "    [theme=dark] .colab-df-convert:hover {\n",
              "      background-color: #434B5C;\n",
              "      box-shadow: 0px 1px 3px 1px rgba(0, 0, 0, 0.15);\n",
              "      filter: drop-shadow(0px 1px 2px rgba(0, 0, 0, 0.3));\n",
              "      fill: #FFFFFF;\n",
              "    }\n",
              "  </style>\n",
              "\n",
              "    <script>\n",
              "      const buttonEl =\n",
              "        document.querySelector('#df-fd0b7610-8b93-4b2a-8e1f-efc72fbbad90 button.colab-df-convert');\n",
              "      buttonEl.style.display =\n",
              "        google.colab.kernel.accessAllowed ? 'block' : 'none';\n",
              "\n",
              "      async function convertToInteractive(key) {\n",
              "        const element = document.querySelector('#df-fd0b7610-8b93-4b2a-8e1f-efc72fbbad90');\n",
              "        const dataTable =\n",
              "          await google.colab.kernel.invokeFunction('convertToInteractive',\n",
              "                                                    [key], {});\n",
              "        if (!dataTable) return;\n",
              "\n",
              "        const docLinkHtml = 'Like what you see? Visit the ' +\n",
              "          '<a target=\"_blank\" href=https://colab.research.google.com/notebooks/data_table.ipynb>data table notebook</a>'\n",
              "          + ' to learn more about interactive tables.';\n",
              "        element.innerHTML = '';\n",
              "        dataTable['output_type'] = 'display_data';\n",
              "        await google.colab.output.renderOutput(dataTable, element);\n",
              "        const docLink = document.createElement('div');\n",
              "        docLink.innerHTML = docLinkHtml;\n",
              "        element.appendChild(docLink);\n",
              "      }\n",
              "    </script>\n",
              "  </div>\n",
              "\n",
              "\n",
              "<div id=\"df-4a65f2ea-8740-4297-9638-87b8cb8d42b4\">\n",
              "  <button class=\"colab-df-quickchart\" onclick=\"quickchart('df-4a65f2ea-8740-4297-9638-87b8cb8d42b4')\"\n",
              "            title=\"Suggest charts\"\n",
              "            style=\"display:none;\">\n",
              "\n",
              "<svg xmlns=\"http://www.w3.org/2000/svg\" height=\"24px\"viewBox=\"0 0 24 24\"\n",
              "     width=\"24px\">\n",
              "    <g>\n",
              "        <path d=\"M19 3H5c-1.1 0-2 .9-2 2v14c0 1.1.9 2 2 2h14c1.1 0 2-.9 2-2V5c0-1.1-.9-2-2-2zM9 17H7v-7h2v7zm4 0h-2V7h2v10zm4 0h-2v-4h2v4z\"/>\n",
              "    </g>\n",
              "</svg>\n",
              "  </button>\n",
              "\n",
              "<style>\n",
              "  .colab-df-quickchart {\n",
              "      --bg-color: #E8F0FE;\n",
              "      --fill-color: #1967D2;\n",
              "      --hover-bg-color: #E2EBFA;\n",
              "      --hover-fill-color: #174EA6;\n",
              "      --disabled-fill-color: #AAA;\n",
              "      --disabled-bg-color: #DDD;\n",
              "  }\n",
              "\n",
              "  [theme=dark] .colab-df-quickchart {\n",
              "      --bg-color: #3B4455;\n",
              "      --fill-color: #D2E3FC;\n",
              "      --hover-bg-color: #434B5C;\n",
              "      --hover-fill-color: #FFFFFF;\n",
              "      --disabled-bg-color: #3B4455;\n",
              "      --disabled-fill-color: #666;\n",
              "  }\n",
              "\n",
              "  .colab-df-quickchart {\n",
              "    background-color: var(--bg-color);\n",
              "    border: none;\n",
              "    border-radius: 50%;\n",
              "    cursor: pointer;\n",
              "    display: none;\n",
              "    fill: var(--fill-color);\n",
              "    height: 32px;\n",
              "    padding: 0;\n",
              "    width: 32px;\n",
              "  }\n",
              "\n",
              "  .colab-df-quickchart:hover {\n",
              "    background-color: var(--hover-bg-color);\n",
              "    box-shadow: 0 1px 2px rgba(60, 64, 67, 0.3), 0 1px 3px 1px rgba(60, 64, 67, 0.15);\n",
              "    fill: var(--button-hover-fill-color);\n",
              "  }\n",
              "\n",
              "  .colab-df-quickchart-complete:disabled,\n",
              "  .colab-df-quickchart-complete:disabled:hover {\n",
              "    background-color: var(--disabled-bg-color);\n",
              "    fill: var(--disabled-fill-color);\n",
              "    box-shadow: none;\n",
              "  }\n",
              "\n",
              "  .colab-df-spinner {\n",
              "    border: 2px solid var(--fill-color);\n",
              "    border-color: transparent;\n",
              "    border-bottom-color: var(--fill-color);\n",
              "    animation:\n",
              "      spin 1s steps(1) infinite;\n",
              "  }\n",
              "\n",
              "  @keyframes spin {\n",
              "    0% {\n",
              "      border-color: transparent;\n",
              "      border-bottom-color: var(--fill-color);\n",
              "      border-left-color: var(--fill-color);\n",
              "    }\n",
              "    20% {\n",
              "      border-color: transparent;\n",
              "      border-left-color: var(--fill-color);\n",
              "      border-top-color: var(--fill-color);\n",
              "    }\n",
              "    30% {\n",
              "      border-color: transparent;\n",
              "      border-left-color: var(--fill-color);\n",
              "      border-top-color: var(--fill-color);\n",
              "      border-right-color: var(--fill-color);\n",
              "    }\n",
              "    40% {\n",
              "      border-color: transparent;\n",
              "      border-right-color: var(--fill-color);\n",
              "      border-top-color: var(--fill-color);\n",
              "    }\n",
              "    60% {\n",
              "      border-color: transparent;\n",
              "      border-right-color: var(--fill-color);\n",
              "    }\n",
              "    80% {\n",
              "      border-color: transparent;\n",
              "      border-right-color: var(--fill-color);\n",
              "      border-bottom-color: var(--fill-color);\n",
              "    }\n",
              "    90% {\n",
              "      border-color: transparent;\n",
              "      border-bottom-color: var(--fill-color);\n",
              "    }\n",
              "  }\n",
              "</style>\n",
              "\n",
              "  <script>\n",
              "    async function quickchart(key) {\n",
              "      const quickchartButtonEl =\n",
              "        document.querySelector('#' + key + ' button');\n",
              "      quickchartButtonEl.disabled = true;  // To prevent multiple clicks.\n",
              "      quickchartButtonEl.classList.add('colab-df-spinner');\n",
              "      try {\n",
              "        const charts = await google.colab.kernel.invokeFunction(\n",
              "            'suggestCharts', [key], {});\n",
              "      } catch (error) {\n",
              "        console.error('Error during call to suggestCharts:', error);\n",
              "      }\n",
              "      quickchartButtonEl.classList.remove('colab-df-spinner');\n",
              "      quickchartButtonEl.classList.add('colab-df-quickchart-complete');\n",
              "    }\n",
              "    (() => {\n",
              "      let quickchartButtonEl =\n",
              "        document.querySelector('#df-4a65f2ea-8740-4297-9638-87b8cb8d42b4 button');\n",
              "      quickchartButtonEl.style.display =\n",
              "        google.colab.kernel.accessAllowed ? 'block' : 'none';\n",
              "    })();\n",
              "  </script>\n",
              "</div>\n",
              "\n",
              "    </div>\n",
              "  </div>\n"
            ]
          },
          "metadata": {},
          "execution_count": 11
        }
      ]
    },
    {
      "cell_type": "markdown",
      "source": [
        "Dessa forma, podemos observar algumas medidas interessantes, como a média de renda, que é de 51.622.\n",
        "\n",
        "Na coluna \"recency\", que representa o número de dias desde a última compra, a média é de 49 dias, e o maior número de dias que alguém está sem comprar foi 99 dias.\n",
        "\n",
        "A média de gastos nos últimos dois anos em vinho é bem superior à de frutas, peixes e doces. No entanto, podemos notar uma mediana bem diferente da média, o que pode ser um indicativo de que existem outliers nessas colunas.\n",
        "\n",
        "Na coluna \"NumWebPurchases\", que indica o número de compras através de websites, a média de pedidos é de 4, que por sinal está bem próxima da mediana.\n",
        "\n",
        "Aparentemente, a maior média de pedidos é feita diretamente na loja, já que eles atingem uma média de 5 pedidos.\n",
        "\n",
        "A média de idade dessa base é de 51 anos."
      ],
      "metadata": {
        "id": "ik-zGXHsOmYB"
      }
    },
    {
      "cell_type": "markdown",
      "source": [
        "Essas são algumas informações que foram possíveis tirar dos dados nesse momento. Vamos seguir com a nossa análise."
      ],
      "metadata": {
        "id": "TwDGYiJLTGn_"
      }
    },
    {
      "cell_type": "markdown",
      "source": [
        "## **Entendendo o perfil dos clientes**"
      ],
      "metadata": {
        "id": "xAklZWKXTO8V"
      }
    },
    {
      "cell_type": "markdown",
      "source": [
        "Nessa parte vamos utilizar alguns conceitos estatisticos para tentar entender melhor o perfil dos clientes nessa base, para isso precisamos estabelecer algumas perguntas como por exemplo:\n",
        "\n",
        "- Qual é o maior salário encontrado na nossa base?\n",
        "- Qual é a distribuição de salário na nossa base? Temos clientes que ganham muito bem e outros que não ganham muito bem? Veja na coluna Income\n",
        "- Nossos clientes tem níveis de educação maiores ou menores? Veja na coluna education_level\n",
        "- Quantos clientes temos em cada estado civil? Veja na coluna marital_status"
      ],
      "metadata": {
        "id": "Hz1Q0l8eTZmt"
      }
    },
    {
      "cell_type": "markdown",
      "source": [
        "Agora que já sabemos as perguntas, vamos partir para a resolução das mesmas."
      ],
      "metadata": {
        "id": "epDfZiLZT7cL"
      }
    },
    {
      "cell_type": "markdown",
      "source": [
        "### **Qual é o maior salário encontrado na nossa base?**"
      ],
      "metadata": {
        "id": "BkSd-F5ST7wJ"
      }
    },
    {
      "cell_type": "markdown",
      "source": [
        "Vamos utilizar novamente a função 'describe()' para obtermos um resumo estatístico da nossa variável renda."
      ],
      "metadata": {
        "id": "uOnGuG5KVblX"
      }
    },
    {
      "cell_type": "code",
      "source": [
        "# Resumo estatístico\n",
        "df['Income'].describe()"
      ],
      "metadata": {
        "colab": {
          "base_uri": "https://localhost:8080/"
        },
        "id": "4KP_ptpIUDTY",
        "outputId": "4bbbb21c-ee1c-413f-a194-f7d6529b3aaf"
      },
      "execution_count": 12,
      "outputs": [
        {
          "output_type": "execute_result",
          "data": {
            "text/plain": [
              "count      2205.000000\n",
              "mean      51622.094785\n",
              "std       20713.063826\n",
              "min        1730.000000\n",
              "25%       35196.000000\n",
              "50%       51287.000000\n",
              "75%       68281.000000\n",
              "max      113734.000000\n",
              "Name: Income, dtype: float64"
            ]
          },
          "metadata": {},
          "execution_count": 12
        }
      ]
    },
    {
      "cell_type": "markdown",
      "source": [
        "Podemos observar que a maior renda presente nessa base é de 113 mil, e a menor é de 1730."
      ],
      "metadata": {
        "id": "QuMP24YqULW_"
      }
    },
    {
      "cell_type": "markdown",
      "source": [
        "### **Qual é a distribuição de salário na nossa base? Temos clientes que ganham muito bem e outros que não ganham muito bem?**"
      ],
      "metadata": {
        "id": "9XmchFQ-UY91"
      }
    },
    {
      "cell_type": "markdown",
      "source": [
        "Para respondermos a essa pergunta, será necessário a criação de um gráfico de dispersão."
      ],
      "metadata": {
        "id": "FDWfXZBhVuAs"
      }
    },
    {
      "cell_type": "code",
      "source": [
        "# Criando o gráfico\n",
        "sns.scatterplot(df['Income'])\n",
        "plt.title(\"Dipersão (Income)\");"
      ],
      "metadata": {
        "colab": {
          "base_uri": "https://localhost:8080/",
          "height": 0
        },
        "id": "Ce_NyPSQVm7U",
        "outputId": "6f76fe57-56bf-4d9a-b65d-37ee9e980b83"
      },
      "execution_count": 13,
      "outputs": [
        {
          "output_type": "display_data",
          "data": {
            "text/plain": [
              "<Figure size 640x480 with 1 Axes>"
            ],
            "image/png": "[encoded data removed]"
          },
          "metadata": {}
        }
      ]
    },
    {
      "cell_type": "markdown",
      "source": [
        "Nesse caso é possivel, confirmar realmente que existem pessoas que ganham muito e outros que não ganham tão bem."
      ],
      "metadata": {
        "id": "TXNbXejbVkjl"
      }
    },
    {
      "cell_type": "markdown",
      "source": [
        "Vamos tentar observar a correlação entre a idade e renda para verificarmos se uma pessoa mais velha tende a ganhar mais."
      ],
      "metadata": {
        "id": "PlMbMM-PXbpo"
      }
    },
    {
      "cell_type": "code",
      "source": [
        "# Criando o gráfico de dispersão\n",
        "sns.scatterplot(data = df, x = 'Income', y = 'Age')\n",
        "plt.title(\"Renda x Idade\");"
      ],
      "metadata": {
        "colab": {
          "base_uri": "https://localhost:8080/",
          "height": 0
        },
        "id": "HPY0GTZwX1a8",
        "outputId": "152c02d4-0c5b-485a-d84a-a4440761e7b8"
      },
      "execution_count": 14,
      "outputs": [
        {
          "output_type": "display_data",
          "data": {
            "text/plain": [
              "<Figure size 640x480 with 1 Axes>"
            ],
            "image/png": "[encoded data removed]"
          },
          "metadata": {}
        }
      ]
    },
    {
      "cell_type": "markdown",
      "source": [
        "Aparentemente, a renda está bem distribuída em relação à idade. Existem pessoas novas que recebem muito e pessoas mais velhas que também recebem muito."
      ],
      "metadata": {
        "id": "n0mzS5Mdc0Sa"
      }
    },
    {
      "cell_type": "markdown",
      "source": [
        "### **Nossos clientes tem níveis de educação maiores ou menores?**"
      ],
      "metadata": {
        "id": "0FUf7TFTeDgX"
      }
    },
    {
      "cell_type": "markdown",
      "source": [
        "Vamos utilizar o 'value_counts' para identificarmos quantos registros existem em cada categoria."
      ],
      "metadata": {
        "id": "1akw6WgReRlA"
      }
    },
    {
      "cell_type": "code",
      "source": [
        "# Observando os valores na coluna\n",
        "df['education_level'].value_counts()"
      ],
      "metadata": {
        "colab": {
          "base_uri": "https://localhost:8080/"
        },
        "id": "QnV9vCTceEhm",
        "outputId": "4df5fca8-619f-42d1-e670-65e9295fec17"
      },
      "execution_count": 15,
      "outputs": [
        {
          "output_type": "execute_result",
          "data": {
            "text/plain": [
              "Graduation    1113\n",
              "PhD            476\n",
              "Master         364\n",
              "2n Cycle       198\n",
              "Basic           54\n",
              "Name: education_level, dtype: int64"
            ]
          },
          "metadata": {},
          "execution_count": 15
        }
      ]
    },
    {
      "cell_type": "markdown",
      "source": [
        "Podemos perceber então que a maior parte dos clientes presentes nessa base possuem graduação, seguidos por PhD. Então, podemos afirmar que a maior parte dos clientes possui um bom nível educacional."
      ],
      "metadata": {
        "id": "v9Na6Q1xeaIE"
      }
    },
    {
      "cell_type": "markdown",
      "source": [
        "### **Quantos clientes temos em cada estado civil?**"
      ],
      "metadata": {
        "id": "dcvwXdZ6e2FN"
      }
    },
    {
      "cell_type": "code",
      "source": [
        "# Observando os valores na coluna\n",
        "df['marital_status'].value_counts()"
      ],
      "metadata": {
        "colab": {
          "base_uri": "https://localhost:8080/"
        },
        "id": "4lGmDZeWe3Ti",
        "outputId": "038164f7-c650-48d7-e3a2-41bbacd14173"
      },
      "execution_count": 16,
      "outputs": [
        {
          "output_type": "execute_result",
          "data": {
            "text/plain": [
              "Married     854\n",
              "Together    568\n",
              "Single      477\n",
              "Divorced    230\n",
              "Widow        76\n",
              "Name: marital_status, dtype: int64"
            ]
          },
          "metadata": {},
          "execution_count": 16
        }
      ]
    },
    {
      "cell_type": "markdown",
      "source": [
        "A maior parte dos nossos clientes são casados, seguidos pelo status de \"together\"."
      ],
      "metadata": {
        "id": "EJPN6KBFfFx4"
      }
    },
    {
      "cell_type": "markdown",
      "source": [
        "## **Observando a correlação dos dados**"
      ],
      "metadata": {
        "id": "O6tFnSeUlwJt"
      }
    },
    {
      "cell_type": "markdown",
      "source": [
        "Para entendermos melhor como esses dados se correlacionam vamos tentar responder as seguintes perguntas:\n",
        "\n",
        "- Qual é a relação de estado civil com número de filhos? Será que as pessoas casadas têm um maior número de filhos?\n",
        "- Pessoas casadas tendem a gastar mais ?\n",
        "- As pessoas gastam mais ou menos em nossa plataforma quando têm filhos?\n",
        "- Pessoas que têm um maior salário gastam mais?"
      ],
      "metadata": {
        "id": "grp1RjucmDLK"
      }
    },
    {
      "cell_type": "markdown",
      "source": [
        "### **Qual é a relação de estado civil com número de filhos? Será que as pessoas casadas têm um maior número de filhos?**"
      ],
      "metadata": {
        "id": "jtrjzLF2mvUH"
      }
    },
    {
      "cell_type": "code",
      "source": [
        "# Agrupando os dados\n",
        "df.groupby(\"marital_status\")[\"kids\"].sum().sort_values(ascending=False)"
      ],
      "metadata": {
        "colab": {
          "base_uri": "https://localhost:8080/"
        },
        "id": "JFe_q2wCmnWf",
        "outputId": "fca17662-4132-4064-8a34-af162eaf3662"
      },
      "execution_count": 33,
      "outputs": [
        {
          "output_type": "execute_result",
          "data": {
            "text/plain": [
              "marital_status\n",
              "Married     826\n",
              "Together    557\n",
              "Single      410\n",
              "Divorced    232\n",
              "Widow        67\n",
              "Name: kids, dtype: int64"
            ]
          },
          "metadata": {},
          "execution_count": 33
        }
      ]
    },
    {
      "cell_type": "markdown",
      "source": [
        "Dessa forma, podemos observar que pessoas casadas têm mais filhos, seguidos por pessoas no status \"together\", que talvez seja um noivado, e em terceiro lugar estão as pessoas solteiras. Portanto, podemos afirmar que as pessoas casadas dessa base realmente têm mais filhos."
      ],
      "metadata": {
        "id": "oOEK_MItnWwh"
      }
    },
    {
      "cell_type": "markdown",
      "source": [
        "### **Pessoas casadas tendem a gastar mais ?**"
      ],
      "metadata": {
        "id": "BABhFGTd016n"
      }
    },
    {
      "cell_type": "code",
      "source": [
        "# Agrupando os dados\n",
        "df.groupby(\"marital_status\")[\"expenses\"].sum().sort_values(ascending=False)"
      ],
      "metadata": {
        "colab": {
          "base_uri": "https://localhost:8080/"
        },
        "id": "L6J69xkd04X_",
        "outputId": "05789f4e-6edd-4957-a930-61605ac73c9e"
      },
      "execution_count": 32,
      "outputs": [
        {
          "output_type": "execute_result",
          "data": {
            "text/plain": [
              "marital_status\n",
              "Married     466839\n",
              "Together    320551\n",
              "Single      271544\n",
              "Divorced    130882\n",
              "Widow        51080\n",
              "Name: expenses, dtype: int64"
            ]
          },
          "metadata": {},
          "execution_count": 32
        }
      ]
    },
    {
      "cell_type": "markdown",
      "source": [
        "Realmente, pessoas casadas tendem a gastar mais."
      ],
      "metadata": {
        "id": "lslSdROX2EGW"
      }
    },
    {
      "cell_type": "markdown",
      "source": [
        "### **As pessoas gastam mais ou menos em nossa plataforma quando têm filhos?**"
      ],
      "metadata": {
        "id": "-pcnQgHhoJBD"
      }
    },
    {
      "cell_type": "markdown",
      "source": [
        "Vamos observar a soma de gastos, agrupados pelo número de filhos."
      ],
      "metadata": {
        "id": "JiwiGPYvpLfT"
      }
    },
    {
      "cell_type": "code",
      "source": [
        "# Agrupando os dados\n",
        "df.groupby(\"kids\")[\"expenses\"].sum().sort_values(ascending=False)"
      ],
      "metadata": {
        "colab": {
          "base_uri": "https://localhost:8080/"
        },
        "id": "v9hfMIOcopcw",
        "outputId": "21a4ed2e-0ac7-4541-8804-446df166a940"
      },
      "execution_count": 34,
      "outputs": [
        {
          "output_type": "execute_result",
          "data": {
            "text/plain": [
              "kids\n",
              "0    653878\n",
              "1    483198\n",
              "2     91951\n",
              "3     11869\n",
              "Name: expenses, dtype: int64"
            ]
          },
          "metadata": {},
          "execution_count": 34
        }
      ]
    },
    {
      "cell_type": "markdown",
      "source": [
        "Na nossa base, pessoas que não têm filhos tendem a gastar mais. Quanto mais filhos as pessoas têm, menos gastos nossos clientes estão tendo."
      ],
      "metadata": {
        "id": "M2LS8ZK3o8id"
      }
    },
    {
      "cell_type": "markdown",
      "source": [
        "### **Pessoas que têm um maior salário gastam mais?**"
      ],
      "metadata": {
        "id": "yT3qld0xveXT"
      }
    },
    {
      "cell_type": "code",
      "source": [
        "# Criando o gráfico de dispersão\n",
        "sns.scatterplot(data = df, x = 'Income', y = 'expenses')\n",
        "plt.title(\"Renda x Gastos\");"
      ],
      "metadata": {
        "colab": {
          "base_uri": "https://localhost:8080/",
          "height": 472
        },
        "id": "sZfa-vbhvgQi",
        "outputId": "5f22b3b0-2234-4d47-dce8-1feb5c04f45f"
      },
      "execution_count": 20,
      "outputs": [
        {
          "output_type": "display_data",
          "data": {
            "text/plain": [
              "<Figure size 640x480 with 1 Axes>"
            ],
            "image/png": "[encoded data removed]"
          },
          "metadata": {}
        }
      ]
    },
    {
      "cell_type": "markdown",
      "source": [
        "Podemos observar que pessoas que ganham acima de 35 mil tendem a gastar cada vez mais conforme o aumento da renda."
      ],
      "metadata": {
        "id": "KidsIHUwv7Wn"
      }
    },
    {
      "cell_type": "markdown",
      "source": [
        "## **Conclusões**"
      ],
      "metadata": {
        "id": "Geg4uVaj0WeM"
      }
    },
    {
      "cell_type": "markdown",
      "source": [
        "A média de renda dos usuários é de R$ 51.000,00. Eles costumam ficar 59 dias sem comprar um produto. Nos últimos 2 anos, os gastos com vinho foram bem maiores que com frutas, peixes, doces ou produtos de ouro.\n",
        "\n",
        "A maior parte das compras é feita diretamente em lojas, com uma média de 5 pedidos por usuário. A idade média dos usuários é de 51 anos.\n",
        "\n",
        "A maioria dos clientes possui graduação e é casada. As pessoas casadas são as que mais têm filhos e que gastam mais. No entanto, quanto menos filhos uma pessoa da nossa base tem, menor é o gasto que ela faz.\n",
        "\n",
        "Quando uma pessoa tem renda maior que R$ 35.000,00, ela tende a gastar mais."
      ],
      "metadata": {
        "id": "zDzc1LxgBi3I"
      }
    },
    {
      "cell_type": "markdown",
      "source": [
        "## **O que poderia ser feito com as informações que temos até aqui ?**"
      ],
      "metadata": {
        "id": "mnhP_Qa444dJ"
      }
    },
    {
      "cell_type": "markdown",
      "source": [
        "\n",
        "Com base nas análises realizadas, existem algumas sugestões que podem estar alinhadas com o intuito de aumentar o lucro da empresa, sendo elas:\n",
        "\n",
        "**Aumentar a frequência de compra dos clientes.** A média de 59 dias entre uma compra e outra é bastante alta. A empresa pode investir em estratégias para aumentar a frequência de compra, como:\n",
        "\n",
        "- Ofertas e promoções direcionadas para clientes que não compram há algum tempo;\n",
        "  - A empresa pode oferecer descontos, brindes ou outros benefícios para incentivar esses clientes a voltarem a comprar.\n",
        "- Programas de fidelidade que oferecem benefícios aos clientes que compram com frequência;\n",
        "  - Esses programas podem incluir pontos que podem ser trocados por produtos ou serviços, descontos progressivos ou acesso a eventos exclusivos.\n",
        "\n",
        "***Foco nos clientes com renda maior que R$ 35.000,00.*** Esses clientes são os que mais gastam, portanto, a empresa deve investir em estratégias para atrair e reter esses clientes. Algumas ideias são:\n",
        "\n",
        "- Oferecer produtos e serviços de maior valor agregado;\n",
        "  - A empresa pode oferecer produtos e serviços exclusivos ou personalizados, que atendam às necessidades e aos desejos desses clientes.\n",
        "- Personalizar a comunicação com esses clientes, de acordo com seus interesses;\n",
        "  - A empresa pode enviar e-mails, SMS ou mensagens personalizadas, de acordo com os interesses desses clientes (Sempre respeitando as regulamentações da ANATEL e da LGPD).\n",
        "- Oferecer programas de relacionamento exclusivos para esses clientes;\n",
        "  - Esses programas podem oferecer benefícios especiais, como descontos, brindes ou acesso a eventos exclusivos.\n",
        "\n",
        "**Explorar um pouco mais o fato de que seus clientes são, em sua maioria, casados e com filhos.** Esses clientes podem estar interessados em produtos e serviços relacionados à família:\n",
        "\n",
        "- Oferecer produtos e serviços relacionados à família;\n",
        "  - A empresa pode focar um pouco mais em produtos para ocasiões especiais, como casamentos, aniversários ou festas de fim de ano."
      ],
      "metadata": {
        "id": "KuD5Q8cL485_"
      }
    }
  ]
}