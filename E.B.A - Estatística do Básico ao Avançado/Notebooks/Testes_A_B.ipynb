{
  "nbformat": 4,
  "nbformat_minor": 0,
  "metadata": {
    "colab": {
      "provenance": [],
      "collapsed_sections": [
        "XeEXhzR68nKz",
        "kz0wDFuZ813M",
        "-Gz8U_SR9Ghj",
        "n8Rht8al9MTs",
        "3kEHHqUm9VFj",
        "xjI5D10sAilM",
        "3Eun8HcNENaM",
        "QmWgj-ekEQaU"
      ],
      "authorship_tag": "ABX9TyMGV84K3MAaXnT/lbyrLgga",
      "include_colab_link": true
    },
    "kernelspec": {
      "name": "python3",
      "display_name": "Python 3"
    },
    "language_info": {
      "name": "python"
    }
  },
  "cells": [
    {
      "cell_type": "markdown",
      "metadata": {
        "id": "view-in-github",
        "colab_type": "text"
      },
      "source": [
        "<a href=\"https://colab.research.google.com/github/JosenildoJunior/StatPyDataScience/blob/main/Testes_A_B.ipynb\" target=\"_parent\"><img src=\"https://colab.research.google.com/assets/colab-badge.svg\" alt=\"Open In Colab\"/></a>"
      ]
    },
    {
      "cell_type": "markdown",
      "source": [
        "# **Introdução ao Teste A/B**"
      ],
      "metadata": {
        "id": "SBpeXJ-8p1ip"
      }
    },
    {
      "cell_type": "markdown",
      "source": [
        "## **O que é Teste A/B?**"
      ],
      "metadata": {
        "id": "XeEXhzR68nKz"
      }
    },
    {
      "cell_type": "markdown",
      "source": [
        "O teste A/B é uma técnica de experimentação utilizada em marketing digital e desenvolvimento de produtos para comparar duas versões de algo, como um site, e-mail, ou aplicativo, com pequenas diferenças entre elas. Ele é usado para determinar qual versão performa melhor em termos de um objetivo específico, como taxas de cliques, conversões, etc."
      ],
      "metadata": {
        "id": "YlWfaAB48xzz"
      }
    },
    {
      "cell_type": "markdown",
      "source": [
        "## **Como funciona ?**"
      ],
      "metadata": {
        "id": "kz0wDFuZ813M"
      }
    },
    {
      "cell_type": "markdown",
      "source": [
        "O teste A/B funciona ao direcionar aleatoriamente os usuários para uma das duas versões (A ou B) e coletar dados sobre como cada versão é interagida. Após isso, os resultados são analisados estatisticamente para determinar qual versão é mais eficaz."
      ],
      "metadata": {
        "id": "OshlKpXZ85Cy"
      }
    },
    {
      "cell_type": "markdown",
      "source": [
        "## **Benefícios**"
      ],
      "metadata": {
        "id": "-Gz8U_SR9Ghj"
      }
    },
    {
      "cell_type": "markdown",
      "source": [
        "Os benefícios do teste A/B incluem a capacidade de tomar decisões informadas baseadas em dados, melhorar a experiência do usuário, e otimizar as taxas de conversão."
      ],
      "metadata": {
        "id": "8OX3EUT_9KTD"
      }
    },
    {
      "cell_type": "markdown",
      "source": [
        "## **Exemplos de uso**"
      ],
      "metadata": {
        "id": "n8Rht8al9MTs"
      }
    },
    {
      "cell_type": "markdown",
      "source": [
        "O teste A/B é utilizado em uma variedade de contextos, incluindo teste de copywriting, design de página de destino, layout de e-mails, entre outros, para melhorar o desempenho e a eficácia das campanhas de marketing e produtos."
      ],
      "metadata": {
        "id": "3zKdWP609Oyc"
      }
    },
    {
      "cell_type": "markdown",
      "source": [
        "## **Passos para realizar um teste a/b**"
      ],
      "metadata": {
        "id": "3kEHHqUm9VFj"
      }
    },
    {
      "cell_type": "markdown",
      "source": [
        "Nesse caso, vamos utilizar 4 passos, mas podem existir mais, dependendo da sua realidade.\n",
        "\n",
        "- **Definição de objetivos e métricas:** É importante identificar claramente os objetivos do nosso experimento. Para medir o sucesso do experimento, é crucial definir métricas específicas que nos permitam avaliar esses objetivos.\n",
        "\n",
        "- **Abordagem de amostragem:** Uma abordagem de amostragem é essencial para garantir que possamos comparar os resultados de forma justa. Isso nos permitirá avaliar o impacto das mudanças de forma controlada e precisa.\n",
        "\n",
        "- **Cálculo do tamanho da amostra:** Para garantir que nosso experimento tenha poder estatístico suficiente, é crucial calcular o tamanho da amostra adequadamente. Isso nos ajudará a detectar diferenças significativas entre os grupos.\n",
        "\n",
        "- **Aplicação do teste de hipótese:** Planejamos aplicar um teste de hipótese para avaliar se as mudanças  apresentam diferenças significativas nas métricas de interesse. Isso nos permitirá tomar decisões informadas com base nos resultados do experimento."
      ],
      "metadata": {
        "id": "cMl0VwYt92FN"
      }
    },
    {
      "cell_type": "markdown",
      "source": [
        "## **Exercícios**"
      ],
      "metadata": {
        "id": "xjI5D10sAilM"
      }
    },
    {
      "cell_type": "markdown",
      "source": [
        "### **Questão 1**"
      ],
      "metadata": {
        "id": "3Eun8HcNENaM"
      }
    },
    {
      "cell_type": "markdown",
      "source": [
        "Teste A/B para avaliar a eficácia de duas versões de um anúncio online\n",
        "\n",
        "A empresa XYZ deseja determinar qual versão de um anúncio online gera mais cliques em seu site. Eles criaram duas versões do anúncio (A e B) e planejam realizar um teste A/B para comparar suas taxas de cliques.\n",
        "\n",
        "Dados:\n",
        "\n",
        "- Tamanho da amostra para o grupo A (versão A): 1000\n",
        "- Tamanho da amostra para o grupo B (versão B): 1200\n",
        "- Número de cliques no grupo A: 150\n",
        "- Número de cliques no grupo B: 180"
      ],
      "metadata": {
        "id": "TI7SKj5_Ali7"
      }
    },
    {
      "cell_type": "markdown",
      "source": [
        "Reposta: Para resolução desse problema vamos seguir os seguintes passos\n",
        "\n",
        "- Definir as hipóteses\n",
        "- CAlcular a taxa de cliques\n",
        "- Realizar um teste de hipótese\n",
        "- analisar o resultado\n",
        "\n",
        "Dito isso vamos seguir para a definição das hipóteses"
      ],
      "metadata": {
        "id": "7-KtD3eUA46r"
      }
    },
    {
      "cell_type": "markdown",
      "source": [
        "H0: eficacia anuncio a = eficacia anuncio b\n",
        "\n",
        "Ha: eficacia anuncio a ≠ eficacia anuncio b\n",
        "\n",
        "Estamos diante de um teste bicaudal\n",
        "\n",
        "Agora vamos partir para o calculo das taxas de cliques e vamos aplicar o teste de hipotese propriamente dito"
      ],
      "metadata": {
        "id": "r9SHmeCcBYE8"
      }
    },
    {
      "cell_type": "code",
      "source": [
        "# Teste Z\n",
        "import statsmodels.api as sm\n",
        "\n",
        "# Dados do problema\n",
        "n1 = 1000  # tamanho da amostra para a versão A\n",
        "n2 = 1200  # tamanho da amostra para a versão B\n",
        "x1 = 150  # número de cliques para a versão A\n",
        "x2 = 180  # número de cliques para a versão B\n",
        "\n",
        "# Taxas de cliques A\n",
        "taxa_a = x1 / n1\n",
        "\n",
        "# Taxas de cliques B\n",
        "taxa_b = x2 / n2\n",
        "\n",
        "# Calculando o teste Z para a diferença de proporções\n",
        "Z, p_value = sm.stats.proportions_ztest([x2, x1], [n2, n1])\n",
        "\n",
        "print(\"Estatística de teste Z:\", Z)\n",
        "print(f\"Valor-p: {p_value}\\n\")\n",
        "\n",
        "# Definindo o alpha\n",
        "alpha = 0.05\n",
        "\n",
        "# Conclusões\n",
        "if p_value < alpha:\n",
        "  print(\"Rejeitar H0: Há evidências de uma diferença significativa nas taxas de cliques entre as duas versões.\")\n",
        "else:\n",
        "  print(\"Falha em rejeitar H0: Não existe evidências de uma diferença significativa nas taxas de cliques entre as duas versões.\")"
      ],
      "metadata": {
        "colab": {
          "base_uri": "https://localhost:8080/"
        },
        "id": "oBOgi7TGBXaV",
        "outputId": "086c75cb-2845-4476-89ed-627674ce3371"
      },
      "execution_count": 17,
      "outputs": [
        {
          "output_type": "stream",
          "name": "stdout",
          "text": [
            "Estatística de teste Z: 0.0\n",
            "Valor-p: 1.0\n",
            "\n",
            "Falha em rejeitar H0: Não existe evidências de uma diferença significativa nas taxas de cliques entre as duas versões.\n"
          ]
        }
      ]
    },
    {
      "cell_type": "markdown",
      "source": [
        "Apos aplicar um teste de hipotese utilizando um nivel de significancia de 0,05, falhamos em rejeitar a hipotese nula logo podemos concluir que temos evidencias suficientes de que a taxa de cliques entre os dois anuncios online são iguais"
      ],
      "metadata": {
        "id": "MIodDAU1D7Nt"
      }
    },
    {
      "cell_type": "markdown",
      "source": [
        "### **Questão 2**"
      ],
      "metadata": {
        "id": "QmWgj-ekEQaU"
      }
    },
    {
      "cell_type": "markdown",
      "source": [
        "A empresa ABC está atualizando seu formulário de inscrição online e deseja determinar se a nova versão do formulário (versão B) resulta em uma taxa de preenchimento maior do que a versão anterior (versão A). Eles conduziram um teste A/B com duas versões do formulário e coletaram os seguintes dados:\n",
        "\n",
        "Dados:\n",
        "\n",
        "- Tamanho da amostra para o grupo A (versão A): 1200\n",
        "- Tamanho da amostra para o grupo B (versão B): 1300\n",
        "- Número de inscrições completadas no grupo A: 180\n",
        "- Número de inscrições completadas no grupo B: 240"
      ],
      "metadata": {
        "id": "PePce1thEVrN"
      }
    },
    {
      "cell_type": "markdown",
      "source": [
        "Reposta: VAmos começar definindo as hipoteses\n",
        "\n",
        "H0: preenchimento versão b >= preenchimento versão a\n",
        "\n",
        "Ha: preenchimento versão b < preenchimento versão a\n",
        "\n",
        "Estamos diante de um teste unicaudal a esquerda, dito isso vamos partir para os calculos\n",
        "\n"
      ],
      "metadata": {
        "id": "F7JypE1bEow2"
      }
    },
    {
      "cell_type": "code",
      "source": [
        "# Teste Z\n",
        "import statsmodels.api as sm\n",
        "\n",
        "# Dados do problema\n",
        "n1 = 1200  # tamanho da amostra para a versão A\n",
        "n2 = 1300  # tamanho da amostra para a versão B\n",
        "x1 = 180  # número de inscrições para a versão A\n",
        "x2 = 240  # número de inscrições para a versão B\n",
        "\n",
        "# Taxas de inscrições A\n",
        "taxa_a = x1 / n1\n",
        "\n",
        "# Taxas de inscrições B\n",
        "taxa_b = x2 / n2\n",
        "\n",
        "# Calculando o teste Z para a diferença de proporções\n",
        "Z, p_value = sm.stats.proportions_ztest([x2, x1], [n2, n1], alternative='larger')\n",
        "\n",
        "print(\"Estatística de teste Z:\", Z)\n",
        "print(f\"Valor-p: {p_value}\\n\")\n",
        "\n",
        "# Definindo o alpha\n",
        "alpha = 0.05\n",
        "\n",
        "# Conclusões\n",
        "if p_value < alpha:\n",
        "  print(\"Rejeitar H0: Há evidências de que o formulário 'B' apresenta mais inscrições.\")\n",
        "else:\n",
        "  print(\"Falha em rejeitar H0: Não existe evidências de que o formulário 'B' apresenta mais inscrições.\")"
      ],
      "metadata": {
        "colab": {
          "base_uri": "https://localhost:8080/"
        },
        "id": "gNEZb8fqGDyG",
        "outputId": "e80aef28-ee6d-43d9-95e6-bcd6832a994f"
      },
      "execution_count": 16,
      "outputs": [
        {
          "output_type": "stream",
          "name": "stdout",
          "text": [
            "Estatística de teste Z: 2.312837670395981\n",
            "Valor-p: 0.01036578289379929\n",
            "\n",
            "Rejeitar H0: Há evidências de que o formulario 'B' apresenta um maior numero de inscrições.\n"
          ]
        }
      ]
    },
    {
      "cell_type": "markdown",
      "source": [
        "Apos aplicarmos um teste de hipotese a um nivel de significancia de 0,05 rejeitamos a hipotese nula, logo podemos concluir que temos evidencias de que o formulario 'B' aprensenta um maior numero de inscrições"
      ],
      "metadata": {
        "id": "4vE2q0EaJIiW"
      }
    }
  ]
}