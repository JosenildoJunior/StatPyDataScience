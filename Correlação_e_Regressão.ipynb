{
  "nbformat": 4,
  "nbformat_minor": 0,
  "metadata": {
    "colab": {
      "provenance": [],
      "collapsed_sections": [
        "DophXiin_bfJ",
        "v75C1LTRA4Cs",
        "fsFZT5o7A6vk",
        "xdtHELpkA8y8",
        "Cs2LQE2uBeSQ",
        "JEZXO3GSC37W",
        "cNwAsiClE6pm",
        "OiMxYSORC4_1",
        "I72mAWVqxpUt",
        "lv7aIM9axsZM",
        "EYdZs4lgsDcx",
        "pffZtWH10I5D"
      ],
      "authorship_tag": "ABX9TyOPS4ETptSdDSoBVXJwyV3O",
      "include_colab_link": true
    },
    "kernelspec": {
      "name": "python3",
      "display_name": "Python 3"
    },
    "language_info": {
      "name": "python"
    }
  },
  "cells": [
    {
      "cell_type": "markdown",
      "metadata": {
        "id": "view-in-github",
        "colab_type": "text"
      },
      "source": [
        "<a href=\"https://colab.research.google.com/github/JosenildoJunior/StatPyDataScience/blob/main/Correla%C3%A7%C3%A3o_e_Regress%C3%A3o.ipynb\" target=\"_parent\"><img src=\"https://colab.research.google.com/assets/colab-badge.svg\" alt=\"Open In Colab\"/></a>"
      ]
    },
    {
      "cell_type": "markdown",
      "source": [
        "# **Estatística com Python: Um Guia para Estudos e Solução de Problemas**"
      ],
      "metadata": {
        "id": "iBH3-LFUCi-V"
      }
    },
    {
      "cell_type": "markdown",
      "source": [
        "Breve resumo:\n",
        "\n",
        "Correlação e regressão são duas técnicas estatísticas usadas para medir e modelar a relação entre duas ou mais variáveis.\n",
        "\n",
        "Correlação\n",
        "\n",
        "- A correlação mede a força e a direção da relação entre duas variáveis. O coeficiente de correlação é um número entre -1 e 1. Um coeficiente de correlação próximo a 1 indica uma forte relação positiva entre as duas variáveis, um coeficiente de correlação próximo a -1 indica uma forte relação negativa entre as duas variáveis, e um coeficiente de correlação próximo a 0 indica que não há relação entre as duas variáveis.\n",
        "\n",
        "Regressão\n",
        "\n",
        "- A regressão é usada para modelar a relação entre uma variável dependente e uma ou mais variáveis independentes. A equação de regressão é uma equação que descreve a relação entre as variáveis.\n",
        "\n",
        "Quando utilizar:\n",
        "\n",
        "- Correlação: Sempre que se deseja medir a força e a direção da relação entre duas variáveis.\n",
        "\n",
        "- Regressão: Sempre que se deseja modelar a relação entre uma variável dependente e uma ou mais variáveis independentes.\n",
        "Exemplos:\n",
        "\n",
        "- Correlação: Um pesquisador pode usar a correlação para medir a relação entre o nível de escolaridade e o salário.\n",
        "\n",
        "- Regressão: Um economista pode usar a regressão para modelar a relação entre o preço da gasolina e a demanda por gasolina."
      ],
      "metadata": {
        "id": "RfPkj7J4Cd7n"
      }
    },
    {
      "cell_type": "markdown",
      "source": [
        "# **Correlação**"
      ],
      "metadata": {
        "id": "DophXiin_bfJ"
      }
    },
    {
      "cell_type": "markdown",
      "source": [
        "## **Importações**"
      ],
      "metadata": {
        "id": "v75C1LTRA4Cs"
      }
    },
    {
      "cell_type": "markdown",
      "source": [
        "Para exemplificação dos cálculos de correlação será necessário a importação de algumas bibliotecas."
      ],
      "metadata": {
        "id": "L9ysHih0_oWd"
      }
    },
    {
      "cell_type": "code",
      "execution_count": null,
      "metadata": {
        "id": "0Sl4r7HgCFOC"
      },
      "outputs": [],
      "source": [
        "# Álgebra linear\n",
        "import numpy as np\n",
        "\n",
        "# Manipualçao de dados\n",
        "import pandas as pd\n",
        "\n",
        "# Visualização de dados\n",
        "import seaborn as sns\n",
        "\n",
        "# Funções matemáticas\n",
        "import math"
      ]
    },
    {
      "cell_type": "markdown",
      "source": [
        "## **Base de dados**"
      ],
      "metadata": {
        "id": "fsFZT5o7A6vk"
      }
    },
    {
      "cell_type": "markdown",
      "source": [
        "Com as devidas importações realizadas, vamos gerar a base de dados."
      ],
      "metadata": {
        "id": "9lJZYLePAJsk"
      }
    },
    {
      "cell_type": "code",
      "source": [
        "# Gerando os dados\n",
        "tamanho = np.array([30, 39, 49, 60])\n",
        "preco = np.array([57000, 69000, 77000, 90000])"
      ],
      "metadata": {
        "id": "JsmRk5pGANH5"
      },
      "execution_count": null,
      "outputs": []
    },
    {
      "cell_type": "markdown",
      "source": [
        "Agora, vamos transformar os dados em um DataFrame."
      ],
      "metadata": {
        "id": "D9dlW-xpARxB"
      }
    },
    {
      "cell_type": "code",
      "source": [
        "# Convertendo em um data frame\n",
        "df = pd.DataFrame({'Tamanho': tamanho, 'Preco': preco})\n",
        "\n",
        "# Observando os valores\n",
        "df"
      ],
      "metadata": {
        "colab": {
          "base_uri": "https://localhost:8080/",
          "height": 175
        },
        "id": "-CUykIbNAUqC",
        "outputId": "52b6bc81-3931-425c-8e0b-b63c1c97f469"
      },
      "execution_count": null,
      "outputs": [
        {
          "output_type": "execute_result",
          "data": {
            "text/plain": [
              "   tamanho  preco\n",
              "0       30  57000\n",
              "1       39  69000\n",
              "2       49  77000\n",
              "3       60  90000"
            ],
            "text/html": [
              "\n",
              "  <div id=\"df-32c4d576-8810-4078-8e22-6634f7620e24\" class=\"colab-df-container\">\n",
              "    <div>\n",
              "<style scoped>\n",
              "    .dataframe tbody tr th:only-of-type {\n",
              "        vertical-align: middle;\n",
              "    }\n",
              "\n",
              "    .dataframe tbody tr th {\n",
              "        vertical-align: top;\n",
              "    }\n",
              "\n",
              "    .dataframe thead th {\n",
              "        text-align: right;\n",
              "    }\n",
              "</style>\n",
              "<table border=\"1\" class=\"dataframe\">\n",
              "  <thead>\n",
              "    <tr style=\"text-align: right;\">\n",
              "      <th></th>\n",
              "      <th>tamanho</th>\n",
              "      <th>preco</th>\n",
              "    </tr>\n",
              "  </thead>\n",
              "  <tbody>\n",
              "    <tr>\n",
              "      <th>0</th>\n",
              "      <td>30</td>\n",
              "      <td>57000</td>\n",
              "    </tr>\n",
              "    <tr>\n",
              "      <th>1</th>\n",
              "      <td>39</td>\n",
              "      <td>69000</td>\n",
              "    </tr>\n",
              "    <tr>\n",
              "      <th>2</th>\n",
              "      <td>49</td>\n",
              "      <td>77000</td>\n",
              "    </tr>\n",
              "    <tr>\n",
              "      <th>3</th>\n",
              "      <td>60</td>\n",
              "      <td>90000</td>\n",
              "    </tr>\n",
              "  </tbody>\n",
              "</table>\n",
              "</div>\n",
              "    <div class=\"colab-df-buttons\">\n",
              "\n",
              "  <div class=\"colab-df-container\">\n",
              "    <button class=\"colab-df-convert\" onclick=\"convertToInteractive('df-32c4d576-8810-4078-8e22-6634f7620e24')\"\n",
              "            title=\"Convert this dataframe to an interactive table.\"\n",
              "            style=\"display:none;\">\n",
              "\n",
              "  <svg xmlns=\"http://www.w3.org/2000/svg\" height=\"24px\" viewBox=\"0 -960 960 960\">\n",
              "    <path d=\"M120-120v-720h720v720H120Zm60-500h600v-160H180v160Zm220 220h160v-160H400v160Zm0 220h160v-160H400v160ZM180-400h160v-160H180v160Zm440 0h160v-160H620v160ZM180-180h160v-160H180v160Zm440 0h160v-160H620v160Z\"/>\n",
              "  </svg>\n",
              "    </button>\n",
              "\n",
              "  <style>\n",
              "    .colab-df-container {\n",
              "      display:flex;\n",
              "      gap: 12px;\n",
              "    }\n",
              "\n",
              "    .colab-df-convert {\n",
              "      background-color: #E8F0FE;\n",
              "      border: none;\n",
              "      border-radius: 50%;\n",
              "      cursor: pointer;\n",
              "      display: none;\n",
              "      fill: #1967D2;\n",
              "      height: 32px;\n",
              "      padding: 0 0 0 0;\n",
              "      width: 32px;\n",
              "    }\n",
              "\n",
              "    .colab-df-convert:hover {\n",
              "      background-color: #E2EBFA;\n",
              "      box-shadow: 0px 1px 2px rgba(60, 64, 67, 0.3), 0px 1px 3px 1px rgba(60, 64, 67, 0.15);\n",
              "      fill: #174EA6;\n",
              "    }\n",
              "\n",
              "    .colab-df-buttons div {\n",
              "      margin-bottom: 4px;\n",
              "    }\n",
              "\n",
              "    [theme=dark] .colab-df-convert {\n",
              "      background-color: #3B4455;\n",
              "      fill: #D2E3FC;\n",
              "    }\n",
              "\n",
              "    [theme=dark] .colab-df-convert:hover {\n",
              "      background-color: #434B5C;\n",
              "      box-shadow: 0px 1px 3px 1px rgba(0, 0, 0, 0.15);\n",
              "      filter: drop-shadow(0px 1px 2px rgba(0, 0, 0, 0.3));\n",
              "      fill: #FFFFFF;\n",
              "    }\n",
              "  </style>\n",
              "\n",
              "    <script>\n",
              "      const buttonEl =\n",
              "        document.querySelector('#df-32c4d576-8810-4078-8e22-6634f7620e24 button.colab-df-convert');\n",
              "      buttonEl.style.display =\n",
              "        google.colab.kernel.accessAllowed ? 'block' : 'none';\n",
              "\n",
              "      async function convertToInteractive(key) {\n",
              "        const element = document.querySelector('#df-32c4d576-8810-4078-8e22-6634f7620e24');\n",
              "        const dataTable =\n",
              "          await google.colab.kernel.invokeFunction('convertToInteractive',\n",
              "                                                    [key], {});\n",
              "        if (!dataTable) return;\n",
              "\n",
              "        const docLinkHtml = 'Like what you see? Visit the ' +\n",
              "          '<a target=\"_blank\" href=https://colab.research.google.com/notebooks/data_table.ipynb>data table notebook</a>'\n",
              "          + ' to learn more about interactive tables.';\n",
              "        element.innerHTML = '';\n",
              "        dataTable['output_type'] = 'display_data';\n",
              "        await google.colab.output.renderOutput(dataTable, element);\n",
              "        const docLink = document.createElement('div');\n",
              "        docLink.innerHTML = docLinkHtml;\n",
              "        element.appendChild(docLink);\n",
              "      }\n",
              "    </script>\n",
              "  </div>\n",
              "\n",
              "\n",
              "<div id=\"df-20da229d-7720-471b-9b84-068c70719751\">\n",
              "  <button class=\"colab-df-quickchart\" onclick=\"quickchart('df-20da229d-7720-471b-9b84-068c70719751')\"\n",
              "            title=\"Suggest charts\"\n",
              "            style=\"display:none;\">\n",
              "\n",
              "<svg xmlns=\"http://www.w3.org/2000/svg\" height=\"24px\"viewBox=\"0 0 24 24\"\n",
              "     width=\"24px\">\n",
              "    <g>\n",
              "        <path d=\"M19 3H5c-1.1 0-2 .9-2 2v14c0 1.1.9 2 2 2h14c1.1 0 2-.9 2-2V5c0-1.1-.9-2-2-2zM9 17H7v-7h2v7zm4 0h-2V7h2v10zm4 0h-2v-4h2v4z\"/>\n",
              "    </g>\n",
              "</svg>\n",
              "  </button>\n",
              "\n",
              "<style>\n",
              "  .colab-df-quickchart {\n",
              "      --bg-color: #E8F0FE;\n",
              "      --fill-color: #1967D2;\n",
              "      --hover-bg-color: #E2EBFA;\n",
              "      --hover-fill-color: #174EA6;\n",
              "      --disabled-fill-color: #AAA;\n",
              "      --disabled-bg-color: #DDD;\n",
              "  }\n",
              "\n",
              "  [theme=dark] .colab-df-quickchart {\n",
              "      --bg-color: #3B4455;\n",
              "      --fill-color: #D2E3FC;\n",
              "      --hover-bg-color: #434B5C;\n",
              "      --hover-fill-color: #FFFFFF;\n",
              "      --disabled-bg-color: #3B4455;\n",
              "      --disabled-fill-color: #666;\n",
              "  }\n",
              "\n",
              "  .colab-df-quickchart {\n",
              "    background-color: var(--bg-color);\n",
              "    border: none;\n",
              "    border-radius: 50%;\n",
              "    cursor: pointer;\n",
              "    display: none;\n",
              "    fill: var(--fill-color);\n",
              "    height: 32px;\n",
              "    padding: 0;\n",
              "    width: 32px;\n",
              "  }\n",
              "\n",
              "  .colab-df-quickchart:hover {\n",
              "    background-color: var(--hover-bg-color);\n",
              "    box-shadow: 0 1px 2px rgba(60, 64, 67, 0.3), 0 1px 3px 1px rgba(60, 64, 67, 0.15);\n",
              "    fill: var(--button-hover-fill-color);\n",
              "  }\n",
              "\n",
              "  .colab-df-quickchart-complete:disabled,\n",
              "  .colab-df-quickchart-complete:disabled:hover {\n",
              "    background-color: var(--disabled-bg-color);\n",
              "    fill: var(--disabled-fill-color);\n",
              "    box-shadow: none;\n",
              "  }\n",
              "\n",
              "  .colab-df-spinner {\n",
              "    border: 2px solid var(--fill-color);\n",
              "    border-color: transparent;\n",
              "    border-bottom-color: var(--fill-color);\n",
              "    animation:\n",
              "      spin 1s steps(1) infinite;\n",
              "  }\n",
              "\n",
              "  @keyframes spin {\n",
              "    0% {\n",
              "      border-color: transparent;\n",
              "      border-bottom-color: var(--fill-color);\n",
              "      border-left-color: var(--fill-color);\n",
              "    }\n",
              "    20% {\n",
              "      border-color: transparent;\n",
              "      border-left-color: var(--fill-color);\n",
              "      border-top-color: var(--fill-color);\n",
              "    }\n",
              "    30% {\n",
              "      border-color: transparent;\n",
              "      border-left-color: var(--fill-color);\n",
              "      border-top-color: var(--fill-color);\n",
              "      border-right-color: var(--fill-color);\n",
              "    }\n",
              "    40% {\n",
              "      border-color: transparent;\n",
              "      border-right-color: var(--fill-color);\n",
              "      border-top-color: var(--fill-color);\n",
              "    }\n",
              "    60% {\n",
              "      border-color: transparent;\n",
              "      border-right-color: var(--fill-color);\n",
              "    }\n",
              "    80% {\n",
              "      border-color: transparent;\n",
              "      border-right-color: var(--fill-color);\n",
              "      border-bottom-color: var(--fill-color);\n",
              "    }\n",
              "    90% {\n",
              "      border-color: transparent;\n",
              "      border-bottom-color: var(--fill-color);\n",
              "    }\n",
              "  }\n",
              "</style>\n",
              "\n",
              "  <script>\n",
              "    async function quickchart(key) {\n",
              "      const quickchartButtonEl =\n",
              "        document.querySelector('#' + key + ' button');\n",
              "      quickchartButtonEl.disabled = true;  // To prevent multiple clicks.\n",
              "      quickchartButtonEl.classList.add('colab-df-spinner');\n",
              "      try {\n",
              "        const charts = await google.colab.kernel.invokeFunction(\n",
              "            'suggestCharts', [key], {});\n",
              "      } catch (error) {\n",
              "        console.error('Error during call to suggestCharts:', error);\n",
              "      }\n",
              "      quickchartButtonEl.classList.remove('colab-df-spinner');\n",
              "      quickchartButtonEl.classList.add('colab-df-quickchart-complete');\n",
              "    }\n",
              "    (() => {\n",
              "      let quickchartButtonEl =\n",
              "        document.querySelector('#df-20da229d-7720-471b-9b84-068c70719751 button');\n",
              "      quickchartButtonEl.style.display =\n",
              "        google.colab.kernel.accessAllowed ? 'block' : 'none';\n",
              "    })();\n",
              "  </script>\n",
              "</div>\n",
              "\n",
              "  <div id=\"id_2fc91217-2aca-4bcf-9ca7-ca1a0de77ded\">\n",
              "    <style>\n",
              "      .colab-df-generate {\n",
              "        background-color: #E8F0FE;\n",
              "        border: none;\n",
              "        border-radius: 50%;\n",
              "        cursor: pointer;\n",
              "        display: none;\n",
              "        fill: #1967D2;\n",
              "        height: 32px;\n",
              "        padding: 0 0 0 0;\n",
              "        width: 32px;\n",
              "      }\n",
              "\n",
              "      .colab-df-generate:hover {\n",
              "        background-color: #E2EBFA;\n",
              "        box-shadow: 0px 1px 2px rgba(60, 64, 67, 0.3), 0px 1px 3px 1px rgba(60, 64, 67, 0.15);\n",
              "        fill: #174EA6;\n",
              "      }\n",
              "\n",
              "      [theme=dark] .colab-df-generate {\n",
              "        background-color: #3B4455;\n",
              "        fill: #D2E3FC;\n",
              "      }\n",
              "\n",
              "      [theme=dark] .colab-df-generate:hover {\n",
              "        background-color: #434B5C;\n",
              "        box-shadow: 0px 1px 3px 1px rgba(0, 0, 0, 0.15);\n",
              "        filter: drop-shadow(0px 1px 2px rgba(0, 0, 0, 0.3));\n",
              "        fill: #FFFFFF;\n",
              "      }\n",
              "    </style>\n",
              "    <button class=\"colab-df-generate\" onclick=\"generateWithVariable('df')\"\n",
              "            title=\"Generate code using this dataframe.\"\n",
              "            style=\"display:none;\">\n",
              "\n",
              "  <svg xmlns=\"http://www.w3.org/2000/svg\" height=\"24px\"viewBox=\"0 0 24 24\"\n",
              "       width=\"24px\">\n",
              "    <path d=\"M7,19H8.4L18.45,9,17,7.55,7,17.6ZM5,21V16.75L18.45,3.32a2,2,0,0,1,2.83,0l1.4,1.43a1.91,1.91,0,0,1,.58,1.4,1.91,1.91,0,0,1-.58,1.4L9.25,21ZM18.45,9,17,7.55Zm-12,3A5.31,5.31,0,0,0,4.9,8.1,5.31,5.31,0,0,0,1,6.5,5.31,5.31,0,0,0,4.9,4.9,5.31,5.31,0,0,0,6.5,1,5.31,5.31,0,0,0,8.1,4.9,5.31,5.31,0,0,0,12,6.5,5.46,5.46,0,0,0,6.5,12Z\"/>\n",
              "  </svg>\n",
              "    </button>\n",
              "    <script>\n",
              "      (() => {\n",
              "      const buttonEl =\n",
              "        document.querySelector('#id_2fc91217-2aca-4bcf-9ca7-ca1a0de77ded button.colab-df-generate');\n",
              "      buttonEl.style.display =\n",
              "        google.colab.kernel.accessAllowed ? 'block' : 'none';\n",
              "\n",
              "      buttonEl.onclick = () => {\n",
              "        google.colab.notebook.generateWithVariable('df');\n",
              "      }\n",
              "      })();\n",
              "    </script>\n",
              "  </div>\n",
              "\n",
              "    </div>\n",
              "  </div>\n"
            ]
          },
          "metadata": {},
          "execution_count": 4
        }
      ]
    },
    {
      "cell_type": "markdown",
      "source": [
        "## **Cálculos**"
      ],
      "metadata": {
        "id": "xdtHELpkA8y8"
      }
    },
    {
      "cell_type": "markdown",
      "source": [
        "Para a execução dos cálculos, vamos utilizar as bibliotecas que importamos anteriormente."
      ],
      "metadata": {
        "id": "RGnJzzV7BXgK"
      }
    },
    {
      "cell_type": "markdown",
      "source": [
        "### **Covariância**"
      ],
      "metadata": {
        "id": "Cs2LQE2uBeSQ"
      }
    },
    {
      "cell_type": "markdown",
      "source": [
        "A covariância é uma medida da relação linear entre duas variáveis. Ela é calculada como a média dos produtos das diferenças entre os valores das variáveis.\n",
        "\n",
        "A covariância pode ser positiva, negativa ou nula. Uma covariância positiva indica que as duas variáveis tendem a se mover na mesma direção, enquanto uma covariância negativa indica que as duas variáveis tendem a se mover em direções opostas. Uma covariância nula indica que não há relação linear entre as duas variáveis."
      ],
      "metadata": {
        "id": "2-nOAYa_Bi1v"
      }
    },
    {
      "cell_type": "code",
      "source": [
        "# Calculando a covariância\n",
        "df.cov()"
      ],
      "metadata": {
        "colab": {
          "base_uri": "https://localhost:8080/",
          "height": 112
        },
        "id": "9fYU51VHBq-u",
        "outputId": "390c1f1d-fb13-4774-d0a3-bf4c40fa99ed"
      },
      "execution_count": null,
      "outputs": [
        {
          "output_type": "execute_result",
          "data": {
            "text/plain": [
              "          tamanho        preco\n",
              "tamanho     167.0     178500.0\n",
              "preco    178500.0  192250000.0"
            ],
            "text/html": [
              "\n",
              "  <div id=\"df-3df333e5-deac-4e91-9372-588c26d283dc\" class=\"colab-df-container\">\n",
              "    <div>\n",
              "<style scoped>\n",
              "    .dataframe tbody tr th:only-of-type {\n",
              "        vertical-align: middle;\n",
              "    }\n",
              "\n",
              "    .dataframe tbody tr th {\n",
              "        vertical-align: top;\n",
              "    }\n",
              "\n",
              "    .dataframe thead th {\n",
              "        text-align: right;\n",
              "    }\n",
              "</style>\n",
              "<table border=\"1\" class=\"dataframe\">\n",
              "  <thead>\n",
              "    <tr style=\"text-align: right;\">\n",
              "      <th></th>\n",
              "      <th>tamanho</th>\n",
              "      <th>preco</th>\n",
              "    </tr>\n",
              "  </thead>\n",
              "  <tbody>\n",
              "    <tr>\n",
              "      <th>tamanho</th>\n",
              "      <td>167.0</td>\n",
              "      <td>178500.0</td>\n",
              "    </tr>\n",
              "    <tr>\n",
              "      <th>preco</th>\n",
              "      <td>178500.0</td>\n",
              "      <td>192250000.0</td>\n",
              "    </tr>\n",
              "  </tbody>\n",
              "</table>\n",
              "</div>\n",
              "    <div class=\"colab-df-buttons\">\n",
              "\n",
              "  <div class=\"colab-df-container\">\n",
              "    <button class=\"colab-df-convert\" onclick=\"convertToInteractive('df-3df333e5-deac-4e91-9372-588c26d283dc')\"\n",
              "            title=\"Convert this dataframe to an interactive table.\"\n",
              "            style=\"display:none;\">\n",
              "\n",
              "  <svg xmlns=\"http://www.w3.org/2000/svg\" height=\"24px\" viewBox=\"0 -960 960 960\">\n",
              "    <path d=\"M120-120v-720h720v720H120Zm60-500h600v-160H180v160Zm220 220h160v-160H400v160Zm0 220h160v-160H400v160ZM180-400h160v-160H180v160Zm440 0h160v-160H620v160ZM180-180h160v-160H180v160Zm440 0h160v-160H620v160Z\"/>\n",
              "  </svg>\n",
              "    </button>\n",
              "\n",
              "  <style>\n",
              "    .colab-df-container {\n",
              "      display:flex;\n",
              "      gap: 12px;\n",
              "    }\n",
              "\n",
              "    .colab-df-convert {\n",
              "      background-color: #E8F0FE;\n",
              "      border: none;\n",
              "      border-radius: 50%;\n",
              "      cursor: pointer;\n",
              "      display: none;\n",
              "      fill: #1967D2;\n",
              "      height: 32px;\n",
              "      padding: 0 0 0 0;\n",
              "      width: 32px;\n",
              "    }\n",
              "\n",
              "    .colab-df-convert:hover {\n",
              "      background-color: #E2EBFA;\n",
              "      box-shadow: 0px 1px 2px rgba(60, 64, 67, 0.3), 0px 1px 3px 1px rgba(60, 64, 67, 0.15);\n",
              "      fill: #174EA6;\n",
              "    }\n",
              "\n",
              "    .colab-df-buttons div {\n",
              "      margin-bottom: 4px;\n",
              "    }\n",
              "\n",
              "    [theme=dark] .colab-df-convert {\n",
              "      background-color: #3B4455;\n",
              "      fill: #D2E3FC;\n",
              "    }\n",
              "\n",
              "    [theme=dark] .colab-df-convert:hover {\n",
              "      background-color: #434B5C;\n",
              "      box-shadow: 0px 1px 3px 1px rgba(0, 0, 0, 0.15);\n",
              "      filter: drop-shadow(0px 1px 2px rgba(0, 0, 0, 0.3));\n",
              "      fill: #FFFFFF;\n",
              "    }\n",
              "  </style>\n",
              "\n",
              "    <script>\n",
              "      const buttonEl =\n",
              "        document.querySelector('#df-3df333e5-deac-4e91-9372-588c26d283dc button.colab-df-convert');\n",
              "      buttonEl.style.display =\n",
              "        google.colab.kernel.accessAllowed ? 'block' : 'none';\n",
              "\n",
              "      async function convertToInteractive(key) {\n",
              "        const element = document.querySelector('#df-3df333e5-deac-4e91-9372-588c26d283dc');\n",
              "        const dataTable =\n",
              "          await google.colab.kernel.invokeFunction('convertToInteractive',\n",
              "                                                    [key], {});\n",
              "        if (!dataTable) return;\n",
              "\n",
              "        const docLinkHtml = 'Like what you see? Visit the ' +\n",
              "          '<a target=\"_blank\" href=https://colab.research.google.com/notebooks/data_table.ipynb>data table notebook</a>'\n",
              "          + ' to learn more about interactive tables.';\n",
              "        element.innerHTML = '';\n",
              "        dataTable['output_type'] = 'display_data';\n",
              "        await google.colab.output.renderOutput(dataTable, element);\n",
              "        const docLink = document.createElement('div');\n",
              "        docLink.innerHTML = docLinkHtml;\n",
              "        element.appendChild(docLink);\n",
              "      }\n",
              "    </script>\n",
              "  </div>\n",
              "\n",
              "\n",
              "<div id=\"df-21c74880-1d99-433e-90f9-735d427e9bb0\">\n",
              "  <button class=\"colab-df-quickchart\" onclick=\"quickchart('df-21c74880-1d99-433e-90f9-735d427e9bb0')\"\n",
              "            title=\"Suggest charts\"\n",
              "            style=\"display:none;\">\n",
              "\n",
              "<svg xmlns=\"http://www.w3.org/2000/svg\" height=\"24px\"viewBox=\"0 0 24 24\"\n",
              "     width=\"24px\">\n",
              "    <g>\n",
              "        <path d=\"M19 3H5c-1.1 0-2 .9-2 2v14c0 1.1.9 2 2 2h14c1.1 0 2-.9 2-2V5c0-1.1-.9-2-2-2zM9 17H7v-7h2v7zm4 0h-2V7h2v10zm4 0h-2v-4h2v4z\"/>\n",
              "    </g>\n",
              "</svg>\n",
              "  </button>\n",
              "\n",
              "<style>\n",
              "  .colab-df-quickchart {\n",
              "      --bg-color: #E8F0FE;\n",
              "      --fill-color: #1967D2;\n",
              "      --hover-bg-color: #E2EBFA;\n",
              "      --hover-fill-color: #174EA6;\n",
              "      --disabled-fill-color: #AAA;\n",
              "      --disabled-bg-color: #DDD;\n",
              "  }\n",
              "\n",
              "  [theme=dark] .colab-df-quickchart {\n",
              "      --bg-color: #3B4455;\n",
              "      --fill-color: #D2E3FC;\n",
              "      --hover-bg-color: #434B5C;\n",
              "      --hover-fill-color: #FFFFFF;\n",
              "      --disabled-bg-color: #3B4455;\n",
              "      --disabled-fill-color: #666;\n",
              "  }\n",
              "\n",
              "  .colab-df-quickchart {\n",
              "    background-color: var(--bg-color);\n",
              "    border: none;\n",
              "    border-radius: 50%;\n",
              "    cursor: pointer;\n",
              "    display: none;\n",
              "    fill: var(--fill-color);\n",
              "    height: 32px;\n",
              "    padding: 0;\n",
              "    width: 32px;\n",
              "  }\n",
              "\n",
              "  .colab-df-quickchart:hover {\n",
              "    background-color: var(--hover-bg-color);\n",
              "    box-shadow: 0 1px 2px rgba(60, 64, 67, 0.3), 0 1px 3px 1px rgba(60, 64, 67, 0.15);\n",
              "    fill: var(--button-hover-fill-color);\n",
              "  }\n",
              "\n",
              "  .colab-df-quickchart-complete:disabled,\n",
              "  .colab-df-quickchart-complete:disabled:hover {\n",
              "    background-color: var(--disabled-bg-color);\n",
              "    fill: var(--disabled-fill-color);\n",
              "    box-shadow: none;\n",
              "  }\n",
              "\n",
              "  .colab-df-spinner {\n",
              "    border: 2px solid var(--fill-color);\n",
              "    border-color: transparent;\n",
              "    border-bottom-color: var(--fill-color);\n",
              "    animation:\n",
              "      spin 1s steps(1) infinite;\n",
              "  }\n",
              "\n",
              "  @keyframes spin {\n",
              "    0% {\n",
              "      border-color: transparent;\n",
              "      border-bottom-color: var(--fill-color);\n",
              "      border-left-color: var(--fill-color);\n",
              "    }\n",
              "    20% {\n",
              "      border-color: transparent;\n",
              "      border-left-color: var(--fill-color);\n",
              "      border-top-color: var(--fill-color);\n",
              "    }\n",
              "    30% {\n",
              "      border-color: transparent;\n",
              "      border-left-color: var(--fill-color);\n",
              "      border-top-color: var(--fill-color);\n",
              "      border-right-color: var(--fill-color);\n",
              "    }\n",
              "    40% {\n",
              "      border-color: transparent;\n",
              "      border-right-color: var(--fill-color);\n",
              "      border-top-color: var(--fill-color);\n",
              "    }\n",
              "    60% {\n",
              "      border-color: transparent;\n",
              "      border-right-color: var(--fill-color);\n",
              "    }\n",
              "    80% {\n",
              "      border-color: transparent;\n",
              "      border-right-color: var(--fill-color);\n",
              "      border-bottom-color: var(--fill-color);\n",
              "    }\n",
              "    90% {\n",
              "      border-color: transparent;\n",
              "      border-bottom-color: var(--fill-color);\n",
              "    }\n",
              "  }\n",
              "</style>\n",
              "\n",
              "  <script>\n",
              "    async function quickchart(key) {\n",
              "      const quickchartButtonEl =\n",
              "        document.querySelector('#' + key + ' button');\n",
              "      quickchartButtonEl.disabled = true;  // To prevent multiple clicks.\n",
              "      quickchartButtonEl.classList.add('colab-df-spinner');\n",
              "      try {\n",
              "        const charts = await google.colab.kernel.invokeFunction(\n",
              "            'suggestCharts', [key], {});\n",
              "      } catch (error) {\n",
              "        console.error('Error during call to suggestCharts:', error);\n",
              "      }\n",
              "      quickchartButtonEl.classList.remove('colab-df-spinner');\n",
              "      quickchartButtonEl.classList.add('colab-df-quickchart-complete');\n",
              "    }\n",
              "    (() => {\n",
              "      let quickchartButtonEl =\n",
              "        document.querySelector('#df-21c74880-1d99-433e-90f9-735d427e9bb0 button');\n",
              "      quickchartButtonEl.style.display =\n",
              "        google.colab.kernel.accessAllowed ? 'block' : 'none';\n",
              "    })();\n",
              "  </script>\n",
              "</div>\n",
              "\n",
              "    </div>\n",
              "  </div>\n"
            ]
          },
          "metadata": {},
          "execution_count": 5
        }
      ]
    },
    {
      "cell_type": "markdown",
      "source": [
        "Podemos observar uma covariância positiva entre o tamanho e o preço de 178.500. Logo, é correto afirmar que o valor da covariância é maior que 1. Podemos afirmar que as duas variáveis tendem a se mover na mesma direção."
      ],
      "metadata": {
        "id": "XqntT9VvCLZz"
      }
    },
    {
      "cell_type": "markdown",
      "source": [
        "### **Correlação**"
      ],
      "metadata": {
        "id": "JEZXO3GSC37W"
      }
    },
    {
      "cell_type": "markdown",
      "source": [
        "A matriz de correlação é uma medida normalizada que varia de -1 a 1 e indica a força e a direção da relação linear entre duas variáveis. Um valor próximo de 1 indica uma correlação positiva perfeita, -1 indica uma correlação negativa perfeita, e 0 indica falta de correlação linear. Vamos observar como classificar a força dessa correlação:\n",
        "\n",
        "Força da Correlação:\n",
        "\n",
        "- 0.00 a 0.19 (ou -0.19): Correlação muito fraca.\n",
        "- 0.20 a 0.39 (ou -0.39): Correlação fraca.\n",
        "- 0.40 a 0.59 (ou -0.59): Correlação moderada.\n",
        "- 0.60 a 0.79 (ou -0.79): Correlação forte.\n",
        "- 0.80 a 1.00 (ou -1.00): Correlação muito forte."
      ],
      "metadata": {
        "id": "6d1hQcmhDCLM"
      }
    },
    {
      "cell_type": "code",
      "source": [
        "# Calculando a matriz de correlação\n",
        "df.corr()"
      ],
      "metadata": {
        "colab": {
          "base_uri": "https://localhost:8080/",
          "height": 112
        },
        "id": "m2c_-e-aDBJT",
        "outputId": "68a6f686-b90e-475f-dc4d-4ebd0798e7d8"
      },
      "execution_count": null,
      "outputs": [
        {
          "output_type": "execute_result",
          "data": {
            "text/plain": [
              "          tamanho     preco\n",
              "tamanho  1.000000  0.996201\n",
              "preco    0.996201  1.000000"
            ],
            "text/html": [
              "\n",
              "  <div id=\"df-76f6b1ed-f446-4791-a605-46ca05daf92a\" class=\"colab-df-container\">\n",
              "    <div>\n",
              "<style scoped>\n",
              "    .dataframe tbody tr th:only-of-type {\n",
              "        vertical-align: middle;\n",
              "    }\n",
              "\n",
              "    .dataframe tbody tr th {\n",
              "        vertical-align: top;\n",
              "    }\n",
              "\n",
              "    .dataframe thead th {\n",
              "        text-align: right;\n",
              "    }\n",
              "</style>\n",
              "<table border=\"1\" class=\"dataframe\">\n",
              "  <thead>\n",
              "    <tr style=\"text-align: right;\">\n",
              "      <th></th>\n",
              "      <th>tamanho</th>\n",
              "      <th>preco</th>\n",
              "    </tr>\n",
              "  </thead>\n",
              "  <tbody>\n",
              "    <tr>\n",
              "      <th>tamanho</th>\n",
              "      <td>1.000000</td>\n",
              "      <td>0.996201</td>\n",
              "    </tr>\n",
              "    <tr>\n",
              "      <th>preco</th>\n",
              "      <td>0.996201</td>\n",
              "      <td>1.000000</td>\n",
              "    </tr>\n",
              "  </tbody>\n",
              "</table>\n",
              "</div>\n",
              "    <div class=\"colab-df-buttons\">\n",
              "\n",
              "  <div class=\"colab-df-container\">\n",
              "    <button class=\"colab-df-convert\" onclick=\"convertToInteractive('df-76f6b1ed-f446-4791-a605-46ca05daf92a')\"\n",
              "            title=\"Convert this dataframe to an interactive table.\"\n",
              "            style=\"display:none;\">\n",
              "\n",
              "  <svg xmlns=\"http://www.w3.org/2000/svg\" height=\"24px\" viewBox=\"0 -960 960 960\">\n",
              "    <path d=\"M120-120v-720h720v720H120Zm60-500h600v-160H180v160Zm220 220h160v-160H400v160Zm0 220h160v-160H400v160ZM180-400h160v-160H180v160Zm440 0h160v-160H620v160ZM180-180h160v-160H180v160Zm440 0h160v-160H620v160Z\"/>\n",
              "  </svg>\n",
              "    </button>\n",
              "\n",
              "  <style>\n",
              "    .colab-df-container {\n",
              "      display:flex;\n",
              "      gap: 12px;\n",
              "    }\n",
              "\n",
              "    .colab-df-convert {\n",
              "      background-color: #E8F0FE;\n",
              "      border: none;\n",
              "      border-radius: 50%;\n",
              "      cursor: pointer;\n",
              "      display: none;\n",
              "      fill: #1967D2;\n",
              "      height: 32px;\n",
              "      padding: 0 0 0 0;\n",
              "      width: 32px;\n",
              "    }\n",
              "\n",
              "    .colab-df-convert:hover {\n",
              "      background-color: #E2EBFA;\n",
              "      box-shadow: 0px 1px 2px rgba(60, 64, 67, 0.3), 0px 1px 3px 1px rgba(60, 64, 67, 0.15);\n",
              "      fill: #174EA6;\n",
              "    }\n",
              "\n",
              "    .colab-df-buttons div {\n",
              "      margin-bottom: 4px;\n",
              "    }\n",
              "\n",
              "    [theme=dark] .colab-df-convert {\n",
              "      background-color: #3B4455;\n",
              "      fill: #D2E3FC;\n",
              "    }\n",
              "\n",
              "    [theme=dark] .colab-df-convert:hover {\n",
              "      background-color: #434B5C;\n",
              "      box-shadow: 0px 1px 3px 1px rgba(0, 0, 0, 0.15);\n",
              "      filter: drop-shadow(0px 1px 2px rgba(0, 0, 0, 0.3));\n",
              "      fill: #FFFFFF;\n",
              "    }\n",
              "  </style>\n",
              "\n",
              "    <script>\n",
              "      const buttonEl =\n",
              "        document.querySelector('#df-76f6b1ed-f446-4791-a605-46ca05daf92a button.colab-df-convert');\n",
              "      buttonEl.style.display =\n",
              "        google.colab.kernel.accessAllowed ? 'block' : 'none';\n",
              "\n",
              "      async function convertToInteractive(key) {\n",
              "        const element = document.querySelector('#df-76f6b1ed-f446-4791-a605-46ca05daf92a');\n",
              "        const dataTable =\n",
              "          await google.colab.kernel.invokeFunction('convertToInteractive',\n",
              "                                                    [key], {});\n",
              "        if (!dataTable) return;\n",
              "\n",
              "        const docLinkHtml = 'Like what you see? Visit the ' +\n",
              "          '<a target=\"_blank\" href=https://colab.research.google.com/notebooks/data_table.ipynb>data table notebook</a>'\n",
              "          + ' to learn more about interactive tables.';\n",
              "        element.innerHTML = '';\n",
              "        dataTable['output_type'] = 'display_data';\n",
              "        await google.colab.output.renderOutput(dataTable, element);\n",
              "        const docLink = document.createElement('div');\n",
              "        docLink.innerHTML = docLinkHtml;\n",
              "        element.appendChild(docLink);\n",
              "      }\n",
              "    </script>\n",
              "  </div>\n",
              "\n",
              "\n",
              "<div id=\"df-0f3f0b41-ec64-4b6e-89bd-4a0f3ad1654f\">\n",
              "  <button class=\"colab-df-quickchart\" onclick=\"quickchart('df-0f3f0b41-ec64-4b6e-89bd-4a0f3ad1654f')\"\n",
              "            title=\"Suggest charts\"\n",
              "            style=\"display:none;\">\n",
              "\n",
              "<svg xmlns=\"http://www.w3.org/2000/svg\" height=\"24px\"viewBox=\"0 0 24 24\"\n",
              "     width=\"24px\">\n",
              "    <g>\n",
              "        <path d=\"M19 3H5c-1.1 0-2 .9-2 2v14c0 1.1.9 2 2 2h14c1.1 0 2-.9 2-2V5c0-1.1-.9-2-2-2zM9 17H7v-7h2v7zm4 0h-2V7h2v10zm4 0h-2v-4h2v4z\"/>\n",
              "    </g>\n",
              "</svg>\n",
              "  </button>\n",
              "\n",
              "<style>\n",
              "  .colab-df-quickchart {\n",
              "      --bg-color: #E8F0FE;\n",
              "      --fill-color: #1967D2;\n",
              "      --hover-bg-color: #E2EBFA;\n",
              "      --hover-fill-color: #174EA6;\n",
              "      --disabled-fill-color: #AAA;\n",
              "      --disabled-bg-color: #DDD;\n",
              "  }\n",
              "\n",
              "  [theme=dark] .colab-df-quickchart {\n",
              "      --bg-color: #3B4455;\n",
              "      --fill-color: #D2E3FC;\n",
              "      --hover-bg-color: #434B5C;\n",
              "      --hover-fill-color: #FFFFFF;\n",
              "      --disabled-bg-color: #3B4455;\n",
              "      --disabled-fill-color: #666;\n",
              "  }\n",
              "\n",
              "  .colab-df-quickchart {\n",
              "    background-color: var(--bg-color);\n",
              "    border: none;\n",
              "    border-radius: 50%;\n",
              "    cursor: pointer;\n",
              "    display: none;\n",
              "    fill: var(--fill-color);\n",
              "    height: 32px;\n",
              "    padding: 0;\n",
              "    width: 32px;\n",
              "  }\n",
              "\n",
              "  .colab-df-quickchart:hover {\n",
              "    background-color: var(--hover-bg-color);\n",
              "    box-shadow: 0 1px 2px rgba(60, 64, 67, 0.3), 0 1px 3px 1px rgba(60, 64, 67, 0.15);\n",
              "    fill: var(--button-hover-fill-color);\n",
              "  }\n",
              "\n",
              "  .colab-df-quickchart-complete:disabled,\n",
              "  .colab-df-quickchart-complete:disabled:hover {\n",
              "    background-color: var(--disabled-bg-color);\n",
              "    fill: var(--disabled-fill-color);\n",
              "    box-shadow: none;\n",
              "  }\n",
              "\n",
              "  .colab-df-spinner {\n",
              "    border: 2px solid var(--fill-color);\n",
              "    border-color: transparent;\n",
              "    border-bottom-color: var(--fill-color);\n",
              "    animation:\n",
              "      spin 1s steps(1) infinite;\n",
              "  }\n",
              "\n",
              "  @keyframes spin {\n",
              "    0% {\n",
              "      border-color: transparent;\n",
              "      border-bottom-color: var(--fill-color);\n",
              "      border-left-color: var(--fill-color);\n",
              "    }\n",
              "    20% {\n",
              "      border-color: transparent;\n",
              "      border-left-color: var(--fill-color);\n",
              "      border-top-color: var(--fill-color);\n",
              "    }\n",
              "    30% {\n",
              "      border-color: transparent;\n",
              "      border-left-color: var(--fill-color);\n",
              "      border-top-color: var(--fill-color);\n",
              "      border-right-color: var(--fill-color);\n",
              "    }\n",
              "    40% {\n",
              "      border-color: transparent;\n",
              "      border-right-color: var(--fill-color);\n",
              "      border-top-color: var(--fill-color);\n",
              "    }\n",
              "    60% {\n",
              "      border-color: transparent;\n",
              "      border-right-color: var(--fill-color);\n",
              "    }\n",
              "    80% {\n",
              "      border-color: transparent;\n",
              "      border-right-color: var(--fill-color);\n",
              "      border-bottom-color: var(--fill-color);\n",
              "    }\n",
              "    90% {\n",
              "      border-color: transparent;\n",
              "      border-bottom-color: var(--fill-color);\n",
              "    }\n",
              "  }\n",
              "</style>\n",
              "\n",
              "  <script>\n",
              "    async function quickchart(key) {\n",
              "      const quickchartButtonEl =\n",
              "        document.querySelector('#' + key + ' button');\n",
              "      quickchartButtonEl.disabled = true;  // To prevent multiple clicks.\n",
              "      quickchartButtonEl.classList.add('colab-df-spinner');\n",
              "      try {\n",
              "        const charts = await google.colab.kernel.invokeFunction(\n",
              "            'suggestCharts', [key], {});\n",
              "      } catch (error) {\n",
              "        console.error('Error during call to suggestCharts:', error);\n",
              "      }\n",
              "      quickchartButtonEl.classList.remove('colab-df-spinner');\n",
              "      quickchartButtonEl.classList.add('colab-df-quickchart-complete');\n",
              "    }\n",
              "    (() => {\n",
              "      let quickchartButtonEl =\n",
              "        document.querySelector('#df-0f3f0b41-ec64-4b6e-89bd-4a0f3ad1654f button');\n",
              "      quickchartButtonEl.style.display =\n",
              "        google.colab.kernel.accessAllowed ? 'block' : 'none';\n",
              "    })();\n",
              "  </script>\n",
              "</div>\n",
              "\n",
              "    </div>\n",
              "  </div>\n"
            ]
          },
          "metadata": {},
          "execution_count": 6
        }
      ]
    },
    {
      "cell_type": "markdown",
      "source": [
        "Obtivemos uma correlação positiva entre o tamanho e o preço de 0,99. Isso indica que ambas as variáveis se movem na mesma direção. Podemos dizer também que as duas variáveis estão correlacionadas quase perfeitamente."
      ],
      "metadata": {
        "id": "p4DHd_dRDZhC"
      }
    },
    {
      "cell_type": "markdown",
      "source": [
        "## **Exercício**"
      ],
      "metadata": {
        "id": "cNwAsiClE6pm"
      }
    },
    {
      "cell_type": "markdown",
      "source": [
        " Carregue a base de dados das casas (house-prices.csv) e realize os seguintes passos:\n",
        "\n",
        "- Gere as correlações entre todos os atributos.\n",
        "- Quais atributos estão mais relacionados com o preço das casas?"
      ],
      "metadata": {
        "id": "C68NShfIE9Wu"
      }
    },
    {
      "cell_type": "markdown",
      "source": [
        "Para a realização desse exercício, será necessário, primeiramente, a importação das bibliotecas que serão utilizadas."
      ],
      "metadata": {
        "id": "dJZFmTQ0FXEK"
      }
    },
    {
      "cell_type": "code",
      "source": [
        "# Álgebra linear\n",
        "import numpy as np\n",
        "\n",
        "# Manipualçao de dados\n",
        "import pandas as pd\n",
        "\n",
        "# Visualização de dados\n",
        "import seaborn as sns"
      ],
      "metadata": {
        "id": "RAqfIqtHFfcR"
      },
      "execution_count": null,
      "outputs": []
    },
    {
      "cell_type": "markdown",
      "source": [
        "Com todas essas bibliotecas importadas, podemos seguir adiante para a importação dos dados."
      ],
      "metadata": {
        "id": "OsOg-2u6FiOw"
      }
    },
    {
      "cell_type": "code",
      "source": [
        "# Acesso ao drive\n",
        "from google.colab import drive\n",
        "drive.mount('/content/drive')"
      ],
      "metadata": {
        "colab": {
          "base_uri": "https://localhost:8080/"
        },
        "id": "eQU3N41AFnRw",
        "outputId": "f4fb0b5d-30c2-44fd-f63e-6652c782f7bb"
      },
      "execution_count": null,
      "outputs": [
        {
          "output_type": "stream",
          "name": "stdout",
          "text": [
            "Mounted at /content/drive\n"
          ]
        }
      ]
    },
    {
      "cell_type": "code",
      "source": [
        "# Importando o dataset\n",
        "df = pd.read_csv(\"/content/drive/MyDrive/Estatística para ciência de dados/house_prices.csv\")\n",
        "\n",
        "# Observando os registros\n",
        "df.head()"
      ],
      "metadata": {
        "colab": {
          "base_uri": "https://localhost:8080/",
          "height": 236
        },
        "id": "E1ZLw8HhFo_R",
        "outputId": "703ff2ea-90ad-4e67-87d9-b0b4885f1857"
      },
      "execution_count": null,
      "outputs": [
        {
          "output_type": "execute_result",
          "data": {
            "text/plain": [
              "           id             date     price  bedrooms  bathrooms  sqft_living  \\\n",
              "0  7129300520  20141013T000000  221900.0         3       1.00         1180   \n",
              "1  6414100192  20141209T000000  538000.0         3       2.25         2570   \n",
              "2  5631500400  20150225T000000  180000.0         2       1.00          770   \n",
              "3  2487200875  20141209T000000  604000.0         4       3.00         1960   \n",
              "4  1954400510  20150218T000000  510000.0         3       2.00         1680   \n",
              "\n",
              "   sqft_lot  floors  waterfront  view  ...  grade  sqft_above  sqft_basement  \\\n",
              "0      5650     1.0           0     0  ...      7        1180              0   \n",
              "1      7242     2.0           0     0  ...      7        2170            400   \n",
              "2     10000     1.0           0     0  ...      6         770              0   \n",
              "3      5000     1.0           0     0  ...      7        1050            910   \n",
              "4      8080     1.0           0     0  ...      8        1680              0   \n",
              "\n",
              "   yr_built  yr_renovated  zipcode      lat     long  sqft_living15  \\\n",
              "0      1955             0    98178  47.5112 -122.257           1340   \n",
              "1      1951          1991    98125  47.7210 -122.319           1690   \n",
              "2      1933             0    98028  47.7379 -122.233           2720   \n",
              "3      1965             0    98136  47.5208 -122.393           1360   \n",
              "4      1987             0    98074  47.6168 -122.045           1800   \n",
              "\n",
              "   sqft_lot15  \n",
              "0        5650  \n",
              "1        7639  \n",
              "2        8062  \n",
              "3        5000  \n",
              "4        7503  \n",
              "\n",
              "[5 rows x 21 columns]"
            ],
            "text/html": [
              "\n",
              "  <div id=\"df-9250381e-a514-402b-8e2f-52be998029a8\" class=\"colab-df-container\">\n",
              "    <div>\n",
              "<style scoped>\n",
              "    .dataframe tbody tr th:only-of-type {\n",
              "        vertical-align: middle;\n",
              "    }\n",
              "\n",
              "    .dataframe tbody tr th {\n",
              "        vertical-align: top;\n",
              "    }\n",
              "\n",
              "    .dataframe thead th {\n",
              "        text-align: right;\n",
              "    }\n",
              "</style>\n",
              "<table border=\"1\" class=\"dataframe\">\n",
              "  <thead>\n",
              "    <tr style=\"text-align: right;\">\n",
              "      <th></th>\n",
              "      <th>id</th>\n",
              "      <th>date</th>\n",
              "      <th>price</th>\n",
              "      <th>bedrooms</th>\n",
              "      <th>bathrooms</th>\n",
              "      <th>sqft_living</th>\n",
              "      <th>sqft_lot</th>\n",
              "      <th>floors</th>\n",
              "      <th>waterfront</th>\n",
              "      <th>view</th>\n",
              "      <th>...</th>\n",
              "      <th>grade</th>\n",
              "      <th>sqft_above</th>\n",
              "      <th>sqft_basement</th>\n",
              "      <th>yr_built</th>\n",
              "      <th>yr_renovated</th>\n",
              "      <th>zipcode</th>\n",
              "      <th>lat</th>\n",
              "      <th>long</th>\n",
              "      <th>sqft_living15</th>\n",
              "      <th>sqft_lot15</th>\n",
              "    </tr>\n",
              "  </thead>\n",
              "  <tbody>\n",
              "    <tr>\n",
              "      <th>0</th>\n",
              "      <td>7129300520</td>\n",
              "      <td>20141013T000000</td>\n",
              "      <td>221900.0</td>\n",
              "      <td>3</td>\n",
              "      <td>1.00</td>\n",
              "      <td>1180</td>\n",
              "      <td>5650</td>\n",
              "      <td>1.0</td>\n",
              "      <td>0</td>\n",
              "      <td>0</td>\n",
              "      <td>...</td>\n",
              "      <td>7</td>\n",
              "      <td>1180</td>\n",
              "      <td>0</td>\n",
              "      <td>1955</td>\n",
              "      <td>0</td>\n",
              "      <td>98178</td>\n",
              "      <td>47.5112</td>\n",
              "      <td>-122.257</td>\n",
              "      <td>1340</td>\n",
              "      <td>5650</td>\n",
              "    </tr>\n",
              "    <tr>\n",
              "      <th>1</th>\n",
              "      <td>6414100192</td>\n",
              "      <td>20141209T000000</td>\n",
              "      <td>538000.0</td>\n",
              "      <td>3</td>\n",
              "      <td>2.25</td>\n",
              "      <td>2570</td>\n",
              "      <td>7242</td>\n",
              "      <td>2.0</td>\n",
              "      <td>0</td>\n",
              "      <td>0</td>\n",
              "      <td>...</td>\n",
              "      <td>7</td>\n",
              "      <td>2170</td>\n",
              "      <td>400</td>\n",
              "      <td>1951</td>\n",
              "      <td>1991</td>\n",
              "      <td>98125</td>\n",
              "      <td>47.7210</td>\n",
              "      <td>-122.319</td>\n",
              "      <td>1690</td>\n",
              "      <td>7639</td>\n",
              "    </tr>\n",
              "    <tr>\n",
              "      <th>2</th>\n",
              "      <td>5631500400</td>\n",
              "      <td>20150225T000000</td>\n",
              "      <td>180000.0</td>\n",
              "      <td>2</td>\n",
              "      <td>1.00</td>\n",
              "      <td>770</td>\n",
              "      <td>10000</td>\n",
              "      <td>1.0</td>\n",
              "      <td>0</td>\n",
              "      <td>0</td>\n",
              "      <td>...</td>\n",
              "      <td>6</td>\n",
              "      <td>770</td>\n",
              "      <td>0</td>\n",
              "      <td>1933</td>\n",
              "      <td>0</td>\n",
              "      <td>98028</td>\n",
              "      <td>47.7379</td>\n",
              "      <td>-122.233</td>\n",
              "      <td>2720</td>\n",
              "      <td>8062</td>\n",
              "    </tr>\n",
              "    <tr>\n",
              "      <th>3</th>\n",
              "      <td>2487200875</td>\n",
              "      <td>20141209T000000</td>\n",
              "      <td>604000.0</td>\n",
              "      <td>4</td>\n",
              "      <td>3.00</td>\n",
              "      <td>1960</td>\n",
              "      <td>5000</td>\n",
              "      <td>1.0</td>\n",
              "      <td>0</td>\n",
              "      <td>0</td>\n",
              "      <td>...</td>\n",
              "      <td>7</td>\n",
              "      <td>1050</td>\n",
              "      <td>910</td>\n",
              "      <td>1965</td>\n",
              "      <td>0</td>\n",
              "      <td>98136</td>\n",
              "      <td>47.5208</td>\n",
              "      <td>-122.393</td>\n",
              "      <td>1360</td>\n",
              "      <td>5000</td>\n",
              "    </tr>\n",
              "    <tr>\n",
              "      <th>4</th>\n",
              "      <td>1954400510</td>\n",
              "      <td>20150218T000000</td>\n",
              "      <td>510000.0</td>\n",
              "      <td>3</td>\n",
              "      <td>2.00</td>\n",
              "      <td>1680</td>\n",
              "      <td>8080</td>\n",
              "      <td>1.0</td>\n",
              "      <td>0</td>\n",
              "      <td>0</td>\n",
              "      <td>...</td>\n",
              "      <td>8</td>\n",
              "      <td>1680</td>\n",
              "      <td>0</td>\n",
              "      <td>1987</td>\n",
              "      <td>0</td>\n",
              "      <td>98074</td>\n",
              "      <td>47.6168</td>\n",
              "      <td>-122.045</td>\n",
              "      <td>1800</td>\n",
              "      <td>7503</td>\n",
              "    </tr>\n",
              "  </tbody>\n",
              "</table>\n",
              "<p>5 rows × 21 columns</p>\n",
              "</div>\n",
              "    <div class=\"colab-df-buttons\">\n",
              "\n",
              "  <div class=\"colab-df-container\">\n",
              "    <button class=\"colab-df-convert\" onclick=\"convertToInteractive('df-9250381e-a514-402b-8e2f-52be998029a8')\"\n",
              "            title=\"Convert this dataframe to an interactive table.\"\n",
              "            style=\"display:none;\">\n",
              "\n",
              "  <svg xmlns=\"http://www.w3.org/2000/svg\" height=\"24px\" viewBox=\"0 -960 960 960\">\n",
              "    <path d=\"M120-120v-720h720v720H120Zm60-500h600v-160H180v160Zm220 220h160v-160H400v160Zm0 220h160v-160H400v160ZM180-400h160v-160H180v160Zm440 0h160v-160H620v160ZM180-180h160v-160H180v160Zm440 0h160v-160H620v160Z\"/>\n",
              "  </svg>\n",
              "    </button>\n",
              "\n",
              "  <style>\n",
              "    .colab-df-container {\n",
              "      display:flex;\n",
              "      gap: 12px;\n",
              "    }\n",
              "\n",
              "    .colab-df-convert {\n",
              "      background-color: #E8F0FE;\n",
              "      border: none;\n",
              "      border-radius: 50%;\n",
              "      cursor: pointer;\n",
              "      display: none;\n",
              "      fill: #1967D2;\n",
              "      height: 32px;\n",
              "      padding: 0 0 0 0;\n",
              "      width: 32px;\n",
              "    }\n",
              "\n",
              "    .colab-df-convert:hover {\n",
              "      background-color: #E2EBFA;\n",
              "      box-shadow: 0px 1px 2px rgba(60, 64, 67, 0.3), 0px 1px 3px 1px rgba(60, 64, 67, 0.15);\n",
              "      fill: #174EA6;\n",
              "    }\n",
              "\n",
              "    .colab-df-buttons div {\n",
              "      margin-bottom: 4px;\n",
              "    }\n",
              "\n",
              "    [theme=dark] .colab-df-convert {\n",
              "      background-color: #3B4455;\n",
              "      fill: #D2E3FC;\n",
              "    }\n",
              "\n",
              "    [theme=dark] .colab-df-convert:hover {\n",
              "      background-color: #434B5C;\n",
              "      box-shadow: 0px 1px 3px 1px rgba(0, 0, 0, 0.15);\n",
              "      filter: drop-shadow(0px 1px 2px rgba(0, 0, 0, 0.3));\n",
              "      fill: #FFFFFF;\n",
              "    }\n",
              "  </style>\n",
              "\n",
              "    <script>\n",
              "      const buttonEl =\n",
              "        document.querySelector('#df-9250381e-a514-402b-8e2f-52be998029a8 button.colab-df-convert');\n",
              "      buttonEl.style.display =\n",
              "        google.colab.kernel.accessAllowed ? 'block' : 'none';\n",
              "\n",
              "      async function convertToInteractive(key) {\n",
              "        const element = document.querySelector('#df-9250381e-a514-402b-8e2f-52be998029a8');\n",
              "        const dataTable =\n",
              "          await google.colab.kernel.invokeFunction('convertToInteractive',\n",
              "                                                    [key], {});\n",
              "        if (!dataTable) return;\n",
              "\n",
              "        const docLinkHtml = 'Like what you see? Visit the ' +\n",
              "          '<a target=\"_blank\" href=https://colab.research.google.com/notebooks/data_table.ipynb>data table notebook</a>'\n",
              "          + ' to learn more about interactive tables.';\n",
              "        element.innerHTML = '';\n",
              "        dataTable['output_type'] = 'display_data';\n",
              "        await google.colab.output.renderOutput(dataTable, element);\n",
              "        const docLink = document.createElement('div');\n",
              "        docLink.innerHTML = docLinkHtml;\n",
              "        element.appendChild(docLink);\n",
              "      }\n",
              "    </script>\n",
              "  </div>\n",
              "\n",
              "\n",
              "<div id=\"df-2666ff36-e9f9-4671-8320-e9d4c50ab5fc\">\n",
              "  <button class=\"colab-df-quickchart\" onclick=\"quickchart('df-2666ff36-e9f9-4671-8320-e9d4c50ab5fc')\"\n",
              "            title=\"Suggest charts\"\n",
              "            style=\"display:none;\">\n",
              "\n",
              "<svg xmlns=\"http://www.w3.org/2000/svg\" height=\"24px\"viewBox=\"0 0 24 24\"\n",
              "     width=\"24px\">\n",
              "    <g>\n",
              "        <path d=\"M19 3H5c-1.1 0-2 .9-2 2v14c0 1.1.9 2 2 2h14c1.1 0 2-.9 2-2V5c0-1.1-.9-2-2-2zM9 17H7v-7h2v7zm4 0h-2V7h2v10zm4 0h-2v-4h2v4z\"/>\n",
              "    </g>\n",
              "</svg>\n",
              "  </button>\n",
              "\n",
              "<style>\n",
              "  .colab-df-quickchart {\n",
              "      --bg-color: #E8F0FE;\n",
              "      --fill-color: #1967D2;\n",
              "      --hover-bg-color: #E2EBFA;\n",
              "      --hover-fill-color: #174EA6;\n",
              "      --disabled-fill-color: #AAA;\n",
              "      --disabled-bg-color: #DDD;\n",
              "  }\n",
              "\n",
              "  [theme=dark] .colab-df-quickchart {\n",
              "      --bg-color: #3B4455;\n",
              "      --fill-color: #D2E3FC;\n",
              "      --hover-bg-color: #434B5C;\n",
              "      --hover-fill-color: #FFFFFF;\n",
              "      --disabled-bg-color: #3B4455;\n",
              "      --disabled-fill-color: #666;\n",
              "  }\n",
              "\n",
              "  .colab-df-quickchart {\n",
              "    background-color: var(--bg-color);\n",
              "    border: none;\n",
              "    border-radius: 50%;\n",
              "    cursor: pointer;\n",
              "    display: none;\n",
              "    fill: var(--fill-color);\n",
              "    height: 32px;\n",
              "    padding: 0;\n",
              "    width: 32px;\n",
              "  }\n",
              "\n",
              "  .colab-df-quickchart:hover {\n",
              "    background-color: var(--hover-bg-color);\n",
              "    box-shadow: 0 1px 2px rgba(60, 64, 67, 0.3), 0 1px 3px 1px rgba(60, 64, 67, 0.15);\n",
              "    fill: var(--button-hover-fill-color);\n",
              "  }\n",
              "\n",
              "  .colab-df-quickchart-complete:disabled,\n",
              "  .colab-df-quickchart-complete:disabled:hover {\n",
              "    background-color: var(--disabled-bg-color);\n",
              "    fill: var(--disabled-fill-color);\n",
              "    box-shadow: none;\n",
              "  }\n",
              "\n",
              "  .colab-df-spinner {\n",
              "    border: 2px solid var(--fill-color);\n",
              "    border-color: transparent;\n",
              "    border-bottom-color: var(--fill-color);\n",
              "    animation:\n",
              "      spin 1s steps(1) infinite;\n",
              "  }\n",
              "\n",
              "  @keyframes spin {\n",
              "    0% {\n",
              "      border-color: transparent;\n",
              "      border-bottom-color: var(--fill-color);\n",
              "      border-left-color: var(--fill-color);\n",
              "    }\n",
              "    20% {\n",
              "      border-color: transparent;\n",
              "      border-left-color: var(--fill-color);\n",
              "      border-top-color: var(--fill-color);\n",
              "    }\n",
              "    30% {\n",
              "      border-color: transparent;\n",
              "      border-left-color: var(--fill-color);\n",
              "      border-top-color: var(--fill-color);\n",
              "      border-right-color: var(--fill-color);\n",
              "    }\n",
              "    40% {\n",
              "      border-color: transparent;\n",
              "      border-right-color: var(--fill-color);\n",
              "      border-top-color: var(--fill-color);\n",
              "    }\n",
              "    60% {\n",
              "      border-color: transparent;\n",
              "      border-right-color: var(--fill-color);\n",
              "    }\n",
              "    80% {\n",
              "      border-color: transparent;\n",
              "      border-right-color: var(--fill-color);\n",
              "      border-bottom-color: var(--fill-color);\n",
              "    }\n",
              "    90% {\n",
              "      border-color: transparent;\n",
              "      border-bottom-color: var(--fill-color);\n",
              "    }\n",
              "  }\n",
              "</style>\n",
              "\n",
              "  <script>\n",
              "    async function quickchart(key) {\n",
              "      const quickchartButtonEl =\n",
              "        document.querySelector('#' + key + ' button');\n",
              "      quickchartButtonEl.disabled = true;  // To prevent multiple clicks.\n",
              "      quickchartButtonEl.classList.add('colab-df-spinner');\n",
              "      try {\n",
              "        const charts = await google.colab.kernel.invokeFunction(\n",
              "            'suggestCharts', [key], {});\n",
              "      } catch (error) {\n",
              "        console.error('Error during call to suggestCharts:', error);\n",
              "      }\n",
              "      quickchartButtonEl.classList.remove('colab-df-spinner');\n",
              "      quickchartButtonEl.classList.add('colab-df-quickchart-complete');\n",
              "    }\n",
              "    (() => {\n",
              "      let quickchartButtonEl =\n",
              "        document.querySelector('#df-2666ff36-e9f9-4671-8320-e9d4c50ab5fc button');\n",
              "      quickchartButtonEl.style.display =\n",
              "        google.colab.kernel.accessAllowed ? 'block' : 'none';\n",
              "    })();\n",
              "  </script>\n",
              "</div>\n",
              "\n",
              "    </div>\n",
              "  </div>\n"
            ]
          },
          "metadata": {},
          "execution_count": 3
        }
      ]
    },
    {
      "cell_type": "markdown",
      "source": [
        "Essa base possui 21 variáveis, entre elas podem haver variáveis não numéricas. Vamos verificar essa possibilidade."
      ],
      "metadata": {
        "id": "cqKqfFY6GEM9"
      }
    },
    {
      "cell_type": "code",
      "source": [
        "# Observando os tipos de dados\n",
        "df.info()"
      ],
      "metadata": {
        "colab": {
          "base_uri": "https://localhost:8080/"
        },
        "id": "zG3WAblwGNms",
        "outputId": "358b9dea-1de8-43b4-ba01-a3fc598badea"
      },
      "execution_count": null,
      "outputs": [
        {
          "output_type": "stream",
          "name": "stdout",
          "text": [
            "<class 'pandas.core.frame.DataFrame'>\n",
            "RangeIndex: 21613 entries, 0 to 21612\n",
            "Data columns (total 21 columns):\n",
            " #   Column         Non-Null Count  Dtype  \n",
            "---  ------         --------------  -----  \n",
            " 0   id             21613 non-null  int64  \n",
            " 1   date           21613 non-null  object \n",
            " 2   price          21613 non-null  float64\n",
            " 3   bedrooms       21613 non-null  int64  \n",
            " 4   bathrooms      21613 non-null  float64\n",
            " 5   sqft_living    21613 non-null  int64  \n",
            " 6   sqft_lot       21613 non-null  int64  \n",
            " 7   floors         21613 non-null  float64\n",
            " 8   waterfront     21613 non-null  int64  \n",
            " 9   view           21613 non-null  int64  \n",
            " 10  condition      21613 non-null  int64  \n",
            " 11  grade          21613 non-null  int64  \n",
            " 12  sqft_above     21613 non-null  int64  \n",
            " 13  sqft_basement  21613 non-null  int64  \n",
            " 14  yr_built       21613 non-null  int64  \n",
            " 15  yr_renovated   21613 non-null  int64  \n",
            " 16  zipcode        21613 non-null  int64  \n",
            " 17  lat            21613 non-null  float64\n",
            " 18  long           21613 non-null  float64\n",
            " 19  sqft_living15  21613 non-null  int64  \n",
            " 20  sqft_lot15     21613 non-null  int64  \n",
            "dtypes: float64(5), int64(15), object(1)\n",
            "memory usage: 3.5+ MB\n"
          ]
        }
      ]
    },
    {
      "cell_type": "markdown",
      "source": [
        "Algumas observações:\n",
        "\n",
        "- É possível observar que a variável date não é do tipo numérico. Portanto, por enquanto, vamos retirar essa variável do data frame.\n",
        "\n",
        "- A variável id provavelmente não apresentará nenhum tipo de correlação, pois se trata de um atributo de identificação. Logo, podemos excluí-la da base também.\n",
        "\n",
        "- Aparentemente, as variáveis sqft_living e sqft_lot estão mais desatualizadas do que as variáveis sqft_living15 e sqft_lot15. Sendo assim, vou excluir também essas que estão mais antigas."
      ],
      "metadata": {
        "id": "MymFXKvyGrIQ"
      }
    },
    {
      "cell_type": "code",
      "source": [
        "# Realizando a exclusão da coluna\n",
        "df = df.drop(['date', 'id', 'sqft_living', 'sqft_lot'], axis = 1)\n",
        "\n",
        "# Observando os dados\n",
        "df.head()"
      ],
      "metadata": {
        "colab": {
          "base_uri": "https://localhost:8080/",
          "height": 206
        },
        "id": "Zeh_7nz1G4Ae",
        "outputId": "403f8d2b-7ee1-4f81-e549-7072dd9bedce"
      },
      "execution_count": null,
      "outputs": [
        {
          "output_type": "execute_result",
          "data": {
            "text/plain": [
              "      price  bedrooms  bathrooms  floors  waterfront  view  condition  grade  \\\n",
              "0  221900.0         3       1.00     1.0           0     0          3      7   \n",
              "1  538000.0         3       2.25     2.0           0     0          3      7   \n",
              "2  180000.0         2       1.00     1.0           0     0          3      6   \n",
              "3  604000.0         4       3.00     1.0           0     0          5      7   \n",
              "4  510000.0         3       2.00     1.0           0     0          3      8   \n",
              "\n",
              "   sqft_above  sqft_basement  yr_built  yr_renovated  zipcode      lat  \\\n",
              "0        1180              0      1955             0    98178  47.5112   \n",
              "1        2170            400      1951          1991    98125  47.7210   \n",
              "2         770              0      1933             0    98028  47.7379   \n",
              "3        1050            910      1965             0    98136  47.5208   \n",
              "4        1680              0      1987             0    98074  47.6168   \n",
              "\n",
              "      long  sqft_living15  sqft_lot15  \n",
              "0 -122.257           1340        5650  \n",
              "1 -122.319           1690        7639  \n",
              "2 -122.233           2720        8062  \n",
              "3 -122.393           1360        5000  \n",
              "4 -122.045           1800        7503  "
            ],
            "text/html": [
              "\n",
              "  <div id=\"df-4b505d69-4c2d-43ef-bbf4-56a0d6b6c66a\" class=\"colab-df-container\">\n",
              "    <div>\n",
              "<style scoped>\n",
              "    .dataframe tbody tr th:only-of-type {\n",
              "        vertical-align: middle;\n",
              "    }\n",
              "\n",
              "    .dataframe tbody tr th {\n",
              "        vertical-align: top;\n",
              "    }\n",
              "\n",
              "    .dataframe thead th {\n",
              "        text-align: right;\n",
              "    }\n",
              "</style>\n",
              "<table border=\"1\" class=\"dataframe\">\n",
              "  <thead>\n",
              "    <tr style=\"text-align: right;\">\n",
              "      <th></th>\n",
              "      <th>price</th>\n",
              "      <th>bedrooms</th>\n",
              "      <th>bathrooms</th>\n",
              "      <th>floors</th>\n",
              "      <th>waterfront</th>\n",
              "      <th>view</th>\n",
              "      <th>condition</th>\n",
              "      <th>grade</th>\n",
              "      <th>sqft_above</th>\n",
              "      <th>sqft_basement</th>\n",
              "      <th>yr_built</th>\n",
              "      <th>yr_renovated</th>\n",
              "      <th>zipcode</th>\n",
              "      <th>lat</th>\n",
              "      <th>long</th>\n",
              "      <th>sqft_living15</th>\n",
              "      <th>sqft_lot15</th>\n",
              "    </tr>\n",
              "  </thead>\n",
              "  <tbody>\n",
              "    <tr>\n",
              "      <th>0</th>\n",
              "      <td>221900.0</td>\n",
              "      <td>3</td>\n",
              "      <td>1.00</td>\n",
              "      <td>1.0</td>\n",
              "      <td>0</td>\n",
              "      <td>0</td>\n",
              "      <td>3</td>\n",
              "      <td>7</td>\n",
              "      <td>1180</td>\n",
              "      <td>0</td>\n",
              "      <td>1955</td>\n",
              "      <td>0</td>\n",
              "      <td>98178</td>\n",
              "      <td>47.5112</td>\n",
              "      <td>-122.257</td>\n",
              "      <td>1340</td>\n",
              "      <td>5650</td>\n",
              "    </tr>\n",
              "    <tr>\n",
              "      <th>1</th>\n",
              "      <td>538000.0</td>\n",
              "      <td>3</td>\n",
              "      <td>2.25</td>\n",
              "      <td>2.0</td>\n",
              "      <td>0</td>\n",
              "      <td>0</td>\n",
              "      <td>3</td>\n",
              "      <td>7</td>\n",
              "      <td>2170</td>\n",
              "      <td>400</td>\n",
              "      <td>1951</td>\n",
              "      <td>1991</td>\n",
              "      <td>98125</td>\n",
              "      <td>47.7210</td>\n",
              "      <td>-122.319</td>\n",
              "      <td>1690</td>\n",
              "      <td>7639</td>\n",
              "    </tr>\n",
              "    <tr>\n",
              "      <th>2</th>\n",
              "      <td>180000.0</td>\n",
              "      <td>2</td>\n",
              "      <td>1.00</td>\n",
              "      <td>1.0</td>\n",
              "      <td>0</td>\n",
              "      <td>0</td>\n",
              "      <td>3</td>\n",
              "      <td>6</td>\n",
              "      <td>770</td>\n",
              "      <td>0</td>\n",
              "      <td>1933</td>\n",
              "      <td>0</td>\n",
              "      <td>98028</td>\n",
              "      <td>47.7379</td>\n",
              "      <td>-122.233</td>\n",
              "      <td>2720</td>\n",
              "      <td>8062</td>\n",
              "    </tr>\n",
              "    <tr>\n",
              "      <th>3</th>\n",
              "      <td>604000.0</td>\n",
              "      <td>4</td>\n",
              "      <td>3.00</td>\n",
              "      <td>1.0</td>\n",
              "      <td>0</td>\n",
              "      <td>0</td>\n",
              "      <td>5</td>\n",
              "      <td>7</td>\n",
              "      <td>1050</td>\n",
              "      <td>910</td>\n",
              "      <td>1965</td>\n",
              "      <td>0</td>\n",
              "      <td>98136</td>\n",
              "      <td>47.5208</td>\n",
              "      <td>-122.393</td>\n",
              "      <td>1360</td>\n",
              "      <td>5000</td>\n",
              "    </tr>\n",
              "    <tr>\n",
              "      <th>4</th>\n",
              "      <td>510000.0</td>\n",
              "      <td>3</td>\n",
              "      <td>2.00</td>\n",
              "      <td>1.0</td>\n",
              "      <td>0</td>\n",
              "      <td>0</td>\n",
              "      <td>3</td>\n",
              "      <td>8</td>\n",
              "      <td>1680</td>\n",
              "      <td>0</td>\n",
              "      <td>1987</td>\n",
              "      <td>0</td>\n",
              "      <td>98074</td>\n",
              "      <td>47.6168</td>\n",
              "      <td>-122.045</td>\n",
              "      <td>1800</td>\n",
              "      <td>7503</td>\n",
              "    </tr>\n",
              "  </tbody>\n",
              "</table>\n",
              "</div>\n",
              "    <div class=\"colab-df-buttons\">\n",
              "\n",
              "  <div class=\"colab-df-container\">\n",
              "    <button class=\"colab-df-convert\" onclick=\"convertToInteractive('df-4b505d69-4c2d-43ef-bbf4-56a0d6b6c66a')\"\n",
              "            title=\"Convert this dataframe to an interactive table.\"\n",
              "            style=\"display:none;\">\n",
              "\n",
              "  <svg xmlns=\"http://www.w3.org/2000/svg\" height=\"24px\" viewBox=\"0 -960 960 960\">\n",
              "    <path d=\"M120-120v-720h720v720H120Zm60-500h600v-160H180v160Zm220 220h160v-160H400v160Zm0 220h160v-160H400v160ZM180-400h160v-160H180v160Zm440 0h160v-160H620v160ZM180-180h160v-160H180v160Zm440 0h160v-160H620v160Z\"/>\n",
              "  </svg>\n",
              "    </button>\n",
              "\n",
              "  <style>\n",
              "    .colab-df-container {\n",
              "      display:flex;\n",
              "      gap: 12px;\n",
              "    }\n",
              "\n",
              "    .colab-df-convert {\n",
              "      background-color: #E8F0FE;\n",
              "      border: none;\n",
              "      border-radius: 50%;\n",
              "      cursor: pointer;\n",
              "      display: none;\n",
              "      fill: #1967D2;\n",
              "      height: 32px;\n",
              "      padding: 0 0 0 0;\n",
              "      width: 32px;\n",
              "    }\n",
              "\n",
              "    .colab-df-convert:hover {\n",
              "      background-color: #E2EBFA;\n",
              "      box-shadow: 0px 1px 2px rgba(60, 64, 67, 0.3), 0px 1px 3px 1px rgba(60, 64, 67, 0.15);\n",
              "      fill: #174EA6;\n",
              "    }\n",
              "\n",
              "    .colab-df-buttons div {\n",
              "      margin-bottom: 4px;\n",
              "    }\n",
              "\n",
              "    [theme=dark] .colab-df-convert {\n",
              "      background-color: #3B4455;\n",
              "      fill: #D2E3FC;\n",
              "    }\n",
              "\n",
              "    [theme=dark] .colab-df-convert:hover {\n",
              "      background-color: #434B5C;\n",
              "      box-shadow: 0px 1px 3px 1px rgba(0, 0, 0, 0.15);\n",
              "      filter: drop-shadow(0px 1px 2px rgba(0, 0, 0, 0.3));\n",
              "      fill: #FFFFFF;\n",
              "    }\n",
              "  </style>\n",
              "\n",
              "    <script>\n",
              "      const buttonEl =\n",
              "        document.querySelector('#df-4b505d69-4c2d-43ef-bbf4-56a0d6b6c66a button.colab-df-convert');\n",
              "      buttonEl.style.display =\n",
              "        google.colab.kernel.accessAllowed ? 'block' : 'none';\n",
              "\n",
              "      async function convertToInteractive(key) {\n",
              "        const element = document.querySelector('#df-4b505d69-4c2d-43ef-bbf4-56a0d6b6c66a');\n",
              "        const dataTable =\n",
              "          await google.colab.kernel.invokeFunction('convertToInteractive',\n",
              "                                                    [key], {});\n",
              "        if (!dataTable) return;\n",
              "\n",
              "        const docLinkHtml = 'Like what you see? Visit the ' +\n",
              "          '<a target=\"_blank\" href=https://colab.research.google.com/notebooks/data_table.ipynb>data table notebook</a>'\n",
              "          + ' to learn more about interactive tables.';\n",
              "        element.innerHTML = '';\n",
              "        dataTable['output_type'] = 'display_data';\n",
              "        await google.colab.output.renderOutput(dataTable, element);\n",
              "        const docLink = document.createElement('div');\n",
              "        docLink.innerHTML = docLinkHtml;\n",
              "        element.appendChild(docLink);\n",
              "      }\n",
              "    </script>\n",
              "  </div>\n",
              "\n",
              "\n",
              "<div id=\"df-40a17660-2f6e-46f5-8eb4-c4f981c94f74\">\n",
              "  <button class=\"colab-df-quickchart\" onclick=\"quickchart('df-40a17660-2f6e-46f5-8eb4-c4f981c94f74')\"\n",
              "            title=\"Suggest charts\"\n",
              "            style=\"display:none;\">\n",
              "\n",
              "<svg xmlns=\"http://www.w3.org/2000/svg\" height=\"24px\"viewBox=\"0 0 24 24\"\n",
              "     width=\"24px\">\n",
              "    <g>\n",
              "        <path d=\"M19 3H5c-1.1 0-2 .9-2 2v14c0 1.1.9 2 2 2h14c1.1 0 2-.9 2-2V5c0-1.1-.9-2-2-2zM9 17H7v-7h2v7zm4 0h-2V7h2v10zm4 0h-2v-4h2v4z\"/>\n",
              "    </g>\n",
              "</svg>\n",
              "  </button>\n",
              "\n",
              "<style>\n",
              "  .colab-df-quickchart {\n",
              "      --bg-color: #E8F0FE;\n",
              "      --fill-color: #1967D2;\n",
              "      --hover-bg-color: #E2EBFA;\n",
              "      --hover-fill-color: #174EA6;\n",
              "      --disabled-fill-color: #AAA;\n",
              "      --disabled-bg-color: #DDD;\n",
              "  }\n",
              "\n",
              "  [theme=dark] .colab-df-quickchart {\n",
              "      --bg-color: #3B4455;\n",
              "      --fill-color: #D2E3FC;\n",
              "      --hover-bg-color: #434B5C;\n",
              "      --hover-fill-color: #FFFFFF;\n",
              "      --disabled-bg-color: #3B4455;\n",
              "      --disabled-fill-color: #666;\n",
              "  }\n",
              "\n",
              "  .colab-df-quickchart {\n",
              "    background-color: var(--bg-color);\n",
              "    border: none;\n",
              "    border-radius: 50%;\n",
              "    cursor: pointer;\n",
              "    display: none;\n",
              "    fill: var(--fill-color);\n",
              "    height: 32px;\n",
              "    padding: 0;\n",
              "    width: 32px;\n",
              "  }\n",
              "\n",
              "  .colab-df-quickchart:hover {\n",
              "    background-color: var(--hover-bg-color);\n",
              "    box-shadow: 0 1px 2px rgba(60, 64, 67, 0.3), 0 1px 3px 1px rgba(60, 64, 67, 0.15);\n",
              "    fill: var(--button-hover-fill-color);\n",
              "  }\n",
              "\n",
              "  .colab-df-quickchart-complete:disabled,\n",
              "  .colab-df-quickchart-complete:disabled:hover {\n",
              "    background-color: var(--disabled-bg-color);\n",
              "    fill: var(--disabled-fill-color);\n",
              "    box-shadow: none;\n",
              "  }\n",
              "\n",
              "  .colab-df-spinner {\n",
              "    border: 2px solid var(--fill-color);\n",
              "    border-color: transparent;\n",
              "    border-bottom-color: var(--fill-color);\n",
              "    animation:\n",
              "      spin 1s steps(1) infinite;\n",
              "  }\n",
              "\n",
              "  @keyframes spin {\n",
              "    0% {\n",
              "      border-color: transparent;\n",
              "      border-bottom-color: var(--fill-color);\n",
              "      border-left-color: var(--fill-color);\n",
              "    }\n",
              "    20% {\n",
              "      border-color: transparent;\n",
              "      border-left-color: var(--fill-color);\n",
              "      border-top-color: var(--fill-color);\n",
              "    }\n",
              "    30% {\n",
              "      border-color: transparent;\n",
              "      border-left-color: var(--fill-color);\n",
              "      border-top-color: var(--fill-color);\n",
              "      border-right-color: var(--fill-color);\n",
              "    }\n",
              "    40% {\n",
              "      border-color: transparent;\n",
              "      border-right-color: var(--fill-color);\n",
              "      border-top-color: var(--fill-color);\n",
              "    }\n",
              "    60% {\n",
              "      border-color: transparent;\n",
              "      border-right-color: var(--fill-color);\n",
              "    }\n",
              "    80% {\n",
              "      border-color: transparent;\n",
              "      border-right-color: var(--fill-color);\n",
              "      border-bottom-color: var(--fill-color);\n",
              "    }\n",
              "    90% {\n",
              "      border-color: transparent;\n",
              "      border-bottom-color: var(--fill-color);\n",
              "    }\n",
              "  }\n",
              "</style>\n",
              "\n",
              "  <script>\n",
              "    async function quickchart(key) {\n",
              "      const quickchartButtonEl =\n",
              "        document.querySelector('#' + key + ' button');\n",
              "      quickchartButtonEl.disabled = true;  // To prevent multiple clicks.\n",
              "      quickchartButtonEl.classList.add('colab-df-spinner');\n",
              "      try {\n",
              "        const charts = await google.colab.kernel.invokeFunction(\n",
              "            'suggestCharts', [key], {});\n",
              "      } catch (error) {\n",
              "        console.error('Error during call to suggestCharts:', error);\n",
              "      }\n",
              "      quickchartButtonEl.classList.remove('colab-df-spinner');\n",
              "      quickchartButtonEl.classList.add('colab-df-quickchart-complete');\n",
              "    }\n",
              "    (() => {\n",
              "      let quickchartButtonEl =\n",
              "        document.querySelector('#df-40a17660-2f6e-46f5-8eb4-c4f981c94f74 button');\n",
              "      quickchartButtonEl.style.display =\n",
              "        google.colab.kernel.accessAllowed ? 'block' : 'none';\n",
              "    })();\n",
              "  </script>\n",
              "</div>\n",
              "\n",
              "    </div>\n",
              "  </div>\n"
            ]
          },
          "metadata": {},
          "execution_count": 5
        }
      ]
    },
    {
      "cell_type": "markdown",
      "source": [
        "Com as devidas remoções realizadas, podemos seguir adiante para o cálculo propriamente dito."
      ],
      "metadata": {
        "id": "Xf_9WKrMGzAe"
      }
    },
    {
      "cell_type": "code",
      "source": [
        "# Calculando as correlações\n",
        "correlacoes = df.corr()\n",
        "\n",
        "# Exibindo os resultados\n",
        "correlacoes"
      ],
      "metadata": {
        "colab": {
          "base_uri": "https://localhost:8080/",
          "height": 582
        },
        "id": "wi-z72XEHVuz",
        "outputId": "51875376-1d25-4872-99d0-21b13bb0826a"
      },
      "execution_count": null,
      "outputs": [
        {
          "output_type": "execute_result",
          "data": {
            "text/plain": [
              "                  price  bedrooms  bathrooms    floors  waterfront      view  \\\n",
              "price          1.000000  0.308350   0.525138  0.256794    0.266369  0.397293   \n",
              "bedrooms       0.308350  1.000000   0.515884  0.175429   -0.006582  0.079532   \n",
              "bathrooms      0.525138  0.515884   1.000000  0.500653    0.063744  0.187737   \n",
              "floors         0.256794  0.175429   0.500653  1.000000    0.023698  0.029444   \n",
              "waterfront     0.266369 -0.006582   0.063744  0.023698    1.000000  0.401857   \n",
              "view           0.397293  0.079532   0.187737  0.029444    0.401857  1.000000   \n",
              "condition      0.036362  0.028472  -0.124982 -0.263768    0.016653  0.045990   \n",
              "grade          0.667434  0.356967   0.664983  0.458183    0.082775  0.251321   \n",
              "sqft_above     0.605567  0.477600   0.685342  0.523885    0.072075  0.167649   \n",
              "sqft_basement  0.323816  0.303093   0.283770 -0.245705    0.080588  0.276947   \n",
              "yr_built       0.054012  0.154178   0.506019  0.489319   -0.026161 -0.053440   \n",
              "yr_renovated   0.126434  0.018841   0.050739  0.006338    0.092885  0.103917   \n",
              "zipcode       -0.053203 -0.152668  -0.203866 -0.059121    0.030285  0.084827   \n",
              "lat            0.307003 -0.008931   0.024573  0.049614   -0.014274  0.006157   \n",
              "long           0.021626  0.129473   0.223042  0.125419   -0.041910 -0.078400   \n",
              "sqft_living15  0.585379  0.391638   0.568634  0.279885    0.086463  0.280439   \n",
              "sqft_lot15     0.082447  0.029244   0.087175 -0.011269    0.030703  0.072575   \n",
              "\n",
              "               condition     grade  sqft_above  sqft_basement  yr_built  \\\n",
              "price           0.036362  0.667434    0.605567       0.323816  0.054012   \n",
              "bedrooms        0.028472  0.356967    0.477600       0.303093  0.154178   \n",
              "bathrooms      -0.124982  0.664983    0.685342       0.283770  0.506019   \n",
              "floors         -0.263768  0.458183    0.523885      -0.245705  0.489319   \n",
              "waterfront      0.016653  0.082775    0.072075       0.080588 -0.026161   \n",
              "view            0.045990  0.251321    0.167649       0.276947 -0.053440   \n",
              "condition       1.000000 -0.144674   -0.158214       0.174105 -0.361417   \n",
              "grade          -0.144674  1.000000    0.755923       0.168392  0.446963   \n",
              "sqft_above     -0.158214  0.755923    1.000000      -0.051943  0.423898   \n",
              "sqft_basement   0.174105  0.168392   -0.051943       1.000000 -0.133124   \n",
              "yr_built       -0.361417  0.446963    0.423898      -0.133124  1.000000   \n",
              "yr_renovated   -0.060618  0.014414    0.023285       0.071323 -0.224874   \n",
              "zipcode         0.003026 -0.184862   -0.261190       0.074845 -0.346869   \n",
              "lat            -0.014941  0.114084   -0.000816       0.110538 -0.148122   \n",
              "long           -0.106500  0.198372    0.343803      -0.144765  0.409356   \n",
              "sqft_living15  -0.092824  0.713202    0.731870       0.200355  0.326229   \n",
              "sqft_lot15     -0.003406  0.119248    0.194050       0.017276  0.070958   \n",
              "\n",
              "               yr_renovated   zipcode       lat      long  sqft_living15  \\\n",
              "price              0.126434 -0.053203  0.307003  0.021626       0.585379   \n",
              "bedrooms           0.018841 -0.152668 -0.008931  0.129473       0.391638   \n",
              "bathrooms          0.050739 -0.203866  0.024573  0.223042       0.568634   \n",
              "floors             0.006338 -0.059121  0.049614  0.125419       0.279885   \n",
              "waterfront         0.092885  0.030285 -0.014274 -0.041910       0.086463   \n",
              "view               0.103917  0.084827  0.006157 -0.078400       0.280439   \n",
              "condition         -0.060618  0.003026 -0.014941 -0.106500      -0.092824   \n",
              "grade              0.014414 -0.184862  0.114084  0.198372       0.713202   \n",
              "sqft_above         0.023285 -0.261190 -0.000816  0.343803       0.731870   \n",
              "sqft_basement      0.071323  0.074845  0.110538 -0.144765       0.200355   \n",
              "yr_built          -0.224874 -0.346869 -0.148122  0.409356       0.326229   \n",
              "yr_renovated       1.000000  0.064357  0.029398 -0.068372      -0.002673   \n",
              "zipcode            0.064357  1.000000  0.267048 -0.564072      -0.279033   \n",
              "lat                0.029398  0.267048  1.000000 -0.135512       0.048858   \n",
              "long              -0.068372 -0.564072 -0.135512  1.000000       0.334605   \n",
              "sqft_living15     -0.002673 -0.279033  0.048858  0.334605       1.000000   \n",
              "sqft_lot15         0.007854 -0.147221 -0.086419  0.254451       0.183192   \n",
              "\n",
              "               sqft_lot15  \n",
              "price            0.082447  \n",
              "bedrooms         0.029244  \n",
              "bathrooms        0.087175  \n",
              "floors          -0.011269  \n",
              "waterfront       0.030703  \n",
              "view             0.072575  \n",
              "condition       -0.003406  \n",
              "grade            0.119248  \n",
              "sqft_above       0.194050  \n",
              "sqft_basement    0.017276  \n",
              "yr_built         0.070958  \n",
              "yr_renovated     0.007854  \n",
              "zipcode         -0.147221  \n",
              "lat             -0.086419  \n",
              "long             0.254451  \n",
              "sqft_living15    0.183192  \n",
              "sqft_lot15       1.000000  "
            ],
            "text/html": [
              "\n",
              "  <div id=\"df-53e6e762-5bfb-40e2-a35a-6550fda621a7\" class=\"colab-df-container\">\n",
              "    <div>\n",
              "<style scoped>\n",
              "    .dataframe tbody tr th:only-of-type {\n",
              "        vertical-align: middle;\n",
              "    }\n",
              "\n",
              "    .dataframe tbody tr th {\n",
              "        vertical-align: top;\n",
              "    }\n",
              "\n",
              "    .dataframe thead th {\n",
              "        text-align: right;\n",
              "    }\n",
              "</style>\n",
              "<table border=\"1\" class=\"dataframe\">\n",
              "  <thead>\n",
              "    <tr style=\"text-align: right;\">\n",
              "      <th></th>\n",
              "      <th>price</th>\n",
              "      <th>bedrooms</th>\n",
              "      <th>bathrooms</th>\n",
              "      <th>floors</th>\n",
              "      <th>waterfront</th>\n",
              "      <th>view</th>\n",
              "      <th>condition</th>\n",
              "      <th>grade</th>\n",
              "      <th>sqft_above</th>\n",
              "      <th>sqft_basement</th>\n",
              "      <th>yr_built</th>\n",
              "      <th>yr_renovated</th>\n",
              "      <th>zipcode</th>\n",
              "      <th>lat</th>\n",
              "      <th>long</th>\n",
              "      <th>sqft_living15</th>\n",
              "      <th>sqft_lot15</th>\n",
              "    </tr>\n",
              "  </thead>\n",
              "  <tbody>\n",
              "    <tr>\n",
              "      <th>price</th>\n",
              "      <td>1.000000</td>\n",
              "      <td>0.308350</td>\n",
              "      <td>0.525138</td>\n",
              "      <td>0.256794</td>\n",
              "      <td>0.266369</td>\n",
              "      <td>0.397293</td>\n",
              "      <td>0.036362</td>\n",
              "      <td>0.667434</td>\n",
              "      <td>0.605567</td>\n",
              "      <td>0.323816</td>\n",
              "      <td>0.054012</td>\n",
              "      <td>0.126434</td>\n",
              "      <td>-0.053203</td>\n",
              "      <td>0.307003</td>\n",
              "      <td>0.021626</td>\n",
              "      <td>0.585379</td>\n",
              "      <td>0.082447</td>\n",
              "    </tr>\n",
              "    <tr>\n",
              "      <th>bedrooms</th>\n",
              "      <td>0.308350</td>\n",
              "      <td>1.000000</td>\n",
              "      <td>0.515884</td>\n",
              "      <td>0.175429</td>\n",
              "      <td>-0.006582</td>\n",
              "      <td>0.079532</td>\n",
              "      <td>0.028472</td>\n",
              "      <td>0.356967</td>\n",
              "      <td>0.477600</td>\n",
              "      <td>0.303093</td>\n",
              "      <td>0.154178</td>\n",
              "      <td>0.018841</td>\n",
              "      <td>-0.152668</td>\n",
              "      <td>-0.008931</td>\n",
              "      <td>0.129473</td>\n",
              "      <td>0.391638</td>\n",
              "      <td>0.029244</td>\n",
              "    </tr>\n",
              "    <tr>\n",
              "      <th>bathrooms</th>\n",
              "      <td>0.525138</td>\n",
              "      <td>0.515884</td>\n",
              "      <td>1.000000</td>\n",
              "      <td>0.500653</td>\n",
              "      <td>0.063744</td>\n",
              "      <td>0.187737</td>\n",
              "      <td>-0.124982</td>\n",
              "      <td>0.664983</td>\n",
              "      <td>0.685342</td>\n",
              "      <td>0.283770</td>\n",
              "      <td>0.506019</td>\n",
              "      <td>0.050739</td>\n",
              "      <td>-0.203866</td>\n",
              "      <td>0.024573</td>\n",
              "      <td>0.223042</td>\n",
              "      <td>0.568634</td>\n",
              "      <td>0.087175</td>\n",
              "    </tr>\n",
              "    <tr>\n",
              "      <th>floors</th>\n",
              "      <td>0.256794</td>\n",
              "      <td>0.175429</td>\n",
              "      <td>0.500653</td>\n",
              "      <td>1.000000</td>\n",
              "      <td>0.023698</td>\n",
              "      <td>0.029444</td>\n",
              "      <td>-0.263768</td>\n",
              "      <td>0.458183</td>\n",
              "      <td>0.523885</td>\n",
              "      <td>-0.245705</td>\n",
              "      <td>0.489319</td>\n",
              "      <td>0.006338</td>\n",
              "      <td>-0.059121</td>\n",
              "      <td>0.049614</td>\n",
              "      <td>0.125419</td>\n",
              "      <td>0.279885</td>\n",
              "      <td>-0.011269</td>\n",
              "    </tr>\n",
              "    <tr>\n",
              "      <th>waterfront</th>\n",
              "      <td>0.266369</td>\n",
              "      <td>-0.006582</td>\n",
              "      <td>0.063744</td>\n",
              "      <td>0.023698</td>\n",
              "      <td>1.000000</td>\n",
              "      <td>0.401857</td>\n",
              "      <td>0.016653</td>\n",
              "      <td>0.082775</td>\n",
              "      <td>0.072075</td>\n",
              "      <td>0.080588</td>\n",
              "      <td>-0.026161</td>\n",
              "      <td>0.092885</td>\n",
              "      <td>0.030285</td>\n",
              "      <td>-0.014274</td>\n",
              "      <td>-0.041910</td>\n",
              "      <td>0.086463</td>\n",
              "      <td>0.030703</td>\n",
              "    </tr>\n",
              "    <tr>\n",
              "      <th>view</th>\n",
              "      <td>0.397293</td>\n",
              "      <td>0.079532</td>\n",
              "      <td>0.187737</td>\n",
              "      <td>0.029444</td>\n",
              "      <td>0.401857</td>\n",
              "      <td>1.000000</td>\n",
              "      <td>0.045990</td>\n",
              "      <td>0.251321</td>\n",
              "      <td>0.167649</td>\n",
              "      <td>0.276947</td>\n",
              "      <td>-0.053440</td>\n",
              "      <td>0.103917</td>\n",
              "      <td>0.084827</td>\n",
              "      <td>0.006157</td>\n",
              "      <td>-0.078400</td>\n",
              "      <td>0.280439</td>\n",
              "      <td>0.072575</td>\n",
              "    </tr>\n",
              "    <tr>\n",
              "      <th>condition</th>\n",
              "      <td>0.036362</td>\n",
              "      <td>0.028472</td>\n",
              "      <td>-0.124982</td>\n",
              "      <td>-0.263768</td>\n",
              "      <td>0.016653</td>\n",
              "      <td>0.045990</td>\n",
              "      <td>1.000000</td>\n",
              "      <td>-0.144674</td>\n",
              "      <td>-0.158214</td>\n",
              "      <td>0.174105</td>\n",
              "      <td>-0.361417</td>\n",
              "      <td>-0.060618</td>\n",
              "      <td>0.003026</td>\n",
              "      <td>-0.014941</td>\n",
              "      <td>-0.106500</td>\n",
              "      <td>-0.092824</td>\n",
              "      <td>-0.003406</td>\n",
              "    </tr>\n",
              "    <tr>\n",
              "      <th>grade</th>\n",
              "      <td>0.667434</td>\n",
              "      <td>0.356967</td>\n",
              "      <td>0.664983</td>\n",
              "      <td>0.458183</td>\n",
              "      <td>0.082775</td>\n",
              "      <td>0.251321</td>\n",
              "      <td>-0.144674</td>\n",
              "      <td>1.000000</td>\n",
              "      <td>0.755923</td>\n",
              "      <td>0.168392</td>\n",
              "      <td>0.446963</td>\n",
              "      <td>0.014414</td>\n",
              "      <td>-0.184862</td>\n",
              "      <td>0.114084</td>\n",
              "      <td>0.198372</td>\n",
              "      <td>0.713202</td>\n",
              "      <td>0.119248</td>\n",
              "    </tr>\n",
              "    <tr>\n",
              "      <th>sqft_above</th>\n",
              "      <td>0.605567</td>\n",
              "      <td>0.477600</td>\n",
              "      <td>0.685342</td>\n",
              "      <td>0.523885</td>\n",
              "      <td>0.072075</td>\n",
              "      <td>0.167649</td>\n",
              "      <td>-0.158214</td>\n",
              "      <td>0.755923</td>\n",
              "      <td>1.000000</td>\n",
              "      <td>-0.051943</td>\n",
              "      <td>0.423898</td>\n",
              "      <td>0.023285</td>\n",
              "      <td>-0.261190</td>\n",
              "      <td>-0.000816</td>\n",
              "      <td>0.343803</td>\n",
              "      <td>0.731870</td>\n",
              "      <td>0.194050</td>\n",
              "    </tr>\n",
              "    <tr>\n",
              "      <th>sqft_basement</th>\n",
              "      <td>0.323816</td>\n",
              "      <td>0.303093</td>\n",
              "      <td>0.283770</td>\n",
              "      <td>-0.245705</td>\n",
              "      <td>0.080588</td>\n",
              "      <td>0.276947</td>\n",
              "      <td>0.174105</td>\n",
              "      <td>0.168392</td>\n",
              "      <td>-0.051943</td>\n",
              "      <td>1.000000</td>\n",
              "      <td>-0.133124</td>\n",
              "      <td>0.071323</td>\n",
              "      <td>0.074845</td>\n",
              "      <td>0.110538</td>\n",
              "      <td>-0.144765</td>\n",
              "      <td>0.200355</td>\n",
              "      <td>0.017276</td>\n",
              "    </tr>\n",
              "    <tr>\n",
              "      <th>yr_built</th>\n",
              "      <td>0.054012</td>\n",
              "      <td>0.154178</td>\n",
              "      <td>0.506019</td>\n",
              "      <td>0.489319</td>\n",
              "      <td>-0.026161</td>\n",
              "      <td>-0.053440</td>\n",
              "      <td>-0.361417</td>\n",
              "      <td>0.446963</td>\n",
              "      <td>0.423898</td>\n",
              "      <td>-0.133124</td>\n",
              "      <td>1.000000</td>\n",
              "      <td>-0.224874</td>\n",
              "      <td>-0.346869</td>\n",
              "      <td>-0.148122</td>\n",
              "      <td>0.409356</td>\n",
              "      <td>0.326229</td>\n",
              "      <td>0.070958</td>\n",
              "    </tr>\n",
              "    <tr>\n",
              "      <th>yr_renovated</th>\n",
              "      <td>0.126434</td>\n",
              "      <td>0.018841</td>\n",
              "      <td>0.050739</td>\n",
              "      <td>0.006338</td>\n",
              "      <td>0.092885</td>\n",
              "      <td>0.103917</td>\n",
              "      <td>-0.060618</td>\n",
              "      <td>0.014414</td>\n",
              "      <td>0.023285</td>\n",
              "      <td>0.071323</td>\n",
              "      <td>-0.224874</td>\n",
              "      <td>1.000000</td>\n",
              "      <td>0.064357</td>\n",
              "      <td>0.029398</td>\n",
              "      <td>-0.068372</td>\n",
              "      <td>-0.002673</td>\n",
              "      <td>0.007854</td>\n",
              "    </tr>\n",
              "    <tr>\n",
              "      <th>zipcode</th>\n",
              "      <td>-0.053203</td>\n",
              "      <td>-0.152668</td>\n",
              "      <td>-0.203866</td>\n",
              "      <td>-0.059121</td>\n",
              "      <td>0.030285</td>\n",
              "      <td>0.084827</td>\n",
              "      <td>0.003026</td>\n",
              "      <td>-0.184862</td>\n",
              "      <td>-0.261190</td>\n",
              "      <td>0.074845</td>\n",
              "      <td>-0.346869</td>\n",
              "      <td>0.064357</td>\n",
              "      <td>1.000000</td>\n",
              "      <td>0.267048</td>\n",
              "      <td>-0.564072</td>\n",
              "      <td>-0.279033</td>\n",
              "      <td>-0.147221</td>\n",
              "    </tr>\n",
              "    <tr>\n",
              "      <th>lat</th>\n",
              "      <td>0.307003</td>\n",
              "      <td>-0.008931</td>\n",
              "      <td>0.024573</td>\n",
              "      <td>0.049614</td>\n",
              "      <td>-0.014274</td>\n",
              "      <td>0.006157</td>\n",
              "      <td>-0.014941</td>\n",
              "      <td>0.114084</td>\n",
              "      <td>-0.000816</td>\n",
              "      <td>0.110538</td>\n",
              "      <td>-0.148122</td>\n",
              "      <td>0.029398</td>\n",
              "      <td>0.267048</td>\n",
              "      <td>1.000000</td>\n",
              "      <td>-0.135512</td>\n",
              "      <td>0.048858</td>\n",
              "      <td>-0.086419</td>\n",
              "    </tr>\n",
              "    <tr>\n",
              "      <th>long</th>\n",
              "      <td>0.021626</td>\n",
              "      <td>0.129473</td>\n",
              "      <td>0.223042</td>\n",
              "      <td>0.125419</td>\n",
              "      <td>-0.041910</td>\n",
              "      <td>-0.078400</td>\n",
              "      <td>-0.106500</td>\n",
              "      <td>0.198372</td>\n",
              "      <td>0.343803</td>\n",
              "      <td>-0.144765</td>\n",
              "      <td>0.409356</td>\n",
              "      <td>-0.068372</td>\n",
              "      <td>-0.564072</td>\n",
              "      <td>-0.135512</td>\n",
              "      <td>1.000000</td>\n",
              "      <td>0.334605</td>\n",
              "      <td>0.254451</td>\n",
              "    </tr>\n",
              "    <tr>\n",
              "      <th>sqft_living15</th>\n",
              "      <td>0.585379</td>\n",
              "      <td>0.391638</td>\n",
              "      <td>0.568634</td>\n",
              "      <td>0.279885</td>\n",
              "      <td>0.086463</td>\n",
              "      <td>0.280439</td>\n",
              "      <td>-0.092824</td>\n",
              "      <td>0.713202</td>\n",
              "      <td>0.731870</td>\n",
              "      <td>0.200355</td>\n",
              "      <td>0.326229</td>\n",
              "      <td>-0.002673</td>\n",
              "      <td>-0.279033</td>\n",
              "      <td>0.048858</td>\n",
              "      <td>0.334605</td>\n",
              "      <td>1.000000</td>\n",
              "      <td>0.183192</td>\n",
              "    </tr>\n",
              "    <tr>\n",
              "      <th>sqft_lot15</th>\n",
              "      <td>0.082447</td>\n",
              "      <td>0.029244</td>\n",
              "      <td>0.087175</td>\n",
              "      <td>-0.011269</td>\n",
              "      <td>0.030703</td>\n",
              "      <td>0.072575</td>\n",
              "      <td>-0.003406</td>\n",
              "      <td>0.119248</td>\n",
              "      <td>0.194050</td>\n",
              "      <td>0.017276</td>\n",
              "      <td>0.070958</td>\n",
              "      <td>0.007854</td>\n",
              "      <td>-0.147221</td>\n",
              "      <td>-0.086419</td>\n",
              "      <td>0.254451</td>\n",
              "      <td>0.183192</td>\n",
              "      <td>1.000000</td>\n",
              "    </tr>\n",
              "  </tbody>\n",
              "</table>\n",
              "</div>\n",
              "    <div class=\"colab-df-buttons\">\n",
              "\n",
              "  <div class=\"colab-df-container\">\n",
              "    <button class=\"colab-df-convert\" onclick=\"convertToInteractive('df-53e6e762-5bfb-40e2-a35a-6550fda621a7')\"\n",
              "            title=\"Convert this dataframe to an interactive table.\"\n",
              "            style=\"display:none;\">\n",
              "\n",
              "  <svg xmlns=\"http://www.w3.org/2000/svg\" height=\"24px\" viewBox=\"0 -960 960 960\">\n",
              "    <path d=\"M120-120v-720h720v720H120Zm60-500h600v-160H180v160Zm220 220h160v-160H400v160Zm0 220h160v-160H400v160ZM180-400h160v-160H180v160Zm440 0h160v-160H620v160ZM180-180h160v-160H180v160Zm440 0h160v-160H620v160Z\"/>\n",
              "  </svg>\n",
              "    </button>\n",
              "\n",
              "  <style>\n",
              "    .colab-df-container {\n",
              "      display:flex;\n",
              "      gap: 12px;\n",
              "    }\n",
              "\n",
              "    .colab-df-convert {\n",
              "      background-color: #E8F0FE;\n",
              "      border: none;\n",
              "      border-radius: 50%;\n",
              "      cursor: pointer;\n",
              "      display: none;\n",
              "      fill: #1967D2;\n",
              "      height: 32px;\n",
              "      padding: 0 0 0 0;\n",
              "      width: 32px;\n",
              "    }\n",
              "\n",
              "    .colab-df-convert:hover {\n",
              "      background-color: #E2EBFA;\n",
              "      box-shadow: 0px 1px 2px rgba(60, 64, 67, 0.3), 0px 1px 3px 1px rgba(60, 64, 67, 0.15);\n",
              "      fill: #174EA6;\n",
              "    }\n",
              "\n",
              "    .colab-df-buttons div {\n",
              "      margin-bottom: 4px;\n",
              "    }\n",
              "\n",
              "    [theme=dark] .colab-df-convert {\n",
              "      background-color: #3B4455;\n",
              "      fill: #D2E3FC;\n",
              "    }\n",
              "\n",
              "    [theme=dark] .colab-df-convert:hover {\n",
              "      background-color: #434B5C;\n",
              "      box-shadow: 0px 1px 3px 1px rgba(0, 0, 0, 0.15);\n",
              "      filter: drop-shadow(0px 1px 2px rgba(0, 0, 0, 0.3));\n",
              "      fill: #FFFFFF;\n",
              "    }\n",
              "  </style>\n",
              "\n",
              "    <script>\n",
              "      const buttonEl =\n",
              "        document.querySelector('#df-53e6e762-5bfb-40e2-a35a-6550fda621a7 button.colab-df-convert');\n",
              "      buttonEl.style.display =\n",
              "        google.colab.kernel.accessAllowed ? 'block' : 'none';\n",
              "\n",
              "      async function convertToInteractive(key) {\n",
              "        const element = document.querySelector('#df-53e6e762-5bfb-40e2-a35a-6550fda621a7');\n",
              "        const dataTable =\n",
              "          await google.colab.kernel.invokeFunction('convertToInteractive',\n",
              "                                                    [key], {});\n",
              "        if (!dataTable) return;\n",
              "\n",
              "        const docLinkHtml = 'Like what you see? Visit the ' +\n",
              "          '<a target=\"_blank\" href=https://colab.research.google.com/notebooks/data_table.ipynb>data table notebook</a>'\n",
              "          + ' to learn more about interactive tables.';\n",
              "        element.innerHTML = '';\n",
              "        dataTable['output_type'] = 'display_data';\n",
              "        await google.colab.output.renderOutput(dataTable, element);\n",
              "        const docLink = document.createElement('div');\n",
              "        docLink.innerHTML = docLinkHtml;\n",
              "        element.appendChild(docLink);\n",
              "      }\n",
              "    </script>\n",
              "  </div>\n",
              "\n",
              "\n",
              "<div id=\"df-515f405d-e3b5-4a14-bd8d-ace23c3f793a\">\n",
              "  <button class=\"colab-df-quickchart\" onclick=\"quickchart('df-515f405d-e3b5-4a14-bd8d-ace23c3f793a')\"\n",
              "            title=\"Suggest charts\"\n",
              "            style=\"display:none;\">\n",
              "\n",
              "<svg xmlns=\"http://www.w3.org/2000/svg\" height=\"24px\"viewBox=\"0 0 24 24\"\n",
              "     width=\"24px\">\n",
              "    <g>\n",
              "        <path d=\"M19 3H5c-1.1 0-2 .9-2 2v14c0 1.1.9 2 2 2h14c1.1 0 2-.9 2-2V5c0-1.1-.9-2-2-2zM9 17H7v-7h2v7zm4 0h-2V7h2v10zm4 0h-2v-4h2v4z\"/>\n",
              "    </g>\n",
              "</svg>\n",
              "  </button>\n",
              "\n",
              "<style>\n",
              "  .colab-df-quickchart {\n",
              "      --bg-color: #E8F0FE;\n",
              "      --fill-color: #1967D2;\n",
              "      --hover-bg-color: #E2EBFA;\n",
              "      --hover-fill-color: #174EA6;\n",
              "      --disabled-fill-color: #AAA;\n",
              "      --disabled-bg-color: #DDD;\n",
              "  }\n",
              "\n",
              "  [theme=dark] .colab-df-quickchart {\n",
              "      --bg-color: #3B4455;\n",
              "      --fill-color: #D2E3FC;\n",
              "      --hover-bg-color: #434B5C;\n",
              "      --hover-fill-color: #FFFFFF;\n",
              "      --disabled-bg-color: #3B4455;\n",
              "      --disabled-fill-color: #666;\n",
              "  }\n",
              "\n",
              "  .colab-df-quickchart {\n",
              "    background-color: var(--bg-color);\n",
              "    border: none;\n",
              "    border-radius: 50%;\n",
              "    cursor: pointer;\n",
              "    display: none;\n",
              "    fill: var(--fill-color);\n",
              "    height: 32px;\n",
              "    padding: 0;\n",
              "    width: 32px;\n",
              "  }\n",
              "\n",
              "  .colab-df-quickchart:hover {\n",
              "    background-color: var(--hover-bg-color);\n",
              "    box-shadow: 0 1px 2px rgba(60, 64, 67, 0.3), 0 1px 3px 1px rgba(60, 64, 67, 0.15);\n",
              "    fill: var(--button-hover-fill-color);\n",
              "  }\n",
              "\n",
              "  .colab-df-quickchart-complete:disabled,\n",
              "  .colab-df-quickchart-complete:disabled:hover {\n",
              "    background-color: var(--disabled-bg-color);\n",
              "    fill: var(--disabled-fill-color);\n",
              "    box-shadow: none;\n",
              "  }\n",
              "\n",
              "  .colab-df-spinner {\n",
              "    border: 2px solid var(--fill-color);\n",
              "    border-color: transparent;\n",
              "    border-bottom-color: var(--fill-color);\n",
              "    animation:\n",
              "      spin 1s steps(1) infinite;\n",
              "  }\n",
              "\n",
              "  @keyframes spin {\n",
              "    0% {\n",
              "      border-color: transparent;\n",
              "      border-bottom-color: var(--fill-color);\n",
              "      border-left-color: var(--fill-color);\n",
              "    }\n",
              "    20% {\n",
              "      border-color: transparent;\n",
              "      border-left-color: var(--fill-color);\n",
              "      border-top-color: var(--fill-color);\n",
              "    }\n",
              "    30% {\n",
              "      border-color: transparent;\n",
              "      border-left-color: var(--fill-color);\n",
              "      border-top-color: var(--fill-color);\n",
              "      border-right-color: var(--fill-color);\n",
              "    }\n",
              "    40% {\n",
              "      border-color: transparent;\n",
              "      border-right-color: var(--fill-color);\n",
              "      border-top-color: var(--fill-color);\n",
              "    }\n",
              "    60% {\n",
              "      border-color: transparent;\n",
              "      border-right-color: var(--fill-color);\n",
              "    }\n",
              "    80% {\n",
              "      border-color: transparent;\n",
              "      border-right-color: var(--fill-color);\n",
              "      border-bottom-color: var(--fill-color);\n",
              "    }\n",
              "    90% {\n",
              "      border-color: transparent;\n",
              "      border-bottom-color: var(--fill-color);\n",
              "    }\n",
              "  }\n",
              "</style>\n",
              "\n",
              "  <script>\n",
              "    async function quickchart(key) {\n",
              "      const quickchartButtonEl =\n",
              "        document.querySelector('#' + key + ' button');\n",
              "      quickchartButtonEl.disabled = true;  // To prevent multiple clicks.\n",
              "      quickchartButtonEl.classList.add('colab-df-spinner');\n",
              "      try {\n",
              "        const charts = await google.colab.kernel.invokeFunction(\n",
              "            'suggestCharts', [key], {});\n",
              "      } catch (error) {\n",
              "        console.error('Error during call to suggestCharts:', error);\n",
              "      }\n",
              "      quickchartButtonEl.classList.remove('colab-df-spinner');\n",
              "      quickchartButtonEl.classList.add('colab-df-quickchart-complete');\n",
              "    }\n",
              "    (() => {\n",
              "      let quickchartButtonEl =\n",
              "        document.querySelector('#df-515f405d-e3b5-4a14-bd8d-ace23c3f793a button');\n",
              "      quickchartButtonEl.style.display =\n",
              "        google.colab.kernel.accessAllowed ? 'block' : 'none';\n",
              "    })();\n",
              "  </script>\n",
              "</div>\n",
              "\n",
              "  <div id=\"id_45fbcd3a-3d01-421c-9a37-a1c895660830\">\n",
              "    <style>\n",
              "      .colab-df-generate {\n",
              "        background-color: #E8F0FE;\n",
              "        border: none;\n",
              "        border-radius: 50%;\n",
              "        cursor: pointer;\n",
              "        display: none;\n",
              "        fill: #1967D2;\n",
              "        height: 32px;\n",
              "        padding: 0 0 0 0;\n",
              "        width: 32px;\n",
              "      }\n",
              "\n",
              "      .colab-df-generate:hover {\n",
              "        background-color: #E2EBFA;\n",
              "        box-shadow: 0px 1px 2px rgba(60, 64, 67, 0.3), 0px 1px 3px 1px rgba(60, 64, 67, 0.15);\n",
              "        fill: #174EA6;\n",
              "      }\n",
              "\n",
              "      [theme=dark] .colab-df-generate {\n",
              "        background-color: #3B4455;\n",
              "        fill: #D2E3FC;\n",
              "      }\n",
              "\n",
              "      [theme=dark] .colab-df-generate:hover {\n",
              "        background-color: #434B5C;\n",
              "        box-shadow: 0px 1px 3px 1px rgba(0, 0, 0, 0.15);\n",
              "        filter: drop-shadow(0px 1px 2px rgba(0, 0, 0, 0.3));\n",
              "        fill: #FFFFFF;\n",
              "      }\n",
              "    </style>\n",
              "    <button class=\"colab-df-generate\" onclick=\"generateWithVariable('correlacoes')\"\n",
              "            title=\"Generate code using this dataframe.\"\n",
              "            style=\"display:none;\">\n",
              "\n",
              "  <svg xmlns=\"http://www.w3.org/2000/svg\" height=\"24px\"viewBox=\"0 0 24 24\"\n",
              "       width=\"24px\">\n",
              "    <path d=\"M7,19H8.4L18.45,9,17,7.55,7,17.6ZM5,21V16.75L18.45,3.32a2,2,0,0,1,2.83,0l1.4,1.43a1.91,1.91,0,0,1,.58,1.4,1.91,1.91,0,0,1-.58,1.4L9.25,21ZM18.45,9,17,7.55Zm-12,3A5.31,5.31,0,0,0,4.9,8.1,5.31,5.31,0,0,0,1,6.5,5.31,5.31,0,0,0,4.9,4.9,5.31,5.31,0,0,0,6.5,1,5.31,5.31,0,0,0,8.1,4.9,5.31,5.31,0,0,0,12,6.5,5.46,5.46,0,0,0,6.5,12Z\"/>\n",
              "  </svg>\n",
              "    </button>\n",
              "    <script>\n",
              "      (() => {\n",
              "      const buttonEl =\n",
              "        document.querySelector('#id_45fbcd3a-3d01-421c-9a37-a1c895660830 button.colab-df-generate');\n",
              "      buttonEl.style.display =\n",
              "        google.colab.kernel.accessAllowed ? 'block' : 'none';\n",
              "\n",
              "      buttonEl.onclick = () => {\n",
              "        google.colab.notebook.generateWithVariable('correlacoes');\n",
              "      }\n",
              "      })();\n",
              "    </script>\n",
              "  </div>\n",
              "\n",
              "    </div>\n",
              "  </div>\n"
            ]
          },
          "metadata": {},
          "execution_count": 6
        }
      ]
    },
    {
      "cell_type": "markdown",
      "source": [
        "Agora, podemos observar as correlações entre todas as variáveis. Dessa forma, podemos observar alguns detalhes interessantes, como por exemplo:\n",
        "\n",
        "- Bathrroms e bedrooms possuem uma correlação positiva moderada de 0,51.\n",
        "- Floors e Bathrooms também apresentam uma correlação positiva moderada de 0,50.\n",
        "- A variável sqft_living e banheiros apresentam uma correlação positiva moderada de 0,56.\n",
        "- A variável grade e bathrooms apresentam uma correlação positiva forte de 0,66.\n",
        "- A variável grade e price apresentam uma correlação positiva forte de 0,66."
      ],
      "metadata": {
        "id": "c8mnyUo2MCbH"
      }
    },
    {
      "cell_type": "markdown",
      "source": [
        "Existem outras correlações que podemos apontar, mas como nosso objetivo é observar as correlações entre a variável 'price' e as outras variáveis, vamos observar apenas as correlações com a variável 'price'."
      ],
      "metadata": {
        "id": "bPmyyCJZN1bZ"
      }
    },
    {
      "cell_type": "code",
      "source": [
        "# Visualizando as correlações\n",
        "correlacoes.head(1)"
      ],
      "metadata": {
        "colab": {
          "base_uri": "https://localhost:8080/",
          "height": 81
        },
        "id": "FBCDbyiXIFVt",
        "outputId": "cd728068-246b-4538-9ea1-f7c74b907f9d"
      },
      "execution_count": null,
      "outputs": [
        {
          "output_type": "execute_result",
          "data": {
            "text/plain": [
              "       price  bedrooms  bathrooms    floors  waterfront      view  condition  \\\n",
              "price    1.0   0.30835   0.525138  0.256794    0.266369  0.397293   0.036362   \n",
              "\n",
              "          grade  sqft_above  sqft_basement  yr_built  yr_renovated   zipcode  \\\n",
              "price  0.667434    0.605567       0.323816  0.054012      0.126434 -0.053203   \n",
              "\n",
              "            lat      long  sqft_living15  sqft_lot15  \n",
              "price  0.307003  0.021626       0.585379    0.082447  "
            ],
            "text/html": [
              "\n",
              "  <div id=\"df-d782eb10-d79e-4214-9696-b3bd3e561499\" class=\"colab-df-container\">\n",
              "    <div>\n",
              "<style scoped>\n",
              "    .dataframe tbody tr th:only-of-type {\n",
              "        vertical-align: middle;\n",
              "    }\n",
              "\n",
              "    .dataframe tbody tr th {\n",
              "        vertical-align: top;\n",
              "    }\n",
              "\n",
              "    .dataframe thead th {\n",
              "        text-align: right;\n",
              "    }\n",
              "</style>\n",
              "<table border=\"1\" class=\"dataframe\">\n",
              "  <thead>\n",
              "    <tr style=\"text-align: right;\">\n",
              "      <th></th>\n",
              "      <th>price</th>\n",
              "      <th>bedrooms</th>\n",
              "      <th>bathrooms</th>\n",
              "      <th>floors</th>\n",
              "      <th>waterfront</th>\n",
              "      <th>view</th>\n",
              "      <th>condition</th>\n",
              "      <th>grade</th>\n",
              "      <th>sqft_above</th>\n",
              "      <th>sqft_basement</th>\n",
              "      <th>yr_built</th>\n",
              "      <th>yr_renovated</th>\n",
              "      <th>zipcode</th>\n",
              "      <th>lat</th>\n",
              "      <th>long</th>\n",
              "      <th>sqft_living15</th>\n",
              "      <th>sqft_lot15</th>\n",
              "    </tr>\n",
              "  </thead>\n",
              "  <tbody>\n",
              "    <tr>\n",
              "      <th>price</th>\n",
              "      <td>1.0</td>\n",
              "      <td>0.30835</td>\n",
              "      <td>0.525138</td>\n",
              "      <td>0.256794</td>\n",
              "      <td>0.266369</td>\n",
              "      <td>0.397293</td>\n",
              "      <td>0.036362</td>\n",
              "      <td>0.667434</td>\n",
              "      <td>0.605567</td>\n",
              "      <td>0.323816</td>\n",
              "      <td>0.054012</td>\n",
              "      <td>0.126434</td>\n",
              "      <td>-0.053203</td>\n",
              "      <td>0.307003</td>\n",
              "      <td>0.021626</td>\n",
              "      <td>0.585379</td>\n",
              "      <td>0.082447</td>\n",
              "    </tr>\n",
              "  </tbody>\n",
              "</table>\n",
              "</div>\n",
              "    <div class=\"colab-df-buttons\">\n",
              "\n",
              "  <div class=\"colab-df-container\">\n",
              "    <button class=\"colab-df-convert\" onclick=\"convertToInteractive('df-d782eb10-d79e-4214-9696-b3bd3e561499')\"\n",
              "            title=\"Convert this dataframe to an interactive table.\"\n",
              "            style=\"display:none;\">\n",
              "\n",
              "  <svg xmlns=\"http://www.w3.org/2000/svg\" height=\"24px\" viewBox=\"0 -960 960 960\">\n",
              "    <path d=\"M120-120v-720h720v720H120Zm60-500h600v-160H180v160Zm220 220h160v-160H400v160Zm0 220h160v-160H400v160ZM180-400h160v-160H180v160Zm440 0h160v-160H620v160ZM180-180h160v-160H180v160Zm440 0h160v-160H620v160Z\"/>\n",
              "  </svg>\n",
              "    </button>\n",
              "\n",
              "  <style>\n",
              "    .colab-df-container {\n",
              "      display:flex;\n",
              "      gap: 12px;\n",
              "    }\n",
              "\n",
              "    .colab-df-convert {\n",
              "      background-color: #E8F0FE;\n",
              "      border: none;\n",
              "      border-radius: 50%;\n",
              "      cursor: pointer;\n",
              "      display: none;\n",
              "      fill: #1967D2;\n",
              "      height: 32px;\n",
              "      padding: 0 0 0 0;\n",
              "      width: 32px;\n",
              "    }\n",
              "\n",
              "    .colab-df-convert:hover {\n",
              "      background-color: #E2EBFA;\n",
              "      box-shadow: 0px 1px 2px rgba(60, 64, 67, 0.3), 0px 1px 3px 1px rgba(60, 64, 67, 0.15);\n",
              "      fill: #174EA6;\n",
              "    }\n",
              "\n",
              "    .colab-df-buttons div {\n",
              "      margin-bottom: 4px;\n",
              "    }\n",
              "\n",
              "    [theme=dark] .colab-df-convert {\n",
              "      background-color: #3B4455;\n",
              "      fill: #D2E3FC;\n",
              "    }\n",
              "\n",
              "    [theme=dark] .colab-df-convert:hover {\n",
              "      background-color: #434B5C;\n",
              "      box-shadow: 0px 1px 3px 1px rgba(0, 0, 0, 0.15);\n",
              "      filter: drop-shadow(0px 1px 2px rgba(0, 0, 0, 0.3));\n",
              "      fill: #FFFFFF;\n",
              "    }\n",
              "  </style>\n",
              "\n",
              "    <script>\n",
              "      const buttonEl =\n",
              "        document.querySelector('#df-d782eb10-d79e-4214-9696-b3bd3e561499 button.colab-df-convert');\n",
              "      buttonEl.style.display =\n",
              "        google.colab.kernel.accessAllowed ? 'block' : 'none';\n",
              "\n",
              "      async function convertToInteractive(key) {\n",
              "        const element = document.querySelector('#df-d782eb10-d79e-4214-9696-b3bd3e561499');\n",
              "        const dataTable =\n",
              "          await google.colab.kernel.invokeFunction('convertToInteractive',\n",
              "                                                    [key], {});\n",
              "        if (!dataTable) return;\n",
              "\n",
              "        const docLinkHtml = 'Like what you see? Visit the ' +\n",
              "          '<a target=\"_blank\" href=https://colab.research.google.com/notebooks/data_table.ipynb>data table notebook</a>'\n",
              "          + ' to learn more about interactive tables.';\n",
              "        element.innerHTML = '';\n",
              "        dataTable['output_type'] = 'display_data';\n",
              "        await google.colab.output.renderOutput(dataTable, element);\n",
              "        const docLink = document.createElement('div');\n",
              "        docLink.innerHTML = docLinkHtml;\n",
              "        element.appendChild(docLink);\n",
              "      }\n",
              "    </script>\n",
              "  </div>\n",
              "\n",
              "\n",
              "    </div>\n",
              "  </div>\n"
            ]
          },
          "metadata": {},
          "execution_count": 7
        }
      ]
    },
    {
      "cell_type": "markdown",
      "source": [
        "Podemos observar que as maiores correlações com o preço são:\n",
        "\n",
        "- grade apresenta uma correlação positiva forte de 0,66.\n",
        "- sqft_above apresenta uma correlação positiva forte de 0,60.\n",
        "- sqft_living apresenta uma correlação positiva moderada de 0,58.\n",
        "- bathrooms apresenta uma correlação positiva moderada de 0,52.\n",
        "\n",
        "Essas são as quatro variáveis que mais apresentam correlações com a variável 'price'. É importante frisar que todas essas correlações são positivas."
      ],
      "metadata": {
        "id": "QFZU_uGOPYdo"
      }
    },
    {
      "cell_type": "markdown",
      "source": [
        "# **Regressão**"
      ],
      "metadata": {
        "id": "OiMxYSORC4_1"
      }
    },
    {
      "cell_type": "markdown",
      "source": [
        "Algumas observasões sobre a regressão:\n",
        "\n",
        "- Espera-se que a correlação seja de moderada a forte para obter um bom modelo (positiva ou negativa)\n",
        "- Coeficiente de determinação (R2): > 0.7 é um bom valor. Entre 0 e 0.3 é ruim. Entre esses valores é interessante fazer testes\n",
        "- Regressão linear: existir lineariedade"
      ],
      "metadata": {
        "id": "-SXkFleAFWmS"
      }
    },
    {
      "cell_type": "markdown",
      "source": [
        "Vamos realizar as importações necessárias para a aplicação do modelo de regressão propriamente dito."
      ],
      "metadata": {
        "id": "Yt_VxpLpFiH6"
      }
    },
    {
      "cell_type": "code",
      "source": [
        "# Álgebra linear\n",
        "import numpy as np\n",
        "\n",
        "# Manipualçao de dados\n",
        "import pandas as pd\n",
        "\n",
        "# Visualização de dados\n",
        "import seaborn as sns\n",
        "import matplotlib.pyplot as plt\n",
        "\n",
        "# Funções matemáticas\n",
        "import math"
      ],
      "metadata": {
        "id": "jBMs5yzDFnyh"
      },
      "execution_count": null,
      "outputs": []
    },
    {
      "cell_type": "markdown",
      "source": [
        "Com todas essas bibliotecas importadas, podemos seguir adiante para a importação dos dados."
      ],
      "metadata": {
        "id": "grotI4-PFtrX"
      }
    },
    {
      "cell_type": "code",
      "source": [
        "# Acesso ao drive\n",
        "from google.colab import drive\n",
        "drive.mount('/content/drive')"
      ],
      "metadata": {
        "colab": {
          "base_uri": "https://localhost:8080/"
        },
        "id": "4Z-agOysFt6Y",
        "outputId": "035221e0-1c18-42e5-b56b-fbb81e4b62d5"
      },
      "execution_count": null,
      "outputs": [
        {
          "output_type": "stream",
          "name": "stdout",
          "text": [
            "Drive already mounted at /content/drive; to attempt to forcibly remount, call drive.mount(\"/content/drive\", force_remount=True).\n"
          ]
        }
      ]
    },
    {
      "cell_type": "code",
      "source": [
        "# Importando o dataset\n",
        "df = pd.read_csv(\"/content/drive/MyDrive/Estatística para ciência de dados/house_prices.csv\")\n",
        "\n",
        "# Observando os registros\n",
        "df.head()"
      ],
      "metadata": {
        "colab": {
          "base_uri": "https://localhost:8080/",
          "height": 236
        },
        "id": "brYoWF37FxvP",
        "outputId": "2f5fb42a-62ec-4938-e13c-5d45e0e57d47"
      },
      "execution_count": null,
      "outputs": [
        {
          "output_type": "execute_result",
          "data": {
            "text/plain": [
              "           id             date     price  bedrooms  bathrooms  sqft_living  \\\n",
              "0  7129300520  20141013T000000  221900.0         3       1.00         1180   \n",
              "1  6414100192  20141209T000000  538000.0         3       2.25         2570   \n",
              "2  5631500400  20150225T000000  180000.0         2       1.00          770   \n",
              "3  2487200875  20141209T000000  604000.0         4       3.00         1960   \n",
              "4  1954400510  20150218T000000  510000.0         3       2.00         1680   \n",
              "\n",
              "   sqft_lot  floors  waterfront  view  ...  grade  sqft_above  sqft_basement  \\\n",
              "0      5650     1.0           0     0  ...      7        1180              0   \n",
              "1      7242     2.0           0     0  ...      7        2170            400   \n",
              "2     10000     1.0           0     0  ...      6         770              0   \n",
              "3      5000     1.0           0     0  ...      7        1050            910   \n",
              "4      8080     1.0           0     0  ...      8        1680              0   \n",
              "\n",
              "   yr_built  yr_renovated  zipcode      lat     long  sqft_living15  \\\n",
              "0      1955             0    98178  47.5112 -122.257           1340   \n",
              "1      1951          1991    98125  47.7210 -122.319           1690   \n",
              "2      1933             0    98028  47.7379 -122.233           2720   \n",
              "3      1965             0    98136  47.5208 -122.393           1360   \n",
              "4      1987             0    98074  47.6168 -122.045           1800   \n",
              "\n",
              "   sqft_lot15  \n",
              "0        5650  \n",
              "1        7639  \n",
              "2        8062  \n",
              "3        5000  \n",
              "4        7503  \n",
              "\n",
              "[5 rows x 21 columns]"
            ],
            "text/html": [
              "\n",
              "  <div id=\"df-155e451a-5874-4bad-8ea0-03e5a06d09a1\" class=\"colab-df-container\">\n",
              "    <div>\n",
              "<style scoped>\n",
              "    .dataframe tbody tr th:only-of-type {\n",
              "        vertical-align: middle;\n",
              "    }\n",
              "\n",
              "    .dataframe tbody tr th {\n",
              "        vertical-align: top;\n",
              "    }\n",
              "\n",
              "    .dataframe thead th {\n",
              "        text-align: right;\n",
              "    }\n",
              "</style>\n",
              "<table border=\"1\" class=\"dataframe\">\n",
              "  <thead>\n",
              "    <tr style=\"text-align: right;\">\n",
              "      <th></th>\n",
              "      <th>id</th>\n",
              "      <th>date</th>\n",
              "      <th>price</th>\n",
              "      <th>bedrooms</th>\n",
              "      <th>bathrooms</th>\n",
              "      <th>sqft_living</th>\n",
              "      <th>sqft_lot</th>\n",
              "      <th>floors</th>\n",
              "      <th>waterfront</th>\n",
              "      <th>view</th>\n",
              "      <th>...</th>\n",
              "      <th>grade</th>\n",
              "      <th>sqft_above</th>\n",
              "      <th>sqft_basement</th>\n",
              "      <th>yr_built</th>\n",
              "      <th>yr_renovated</th>\n",
              "      <th>zipcode</th>\n",
              "      <th>lat</th>\n",
              "      <th>long</th>\n",
              "      <th>sqft_living15</th>\n",
              "      <th>sqft_lot15</th>\n",
              "    </tr>\n",
              "  </thead>\n",
              "  <tbody>\n",
              "    <tr>\n",
              "      <th>0</th>\n",
              "      <td>7129300520</td>\n",
              "      <td>20141013T000000</td>\n",
              "      <td>221900.0</td>\n",
              "      <td>3</td>\n",
              "      <td>1.00</td>\n",
              "      <td>1180</td>\n",
              "      <td>5650</td>\n",
              "      <td>1.0</td>\n",
              "      <td>0</td>\n",
              "      <td>0</td>\n",
              "      <td>...</td>\n",
              "      <td>7</td>\n",
              "      <td>1180</td>\n",
              "      <td>0</td>\n",
              "      <td>1955</td>\n",
              "      <td>0</td>\n",
              "      <td>98178</td>\n",
              "      <td>47.5112</td>\n",
              "      <td>-122.257</td>\n",
              "      <td>1340</td>\n",
              "      <td>5650</td>\n",
              "    </tr>\n",
              "    <tr>\n",
              "      <th>1</th>\n",
              "      <td>6414100192</td>\n",
              "      <td>20141209T000000</td>\n",
              "      <td>538000.0</td>\n",
              "      <td>3</td>\n",
              "      <td>2.25</td>\n",
              "      <td>2570</td>\n",
              "      <td>7242</td>\n",
              "      <td>2.0</td>\n",
              "      <td>0</td>\n",
              "      <td>0</td>\n",
              "      <td>...</td>\n",
              "      <td>7</td>\n",
              "      <td>2170</td>\n",
              "      <td>400</td>\n",
              "      <td>1951</td>\n",
              "      <td>1991</td>\n",
              "      <td>98125</td>\n",
              "      <td>47.7210</td>\n",
              "      <td>-122.319</td>\n",
              "      <td>1690</td>\n",
              "      <td>7639</td>\n",
              "    </tr>\n",
              "    <tr>\n",
              "      <th>2</th>\n",
              "      <td>5631500400</td>\n",
              "      <td>20150225T000000</td>\n",
              "      <td>180000.0</td>\n",
              "      <td>2</td>\n",
              "      <td>1.00</td>\n",
              "      <td>770</td>\n",
              "      <td>10000</td>\n",
              "      <td>1.0</td>\n",
              "      <td>0</td>\n",
              "      <td>0</td>\n",
              "      <td>...</td>\n",
              "      <td>6</td>\n",
              "      <td>770</td>\n",
              "      <td>0</td>\n",
              "      <td>1933</td>\n",
              "      <td>0</td>\n",
              "      <td>98028</td>\n",
              "      <td>47.7379</td>\n",
              "      <td>-122.233</td>\n",
              "      <td>2720</td>\n",
              "      <td>8062</td>\n",
              "    </tr>\n",
              "    <tr>\n",
              "      <th>3</th>\n",
              "      <td>2487200875</td>\n",
              "      <td>20141209T000000</td>\n",
              "      <td>604000.0</td>\n",
              "      <td>4</td>\n",
              "      <td>3.00</td>\n",
              "      <td>1960</td>\n",
              "      <td>5000</td>\n",
              "      <td>1.0</td>\n",
              "      <td>0</td>\n",
              "      <td>0</td>\n",
              "      <td>...</td>\n",
              "      <td>7</td>\n",
              "      <td>1050</td>\n",
              "      <td>910</td>\n",
              "      <td>1965</td>\n",
              "      <td>0</td>\n",
              "      <td>98136</td>\n",
              "      <td>47.5208</td>\n",
              "      <td>-122.393</td>\n",
              "      <td>1360</td>\n",
              "      <td>5000</td>\n",
              "    </tr>\n",
              "    <tr>\n",
              "      <th>4</th>\n",
              "      <td>1954400510</td>\n",
              "      <td>20150218T000000</td>\n",
              "      <td>510000.0</td>\n",
              "      <td>3</td>\n",
              "      <td>2.00</td>\n",
              "      <td>1680</td>\n",
              "      <td>8080</td>\n",
              "      <td>1.0</td>\n",
              "      <td>0</td>\n",
              "      <td>0</td>\n",
              "      <td>...</td>\n",
              "      <td>8</td>\n",
              "      <td>1680</td>\n",
              "      <td>0</td>\n",
              "      <td>1987</td>\n",
              "      <td>0</td>\n",
              "      <td>98074</td>\n",
              "      <td>47.6168</td>\n",
              "      <td>-122.045</td>\n",
              "      <td>1800</td>\n",
              "      <td>7503</td>\n",
              "    </tr>\n",
              "  </tbody>\n",
              "</table>\n",
              "<p>5 rows × 21 columns</p>\n",
              "</div>\n",
              "    <div class=\"colab-df-buttons\">\n",
              "\n",
              "  <div class=\"colab-df-container\">\n",
              "    <button class=\"colab-df-convert\" onclick=\"convertToInteractive('df-155e451a-5874-4bad-8ea0-03e5a06d09a1')\"\n",
              "            title=\"Convert this dataframe to an interactive table.\"\n",
              "            style=\"display:none;\">\n",
              "\n",
              "  <svg xmlns=\"http://www.w3.org/2000/svg\" height=\"24px\" viewBox=\"0 -960 960 960\">\n",
              "    <path d=\"M120-120v-720h720v720H120Zm60-500h600v-160H180v160Zm220 220h160v-160H400v160Zm0 220h160v-160H400v160ZM180-400h160v-160H180v160Zm440 0h160v-160H620v160ZM180-180h160v-160H180v160Zm440 0h160v-160H620v160Z\"/>\n",
              "  </svg>\n",
              "    </button>\n",
              "\n",
              "  <style>\n",
              "    .colab-df-container {\n",
              "      display:flex;\n",
              "      gap: 12px;\n",
              "    }\n",
              "\n",
              "    .colab-df-convert {\n",
              "      background-color: #E8F0FE;\n",
              "      border: none;\n",
              "      border-radius: 50%;\n",
              "      cursor: pointer;\n",
              "      display: none;\n",
              "      fill: #1967D2;\n",
              "      height: 32px;\n",
              "      padding: 0 0 0 0;\n",
              "      width: 32px;\n",
              "    }\n",
              "\n",
              "    .colab-df-convert:hover {\n",
              "      background-color: #E2EBFA;\n",
              "      box-shadow: 0px 1px 2px rgba(60, 64, 67, 0.3), 0px 1px 3px 1px rgba(60, 64, 67, 0.15);\n",
              "      fill: #174EA6;\n",
              "    }\n",
              "\n",
              "    .colab-df-buttons div {\n",
              "      margin-bottom: 4px;\n",
              "    }\n",
              "\n",
              "    [theme=dark] .colab-df-convert {\n",
              "      background-color: #3B4455;\n",
              "      fill: #D2E3FC;\n",
              "    }\n",
              "\n",
              "    [theme=dark] .colab-df-convert:hover {\n",
              "      background-color: #434B5C;\n",
              "      box-shadow: 0px 1px 3px 1px rgba(0, 0, 0, 0.15);\n",
              "      filter: drop-shadow(0px 1px 2px rgba(0, 0, 0, 0.3));\n",
              "      fill: #FFFFFF;\n",
              "    }\n",
              "  </style>\n",
              "\n",
              "    <script>\n",
              "      const buttonEl =\n",
              "        document.querySelector('#df-155e451a-5874-4bad-8ea0-03e5a06d09a1 button.colab-df-convert');\n",
              "      buttonEl.style.display =\n",
              "        google.colab.kernel.accessAllowed ? 'block' : 'none';\n",
              "\n",
              "      async function convertToInteractive(key) {\n",
              "        const element = document.querySelector('#df-155e451a-5874-4bad-8ea0-03e5a06d09a1');\n",
              "        const dataTable =\n",
              "          await google.colab.kernel.invokeFunction('convertToInteractive',\n",
              "                                                    [key], {});\n",
              "        if (!dataTable) return;\n",
              "\n",
              "        const docLinkHtml = 'Like what you see? Visit the ' +\n",
              "          '<a target=\"_blank\" href=https://colab.research.google.com/notebooks/data_table.ipynb>data table notebook</a>'\n",
              "          + ' to learn more about interactive tables.';\n",
              "        element.innerHTML = '';\n",
              "        dataTable['output_type'] = 'display_data';\n",
              "        await google.colab.output.renderOutput(dataTable, element);\n",
              "        const docLink = document.createElement('div');\n",
              "        docLink.innerHTML = docLinkHtml;\n",
              "        element.appendChild(docLink);\n",
              "      }\n",
              "    </script>\n",
              "  </div>\n",
              "\n",
              "\n",
              "<div id=\"df-90d8b6d6-8176-43a8-91ca-cd75ab941c2d\">\n",
              "  <button class=\"colab-df-quickchart\" onclick=\"quickchart('df-90d8b6d6-8176-43a8-91ca-cd75ab941c2d')\"\n",
              "            title=\"Suggest charts\"\n",
              "            style=\"display:none;\">\n",
              "\n",
              "<svg xmlns=\"http://www.w3.org/2000/svg\" height=\"24px\"viewBox=\"0 0 24 24\"\n",
              "     width=\"24px\">\n",
              "    <g>\n",
              "        <path d=\"M19 3H5c-1.1 0-2 .9-2 2v14c0 1.1.9 2 2 2h14c1.1 0 2-.9 2-2V5c0-1.1-.9-2-2-2zM9 17H7v-7h2v7zm4 0h-2V7h2v10zm4 0h-2v-4h2v4z\"/>\n",
              "    </g>\n",
              "</svg>\n",
              "  </button>\n",
              "\n",
              "<style>\n",
              "  .colab-df-quickchart {\n",
              "      --bg-color: #E8F0FE;\n",
              "      --fill-color: #1967D2;\n",
              "      --hover-bg-color: #E2EBFA;\n",
              "      --hover-fill-color: #174EA6;\n",
              "      --disabled-fill-color: #AAA;\n",
              "      --disabled-bg-color: #DDD;\n",
              "  }\n",
              "\n",
              "  [theme=dark] .colab-df-quickchart {\n",
              "      --bg-color: #3B4455;\n",
              "      --fill-color: #D2E3FC;\n",
              "      --hover-bg-color: #434B5C;\n",
              "      --hover-fill-color: #FFFFFF;\n",
              "      --disabled-bg-color: #3B4455;\n",
              "      --disabled-fill-color: #666;\n",
              "  }\n",
              "\n",
              "  .colab-df-quickchart {\n",
              "    background-color: var(--bg-color);\n",
              "    border: none;\n",
              "    border-radius: 50%;\n",
              "    cursor: pointer;\n",
              "    display: none;\n",
              "    fill: var(--fill-color);\n",
              "    height: 32px;\n",
              "    padding: 0;\n",
              "    width: 32px;\n",
              "  }\n",
              "\n",
              "  .colab-df-quickchart:hover {\n",
              "    background-color: var(--hover-bg-color);\n",
              "    box-shadow: 0 1px 2px rgba(60, 64, 67, 0.3), 0 1px 3px 1px rgba(60, 64, 67, 0.15);\n",
              "    fill: var(--button-hover-fill-color);\n",
              "  }\n",
              "\n",
              "  .colab-df-quickchart-complete:disabled,\n",
              "  .colab-df-quickchart-complete:disabled:hover {\n",
              "    background-color: var(--disabled-bg-color);\n",
              "    fill: var(--disabled-fill-color);\n",
              "    box-shadow: none;\n",
              "  }\n",
              "\n",
              "  .colab-df-spinner {\n",
              "    border: 2px solid var(--fill-color);\n",
              "    border-color: transparent;\n",
              "    border-bottom-color: var(--fill-color);\n",
              "    animation:\n",
              "      spin 1s steps(1) infinite;\n",
              "  }\n",
              "\n",
              "  @keyframes spin {\n",
              "    0% {\n",
              "      border-color: transparent;\n",
              "      border-bottom-color: var(--fill-color);\n",
              "      border-left-color: var(--fill-color);\n",
              "    }\n",
              "    20% {\n",
              "      border-color: transparent;\n",
              "      border-left-color: var(--fill-color);\n",
              "      border-top-color: var(--fill-color);\n",
              "    }\n",
              "    30% {\n",
              "      border-color: transparent;\n",
              "      border-left-color: var(--fill-color);\n",
              "      border-top-color: var(--fill-color);\n",
              "      border-right-color: var(--fill-color);\n",
              "    }\n",
              "    40% {\n",
              "      border-color: transparent;\n",
              "      border-right-color: var(--fill-color);\n",
              "      border-top-color: var(--fill-color);\n",
              "    }\n",
              "    60% {\n",
              "      border-color: transparent;\n",
              "      border-right-color: var(--fill-color);\n",
              "    }\n",
              "    80% {\n",
              "      border-color: transparent;\n",
              "      border-right-color: var(--fill-color);\n",
              "      border-bottom-color: var(--fill-color);\n",
              "    }\n",
              "    90% {\n",
              "      border-color: transparent;\n",
              "      border-bottom-color: var(--fill-color);\n",
              "    }\n",
              "  }\n",
              "</style>\n",
              "\n",
              "  <script>\n",
              "    async function quickchart(key) {\n",
              "      const quickchartButtonEl =\n",
              "        document.querySelector('#' + key + ' button');\n",
              "      quickchartButtonEl.disabled = true;  // To prevent multiple clicks.\n",
              "      quickchartButtonEl.classList.add('colab-df-spinner');\n",
              "      try {\n",
              "        const charts = await google.colab.kernel.invokeFunction(\n",
              "            'suggestCharts', [key], {});\n",
              "      } catch (error) {\n",
              "        console.error('Error during call to suggestCharts:', error);\n",
              "      }\n",
              "      quickchartButtonEl.classList.remove('colab-df-spinner');\n",
              "      quickchartButtonEl.classList.add('colab-df-quickchart-complete');\n",
              "    }\n",
              "    (() => {\n",
              "      let quickchartButtonEl =\n",
              "        document.querySelector('#df-90d8b6d6-8176-43a8-91ca-cd75ab941c2d button');\n",
              "      quickchartButtonEl.style.display =\n",
              "        google.colab.kernel.accessAllowed ? 'block' : 'none';\n",
              "    })();\n",
              "  </script>\n",
              "</div>\n",
              "\n",
              "    </div>\n",
              "  </div>\n"
            ]
          },
          "metadata": {},
          "execution_count": 14
        }
      ]
    },
    {
      "cell_type": "markdown",
      "source": [
        "## **Reressão Linear simples**"
      ],
      "metadata": {
        "id": "I72mAWVqxpUt"
      }
    },
    {
      "cell_type": "markdown",
      "source": [
        "Excluindo as variáveis que não serão utilizadas."
      ],
      "metadata": {
        "id": "LBjhVXGFFvw_"
      }
    },
    {
      "cell_type": "code",
      "source": [
        "# Realizando a exclusão da coluna\n",
        "df = df.drop(['date', 'id', 'sqft_living', 'sqft_lot'], axis = 1)\n",
        "\n",
        "# Observando os dados\n",
        "df.head()"
      ],
      "metadata": {
        "colab": {
          "base_uri": "https://localhost:8080/",
          "height": 206
        },
        "id": "cwrII14kF5fl",
        "outputId": "0ed62287-2d9f-409a-c061-27fa20366a56"
      },
      "execution_count": null,
      "outputs": [
        {
          "output_type": "execute_result",
          "data": {
            "text/plain": [
              "      price  bedrooms  bathrooms  floors  waterfront  view  condition  grade  \\\n",
              "0  221900.0         3       1.00     1.0           0     0          3      7   \n",
              "1  538000.0         3       2.25     2.0           0     0          3      7   \n",
              "2  180000.0         2       1.00     1.0           0     0          3      6   \n",
              "3  604000.0         4       3.00     1.0           0     0          5      7   \n",
              "4  510000.0         3       2.00     1.0           0     0          3      8   \n",
              "\n",
              "   sqft_above  sqft_basement  yr_built  yr_renovated  zipcode      lat  \\\n",
              "0        1180              0      1955             0    98178  47.5112   \n",
              "1        2170            400      1951          1991    98125  47.7210   \n",
              "2         770              0      1933             0    98028  47.7379   \n",
              "3        1050            910      1965             0    98136  47.5208   \n",
              "4        1680              0      1987             0    98074  47.6168   \n",
              "\n",
              "      long  sqft_living15  sqft_lot15  \n",
              "0 -122.257           1340        5650  \n",
              "1 -122.319           1690        7639  \n",
              "2 -122.233           2720        8062  \n",
              "3 -122.393           1360        5000  \n",
              "4 -122.045           1800        7503  "
            ],
            "text/html": [
              "\n",
              "  <div id=\"df-89c6932c-acf0-4ea4-939a-f3ae8bce9d8b\" class=\"colab-df-container\">\n",
              "    <div>\n",
              "<style scoped>\n",
              "    .dataframe tbody tr th:only-of-type {\n",
              "        vertical-align: middle;\n",
              "    }\n",
              "\n",
              "    .dataframe tbody tr th {\n",
              "        vertical-align: top;\n",
              "    }\n",
              "\n",
              "    .dataframe thead th {\n",
              "        text-align: right;\n",
              "    }\n",
              "</style>\n",
              "<table border=\"1\" class=\"dataframe\">\n",
              "  <thead>\n",
              "    <tr style=\"text-align: right;\">\n",
              "      <th></th>\n",
              "      <th>price</th>\n",
              "      <th>bedrooms</th>\n",
              "      <th>bathrooms</th>\n",
              "      <th>floors</th>\n",
              "      <th>waterfront</th>\n",
              "      <th>view</th>\n",
              "      <th>condition</th>\n",
              "      <th>grade</th>\n",
              "      <th>sqft_above</th>\n",
              "      <th>sqft_basement</th>\n",
              "      <th>yr_built</th>\n",
              "      <th>yr_renovated</th>\n",
              "      <th>zipcode</th>\n",
              "      <th>lat</th>\n",
              "      <th>long</th>\n",
              "      <th>sqft_living15</th>\n",
              "      <th>sqft_lot15</th>\n",
              "    </tr>\n",
              "  </thead>\n",
              "  <tbody>\n",
              "    <tr>\n",
              "      <th>0</th>\n",
              "      <td>221900.0</td>\n",
              "      <td>3</td>\n",
              "      <td>1.00</td>\n",
              "      <td>1.0</td>\n",
              "      <td>0</td>\n",
              "      <td>0</td>\n",
              "      <td>3</td>\n",
              "      <td>7</td>\n",
              "      <td>1180</td>\n",
              "      <td>0</td>\n",
              "      <td>1955</td>\n",
              "      <td>0</td>\n",
              "      <td>98178</td>\n",
              "      <td>47.5112</td>\n",
              "      <td>-122.257</td>\n",
              "      <td>1340</td>\n",
              "      <td>5650</td>\n",
              "    </tr>\n",
              "    <tr>\n",
              "      <th>1</th>\n",
              "      <td>538000.0</td>\n",
              "      <td>3</td>\n",
              "      <td>2.25</td>\n",
              "      <td>2.0</td>\n",
              "      <td>0</td>\n",
              "      <td>0</td>\n",
              "      <td>3</td>\n",
              "      <td>7</td>\n",
              "      <td>2170</td>\n",
              "      <td>400</td>\n",
              "      <td>1951</td>\n",
              "      <td>1991</td>\n",
              "      <td>98125</td>\n",
              "      <td>47.7210</td>\n",
              "      <td>-122.319</td>\n",
              "      <td>1690</td>\n",
              "      <td>7639</td>\n",
              "    </tr>\n",
              "    <tr>\n",
              "      <th>2</th>\n",
              "      <td>180000.0</td>\n",
              "      <td>2</td>\n",
              "      <td>1.00</td>\n",
              "      <td>1.0</td>\n",
              "      <td>0</td>\n",
              "      <td>0</td>\n",
              "      <td>3</td>\n",
              "      <td>6</td>\n",
              "      <td>770</td>\n",
              "      <td>0</td>\n",
              "      <td>1933</td>\n",
              "      <td>0</td>\n",
              "      <td>98028</td>\n",
              "      <td>47.7379</td>\n",
              "      <td>-122.233</td>\n",
              "      <td>2720</td>\n",
              "      <td>8062</td>\n",
              "    </tr>\n",
              "    <tr>\n",
              "      <th>3</th>\n",
              "      <td>604000.0</td>\n",
              "      <td>4</td>\n",
              "      <td>3.00</td>\n",
              "      <td>1.0</td>\n",
              "      <td>0</td>\n",
              "      <td>0</td>\n",
              "      <td>5</td>\n",
              "      <td>7</td>\n",
              "      <td>1050</td>\n",
              "      <td>910</td>\n",
              "      <td>1965</td>\n",
              "      <td>0</td>\n",
              "      <td>98136</td>\n",
              "      <td>47.5208</td>\n",
              "      <td>-122.393</td>\n",
              "      <td>1360</td>\n",
              "      <td>5000</td>\n",
              "    </tr>\n",
              "    <tr>\n",
              "      <th>4</th>\n",
              "      <td>510000.0</td>\n",
              "      <td>3</td>\n",
              "      <td>2.00</td>\n",
              "      <td>1.0</td>\n",
              "      <td>0</td>\n",
              "      <td>0</td>\n",
              "      <td>3</td>\n",
              "      <td>8</td>\n",
              "      <td>1680</td>\n",
              "      <td>0</td>\n",
              "      <td>1987</td>\n",
              "      <td>0</td>\n",
              "      <td>98074</td>\n",
              "      <td>47.6168</td>\n",
              "      <td>-122.045</td>\n",
              "      <td>1800</td>\n",
              "      <td>7503</td>\n",
              "    </tr>\n",
              "  </tbody>\n",
              "</table>\n",
              "</div>\n",
              "    <div class=\"colab-df-buttons\">\n",
              "\n",
              "  <div class=\"colab-df-container\">\n",
              "    <button class=\"colab-df-convert\" onclick=\"convertToInteractive('df-89c6932c-acf0-4ea4-939a-f3ae8bce9d8b')\"\n",
              "            title=\"Convert this dataframe to an interactive table.\"\n",
              "            style=\"display:none;\">\n",
              "\n",
              "  <svg xmlns=\"http://www.w3.org/2000/svg\" height=\"24px\" viewBox=\"0 -960 960 960\">\n",
              "    <path d=\"M120-120v-720h720v720H120Zm60-500h600v-160H180v160Zm220 220h160v-160H400v160Zm0 220h160v-160H400v160ZM180-400h160v-160H180v160Zm440 0h160v-160H620v160ZM180-180h160v-160H180v160Zm440 0h160v-160H620v160Z\"/>\n",
              "  </svg>\n",
              "    </button>\n",
              "\n",
              "  <style>\n",
              "    .colab-df-container {\n",
              "      display:flex;\n",
              "      gap: 12px;\n",
              "    }\n",
              "\n",
              "    .colab-df-convert {\n",
              "      background-color: #E8F0FE;\n",
              "      border: none;\n",
              "      border-radius: 50%;\n",
              "      cursor: pointer;\n",
              "      display: none;\n",
              "      fill: #1967D2;\n",
              "      height: 32px;\n",
              "      padding: 0 0 0 0;\n",
              "      width: 32px;\n",
              "    }\n",
              "\n",
              "    .colab-df-convert:hover {\n",
              "      background-color: #E2EBFA;\n",
              "      box-shadow: 0px 1px 2px rgba(60, 64, 67, 0.3), 0px 1px 3px 1px rgba(60, 64, 67, 0.15);\n",
              "      fill: #174EA6;\n",
              "    }\n",
              "\n",
              "    .colab-df-buttons div {\n",
              "      margin-bottom: 4px;\n",
              "    }\n",
              "\n",
              "    [theme=dark] .colab-df-convert {\n",
              "      background-color: #3B4455;\n",
              "      fill: #D2E3FC;\n",
              "    }\n",
              "\n",
              "    [theme=dark] .colab-df-convert:hover {\n",
              "      background-color: #434B5C;\n",
              "      box-shadow: 0px 1px 3px 1px rgba(0, 0, 0, 0.15);\n",
              "      filter: drop-shadow(0px 1px 2px rgba(0, 0, 0, 0.3));\n",
              "      fill: #FFFFFF;\n",
              "    }\n",
              "  </style>\n",
              "\n",
              "    <script>\n",
              "      const buttonEl =\n",
              "        document.querySelector('#df-89c6932c-acf0-4ea4-939a-f3ae8bce9d8b button.colab-df-convert');\n",
              "      buttonEl.style.display =\n",
              "        google.colab.kernel.accessAllowed ? 'block' : 'none';\n",
              "\n",
              "      async function convertToInteractive(key) {\n",
              "        const element = document.querySelector('#df-89c6932c-acf0-4ea4-939a-f3ae8bce9d8b');\n",
              "        const dataTable =\n",
              "          await google.colab.kernel.invokeFunction('convertToInteractive',\n",
              "                                                    [key], {});\n",
              "        if (!dataTable) return;\n",
              "\n",
              "        const docLinkHtml = 'Like what you see? Visit the ' +\n",
              "          '<a target=\"_blank\" href=https://colab.research.google.com/notebooks/data_table.ipynb>data table notebook</a>'\n",
              "          + ' to learn more about interactive tables.';\n",
              "        element.innerHTML = '';\n",
              "        dataTable['output_type'] = 'display_data';\n",
              "        await google.colab.output.renderOutput(dataTable, element);\n",
              "        const docLink = document.createElement('div');\n",
              "        docLink.innerHTML = docLinkHtml;\n",
              "        element.appendChild(docLink);\n",
              "      }\n",
              "    </script>\n",
              "  </div>\n",
              "\n",
              "\n",
              "<div id=\"df-bd861709-465e-407b-8357-54ab04de7ac9\">\n",
              "  <button class=\"colab-df-quickchart\" onclick=\"quickchart('df-bd861709-465e-407b-8357-54ab04de7ac9')\"\n",
              "            title=\"Suggest charts\"\n",
              "            style=\"display:none;\">\n",
              "\n",
              "<svg xmlns=\"http://www.w3.org/2000/svg\" height=\"24px\"viewBox=\"0 0 24 24\"\n",
              "     width=\"24px\">\n",
              "    <g>\n",
              "        <path d=\"M19 3H5c-1.1 0-2 .9-2 2v14c0 1.1.9 2 2 2h14c1.1 0 2-.9 2-2V5c0-1.1-.9-2-2-2zM9 17H7v-7h2v7zm4 0h-2V7h2v10zm4 0h-2v-4h2v4z\"/>\n",
              "    </g>\n",
              "</svg>\n",
              "  </button>\n",
              "\n",
              "<style>\n",
              "  .colab-df-quickchart {\n",
              "      --bg-color: #E8F0FE;\n",
              "      --fill-color: #1967D2;\n",
              "      --hover-bg-color: #E2EBFA;\n",
              "      --hover-fill-color: #174EA6;\n",
              "      --disabled-fill-color: #AAA;\n",
              "      --disabled-bg-color: #DDD;\n",
              "  }\n",
              "\n",
              "  [theme=dark] .colab-df-quickchart {\n",
              "      --bg-color: #3B4455;\n",
              "      --fill-color: #D2E3FC;\n",
              "      --hover-bg-color: #434B5C;\n",
              "      --hover-fill-color: #FFFFFF;\n",
              "      --disabled-bg-color: #3B4455;\n",
              "      --disabled-fill-color: #666;\n",
              "  }\n",
              "\n",
              "  .colab-df-quickchart {\n",
              "    background-color: var(--bg-color);\n",
              "    border: none;\n",
              "    border-radius: 50%;\n",
              "    cursor: pointer;\n",
              "    display: none;\n",
              "    fill: var(--fill-color);\n",
              "    height: 32px;\n",
              "    padding: 0;\n",
              "    width: 32px;\n",
              "  }\n",
              "\n",
              "  .colab-df-quickchart:hover {\n",
              "    background-color: var(--hover-bg-color);\n",
              "    box-shadow: 0 1px 2px rgba(60, 64, 67, 0.3), 0 1px 3px 1px rgba(60, 64, 67, 0.15);\n",
              "    fill: var(--button-hover-fill-color);\n",
              "  }\n",
              "\n",
              "  .colab-df-quickchart-complete:disabled,\n",
              "  .colab-df-quickchart-complete:disabled:hover {\n",
              "    background-color: var(--disabled-bg-color);\n",
              "    fill: var(--disabled-fill-color);\n",
              "    box-shadow: none;\n",
              "  }\n",
              "\n",
              "  .colab-df-spinner {\n",
              "    border: 2px solid var(--fill-color);\n",
              "    border-color: transparent;\n",
              "    border-bottom-color: var(--fill-color);\n",
              "    animation:\n",
              "      spin 1s steps(1) infinite;\n",
              "  }\n",
              "\n",
              "  @keyframes spin {\n",
              "    0% {\n",
              "      border-color: transparent;\n",
              "      border-bottom-color: var(--fill-color);\n",
              "      border-left-color: var(--fill-color);\n",
              "    }\n",
              "    20% {\n",
              "      border-color: transparent;\n",
              "      border-left-color: var(--fill-color);\n",
              "      border-top-color: var(--fill-color);\n",
              "    }\n",
              "    30% {\n",
              "      border-color: transparent;\n",
              "      border-left-color: var(--fill-color);\n",
              "      border-top-color: var(--fill-color);\n",
              "      border-right-color: var(--fill-color);\n",
              "    }\n",
              "    40% {\n",
              "      border-color: transparent;\n",
              "      border-right-color: var(--fill-color);\n",
              "      border-top-color: var(--fill-color);\n",
              "    }\n",
              "    60% {\n",
              "      border-color: transparent;\n",
              "      border-right-color: var(--fill-color);\n",
              "    }\n",
              "    80% {\n",
              "      border-color: transparent;\n",
              "      border-right-color: var(--fill-color);\n",
              "      border-bottom-color: var(--fill-color);\n",
              "    }\n",
              "    90% {\n",
              "      border-color: transparent;\n",
              "      border-bottom-color: var(--fill-color);\n",
              "    }\n",
              "  }\n",
              "</style>\n",
              "\n",
              "  <script>\n",
              "    async function quickchart(key) {\n",
              "      const quickchartButtonEl =\n",
              "        document.querySelector('#' + key + ' button');\n",
              "      quickchartButtonEl.disabled = true;  // To prevent multiple clicks.\n",
              "      quickchartButtonEl.classList.add('colab-df-spinner');\n",
              "      try {\n",
              "        const charts = await google.colab.kernel.invokeFunction(\n",
              "            'suggestCharts', [key], {});\n",
              "      } catch (error) {\n",
              "        console.error('Error during call to suggestCharts:', error);\n",
              "      }\n",
              "      quickchartButtonEl.classList.remove('colab-df-spinner');\n",
              "      quickchartButtonEl.classList.add('colab-df-quickchart-complete');\n",
              "    }\n",
              "    (() => {\n",
              "      let quickchartButtonEl =\n",
              "        document.querySelector('#df-bd861709-465e-407b-8357-54ab04de7ac9 button');\n",
              "      quickchartButtonEl.style.display =\n",
              "        google.colab.kernel.accessAllowed ? 'block' : 'none';\n",
              "    })();\n",
              "  </script>\n",
              "</div>\n",
              "\n",
              "    </div>\n",
              "  </div>\n"
            ]
          },
          "metadata": {},
          "execution_count": 15
        }
      ]
    },
    {
      "cell_type": "markdown",
      "source": [
        "Como vimos anteriormente, essas são as quatro variáveis que apresentaram as maiores correlações:\n",
        "\n",
        "- Grade apresenta uma correlação positiva forte de 0,66.\n",
        "- Sqft_above apresenta uma correlação positiva forte de 0,60.\n",
        "- Sqft_living apresenta uma correlação positiva moderada de 0,58.\n",
        "- Bathrooms apresenta uma correlação positiva moderada de 0,52.\n",
        "\n",
        "Dito isso, para a criação do nosso modelo, vamos utilizar a variável grade, que apresentou a maior correlação de todas."
      ],
      "metadata": {
        "id": "8JhgXGAyHj2y"
      }
    },
    {
      "cell_type": "markdown",
      "source": [
        "Vamos separar os dados."
      ],
      "metadata": {
        "id": "BSNPfETjH0CY"
      }
    },
    {
      "cell_type": "code",
      "source": [
        "# Definindo o valor de X\n",
        "X = df['grade'].values\n",
        "\n",
        "# Observando as dimensões\n",
        "X.shape"
      ],
      "metadata": {
        "colab": {
          "base_uri": "https://localhost:8080/"
        },
        "id": "nw2QmM-EH3Lo",
        "outputId": "231f2978-2362-46b5-ca4e-1a3823bca79e"
      },
      "execution_count": null,
      "outputs": [
        {
          "output_type": "execute_result",
          "data": {
            "text/plain": [
              "(21613,)"
            ]
          },
          "metadata": {},
          "execution_count": 16
        }
      ]
    },
    {
      "cell_type": "markdown",
      "source": [
        "Podemos observar que o nosso X é um Array unidimensional, onde tem apenas 21613 linhas. O modelo de regressão não vai aceitar esse formato, então precisaremos ajustar as dimensões dessa variável."
      ],
      "metadata": {
        "id": "VIsXNWnUIQHM"
      }
    },
    {
      "cell_type": "code",
      "source": [
        "# Ajustando a dimensão dos dados\n",
        "X = X.reshape(-1, 1)\n",
        "\n",
        "# Observando o resultado\n",
        "X.shape"
      ],
      "metadata": {
        "colab": {
          "base_uri": "https://localhost:8080/"
        },
        "id": "BSENmaSNI5wA",
        "outputId": "dc55694b-8624-4de4-9e4f-8d08981212bb"
      },
      "execution_count": null,
      "outputs": [
        {
          "output_type": "execute_result",
          "data": {
            "text/plain": [
              "(21613, 1)"
            ]
          },
          "metadata": {},
          "execution_count": 17
        }
      ]
    },
    {
      "cell_type": "markdown",
      "source": [
        "Podemos observar que agora temos o mesmo número de linhas, porém temos também uma coluna. Agora sim estamos com o formato que o algoritmo vai aceitar."
      ],
      "metadata": {
        "id": "3OJab6JeJBxG"
      }
    },
    {
      "cell_type": "markdown",
      "source": [
        "Definindo o valor de y."
      ],
      "metadata": {
        "id": "FTsfbiayKAi3"
      }
    },
    {
      "cell_type": "code",
      "source": [
        "# Definindo o y\n",
        "y = df['price'].values"
      ],
      "metadata": {
        "id": "0Gf-8NTPKC1e"
      },
      "execution_count": null,
      "outputs": []
    },
    {
      "cell_type": "markdown",
      "source": [
        "Nesta variável não é necessário realizar a mesma transformação que utilizamos na variável X."
      ],
      "metadata": {
        "id": "4hIMEu-ZKRB9"
      }
    },
    {
      "cell_type": "markdown",
      "source": [
        "Nesse momento, torna-se necessário realizar a divisão entre dados de treino e dados de teste."
      ],
      "metadata": {
        "id": "XLVWHlGkKjYa"
      }
    },
    {
      "cell_type": "code",
      "source": [
        "# Bilioteca para realizção de amostras estratificadas\n",
        "from sklearn.model_selection import train_test_split\n",
        "\n",
        "# Separando os dados\n",
        "X_treino, X_teste, y_treino, y_teste = train_test_split(X, y, test_size = 0.2, random_state = 1)"
      ],
      "metadata": {
        "id": "e9C9_AyTKXtE"
      },
      "execution_count": null,
      "outputs": []
    },
    {
      "cell_type": "markdown",
      "source": [
        "Realizando a importação do modelo."
      ],
      "metadata": {
        "id": "6QAtAQZjKywC"
      }
    },
    {
      "cell_type": "code",
      "source": [
        "# Importando o modelo\n",
        "from sklearn.linear_model import LinearRegression"
      ],
      "metadata": {
        "id": "F-Hc9RlfKz6I"
      },
      "execution_count": null,
      "outputs": []
    },
    {
      "cell_type": "markdown",
      "source": [
        "Realizando a importação das métricas."
      ],
      "metadata": {
        "id": "IcznsiQNLtHD"
      }
    },
    {
      "cell_type": "code",
      "source": [
        "# Importando as métricas de validação\n",
        "from sklearn.metrics import mean_absolute_error, mean_squared_error"
      ],
      "metadata": {
        "id": "9OPOsOUmLsMx"
      },
      "execution_count": null,
      "outputs": []
    },
    {
      "cell_type": "markdown",
      "source": [
        "Importamos as seguintes funções:\n",
        "\n",
        "- A função mean_absolute_error() calcula o erro médio absoluto entre as previsões de um modelo e os valores reais. O erro médio absoluto é uma medida da distância média entre os valores previstos e os valores reais.\n",
        "\n",
        "- A função mean_squared_error() calcula o erro médio quadrático entre as previsões de um modelo e os valores reais. O erro médio quadrático é uma medida da distância quadrada média entre os valores previstos e os valores reais."
      ],
      "metadata": {
        "id": "ARgMXzFPMAD-"
      }
    },
    {
      "cell_type": "markdown",
      "source": [
        "Criando uma instância do modelo."
      ],
      "metadata": {
        "id": "94H5F3geLyzg"
      }
    },
    {
      "cell_type": "code",
      "source": [
        "# Criando o modelo\n",
        "regressor = LinearRegression()"
      ],
      "metadata": {
        "id": "IKhp8iv2L2-w"
      },
      "execution_count": null,
      "outputs": []
    },
    {
      "cell_type": "markdown",
      "source": [
        "Treinando o modelo com os dados de treinamento."
      ],
      "metadata": {
        "id": "k_sbTNXCL1ew"
      }
    },
    {
      "cell_type": "code",
      "source": [
        "# Treinando o modelo\n",
        "regressor.fit(X_treino, y_treino)"
      ],
      "metadata": {
        "colab": {
          "base_uri": "https://localhost:8080/",
          "height": 75
        },
        "id": "xkriaKoDK7qI",
        "outputId": "aec0deb2-b8b1-4a72-e9af-52d898273a4f"
      },
      "execution_count": null,
      "outputs": [
        {
          "output_type": "execute_result",
          "data": {
            "text/plain": [
              "LinearRegression()"
            ],
            "text/html": [
              "<style>#sk-container-id-1 {color: black;background-color: white;}#sk-container-id-1 pre{padding: 0;}#sk-container-id-1 div.sk-toggleable {background-color: white;}#sk-container-id-1 label.sk-toggleable__label {cursor: pointer;display: block;width: 100%;margin-bottom: 0;padding: 0.3em;box-sizing: border-box;text-align: center;}#sk-container-id-1 label.sk-toggleable__label-arrow:before {content: \"▸\";float: left;margin-right: 0.25em;color: #696969;}#sk-container-id-1 label.sk-toggleable__label-arrow:hover:before {color: black;}#sk-container-id-1 div.sk-estimator:hover label.sk-toggleable__label-arrow:before {color: black;}#sk-container-id-1 div.sk-toggleable__content {max-height: 0;max-width: 0;overflow: hidden;text-align: left;background-color: #f0f8ff;}#sk-container-id-1 div.sk-toggleable__content pre {margin: 0.2em;color: black;border-radius: 0.25em;background-color: #f0f8ff;}#sk-container-id-1 input.sk-toggleable__control:checked~div.sk-toggleable__content {max-height: 200px;max-width: 100%;overflow: auto;}#sk-container-id-1 input.sk-toggleable__control:checked~label.sk-toggleable__label-arrow:before {content: \"▾\";}#sk-container-id-1 div.sk-estimator input.sk-toggleable__control:checked~label.sk-toggleable__label {background-color: #d4ebff;}#sk-container-id-1 div.sk-label input.sk-toggleable__control:checked~label.sk-toggleable__label {background-color: #d4ebff;}#sk-container-id-1 input.sk-hidden--visually {border: 0;clip: rect(1px 1px 1px 1px);clip: rect(1px, 1px, 1px, 1px);height: 1px;margin: -1px;overflow: hidden;padding: 0;position: absolute;width: 1px;}#sk-container-id-1 div.sk-estimator {font-family: monospace;background-color: #f0f8ff;border: 1px dotted black;border-radius: 0.25em;box-sizing: border-box;margin-bottom: 0.5em;}#sk-container-id-1 div.sk-estimator:hover {background-color: #d4ebff;}#sk-container-id-1 div.sk-parallel-item::after {content: \"\";width: 100%;border-bottom: 1px solid gray;flex-grow: 1;}#sk-container-id-1 div.sk-label:hover label.sk-toggleable__label {background-color: #d4ebff;}#sk-container-id-1 div.sk-serial::before {content: \"\";position: absolute;border-left: 1px solid gray;box-sizing: border-box;top: 0;bottom: 0;left: 50%;z-index: 0;}#sk-container-id-1 div.sk-serial {display: flex;flex-direction: column;align-items: center;background-color: white;padding-right: 0.2em;padding-left: 0.2em;position: relative;}#sk-container-id-1 div.sk-item {position: relative;z-index: 1;}#sk-container-id-1 div.sk-parallel {display: flex;align-items: stretch;justify-content: center;background-color: white;position: relative;}#sk-container-id-1 div.sk-item::before, #sk-container-id-1 div.sk-parallel-item::before {content: \"\";position: absolute;border-left: 1px solid gray;box-sizing: border-box;top: 0;bottom: 0;left: 50%;z-index: -1;}#sk-container-id-1 div.sk-parallel-item {display: flex;flex-direction: column;z-index: 1;position: relative;background-color: white;}#sk-container-id-1 div.sk-parallel-item:first-child::after {align-self: flex-end;width: 50%;}#sk-container-id-1 div.sk-parallel-item:last-child::after {align-self: flex-start;width: 50%;}#sk-container-id-1 div.sk-parallel-item:only-child::after {width: 0;}#sk-container-id-1 div.sk-dashed-wrapped {border: 1px dashed gray;margin: 0 0.4em 0.5em 0.4em;box-sizing: border-box;padding-bottom: 0.4em;background-color: white;}#sk-container-id-1 div.sk-label label {font-family: monospace;font-weight: bold;display: inline-block;line-height: 1.2em;}#sk-container-id-1 div.sk-label-container {text-align: center;}#sk-container-id-1 div.sk-container {/* jupyter's `normalize.less` sets `[hidden] { display: none; }` but bootstrap.min.css set `[hidden] { display: none !important; }` so we also need the `!important` here to be able to override the default hidden behavior on the sphinx rendered scikit-learn.org. See: https://github.com/scikit-learn/scikit-learn/issues/21755 */display: inline-block !important;position: relative;}#sk-container-id-1 div.sk-text-repr-fallback {display: none;}</style><div id=\"sk-container-id-1\" class=\"sk-top-container\"><div class=\"sk-text-repr-fallback\"><pre>LinearRegression()</pre><b>In a Jupyter environment, please rerun this cell to show the HTML representation or trust the notebook. <br />On GitHub, the HTML representation is unable to render, please try loading this page with nbviewer.org.</b></div><div class=\"sk-container\" hidden><div class=\"sk-item\"><div class=\"sk-estimator sk-toggleable\"><input class=\"sk-toggleable__control sk-hidden--visually\" id=\"sk-estimator-id-1\" type=\"checkbox\" checked><label for=\"sk-estimator-id-1\" class=\"sk-toggleable__label sk-toggleable__label-arrow\">LinearRegression</label><div class=\"sk-toggleable__content\"><pre>LinearRegression()</pre></div></div></div></div></div>"
            ]
          },
          "metadata": {},
          "execution_count": 23
        }
      ]
    },
    {
      "cell_type": "markdown",
      "source": [
        "Utilizando o modelo treinado para fazer previsões nos dados de teste."
      ],
      "metadata": {
        "id": "KFMoPdpGLJy1"
      }
    },
    {
      "cell_type": "code",
      "source": [
        "# Realizando as predições\n",
        "previsoes = regressor.predict(X_teste)"
      ],
      "metadata": {
        "id": "L-z3TO8WLMsd"
      },
      "execution_count": null,
      "outputs": []
    },
    {
      "cell_type": "markdown",
      "source": [
        "Analisando o desempenho do modelo."
      ],
      "metadata": {
        "id": "NW4rCIOkLWAV"
      }
    },
    {
      "cell_type": "markdown",
      "source": [
        "Calculando o coeficiente de determinação R² para os dados de teste."
      ],
      "metadata": {
        "id": "sUBjayuLNtCq"
      }
    },
    {
      "cell_type": "code",
      "source": [
        "# Observando o r2\n",
        "regressor.score(X_teste, y_teste)"
      ],
      "metadata": {
        "colab": {
          "base_uri": "https://localhost:8080/"
        },
        "id": "mdRw-IFTNwmC",
        "outputId": "d7b747a6-f90b-428b-aadf-a442b7e47f98"
      },
      "execution_count": null,
      "outputs": [
        {
          "output_type": "execute_result",
          "data": {
            "text/plain": [
              "0.4328786526974916"
            ]
          },
          "metadata": {},
          "execution_count": 25
        }
      ]
    },
    {
      "cell_type": "markdown",
      "source": [
        "Obtivemos um coeficiente de determinação R² de 0,43, o que significa que o modelo consegue explicar em média 43% da variância dos dados de teste."
      ],
      "metadata": {
        "id": "djADkleSN8RS"
      }
    },
    {
      "cell_type": "code",
      "source": [
        "# Calcula o erro médio absoluto\n",
        "mae = mean_absolute_error(y_teste, previsoes)\n",
        "print(f\"O erro médio absoluto é de: {mae} unidades\")\n",
        "\n",
        "# Calcula o erro médio quadrático\n",
        "mse = mean_squared_error(y_teste, previsoes)\n",
        "print(f\"O erro médio quadrático é de: {mse} unidades\")"
      ],
      "metadata": {
        "colab": {
          "base_uri": "https://localhost:8080/"
        },
        "id": "kv63BTwCLcrU",
        "outputId": "8467d2cf-1516-450d-dd95-d0375d225032"
      },
      "execution_count": null,
      "outputs": [
        {
          "output_type": "stream",
          "name": "stdout",
          "text": [
            "O erro médio absoluto é de: 177341.25404777075 unidades\n",
            "O erro médio quadrático é de: 97885695257.9813 unidades\n"
          ]
        }
      ]
    },
    {
      "cell_type": "markdown",
      "source": [
        "- O nosso erro médio absoluto indica que, em média, nossa previsão erra cerca de 177 mil unidades. No nosso caso, por se tratar de preço, vamos considerar que seja em dólares. Logo, nosso modelo erra o valor da casa em média cerca de 177 mil dólares, seja para mais ou para menos.\n",
        "\n",
        "- Já o erro médio quadrático é um pouco difícil de interpretar pelo seu valor atual. Porém, vamos extrair a raiz quadrada do mesmo para observá-lo melhor, calculando assim o RMSE."
      ],
      "metadata": {
        "id": "VEB5u6nzvOGJ"
      }
    },
    {
      "cell_type": "markdown",
      "source": [
        "A Root Mean Squared Error (RMSE) é uma métrica de avaliação de desempenho de modelos de previsão que mede a distância média entre os valores reais e as previsões."
      ],
      "metadata": {
        "id": "nUVUQR3mwP8f"
      }
    },
    {
      "cell_type": "code",
      "source": [
        "# Calculando o rmse\n",
        "rmse = math.sqrt(mse)\n",
        "\n",
        "print(f\"O RMSE é de: {rmse} unidades\")"
      ],
      "metadata": {
        "colab": {
          "base_uri": "https://localhost:8080/"
        },
        "id": "tiUEWgiDvlQY",
        "outputId": "eca7995a-ddc2-4ba1-b36e-16085d0d7bef"
      },
      "execution_count": null,
      "outputs": [
        {
          "output_type": "stream",
          "name": "stdout",
          "text": [
            "O RMSE é de: 312866.8970312796 unidades\n"
          ]
        }
      ]
    },
    {
      "cell_type": "markdown",
      "source": [
        "Com essa métrica, podemos afirmar que a diferença média entre os preços reais e os preços preditos é de 312 mil."
      ],
      "metadata": {
        "id": "fPlkEV7CxCoi"
      }
    },
    {
      "cell_type": "markdown",
      "source": [
        "## **Regressão Linear múltipla**"
      ],
      "metadata": {
        "id": "lv7aIM9axsZM"
      }
    },
    {
      "cell_type": "markdown",
      "source": [
        "Na regressão linear multipla, mais de uma variável independente é usada para prever a variável dependente. Por exemplo, podemos usar a regressão linear multipla para prever o preço de uma casa com base na sua área, no número de quartos e no número de banheiros."
      ],
      "metadata": {
        "id": "gMmeqoLXzALc"
      }
    },
    {
      "cell_type": "markdown",
      "source": [
        "Separando os dados"
      ],
      "metadata": {
        "id": "JuzrHV-F1xDN"
      }
    },
    {
      "cell_type": "code",
      "source": [
        "# Definindo o valor de X\n",
        "X = df[['grade', 'sqft_above', 'sqft_living15', 'bathrooms']].values"
      ],
      "metadata": {
        "id": "rcPkByHG1tUk"
      },
      "execution_count": null,
      "outputs": []
    },
    {
      "cell_type": "markdown",
      "source": [
        "Definindo o valor de y."
      ],
      "metadata": {
        "id": "QB8mdJ-U2eBu"
      }
    },
    {
      "cell_type": "code",
      "source": [
        "# Definindo o y\n",
        "y = df['price'].values"
      ],
      "metadata": {
        "id": "0J8FOJnw2c9_"
      },
      "execution_count": null,
      "outputs": []
    },
    {
      "cell_type": "markdown",
      "source": [
        "Nesse momento, torna-se necessário realizar a divisão entre dados de treino e dados de teste."
      ],
      "metadata": {
        "id": "QzfVECS527aS"
      }
    },
    {
      "cell_type": "code",
      "source": [
        "# Bilioteca para realizção de amostras estratificadas\n",
        "from sklearn.model_selection import train_test_split\n",
        "\n",
        "# Separando os dados\n",
        "X_treino, X_teste, y_treino, y_teste = train_test_split(X, y, test_size = 0.2, random_state = 1)"
      ],
      "metadata": {
        "id": "RqfxW2tz27aX"
      },
      "execution_count": null,
      "outputs": []
    },
    {
      "cell_type": "markdown",
      "source": [
        "Criando uma instância do modelo."
      ],
      "metadata": {
        "id": "1BEdnAyB2u9N"
      }
    },
    {
      "cell_type": "code",
      "source": [
        "# Criando o modelo\n",
        "regressor = LinearRegression()"
      ],
      "metadata": {
        "id": "KDGzaydO2orW"
      },
      "execution_count": null,
      "outputs": []
    },
    {
      "cell_type": "markdown",
      "source": [
        "Treinando o modelo com os dados de treinamento."
      ],
      "metadata": {
        "id": "57VCnwo12orX"
      }
    },
    {
      "cell_type": "code",
      "source": [
        "# Treinando o modelo\n",
        "regressor.fit(X_treino, y_treino)"
      ],
      "metadata": {
        "colab": {
          "base_uri": "https://localhost:8080/",
          "height": 75
        },
        "outputId": "318d2451-0642-4bbb-ae39-6448985f3c95",
        "id": "Goox6lex2orX"
      },
      "execution_count": null,
      "outputs": [
        {
          "output_type": "execute_result",
          "data": {
            "text/plain": [
              "LinearRegression()"
            ],
            "text/html": [
              "<style>#sk-container-id-2 {color: black;background-color: white;}#sk-container-id-2 pre{padding: 0;}#sk-container-id-2 div.sk-toggleable {background-color: white;}#sk-container-id-2 label.sk-toggleable__label {cursor: pointer;display: block;width: 100%;margin-bottom: 0;padding: 0.3em;box-sizing: border-box;text-align: center;}#sk-container-id-2 label.sk-toggleable__label-arrow:before {content: \"▸\";float: left;margin-right: 0.25em;color: #696969;}#sk-container-id-2 label.sk-toggleable__label-arrow:hover:before {color: black;}#sk-container-id-2 div.sk-estimator:hover label.sk-toggleable__label-arrow:before {color: black;}#sk-container-id-2 div.sk-toggleable__content {max-height: 0;max-width: 0;overflow: hidden;text-align: left;background-color: #f0f8ff;}#sk-container-id-2 div.sk-toggleable__content pre {margin: 0.2em;color: black;border-radius: 0.25em;background-color: #f0f8ff;}#sk-container-id-2 input.sk-toggleable__control:checked~div.sk-toggleable__content {max-height: 200px;max-width: 100%;overflow: auto;}#sk-container-id-2 input.sk-toggleable__control:checked~label.sk-toggleable__label-arrow:before {content: \"▾\";}#sk-container-id-2 div.sk-estimator input.sk-toggleable__control:checked~label.sk-toggleable__label {background-color: #d4ebff;}#sk-container-id-2 div.sk-label input.sk-toggleable__control:checked~label.sk-toggleable__label {background-color: #d4ebff;}#sk-container-id-2 input.sk-hidden--visually {border: 0;clip: rect(1px 1px 1px 1px);clip: rect(1px, 1px, 1px, 1px);height: 1px;margin: -1px;overflow: hidden;padding: 0;position: absolute;width: 1px;}#sk-container-id-2 div.sk-estimator {font-family: monospace;background-color: #f0f8ff;border: 1px dotted black;border-radius: 0.25em;box-sizing: border-box;margin-bottom: 0.5em;}#sk-container-id-2 div.sk-estimator:hover {background-color: #d4ebff;}#sk-container-id-2 div.sk-parallel-item::after {content: \"\";width: 100%;border-bottom: 1px solid gray;flex-grow: 1;}#sk-container-id-2 div.sk-label:hover label.sk-toggleable__label {background-color: #d4ebff;}#sk-container-id-2 div.sk-serial::before {content: \"\";position: absolute;border-left: 1px solid gray;box-sizing: border-box;top: 0;bottom: 0;left: 50%;z-index: 0;}#sk-container-id-2 div.sk-serial {display: flex;flex-direction: column;align-items: center;background-color: white;padding-right: 0.2em;padding-left: 0.2em;position: relative;}#sk-container-id-2 div.sk-item {position: relative;z-index: 1;}#sk-container-id-2 div.sk-parallel {display: flex;align-items: stretch;justify-content: center;background-color: white;position: relative;}#sk-container-id-2 div.sk-item::before, #sk-container-id-2 div.sk-parallel-item::before {content: \"\";position: absolute;border-left: 1px solid gray;box-sizing: border-box;top: 0;bottom: 0;left: 50%;z-index: -1;}#sk-container-id-2 div.sk-parallel-item {display: flex;flex-direction: column;z-index: 1;position: relative;background-color: white;}#sk-container-id-2 div.sk-parallel-item:first-child::after {align-self: flex-end;width: 50%;}#sk-container-id-2 div.sk-parallel-item:last-child::after {align-self: flex-start;width: 50%;}#sk-container-id-2 div.sk-parallel-item:only-child::after {width: 0;}#sk-container-id-2 div.sk-dashed-wrapped {border: 1px dashed gray;margin: 0 0.4em 0.5em 0.4em;box-sizing: border-box;padding-bottom: 0.4em;background-color: white;}#sk-container-id-2 div.sk-label label {font-family: monospace;font-weight: bold;display: inline-block;line-height: 1.2em;}#sk-container-id-2 div.sk-label-container {text-align: center;}#sk-container-id-2 div.sk-container {/* jupyter's `normalize.less` sets `[hidden] { display: none; }` but bootstrap.min.css set `[hidden] { display: none !important; }` so we also need the `!important` here to be able to override the default hidden behavior on the sphinx rendered scikit-learn.org. See: https://github.com/scikit-learn/scikit-learn/issues/21755 */display: inline-block !important;position: relative;}#sk-container-id-2 div.sk-text-repr-fallback {display: none;}</style><div id=\"sk-container-id-2\" class=\"sk-top-container\"><div class=\"sk-text-repr-fallback\"><pre>LinearRegression()</pre><b>In a Jupyter environment, please rerun this cell to show the HTML representation or trust the notebook. <br />On GitHub, the HTML representation is unable to render, please try loading this page with nbviewer.org.</b></div><div class=\"sk-container\" hidden><div class=\"sk-item\"><div class=\"sk-estimator sk-toggleable\"><input class=\"sk-toggleable__control sk-hidden--visually\" id=\"sk-estimator-id-2\" type=\"checkbox\" checked><label for=\"sk-estimator-id-2\" class=\"sk-toggleable__label sk-toggleable__label-arrow\">LinearRegression</label><div class=\"sk-toggleable__content\"><pre>LinearRegression()</pre></div></div></div></div></div>"
            ]
          },
          "metadata": {},
          "execution_count": 32
        }
      ]
    },
    {
      "cell_type": "markdown",
      "source": [
        "Utilizando o modelo treinado para fazer previsões nos dados de teste."
      ],
      "metadata": {
        "id": "lqNF_CVx2orX"
      }
    },
    {
      "cell_type": "code",
      "source": [
        "# Realizando as predições\n",
        "previsoes = regressor.predict(X_teste)"
      ],
      "metadata": {
        "id": "htqx4xa32orX"
      },
      "execution_count": null,
      "outputs": []
    },
    {
      "cell_type": "markdown",
      "source": [
        "Analisando o desempenho do modelo."
      ],
      "metadata": {
        "id": "JNqLcDuk2orX"
      }
    },
    {
      "cell_type": "markdown",
      "source": [
        "Calculando o coeficiente de determinação R² para os dados de teste."
      ],
      "metadata": {
        "id": "arf4x4Cg2orY"
      }
    },
    {
      "cell_type": "code",
      "source": [
        "# Observando o r2\n",
        "regressor.score(X_teste, y_teste)"
      ],
      "metadata": {
        "colab": {
          "base_uri": "https://localhost:8080/"
        },
        "outputId": "d29fda71-e987-46fc-cc88-46c1fad47f14",
        "id": "2vwor-WG2orY"
      },
      "execution_count": null,
      "outputs": [
        {
          "output_type": "execute_result",
          "data": {
            "text/plain": [
              "0.475898660606238"
            ]
          },
          "metadata": {},
          "execution_count": 34
        }
      ]
    },
    {
      "cell_type": "markdown",
      "source": [
        "Obtivemos um coeficiente de determinação R² de 0,47, o que significa que o modelo consegue explicar, em média, 47% da variância dos dados de teste. Podemos notar uma melhora de 4% em relação à regressão linear simples, já que o seu R² foi de 0,43."
      ],
      "metadata": {
        "id": "OWJU1NH33MCq"
      }
    },
    {
      "cell_type": "code",
      "source": [
        "# Calcula o erro médio absoluto\n",
        "mae = mean_absolute_error(y_teste, previsoes)\n",
        "print(f\"O erro médio absoluto é de: {mae} unidades\")\n",
        "\n",
        "# Calcula o erro médio quadrático\n",
        "mse = mean_squared_error(y_teste, previsoes)\n",
        "print(f\"O erro médio quadrático é de: {mse} unidades\")"
      ],
      "metadata": {
        "colab": {
          "base_uri": "https://localhost:8080/"
        },
        "outputId": "153f38cc-3031-40b8-9d1c-1a9e5092eaaa",
        "id": "PJLkfyNt2orY"
      },
      "execution_count": null,
      "outputs": [
        {
          "output_type": "stream",
          "name": "stdout",
          "text": [
            "O erro médio absoluto é de: 173501.72172665017 unidades\n",
            "O erro médio quadrático é de: 90460400117.56529 unidades\n"
          ]
        }
      ]
    },
    {
      "cell_type": "markdown",
      "source": [
        "- O nosso erro médio absoluto indica que, em média, nossa previsão erra cerca de 173 mil unidades. No nosso caso, por se tratar de preço, vamos considerar que seja em dólares. Logo, nosso modelo erra o valor da casa em média cerca de 173 mil dólares, seja para mais ou para menos.\n",
        "\n",
        "Podemos notar uma sutil melhora aqui também, mas vamos analisar o RMSE para entendermos melhor."
      ],
      "metadata": {
        "id": "hoXRauwD3a3Z"
      }
    },
    {
      "cell_type": "code",
      "source": [
        "# Calculando o rmse\n",
        "rmse = math.sqrt(mse)\n",
        "\n",
        "print(f\"O RMSE é de: {rmse} unidades\")"
      ],
      "metadata": {
        "colab": {
          "base_uri": "https://localhost:8080/"
        },
        "outputId": "2b680589-f8f6-4393-e178-d685b0b854d4",
        "id": "x-BrXg5k2orY"
      },
      "execution_count": null,
      "outputs": [
        {
          "output_type": "stream",
          "name": "stdout",
          "text": [
            "O RMSE é de: 300766.3546967401 unidades\n"
          ]
        }
      ]
    },
    {
      "cell_type": "markdown",
      "source": [
        "Com essa métrica, podemos afirmar que o erro médio entre os preços reais e os preços preditos é de 300 mil, uma melhora de 12 mil em relação ao modelo anterior."
      ],
      "metadata": {
        "id": "7mfrXbj-3tuN"
      }
    },
    {
      "cell_type": "markdown",
      "source": [
        "## **Exercício**"
      ],
      "metadata": {
        "id": "EYdZs4lgsDcx"
      }
    },
    {
      "cell_type": "markdown",
      "source": [
        "O objetivo deste exercício é criar um modelo de regressão linear múltipla utilizando todos os atributos da base de dados."
      ],
      "metadata": {
        "id": "OA6MyvCGsKd_"
      }
    },
    {
      "cell_type": "markdown",
      "source": [
        "**Carregando os dados**"
      ],
      "metadata": {
        "id": "UXVRSCvztB5o"
      }
    },
    {
      "cell_type": "markdown",
      "source": [
        "Realizando as importações necessárias para a aplicação do modelo de regressão propriamente dito."
      ],
      "metadata": {
        "id": "Ads-bOEGsi8E"
      }
    },
    {
      "cell_type": "code",
      "source": [
        "# Álgebra linear\n",
        "import numpy as np\n",
        "\n",
        "# Manipualçao de dados\n",
        "import pandas as pd\n",
        "\n",
        "# Visualização de dados\n",
        "import seaborn as sns\n",
        "import matplotlib.pyplot as plt\n",
        "\n",
        "# Funções matemáticas\n",
        "import math"
      ],
      "metadata": {
        "id": "v-OdQBNZtH8f"
      },
      "execution_count": 1,
      "outputs": []
    },
    {
      "cell_type": "markdown",
      "source": [
        "Com todas essas bibliotecas importadas, podemos seguir adiante para a importação dos dados."
      ],
      "metadata": {
        "id": "DR5cO4GYtMF-"
      }
    },
    {
      "cell_type": "code",
      "source": [
        "# Acesso ao drive\n",
        "from google.colab import drive\n",
        "drive.mount('/content/drive')"
      ],
      "metadata": {
        "colab": {
          "base_uri": "https://localhost:8080/"
        },
        "id": "moMnLDcCtMQX",
        "outputId": "19a119c0-5c9d-4379-d5ee-4958a26ddd7a"
      },
      "execution_count": 2,
      "outputs": [
        {
          "output_type": "stream",
          "name": "stdout",
          "text": [
            "Mounted at /content/drive\n"
          ]
        }
      ]
    },
    {
      "cell_type": "code",
      "source": [
        "# Importando o dataset\n",
        "df = pd.read_csv(\"/content/drive/MyDrive/Estatística para ciência de dados/house_prices.csv\")\n",
        "\n",
        "# Observando os registros\n",
        "df.head()"
      ],
      "metadata": {
        "colab": {
          "base_uri": "https://localhost:8080/",
          "height": 236
        },
        "id": "9m7hjYa_tQWO",
        "outputId": "e276b144-b10f-4273-cc08-fc46a6642fc7"
      },
      "execution_count": 5,
      "outputs": [
        {
          "output_type": "execute_result",
          "data": {
            "text/plain": [
              "           id             date     price  bedrooms  bathrooms  sqft_living  \\\n",
              "0  7129300520  20141013T000000  221900.0         3       1.00         1180   \n",
              "1  6414100192  20141209T000000  538000.0         3       2.25         2570   \n",
              "2  5631500400  20150225T000000  180000.0         2       1.00          770   \n",
              "3  2487200875  20141209T000000  604000.0         4       3.00         1960   \n",
              "4  1954400510  20150218T000000  510000.0         3       2.00         1680   \n",
              "\n",
              "   sqft_lot  floors  waterfront  view  ...  grade  sqft_above  sqft_basement  \\\n",
              "0      5650     1.0           0     0  ...      7        1180              0   \n",
              "1      7242     2.0           0     0  ...      7        2170            400   \n",
              "2     10000     1.0           0     0  ...      6         770              0   \n",
              "3      5000     1.0           0     0  ...      7        1050            910   \n",
              "4      8080     1.0           0     0  ...      8        1680              0   \n",
              "\n",
              "   yr_built  yr_renovated  zipcode      lat     long  sqft_living15  \\\n",
              "0      1955             0    98178  47.5112 -122.257           1340   \n",
              "1      1951          1991    98125  47.7210 -122.319           1690   \n",
              "2      1933             0    98028  47.7379 -122.233           2720   \n",
              "3      1965             0    98136  47.5208 -122.393           1360   \n",
              "4      1987             0    98074  47.6168 -122.045           1800   \n",
              "\n",
              "   sqft_lot15  \n",
              "0        5650  \n",
              "1        7639  \n",
              "2        8062  \n",
              "3        5000  \n",
              "4        7503  \n",
              "\n",
              "[5 rows x 21 columns]"
            ],
            "text/html": [
              "\n",
              "  <div id=\"df-f82819df-4d37-4fd6-9c16-424a4b3a8109\" class=\"colab-df-container\">\n",
              "    <div>\n",
              "<style scoped>\n",
              "    .dataframe tbody tr th:only-of-type {\n",
              "        vertical-align: middle;\n",
              "    }\n",
              "\n",
              "    .dataframe tbody tr th {\n",
              "        vertical-align: top;\n",
              "    }\n",
              "\n",
              "    .dataframe thead th {\n",
              "        text-align: right;\n",
              "    }\n",
              "</style>\n",
              "<table border=\"1\" class=\"dataframe\">\n",
              "  <thead>\n",
              "    <tr style=\"text-align: right;\">\n",
              "      <th></th>\n",
              "      <th>id</th>\n",
              "      <th>date</th>\n",
              "      <th>price</th>\n",
              "      <th>bedrooms</th>\n",
              "      <th>bathrooms</th>\n",
              "      <th>sqft_living</th>\n",
              "      <th>sqft_lot</th>\n",
              "      <th>floors</th>\n",
              "      <th>waterfront</th>\n",
              "      <th>view</th>\n",
              "      <th>...</th>\n",
              "      <th>grade</th>\n",
              "      <th>sqft_above</th>\n",
              "      <th>sqft_basement</th>\n",
              "      <th>yr_built</th>\n",
              "      <th>yr_renovated</th>\n",
              "      <th>zipcode</th>\n",
              "      <th>lat</th>\n",
              "      <th>long</th>\n",
              "      <th>sqft_living15</th>\n",
              "      <th>sqft_lot15</th>\n",
              "    </tr>\n",
              "  </thead>\n",
              "  <tbody>\n",
              "    <tr>\n",
              "      <th>0</th>\n",
              "      <td>7129300520</td>\n",
              "      <td>20141013T000000</td>\n",
              "      <td>221900.0</td>\n",
              "      <td>3</td>\n",
              "      <td>1.00</td>\n",
              "      <td>1180</td>\n",
              "      <td>5650</td>\n",
              "      <td>1.0</td>\n",
              "      <td>0</td>\n",
              "      <td>0</td>\n",
              "      <td>...</td>\n",
              "      <td>7</td>\n",
              "      <td>1180</td>\n",
              "      <td>0</td>\n",
              "      <td>1955</td>\n",
              "      <td>0</td>\n",
              "      <td>98178</td>\n",
              "      <td>47.5112</td>\n",
              "      <td>-122.257</td>\n",
              "      <td>1340</td>\n",
              "      <td>5650</td>\n",
              "    </tr>\n",
              "    <tr>\n",
              "      <th>1</th>\n",
              "      <td>6414100192</td>\n",
              "      <td>20141209T000000</td>\n",
              "      <td>538000.0</td>\n",
              "      <td>3</td>\n",
              "      <td>2.25</td>\n",
              "      <td>2570</td>\n",
              "      <td>7242</td>\n",
              "      <td>2.0</td>\n",
              "      <td>0</td>\n",
              "      <td>0</td>\n",
              "      <td>...</td>\n",
              "      <td>7</td>\n",
              "      <td>2170</td>\n",
              "      <td>400</td>\n",
              "      <td>1951</td>\n",
              "      <td>1991</td>\n",
              "      <td>98125</td>\n",
              "      <td>47.7210</td>\n",
              "      <td>-122.319</td>\n",
              "      <td>1690</td>\n",
              "      <td>7639</td>\n",
              "    </tr>\n",
              "    <tr>\n",
              "      <th>2</th>\n",
              "      <td>5631500400</td>\n",
              "      <td>20150225T000000</td>\n",
              "      <td>180000.0</td>\n",
              "      <td>2</td>\n",
              "      <td>1.00</td>\n",
              "      <td>770</td>\n",
              "      <td>10000</td>\n",
              "      <td>1.0</td>\n",
              "      <td>0</td>\n",
              "      <td>0</td>\n",
              "      <td>...</td>\n",
              "      <td>6</td>\n",
              "      <td>770</td>\n",
              "      <td>0</td>\n",
              "      <td>1933</td>\n",
              "      <td>0</td>\n",
              "      <td>98028</td>\n",
              "      <td>47.7379</td>\n",
              "      <td>-122.233</td>\n",
              "      <td>2720</td>\n",
              "      <td>8062</td>\n",
              "    </tr>\n",
              "    <tr>\n",
              "      <th>3</th>\n",
              "      <td>2487200875</td>\n",
              "      <td>20141209T000000</td>\n",
              "      <td>604000.0</td>\n",
              "      <td>4</td>\n",
              "      <td>3.00</td>\n",
              "      <td>1960</td>\n",
              "      <td>5000</td>\n",
              "      <td>1.0</td>\n",
              "      <td>0</td>\n",
              "      <td>0</td>\n",
              "      <td>...</td>\n",
              "      <td>7</td>\n",
              "      <td>1050</td>\n",
              "      <td>910</td>\n",
              "      <td>1965</td>\n",
              "      <td>0</td>\n",
              "      <td>98136</td>\n",
              "      <td>47.5208</td>\n",
              "      <td>-122.393</td>\n",
              "      <td>1360</td>\n",
              "      <td>5000</td>\n",
              "    </tr>\n",
              "    <tr>\n",
              "      <th>4</th>\n",
              "      <td>1954400510</td>\n",
              "      <td>20150218T000000</td>\n",
              "      <td>510000.0</td>\n",
              "      <td>3</td>\n",
              "      <td>2.00</td>\n",
              "      <td>1680</td>\n",
              "      <td>8080</td>\n",
              "      <td>1.0</td>\n",
              "      <td>0</td>\n",
              "      <td>0</td>\n",
              "      <td>...</td>\n",
              "      <td>8</td>\n",
              "      <td>1680</td>\n",
              "      <td>0</td>\n",
              "      <td>1987</td>\n",
              "      <td>0</td>\n",
              "      <td>98074</td>\n",
              "      <td>47.6168</td>\n",
              "      <td>-122.045</td>\n",
              "      <td>1800</td>\n",
              "      <td>7503</td>\n",
              "    </tr>\n",
              "  </tbody>\n",
              "</table>\n",
              "<p>5 rows × 21 columns</p>\n",
              "</div>\n",
              "    <div class=\"colab-df-buttons\">\n",
              "\n",
              "  <div class=\"colab-df-container\">\n",
              "    <button class=\"colab-df-convert\" onclick=\"convertToInteractive('df-f82819df-4d37-4fd6-9c16-424a4b3a8109')\"\n",
              "            title=\"Convert this dataframe to an interactive table.\"\n",
              "            style=\"display:none;\">\n",
              "\n",
              "  <svg xmlns=\"http://www.w3.org/2000/svg\" height=\"24px\" viewBox=\"0 -960 960 960\">\n",
              "    <path d=\"M120-120v-720h720v720H120Zm60-500h600v-160H180v160Zm220 220h160v-160H400v160Zm0 220h160v-160H400v160ZM180-400h160v-160H180v160Zm440 0h160v-160H620v160ZM180-180h160v-160H180v160Zm440 0h160v-160H620v160Z\"/>\n",
              "  </svg>\n",
              "    </button>\n",
              "\n",
              "  <style>\n",
              "    .colab-df-container {\n",
              "      display:flex;\n",
              "      gap: 12px;\n",
              "    }\n",
              "\n",
              "    .colab-df-convert {\n",
              "      background-color: #E8F0FE;\n",
              "      border: none;\n",
              "      border-radius: 50%;\n",
              "      cursor: pointer;\n",
              "      display: none;\n",
              "      fill: #1967D2;\n",
              "      height: 32px;\n",
              "      padding: 0 0 0 0;\n",
              "      width: 32px;\n",
              "    }\n",
              "\n",
              "    .colab-df-convert:hover {\n",
              "      background-color: #E2EBFA;\n",
              "      box-shadow: 0px 1px 2px rgba(60, 64, 67, 0.3), 0px 1px 3px 1px rgba(60, 64, 67, 0.15);\n",
              "      fill: #174EA6;\n",
              "    }\n",
              "\n",
              "    .colab-df-buttons div {\n",
              "      margin-bottom: 4px;\n",
              "    }\n",
              "\n",
              "    [theme=dark] .colab-df-convert {\n",
              "      background-color: #3B4455;\n",
              "      fill: #D2E3FC;\n",
              "    }\n",
              "\n",
              "    [theme=dark] .colab-df-convert:hover {\n",
              "      background-color: #434B5C;\n",
              "      box-shadow: 0px 1px 3px 1px rgba(0, 0, 0, 0.15);\n",
              "      filter: drop-shadow(0px 1px 2px rgba(0, 0, 0, 0.3));\n",
              "      fill: #FFFFFF;\n",
              "    }\n",
              "  </style>\n",
              "\n",
              "    <script>\n",
              "      const buttonEl =\n",
              "        document.querySelector('#df-f82819df-4d37-4fd6-9c16-424a4b3a8109 button.colab-df-convert');\n",
              "      buttonEl.style.display =\n",
              "        google.colab.kernel.accessAllowed ? 'block' : 'none';\n",
              "\n",
              "      async function convertToInteractive(key) {\n",
              "        const element = document.querySelector('#df-f82819df-4d37-4fd6-9c16-424a4b3a8109');\n",
              "        const dataTable =\n",
              "          await google.colab.kernel.invokeFunction('convertToInteractive',\n",
              "                                                    [key], {});\n",
              "        if (!dataTable) return;\n",
              "\n",
              "        const docLinkHtml = 'Like what you see? Visit the ' +\n",
              "          '<a target=\"_blank\" href=https://colab.research.google.com/notebooks/data_table.ipynb>data table notebook</a>'\n",
              "          + ' to learn more about interactive tables.';\n",
              "        element.innerHTML = '';\n",
              "        dataTable['output_type'] = 'display_data';\n",
              "        await google.colab.output.renderOutput(dataTable, element);\n",
              "        const docLink = document.createElement('div');\n",
              "        docLink.innerHTML = docLinkHtml;\n",
              "        element.appendChild(docLink);\n",
              "      }\n",
              "    </script>\n",
              "  </div>\n",
              "\n",
              "\n",
              "<div id=\"df-a4290f6b-e27e-40f8-b057-f18c9bfe55d7\">\n",
              "  <button class=\"colab-df-quickchart\" onclick=\"quickchart('df-a4290f6b-e27e-40f8-b057-f18c9bfe55d7')\"\n",
              "            title=\"Suggest charts\"\n",
              "            style=\"display:none;\">\n",
              "\n",
              "<svg xmlns=\"http://www.w3.org/2000/svg\" height=\"24px\"viewBox=\"0 0 24 24\"\n",
              "     width=\"24px\">\n",
              "    <g>\n",
              "        <path d=\"M19 3H5c-1.1 0-2 .9-2 2v14c0 1.1.9 2 2 2h14c1.1 0 2-.9 2-2V5c0-1.1-.9-2-2-2zM9 17H7v-7h2v7zm4 0h-2V7h2v10zm4 0h-2v-4h2v4z\"/>\n",
              "    </g>\n",
              "</svg>\n",
              "  </button>\n",
              "\n",
              "<style>\n",
              "  .colab-df-quickchart {\n",
              "      --bg-color: #E8F0FE;\n",
              "      --fill-color: #1967D2;\n",
              "      --hover-bg-color: #E2EBFA;\n",
              "      --hover-fill-color: #174EA6;\n",
              "      --disabled-fill-color: #AAA;\n",
              "      --disabled-bg-color: #DDD;\n",
              "  }\n",
              "\n",
              "  [theme=dark] .colab-df-quickchart {\n",
              "      --bg-color: #3B4455;\n",
              "      --fill-color: #D2E3FC;\n",
              "      --hover-bg-color: #434B5C;\n",
              "      --hover-fill-color: #FFFFFF;\n",
              "      --disabled-bg-color: #3B4455;\n",
              "      --disabled-fill-color: #666;\n",
              "  }\n",
              "\n",
              "  .colab-df-quickchart {\n",
              "    background-color: var(--bg-color);\n",
              "    border: none;\n",
              "    border-radius: 50%;\n",
              "    cursor: pointer;\n",
              "    display: none;\n",
              "    fill: var(--fill-color);\n",
              "    height: 32px;\n",
              "    padding: 0;\n",
              "    width: 32px;\n",
              "  }\n",
              "\n",
              "  .colab-df-quickchart:hover {\n",
              "    background-color: var(--hover-bg-color);\n",
              "    box-shadow: 0 1px 2px rgba(60, 64, 67, 0.3), 0 1px 3px 1px rgba(60, 64, 67, 0.15);\n",
              "    fill: var(--button-hover-fill-color);\n",
              "  }\n",
              "\n",
              "  .colab-df-quickchart-complete:disabled,\n",
              "  .colab-df-quickchart-complete:disabled:hover {\n",
              "    background-color: var(--disabled-bg-color);\n",
              "    fill: var(--disabled-fill-color);\n",
              "    box-shadow: none;\n",
              "  }\n",
              "\n",
              "  .colab-df-spinner {\n",
              "    border: 2px solid var(--fill-color);\n",
              "    border-color: transparent;\n",
              "    border-bottom-color: var(--fill-color);\n",
              "    animation:\n",
              "      spin 1s steps(1) infinite;\n",
              "  }\n",
              "\n",
              "  @keyframes spin {\n",
              "    0% {\n",
              "      border-color: transparent;\n",
              "      border-bottom-color: var(--fill-color);\n",
              "      border-left-color: var(--fill-color);\n",
              "    }\n",
              "    20% {\n",
              "      border-color: transparent;\n",
              "      border-left-color: var(--fill-color);\n",
              "      border-top-color: var(--fill-color);\n",
              "    }\n",
              "    30% {\n",
              "      border-color: transparent;\n",
              "      border-left-color: var(--fill-color);\n",
              "      border-top-color: var(--fill-color);\n",
              "      border-right-color: var(--fill-color);\n",
              "    }\n",
              "    40% {\n",
              "      border-color: transparent;\n",
              "      border-right-color: var(--fill-color);\n",
              "      border-top-color: var(--fill-color);\n",
              "    }\n",
              "    60% {\n",
              "      border-color: transparent;\n",
              "      border-right-color: var(--fill-color);\n",
              "    }\n",
              "    80% {\n",
              "      border-color: transparent;\n",
              "      border-right-color: var(--fill-color);\n",
              "      border-bottom-color: var(--fill-color);\n",
              "    }\n",
              "    90% {\n",
              "      border-color: transparent;\n",
              "      border-bottom-color: var(--fill-color);\n",
              "    }\n",
              "  }\n",
              "</style>\n",
              "\n",
              "  <script>\n",
              "    async function quickchart(key) {\n",
              "      const quickchartButtonEl =\n",
              "        document.querySelector('#' + key + ' button');\n",
              "      quickchartButtonEl.disabled = true;  // To prevent multiple clicks.\n",
              "      quickchartButtonEl.classList.add('colab-df-spinner');\n",
              "      try {\n",
              "        const charts = await google.colab.kernel.invokeFunction(\n",
              "            'suggestCharts', [key], {});\n",
              "      } catch (error) {\n",
              "        console.error('Error during call to suggestCharts:', error);\n",
              "      }\n",
              "      quickchartButtonEl.classList.remove('colab-df-spinner');\n",
              "      quickchartButtonEl.classList.add('colab-df-quickchart-complete');\n",
              "    }\n",
              "    (() => {\n",
              "      let quickchartButtonEl =\n",
              "        document.querySelector('#df-a4290f6b-e27e-40f8-b057-f18c9bfe55d7 button');\n",
              "      quickchartButtonEl.style.display =\n",
              "        google.colab.kernel.accessAllowed ? 'block' : 'none';\n",
              "    })();\n",
              "  </script>\n",
              "</div>\n",
              "\n",
              "    </div>\n",
              "  </div>\n"
            ]
          },
          "metadata": {},
          "execution_count": 5
        }
      ]
    },
    {
      "cell_type": "markdown",
      "source": [
        "**Pré-Processamento**"
      ],
      "metadata": {
        "id": "OC_4-0JDtjal"
      }
    },
    {
      "cell_type": "markdown",
      "source": [
        "Nessa etapa, vamos separar os dados nas variáveis preditoras e variáveis resposta."
      ],
      "metadata": {
        "id": "vtRTuTH1to81"
      }
    },
    {
      "cell_type": "code",
      "source": [
        "# Separando os dados em X e Y\n",
        "\n",
        "# Variáveis preditoras\n",
        "X = df.drop(['date', 'id', 'sqft_living', 'sqft_lot', 'price'], axis = 1)\n",
        "\n",
        "# Variável resposta\n",
        "y = df['price'].values"
      ],
      "metadata": {
        "id": "gADG74vzuaHO"
      },
      "execution_count": 6,
      "outputs": []
    },
    {
      "cell_type": "markdown",
      "source": [
        "**Machine Learning**"
      ],
      "metadata": {
        "id": "lR3li-cvv3rz"
      }
    },
    {
      "cell_type": "markdown",
      "source": [
        "Realizando as importações para a divisão dos dados em treino e teste."
      ],
      "metadata": {
        "id": "DAnBPZI4wOT4"
      }
    },
    {
      "cell_type": "code",
      "source": [
        "# Bilioteca para realizção de amostras estratificadas\n",
        "from sklearn.model_selection import train_test_split\n",
        "\n",
        "# Separando os dados\n",
        "X_treino, X_teste, y_treino, y_teste = train_test_split(X, y, test_size = 0.2, random_state = 4)"
      ],
      "metadata": {
        "id": "xDt7aVGJwQ6_"
      },
      "execution_count": 7,
      "outputs": []
    },
    {
      "cell_type": "markdown",
      "source": [
        "Importando o modelo"
      ],
      "metadata": {
        "id": "57WQ3YUOwiO1"
      }
    },
    {
      "cell_type": "code",
      "source": [
        "# Importando o modelo\n",
        "from sklearn.linear_model import LinearRegression"
      ],
      "metadata": {
        "id": "-uitYIT3wkGd"
      },
      "execution_count": 8,
      "outputs": []
    },
    {
      "cell_type": "markdown",
      "source": [
        "Realizando a importação das métricas."
      ],
      "metadata": {
        "id": "4pNK2VViwkeG"
      }
    },
    {
      "cell_type": "code",
      "source": [
        "# Importando as métricas de validação\n",
        "from sklearn.metrics import mean_absolute_error, mean_squared_error"
      ],
      "metadata": {
        "id": "DRLKVtsxwbbf"
      },
      "execution_count": 9,
      "outputs": []
    },
    {
      "cell_type": "markdown",
      "source": [
        "Criando uma instância do modelo."
      ],
      "metadata": {
        "id": "ZQ6ZmZMXwxnm"
      }
    },
    {
      "cell_type": "code",
      "source": [
        "# Criando o modelo\n",
        "regressor = LinearRegression()"
      ],
      "metadata": {
        "id": "xwGXIn22wx4M"
      },
      "execution_count": 10,
      "outputs": []
    },
    {
      "cell_type": "markdown",
      "source": [
        "Treinando e fazendo previsões com o modelo"
      ],
      "metadata": {
        "id": "cLGoHwjGw66T"
      }
    },
    {
      "cell_type": "code",
      "source": [
        "# Treinando o modelo\n",
        "regressor.fit(X_treino, y_treino)\n",
        "\n",
        "# Realizando as predições\n",
        "previsoes = regressor.predict(X_teste)"
      ],
      "metadata": {
        "id": "X3bOm_h7xBDS"
      },
      "execution_count": 11,
      "outputs": []
    },
    {
      "cell_type": "markdown",
      "source": [
        "Avaliando o desempenho do modelo"
      ],
      "metadata": {
        "id": "GguLjoy1xDrY"
      }
    },
    {
      "cell_type": "markdown",
      "source": [
        "Calculando o coeficiente de determinação R² para os dados de teste."
      ],
      "metadata": {
        "id": "JJMO-efsxH0p"
      }
    },
    {
      "cell_type": "code",
      "source": [
        "# Observando o r2\n",
        "regressor.score(X_teste, y_teste)"
      ],
      "metadata": {
        "colab": {
          "base_uri": "https://localhost:8080/"
        },
        "id": "RiGMvw1bxH-B",
        "outputId": "3d89c898-7fe7-4906-96a8-08e6b0dc72c1"
      },
      "execution_count": 12,
      "outputs": [
        {
          "output_type": "execute_result",
          "data": {
            "text/plain": [
              "0.6970140146588895"
            ]
          },
          "metadata": {},
          "execution_count": 12
        }
      ]
    },
    {
      "cell_type": "markdown",
      "source": [
        "Obtivemos um R² de 0,69 nos dados de teste. Isso implica que podemos explicar 69% da variância dos dados com esse modelo. É notável também a grande melhoria se comparado com o modelo utilizando apenas 4 elementos. Aparentemente, esse modelo vai apresentar uma performance bem superior aos demais criados anteriormente. Dito isso, vamos observar outras métricas."
      ],
      "metadata": {
        "id": "4AKGnFeVxQbn"
      }
    },
    {
      "cell_type": "code",
      "source": [
        "# Calcula o erro médio absoluto\n",
        "mae = mean_absolute_error(y_teste, previsoes)\n",
        "print(f\"O erro médio absoluto é de: {mae} unidades\")\n",
        "\n",
        "# Calcula o erro médio quadrático\n",
        "mse = mean_squared_error(y_teste, previsoes)\n",
        "print(f\"O erro médio quadrático é de: {mse} unidades\")"
      ],
      "metadata": {
        "colab": {
          "base_uri": "https://localhost:8080/"
        },
        "id": "wUFf3IIlxqvF",
        "outputId": "f500cec8-0e3d-4418-acd7-165213c0585b"
      },
      "execution_count": 13,
      "outputs": [
        {
          "output_type": "stream",
          "name": "stdout",
          "text": [
            "O erro médio absoluto é de: 126383.57369183468 unidades\n",
            "O erro médio quadrático é de: 39187972609.973785 unidades\n"
          ]
        }
      ]
    },
    {
      "cell_type": "markdown",
      "source": [
        "- Obtivemos um erro médio absoluto (MAE) de 126 mil. Isso indica que, em média, nossas previsões podem variar cerca de 126 mil unidades, para mais ou para menos.\n",
        "\n",
        "Podemos notar uma melhora bem promissora aqui. No entanto, vamos analisar o RMSE para entendermos melhor a disparidade entre os modelos."
      ],
      "metadata": {
        "id": "CfUDASucxy7N"
      }
    },
    {
      "cell_type": "code",
      "source": [
        "# Calculando o rmse\n",
        "rmse = math.sqrt(mse)\n",
        "\n",
        "print(f\"O RMSE é de: {rmse} unidades\")"
      ],
      "metadata": {
        "colab": {
          "base_uri": "https://localhost:8080/"
        },
        "id": "bmdqLZ8cyIfh",
        "outputId": "399cc326-9d59-4426-ecdb-50a072748da9"
      },
      "execution_count": 14,
      "outputs": [
        {
          "output_type": "stream",
          "name": "stdout",
          "text": [
            "O RMSE é de: 197959.52265545042 unidades\n"
          ]
        }
      ]
    },
    {
      "cell_type": "markdown",
      "source": [
        "Com essa métrica, podemos afirmar que o erro médio absoluto (MAE) entre os preços reais e os preços preditos é de 197 mil. Isso representa uma melhora de 103 mil em relação ao modelo anterior. Portanto, podemos afirmar que esse modelo apresentou um desempenho muito superior aos outros modelos criados anteriormente.\n",
        "\n",
        "Será que é possível melhorarmos o desempenho desse modelo aplicando uma seleção de atributos? Vamos ver mais a fundo."
      ],
      "metadata": {
        "id": "qMMw5XPdyOJR"
      }
    },
    {
      "cell_type": "markdown",
      "source": [
        "### **Seleção de atributos**"
      ],
      "metadata": {
        "id": "pffZtWH10I5D"
      }
    },
    {
      "cell_type": "markdown",
      "source": [
        "Primeiro, vamos importar a biblioteca para seleção de atributos."
      ],
      "metadata": {
        "id": "_hyUjsOq0Oyi"
      }
    },
    {
      "cell_type": "code",
      "source": [
        "# Importando os módulos\n",
        "from sklearn.feature_selection import SelectFdr, f_regression"
      ],
      "metadata": {
        "id": "_0IN5r9-0K5T"
      },
      "execution_count": 33,
      "outputs": []
    },
    {
      "cell_type": "markdown",
      "source": [
        "Criando o objeto seletor de atributos e definindo o valor de alpha."
      ],
      "metadata": {
        "id": "anhWbByn0N8E"
      }
    },
    {
      "cell_type": "code",
      "source": [
        "# Criando a instância\n",
        "selecao = SelectFdr(f_regression, alpha = 0.0)"
      ],
      "metadata": {
        "id": "MBmBCBII0OWp"
      },
      "execution_count": 34,
      "outputs": []
    },
    {
      "cell_type": "markdown",
      "source": [
        "Agora, podemos aplicar a seleção de atributos aos dados."
      ],
      "metadata": {
        "id": "73uDJ1wk04p9"
      }
    },
    {
      "cell_type": "code",
      "source": [
        "# Aplicando a seleção\n",
        "X_novo = selecao.fit_transform(X, y)"
      ],
      "metadata": {
        "id": "L-dqo7IE04uk"
      },
      "execution_count": 35,
      "outputs": []
    },
    {
      "cell_type": "markdown",
      "source": [
        "Nesse momento, vamos criar um modelo e treiná-lo com as variáveis selecionadas. Em seguida, vamos separar a base entre treino e teste."
      ],
      "metadata": {
        "id": "srAqjAMQ1Q4z"
      }
    },
    {
      "cell_type": "code",
      "source": [
        "# Realizando a divisão entre os dados de treino e teste\n",
        "X_treino, X_teste, y_treino, y_teste = train_test_split(X_novo, y, test_size = 0.2, random_state = 1)"
      ],
      "metadata": {
        "id": "SQ7mUAH91iVA"
      },
      "execution_count": 36,
      "outputs": []
    },
    {
      "cell_type": "markdown",
      "source": [
        "Criando a instância do modelo."
      ],
      "metadata": {
        "id": "09j0hqAk1tmV"
      }
    },
    {
      "cell_type": "code",
      "source": [
        "# Criando o modelo\n",
        "regressor_novo = LinearRegression()"
      ],
      "metadata": {
        "id": "7QUrJKZW10ue"
      },
      "execution_count": 37,
      "outputs": []
    },
    {
      "cell_type": "markdown",
      "source": [
        "Realizando o treinamento e as predições do modelo."
      ],
      "metadata": {
        "id": "tsvHf3mm15CU"
      }
    },
    {
      "cell_type": "code",
      "source": [
        "# Treinando o modelo\n",
        "regressor_novo.fit(X_treino, y_treino)\n",
        "\n",
        "# Realizando as predições\n",
        "predicoes = regressor_novo.predict(X_teste)"
      ],
      "metadata": {
        "id": "d-WCjnts15Lc"
      },
      "execution_count": 38,
      "outputs": []
    },
    {
      "cell_type": "markdown",
      "source": [
        "Analisando o desempenho do modelo"
      ],
      "metadata": {
        "id": "Tjj_kwq7193T"
      }
    },
    {
      "cell_type": "code",
      "source": [
        "# Observando o r2\n",
        "regressor_novo.score(X_teste, y_teste)"
      ],
      "metadata": {
        "colab": {
          "base_uri": "https://localhost:8080/"
        },
        "id": "oEW3qKl41_Vj",
        "outputId": "4211cdb8-2877-4b54-d271-2702fc0e8039"
      },
      "execution_count": 39,
      "outputs": [
        {
          "output_type": "execute_result",
          "data": {
            "text/plain": [
              "0.6444206541785331"
            ]
          },
          "metadata": {},
          "execution_count": 39
        }
      ]
    },
    {
      "cell_type": "markdown",
      "source": [
        "Nesse caso, podemos observar um R² de 0,64 que é próximo ao modelo anterior, que até o momento é o nosso melhor modelo. No entanto, vamos analisar esse aqui com mais calma."
      ],
      "metadata": {
        "id": "hDtvjreT27El"
      }
    },
    {
      "cell_type": "code",
      "source": [
        "# Calcula o erro médio absoluto\n",
        "mae = mean_absolute_error(y_teste, predicoes)\n",
        "print(f\"O erro médio absoluto é de: {mae} unidades\")\n",
        "\n",
        "# Calcula o erro médio quadrático\n",
        "mse = mean_squared_error(y_teste, predicoes)\n",
        "print(f\"O erro médio quadrático é de: {mse} unidades\")"
      ],
      "metadata": {
        "colab": {
          "base_uri": "https://localhost:8080/"
        },
        "id": "Ih-3Fvlg3Dwl",
        "outputId": "87877d65-085f-4c41-dc2c-604fe710461f"
      },
      "execution_count": 40,
      "outputs": [
        {
          "output_type": "stream",
          "name": "stdout",
          "text": [
            "O erro médio absoluto é de: 137268.96012702258 unidades\n",
            "O erro médio quadrático é de: 61373340380.61963 unidades\n"
          ]
        }
      ]
    },
    {
      "cell_type": "markdown",
      "source": [
        "Podemos observar que, nesse caso, o erro médio absoluto (MAE) foi um pouco maior, cerca de 10 mil unidades. Agora, vamos observar o RMSE."
      ],
      "metadata": {
        "id": "-k_oeHy23JDb"
      }
    },
    {
      "cell_type": "code",
      "source": [
        "# Calculando o rmse\n",
        "rmse = math.sqrt(mse)\n",
        "\n",
        "print(f\"O RMSE é de: {rmse} unidades\")"
      ],
      "metadata": {
        "colab": {
          "base_uri": "https://localhost:8080/"
        },
        "id": "XGhw01X03YYh",
        "outputId": "186a8f80-c8b8-4c3d-dabf-c0f0b14f6f50"
      },
      "execution_count": 41,
      "outputs": [
        {
          "output_type": "stream",
          "name": "stdout",
          "text": [
            "O RMSE é de: 247736.43329276305 unidades\n"
          ]
        }
      ]
    },
    {
      "cell_type": "markdown",
      "source": [
        "Com essa métrica, podemos afirmar que, nesse caso, o erro médio entre os preços reais e os preços previstos é de 247 mil unidades. Portanto, esse modelo realmente apresentou um desempenho pior que o modelo anterior. No entanto, em outros casos, talvez compense utilizar essa técnica de seleção de atributos."
      ],
      "metadata": {
        "id": "wUK02k2L3fg5"
      }
    }
  ]
}