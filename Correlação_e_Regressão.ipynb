{
  "nbformat": 4,
  "nbformat_minor": 0,
  "metadata": {
    "colab": {
      "provenance": [],
      "authorship_tag": "ABX9TyPmWyIrXDUer50ORzG2dHux",
      "include_colab_link": true
    },
    "kernelspec": {
      "name": "python3",
      "display_name": "Python 3"
    },
    "language_info": {
      "name": "python"
    }
  },
  "cells": [
    {
      "cell_type": "markdown",
      "metadata": {
        "id": "view-in-github",
        "colab_type": "text"
      },
      "source": [
        "<a href=\"https://colab.research.google.com/github/JosenildoJunior/StatPyDataScience/blob/main/Correla%C3%A7%C3%A3o_e_Regress%C3%A3o.ipynb\" target=\"_parent\"><img src=\"https://colab.research.google.com/assets/colab-badge.svg\" alt=\"Open In Colab\"/></a>"
      ]
    },
    {
      "cell_type": "markdown",
      "source": [
        "# **Estatística com Python: Um Guia para Estudos e Solução de Problemas**"
      ],
      "metadata": {
        "id": "iBH3-LFUCi-V"
      }
    },
    {
      "cell_type": "markdown",
      "source": [
        "Breve resumo:\n",
        "\n",
        "Correlação e regressão são duas técnicas estatísticas usadas para medir e modelar a relação entre duas ou mais variáveis.\n",
        "\n",
        "Correlação\n",
        "\n",
        "- A correlação mede a força e a direção da relação entre duas variáveis. O coeficiente de correlação é um número entre -1 e 1. Um coeficiente de correlação próximo a 1 indica uma forte relação positiva entre as duas variáveis, um coeficiente de correlação próximo a -1 indica uma forte relação negativa entre as duas variáveis, e um coeficiente de correlação próximo a 0 indica que não há relação entre as duas variáveis.\n",
        "\n",
        "Regressão\n",
        "\n",
        "- A regressão é usada para modelar a relação entre uma variável dependente e uma ou mais variáveis independentes. A equação de regressão é uma equação que descreve a relação entre as variáveis.\n",
        "\n",
        "Quando utilizar:\n",
        "\n",
        "- Correlação: Sempre que se deseja medir a força e a direção da relação entre duas variáveis.\n",
        "\n",
        "- Regressão: Sempre que se deseja modelar a relação entre uma variável dependente e uma ou mais variáveis independentes.\n",
        "Exemplos:\n",
        "\n",
        "- Correlação: Um pesquisador pode usar a correlação para medir a relação entre o nível de escolaridade e o salário.\n",
        "\n",
        "- Regressão: Um economista pode usar a regressão para modelar a relação entre o preço da gasolina e a demanda por gasolina."
      ],
      "metadata": {
        "id": "RfPkj7J4Cd7n"
      }
    },
    {
      "cell_type": "code",
      "execution_count": null,
      "metadata": {
        "id": "0Sl4r7HgCFOC"
      },
      "outputs": [],
      "source": [
        "# Em breve!!!"
      ]
    }
  ]
}