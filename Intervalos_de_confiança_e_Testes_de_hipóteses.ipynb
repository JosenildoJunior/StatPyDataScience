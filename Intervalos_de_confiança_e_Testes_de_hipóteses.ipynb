{
  "nbformat": 4,
  "nbformat_minor": 0,
  "metadata": {
    "colab": {
      "provenance": [],
      "collapsed_sections": [
        "22UzuKpIdQuH",
        "EvRLWLyzAaqG",
        "uXw7MVz4CUTX"
      ],
      "authorship_tag": "ABX9TyPCMc22G+xx6vjLTRocrIL/",
      "include_colab_link": true
    },
    "kernelspec": {
      "name": "python3",
      "display_name": "Python 3"
    },
    "language_info": {
      "name": "python"
    }
  },
  "cells": [
    {
      "cell_type": "markdown",
      "metadata": {
        "id": "view-in-github",
        "colab_type": "text"
      },
      "source": [
        "<a href=\"https://colab.research.google.com/github/JosenildoJunior/StatPyDataScience/blob/main/Intervalos_de_confian%C3%A7a_e_Testes_de_hip%C3%B3teses.ipynb\" target=\"_parent\"><img src=\"https://colab.research.google.com/assets/colab-badge.svg\" alt=\"Open In Colab\"/></a>"
      ]
    },
    {
      "cell_type": "markdown",
      "source": [
        "# **Estatística com Python: Um Guia para Estudos e Solução de Problemas**"
      ],
      "metadata": {
        "id": "8Ch_68GS_Cqd"
      }
    },
    {
      "cell_type": "markdown",
      "source": [
        "\n",
        "## Breve Resumo:\n",
        "\n",
        "Um intervalo de confiança é uma faixa de valores que provavelmente contém o valor verdadeiro de um parâmetro populacional. O intervalo de confiança é calculado a partir de uma amostra de dados e fornece uma medida de incerteza na estimativa do parâmetro populacional.\n",
        "\n",
        "Quando Utilizar:\n",
        "\n",
        "- Sempre que se deseja estimar um parâmetro populacional a partir de uma amostra.\n",
        "- Sempre que se deseja especificar um nível de confiança para a estimativa."
      ],
      "metadata": {
        "id": "dQbh0W40_GPl"
      }
    },
    {
      "cell_type": "markdown",
      "source": [
        "# **Calculando os intervalos de confiança**"
      ],
      "metadata": {
        "id": "22UzuKpIdQuH"
      }
    },
    {
      "cell_type": "markdown",
      "source": [
        "Para exemplificar esses cálculos, será necessário realizar a importação das bibliotecas que serão utilizadas, além de obtermos os dados para aplicação das técnicas dos intervalos."
      ],
      "metadata": {
        "id": "dZhfb_AkdVxG"
      }
    },
    {
      "cell_type": "markdown",
      "source": [
        "Importando as bibliotecas necessárias para o nosso trabalho"
      ],
      "metadata": {
        "id": "BDKbJX5idrP7"
      }
    },
    {
      "cell_type": "code",
      "execution_count": 1,
      "metadata": {
        "id": "stOtu4iT8yL2"
      },
      "outputs": [],
      "source": [
        "# Manipulação de dados\n",
        "import pandas as pd\n",
        "\n",
        "# Álgebra  linear\n",
        "import numpy as np\n",
        "\n",
        "# Funções estatísticas\n",
        "from scipy.stats import norm\n",
        "from scipy import stats\n",
        "\n",
        "# Visualização de dados\n",
        "import seaborn as sns\n",
        "\n",
        "# Biblioteca para cálculos matématicos\n",
        "import math"
      ]
    },
    {
      "cell_type": "markdown",
      "source": [
        "Agora que as importações já foram realizadas, vamos gerar dados fictícios."
      ],
      "metadata": {
        "id": "uVZN1k8keeU2"
      }
    },
    {
      "cell_type": "code",
      "source": [
        "# Armazenando os dados\n",
        "dados = np.array([126. , 129.5, 133. , 133. , 136.5, 136.5, 140. , 140. , 140. ,\n",
        "                  140. , 143.5, 143.5, 143.5, 143.5, 143.5, 143.5, 147. , 147. ,\n",
        "                  147. , 147. , 147. , 147. , 147. , 150.5, 150.5, 150.5, 150.5,\n",
        "                  150.5, 150.5, 150.5, 150.5, 154. , 154. , 154. , 154. , 154. ,\n",
        "                  154. , 154. , 154. , 154. , 157.5, 157.5, 157.5, 157.5, 157.5,\n",
        "                  157.5, 157.5, 157.5, 157.5, 157.5, 161. , 161. , 161. , 161. ,\n",
        "                  161. , 161. , 161. , 161. , 161. , 161. , 164.5, 164.5, 164.5,\n",
        "                  164.5, 164.5, 164.5, 164.5, 164.5, 164.5, 168. , 168. , 168. ,\n",
        "                  168. , 168. , 168. , 168. , 168. , 171.5, 171.5, 171.5, 171.5,\n",
        "                  171.5, 171.5, 171.5, 175. , 175. , 175. , 175. , 175. , 175. ,\n",
        "                  178.5, 178.5, 178.5, 178.5, 182. , 182. , 185.5, 185.5, 189., 192.5])"
      ],
      "metadata": {
        "id": "ErzocXpkep3c"
      },
      "execution_count": null,
      "outputs": []
    },
    {
      "cell_type": "markdown",
      "source": [
        "Agora que temos nossos dados, podemos seguir para a parte do cálculo propriamente dita. Para isso, seguiremos os seguintes passos:\n",
        "\n",
        "- Criaremos uma variável para armazenar os intervalos.\n",
        "- Utilizaremos a função norm.interval, passando como parâmetros o nível de confiança desejado, que nesse caso é de 95%.\n",
        "- Passaremos também a média dos dados.\n",
        "- Por último, utilizaremos a função scipy.stats, que calcula o erro padrão da média para um conjunto de dados."
      ],
      "metadata": {
        "id": "ocOS6bcrfWJQ"
      }
    },
    {
      "cell_type": "code",
      "source": [
        "# Realizando o cálculo dos intervalos de confiança\n",
        "intervalos = norm.interval(0.95, dados.mean(), stats.sem(dados))\n",
        "\n",
        "# Exbindo os intervalos\n",
        "intervalos"
      ],
      "metadata": {
        "colab": {
          "base_uri": "https://localhost:8080/"
        },
        "id": "rZZhOZj1e6wZ",
        "outputId": "b54985f4-9f26-4b0a-ca24-7c999e4c81ff"
      },
      "execution_count": null,
      "outputs": [
        {
          "output_type": "execute_result",
          "data": {
            "text/plain": [
              "(156.5611712378229, 161.9388287621771)"
            ]
          },
          "metadata": {},
          "execution_count": 5
        }
      ]
    },
    {
      "cell_type": "markdown",
      "source": [
        "Dessa forma, podemos afirmar com 95% de certeza que a média populacional desses dados estará entre 156,56 e 161,93 cm, pois essa base se trata de uma base de altura."
      ],
      "metadata": {
        "id": "hv78rEB7gbgh"
      }
    },
    {
      "cell_type": "code",
      "source": [
        "# Calculando a margem de erro\n",
        "margem_erro = dados.mean() - intervalos[0]\n",
        "\n",
        "# Exibindo a margem\n",
        "margem_erro"
      ],
      "metadata": {
        "colab": {
          "base_uri": "https://localhost:8080/"
        },
        "id": "JlFIP_PfiHAr",
        "outputId": "3ff2b0c5-4d0b-4e37-fbf2-6c3253def943"
      },
      "execution_count": null,
      "outputs": [
        {
          "output_type": "execute_result",
          "data": {
            "text/plain": [
              "2.68882876217711"
            ]
          },
          "metadata": {},
          "execution_count": 6
        }
      ]
    },
    {
      "cell_type": "markdown",
      "source": [
        "Podemos observar que temos uma margem de erro de aproximadamente 2,68 unidades. Isso indica que, nesse caso, temos 95% de certeza de que a média populacional está dentro de aproximadamente 2,68 unidades da média amostral."
      ],
      "metadata": {
        "id": "rBo0MTVvj0xw"
      }
    },
    {
      "cell_type": "markdown",
      "source": [
        "Vamos observar o que acontece se aumentarmos o valor do intervalo de confiança."
      ],
      "metadata": {
        "id": "4MC1w1AOkMT1"
      }
    },
    {
      "cell_type": "code",
      "source": [
        "# Realizando o cálculo dos intervalos de confiança\n",
        "intervalos = norm.interval(0.99, dados.mean(), stats.sem(dados))\n",
        "\n",
        "# Exbindo os intervalos\n",
        "intervalos"
      ],
      "metadata": {
        "colab": {
          "base_uri": "https://localhost:8080/"
        },
        "id": "dNB6qVwfjD1l",
        "outputId": "15b42c7e-f7e2-4979-9e43-2f6cf4c97f4a"
      },
      "execution_count": null,
      "outputs": [
        {
          "output_type": "execute_result",
          "data": {
            "text/plain": [
              "(155.71628000694295, 162.78371999305705)"
            ]
          },
          "metadata": {},
          "execution_count": 7
        }
      ]
    },
    {
      "cell_type": "markdown",
      "source": [
        "Podemos observar que, ao aumentar o intervalo de confiança, aumentamos também o intervalo de valores possíveis para a média populacional. Com 99% de certeza, podemos afirmar que a média populacional está entre 155,71 e 162,78."
      ],
      "metadata": {
        "id": "8JXX8ITmkfrD"
      }
    },
    {
      "cell_type": "markdown",
      "source": [
        "Vamos observar agora a margem de erro."
      ],
      "metadata": {
        "id": "84Cqj14Uk5Vv"
      }
    },
    {
      "cell_type": "code",
      "source": [
        "# Calculando a margem de erro\n",
        "margem_erro = dados.mean() - intervalos[0]\n",
        "\n",
        "# Exibindo a margem\n",
        "margem_erro"
      ],
      "metadata": {
        "colab": {
          "base_uri": "https://localhost:8080/"
        },
        "id": "0I4fHwxNjFTz",
        "outputId": "b6de4aff-84d1-4c1d-93cc-47889580a777"
      },
      "execution_count": null,
      "outputs": [
        {
          "output_type": "execute_result",
          "data": {
            "text/plain": [
              "3.5337199930570478"
            ]
          },
          "metadata": {},
          "execution_count": 8
        }
      ]
    },
    {
      "cell_type": "markdown",
      "source": [
        "Obtivemos uma margem de erro de 3,53. Como o intervalo de confiança aumentou, a margem de erro também aumentou. Isso significa que *um nível de confiança mais alto oferece uma garantia maior, mas ao custo de uma margem de erro mais ampla, o que torna a estimativa menos precisa.*"
      ],
      "metadata": {
        "id": "uNMzgZkDk7OX"
      }
    },
    {
      "cell_type": "markdown",
      "source": [
        "## Exercício"
      ],
      "metadata": {
        "id": "EvRLWLyzAaqG"
      }
    },
    {
      "cell_type": "markdown",
      "source": [
        "Imaginemos o seguinte exercício: digamos que temos em mãos os seguintes dados de salários anuais em dólares por ano."
      ],
      "metadata": {
        "id": "raxWp1LIAlKL"
      }
    },
    {
      "cell_type": "code",
      "source": [
        "# Gerando os dados\n",
        "dados_salario = np.array([82.1191, 72.8014, 79.1266, 71.3552, 59.192 , 79.1952, 56.518 ,\n",
        "                          70.3752, 73.5364, 61.0407, 64.3902, 66.4076, 63.5215, 71.9936,\n",
        "                          60.1489, 78.5932, 76.0459, 67.7726, 64.6149, 80.1948, 76.7998,\n",
        "                          76.1831, 80.7065, 62.4953, 57.204 , 62.5408, 80.0982, 63.287 ,\n",
        "                          66.5826, 79.3674])"
      ],
      "metadata": {
        "id": "-V8lo2RBAmeT"
      },
      "execution_count": 2,
      "outputs": []
    },
    {
      "cell_type": "markdown",
      "source": [
        "Agora, nossa tarefa é realizar os cálculos dos intervalos de confiança."
      ],
      "metadata": {
        "id": "mbCjajpWBJu2"
      }
    },
    {
      "cell_type": "code",
      "source": [
        "# Realizando o cálculo dos intervalos de confiança\n",
        "intervalos = norm.interval(0.95, dados_salario.mean(), stats.sem(dados_salario))\n",
        "\n",
        "# Exbindo os intervalos\n",
        "intervalos"
      ],
      "metadata": {
        "colab": {
          "base_uri": "https://localhost:8080/"
        },
        "id": "1NQv9mk1Bbv8",
        "outputId": "0e78d717-b771-4e6c-a01e-1bf373aa4a9e"
      },
      "execution_count": 3,
      "outputs": [
        {
          "output_type": "execute_result",
          "data": {
            "text/plain": [
              "(67.26506308375339, 73.01545024957993)"
            ]
          },
          "metadata": {},
          "execution_count": 3
        }
      ]
    },
    {
      "cell_type": "markdown",
      "source": [
        "Podemos afirmar, com 95% de confiança, que a média salarial das pessoas está no intervalo entre 67,26 e 73,01 dólares por ano."
      ],
      "metadata": {
        "id": "nQy_pVlGBshU"
      }
    },
    {
      "cell_type": "markdown",
      "source": [
        "# **Distribuição T de Student**"
      ],
      "metadata": {
        "id": "uXw7MVz4CUTX"
      }
    },
    {
      "cell_type": "markdown",
      "source": [
        "Breve resumo:\n",
        "\n",
        "A distribuição t de Student é uma distribuição de probabilidade que é usada para estimar a média de uma população a partir de uma amostra pequena. A distribuição t de Student é uma aproximação da distribuição normal, mas é mais achatada, o que significa que é mais provável de produzir intervalos de confiança mais amplos.\n",
        "\n",
        "Quando Utilizar:\n",
        "\n",
        "- Sempre que se deseja estimar a média de uma população a partir de uma amostra pequena.\n",
        "- Sempre que o desvio padrão populacional é desconhecido."
      ],
      "metadata": {
        "id": "VFQoo8gOC5rb"
      }
    },
    {
      "cell_type": "code",
      "source": [
        "# Em breve!!!"
      ],
      "metadata": {
        "id": "RWzdHnoSGmQw"
      },
      "execution_count": null,
      "outputs": []
    }
  ]
}