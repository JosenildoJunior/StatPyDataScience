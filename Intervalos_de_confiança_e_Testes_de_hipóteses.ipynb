{
  "nbformat": 4,
  "nbformat_minor": 0,
  "metadata": {
    "colab": {
      "provenance": [],
      "collapsed_sections": [
        "22UzuKpIdQuH",
        "EvRLWLyzAaqG",
        "uXw7MVz4CUTX",
        "E8cUNTwVT5Ll",
        "NenvzHzqUHYi"
      ],
      "authorship_tag": "ABX9TyPavMM04ZiVXWKDdVidI87y",
      "include_colab_link": true
    },
    "kernelspec": {
      "name": "python3",
      "display_name": "Python 3"
    },
    "language_info": {
      "name": "python"
    }
  },
  "cells": [
    {
      "cell_type": "markdown",
      "metadata": {
        "id": "view-in-github",
        "colab_type": "text"
      },
      "source": [
        "<a href=\"https://colab.research.google.com/github/JosenildoJunior/StatPyDataScience/blob/main/Intervalos_de_confian%C3%A7a_e_Testes_de_hip%C3%B3teses.ipynb\" target=\"_parent\"><img src=\"https://colab.research.google.com/assets/colab-badge.svg\" alt=\"Open In Colab\"/></a>"
      ]
    },
    {
      "cell_type": "markdown",
      "source": [
        "# **Estatística com Python: Um Guia para Estudos e Solução de Problemas**"
      ],
      "metadata": {
        "id": "8Ch_68GS_Cqd"
      }
    },
    {
      "cell_type": "markdown",
      "source": [
        "\n",
        "## Breve Resumo:\n",
        "\n",
        "Um intervalo de confiança é uma faixa de valores que provavelmente contém o valor verdadeiro de um parâmetro populacional. O intervalo de confiança é calculado a partir de uma amostra de dados e fornece uma medida de incerteza na estimativa do parâmetro populacional.\n",
        "\n",
        "Quando Utilizar:\n",
        "\n",
        "- Sempre que se deseja estimar um parâmetro populacional a partir de uma amostra.\n",
        "- Sempre que se deseja especificar um nível de confiança para a estimativa."
      ],
      "metadata": {
        "id": "dQbh0W40_GPl"
      }
    },
    {
      "cell_type": "markdown",
      "source": [
        "# **Calculando os intervalos de confiança**"
      ],
      "metadata": {
        "id": "22UzuKpIdQuH"
      }
    },
    {
      "cell_type": "markdown",
      "source": [
        "Para exemplificar esses cálculos, será necessário realizar a importação das bibliotecas que serão utilizadas, além de obtermos os dados para aplicação das técnicas dos intervalos."
      ],
      "metadata": {
        "id": "dZhfb_AkdVxG"
      }
    },
    {
      "cell_type": "markdown",
      "source": [
        "Importando as bibliotecas necessárias para o nosso trabalho"
      ],
      "metadata": {
        "id": "BDKbJX5idrP7"
      }
    },
    {
      "cell_type": "code",
      "execution_count": 1,
      "metadata": {
        "id": "stOtu4iT8yL2"
      },
      "outputs": [],
      "source": [
        "# Manipulação de dados\n",
        "import pandas as pd\n",
        "\n",
        "# Álgebra  linear\n",
        "import numpy as np\n",
        "\n",
        "# Funções estatísticas\n",
        "from scipy.stats import norm\n",
        "from scipy import stats\n",
        "\n",
        "# Visualização de dados\n",
        "import seaborn as sns\n",
        "\n",
        "# Biblioteca para cálculos matématicos\n",
        "import math"
      ]
    },
    {
      "cell_type": "markdown",
      "source": [
        "Agora que as importações já foram realizadas, vamos gerar dados fictícios."
      ],
      "metadata": {
        "id": "uVZN1k8keeU2"
      }
    },
    {
      "cell_type": "code",
      "source": [
        "# Armazenando os dados\n",
        "dados = np.array([126. , 129.5, 133. , 133. , 136.5, 136.5, 140. , 140. , 140. ,\n",
        "                  140. , 143.5, 143.5, 143.5, 143.5, 143.5, 143.5, 147. , 147. ,\n",
        "                  147. , 147. , 147. , 147. , 147. , 150.5, 150.5, 150.5, 150.5,\n",
        "                  150.5, 150.5, 150.5, 150.5, 154. , 154. , 154. , 154. , 154. ,\n",
        "                  154. , 154. , 154. , 154. , 157.5, 157.5, 157.5, 157.5, 157.5,\n",
        "                  157.5, 157.5, 157.5, 157.5, 157.5, 161. , 161. , 161. , 161. ,\n",
        "                  161. , 161. , 161. , 161. , 161. , 161. , 164.5, 164.5, 164.5,\n",
        "                  164.5, 164.5, 164.5, 164.5, 164.5, 164.5, 168. , 168. , 168. ,\n",
        "                  168. , 168. , 168. , 168. , 168. , 171.5, 171.5, 171.5, 171.5,\n",
        "                  171.5, 171.5, 171.5, 175. , 175. , 175. , 175. , 175. , 175. ,\n",
        "                  178.5, 178.5, 178.5, 178.5, 182. , 182. , 185.5, 185.5, 189., 192.5])"
      ],
      "metadata": {
        "id": "ErzocXpkep3c"
      },
      "execution_count": null,
      "outputs": []
    },
    {
      "cell_type": "markdown",
      "source": [
        "Agora que temos nossos dados, podemos seguir para a parte do cálculo propriamente dita. Para isso, seguiremos os seguintes passos:\n",
        "\n",
        "- Criaremos uma variável para armazenar os intervalos.\n",
        "- Utilizaremos a função norm.interval, passando como parâmetros o nível de confiança desejado, que nesse caso é de 95%.\n",
        "- Passaremos também a média dos dados.\n",
        "- Por último, utilizaremos a função scipy.stats, que calcula o erro padrão da média para um conjunto de dados."
      ],
      "metadata": {
        "id": "ocOS6bcrfWJQ"
      }
    },
    {
      "cell_type": "code",
      "source": [
        "# Realizando o cálculo dos intervalos de confiança\n",
        "intervalos = norm.interval(0.95, dados.mean(), stats.sem(dados))\n",
        "\n",
        "# Exbindo os intervalos\n",
        "intervalos"
      ],
      "metadata": {
        "colab": {
          "base_uri": "https://localhost:8080/"
        },
        "id": "rZZhOZj1e6wZ",
        "outputId": "b54985f4-9f26-4b0a-ca24-7c999e4c81ff"
      },
      "execution_count": null,
      "outputs": [
        {
          "output_type": "execute_result",
          "data": {
            "text/plain": [
              "(156.5611712378229, 161.9388287621771)"
            ]
          },
          "metadata": {},
          "execution_count": 5
        }
      ]
    },
    {
      "cell_type": "markdown",
      "source": [
        "Dessa forma, podemos afirmar com 95% de certeza que a média populacional desses dados estará entre 156,56 e 161,93 cm, pois essa base se trata de uma base de altura."
      ],
      "metadata": {
        "id": "hv78rEB7gbgh"
      }
    },
    {
      "cell_type": "code",
      "source": [
        "# Calculando a margem de erro\n",
        "margem_erro = dados.mean() - intervalos[0]\n",
        "\n",
        "# Exibindo a margem\n",
        "margem_erro"
      ],
      "metadata": {
        "colab": {
          "base_uri": "https://localhost:8080/"
        },
        "id": "JlFIP_PfiHAr",
        "outputId": "3ff2b0c5-4d0b-4e37-fbf2-6c3253def943"
      },
      "execution_count": null,
      "outputs": [
        {
          "output_type": "execute_result",
          "data": {
            "text/plain": [
              "2.68882876217711"
            ]
          },
          "metadata": {},
          "execution_count": 6
        }
      ]
    },
    {
      "cell_type": "markdown",
      "source": [
        "Podemos observar que temos uma margem de erro de aproximadamente 2,68 unidades. Isso indica que, nesse caso, temos 95% de certeza de que a média populacional está dentro de aproximadamente 2,68 unidades da média amostral."
      ],
      "metadata": {
        "id": "rBo0MTVvj0xw"
      }
    },
    {
      "cell_type": "markdown",
      "source": [
        "Vamos observar o que acontece se aumentarmos o valor do intervalo de confiança."
      ],
      "metadata": {
        "id": "4MC1w1AOkMT1"
      }
    },
    {
      "cell_type": "code",
      "source": [
        "# Realizando o cálculo dos intervalos de confiança\n",
        "intervalos = norm.interval(0.99, dados.mean(), stats.sem(dados))\n",
        "\n",
        "# Exbindo os intervalos\n",
        "intervalos"
      ],
      "metadata": {
        "colab": {
          "base_uri": "https://localhost:8080/"
        },
        "id": "dNB6qVwfjD1l",
        "outputId": "15b42c7e-f7e2-4979-9e43-2f6cf4c97f4a"
      },
      "execution_count": null,
      "outputs": [
        {
          "output_type": "execute_result",
          "data": {
            "text/plain": [
              "(155.71628000694295, 162.78371999305705)"
            ]
          },
          "metadata": {},
          "execution_count": 7
        }
      ]
    },
    {
      "cell_type": "markdown",
      "source": [
        "Podemos observar que, ao aumentar o intervalo de confiança, aumentamos também o intervalo de valores possíveis para a média populacional. Com 99% de certeza, podemos afirmar que a média populacional está entre 155,71 e 162,78."
      ],
      "metadata": {
        "id": "8JXX8ITmkfrD"
      }
    },
    {
      "cell_type": "markdown",
      "source": [
        "Vamos observar agora a margem de erro."
      ],
      "metadata": {
        "id": "84Cqj14Uk5Vv"
      }
    },
    {
      "cell_type": "code",
      "source": [
        "# Calculando a margem de erro\n",
        "margem_erro = dados.mean() - intervalos[0]\n",
        "\n",
        "# Exibindo a margem\n",
        "margem_erro"
      ],
      "metadata": {
        "colab": {
          "base_uri": "https://localhost:8080/"
        },
        "id": "0I4fHwxNjFTz",
        "outputId": "b6de4aff-84d1-4c1d-93cc-47889580a777"
      },
      "execution_count": null,
      "outputs": [
        {
          "output_type": "execute_result",
          "data": {
            "text/plain": [
              "3.5337199930570478"
            ]
          },
          "metadata": {},
          "execution_count": 8
        }
      ]
    },
    {
      "cell_type": "markdown",
      "source": [
        "Obtivemos uma margem de erro de 3,53. Como o intervalo de confiança aumentou, a margem de erro também aumentou. Isso significa que *um nível de confiança mais alto oferece uma garantia maior, mas ao custo de uma margem de erro mais ampla, o que torna a estimativa menos precisa.*"
      ],
      "metadata": {
        "id": "uNMzgZkDk7OX"
      }
    },
    {
      "cell_type": "markdown",
      "source": [
        "## Exercício"
      ],
      "metadata": {
        "id": "EvRLWLyzAaqG"
      }
    },
    {
      "cell_type": "markdown",
      "source": [
        "Imaginemos o seguinte exercício: digamos que temos em mãos os seguintes dados de salários anuais em dólares por ano."
      ],
      "metadata": {
        "id": "raxWp1LIAlKL"
      }
    },
    {
      "cell_type": "code",
      "source": [
        "# Gerando os dados\n",
        "dados_salario = np.array([82.1191, 72.8014, 79.1266, 71.3552, 59.192 , 79.1952, 56.518 ,\n",
        "                          70.3752, 73.5364, 61.0407, 64.3902, 66.4076, 63.5215, 71.9936,\n",
        "                          60.1489, 78.5932, 76.0459, 67.7726, 64.6149, 80.1948, 76.7998,\n",
        "                          76.1831, 80.7065, 62.4953, 57.204 , 62.5408, 80.0982, 63.287 ,\n",
        "                          66.5826, 79.3674])"
      ],
      "metadata": {
        "id": "-V8lo2RBAmeT"
      },
      "execution_count": null,
      "outputs": []
    },
    {
      "cell_type": "markdown",
      "source": [
        "Agora, nossa tarefa é realizar os cálculos dos intervalos de confiança."
      ],
      "metadata": {
        "id": "mbCjajpWBJu2"
      }
    },
    {
      "cell_type": "code",
      "source": [
        "# Realizando o cálculo dos intervalos de confiança\n",
        "intervalos = norm.interval(0.95, dados_salario.mean(), stats.sem(dados_salario))\n",
        "\n",
        "# Exbindo os intervalos\n",
        "intervalos"
      ],
      "metadata": {
        "colab": {
          "base_uri": "https://localhost:8080/"
        },
        "id": "1NQv9mk1Bbv8",
        "outputId": "0e78d717-b771-4e6c-a01e-1bf373aa4a9e"
      },
      "execution_count": null,
      "outputs": [
        {
          "output_type": "execute_result",
          "data": {
            "text/plain": [
              "(67.26506308375339, 73.01545024957993)"
            ]
          },
          "metadata": {},
          "execution_count": 3
        }
      ]
    },
    {
      "cell_type": "markdown",
      "source": [
        "Podemos afirmar, com 95% de confiança, que a média salarial das pessoas está no intervalo entre 67,26 e 73,01 dólares por ano."
      ],
      "metadata": {
        "id": "nQy_pVlGBshU"
      }
    },
    {
      "cell_type": "markdown",
      "source": [
        "# **Distribuição T de Student**"
      ],
      "metadata": {
        "id": "uXw7MVz4CUTX"
      }
    },
    {
      "cell_type": "markdown",
      "source": [
        "Breve resumo:\n",
        "\n",
        "A distribuição t de Student é uma distribuição de probabilidade que é usada para estimar a média de uma população a partir de uma amostra pequena. A distribuição t de Student é uma aproximação da distribuição normal, mas é mais achatada, o que significa que é mais provável de produzir intervalos de confiança mais amplos.\n",
        "\n",
        "Quando Utilizar:\n",
        "\n",
        "- Sempre que se deseja estimar a média de uma população a partir de uma amostra pequena (30 números).\n",
        "- Sempre que o desvio padrão populacional é desconhecido."
      ],
      "metadata": {
        "id": "VFQoo8gOC5rb"
      }
    },
    {
      "cell_type": "markdown",
      "source": [
        "Para exemplificação dessa distribuição vamos gerar alguns dados que serão utilizados"
      ],
      "metadata": {
        "id": "rk632BvIFb-3"
      }
    },
    {
      "cell_type": "code",
      "source": [
        "# Gerando os dados\n",
        "dados = np.array([149. , 160., 147., 189., 175., 168., 156., 160., 152.])"
      ],
      "metadata": {
        "id": "RWzdHnoSGmQw"
      },
      "execution_count": 2,
      "outputs": []
    },
    {
      "cell_type": "markdown",
      "source": [
        "Para aplicar o calculo dessa distribuição vamos realizar a seguinte importação"
      ],
      "metadata": {
        "id": "dq6N86hiFvhK"
      }
    },
    {
      "cell_type": "code",
      "source": [
        "# Funções para analisar uma distribuição T\n",
        "from scipy.stats import t"
      ],
      "metadata": {
        "id": "kcDDabMqFzDC"
      },
      "execution_count": 3,
      "outputs": []
    },
    {
      "cell_type": "markdown",
      "source": [
        "Com a importação realizada podemos chamar a função e aplica-lá, para isso seguiremos os seguintes passos, primeiro iremos criar uma variavel para armazenar os intervalos, apos isso vamos chamar a função t.interval, passaremos como parametros o intervalo de confiança, apos isso vamos passar o tamanho do nosso dataset, apos isso passaremos a média e por fim passaremos o desvio padrão da amostra, corrigido para o grau de liberdade"
      ],
      "metadata": {
        "id": "LHGTZVN6GT0X"
      }
    },
    {
      "cell_type": "code",
      "source": [
        "# Calculando os intervalos para essa distribuição\n",
        "intervalos = t.interval(0.95, len(dados) - 1, dados.mean(), stats.sem(dados, ddof = 0))\n",
        "\n",
        "# Exibindo os intervalos\n",
        "intervalos"
      ],
      "metadata": {
        "colab": {
          "base_uri": "https://localhost:8080/"
        },
        "id": "GDvXpQa3GYqd",
        "outputId": "d6da7d28-5b84-419a-c304-cc29a3a51bd3"
      },
      "execution_count": 4,
      "outputs": [
        {
          "output_type": "execute_result",
          "data": {
            "text/plain": [
              "(151.9488554388298, 171.60670011672573)"
            ]
          },
          "metadata": {},
          "execution_count": 4
        }
      ]
    },
    {
      "cell_type": "markdown",
      "source": [
        "Agora vamos observar a margem de erro"
      ],
      "metadata": {
        "id": "CMEu60bpHe9X"
      }
    },
    {
      "cell_type": "code",
      "source": [
        "# Calculando a margem de erro\n",
        "margem_erro = dados.mean() - intervalos[0]\n",
        "\n",
        "# Exibindo a margem\n",
        "margem_erro"
      ],
      "metadata": {
        "colab": {
          "base_uri": "https://localhost:8080/"
        },
        "id": "Nd4TI-KAHf9-",
        "outputId": "0385427f-bcba-4f10-a18f-be738dd9b45a"
      },
      "execution_count": 5,
      "outputs": [
        {
          "output_type": "execute_result",
          "data": {
            "text/plain": [
              "9.828922338947962"
            ]
          },
          "metadata": {},
          "execution_count": 5
        }
      ]
    },
    {
      "cell_type": "markdown",
      "source": [
        "# **Intervalo de confiança e classificação**"
      ],
      "metadata": {
        "id": "qae6OJmgK2E1"
      }
    },
    {
      "cell_type": "markdown",
      "source": [
        "Vamos observar como utilizar intervalos de confiança para nos auxiliar a analisar o desempenho de modelos de classificação"
      ],
      "metadata": {
        "id": "rPfXqBQiLRCS"
      }
    },
    {
      "cell_type": "markdown",
      "source": [
        "Para isso utilizaremos uma base de dados que já foi utilizada antes e como já fizemos as etapas de pré procvessamento anteriormente nessa parte vou avançar um pouco mais rapido para focarmos relamente nas avaliações dos modelos"
      ],
      "metadata": {
        "id": "4O2CBxnDLoq4"
      }
    },
    {
      "cell_type": "markdown",
      "source": [
        "**Realizando as importações necessarias**"
      ],
      "metadata": {
        "id": "Yqbz0z68MARN"
      }
    },
    {
      "cell_type": "code",
      "source": [
        "# Manipulação de dados\n",
        "import pandas as pd\n",
        "\n",
        "# Modelos de Machine Learning\n",
        "from sklearn.naive_bayes import GaussianNB\n",
        "from sklearn.linear_model import LogisticRegression\n",
        "from sklearn.ensemble import RandomForestClassifier\n",
        "\n",
        "# Avaliação de modelo\n",
        "from sklearn.metrics import accuracy_score\n",
        "\n",
        "# Importando a validação cruzada\n",
        "from sklearn.model_selection import cross_val_score, KFold"
      ],
      "metadata": {
        "id": "UTqKaKcEMdNS"
      },
      "execution_count": 6,
      "outputs": []
    },
    {
      "cell_type": "markdown",
      "source": [
        "**Carregando os dados**"
      ],
      "metadata": {
        "id": "1uEw_43UNj2S"
      }
    },
    {
      "cell_type": "code",
      "source": [
        "# Acesso ao drive\n",
        "from google.colab import drive\n",
        "drive.mount('/content/drive')"
      ],
      "metadata": {
        "colab": {
          "base_uri": "https://localhost:8080/"
        },
        "id": "NWez6jynNrup",
        "outputId": "ec744c6a-0355-48d9-f2e6-5c2b84eebf89"
      },
      "execution_count": 7,
      "outputs": [
        {
          "output_type": "stream",
          "name": "stdout",
          "text": [
            "Mounted at /content/drive\n"
          ]
        }
      ]
    },
    {
      "cell_type": "code",
      "source": [
        "# Importando o dataset\n",
        "df = pd.read_csv('/content/drive/MyDrive/Estatística para ciência de dados/credit_data.csv')"
      ],
      "metadata": {
        "id": "CIfU1GI9Nt8h"
      },
      "execution_count": 8,
      "outputs": []
    },
    {
      "cell_type": "markdown",
      "source": [
        "**Pré-Processamento**"
      ],
      "metadata": {
        "id": "vlFpLWjWNxpg"
      }
    },
    {
      "cell_type": "code",
      "source": [
        "# Removendo a coluna 'i#clientid' do Dataset\n",
        "df = df.drop('i#clientid', axis = 1)\n",
        "\n",
        "# Excluindo linhas com valores ausentes\n",
        "df = df.dropna()"
      ],
      "metadata": {
        "id": "nVXFWvNyN4oQ"
      },
      "execution_count": 9,
      "outputs": []
    },
    {
      "cell_type": "markdown",
      "source": [
        "**Separando os dados.**"
      ],
      "metadata": {
        "id": "OSBj_a2GOBbP"
      }
    },
    {
      "cell_type": "code",
      "source": [
        "# Separando os dados em X e Y\n",
        "\n",
        "# Variaveis preditoras\n",
        "X = df.drop('c#default', axis = 1)\n",
        "\n",
        "# Variavel resposta\n",
        "y = df['c#default']"
      ],
      "metadata": {
        "id": "-SgwqZE_OKd-"
      },
      "execution_count": 10,
      "outputs": []
    },
    {
      "cell_type": "code",
      "source": [
        "# Criando a lista para armazenar os resultado do Naive Bayes\n",
        "resultados_naive_bayes_cv = []\n",
        "\n",
        "# Criando a lista para armazenar os resultado do Naive Bayes recebendo o Kfold\n",
        "resultados_naive_bayes_cv_300 = []\n",
        "\n",
        "# Criando a lista para armazenar os resultado da Logistic Regression\n",
        "resultados_logistica_cv = []\n",
        "\n",
        "# Criando a lista para armazenar os resultado do Logistic Regression recebendo o Kfold\n",
        "resultados_logistica_cv_300 = []\n",
        "\n",
        "# Criando a lista para armazenar os resultado do Random Forest\n",
        "resultados_forest_cv = []\n",
        "\n",
        "# Criando a lista para armazenar os resultado do Random Forest recebendo o Kfold\n",
        "resultados_forest_cv_300 = []"
      ],
      "metadata": {
        "id": "b2yGFoJ2ORAl"
      },
      "execution_count": 11,
      "outputs": []
    },
    {
      "cell_type": "markdown",
      "source": [
        "Criando um laço de repetição para testar cada modelo 30 vezes, para, no final, armazenar os resultados das predições nas listas e obter suas métricas."
      ],
      "metadata": {
        "id": "MLZNgAvxPKnH"
      }
    },
    {
      "cell_type": "code",
      "source": [
        "# Criando o laço\n",
        "for i in range(30):\n",
        "\n",
        " # Aplicando o KFold para fazer com que cada modelo seja testado 10 vezes enquanto o laço garante que isso rode 30 vezes\n",
        "  kfold = KFold(n_splits = 10, shuffle = True, random_state = i)\n",
        "\n",
        "  # Criando o modelo\n",
        "  naive_bayes = GaussianNB()\n",
        "\n",
        "  # Aplicando a validação cruzada\n",
        "  scores = cross_val_score(naive_bayes, X, y, cv = kfold)\n",
        "\n",
        "  # Armazenando os resultados na lista criada anteriormente\n",
        "  resultados_naive_bayes_cv_300.append(scores)\n",
        "  resultados_naive_bayes_cv.append(scores.mean())\n",
        "\n",
        "  # Criando o modelo\n",
        "  logistica = LogisticRegression()\n",
        "\n",
        "  # Aplicando a validação cruzada\n",
        "  scores = cross_val_score(logistica, X, y, cv = kfold)\n",
        "\n",
        "  # Armazenando os resultados na lista criada anteriormente\n",
        "  resultados_logistica_cv_300.append(scores)\n",
        "  resultados_logistica_cv.append(scores.mean())\n",
        "\n",
        "  # Criando o modelo\n",
        "  random_forest = RandomForestClassifier()\n",
        "\n",
        "  # Aplicando a validação cruzada\n",
        "  scores = cross_val_score(random_forest, X, y, cv = kfold)\n",
        "\n",
        "  # Armazenando os resultados na lista criada anteriormente\n",
        "  resultados_forest_cv_300.append(scores)\n",
        "  resultados_forest_cv.append(scores.mean())"
      ],
      "metadata": {
        "id": "zpYsF84ZPQrV"
      },
      "execution_count": 12,
      "outputs": []
    },
    {
      "cell_type": "markdown",
      "source": [
        "Agora que já colocamos os modelos para funcionar vamos observar os resultados de cada modelo"
      ],
      "metadata": {
        "id": "wlnyDH5dQ9DC"
      }
    },
    {
      "cell_type": "code",
      "source": [
        "# Exibindo os resultados\n",
        "print(resultados_naive_bayes_cv)"
      ],
      "metadata": {
        "colab": {
          "base_uri": "https://localhost:8080/"
        },
        "id": "8-IG_J5FQz_T",
        "outputId": "3ca10633-9808-4ba2-b2fb-aa3f3e6e370f"
      },
      "execution_count": 13,
      "outputs": [
        {
          "output_type": "stream",
          "name": "stdout",
          "text": [
            "[0.9248618090452261, 0.9249170854271356, 0.9248894472361808, 0.9228819095477387, 0.9248718592964824, 0.9253894472361809, 0.9243844221105528, 0.9248894472361808, 0.9248718592964824, 0.9238894472361808, 0.9253844221105527, 0.9244020100502512, 0.9253743718592965, 0.924394472361809, 0.9253869346733667, 0.9248819095477387, 0.9258844221105527, 0.924894472361809, 0.9238819095477387, 0.9258844221105529, 0.9258944723618091, 0.9253894472361811, 0.92436432160804, 0.9263844221105527, 0.9228944723618092, 0.9253894472361809, 0.9248869346733668, 0.9253919597989949, 0.9253819095477386, 0.9258844221105527]\n"
          ]
        }
      ]
    },
    {
      "cell_type": "code",
      "source": [
        "# Exibindo os resultados\n",
        "print(resultados_naive_bayes_cv_300)"
      ],
      "metadata": {
        "colab": {
          "base_uri": "https://localhost:8080/"
        },
        "id": "ByEPoutdRycc",
        "outputId": "e5f6ea52-7e09-44d7-9262-c8938c1c7a3e"
      },
      "execution_count": 14,
      "outputs": [
        {
          "output_type": "stream",
          "name": "stdout",
          "text": [
            "[array([0.91      , 0.93      , 0.96      , 0.925     , 0.94      ,\n",
            "       0.895     , 0.965     , 0.89949749, 0.87939698, 0.94472362]), array([0.92      , 0.945     , 0.895     , 0.92      , 0.915     ,\n",
            "       0.93      , 0.89      , 0.94974874, 0.93467337, 0.94974874]), array([0.93      , 0.89      , 0.94      , 0.935     , 0.905     ,\n",
            "       0.935     , 0.935     , 0.91959799, 0.94472362, 0.91457286]), array([0.91      , 0.945     , 0.95      , 0.94      , 0.92      ,\n",
            "       0.9       , 0.9       , 0.90954774, 0.91959799, 0.93467337]), array([0.96      , 0.93      , 0.94      , 0.905     , 0.935     ,\n",
            "       0.93      , 0.905     , 0.90452261, 0.89949749, 0.93969849]), array([0.915     , 0.91      , 0.945     , 0.945     , 0.9       ,\n",
            "       0.935     , 0.925     , 0.96482412, 0.89949749, 0.91457286]), array([0.955     , 0.935     , 0.915     , 0.94      , 0.905     ,\n",
            "       0.9       , 0.925     , 0.92462312, 0.92462312, 0.91959799]), array([0.94      , 0.92      , 0.925     , 0.915     , 0.905     ,\n",
            "       0.935     , 0.93      , 0.91457286, 0.92462312, 0.93969849]), array([0.915     , 0.93      , 0.905     , 0.94      , 0.935     ,\n",
            "       0.955     , 0.925     , 0.91457286, 0.91457286, 0.91457286]), array([0.895     , 0.885     , 0.925     , 0.935     , 0.955     ,\n",
            "       0.935     , 0.93      , 0.92964824, 0.91959799, 0.92964824]), array([0.92      , 0.93      , 0.935     , 0.95      , 0.905     ,\n",
            "       0.905     , 0.94      , 0.91959799, 0.89949749, 0.94974874]), array([0.945     , 0.92      , 0.925     , 0.89      , 0.935     ,\n",
            "       0.9       , 0.925     , 0.92462312, 0.94472362, 0.93467337]), array([0.93      , 0.92      , 0.93      , 0.945     , 0.935     ,\n",
            "       0.93      , 0.915     , 0.92964824, 0.91457286, 0.90452261]), array([0.91      , 0.94      , 0.93      , 0.88      , 0.945     ,\n",
            "       0.9       , 0.95      , 0.93969849, 0.93467337, 0.91457286]), array([0.92      , 0.915     , 0.945     , 0.935     , 0.885     ,\n",
            "       0.945     , 0.935     , 0.93467337, 0.92462312, 0.91457286]), array([0.9       , 0.95      , 0.955     , 0.895     , 0.96      ,\n",
            "       0.935     , 0.89      , 0.90452261, 0.91959799, 0.93969849]), array([0.925     , 0.92      , 0.94      , 0.93      , 0.935     ,\n",
            "       0.93      , 0.91      , 0.90954774, 0.90954774, 0.94974874]), array([0.95      , 0.93      , 0.94      , 0.935     , 0.9       ,\n",
            "       0.895     , 0.91      , 0.94472362, 0.90954774, 0.93467337]), array([0.925     , 0.92      , 0.92      , 0.935     , 0.905     ,\n",
            "       0.94      , 0.93      , 0.91457286, 0.91457286, 0.93467337]), array([0.94      , 0.925     , 0.905     , 0.96      , 0.915     ,\n",
            "       0.915     , 0.93      , 0.90954774, 0.94974874, 0.90954774]), array([0.895     , 0.9       , 0.94      , 0.9       , 0.94      ,\n",
            "       0.935     , 0.96      , 0.89949749, 0.93467337, 0.95477387]), array([0.93      , 0.94      , 0.915     , 0.955     , 0.925     ,\n",
            "       0.9       , 0.91      , 0.89447236, 0.92462312, 0.95979899]), array([0.945     , 0.9       , 0.93      , 0.95      , 0.945     ,\n",
            "       0.93      , 0.915     , 0.91457286, 0.88944724, 0.92462312]), array([0.92      , 0.925     , 0.925     , 0.94      , 0.915     ,\n",
            "       0.91      , 0.96      , 0.94974874, 0.89949749, 0.91959799]), array([0.91      , 0.92      , 0.925     , 0.895     , 0.925     ,\n",
            "       0.92      , 0.945     , 0.92964824, 0.90954774, 0.94974874]), array([0.92      , 0.925     , 0.91      , 0.93      , 0.905     ,\n",
            "       0.945     , 0.94      , 0.92462312, 0.92964824, 0.92462312]), array([0.935     , 0.91      , 0.93      , 0.96      , 0.9       ,\n",
            "       0.91      , 0.93      , 0.91457286, 0.93969849, 0.91959799]), array([0.95      , 0.91      , 0.915     , 0.905     , 0.925     ,\n",
            "       0.93      , 0.935     , 0.92462312, 0.91959799, 0.93969849]), array([0.94      , 0.915     , 0.945     , 0.925     , 0.93      ,\n",
            "       0.92      , 0.915     , 0.90452261, 0.90954774, 0.94974874]), array([0.935     , 0.92      , 0.91      , 0.925     , 0.91      ,\n",
            "       0.93      , 0.96      , 0.91457286, 0.92964824, 0.92462312])]\n"
          ]
        }
      ]
    },
    {
      "cell_type": "markdown",
      "source": [
        "Podemos observar que por ter utilizado diferentes metodos para armazenar esses dados eles se apresentam em diferentes tipos, para podermos observar visualmente uma distribuição utilizando o seaborn será necessario realizar algumas conversções como veremos a seguir"
      ],
      "metadata": {
        "id": "Fo1mNWosSIbw"
      }
    },
    {
      "cell_type": "markdown",
      "source": [
        "*Convertendo lista para Array*"
      ],
      "metadata": {
        "id": "QozP79dHTbcx"
      }
    },
    {
      "cell_type": "code",
      "source": [
        "# Convertendo todas as listas dos resultados para Arrays\n",
        "resultados_naive_bayes_cv = np.array(resultados_naive_bayes_cv)\n",
        "resultados_naive_bayes_cv_300 = np.array(np.asarray(resultados_naive_bayes_cv_300).reshape(-1))\n",
        "resultados_logistica_cv = np.array(resultados_logistica_cv)\n",
        "resultados_logistica_cv_300 = np.array(np.asarray(resultados_logistica_cv_300).reshape(-1))\n",
        "resultados_forest_cv = np.array(resultados_forest_cv)\n",
        "resultados_forest_cv_300 = np.array(np.asarray(resultados_forest_cv_300).reshape(-1))"
      ],
      "metadata": {
        "id": "wIs5WG6zSWYH"
      },
      "execution_count": 19,
      "outputs": []
    },
    {
      "cell_type": "markdown",
      "source": [
        "## **Gerando as distirbuições Naive Bayes**"
      ],
      "metadata": {
        "id": "UyElQ5mLTlWm"
      }
    },
    {
      "cell_type": "code",
      "source": [
        "# Gerando a distribuição\n",
        "sns.histplot(resultados_naive_bayes_cv, kde = True);"
      ],
      "metadata": {
        "colab": {
          "base_uri": "https://localhost:8080/",
          "height": 430
        },
        "id": "yYysh_BZTotn",
        "outputId": "82a8f8d9-8daf-496d-9df2-3b900e5b3a5e"
      },
      "execution_count": 31,
      "outputs": [
        {
          "output_type": "display_data",
          "data": {
            "text/plain": [
              "<Figure size 640x480 with 1 Axes>"
            ],
            "image/png": "[encoded data removed]"
          },
          "metadata": {}
        }
      ]
    },
    {
      "cell_type": "code",
      "source": [
        "# Gerando a distribuição\n",
        "sns.histplot(resultados_naive_bayes_cv_300, kde = True);"
      ],
      "metadata": {
        "colab": {
          "base_uri": "https://localhost:8080/",
          "height": 430
        },
        "id": "VXqDDSFoTq2_",
        "outputId": "ca8db5c0-5af3-482e-b17b-86b12417533d"
      },
      "execution_count": 30,
      "outputs": [
        {
          "output_type": "display_data",
          "data": {
            "text/plain": [
              "<Figure size 640x480 with 1 Axes>"
            ],
            "image/png": "[encoded data removed]"
          },
          "metadata": {}
        }
      ]
    },
    {
      "cell_type": "markdown",
      "source": [
        "Podemos observar um detalhe interessente,"
      ],
      "metadata": {
        "id": "5QSm8NcDUun_"
      }
    },
    {
      "cell_type": "markdown",
      "source": [
        "## **Gerando as distirbuições Logistic Regression**"
      ],
      "metadata": {
        "id": "E8cUNTwVT5Ll"
      }
    },
    {
      "cell_type": "code",
      "source": [
        "# Gerando a distribuição\n",
        "sns.histplot(resultados_logistica_cv, kde = True);"
      ],
      "metadata": {
        "colab": {
          "base_uri": "https://localhost:8080/",
          "height": 430
        },
        "id": "-IUczJg4T9oE",
        "outputId": "5e7c2cfa-0277-46fa-a5fc-c776fda58111"
      },
      "execution_count": 29,
      "outputs": [
        {
          "output_type": "display_data",
          "data": {
            "text/plain": [
              "<Figure size 640x480 with 1 Axes>"
            ],
            "image/png": "[encoded data removed]"
          },
          "metadata": {}
        }
      ]
    },
    {
      "cell_type": "code",
      "source": [
        "# Gerando a distribuição\n",
        "sns.histplot(resultados_logistica_cv_300, kde = True);"
      ],
      "metadata": {
        "colab": {
          "base_uri": "https://localhost:8080/",
          "height": 430
        },
        "id": "y34IXskiUBNL",
        "outputId": "a596d2f0-56c0-41d4-a8d3-e8dec02354ff"
      },
      "execution_count": 28,
      "outputs": [
        {
          "output_type": "display_data",
          "data": {
            "text/plain": [
              "<Figure size 640x480 with 1 Axes>"
            ],
            "image/png": "[encoded data removed]"
          },
          "metadata": {}
        }
      ]
    },
    {
      "cell_type": "markdown",
      "source": [
        "## **Gerando as distirbuições Random Forest**"
      ],
      "metadata": {
        "id": "NenvzHzqUHYi"
      }
    },
    {
      "cell_type": "code",
      "source": [
        "# Gerando a distribuição\n",
        "sns.histplot(resultados_forest_cv, kde = True);"
      ],
      "metadata": {
        "colab": {
          "base_uri": "https://localhost:8080/",
          "height": 430
        },
        "id": "Ew-TzaomUMDh",
        "outputId": "4805690c-f3a8-4191-dd48-2d1173a29929"
      },
      "execution_count": 27,
      "outputs": [
        {
          "output_type": "display_data",
          "data": {
            "text/plain": [
              "<Figure size 640x480 with 1 Axes>"
            ],
            "image/png": "[encoded data removed]"
          },
          "metadata": {}
        }
      ]
    },
    {
      "cell_type": "code",
      "source": [
        "# Gerando a distribuição\n",
        "sns.histplot(resultados_forest_cv_300, kde = True, bins=5);"
      ],
      "metadata": {
        "colab": {
          "base_uri": "https://localhost:8080/",
          "height": 430
        },
        "id": "macA_RwxUO-r",
        "outputId": "e5992d87-fcab-4635-afb4-f6775247ad14"
      },
      "execution_count": 32,
      "outputs": [
        {
          "output_type": "display_data",
          "data": {
            "text/plain": [
              "<Figure size 640x480 with 1 Axes>"
            ],
            "image/png": "[encoded data removed]"
          },
          "metadata": {}
        }
      ]
    }
  ]
}