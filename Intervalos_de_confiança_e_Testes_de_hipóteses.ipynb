{
  "nbformat": 4,
  "nbformat_minor": 0,
  "metadata": {
    "colab": {
      "provenance": [],
      "collapsed_sections": [
        "22UzuKpIdQuH"
      ],
      "authorship_tag": "ABX9TyOVqyBK+ydycTqXAnmJO9e8",
      "include_colab_link": true
    },
    "kernelspec": {
      "name": "python3",
      "display_name": "Python 3"
    },
    "language_info": {
      "name": "python"
    }
  },
  "cells": [
    {
      "cell_type": "markdown",
      "metadata": {
        "id": "view-in-github",
        "colab_type": "text"
      },
      "source": [
        "<a href=\"https://colab.research.google.com/github/JosenildoJunior/StatPyDataScience/blob/main/Intervalos_de_confian%C3%A7a_e_Testes_de_hip%C3%B3teses.ipynb\" target=\"_parent\"><img src=\"https://colab.research.google.com/assets/colab-badge.svg\" alt=\"Open In Colab\"/></a>"
      ]
    },
    {
      "cell_type": "markdown",
      "source": [
        "# **Estatística com Python: Um Guia para Estudos e Solução de Problemas**"
      ],
      "metadata": {
        "id": "8Ch_68GS_Cqd"
      }
    },
    {
      "cell_type": "markdown",
      "source": [
        "\n",
        "## Breve Resumo:\n",
        "\n",
        "Um intervalo de confiança é uma faixa de valores que provavelmente contém o valor verdadeiro de um parâmetro populacional. O intervalo de confiança é calculado a partir de uma amostra de dados e fornece uma medida de incerteza na estimativa do parâmetro populacional.\n",
        "\n",
        "Quando Utilizar:\n",
        "\n",
        "- Sempre que se deseja estimar um parâmetro populacional a partir de uma amostra.\n",
        "- Sempre que se deseja especificar um nível de confiança para a estimativa."
      ],
      "metadata": {
        "id": "dQbh0W40_GPl"
      }
    },
    {
      "cell_type": "markdown",
      "source": [
        "# **Calculando os intervalos de confiança**"
      ],
      "metadata": {
        "id": "22UzuKpIdQuH"
      }
    },
    {
      "cell_type": "markdown",
      "source": [
        "Para exemplificarmos esses calculos sera necessario realizar a importação das bibliotecas que serão utilizadas, além de obtermos os dados para aplicação das tecnicas dos intervalos"
      ],
      "metadata": {
        "id": "dZhfb_AkdVxG"
      }
    },
    {
      "cell_type": "markdown",
      "source": [
        "Importando as bibliotecas"
      ],
      "metadata": {
        "id": "BDKbJX5idrP7"
      }
    },
    {
      "cell_type": "code",
      "execution_count": 1,
      "metadata": {
        "id": "stOtu4iT8yL2"
      },
      "outputs": [],
      "source": [
        "# Manipulação de dados\n",
        "import pandas as pd\n",
        "\n",
        "# Álgebra  linear\n",
        "import numpy as np\n",
        "\n",
        "# Funções estatísticas\n",
        "from scipy.stats import norm\n",
        "from scipy import stats\n",
        "\n",
        "# Visualização de dados\n",
        "import seaborn as sns\n",
        "\n",
        "# Biblioteca para cálculos matématicos\n",
        "import math"
      ]
    },
    {
      "cell_type": "markdown",
      "source": [
        "Agora que já foram realizadas as importações vamos gerar dados fictícios"
      ],
      "metadata": {
        "id": "uVZN1k8keeU2"
      }
    },
    {
      "cell_type": "code",
      "source": [
        "# Armazenando os dados\n",
        "dados = np.array([126. , 129.5, 133. , 133. , 136.5, 136.5, 140. , 140. , 140. ,\n",
        "                  140. , 143.5, 143.5, 143.5, 143.5, 143.5, 143.5, 147. , 147. ,\n",
        "                  147. , 147. , 147. , 147. , 147. , 150.5, 150.5, 150.5, 150.5,\n",
        "                  150.5, 150.5, 150.5, 150.5, 154. , 154. , 154. , 154. , 154. ,\n",
        "                  154. , 154. , 154. , 154. , 157.5, 157.5, 157.5, 157.5, 157.5,\n",
        "                  157.5, 157.5, 157.5, 157.5, 157.5, 161. , 161. , 161. , 161. ,\n",
        "                  161. , 161. , 161. , 161. , 161. , 161. , 164.5, 164.5, 164.5,\n",
        "                  164.5, 164.5, 164.5, 164.5, 164.5, 164.5, 168. , 168. , 168. ,\n",
        "                  168. , 168. , 168. , 168. , 168. , 171.5, 171.5, 171.5, 171.5,\n",
        "                  171.5, 171.5, 171.5, 175. , 175. , 175. , 175. , 175. , 175. ,\n",
        "                  178.5, 178.5, 178.5, 178.5, 182. , 182. , 185.5, 185.5, 189., 192.5])"
      ],
      "metadata": {
        "id": "ErzocXpkep3c"
      },
      "execution_count": 4,
      "outputs": []
    },
    {
      "cell_type": "markdown",
      "source": [
        "Agora que já temos nossos dados, podemos seguir para a parte do calculo propriamente dito para isso seguiremos os seguintes passos:\n",
        "\n",
        "- Criaremos uma variavel para armazenar os intervalos\n",
        "- Utilizaremos a função 'norm.interval', onde ela vai receber como parametros o nivel de confiança desejado que nesse caso é de 95%\n",
        "- Passaremos também a média dos dados\n",
        "- E por ultimo utilizaremos a função 'scipy.stats' que calcula o erro padrão da média para um conjunto de dados."
      ],
      "metadata": {
        "id": "ocOS6bcrfWJQ"
      }
    },
    {
      "cell_type": "code",
      "source": [
        "# Realizando o cálculo dos intervalos de confiança\n",
        "intervalos = norm.interval(0.95, dados.mean(), stats.sem(dados))\n",
        "\n",
        "# Exbindo os intervalos\n",
        "intervalos"
      ],
      "metadata": {
        "colab": {
          "base_uri": "https://localhost:8080/"
        },
        "id": "rZZhOZj1e6wZ",
        "outputId": "b54985f4-9f26-4b0a-ca24-7c999e4c81ff"
      },
      "execution_count": 5,
      "outputs": [
        {
          "output_type": "execute_result",
          "data": {
            "text/plain": [
              "(156.5611712378229, 161.9388287621771)"
            ]
          },
          "metadata": {},
          "execution_count": 5
        }
      ]
    },
    {
      "cell_type": "markdown",
      "source": [
        "Dessa forma podemos afirmar com 95% de certeza que a média populacional desses dados estarão entre 156,56 e 161,93cm já que essa base se trata de uma base de altura"
      ],
      "metadata": {
        "id": "hv78rEB7gbgh"
      }
    },
    {
      "cell_type": "code",
      "source": [
        "# Calculando a margem de erro\n",
        "margem_erro = dados.mean() - intervalos[0]\n",
        "\n",
        "# Exibindo a margem\n",
        "margem_erro"
      ],
      "metadata": {
        "colab": {
          "base_uri": "https://localhost:8080/"
        },
        "id": "JlFIP_PfiHAr",
        "outputId": "3ff2b0c5-4d0b-4e37-fbf2-6c3253def943"
      },
      "execution_count": 6,
      "outputs": [
        {
          "output_type": "execute_result",
          "data": {
            "text/plain": [
              "2.68882876217711"
            ]
          },
          "metadata": {},
          "execution_count": 6
        }
      ]
    },
    {
      "cell_type": "markdown",
      "source": [
        "Podemos obsevar que temos uma margem de erro de aproximadamente 2,68 unidades isso indica que nesse caso eu tenho 95% de certeza que a média populacional esta dentro de aproximadamente 2,68 unidade da média amostral"
      ],
      "metadata": {
        "id": "rBo0MTVvj0xw"
      }
    },
    {
      "cell_type": "markdown",
      "source": [
        "Vamos observar o que acontece caso aumentemos o valor do intervalo de confiança"
      ],
      "metadata": {
        "id": "4MC1w1AOkMT1"
      }
    },
    {
      "cell_type": "code",
      "source": [
        "# Realizando o cálculo dos intervalos de confiança\n",
        "intervalos = norm.interval(0.99, dados.mean(), stats.sem(dados))\n",
        "\n",
        "# Exbindo os intervalos\n",
        "intervalos"
      ],
      "metadata": {
        "colab": {
          "base_uri": "https://localhost:8080/"
        },
        "id": "dNB6qVwfjD1l",
        "outputId": "15b42c7e-f7e2-4979-9e43-2f6cf4c97f4a"
      },
      "execution_count": 7,
      "outputs": [
        {
          "output_type": "execute_result",
          "data": {
            "text/plain": [
              "(155.71628000694295, 162.78371999305705)"
            ]
          },
          "metadata": {},
          "execution_count": 7
        }
      ]
    },
    {
      "cell_type": "markdown",
      "source": [
        "Podemos observar que ao aumentar o intervalo de confiança aumentamos o intervalo, agora podemos afimar com 99% de certeza que a média populacional deve ficar aproximadamente entre 155,71 e 162,78"
      ],
      "metadata": {
        "id": "8JXX8ITmkfrD"
      }
    },
    {
      "cell_type": "markdown",
      "source": [
        "Vamos observar agora a margem de erro"
      ],
      "metadata": {
        "id": "84Cqj14Uk5Vv"
      }
    },
    {
      "cell_type": "code",
      "source": [
        "# Calculando a margem de erro\n",
        "margem_erro = dados.mean() - intervalos[0]\n",
        "\n",
        "# Exibindo a margem\n",
        "margem_erro"
      ],
      "metadata": {
        "colab": {
          "base_uri": "https://localhost:8080/"
        },
        "id": "0I4fHwxNjFTz",
        "outputId": "b6de4aff-84d1-4c1d-93cc-47889580a777"
      },
      "execution_count": 8,
      "outputs": [
        {
          "output_type": "execute_result",
          "data": {
            "text/plain": [
              "3.5337199930570478"
            ]
          },
          "metadata": {},
          "execution_count": 8
        }
      ]
    },
    {
      "cell_type": "markdown",
      "source": [
        "Obtivemos uma margem de 3,53, ou seja ao utilizarmos um intervalo de confiança maior, também aumentamos a margem de erro logo podemos deduzir que *um nível de confiança mais alto oferece uma garantia maior, mas ao custo de uma margem de erro mais ampla, o que torna a estimativa menos precisa.*"
      ],
      "metadata": {
        "id": "uNMzgZkDk7OX"
      }
    }
  ]
}