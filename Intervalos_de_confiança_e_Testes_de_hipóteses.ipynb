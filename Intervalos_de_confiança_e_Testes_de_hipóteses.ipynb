{
  "nbformat": 4,
  "nbformat_minor": 0,
  "metadata": {
    "colab": {
      "provenance": [],
      "authorship_tag": "ABX9TyMvXHDCIP+vFEA4J89uL36b",
      "include_colab_link": true
    },
    "kernelspec": {
      "name": "python3",
      "display_name": "Python 3"
    },
    "language_info": {
      "name": "python"
    }
  },
  "cells": [
    {
      "cell_type": "markdown",
      "metadata": {
        "id": "view-in-github",
        "colab_type": "text"
      },
      "source": [
        "<a href=\"https://colab.research.google.com/github/JosenildoJunior/StatPyDataScience/blob/main/Intervalos_de_confian%C3%A7a_e_Testes_de_hip%C3%B3teses.ipynb\" target=\"_parent\"><img src=\"https://colab.research.google.com/assets/colab-badge.svg\" alt=\"Open In Colab\"/></a>"
      ]
    },
    {
      "cell_type": "markdown",
      "source": [
        "# **Estatística com Python: Um Guia para Estudos e Solução de Problemas**"
      ],
      "metadata": {
        "id": "8Ch_68GS_Cqd"
      }
    },
    {
      "cell_type": "markdown",
      "source": [
        "\n",
        "## Breve Resumo:\n",
        "\n",
        "Um intervalo de confiança é uma faixa de valores que provavelmente contém o valor verdadeiro de um parâmetro populacional. O intervalo de confiança é calculado a partir de uma amostra de dados e fornece uma medida de incerteza na estimativa do parâmetro populacional.\n",
        "\n",
        "Quando Utilizar:\n",
        "\n",
        "- Sempre que se deseja estimar um parâmetro populacional a partir de uma amostra.\n",
        "- Sempre que se deseja especificar um nível de confiança para a estimativa."
      ],
      "metadata": {
        "id": "dQbh0W40_GPl"
      }
    },
    {
      "cell_type": "code",
      "execution_count": null,
      "metadata": {
        "id": "stOtu4iT8yL2"
      },
      "outputs": [],
      "source": []
    }
  ]
}