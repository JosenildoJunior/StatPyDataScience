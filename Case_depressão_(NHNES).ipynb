{
  "nbformat": 4,
  "nbformat_minor": 0,
  "metadata": {
    "colab": {
      "provenance": [],
      "collapsed_sections": [
        "kxhXNtGZ-HNi",
        "8IK3cUKUtmiG",
        "I76h0f1dTJ9Q",
        "M4B_HAmFsMay",
        "XwftAn65uwjm",
        "HmMX0HeV2mtj",
        "5CrPEcBd85gw",
        "-azbNNa_cCyE",
        "6Cbxox639c-M",
        "8u7H0KvlRtWi",
        "XH6Z0NZ5SA5_",
        "UHUBY9B3ky6A",
        "cjO3e2N1tWZa",
        "gcxGtoHH_4rM",
        "qHUHjzs4Urx1",
        "FxiAF-tGobQX",
        "Tcp2ZwvtdLvy",
        "6bNZfyHrdyBq",
        "DIbxrLOGfjQZ"
      ],
      "authorship_tag": "ABX9TyPzuc2R0sWtjoOzF5sNo0o8",
      "include_colab_link": true
    },
    "kernelspec": {
      "name": "python3",
      "display_name": "Python 3"
    },
    "language_info": {
      "name": "python"
    }
  },
  "cells": [
    {
      "cell_type": "markdown",
      "metadata": {
        "id": "view-in-github",
        "colab_type": "text"
      },
      "source": [
        "<a href=\"https://colab.research.google.com/github/JosenildoJunior/StatPyDataScience/blob/main/Case_depress%C3%A3o_(NHNES).ipynb\" target=\"_parent\"><img src=\"https://colab.research.google.com/assets/colab-badge.svg\" alt=\"Open In Colab\"/></a>"
      ]
    },
    {
      "cell_type": "markdown",
      "source": [
        "# **Retrato da Depressão nos EUA: Explorando Perfis e Associações com Hábitos de Saúde (2005-2006)**"
      ],
      "metadata": {
        "id": "kxhXNtGZ-HNi"
      }
    },
    {
      "cell_type": "markdown",
      "source": [
        "Os dados para realização desse case são sobre o transtorno depressivo, um problema multifatorial que pode ter várias possíveis combinações de situações como causa.\n",
        "\n",
        "Os dados disponíveis são resultados da NHNES (National Health and Nutrition Examination Survey), realizada anualmente nos EUA para avaliar a saúde e nutrição de adultos e crianças;\n",
        "\n",
        "**O objetivo é responder as seguintes perguntas**:\n",
        "\n",
        "  - Qual o perfil de indivíduos (adultos maiores de 18 anos) com sintomas depressivos nos EUA no período de 2005-2006?\n",
        "\n",
        "  - Hábitos saudáveis de alimentação e atividade física estão associados a menores índices de depressão nesta população?\n"
      ],
      "metadata": {
        "id": "v_19MfRI9cyC"
      }
    },
    {
      "cell_type": "markdown",
      "source": [
        "## **Análise inicial nos dados**"
      ],
      "metadata": {
        "id": "8IK3cUKUtmiG"
      }
    },
    {
      "cell_type": "markdown",
      "source": [
        "Nessa etapa, vamos estabelecer um primeiro contato com os nossos dados. Para começar, vamos responder algumas perguntas:\n",
        "\n",
        "- Quantos dados temos? (Número de linhas e colunas)\n",
        "\n",
        "- Quais são as colunas numéricas?\n",
        "\n",
        "- Temos duplicatas na nossa base de dados? Se sim, vamos removê-las.\n",
        "\n",
        "- Existem dados nulos nesta base de dados? Será que eles indicam algo importante? O que devemos fazer com eles?\n",
        "\n",
        "- Vamos observar o dicionário dos dados.\n",
        "\n",
        "- Qual é a média, mediana, 25º percentil, 75º percentil, mínimo e máximo de cada uma das colunas numéricas?\n"
      ],
      "metadata": {
        "id": "u8yGYQFG0j-j"
      }
    },
    {
      "cell_type": "markdown",
      "source": [
        "Antes de tudo, vamos importar as bibliotecas que serão necessárias para realizarmos nossas análises.\n"
      ],
      "metadata": {
        "id": "Hw9_VJsWtqrl"
      }
    },
    {
      "cell_type": "code",
      "source": [
        "# Manipulação de dados\n",
        "import pandas as pd\n",
        "\n",
        "# Algébra linear\n",
        "import numpy as np\n",
        "\n",
        "# Visualização de dados\n",
        "import matplotlib.pyplot as plt\n",
        "import seaborn as sns\n",
        "\n",
        "# Funções estatísticas\n",
        "import statistics\n",
        "from scipy import stats\n",
        "\n",
        "# Importando o skew\n",
        "from scipy.stats import skew"
      ],
      "metadata": {
        "id": "_0PkXy7D-xCf"
      },
      "execution_count": 1,
      "outputs": []
    },
    {
      "cell_type": "markdown",
      "source": [
        "Agora vamos importar nossos dados.\n"
      ],
      "metadata": {
        "id": "3XgF_Qsnt2V3"
      }
    },
    {
      "cell_type": "code",
      "source": [
        "# Acesso ao drive\n",
        "from google.colab import drive\n",
        "drive.mount('/content/drive')"
      ],
      "metadata": {
        "colab": {
          "base_uri": "https://localhost:8080/"
        },
        "id": "uUlXGUPtt5kL",
        "outputId": "8cc387df-cec7-46e4-d27c-afccf468a6a1"
      },
      "execution_count": 2,
      "outputs": [
        {
          "output_type": "stream",
          "name": "stdout",
          "text": [
            "Mounted at /content/drive\n"
          ]
        }
      ]
    },
    {
      "cell_type": "code",
      "source": [
        "# Importando o dataset\n",
        "df = pd.read_csv('/content/drive/MyDrive/Estatística para ciência de dados/DEMO_PHQ.csv')\n",
        "\n",
        "# Observando os primeiro registros\n",
        "df.head()"
      ],
      "metadata": {
        "colab": {
          "base_uri": "https://localhost:8080/",
          "height": 0
        },
        "id": "Mv4jEdFPwXZ-",
        "outputId": "6e0c6fc1-e263-4778-8937-7af7797a20e5"
      },
      "execution_count": 3,
      "outputs": [
        {
          "output_type": "execute_result",
          "data": {
            "text/plain": [
              "    SEQN  DPQ010  DPQ020  DPQ030  DPQ040  DPQ050  DPQ060  DPQ070  DPQ080  \\\n",
              "0  31130     NaN     NaN     NaN     NaN     NaN     NaN     NaN     NaN   \n",
              "1  31131     0.0     0.0     0.0     0.0     0.0     0.0     0.0     0.0   \n",
              "2  31132     0.0     0.0     0.0     0.0     0.0     0.0     0.0     0.0   \n",
              "3  31134     0.0     0.0     0.0     0.0     0.0     0.0     0.0     0.0   \n",
              "4  31139     0.0     0.0     0.0     0.0     3.0     1.0     0.0     0.0   \n",
              "\n",
              "   DPQ090  RIAGENDR  RIDAGEYR  RIDRETH1  DMDEDUC  INDFMINC  \n",
              "0     NaN         2        85         3        4       4.0  \n",
              "1     0.0         2        44         4        4      11.0  \n",
              "2     0.0         1        70         3        5      11.0  \n",
              "3     0.0         1        73         3        3      12.0  \n",
              "4     0.0         2        18         2        3      11.0  "
            ],
            "text/html": [
              "\n",
              "  <div id=\"df-d387addb-dcb1-47ee-b70d-67021525b834\" class=\"colab-df-container\">\n",
              "    <div>\n",
              "<style scoped>\n",
              "    .dataframe tbody tr th:only-of-type {\n",
              "        vertical-align: middle;\n",
              "    }\n",
              "\n",
              "    .dataframe tbody tr th {\n",
              "        vertical-align: top;\n",
              "    }\n",
              "\n",
              "    .dataframe thead th {\n",
              "        text-align: right;\n",
              "    }\n",
              "</style>\n",
              "<table border=\"1\" class=\"dataframe\">\n",
              "  <thead>\n",
              "    <tr style=\"text-align: right;\">\n",
              "      <th></th>\n",
              "      <th>SEQN</th>\n",
              "      <th>DPQ010</th>\n",
              "      <th>DPQ020</th>\n",
              "      <th>DPQ030</th>\n",
              "      <th>DPQ040</th>\n",
              "      <th>DPQ050</th>\n",
              "      <th>DPQ060</th>\n",
              "      <th>DPQ070</th>\n",
              "      <th>DPQ080</th>\n",
              "      <th>DPQ090</th>\n",
              "      <th>RIAGENDR</th>\n",
              "      <th>RIDAGEYR</th>\n",
              "      <th>RIDRETH1</th>\n",
              "      <th>DMDEDUC</th>\n",
              "      <th>INDFMINC</th>\n",
              "    </tr>\n",
              "  </thead>\n",
              "  <tbody>\n",
              "    <tr>\n",
              "      <th>0</th>\n",
              "      <td>31130</td>\n",
              "      <td>NaN</td>\n",
              "      <td>NaN</td>\n",
              "      <td>NaN</td>\n",
              "      <td>NaN</td>\n",
              "      <td>NaN</td>\n",
              "      <td>NaN</td>\n",
              "      <td>NaN</td>\n",
              "      <td>NaN</td>\n",
              "      <td>NaN</td>\n",
              "      <td>2</td>\n",
              "      <td>85</td>\n",
              "      <td>3</td>\n",
              "      <td>4</td>\n",
              "      <td>4.0</td>\n",
              "    </tr>\n",
              "    <tr>\n",
              "      <th>1</th>\n",
              "      <td>31131</td>\n",
              "      <td>0.0</td>\n",
              "      <td>0.0</td>\n",
              "      <td>0.0</td>\n",
              "      <td>0.0</td>\n",
              "      <td>0.0</td>\n",
              "      <td>0.0</td>\n",
              "      <td>0.0</td>\n",
              "      <td>0.0</td>\n",
              "      <td>0.0</td>\n",
              "      <td>2</td>\n",
              "      <td>44</td>\n",
              "      <td>4</td>\n",
              "      <td>4</td>\n",
              "      <td>11.0</td>\n",
              "    </tr>\n",
              "    <tr>\n",
              "      <th>2</th>\n",
              "      <td>31132</td>\n",
              "      <td>0.0</td>\n",
              "      <td>0.0</td>\n",
              "      <td>0.0</td>\n",
              "      <td>0.0</td>\n",
              "      <td>0.0</td>\n",
              "      <td>0.0</td>\n",
              "      <td>0.0</td>\n",
              "      <td>0.0</td>\n",
              "      <td>0.0</td>\n",
              "      <td>1</td>\n",
              "      <td>70</td>\n",
              "      <td>3</td>\n",
              "      <td>5</td>\n",
              "      <td>11.0</td>\n",
              "    </tr>\n",
              "    <tr>\n",
              "      <th>3</th>\n",
              "      <td>31134</td>\n",
              "      <td>0.0</td>\n",
              "      <td>0.0</td>\n",
              "      <td>0.0</td>\n",
              "      <td>0.0</td>\n",
              "      <td>0.0</td>\n",
              "      <td>0.0</td>\n",
              "      <td>0.0</td>\n",
              "      <td>0.0</td>\n",
              "      <td>0.0</td>\n",
              "      <td>1</td>\n",
              "      <td>73</td>\n",
              "      <td>3</td>\n",
              "      <td>3</td>\n",
              "      <td>12.0</td>\n",
              "    </tr>\n",
              "    <tr>\n",
              "      <th>4</th>\n",
              "      <td>31139</td>\n",
              "      <td>0.0</td>\n",
              "      <td>0.0</td>\n",
              "      <td>0.0</td>\n",
              "      <td>0.0</td>\n",
              "      <td>3.0</td>\n",
              "      <td>1.0</td>\n",
              "      <td>0.0</td>\n",
              "      <td>0.0</td>\n",
              "      <td>0.0</td>\n",
              "      <td>2</td>\n",
              "      <td>18</td>\n",
              "      <td>2</td>\n",
              "      <td>3</td>\n",
              "      <td>11.0</td>\n",
              "    </tr>\n",
              "  </tbody>\n",
              "</table>\n",
              "</div>\n",
              "    <div class=\"colab-df-buttons\">\n",
              "\n",
              "  <div class=\"colab-df-container\">\n",
              "    <button class=\"colab-df-convert\" onclick=\"convertToInteractive('df-d387addb-dcb1-47ee-b70d-67021525b834')\"\n",
              "            title=\"Convert this dataframe to an interactive table.\"\n",
              "            style=\"display:none;\">\n",
              "\n",
              "  <svg xmlns=\"http://www.w3.org/2000/svg\" height=\"24px\" viewBox=\"0 -960 960 960\">\n",
              "    <path d=\"M120-120v-720h720v720H120Zm60-500h600v-160H180v160Zm220 220h160v-160H400v160Zm0 220h160v-160H400v160ZM180-400h160v-160H180v160Zm440 0h160v-160H620v160ZM180-180h160v-160H180v160Zm440 0h160v-160H620v160Z\"/>\n",
              "  </svg>\n",
              "    </button>\n",
              "\n",
              "  <style>\n",
              "    .colab-df-container {\n",
              "      display:flex;\n",
              "      gap: 12px;\n",
              "    }\n",
              "\n",
              "    .colab-df-convert {\n",
              "      background-color: #E8F0FE;\n",
              "      border: none;\n",
              "      border-radius: 50%;\n",
              "      cursor: pointer;\n",
              "      display: none;\n",
              "      fill: #1967D2;\n",
              "      height: 32px;\n",
              "      padding: 0 0 0 0;\n",
              "      width: 32px;\n",
              "    }\n",
              "\n",
              "    .colab-df-convert:hover {\n",
              "      background-color: #E2EBFA;\n",
              "      box-shadow: 0px 1px 2px rgba(60, 64, 67, 0.3), 0px 1px 3px 1px rgba(60, 64, 67, 0.15);\n",
              "      fill: #174EA6;\n",
              "    }\n",
              "\n",
              "    .colab-df-buttons div {\n",
              "      margin-bottom: 4px;\n",
              "    }\n",
              "\n",
              "    [theme=dark] .colab-df-convert {\n",
              "      background-color: #3B4455;\n",
              "      fill: #D2E3FC;\n",
              "    }\n",
              "\n",
              "    [theme=dark] .colab-df-convert:hover {\n",
              "      background-color: #434B5C;\n",
              "      box-shadow: 0px 1px 3px 1px rgba(0, 0, 0, 0.15);\n",
              "      filter: drop-shadow(0px 1px 2px rgba(0, 0, 0, 0.3));\n",
              "      fill: #FFFFFF;\n",
              "    }\n",
              "  </style>\n",
              "\n",
              "    <script>\n",
              "      const buttonEl =\n",
              "        document.querySelector('#df-d387addb-dcb1-47ee-b70d-67021525b834 button.colab-df-convert');\n",
              "      buttonEl.style.display =\n",
              "        google.colab.kernel.accessAllowed ? 'block' : 'none';\n",
              "\n",
              "      async function convertToInteractive(key) {\n",
              "        const element = document.querySelector('#df-d387addb-dcb1-47ee-b70d-67021525b834');\n",
              "        const dataTable =\n",
              "          await google.colab.kernel.invokeFunction('convertToInteractive',\n",
              "                                                    [key], {});\n",
              "        if (!dataTable) return;\n",
              "\n",
              "        const docLinkHtml = 'Like what you see? Visit the ' +\n",
              "          '<a target=\"_blank\" href=https://colab.research.google.com/notebooks/data_table.ipynb>data table notebook</a>'\n",
              "          + ' to learn more about interactive tables.';\n",
              "        element.innerHTML = '';\n",
              "        dataTable['output_type'] = 'display_data';\n",
              "        await google.colab.output.renderOutput(dataTable, element);\n",
              "        const docLink = document.createElement('div');\n",
              "        docLink.innerHTML = docLinkHtml;\n",
              "        element.appendChild(docLink);\n",
              "      }\n",
              "    </script>\n",
              "  </div>\n",
              "\n",
              "\n",
              "<div id=\"df-9306db8b-5f54-47a7-85d5-6f3c0cbf4ba5\">\n",
              "  <button class=\"colab-df-quickchart\" onclick=\"quickchart('df-9306db8b-5f54-47a7-85d5-6f3c0cbf4ba5')\"\n",
              "            title=\"Suggest charts\"\n",
              "            style=\"display:none;\">\n",
              "\n",
              "<svg xmlns=\"http://www.w3.org/2000/svg\" height=\"24px\"viewBox=\"0 0 24 24\"\n",
              "     width=\"24px\">\n",
              "    <g>\n",
              "        <path d=\"M19 3H5c-1.1 0-2 .9-2 2v14c0 1.1.9 2 2 2h14c1.1 0 2-.9 2-2V5c0-1.1-.9-2-2-2zM9 17H7v-7h2v7zm4 0h-2V7h2v10zm4 0h-2v-4h2v4z\"/>\n",
              "    </g>\n",
              "</svg>\n",
              "  </button>\n",
              "\n",
              "<style>\n",
              "  .colab-df-quickchart {\n",
              "      --bg-color: #E8F0FE;\n",
              "      --fill-color: #1967D2;\n",
              "      --hover-bg-color: #E2EBFA;\n",
              "      --hover-fill-color: #174EA6;\n",
              "      --disabled-fill-color: #AAA;\n",
              "      --disabled-bg-color: #DDD;\n",
              "  }\n",
              "\n",
              "  [theme=dark] .colab-df-quickchart {\n",
              "      --bg-color: #3B4455;\n",
              "      --fill-color: #D2E3FC;\n",
              "      --hover-bg-color: #434B5C;\n",
              "      --hover-fill-color: #FFFFFF;\n",
              "      --disabled-bg-color: #3B4455;\n",
              "      --disabled-fill-color: #666;\n",
              "  }\n",
              "\n",
              "  .colab-df-quickchart {\n",
              "    background-color: var(--bg-color);\n",
              "    border: none;\n",
              "    border-radius: 50%;\n",
              "    cursor: pointer;\n",
              "    display: none;\n",
              "    fill: var(--fill-color);\n",
              "    height: 32px;\n",
              "    padding: 0;\n",
              "    width: 32px;\n",
              "  }\n",
              "\n",
              "  .colab-df-quickchart:hover {\n",
              "    background-color: var(--hover-bg-color);\n",
              "    box-shadow: 0 1px 2px rgba(60, 64, 67, 0.3), 0 1px 3px 1px rgba(60, 64, 67, 0.15);\n",
              "    fill: var(--button-hover-fill-color);\n",
              "  }\n",
              "\n",
              "  .colab-df-quickchart-complete:disabled,\n",
              "  .colab-df-quickchart-complete:disabled:hover {\n",
              "    background-color: var(--disabled-bg-color);\n",
              "    fill: var(--disabled-fill-color);\n",
              "    box-shadow: none;\n",
              "  }\n",
              "\n",
              "  .colab-df-spinner {\n",
              "    border: 2px solid var(--fill-color);\n",
              "    border-color: transparent;\n",
              "    border-bottom-color: var(--fill-color);\n",
              "    animation:\n",
              "      spin 1s steps(1) infinite;\n",
              "  }\n",
              "\n",
              "  @keyframes spin {\n",
              "    0% {\n",
              "      border-color: transparent;\n",
              "      border-bottom-color: var(--fill-color);\n",
              "      border-left-color: var(--fill-color);\n",
              "    }\n",
              "    20% {\n",
              "      border-color: transparent;\n",
              "      border-left-color: var(--fill-color);\n",
              "      border-top-color: var(--fill-color);\n",
              "    }\n",
              "    30% {\n",
              "      border-color: transparent;\n",
              "      border-left-color: var(--fill-color);\n",
              "      border-top-color: var(--fill-color);\n",
              "      border-right-color: var(--fill-color);\n",
              "    }\n",
              "    40% {\n",
              "      border-color: transparent;\n",
              "      border-right-color: var(--fill-color);\n",
              "      border-top-color: var(--fill-color);\n",
              "    }\n",
              "    60% {\n",
              "      border-color: transparent;\n",
              "      border-right-color: var(--fill-color);\n",
              "    }\n",
              "    80% {\n",
              "      border-color: transparent;\n",
              "      border-right-color: var(--fill-color);\n",
              "      border-bottom-color: var(--fill-color);\n",
              "    }\n",
              "    90% {\n",
              "      border-color: transparent;\n",
              "      border-bottom-color: var(--fill-color);\n",
              "    }\n",
              "  }\n",
              "</style>\n",
              "\n",
              "  <script>\n",
              "    async function quickchart(key) {\n",
              "      const quickchartButtonEl =\n",
              "        document.querySelector('#' + key + ' button');\n",
              "      quickchartButtonEl.disabled = true;  // To prevent multiple clicks.\n",
              "      quickchartButtonEl.classList.add('colab-df-spinner');\n",
              "      try {\n",
              "        const charts = await google.colab.kernel.invokeFunction(\n",
              "            'suggestCharts', [key], {});\n",
              "      } catch (error) {\n",
              "        console.error('Error during call to suggestCharts:', error);\n",
              "      }\n",
              "      quickchartButtonEl.classList.remove('colab-df-spinner');\n",
              "      quickchartButtonEl.classList.add('colab-df-quickchart-complete');\n",
              "    }\n",
              "    (() => {\n",
              "      let quickchartButtonEl =\n",
              "        document.querySelector('#df-9306db8b-5f54-47a7-85d5-6f3c0cbf4ba5 button');\n",
              "      quickchartButtonEl.style.display =\n",
              "        google.colab.kernel.accessAllowed ? 'block' : 'none';\n",
              "    })();\n",
              "  </script>\n",
              "</div>\n",
              "\n",
              "    </div>\n",
              "  </div>\n"
            ],
            "application/vnd.google.colaboratory.intrinsic+json": {
              "type": "dataframe",
              "variable_name": "df",
              "summary": "{\n  \"name\": \"df\",\n  \"rows\": 5334,\n  \"fields\": [\n    {\n      \"column\": \"SEQN\",\n      \"properties\": {\n        \"dtype\": \"number\",\n        \"std\": 2964,\n        \"min\": 31130,\n        \"max\": 41473,\n        \"num_unique_values\": 5334,\n        \"samples\": [\n          33496,\n          39599,\n          37196\n        ],\n        \"semantic_type\": \"\",\n        \"description\": \"\"\n      }\n    },\n    {\n      \"column\": \"DPQ010\",\n      \"properties\": {\n        \"dtype\": \"number\",\n        \"std\": 0.7584591941388031,\n        \"min\": 0.0,\n        \"max\": 9.0,\n        \"num_unique_values\": 5,\n        \"samples\": [\n          1.0,\n          9.0,\n          2.0\n        ],\n        \"semantic_type\": \"\",\n        \"description\": \"\"\n      }\n    },\n    {\n      \"column\": \"DPQ020\",\n      \"properties\": {\n        \"dtype\": \"number\",\n        \"std\": 0.7106828592369144,\n        \"min\": 0.0,\n        \"max\": 9.0,\n        \"num_unique_values\": 5,\n        \"samples\": [\n          1.0,\n          9.0,\n          2.0\n        ],\n        \"semantic_type\": \"\",\n        \"description\": \"\"\n      }\n    },\n    {\n      \"column\": \"DPQ030\",\n      \"properties\": {\n        \"dtype\": \"number\",\n        \"std\": 0.9311657804654522,\n        \"min\": 0.0,\n        \"max\": 9.0,\n        \"num_unique_values\": 5,\n        \"samples\": [\n          1.0,\n          9.0,\n          3.0\n        ],\n        \"semantic_type\": \"\",\n        \"description\": \"\"\n      }\n    },\n    {\n      \"column\": \"DPQ040\",\n      \"properties\": {\n        \"dtype\": \"number\",\n        \"std\": 0.9137112388685255,\n        \"min\": 0.0,\n        \"max\": 9.0,\n        \"num_unique_values\": 5,\n        \"samples\": [\n          1.0,\n          9.0,\n          2.0\n        ],\n        \"semantic_type\": \"\",\n        \"description\": \"\"\n      }\n    },\n    {\n      \"column\": \"DPQ050\",\n      \"properties\": {\n        \"dtype\": \"number\",\n        \"std\": 0.7430566424538966,\n        \"min\": 0.0,\n        \"max\": 9.0,\n        \"num_unique_values\": 5,\n        \"samples\": [\n          3.0,\n          9.0,\n          1.0\n        ],\n        \"semantic_type\": \"\",\n        \"description\": \"\"\n      }\n    },\n    {\n      \"column\": \"DPQ060\",\n      \"properties\": {\n        \"dtype\": \"number\",\n        \"std\": 0.6245523791339737,\n        \"min\": 0.0,\n        \"max\": 9.0,\n        \"num_unique_values\": 5,\n        \"samples\": [\n          1.0,\n          9.0,\n          2.0\n        ],\n        \"semantic_type\": \"\",\n        \"description\": \"\"\n      }\n    },\n    {\n      \"column\": \"DPQ070\",\n      \"properties\": {\n        \"dtype\": \"number\",\n        \"std\": 0.6391863669031929,\n        \"min\": 0.0,\n        \"max\": 9.0,\n        \"num_unique_values\": 5,\n        \"samples\": [\n          1.0,\n          9.0,\n          3.0\n        ],\n        \"semantic_type\": \"\",\n        \"description\": \"\"\n      }\n    },\n    {\n      \"column\": \"DPQ080\",\n      \"properties\": {\n        \"dtype\": \"number\",\n        \"std\": 0.5903897078342129,\n        \"min\": 0.0,\n        \"max\": 9.0,\n        \"num_unique_values\": 5,\n        \"samples\": [\n          1.0,\n          2.0,\n          9.0\n        ],\n        \"semantic_type\": \"\",\n        \"description\": \"\"\n      }\n    },\n    {\n      \"column\": \"DPQ090\",\n      \"properties\": {\n        \"dtype\": \"number\",\n        \"std\": 0.326932944822308,\n        \"min\": 0.0,\n        \"max\": 9.0,\n        \"num_unique_values\": 5,\n        \"samples\": [\n          1.0,\n          9.0,\n          2.0\n        ],\n        \"semantic_type\": \"\",\n        \"description\": \"\"\n      }\n    },\n    {\n      \"column\": \"RIAGENDR\",\n      \"properties\": {\n        \"dtype\": \"number\",\n        \"std\": 0,\n        \"min\": 1,\n        \"max\": 2,\n        \"num_unique_values\": 2,\n        \"samples\": [\n          1,\n          2\n        ],\n        \"semantic_type\": \"\",\n        \"description\": \"\"\n      }\n    },\n    {\n      \"column\": \"RIDAGEYR\",\n      \"properties\": {\n        \"dtype\": \"number\",\n        \"std\": 20,\n        \"min\": 18,\n        \"max\": 85,\n        \"num_unique_values\": 68,\n        \"samples\": [\n          57,\n          37\n        ],\n        \"semantic_type\": \"\",\n        \"description\": \"\"\n      }\n    },\n    {\n      \"column\": \"RIDRETH1\",\n      \"properties\": {\n        \"dtype\": \"number\",\n        \"std\": 1,\n        \"min\": 1,\n        \"max\": 5,\n        \"num_unique_values\": 5,\n        \"samples\": [\n          4,\n          5\n        ],\n        \"semantic_type\": \"\",\n        \"description\": \"\"\n      }\n    },\n    {\n      \"column\": \"DMDEDUC\",\n      \"properties\": {\n        \"dtype\": \"number\",\n        \"std\": 1,\n        \"min\": 1,\n        \"max\": 9,\n        \"num_unique_values\": 7,\n        \"samples\": [\n          4,\n          5\n        ],\n        \"semantic_type\": \"\",\n        \"description\": \"\"\n      }\n    },\n    {\n      \"column\": \"INDFMINC\",\n      \"properties\": {\n        \"dtype\": \"number\",\n        \"std\": 12.777755919160107,\n        \"min\": 1.0,\n        \"max\": 99.0,\n        \"num_unique_values\": 15,\n        \"samples\": [\n          6.0,\n          9.0\n        ],\n        \"semantic_type\": \"\",\n        \"description\": \"\"\n      }\n    }\n  ]\n}"
            }
          },
          "metadata": {},
          "execution_count": 3
        }
      ]
    },
    {
      "cell_type": "markdown",
      "source": [
        "Logo nesse primeiro contato, podemos observar que temos algumas variáveis com valores ausentes. Vamos analisar um pouco mais esses dados e, em seguida, observar o dicionário de dados do mesmo.\n"
      ],
      "metadata": {
        "id": "T7A3mD3AxQcd"
      }
    },
    {
      "cell_type": "code",
      "source": [
        "# Dimensão do nosso DF\n",
        "df.shape"
      ],
      "metadata": {
        "colab": {
          "base_uri": "https://localhost:8080/"
        },
        "id": "JVXVPcfZx2DU",
        "outputId": "30e7a595-a179-4142-e4f6-f2ef0ad0756c"
      },
      "execution_count": 4,
      "outputs": [
        {
          "output_type": "execute_result",
          "data": {
            "text/plain": [
              "(5334, 15)"
            ]
          },
          "metadata": {},
          "execution_count": 4
        }
      ]
    },
    {
      "cell_type": "markdown",
      "source": [
        "Temos 5334 linhas e 15 colunas.\n",
        "\n",
        "Agora vamos observar o dicionário dos dados.\n"
      ],
      "metadata": {
        "id": "_-4LjfoAx7LV"
      }
    },
    {
      "cell_type": "markdown",
      "source": [
        "- **Variável: SEQN**\n",
        "  - **Descrição:** Identificador único do respondente\n",
        "  - **Valores:**\n",
        "\n",
        "- **Variável: DPQ010**\n",
        "  - **Descrição:** Nas últimas 2 semanas, com que frequência você ficou incomodado por algum dos problemas a seguir: Pouco interesse ou pouco prazer em fazer as coisas\n",
        "  - **Valores:**\n",
        "    - 0 = Nenhuma vez\n",
        "    - 1 = Menos de uma semana\n",
        "    - 2 = Uma semana ou mais\n",
        "    - 3 = Quase todos os dias\n",
        "    - 7 = Se recusou a responder\n",
        "    - 9 = Não sabe\n",
        "\n",
        "- **Variável: DPQ020**\n",
        "  - **Descrição:** Nas últimas 2 semanas, com que frequência você ficou incomodado por algum dos problemas a seguir: Se sentiu para baixo, deprimido(a) ou sem perspectiva\n",
        "  - **Valores:**\n",
        "    - 0 = Nenhuma vez\n",
        "    - 1 = Menos de uma semana\n",
        "    - 2 = Uma semana ou mais\n",
        "    - 3 = Quase todos os dias\n",
        "    - 7 = Se recusou a responder\n",
        "    - 9 = Não sabe\n",
        "\n",
        "- **Variável: DPQ030**\n",
        "  - **Descrição:** Nas últimas 2 semanas, com que frequência você ficou incomodado por algum dos problemas a seguir: Dificuldade para pegar no sono ou permanecer dormindo ou dormiu mais do que o costume\n",
        "  - **Valores:**\n",
        "    - 0 = Nenhuma vez\n",
        "    - 1 = Menos de uma semana\n",
        "    - 2 = Uma semana ou mais\n",
        "    - 3 = Quase todos os dias\n",
        "    - 7 = Se recusou a responder\n",
        "    - 9 = Não sabe\n",
        "\n",
        "- **Variável: DPQ040**\n",
        "  - **Descrição:** Nas últimas 2 semanas, com que frequência você ficou incomodado por algum dos problemas a seguir: Se sentiu cansado(a) ou com pouca energia\n",
        "  - **Valores:**\n",
        "    - 0 = Nenhuma vez\n",
        "    - 1 = Menos de uma semana\n",
        "    - 2 = Uma semana ou mais\n",
        "    - 3 = Quase todos os dias\n",
        "    - 7 = Se recusou a responder\n",
        "    - 9 = Não sabe\n",
        "\n",
        "- **Variável: DPQ050**\n",
        "  - **Descrição:** Nas últimas 2 semanas, com que frequência você ficou incomodado por algum dos problemas a seguir: Falta de apetite ou comeu demais\n",
        "  - **Valores:**\n",
        "    - 0 = Nenhuma vez\n",
        "    - 1 = Menos de uma semana\n",
        "    - 2 = Uma semana ou mais\n",
        "    - 3 = Quase todos os dias\n",
        "    - 7 = Se recusou a responder\n",
        "    - 9 = Não sabe\n",
        "\n",
        "- **Variável: DPQ060**\n",
        "  - **Descrição:** Nas últimas 2 semanas, com que frequência você ficou incomodado por algum dos problemas a seguir: Se sentiu mal consigo mesmo(a) ou achou que é um fracasso ou que decepcionou sua família ou a você mesmo(a)\n",
        "  - **Valores:**\n",
        "    - 0 = Nenhuma vez\n",
        "    - 1 = Menos de uma semana\n",
        "    - 2 = Uma semana ou mais\n",
        "    - 3 = Quase todos os dias\n",
        "    - 7 = Se recusou a responder\n",
        "    - 9 = Não sabe\n",
        "\n",
        "- **Variável: DPQ070**\n",
        "  - **Descrição:** Nas últimas 2 semanas, com que frequência você ficou incomodado por algum dos problemas a seguir: Dificuldade para se concentrar nas coisas (como ler o jornal ou ver televisão)\n",
        "  - **Valores:**\n",
        "    - 0 = Nenhuma vez\n",
        "    - 1 = Menos de uma semana\n",
        "    - 2 = Uma semana ou mais\n",
        "    - 3 = Quase todos os dias\n",
        "    - 7 = Se recusou a responder\n",
        "    - 9 = Não sabe\n",
        "\n",
        "- **Variável: DPQ080**\n",
        "  - **Descrição:** Nas últimas 2 semanas, com que frequência você ficou incomodado por algum dos problemas a seguir: Teve lentidão para se movimentar ou falar (a ponto de outras pessoas perceberem), ou ao contrário, esteve tão agitado(a) que você ficava andando de um lado para o outro mais do que costume\n",
        "  - **Valores:**\n",
        "    - 0 = Nenhuma vez\n",
        "    - 1 = Menos de uma semana\n",
        "    - 2 = Uma semana ou mais\n",
        "    - 3 = Quase todos os dias\n",
        "    - 7 = Se recusou a responder\n",
        "    - 9 = Não sabe\n",
        "\n",
        "- **Variável: DPQ090**\n",
        "  - **Descrição:** Nas últimas 2 semanas, com que frequência você ficou incomodado por algum dos problemas a seguir: Pensou em se ferir de alguma maneira ou que seria melhor estar morto(a)\n",
        "  - **Valores:**\n",
        "    - 0 = Nenhuma vez\n",
        "    - 1 = Menos de uma semana\n",
        "    - 2 = Uma semana ou mais\n",
        "    - 3 = Quase todos os dias\n",
        "    - 7 = Se recusou a responder\n",
        "    - 9 = Não sabe\n",
        "\n",
        "- **Variável: RIAGENDR**\n",
        "  - **Descrição:** Gênero\n",
        "  - **Valores:**\n",
        "    - 1 = Masculino\n",
        "    - 2 = Feminino\n",
        "\n",
        "- **Variável: RIDAGEYR**\n",
        "  - **Descrição:** Idade em anos\n",
        "  - **Valores:**\n",
        "\n",
        "- **Variável: RIDRETH1**\n",
        "  - **Descrição:** Raça/Etnia\n",
        "  - **Valores:**\n",
        "    - 1 = Branco não-hispânico\n",
        "    - 2 = Negro não-hispânico\n",
        "    - 3 = Mexicano-americano\n",
        "    - 4 = Outro\n",
        "    - 5 = Outro - Hispânico\n",
        "\n",
        "- **Variável: DMDEDUC**\n",
        "  - **Descrição:** Escolaridade\n",
        "  - **Valores:**\n",
        "    - 1 = Menor que 9º ano\n",
        "    - 2 = 9-12º ano\n",
        "    - 3 = Ensino médio\n",
        "    - 4 = Ensino superior incompleto\n",
        "    - 5 = Superior completo ou maior\n",
        "    - 7 = Se recusou a responder\n",
        "    - 9 = Não sabe\n",
        "\n",
        "- **Variável: INDFMINC**\n",
        "  - **Descrição:** Renda anual familiar (US$)\n",
        "  - **Valores:**\n",
        "      - 1 = 0-4999\n",
        "      - 2 = 5000-9999\n",
        "      - 3 = 10000-14999\n",
        "      - 4 = 15000-19999\n",
        "      - 5 = 20000-24999\n",
        "      - 6 = 25000-34999\n",
        "      - 7 = 35000-44999\n",
        "      - 8 = 45000-54999\n",
        "      - 9 = 55000-64999\n",
        "      - 10 = 65000-74999\n",
        "      - 11 = Maior ou igual a 75000\n",
        "      - 12 = Maior que 20000\n",
        "      - 13 = Menor que 20000\n",
        "      - 77 = Se recusou a responder\n",
        "      - 99 = Não sabe\n"
      ],
      "metadata": {
        "id": "26cAuDbAyEW0"
      }
    },
    {
      "cell_type": "markdown",
      "source": [
        "Dessa forma, podemos entender melhor o que cada variável tem a nos dizer. Dito isso, vamos entender o tipo dos nossos dados.\n"
      ],
      "metadata": {
        "id": "7gXq8epFypmk"
      }
    },
    {
      "cell_type": "code",
      "source": [
        "# Observando o tipo dos dados\n",
        "df.info()"
      ],
      "metadata": {
        "colab": {
          "base_uri": "https://localhost:8080/"
        },
        "id": "gozNc6FByGPN",
        "outputId": "da27bed0-e5cb-400b-f1c7-18f53e20c19a"
      },
      "execution_count": 5,
      "outputs": [
        {
          "output_type": "stream",
          "name": "stdout",
          "text": [
            "<class 'pandas.core.frame.DataFrame'>\n",
            "RangeIndex: 5334 entries, 0 to 5333\n",
            "Data columns (total 15 columns):\n",
            " #   Column    Non-Null Count  Dtype  \n",
            "---  ------    --------------  -----  \n",
            " 0   SEQN      5334 non-null   int64  \n",
            " 1   DPQ010    4836 non-null   float64\n",
            " 2   DPQ020    4836 non-null   float64\n",
            " 3   DPQ030    4836 non-null   float64\n",
            " 4   DPQ040    4836 non-null   float64\n",
            " 5   DPQ050    4836 non-null   float64\n",
            " 6   DPQ060    4836 non-null   float64\n",
            " 7   DPQ070    4836 non-null   float64\n",
            " 8   DPQ080    4836 non-null   float64\n",
            " 9   DPQ090    4836 non-null   float64\n",
            " 10  RIAGENDR  5334 non-null   int64  \n",
            " 11  RIDAGEYR  5334 non-null   int64  \n",
            " 12  RIDRETH1  5334 non-null   int64  \n",
            " 13  DMDEDUC   5334 non-null   int64  \n",
            " 14  INDFMINC  5287 non-null   float64\n",
            "dtypes: float64(10), int64(5)\n",
            "memory usage: 625.2 KB\n"
          ]
        }
      ]
    },
    {
      "cell_type": "markdown",
      "source": [
        "Dessa forma, podemos perceber que todas as nossas variáveis das perguntas são qualitativas categóricas. O mesmo se aplica para RIAGENDER, DMDEDUC, RIDRETH1 e INDFMINC, porém a variável INDFMINC é do tipo quantitativa numérica."
      ],
      "metadata": {
        "id": "JwEX5FLN0ZmU"
      }
    },
    {
      "cell_type": "markdown",
      "source": [
        "A variável SEQN é semelhante a um ID dos nossos dados. Logo, a princípio, por ser um atributo identificador, ele não deve se repetir. Vamos observar se existe algum SEQN repetido na nossa base.\n"
      ],
      "metadata": {
        "id": "eFWKBDC11JMS"
      }
    },
    {
      "cell_type": "code",
      "source": [
        "# Observando a soma de valores duplicados\n",
        "df['SEQN'].duplicated().sum()"
      ],
      "metadata": {
        "colab": {
          "base_uri": "https://localhost:8080/"
        },
        "id": "QaGZqGTf1Xna",
        "outputId": "1497fea2-1e33-4d7b-a965-023bffc7883a"
      },
      "execution_count": 6,
      "outputs": [
        {
          "output_type": "execute_result",
          "data": {
            "text/plain": [
              "0"
            ]
          },
          "metadata": {},
          "execution_count": 6
        }
      ]
    },
    {
      "cell_type": "markdown",
      "source": [
        "O resultado foi 0, então podemos assumir que cada um dos nossos identificadores é único.\n"
      ],
      "metadata": {
        "id": "yVBFuvpJ1mAL"
      }
    },
    {
      "cell_type": "markdown",
      "source": [
        "Agora vamos observar quantos valores ausentes existem em nossa base.\n"
      ],
      "metadata": {
        "id": "UEOGklNj1xtL"
      }
    },
    {
      "cell_type": "code",
      "source": [
        "# Observando os valores ausentes\n",
        "def soma_ausentes(df):\n",
        "    p_faltantes = df.isnull().sum()\n",
        "    valores_faltantes = pd.DataFrame({'Variavéis': df.columns,\n",
        "                                           'Soma de ausentes': p_faltantes}\n",
        "                                      ).reset_index(drop = True)\n",
        "\n",
        "    return valores_faltantes.sort_values(by = ['Soma de ausentes'], ascending = False)\n",
        "\n",
        "# Exibindo a quantidade de valores ausentes\n",
        "soma_ausentes(df)"
      ],
      "metadata": {
        "colab": {
          "base_uri": "https://localhost:8080/",
          "height": 0
        },
        "id": "2y9F_eBj19DD",
        "outputId": "7b41ddd8-3263-4f40-b163-c96078f5670b"
      },
      "execution_count": 7,
      "outputs": [
        {
          "output_type": "execute_result",
          "data": {
            "text/plain": [
              "   Variavéis  Soma de ausentes\n",
              "1     DPQ010               498\n",
              "2     DPQ020               498\n",
              "3     DPQ030               498\n",
              "4     DPQ040               498\n",
              "5     DPQ050               498\n",
              "6     DPQ060               498\n",
              "7     DPQ070               498\n",
              "8     DPQ080               498\n",
              "9     DPQ090               498\n",
              "14  INDFMINC                47\n",
              "0       SEQN                 0\n",
              "10  RIAGENDR                 0\n",
              "11  RIDAGEYR                 0\n",
              "12  RIDRETH1                 0\n",
              "13   DMDEDUC                 0"
            ],
            "text/html": [
              "\n",
              "  <div id=\"df-c48d7bd8-1fb5-452d-995a-42270b00879a\" class=\"colab-df-container\">\n",
              "    <div>\n",
              "<style scoped>\n",
              "    .dataframe tbody tr th:only-of-type {\n",
              "        vertical-align: middle;\n",
              "    }\n",
              "\n",
              "    .dataframe tbody tr th {\n",
              "        vertical-align: top;\n",
              "    }\n",
              "\n",
              "    .dataframe thead th {\n",
              "        text-align: right;\n",
              "    }\n",
              "</style>\n",
              "<table border=\"1\" class=\"dataframe\">\n",
              "  <thead>\n",
              "    <tr style=\"text-align: right;\">\n",
              "      <th></th>\n",
              "      <th>Variavéis</th>\n",
              "      <th>Soma de ausentes</th>\n",
              "    </tr>\n",
              "  </thead>\n",
              "  <tbody>\n",
              "    <tr>\n",
              "      <th>1</th>\n",
              "      <td>DPQ010</td>\n",
              "      <td>498</td>\n",
              "    </tr>\n",
              "    <tr>\n",
              "      <th>2</th>\n",
              "      <td>DPQ020</td>\n",
              "      <td>498</td>\n",
              "    </tr>\n",
              "    <tr>\n",
              "      <th>3</th>\n",
              "      <td>DPQ030</td>\n",
              "      <td>498</td>\n",
              "    </tr>\n",
              "    <tr>\n",
              "      <th>4</th>\n",
              "      <td>DPQ040</td>\n",
              "      <td>498</td>\n",
              "    </tr>\n",
              "    <tr>\n",
              "      <th>5</th>\n",
              "      <td>DPQ050</td>\n",
              "      <td>498</td>\n",
              "    </tr>\n",
              "    <tr>\n",
              "      <th>6</th>\n",
              "      <td>DPQ060</td>\n",
              "      <td>498</td>\n",
              "    </tr>\n",
              "    <tr>\n",
              "      <th>7</th>\n",
              "      <td>DPQ070</td>\n",
              "      <td>498</td>\n",
              "    </tr>\n",
              "    <tr>\n",
              "      <th>8</th>\n",
              "      <td>DPQ080</td>\n",
              "      <td>498</td>\n",
              "    </tr>\n",
              "    <tr>\n",
              "      <th>9</th>\n",
              "      <td>DPQ090</td>\n",
              "      <td>498</td>\n",
              "    </tr>\n",
              "    <tr>\n",
              "      <th>14</th>\n",
              "      <td>INDFMINC</td>\n",
              "      <td>47</td>\n",
              "    </tr>\n",
              "    <tr>\n",
              "      <th>0</th>\n",
              "      <td>SEQN</td>\n",
              "      <td>0</td>\n",
              "    </tr>\n",
              "    <tr>\n",
              "      <th>10</th>\n",
              "      <td>RIAGENDR</td>\n",
              "      <td>0</td>\n",
              "    </tr>\n",
              "    <tr>\n",
              "      <th>11</th>\n",
              "      <td>RIDAGEYR</td>\n",
              "      <td>0</td>\n",
              "    </tr>\n",
              "    <tr>\n",
              "      <th>12</th>\n",
              "      <td>RIDRETH1</td>\n",
              "      <td>0</td>\n",
              "    </tr>\n",
              "    <tr>\n",
              "      <th>13</th>\n",
              "      <td>DMDEDUC</td>\n",
              "      <td>0</td>\n",
              "    </tr>\n",
              "  </tbody>\n",
              "</table>\n",
              "</div>\n",
              "    <div class=\"colab-df-buttons\">\n",
              "\n",
              "  <div class=\"colab-df-container\">\n",
              "    <button class=\"colab-df-convert\" onclick=\"convertToInteractive('df-c48d7bd8-1fb5-452d-995a-42270b00879a')\"\n",
              "            title=\"Convert this dataframe to an interactive table.\"\n",
              "            style=\"display:none;\">\n",
              "\n",
              "  <svg xmlns=\"http://www.w3.org/2000/svg\" height=\"24px\" viewBox=\"0 -960 960 960\">\n",
              "    <path d=\"M120-120v-720h720v720H120Zm60-500h600v-160H180v160Zm220 220h160v-160H400v160Zm0 220h160v-160H400v160ZM180-400h160v-160H180v160Zm440 0h160v-160H620v160ZM180-180h160v-160H180v160Zm440 0h160v-160H620v160Z\"/>\n",
              "  </svg>\n",
              "    </button>\n",
              "\n",
              "  <style>\n",
              "    .colab-df-container {\n",
              "      display:flex;\n",
              "      gap: 12px;\n",
              "    }\n",
              "\n",
              "    .colab-df-convert {\n",
              "      background-color: #E8F0FE;\n",
              "      border: none;\n",
              "      border-radius: 50%;\n",
              "      cursor: pointer;\n",
              "      display: none;\n",
              "      fill: #1967D2;\n",
              "      height: 32px;\n",
              "      padding: 0 0 0 0;\n",
              "      width: 32px;\n",
              "    }\n",
              "\n",
              "    .colab-df-convert:hover {\n",
              "      background-color: #E2EBFA;\n",
              "      box-shadow: 0px 1px 2px rgba(60, 64, 67, 0.3), 0px 1px 3px 1px rgba(60, 64, 67, 0.15);\n",
              "      fill: #174EA6;\n",
              "    }\n",
              "\n",
              "    .colab-df-buttons div {\n",
              "      margin-bottom: 4px;\n",
              "    }\n",
              "\n",
              "    [theme=dark] .colab-df-convert {\n",
              "      background-color: #3B4455;\n",
              "      fill: #D2E3FC;\n",
              "    }\n",
              "\n",
              "    [theme=dark] .colab-df-convert:hover {\n",
              "      background-color: #434B5C;\n",
              "      box-shadow: 0px 1px 3px 1px rgba(0, 0, 0, 0.15);\n",
              "      filter: drop-shadow(0px 1px 2px rgba(0, 0, 0, 0.3));\n",
              "      fill: #FFFFFF;\n",
              "    }\n",
              "  </style>\n",
              "\n",
              "    <script>\n",
              "      const buttonEl =\n",
              "        document.querySelector('#df-c48d7bd8-1fb5-452d-995a-42270b00879a button.colab-df-convert');\n",
              "      buttonEl.style.display =\n",
              "        google.colab.kernel.accessAllowed ? 'block' : 'none';\n",
              "\n",
              "      async function convertToInteractive(key) {\n",
              "        const element = document.querySelector('#df-c48d7bd8-1fb5-452d-995a-42270b00879a');\n",
              "        const dataTable =\n",
              "          await google.colab.kernel.invokeFunction('convertToInteractive',\n",
              "                                                    [key], {});\n",
              "        if (!dataTable) return;\n",
              "\n",
              "        const docLinkHtml = 'Like what you see? Visit the ' +\n",
              "          '<a target=\"_blank\" href=https://colab.research.google.com/notebooks/data_table.ipynb>data table notebook</a>'\n",
              "          + ' to learn more about interactive tables.';\n",
              "        element.innerHTML = '';\n",
              "        dataTable['output_type'] = 'display_data';\n",
              "        await google.colab.output.renderOutput(dataTable, element);\n",
              "        const docLink = document.createElement('div');\n",
              "        docLink.innerHTML = docLinkHtml;\n",
              "        element.appendChild(docLink);\n",
              "      }\n",
              "    </script>\n",
              "  </div>\n",
              "\n",
              "\n",
              "<div id=\"df-93593a75-dd6e-4cbe-9b05-c7cfdffd3345\">\n",
              "  <button class=\"colab-df-quickchart\" onclick=\"quickchart('df-93593a75-dd6e-4cbe-9b05-c7cfdffd3345')\"\n",
              "            title=\"Suggest charts\"\n",
              "            style=\"display:none;\">\n",
              "\n",
              "<svg xmlns=\"http://www.w3.org/2000/svg\" height=\"24px\"viewBox=\"0 0 24 24\"\n",
              "     width=\"24px\">\n",
              "    <g>\n",
              "        <path d=\"M19 3H5c-1.1 0-2 .9-2 2v14c0 1.1.9 2 2 2h14c1.1 0 2-.9 2-2V5c0-1.1-.9-2-2-2zM9 17H7v-7h2v7zm4 0h-2V7h2v10zm4 0h-2v-4h2v4z\"/>\n",
              "    </g>\n",
              "</svg>\n",
              "  </button>\n",
              "\n",
              "<style>\n",
              "  .colab-df-quickchart {\n",
              "      --bg-color: #E8F0FE;\n",
              "      --fill-color: #1967D2;\n",
              "      --hover-bg-color: #E2EBFA;\n",
              "      --hover-fill-color: #174EA6;\n",
              "      --disabled-fill-color: #AAA;\n",
              "      --disabled-bg-color: #DDD;\n",
              "  }\n",
              "\n",
              "  [theme=dark] .colab-df-quickchart {\n",
              "      --bg-color: #3B4455;\n",
              "      --fill-color: #D2E3FC;\n",
              "      --hover-bg-color: #434B5C;\n",
              "      --hover-fill-color: #FFFFFF;\n",
              "      --disabled-bg-color: #3B4455;\n",
              "      --disabled-fill-color: #666;\n",
              "  }\n",
              "\n",
              "  .colab-df-quickchart {\n",
              "    background-color: var(--bg-color);\n",
              "    border: none;\n",
              "    border-radius: 50%;\n",
              "    cursor: pointer;\n",
              "    display: none;\n",
              "    fill: var(--fill-color);\n",
              "    height: 32px;\n",
              "    padding: 0;\n",
              "    width: 32px;\n",
              "  }\n",
              "\n",
              "  .colab-df-quickchart:hover {\n",
              "    background-color: var(--hover-bg-color);\n",
              "    box-shadow: 0 1px 2px rgba(60, 64, 67, 0.3), 0 1px 3px 1px rgba(60, 64, 67, 0.15);\n",
              "    fill: var(--button-hover-fill-color);\n",
              "  }\n",
              "\n",
              "  .colab-df-quickchart-complete:disabled,\n",
              "  .colab-df-quickchart-complete:disabled:hover {\n",
              "    background-color: var(--disabled-bg-color);\n",
              "    fill: var(--disabled-fill-color);\n",
              "    box-shadow: none;\n",
              "  }\n",
              "\n",
              "  .colab-df-spinner {\n",
              "    border: 2px solid var(--fill-color);\n",
              "    border-color: transparent;\n",
              "    border-bottom-color: var(--fill-color);\n",
              "    animation:\n",
              "      spin 1s steps(1) infinite;\n",
              "  }\n",
              "\n",
              "  @keyframes spin {\n",
              "    0% {\n",
              "      border-color: transparent;\n",
              "      border-bottom-color: var(--fill-color);\n",
              "      border-left-color: var(--fill-color);\n",
              "    }\n",
              "    20% {\n",
              "      border-color: transparent;\n",
              "      border-left-color: var(--fill-color);\n",
              "      border-top-color: var(--fill-color);\n",
              "    }\n",
              "    30% {\n",
              "      border-color: transparent;\n",
              "      border-left-color: var(--fill-color);\n",
              "      border-top-color: var(--fill-color);\n",
              "      border-right-color: var(--fill-color);\n",
              "    }\n",
              "    40% {\n",
              "      border-color: transparent;\n",
              "      border-right-color: var(--fill-color);\n",
              "      border-top-color: var(--fill-color);\n",
              "    }\n",
              "    60% {\n",
              "      border-color: transparent;\n",
              "      border-right-color: var(--fill-color);\n",
              "    }\n",
              "    80% {\n",
              "      border-color: transparent;\n",
              "      border-right-color: var(--fill-color);\n",
              "      border-bottom-color: var(--fill-color);\n",
              "    }\n",
              "    90% {\n",
              "      border-color: transparent;\n",
              "      border-bottom-color: var(--fill-color);\n",
              "    }\n",
              "  }\n",
              "</style>\n",
              "\n",
              "  <script>\n",
              "    async function quickchart(key) {\n",
              "      const quickchartButtonEl =\n",
              "        document.querySelector('#' + key + ' button');\n",
              "      quickchartButtonEl.disabled = true;  // To prevent multiple clicks.\n",
              "      quickchartButtonEl.classList.add('colab-df-spinner');\n",
              "      try {\n",
              "        const charts = await google.colab.kernel.invokeFunction(\n",
              "            'suggestCharts', [key], {});\n",
              "      } catch (error) {\n",
              "        console.error('Error during call to suggestCharts:', error);\n",
              "      }\n",
              "      quickchartButtonEl.classList.remove('colab-df-spinner');\n",
              "      quickchartButtonEl.classList.add('colab-df-quickchart-complete');\n",
              "    }\n",
              "    (() => {\n",
              "      let quickchartButtonEl =\n",
              "        document.querySelector('#df-93593a75-dd6e-4cbe-9b05-c7cfdffd3345 button');\n",
              "      quickchartButtonEl.style.display =\n",
              "        google.colab.kernel.accessAllowed ? 'block' : 'none';\n",
              "    })();\n",
              "  </script>\n",
              "</div>\n",
              "\n",
              "    </div>\n",
              "  </div>\n"
            ],
            "application/vnd.google.colaboratory.intrinsic+json": {
              "type": "dataframe",
              "summary": "{\n  \"name\": \"soma_ausentes(df)\",\n  \"rows\": 15,\n  \"fields\": [\n    {\n      \"column\": \"Variav\\u00e9is\",\n      \"properties\": {\n        \"dtype\": \"string\",\n        \"num_unique_values\": 15,\n        \"samples\": [\n          \"INDFMINC\",\n          \"RIAGENDR\",\n          \"DPQ010\"\n        ],\n        \"semantic_type\": \"\",\n        \"description\": \"\"\n      }\n    },\n    {\n      \"column\": \"Soma de ausentes\",\n      \"properties\": {\n        \"dtype\": \"number\",\n        \"std\": 248,\n        \"min\": 0,\n        \"max\": 498,\n        \"num_unique_values\": 3,\n        \"samples\": [\n          498,\n          47,\n          0\n        ],\n        \"semantic_type\": \"\",\n        \"description\": \"\"\n      }\n    }\n  ]\n}"
            }
          },
          "metadata": {},
          "execution_count": 7
        }
      ]
    },
    {
      "cell_type": "markdown",
      "source": [
        "Como podemos observar, temos o mesmo número de valores ausentes desde as variáveis 'DPQ010' até 'DPQ090', sendo que a soma de valores ausentes é um total de 498 para cada uma dessas perguntas. Enquanto na variável 'indfminc', temos apenas 47 valores ausentes. O restante das nossas variáveis não apresentam nenhum valor ausente.\n",
        "\n",
        "Agora vamos observar um resumo estatístico dos nossos dados.\n"
      ],
      "metadata": {
        "id": "Xwqay_3W2iyD"
      }
    },
    {
      "cell_type": "code",
      "source": [
        "# Resumo estatístico dos dados\n",
        "df.describe()"
      ],
      "metadata": {
        "colab": {
          "base_uri": "https://localhost:8080/",
          "height": 0
        },
        "id": "nLU2028A2KC6",
        "outputId": "8dd4221f-3fa3-4241-aa9f-d29b8bcbbc60"
      },
      "execution_count": 8,
      "outputs": [
        {
          "output_type": "execute_result",
          "data": {
            "text/plain": [
              "               SEQN       DPQ010       DPQ020       DPQ030       DPQ040  \\\n",
              "count   5334.000000  4836.000000  4836.000000  4836.000000  4836.000000   \n",
              "mean   36358.796775     0.307279     0.313069     0.551282     0.717328   \n",
              "std     2964.731827     0.758459     0.710683     0.931166     0.913711   \n",
              "min    31130.000000     0.000000     0.000000     0.000000     0.000000   \n",
              "25%    33838.500000     0.000000     0.000000     0.000000     0.000000   \n",
              "50%    36347.500000     0.000000     0.000000     0.000000     0.000000   \n",
              "75%    38915.750000     0.000000     0.000000     1.000000     1.000000   \n",
              "max    41473.000000     9.000000     9.000000     9.000000     9.000000   \n",
              "\n",
              "            DPQ050       DPQ060       DPQ070       DPQ080       DPQ090  \\\n",
              "count  4836.000000  4836.000000  4836.000000  4836.000000  4836.000000   \n",
              "mean      0.320720     0.209884     0.230356     0.147849     0.050248   \n",
              "std       0.743057     0.624552     0.639186     0.590390     0.326933   \n",
              "min       0.000000     0.000000     0.000000     0.000000     0.000000   \n",
              "25%       0.000000     0.000000     0.000000     0.000000     0.000000   \n",
              "50%       0.000000     0.000000     0.000000     0.000000     0.000000   \n",
              "75%       0.000000     0.000000     0.000000     0.000000     0.000000   \n",
              "max       9.000000     9.000000     9.000000     9.000000     9.000000   \n",
              "\n",
              "          RIAGENDR     RIDAGEYR     RIDRETH1      DMDEDUC     INDFMINC  \n",
              "count  5334.000000  5334.000000  5334.000000  5334.000000  5287.000000  \n",
              "mean      1.519873    45.089989     2.871016     3.233221     8.738604  \n",
              "std       0.499652    20.145853     1.128468     1.268395    12.777756  \n",
              "min       1.000000    18.000000     1.000000     1.000000     1.000000  \n",
              "25%       1.000000    27.000000     3.000000     2.000000     4.000000  \n",
              "50%       2.000000    43.000000     3.000000     3.000000     7.000000  \n",
              "75%       2.000000    62.000000     4.000000     4.000000    10.000000  \n",
              "max       2.000000    85.000000     5.000000     9.000000    99.000000  "
            ],
            "text/html": [
              "\n",
              "  <div id=\"df-2638e41a-f874-4c6e-926e-22dfe04fecba\" class=\"colab-df-container\">\n",
              "    <div>\n",
              "<style scoped>\n",
              "    .dataframe tbody tr th:only-of-type {\n",
              "        vertical-align: middle;\n",
              "    }\n",
              "\n",
              "    .dataframe tbody tr th {\n",
              "        vertical-align: top;\n",
              "    }\n",
              "\n",
              "    .dataframe thead th {\n",
              "        text-align: right;\n",
              "    }\n",
              "</style>\n",
              "<table border=\"1\" class=\"dataframe\">\n",
              "  <thead>\n",
              "    <tr style=\"text-align: right;\">\n",
              "      <th></th>\n",
              "      <th>SEQN</th>\n",
              "      <th>DPQ010</th>\n",
              "      <th>DPQ020</th>\n",
              "      <th>DPQ030</th>\n",
              "      <th>DPQ040</th>\n",
              "      <th>DPQ050</th>\n",
              "      <th>DPQ060</th>\n",
              "      <th>DPQ070</th>\n",
              "      <th>DPQ080</th>\n",
              "      <th>DPQ090</th>\n",
              "      <th>RIAGENDR</th>\n",
              "      <th>RIDAGEYR</th>\n",
              "      <th>RIDRETH1</th>\n",
              "      <th>DMDEDUC</th>\n",
              "      <th>INDFMINC</th>\n",
              "    </tr>\n",
              "  </thead>\n",
              "  <tbody>\n",
              "    <tr>\n",
              "      <th>count</th>\n",
              "      <td>5334.000000</td>\n",
              "      <td>4836.000000</td>\n",
              "      <td>4836.000000</td>\n",
              "      <td>4836.000000</td>\n",
              "      <td>4836.000000</td>\n",
              "      <td>4836.000000</td>\n",
              "      <td>4836.000000</td>\n",
              "      <td>4836.000000</td>\n",
              "      <td>4836.000000</td>\n",
              "      <td>4836.000000</td>\n",
              "      <td>5334.000000</td>\n",
              "      <td>5334.000000</td>\n",
              "      <td>5334.000000</td>\n",
              "      <td>5334.000000</td>\n",
              "      <td>5287.000000</td>\n",
              "    </tr>\n",
              "    <tr>\n",
              "      <th>mean</th>\n",
              "      <td>36358.796775</td>\n",
              "      <td>0.307279</td>\n",
              "      <td>0.313069</td>\n",
              "      <td>0.551282</td>\n",
              "      <td>0.717328</td>\n",
              "      <td>0.320720</td>\n",
              "      <td>0.209884</td>\n",
              "      <td>0.230356</td>\n",
              "      <td>0.147849</td>\n",
              "      <td>0.050248</td>\n",
              "      <td>1.519873</td>\n",
              "      <td>45.089989</td>\n",
              "      <td>2.871016</td>\n",
              "      <td>3.233221</td>\n",
              "      <td>8.738604</td>\n",
              "    </tr>\n",
              "    <tr>\n",
              "      <th>std</th>\n",
              "      <td>2964.731827</td>\n",
              "      <td>0.758459</td>\n",
              "      <td>0.710683</td>\n",
              "      <td>0.931166</td>\n",
              "      <td>0.913711</td>\n",
              "      <td>0.743057</td>\n",
              "      <td>0.624552</td>\n",
              "      <td>0.639186</td>\n",
              "      <td>0.590390</td>\n",
              "      <td>0.326933</td>\n",
              "      <td>0.499652</td>\n",
              "      <td>20.145853</td>\n",
              "      <td>1.128468</td>\n",
              "      <td>1.268395</td>\n",
              "      <td>12.777756</td>\n",
              "    </tr>\n",
              "    <tr>\n",
              "      <th>min</th>\n",
              "      <td>31130.000000</td>\n",
              "      <td>0.000000</td>\n",
              "      <td>0.000000</td>\n",
              "      <td>0.000000</td>\n",
              "      <td>0.000000</td>\n",
              "      <td>0.000000</td>\n",
              "      <td>0.000000</td>\n",
              "      <td>0.000000</td>\n",
              "      <td>0.000000</td>\n",
              "      <td>0.000000</td>\n",
              "      <td>1.000000</td>\n",
              "      <td>18.000000</td>\n",
              "      <td>1.000000</td>\n",
              "      <td>1.000000</td>\n",
              "      <td>1.000000</td>\n",
              "    </tr>\n",
              "    <tr>\n",
              "      <th>25%</th>\n",
              "      <td>33838.500000</td>\n",
              "      <td>0.000000</td>\n",
              "      <td>0.000000</td>\n",
              "      <td>0.000000</td>\n",
              "      <td>0.000000</td>\n",
              "      <td>0.000000</td>\n",
              "      <td>0.000000</td>\n",
              "      <td>0.000000</td>\n",
              "      <td>0.000000</td>\n",
              "      <td>0.000000</td>\n",
              "      <td>1.000000</td>\n",
              "      <td>27.000000</td>\n",
              "      <td>3.000000</td>\n",
              "      <td>2.000000</td>\n",
              "      <td>4.000000</td>\n",
              "    </tr>\n",
              "    <tr>\n",
              "      <th>50%</th>\n",
              "      <td>36347.500000</td>\n",
              "      <td>0.000000</td>\n",
              "      <td>0.000000</td>\n",
              "      <td>0.000000</td>\n",
              "      <td>0.000000</td>\n",
              "      <td>0.000000</td>\n",
              "      <td>0.000000</td>\n",
              "      <td>0.000000</td>\n",
              "      <td>0.000000</td>\n",
              "      <td>0.000000</td>\n",
              "      <td>2.000000</td>\n",
              "      <td>43.000000</td>\n",
              "      <td>3.000000</td>\n",
              "      <td>3.000000</td>\n",
              "      <td>7.000000</td>\n",
              "    </tr>\n",
              "    <tr>\n",
              "      <th>75%</th>\n",
              "      <td>38915.750000</td>\n",
              "      <td>0.000000</td>\n",
              "      <td>0.000000</td>\n",
              "      <td>1.000000</td>\n",
              "      <td>1.000000</td>\n",
              "      <td>0.000000</td>\n",
              "      <td>0.000000</td>\n",
              "      <td>0.000000</td>\n",
              "      <td>0.000000</td>\n",
              "      <td>0.000000</td>\n",
              "      <td>2.000000</td>\n",
              "      <td>62.000000</td>\n",
              "      <td>4.000000</td>\n",
              "      <td>4.000000</td>\n",
              "      <td>10.000000</td>\n",
              "    </tr>\n",
              "    <tr>\n",
              "      <th>max</th>\n",
              "      <td>41473.000000</td>\n",
              "      <td>9.000000</td>\n",
              "      <td>9.000000</td>\n",
              "      <td>9.000000</td>\n",
              "      <td>9.000000</td>\n",
              "      <td>9.000000</td>\n",
              "      <td>9.000000</td>\n",
              "      <td>9.000000</td>\n",
              "      <td>9.000000</td>\n",
              "      <td>9.000000</td>\n",
              "      <td>2.000000</td>\n",
              "      <td>85.000000</td>\n",
              "      <td>5.000000</td>\n",
              "      <td>9.000000</td>\n",
              "      <td>99.000000</td>\n",
              "    </tr>\n",
              "  </tbody>\n",
              "</table>\n",
              "</div>\n",
              "    <div class=\"colab-df-buttons\">\n",
              "\n",
              "  <div class=\"colab-df-container\">\n",
              "    <button class=\"colab-df-convert\" onclick=\"convertToInteractive('df-2638e41a-f874-4c6e-926e-22dfe04fecba')\"\n",
              "            title=\"Convert this dataframe to an interactive table.\"\n",
              "            style=\"display:none;\">\n",
              "\n",
              "  <svg xmlns=\"http://www.w3.org/2000/svg\" height=\"24px\" viewBox=\"0 -960 960 960\">\n",
              "    <path d=\"M120-120v-720h720v720H120Zm60-500h600v-160H180v160Zm220 220h160v-160H400v160Zm0 220h160v-160H400v160ZM180-400h160v-160H180v160Zm440 0h160v-160H620v160ZM180-180h160v-160H180v160Zm440 0h160v-160H620v160Z\"/>\n",
              "  </svg>\n",
              "    </button>\n",
              "\n",
              "  <style>\n",
              "    .colab-df-container {\n",
              "      display:flex;\n",
              "      gap: 12px;\n",
              "    }\n",
              "\n",
              "    .colab-df-convert {\n",
              "      background-color: #E8F0FE;\n",
              "      border: none;\n",
              "      border-radius: 50%;\n",
              "      cursor: pointer;\n",
              "      display: none;\n",
              "      fill: #1967D2;\n",
              "      height: 32px;\n",
              "      padding: 0 0 0 0;\n",
              "      width: 32px;\n",
              "    }\n",
              "\n",
              "    .colab-df-convert:hover {\n",
              "      background-color: #E2EBFA;\n",
              "      box-shadow: 0px 1px 2px rgba(60, 64, 67, 0.3), 0px 1px 3px 1px rgba(60, 64, 67, 0.15);\n",
              "      fill: #174EA6;\n",
              "    }\n",
              "\n",
              "    .colab-df-buttons div {\n",
              "      margin-bottom: 4px;\n",
              "    }\n",
              "\n",
              "    [theme=dark] .colab-df-convert {\n",
              "      background-color: #3B4455;\n",
              "      fill: #D2E3FC;\n",
              "    }\n",
              "\n",
              "    [theme=dark] .colab-df-convert:hover {\n",
              "      background-color: #434B5C;\n",
              "      box-shadow: 0px 1px 3px 1px rgba(0, 0, 0, 0.15);\n",
              "      filter: drop-shadow(0px 1px 2px rgba(0, 0, 0, 0.3));\n",
              "      fill: #FFFFFF;\n",
              "    }\n",
              "  </style>\n",
              "\n",
              "    <script>\n",
              "      const buttonEl =\n",
              "        document.querySelector('#df-2638e41a-f874-4c6e-926e-22dfe04fecba button.colab-df-convert');\n",
              "      buttonEl.style.display =\n",
              "        google.colab.kernel.accessAllowed ? 'block' : 'none';\n",
              "\n",
              "      async function convertToInteractive(key) {\n",
              "        const element = document.querySelector('#df-2638e41a-f874-4c6e-926e-22dfe04fecba');\n",
              "        const dataTable =\n",
              "          await google.colab.kernel.invokeFunction('convertToInteractive',\n",
              "                                                    [key], {});\n",
              "        if (!dataTable) return;\n",
              "\n",
              "        const docLinkHtml = 'Like what you see? Visit the ' +\n",
              "          '<a target=\"_blank\" href=https://colab.research.google.com/notebooks/data_table.ipynb>data table notebook</a>'\n",
              "          + ' to learn more about interactive tables.';\n",
              "        element.innerHTML = '';\n",
              "        dataTable['output_type'] = 'display_data';\n",
              "        await google.colab.output.renderOutput(dataTable, element);\n",
              "        const docLink = document.createElement('div');\n",
              "        docLink.innerHTML = docLinkHtml;\n",
              "        element.appendChild(docLink);\n",
              "      }\n",
              "    </script>\n",
              "  </div>\n",
              "\n",
              "\n",
              "<div id=\"df-7ecc4810-17f7-494e-ac06-d91b68954d0c\">\n",
              "  <button class=\"colab-df-quickchart\" onclick=\"quickchart('df-7ecc4810-17f7-494e-ac06-d91b68954d0c')\"\n",
              "            title=\"Suggest charts\"\n",
              "            style=\"display:none;\">\n",
              "\n",
              "<svg xmlns=\"http://www.w3.org/2000/svg\" height=\"24px\"viewBox=\"0 0 24 24\"\n",
              "     width=\"24px\">\n",
              "    <g>\n",
              "        <path d=\"M19 3H5c-1.1 0-2 .9-2 2v14c0 1.1.9 2 2 2h14c1.1 0 2-.9 2-2V5c0-1.1-.9-2-2-2zM9 17H7v-7h2v7zm4 0h-2V7h2v10zm4 0h-2v-4h2v4z\"/>\n",
              "    </g>\n",
              "</svg>\n",
              "  </button>\n",
              "\n",
              "<style>\n",
              "  .colab-df-quickchart {\n",
              "      --bg-color: #E8F0FE;\n",
              "      --fill-color: #1967D2;\n",
              "      --hover-bg-color: #E2EBFA;\n",
              "      --hover-fill-color: #174EA6;\n",
              "      --disabled-fill-color: #AAA;\n",
              "      --disabled-bg-color: #DDD;\n",
              "  }\n",
              "\n",
              "  [theme=dark] .colab-df-quickchart {\n",
              "      --bg-color: #3B4455;\n",
              "      --fill-color: #D2E3FC;\n",
              "      --hover-bg-color: #434B5C;\n",
              "      --hover-fill-color: #FFFFFF;\n",
              "      --disabled-bg-color: #3B4455;\n",
              "      --disabled-fill-color: #666;\n",
              "  }\n",
              "\n",
              "  .colab-df-quickchart {\n",
              "    background-color: var(--bg-color);\n",
              "    border: none;\n",
              "    border-radius: 50%;\n",
              "    cursor: pointer;\n",
              "    display: none;\n",
              "    fill: var(--fill-color);\n",
              "    height: 32px;\n",
              "    padding: 0;\n",
              "    width: 32px;\n",
              "  }\n",
              "\n",
              "  .colab-df-quickchart:hover {\n",
              "    background-color: var(--hover-bg-color);\n",
              "    box-shadow: 0 1px 2px rgba(60, 64, 67, 0.3), 0 1px 3px 1px rgba(60, 64, 67, 0.15);\n",
              "    fill: var(--button-hover-fill-color);\n",
              "  }\n",
              "\n",
              "  .colab-df-quickchart-complete:disabled,\n",
              "  .colab-df-quickchart-complete:disabled:hover {\n",
              "    background-color: var(--disabled-bg-color);\n",
              "    fill: var(--disabled-fill-color);\n",
              "    box-shadow: none;\n",
              "  }\n",
              "\n",
              "  .colab-df-spinner {\n",
              "    border: 2px solid var(--fill-color);\n",
              "    border-color: transparent;\n",
              "    border-bottom-color: var(--fill-color);\n",
              "    animation:\n",
              "      spin 1s steps(1) infinite;\n",
              "  }\n",
              "\n",
              "  @keyframes spin {\n",
              "    0% {\n",
              "      border-color: transparent;\n",
              "      border-bottom-color: var(--fill-color);\n",
              "      border-left-color: var(--fill-color);\n",
              "    }\n",
              "    20% {\n",
              "      border-color: transparent;\n",
              "      border-left-color: var(--fill-color);\n",
              "      border-top-color: var(--fill-color);\n",
              "    }\n",
              "    30% {\n",
              "      border-color: transparent;\n",
              "      border-left-color: var(--fill-color);\n",
              "      border-top-color: var(--fill-color);\n",
              "      border-right-color: var(--fill-color);\n",
              "    }\n",
              "    40% {\n",
              "      border-color: transparent;\n",
              "      border-right-color: var(--fill-color);\n",
              "      border-top-color: var(--fill-color);\n",
              "    }\n",
              "    60% {\n",
              "      border-color: transparent;\n",
              "      border-right-color: var(--fill-color);\n",
              "    }\n",
              "    80% {\n",
              "      border-color: transparent;\n",
              "      border-right-color: var(--fill-color);\n",
              "      border-bottom-color: var(--fill-color);\n",
              "    }\n",
              "    90% {\n",
              "      border-color: transparent;\n",
              "      border-bottom-color: var(--fill-color);\n",
              "    }\n",
              "  }\n",
              "</style>\n",
              "\n",
              "  <script>\n",
              "    async function quickchart(key) {\n",
              "      const quickchartButtonEl =\n",
              "        document.querySelector('#' + key + ' button');\n",
              "      quickchartButtonEl.disabled = true;  // To prevent multiple clicks.\n",
              "      quickchartButtonEl.classList.add('colab-df-spinner');\n",
              "      try {\n",
              "        const charts = await google.colab.kernel.invokeFunction(\n",
              "            'suggestCharts', [key], {});\n",
              "      } catch (error) {\n",
              "        console.error('Error during call to suggestCharts:', error);\n",
              "      }\n",
              "      quickchartButtonEl.classList.remove('colab-df-spinner');\n",
              "      quickchartButtonEl.classList.add('colab-df-quickchart-complete');\n",
              "    }\n",
              "    (() => {\n",
              "      let quickchartButtonEl =\n",
              "        document.querySelector('#df-7ecc4810-17f7-494e-ac06-d91b68954d0c button');\n",
              "      quickchartButtonEl.style.display =\n",
              "        google.colab.kernel.accessAllowed ? 'block' : 'none';\n",
              "    })();\n",
              "  </script>\n",
              "</div>\n",
              "\n",
              "    </div>\n",
              "  </div>\n"
            ],
            "application/vnd.google.colaboratory.intrinsic+json": {
              "type": "dataframe",
              "summary": "{\n  \"name\": \"df\",\n  \"rows\": 8,\n  \"fields\": [\n    {\n      \"column\": \"SEQN\",\n      \"properties\": {\n        \"dtype\": \"number\",\n        \"std\": 15231.195490741551,\n        \"min\": 2964.731827479537,\n        \"max\": 41473.0,\n        \"num_unique_values\": 8,\n        \"samples\": [\n          36358.796775403076,\n          36347.5,\n          5334.0\n        ],\n        \"semantic_type\": \"\",\n        \"description\": \"\"\n      }\n    },\n    {\n      \"column\": \"DPQ010\",\n      \"properties\": {\n        \"dtype\": \"number\",\n        \"std\": 1709.2786083871688,\n        \"min\": 0.0,\n        \"max\": 4836.0,\n        \"num_unique_values\": 5,\n        \"samples\": [\n          0.30727874276261374,\n          9.0,\n          0.7584591941388031\n        ],\n        \"semantic_type\": \"\",\n        \"description\": \"\"\n      }\n    },\n    {\n      \"column\": \"DPQ020\",\n      \"properties\": {\n        \"dtype\": \"number\",\n        \"std\": 1709.2807312708212,\n        \"min\": 0.0,\n        \"max\": 4836.0,\n        \"num_unique_values\": 5,\n        \"samples\": [\n          0.3130686517783292,\n          9.0,\n          0.7106828592369144\n        ],\n        \"semantic_type\": \"\",\n        \"description\": \"\"\n      }\n    },\n    {\n      \"column\": \"DPQ030\",\n      \"properties\": {\n        \"dtype\": \"number\",\n        \"std\": 1709.2069343381368,\n        \"min\": 0.0,\n        \"max\": 4836.0,\n        \"num_unique_values\": 6,\n        \"samples\": [\n          4836.0,\n          0.5512820512820513,\n          9.0\n        ],\n        \"semantic_type\": \"\",\n        \"description\": \"\"\n      }\n    },\n    {\n      \"column\": \"DPQ040\",\n      \"properties\": {\n        \"dtype\": \"number\",\n        \"std\": 1709.1994162850935,\n        \"min\": 0.0,\n        \"max\": 4836.0,\n        \"num_unique_values\": 6,\n        \"samples\": [\n          4836.0,\n          0.717328370554177,\n          9.0\n        ],\n        \"semantic_type\": \"\",\n        \"description\": \"\"\n      }\n    },\n    {\n      \"column\": \"DPQ050\",\n      \"properties\": {\n        \"dtype\": \"number\",\n        \"std\": 1709.2787070894,\n        \"min\": 0.0,\n        \"max\": 4836.0,\n        \"num_unique_values\": 5,\n        \"samples\": [\n          0.3207196029776675,\n          9.0,\n          0.7430566424538966\n        ],\n        \"semantic_type\": \"\",\n        \"description\": \"\"\n      }\n    },\n    {\n      \"column\": \"DPQ060\",\n      \"properties\": {\n        \"dtype\": \"number\",\n        \"std\": 1709.2903084853176,\n        \"min\": 0.0,\n        \"max\": 4836.0,\n        \"num_unique_values\": 5,\n        \"samples\": [\n          0.2098842018196857,\n          9.0,\n          0.6245523791339737\n        ],\n        \"semantic_type\": \"\",\n        \"description\": \"\"\n      }\n    },\n    {\n      \"column\": \"DPQ070\",\n      \"properties\": {\n        \"dtype\": \"number\",\n        \"std\": 1709.2885324152046,\n        \"min\": 0.0,\n        \"max\": 4836.0,\n        \"num_unique_values\": 5,\n        \"samples\": [\n          0.23035566583953682,\n          9.0,\n          0.6391863669031929\n        ],\n        \"semantic_type\": \"\",\n        \"description\": \"\"\n      }\n    },\n    {\n      \"column\": \"DPQ080\",\n      \"properties\": {\n        \"dtype\": \"number\",\n        \"std\": 1709.2951757585402,\n        \"min\": 0.0,\n        \"max\": 4836.0,\n        \"num_unique_values\": 5,\n        \"samples\": [\n          0.1478494623655914,\n          9.0,\n          0.5903897078342129\n        ],\n        \"semantic_type\": \"\",\n        \"description\": \"\"\n      }\n    },\n    {\n      \"column\": \"DPQ090\",\n      \"properties\": {\n        \"dtype\": \"number\",\n        \"std\": 1709.313442210021,\n        \"min\": 0.0,\n        \"max\": 4836.0,\n        \"num_unique_values\": 5,\n        \"samples\": [\n          0.05024813895781638,\n          9.0,\n          0.326932944822308\n        ],\n        \"semantic_type\": \"\",\n        \"description\": \"\"\n      }\n    },\n    {\n      \"column\": \"RIAGENDR\",\n      \"properties\": {\n        \"dtype\": \"number\",\n        \"std\": 1885.347807062832,\n        \"min\": 0.4996517657216059,\n        \"max\": 5334.0,\n        \"num_unique_values\": 5,\n        \"samples\": [\n          1.519872515935508,\n          2.0,\n          0.4996517657216059\n        ],\n        \"semantic_type\": \"\",\n        \"description\": \"\"\n      }\n    },\n    {\n      \"column\": \"RIDAGEYR\",\n      \"properties\": {\n        \"dtype\": \"number\",\n        \"std\": 1870.8244657849696,\n        \"min\": 18.0,\n        \"max\": 5334.0,\n        \"num_unique_values\": 8,\n        \"samples\": [\n          45.089988751406075,\n          43.0,\n          5334.0\n        ],\n        \"semantic_type\": \"\",\n        \"description\": \"\"\n      }\n    },\n    {\n      \"column\": \"RIDRETH1\",\n      \"properties\": {\n        \"dtype\": \"number\",\n        \"std\": 1884.8441279356434,\n        \"min\": 1.0,\n        \"max\": 5334.0,\n        \"num_unique_values\": 7,\n        \"samples\": [\n          5334.0,\n          2.871016122984627,\n          4.0\n        ],\n        \"semantic_type\": \"\",\n        \"description\": \"\"\n      }\n    },\n    {\n      \"column\": \"DMDEDUC\",\n      \"properties\": {\n        \"dtype\": \"number\",\n        \"std\": 1884.6684481659543,\n        \"min\": 1.0,\n        \"max\": 5334.0,\n        \"num_unique_values\": 8,\n        \"samples\": [\n          3.2332208473940756,\n          3.0,\n          5334.0\n        ],\n        \"semantic_type\": \"\",\n        \"description\": \"\"\n      }\n    },\n    {\n      \"column\": \"INDFMINC\",\n      \"properties\": {\n        \"dtype\": \"number\",\n        \"std\": 1862.318817505755,\n        \"min\": 1.0,\n        \"max\": 5287.0,\n        \"num_unique_values\": 8,\n        \"samples\": [\n          8.738604123321354,\n          7.0,\n          5287.0\n        ],\n        \"semantic_type\": \"\",\n        \"description\": \"\"\n      }\n    }\n  ]\n}"
            }
          },
          "metadata": {},
          "execution_count": 8
        }
      ]
    },
    {
      "cell_type": "markdown",
      "source": [
        "- Observando as perguntas de DPQ010 a DPQ090:\n",
        "  - Aparentemente, apresentam o mesmo valor mínimo.\n",
        "  - O primeiro e segundo quartis também são iguais.\n",
        "  - No terceiro quartil, apenas duas variáveis têm valores diferentes.\n",
        "  - As médias não diferem muito da mediana, sugerindo uma distribuição próxima da normal, embora um pouco deslocada.\n",
        "  - A pergunta DPQ040 teve a maior média.\n",
        "  - Ambas as perguntas apresentam o mesmo valor máximo.\n",
        "  - A semelhança entre valores mínimos e máximos pode ser devido às perguntas possuírem alternativas iguais, diferindo apenas na pergunta em si.\n",
        "\n",
        "\n",
        "- A variável Riagender refere-se ao gênero, necessitando de outra análise.\n",
        "\n",
        "- RIDAGEYR se refere à idade:\n",
        "  - A pessoa mais nova tem 18 anos e a mais velha, 85.\n",
        "  - Média de 45 anos e mediana de 43.\n",
        "  - Setenta e cinco por cento dos dados têm menos de 62 anos.\n",
        "\n",
        "- RIDRETH1 está relacionado à etnia, com valores de 1 a 5:\n",
        "  - Necessita de outra análise mais detalhada.\n",
        "\n",
        "- DMDEDUC relaciona-se ao grau de escolaridade:\n",
        "  - A média é o ensino médio.\n",
        "  - 75% das pessoas tem, no máximo, um ensino superior incompleto.\n",
        "\n",
        "- INDFMINC representa faixas salariais:\n",
        "  - Sendo que a média salarial gira em torno de 45 a 55 mil dólares.\n",
        "  - Setenta e cinco por cento têm renda anual de até 75 mil dólares.\n"
      ],
      "metadata": {
        "id": "C8Ox6_IT32Wz"
      }
    },
    {
      "cell_type": "markdown",
      "source": [
        "**Iniciando análise na segunda base de dados**"
      ],
      "metadata": {
        "id": "U10ourKsA9W7"
      }
    },
    {
      "cell_type": "markdown",
      "source": [
        "Essa nossa análise inicial foi feita com base nos dados sobre alguns sintomas em adultos. Agora vamos realizar uma análise em outra base, só que dessa vez ela será voltada para alimentação e atividades físicas. Essa nossa base se trata de um questionário que avalia a qualidade da dieta dos pacientes, incluindo adultos e crianças. Dito isso, vamos seguir para a importação da mesma."
      ],
      "metadata": {
        "id": "4Yf1hEqV7Vlv"
      }
    },
    {
      "cell_type": "code",
      "source": [
        "# Importando o dataset\n",
        "df2 = pd.read_csv('/content/drive/MyDrive/Estatística para ciência de dados/PAG_HEI.csv')\n",
        "\n",
        "# Observando os primeiro registros\n",
        "df2.head()"
      ],
      "metadata": {
        "colab": {
          "base_uri": "https://localhost:8080/",
          "height": 0
        },
        "id": "qZ7Zot418aWu",
        "outputId": "ffcbbc94-9618-47fc-a07b-2e25524e6197"
      },
      "execution_count": 9,
      "outputs": [
        {
          "output_type": "execute_result",
          "data": {
            "text/plain": [
              "    SEQN     PAG_MINW  ADHERENCE  HEI2015C1_TOTALVEG  \\\n",
              "0  31128          NaN        NaN            3.083350   \n",
              "1  31129   285.450346        2.0            1.697761   \n",
              "2  31130     0.000000        1.0                 NaN   \n",
              "3  31131   264.711316        2.0            3.115103   \n",
              "4  31132  1353.348730        3.0            3.509081   \n",
              "\n",
              "   HEI2015C2_GREEN_AND_BEAN  HEI2015C3_TOTALFRUIT  HEI2015C4_WHOLEFRUIT  \\\n",
              "0                       0.0              3.927008              5.000000   \n",
              "1                       0.0              3.731602              4.929186   \n",
              "2                       NaN                   NaN                   NaN   \n",
              "3                       0.0              5.000000              1.320674   \n",
              "4                       0.0              5.000000              5.000000   \n",
              "\n",
              "   HEI2015C5_WHOLEGRAIN  HEI2015C6_TOTALDAIRY  HEI2015C7_TOTPROT  \\\n",
              "0              0.000000              5.000000           4.251329   \n",
              "1              0.527631              3.887809           4.693141   \n",
              "2                   NaN                   NaN                NaN   \n",
              "3              0.000000              3.141062           4.071959   \n",
              "4              5.000000              4.448512           5.000000   \n",
              "\n",
              "   HEI2015C8_SEAPLANT_PROT  HEI2015C9_FATTYACID  HEI2015C10_SODIUM  \\\n",
              "0                 0.000000             2.487572           6.911882   \n",
              "1                 0.928562             3.740758           6.146441   \n",
              "2                      NaN                  NaN                NaN   \n",
              "3                 2.052399             0.684985           2.297100   \n",
              "4                 0.000000             2.050769           7.369489   \n",
              "\n",
              "   HEI2015C11_REFINEDGRAIN  HEI2015C12_SFAT  HEI2015C13_ADDSUG  \\\n",
              "0                10.000000         0.818029           6.408092   \n",
              "1                 7.274979         8.006457           0.000000   \n",
              "2                      NaN              NaN                NaN   \n",
              "3                 9.512964         0.438428           3.919226   \n",
              "4                 8.887880         8.186877           9.099088   \n",
              "\n",
              "   HEI2015_TOTAL_SCORE  \n",
              "0            47.887262  \n",
              "1            45.564326  \n",
              "2                  NaN  \n",
              "3            35.553899  \n",
              "4            63.551696  "
            ],
            "text/html": [
              "\n",
              "  <div id=\"df-45d7f3b9-49b3-4ce5-b779-dfd13fbf5c47\" class=\"colab-df-container\">\n",
              "    <div>\n",
              "<style scoped>\n",
              "    .dataframe tbody tr th:only-of-type {\n",
              "        vertical-align: middle;\n",
              "    }\n",
              "\n",
              "    .dataframe tbody tr th {\n",
              "        vertical-align: top;\n",
              "    }\n",
              "\n",
              "    .dataframe thead th {\n",
              "        text-align: right;\n",
              "    }\n",
              "</style>\n",
              "<table border=\"1\" class=\"dataframe\">\n",
              "  <thead>\n",
              "    <tr style=\"text-align: right;\">\n",
              "      <th></th>\n",
              "      <th>SEQN</th>\n",
              "      <th>PAG_MINW</th>\n",
              "      <th>ADHERENCE</th>\n",
              "      <th>HEI2015C1_TOTALVEG</th>\n",
              "      <th>HEI2015C2_GREEN_AND_BEAN</th>\n",
              "      <th>HEI2015C3_TOTALFRUIT</th>\n",
              "      <th>HEI2015C4_WHOLEFRUIT</th>\n",
              "      <th>HEI2015C5_WHOLEGRAIN</th>\n",
              "      <th>HEI2015C6_TOTALDAIRY</th>\n",
              "      <th>HEI2015C7_TOTPROT</th>\n",
              "      <th>HEI2015C8_SEAPLANT_PROT</th>\n",
              "      <th>HEI2015C9_FATTYACID</th>\n",
              "      <th>HEI2015C10_SODIUM</th>\n",
              "      <th>HEI2015C11_REFINEDGRAIN</th>\n",
              "      <th>HEI2015C12_SFAT</th>\n",
              "      <th>HEI2015C13_ADDSUG</th>\n",
              "      <th>HEI2015_TOTAL_SCORE</th>\n",
              "    </tr>\n",
              "  </thead>\n",
              "  <tbody>\n",
              "    <tr>\n",
              "      <th>0</th>\n",
              "      <td>31128</td>\n",
              "      <td>NaN</td>\n",
              "      <td>NaN</td>\n",
              "      <td>3.083350</td>\n",
              "      <td>0.0</td>\n",
              "      <td>3.927008</td>\n",
              "      <td>5.000000</td>\n",
              "      <td>0.000000</td>\n",
              "      <td>5.000000</td>\n",
              "      <td>4.251329</td>\n",
              "      <td>0.000000</td>\n",
              "      <td>2.487572</td>\n",
              "      <td>6.911882</td>\n",
              "      <td>10.000000</td>\n",
              "      <td>0.818029</td>\n",
              "      <td>6.408092</td>\n",
              "      <td>47.887262</td>\n",
              "    </tr>\n",
              "    <tr>\n",
              "      <th>1</th>\n",
              "      <td>31129</td>\n",
              "      <td>285.450346</td>\n",
              "      <td>2.0</td>\n",
              "      <td>1.697761</td>\n",
              "      <td>0.0</td>\n",
              "      <td>3.731602</td>\n",
              "      <td>4.929186</td>\n",
              "      <td>0.527631</td>\n",
              "      <td>3.887809</td>\n",
              "      <td>4.693141</td>\n",
              "      <td>0.928562</td>\n",
              "      <td>3.740758</td>\n",
              "      <td>6.146441</td>\n",
              "      <td>7.274979</td>\n",
              "      <td>8.006457</td>\n",
              "      <td>0.000000</td>\n",
              "      <td>45.564326</td>\n",
              "    </tr>\n",
              "    <tr>\n",
              "      <th>2</th>\n",
              "      <td>31130</td>\n",
              "      <td>0.000000</td>\n",
              "      <td>1.0</td>\n",
              "      <td>NaN</td>\n",
              "      <td>NaN</td>\n",
              "      <td>NaN</td>\n",
              "      <td>NaN</td>\n",
              "      <td>NaN</td>\n",
              "      <td>NaN</td>\n",
              "      <td>NaN</td>\n",
              "      <td>NaN</td>\n",
              "      <td>NaN</td>\n",
              "      <td>NaN</td>\n",
              "      <td>NaN</td>\n",
              "      <td>NaN</td>\n",
              "      <td>NaN</td>\n",
              "      <td>NaN</td>\n",
              "    </tr>\n",
              "    <tr>\n",
              "      <th>3</th>\n",
              "      <td>31131</td>\n",
              "      <td>264.711316</td>\n",
              "      <td>2.0</td>\n",
              "      <td>3.115103</td>\n",
              "      <td>0.0</td>\n",
              "      <td>5.000000</td>\n",
              "      <td>1.320674</td>\n",
              "      <td>0.000000</td>\n",
              "      <td>3.141062</td>\n",
              "      <td>4.071959</td>\n",
              "      <td>2.052399</td>\n",
              "      <td>0.684985</td>\n",
              "      <td>2.297100</td>\n",
              "      <td>9.512964</td>\n",
              "      <td>0.438428</td>\n",
              "      <td>3.919226</td>\n",
              "      <td>35.553899</td>\n",
              "    </tr>\n",
              "    <tr>\n",
              "      <th>4</th>\n",
              "      <td>31132</td>\n",
              "      <td>1353.348730</td>\n",
              "      <td>3.0</td>\n",
              "      <td>3.509081</td>\n",
              "      <td>0.0</td>\n",
              "      <td>5.000000</td>\n",
              "      <td>5.000000</td>\n",
              "      <td>5.000000</td>\n",
              "      <td>4.448512</td>\n",
              "      <td>5.000000</td>\n",
              "      <td>0.000000</td>\n",
              "      <td>2.050769</td>\n",
              "      <td>7.369489</td>\n",
              "      <td>8.887880</td>\n",
              "      <td>8.186877</td>\n",
              "      <td>9.099088</td>\n",
              "      <td>63.551696</td>\n",
              "    </tr>\n",
              "  </tbody>\n",
              "</table>\n",
              "</div>\n",
              "    <div class=\"colab-df-buttons\">\n",
              "\n",
              "  <div class=\"colab-df-container\">\n",
              "    <button class=\"colab-df-convert\" onclick=\"convertToInteractive('df-45d7f3b9-49b3-4ce5-b779-dfd13fbf5c47')\"\n",
              "            title=\"Convert this dataframe to an interactive table.\"\n",
              "            style=\"display:none;\">\n",
              "\n",
              "  <svg xmlns=\"http://www.w3.org/2000/svg\" height=\"24px\" viewBox=\"0 -960 960 960\">\n",
              "    <path d=\"M120-120v-720h720v720H120Zm60-500h600v-160H180v160Zm220 220h160v-160H400v160Zm0 220h160v-160H400v160ZM180-400h160v-160H180v160Zm440 0h160v-160H620v160ZM180-180h160v-160H180v160Zm440 0h160v-160H620v160Z\"/>\n",
              "  </svg>\n",
              "    </button>\n",
              "\n",
              "  <style>\n",
              "    .colab-df-container {\n",
              "      display:flex;\n",
              "      gap: 12px;\n",
              "    }\n",
              "\n",
              "    .colab-df-convert {\n",
              "      background-color: #E8F0FE;\n",
              "      border: none;\n",
              "      border-radius: 50%;\n",
              "      cursor: pointer;\n",
              "      display: none;\n",
              "      fill: #1967D2;\n",
              "      height: 32px;\n",
              "      padding: 0 0 0 0;\n",
              "      width: 32px;\n",
              "    }\n",
              "\n",
              "    .colab-df-convert:hover {\n",
              "      background-color: #E2EBFA;\n",
              "      box-shadow: 0px 1px 2px rgba(60, 64, 67, 0.3), 0px 1px 3px 1px rgba(60, 64, 67, 0.15);\n",
              "      fill: #174EA6;\n",
              "    }\n",
              "\n",
              "    .colab-df-buttons div {\n",
              "      margin-bottom: 4px;\n",
              "    }\n",
              "\n",
              "    [theme=dark] .colab-df-convert {\n",
              "      background-color: #3B4455;\n",
              "      fill: #D2E3FC;\n",
              "    }\n",
              "\n",
              "    [theme=dark] .colab-df-convert:hover {\n",
              "      background-color: #434B5C;\n",
              "      box-shadow: 0px 1px 3px 1px rgba(0, 0, 0, 0.15);\n",
              "      filter: drop-shadow(0px 1px 2px rgba(0, 0, 0, 0.3));\n",
              "      fill: #FFFFFF;\n",
              "    }\n",
              "  </style>\n",
              "\n",
              "    <script>\n",
              "      const buttonEl =\n",
              "        document.querySelector('#df-45d7f3b9-49b3-4ce5-b779-dfd13fbf5c47 button.colab-df-convert');\n",
              "      buttonEl.style.display =\n",
              "        google.colab.kernel.accessAllowed ? 'block' : 'none';\n",
              "\n",
              "      async function convertToInteractive(key) {\n",
              "        const element = document.querySelector('#df-45d7f3b9-49b3-4ce5-b779-dfd13fbf5c47');\n",
              "        const dataTable =\n",
              "          await google.colab.kernel.invokeFunction('convertToInteractive',\n",
              "                                                    [key], {});\n",
              "        if (!dataTable) return;\n",
              "\n",
              "        const docLinkHtml = 'Like what you see? Visit the ' +\n",
              "          '<a target=\"_blank\" href=https://colab.research.google.com/notebooks/data_table.ipynb>data table notebook</a>'\n",
              "          + ' to learn more about interactive tables.';\n",
              "        element.innerHTML = '';\n",
              "        dataTable['output_type'] = 'display_data';\n",
              "        await google.colab.output.renderOutput(dataTable, element);\n",
              "        const docLink = document.createElement('div');\n",
              "        docLink.innerHTML = docLinkHtml;\n",
              "        element.appendChild(docLink);\n",
              "      }\n",
              "    </script>\n",
              "  </div>\n",
              "\n",
              "\n",
              "<div id=\"df-dbff0ebf-c3ae-4ccd-82c9-05a6559fb8ee\">\n",
              "  <button class=\"colab-df-quickchart\" onclick=\"quickchart('df-dbff0ebf-c3ae-4ccd-82c9-05a6559fb8ee')\"\n",
              "            title=\"Suggest charts\"\n",
              "            style=\"display:none;\">\n",
              "\n",
              "<svg xmlns=\"http://www.w3.org/2000/svg\" height=\"24px\"viewBox=\"0 0 24 24\"\n",
              "     width=\"24px\">\n",
              "    <g>\n",
              "        <path d=\"M19 3H5c-1.1 0-2 .9-2 2v14c0 1.1.9 2 2 2h14c1.1 0 2-.9 2-2V5c0-1.1-.9-2-2-2zM9 17H7v-7h2v7zm4 0h-2V7h2v10zm4 0h-2v-4h2v4z\"/>\n",
              "    </g>\n",
              "</svg>\n",
              "  </button>\n",
              "\n",
              "<style>\n",
              "  .colab-df-quickchart {\n",
              "      --bg-color: #E8F0FE;\n",
              "      --fill-color: #1967D2;\n",
              "      --hover-bg-color: #E2EBFA;\n",
              "      --hover-fill-color: #174EA6;\n",
              "      --disabled-fill-color: #AAA;\n",
              "      --disabled-bg-color: #DDD;\n",
              "  }\n",
              "\n",
              "  [theme=dark] .colab-df-quickchart {\n",
              "      --bg-color: #3B4455;\n",
              "      --fill-color: #D2E3FC;\n",
              "      --hover-bg-color: #434B5C;\n",
              "      --hover-fill-color: #FFFFFF;\n",
              "      --disabled-bg-color: #3B4455;\n",
              "      --disabled-fill-color: #666;\n",
              "  }\n",
              "\n",
              "  .colab-df-quickchart {\n",
              "    background-color: var(--bg-color);\n",
              "    border: none;\n",
              "    border-radius: 50%;\n",
              "    cursor: pointer;\n",
              "    display: none;\n",
              "    fill: var(--fill-color);\n",
              "    height: 32px;\n",
              "    padding: 0;\n",
              "    width: 32px;\n",
              "  }\n",
              "\n",
              "  .colab-df-quickchart:hover {\n",
              "    background-color: var(--hover-bg-color);\n",
              "    box-shadow: 0 1px 2px rgba(60, 64, 67, 0.3), 0 1px 3px 1px rgba(60, 64, 67, 0.15);\n",
              "    fill: var(--button-hover-fill-color);\n",
              "  }\n",
              "\n",
              "  .colab-df-quickchart-complete:disabled,\n",
              "  .colab-df-quickchart-complete:disabled:hover {\n",
              "    background-color: var(--disabled-bg-color);\n",
              "    fill: var(--disabled-fill-color);\n",
              "    box-shadow: none;\n",
              "  }\n",
              "\n",
              "  .colab-df-spinner {\n",
              "    border: 2px solid var(--fill-color);\n",
              "    border-color: transparent;\n",
              "    border-bottom-color: var(--fill-color);\n",
              "    animation:\n",
              "      spin 1s steps(1) infinite;\n",
              "  }\n",
              "\n",
              "  @keyframes spin {\n",
              "    0% {\n",
              "      border-color: transparent;\n",
              "      border-bottom-color: var(--fill-color);\n",
              "      border-left-color: var(--fill-color);\n",
              "    }\n",
              "    20% {\n",
              "      border-color: transparent;\n",
              "      border-left-color: var(--fill-color);\n",
              "      border-top-color: var(--fill-color);\n",
              "    }\n",
              "    30% {\n",
              "      border-color: transparent;\n",
              "      border-left-color: var(--fill-color);\n",
              "      border-top-color: var(--fill-color);\n",
              "      border-right-color: var(--fill-color);\n",
              "    }\n",
              "    40% {\n",
              "      border-color: transparent;\n",
              "      border-right-color: var(--fill-color);\n",
              "      border-top-color: var(--fill-color);\n",
              "    }\n",
              "    60% {\n",
              "      border-color: transparent;\n",
              "      border-right-color: var(--fill-color);\n",
              "    }\n",
              "    80% {\n",
              "      border-color: transparent;\n",
              "      border-right-color: var(--fill-color);\n",
              "      border-bottom-color: var(--fill-color);\n",
              "    }\n",
              "    90% {\n",
              "      border-color: transparent;\n",
              "      border-bottom-color: var(--fill-color);\n",
              "    }\n",
              "  }\n",
              "</style>\n",
              "\n",
              "  <script>\n",
              "    async function quickchart(key) {\n",
              "      const quickchartButtonEl =\n",
              "        document.querySelector('#' + key + ' button');\n",
              "      quickchartButtonEl.disabled = true;  // To prevent multiple clicks.\n",
              "      quickchartButtonEl.classList.add('colab-df-spinner');\n",
              "      try {\n",
              "        const charts = await google.colab.kernel.invokeFunction(\n",
              "            'suggestCharts', [key], {});\n",
              "      } catch (error) {\n",
              "        console.error('Error during call to suggestCharts:', error);\n",
              "      }\n",
              "      quickchartButtonEl.classList.remove('colab-df-spinner');\n",
              "      quickchartButtonEl.classList.add('colab-df-quickchart-complete');\n",
              "    }\n",
              "    (() => {\n",
              "      let quickchartButtonEl =\n",
              "        document.querySelector('#df-dbff0ebf-c3ae-4ccd-82c9-05a6559fb8ee button');\n",
              "      quickchartButtonEl.style.display =\n",
              "        google.colab.kernel.accessAllowed ? 'block' : 'none';\n",
              "    })();\n",
              "  </script>\n",
              "</div>\n",
              "\n",
              "    </div>\n",
              "  </div>\n"
            ],
            "application/vnd.google.colaboratory.intrinsic+json": {
              "type": "dataframe",
              "variable_name": "df2",
              "summary": "{\n  \"name\": \"df2\",\n  \"rows\": 9424,\n  \"fields\": [\n    {\n      \"column\": \"SEQN\",\n      \"properties\": {\n        \"dtype\": \"number\",\n        \"std\": 2991,\n        \"min\": 31128,\n        \"max\": 41474,\n        \"num_unique_values\": 9424,\n        \"samples\": [\n          40024,\n          33728,\n          37977\n        ],\n        \"semantic_type\": \"\",\n        \"description\": \"\"\n      }\n    },\n    {\n      \"column\": \"PAG_MINW\",\n      \"properties\": {\n        \"dtype\": \"number\",\n        \"std\": 908.8395435821634,\n        \"min\": 0.0,\n        \"max\": 13801.3856812933,\n        \"num_unique_values\": 2545,\n        \"samples\": [\n          924.849884526559,\n          715.935334872979,\n          943.418013856813\n        ],\n        \"semantic_type\": \"\",\n        \"description\": \"\"\n      }\n    },\n    {\n      \"column\": \"ADHERENCE\",\n      \"properties\": {\n        \"dtype\": \"number\",\n        \"std\": 0.9173509729975429,\n        \"min\": 1.0,\n        \"max\": 3.0,\n        \"num_unique_values\": 3,\n        \"samples\": [\n          2.0,\n          1.0,\n          3.0\n        ],\n        \"semantic_type\": \"\",\n        \"description\": \"\"\n      }\n    },\n    {\n      \"column\": \"HEI2015C1_TOTALVEG\",\n      \"properties\": {\n        \"dtype\": \"number\",\n        \"std\": 1.4723909139529148,\n        \"min\": 0.0,\n        \"max\": 5.0,\n        \"num_unique_values\": 6930,\n        \"samples\": [\n          0.586854460093897,\n          2.28469472126724,\n          3.93506000391205\n        ],\n        \"semantic_type\": \"\",\n        \"description\": \"\"\n      }\n    },\n    {\n      \"column\": \"HEI2015C2_GREEN_AND_BEAN\",\n      \"properties\": {\n        \"dtype\": \"number\",\n        \"std\": 2.0466499702497436,\n        \"min\": 0.0,\n        \"max\": 5.0,\n        \"num_unique_values\": 2253,\n        \"samples\": [\n          4.95848708487085,\n          4.2305053738852,\n          2.42047026279391\n        ],\n        \"semantic_type\": \"\",\n        \"description\": \"\"\n      }\n    },\n    {\n      \"column\": \"HEI2015C3_TOTALFRUIT\",\n      \"properties\": {\n        \"dtype\": \"number\",\n        \"std\": 1.9302506878066876,\n        \"min\": 0.0,\n        \"max\": 5.0,\n        \"num_unique_values\": 5211,\n        \"samples\": [\n          2.5352733686067,\n          4.78008727606798,\n          3.33433238423498\n        ],\n        \"semantic_type\": \"\",\n        \"description\": \"\"\n      }\n    },\n    {\n      \"column\": \"HEI2015C4_WHOLEFRUIT\",\n      \"properties\": {\n        \"dtype\": \"number\",\n        \"std\": 2.152560473170898,\n        \"min\": 0.0,\n        \"max\": 5.0,\n        \"num_unique_values\": 3594,\n        \"samples\": [\n          0.0302956858943286,\n          1.43337287465401,\n          0.0656397689480133\n        ],\n        \"semantic_type\": \"\",\n        \"description\": \"\"\n      }\n    },\n    {\n      \"column\": \"HEI2015C5_WHOLEGRAIN\",\n      \"properties\": {\n        \"dtype\": \"number\",\n        \"std\": 1.823514633625377,\n        \"min\": 0.0,\n        \"max\": 5.0,\n        \"num_unique_values\": 4476,\n        \"samples\": [\n          0.0983284169124877,\n          3.32355816226784,\n          4.46468434681668\n        ],\n        \"semantic_type\": \"\",\n        \"description\": \"\"\n      }\n    },\n    {\n      \"column\": \"HEI2015C6_TOTALDAIRY\",\n      \"properties\": {\n        \"dtype\": \"number\",\n        \"std\": 1.4789218829132127,\n        \"min\": 0.0,\n        \"max\": 5.0,\n        \"num_unique_values\": 3286,\n        \"samples\": [\n          4.18257865066376,\n          4.07552519147093,\n          1.50255629707684\n        ],\n        \"semantic_type\": \"\",\n        \"description\": \"\"\n      }\n    },\n    {\n      \"column\": \"HEI2015C7_TOTPROT\",\n      \"properties\": {\n        \"dtype\": \"number\",\n        \"std\": 1.1571943742609825,\n        \"min\": 0.0,\n        \"max\": 5.0,\n        \"num_unique_values\": 3936,\n        \"samples\": [\n          3.62805872756933,\n          3.03584672435105,\n          4.33768016472203\n        ],\n        \"semantic_type\": \"\",\n        \"description\": \"\"\n      }\n    },\n    {\n      \"column\": \"HEI2015C8_SEAPLANT_PROT\",\n      \"properties\": {\n        \"dtype\": \"number\",\n        \"std\": 2.1325256654875795,\n        \"min\": 0.0,\n        \"max\": 5.0,\n        \"num_unique_values\": 3681,\n        \"samples\": [\n          0.375028848372952,\n          3.27225130890052,\n          3.99051844119694\n        ],\n        \"semantic_type\": \"\",\n        \"description\": \"\"\n      }\n    },\n    {\n      \"column\": \"HEI2015C9_FATTYACID\",\n      \"properties\": {\n        \"dtype\": \"number\",\n        \"std\": 3.1477364039787123,\n        \"min\": 0.0,\n        \"max\": 10.0,\n        \"num_unique_values\": 6859,\n        \"samples\": [\n          0.233918007351294,\n          3.18028514640625,\n          2.57084312479619\n        ],\n        \"semantic_type\": \"\",\n        \"description\": \"\"\n      }\n    },\n    {\n      \"column\": \"HEI2015C10_SODIUM\",\n      \"properties\": {\n        \"dtype\": \"number\",\n        \"std\": 3.293786195182162,\n        \"min\": 0.0,\n        \"max\": 10.0,\n        \"num_unique_values\": 6598,\n        \"samples\": [\n          6.00207161053722,\n          5.38964069062063,\n          6.48958397980927\n        ],\n        \"semantic_type\": \"\",\n        \"description\": \"\"\n      }\n    },\n    {\n      \"column\": \"HEI2015C11_REFINEDGRAIN\",\n      \"properties\": {\n        \"dtype\": \"number\",\n        \"std\": 3.452289264109837,\n        \"min\": 0.0,\n        \"max\": 10.0,\n        \"num_unique_values\": 6114,\n        \"samples\": [\n          4.07022900763359,\n          5.45329366765831,\n          5.82347124642207\n        ],\n        \"semantic_type\": \"\",\n        \"description\": \"\"\n      }\n    },\n    {\n      \"column\": \"HEI2015C12_SFAT\",\n      \"properties\": {\n        \"dtype\": \"number\",\n        \"std\": 3.0909260507036986,\n        \"min\": 0.0,\n        \"max\": 10.0,\n        \"num_unique_values\": 6831,\n        \"samples\": [\n          9.68438891137192,\n          7.78745597399079,\n          1.83716790648247\n        ],\n        \"semantic_type\": \"\",\n        \"description\": \"\"\n      }\n    },\n    {\n      \"column\": \"HEI2015C13_ADDSUG\",\n      \"properties\": {\n        \"dtype\": \"number\",\n        \"std\": 3.2159599397219445,\n        \"min\": 0.0,\n        \"max\": 10.0,\n        \"num_unique_values\": 6569,\n        \"samples\": [\n          8.9005410832822,\n          5.03803888419273,\n          0.214406088611037\n        ],\n        \"semantic_type\": \"\",\n        \"description\": \"\"\n      }\n    },\n    {\n      \"column\": \"HEI2015_TOTAL_SCORE\",\n      \"properties\": {\n        \"dtype\": \"number\",\n        \"std\": 11.884725188370814,\n        \"min\": 13.2435131494172,\n        \"max\": 89.529382542883,\n        \"num_unique_values\": 8547,\n        \"samples\": [\n          64.5296290905191,\n          28.4442927084677,\n          69.473450228539\n        ],\n        \"semantic_type\": \"\",\n        \"description\": \"\"\n      }\n    }\n  ]\n}"
            }
          },
          "metadata": {},
          "execution_count": 9
        }
      ]
    },
    {
      "cell_type": "markdown",
      "source": [
        "Agora que já tivemos uma pequena amostra de como estão os nossos dados, vamos observar a dimensão do nosso DataFrame."
      ],
      "metadata": {
        "id": "j167_Vam8zu2"
      }
    },
    {
      "cell_type": "code",
      "source": [
        "# Dimensão do nosso DF\n",
        "df2.info()"
      ],
      "metadata": {
        "colab": {
          "base_uri": "https://localhost:8080/"
        },
        "id": "lOsTyWWR85Hd",
        "outputId": "9108dfe6-eb68-498b-bf8c-dd79ea804023"
      },
      "execution_count": 10,
      "outputs": [
        {
          "output_type": "stream",
          "name": "stdout",
          "text": [
            "<class 'pandas.core.frame.DataFrame'>\n",
            "RangeIndex: 9424 entries, 0 to 9423\n",
            "Data columns (total 17 columns):\n",
            " #   Column                    Non-Null Count  Dtype  \n",
            "---  ------                    --------------  -----  \n",
            " 0   SEQN                      9424 non-null   int64  \n",
            " 1   PAG_MINW                  7150 non-null   float64\n",
            " 2   ADHERENCE                 7150 non-null   float64\n",
            " 3   HEI2015C1_TOTALVEG        8549 non-null   float64\n",
            " 4   HEI2015C2_GREEN_AND_BEAN  8549 non-null   float64\n",
            " 5   HEI2015C3_TOTALFRUIT      8549 non-null   float64\n",
            " 6   HEI2015C4_WHOLEFRUIT      8549 non-null   float64\n",
            " 7   HEI2015C5_WHOLEGRAIN      8549 non-null   float64\n",
            " 8   HEI2015C6_TOTALDAIRY      8549 non-null   float64\n",
            " 9   HEI2015C7_TOTPROT         8549 non-null   float64\n",
            " 10  HEI2015C8_SEAPLANT_PROT   8549 non-null   float64\n",
            " 11  HEI2015C9_FATTYACID       8549 non-null   float64\n",
            " 12  HEI2015C10_SODIUM         8549 non-null   float64\n",
            " 13  HEI2015C11_REFINEDGRAIN   8549 non-null   float64\n",
            " 14  HEI2015C12_SFAT           8549 non-null   float64\n",
            " 15  HEI2015C13_ADDSUG         8549 non-null   float64\n",
            " 16  HEI2015_TOTAL_SCORE       8549 non-null   float64\n",
            "dtypes: float64(16), int64(1)\n",
            "memory usage: 1.2 MB\n"
          ]
        }
      ]
    },
    {
      "cell_type": "markdown",
      "source": [
        "Esse nosso segundo DataFrame possui 9424 linhas e 17 colunas, sendo que a variável 'PAG_MINW' é do tipo quantitativa numérica enquanto a variável 'ADHERENCE' é qualitativa categórica."
      ],
      "metadata": {
        "id": "fJIngbgp-ILF"
      }
    },
    {
      "cell_type": "markdown",
      "source": [
        "Agora vamos observar o dicionário dos dados para entendermos melhor o que cada uma dessas variáveis tem a nos contar."
      ],
      "metadata": {
        "id": "ea22Xukq_IJN"
      }
    },
    {
      "cell_type": "markdown",
      "source": [
        "**SEQN**: Identificador único do respondente\n",
        "\n",
        "**PAG_MINW**: Tempo total semanal de atividade aeróbica moderada-vigorosa em minutos segundo o Physical Activity Guideline (PAG)\n",
        "\n",
        "**ADHERENCE**: Grupo de aderência ao Physical Activity Guideline (PAG)\n",
        "- 1: Baixo (< 150 min/semana)\n",
        "- 2: Adequado (150-300 min/semana)\n",
        "- 3: Acima (> 300 min/semana)\n",
        "\n",
        "**HEI2015C1_TOTALVEG**: Healthy Eating Index - Componente 1 - Total de Vegetais\n",
        "\n",
        "**HEI2015C2_GREEN_AND_BEAN**: Healthy Eating Index - Componente 2 - Verduras verde-escuras e leguminosas\n",
        "\n",
        "**HEI2015C3_TOTALFRUIT**: Healthy Eating Index - Componente 3 - Frutas totais\n",
        "\n",
        "**HEI2015C4_WHOLEFRUIT**: Healthy Eating Index - Componente 4 - Frutas in natura\n",
        "\n",
        "**HEI2015C5_WHOLEGRAIN**: Healthy Eating Index - Componente 5 - Grãos integrais\n",
        "\n",
        "**HEI2015C6_TOTALDAIRY**: Healthy Eating Index - Componente 6 - Laticínios\n",
        "\n",
        "**HEI2015C7_TOTPROT**: Healthy Eating Index - Componente 7 - Proteínas\n",
        "\n",
        "**HEI2015C8_SEAPLANT_PROT**: Healthy Eating Index - Componente 8 - Plantas marinhas e proteínas vegetais\n",
        "\n",
        "**HEI2015C9_FATTYACID**: Healthy Eating Index - Componente 9 - Ácido-graxo\n",
        "\n",
        "**HEI2015C10_SODIUM**: Healthy Eating Index - Componente 10 - Sódio\n",
        "\n",
        "**HEI2015C11_REFINEDGRAIN**: Healthy Eating Index - Componente 11 - Grãos refinados\n",
        "\n",
        "**HEI2015C12_SFAT**: Healthy Eating Index - Componente 12 - Gordura saturada\n",
        "\n",
        "**HEI2015C13_ADDSUG**: Healthy Eating Index - Componente 13 - Açúcares adicionados\n",
        "\n",
        "**HEI2015_TOTAL_SCORE**: Healthy Eating Index - Escore total\n"
      ],
      "metadata": {
        "id": "8jN2ZpLwWV_b"
      }
    },
    {
      "cell_type": "markdown",
      "source": [
        "É interessante observarmos que cada elemento se refere a algum componente da alimentação e, no final, temos um escore total referente à soma de cada componente que compõe a alimentação de cada registro."
      ],
      "metadata": {
        "id": "kMMqsVMZWsHM"
      }
    },
    {
      "cell_type": "markdown",
      "source": [
        "Como vimos no primeiro DataFrame, temos uma coluna que é o nosso atributo chave. Nesse caso, trata-se da coluna SEQN. Vamos observar se existe alguma repetição nessa variável."
      ],
      "metadata": {
        "id": "LodUl-5N_U5V"
      }
    },
    {
      "cell_type": "code",
      "source": [
        "# Observando a soma de valores duplicados\n",
        "df2['SEQN'].duplicated().sum()"
      ],
      "metadata": {
        "colab": {
          "base_uri": "https://localhost:8080/"
        },
        "id": "egVCwn3m_5JS",
        "outputId": "fe6fce59-4a5b-432a-b6a1-e0899c98f2aa"
      },
      "execution_count": 11,
      "outputs": [
        {
          "output_type": "execute_result",
          "data": {
            "text/plain": [
              "0"
            ]
          },
          "metadata": {},
          "execution_count": 11
        }
      ]
    },
    {
      "cell_type": "markdown",
      "source": [
        "Novamente, podemos constatar que não temos nenhuma repetição nessa variável."
      ],
      "metadata": {
        "id": "Cw5BKW_4_69V"
      }
    },
    {
      "cell_type": "markdown",
      "source": [
        "Agora vamos observar se existem valores ausentes. Logo na primeira vez que importamos e exibimos os primeiros registros, já percebemos a existência dos mesmos. Então, vamos observar quantos são em cada uma das variáveis."
      ],
      "metadata": {
        "id": "PeJHJFIj__Fs"
      }
    },
    {
      "cell_type": "code",
      "source": [
        "# Observando os valores ausentes\n",
        "def soma_ausentes(df):\n",
        "    p_faltantes = df.isnull().sum()\n",
        "    valores_faltantes = pd.DataFrame({'Variavéis': df.columns,\n",
        "                                           'Soma de ausentes': p_faltantes}\n",
        "                                      ).reset_index(drop = True)\n",
        "\n",
        "    return valores_faltantes.sort_values(by = ['Soma de ausentes'], ascending = False)\n",
        "\n",
        "# Exibindo a quantidade de valores ausentes\n",
        "soma_ausentes(df2)"
      ],
      "metadata": {
        "colab": {
          "base_uri": "https://localhost:8080/",
          "height": 0
        },
        "id": "TzWUv9WwAL1s",
        "outputId": "c4f14bae-0fd9-46ea-db33-14945cca824e"
      },
      "execution_count": 12,
      "outputs": [
        {
          "output_type": "execute_result",
          "data": {
            "text/plain": [
              "                   Variavéis  Soma de ausentes\n",
              "2                  ADHERENCE              2274\n",
              "1                   PAG_MINW              2274\n",
              "8       HEI2015C6_TOTALDAIRY               875\n",
              "10   HEI2015C8_SEAPLANT_PROT               875\n",
              "15         HEI2015C13_ADDSUG               875\n",
              "14           HEI2015C12_SFAT               875\n",
              "13   HEI2015C11_REFINEDGRAIN               875\n",
              "12         HEI2015C10_SODIUM               875\n",
              "11       HEI2015C9_FATTYACID               875\n",
              "16       HEI2015_TOTAL_SCORE               875\n",
              "9          HEI2015C7_TOTPROT               875\n",
              "7       HEI2015C5_WHOLEGRAIN               875\n",
              "6       HEI2015C4_WHOLEFRUIT               875\n",
              "5       HEI2015C3_TOTALFRUIT               875\n",
              "4   HEI2015C2_GREEN_AND_BEAN               875\n",
              "3         HEI2015C1_TOTALVEG               875\n",
              "0                       SEQN                 0"
            ],
            "text/html": [
              "\n",
              "  <div id=\"df-213224ea-3d64-4525-89cf-1e7e9215b767\" class=\"colab-df-container\">\n",
              "    <div>\n",
              "<style scoped>\n",
              "    .dataframe tbody tr th:only-of-type {\n",
              "        vertical-align: middle;\n",
              "    }\n",
              "\n",
              "    .dataframe tbody tr th {\n",
              "        vertical-align: top;\n",
              "    }\n",
              "\n",
              "    .dataframe thead th {\n",
              "        text-align: right;\n",
              "    }\n",
              "</style>\n",
              "<table border=\"1\" class=\"dataframe\">\n",
              "  <thead>\n",
              "    <tr style=\"text-align: right;\">\n",
              "      <th></th>\n",
              "      <th>Variavéis</th>\n",
              "      <th>Soma de ausentes</th>\n",
              "    </tr>\n",
              "  </thead>\n",
              "  <tbody>\n",
              "    <tr>\n",
              "      <th>2</th>\n",
              "      <td>ADHERENCE</td>\n",
              "      <td>2274</td>\n",
              "    </tr>\n",
              "    <tr>\n",
              "      <th>1</th>\n",
              "      <td>PAG_MINW</td>\n",
              "      <td>2274</td>\n",
              "    </tr>\n",
              "    <tr>\n",
              "      <th>8</th>\n",
              "      <td>HEI2015C6_TOTALDAIRY</td>\n",
              "      <td>875</td>\n",
              "    </tr>\n",
              "    <tr>\n",
              "      <th>10</th>\n",
              "      <td>HEI2015C8_SEAPLANT_PROT</td>\n",
              "      <td>875</td>\n",
              "    </tr>\n",
              "    <tr>\n",
              "      <th>15</th>\n",
              "      <td>HEI2015C13_ADDSUG</td>\n",
              "      <td>875</td>\n",
              "    </tr>\n",
              "    <tr>\n",
              "      <th>14</th>\n",
              "      <td>HEI2015C12_SFAT</td>\n",
              "      <td>875</td>\n",
              "    </tr>\n",
              "    <tr>\n",
              "      <th>13</th>\n",
              "      <td>HEI2015C11_REFINEDGRAIN</td>\n",
              "      <td>875</td>\n",
              "    </tr>\n",
              "    <tr>\n",
              "      <th>12</th>\n",
              "      <td>HEI2015C10_SODIUM</td>\n",
              "      <td>875</td>\n",
              "    </tr>\n",
              "    <tr>\n",
              "      <th>11</th>\n",
              "      <td>HEI2015C9_FATTYACID</td>\n",
              "      <td>875</td>\n",
              "    </tr>\n",
              "    <tr>\n",
              "      <th>16</th>\n",
              "      <td>HEI2015_TOTAL_SCORE</td>\n",
              "      <td>875</td>\n",
              "    </tr>\n",
              "    <tr>\n",
              "      <th>9</th>\n",
              "      <td>HEI2015C7_TOTPROT</td>\n",
              "      <td>875</td>\n",
              "    </tr>\n",
              "    <tr>\n",
              "      <th>7</th>\n",
              "      <td>HEI2015C5_WHOLEGRAIN</td>\n",
              "      <td>875</td>\n",
              "    </tr>\n",
              "    <tr>\n",
              "      <th>6</th>\n",
              "      <td>HEI2015C4_WHOLEFRUIT</td>\n",
              "      <td>875</td>\n",
              "    </tr>\n",
              "    <tr>\n",
              "      <th>5</th>\n",
              "      <td>HEI2015C3_TOTALFRUIT</td>\n",
              "      <td>875</td>\n",
              "    </tr>\n",
              "    <tr>\n",
              "      <th>4</th>\n",
              "      <td>HEI2015C2_GREEN_AND_BEAN</td>\n",
              "      <td>875</td>\n",
              "    </tr>\n",
              "    <tr>\n",
              "      <th>3</th>\n",
              "      <td>HEI2015C1_TOTALVEG</td>\n",
              "      <td>875</td>\n",
              "    </tr>\n",
              "    <tr>\n",
              "      <th>0</th>\n",
              "      <td>SEQN</td>\n",
              "      <td>0</td>\n",
              "    </tr>\n",
              "  </tbody>\n",
              "</table>\n",
              "</div>\n",
              "    <div class=\"colab-df-buttons\">\n",
              "\n",
              "  <div class=\"colab-df-container\">\n",
              "    <button class=\"colab-df-convert\" onclick=\"convertToInteractive('df-213224ea-3d64-4525-89cf-1e7e9215b767')\"\n",
              "            title=\"Convert this dataframe to an interactive table.\"\n",
              "            style=\"display:none;\">\n",
              "\n",
              "  <svg xmlns=\"http://www.w3.org/2000/svg\" height=\"24px\" viewBox=\"0 -960 960 960\">\n",
              "    <path d=\"M120-120v-720h720v720H120Zm60-500h600v-160H180v160Zm220 220h160v-160H400v160Zm0 220h160v-160H400v160ZM180-400h160v-160H180v160Zm440 0h160v-160H620v160ZM180-180h160v-160H180v160Zm440 0h160v-160H620v160Z\"/>\n",
              "  </svg>\n",
              "    </button>\n",
              "\n",
              "  <style>\n",
              "    .colab-df-container {\n",
              "      display:flex;\n",
              "      gap: 12px;\n",
              "    }\n",
              "\n",
              "    .colab-df-convert {\n",
              "      background-color: #E8F0FE;\n",
              "      border: none;\n",
              "      border-radius: 50%;\n",
              "      cursor: pointer;\n",
              "      display: none;\n",
              "      fill: #1967D2;\n",
              "      height: 32px;\n",
              "      padding: 0 0 0 0;\n",
              "      width: 32px;\n",
              "    }\n",
              "\n",
              "    .colab-df-convert:hover {\n",
              "      background-color: #E2EBFA;\n",
              "      box-shadow: 0px 1px 2px rgba(60, 64, 67, 0.3), 0px 1px 3px 1px rgba(60, 64, 67, 0.15);\n",
              "      fill: #174EA6;\n",
              "    }\n",
              "\n",
              "    .colab-df-buttons div {\n",
              "      margin-bottom: 4px;\n",
              "    }\n",
              "\n",
              "    [theme=dark] .colab-df-convert {\n",
              "      background-color: #3B4455;\n",
              "      fill: #D2E3FC;\n",
              "    }\n",
              "\n",
              "    [theme=dark] .colab-df-convert:hover {\n",
              "      background-color: #434B5C;\n",
              "      box-shadow: 0px 1px 3px 1px rgba(0, 0, 0, 0.15);\n",
              "      filter: drop-shadow(0px 1px 2px rgba(0, 0, 0, 0.3));\n",
              "      fill: #FFFFFF;\n",
              "    }\n",
              "  </style>\n",
              "\n",
              "    <script>\n",
              "      const buttonEl =\n",
              "        document.querySelector('#df-213224ea-3d64-4525-89cf-1e7e9215b767 button.colab-df-convert');\n",
              "      buttonEl.style.display =\n",
              "        google.colab.kernel.accessAllowed ? 'block' : 'none';\n",
              "\n",
              "      async function convertToInteractive(key) {\n",
              "        const element = document.querySelector('#df-213224ea-3d64-4525-89cf-1e7e9215b767');\n",
              "        const dataTable =\n",
              "          await google.colab.kernel.invokeFunction('convertToInteractive',\n",
              "                                                    [key], {});\n",
              "        if (!dataTable) return;\n",
              "\n",
              "        const docLinkHtml = 'Like what you see? Visit the ' +\n",
              "          '<a target=\"_blank\" href=https://colab.research.google.com/notebooks/data_table.ipynb>data table notebook</a>'\n",
              "          + ' to learn more about interactive tables.';\n",
              "        element.innerHTML = '';\n",
              "        dataTable['output_type'] = 'display_data';\n",
              "        await google.colab.output.renderOutput(dataTable, element);\n",
              "        const docLink = document.createElement('div');\n",
              "        docLink.innerHTML = docLinkHtml;\n",
              "        element.appendChild(docLink);\n",
              "      }\n",
              "    </script>\n",
              "  </div>\n",
              "\n",
              "\n",
              "<div id=\"df-1cc28094-67bb-4250-a600-1b6a4189800b\">\n",
              "  <button class=\"colab-df-quickchart\" onclick=\"quickchart('df-1cc28094-67bb-4250-a600-1b6a4189800b')\"\n",
              "            title=\"Suggest charts\"\n",
              "            style=\"display:none;\">\n",
              "\n",
              "<svg xmlns=\"http://www.w3.org/2000/svg\" height=\"24px\"viewBox=\"0 0 24 24\"\n",
              "     width=\"24px\">\n",
              "    <g>\n",
              "        <path d=\"M19 3H5c-1.1 0-2 .9-2 2v14c0 1.1.9 2 2 2h14c1.1 0 2-.9 2-2V5c0-1.1-.9-2-2-2zM9 17H7v-7h2v7zm4 0h-2V7h2v10zm4 0h-2v-4h2v4z\"/>\n",
              "    </g>\n",
              "</svg>\n",
              "  </button>\n",
              "\n",
              "<style>\n",
              "  .colab-df-quickchart {\n",
              "      --bg-color: #E8F0FE;\n",
              "      --fill-color: #1967D2;\n",
              "      --hover-bg-color: #E2EBFA;\n",
              "      --hover-fill-color: #174EA6;\n",
              "      --disabled-fill-color: #AAA;\n",
              "      --disabled-bg-color: #DDD;\n",
              "  }\n",
              "\n",
              "  [theme=dark] .colab-df-quickchart {\n",
              "      --bg-color: #3B4455;\n",
              "      --fill-color: #D2E3FC;\n",
              "      --hover-bg-color: #434B5C;\n",
              "      --hover-fill-color: #FFFFFF;\n",
              "      --disabled-bg-color: #3B4455;\n",
              "      --disabled-fill-color: #666;\n",
              "  }\n",
              "\n",
              "  .colab-df-quickchart {\n",
              "    background-color: var(--bg-color);\n",
              "    border: none;\n",
              "    border-radius: 50%;\n",
              "    cursor: pointer;\n",
              "    display: none;\n",
              "    fill: var(--fill-color);\n",
              "    height: 32px;\n",
              "    padding: 0;\n",
              "    width: 32px;\n",
              "  }\n",
              "\n",
              "  .colab-df-quickchart:hover {\n",
              "    background-color: var(--hover-bg-color);\n",
              "    box-shadow: 0 1px 2px rgba(60, 64, 67, 0.3), 0 1px 3px 1px rgba(60, 64, 67, 0.15);\n",
              "    fill: var(--button-hover-fill-color);\n",
              "  }\n",
              "\n",
              "  .colab-df-quickchart-complete:disabled,\n",
              "  .colab-df-quickchart-complete:disabled:hover {\n",
              "    background-color: var(--disabled-bg-color);\n",
              "    fill: var(--disabled-fill-color);\n",
              "    box-shadow: none;\n",
              "  }\n",
              "\n",
              "  .colab-df-spinner {\n",
              "    border: 2px solid var(--fill-color);\n",
              "    border-color: transparent;\n",
              "    border-bottom-color: var(--fill-color);\n",
              "    animation:\n",
              "      spin 1s steps(1) infinite;\n",
              "  }\n",
              "\n",
              "  @keyframes spin {\n",
              "    0% {\n",
              "      border-color: transparent;\n",
              "      border-bottom-color: var(--fill-color);\n",
              "      border-left-color: var(--fill-color);\n",
              "    }\n",
              "    20% {\n",
              "      border-color: transparent;\n",
              "      border-left-color: var(--fill-color);\n",
              "      border-top-color: var(--fill-color);\n",
              "    }\n",
              "    30% {\n",
              "      border-color: transparent;\n",
              "      border-left-color: var(--fill-color);\n",
              "      border-top-color: var(--fill-color);\n",
              "      border-right-color: var(--fill-color);\n",
              "    }\n",
              "    40% {\n",
              "      border-color: transparent;\n",
              "      border-right-color: var(--fill-color);\n",
              "      border-top-color: var(--fill-color);\n",
              "    }\n",
              "    60% {\n",
              "      border-color: transparent;\n",
              "      border-right-color: var(--fill-color);\n",
              "    }\n",
              "    80% {\n",
              "      border-color: transparent;\n",
              "      border-right-color: var(--fill-color);\n",
              "      border-bottom-color: var(--fill-color);\n",
              "    }\n",
              "    90% {\n",
              "      border-color: transparent;\n",
              "      border-bottom-color: var(--fill-color);\n",
              "    }\n",
              "  }\n",
              "</style>\n",
              "\n",
              "  <script>\n",
              "    async function quickchart(key) {\n",
              "      const quickchartButtonEl =\n",
              "        document.querySelector('#' + key + ' button');\n",
              "      quickchartButtonEl.disabled = true;  // To prevent multiple clicks.\n",
              "      quickchartButtonEl.classList.add('colab-df-spinner');\n",
              "      try {\n",
              "        const charts = await google.colab.kernel.invokeFunction(\n",
              "            'suggestCharts', [key], {});\n",
              "      } catch (error) {\n",
              "        console.error('Error during call to suggestCharts:', error);\n",
              "      }\n",
              "      quickchartButtonEl.classList.remove('colab-df-spinner');\n",
              "      quickchartButtonEl.classList.add('colab-df-quickchart-complete');\n",
              "    }\n",
              "    (() => {\n",
              "      let quickchartButtonEl =\n",
              "        document.querySelector('#df-1cc28094-67bb-4250-a600-1b6a4189800b button');\n",
              "      quickchartButtonEl.style.display =\n",
              "        google.colab.kernel.accessAllowed ? 'block' : 'none';\n",
              "    })();\n",
              "  </script>\n",
              "</div>\n",
              "\n",
              "    </div>\n",
              "  </div>\n"
            ],
            "application/vnd.google.colaboratory.intrinsic+json": {
              "type": "dataframe",
              "summary": "{\n  \"name\": \"soma_ausentes(df2)\",\n  \"rows\": 17,\n  \"fields\": [\n    {\n      \"column\": \"Variav\\u00e9is\",\n      \"properties\": {\n        \"dtype\": \"string\",\n        \"num_unique_values\": 17,\n        \"samples\": [\n          \"ADHERENCE\",\n          \"PAG_MINW\",\n          \"HEI2015C12_SFAT\"\n        ],\n        \"semantic_type\": \"\",\n        \"description\": \"\"\n      }\n    },\n    {\n      \"column\": \"Soma de ausentes\",\n      \"properties\": {\n        \"dtype\": \"number\",\n        \"std\": 528,\n        \"min\": 0,\n        \"max\": 2274,\n        \"num_unique_values\": 3,\n        \"samples\": [\n          2274,\n          875,\n          0\n        ],\n        \"semantic_type\": \"\",\n        \"description\": \"\"\n      }\n    }\n  ]\n}"
            }
          },
          "metadata": {},
          "execution_count": 12
        }
      ]
    },
    {
      "cell_type": "markdown",
      "source": [
        "Apenas a variável SEQN não apresenta nenhum valor ausente, o que já era de se esperar levando em consideração que ela é o nosso atributo chave. As variáveis 'ADHERENCE' e 'PAG_MINW' apresentam o maior número de valores ausentes. O restante das variáveis, com exceção da variável 'SEQN', apresentaram o mesmo número de valores ausentes, sendo todos 875."
      ],
      "metadata": {
        "id": "x-ZvH4QDAR_0"
      }
    },
    {
      "cell_type": "markdown",
      "source": [
        "\"Agora que vimos um pouco dos nossos dados ausentes, vamos observar um breve resumo estatístico dos nossos dados."
      ],
      "metadata": {
        "id": "Bfpym2iSBKnE"
      }
    },
    {
      "cell_type": "code",
      "source": [
        "# Resumo estatístico dos dados\n",
        "df2.describe()"
      ],
      "metadata": {
        "colab": {
          "base_uri": "https://localhost:8080/",
          "height": 0
        },
        "id": "AtN98YiiBPji",
        "outputId": "08fc0214-cdd7-4af0-88e2-81c0f1c996a5"
      },
      "execution_count": 13,
      "outputs": [
        {
          "output_type": "execute_result",
          "data": {
            "text/plain": [
              "               SEQN      PAG_MINW    ADHERENCE  HEI2015C1_TOTALVEG  \\\n",
              "count   9424.000000   7150.000000  7150.000000         8549.000000   \n",
              "mean   36311.463285    565.120067     2.074685            2.862097   \n",
              "std     2991.517794    908.839544     0.917351            1.472391   \n",
              "min    31128.000000      0.000000     1.000000            0.000000   \n",
              "25%    33720.750000     55.427252     1.000000            1.692308   \n",
              "50%    36307.500000    256.351039     2.000000            2.753825   \n",
              "75%    38902.250000    696.016166     3.000000            4.165605   \n",
              "max    41474.000000  13801.385681     3.000000            5.000000   \n",
              "\n",
              "       HEI2015C2_GREEN_AND_BEAN  HEI2015C3_TOTALFRUIT  HEI2015C4_WHOLEFRUIT  \\\n",
              "count               8549.000000           8549.000000           8549.000000   \n",
              "mean                   1.547884              2.659902              2.405864   \n",
              "std                    2.046650              1.930251              2.152560   \n",
              "min                    0.000000              0.000000              0.000000   \n",
              "25%                    0.000000              0.725494              0.000000   \n",
              "50%                    0.000000              2.618554              2.179715   \n",
              "75%                    3.498013              5.000000              5.000000   \n",
              "max                    5.000000              5.000000              5.000000   \n",
              "\n",
              "       HEI2015C5_WHOLEGRAIN  HEI2015C6_TOTALDAIRY  HEI2015C7_TOTPROT  \\\n",
              "count           8549.000000           8549.000000        8549.000000   \n",
              "mean               1.674949              4.054757           4.211867   \n",
              "std                1.823515              1.478922           1.157194   \n",
              "min                0.000000              0.000000           0.000000   \n",
              "25%                0.000000              3.336989           3.587339   \n",
              "50%                1.018207              5.000000           5.000000   \n",
              "75%                2.997076              5.000000           5.000000   \n",
              "max                5.000000              5.000000           5.000000   \n",
              "\n",
              "       HEI2015C8_SEAPLANT_PROT  HEI2015C9_FATTYACID  HEI2015C10_SODIUM  \\\n",
              "count              8549.000000          8549.000000        8549.000000   \n",
              "mean                  2.325303             4.205320           4.988956   \n",
              "std                   2.132526             3.147736           3.293786   \n",
              "min                   0.000000             0.000000           0.000000   \n",
              "25%                   0.000000             1.544438           2.258630   \n",
              "50%                   1.836220             3.789177           5.144181   \n",
              "75%                   5.000000             6.464805           7.705660   \n",
              "max                   5.000000            10.000000          10.000000   \n",
              "\n",
              "       HEI2015C11_REFINEDGRAIN  HEI2015C12_SFAT  HEI2015C13_ADDSUG  \\\n",
              "count              8549.000000      8549.000000        8549.000000   \n",
              "mean                  5.540906         5.781459           5.959600   \n",
              "std                   3.452289         3.090926           3.215960   \n",
              "min                   0.000000         0.000000           0.000000   \n",
              "25%                   2.652670         3.514716           3.599885   \n",
              "50%                   5.880968         5.979335           6.327416   \n",
              "75%                   8.756728         8.390884           8.859520   \n",
              "max                  10.000000        10.000000          10.000000   \n",
              "\n",
              "       HEI2015_TOTAL_SCORE  \n",
              "count          8549.000000  \n",
              "mean             48.218865  \n",
              "std              11.884725  \n",
              "min              13.243513  \n",
              "25%              39.643349  \n",
              "50%              47.589498  \n",
              "75%              56.028859  \n",
              "max              89.529383  "
            ],
            "text/html": [
              "\n",
              "  <div id=\"df-2050e444-3e18-4b0d-9cc3-4fb84d2a11c2\" class=\"colab-df-container\">\n",
              "    <div>\n",
              "<style scoped>\n",
              "    .dataframe tbody tr th:only-of-type {\n",
              "        vertical-align: middle;\n",
              "    }\n",
              "\n",
              "    .dataframe tbody tr th {\n",
              "        vertical-align: top;\n",
              "    }\n",
              "\n",
              "    .dataframe thead th {\n",
              "        text-align: right;\n",
              "    }\n",
              "</style>\n",
              "<table border=\"1\" class=\"dataframe\">\n",
              "  <thead>\n",
              "    <tr style=\"text-align: right;\">\n",
              "      <th></th>\n",
              "      <th>SEQN</th>\n",
              "      <th>PAG_MINW</th>\n",
              "      <th>ADHERENCE</th>\n",
              "      <th>HEI2015C1_TOTALVEG</th>\n",
              "      <th>HEI2015C2_GREEN_AND_BEAN</th>\n",
              "      <th>HEI2015C3_TOTALFRUIT</th>\n",
              "      <th>HEI2015C4_WHOLEFRUIT</th>\n",
              "      <th>HEI2015C5_WHOLEGRAIN</th>\n",
              "      <th>HEI2015C6_TOTALDAIRY</th>\n",
              "      <th>HEI2015C7_TOTPROT</th>\n",
              "      <th>HEI2015C8_SEAPLANT_PROT</th>\n",
              "      <th>HEI2015C9_FATTYACID</th>\n",
              "      <th>HEI2015C10_SODIUM</th>\n",
              "      <th>HEI2015C11_REFINEDGRAIN</th>\n",
              "      <th>HEI2015C12_SFAT</th>\n",
              "      <th>HEI2015C13_ADDSUG</th>\n",
              "      <th>HEI2015_TOTAL_SCORE</th>\n",
              "    </tr>\n",
              "  </thead>\n",
              "  <tbody>\n",
              "    <tr>\n",
              "      <th>count</th>\n",
              "      <td>9424.000000</td>\n",
              "      <td>7150.000000</td>\n",
              "      <td>7150.000000</td>\n",
              "      <td>8549.000000</td>\n",
              "      <td>8549.000000</td>\n",
              "      <td>8549.000000</td>\n",
              "      <td>8549.000000</td>\n",
              "      <td>8549.000000</td>\n",
              "      <td>8549.000000</td>\n",
              "      <td>8549.000000</td>\n",
              "      <td>8549.000000</td>\n",
              "      <td>8549.000000</td>\n",
              "      <td>8549.000000</td>\n",
              "      <td>8549.000000</td>\n",
              "      <td>8549.000000</td>\n",
              "      <td>8549.000000</td>\n",
              "      <td>8549.000000</td>\n",
              "    </tr>\n",
              "    <tr>\n",
              "      <th>mean</th>\n",
              "      <td>36311.463285</td>\n",
              "      <td>565.120067</td>\n",
              "      <td>2.074685</td>\n",
              "      <td>2.862097</td>\n",
              "      <td>1.547884</td>\n",
              "      <td>2.659902</td>\n",
              "      <td>2.405864</td>\n",
              "      <td>1.674949</td>\n",
              "      <td>4.054757</td>\n",
              "      <td>4.211867</td>\n",
              "      <td>2.325303</td>\n",
              "      <td>4.205320</td>\n",
              "      <td>4.988956</td>\n",
              "      <td>5.540906</td>\n",
              "      <td>5.781459</td>\n",
              "      <td>5.959600</td>\n",
              "      <td>48.218865</td>\n",
              "    </tr>\n",
              "    <tr>\n",
              "      <th>std</th>\n",
              "      <td>2991.517794</td>\n",
              "      <td>908.839544</td>\n",
              "      <td>0.917351</td>\n",
              "      <td>1.472391</td>\n",
              "      <td>2.046650</td>\n",
              "      <td>1.930251</td>\n",
              "      <td>2.152560</td>\n",
              "      <td>1.823515</td>\n",
              "      <td>1.478922</td>\n",
              "      <td>1.157194</td>\n",
              "      <td>2.132526</td>\n",
              "      <td>3.147736</td>\n",
              "      <td>3.293786</td>\n",
              "      <td>3.452289</td>\n",
              "      <td>3.090926</td>\n",
              "      <td>3.215960</td>\n",
              "      <td>11.884725</td>\n",
              "    </tr>\n",
              "    <tr>\n",
              "      <th>min</th>\n",
              "      <td>31128.000000</td>\n",
              "      <td>0.000000</td>\n",
              "      <td>1.000000</td>\n",
              "      <td>0.000000</td>\n",
              "      <td>0.000000</td>\n",
              "      <td>0.000000</td>\n",
              "      <td>0.000000</td>\n",
              "      <td>0.000000</td>\n",
              "      <td>0.000000</td>\n",
              "      <td>0.000000</td>\n",
              "      <td>0.000000</td>\n",
              "      <td>0.000000</td>\n",
              "      <td>0.000000</td>\n",
              "      <td>0.000000</td>\n",
              "      <td>0.000000</td>\n",
              "      <td>0.000000</td>\n",
              "      <td>13.243513</td>\n",
              "    </tr>\n",
              "    <tr>\n",
              "      <th>25%</th>\n",
              "      <td>33720.750000</td>\n",
              "      <td>55.427252</td>\n",
              "      <td>1.000000</td>\n",
              "      <td>1.692308</td>\n",
              "      <td>0.000000</td>\n",
              "      <td>0.725494</td>\n",
              "      <td>0.000000</td>\n",
              "      <td>0.000000</td>\n",
              "      <td>3.336989</td>\n",
              "      <td>3.587339</td>\n",
              "      <td>0.000000</td>\n",
              "      <td>1.544438</td>\n",
              "      <td>2.258630</td>\n",
              "      <td>2.652670</td>\n",
              "      <td>3.514716</td>\n",
              "      <td>3.599885</td>\n",
              "      <td>39.643349</td>\n",
              "    </tr>\n",
              "    <tr>\n",
              "      <th>50%</th>\n",
              "      <td>36307.500000</td>\n",
              "      <td>256.351039</td>\n",
              "      <td>2.000000</td>\n",
              "      <td>2.753825</td>\n",
              "      <td>0.000000</td>\n",
              "      <td>2.618554</td>\n",
              "      <td>2.179715</td>\n",
              "      <td>1.018207</td>\n",
              "      <td>5.000000</td>\n",
              "      <td>5.000000</td>\n",
              "      <td>1.836220</td>\n",
              "      <td>3.789177</td>\n",
              "      <td>5.144181</td>\n",
              "      <td>5.880968</td>\n",
              "      <td>5.979335</td>\n",
              "      <td>6.327416</td>\n",
              "      <td>47.589498</td>\n",
              "    </tr>\n",
              "    <tr>\n",
              "      <th>75%</th>\n",
              "      <td>38902.250000</td>\n",
              "      <td>696.016166</td>\n",
              "      <td>3.000000</td>\n",
              "      <td>4.165605</td>\n",
              "      <td>3.498013</td>\n",
              "      <td>5.000000</td>\n",
              "      <td>5.000000</td>\n",
              "      <td>2.997076</td>\n",
              "      <td>5.000000</td>\n",
              "      <td>5.000000</td>\n",
              "      <td>5.000000</td>\n",
              "      <td>6.464805</td>\n",
              "      <td>7.705660</td>\n",
              "      <td>8.756728</td>\n",
              "      <td>8.390884</td>\n",
              "      <td>8.859520</td>\n",
              "      <td>56.028859</td>\n",
              "    </tr>\n",
              "    <tr>\n",
              "      <th>max</th>\n",
              "      <td>41474.000000</td>\n",
              "      <td>13801.385681</td>\n",
              "      <td>3.000000</td>\n",
              "      <td>5.000000</td>\n",
              "      <td>5.000000</td>\n",
              "      <td>5.000000</td>\n",
              "      <td>5.000000</td>\n",
              "      <td>5.000000</td>\n",
              "      <td>5.000000</td>\n",
              "      <td>5.000000</td>\n",
              "      <td>5.000000</td>\n",
              "      <td>10.000000</td>\n",
              "      <td>10.000000</td>\n",
              "      <td>10.000000</td>\n",
              "      <td>10.000000</td>\n",
              "      <td>10.000000</td>\n",
              "      <td>89.529383</td>\n",
              "    </tr>\n",
              "  </tbody>\n",
              "</table>\n",
              "</div>\n",
              "    <div class=\"colab-df-buttons\">\n",
              "\n",
              "  <div class=\"colab-df-container\">\n",
              "    <button class=\"colab-df-convert\" onclick=\"convertToInteractive('df-2050e444-3e18-4b0d-9cc3-4fb84d2a11c2')\"\n",
              "            title=\"Convert this dataframe to an interactive table.\"\n",
              "            style=\"display:none;\">\n",
              "\n",
              "  <svg xmlns=\"http://www.w3.org/2000/svg\" height=\"24px\" viewBox=\"0 -960 960 960\">\n",
              "    <path d=\"M120-120v-720h720v720H120Zm60-500h600v-160H180v160Zm220 220h160v-160H400v160Zm0 220h160v-160H400v160ZM180-400h160v-160H180v160Zm440 0h160v-160H620v160ZM180-180h160v-160H180v160Zm440 0h160v-160H620v160Z\"/>\n",
              "  </svg>\n",
              "    </button>\n",
              "\n",
              "  <style>\n",
              "    .colab-df-container {\n",
              "      display:flex;\n",
              "      gap: 12px;\n",
              "    }\n",
              "\n",
              "    .colab-df-convert {\n",
              "      background-color: #E8F0FE;\n",
              "      border: none;\n",
              "      border-radius: 50%;\n",
              "      cursor: pointer;\n",
              "      display: none;\n",
              "      fill: #1967D2;\n",
              "      height: 32px;\n",
              "      padding: 0 0 0 0;\n",
              "      width: 32px;\n",
              "    }\n",
              "\n",
              "    .colab-df-convert:hover {\n",
              "      background-color: #E2EBFA;\n",
              "      box-shadow: 0px 1px 2px rgba(60, 64, 67, 0.3), 0px 1px 3px 1px rgba(60, 64, 67, 0.15);\n",
              "      fill: #174EA6;\n",
              "    }\n",
              "\n",
              "    .colab-df-buttons div {\n",
              "      margin-bottom: 4px;\n",
              "    }\n",
              "\n",
              "    [theme=dark] .colab-df-convert {\n",
              "      background-color: #3B4455;\n",
              "      fill: #D2E3FC;\n",
              "    }\n",
              "\n",
              "    [theme=dark] .colab-df-convert:hover {\n",
              "      background-color: #434B5C;\n",
              "      box-shadow: 0px 1px 3px 1px rgba(0, 0, 0, 0.15);\n",
              "      filter: drop-shadow(0px 1px 2px rgba(0, 0, 0, 0.3));\n",
              "      fill: #FFFFFF;\n",
              "    }\n",
              "  </style>\n",
              "\n",
              "    <script>\n",
              "      const buttonEl =\n",
              "        document.querySelector('#df-2050e444-3e18-4b0d-9cc3-4fb84d2a11c2 button.colab-df-convert');\n",
              "      buttonEl.style.display =\n",
              "        google.colab.kernel.accessAllowed ? 'block' : 'none';\n",
              "\n",
              "      async function convertToInteractive(key) {\n",
              "        const element = document.querySelector('#df-2050e444-3e18-4b0d-9cc3-4fb84d2a11c2');\n",
              "        const dataTable =\n",
              "          await google.colab.kernel.invokeFunction('convertToInteractive',\n",
              "                                                    [key], {});\n",
              "        if (!dataTable) return;\n",
              "\n",
              "        const docLinkHtml = 'Like what you see? Visit the ' +\n",
              "          '<a target=\"_blank\" href=https://colab.research.google.com/notebooks/data_table.ipynb>data table notebook</a>'\n",
              "          + ' to learn more about interactive tables.';\n",
              "        element.innerHTML = '';\n",
              "        dataTable['output_type'] = 'display_data';\n",
              "        await google.colab.output.renderOutput(dataTable, element);\n",
              "        const docLink = document.createElement('div');\n",
              "        docLink.innerHTML = docLinkHtml;\n",
              "        element.appendChild(docLink);\n",
              "      }\n",
              "    </script>\n",
              "  </div>\n",
              "\n",
              "\n",
              "<div id=\"df-8f6e27ac-d176-467f-aabc-3f63c43003e0\">\n",
              "  <button class=\"colab-df-quickchart\" onclick=\"quickchart('df-8f6e27ac-d176-467f-aabc-3f63c43003e0')\"\n",
              "            title=\"Suggest charts\"\n",
              "            style=\"display:none;\">\n",
              "\n",
              "<svg xmlns=\"http://www.w3.org/2000/svg\" height=\"24px\"viewBox=\"0 0 24 24\"\n",
              "     width=\"24px\">\n",
              "    <g>\n",
              "        <path d=\"M19 3H5c-1.1 0-2 .9-2 2v14c0 1.1.9 2 2 2h14c1.1 0 2-.9 2-2V5c0-1.1-.9-2-2-2zM9 17H7v-7h2v7zm4 0h-2V7h2v10zm4 0h-2v-4h2v4z\"/>\n",
              "    </g>\n",
              "</svg>\n",
              "  </button>\n",
              "\n",
              "<style>\n",
              "  .colab-df-quickchart {\n",
              "      --bg-color: #E8F0FE;\n",
              "      --fill-color: #1967D2;\n",
              "      --hover-bg-color: #E2EBFA;\n",
              "      --hover-fill-color: #174EA6;\n",
              "      --disabled-fill-color: #AAA;\n",
              "      --disabled-bg-color: #DDD;\n",
              "  }\n",
              "\n",
              "  [theme=dark] .colab-df-quickchart {\n",
              "      --bg-color: #3B4455;\n",
              "      --fill-color: #D2E3FC;\n",
              "      --hover-bg-color: #434B5C;\n",
              "      --hover-fill-color: #FFFFFF;\n",
              "      --disabled-bg-color: #3B4455;\n",
              "      --disabled-fill-color: #666;\n",
              "  }\n",
              "\n",
              "  .colab-df-quickchart {\n",
              "    background-color: var(--bg-color);\n",
              "    border: none;\n",
              "    border-radius: 50%;\n",
              "    cursor: pointer;\n",
              "    display: none;\n",
              "    fill: var(--fill-color);\n",
              "    height: 32px;\n",
              "    padding: 0;\n",
              "    width: 32px;\n",
              "  }\n",
              "\n",
              "  .colab-df-quickchart:hover {\n",
              "    background-color: var(--hover-bg-color);\n",
              "    box-shadow: 0 1px 2px rgba(60, 64, 67, 0.3), 0 1px 3px 1px rgba(60, 64, 67, 0.15);\n",
              "    fill: var(--button-hover-fill-color);\n",
              "  }\n",
              "\n",
              "  .colab-df-quickchart-complete:disabled,\n",
              "  .colab-df-quickchart-complete:disabled:hover {\n",
              "    background-color: var(--disabled-bg-color);\n",
              "    fill: var(--disabled-fill-color);\n",
              "    box-shadow: none;\n",
              "  }\n",
              "\n",
              "  .colab-df-spinner {\n",
              "    border: 2px solid var(--fill-color);\n",
              "    border-color: transparent;\n",
              "    border-bottom-color: var(--fill-color);\n",
              "    animation:\n",
              "      spin 1s steps(1) infinite;\n",
              "  }\n",
              "\n",
              "  @keyframes spin {\n",
              "    0% {\n",
              "      border-color: transparent;\n",
              "      border-bottom-color: var(--fill-color);\n",
              "      border-left-color: var(--fill-color);\n",
              "    }\n",
              "    20% {\n",
              "      border-color: transparent;\n",
              "      border-left-color: var(--fill-color);\n",
              "      border-top-color: var(--fill-color);\n",
              "    }\n",
              "    30% {\n",
              "      border-color: transparent;\n",
              "      border-left-color: var(--fill-color);\n",
              "      border-top-color: var(--fill-color);\n",
              "      border-right-color: var(--fill-color);\n",
              "    }\n",
              "    40% {\n",
              "      border-color: transparent;\n",
              "      border-right-color: var(--fill-color);\n",
              "      border-top-color: var(--fill-color);\n",
              "    }\n",
              "    60% {\n",
              "      border-color: transparent;\n",
              "      border-right-color: var(--fill-color);\n",
              "    }\n",
              "    80% {\n",
              "      border-color: transparent;\n",
              "      border-right-color: var(--fill-color);\n",
              "      border-bottom-color: var(--fill-color);\n",
              "    }\n",
              "    90% {\n",
              "      border-color: transparent;\n",
              "      border-bottom-color: var(--fill-color);\n",
              "    }\n",
              "  }\n",
              "</style>\n",
              "\n",
              "  <script>\n",
              "    async function quickchart(key) {\n",
              "      const quickchartButtonEl =\n",
              "        document.querySelector('#' + key + ' button');\n",
              "      quickchartButtonEl.disabled = true;  // To prevent multiple clicks.\n",
              "      quickchartButtonEl.classList.add('colab-df-spinner');\n",
              "      try {\n",
              "        const charts = await google.colab.kernel.invokeFunction(\n",
              "            'suggestCharts', [key], {});\n",
              "      } catch (error) {\n",
              "        console.error('Error during call to suggestCharts:', error);\n",
              "      }\n",
              "      quickchartButtonEl.classList.remove('colab-df-spinner');\n",
              "      quickchartButtonEl.classList.add('colab-df-quickchart-complete');\n",
              "    }\n",
              "    (() => {\n",
              "      let quickchartButtonEl =\n",
              "        document.querySelector('#df-8f6e27ac-d176-467f-aabc-3f63c43003e0 button');\n",
              "      quickchartButtonEl.style.display =\n",
              "        google.colab.kernel.accessAllowed ? 'block' : 'none';\n",
              "    })();\n",
              "  </script>\n",
              "</div>\n",
              "\n",
              "    </div>\n",
              "  </div>\n"
            ],
            "application/vnd.google.colaboratory.intrinsic+json": {
              "type": "dataframe",
              "summary": "{\n  \"name\": \"df2\",\n  \"rows\": 8,\n  \"fields\": [\n    {\n      \"column\": \"SEQN\",\n      \"properties\": {\n        \"dtype\": \"number\",\n        \"std\": 14375.616231102938,\n        \"min\": 2991.5177935003344,\n        \"max\": 41474.0,\n        \"num_unique_values\": 8,\n        \"samples\": [\n          36311.463285229205,\n          36307.5,\n          9424.0\n        ],\n        \"semantic_type\": \"\",\n        \"description\": \"\"\n      }\n    },\n    {\n      \"column\": \"PAG_MINW\",\n      \"properties\": {\n        \"dtype\": \"number\",\n        \"std\": 4995.145049473487,\n        \"min\": 0.0,\n        \"max\": 13801.3856812933,\n        \"num_unique_values\": 8,\n        \"samples\": [\n          565.120066861545,\n          256.35103926097,\n          7150.0\n        ],\n        \"semantic_type\": \"\",\n        \"description\": \"\"\n      }\n    },\n    {\n      \"column\": \"ADHERENCE\",\n      \"properties\": {\n        \"dtype\": \"number\",\n        \"std\": 2527.25068805332,\n        \"min\": 0.9173509729975429,\n        \"max\": 7150.0,\n        \"num_unique_values\": 6,\n        \"samples\": [\n          7150.0,\n          2.074685314685315,\n          3.0\n        ],\n        \"semantic_type\": \"\",\n        \"description\": \"\"\n      }\n    },\n    {\n      \"column\": \"HEI2015C1_TOTALVEG\",\n      \"properties\": {\n        \"dtype\": \"number\",\n        \"std\": 3021.621920288148,\n        \"min\": 0.0,\n        \"max\": 8549.0,\n        \"num_unique_values\": 8,\n        \"samples\": [\n          2.8620970795876537,\n          2.75382512224617,\n          8549.0\n        ],\n        \"semantic_type\": \"\",\n        \"description\": \"\"\n      }\n    },\n    {\n      \"column\": \"HEI2015C2_GREEN_AND_BEAN\",\n      \"properties\": {\n        \"dtype\": \"number\",\n        \"std\": 3021.9177123245527,\n        \"min\": 0.0,\n        \"max\": 8549.0,\n        \"num_unique_values\": 6,\n        \"samples\": [\n          8549.0,\n          1.5478838387580762,\n          5.0\n        ],\n        \"semantic_type\": \"\",\n        \"description\": \"\"\n      }\n    },\n    {\n      \"column\": \"HEI2015C3_TOTALFRUIT\",\n      \"properties\": {\n        \"dtype\": \"number\",\n        \"std\": 3021.622647890776,\n        \"min\": 0.0,\n        \"max\": 8549.0,\n        \"num_unique_values\": 7,\n        \"samples\": [\n          8549.0,\n          2.659901505425556,\n          2.61855432780847\n        ],\n        \"semantic_type\": \"\",\n        \"description\": \"\"\n      }\n    },\n    {\n      \"column\": \"HEI2015C4_WHOLEFRUIT\",\n      \"properties\": {\n        \"dtype\": \"number\",\n        \"std\": 3021.683126952669,\n        \"min\": 0.0,\n        \"max\": 8549.0,\n        \"num_unique_values\": 6,\n        \"samples\": [\n          8549.0,\n          2.4058639919624762,\n          5.0\n        ],\n        \"semantic_type\": \"\",\n        \"description\": \"\"\n      }\n    },\n    {\n      \"column\": \"HEI2015C5_WHOLEGRAIN\",\n      \"properties\": {\n        \"dtype\": \"number\",\n        \"std\": 3021.8963404148867,\n        \"min\": 0.0,\n        \"max\": 8549.0,\n        \"num_unique_values\": 7,\n        \"samples\": [\n          8549.0,\n          1.6749491288864284,\n          2.99707602339181\n        ],\n        \"semantic_type\": \"\",\n        \"description\": \"\"\n      }\n    },\n    {\n      \"column\": \"HEI2015C6_TOTALDAIRY\",\n      \"properties\": {\n        \"dtype\": \"number\",\n        \"std\": 3021.322837708287,\n        \"min\": 0.0,\n        \"max\": 8549.0,\n        \"num_unique_values\": 6,\n        \"samples\": [\n          8549.0,\n          4.054757182091905,\n          5.0\n        ],\n        \"semantic_type\": \"\",\n        \"description\": \"\"\n      }\n    },\n    {\n      \"column\": \"HEI2015C7_TOTPROT\",\n      \"properties\": {\n        \"dtype\": \"number\",\n        \"std\": 3021.3185453647743,\n        \"min\": 0.0,\n        \"max\": 8549.0,\n        \"num_unique_values\": 6,\n        \"samples\": [\n          8549.0,\n          4.211867021628728,\n          5.0\n        ],\n        \"semantic_type\": \"\",\n        \"description\": \"\"\n      }\n    },\n    {\n      \"column\": \"HEI2015C8_SEAPLANT_PROT\",\n      \"properties\": {\n        \"dtype\": \"number\",\n        \"std\": 3021.7055628004086,\n        \"min\": 0.0,\n        \"max\": 8549.0,\n        \"num_unique_values\": 6,\n        \"samples\": [\n          8549.0,\n          2.325303377325245,\n          5.0\n        ],\n        \"semantic_type\": \"\",\n        \"description\": \"\"\n      }\n    },\n    {\n      \"column\": \"HEI2015C9_FATTYACID\",\n      \"properties\": {\n        \"dtype\": \"number\",\n        \"std\": 3021.057094735815,\n        \"min\": 0.0,\n        \"max\": 8549.0,\n        \"num_unique_values\": 8,\n        \"samples\": [\n          4.205319654695997,\n          3.78917686087497,\n          8549.0\n        ],\n        \"semantic_type\": \"\",\n        \"description\": \"\"\n      }\n    },\n    {\n      \"column\": \"HEI2015C10_SODIUM\",\n      \"properties\": {\n        \"dtype\": \"number\",\n        \"std\": 3020.8430188544344,\n        \"min\": 0.0,\n        \"max\": 8549.0,\n        \"num_unique_values\": 8,\n        \"samples\": [\n          4.988956364565645,\n          5.14418084511542,\n          8549.0\n        ],\n        \"semantic_type\": \"\",\n        \"description\": \"\"\n      }\n    },\n    {\n      \"column\": \"HEI2015C11_REFINEDGRAIN\",\n      \"properties\": {\n        \"dtype\": \"number\",\n        \"std\": 3020.697062310637,\n        \"min\": 0.0,\n        \"max\": 8549.0,\n        \"num_unique_values\": 8,\n        \"samples\": [\n          5.54090587758188,\n          5.88096759470561,\n          8549.0\n        ],\n        \"semantic_type\": \"\",\n        \"description\": \"\"\n      }\n    },\n    {\n      \"column\": \"HEI2015C12_SFAT\",\n      \"properties\": {\n        \"dtype\": \"number\",\n        \"std\": 3020.673030420124,\n        \"min\": 0.0,\n        \"max\": 8549.0,\n        \"num_unique_values\": 8,\n        \"samples\": [\n          5.781459465362386,\n          5.97933467741935,\n          8549.0\n        ],\n        \"semantic_type\": \"\",\n        \"description\": \"\"\n      }\n    },\n    {\n      \"column\": \"HEI2015C13_ADDSUG\",\n      \"properties\": {\n        \"dtype\": \"number\",\n        \"std\": 3020.6122363867544,\n        \"min\": 0.0,\n        \"max\": 8549.0,\n        \"num_unique_values\": 8,\n        \"samples\": [\n          5.959600373386685,\n          6.32741617357002,\n          8549.0\n        ],\n        \"semantic_type\": \"\",\n        \"description\": \"\"\n      }\n    },\n    {\n      \"column\": \"HEI2015_TOTAL_SCORE\",\n      \"properties\": {\n        \"dtype\": \"number\",\n        \"std\": 3007.166434334741,\n        \"min\": 11.884725188370814,\n        \"max\": 8549.0,\n        \"num_unique_values\": 8,\n        \"samples\": [\n          48.21886486125866,\n          47.5894983827021,\n          8549.0\n        ],\n        \"semantic_type\": \"\",\n        \"description\": \"\"\n      }\n    }\n  ]\n}"
            }
          },
          "metadata": {},
          "execution_count": 13
        }
      ]
    },
    {
      "cell_type": "markdown",
      "source": [
        "**Temos alguns pontos interessantes para observarmos**:\n",
        "\n",
        "- Ao analisar a variável 'PAG_MINW', que se refere ao tempo total de atividade aeróbica moderada-vigorosa em minutos, podemos observar que a média da nossa base é de 565 minutos, enquanto a mediana é de 256. O valor máximo de 13801 minutos indica a presença de outliers, o que contribui para a diferença significativa entre a média e a mediana. O terceiro quartil está em 696, indicando que 75% dos nossos dados estão abaixo desse valor.\n",
        "\n",
        "- Na variável 'ADHERENCE', que representa a aderência ao tempo adequado de atividades físicas, a média é de 2, o que é considerado adequado de acordo com nosso dicionário de dados. A mediana está próxima da média, e o terceiro quartil é 3, o que sugere que a distribuição desses dados pode se aproximar de uma normal.\n",
        "\n",
        "- Na variável 'HEI2015C1_TOTALVEG', que indica o total de vegetais, a média é de 2,8, e a mediana está próxima da média. Os valores variam de 0 a 5, que são os limites das alternativas.\n",
        "\n",
        "- Na variável 'HEI2015C3_TOTALFRUIT', que representa o total de frutas, a média é de 2,65, e a mediana é de 2,61. Novamente, a média e a mediana estão próximas.\n",
        "\n",
        "- Entre todas as outras variáveis, temos uma que representa o escore total, 'HEI2015_TOTAL_SCORE', com média de 48 e mediana de 47, indicando uma distribuição semelhante. Observando o terceiro quartil, notamos que 75% dos nossos dados estão abaixo de 56 e 25% acima de 39, sugerindo que a distribuição desses dados pode se aproximar de uma normal."
      ],
      "metadata": {
        "id": "Vi8I_LAxXVVi"
      }
    },
    {
      "cell_type": "markdown",
      "source": [
        "Como acabamos de observar, temos duas bases de dados que serão necessárias para cumprirmos nossos objetivos. Sendo assim, vamos unificar as mesmas utilizando a variável 'SEQN' como nosso atributo chave. Dito isso, vamos realizar a junção das bases."
      ],
      "metadata": {
        "id": "4FdlBkMoQl3i"
      }
    },
    {
      "cell_type": "code",
      "source": [
        "# Realizando a junção\n",
        "df_junto = pd.merge(df, df2, on='SEQN', how='inner')\n",
        "\n",
        "# Observando os primeiros registros\n",
        "df_junto.head()"
      ],
      "metadata": {
        "id": "-KXay-zUB5kT",
        "colab": {
          "base_uri": "https://localhost:8080/",
          "height": 0
        },
        "outputId": "56a95e84-6a6c-4fde-8288-0720327e6ebf"
      },
      "execution_count": 14,
      "outputs": [
        {
          "output_type": "execute_result",
          "data": {
            "text/plain": [
              "    SEQN  DPQ010  DPQ020  DPQ030  DPQ040  DPQ050  DPQ060  DPQ070  DPQ080  \\\n",
              "0  31130     NaN     NaN     NaN     NaN     NaN     NaN     NaN     NaN   \n",
              "1  31131     0.0     0.0     0.0     0.0     0.0     0.0     0.0     0.0   \n",
              "2  31132     0.0     0.0     0.0     0.0     0.0     0.0     0.0     0.0   \n",
              "3  31134     0.0     0.0     0.0     0.0     0.0     0.0     0.0     0.0   \n",
              "4  31139     0.0     0.0     0.0     0.0     3.0     1.0     0.0     0.0   \n",
              "\n",
              "   DPQ090  ...  HEI2015C5_WHOLEGRAIN  HEI2015C6_TOTALDAIRY  HEI2015C7_TOTPROT  \\\n",
              "0     NaN  ...                   NaN                   NaN                NaN   \n",
              "1     0.0  ...              0.000000              3.141062           4.071959   \n",
              "2     0.0  ...              5.000000              4.448512           5.000000   \n",
              "3     0.0  ...              2.217331              2.313900           5.000000   \n",
              "4     0.0  ...              0.211544              0.000000           4.088849   \n",
              "\n",
              "   HEI2015C8_SEAPLANT_PROT  HEI2015C9_FATTYACID  HEI2015C10_SODIUM  \\\n",
              "0                      NaN                  NaN                NaN   \n",
              "1                 2.052399             0.684985           2.297100   \n",
              "2                 0.000000             2.050769           7.369489   \n",
              "3                 1.268648             2.958985           0.000000   \n",
              "4                 4.221442            10.000000           2.845774   \n",
              "\n",
              "   HEI2015C11_REFINEDGRAIN  HEI2015C12_SFAT  HEI2015C13_ADDSUG  \\\n",
              "0                      NaN              NaN                NaN   \n",
              "1                 9.512964         0.438428           3.919226   \n",
              "2                 8.887880         8.186877           9.099088   \n",
              "3                 5.627488         5.863078           5.878686   \n",
              "4                 0.000000        10.000000           9.658507   \n",
              "\n",
              "   HEI2015_TOTAL_SCORE  \n",
              "0                  NaN  \n",
              "1            35.553899  \n",
              "2            63.551696  \n",
              "3            42.886826  \n",
              "4            47.074393  \n",
              "\n",
              "[5 rows x 31 columns]"
            ],
            "text/html": [
              "\n",
              "  <div id=\"df-e54b4622-5542-423a-9a2e-e9f808fa9f3f\" class=\"colab-df-container\">\n",
              "    <div>\n",
              "<style scoped>\n",
              "    .dataframe tbody tr th:only-of-type {\n",
              "        vertical-align: middle;\n",
              "    }\n",
              "\n",
              "    .dataframe tbody tr th {\n",
              "        vertical-align: top;\n",
              "    }\n",
              "\n",
              "    .dataframe thead th {\n",
              "        text-align: right;\n",
              "    }\n",
              "</style>\n",
              "<table border=\"1\" class=\"dataframe\">\n",
              "  <thead>\n",
              "    <tr style=\"text-align: right;\">\n",
              "      <th></th>\n",
              "      <th>SEQN</th>\n",
              "      <th>DPQ010</th>\n",
              "      <th>DPQ020</th>\n",
              "      <th>DPQ030</th>\n",
              "      <th>DPQ040</th>\n",
              "      <th>DPQ050</th>\n",
              "      <th>DPQ060</th>\n",
              "      <th>DPQ070</th>\n",
              "      <th>DPQ080</th>\n",
              "      <th>DPQ090</th>\n",
              "      <th>...</th>\n",
              "      <th>HEI2015C5_WHOLEGRAIN</th>\n",
              "      <th>HEI2015C6_TOTALDAIRY</th>\n",
              "      <th>HEI2015C7_TOTPROT</th>\n",
              "      <th>HEI2015C8_SEAPLANT_PROT</th>\n",
              "      <th>HEI2015C9_FATTYACID</th>\n",
              "      <th>HEI2015C10_SODIUM</th>\n",
              "      <th>HEI2015C11_REFINEDGRAIN</th>\n",
              "      <th>HEI2015C12_SFAT</th>\n",
              "      <th>HEI2015C13_ADDSUG</th>\n",
              "      <th>HEI2015_TOTAL_SCORE</th>\n",
              "    </tr>\n",
              "  </thead>\n",
              "  <tbody>\n",
              "    <tr>\n",
              "      <th>0</th>\n",
              "      <td>31130</td>\n",
              "      <td>NaN</td>\n",
              "      <td>NaN</td>\n",
              "      <td>NaN</td>\n",
              "      <td>NaN</td>\n",
              "      <td>NaN</td>\n",
              "      <td>NaN</td>\n",
              "      <td>NaN</td>\n",
              "      <td>NaN</td>\n",
              "      <td>NaN</td>\n",
              "      <td>...</td>\n",
              "      <td>NaN</td>\n",
              "      <td>NaN</td>\n",
              "      <td>NaN</td>\n",
              "      <td>NaN</td>\n",
              "      <td>NaN</td>\n",
              "      <td>NaN</td>\n",
              "      <td>NaN</td>\n",
              "      <td>NaN</td>\n",
              "      <td>NaN</td>\n",
              "      <td>NaN</td>\n",
              "    </tr>\n",
              "    <tr>\n",
              "      <th>1</th>\n",
              "      <td>31131</td>\n",
              "      <td>0.0</td>\n",
              "      <td>0.0</td>\n",
              "      <td>0.0</td>\n",
              "      <td>0.0</td>\n",
              "      <td>0.0</td>\n",
              "      <td>0.0</td>\n",
              "      <td>0.0</td>\n",
              "      <td>0.0</td>\n",
              "      <td>0.0</td>\n",
              "      <td>...</td>\n",
              "      <td>0.000000</td>\n",
              "      <td>3.141062</td>\n",
              "      <td>4.071959</td>\n",
              "      <td>2.052399</td>\n",
              "      <td>0.684985</td>\n",
              "      <td>2.297100</td>\n",
              "      <td>9.512964</td>\n",
              "      <td>0.438428</td>\n",
              "      <td>3.919226</td>\n",
              "      <td>35.553899</td>\n",
              "    </tr>\n",
              "    <tr>\n",
              "      <th>2</th>\n",
              "      <td>31132</td>\n",
              "      <td>0.0</td>\n",
              "      <td>0.0</td>\n",
              "      <td>0.0</td>\n",
              "      <td>0.0</td>\n",
              "      <td>0.0</td>\n",
              "      <td>0.0</td>\n",
              "      <td>0.0</td>\n",
              "      <td>0.0</td>\n",
              "      <td>0.0</td>\n",
              "      <td>...</td>\n",
              "      <td>5.000000</td>\n",
              "      <td>4.448512</td>\n",
              "      <td>5.000000</td>\n",
              "      <td>0.000000</td>\n",
              "      <td>2.050769</td>\n",
              "      <td>7.369489</td>\n",
              "      <td>8.887880</td>\n",
              "      <td>8.186877</td>\n",
              "      <td>9.099088</td>\n",
              "      <td>63.551696</td>\n",
              "    </tr>\n",
              "    <tr>\n",
              "      <th>3</th>\n",
              "      <td>31134</td>\n",
              "      <td>0.0</td>\n",
              "      <td>0.0</td>\n",
              "      <td>0.0</td>\n",
              "      <td>0.0</td>\n",
              "      <td>0.0</td>\n",
              "      <td>0.0</td>\n",
              "      <td>0.0</td>\n",
              "      <td>0.0</td>\n",
              "      <td>0.0</td>\n",
              "      <td>...</td>\n",
              "      <td>2.217331</td>\n",
              "      <td>2.313900</td>\n",
              "      <td>5.000000</td>\n",
              "      <td>1.268648</td>\n",
              "      <td>2.958985</td>\n",
              "      <td>0.000000</td>\n",
              "      <td>5.627488</td>\n",
              "      <td>5.863078</td>\n",
              "      <td>5.878686</td>\n",
              "      <td>42.886826</td>\n",
              "    </tr>\n",
              "    <tr>\n",
              "      <th>4</th>\n",
              "      <td>31139</td>\n",
              "      <td>0.0</td>\n",
              "      <td>0.0</td>\n",
              "      <td>0.0</td>\n",
              "      <td>0.0</td>\n",
              "      <td>3.0</td>\n",
              "      <td>1.0</td>\n",
              "      <td>0.0</td>\n",
              "      <td>0.0</td>\n",
              "      <td>0.0</td>\n",
              "      <td>...</td>\n",
              "      <td>0.211544</td>\n",
              "      <td>0.000000</td>\n",
              "      <td>4.088849</td>\n",
              "      <td>4.221442</td>\n",
              "      <td>10.000000</td>\n",
              "      <td>2.845774</td>\n",
              "      <td>0.000000</td>\n",
              "      <td>10.000000</td>\n",
              "      <td>9.658507</td>\n",
              "      <td>47.074393</td>\n",
              "    </tr>\n",
              "  </tbody>\n",
              "</table>\n",
              "<p>5 rows × 31 columns</p>\n",
              "</div>\n",
              "    <div class=\"colab-df-buttons\">\n",
              "\n",
              "  <div class=\"colab-df-container\">\n",
              "    <button class=\"colab-df-convert\" onclick=\"convertToInteractive('df-e54b4622-5542-423a-9a2e-e9f808fa9f3f')\"\n",
              "            title=\"Convert this dataframe to an interactive table.\"\n",
              "            style=\"display:none;\">\n",
              "\n",
              "  <svg xmlns=\"http://www.w3.org/2000/svg\" height=\"24px\" viewBox=\"0 -960 960 960\">\n",
              "    <path d=\"M120-120v-720h720v720H120Zm60-500h600v-160H180v160Zm220 220h160v-160H400v160Zm0 220h160v-160H400v160ZM180-400h160v-160H180v160Zm440 0h160v-160H620v160ZM180-180h160v-160H180v160Zm440 0h160v-160H620v160Z\"/>\n",
              "  </svg>\n",
              "    </button>\n",
              "\n",
              "  <style>\n",
              "    .colab-df-container {\n",
              "      display:flex;\n",
              "      gap: 12px;\n",
              "    }\n",
              "\n",
              "    .colab-df-convert {\n",
              "      background-color: #E8F0FE;\n",
              "      border: none;\n",
              "      border-radius: 50%;\n",
              "      cursor: pointer;\n",
              "      display: none;\n",
              "      fill: #1967D2;\n",
              "      height: 32px;\n",
              "      padding: 0 0 0 0;\n",
              "      width: 32px;\n",
              "    }\n",
              "\n",
              "    .colab-df-convert:hover {\n",
              "      background-color: #E2EBFA;\n",
              "      box-shadow: 0px 1px 2px rgba(60, 64, 67, 0.3), 0px 1px 3px 1px rgba(60, 64, 67, 0.15);\n",
              "      fill: #174EA6;\n",
              "    }\n",
              "\n",
              "    .colab-df-buttons div {\n",
              "      margin-bottom: 4px;\n",
              "    }\n",
              "\n",
              "    [theme=dark] .colab-df-convert {\n",
              "      background-color: #3B4455;\n",
              "      fill: #D2E3FC;\n",
              "    }\n",
              "\n",
              "    [theme=dark] .colab-df-convert:hover {\n",
              "      background-color: #434B5C;\n",
              "      box-shadow: 0px 1px 3px 1px rgba(0, 0, 0, 0.15);\n",
              "      filter: drop-shadow(0px 1px 2px rgba(0, 0, 0, 0.3));\n",
              "      fill: #FFFFFF;\n",
              "    }\n",
              "  </style>\n",
              "\n",
              "    <script>\n",
              "      const buttonEl =\n",
              "        document.querySelector('#df-e54b4622-5542-423a-9a2e-e9f808fa9f3f button.colab-df-convert');\n",
              "      buttonEl.style.display =\n",
              "        google.colab.kernel.accessAllowed ? 'block' : 'none';\n",
              "\n",
              "      async function convertToInteractive(key) {\n",
              "        const element = document.querySelector('#df-e54b4622-5542-423a-9a2e-e9f808fa9f3f');\n",
              "        const dataTable =\n",
              "          await google.colab.kernel.invokeFunction('convertToInteractive',\n",
              "                                                    [key], {});\n",
              "        if (!dataTable) return;\n",
              "\n",
              "        const docLinkHtml = 'Like what you see? Visit the ' +\n",
              "          '<a target=\"_blank\" href=https://colab.research.google.com/notebooks/data_table.ipynb>data table notebook</a>'\n",
              "          + ' to learn more about interactive tables.';\n",
              "        element.innerHTML = '';\n",
              "        dataTable['output_type'] = 'display_data';\n",
              "        await google.colab.output.renderOutput(dataTable, element);\n",
              "        const docLink = document.createElement('div');\n",
              "        docLink.innerHTML = docLinkHtml;\n",
              "        element.appendChild(docLink);\n",
              "      }\n",
              "    </script>\n",
              "  </div>\n",
              "\n",
              "\n",
              "<div id=\"df-0d34aeb4-a420-42c9-b244-2005928abb19\">\n",
              "  <button class=\"colab-df-quickchart\" onclick=\"quickchart('df-0d34aeb4-a420-42c9-b244-2005928abb19')\"\n",
              "            title=\"Suggest charts\"\n",
              "            style=\"display:none;\">\n",
              "\n",
              "<svg xmlns=\"http://www.w3.org/2000/svg\" height=\"24px\"viewBox=\"0 0 24 24\"\n",
              "     width=\"24px\">\n",
              "    <g>\n",
              "        <path d=\"M19 3H5c-1.1 0-2 .9-2 2v14c0 1.1.9 2 2 2h14c1.1 0 2-.9 2-2V5c0-1.1-.9-2-2-2zM9 17H7v-7h2v7zm4 0h-2V7h2v10zm4 0h-2v-4h2v4z\"/>\n",
              "    </g>\n",
              "</svg>\n",
              "  </button>\n",
              "\n",
              "<style>\n",
              "  .colab-df-quickchart {\n",
              "      --bg-color: #E8F0FE;\n",
              "      --fill-color: #1967D2;\n",
              "      --hover-bg-color: #E2EBFA;\n",
              "      --hover-fill-color: #174EA6;\n",
              "      --disabled-fill-color: #AAA;\n",
              "      --disabled-bg-color: #DDD;\n",
              "  }\n",
              "\n",
              "  [theme=dark] .colab-df-quickchart {\n",
              "      --bg-color: #3B4455;\n",
              "      --fill-color: #D2E3FC;\n",
              "      --hover-bg-color: #434B5C;\n",
              "      --hover-fill-color: #FFFFFF;\n",
              "      --disabled-bg-color: #3B4455;\n",
              "      --disabled-fill-color: #666;\n",
              "  }\n",
              "\n",
              "  .colab-df-quickchart {\n",
              "    background-color: var(--bg-color);\n",
              "    border: none;\n",
              "    border-radius: 50%;\n",
              "    cursor: pointer;\n",
              "    display: none;\n",
              "    fill: var(--fill-color);\n",
              "    height: 32px;\n",
              "    padding: 0;\n",
              "    width: 32px;\n",
              "  }\n",
              "\n",
              "  .colab-df-quickchart:hover {\n",
              "    background-color: var(--hover-bg-color);\n",
              "    box-shadow: 0 1px 2px rgba(60, 64, 67, 0.3), 0 1px 3px 1px rgba(60, 64, 67, 0.15);\n",
              "    fill: var(--button-hover-fill-color);\n",
              "  }\n",
              "\n",
              "  .colab-df-quickchart-complete:disabled,\n",
              "  .colab-df-quickchart-complete:disabled:hover {\n",
              "    background-color: var(--disabled-bg-color);\n",
              "    fill: var(--disabled-fill-color);\n",
              "    box-shadow: none;\n",
              "  }\n",
              "\n",
              "  .colab-df-spinner {\n",
              "    border: 2px solid var(--fill-color);\n",
              "    border-color: transparent;\n",
              "    border-bottom-color: var(--fill-color);\n",
              "    animation:\n",
              "      spin 1s steps(1) infinite;\n",
              "  }\n",
              "\n",
              "  @keyframes spin {\n",
              "    0% {\n",
              "      border-color: transparent;\n",
              "      border-bottom-color: var(--fill-color);\n",
              "      border-left-color: var(--fill-color);\n",
              "    }\n",
              "    20% {\n",
              "      border-color: transparent;\n",
              "      border-left-color: var(--fill-color);\n",
              "      border-top-color: var(--fill-color);\n",
              "    }\n",
              "    30% {\n",
              "      border-color: transparent;\n",
              "      border-left-color: var(--fill-color);\n",
              "      border-top-color: var(--fill-color);\n",
              "      border-right-color: var(--fill-color);\n",
              "    }\n",
              "    40% {\n",
              "      border-color: transparent;\n",
              "      border-right-color: var(--fill-color);\n",
              "      border-top-color: var(--fill-color);\n",
              "    }\n",
              "    60% {\n",
              "      border-color: transparent;\n",
              "      border-right-color: var(--fill-color);\n",
              "    }\n",
              "    80% {\n",
              "      border-color: transparent;\n",
              "      border-right-color: var(--fill-color);\n",
              "      border-bottom-color: var(--fill-color);\n",
              "    }\n",
              "    90% {\n",
              "      border-color: transparent;\n",
              "      border-bottom-color: var(--fill-color);\n",
              "    }\n",
              "  }\n",
              "</style>\n",
              "\n",
              "  <script>\n",
              "    async function quickchart(key) {\n",
              "      const quickchartButtonEl =\n",
              "        document.querySelector('#' + key + ' button');\n",
              "      quickchartButtonEl.disabled = true;  // To prevent multiple clicks.\n",
              "      quickchartButtonEl.classList.add('colab-df-spinner');\n",
              "      try {\n",
              "        const charts = await google.colab.kernel.invokeFunction(\n",
              "            'suggestCharts', [key], {});\n",
              "      } catch (error) {\n",
              "        console.error('Error during call to suggestCharts:', error);\n",
              "      }\n",
              "      quickchartButtonEl.classList.remove('colab-df-spinner');\n",
              "      quickchartButtonEl.classList.add('colab-df-quickchart-complete');\n",
              "    }\n",
              "    (() => {\n",
              "      let quickchartButtonEl =\n",
              "        document.querySelector('#df-0d34aeb4-a420-42c9-b244-2005928abb19 button');\n",
              "      quickchartButtonEl.style.display =\n",
              "        google.colab.kernel.accessAllowed ? 'block' : 'none';\n",
              "    })();\n",
              "  </script>\n",
              "</div>\n",
              "\n",
              "    </div>\n",
              "  </div>\n"
            ],
            "application/vnd.google.colaboratory.intrinsic+json": {
              "type": "dataframe",
              "variable_name": "df_junto"
            }
          },
          "metadata": {},
          "execution_count": 14
        }
      ]
    },
    {
      "cell_type": "markdown",
      "source": [
        "Utilizamos o parâmetro 'inner' para que apenas as linhas que tenham os valores chaves em ambas as colunas sejam exibidas. Agora vamos partir para o tratamento dos dados."
      ],
      "metadata": {
        "id": "XTaEkRLjSBCp"
      }
    },
    {
      "cell_type": "markdown",
      "source": [
        "Vamos observar as informações gerais dos nossos dados."
      ],
      "metadata": {
        "id": "zRSwYRyHWG3g"
      }
    },
    {
      "cell_type": "code",
      "source": [
        "# Observando as informações\n",
        "df_junto.info()"
      ],
      "metadata": {
        "colab": {
          "base_uri": "https://localhost:8080/"
        },
        "id": "MCiBAbzwWKFf",
        "outputId": "baa0cb0f-48b3-4350-a831-11016c63bcb4"
      },
      "execution_count": 15,
      "outputs": [
        {
          "output_type": "stream",
          "name": "stdout",
          "text": [
            "<class 'pandas.core.frame.DataFrame'>\n",
            "RangeIndex: 5334 entries, 0 to 5333\n",
            "Data columns (total 31 columns):\n",
            " #   Column                    Non-Null Count  Dtype  \n",
            "---  ------                    --------------  -----  \n",
            " 0   SEQN                      5334 non-null   int64  \n",
            " 1   DPQ010                    4836 non-null   float64\n",
            " 2   DPQ020                    4836 non-null   float64\n",
            " 3   DPQ030                    4836 non-null   float64\n",
            " 4   DPQ040                    4836 non-null   float64\n",
            " 5   DPQ050                    4836 non-null   float64\n",
            " 6   DPQ060                    4836 non-null   float64\n",
            " 7   DPQ070                    4836 non-null   float64\n",
            " 8   DPQ080                    4836 non-null   float64\n",
            " 9   DPQ090                    4836 non-null   float64\n",
            " 10  RIAGENDR                  5334 non-null   int64  \n",
            " 11  RIDAGEYR                  5334 non-null   int64  \n",
            " 12  RIDRETH1                  5334 non-null   int64  \n",
            " 13  DMDEDUC                   5334 non-null   int64  \n",
            " 14  INDFMINC                  5287 non-null   float64\n",
            " 15  PAG_MINW                  5334 non-null   float64\n",
            " 16  ADHERENCE                 5334 non-null   float64\n",
            " 17  HEI2015C1_TOTALVEG        5060 non-null   float64\n",
            " 18  HEI2015C2_GREEN_AND_BEAN  5060 non-null   float64\n",
            " 19  HEI2015C3_TOTALFRUIT      5060 non-null   float64\n",
            " 20  HEI2015C4_WHOLEFRUIT      5060 non-null   float64\n",
            " 21  HEI2015C5_WHOLEGRAIN      5060 non-null   float64\n",
            " 22  HEI2015C6_TOTALDAIRY      5060 non-null   float64\n",
            " 23  HEI2015C7_TOTPROT         5060 non-null   float64\n",
            " 24  HEI2015C8_SEAPLANT_PROT   5060 non-null   float64\n",
            " 25  HEI2015C9_FATTYACID       5060 non-null   float64\n",
            " 26  HEI2015C10_SODIUM         5060 non-null   float64\n",
            " 27  HEI2015C11_REFINEDGRAIN   5060 non-null   float64\n",
            " 28  HEI2015C12_SFAT           5060 non-null   float64\n",
            " 29  HEI2015C13_ADDSUG         5060 non-null   float64\n",
            " 30  HEI2015_TOTAL_SCORE       5060 non-null   float64\n",
            "dtypes: float64(26), int64(5)\n",
            "memory usage: 1.3 MB\n"
          ]
        }
      ]
    },
    {
      "cell_type": "markdown",
      "source": [
        "Dessa forma, podemos notar que nosso df_junto apresenta 5334 linhas e um total de 31 colunas."
      ],
      "metadata": {
        "id": "b1Ev425fWTQn"
      }
    },
    {
      "cell_type": "markdown",
      "source": [
        "## **Tratamento nos dados**"
      ],
      "metadata": {
        "id": "I76h0f1dTJ9Q"
      }
    },
    {
      "cell_type": "markdown",
      "source": [
        "Nessa etapa, temos alguns pontos que precisam de nossa atenção:\n",
        "\n",
        "- No caso das respostas com valores 7 e 9, pretendo adicionar uma variável com o escore de cada registro para demonstrar o quão severo é o grau de depressão dessa pessoa. No entanto, respostas com valores 7 e 9 podem comprometer bastante esse passo. Portanto, precisamos ajustar o valor do mesmo.\n",
        "\n",
        "- Tratamento de valores ausentes: Como vamos ficar apenas na analise exploratoria dos dados não iremos realizar nenhum tratamento a respeito desses dados\n",
        "\n",
        "- Criação de variáveis para soma de escores para cada pessoa na base.\n"
      ],
      "metadata": {
        "id": "uGBwdkQAeHW0"
      }
    },
    {
      "cell_type": "markdown",
      "source": [
        "Vamos começar o nosso tratamento organizando as perguntas que têm como resposta 7 ou 9, que são referentes a 7 = “Se recusou a responder” e 9 = “Não sabe”, respectivamente. Por se tratar de uma variável categórica, vamos alterar o seu valor com o intuito de futuramente criarmos uma variável para somar o score total somando as respostas das perguntas de cada pessoa. Dito isso, para pessoas que se recusaram a responder, vamos atribuir um valor de 0.6, e para pessoas que não sabem, será atribuído um valor de 0.3.\n",
        "\n",
        "Realizando essas substituições, corremos o risco de considerar uma pessoa com altos níveis de depressão mesmo ela não estando. No entanto, caso isso aconteça, é porque a pessoa tem outros indícios desde o começo. Portanto, se ela receber um auxílio mesmo tendo sido classificada 'erroneamente', de qualquer forma o auxílio será importante para ela. Acredito que nesse caso o falso positivo é menos agravante do que um falso negativo.\n"
      ],
      "metadata": {
        "id": "rQuA-IGNZUMv"
      }
    },
    {
      "cell_type": "code",
      "source": [
        "# Definindo as substituições desejadas\n",
        "substituicoes = {7: 0.6, 9: 0.3}\n",
        "\n",
        "# Selecionando as colunas desejadas\n",
        "colunas_desejadas = ['DPQ010', 'DPQ020', 'DPQ030', 'DPQ040', 'DPQ050', 'DPQ060', 'DPQ070', 'DPQ080', 'DPQ090']\n",
        "\n",
        "# Substituindo os valores nas colunas selecionadas com base nas substituições definidas\n",
        "df_junto[colunas_desejadas] = df_junto[colunas_desejadas].replace(substituicoes)\n",
        "\n",
        "# Observando as mudanças em apenas uma variável\n",
        "df_junto['DPQ010'].value_counts()"
      ],
      "metadata": {
        "colab": {
          "base_uri": "https://localhost:8080/"
        },
        "id": "lq5Obum7bl_H",
        "outputId": "e864abb7-ebf5-41bf-8735-3fdc8a3aee69"
      },
      "execution_count": 16,
      "outputs": [
        {
          "output_type": "execute_result",
          "data": {
            "text/plain": [
              "DPQ010\n",
              "0.0    3850\n",
              "1.0     673\n",
              "2.0     180\n",
              "3.0     124\n",
              "0.3       9\n",
              "Name: count, dtype: int64"
            ]
          },
          "metadata": {},
          "execution_count": 16
        }
      ]
    },
    {
      "cell_type": "markdown",
      "source": [
        "Podemos ver então que as mudanças foram feitas corretamente.\n",
        "\n"
      ],
      "metadata": {
        "id": "NoX0ki4ld1Jd"
      }
    },
    {
      "cell_type": "markdown",
      "source": [
        "Agora vamos criar uma variável para somar os valores das respostas do questionário DPQ010 até DPQ090. Vamos chamar essa variável de 'phq9'."
      ],
      "metadata": {
        "id": "V52RZ0J0UR3J"
      }
    },
    {
      "cell_type": "code",
      "source": [
        "# Criando uma nova coluna para armazenar a soma das respostas\n",
        "df_junto['Phq9'] = df_junto.loc[:, 'DPQ010':'DPQ090'].sum(axis=1)\n",
        "\n",
        "# Exibindo os primeiros 10 registros nova variável\n",
        "df_junto['Phq9'].head(10)"
      ],
      "metadata": {
        "colab": {
          "base_uri": "https://localhost:8080/"
        },
        "id": "pF6y1NrvS85Y",
        "outputId": "96d24d02-bfb4-45eb-c028-85b94c8c06cb"
      },
      "execution_count": 17,
      "outputs": [
        {
          "output_type": "execute_result",
          "data": {
            "text/plain": [
              "0    0.0\n",
              "1    0.0\n",
              "2    0.0\n",
              "3    0.0\n",
              "4    4.0\n",
              "5    6.0\n",
              "6    0.0\n",
              "7    0.0\n",
              "8    1.0\n",
              "9    3.0\n",
              "Name: Phq9, dtype: float64"
            ]
          },
          "metadata": {},
          "execution_count": 17
        }
      ]
    },
    {
      "cell_type": "markdown",
      "source": [
        "Dessa forma, temos a soma com base nas respostas dos questionários de cada um dos registros em nossa base.\n",
        "\n",
        "Agora vamos classificar o grau de gravidade do caso de cada um dos registros com base na soma dos questionários."
      ],
      "metadata": {
        "id": "3iUMLQvMtu0Z"
      }
    },
    {
      "cell_type": "code",
      "source": [
        "# Criando a variável phq_grp com as classificações do escore PHQ-9 usando operações condicionais\n",
        "df_junto['Phq_grp'] = np.where(df_junto['Phq9'] < 5, 'Sem sintomas', np.where(df_junto['Phq9'] < 10, 'Sintomas leves', 'Sintomas moderados a severos'))\n",
        "\n",
        "# Observando os valores presentes na coluna\n",
        "df_junto['Phq_grp'].value_counts()"
      ],
      "metadata": {
        "colab": {
          "base_uri": "https://localhost:8080/"
        },
        "id": "ycjYFbMkuTxQ",
        "outputId": "f1bd02ce-4e00-46fc-d88d-d40cd73f46e7"
      },
      "execution_count": 18,
      "outputs": [
        {
          "output_type": "execute_result",
          "data": {
            "text/plain": [
              "Phq_grp\n",
              "Sem sintomas                    4314\n",
              "Sintomas leves                   715\n",
              "Sintomas moderados a severos     305\n",
              "Name: count, dtype: int64"
            ]
          },
          "metadata": {},
          "execution_count": 18
        }
      ]
    },
    {
      "cell_type": "markdown",
      "source": [
        "Dessa forma, conseguimos classificar o grau de gravidade de cada um dos nossos registros de acordo com a pontuação feita em nosso questionário. Se a pontuação for menor que 5, então será sem sintomas. Caso seja igual ou maior que cinco, porém menor que 10, então temos sintomas leves. Caso seja maior que 10, então temos sintomas moderados e severos."
      ],
      "metadata": {
        "id": "6IXPJV_bvOZ5"
      }
    },
    {
      "cell_type": "markdown",
      "source": [
        "## **Análise univariada**"
      ],
      "metadata": {
        "id": "M4B_HAmFsMay"
      }
    },
    {
      "cell_type": "markdown",
      "source": [
        "Anteriormente, já realizamos uma rápida análise para nos familiarizarmos melhor com nossos dados. Aqui, vamos realizar uma análise mais individual deles, além de criar uma representação gráfica. Sendo assim, nossos objetivos são:\n",
        "\n",
        "- Realizar uma análise mais aprofundada das nossas variáveis de interesse.\n",
        "\n",
        "- Criar uma visualização mais agradável."
      ],
      "metadata": {
        "id": "carUy9i4si_b"
      }
    },
    {
      "cell_type": "markdown",
      "source": [
        "Realizando uma rápida configuração para gerar uma visualização completa das colunas no nosso DataFrame."
      ],
      "metadata": {
        "id": "ntghu-27u5N9"
      }
    },
    {
      "cell_type": "code",
      "source": [
        "# Configuração para exxibição de todas as colunas\n",
        "pd.set_option('display.max_columns', None)\n",
        "\n",
        "# Exibindo os dados\n",
        "df_junto.head()"
      ],
      "metadata": {
        "colab": {
          "base_uri": "https://localhost:8080/",
          "height": 313
        },
        "id": "5PKdEJkKu3m9",
        "outputId": "780b09c5-2d22-413e-e44a-96900284a999"
      },
      "execution_count": 19,
      "outputs": [
        {
          "output_type": "execute_result",
          "data": {
            "text/plain": [
              "    SEQN  DPQ010  DPQ020  DPQ030  DPQ040  DPQ050  DPQ060  DPQ070  DPQ080  \\\n",
              "0  31130     NaN     NaN     NaN     NaN     NaN     NaN     NaN     NaN   \n",
              "1  31131     0.0     0.0     0.0     0.0     0.0     0.0     0.0     0.0   \n",
              "2  31132     0.0     0.0     0.0     0.0     0.0     0.0     0.0     0.0   \n",
              "3  31134     0.0     0.0     0.0     0.0     0.0     0.0     0.0     0.0   \n",
              "4  31139     0.0     0.0     0.0     0.0     3.0     1.0     0.0     0.0   \n",
              "\n",
              "   DPQ090  RIAGENDR  RIDAGEYR  RIDRETH1  DMDEDUC  INDFMINC     PAG_MINW  \\\n",
              "0     NaN         2        85         3        4       4.0     0.000000   \n",
              "1     0.0         2        44         4        4      11.0   264.711316   \n",
              "2     0.0         1        70         3        5      11.0  1353.348730   \n",
              "3     0.0         1        73         3        3      12.0  1011.478060   \n",
              "4     0.0         2        18         2        3      11.0  1729.145497   \n",
              "\n",
              "   ADHERENCE  HEI2015C1_TOTALVEG  HEI2015C2_GREEN_AND_BEAN  \\\n",
              "0        1.0                 NaN                       NaN   \n",
              "1        2.0            3.115103                  0.000000   \n",
              "2        3.0            3.509081                  0.000000   \n",
              "3        3.0            2.845772                  1.283933   \n",
              "4        3.0            5.000000                  0.000000   \n",
              "\n",
              "   HEI2015C3_TOTALFRUIT  HEI2015C4_WHOLEFRUIT  HEI2015C5_WHOLEGRAIN  \\\n",
              "0                   NaN                   NaN                   NaN   \n",
              "1              5.000000              1.320674              0.000000   \n",
              "2              5.000000              5.000000              5.000000   \n",
              "3              2.629005              5.000000              2.217331   \n",
              "4              0.991614              0.056664              0.211544   \n",
              "\n",
              "   HEI2015C6_TOTALDAIRY  HEI2015C7_TOTPROT  HEI2015C8_SEAPLANT_PROT  \\\n",
              "0                   NaN                NaN                      NaN   \n",
              "1              3.141062           4.071959                 2.052399   \n",
              "2              4.448512           5.000000                 0.000000   \n",
              "3              2.313900           5.000000                 1.268648   \n",
              "4              0.000000           4.088849                 4.221442   \n",
              "\n",
              "   HEI2015C9_FATTYACID  HEI2015C10_SODIUM  HEI2015C11_REFINEDGRAIN  \\\n",
              "0                  NaN                NaN                      NaN   \n",
              "1             0.684985           2.297100                 9.512964   \n",
              "2             2.050769           7.369489                 8.887880   \n",
              "3             2.958985           0.000000                 5.627488   \n",
              "4            10.000000           2.845774                 0.000000   \n",
              "\n",
              "   HEI2015C12_SFAT  HEI2015C13_ADDSUG  HEI2015_TOTAL_SCORE  Phq9       Phq_grp  \n",
              "0              NaN                NaN                  NaN   0.0  Sem sintomas  \n",
              "1         0.438428           3.919226            35.553899   0.0  Sem sintomas  \n",
              "2         8.186877           9.099088            63.551696   0.0  Sem sintomas  \n",
              "3         5.863078           5.878686            42.886826   0.0  Sem sintomas  \n",
              "4        10.000000           9.658507            47.074393   4.0  Sem sintomas  "
            ],
            "text/html": [
              "\n",
              "  <div id=\"df-4467b0db-6812-479c-98a2-ee7aa31edb5d\" class=\"colab-df-container\">\n",
              "    <div>\n",
              "<style scoped>\n",
              "    .dataframe tbody tr th:only-of-type {\n",
              "        vertical-align: middle;\n",
              "    }\n",
              "\n",
              "    .dataframe tbody tr th {\n",
              "        vertical-align: top;\n",
              "    }\n",
              "\n",
              "    .dataframe thead th {\n",
              "        text-align: right;\n",
              "    }\n",
              "</style>\n",
              "<table border=\"1\" class=\"dataframe\">\n",
              "  <thead>\n",
              "    <tr style=\"text-align: right;\">\n",
              "      <th></th>\n",
              "      <th>SEQN</th>\n",
              "      <th>DPQ010</th>\n",
              "      <th>DPQ020</th>\n",
              "      <th>DPQ030</th>\n",
              "      <th>DPQ040</th>\n",
              "      <th>DPQ050</th>\n",
              "      <th>DPQ060</th>\n",
              "      <th>DPQ070</th>\n",
              "      <th>DPQ080</th>\n",
              "      <th>DPQ090</th>\n",
              "      <th>RIAGENDR</th>\n",
              "      <th>RIDAGEYR</th>\n",
              "      <th>RIDRETH1</th>\n",
              "      <th>DMDEDUC</th>\n",
              "      <th>INDFMINC</th>\n",
              "      <th>PAG_MINW</th>\n",
              "      <th>ADHERENCE</th>\n",
              "      <th>HEI2015C1_TOTALVEG</th>\n",
              "      <th>HEI2015C2_GREEN_AND_BEAN</th>\n",
              "      <th>HEI2015C3_TOTALFRUIT</th>\n",
              "      <th>HEI2015C4_WHOLEFRUIT</th>\n",
              "      <th>HEI2015C5_WHOLEGRAIN</th>\n",
              "      <th>HEI2015C6_TOTALDAIRY</th>\n",
              "      <th>HEI2015C7_TOTPROT</th>\n",
              "      <th>HEI2015C8_SEAPLANT_PROT</th>\n",
              "      <th>HEI2015C9_FATTYACID</th>\n",
              "      <th>HEI2015C10_SODIUM</th>\n",
              "      <th>HEI2015C11_REFINEDGRAIN</th>\n",
              "      <th>HEI2015C12_SFAT</th>\n",
              "      <th>HEI2015C13_ADDSUG</th>\n",
              "      <th>HEI2015_TOTAL_SCORE</th>\n",
              "      <th>Phq9</th>\n",
              "      <th>Phq_grp</th>\n",
              "    </tr>\n",
              "  </thead>\n",
              "  <tbody>\n",
              "    <tr>\n",
              "      <th>0</th>\n",
              "      <td>31130</td>\n",
              "      <td>NaN</td>\n",
              "      <td>NaN</td>\n",
              "      <td>NaN</td>\n",
              "      <td>NaN</td>\n",
              "      <td>NaN</td>\n",
              "      <td>NaN</td>\n",
              "      <td>NaN</td>\n",
              "      <td>NaN</td>\n",
              "      <td>NaN</td>\n",
              "      <td>2</td>\n",
              "      <td>85</td>\n",
              "      <td>3</td>\n",
              "      <td>4</td>\n",
              "      <td>4.0</td>\n",
              "      <td>0.000000</td>\n",
              "      <td>1.0</td>\n",
              "      <td>NaN</td>\n",
              "      <td>NaN</td>\n",
              "      <td>NaN</td>\n",
              "      <td>NaN</td>\n",
              "      <td>NaN</td>\n",
              "      <td>NaN</td>\n",
              "      <td>NaN</td>\n",
              "      <td>NaN</td>\n",
              "      <td>NaN</td>\n",
              "      <td>NaN</td>\n",
              "      <td>NaN</td>\n",
              "      <td>NaN</td>\n",
              "      <td>NaN</td>\n",
              "      <td>NaN</td>\n",
              "      <td>0.0</td>\n",
              "      <td>Sem sintomas</td>\n",
              "    </tr>\n",
              "    <tr>\n",
              "      <th>1</th>\n",
              "      <td>31131</td>\n",
              "      <td>0.0</td>\n",
              "      <td>0.0</td>\n",
              "      <td>0.0</td>\n",
              "      <td>0.0</td>\n",
              "      <td>0.0</td>\n",
              "      <td>0.0</td>\n",
              "      <td>0.0</td>\n",
              "      <td>0.0</td>\n",
              "      <td>0.0</td>\n",
              "      <td>2</td>\n",
              "      <td>44</td>\n",
              "      <td>4</td>\n",
              "      <td>4</td>\n",
              "      <td>11.0</td>\n",
              "      <td>264.711316</td>\n",
              "      <td>2.0</td>\n",
              "      <td>3.115103</td>\n",
              "      <td>0.000000</td>\n",
              "      <td>5.000000</td>\n",
              "      <td>1.320674</td>\n",
              "      <td>0.000000</td>\n",
              "      <td>3.141062</td>\n",
              "      <td>4.071959</td>\n",
              "      <td>2.052399</td>\n",
              "      <td>0.684985</td>\n",
              "      <td>2.297100</td>\n",
              "      <td>9.512964</td>\n",
              "      <td>0.438428</td>\n",
              "      <td>3.919226</td>\n",
              "      <td>35.553899</td>\n",
              "      <td>0.0</td>\n",
              "      <td>Sem sintomas</td>\n",
              "    </tr>\n",
              "    <tr>\n",
              "      <th>2</th>\n",
              "      <td>31132</td>\n",
              "      <td>0.0</td>\n",
              "      <td>0.0</td>\n",
              "      <td>0.0</td>\n",
              "      <td>0.0</td>\n",
              "      <td>0.0</td>\n",
              "      <td>0.0</td>\n",
              "      <td>0.0</td>\n",
              "      <td>0.0</td>\n",
              "      <td>0.0</td>\n",
              "      <td>1</td>\n",
              "      <td>70</td>\n",
              "      <td>3</td>\n",
              "      <td>5</td>\n",
              "      <td>11.0</td>\n",
              "      <td>1353.348730</td>\n",
              "      <td>3.0</td>\n",
              "      <td>3.509081</td>\n",
              "      <td>0.000000</td>\n",
              "      <td>5.000000</td>\n",
              "      <td>5.000000</td>\n",
              "      <td>5.000000</td>\n",
              "      <td>4.448512</td>\n",
              "      <td>5.000000</td>\n",
              "      <td>0.000000</td>\n",
              "      <td>2.050769</td>\n",
              "      <td>7.369489</td>\n",
              "      <td>8.887880</td>\n",
              "      <td>8.186877</td>\n",
              "      <td>9.099088</td>\n",
              "      <td>63.551696</td>\n",
              "      <td>0.0</td>\n",
              "      <td>Sem sintomas</td>\n",
              "    </tr>\n",
              "    <tr>\n",
              "      <th>3</th>\n",
              "      <td>31134</td>\n",
              "      <td>0.0</td>\n",
              "      <td>0.0</td>\n",
              "      <td>0.0</td>\n",
              "      <td>0.0</td>\n",
              "      <td>0.0</td>\n",
              "      <td>0.0</td>\n",
              "      <td>0.0</td>\n",
              "      <td>0.0</td>\n",
              "      <td>0.0</td>\n",
              "      <td>1</td>\n",
              "      <td>73</td>\n",
              "      <td>3</td>\n",
              "      <td>3</td>\n",
              "      <td>12.0</td>\n",
              "      <td>1011.478060</td>\n",
              "      <td>3.0</td>\n",
              "      <td>2.845772</td>\n",
              "      <td>1.283933</td>\n",
              "      <td>2.629005</td>\n",
              "      <td>5.000000</td>\n",
              "      <td>2.217331</td>\n",
              "      <td>2.313900</td>\n",
              "      <td>5.000000</td>\n",
              "      <td>1.268648</td>\n",
              "      <td>2.958985</td>\n",
              "      <td>0.000000</td>\n",
              "      <td>5.627488</td>\n",
              "      <td>5.863078</td>\n",
              "      <td>5.878686</td>\n",
              "      <td>42.886826</td>\n",
              "      <td>0.0</td>\n",
              "      <td>Sem sintomas</td>\n",
              "    </tr>\n",
              "    <tr>\n",
              "      <th>4</th>\n",
              "      <td>31139</td>\n",
              "      <td>0.0</td>\n",
              "      <td>0.0</td>\n",
              "      <td>0.0</td>\n",
              "      <td>0.0</td>\n",
              "      <td>3.0</td>\n",
              "      <td>1.0</td>\n",
              "      <td>0.0</td>\n",
              "      <td>0.0</td>\n",
              "      <td>0.0</td>\n",
              "      <td>2</td>\n",
              "      <td>18</td>\n",
              "      <td>2</td>\n",
              "      <td>3</td>\n",
              "      <td>11.0</td>\n",
              "      <td>1729.145497</td>\n",
              "      <td>3.0</td>\n",
              "      <td>5.000000</td>\n",
              "      <td>0.000000</td>\n",
              "      <td>0.991614</td>\n",
              "      <td>0.056664</td>\n",
              "      <td>0.211544</td>\n",
              "      <td>0.000000</td>\n",
              "      <td>4.088849</td>\n",
              "      <td>4.221442</td>\n",
              "      <td>10.000000</td>\n",
              "      <td>2.845774</td>\n",
              "      <td>0.000000</td>\n",
              "      <td>10.000000</td>\n",
              "      <td>9.658507</td>\n",
              "      <td>47.074393</td>\n",
              "      <td>4.0</td>\n",
              "      <td>Sem sintomas</td>\n",
              "    </tr>\n",
              "  </tbody>\n",
              "</table>\n",
              "</div>\n",
              "    <div class=\"colab-df-buttons\">\n",
              "\n",
              "  <div class=\"colab-df-container\">\n",
              "    <button class=\"colab-df-convert\" onclick=\"convertToInteractive('df-4467b0db-6812-479c-98a2-ee7aa31edb5d')\"\n",
              "            title=\"Convert this dataframe to an interactive table.\"\n",
              "            style=\"display:none;\">\n",
              "\n",
              "  <svg xmlns=\"http://www.w3.org/2000/svg\" height=\"24px\" viewBox=\"0 -960 960 960\">\n",
              "    <path d=\"M120-120v-720h720v720H120Zm60-500h600v-160H180v160Zm220 220h160v-160H400v160Zm0 220h160v-160H400v160ZM180-400h160v-160H180v160Zm440 0h160v-160H620v160ZM180-180h160v-160H180v160Zm440 0h160v-160H620v160Z\"/>\n",
              "  </svg>\n",
              "    </button>\n",
              "\n",
              "  <style>\n",
              "    .colab-df-container {\n",
              "      display:flex;\n",
              "      gap: 12px;\n",
              "    }\n",
              "\n",
              "    .colab-df-convert {\n",
              "      background-color: #E8F0FE;\n",
              "      border: none;\n",
              "      border-radius: 50%;\n",
              "      cursor: pointer;\n",
              "      display: none;\n",
              "      fill: #1967D2;\n",
              "      height: 32px;\n",
              "      padding: 0 0 0 0;\n",
              "      width: 32px;\n",
              "    }\n",
              "\n",
              "    .colab-df-convert:hover {\n",
              "      background-color: #E2EBFA;\n",
              "      box-shadow: 0px 1px 2px rgba(60, 64, 67, 0.3), 0px 1px 3px 1px rgba(60, 64, 67, 0.15);\n",
              "      fill: #174EA6;\n",
              "    }\n",
              "\n",
              "    .colab-df-buttons div {\n",
              "      margin-bottom: 4px;\n",
              "    }\n",
              "\n",
              "    [theme=dark] .colab-df-convert {\n",
              "      background-color: #3B4455;\n",
              "      fill: #D2E3FC;\n",
              "    }\n",
              "\n",
              "    [theme=dark] .colab-df-convert:hover {\n",
              "      background-color: #434B5C;\n",
              "      box-shadow: 0px 1px 3px 1px rgba(0, 0, 0, 0.15);\n",
              "      filter: drop-shadow(0px 1px 2px rgba(0, 0, 0, 0.3));\n",
              "      fill: #FFFFFF;\n",
              "    }\n",
              "  </style>\n",
              "\n",
              "    <script>\n",
              "      const buttonEl =\n",
              "        document.querySelector('#df-4467b0db-6812-479c-98a2-ee7aa31edb5d button.colab-df-convert');\n",
              "      buttonEl.style.display =\n",
              "        google.colab.kernel.accessAllowed ? 'block' : 'none';\n",
              "\n",
              "      async function convertToInteractive(key) {\n",
              "        const element = document.querySelector('#df-4467b0db-6812-479c-98a2-ee7aa31edb5d');\n",
              "        const dataTable =\n",
              "          await google.colab.kernel.invokeFunction('convertToInteractive',\n",
              "                                                    [key], {});\n",
              "        if (!dataTable) return;\n",
              "\n",
              "        const docLinkHtml = 'Like what you see? Visit the ' +\n",
              "          '<a target=\"_blank\" href=https://colab.research.google.com/notebooks/data_table.ipynb>data table notebook</a>'\n",
              "          + ' to learn more about interactive tables.';\n",
              "        element.innerHTML = '';\n",
              "        dataTable['output_type'] = 'display_data';\n",
              "        await google.colab.output.renderOutput(dataTable, element);\n",
              "        const docLink = document.createElement('div');\n",
              "        docLink.innerHTML = docLinkHtml;\n",
              "        element.appendChild(docLink);\n",
              "      }\n",
              "    </script>\n",
              "  </div>\n",
              "\n",
              "\n",
              "<div id=\"df-1e9558cc-3510-4925-910b-7c29d873782c\">\n",
              "  <button class=\"colab-df-quickchart\" onclick=\"quickchart('df-1e9558cc-3510-4925-910b-7c29d873782c')\"\n",
              "            title=\"Suggest charts\"\n",
              "            style=\"display:none;\">\n",
              "\n",
              "<svg xmlns=\"http://www.w3.org/2000/svg\" height=\"24px\"viewBox=\"0 0 24 24\"\n",
              "     width=\"24px\">\n",
              "    <g>\n",
              "        <path d=\"M19 3H5c-1.1 0-2 .9-2 2v14c0 1.1.9 2 2 2h14c1.1 0 2-.9 2-2V5c0-1.1-.9-2-2-2zM9 17H7v-7h2v7zm4 0h-2V7h2v10zm4 0h-2v-4h2v4z\"/>\n",
              "    </g>\n",
              "</svg>\n",
              "  </button>\n",
              "\n",
              "<style>\n",
              "  .colab-df-quickchart {\n",
              "      --bg-color: #E8F0FE;\n",
              "      --fill-color: #1967D2;\n",
              "      --hover-bg-color: #E2EBFA;\n",
              "      --hover-fill-color: #174EA6;\n",
              "      --disabled-fill-color: #AAA;\n",
              "      --disabled-bg-color: #DDD;\n",
              "  }\n",
              "\n",
              "  [theme=dark] .colab-df-quickchart {\n",
              "      --bg-color: #3B4455;\n",
              "      --fill-color: #D2E3FC;\n",
              "      --hover-bg-color: #434B5C;\n",
              "      --hover-fill-color: #FFFFFF;\n",
              "      --disabled-bg-color: #3B4455;\n",
              "      --disabled-fill-color: #666;\n",
              "  }\n",
              "\n",
              "  .colab-df-quickchart {\n",
              "    background-color: var(--bg-color);\n",
              "    border: none;\n",
              "    border-radius: 50%;\n",
              "    cursor: pointer;\n",
              "    display: none;\n",
              "    fill: var(--fill-color);\n",
              "    height: 32px;\n",
              "    padding: 0;\n",
              "    width: 32px;\n",
              "  }\n",
              "\n",
              "  .colab-df-quickchart:hover {\n",
              "    background-color: var(--hover-bg-color);\n",
              "    box-shadow: 0 1px 2px rgba(60, 64, 67, 0.3), 0 1px 3px 1px rgba(60, 64, 67, 0.15);\n",
              "    fill: var(--button-hover-fill-color);\n",
              "  }\n",
              "\n",
              "  .colab-df-quickchart-complete:disabled,\n",
              "  .colab-df-quickchart-complete:disabled:hover {\n",
              "    background-color: var(--disabled-bg-color);\n",
              "    fill: var(--disabled-fill-color);\n",
              "    box-shadow: none;\n",
              "  }\n",
              "\n",
              "  .colab-df-spinner {\n",
              "    border: 2px solid var(--fill-color);\n",
              "    border-color: transparent;\n",
              "    border-bottom-color: var(--fill-color);\n",
              "    animation:\n",
              "      spin 1s steps(1) infinite;\n",
              "  }\n",
              "\n",
              "  @keyframes spin {\n",
              "    0% {\n",
              "      border-color: transparent;\n",
              "      border-bottom-color: var(--fill-color);\n",
              "      border-left-color: var(--fill-color);\n",
              "    }\n",
              "    20% {\n",
              "      border-color: transparent;\n",
              "      border-left-color: var(--fill-color);\n",
              "      border-top-color: var(--fill-color);\n",
              "    }\n",
              "    30% {\n",
              "      border-color: transparent;\n",
              "      border-left-color: var(--fill-color);\n",
              "      border-top-color: var(--fill-color);\n",
              "      border-right-color: var(--fill-color);\n",
              "    }\n",
              "    40% {\n",
              "      border-color: transparent;\n",
              "      border-right-color: var(--fill-color);\n",
              "      border-top-color: var(--fill-color);\n",
              "    }\n",
              "    60% {\n",
              "      border-color: transparent;\n",
              "      border-right-color: var(--fill-color);\n",
              "    }\n",
              "    80% {\n",
              "      border-color: transparent;\n",
              "      border-right-color: var(--fill-color);\n",
              "      border-bottom-color: var(--fill-color);\n",
              "    }\n",
              "    90% {\n",
              "      border-color: transparent;\n",
              "      border-bottom-color: var(--fill-color);\n",
              "    }\n",
              "  }\n",
              "</style>\n",
              "\n",
              "  <script>\n",
              "    async function quickchart(key) {\n",
              "      const quickchartButtonEl =\n",
              "        document.querySelector('#' + key + ' button');\n",
              "      quickchartButtonEl.disabled = true;  // To prevent multiple clicks.\n",
              "      quickchartButtonEl.classList.add('colab-df-spinner');\n",
              "      try {\n",
              "        const charts = await google.colab.kernel.invokeFunction(\n",
              "            'suggestCharts', [key], {});\n",
              "      } catch (error) {\n",
              "        console.error('Error during call to suggestCharts:', error);\n",
              "      }\n",
              "      quickchartButtonEl.classList.remove('colab-df-spinner');\n",
              "      quickchartButtonEl.classList.add('colab-df-quickchart-complete');\n",
              "    }\n",
              "    (() => {\n",
              "      let quickchartButtonEl =\n",
              "        document.querySelector('#df-1e9558cc-3510-4925-910b-7c29d873782c button');\n",
              "      quickchartButtonEl.style.display =\n",
              "        google.colab.kernel.accessAllowed ? 'block' : 'none';\n",
              "    })();\n",
              "  </script>\n",
              "</div>\n",
              "\n",
              "    </div>\n",
              "  </div>\n"
            ],
            "application/vnd.google.colaboratory.intrinsic+json": {
              "type": "dataframe",
              "variable_name": "df_junto"
            }
          },
          "metadata": {},
          "execution_count": 19
        }
      ]
    },
    {
      "cell_type": "markdown",
      "source": [
        "Como já realizamos uma análise prévia das perguntas de DPQ010 até DPQ090 e também as utilizamos para realizar o somatório e adicionar o grau de severidade de cada registro de acordo com a soma proveniente das respostas dessas perguntas.\n",
        "\n",
        "Vamos realizar a exclusão das mesmas visando deixar nosso DataFrame mais enxuto e manter apenas as variáveis que temos interesse. Dito isso, vamos eliminar as variáveis que não utilizaremos."
      ],
      "metadata": {
        "id": "pwxs0t74ixwp"
      }
    },
    {
      "cell_type": "code",
      "source": [
        "# Variáveis que serão excluídas do DataFrame\n",
        "variaveis_para_excluir = [\n",
        "    'DPQ010', 'DPQ020', 'DPQ030', 'DPQ040', 'DPQ050', 'DPQ060', 'DPQ070', 'DPQ080', 'DPQ090'\n",
        "]\n",
        "\n",
        "# Selecionando todas as colunas exceto aquelas que serão excluídas\n",
        "df_junto = df_junto.drop(columns=variaveis_para_excluir)"
      ],
      "metadata": {
        "id": "CZQ7UVwgWFRM"
      },
      "execution_count": 20,
      "outputs": []
    },
    {
      "cell_type": "markdown",
      "source": [
        "Agora vamos seguir adiante com a nossa análise."
      ],
      "metadata": {
        "id": "zWIUmhA4jodA"
      }
    },
    {
      "cell_type": "markdown",
      "source": [
        "### **INDFMINC**"
      ],
      "metadata": {
        "id": "XwftAn65uwjm"
      }
    },
    {
      "cell_type": "markdown",
      "source": [
        "Vamos começar observando mais de perto a variável 'INDFMINC', que representa a renda anual familiar."
      ],
      "metadata": {
        "id": "UavM0uxXhTLa"
      }
    },
    {
      "cell_type": "code",
      "source": [],
      "metadata": {
        "id": "rrEz1cB_dhYy"
      },
      "execution_count": null,
      "outputs": []
    },
    {
      "cell_type": "code",
      "source": [
        "# Resumos estatísticos\n",
        "df_junto['INDFMINC'].describe()"
      ],
      "metadata": {
        "colab": {
          "base_uri": "https://localhost:8080/"
        },
        "id": "Y07l1u9rhm7T",
        "outputId": "ba85aca8-b4ee-4440-853e-7172343466a6"
      },
      "execution_count": 21,
      "outputs": [
        {
          "output_type": "execute_result",
          "data": {
            "text/plain": [
              "count    5287.000000\n",
              "mean        8.738604\n",
              "std        12.777756\n",
              "min         1.000000\n",
              "25%         4.000000\n",
              "50%         7.000000\n",
              "75%        10.000000\n",
              "max        99.000000\n",
              "Name: INDFMINC, dtype: float64"
            ]
          },
          "metadata": {},
          "execution_count": 21
        }
      ]
    },
    {
      "cell_type": "code",
      "source": [
        "# Observando a moda\n",
        "df_junto['INDFMINC'].mode()"
      ],
      "metadata": {
        "colab": {
          "base_uri": "https://localhost:8080/"
        },
        "id": "qqMKZ8Iuf4TT",
        "outputId": "2e848f65-ad0f-4db1-e5f4-478d629169e8"
      },
      "execution_count": 22,
      "outputs": [
        {
          "output_type": "execute_result",
          "data": {
            "text/plain": [
              "0    11.0\n",
              "Name: INDFMINC, dtype: float64"
            ]
          },
          "metadata": {},
          "execution_count": 22
        }
      ]
    },
    {
      "cell_type": "markdown",
      "source": [
        "**Pontos importantes**:\n",
        "\n",
        "- Podemos observar que entre os nossos valores possíveis nessa variável, alguns são bastante altos, como o número 99, que representa 'Não sabe'. Isso pode comprometer a nossa análise.\n",
        "No entanto, acredito que isso não esteja influenciando tão negativamente assim, pois podemos observar um desvio padrão de 12, indicando que os dados se afastam da média em 12 unidades ao quadrado.\n",
        "\n",
        "- Levando em consideração que temos valores tão abruptos como o 77 e 99, e que nossos valores iniciam em 1 e vão até 13, podemos considerar que o desvio não está tão alto porém é evidente a existência do mesmo.\n",
        "\n",
        "- Além disso, podemos observar que a média e a mediana não estão tão afastadas assim.\n",
        "\n",
        "- Dito isso, vamos tentar observar uns gráficos."
      ],
      "metadata": {
        "id": "n2ihKRZfh3J6"
      }
    },
    {
      "cell_type": "code",
      "source": [
        "# Calculando as contagens de ocorrências para a coluna 'INDFMINC'\n",
        "value_counts = df_junto['INDFMINC'].value_counts()\n",
        "\n",
        "# Ordenando os valores pelas categorias\n",
        "value_counts_sorted = value_counts.sort_index()\n",
        "\n",
        "# Criando o gráfico de barras\n",
        "plt.figure(figsize=(10, 6))\n",
        "value_counts_sorted.plot(kind='bar', color='skyblue')\n",
        "\n",
        "# Adicionando título e rótulos aos eixos\n",
        "plt.title('Contagem de Ocorrências por Valor em INDFMINC')\n",
        "plt.xlabel('Valores')\n",
        "plt.ylabel('')\n",
        "\n",
        "# Exibindo o gráfico\n",
        "plt.show()"
      ],
      "metadata": {
        "colab": {
          "base_uri": "https://localhost:8080/",
          "height": 581
        },
        "id": "ceo8xHZ7jef6",
        "outputId": "13ea1361-05f0-4936-9589-195748d44029"
      },
      "execution_count": 23,
      "outputs": [
        {
          "output_type": "display_data",
          "data": {
            "text/plain": [
              "<Figure size 1000x600 with 1 Axes>"
            ],
            "image/png": "[encoded data removed]"
          },
          "metadata": {}
        }
      ]
    },
    {
      "cell_type": "markdown",
      "source": [
        "**Conclusões importantes**:\n",
        "\n",
        "Ao examinarmos os valores possíveis na variável, notamos a presença de valores consideravelmente altos, como 99, indicando incerteza na resposta. Embora isso possa impactar nossa análise, o desvio padrão de 12 sugere uma dispersão moderada em relação à média, apesar da presença de valores extremos como 77 e 99.\n",
        "\n",
        "Além disso, a proximidade entre a média e a mediana sugere uma distribuição relativamente equilibrada, apesar da presença do desvio. Ao visualizar os dados em gráficos, buscamos compreender melhor essa dinâmica e suas implicações.\n",
        "\n",
        "Em relação à distribuição de renda familiar, observamos que a categoria mais frequente é aquela que representa famílias com renda superior a 75 mil dólares anuais. Essa predominância é seguida por faixas de renda entre 25 mil e 35 mil, e 35 mil e 45 mil dólares. Com cerca de 50% dos dados concentrados entre 20 mil e 75 mil dólares, nossas conclusões corroboram tanto com a mediana quanto com a média das categorias, oferecendo uma visão abrangente dos padrões de renda na amostra."
      ],
      "metadata": {
        "id": "6OynoGaZlcYh"
      }
    },
    {
      "cell_type": "markdown",
      "source": [
        "### **RIDAGEYR**"
      ],
      "metadata": {
        "id": "HmMX0HeV2mtj"
      }
    },
    {
      "cell_type": "markdown",
      "source": [
        "Vamos verificar um pouco mais a fundo a idade das pessoas em nossa base."
      ],
      "metadata": {
        "id": "2JGs4YCM2pwj"
      }
    },
    {
      "cell_type": "code",
      "source": [
        "# Resumo estatístico\n",
        "df_junto['RIDAGEYR'].describe()"
      ],
      "metadata": {
        "colab": {
          "base_uri": "https://localhost:8080/"
        },
        "id": "dXqodcMm2sHz",
        "outputId": "c3457618-be9e-43ae-bfb0-d5c8ebc42f83"
      },
      "execution_count": 24,
      "outputs": [
        {
          "output_type": "execute_result",
          "data": {
            "text/plain": [
              "count    5334.000000\n",
              "mean       45.089989\n",
              "std        20.145853\n",
              "min        18.000000\n",
              "25%        27.000000\n",
              "50%        43.000000\n",
              "75%        62.000000\n",
              "max        85.000000\n",
              "Name: RIDAGEYR, dtype: float64"
            ]
          },
          "metadata": {},
          "execution_count": 24
        }
      ]
    },
    {
      "cell_type": "code",
      "source": [
        "# Observando a moda\n",
        "df_junto['RIDAGEYR'].mode()"
      ],
      "metadata": {
        "colab": {
          "base_uri": "https://localhost:8080/"
        },
        "id": "d49nlD19fsA0",
        "outputId": "b947cab7-82cc-4467-d632-cd490a097770"
      },
      "execution_count": 25,
      "outputs": [
        {
          "output_type": "execute_result",
          "data": {
            "text/plain": [
              "0    18\n",
              "Name: RIDAGEYR, dtype: int64"
            ]
          },
          "metadata": {},
          "execution_count": 25
        }
      ]
    },
    {
      "cell_type": "markdown",
      "source": [
        "**Pontos importantes**:\n",
        "\n",
        "- Como já vimos anteriormente, a pessoa mais jovem em nossa base tem 18 anos e a mais idosa possui 85 anos.\n",
        "\n",
        "- Inclusive, a idade que mais aparece em nossos registros é 18 anos.\n",
        "\n",
        "- Temos uma média de idade de 45 anos e uma mediana de 43. A média não está tão distante da mediana, o que indica uma possível simetria nos dados. No entanto, o desvio padrão é de 20, o que pode ser considerado um desvio alto neste caso. Portanto, apesar dos dados parecerem apresentar uma certa simetria, podemos observar que essa simetria talvez não seja tão grande assim.\n",
        "\n",
        "\n",
        "\n",
        "\n",
        "\n",
        "\n"
      ],
      "metadata": {
        "id": "wcl3fZil2_g7"
      }
    },
    {
      "cell_type": "code",
      "source": [
        "# Criando o histograma para os dados de idade\n",
        "\n",
        "# Definindo o tamanho da figura\n",
        "plt.figure(figsize=(8, 6))\n",
        "\n",
        "# Criando o gráfico\n",
        "sns.histplot(df_junto['RIDAGEYR'], bins = 10, color = 'skyblue')\n",
        "\n",
        "# Definindo título e labels\n",
        "plt.title('Distribuição de Idades')\n",
        "plt.xlabel('Idade')\n",
        "plt.ylabel('Frequência')\n",
        "\n",
        "# Exibindo o gráfico\n",
        "plt.show()"
      ],
      "metadata": {
        "colab": {
          "base_uri": "https://localhost:8080/",
          "height": 564
        },
        "id": "lEaqlCUl1yVM",
        "outputId": "01826982-3a82-47f0-8043-32a19f67c431"
      },
      "execution_count": 26,
      "outputs": [
        {
          "output_type": "display_data",
          "data": {
            "text/plain": [
              "<Figure size 800x600 with 1 Axes>"
            ],
            "image/png": "[encoded data removed]"
          },
          "metadata": {}
        }
      ]
    },
    {
      "cell_type": "markdown",
      "source": [
        "**Conclusões importantes**:\n",
        "\n",
        "A análise revela uma ampla distribuição de idades na amostra, com uma média e mediana em torno dos 45 anos, indicando uma concentração moderada de idade. No entanto, o desvio padrão relativamente alto de 20 sugere uma variação considerável nas idades dos participantes, o que pode indicar uma assimetria à direita na distribuição.\n",
        "\n",
        "Além disso, os percentis mostram que 50% dos dados estão entre 27 e 62 anos, com a maioria dos participantes sendo adultos mais velhos. Isso ressalta tanto a diversidade de idades na amostra quanto a predominância de adultos."
      ],
      "metadata": {
        "id": "e4SW0sg_7pJK"
      }
    },
    {
      "cell_type": "markdown",
      "source": [
        "### **DMDEDUC**"
      ],
      "metadata": {
        "id": "5CrPEcBd85gw"
      }
    },
    {
      "cell_type": "markdown",
      "source": [
        "Agora vamos observar dados relacionados ao grau de escolaridade das pessoas em nossa base."
      ],
      "metadata": {
        "id": "-HbLn1DE81bZ"
      }
    },
    {
      "cell_type": "code",
      "source": [
        "# Resumos estatísticos\n",
        "df_junto['DMDEDUC'].describe()"
      ],
      "metadata": {
        "colab": {
          "base_uri": "https://localhost:8080/"
        },
        "id": "Q32XOFI_9BN4",
        "outputId": "d729acd4-19ff-40d8-e5b8-d8f28696d20d"
      },
      "execution_count": 27,
      "outputs": [
        {
          "output_type": "execute_result",
          "data": {
            "text/plain": [
              "count    5334.000000\n",
              "mean        3.233221\n",
              "std         1.268395\n",
              "min         1.000000\n",
              "25%         2.000000\n",
              "50%         3.000000\n",
              "75%         4.000000\n",
              "max         9.000000\n",
              "Name: DMDEDUC, dtype: float64"
            ]
          },
          "metadata": {},
          "execution_count": 27
        }
      ]
    },
    {
      "cell_type": "code",
      "source": [
        "# Observando a moda\n",
        "df_junto['DMDEDUC'].mode()"
      ],
      "metadata": {
        "colab": {
          "base_uri": "https://localhost:8080/"
        },
        "id": "fXXG3-bkdqP1",
        "outputId": "d7baebe0-40df-41dd-f0a6-78c988c71c9b"
      },
      "execution_count": 28,
      "outputs": [
        {
          "output_type": "execute_result",
          "data": {
            "text/plain": [
              "0    4\n",
              "Name: DMDEDUC, dtype: int64"
            ]
          },
          "metadata": {},
          "execution_count": 28
        }
      ]
    },
    {
      "cell_type": "markdown",
      "source": [
        "**Pontos importantes**:\n",
        "\n",
        "- A média e mediana do grau de escolaridade das pessoas em nossa base de dados é o ensino médio. Cerca de 25% das pessoas têm no máximo o 12º ano de escolaridade. Existem pessoas que têm até o 9º ano de escolaridade e muito provavelmente também teremos pessoas que concluíram o ensino superior ou alguma graduação maior.\n",
        "\n",
        "- Também podemos observar que o registro que mais se repete é o ensino superior incompleto.\n",
        "\n",
        "- Além disso, 75% das pessoas têm no máximo um ensino superior completo. Isso significa que, mesmo que existam pessoas que finalizaram um ensino superior ou algo maior, elas não passam de 25% dos nossos dados."
      ],
      "metadata": {
        "id": "nr7y8moO9Nd6"
      }
    },
    {
      "cell_type": "code",
      "source": [
        "# Definindo o tamanho da figura\n",
        "plt.figure(figsize=(8, 6))\n",
        "\n",
        "# Criando o gráfico\n",
        "sns.histplot(df_junto['DMDEDUC'], bins = 10, color = 'skyblue')\n",
        "\n",
        "# Definindo título e labels\n",
        "plt.title('Distribuição de Escolaridade')\n",
        "plt.xlabel('Escolaridade')\n",
        "plt.ylabel('Frequência')\n",
        "\n",
        "# Exibindo o gráfico\n",
        "plt.show()"
      ],
      "metadata": {
        "colab": {
          "base_uri": "https://localhost:8080/",
          "height": 564
        },
        "id": "kbmjXF9J-suw",
        "outputId": "a50c3d56-1492-4ccb-f885-fd858244b269"
      },
      "execution_count": 29,
      "outputs": [
        {
          "output_type": "display_data",
          "data": {
            "text/plain": [
              "<Figure size 800x600 with 1 Axes>"
            ],
            "image/png": "[encoded data removed]"
          },
          "metadata": {}
        }
      ]
    },
    {
      "cell_type": "markdown",
      "source": [
        "**Conclusões importantes**:\n",
        "\n",
        "Com o auxílio do gráfico, confirmamos a predominância do ensino médio e a presença significativa de diversidade educacional na amostra. Embora existam participantes com ensino superior completo ou maior, representando até 25% dos dados, a concentração na categoria de ensino superior incompleto sugere uma tendência de início, mas não conclusão, de estudos de nível superior.\n",
        "\n",
        "Dessa forma, podemos afirmar que a amostra reflete uma variedade de níveis educacionais, com 50% dos registros situados entre o 12º ano e o ensino superior incompleto. Essa distribuição educacional ampla destaca a importância de considerar a diversidade de experiências educacionais ao analisar a composição da amostra."
      ],
      "metadata": {
        "id": "rSJO5oaP-zXQ"
      }
    },
    {
      "cell_type": "markdown",
      "source": [
        "### **RIDRETH1**"
      ],
      "metadata": {
        "id": "-azbNNa_cCyE"
      }
    },
    {
      "cell_type": "markdown",
      "source": [
        "A variável 'RIDRETH1' refere-se à etnia dos participantes."
      ],
      "metadata": {
        "id": "MkG9me9ecvuN"
      }
    },
    {
      "cell_type": "code",
      "source": [
        "# Resumos estatísticos\n",
        "df_junto['RIDRETH1'].describe()"
      ],
      "metadata": {
        "colab": {
          "base_uri": "https://localhost:8080/"
        },
        "id": "zYz2mvoncF6u",
        "outputId": "f4c19f1f-cea0-4900-f1c7-9c2b74166171"
      },
      "execution_count": 30,
      "outputs": [
        {
          "output_type": "execute_result",
          "data": {
            "text/plain": [
              "count    5334.000000\n",
              "mean        2.871016\n",
              "std         1.128468\n",
              "min         1.000000\n",
              "25%         3.000000\n",
              "50%         3.000000\n",
              "75%         4.000000\n",
              "max         5.000000\n",
              "Name: RIDRETH1, dtype: float64"
            ]
          },
          "metadata": {},
          "execution_count": 30
        }
      ]
    },
    {
      "cell_type": "code",
      "source": [
        "# Observando a moda\n",
        "df_junto['RIDRETH1'].mode()"
      ],
      "metadata": {
        "colab": {
          "base_uri": "https://localhost:8080/"
        },
        "id": "wNhmk5A-d_er",
        "outputId": "2724ba7b-a9e7-4bb6-dc86-e26d86386ac4"
      },
      "execution_count": 31,
      "outputs": [
        {
          "output_type": "execute_result",
          "data": {
            "text/plain": [
              "0    3\n",
              "Name: RIDRETH1, dtype: int64"
            ]
          },
          "metadata": {},
          "execution_count": 31
        }
      ]
    },
    {
      "cell_type": "markdown",
      "source": [
        "**Pontos importantes:**\n",
        "\n",
        "A média, mediana e moda estão bem próximas entre si. Podemos observar que o valor que aparece com maior frequência é o de número 3, que representa a etnia mexicano-americana.\n",
        "\n",
        "O nosso terceiro quartil indica que 75% dos nossos dados são do valor 4 para baixo, e o nosso primeiro quartil indica que o valor representante dos 25% dos nossos dados é o número 3. Portanto, podemos concluir que pelo menos 50% dos nossos dados estão entre 3 e 4."
      ],
      "metadata": {
        "id": "HrcBT4AHf_ux"
      }
    },
    {
      "cell_type": "code",
      "source": [
        "# Definindo o tamanho da figura\n",
        "plt.figure(figsize=(8, 6))\n",
        "\n",
        "# Criando o gráfico\n",
        "sns.histplot(df_junto['RIDRETH1'], bins = 10, color = 'skyblue')\n",
        "\n",
        "# Definindo título e labels\n",
        "plt.title('Distribuição de Etnias')\n",
        "plt.xlabel('Etnia')\n",
        "plt.ylabel('')\n",
        "\n",
        "# Exibindo o gráfico\n",
        "plt.show()"
      ],
      "metadata": {
        "id": "3yhMBbxEgSBy",
        "colab": {
          "base_uri": "https://localhost:8080/",
          "height": 564
        },
        "outputId": "e2db0597-8c50-4a00-d0c6-aa3b53c6c6b5"
      },
      "execution_count": 32,
      "outputs": [
        {
          "output_type": "display_data",
          "data": {
            "text/plain": [
              "<Figure size 800x600 with 1 Axes>"
            ],
            "image/png": "[encoded data removed]"
          },
          "metadata": {}
        }
      ]
    },
    {
      "cell_type": "markdown",
      "source": [
        "**Conclusões importantes:**\n",
        "\n",
        "Com o auxílio do gráfico, podemos conferir como os dados estão distribuídos e perceber que realmente o valor 3 é o mais comum, seguido pelo número 4, que respectivamente representam mexicano-americano e outros. O top 3 das etnias que apareceram com maior frequência em nossos dados foram o mexicano-americano, outros e branco não hispânico.\n",
        "\n",
        "A proximidade entre média, mediana e moda sugere uma distribuição homogênea dos dados em torno de um valor central, enquanto o valor mais frequente, representando a etnia mexicano-americana, indica uma predominância dessa etnia na amostra. A distribuição dos dados, conforme indicada pelo terceiro quartil (75% dos dados são do valor 4 para baixo) e pelo primeiro quartil (25% dos dados são do valor 3), sugere uma concentração dos dados em uma faixa estreita entre 3 e 4, o que pode refletir uma uniformidade na composição étnica da amostra."
      ],
      "metadata": {
        "id": "aEHIkX-m8TuG"
      }
    },
    {
      "cell_type": "markdown",
      "source": [
        "### **PAG_MINW**"
      ],
      "metadata": {
        "id": "6Cbxox639c-M"
      }
    },
    {
      "cell_type": "markdown",
      "source": [
        "A variável 'PAG_MINW' refere-se ao tempo total semanal de atividade aeróbica moderada a vigorosa em minutos. Sendo assim, vamos analisá-la mais de perto."
      ],
      "metadata": {
        "id": "74y6ITJb9mmc"
      }
    },
    {
      "cell_type": "code",
      "source": [
        "# Resumos estatísticos\n",
        "df_junto['PAG_MINW'].describe()"
      ],
      "metadata": {
        "colab": {
          "base_uri": "https://localhost:8080/"
        },
        "id": "tPqRjayx970E",
        "outputId": "91901e22-e563-4208-dcc9-c15871961f9f"
      },
      "execution_count": 33,
      "outputs": [
        {
          "output_type": "execute_result",
          "data": {
            "text/plain": [
              "count     5334.000000\n",
              "mean       471.765732\n",
              "std        780.352823\n",
              "min          0.000000\n",
              "25%         35.000000\n",
              "50%        210.000000\n",
              "75%        568.931871\n",
              "max      10777.829099\n",
              "Name: PAG_MINW, dtype: float64"
            ]
          },
          "metadata": {},
          "execution_count": 33
        }
      ]
    },
    {
      "cell_type": "code",
      "source": [
        "# Observando a moda\n",
        "df_junto['PAG_MINW'].mode()"
      ],
      "metadata": {
        "colab": {
          "base_uri": "https://localhost:8080/"
        },
        "id": "PuiGG5Nn-H0A",
        "outputId": "58ea19aa-9133-48bf-a880-45b69391599c"
      },
      "execution_count": 34,
      "outputs": [
        {
          "output_type": "execute_result",
          "data": {
            "text/plain": [
              "0    0.0\n",
              "Name: PAG_MINW, dtype: float64"
            ]
          },
          "metadata": {},
          "execution_count": 34
        }
      ]
    },
    {
      "cell_type": "markdown",
      "source": [
        "**Pontos importantes:**\n",
        "\n",
        "- Interessante observarmos que, neste caso, a média está bem distante da mediana e temos um desvio padrão bem alto, indicando que os dados tendem a se distanciar um pouco mais da média. Podemos observar que o valor que mais se repete é o número 0.\n",
        "\n",
        "- Além disso, podemos notar que 25% da nossa base pratica ao menos 35 minutos de atividades físicas, enquanto 50% pratica ao menos 3,5 horas de atividades físicas semanais. Ao observarmos o terceiro quartil, podemos constatar que o maior valor encontrado é de 9,4 horas. Portanto, podemos afirmar que 50% da nossa base faz atividades físicas semanais desde 35 minutos até 9 horas."
      ],
      "metadata": {
        "id": "nMgr3oUn-QPd"
      }
    },
    {
      "cell_type": "code",
      "source": [
        "# Definindo o tamanho da figura\n",
        "plt.figure(figsize=(8, 6))\n",
        "\n",
        "# Criando o gráfico\n",
        "sns.histplot(df_junto['PAG_MINW'], bins = 10, color = 'skyblue')\n",
        "\n",
        "# Definindo título e labels\n",
        "plt.title('Distribuição de atividades em minutos')\n",
        "plt.xlabel('Atividades')\n",
        "plt.ylabel('Frequência')\n",
        "\n",
        "# Exibindo o gráfico\n",
        "plt.show()"
      ],
      "metadata": {
        "colab": {
          "base_uri": "https://localhost:8080/",
          "height": 564
        },
        "id": "Q-JXCw6aI5ZY",
        "outputId": "7329ab99-40fd-422b-97fd-b91a7141483b"
      },
      "execution_count": 35,
      "outputs": [
        {
          "output_type": "display_data",
          "data": {
            "text/plain": [
              "<Figure size 800x600 with 1 Axes>"
            ],
            "image/png": "[encoded data removed]"
          },
          "metadata": {}
        }
      ]
    },
    {
      "cell_type": "markdown",
      "source": [
        "**Conclusões importantes:**\n",
        "\n",
        "Os dados sobre atividade física mostram uma grande variabilidade nos hábitos de exercício, indicada pela diferença entre média e mediana, juntamente com o alto desvio padrão.\n",
        "\n",
        "O valor mais comum sendo zero sugere que muitos não praticam atividades físicas regularmente, porém uma parte considerável da amostra é ativa, com 25% praticando pelo menos 35 minutos por semana e metade praticando 3,5 horas semanais. Isso sugere uma divisão marcante entre os ativos e os inativos, com uma ampla variação nos hábitos de exercício."
      ],
      "metadata": {
        "id": "8PS_dP08JE3P"
      }
    },
    {
      "cell_type": "markdown",
      "source": [
        "###**ADHERENCE**"
      ],
      "metadata": {
        "id": "8u7H0KvlRtWi"
      }
    },
    {
      "cell_type": "markdown",
      "source": [
        "Essa variavel se refere a quantidade e os tipos de atividade física necessários para manter uma boa saúde, tendo como categorias:\n",
        "\n",
        "- 1: Baixo (< 150 min/semana)\n",
        "- 2: Adequado (150-300 min/semana)\n",
        "- 3: Acima (> 300 min/semana)"
      ],
      "metadata": {
        "id": "hJOgjWPBRy_5"
      }
    },
    {
      "cell_type": "code",
      "source": [
        "# Resumos estatísticos\n",
        "df_junto['ADHERENCE'].describe()"
      ],
      "metadata": {
        "colab": {
          "base_uri": "https://localhost:8080/"
        },
        "id": "8RsgHWYjSLbZ",
        "outputId": "2a694255-4406-4043-f8d6-c51652f5158e"
      },
      "execution_count": 36,
      "outputs": [
        {
          "output_type": "execute_result",
          "data": {
            "text/plain": [
              "count    5334.000000\n",
              "mean        1.979753\n",
              "std         0.918364\n",
              "min         1.000000\n",
              "25%         1.000000\n",
              "50%         2.000000\n",
              "75%         3.000000\n",
              "max         3.000000\n",
              "Name: ADHERENCE, dtype: float64"
            ]
          },
          "metadata": {},
          "execution_count": 36
        }
      ]
    },
    {
      "cell_type": "code",
      "source": [
        "# Resumos estatísticos\n",
        "df_junto['ADHERENCE'].value_counts()"
      ],
      "metadata": {
        "colab": {
          "base_uri": "https://localhost:8080/"
        },
        "id": "UB_tnqzASQNh",
        "outputId": "221b3e81-6bcb-4aaa-b3a9-1b7a1ebcf759"
      },
      "execution_count": 37,
      "outputs": [
        {
          "output_type": "execute_result",
          "data": {
            "text/plain": [
              "ADHERENCE\n",
              "1.0    2304\n",
              "3.0    2196\n",
              "2.0     834\n",
              "Name: count, dtype: int64"
            ]
          },
          "metadata": {},
          "execution_count": 37
        }
      ]
    },
    {
      "cell_type": "code",
      "source": [
        "# Resumos estatísticos\n",
        "df_junto['ADHERENCE'].mode()"
      ],
      "metadata": {
        "colab": {
          "base_uri": "https://localhost:8080/"
        },
        "id": "xdzv1MJISS5p",
        "outputId": "560513d1-481e-4579-9e63-11dbda0a4ee4"
      },
      "execution_count": 38,
      "outputs": [
        {
          "output_type": "execute_result",
          "data": {
            "text/plain": [
              "0    1.0\n",
              "Name: ADHERENCE, dtype: float64"
            ]
          },
          "metadata": {},
          "execution_count": 38
        }
      ]
    },
    {
      "cell_type": "markdown",
      "source": [
        "**Pontos importantes:**\n",
        "\n",
        "- Há uma distribuição equilibrada entre média e mediana, sugerindo uma tendência central consistente nos dados.\n",
        "\n",
        "- Um desvio padrão alto indica uma variabilidade significativa nos valores da amostra.\n",
        "\n",
        "- Observa-se uma tendência de extremos na quantidade de exercícios praticados, com uma parte significativa dos registros apresentando valores muito baixos ou muito altos."
      ],
      "metadata": {
        "id": "bCo7IW-zTCRZ"
      }
    },
    {
      "cell_type": "code",
      "source": [
        "# Definindo o tamanho da figura\n",
        "plt.figure(figsize=(8, 6))\n",
        "\n",
        "# Criando o gráfico\n",
        "sns.histplot(df_junto['ADHERENCE'], bins = 10, color = 'skyblue')\n",
        "\n",
        "# Definindo título e labels\n",
        "plt.title('Distribuição de ADHERENCE')\n",
        "plt.xlabel('ADHERENCE')\n",
        "plt.ylabel('Frequência')\n",
        "\n",
        "# Exibindo o gráfico\n",
        "plt.show()"
      ],
      "metadata": {
        "colab": {
          "base_uri": "https://localhost:8080/",
          "height": 564
        },
        "id": "GKWZDv9GVOig",
        "outputId": "3174eaed-7bc5-410f-ef1d-deac90046d5a"
      },
      "execution_count": 39,
      "outputs": [
        {
          "output_type": "display_data",
          "data": {
            "text/plain": [
              "<Figure size 800x600 with 1 Axes>"
            ],
            "image/png": "[encoded data removed]"
          },
          "metadata": {}
        }
      ]
    },
    {
      "cell_type": "markdown",
      "source": [
        "**Conclusões importantes:**\n",
        "\n",
        "Os dados revelam uma distribuição equilibrada entre a média e a mediana do tempo total semanal de atividade aeróbica moderada a vigorosa, embora um desvio padrão alto indique uma variabilidade significativa. Enquanto 25% dos registros indicam uma baixa quantidade de exercícios, metade da amostra mantém uma quantidade adequada.\n",
        "\n",
        "No entanto, ao considerarmos o terceiro quartil, observamos que até 75% dos dados ultrapassam essa quantidade adequada. A moda sugere uma prevalência de registros com uma quantidade menor de exercícios, com a segunda categoria mais frequente indicando uma quantidade acima do recomendado. Portanto, nossos dados apresentam algumas extremidades, com uma parte significativa da amostra exercitando-se abaixo do ideal e outra parte exercitando-se acima."
      ],
      "metadata": {
        "id": "MDVewfenU3_P"
      }
    },
    {
      "cell_type": "markdown",
      "source": [
        "### **HEI2015_TOTAL_SCORE**"
      ],
      "metadata": {
        "id": "XH6Z0NZ5SA5_"
      }
    },
    {
      "cell_type": "markdown",
      "source": [
        "Essa variável representa o somatório das respostas das pessoas às perguntas sobre alimentos. Em suma, é o total de pontos que cada pessoa acumulou ao marcar como é sua alimentação."
      ],
      "metadata": {
        "id": "ynqePED_SDWe"
      }
    },
    {
      "cell_type": "code",
      "source": [
        "# Resumos estatísticos\n",
        "df_junto['HEI2015_TOTAL_SCORE'].describe()"
      ],
      "metadata": {
        "colab": {
          "base_uri": "https://localhost:8080/"
        },
        "id": "UqoDBpr8SMj-",
        "outputId": "f3a8a878-e1b4-4574-b31d-225541f5d8cc"
      },
      "execution_count": 40,
      "outputs": [
        {
          "output_type": "execute_result",
          "data": {
            "text/plain": [
              "count    5060.000000\n",
              "mean       49.971421\n",
              "std        12.324533\n",
              "min        16.059212\n",
              "25%        41.032289\n",
              "50%        49.512445\n",
              "75%        58.168013\n",
              "max        89.529383\n",
              "Name: HEI2015_TOTAL_SCORE, dtype: float64"
            ]
          },
          "metadata": {},
          "execution_count": 40
        }
      ]
    },
    {
      "cell_type": "markdown",
      "source": [
        "Podemos observar que a média de pontos é de 49,97, quase atingindo os 50 pontos. Caso uma pessoa marcasse o valor máximo em todas as opções, ela teria 100 pontos. No entanto, é importante destacar que nesse somatório não incluímos apenas componentes saudáveis, como vegetais e frutas. Também estão presentes o sódio e o açúcar, que em grandes quantidades podem ser prejudiciais à saúde. Portanto, é crucial analisar o quanto esses componentes estão influenciando nosso escore total."
      ],
      "metadata": {
        "id": "Z8ULbeQXVrqN"
      }
    },
    {
      "cell_type": "markdown",
      "source": [
        "Em vez de analisarmos apenas a variável que representa o total de pontos em cada uma das categorias disponíveis, vamos gerar um gráfico com o intuito de entendermos melhor a representação de cada variável em nosso conjunto de dados.\n",
        "\n",
        "\n",
        "\n",
        "\n",
        "\n",
        "\n"
      ],
      "metadata": {
        "id": "86YGE2X1fobx"
      }
    },
    {
      "cell_type": "code",
      "source": [
        "# Realizando alguns ajustes antes de criarmos o gráfico\n",
        "df_dieta = df2.copy()\n",
        "\n",
        "# Lista com as partes do nome das colunas a serem removidas\n",
        "partes_a_remover = ['HEI2015C1_', 'HEI2015C2_', 'HEI2015C3_', 'HEI2015C4_', 'HEI2015C5_',\n",
        "                    'HEI2015C6_', 'HEI2015C7_', 'HEI2015C8_', 'HEI2015C9_', 'HEI2015C10_',\n",
        "                    'HEI2015C11_', 'HEI2015C12_', 'HEI2015C13_', 'HEI2015C14_', 'HEI2015_']\n",
        "\n",
        "# Renomear as colunas removendo as partes do nome\n",
        "for i in partes_a_remover:\n",
        "    df_dieta.columns = df_dieta.columns.str.replace(i, '')"
      ],
      "metadata": {
        "id": "0xgZwOF4dz6S"
      },
      "execution_count": 41,
      "outputs": []
    },
    {
      "cell_type": "markdown",
      "source": [
        "Agora que renomeamos as colunas, podemos gerar uma visualização menos poluída. Vamos ver como ficou. Lembrando que esses ajustes foram feitos apenas para proporcionar uma visualização mais clara do gráfico."
      ],
      "metadata": {
        "id": "6fSIn-cDebp8"
      }
    },
    {
      "cell_type": "code",
      "source": [
        "# Definindo o tamanho da figura\n",
        "plt.figure(figsize=(23, 5))\n",
        "\n",
        "# Selecionando apenas as colunas desejadas\n",
        "colunas_desejadas = ['TOTALVEG', 'GREEN_AND_BEAN', 'TOTALFRUIT', 'WHOLEFRUIT', 'WHOLEGRAIN', 'TOTALDAIRY', 'TOTPROT', 'SEAPLANT_PROT', 'FATTYACID', 'SODIUM', 'REFINEDGRAIN', 'SFAT', 'ADDSUG', 'TOTAL_SCORE']\n",
        "\n",
        "# Criando um novo DataFrame contendo apenas as colunas desejadas\n",
        "df_selecionado = df_dieta[colunas_desejadas]\n",
        "\n",
        "# Criando o barplot com as colunas desejadas\n",
        "sns.barplot(data=df_selecionado)\n",
        "\n",
        "# Definindo o título\n",
        "plt.title('Pontuação dos Componentes do Healthy Eating Index (HEI)')\n",
        "\n",
        "# Deixando as labels vazias\n",
        "plt.xlabel('')\n",
        "plt.ylabel('')\n",
        "\n",
        "# Exibindo o gráfico\n",
        "plt.show()"
      ],
      "metadata": {
        "colab": {
          "base_uri": "https://localhost:8080/",
          "height": 460
        },
        "id": "4E6_LyoyZkk8",
        "outputId": "94e4a50f-6832-4bdb-8d23-098b4a516b82"
      },
      "execution_count": 42,
      "outputs": [
        {
          "output_type": "display_data",
          "data": {
            "text/plain": [
              "<Figure size 2300x500 with 1 Axes>"
            ],
            "image/png": "[encoded data removed]"
          },
          "metadata": {}
        }
      ]
    },
    {
      "cell_type": "markdown",
      "source": [
        "Utilizando o gráfico dessa forma, podemos ter uma noção de como anda a dieta das pessoas em nosso DF. Dito isso, vamos observar alguns **pontos importantes**:\n",
        "\n",
        "- Vamos começar observando da esquerda para a direita, onde temos o total de vegetais e a quantidade de verduras verdes escuras e leguminosas ('TOTALVEG' e 'GREEN_AND_BEAN'). É evidente que nossos dados apresentam um consumo de vegetais mais aparente do que de verduras verdes escuras e leguminosas.\n",
        "\n",
        "- Ao observarmos o total de frutas ('TOTALFRUIT'), notamos um valor menor do que o de verduras, e ao analisarmos a fruta in natura ('WHOLEFRUIT'), vemos que o valor é ainda menor do que os totais de outras frutas.\n",
        "\n",
        "- Quando observamos grãos integrais e laticínios ('WHOLEGRAIN' e 'TOTALDAIRY'), percebemos que a quantidade de grãos integrais é baixa, enquanto a de laticínios é maior do que o total de vegetais.\n",
        "\n",
        "- A proteína ('TOTPROT') tem uma quantidade bem próxima do laticínios e um bem maior do que todas as outras que vimos até o momento. Já as plantas marinhas e proteínas vegetais ('SEAPLANT_PROT') têm um consumo muito baixo, semelhante aos grãos integrais.\n",
        "\n",
        "- Observando a quantidade de ácidos graxos ('FATTYACID'), podemos notar que ele aparece em grande quantidade se comparado com as demais que vimos até agora e ele esta bem proximo da quantidade de proteina essas duas categorias apareceram em maiores quantidades até o momento. Logo após, temos a quantidade de sódio ('SODIUM'), que até o momento é o que aparece em maior quantidade em nossos registros.\n",
        "\n",
        "- Quando voltamos nossa atenção para os grãos refinados ('REFINEDGRAIN'), notamos que, até o momento, é o que aparece em maior quantidade. Aparentemente, o consumo dele é maior do que todos os outros individualmente. Ao olharmos para a variável ('SFAT'), que é a Gordura saturada, vemos que, ela ultrapassa variáveis como grãos refinados e proteínas que até então eram o que apareciam em maiores quantidades.\n",
        "\n",
        "- As últimas variáveis do gráfico são respectivamente 'ADDSHUG' e 'TOTAL_SCORE'. A primeira é referente aos açúcares adicionados, podemos notar que é uma quantidade bem alta e a aparentemente um pouco maior que a nossa variável de gordura saturada que até então era a mais presente em nossos dados. E a segunda, nada mais é do que a soma de todas as outras variáveis."
      ],
      "metadata": {
        "id": "eP0k43z1TG-K"
      }
    },
    {
      "cell_type": "markdown",
      "source": [
        "**Conclusões importantes**\n",
        "\n",
        "- Primeiramente, observamos que o consumo de vegetais é mais aparente do que o de verduras verdes escuras e leguminosas, sugerindo uma possível preferência ou hábito alimentar em relação aos vegetais. Além disso, constatamos que o consumo de frutas in natura é menor do que o de outras frutas, indicando uma potencial preferência por frutas processadas ou industrializadas em vez de frutas frescas.\n",
        "\n",
        "- Outro ponto relevante é a baixa quantidade de grãos integrais em comparação com laticínios, sugerindo uma possível necessidade de aumentar o consumo de grãos integrais para uma dieta mais equilibrada. Também notamos que a quantidade de proteína é significativa, próxima à dos laticínios, o que pode indicar uma preferência por alimentos ricos em proteína na dieta dos participantes.\n",
        "\n",
        "- Além disso, a presença de ácidos graxos em quantidades expressivas, juntamente com o alto teor de sódio, chama a atenção para a necessidade de monitorar o consumo desses componentes, pois o excesso pode ser prejudicial à saúde. Por fim, o elevado consumo de açúcares adicionados destaca a importância de reduzir a ingestão desses alimentos para promover uma alimentação mais saudável e equilibrada."
      ],
      "metadata": {
        "id": "bzrVUl0zYyLV"
      }
    },
    {
      "cell_type": "markdown",
      "source": [
        "**Observando as medidas**\n",
        "\n",
        "Nesta seção, faremos uma análise estatística resumida dos dados para confirmar ou rejeitar as hipóteses levantadas até o momento."
      ],
      "metadata": {
        "id": "SP-9rQaaf8fk"
      }
    },
    {
      "cell_type": "code",
      "source": [
        "# Medidas estatísticas\n",
        "df_selecionado.describe()"
      ],
      "metadata": {
        "colab": {
          "base_uri": "https://localhost:8080/",
          "height": 300
        },
        "id": "zFqItNWRaRwX",
        "outputId": "0b509f8f-e2f1-47ee-c4dc-4ce9924f1658"
      },
      "execution_count": 102,
      "outputs": [
        {
          "output_type": "execute_result",
          "data": {
            "text/plain": [
              "          TOTALVEG  GREEN_AND_BEAN   TOTALFRUIT   WHOLEFRUIT   WHOLEGRAIN  \\\n",
              "count  8549.000000     8549.000000  8549.000000  8549.000000  8549.000000   \n",
              "mean      2.862097        1.547884     2.659902     2.405864     1.674949   \n",
              "std       1.472391        2.046650     1.930251     2.152560     1.823515   \n",
              "min       0.000000        0.000000     0.000000     0.000000     0.000000   \n",
              "25%       1.692308        0.000000     0.725494     0.000000     0.000000   \n",
              "50%       2.753825        0.000000     2.618554     2.179715     1.018207   \n",
              "75%       4.165605        3.498013     5.000000     5.000000     2.997076   \n",
              "max       5.000000        5.000000     5.000000     5.000000     5.000000   \n",
              "\n",
              "        TOTALDAIRY      TOTPROT  SEAPLANT_PROT    FATTYACID       SODIUM  \\\n",
              "count  8549.000000  8549.000000    8549.000000  8549.000000  8549.000000   \n",
              "mean      4.054757     4.211867       2.325303     4.205320     4.988956   \n",
              "std       1.478922     1.157194       2.132526     3.147736     3.293786   \n",
              "min       0.000000     0.000000       0.000000     0.000000     0.000000   \n",
              "25%       3.336989     3.587339       0.000000     1.544438     2.258630   \n",
              "50%       5.000000     5.000000       1.836220     3.789177     5.144181   \n",
              "75%       5.000000     5.000000       5.000000     6.464805     7.705660   \n",
              "max       5.000000     5.000000       5.000000    10.000000    10.000000   \n",
              "\n",
              "       REFINEDGRAIN         SFAT       ADDSUG  TOTAL_SCORE  \n",
              "count   8549.000000  8549.000000  8549.000000  8549.000000  \n",
              "mean       5.540906     5.781459     5.959600    48.218865  \n",
              "std        3.452289     3.090926     3.215960    11.884725  \n",
              "min        0.000000     0.000000     0.000000    13.243513  \n",
              "25%        2.652670     3.514716     3.599885    39.643349  \n",
              "50%        5.880968     5.979335     6.327416    47.589498  \n",
              "75%        8.756728     8.390884     8.859520    56.028859  \n",
              "max       10.000000    10.000000    10.000000    89.529383  "
            ],
            "text/html": [
              "\n",
              "  <div id=\"df-b0ad04b3-950b-4a36-a44a-8de04d13dc96\" class=\"colab-df-container\">\n",
              "    <div>\n",
              "<style scoped>\n",
              "    .dataframe tbody tr th:only-of-type {\n",
              "        vertical-align: middle;\n",
              "    }\n",
              "\n",
              "    .dataframe tbody tr th {\n",
              "        vertical-align: top;\n",
              "    }\n",
              "\n",
              "    .dataframe thead th {\n",
              "        text-align: right;\n",
              "    }\n",
              "</style>\n",
              "<table border=\"1\" class=\"dataframe\">\n",
              "  <thead>\n",
              "    <tr style=\"text-align: right;\">\n",
              "      <th></th>\n",
              "      <th>TOTALVEG</th>\n",
              "      <th>GREEN_AND_BEAN</th>\n",
              "      <th>TOTALFRUIT</th>\n",
              "      <th>WHOLEFRUIT</th>\n",
              "      <th>WHOLEGRAIN</th>\n",
              "      <th>TOTALDAIRY</th>\n",
              "      <th>TOTPROT</th>\n",
              "      <th>SEAPLANT_PROT</th>\n",
              "      <th>FATTYACID</th>\n",
              "      <th>SODIUM</th>\n",
              "      <th>REFINEDGRAIN</th>\n",
              "      <th>SFAT</th>\n",
              "      <th>ADDSUG</th>\n",
              "      <th>TOTAL_SCORE</th>\n",
              "    </tr>\n",
              "  </thead>\n",
              "  <tbody>\n",
              "    <tr>\n",
              "      <th>count</th>\n",
              "      <td>8549.000000</td>\n",
              "      <td>8549.000000</td>\n",
              "      <td>8549.000000</td>\n",
              "      <td>8549.000000</td>\n",
              "      <td>8549.000000</td>\n",
              "      <td>8549.000000</td>\n",
              "      <td>8549.000000</td>\n",
              "      <td>8549.000000</td>\n",
              "      <td>8549.000000</td>\n",
              "      <td>8549.000000</td>\n",
              "      <td>8549.000000</td>\n",
              "      <td>8549.000000</td>\n",
              "      <td>8549.000000</td>\n",
              "      <td>8549.000000</td>\n",
              "    </tr>\n",
              "    <tr>\n",
              "      <th>mean</th>\n",
              "      <td>2.862097</td>\n",
              "      <td>1.547884</td>\n",
              "      <td>2.659902</td>\n",
              "      <td>2.405864</td>\n",
              "      <td>1.674949</td>\n",
              "      <td>4.054757</td>\n",
              "      <td>4.211867</td>\n",
              "      <td>2.325303</td>\n",
              "      <td>4.205320</td>\n",
              "      <td>4.988956</td>\n",
              "      <td>5.540906</td>\n",
              "      <td>5.781459</td>\n",
              "      <td>5.959600</td>\n",
              "      <td>48.218865</td>\n",
              "    </tr>\n",
              "    <tr>\n",
              "      <th>std</th>\n",
              "      <td>1.472391</td>\n",
              "      <td>2.046650</td>\n",
              "      <td>1.930251</td>\n",
              "      <td>2.152560</td>\n",
              "      <td>1.823515</td>\n",
              "      <td>1.478922</td>\n",
              "      <td>1.157194</td>\n",
              "      <td>2.132526</td>\n",
              "      <td>3.147736</td>\n",
              "      <td>3.293786</td>\n",
              "      <td>3.452289</td>\n",
              "      <td>3.090926</td>\n",
              "      <td>3.215960</td>\n",
              "      <td>11.884725</td>\n",
              "    </tr>\n",
              "    <tr>\n",
              "      <th>min</th>\n",
              "      <td>0.000000</td>\n",
              "      <td>0.000000</td>\n",
              "      <td>0.000000</td>\n",
              "      <td>0.000000</td>\n",
              "      <td>0.000000</td>\n",
              "      <td>0.000000</td>\n",
              "      <td>0.000000</td>\n",
              "      <td>0.000000</td>\n",
              "      <td>0.000000</td>\n",
              "      <td>0.000000</td>\n",
              "      <td>0.000000</td>\n",
              "      <td>0.000000</td>\n",
              "      <td>0.000000</td>\n",
              "      <td>13.243513</td>\n",
              "    </tr>\n",
              "    <tr>\n",
              "      <th>25%</th>\n",
              "      <td>1.692308</td>\n",
              "      <td>0.000000</td>\n",
              "      <td>0.725494</td>\n",
              "      <td>0.000000</td>\n",
              "      <td>0.000000</td>\n",
              "      <td>3.336989</td>\n",
              "      <td>3.587339</td>\n",
              "      <td>0.000000</td>\n",
              "      <td>1.544438</td>\n",
              "      <td>2.258630</td>\n",
              "      <td>2.652670</td>\n",
              "      <td>3.514716</td>\n",
              "      <td>3.599885</td>\n",
              "      <td>39.643349</td>\n",
              "    </tr>\n",
              "    <tr>\n",
              "      <th>50%</th>\n",
              "      <td>2.753825</td>\n",
              "      <td>0.000000</td>\n",
              "      <td>2.618554</td>\n",
              "      <td>2.179715</td>\n",
              "      <td>1.018207</td>\n",
              "      <td>5.000000</td>\n",
              "      <td>5.000000</td>\n",
              "      <td>1.836220</td>\n",
              "      <td>3.789177</td>\n",
              "      <td>5.144181</td>\n",
              "      <td>5.880968</td>\n",
              "      <td>5.979335</td>\n",
              "      <td>6.327416</td>\n",
              "      <td>47.589498</td>\n",
              "    </tr>\n",
              "    <tr>\n",
              "      <th>75%</th>\n",
              "      <td>4.165605</td>\n",
              "      <td>3.498013</td>\n",
              "      <td>5.000000</td>\n",
              "      <td>5.000000</td>\n",
              "      <td>2.997076</td>\n",
              "      <td>5.000000</td>\n",
              "      <td>5.000000</td>\n",
              "      <td>5.000000</td>\n",
              "      <td>6.464805</td>\n",
              "      <td>7.705660</td>\n",
              "      <td>8.756728</td>\n",
              "      <td>8.390884</td>\n",
              "      <td>8.859520</td>\n",
              "      <td>56.028859</td>\n",
              "    </tr>\n",
              "    <tr>\n",
              "      <th>max</th>\n",
              "      <td>5.000000</td>\n",
              "      <td>5.000000</td>\n",
              "      <td>5.000000</td>\n",
              "      <td>5.000000</td>\n",
              "      <td>5.000000</td>\n",
              "      <td>5.000000</td>\n",
              "      <td>5.000000</td>\n",
              "      <td>5.000000</td>\n",
              "      <td>10.000000</td>\n",
              "      <td>10.000000</td>\n",
              "      <td>10.000000</td>\n",
              "      <td>10.000000</td>\n",
              "      <td>10.000000</td>\n",
              "      <td>89.529383</td>\n",
              "    </tr>\n",
              "  </tbody>\n",
              "</table>\n",
              "</div>\n",
              "    <div class=\"colab-df-buttons\">\n",
              "\n",
              "  <div class=\"colab-df-container\">\n",
              "    <button class=\"colab-df-convert\" onclick=\"convertToInteractive('df-b0ad04b3-950b-4a36-a44a-8de04d13dc96')\"\n",
              "            title=\"Convert this dataframe to an interactive table.\"\n",
              "            style=\"display:none;\">\n",
              "\n",
              "  <svg xmlns=\"http://www.w3.org/2000/svg\" height=\"24px\" viewBox=\"0 -960 960 960\">\n",
              "    <path d=\"M120-120v-720h720v720H120Zm60-500h600v-160H180v160Zm220 220h160v-160H400v160Zm0 220h160v-160H400v160ZM180-400h160v-160H180v160Zm440 0h160v-160H620v160ZM180-180h160v-160H180v160Zm440 0h160v-160H620v160Z\"/>\n",
              "  </svg>\n",
              "    </button>\n",
              "\n",
              "  <style>\n",
              "    .colab-df-container {\n",
              "      display:flex;\n",
              "      gap: 12px;\n",
              "    }\n",
              "\n",
              "    .colab-df-convert {\n",
              "      background-color: #E8F0FE;\n",
              "      border: none;\n",
              "      border-radius: 50%;\n",
              "      cursor: pointer;\n",
              "      display: none;\n",
              "      fill: #1967D2;\n",
              "      height: 32px;\n",
              "      padding: 0 0 0 0;\n",
              "      width: 32px;\n",
              "    }\n",
              "\n",
              "    .colab-df-convert:hover {\n",
              "      background-color: #E2EBFA;\n",
              "      box-shadow: 0px 1px 2px rgba(60, 64, 67, 0.3), 0px 1px 3px 1px rgba(60, 64, 67, 0.15);\n",
              "      fill: #174EA6;\n",
              "    }\n",
              "\n",
              "    .colab-df-buttons div {\n",
              "      margin-bottom: 4px;\n",
              "    }\n",
              "\n",
              "    [theme=dark] .colab-df-convert {\n",
              "      background-color: #3B4455;\n",
              "      fill: #D2E3FC;\n",
              "    }\n",
              "\n",
              "    [theme=dark] .colab-df-convert:hover {\n",
              "      background-color: #434B5C;\n",
              "      box-shadow: 0px 1px 3px 1px rgba(0, 0, 0, 0.15);\n",
              "      filter: drop-shadow(0px 1px 2px rgba(0, 0, 0, 0.3));\n",
              "      fill: #FFFFFF;\n",
              "    }\n",
              "  </style>\n",
              "\n",
              "    <script>\n",
              "      const buttonEl =\n",
              "        document.querySelector('#df-b0ad04b3-950b-4a36-a44a-8de04d13dc96 button.colab-df-convert');\n",
              "      buttonEl.style.display =\n",
              "        google.colab.kernel.accessAllowed ? 'block' : 'none';\n",
              "\n",
              "      async function convertToInteractive(key) {\n",
              "        const element = document.querySelector('#df-b0ad04b3-950b-4a36-a44a-8de04d13dc96');\n",
              "        const dataTable =\n",
              "          await google.colab.kernel.invokeFunction('convertToInteractive',\n",
              "                                                    [key], {});\n",
              "        if (!dataTable) return;\n",
              "\n",
              "        const docLinkHtml = 'Like what you see? Visit the ' +\n",
              "          '<a target=\"_blank\" href=https://colab.research.google.com/notebooks/data_table.ipynb>data table notebook</a>'\n",
              "          + ' to learn more about interactive tables.';\n",
              "        element.innerHTML = '';\n",
              "        dataTable['output_type'] = 'display_data';\n",
              "        await google.colab.output.renderOutput(dataTable, element);\n",
              "        const docLink = document.createElement('div');\n",
              "        docLink.innerHTML = docLinkHtml;\n",
              "        element.appendChild(docLink);\n",
              "      }\n",
              "    </script>\n",
              "  </div>\n",
              "\n",
              "\n",
              "<div id=\"df-59f187be-a94e-48d7-b202-a254ed73f5a8\">\n",
              "  <button class=\"colab-df-quickchart\" onclick=\"quickchart('df-59f187be-a94e-48d7-b202-a254ed73f5a8')\"\n",
              "            title=\"Suggest charts\"\n",
              "            style=\"display:none;\">\n",
              "\n",
              "<svg xmlns=\"http://www.w3.org/2000/svg\" height=\"24px\"viewBox=\"0 0 24 24\"\n",
              "     width=\"24px\">\n",
              "    <g>\n",
              "        <path d=\"M19 3H5c-1.1 0-2 .9-2 2v14c0 1.1.9 2 2 2h14c1.1 0 2-.9 2-2V5c0-1.1-.9-2-2-2zM9 17H7v-7h2v7zm4 0h-2V7h2v10zm4 0h-2v-4h2v4z\"/>\n",
              "    </g>\n",
              "</svg>\n",
              "  </button>\n",
              "\n",
              "<style>\n",
              "  .colab-df-quickchart {\n",
              "      --bg-color: #E8F0FE;\n",
              "      --fill-color: #1967D2;\n",
              "      --hover-bg-color: #E2EBFA;\n",
              "      --hover-fill-color: #174EA6;\n",
              "      --disabled-fill-color: #AAA;\n",
              "      --disabled-bg-color: #DDD;\n",
              "  }\n",
              "\n",
              "  [theme=dark] .colab-df-quickchart {\n",
              "      --bg-color: #3B4455;\n",
              "      --fill-color: #D2E3FC;\n",
              "      --hover-bg-color: #434B5C;\n",
              "      --hover-fill-color: #FFFFFF;\n",
              "      --disabled-bg-color: #3B4455;\n",
              "      --disabled-fill-color: #666;\n",
              "  }\n",
              "\n",
              "  .colab-df-quickchart {\n",
              "    background-color: var(--bg-color);\n",
              "    border: none;\n",
              "    border-radius: 50%;\n",
              "    cursor: pointer;\n",
              "    display: none;\n",
              "    fill: var(--fill-color);\n",
              "    height: 32px;\n",
              "    padding: 0;\n",
              "    width: 32px;\n",
              "  }\n",
              "\n",
              "  .colab-df-quickchart:hover {\n",
              "    background-color: var(--hover-bg-color);\n",
              "    box-shadow: 0 1px 2px rgba(60, 64, 67, 0.3), 0 1px 3px 1px rgba(60, 64, 67, 0.15);\n",
              "    fill: var(--button-hover-fill-color);\n",
              "  }\n",
              "\n",
              "  .colab-df-quickchart-complete:disabled,\n",
              "  .colab-df-quickchart-complete:disabled:hover {\n",
              "    background-color: var(--disabled-bg-color);\n",
              "    fill: var(--disabled-fill-color);\n",
              "    box-shadow: none;\n",
              "  }\n",
              "\n",
              "  .colab-df-spinner {\n",
              "    border: 2px solid var(--fill-color);\n",
              "    border-color: transparent;\n",
              "    border-bottom-color: var(--fill-color);\n",
              "    animation:\n",
              "      spin 1s steps(1) infinite;\n",
              "  }\n",
              "\n",
              "  @keyframes spin {\n",
              "    0% {\n",
              "      border-color: transparent;\n",
              "      border-bottom-color: var(--fill-color);\n",
              "      border-left-color: var(--fill-color);\n",
              "    }\n",
              "    20% {\n",
              "      border-color: transparent;\n",
              "      border-left-color: var(--fill-color);\n",
              "      border-top-color: var(--fill-color);\n",
              "    }\n",
              "    30% {\n",
              "      border-color: transparent;\n",
              "      border-left-color: var(--fill-color);\n",
              "      border-top-color: var(--fill-color);\n",
              "      border-right-color: var(--fill-color);\n",
              "    }\n",
              "    40% {\n",
              "      border-color: transparent;\n",
              "      border-right-color: var(--fill-color);\n",
              "      border-top-color: var(--fill-color);\n",
              "    }\n",
              "    60% {\n",
              "      border-color: transparent;\n",
              "      border-right-color: var(--fill-color);\n",
              "    }\n",
              "    80% {\n",
              "      border-color: transparent;\n",
              "      border-right-color: var(--fill-color);\n",
              "      border-bottom-color: var(--fill-color);\n",
              "    }\n",
              "    90% {\n",
              "      border-color: transparent;\n",
              "      border-bottom-color: var(--fill-color);\n",
              "    }\n",
              "  }\n",
              "</style>\n",
              "\n",
              "  <script>\n",
              "    async function quickchart(key) {\n",
              "      const quickchartButtonEl =\n",
              "        document.querySelector('#' + key + ' button');\n",
              "      quickchartButtonEl.disabled = true;  // To prevent multiple clicks.\n",
              "      quickchartButtonEl.classList.add('colab-df-spinner');\n",
              "      try {\n",
              "        const charts = await google.colab.kernel.invokeFunction(\n",
              "            'suggestCharts', [key], {});\n",
              "      } catch (error) {\n",
              "        console.error('Error during call to suggestCharts:', error);\n",
              "      }\n",
              "      quickchartButtonEl.classList.remove('colab-df-spinner');\n",
              "      quickchartButtonEl.classList.add('colab-df-quickchart-complete');\n",
              "    }\n",
              "    (() => {\n",
              "      let quickchartButtonEl =\n",
              "        document.querySelector('#df-59f187be-a94e-48d7-b202-a254ed73f5a8 button');\n",
              "      quickchartButtonEl.style.display =\n",
              "        google.colab.kernel.accessAllowed ? 'block' : 'none';\n",
              "    })();\n",
              "  </script>\n",
              "</div>\n",
              "\n",
              "    </div>\n",
              "  </div>\n"
            ],
            "application/vnd.google.colaboratory.intrinsic+json": {
              "type": "dataframe",
              "summary": "{\n  \"name\": \"df_selecionado\",\n  \"rows\": 8,\n  \"fields\": [\n    {\n      \"column\": \"TOTALVEG\",\n      \"properties\": {\n        \"dtype\": \"number\",\n        \"std\": 3021.621920288148,\n        \"min\": 0.0,\n        \"max\": 8549.0,\n        \"num_unique_values\": 8,\n        \"samples\": [\n          2.8620970795876537,\n          2.75382512224617,\n          8549.0\n        ],\n        \"semantic_type\": \"\",\n        \"description\": \"\"\n      }\n    },\n    {\n      \"column\": \"GREEN_AND_BEAN\",\n      \"properties\": {\n        \"dtype\": \"number\",\n        \"std\": 3021.9177123245527,\n        \"min\": 0.0,\n        \"max\": 8549.0,\n        \"num_unique_values\": 6,\n        \"samples\": [\n          8549.0,\n          1.5478838387580762,\n          5.0\n        ],\n        \"semantic_type\": \"\",\n        \"description\": \"\"\n      }\n    },\n    {\n      \"column\": \"TOTALFRUIT\",\n      \"properties\": {\n        \"dtype\": \"number\",\n        \"std\": 3021.622647890776,\n        \"min\": 0.0,\n        \"max\": 8549.0,\n        \"num_unique_values\": 7,\n        \"samples\": [\n          8549.0,\n          2.659901505425556,\n          2.61855432780847\n        ],\n        \"semantic_type\": \"\",\n        \"description\": \"\"\n      }\n    },\n    {\n      \"column\": \"WHOLEFRUIT\",\n      \"properties\": {\n        \"dtype\": \"number\",\n        \"std\": 3021.683126952669,\n        \"min\": 0.0,\n        \"max\": 8549.0,\n        \"num_unique_values\": 6,\n        \"samples\": [\n          8549.0,\n          2.4058639919624762,\n          5.0\n        ],\n        \"semantic_type\": \"\",\n        \"description\": \"\"\n      }\n    },\n    {\n      \"column\": \"WHOLEGRAIN\",\n      \"properties\": {\n        \"dtype\": \"number\",\n        \"std\": 3021.8963404148867,\n        \"min\": 0.0,\n        \"max\": 8549.0,\n        \"num_unique_values\": 7,\n        \"samples\": [\n          8549.0,\n          1.6749491288864284,\n          2.99707602339181\n        ],\n        \"semantic_type\": \"\",\n        \"description\": \"\"\n      }\n    },\n    {\n      \"column\": \"TOTALDAIRY\",\n      \"properties\": {\n        \"dtype\": \"number\",\n        \"std\": 3021.322837708287,\n        \"min\": 0.0,\n        \"max\": 8549.0,\n        \"num_unique_values\": 6,\n        \"samples\": [\n          8549.0,\n          4.054757182091905,\n          5.0\n        ],\n        \"semantic_type\": \"\",\n        \"description\": \"\"\n      }\n    },\n    {\n      \"column\": \"TOTPROT\",\n      \"properties\": {\n        \"dtype\": \"number\",\n        \"std\": 3021.3185453647743,\n        \"min\": 0.0,\n        \"max\": 8549.0,\n        \"num_unique_values\": 6,\n        \"samples\": [\n          8549.0,\n          4.211867021628728,\n          5.0\n        ],\n        \"semantic_type\": \"\",\n        \"description\": \"\"\n      }\n    },\n    {\n      \"column\": \"SEAPLANT_PROT\",\n      \"properties\": {\n        \"dtype\": \"number\",\n        \"std\": 3021.7055628004086,\n        \"min\": 0.0,\n        \"max\": 8549.0,\n        \"num_unique_values\": 6,\n        \"samples\": [\n          8549.0,\n          2.325303377325245,\n          5.0\n        ],\n        \"semantic_type\": \"\",\n        \"description\": \"\"\n      }\n    },\n    {\n      \"column\": \"FATTYACID\",\n      \"properties\": {\n        \"dtype\": \"number\",\n        \"std\": 3021.057094735815,\n        \"min\": 0.0,\n        \"max\": 8549.0,\n        \"num_unique_values\": 8,\n        \"samples\": [\n          4.205319654695997,\n          3.78917686087497,\n          8549.0\n        ],\n        \"semantic_type\": \"\",\n        \"description\": \"\"\n      }\n    },\n    {\n      \"column\": \"SODIUM\",\n      \"properties\": {\n        \"dtype\": \"number\",\n        \"std\": 3020.8430188544344,\n        \"min\": 0.0,\n        \"max\": 8549.0,\n        \"num_unique_values\": 8,\n        \"samples\": [\n          4.988956364565645,\n          5.14418084511542,\n          8549.0\n        ],\n        \"semantic_type\": \"\",\n        \"description\": \"\"\n      }\n    },\n    {\n      \"column\": \"REFINEDGRAIN\",\n      \"properties\": {\n        \"dtype\": \"number\",\n        \"std\": 3020.697062310637,\n        \"min\": 0.0,\n        \"max\": 8549.0,\n        \"num_unique_values\": 8,\n        \"samples\": [\n          5.54090587758188,\n          5.88096759470561,\n          8549.0\n        ],\n        \"semantic_type\": \"\",\n        \"description\": \"\"\n      }\n    },\n    {\n      \"column\": \"SFAT\",\n      \"properties\": {\n        \"dtype\": \"number\",\n        \"std\": 3020.673030420124,\n        \"min\": 0.0,\n        \"max\": 8549.0,\n        \"num_unique_values\": 8,\n        \"samples\": [\n          5.781459465362386,\n          5.97933467741935,\n          8549.0\n        ],\n        \"semantic_type\": \"\",\n        \"description\": \"\"\n      }\n    },\n    {\n      \"column\": \"ADDSUG\",\n      \"properties\": {\n        \"dtype\": \"number\",\n        \"std\": 3020.6122363867544,\n        \"min\": 0.0,\n        \"max\": 8549.0,\n        \"num_unique_values\": 8,\n        \"samples\": [\n          5.959600373386685,\n          6.32741617357002,\n          8549.0\n        ],\n        \"semantic_type\": \"\",\n        \"description\": \"\"\n      }\n    },\n    {\n      \"column\": \"TOTAL_SCORE\",\n      \"properties\": {\n        \"dtype\": \"number\",\n        \"std\": 3007.166434334741,\n        \"min\": 11.884725188370814,\n        \"max\": 8549.0,\n        \"num_unique_values\": 8,\n        \"samples\": [\n          48.21886486125866,\n          47.5894983827021,\n          8549.0\n        ],\n        \"semantic_type\": \"\",\n        \"description\": \"\"\n      }\n    }\n  ]\n}"
            }
          },
          "metadata": {},
          "execution_count": 102
        }
      ]
    },
    {
      "cell_type": "markdown",
      "source": [
        "**Pontos importantes**\n",
        "\n",
        "- Aqui podemos confirmar algumas das conclusões que observamos anteriormente. Por exemplo, o consumo de vegetais é maior do que o de verduras verdes, como evidenciado pelas medidas de média maior, desvio padrão menor e valores de todos os quartis superiores. Similarmente, ao compararmos o total de frutas com frutas in natura, notamos que o total de frutas apresenta uma média maior e um desvio menor, indicando uma preferência por outros tipos de frutas em nossa base.\n",
        "\n",
        "- É evidente a discrepância entre grãos integrais e laticínios, com os laticínios apresentando uma média maior, um desvio menor e todos os quartis superiores. Apesar disso, a quantidade de laticínios é próxima à de proteína, embora esta última seja ligeiramente maior.\n",
        "\n",
        "- Observamos que a quantidade de ácido graxo é consideravelmente alta, comparável até mesmo com as quantidades de proteínas e laticínios. Além disso, o sódio também apresenta medidas significativas, equiparando-se a outras variáveis como proteínas, laticínios e ácido graxo.\n",
        "\n",
        "- Embora a gordura saturada e os grãos refinados apresentem medidas semelhantes, a gordura saturada aparece em maior quantidade. O açúcar é o elemento que aparece em maior quantidade, embora gordura saturada e grãos refinados cheguem bem perto dele."
      ],
      "metadata": {
        "id": "0p_i7F98hMaz"
      }
    },
    {
      "cell_type": "markdown",
      "source": [
        "### **Phq9 e Phq_grp**"
      ],
      "metadata": {
        "id": "UHUBY9B3ky6A"
      }
    },
    {
      "cell_type": "markdown",
      "source": [
        "Essa variável se refere ao total de pontos que cada pessoa fez ao responder as perguntas dos questionários de DPQ010 até DPQ090. No entanto, essa variável por si só não nos oferece muita informação em comparação com a variável que criamos a partir dela, a Phq_grp. Dito isso, vamos observar esta última."
      ],
      "metadata": {
        "id": "PBnfMQdwk2Nv"
      }
    },
    {
      "cell_type": "code",
      "source": [
        "# Observando a quantidade de vezes que cada categoria aparece\n",
        "df_junto['Phq_grp'].value_counts()"
      ],
      "metadata": {
        "colab": {
          "base_uri": "https://localhost:8080/"
        },
        "id": "zdqA_3OMlNnW",
        "outputId": "54920215-524e-41fd-de69-ecbc66f21136"
      },
      "execution_count": 44,
      "outputs": [
        {
          "output_type": "execute_result",
          "data": {
            "text/plain": [
              "Phq_grp\n",
              "Sem sintomas                    4314\n",
              "Sintomas leves                   715\n",
              "Sintomas moderados a severos     305\n",
              "Name: count, dtype: int64"
            ]
          },
          "metadata": {},
          "execution_count": 44
        }
      ]
    },
    {
      "cell_type": "markdown",
      "source": [
        "Com base nesses dados, observa-se que:\n",
        "\n",
        "- **Sem sintomas**: Representam aproximadamente 84,9% (4314 casos) do total de registros.\n",
        "\n",
        "- **Sintomas leves**: Correspondem a cerca de 14,0% (715 casos) do total.\n",
        "\n",
        "- **Sintomas moderados a severos**: Totalizam aproximadamente 1,1% (305 casos) do conjunto de dados.\n",
        "\n",
        "Esses números sugerem que a grande maioria dos casos (84,9%) não apresenta sintomas, enquanto uma parcela menor apresenta sintomas leves (14,0%) ou moderados a severos (1,1%).\n",
        "\n",
        "Essa distribuição ressalta a predominância de casos em que não há sintomas ou estes são leves, em comparação com os casos em que os sintomas são moderados a severos. Embora os casos de sintomas moderados a severos sejam menos frequentes, é importante prestar atenção a eles devido à sua gravidade potencial."
      ],
      "metadata": {
        "id": "fddXrXgYmNEH"
      }
    },
    {
      "cell_type": "markdown",
      "source": [
        "## **Análise bivariada**"
      ],
      "metadata": {
        "id": "cjO3e2N1tWZa"
      }
    },
    {
      "cell_type": "markdown",
      "source": [
        "Nessa etapa, vamos analisar as interações entre as variáveis e se, ao realizarmos algumas combinações, conseguimos retirar alguma informação interessante. É aqui que iremos tentar responder às nossas perguntas iniciais, sendo elas:\n",
        "\n",
        "- Qual o perfil de indivíduos (adultos maiores de 18 anos) com sintomas depressivos?\n",
        "\n",
        "- Hábitos saudáveis de alimentação e atividade física estão associados a menores índices de depressão nesta população?"
      ],
      "metadata": {
        "id": "pWfAF3-htm2S"
      }
    },
    {
      "cell_type": "markdown",
      "source": [
        "### **Testes de hipóteses (atividades físicas)**"
      ],
      "metadata": {
        "id": "gcxGtoHH_4rM"
      }
    },
    {
      "cell_type": "markdown",
      "source": [
        "Vamos observar a relação entre as atividades físicas e os sintomas de depressão."
      ],
      "metadata": {
        "id": "ibNSqTKrllnO"
      }
    },
    {
      "cell_type": "code",
      "source": [
        "# Agrupando os dados e observando a média\n",
        "df_junto.groupby(\"Phq_grp\")[\"PAG_MINW\"].mean().sort_values(ascending=False)"
      ],
      "metadata": {
        "colab": {
          "base_uri": "https://localhost:8080/"
        },
        "id": "bx36pux-jeSn",
        "outputId": "bafffbe4-ebeb-40e0-dca8-7c22160bd533"
      },
      "execution_count": null,
      "outputs": [
        {
          "output_type": "execute_result",
          "data": {
            "text/plain": [
              "Phq_grp\n",
              "Sem sintomas                    486.124971\n",
              "Sintomas leves                  462.722282\n",
              "Sintomas moderados a severos    289.865104\n",
              "Name: PAG_MINW, dtype: float64"
            ]
          },
          "metadata": {},
          "execution_count": 45
        }
      ]
    },
    {
      "cell_type": "markdown",
      "source": [
        "Lembrando que nossa variável 'PQG_MINW' está relacionada ao tempo em minutos gastos em atividades físicas durante a semana. Observando esses dados, podemos assumir que pessoas com uma média de atividades físicas maior tendem a apresentar menos sintomas de depressão."
      ],
      "metadata": {
        "id": "P3sBGaZYCQ2c"
      }
    },
    {
      "cell_type": "code",
      "source": [
        "# Agrupando os dados e observando a média\n",
        "df_junto.groupby(\"Phq_grp\")[\"ADHERENCE\"].mean().sort_values(ascending=False)"
      ],
      "metadata": {
        "colab": {
          "base_uri": "https://localhost:8080/"
        },
        "id": "gSZ1euuejn5-",
        "outputId": "b75c6c50-cca2-4062-a525-d485489d2670"
      },
      "execution_count": null,
      "outputs": [
        {
          "output_type": "execute_result",
          "data": {
            "text/plain": [
              "Phq_grp\n",
              "Sem sintomas                    2.012286\n",
              "Sintomas leves                  1.916084\n",
              "Sintomas moderados a severos    1.668852\n",
              "Name: ADHERENCE, dtype: float64"
            ]
          },
          "metadata": {},
          "execution_count": 46
        }
      ]
    },
    {
      "cell_type": "markdown",
      "source": [
        "Aqui podemos observar que, em média, pessoas que realizam mais atividades físicas tendem a possuir um grau de depressão cada vez menor se comparado com pessoas que praticam menos atividades físicas. Claro que precisamos de um teste de hipóteses para termos um pouco mais de certeza do que estamos observando."
      ],
      "metadata": {
        "id": "plMUMPiKl9KG"
      }
    },
    {
      "cell_type": "code",
      "source": [
        "# Definindo o tamanho da figura\n",
        "plt.figure(figsize=(8, 6))\n",
        "\n",
        "# Criando o boxplot\n",
        "sns.boxplot(x = 'Phq_grp', y = 'PAG_MINW', data = df_junto)\n",
        "\n",
        "# Definindo título e labels\n",
        "plt.title('Phq_grp x PAG_MINW')\n",
        "plt.xlabel('')\n",
        "plt.ylabel('')\n",
        "\n",
        "# Exibindo o gráfico\n",
        "plt.show()"
      ],
      "metadata": {
        "colab": {
          "base_uri": "https://localhost:8080/",
          "height": 545
        },
        "id": "4ukyOWaemiKG",
        "outputId": "c769c248-c087-4f09-ffc1-424f195e1704"
      },
      "execution_count": null,
      "outputs": [
        {
          "output_type": "display_data",
          "data": {
            "text/plain": [
              "<Figure size 800x600 with 1 Axes>"
            ],
            "image/png": "[encoded data removed]"
          },
          "metadata": {}
        }
      ]
    },
    {
      "cell_type": "markdown",
      "source": [
        "Nesse caso, podemos observar que a mediana das pessoas sem sintomas e das com sintomas leves estão bem próximas, já os sintomas moderados a severos estão um pouco mais distantes, embora também estejam bem próximos dos outros. Nesse caso, fica evidente a sobreposição entre os boxplots, reforçando a necessidade de aplicarmos um **teste de hipóteses** para observarmos se a diferença entre os grupos realmente é significante."
      ],
      "metadata": {
        "id": "oh992K2PnaG1"
      }
    },
    {
      "cell_type": "markdown",
      "source": [
        "Antes de mais nada, vamos checar se existe diferença entre as médias das pessoas que apresentam algum sintoma e praticam exercícios e as pessoas que não apresentam sintomas e também praticam exercícios. Para isso, vamos dividir nossos registros entre pessoas que apresentam sintomas e pessoas que não apresentam."
      ],
      "metadata": {
        "id": "p6ZVqz98ugy8"
      }
    },
    {
      "cell_type": "code",
      "source": [
        "#DataFrame com pessoas que têm sintomas\n",
        "df_com_sintomas = df_junto[df_junto['Phq9'] > 5][['Phq9', 'PAG_MINW']]\n",
        "\n",
        "# DataFrame com pessoas que não têm sintomas\n",
        "df_sem_sintomas = df_junto[df_junto['Phq9'] < 5][['Phq9', 'PAG_MINW']]"
      ],
      "metadata": {
        "id": "fV-gm_bR7tpm"
      },
      "execution_count": 48,
      "outputs": []
    },
    {
      "cell_type": "markdown",
      "source": [
        "Agora que realizamos as divisões com as mesmas condições que fizemos anteriormente, vamos verificar a média de cada um desses grupos."
      ],
      "metadata": {
        "id": "cSfoFVh79oqu"
      }
    },
    {
      "cell_type": "code",
      "source": [
        "# Média de atividades das pessoas sem sintomas\n",
        "media_atividades_sem = df_sem_sintomas['PAG_MINW'].mean()\n",
        "\n",
        "# Média de atividades das pessoas com sintomas\n",
        "media_atividades_com = df_com_sintomas['PAG_MINW'].mean()\n",
        "\n",
        "print(f\"A média de atividades das pessoas sem sintomas é de: {media_atividades_sem}\\nA média de atividades das pessoas com sintomas é de: {media_atividades_com}\")"
      ],
      "metadata": {
        "colab": {
          "base_uri": "https://localhost:8080/"
        },
        "id": "2COWZevp8oP-",
        "outputId": "d4b2c659-687f-494b-c7da-789902b9587c"
      },
      "execution_count": 49,
      "outputs": [
        {
          "output_type": "stream",
          "name": "stdout",
          "text": [
            "A média de atividades das pessoas sem sintomas é de: 486.12497149299617\n",
            "A média de atividades das pessoas com sintomas é de: 399.07021590513637\n"
          ]
        }
      ]
    },
    {
      "cell_type": "markdown",
      "source": [
        "Aqui podemos observar que pessoas sem sintomas apresentam uma média de atividades físicas maior do que aquelas que têm algum sintoma.\n",
        "\n",
        "Este é um claro exemplo de um teste bicaudal, onde nossas hipóteses são:\n",
        "\n",
        "- H0: média de atividades físicas com pessoas que apresentam sintomas = média de atividades físicas com pessoas que não apresentam sintomas\n",
        "\n",
        "- Ha: média de atividades físicas com pessoas que apresentam sintomas ≠ média de atividades físicas com pessoas que não apresentam sintomas\n",
        "\n",
        "Dito isso, vamos prosseguir com a aplicação do teste."
      ],
      "metadata": {
        "id": "Fd0J6xxL9v58"
      }
    },
    {
      "cell_type": "code",
      "source": [
        "# Realizando o teste t\n",
        "_, p_valor = stats.ttest_ind(df_com_sintomas, df_sem_sintomas)\n",
        "\n",
        "# Pegando o primeiro p-valor\n",
        "p_valor = p_valor[1]\n",
        "\n",
        "# Nível de significância\n",
        "alpha = 0.05\n",
        "\n",
        "# Conclusões\n",
        "if p_valor < alpha:\n",
        "    print(\"Rejeitar H0: Há evidências de que existe diferença na média de atividades fisicas entre pessoas com sintomas de depressão e pessoas sem os sintomas.\")\n",
        "else:\n",
        "    print(\"Falha em rejeitar H0: Não há evidências suficientes para afirmar que há diferença na média de atividades fisicas entre pessoas com sintomas de depressão e pessoas sem os sintomas.\")\n",
        "\n",
        "# Exibindo o p-valor\n",
        "print(p_valor)"
      ],
      "metadata": {
        "colab": {
          "base_uri": "https://localhost:8080/"
        },
        "id": "6Scew5098edO",
        "outputId": "5dc75ebb-77f2-49ea-a158-7306f204c78d"
      },
      "execution_count": 50,
      "outputs": [
        {
          "output_type": "stream",
          "name": "stdout",
          "text": [
            "Rejeitar H0: Há evidências de que existe diferença na média de atividades fisicas entre pessoas com sintomas de depressão e pessoas sem os sintomas.\n",
            "0.003819257906225103\n"
          ]
        }
      ]
    },
    {
      "cell_type": "markdown",
      "source": [
        "Segundo nosso teste de hipóteses e um nível de significância de 0,05, rejeitamos a hipótese nula. Logo, podemos afirmar que as médias são diferentes."
      ],
      "metadata": {
        "id": "wU2zO_38_emt"
      }
    },
    {
      "cell_type": "markdown",
      "source": [
        "Vamos observar novamente a média de atividades físicas das pessoas com e sem sintomas."
      ],
      "metadata": {
        "id": "7zbDmWlvD91K"
      }
    },
    {
      "cell_type": "code",
      "source": [
        "print(f\"A média de atividades das pessoas sem sintomas é de: {media_atividades_sem}\\nA média de atividades das pessoas com sintomas é de: {media_atividades_com}\")"
      ],
      "metadata": {
        "colab": {
          "base_uri": "https://localhost:8080/"
        },
        "id": "jUcvZuIOEL5D",
        "outputId": "4e674e94-3cf6-4f35-9b5f-7ea0603e37f4"
      },
      "execution_count": 51,
      "outputs": [
        {
          "output_type": "stream",
          "name": "stdout",
          "text": [
            "A média de atividades das pessoas sem sintomas é de: 486.12497149299617\n",
            "A média de atividades das pessoas com sintomas é de: 399.07021590513637\n"
          ]
        }
      ]
    },
    {
      "cell_type": "markdown",
      "source": [
        "Realmente existe uma diferença de 87 minutos no tempo total de atividades físicas semanais entre as pessoas com e sem sintomas.\n",
        "\n",
        "Lembrando que aqui estamos observando apenas dois grupos de pessoas, sendo um grupo de pessoas que não têm sintomas e, no outro, pessoas que têm sintomas. Quando começarmos a observar diferentes graus de sintomas, talvez notemos uma diferença maior entre o tempo de atividades."
      ],
      "metadata": {
        "id": "1PE_4QUuEM_T"
      }
    },
    {
      "cell_type": "markdown",
      "source": [
        "Agora vamos olhar para os grupos com diferentes graus de severidade. Se lembrarmos do que vimos anteriormente, temos um grupo de pessoas sem sintomas, um grupo de pessoas com sintomas leves e um grupo com sintomas moderados e severos. Tendo em vista que são 3 grupos ao todo, podemos aplicar o teste ANOVA, mas antes precisamos verificar se suas premissas serão cumpridas."
      ],
      "metadata": {
        "id": "2prpEuKkURgG"
      }
    },
    {
      "cell_type": "markdown",
      "source": [
        "#### **Premissas para o teste ANOVA**"
      ],
      "metadata": {
        "id": "qHUHjzs4Urx1"
      }
    },
    {
      "cell_type": "markdown",
      "source": [
        "As premissas para aplicação do teste ANOVA são:\n",
        "\n",
        "- Amostras aleatórias\n",
        "- Grupos independentes\n",
        "- A variável dependente é contínua\n",
        "- A variável independente é categórica\n",
        "- Seus dados de amostra devem seguir uma distribuição normal ou cada grupo deve ter variações aproximadamente iguais (se não tiver, usar o ANOVA de Welch)."
      ],
      "metadata": {
        "id": "EJhi3gyRUy5V"
      }
    },
    {
      "cell_type": "markdown",
      "source": [
        "Neste momento, vamos observar a variância desses dados. Para isso, vamos aplicar o teste de Bartlett, mas antes vamos agrupar os dados das pessoas de acordo com seus sintomas."
      ],
      "metadata": {
        "id": "WvUoMKkjVCoW"
      }
    },
    {
      "cell_type": "code",
      "source": [
        "# DataFrame com pessoas que não têm sintomas\n",
        "df_sem_sintoma = df_junto[df_junto['Phq_grp'] == 'Sem sintomas'][['PAG_MINW']]\n",
        "\n",
        "# DataFrame com pessoas que têm sintomas leves\n",
        "df_sintomas_leves = df_junto[df_junto['Phq_grp'] == 'Sintomas leves'][['PAG_MINW']]\n",
        "\n",
        "# DataFrame com pessoas que têm sintomas moderados a severos\n",
        "df_sintomas_moderados_severos = df_junto[df_junto['Phq_grp'] == 'Sintomas moderados a severos'][['PAG_MINW']]"
      ],
      "metadata": {
        "id": "ALsGz5IYVtet"
      },
      "execution_count": 52,
      "outputs": []
    },
    {
      "cell_type": "markdown",
      "source": [
        "Dessa forma, armazenamos nas respectivas variáveis os registros que apresentam as nossas 3 categorias de graus de severidade.\n",
        "\n",
        "Agora sim, podemos aplicar o teste de Bartlett, lembrando que nossas hipóteses são:\n",
        "\n",
        "- H0: as variâncias são estatisticamente iguais\n",
        "- Ha: as variâncias são estatisticamente diferentes"
      ],
      "metadata": {
        "id": "zI08gYUWXgL7"
      }
    },
    {
      "cell_type": "code",
      "source": [
        "# Importando o teste de barlett\n",
        "from scipy.stats import bartlett\n",
        "\n",
        "# Execute o teste de Bartlett para verificar a homogeneidade das variâncias\n",
        "statistic, p_value = bartlett(df_sem_sintoma['PAG_MINW'] ,df_sintomas_leves['PAG_MINW'], df_sintomas_moderados_severos['PAG_MINW'])\n",
        "\n",
        "# Exiba o resultado do teste\n",
        "print(f\"Estatística de Bartlett: {statistic}\")\n",
        "print(f\"Valor p: {p_value}\\n\")\n",
        "\n",
        "# Nível de significância\n",
        "alpha = 0.05\n",
        "\n",
        "# Conclusões\n",
        "if p_value < alpha:\n",
        "    print(\"Rejeitar H0: Há evidências suficientes para rejeitar a hipótese nula. As variâncias são diferentes.\")\n",
        "else:\n",
        "    print(\"Falha em rejeitar H0: Não temos evidências suficientes para rejeitar a hipótese nula. As variâncias são iguais.\")\n"
      ],
      "metadata": {
        "colab": {
          "base_uri": "https://localhost:8080/"
        },
        "id": "dZKRI22WWAal",
        "outputId": "304b97f9-01b6-4a00-d998-c7ca065a5bfe"
      },
      "execution_count": 53,
      "outputs": [
        {
          "output_type": "stream",
          "name": "stdout",
          "text": [
            "Estatística de Bartlett: 39.763402772493194\n",
            "Valor p: 2.3199936548587773e-09\n",
            "\n",
            "Rejeitar H0: Há evidências suficientes para rejeitar a hipótese nula. As variâncias são diferentes.\n"
          ]
        }
      ]
    },
    {
      "cell_type": "markdown",
      "source": [
        "Nosso p-valor foi muito baixo então rejeitamos a hipótese nula a um nível de significância de 0,05, o que nos leva a concluir que as variâncias são diferentes."
      ],
      "metadata": {
        "id": "Enj0hMt-WKzm"
      }
    },
    {
      "cell_type": "markdown",
      "source": [
        "Com esse resultado do nosso teste, nossos dados não respeitam o último dos requisitos. Nesse caso, vamos recorrer ao ANOVA de Welch."
      ],
      "metadata": {
        "id": "10gh67tuYLxb"
      }
    },
    {
      "cell_type": "code",
      "source": [
        "# Realizando a instalação\n",
        "!pip install pingouin"
      ],
      "metadata": {
        "id": "k_8tlks7YqTc",
        "colab": {
          "base_uri": "https://localhost:8080/"
        },
        "outputId": "1933f463-418c-4e13-a910-13dfe14a06bf"
      },
      "execution_count": 54,
      "outputs": [
        {
          "output_type": "stream",
          "name": "stdout",
          "text": [
            "Collecting pingouin\n",
            "  Downloading pingouin-0.5.4-py2.py3-none-any.whl (198 kB)\n",
            "\u001b[?25l     \u001b[90m━━━━━━━━━━━━━━━━━━━━━━━━━━━━━━━━━━━━━━━━\u001b[0m \u001b[32m0.0/198.9 kB\u001b[0m \u001b[31m?\u001b[0m eta \u001b[36m-:--:--\u001b[0m\r\u001b[2K     \u001b[91m━━━━━━━━━━━━\u001b[0m\u001b[90m╺\u001b[0m\u001b[90m━━━━━━━━━━━━━━━━━━━━━━━━━━━\u001b[0m \u001b[32m61.4/198.9 kB\u001b[0m \u001b[31m1.6 MB/s\u001b[0m eta \u001b[36m0:00:01\u001b[0m\r\u001b[2K     \u001b[90m━━━━━━━━━━━━━━━━━━━━━━━━━━━━━━━━━━━━━━━━\u001b[0m \u001b[32m198.9/198.9 kB\u001b[0m \u001b[31m3.3 MB/s\u001b[0m eta \u001b[36m0:00:00\u001b[0m\n",
            "\u001b[?25hRequirement already satisfied: numpy in /usr/local/lib/python3.10/dist-packages (from pingouin) (1.25.2)\n",
            "Requirement already satisfied: scipy in /usr/local/lib/python3.10/dist-packages (from pingouin) (1.11.4)\n",
            "Requirement already satisfied: pandas>=1.5 in /usr/local/lib/python3.10/dist-packages (from pingouin) (2.0.3)\n",
            "Requirement already satisfied: matplotlib in /usr/local/lib/python3.10/dist-packages (from pingouin) (3.7.1)\n",
            "Requirement already satisfied: seaborn in /usr/local/lib/python3.10/dist-packages (from pingouin) (0.13.1)\n",
            "Requirement already satisfied: statsmodels in /usr/local/lib/python3.10/dist-packages (from pingouin) (0.14.2)\n",
            "Requirement already satisfied: scikit-learn in /usr/local/lib/python3.10/dist-packages (from pingouin) (1.2.2)\n",
            "Collecting pandas-flavor (from pingouin)\n",
            "  Downloading pandas_flavor-0.6.0-py3-none-any.whl (7.2 kB)\n",
            "Requirement already satisfied: tabulate in /usr/local/lib/python3.10/dist-packages (from pingouin) (0.9.0)\n",
            "Requirement already satisfied: python-dateutil>=2.8.2 in /usr/local/lib/python3.10/dist-packages (from pandas>=1.5->pingouin) (2.8.2)\n",
            "Requirement already satisfied: pytz>=2020.1 in /usr/local/lib/python3.10/dist-packages (from pandas>=1.5->pingouin) (2023.4)\n",
            "Requirement already satisfied: tzdata>=2022.1 in /usr/local/lib/python3.10/dist-packages (from pandas>=1.5->pingouin) (2024.1)\n",
            "Requirement already satisfied: contourpy>=1.0.1 in /usr/local/lib/python3.10/dist-packages (from matplotlib->pingouin) (1.2.1)\n",
            "Requirement already satisfied: cycler>=0.10 in /usr/local/lib/python3.10/dist-packages (from matplotlib->pingouin) (0.12.1)\n",
            "Requirement already satisfied: fonttools>=4.22.0 in /usr/local/lib/python3.10/dist-packages (from matplotlib->pingouin) (4.51.0)\n",
            "Requirement already satisfied: kiwisolver>=1.0.1 in /usr/local/lib/python3.10/dist-packages (from matplotlib->pingouin) (1.4.5)\n",
            "Requirement already satisfied: packaging>=20.0 in /usr/local/lib/python3.10/dist-packages (from matplotlib->pingouin) (24.0)\n",
            "Requirement already satisfied: pillow>=6.2.0 in /usr/local/lib/python3.10/dist-packages (from matplotlib->pingouin) (9.4.0)\n",
            "Requirement already satisfied: pyparsing>=2.3.1 in /usr/local/lib/python3.10/dist-packages (from matplotlib->pingouin) (3.1.2)\n",
            "Requirement already satisfied: xarray in /usr/local/lib/python3.10/dist-packages (from pandas-flavor->pingouin) (2023.7.0)\n",
            "Requirement already satisfied: joblib>=1.1.1 in /usr/local/lib/python3.10/dist-packages (from scikit-learn->pingouin) (1.4.2)\n",
            "Requirement already satisfied: threadpoolctl>=2.0.0 in /usr/local/lib/python3.10/dist-packages (from scikit-learn->pingouin) (3.5.0)\n",
            "Requirement already satisfied: patsy>=0.5.6 in /usr/local/lib/python3.10/dist-packages (from statsmodels->pingouin) (0.5.6)\n",
            "Requirement already satisfied: six in /usr/local/lib/python3.10/dist-packages (from patsy>=0.5.6->statsmodels->pingouin) (1.16.0)\n",
            "Installing collected packages: pandas-flavor, pingouin\n",
            "Successfully installed pandas-flavor-0.6.0 pingouin-0.5.4\n"
          ]
        }
      ]
    },
    {
      "cell_type": "code",
      "source": [
        "# Importando a biblioteca pingouin\n",
        "import pingouin as pg\n",
        "\n",
        "# Execute o teste de ANOVA de Welch\n",
        "anova_welch = pg.welch_anova(dv='PAG_MINW', between='Phq_grp', data=df_junto)\n",
        "\n",
        "# Pegue apenas o valor p do resultado\n",
        "p_value = anova_welch['p-unc'].values\n",
        "\n",
        "# Nível de significância\n",
        "alpha = 0.05\n",
        "\n",
        "# Conclusões\n",
        "if p_value < alpha:\n",
        "    print(\"Rejeitar H0: Há evidências suficientes para rejeitar a hipótese nula. Pelo menos um grupo difere dos outros.\")\n",
        "else:\n",
        "    print(\"Falha em rejeitar H0: Não temos evidências suficientes para rejeitar a hipótese nula. Não existe diferença entre os grupos.\")"
      ],
      "metadata": {
        "colab": {
          "base_uri": "https://localhost:8080/"
        },
        "id": "jhjwH4aOCdHY",
        "outputId": "69be2d08-eb61-4d3f-a075-671add0fd5a3"
      },
      "execution_count": 55,
      "outputs": [
        {
          "output_type": "stream",
          "name": "stdout",
          "text": [
            "Rejeitar H0: Há evidências suficientes para rejeitar a hipótese nula. Pelo menos um grupo difere dos outros.\n"
          ]
        }
      ]
    },
    {
      "cell_type": "markdown",
      "source": [
        "Podemos observar que após a aplicação do nosso teste de hipótese a um nível de significância de 0,05, rejeitamos a hipótese nula. Logo, podemos concluir que os grupos apresentam diferenças entre si."
      ],
      "metadata": {
        "id": "TedkjecdDH7P"
      }
    },
    {
      "cell_type": "markdown",
      "source": [
        "Nossa missão agora é identificar quais grupos apresentam essas diferenças. Como os grupos apresentam variâncias diferentes, não podemos aplicar o teste de Tukey. Sendo assim, vamos aplicar o teste de Games-Howell. Dito isso, vamos seguir adiante.\n",
        "\n",
        "Agora vamos observar novamente quantos registros temos em cada classe."
      ],
      "metadata": {
        "id": "6k6PCKYUDcjH"
      }
    },
    {
      "cell_type": "code",
      "source": [
        "# Observando quantos registros temos em cada grupo\n",
        "df_junto['Phq_grp'].value_counts()"
      ],
      "metadata": {
        "colab": {
          "base_uri": "https://localhost:8080/"
        },
        "id": "aPN4cEg5Dna3",
        "outputId": "40792e90-29aa-48a5-fbfa-9ae326a671bf"
      },
      "execution_count": 56,
      "outputs": [
        {
          "output_type": "execute_result",
          "data": {
            "text/plain": [
              "Phq_grp\n",
              "Sem sintomas                    4314\n",
              "Sintomas leves                   715\n",
              "Sintomas moderados a severos     305\n",
              "Name: count, dtype: int64"
            ]
          },
          "metadata": {},
          "execution_count": 56
        }
      ]
    },
    {
      "cell_type": "markdown",
      "source": [
        "Então, estamos de acordo com o teorema do limite central. Agora, vamos partir para o teste."
      ],
      "metadata": {
        "id": "AAvryJaPDtJV"
      }
    },
    {
      "cell_type": "code",
      "source": [
        "# Realizando o teste de Games-Howell\n",
        "games_howell_results_pagminw = pg.pairwise_gameshowell(df_junto, dv='PAG_MINW', between='Phq_grp')\n",
        "\n",
        "# Exibindo o resultado\n",
        "games_howell_results_pagminw"
      ],
      "metadata": {
        "colab": {
          "base_uri": "https://localhost:8080/",
          "height": 143
        },
        "id": "xdFf2dNaD3wG",
        "outputId": "2b5a774d-166b-49d5-fa73-90d510dc3696"
      },
      "execution_count": 57,
      "outputs": [
        {
          "output_type": "execute_result",
          "data": {
            "text/plain": [
              "                A                             B     mean(A)     mean(B)  \\\n",
              "0    Sem sintomas                Sintomas leves  486.124971  462.722282   \n",
              "1    Sem sintomas  Sintomas moderados a severos  486.124971  289.865104   \n",
              "2  Sintomas leves  Sintomas moderados a severos  462.722282  289.865104   \n",
              "\n",
              "         diff         se         T          df          pval    hedges  \n",
              "0   23.402689  33.384167  0.701012  933.028874  7.629414e-01  0.029678  \n",
              "1  196.259867  36.665362  5.352732  379.202494  4.500436e-07  0.254738  \n",
              "2  172.857178  46.651441  3.705291  778.009886  6.612019e-04  0.223431  "
            ],
            "text/html": [
              "\n",
              "  <div id=\"df-34371ebc-144b-40be-8d8b-8ab1aac1fffa\" class=\"colab-df-container\">\n",
              "    <div>\n",
              "<style scoped>\n",
              "    .dataframe tbody tr th:only-of-type {\n",
              "        vertical-align: middle;\n",
              "    }\n",
              "\n",
              "    .dataframe tbody tr th {\n",
              "        vertical-align: top;\n",
              "    }\n",
              "\n",
              "    .dataframe thead th {\n",
              "        text-align: right;\n",
              "    }\n",
              "</style>\n",
              "<table border=\"1\" class=\"dataframe\">\n",
              "  <thead>\n",
              "    <tr style=\"text-align: right;\">\n",
              "      <th></th>\n",
              "      <th>A</th>\n",
              "      <th>B</th>\n",
              "      <th>mean(A)</th>\n",
              "      <th>mean(B)</th>\n",
              "      <th>diff</th>\n",
              "      <th>se</th>\n",
              "      <th>T</th>\n",
              "      <th>df</th>\n",
              "      <th>pval</th>\n",
              "      <th>hedges</th>\n",
              "    </tr>\n",
              "  </thead>\n",
              "  <tbody>\n",
              "    <tr>\n",
              "      <th>0</th>\n",
              "      <td>Sem sintomas</td>\n",
              "      <td>Sintomas leves</td>\n",
              "      <td>486.124971</td>\n",
              "      <td>462.722282</td>\n",
              "      <td>23.402689</td>\n",
              "      <td>33.384167</td>\n",
              "      <td>0.701012</td>\n",
              "      <td>933.028874</td>\n",
              "      <td>7.629414e-01</td>\n",
              "      <td>0.029678</td>\n",
              "    </tr>\n",
              "    <tr>\n",
              "      <th>1</th>\n",
              "      <td>Sem sintomas</td>\n",
              "      <td>Sintomas moderados a severos</td>\n",
              "      <td>486.124971</td>\n",
              "      <td>289.865104</td>\n",
              "      <td>196.259867</td>\n",
              "      <td>36.665362</td>\n",
              "      <td>5.352732</td>\n",
              "      <td>379.202494</td>\n",
              "      <td>4.500436e-07</td>\n",
              "      <td>0.254738</td>\n",
              "    </tr>\n",
              "    <tr>\n",
              "      <th>2</th>\n",
              "      <td>Sintomas leves</td>\n",
              "      <td>Sintomas moderados a severos</td>\n",
              "      <td>462.722282</td>\n",
              "      <td>289.865104</td>\n",
              "      <td>172.857178</td>\n",
              "      <td>46.651441</td>\n",
              "      <td>3.705291</td>\n",
              "      <td>778.009886</td>\n",
              "      <td>6.612019e-04</td>\n",
              "      <td>0.223431</td>\n",
              "    </tr>\n",
              "  </tbody>\n",
              "</table>\n",
              "</div>\n",
              "    <div class=\"colab-df-buttons\">\n",
              "\n",
              "  <div class=\"colab-df-container\">\n",
              "    <button class=\"colab-df-convert\" onclick=\"convertToInteractive('df-34371ebc-144b-40be-8d8b-8ab1aac1fffa')\"\n",
              "            title=\"Convert this dataframe to an interactive table.\"\n",
              "            style=\"display:none;\">\n",
              "\n",
              "  <svg xmlns=\"http://www.w3.org/2000/svg\" height=\"24px\" viewBox=\"0 -960 960 960\">\n",
              "    <path d=\"M120-120v-720h720v720H120Zm60-500h600v-160H180v160Zm220 220h160v-160H400v160Zm0 220h160v-160H400v160ZM180-400h160v-160H180v160Zm440 0h160v-160H620v160ZM180-180h160v-160H180v160Zm440 0h160v-160H620v160Z\"/>\n",
              "  </svg>\n",
              "    </button>\n",
              "\n",
              "  <style>\n",
              "    .colab-df-container {\n",
              "      display:flex;\n",
              "      gap: 12px;\n",
              "    }\n",
              "\n",
              "    .colab-df-convert {\n",
              "      background-color: #E8F0FE;\n",
              "      border: none;\n",
              "      border-radius: 50%;\n",
              "      cursor: pointer;\n",
              "      display: none;\n",
              "      fill: #1967D2;\n",
              "      height: 32px;\n",
              "      padding: 0 0 0 0;\n",
              "      width: 32px;\n",
              "    }\n",
              "\n",
              "    .colab-df-convert:hover {\n",
              "      background-color: #E2EBFA;\n",
              "      box-shadow: 0px 1px 2px rgba(60, 64, 67, 0.3), 0px 1px 3px 1px rgba(60, 64, 67, 0.15);\n",
              "      fill: #174EA6;\n",
              "    }\n",
              "\n",
              "    .colab-df-buttons div {\n",
              "      margin-bottom: 4px;\n",
              "    }\n",
              "\n",
              "    [theme=dark] .colab-df-convert {\n",
              "      background-color: #3B4455;\n",
              "      fill: #D2E3FC;\n",
              "    }\n",
              "\n",
              "    [theme=dark] .colab-df-convert:hover {\n",
              "      background-color: #434B5C;\n",
              "      box-shadow: 0px 1px 3px 1px rgba(0, 0, 0, 0.15);\n",
              "      filter: drop-shadow(0px 1px 2px rgba(0, 0, 0, 0.3));\n",
              "      fill: #FFFFFF;\n",
              "    }\n",
              "  </style>\n",
              "\n",
              "    <script>\n",
              "      const buttonEl =\n",
              "        document.querySelector('#df-34371ebc-144b-40be-8d8b-8ab1aac1fffa button.colab-df-convert');\n",
              "      buttonEl.style.display =\n",
              "        google.colab.kernel.accessAllowed ? 'block' : 'none';\n",
              "\n",
              "      async function convertToInteractive(key) {\n",
              "        const element = document.querySelector('#df-34371ebc-144b-40be-8d8b-8ab1aac1fffa');\n",
              "        const dataTable =\n",
              "          await google.colab.kernel.invokeFunction('convertToInteractive',\n",
              "                                                    [key], {});\n",
              "        if (!dataTable) return;\n",
              "\n",
              "        const docLinkHtml = 'Like what you see? Visit the ' +\n",
              "          '<a target=\"_blank\" href=https://colab.research.google.com/notebooks/data_table.ipynb>data table notebook</a>'\n",
              "          + ' to learn more about interactive tables.';\n",
              "        element.innerHTML = '';\n",
              "        dataTable['output_type'] = 'display_data';\n",
              "        await google.colab.output.renderOutput(dataTable, element);\n",
              "        const docLink = document.createElement('div');\n",
              "        docLink.innerHTML = docLinkHtml;\n",
              "        element.appendChild(docLink);\n",
              "      }\n",
              "    </script>\n",
              "  </div>\n",
              "\n",
              "\n",
              "<div id=\"df-2cfce485-69b7-4026-bc28-a1ea729c68f1\">\n",
              "  <button class=\"colab-df-quickchart\" onclick=\"quickchart('df-2cfce485-69b7-4026-bc28-a1ea729c68f1')\"\n",
              "            title=\"Suggest charts\"\n",
              "            style=\"display:none;\">\n",
              "\n",
              "<svg xmlns=\"http://www.w3.org/2000/svg\" height=\"24px\"viewBox=\"0 0 24 24\"\n",
              "     width=\"24px\">\n",
              "    <g>\n",
              "        <path d=\"M19 3H5c-1.1 0-2 .9-2 2v14c0 1.1.9 2 2 2h14c1.1 0 2-.9 2-2V5c0-1.1-.9-2-2-2zM9 17H7v-7h2v7zm4 0h-2V7h2v10zm4 0h-2v-4h2v4z\"/>\n",
              "    </g>\n",
              "</svg>\n",
              "  </button>\n",
              "\n",
              "<style>\n",
              "  .colab-df-quickchart {\n",
              "      --bg-color: #E8F0FE;\n",
              "      --fill-color: #1967D2;\n",
              "      --hover-bg-color: #E2EBFA;\n",
              "      --hover-fill-color: #174EA6;\n",
              "      --disabled-fill-color: #AAA;\n",
              "      --disabled-bg-color: #DDD;\n",
              "  }\n",
              "\n",
              "  [theme=dark] .colab-df-quickchart {\n",
              "      --bg-color: #3B4455;\n",
              "      --fill-color: #D2E3FC;\n",
              "      --hover-bg-color: #434B5C;\n",
              "      --hover-fill-color: #FFFFFF;\n",
              "      --disabled-bg-color: #3B4455;\n",
              "      --disabled-fill-color: #666;\n",
              "  }\n",
              "\n",
              "  .colab-df-quickchart {\n",
              "    background-color: var(--bg-color);\n",
              "    border: none;\n",
              "    border-radius: 50%;\n",
              "    cursor: pointer;\n",
              "    display: none;\n",
              "    fill: var(--fill-color);\n",
              "    height: 32px;\n",
              "    padding: 0;\n",
              "    width: 32px;\n",
              "  }\n",
              "\n",
              "  .colab-df-quickchart:hover {\n",
              "    background-color: var(--hover-bg-color);\n",
              "    box-shadow: 0 1px 2px rgba(60, 64, 67, 0.3), 0 1px 3px 1px rgba(60, 64, 67, 0.15);\n",
              "    fill: var(--button-hover-fill-color);\n",
              "  }\n",
              "\n",
              "  .colab-df-quickchart-complete:disabled,\n",
              "  .colab-df-quickchart-complete:disabled:hover {\n",
              "    background-color: var(--disabled-bg-color);\n",
              "    fill: var(--disabled-fill-color);\n",
              "    box-shadow: none;\n",
              "  }\n",
              "\n",
              "  .colab-df-spinner {\n",
              "    border: 2px solid var(--fill-color);\n",
              "    border-color: transparent;\n",
              "    border-bottom-color: var(--fill-color);\n",
              "    animation:\n",
              "      spin 1s steps(1) infinite;\n",
              "  }\n",
              "\n",
              "  @keyframes spin {\n",
              "    0% {\n",
              "      border-color: transparent;\n",
              "      border-bottom-color: var(--fill-color);\n",
              "      border-left-color: var(--fill-color);\n",
              "    }\n",
              "    20% {\n",
              "      border-color: transparent;\n",
              "      border-left-color: var(--fill-color);\n",
              "      border-top-color: var(--fill-color);\n",
              "    }\n",
              "    30% {\n",
              "      border-color: transparent;\n",
              "      border-left-color: var(--fill-color);\n",
              "      border-top-color: var(--fill-color);\n",
              "      border-right-color: var(--fill-color);\n",
              "    }\n",
              "    40% {\n",
              "      border-color: transparent;\n",
              "      border-right-color: var(--fill-color);\n",
              "      border-top-color: var(--fill-color);\n",
              "    }\n",
              "    60% {\n",
              "      border-color: transparent;\n",
              "      border-right-color: var(--fill-color);\n",
              "    }\n",
              "    80% {\n",
              "      border-color: transparent;\n",
              "      border-right-color: var(--fill-color);\n",
              "      border-bottom-color: var(--fill-color);\n",
              "    }\n",
              "    90% {\n",
              "      border-color: transparent;\n",
              "      border-bottom-color: var(--fill-color);\n",
              "    }\n",
              "  }\n",
              "</style>\n",
              "\n",
              "  <script>\n",
              "    async function quickchart(key) {\n",
              "      const quickchartButtonEl =\n",
              "        document.querySelector('#' + key + ' button');\n",
              "      quickchartButtonEl.disabled = true;  // To prevent multiple clicks.\n",
              "      quickchartButtonEl.classList.add('colab-df-spinner');\n",
              "      try {\n",
              "        const charts = await google.colab.kernel.invokeFunction(\n",
              "            'suggestCharts', [key], {});\n",
              "      } catch (error) {\n",
              "        console.error('Error during call to suggestCharts:', error);\n",
              "      }\n",
              "      quickchartButtonEl.classList.remove('colab-df-spinner');\n",
              "      quickchartButtonEl.classList.add('colab-df-quickchart-complete');\n",
              "    }\n",
              "    (() => {\n",
              "      let quickchartButtonEl =\n",
              "        document.querySelector('#df-2cfce485-69b7-4026-bc28-a1ea729c68f1 button');\n",
              "      quickchartButtonEl.style.display =\n",
              "        google.colab.kernel.accessAllowed ? 'block' : 'none';\n",
              "    })();\n",
              "  </script>\n",
              "</div>\n",
              "\n",
              "  <div id=\"id_cec35515-a87a-49ef-9354-82bd25d9813b\">\n",
              "    <style>\n",
              "      .colab-df-generate {\n",
              "        background-color: #E8F0FE;\n",
              "        border: none;\n",
              "        border-radius: 50%;\n",
              "        cursor: pointer;\n",
              "        display: none;\n",
              "        fill: #1967D2;\n",
              "        height: 32px;\n",
              "        padding: 0 0 0 0;\n",
              "        width: 32px;\n",
              "      }\n",
              "\n",
              "      .colab-df-generate:hover {\n",
              "        background-color: #E2EBFA;\n",
              "        box-shadow: 0px 1px 2px rgba(60, 64, 67, 0.3), 0px 1px 3px 1px rgba(60, 64, 67, 0.15);\n",
              "        fill: #174EA6;\n",
              "      }\n",
              "\n",
              "      [theme=dark] .colab-df-generate {\n",
              "        background-color: #3B4455;\n",
              "        fill: #D2E3FC;\n",
              "      }\n",
              "\n",
              "      [theme=dark] .colab-df-generate:hover {\n",
              "        background-color: #434B5C;\n",
              "        box-shadow: 0px 1px 3px 1px rgba(0, 0, 0, 0.15);\n",
              "        filter: drop-shadow(0px 1px 2px rgba(0, 0, 0, 0.3));\n",
              "        fill: #FFFFFF;\n",
              "      }\n",
              "    </style>\n",
              "    <button class=\"colab-df-generate\" onclick=\"generateWithVariable('games_howell_results_pagminw')\"\n",
              "            title=\"Generate code using this dataframe.\"\n",
              "            style=\"display:none;\">\n",
              "\n",
              "  <svg xmlns=\"http://www.w3.org/2000/svg\" height=\"24px\"viewBox=\"0 0 24 24\"\n",
              "       width=\"24px\">\n",
              "    <path d=\"M7,19H8.4L18.45,9,17,7.55,7,17.6ZM5,21V16.75L18.45,3.32a2,2,0,0,1,2.83,0l1.4,1.43a1.91,1.91,0,0,1,.58,1.4,1.91,1.91,0,0,1-.58,1.4L9.25,21ZM18.45,9,17,7.55Zm-12,3A5.31,5.31,0,0,0,4.9,8.1,5.31,5.31,0,0,0,1,6.5,5.31,5.31,0,0,0,4.9,4.9,5.31,5.31,0,0,0,6.5,1,5.31,5.31,0,0,0,8.1,4.9,5.31,5.31,0,0,0,12,6.5,5.46,5.46,0,0,0,6.5,12Z\"/>\n",
              "  </svg>\n",
              "    </button>\n",
              "    <script>\n",
              "      (() => {\n",
              "      const buttonEl =\n",
              "        document.querySelector('#id_cec35515-a87a-49ef-9354-82bd25d9813b button.colab-df-generate');\n",
              "      buttonEl.style.display =\n",
              "        google.colab.kernel.accessAllowed ? 'block' : 'none';\n",
              "\n",
              "      buttonEl.onclick = () => {\n",
              "        google.colab.notebook.generateWithVariable('games_howell_results_pagminw');\n",
              "      }\n",
              "      })();\n",
              "    </script>\n",
              "  </div>\n",
              "\n",
              "    </div>\n",
              "  </div>\n"
            ],
            "application/vnd.google.colaboratory.intrinsic+json": {
              "type": "dataframe",
              "variable_name": "games_howell_results_pagminw",
              "summary": "{\n  \"name\": \"games_howell_results_pagminw\",\n  \"rows\": 3,\n  \"fields\": [\n    {\n      \"column\": \"A\",\n      \"properties\": {\n        \"dtype\": \"string\",\n        \"num_unique_values\": 2,\n        \"samples\": [\n          \"Sintomas leves\",\n          \"Sem sintomas\"\n        ],\n        \"semantic_type\": \"\",\n        \"description\": \"\"\n      }\n    },\n    {\n      \"column\": \"B\",\n      \"properties\": {\n        \"dtype\": \"string\",\n        \"num_unique_values\": 2,\n        \"samples\": [\n          \"Sintomas moderados a severos\",\n          \"Sintomas leves\"\n        ],\n        \"semantic_type\": \"\",\n        \"description\": \"\"\n      }\n    },\n    {\n      \"column\": \"mean(A)\",\n      \"properties\": {\n        \"dtype\": \"number\",\n        \"std\": 13.51154888420583,\n        \"min\": 462.7222823366011,\n        \"max\": 486.12497149299617,\n        \"num_unique_values\": 2,\n        \"samples\": [\n          462.7222823366011,\n          486.12497149299617\n        ],\n        \"semantic_type\": \"\",\n        \"description\": \"\"\n      }\n    },\n    {\n      \"column\": \"mean(B)\",\n      \"properties\": {\n        \"dtype\": \"number\",\n        \"std\": 99.79913826807804,\n        \"min\": 289.8651043046985,\n        \"max\": 462.7222823366011,\n        \"num_unique_values\": 2,\n        \"samples\": [\n          289.8651043046985,\n          462.7222823366011\n        ],\n        \"semantic_type\": \"\",\n        \"description\": \"\"\n      }\n    },\n    {\n      \"column\": \"diff\",\n      \"properties\": {\n        \"dtype\": \"number\",\n        \"std\": 93.77627107637885,\n        \"min\": 23.40268915639507,\n        \"max\": 196.25986718829768,\n        \"num_unique_values\": 3,\n        \"samples\": [\n          23.40268915639507,\n          196.25986718829768\n        ],\n        \"semantic_type\": \"\",\n        \"description\": \"\"\n      }\n    },\n    {\n      \"column\": \"se\",\n      \"properties\": {\n        \"dtype\": \"number\",\n        \"std\": 6.910241075751893,\n        \"min\": 33.38416671505401,\n        \"max\": 46.651441164751056,\n        \"num_unique_values\": 3,\n        \"samples\": [\n          33.38416671505401,\n          36.665362041474175\n        ],\n        \"semantic_type\": \"\",\n        \"description\": \"\"\n      }\n    },\n    {\n      \"column\": \"T\",\n      \"properties\": {\n        \"dtype\": \"number\",\n        \"std\": 2.3586105771493124,\n        \"min\": 0.7010116309370704,\n        \"max\": 5.352732286300556,\n        \"num_unique_values\": 3,\n        \"samples\": [\n          0.7010116309370704,\n          5.352732286300556\n        ],\n        \"semantic_type\": \"\",\n        \"description\": \"\"\n      }\n    },\n    {\n      \"column\": \"df\",\n      \"properties\": {\n        \"dtype\": \"number\",\n        \"std\": 285.71602493187316,\n        \"min\": 379.20249435300343,\n        \"max\": 933.0288741353339,\n        \"num_unique_values\": 3,\n        \"samples\": [\n          933.0288741353339,\n          379.20249435300343\n        ],\n        \"semantic_type\": \"\",\n        \"description\": \"\"\n      }\n    },\n    {\n      \"column\": \"pval\",\n      \"properties\": {\n        \"dtype\": \"number\",\n        \"std\": 0.4402935690727354,\n        \"min\": 4.5004355309075095e-07,\n        \"max\": 0.7629414431708098,\n        \"num_unique_values\": 3,\n        \"samples\": [\n          0.7629414431708098,\n          4.5004355309075095e-07\n        ],\n        \"semantic_type\": \"\",\n        \"description\": \"\"\n      }\n    },\n    {\n      \"column\": \"hedges\",\n      \"properties\": {\n        \"dtype\": \"number\",\n        \"std\": 0.12191021030265664,\n        \"min\": 0.029677986710163,\n        \"max\": 0.2547383813595985,\n        \"num_unique_values\": 3,\n        \"samples\": [\n          0.029677986710163,\n          0.2547383813595985\n        ],\n        \"semantic_type\": \"\",\n        \"description\": \"\"\n      }\n    }\n  ]\n}"
            }
          },
          "metadata": {},
          "execution_count": 57
        }
      ]
    },
    {
      "cell_type": "markdown",
      "source": [
        "Levando em consideração que nosso valor de alpha é 0,05, podemos tirar algumas conclusões interessantes:\n",
        "\n",
        "**Observando o grupo Sem sintomas x Sintomas leves**:\n",
        "\n",
        "- A média de tempo gasto em atividades físicas no grupo sem sintomas é de 486 minutos, enquanto no grupo com sintomas leves é de 462 minutos, apresentando, dessa forma, uma diferença de 23 minutos.\n",
        "  \n",
        "- O erro padrão da diferença é de 33 minutos.\n",
        "\n",
        "- A estatística do teste é de 0,70.\n",
        "\n",
        "- Os graus de liberdade são de 933.\n",
        "\n",
        "- Temos um p-valor de 0,70. Levando em consideração que nosso valor de alpha é 0,05, falhamos em rejeitar H0. Logo, não temos evidências suficientes indicando que a diferença de atividades físicas entre o grupo com sintomas leves e o grupo sem sintomas seja estatisticamente significativa.\n",
        "\n",
        "- O tamanho do efeito de Helges é de 0,02.\n",
        "\n",
        "**Observando o grupo Sem sintomas x Sintomas moderados a severos**:\n",
        "\n",
        "- Temos duas médias bem discrepantes observando esse grupo, sendo que a diferença entre elas é de 196 minutos.\n",
        "\n",
        "- O erro padrão da diferença é de 36 minutos.\n",
        "\n",
        "- A estatística do teste é de 5,35.\n",
        "\n",
        "- Os graus de liberdade são 379.\n",
        "\n",
        "- Temos um p-valor bem menor que nosso alpha. Logo, rejeitamos o nosso H0. Nesse caso, a um nível de significância de 0,05, podemos concluir que temos evidências suficientes de que a diferença entre o tempo médio de atividades físicas entre pessoas sem sintomas e pessoas com sintomas moderados a severos seja estatisticamente significativo.\n",
        "\n",
        "- O tamanho do efeito de Helges é de 0,25.\n",
        "\n",
        "**Observando o grupo Sintomas leves x Sintomas moderados a severos**:\n",
        "\n",
        "- Ao observar a média entre esses grupos novamente, fica evidente a disparidade entre eles, sendo que a diferença é de 172 minutos.\n",
        "\n",
        "- O erro da diferença é de 46, que por sinal é o maior erro da nossa comparação.\n",
        "\n",
        "- A estatística do teste é de 3,70.\n",
        "\n",
        "- Os graus de liberdade são de 778.\n",
        "\n",
        "- Temos um p-valor menor que nosso alpha. Sendo assim, rejeitamos o H0. Logo, a um nível de significância de 0,05, temos evidências suficientes para acreditar que a diferença entre as médias é estatisticamente significativa.\n",
        "\n",
        "- O tamanho do efeito de Helges é de 0,22."
      ],
      "metadata": {
        "id": "ec7qN149EY32"
      }
    },
    {
      "cell_type": "markdown",
      "source": [
        "**Conclusões**\n",
        "\n",
        "- Após análise estatística dos dados, podemos observar que as médias de tempo gasto em atividades físicas variam significativamente de acordo com os diferentes níveis de sintomas de depressão:\n",
        "\n",
        "- Sem sintomas x Sintomas leves: Não encontramos diferença estatisticamente significativa nas médias de atividades físicas entre esses dois grupos. Isso sugere que pessoas com sintomas leves de depressão tendem a se engajar em atividades físicas em um nível semelhante às pessoas sem sintomas.\n",
        "\n",
        "- Sem sintomas x Sintomas moderados a severos: As pessoas sem sintomas apresentam uma média de tempo gasto em atividades físicas significativamente maior do que as pessoas com sintomas moderados a severos. Essa descoberta sugere que a presença de sintomas moderados a severos de depressão pode estar associada a um menor engajamento em atividades físicas.\n",
        "\n",
        "- Sintomas leves x Sintomas moderados a severos: As pessoas com sintomas leves apresentam uma média de tempo gasto em atividades físicas maior do que as pessoas com sintomas moderados a severos. Essa diferença sugere uma tendência de diminuição no engajamento em atividades físicas à medida que os sintomas de depressão se tornam mais graves.\n",
        "\n",
        "- Esses resultados destacam a importância de considerar o impacto dos sintomas de depressão no comportamento de atividades físicas. Estratégias de intervenção ou tratamento para a depressão podem se beneficiar ao incentivar o aumento do engajamento em atividades físicas, especialmente entre aqueles com sintomas moderados a severos, onde a diminuição do engajamento pode ser mais pronunciada."
      ],
      "metadata": {
        "id": "ootUw0VrH9SE"
      }
    },
    {
      "cell_type": "markdown",
      "source": [
        "Agora vamos observar a variável 'ADHERENCE'. Embora ao analisarmos a variável 'PAG_MINW' já tenhamos uma suspeita do resultado que obteremos ao final desse teste, vamos realizá-lo para mantermos a consciência tranquila. Dito isso, vamos relembrar as médias de cada grupo."
      ],
      "metadata": {
        "id": "GI2H2wrEKwBj"
      }
    },
    {
      "cell_type": "code",
      "source": [
        "# Agrupando os dados e observando a média\n",
        "df_junto.groupby(\"Phq_grp\")[\"ADHERENCE\"].mean().sort_values(ascending=False)"
      ],
      "metadata": {
        "colab": {
          "base_uri": "https://localhost:8080/"
        },
        "id": "lchWv7MOK267",
        "outputId": "9753017f-1491-42fc-b419-772a35e93ad9"
      },
      "execution_count": 58,
      "outputs": [
        {
          "output_type": "execute_result",
          "data": {
            "text/plain": [
              "Phq_grp\n",
              "Sem sintomas                    2.012286\n",
              "Sintomas leves                  1.916084\n",
              "Sintomas moderados a severos    1.668852\n",
              "Name: ADHERENCE, dtype: float64"
            ]
          },
          "metadata": {},
          "execution_count": 58
        }
      ]
    },
    {
      "cell_type": "markdown",
      "source": [
        "Lembrando que essa variável refere-se à quantidade e aos tipos de atividade física necessários para manter uma boa saúde, e suas categorias são:\n",
        "\n",
        "- 1: Baixo (< 150 min/semana)\n",
        "- 2: Adequado (150-300 min/semana)\n",
        "- 3: Acima (> 300 min/semana)"
      ],
      "metadata": {
        "id": "UHeh-N5SLl8V"
      }
    },
    {
      "cell_type": "markdown",
      "source": [
        "Como estamos em uma situação semelhante ao caso anterior, vamos verificar as premissas da variância para observarmos se conseguiremos aplicar o teste ANOVA one-way, que é o ANOVA de um fator."
      ],
      "metadata": {
        "id": "3X9TqksCL_6b"
      }
    },
    {
      "cell_type": "code",
      "source": [
        "# DataFrame com pessoas que não têm sintomas\n",
        "df_sem_sintoma2 = df_junto[df_junto['Phq_grp'] == 'Sem sintomas'][['ADHERENCE']]\n",
        "\n",
        "# DataFrame com pessoas que têm sintomas leves\n",
        "df_sintomas_leves2 = df_junto[df_junto['Phq_grp'] == 'Sintomas leves'][['ADHERENCE']]\n",
        "\n",
        "# DataFrame com pessoas que têm sintomas moderados a severos\n",
        "df_sintomas_moderados_severos2 = df_junto[df_junto['Phq_grp'] == 'Sintomas moderados a severos'][['ADHERENCE']]"
      ],
      "metadata": {
        "id": "2o7fyRvFMM3L"
      },
      "execution_count": 59,
      "outputs": []
    },
    {
      "cell_type": "markdown",
      "source": [
        "Agora que já realizamos a separação dos dados, vamos aplicar o teste de Bartlett."
      ],
      "metadata": {
        "id": "6JpmxhhLMWjD"
      }
    },
    {
      "cell_type": "code",
      "source": [
        "# Execute o teste de Bartlett para verificar a homogeneidade das variâncias\n",
        "statistic, p_value = bartlett(df_sem_sintoma2['ADHERENCE'] ,df_sintomas_leves2['ADHERENCE'], df_sintomas_moderados_severos2['ADHERENCE'])\n",
        "\n",
        "# Exiba o resultado do teste\n",
        "print(f\"Estatística de Bartlett: {statistic}\")\n",
        "print(f\"Valor p: {p_value}\\n\")\n",
        "\n",
        "# Nível de significância\n",
        "alpha = 0.05\n",
        "\n",
        "# Conclusões\n",
        "if p_value < alpha:\n",
        "    print(\"Rejeitar H0: Há evidências suficientes para rejeitar a hipótese nula. As variâncias são diferentes.\")\n",
        "else:\n",
        "    print(\"Falha em rejeitar H0: Não temos evidências suficientes para rejeitar a hipótese nula. As variâncias são iguais.\")"
      ],
      "metadata": {
        "colab": {
          "base_uri": "https://localhost:8080/"
        },
        "id": "PkQCVSCEMblT",
        "outputId": "481169fe-c8f0-4762-b978-99e85a3c6c31"
      },
      "execution_count": 60,
      "outputs": [
        {
          "output_type": "stream",
          "name": "stdout",
          "text": [
            "Estatística de Bartlett: 0.979072396516727\n",
            "Valor p: 0.6129105972748609\n",
            "\n",
            "Falha em rejeitar H0: Não temos evidências suficientes para rejeitar a hipótese nula. As variâncias são iguais.\n"
          ]
        }
      ]
    },
    {
      "cell_type": "markdown",
      "source": [
        "Podemos observar que, a um nível de significância de 0,05, nossas variâncias são iguais. Logo, podemos aplicar o nosso ANOVA de um fator."
      ],
      "metadata": {
        "id": "vygkhiHVM7Ds"
      }
    },
    {
      "cell_type": "markdown",
      "source": [
        "Dito isso, vamos importar o mesmo."
      ],
      "metadata": {
        "id": "shgpLqCgNTX9"
      }
    },
    {
      "cell_type": "code",
      "source": [
        "# Importando o Anova um fator\n",
        "from scipy.stats import f_oneway"
      ],
      "metadata": {
        "id": "jL7nXufPM2DK"
      },
      "execution_count": 61,
      "outputs": []
    },
    {
      "cell_type": "markdown",
      "source": [
        "Agora podemos realizar a aplicação do mesmo propriamente dito."
      ],
      "metadata": {
        "id": "DWQmF3w4NKnD"
      }
    },
    {
      "cell_type": "code",
      "source": [
        "# Executando ANOVA de um fator\n",
        "f_statistic, p_valor = f_oneway(df_sem_sintoma2['ADHERENCE'] ,df_sintomas_leves2['ADHERENCE'], df_sintomas_moderados_severos2['ADHERENCE'])\n",
        "\n",
        "print(\"Estatística F:\", f_statistic)\n",
        "print(\"Valor p:\", p_valor)\n",
        "\n",
        "if p_valor < 0.05:\n",
        "    print(\"Rejeitar H0: Há diferença significativa entre as médias.\")\n",
        "else:\n",
        "    print(\"Falha em rejeitar H0: Não há diferença significativa entre as médias.\")"
      ],
      "metadata": {
        "colab": {
          "base_uri": "https://localhost:8080/"
        },
        "id": "zEZspwtjM3hs",
        "outputId": "1d54477b-bded-4450-fd28-26b3ea3a228d"
      },
      "execution_count": 62,
      "outputs": [
        {
          "output_type": "stream",
          "name": "stdout",
          "text": [
            "Estatística F: 22.075890351118545\n",
            "Valor p: 2.8316968173410054e-10\n",
            "Rejeitar H0: Há diferença significativa entre as médias.\n"
          ]
        }
      ]
    },
    {
      "cell_type": "markdown",
      "source": [
        "Obtivemos um p-valor muito baixo e rejeitamos a nossa hipótese nula a um nível de significância de 0,05. Logo, podemos afirmar que temos evidências suficientes para acreditar que existe sim diferença entre as médias."
      ],
      "metadata": {
        "id": "AxICz_1tNgrb"
      }
    },
    {
      "cell_type": "markdown",
      "source": [
        "Vamos prosseguir com a aplicação do teste de Tukey para observarmos a diferença entre os grupos. Para isso, vamos importar a biblioteca necessária."
      ],
      "metadata": {
        "id": "Kw4HwgKGNtAa"
      }
    },
    {
      "cell_type": "code",
      "source": [
        "# Importando o teste\n",
        "from statsmodels.stats.multicomp import pairwise_tukeyhsd"
      ],
      "metadata": {
        "id": "5-ZCBYA4Ow77"
      },
      "execution_count": 63,
      "outputs": []
    },
    {
      "cell_type": "markdown",
      "source": [
        "Vamos prosseguir com a aplicação do teste de Tukey propriamente dito."
      ],
      "metadata": {
        "id": "oZwYbAAfPApZ"
      }
    },
    {
      "cell_type": "code",
      "source": [
        "# Concatenando todas as amostras em um único array\n",
        "all_samples = np.concatenate([df_sem_sintoma2['ADHERENCE'],\n",
        "                              df_sintomas_leves2['ADHERENCE'],\n",
        "                              df_sintomas_moderados_severos2['ADHERENCE']])\n",
        "\n",
        "# Criando um array de rótulos de grupos correspondentes\n",
        "labels = ['Sem sintomas'] * len(df_sem_sintoma2) + ['Sintomas leves'] * len(df_sintomas_leves2) + ['Sintomas moderados a severos'] * len(df_sintomas_moderados_severos2)\n",
        "\n",
        "# Aplicando o teste de Tukey\n",
        "tukey_results = pairwise_tukeyhsd(all_samples, labels)\n",
        "\n",
        "# Exibindo os resultados\n",
        "print(tukey_results)"
      ],
      "metadata": {
        "colab": {
          "base_uri": "https://localhost:8080/"
        },
        "id": "hd4YaVpLPANq",
        "outputId": "91bafe19-6f81-4d88-be8d-b41ccef8aab6"
      },
      "execution_count": 64,
      "outputs": [
        {
          "output_type": "stream",
          "name": "stdout",
          "text": [
            "               Multiple Comparison of Means - Tukey HSD, FWER=0.05                \n",
            "==================================================================================\n",
            "    group1                group2            meandiff p-adj   lower   upper  reject\n",
            "----------------------------------------------------------------------------------\n",
            "  Sem sintomas               Sintomas leves  -0.0962  0.025 -0.1828 -0.0096   True\n",
            "  Sem sintomas Sintomas moderados a severos  -0.3434    0.0 -0.4705 -0.2164   True\n",
            "Sintomas leves Sintomas moderados a severos  -0.2472 0.0002 -0.3939 -0.1006   True\n",
            "----------------------------------------------------------------------------------\n"
          ]
        }
      ]
    },
    {
      "cell_type": "markdown",
      "source": [
        "Vamos prosseguir com a aplicação do teste de Tukey propriamente dito.\n",
        "\n",
        "**Observando o grupo Sem sintomas x Sintomas leves**:\n",
        "\n",
        "- A diferença média entre os grupos é de -0,09.\n",
        "  \n",
        "- O valor p ajustado é de 0,025. Considerando que nosso nível de significância é de 0,05, ainda rejeitamos a hipótese nula.\n",
        "\n",
        "- Os limites do intervalo de confiança para a diferença média entre os grupos são -0,18 (limite inferior) e -0,009 (limite superior).\n",
        "\n",
        "- Com base no parâmetro \"reject\", observamos que a hipótese nula foi rejeitada.\n",
        "\n",
        "**Observando o grupo Sem sintomas x Sintomas moderados a severos**:\n",
        "\n",
        "- Nesse caso, a diferença na média é um pouco maior, sendo -0,34.\n",
        "\n",
        "- O valor p ajustado é muito baixo, aproximando-se de zero.\n",
        "\n",
        "- Os limites do intervalo de confiança para a diferença média entre os grupos são -0,47 (limite inferior) e -0,21 (limite superior).\n",
        "\n",
        "- Mais uma vez, rejeitamos a hipótese nula.\n",
        "\n",
        "**Observando o grupo Sintomas leves x Sintomas moderados a severos**:\n",
        "\n",
        "- Aqui, a diferença média é de -0,24.\n",
        "\n",
        "- O valor p é 0,0002, muito abaixo do nível de significância.\n",
        "\n",
        "- Os limites do intervalo de confiança para a diferença média entre os grupos são -0,39 (limite inferior) e -0,1 (limite superior).\n",
        "\n",
        "- Novamente, rejeitamos a hipótese nula."
      ],
      "metadata": {
        "id": "9Yn8ojYjUq2y"
      }
    },
    {
      "cell_type": "markdown",
      "source": [
        "**Conclusões**\n",
        "\n",
        "Após os testes, podemos confirmar que a diferença entre as médias dos grupos é estatisticamente significativa, corroborando a observação de que a atividade física está relacionada aos sintomas de depressão. Quanto mais próximo do nível recomendado de atividade física uma pessoa está, menor é o seu grau de depressão. Para aplicar esses resultados de forma prática, é importante considerar:\n",
        "\n",
        "- Intervenções práticas: Programas de exercícios supervisionados ou grupos de apoio podem ser sugeridos para promover um estilo de vida mais ativo e reduzir os sintomas de depressão.\n",
        "\n",
        "- Conscientização contínua: Campanhas educativas e programas de saúde pública podem ajudar a aumentar a conscientização sobre a importância da atividade física para a saúde mental.\n",
        "\n",
        "- Abordagem multidisciplinar: Integrar estratégias de atividade física com outras modalidades terapêuticas, como psicoterapia e medicamentos, pode ser essencial para um cuidado abrangente e eficaz da depressão.\n",
        "\n",
        "- Promoção de ambientes favoráveis: Incentivar a criação de ambientes e políticas que facilitem a prática regular de atividade física pode contribuir para a melhoria da saúde mental da comunidade."
      ],
      "metadata": {
        "id": "JrbDt9NhYcan"
      }
    },
    {
      "cell_type": "markdown",
      "source": [
        "### **Testes de hipóteses (alimentação)**"
      ],
      "metadata": {
        "id": "FxiAF-tGobQX"
      }
    },
    {
      "cell_type": "markdown",
      "source": [
        "Vamos observar a influência da alimentação nos sintomas."
      ],
      "metadata": {
        "id": "meYzhqDrrQVN"
      }
    },
    {
      "cell_type": "code",
      "source": [
        "# Agrupando os dados e observando a média\n",
        "df_junto.groupby(\"Phq_grp\")[\"HEI2015_TOTAL_SCORE\"].mean().sort_values(ascending=False)"
      ],
      "metadata": {
        "colab": {
          "base_uri": "https://localhost:8080/"
        },
        "id": "C1nIz67skqWo",
        "outputId": "976a2e11-4e74-4990-c86e-352355e4e5f1"
      },
      "execution_count": 93,
      "outputs": [
        {
          "output_type": "execute_result",
          "data": {
            "text/plain": [
              "Phq_grp\n",
              "Sem sintomas                    50.297413\n",
              "Sintomas leves                  49.001916\n",
              "Sintomas moderados a severos    47.753542\n",
              "Name: HEI2015_TOTAL_SCORE, dtype: float64"
            ]
          },
          "metadata": {},
          "execution_count": 93
        }
      ]
    },
    {
      "cell_type": "markdown",
      "source": [
        "Agrupamos os nossos dados e agora estamos observando a média do indice de alimentação saudavel para cada grupo de sintomas de depressão, podemos observar uma tendência de diminuição do escore médio à medida que os sintomas de depressão se intensificam, com médias decrescentes dos grupos 'Sem sintomas', 'Sintomas leves' e 'Sintomas moderados a severos', respectivamente. Essa observação sugere uma possível associação entre os hábitos alimentares e os sintomas de depressão. No entanto, para confirmar se essas diferenças são estatisticamente significativas, será realizado um teste de hipótese, para avaliar se há diferenças significativas entre os grupos."
      ],
      "metadata": {
        "id": "L7rQ94A_NHmJ"
      }
    },
    {
      "cell_type": "markdown",
      "source": [
        "Antes de prosseguirmos, vamos primeiro criar nossas variáveis armazenando os registros de cada um dos grupos."
      ],
      "metadata": {
        "id": "0O1INVNJYaFU"
      }
    },
    {
      "cell_type": "code",
      "source": [
        "# DataFrame com pessoas que não têm sintomas\n",
        "df_sem_sintomas3 = df_junto[df_junto['Phq_grp'] == 'Sem sintomas'][['HEI2015_TOTAL_SCORE']]\n",
        "\n",
        "# DataFrame com pessoas que têm sintomas leves\n",
        "df_sintomas_leves3 = df_junto[df_junto['Phq_grp'] == 'Sintomas leves'][['HEI2015_TOTAL_SCORE']]\n",
        "\n",
        "# DataFrame com pessoas que têm sintomas moderados a severos\n",
        "df_sintomas_moderados_severos3 = df_junto[df_junto['Phq_grp'] == 'Sintomas moderados a severos'][['HEI2015_TOTAL_SCORE']]"
      ],
      "metadata": {
        "id": "XT8SQsl4XuBG"
      },
      "execution_count": 99,
      "outputs": []
    },
    {
      "cell_type": "markdown",
      "source": [
        "Com os dados devidamente separados, agora vamos aplicar o **teste de Bartlett** para checar a variância dos nossos dados. Se as variâncias forem iguais, poderemos utilizar a ANOVA one-way. Caso sejam diferentes, iremos aplicar a ANOVA de Welch."
      ],
      "metadata": {
        "id": "xCaXmksVYhWs"
      }
    },
    {
      "cell_type": "code",
      "source": [
        "# Importando o teste de barlett\n",
        "from scipy.stats import bartlett\n",
        "\n",
        "# Execute o teste de Bartlett para verificar a homogeneidade das variâncias\n",
        "statistic, p_value = bartlett(df_sem_sintomas3['HEI2015_TOTAL_SCORE'] ,df_sintomas_leves3['HEI2015_TOTAL_SCORE'], df_sintomas_moderados_severos3['HEI2015_TOTAL_SCORE'])\n",
        "\n",
        "# Exiba o resultado do teste\n",
        "print(f\"Estatística de Bartlett: {statistic}\")\n",
        "print(f\"Valor p: {p_value}\\n\")\n",
        "\n",
        "# Nível de significância\n",
        "alpha = 0.05\n",
        "\n",
        "# Conclusões\n",
        "if p_value < alpha:\n",
        "    print(\"Rejeitar H0: Há evidências suficientes para rejeitar a hipótese nula. As variâncias são diferentes.\")\n",
        "else:\n",
        "    print(\"Falha em rejeitar H0: Não temos evidências suficientes para rejeitar a hipótese nula. As variâncias são iguais.\")"
      ],
      "metadata": {
        "colab": {
          "base_uri": "https://localhost:8080/"
        },
        "id": "1JENMnVVXgWV",
        "outputId": "514c0897-705d-43ec-c811-e2c7c4a466a1"
      },
      "execution_count": 100,
      "outputs": [
        {
          "output_type": "stream",
          "name": "stdout",
          "text": [
            "Estatística de Bartlett: 4.2700065681136605\n",
            "Valor p: 0.11824420205531835\n",
            "\n",
            "Falha em rejeitar H0: Não temos evidências suficientes para rejeitar a hipótese nula. As variâncias são iguais.\n"
          ]
        }
      ]
    },
    {
      "cell_type": "markdown",
      "source": [
        "A um nível de significância de 0,05, falhamos em rejeitar a hipótese nula, logo podemos concluir que não temos evidências suficientes para rejeitar a nula. Portanto, as variâncias são iguais."
      ],
      "metadata": {
        "id": "_dnbr2tVXIo1"
      }
    },
    {
      "cell_type": "markdown",
      "source": [
        "Como as variâncias são iguais, podemos aplicar a ANOVA one-way."
      ],
      "metadata": {
        "id": "W47cTfpCZNgk"
      }
    },
    {
      "cell_type": "code",
      "source": [
        "# Importando o ANOVA\n",
        "from scipy.stats import f_oneway\n",
        "\n",
        "# Aplicando a ANOVA\n",
        "resultado_anova = f_oneway(df_sem_sintomas3, df_sintomas_leves3, df_sintomas_moderados_severos3)\n",
        "\n",
        "print(\"Estatística F:\", f_statistic)\n",
        "print(\"Valor p:\", p_valor)\n",
        "\n",
        "if p_valor < 0.05:\n",
        "    print(\"Rejeitar H0: Há diferença significativa entre as médias.\")\n",
        "else:\n",
        "    print(\"Falha em rejeitar H0: Não há diferença significativa entre as médias.\")"
      ],
      "metadata": {
        "colab": {
          "base_uri": "https://localhost:8080/"
        },
        "id": "eiuN8NqMXGKt",
        "outputId": "3e3621d6-0a21-4912-f952-d191df0ac38b"
      },
      "execution_count": 101,
      "outputs": [
        {
          "output_type": "stream",
          "name": "stdout",
          "text": [
            "Estatística F: 22.075890351118545\n",
            "Valor p: 2.8316968173410054e-10\n",
            "Rejeitar H0: Há diferença significativa entre as médias.\n"
          ]
        }
      ]
    },
    {
      "cell_type": "markdown",
      "source": [
        "Obtivemos um p-valor muito baixo, então, a um nível de significância de 0,05, rejeitamos a H0 e temos evidências suficientes para acreditar que as médias são estatisticamente diferentes."
      ],
      "metadata": {
        "id": "wwXxwldLZXKU"
      }
    },
    {
      "cell_type": "markdown",
      "source": [
        "**Conclusões**:\n",
        "\n",
        "- O teste de hipótese revelou diferenças estatisticamente significativas entre as médias do Índice de Alimentação Saudável (HEI2015_TOTAL_SCORE) nos diferentes grupos de sintomas de depressão. Isso sugere que os hábitos alimentares podem estar relacionados aos níveis de sintomas de depressão, corroborando com as observações iniciais de que os pacientes com sintomas mais graves tendem a ter escores mais baixos de alimentação saudável."
      ],
      "metadata": {
        "id": "4PldjC-nZ3E1"
      }
    },
    {
      "cell_type": "markdown",
      "source": [
        "### **Testes de hipóteses (idade)**"
      ],
      "metadata": {
        "id": "Tcp2ZwvtdLvy"
      }
    },
    {
      "cell_type": "markdown",
      "source": [
        "Vamos observar como os sintomas de depressão se comportam de acordo com a idade das pessoas."
      ],
      "metadata": {
        "id": "zayl0OCGd0Ny"
      }
    },
    {
      "cell_type": "code",
      "source": [
        "# Agrupando os dados e observando a média\n",
        "df_junto.groupby(\"Phq_grp\")[\"RIDAGEYR\"].mean().sort_values(ascending=False)"
      ],
      "metadata": {
        "colab": {
          "base_uri": "https://localhost:8080/"
        },
        "id": "qv3ymqj9dSCq",
        "outputId": "e3f2e476-aca7-404a-9b67-3ffc42091631"
      },
      "execution_count": null,
      "outputs": [
        {
          "output_type": "execute_result",
          "data": {
            "text/plain": [
              "Phq_grp\n",
              "Sem sintomas                    45.379462\n",
              "Sintomas moderados a severos    44.527869\n",
              "Sintomas leves                  43.583217\n",
              "Name: RIDAGEYR, dtype: float64"
            ]
          },
          "metadata": {},
          "execution_count": 103
        }
      ]
    },
    {
      "cell_type": "code",
      "source": [
        "# Continuação em breve!!!"
      ],
      "metadata": {
        "id": "hVSxniIfgj2J"
      },
      "execution_count": null,
      "outputs": []
    },
    {
      "cell_type": "markdown",
      "source": [
        "### **Testes de hipóteses (renda)**"
      ],
      "metadata": {
        "id": "6bNZfyHrdyBq"
      }
    },
    {
      "cell_type": "markdown",
      "source": [
        "Lmebrando que 'INDFMINC' representa a renda anual familiar."
      ],
      "metadata": {
        "id": "KHIiW7Aadj8S"
      }
    },
    {
      "cell_type": "code",
      "source": [
        "# Agrupando os dados e observando a média\n",
        "df_junto.groupby(\"Phq_grp\")[\"INDFMINC\"].mean().sort_values(ascending=False)"
      ],
      "metadata": {
        "colab": {
          "base_uri": "https://localhost:8080/"
        },
        "id": "Me-K3WLPdP0i",
        "outputId": "cd1409b5-8005-448b-9173-70aeb083670b"
      },
      "execution_count": null,
      "outputs": [
        {
          "output_type": "execute_result",
          "data": {
            "text/plain": [
              "Phq_grp\n",
              "Sintomas leves                  9.410765\n",
              "Sem sintomas                    8.782893\n",
              "Sintomas moderados a severos    6.539735\n",
              "Name: INDFMINC, dtype: float64"
            ]
          },
          "metadata": {},
          "execution_count": 106
        }
      ]
    },
    {
      "cell_type": "code",
      "source": [
        "# Continuação em breve!!!"
      ],
      "metadata": {
        "id": "4bqiagAjgCMp"
      },
      "execution_count": null,
      "outputs": []
    },
    {
      "cell_type": "markdown",
      "source": [
        "### **Matriz de correlação**"
      ],
      "metadata": {
        "id": "DIbxrLOGfjQZ"
      }
    },
    {
      "cell_type": "markdown",
      "source": [
        "Vamos verificar a correlação das nossas variáveis numéricas."
      ],
      "metadata": {
        "id": "9unbM2tkge5J"
      }
    },
    {
      "cell_type": "code",
      "source": [
        "# Gerando a matriz de correlação das variáveis numéricas do DataFrame\n",
        "df_numeric = df_junto.select_dtypes(include=['float64', 'int64'])\n",
        "\n",
        "# Calculando a matriz de correlação\n",
        "correlation_matrix = df_numeric.corr()\n",
        "\n",
        "# Gerando uma máscara para esconder a metade superior da matriz de correlação\n",
        "mask = np.triu(np.ones_like(correlation_matrix, dtype=bool))\n",
        "\n",
        "# Plotando o gráfico de correlação usando seaborn com a máscara (apenas um lado do triângulo)\n",
        "plt.figure(figsize=(15, 8))\n",
        "sns.heatmap(correlation_matrix, annot=True, cmap='coolwarm', fmt=\".2f\", mask=mask)\n",
        "\n",
        "# Adicionando o título\n",
        "plt.title('Matriz de Correlação das Variáveis Numéricas')\n",
        "\n",
        "# Exibindo o gráfico\n",
        "plt.show()"
      ],
      "metadata": {
        "colab": {
          "base_uri": "https://localhost:8080/",
          "height": 900
        },
        "id": "j6NN7do8ea3i",
        "outputId": "7deabfc8-db40-453b-ffb7-8630fc940311"
      },
      "execution_count": 114,
      "outputs": [
        {
          "output_type": "display_data",
          "data": {
            "text/plain": [
              "<Figure size 1500x800 with 2 Axes>"
            ],
            "image/png": "[encoded data removed]"
          },
          "metadata": {}
        }
      ]
    },
    {
      "cell_type": "markdown",
      "source": [
        "Levando em consideração que nossa variável de interesse é uma variável categórica, nossa matriz de correlação não diz muito sobre a relação da nossa variável de interesse e nossas outras variáveis. O máximo de informações que conseguiremos retirar daqui é a correlação entre as nossas variáveis entre si. O que, em nosso caso atual, não é de grande valia no momento, embora possa ser de grande valia futuramente. Dito isso, vamos deixar a nossa matriz aqui por enquanto."
      ],
      "metadata": {
        "id": "67hbLwY6gHaR"
      }
    }
  ]
}