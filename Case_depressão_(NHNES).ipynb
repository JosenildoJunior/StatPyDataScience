{
  "nbformat": 4,
  "nbformat_minor": 0,
  "metadata": {
    "colab": {
      "provenance": [],
      "authorship_tag": "ABX9TyN09vqWMrt97k8J03N1Ke+S",
      "include_colab_link": true
    },
    "kernelspec": {
      "name": "python3",
      "display_name": "Python 3"
    },
    "language_info": {
      "name": "python"
    }
  },
  "cells": [
    {
      "cell_type": "markdown",
      "metadata": {
        "id": "view-in-github",
        "colab_type": "text"
      },
      "source": [
        "<a href=\"https://colab.research.google.com/github/JosenildoJunior/StatPyDataScience/blob/main/Case_depress%C3%A3o_(NHNES).ipynb\" target=\"_parent\"><img src=\"https://colab.research.google.com/assets/colab-badge.svg\" alt=\"Open In Colab\"/></a>"
      ]
    },
    {
      "cell_type": "markdown",
      "source": [
        "# **Retrato da Depressão nos EUA: Explorando Perfis e Associações com Hábitos de Saúde (2005-2006)**"
      ],
      "metadata": {
        "id": "kxhXNtGZ-HNi"
      }
    },
    {
      "cell_type": "markdown",
      "source": [
        "Os dados para realização desse case são sobre o transtorno depressivo, um problema multifatorial que pode ter várias possíveis combinações de situações como causa.\n",
        "\n",
        "Os dados disponíveis são resultados da NHNES (National Health and Nutrition Examination Survey), realizada anualmente nos EUA para avaliar a saúde e nutrição de adultos e crianças;\n",
        "\n",
        "**O objetivo é responder as seguintes perguntas**:\n",
        "\n",
        "  - Qual o perfil de indivíduos (adultos maiores de 18 anos) com sintomas depressivos nos EUA no período de 2005-2006?\n",
        "\n",
        "  - Hábitos saudáveis de alimentação e atividade física estão associados a menores índices de depressão nesta população?\n"
      ],
      "metadata": {
        "id": "v_19MfRI9cyC"
      }
    },
    {
      "cell_type": "code",
      "source": [
        "# Em breve!!!"
      ],
      "metadata": {
        "id": "_0PkXy7D-xCf"
      },
      "execution_count": null,
      "outputs": []
    }
  ]
}