{
  "nbformat": 4,
  "nbformat_minor": 0,
  "metadata": {
    "colab": {
      "provenance": [],
      "collapsed_sections": [
        "8UCEOx7FHCCt",
        "Jqb2x5dZHl6o",
        "5szm3RgDJcrM",
        "nDmQDiU7KLdk",
        "f8naKB3LNxFx",
        "iP6LmIfPKvBL",
        "tpiVwLVXkfmT",
        "Xa0TIu45wmOy",
        "MSY7Sd3eW2zS",
        "GMgtIKTfY2ya",
        "XvJK5lyTbnoX",
        "GocfcdbEkrA6"
      ],
      "authorship_tag": "ABX9TyPCGxYgaEy49PzJt3iXJqc6",
      "include_colab_link": true
    },
    "kernelspec": {
      "name": "python3",
      "display_name": "Python 3"
    },
    "language_info": {
      "name": "python"
    }
  },
  "cells": [
    {
      "cell_type": "markdown",
      "metadata": {
        "id": "view-in-github",
        "colab_type": "text"
      },
      "source": [
        "<a href=\"https://colab.research.google.com/github/JosenildoJunior/StatPyDataScience/blob/main/Fundamentos_Teste_de_Hip%C3%B3tese.ipynb\" target=\"_parent\"><img src=\"https://colab.research.google.com/assets/colab-badge.svg\" alt=\"Open In Colab\"/></a>"
      ]
    },
    {
      "cell_type": "markdown",
      "source": [
        "# **Fundamentos para os testes de hipóteses**"
      ],
      "metadata": {
        "id": "8nV4qdNIGqX5"
      }
    },
    {
      "cell_type": "markdown",
      "source": [
        "Um teste de hipótese é uma ferramenta estatística que permite determinar se há evidências suficientes para rejeitar uma afirmação sobre uma população. Essa afirmação é chamada de hipótese nula (H0).\n",
        "\n",
        "**Estrutura:**\n",
        "\n",
        "- Hipótese nula (H0): Afirmação que queremos testar.\n",
        "- Hipótese alternativa (H1): Afirmação que será aceita se a H0 for rejeitada."
      ],
      "metadata": {
        "id": "26qVaRqeG1Fd"
      }
    },
    {
      "cell_type": "markdown",
      "source": [
        "## **Amostra e População**"
      ],
      "metadata": {
        "id": "8UCEOx7FHCCt"
      }
    },
    {
      "cell_type": "markdown",
      "source": [
        "### **População**"
      ],
      "metadata": {
        "id": "Jqb2x5dZHl6o"
      }
    },
    {
      "cell_type": "markdown",
      "source": [
        "População é o conjunto completo de dados que você deseja estudar."
      ],
      "metadata": {
        "id": "CF_NczfAJQz0"
      }
    },
    {
      "cell_type": "markdown",
      "source": [
        "Vamos importar a nossa população que nesse caso será a nossa base de dados, mas antes vamos importar as bibliotecas necessarias"
      ],
      "metadata": {
        "id": "tS_EeRQ5HsU_"
      }
    },
    {
      "cell_type": "code",
      "execution_count": 15,
      "metadata": {
        "colab": {
          "base_uri": "https://localhost:8080/"
        },
        "id": "XwSYEkGKCHdy",
        "outputId": "0fbf69a2-3bd9-4ea4-cdca-d1ed52669347"
      },
      "outputs": [
        {
          "output_type": "stream",
          "name": "stdout",
          "text": [
            "Mounted at /content/drive\n"
          ]
        }
      ],
      "source": [
        "# Acesso ao drive\n",
        "from google.colab import drive\n",
        "drive.mount('/content/drive')"
      ]
    },
    {
      "cell_type": "code",
      "source": [
        "# Manipulação de dados\n",
        "import pandas as pd\n",
        "\n",
        "# Algébra linear\n",
        "import numpy as np\n",
        "\n",
        "# Visualização de dados\n",
        "import matplotlib.pyplot as plt\n",
        "import seaborn as sns\n",
        "\n",
        "# Funções aleatórias\n",
        "import random\n",
        "\n",
        "# Funções estatísticas\n",
        "import statistics\n",
        "import scipy.stats"
      ],
      "metadata": {
        "id": "pwAxeAsBH9q1"
      },
      "execution_count": 16,
      "outputs": []
    },
    {
      "cell_type": "markdown",
      "source": [
        "Importaremos a nossa população, que neste caso será a nossa base de dados. Antes disso, importaremos as bibliotecas necessárias."
      ],
      "metadata": {
        "id": "Vzy_sDCZICDV"
      }
    },
    {
      "cell_type": "code",
      "source": [
        "# Importando o dataset\n",
        "populacao = pd.read_csv('/content/drive/MyDrive/Estatística para ciência de dados/house_price.csv')"
      ],
      "metadata": {
        "id": "WEpqPXFRIMbc"
      },
      "execution_count": 17,
      "outputs": []
    },
    {
      "cell_type": "markdown",
      "source": [
        "Observemos agora as dimensões da nossa população."
      ],
      "metadata": {
        "id": "EYXJmojGIqeg"
      }
    },
    {
      "cell_type": "code",
      "source": [
        "# Observando a dimensão dos dados\n",
        "populacao.shape"
      ],
      "metadata": {
        "colab": {
          "base_uri": "https://localhost:8080/"
        },
        "id": "ncMGPdfaIp6p",
        "outputId": "e8bdae11-4cc2-41bc-8943-0ad7adcd34bb"
      },
      "execution_count": 18,
      "outputs": [
        {
          "output_type": "execute_result",
          "data": {
            "text/plain": [
              "(1460, 12)"
            ]
          },
          "metadata": {},
          "execution_count": 18
        }
      ]
    },
    {
      "cell_type": "markdown",
      "source": [
        "Agora que já entendemos as dimensões da nossa população, vamos observar os primeiros registros."
      ],
      "metadata": {
        "id": "09s_rqidIyXm"
      }
    },
    {
      "cell_type": "code",
      "source": [
        "# Observando os registros\n",
        "populacao.head()"
      ],
      "metadata": {
        "colab": {
          "base_uri": "https://localhost:8080/",
          "height": 0
        },
        "id": "Uten48u4I4im",
        "outputId": "40a07921-a5cf-485b-970e-2c9fad6a5178"
      },
      "execution_count": 19,
      "outputs": [
        {
          "output_type": "execute_result",
          "data": {
            "text/plain": [
              "   Unnamed: 0  SalePrice  OverallQual  OverallCond  BedroomAbvGr  \\\n",
              "0           0     208500            7            5             3   \n",
              "1           1     181500            6            8             3   \n",
              "2           2     223500            7            5             3   \n",
              "3           3     140000            7            5             3   \n",
              "4           4     250000            8            5             4   \n",
              "\n",
              "   TotRmsAbvGrd  GrLivArea  TotalBsmtSF  YearBuilt MSZoning Utilities BldgType  \n",
              "0             8       1710          856       2003       RL    AllPub     1Fam  \n",
              "1             6       1262         1262       1976       RL    AllPub     1Fam  \n",
              "2             6       1786          920       2001       RL    AllPub     1Fam  \n",
              "3             7       1717          756       1915       RL    AllPub     1Fam  \n",
              "4             9       2198         1145       2000       RL    AllPub     1Fam  "
            ],
            "text/html": [
              "\n",
              "  <div id=\"df-32d2393d-b2ab-403b-b97f-cfa8fe49cb37\" class=\"colab-df-container\">\n",
              "    <div>\n",
              "<style scoped>\n",
              "    .dataframe tbody tr th:only-of-type {\n",
              "        vertical-align: middle;\n",
              "    }\n",
              "\n",
              "    .dataframe tbody tr th {\n",
              "        vertical-align: top;\n",
              "    }\n",
              "\n",
              "    .dataframe thead th {\n",
              "        text-align: right;\n",
              "    }\n",
              "</style>\n",
              "<table border=\"1\" class=\"dataframe\">\n",
              "  <thead>\n",
              "    <tr style=\"text-align: right;\">\n",
              "      <th></th>\n",
              "      <th>Unnamed: 0</th>\n",
              "      <th>SalePrice</th>\n",
              "      <th>OverallQual</th>\n",
              "      <th>OverallCond</th>\n",
              "      <th>BedroomAbvGr</th>\n",
              "      <th>TotRmsAbvGrd</th>\n",
              "      <th>GrLivArea</th>\n",
              "      <th>TotalBsmtSF</th>\n",
              "      <th>YearBuilt</th>\n",
              "      <th>MSZoning</th>\n",
              "      <th>Utilities</th>\n",
              "      <th>BldgType</th>\n",
              "    </tr>\n",
              "  </thead>\n",
              "  <tbody>\n",
              "    <tr>\n",
              "      <th>0</th>\n",
              "      <td>0</td>\n",
              "      <td>208500</td>\n",
              "      <td>7</td>\n",
              "      <td>5</td>\n",
              "      <td>3</td>\n",
              "      <td>8</td>\n",
              "      <td>1710</td>\n",
              "      <td>856</td>\n",
              "      <td>2003</td>\n",
              "      <td>RL</td>\n",
              "      <td>AllPub</td>\n",
              "      <td>1Fam</td>\n",
              "    </tr>\n",
              "    <tr>\n",
              "      <th>1</th>\n",
              "      <td>1</td>\n",
              "      <td>181500</td>\n",
              "      <td>6</td>\n",
              "      <td>8</td>\n",
              "      <td>3</td>\n",
              "      <td>6</td>\n",
              "      <td>1262</td>\n",
              "      <td>1262</td>\n",
              "      <td>1976</td>\n",
              "      <td>RL</td>\n",
              "      <td>AllPub</td>\n",
              "      <td>1Fam</td>\n",
              "    </tr>\n",
              "    <tr>\n",
              "      <th>2</th>\n",
              "      <td>2</td>\n",
              "      <td>223500</td>\n",
              "      <td>7</td>\n",
              "      <td>5</td>\n",
              "      <td>3</td>\n",
              "      <td>6</td>\n",
              "      <td>1786</td>\n",
              "      <td>920</td>\n",
              "      <td>2001</td>\n",
              "      <td>RL</td>\n",
              "      <td>AllPub</td>\n",
              "      <td>1Fam</td>\n",
              "    </tr>\n",
              "    <tr>\n",
              "      <th>3</th>\n",
              "      <td>3</td>\n",
              "      <td>140000</td>\n",
              "      <td>7</td>\n",
              "      <td>5</td>\n",
              "      <td>3</td>\n",
              "      <td>7</td>\n",
              "      <td>1717</td>\n",
              "      <td>756</td>\n",
              "      <td>1915</td>\n",
              "      <td>RL</td>\n",
              "      <td>AllPub</td>\n",
              "      <td>1Fam</td>\n",
              "    </tr>\n",
              "    <tr>\n",
              "      <th>4</th>\n",
              "      <td>4</td>\n",
              "      <td>250000</td>\n",
              "      <td>8</td>\n",
              "      <td>5</td>\n",
              "      <td>4</td>\n",
              "      <td>9</td>\n",
              "      <td>2198</td>\n",
              "      <td>1145</td>\n",
              "      <td>2000</td>\n",
              "      <td>RL</td>\n",
              "      <td>AllPub</td>\n",
              "      <td>1Fam</td>\n",
              "    </tr>\n",
              "  </tbody>\n",
              "</table>\n",
              "</div>\n",
              "    <div class=\"colab-df-buttons\">\n",
              "\n",
              "  <div class=\"colab-df-container\">\n",
              "    <button class=\"colab-df-convert\" onclick=\"convertToInteractive('df-32d2393d-b2ab-403b-b97f-cfa8fe49cb37')\"\n",
              "            title=\"Convert this dataframe to an interactive table.\"\n",
              "            style=\"display:none;\">\n",
              "\n",
              "  <svg xmlns=\"http://www.w3.org/2000/svg\" height=\"24px\" viewBox=\"0 -960 960 960\">\n",
              "    <path d=\"M120-120v-720h720v720H120Zm60-500h600v-160H180v160Zm220 220h160v-160H400v160Zm0 220h160v-160H400v160ZM180-400h160v-160H180v160Zm440 0h160v-160H620v160ZM180-180h160v-160H180v160Zm440 0h160v-160H620v160Z\"/>\n",
              "  </svg>\n",
              "    </button>\n",
              "\n",
              "  <style>\n",
              "    .colab-df-container {\n",
              "      display:flex;\n",
              "      gap: 12px;\n",
              "    }\n",
              "\n",
              "    .colab-df-convert {\n",
              "      background-color: #E8F0FE;\n",
              "      border: none;\n",
              "      border-radius: 50%;\n",
              "      cursor: pointer;\n",
              "      display: none;\n",
              "      fill: #1967D2;\n",
              "      height: 32px;\n",
              "      padding: 0 0 0 0;\n",
              "      width: 32px;\n",
              "    }\n",
              "\n",
              "    .colab-df-convert:hover {\n",
              "      background-color: #E2EBFA;\n",
              "      box-shadow: 0px 1px 2px rgba(60, 64, 67, 0.3), 0px 1px 3px 1px rgba(60, 64, 67, 0.15);\n",
              "      fill: #174EA6;\n",
              "    }\n",
              "\n",
              "    .colab-df-buttons div {\n",
              "      margin-bottom: 4px;\n",
              "    }\n",
              "\n",
              "    [theme=dark] .colab-df-convert {\n",
              "      background-color: #3B4455;\n",
              "      fill: #D2E3FC;\n",
              "    }\n",
              "\n",
              "    [theme=dark] .colab-df-convert:hover {\n",
              "      background-color: #434B5C;\n",
              "      box-shadow: 0px 1px 3px 1px rgba(0, 0, 0, 0.15);\n",
              "      filter: drop-shadow(0px 1px 2px rgba(0, 0, 0, 0.3));\n",
              "      fill: #FFFFFF;\n",
              "    }\n",
              "  </style>\n",
              "\n",
              "    <script>\n",
              "      const buttonEl =\n",
              "        document.querySelector('#df-32d2393d-b2ab-403b-b97f-cfa8fe49cb37 button.colab-df-convert');\n",
              "      buttonEl.style.display =\n",
              "        google.colab.kernel.accessAllowed ? 'block' : 'none';\n",
              "\n",
              "      async function convertToInteractive(key) {\n",
              "        const element = document.querySelector('#df-32d2393d-b2ab-403b-b97f-cfa8fe49cb37');\n",
              "        const dataTable =\n",
              "          await google.colab.kernel.invokeFunction('convertToInteractive',\n",
              "                                                    [key], {});\n",
              "        if (!dataTable) return;\n",
              "\n",
              "        const docLinkHtml = 'Like what you see? Visit the ' +\n",
              "          '<a target=\"_blank\" href=https://colab.research.google.com/notebooks/data_table.ipynb>data table notebook</a>'\n",
              "          + ' to learn more about interactive tables.';\n",
              "        element.innerHTML = '';\n",
              "        dataTable['output_type'] = 'display_data';\n",
              "        await google.colab.output.renderOutput(dataTable, element);\n",
              "        const docLink = document.createElement('div');\n",
              "        docLink.innerHTML = docLinkHtml;\n",
              "        element.appendChild(docLink);\n",
              "      }\n",
              "    </script>\n",
              "  </div>\n",
              "\n",
              "\n",
              "<div id=\"df-85164cb5-8c2b-4551-b8fc-4570efa68fc4\">\n",
              "  <button class=\"colab-df-quickchart\" onclick=\"quickchart('df-85164cb5-8c2b-4551-b8fc-4570efa68fc4')\"\n",
              "            title=\"Suggest charts\"\n",
              "            style=\"display:none;\">\n",
              "\n",
              "<svg xmlns=\"http://www.w3.org/2000/svg\" height=\"24px\"viewBox=\"0 0 24 24\"\n",
              "     width=\"24px\">\n",
              "    <g>\n",
              "        <path d=\"M19 3H5c-1.1 0-2 .9-2 2v14c0 1.1.9 2 2 2h14c1.1 0 2-.9 2-2V5c0-1.1-.9-2-2-2zM9 17H7v-7h2v7zm4 0h-2V7h2v10zm4 0h-2v-4h2v4z\"/>\n",
              "    </g>\n",
              "</svg>\n",
              "  </button>\n",
              "\n",
              "<style>\n",
              "  .colab-df-quickchart {\n",
              "      --bg-color: #E8F0FE;\n",
              "      --fill-color: #1967D2;\n",
              "      --hover-bg-color: #E2EBFA;\n",
              "      --hover-fill-color: #174EA6;\n",
              "      --disabled-fill-color: #AAA;\n",
              "      --disabled-bg-color: #DDD;\n",
              "  }\n",
              "\n",
              "  [theme=dark] .colab-df-quickchart {\n",
              "      --bg-color: #3B4455;\n",
              "      --fill-color: #D2E3FC;\n",
              "      --hover-bg-color: #434B5C;\n",
              "      --hover-fill-color: #FFFFFF;\n",
              "      --disabled-bg-color: #3B4455;\n",
              "      --disabled-fill-color: #666;\n",
              "  }\n",
              "\n",
              "  .colab-df-quickchart {\n",
              "    background-color: var(--bg-color);\n",
              "    border: none;\n",
              "    border-radius: 50%;\n",
              "    cursor: pointer;\n",
              "    display: none;\n",
              "    fill: var(--fill-color);\n",
              "    height: 32px;\n",
              "    padding: 0;\n",
              "    width: 32px;\n",
              "  }\n",
              "\n",
              "  .colab-df-quickchart:hover {\n",
              "    background-color: var(--hover-bg-color);\n",
              "    box-shadow: 0 1px 2px rgba(60, 64, 67, 0.3), 0 1px 3px 1px rgba(60, 64, 67, 0.15);\n",
              "    fill: var(--button-hover-fill-color);\n",
              "  }\n",
              "\n",
              "  .colab-df-quickchart-complete:disabled,\n",
              "  .colab-df-quickchart-complete:disabled:hover {\n",
              "    background-color: var(--disabled-bg-color);\n",
              "    fill: var(--disabled-fill-color);\n",
              "    box-shadow: none;\n",
              "  }\n",
              "\n",
              "  .colab-df-spinner {\n",
              "    border: 2px solid var(--fill-color);\n",
              "    border-color: transparent;\n",
              "    border-bottom-color: var(--fill-color);\n",
              "    animation:\n",
              "      spin 1s steps(1) infinite;\n",
              "  }\n",
              "\n",
              "  @keyframes spin {\n",
              "    0% {\n",
              "      border-color: transparent;\n",
              "      border-bottom-color: var(--fill-color);\n",
              "      border-left-color: var(--fill-color);\n",
              "    }\n",
              "    20% {\n",
              "      border-color: transparent;\n",
              "      border-left-color: var(--fill-color);\n",
              "      border-top-color: var(--fill-color);\n",
              "    }\n",
              "    30% {\n",
              "      border-color: transparent;\n",
              "      border-left-color: var(--fill-color);\n",
              "      border-top-color: var(--fill-color);\n",
              "      border-right-color: var(--fill-color);\n",
              "    }\n",
              "    40% {\n",
              "      border-color: transparent;\n",
              "      border-right-color: var(--fill-color);\n",
              "      border-top-color: var(--fill-color);\n",
              "    }\n",
              "    60% {\n",
              "      border-color: transparent;\n",
              "      border-right-color: var(--fill-color);\n",
              "    }\n",
              "    80% {\n",
              "      border-color: transparent;\n",
              "      border-right-color: var(--fill-color);\n",
              "      border-bottom-color: var(--fill-color);\n",
              "    }\n",
              "    90% {\n",
              "      border-color: transparent;\n",
              "      border-bottom-color: var(--fill-color);\n",
              "    }\n",
              "  }\n",
              "</style>\n",
              "\n",
              "  <script>\n",
              "    async function quickchart(key) {\n",
              "      const quickchartButtonEl =\n",
              "        document.querySelector('#' + key + ' button');\n",
              "      quickchartButtonEl.disabled = true;  // To prevent multiple clicks.\n",
              "      quickchartButtonEl.classList.add('colab-df-spinner');\n",
              "      try {\n",
              "        const charts = await google.colab.kernel.invokeFunction(\n",
              "            'suggestCharts', [key], {});\n",
              "      } catch (error) {\n",
              "        console.error('Error during call to suggestCharts:', error);\n",
              "      }\n",
              "      quickchartButtonEl.classList.remove('colab-df-spinner');\n",
              "      quickchartButtonEl.classList.add('colab-df-quickchart-complete');\n",
              "    }\n",
              "    (() => {\n",
              "      let quickchartButtonEl =\n",
              "        document.querySelector('#df-85164cb5-8c2b-4551-b8fc-4570efa68fc4 button');\n",
              "      quickchartButtonEl.style.display =\n",
              "        google.colab.kernel.accessAllowed ? 'block' : 'none';\n",
              "    })();\n",
              "  </script>\n",
              "</div>\n",
              "\n",
              "    </div>\n",
              "  </div>\n"
            ]
          },
          "metadata": {},
          "execution_count": 19
        }
      ]
    },
    {
      "cell_type": "markdown",
      "source": [
        "Dessa forma, podemos entender que a população nada mais é que um conjunto completo de elementos ou dados."
      ],
      "metadata": {
        "id": "FfBa_ALHI9G-"
      }
    },
    {
      "cell_type": "markdown",
      "source": [
        "### **Amostra**"
      ],
      "metadata": {
        "id": "5szm3RgDJcrM"
      }
    },
    {
      "cell_type": "markdown",
      "source": [
        "Amostra é um subconjunto da população que você coleta para fazer inferências sobre a população como um todo."
      ],
      "metadata": {
        "id": "-5I-OlA7JiOK"
      }
    },
    {
      "cell_type": "markdown",
      "source": [
        "Agora que já temos a nossa população, vamos realizar uma amostragem aleatória simples."
      ],
      "metadata": {
        "id": "kwvIqSk7J3cn"
      }
    },
    {
      "cell_type": "markdown",
      "source": [
        "#### **Amostragem Aleatória Simples**"
      ],
      "metadata": {
        "id": "nDmQDiU7KLdk"
      }
    },
    {
      "cell_type": "markdown",
      "source": [
        "A amostragem aleatória simples é um método de amostragem em que cada indivíduo da população tem a mesma chance de ser selecionado.\n",
        "\n",
        "**Vantagens da Amostragem Aleatória Simples:**\n",
        "\n",
        "- Representatividade: A amostragem aleatória simples tende a representar de forma justa a diversidade da população.\n",
        "\n",
        "- Simplicidade: É fácil de entender e implementar, não requer conhecimento prévio sobre a população.\n",
        "\n",
        "- Redução de Viés: Minimiza o risco de viés na seleção da amostra, pois cada elemento tem a mesma chance de ser escolhido.\n",
        "\n",
        "**Desvantagens da Amostragem Aleatória Simples:**\n",
        "\n",
        "- Ineficiência em Populações Pequenas: Em populações pequenas, pode não ser tão eficaz, pois a probabilidade de seleção pode resultar em amostras não tão representativas.\n",
        "\n",
        "- Dificuldade com Elementos Raros: Pode ter dificuldade em capturar elementos raros se a amostra não for grande o suficiente."
      ],
      "metadata": {
        "id": "DKq6sufuKQmM"
      }
    },
    {
      "cell_type": "markdown",
      "source": [
        "Agora que já entendemos um pouco do conceito, seus prós e contras, vamos observar como é a aplicabilidade dessa amostragem."
      ],
      "metadata": {
        "id": "G8JmONsCLBGX"
      }
    },
    {
      "cell_type": "code",
      "source": [
        "# Selecionar uma amostra aleatória simples de tamanho 1000\n",
        "amostragem_simples = populacao.sample(438)"
      ],
      "metadata": {
        "id": "vbfSg9v3LROL"
      },
      "execution_count": 20,
      "outputs": []
    },
    {
      "cell_type": "markdown",
      "source": [
        "Dessa forma, selecionamos aleatoriamente 438 indivíduos dessa base de dados. Como utilizamos a amostragem simples, todos os indivíduos tiveram a mesma chance de serem escolhidos. Vamos observar as dimensões dessa amostra."
      ],
      "metadata": {
        "id": "zfmlHSqgMrei"
      }
    },
    {
      "cell_type": "code",
      "source": [
        "# Observando as dimenções\n",
        "amostragem_simples.shape"
      ],
      "metadata": {
        "colab": {
          "base_uri": "https://localhost:8080/"
        },
        "id": "O-rd5LcyMg8T",
        "outputId": "12cf8f83-cf74-47a7-d1cd-fe945617011b"
      },
      "execution_count": 21,
      "outputs": [
        {
          "output_type": "execute_result",
          "data": {
            "text/plain": [
              "(438, 12)"
            ]
          },
          "metadata": {},
          "execution_count": 21
        }
      ]
    },
    {
      "cell_type": "markdown",
      "source": [
        "Aqui podemos confirmar que a nossa amostragem foi um sucesso. Vamos observar rapidamente os primeiros registros presentes na amostra."
      ],
      "metadata": {
        "id": "bY900KiYNB4P"
      }
    },
    {
      "cell_type": "code",
      "source": [
        "# Observando os primeiros registros\n",
        "amostragem_simples.head()"
      ],
      "metadata": {
        "colab": {
          "base_uri": "https://localhost:8080/",
          "height": 0
        },
        "id": "8yNN5xJjNHpf",
        "outputId": "745b58df-3f20-4759-ea79-cf4e3603959d"
      },
      "execution_count": 22,
      "outputs": [
        {
          "output_type": "execute_result",
          "data": {
            "text/plain": [
              "      Unnamed: 0  SalePrice  OverallQual  OverallCond  BedroomAbvGr  \\\n",
              "1459        1459     147500            5            6             3   \n",
              "1375        1375     239000            8            5             3   \n",
              "1416        1416     122500            4            6             4   \n",
              "700          700     312500            8            5             3   \n",
              "637          637      93000            5            4             3   \n",
              "\n",
              "      TotRmsAbvGrd  GrLivArea  TotalBsmtSF  YearBuilt MSZoning Utilities  \\\n",
              "1459             6       1256         1256       1965       RL    AllPub   \n",
              "1375             7       1571         1571       2007       RL    AllPub   \n",
              "1416            11       2290          777       1885       RM    AllPub   \n",
              "700              7       1800         1800       2002       RL    AllPub   \n",
              "637              7       1387          811       1954       RM    AllPub   \n",
              "\n",
              "     BldgType  \n",
              "1459     1Fam  \n",
              "1375     1Fam  \n",
              "1416   2fmCon  \n",
              "700      1Fam  \n",
              "637    2fmCon  "
            ],
            "text/html": [
              "\n",
              "  <div id=\"df-c1deb18b-3c90-4e3a-8029-aac7fed0ddb7\" class=\"colab-df-container\">\n",
              "    <div>\n",
              "<style scoped>\n",
              "    .dataframe tbody tr th:only-of-type {\n",
              "        vertical-align: middle;\n",
              "    }\n",
              "\n",
              "    .dataframe tbody tr th {\n",
              "        vertical-align: top;\n",
              "    }\n",
              "\n",
              "    .dataframe thead th {\n",
              "        text-align: right;\n",
              "    }\n",
              "</style>\n",
              "<table border=\"1\" class=\"dataframe\">\n",
              "  <thead>\n",
              "    <tr style=\"text-align: right;\">\n",
              "      <th></th>\n",
              "      <th>Unnamed: 0</th>\n",
              "      <th>SalePrice</th>\n",
              "      <th>OverallQual</th>\n",
              "      <th>OverallCond</th>\n",
              "      <th>BedroomAbvGr</th>\n",
              "      <th>TotRmsAbvGrd</th>\n",
              "      <th>GrLivArea</th>\n",
              "      <th>TotalBsmtSF</th>\n",
              "      <th>YearBuilt</th>\n",
              "      <th>MSZoning</th>\n",
              "      <th>Utilities</th>\n",
              "      <th>BldgType</th>\n",
              "    </tr>\n",
              "  </thead>\n",
              "  <tbody>\n",
              "    <tr>\n",
              "      <th>1459</th>\n",
              "      <td>1459</td>\n",
              "      <td>147500</td>\n",
              "      <td>5</td>\n",
              "      <td>6</td>\n",
              "      <td>3</td>\n",
              "      <td>6</td>\n",
              "      <td>1256</td>\n",
              "      <td>1256</td>\n",
              "      <td>1965</td>\n",
              "      <td>RL</td>\n",
              "      <td>AllPub</td>\n",
              "      <td>1Fam</td>\n",
              "    </tr>\n",
              "    <tr>\n",
              "      <th>1375</th>\n",
              "      <td>1375</td>\n",
              "      <td>239000</td>\n",
              "      <td>8</td>\n",
              "      <td>5</td>\n",
              "      <td>3</td>\n",
              "      <td>7</td>\n",
              "      <td>1571</td>\n",
              "      <td>1571</td>\n",
              "      <td>2007</td>\n",
              "      <td>RL</td>\n",
              "      <td>AllPub</td>\n",
              "      <td>1Fam</td>\n",
              "    </tr>\n",
              "    <tr>\n",
              "      <th>1416</th>\n",
              "      <td>1416</td>\n",
              "      <td>122500</td>\n",
              "      <td>4</td>\n",
              "      <td>6</td>\n",
              "      <td>4</td>\n",
              "      <td>11</td>\n",
              "      <td>2290</td>\n",
              "      <td>777</td>\n",
              "      <td>1885</td>\n",
              "      <td>RM</td>\n",
              "      <td>AllPub</td>\n",
              "      <td>2fmCon</td>\n",
              "    </tr>\n",
              "    <tr>\n",
              "      <th>700</th>\n",
              "      <td>700</td>\n",
              "      <td>312500</td>\n",
              "      <td>8</td>\n",
              "      <td>5</td>\n",
              "      <td>3</td>\n",
              "      <td>7</td>\n",
              "      <td>1800</td>\n",
              "      <td>1800</td>\n",
              "      <td>2002</td>\n",
              "      <td>RL</td>\n",
              "      <td>AllPub</td>\n",
              "      <td>1Fam</td>\n",
              "    </tr>\n",
              "    <tr>\n",
              "      <th>637</th>\n",
              "      <td>637</td>\n",
              "      <td>93000</td>\n",
              "      <td>5</td>\n",
              "      <td>4</td>\n",
              "      <td>3</td>\n",
              "      <td>7</td>\n",
              "      <td>1387</td>\n",
              "      <td>811</td>\n",
              "      <td>1954</td>\n",
              "      <td>RM</td>\n",
              "      <td>AllPub</td>\n",
              "      <td>2fmCon</td>\n",
              "    </tr>\n",
              "  </tbody>\n",
              "</table>\n",
              "</div>\n",
              "    <div class=\"colab-df-buttons\">\n",
              "\n",
              "  <div class=\"colab-df-container\">\n",
              "    <button class=\"colab-df-convert\" onclick=\"convertToInteractive('df-c1deb18b-3c90-4e3a-8029-aac7fed0ddb7')\"\n",
              "            title=\"Convert this dataframe to an interactive table.\"\n",
              "            style=\"display:none;\">\n",
              "\n",
              "  <svg xmlns=\"http://www.w3.org/2000/svg\" height=\"24px\" viewBox=\"0 -960 960 960\">\n",
              "    <path d=\"M120-120v-720h720v720H120Zm60-500h600v-160H180v160Zm220 220h160v-160H400v160Zm0 220h160v-160H400v160ZM180-400h160v-160H180v160Zm440 0h160v-160H620v160ZM180-180h160v-160H180v160Zm440 0h160v-160H620v160Z\"/>\n",
              "  </svg>\n",
              "    </button>\n",
              "\n",
              "  <style>\n",
              "    .colab-df-container {\n",
              "      display:flex;\n",
              "      gap: 12px;\n",
              "    }\n",
              "\n",
              "    .colab-df-convert {\n",
              "      background-color: #E8F0FE;\n",
              "      border: none;\n",
              "      border-radius: 50%;\n",
              "      cursor: pointer;\n",
              "      display: none;\n",
              "      fill: #1967D2;\n",
              "      height: 32px;\n",
              "      padding: 0 0 0 0;\n",
              "      width: 32px;\n",
              "    }\n",
              "\n",
              "    .colab-df-convert:hover {\n",
              "      background-color: #E2EBFA;\n",
              "      box-shadow: 0px 1px 2px rgba(60, 64, 67, 0.3), 0px 1px 3px 1px rgba(60, 64, 67, 0.15);\n",
              "      fill: #174EA6;\n",
              "    }\n",
              "\n",
              "    .colab-df-buttons div {\n",
              "      margin-bottom: 4px;\n",
              "    }\n",
              "\n",
              "    [theme=dark] .colab-df-convert {\n",
              "      background-color: #3B4455;\n",
              "      fill: #D2E3FC;\n",
              "    }\n",
              "\n",
              "    [theme=dark] .colab-df-convert:hover {\n",
              "      background-color: #434B5C;\n",
              "      box-shadow: 0px 1px 3px 1px rgba(0, 0, 0, 0.15);\n",
              "      filter: drop-shadow(0px 1px 2px rgba(0, 0, 0, 0.3));\n",
              "      fill: #FFFFFF;\n",
              "    }\n",
              "  </style>\n",
              "\n",
              "    <script>\n",
              "      const buttonEl =\n",
              "        document.querySelector('#df-c1deb18b-3c90-4e3a-8029-aac7fed0ddb7 button.colab-df-convert');\n",
              "      buttonEl.style.display =\n",
              "        google.colab.kernel.accessAllowed ? 'block' : 'none';\n",
              "\n",
              "      async function convertToInteractive(key) {\n",
              "        const element = document.querySelector('#df-c1deb18b-3c90-4e3a-8029-aac7fed0ddb7');\n",
              "        const dataTable =\n",
              "          await google.colab.kernel.invokeFunction('convertToInteractive',\n",
              "                                                    [key], {});\n",
              "        if (!dataTable) return;\n",
              "\n",
              "        const docLinkHtml = 'Like what you see? Visit the ' +\n",
              "          '<a target=\"_blank\" href=https://colab.research.google.com/notebooks/data_table.ipynb>data table notebook</a>'\n",
              "          + ' to learn more about interactive tables.';\n",
              "        element.innerHTML = '';\n",
              "        dataTable['output_type'] = 'display_data';\n",
              "        await google.colab.output.renderOutput(dataTable, element);\n",
              "        const docLink = document.createElement('div');\n",
              "        docLink.innerHTML = docLinkHtml;\n",
              "        element.appendChild(docLink);\n",
              "      }\n",
              "    </script>\n",
              "  </div>\n",
              "\n",
              "\n",
              "<div id=\"df-674152c2-ced9-419c-b973-9fa5ceb964d2\">\n",
              "  <button class=\"colab-df-quickchart\" onclick=\"quickchart('df-674152c2-ced9-419c-b973-9fa5ceb964d2')\"\n",
              "            title=\"Suggest charts\"\n",
              "            style=\"display:none;\">\n",
              "\n",
              "<svg xmlns=\"http://www.w3.org/2000/svg\" height=\"24px\"viewBox=\"0 0 24 24\"\n",
              "     width=\"24px\">\n",
              "    <g>\n",
              "        <path d=\"M19 3H5c-1.1 0-2 .9-2 2v14c0 1.1.9 2 2 2h14c1.1 0 2-.9 2-2V5c0-1.1-.9-2-2-2zM9 17H7v-7h2v7zm4 0h-2V7h2v10zm4 0h-2v-4h2v4z\"/>\n",
              "    </g>\n",
              "</svg>\n",
              "  </button>\n",
              "\n",
              "<style>\n",
              "  .colab-df-quickchart {\n",
              "      --bg-color: #E8F0FE;\n",
              "      --fill-color: #1967D2;\n",
              "      --hover-bg-color: #E2EBFA;\n",
              "      --hover-fill-color: #174EA6;\n",
              "      --disabled-fill-color: #AAA;\n",
              "      --disabled-bg-color: #DDD;\n",
              "  }\n",
              "\n",
              "  [theme=dark] .colab-df-quickchart {\n",
              "      --bg-color: #3B4455;\n",
              "      --fill-color: #D2E3FC;\n",
              "      --hover-bg-color: #434B5C;\n",
              "      --hover-fill-color: #FFFFFF;\n",
              "      --disabled-bg-color: #3B4455;\n",
              "      --disabled-fill-color: #666;\n",
              "  }\n",
              "\n",
              "  .colab-df-quickchart {\n",
              "    background-color: var(--bg-color);\n",
              "    border: none;\n",
              "    border-radius: 50%;\n",
              "    cursor: pointer;\n",
              "    display: none;\n",
              "    fill: var(--fill-color);\n",
              "    height: 32px;\n",
              "    padding: 0;\n",
              "    width: 32px;\n",
              "  }\n",
              "\n",
              "  .colab-df-quickchart:hover {\n",
              "    background-color: var(--hover-bg-color);\n",
              "    box-shadow: 0 1px 2px rgba(60, 64, 67, 0.3), 0 1px 3px 1px rgba(60, 64, 67, 0.15);\n",
              "    fill: var(--button-hover-fill-color);\n",
              "  }\n",
              "\n",
              "  .colab-df-quickchart-complete:disabled,\n",
              "  .colab-df-quickchart-complete:disabled:hover {\n",
              "    background-color: var(--disabled-bg-color);\n",
              "    fill: var(--disabled-fill-color);\n",
              "    box-shadow: none;\n",
              "  }\n",
              "\n",
              "  .colab-df-spinner {\n",
              "    border: 2px solid var(--fill-color);\n",
              "    border-color: transparent;\n",
              "    border-bottom-color: var(--fill-color);\n",
              "    animation:\n",
              "      spin 1s steps(1) infinite;\n",
              "  }\n",
              "\n",
              "  @keyframes spin {\n",
              "    0% {\n",
              "      border-color: transparent;\n",
              "      border-bottom-color: var(--fill-color);\n",
              "      border-left-color: var(--fill-color);\n",
              "    }\n",
              "    20% {\n",
              "      border-color: transparent;\n",
              "      border-left-color: var(--fill-color);\n",
              "      border-top-color: var(--fill-color);\n",
              "    }\n",
              "    30% {\n",
              "      border-color: transparent;\n",
              "      border-left-color: var(--fill-color);\n",
              "      border-top-color: var(--fill-color);\n",
              "      border-right-color: var(--fill-color);\n",
              "    }\n",
              "    40% {\n",
              "      border-color: transparent;\n",
              "      border-right-color: var(--fill-color);\n",
              "      border-top-color: var(--fill-color);\n",
              "    }\n",
              "    60% {\n",
              "      border-color: transparent;\n",
              "      border-right-color: var(--fill-color);\n",
              "    }\n",
              "    80% {\n",
              "      border-color: transparent;\n",
              "      border-right-color: var(--fill-color);\n",
              "      border-bottom-color: var(--fill-color);\n",
              "    }\n",
              "    90% {\n",
              "      border-color: transparent;\n",
              "      border-bottom-color: var(--fill-color);\n",
              "    }\n",
              "  }\n",
              "</style>\n",
              "\n",
              "  <script>\n",
              "    async function quickchart(key) {\n",
              "      const quickchartButtonEl =\n",
              "        document.querySelector('#' + key + ' button');\n",
              "      quickchartButtonEl.disabled = true;  // To prevent multiple clicks.\n",
              "      quickchartButtonEl.classList.add('colab-df-spinner');\n",
              "      try {\n",
              "        const charts = await google.colab.kernel.invokeFunction(\n",
              "            'suggestCharts', [key], {});\n",
              "      } catch (error) {\n",
              "        console.error('Error during call to suggestCharts:', error);\n",
              "      }\n",
              "      quickchartButtonEl.classList.remove('colab-df-spinner');\n",
              "      quickchartButtonEl.classList.add('colab-df-quickchart-complete');\n",
              "    }\n",
              "    (() => {\n",
              "      let quickchartButtonEl =\n",
              "        document.querySelector('#df-674152c2-ced9-419c-b973-9fa5ceb964d2 button');\n",
              "      quickchartButtonEl.style.display =\n",
              "        google.colab.kernel.accessAllowed ? 'block' : 'none';\n",
              "    })();\n",
              "  </script>\n",
              "</div>\n",
              "\n",
              "    </div>\n",
              "  </div>\n"
            ]
          },
          "metadata": {},
          "execution_count": 22
        }
      ]
    },
    {
      "cell_type": "markdown",
      "source": [
        "#### **Amostragem Estratificada**"
      ],
      "metadata": {
        "id": "f8naKB3LNxFx"
      }
    },
    {
      "cell_type": "markdown",
      "source": [
        "A amostragem estratificada é um método de amostragem em que a população é dividida em subgrupos (estratos) e, em seguida, uma amostra aleatória é selecionada de cada estrato.\n",
        "\n"
      ],
      "metadata": {
        "id": "TMDxPWTGT0A9"
      }
    },
    {
      "cell_type": "markdown",
      "source": [
        "**Vantagens da Amostragem Estratificada:**\n",
        "\n",
        "- Representatividade Aprimorada: Garante que subgrupos importantes da população sejam representados proporcionalmente na amostra.\n",
        "\n",
        "- Precisão Estatística: Reduz a variabilidade e aumenta a precisão das estimativas, especialmente quando há diferenças significativas entre estratos.\n",
        "\n",
        "- Eficiência em Subpopulações: É eficaz em populações heterogêneas, onde a variabilidade interna é alta.\n",
        "\n",
        "**Desvantagens da Amostragem Estratificada:**\n",
        "\n",
        "- Complexidade na Implementação: Pode ser mais complexa de administrar e requer conhecimento prévio sobre a população para identificar estratos apropriados.\n",
        "\n",
        "- Possíveis Dificuldades na Classificação: Determinar corretamente a estratificação pode ser desafiador, e classificar os elementos em estratos pode\n",
        "envolver subjetividade.\n"
      ],
      "metadata": {
        "id": "6LfuRY_hNvIz"
      }
    },
    {
      "cell_type": "markdown",
      "source": [
        "Para nos auxiliar com esse tipo de amostragem, vamos importar uma biblioteca."
      ],
      "metadata": {
        "id": "xJzgszU1UJZp"
      }
    },
    {
      "cell_type": "code",
      "source": [
        "# Importando a biblioteca para realizar a 'estratificação'\n",
        "from sklearn.model_selection import StratifiedShuffleSplit"
      ],
      "metadata": {
        "id": "3YuOsHq-UPHK"
      },
      "execution_count": null,
      "outputs": []
    },
    {
      "cell_type": "markdown",
      "source": [
        "Agora, antes de aplicarmos essa técnica propriamente dita, vamos imaginar como queremos realizar a separação dos grupos, que são os estratos."
      ],
      "metadata": {
        "id": "kcZyblq3UW0Z"
      }
    },
    {
      "cell_type": "markdown",
      "source": [
        "Vamos criar grupos com base no \"SalePrice\". Para isso, vamos observar as medidas referentes a essa coluna."
      ],
      "metadata": {
        "id": "3Din3sbBVW9Z"
      }
    },
    {
      "cell_type": "code",
      "source": [
        "# Calculando a média\n",
        "media_sale = populacao['SalePrice'].mean()\n",
        "\n",
        "# Calculando a mediana\n",
        "mediana_sale = populacao['SalePrice'].median()\n",
        "\n",
        "# Exibindo os valores\n",
        "print(f\" Média: {media_sale}\\n Mediana: {mediana_sale}\")"
      ],
      "metadata": {
        "colab": {
          "base_uri": "https://localhost:8080/"
        },
        "id": "jCWMMxLJY5qs",
        "outputId": "a4d40d80-269b-4fb6-c954-5f75e76b0fc2"
      },
      "execution_count": null,
      "outputs": [
        {
          "output_type": "stream",
          "name": "stdout",
          "text": [
            " Média: 180921.19589041095\n",
            " Mediana: 163000.0\n"
          ]
        }
      ]
    },
    {
      "cell_type": "markdown",
      "source": [
        "Existe uma diferença entre a média e a mediana. Vamos observar um boxplot dessa coluna para observar a presença de outliers."
      ],
      "metadata": {
        "id": "3TVy_u09bffK"
      }
    },
    {
      "cell_type": "code",
      "source": [
        "# Observando o boxplot\n",
        "sns.boxplot(populacao['SalePrice']);"
      ],
      "metadata": {
        "colab": {
          "base_uri": "https://localhost:8080/",
          "height": 414
        },
        "id": "WLOYmuo5ZI6L",
        "outputId": "bc753b43-d734-4358-b9c2-0c477c36d877"
      },
      "execution_count": null,
      "outputs": [
        {
          "output_type": "display_data",
          "data": {
            "text/plain": [
              "<Figure size 640x480 with 1 Axes>"
            ],
            "image/png": "[encoded data removed]"
          },
          "metadata": {}
        }
      ]
    },
    {
      "cell_type": "markdown",
      "source": [
        "Aqui podemos confirmar que a presença de outliers está estiçando a média dessa variável. Porém, é possível que essas casas mais caras tenham características interessantes para a nossa amostragem. Então, nesse caso, utilizaremos a média."
      ],
      "metadata": {
        "id": "RxSOxfA1bqov"
      }
    },
    {
      "cell_type": "markdown",
      "source": [
        "A ideia é criar uma variável categórica onde, para os valores de venda acima da média, será atribuído o valor > 180k. Quando isso não ocorrer, o valor será < 180k. Dito isso, podemos seguir adiante."
      ],
      "metadata": {
        "id": "RD87lNTTb1cP"
      }
    },
    {
      "cell_type": "code",
      "source": [
        "# Criando a variável categórica com base na condição\n",
        "populacao['Cat_price'] = np.where(populacao['SalePrice'] > media_sale, '>180k', '<180k')"
      ],
      "metadata": {
        "id": "lm3UssfbZPyy"
      },
      "execution_count": null,
      "outputs": []
    },
    {
      "cell_type": "markdown",
      "source": [
        "Vamos observar como ficou o nosso dataset."
      ],
      "metadata": {
        "id": "w74GMKNhc7rP"
      }
    },
    {
      "cell_type": "code",
      "source": [
        "# Observando os registros\n",
        "populacao.head()"
      ],
      "metadata": {
        "colab": {
          "base_uri": "https://localhost:8080/",
          "height": 206
        },
        "id": "-tACkPODdFGk",
        "outputId": "e5b57595-4cb7-4b85-bcf2-d90391f59bbf"
      },
      "execution_count": null,
      "outputs": [
        {
          "output_type": "execute_result",
          "data": {
            "text/plain": [
              "   Unnamed: 0  SalePrice  OverallQual  OverallCond  BedroomAbvGr  \\\n",
              "0           0     208500            7            5             3   \n",
              "1           1     181500            6            8             3   \n",
              "2           2     223500            7            5             3   \n",
              "3           3     140000            7            5             3   \n",
              "4           4     250000            8            5             4   \n",
              "\n",
              "   TotRmsAbvGrd  GrLivArea  TotalBsmtSF  YearBuilt MSZoning Utilities  \\\n",
              "0             8       1710          856       2003       RL    AllPub   \n",
              "1             6       1262         1262       1976       RL    AllPub   \n",
              "2             6       1786          920       2001       RL    AllPub   \n",
              "3             7       1717          756       1915       RL    AllPub   \n",
              "4             9       2198         1145       2000       RL    AllPub   \n",
              "\n",
              "  BldgType Cat_price  \n",
              "0     1Fam     >180k  \n",
              "1     1Fam     >180k  \n",
              "2     1Fam     >180k  \n",
              "3     1Fam     <180k  \n",
              "4     1Fam     >180k  "
            ],
            "text/html": [
              "\n",
              "  <div id=\"df-8a4dff68-b542-450b-a75f-d75fbabcd0cd\" class=\"colab-df-container\">\n",
              "    <div>\n",
              "<style scoped>\n",
              "    .dataframe tbody tr th:only-of-type {\n",
              "        vertical-align: middle;\n",
              "    }\n",
              "\n",
              "    .dataframe tbody tr th {\n",
              "        vertical-align: top;\n",
              "    }\n",
              "\n",
              "    .dataframe thead th {\n",
              "        text-align: right;\n",
              "    }\n",
              "</style>\n",
              "<table border=\"1\" class=\"dataframe\">\n",
              "  <thead>\n",
              "    <tr style=\"text-align: right;\">\n",
              "      <th></th>\n",
              "      <th>Unnamed: 0</th>\n",
              "      <th>SalePrice</th>\n",
              "      <th>OverallQual</th>\n",
              "      <th>OverallCond</th>\n",
              "      <th>BedroomAbvGr</th>\n",
              "      <th>TotRmsAbvGrd</th>\n",
              "      <th>GrLivArea</th>\n",
              "      <th>TotalBsmtSF</th>\n",
              "      <th>YearBuilt</th>\n",
              "      <th>MSZoning</th>\n",
              "      <th>Utilities</th>\n",
              "      <th>BldgType</th>\n",
              "      <th>Cat_price</th>\n",
              "    </tr>\n",
              "  </thead>\n",
              "  <tbody>\n",
              "    <tr>\n",
              "      <th>0</th>\n",
              "      <td>0</td>\n",
              "      <td>208500</td>\n",
              "      <td>7</td>\n",
              "      <td>5</td>\n",
              "      <td>3</td>\n",
              "      <td>8</td>\n",
              "      <td>1710</td>\n",
              "      <td>856</td>\n",
              "      <td>2003</td>\n",
              "      <td>RL</td>\n",
              "      <td>AllPub</td>\n",
              "      <td>1Fam</td>\n",
              "      <td>&gt;180k</td>\n",
              "    </tr>\n",
              "    <tr>\n",
              "      <th>1</th>\n",
              "      <td>1</td>\n",
              "      <td>181500</td>\n",
              "      <td>6</td>\n",
              "      <td>8</td>\n",
              "      <td>3</td>\n",
              "      <td>6</td>\n",
              "      <td>1262</td>\n",
              "      <td>1262</td>\n",
              "      <td>1976</td>\n",
              "      <td>RL</td>\n",
              "      <td>AllPub</td>\n",
              "      <td>1Fam</td>\n",
              "      <td>&gt;180k</td>\n",
              "    </tr>\n",
              "    <tr>\n",
              "      <th>2</th>\n",
              "      <td>2</td>\n",
              "      <td>223500</td>\n",
              "      <td>7</td>\n",
              "      <td>5</td>\n",
              "      <td>3</td>\n",
              "      <td>6</td>\n",
              "      <td>1786</td>\n",
              "      <td>920</td>\n",
              "      <td>2001</td>\n",
              "      <td>RL</td>\n",
              "      <td>AllPub</td>\n",
              "      <td>1Fam</td>\n",
              "      <td>&gt;180k</td>\n",
              "    </tr>\n",
              "    <tr>\n",
              "      <th>3</th>\n",
              "      <td>3</td>\n",
              "      <td>140000</td>\n",
              "      <td>7</td>\n",
              "      <td>5</td>\n",
              "      <td>3</td>\n",
              "      <td>7</td>\n",
              "      <td>1717</td>\n",
              "      <td>756</td>\n",
              "      <td>1915</td>\n",
              "      <td>RL</td>\n",
              "      <td>AllPub</td>\n",
              "      <td>1Fam</td>\n",
              "      <td>&lt;180k</td>\n",
              "    </tr>\n",
              "    <tr>\n",
              "      <th>4</th>\n",
              "      <td>4</td>\n",
              "      <td>250000</td>\n",
              "      <td>8</td>\n",
              "      <td>5</td>\n",
              "      <td>4</td>\n",
              "      <td>9</td>\n",
              "      <td>2198</td>\n",
              "      <td>1145</td>\n",
              "      <td>2000</td>\n",
              "      <td>RL</td>\n",
              "      <td>AllPub</td>\n",
              "      <td>1Fam</td>\n",
              "      <td>&gt;180k</td>\n",
              "    </tr>\n",
              "  </tbody>\n",
              "</table>\n",
              "</div>\n",
              "    <div class=\"colab-df-buttons\">\n",
              "\n",
              "  <div class=\"colab-df-container\">\n",
              "    <button class=\"colab-df-convert\" onclick=\"convertToInteractive('df-8a4dff68-b542-450b-a75f-d75fbabcd0cd')\"\n",
              "            title=\"Convert this dataframe to an interactive table.\"\n",
              "            style=\"display:none;\">\n",
              "\n",
              "  <svg xmlns=\"http://www.w3.org/2000/svg\" height=\"24px\" viewBox=\"0 -960 960 960\">\n",
              "    <path d=\"M120-120v-720h720v720H120Zm60-500h600v-160H180v160Zm220 220h160v-160H400v160Zm0 220h160v-160H400v160ZM180-400h160v-160H180v160Zm440 0h160v-160H620v160ZM180-180h160v-160H180v160Zm440 0h160v-160H620v160Z\"/>\n",
              "  </svg>\n",
              "    </button>\n",
              "\n",
              "  <style>\n",
              "    .colab-df-container {\n",
              "      display:flex;\n",
              "      gap: 12px;\n",
              "    }\n",
              "\n",
              "    .colab-df-convert {\n",
              "      background-color: #E8F0FE;\n",
              "      border: none;\n",
              "      border-radius: 50%;\n",
              "      cursor: pointer;\n",
              "      display: none;\n",
              "      fill: #1967D2;\n",
              "      height: 32px;\n",
              "      padding: 0 0 0 0;\n",
              "      width: 32px;\n",
              "    }\n",
              "\n",
              "    .colab-df-convert:hover {\n",
              "      background-color: #E2EBFA;\n",
              "      box-shadow: 0px 1px 2px rgba(60, 64, 67, 0.3), 0px 1px 3px 1px rgba(60, 64, 67, 0.15);\n",
              "      fill: #174EA6;\n",
              "    }\n",
              "\n",
              "    .colab-df-buttons div {\n",
              "      margin-bottom: 4px;\n",
              "    }\n",
              "\n",
              "    [theme=dark] .colab-df-convert {\n",
              "      background-color: #3B4455;\n",
              "      fill: #D2E3FC;\n",
              "    }\n",
              "\n",
              "    [theme=dark] .colab-df-convert:hover {\n",
              "      background-color: #434B5C;\n",
              "      box-shadow: 0px 1px 3px 1px rgba(0, 0, 0, 0.15);\n",
              "      filter: drop-shadow(0px 1px 2px rgba(0, 0, 0, 0.3));\n",
              "      fill: #FFFFFF;\n",
              "    }\n",
              "  </style>\n",
              "\n",
              "    <script>\n",
              "      const buttonEl =\n",
              "        document.querySelector('#df-8a4dff68-b542-450b-a75f-d75fbabcd0cd button.colab-df-convert');\n",
              "      buttonEl.style.display =\n",
              "        google.colab.kernel.accessAllowed ? 'block' : 'none';\n",
              "\n",
              "      async function convertToInteractive(key) {\n",
              "        const element = document.querySelector('#df-8a4dff68-b542-450b-a75f-d75fbabcd0cd');\n",
              "        const dataTable =\n",
              "          await google.colab.kernel.invokeFunction('convertToInteractive',\n",
              "                                                    [key], {});\n",
              "        if (!dataTable) return;\n",
              "\n",
              "        const docLinkHtml = 'Like what you see? Visit the ' +\n",
              "          '<a target=\"_blank\" href=https://colab.research.google.com/notebooks/data_table.ipynb>data table notebook</a>'\n",
              "          + ' to learn more about interactive tables.';\n",
              "        element.innerHTML = '';\n",
              "        dataTable['output_type'] = 'display_data';\n",
              "        await google.colab.output.renderOutput(dataTable, element);\n",
              "        const docLink = document.createElement('div');\n",
              "        docLink.innerHTML = docLinkHtml;\n",
              "        element.appendChild(docLink);\n",
              "      }\n",
              "    </script>\n",
              "  </div>\n",
              "\n",
              "\n",
              "<div id=\"df-5042f9b8-7206-42ee-b7d9-397e7eea6723\">\n",
              "  <button class=\"colab-df-quickchart\" onclick=\"quickchart('df-5042f9b8-7206-42ee-b7d9-397e7eea6723')\"\n",
              "            title=\"Suggest charts\"\n",
              "            style=\"display:none;\">\n",
              "\n",
              "<svg xmlns=\"http://www.w3.org/2000/svg\" height=\"24px\"viewBox=\"0 0 24 24\"\n",
              "     width=\"24px\">\n",
              "    <g>\n",
              "        <path d=\"M19 3H5c-1.1 0-2 .9-2 2v14c0 1.1.9 2 2 2h14c1.1 0 2-.9 2-2V5c0-1.1-.9-2-2-2zM9 17H7v-7h2v7zm4 0h-2V7h2v10zm4 0h-2v-4h2v4z\"/>\n",
              "    </g>\n",
              "</svg>\n",
              "  </button>\n",
              "\n",
              "<style>\n",
              "  .colab-df-quickchart {\n",
              "      --bg-color: #E8F0FE;\n",
              "      --fill-color: #1967D2;\n",
              "      --hover-bg-color: #E2EBFA;\n",
              "      --hover-fill-color: #174EA6;\n",
              "      --disabled-fill-color: #AAA;\n",
              "      --disabled-bg-color: #DDD;\n",
              "  }\n",
              "\n",
              "  [theme=dark] .colab-df-quickchart {\n",
              "      --bg-color: #3B4455;\n",
              "      --fill-color: #D2E3FC;\n",
              "      --hover-bg-color: #434B5C;\n",
              "      --hover-fill-color: #FFFFFF;\n",
              "      --disabled-bg-color: #3B4455;\n",
              "      --disabled-fill-color: #666;\n",
              "  }\n",
              "\n",
              "  .colab-df-quickchart {\n",
              "    background-color: var(--bg-color);\n",
              "    border: none;\n",
              "    border-radius: 50%;\n",
              "    cursor: pointer;\n",
              "    display: none;\n",
              "    fill: var(--fill-color);\n",
              "    height: 32px;\n",
              "    padding: 0;\n",
              "    width: 32px;\n",
              "  }\n",
              "\n",
              "  .colab-df-quickchart:hover {\n",
              "    background-color: var(--hover-bg-color);\n",
              "    box-shadow: 0 1px 2px rgba(60, 64, 67, 0.3), 0 1px 3px 1px rgba(60, 64, 67, 0.15);\n",
              "    fill: var(--button-hover-fill-color);\n",
              "  }\n",
              "\n",
              "  .colab-df-quickchart-complete:disabled,\n",
              "  .colab-df-quickchart-complete:disabled:hover {\n",
              "    background-color: var(--disabled-bg-color);\n",
              "    fill: var(--disabled-fill-color);\n",
              "    box-shadow: none;\n",
              "  }\n",
              "\n",
              "  .colab-df-spinner {\n",
              "    border: 2px solid var(--fill-color);\n",
              "    border-color: transparent;\n",
              "    border-bottom-color: var(--fill-color);\n",
              "    animation:\n",
              "      spin 1s steps(1) infinite;\n",
              "  }\n",
              "\n",
              "  @keyframes spin {\n",
              "    0% {\n",
              "      border-color: transparent;\n",
              "      border-bottom-color: var(--fill-color);\n",
              "      border-left-color: var(--fill-color);\n",
              "    }\n",
              "    20% {\n",
              "      border-color: transparent;\n",
              "      border-left-color: var(--fill-color);\n",
              "      border-top-color: var(--fill-color);\n",
              "    }\n",
              "    30% {\n",
              "      border-color: transparent;\n",
              "      border-left-color: var(--fill-color);\n",
              "      border-top-color: var(--fill-color);\n",
              "      border-right-color: var(--fill-color);\n",
              "    }\n",
              "    40% {\n",
              "      border-color: transparent;\n",
              "      border-right-color: var(--fill-color);\n",
              "      border-top-color: var(--fill-color);\n",
              "    }\n",
              "    60% {\n",
              "      border-color: transparent;\n",
              "      border-right-color: var(--fill-color);\n",
              "    }\n",
              "    80% {\n",
              "      border-color: transparent;\n",
              "      border-right-color: var(--fill-color);\n",
              "      border-bottom-color: var(--fill-color);\n",
              "    }\n",
              "    90% {\n",
              "      border-color: transparent;\n",
              "      border-bottom-color: var(--fill-color);\n",
              "    }\n",
              "  }\n",
              "</style>\n",
              "\n",
              "  <script>\n",
              "    async function quickchart(key) {\n",
              "      const quickchartButtonEl =\n",
              "        document.querySelector('#' + key + ' button');\n",
              "      quickchartButtonEl.disabled = true;  // To prevent multiple clicks.\n",
              "      quickchartButtonEl.classList.add('colab-df-spinner');\n",
              "      try {\n",
              "        const charts = await google.colab.kernel.invokeFunction(\n",
              "            'suggestCharts', [key], {});\n",
              "      } catch (error) {\n",
              "        console.error('Error during call to suggestCharts:', error);\n",
              "      }\n",
              "      quickchartButtonEl.classList.remove('colab-df-spinner');\n",
              "      quickchartButtonEl.classList.add('colab-df-quickchart-complete');\n",
              "    }\n",
              "    (() => {\n",
              "      let quickchartButtonEl =\n",
              "        document.querySelector('#df-5042f9b8-7206-42ee-b7d9-397e7eea6723 button');\n",
              "      quickchartButtonEl.style.display =\n",
              "        google.colab.kernel.accessAllowed ? 'block' : 'none';\n",
              "    })();\n",
              "  </script>\n",
              "</div>\n",
              "\n",
              "    </div>\n",
              "  </div>\n"
            ]
          },
          "metadata": {},
          "execution_count": 30
        }
      ]
    },
    {
      "cell_type": "markdown",
      "source": [
        "Podemos observar que a variável realmente foi criada. Vamos observar os valores presentes nela."
      ],
      "metadata": {
        "id": "9SNStnJndK_N"
      }
    },
    {
      "cell_type": "code",
      "source": [
        "# Observando os valores\n",
        "populacao['Cat_price'].value_counts()"
      ],
      "metadata": {
        "colab": {
          "base_uri": "https://localhost:8080/"
        },
        "id": "lmBXqHwXdIlM",
        "outputId": "e9820957-b4db-4f67-c7bc-8ad71a627dca"
      },
      "execution_count": null,
      "outputs": [
        {
          "output_type": "execute_result",
          "data": {
            "text/plain": [
              "<180k    900\n",
              ">180k    560\n",
              "Name: Cat_price, dtype: int64"
            ]
          },
          "metadata": {},
          "execution_count": 31
        }
      ]
    },
    {
      "cell_type": "markdown",
      "source": [
        "Agora vamos calcular a porcentagem que esses valores representam na nossa base de dados."
      ],
      "metadata": {
        "id": "FN0s7dGCdeW6"
      }
    },
    {
      "cell_type": "code",
      "source": [
        "# Entendendo a porcentagem correspondente a cada valor na coluna\n",
        "percent_menor_180k = 900 / len(populacao)\n",
        "percent_maior_180k = 560 / len(populacao)\n",
        "\n",
        "print(f\"Porcentagem de preços acima de 180 mil dólares é: {round(percent_maior_180k, 2)}\")\n",
        "print(f\"Porcentagem de preços abaixo de 180 mil dólares é: {round(percent_menor_180k, 2)}\")"
      ],
      "metadata": {
        "colab": {
          "base_uri": "https://localhost:8080/"
        },
        "id": "s32mjX2idlIR",
        "outputId": "de4850d3-8742-41b6-fa2a-50743286f6c0"
      },
      "execution_count": null,
      "outputs": [
        {
          "output_type": "stream",
          "name": "stdout",
          "text": [
            "Porcentagem de preços acima de 180 mil dólares é: 0.38\n",
            "Porcentagem de preços abaixo de 180 mil dólares é: 0.62\n"
          ]
        }
      ]
    },
    {
      "cell_type": "markdown",
      "source": [
        "Dessa forma podemos observar que cerca de 62% da base possui valores de venda acima de 180 mil dólares e os 38% restantes possuem valor inferior a 180 mil dólares."
      ],
      "metadata": {
        "id": "a9r-ET9weMSt"
      }
    },
    {
      "cell_type": "markdown",
      "source": [
        "**Aplicando a amostragem estratificada**"
      ],
      "metadata": {
        "id": "zLG-D6jcHyab"
      }
    },
    {
      "cell_type": "markdown",
      "source": [
        "Criando a função para aplicação da amostragem."
      ],
      "metadata": {
        "id": "py-GZsMHH2Mh"
      }
    },
    {
      "cell_type": "code",
      "source": [
        "# Definindo a função\n",
        "def amostragem_estratificada(df, percentual):\n",
        "\n",
        "  # Aplicando a estratificação, o tamanho da amostra deve ser em percentual\n",
        "  split = StratifiedShuffleSplit(test_size = percentual, random_state = 6)\n",
        "\n",
        "  # Criando um loop para as divisões geradas pela estratificação\n",
        "  # Ignorando a primeira variável de retorno pois não será utilizada\n",
        "  # Armazenando quais índices estão sendo armazenados na amostra atual\n",
        "  for _, y in split.split(df, df['Cat_price']):\n",
        "\n",
        "    # Seleciona as linhas do DataFrame df que pertencem à amostra atual\n",
        "    df_y = df.iloc[y]\n",
        "\n",
        " # Retorna o DataFrame df_y contendo a amostra estratificada gerada.\n",
        "  return df_y"
      ],
      "metadata": {
        "id": "81iY0ZPjH3_Y"
      },
      "execution_count": null,
      "outputs": []
    },
    {
      "cell_type": "markdown",
      "source": [
        "Basicamente essa função realiza uma amostragem estratificada de um determinada DataFrame, garantindo que a proporção de diferentes valores da coluna seja mantida na amostra."
      ],
      "metadata": {
        "id": "j6OMSHnzH5Rh"
      }
    },
    {
      "cell_type": "markdown",
      "source": [
        "Para descobrirmos o percentual, será necessário realizar o seguinte passo."
      ],
      "metadata": {
        "id": "ZCslwV1rH6lo"
      }
    },
    {
      "cell_type": "code",
      "source": [
        "# Dividindo a quantidade de amostras que queremos pelo comprimento do nosso DataFrame.\n",
        "num_amostras = 438\n",
        "test_size_param = num_amostras / len(populacao)\n",
        "\n",
        "# Exibindo os valores\n",
        "print(test_size_param)"
      ],
      "metadata": {
        "colab": {
          "base_uri": "https://localhost:8080/"
        },
        "id": "rafDDmiCH7xg",
        "outputId": "3e43d6b6-54e6-44b2-aeb4-e28b7ccc50d8"
      },
      "execution_count": null,
      "outputs": [
        {
          "output_type": "stream",
          "name": "stdout",
          "text": [
            "0.3\n"
          ]
        }
      ]
    },
    {
      "cell_type": "markdown",
      "source": [
        "Agora vamos aplicar a função propriamente dita."
      ],
      "metadata": {
        "id": "q5xXK42rH9DR"
      }
    },
    {
      "cell_type": "code",
      "source": [
        "# Atribuindo os valores em uma nova variável\n",
        "amostragem_estratificada = amostragem_estratificada(populacao, 0.3)\n",
        "\n",
        "# Observando as dimensões\n",
        "amostragem_estratificada.shape"
      ],
      "metadata": {
        "colab": {
          "base_uri": "https://localhost:8080/"
        },
        "id": "HKbUlN7lH-0Q",
        "outputId": "df323750-d302-4908-b0c9-d4edc6edddc7"
      },
      "execution_count": null,
      "outputs": [
        {
          "output_type": "execute_result",
          "data": {
            "text/plain": [
              "(438, 13)"
            ]
          },
          "metadata": {},
          "execution_count": 35
        }
      ]
    },
    {
      "cell_type": "markdown",
      "source": [
        "Estamos coletando o mesmo número de amostras que a amostragem anterior. Podemos confirmar ao observarmos as dimensões dessa amostragem que a amostragem foi um sucesso."
      ],
      "metadata": {
        "id": "4a5M79Y5KKuY"
      }
    },
    {
      "cell_type": "code",
      "source": [
        "# Observando os primeiros registros\n",
        "amostragem_estratificada.head()"
      ],
      "metadata": {
        "colab": {
          "base_uri": "https://localhost:8080/",
          "height": 206
        },
        "id": "xn2USeSSKNEf",
        "outputId": "5cb73864-8bef-49d6-96e8-af09610133f6"
      },
      "execution_count": null,
      "outputs": [
        {
          "output_type": "execute_result",
          "data": {
            "text/plain": [
              "      Unnamed: 0  SalePrice  OverallQual  OverallCond  BedroomAbvGr  \\\n",
              "1381        1381     237500            6            7             4   \n",
              "155          155      79000            6            5             2   \n",
              "1399        1399     137450            6            6             3   \n",
              "499          499     120000            5            7             2   \n",
              "763          763     337000            8            5             3   \n",
              "\n",
              "      TotRmsAbvGrd  GrLivArea  TotalBsmtSF  YearBuilt MSZoning Utilities  \\\n",
              "1381             7       2117         1205       1970       RL    AllPub   \n",
              "155              5       1096          572       1924       RL    AllPub   \n",
              "1399             7       1608          976       1925       RL    AllPub   \n",
              "499              5        912          912       1958       RL    AllPub   \n",
              "763              8       2365         1252       1999       RL    AllPub   \n",
              "\n",
              "     BldgType Cat_price  \n",
              "1381     1Fam     >180k  \n",
              "155      1Fam     <180k  \n",
              "1399     1Fam     <180k  \n",
              "499      1Fam     <180k  \n",
              "763      1Fam     >180k  "
            ],
            "text/html": [
              "\n",
              "  <div id=\"df-517c98e8-e137-43ab-991c-b8b15002c575\" class=\"colab-df-container\">\n",
              "    <div>\n",
              "<style scoped>\n",
              "    .dataframe tbody tr th:only-of-type {\n",
              "        vertical-align: middle;\n",
              "    }\n",
              "\n",
              "    .dataframe tbody tr th {\n",
              "        vertical-align: top;\n",
              "    }\n",
              "\n",
              "    .dataframe thead th {\n",
              "        text-align: right;\n",
              "    }\n",
              "</style>\n",
              "<table border=\"1\" class=\"dataframe\">\n",
              "  <thead>\n",
              "    <tr style=\"text-align: right;\">\n",
              "      <th></th>\n",
              "      <th>Unnamed: 0</th>\n",
              "      <th>SalePrice</th>\n",
              "      <th>OverallQual</th>\n",
              "      <th>OverallCond</th>\n",
              "      <th>BedroomAbvGr</th>\n",
              "      <th>TotRmsAbvGrd</th>\n",
              "      <th>GrLivArea</th>\n",
              "      <th>TotalBsmtSF</th>\n",
              "      <th>YearBuilt</th>\n",
              "      <th>MSZoning</th>\n",
              "      <th>Utilities</th>\n",
              "      <th>BldgType</th>\n",
              "      <th>Cat_price</th>\n",
              "    </tr>\n",
              "  </thead>\n",
              "  <tbody>\n",
              "    <tr>\n",
              "      <th>1381</th>\n",
              "      <td>1381</td>\n",
              "      <td>237500</td>\n",
              "      <td>6</td>\n",
              "      <td>7</td>\n",
              "      <td>4</td>\n",
              "      <td>7</td>\n",
              "      <td>2117</td>\n",
              "      <td>1205</td>\n",
              "      <td>1970</td>\n",
              "      <td>RL</td>\n",
              "      <td>AllPub</td>\n",
              "      <td>1Fam</td>\n",
              "      <td>&gt;180k</td>\n",
              "    </tr>\n",
              "    <tr>\n",
              "      <th>155</th>\n",
              "      <td>155</td>\n",
              "      <td>79000</td>\n",
              "      <td>6</td>\n",
              "      <td>5</td>\n",
              "      <td>2</td>\n",
              "      <td>5</td>\n",
              "      <td>1096</td>\n",
              "      <td>572</td>\n",
              "      <td>1924</td>\n",
              "      <td>RL</td>\n",
              "      <td>AllPub</td>\n",
              "      <td>1Fam</td>\n",
              "      <td>&lt;180k</td>\n",
              "    </tr>\n",
              "    <tr>\n",
              "      <th>1399</th>\n",
              "      <td>1399</td>\n",
              "      <td>137450</td>\n",
              "      <td>6</td>\n",
              "      <td>6</td>\n",
              "      <td>3</td>\n",
              "      <td>7</td>\n",
              "      <td>1608</td>\n",
              "      <td>976</td>\n",
              "      <td>1925</td>\n",
              "      <td>RL</td>\n",
              "      <td>AllPub</td>\n",
              "      <td>1Fam</td>\n",
              "      <td>&lt;180k</td>\n",
              "    </tr>\n",
              "    <tr>\n",
              "      <th>499</th>\n",
              "      <td>499</td>\n",
              "      <td>120000</td>\n",
              "      <td>5</td>\n",
              "      <td>7</td>\n",
              "      <td>2</td>\n",
              "      <td>5</td>\n",
              "      <td>912</td>\n",
              "      <td>912</td>\n",
              "      <td>1958</td>\n",
              "      <td>RL</td>\n",
              "      <td>AllPub</td>\n",
              "      <td>1Fam</td>\n",
              "      <td>&lt;180k</td>\n",
              "    </tr>\n",
              "    <tr>\n",
              "      <th>763</th>\n",
              "      <td>763</td>\n",
              "      <td>337000</td>\n",
              "      <td>8</td>\n",
              "      <td>5</td>\n",
              "      <td>3</td>\n",
              "      <td>8</td>\n",
              "      <td>2365</td>\n",
              "      <td>1252</td>\n",
              "      <td>1999</td>\n",
              "      <td>RL</td>\n",
              "      <td>AllPub</td>\n",
              "      <td>1Fam</td>\n",
              "      <td>&gt;180k</td>\n",
              "    </tr>\n",
              "  </tbody>\n",
              "</table>\n",
              "</div>\n",
              "    <div class=\"colab-df-buttons\">\n",
              "\n",
              "  <div class=\"colab-df-container\">\n",
              "    <button class=\"colab-df-convert\" onclick=\"convertToInteractive('df-517c98e8-e137-43ab-991c-b8b15002c575')\"\n",
              "            title=\"Convert this dataframe to an interactive table.\"\n",
              "            style=\"display:none;\">\n",
              "\n",
              "  <svg xmlns=\"http://www.w3.org/2000/svg\" height=\"24px\" viewBox=\"0 -960 960 960\">\n",
              "    <path d=\"M120-120v-720h720v720H120Zm60-500h600v-160H180v160Zm220 220h160v-160H400v160Zm0 220h160v-160H400v160ZM180-400h160v-160H180v160Zm440 0h160v-160H620v160ZM180-180h160v-160H180v160Zm440 0h160v-160H620v160Z\"/>\n",
              "  </svg>\n",
              "    </button>\n",
              "\n",
              "  <style>\n",
              "    .colab-df-container {\n",
              "      display:flex;\n",
              "      gap: 12px;\n",
              "    }\n",
              "\n",
              "    .colab-df-convert {\n",
              "      background-color: #E8F0FE;\n",
              "      border: none;\n",
              "      border-radius: 50%;\n",
              "      cursor: pointer;\n",
              "      display: none;\n",
              "      fill: #1967D2;\n",
              "      height: 32px;\n",
              "      padding: 0 0 0 0;\n",
              "      width: 32px;\n",
              "    }\n",
              "\n",
              "    .colab-df-convert:hover {\n",
              "      background-color: #E2EBFA;\n",
              "      box-shadow: 0px 1px 2px rgba(60, 64, 67, 0.3), 0px 1px 3px 1px rgba(60, 64, 67, 0.15);\n",
              "      fill: #174EA6;\n",
              "    }\n",
              "\n",
              "    .colab-df-buttons div {\n",
              "      margin-bottom: 4px;\n",
              "    }\n",
              "\n",
              "    [theme=dark] .colab-df-convert {\n",
              "      background-color: #3B4455;\n",
              "      fill: #D2E3FC;\n",
              "    }\n",
              "\n",
              "    [theme=dark] .colab-df-convert:hover {\n",
              "      background-color: #434B5C;\n",
              "      box-shadow: 0px 1px 3px 1px rgba(0, 0, 0, 0.15);\n",
              "      filter: drop-shadow(0px 1px 2px rgba(0, 0, 0, 0.3));\n",
              "      fill: #FFFFFF;\n",
              "    }\n",
              "  </style>\n",
              "\n",
              "    <script>\n",
              "      const buttonEl =\n",
              "        document.querySelector('#df-517c98e8-e137-43ab-991c-b8b15002c575 button.colab-df-convert');\n",
              "      buttonEl.style.display =\n",
              "        google.colab.kernel.accessAllowed ? 'block' : 'none';\n",
              "\n",
              "      async function convertToInteractive(key) {\n",
              "        const element = document.querySelector('#df-517c98e8-e137-43ab-991c-b8b15002c575');\n",
              "        const dataTable =\n",
              "          await google.colab.kernel.invokeFunction('convertToInteractive',\n",
              "                                                    [key], {});\n",
              "        if (!dataTable) return;\n",
              "\n",
              "        const docLinkHtml = 'Like what you see? Visit the ' +\n",
              "          '<a target=\"_blank\" href=https://colab.research.google.com/notebooks/data_table.ipynb>data table notebook</a>'\n",
              "          + ' to learn more about interactive tables.';\n",
              "        element.innerHTML = '';\n",
              "        dataTable['output_type'] = 'display_data';\n",
              "        await google.colab.output.renderOutput(dataTable, element);\n",
              "        const docLink = document.createElement('div');\n",
              "        docLink.innerHTML = docLinkHtml;\n",
              "        element.appendChild(docLink);\n",
              "      }\n",
              "    </script>\n",
              "  </div>\n",
              "\n",
              "\n",
              "<div id=\"df-1158e9ec-ad68-408c-8488-e6312d15873f\">\n",
              "  <button class=\"colab-df-quickchart\" onclick=\"quickchart('df-1158e9ec-ad68-408c-8488-e6312d15873f')\"\n",
              "            title=\"Suggest charts\"\n",
              "            style=\"display:none;\">\n",
              "\n",
              "<svg xmlns=\"http://www.w3.org/2000/svg\" height=\"24px\"viewBox=\"0 0 24 24\"\n",
              "     width=\"24px\">\n",
              "    <g>\n",
              "        <path d=\"M19 3H5c-1.1 0-2 .9-2 2v14c0 1.1.9 2 2 2h14c1.1 0 2-.9 2-2V5c0-1.1-.9-2-2-2zM9 17H7v-7h2v7zm4 0h-2V7h2v10zm4 0h-2v-4h2v4z\"/>\n",
              "    </g>\n",
              "</svg>\n",
              "  </button>\n",
              "\n",
              "<style>\n",
              "  .colab-df-quickchart {\n",
              "      --bg-color: #E8F0FE;\n",
              "      --fill-color: #1967D2;\n",
              "      --hover-bg-color: #E2EBFA;\n",
              "      --hover-fill-color: #174EA6;\n",
              "      --disabled-fill-color: #AAA;\n",
              "      --disabled-bg-color: #DDD;\n",
              "  }\n",
              "\n",
              "  [theme=dark] .colab-df-quickchart {\n",
              "      --bg-color: #3B4455;\n",
              "      --fill-color: #D2E3FC;\n",
              "      --hover-bg-color: #434B5C;\n",
              "      --hover-fill-color: #FFFFFF;\n",
              "      --disabled-bg-color: #3B4455;\n",
              "      --disabled-fill-color: #666;\n",
              "  }\n",
              "\n",
              "  .colab-df-quickchart {\n",
              "    background-color: var(--bg-color);\n",
              "    border: none;\n",
              "    border-radius: 50%;\n",
              "    cursor: pointer;\n",
              "    display: none;\n",
              "    fill: var(--fill-color);\n",
              "    height: 32px;\n",
              "    padding: 0;\n",
              "    width: 32px;\n",
              "  }\n",
              "\n",
              "  .colab-df-quickchart:hover {\n",
              "    background-color: var(--hover-bg-color);\n",
              "    box-shadow: 0 1px 2px rgba(60, 64, 67, 0.3), 0 1px 3px 1px rgba(60, 64, 67, 0.15);\n",
              "    fill: var(--button-hover-fill-color);\n",
              "  }\n",
              "\n",
              "  .colab-df-quickchart-complete:disabled,\n",
              "  .colab-df-quickchart-complete:disabled:hover {\n",
              "    background-color: var(--disabled-bg-color);\n",
              "    fill: var(--disabled-fill-color);\n",
              "    box-shadow: none;\n",
              "  }\n",
              "\n",
              "  .colab-df-spinner {\n",
              "    border: 2px solid var(--fill-color);\n",
              "    border-color: transparent;\n",
              "    border-bottom-color: var(--fill-color);\n",
              "    animation:\n",
              "      spin 1s steps(1) infinite;\n",
              "  }\n",
              "\n",
              "  @keyframes spin {\n",
              "    0% {\n",
              "      border-color: transparent;\n",
              "      border-bottom-color: var(--fill-color);\n",
              "      border-left-color: var(--fill-color);\n",
              "    }\n",
              "    20% {\n",
              "      border-color: transparent;\n",
              "      border-left-color: var(--fill-color);\n",
              "      border-top-color: var(--fill-color);\n",
              "    }\n",
              "    30% {\n",
              "      border-color: transparent;\n",
              "      border-left-color: var(--fill-color);\n",
              "      border-top-color: var(--fill-color);\n",
              "      border-right-color: var(--fill-color);\n",
              "    }\n",
              "    40% {\n",
              "      border-color: transparent;\n",
              "      border-right-color: var(--fill-color);\n",
              "      border-top-color: var(--fill-color);\n",
              "    }\n",
              "    60% {\n",
              "      border-color: transparent;\n",
              "      border-right-color: var(--fill-color);\n",
              "    }\n",
              "    80% {\n",
              "      border-color: transparent;\n",
              "      border-right-color: var(--fill-color);\n",
              "      border-bottom-color: var(--fill-color);\n",
              "    }\n",
              "    90% {\n",
              "      border-color: transparent;\n",
              "      border-bottom-color: var(--fill-color);\n",
              "    }\n",
              "  }\n",
              "</style>\n",
              "\n",
              "  <script>\n",
              "    async function quickchart(key) {\n",
              "      const quickchartButtonEl =\n",
              "        document.querySelector('#' + key + ' button');\n",
              "      quickchartButtonEl.disabled = true;  // To prevent multiple clicks.\n",
              "      quickchartButtonEl.classList.add('colab-df-spinner');\n",
              "      try {\n",
              "        const charts = await google.colab.kernel.invokeFunction(\n",
              "            'suggestCharts', [key], {});\n",
              "      } catch (error) {\n",
              "        console.error('Error during call to suggestCharts:', error);\n",
              "      }\n",
              "      quickchartButtonEl.classList.remove('colab-df-spinner');\n",
              "      quickchartButtonEl.classList.add('colab-df-quickchart-complete');\n",
              "    }\n",
              "    (() => {\n",
              "      let quickchartButtonEl =\n",
              "        document.querySelector('#df-1158e9ec-ad68-408c-8488-e6312d15873f button');\n",
              "      quickchartButtonEl.style.display =\n",
              "        google.colab.kernel.accessAllowed ? 'block' : 'none';\n",
              "    })();\n",
              "  </script>\n",
              "</div>\n",
              "\n",
              "    </div>\n",
              "  </div>\n"
            ]
          },
          "metadata": {},
          "execution_count": 36
        }
      ]
    },
    {
      "cell_type": "markdown",
      "source": [
        "#### **Amostragem Sistemática**"
      ],
      "metadata": {
        "id": "iP6LmIfPKvBL"
      }
    },
    {
      "cell_type": "markdown",
      "source": [
        "É um método de amostragem em que os indivíduos são selecionados a intervalos regulares."
      ],
      "metadata": {
        "id": "pHayR312LRfP"
      }
    },
    {
      "cell_type": "markdown",
      "source": [
        "**Vantagens da Amostragem Sistemática:**\n",
        "\n",
        "- Simplicidade na Implementação: É relativamente fácil de entender e aplicar, exigindo menos esforço na seleção dos elementos da amostra em comparação com outros métodos.\n",
        "\n",
        "\n",
        "- Eficiência em Grandes Populações: É particularmente eficaz em populações grandes, pois permite uma seleção rápida e sistemática dos elementos da amostra.\n",
        "\n",
        "\n",
        "- Redução de Viés: Pode reduzir o viés na seleção da amostra em comparação com métodos não sistemáticos, desde que a ordem dos elementos não esteja relacionada à característica de interesse.\n",
        "\n",
        "**Desvantagens da Amostragem Sistemática:**\n",
        "\n",
        "- Sensibilidade à Ordem dos Elementos: Se a ordem dos elementos estiver relacionada à característica de interesse, a amostragem sistemática pode introduzir viés na seleção da amostra.\n",
        "\n",
        "- Risco de Padrões não Aleatórios: Se houver padrões não aleatórios na disposição dos elementos, a amostragem sistemática pode resultar em uma amostra não representativa.\n",
        "\n",
        "- Dificuldade em Populações com Variação Temporal: Pode ser desafiador aplicar a amostragem sistemática em populações com variação temporal significativa, onde a ordem dos elementos pode mudar ao longo do tempo."
      ],
      "metadata": {
        "id": "Lp_eSwbtLP5A"
      }
    },
    {
      "cell_type": "markdown",
      "source": [
        "Vamos definir uma função para aplicarmos essa amostragem sempre que necessário."
      ],
      "metadata": {
        "id": "VjBeJIl9L_ET"
      }
    },
    {
      "cell_type": "code",
      "source": [
        "# Definindo a função\n",
        "def amostragem_sistematica(dataset, amostras):\n",
        "\n",
        "    # Calcula o tamanho do intervalo entre as amostras\n",
        "    intervalo = len(dataset) // amostras\n",
        "\n",
        "    # Gera os índices das amostras sistemáticas\n",
        "    indices = np.arange(0, len(dataset), step=intervalo)\n",
        "\n",
        "    # Seleciona as amostras com base nos índices gerados\n",
        "    amostra_sistematica = dataset.iloc[indices[:amostras]]\n",
        "\n",
        "    # Retornando o DataFrame\n",
        "    return amostra_sistematica"
      ],
      "metadata": {
        "id": "IX1TsqIwMHwC"
      },
      "execution_count": 40,
      "outputs": []
    },
    {
      "cell_type": "markdown",
      "source": [
        "Agora vamos aplicar a função à nossa população."
      ],
      "metadata": {
        "id": "Aid6IBoeM3GO"
      }
    },
    {
      "cell_type": "code",
      "source": [
        "# Chamando a função para criar a amostra sistemática\n",
        "amostra_sistematica = amostragem_sistematica(populacao, 438)\n",
        "\n",
        "# Verificando quantos registros foram armazenados\n",
        "amostra_sistematica.shape"
      ],
      "metadata": {
        "colab": {
          "base_uri": "https://localhost:8080/"
        },
        "id": "eXgU80HPM7Qc",
        "outputId": "f53a9b1d-a09e-44af-a10c-73c569a123e0"
      },
      "execution_count": 41,
      "outputs": [
        {
          "output_type": "execute_result",
          "data": {
            "text/plain": [
              "(438, 12)"
            ]
          },
          "metadata": {},
          "execution_count": 41
        }
      ]
    },
    {
      "cell_type": "markdown",
      "source": [
        "Dessa forma, obtivemos o mesmo número de amostras que conseguimos ao utilizar as outras amostragens. As únicas diferenças foram a aplicabilidade de cada uma."
      ],
      "metadata": {
        "id": "-u8m9tKONL2A"
      }
    },
    {
      "cell_type": "code",
      "source": [
        "# Observando os registros\n",
        "amostra_sistematica.head(10)"
      ],
      "metadata": {
        "colab": {
          "base_uri": "https://localhost:8080/",
          "height": 363
        },
        "id": "FHHifswqNom1",
        "outputId": "a1c03d3c-67f0-4e44-904f-52a903ef80a5"
      },
      "execution_count": 42,
      "outputs": [
        {
          "output_type": "execute_result",
          "data": {
            "text/plain": [
              "    Unnamed: 0  SalePrice  OverallQual  OverallCond  BedroomAbvGr  \\\n",
              "0            0     208500            7            5             3   \n",
              "3            3     140000            7            5             3   \n",
              "6            6     307000            8            5             3   \n",
              "9            9     118000            5            6             2   \n",
              "12          12     144000            5            6             2   \n",
              "15          15     132000            7            8             2   \n",
              "18          18     159000            5            5             3   \n",
              "21          21     139400            7            7             3   \n",
              "24          24     154000            5            8             3   \n",
              "27          27     306000            8            5             3   \n",
              "\n",
              "    TotRmsAbvGrd  GrLivArea  TotalBsmtSF  YearBuilt MSZoning Utilities  \\\n",
              "0              8       1710          856       2003       RL    AllPub   \n",
              "3              7       1717          756       1915       RL    AllPub   \n",
              "6              7       1694         1686       2004       RL    AllPub   \n",
              "9              5       1077          991       1939       RL    AllPub   \n",
              "12             4        912          912       1962       RL    AllPub   \n",
              "15             5        854          832       1929       RM    AllPub   \n",
              "18             6       1114         1114       2004       RL    AllPub   \n",
              "21             6       1108          637       1930       RM    AllPub   \n",
              "24             6       1060         1060       1968       RL    AllPub   \n",
              "27             7       1704         1704       2007       RL    AllPub   \n",
              "\n",
              "   BldgType  \n",
              "0      1Fam  \n",
              "3      1Fam  \n",
              "6      1Fam  \n",
              "9    2fmCon  \n",
              "12     1Fam  \n",
              "15     1Fam  \n",
              "18     1Fam  \n",
              "21     1Fam  \n",
              "24     1Fam  \n",
              "27     1Fam  "
            ],
            "text/html": [
              "\n",
              "  <div id=\"df-ca09cadf-df9c-446d-b989-b841a77532a3\" class=\"colab-df-container\">\n",
              "    <div>\n",
              "<style scoped>\n",
              "    .dataframe tbody tr th:only-of-type {\n",
              "        vertical-align: middle;\n",
              "    }\n",
              "\n",
              "    .dataframe tbody tr th {\n",
              "        vertical-align: top;\n",
              "    }\n",
              "\n",
              "    .dataframe thead th {\n",
              "        text-align: right;\n",
              "    }\n",
              "</style>\n",
              "<table border=\"1\" class=\"dataframe\">\n",
              "  <thead>\n",
              "    <tr style=\"text-align: right;\">\n",
              "      <th></th>\n",
              "      <th>Unnamed: 0</th>\n",
              "      <th>SalePrice</th>\n",
              "      <th>OverallQual</th>\n",
              "      <th>OverallCond</th>\n",
              "      <th>BedroomAbvGr</th>\n",
              "      <th>TotRmsAbvGrd</th>\n",
              "      <th>GrLivArea</th>\n",
              "      <th>TotalBsmtSF</th>\n",
              "      <th>YearBuilt</th>\n",
              "      <th>MSZoning</th>\n",
              "      <th>Utilities</th>\n",
              "      <th>BldgType</th>\n",
              "    </tr>\n",
              "  </thead>\n",
              "  <tbody>\n",
              "    <tr>\n",
              "      <th>0</th>\n",
              "      <td>0</td>\n",
              "      <td>208500</td>\n",
              "      <td>7</td>\n",
              "      <td>5</td>\n",
              "      <td>3</td>\n",
              "      <td>8</td>\n",
              "      <td>1710</td>\n",
              "      <td>856</td>\n",
              "      <td>2003</td>\n",
              "      <td>RL</td>\n",
              "      <td>AllPub</td>\n",
              "      <td>1Fam</td>\n",
              "    </tr>\n",
              "    <tr>\n",
              "      <th>3</th>\n",
              "      <td>3</td>\n",
              "      <td>140000</td>\n",
              "      <td>7</td>\n",
              "      <td>5</td>\n",
              "      <td>3</td>\n",
              "      <td>7</td>\n",
              "      <td>1717</td>\n",
              "      <td>756</td>\n",
              "      <td>1915</td>\n",
              "      <td>RL</td>\n",
              "      <td>AllPub</td>\n",
              "      <td>1Fam</td>\n",
              "    </tr>\n",
              "    <tr>\n",
              "      <th>6</th>\n",
              "      <td>6</td>\n",
              "      <td>307000</td>\n",
              "      <td>8</td>\n",
              "      <td>5</td>\n",
              "      <td>3</td>\n",
              "      <td>7</td>\n",
              "      <td>1694</td>\n",
              "      <td>1686</td>\n",
              "      <td>2004</td>\n",
              "      <td>RL</td>\n",
              "      <td>AllPub</td>\n",
              "      <td>1Fam</td>\n",
              "    </tr>\n",
              "    <tr>\n",
              "      <th>9</th>\n",
              "      <td>9</td>\n",
              "      <td>118000</td>\n",
              "      <td>5</td>\n",
              "      <td>6</td>\n",
              "      <td>2</td>\n",
              "      <td>5</td>\n",
              "      <td>1077</td>\n",
              "      <td>991</td>\n",
              "      <td>1939</td>\n",
              "      <td>RL</td>\n",
              "      <td>AllPub</td>\n",
              "      <td>2fmCon</td>\n",
              "    </tr>\n",
              "    <tr>\n",
              "      <th>12</th>\n",
              "      <td>12</td>\n",
              "      <td>144000</td>\n",
              "      <td>5</td>\n",
              "      <td>6</td>\n",
              "      <td>2</td>\n",
              "      <td>4</td>\n",
              "      <td>912</td>\n",
              "      <td>912</td>\n",
              "      <td>1962</td>\n",
              "      <td>RL</td>\n",
              "      <td>AllPub</td>\n",
              "      <td>1Fam</td>\n",
              "    </tr>\n",
              "    <tr>\n",
              "      <th>15</th>\n",
              "      <td>15</td>\n",
              "      <td>132000</td>\n",
              "      <td>7</td>\n",
              "      <td>8</td>\n",
              "      <td>2</td>\n",
              "      <td>5</td>\n",
              "      <td>854</td>\n",
              "      <td>832</td>\n",
              "      <td>1929</td>\n",
              "      <td>RM</td>\n",
              "      <td>AllPub</td>\n",
              "      <td>1Fam</td>\n",
              "    </tr>\n",
              "    <tr>\n",
              "      <th>18</th>\n",
              "      <td>18</td>\n",
              "      <td>159000</td>\n",
              "      <td>5</td>\n",
              "      <td>5</td>\n",
              "      <td>3</td>\n",
              "      <td>6</td>\n",
              "      <td>1114</td>\n",
              "      <td>1114</td>\n",
              "      <td>2004</td>\n",
              "      <td>RL</td>\n",
              "      <td>AllPub</td>\n",
              "      <td>1Fam</td>\n",
              "    </tr>\n",
              "    <tr>\n",
              "      <th>21</th>\n",
              "      <td>21</td>\n",
              "      <td>139400</td>\n",
              "      <td>7</td>\n",
              "      <td>7</td>\n",
              "      <td>3</td>\n",
              "      <td>6</td>\n",
              "      <td>1108</td>\n",
              "      <td>637</td>\n",
              "      <td>1930</td>\n",
              "      <td>RM</td>\n",
              "      <td>AllPub</td>\n",
              "      <td>1Fam</td>\n",
              "    </tr>\n",
              "    <tr>\n",
              "      <th>24</th>\n",
              "      <td>24</td>\n",
              "      <td>154000</td>\n",
              "      <td>5</td>\n",
              "      <td>8</td>\n",
              "      <td>3</td>\n",
              "      <td>6</td>\n",
              "      <td>1060</td>\n",
              "      <td>1060</td>\n",
              "      <td>1968</td>\n",
              "      <td>RL</td>\n",
              "      <td>AllPub</td>\n",
              "      <td>1Fam</td>\n",
              "    </tr>\n",
              "    <tr>\n",
              "      <th>27</th>\n",
              "      <td>27</td>\n",
              "      <td>306000</td>\n",
              "      <td>8</td>\n",
              "      <td>5</td>\n",
              "      <td>3</td>\n",
              "      <td>7</td>\n",
              "      <td>1704</td>\n",
              "      <td>1704</td>\n",
              "      <td>2007</td>\n",
              "      <td>RL</td>\n",
              "      <td>AllPub</td>\n",
              "      <td>1Fam</td>\n",
              "    </tr>\n",
              "  </tbody>\n",
              "</table>\n",
              "</div>\n",
              "    <div class=\"colab-df-buttons\">\n",
              "\n",
              "  <div class=\"colab-df-container\">\n",
              "    <button class=\"colab-df-convert\" onclick=\"convertToInteractive('df-ca09cadf-df9c-446d-b989-b841a77532a3')\"\n",
              "            title=\"Convert this dataframe to an interactive table.\"\n",
              "            style=\"display:none;\">\n",
              "\n",
              "  <svg xmlns=\"http://www.w3.org/2000/svg\" height=\"24px\" viewBox=\"0 -960 960 960\">\n",
              "    <path d=\"M120-120v-720h720v720H120Zm60-500h600v-160H180v160Zm220 220h160v-160H400v160Zm0 220h160v-160H400v160ZM180-400h160v-160H180v160Zm440 0h160v-160H620v160ZM180-180h160v-160H180v160Zm440 0h160v-160H620v160Z\"/>\n",
              "  </svg>\n",
              "    </button>\n",
              "\n",
              "  <style>\n",
              "    .colab-df-container {\n",
              "      display:flex;\n",
              "      gap: 12px;\n",
              "    }\n",
              "\n",
              "    .colab-df-convert {\n",
              "      background-color: #E8F0FE;\n",
              "      border: none;\n",
              "      border-radius: 50%;\n",
              "      cursor: pointer;\n",
              "      display: none;\n",
              "      fill: #1967D2;\n",
              "      height: 32px;\n",
              "      padding: 0 0 0 0;\n",
              "      width: 32px;\n",
              "    }\n",
              "\n",
              "    .colab-df-convert:hover {\n",
              "      background-color: #E2EBFA;\n",
              "      box-shadow: 0px 1px 2px rgba(60, 64, 67, 0.3), 0px 1px 3px 1px rgba(60, 64, 67, 0.15);\n",
              "      fill: #174EA6;\n",
              "    }\n",
              "\n",
              "    .colab-df-buttons div {\n",
              "      margin-bottom: 4px;\n",
              "    }\n",
              "\n",
              "    [theme=dark] .colab-df-convert {\n",
              "      background-color: #3B4455;\n",
              "      fill: #D2E3FC;\n",
              "    }\n",
              "\n",
              "    [theme=dark] .colab-df-convert:hover {\n",
              "      background-color: #434B5C;\n",
              "      box-shadow: 0px 1px 3px 1px rgba(0, 0, 0, 0.15);\n",
              "      filter: drop-shadow(0px 1px 2px rgba(0, 0, 0, 0.3));\n",
              "      fill: #FFFFFF;\n",
              "    }\n",
              "  </style>\n",
              "\n",
              "    <script>\n",
              "      const buttonEl =\n",
              "        document.querySelector('#df-ca09cadf-df9c-446d-b989-b841a77532a3 button.colab-df-convert');\n",
              "      buttonEl.style.display =\n",
              "        google.colab.kernel.accessAllowed ? 'block' : 'none';\n",
              "\n",
              "      async function convertToInteractive(key) {\n",
              "        const element = document.querySelector('#df-ca09cadf-df9c-446d-b989-b841a77532a3');\n",
              "        const dataTable =\n",
              "          await google.colab.kernel.invokeFunction('convertToInteractive',\n",
              "                                                    [key], {});\n",
              "        if (!dataTable) return;\n",
              "\n",
              "        const docLinkHtml = 'Like what you see? Visit the ' +\n",
              "          '<a target=\"_blank\" href=https://colab.research.google.com/notebooks/data_table.ipynb>data table notebook</a>'\n",
              "          + ' to learn more about interactive tables.';\n",
              "        element.innerHTML = '';\n",
              "        dataTable['output_type'] = 'display_data';\n",
              "        await google.colab.output.renderOutput(dataTable, element);\n",
              "        const docLink = document.createElement('div');\n",
              "        docLink.innerHTML = docLinkHtml;\n",
              "        element.appendChild(docLink);\n",
              "      }\n",
              "    </script>\n",
              "  </div>\n",
              "\n",
              "\n",
              "<div id=\"df-ec705cef-2b09-4044-b2a5-03234be33b7e\">\n",
              "  <button class=\"colab-df-quickchart\" onclick=\"quickchart('df-ec705cef-2b09-4044-b2a5-03234be33b7e')\"\n",
              "            title=\"Suggest charts\"\n",
              "            style=\"display:none;\">\n",
              "\n",
              "<svg xmlns=\"http://www.w3.org/2000/svg\" height=\"24px\"viewBox=\"0 0 24 24\"\n",
              "     width=\"24px\">\n",
              "    <g>\n",
              "        <path d=\"M19 3H5c-1.1 0-2 .9-2 2v14c0 1.1.9 2 2 2h14c1.1 0 2-.9 2-2V5c0-1.1-.9-2-2-2zM9 17H7v-7h2v7zm4 0h-2V7h2v10zm4 0h-2v-4h2v4z\"/>\n",
              "    </g>\n",
              "</svg>\n",
              "  </button>\n",
              "\n",
              "<style>\n",
              "  .colab-df-quickchart {\n",
              "      --bg-color: #E8F0FE;\n",
              "      --fill-color: #1967D2;\n",
              "      --hover-bg-color: #E2EBFA;\n",
              "      --hover-fill-color: #174EA6;\n",
              "      --disabled-fill-color: #AAA;\n",
              "      --disabled-bg-color: #DDD;\n",
              "  }\n",
              "\n",
              "  [theme=dark] .colab-df-quickchart {\n",
              "      --bg-color: #3B4455;\n",
              "      --fill-color: #D2E3FC;\n",
              "      --hover-bg-color: #434B5C;\n",
              "      --hover-fill-color: #FFFFFF;\n",
              "      --disabled-bg-color: #3B4455;\n",
              "      --disabled-fill-color: #666;\n",
              "  }\n",
              "\n",
              "  .colab-df-quickchart {\n",
              "    background-color: var(--bg-color);\n",
              "    border: none;\n",
              "    border-radius: 50%;\n",
              "    cursor: pointer;\n",
              "    display: none;\n",
              "    fill: var(--fill-color);\n",
              "    height: 32px;\n",
              "    padding: 0;\n",
              "    width: 32px;\n",
              "  }\n",
              "\n",
              "  .colab-df-quickchart:hover {\n",
              "    background-color: var(--hover-bg-color);\n",
              "    box-shadow: 0 1px 2px rgba(60, 64, 67, 0.3), 0 1px 3px 1px rgba(60, 64, 67, 0.15);\n",
              "    fill: var(--button-hover-fill-color);\n",
              "  }\n",
              "\n",
              "  .colab-df-quickchart-complete:disabled,\n",
              "  .colab-df-quickchart-complete:disabled:hover {\n",
              "    background-color: var(--disabled-bg-color);\n",
              "    fill: var(--disabled-fill-color);\n",
              "    box-shadow: none;\n",
              "  }\n",
              "\n",
              "  .colab-df-spinner {\n",
              "    border: 2px solid var(--fill-color);\n",
              "    border-color: transparent;\n",
              "    border-bottom-color: var(--fill-color);\n",
              "    animation:\n",
              "      spin 1s steps(1) infinite;\n",
              "  }\n",
              "\n",
              "  @keyframes spin {\n",
              "    0% {\n",
              "      border-color: transparent;\n",
              "      border-bottom-color: var(--fill-color);\n",
              "      border-left-color: var(--fill-color);\n",
              "    }\n",
              "    20% {\n",
              "      border-color: transparent;\n",
              "      border-left-color: var(--fill-color);\n",
              "      border-top-color: var(--fill-color);\n",
              "    }\n",
              "    30% {\n",
              "      border-color: transparent;\n",
              "      border-left-color: var(--fill-color);\n",
              "      border-top-color: var(--fill-color);\n",
              "      border-right-color: var(--fill-color);\n",
              "    }\n",
              "    40% {\n",
              "      border-color: transparent;\n",
              "      border-right-color: var(--fill-color);\n",
              "      border-top-color: var(--fill-color);\n",
              "    }\n",
              "    60% {\n",
              "      border-color: transparent;\n",
              "      border-right-color: var(--fill-color);\n",
              "    }\n",
              "    80% {\n",
              "      border-color: transparent;\n",
              "      border-right-color: var(--fill-color);\n",
              "      border-bottom-color: var(--fill-color);\n",
              "    }\n",
              "    90% {\n",
              "      border-color: transparent;\n",
              "      border-bottom-color: var(--fill-color);\n",
              "    }\n",
              "  }\n",
              "</style>\n",
              "\n",
              "  <script>\n",
              "    async function quickchart(key) {\n",
              "      const quickchartButtonEl =\n",
              "        document.querySelector('#' + key + ' button');\n",
              "      quickchartButtonEl.disabled = true;  // To prevent multiple clicks.\n",
              "      quickchartButtonEl.classList.add('colab-df-spinner');\n",
              "      try {\n",
              "        const charts = await google.colab.kernel.invokeFunction(\n",
              "            'suggestCharts', [key], {});\n",
              "      } catch (error) {\n",
              "        console.error('Error during call to suggestCharts:', error);\n",
              "      }\n",
              "      quickchartButtonEl.classList.remove('colab-df-spinner');\n",
              "      quickchartButtonEl.classList.add('colab-df-quickchart-complete');\n",
              "    }\n",
              "    (() => {\n",
              "      let quickchartButtonEl =\n",
              "        document.querySelector('#df-ec705cef-2b09-4044-b2a5-03234be33b7e button');\n",
              "      quickchartButtonEl.style.display =\n",
              "        google.colab.kernel.accessAllowed ? 'block' : 'none';\n",
              "    })();\n",
              "  </script>\n",
              "</div>\n",
              "\n",
              "    </div>\n",
              "  </div>\n"
            ]
          },
          "metadata": {},
          "execution_count": 42
        }
      ]
    },
    {
      "cell_type": "markdown",
      "source": [
        "Podemos observar que os dados estão sendo coletados de acordo com os intervalos que foram definidos na nossa função."
      ],
      "metadata": {
        "id": "118Mvh5gN7Bs"
      }
    },
    {
      "cell_type": "markdown",
      "source": [
        "## **Teste de Hipóteses**"
      ],
      "metadata": {
        "id": "tpiVwLVXkfmT"
      }
    },
    {
      "cell_type": "markdown",
      "source": [
        "O teste de hipóteses é um procedimento para determinar se existe evidência suficiente para concluir que uma afirmação sobre uma população é verdadeira.\n",
        "\n",
        "- Teste de Hipótese Nula (H0): É a afirmação que não há diferença significativa entre os grupos ou variáveis.\n",
        "\n",
        "- Teste de Hipótese Alternativa (H1): É a afirmação que há uma diferença significativa entre os grupos ou variáveis."
      ],
      "metadata": {
        "id": "guRP446Ukm3y"
      }
    },
    {
      "cell_type": "markdown",
      "source": [
        "Para um melhor entendimento e aplicação de um teste de hipóteses, vamos imaginar a aplicação do mesmo em quatro passos, sendo eles:\n",
        "\n",
        "- 1. Especificar as hipóteses\n",
        "- 2. Especificar o nível de significância\n",
        "- 3. Calcular o p-valor\n",
        "- 4. Interpretar o resultado\n",
        "\n",
        "Antes de aplicarmos os passos, vamos entender mais alguns conceitos que serão importantes."
      ],
      "metadata": {
        "id": "WAJEEtzgxLjM"
      }
    },
    {
      "cell_type": "markdown",
      "source": [
        "### **Testes Unicaudais e Bicaudais**\n"
      ],
      "metadata": {
        "id": "Xa0TIu45wmOy"
      }
    },
    {
      "cell_type": "markdown",
      "source": [
        "Como vimos anteriormente, o teste de hipóteses sempre terá duas hipóteses: a H0, que será a nula, e a Ha ou H1, que será a alternativa. Logo, é importante lembrar que o sinal de \"=\" sempre estará na hipótese nula. Dito isso, sempre que na hipótese alternativa tivermos um sinal de \"<\", isso indicará que temos um teste unilateral à esquerda. Quando tivermos um sinal de \">\", isso indicará que temos um teste unilateral à direita. E quando tivermos um sinal de \"≠\", teremos um teste bicaldal."
      ],
      "metadata": {
        "id": "9KRHZqClz-vH"
      }
    },
    {
      "cell_type": "markdown",
      "source": [
        "*Observando a representação de testes unicaudais e bicaudais*\n",
        "\n"
      ],
      "metadata": {
        "id": "zURlBFpS2EuD"
      }
    },
    {
      "cell_type": "code",
      "source": [
        "# Bibliotecas necessárias\n",
        "import numpy as np\n",
        "import matplotlib.pyplot as plt\n",
        "\n",
        "# Definindo os parâmetros dos testes\n",
        "media = 0\n",
        "desvio_padrao = 1\n",
        "valor_critico_esquerdo = -1.96\n",
        "valor_critico_direito = 1.96\n",
        "\n",
        "# Gerando a distribuição normal\n",
        "x = np.linspace(media - 3 * desvio_padrao, media + 3 * desvio_padrao, 100)\n",
        "y = np.exp(-(x - media)**2 / (2 * desvio_padrao**2))\n",
        "\n",
        "# Área de rejeição\n",
        "area_rejeicao_esquerda = np.sum(y[x < valor_critico_esquerdo])\n",
        "area_rejeicao_direita = np.sum(y[x > valor_critico_direito])\n",
        "\n",
        "# Criando a figura\n",
        "fig, axes = plt.subplots(1, 3, figsize=(15, 5))\n",
        "\n",
        "# Plotando o teste unicaudal à esquerda\n",
        "axes[0].plot(x, y, color=\"blue\")\n",
        "axes[0].fill_between(x, y, where=x < valor_critico_esquerdo, color=\"red\", alpha=0.5)\n",
        "axes[0].set_xlabel(\"Valor\")\n",
        "axes[0].set_ylabel(\"Densidade de probabilidade\")\n",
        "axes[0].set_title(\"Teste Unicaudal à Esquerda\")\n",
        "axes[0].axvline(valor_critico_esquerdo, color=\"black\", linestyle=\"dashed\")\n",
        "\n",
        "# Plotando o teste unicaudal à direita\n",
        "axes[1].plot(x, y, color=\"blue\")\n",
        "axes[1].fill_between(x, y, where=x > valor_critico_direito, color=\"red\", alpha=0.5)\n",
        "axes[1].set_xlabel(\"Valor\")\n",
        "axes[1].set_ylabel(\"Densidade de probabilidade\")\n",
        "axes[1].set_title(\"Teste Unicaudal à Direita\")\n",
        "axes[1].axvline(valor_critico_direito, color=\"black\", linestyle=\"dashed\")\n",
        "\n",
        "# Plotando o teste bicaudal\n",
        "axes[2].plot(x, y, color=\"blue\")\n",
        "axes[2].fill_between(x, y, where=x < valor_critico_esquerdo, color=\"red\", alpha=0.5)\n",
        "axes[2].fill_between(x, y, where=x > valor_critico_direito, color=\"red\", alpha=0.5)\n",
        "axes[2].set_xlabel(\"Valor\")\n",
        "axes[2].set_ylabel(\"Densidade de probabilidade\")\n",
        "axes[2].set_title(\"Teste Bicaudal\")\n",
        "axes[2].axvline(valor_critico_esquerdo, color=\"black\", linestyle=\"dashed\")\n",
        "axes[2].axvline(valor_critico_direito, color=\"black\", linestyle=\"dashed\")\n",
        "\n",
        "# Ajustando o layout\n",
        "plt.tight_layout()\n",
        "\n",
        "# Mostrando o gráfico\n",
        "plt.show()"
      ],
      "metadata": {
        "colab": {
          "base_uri": "https://localhost:8080/",
          "height": 507
        },
        "id": "RozV1dDdz0IS",
        "outputId": "8af83d6f-3db0-4a87-9c06-95d8395ef4c4"
      },
      "execution_count": null,
      "outputs": [
        {
          "output_type": "display_data",
          "data": {
            "text/plain": [
              "<Figure size 1500x500 with 3 Axes>"
            ],
            "image/png": "[encoded data removed]"
          },
          "metadata": {}
        }
      ]
    },
    {
      "cell_type": "markdown",
      "source": [
        "Dessa forma, podemos ter uma noção visual de como são esses testes. Agora, vamos entender um pouco mais sobre as hipóteses possíveis para a representação desses gráficos:\n",
        "\n",
        "**Unicaudal à esquerda:**\n",
        "\n",
        "- H0: μ1 ≥ μ2\n",
        "- Ha: μ1 < μ2\n",
        "\n",
        "**Unicaudal à direita:**\n",
        "\n",
        "- H0: μ1 ≤ μ2\n",
        "- Ha: μ1 > μ2\n",
        "\n",
        "**Bicaudal:**\n",
        "\n",
        "- H0: μ1 = μ2\n",
        "- Ha: μ1 ≠ μ2\n",
        "\n",
        "**Dica para identificar o tipo de teste:**\n",
        "\n",
        "Uma dica para entendermos qual dos testes foi definido quando escolhemos a hipótese é observar para que lado a hipótese alternativa está apontando. Por exemplo:\n",
        "\n",
        "No teste unicaudal à esquerda, temos um sinal de menor que \"<\". Podemos interpretar esse sinal como uma seta. Logo, basta olharmos para que lado ele está apontando para entendermos para que lado é a nossa cauda.\n",
        "Se o sinal for diferente \"≠\", então o teste será bicaudal."
      ],
      "metadata": {
        "id": "lC83OK-K3OFP"
      }
    },
    {
      "cell_type": "markdown",
      "source": [
        "Agora vamos ver como funciona um teste de hipoteses na pratica, imagine que um delivery nos informou que seu tempo médio de entrega é de 30 minutos, mas queremos não estamos muito certo desses 30 minutos então decidimos realizar um teste de hipoteses"
      ],
      "metadata": {
        "id": "T2VgtUEUVVzl"
      }
    },
    {
      "cell_type": "markdown",
      "source": [
        "### **Aplicando o teste**"
      ],
      "metadata": {
        "id": "MSY7Sd3eW2zS"
      }
    },
    {
      "cell_type": "markdown",
      "source": [
        "Desconfiamos que a entrega não demora 30 minutos e sim um pouco mais, então coletamos uma amostra"
      ],
      "metadata": {
        "id": "0Jie_g3CW5Up"
      }
    },
    {
      "cell_type": "code",
      "source": [
        "# Definindo a média e o desvio padrão\n",
        "media = 32\n",
        "desvio_padrao = 8\n",
        "\n",
        "# Gerando os dados com distribuição normal\n",
        "dados = np.random.normal(loc=media, scale=desvio_padrao, size=30)  # Gerando 1000 valores"
      ],
      "metadata": {
        "id": "ucVp6W_sXRCW"
      },
      "execution_count": 8,
      "outputs": []
    },
    {
      "cell_type": "markdown",
      "source": [
        "Agora que já temos nossa amostra vamos observar as medidas da mesma"
      ],
      "metadata": {
        "id": "dik1b1IsYC35"
      }
    },
    {
      "cell_type": "code",
      "source": [
        "# Calculando a média\n",
        "media_dados = dados.mean()\n",
        "\n",
        "# Calculando o desvio\n",
        "desvio_dados = dados.std()\n",
        "\n",
        "# Exibindo a média e o desvio\n",
        "print(f\"A média é: {media_dados}\\nO desvio é: {desvio_dados}\")"
      ],
      "metadata": {
        "colab": {
          "base_uri": "https://localhost:8080/"
        },
        "id": "ZjplbNmoXUAO",
        "outputId": "c5875779-5874-43dd-ceba-52cef44c38aa"
      },
      "execution_count": 9,
      "outputs": [
        {
          "output_type": "stream",
          "name": "stdout",
          "text": [
            "A média é: 34.44110174782089\n",
            "O desvio é: 7.536835609707955\n"
          ]
        }
      ]
    },
    {
      "cell_type": "markdown",
      "source": [
        "Achamos uma média de 34 e um desvio padrão de 8 agora que já temos essas médidas vamos seguir adiante com o nosso teste"
      ],
      "metadata": {
        "id": "FnHkJMxzYJ9P"
      }
    },
    {
      "cell_type": "markdown",
      "source": [
        "#### **Passo 1 (Especificando as hipóteses)**"
      ],
      "metadata": {
        "id": "GMgtIKTfY2ya"
      }
    },
    {
      "cell_type": "markdown",
      "source": [
        "Levando em consideração que o dono do delivery nos informou que o tempo médio de entrega é de 30 minutos ou menos logo nossas hipóteses irão ficar da seguinte forma:\n",
        "\n",
        "H0: μ1 ≤ 30\n",
        "\n",
        "Ha: μ1 > 30\n",
        "\n",
        "- Na hipotese nula estamos dizendo que a média de entrega é menor ou igual a 30 que foi exatamente o que o dono do delivery falou\n",
        "\n",
        "- Na hipotese alternativa estamos dizendo que a média de entrega é maior que 30 que é a nossa suspeita\n",
        "\n",
        "Dessa forma ao observar a direção da 'seta' da hipotese alternativa podemos dizer que o nosso teste é unicaudal a direita\n"
      ],
      "metadata": {
        "id": "uJLFCghoY_4Y"
      }
    },
    {
      "cell_type": "markdown",
      "source": [
        "Agora podemos seguir adiante para o proximo passo"
      ],
      "metadata": {
        "id": "zUSCl5SUboWd"
      }
    },
    {
      "cell_type": "markdown",
      "source": [
        "#### **Passo 2 (Especificando o nível de significância)**"
      ],
      "metadata": {
        "id": "XvJK5lyTbnoX"
      }
    },
    {
      "cell_type": "markdown",
      "source": [
        "O nível de significância ($\n",
        "α$) é a probabilidade de cometer um erro do tipo I ao rejeitar incorretamente a hipótese nula em um teste de hipóteses estatísticas."
      ],
      "metadata": {
        "id": "Ip8m_T9NimzR"
      }
    },
    {
      "cell_type": "markdown",
      "source": [
        "Mas o que seria esse erro do tipo 1 ?\n",
        "\n",
        "Existem dois tipos de erros, sendo eles o erro do tipo 1 e do tipo 2 vamos entender um pouco mais sobre eles:\n",
        "\n",
        "- **Erro do tipo I:** Também conhecido como **falso positivo**, ocorre quando rejeitamos erroneamente a hipótese nula, mesmo que ela seja verdadeira. Em outras palavras, é a conclusão de que existe uma diferença significativa quando na verdade não há.\n",
        "\n",
        "- **Erro do tipo II:** Também conhecido como **falso negativo**, acontece quando falhamos em rejeitar a hipótese nula, mesmo que ela seja falsa. Isso significa que não identificamos uma diferença significativa quando realmente existe."
      ],
      "metadata": {
        "id": "-AVX-HUkiqiA"
      }
    },
    {
      "cell_type": "markdown",
      "source": [
        "Normalmente valor padrão usado para o nível de significância é 0.05 (ou 5%). Isso significa que há uma probabilidade de 5% de cometer um erro do tipo I ao rejeitar a hipótese nula."
      ],
      "metadata": {
        "id": "icg31IZkcXb5"
      }
    },
    {
      "cell_type": "markdown",
      "source": [
        "Um nível de significância mais baixo implica que o pesquisador é mais criterioso ao descartar a hipótese nula, precisando de mais evidências para isso. Por outro lado, um nível de significância mais alto facilita o descarte da hipótese nula, o que pode aumentar a probabilidade de cometer um erro do tipo I."
      ],
      "metadata": {
        "id": "1J6CRIWLidua"
      }
    },
    {
      "cell_type": "markdown",
      "source": [
        "Nesse caso vamos utilizar o valor de alpha padrão mesmo que será de 5%"
      ],
      "metadata": {
        "id": "OTvMkbI4k2YY"
      }
    },
    {
      "cell_type": "code",
      "source": [
        "# Definindo o valor de alpha\n",
        "alhpa = 0.05"
      ],
      "metadata": {
        "id": "ljuHYUmUk75I"
      },
      "execution_count": null,
      "outputs": []
    },
    {
      "cell_type": "markdown",
      "source": [
        "#### **Passo 3 (Calculando o p-valor)**"
      ],
      "metadata": {
        "id": "GocfcdbEkrA6"
      }
    },
    {
      "cell_type": "code",
      "source": [
        "# Em breve!!"
      ],
      "metadata": {
        "id": "llITrd6Yfap6"
      },
      "execution_count": null,
      "outputs": []
    }
  ]
}