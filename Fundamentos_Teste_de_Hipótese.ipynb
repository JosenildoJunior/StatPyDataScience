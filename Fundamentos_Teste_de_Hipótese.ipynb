{
  "nbformat": 4,
  "nbformat_minor": 0,
  "metadata": {
    "colab": {
      "provenance": [],
      "authorship_tag": "ABX9TyMXr3P6ntCpsMOXNcw1Xe26",
      "include_colab_link": true
    },
    "kernelspec": {
      "name": "python3",
      "display_name": "Python 3"
    },
    "language_info": {
      "name": "python"
    }
  },
  "cells": [
    {
      "cell_type": "markdown",
      "metadata": {
        "id": "view-in-github",
        "colab_type": "text"
      },
      "source": [
        "<a href=\"https://colab.research.google.com/github/JosenildoJunior/StatPyDataScience/blob/main/Fundamentos_Teste_de_Hip%C3%B3tese.ipynb\" target=\"_parent\"><img src=\"https://colab.research.google.com/assets/colab-badge.svg\" alt=\"Open In Colab\"/></a>"
      ]
    },
    {
      "cell_type": "markdown",
      "source": [
        "# **Fundamentos para os testes de hipóteses**"
      ],
      "metadata": {
        "id": "8nV4qdNIGqX5"
      }
    },
    {
      "cell_type": "markdown",
      "source": [
        "Um teste de hipótese é uma ferramenta estatística que permite determinar se há evidências suficientes para rejeitar uma afirmação sobre uma população. Essa afirmação é chamada de hipótese nula (H0).\n",
        "\n",
        "**Estrutura:**\n",
        "\n",
        "- Hipótese nula (H0): Afirmação que queremos testar.\n",
        "- Hipótese alternativa (H1): Afirmação que será aceita se a H0 for rejeitada."
      ],
      "metadata": {
        "id": "26qVaRqeG1Fd"
      }
    },
    {
      "cell_type": "markdown",
      "source": [
        "## **Amostra e População**"
      ],
      "metadata": {
        "id": "8UCEOx7FHCCt"
      }
    },
    {
      "cell_type": "markdown",
      "source": [
        "### **População**"
      ],
      "metadata": {
        "id": "Jqb2x5dZHl6o"
      }
    },
    {
      "cell_type": "markdown",
      "source": [
        "População é o conjunto completo de dados que você deseja estudar."
      ],
      "metadata": {
        "id": "CF_NczfAJQz0"
      }
    },
    {
      "cell_type": "markdown",
      "source": [
        "Vamos importar a nossa população que nesse caso será a nossa base de dados, mas antes vamos importar as bibliotecas necessarias"
      ],
      "metadata": {
        "id": "tS_EeRQ5HsU_"
      }
    },
    {
      "cell_type": "code",
      "execution_count": null,
      "metadata": {
        "id": "XwSYEkGKCHdy"
      },
      "outputs": [],
      "source": [
        "# Acesso ao drive\n",
        "from google.colab import drive\n",
        "drive.mount('/content/drive')"
      ]
    },
    {
      "cell_type": "code",
      "source": [
        "# Manipulação de dados\n",
        "import pandas as pd\n",
        "\n",
        "# Algébra linear\n",
        "import numpy as np\n",
        "\n",
        "# Visualização de dados\n",
        "import matplotlib.pyplot as plt\n",
        "import seaborn as sns\n",
        "\n",
        "# Funções estatísticas\n",
        "import statistics\n",
        "import scipy.stats"
      ],
      "metadata": {
        "id": "pwAxeAsBH9q1"
      },
      "execution_count": null,
      "outputs": []
    },
    {
      "cell_type": "markdown",
      "source": [
        "Agora que já importamos todas as bibliotecas necessarias vamos importar a nossa população"
      ],
      "metadata": {
        "id": "Vzy_sDCZICDV"
      }
    },
    {
      "cell_type": "code",
      "source": [
        "# Importando o dataset\n",
        "populacao = pd.read_csv('/content/drive/MyDrive/Estatística para ciência de dados/house_price.csv')"
      ],
      "metadata": {
        "id": "WEpqPXFRIMbc"
      },
      "execution_count": null,
      "outputs": []
    },
    {
      "cell_type": "markdown",
      "source": [
        "Agora vamos observar as dimensões da nossa população"
      ],
      "metadata": {
        "id": "EYXJmojGIqeg"
      }
    },
    {
      "cell_type": "code",
      "source": [
        "# Observando a dimensão dos dados\n",
        "populacao.shape()"
      ],
      "metadata": {
        "id": "ncMGPdfaIp6p"
      },
      "execution_count": null,
      "outputs": []
    },
    {
      "cell_type": "markdown",
      "source": [
        "Agora que já entendemos as dimensões da nossa população, vamos observar os primeiros registros"
      ],
      "metadata": {
        "id": "09s_rqidIyXm"
      }
    },
    {
      "cell_type": "code",
      "source": [
        "# Observando os registros\n",
        "populacao.head()"
      ],
      "metadata": {
        "id": "Uten48u4I4im"
      },
      "execution_count": null,
      "outputs": []
    },
    {
      "cell_type": "markdown",
      "source": [
        "Dessa forma podemos entender que a população nada mais é que um conjunto completo de dados elementos"
      ],
      "metadata": {
        "id": "FfBa_ALHI9G-"
      }
    },
    {
      "cell_type": "markdown",
      "source": [
        "### **Amostra**"
      ],
      "metadata": {
        "id": "5szm3RgDJcrM"
      }
    },
    {
      "cell_type": "markdown",
      "source": [
        "Amostra é um subconjunto da população que você coleta para fazer inferências sobre a população como um todo."
      ],
      "metadata": {
        "id": "-5I-OlA7JiOK"
      }
    },
    {
      "cell_type": "markdown",
      "source": [
        "Agora que já temos a nossa população vamos realizar uma amostragem aleatoria simples"
      ],
      "metadata": {
        "id": "kwvIqSk7J3cn"
      }
    },
    {
      "cell_type": "markdown",
      "source": [
        "#### **Amostragem Aleatória Simples**"
      ],
      "metadata": {
        "id": "nDmQDiU7KLdk"
      }
    },
    {
      "cell_type": "markdown",
      "source": [
        "A amostragem aleatória simples é um método de amostragem em que cada indivíduo da população tem a mesma chance de ser selecionado.\n",
        "\n",
        "**Vantagens da Amostragem Aleatória Simples:**\n",
        "\n",
        "- Representatividade: A amostragem aleatória simples tende a representar de forma justa a diversidade da população.\n",
        "\n",
        "- Simplicidade: É fácil de entender e implementar, não requer conhecimento prévio sobre a população.\n",
        "\n",
        "- Redução de Viés: Minimiza o risco de viés na seleção da amostra, pois cada elemento tem a mesma chance de ser escolhido.\n",
        "\n",
        "**Desvantagens da Amostragem Aleatória Simples:**\n",
        "\n",
        "- Ineficiência em Populações Pequenas: Em populações pequenas, pode não ser tão eficaz, pois a probabilidade de seleção pode resultar em amostras não tão representativas.\n",
        "\n",
        "- Dificuldade com Elementos Raros: Pode ter dificuldade em capturar elementos raros se a amostra não for grande o suficiente."
      ],
      "metadata": {
        "id": "DKq6sufuKQmM"
      }
    },
    {
      "cell_type": "markdown",
      "source": [
        "Agora que já entendemos um pouco do conceito, seus pros e seus contras vamos observar como é a aplicabilidade dessa amostragem"
      ],
      "metadata": {
        "id": "G8JmONsCLBGX"
      }
    },
    {
      "cell_type": "code",
      "source": [
        "# Selecionar uma amostra aleatória simples de tamanho 1000\n",
        "amostra = random.sample(df, 1000)"
      ],
      "metadata": {
        "id": "vbfSg9v3LROL"
      },
      "execution_count": null,
      "outputs": []
    }
  ]
}