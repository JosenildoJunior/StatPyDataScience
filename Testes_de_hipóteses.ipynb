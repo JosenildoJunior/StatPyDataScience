{
  "nbformat": 4,
  "nbformat_minor": 0,
  "metadata": {
    "colab": {
      "provenance": [],
      "collapsed_sections": [
        "1z-Vmr-LDtYU"
      ],
      "authorship_tag": "ABX9TyOc7ewjMHy1moyMMe6LHkC6",
      "include_colab_link": true
    },
    "kernelspec": {
      "name": "python3",
      "display_name": "Python 3"
    },
    "language_info": {
      "name": "python"
    }
  },
  "cells": [
    {
      "cell_type": "markdown",
      "metadata": {
        "id": "view-in-github",
        "colab_type": "text"
      },
      "source": [
        "<a href=\"https://colab.research.google.com/github/JosenildoJunior/StatPyDataScience/blob/main/Testes_de_hip%C3%B3teses.ipynb\" target=\"_parent\"><img src=\"https://colab.research.google.com/assets/colab-badge.svg\" alt=\"Open In Colab\"/></a>"
      ]
    },
    {
      "cell_type": "markdown",
      "source": [
        "# **Estatística com Python: Um Guia para Estudos e Solução de Problemas**"
      ],
      "metadata": {
        "id": "aep3iwHXC2Nj"
      }
    },
    {
      "cell_type": "markdown",
      "source": [
        "Breve resumo:\n",
        "\n",
        "O teste de hipóteses é um procedimento estatístico que permite tomar uma decisão entre duas ou mais hipóteses, utilizando os dados observados de um determinado experimento.\n",
        "\n",
        "Quando utilizar:\n",
        "\n",
        "- Sempre que se deseja testar uma hipótese sobre o mundo ao nosso redor.\n",
        "- Sempre que se deseja tomar uma decisão informada com base em dados.\n",
        "\n",
        "Exemplo:\n",
        "\n",
        "- Um cientista pode usar um teste de hipóteses para testar a hipótese de que uma nova droga é eficaz no tratamento de uma determinada doença.\n",
        "\n",
        "Cálculo:\n",
        "\n",
        "O teste de hipóteses envolve a seguinte sequência de passos:\n",
        "\n",
        "- Formular as hipóteses nula e alternativa.\n",
        "- Escolher o nível de significância.\n",
        "- Calcular o valor-p.\n",
        "- Tomar uma decisão.\n",
        "\n",
        "Hipóteses nula e alternativa:\n",
        "\n",
        "- A hipótese nula é a hipótese que se deseja rejeitar. Ela geralmente afirma que não há diferença entre as populações ou que não há efeito do tratamento.\n",
        "\n",
        "- A hipótese alternativa é a hipótese que se deseja aceitar se a hipótese nula for rejeitada. Ela geralmente afirma que há diferença entre as populações ou que há efeito do tratamento."
      ],
      "metadata": {
        "id": "w9vHnchPDEqa"
      }
    },
    {
      "cell_type": "markdown",
      "source": [
        "# **Teste de hipóteses Z**"
      ],
      "metadata": {
        "id": "1z-Vmr-LDtYU"
      }
    },
    {
      "cell_type": "markdown",
      "source": [
        "O teste de hipóteses Z é um teste estatístico usado para comparar duas médias de populações. O teste é baseado na distribuição normal, que é uma distribuição de probabilidade contínua que é usada para modelar uma ampla variedade de dados.\n",
        "\n",
        "O teste de hipóteses Z é realizado da seguinte forma:\n",
        "\n",
        "- Formula-se uma hipótese nula (H0) e uma hipótese alternativa (H1). A hipótese nula é a hipótese de que as duas médias são iguais. A hipótese alternativa é a hipótese de que as duas médias são diferentes.\n",
        "\n",
        "- Calcula-se a estatística do teste Z. A estatística do teste Z é uma medida da diferença entre as duas médias, padronizada pela variância da população.\n",
        "\n",
        "- Calcula-se o valor p. O valor p é a probabilidade de se obter uma estatística do teste Z tão extrema ou mais extrema que a observada, assumindo que a hipótese nula é verdadeira.\n",
        "\n",
        "- Decide-se se rejeita ou não a hipótese nula. Se o valor p for menor que o nível de significância, rejeita-se a hipótese nula. Se o valor p for maior ou igual ao nível de significância, não se rejeita a hipótese nula."
      ],
      "metadata": {
        "id": "lKC573O9Dq_1"
      }
    },
    {
      "cell_type": "markdown",
      "source": [
        "Para exemplificar esse teste, será necessária a importação de algumas bibliotecas. Dito isso, podemos partir para a importação."
      ],
      "metadata": {
        "id": "X2yxemdREDH5"
      }
    },
    {
      "cell_type": "code",
      "execution_count": 1,
      "metadata": {
        "id": "bJyQ030A-AIY"
      },
      "outputs": [],
      "source": [
        "# Manipulação de dados\n",
        "import pandas as pd\n",
        "\n",
        "# Álgebra linear\n",
        "import numpy as np\n",
        "\n",
        "# Biblioteca para o teste Z\n",
        "from statsmodels.stats.weightstats import ztest"
      ]
    },
    {
      "cell_type": "markdown",
      "source": [
        "Agora que já importamos a biblioteca, vamos gerar os dados."
      ],
      "metadata": {
        "id": "Sx2WINr2I5fs"
      }
    },
    {
      "cell_type": "code",
      "source": [
        "# Gerando dados fictícios\n",
        "dados_originais = np.array([126. , 129.5, 133. , 133. , 136.5, 136.5, 140. , 140. , 140. ,\n",
        "                            140. , 143.5, 143.5, 143.5, 143.5, 143.5, 143.5, 147. , 147. ,\n",
        "                            147. , 147. , 147. , 147. , 147. , 150.5, 150.5, 150.5, 150.5,\n",
        "                            150.5, 150.5, 150.5, 150.5, 154. , 154. , 154. , 154. , 154. ,\n",
        "                            154. , 154. , 154. , 154. , 157.5, 157.5, 157.5, 157.5, 157.5,\n",
        "                            157.5, 157.5, 157.5, 157.5, 157.5, 161. , 161. , 161. , 161. ,\n",
        "                            161. , 161. , 161. , 161. , 161. , 161. , 164.5, 164.5, 164.5,\n",
        "                            164.5, 164.5, 164.5, 164.5, 164.5, 164.5, 168. , 168. , 168. ,\n",
        "                            168. , 168. , 168. , 168. , 168. , 171.5, 171.5, 171.5, 171.5,\n",
        "                            171.5, 171.5, 171.5, 175. , 175. , 175. , 175. , 175. , 175. ,\n",
        "                            178.5, 178.5, 178.5, 178.5, 182. , 182. , 185.5, 185.5, 189., 192.5])\n",
        "\n",
        "# Gerando a segunda base de dados\n",
        "dados_novos = dados_originais * 1.03"
      ],
      "metadata": {
        "id": "UwZRccC0JV65"
      },
      "execution_count": 2,
      "outputs": []
    },
    {
      "cell_type": "markdown",
      "source": [
        "Com os dados gerados, podemos partir para a implementação da função.\n",
        "\n",
        "Para que a implementação da função seja um sucesso, seguiremos os seguintes passos:\n",
        "\n",
        "- Passaremos os dados originais.\n",
        "- Passaremos os novos dados.\n",
        "- 'value' é o valor da diferença entre as médias populacionais que queremos testar.\n",
        "- 'alternative' especifica o tipo de teste que queremos executar. No caso, estamos executando um teste unidirecional para a direção maior, pois a média dos novos dados é maior que a média dos dados originais."
      ],
      "metadata": {
        "id": "xVlzcTqlJcD3"
      }
    },
    {
      "cell_type": "markdown",
      "source": [
        "Vamos calcular as hipóteses nula (H0) e alternativa (H1). H0 será a média dos dados originais e H1 será a média dos novos dados."
      ],
      "metadata": {
        "id": "BjqVaZI7LUzy"
      }
    },
    {
      "cell_type": "code",
      "source": [
        "# Calculando o H1\n",
        "H1_media = dados_novos.mean()\n",
        "\n",
        "# Calculando o H0\n",
        "H0_media = dados_originais.mean()"
      ],
      "metadata": {
        "id": "_EInorruLdOR"
      },
      "execution_count": 3,
      "outputs": []
    },
    {
      "cell_type": "markdown",
      "source": [
        "Agora que já temos esses dados, podemos seguir em frente para a aplicação da fórmula."
      ],
      "metadata": {
        "id": "KpDOte7ALnE_"
      }
    },
    {
      "cell_type": "code",
      "source": [
        "# Aplicando a função\n",
        "_, p = ztest(dados_originais, dados_novos, value = H1_media - H0_media, alternative='larger')\n",
        "\n",
        "# Exibindo o valor de p\n",
        "print(p)"
      ],
      "metadata": {
        "colab": {
          "base_uri": "https://localhost:8080/"
        },
        "id": "jjPiTFfmJh7n",
        "outputId": "6b63a322-35f2-49f0-9ae6-0780ca136815"
      },
      "execution_count": 4,
      "outputs": [
        {
          "output_type": "stream",
          "name": "stdout",
          "text": [
            "0.9999993877283934\n"
          ]
        }
      ]
    },
    {
      "cell_type": "markdown",
      "source": [
        "Como estamos do lado direito da distribuição, é necessário executarmos o seguinte cálculo. Utilizando-o, obtemos o valor, mas ainda seria necessário observar na tabela Z. Sendo assim, podemos seguir o seguinte passo:"
      ],
      "metadata": {
        "id": "eQ_x4kYJPo04"
      }
    },
    {
      "cell_type": "code",
      "source": [
        "# Calculando o valor final de p\n",
        "p = 1 - p"
      ],
      "metadata": {
        "id": "X85GQcOSQAa2"
      },
      "execution_count": 5,
      "outputs": []
    },
    {
      "cell_type": "markdown",
      "source": [
        "Agora podemos definir o nível de significância (alpha)"
      ],
      "metadata": {
        "id": "fS2xeWOlL751"
      }
    },
    {
      "cell_type": "code",
      "source": [
        "# Definindo o alpha\n",
        "alpha = 0.05"
      ],
      "metadata": {
        "id": "MDCA_2BWL7Km"
      },
      "execution_count": 6,
      "outputs": []
    },
    {
      "cell_type": "markdown",
      "source": [
        "Agora vamos decidir se rejeitamos ou aceitamos a hipótese nula."
      ],
      "metadata": {
        "id": "WH0aq4LCMKzb"
      }
    },
    {
      "cell_type": "code",
      "source": [
        "if p < alpha:\n",
        "  print('Hipótese nula rejeitada: Média dos dados novos é maior que a média dos dados originais')\n",
        "else:\n",
        "  print('Não há evidência suficiente para rejeitar a hipótese nula')"
      ],
      "metadata": {
        "colab": {
          "base_uri": "https://localhost:8080/"
        },
        "id": "_HelyaPJMQ9Y",
        "outputId": "ba98d7d4-62b6-4332-a15e-045b5102c8b0"
      },
      "execution_count": 7,
      "outputs": [
        {
          "output_type": "stream",
          "name": "stdout",
          "text": [
            "Hipótese nula rejeitada: Média dos dados novos é maior que a média dos dados originais\n"
          ]
        }
      ]
    }
  ]
}