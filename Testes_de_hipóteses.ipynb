{
  "nbformat": 4,
  "nbformat_minor": 0,
  "metadata": {
    "colab": {
      "provenance": [],
      "collapsed_sections": [
        "1z-Vmr-LDtYU",
        "TsDG2ZIz8fXu",
        "F88uDW1sFY_r",
        "G-1RY-HKSthT",
        "1z2_RThDVcit",
        "6czknBTxDSU-",
        "5Os-71nwLF_a",
        "gVqoDXxCNdIo"
      ],
      "authorship_tag": "ABX9TyMrBzmL0KlZP4ovm49e5GrH",
      "include_colab_link": true
    },
    "kernelspec": {
      "name": "python3",
      "display_name": "Python 3"
    },
    "language_info": {
      "name": "python"
    }
  },
  "cells": [
    {
      "cell_type": "markdown",
      "metadata": {
        "id": "view-in-github",
        "colab_type": "text"
      },
      "source": [
        "<a href=\"https://colab.research.google.com/github/JosenildoJunior/StatPyDataScience/blob/main/Testes_de_hip%C3%B3teses.ipynb\" target=\"_parent\"><img src=\"https://colab.research.google.com/assets/colab-badge.svg\" alt=\"Open In Colab\"/></a>"
      ]
    },
    {
      "cell_type": "markdown",
      "source": [
        "# **Estatística com Python: Um Guia para Estudos e Solução de Problemas**"
      ],
      "metadata": {
        "id": "aep3iwHXC2Nj"
      }
    },
    {
      "cell_type": "markdown",
      "source": [
        "Breve resumo:\n",
        "\n",
        "O teste de hipóteses é um procedimento estatístico que permite tomar uma decisão entre duas ou mais hipóteses, utilizando os dados observados de um determinado experimento.\n",
        "\n",
        "Quando utilizar:\n",
        "\n",
        "- Sempre que se deseja testar uma hipótese sobre o mundo ao nosso redor.\n",
        "- Sempre que se deseja tomar uma decisão informada com base em dados.\n",
        "\n",
        "Exemplo:\n",
        "\n",
        "- Um cientista pode usar um teste de hipóteses para testar a hipótese de que uma nova droga é eficaz no tratamento de uma determinada doença.\n",
        "\n",
        "Cálculo:\n",
        "\n",
        "O teste de hipóteses envolve a seguinte sequência de passos:\n",
        "\n",
        "- Formular as hipóteses nula e alternativa.\n",
        "- Escolher o nível de significância.\n",
        "- Calcular o valor-p.\n",
        "- Tomar uma decisão.\n",
        "\n",
        "Hipóteses nula e alternativa:\n",
        "\n",
        "- A hipótese nula é a hipótese que se deseja rejeitar. Ela geralmente afirma que não há diferença entre as populações ou que não há efeito do tratamento.\n",
        "\n",
        "- A hipótese alternativa é a hipótese que se deseja aceitar se a hipótese nula for rejeitada. Ela geralmente afirma que há diferença entre as populações ou que há efeito do tratamento."
      ],
      "metadata": {
        "id": "w9vHnchPDEqa"
      }
    },
    {
      "cell_type": "markdown",
      "source": [
        "# **Teste de hipóteses Z**"
      ],
      "metadata": {
        "id": "1z-Vmr-LDtYU"
      }
    },
    {
      "cell_type": "markdown",
      "source": [
        "O teste de hipóteses Z é um teste estatístico usado para comparar duas médias de populações. O teste é baseado na distribuição normal, que é uma distribuição de probabilidade contínua que é usada para modelar uma ampla variedade de dados.\n",
        "\n",
        "O teste de hipóteses Z é realizado da seguinte forma:\n",
        "\n",
        "- Formula-se uma hipótese nula (H0) e uma hipótese alternativa (H1). A hipótese nula é a hipótese de que as duas médias são iguais. A hipótese alternativa é a hipótese de que as duas médias são diferentes.\n",
        "\n",
        "- Calcula-se a estatística do teste Z. A estatística do teste Z é uma medida da diferença entre as duas médias, padronizada pela variância da população.\n",
        "\n",
        "- Calcula-se o valor p. O valor p é a probabilidade de se obter uma estatística do teste Z tão extrema ou mais extrema que a observada, assumindo que a hipótese nula é verdadeira.\n",
        "\n",
        "- Decide-se se rejeita ou não a hipótese nula. Se o valor p for menor que o nível de significância, rejeita-se a hipótese nula. Se o valor p for maior ou igual ao nível de significância, não se rejeita a hipótese nula."
      ],
      "metadata": {
        "id": "lKC573O9Dq_1"
      }
    },
    {
      "cell_type": "markdown",
      "source": [
        "Para exemplificar esse teste, será necessária a importação de algumas bibliotecas. Dito isso, podemos partir para a importação."
      ],
      "metadata": {
        "id": "X2yxemdREDH5"
      }
    },
    {
      "cell_type": "code",
      "execution_count": null,
      "metadata": {
        "id": "bJyQ030A-AIY"
      },
      "outputs": [],
      "source": [
        "# Manipulação de dados\n",
        "import pandas as pd\n",
        "\n",
        "# Álgebra linear\n",
        "import numpy as np\n",
        "\n",
        "# Biblioteca para o teste Z\n",
        "from statsmodels.stats.weightstats import ztest"
      ]
    },
    {
      "cell_type": "markdown",
      "source": [
        "Agora que já importamos a biblioteca, vamos gerar os dados."
      ],
      "metadata": {
        "id": "Sx2WINr2I5fs"
      }
    },
    {
      "cell_type": "code",
      "source": [
        "# Gerando dados fictícios\n",
        "dados_originais = np.array([126. , 129.5, 133. , 133. , 136.5, 136.5, 140. , 140. , 140. ,\n",
        "                            140. , 143.5, 143.5, 143.5, 143.5, 143.5, 143.5, 147. , 147. ,\n",
        "                            147. , 147. , 147. , 147. , 147. , 150.5, 150.5, 150.5, 150.5,\n",
        "                            150.5, 150.5, 150.5, 150.5, 154. , 154. , 154. , 154. , 154. ,\n",
        "                            154. , 154. , 154. , 154. , 157.5, 157.5, 157.5, 157.5, 157.5,\n",
        "                            157.5, 157.5, 157.5, 157.5, 157.5, 161. , 161. , 161. , 161. ,\n",
        "                            161. , 161. , 161. , 161. , 161. , 161. , 164.5, 164.5, 164.5,\n",
        "                            164.5, 164.5, 164.5, 164.5, 164.5, 164.5, 168. , 168. , 168. ,\n",
        "                            168. , 168. , 168. , 168. , 168. , 171.5, 171.5, 171.5, 171.5,\n",
        "                            171.5, 171.5, 171.5, 175. , 175. , 175. , 175. , 175. , 175. ,\n",
        "                            178.5, 178.5, 178.5, 178.5, 182. , 182. , 185.5, 185.5, 189., 192.5])\n",
        "\n",
        "# Gerando a segunda base de dados\n",
        "dados_novos = dados_originais * 1.03"
      ],
      "metadata": {
        "id": "UwZRccC0JV65"
      },
      "execution_count": null,
      "outputs": []
    },
    {
      "cell_type": "markdown",
      "source": [
        "Com os dados gerados, podemos partir para a implementação da função.\n",
        "\n",
        "Para que a implementação da função seja um sucesso, seguiremos os seguintes passos:\n",
        "\n",
        "- Passaremos os dados originais.\n",
        "- Passaremos os novos dados.\n",
        "- 'value' é o valor da diferença entre as médias populacionais que queremos testar.\n",
        "- 'alternative' especifica o tipo de teste que queremos executar. No caso, estamos executando um teste unidirecional para a direção maior, pois a média dos novos dados é maior que a média dos dados originais."
      ],
      "metadata": {
        "id": "xVlzcTqlJcD3"
      }
    },
    {
      "cell_type": "markdown",
      "source": [
        "Vamos calcular as hipóteses nula (H0) e alternativa (H1). H0 será a média dos dados originais e H1 será a média dos novos dados."
      ],
      "metadata": {
        "id": "BjqVaZI7LUzy"
      }
    },
    {
      "cell_type": "code",
      "source": [
        "# Calculando o H1\n",
        "H1_media = dados_novos.mean()\n",
        "\n",
        "# Calculando o H0\n",
        "H0_media = dados_originais.mean()"
      ],
      "metadata": {
        "id": "_EInorruLdOR"
      },
      "execution_count": null,
      "outputs": []
    },
    {
      "cell_type": "markdown",
      "source": [
        "Agora que já temos esses dados, podemos seguir em frente para a aplicação da fórmula."
      ],
      "metadata": {
        "id": "KpDOte7ALnE_"
      }
    },
    {
      "cell_type": "code",
      "source": [
        "# Aplicando a função\n",
        "_, p = ztest(dados_originais, dados_novos, value = H1_media - H0_media, alternative='larger')\n",
        "\n",
        "# Exibindo o valor de p\n",
        "print(p)"
      ],
      "metadata": {
        "colab": {
          "base_uri": "https://localhost:8080/"
        },
        "id": "jjPiTFfmJh7n",
        "outputId": "6b63a322-35f2-49f0-9ae6-0780ca136815"
      },
      "execution_count": null,
      "outputs": [
        {
          "output_type": "stream",
          "name": "stdout",
          "text": [
            "0.9999993877283934\n"
          ]
        }
      ]
    },
    {
      "cell_type": "markdown",
      "source": [
        "Como estamos do lado direito da distribuição, é necessário executarmos o seguinte cálculo. Utilizando-o, obtemos o valor, mas ainda seria necessário observar na tabela Z. Sendo assim, podemos seguir o seguinte passo:"
      ],
      "metadata": {
        "id": "eQ_x4kYJPo04"
      }
    },
    {
      "cell_type": "code",
      "source": [
        "# Calculando o valor final de p\n",
        "p = 1 - p"
      ],
      "metadata": {
        "id": "X85GQcOSQAa2"
      },
      "execution_count": null,
      "outputs": []
    },
    {
      "cell_type": "markdown",
      "source": [
        "Agora podemos definir o nível de significância (alpha)\n",
        "\n",
        "Importante lembrar que: O valor alpha mais comumente usado é 0,05, que significa que estamos dispostos a correr um risco de 5% de rejeitarmos a hipótese nula quando ela é verdadeira."
      ],
      "metadata": {
        "id": "fS2xeWOlL751"
      }
    },
    {
      "cell_type": "code",
      "source": [
        "# Definindo o alpha\n",
        "alpha = 0.05"
      ],
      "metadata": {
        "id": "MDCA_2BWL7Km"
      },
      "execution_count": null,
      "outputs": []
    },
    {
      "cell_type": "markdown",
      "source": [
        "Agora vamos decidir se rejeitamos ou aceitamos a hipótese nula."
      ],
      "metadata": {
        "id": "WH0aq4LCMKzb"
      }
    },
    {
      "cell_type": "code",
      "source": [
        "# Testando as hipóteses\n",
        "if p < alpha:\n",
        "  print('Hipótese nula rejeitada: Média dos dados novos é maior que a média dos dados originais')\n",
        "else:\n",
        "  print('Não há evidência suficiente para rejeitar a hipótese nula')"
      ],
      "metadata": {
        "colab": {
          "base_uri": "https://localhost:8080/"
        },
        "id": "_HelyaPJMQ9Y",
        "outputId": "ba98d7d4-62b6-4332-a15e-045b5102c8b0"
      },
      "execution_count": null,
      "outputs": [
        {
          "output_type": "stream",
          "name": "stdout",
          "text": [
            "Hipótese nula rejeitada: Média dos dados novos é maior que a média dos dados originais\n"
          ]
        }
      ]
    },
    {
      "cell_type": "markdown",
      "source": [
        "Uma vez que obtivemos um valor de p menor que o valor de alpha, podemos concluir que a hipótese nula deve ser rejeitada. Isso significa que a hipótese alternativa deve ser aceita."
      ],
      "metadata": {
        "id": "zxa96Mp27VPI"
      }
    },
    {
      "cell_type": "markdown",
      "source": [
        "## **Exercício**"
      ],
      "metadata": {
        "id": "TsDG2ZIz8fXu"
      }
    },
    {
      "cell_type": "markdown",
      "source": [
        "Testes de hipóteses podem ser realizados usando a estatística Z ou a estatística T da Distribuição T Student. A estatística T é recomendada quando o número de registros é pequeno (até 30 amostras). Abaixo, implemente uma base de dados com as alturas de 9 pessoas.\n",
        "\n",
        "Depois, siga o seguinte roteiro:\n",
        "\n",
        "- Crie uma nova variável com alturas de 9 pessoas, porém, com valores diferentes.\n",
        "- Importe o pacote from scipy.stats import ttest_rel para realizar o teste de hipótese.\n",
        "- Realize o teste de hipótese para **verificar se as distribuições são ou não diferentes.**"
      ],
      "metadata": {
        "id": "mtw2msb78hl9"
      }
    },
    {
      "cell_type": "markdown",
      "source": [
        "Obtendo os dados"
      ],
      "metadata": {
        "id": "LQXUC-2N-CXi"
      }
    },
    {
      "cell_type": "code",
      "source": [
        "# Dados originais\n",
        "dados = np.array([149. , 160., 147., 189., 175., 168., 156., 160., 152.])\n",
        "\n",
        "# Novos dados\n",
        "novos_dados = dados * 1.02"
      ],
      "metadata": {
        "id": "nTmanlif8vAc"
      },
      "execution_count": null,
      "outputs": []
    },
    {
      "cell_type": "markdown",
      "source": [
        "Agora que temos os dados, precisamos importar a biblioteca. Vamos realizar a importação."
      ],
      "metadata": {
        "id": "H1g342si-EB5"
      }
    },
    {
      "cell_type": "code",
      "source": [
        "# Importando para distribuição T\n",
        "from scipy.stats import ttest_rel"
      ],
      "metadata": {
        "id": "8T3ArD-B_Hcq"
      },
      "execution_count": null,
      "outputs": []
    },
    {
      "cell_type": "markdown",
      "source": [
        "Com a biblioteca importada, podemos seguir adiante."
      ],
      "metadata": {
        "id": "nZ5vfyTd_Rdi"
      }
    },
    {
      "cell_type": "code",
      "source": [
        "# Aplicando a função\n",
        "_, p = ttest_rel(dados, novos_dados)\n",
        "\n",
        "# Exibindo o valor de p\n",
        "print(p)"
      ],
      "metadata": {
        "colab": {
          "base_uri": "https://localhost:8080/"
        },
        "id": "DHtkJAql-M9J",
        "outputId": "425769a0-3406-471d-9e36-8c71b996e545"
      },
      "execution_count": null,
      "outputs": [
        {
          "output_type": "stream",
          "name": "stdout",
          "text": [
            "4.072922493930298e-10\n"
          ]
        }
      ]
    },
    {
      "cell_type": "markdown",
      "source": [
        "Essa função retorna o valor de p diretamente, sem a necessidade de realizar o cálculo de 1 - p. Portanto, podemos seguir adiante."
      ],
      "metadata": {
        "id": "6_G4_q0xCXqb"
      }
    },
    {
      "cell_type": "markdown",
      "source": [
        "Podemos agora definir o nível de significância (alpha)."
      ],
      "metadata": {
        "id": "Giy3dUK0_ccw"
      }
    },
    {
      "cell_type": "code",
      "source": [
        "# Definindo o alpha\n",
        "alpha = 0.01"
      ],
      "metadata": {
        "id": "Uno1UTrI_cmA"
      },
      "execution_count": null,
      "outputs": []
    },
    {
      "cell_type": "markdown",
      "source": [
        "Agora vamos decidir se rejeitamos ou aceitamos a hipótese nula."
      ],
      "metadata": {
        "id": "tJPpPvBdAL-q"
      }
    },
    {
      "cell_type": "code",
      "source": [
        "# Testando as hipóteses\n",
        "if p <= alpha:\n",
        "  print('Hipótese nula rejeitada')\n",
        "else:\n",
        "  print('Hipótese alternativa rejeitada')"
      ],
      "metadata": {
        "colab": {
          "base_uri": "https://localhost:8080/"
        },
        "id": "3sBMZQgA_66O",
        "outputId": "62b737ee-1359-4265-ca4a-c4973fc0c6f5"
      },
      "execution_count": null,
      "outputs": [
        {
          "output_type": "stream",
          "name": "stdout",
          "text": [
            "Hipótese nula rejeitada\n"
          ]
        }
      ]
    },
    {
      "cell_type": "markdown",
      "source": [
        "Com base nisso, podemos concluir que as duas bases de dados possuem distribuições diferentes."
      ],
      "metadata": {
        "id": "1dzFVf5CAOIL"
      }
    },
    {
      "cell_type": "markdown",
      "source": [
        "# **Teste qui quadrado**"
      ],
      "metadata": {
        "id": "F88uDW1sFY_r"
      }
    },
    {
      "cell_type": "markdown",
      "source": [
        "Breve resumo:\n",
        "\n",
        "O teste qui-quadrado é um teste estatístico usado para comparar frequências observadas e esperadas. Ele é usado para testar hipóteses sobre a distribuição de dados categóricos.\n",
        "\n",
        "Quando utilizar:\n",
        "\n",
        "- Sempre que se deseja comparar frequências observadas e esperadas.\n",
        "- Sempre que se deseja testar hipóteses sobre a distribuição de dados categóricos.\n",
        "\n",
        "Exemplos:\n",
        "\n",
        "- Um pesquisador pode usar o teste qui-quadrado para testar a hipótese de que a distribuição de gêneros de uma população é igual à distribuição de gêneros de uma amostra."
      ],
      "metadata": {
        "id": "hyN5DFivGyQY"
      }
    },
    {
      "cell_type": "markdown",
      "source": [
        "Para exemplificar esse teste, vamos começar importando a biblioteca para utilizarmos sua função."
      ],
      "metadata": {
        "id": "xecXNar7G6OW"
      }
    },
    {
      "cell_type": "code",
      "source": [
        "# Biblioteca para o qui quadrado\n",
        "from scipy.stats import chi2_contingency"
      ],
      "metadata": {
        "id": "Ru9m0pnsG-0F"
      },
      "execution_count": null,
      "outputs": []
    },
    {
      "cell_type": "markdown",
      "source": [
        "Agora vamos gerar os dados que serão utilizados, lembrando que nosso objetivo é *confirmar que há uma diferença estatisticamente significativa entre os dados.*"
      ],
      "metadata": {
        "id": "FlpJBnK-HDZF"
      }
    },
    {
      "cell_type": "code",
      "source": [
        "# Gerando os dados\n",
        "tabela = np.array([[30, 20], [22, 28]])"
      ],
      "metadata": {
        "id": "M1uNGeD2HL6c"
      },
      "execution_count": null,
      "outputs": []
    },
    {
      "cell_type": "markdown",
      "source": [
        "Com os dados gerados, podemos agora aplicar a função."
      ],
      "metadata": {
        "id": "lgXDanPbHQvM"
      }
    },
    {
      "cell_type": "code",
      "source": [
        "# Aplicando a função\n",
        "chi2_contingency(tabela)"
      ],
      "metadata": {
        "colab": {
          "base_uri": "https://localhost:8080/"
        },
        "id": "b195Z0I1HX3z",
        "outputId": "817908a1-9f14-4860-ea0b-5e6a87620f41"
      },
      "execution_count": null,
      "outputs": [
        {
          "output_type": "execute_result",
          "data": {
            "text/plain": [
              "Chi2ContingencyResult(statistic=1.9631410256410255, pvalue=0.16117778944980238, dof=1, expected_freq=array([[26., 24.],\n",
              "       [26., 24.]]))"
            ]
          },
          "metadata": {},
          "execution_count": 22
        }
      ]
    },
    {
      "cell_type": "markdown",
      "source": [
        "É possível observar que essa função retorna diversos valores, mas o único que nos interessa nesse caso é o p-valor. Portanto, iremos armazenar apenas ele na variável p, seguindo o seguinte exemplo:"
      ],
      "metadata": {
        "id": "sNAjypCxHbvK"
      }
    },
    {
      "cell_type": "code",
      "source": [
        "# Aplicando a função\n",
        "_, p, _, _ = chi2_contingency(tabela)\n",
        "\n",
        "# Exibindo o valor\n",
        "print(p)"
      ],
      "metadata": {
        "colab": {
          "base_uri": "https://localhost:8080/"
        },
        "id": "SqVOXUzCHkqa",
        "outputId": "d00c3b60-81df-4340-d2ed-44438f1c1eaa"
      },
      "execution_count": null,
      "outputs": [
        {
          "output_type": "stream",
          "name": "stdout",
          "text": [
            "0.16117778944980238\n"
          ]
        }
      ]
    },
    {
      "cell_type": "markdown",
      "source": [
        "Podemos agora definir o nível de significância (alpha)"
      ],
      "metadata": {
        "id": "0nNYwMArHtBQ"
      }
    },
    {
      "cell_type": "code",
      "source": [
        "# Definindo o alpha\n",
        "alpha = 0.05"
      ],
      "metadata": {
        "id": "x6SPw9e0HtMJ"
      },
      "execution_count": null,
      "outputs": []
    },
    {
      "cell_type": "markdown",
      "source": [
        "Agora vamos decidir se rejeitamos ou aceitamos a hipótese nula."
      ],
      "metadata": {
        "id": "djaIDY4THyHn"
      }
    },
    {
      "cell_type": "code",
      "source": [
        "# Testando as hipóteses\n",
        "if p <= alpha:\n",
        "  print('Hipótese nula rejeitada')\n",
        "else:\n",
        "  print('Hipótese alternativa rejeitada')"
      ],
      "metadata": {
        "colab": {
          "base_uri": "https://localhost:8080/"
        },
        "id": "BtGNH9H_HySf",
        "outputId": "678520d7-64cf-4ed9-ae0f-13de7d3c08bc"
      },
      "execution_count": null,
      "outputs": [
        {
          "output_type": "stream",
          "name": "stdout",
          "text": [
            "Hipótese alternativa rejeitada\n"
          ]
        }
      ]
    },
    {
      "cell_type": "markdown",
      "source": [
        "Ao rejeitarmos a nossa hipótese alternativa, concluímos que não existe diferença estatisticamente significativa entre as distribuições."
      ],
      "metadata": {
        "id": "K9X86FilH18H"
      }
    },
    {
      "cell_type": "markdown",
      "source": [
        "# **Seleção de atributos com testes de hipóteses**"
      ],
      "metadata": {
        "id": "G-1RY-HKSthT"
      }
    },
    {
      "cell_type": "markdown",
      "source": [
        "Breve resumo:\n",
        "\n",
        "A seleção de atributos é uma tarefa de aprendizado de máquina que envolve a identificação dos atributos mais relevantes para um determinado problema. Os testes de hipóteses podem ser usados para selecionar atributos de uma forma que seja objetiva e baseada em dados.\n",
        "\n",
        "Quando utilizar:\n",
        "\n",
        "- Sempre que se deseja selecionar atributos para um modelo de aprendizado de máquina.\n",
        "- Sempre que se deseja selecionar atributos de uma forma que seja objetiva e baseada em dados.\n",
        "\n",
        "Exemplos:\n",
        "\n",
        "Um cientista de dados pode usar a seleção de atributos com testes de hipóteses para selecionar os atributos mais relevantes para um modelo de classificação de imagens"
      ],
      "metadata": {
        "id": "h0FCkHUxS4zZ"
      }
    },
    {
      "cell_type": "markdown",
      "source": [
        "Para exemplificação dessa seleção será necessario a importação de algumas bibliotecas"
      ],
      "metadata": {
        "id": "1oi7lwFXTAoA"
      }
    },
    {
      "cell_type": "code",
      "source": [
        "# Manipulação de dados\n",
        "import pandas as pd\n",
        "\n",
        "# Álgebra linear\n",
        "import numpy as np\n",
        "\n",
        "# Seleção de atributos\n",
        "from sklearn.feature_selection import SelectFdr\n",
        "from sklearn.feature_selection import chi2\n",
        "\n",
        "# Modelo de Machine Learning\n",
        "from sklearn.naive_bayes import GaussianNB\n",
        "\n",
        "# Métricas de validação\n",
        "from sklearn.metrics import accuracy_score"
      ],
      "metadata": {
        "id": "2jpdY8dkTGR3"
      },
      "execution_count": 1,
      "outputs": []
    },
    {
      "cell_type": "markdown",
      "source": [
        "Com todas essas bibliotecas importadas podemos seguir adiante, para a importação dos dados"
      ],
      "metadata": {
        "id": "thfFX7h2TXZd"
      }
    },
    {
      "cell_type": "code",
      "source": [
        "# Acesso ao drive\n",
        "from google.colab import drive\n",
        "drive.mount('/content/drive')"
      ],
      "metadata": {
        "colab": {
          "base_uri": "https://localhost:8080/"
        },
        "id": "Lvp2CQa4TxNj",
        "outputId": "d7802ff2-ac84-47ad-d5bf-bb1528c04108"
      },
      "execution_count": 2,
      "outputs": [
        {
          "output_type": "stream",
          "name": "stdout",
          "text": [
            "Mounted at /content/drive\n"
          ]
        }
      ]
    },
    {
      "cell_type": "code",
      "source": [
        "# Importando o dataset\n",
        "df = pd.read_csv(\"/content/drive/MyDrive/Estatística para ciência de dados/ad.data\", header=None)"
      ],
      "metadata": {
        "id": "piWNieJsT8T6"
      },
      "execution_count": 3,
      "outputs": []
    },
    {
      "cell_type": "code",
      "source": [
        "# Observando os registros\n",
        "df.head()"
      ],
      "metadata": {
        "colab": {
          "base_uri": "https://localhost:8080/",
          "height": 236
        },
        "id": "lBNxwbMGUb4k",
        "outputId": "2e23872a-89c0-44a6-8db4-584450d56c7b"
      },
      "execution_count": null,
      "outputs": [
        {
          "output_type": "execute_result",
          "data": {
            "text/plain": [
              "   0     1       2     3     4     5     6     7     8     9     ...  1549  \\\n",
              "0   125   125  1.0000     1     0     0     0     0     0     0  ...     0   \n",
              "1    57   468  8.2105     1     0     0     0     0     0     0  ...     0   \n",
              "2    33   230  6.9696     1     0     0     0     0     0     0  ...     0   \n",
              "3    60   468  7.8000     1     0     0     0     0     0     0  ...     0   \n",
              "4    60   468  7.8000     1     0     0     0     0     0     0  ...     0   \n",
              "\n",
              "   1550  1551  1552  1553  1554  1555  1556  1557  1558  \n",
              "0     0     0     0     0     0     0     0     0   ad.  \n",
              "1     0     0     0     0     0     0     0     0   ad.  \n",
              "2     0     0     0     0     0     0     0     0   ad.  \n",
              "3     0     0     0     0     0     0     0     0   ad.  \n",
              "4     0     0     0     0     0     0     0     0   ad.  \n",
              "\n",
              "[5 rows x 1559 columns]"
            ],
            "text/html": [
              "\n",
              "  <div id=\"df-bd09dc94-f61f-47b8-a033-25a80b5decb8\" class=\"colab-df-container\">\n",
              "    <div>\n",
              "<style scoped>\n",
              "    .dataframe tbody tr th:only-of-type {\n",
              "        vertical-align: middle;\n",
              "    }\n",
              "\n",
              "    .dataframe tbody tr th {\n",
              "        vertical-align: top;\n",
              "    }\n",
              "\n",
              "    .dataframe thead th {\n",
              "        text-align: right;\n",
              "    }\n",
              "</style>\n",
              "<table border=\"1\" class=\"dataframe\">\n",
              "  <thead>\n",
              "    <tr style=\"text-align: right;\">\n",
              "      <th></th>\n",
              "      <th>0</th>\n",
              "      <th>1</th>\n",
              "      <th>2</th>\n",
              "      <th>3</th>\n",
              "      <th>4</th>\n",
              "      <th>5</th>\n",
              "      <th>6</th>\n",
              "      <th>7</th>\n",
              "      <th>8</th>\n",
              "      <th>9</th>\n",
              "      <th>...</th>\n",
              "      <th>1549</th>\n",
              "      <th>1550</th>\n",
              "      <th>1551</th>\n",
              "      <th>1552</th>\n",
              "      <th>1553</th>\n",
              "      <th>1554</th>\n",
              "      <th>1555</th>\n",
              "      <th>1556</th>\n",
              "      <th>1557</th>\n",
              "      <th>1558</th>\n",
              "    </tr>\n",
              "  </thead>\n",
              "  <tbody>\n",
              "    <tr>\n",
              "      <th>0</th>\n",
              "      <td>125</td>\n",
              "      <td>125</td>\n",
              "      <td>1.0000</td>\n",
              "      <td>1</td>\n",
              "      <td>0</td>\n",
              "      <td>0</td>\n",
              "      <td>0</td>\n",
              "      <td>0</td>\n",
              "      <td>0</td>\n",
              "      <td>0</td>\n",
              "      <td>...</td>\n",
              "      <td>0</td>\n",
              "      <td>0</td>\n",
              "      <td>0</td>\n",
              "      <td>0</td>\n",
              "      <td>0</td>\n",
              "      <td>0</td>\n",
              "      <td>0</td>\n",
              "      <td>0</td>\n",
              "      <td>0</td>\n",
              "      <td>ad.</td>\n",
              "    </tr>\n",
              "    <tr>\n",
              "      <th>1</th>\n",
              "      <td>57</td>\n",
              "      <td>468</td>\n",
              "      <td>8.2105</td>\n",
              "      <td>1</td>\n",
              "      <td>0</td>\n",
              "      <td>0</td>\n",
              "      <td>0</td>\n",
              "      <td>0</td>\n",
              "      <td>0</td>\n",
              "      <td>0</td>\n",
              "      <td>...</td>\n",
              "      <td>0</td>\n",
              "      <td>0</td>\n",
              "      <td>0</td>\n",
              "      <td>0</td>\n",
              "      <td>0</td>\n",
              "      <td>0</td>\n",
              "      <td>0</td>\n",
              "      <td>0</td>\n",
              "      <td>0</td>\n",
              "      <td>ad.</td>\n",
              "    </tr>\n",
              "    <tr>\n",
              "      <th>2</th>\n",
              "      <td>33</td>\n",
              "      <td>230</td>\n",
              "      <td>6.9696</td>\n",
              "      <td>1</td>\n",
              "      <td>0</td>\n",
              "      <td>0</td>\n",
              "      <td>0</td>\n",
              "      <td>0</td>\n",
              "      <td>0</td>\n",
              "      <td>0</td>\n",
              "      <td>...</td>\n",
              "      <td>0</td>\n",
              "      <td>0</td>\n",
              "      <td>0</td>\n",
              "      <td>0</td>\n",
              "      <td>0</td>\n",
              "      <td>0</td>\n",
              "      <td>0</td>\n",
              "      <td>0</td>\n",
              "      <td>0</td>\n",
              "      <td>ad.</td>\n",
              "    </tr>\n",
              "    <tr>\n",
              "      <th>3</th>\n",
              "      <td>60</td>\n",
              "      <td>468</td>\n",
              "      <td>7.8000</td>\n",
              "      <td>1</td>\n",
              "      <td>0</td>\n",
              "      <td>0</td>\n",
              "      <td>0</td>\n",
              "      <td>0</td>\n",
              "      <td>0</td>\n",
              "      <td>0</td>\n",
              "      <td>...</td>\n",
              "      <td>0</td>\n",
              "      <td>0</td>\n",
              "      <td>0</td>\n",
              "      <td>0</td>\n",
              "      <td>0</td>\n",
              "      <td>0</td>\n",
              "      <td>0</td>\n",
              "      <td>0</td>\n",
              "      <td>0</td>\n",
              "      <td>ad.</td>\n",
              "    </tr>\n",
              "    <tr>\n",
              "      <th>4</th>\n",
              "      <td>60</td>\n",
              "      <td>468</td>\n",
              "      <td>7.8000</td>\n",
              "      <td>1</td>\n",
              "      <td>0</td>\n",
              "      <td>0</td>\n",
              "      <td>0</td>\n",
              "      <td>0</td>\n",
              "      <td>0</td>\n",
              "      <td>0</td>\n",
              "      <td>...</td>\n",
              "      <td>0</td>\n",
              "      <td>0</td>\n",
              "      <td>0</td>\n",
              "      <td>0</td>\n",
              "      <td>0</td>\n",
              "      <td>0</td>\n",
              "      <td>0</td>\n",
              "      <td>0</td>\n",
              "      <td>0</td>\n",
              "      <td>ad.</td>\n",
              "    </tr>\n",
              "  </tbody>\n",
              "</table>\n",
              "<p>5 rows × 1559 columns</p>\n",
              "</div>\n",
              "    <div class=\"colab-df-buttons\">\n",
              "\n",
              "  <div class=\"colab-df-container\">\n",
              "    <button class=\"colab-df-convert\" onclick=\"convertToInteractive('df-bd09dc94-f61f-47b8-a033-25a80b5decb8')\"\n",
              "            title=\"Convert this dataframe to an interactive table.\"\n",
              "            style=\"display:none;\">\n",
              "\n",
              "  <svg xmlns=\"http://www.w3.org/2000/svg\" height=\"24px\" viewBox=\"0 -960 960 960\">\n",
              "    <path d=\"M120-120v-720h720v720H120Zm60-500h600v-160H180v160Zm220 220h160v-160H400v160Zm0 220h160v-160H400v160ZM180-400h160v-160H180v160Zm440 0h160v-160H620v160ZM180-180h160v-160H180v160Zm440 0h160v-160H620v160Z\"/>\n",
              "  </svg>\n",
              "    </button>\n",
              "\n",
              "  <style>\n",
              "    .colab-df-container {\n",
              "      display:flex;\n",
              "      gap: 12px;\n",
              "    }\n",
              "\n",
              "    .colab-df-convert {\n",
              "      background-color: #E8F0FE;\n",
              "      border: none;\n",
              "      border-radius: 50%;\n",
              "      cursor: pointer;\n",
              "      display: none;\n",
              "      fill: #1967D2;\n",
              "      height: 32px;\n",
              "      padding: 0 0 0 0;\n",
              "      width: 32px;\n",
              "    }\n",
              "\n",
              "    .colab-df-convert:hover {\n",
              "      background-color: #E2EBFA;\n",
              "      box-shadow: 0px 1px 2px rgba(60, 64, 67, 0.3), 0px 1px 3px 1px rgba(60, 64, 67, 0.15);\n",
              "      fill: #174EA6;\n",
              "    }\n",
              "\n",
              "    .colab-df-buttons div {\n",
              "      margin-bottom: 4px;\n",
              "    }\n",
              "\n",
              "    [theme=dark] .colab-df-convert {\n",
              "      background-color: #3B4455;\n",
              "      fill: #D2E3FC;\n",
              "    }\n",
              "\n",
              "    [theme=dark] .colab-df-convert:hover {\n",
              "      background-color: #434B5C;\n",
              "      box-shadow: 0px 1px 3px 1px rgba(0, 0, 0, 0.15);\n",
              "      filter: drop-shadow(0px 1px 2px rgba(0, 0, 0, 0.3));\n",
              "      fill: #FFFFFF;\n",
              "    }\n",
              "  </style>\n",
              "\n",
              "    <script>\n",
              "      const buttonEl =\n",
              "        document.querySelector('#df-bd09dc94-f61f-47b8-a033-25a80b5decb8 button.colab-df-convert');\n",
              "      buttonEl.style.display =\n",
              "        google.colab.kernel.accessAllowed ? 'block' : 'none';\n",
              "\n",
              "      async function convertToInteractive(key) {\n",
              "        const element = document.querySelector('#df-bd09dc94-f61f-47b8-a033-25a80b5decb8');\n",
              "        const dataTable =\n",
              "          await google.colab.kernel.invokeFunction('convertToInteractive',\n",
              "                                                    [key], {});\n",
              "        if (!dataTable) return;\n",
              "\n",
              "        const docLinkHtml = 'Like what you see? Visit the ' +\n",
              "          '<a target=\"_blank\" href=https://colab.research.google.com/notebooks/data_table.ipynb>data table notebook</a>'\n",
              "          + ' to learn more about interactive tables.';\n",
              "        element.innerHTML = '';\n",
              "        dataTable['output_type'] = 'display_data';\n",
              "        await google.colab.output.renderOutput(dataTable, element);\n",
              "        const docLink = document.createElement('div');\n",
              "        docLink.innerHTML = docLinkHtml;\n",
              "        element.appendChild(docLink);\n",
              "      }\n",
              "    </script>\n",
              "  </div>\n",
              "\n",
              "\n",
              "<div id=\"df-8e618b10-f063-41fc-953b-7ed61da7cafa\">\n",
              "  <button class=\"colab-df-quickchart\" onclick=\"quickchart('df-8e618b10-f063-41fc-953b-7ed61da7cafa')\"\n",
              "            title=\"Suggest charts\"\n",
              "            style=\"display:none;\">\n",
              "\n",
              "<svg xmlns=\"http://www.w3.org/2000/svg\" height=\"24px\"viewBox=\"0 0 24 24\"\n",
              "     width=\"24px\">\n",
              "    <g>\n",
              "        <path d=\"M19 3H5c-1.1 0-2 .9-2 2v14c0 1.1.9 2 2 2h14c1.1 0 2-.9 2-2V5c0-1.1-.9-2-2-2zM9 17H7v-7h2v7zm4 0h-2V7h2v10zm4 0h-2v-4h2v4z\"/>\n",
              "    </g>\n",
              "</svg>\n",
              "  </button>\n",
              "\n",
              "<style>\n",
              "  .colab-df-quickchart {\n",
              "      --bg-color: #E8F0FE;\n",
              "      --fill-color: #1967D2;\n",
              "      --hover-bg-color: #E2EBFA;\n",
              "      --hover-fill-color: #174EA6;\n",
              "      --disabled-fill-color: #AAA;\n",
              "      --disabled-bg-color: #DDD;\n",
              "  }\n",
              "\n",
              "  [theme=dark] .colab-df-quickchart {\n",
              "      --bg-color: #3B4455;\n",
              "      --fill-color: #D2E3FC;\n",
              "      --hover-bg-color: #434B5C;\n",
              "      --hover-fill-color: #FFFFFF;\n",
              "      --disabled-bg-color: #3B4455;\n",
              "      --disabled-fill-color: #666;\n",
              "  }\n",
              "\n",
              "  .colab-df-quickchart {\n",
              "    background-color: var(--bg-color);\n",
              "    border: none;\n",
              "    border-radius: 50%;\n",
              "    cursor: pointer;\n",
              "    display: none;\n",
              "    fill: var(--fill-color);\n",
              "    height: 32px;\n",
              "    padding: 0;\n",
              "    width: 32px;\n",
              "  }\n",
              "\n",
              "  .colab-df-quickchart:hover {\n",
              "    background-color: var(--hover-bg-color);\n",
              "    box-shadow: 0 1px 2px rgba(60, 64, 67, 0.3), 0 1px 3px 1px rgba(60, 64, 67, 0.15);\n",
              "    fill: var(--button-hover-fill-color);\n",
              "  }\n",
              "\n",
              "  .colab-df-quickchart-complete:disabled,\n",
              "  .colab-df-quickchart-complete:disabled:hover {\n",
              "    background-color: var(--disabled-bg-color);\n",
              "    fill: var(--disabled-fill-color);\n",
              "    box-shadow: none;\n",
              "  }\n",
              "\n",
              "  .colab-df-spinner {\n",
              "    border: 2px solid var(--fill-color);\n",
              "    border-color: transparent;\n",
              "    border-bottom-color: var(--fill-color);\n",
              "    animation:\n",
              "      spin 1s steps(1) infinite;\n",
              "  }\n",
              "\n",
              "  @keyframes spin {\n",
              "    0% {\n",
              "      border-color: transparent;\n",
              "      border-bottom-color: var(--fill-color);\n",
              "      border-left-color: var(--fill-color);\n",
              "    }\n",
              "    20% {\n",
              "      border-color: transparent;\n",
              "      border-left-color: var(--fill-color);\n",
              "      border-top-color: var(--fill-color);\n",
              "    }\n",
              "    30% {\n",
              "      border-color: transparent;\n",
              "      border-left-color: var(--fill-color);\n",
              "      border-top-color: var(--fill-color);\n",
              "      border-right-color: var(--fill-color);\n",
              "    }\n",
              "    40% {\n",
              "      border-color: transparent;\n",
              "      border-right-color: var(--fill-color);\n",
              "      border-top-color: var(--fill-color);\n",
              "    }\n",
              "    60% {\n",
              "      border-color: transparent;\n",
              "      border-right-color: var(--fill-color);\n",
              "    }\n",
              "    80% {\n",
              "      border-color: transparent;\n",
              "      border-right-color: var(--fill-color);\n",
              "      border-bottom-color: var(--fill-color);\n",
              "    }\n",
              "    90% {\n",
              "      border-color: transparent;\n",
              "      border-bottom-color: var(--fill-color);\n",
              "    }\n",
              "  }\n",
              "</style>\n",
              "\n",
              "  <script>\n",
              "    async function quickchart(key) {\n",
              "      const quickchartButtonEl =\n",
              "        document.querySelector('#' + key + ' button');\n",
              "      quickchartButtonEl.disabled = true;  // To prevent multiple clicks.\n",
              "      quickchartButtonEl.classList.add('colab-df-spinner');\n",
              "      try {\n",
              "        const charts = await google.colab.kernel.invokeFunction(\n",
              "            'suggestCharts', [key], {});\n",
              "      } catch (error) {\n",
              "        console.error('Error during call to suggestCharts:', error);\n",
              "      }\n",
              "      quickchartButtonEl.classList.remove('colab-df-spinner');\n",
              "      quickchartButtonEl.classList.add('colab-df-quickchart-complete');\n",
              "    }\n",
              "    (() => {\n",
              "      let quickchartButtonEl =\n",
              "        document.querySelector('#df-8e618b10-f063-41fc-953b-7ed61da7cafa button');\n",
              "      quickchartButtonEl.style.display =\n",
              "        google.colab.kernel.accessAllowed ? 'block' : 'none';\n",
              "    })();\n",
              "  </script>\n",
              "</div>\n",
              "\n",
              "    </div>\n",
              "  </div>\n"
            ]
          },
          "metadata": {},
          "execution_count": 31
        }
      ]
    },
    {
      "cell_type": "code",
      "source": [
        "# Observando as dimensões\n",
        "df.shape"
      ],
      "metadata": {
        "id": "ywh5JeS6Ue79"
      },
      "execution_count": null,
      "outputs": []
    },
    {
      "cell_type": "markdown",
      "source": [
        "Dividindo o conjunto de dados para estabelecer as variáveis preditoras e a variável de resposta."
      ],
      "metadata": {
        "id": "2yjKX0A6UqbU"
      }
    },
    {
      "cell_type": "code",
      "source": [
        "# Separando os dados em X e Y\n",
        "\n",
        "# Variaveis preditoras\n",
        "X = df.drop(1558, axis = 1)\n",
        "\n",
        "# Variavel resposta\n",
        "y = df[1558]"
      ],
      "metadata": {
        "id": "k-vBQH4-Ustk"
      },
      "execution_count": 4,
      "outputs": []
    },
    {
      "cell_type": "markdown",
      "source": [
        "## **Sem seleção**"
      ],
      "metadata": {
        "id": "1z2_RThDVcit"
      }
    },
    {
      "cell_type": "markdown",
      "source": [
        "Para notarmos a diferença, primeiro vamos observar como o modelo se comporta sem a seleção de variáveis. Depois, vamos comparar com o modelo utilizando as variáveis selecionadas."
      ],
      "metadata": {
        "id": "WRy58243-zFy"
      }
    },
    {
      "cell_type": "markdown",
      "source": [
        "*Criando e treinando o modelo*"
      ],
      "metadata": {
        "id": "OyIM8vTxDixc"
      }
    },
    {
      "cell_type": "code",
      "source": [
        "# Criando o modelo\n",
        "naive1 = GaussianNB()\n",
        "\n",
        "# Treinando o modelo\n",
        "naive1.fit(X, y)"
      ],
      "metadata": {
        "colab": {
          "base_uri": "https://localhost:8080/",
          "height": 75
        },
        "id": "DUxWD8bjDlyU",
        "outputId": "2f36d9f0-6859-4921-c7de-b6c4e02d2890"
      },
      "execution_count": 5,
      "outputs": [
        {
          "output_type": "execute_result",
          "data": {
            "text/plain": [
              "GaussianNB()"
            ],
            "text/html": [
              "<style>#sk-container-id-1 {color: black;background-color: white;}#sk-container-id-1 pre{padding: 0;}#sk-container-id-1 div.sk-toggleable {background-color: white;}#sk-container-id-1 label.sk-toggleable__label {cursor: pointer;display: block;width: 100%;margin-bottom: 0;padding: 0.3em;box-sizing: border-box;text-align: center;}#sk-container-id-1 label.sk-toggleable__label-arrow:before {content: \"▸\";float: left;margin-right: 0.25em;color: #696969;}#sk-container-id-1 label.sk-toggleable__label-arrow:hover:before {color: black;}#sk-container-id-1 div.sk-estimator:hover label.sk-toggleable__label-arrow:before {color: black;}#sk-container-id-1 div.sk-toggleable__content {max-height: 0;max-width: 0;overflow: hidden;text-align: left;background-color: #f0f8ff;}#sk-container-id-1 div.sk-toggleable__content pre {margin: 0.2em;color: black;border-radius: 0.25em;background-color: #f0f8ff;}#sk-container-id-1 input.sk-toggleable__control:checked~div.sk-toggleable__content {max-height: 200px;max-width: 100%;overflow: auto;}#sk-container-id-1 input.sk-toggleable__control:checked~label.sk-toggleable__label-arrow:before {content: \"▾\";}#sk-container-id-1 div.sk-estimator input.sk-toggleable__control:checked~label.sk-toggleable__label {background-color: #d4ebff;}#sk-container-id-1 div.sk-label input.sk-toggleable__control:checked~label.sk-toggleable__label {background-color: #d4ebff;}#sk-container-id-1 input.sk-hidden--visually {border: 0;clip: rect(1px 1px 1px 1px);clip: rect(1px, 1px, 1px, 1px);height: 1px;margin: -1px;overflow: hidden;padding: 0;position: absolute;width: 1px;}#sk-container-id-1 div.sk-estimator {font-family: monospace;background-color: #f0f8ff;border: 1px dotted black;border-radius: 0.25em;box-sizing: border-box;margin-bottom: 0.5em;}#sk-container-id-1 div.sk-estimator:hover {background-color: #d4ebff;}#sk-container-id-1 div.sk-parallel-item::after {content: \"\";width: 100%;border-bottom: 1px solid gray;flex-grow: 1;}#sk-container-id-1 div.sk-label:hover label.sk-toggleable__label {background-color: #d4ebff;}#sk-container-id-1 div.sk-serial::before {content: \"\";position: absolute;border-left: 1px solid gray;box-sizing: border-box;top: 0;bottom: 0;left: 50%;z-index: 0;}#sk-container-id-1 div.sk-serial {display: flex;flex-direction: column;align-items: center;background-color: white;padding-right: 0.2em;padding-left: 0.2em;position: relative;}#sk-container-id-1 div.sk-item {position: relative;z-index: 1;}#sk-container-id-1 div.sk-parallel {display: flex;align-items: stretch;justify-content: center;background-color: white;position: relative;}#sk-container-id-1 div.sk-item::before, #sk-container-id-1 div.sk-parallel-item::before {content: \"\";position: absolute;border-left: 1px solid gray;box-sizing: border-box;top: 0;bottom: 0;left: 50%;z-index: -1;}#sk-container-id-1 div.sk-parallel-item {display: flex;flex-direction: column;z-index: 1;position: relative;background-color: white;}#sk-container-id-1 div.sk-parallel-item:first-child::after {align-self: flex-end;width: 50%;}#sk-container-id-1 div.sk-parallel-item:last-child::after {align-self: flex-start;width: 50%;}#sk-container-id-1 div.sk-parallel-item:only-child::after {width: 0;}#sk-container-id-1 div.sk-dashed-wrapped {border: 1px dashed gray;margin: 0 0.4em 0.5em 0.4em;box-sizing: border-box;padding-bottom: 0.4em;background-color: white;}#sk-container-id-1 div.sk-label label {font-family: monospace;font-weight: bold;display: inline-block;line-height: 1.2em;}#sk-container-id-1 div.sk-label-container {text-align: center;}#sk-container-id-1 div.sk-container {/* jupyter's `normalize.less` sets `[hidden] { display: none; }` but bootstrap.min.css set `[hidden] { display: none !important; }` so we also need the `!important` here to be able to override the default hidden behavior on the sphinx rendered scikit-learn.org. See: https://github.com/scikit-learn/scikit-learn/issues/21755 */display: inline-block !important;position: relative;}#sk-container-id-1 div.sk-text-repr-fallback {display: none;}</style><div id=\"sk-container-id-1\" class=\"sk-top-container\"><div class=\"sk-text-repr-fallback\"><pre>GaussianNB()</pre><b>In a Jupyter environment, please rerun this cell to show the HTML representation or trust the notebook. <br />On GitHub, the HTML representation is unable to render, please try loading this page with nbviewer.org.</b></div><div class=\"sk-container\" hidden><div class=\"sk-item\"><div class=\"sk-estimator sk-toggleable\"><input class=\"sk-toggleable__control sk-hidden--visually\" id=\"sk-estimator-id-1\" type=\"checkbox\" checked><label for=\"sk-estimator-id-1\" class=\"sk-toggleable__label sk-toggleable__label-arrow\">GaussianNB</label><div class=\"sk-toggleable__content\"><pre>GaussianNB()</pre></div></div></div></div></div>"
            ]
          },
          "metadata": {},
          "execution_count": 5
        }
      ]
    },
    {
      "cell_type": "markdown",
      "source": [
        "*Realizando as predições e medindo a acurácia do modelo*"
      ],
      "metadata": {
        "id": "DIUrqkDEDm5c"
      }
    },
    {
      "cell_type": "code",
      "source": [
        "# Realizando as predições\n",
        "previsoes1 = naive1.predict(X)\n",
        "\n",
        "# Medindo a ácuracia\n",
        "accuracy_score(y, previsoes1)"
      ],
      "metadata": {
        "colab": {
          "base_uri": "https://localhost:8080/"
        },
        "id": "sog4mqnzVRCv",
        "outputId": "3a40a86b-25a9-4771-fbdf-e3fd3acaa4bc"
      },
      "execution_count": 6,
      "outputs": [
        {
          "output_type": "execute_result",
          "data": {
            "text/plain": [
              "0.7813357731015553"
            ]
          },
          "metadata": {},
          "execution_count": 6
        }
      ]
    },
    {
      "cell_type": "markdown",
      "source": [
        "O modelo sem seleção de atributos apresentou uma acurácia de 78%."
      ],
      "metadata": {
        "id": "5cOEzdCVC99q"
      }
    },
    {
      "cell_type": "markdown",
      "source": [
        "## **Com seleção de atributos utilizando o qui quadrado**"
      ],
      "metadata": {
        "id": "6czknBTxDSU-"
      }
    },
    {
      "cell_type": "markdown",
      "source": [
        "Agora vamos observar o comportamento do modelo com os atributos selecionados. Em seguida, podemos dar continuidade."
      ],
      "metadata": {
        "id": "V1JNdSV-DU-W"
      }
    },
    {
      "cell_type": "markdown",
      "source": [
        "Criamos um objeto SelectFdr, um estimador de parâmetro que seleciona variáveis por ajuste de falso descarte. Passamos como parâmetro o teste chi-quadrado e o valor alpha."
      ],
      "metadata": {
        "id": "09dzVi9jE7Pb"
      }
    },
    {
      "cell_type": "code",
      "source": [
        "# Criando o objeto\n",
        "selecao = SelectFdr(chi2, alpha=0.01)"
      ],
      "metadata": {
        "id": "4aNRg1adEXxe"
      },
      "execution_count": 7,
      "outputs": []
    },
    {
      "cell_type": "markdown",
      "source": [
        "O método fit_transform() usa o teste qui-quadrado para selecionar as variáveis mais significativas para o modelo.\n",
        "\n",
        "Os argumentos são os dados de treinamento X e as respostas y."
      ],
      "metadata": {
        "id": "urc-hky9Eoz1"
      }
    },
    {
      "cell_type": "code",
      "source": [
        "# Selecionando as variáveis\n",
        "X_novo = selecao.fit_transform(X, y)"
      ],
      "metadata": {
        "id": "SoaICvMSEm8M"
      },
      "execution_count": 8,
      "outputs": []
    },
    {
      "cell_type": "markdown",
      "source": [
        "Agora, podemos criar o modelo com esses novos dados."
      ],
      "metadata": {
        "id": "f5yd-OJJFdRe"
      }
    },
    {
      "cell_type": "markdown",
      "source": [
        "*Criando o modelo e treinando-o*"
      ],
      "metadata": {
        "id": "Gyq_LpUKFkU9"
      }
    },
    {
      "cell_type": "code",
      "source": [
        "# Criando o modelo\n",
        "naive2 = GaussianNB()\n",
        "\n",
        "# Treinando o modelo\n",
        "naive2.fit(X_novo, y)"
      ],
      "metadata": {
        "colab": {
          "base_uri": "https://localhost:8080/",
          "height": 75
        },
        "id": "sZCOe163FmNk",
        "outputId": "d9bd128d-ff60-44da-86fb-f7b5960a2750"
      },
      "execution_count": 9,
      "outputs": [
        {
          "output_type": "execute_result",
          "data": {
            "text/plain": [
              "GaussianNB()"
            ],
            "text/html": [
              "<style>#sk-container-id-2 {color: black;background-color: white;}#sk-container-id-2 pre{padding: 0;}#sk-container-id-2 div.sk-toggleable {background-color: white;}#sk-container-id-2 label.sk-toggleable__label {cursor: pointer;display: block;width: 100%;margin-bottom: 0;padding: 0.3em;box-sizing: border-box;text-align: center;}#sk-container-id-2 label.sk-toggleable__label-arrow:before {content: \"▸\";float: left;margin-right: 0.25em;color: #696969;}#sk-container-id-2 label.sk-toggleable__label-arrow:hover:before {color: black;}#sk-container-id-2 div.sk-estimator:hover label.sk-toggleable__label-arrow:before {color: black;}#sk-container-id-2 div.sk-toggleable__content {max-height: 0;max-width: 0;overflow: hidden;text-align: left;background-color: #f0f8ff;}#sk-container-id-2 div.sk-toggleable__content pre {margin: 0.2em;color: black;border-radius: 0.25em;background-color: #f0f8ff;}#sk-container-id-2 input.sk-toggleable__control:checked~div.sk-toggleable__content {max-height: 200px;max-width: 100%;overflow: auto;}#sk-container-id-2 input.sk-toggleable__control:checked~label.sk-toggleable__label-arrow:before {content: \"▾\";}#sk-container-id-2 div.sk-estimator input.sk-toggleable__control:checked~label.sk-toggleable__label {background-color: #d4ebff;}#sk-container-id-2 div.sk-label input.sk-toggleable__control:checked~label.sk-toggleable__label {background-color: #d4ebff;}#sk-container-id-2 input.sk-hidden--visually {border: 0;clip: rect(1px 1px 1px 1px);clip: rect(1px, 1px, 1px, 1px);height: 1px;margin: -1px;overflow: hidden;padding: 0;position: absolute;width: 1px;}#sk-container-id-2 div.sk-estimator {font-family: monospace;background-color: #f0f8ff;border: 1px dotted black;border-radius: 0.25em;box-sizing: border-box;margin-bottom: 0.5em;}#sk-container-id-2 div.sk-estimator:hover {background-color: #d4ebff;}#sk-container-id-2 div.sk-parallel-item::after {content: \"\";width: 100%;border-bottom: 1px solid gray;flex-grow: 1;}#sk-container-id-2 div.sk-label:hover label.sk-toggleable__label {background-color: #d4ebff;}#sk-container-id-2 div.sk-serial::before {content: \"\";position: absolute;border-left: 1px solid gray;box-sizing: border-box;top: 0;bottom: 0;left: 50%;z-index: 0;}#sk-container-id-2 div.sk-serial {display: flex;flex-direction: column;align-items: center;background-color: white;padding-right: 0.2em;padding-left: 0.2em;position: relative;}#sk-container-id-2 div.sk-item {position: relative;z-index: 1;}#sk-container-id-2 div.sk-parallel {display: flex;align-items: stretch;justify-content: center;background-color: white;position: relative;}#sk-container-id-2 div.sk-item::before, #sk-container-id-2 div.sk-parallel-item::before {content: \"\";position: absolute;border-left: 1px solid gray;box-sizing: border-box;top: 0;bottom: 0;left: 50%;z-index: -1;}#sk-container-id-2 div.sk-parallel-item {display: flex;flex-direction: column;z-index: 1;position: relative;background-color: white;}#sk-container-id-2 div.sk-parallel-item:first-child::after {align-self: flex-end;width: 50%;}#sk-container-id-2 div.sk-parallel-item:last-child::after {align-self: flex-start;width: 50%;}#sk-container-id-2 div.sk-parallel-item:only-child::after {width: 0;}#sk-container-id-2 div.sk-dashed-wrapped {border: 1px dashed gray;margin: 0 0.4em 0.5em 0.4em;box-sizing: border-box;padding-bottom: 0.4em;background-color: white;}#sk-container-id-2 div.sk-label label {font-family: monospace;font-weight: bold;display: inline-block;line-height: 1.2em;}#sk-container-id-2 div.sk-label-container {text-align: center;}#sk-container-id-2 div.sk-container {/* jupyter's `normalize.less` sets `[hidden] { display: none; }` but bootstrap.min.css set `[hidden] { display: none !important; }` so we also need the `!important` here to be able to override the default hidden behavior on the sphinx rendered scikit-learn.org. See: https://github.com/scikit-learn/scikit-learn/issues/21755 */display: inline-block !important;position: relative;}#sk-container-id-2 div.sk-text-repr-fallback {display: none;}</style><div id=\"sk-container-id-2\" class=\"sk-top-container\"><div class=\"sk-text-repr-fallback\"><pre>GaussianNB()</pre><b>In a Jupyter environment, please rerun this cell to show the HTML representation or trust the notebook. <br />On GitHub, the HTML representation is unable to render, please try loading this page with nbviewer.org.</b></div><div class=\"sk-container\" hidden><div class=\"sk-item\"><div class=\"sk-estimator sk-toggleable\"><input class=\"sk-toggleable__control sk-hidden--visually\" id=\"sk-estimator-id-2\" type=\"checkbox\" checked><label for=\"sk-estimator-id-2\" class=\"sk-toggleable__label sk-toggleable__label-arrow\">GaussianNB</label><div class=\"sk-toggleable__content\"><pre>GaussianNB()</pre></div></div></div></div></div>"
            ]
          },
          "metadata": {},
          "execution_count": 9
        }
      ]
    },
    {
      "cell_type": "markdown",
      "source": [
        "*Realizando predições e medindo sua acurácia*"
      ],
      "metadata": {
        "id": "x6cM_ZrWFqXs"
      }
    },
    {
      "cell_type": "code",
      "source": [
        "# Realizando as predições\n",
        "previsoes2 = naive2.predict(X_novo)\n",
        "\n",
        "# Medindo a ácuracia\n",
        "accuracy_score(y, previsoes2)"
      ],
      "metadata": {
        "colab": {
          "base_uri": "https://localhost:8080/"
        },
        "id": "tYpbAEpPFiJc",
        "outputId": "f08aef5a-f1af-403f-fd63-daa0f1ebb013"
      },
      "execution_count": 10,
      "outputs": [
        {
          "output_type": "execute_result",
          "data": {
            "text/plain": [
              "0.970722781335773"
            ]
          },
          "metadata": {},
          "execution_count": 10
        }
      ]
    },
    {
      "cell_type": "markdown",
      "source": [
        "O desempenho do modelo melhorou significativamente ao utilizarmos essa técnica, considerando apenas a acurácia."
      ],
      "metadata": {
        "id": "QcVA7gwsFwvV"
      }
    },
    {
      "cell_type": "markdown",
      "source": [
        "# **Teste ANOVA**"
      ],
      "metadata": {
        "id": "5Os-71nwLF_a"
      }
    },
    {
      "cell_type": "markdown",
      "source": [
        "Breve resumo:\n",
        "\n",
        "O teste ANOVA é um teste estatístico usado para comparar as médias de três ou mais populações. Ele é usado para testar hipóteses sobre a igualdade das médias.\n",
        "\n",
        "Quando utilizar:\n",
        "\n",
        "- Sempre que se deseja comparar as médias de três ou mais populações.\n",
        "- Sempre que se deseja testar hipóteses sobre a igualdade das médias.\n",
        "\n",
        "Exemplos:\n",
        "\n",
        "- Um pesquisador pode usar o teste ANOVA para comparar as médias de desempenho de três grupos de alunos em um teste."
      ],
      "metadata": {
        "id": "ME_y83ReLZvx"
      }
    },
    {
      "cell_type": "markdown",
      "source": [
        "Vamos gerar os dados a serem usados."
      ],
      "metadata": {
        "id": "vCCycb3rLM-y"
      }
    },
    {
      "cell_type": "code",
      "source": [
        "# Criando o primeiro grupo\n",
        "grupo_a = np.array([165, 152, 143, 140, 155])\n",
        "\n",
        "# Criando o segundo grupo\n",
        "grupo_b = np.array([130, 169, 164, 143, 154])\n",
        "\n",
        "# Criando o terceiro grupo\n",
        "grupo_c = np.array([163, 158, 154, 149, 156])"
      ],
      "metadata": {
        "id": "NV9VFJ1ILQhh"
      },
      "execution_count": 11,
      "outputs": []
    },
    {
      "cell_type": "markdown",
      "source": [
        "Agora que temos os dados, vamos verificar se as médias apresentam diferenças estatísticas significativas. Para isso, é necessário importar a seguinte biblioteca."
      ],
      "metadata": {
        "id": "V_4Y8EdWLnRm"
      }
    },
    {
      "cell_type": "code",
      "source": [
        "# Biblioteca para o teste ANOVA\n",
        "from scipy.stats import f_oneway"
      ],
      "metadata": {
        "id": "Fr9up1-NLwIu"
      },
      "execution_count": 12,
      "outputs": []
    },
    {
      "cell_type": "markdown",
      "source": [
        "Agora que importamos a biblioteca, podemos usá-la, então podemos seguir adiante."
      ],
      "metadata": {
        "id": "TeUr9evaMdSw"
      }
    },
    {
      "cell_type": "code",
      "source": [
        "# Aplicando a função\n",
        "_, p = f_oneway(grupo_a, grupo_b, grupo_c)\n",
        "\n",
        "# Exibindo o valor\n",
        "print(p)"
      ],
      "metadata": {
        "colab": {
          "base_uri": "https://localhost:8080/"
        },
        "id": "bAmY0WOWL2tF",
        "outputId": "76194ae5-b28c-4bbc-ef06-503ec5dad70c"
      },
      "execution_count": 15,
      "outputs": [
        {
          "output_type": "stream",
          "name": "stdout",
          "text": [
            "0.7613994386091956\n"
          ]
        }
      ]
    },
    {
      "cell_type": "markdown",
      "source": [
        "Agora podemos definir o nível de significância (alpha)"
      ],
      "metadata": {
        "id": "xDVDrfMjMLWi"
      }
    },
    {
      "cell_type": "code",
      "source": [
        "# Definindo o alpha\n",
        "alpha = 0.05"
      ],
      "metadata": {
        "id": "9uiIb-77MNuS"
      },
      "execution_count": null,
      "outputs": []
    },
    {
      "cell_type": "markdown",
      "source": [
        "É hora de decidir se rejeitamos ou aceitamos a hipótese nula."
      ],
      "metadata": {
        "id": "jZTemHOAMPKZ"
      }
    },
    {
      "cell_type": "code",
      "source": [
        "# Testando as hipóteses\n",
        "if p <= alpha:\n",
        "  print('Hipótese nula rejeitada')\n",
        "else:\n",
        "  print('Hipótese alternativa rejeitada')"
      ],
      "metadata": {
        "colab": {
          "base_uri": "https://localhost:8080/"
        },
        "id": "vji77tBBL5bE",
        "outputId": "fa423f5e-b56a-4a64-eaf5-dac21c9414af"
      },
      "execution_count": 14,
      "outputs": [
        {
          "output_type": "stream",
          "name": "stdout",
          "text": [
            "Hipótese alternativa rejeitada\n"
          ]
        }
      ]
    },
    {
      "cell_type": "markdown",
      "source": [
        "A hipótese alternativa foi rejeitada, portanto, podemos assumir que as médias dos grupos não são tão diferentes."
      ],
      "metadata": {
        "id": "Oc8UCCqYM8hk"
      }
    },
    {
      "cell_type": "markdown",
      "source": [
        "# **Teste de Tukey**"
      ],
      "metadata": {
        "id": "gVqoDXxCNdIo"
      }
    },
    {
      "cell_type": "markdown",
      "source": [
        "Breve resumo:\n",
        "\n",
        "O teste de Tukey é um teste post-hoc usado para comparar as médias de dois grupos após um teste ANOVA. Ele é usado para determinar quais grupos são diferentes entre si.\n",
        "\n",
        "Quando utilizar:\n",
        "\n",
        "- Sempre que se deseja comparar as médias de dois grupos após um teste ANOVA.\n",
        "\n",
        "Exemplos:\n",
        "\n",
        "- Um pesquisador pode usar o teste de Tukey para comparar as médias de desempenho de dois grupos de alunos em um teste, após um teste ANOVA que mostrou que as médias não são iguais."
      ],
      "metadata": {
        "id": "Zom5EjjYNpgu"
      }
    },
    {
      "cell_type": "markdown",
      "source": [
        "Para ilustrar o funcionamento deste teste, vamos começar obtendo os dados. É importante ressaltar que esses dados são os mesmos que usamos no teste ANOVA, mas estão em um formato diferente."
      ],
      "metadata": {
        "id": "9RoCcHn9NuX2"
      }
    },
    {
      "cell_type": "code",
      "source": [
        "# Armazenando os dados\n",
        "dados = {'valores': [165, 152, 143, 140, 155, 130, 169, 164, 143, 154, 163, 158, 154, 149, 156],\n",
        "         'grupo': ['A', 'A', 'A', 'A', 'A', 'B', 'B', 'B', 'B', 'B', 'C', 'C', 'C', 'C', 'C']}"
      ],
      "metadata": {
        "id": "9KRO9Y7lNyTu"
      },
      "execution_count": 17,
      "outputs": []
    },
    {
      "cell_type": "markdown",
      "source": [
        "Mesmo que os dados estejam no formato de dicionário, ainda não serão suficientes. Portanto, vamos transformá-los em um formato de data frame."
      ],
      "metadata": {
        "id": "ig17fX2VOFl7"
      }
    },
    {
      "cell_type": "code",
      "source": [
        "# Tranformando os dados em um DataFrame\n",
        "dados_pd = pd.DataFrame(dados)\n",
        "\n",
        "# Observando os dados\n",
        "dados_pd.head()"
      ],
      "metadata": {
        "colab": {
          "base_uri": "https://localhost:8080/",
          "height": 206
        },
        "id": "H6FUXYOjOF7j",
        "outputId": "5a1f44f1-b488-445f-a732-46527c29c9d7"
      },
      "execution_count": 19,
      "outputs": [
        {
          "output_type": "execute_result",
          "data": {
            "text/plain": [
              "   valores grupo\n",
              "0      165     A\n",
              "1      152     A\n",
              "2      143     A\n",
              "3      140     A\n",
              "4      155     A"
            ],
            "text/html": [
              "\n",
              "  <div id=\"df-ec6f209f-8f1d-46c0-b96b-96502f7886f2\" class=\"colab-df-container\">\n",
              "    <div>\n",
              "<style scoped>\n",
              "    .dataframe tbody tr th:only-of-type {\n",
              "        vertical-align: middle;\n",
              "    }\n",
              "\n",
              "    .dataframe tbody tr th {\n",
              "        vertical-align: top;\n",
              "    }\n",
              "\n",
              "    .dataframe thead th {\n",
              "        text-align: right;\n",
              "    }\n",
              "</style>\n",
              "<table border=\"1\" class=\"dataframe\">\n",
              "  <thead>\n",
              "    <tr style=\"text-align: right;\">\n",
              "      <th></th>\n",
              "      <th>valores</th>\n",
              "      <th>grupo</th>\n",
              "    </tr>\n",
              "  </thead>\n",
              "  <tbody>\n",
              "    <tr>\n",
              "      <th>0</th>\n",
              "      <td>165</td>\n",
              "      <td>A</td>\n",
              "    </tr>\n",
              "    <tr>\n",
              "      <th>1</th>\n",
              "      <td>152</td>\n",
              "      <td>A</td>\n",
              "    </tr>\n",
              "    <tr>\n",
              "      <th>2</th>\n",
              "      <td>143</td>\n",
              "      <td>A</td>\n",
              "    </tr>\n",
              "    <tr>\n",
              "      <th>3</th>\n",
              "      <td>140</td>\n",
              "      <td>A</td>\n",
              "    </tr>\n",
              "    <tr>\n",
              "      <th>4</th>\n",
              "      <td>155</td>\n",
              "      <td>A</td>\n",
              "    </tr>\n",
              "  </tbody>\n",
              "</table>\n",
              "</div>\n",
              "    <div class=\"colab-df-buttons\">\n",
              "\n",
              "  <div class=\"colab-df-container\">\n",
              "    <button class=\"colab-df-convert\" onclick=\"convertToInteractive('df-ec6f209f-8f1d-46c0-b96b-96502f7886f2')\"\n",
              "            title=\"Convert this dataframe to an interactive table.\"\n",
              "            style=\"display:none;\">\n",
              "\n",
              "  <svg xmlns=\"http://www.w3.org/2000/svg\" height=\"24px\" viewBox=\"0 -960 960 960\">\n",
              "    <path d=\"M120-120v-720h720v720H120Zm60-500h600v-160H180v160Zm220 220h160v-160H400v160Zm0 220h160v-160H400v160ZM180-400h160v-160H180v160Zm440 0h160v-160H620v160ZM180-180h160v-160H180v160Zm440 0h160v-160H620v160Z\"/>\n",
              "  </svg>\n",
              "    </button>\n",
              "\n",
              "  <style>\n",
              "    .colab-df-container {\n",
              "      display:flex;\n",
              "      gap: 12px;\n",
              "    }\n",
              "\n",
              "    .colab-df-convert {\n",
              "      background-color: #E8F0FE;\n",
              "      border: none;\n",
              "      border-radius: 50%;\n",
              "      cursor: pointer;\n",
              "      display: none;\n",
              "      fill: #1967D2;\n",
              "      height: 32px;\n",
              "      padding: 0 0 0 0;\n",
              "      width: 32px;\n",
              "    }\n",
              "\n",
              "    .colab-df-convert:hover {\n",
              "      background-color: #E2EBFA;\n",
              "      box-shadow: 0px 1px 2px rgba(60, 64, 67, 0.3), 0px 1px 3px 1px rgba(60, 64, 67, 0.15);\n",
              "      fill: #174EA6;\n",
              "    }\n",
              "\n",
              "    .colab-df-buttons div {\n",
              "      margin-bottom: 4px;\n",
              "    }\n",
              "\n",
              "    [theme=dark] .colab-df-convert {\n",
              "      background-color: #3B4455;\n",
              "      fill: #D2E3FC;\n",
              "    }\n",
              "\n",
              "    [theme=dark] .colab-df-convert:hover {\n",
              "      background-color: #434B5C;\n",
              "      box-shadow: 0px 1px 3px 1px rgba(0, 0, 0, 0.15);\n",
              "      filter: drop-shadow(0px 1px 2px rgba(0, 0, 0, 0.3));\n",
              "      fill: #FFFFFF;\n",
              "    }\n",
              "  </style>\n",
              "\n",
              "    <script>\n",
              "      const buttonEl =\n",
              "        document.querySelector('#df-ec6f209f-8f1d-46c0-b96b-96502f7886f2 button.colab-df-convert');\n",
              "      buttonEl.style.display =\n",
              "        google.colab.kernel.accessAllowed ? 'block' : 'none';\n",
              "\n",
              "      async function convertToInteractive(key) {\n",
              "        const element = document.querySelector('#df-ec6f209f-8f1d-46c0-b96b-96502f7886f2');\n",
              "        const dataTable =\n",
              "          await google.colab.kernel.invokeFunction('convertToInteractive',\n",
              "                                                    [key], {});\n",
              "        if (!dataTable) return;\n",
              "\n",
              "        const docLinkHtml = 'Like what you see? Visit the ' +\n",
              "          '<a target=\"_blank\" href=https://colab.research.google.com/notebooks/data_table.ipynb>data table notebook</a>'\n",
              "          + ' to learn more about interactive tables.';\n",
              "        element.innerHTML = '';\n",
              "        dataTable['output_type'] = 'display_data';\n",
              "        await google.colab.output.renderOutput(dataTable, element);\n",
              "        const docLink = document.createElement('div');\n",
              "        docLink.innerHTML = docLinkHtml;\n",
              "        element.appendChild(docLink);\n",
              "      }\n",
              "    </script>\n",
              "  </div>\n",
              "\n",
              "\n",
              "<div id=\"df-fc679994-6aa2-468d-a530-5dce9c15f11e\">\n",
              "  <button class=\"colab-df-quickchart\" onclick=\"quickchart('df-fc679994-6aa2-468d-a530-5dce9c15f11e')\"\n",
              "            title=\"Suggest charts\"\n",
              "            style=\"display:none;\">\n",
              "\n",
              "<svg xmlns=\"http://www.w3.org/2000/svg\" height=\"24px\"viewBox=\"0 0 24 24\"\n",
              "     width=\"24px\">\n",
              "    <g>\n",
              "        <path d=\"M19 3H5c-1.1 0-2 .9-2 2v14c0 1.1.9 2 2 2h14c1.1 0 2-.9 2-2V5c0-1.1-.9-2-2-2zM9 17H7v-7h2v7zm4 0h-2V7h2v10zm4 0h-2v-4h2v4z\"/>\n",
              "    </g>\n",
              "</svg>\n",
              "  </button>\n",
              "\n",
              "<style>\n",
              "  .colab-df-quickchart {\n",
              "      --bg-color: #E8F0FE;\n",
              "      --fill-color: #1967D2;\n",
              "      --hover-bg-color: #E2EBFA;\n",
              "      --hover-fill-color: #174EA6;\n",
              "      --disabled-fill-color: #AAA;\n",
              "      --disabled-bg-color: #DDD;\n",
              "  }\n",
              "\n",
              "  [theme=dark] .colab-df-quickchart {\n",
              "      --bg-color: #3B4455;\n",
              "      --fill-color: #D2E3FC;\n",
              "      --hover-bg-color: #434B5C;\n",
              "      --hover-fill-color: #FFFFFF;\n",
              "      --disabled-bg-color: #3B4455;\n",
              "      --disabled-fill-color: #666;\n",
              "  }\n",
              "\n",
              "  .colab-df-quickchart {\n",
              "    background-color: var(--bg-color);\n",
              "    border: none;\n",
              "    border-radius: 50%;\n",
              "    cursor: pointer;\n",
              "    display: none;\n",
              "    fill: var(--fill-color);\n",
              "    height: 32px;\n",
              "    padding: 0;\n",
              "    width: 32px;\n",
              "  }\n",
              "\n",
              "  .colab-df-quickchart:hover {\n",
              "    background-color: var(--hover-bg-color);\n",
              "    box-shadow: 0 1px 2px rgba(60, 64, 67, 0.3), 0 1px 3px 1px rgba(60, 64, 67, 0.15);\n",
              "    fill: var(--button-hover-fill-color);\n",
              "  }\n",
              "\n",
              "  .colab-df-quickchart-complete:disabled,\n",
              "  .colab-df-quickchart-complete:disabled:hover {\n",
              "    background-color: var(--disabled-bg-color);\n",
              "    fill: var(--disabled-fill-color);\n",
              "    box-shadow: none;\n",
              "  }\n",
              "\n",
              "  .colab-df-spinner {\n",
              "    border: 2px solid var(--fill-color);\n",
              "    border-color: transparent;\n",
              "    border-bottom-color: var(--fill-color);\n",
              "    animation:\n",
              "      spin 1s steps(1) infinite;\n",
              "  }\n",
              "\n",
              "  @keyframes spin {\n",
              "    0% {\n",
              "      border-color: transparent;\n",
              "      border-bottom-color: var(--fill-color);\n",
              "      border-left-color: var(--fill-color);\n",
              "    }\n",
              "    20% {\n",
              "      border-color: transparent;\n",
              "      border-left-color: var(--fill-color);\n",
              "      border-top-color: var(--fill-color);\n",
              "    }\n",
              "    30% {\n",
              "      border-color: transparent;\n",
              "      border-left-color: var(--fill-color);\n",
              "      border-top-color: var(--fill-color);\n",
              "      border-right-color: var(--fill-color);\n",
              "    }\n",
              "    40% {\n",
              "      border-color: transparent;\n",
              "      border-right-color: var(--fill-color);\n",
              "      border-top-color: var(--fill-color);\n",
              "    }\n",
              "    60% {\n",
              "      border-color: transparent;\n",
              "      border-right-color: var(--fill-color);\n",
              "    }\n",
              "    80% {\n",
              "      border-color: transparent;\n",
              "      border-right-color: var(--fill-color);\n",
              "      border-bottom-color: var(--fill-color);\n",
              "    }\n",
              "    90% {\n",
              "      border-color: transparent;\n",
              "      border-bottom-color: var(--fill-color);\n",
              "    }\n",
              "  }\n",
              "</style>\n",
              "\n",
              "  <script>\n",
              "    async function quickchart(key) {\n",
              "      const quickchartButtonEl =\n",
              "        document.querySelector('#' + key + ' button');\n",
              "      quickchartButtonEl.disabled = true;  // To prevent multiple clicks.\n",
              "      quickchartButtonEl.classList.add('colab-df-spinner');\n",
              "      try {\n",
              "        const charts = await google.colab.kernel.invokeFunction(\n",
              "            'suggestCharts', [key], {});\n",
              "      } catch (error) {\n",
              "        console.error('Error during call to suggestCharts:', error);\n",
              "      }\n",
              "      quickchartButtonEl.classList.remove('colab-df-spinner');\n",
              "      quickchartButtonEl.classList.add('colab-df-quickchart-complete');\n",
              "    }\n",
              "    (() => {\n",
              "      let quickchartButtonEl =\n",
              "        document.querySelector('#df-fc679994-6aa2-468d-a530-5dce9c15f11e button');\n",
              "      quickchartButtonEl.style.display =\n",
              "        google.colab.kernel.accessAllowed ? 'block' : 'none';\n",
              "    })();\n",
              "  </script>\n",
              "</div>\n",
              "\n",
              "    </div>\n",
              "  </div>\n"
            ]
          },
          "metadata": {},
          "execution_count": 19
        }
      ]
    },
    {
      "cell_type": "markdown",
      "source": [
        "Agora que temos os dados no formato necessário, podemos continuar. Portanto, vamos importar a biblioteca necessária para implementar o teste."
      ],
      "metadata": {
        "id": "rpKdr_YkOyQv"
      }
    },
    {
      "cell_type": "code",
      "source": [
        "# Biblioteca para o teste tukey\n",
        "from statsmodels.stats.multicomp import MultiComparison"
      ],
      "metadata": {
        "id": "WC5zqwPIPCvs"
      },
      "execution_count": 20,
      "outputs": []
    },
    {
      "cell_type": "markdown",
      "source": [
        "Agora que todas as importações necessárias foram realizadas, podemos aplicar a função nos dados."
      ],
      "metadata": {
        "id": "XoDzKBx2PSe6"
      }
    },
    {
      "cell_type": "markdown",
      "source": [
        "Essa função realiza um teste de comparações múltiplas, que é usado para comparar as médias de dois ou mais grupos.\n",
        "\n",
        "Os parâmetros da função são os valores a serem comparados e os grupos a que pertencem."
      ],
      "metadata": {
        "id": "CqCyFxTnPhGR"
      }
    },
    {
      "cell_type": "code",
      "source": [
        "# Aplicando a função\n",
        "compara_grupos = MultiComparison(dados_pd['valores'], dados_pd['grupo'])"
      ],
      "metadata": {
        "id": "ABV3gxrNPWlC"
      },
      "execution_count": 21,
      "outputs": []
    },
    {
      "cell_type": "markdown",
      "source": [
        "Agora que os valores foram selecionados e testados, vamos aplicar o teste no objeto que criamos anteriormente."
      ],
      "metadata": {
        "id": "U5fMYeVFP5gG"
      }
    },
    {
      "cell_type": "code",
      "source": [
        "# Aplicando o teste nos grupos\n",
        "teste = compara_grupos.tukeyhsd()\n",
        "\n",
        "# Exibindo o resultado\n",
        "print(teste)"
      ],
      "metadata": {
        "colab": {
          "base_uri": "https://localhost:8080/"
        },
        "id": "bqj8FEJbP5nF",
        "outputId": "51dfb14b-39e5-425e-8f96-cd90489aa3eb"
      },
      "execution_count": 22,
      "outputs": [
        {
          "output_type": "stream",
          "name": "stdout",
          "text": [
            " Multiple Comparison of Means - Tukey HSD, FWER=0.05 \n",
            "=====================================================\n",
            "group1 group2 meandiff p-adj   lower    upper  reject\n",
            "-----------------------------------------------------\n",
            "     A      B      1.0 0.9891 -17.9023 19.9023  False\n",
            "     A      C      5.0 0.7648 -13.9023 23.9023  False\n",
            "     B      C      4.0 0.8411 -14.9023 22.9023  False\n",
            "-----------------------------------------------------\n"
          ]
        }
      ]
    },
    {
      "cell_type": "markdown",
      "source": [
        "Podemos observa que temos como saida em um formato tabular contendo os seguintes dados:\n",
        "\n",
        "- O nome dos grupos que estão sendo comparados.\n",
        "- O valor da diferença entre as médias dos grupos.\n",
        "- O valor p do teste.\n",
        "- O intervalo de confiança de 95% para a diferença entre as médias dos grupos."
      ],
      "metadata": {
        "id": "siJeREWeQcvB"
      }
    },
    {
      "cell_type": "markdown",
      "source": [
        "Assim, podemos concluir que as médias não estão tão distantes uma da outra, pois em ambos os grupos obtivemos a rejeição da hipótese alternativa. Vamos observar graficamente para confirmar."
      ],
      "metadata": {
        "id": "GTqna4hmQ-Fc"
      }
    },
    {
      "cell_type": "code",
      "source": [
        "# Criando o gráfico\n",
        "teste.plot_simultaneous().figsize=(5, 5);"
      ],
      "metadata": {
        "colab": {
          "base_uri": "https://localhost:8080/",
          "height": 545
        },
        "id": "Fu7cIYxSRSgz",
        "outputId": "dae80786-af00-428b-ea02-9f35b8180553"
      },
      "execution_count": 28,
      "outputs": [
        {
          "output_type": "display_data",
          "data": {
            "text/plain": [
              "<Figure size 1000x600 with 1 Axes>"
            ],
            "image/png": "[encoded data removed]"
          },
          "metadata": {}
        }
      ]
    },
    {
      "cell_type": "markdown",
      "source": [
        "Com esse gráfico, podemos confirmar visualmente que as médias não se diferenciam tanto assim."
      ],
      "metadata": {
        "id": "_lDCjZ-qRV4a"
      }
    }
  ]
}