{
  "nbformat": 4,
  "nbformat_minor": 0,
  "metadata": {
    "colab": {
      "provenance": [],
      "collapsed_sections": [
        "1z-Vmr-LDtYU",
        "TsDG2ZIz8fXu",
        "F88uDW1sFY_r",
        "G-1RY-HKSthT",
        "5Os-71nwLF_a",
        "gVqoDXxCNdIo",
        "RMpH4PMxV-kG",
        "CzOeC6KIwRWe",
        "i0L6nOPv0GWP",
        "bb5UPEQC0yON",
        "vVgsizB016JM",
        "hEdRcrlX1Gei",
        "Q3oLV6zg8RwD",
        "hDBEfDXjDKkv",
        "pnZOZVBiD7yP",
        "Q9VzmYzfEX0c"
      ],
      "authorship_tag": "ABX9TyOmogn8olCW/FLcr79ae+8Y",
      "include_colab_link": true
    },
    "kernelspec": {
      "name": "python3",
      "display_name": "Python 3"
    },
    "language_info": {
      "name": "python"
    }
  },
  "cells": [
    {
      "cell_type": "markdown",
      "metadata": {
        "id": "view-in-github",
        "colab_type": "text"
      },
      "source": [
        "<a href=\"https://colab.research.google.com/github/JosenildoJunior/StatPyDataScience/blob/main/Testes_de_hip%C3%B3teses.ipynb\" target=\"_parent\"><img src=\"https://colab.research.google.com/assets/colab-badge.svg\" alt=\"Open In Colab\"/></a>"
      ]
    },
    {
      "cell_type": "markdown",
      "source": [
        "# **Estatística com Python: Um Guia para Estudos e Solução de Problemas**"
      ],
      "metadata": {
        "id": "aep3iwHXC2Nj"
      }
    },
    {
      "cell_type": "markdown",
      "source": [
        "Breve resumo:\n",
        "\n",
        "O teste de hipóteses é um procedimento estatístico que permite tomar uma decisão entre duas ou mais hipóteses, utilizando os dados observados de um determinado experimento.\n",
        "\n",
        "Quando utilizar:\n",
        "\n",
        "- Sempre que se deseja testar uma hipótese sobre o mundo ao nosso redor.\n",
        "- Sempre que se deseja tomar uma decisão informada com base em dados.\n",
        "\n",
        "Exemplo:\n",
        "\n",
        "- Um cientista pode usar um teste de hipóteses para testar a hipótese de que uma nova droga é eficaz no tratamento de uma determinada doença.\n",
        "\n",
        "Cálculo:\n",
        "\n",
        "O teste de hipóteses envolve a seguinte sequência de passos:\n",
        "\n",
        "- Formular as hipóteses nula e alternativa.\n",
        "- Escolher o nível de significância.\n",
        "- Calcular o valor-p.\n",
        "- Tomar uma decisão.\n",
        "\n",
        "Hipóteses nula e alternativa:\n",
        "\n",
        "- A hipótese nula é a hipótese que se deseja rejeitar. Ela geralmente afirma que não há diferença entre as populações ou que não há efeito do tratamento.\n",
        "\n",
        "- A hipótese alternativa é a hipótese que se deseja aceitar se a hipótese nula for rejeitada. Ela geralmente afirma que há diferença entre as populações ou que há efeito do tratamento."
      ],
      "metadata": {
        "id": "w9vHnchPDEqa"
      }
    },
    {
      "cell_type": "markdown",
      "source": [
        "# **Teste de hipóteses Z**"
      ],
      "metadata": {
        "id": "1z-Vmr-LDtYU"
      }
    },
    {
      "cell_type": "markdown",
      "source": [
        "O teste de hipóteses Z é um teste estatístico usado para comparar duas médias de populações. O teste é baseado na distribuição normal, que é uma distribuição de probabilidade contínua que é usada para modelar uma ampla variedade de dados.\n",
        "\n",
        "O teste de hipóteses Z é realizado da seguinte forma:\n",
        "\n",
        "- Formula-se uma hipótese nula (H0) e uma hipótese alternativa (H1). A hipótese nula é a hipótese de que as duas médias são iguais. A hipótese alternativa é a hipótese de que as duas médias são diferentes.\n",
        "\n",
        "- Calcula-se a estatística do teste Z. A estatística do teste Z é uma medida da diferença entre as duas médias, padronizada pela variância da população.\n",
        "\n",
        "- Calcula-se o valor p. O valor p é a probabilidade de se obter uma estatística do teste Z tão extrema ou mais extrema que a observada, assumindo que a hipótese nula é verdadeira.\n",
        "\n",
        "- Decide-se se rejeita ou não a hipótese nula. Se o valor p for menor que o nível de significância, rejeita-se a hipótese nula. Se o valor p for maior ou igual ao nível de significância, não se rejeita a hipótese nula."
      ],
      "metadata": {
        "id": "lKC573O9Dq_1"
      }
    },
    {
      "cell_type": "markdown",
      "source": [
        "Para exemplificar esse teste, será necessária a importação de algumas bibliotecas. Dito isso, podemos partir para a importação."
      ],
      "metadata": {
        "id": "X2yxemdREDH5"
      }
    },
    {
      "cell_type": "code",
      "execution_count": null,
      "metadata": {
        "id": "bJyQ030A-AIY"
      },
      "outputs": [],
      "source": [
        "# Manipulação de dados\n",
        "import pandas as pd\n",
        "\n",
        "# Álgebra linear\n",
        "import numpy as np\n",
        "\n",
        "# Biblioteca para o teste Z\n",
        "from statsmodels.stats.weightstats import ztest"
      ]
    },
    {
      "cell_type": "markdown",
      "source": [
        "Agora que já importamos a biblioteca, vamos gerar os dados."
      ],
      "metadata": {
        "id": "Sx2WINr2I5fs"
      }
    },
    {
      "cell_type": "code",
      "source": [
        "# Gerando dados fictícios\n",
        "dados_originais = np.array([126. , 129.5, 133. , 133. , 136.5, 136.5, 140. , 140. , 140. ,\n",
        "                            140. , 143.5, 143.5, 143.5, 143.5, 143.5, 143.5, 147. , 147. ,\n",
        "                            147. , 147. , 147. , 147. , 147. , 150.5, 150.5, 150.5, 150.5,\n",
        "                            150.5, 150.5, 150.5, 150.5, 154. , 154. , 154. , 154. , 154. ,\n",
        "                            154. , 154. , 154. , 154. , 157.5, 157.5, 157.5, 157.5, 157.5,\n",
        "                            157.5, 157.5, 157.5, 157.5, 157.5, 161. , 161. , 161. , 161. ,\n",
        "                            161. , 161. , 161. , 161. , 161. , 161. , 164.5, 164.5, 164.5,\n",
        "                            164.5, 164.5, 164.5, 164.5, 164.5, 164.5, 168. , 168. , 168. ,\n",
        "                            168. , 168. , 168. , 168. , 168. , 171.5, 171.5, 171.5, 171.5,\n",
        "                            171.5, 171.5, 171.5, 175. , 175. , 175. , 175. , 175. , 175. ,\n",
        "                            178.5, 178.5, 178.5, 178.5, 182. , 182. , 185.5, 185.5, 189., 192.5])\n",
        "\n",
        "# Gerando a segunda base de dados\n",
        "dados_novos = dados_originais * 1.03"
      ],
      "metadata": {
        "id": "UwZRccC0JV65"
      },
      "execution_count": null,
      "outputs": []
    },
    {
      "cell_type": "markdown",
      "source": [
        "Com os dados gerados, podemos partir para a implementação da função.\n",
        "\n",
        "Para que a implementação da função seja um sucesso, seguiremos os seguintes passos:\n",
        "\n",
        "- Passaremos os dados originais.\n",
        "- Passaremos os novos dados.\n",
        "- 'value' é o valor da diferença entre as médias populacionais que queremos testar.\n",
        "- 'alternative' especifica o tipo de teste que queremos executar. No caso, estamos executando um teste unidirecional para a direção maior, pois a média dos novos dados é maior que a média dos dados originais."
      ],
      "metadata": {
        "id": "xVlzcTqlJcD3"
      }
    },
    {
      "cell_type": "markdown",
      "source": [
        "Vamos calcular as hipóteses nula (H0) e alternativa (H1). H0 será a média dos dados originais e H1 será a média dos novos dados."
      ],
      "metadata": {
        "id": "BjqVaZI7LUzy"
      }
    },
    {
      "cell_type": "code",
      "source": [
        "# Calculando o H1\n",
        "H1_media = dados_novos.mean()\n",
        "\n",
        "# Calculando o H0\n",
        "H0_media = dados_originais.mean()"
      ],
      "metadata": {
        "id": "_EInorruLdOR"
      },
      "execution_count": null,
      "outputs": []
    },
    {
      "cell_type": "markdown",
      "source": [
        "Agora que já temos esses dados, podemos seguir em frente para a aplicação da fórmula."
      ],
      "metadata": {
        "id": "KpDOte7ALnE_"
      }
    },
    {
      "cell_type": "code",
      "source": [
        "# Aplicando a função\n",
        "_, p = ztest(dados_originais, dados_novos, value = H1_media - H0_media, alternative='larger')\n",
        "\n",
        "# Exibindo o valor de p\n",
        "print(p)"
      ],
      "metadata": {
        "colab": {
          "base_uri": "https://localhost:8080/"
        },
        "id": "jjPiTFfmJh7n",
        "outputId": "6b63a322-35f2-49f0-9ae6-0780ca136815"
      },
      "execution_count": null,
      "outputs": [
        {
          "output_type": "stream",
          "name": "stdout",
          "text": [
            "0.9999993877283934\n"
          ]
        }
      ]
    },
    {
      "cell_type": "markdown",
      "source": [
        "Como estamos do lado direito da distribuição, é necessário executarmos o seguinte cálculo. Utilizando-o, obtemos o valor, mas ainda seria necessário observar na tabela Z. Sendo assim, podemos seguir o seguinte passo:"
      ],
      "metadata": {
        "id": "eQ_x4kYJPo04"
      }
    },
    {
      "cell_type": "code",
      "source": [
        "# Calculando o valor final de p\n",
        "p = 1 - p"
      ],
      "metadata": {
        "id": "X85GQcOSQAa2"
      },
      "execution_count": null,
      "outputs": []
    },
    {
      "cell_type": "markdown",
      "source": [
        "Agora podemos definir o nível de significância (alpha)\n",
        "\n",
        "Importante lembrar que: O valor alpha mais comumente usado é 0,05, que significa que estamos dispostos a correr um risco de 5% de rejeitarmos a hipótese nula quando ela é verdadeira."
      ],
      "metadata": {
        "id": "fS2xeWOlL751"
      }
    },
    {
      "cell_type": "code",
      "source": [
        "# Definindo o alpha\n",
        "alpha = 0.05"
      ],
      "metadata": {
        "id": "MDCA_2BWL7Km"
      },
      "execution_count": null,
      "outputs": []
    },
    {
      "cell_type": "markdown",
      "source": [
        "Agora vamos decidir se rejeitamos ou aceitamos a hipótese nula."
      ],
      "metadata": {
        "id": "WH0aq4LCMKzb"
      }
    },
    {
      "cell_type": "code",
      "source": [
        "# Testando as hipóteses\n",
        "if p < alpha:\n",
        "  print('Hipótese nula rejeitada: Média dos dados novos é maior que a média dos dados originais')\n",
        "else:\n",
        "  print('Não há evidência suficiente para rejeitar a hipótese nula')"
      ],
      "metadata": {
        "colab": {
          "base_uri": "https://localhost:8080/"
        },
        "id": "_HelyaPJMQ9Y",
        "outputId": "ba98d7d4-62b6-4332-a15e-045b5102c8b0"
      },
      "execution_count": null,
      "outputs": [
        {
          "output_type": "stream",
          "name": "stdout",
          "text": [
            "Hipótese nula rejeitada: Média dos dados novos é maior que a média dos dados originais\n"
          ]
        }
      ]
    },
    {
      "cell_type": "markdown",
      "source": [
        "Uma vez que obtivemos um valor de p menor que o valor de alpha, podemos concluir que a hipótese nula deve ser rejeitada. Isso significa que a hipótese alternativa deve ser aceita."
      ],
      "metadata": {
        "id": "zxa96Mp27VPI"
      }
    },
    {
      "cell_type": "markdown",
      "source": [
        "## **Exercício**"
      ],
      "metadata": {
        "id": "TsDG2ZIz8fXu"
      }
    },
    {
      "cell_type": "markdown",
      "source": [
        "Testes de hipóteses podem ser realizados usando a estatística Z ou a estatística T da Distribuição T Student. A estatística T é recomendada quando o número de registros é pequeno (até 30 amostras). Abaixo, implemente uma base de dados com as alturas de 9 pessoas.\n",
        "\n",
        "Depois, siga o seguinte roteiro:\n",
        "\n",
        "- Crie uma nova variável com alturas de 9 pessoas, porém, com valores diferentes.\n",
        "- Importe o pacote from scipy.stats import ttest_rel para realizar o teste de hipótese.\n",
        "- Realize o teste de hipótese para **verificar se as distribuições são ou não diferentes.**"
      ],
      "metadata": {
        "id": "mtw2msb78hl9"
      }
    },
    {
      "cell_type": "markdown",
      "source": [
        "Obtendo os dados"
      ],
      "metadata": {
        "id": "LQXUC-2N-CXi"
      }
    },
    {
      "cell_type": "code",
      "source": [
        "# Dados originais\n",
        "dados = np.array([149. , 160., 147., 189., 175., 168., 156., 160., 152.])\n",
        "\n",
        "# Novos dados\n",
        "novos_dados = dados * 1.02"
      ],
      "metadata": {
        "id": "nTmanlif8vAc"
      },
      "execution_count": null,
      "outputs": []
    },
    {
      "cell_type": "markdown",
      "source": [
        "Agora que temos os dados, precisamos importar a biblioteca. Vamos realizar a importação."
      ],
      "metadata": {
        "id": "H1g342si-EB5"
      }
    },
    {
      "cell_type": "code",
      "source": [
        "# Importando para distribuição T\n",
        "from scipy.stats import ttest_rel"
      ],
      "metadata": {
        "id": "8T3ArD-B_Hcq"
      },
      "execution_count": null,
      "outputs": []
    },
    {
      "cell_type": "markdown",
      "source": [
        "Com a biblioteca importada, podemos seguir adiante."
      ],
      "metadata": {
        "id": "nZ5vfyTd_Rdi"
      }
    },
    {
      "cell_type": "code",
      "source": [
        "# Aplicando a função\n",
        "_, p = ttest_rel(dados, novos_dados)\n",
        "\n",
        "# Exibindo o valor de p\n",
        "print(p)"
      ],
      "metadata": {
        "colab": {
          "base_uri": "https://localhost:8080/"
        },
        "id": "DHtkJAql-M9J",
        "outputId": "425769a0-3406-471d-9e36-8c71b996e545"
      },
      "execution_count": null,
      "outputs": [
        {
          "output_type": "stream",
          "name": "stdout",
          "text": [
            "4.072922493930298e-10\n"
          ]
        }
      ]
    },
    {
      "cell_type": "markdown",
      "source": [
        "Essa função retorna o valor de p diretamente, sem a necessidade de realizar o cálculo de 1 - p. Portanto, podemos seguir adiante."
      ],
      "metadata": {
        "id": "6_G4_q0xCXqb"
      }
    },
    {
      "cell_type": "markdown",
      "source": [
        "Podemos agora definir o nível de significância (alpha)."
      ],
      "metadata": {
        "id": "Giy3dUK0_ccw"
      }
    },
    {
      "cell_type": "code",
      "source": [
        "# Definindo o alpha\n",
        "alpha = 0.01"
      ],
      "metadata": {
        "id": "Uno1UTrI_cmA"
      },
      "execution_count": null,
      "outputs": []
    },
    {
      "cell_type": "markdown",
      "source": [
        "Agora vamos decidir se rejeitamos ou aceitamos a hipótese nula."
      ],
      "metadata": {
        "id": "tJPpPvBdAL-q"
      }
    },
    {
      "cell_type": "code",
      "source": [
        "# Testando as hipóteses\n",
        "if p <= alpha:\n",
        "  print('Hipótese nula rejeitada')\n",
        "else:\n",
        "  print('Hipótese alternativa rejeitada')"
      ],
      "metadata": {
        "colab": {
          "base_uri": "https://localhost:8080/"
        },
        "id": "3sBMZQgA_66O",
        "outputId": "62b737ee-1359-4265-ca4a-c4973fc0c6f5"
      },
      "execution_count": null,
      "outputs": [
        {
          "output_type": "stream",
          "name": "stdout",
          "text": [
            "Hipótese nula rejeitada\n"
          ]
        }
      ]
    },
    {
      "cell_type": "markdown",
      "source": [
        "Com base nisso, podemos concluir que as duas bases de dados possuem distribuições diferentes."
      ],
      "metadata": {
        "id": "1dzFVf5CAOIL"
      }
    },
    {
      "cell_type": "markdown",
      "source": [
        "# **Teste qui quadrado**"
      ],
      "metadata": {
        "id": "F88uDW1sFY_r"
      }
    },
    {
      "cell_type": "markdown",
      "source": [
        "Breve resumo:\n",
        "\n",
        "O teste qui-quadrado é um teste estatístico usado para comparar frequências observadas e esperadas. Ele é usado para testar hipóteses sobre a distribuição de dados categóricos.\n",
        "\n",
        "Quando utilizar:\n",
        "\n",
        "- Sempre que se deseja comparar frequências observadas e esperadas.\n",
        "- Sempre que se deseja testar hipóteses sobre a distribuição de dados categóricos.\n",
        "\n",
        "Exemplos:\n",
        "\n",
        "- Um pesquisador pode usar o teste qui-quadrado para testar a hipótese de que a distribuição de gêneros de uma população é igual à distribuição de gêneros de uma amostra."
      ],
      "metadata": {
        "id": "hyN5DFivGyQY"
      }
    },
    {
      "cell_type": "markdown",
      "source": [
        "Para exemplificar esse teste, vamos começar importando a biblioteca para utilizarmos sua função."
      ],
      "metadata": {
        "id": "xecXNar7G6OW"
      }
    },
    {
      "cell_type": "code",
      "source": [
        "# Biblioteca para o qui quadrado\n",
        "from scipy.stats import chi2_contingency"
      ],
      "metadata": {
        "id": "Ru9m0pnsG-0F"
      },
      "execution_count": null,
      "outputs": []
    },
    {
      "cell_type": "markdown",
      "source": [
        "Agora vamos gerar os dados que serão utilizados, lembrando que nosso objetivo é *confirmar que há uma diferença estatisticamente significativa entre os dados.*"
      ],
      "metadata": {
        "id": "FlpJBnK-HDZF"
      }
    },
    {
      "cell_type": "code",
      "source": [
        "# Gerando os dados\n",
        "tabela = np.array([[30, 20], [22, 28]])"
      ],
      "metadata": {
        "id": "M1uNGeD2HL6c"
      },
      "execution_count": null,
      "outputs": []
    },
    {
      "cell_type": "markdown",
      "source": [
        "Com os dados gerados, podemos agora aplicar a função."
      ],
      "metadata": {
        "id": "lgXDanPbHQvM"
      }
    },
    {
      "cell_type": "code",
      "source": [
        "# Aplicando a função\n",
        "chi2_contingency(tabela)"
      ],
      "metadata": {
        "colab": {
          "base_uri": "https://localhost:8080/"
        },
        "id": "b195Z0I1HX3z",
        "outputId": "817908a1-9f14-4860-ea0b-5e6a87620f41"
      },
      "execution_count": null,
      "outputs": [
        {
          "output_type": "execute_result",
          "data": {
            "text/plain": [
              "Chi2ContingencyResult(statistic=1.9631410256410255, pvalue=0.16117778944980238, dof=1, expected_freq=array([[26., 24.],\n",
              "       [26., 24.]]))"
            ]
          },
          "metadata": {},
          "execution_count": 22
        }
      ]
    },
    {
      "cell_type": "markdown",
      "source": [
        "É possível observar que essa função retorna diversos valores, mas o único que nos interessa nesse caso é o p-valor. Portanto, iremos armazenar apenas ele na variável p, seguindo o seguinte exemplo:"
      ],
      "metadata": {
        "id": "sNAjypCxHbvK"
      }
    },
    {
      "cell_type": "code",
      "source": [
        "# Aplicando a função\n",
        "_, p, _, _ = chi2_contingency(tabela)\n",
        "\n",
        "# Exibindo o valor\n",
        "print(p)"
      ],
      "metadata": {
        "colab": {
          "base_uri": "https://localhost:8080/"
        },
        "id": "SqVOXUzCHkqa",
        "outputId": "d00c3b60-81df-4340-d2ed-44438f1c1eaa"
      },
      "execution_count": null,
      "outputs": [
        {
          "output_type": "stream",
          "name": "stdout",
          "text": [
            "0.16117778944980238\n"
          ]
        }
      ]
    },
    {
      "cell_type": "markdown",
      "source": [
        "Podemos agora definir o nível de significância (alpha)"
      ],
      "metadata": {
        "id": "0nNYwMArHtBQ"
      }
    },
    {
      "cell_type": "code",
      "source": [
        "# Definindo o alpha\n",
        "alpha = 0.05"
      ],
      "metadata": {
        "id": "x6SPw9e0HtMJ"
      },
      "execution_count": null,
      "outputs": []
    },
    {
      "cell_type": "markdown",
      "source": [
        "Agora vamos decidir se rejeitamos ou aceitamos a hipótese nula."
      ],
      "metadata": {
        "id": "djaIDY4THyHn"
      }
    },
    {
      "cell_type": "code",
      "source": [
        "# Testando as hipóteses\n",
        "if p <= alpha:\n",
        "  print('Hipótese nula rejeitada')\n",
        "else:\n",
        "  print('Hipótese alternativa rejeitada')"
      ],
      "metadata": {
        "colab": {
          "base_uri": "https://localhost:8080/"
        },
        "id": "BtGNH9H_HySf",
        "outputId": "678520d7-64cf-4ed9-ae0f-13de7d3c08bc"
      },
      "execution_count": null,
      "outputs": [
        {
          "output_type": "stream",
          "name": "stdout",
          "text": [
            "Hipótese alternativa rejeitada\n"
          ]
        }
      ]
    },
    {
      "cell_type": "markdown",
      "source": [
        "Ao rejeitarmos a nossa hipótese alternativa, concluímos que não existe diferença estatisticamente significativa entre as distribuições."
      ],
      "metadata": {
        "id": "K9X86FilH18H"
      }
    },
    {
      "cell_type": "markdown",
      "source": [
        "# **Seleção de atributos Qui Quadrado**"
      ],
      "metadata": {
        "id": "G-1RY-HKSthT"
      }
    },
    {
      "cell_type": "markdown",
      "source": [
        "Breve resumo:\n",
        "\n",
        "A seleção de atributos é uma tarefa de aprendizado de máquina que envolve a identificação dos atributos mais relevantes para um determinado problema. Os testes de hipóteses podem ser usados para selecionar atributos de uma forma que seja objetiva e baseada em dados.\n",
        "\n",
        "Quando utilizar:\n",
        "\n",
        "- Sempre que se deseja selecionar atributos para um modelo de aprendizado de máquina.\n",
        "- Sempre que se deseja selecionar atributos de uma forma que seja objetiva e baseada em dados.\n",
        "\n",
        "Exemplos:\n",
        "\n",
        "Um cientista de dados pode usar a seleção de atributos com testes de hipóteses para selecionar os atributos mais relevantes para um modelo de classificação de imagens"
      ],
      "metadata": {
        "id": "h0FCkHUxS4zZ"
      }
    },
    {
      "cell_type": "markdown",
      "source": [
        "Para exemplificação dessa seleção será necessario a importação de algumas bibliotecas"
      ],
      "metadata": {
        "id": "1oi7lwFXTAoA"
      }
    },
    {
      "cell_type": "code",
      "source": [
        "# Manipulação de dados\n",
        "import pandas as pd\n",
        "\n",
        "# Álgebra linear\n",
        "import numpy as np\n",
        "\n",
        "# Seleção de atributos\n",
        "from sklearn.feature_selection import SelectFdr\n",
        "from sklearn.feature_selection import chi2\n",
        "\n",
        "# Modelo de Machine Learning\n",
        "from sklearn.naive_bayes import GaussianNB\n",
        "\n",
        "# Métricas de validação\n",
        "from sklearn.metrics import accuracy_score"
      ],
      "metadata": {
        "id": "2jpdY8dkTGR3"
      },
      "execution_count": null,
      "outputs": []
    },
    {
      "cell_type": "markdown",
      "source": [
        "Com todas essas bibliotecas importadas podemos seguir adiante, para a importação dos dados"
      ],
      "metadata": {
        "id": "thfFX7h2TXZd"
      }
    },
    {
      "cell_type": "code",
      "source": [
        "# Acesso ao drive\n",
        "from google.colab import drive\n",
        "drive.mount('/content/drive')"
      ],
      "metadata": {
        "colab": {
          "base_uri": "https://localhost:8080/"
        },
        "id": "Lvp2CQa4TxNj",
        "outputId": "d7802ff2-ac84-47ad-d5bf-bb1528c04108"
      },
      "execution_count": null,
      "outputs": [
        {
          "output_type": "stream",
          "name": "stdout",
          "text": [
            "Mounted at /content/drive\n"
          ]
        }
      ]
    },
    {
      "cell_type": "code",
      "source": [
        "# Importando o dataset\n",
        "df = pd.read_csv(\"/content/drive/MyDrive/Estatística para ciência de dados/ad.data\", header=None)"
      ],
      "metadata": {
        "id": "piWNieJsT8T6"
      },
      "execution_count": null,
      "outputs": []
    },
    {
      "cell_type": "code",
      "source": [
        "# Observando os registros\n",
        "df.head()"
      ],
      "metadata": {
        "colab": {
          "base_uri": "https://localhost:8080/",
          "height": 236
        },
        "id": "lBNxwbMGUb4k",
        "outputId": "2e23872a-89c0-44a6-8db4-584450d56c7b"
      },
      "execution_count": null,
      "outputs": [
        {
          "output_type": "execute_result",
          "data": {
            "text/plain": [
              "   0     1       2     3     4     5     6     7     8     9     ...  1549  \\\n",
              "0   125   125  1.0000     1     0     0     0     0     0     0  ...     0   \n",
              "1    57   468  8.2105     1     0     0     0     0     0     0  ...     0   \n",
              "2    33   230  6.9696     1     0     0     0     0     0     0  ...     0   \n",
              "3    60   468  7.8000     1     0     0     0     0     0     0  ...     0   \n",
              "4    60   468  7.8000     1     0     0     0     0     0     0  ...     0   \n",
              "\n",
              "   1550  1551  1552  1553  1554  1555  1556  1557  1558  \n",
              "0     0     0     0     0     0     0     0     0   ad.  \n",
              "1     0     0     0     0     0     0     0     0   ad.  \n",
              "2     0     0     0     0     0     0     0     0   ad.  \n",
              "3     0     0     0     0     0     0     0     0   ad.  \n",
              "4     0     0     0     0     0     0     0     0   ad.  \n",
              "\n",
              "[5 rows x 1559 columns]"
            ],
            "text/html": [
              "\n",
              "  <div id=\"df-bd09dc94-f61f-47b8-a033-25a80b5decb8\" class=\"colab-df-container\">\n",
              "    <div>\n",
              "<style scoped>\n",
              "    .dataframe tbody tr th:only-of-type {\n",
              "        vertical-align: middle;\n",
              "    }\n",
              "\n",
              "    .dataframe tbody tr th {\n",
              "        vertical-align: top;\n",
              "    }\n",
              "\n",
              "    .dataframe thead th {\n",
              "        text-align: right;\n",
              "    }\n",
              "</style>\n",
              "<table border=\"1\" class=\"dataframe\">\n",
              "  <thead>\n",
              "    <tr style=\"text-align: right;\">\n",
              "      <th></th>\n",
              "      <th>0</th>\n",
              "      <th>1</th>\n",
              "      <th>2</th>\n",
              "      <th>3</th>\n",
              "      <th>4</th>\n",
              "      <th>5</th>\n",
              "      <th>6</th>\n",
              "      <th>7</th>\n",
              "      <th>8</th>\n",
              "      <th>9</th>\n",
              "      <th>...</th>\n",
              "      <th>1549</th>\n",
              "      <th>1550</th>\n",
              "      <th>1551</th>\n",
              "      <th>1552</th>\n",
              "      <th>1553</th>\n",
              "      <th>1554</th>\n",
              "      <th>1555</th>\n",
              "      <th>1556</th>\n",
              "      <th>1557</th>\n",
              "      <th>1558</th>\n",
              "    </tr>\n",
              "  </thead>\n",
              "  <tbody>\n",
              "    <tr>\n",
              "      <th>0</th>\n",
              "      <td>125</td>\n",
              "      <td>125</td>\n",
              "      <td>1.0000</td>\n",
              "      <td>1</td>\n",
              "      <td>0</td>\n",
              "      <td>0</td>\n",
              "      <td>0</td>\n",
              "      <td>0</td>\n",
              "      <td>0</td>\n",
              "      <td>0</td>\n",
              "      <td>...</td>\n",
              "      <td>0</td>\n",
              "      <td>0</td>\n",
              "      <td>0</td>\n",
              "      <td>0</td>\n",
              "      <td>0</td>\n",
              "      <td>0</td>\n",
              "      <td>0</td>\n",
              "      <td>0</td>\n",
              "      <td>0</td>\n",
              "      <td>ad.</td>\n",
              "    </tr>\n",
              "    <tr>\n",
              "      <th>1</th>\n",
              "      <td>57</td>\n",
              "      <td>468</td>\n",
              "      <td>8.2105</td>\n",
              "      <td>1</td>\n",
              "      <td>0</td>\n",
              "      <td>0</td>\n",
              "      <td>0</td>\n",
              "      <td>0</td>\n",
              "      <td>0</td>\n",
              "      <td>0</td>\n",
              "      <td>...</td>\n",
              "      <td>0</td>\n",
              "      <td>0</td>\n",
              "      <td>0</td>\n",
              "      <td>0</td>\n",
              "      <td>0</td>\n",
              "      <td>0</td>\n",
              "      <td>0</td>\n",
              "      <td>0</td>\n",
              "      <td>0</td>\n",
              "      <td>ad.</td>\n",
              "    </tr>\n",
              "    <tr>\n",
              "      <th>2</th>\n",
              "      <td>33</td>\n",
              "      <td>230</td>\n",
              "      <td>6.9696</td>\n",
              "      <td>1</td>\n",
              "      <td>0</td>\n",
              "      <td>0</td>\n",
              "      <td>0</td>\n",
              "      <td>0</td>\n",
              "      <td>0</td>\n",
              "      <td>0</td>\n",
              "      <td>...</td>\n",
              "      <td>0</td>\n",
              "      <td>0</td>\n",
              "      <td>0</td>\n",
              "      <td>0</td>\n",
              "      <td>0</td>\n",
              "      <td>0</td>\n",
              "      <td>0</td>\n",
              "      <td>0</td>\n",
              "      <td>0</td>\n",
              "      <td>ad.</td>\n",
              "    </tr>\n",
              "    <tr>\n",
              "      <th>3</th>\n",
              "      <td>60</td>\n",
              "      <td>468</td>\n",
              "      <td>7.8000</td>\n",
              "      <td>1</td>\n",
              "      <td>0</td>\n",
              "      <td>0</td>\n",
              "      <td>0</td>\n",
              "      <td>0</td>\n",
              "      <td>0</td>\n",
              "      <td>0</td>\n",
              "      <td>...</td>\n",
              "      <td>0</td>\n",
              "      <td>0</td>\n",
              "      <td>0</td>\n",
              "      <td>0</td>\n",
              "      <td>0</td>\n",
              "      <td>0</td>\n",
              "      <td>0</td>\n",
              "      <td>0</td>\n",
              "      <td>0</td>\n",
              "      <td>ad.</td>\n",
              "    </tr>\n",
              "    <tr>\n",
              "      <th>4</th>\n",
              "      <td>60</td>\n",
              "      <td>468</td>\n",
              "      <td>7.8000</td>\n",
              "      <td>1</td>\n",
              "      <td>0</td>\n",
              "      <td>0</td>\n",
              "      <td>0</td>\n",
              "      <td>0</td>\n",
              "      <td>0</td>\n",
              "      <td>0</td>\n",
              "      <td>...</td>\n",
              "      <td>0</td>\n",
              "      <td>0</td>\n",
              "      <td>0</td>\n",
              "      <td>0</td>\n",
              "      <td>0</td>\n",
              "      <td>0</td>\n",
              "      <td>0</td>\n",
              "      <td>0</td>\n",
              "      <td>0</td>\n",
              "      <td>ad.</td>\n",
              "    </tr>\n",
              "  </tbody>\n",
              "</table>\n",
              "<p>5 rows × 1559 columns</p>\n",
              "</div>\n",
              "    <div class=\"colab-df-buttons\">\n",
              "\n",
              "  <div class=\"colab-df-container\">\n",
              "    <button class=\"colab-df-convert\" onclick=\"convertToInteractive('df-bd09dc94-f61f-47b8-a033-25a80b5decb8')\"\n",
              "            title=\"Convert this dataframe to an interactive table.\"\n",
              "            style=\"display:none;\">\n",
              "\n",
              "  <svg xmlns=\"http://www.w3.org/2000/svg\" height=\"24px\" viewBox=\"0 -960 960 960\">\n",
              "    <path d=\"M120-120v-720h720v720H120Zm60-500h600v-160H180v160Zm220 220h160v-160H400v160Zm0 220h160v-160H400v160ZM180-400h160v-160H180v160Zm440 0h160v-160H620v160ZM180-180h160v-160H180v160Zm440 0h160v-160H620v160Z\"/>\n",
              "  </svg>\n",
              "    </button>\n",
              "\n",
              "  <style>\n",
              "    .colab-df-container {\n",
              "      display:flex;\n",
              "      gap: 12px;\n",
              "    }\n",
              "\n",
              "    .colab-df-convert {\n",
              "      background-color: #E8F0FE;\n",
              "      border: none;\n",
              "      border-radius: 50%;\n",
              "      cursor: pointer;\n",
              "      display: none;\n",
              "      fill: #1967D2;\n",
              "      height: 32px;\n",
              "      padding: 0 0 0 0;\n",
              "      width: 32px;\n",
              "    }\n",
              "\n",
              "    .colab-df-convert:hover {\n",
              "      background-color: #E2EBFA;\n",
              "      box-shadow: 0px 1px 2px rgba(60, 64, 67, 0.3), 0px 1px 3px 1px rgba(60, 64, 67, 0.15);\n",
              "      fill: #174EA6;\n",
              "    }\n",
              "\n",
              "    .colab-df-buttons div {\n",
              "      margin-bottom: 4px;\n",
              "    }\n",
              "\n",
              "    [theme=dark] .colab-df-convert {\n",
              "      background-color: #3B4455;\n",
              "      fill: #D2E3FC;\n",
              "    }\n",
              "\n",
              "    [theme=dark] .colab-df-convert:hover {\n",
              "      background-color: #434B5C;\n",
              "      box-shadow: 0px 1px 3px 1px rgba(0, 0, 0, 0.15);\n",
              "      filter: drop-shadow(0px 1px 2px rgba(0, 0, 0, 0.3));\n",
              "      fill: #FFFFFF;\n",
              "    }\n",
              "  </style>\n",
              "\n",
              "    <script>\n",
              "      const buttonEl =\n",
              "        document.querySelector('#df-bd09dc94-f61f-47b8-a033-25a80b5decb8 button.colab-df-convert');\n",
              "      buttonEl.style.display =\n",
              "        google.colab.kernel.accessAllowed ? 'block' : 'none';\n",
              "\n",
              "      async function convertToInteractive(key) {\n",
              "        const element = document.querySelector('#df-bd09dc94-f61f-47b8-a033-25a80b5decb8');\n",
              "        const dataTable =\n",
              "          await google.colab.kernel.invokeFunction('convertToInteractive',\n",
              "                                                    [key], {});\n",
              "        if (!dataTable) return;\n",
              "\n",
              "        const docLinkHtml = 'Like what you see? Visit the ' +\n",
              "          '<a target=\"_blank\" href=https://colab.research.google.com/notebooks/data_table.ipynb>data table notebook</a>'\n",
              "          + ' to learn more about interactive tables.';\n",
              "        element.innerHTML = '';\n",
              "        dataTable['output_type'] = 'display_data';\n",
              "        await google.colab.output.renderOutput(dataTable, element);\n",
              "        const docLink = document.createElement('div');\n",
              "        docLink.innerHTML = docLinkHtml;\n",
              "        element.appendChild(docLink);\n",
              "      }\n",
              "    </script>\n",
              "  </div>\n",
              "\n",
              "\n",
              "<div id=\"df-8e618b10-f063-41fc-953b-7ed61da7cafa\">\n",
              "  <button class=\"colab-df-quickchart\" onclick=\"quickchart('df-8e618b10-f063-41fc-953b-7ed61da7cafa')\"\n",
              "            title=\"Suggest charts\"\n",
              "            style=\"display:none;\">\n",
              "\n",
              "<svg xmlns=\"http://www.w3.org/2000/svg\" height=\"24px\"viewBox=\"0 0 24 24\"\n",
              "     width=\"24px\">\n",
              "    <g>\n",
              "        <path d=\"M19 3H5c-1.1 0-2 .9-2 2v14c0 1.1.9 2 2 2h14c1.1 0 2-.9 2-2V5c0-1.1-.9-2-2-2zM9 17H7v-7h2v7zm4 0h-2V7h2v10zm4 0h-2v-4h2v4z\"/>\n",
              "    </g>\n",
              "</svg>\n",
              "  </button>\n",
              "\n",
              "<style>\n",
              "  .colab-df-quickchart {\n",
              "      --bg-color: #E8F0FE;\n",
              "      --fill-color: #1967D2;\n",
              "      --hover-bg-color: #E2EBFA;\n",
              "      --hover-fill-color: #174EA6;\n",
              "      --disabled-fill-color: #AAA;\n",
              "      --disabled-bg-color: #DDD;\n",
              "  }\n",
              "\n",
              "  [theme=dark] .colab-df-quickchart {\n",
              "      --bg-color: #3B4455;\n",
              "      --fill-color: #D2E3FC;\n",
              "      --hover-bg-color: #434B5C;\n",
              "      --hover-fill-color: #FFFFFF;\n",
              "      --disabled-bg-color: #3B4455;\n",
              "      --disabled-fill-color: #666;\n",
              "  }\n",
              "\n",
              "  .colab-df-quickchart {\n",
              "    background-color: var(--bg-color);\n",
              "    border: none;\n",
              "    border-radius: 50%;\n",
              "    cursor: pointer;\n",
              "    display: none;\n",
              "    fill: var(--fill-color);\n",
              "    height: 32px;\n",
              "    padding: 0;\n",
              "    width: 32px;\n",
              "  }\n",
              "\n",
              "  .colab-df-quickchart:hover {\n",
              "    background-color: var(--hover-bg-color);\n",
              "    box-shadow: 0 1px 2px rgba(60, 64, 67, 0.3), 0 1px 3px 1px rgba(60, 64, 67, 0.15);\n",
              "    fill: var(--button-hover-fill-color);\n",
              "  }\n",
              "\n",
              "  .colab-df-quickchart-complete:disabled,\n",
              "  .colab-df-quickchart-complete:disabled:hover {\n",
              "    background-color: var(--disabled-bg-color);\n",
              "    fill: var(--disabled-fill-color);\n",
              "    box-shadow: none;\n",
              "  }\n",
              "\n",
              "  .colab-df-spinner {\n",
              "    border: 2px solid var(--fill-color);\n",
              "    border-color: transparent;\n",
              "    border-bottom-color: var(--fill-color);\n",
              "    animation:\n",
              "      spin 1s steps(1) infinite;\n",
              "  }\n",
              "\n",
              "  @keyframes spin {\n",
              "    0% {\n",
              "      border-color: transparent;\n",
              "      border-bottom-color: var(--fill-color);\n",
              "      border-left-color: var(--fill-color);\n",
              "    }\n",
              "    20% {\n",
              "      border-color: transparent;\n",
              "      border-left-color: var(--fill-color);\n",
              "      border-top-color: var(--fill-color);\n",
              "    }\n",
              "    30% {\n",
              "      border-color: transparent;\n",
              "      border-left-color: var(--fill-color);\n",
              "      border-top-color: var(--fill-color);\n",
              "      border-right-color: var(--fill-color);\n",
              "    }\n",
              "    40% {\n",
              "      border-color: transparent;\n",
              "      border-right-color: var(--fill-color);\n",
              "      border-top-color: var(--fill-color);\n",
              "    }\n",
              "    60% {\n",
              "      border-color: transparent;\n",
              "      border-right-color: var(--fill-color);\n",
              "    }\n",
              "    80% {\n",
              "      border-color: transparent;\n",
              "      border-right-color: var(--fill-color);\n",
              "      border-bottom-color: var(--fill-color);\n",
              "    }\n",
              "    90% {\n",
              "      border-color: transparent;\n",
              "      border-bottom-color: var(--fill-color);\n",
              "    }\n",
              "  }\n",
              "</style>\n",
              "\n",
              "  <script>\n",
              "    async function quickchart(key) {\n",
              "      const quickchartButtonEl =\n",
              "        document.querySelector('#' + key + ' button');\n",
              "      quickchartButtonEl.disabled = true;  // To prevent multiple clicks.\n",
              "      quickchartButtonEl.classList.add('colab-df-spinner');\n",
              "      try {\n",
              "        const charts = await google.colab.kernel.invokeFunction(\n",
              "            'suggestCharts', [key], {});\n",
              "      } catch (error) {\n",
              "        console.error('Error during call to suggestCharts:', error);\n",
              "      }\n",
              "      quickchartButtonEl.classList.remove('colab-df-spinner');\n",
              "      quickchartButtonEl.classList.add('colab-df-quickchart-complete');\n",
              "    }\n",
              "    (() => {\n",
              "      let quickchartButtonEl =\n",
              "        document.querySelector('#df-8e618b10-f063-41fc-953b-7ed61da7cafa button');\n",
              "      quickchartButtonEl.style.display =\n",
              "        google.colab.kernel.accessAllowed ? 'block' : 'none';\n",
              "    })();\n",
              "  </script>\n",
              "</div>\n",
              "\n",
              "    </div>\n",
              "  </div>\n"
            ]
          },
          "metadata": {},
          "execution_count": 31
        }
      ]
    },
    {
      "cell_type": "code",
      "source": [
        "# Observando as dimensões\n",
        "df.shape"
      ],
      "metadata": {
        "id": "ywh5JeS6Ue79"
      },
      "execution_count": null,
      "outputs": []
    },
    {
      "cell_type": "markdown",
      "source": [
        "Dividindo o conjunto de dados para estabelecer as variáveis preditoras e a variável de resposta."
      ],
      "metadata": {
        "id": "2yjKX0A6UqbU"
      }
    },
    {
      "cell_type": "code",
      "source": [
        "# Separando os dados em X e Y\n",
        "\n",
        "# Variaveis preditoras\n",
        "X = df.drop(1558, axis = 1)\n",
        "\n",
        "# Variavel resposta\n",
        "y = df[1558]"
      ],
      "metadata": {
        "id": "k-vBQH4-Ustk"
      },
      "execution_count": null,
      "outputs": []
    },
    {
      "cell_type": "markdown",
      "source": [
        "## **Sem seleção**"
      ],
      "metadata": {
        "id": "1z2_RThDVcit"
      }
    },
    {
      "cell_type": "markdown",
      "source": [
        "Para notarmos a diferença, primeiro vamos observar como o modelo se comporta sem a seleção de variáveis. Depois, vamos comparar com o modelo utilizando as variáveis selecionadas."
      ],
      "metadata": {
        "id": "WRy58243-zFy"
      }
    },
    {
      "cell_type": "markdown",
      "source": [
        "*Criando e treinando o modelo*"
      ],
      "metadata": {
        "id": "OyIM8vTxDixc"
      }
    },
    {
      "cell_type": "code",
      "source": [
        "# Criando o modelo\n",
        "naive1 = GaussianNB()\n",
        "\n",
        "# Treinando o modelo\n",
        "naive1.fit(X, y)"
      ],
      "metadata": {
        "colab": {
          "base_uri": "https://localhost:8080/",
          "height": 75
        },
        "id": "DUxWD8bjDlyU",
        "outputId": "2f36d9f0-6859-4921-c7de-b6c4e02d2890"
      },
      "execution_count": null,
      "outputs": [
        {
          "output_type": "execute_result",
          "data": {
            "text/plain": [
              "GaussianNB()"
            ],
            "text/html": [
              "<style>#sk-container-id-1 {color: black;background-color: white;}#sk-container-id-1 pre{padding: 0;}#sk-container-id-1 div.sk-toggleable {background-color: white;}#sk-container-id-1 label.sk-toggleable__label {cursor: pointer;display: block;width: 100%;margin-bottom: 0;padding: 0.3em;box-sizing: border-box;text-align: center;}#sk-container-id-1 label.sk-toggleable__label-arrow:before {content: \"▸\";float: left;margin-right: 0.25em;color: #696969;}#sk-container-id-1 label.sk-toggleable__label-arrow:hover:before {color: black;}#sk-container-id-1 div.sk-estimator:hover label.sk-toggleable__label-arrow:before {color: black;}#sk-container-id-1 div.sk-toggleable__content {max-height: 0;max-width: 0;overflow: hidden;text-align: left;background-color: #f0f8ff;}#sk-container-id-1 div.sk-toggleable__content pre {margin: 0.2em;color: black;border-radius: 0.25em;background-color: #f0f8ff;}#sk-container-id-1 input.sk-toggleable__control:checked~div.sk-toggleable__content {max-height: 200px;max-width: 100%;overflow: auto;}#sk-container-id-1 input.sk-toggleable__control:checked~label.sk-toggleable__label-arrow:before {content: \"▾\";}#sk-container-id-1 div.sk-estimator input.sk-toggleable__control:checked~label.sk-toggleable__label {background-color: #d4ebff;}#sk-container-id-1 div.sk-label input.sk-toggleable__control:checked~label.sk-toggleable__label {background-color: #d4ebff;}#sk-container-id-1 input.sk-hidden--visually {border: 0;clip: rect(1px 1px 1px 1px);clip: rect(1px, 1px, 1px, 1px);height: 1px;margin: -1px;overflow: hidden;padding: 0;position: absolute;width: 1px;}#sk-container-id-1 div.sk-estimator {font-family: monospace;background-color: #f0f8ff;border: 1px dotted black;border-radius: 0.25em;box-sizing: border-box;margin-bottom: 0.5em;}#sk-container-id-1 div.sk-estimator:hover {background-color: #d4ebff;}#sk-container-id-1 div.sk-parallel-item::after {content: \"\";width: 100%;border-bottom: 1px solid gray;flex-grow: 1;}#sk-container-id-1 div.sk-label:hover label.sk-toggleable__label {background-color: #d4ebff;}#sk-container-id-1 div.sk-serial::before {content: \"\";position: absolute;border-left: 1px solid gray;box-sizing: border-box;top: 0;bottom: 0;left: 50%;z-index: 0;}#sk-container-id-1 div.sk-serial {display: flex;flex-direction: column;align-items: center;background-color: white;padding-right: 0.2em;padding-left: 0.2em;position: relative;}#sk-container-id-1 div.sk-item {position: relative;z-index: 1;}#sk-container-id-1 div.sk-parallel {display: flex;align-items: stretch;justify-content: center;background-color: white;position: relative;}#sk-container-id-1 div.sk-item::before, #sk-container-id-1 div.sk-parallel-item::before {content: \"\";position: absolute;border-left: 1px solid gray;box-sizing: border-box;top: 0;bottom: 0;left: 50%;z-index: -1;}#sk-container-id-1 div.sk-parallel-item {display: flex;flex-direction: column;z-index: 1;position: relative;background-color: white;}#sk-container-id-1 div.sk-parallel-item:first-child::after {align-self: flex-end;width: 50%;}#sk-container-id-1 div.sk-parallel-item:last-child::after {align-self: flex-start;width: 50%;}#sk-container-id-1 div.sk-parallel-item:only-child::after {width: 0;}#sk-container-id-1 div.sk-dashed-wrapped {border: 1px dashed gray;margin: 0 0.4em 0.5em 0.4em;box-sizing: border-box;padding-bottom: 0.4em;background-color: white;}#sk-container-id-1 div.sk-label label {font-family: monospace;font-weight: bold;display: inline-block;line-height: 1.2em;}#sk-container-id-1 div.sk-label-container {text-align: center;}#sk-container-id-1 div.sk-container {/* jupyter's `normalize.less` sets `[hidden] { display: none; }` but bootstrap.min.css set `[hidden] { display: none !important; }` so we also need the `!important` here to be able to override the default hidden behavior on the sphinx rendered scikit-learn.org. See: https://github.com/scikit-learn/scikit-learn/issues/21755 */display: inline-block !important;position: relative;}#sk-container-id-1 div.sk-text-repr-fallback {display: none;}</style><div id=\"sk-container-id-1\" class=\"sk-top-container\"><div class=\"sk-text-repr-fallback\"><pre>GaussianNB()</pre><b>In a Jupyter environment, please rerun this cell to show the HTML representation or trust the notebook. <br />On GitHub, the HTML representation is unable to render, please try loading this page with nbviewer.org.</b></div><div class=\"sk-container\" hidden><div class=\"sk-item\"><div class=\"sk-estimator sk-toggleable\"><input class=\"sk-toggleable__control sk-hidden--visually\" id=\"sk-estimator-id-1\" type=\"checkbox\" checked><label for=\"sk-estimator-id-1\" class=\"sk-toggleable__label sk-toggleable__label-arrow\">GaussianNB</label><div class=\"sk-toggleable__content\"><pre>GaussianNB()</pre></div></div></div></div></div>"
            ]
          },
          "metadata": {},
          "execution_count": 5
        }
      ]
    },
    {
      "cell_type": "markdown",
      "source": [
        "*Realizando as predições e medindo a acurácia do modelo*"
      ],
      "metadata": {
        "id": "DIUrqkDEDm5c"
      }
    },
    {
      "cell_type": "code",
      "source": [
        "# Realizando as predições\n",
        "previsoes1 = naive1.predict(X)\n",
        "\n",
        "# Medindo a acurácia\n",
        "accuracy_score(y, previsoes1)"
      ],
      "metadata": {
        "colab": {
          "base_uri": "https://localhost:8080/"
        },
        "id": "sog4mqnzVRCv",
        "outputId": "3a40a86b-25a9-4771-fbdf-e3fd3acaa4bc"
      },
      "execution_count": null,
      "outputs": [
        {
          "output_type": "execute_result",
          "data": {
            "text/plain": [
              "0.7813357731015553"
            ]
          },
          "metadata": {},
          "execution_count": 6
        }
      ]
    },
    {
      "cell_type": "markdown",
      "source": [
        "O modelo sem seleção de atributos apresentou uma acurácia de 78%."
      ],
      "metadata": {
        "id": "5cOEzdCVC99q"
      }
    },
    {
      "cell_type": "markdown",
      "source": [
        "## **Com seleção de atributos utilizando o qui quadrado**"
      ],
      "metadata": {
        "id": "6czknBTxDSU-"
      }
    },
    {
      "cell_type": "markdown",
      "source": [
        "Agora vamos observar o comportamento do modelo com os atributos selecionados. Em seguida, podemos dar continuidade."
      ],
      "metadata": {
        "id": "V1JNdSV-DU-W"
      }
    },
    {
      "cell_type": "markdown",
      "source": [
        "Criamos um objeto SelectFdr, um estimador de parâmetro que seleciona variáveis por ajuste de falso descarte. Passamos como parâmetro o teste chi-quadrado e o valor alpha."
      ],
      "metadata": {
        "id": "09dzVi9jE7Pb"
      }
    },
    {
      "cell_type": "code",
      "source": [
        "# Criando o objeto\n",
        "selecao = SelectFdr(chi2, alpha=0.01)"
      ],
      "metadata": {
        "id": "4aNRg1adEXxe"
      },
      "execution_count": null,
      "outputs": []
    },
    {
      "cell_type": "markdown",
      "source": [
        "O método fit_transform() usa o teste qui-quadrado para selecionar as variáveis mais significativas para o modelo.\n",
        "\n",
        "Os argumentos são os dados de treinamento X e as respostas y."
      ],
      "metadata": {
        "id": "urc-hky9Eoz1"
      }
    },
    {
      "cell_type": "code",
      "source": [
        "# Selecionando as variáveis\n",
        "X_novo = selecao.fit_transform(X, y)"
      ],
      "metadata": {
        "id": "SoaICvMSEm8M"
      },
      "execution_count": null,
      "outputs": []
    },
    {
      "cell_type": "markdown",
      "source": [
        "Agora, podemos criar o modelo com esses novos dados."
      ],
      "metadata": {
        "id": "f5yd-OJJFdRe"
      }
    },
    {
      "cell_type": "markdown",
      "source": [
        "*Criando o modelo e treinando-o*"
      ],
      "metadata": {
        "id": "Gyq_LpUKFkU9"
      }
    },
    {
      "cell_type": "code",
      "source": [
        "# Criando o modelo\n",
        "naive2 = GaussianNB()\n",
        "\n",
        "# Treinando o modelo\n",
        "naive2.fit(X_novo, y)"
      ],
      "metadata": {
        "colab": {
          "base_uri": "https://localhost:8080/",
          "height": 75
        },
        "id": "sZCOe163FmNk",
        "outputId": "d9bd128d-ff60-44da-86fb-f7b5960a2750"
      },
      "execution_count": null,
      "outputs": [
        {
          "output_type": "execute_result",
          "data": {
            "text/plain": [
              "GaussianNB()"
            ],
            "text/html": [
              "<style>#sk-container-id-2 {color: black;background-color: white;}#sk-container-id-2 pre{padding: 0;}#sk-container-id-2 div.sk-toggleable {background-color: white;}#sk-container-id-2 label.sk-toggleable__label {cursor: pointer;display: block;width: 100%;margin-bottom: 0;padding: 0.3em;box-sizing: border-box;text-align: center;}#sk-container-id-2 label.sk-toggleable__label-arrow:before {content: \"▸\";float: left;margin-right: 0.25em;color: #696969;}#sk-container-id-2 label.sk-toggleable__label-arrow:hover:before {color: black;}#sk-container-id-2 div.sk-estimator:hover label.sk-toggleable__label-arrow:before {color: black;}#sk-container-id-2 div.sk-toggleable__content {max-height: 0;max-width: 0;overflow: hidden;text-align: left;background-color: #f0f8ff;}#sk-container-id-2 div.sk-toggleable__content pre {margin: 0.2em;color: black;border-radius: 0.25em;background-color: #f0f8ff;}#sk-container-id-2 input.sk-toggleable__control:checked~div.sk-toggleable__content {max-height: 200px;max-width: 100%;overflow: auto;}#sk-container-id-2 input.sk-toggleable__control:checked~label.sk-toggleable__label-arrow:before {content: \"▾\";}#sk-container-id-2 div.sk-estimator input.sk-toggleable__control:checked~label.sk-toggleable__label {background-color: #d4ebff;}#sk-container-id-2 div.sk-label input.sk-toggleable__control:checked~label.sk-toggleable__label {background-color: #d4ebff;}#sk-container-id-2 input.sk-hidden--visually {border: 0;clip: rect(1px 1px 1px 1px);clip: rect(1px, 1px, 1px, 1px);height: 1px;margin: -1px;overflow: hidden;padding: 0;position: absolute;width: 1px;}#sk-container-id-2 div.sk-estimator {font-family: monospace;background-color: #f0f8ff;border: 1px dotted black;border-radius: 0.25em;box-sizing: border-box;margin-bottom: 0.5em;}#sk-container-id-2 div.sk-estimator:hover {background-color: #d4ebff;}#sk-container-id-2 div.sk-parallel-item::after {content: \"\";width: 100%;border-bottom: 1px solid gray;flex-grow: 1;}#sk-container-id-2 div.sk-label:hover label.sk-toggleable__label {background-color: #d4ebff;}#sk-container-id-2 div.sk-serial::before {content: \"\";position: absolute;border-left: 1px solid gray;box-sizing: border-box;top: 0;bottom: 0;left: 50%;z-index: 0;}#sk-container-id-2 div.sk-serial {display: flex;flex-direction: column;align-items: center;background-color: white;padding-right: 0.2em;padding-left: 0.2em;position: relative;}#sk-container-id-2 div.sk-item {position: relative;z-index: 1;}#sk-container-id-2 div.sk-parallel {display: flex;align-items: stretch;justify-content: center;background-color: white;position: relative;}#sk-container-id-2 div.sk-item::before, #sk-container-id-2 div.sk-parallel-item::before {content: \"\";position: absolute;border-left: 1px solid gray;box-sizing: border-box;top: 0;bottom: 0;left: 50%;z-index: -1;}#sk-container-id-2 div.sk-parallel-item {display: flex;flex-direction: column;z-index: 1;position: relative;background-color: white;}#sk-container-id-2 div.sk-parallel-item:first-child::after {align-self: flex-end;width: 50%;}#sk-container-id-2 div.sk-parallel-item:last-child::after {align-self: flex-start;width: 50%;}#sk-container-id-2 div.sk-parallel-item:only-child::after {width: 0;}#sk-container-id-2 div.sk-dashed-wrapped {border: 1px dashed gray;margin: 0 0.4em 0.5em 0.4em;box-sizing: border-box;padding-bottom: 0.4em;background-color: white;}#sk-container-id-2 div.sk-label label {font-family: monospace;font-weight: bold;display: inline-block;line-height: 1.2em;}#sk-container-id-2 div.sk-label-container {text-align: center;}#sk-container-id-2 div.sk-container {/* jupyter's `normalize.less` sets `[hidden] { display: none; }` but bootstrap.min.css set `[hidden] { display: none !important; }` so we also need the `!important` here to be able to override the default hidden behavior on the sphinx rendered scikit-learn.org. See: https://github.com/scikit-learn/scikit-learn/issues/21755 */display: inline-block !important;position: relative;}#sk-container-id-2 div.sk-text-repr-fallback {display: none;}</style><div id=\"sk-container-id-2\" class=\"sk-top-container\"><div class=\"sk-text-repr-fallback\"><pre>GaussianNB()</pre><b>In a Jupyter environment, please rerun this cell to show the HTML representation or trust the notebook. <br />On GitHub, the HTML representation is unable to render, please try loading this page with nbviewer.org.</b></div><div class=\"sk-container\" hidden><div class=\"sk-item\"><div class=\"sk-estimator sk-toggleable\"><input class=\"sk-toggleable__control sk-hidden--visually\" id=\"sk-estimator-id-2\" type=\"checkbox\" checked><label for=\"sk-estimator-id-2\" class=\"sk-toggleable__label sk-toggleable__label-arrow\">GaussianNB</label><div class=\"sk-toggleable__content\"><pre>GaussianNB()</pre></div></div></div></div></div>"
            ]
          },
          "metadata": {},
          "execution_count": 9
        }
      ]
    },
    {
      "cell_type": "markdown",
      "source": [
        "*Realizando predições e medindo sua acurácia*"
      ],
      "metadata": {
        "id": "x6cM_ZrWFqXs"
      }
    },
    {
      "cell_type": "code",
      "source": [
        "# Realizando as predições\n",
        "previsoes2 = naive2.predict(X_novo)\n",
        "\n",
        "# Medindo a acurácia\n",
        "accuracy_score(y, previsoes2)"
      ],
      "metadata": {
        "colab": {
          "base_uri": "https://localhost:8080/"
        },
        "id": "tYpbAEpPFiJc",
        "outputId": "f08aef5a-f1af-403f-fd63-daa0f1ebb013"
      },
      "execution_count": null,
      "outputs": [
        {
          "output_type": "execute_result",
          "data": {
            "text/plain": [
              "0.970722781335773"
            ]
          },
          "metadata": {},
          "execution_count": 10
        }
      ]
    },
    {
      "cell_type": "markdown",
      "source": [
        "O desempenho do modelo melhorou significativamente ao utilizarmos essa técnica, considerando apenas a acurácia."
      ],
      "metadata": {
        "id": "QcVA7gwsFwvV"
      }
    },
    {
      "cell_type": "markdown",
      "source": [
        "# **Teste ANOVA**"
      ],
      "metadata": {
        "id": "5Os-71nwLF_a"
      }
    },
    {
      "cell_type": "markdown",
      "source": [
        "Breve resumo:\n",
        "\n",
        "O teste ANOVA é um teste estatístico usado para comparar as médias de três ou mais populações. Ele é usado para testar hipóteses sobre a igualdade das médias.\n",
        "\n",
        "Quando utilizar:\n",
        "\n",
        "- Sempre que se deseja comparar as médias de três ou mais populações.\n",
        "- Sempre que se deseja testar hipóteses sobre a igualdade das médias.\n",
        "\n",
        "Exemplos:\n",
        "\n",
        "- Um pesquisador pode usar o teste ANOVA para comparar as médias de desempenho de três grupos de alunos em um teste."
      ],
      "metadata": {
        "id": "ME_y83ReLZvx"
      }
    },
    {
      "cell_type": "markdown",
      "source": [
        "Vamos gerar os dados a serem usados."
      ],
      "metadata": {
        "id": "vCCycb3rLM-y"
      }
    },
    {
      "cell_type": "code",
      "source": [
        "# Criando o primeiro grupo\n",
        "grupo_a = np.array([165, 152, 143, 140, 155])\n",
        "\n",
        "# Criando o segundo grupo\n",
        "grupo_b = np.array([130, 169, 164, 143, 154])\n",
        "\n",
        "# Criando o terceiro grupo\n",
        "grupo_c = np.array([163, 158, 154, 149, 156])"
      ],
      "metadata": {
        "id": "NV9VFJ1ILQhh"
      },
      "execution_count": null,
      "outputs": []
    },
    {
      "cell_type": "markdown",
      "source": [
        "Agora que temos os dados, vamos verificar se as médias apresentam diferenças estatísticas significativas. Para isso, é necessário importar a seguinte biblioteca."
      ],
      "metadata": {
        "id": "V_4Y8EdWLnRm"
      }
    },
    {
      "cell_type": "code",
      "source": [
        "# Biblioteca para o teste ANOVA\n",
        "from scipy.stats import f_oneway"
      ],
      "metadata": {
        "id": "Fr9up1-NLwIu"
      },
      "execution_count": null,
      "outputs": []
    },
    {
      "cell_type": "markdown",
      "source": [
        "Agora que importamos a biblioteca, podemos usá-la, então podemos seguir adiante."
      ],
      "metadata": {
        "id": "TeUr9evaMdSw"
      }
    },
    {
      "cell_type": "code",
      "source": [
        "# Aplicando a função\n",
        "_, p = f_oneway(grupo_a, grupo_b, grupo_c)\n",
        "\n",
        "# Exibindo o valor\n",
        "print(p)"
      ],
      "metadata": {
        "colab": {
          "base_uri": "https://localhost:8080/"
        },
        "id": "bAmY0WOWL2tF",
        "outputId": "76194ae5-b28c-4bbc-ef06-503ec5dad70c"
      },
      "execution_count": null,
      "outputs": [
        {
          "output_type": "stream",
          "name": "stdout",
          "text": [
            "0.7613994386091956\n"
          ]
        }
      ]
    },
    {
      "cell_type": "markdown",
      "source": [
        "Agora podemos definir o nível de significância (alpha)"
      ],
      "metadata": {
        "id": "xDVDrfMjMLWi"
      }
    },
    {
      "cell_type": "code",
      "source": [
        "# Definindo o alpha\n",
        "alpha = 0.05"
      ],
      "metadata": {
        "id": "9uiIb-77MNuS"
      },
      "execution_count": null,
      "outputs": []
    },
    {
      "cell_type": "markdown",
      "source": [
        "É hora de decidir se rejeitamos ou aceitamos a hipótese nula."
      ],
      "metadata": {
        "id": "jZTemHOAMPKZ"
      }
    },
    {
      "cell_type": "code",
      "source": [
        "# Testando as hipóteses\n",
        "if p <= alpha:\n",
        "  print('Hipótese nula rejeitada')\n",
        "else:\n",
        "  print('Hipótese alternativa rejeitada')"
      ],
      "metadata": {
        "colab": {
          "base_uri": "https://localhost:8080/"
        },
        "id": "vji77tBBL5bE",
        "outputId": "fa423f5e-b56a-4a64-eaf5-dac21c9414af"
      },
      "execution_count": null,
      "outputs": [
        {
          "output_type": "stream",
          "name": "stdout",
          "text": [
            "Hipótese alternativa rejeitada\n"
          ]
        }
      ]
    },
    {
      "cell_type": "markdown",
      "source": [
        "A hipótese alternativa foi rejeitada, portanto, podemos assumir que as médias dos grupos não são tão diferentes."
      ],
      "metadata": {
        "id": "Oc8UCCqYM8hk"
      }
    },
    {
      "cell_type": "markdown",
      "source": [
        "# **Teste de Tukey**"
      ],
      "metadata": {
        "id": "gVqoDXxCNdIo"
      }
    },
    {
      "cell_type": "markdown",
      "source": [
        "Breve resumo:\n",
        "\n",
        "O teste de Tukey é um teste post-hoc usado para comparar as médias de dois grupos após um teste ANOVA. Ele é usado para determinar quais grupos são diferentes entre si.\n",
        "\n",
        "Quando utilizar:\n",
        "\n",
        "- Sempre que se deseja comparar as médias de dois grupos após um teste ANOVA.\n",
        "\n",
        "Exemplos:\n",
        "\n",
        "- Um pesquisador pode usar o teste de Tukey para comparar as médias de desempenho de dois grupos de alunos em um teste, após um teste ANOVA que mostrou que as médias não são iguais."
      ],
      "metadata": {
        "id": "Zom5EjjYNpgu"
      }
    },
    {
      "cell_type": "markdown",
      "source": [
        "Para ilustrar o funcionamento deste teste, vamos começar obtendo os dados. É importante ressaltar que esses dados são os mesmos que usamos no teste ANOVA, mas estão em um formato diferente."
      ],
      "metadata": {
        "id": "9RoCcHn9NuX2"
      }
    },
    {
      "cell_type": "code",
      "source": [
        "# Armazenando os dados\n",
        "dados = {'valores': [165, 152, 143, 140, 155, 130, 169, 164, 143, 154, 163, 158, 154, 149, 156],\n",
        "         'grupo': ['A', 'A', 'A', 'A', 'A', 'B', 'B', 'B', 'B', 'B', 'C', 'C', 'C', 'C', 'C']}"
      ],
      "metadata": {
        "id": "9KRO9Y7lNyTu"
      },
      "execution_count": null,
      "outputs": []
    },
    {
      "cell_type": "markdown",
      "source": [
        "Mesmo que os dados estejam no formato de dicionário, ainda não serão suficientes. Portanto, vamos transformá-los em um formato de data frame."
      ],
      "metadata": {
        "id": "ig17fX2VOFl7"
      }
    },
    {
      "cell_type": "code",
      "source": [
        "# Tranformando os dados em um DataFrame\n",
        "dados_pd = pd.DataFrame(dados)\n",
        "\n",
        "# Observando os dados\n",
        "dados_pd.head()"
      ],
      "metadata": {
        "colab": {
          "base_uri": "https://localhost:8080/",
          "height": 206
        },
        "id": "H6FUXYOjOF7j",
        "outputId": "5a1f44f1-b488-445f-a732-46527c29c9d7"
      },
      "execution_count": null,
      "outputs": [
        {
          "output_type": "execute_result",
          "data": {
            "text/plain": [
              "   valores grupo\n",
              "0      165     A\n",
              "1      152     A\n",
              "2      143     A\n",
              "3      140     A\n",
              "4      155     A"
            ],
            "text/html": [
              "\n",
              "  <div id=\"df-ec6f209f-8f1d-46c0-b96b-96502f7886f2\" class=\"colab-df-container\">\n",
              "    <div>\n",
              "<style scoped>\n",
              "    .dataframe tbody tr th:only-of-type {\n",
              "        vertical-align: middle;\n",
              "    }\n",
              "\n",
              "    .dataframe tbody tr th {\n",
              "        vertical-align: top;\n",
              "    }\n",
              "\n",
              "    .dataframe thead th {\n",
              "        text-align: right;\n",
              "    }\n",
              "</style>\n",
              "<table border=\"1\" class=\"dataframe\">\n",
              "  <thead>\n",
              "    <tr style=\"text-align: right;\">\n",
              "      <th></th>\n",
              "      <th>valores</th>\n",
              "      <th>grupo</th>\n",
              "    </tr>\n",
              "  </thead>\n",
              "  <tbody>\n",
              "    <tr>\n",
              "      <th>0</th>\n",
              "      <td>165</td>\n",
              "      <td>A</td>\n",
              "    </tr>\n",
              "    <tr>\n",
              "      <th>1</th>\n",
              "      <td>152</td>\n",
              "      <td>A</td>\n",
              "    </tr>\n",
              "    <tr>\n",
              "      <th>2</th>\n",
              "      <td>143</td>\n",
              "      <td>A</td>\n",
              "    </tr>\n",
              "    <tr>\n",
              "      <th>3</th>\n",
              "      <td>140</td>\n",
              "      <td>A</td>\n",
              "    </tr>\n",
              "    <tr>\n",
              "      <th>4</th>\n",
              "      <td>155</td>\n",
              "      <td>A</td>\n",
              "    </tr>\n",
              "  </tbody>\n",
              "</table>\n",
              "</div>\n",
              "    <div class=\"colab-df-buttons\">\n",
              "\n",
              "  <div class=\"colab-df-container\">\n",
              "    <button class=\"colab-df-convert\" onclick=\"convertToInteractive('df-ec6f209f-8f1d-46c0-b96b-96502f7886f2')\"\n",
              "            title=\"Convert this dataframe to an interactive table.\"\n",
              "            style=\"display:none;\">\n",
              "\n",
              "  <svg xmlns=\"http://www.w3.org/2000/svg\" height=\"24px\" viewBox=\"0 -960 960 960\">\n",
              "    <path d=\"M120-120v-720h720v720H120Zm60-500h600v-160H180v160Zm220 220h160v-160H400v160Zm0 220h160v-160H400v160ZM180-400h160v-160H180v160Zm440 0h160v-160H620v160ZM180-180h160v-160H180v160Zm440 0h160v-160H620v160Z\"/>\n",
              "  </svg>\n",
              "    </button>\n",
              "\n",
              "  <style>\n",
              "    .colab-df-container {\n",
              "      display:flex;\n",
              "      gap: 12px;\n",
              "    }\n",
              "\n",
              "    .colab-df-convert {\n",
              "      background-color: #E8F0FE;\n",
              "      border: none;\n",
              "      border-radius: 50%;\n",
              "      cursor: pointer;\n",
              "      display: none;\n",
              "      fill: #1967D2;\n",
              "      height: 32px;\n",
              "      padding: 0 0 0 0;\n",
              "      width: 32px;\n",
              "    }\n",
              "\n",
              "    .colab-df-convert:hover {\n",
              "      background-color: #E2EBFA;\n",
              "      box-shadow: 0px 1px 2px rgba(60, 64, 67, 0.3), 0px 1px 3px 1px rgba(60, 64, 67, 0.15);\n",
              "      fill: #174EA6;\n",
              "    }\n",
              "\n",
              "    .colab-df-buttons div {\n",
              "      margin-bottom: 4px;\n",
              "    }\n",
              "\n",
              "    [theme=dark] .colab-df-convert {\n",
              "      background-color: #3B4455;\n",
              "      fill: #D2E3FC;\n",
              "    }\n",
              "\n",
              "    [theme=dark] .colab-df-convert:hover {\n",
              "      background-color: #434B5C;\n",
              "      box-shadow: 0px 1px 3px 1px rgba(0, 0, 0, 0.15);\n",
              "      filter: drop-shadow(0px 1px 2px rgba(0, 0, 0, 0.3));\n",
              "      fill: #FFFFFF;\n",
              "    }\n",
              "  </style>\n",
              "\n",
              "    <script>\n",
              "      const buttonEl =\n",
              "        document.querySelector('#df-ec6f209f-8f1d-46c0-b96b-96502f7886f2 button.colab-df-convert');\n",
              "      buttonEl.style.display =\n",
              "        google.colab.kernel.accessAllowed ? 'block' : 'none';\n",
              "\n",
              "      async function convertToInteractive(key) {\n",
              "        const element = document.querySelector('#df-ec6f209f-8f1d-46c0-b96b-96502f7886f2');\n",
              "        const dataTable =\n",
              "          await google.colab.kernel.invokeFunction('convertToInteractive',\n",
              "                                                    [key], {});\n",
              "        if (!dataTable) return;\n",
              "\n",
              "        const docLinkHtml = 'Like what you see? Visit the ' +\n",
              "          '<a target=\"_blank\" href=https://colab.research.google.com/notebooks/data_table.ipynb>data table notebook</a>'\n",
              "          + ' to learn more about interactive tables.';\n",
              "        element.innerHTML = '';\n",
              "        dataTable['output_type'] = 'display_data';\n",
              "        await google.colab.output.renderOutput(dataTable, element);\n",
              "        const docLink = document.createElement('div');\n",
              "        docLink.innerHTML = docLinkHtml;\n",
              "        element.appendChild(docLink);\n",
              "      }\n",
              "    </script>\n",
              "  </div>\n",
              "\n",
              "\n",
              "<div id=\"df-fc679994-6aa2-468d-a530-5dce9c15f11e\">\n",
              "  <button class=\"colab-df-quickchart\" onclick=\"quickchart('df-fc679994-6aa2-468d-a530-5dce9c15f11e')\"\n",
              "            title=\"Suggest charts\"\n",
              "            style=\"display:none;\">\n",
              "\n",
              "<svg xmlns=\"http://www.w3.org/2000/svg\" height=\"24px\"viewBox=\"0 0 24 24\"\n",
              "     width=\"24px\">\n",
              "    <g>\n",
              "        <path d=\"M19 3H5c-1.1 0-2 .9-2 2v14c0 1.1.9 2 2 2h14c1.1 0 2-.9 2-2V5c0-1.1-.9-2-2-2zM9 17H7v-7h2v7zm4 0h-2V7h2v10zm4 0h-2v-4h2v4z\"/>\n",
              "    </g>\n",
              "</svg>\n",
              "  </button>\n",
              "\n",
              "<style>\n",
              "  .colab-df-quickchart {\n",
              "      --bg-color: #E8F0FE;\n",
              "      --fill-color: #1967D2;\n",
              "      --hover-bg-color: #E2EBFA;\n",
              "      --hover-fill-color: #174EA6;\n",
              "      --disabled-fill-color: #AAA;\n",
              "      --disabled-bg-color: #DDD;\n",
              "  }\n",
              "\n",
              "  [theme=dark] .colab-df-quickchart {\n",
              "      --bg-color: #3B4455;\n",
              "      --fill-color: #D2E3FC;\n",
              "      --hover-bg-color: #434B5C;\n",
              "      --hover-fill-color: #FFFFFF;\n",
              "      --disabled-bg-color: #3B4455;\n",
              "      --disabled-fill-color: #666;\n",
              "  }\n",
              "\n",
              "  .colab-df-quickchart {\n",
              "    background-color: var(--bg-color);\n",
              "    border: none;\n",
              "    border-radius: 50%;\n",
              "    cursor: pointer;\n",
              "    display: none;\n",
              "    fill: var(--fill-color);\n",
              "    height: 32px;\n",
              "    padding: 0;\n",
              "    width: 32px;\n",
              "  }\n",
              "\n",
              "  .colab-df-quickchart:hover {\n",
              "    background-color: var(--hover-bg-color);\n",
              "    box-shadow: 0 1px 2px rgba(60, 64, 67, 0.3), 0 1px 3px 1px rgba(60, 64, 67, 0.15);\n",
              "    fill: var(--button-hover-fill-color);\n",
              "  }\n",
              "\n",
              "  .colab-df-quickchart-complete:disabled,\n",
              "  .colab-df-quickchart-complete:disabled:hover {\n",
              "    background-color: var(--disabled-bg-color);\n",
              "    fill: var(--disabled-fill-color);\n",
              "    box-shadow: none;\n",
              "  }\n",
              "\n",
              "  .colab-df-spinner {\n",
              "    border: 2px solid var(--fill-color);\n",
              "    border-color: transparent;\n",
              "    border-bottom-color: var(--fill-color);\n",
              "    animation:\n",
              "      spin 1s steps(1) infinite;\n",
              "  }\n",
              "\n",
              "  @keyframes spin {\n",
              "    0% {\n",
              "      border-color: transparent;\n",
              "      border-bottom-color: var(--fill-color);\n",
              "      border-left-color: var(--fill-color);\n",
              "    }\n",
              "    20% {\n",
              "      border-color: transparent;\n",
              "      border-left-color: var(--fill-color);\n",
              "      border-top-color: var(--fill-color);\n",
              "    }\n",
              "    30% {\n",
              "      border-color: transparent;\n",
              "      border-left-color: var(--fill-color);\n",
              "      border-top-color: var(--fill-color);\n",
              "      border-right-color: var(--fill-color);\n",
              "    }\n",
              "    40% {\n",
              "      border-color: transparent;\n",
              "      border-right-color: var(--fill-color);\n",
              "      border-top-color: var(--fill-color);\n",
              "    }\n",
              "    60% {\n",
              "      border-color: transparent;\n",
              "      border-right-color: var(--fill-color);\n",
              "    }\n",
              "    80% {\n",
              "      border-color: transparent;\n",
              "      border-right-color: var(--fill-color);\n",
              "      border-bottom-color: var(--fill-color);\n",
              "    }\n",
              "    90% {\n",
              "      border-color: transparent;\n",
              "      border-bottom-color: var(--fill-color);\n",
              "    }\n",
              "  }\n",
              "</style>\n",
              "\n",
              "  <script>\n",
              "    async function quickchart(key) {\n",
              "      const quickchartButtonEl =\n",
              "        document.querySelector('#' + key + ' button');\n",
              "      quickchartButtonEl.disabled = true;  // To prevent multiple clicks.\n",
              "      quickchartButtonEl.classList.add('colab-df-spinner');\n",
              "      try {\n",
              "        const charts = await google.colab.kernel.invokeFunction(\n",
              "            'suggestCharts', [key], {});\n",
              "      } catch (error) {\n",
              "        console.error('Error during call to suggestCharts:', error);\n",
              "      }\n",
              "      quickchartButtonEl.classList.remove('colab-df-spinner');\n",
              "      quickchartButtonEl.classList.add('colab-df-quickchart-complete');\n",
              "    }\n",
              "    (() => {\n",
              "      let quickchartButtonEl =\n",
              "        document.querySelector('#df-fc679994-6aa2-468d-a530-5dce9c15f11e button');\n",
              "      quickchartButtonEl.style.display =\n",
              "        google.colab.kernel.accessAllowed ? 'block' : 'none';\n",
              "    })();\n",
              "  </script>\n",
              "</div>\n",
              "\n",
              "    </div>\n",
              "  </div>\n"
            ]
          },
          "metadata": {},
          "execution_count": 19
        }
      ]
    },
    {
      "cell_type": "markdown",
      "source": [
        "Agora que temos os dados no formato necessário, podemos continuar. Portanto, vamos importar a biblioteca necessária para implementar o teste."
      ],
      "metadata": {
        "id": "rpKdr_YkOyQv"
      }
    },
    {
      "cell_type": "code",
      "source": [
        "# Biblioteca para o teste tukey\n",
        "from statsmodels.stats.multicomp import MultiComparison"
      ],
      "metadata": {
        "id": "WC5zqwPIPCvs"
      },
      "execution_count": null,
      "outputs": []
    },
    {
      "cell_type": "markdown",
      "source": [
        "Agora que todas as importações necessárias foram realizadas, podemos aplicar a função nos dados."
      ],
      "metadata": {
        "id": "XoDzKBx2PSe6"
      }
    },
    {
      "cell_type": "markdown",
      "source": [
        "Essa função realiza um teste de comparações múltiplas, que é usado para comparar as médias de dois ou mais grupos.\n",
        "\n",
        "Os parâmetros da função são os valores a serem comparados e os grupos a que pertencem."
      ],
      "metadata": {
        "id": "CqCyFxTnPhGR"
      }
    },
    {
      "cell_type": "code",
      "source": [
        "# Aplicando a função\n",
        "compara_grupos = MultiComparison(dados_pd['valores'], dados_pd['grupo'])"
      ],
      "metadata": {
        "id": "ABV3gxrNPWlC"
      },
      "execution_count": null,
      "outputs": []
    },
    {
      "cell_type": "markdown",
      "source": [
        "Agora que os valores foram selecionados e testados, vamos aplicar o teste no objeto que criamos anteriormente."
      ],
      "metadata": {
        "id": "U5fMYeVFP5gG"
      }
    },
    {
      "cell_type": "code",
      "source": [
        "# Aplicando o teste nos grupos\n",
        "teste = compara_grupos.tukeyhsd()\n",
        "\n",
        "# Exibindo o resultado\n",
        "print(teste)"
      ],
      "metadata": {
        "colab": {
          "base_uri": "https://localhost:8080/"
        },
        "id": "bqj8FEJbP5nF",
        "outputId": "51dfb14b-39e5-425e-8f96-cd90489aa3eb"
      },
      "execution_count": null,
      "outputs": [
        {
          "output_type": "stream",
          "name": "stdout",
          "text": [
            " Multiple Comparison of Means - Tukey HSD, FWER=0.05 \n",
            "=====================================================\n",
            "group1 group2 meandiff p-adj   lower    upper  reject\n",
            "-----------------------------------------------------\n",
            "     A      B      1.0 0.9891 -17.9023 19.9023  False\n",
            "     A      C      5.0 0.7648 -13.9023 23.9023  False\n",
            "     B      C      4.0 0.8411 -14.9023 22.9023  False\n",
            "-----------------------------------------------------\n"
          ]
        }
      ]
    },
    {
      "cell_type": "markdown",
      "source": [
        "Podemos observa que temos como saida em um formato tabular contendo os seguintes dados:\n",
        "\n",
        "- O nome dos grupos que estão sendo comparados.\n",
        "- O valor da diferença entre as médias dos grupos.\n",
        "- O valor p do teste.\n",
        "- O intervalo de confiança de 95% para a diferença entre as médias dos grupos."
      ],
      "metadata": {
        "id": "siJeREWeQcvB"
      }
    },
    {
      "cell_type": "markdown",
      "source": [
        "Assim, podemos concluir que as médias não estão tão distantes uma da outra, pois em ambos os grupos obtivemos a rejeição da hipótese alternativa. Vamos observar graficamente para confirmar."
      ],
      "metadata": {
        "id": "GTqna4hmQ-Fc"
      }
    },
    {
      "cell_type": "code",
      "source": [
        "# Criando o gráfico\n",
        "teste.plot_simultaneous().figsize=(5, 5);"
      ],
      "metadata": {
        "colab": {
          "base_uri": "https://localhost:8080/",
          "height": 545
        },
        "id": "Fu7cIYxSRSgz",
        "outputId": "dae80786-af00-428b-ea02-9f35b8180553"
      },
      "execution_count": null,
      "outputs": [
        {
          "output_type": "display_data",
          "data": {
            "text/plain": [
              "<Figure size 1000x600 with 1 Axes>"
            ],
            "image/png": "[encoded data removed]"
          },
          "metadata": {}
        }
      ]
    },
    {
      "cell_type": "markdown",
      "source": [
        "Com esse gráfico, podemos confirmar visualmente que as médias não se diferenciam tanto assim."
      ],
      "metadata": {
        "id": "_lDCjZ-qRV4a"
      }
    },
    {
      "cell_type": "markdown",
      "source": [
        "# **Seleção de atributos ANOVA**"
      ],
      "metadata": {
        "id": "RMpH4PMxV-kG"
      }
    },
    {
      "cell_type": "markdown",
      "source": [
        "Já vimos anteriormente a importância da seleção de atributos. No exemplo anterior, utilizamos a seleção com o qui quadrado. Desta vez, vamos utilizar o teste ANOVA. Para isso, vamos realizar as importações necessárias."
      ],
      "metadata": {
        "id": "uPM2mIwRWR7V"
      }
    },
    {
      "cell_type": "code",
      "source": [
        "# Realizando a importação\n",
        "from sklearn.feature_selection import SelectFdr, f_classif"
      ],
      "metadata": {
        "id": "sp7sGa-sWexa"
      },
      "execution_count": null,
      "outputs": []
    },
    {
      "cell_type": "markdown",
      "source": [
        "Criamos um objeto SelectFdr, um estimador de parâmetro que seleciona variáveis por ajuste de falso descarte. Passamos como parâmetro o teste ANOVA e o valor alpha."
      ],
      "metadata": {
        "id": "45i28UlIWn4B"
      }
    },
    {
      "cell_type": "code",
      "source": [
        "# Criando o objeto\n",
        "selecao = SelectFdr(f_classif, alpha = 0.01)"
      ],
      "metadata": {
        "id": "RVk0clw8WneL"
      },
      "execution_count": null,
      "outputs": []
    },
    {
      "cell_type": "markdown",
      "source": [
        "O método fit_transform() usa o teste ANOVA para selecionar as variáveis mais significativas para o modelo.\n",
        "\n",
        "Os argumentos são os dados de treinamento X e as respostas y."
      ],
      "metadata": {
        "id": "vWxoEzcAW0-Q"
      }
    },
    {
      "cell_type": "code",
      "source": [
        "# Selecionando as variáveis\n",
        "X_novo_2 = selecao.fit_transform(X, y)"
      ],
      "metadata": {
        "id": "mdN_zk_IWy8o"
      },
      "execution_count": null,
      "outputs": []
    },
    {
      "cell_type": "markdown",
      "source": [
        "Agora, podemos criar o modelo com esses novos dados."
      ],
      "metadata": {
        "id": "wjvnbD0tXGYu"
      }
    },
    {
      "cell_type": "markdown",
      "source": [
        "*Criando o modelo e treinando-o*"
      ],
      "metadata": {
        "id": "Dp8z-MarXMT_"
      }
    },
    {
      "cell_type": "code",
      "source": [
        "# Criando o modelo\n",
        "naive3 = GaussianNB()\n",
        "\n",
        "# Treinando o modelo\n",
        "naive3.fit(X_novo_2, y)"
      ],
      "metadata": {
        "colab": {
          "base_uri": "https://localhost:8080/",
          "height": 75
        },
        "id": "b7hRgUkGXGiO",
        "outputId": "2b2c8ac5-fb96-49bb-d494-6f90fe840b98"
      },
      "execution_count": null,
      "outputs": [
        {
          "output_type": "execute_result",
          "data": {
            "text/plain": [
              "GaussianNB()"
            ],
            "text/html": [
              "<style>#sk-container-id-3 {color: black;background-color: white;}#sk-container-id-3 pre{padding: 0;}#sk-container-id-3 div.sk-toggleable {background-color: white;}#sk-container-id-3 label.sk-toggleable__label {cursor: pointer;display: block;width: 100%;margin-bottom: 0;padding: 0.3em;box-sizing: border-box;text-align: center;}#sk-container-id-3 label.sk-toggleable__label-arrow:before {content: \"▸\";float: left;margin-right: 0.25em;color: #696969;}#sk-container-id-3 label.sk-toggleable__label-arrow:hover:before {color: black;}#sk-container-id-3 div.sk-estimator:hover label.sk-toggleable__label-arrow:before {color: black;}#sk-container-id-3 div.sk-toggleable__content {max-height: 0;max-width: 0;overflow: hidden;text-align: left;background-color: #f0f8ff;}#sk-container-id-3 div.sk-toggleable__content pre {margin: 0.2em;color: black;border-radius: 0.25em;background-color: #f0f8ff;}#sk-container-id-3 input.sk-toggleable__control:checked~div.sk-toggleable__content {max-height: 200px;max-width: 100%;overflow: auto;}#sk-container-id-3 input.sk-toggleable__control:checked~label.sk-toggleable__label-arrow:before {content: \"▾\";}#sk-container-id-3 div.sk-estimator input.sk-toggleable__control:checked~label.sk-toggleable__label {background-color: #d4ebff;}#sk-container-id-3 div.sk-label input.sk-toggleable__control:checked~label.sk-toggleable__label {background-color: #d4ebff;}#sk-container-id-3 input.sk-hidden--visually {border: 0;clip: rect(1px 1px 1px 1px);clip: rect(1px, 1px, 1px, 1px);height: 1px;margin: -1px;overflow: hidden;padding: 0;position: absolute;width: 1px;}#sk-container-id-3 div.sk-estimator {font-family: monospace;background-color: #f0f8ff;border: 1px dotted black;border-radius: 0.25em;box-sizing: border-box;margin-bottom: 0.5em;}#sk-container-id-3 div.sk-estimator:hover {background-color: #d4ebff;}#sk-container-id-3 div.sk-parallel-item::after {content: \"\";width: 100%;border-bottom: 1px solid gray;flex-grow: 1;}#sk-container-id-3 div.sk-label:hover label.sk-toggleable__label {background-color: #d4ebff;}#sk-container-id-3 div.sk-serial::before {content: \"\";position: absolute;border-left: 1px solid gray;box-sizing: border-box;top: 0;bottom: 0;left: 50%;z-index: 0;}#sk-container-id-3 div.sk-serial {display: flex;flex-direction: column;align-items: center;background-color: white;padding-right: 0.2em;padding-left: 0.2em;position: relative;}#sk-container-id-3 div.sk-item {position: relative;z-index: 1;}#sk-container-id-3 div.sk-parallel {display: flex;align-items: stretch;justify-content: center;background-color: white;position: relative;}#sk-container-id-3 div.sk-item::before, #sk-container-id-3 div.sk-parallel-item::before {content: \"\";position: absolute;border-left: 1px solid gray;box-sizing: border-box;top: 0;bottom: 0;left: 50%;z-index: -1;}#sk-container-id-3 div.sk-parallel-item {display: flex;flex-direction: column;z-index: 1;position: relative;background-color: white;}#sk-container-id-3 div.sk-parallel-item:first-child::after {align-self: flex-end;width: 50%;}#sk-container-id-3 div.sk-parallel-item:last-child::after {align-self: flex-start;width: 50%;}#sk-container-id-3 div.sk-parallel-item:only-child::after {width: 0;}#sk-container-id-3 div.sk-dashed-wrapped {border: 1px dashed gray;margin: 0 0.4em 0.5em 0.4em;box-sizing: border-box;padding-bottom: 0.4em;background-color: white;}#sk-container-id-3 div.sk-label label {font-family: monospace;font-weight: bold;display: inline-block;line-height: 1.2em;}#sk-container-id-3 div.sk-label-container {text-align: center;}#sk-container-id-3 div.sk-container {/* jupyter's `normalize.less` sets `[hidden] { display: none; }` but bootstrap.min.css set `[hidden] { display: none !important; }` so we also need the `!important` here to be able to override the default hidden behavior on the sphinx rendered scikit-learn.org. See: https://github.com/scikit-learn/scikit-learn/issues/21755 */display: inline-block !important;position: relative;}#sk-container-id-3 div.sk-text-repr-fallback {display: none;}</style><div id=\"sk-container-id-3\" class=\"sk-top-container\"><div class=\"sk-text-repr-fallback\"><pre>GaussianNB()</pre><b>In a Jupyter environment, please rerun this cell to show the HTML representation or trust the notebook. <br />On GitHub, the HTML representation is unable to render, please try loading this page with nbviewer.org.</b></div><div class=\"sk-container\" hidden><div class=\"sk-item\"><div class=\"sk-estimator sk-toggleable\"><input class=\"sk-toggleable__control sk-hidden--visually\" id=\"sk-estimator-id-3\" type=\"checkbox\" checked><label for=\"sk-estimator-id-3\" class=\"sk-toggleable__label sk-toggleable__label-arrow\">GaussianNB</label><div class=\"sk-toggleable__content\"><pre>GaussianNB()</pre></div></div></div></div></div>"
            ]
          },
          "metadata": {},
          "execution_count": 32
        }
      ]
    },
    {
      "cell_type": "markdown",
      "source": [
        "*Realizando predições e medindo sua acurácia*"
      ],
      "metadata": {
        "id": "rdT47bYDXN61"
      }
    },
    {
      "cell_type": "code",
      "source": [
        "# Realizando as predições\n",
        "previsoes3 = naive2.predict(X_novo_2)\n",
        "\n",
        "# Medindo a acurácia\n",
        "accuracy_score(y, previsoes3)"
      ],
      "metadata": {
        "colab": {
          "base_uri": "https://localhost:8080/"
        },
        "id": "vlzVKB1qXODk",
        "outputId": "4852c8e4-add8-41ef-8f97-34d7a2291d2e"
      },
      "execution_count": null,
      "outputs": [
        {
          "output_type": "execute_result",
          "data": {
            "text/plain": [
              "0.970722781335773"
            ]
          },
          "metadata": {},
          "execution_count": 33
        }
      ]
    },
    {
      "cell_type": "markdown",
      "source": [
        "A acurácia obtida foi semelhante para os dois modelos, ambos superiores ao modelo sem seleção. Isso reforça a importância da técnica de seleção de atributos em diferentes situações."
      ],
      "metadata": {
        "id": "STxZnhBBXUgF"
      }
    },
    {
      "cell_type": "markdown",
      "source": [
        "# **Teste de hipoteses de normalidade**"
      ],
      "metadata": {
        "id": "CzOeC6KIwRWe"
      }
    },
    {
      "cell_type": "markdown",
      "source": [
        "Vamos realizar testes para verificar se os resultados de um algoritmo de machine learning seguem uma distribuição normal. Em seguida, aplicaremos testes de hipóteses nesses dados para observar se há grandes diferenças na hora de escolher o melhor modelo."
      ],
      "metadata": {
        "id": "PyYjm-d_wVnc"
      }
    },
    {
      "cell_type": "markdown",
      "source": [
        "Para isso, será necessário realizar algumas importações e utilizaremos uma base de dados que já foi utilizada anteriormente. Dessa forma, irei realizar os tratamentos de maneira um pouco mais rápida, para que possamos focar no que realmente queremos observar com esses dados."
      ],
      "metadata": {
        "id": "0VCsI94zw89S"
      }
    },
    {
      "cell_type": "markdown",
      "source": [
        "## **Importando as bibliotecas necessárias**"
      ],
      "metadata": {
        "id": "i0L6nOPv0GWP"
      }
    },
    {
      "cell_type": "code",
      "source": [
        "# Manipulação de dados\n",
        "import pandas as pd\n",
        "\n",
        "# Algébra linear\n",
        "import numpy as np\n",
        "\n",
        "# Funções estatísticas\n",
        "import statistics\n",
        "\n",
        "# Visualização de dados\n",
        "import matplotlib.pyplot as plt\n",
        "import seaborn as sns\n",
        "\n",
        "# Modelos de Machine Learning\n",
        "from sklearn.naive_bayes import GaussianNB\n",
        "from sklearn.linear_model import LogisticRegression\n",
        "from sklearn.ensemble import RandomForestClassifier\n",
        "\n",
        "# Avaliação de modelo\n",
        "from sklearn.metrics import accuracy_score\n",
        "\n",
        "# Importando a validação cruzada\n",
        "from sklearn.model_selection import cross_val_score, KFold"
      ],
      "metadata": {
        "id": "1tT9YWVI0KJp"
      },
      "execution_count": 1,
      "outputs": []
    },
    {
      "cell_type": "markdown",
      "source": [
        "## **Importando os dados**"
      ],
      "metadata": {
        "id": "bb5UPEQC0yON"
      }
    },
    {
      "cell_type": "code",
      "source": [
        "# Acesso ao drive\n",
        "from google.colab import drive\n",
        "drive.mount('/content/drive')"
      ],
      "metadata": {
        "colab": {
          "base_uri": "https://localhost:8080/"
        },
        "id": "xzjFQUBh00OM",
        "outputId": "e592d533-3853-489b-b3e1-6f9252892990"
      },
      "execution_count": 2,
      "outputs": [
        {
          "output_type": "stream",
          "name": "stdout",
          "text": [
            "Mounted at /content/drive\n"
          ]
        }
      ]
    },
    {
      "cell_type": "code",
      "source": [
        "# Importando o dataset\n",
        "df = pd.read_csv('/content/drive/MyDrive/Estatística para ciência de dados/credit_data.csv')"
      ],
      "metadata": {
        "id": "MjfErKH702hs"
      },
      "execution_count": 3,
      "outputs": []
    },
    {
      "cell_type": "code",
      "source": [
        "# Observando os registros\n",
        "df.head()"
      ],
      "metadata": {
        "colab": {
          "base_uri": "https://localhost:8080/",
          "height": 0
        },
        "id": "HIAmFwgr2NRa",
        "outputId": "b2c01806-8ab2-4a6a-8863-6278c516d5fe"
      },
      "execution_count": 4,
      "outputs": [
        {
          "output_type": "execute_result",
          "data": {
            "text/plain": [
              "   i#clientid        income        age         loan  c#default\n",
              "0           1  66155.925095  59.017015  8106.532131          0\n",
              "1           2  34415.153966  48.117153  6564.745018          0\n",
              "2           3  57317.170063  63.108049  8020.953296          0\n",
              "3           4  42709.534201  45.751972  6103.642260          0\n",
              "4           5  66952.688845  18.584336  8770.099235          1"
            ],
            "text/html": [
              "\n",
              "  <div id=\"df-a13159fa-a928-47f0-a6ef-0da31ac5ec08\" class=\"colab-df-container\">\n",
              "    <div>\n",
              "<style scoped>\n",
              "    .dataframe tbody tr th:only-of-type {\n",
              "        vertical-align: middle;\n",
              "    }\n",
              "\n",
              "    .dataframe tbody tr th {\n",
              "        vertical-align: top;\n",
              "    }\n",
              "\n",
              "    .dataframe thead th {\n",
              "        text-align: right;\n",
              "    }\n",
              "</style>\n",
              "<table border=\"1\" class=\"dataframe\">\n",
              "  <thead>\n",
              "    <tr style=\"text-align: right;\">\n",
              "      <th></th>\n",
              "      <th>i#clientid</th>\n",
              "      <th>income</th>\n",
              "      <th>age</th>\n",
              "      <th>loan</th>\n",
              "      <th>c#default</th>\n",
              "    </tr>\n",
              "  </thead>\n",
              "  <tbody>\n",
              "    <tr>\n",
              "      <th>0</th>\n",
              "      <td>1</td>\n",
              "      <td>66155.925095</td>\n",
              "      <td>59.017015</td>\n",
              "      <td>8106.532131</td>\n",
              "      <td>0</td>\n",
              "    </tr>\n",
              "    <tr>\n",
              "      <th>1</th>\n",
              "      <td>2</td>\n",
              "      <td>34415.153966</td>\n",
              "      <td>48.117153</td>\n",
              "      <td>6564.745018</td>\n",
              "      <td>0</td>\n",
              "    </tr>\n",
              "    <tr>\n",
              "      <th>2</th>\n",
              "      <td>3</td>\n",
              "      <td>57317.170063</td>\n",
              "      <td>63.108049</td>\n",
              "      <td>8020.953296</td>\n",
              "      <td>0</td>\n",
              "    </tr>\n",
              "    <tr>\n",
              "      <th>3</th>\n",
              "      <td>4</td>\n",
              "      <td>42709.534201</td>\n",
              "      <td>45.751972</td>\n",
              "      <td>6103.642260</td>\n",
              "      <td>0</td>\n",
              "    </tr>\n",
              "    <tr>\n",
              "      <th>4</th>\n",
              "      <td>5</td>\n",
              "      <td>66952.688845</td>\n",
              "      <td>18.584336</td>\n",
              "      <td>8770.099235</td>\n",
              "      <td>1</td>\n",
              "    </tr>\n",
              "  </tbody>\n",
              "</table>\n",
              "</div>\n",
              "    <div class=\"colab-df-buttons\">\n",
              "\n",
              "  <div class=\"colab-df-container\">\n",
              "    <button class=\"colab-df-convert\" onclick=\"convertToInteractive('df-a13159fa-a928-47f0-a6ef-0da31ac5ec08')\"\n",
              "            title=\"Convert this dataframe to an interactive table.\"\n",
              "            style=\"display:none;\">\n",
              "\n",
              "  <svg xmlns=\"http://www.w3.org/2000/svg\" height=\"24px\" viewBox=\"0 -960 960 960\">\n",
              "    <path d=\"M120-120v-720h720v720H120Zm60-500h600v-160H180v160Zm220 220h160v-160H400v160Zm0 220h160v-160H400v160ZM180-400h160v-160H180v160Zm440 0h160v-160H620v160ZM180-180h160v-160H180v160Zm440 0h160v-160H620v160Z\"/>\n",
              "  </svg>\n",
              "    </button>\n",
              "\n",
              "  <style>\n",
              "    .colab-df-container {\n",
              "      display:flex;\n",
              "      gap: 12px;\n",
              "    }\n",
              "\n",
              "    .colab-df-convert {\n",
              "      background-color: #E8F0FE;\n",
              "      border: none;\n",
              "      border-radius: 50%;\n",
              "      cursor: pointer;\n",
              "      display: none;\n",
              "      fill: #1967D2;\n",
              "      height: 32px;\n",
              "      padding: 0 0 0 0;\n",
              "      width: 32px;\n",
              "    }\n",
              "\n",
              "    .colab-df-convert:hover {\n",
              "      background-color: #E2EBFA;\n",
              "      box-shadow: 0px 1px 2px rgba(60, 64, 67, 0.3), 0px 1px 3px 1px rgba(60, 64, 67, 0.15);\n",
              "      fill: #174EA6;\n",
              "    }\n",
              "\n",
              "    .colab-df-buttons div {\n",
              "      margin-bottom: 4px;\n",
              "    }\n",
              "\n",
              "    [theme=dark] .colab-df-convert {\n",
              "      background-color: #3B4455;\n",
              "      fill: #D2E3FC;\n",
              "    }\n",
              "\n",
              "    [theme=dark] .colab-df-convert:hover {\n",
              "      background-color: #434B5C;\n",
              "      box-shadow: 0px 1px 3px 1px rgba(0, 0, 0, 0.15);\n",
              "      filter: drop-shadow(0px 1px 2px rgba(0, 0, 0, 0.3));\n",
              "      fill: #FFFFFF;\n",
              "    }\n",
              "  </style>\n",
              "\n",
              "    <script>\n",
              "      const buttonEl =\n",
              "        document.querySelector('#df-a13159fa-a928-47f0-a6ef-0da31ac5ec08 button.colab-df-convert');\n",
              "      buttonEl.style.display =\n",
              "        google.colab.kernel.accessAllowed ? 'block' : 'none';\n",
              "\n",
              "      async function convertToInteractive(key) {\n",
              "        const element = document.querySelector('#df-a13159fa-a928-47f0-a6ef-0da31ac5ec08');\n",
              "        const dataTable =\n",
              "          await google.colab.kernel.invokeFunction('convertToInteractive',\n",
              "                                                    [key], {});\n",
              "        if (!dataTable) return;\n",
              "\n",
              "        const docLinkHtml = 'Like what you see? Visit the ' +\n",
              "          '<a target=\"_blank\" href=https://colab.research.google.com/notebooks/data_table.ipynb>data table notebook</a>'\n",
              "          + ' to learn more about interactive tables.';\n",
              "        element.innerHTML = '';\n",
              "        dataTable['output_type'] = 'display_data';\n",
              "        await google.colab.output.renderOutput(dataTable, element);\n",
              "        const docLink = document.createElement('div');\n",
              "        docLink.innerHTML = docLinkHtml;\n",
              "        element.appendChild(docLink);\n",
              "      }\n",
              "    </script>\n",
              "  </div>\n",
              "\n",
              "\n",
              "<div id=\"df-3d573d7d-1d26-4650-b447-3a81f6642de7\">\n",
              "  <button class=\"colab-df-quickchart\" onclick=\"quickchart('df-3d573d7d-1d26-4650-b447-3a81f6642de7')\"\n",
              "            title=\"Suggest charts\"\n",
              "            style=\"display:none;\">\n",
              "\n",
              "<svg xmlns=\"http://www.w3.org/2000/svg\" height=\"24px\"viewBox=\"0 0 24 24\"\n",
              "     width=\"24px\">\n",
              "    <g>\n",
              "        <path d=\"M19 3H5c-1.1 0-2 .9-2 2v14c0 1.1.9 2 2 2h14c1.1 0 2-.9 2-2V5c0-1.1-.9-2-2-2zM9 17H7v-7h2v7zm4 0h-2V7h2v10zm4 0h-2v-4h2v4z\"/>\n",
              "    </g>\n",
              "</svg>\n",
              "  </button>\n",
              "\n",
              "<style>\n",
              "  .colab-df-quickchart {\n",
              "      --bg-color: #E8F0FE;\n",
              "      --fill-color: #1967D2;\n",
              "      --hover-bg-color: #E2EBFA;\n",
              "      --hover-fill-color: #174EA6;\n",
              "      --disabled-fill-color: #AAA;\n",
              "      --disabled-bg-color: #DDD;\n",
              "  }\n",
              "\n",
              "  [theme=dark] .colab-df-quickchart {\n",
              "      --bg-color: #3B4455;\n",
              "      --fill-color: #D2E3FC;\n",
              "      --hover-bg-color: #434B5C;\n",
              "      --hover-fill-color: #FFFFFF;\n",
              "      --disabled-bg-color: #3B4455;\n",
              "      --disabled-fill-color: #666;\n",
              "  }\n",
              "\n",
              "  .colab-df-quickchart {\n",
              "    background-color: var(--bg-color);\n",
              "    border: none;\n",
              "    border-radius: 50%;\n",
              "    cursor: pointer;\n",
              "    display: none;\n",
              "    fill: var(--fill-color);\n",
              "    height: 32px;\n",
              "    padding: 0;\n",
              "    width: 32px;\n",
              "  }\n",
              "\n",
              "  .colab-df-quickchart:hover {\n",
              "    background-color: var(--hover-bg-color);\n",
              "    box-shadow: 0 1px 2px rgba(60, 64, 67, 0.3), 0 1px 3px 1px rgba(60, 64, 67, 0.15);\n",
              "    fill: var(--button-hover-fill-color);\n",
              "  }\n",
              "\n",
              "  .colab-df-quickchart-complete:disabled,\n",
              "  .colab-df-quickchart-complete:disabled:hover {\n",
              "    background-color: var(--disabled-bg-color);\n",
              "    fill: var(--disabled-fill-color);\n",
              "    box-shadow: none;\n",
              "  }\n",
              "\n",
              "  .colab-df-spinner {\n",
              "    border: 2px solid var(--fill-color);\n",
              "    border-color: transparent;\n",
              "    border-bottom-color: var(--fill-color);\n",
              "    animation:\n",
              "      spin 1s steps(1) infinite;\n",
              "  }\n",
              "\n",
              "  @keyframes spin {\n",
              "    0% {\n",
              "      border-color: transparent;\n",
              "      border-bottom-color: var(--fill-color);\n",
              "      border-left-color: var(--fill-color);\n",
              "    }\n",
              "    20% {\n",
              "      border-color: transparent;\n",
              "      border-left-color: var(--fill-color);\n",
              "      border-top-color: var(--fill-color);\n",
              "    }\n",
              "    30% {\n",
              "      border-color: transparent;\n",
              "      border-left-color: var(--fill-color);\n",
              "      border-top-color: var(--fill-color);\n",
              "      border-right-color: var(--fill-color);\n",
              "    }\n",
              "    40% {\n",
              "      border-color: transparent;\n",
              "      border-right-color: var(--fill-color);\n",
              "      border-top-color: var(--fill-color);\n",
              "    }\n",
              "    60% {\n",
              "      border-color: transparent;\n",
              "      border-right-color: var(--fill-color);\n",
              "    }\n",
              "    80% {\n",
              "      border-color: transparent;\n",
              "      border-right-color: var(--fill-color);\n",
              "      border-bottom-color: var(--fill-color);\n",
              "    }\n",
              "    90% {\n",
              "      border-color: transparent;\n",
              "      border-bottom-color: var(--fill-color);\n",
              "    }\n",
              "  }\n",
              "</style>\n",
              "\n",
              "  <script>\n",
              "    async function quickchart(key) {\n",
              "      const quickchartButtonEl =\n",
              "        document.querySelector('#' + key + ' button');\n",
              "      quickchartButtonEl.disabled = true;  // To prevent multiple clicks.\n",
              "      quickchartButtonEl.classList.add('colab-df-spinner');\n",
              "      try {\n",
              "        const charts = await google.colab.kernel.invokeFunction(\n",
              "            'suggestCharts', [key], {});\n",
              "      } catch (error) {\n",
              "        console.error('Error during call to suggestCharts:', error);\n",
              "      }\n",
              "      quickchartButtonEl.classList.remove('colab-df-spinner');\n",
              "      quickchartButtonEl.classList.add('colab-df-quickchart-complete');\n",
              "    }\n",
              "    (() => {\n",
              "      let quickchartButtonEl =\n",
              "        document.querySelector('#df-3d573d7d-1d26-4650-b447-3a81f6642de7 button');\n",
              "      quickchartButtonEl.style.display =\n",
              "        google.colab.kernel.accessAllowed ? 'block' : 'none';\n",
              "    })();\n",
              "  </script>\n",
              "</div>\n",
              "\n",
              "    </div>\n",
              "  </div>\n"
            ]
          },
          "metadata": {},
          "execution_count": 4
        }
      ]
    },
    {
      "cell_type": "markdown",
      "source": [
        "## **Pré-Processamento**"
      ],
      "metadata": {
        "id": "vVgsizB016JM"
      }
    },
    {
      "cell_type": "markdown",
      "source": [
        "Essa parte consiste em 3 etapas:\n",
        "\n",
        "- Eliminar valores ausentes\n",
        "- Separar os dados\n",
        "- Ajustar a escala dos dados"
      ],
      "metadata": {
        "id": "lFczQOyC192j"
      }
    },
    {
      "cell_type": "markdown",
      "source": [
        "Eliminando os valores ausentes"
      ],
      "metadata": {
        "id": "xUjM8oPO2Ifz"
      }
    },
    {
      "cell_type": "code",
      "source": [
        "# Excluindo valores vazios\n",
        "df = df.dropna()"
      ],
      "metadata": {
        "id": "sZQPHYRA17kz"
      },
      "execution_count": 5,
      "outputs": []
    },
    {
      "cell_type": "markdown",
      "source": [
        "Separando os dados"
      ],
      "metadata": {
        "id": "xmP-bKO8055k"
      }
    },
    {
      "cell_type": "code",
      "source": [
        "# Separando os dados em X e Y\n",
        "\n",
        "# Variaveis preditoras\n",
        "X = df.drop('c#default', axis = 1)\n",
        "\n",
        "# Variavel resposta\n",
        "y = df['c#default']"
      ],
      "metadata": {
        "id": "2NOJQQt306Dd"
      },
      "execution_count": 6,
      "outputs": []
    },
    {
      "cell_type": "markdown",
      "source": [
        "Ajustando a escala dos dados"
      ],
      "metadata": {
        "id": "JHVfVHEt2KRC"
      }
    },
    {
      "cell_type": "code",
      "source": [
        "# Importando biblioteca para padronização\n",
        "from sklearn.preprocessing import StandardScaler\n",
        "\n",
        "# Criando o objeto da padronização\n",
        "sc = StandardScaler()\n",
        "\n",
        "# Aplicando a padronização nos dados\n",
        "X = sc.fit_transform(X)"
      ],
      "metadata": {
        "id": "U5FIhY8G04nE"
      },
      "execution_count": 7,
      "outputs": []
    },
    {
      "cell_type": "markdown",
      "source": [
        "## **Machine Learning**"
      ],
      "metadata": {
        "id": "hEdRcrlX1Gei"
      }
    },
    {
      "cell_type": "code",
      "source": [
        "# Criando a lista para armazenar os resultado do Naive Bayes recebendo o Kfold\n",
        "resultados_naive_bayes = []\n",
        "\n",
        "# Criando a lista para armazenar os resultado da Logistic Regression\n",
        "resultados_logistica = []\n",
        "\n",
        "# Criando a lista para armazenar os resultado do Random Forest\n",
        "resultados_forest = []"
      ],
      "metadata": {
        "id": "rXstd2sR1YT4"
      },
      "execution_count": 8,
      "outputs": []
    },
    {
      "cell_type": "markdown",
      "source": [
        "Criando um laço de repetição para testar cada modelo 30 vezes, armazenando os resultados das predições em listas e obtendo suas métricas ao final."
      ],
      "metadata": {
        "id": "YIIO3h-n1fH5"
      }
    },
    {
      "cell_type": "code",
      "source": [
        "# Criando a lista para armazenar os resultado do Naive Bayes recebendo o Kfold\n",
        "resultados_naive_bayes = []\n",
        "\n",
        "# Criando a lista para armazenar os resultado da Logistic Regression\n",
        "resultados_logistica = []\n",
        "\n",
        "# Criando a lista para armazenar os resultado do Random Forest\n",
        "resultados_forest = []\n",
        "\n",
        "# Criando o laço\n",
        "for i in range(30):\n",
        "\n",
        " # Aplicando o KFold para fazer com que cada modelo seja testado 10 vezes enquanto o laço garante que isso rode 30 vezes\n",
        "  kfold = KFold(n_splits = 10, shuffle = True, random_state = i)\n",
        "\n",
        "  # Criando o modelo\n",
        "  naive_bayes = GaussianNB()\n",
        "\n",
        "  # Aplicando a validação cruzada\n",
        "  scores = cross_val_score(naive_bayes, X, y, cv = kfold)\n",
        "\n",
        "  # Armazenando os resultados na lista criada anteriormente\n",
        "  resultados_naive_bayes.append(scores.mean())\n",
        "\n",
        "  # Criando o modelo\n",
        "  logistica = LogisticRegression()\n",
        "\n",
        "  # Aplicando a validação cruzada\n",
        "  scores = cross_val_score(logistica, X, y, cv = kfold)\n",
        "\n",
        "  # Armazenando os resultados na lista criada anteriormente\n",
        "  resultados_logistica.append(scores.mean())\n",
        "\n",
        "  # Criando o modelo\n",
        "  random_forest = RandomForestClassifier()\n",
        "\n",
        "  # Aplicando a validação cruzada\n",
        "  scores = cross_val_score(random_forest, X, y, cv = kfold)\n",
        "\n",
        "  # Armazenando os resultados na lista criada anteriormente\n",
        "  resultados_forest.append(scores.mean())"
      ],
      "metadata": {
        "id": "mYrdD2I11fSX"
      },
      "execution_count": 9,
      "outputs": []
    },
    {
      "cell_type": "markdown",
      "source": [
        "Agora que já colocamos os modelos em funcionamento, vamos observar os resultados de cada um."
      ],
      "metadata": {
        "id": "AstfwemT3bVJ"
      }
    },
    {
      "cell_type": "code",
      "source": [
        "# Convertendo as listas em objetos do numpy\n",
        "resultados_naive_bayes_media = np.mean(resultados_naive_bayes)\n",
        "resultados_logistica_media = np.mean(resultados_logistica)\n",
        "resultados_forest_media = np.mean(resultados_forest)\n",
        "\n",
        "# Exibindo os resultados\n",
        "print(f\"Média de precisão 'Naive Bayes': {resultados_naive_bayes_media.round(3)}%\\nMédia de precisão 'Logistic Regression': {resultados_logistica_media.round(3)}%\\nMédia de precisão 'Random Forest': {resultados_forest_media.round(3)}%\" )"
      ],
      "metadata": {
        "colab": {
          "base_uri": "https://localhost:8080/"
        },
        "id": "Qs06Nx4G5GMs",
        "outputId": "6a08d5c1-c474-4d0f-83dd-3408fc3950e9"
      },
      "execution_count": 10,
      "outputs": [
        {
          "output_type": "stream",
          "name": "stdout",
          "text": [
            "Média de precisão 'Naive Bayes': 0.926%\n",
            "Média de precisão 'Logistic Regression': 0.946%\n",
            "Média de precisão 'Random Forest': 0.987%\n"
          ]
        }
      ]
    },
    {
      "cell_type": "markdown",
      "source": [
        "Agora que já temos os resultados de cada modelo, vamos observar se eles seguem ou não uma distribuição normal. Para isso, vamos aplicar o teste de Shapiro-Wilk."
      ],
      "metadata": {
        "id": "p4J5CHUH5aHz"
      }
    },
    {
      "cell_type": "markdown",
      "source": [
        "## **Teste de Shapiro-Wilk**"
      ],
      "metadata": {
        "id": "Q3oLV6zg8RwD"
      }
    },
    {
      "cell_type": "markdown",
      "source": [
        "Importando as bibliotecas necessárias"
      ],
      "metadata": {
        "id": "Y4ZyfBWi8YAK"
      }
    },
    {
      "cell_type": "code",
      "source": [
        "# Importando o modulo para executar o teste\n",
        "from scipy.stats import shapiro"
      ],
      "metadata": {
        "id": "ugEoBnF18YKD"
      },
      "execution_count": 11,
      "outputs": []
    },
    {
      "cell_type": "code",
      "source": [
        "# Armazando na variável p o resultado do teste\n",
        "_, p_naive = shapiro(resultados_naive_bayes)\n",
        "\n",
        "# Armazando na variável p o resultado do teste\n",
        "_, p_logistic = shapiro(resultados_logistica)\n",
        "\n",
        "# Armazando na variável p o resultado do teste\n",
        "_, p_forest = shapiro(resultados_forest)\n",
        "\n",
        "# Exibindo o valor de p\n",
        "print(f\"p Naive Bayes: {p_naive} \\np Logistic Regression {p_logistic} \\np Random Forest {p_forest}\")"
      ],
      "metadata": {
        "colab": {
          "base_uri": "https://localhost:8080/"
        },
        "id": "rNRBvbww8Zeq",
        "outputId": "395cbe6e-5a5a-447d-eaef-a1397363f70a"
      },
      "execution_count": 12,
      "outputs": [
        {
          "output_type": "stream",
          "name": "stdout",
          "text": [
            "p Naive Bayes: 0.13125701248645782 \n",
            "p Logistic Regression 0.2258385568857193 \n",
            "p Random Forest 0.5176020264625549\n"
          ]
        }
      ]
    },
    {
      "cell_type": "markdown",
      "source": [
        "Utilizamos um intervalo de confiança de 95%, então utilizaremos um alfa de 0,05 que representa 5%."
      ],
      "metadata": {
        "id": "4qReyxTa9mH5"
      }
    },
    {
      "cell_type": "code",
      "source": [
        "# Defindo o valor de alfa (deixamos 5% por padrão)\n",
        "alpha = 0.05"
      ],
      "metadata": {
        "id": "VRifnNw99-o1"
      },
      "execution_count": 13,
      "outputs": []
    },
    {
      "cell_type": "markdown",
      "source": [
        "*Testando o Naive Bayes*"
      ],
      "metadata": {
        "id": "Q2xVaqWh9uNA"
      }
    },
    {
      "cell_type": "code",
      "source": [
        "# Realizando a confirmação\n",
        "if p_naive > alpha:\n",
        "  print('Distribuição normal')\n",
        "else:\n",
        "  print('Distribuição não normal')"
      ],
      "metadata": {
        "colab": {
          "base_uri": "https://localhost:8080/"
        },
        "id": "RnTmcIxz9p9Y",
        "outputId": "a4835dc9-49d0-4459-e730-09c33f71e893"
      },
      "execution_count": 14,
      "outputs": [
        {
          "output_type": "stream",
          "name": "stdout",
          "text": [
            "Distribuição normal\n"
          ]
        }
      ]
    },
    {
      "cell_type": "markdown",
      "source": [
        "*Testando a Logistic Regression*"
      ],
      "metadata": {
        "id": "xymiqmEM9zVZ"
      }
    },
    {
      "cell_type": "code",
      "source": [
        "# Realizando a confirmação\n",
        "if p_logistic > alpha:\n",
        "  print('Distribuição normal')\n",
        "else:\n",
        "  print('Distribuição não normal')"
      ],
      "metadata": {
        "colab": {
          "base_uri": "https://localhost:8080/"
        },
        "id": "4pK4yi9z96NG",
        "outputId": "daaac4d4-5425-47c3-c64d-9da1153676a9"
      },
      "execution_count": 15,
      "outputs": [
        {
          "output_type": "stream",
          "name": "stdout",
          "text": [
            "Distribuição normal\n"
          ]
        }
      ]
    },
    {
      "cell_type": "markdown",
      "source": [
        "*Testando a Random Forest*"
      ],
      "metadata": {
        "id": "fPQHAVFv92yH"
      }
    },
    {
      "cell_type": "code",
      "source": [
        "# Realizando a confirmação\n",
        "if p_forest > alpha:\n",
        "  print('Distribuição normal')\n",
        "else:\n",
        "  print('Distribuição não normal')"
      ],
      "metadata": {
        "colab": {
          "base_uri": "https://localhost:8080/"
        },
        "id": "S_2ew7oA98KW",
        "outputId": "d8883ae8-faa1-463a-d511-a1638624e3cf"
      },
      "execution_count": 16,
      "outputs": [
        {
          "output_type": "stream",
          "name": "stdout",
          "text": [
            "Distribuição normal\n"
          ]
        }
      ]
    },
    {
      "cell_type": "markdown",
      "source": [
        "Ao realizar os 3 testes, podemos observar que todos seguem uma distribuição normal. Para observar de maneira mais gráfica, vamos plotar os histogramas dos resultados."
      ],
      "metadata": {
        "id": "JlMrLBgR-gOh"
      }
    },
    {
      "cell_type": "code",
      "source": [
        "# Configurando o tamanho da figura\n",
        "plt.figure(figsize=(18, 6))\n",
        "\n",
        "# Exibindo o Naive Bayes\n",
        "plt.subplot(1, 3, 1)\n",
        "sns.histplot(resultados_naive_bayes, color=\"blue\", kde = True, bins = 8)\n",
        "plt.title(\"Resultados Naive Bayes\")\n",
        "\n",
        "# Exibindo a Logistic Regression\n",
        "plt.subplot(1, 3, 2)\n",
        "sns.histplot(resultados_logistica, color=\"red\", kde = True, bins = 8)\n",
        "plt.title(\"Resultados Logistic Regression\")\n",
        "\n",
        "# Exibindo o Random Forest\n",
        "plt.subplot(1, 3, 3)\n",
        "sns.histplot(resultados_forest, color=\"green\", kde = True, bins = 8)\n",
        "plt.title(\"Resultados Random Forest\")\n",
        "\n",
        "# Exibindo a figura\n",
        "plt.show()"
      ],
      "metadata": {
        "colab": {
          "base_uri": "https://localhost:8080/",
          "height": 545
        },
        "id": "3a-Ty5-W-z1P",
        "outputId": "4a3f1b2f-8bd8-47e5-9add-b8446249c6c7"
      },
      "execution_count": 21,
      "outputs": [
        {
          "output_type": "display_data",
          "data": {
            "text/plain": [
              "<Figure size 1800x600 with 3 Axes>"
            ],
            "image/png": "[encoded data removed]"
          },
          "metadata": {}
        }
      ]
    },
    {
      "cell_type": "markdown",
      "source": [
        "Podemos observar que os resultados não apresentam uma distribuição normal perfeita, mas ainda podem ser considerados normais, embora alguns estejam se aproximando de outros tipos de distribuição."
      ],
      "metadata": {
        "id": "Trp7m9f0BMZX"
      }
    },
    {
      "cell_type": "markdown",
      "source": [
        "Para aumentar a nossa confiança, vamos utilizar outro teste para confirmar a distribuição dos dados."
      ],
      "metadata": {
        "id": "d5fqE5wtDE42"
      }
    },
    {
      "cell_type": "markdown",
      "source": [
        "## **Teste de hipótese de D'Agostinho K^2**"
      ],
      "metadata": {
        "id": "hDBEfDXjDKkv"
      }
    },
    {
      "cell_type": "markdown",
      "source": [
        "Para executar este teste, primeiro precisamos importar a biblioteca necessária."
      ],
      "metadata": {
        "id": "4koG2sceDT2t"
      }
    },
    {
      "cell_type": "code",
      "source": [
        "# Realizandoa a importação\n",
        "from scipy.stats import normaltest"
      ],
      "metadata": {
        "id": "tTiJGEqwDQ1F"
      },
      "execution_count": 18,
      "outputs": []
    },
    {
      "cell_type": "code",
      "source": [
        "# Realizando os testes\n",
        "normaltest(resultados_naive_bayes), normaltest(resultados_logistica), normaltest(resultados_forest)"
      ],
      "metadata": {
        "colab": {
          "base_uri": "https://localhost:8080/"
        },
        "id": "tgXQUlIKDZQM",
        "outputId": "160990b1-6ad5-437a-891b-ec721c30f1d9"
      },
      "execution_count": 19,
      "outputs": [
        {
          "output_type": "execute_result",
          "data": {
            "text/plain": [
              "(NormaltestResult(statistic=1.3696333428855036, pvalue=0.5041826521809293),\n",
              " NormaltestResult(statistic=0.4008632055644128, pvalue=0.8183774628530818),\n",
              " NormaltestResult(statistic=3.410635355820297, pvalue=0.18171465027480027))"
            ]
          },
          "metadata": {},
          "execution_count": 19
        }
      ]
    },
    {
      "cell_type": "markdown",
      "source": [
        "Como podemos observar em ambos os casos, o p-valor foi maior que o nível de significância (alfa) definido. Portanto, a hipótese alternativa foi rejeitada e podemos concluir que os dados seguem uma distribuição normal."
      ],
      "metadata": {
        "id": "G0kvFRvRGFLf"
      }
    },
    {
      "cell_type": "markdown",
      "source": [
        "## É importante frisar que, quando a distribuição for normal, utilizaremos testes de hipóteses paramétricos. Caso a distribuição não seja normal, utilizaremos testes de hipóteses não paramétricos. No entanto, em algumas ocasiões, podemos utilizar testes de hipóteses não paramétricos em distribuições não normais."
      ],
      "metadata": {
        "id": "hf4jPuz7Cqap"
      }
    },
    {
      "cell_type": "markdown",
      "source": [
        "## **Testes não paramétricos**"
      ],
      "metadata": {
        "id": "pnZOZVBiD7yP"
      }
    },
    {
      "cell_type": "markdown",
      "source": [
        "Por mais que, segundo nossos testes, tenhamos 3 distribuições normais e, para esse caso, seja necessário realizar testes paramétricos, em alguns casos, é interessante realizar testes não paramétricos, mesmo em distribuições normais. Vamos observar um pouco mais a fundo."
      ],
      "metadata": {
        "id": "HhX_2YenEErE"
      }
    },
    {
      "cell_type": "markdown",
      "source": [
        "### **Teste de Friedman**"
      ],
      "metadata": {
        "id": "Q9VzmYzfEX0c"
      }
    },
    {
      "cell_type": "markdown",
      "source": [
        "Para a realização desse teste, será necessária importar a biblioteca necessária para a realização do teste."
      ],
      "metadata": {
        "id": "bBwq5ha7EZhL"
      }
    },
    {
      "cell_type": "code",
      "source": [
        "# Importando o teste de Friedman\n",
        "from scipy.stats import friedmanchisquare"
      ],
      "metadata": {
        "id": "Pvdy85bGElDy"
      },
      "execution_count": 22,
      "outputs": []
    },
    {
      "cell_type": "markdown",
      "source": [
        "Agora, podemos aplicar o teste propriamente dito."
      ],
      "metadata": {
        "id": "F-Xdhd5dEp3C"
      }
    },
    {
      "cell_type": "code",
      "source": [
        "# Aplicando o teste\n",
        "_, p_friedman = friedmanchisquare(resultados_naive_bayes, resultados_logistica, resultados_forest)\n",
        "\n",
        "# Exibindo o resultado\n",
        "print(p_friedman)"
      ],
      "metadata": {
        "colab": {
          "base_uri": "https://localhost:8080/"
        },
        "id": "fFxjaQUUEsw5",
        "outputId": "dd4edc62-1416-40f1-9b6a-5629afb258cd"
      },
      "execution_count": 24,
      "outputs": [
        {
          "output_type": "stream",
          "name": "stdout",
          "text": [
            "9.357622968840163e-14\n"
          ]
        }
      ]
    },
    {
      "cell_type": "markdown",
      "source": [
        "Vamos comparar o valor obtido com o valor de alpha."
      ],
      "metadata": {
        "id": "VkFK1jNZE-JI"
      }
    },
    {
      "cell_type": "code",
      "source": [
        "# Realizando a confirmação\n",
        "if p_friedman < alpha:\n",
        "  print('Existe diferença estatística')\n",
        "else:\n",
        "  print('Não existe')"
      ],
      "metadata": {
        "colab": {
          "base_uri": "https://localhost:8080/"
        },
        "id": "7QShEj7rE_6l",
        "outputId": "058bd0fa-ebd5-4f41-b4c6-10631af1bdc7"
      },
      "execution_count": 26,
      "outputs": [
        {
          "output_type": "stream",
          "name": "stdout",
          "text": [
            "Existe diferença estatística\n"
          ]
        }
      ]
    },
    {
      "cell_type": "markdown",
      "source": [
        "Como o valor de alpha é maior do que o valor de p, a hipótese nula deve ser rejeitada. Logo, é correto afirmar que entre esses 3 resultados dos modelos de machine learning existe realmente uma diferença estatisticamente significativa."
      ],
      "metadata": {
        "id": "0tYfaT3eGSaV"
      }
    },
    {
      "cell_type": "markdown",
      "source": [
        "## **Exercício**"
      ],
      "metadata": {
        "id": "Av2HQVkTDgJU"
      }
    },
    {
      "cell_type": "markdown",
      "source": [
        "O objetivo desta tarefa é aplicar a análise de variância (ANOVA) e o teste de Tukey para comparar os resultados dos algoritmos."
      ],
      "metadata": {
        "id": "9k2wcA0LDhqB"
      }
    },
    {
      "cell_type": "markdown",
      "source": [
        "Para a realização desse exercício, vamos importar a biblioteca necessária."
      ],
      "metadata": {
        "id": "Jng_pYOFGxcy"
      }
    },
    {
      "cell_type": "code",
      "source": [
        "# Biblioteca para o teste ANOVA\n",
        "from scipy.stats import f_oneway"
      ],
      "metadata": {
        "id": "tW5Z_4-0G1bx"
      },
      "execution_count": 27,
      "outputs": []
    },
    {
      "cell_type": "markdown",
      "source": [
        "Agora, podemos aplicar o teste."
      ],
      "metadata": {
        "id": "8Ax8N0M_G4io"
      }
    },
    {
      "cell_type": "code",
      "source": [
        "# Aplicando a função\n",
        "_, p_anova = f_oneway(resultados_naive_bayes, resultados_logistica, resultados_forest)\n",
        "\n",
        "# Exibindo o valor\n",
        "print(p_anova)"
      ],
      "metadata": {
        "colab": {
          "base_uri": "https://localhost:8080/"
        },
        "id": "k9dt-uX9G6A3",
        "outputId": "2d865e99-d7d4-4284-ebd6-fba9b3953ad7"
      },
      "execution_count": 28,
      "outputs": [
        {
          "output_type": "stream",
          "name": "stdout",
          "text": [
            "4.021190942702097e-116\n"
          ]
        }
      ]
    },
    {
      "cell_type": "markdown",
      "source": [
        "É hora de decidir se rejeitamos ou não a hipótese nula."
      ],
      "metadata": {
        "id": "Zuzl31eBHGHP"
      }
    },
    {
      "cell_type": "code",
      "source": [
        "# Testando as hipóteses\n",
        "if p <= alpha:\n",
        "  print('Hipótese nula rejeitada')\n",
        "else:\n",
        "  print('Hipótese alternativa rejeitada')"
      ],
      "metadata": {
        "colab": {
          "base_uri": "https://localhost:8080/"
        },
        "id": "Ak5eczZzHHCP",
        "outputId": "2fd30899-e019-44f1-a0c2-ce49c3a85e9b"
      },
      "execution_count": 29,
      "outputs": [
        {
          "output_type": "stream",
          "name": "stdout",
          "text": [
            "Hipótese nula rejeitada\n"
          ]
        }
      ]
    },
    {
      "cell_type": "markdown",
      "source": [
        "**A hipótese nula foi rejeitada, logo podemos concluir que pelo menos uma das médias das populações é diferente.**"
      ],
      "metadata": {
        "id": "GAYsmVUlHGNP"
      }
    },
    {
      "cell_type": "markdown",
      "source": [
        "Agora, precisamos aplicar o teste de Tukey. Vamos começar importando as bibliotecas necessárias novamente."
      ],
      "metadata": {
        "id": "2gOahXOPH1Py"
      }
    },
    {
      "cell_type": "code",
      "source": [
        "# Biblioteca para o teste tukey\n",
        "from statsmodels.stats.multicomp import MultiComparison"
      ],
      "metadata": {
        "id": "i4DRaHUMH_5n"
      },
      "execution_count": 30,
      "outputs": []
    },
    {
      "cell_type": "markdown",
      "source": [
        "Agora que importamos a biblioteca necessária para a realização do teste, precisamos alterar o formato dos dados para um formato que a biblioteca aceite."
      ],
      "metadata": {
        "id": "3SBRNhiDH9CI"
      }
    },
    {
      "cell_type": "code",
      "source": [
        "# Ajustando o formato dos dados\n",
        "resultados_algoritmos = {'accuracy': np.concatenate([resultados_naive_bayes, resultados_logistica, resultados_forest]),\n",
        "                         'algoritmo': ['naive', 'naive','naive','naive','naive','naive','naive','naive','naive','naive',\n",
        "                                       'naive', 'naive','naive','naive','naive','naive','naive','naive','naive','naive',\n",
        "                                       'naive', 'naive','naive','naive','naive','naive','naive','naive','naive','naive',\n",
        "                                       'logistic','logistic','logistic','logistic','logistic','logistic','logistic','logistic','logistic','logistic',\n",
        "                                       'logistic','logistic','logistic','logistic','logistic','logistic','logistic','logistic','logistic','logistic',\n",
        "                                       'logistic','logistic','logistic','logistic','logistic','logistic','logistic','logistic','logistic','logistic',\n",
        "                                       'forest','forest','forest','forest','forest','forest','forest','forest','forest','forest',\n",
        "                                       'forest','forest','forest','forest','forest','forest','forest','forest','forest','forest',\n",
        "                                       'forest','forest','forest','forest','forest','forest','forest','forest','forest','forest']}"
      ],
      "metadata": {
        "id": "SuRBwH3aJDoQ"
      },
      "execution_count": 31,
      "outputs": []
    },
    {
      "cell_type": "markdown",
      "source": [
        "Como temos 30 resultados para cada modelo, basta passarmos primeiro o resultado e, em seguida, o nome do modelo referente a cada resultado. Dessa forma, obteremos um dicionário de dados. Agora, basta transformarmos esses dados em um DataFrame."
      ],
      "metadata": {
        "id": "vX_sZvbII345"
      }
    },
    {
      "cell_type": "code",
      "source": [
        "# Transformando em um DF\n",
        "resultados_df = pd.DataFrame(resultados_algoritmos)\n",
        "\n",
        "# Observando os dados\n",
        "resultados_df.head()"
      ],
      "metadata": {
        "colab": {
          "base_uri": "https://localhost:8080/",
          "height": 206
        },
        "id": "cwSTUtolJbg9",
        "outputId": "61321caa-a5ef-4cb5-d7fa-f438d0cdbb75"
      },
      "execution_count": 32,
      "outputs": [
        {
          "output_type": "execute_result",
          "data": {
            "text/plain": [
              "   accuracy algoritmo\n",
              "0  0.925867     naive\n",
              "1  0.926415     naive\n",
              "2  0.926892     naive\n",
              "3  0.925887     naive\n",
              "4  0.925872     naive"
            ],
            "text/html": [
              "\n",
              "  <div id=\"df-d0bc777c-2b32-4946-9e56-3cdfd6bdf2f5\" class=\"colab-df-container\">\n",
              "    <div>\n",
              "<style scoped>\n",
              "    .dataframe tbody tr th:only-of-type {\n",
              "        vertical-align: middle;\n",
              "    }\n",
              "\n",
              "    .dataframe tbody tr th {\n",
              "        vertical-align: top;\n",
              "    }\n",
              "\n",
              "    .dataframe thead th {\n",
              "        text-align: right;\n",
              "    }\n",
              "</style>\n",
              "<table border=\"1\" class=\"dataframe\">\n",
              "  <thead>\n",
              "    <tr style=\"text-align: right;\">\n",
              "      <th></th>\n",
              "      <th>accuracy</th>\n",
              "      <th>algoritmo</th>\n",
              "    </tr>\n",
              "  </thead>\n",
              "  <tbody>\n",
              "    <tr>\n",
              "      <th>0</th>\n",
              "      <td>0.925867</td>\n",
              "      <td>naive</td>\n",
              "    </tr>\n",
              "    <tr>\n",
              "      <th>1</th>\n",
              "      <td>0.926415</td>\n",
              "      <td>naive</td>\n",
              "    </tr>\n",
              "    <tr>\n",
              "      <th>2</th>\n",
              "      <td>0.926892</td>\n",
              "      <td>naive</td>\n",
              "    </tr>\n",
              "    <tr>\n",
              "      <th>3</th>\n",
              "      <td>0.925887</td>\n",
              "      <td>naive</td>\n",
              "    </tr>\n",
              "    <tr>\n",
              "      <th>4</th>\n",
              "      <td>0.925872</td>\n",
              "      <td>naive</td>\n",
              "    </tr>\n",
              "  </tbody>\n",
              "</table>\n",
              "</div>\n",
              "    <div class=\"colab-df-buttons\">\n",
              "\n",
              "  <div class=\"colab-df-container\">\n",
              "    <button class=\"colab-df-convert\" onclick=\"convertToInteractive('df-d0bc777c-2b32-4946-9e56-3cdfd6bdf2f5')\"\n",
              "            title=\"Convert this dataframe to an interactive table.\"\n",
              "            style=\"display:none;\">\n",
              "\n",
              "  <svg xmlns=\"http://www.w3.org/2000/svg\" height=\"24px\" viewBox=\"0 -960 960 960\">\n",
              "    <path d=\"M120-120v-720h720v720H120Zm60-500h600v-160H180v160Zm220 220h160v-160H400v160Zm0 220h160v-160H400v160ZM180-400h160v-160H180v160Zm440 0h160v-160H620v160ZM180-180h160v-160H180v160Zm440 0h160v-160H620v160Z\"/>\n",
              "  </svg>\n",
              "    </button>\n",
              "\n",
              "  <style>\n",
              "    .colab-df-container {\n",
              "      display:flex;\n",
              "      gap: 12px;\n",
              "    }\n",
              "\n",
              "    .colab-df-convert {\n",
              "      background-color: #E8F0FE;\n",
              "      border: none;\n",
              "      border-radius: 50%;\n",
              "      cursor: pointer;\n",
              "      display: none;\n",
              "      fill: #1967D2;\n",
              "      height: 32px;\n",
              "      padding: 0 0 0 0;\n",
              "      width: 32px;\n",
              "    }\n",
              "\n",
              "    .colab-df-convert:hover {\n",
              "      background-color: #E2EBFA;\n",
              "      box-shadow: 0px 1px 2px rgba(60, 64, 67, 0.3), 0px 1px 3px 1px rgba(60, 64, 67, 0.15);\n",
              "      fill: #174EA6;\n",
              "    }\n",
              "\n",
              "    .colab-df-buttons div {\n",
              "      margin-bottom: 4px;\n",
              "    }\n",
              "\n",
              "    [theme=dark] .colab-df-convert {\n",
              "      background-color: #3B4455;\n",
              "      fill: #D2E3FC;\n",
              "    }\n",
              "\n",
              "    [theme=dark] .colab-df-convert:hover {\n",
              "      background-color: #434B5C;\n",
              "      box-shadow: 0px 1px 3px 1px rgba(0, 0, 0, 0.15);\n",
              "      filter: drop-shadow(0px 1px 2px rgba(0, 0, 0, 0.3));\n",
              "      fill: #FFFFFF;\n",
              "    }\n",
              "  </style>\n",
              "\n",
              "    <script>\n",
              "      const buttonEl =\n",
              "        document.querySelector('#df-d0bc777c-2b32-4946-9e56-3cdfd6bdf2f5 button.colab-df-convert');\n",
              "      buttonEl.style.display =\n",
              "        google.colab.kernel.accessAllowed ? 'block' : 'none';\n",
              "\n",
              "      async function convertToInteractive(key) {\n",
              "        const element = document.querySelector('#df-d0bc777c-2b32-4946-9e56-3cdfd6bdf2f5');\n",
              "        const dataTable =\n",
              "          await google.colab.kernel.invokeFunction('convertToInteractive',\n",
              "                                                    [key], {});\n",
              "        if (!dataTable) return;\n",
              "\n",
              "        const docLinkHtml = 'Like what you see? Visit the ' +\n",
              "          '<a target=\"_blank\" href=https://colab.research.google.com/notebooks/data_table.ipynb>data table notebook</a>'\n",
              "          + ' to learn more about interactive tables.';\n",
              "        element.innerHTML = '';\n",
              "        dataTable['output_type'] = 'display_data';\n",
              "        await google.colab.output.renderOutput(dataTable, element);\n",
              "        const docLink = document.createElement('div');\n",
              "        docLink.innerHTML = docLinkHtml;\n",
              "        element.appendChild(docLink);\n",
              "      }\n",
              "    </script>\n",
              "  </div>\n",
              "\n",
              "\n",
              "<div id=\"df-6e7b32f7-29d3-4276-9df2-93c40a391624\">\n",
              "  <button class=\"colab-df-quickchart\" onclick=\"quickchart('df-6e7b32f7-29d3-4276-9df2-93c40a391624')\"\n",
              "            title=\"Suggest charts\"\n",
              "            style=\"display:none;\">\n",
              "\n",
              "<svg xmlns=\"http://www.w3.org/2000/svg\" height=\"24px\"viewBox=\"0 0 24 24\"\n",
              "     width=\"24px\">\n",
              "    <g>\n",
              "        <path d=\"M19 3H5c-1.1 0-2 .9-2 2v14c0 1.1.9 2 2 2h14c1.1 0 2-.9 2-2V5c0-1.1-.9-2-2-2zM9 17H7v-7h2v7zm4 0h-2V7h2v10zm4 0h-2v-4h2v4z\"/>\n",
              "    </g>\n",
              "</svg>\n",
              "  </button>\n",
              "\n",
              "<style>\n",
              "  .colab-df-quickchart {\n",
              "      --bg-color: #E8F0FE;\n",
              "      --fill-color: #1967D2;\n",
              "      --hover-bg-color: #E2EBFA;\n",
              "      --hover-fill-color: #174EA6;\n",
              "      --disabled-fill-color: #AAA;\n",
              "      --disabled-bg-color: #DDD;\n",
              "  }\n",
              "\n",
              "  [theme=dark] .colab-df-quickchart {\n",
              "      --bg-color: #3B4455;\n",
              "      --fill-color: #D2E3FC;\n",
              "      --hover-bg-color: #434B5C;\n",
              "      --hover-fill-color: #FFFFFF;\n",
              "      --disabled-bg-color: #3B4455;\n",
              "      --disabled-fill-color: #666;\n",
              "  }\n",
              "\n",
              "  .colab-df-quickchart {\n",
              "    background-color: var(--bg-color);\n",
              "    border: none;\n",
              "    border-radius: 50%;\n",
              "    cursor: pointer;\n",
              "    display: none;\n",
              "    fill: var(--fill-color);\n",
              "    height: 32px;\n",
              "    padding: 0;\n",
              "    width: 32px;\n",
              "  }\n",
              "\n",
              "  .colab-df-quickchart:hover {\n",
              "    background-color: var(--hover-bg-color);\n",
              "    box-shadow: 0 1px 2px rgba(60, 64, 67, 0.3), 0 1px 3px 1px rgba(60, 64, 67, 0.15);\n",
              "    fill: var(--button-hover-fill-color);\n",
              "  }\n",
              "\n",
              "  .colab-df-quickchart-complete:disabled,\n",
              "  .colab-df-quickchart-complete:disabled:hover {\n",
              "    background-color: var(--disabled-bg-color);\n",
              "    fill: var(--disabled-fill-color);\n",
              "    box-shadow: none;\n",
              "  }\n",
              "\n",
              "  .colab-df-spinner {\n",
              "    border: 2px solid var(--fill-color);\n",
              "    border-color: transparent;\n",
              "    border-bottom-color: var(--fill-color);\n",
              "    animation:\n",
              "      spin 1s steps(1) infinite;\n",
              "  }\n",
              "\n",
              "  @keyframes spin {\n",
              "    0% {\n",
              "      border-color: transparent;\n",
              "      border-bottom-color: var(--fill-color);\n",
              "      border-left-color: var(--fill-color);\n",
              "    }\n",
              "    20% {\n",
              "      border-color: transparent;\n",
              "      border-left-color: var(--fill-color);\n",
              "      border-top-color: var(--fill-color);\n",
              "    }\n",
              "    30% {\n",
              "      border-color: transparent;\n",
              "      border-left-color: var(--fill-color);\n",
              "      border-top-color: var(--fill-color);\n",
              "      border-right-color: var(--fill-color);\n",
              "    }\n",
              "    40% {\n",
              "      border-color: transparent;\n",
              "      border-right-color: var(--fill-color);\n",
              "      border-top-color: var(--fill-color);\n",
              "    }\n",
              "    60% {\n",
              "      border-color: transparent;\n",
              "      border-right-color: var(--fill-color);\n",
              "    }\n",
              "    80% {\n",
              "      border-color: transparent;\n",
              "      border-right-color: var(--fill-color);\n",
              "      border-bottom-color: var(--fill-color);\n",
              "    }\n",
              "    90% {\n",
              "      border-color: transparent;\n",
              "      border-bottom-color: var(--fill-color);\n",
              "    }\n",
              "  }\n",
              "</style>\n",
              "\n",
              "  <script>\n",
              "    async function quickchart(key) {\n",
              "      const quickchartButtonEl =\n",
              "        document.querySelector('#' + key + ' button');\n",
              "      quickchartButtonEl.disabled = true;  // To prevent multiple clicks.\n",
              "      quickchartButtonEl.classList.add('colab-df-spinner');\n",
              "      try {\n",
              "        const charts = await google.colab.kernel.invokeFunction(\n",
              "            'suggestCharts', [key], {});\n",
              "      } catch (error) {\n",
              "        console.error('Error during call to suggestCharts:', error);\n",
              "      }\n",
              "      quickchartButtonEl.classList.remove('colab-df-spinner');\n",
              "      quickchartButtonEl.classList.add('colab-df-quickchart-complete');\n",
              "    }\n",
              "    (() => {\n",
              "      let quickchartButtonEl =\n",
              "        document.querySelector('#df-6e7b32f7-29d3-4276-9df2-93c40a391624 button');\n",
              "      quickchartButtonEl.style.display =\n",
              "        google.colab.kernel.accessAllowed ? 'block' : 'none';\n",
              "    })();\n",
              "  </script>\n",
              "</div>\n",
              "\n",
              "    </div>\n",
              "  </div>\n"
            ]
          },
          "metadata": {},
          "execution_count": 32
        }
      ]
    },
    {
      "cell_type": "markdown",
      "source": [
        "Agora, com todas essas transformações realizadas, podemos aplicar essa função que realiza um teste de comparações múltiplas, que é usado para comparar as médias de dois ou mais grupos."
      ],
      "metadata": {
        "id": "20NivtSLJnV9"
      }
    },
    {
      "cell_type": "code",
      "source": [
        "# Aplicando a função\n",
        "compara_grupos = MultiComparison(resultados_df['accuracy'], resultados_df['algoritmo'])"
      ],
      "metadata": {
        "id": "D8Ur7XLJJt3i"
      },
      "execution_count": 33,
      "outputs": []
    },
    {
      "cell_type": "markdown",
      "source": [
        "Agora que os valores foram selecionados e testados, podemos aplicar o teste no objeto que criamos anteriormente."
      ],
      "metadata": {
        "id": "IEjBPnskJ5K7"
      }
    },
    {
      "cell_type": "code",
      "source": [
        "# Aplicando o teste nos grupos\n",
        "teste = compara_grupos.tukeyhsd()\n",
        "\n",
        "# Exibindo o resultado\n",
        "print(teste)"
      ],
      "metadata": {
        "colab": {
          "base_uri": "https://localhost:8080/"
        },
        "id": "eRuHIsEqJ6IL",
        "outputId": "8f41a77e-6df9-403a-ad1a-00622ca9cccc"
      },
      "execution_count": 34,
      "outputs": [
        {
          "output_type": "stream",
          "name": "stdout",
          "text": [
            "  Multiple Comparison of Means - Tukey HSD, FWER=0.05  \n",
            "=======================================================\n",
            " group1   group2  meandiff p-adj  lower   upper  reject\n",
            "-------------------------------------------------------\n",
            "  forest logistic  -0.0409   0.0 -0.0416 -0.0401   True\n",
            "  forest    naive  -0.0611   0.0 -0.0618 -0.0603   True\n",
            "logistic    naive  -0.0202   0.0 -0.0209 -0.0194   True\n",
            "-------------------------------------------------------\n"
          ]
        }
      ]
    },
    {
      "cell_type": "markdown",
      "source": [
        "**Conclusão:**\n",
        "\n",
        "Podemos observar que, nas três comparações entre os três modelos, rejeitamos a hipótese nula, pois obtivemos um p-valor menor que o nível de significância (alpha). Logo, podemos afirmar que existe diferença entre os resultados dos três grupos.\n",
        "\n",
        "Como existem diferenças estatísticas entre os três modelos, podemos optar por escolher o modelo que obteve a melhor média de acertos. Nesse caso, o modelo Random Forest obteve a melhor média de acertos. Portanto, estatisticamente falando, o melhor modelo é o Random Forest."
      ],
      "metadata": {
        "id": "s1sZqTqPKWn-"
      }
    }
  ]
}