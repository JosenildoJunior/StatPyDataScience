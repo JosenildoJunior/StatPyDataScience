{
  "nbformat": 4,
  "nbformat_minor": 0,
  "metadata": {
    "colab": {
      "provenance": [],
      "collapsed_sections": [
        "S_bXj7Ycdi1f",
        "EO_xzfe8fjG3",
        "HQfd_mlgie6w",
        "YL3V3vNymrrg",
        "_dtjUD_gkJcj",
        "FFWic8NIyQOx",
        "-ewKqre83hVb"
      ],
      "authorship_tag": "ABX9TyMB8ANxC/SvnwL6mNBY19wN",
      "include_colab_link": true
    },
    "kernelspec": {
      "name": "python3",
      "display_name": "Python 3"
    },
    "language_info": {
      "name": "python"
    }
  },
  "cells": [
    {
      "cell_type": "markdown",
      "metadata": {
        "id": "view-in-github",
        "colab_type": "text"
      },
      "source": [
        "<a href=\"https://colab.research.google.com/github/JosenildoJunior/StatPyDataScience/blob/main/Distribui%C3%A7%C3%A3o_de_frequ%C3%AAncia.ipynb\" target=\"_parent\"><img src=\"https://colab.research.google.com/assets/colab-badge.svg\" alt=\"Open In Colab\"/></a>"
      ]
    },
    {
      "cell_type": "markdown",
      "source": [
        "# Estatística com Python: Um Guia para Estudos e Solução de Problemas\n"
      ],
      "metadata": {
        "id": "yS_8dvRnbHcw"
      }
    },
    {
      "cell_type": "markdown",
      "source": [
        "A distribuição de frequência é uma representação estatística que organiza os dados em categorias e mostra a frequência (quantidade de vezes) com que cada categoria ocorre em um conjunto de dados. Essa representação fornece uma visão geral da distribuição e padrões dos dados, facilitando a compreensão da sua dispersão e centralidade.\n"
      ],
      "metadata": {
        "id": "llc3dln8bIr_"
      }
    },
    {
      "cell_type": "markdown",
      "source": [
        "## **Carregando os dados**"
      ],
      "metadata": {
        "id": "S_bXj7Ycdi1f"
      }
    },
    {
      "cell_type": "markdown",
      "source": [
        "Para seguirmos será necessario executar importação de algumas bibliotecas"
      ],
      "metadata": {
        "id": "VgUNXnZUepNs"
      }
    },
    {
      "cell_type": "code",
      "source": [
        "# Manipulação de arquivos\n",
        "import pandas as pd\n",
        "\n",
        "# Algébra linear\n",
        "import numpy as np\n",
        "\n",
        "# Visualização de dados\n",
        "import matplotlib.pyplot as plt\n",
        "\n",
        "# Visualização de dados\n",
        "import seaborn as sns\n",
        "\n",
        "# Funções matemáticas\n",
        "import math"
      ],
      "metadata": {
        "id": "5c3gdcwGev6V"
      },
      "execution_count": 1,
      "outputs": []
    },
    {
      "cell_type": "markdown",
      "source": [
        "Criando dados ficticios para execução das técnicas de distribuição de frequencia"
      ],
      "metadata": {
        "id": "aRaYKO1kdnDM"
      }
    },
    {
      "cell_type": "code",
      "execution_count": 2,
      "metadata": {
        "id": "6TD9WQciWM7Q"
      },
      "outputs": [],
      "source": [
        "# Criando uma tabela primitiva\n",
        "dados = np.array([160, 165, 167, 164, 160, 166, 160, 161, 150, 152, 173, 160, 155,\n",
        "                  164, 168, 162, 161, 168, 163, 156, 155, 169, 151, 170, 164,\n",
        "                  155, 152, 163, 160, 155, 157, 156, 158, 158, 161, 154, 161, 156, 172, 153])"
      ]
    },
    {
      "cell_type": "markdown",
      "source": [
        "## **Ordenando os dados**"
      ],
      "metadata": {
        "id": "EO_xzfe8fjG3"
      }
    },
    {
      "cell_type": "markdown",
      "source": [
        "Rol: Uma lista de todos os valores distintos observados em um conjunto de dados, organizados em ordem crescente."
      ],
      "metadata": {
        "id": "VThNJcEXg-JS"
      }
    },
    {
      "cell_type": "code",
      "source": [
        "# Utilizando o 'sort' para ordenar os dados\n",
        "dados = np.sort(dados)"
      ],
      "metadata": {
        "id": "bYdn9beMfktd"
      },
      "execution_count": 3,
      "outputs": []
    },
    {
      "cell_type": "code",
      "source": [
        "# Observando os dados\n",
        "dados"
      ],
      "metadata": {
        "colab": {
          "base_uri": "https://localhost:8080/"
        },
        "id": "kQoIIa1lf6T0",
        "outputId": "ea03aa55-c89a-4365-93da-5f3dcdbce400"
      },
      "execution_count": 4,
      "outputs": [
        {
          "output_type": "execute_result",
          "data": {
            "text/plain": [
              "array([150, 151, 152, 152, 153, 154, 155, 155, 155, 155, 156, 156, 156,\n",
              "       157, 158, 158, 160, 160, 160, 160, 160, 161, 161, 161, 161, 162,\n",
              "       163, 163, 164, 164, 164, 165, 166, 167, 168, 168, 169, 170, 172,\n",
              "       173])"
            ]
          },
          "metadata": {},
          "execution_count": 4
        }
      ]
    },
    {
      "cell_type": "markdown",
      "source": [
        "Obtendo o valor minimo e maximo para utilizar os valores futuramente"
      ],
      "metadata": {
        "id": "bgeTGOtGvuxO"
      }
    },
    {
      "cell_type": "code",
      "source": [
        "# Pegando o menor valor\n",
        "minimo = dados.min()\n",
        "\n",
        "# Pegando o maior valor\n",
        "maximo = dados.max()\n",
        "\n",
        "print(f\"O menor valor é: {minimo} e o maior valor é: {maximo}\")"
      ],
      "metadata": {
        "colab": {
          "base_uri": "https://localhost:8080/"
        },
        "id": "y_1IbY2VvycF",
        "outputId": "3bb7d393-eec5-4175-977a-08089dd7b237"
      },
      "execution_count": 18,
      "outputs": [
        {
          "output_type": "stream",
          "name": "stdout",
          "text": [
            "O menor valor é: 150 e o maior valor é: 173\n"
          ]
        }
      ]
    },
    {
      "cell_type": "markdown",
      "source": [
        "## **Frequência**"
      ],
      "metadata": {
        "id": "HQfd_mlgie6w"
      }
    },
    {
      "cell_type": "markdown",
      "source": [
        "*Frequência:* O número de observações ou ocorrências em cada classe. A fórmula para calcular a frequência é $(f = \\text{Número de Observações na Classe})$."
      ],
      "metadata": {
        "id": "IngUuNAqjALs"
      }
    },
    {
      "cell_type": "code",
      "source": [
        "# Exibindo com que frequência as classes se repetem\n",
        "np.unique(dados, return_counts= True)"
      ],
      "metadata": {
        "colab": {
          "base_uri": "https://localhost:8080/"
        },
        "id": "gLlGHPlhiTCi",
        "outputId": "48b8f662-5c37-4cdc-8917-66e3d807ec83"
      },
      "execution_count": 5,
      "outputs": [
        {
          "output_type": "execute_result",
          "data": {
            "text/plain": [
              "(array([150, 151, 152, 153, 154, 155, 156, 157, 158, 160, 161, 162, 163,\n",
              "        164, 165, 166, 167, 168, 169, 170, 172, 173]),\n",
              " array([1, 1, 2, 1, 1, 4, 3, 1, 2, 5, 4, 1, 2, 3, 1, 1, 1, 2, 1, 1, 1, 1]))"
            ]
          },
          "metadata": {},
          "execution_count": 5
        }
      ]
    },
    {
      "cell_type": "code",
      "source": [
        "# Observando graficamente\n",
        "plt.bar(dados, dados);"
      ],
      "metadata": {
        "colab": {
          "base_uri": "https://localhost:8080/",
          "height": 430
        },
        "id": "w8rxtlBKjpK_",
        "outputId": "1ab82c24-cffb-4343-8fd0-e93b8117b360"
      },
      "execution_count": 6,
      "outputs": [
        {
          "output_type": "display_data",
          "data": {
            "text/plain": [
              "<Figure size 640x480 with 1 Axes>"
            ],
            "image/png": "[encoded data removed]"
          },
          "metadata": {}
        }
      ]
    },
    {
      "cell_type": "markdown",
      "source": [
        "## **Número de classes**"
      ],
      "metadata": {
        "id": "YL3V3vNymrrg"
      }
    },
    {
      "cell_type": "markdown",
      "source": [
        "A Regra de Sturges é uma abordagem comum para determinar o número ideal de classes em uma distribuição de frequência para a construção de histogramas. Essa regra é baseada no tamanho da amostra e busca equilibrar a representatividade da distribuição sem gerar um excesso de classes.\n",
        "\n",
        "- Fórmula: $ k = 1 + 3.322 \\cdot \\log_{10}(n) $ (onde k é o número recomendado de classes e n é o tamanho da amostra.)\n"
      ],
      "metadata": {
        "id": "XBaqYI_fmxeH"
      }
    },
    {
      "cell_type": "code",
      "source": [
        "# Obtendo o tamanho da amostra\n",
        "n = len(dados)"
      ],
      "metadata": {
        "id": "8L73x1Z_n5R_"
      },
      "execution_count": 32,
      "outputs": []
    },
    {
      "cell_type": "markdown",
      "source": [
        "Ao aplicar a fórmula é necessario arredondar o valor, por isso é necessario aplicar a função 'round' na fórmula."
      ],
      "metadata": {
        "id": "69XDN2gjoVwM"
      }
    },
    {
      "cell_type": "code",
      "source": [
        "# Aplicando a fórmula\n",
        "k = (1 + 3.3 * np.log10(n)).round()\n",
        "\n",
        "print(f\"O número de classes é {k}\")"
      ],
      "metadata": {
        "colab": {
          "base_uri": "https://localhost:8080/"
        },
        "id": "YLTqv2JnoA7Q",
        "outputId": "5e201be1-cc22-46d5-fc41-7811a75a7bdc"
      },
      "execution_count": 34,
      "outputs": [
        {
          "output_type": "stream",
          "name": "stdout",
          "text": [
            "O número de classes é 6.0\n"
          ]
        }
      ]
    },
    {
      "cell_type": "markdown",
      "source": [
        "## **Amplitude amostral (AA)**"
      ],
      "metadata": {
        "id": "_dtjUD_gkJcj"
      }
    },
    {
      "cell_type": "markdown",
      "source": [
        "**Amplitude Amostral:**\n",
        "A amplitude amostral $(AA)$ é uma medida que representa a extensão total dos dados em um conjunto, calculada subtraindo o menor valor observado $(X_{\\text{mínimo}}$) do maior valor observado $(X_{\\text{máximo}}$).\n",
        "\n",
        "\n",
        "Amplitude Amostral $(A) = X_{\\text{máximo}} - X_{\\text{mínimo}}$\n"
      ],
      "metadata": {
        "id": "OcyhGAGKk5cW"
      }
    },
    {
      "cell_type": "code",
      "source": [
        "# Calculando a amplitude do intervalo\n",
        "amplitude_amostral = max(dados) - min(dados)\n",
        "\n",
        "\n",
        "# Exibindo o resultado\n",
        "print(f\"Amplitude do amostral: {amplitude_amostral}\")"
      ],
      "metadata": {
        "colab": {
          "base_uri": "https://localhost:8080/"
        },
        "id": "04VRVVRepKkP",
        "outputId": "21276c5a-a203-4a7a-efd5-d43d94187cb2"
      },
      "execution_count": 9,
      "outputs": [
        {
          "output_type": "stream",
          "name": "stdout",
          "text": [
            "Amplitude do amostral: 23\n"
          ]
        }
      ]
    },
    {
      "cell_type": "markdown",
      "source": [
        "## **Amplitude do intervalo de classe**"
      ],
      "metadata": {
        "id": "FFWic8NIyQOx"
      }
    },
    {
      "cell_type": "markdown",
      "source": [
        "A amplitude do intervalo de classe é uma medida estatística que representa a largura de cada intervalo em uma distribuição de frequência."
      ],
      "metadata": {
        "id": "5Scnv0xVzv3v"
      }
    },
    {
      "cell_type": "code",
      "source": [
        "# Calculando a amplitude do intervalo de classe\n",
        "h = amplitude_amostral / k\n",
        "\n",
        "# Arrendondando o valor para cima\n",
        "h = math.ceil(h)\n",
        "\n",
        "# Exibindo a amplitude do intervalo de classe\n",
        "print(f\"A amplitude do intervalo de classe é: {h}\")"
      ],
      "metadata": {
        "colab": {
          "base_uri": "https://localhost:8080/"
        },
        "id": "W0KfpeZqyW7H",
        "outputId": "ad722f62-ee21-4d3f-899e-685635982d48"
      },
      "execution_count": 10,
      "outputs": [
        {
          "output_type": "stream",
          "name": "stdout",
          "text": [
            "A amplitude do intervalo de classe é: 4\n"
          ]
        }
      ]
    },
    {
      "cell_type": "markdown",
      "source": [
        "Agora que já temos a amplitude amostral, amplitude do intervalo e o número de classes podemos seguir com a construção da distribuição frequencia"
      ],
      "metadata": {
        "id": "2lSpVR99qH6w"
      }
    },
    {
      "cell_type": "markdown",
      "source": [
        "## **Construção da distribuição**"
      ],
      "metadata": {
        "id": "BWuTEXnCuXtQ"
      }
    },
    {
      "cell_type": "markdown",
      "source": [
        "Para a construção da distribuição propriamente dita podemos utilizar de uma construção um pouco mais manual por assim dizer, utilizando listas e loops ou podemos simpolesmente utilizar bibliotecas que podem nos auxiliar nessa parte, iremos observar as duas maneiras"
      ],
      "metadata": {
        "id": "iKbjb6GWu4Gb"
      }
    },
    {
      "cell_type": "markdown",
      "source": [
        "### *Construção manual*"
      ],
      "metadata": {
        "id": "jQthAEBTucrW"
      }
    },
    {
      "cell_type": "markdown",
      "source": [
        "Primeiro vamos criar um intervalo, para isso foi utilizado a função do numpy chamada arrange, passamos como argumento o menor valor que nesse caso seria 150 e o maior valor que nesse caso é o numero 173 porém por conta do nosso 'step' essa função iria pegar o ultimo valor - 1 por isso utilizamos o + 2, dessa forma a função vai pegar todos os valores e o 'h' é referente ao intervalo de uma classe para outra."
      ],
      "metadata": {
        "id": "Mmxxgujju81i"
      }
    },
    {
      "cell_type": "code",
      "source": [
        "# Criando os intervalos\n",
        "intervalos = np.arange(minimo, maximo + 2, step = h)\n",
        "\n",
        "# Observando os valores\n",
        "intervalos"
      ],
      "metadata": {
        "colab": {
          "base_uri": "https://localhost:8080/"
        },
        "id": "EY8136ayvZWQ",
        "outputId": "f2a25142-222b-4ad3-c4aa-34704408057b"
      },
      "execution_count": 25,
      "outputs": [
        {
          "output_type": "execute_result",
          "data": {
            "text/plain": [
              "array([150, 154, 158, 162, 166, 170])"
            ]
          },
          "metadata": {},
          "execution_count": 25
        }
      ]
    },
    {
      "cell_type": "markdown",
      "source": [
        "Criando uma if dentro de um loop para realizar a contagem de cada uma das frequencia nas suas determinadas classes"
      ],
      "metadata": {
        "id": "4eTRQ3JE08ue"
      }
    },
    {
      "cell_type": "code",
      "source": [
        "intervalo1, intervalo2, intervalo3, intervalo4, intervalo5, intervalo6 = 0,0,0,0,0,0\n",
        "for i in range(n):\n",
        "  if dados[i] >= intervalos[0] and dados[i] < intervalos[1]:\n",
        "    intervalo1 += 1\n",
        "  elif dados[i] >= intervalos[1] and dados[i] < intervalos[2]:\n",
        "    intervalo2 += 1\n",
        "  elif dados[i] >= intervalos[2] and dados[i] < intervalos[3]:\n",
        "    intervalo3 += 1\n",
        "  elif dados[i] >= intervalos[3] and dados[i] < intervalos[4]:\n",
        "    intervalo4 += 1\n",
        "  elif dados[i] >= intervalos[4] and dados[i] < intervalos[5]:\n",
        "    intervalo5 += 1\n",
        "  elif dados[i] >= intervalos[5] and dados[i] < intervalos[6]:\n",
        "    intervalo6 += 1"
      ],
      "metadata": {
        "id": "9QtSbk9NutfM"
      },
      "execution_count": 13,
      "outputs": []
    },
    {
      "cell_type": "markdown",
      "source": [
        "Incrementando todos os valores da contagem da frequencia em uma lista"
      ],
      "metadata": {
        "id": "rRtgqVwz1b6C"
      }
    },
    {
      "cell_type": "code",
      "source": [
        "# Criando a lista\n",
        "lista_intervalos = []\n",
        "lista_intervalos.append(intervalo1)\n",
        "lista_intervalos.append(intervalo2)\n",
        "lista_intervalos.append(intervalo3)\n",
        "lista_intervalos.append(intervalo4)\n",
        "lista_intervalos.append(intervalo5)\n",
        "lista_intervalos.append(intervalo6)\n",
        "lista_intervalos"
      ],
      "metadata": {
        "colab": {
          "base_uri": "https://localhost:8080/"
        },
        "id": "czq0JXEbwzX9",
        "outputId": "aefdd12f-4b90-41ff-ac61-17150623c79c"
      },
      "execution_count": 14,
      "outputs": [
        {
          "output_type": "execute_result",
          "data": {
            "text/plain": [
              "[5, 9, 11, 7, 5, 3]"
            ]
          },
          "metadata": {},
          "execution_count": 14
        }
      ]
    },
    {
      "cell_type": "markdown",
      "source": [
        "Criando uma e percorrendo os valores presentes na 'lista intervalos' e concatenando com os valores dos intervalos criados logo acima"
      ],
      "metadata": {
        "id": "UagGwRlg1ype"
      }
    },
    {
      "cell_type": "code",
      "source": [
        "# Criando a lista\n",
        "lista_classes = []\n",
        "\n",
        "# Criando um laço de repetição\n",
        "for i in range(len(lista_intervalos)):\n",
        "  lista_classes.append(str(intervalos[i]) + '-' + str(intervalos[i + 1]))"
      ],
      "metadata": {
        "id": "ClYXQvh3w1T1"
      },
      "execution_count": 15,
      "outputs": []
    },
    {
      "cell_type": "code",
      "source": [
        "# Observando a lista\n",
        "lista_classes"
      ],
      "metadata": {
        "colab": {
          "base_uri": "https://localhost:8080/"
        },
        "id": "M7R2xR0cw408",
        "outputId": "2bf49b18-681b-419e-cab3-0d01ecf63157"
      },
      "execution_count": 16,
      "outputs": [
        {
          "output_type": "execute_result",
          "data": {
            "text/plain": [
              "['150-154', '154-158', '158-162', '162-166', '166-170', '170-174']"
            ]
          },
          "metadata": {},
          "execution_count": 16
        }
      ]
    },
    {
      "cell_type": "markdown",
      "source": [
        "Gerando a visualização da distribuição de frequencia criado manualmente"
      ],
      "metadata": {
        "id": "gpIHbh4Y2YQ0"
      }
    },
    {
      "cell_type": "code",
      "source": [
        "plt.bar(lista_classes, lista_intervalos)\n",
        "plt.title('Distribuição de frequência - histograma')\n",
        "plt.xlabel('intervalos')\n",
        "plt.ylabel('valores');"
      ],
      "metadata": {
        "colab": {
          "base_uri": "https://localhost:8080/",
          "height": 472
        },
        "id": "tg27wYTvw3t1",
        "outputId": "a526103f-ff52-48bb-9e18-c1945bb79550"
      },
      "execution_count": 17,
      "outputs": [
        {
          "output_type": "display_data",
          "data": {
            "text/plain": [
              "<Figure size 640x480 with 1 Axes>"
            ],
            "image/png": "[encoded data removed]"
          },
          "metadata": {}
        }
      ]
    },
    {
      "cell_type": "markdown",
      "source": [
        "Observar uma distribuição dessa forma é bem mais agradavel, no entanto a construção ficou um pouco trabalhosa por assim dizer, dito isso vamos para uma criação utilizando as bibliotecas disponiveis"
      ],
      "metadata": {
        "id": "o-y5H2rH3Gcu"
      }
    },
    {
      "cell_type": "markdown",
      "source": [
        "### *Histograma com numpy e matplotlib*"
      ],
      "metadata": {
        "id": "-ewKqre83hVb"
      }
    },
    {
      "cell_type": "markdown",
      "source": [
        "Recriando os mesmos dados utilizados acima"
      ],
      "metadata": {
        "id": "6iE2F6dF4EuP"
      }
    },
    {
      "cell_type": "code",
      "source": [
        "# Criando uma tabela primitiva\n",
        "dados = np.array([160, 165, 167, 164, 160, 166, 160, 161, 150, 152, 173, 160, 155,\n",
        "                  164, 168, 162, 161, 168, 163, 156, 155, 169, 151, 170, 164,\n",
        "                  155, 152, 163, 160, 155, 157, 156, 158, 158, 161, 154, 161, 156, 172, 153])"
      ],
      "metadata": {
        "id": "vqrWJKFM4ELY"
      },
      "execution_count": 28,
      "outputs": []
    },
    {
      "cell_type": "markdown",
      "source": [
        "Agira criamos 2 variaveis, chamada frequencia e classes onde nelas está sendo armazenada a funçãol histograma do numpy, que recebe como parametros os dados e o parametro 'bins' é referente ao intervalo de classes, nele foi passado como parametro o 'sturges' que foi a técnica utilizada acima para calcular a amplitude do intervalo de classe"
      ],
      "metadata": {
        "id": "WmE_Pz2r30uI"
      }
    },
    {
      "cell_type": "code",
      "source": [
        "# Criando a distribuição de frequência\n",
        "frequencia, classes = np.histogram(dados, bins = 'sturges')\n",
        "\n",
        "\n",
        "# Observando os valores das classes e da distribuição\n",
        "frequencia, classes"
      ],
      "metadata": {
        "colab": {
          "base_uri": "https://localhost:8080/"
        },
        "id": "PtqjIBeY3o0w",
        "outputId": "60d64243-2374-4af0-f898-79afeb9f6cbf"
      },
      "execution_count": 31,
      "outputs": [
        {
          "output_type": "execute_result",
          "data": {
            "text/plain": [
              "(array([ 5,  8,  3, 12,  5,  4,  3]),\n",
              " array([150.        , 153.28571429, 156.57142857, 159.85714286,\n",
              "        163.14285714, 166.42857143, 169.71428571, 173.        ]))"
            ]
          },
          "metadata": {},
          "execution_count": 31
        }
      ]
    },
    {
      "cell_type": "markdown",
      "source": [
        "Podemos observar uma pequena diferença nos intervalos de classes, muito provavelmente porque ao calcularmos o numero de classes nos arredondamos o valor para baixo por isso obtivemos o valor 6, caso não tivessemos arredondado o valor teria dado aproximadamente 6,28"
      ],
      "metadata": {
        "id": "xwGSVcIt4uKh"
      }
    },
    {
      "cell_type": "code",
      "source": [
        "# Gerando a visualização\n",
        "plt.hist(dados, classes)\n",
        "plt.title('Distribuição de frequência - histograma')\n",
        "plt.xlabel('Intervalos')\n",
        "plt.ylabel('Frequência');"
      ],
      "metadata": {
        "colab": {
          "base_uri": "https://localhost:8080/",
          "height": 472
        },
        "id": "iAeA44AM4toU",
        "outputId": "569b7215-152b-4c2d-ef39-e3c6a2ab2417"
      },
      "execution_count": 36,
      "outputs": [
        {
          "output_type": "display_data",
          "data": {
            "text/plain": [
              "<Figure size 640x480 with 1 Axes>"
            ],
            "image/png": "[encoded data removed]"
          },
          "metadata": {}
        }
      ]
    },
    {
      "cell_type": "markdown",
      "source": [
        "Podemos observar uma semelhança na visualização, conseguimos atingir um resultado bem semelhante utilizando bem menos linha de codigo o que pode tornar essa solução bem mais viavel"
      ],
      "metadata": {
        "id": "QG-lbkmc6cAc"
      }
    },
    {
      "cell_type": "markdown",
      "source": [
        "### *Distribuição de frequência com pandas e seaborn*"
      ],
      "metadata": {
        "id": "FblW2o4i6-PQ"
      }
    },
    {
      "cell_type": "markdown",
      "source": [
        "Esse método será utilizado para a criação de distribuição em dados no formato de um DataFrame por exemplo"
      ],
      "metadata": {
        "id": "EG7kTr4W7YW0"
      }
    },
    {
      "cell_type": "code",
      "source": [
        "# Observando o tipo do dado\n",
        "type(dados)"
      ],
      "metadata": {
        "colab": {
          "base_uri": "https://localhost:8080/"
        },
        "id": "5eHuWlrh7Pr3",
        "outputId": "61a80c3a-ca43-4fda-b391-ec951e40839f"
      },
      "execution_count": 38,
      "outputs": [
        {
          "output_type": "execute_result",
          "data": {
            "text/plain": [
              "numpy.ndarray"
            ]
          },
          "metadata": {},
          "execution_count": 38
        }
      ]
    },
    {
      "cell_type": "markdown",
      "source": [
        "Observamos dessa forma que até agora estavamos trabalhando com dados no formato numpy"
      ],
      "metadata": {
        "id": "ZW-TJk4O7nTb"
      }
    },
    {
      "cell_type": "code",
      "source": [
        "# Convertendo os dados para um Data Frame\n",
        "df = pd.DataFrame({'dados': dados})\n",
        "\n",
        "# Observando os valores\n",
        "df.head()"
      ],
      "metadata": {
        "colab": {
          "base_uri": "https://localhost:8080/",
          "height": 206
        },
        "id": "OIVVBf4P8RrF",
        "outputId": "88189682-34d9-439f-855b-4efee1180fd8"
      },
      "execution_count": 40,
      "outputs": [
        {
          "output_type": "execute_result",
          "data": {
            "text/plain": [
              "   dados\n",
              "0    160\n",
              "1    165\n",
              "2    167\n",
              "3    164\n",
              "4    160"
            ],
            "text/html": [
              "\n",
              "  <div id=\"df-d51b6960-3dce-40be-8731-34aebea3a606\" class=\"colab-df-container\">\n",
              "    <div>\n",
              "<style scoped>\n",
              "    .dataframe tbody tr th:only-of-type {\n",
              "        vertical-align: middle;\n",
              "    }\n",
              "\n",
              "    .dataframe tbody tr th {\n",
              "        vertical-align: top;\n",
              "    }\n",
              "\n",
              "    .dataframe thead th {\n",
              "        text-align: right;\n",
              "    }\n",
              "</style>\n",
              "<table border=\"1\" class=\"dataframe\">\n",
              "  <thead>\n",
              "    <tr style=\"text-align: right;\">\n",
              "      <th></th>\n",
              "      <th>dados</th>\n",
              "    </tr>\n",
              "  </thead>\n",
              "  <tbody>\n",
              "    <tr>\n",
              "      <th>0</th>\n",
              "      <td>160</td>\n",
              "    </tr>\n",
              "    <tr>\n",
              "      <th>1</th>\n",
              "      <td>165</td>\n",
              "    </tr>\n",
              "    <tr>\n",
              "      <th>2</th>\n",
              "      <td>167</td>\n",
              "    </tr>\n",
              "    <tr>\n",
              "      <th>3</th>\n",
              "      <td>164</td>\n",
              "    </tr>\n",
              "    <tr>\n",
              "      <th>4</th>\n",
              "      <td>160</td>\n",
              "    </tr>\n",
              "  </tbody>\n",
              "</table>\n",
              "</div>\n",
              "    <div class=\"colab-df-buttons\">\n",
              "\n",
              "  <div class=\"colab-df-container\">\n",
              "    <button class=\"colab-df-convert\" onclick=\"convertToInteractive('df-d51b6960-3dce-40be-8731-34aebea3a606')\"\n",
              "            title=\"Convert this dataframe to an interactive table.\"\n",
              "            style=\"display:none;\">\n",
              "\n",
              "  <svg xmlns=\"http://www.w3.org/2000/svg\" height=\"24px\" viewBox=\"0 -960 960 960\">\n",
              "    <path d=\"M120-120v-720h720v720H120Zm60-500h600v-160H180v160Zm220 220h160v-160H400v160Zm0 220h160v-160H400v160ZM180-400h160v-160H180v160Zm440 0h160v-160H620v160ZM180-180h160v-160H180v160Zm440 0h160v-160H620v160Z\"/>\n",
              "  </svg>\n",
              "    </button>\n",
              "\n",
              "  <style>\n",
              "    .colab-df-container {\n",
              "      display:flex;\n",
              "      gap: 12px;\n",
              "    }\n",
              "\n",
              "    .colab-df-convert {\n",
              "      background-color: #E8F0FE;\n",
              "      border: none;\n",
              "      border-radius: 50%;\n",
              "      cursor: pointer;\n",
              "      display: none;\n",
              "      fill: #1967D2;\n",
              "      height: 32px;\n",
              "      padding: 0 0 0 0;\n",
              "      width: 32px;\n",
              "    }\n",
              "\n",
              "    .colab-df-convert:hover {\n",
              "      background-color: #E2EBFA;\n",
              "      box-shadow: 0px 1px 2px rgba(60, 64, 67, 0.3), 0px 1px 3px 1px rgba(60, 64, 67, 0.15);\n",
              "      fill: #174EA6;\n",
              "    }\n",
              "\n",
              "    .colab-df-buttons div {\n",
              "      margin-bottom: 4px;\n",
              "    }\n",
              "\n",
              "    [theme=dark] .colab-df-convert {\n",
              "      background-color: #3B4455;\n",
              "      fill: #D2E3FC;\n",
              "    }\n",
              "\n",
              "    [theme=dark] .colab-df-convert:hover {\n",
              "      background-color: #434B5C;\n",
              "      box-shadow: 0px 1px 3px 1px rgba(0, 0, 0, 0.15);\n",
              "      filter: drop-shadow(0px 1px 2px rgba(0, 0, 0, 0.3));\n",
              "      fill: #FFFFFF;\n",
              "    }\n",
              "  </style>\n",
              "\n",
              "    <script>\n",
              "      const buttonEl =\n",
              "        document.querySelector('#df-d51b6960-3dce-40be-8731-34aebea3a606 button.colab-df-convert');\n",
              "      buttonEl.style.display =\n",
              "        google.colab.kernel.accessAllowed ? 'block' : 'none';\n",
              "\n",
              "      async function convertToInteractive(key) {\n",
              "        const element = document.querySelector('#df-d51b6960-3dce-40be-8731-34aebea3a606');\n",
              "        const dataTable =\n",
              "          await google.colab.kernel.invokeFunction('convertToInteractive',\n",
              "                                                    [key], {});\n",
              "        if (!dataTable) return;\n",
              "\n",
              "        const docLinkHtml = 'Like what you see? Visit the ' +\n",
              "          '<a target=\"_blank\" href=https://colab.research.google.com/notebooks/data_table.ipynb>data table notebook</a>'\n",
              "          + ' to learn more about interactive tables.';\n",
              "        element.innerHTML = '';\n",
              "        dataTable['output_type'] = 'display_data';\n",
              "        await google.colab.output.renderOutput(dataTable, element);\n",
              "        const docLink = document.createElement('div');\n",
              "        docLink.innerHTML = docLinkHtml;\n",
              "        element.appendChild(docLink);\n",
              "      }\n",
              "    </script>\n",
              "  </div>\n",
              "\n",
              "\n",
              "<div id=\"df-0846e872-d774-42c8-a201-51bbb3de92c5\">\n",
              "  <button class=\"colab-df-quickchart\" onclick=\"quickchart('df-0846e872-d774-42c8-a201-51bbb3de92c5')\"\n",
              "            title=\"Suggest charts\"\n",
              "            style=\"display:none;\">\n",
              "\n",
              "<svg xmlns=\"http://www.w3.org/2000/svg\" height=\"24px\"viewBox=\"0 0 24 24\"\n",
              "     width=\"24px\">\n",
              "    <g>\n",
              "        <path d=\"M19 3H5c-1.1 0-2 .9-2 2v14c0 1.1.9 2 2 2h14c1.1 0 2-.9 2-2V5c0-1.1-.9-2-2-2zM9 17H7v-7h2v7zm4 0h-2V7h2v10zm4 0h-2v-4h2v4z\"/>\n",
              "    </g>\n",
              "</svg>\n",
              "  </button>\n",
              "\n",
              "<style>\n",
              "  .colab-df-quickchart {\n",
              "      --bg-color: #E8F0FE;\n",
              "      --fill-color: #1967D2;\n",
              "      --hover-bg-color: #E2EBFA;\n",
              "      --hover-fill-color: #174EA6;\n",
              "      --disabled-fill-color: #AAA;\n",
              "      --disabled-bg-color: #DDD;\n",
              "  }\n",
              "\n",
              "  [theme=dark] .colab-df-quickchart {\n",
              "      --bg-color: #3B4455;\n",
              "      --fill-color: #D2E3FC;\n",
              "      --hover-bg-color: #434B5C;\n",
              "      --hover-fill-color: #FFFFFF;\n",
              "      --disabled-bg-color: #3B4455;\n",
              "      --disabled-fill-color: #666;\n",
              "  }\n",
              "\n",
              "  .colab-df-quickchart {\n",
              "    background-color: var(--bg-color);\n",
              "    border: none;\n",
              "    border-radius: 50%;\n",
              "    cursor: pointer;\n",
              "    display: none;\n",
              "    fill: var(--fill-color);\n",
              "    height: 32px;\n",
              "    padding: 0;\n",
              "    width: 32px;\n",
              "  }\n",
              "\n",
              "  .colab-df-quickchart:hover {\n",
              "    background-color: var(--hover-bg-color);\n",
              "    box-shadow: 0 1px 2px rgba(60, 64, 67, 0.3), 0 1px 3px 1px rgba(60, 64, 67, 0.15);\n",
              "    fill: var(--button-hover-fill-color);\n",
              "  }\n",
              "\n",
              "  .colab-df-quickchart-complete:disabled,\n",
              "  .colab-df-quickchart-complete:disabled:hover {\n",
              "    background-color: var(--disabled-bg-color);\n",
              "    fill: var(--disabled-fill-color);\n",
              "    box-shadow: none;\n",
              "  }\n",
              "\n",
              "  .colab-df-spinner {\n",
              "    border: 2px solid var(--fill-color);\n",
              "    border-color: transparent;\n",
              "    border-bottom-color: var(--fill-color);\n",
              "    animation:\n",
              "      spin 1s steps(1) infinite;\n",
              "  }\n",
              "\n",
              "  @keyframes spin {\n",
              "    0% {\n",
              "      border-color: transparent;\n",
              "      border-bottom-color: var(--fill-color);\n",
              "      border-left-color: var(--fill-color);\n",
              "    }\n",
              "    20% {\n",
              "      border-color: transparent;\n",
              "      border-left-color: var(--fill-color);\n",
              "      border-top-color: var(--fill-color);\n",
              "    }\n",
              "    30% {\n",
              "      border-color: transparent;\n",
              "      border-left-color: var(--fill-color);\n",
              "      border-top-color: var(--fill-color);\n",
              "      border-right-color: var(--fill-color);\n",
              "    }\n",
              "    40% {\n",
              "      border-color: transparent;\n",
              "      border-right-color: var(--fill-color);\n",
              "      border-top-color: var(--fill-color);\n",
              "    }\n",
              "    60% {\n",
              "      border-color: transparent;\n",
              "      border-right-color: var(--fill-color);\n",
              "    }\n",
              "    80% {\n",
              "      border-color: transparent;\n",
              "      border-right-color: var(--fill-color);\n",
              "      border-bottom-color: var(--fill-color);\n",
              "    }\n",
              "    90% {\n",
              "      border-color: transparent;\n",
              "      border-bottom-color: var(--fill-color);\n",
              "    }\n",
              "  }\n",
              "</style>\n",
              "\n",
              "  <script>\n",
              "    async function quickchart(key) {\n",
              "      const quickchartButtonEl =\n",
              "        document.querySelector('#' + key + ' button');\n",
              "      quickchartButtonEl.disabled = true;  // To prevent multiple clicks.\n",
              "      quickchartButtonEl.classList.add('colab-df-spinner');\n",
              "      try {\n",
              "        const charts = await google.colab.kernel.invokeFunction(\n",
              "            'suggestCharts', [key], {});\n",
              "      } catch (error) {\n",
              "        console.error('Error during call to suggestCharts:', error);\n",
              "      }\n",
              "      quickchartButtonEl.classList.remove('colab-df-spinner');\n",
              "      quickchartButtonEl.classList.add('colab-df-quickchart-complete');\n",
              "    }\n",
              "    (() => {\n",
              "      let quickchartButtonEl =\n",
              "        document.querySelector('#df-0846e872-d774-42c8-a201-51bbb3de92c5 button');\n",
              "      quickchartButtonEl.style.display =\n",
              "        google.colab.kernel.accessAllowed ? 'block' : 'none';\n",
              "    })();\n",
              "  </script>\n",
              "</div>\n",
              "    </div>\n",
              "  </div>\n"
            ]
          },
          "metadata": {},
          "execution_count": 40
        }
      ]
    },
    {
      "cell_type": "markdown",
      "source": [
        "Criando a distribuição"
      ],
      "metadata": {
        "id": "Kamvz-uK8hw8"
      }
    },
    {
      "cell_type": "code",
      "source": [
        "# Exibindo a distribuição\n",
        "sns.displot(data = dados)\n",
        "plt.title('Distribuição de frequência - histograma')\n",
        "plt.xlabel('Intervalos')\n",
        "plt.ylabel('Frequência');"
      ],
      "metadata": {
        "colab": {
          "base_uri": "https://localhost:8080/",
          "height": 549
        },
        "id": "I4IsXjUq8i9c",
        "outputId": "2a15482e-fb07-42b6-b849-9b0cc1ab00e0"
      },
      "execution_count": 53,
      "outputs": [
        {
          "output_type": "display_data",
          "data": {
            "text/plain": [
              "<Figure size 500x500 with 1 Axes>"
            ],
            "image/png": "[encoded data removed]"
          },
          "metadata": {}
        }
      ]
    },
    {
      "cell_type": "markdown",
      "source": [
        "Podemos observar agora um gráfico bem semelhante aos exemplos anteriores porém utilizando um formato diferente nos dados."
      ],
      "metadata": {
        "id": "qymvDBth9ysD"
      }
    }
  ]
}