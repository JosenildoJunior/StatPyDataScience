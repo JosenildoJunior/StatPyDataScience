{
  "nbformat": 4,
  "nbformat_minor": 0,
  "metadata": {
    "colab": {
      "provenance": [],
      "collapsed_sections": [
        "S_bXj7Ycdi1f",
        "EO_xzfe8fjG3",
        "XAIIsqfqgRKx",
        "HQfd_mlgie6w",
        "YL3V3vNymrrg",
        "_dtjUD_gkJcj",
        "OBe9BS1Xl2XH"
      ],
      "authorship_tag": "ABX9TyNgqhX4GcxacQ8LopsIVnvZ",
      "include_colab_link": true
    },
    "kernelspec": {
      "name": "python3",
      "display_name": "Python 3"
    },
    "language_info": {
      "name": "python"
    }
  },
  "cells": [
    {
      "cell_type": "markdown",
      "metadata": {
        "id": "view-in-github",
        "colab_type": "text"
      },
      "source": [
        "<a href=\"https://colab.research.google.com/github/JosenildoJunior/StatPyDataScience/blob/main/Distribui%C3%A7%C3%A3o_de_frequ%C3%AAncia.ipynb\" target=\"_parent\"><img src=\"https://colab.research.google.com/assets/colab-badge.svg\" alt=\"Open In Colab\"/></a>"
      ]
    },
    {
      "cell_type": "markdown",
      "source": [
        "# Estatística com Python: Um Guia para Estudos e Solução de Problemas\n"
      ],
      "metadata": {
        "id": "yS_8dvRnbHcw"
      }
    },
    {
      "cell_type": "markdown",
      "source": [
        "A distribuição de frequência é uma representação estatística que organiza os dados em categorias e mostra a frequência (quantidade de vezes) com que cada categoria ocorre em um conjunto de dados. Essa representação fornece uma visão geral da distribuição e padrões dos dados, facilitando a compreensão da sua dispersão e centralidade.\n"
      ],
      "metadata": {
        "id": "llc3dln8bIr_"
      }
    },
    {
      "cell_type": "markdown",
      "source": [
        "## **Carregando os dados**"
      ],
      "metadata": {
        "id": "S_bXj7Ycdi1f"
      }
    },
    {
      "cell_type": "markdown",
      "source": [
        "Para seguirmos será necessario executar importação de algumas bibliotecas"
      ],
      "metadata": {
        "id": "VgUNXnZUepNs"
      }
    },
    {
      "cell_type": "code",
      "source": [
        "# Manipulação de arquivos\n",
        "import pandas as pd\n",
        "\n",
        "# Algébra linear\n",
        "import numpy as np\n",
        "\n",
        "# Visualização de dados\n",
        "import matplotlib.pyplot as plt\n",
        "\n",
        "# Visualização de dados\n",
        "import seaborn as sns"
      ],
      "metadata": {
        "id": "5c3gdcwGev6V"
      },
      "execution_count": 3,
      "outputs": []
    },
    {
      "cell_type": "markdown",
      "source": [
        "Criando dados ficticios para execução das técnicas de distribuição de frequencia"
      ],
      "metadata": {
        "id": "aRaYKO1kdnDM"
      }
    },
    {
      "cell_type": "code",
      "execution_count": 4,
      "metadata": {
        "id": "6TD9WQciWM7Q"
      },
      "outputs": [],
      "source": [
        "# Criando uma tabela primitiva\n",
        "dados = np.array([160, 165, 167, 164, 160, 166, 160, 161, 150, 152, 173, 160, 155,\n",
        "                  164, 168, 162, 161, 168, 163, 156, 155, 169, 151, 170, 164,\n",
        "                  155, 152, 163, 160, 155, 157, 156, 158, 158, 161, 154, 161, 156, 172, 153])"
      ]
    },
    {
      "cell_type": "markdown",
      "source": [
        "## **Ordenando os dados**"
      ],
      "metadata": {
        "id": "EO_xzfe8fjG3"
      }
    },
    {
      "cell_type": "markdown",
      "source": [
        "Rol: Uma lista de todos os valores distintos observados em um conjunto de dados, organizados em ordem crescente."
      ],
      "metadata": {
        "id": "VThNJcEXg-JS"
      }
    },
    {
      "cell_type": "code",
      "source": [
        "# Utilizando o 'sort' para ordenar os dados\n",
        "dados = np.sort(dados)"
      ],
      "metadata": {
        "id": "bYdn9beMfktd"
      },
      "execution_count": 5,
      "outputs": []
    },
    {
      "cell_type": "code",
      "source": [
        "# Observando os dados\n",
        "dados"
      ],
      "metadata": {
        "colab": {
          "base_uri": "https://localhost:8080/"
        },
        "id": "kQoIIa1lf6T0",
        "outputId": "f6e989ec-5cf5-4a81-ec69-e7084efde1ad"
      },
      "execution_count": 6,
      "outputs": [
        {
          "output_type": "execute_result",
          "data": {
            "text/plain": [
              "array([150, 151, 152, 152, 153, 154, 155, 155, 155, 155, 156, 156, 156,\n",
              "       157, 158, 158, 160, 160, 160, 160, 160, 161, 161, 161, 161, 162,\n",
              "       163, 163, 164, 164, 164, 165, 166, 167, 168, 168, 169, 170, 172,\n",
              "       173])"
            ]
          },
          "metadata": {},
          "execution_count": 6
        }
      ]
    },
    {
      "cell_type": "markdown",
      "source": [
        "## **Limites de classes**"
      ],
      "metadata": {
        "id": "XAIIsqfqgRKx"
      }
    },
    {
      "cell_type": "markdown",
      "source": [
        "*Limites de Classe:* Os valores que definem os limites superiores e inferiores de cada intervalo. Os limites de classe podem ser expressos como $(L_i)$ (limite inferior) e $(L_s)$ (limite superior)."
      ],
      "metadata": {
        "id": "Qv9CLnzQi1jF"
      }
    },
    {
      "cell_type": "code",
      "source": [
        "# Limite superior\n",
        "maximo = dados.max()\n",
        "\n",
        "# Limite inferior\n",
        "minimo = dados.min()\n",
        "\n",
        "print(f\"O maior valor é {maximo} e o menor valor é {minimo}\")"
      ],
      "metadata": {
        "colab": {
          "base_uri": "https://localhost:8080/"
        },
        "id": "jI_AnA-Eh2Pv",
        "outputId": "9c16adc5-908e-4cc5-c8c1-c59710b79af6"
      },
      "execution_count": 7,
      "outputs": [
        {
          "output_type": "stream",
          "name": "stdout",
          "text": [
            "O maior valor é 173, o menor valor é 150\n"
          ]
        }
      ]
    },
    {
      "cell_type": "markdown",
      "source": [
        "## **Frequência**"
      ],
      "metadata": {
        "id": "HQfd_mlgie6w"
      }
    },
    {
      "cell_type": "markdown",
      "source": [
        "*Frequência:* O número de observações ou ocorrências em cada classe. A fórmula para calcular a frequência é $(f = \\text{Número de Observações na Classe})$."
      ],
      "metadata": {
        "id": "IngUuNAqjALs"
      }
    },
    {
      "cell_type": "code",
      "source": [
        "# Exibindo com que frequência as classes se repetem\n",
        "np.unique(dados, return_counts= True)"
      ],
      "metadata": {
        "colab": {
          "base_uri": "https://localhost:8080/"
        },
        "id": "gLlGHPlhiTCi",
        "outputId": "35e2eb11-d863-4384-9c5d-a8f53adbfb1d"
      },
      "execution_count": 8,
      "outputs": [
        {
          "output_type": "execute_result",
          "data": {
            "text/plain": [
              "(array([150, 151, 152, 153, 154, 155, 156, 157, 158, 160, 161, 162, 163,\n",
              "        164, 165, 166, 167, 168, 169, 170, 172, 173]),\n",
              " array([1, 1, 2, 1, 1, 4, 3, 1, 2, 5, 4, 1, 2, 3, 1, 1, 1, 2, 1, 1, 1, 1]))"
            ]
          },
          "metadata": {},
          "execution_count": 8
        }
      ]
    },
    {
      "cell_type": "code",
      "source": [
        "# Observando graficamente\n",
        "plt.bar(dados, dados);"
      ],
      "metadata": {
        "colab": {
          "base_uri": "https://localhost:8080/",
          "height": 430
        },
        "id": "w8rxtlBKjpK_",
        "outputId": "96cc223d-ab29-4a86-f447-fdd664375416"
      },
      "execution_count": 9,
      "outputs": [
        {
          "output_type": "display_data",
          "data": {
            "text/plain": [
              "<Figure size 640x480 with 1 Axes>"
            ],
            "image/png": "[encoded data removed]"
          },
          "metadata": {}
        }
      ]
    },
    {
      "cell_type": "markdown",
      "source": [
        "## **Número de classes**"
      ],
      "metadata": {
        "id": "YL3V3vNymrrg"
      }
    },
    {
      "cell_type": "markdown",
      "source": [
        "A Regra de Sturges é uma abordagem comum para determinar o número ideal de classes em uma distribuição de frequência para a construção de histogramas. Essa regra é baseada no tamanho da amostra e busca equilibrar a representatividade da distribuição sem gerar um excesso de classes.\n",
        "\n",
        "- Fórmula: $ k = 1 + 3.322 \\cdot \\log_{10}(n) $ (onde k é o número recomendado de classes e n é o tamanho da amostra.)\n"
      ],
      "metadata": {
        "id": "XBaqYI_fmxeH"
      }
    },
    {
      "cell_type": "code",
      "source": [
        "# Obtendo o tamanho da amostra\n",
        "n = len(dados)"
      ],
      "metadata": {
        "id": "8L73x1Z_n5R_"
      },
      "execution_count": 10,
      "outputs": []
    },
    {
      "cell_type": "markdown",
      "source": [
        "Ao aplicar a fórmula é necessario arredondar o valor, por isso é necessario aplicar a função 'round' na fórmula."
      ],
      "metadata": {
        "id": "69XDN2gjoVwM"
      }
    },
    {
      "cell_type": "code",
      "source": [
        "# Aplicando a fórmula\n",
        "k = (1 + 3.3 * np.log10(n)).round()\n",
        "\n",
        "print(f\"O número de classes é {k}\")"
      ],
      "metadata": {
        "colab": {
          "base_uri": "https://localhost:8080/"
        },
        "id": "YLTqv2JnoA7Q",
        "outputId": "9e7f88f1-2516-431c-fbec-d103e7c4047b"
      },
      "execution_count": 12,
      "outputs": [
        {
          "output_type": "stream",
          "name": "stdout",
          "text": [
            "O número de classes é 6.0\n"
          ]
        }
      ]
    },
    {
      "cell_type": "markdown",
      "source": [
        "## **Amplitude do intervalo**"
      ],
      "metadata": {
        "id": "_dtjUD_gkJcj"
      }
    },
    {
      "cell_type": "markdown",
      "source": [
        "A **amplitude de intervalo** é a diferença entre o maior e o menor valor em todo o conjunto de dados. A fórmula para calcular a amplitude do intervalo é\n",
        "*Fórmula:* $\\text{Amplitude de Intervalo} = \\text{Maior Valor} - \\text{Menor Valor}$"
      ],
      "metadata": {
        "id": "OcyhGAGKk5cW"
      }
    },
    {
      "cell_type": "code",
      "source": [
        "# Calculando a amplitude do intervalo\n",
        "amplitude_intervalo = max(dados) - min(dados)\n",
        "\n",
        "\n",
        "# Exibindo o resultado\n",
        "print(f\"Amplitude do Intervalo: {amplitude_intervalo}\")"
      ],
      "metadata": {
        "colab": {
          "base_uri": "https://localhost:8080/"
        },
        "id": "04VRVVRepKkP",
        "outputId": "9cd71ae7-50d6-4021-e647-0458ea9d39fe"
      },
      "execution_count": 14,
      "outputs": [
        {
          "output_type": "stream",
          "name": "stdout",
          "text": [
            "Amplitude do Intervalo: 23\n"
          ]
        }
      ]
    },
    {
      "cell_type": "markdown",
      "source": [
        "## **Amplitude de Classe**"
      ],
      "metadata": {
        "id": "OBe9BS1Xl2XH"
      }
    },
    {
      "cell_type": "markdown",
      "source": [
        "**Amplitude de Classe:** A diferença entre os limites de duas classes consecutivas. A fórmula para calcular a amplitude de classe é $(A = L_s - L_i)$."
      ],
      "metadata": {
        "id": "7tZY9F4SkZMK"
      }
    },
    {
      "cell_type": "markdown",
      "source": [
        "A amplitude do intervalo é uma medida que indica a extensão total dos valores em um conjunto de dados. É calculada subtraindo o menor valor do maior valor presente nos dados."
      ],
      "metadata": {
        "id": "-LaTDiKKkIF9"
      }
    }
  ]
}