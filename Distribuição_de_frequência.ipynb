{
  "nbformat": 4,
  "nbformat_minor": 0,
  "metadata": {
    "colab": {
      "provenance": [],
      "collapsed_sections": [
        "5mf81nQe5346",
        "S_bXj7Ycdi1f",
        "EO_xzfe8fjG3",
        "HQfd_mlgie6w",
        "YL3V3vNymrrg",
        "_dtjUD_gkJcj",
        "FFWic8NIyQOx",
        "BWuTEXnCuXtQ",
        "jQthAEBTucrW",
        "-ewKqre83hVb",
        "FblW2o4i6-PQ",
        "N-sFDfjQ0_Nq",
        "9feSy5cJ1WHw",
        "u8QCbjUA5y3l"
      ],
      "authorship_tag": "ABX9TyNGrT982ggyy4GFh1ts9glJ",
      "include_colab_link": true
    },
    "kernelspec": {
      "name": "python3",
      "display_name": "Python 3"
    },
    "language_info": {
      "name": "python"
    }
  },
  "cells": [
    {
      "cell_type": "markdown",
      "metadata": {
        "id": "view-in-github",
        "colab_type": "text"
      },
      "source": [
        "<a href=\"https://colab.research.google.com/github/JosenildoJunior/StatPyDataScience/blob/main/Distribui%C3%A7%C3%A3o_de_frequ%C3%AAncia.ipynb\" target=\"_parent\"><img src=\"https://colab.research.google.com/assets/colab-badge.svg\" alt=\"Open In Colab\"/></a>"
      ]
    },
    {
      "cell_type": "markdown",
      "source": [
        "# Estatística com Python: Um Guia para Estudos e Solução de Problemas\n"
      ],
      "metadata": {
        "id": "yS_8dvRnbHcw"
      }
    },
    {
      "cell_type": "markdown",
      "source": [
        "# **Distribuição de frequência**"
      ],
      "metadata": {
        "id": "5mf81nQe5346"
      }
    },
    {
      "cell_type": "markdown",
      "source": [
        "**Breve Resumo:**\n",
        "\n",
        "A distribuição de frequência é uma técnica estatística que organiza e apresenta dados em categorias, exibindo a frequência com que cada categoria ocorre. Essa análise oferece insights sobre a distribuição e padrões de ocorrência de valores em um conjunto de dados, facilitando a compreensão da variabilidade e da tendência central.\n",
        "\n",
        "**Quando Utilizar:**\n",
        "\n",
        "- Para visualizar a frequência com que diferentes valores ou faixas ocorrem em um conjunto de dados.\n",
        "- Ao identificar padrões, outliers ou clusters de valores que podem influenciar a análise.\n",
        "- Em situações em que a compreensão da variabilidade e da tendência é essencial.\n",
        "- Para comunicar informações de maneira visual e facilitar a interpretação de dados extensos.\n",
        "- Em análises exploratórias, permitindo uma compreensão inicial da distribuição dos dados antes de análises mais aprofundadas."
      ],
      "metadata": {
        "id": "H_hzXOiA57ox"
      }
    },
    {
      "cell_type": "markdown",
      "source": [
        "## **Carregando os dados**"
      ],
      "metadata": {
        "id": "S_bXj7Ycdi1f"
      }
    },
    {
      "cell_type": "markdown",
      "source": [
        "Para seguirmos será necessario executar importação de algumas bibliotecas"
      ],
      "metadata": {
        "id": "VgUNXnZUepNs"
      }
    },
    {
      "cell_type": "code",
      "source": [
        "# Manipulação de arquivos\n",
        "import pandas as pd\n",
        "\n",
        "# Algébra linear\n",
        "import numpy as np\n",
        "\n",
        "# Visualização de dados\n",
        "import matplotlib.pyplot as plt\n",
        "\n",
        "# Visualização de dados\n",
        "import seaborn as sns\n",
        "\n",
        "# Funções matemáticas\n",
        "import math"
      ],
      "metadata": {
        "id": "5c3gdcwGev6V"
      },
      "execution_count": null,
      "outputs": []
    },
    {
      "cell_type": "markdown",
      "source": [
        "Criando dados ficticios para execução das técnicas de distribuição de frequencia"
      ],
      "metadata": {
        "id": "aRaYKO1kdnDM"
      }
    },
    {
      "cell_type": "code",
      "execution_count": null,
      "metadata": {
        "id": "6TD9WQciWM7Q"
      },
      "outputs": [],
      "source": [
        "# Criando uma tabela primitiva\n",
        "dados = np.array([160, 165, 167, 164, 160, 166, 160, 161, 150, 152, 173, 160, 155,\n",
        "                  164, 168, 162, 161, 168, 163, 156, 155, 169, 151, 170, 164,\n",
        "                  155, 152, 163, 160, 155, 157, 156, 158, 158, 161, 154, 161, 156, 172, 153])"
      ]
    },
    {
      "cell_type": "markdown",
      "source": [
        "## **Ordenando os dados**"
      ],
      "metadata": {
        "id": "EO_xzfe8fjG3"
      }
    },
    {
      "cell_type": "markdown",
      "source": [
        "Rol: Uma lista de todos os valores distintos observados em um conjunto de dados, organizados em ordem crescente."
      ],
      "metadata": {
        "id": "VThNJcEXg-JS"
      }
    },
    {
      "cell_type": "code",
      "source": [
        "# Utilizando o 'sort' para ordenar os dados\n",
        "dados = np.sort(dados)"
      ],
      "metadata": {
        "id": "bYdn9beMfktd"
      },
      "execution_count": null,
      "outputs": []
    },
    {
      "cell_type": "code",
      "source": [
        "# Observando os dados\n",
        "dados"
      ],
      "metadata": {
        "colab": {
          "base_uri": "https://localhost:8080/"
        },
        "id": "kQoIIa1lf6T0",
        "outputId": "ea03aa55-c89a-4365-93da-5f3dcdbce400"
      },
      "execution_count": null,
      "outputs": [
        {
          "output_type": "execute_result",
          "data": {
            "text/plain": [
              "array([150, 151, 152, 152, 153, 154, 155, 155, 155, 155, 156, 156, 156,\n",
              "       157, 158, 158, 160, 160, 160, 160, 160, 161, 161, 161, 161, 162,\n",
              "       163, 163, 164, 164, 164, 165, 166, 167, 168, 168, 169, 170, 172,\n",
              "       173])"
            ]
          },
          "metadata": {},
          "execution_count": 4
        }
      ]
    },
    {
      "cell_type": "markdown",
      "source": [
        "Obtendo o valor minimo e maximo para utilizar os valores futuramente"
      ],
      "metadata": {
        "id": "bgeTGOtGvuxO"
      }
    },
    {
      "cell_type": "code",
      "source": [
        "# Pegando o menor valor\n",
        "minimo = dados.min()\n",
        "\n",
        "# Pegando o maior valor\n",
        "maximo = dados.max()\n",
        "\n",
        "print(f\"O menor valor é: {minimo} e o maior valor é: {maximo}\")"
      ],
      "metadata": {
        "colab": {
          "base_uri": "https://localhost:8080/"
        },
        "id": "y_1IbY2VvycF",
        "outputId": "3bb7d393-eec5-4175-977a-08089dd7b237"
      },
      "execution_count": null,
      "outputs": [
        {
          "output_type": "stream",
          "name": "stdout",
          "text": [
            "O menor valor é: 150 e o maior valor é: 173\n"
          ]
        }
      ]
    },
    {
      "cell_type": "markdown",
      "source": [
        "## **Frequência**"
      ],
      "metadata": {
        "id": "HQfd_mlgie6w"
      }
    },
    {
      "cell_type": "markdown",
      "source": [
        "*Frequência:* O número de observações ou ocorrências em cada classe. A fórmula para calcular a frequência é $(f = \\text{Número de Observações na Classe})$."
      ],
      "metadata": {
        "id": "IngUuNAqjALs"
      }
    },
    {
      "cell_type": "code",
      "source": [
        "# Exibindo com que frequência as classes se repetem\n",
        "np.unique(dados, return_counts= True)"
      ],
      "metadata": {
        "colab": {
          "base_uri": "https://localhost:8080/"
        },
        "id": "gLlGHPlhiTCi",
        "outputId": "48b8f662-5c37-4cdc-8917-66e3d807ec83"
      },
      "execution_count": null,
      "outputs": [
        {
          "output_type": "execute_result",
          "data": {
            "text/plain": [
              "(array([150, 151, 152, 153, 154, 155, 156, 157, 158, 160, 161, 162, 163,\n",
              "        164, 165, 166, 167, 168, 169, 170, 172, 173]),\n",
              " array([1, 1, 2, 1, 1, 4, 3, 1, 2, 5, 4, 1, 2, 3, 1, 1, 1, 2, 1, 1, 1, 1]))"
            ]
          },
          "metadata": {},
          "execution_count": 5
        }
      ]
    },
    {
      "cell_type": "code",
      "source": [
        "# Observando graficamente\n",
        "plt.bar(dados, dados);"
      ],
      "metadata": {
        "colab": {
          "base_uri": "https://localhost:8080/",
          "height": 430
        },
        "id": "w8rxtlBKjpK_",
        "outputId": "1ab82c24-cffb-4343-8fd0-e93b8117b360"
      },
      "execution_count": null,
      "outputs": [
        {
          "output_type": "display_data",
          "data": {
            "text/plain": [
              "<Figure size 640x480 with 1 Axes>"
            ],
            "image/png": "[encoded data removed]"
          },
          "metadata": {}
        }
      ]
    },
    {
      "cell_type": "markdown",
      "source": [
        "## **Número de classes**"
      ],
      "metadata": {
        "id": "YL3V3vNymrrg"
      }
    },
    {
      "cell_type": "markdown",
      "source": [
        "A Regra de Sturges é uma abordagem comum para determinar o número ideal de classes em uma distribuição de frequência para a construção de histogramas. Essa regra é baseada no tamanho da amostra e busca equilibrar a representatividade da distribuição sem gerar um excesso de classes.\n",
        "\n",
        "- Fórmula: $ k = 1 + 3.322 \\cdot \\log_{10}(n) $ (onde k é o número recomendado de classes e n é o tamanho da amostra.)\n"
      ],
      "metadata": {
        "id": "XBaqYI_fmxeH"
      }
    },
    {
      "cell_type": "code",
      "source": [
        "# Obtendo o tamanho da amostra\n",
        "n = len(dados)"
      ],
      "metadata": {
        "id": "8L73x1Z_n5R_"
      },
      "execution_count": null,
      "outputs": []
    },
    {
      "cell_type": "markdown",
      "source": [
        "Ao aplicar a fórmula é necessario arredondar o valor, por isso é necessario aplicar a função 'round' na fórmula."
      ],
      "metadata": {
        "id": "69XDN2gjoVwM"
      }
    },
    {
      "cell_type": "code",
      "source": [
        "# Aplicando a fórmula\n",
        "k = (1 + 3.3 * np.log10(n)).round()\n",
        "\n",
        "print(f\"O número de classes é {k}\")"
      ],
      "metadata": {
        "colab": {
          "base_uri": "https://localhost:8080/"
        },
        "id": "YLTqv2JnoA7Q",
        "outputId": "5e201be1-cc22-46d5-fc41-7811a75a7bdc"
      },
      "execution_count": null,
      "outputs": [
        {
          "output_type": "stream",
          "name": "stdout",
          "text": [
            "O número de classes é 6.0\n"
          ]
        }
      ]
    },
    {
      "cell_type": "markdown",
      "source": [
        "## **Amplitude amostral (AA)**"
      ],
      "metadata": {
        "id": "_dtjUD_gkJcj"
      }
    },
    {
      "cell_type": "markdown",
      "source": [
        "**Amplitude Amostral:**\n",
        "A amplitude amostral $(AA)$ é uma medida que representa a extensão total dos dados em um conjunto, calculada subtraindo o menor valor observado $(X_{\\text{mínimo}}$) do maior valor observado $(X_{\\text{máximo}}$).\n",
        "\n",
        "\n",
        "Amplitude Amostral $(A) = X_{\\text{máximo}} - X_{\\text{mínimo}}$\n"
      ],
      "metadata": {
        "id": "OcyhGAGKk5cW"
      }
    },
    {
      "cell_type": "code",
      "source": [
        "# Calculando a amplitude do intervalo\n",
        "amplitude_amostral = max(dados) - min(dados)\n",
        "\n",
        "\n",
        "# Exibindo o resultado\n",
        "print(f\"Amplitude do amostral: {amplitude_amostral}\")"
      ],
      "metadata": {
        "colab": {
          "base_uri": "https://localhost:8080/"
        },
        "id": "04VRVVRepKkP",
        "outputId": "21276c5a-a203-4a7a-efd5-d43d94187cb2"
      },
      "execution_count": null,
      "outputs": [
        {
          "output_type": "stream",
          "name": "stdout",
          "text": [
            "Amplitude do amostral: 23\n"
          ]
        }
      ]
    },
    {
      "cell_type": "markdown",
      "source": [
        "## **Amplitude do intervalo de classe**"
      ],
      "metadata": {
        "id": "FFWic8NIyQOx"
      }
    },
    {
      "cell_type": "markdown",
      "source": [
        "A amplitude do intervalo de classe é uma medida estatística que representa a largura de cada intervalo em uma distribuição de frequência."
      ],
      "metadata": {
        "id": "5Scnv0xVzv3v"
      }
    },
    {
      "cell_type": "code",
      "source": [
        "# Calculando a amplitude do intervalo de classe\n",
        "h = amplitude_amostral / k\n",
        "\n",
        "# Arrendondando o valor para cima\n",
        "h = math.ceil(h)\n",
        "\n",
        "# Exibindo a amplitude do intervalo de classe\n",
        "print(f\"A amplitude do intervalo de classe é: {h}\")"
      ],
      "metadata": {
        "colab": {
          "base_uri": "https://localhost:8080/"
        },
        "id": "W0KfpeZqyW7H",
        "outputId": "ad722f62-ee21-4d3f-899e-685635982d48"
      },
      "execution_count": null,
      "outputs": [
        {
          "output_type": "stream",
          "name": "stdout",
          "text": [
            "A amplitude do intervalo de classe é: 4\n"
          ]
        }
      ]
    },
    {
      "cell_type": "markdown",
      "source": [
        "Agora que já possuímos a amplitude amostral, a amplitude do intervalo e o número de classes, podemos prosseguir com a construção da distribuição de frequência."
      ],
      "metadata": {
        "id": "2lSpVR99qH6w"
      }
    },
    {
      "cell_type": "markdown",
      "source": [
        "## **Construção da distribuição**"
      ],
      "metadata": {
        "id": "BWuTEXnCuXtQ"
      }
    },
    {
      "cell_type": "markdown",
      "source": [
        "Para a construção da distribuição propriamente dita, podemos utilizar uma abordagem um pouco mais manual, usando listas e loops. Alternativamente, podemos simplesmente utilizar bibliotecas que nos auxiliam nessa tarefa. Vamos explorar ambas as abordagens."
      ],
      "metadata": {
        "id": "iKbjb6GWu4Gb"
      }
    },
    {
      "cell_type": "markdown",
      "source": [
        "### *Construção manual*"
      ],
      "metadata": {
        "id": "jQthAEBTucrW"
      }
    },
    {
      "cell_type": "markdown",
      "source": [
        "Primeiro, vamos criar um intervalo. Para isso, utilizamos a função do NumPy chamada `arange`. Passamos como argumento o menor valor, que neste caso é 150, e o maior valor, que é 173. No entanto, devido ao nosso 'step', esta função pegaria o último valor - 1. Por isso, adicionamos +2. Dessa forma, a função abrange todos os valores, e 'h' refere-se ao intervalo de uma classe para outra."
      ],
      "metadata": {
        "id": "Mmxxgujju81i"
      }
    },
    {
      "cell_type": "code",
      "source": [
        "# Criando os intervalos\n",
        "intervalos = np.arange(minimo, maximo + 2, step = h)\n",
        "\n",
        "# Observando os valores\n",
        "intervalos"
      ],
      "metadata": {
        "colab": {
          "base_uri": "https://localhost:8080/"
        },
        "id": "EY8136ayvZWQ",
        "outputId": "f2a25142-222b-4ad3-c4aa-34704408057b"
      },
      "execution_count": null,
      "outputs": [
        {
          "output_type": "execute_result",
          "data": {
            "text/plain": [
              "array([150, 154, 158, 162, 166, 170])"
            ]
          },
          "metadata": {},
          "execution_count": 25
        }
      ]
    },
    {
      "cell_type": "markdown",
      "source": [
        "Criando um bloco condicional dentro de um loop para realizar a contagem de cada uma das frequências nas suas respectivas classes."
      ],
      "metadata": {
        "id": "4eTRQ3JE08ue"
      }
    },
    {
      "cell_type": "code",
      "source": [
        "intervalo1, intervalo2, intervalo3, intervalo4, intervalo5, intervalo6 = 0,0,0,0,0,0\n",
        "for i in range(n):\n",
        "  if dados[i] >= intervalos[0] and dados[i] < intervalos[1]:\n",
        "    intervalo1 += 1\n",
        "  elif dados[i] >= intervalos[1] and dados[i] < intervalos[2]:\n",
        "    intervalo2 += 1\n",
        "  elif dados[i] >= intervalos[2] and dados[i] < intervalos[3]:\n",
        "    intervalo3 += 1\n",
        "  elif dados[i] >= intervalos[3] and dados[i] < intervalos[4]:\n",
        "    intervalo4 += 1\n",
        "  elif dados[i] >= intervalos[4] and dados[i] < intervalos[5]:\n",
        "    intervalo5 += 1\n",
        "  elif dados[i] >= intervalos[5] and dados[i] < intervalos[6]:\n",
        "    intervalo6 += 1"
      ],
      "metadata": {
        "id": "9QtSbk9NutfM"
      },
      "execution_count": null,
      "outputs": []
    },
    {
      "cell_type": "markdown",
      "source": [
        "Incrementando todos os valores da contagem da frequência em uma lista."
      ],
      "metadata": {
        "id": "rRtgqVwz1b6C"
      }
    },
    {
      "cell_type": "code",
      "source": [
        "# Criando a lista\n",
        "lista_intervalos = []\n",
        "lista_intervalos.append(intervalo1)\n",
        "lista_intervalos.append(intervalo2)\n",
        "lista_intervalos.append(intervalo3)\n",
        "lista_intervalos.append(intervalo4)\n",
        "lista_intervalos.append(intervalo5)\n",
        "lista_intervalos.append(intervalo6)\n",
        "lista_intervalos"
      ],
      "metadata": {
        "colab": {
          "base_uri": "https://localhost:8080/"
        },
        "id": "czq0JXEbwzX9",
        "outputId": "aefdd12f-4b90-41ff-ac61-17150623c79c"
      },
      "execution_count": null,
      "outputs": [
        {
          "output_type": "execute_result",
          "data": {
            "text/plain": [
              "[5, 9, 11, 7, 5, 3]"
            ]
          },
          "metadata": {},
          "execution_count": 14
        }
      ]
    },
    {
      "cell_type": "markdown",
      "source": [
        "Criando uma e percorrendo os valores presentes na 'lista_intervalos' e concatenando com os valores dos intervalos criados logo acima."
      ],
      "metadata": {
        "id": "UagGwRlg1ype"
      }
    },
    {
      "cell_type": "code",
      "source": [
        "# Criando a lista\n",
        "lista_classes = []\n",
        "\n",
        "# Criando um laço de repetição\n",
        "for i in range(len(lista_intervalos)):\n",
        "  lista_classes.append(str(intervalos[i]) + '-' + str(intervalos[i + 1]))"
      ],
      "metadata": {
        "id": "ClYXQvh3w1T1"
      },
      "execution_count": null,
      "outputs": []
    },
    {
      "cell_type": "code",
      "source": [
        "# Observando a lista\n",
        "lista_classes"
      ],
      "metadata": {
        "colab": {
          "base_uri": "https://localhost:8080/"
        },
        "id": "M7R2xR0cw408",
        "outputId": "2bf49b18-681b-419e-cab3-0d01ecf63157"
      },
      "execution_count": null,
      "outputs": [
        {
          "output_type": "execute_result",
          "data": {
            "text/plain": [
              "['150-154', '154-158', '158-162', '162-166', '166-170', '170-174']"
            ]
          },
          "metadata": {},
          "execution_count": 16
        }
      ]
    },
    {
      "cell_type": "markdown",
      "source": [
        "Gerando a visualização da distribuição de frequência criada manualmente."
      ],
      "metadata": {
        "id": "gpIHbh4Y2YQ0"
      }
    },
    {
      "cell_type": "code",
      "source": [
        "plt.bar(lista_classes, lista_intervalos)\n",
        "plt.title('Distribuição de frequência - histograma')\n",
        "plt.xlabel('intervalos')\n",
        "plt.ylabel('valores');"
      ],
      "metadata": {
        "colab": {
          "base_uri": "https://localhost:8080/",
          "height": 472
        },
        "id": "tg27wYTvw3t1",
        "outputId": "a526103f-ff52-48bb-9e18-c1945bb79550"
      },
      "execution_count": null,
      "outputs": [
        {
          "output_type": "display_data",
          "data": {
            "text/plain": [
              "<Figure size 640x480 with 1 Axes>"
            ],
            "image/png": "[encoded data removed]"
          },
          "metadata": {}
        }
      ]
    },
    {
      "cell_type": "markdown",
      "source": [
        "Observar uma distribuição dessa forma é bem mais agradável; no entanto, a construção ficou um pouco trabalhosa, por assim dizer. Dito isso, vamos para uma criação utilizando as bibliotecas disponíveis."
      ],
      "metadata": {
        "id": "o-y5H2rH3Gcu"
      }
    },
    {
      "cell_type": "markdown",
      "source": [
        "### *Histograma com numpy e matplotlib*"
      ],
      "metadata": {
        "id": "-ewKqre83hVb"
      }
    },
    {
      "cell_type": "markdown",
      "source": [
        "Recriando os mesmos dados utilizados acima."
      ],
      "metadata": {
        "id": "6iE2F6dF4EuP"
      }
    },
    {
      "cell_type": "code",
      "source": [
        "# Criando uma tabela primitiva\n",
        "dados = np.array([160, 165, 167, 164, 160, 166, 160, 161, 150, 152, 173, 160, 155,\n",
        "                  164, 168, 162, 161, 168, 163, 156, 155, 169, 151, 170, 164,\n",
        "                  155, 152, 163, 160, 155, 157, 156, 158, 158, 161, 154, 161, 156, 172, 153])"
      ],
      "metadata": {
        "id": "vqrWJKFM4ELY"
      },
      "execution_count": null,
      "outputs": []
    },
    {
      "cell_type": "markdown",
      "source": [
        "Agora, criamos duas variáveis chamadas 'frequencia' e 'classes', onde está sendo armazenada a função histograma do numpy. Essa função recebe como parâmetros os dados, e o parâmetro 'bins' refere-se ao intervalo de classes. Nele, foi passado como parâmetro o 'sturges', que foi a técnica utilizada acima para calcular a amplitude do intervalo de classe.\n",
        "\n",
        "\n",
        "\n",
        "\n",
        "\n"
      ],
      "metadata": {
        "id": "WmE_Pz2r30uI"
      }
    },
    {
      "cell_type": "code",
      "source": [
        "# Criando a distribuição de frequência\n",
        "frequencia, classes = np.histogram(dados, bins = 'sturges')\n",
        "\n",
        "\n",
        "# Observando os valores das classes e da distribuição\n",
        "frequencia, classes"
      ],
      "metadata": {
        "colab": {
          "base_uri": "https://localhost:8080/"
        },
        "id": "PtqjIBeY3o0w",
        "outputId": "60d64243-2374-4af0-f898-79afeb9f6cbf"
      },
      "execution_count": null,
      "outputs": [
        {
          "output_type": "execute_result",
          "data": {
            "text/plain": [
              "(array([ 5,  8,  3, 12,  5,  4,  3]),\n",
              " array([150.        , 153.28571429, 156.57142857, 159.85714286,\n",
              "        163.14285714, 166.42857143, 169.71428571, 173.        ]))"
            ]
          },
          "metadata": {},
          "execution_count": 31
        }
      ]
    },
    {
      "cell_type": "markdown",
      "source": [
        "Podemos observar uma pequena diferença nos intervalos de classes. Muito provavelmente, isso ocorreu porque, ao calcularmos o número de classes, arredondamos o valor para baixo, obtendo assim o valor 6. Caso não tivéssemos arredondado, o valor teria sido aproximadamente 6,28."
      ],
      "metadata": {
        "id": "xwGSVcIt4uKh"
      }
    },
    {
      "cell_type": "code",
      "source": [
        "# Gerando a visualização\n",
        "plt.hist(dados, classes)\n",
        "plt.title('Distribuição de frequência - histograma')\n",
        "plt.xlabel('Intervalos')\n",
        "plt.ylabel('Frequência');"
      ],
      "metadata": {
        "colab": {
          "base_uri": "https://localhost:8080/",
          "height": 472
        },
        "id": "iAeA44AM4toU",
        "outputId": "569b7215-152b-4c2d-ef39-e3c6a2ab2417"
      },
      "execution_count": null,
      "outputs": [
        {
          "output_type": "display_data",
          "data": {
            "text/plain": [
              "<Figure size 640x480 with 1 Axes>"
            ],
            "image/png": "[encoded data removed]"
          },
          "metadata": {}
        }
      ]
    },
    {
      "cell_type": "markdown",
      "source": [
        "Podemos observar uma semelhança na visualização. Conseguimos atingir um resultado bem semelhante utilizando bem menos linhas de código, o que pode tornar essa solução bem mais viável."
      ],
      "metadata": {
        "id": "QG-lbkmc6cAc"
      }
    },
    {
      "cell_type": "markdown",
      "source": [
        "### *Distribuição de frequência com pandas e seaborn*"
      ],
      "metadata": {
        "id": "FblW2o4i6-PQ"
      }
    },
    {
      "cell_type": "markdown",
      "source": [
        "Esse método será utilizado para a criação de distribuição em dados no formato de um DataFrame, por exemplo."
      ],
      "metadata": {
        "id": "EG7kTr4W7YW0"
      }
    },
    {
      "cell_type": "code",
      "source": [
        "# Observando o tipo do dado\n",
        "type(dados)"
      ],
      "metadata": {
        "colab": {
          "base_uri": "https://localhost:8080/"
        },
        "id": "5eHuWlrh7Pr3",
        "outputId": "61a80c3a-ca43-4fda-b391-ec951e40839f"
      },
      "execution_count": null,
      "outputs": [
        {
          "output_type": "execute_result",
          "data": {
            "text/plain": [
              "numpy.ndarray"
            ]
          },
          "metadata": {},
          "execution_count": 38
        }
      ]
    },
    {
      "cell_type": "markdown",
      "source": [
        "Observamos, desta forma, que até agora estávamos trabalhando com dados no formato NumPy.\n",
        "\n",
        "\n",
        "\n",
        "\n",
        "\n"
      ],
      "metadata": {
        "id": "ZW-TJk4O7nTb"
      }
    },
    {
      "cell_type": "code",
      "source": [
        "# Convertendo os dados para um Data Frame\n",
        "df = pd.DataFrame({'dados': dados})\n",
        "\n",
        "# Observando os valores\n",
        "df.head()"
      ],
      "metadata": {
        "colab": {
          "base_uri": "https://localhost:8080/",
          "height": 206
        },
        "id": "OIVVBf4P8RrF",
        "outputId": "88189682-34d9-439f-855b-4efee1180fd8"
      },
      "execution_count": null,
      "outputs": [
        {
          "output_type": "execute_result",
          "data": {
            "text/plain": [
              "   dados\n",
              "0    160\n",
              "1    165\n",
              "2    167\n",
              "3    164\n",
              "4    160"
            ],
            "text/html": [
              "\n",
              "  <div id=\"df-d51b6960-3dce-40be-8731-34aebea3a606\" class=\"colab-df-container\">\n",
              "    <div>\n",
              "<style scoped>\n",
              "    .dataframe tbody tr th:only-of-type {\n",
              "        vertical-align: middle;\n",
              "    }\n",
              "\n",
              "    .dataframe tbody tr th {\n",
              "        vertical-align: top;\n",
              "    }\n",
              "\n",
              "    .dataframe thead th {\n",
              "        text-align: right;\n",
              "    }\n",
              "</style>\n",
              "<table border=\"1\" class=\"dataframe\">\n",
              "  <thead>\n",
              "    <tr style=\"text-align: right;\">\n",
              "      <th></th>\n",
              "      <th>dados</th>\n",
              "    </tr>\n",
              "  </thead>\n",
              "  <tbody>\n",
              "    <tr>\n",
              "      <th>0</th>\n",
              "      <td>160</td>\n",
              "    </tr>\n",
              "    <tr>\n",
              "      <th>1</th>\n",
              "      <td>165</td>\n",
              "    </tr>\n",
              "    <tr>\n",
              "      <th>2</th>\n",
              "      <td>167</td>\n",
              "    </tr>\n",
              "    <tr>\n",
              "      <th>3</th>\n",
              "      <td>164</td>\n",
              "    </tr>\n",
              "    <tr>\n",
              "      <th>4</th>\n",
              "      <td>160</td>\n",
              "    </tr>\n",
              "  </tbody>\n",
              "</table>\n",
              "</div>\n",
              "    <div class=\"colab-df-buttons\">\n",
              "\n",
              "  <div class=\"colab-df-container\">\n",
              "    <button class=\"colab-df-convert\" onclick=\"convertToInteractive('df-d51b6960-3dce-40be-8731-34aebea3a606')\"\n",
              "            title=\"Convert this dataframe to an interactive table.\"\n",
              "            style=\"display:none;\">\n",
              "\n",
              "  <svg xmlns=\"http://www.w3.org/2000/svg\" height=\"24px\" viewBox=\"0 -960 960 960\">\n",
              "    <path d=\"M120-120v-720h720v720H120Zm60-500h600v-160H180v160Zm220 220h160v-160H400v160Zm0 220h160v-160H400v160ZM180-400h160v-160H180v160Zm440 0h160v-160H620v160ZM180-180h160v-160H180v160Zm440 0h160v-160H620v160Z\"/>\n",
              "  </svg>\n",
              "    </button>\n",
              "\n",
              "  <style>\n",
              "    .colab-df-container {\n",
              "      display:flex;\n",
              "      gap: 12px;\n",
              "    }\n",
              "\n",
              "    .colab-df-convert {\n",
              "      background-color: #E8F0FE;\n",
              "      border: none;\n",
              "      border-radius: 50%;\n",
              "      cursor: pointer;\n",
              "      display: none;\n",
              "      fill: #1967D2;\n",
              "      height: 32px;\n",
              "      padding: 0 0 0 0;\n",
              "      width: 32px;\n",
              "    }\n",
              "\n",
              "    .colab-df-convert:hover {\n",
              "      background-color: #E2EBFA;\n",
              "      box-shadow: 0px 1px 2px rgba(60, 64, 67, 0.3), 0px 1px 3px 1px rgba(60, 64, 67, 0.15);\n",
              "      fill: #174EA6;\n",
              "    }\n",
              "\n",
              "    .colab-df-buttons div {\n",
              "      margin-bottom: 4px;\n",
              "    }\n",
              "\n",
              "    [theme=dark] .colab-df-convert {\n",
              "      background-color: #3B4455;\n",
              "      fill: #D2E3FC;\n",
              "    }\n",
              "\n",
              "    [theme=dark] .colab-df-convert:hover {\n",
              "      background-color: #434B5C;\n",
              "      box-shadow: 0px 1px 3px 1px rgba(0, 0, 0, 0.15);\n",
              "      filter: drop-shadow(0px 1px 2px rgba(0, 0, 0, 0.3));\n",
              "      fill: #FFFFFF;\n",
              "    }\n",
              "  </style>\n",
              "\n",
              "    <script>\n",
              "      const buttonEl =\n",
              "        document.querySelector('#df-d51b6960-3dce-40be-8731-34aebea3a606 button.colab-df-convert');\n",
              "      buttonEl.style.display =\n",
              "        google.colab.kernel.accessAllowed ? 'block' : 'none';\n",
              "\n",
              "      async function convertToInteractive(key) {\n",
              "        const element = document.querySelector('#df-d51b6960-3dce-40be-8731-34aebea3a606');\n",
              "        const dataTable =\n",
              "          await google.colab.kernel.invokeFunction('convertToInteractive',\n",
              "                                                    [key], {});\n",
              "        if (!dataTable) return;\n",
              "\n",
              "        const docLinkHtml = 'Like what you see? Visit the ' +\n",
              "          '<a target=\"_blank\" href=https://colab.research.google.com/notebooks/data_table.ipynb>data table notebook</a>'\n",
              "          + ' to learn more about interactive tables.';\n",
              "        element.innerHTML = '';\n",
              "        dataTable['output_type'] = 'display_data';\n",
              "        await google.colab.output.renderOutput(dataTable, element);\n",
              "        const docLink = document.createElement('div');\n",
              "        docLink.innerHTML = docLinkHtml;\n",
              "        element.appendChild(docLink);\n",
              "      }\n",
              "    </script>\n",
              "  </div>\n",
              "\n",
              "\n",
              "<div id=\"df-0846e872-d774-42c8-a201-51bbb3de92c5\">\n",
              "  <button class=\"colab-df-quickchart\" onclick=\"quickchart('df-0846e872-d774-42c8-a201-51bbb3de92c5')\"\n",
              "            title=\"Suggest charts\"\n",
              "            style=\"display:none;\">\n",
              "\n",
              "<svg xmlns=\"http://www.w3.org/2000/svg\" height=\"24px\"viewBox=\"0 0 24 24\"\n",
              "     width=\"24px\">\n",
              "    <g>\n",
              "        <path d=\"M19 3H5c-1.1 0-2 .9-2 2v14c0 1.1.9 2 2 2h14c1.1 0 2-.9 2-2V5c0-1.1-.9-2-2-2zM9 17H7v-7h2v7zm4 0h-2V7h2v10zm4 0h-2v-4h2v4z\"/>\n",
              "    </g>\n",
              "</svg>\n",
              "  </button>\n",
              "\n",
              "<style>\n",
              "  .colab-df-quickchart {\n",
              "      --bg-color: #E8F0FE;\n",
              "      --fill-color: #1967D2;\n",
              "      --hover-bg-color: #E2EBFA;\n",
              "      --hover-fill-color: #174EA6;\n",
              "      --disabled-fill-color: #AAA;\n",
              "      --disabled-bg-color: #DDD;\n",
              "  }\n",
              "\n",
              "  [theme=dark] .colab-df-quickchart {\n",
              "      --bg-color: #3B4455;\n",
              "      --fill-color: #D2E3FC;\n",
              "      --hover-bg-color: #434B5C;\n",
              "      --hover-fill-color: #FFFFFF;\n",
              "      --disabled-bg-color: #3B4455;\n",
              "      --disabled-fill-color: #666;\n",
              "  }\n",
              "\n",
              "  .colab-df-quickchart {\n",
              "    background-color: var(--bg-color);\n",
              "    border: none;\n",
              "    border-radius: 50%;\n",
              "    cursor: pointer;\n",
              "    display: none;\n",
              "    fill: var(--fill-color);\n",
              "    height: 32px;\n",
              "    padding: 0;\n",
              "    width: 32px;\n",
              "  }\n",
              "\n",
              "  .colab-df-quickchart:hover {\n",
              "    background-color: var(--hover-bg-color);\n",
              "    box-shadow: 0 1px 2px rgba(60, 64, 67, 0.3), 0 1px 3px 1px rgba(60, 64, 67, 0.15);\n",
              "    fill: var(--button-hover-fill-color);\n",
              "  }\n",
              "\n",
              "  .colab-df-quickchart-complete:disabled,\n",
              "  .colab-df-quickchart-complete:disabled:hover {\n",
              "    background-color: var(--disabled-bg-color);\n",
              "    fill: var(--disabled-fill-color);\n",
              "    box-shadow: none;\n",
              "  }\n",
              "\n",
              "  .colab-df-spinner {\n",
              "    border: 2px solid var(--fill-color);\n",
              "    border-color: transparent;\n",
              "    border-bottom-color: var(--fill-color);\n",
              "    animation:\n",
              "      spin 1s steps(1) infinite;\n",
              "  }\n",
              "\n",
              "  @keyframes spin {\n",
              "    0% {\n",
              "      border-color: transparent;\n",
              "      border-bottom-color: var(--fill-color);\n",
              "      border-left-color: var(--fill-color);\n",
              "    }\n",
              "    20% {\n",
              "      border-color: transparent;\n",
              "      border-left-color: var(--fill-color);\n",
              "      border-top-color: var(--fill-color);\n",
              "    }\n",
              "    30% {\n",
              "      border-color: transparent;\n",
              "      border-left-color: var(--fill-color);\n",
              "      border-top-color: var(--fill-color);\n",
              "      border-right-color: var(--fill-color);\n",
              "    }\n",
              "    40% {\n",
              "      border-color: transparent;\n",
              "      border-right-color: var(--fill-color);\n",
              "      border-top-color: var(--fill-color);\n",
              "    }\n",
              "    60% {\n",
              "      border-color: transparent;\n",
              "      border-right-color: var(--fill-color);\n",
              "    }\n",
              "    80% {\n",
              "      border-color: transparent;\n",
              "      border-right-color: var(--fill-color);\n",
              "      border-bottom-color: var(--fill-color);\n",
              "    }\n",
              "    90% {\n",
              "      border-color: transparent;\n",
              "      border-bottom-color: var(--fill-color);\n",
              "    }\n",
              "  }\n",
              "</style>\n",
              "\n",
              "  <script>\n",
              "    async function quickchart(key) {\n",
              "      const quickchartButtonEl =\n",
              "        document.querySelector('#' + key + ' button');\n",
              "      quickchartButtonEl.disabled = true;  // To prevent multiple clicks.\n",
              "      quickchartButtonEl.classList.add('colab-df-spinner');\n",
              "      try {\n",
              "        const charts = await google.colab.kernel.invokeFunction(\n",
              "            'suggestCharts', [key], {});\n",
              "      } catch (error) {\n",
              "        console.error('Error during call to suggestCharts:', error);\n",
              "      }\n",
              "      quickchartButtonEl.classList.remove('colab-df-spinner');\n",
              "      quickchartButtonEl.classList.add('colab-df-quickchart-complete');\n",
              "    }\n",
              "    (() => {\n",
              "      let quickchartButtonEl =\n",
              "        document.querySelector('#df-0846e872-d774-42c8-a201-51bbb3de92c5 button');\n",
              "      quickchartButtonEl.style.display =\n",
              "        google.colab.kernel.accessAllowed ? 'block' : 'none';\n",
              "    })();\n",
              "  </script>\n",
              "</div>\n",
              "    </div>\n",
              "  </div>\n"
            ]
          },
          "metadata": {},
          "execution_count": 40
        }
      ]
    },
    {
      "cell_type": "markdown",
      "source": [
        "Criando a Distribuição"
      ],
      "metadata": {
        "id": "Kamvz-uK8hw8"
      }
    },
    {
      "cell_type": "code",
      "source": [
        "# Exibindo a distribuição\n",
        "sns.displot(data = dados)\n",
        "plt.title('Distribuição de frequência - histograma')\n",
        "plt.xlabel('Intervalos')\n",
        "plt.ylabel('Frequência');"
      ],
      "metadata": {
        "colab": {
          "base_uri": "https://localhost:8080/",
          "height": 549
        },
        "id": "I4IsXjUq8i9c",
        "outputId": "2a15482e-fb07-42b6-b849-9b0cc1ab00e0"
      },
      "execution_count": null,
      "outputs": [
        {
          "output_type": "display_data",
          "data": {
            "text/plain": [
              "<Figure size 500x500 with 1 Axes>"
            ],
            "image/png": "[encoded data removed]"
          },
          "metadata": {}
        }
      ]
    },
    {
      "cell_type": "markdown",
      "source": [
        "Podemos observar agora um gráfico bastante semelhante aos exemplos anteriores, porém com um formato diferente para representar os dados."
      ],
      "metadata": {
        "id": "qymvDBth9ysD"
      }
    },
    {
      "cell_type": "markdown",
      "source": [
        "## **Desafio**"
      ],
      "metadata": {
        "id": "N-sFDfjQ0_Nq"
      }
    },
    {
      "cell_type": "markdown",
      "source": [
        "O objetivo desta tarefa é aplicar a distribuição de frequência utilizando o atributo age da base de dados do censo\n",
        "\n",
        "- Carregue a base de dados census.csv\n",
        "\n",
        "- Faça testes utilizando o parâmetro bins para visualizar a distribuição dos dados"
      ],
      "metadata": {
        "id": "A2e5mEMg1BMZ"
      }
    },
    {
      "cell_type": "markdown",
      "source": [
        "### **Carregando os dados**"
      ],
      "metadata": {
        "id": "9feSy5cJ1WHw"
      }
    },
    {
      "cell_type": "code",
      "source": [
        "# Acesso ao drive\n",
        "from google.colab import drive\n",
        "drive.mount('/content/drive')"
      ],
      "metadata": {
        "colab": {
          "base_uri": "https://localhost:8080/"
        },
        "id": "7lL5X2qy1BWh",
        "outputId": "bba0349e-edfb-47cb-b4ca-fcb303d9a208"
      },
      "execution_count": null,
      "outputs": [
        {
          "output_type": "stream",
          "name": "stdout",
          "text": [
            "Mounted at /content/drive\n"
          ]
        }
      ]
    },
    {
      "cell_type": "markdown",
      "source": [
        "*Realizando as importações pertinentes*"
      ],
      "metadata": {
        "id": "mMqu7IfK1MA4"
      }
    },
    {
      "cell_type": "code",
      "source": [
        "# Manipulação de arquivos\n",
        "import pandas as pd\n",
        "\n",
        "# Funções matemáticas\n",
        "import numpy as np\n",
        "\n",
        "# Biblioteca para visualização de dados\n",
        "import seaborn as sns\n",
        "\n",
        "# Biblioteca para visualização de dados\n",
        "import matplotlib.pyplot as plt"
      ],
      "metadata": {
        "id": "VHEWASuo1MM4"
      },
      "execution_count": null,
      "outputs": []
    },
    {
      "cell_type": "markdown",
      "source": [
        "*Realizando a importação do DataFrame*"
      ],
      "metadata": {
        "id": "0g1KKLeS1bHo"
      }
    },
    {
      "cell_type": "code",
      "source": [
        "# Importando o dataset\n",
        "df = pd.read_csv(\"/content/drive/MyDrive/Estatística para ciência de dados/census.csv\")"
      ],
      "metadata": {
        "id": "Q365Av9V1bOf"
      },
      "execution_count": null,
      "outputs": []
    },
    {
      "cell_type": "code",
      "source": [
        "# Observando os dados\n",
        "df.head()"
      ],
      "metadata": {
        "colab": {
          "base_uri": "https://localhost:8080/",
          "height": 206
        },
        "id": "mjgj2UtA1UnP",
        "outputId": "facf2bc5-0472-4904-c0c2-f89586475243"
      },
      "execution_count": null,
      "outputs": [
        {
          "output_type": "execute_result",
          "data": {
            "text/plain": [
              "   age          workclass  final-weight   education  education-num  \\\n",
              "0   39          State-gov         77516   Bachelors             13   \n",
              "1   50   Self-emp-not-inc         83311   Bachelors             13   \n",
              "2   38            Private        215646     HS-grad              9   \n",
              "3   53            Private        234721        11th              7   \n",
              "4   28            Private        338409   Bachelors             13   \n",
              "\n",
              "        marital-status          occupation    relationship    race      sex  \\\n",
              "0        Never-married        Adm-clerical   Not-in-family   White     Male   \n",
              "1   Married-civ-spouse     Exec-managerial         Husband   White     Male   \n",
              "2             Divorced   Handlers-cleaners   Not-in-family   White     Male   \n",
              "3   Married-civ-spouse   Handlers-cleaners         Husband   Black     Male   \n",
              "4   Married-civ-spouse      Prof-specialty            Wife   Black   Female   \n",
              "\n",
              "   capital-gain  capital-loos  hour-per-week  native-country  income  \n",
              "0          2174             0             40   United-States   <=50K  \n",
              "1             0             0             13   United-States   <=50K  \n",
              "2             0             0             40   United-States   <=50K  \n",
              "3             0             0             40   United-States   <=50K  \n",
              "4             0             0             40            Cuba   <=50K  "
            ],
            "text/html": [
              "\n",
              "  <div id=\"df-b52df4d7-14c2-4202-9816-325ca13ab02a\" class=\"colab-df-container\">\n",
              "    <div>\n",
              "<style scoped>\n",
              "    .dataframe tbody tr th:only-of-type {\n",
              "        vertical-align: middle;\n",
              "    }\n",
              "\n",
              "    .dataframe tbody tr th {\n",
              "        vertical-align: top;\n",
              "    }\n",
              "\n",
              "    .dataframe thead th {\n",
              "        text-align: right;\n",
              "    }\n",
              "</style>\n",
              "<table border=\"1\" class=\"dataframe\">\n",
              "  <thead>\n",
              "    <tr style=\"text-align: right;\">\n",
              "      <th></th>\n",
              "      <th>age</th>\n",
              "      <th>workclass</th>\n",
              "      <th>final-weight</th>\n",
              "      <th>education</th>\n",
              "      <th>education-num</th>\n",
              "      <th>marital-status</th>\n",
              "      <th>occupation</th>\n",
              "      <th>relationship</th>\n",
              "      <th>race</th>\n",
              "      <th>sex</th>\n",
              "      <th>capital-gain</th>\n",
              "      <th>capital-loos</th>\n",
              "      <th>hour-per-week</th>\n",
              "      <th>native-country</th>\n",
              "      <th>income</th>\n",
              "    </tr>\n",
              "  </thead>\n",
              "  <tbody>\n",
              "    <tr>\n",
              "      <th>0</th>\n",
              "      <td>39</td>\n",
              "      <td>State-gov</td>\n",
              "      <td>77516</td>\n",
              "      <td>Bachelors</td>\n",
              "      <td>13</td>\n",
              "      <td>Never-married</td>\n",
              "      <td>Adm-clerical</td>\n",
              "      <td>Not-in-family</td>\n",
              "      <td>White</td>\n",
              "      <td>Male</td>\n",
              "      <td>2174</td>\n",
              "      <td>0</td>\n",
              "      <td>40</td>\n",
              "      <td>United-States</td>\n",
              "      <td>&lt;=50K</td>\n",
              "    </tr>\n",
              "    <tr>\n",
              "      <th>1</th>\n",
              "      <td>50</td>\n",
              "      <td>Self-emp-not-inc</td>\n",
              "      <td>83311</td>\n",
              "      <td>Bachelors</td>\n",
              "      <td>13</td>\n",
              "      <td>Married-civ-spouse</td>\n",
              "      <td>Exec-managerial</td>\n",
              "      <td>Husband</td>\n",
              "      <td>White</td>\n",
              "      <td>Male</td>\n",
              "      <td>0</td>\n",
              "      <td>0</td>\n",
              "      <td>13</td>\n",
              "      <td>United-States</td>\n",
              "      <td>&lt;=50K</td>\n",
              "    </tr>\n",
              "    <tr>\n",
              "      <th>2</th>\n",
              "      <td>38</td>\n",
              "      <td>Private</td>\n",
              "      <td>215646</td>\n",
              "      <td>HS-grad</td>\n",
              "      <td>9</td>\n",
              "      <td>Divorced</td>\n",
              "      <td>Handlers-cleaners</td>\n",
              "      <td>Not-in-family</td>\n",
              "      <td>White</td>\n",
              "      <td>Male</td>\n",
              "      <td>0</td>\n",
              "      <td>0</td>\n",
              "      <td>40</td>\n",
              "      <td>United-States</td>\n",
              "      <td>&lt;=50K</td>\n",
              "    </tr>\n",
              "    <tr>\n",
              "      <th>3</th>\n",
              "      <td>53</td>\n",
              "      <td>Private</td>\n",
              "      <td>234721</td>\n",
              "      <td>11th</td>\n",
              "      <td>7</td>\n",
              "      <td>Married-civ-spouse</td>\n",
              "      <td>Handlers-cleaners</td>\n",
              "      <td>Husband</td>\n",
              "      <td>Black</td>\n",
              "      <td>Male</td>\n",
              "      <td>0</td>\n",
              "      <td>0</td>\n",
              "      <td>40</td>\n",
              "      <td>United-States</td>\n",
              "      <td>&lt;=50K</td>\n",
              "    </tr>\n",
              "    <tr>\n",
              "      <th>4</th>\n",
              "      <td>28</td>\n",
              "      <td>Private</td>\n",
              "      <td>338409</td>\n",
              "      <td>Bachelors</td>\n",
              "      <td>13</td>\n",
              "      <td>Married-civ-spouse</td>\n",
              "      <td>Prof-specialty</td>\n",
              "      <td>Wife</td>\n",
              "      <td>Black</td>\n",
              "      <td>Female</td>\n",
              "      <td>0</td>\n",
              "      <td>0</td>\n",
              "      <td>40</td>\n",
              "      <td>Cuba</td>\n",
              "      <td>&lt;=50K</td>\n",
              "    </tr>\n",
              "  </tbody>\n",
              "</table>\n",
              "</div>\n",
              "    <div class=\"colab-df-buttons\">\n",
              "\n",
              "  <div class=\"colab-df-container\">\n",
              "    <button class=\"colab-df-convert\" onclick=\"convertToInteractive('df-b52df4d7-14c2-4202-9816-325ca13ab02a')\"\n",
              "            title=\"Convert this dataframe to an interactive table.\"\n",
              "            style=\"display:none;\">\n",
              "\n",
              "  <svg xmlns=\"http://www.w3.org/2000/svg\" height=\"24px\" viewBox=\"0 -960 960 960\">\n",
              "    <path d=\"M120-120v-720h720v720H120Zm60-500h600v-160H180v160Zm220 220h160v-160H400v160Zm0 220h160v-160H400v160ZM180-400h160v-160H180v160Zm440 0h160v-160H620v160ZM180-180h160v-160H180v160Zm440 0h160v-160H620v160Z\"/>\n",
              "  </svg>\n",
              "    </button>\n",
              "\n",
              "  <style>\n",
              "    .colab-df-container {\n",
              "      display:flex;\n",
              "      gap: 12px;\n",
              "    }\n",
              "\n",
              "    .colab-df-convert {\n",
              "      background-color: #E8F0FE;\n",
              "      border: none;\n",
              "      border-radius: 50%;\n",
              "      cursor: pointer;\n",
              "      display: none;\n",
              "      fill: #1967D2;\n",
              "      height: 32px;\n",
              "      padding: 0 0 0 0;\n",
              "      width: 32px;\n",
              "    }\n",
              "\n",
              "    .colab-df-convert:hover {\n",
              "      background-color: #E2EBFA;\n",
              "      box-shadow: 0px 1px 2px rgba(60, 64, 67, 0.3), 0px 1px 3px 1px rgba(60, 64, 67, 0.15);\n",
              "      fill: #174EA6;\n",
              "    }\n",
              "\n",
              "    .colab-df-buttons div {\n",
              "      margin-bottom: 4px;\n",
              "    }\n",
              "\n",
              "    [theme=dark] .colab-df-convert {\n",
              "      background-color: #3B4455;\n",
              "      fill: #D2E3FC;\n",
              "    }\n",
              "\n",
              "    [theme=dark] .colab-df-convert:hover {\n",
              "      background-color: #434B5C;\n",
              "      box-shadow: 0px 1px 3px 1px rgba(0, 0, 0, 0.15);\n",
              "      filter: drop-shadow(0px 1px 2px rgba(0, 0, 0, 0.3));\n",
              "      fill: #FFFFFF;\n",
              "    }\n",
              "  </style>\n",
              "\n",
              "    <script>\n",
              "      const buttonEl =\n",
              "        document.querySelector('#df-b52df4d7-14c2-4202-9816-325ca13ab02a button.colab-df-convert');\n",
              "      buttonEl.style.display =\n",
              "        google.colab.kernel.accessAllowed ? 'block' : 'none';\n",
              "\n",
              "      async function convertToInteractive(key) {\n",
              "        const element = document.querySelector('#df-b52df4d7-14c2-4202-9816-325ca13ab02a');\n",
              "        const dataTable =\n",
              "          await google.colab.kernel.invokeFunction('convertToInteractive',\n",
              "                                                    [key], {});\n",
              "        if (!dataTable) return;\n",
              "\n",
              "        const docLinkHtml = 'Like what you see? Visit the ' +\n",
              "          '<a target=\"_blank\" href=https://colab.research.google.com/notebooks/data_table.ipynb>data table notebook</a>'\n",
              "          + ' to learn more about interactive tables.';\n",
              "        element.innerHTML = '';\n",
              "        dataTable['output_type'] = 'display_data';\n",
              "        await google.colab.output.renderOutput(dataTable, element);\n",
              "        const docLink = document.createElement('div');\n",
              "        docLink.innerHTML = docLinkHtml;\n",
              "        element.appendChild(docLink);\n",
              "      }\n",
              "    </script>\n",
              "  </div>\n",
              "\n",
              "\n",
              "<div id=\"df-2c32533c-35db-4b99-8d45-24f88eba635d\">\n",
              "  <button class=\"colab-df-quickchart\" onclick=\"quickchart('df-2c32533c-35db-4b99-8d45-24f88eba635d')\"\n",
              "            title=\"Suggest charts\"\n",
              "            style=\"display:none;\">\n",
              "\n",
              "<svg xmlns=\"http://www.w3.org/2000/svg\" height=\"24px\"viewBox=\"0 0 24 24\"\n",
              "     width=\"24px\">\n",
              "    <g>\n",
              "        <path d=\"M19 3H5c-1.1 0-2 .9-2 2v14c0 1.1.9 2 2 2h14c1.1 0 2-.9 2-2V5c0-1.1-.9-2-2-2zM9 17H7v-7h2v7zm4 0h-2V7h2v10zm4 0h-2v-4h2v4z\"/>\n",
              "    </g>\n",
              "</svg>\n",
              "  </button>\n",
              "\n",
              "<style>\n",
              "  .colab-df-quickchart {\n",
              "      --bg-color: #E8F0FE;\n",
              "      --fill-color: #1967D2;\n",
              "      --hover-bg-color: #E2EBFA;\n",
              "      --hover-fill-color: #174EA6;\n",
              "      --disabled-fill-color: #AAA;\n",
              "      --disabled-bg-color: #DDD;\n",
              "  }\n",
              "\n",
              "  [theme=dark] .colab-df-quickchart {\n",
              "      --bg-color: #3B4455;\n",
              "      --fill-color: #D2E3FC;\n",
              "      --hover-bg-color: #434B5C;\n",
              "      --hover-fill-color: #FFFFFF;\n",
              "      --disabled-bg-color: #3B4455;\n",
              "      --disabled-fill-color: #666;\n",
              "  }\n",
              "\n",
              "  .colab-df-quickchart {\n",
              "    background-color: var(--bg-color);\n",
              "    border: none;\n",
              "    border-radius: 50%;\n",
              "    cursor: pointer;\n",
              "    display: none;\n",
              "    fill: var(--fill-color);\n",
              "    height: 32px;\n",
              "    padding: 0;\n",
              "    width: 32px;\n",
              "  }\n",
              "\n",
              "  .colab-df-quickchart:hover {\n",
              "    background-color: var(--hover-bg-color);\n",
              "    box-shadow: 0 1px 2px rgba(60, 64, 67, 0.3), 0 1px 3px 1px rgba(60, 64, 67, 0.15);\n",
              "    fill: var(--button-hover-fill-color);\n",
              "  }\n",
              "\n",
              "  .colab-df-quickchart-complete:disabled,\n",
              "  .colab-df-quickchart-complete:disabled:hover {\n",
              "    background-color: var(--disabled-bg-color);\n",
              "    fill: var(--disabled-fill-color);\n",
              "    box-shadow: none;\n",
              "  }\n",
              "\n",
              "  .colab-df-spinner {\n",
              "    border: 2px solid var(--fill-color);\n",
              "    border-color: transparent;\n",
              "    border-bottom-color: var(--fill-color);\n",
              "    animation:\n",
              "      spin 1s steps(1) infinite;\n",
              "  }\n",
              "\n",
              "  @keyframes spin {\n",
              "    0% {\n",
              "      border-color: transparent;\n",
              "      border-bottom-color: var(--fill-color);\n",
              "      border-left-color: var(--fill-color);\n",
              "    }\n",
              "    20% {\n",
              "      border-color: transparent;\n",
              "      border-left-color: var(--fill-color);\n",
              "      border-top-color: var(--fill-color);\n",
              "    }\n",
              "    30% {\n",
              "      border-color: transparent;\n",
              "      border-left-color: var(--fill-color);\n",
              "      border-top-color: var(--fill-color);\n",
              "      border-right-color: var(--fill-color);\n",
              "    }\n",
              "    40% {\n",
              "      border-color: transparent;\n",
              "      border-right-color: var(--fill-color);\n",
              "      border-top-color: var(--fill-color);\n",
              "    }\n",
              "    60% {\n",
              "      border-color: transparent;\n",
              "      border-right-color: var(--fill-color);\n",
              "    }\n",
              "    80% {\n",
              "      border-color: transparent;\n",
              "      border-right-color: var(--fill-color);\n",
              "      border-bottom-color: var(--fill-color);\n",
              "    }\n",
              "    90% {\n",
              "      border-color: transparent;\n",
              "      border-bottom-color: var(--fill-color);\n",
              "    }\n",
              "  }\n",
              "</style>\n",
              "\n",
              "  <script>\n",
              "    async function quickchart(key) {\n",
              "      const quickchartButtonEl =\n",
              "        document.querySelector('#' + key + ' button');\n",
              "      quickchartButtonEl.disabled = true;  // To prevent multiple clicks.\n",
              "      quickchartButtonEl.classList.add('colab-df-spinner');\n",
              "      try {\n",
              "        const charts = await google.colab.kernel.invokeFunction(\n",
              "            'suggestCharts', [key], {});\n",
              "      } catch (error) {\n",
              "        console.error('Error during call to suggestCharts:', error);\n",
              "      }\n",
              "      quickchartButtonEl.classList.remove('colab-df-spinner');\n",
              "      quickchartButtonEl.classList.add('colab-df-quickchart-complete');\n",
              "    }\n",
              "    (() => {\n",
              "      let quickchartButtonEl =\n",
              "        document.querySelector('#df-2c32533c-35db-4b99-8d45-24f88eba635d button');\n",
              "      quickchartButtonEl.style.display =\n",
              "        google.colab.kernel.accessAllowed ? 'block' : 'none';\n",
              "    })();\n",
              "  </script>\n",
              "</div>\n",
              "    </div>\n",
              "  </div>\n"
            ]
          },
          "metadata": {},
          "execution_count": 4
        }
      ]
    },
    {
      "cell_type": "markdown",
      "source": [
        "### **Criando a distribuição**"
      ],
      "metadata": {
        "id": "u8QCbjUA5y3l"
      }
    },
    {
      "cell_type": "markdown",
      "source": [
        "O desafio proposto é realizar uma distribuição de frequência na coluna 'age', então utilizaremos apenas ela e chamaremos uma função do matplotlib para gerar o gráfico."
      ],
      "metadata": {
        "id": "-hOvN0zD2L3x"
      }
    },
    {
      "cell_type": "code",
      "source": [
        "# Gerando o gráfico\n",
        "df['age'].plot.hist()\n",
        "\n",
        "# Adicionando o título\n",
        "plt.title('Distribuição de Idade')\n",
        "\n",
        "# Adicionando um rótulo ao eixo x do gráfico\n",
        "plt.xlabel('Idade')\n",
        "\n",
        "# Adicionando um rótulo ao eixo y do gráfico\n",
        "plt.ylabel('Frequência');"
      ],
      "metadata": {
        "colab": {
          "base_uri": "https://localhost:8080/",
          "height": 472
        },
        "id": "AgGNAOp011ss",
        "outputId": "98c28df8-41c1-47e1-b7ae-8dd49c602e27"
      },
      "execution_count": null,
      "outputs": [
        {
          "output_type": "display_data",
          "data": {
            "text/plain": [
              "<Figure size 640x480 with 1 Axes>"
            ],
            "image/png": "[encoded data removed]"
          },
          "metadata": {}
        }
      ]
    },
    {
      "cell_type": "markdown",
      "source": [
        "*Gerando um gráfico semelhante usando o seaborn*"
      ],
      "metadata": {
        "id": "7LzQRH2s5GNb"
      }
    },
    {
      "cell_type": "code",
      "source": [
        "# Gerando o gráfico\n",
        "sns.histplot(df['age'], kde=False, bins = 'sturges')\n",
        "\n",
        "# Adicionando o título\n",
        "plt.title('Distribuição de Idade')\n",
        "\n",
        "# Adicionando um rótulo ao eixo x do gráfico\n",
        "plt.xlabel('Idade')\n",
        "\n",
        "# Adicionando um rótulo ao eixo y do gráfico\n",
        "plt.ylabel('Frequência')\n",
        "\n",
        "# Exibir o gráfico\n",
        "plt.show()"
      ],
      "metadata": {
        "colab": {
          "base_uri": "https://localhost:8080/",
          "height": 472
        },
        "id": "yfVwljOs4WMC",
        "outputId": "365e35c6-12b1-4a4c-83d8-c8ea8c971c23"
      },
      "execution_count": null,
      "outputs": [
        {
          "output_type": "display_data",
          "data": {
            "text/plain": [
              "<Figure size 640x480 with 1 Axes>"
            ],
            "image/png": "[encoded data removed]"
          },
          "metadata": {}
        }
      ]
    },
    {
      "cell_type": "markdown",
      "source": [
        "**Criamos uma distribuição utilizando parâmetros já predefinidos pelas funções que utilizamos, mas e se fosse necessário definirmos os intervalos manualmente?**"
      ],
      "metadata": {
        "id": "JvDlT4UQ84gQ"
      }
    },
    {
      "cell_type": "markdown",
      "source": [
        "Para este caso, iremos segmentar os dados em intervalos específicos. Vamos definir os limites dos intervalos e atribuir rótulos às categorias. Por exemplo, se um valor estiver no intervalo [25, 40), será rotulado como \"25-40\". É importante frisar que todos esses procedimentos estão sendo armazenados em uma nova coluna chamada 'Faixa etária'."
      ],
      "metadata": {
        "id": "ClBdVscz9Kr0"
      }
    },
    {
      "cell_type": "code",
      "source": [
        "# Segmentamdo os dados em intervalos específicos.\n",
        "df['Faixa etária'] = pd.cut(df['age'],\n",
        "                   # Definindo os limite de intervalos\n",
        "                   bins=[0, 18, 25, 40, 60, 90],\n",
        "                   # Adinionando rótulos a categoria\n",
        "                   labels=['0-18', \"18-25\", \"25-40\", \"40-60\", \"60-90\"])"
      ],
      "metadata": {
        "id": "Q_JX7icb9OBT"
      },
      "execution_count": null,
      "outputs": []
    },
    {
      "cell_type": "code",
      "source": [
        "# Observando os dados\n",
        "df.head()"
      ],
      "metadata": {
        "colab": {
          "base_uri": "https://localhost:8080/",
          "height": 206
        },
        "id": "mm7eF7C8-414",
        "outputId": "13a7ab72-b323-4a8c-fb3c-1bf958a1d546"
      },
      "execution_count": null,
      "outputs": [
        {
          "output_type": "execute_result",
          "data": {
            "text/plain": [
              "   age          workclass  final-weight   education  education-num  \\\n",
              "0   39          State-gov         77516   Bachelors             13   \n",
              "1   50   Self-emp-not-inc         83311   Bachelors             13   \n",
              "2   38            Private        215646     HS-grad              9   \n",
              "3   53            Private        234721        11th              7   \n",
              "4   28            Private        338409   Bachelors             13   \n",
              "\n",
              "        marital-status          occupation    relationship    race      sex  \\\n",
              "0        Never-married        Adm-clerical   Not-in-family   White     Male   \n",
              "1   Married-civ-spouse     Exec-managerial         Husband   White     Male   \n",
              "2             Divorced   Handlers-cleaners   Not-in-family   White     Male   \n",
              "3   Married-civ-spouse   Handlers-cleaners         Husband   Black     Male   \n",
              "4   Married-civ-spouse      Prof-specialty            Wife   Black   Female   \n",
              "\n",
              "   capital-gain  capital-loos  hour-per-week  native-country  income  \\\n",
              "0          2174             0             40   United-States   <=50K   \n",
              "1             0             0             13   United-States   <=50K   \n",
              "2             0             0             40   United-States   <=50K   \n",
              "3             0             0             40   United-States   <=50K   \n",
              "4             0             0             40            Cuba   <=50K   \n",
              "\n",
              "  Faixa etária  \n",
              "0        25-40  \n",
              "1        40-60  \n",
              "2        25-40  \n",
              "3        40-60  \n",
              "4        25-40  "
            ],
            "text/html": [
              "\n",
              "  <div id=\"df-adf84f68-8296-4941-b3a0-b7fb82cabf83\" class=\"colab-df-container\">\n",
              "    <div>\n",
              "<style scoped>\n",
              "    .dataframe tbody tr th:only-of-type {\n",
              "        vertical-align: middle;\n",
              "    }\n",
              "\n",
              "    .dataframe tbody tr th {\n",
              "        vertical-align: top;\n",
              "    }\n",
              "\n",
              "    .dataframe thead th {\n",
              "        text-align: right;\n",
              "    }\n",
              "</style>\n",
              "<table border=\"1\" class=\"dataframe\">\n",
              "  <thead>\n",
              "    <tr style=\"text-align: right;\">\n",
              "      <th></th>\n",
              "      <th>age</th>\n",
              "      <th>workclass</th>\n",
              "      <th>final-weight</th>\n",
              "      <th>education</th>\n",
              "      <th>education-num</th>\n",
              "      <th>marital-status</th>\n",
              "      <th>occupation</th>\n",
              "      <th>relationship</th>\n",
              "      <th>race</th>\n",
              "      <th>sex</th>\n",
              "      <th>capital-gain</th>\n",
              "      <th>capital-loos</th>\n",
              "      <th>hour-per-week</th>\n",
              "      <th>native-country</th>\n",
              "      <th>income</th>\n",
              "      <th>Faixa etária</th>\n",
              "    </tr>\n",
              "  </thead>\n",
              "  <tbody>\n",
              "    <tr>\n",
              "      <th>0</th>\n",
              "      <td>39</td>\n",
              "      <td>State-gov</td>\n",
              "      <td>77516</td>\n",
              "      <td>Bachelors</td>\n",
              "      <td>13</td>\n",
              "      <td>Never-married</td>\n",
              "      <td>Adm-clerical</td>\n",
              "      <td>Not-in-family</td>\n",
              "      <td>White</td>\n",
              "      <td>Male</td>\n",
              "      <td>2174</td>\n",
              "      <td>0</td>\n",
              "      <td>40</td>\n",
              "      <td>United-States</td>\n",
              "      <td>&lt;=50K</td>\n",
              "      <td>25-40</td>\n",
              "    </tr>\n",
              "    <tr>\n",
              "      <th>1</th>\n",
              "      <td>50</td>\n",
              "      <td>Self-emp-not-inc</td>\n",
              "      <td>83311</td>\n",
              "      <td>Bachelors</td>\n",
              "      <td>13</td>\n",
              "      <td>Married-civ-spouse</td>\n",
              "      <td>Exec-managerial</td>\n",
              "      <td>Husband</td>\n",
              "      <td>White</td>\n",
              "      <td>Male</td>\n",
              "      <td>0</td>\n",
              "      <td>0</td>\n",
              "      <td>13</td>\n",
              "      <td>United-States</td>\n",
              "      <td>&lt;=50K</td>\n",
              "      <td>40-60</td>\n",
              "    </tr>\n",
              "    <tr>\n",
              "      <th>2</th>\n",
              "      <td>38</td>\n",
              "      <td>Private</td>\n",
              "      <td>215646</td>\n",
              "      <td>HS-grad</td>\n",
              "      <td>9</td>\n",
              "      <td>Divorced</td>\n",
              "      <td>Handlers-cleaners</td>\n",
              "      <td>Not-in-family</td>\n",
              "      <td>White</td>\n",
              "      <td>Male</td>\n",
              "      <td>0</td>\n",
              "      <td>0</td>\n",
              "      <td>40</td>\n",
              "      <td>United-States</td>\n",
              "      <td>&lt;=50K</td>\n",
              "      <td>25-40</td>\n",
              "    </tr>\n",
              "    <tr>\n",
              "      <th>3</th>\n",
              "      <td>53</td>\n",
              "      <td>Private</td>\n",
              "      <td>234721</td>\n",
              "      <td>11th</td>\n",
              "      <td>7</td>\n",
              "      <td>Married-civ-spouse</td>\n",
              "      <td>Handlers-cleaners</td>\n",
              "      <td>Husband</td>\n",
              "      <td>Black</td>\n",
              "      <td>Male</td>\n",
              "      <td>0</td>\n",
              "      <td>0</td>\n",
              "      <td>40</td>\n",
              "      <td>United-States</td>\n",
              "      <td>&lt;=50K</td>\n",
              "      <td>40-60</td>\n",
              "    </tr>\n",
              "    <tr>\n",
              "      <th>4</th>\n",
              "      <td>28</td>\n",
              "      <td>Private</td>\n",
              "      <td>338409</td>\n",
              "      <td>Bachelors</td>\n",
              "      <td>13</td>\n",
              "      <td>Married-civ-spouse</td>\n",
              "      <td>Prof-specialty</td>\n",
              "      <td>Wife</td>\n",
              "      <td>Black</td>\n",
              "      <td>Female</td>\n",
              "      <td>0</td>\n",
              "      <td>0</td>\n",
              "      <td>40</td>\n",
              "      <td>Cuba</td>\n",
              "      <td>&lt;=50K</td>\n",
              "      <td>25-40</td>\n",
              "    </tr>\n",
              "  </tbody>\n",
              "</table>\n",
              "</div>\n",
              "    <div class=\"colab-df-buttons\">\n",
              "\n",
              "  <div class=\"colab-df-container\">\n",
              "    <button class=\"colab-df-convert\" onclick=\"convertToInteractive('df-adf84f68-8296-4941-b3a0-b7fb82cabf83')\"\n",
              "            title=\"Convert this dataframe to an interactive table.\"\n",
              "            style=\"display:none;\">\n",
              "\n",
              "  <svg xmlns=\"http://www.w3.org/2000/svg\" height=\"24px\" viewBox=\"0 -960 960 960\">\n",
              "    <path d=\"M120-120v-720h720v720H120Zm60-500h600v-160H180v160Zm220 220h160v-160H400v160Zm0 220h160v-160H400v160ZM180-400h160v-160H180v160Zm440 0h160v-160H620v160ZM180-180h160v-160H180v160Zm440 0h160v-160H620v160Z\"/>\n",
              "  </svg>\n",
              "    </button>\n",
              "\n",
              "  <style>\n",
              "    .colab-df-container {\n",
              "      display:flex;\n",
              "      gap: 12px;\n",
              "    }\n",
              "\n",
              "    .colab-df-convert {\n",
              "      background-color: #E8F0FE;\n",
              "      border: none;\n",
              "      border-radius: 50%;\n",
              "      cursor: pointer;\n",
              "      display: none;\n",
              "      fill: #1967D2;\n",
              "      height: 32px;\n",
              "      padding: 0 0 0 0;\n",
              "      width: 32px;\n",
              "    }\n",
              "\n",
              "    .colab-df-convert:hover {\n",
              "      background-color: #E2EBFA;\n",
              "      box-shadow: 0px 1px 2px rgba(60, 64, 67, 0.3), 0px 1px 3px 1px rgba(60, 64, 67, 0.15);\n",
              "      fill: #174EA6;\n",
              "    }\n",
              "\n",
              "    .colab-df-buttons div {\n",
              "      margin-bottom: 4px;\n",
              "    }\n",
              "\n",
              "    [theme=dark] .colab-df-convert {\n",
              "      background-color: #3B4455;\n",
              "      fill: #D2E3FC;\n",
              "    }\n",
              "\n",
              "    [theme=dark] .colab-df-convert:hover {\n",
              "      background-color: #434B5C;\n",
              "      box-shadow: 0px 1px 3px 1px rgba(0, 0, 0, 0.15);\n",
              "      filter: drop-shadow(0px 1px 2px rgba(0, 0, 0, 0.3));\n",
              "      fill: #FFFFFF;\n",
              "    }\n",
              "  </style>\n",
              "\n",
              "    <script>\n",
              "      const buttonEl =\n",
              "        document.querySelector('#df-adf84f68-8296-4941-b3a0-b7fb82cabf83 button.colab-df-convert');\n",
              "      buttonEl.style.display =\n",
              "        google.colab.kernel.accessAllowed ? 'block' : 'none';\n",
              "\n",
              "      async function convertToInteractive(key) {\n",
              "        const element = document.querySelector('#df-adf84f68-8296-4941-b3a0-b7fb82cabf83');\n",
              "        const dataTable =\n",
              "          await google.colab.kernel.invokeFunction('convertToInteractive',\n",
              "                                                    [key], {});\n",
              "        if (!dataTable) return;\n",
              "\n",
              "        const docLinkHtml = 'Like what you see? Visit the ' +\n",
              "          '<a target=\"_blank\" href=https://colab.research.google.com/notebooks/data_table.ipynb>data table notebook</a>'\n",
              "          + ' to learn more about interactive tables.';\n",
              "        element.innerHTML = '';\n",
              "        dataTable['output_type'] = 'display_data';\n",
              "        await google.colab.output.renderOutput(dataTable, element);\n",
              "        const docLink = document.createElement('div');\n",
              "        docLink.innerHTML = docLinkHtml;\n",
              "        element.appendChild(docLink);\n",
              "      }\n",
              "    </script>\n",
              "  </div>\n",
              "\n",
              "\n",
              "<div id=\"df-55f62d2d-d7aa-4923-a3c0-eb9633f62ed4\">\n",
              "  <button class=\"colab-df-quickchart\" onclick=\"quickchart('df-55f62d2d-d7aa-4923-a3c0-eb9633f62ed4')\"\n",
              "            title=\"Suggest charts\"\n",
              "            style=\"display:none;\">\n",
              "\n",
              "<svg xmlns=\"http://www.w3.org/2000/svg\" height=\"24px\"viewBox=\"0 0 24 24\"\n",
              "     width=\"24px\">\n",
              "    <g>\n",
              "        <path d=\"M19 3H5c-1.1 0-2 .9-2 2v14c0 1.1.9 2 2 2h14c1.1 0 2-.9 2-2V5c0-1.1-.9-2-2-2zM9 17H7v-7h2v7zm4 0h-2V7h2v10zm4 0h-2v-4h2v4z\"/>\n",
              "    </g>\n",
              "</svg>\n",
              "  </button>\n",
              "\n",
              "<style>\n",
              "  .colab-df-quickchart {\n",
              "      --bg-color: #E8F0FE;\n",
              "      --fill-color: #1967D2;\n",
              "      --hover-bg-color: #E2EBFA;\n",
              "      --hover-fill-color: #174EA6;\n",
              "      --disabled-fill-color: #AAA;\n",
              "      --disabled-bg-color: #DDD;\n",
              "  }\n",
              "\n",
              "  [theme=dark] .colab-df-quickchart {\n",
              "      --bg-color: #3B4455;\n",
              "      --fill-color: #D2E3FC;\n",
              "      --hover-bg-color: #434B5C;\n",
              "      --hover-fill-color: #FFFFFF;\n",
              "      --disabled-bg-color: #3B4455;\n",
              "      --disabled-fill-color: #666;\n",
              "  }\n",
              "\n",
              "  .colab-df-quickchart {\n",
              "    background-color: var(--bg-color);\n",
              "    border: none;\n",
              "    border-radius: 50%;\n",
              "    cursor: pointer;\n",
              "    display: none;\n",
              "    fill: var(--fill-color);\n",
              "    height: 32px;\n",
              "    padding: 0;\n",
              "    width: 32px;\n",
              "  }\n",
              "\n",
              "  .colab-df-quickchart:hover {\n",
              "    background-color: var(--hover-bg-color);\n",
              "    box-shadow: 0 1px 2px rgba(60, 64, 67, 0.3), 0 1px 3px 1px rgba(60, 64, 67, 0.15);\n",
              "    fill: var(--button-hover-fill-color);\n",
              "  }\n",
              "\n",
              "  .colab-df-quickchart-complete:disabled,\n",
              "  .colab-df-quickchart-complete:disabled:hover {\n",
              "    background-color: var(--disabled-bg-color);\n",
              "    fill: var(--disabled-fill-color);\n",
              "    box-shadow: none;\n",
              "  }\n",
              "\n",
              "  .colab-df-spinner {\n",
              "    border: 2px solid var(--fill-color);\n",
              "    border-color: transparent;\n",
              "    border-bottom-color: var(--fill-color);\n",
              "    animation:\n",
              "      spin 1s steps(1) infinite;\n",
              "  }\n",
              "\n",
              "  @keyframes spin {\n",
              "    0% {\n",
              "      border-color: transparent;\n",
              "      border-bottom-color: var(--fill-color);\n",
              "      border-left-color: var(--fill-color);\n",
              "    }\n",
              "    20% {\n",
              "      border-color: transparent;\n",
              "      border-left-color: var(--fill-color);\n",
              "      border-top-color: var(--fill-color);\n",
              "    }\n",
              "    30% {\n",
              "      border-color: transparent;\n",
              "      border-left-color: var(--fill-color);\n",
              "      border-top-color: var(--fill-color);\n",
              "      border-right-color: var(--fill-color);\n",
              "    }\n",
              "    40% {\n",
              "      border-color: transparent;\n",
              "      border-right-color: var(--fill-color);\n",
              "      border-top-color: var(--fill-color);\n",
              "    }\n",
              "    60% {\n",
              "      border-color: transparent;\n",
              "      border-right-color: var(--fill-color);\n",
              "    }\n",
              "    80% {\n",
              "      border-color: transparent;\n",
              "      border-right-color: var(--fill-color);\n",
              "      border-bottom-color: var(--fill-color);\n",
              "    }\n",
              "    90% {\n",
              "      border-color: transparent;\n",
              "      border-bottom-color: var(--fill-color);\n",
              "    }\n",
              "  }\n",
              "</style>\n",
              "\n",
              "  <script>\n",
              "    async function quickchart(key) {\n",
              "      const quickchartButtonEl =\n",
              "        document.querySelector('#' + key + ' button');\n",
              "      quickchartButtonEl.disabled = true;  // To prevent multiple clicks.\n",
              "      quickchartButtonEl.classList.add('colab-df-spinner');\n",
              "      try {\n",
              "        const charts = await google.colab.kernel.invokeFunction(\n",
              "            'suggestCharts', [key], {});\n",
              "      } catch (error) {\n",
              "        console.error('Error during call to suggestCharts:', error);\n",
              "      }\n",
              "      quickchartButtonEl.classList.remove('colab-df-spinner');\n",
              "      quickchartButtonEl.classList.add('colab-df-quickchart-complete');\n",
              "    }\n",
              "    (() => {\n",
              "      let quickchartButtonEl =\n",
              "        document.querySelector('#df-55f62d2d-d7aa-4923-a3c0-eb9633f62ed4 button');\n",
              "      quickchartButtonEl.style.display =\n",
              "        google.colab.kernel.accessAllowed ? 'block' : 'none';\n",
              "    })();\n",
              "  </script>\n",
              "</div>\n",
              "    </div>\n",
              "  </div>\n"
            ]
          },
          "metadata": {},
          "execution_count": 26
        }
      ]
    },
    {
      "cell_type": "markdown",
      "source": [
        "Podemos confirmar a presença da nossa nova coluna. Agora, é o momento de criar o histograma de frequência."
      ],
      "metadata": {
        "id": "ossqQlV6-87O"
      }
    },
    {
      "cell_type": "code",
      "source": [
        "# Gerando o gráfico\n",
        "sns.histplot(df['Faixa etária'], kde=False)\n",
        "\n",
        "# Adicionando o título\n",
        "plt.title('Distribuição da faixa etária')\n",
        "\n",
        "# Adicionando um rótulo ao eixo y do gráfico\n",
        "plt.ylabel('Frequência')\n",
        "\n",
        "# Exibir o gráfico\n",
        "plt.show()"
      ],
      "metadata": {
        "colab": {
          "base_uri": "https://localhost:8080/",
          "height": 472
        },
        "id": "busAaR25_EUO",
        "outputId": "83af8eeb-a035-45eb-bea3-22c351836319"
      },
      "execution_count": null,
      "outputs": [
        {
          "output_type": "display_data",
          "data": {
            "text/plain": [
              "<Figure size 640x480 with 1 Axes>"
            ],
            "image/png": "[encoded data removed]"
          },
          "metadata": {}
        }
      ]
    },
    {
      "cell_type": "markdown",
      "source": [
        "### Conclusão"
      ],
      "metadata": {
        "id": "1FSKLuSM7VN6"
      }
    },
    {
      "cell_type": "markdown",
      "source": [
        "Utilizando diferentes técnicas, foi possível atingir resultados distintos. Essa abordagem demonstra flexibilidade e capacidade de se adequar a diferentes situações."
      ],
      "metadata": {
        "id": "wbU0evoO7fB5"
      }
    }
  ]
}