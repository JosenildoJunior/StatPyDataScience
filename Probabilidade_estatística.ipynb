{
  "nbformat": 4,
  "nbformat_minor": 0,
  "metadata": {
    "colab": {
      "provenance": [],
      "collapsed_sections": [
        "iIsQc0KF2TDu",
        "FA7Ww-BK27zi"
      ],
      "authorship_tag": "ABX9TyPmVVLAhRFLrUEq2VD0Cbga",
      "include_colab_link": true
    },
    "kernelspec": {
      "name": "python3",
      "display_name": "Python 3"
    },
    "language_info": {
      "name": "python"
    }
  },
  "cells": [
    {
      "cell_type": "markdown",
      "metadata": {
        "id": "view-in-github",
        "colab_type": "text"
      },
      "source": [
        "<a href=\"https://colab.research.google.com/github/JosenildoJunior/StatPyDataScience/blob/main/Probabilidade_estat%C3%ADstica.ipynb\" target=\"_parent\"><img src=\"https://colab.research.google.com/assets/colab-badge.svg\" alt=\"Open In Colab\"/></a>"
      ]
    },
    {
      "cell_type": "markdown",
      "source": [
        "# **Estatística com Python: Um Guia para Estudos e Solução de Problemas**"
      ],
      "metadata": {
        "id": "Gwh89yDA3cHG"
      }
    },
    {
      "cell_type": "markdown",
      "source": [
        "\n",
        "## Breve Resumo:\n",
        "\n",
        "Probabilidade é a área da matemática que estuda a chance de ocorrência de eventos."
      ],
      "metadata": {
        "id": "Leonv9Gk312s"
      }
    },
    {
      "cell_type": "markdown",
      "source": [
        "# **Permutação**"
      ],
      "metadata": {
        "id": "iIsQc0KF2TDu"
      }
    },
    {
      "cell_type": "markdown",
      "source": [
        "Breve Resumo:\n",
        "\n",
        "Permutação é uma técnica de contagem utilizada para determinar quantas maneiras existem para ordenar os elementos de um conjunto finito.\n",
        "\n",
        "Cálculo:\n",
        "\n",
        "O número de permutações de um conjunto com n elementos é dado pela seguinte fórmula:\n",
        "\n",
        "- P(n) = n!"
      ],
      "metadata": {
        "id": "Knt6HgY22pq7"
      }
    },
    {
      "cell_type": "markdown",
      "source": [
        " Realizando importações necessarias"
      ],
      "metadata": {
        "id": "FA7Ww-BK27zi"
      }
    },
    {
      "cell_type": "code",
      "source": [
        "# Manipulação de arquivos\n",
        "import pandas as pd\n",
        "\n",
        "# Algébra linear\n",
        "import numpy as np\n",
        "\n",
        "# Funções estatísticas\n",
        "import scipy.stats\n",
        "\n",
        "# Funções matemáticas\n",
        "import math\n",
        "\n",
        "# Visualização de dados\n",
        "import seaborn as sns\n",
        "import matplotlib.pyplot as plt"
      ],
      "metadata": {
        "id": "zOhmv1AT2-PK"
      },
      "execution_count": 2,
      "outputs": []
    },
    {
      "cell_type": "markdown",
      "source": [
        "Digamos que tenhamos a seguinte pergunta:\n",
        "- Dados 5 números, calcule o número de permutações possíveis."
      ],
      "metadata": {
        "id": "gluHJCY34DZa"
      }
    },
    {
      "cell_type": "markdown",
      "source": [
        "Para resolvermos essa questão, basta usar a função factorial() do pacote math. Como sabemos que é uma permutação de 5, basta aplicar a função para sabermos o valor de 5!"
      ],
      "metadata": {
        "id": "XYkY9FAt4mQN"
      }
    },
    {
      "cell_type": "code",
      "source": [
        "# Calculando o fatorial de 5\n",
        "math.factorial(5)"
      ],
      "metadata": {
        "colab": {
          "base_uri": "https://localhost:8080/"
        },
        "id": "BX54dnRz4dr-",
        "outputId": "1efc162a-0cce-4fa3-a15e-a898a42c711e"
      },
      "execution_count": 5,
      "outputs": [
        {
          "output_type": "execute_result",
          "data": {
            "text/plain": [
              "120"
            ]
          },
          "metadata": {},
          "execution_count": 5
        }
      ]
    },
    {
      "cell_type": "markdown",
      "source": [
        "Portanto, podemos afirmar que nesse caso existem 120 permutações possíveis utilizando apenas 5 números"
      ],
      "metadata": {
        "id": "AHBc_8e-4_ui"
      }
    },
    {
      "cell_type": "markdown",
      "source": [
        "Resolva essa questâo:\n",
        "\n",
        "- Ao criar uma senha com 5 dígitos, utilizando qualquer letra e números de 0 a 9 e levando em consideração que as letras e números **não podem se repetir**, quantas permutações são possíveis?"
      ],
      "metadata": {
        "id": "NMbGCgjq4VJB"
      }
    },
    {
      "cell_type": "markdown",
      "source": [
        "**Esse é um caso de permutação de subconjunto onde utilizaremos a seguinte formula:**\n",
        "- $P(n, k) = n! / (n-k)!$"
      ],
      "metadata": {
        "id": "YDEhEH7O6LiW"
      }
    },
    {
      "cell_type": "code",
      "source": [
        "# Aplicando a fórmula da permutação de subconjunto\n",
        "math.factorial(36) / math.factorial(36 -5)"
      ],
      "metadata": {
        "colab": {
          "base_uri": "https://localhost:8080/"
        },
        "id": "OwRwmHUv6YOx",
        "outputId": "ee4230dc-963f-4710-d8c3-64ba865f9948"
      },
      "execution_count": 6,
      "outputs": [
        {
          "output_type": "execute_result",
          "data": {
            "text/plain": [
              "45239040.0"
            ]
          },
          "metadata": {},
          "execution_count": 6
        }
      ]
    },
    {
      "cell_type": "markdown",
      "source": [
        "Assim, podemos observar que chegamos ao valor de 452 milhões de possibilidades diferentes"
      ],
      "metadata": {
        "id": "I2Jo6YhB63El"
      }
    },
    {
      "cell_type": "markdown",
      "source": [
        "Resolva essa questâo:\n",
        "- Ao criar uma senha com 5 dígitos, utilizando qualquer letra e números de 0 a 9 e levando em consideração que as letras e números **podem se repetir**, quantas permutações são possíveis?"
      ],
      "metadata": {
        "id": "h2NBFxCW7dNx"
      }
    },
    {
      "cell_type": "markdown",
      "source": [
        "Como os valores podem se repetir, aplicaremos uma abordagem um pouco diferente. Utilizaremos a seguinte fórmula:\n",
        "\n",
        "- $P(n, k) = n^k$"
      ],
      "metadata": {
        "id": "80I3xab27fYB"
      }
    },
    {
      "cell_type": "markdown",
      "source": [
        "Agora, basta aplicar a fórmula nos valores para aplicar a permutação"
      ],
      "metadata": {
        "id": "OZ96vgeG8deR"
      }
    },
    {
      "cell_type": "code",
      "source": [
        "# Aplicando a fórmula\n",
        "math.pow(36, 5)"
      ],
      "metadata": {
        "colab": {
          "base_uri": "https://localhost:8080/"
        },
        "id": "jGov8RFP8kNC",
        "outputId": "93bd796d-7c0a-4b82-a97d-0d11d5dbef47"
      },
      "execution_count": 7,
      "outputs": [
        {
          "output_type": "execute_result",
          "data": {
            "text/plain": [
              "60466176.0"
            ]
          },
          "metadata": {},
          "execution_count": 7
        }
      ]
    },
    {
      "cell_type": "markdown",
      "source": [
        "Dito isso, podemos montar 60 milhões de senhas de diferentes fórmulas, podendo utilizar valores diferentes."
      ],
      "metadata": {
        "id": "xW50svvH89ju"
      }
    }
  ]
}