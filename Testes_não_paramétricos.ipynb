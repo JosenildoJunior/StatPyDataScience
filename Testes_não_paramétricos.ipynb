{
  "nbformat": 4,
  "nbformat_minor": 0,
  "metadata": {
    "colab": {
      "provenance": [],
      "collapsed_sections": [
        "2gSHe-ewOfkh",
        "ppTjfch_S3bi"
      ],
      "authorship_tag": "ABX9TyN2TSA3+hTEjp+Yco37Vnp1",
      "include_colab_link": true
    },
    "kernelspec": {
      "name": "python3",
      "display_name": "Python 3"
    },
    "language_info": {
      "name": "python"
    }
  },
  "cells": [
    {
      "cell_type": "markdown",
      "metadata": {
        "id": "view-in-github",
        "colab_type": "text"
      },
      "source": [
        "<a href=\"https://colab.research.google.com/github/JosenildoJunior/StatPyDataScience/blob/main/Testes_n%C3%A3o_param%C3%A9tricos.ipynb\" target=\"_parent\"><img src=\"https://colab.research.google.com/assets/colab-badge.svg\" alt=\"Open In Colab\"/></a>"
      ]
    },
    {
      "cell_type": "markdown",
      "source": [
        "# **O que são testes não paramétricos**"
      ],
      "metadata": {
        "id": "ah6LCHc4N7Op"
      }
    },
    {
      "cell_type": "markdown",
      "source": [
        "Um teste não paramétrico é um tipo de teste estatístico que não faz suposições sobre a distribuição subjacente dos dados. Em outras palavras, eles não requerem que os dados sejam normalmente distribuídos.\n",
        "\n",
        "Esses testes são úteis em várias situações, incluindo:\n",
        "\n",
        "- Quando os dados são de natureza ordinal, ou seja, podem ser ordenados, mas não se sabe a distância entre os valores.\n",
        "- Quando os dados são categóricos ou nominais.\n",
        "- Quando há violações das suposições dos testes paramétricos, como a normalidade ou a homogeneidade de variâncias.\n",
        "- Quando se deseja realizar inferências sobre a mediana, em vez da média, dos dados."
      ],
      "metadata": {
        "id": "HcBzcdm2ODDZ"
      }
    },
    {
      "cell_type": "markdown",
      "source": [
        "Agora vamos observar alguns exemplos de testes não paramétricos"
      ],
      "metadata": {
        "id": "BSlkvLRYObxh"
      }
    },
    {
      "cell_type": "markdown",
      "source": [
        "## **Teste de Wilcoxon**"
      ],
      "metadata": {
        "id": "2gSHe-ewOfkh"
      }
    },
    {
      "cell_type": "markdown",
      "source": [
        "O teste de Wilcoxon, também conhecido como teste de Wilcoxon de sinais ou teste de Wilcoxon de pares, é comumente usado para comparar duas amostras pareadas ou relacionadas.\n",
        "\n",
        "- Comparação de duas amostras pareadas\n",
        "\n",
        "- Quando os dados não são distribuídos normalmente\n",
        "\n",
        "- Pequenas amostras\n",
        "\n",
        "Nesse teste as hipoteses assumem as seguintes formas:\n",
        "\n",
        "- Hipótese nula: Não há diferença entre as duas populações\n",
        "- Hipótese alternativa: Existe uma diferença nas populações.\n",
        "\n",
        "Dito isso vamos observar um exemplo de aplicação desse teste\n"
      ],
      "metadata": {
        "id": "nZWJyQBIOwUJ"
      }
    },
    {
      "cell_type": "markdown",
      "source": [
        "Exercício:\n",
        "Você está conduzindo um experimento para determinar se um novo método de ensino melhora o desempenho dos alunos em um teste de matemática. Você coletou as notas de 15 alunos em um teste antes de aplicar o novo método (amostra1) e, em seguida, as notas desses mesmos alunos em um teste semelhante após a aplicação do novo método (amostra2). Use o teste de Wilcoxon para determinar se há uma diferença significativa nas notas dos alunos antes e depois da aplicação do novo método de ensino.\n",
        "\n",
        "- Valores das notas dos alunos no primeiro teste (amostra1):\n",
        "[60, 65, 70, 55, 68, 72, 58, 64, 75, 62, 70, 68, 72, 69, 66]\n",
        "\n",
        "- Valores das notas dos mesmos alunos no segundo teste (amostra2):\n",
        "[65, 70, 75, 58, 70, 78, 60, 68, 80, 66, 75, 72, 77, 72, 68]"
      ],
      "metadata": {
        "id": "GcsmQexIPsAB"
      }
    },
    {
      "cell_type": "markdown",
      "source": [
        "Resposta: Vamos aplicar o teste de wilcoxon, como já haviamos visto as hipoteses por padrão vão assumir as seguinstes formas:\n",
        "\n",
        "- H0: Não existe diferença entre as duas populações\n",
        "\n",
        "- Ha: Existe diferença entre as duas populações\n",
        "\n",
        "Dito isso vamos seguir adiante para a importação dos recursos necessarios"
      ],
      "metadata": {
        "id": "SrYnPrnEP24q"
      }
    },
    {
      "cell_type": "code",
      "source": [
        "# Funções matématicas\n",
        "import numpy as np\n",
        "\n",
        "# Importando o teste de wilcoxon\n",
        "from scipy.stats import wilcoxon"
      ],
      "metadata": {
        "id": "YtXnj-O8Pq9h"
      },
      "execution_count": null,
      "outputs": []
    },
    {
      "cell_type": "markdown",
      "source": [
        "Agora vamos para a aplicação do teste"
      ],
      "metadata": {
        "id": "RrnFxPOURL_q"
      }
    },
    {
      "cell_type": "code",
      "execution_count": null,
      "metadata": {
        "colab": {
          "base_uri": "https://localhost:8080/"
        },
        "id": "nl4Av7RQN2qB",
        "outputId": "cb40b1b5-6362-489a-bdc8-622c401fcebb"
      },
      "outputs": [
        {
          "output_type": "stream",
          "name": "stdout",
          "text": [
            "Estatística do teste de Wilcoxon: 0.0\n",
            "Valor p: 6.103515625e-05\n",
            "Rejeitar H0: Há evidências suficientes para concluir existe diferenças entre as populações.\n"
          ]
        }
      ],
      "source": [
        "# Definindo as notas do primeiro teste\n",
        "notas_teste1 = np.array([60, 65, 70, 55, 68, 72, 58, 64, 75, 62, 70, 68, 72, 69, 66])\n",
        "\n",
        "# Definindo as notas do segundo teste\n",
        "notas_teste2 = np.array([65, 70, 75, 58, 70, 78, 60, 68, 80, 66, 75, 72, 77, 72, 68])\n",
        "\n",
        "# Aplicando o teste de Wilcoxon\n",
        "stat, p_valor = wilcoxon(notas_teste1, notas_teste2)\n",
        "\n",
        "# Exibindo os resultados\n",
        "print(\"Estatística do teste de Wilcoxon:\", stat)\n",
        "print(\"Valor p:\", p_valor)\n",
        "\n",
        "# Definindo o alpha\n",
        "alpha = 0.05\n",
        "\n",
        "# Conclusões\n",
        "if p_valor < alpha:\n",
        "    print(\"\\nRejeitar H0: Há evidências suficientes para concluir que existe diferenças entre as populações.\")\n",
        "else:\n",
        "    print(\"Falha em rejeitar H0: Não há evidências suficientes para concluir que existe diferenças entre as populações.\")"
      ]
    },
    {
      "cell_type": "markdown",
      "source": [
        "Apos aplicarmos nosso teste de wilcoxon utilizando um nivel de significancia de 0.05 rejeitamos a hipotese nula, logo podemos concluir que existem evidencias de que as populações apresentam diferenças ou seja existe diferenças entre as notas dos alunos após a aplicação do novo metodo"
      ],
      "metadata": {
        "id": "GRGtu00ESL26"
      }
    },
    {
      "cell_type": "markdown",
      "source": [
        "## **Teste de Mann-Whitney**"
      ],
      "metadata": {
        "id": "ppTjfch_S3bi"
      }
    },
    {
      "cell_type": "markdown",
      "source": [
        "O teste U de Mann-Whitney é a contrapartida não paramétrica do teste t\n",
        "para amostras independentes\n",
        "\n",
        "Quando utilizar o teste de Mann-Whitney:\n",
        "\n",
        "- Comparação de duas amostras independentes\n",
        "\n",
        "- Quando os dados não são distribuídos normalmente\n",
        "\n",
        "- Escalas ordinais ou categóricas\n",
        "\n",
        "- Amostras pequenas ou grandes\n",
        "\n",
        "- Quando você precisa de uma alternativa não paramétrica\n",
        "\n",
        "Nesses testes as hipoteses assumem a seguinte forma:\n",
        "\n",
        "- Hipótese nula: Não há diferença entre as duas populações\n",
        "- Hipótese alternativa: Existe uma diferença nas populações.\n",
        "\n",
        "Dito isso vamos observar uma aplicação desse teste"
      ],
      "metadata": {
        "id": "SvVGYmZYdPir"
      }
    },
    {
      "cell_type": "markdown",
      "source": [
        "Exercício:\n",
        "Suponha que você seja um pesquisador estudando o efeito de dois diferentes tratamentos em pacientes com dor crônica nas costas. Você coletou os níveis de dor relatados por 20 pacientes que receberam o tratamento A (amostra1) e os níveis de dor relatados por 20 pacientes diferentes que receberam o tratamento B (amostra2). Sua tarefa é aplicar o teste de Mann-Whitney para determinar se há uma diferença significativa nos níveis de dor entre os dois tratamentos.\n",
        "\n",
        "Os dados para as duas amostras são os seguintes:\n",
        "\n",
        "- Amostra 1 (tratamento A): [5, 6, 7, 8, 4, 6, 7, 8, 5, 6, 7, 8, 5, 6, 7, 8, 4, 6, 7, 8]\n",
        "- Amostra 2 (tratamento B): [3, 4, 5, 6, 3, 4, 5, 6, 3, 4, 5, 6, 3, 4, 5, 6, 3, 4, 5, 6]"
      ],
      "metadata": {
        "id": "Peou_1PreSsc"
      }
    },
    {
      "cell_type": "markdown",
      "source": [
        "Resposta: Como esse é um teste Mann-whitney podemos definir nossas hipoteses da seguinte forma\n",
        "\n",
        "- H0: Não há diferença entre as duas populações\n",
        "- Ha: Existe uma diferença nas populações.\n",
        "\n",
        "Dito isso vamos começar realizando as importações necessarias"
      ],
      "metadata": {
        "id": "yEpuyKFaeU4i"
      }
    },
    {
      "cell_type": "code",
      "source": [
        "# Importando o teste de Mann-whitney\n",
        "from scipy.stats import mannwhitneyu"
      ],
      "metadata": {
        "id": "YY5Uu9d9S9Z7"
      },
      "execution_count": 4,
      "outputs": []
    },
    {
      "cell_type": "markdown",
      "source": [
        "Agora vamos partir para os calculos"
      ],
      "metadata": {
        "id": "ERTCy2YgejRD"
      }
    },
    {
      "cell_type": "code",
      "source": [
        "# Criando duas amostras independentes\n",
        "tratamento_a = [23, 45, 67, 32, 41]\n",
        "tratamento_b = [18, 40, 65, 30, 38]\n",
        "\n",
        "# Aplicando o teste de Mann-Whitney\n",
        "stat, p_valor = mannwhitneyu(tratamento_a, tratamento_b)\n",
        "\n",
        "# Exibindo os resultados\n",
        "print(\"Estatística do teste de Wilcoxon:\", stat)\n",
        "print(\"Valor p:\", p_valor)\n",
        "\n",
        "# Definindo o alpha\n",
        "alpha = 0.05\n",
        "\n",
        "# Conclusões\n",
        "if p_valor < alpha:\n",
        "    print(\"\\nRejeitar H0: Há evidências suficientes para concluir que existe diferenças entre as populações.\")\n",
        "else:\n",
        "    print(\"\\nFalha em rejeitar H0: Não há evidências suficientes para concluir que existe diferenças entre as populações.\")"
      ],
      "metadata": {
        "colab": {
          "base_uri": "https://localhost:8080/"
        },
        "id": "e2EAJrr5elCr",
        "outputId": "bd40986a-7a41-47c7-fbc7-1ebce4d52b04"
      },
      "execution_count": 6,
      "outputs": [
        {
          "output_type": "stream",
          "name": "stdout",
          "text": [
            "Estatística do teste de Wilcoxon: 16.0\n",
            "Valor p: 0.5476190476190477\n",
            "\n",
            "Falha em rejeitar H0: Não há evidências suficientes para existe diferenças entre as populações.\n"
          ]
        }
      ]
    },
    {
      "cell_type": "markdown",
      "source": [
        "Apos a aplicação do nosso teste de Mann-whitney a um nivel de significancia de 0,05, falhamos em rejeitar a hipotese nula, logo podemos concluir que não existe evidencias suficientes das diferenças entre as populações então não existe diferença entre os niveis de dor dos tratamentos"
      ],
      "metadata": {
        "id": "pyM_-kUYfEDa"
      }
    },
    {
      "cell_type": "code",
      "source": [],
      "metadata": {
        "id": "454DTCB3etP0"
      },
      "execution_count": null,
      "outputs": []
    }
  ]
}