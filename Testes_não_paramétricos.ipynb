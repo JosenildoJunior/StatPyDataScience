{
  "nbformat": 4,
  "nbformat_minor": 0,
  "metadata": {
    "colab": {
      "provenance": [],
      "collapsed_sections": [
        "2gSHe-ewOfkh",
        "ppTjfch_S3bi",
        "tNG43VNzhOz0",
        "vOtRk5Lj9EJ9"
      ],
      "authorship_tag": "ABX9TyNRFPnepFcOQVH3AoczHsXq",
      "include_colab_link": true
    },
    "kernelspec": {
      "name": "python3",
      "display_name": "Python 3"
    },
    "language_info": {
      "name": "python"
    }
  },
  "cells": [
    {
      "cell_type": "markdown",
      "metadata": {
        "id": "view-in-github",
        "colab_type": "text"
      },
      "source": [
        "<a href=\"https://colab.research.google.com/github/JosenildoJunior/StatPyDataScience/blob/main/Testes_n%C3%A3o_param%C3%A9tricos.ipynb\" target=\"_parent\"><img src=\"https://colab.research.google.com/assets/colab-badge.svg\" alt=\"Open In Colab\"/></a>"
      ]
    },
    {
      "cell_type": "markdown",
      "source": [
        "# **O que são testes não paramétricos**"
      ],
      "metadata": {
        "id": "ah6LCHc4N7Op"
      }
    },
    {
      "cell_type": "markdown",
      "source": [
        "Um teste não paramétrico é um tipo de teste estatístico que não faz suposições sobre a distribuição subjacente dos dados. Em outras palavras, eles não requerem que os dados sejam normalmente distribuídos.\n",
        "\n",
        "Esses testes são úteis em várias situações, incluindo:\n",
        "\n",
        "- Quando os dados são de natureza ordinal, ou seja, podem ser ordenados, mas não se sabe a distância entre os valores.\n",
        "- Quando os dados são categóricos ou nominais.\n",
        "- Quando há violações das suposições dos testes paramétricos, como a normalidade ou a homogeneidade de variâncias.\n",
        "- Quando se deseja realizar inferências sobre a mediana, em vez da média, dos dados."
      ],
      "metadata": {
        "id": "HcBzcdm2ODDZ"
      }
    },
    {
      "cell_type": "markdown",
      "source": [
        "Agora vamos observar alguns exemplos de testes não paramétricos."
      ],
      "metadata": {
        "id": "BSlkvLRYObxh"
      }
    },
    {
      "cell_type": "markdown",
      "source": [
        "## **Teste de Wilcoxon**"
      ],
      "metadata": {
        "id": "2gSHe-ewOfkh"
      }
    },
    {
      "cell_type": "markdown",
      "source": [
        "O teste de Wilcoxon, também conhecido como teste de Wilcoxon de sinais ou teste de Wilcoxon de pares, é comumente usado para comparar duas amostras pareadas ou relacionadas.\n",
        "\n",
        "- Comparação de duas amostras pareadas\n",
        "\n",
        "- Quando os dados não são distribuídos normalmente\n",
        "\n",
        "- Pequenas amostras\n",
        "\n",
        "Nesse teste as hipoteses assumem as seguintes formas:\n",
        "\n",
        "- Hipótese nula: Não há diferença entre as duas populações\n",
        "- Hipótese alternativa: Existe uma diferença nas populações.\n",
        "\n",
        "Dito isso vamos observar um exemplo de aplicação desse teste\n"
      ],
      "metadata": {
        "id": "nZWJyQBIOwUJ"
      }
    },
    {
      "cell_type": "markdown",
      "source": [
        "**Exercício:**\n",
        "Você está conduzindo um experimento para determinar se um novo método de ensino melhora o desempenho dos alunos em um teste de matemática. Você coletou as notas de 15 alunos em um teste antes de aplicar o novo método (amostra1) e, em seguida, as notas desses mesmos alunos em um teste semelhante após a aplicação do novo método (amostra2). Use o teste de Wilcoxon para determinar se há uma diferença significativa nas notas dos alunos antes e depois da aplicação do novo método de ensino.\n",
        "\n",
        "- Valores das notas dos alunos no primeiro teste (amostra1):\n",
        "[60, 65, 70, 55, 68, 72, 58, 64, 75, 62, 70, 68, 72, 69, 66]\n",
        "\n",
        "- Valores das notas dos mesmos alunos no segundo teste (amostra2):\n",
        "[65, 70, 75, 58, 70, 78, 60, 68, 80, 66, 75, 72, 77, 72, 68]"
      ],
      "metadata": {
        "id": "GcsmQexIPsAB"
      }
    },
    {
      "cell_type": "markdown",
      "source": [
        "Resposta: Vamos aplicar o teste de Wilcoxon. Como já havíamos visto, as hipóteses por padrão vão assumir as seguintes formas:\n",
        "\n",
        "- H0: Não existe diferença entre as duas populações.\n",
        "\n",
        "- Ha: Existe diferença entre as duas populações.\n",
        "\n",
        "Dito isso, vamos seguir adiante para a importação dos recursos necessários."
      ],
      "metadata": {
        "id": "SrYnPrnEP24q"
      }
    },
    {
      "cell_type": "code",
      "source": [
        "# Funções matématicas\n",
        "import numpy as np\n",
        "\n",
        "# Importando o teste de wilcoxon\n",
        "from scipy.stats import wilcoxon"
      ],
      "metadata": {
        "id": "YtXnj-O8Pq9h"
      },
      "execution_count": null,
      "outputs": []
    },
    {
      "cell_type": "markdown",
      "source": [
        "Agora vamos para a aplicação do teste."
      ],
      "metadata": {
        "id": "RrnFxPOURL_q"
      }
    },
    {
      "cell_type": "code",
      "execution_count": null,
      "metadata": {
        "colab": {
          "base_uri": "https://localhost:8080/"
        },
        "id": "nl4Av7RQN2qB",
        "outputId": "474d34b6-c22d-4a2a-ed0b-08fec568db4e"
      },
      "outputs": [
        {
          "output_type": "stream",
          "name": "stdout",
          "text": [
            "Estatística do teste de Wilcoxon: 0.0\n",
            "Valor p: 6.103515625e-05\n",
            "\n",
            "Rejeitar H0: Há evidências suficientes para concluir que existe diferenças entre as populações.\n"
          ]
        }
      ],
      "source": [
        "# Definindo as notas do primeiro teste\n",
        "notas_teste1 = np.array([60, 65, 70, 55, 68, 72, 58, 64, 75, 62, 70, 68, 72, 69, 66])\n",
        "\n",
        "# Definindo as notas do segundo teste\n",
        "notas_teste2 = np.array([65, 70, 75, 58, 70, 78, 60, 68, 80, 66, 75, 72, 77, 72, 68])\n",
        "\n",
        "# Aplicando o teste de Wilcoxon\n",
        "stat, p_valor = wilcoxon(notas_teste1, notas_teste2)\n",
        "\n",
        "# Exibindo os resultados\n",
        "print(\"Estatística do teste de Wilcoxon:\", stat)\n",
        "print(\"Valor p:\", p_valor)\n",
        "\n",
        "# Definindo o alpha\n",
        "alpha = 0.05\n",
        "\n",
        "# Conclusões\n",
        "if p_valor < alpha:\n",
        "    print(\"\\nRejeitar H0: Há evidências suficientes para concluir que existe diferenças entre as populações.\")\n",
        "else:\n",
        "    print(\"Falha em rejeitar H0: Não há evidências suficientes para concluir que existe diferenças entre as populações.\")"
      ]
    },
    {
      "cell_type": "markdown",
      "source": [
        "Após aplicarmos nosso teste de Wilcoxon utilizando um nível de significância de 0.05, rejeitamos a hipótese nula. Logo, podemos concluir que existem evidências de que as populações apresentam diferenças, ou seja, há diferenças entre as notas dos alunos após a aplicação do novo método."
      ],
      "metadata": {
        "id": "GRGtu00ESL26"
      }
    },
    {
      "cell_type": "markdown",
      "source": [
        "## **Teste de Mann-Whitney**"
      ],
      "metadata": {
        "id": "ppTjfch_S3bi"
      }
    },
    {
      "cell_type": "markdown",
      "source": [
        "O teste U de Mann-Whitney é a contrapartida não paramétrica do teste t\n",
        "para amostras independentes\n",
        "\n",
        "Quando utilizar o teste de Mann-Whitney:\n",
        "\n",
        "- Comparação de duas amostras independentes\n",
        "\n",
        "- Quando os dados não são distribuídos normalmente\n",
        "\n",
        "- Escalas ordinais ou categóricas\n",
        "\n",
        "- Amostras pequenas ou grandes\n",
        "\n",
        "- Quando você precisa de uma alternativa não paramétrica\n",
        "\n",
        "Nesses testes as hipoteses assumem a seguinte forma:\n",
        "\n",
        "- Hipótese nula: Não há diferença entre as duas populações\n",
        "- Hipótese alternativa: Existe uma diferença nas populações.\n",
        "\n",
        "Dito isso vamos observar uma aplicação desse teste"
      ],
      "metadata": {
        "id": "SvVGYmZYdPir"
      }
    },
    {
      "cell_type": "markdown",
      "source": [
        "**Exercício:**\n",
        "Suponha que você seja um pesquisador estudando o efeito de dois diferentes tratamentos em pacientes com dor crônica nas costas. Você coletou os níveis de dor relatados por 20 pacientes que receberam o tratamento A (amostra1) e os níveis de dor relatados por 20 pacientes diferentes que receberam o tratamento B (amostra2). Sua tarefa é aplicar o teste de Mann-Whitney para determinar se há uma diferença significativa nos níveis de dor entre os dois tratamentos.\n",
        "\n",
        "Os dados para as duas amostras são os seguintes:\n",
        "\n",
        "- Amostra 1 (tratamento A): [5, 6, 7, 8, 4, 6, 7, 8, 5, 6, 7, 8, 5, 6, 7, 8, 4, 6, 7, 8]\n",
        "- Amostra 2 (tratamento B): [3, 4, 5, 6, 3, 4, 5, 6, 3, 4, 5, 6, 3, 4, 5, 6, 3, 4, 5, 6]"
      ],
      "metadata": {
        "id": "Peou_1PreSsc"
      }
    },
    {
      "cell_type": "markdown",
      "source": [
        "Resposta: Como este é um teste Mann-Whitney, podemos definir nossas hipóteses da seguinte forma:\n",
        "\n",
        "- H0: Amostra 1 = Amostra 2\n",
        "- Ha: Amostra 1 ≠ Amostra 2\n",
        "\n",
        "Dito isso, vamos começar realizando as importações necessárias."
      ],
      "metadata": {
        "id": "yEpuyKFaeU4i"
      }
    },
    {
      "cell_type": "code",
      "source": [
        "# Importando o teste de Mann-whitney\n",
        "from scipy.stats import mannwhitneyu"
      ],
      "metadata": {
        "id": "YY5Uu9d9S9Z7"
      },
      "execution_count": null,
      "outputs": []
    },
    {
      "cell_type": "markdown",
      "source": [
        "Agora vamos partir para os cálculos."
      ],
      "metadata": {
        "id": "ERTCy2YgejRD"
      }
    },
    {
      "cell_type": "code",
      "source": [
        "# Criando duas amostras independentes\n",
        "tratamento_a = [23, 45, 67, 32, 41]\n",
        "tratamento_b = [18, 40, 65, 30, 38]\n",
        "\n",
        "# Aplicando o teste de Mann-Whitney, Utilizei o 'alternative = two-sided' pois se trata de um teste bicaudal\n",
        "stat, p_valor = mannwhitneyu(tratamento_a, tratamento_b, alternative = 'two-sided')\n",
        "\n",
        "# Exibindo os resultados\n",
        "print(\"Estatística do teste de Mann-whitney:\", stat)\n",
        "print(\"Valor p:\", p_valor)\n",
        "\n",
        "# Definindo o alpha\n",
        "alpha = 0.05\n",
        "\n",
        "# Conclusões\n",
        "if p_valor < alpha:\n",
        "    print(\"\\nRejeitar H0: Há evidências suficientes para concluir que existe diferenças entre as populações.\")\n",
        "else:\n",
        "    print(\"\\nFalha em rejeitar H0: Não há evidências suficientes para concluir que existe diferenças entre as populações.\")"
      ],
      "metadata": {
        "colab": {
          "base_uri": "https://localhost:8080/"
        },
        "id": "e2EAJrr5elCr",
        "outputId": "77f0ceb1-f075-43ed-8f8e-9a4e46b57c9c"
      },
      "execution_count": null,
      "outputs": [
        {
          "output_type": "stream",
          "name": "stdout",
          "text": [
            "Estatística do teste de Mann-whitney: 16.0\n",
            "Valor p: 0.5476190476190477\n",
            "\n",
            "Falha em rejeitar H0: Não há evidências suficientes para concluir que existe diferenças entre as populações.\n"
          ]
        }
      ]
    },
    {
      "cell_type": "markdown",
      "source": [
        "Após a aplicação do nosso teste de Mann-Whitney a um nível de significância de 0,05, falhamos em rejeitar a hipótese nula. Logo, podemos concluir que não existem evidências suficientes das diferenças entre as populações, então não existe diferença entre os níveis de dor dos tratamentos."
      ],
      "metadata": {
        "id": "pyM_-kUYfEDa"
      }
    },
    {
      "cell_type": "markdown",
      "source": [
        "## **Teste de Kolmogorov-Smirnov(KS)**"
      ],
      "metadata": {
        "id": "tNG43VNzhOz0"
      }
    },
    {
      "cell_type": "markdown",
      "source": [
        "Diferente dos demais, o KS não tem o objetivo de comparar valores amostrais.\n",
        "A ideia aqui é aplicamos o teste de aderência de Kolmogorov-Smirnov para\n",
        "verificar se determinada amostra vem de população com distribuição\n",
        "específica. Essa “distribuição específica” é, na maioria das vezes, a distribuição\n",
        "normal.\n",
        "\n",
        "Nesses testes as hipoteses assumem:\n",
        "\n",
        "- A hipótese nula diz que a amostra segue a mesma distribuição que é\n",
        "normal.\n",
        "- A hipótese alternativa diz que as duas distribuições são diferentes."
      ],
      "metadata": {
        "id": "LdkYecTyk2AM"
      }
    },
    {
      "cell_type": "markdown",
      "source": [
        "Para entendermos melhor este teste, vamos observar um exemplo de aplicação."
      ],
      "metadata": {
        "id": "cNsbal1fmsx1"
      }
    },
    {
      "cell_type": "markdown",
      "source": [
        "**Exercício:**\n",
        "Suponha que você esteja estudando a altura de duas espécies de plantas em diferentes condições de solo. Você coletou a altura de 30 plantas da espécie A e 30 plantas da espécie B. Agora, sua tarefa é aplicar o teste de Kolmogorov-Smirnov para determinar se as alturas das duas espécies seguem a mesma distribuição de altura.\n",
        "\n",
        "Dados de altura das plantas da espécie A (amostra1):\n",
        "[20, 22, 25, 21, 23, 24, 26, 19, 20, 21, 23, 22, 24, 25, 26, 20, 21, 22, 23, 24, 25, 20, 21, 22, 23, 24, 25, 26, 27, 28]\n",
        "\n",
        "Dados de altura das plantas da espécie B (amostra2):\n",
        "[19, 21, 24, 20, 22, 23, 25, 18, 19, 20, 22, 21, 23, 24, 25, 19, 20, 21, 22, 23, 24, 19, 20, 21, 22, 23, 24, 25, 26, 27]\n",
        "\n",
        "Aplique o teste de Kolmogorov-Smirnov a esses dados e interprete os resultados."
      ],
      "metadata": {
        "id": "MqqWn9knm0r1"
      }
    },
    {
      "cell_type": "markdown",
      "source": [
        "**Resposta**: Dito isso, vamos começar a definir as nossas hipóteses:\n",
        "\n",
        "- H0: As amostras possuem distribuição iguais.\n",
        "- Ha: As amostras possuem distribuição diferentes.\n",
        "\n",
        "Agora que já realizamos as importações, vamos partir para os cálculos."
      ],
      "metadata": {
        "id": "wLVQwIW1m2it"
      }
    },
    {
      "cell_type": "code",
      "source": [
        "# Importando o KS\n",
        "from scipy.stats import ks_2samp\n",
        "\n",
        "# Funções matématicas\n",
        "import numpy as np"
      ],
      "metadata": {
        "id": "454DTCB3etP0"
      },
      "execution_count": null,
      "outputs": []
    },
    {
      "cell_type": "markdown",
      "source": [
        "Agora que já realizamos as importações, vamos partir para os cálculos."
      ],
      "metadata": {
        "id": "PNTU2xA1qOFt"
      }
    },
    {
      "cell_type": "code",
      "source": [
        "# Altura das plantas A\n",
        "especie_a = np.array([20, 22, 25, 21, 23, 24, 26, 19, 20, 21, 23, 22, 24, 25, 26, 20, 21, 22, 23, 24, 25, 20, 21, 22, 23, 24, 25, 26, 27, 28])\n",
        "\n",
        "# Altura das plantas B\n",
        "especie_b = np.array([19, 21, 24, 20, 22, 23, 25, 18, 19, 20, 22, 21, 23, 24, 25, 19, 20, 21, 22, 23, 24, 19, 20, 21, 22, 23, 24, 25, 26, 27])\n",
        "\n",
        "# Aplicando o teste de Kolmogorov-Smirnov\n",
        "stat, p_valor = ks_2samp(especie_a, especie_b)\n",
        "\n",
        "# Exibindo os resultados\n",
        "print(\"Estatística do teste KS:\", stat)\n",
        "print(\"Valor p:\", p_valor)\n",
        "\n",
        "# Definindo o alpha\n",
        "alpha = 0.05\n",
        "\n",
        "# Conclusões\n",
        "if p_valor < alpha:\n",
        "    print(\"Rejeitar H0: Não há evidências suficientes de que a distribuição de cada amostra é semelhante.\")\n",
        "else:\n",
        "    print(\"\\nFalha em rejeitar H0: Há evidências suficientes de que a distribuição de cada amostra é semelhante.\")"
      ],
      "metadata": {
        "colab": {
          "base_uri": "https://localhost:8080/"
        },
        "id": "OLj3RW8gqRxV",
        "outputId": "1219926b-1eaa-4f0f-8258-8a05e61ee6e6"
      },
      "execution_count": null,
      "outputs": [
        {
          "output_type": "stream",
          "name": "stdout",
          "text": [
            "Estatística do teste KS: 0.13333333333333333\n",
            "Valor p: 0.9578462903438838\n",
            "\n",
            "Falha em rejeitar H0: Há evidências suficientes de que a distribuição de cada amostra é semelhante.\n"
          ]
        }
      ]
    },
    {
      "cell_type": "markdown",
      "source": [
        "Ao aplicarmos o teste de Kolmogorov-Smirnov com um nível de significância de 0,05, não encontramos evidências suficientes para rejeitar a hipótese nula. Logo, podemos concluir que a distribuição das duas amostras é semelhante."
      ],
      "metadata": {
        "id": "Fov86hkcrGdP"
      }
    },
    {
      "cell_type": "markdown",
      "source": [
        "## **Bootstrapping**"
      ],
      "metadata": {
        "id": "vOtRk5Lj9EJ9"
      }
    },
    {
      "cell_type": "markdown",
      "source": [
        " O método de bootstrap é uma técnica estatística que permite estimar a distribuição de uma estatística amostral através da reamostragem dos dados disponíveis. Em resumo, o processo envolve criar várias amostras de dados (chamadas de reamostragens) a partir da amostra original, com reposição, e calcular a estatística de interesse para cada uma dessas amostras."
      ],
      "metadata": {
        "id": "lMYnMkm99rzc"
      }
    },
    {
      "cell_type": "markdown",
      "source": [
        "Para entendermos um pouco melhor do assunto, vamos observar um exercício."
      ],
      "metadata": {
        "id": "8KAD673G_A4O"
      }
    },
    {
      "cell_type": "markdown",
      "source": [
        "Exercício:\n",
        "Considere uma amostra de 50 observações da variável Y:\n",
        "\n",
        "\n",
        "- Y = [22,24,26,28,30,32,34,36,38,40,42,44,46,48,50,52,54,56,58,60,62,64,66,68,70,72,74,76,78,80,82,84,86,88,90,92,94,96,98,100,102,104,106,108,110,112,114,116,118]\n",
        "\n",
        "Utilize o método de bootstrap para estimar um intervalo de confiança de 90% para a média populacional de Y. Realize 1000 reamostragens."
      ],
      "metadata": {
        "id": "L1dWNtBO_HN8"
      }
    },
    {
      "cell_type": "markdown",
      "source": [
        "Resposta: Vamos começar realizando as importações necessárias para a nossa resolução."
      ],
      "metadata": {
        "id": "a1KOUAis_UoF"
      }
    },
    {
      "cell_type": "code",
      "source": [
        "# Importando o bootstrap\n",
        "from scipy.stats import bootstrap\n",
        "\n",
        "# Funções matématicas\n",
        "import numpy as np"
      ],
      "metadata": {
        "id": "wrQPGS5K_a0L"
      },
      "execution_count": 3,
      "outputs": []
    },
    {
      "cell_type": "markdown",
      "source": [
        "Com as importações realizadas, vamos partir para os cálculos."
      ],
      "metadata": {
        "id": "S3lY9zy9BrHO"
      }
    },
    {
      "cell_type": "code",
      "source": [
        "# Definindo os dados\n",
        "y = [22,24,26,28,30,32,34,36,38,40,42,44,46,48,50,52,54,56,58,60,62,64,66,68,70,72,74,76,78,80,82,84,86,88,90,92,94,96,98,100,102,104,106,108,110,112,114,116,118]\n",
        "\n",
        "# Convertendo os dados\n",
        "data = (y,)\n",
        "\n",
        "# Calculando com 90% de intervalo de confiança um bootstrap para a média\n",
        "bootstrap_ci = bootstrap(data, np.mean, confidence_level=0.90, method='percentile', n_resamples = 1000)\n",
        "\n",
        "# Observando o resultado do intervalo de confiança\n",
        "print(bootstrap_ci.confidence_interval)"
      ],
      "metadata": {
        "colab": {
          "base_uri": "https://localhost:8080/"
        },
        "id": "JPAB3EPD_e2M",
        "outputId": "3b94d388-b27f-4859-d062-a5d3c5390685"
      },
      "execution_count": 6,
      "outputs": [
        {
          "output_type": "stream",
          "name": "stdout",
          "text": [
            "ConfidenceInterval(low=62.73265306122449, high=76.3265306122449)\n"
          ]
        }
      ]
    },
    {
      "cell_type": "markdown",
      "source": [
        "Logo, podemos afirmar com 90% de confiança que a média populacional estará entre os valores de 62,73 e 76,32. Isso significa que, em 90% das vezes, a média amostral estará dentro desse intervalo se repetirmos o processo de amostragem."
      ],
      "metadata": {
        "id": "okeUju6EBhhG"
      }
    }
  ]
}