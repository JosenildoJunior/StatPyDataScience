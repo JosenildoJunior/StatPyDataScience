{
  "nbformat": 4,
  "nbformat_minor": 0,
  "metadata": {
    "colab": {
      "provenance": [],
      "collapsed_sections": [
        "SBpeXJ-8p1ip",
        "XeEXhzR68nKz",
        "kz0wDFuZ813M",
        "-Gz8U_SR9Ghj",
        "n8Rht8al9MTs",
        "3kEHHqUm9VFj",
        "FUa-EqiELypw",
        "DbocTbcZTuB7"
      ],
      "authorship_tag": "ABX9TyPLaT50cyKxDXK669HG3Cce",
      "include_colab_link": true
    },
    "kernelspec": {
      "name": "python3",
      "display_name": "Python 3"
    },
    "language_info": {
      "name": "python"
    }
  },
  "cells": [
    {
      "cell_type": "markdown",
      "metadata": {
        "id": "view-in-github",
        "colab_type": "text"
      },
      "source": [
        "<a href=\"https://colab.research.google.com/github/JosenildoJunior/StatPyDataScience/blob/main/Testes_A_B.ipynb\" target=\"_parent\"><img src=\"https://colab.research.google.com/assets/colab-badge.svg\" alt=\"Open In Colab\"/></a>"
      ]
    },
    {
      "cell_type": "markdown",
      "source": [
        "# **Introdução ao Teste A/B**"
      ],
      "metadata": {
        "id": "SBpeXJ-8p1ip"
      }
    },
    {
      "cell_type": "markdown",
      "source": [
        "## **O que é Teste A/B?**"
      ],
      "metadata": {
        "id": "XeEXhzR68nKz"
      }
    },
    {
      "cell_type": "markdown",
      "source": [
        "O teste A/B é uma técnica de experimentação utilizada em marketing digital e desenvolvimento de produtos para comparar duas versões de algo, como um site, e-mail, ou aplicativo, com pequenas diferenças entre elas. Ele é usado para determinar qual versão performa melhor em termos de um objetivo específico, como taxas de cliques, conversões, etc."
      ],
      "metadata": {
        "id": "YlWfaAB48xzz"
      }
    },
    {
      "cell_type": "markdown",
      "source": [
        "## **Como funciona ?**"
      ],
      "metadata": {
        "id": "kz0wDFuZ813M"
      }
    },
    {
      "cell_type": "markdown",
      "source": [
        "O teste A/B funciona ao direcionar aleatoriamente os usuários para uma das duas versões (A ou B) e coletar dados sobre como cada versão é interagida. Após isso, os resultados são analisados estatisticamente para determinar qual versão é mais eficaz."
      ],
      "metadata": {
        "id": "OshlKpXZ85Cy"
      }
    },
    {
      "cell_type": "markdown",
      "source": [
        "## **Benefícios**"
      ],
      "metadata": {
        "id": "-Gz8U_SR9Ghj"
      }
    },
    {
      "cell_type": "markdown",
      "source": [
        "Os benefícios do teste A/B incluem a capacidade de tomar decisões informadas baseadas em dados, melhorar a experiência do usuário, e otimizar as taxas de conversão."
      ],
      "metadata": {
        "id": "8OX3EUT_9KTD"
      }
    },
    {
      "cell_type": "markdown",
      "source": [
        "## **Exemplos de uso**"
      ],
      "metadata": {
        "id": "n8Rht8al9MTs"
      }
    },
    {
      "cell_type": "markdown",
      "source": [
        "O teste A/B é utilizado em uma variedade de contextos, incluindo teste de copywriting, design de página de destino, layout de e-mails, entre outros, para melhorar o desempenho e a eficácia das campanhas de marketing e produtos."
      ],
      "metadata": {
        "id": "3zKdWP609Oyc"
      }
    },
    {
      "cell_type": "markdown",
      "source": [
        "## **Passos para realizar um teste a/b**"
      ],
      "metadata": {
        "id": "3kEHHqUm9VFj"
      }
    },
    {
      "cell_type": "markdown",
      "source": [
        "Nesse caso, vamos utilizar 4 passos, mas podem existir mais, dependendo da sua realidade.\n",
        "\n",
        "- **Definição de objetivos e métricas:** É importante identificar claramente os objetivos do nosso experimento. Para medir o sucesso do experimento, é crucial definir métricas específicas que nos permitam avaliar esses objetivos.\n",
        "\n",
        "- **Abordagem de amostragem:** Uma abordagem de amostragem é essencial para garantir que possamos comparar os resultados de forma justa. Isso nos permitirá avaliar o impacto das mudanças de forma controlada e precisa.\n",
        "\n",
        "- **Cálculo do tamanho da amostra:** Para garantir que nosso experimento tenha poder estatístico suficiente, é crucial calcular o tamanho da amostra adequadamente. Isso nos ajudará a detectar diferenças significativas entre os grupos.\n",
        "\n",
        "- **Aplicação do teste de hipótese:** Planejamos aplicar um teste de hipótese para avaliar se as mudanças  apresentam diferenças significativas nas métricas de interesse. Isso nos permitirá tomar decisões informadas com base nos resultados do experimento."
      ],
      "metadata": {
        "id": "cMl0VwYt92FN"
      }
    },
    {
      "cell_type": "markdown",
      "source": [
        "## **Exercícios**"
      ],
      "metadata": {
        "id": "FUa-EqiELypw"
      }
    },
    {
      "cell_type": "markdown",
      "source": [
        "A equipe de marketing do LinkedIn testou duas versões de campanhas por e-mail, A e B, em São Francisco (SF) e na cidade de Nova York (NYC). Dos 100.000 e-mails enviados, 80% dos e-mails eram da versão A, enquanto o restante era da versão B. Aborde as perguntas abaixo para orientar a equipe de marketing.\n",
        "\n",
        "Dado que a taxa de cliques (CTR) do e-mail A foi de 15%, enquanto a do e-mail B foi de 30%, qual versão é mais eficaz?"
      ],
      "metadata": {
        "id": "6HzOe8Vrk8ZP"
      }
    },
    {
      "cell_type": "markdown",
      "source": [
        "Vamos começar criando um df com os valores do problema"
      ],
      "metadata": {
        "id": "W2vyMQ0RmKCR"
      }
    },
    {
      "cell_type": "code",
      "execution_count": null,
      "metadata": {
        "colab": {
          "base_uri": "https://localhost:8080/",
          "height": 125
        },
        "id": "Vu6VqaTbiCf-",
        "outputId": "de5e59f6-ff9c-4e67-d6eb-762b6ca28eca"
      },
      "outputs": [
        {
          "output_type": "execute_result",
          "data": {
            "text/plain": [
              "  variations   size  crt  count\n",
              "0          a  80000   15  12000\n",
              "1          b  20000   30   6000"
            ],
            "text/html": [
              "\n",
              "  <div id=\"df-663d8c3c-956c-4aa0-bb2f-efe1bd31b63a\" class=\"colab-df-container\">\n",
              "    <div>\n",
              "<style scoped>\n",
              "    .dataframe tbody tr th:only-of-type {\n",
              "        vertical-align: middle;\n",
              "    }\n",
              "\n",
              "    .dataframe tbody tr th {\n",
              "        vertical-align: top;\n",
              "    }\n",
              "\n",
              "    .dataframe thead th {\n",
              "        text-align: right;\n",
              "    }\n",
              "</style>\n",
              "<table border=\"1\" class=\"dataframe\">\n",
              "  <thead>\n",
              "    <tr style=\"text-align: right;\">\n",
              "      <th></th>\n",
              "      <th>variations</th>\n",
              "      <th>size</th>\n",
              "      <th>crt</th>\n",
              "      <th>count</th>\n",
              "    </tr>\n",
              "  </thead>\n",
              "  <tbody>\n",
              "    <tr>\n",
              "      <th>0</th>\n",
              "      <td>a</td>\n",
              "      <td>80000</td>\n",
              "      <td>15</td>\n",
              "      <td>12000</td>\n",
              "    </tr>\n",
              "    <tr>\n",
              "      <th>1</th>\n",
              "      <td>b</td>\n",
              "      <td>20000</td>\n",
              "      <td>30</td>\n",
              "      <td>6000</td>\n",
              "    </tr>\n",
              "  </tbody>\n",
              "</table>\n",
              "</div>\n",
              "    <div class=\"colab-df-buttons\">\n",
              "\n",
              "  <div class=\"colab-df-container\">\n",
              "    <button class=\"colab-df-convert\" onclick=\"convertToInteractive('df-663d8c3c-956c-4aa0-bb2f-efe1bd31b63a')\"\n",
              "            title=\"Convert this dataframe to an interactive table.\"\n",
              "            style=\"display:none;\">\n",
              "\n",
              "  <svg xmlns=\"http://www.w3.org/2000/svg\" height=\"24px\" viewBox=\"0 -960 960 960\">\n",
              "    <path d=\"M120-120v-720h720v720H120Zm60-500h600v-160H180v160Zm220 220h160v-160H400v160Zm0 220h160v-160H400v160ZM180-400h160v-160H180v160Zm440 0h160v-160H620v160ZM180-180h160v-160H180v160Zm440 0h160v-160H620v160Z\"/>\n",
              "  </svg>\n",
              "    </button>\n",
              "\n",
              "  <style>\n",
              "    .colab-df-container {\n",
              "      display:flex;\n",
              "      gap: 12px;\n",
              "    }\n",
              "\n",
              "    .colab-df-convert {\n",
              "      background-color: #E8F0FE;\n",
              "      border: none;\n",
              "      border-radius: 50%;\n",
              "      cursor: pointer;\n",
              "      display: none;\n",
              "      fill: #1967D2;\n",
              "      height: 32px;\n",
              "      padding: 0 0 0 0;\n",
              "      width: 32px;\n",
              "    }\n",
              "\n",
              "    .colab-df-convert:hover {\n",
              "      background-color: #E2EBFA;\n",
              "      box-shadow: 0px 1px 2px rgba(60, 64, 67, 0.3), 0px 1px 3px 1px rgba(60, 64, 67, 0.15);\n",
              "      fill: #174EA6;\n",
              "    }\n",
              "\n",
              "    .colab-df-buttons div {\n",
              "      margin-bottom: 4px;\n",
              "    }\n",
              "\n",
              "    [theme=dark] .colab-df-convert {\n",
              "      background-color: #3B4455;\n",
              "      fill: #D2E3FC;\n",
              "    }\n",
              "\n",
              "    [theme=dark] .colab-df-convert:hover {\n",
              "      background-color: #434B5C;\n",
              "      box-shadow: 0px 1px 3px 1px rgba(0, 0, 0, 0.15);\n",
              "      filter: drop-shadow(0px 1px 2px rgba(0, 0, 0, 0.3));\n",
              "      fill: #FFFFFF;\n",
              "    }\n",
              "  </style>\n",
              "\n",
              "    <script>\n",
              "      const buttonEl =\n",
              "        document.querySelector('#df-663d8c3c-956c-4aa0-bb2f-efe1bd31b63a button.colab-df-convert');\n",
              "      buttonEl.style.display =\n",
              "        google.colab.kernel.accessAllowed ? 'block' : 'none';\n",
              "\n",
              "      async function convertToInteractive(key) {\n",
              "        const element = document.querySelector('#df-663d8c3c-956c-4aa0-bb2f-efe1bd31b63a');\n",
              "        const dataTable =\n",
              "          await google.colab.kernel.invokeFunction('convertToInteractive',\n",
              "                                                    [key], {});\n",
              "        if (!dataTable) return;\n",
              "\n",
              "        const docLinkHtml = 'Like what you see? Visit the ' +\n",
              "          '<a target=\"_blank\" href=https://colab.research.google.com/notebooks/data_table.ipynb>data table notebook</a>'\n",
              "          + ' to learn more about interactive tables.';\n",
              "        element.innerHTML = '';\n",
              "        dataTable['output_type'] = 'display_data';\n",
              "        await google.colab.output.renderOutput(dataTable, element);\n",
              "        const docLink = document.createElement('div');\n",
              "        docLink.innerHTML = docLinkHtml;\n",
              "        element.appendChild(docLink);\n",
              "      }\n",
              "    </script>\n",
              "  </div>\n",
              "\n",
              "\n",
              "<div id=\"df-dcbd85fb-054b-4d58-a332-0b80463c2e3c\">\n",
              "  <button class=\"colab-df-quickchart\" onclick=\"quickchart('df-dcbd85fb-054b-4d58-a332-0b80463c2e3c')\"\n",
              "            title=\"Suggest charts\"\n",
              "            style=\"display:none;\">\n",
              "\n",
              "<svg xmlns=\"http://www.w3.org/2000/svg\" height=\"24px\"viewBox=\"0 0 24 24\"\n",
              "     width=\"24px\">\n",
              "    <g>\n",
              "        <path d=\"M19 3H5c-1.1 0-2 .9-2 2v14c0 1.1.9 2 2 2h14c1.1 0 2-.9 2-2V5c0-1.1-.9-2-2-2zM9 17H7v-7h2v7zm4 0h-2V7h2v10zm4 0h-2v-4h2v4z\"/>\n",
              "    </g>\n",
              "</svg>\n",
              "  </button>\n",
              "\n",
              "<style>\n",
              "  .colab-df-quickchart {\n",
              "      --bg-color: #E8F0FE;\n",
              "      --fill-color: #1967D2;\n",
              "      --hover-bg-color: #E2EBFA;\n",
              "      --hover-fill-color: #174EA6;\n",
              "      --disabled-fill-color: #AAA;\n",
              "      --disabled-bg-color: #DDD;\n",
              "  }\n",
              "\n",
              "  [theme=dark] .colab-df-quickchart {\n",
              "      --bg-color: #3B4455;\n",
              "      --fill-color: #D2E3FC;\n",
              "      --hover-bg-color: #434B5C;\n",
              "      --hover-fill-color: #FFFFFF;\n",
              "      --disabled-bg-color: #3B4455;\n",
              "      --disabled-fill-color: #666;\n",
              "  }\n",
              "\n",
              "  .colab-df-quickchart {\n",
              "    background-color: var(--bg-color);\n",
              "    border: none;\n",
              "    border-radius: 50%;\n",
              "    cursor: pointer;\n",
              "    display: none;\n",
              "    fill: var(--fill-color);\n",
              "    height: 32px;\n",
              "    padding: 0;\n",
              "    width: 32px;\n",
              "  }\n",
              "\n",
              "  .colab-df-quickchart:hover {\n",
              "    background-color: var(--hover-bg-color);\n",
              "    box-shadow: 0 1px 2px rgba(60, 64, 67, 0.3), 0 1px 3px 1px rgba(60, 64, 67, 0.15);\n",
              "    fill: var(--button-hover-fill-color);\n",
              "  }\n",
              "\n",
              "  .colab-df-quickchart-complete:disabled,\n",
              "  .colab-df-quickchart-complete:disabled:hover {\n",
              "    background-color: var(--disabled-bg-color);\n",
              "    fill: var(--disabled-fill-color);\n",
              "    box-shadow: none;\n",
              "  }\n",
              "\n",
              "  .colab-df-spinner {\n",
              "    border: 2px solid var(--fill-color);\n",
              "    border-color: transparent;\n",
              "    border-bottom-color: var(--fill-color);\n",
              "    animation:\n",
              "      spin 1s steps(1) infinite;\n",
              "  }\n",
              "\n",
              "  @keyframes spin {\n",
              "    0% {\n",
              "      border-color: transparent;\n",
              "      border-bottom-color: var(--fill-color);\n",
              "      border-left-color: var(--fill-color);\n",
              "    }\n",
              "    20% {\n",
              "      border-color: transparent;\n",
              "      border-left-color: var(--fill-color);\n",
              "      border-top-color: var(--fill-color);\n",
              "    }\n",
              "    30% {\n",
              "      border-color: transparent;\n",
              "      border-left-color: var(--fill-color);\n",
              "      border-top-color: var(--fill-color);\n",
              "      border-right-color: var(--fill-color);\n",
              "    }\n",
              "    40% {\n",
              "      border-color: transparent;\n",
              "      border-right-color: var(--fill-color);\n",
              "      border-top-color: var(--fill-color);\n",
              "    }\n",
              "    60% {\n",
              "      border-color: transparent;\n",
              "      border-right-color: var(--fill-color);\n",
              "    }\n",
              "    80% {\n",
              "      border-color: transparent;\n",
              "      border-right-color: var(--fill-color);\n",
              "      border-bottom-color: var(--fill-color);\n",
              "    }\n",
              "    90% {\n",
              "      border-color: transparent;\n",
              "      border-bottom-color: var(--fill-color);\n",
              "    }\n",
              "  }\n",
              "</style>\n",
              "\n",
              "  <script>\n",
              "    async function quickchart(key) {\n",
              "      const quickchartButtonEl =\n",
              "        document.querySelector('#' + key + ' button');\n",
              "      quickchartButtonEl.disabled = true;  // To prevent multiple clicks.\n",
              "      quickchartButtonEl.classList.add('colab-df-spinner');\n",
              "      try {\n",
              "        const charts = await google.colab.kernel.invokeFunction(\n",
              "            'suggestCharts', [key], {});\n",
              "      } catch (error) {\n",
              "        console.error('Error during call to suggestCharts:', error);\n",
              "      }\n",
              "      quickchartButtonEl.classList.remove('colab-df-spinner');\n",
              "      quickchartButtonEl.classList.add('colab-df-quickchart-complete');\n",
              "    }\n",
              "    (() => {\n",
              "      let quickchartButtonEl =\n",
              "        document.querySelector('#df-dcbd85fb-054b-4d58-a332-0b80463c2e3c button');\n",
              "      quickchartButtonEl.style.display =\n",
              "        google.colab.kernel.accessAllowed ? 'block' : 'none';\n",
              "    })();\n",
              "  </script>\n",
              "</div>\n",
              "\n",
              "  <div id=\"id_4e355a7b-41d0-4b7a-9e41-716ae17831cb\">\n",
              "    <style>\n",
              "      .colab-df-generate {\n",
              "        background-color: #E8F0FE;\n",
              "        border: none;\n",
              "        border-radius: 50%;\n",
              "        cursor: pointer;\n",
              "        display: none;\n",
              "        fill: #1967D2;\n",
              "        height: 32px;\n",
              "        padding: 0 0 0 0;\n",
              "        width: 32px;\n",
              "      }\n",
              "\n",
              "      .colab-df-generate:hover {\n",
              "        background-color: #E2EBFA;\n",
              "        box-shadow: 0px 1px 2px rgba(60, 64, 67, 0.3), 0px 1px 3px 1px rgba(60, 64, 67, 0.15);\n",
              "        fill: #174EA6;\n",
              "      }\n",
              "\n",
              "      [theme=dark] .colab-df-generate {\n",
              "        background-color: #3B4455;\n",
              "        fill: #D2E3FC;\n",
              "      }\n",
              "\n",
              "      [theme=dark] .colab-df-generate:hover {\n",
              "        background-color: #434B5C;\n",
              "        box-shadow: 0px 1px 3px 1px rgba(0, 0, 0, 0.15);\n",
              "        filter: drop-shadow(0px 1px 2px rgba(0, 0, 0, 0.3));\n",
              "        fill: #FFFFFF;\n",
              "      }\n",
              "    </style>\n",
              "    <button class=\"colab-df-generate\" onclick=\"generateWithVariable('data')\"\n",
              "            title=\"Generate code using this dataframe.\"\n",
              "            style=\"display:none;\">\n",
              "\n",
              "  <svg xmlns=\"http://www.w3.org/2000/svg\" height=\"24px\"viewBox=\"0 0 24 24\"\n",
              "       width=\"24px\">\n",
              "    <path d=\"M7,19H8.4L18.45,9,17,7.55,7,17.6ZM5,21V16.75L18.45,3.32a2,2,0,0,1,2.83,0l1.4,1.43a1.91,1.91,0,0,1,.58,1.4,1.91,1.91,0,0,1-.58,1.4L9.25,21ZM18.45,9,17,7.55Zm-12,3A5.31,5.31,0,0,0,4.9,8.1,5.31,5.31,0,0,0,1,6.5,5.31,5.31,0,0,0,4.9,4.9,5.31,5.31,0,0,0,6.5,1,5.31,5.31,0,0,0,8.1,4.9,5.31,5.31,0,0,0,12,6.5,5.46,5.46,0,0,0,6.5,12Z\"/>\n",
              "  </svg>\n",
              "    </button>\n",
              "    <script>\n",
              "      (() => {\n",
              "      const buttonEl =\n",
              "        document.querySelector('#id_4e355a7b-41d0-4b7a-9e41-716ae17831cb button.colab-df-generate');\n",
              "      buttonEl.style.display =\n",
              "        google.colab.kernel.accessAllowed ? 'block' : 'none';\n",
              "\n",
              "      buttonEl.onclick = () => {\n",
              "        google.colab.notebook.generateWithVariable('data');\n",
              "      }\n",
              "      })();\n",
              "    </script>\n",
              "  </div>\n",
              "\n",
              "    </div>\n",
              "  </div>\n"
            ],
            "application/vnd.google.colaboratory.intrinsic+json": {
              "type": "dataframe",
              "variable_name": "data",
              "summary": "{\n  \"name\": \"data\",\n  \"rows\": 2,\n  \"fields\": [\n    {\n      \"column\": \"variations\",\n      \"properties\": {\n        \"dtype\": \"string\",\n        \"num_unique_values\": 2,\n        \"samples\": [\n          \"b\",\n          \"a\"\n        ],\n        \"semantic_type\": \"\",\n        \"description\": \"\"\n      }\n    },\n    {\n      \"column\": \"size\",\n      \"properties\": {\n        \"dtype\": \"number\",\n        \"std\": 42426,\n        \"min\": 20000,\n        \"max\": 80000,\n        \"num_unique_values\": 2,\n        \"samples\": [\n          20000,\n          80000\n        ],\n        \"semantic_type\": \"\",\n        \"description\": \"\"\n      }\n    },\n    {\n      \"column\": \"crt\",\n      \"properties\": {\n        \"dtype\": \"number\",\n        \"std\": 10,\n        \"min\": 15,\n        \"max\": 30,\n        \"num_unique_values\": 2,\n        \"samples\": [\n          30,\n          15\n        ],\n        \"semantic_type\": \"\",\n        \"description\": \"\"\n      }\n    },\n    {\n      \"column\": \"count\",\n      \"properties\": {\n        \"dtype\": \"number\",\n        \"std\": 4242,\n        \"min\": 6000,\n        \"max\": 12000,\n        \"num_unique_values\": 2,\n        \"samples\": [\n          6000,\n          12000\n        ],\n        \"semantic_type\": \"\",\n        \"description\": \"\"\n      }\n    }\n  ]\n}"
            }
          },
          "metadata": {},
          "execution_count": 1
        }
      ],
      "source": [
        "# Manipulação de dados\n",
        "import pandas as pd\n",
        "\n",
        "# Funções matématicas\n",
        "import numpy as np\n",
        "\n",
        "data = {\n",
        "    'variations': ['a', 'b'],\n",
        "    'size': [80000, 20000],\n",
        "    'crt': [15, 30],\n",
        "    'count': [12000, 6000]\n",
        "}\n",
        "\n",
        "# Transformando os dados em df\n",
        "data = pd.DataFrame(data)\n",
        "\n",
        "# Exibindo os dados\n",
        "data"
      ]
    },
    {
      "cell_type": "markdown",
      "source": [
        "Importante levarmos em consideração que:\n",
        "\n",
        "- Size: Tamanho das amostras\n",
        "\n",
        "- CTR: Percentual de cliques\n",
        "\n",
        "- Count: Quantidade de cliques\n",
        "\n",
        "Dito isso vamos definir nossas hipoteses\n",
        "\n",
        "H0: A = B\n",
        "\n",
        "Ha: A ≠ B\n",
        "\n",
        "Estamos diante de um teste bicaudal para proporção logo vamos utilizar o teste z"
      ],
      "metadata": {
        "id": "QpK4VXgCmdfo"
      }
    },
    {
      "cell_type": "code",
      "source": [
        "# Funções matématicas\n",
        "import numpy as np\n",
        "\n",
        "# Teste Z\n",
        "import statsmodels.api as sm\n",
        "\n",
        "# Dados do problema original\n",
        "n1 = 80000  # tamanho da amostra A\n",
        "n2 = 20000  # tamanho da amostra B\n",
        "x1 = 12000  # número de cliques na amostra A\n",
        "x2 = 6000   # número de clientes na amostra B\n",
        "\n",
        "# Calculando o teste Z para a diferença de proporções\n",
        "Z, p_value = sm.stats.proportions_ztest([x1, x2], [n1, n2])\n",
        "\n",
        "print(\"Estatística de teste Z:\", Z)\n",
        "print(f\"Valor-p: {p_value}\\n\")\n",
        "\n",
        "# Definindo o alpha\n",
        "alpha = 0.05\n",
        "\n",
        "# Conclusões\n",
        "if p_value < alpha:\n",
        "  print(\"Rejeitar H0: Há evidências da diferença de proporções entre as amostras A e B.\")\n",
        "else:\n",
        "  print(\"Falha em rejeitar H0: Não existe evidências da diferença de proporções entre as amostras A e B.\")"
      ],
      "metadata": {
        "colab": {
          "base_uri": "https://localhost:8080/"
        },
        "id": "Q35L6m_a_m4t",
        "outputId": "5d32228c-d857-480b-d94e-c2011857b89b"
      },
      "execution_count": null,
      "outputs": [
        {
          "output_type": "stream",
          "name": "stdout",
          "text": [
            "Estatística de teste Z: -0.7826255530344017\n",
            "Valor-p: 0.43384703140074676\n",
            "\n",
            "Falha em rejeitar H0: Não existe evidências da diferença de proporções entre as amostras A e B.\n"
          ]
        }
      ]
    },
    {
      "cell_type": "markdown",
      "source": [
        "Apos aplicarmos um teste de hipotese com um nivel de significancia de 0,05, rejeitamos a hipotese nula logo podemos concluir que não temos evidencias suficientes de que as proporções sejam iguais"
      ],
      "metadata": {
        "id": "hPUxRexpLlIQ"
      }
    },
    {
      "cell_type": "code",
      "source": [
        "# Calculando o intervalo de confiança para a versão A\n",
        "ci_a = sm.stats.proportion_confint(x1, n1, alpha=0.05, method='normal')\n",
        "\n",
        "# Calculando o intervalo de confiança para a versão B\n",
        "ci_b = sm.stats.proportion_confint(x2, n2, alpha=0.05, method='normal')\n",
        "\n",
        "print(\"Intervalo de confiança para a versão A:\", ci_a)\n",
        "print(\"Intervalo de confiança para a versão B:\", ci_b)"
      ],
      "metadata": {
        "id": "WnzxGgqgCyRu",
        "outputId": "4c849660-f95f-4cb4-b684-2f66db7dd938",
        "colab": {
          "base_uri": "https://localhost:8080/"
        }
      },
      "execution_count": null,
      "outputs": [
        {
          "output_type": "stream",
          "name": "stdout",
          "text": [
            "Intervalo de confiança para a versão A: (0.14752566675739073, 0.15247433324260926)\n",
            "Intervalo de confiança para a versão B: (0.2936489908189888, 0.30635100918101116)\n"
          ]
        }
      ]
    },
    {
      "cell_type": "markdown",
      "source": [
        "Agora que já temos o intervalo de confiança, podemos afirmar que com 95% de confiança que a proporção para a amostra A está entre 0,14 e 0,15 enquanto para a amostra B esta entre 0,29 e 0,30. Logo podemos concluir que as proporções realmente são bem diferentes, já que nem mesmo existe sobreposição entre os intervalos dessas amostras"
      ],
      "metadata": {
        "id": "HHxhDmF6McA3"
      }
    },
    {
      "cell_type": "markdown",
      "source": [
        "Em SF, a CTR do e-mail A foi de 15%, enquanto a do e-mail B foi de 12,5%. Em NYC, a CTR do e-mail A foi de 15%, enquanto a do e-mail B foi de 41,7%. A tabela resumo abaixo mostra o número de e-mails por variação por cidade."
      ],
      "metadata": {
        "id": "H2leLymOMA64"
      }
    },
    {
      "cell_type": "markdown",
      "source": [
        "Vamos criar essa tabela utilizando o python"
      ],
      "metadata": {
        "id": "utE1hrlFNM9x"
      }
    },
    {
      "cell_type": "code",
      "source": [
        "data2 = {\n",
        "    'variations': ['a - SF', 'b - SF', 'a - NYC', 'b - NYC'],\n",
        "    'size': [60000, 8000, 20000, 12000],\n",
        "    'crt': [15, 12.5, 15, 41.7],\n",
        "    'count': [9000, 1000, 3000, 5000]\n",
        "}\n",
        "\n",
        "# Transformando os dados em df\n",
        "data2 = pd.DataFrame(data2)\n",
        "\n",
        "# Exibindo os dados\n",
        "data2"
      ],
      "metadata": {
        "colab": {
          "base_uri": "https://localhost:8080/",
          "height": 175
        },
        "id": "YVidG1amNPlA",
        "outputId": "d2498ee0-819e-411d-efc5-253928925785"
      },
      "execution_count": null,
      "outputs": [
        {
          "output_type": "execute_result",
          "data": {
            "text/plain": [
              "  variations   size   crt  count\n",
              "0     a - SF  60000  15.0   9000\n",
              "1     b - SF   8000  12.5   1000\n",
              "2    a - NYC  20000  15.0   3000\n",
              "3    b - NYC  12000  41.7   5000"
            ],
            "text/html": [
              "\n",
              "  <div id=\"df-596d508d-4c58-4100-b8a8-f9fa5c04e7ca\" class=\"colab-df-container\">\n",
              "    <div>\n",
              "<style scoped>\n",
              "    .dataframe tbody tr th:only-of-type {\n",
              "        vertical-align: middle;\n",
              "    }\n",
              "\n",
              "    .dataframe tbody tr th {\n",
              "        vertical-align: top;\n",
              "    }\n",
              "\n",
              "    .dataframe thead th {\n",
              "        text-align: right;\n",
              "    }\n",
              "</style>\n",
              "<table border=\"1\" class=\"dataframe\">\n",
              "  <thead>\n",
              "    <tr style=\"text-align: right;\">\n",
              "      <th></th>\n",
              "      <th>variations</th>\n",
              "      <th>size</th>\n",
              "      <th>crt</th>\n",
              "      <th>count</th>\n",
              "    </tr>\n",
              "  </thead>\n",
              "  <tbody>\n",
              "    <tr>\n",
              "      <th>0</th>\n",
              "      <td>a - SF</td>\n",
              "      <td>60000</td>\n",
              "      <td>15.0</td>\n",
              "      <td>9000</td>\n",
              "    </tr>\n",
              "    <tr>\n",
              "      <th>1</th>\n",
              "      <td>b - SF</td>\n",
              "      <td>8000</td>\n",
              "      <td>12.5</td>\n",
              "      <td>1000</td>\n",
              "    </tr>\n",
              "    <tr>\n",
              "      <th>2</th>\n",
              "      <td>a - NYC</td>\n",
              "      <td>20000</td>\n",
              "      <td>15.0</td>\n",
              "      <td>3000</td>\n",
              "    </tr>\n",
              "    <tr>\n",
              "      <th>3</th>\n",
              "      <td>b - NYC</td>\n",
              "      <td>12000</td>\n",
              "      <td>41.7</td>\n",
              "      <td>5000</td>\n",
              "    </tr>\n",
              "  </tbody>\n",
              "</table>\n",
              "</div>\n",
              "    <div class=\"colab-df-buttons\">\n",
              "\n",
              "  <div class=\"colab-df-container\">\n",
              "    <button class=\"colab-df-convert\" onclick=\"convertToInteractive('df-596d508d-4c58-4100-b8a8-f9fa5c04e7ca')\"\n",
              "            title=\"Convert this dataframe to an interactive table.\"\n",
              "            style=\"display:none;\">\n",
              "\n",
              "  <svg xmlns=\"http://www.w3.org/2000/svg\" height=\"24px\" viewBox=\"0 -960 960 960\">\n",
              "    <path d=\"M120-120v-720h720v720H120Zm60-500h600v-160H180v160Zm220 220h160v-160H400v160Zm0 220h160v-160H400v160ZM180-400h160v-160H180v160Zm440 0h160v-160H620v160ZM180-180h160v-160H180v160Zm440 0h160v-160H620v160Z\"/>\n",
              "  </svg>\n",
              "    </button>\n",
              "\n",
              "  <style>\n",
              "    .colab-df-container {\n",
              "      display:flex;\n",
              "      gap: 12px;\n",
              "    }\n",
              "\n",
              "    .colab-df-convert {\n",
              "      background-color: #E8F0FE;\n",
              "      border: none;\n",
              "      border-radius: 50%;\n",
              "      cursor: pointer;\n",
              "      display: none;\n",
              "      fill: #1967D2;\n",
              "      height: 32px;\n",
              "      padding: 0 0 0 0;\n",
              "      width: 32px;\n",
              "    }\n",
              "\n",
              "    .colab-df-convert:hover {\n",
              "      background-color: #E2EBFA;\n",
              "      box-shadow: 0px 1px 2px rgba(60, 64, 67, 0.3), 0px 1px 3px 1px rgba(60, 64, 67, 0.15);\n",
              "      fill: #174EA6;\n",
              "    }\n",
              "\n",
              "    .colab-df-buttons div {\n",
              "      margin-bottom: 4px;\n",
              "    }\n",
              "\n",
              "    [theme=dark] .colab-df-convert {\n",
              "      background-color: #3B4455;\n",
              "      fill: #D2E3FC;\n",
              "    }\n",
              "\n",
              "    [theme=dark] .colab-df-convert:hover {\n",
              "      background-color: #434B5C;\n",
              "      box-shadow: 0px 1px 3px 1px rgba(0, 0, 0, 0.15);\n",
              "      filter: drop-shadow(0px 1px 2px rgba(0, 0, 0, 0.3));\n",
              "      fill: #FFFFFF;\n",
              "    }\n",
              "  </style>\n",
              "\n",
              "    <script>\n",
              "      const buttonEl =\n",
              "        document.querySelector('#df-596d508d-4c58-4100-b8a8-f9fa5c04e7ca button.colab-df-convert');\n",
              "      buttonEl.style.display =\n",
              "        google.colab.kernel.accessAllowed ? 'block' : 'none';\n",
              "\n",
              "      async function convertToInteractive(key) {\n",
              "        const element = document.querySelector('#df-596d508d-4c58-4100-b8a8-f9fa5c04e7ca');\n",
              "        const dataTable =\n",
              "          await google.colab.kernel.invokeFunction('convertToInteractive',\n",
              "                                                    [key], {});\n",
              "        if (!dataTable) return;\n",
              "\n",
              "        const docLinkHtml = 'Like what you see? Visit the ' +\n",
              "          '<a target=\"_blank\" href=https://colab.research.google.com/notebooks/data_table.ipynb>data table notebook</a>'\n",
              "          + ' to learn more about interactive tables.';\n",
              "        element.innerHTML = '';\n",
              "        dataTable['output_type'] = 'display_data';\n",
              "        await google.colab.output.renderOutput(dataTable, element);\n",
              "        const docLink = document.createElement('div');\n",
              "        docLink.innerHTML = docLinkHtml;\n",
              "        element.appendChild(docLink);\n",
              "      }\n",
              "    </script>\n",
              "  </div>\n",
              "\n",
              "\n",
              "<div id=\"df-2b96f70e-fbc9-4c8b-a359-c4232b788429\">\n",
              "  <button class=\"colab-df-quickchart\" onclick=\"quickchart('df-2b96f70e-fbc9-4c8b-a359-c4232b788429')\"\n",
              "            title=\"Suggest charts\"\n",
              "            style=\"display:none;\">\n",
              "\n",
              "<svg xmlns=\"http://www.w3.org/2000/svg\" height=\"24px\"viewBox=\"0 0 24 24\"\n",
              "     width=\"24px\">\n",
              "    <g>\n",
              "        <path d=\"M19 3H5c-1.1 0-2 .9-2 2v14c0 1.1.9 2 2 2h14c1.1 0 2-.9 2-2V5c0-1.1-.9-2-2-2zM9 17H7v-7h2v7zm4 0h-2V7h2v10zm4 0h-2v-4h2v4z\"/>\n",
              "    </g>\n",
              "</svg>\n",
              "  </button>\n",
              "\n",
              "<style>\n",
              "  .colab-df-quickchart {\n",
              "      --bg-color: #E8F0FE;\n",
              "      --fill-color: #1967D2;\n",
              "      --hover-bg-color: #E2EBFA;\n",
              "      --hover-fill-color: #174EA6;\n",
              "      --disabled-fill-color: #AAA;\n",
              "      --disabled-bg-color: #DDD;\n",
              "  }\n",
              "\n",
              "  [theme=dark] .colab-df-quickchart {\n",
              "      --bg-color: #3B4455;\n",
              "      --fill-color: #D2E3FC;\n",
              "      --hover-bg-color: #434B5C;\n",
              "      --hover-fill-color: #FFFFFF;\n",
              "      --disabled-bg-color: #3B4455;\n",
              "      --disabled-fill-color: #666;\n",
              "  }\n",
              "\n",
              "  .colab-df-quickchart {\n",
              "    background-color: var(--bg-color);\n",
              "    border: none;\n",
              "    border-radius: 50%;\n",
              "    cursor: pointer;\n",
              "    display: none;\n",
              "    fill: var(--fill-color);\n",
              "    height: 32px;\n",
              "    padding: 0;\n",
              "    width: 32px;\n",
              "  }\n",
              "\n",
              "  .colab-df-quickchart:hover {\n",
              "    background-color: var(--hover-bg-color);\n",
              "    box-shadow: 0 1px 2px rgba(60, 64, 67, 0.3), 0 1px 3px 1px rgba(60, 64, 67, 0.15);\n",
              "    fill: var(--button-hover-fill-color);\n",
              "  }\n",
              "\n",
              "  .colab-df-quickchart-complete:disabled,\n",
              "  .colab-df-quickchart-complete:disabled:hover {\n",
              "    background-color: var(--disabled-bg-color);\n",
              "    fill: var(--disabled-fill-color);\n",
              "    box-shadow: none;\n",
              "  }\n",
              "\n",
              "  .colab-df-spinner {\n",
              "    border: 2px solid var(--fill-color);\n",
              "    border-color: transparent;\n",
              "    border-bottom-color: var(--fill-color);\n",
              "    animation:\n",
              "      spin 1s steps(1) infinite;\n",
              "  }\n",
              "\n",
              "  @keyframes spin {\n",
              "    0% {\n",
              "      border-color: transparent;\n",
              "      border-bottom-color: var(--fill-color);\n",
              "      border-left-color: var(--fill-color);\n",
              "    }\n",
              "    20% {\n",
              "      border-color: transparent;\n",
              "      border-left-color: var(--fill-color);\n",
              "      border-top-color: var(--fill-color);\n",
              "    }\n",
              "    30% {\n",
              "      border-color: transparent;\n",
              "      border-left-color: var(--fill-color);\n",
              "      border-top-color: var(--fill-color);\n",
              "      border-right-color: var(--fill-color);\n",
              "    }\n",
              "    40% {\n",
              "      border-color: transparent;\n",
              "      border-right-color: var(--fill-color);\n",
              "      border-top-color: var(--fill-color);\n",
              "    }\n",
              "    60% {\n",
              "      border-color: transparent;\n",
              "      border-right-color: var(--fill-color);\n",
              "    }\n",
              "    80% {\n",
              "      border-color: transparent;\n",
              "      border-right-color: var(--fill-color);\n",
              "      border-bottom-color: var(--fill-color);\n",
              "    }\n",
              "    90% {\n",
              "      border-color: transparent;\n",
              "      border-bottom-color: var(--fill-color);\n",
              "    }\n",
              "  }\n",
              "</style>\n",
              "\n",
              "  <script>\n",
              "    async function quickchart(key) {\n",
              "      const quickchartButtonEl =\n",
              "        document.querySelector('#' + key + ' button');\n",
              "      quickchartButtonEl.disabled = true;  // To prevent multiple clicks.\n",
              "      quickchartButtonEl.classList.add('colab-df-spinner');\n",
              "      try {\n",
              "        const charts = await google.colab.kernel.invokeFunction(\n",
              "            'suggestCharts', [key], {});\n",
              "      } catch (error) {\n",
              "        console.error('Error during call to suggestCharts:', error);\n",
              "      }\n",
              "      quickchartButtonEl.classList.remove('colab-df-spinner');\n",
              "      quickchartButtonEl.classList.add('colab-df-quickchart-complete');\n",
              "    }\n",
              "    (() => {\n",
              "      let quickchartButtonEl =\n",
              "        document.querySelector('#df-2b96f70e-fbc9-4c8b-a359-c4232b788429 button');\n",
              "      quickchartButtonEl.style.display =\n",
              "        google.colab.kernel.accessAllowed ? 'block' : 'none';\n",
              "    })();\n",
              "  </script>\n",
              "</div>\n",
              "\n",
              "  <div id=\"id_48aa808e-bde9-4d2c-8ec6-d6b5ed001827\">\n",
              "    <style>\n",
              "      .colab-df-generate {\n",
              "        background-color: #E8F0FE;\n",
              "        border: none;\n",
              "        border-radius: 50%;\n",
              "        cursor: pointer;\n",
              "        display: none;\n",
              "        fill: #1967D2;\n",
              "        height: 32px;\n",
              "        padding: 0 0 0 0;\n",
              "        width: 32px;\n",
              "      }\n",
              "\n",
              "      .colab-df-generate:hover {\n",
              "        background-color: #E2EBFA;\n",
              "        box-shadow: 0px 1px 2px rgba(60, 64, 67, 0.3), 0px 1px 3px 1px rgba(60, 64, 67, 0.15);\n",
              "        fill: #174EA6;\n",
              "      }\n",
              "\n",
              "      [theme=dark] .colab-df-generate {\n",
              "        background-color: #3B4455;\n",
              "        fill: #D2E3FC;\n",
              "      }\n",
              "\n",
              "      [theme=dark] .colab-df-generate:hover {\n",
              "        background-color: #434B5C;\n",
              "        box-shadow: 0px 1px 3px 1px rgba(0, 0, 0, 0.15);\n",
              "        filter: drop-shadow(0px 1px 2px rgba(0, 0, 0, 0.3));\n",
              "        fill: #FFFFFF;\n",
              "      }\n",
              "    </style>\n",
              "    <button class=\"colab-df-generate\" onclick=\"generateWithVariable('data2')\"\n",
              "            title=\"Generate code using this dataframe.\"\n",
              "            style=\"display:none;\">\n",
              "\n",
              "  <svg xmlns=\"http://www.w3.org/2000/svg\" height=\"24px\"viewBox=\"0 0 24 24\"\n",
              "       width=\"24px\">\n",
              "    <path d=\"M7,19H8.4L18.45,9,17,7.55,7,17.6ZM5,21V16.75L18.45,3.32a2,2,0,0,1,2.83,0l1.4,1.43a1.91,1.91,0,0,1,.58,1.4,1.91,1.91,0,0,1-.58,1.4L9.25,21ZM18.45,9,17,7.55Zm-12,3A5.31,5.31,0,0,0,4.9,8.1,5.31,5.31,0,0,0,1,6.5,5.31,5.31,0,0,0,4.9,4.9,5.31,5.31,0,0,0,6.5,1,5.31,5.31,0,0,0,8.1,4.9,5.31,5.31,0,0,0,12,6.5,5.46,5.46,0,0,0,6.5,12Z\"/>\n",
              "  </svg>\n",
              "    </button>\n",
              "    <script>\n",
              "      (() => {\n",
              "      const buttonEl =\n",
              "        document.querySelector('#id_48aa808e-bde9-4d2c-8ec6-d6b5ed001827 button.colab-df-generate');\n",
              "      buttonEl.style.display =\n",
              "        google.colab.kernel.accessAllowed ? 'block' : 'none';\n",
              "\n",
              "      buttonEl.onclick = () => {\n",
              "        google.colab.notebook.generateWithVariable('data2');\n",
              "      }\n",
              "      })();\n",
              "    </script>\n",
              "  </div>\n",
              "\n",
              "    </div>\n",
              "  </div>\n"
            ],
            "application/vnd.google.colaboratory.intrinsic+json": {
              "type": "dataframe",
              "variable_name": "data2",
              "summary": "{\n  \"name\": \"data2\",\n  \"rows\": 4,\n  \"fields\": [\n    {\n      \"column\": \"variations\",\n      \"properties\": {\n        \"dtype\": \"string\",\n        \"num_unique_values\": 4,\n        \"samples\": [\n          \"b - SF\",\n          \"b - NYC\",\n          \"a - SF\"\n        ],\n        \"semantic_type\": \"\",\n        \"description\": \"\"\n      }\n    },\n    {\n      \"column\": \"size\",\n      \"properties\": {\n        \"dtype\": \"number\",\n        \"std\": 23860,\n        \"min\": 8000,\n        \"max\": 60000,\n        \"num_unique_values\": 4,\n        \"samples\": [\n          8000,\n          12000,\n          60000\n        ],\n        \"semantic_type\": \"\",\n        \"description\": \"\"\n      }\n    },\n    {\n      \"column\": \"crt\",\n      \"properties\": {\n        \"dtype\": \"number\",\n        \"std\": 13.817018491700733,\n        \"min\": 12.5,\n        \"max\": 41.7,\n        \"num_unique_values\": 3,\n        \"samples\": [\n          15.0,\n          12.5,\n          41.7\n        ],\n        \"semantic_type\": \"\",\n        \"description\": \"\"\n      }\n    },\n    {\n      \"column\": \"count\",\n      \"properties\": {\n        \"dtype\": \"number\",\n        \"std\": 3415,\n        \"min\": 1000,\n        \"max\": 9000,\n        \"num_unique_values\": 4,\n        \"samples\": [\n          1000,\n          5000,\n          9000\n        ],\n        \"semantic_type\": \"\",\n        \"description\": \"\"\n      }\n    }\n  ]\n}"
            }
          },
          "metadata": {},
          "execution_count": 2
        }
      ]
    },
    {
      "cell_type": "markdown",
      "source": [
        "Vamos observar se existe diferença entre cada um desses locais, dito isso vamos começar pelo sf"
      ],
      "metadata": {
        "id": "rD61LAENPKzx"
      }
    },
    {
      "cell_type": "code",
      "source": [
        "# Funções matématicas\n",
        "import numpy as np\n",
        "\n",
        "# Teste Z\n",
        "import statsmodels.api as sm\n",
        "\n",
        "# Dados do problema original\n",
        "n1 = 60000  # tamanho da amostra A\n",
        "n2 = 8000  # tamanho da amostra B\n",
        "x1 = 0.15  # número de cliques na amostra A\n",
        "x2 = 0.125   # número de clientes na amostra B\n",
        "\n",
        "# Calculando o teste Z para a diferença de proporções\n",
        "Z, p_value = sm.stats.proportions_ztest([x1, x2], [n1, n2])\n",
        "\n",
        "print(\"Estatística de teste Z:\", Z)\n",
        "print(f\"Valor-p: {p_value}\\n\")\n",
        "\n",
        "# Definindo o alpha\n",
        "alpha = 0.05\n",
        "\n",
        "# Conclusões\n",
        "if p_value < alpha:\n",
        "  print(\"Rejeitar H0: Há evidências da diferença de proporções entre as amostras A e B.\")\n",
        "else:\n",
        "  print(\"Falha em rejeitar H0: Não existe evidências da diferença de proporções entre as amostras A e B.\")"
      ],
      "metadata": {
        "colab": {
          "base_uri": "https://localhost:8080/"
        },
        "id": "FnsestDIPRwG",
        "outputId": "07a82fca-d94c-4d4a-982c-e03593456838"
      },
      "execution_count": null,
      "outputs": [
        {
          "output_type": "stream",
          "name": "stdout",
          "text": [
            "Estatística de teste Z: -0.5483457250488809\n",
            "Valor-p: 0.5834545362533203\n",
            "\n",
            "Falha em rejeitar H0: Não existe evidências da diferença de proporções entre as amostras A e B.\n"
          ]
        }
      ]
    },
    {
      "cell_type": "code",
      "source": [
        "# Calculando o intervalo de confiança para a versão A\n",
        "ci_a = sm.stats.proportion_confint(x1, n1, alpha=0.05, method='normal')\n",
        "\n",
        "# Calculando o intervalo de confiança para a versão B\n",
        "ci_b = sm.stats.proportion_confint(x2, n2, alpha=0.05, method='normal')\n",
        "\n",
        "print(\"Intervalo de confiança para a versão A:\", ci_a)\n",
        "print(\"Intervalo de confiança para a versão B:\", ci_b)"
      ],
      "metadata": {
        "colab": {
          "base_uri": "https://localhost:8080/"
        },
        "id": "-A2NSGZ3P8Aw",
        "outputId": "7aa042d8-319a-42f1-84fe-ca9bbca546ec"
      },
      "execution_count": null,
      "outputs": [
        {
          "output_type": "stream",
          "name": "stdout",
          "text": [
            "Intervalo de confiança para a versão A: (0.1471428860726294, 0.15285711392737059)\n",
            "Intervalo de confiança para a versão B: (0.117752935434662, 0.132247064565338)\n"
          ]
        }
      ]
    },
    {
      "cell_type": "code",
      "source": [
        "# Funções matématicas\n",
        "import numpy as np\n",
        "\n",
        "# Teste Z\n",
        "import statsmodels.api as sm\n",
        "\n",
        "# Dados do problema original\n",
        "n1 = 20000  # tamanho da amostra A\n",
        "n2 = 12000  # tamanho da amostra B\n",
        "x1 = 3000  # número de cliques na amostra A\n",
        "x2 = 5000   # número de clientes na amostra B\n",
        "\n",
        "# Calculando o teste Z para a diferença de proporções\n",
        "Z, p_value = sm.stats.proportions_ztest([x1, x2], [n1, n2])\n",
        "\n",
        "print(\"Estatística de teste Z:\", Z)\n",
        "print(f\"Valor-p: {p_value}\\n\")\n",
        "\n",
        "# Definindo o alpha\n",
        "alpha = 0.05\n",
        "\n",
        "# Conclusões\n",
        "if p_value < alpha:\n",
        "  print(\"Rejeitar H0: Há evidências da diferença de proporções entre as amostras A e B.\")\n",
        "else:\n",
        "  print(\"Falha em rejeitar H0: Não existe evidências da diferença de proporções entre as amostras A e B.\")"
      ],
      "metadata": {
        "colab": {
          "base_uri": "https://localhost:8080/"
        },
        "id": "jmiv3T_nR3cq",
        "outputId": "a3231bc8-5a67-4484-e9ae-bd210eae1897"
      },
      "execution_count": null,
      "outputs": [
        {
          "output_type": "stream",
          "name": "stdout",
          "text": [
            "Estatística de teste Z: -53.33333333333334\n",
            "Valor-p: 0.0\n",
            "\n",
            "Rejeitar H0: Há evidências da diferença de proporções entre as amostras A e B.\n"
          ]
        }
      ]
    },
    {
      "cell_type": "code",
      "source": [
        "import statsmodels.api as sm\n",
        "\n",
        "# Dados do problema original\n",
        "n1_SF = 60000  # tamanho da amostra A em SF\n",
        "n2_SF = 8000   # tamanho da amostra B em SF\n",
        "x1_SF = 9000   # número de cliques na amostra A em SF\n",
        "x2_SF = 1000   # número de cliques na amostra B em SF\n",
        "\n",
        "n1_NYC = 20000  # tamanho da amostra A em NYC\n",
        "n2_NYC = 12000  # tamanho da amostra B em NYC\n",
        "x1_NYC = 3000   # número de cliques na amostra A em NYC\n",
        "x2_NYC = 5000   # número de cliques na amostra B em NYC\n",
        "\n",
        "# Calculando o teste Z para a diferença de proporções em SF\n",
        "Z_SF, p_value_SF = sm.stats.proportions_ztest([x1_SF, x2_SF], [n1_SF, n2_SF])\n",
        "\n",
        "# Calculando o teste Z para a diferença de proporções em NYC\n",
        "Z_NYC, p_value_NYC = sm.stats.proportions_ztest([x1_NYC, x2_NYC], [n1_NYC, n2_NYC])\n",
        "\n",
        "print(\"Estatística de teste Z para SF:\", Z_SF)\n",
        "print(\"Valor-p para SF:\", p_value_SF)\n",
        "print(\"Estatística de teste Z para NYC:\", Z_NYC)\n",
        "print(\"Valor-p para NYC:\", p_value_NYC)\n",
        "\n",
        "# Definindo o alpha\n",
        "alpha = 0.05\n",
        "\n",
        "# Conclusões\n",
        "if p_value_SF < alpha:\n",
        "  print(\"Rejeitar H0 para SF: Há evidências da diferença de proporções entre as amostras A e B em SF.\")\n",
        "else:\n",
        "  print(\"Falha em rejeitar H0 para SF: Não existe evidências da diferença de proporções entre as amostras A e B em SF.\")\n",
        "\n",
        "if p_value_NYC < alpha:\n",
        "  print(\"Rejeitar H0 para NYC: Há evidências da diferença de proporções entre as amostras A e B em NYC.\")\n",
        "else:\n",
        "  print(\"Falha em rejeitar H0 para NYC: Não existe evidências da diferença de proporções entre as amostras A e B em NYC.\")\n"
      ],
      "metadata": {
        "colab": {
          "base_uri": "https://localhost:8080/"
        },
        "id": "zYG9jgGJQ12K",
        "outputId": "95c1ddc2-8e67-4881-fffc-3a99849472f1"
      },
      "execution_count": null,
      "outputs": [
        {
          "output_type": "stream",
          "name": "stdout",
          "text": [
            "Estatística de teste Z para SF: 5.930633506894811\n",
            "Valor-p para SF: 3.017680994773782e-09\n",
            "Estatística de teste Z para NYC: -53.33333333333334\n",
            "Valor-p para NYC: 0.0\n",
            "Rejeitar H0 para SF: Há evidências da diferença de proporções entre as amostras A e B em SF.\n",
            "Rejeitar H0 para NYC: Há evidências da diferença de proporções entre as amostras A e B em NYC.\n"
          ]
        }
      ]
    },
    {
      "cell_type": "code",
      "source": [
        "# Dados do problema original\n",
        "n1_SF = 60000  # tamanho da amostra A em SF\n",
        "n2_SF = 8000   # tamanho da amostra B em SF\n",
        "x1_SF = 9000   # número de cliques na amostra A em SF\n",
        "x2_SF = 1000   # número de cliques na amostra B em SF\n",
        "\n",
        "# Calculando o teste Z para a diferença de proporções em SF\n",
        "Z_SF, p_value_SF = sm.stats.proportions_ztest([x1_SF, x2_SF], [n1_SF, n2_SF])\n",
        "\n",
        "print(\"Estatística de teste Z para SF:\", Z_SF)\n",
        "print(\"Valor-p para SF:\", p_value_SF)"
      ],
      "metadata": {
        "colab": {
          "base_uri": "https://localhost:8080/"
        },
        "id": "luTz0N5VRQpJ",
        "outputId": "d2e1709f-95c6-46ee-d914-bf5d85d986ae"
      },
      "execution_count": null,
      "outputs": [
        {
          "output_type": "stream",
          "name": "stdout",
          "text": [
            "Estatística de teste Z para SF: 5.930633506894811\n",
            "Valor-p para SF: 3.017680994773782e-09\n"
          ]
        }
      ]
    },
    {
      "cell_type": "code",
      "source": [
        "import statsmodels.api as sm\n",
        "\n",
        "# Dados do problema original\n",
        "n1_SF = 60000  # tamanho da amostra A em SF\n",
        "p1_SF = 0.15    # CTR da amostra A em SF\n",
        "n2_SF = 1000   # tamanho da conversão B em SF\n",
        "p2_SF = 0.125  # CTR da amostra B em SF\n",
        "\n",
        "# Calculando o teste Z para a diferença de proporções em SF\n",
        "Z_SF, p_value_SF = sm.stats.proportions_ztest([n1_SF * p1_SF, n2_SF * p2_SF], [n1_SF, n2_SF])\n",
        "\n",
        "print(\"Estatística de teste Z para SF:\", Z_SF)\n",
        "print(\"Valor-p para SF:\", p_value_SF)\n"
      ],
      "metadata": {
        "colab": {
          "base_uri": "https://localhost:8080/"
        },
        "id": "TV3Q5vQwSDER",
        "outputId": "e786b9d7-237e-46b9-fb0a-3f076c71bd53"
      },
      "execution_count": null,
      "outputs": [
        {
          "output_type": "stream",
          "name": "stdout",
          "text": [
            "Estatística de teste Z para SF: 2.1982903828568574\n",
            "Valor-p para SF: 0.027928419304733828\n"
          ]
        }
      ]
    },
    {
      "cell_type": "markdown",
      "source": [
        "## **Exercícios 2**"
      ],
      "metadata": {
        "id": "DbocTbcZTuB7"
      }
    },
    {
      "cell_type": "markdown",
      "source": [
        "Uma empresa comercializa um programa de perda de peso de oito semanas e afirma que no final do programa, em média, um participante terá perdido 5 kg. Por outro lado, você estudou o programa e acredita que o programa deles é cientificamente infundado e não deveria funcionar. Com algum financiamento limitado em mãos, você quer testar a hipótese de que o programa de perda de peso não ajuda as pessoas a perder peso.\n",
        "\n",
        "Seu plano é obter uma amostra aleatória de pessoas e colocá-las no programa. Você medirá seu peso no início do programa e, em seguida, medirá seu peso novamente no final do programa. Com base em algumas pesquisas anteriores, você acredita que o desvio padrão da diferença de peso ao longo de oito semanas será de 5 kg. Agora você quer saber quantas pessoas devem se inscrever no programa para testar sua hipótese."
      ],
      "metadata": {
        "id": "Lo8wyh-oTvdy"
      }
    },
    {
      "cell_type": "markdown",
      "source": [
        "H0: perda de peso = 5 kilos\n",
        "\n",
        "Ha: perda de peso != 5 kilos\n",
        "\n",
        "Estamos diantes de um teste bicaudal\n",
        "\n",
        "Importante frisar que teremos duas amostras dependentes sendo uma antes e uma depois, como conhecemos o desvio padrão podemos aplicar um teste t para duas amostras"
      ],
      "metadata": {
        "id": "UBOIjhr8UfeZ"
      }
    },
    {
      "cell_type": "markdown",
      "source": [],
      "metadata": {
        "id": "RYuth4W18i4L"
      }
    }
  ]
}