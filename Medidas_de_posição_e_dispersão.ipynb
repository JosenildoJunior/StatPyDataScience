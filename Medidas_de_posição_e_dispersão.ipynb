{
  "nbformat": 4,
  "nbformat_minor": 0,
  "metadata": {
    "colab": {
      "provenance": [],
      "collapsed_sections": [
        "7UzhHeNb-6H8",
        "cXUWUH6w_DR6",
        "gfJg2F6NBMXy",
        "X-9SyuY1CY1J",
        "_uS0klwODGOc"
      ],
      "authorship_tag": "ABX9TyO3eplvrbGDQejfLLcVkPdK",
      "include_colab_link": true
    },
    "kernelspec": {
      "name": "python3",
      "display_name": "Python 3"
    },
    "language_info": {
      "name": "python"
    }
  },
  "cells": [
    {
      "cell_type": "markdown",
      "metadata": {
        "id": "view-in-github",
        "colab_type": "text"
      },
      "source": [
        "<a href=\"https://colab.research.google.com/github/JosenildoJunior/StatPyDataScience/blob/main/Medidas_de_posi%C3%A7%C3%A3o_e_dispers%C3%A3o.ipynb\" target=\"_parent\"><img src=\"https://colab.research.google.com/assets/colab-badge.svg\" alt=\"Open In Colab\"/></a>"
      ]
    },
    {
      "cell_type": "markdown",
      "source": [
        "## Estatística com Python: Um Guia para Estudos e Solução de Problemas\n"
      ],
      "metadata": {
        "id": "4FdKkSUu5Tzm"
      }
    },
    {
      "cell_type": "markdown",
      "source": [
        "# **Medidas de posição e dispersão**"
      ],
      "metadata": {
        "id": "7UzhHeNb-6H8"
      }
    },
    {
      "cell_type": "markdown",
      "source": [
        "**Breve Resumo:**\n",
        "\n",
        "As medidas de posição e dispersão são ferramentas estatísticas essenciais que fornecem informações sobre a tendência central e a variabilidade de um conjunto de dados.\n",
        "\n",
        "**Quando Utilizar:**\n",
        "\n",
        "- Para compreender a concentração dos dados em torno de um valor central, utilizando medidas como média, mediana e moda.\n",
        "- Ao explorar a extensão dos dados e avaliar o quanto os valores se afastam da tendência central, utilizando medidas de dispersão como desvio padrão e amplitude interquartil.\n",
        "- Em situações em que é necessário comparar diferentes conjuntos de dados ou avaliar a consistência e a variabilidade em uma série temporal.\n",
        "- Para identificar outliers que podem impactar significativamente as análises estatísticas.\n",
        "- Na construção de intervalos de confiança para avaliar a precisão das estimativas em torno de uma medida central."
      ],
      "metadata": {
        "id": "PglZtMXp_AIi"
      }
    },
    {
      "cell_type": "markdown",
      "source": [
        "## Média aitmética, Moda e Mediana"
      ],
      "metadata": {
        "id": "cXUWUH6w_DR6"
      }
    },
    {
      "cell_type": "markdown",
      "source": [
        "É possivel realizar os calculos dessa médida de forma manualmente por assim dizer, porém utilizaremos bibliotecas para facilitar nessa parte então o primeiro pasos é realizar a importação das mesmas"
      ],
      "metadata": {
        "id": "wnQHOEzZ_NkA"
      }
    },
    {
      "cell_type": "code",
      "execution_count": 2,
      "metadata": {
        "id": "6TRxP4nw5FWd"
      },
      "outputs": [],
      "source": [
        "# Manipulação de dados\n",
        "import pandas as pd\n",
        "\n",
        "# Algébra linear\n",
        "import numpy as np\n",
        "\n",
        "# Funções estatísticas\n",
        "import statistics"
      ]
    },
    {
      "cell_type": "markdown",
      "source": [
        "Gerando dados ficticios"
      ],
      "metadata": {
        "id": "yGGljtAmBACU"
      }
    },
    {
      "cell_type": "code",
      "source": [
        "# Criando uma tabela\n",
        "dados = np.array([150, 151, 152, 152, 153, 154, 155, 155, 155, 155, 156, 156, 156,\n",
        "                  157, 158, 158, 160, 160, 160, 160, 160, 161, 161, 161, 161, 162,\n",
        "                  163, 163, 164, 164, 164, 165, 166, 167, 168, 168, 169, 170, 172,\n",
        "                  173])"
      ],
      "metadata": {
        "id": "ZU9iaM8BBBm6"
      },
      "execution_count": 3,
      "outputs": []
    },
    {
      "cell_type": "markdown",
      "source": [
        "### *Média*"
      ],
      "metadata": {
        "id": "gfJg2F6NBMXy"
      }
    },
    {
      "cell_type": "markdown",
      "source": [
        "Breve Resumo:\n",
        "\n",
        "A média aritmética é uma medida que representa o valor médio de um conjunto de dados, sendo útil para obter uma representação central em distribuições aproximadamente simétricas, sem a presença de valores extremos que possam distorcer o resultado (outliers).\n",
        "\n",
        "Quando Utilizar:\n",
        "\n",
        "- Para calcular uma representação central de um conjunto de dados.\n",
        "- Quando se trabalha com dados numéricos que seguem uma distribuição simétrica.\n",
        "- Em situações em que os valores extremos não têm um impacto desproporcional no resultado desejado.\n",
        "- Em análises estatísticas simples onde a tendência central é a principal preocupação."
      ],
      "metadata": {
        "id": "AWRUXjdpBlYe"
      }
    },
    {
      "cell_type": "code",
      "source": [
        "# Calculando a média e armazenando em uma variável\n",
        "media = dados.mean()\n",
        "\n",
        "# Exibindo a média\n",
        "media"
      ],
      "metadata": {
        "colab": {
          "base_uri": "https://localhost:8080/"
        },
        "id": "VzMbN_YHCC0k",
        "outputId": "ef0f5a98-6c4e-4a99-c4dc-66bea964abf5"
      },
      "execution_count": 7,
      "outputs": [
        {
          "output_type": "execute_result",
          "data": {
            "text/plain": [
              "160.375"
            ]
          },
          "metadata": {},
          "execution_count": 7
        }
      ]
    },
    {
      "cell_type": "markdown",
      "source": [
        "### *Mediana*"
      ],
      "metadata": {
        "id": "X-9SyuY1CY1J"
      }
    },
    {
      "cell_type": "markdown",
      "source": [
        "Breve Resumo:\n",
        "\n",
        "A mediana, medida de posição em dados ordenados, é valiosa em distribuições onde outliers podem afetar a interpretação da média aritmética. Divide o conjunto em duas partes iguais, sendo o valor central quando os dados estão ordenados. Essencial em cenários onde robustez contra outliers é desejada.\n",
        "\n",
        "Quando Utilizar:\n",
        "\n",
        "- Em distribuições onde a presença de outliers pode afetar significativamente a média aritmética.\n",
        "- Em conjunto com a média para avaliar a dispersão e simetria dos dados.\n",
        "- Em situações em que se deseja uma medida de posição que seja menos sensível a valores extremos.\n",
        "- Para compreender a distribuição central dos dados em diferentes cenários estatísticos."
      ],
      "metadata": {
        "id": "WkrG4WEHCbC4"
      }
    },
    {
      "cell_type": "code",
      "source": [
        "# Calculando a mediana e armazenando em uma variável\n",
        "mediana = np.median(dados)\n",
        "\n",
        "# Exibindo a mediana\n",
        "mediana"
      ],
      "metadata": {
        "colab": {
          "base_uri": "https://localhost:8080/"
        },
        "id": "2mn6hA4XCbIx",
        "outputId": "6796b7c4-e13b-4090-dd93-25995b5551cb"
      },
      "execution_count": 8,
      "outputs": [
        {
          "output_type": "execute_result",
          "data": {
            "text/plain": [
              "160.0"
            ]
          },
          "metadata": {},
          "execution_count": 8
        }
      ]
    },
    {
      "cell_type": "markdown",
      "source": [
        "### *Moda*"
      ],
      "metadata": {
        "id": "_uS0klwODGOc"
      }
    },
    {
      "cell_type": "markdown",
      "source": [
        "Breve Resumo:\n",
        "\n",
        "A moda representa o valor mais frequente em um conjunto de dados. Útil para identificar padrões e tendências de repetição nos dados. Enquanto média e mediana focam em valores centrais, a moda destaca valores mais recorrentes na distribuição.\n",
        "\n",
        "\n",
        "\n",
        "\n",
        "\n",
        "\n",
        "Quando Utilizar:\n",
        "\n",
        "- Para identificar o valor mais frequente em um conjunto de dados.\n",
        "- Destacar padrões e repetições na distribuição.\n",
        "- Em situações onde a frequência de ocorrência dos dados é crucial.\n",
        "- Complementar informações fornecidas pela média e mediana."
      ],
      "metadata": {
        "id": "2NRfHgJLDHsK"
      }
    },
    {
      "cell_type": "code",
      "source": [
        "# Calculando a moda e armazenando em uma variável\n",
        "moda = statistics.mode(dados)\n",
        "\n",
        "# Exibindo a moda\n",
        "moda"
      ],
      "metadata": {
        "colab": {
          "base_uri": "https://localhost:8080/"
        },
        "id": "EMsGIxWMDHyD",
        "outputId": "ac1a07bf-152a-4201-a16a-be16b185c800"
      },
      "execution_count": 9,
      "outputs": [
        {
          "output_type": "execute_result",
          "data": {
            "text/plain": [
              "160"
            ]
          },
          "metadata": {},
          "execution_count": 9
        }
      ]
    },
    {
      "cell_type": "markdown",
      "source": [
        "Exibindo todos os valores"
      ],
      "metadata": {
        "id": "k2shkksyDnDn"
      }
    },
    {
      "cell_type": "code",
      "source": [
        "print(f\"A média de desses dados é igual a: {media}, a mediana é: {mediana} e a moda é: {moda}\")"
      ],
      "metadata": {
        "colab": {
          "base_uri": "https://localhost:8080/"
        },
        "id": "nOtxlnThDuhP",
        "outputId": "3f4c0dfc-5baa-4328-f295-d50179b3a40b"
      },
      "execution_count": 10,
      "outputs": [
        {
          "output_type": "stream",
          "name": "stdout",
          "text": [
            "A média de desses dados é igual a: 160.375, a mediana é: 160.0 e a moda é: 160\n"
          ]
        }
      ]
    }
  ]
}