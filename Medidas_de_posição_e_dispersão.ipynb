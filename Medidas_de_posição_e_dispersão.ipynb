{
  "nbformat": 4,
  "nbformat_minor": 0,
  "metadata": {
    "colab": {
      "provenance": [],
      "collapsed_sections": [
        "7UzhHeNb-6H8",
        "cXUWUH6w_DR6",
        "gfJg2F6NBMXy",
        "X-9SyuY1CY1J",
        "_uS0klwODGOc",
        "v5UpimiwGAFF",
        "S8gl7C4G99UJ",
        "GkTYToQihSgG",
        "2QCvSguWkjh0",
        "5FzCgZLiB9qp",
        "nsru9eWfCLuH",
        "duDLUjlMC6pK",
        "EbYqHErSdcWD",
        "ljaxnxSEkQC-",
        "-bIDJJzoqpVW",
        "xz1NiZCCrqSY",
        "5oXkp0wWu_c_"
      ],
      "authorship_tag": "ABX9TyOYrk8nPeoKXEvfcA5K5GCI",
      "include_colab_link": true
    },
    "kernelspec": {
      "name": "python3",
      "display_name": "Python 3"
    },
    "language_info": {
      "name": "python"
    }
  },
  "cells": [
    {
      "cell_type": "markdown",
      "metadata": {
        "id": "view-in-github",
        "colab_type": "text"
      },
      "source": [
        "<a href=\"https://colab.research.google.com/github/JosenildoJunior/StatPyDataScience/blob/main/Medidas_de_posi%C3%A7%C3%A3o_e_dispers%C3%A3o.ipynb\" target=\"_parent\"><img src=\"https://colab.research.google.com/assets/colab-badge.svg\" alt=\"Open In Colab\"/></a>"
      ]
    },
    {
      "cell_type": "markdown",
      "source": [
        "## Estatística com Python: Um Guia para Estudos e Solução de Problemas\n"
      ],
      "metadata": {
        "id": "4FdKkSUu5Tzm"
      }
    },
    {
      "cell_type": "markdown",
      "source": [
        "# **Medidas de posição e dispersão**"
      ],
      "metadata": {
        "id": "7UzhHeNb-6H8"
      }
    },
    {
      "cell_type": "markdown",
      "source": [
        "**Breve Resumo:**\n",
        "\n",
        "As medidas de posição e dispersão são ferramentas estatísticas essenciais que fornecem informações sobre a tendência central e a variabilidade de um conjunto de dados.\n",
        "\n",
        "**Quando Utilizar:**\n",
        "\n",
        "- Para compreender a concentração dos dados em torno de um valor central, utilizando medidas como média, mediana e moda.\n",
        "- Ao explorar a extensão dos dados e avaliar o quanto os valores se afastam da tendência central, utilizando medidas de dispersão como desvio padrão e amplitude interquartil.\n",
        "- Em situações em que é necessário comparar diferentes conjuntos de dados ou avaliar a consistência e a variabilidade em uma série temporal.\n",
        "- Para identificar outliers que podem impactar significativamente as análises estatísticas.\n",
        "- Na construção de intervalos de confiança para avaliar a precisão das estimativas em torno de uma medida central."
      ],
      "metadata": {
        "id": "PglZtMXp_AIi"
      }
    },
    {
      "cell_type": "markdown",
      "source": [
        "## **Média aritmética, Moda e Mediana**"
      ],
      "metadata": {
        "id": "cXUWUH6w_DR6"
      }
    },
    {
      "cell_type": "markdown",
      "source": [
        "É possível realizar os cálculos dessa medida manualmente, por assim dizer. No entanto, utilizaremos bibliotecas para facilitar essa parte. Portanto, o primeiro passo é realizar a importação das mesmas."
      ],
      "metadata": {
        "id": "wnQHOEzZ_NkA"
      }
    },
    {
      "cell_type": "code",
      "execution_count": null,
      "metadata": {
        "id": "6TRxP4nw5FWd"
      },
      "outputs": [],
      "source": [
        "# Manipulação de dados\n",
        "import pandas as pd\n",
        "\n",
        "# Algébra linear\n",
        "import numpy as np\n",
        "\n",
        "# Funções estatísticas\n",
        "import statistics\n",
        "\n",
        "# Biblioteca para cálculo matématicos\n",
        "import math"
      ]
    },
    {
      "cell_type": "markdown",
      "source": [
        "Gerando dados fictícios."
      ],
      "metadata": {
        "id": "yGGljtAmBACU"
      }
    },
    {
      "cell_type": "code",
      "source": [
        "# Criando uma tabela\n",
        "dados = np.array([150, 151, 152, 152, 153, 154, 155, 155, 155, 155, 156, 156, 156,\n",
        "                  157, 158, 158, 160, 160, 160, 160, 160, 161, 161, 161, 161, 162,\n",
        "                  163, 163, 164, 164, 164, 165, 166, 167, 168, 168, 169, 170, 172,\n",
        "                  173])"
      ],
      "metadata": {
        "id": "ZU9iaM8BBBm6"
      },
      "execution_count": null,
      "outputs": []
    },
    {
      "cell_type": "markdown",
      "source": [
        "### *Média*"
      ],
      "metadata": {
        "id": "gfJg2F6NBMXy"
      }
    },
    {
      "cell_type": "markdown",
      "source": [
        "Breve Resumo:\n",
        "\n",
        "A média aritmética é uma medida que representa o valor médio de um conjunto de dados, sendo útil para obter uma representação central em distribuições aproximadamente simétricas, sem a presença de valores extremos que possam distorcer o resultado (outliers).\n",
        "\n",
        "Quando Utilizar:\n",
        "\n",
        "- Para calcular uma representação central de um conjunto de dados.\n",
        "- Quando se trabalha com dados numéricos que seguem uma distribuição simétrica.\n",
        "- Em situações em que os valores extremos não têm um impacto desproporcional no resultado desejado.\n",
        "- Em análises estatísticas simples onde a tendência central é a principal preocupação."
      ],
      "metadata": {
        "id": "AWRUXjdpBlYe"
      }
    },
    {
      "cell_type": "code",
      "source": [
        "# Calculando a média e armazenando em uma variável\n",
        "media = dados.mean()\n",
        "\n",
        "# Exibindo a média\n",
        "media"
      ],
      "metadata": {
        "colab": {
          "base_uri": "https://localhost:8080/"
        },
        "id": "VzMbN_YHCC0k",
        "outputId": "ef43e135-eaeb-441b-86ad-baf2a857078d"
      },
      "execution_count": null,
      "outputs": [
        {
          "output_type": "execute_result",
          "data": {
            "text/plain": [
              "160.375"
            ]
          },
          "metadata": {},
          "execution_count": 3
        }
      ]
    },
    {
      "cell_type": "markdown",
      "source": [
        "### *Mediana*"
      ],
      "metadata": {
        "id": "X-9SyuY1CY1J"
      }
    },
    {
      "cell_type": "markdown",
      "source": [
        "Breve Resumo:\n",
        "\n",
        "A mediana, medida de posição em dados ordenados, é valiosa em distribuições onde outliers podem afetar a interpretação da média aritmética. Divide o conjunto em duas partes iguais, sendo o valor central quando os dados estão ordenados. Essencial em cenários onde robustez contra outliers é desejada.\n",
        "\n",
        "Quando Utilizar:\n",
        "\n",
        "- Em distribuições onde a presença de outliers pode afetar significativamente a média aritmética.\n",
        "- Em conjunto com a média para avaliar a dispersão e simetria dos dados.\n",
        "- Em situações em que se deseja uma medida de posição que seja menos sensível a valores extremos.\n",
        "- Para compreender a distribuição central dos dados em diferentes cenários estatísticos."
      ],
      "metadata": {
        "id": "WkrG4WEHCbC4"
      }
    },
    {
      "cell_type": "code",
      "source": [
        "# Calculando a mediana e armazenando em uma variável\n",
        "mediana = np.median(dados)\n",
        "\n",
        "# Exibindo a mediana\n",
        "mediana"
      ],
      "metadata": {
        "colab": {
          "base_uri": "https://localhost:8080/"
        },
        "id": "2mn6hA4XCbIx",
        "outputId": "39d0459e-ef95-4b92-b15a-1520253c4cb9"
      },
      "execution_count": null,
      "outputs": [
        {
          "output_type": "execute_result",
          "data": {
            "text/plain": [
              "160.0"
            ]
          },
          "metadata": {},
          "execution_count": 4
        }
      ]
    },
    {
      "cell_type": "markdown",
      "source": [
        "### *Moda*"
      ],
      "metadata": {
        "id": "_uS0klwODGOc"
      }
    },
    {
      "cell_type": "markdown",
      "source": [
        "Breve Resumo:\n",
        "\n",
        "A moda representa o valor mais frequente em um conjunto de dados. Útil para identificar padrões e tendências de repetição nos dados. Enquanto média e mediana focam em valores centrais, a moda destaca valores mais recorrentes na distribuição.\n",
        "\n",
        "\n",
        "\n",
        "\n",
        "\n",
        "\n",
        "Quando Utilizar:\n",
        "\n",
        "- Para identificar o valor mais frequente em um conjunto de dados.\n",
        "- Destacar padrões e repetições na distribuição.\n",
        "- Em situações onde a frequência de ocorrência dos dados é crucial.\n",
        "- Complementar informações fornecidas pela média e mediana."
      ],
      "metadata": {
        "id": "2NRfHgJLDHsK"
      }
    },
    {
      "cell_type": "code",
      "source": [
        "# Calculando a moda e armazenando em uma variável\n",
        "moda = statistics.mode(dados)\n",
        "\n",
        "# Exibindo a moda\n",
        "moda"
      ],
      "metadata": {
        "colab": {
          "base_uri": "https://localhost:8080/"
        },
        "id": "EMsGIxWMDHyD",
        "outputId": "47baaae2-88e4-4b77-e9a4-adc36bfae06f"
      },
      "execution_count": null,
      "outputs": [
        {
          "output_type": "execute_result",
          "data": {
            "text/plain": [
              "160"
            ]
          },
          "metadata": {},
          "execution_count": 5
        }
      ]
    },
    {
      "cell_type": "markdown",
      "source": [
        "Exibindo todos os valores.\n"
      ],
      "metadata": {
        "id": "k2shkksyDnDn"
      }
    },
    {
      "cell_type": "code",
      "source": [
        "print(f\"A média de desses dados é igual a: {media}, a mediana é: {mediana} e a moda é: {moda}\")"
      ],
      "metadata": {
        "colab": {
          "base_uri": "https://localhost:8080/"
        },
        "id": "nOtxlnThDuhP",
        "outputId": "32c5e3e4-9956-438e-dccd-106824a77b1b"
      },
      "execution_count": null,
      "outputs": [
        {
          "output_type": "stream",
          "name": "stdout",
          "text": [
            "A média de desses dados é igual a: 160.375, a mediana é: 160.0 e a moda é: 160\n"
          ]
        }
      ]
    },
    {
      "cell_type": "markdown",
      "source": [
        "\n",
        "Interessante observar que, já que os dados não têm valores exorbitantes (outliers), a média e a mediana estão bem parelhas."
      ],
      "metadata": {
        "id": "_pTFu-qeFLaE"
      }
    },
    {
      "cell_type": "markdown",
      "source": [
        "## **Média ponderada**"
      ],
      "metadata": {
        "id": "v5UpimiwGAFF"
      }
    },
    {
      "cell_type": "markdown",
      "source": [
        "Breve Resumo:\n",
        "\n",
        "A média ponderada é uma medida de tendência central que ajusta os valores de um conjunto de dados com base em diferentes pesos atribuídos a cada elemento. Essa técnica é útil quando certos elementos têm maior importância, fornecendo uma representação mais precisa dos dados.\n",
        "\n",
        "Quando Utilizar:\n",
        "\n",
        "- Em situações onde alguns elementos do conjunto têm maior relevância que outros.\n",
        "- Quando é necessário considerar a importância ou peso de cada valor na média final.\n",
        "- Em cálculos que exigem uma representação mais precisa dos dados, levando em conta a influência de determinados elementos.\n",
        "- Em contextos nos quais a média aritmética tradicional não reflete adequadamente a contribuição real de cada elemento.\n"
      ],
      "metadata": {
        "id": "Yu5i2b6UGB-1"
      }
    },
    {
      "cell_type": "markdown",
      "source": [
        "Gerando dados"
      ],
      "metadata": {
        "id": "C0xVIyxZGSxT"
      }
    },
    {
      "cell_type": "code",
      "source": [
        "# criando um array\n",
        "notas = np.array([9, 8, 7, 3])\n",
        "\n",
        "# criando um array\n",
        "pesos = np.array([1, 2, 3, 4])"
      ],
      "metadata": {
        "id": "USmFloWlGUYD"
      },
      "execution_count": null,
      "outputs": []
    },
    {
      "cell_type": "markdown",
      "source": [
        "Para calcular a média, será utilizada uma função do numpy, passando como parâmetros o vetor das notas e o vetor peso, referente aos bimestres neste caso."
      ],
      "metadata": {
        "id": "taGiGJGAGd2x"
      }
    },
    {
      "cell_type": "code",
      "source": [
        "# Calculando a média ponderada\n",
        "media_ponderada = np.average(notas, weights=pesos)\n",
        "\n",
        "# Exibindo a média ponderada\n",
        "media_ponderada"
      ],
      "metadata": {
        "colab": {
          "base_uri": "https://localhost:8080/"
        },
        "id": "Os3wiBKGGCHM",
        "outputId": "1d693f53-db71-43b1-ceb8-454d334ca41f"
      },
      "execution_count": null,
      "outputs": [
        {
          "output_type": "execute_result",
          "data": {
            "text/plain": [
              "5.8"
            ]
          },
          "metadata": {},
          "execution_count": 8
        }
      ]
    },
    {
      "cell_type": "markdown",
      "source": [
        "## **Média harmônica**"
      ],
      "metadata": {
        "id": "S8gl7C4G99UJ"
      }
    },
    {
      "cell_type": "markdown",
      "source": [
        "Breve Resumo:\n",
        "\n",
        "A média harmônica é uma medida estatística que difere da média aritmética tradicional. Ela é calculada como o inverso da média dos inversos dos valores.\n",
        "\n",
        "A média harmônica pode ser utilizada em situações onde a ênfase em valores menores é crítica, como no cálculo de métricas de desempenho em problemas de classificação desbalanceada, onde a classe minoritária é crucial."
      ],
      "metadata": {
        "id": "pnMghSfB-VRe"
      }
    },
    {
      "cell_type": "markdown",
      "source": [
        "Importando o pacote"
      ],
      "metadata": {
        "id": "vHf89hJU-wyp"
      }
    },
    {
      "cell_type": "code",
      "source": [
        "# Realizando a importação da biblioteca para cálculo da média harmônica\n",
        "from scipy.stats.mstats import hmean"
      ],
      "metadata": {
        "id": "xedXcDJR9-VH"
      },
      "execution_count": null,
      "outputs": []
    },
    {
      "cell_type": "code",
      "source": [
        "# Realizando o cálculo  da média\n",
        "hmean(dados)"
      ],
      "metadata": {
        "colab": {
          "base_uri": "https://localhost:8080/"
        },
        "id": "rzNiQ_zb_Emv",
        "outputId": "17874075-7c48-4db7-8588-ed8fc5b2b605"
      },
      "execution_count": null,
      "outputs": [
        {
          "output_type": "execute_result",
          "data": {
            "text/plain": [
              "160.1647194799467"
            ]
          },
          "metadata": {},
          "execution_count": 10
        }
      ]
    },
    {
      "cell_type": "markdown",
      "source": [
        "A média harmonica é uma medida de tendência central que leva em consideração a importância relativa dos números. Se os números são todos iguais, a média harmonica será igual à média aritmética. Se os números são mais dispersos, a média harmonica será mais diferente da média aritmética."
      ],
      "metadata": {
        "id": "Y2NgUIHQkMYP"
      }
    },
    {
      "cell_type": "markdown",
      "source": [
        "## **Média geométrica**"
      ],
      "metadata": {
        "id": "GkTYToQihSgG"
      }
    },
    {
      "cell_type": "markdown",
      "source": [
        "\n",
        "Breve Resumo:\n",
        "\n",
        "A média geométrica é uma medida de tendência central que é obtida extraindo-se a raiz n-ésima da multiplicação dos n termos positivos de um conjunto de dados. Ela é útil para entender a variabilidade e posição relativa dos valores, especialmente em conjuntos de dados com valores positivos que se comportam como progressões geométricas.\n",
        "\n",
        "Quando Utilizar:\n",
        "\n",
        "- Na análise de dados para avaliar a variabilidade e identificar padrões, especialmente em conjuntos de dados com valores positivos que se comportam como progressões geométricas.\n",
        "- Em situações onde se busca compreender a distribuição dos dados em diferentes partes, especialmente em conjuntos de dados com valores positivos que se comportam como progressões geométricas.\n",
        "- Em análises exploratórias para entender a posição relativa dos valores em um conjunto de dados, especialmente em conjuntos de dados com valores positivos que se comportam como progressões geométricas."
      ],
      "metadata": {
        "id": "3KmIwzv1iiGk"
      }
    },
    {
      "cell_type": "markdown",
      "source": [
        "Importando o pacote necessário para o cálculo dessa média."
      ],
      "metadata": {
        "id": "5_iYkrPvhUjU"
      }
    },
    {
      "cell_type": "code",
      "source": [
        "# Importando a biblioteca\n",
        "from scipy.stats.mstats import gmean"
      ],
      "metadata": {
        "id": "JQklg6N1hUqN"
      },
      "execution_count": 6,
      "outputs": []
    },
    {
      "cell_type": "code",
      "source": [
        "# Realizando o cálculo\n",
        "gmean(dados)"
      ],
      "metadata": {
        "colab": {
          "base_uri": "https://localhost:8080/"
        },
        "id": "LEVqo_9GhaPU",
        "outputId": "02c12d22-0927-4d29-dc89-d5d4a0744863"
      },
      "execution_count": null,
      "outputs": [
        {
          "output_type": "execute_result",
          "data": {
            "text/plain": [
              "160.26958390038905"
            ]
          },
          "metadata": {},
          "execution_count": 11
        }
      ]
    },
    {
      "cell_type": "markdown",
      "source": [
        "A média geométrica é uma medida de tendência central que leva em consideração a ordem dos números. Se os números estão próximos uns dos outros, a média geométrica será mais próxima da média aritmética. Se os números estão mais dispersos, a média geométrica será mais diferente da média aritmética."
      ],
      "metadata": {
        "id": "CVbpZFPVjZe1"
      }
    },
    {
      "cell_type": "markdown",
      "source": [
        "## **Média quadrática**"
      ],
      "metadata": {
        "id": "2QCvSguWkjh0"
      }
    },
    {
      "cell_type": "markdown",
      "source": [
        "Breve Resumo:\n",
        "\n",
        "A média quadrática é uma medida de tendência central que é obtida calculando-se a raiz quadrada da média aritmética dos quadrados dos valores de um conjunto de dados. Ela é útil para entender a variabilidade e posição relativa dos valores, especialmente em conjuntos de dados com valores positivos ou negativos que são distribuídos de forma simétrica.\n",
        "\n",
        "Quando Utilizar:\n",
        "\n",
        "- Na análise de dados para avaliar a variabilidade e identificar padrões, especialmente em conjuntos de dados com valores positivos ou negativos que são distribuídos de forma simétrica.\n",
        "- Em situações onde se busca compreender a distribuição dos dados em diferentes partes, especialmente em conjuntos de dados com valores positivos ou negativos que são distribuídos de forma simétrica.\n",
        "- Em análises exploratórias para entender a posição relativa dos valores em um conjunto de dados, especialmente em conjuntos de dados com valores positivos ou negativos que são distribuídos de forma simétrica."
      ],
      "metadata": {
        "id": "DrBOIObjlpij"
      }
    },
    {
      "cell_type": "markdown",
      "source": [
        "Criando função para realizar o cálculo dessa média."
      ],
      "metadata": {
        "id": "8a008JvbklvL"
      }
    },
    {
      "cell_type": "code",
      "source": [
        "# Calculando a média quadrática\n",
        "def quadratic_mean(dados):\n",
        "  return math.sqrt(sum(n * n for n in dados) / len(dados))"
      ],
      "metadata": {
        "id": "BdiIzIT6kl2M"
      },
      "execution_count": 5,
      "outputs": []
    },
    {
      "cell_type": "code",
      "source": [
        "# Aplicando a função\n",
        "quadratic_mean(dados)"
      ],
      "metadata": {
        "colab": {
          "base_uri": "https://localhost:8080/"
        },
        "id": "YqxtOUYlk9Mq",
        "outputId": "d25f8a5d-fda6-4859-9da5-634f71814f36"
      },
      "execution_count": null,
      "outputs": [
        {
          "output_type": "execute_result",
          "data": {
            "text/plain": [
              "160.48091786876097"
            ]
          },
          "metadata": {},
          "execution_count": 16
        }
      ]
    },
    {
      "cell_type": "markdown",
      "source": [
        "É possível observar que a mediana e a média quadrática estão bem próximas. Isso pode indicar que os dados estão bem simétricos. Por mais que sejam em sua maior parte diferentes, eles não estão concentrados em um mesmo ponto."
      ],
      "metadata": {
        "id": "ejG9f0_hmTUo"
      }
    },
    {
      "cell_type": "markdown",
      "source": [
        "## **Quartis**"
      ],
      "metadata": {
        "id": "5FzCgZLiB9qp"
      }
    },
    {
      "cell_type": "markdown",
      "source": [
        "Breve Resumo:\n",
        "\n",
        "Os quartis dividem um conjunto de dados em quatro partes iguais, fornecendo insights sobre a dispersão e simetria. Q1 indica o 25% inferior, Q3 o 75% inferior e Q2 é a mediana. São úteis para entender a variabilidade e posição relativa dos valores.\n",
        "\n",
        "Quando Utilizar:\n",
        "\n",
        "- Na análise de dados para avaliar a dispersão e identificar padrões.\n",
        "\n",
        "- Em situações onde se busca compreender a distribuição dos dados em diferentes partes.\n",
        "\n",
        "- Em análises exploratórias para entender a posição relativa dos valores em um conjunto de dados."
      ],
      "metadata": {
        "id": "U_iTnRXkCADR"
      }
    },
    {
      "cell_type": "markdown",
      "source": [
        "### *Numpy*"
      ],
      "metadata": {
        "id": "nsru9eWfCLuH"
      }
    },
    {
      "cell_type": "markdown",
      "source": [
        "Nesta parte, os quartis serão calculados utilizando a biblioteca do NumPy."
      ],
      "metadata": {
        "id": "zVGVYoSuCP9H"
      }
    },
    {
      "cell_type": "code",
      "source": [
        "# Calculando o Q1\n",
        "q1 = np.quantile(dados, 0.25)\n",
        "\n",
        "# Calculando o Q2\n",
        "q2 = np.quantile(dados, 0.50)\n",
        "\n",
        "# Calculando o Q3\n",
        "q3 = np.quantile(dados, 0.75)"
      ],
      "metadata": {
        "id": "_pgllY7qCKII"
      },
      "execution_count": null,
      "outputs": []
    },
    {
      "cell_type": "code",
      "source": [
        "print(f\"O Q1 é igual a: {q1}, o Q2 é igual a: {q2} e o Q3 é igual a {q3}\")"
      ],
      "metadata": {
        "colab": {
          "base_uri": "https://localhost:8080/"
        },
        "id": "RIZm43uMCj-b",
        "outputId": "4baf065b-c3b1-4946-cc37-acf58265e81d"
      },
      "execution_count": null,
      "outputs": [
        {
          "output_type": "stream",
          "name": "stdout",
          "text": [
            "O Q1 é igual a: 155.75, o Q2 é igual a: 160.0 e o Q3 é igual a 164.0\n"
          ]
        }
      ]
    },
    {
      "cell_type": "markdown",
      "source": [
        "Podemos concluir que:\n",
        "- 25% dos dados são menores ou iguais a 155.75,\n",
        "- 50% dos dados são menores ou iguais a 160.0 e\n",
        "- 75% dos dados são menores ou iguais a 164.0."
      ],
      "metadata": {
        "id": "_MMHitdXoeKg"
      }
    },
    {
      "cell_type": "markdown",
      "source": [
        "### *Pandas*"
      ],
      "metadata": {
        "id": "duDLUjlMC6pK"
      }
    },
    {
      "cell_type": "markdown",
      "source": [
        "Utilizarei o Pandas para realizar o cálculo dos quartis."
      ],
      "metadata": {
        "id": "VOitkYyHDN9w"
      }
    },
    {
      "cell_type": "code",
      "source": [
        "# Transformando os dados em um Dataframe\n",
        "df = pd.DataFrame(dados)\n",
        "\n",
        "# Observando os dados\n",
        "df.head()"
      ],
      "metadata": {
        "colab": {
          "base_uri": "https://localhost:8080/",
          "height": 206
        },
        "id": "9eTiJ77LC74C",
        "outputId": "0fc6394a-a6c4-4589-c262-a8eb85ca4e9e"
      },
      "execution_count": null,
      "outputs": [
        {
          "output_type": "execute_result",
          "data": {
            "text/plain": [
              "     0\n",
              "0  150\n",
              "1  151\n",
              "2  152\n",
              "3  152\n",
              "4  153"
            ],
            "text/html": [
              "\n",
              "  <div id=\"df-c248e792-d8f1-461a-a6cf-94e6649eed13\" class=\"colab-df-container\">\n",
              "    <div>\n",
              "<style scoped>\n",
              "    .dataframe tbody tr th:only-of-type {\n",
              "        vertical-align: middle;\n",
              "    }\n",
              "\n",
              "    .dataframe tbody tr th {\n",
              "        vertical-align: top;\n",
              "    }\n",
              "\n",
              "    .dataframe thead th {\n",
              "        text-align: right;\n",
              "    }\n",
              "</style>\n",
              "<table border=\"1\" class=\"dataframe\">\n",
              "  <thead>\n",
              "    <tr style=\"text-align: right;\">\n",
              "      <th></th>\n",
              "      <th>0</th>\n",
              "    </tr>\n",
              "  </thead>\n",
              "  <tbody>\n",
              "    <tr>\n",
              "      <th>0</th>\n",
              "      <td>150</td>\n",
              "    </tr>\n",
              "    <tr>\n",
              "      <th>1</th>\n",
              "      <td>151</td>\n",
              "    </tr>\n",
              "    <tr>\n",
              "      <th>2</th>\n",
              "      <td>152</td>\n",
              "    </tr>\n",
              "    <tr>\n",
              "      <th>3</th>\n",
              "      <td>152</td>\n",
              "    </tr>\n",
              "    <tr>\n",
              "      <th>4</th>\n",
              "      <td>153</td>\n",
              "    </tr>\n",
              "  </tbody>\n",
              "</table>\n",
              "</div>\n",
              "    <div class=\"colab-df-buttons\">\n",
              "\n",
              "  <div class=\"colab-df-container\">\n",
              "    <button class=\"colab-df-convert\" onclick=\"convertToInteractive('df-c248e792-d8f1-461a-a6cf-94e6649eed13')\"\n",
              "            title=\"Convert this dataframe to an interactive table.\"\n",
              "            style=\"display:none;\">\n",
              "\n",
              "  <svg xmlns=\"http://www.w3.org/2000/svg\" height=\"24px\" viewBox=\"0 -960 960 960\">\n",
              "    <path d=\"M120-120v-720h720v720H120Zm60-500h600v-160H180v160Zm220 220h160v-160H400v160Zm0 220h160v-160H400v160ZM180-400h160v-160H180v160Zm440 0h160v-160H620v160ZM180-180h160v-160H180v160Zm440 0h160v-160H620v160Z\"/>\n",
              "  </svg>\n",
              "    </button>\n",
              "\n",
              "  <style>\n",
              "    .colab-df-container {\n",
              "      display:flex;\n",
              "      gap: 12px;\n",
              "    }\n",
              "\n",
              "    .colab-df-convert {\n",
              "      background-color: #E8F0FE;\n",
              "      border: none;\n",
              "      border-radius: 50%;\n",
              "      cursor: pointer;\n",
              "      display: none;\n",
              "      fill: #1967D2;\n",
              "      height: 32px;\n",
              "      padding: 0 0 0 0;\n",
              "      width: 32px;\n",
              "    }\n",
              "\n",
              "    .colab-df-convert:hover {\n",
              "      background-color: #E2EBFA;\n",
              "      box-shadow: 0px 1px 2px rgba(60, 64, 67, 0.3), 0px 1px 3px 1px rgba(60, 64, 67, 0.15);\n",
              "      fill: #174EA6;\n",
              "    }\n",
              "\n",
              "    .colab-df-buttons div {\n",
              "      margin-bottom: 4px;\n",
              "    }\n",
              "\n",
              "    [theme=dark] .colab-df-convert {\n",
              "      background-color: #3B4455;\n",
              "      fill: #D2E3FC;\n",
              "    }\n",
              "\n",
              "    [theme=dark] .colab-df-convert:hover {\n",
              "      background-color: #434B5C;\n",
              "      box-shadow: 0px 1px 3px 1px rgba(0, 0, 0, 0.15);\n",
              "      filter: drop-shadow(0px 1px 2px rgba(0, 0, 0, 0.3));\n",
              "      fill: #FFFFFF;\n",
              "    }\n",
              "  </style>\n",
              "\n",
              "    <script>\n",
              "      const buttonEl =\n",
              "        document.querySelector('#df-c248e792-d8f1-461a-a6cf-94e6649eed13 button.colab-df-convert');\n",
              "      buttonEl.style.display =\n",
              "        google.colab.kernel.accessAllowed ? 'block' : 'none';\n",
              "\n",
              "      async function convertToInteractive(key) {\n",
              "        const element = document.querySelector('#df-c248e792-d8f1-461a-a6cf-94e6649eed13');\n",
              "        const dataTable =\n",
              "          await google.colab.kernel.invokeFunction('convertToInteractive',\n",
              "                                                    [key], {});\n",
              "        if (!dataTable) return;\n",
              "\n",
              "        const docLinkHtml = 'Like what you see? Visit the ' +\n",
              "          '<a target=\"_blank\" href=https://colab.research.google.com/notebooks/data_table.ipynb>data table notebook</a>'\n",
              "          + ' to learn more about interactive tables.';\n",
              "        element.innerHTML = '';\n",
              "        dataTable['output_type'] = 'display_data';\n",
              "        await google.colab.output.renderOutput(dataTable, element);\n",
              "        const docLink = document.createElement('div');\n",
              "        docLink.innerHTML = docLinkHtml;\n",
              "        element.appendChild(docLink);\n",
              "      }\n",
              "    </script>\n",
              "  </div>\n",
              "\n",
              "\n",
              "<div id=\"df-8995ebb4-b7f4-4c6c-91b3-e2469ef91b33\">\n",
              "  <button class=\"colab-df-quickchart\" onclick=\"quickchart('df-8995ebb4-b7f4-4c6c-91b3-e2469ef91b33')\"\n",
              "            title=\"Suggest charts\"\n",
              "            style=\"display:none;\">\n",
              "\n",
              "<svg xmlns=\"http://www.w3.org/2000/svg\" height=\"24px\"viewBox=\"0 0 24 24\"\n",
              "     width=\"24px\">\n",
              "    <g>\n",
              "        <path d=\"M19 3H5c-1.1 0-2 .9-2 2v14c0 1.1.9 2 2 2h14c1.1 0 2-.9 2-2V5c0-1.1-.9-2-2-2zM9 17H7v-7h2v7zm4 0h-2V7h2v10zm4 0h-2v-4h2v4z\"/>\n",
              "    </g>\n",
              "</svg>\n",
              "  </button>\n",
              "\n",
              "<style>\n",
              "  .colab-df-quickchart {\n",
              "      --bg-color: #E8F0FE;\n",
              "      --fill-color: #1967D2;\n",
              "      --hover-bg-color: #E2EBFA;\n",
              "      --hover-fill-color: #174EA6;\n",
              "      --disabled-fill-color: #AAA;\n",
              "      --disabled-bg-color: #DDD;\n",
              "  }\n",
              "\n",
              "  [theme=dark] .colab-df-quickchart {\n",
              "      --bg-color: #3B4455;\n",
              "      --fill-color: #D2E3FC;\n",
              "      --hover-bg-color: #434B5C;\n",
              "      --hover-fill-color: #FFFFFF;\n",
              "      --disabled-bg-color: #3B4455;\n",
              "      --disabled-fill-color: #666;\n",
              "  }\n",
              "\n",
              "  .colab-df-quickchart {\n",
              "    background-color: var(--bg-color);\n",
              "    border: none;\n",
              "    border-radius: 50%;\n",
              "    cursor: pointer;\n",
              "    display: none;\n",
              "    fill: var(--fill-color);\n",
              "    height: 32px;\n",
              "    padding: 0;\n",
              "    width: 32px;\n",
              "  }\n",
              "\n",
              "  .colab-df-quickchart:hover {\n",
              "    background-color: var(--hover-bg-color);\n",
              "    box-shadow: 0 1px 2px rgba(60, 64, 67, 0.3), 0 1px 3px 1px rgba(60, 64, 67, 0.15);\n",
              "    fill: var(--button-hover-fill-color);\n",
              "  }\n",
              "\n",
              "  .colab-df-quickchart-complete:disabled,\n",
              "  .colab-df-quickchart-complete:disabled:hover {\n",
              "    background-color: var(--disabled-bg-color);\n",
              "    fill: var(--disabled-fill-color);\n",
              "    box-shadow: none;\n",
              "  }\n",
              "\n",
              "  .colab-df-spinner {\n",
              "    border: 2px solid var(--fill-color);\n",
              "    border-color: transparent;\n",
              "    border-bottom-color: var(--fill-color);\n",
              "    animation:\n",
              "      spin 1s steps(1) infinite;\n",
              "  }\n",
              "\n",
              "  @keyframes spin {\n",
              "    0% {\n",
              "      border-color: transparent;\n",
              "      border-bottom-color: var(--fill-color);\n",
              "      border-left-color: var(--fill-color);\n",
              "    }\n",
              "    20% {\n",
              "      border-color: transparent;\n",
              "      border-left-color: var(--fill-color);\n",
              "      border-top-color: var(--fill-color);\n",
              "    }\n",
              "    30% {\n",
              "      border-color: transparent;\n",
              "      border-left-color: var(--fill-color);\n",
              "      border-top-color: var(--fill-color);\n",
              "      border-right-color: var(--fill-color);\n",
              "    }\n",
              "    40% {\n",
              "      border-color: transparent;\n",
              "      border-right-color: var(--fill-color);\n",
              "      border-top-color: var(--fill-color);\n",
              "    }\n",
              "    60% {\n",
              "      border-color: transparent;\n",
              "      border-right-color: var(--fill-color);\n",
              "    }\n",
              "    80% {\n",
              "      border-color: transparent;\n",
              "      border-right-color: var(--fill-color);\n",
              "      border-bottom-color: var(--fill-color);\n",
              "    }\n",
              "    90% {\n",
              "      border-color: transparent;\n",
              "      border-bottom-color: var(--fill-color);\n",
              "    }\n",
              "  }\n",
              "</style>\n",
              "\n",
              "  <script>\n",
              "    async function quickchart(key) {\n",
              "      const quickchartButtonEl =\n",
              "        document.querySelector('#' + key + ' button');\n",
              "      quickchartButtonEl.disabled = true;  // To prevent multiple clicks.\n",
              "      quickchartButtonEl.classList.add('colab-df-spinner');\n",
              "      try {\n",
              "        const charts = await google.colab.kernel.invokeFunction(\n",
              "            'suggestCharts', [key], {});\n",
              "      } catch (error) {\n",
              "        console.error('Error during call to suggestCharts:', error);\n",
              "      }\n",
              "      quickchartButtonEl.classList.remove('colab-df-spinner');\n",
              "      quickchartButtonEl.classList.add('colab-df-quickchart-complete');\n",
              "    }\n",
              "    (() => {\n",
              "      let quickchartButtonEl =\n",
              "        document.querySelector('#df-8995ebb4-b7f4-4c6c-91b3-e2469ef91b33 button');\n",
              "      quickchartButtonEl.style.display =\n",
              "        google.colab.kernel.accessAllowed ? 'block' : 'none';\n",
              "    })();\n",
              "  </script>\n",
              "</div>\n",
              "    </div>\n",
              "  </div>\n"
            ]
          },
          "metadata": {},
          "execution_count": 15
        }
      ]
    },
    {
      "cell_type": "code",
      "source": [
        "# Pegando os quartis, note que é possivél passar uma lista com os quartis desejados\n",
        "df.quantile([0.25, 0.5, 0.75])"
      ],
      "metadata": {
        "colab": {
          "base_uri": "https://localhost:8080/",
          "height": 143
        },
        "id": "1CCY2QEADHBJ",
        "outputId": "eea61674-11a7-4c13-8fba-3be7e137cde3"
      },
      "execution_count": null,
      "outputs": [
        {
          "output_type": "execute_result",
          "data": {
            "text/plain": [
              "           0\n",
              "0.25  155.75\n",
              "0.50  160.00\n",
              "0.75  164.00"
            ],
            "text/html": [
              "\n",
              "  <div id=\"df-250e8bac-c749-49ae-9332-f4ebd5680d9d\" class=\"colab-df-container\">\n",
              "    <div>\n",
              "<style scoped>\n",
              "    .dataframe tbody tr th:only-of-type {\n",
              "        vertical-align: middle;\n",
              "    }\n",
              "\n",
              "    .dataframe tbody tr th {\n",
              "        vertical-align: top;\n",
              "    }\n",
              "\n",
              "    .dataframe thead th {\n",
              "        text-align: right;\n",
              "    }\n",
              "</style>\n",
              "<table border=\"1\" class=\"dataframe\">\n",
              "  <thead>\n",
              "    <tr style=\"text-align: right;\">\n",
              "      <th></th>\n",
              "      <th>0</th>\n",
              "    </tr>\n",
              "  </thead>\n",
              "  <tbody>\n",
              "    <tr>\n",
              "      <th>0.25</th>\n",
              "      <td>155.75</td>\n",
              "    </tr>\n",
              "    <tr>\n",
              "      <th>0.50</th>\n",
              "      <td>160.00</td>\n",
              "    </tr>\n",
              "    <tr>\n",
              "      <th>0.75</th>\n",
              "      <td>164.00</td>\n",
              "    </tr>\n",
              "  </tbody>\n",
              "</table>\n",
              "</div>\n",
              "    <div class=\"colab-df-buttons\">\n",
              "\n",
              "  <div class=\"colab-df-container\">\n",
              "    <button class=\"colab-df-convert\" onclick=\"convertToInteractive('df-250e8bac-c749-49ae-9332-f4ebd5680d9d')\"\n",
              "            title=\"Convert this dataframe to an interactive table.\"\n",
              "            style=\"display:none;\">\n",
              "\n",
              "  <svg xmlns=\"http://www.w3.org/2000/svg\" height=\"24px\" viewBox=\"0 -960 960 960\">\n",
              "    <path d=\"M120-120v-720h720v720H120Zm60-500h600v-160H180v160Zm220 220h160v-160H400v160Zm0 220h160v-160H400v160ZM180-400h160v-160H180v160Zm440 0h160v-160H620v160ZM180-180h160v-160H180v160Zm440 0h160v-160H620v160Z\"/>\n",
              "  </svg>\n",
              "    </button>\n",
              "\n",
              "  <style>\n",
              "    .colab-df-container {\n",
              "      display:flex;\n",
              "      gap: 12px;\n",
              "    }\n",
              "\n",
              "    .colab-df-convert {\n",
              "      background-color: #E8F0FE;\n",
              "      border: none;\n",
              "      border-radius: 50%;\n",
              "      cursor: pointer;\n",
              "      display: none;\n",
              "      fill: #1967D2;\n",
              "      height: 32px;\n",
              "      padding: 0 0 0 0;\n",
              "      width: 32px;\n",
              "    }\n",
              "\n",
              "    .colab-df-convert:hover {\n",
              "      background-color: #E2EBFA;\n",
              "      box-shadow: 0px 1px 2px rgba(60, 64, 67, 0.3), 0px 1px 3px 1px rgba(60, 64, 67, 0.15);\n",
              "      fill: #174EA6;\n",
              "    }\n",
              "\n",
              "    .colab-df-buttons div {\n",
              "      margin-bottom: 4px;\n",
              "    }\n",
              "\n",
              "    [theme=dark] .colab-df-convert {\n",
              "      background-color: #3B4455;\n",
              "      fill: #D2E3FC;\n",
              "    }\n",
              "\n",
              "    [theme=dark] .colab-df-convert:hover {\n",
              "      background-color: #434B5C;\n",
              "      box-shadow: 0px 1px 3px 1px rgba(0, 0, 0, 0.15);\n",
              "      filter: drop-shadow(0px 1px 2px rgba(0, 0, 0, 0.3));\n",
              "      fill: #FFFFFF;\n",
              "    }\n",
              "  </style>\n",
              "\n",
              "    <script>\n",
              "      const buttonEl =\n",
              "        document.querySelector('#df-250e8bac-c749-49ae-9332-f4ebd5680d9d button.colab-df-convert');\n",
              "      buttonEl.style.display =\n",
              "        google.colab.kernel.accessAllowed ? 'block' : 'none';\n",
              "\n",
              "      async function convertToInteractive(key) {\n",
              "        const element = document.querySelector('#df-250e8bac-c749-49ae-9332-f4ebd5680d9d');\n",
              "        const dataTable =\n",
              "          await google.colab.kernel.invokeFunction('convertToInteractive',\n",
              "                                                    [key], {});\n",
              "        if (!dataTable) return;\n",
              "\n",
              "        const docLinkHtml = 'Like what you see? Visit the ' +\n",
              "          '<a target=\"_blank\" href=https://colab.research.google.com/notebooks/data_table.ipynb>data table notebook</a>'\n",
              "          + ' to learn more about interactive tables.';\n",
              "        element.innerHTML = '';\n",
              "        dataTable['output_type'] = 'display_data';\n",
              "        await google.colab.output.renderOutput(dataTable, element);\n",
              "        const docLink = document.createElement('div');\n",
              "        docLink.innerHTML = docLinkHtml;\n",
              "        element.appendChild(docLink);\n",
              "      }\n",
              "    </script>\n",
              "  </div>\n",
              "\n",
              "\n",
              "<div id=\"df-649e2e18-3014-444d-b4c0-8b062444c090\">\n",
              "  <button class=\"colab-df-quickchart\" onclick=\"quickchart('df-649e2e18-3014-444d-b4c0-8b062444c090')\"\n",
              "            title=\"Suggest charts\"\n",
              "            style=\"display:none;\">\n",
              "\n",
              "<svg xmlns=\"http://www.w3.org/2000/svg\" height=\"24px\"viewBox=\"0 0 24 24\"\n",
              "     width=\"24px\">\n",
              "    <g>\n",
              "        <path d=\"M19 3H5c-1.1 0-2 .9-2 2v14c0 1.1.9 2 2 2h14c1.1 0 2-.9 2-2V5c0-1.1-.9-2-2-2zM9 17H7v-7h2v7zm4 0h-2V7h2v10zm4 0h-2v-4h2v4z\"/>\n",
              "    </g>\n",
              "</svg>\n",
              "  </button>\n",
              "\n",
              "<style>\n",
              "  .colab-df-quickchart {\n",
              "      --bg-color: #E8F0FE;\n",
              "      --fill-color: #1967D2;\n",
              "      --hover-bg-color: #E2EBFA;\n",
              "      --hover-fill-color: #174EA6;\n",
              "      --disabled-fill-color: #AAA;\n",
              "      --disabled-bg-color: #DDD;\n",
              "  }\n",
              "\n",
              "  [theme=dark] .colab-df-quickchart {\n",
              "      --bg-color: #3B4455;\n",
              "      --fill-color: #D2E3FC;\n",
              "      --hover-bg-color: #434B5C;\n",
              "      --hover-fill-color: #FFFFFF;\n",
              "      --disabled-bg-color: #3B4455;\n",
              "      --disabled-fill-color: #666;\n",
              "  }\n",
              "\n",
              "  .colab-df-quickchart {\n",
              "    background-color: var(--bg-color);\n",
              "    border: none;\n",
              "    border-radius: 50%;\n",
              "    cursor: pointer;\n",
              "    display: none;\n",
              "    fill: var(--fill-color);\n",
              "    height: 32px;\n",
              "    padding: 0;\n",
              "    width: 32px;\n",
              "  }\n",
              "\n",
              "  .colab-df-quickchart:hover {\n",
              "    background-color: var(--hover-bg-color);\n",
              "    box-shadow: 0 1px 2px rgba(60, 64, 67, 0.3), 0 1px 3px 1px rgba(60, 64, 67, 0.15);\n",
              "    fill: var(--button-hover-fill-color);\n",
              "  }\n",
              "\n",
              "  .colab-df-quickchart-complete:disabled,\n",
              "  .colab-df-quickchart-complete:disabled:hover {\n",
              "    background-color: var(--disabled-bg-color);\n",
              "    fill: var(--disabled-fill-color);\n",
              "    box-shadow: none;\n",
              "  }\n",
              "\n",
              "  .colab-df-spinner {\n",
              "    border: 2px solid var(--fill-color);\n",
              "    border-color: transparent;\n",
              "    border-bottom-color: var(--fill-color);\n",
              "    animation:\n",
              "      spin 1s steps(1) infinite;\n",
              "  }\n",
              "\n",
              "  @keyframes spin {\n",
              "    0% {\n",
              "      border-color: transparent;\n",
              "      border-bottom-color: var(--fill-color);\n",
              "      border-left-color: var(--fill-color);\n",
              "    }\n",
              "    20% {\n",
              "      border-color: transparent;\n",
              "      border-left-color: var(--fill-color);\n",
              "      border-top-color: var(--fill-color);\n",
              "    }\n",
              "    30% {\n",
              "      border-color: transparent;\n",
              "      border-left-color: var(--fill-color);\n",
              "      border-top-color: var(--fill-color);\n",
              "      border-right-color: var(--fill-color);\n",
              "    }\n",
              "    40% {\n",
              "      border-color: transparent;\n",
              "      border-right-color: var(--fill-color);\n",
              "      border-top-color: var(--fill-color);\n",
              "    }\n",
              "    60% {\n",
              "      border-color: transparent;\n",
              "      border-right-color: var(--fill-color);\n",
              "    }\n",
              "    80% {\n",
              "      border-color: transparent;\n",
              "      border-right-color: var(--fill-color);\n",
              "      border-bottom-color: var(--fill-color);\n",
              "    }\n",
              "    90% {\n",
              "      border-color: transparent;\n",
              "      border-bottom-color: var(--fill-color);\n",
              "    }\n",
              "  }\n",
              "</style>\n",
              "\n",
              "  <script>\n",
              "    async function quickchart(key) {\n",
              "      const quickchartButtonEl =\n",
              "        document.querySelector('#' + key + ' button');\n",
              "      quickchartButtonEl.disabled = true;  // To prevent multiple clicks.\n",
              "      quickchartButtonEl.classList.add('colab-df-spinner');\n",
              "      try {\n",
              "        const charts = await google.colab.kernel.invokeFunction(\n",
              "            'suggestCharts', [key], {});\n",
              "      } catch (error) {\n",
              "        console.error('Error during call to suggestCharts:', error);\n",
              "      }\n",
              "      quickchartButtonEl.classList.remove('colab-df-spinner');\n",
              "      quickchartButtonEl.classList.add('colab-df-quickchart-complete');\n",
              "    }\n",
              "    (() => {\n",
              "      let quickchartButtonEl =\n",
              "        document.querySelector('#df-649e2e18-3014-444d-b4c0-8b062444c090 button');\n",
              "      quickchartButtonEl.style.display =\n",
              "        google.colab.kernel.accessAllowed ? 'block' : 'none';\n",
              "    })();\n",
              "  </script>\n",
              "</div>\n",
              "    </div>\n",
              "  </div>\n"
            ]
          },
          "metadata": {},
          "execution_count": 16
        }
      ]
    },
    {
      "cell_type": "markdown",
      "source": [
        "Como os dados estão em um formato de DataFrame, é possível utilizar a função 'describe', que fornece várias estatísticas descritivas, incluindo quartis."
      ],
      "metadata": {
        "id": "GgbU46JrDsn9"
      }
    },
    {
      "cell_type": "code",
      "source": [
        "# Obtendo uma visão geral estatística dos dados\n",
        "df.describe()"
      ],
      "metadata": {
        "colab": {
          "base_uri": "https://localhost:8080/",
          "height": 300
        },
        "id": "GkoGhbyjD4wY",
        "outputId": "62e464c3-36de-4989-d0d0-f0f1349893f7"
      },
      "execution_count": null,
      "outputs": [
        {
          "output_type": "execute_result",
          "data": {
            "text/plain": [
              "                0\n",
              "count   40.000000\n",
              "mean   160.375000\n",
              "std      5.903877\n",
              "min    150.000000\n",
              "25%    155.750000\n",
              "50%    160.000000\n",
              "75%    164.000000\n",
              "max    173.000000"
            ],
            "text/html": [
              "\n",
              "  <div id=\"df-9968f8cd-2b48-4fcd-a96c-c4dea491e92a\" class=\"colab-df-container\">\n",
              "    <div>\n",
              "<style scoped>\n",
              "    .dataframe tbody tr th:only-of-type {\n",
              "        vertical-align: middle;\n",
              "    }\n",
              "\n",
              "    .dataframe tbody tr th {\n",
              "        vertical-align: top;\n",
              "    }\n",
              "\n",
              "    .dataframe thead th {\n",
              "        text-align: right;\n",
              "    }\n",
              "</style>\n",
              "<table border=\"1\" class=\"dataframe\">\n",
              "  <thead>\n",
              "    <tr style=\"text-align: right;\">\n",
              "      <th></th>\n",
              "      <th>0</th>\n",
              "    </tr>\n",
              "  </thead>\n",
              "  <tbody>\n",
              "    <tr>\n",
              "      <th>count</th>\n",
              "      <td>40.000000</td>\n",
              "    </tr>\n",
              "    <tr>\n",
              "      <th>mean</th>\n",
              "      <td>160.375000</td>\n",
              "    </tr>\n",
              "    <tr>\n",
              "      <th>std</th>\n",
              "      <td>5.903877</td>\n",
              "    </tr>\n",
              "    <tr>\n",
              "      <th>min</th>\n",
              "      <td>150.000000</td>\n",
              "    </tr>\n",
              "    <tr>\n",
              "      <th>25%</th>\n",
              "      <td>155.750000</td>\n",
              "    </tr>\n",
              "    <tr>\n",
              "      <th>50%</th>\n",
              "      <td>160.000000</td>\n",
              "    </tr>\n",
              "    <tr>\n",
              "      <th>75%</th>\n",
              "      <td>164.000000</td>\n",
              "    </tr>\n",
              "    <tr>\n",
              "      <th>max</th>\n",
              "      <td>173.000000</td>\n",
              "    </tr>\n",
              "  </tbody>\n",
              "</table>\n",
              "</div>\n",
              "    <div class=\"colab-df-buttons\">\n",
              "\n",
              "  <div class=\"colab-df-container\">\n",
              "    <button class=\"colab-df-convert\" onclick=\"convertToInteractive('df-9968f8cd-2b48-4fcd-a96c-c4dea491e92a')\"\n",
              "            title=\"Convert this dataframe to an interactive table.\"\n",
              "            style=\"display:none;\">\n",
              "\n",
              "  <svg xmlns=\"http://www.w3.org/2000/svg\" height=\"24px\" viewBox=\"0 -960 960 960\">\n",
              "    <path d=\"M120-120v-720h720v720H120Zm60-500h600v-160H180v160Zm220 220h160v-160H400v160Zm0 220h160v-160H400v160ZM180-400h160v-160H180v160Zm440 0h160v-160H620v160ZM180-180h160v-160H180v160Zm440 0h160v-160H620v160Z\"/>\n",
              "  </svg>\n",
              "    </button>\n",
              "\n",
              "  <style>\n",
              "    .colab-df-container {\n",
              "      display:flex;\n",
              "      gap: 12px;\n",
              "    }\n",
              "\n",
              "    .colab-df-convert {\n",
              "      background-color: #E8F0FE;\n",
              "      border: none;\n",
              "      border-radius: 50%;\n",
              "      cursor: pointer;\n",
              "      display: none;\n",
              "      fill: #1967D2;\n",
              "      height: 32px;\n",
              "      padding: 0 0 0 0;\n",
              "      width: 32px;\n",
              "    }\n",
              "\n",
              "    .colab-df-convert:hover {\n",
              "      background-color: #E2EBFA;\n",
              "      box-shadow: 0px 1px 2px rgba(60, 64, 67, 0.3), 0px 1px 3px 1px rgba(60, 64, 67, 0.15);\n",
              "      fill: #174EA6;\n",
              "    }\n",
              "\n",
              "    .colab-df-buttons div {\n",
              "      margin-bottom: 4px;\n",
              "    }\n",
              "\n",
              "    [theme=dark] .colab-df-convert {\n",
              "      background-color: #3B4455;\n",
              "      fill: #D2E3FC;\n",
              "    }\n",
              "\n",
              "    [theme=dark] .colab-df-convert:hover {\n",
              "      background-color: #434B5C;\n",
              "      box-shadow: 0px 1px 3px 1px rgba(0, 0, 0, 0.15);\n",
              "      filter: drop-shadow(0px 1px 2px rgba(0, 0, 0, 0.3));\n",
              "      fill: #FFFFFF;\n",
              "    }\n",
              "  </style>\n",
              "\n",
              "    <script>\n",
              "      const buttonEl =\n",
              "        document.querySelector('#df-9968f8cd-2b48-4fcd-a96c-c4dea491e92a button.colab-df-convert');\n",
              "      buttonEl.style.display =\n",
              "        google.colab.kernel.accessAllowed ? 'block' : 'none';\n",
              "\n",
              "      async function convertToInteractive(key) {\n",
              "        const element = document.querySelector('#df-9968f8cd-2b48-4fcd-a96c-c4dea491e92a');\n",
              "        const dataTable =\n",
              "          await google.colab.kernel.invokeFunction('convertToInteractive',\n",
              "                                                    [key], {});\n",
              "        if (!dataTable) return;\n",
              "\n",
              "        const docLinkHtml = 'Like what you see? Visit the ' +\n",
              "          '<a target=\"_blank\" href=https://colab.research.google.com/notebooks/data_table.ipynb>data table notebook</a>'\n",
              "          + ' to learn more about interactive tables.';\n",
              "        element.innerHTML = '';\n",
              "        dataTable['output_type'] = 'display_data';\n",
              "        await google.colab.output.renderOutput(dataTable, element);\n",
              "        const docLink = document.createElement('div');\n",
              "        docLink.innerHTML = docLinkHtml;\n",
              "        element.appendChild(docLink);\n",
              "      }\n",
              "    </script>\n",
              "  </div>\n",
              "\n",
              "\n",
              "<div id=\"df-64641fb3-e2b5-44e9-ae2f-55af19bc4bef\">\n",
              "  <button class=\"colab-df-quickchart\" onclick=\"quickchart('df-64641fb3-e2b5-44e9-ae2f-55af19bc4bef')\"\n",
              "            title=\"Suggest charts\"\n",
              "            style=\"display:none;\">\n",
              "\n",
              "<svg xmlns=\"http://www.w3.org/2000/svg\" height=\"24px\"viewBox=\"0 0 24 24\"\n",
              "     width=\"24px\">\n",
              "    <g>\n",
              "        <path d=\"M19 3H5c-1.1 0-2 .9-2 2v14c0 1.1.9 2 2 2h14c1.1 0 2-.9 2-2V5c0-1.1-.9-2-2-2zM9 17H7v-7h2v7zm4 0h-2V7h2v10zm4 0h-2v-4h2v4z\"/>\n",
              "    </g>\n",
              "</svg>\n",
              "  </button>\n",
              "\n",
              "<style>\n",
              "  .colab-df-quickchart {\n",
              "      --bg-color: #E8F0FE;\n",
              "      --fill-color: #1967D2;\n",
              "      --hover-bg-color: #E2EBFA;\n",
              "      --hover-fill-color: #174EA6;\n",
              "      --disabled-fill-color: #AAA;\n",
              "      --disabled-bg-color: #DDD;\n",
              "  }\n",
              "\n",
              "  [theme=dark] .colab-df-quickchart {\n",
              "      --bg-color: #3B4455;\n",
              "      --fill-color: #D2E3FC;\n",
              "      --hover-bg-color: #434B5C;\n",
              "      --hover-fill-color: #FFFFFF;\n",
              "      --disabled-bg-color: #3B4455;\n",
              "      --disabled-fill-color: #666;\n",
              "  }\n",
              "\n",
              "  .colab-df-quickchart {\n",
              "    background-color: var(--bg-color);\n",
              "    border: none;\n",
              "    border-radius: 50%;\n",
              "    cursor: pointer;\n",
              "    display: none;\n",
              "    fill: var(--fill-color);\n",
              "    height: 32px;\n",
              "    padding: 0;\n",
              "    width: 32px;\n",
              "  }\n",
              "\n",
              "  .colab-df-quickchart:hover {\n",
              "    background-color: var(--hover-bg-color);\n",
              "    box-shadow: 0 1px 2px rgba(60, 64, 67, 0.3), 0 1px 3px 1px rgba(60, 64, 67, 0.15);\n",
              "    fill: var(--button-hover-fill-color);\n",
              "  }\n",
              "\n",
              "  .colab-df-quickchart-complete:disabled,\n",
              "  .colab-df-quickchart-complete:disabled:hover {\n",
              "    background-color: var(--disabled-bg-color);\n",
              "    fill: var(--disabled-fill-color);\n",
              "    box-shadow: none;\n",
              "  }\n",
              "\n",
              "  .colab-df-spinner {\n",
              "    border: 2px solid var(--fill-color);\n",
              "    border-color: transparent;\n",
              "    border-bottom-color: var(--fill-color);\n",
              "    animation:\n",
              "      spin 1s steps(1) infinite;\n",
              "  }\n",
              "\n",
              "  @keyframes spin {\n",
              "    0% {\n",
              "      border-color: transparent;\n",
              "      border-bottom-color: var(--fill-color);\n",
              "      border-left-color: var(--fill-color);\n",
              "    }\n",
              "    20% {\n",
              "      border-color: transparent;\n",
              "      border-left-color: var(--fill-color);\n",
              "      border-top-color: var(--fill-color);\n",
              "    }\n",
              "    30% {\n",
              "      border-color: transparent;\n",
              "      border-left-color: var(--fill-color);\n",
              "      border-top-color: var(--fill-color);\n",
              "      border-right-color: var(--fill-color);\n",
              "    }\n",
              "    40% {\n",
              "      border-color: transparent;\n",
              "      border-right-color: var(--fill-color);\n",
              "      border-top-color: var(--fill-color);\n",
              "    }\n",
              "    60% {\n",
              "      border-color: transparent;\n",
              "      border-right-color: var(--fill-color);\n",
              "    }\n",
              "    80% {\n",
              "      border-color: transparent;\n",
              "      border-right-color: var(--fill-color);\n",
              "      border-bottom-color: var(--fill-color);\n",
              "    }\n",
              "    90% {\n",
              "      border-color: transparent;\n",
              "      border-bottom-color: var(--fill-color);\n",
              "    }\n",
              "  }\n",
              "</style>\n",
              "\n",
              "  <script>\n",
              "    async function quickchart(key) {\n",
              "      const quickchartButtonEl =\n",
              "        document.querySelector('#' + key + ' button');\n",
              "      quickchartButtonEl.disabled = true;  // To prevent multiple clicks.\n",
              "      quickchartButtonEl.classList.add('colab-df-spinner');\n",
              "      try {\n",
              "        const charts = await google.colab.kernel.invokeFunction(\n",
              "            'suggestCharts', [key], {});\n",
              "      } catch (error) {\n",
              "        console.error('Error during call to suggestCharts:', error);\n",
              "      }\n",
              "      quickchartButtonEl.classList.remove('colab-df-spinner');\n",
              "      quickchartButtonEl.classList.add('colab-df-quickchart-complete');\n",
              "    }\n",
              "    (() => {\n",
              "      let quickchartButtonEl =\n",
              "        document.querySelector('#df-64641fb3-e2b5-44e9-ae2f-55af19bc4bef button');\n",
              "      quickchartButtonEl.style.display =\n",
              "        google.colab.kernel.accessAllowed ? 'block' : 'none';\n",
              "    })();\n",
              "  </script>\n",
              "</div>\n",
              "    </div>\n",
              "  </div>\n"
            ]
          },
          "metadata": {},
          "execution_count": 17
        }
      ]
    },
    {
      "cell_type": "markdown",
      "source": [
        "Ao utilizar a função **describe** em Pandas, podemos extrair informações valiosas sobre a distribuição dos dados:\n",
        "\n",
        "- **Contagem (count):** Indica o número de entradas não nulas em nosso conjunto de dados.\n",
        "- **Média (mean):** Representa a média aritmética dos valores, fornecendo um ponto de referência central.\n",
        "- **Desvio padrão (std):** Oferece uma medida de dispersão, indicando o quão distantes os valores estão da média.\n",
        "- **Valor Mínimo (min):** Aponta para o menor valor existente em nossos dados.\n",
        "- **25º Percentil (25%):** Refere-se ao primeiro quartil, representando o valor abaixo do qual 25% dos dados estão concentrados.\n",
        "- **50º Percentil (50%):** Denominado mediana, indica o ponto médio dos dados quando ordenados.\n",
        "- **75º Percentil (75%):** Corresponde ao terceiro quartil, indicando o valor abaixo do qual 75% dos dados estão situados.\n",
        "- **Valor Máximo (max):** Indica o maior valor presente em nossos dados.\n",
        "\n",
        "Essas estatísticas proporcionam uma visão abrangente da distribuição e variabilidade dos dados, sendo essenciais para compreender a forma e características principais do conjunto de dados.\n"
      ],
      "metadata": {
        "id": "Tj5QnFdDEeOm"
      }
    },
    {
      "cell_type": "markdown",
      "source": [
        "## **Percentis**"
      ],
      "metadata": {
        "id": "EbYqHErSdcWD"
      }
    },
    {
      "cell_type": "markdown",
      "source": [
        "Breve Resumo:\n",
        "\n",
        "Os percentis são medidas que dividem um conjunto de dados em 100 partes iguais, fornecendo insights sobre a dispersão, simetria e posição relativa dos valores. O percentil 25 indica o 25% inferior, o percentil 75 indica o 75% inferior e o percentil 50 é a mediana.\n",
        "\n",
        "Quando Utilizar:\n",
        "\n",
        "- Na análise de dados para avaliar a dispersão, identificar padrões e comparar grupos.\n",
        "- Em situações onde se busca compreender a distribuição dos dados em diferentes partes.\n",
        "- Em análises exploratórias para entender a posição relativa dos valores em um conjunto de dados."
      ],
      "metadata": {
        "id": "GnR6hk8EdnYI"
      }
    },
    {
      "cell_type": "code",
      "source": [
        "# Percentil de 25%\n",
        "percentil25 = np.percentile(dados, 25)\n",
        "\n",
        "# Obetendo a mediana\n",
        "percentil50 = np.percentile(dados, 50)\n",
        "\n",
        "# Percentil de 75%\n",
        "percentil75 = np.percentile(dados, 75)"
      ],
      "metadata": {
        "id": "RMpcWI7sdneR"
      },
      "execution_count": null,
      "outputs": []
    },
    {
      "cell_type": "code",
      "source": [
        "print(f\"O percentil 25% é igual a: {percentil25}, o percentil 50% é igual a: {percentil50} e o percentil 75% é igual a: {percentil75}\")"
      ],
      "metadata": {
        "colab": {
          "base_uri": "https://localhost:8080/"
        },
        "id": "8ioO--_xfxOa",
        "outputId": "1edc26bb-628c-41c6-dfc0-97ae72ef558b"
      },
      "execution_count": null,
      "outputs": [
        {
          "output_type": "stream",
          "name": "stdout",
          "text": [
            "O percentil 25% é igual a: 155.75, o percentil 50% é igual a: 160.0 e o percentil 75% é igual a: 164.0\n"
          ]
        }
      ]
    },
    {
      "cell_type": "markdown",
      "source": [
        "Levando em consideração que esses dados se referem a alturas em centímetros, então é correto afirmar que 25% dos dados têm a altura girando em torno de 155 centímetros, enquanto 50% gira em torno de 160 e cerca de 75% da base tem altura inferior a 164 centímetros."
      ],
      "metadata": {
        "id": "W9d6OAO9ga4F"
      }
    },
    {
      "cell_type": "markdown",
      "source": [
        "## **Desafio**"
      ],
      "metadata": {
        "id": "ljaxnxSEkQC-"
      }
    },
    {
      "cell_type": "markdown",
      "source": [
        "O objetivo desta tarefa é gerar as estatísticas para o atributo age da base de dados do censo\n",
        "\n",
        "- Carregue o arquivo census.csv\n",
        "\n",
        "- Calcule a média aritmética, média harmônica, média geométrica, média quadrática, a mediana e a moda. Compare os resultados"
      ],
      "metadata": {
        "id": "B9zKA8dMkS6W"
      }
    },
    {
      "cell_type": "markdown",
      "source": [
        "### *Carregando os dados*"
      ],
      "metadata": {
        "id": "-bIDJJzoqpVW"
      }
    },
    {
      "cell_type": "code",
      "source": [
        "# Acesso ao drive\n",
        "from google.colab import drive\n",
        "drive.mount('/content/drive')"
      ],
      "metadata": {
        "colab": {
          "base_uri": "https://localhost:8080/"
        },
        "id": "ZdEf3zQoqre-",
        "outputId": "3c1047fe-fca1-4ed0-a62c-1be7eac65384"
      },
      "execution_count": 7,
      "outputs": [
        {
          "output_type": "stream",
          "name": "stdout",
          "text": [
            "Drive already mounted at /content/drive; to attempt to forcibly remount, call drive.mount(\"/content/drive\", force_remount=True).\n"
          ]
        }
      ]
    },
    {
      "cell_type": "markdown",
      "source": [
        "Importando os pacotes necessários."
      ],
      "metadata": {
        "id": "KfPvzyTXrLvz"
      }
    },
    {
      "cell_type": "code",
      "source": [
        "# Manipulação de dados\n",
        "import pandas as pd\n",
        "\n",
        "# Algébra linear\n",
        "import numpy as np\n",
        "\n",
        "# Funções estatísticas\n",
        "import statistics\n",
        "\n",
        "# Biblioteca para cálculo matématicos\n",
        "import math"
      ],
      "metadata": {
        "id": "jFFlyfwMq-ml"
      },
      "execution_count": 8,
      "outputs": []
    },
    {
      "cell_type": "code",
      "source": [
        "# Importando o dataset\n",
        "df = pd.read_csv('/content/drive/MyDrive/Estatística para ciência de dados/census.csv')"
      ],
      "metadata": {
        "id": "5iBYwJb1qwAe"
      },
      "execution_count": 9,
      "outputs": []
    },
    {
      "cell_type": "code",
      "source": [
        "# Observando os dados\n",
        "df.head()"
      ],
      "metadata": {
        "colab": {
          "base_uri": "https://localhost:8080/",
          "height": 0
        },
        "id": "Jf1GKe7YrUhy",
        "outputId": "05be56d7-83b2-4210-94f0-73385ee89a02"
      },
      "execution_count": 10,
      "outputs": [
        {
          "output_type": "execute_result",
          "data": {
            "text/plain": [
              "   age          workclass  final-weight   education  education-num  \\\n",
              "0   39          State-gov         77516   Bachelors             13   \n",
              "1   50   Self-emp-not-inc         83311   Bachelors             13   \n",
              "2   38            Private        215646     HS-grad              9   \n",
              "3   53            Private        234721        11th              7   \n",
              "4   28            Private        338409   Bachelors             13   \n",
              "\n",
              "        marital-status          occupation    relationship    race      sex  \\\n",
              "0        Never-married        Adm-clerical   Not-in-family   White     Male   \n",
              "1   Married-civ-spouse     Exec-managerial         Husband   White     Male   \n",
              "2             Divorced   Handlers-cleaners   Not-in-family   White     Male   \n",
              "3   Married-civ-spouse   Handlers-cleaners         Husband   Black     Male   \n",
              "4   Married-civ-spouse      Prof-specialty            Wife   Black   Female   \n",
              "\n",
              "   capital-gain  capital-loos  hour-per-week  native-country  income  \n",
              "0          2174             0             40   United-States   <=50K  \n",
              "1             0             0             13   United-States   <=50K  \n",
              "2             0             0             40   United-States   <=50K  \n",
              "3             0             0             40   United-States   <=50K  \n",
              "4             0             0             40            Cuba   <=50K  "
            ],
            "text/html": [
              "\n",
              "  <div id=\"df-a974489a-4bf5-4260-b3fd-a41e36dcb3f7\" class=\"colab-df-container\">\n",
              "    <div>\n",
              "<style scoped>\n",
              "    .dataframe tbody tr th:only-of-type {\n",
              "        vertical-align: middle;\n",
              "    }\n",
              "\n",
              "    .dataframe tbody tr th {\n",
              "        vertical-align: top;\n",
              "    }\n",
              "\n",
              "    .dataframe thead th {\n",
              "        text-align: right;\n",
              "    }\n",
              "</style>\n",
              "<table border=\"1\" class=\"dataframe\">\n",
              "  <thead>\n",
              "    <tr style=\"text-align: right;\">\n",
              "      <th></th>\n",
              "      <th>age</th>\n",
              "      <th>workclass</th>\n",
              "      <th>final-weight</th>\n",
              "      <th>education</th>\n",
              "      <th>education-num</th>\n",
              "      <th>marital-status</th>\n",
              "      <th>occupation</th>\n",
              "      <th>relationship</th>\n",
              "      <th>race</th>\n",
              "      <th>sex</th>\n",
              "      <th>capital-gain</th>\n",
              "      <th>capital-loos</th>\n",
              "      <th>hour-per-week</th>\n",
              "      <th>native-country</th>\n",
              "      <th>income</th>\n",
              "    </tr>\n",
              "  </thead>\n",
              "  <tbody>\n",
              "    <tr>\n",
              "      <th>0</th>\n",
              "      <td>39</td>\n",
              "      <td>State-gov</td>\n",
              "      <td>77516</td>\n",
              "      <td>Bachelors</td>\n",
              "      <td>13</td>\n",
              "      <td>Never-married</td>\n",
              "      <td>Adm-clerical</td>\n",
              "      <td>Not-in-family</td>\n",
              "      <td>White</td>\n",
              "      <td>Male</td>\n",
              "      <td>2174</td>\n",
              "      <td>0</td>\n",
              "      <td>40</td>\n",
              "      <td>United-States</td>\n",
              "      <td>&lt;=50K</td>\n",
              "    </tr>\n",
              "    <tr>\n",
              "      <th>1</th>\n",
              "      <td>50</td>\n",
              "      <td>Self-emp-not-inc</td>\n",
              "      <td>83311</td>\n",
              "      <td>Bachelors</td>\n",
              "      <td>13</td>\n",
              "      <td>Married-civ-spouse</td>\n",
              "      <td>Exec-managerial</td>\n",
              "      <td>Husband</td>\n",
              "      <td>White</td>\n",
              "      <td>Male</td>\n",
              "      <td>0</td>\n",
              "      <td>0</td>\n",
              "      <td>13</td>\n",
              "      <td>United-States</td>\n",
              "      <td>&lt;=50K</td>\n",
              "    </tr>\n",
              "    <tr>\n",
              "      <th>2</th>\n",
              "      <td>38</td>\n",
              "      <td>Private</td>\n",
              "      <td>215646</td>\n",
              "      <td>HS-grad</td>\n",
              "      <td>9</td>\n",
              "      <td>Divorced</td>\n",
              "      <td>Handlers-cleaners</td>\n",
              "      <td>Not-in-family</td>\n",
              "      <td>White</td>\n",
              "      <td>Male</td>\n",
              "      <td>0</td>\n",
              "      <td>0</td>\n",
              "      <td>40</td>\n",
              "      <td>United-States</td>\n",
              "      <td>&lt;=50K</td>\n",
              "    </tr>\n",
              "    <tr>\n",
              "      <th>3</th>\n",
              "      <td>53</td>\n",
              "      <td>Private</td>\n",
              "      <td>234721</td>\n",
              "      <td>11th</td>\n",
              "      <td>7</td>\n",
              "      <td>Married-civ-spouse</td>\n",
              "      <td>Handlers-cleaners</td>\n",
              "      <td>Husband</td>\n",
              "      <td>Black</td>\n",
              "      <td>Male</td>\n",
              "      <td>0</td>\n",
              "      <td>0</td>\n",
              "      <td>40</td>\n",
              "      <td>United-States</td>\n",
              "      <td>&lt;=50K</td>\n",
              "    </tr>\n",
              "    <tr>\n",
              "      <th>4</th>\n",
              "      <td>28</td>\n",
              "      <td>Private</td>\n",
              "      <td>338409</td>\n",
              "      <td>Bachelors</td>\n",
              "      <td>13</td>\n",
              "      <td>Married-civ-spouse</td>\n",
              "      <td>Prof-specialty</td>\n",
              "      <td>Wife</td>\n",
              "      <td>Black</td>\n",
              "      <td>Female</td>\n",
              "      <td>0</td>\n",
              "      <td>0</td>\n",
              "      <td>40</td>\n",
              "      <td>Cuba</td>\n",
              "      <td>&lt;=50K</td>\n",
              "    </tr>\n",
              "  </tbody>\n",
              "</table>\n",
              "</div>\n",
              "    <div class=\"colab-df-buttons\">\n",
              "\n",
              "  <div class=\"colab-df-container\">\n",
              "    <button class=\"colab-df-convert\" onclick=\"convertToInteractive('df-a974489a-4bf5-4260-b3fd-a41e36dcb3f7')\"\n",
              "            title=\"Convert this dataframe to an interactive table.\"\n",
              "            style=\"display:none;\">\n",
              "\n",
              "  <svg xmlns=\"http://www.w3.org/2000/svg\" height=\"24px\" viewBox=\"0 -960 960 960\">\n",
              "    <path d=\"M120-120v-720h720v720H120Zm60-500h600v-160H180v160Zm220 220h160v-160H400v160Zm0 220h160v-160H400v160ZM180-400h160v-160H180v160Zm440 0h160v-160H620v160ZM180-180h160v-160H180v160Zm440 0h160v-160H620v160Z\"/>\n",
              "  </svg>\n",
              "    </button>\n",
              "\n",
              "  <style>\n",
              "    .colab-df-container {\n",
              "      display:flex;\n",
              "      gap: 12px;\n",
              "    }\n",
              "\n",
              "    .colab-df-convert {\n",
              "      background-color: #E8F0FE;\n",
              "      border: none;\n",
              "      border-radius: 50%;\n",
              "      cursor: pointer;\n",
              "      display: none;\n",
              "      fill: #1967D2;\n",
              "      height: 32px;\n",
              "      padding: 0 0 0 0;\n",
              "      width: 32px;\n",
              "    }\n",
              "\n",
              "    .colab-df-convert:hover {\n",
              "      background-color: #E2EBFA;\n",
              "      box-shadow: 0px 1px 2px rgba(60, 64, 67, 0.3), 0px 1px 3px 1px rgba(60, 64, 67, 0.15);\n",
              "      fill: #174EA6;\n",
              "    }\n",
              "\n",
              "    .colab-df-buttons div {\n",
              "      margin-bottom: 4px;\n",
              "    }\n",
              "\n",
              "    [theme=dark] .colab-df-convert {\n",
              "      background-color: #3B4455;\n",
              "      fill: #D2E3FC;\n",
              "    }\n",
              "\n",
              "    [theme=dark] .colab-df-convert:hover {\n",
              "      background-color: #434B5C;\n",
              "      box-shadow: 0px 1px 3px 1px rgba(0, 0, 0, 0.15);\n",
              "      filter: drop-shadow(0px 1px 2px rgba(0, 0, 0, 0.3));\n",
              "      fill: #FFFFFF;\n",
              "    }\n",
              "  </style>\n",
              "\n",
              "    <script>\n",
              "      const buttonEl =\n",
              "        document.querySelector('#df-a974489a-4bf5-4260-b3fd-a41e36dcb3f7 button.colab-df-convert');\n",
              "      buttonEl.style.display =\n",
              "        google.colab.kernel.accessAllowed ? 'block' : 'none';\n",
              "\n",
              "      async function convertToInteractive(key) {\n",
              "        const element = document.querySelector('#df-a974489a-4bf5-4260-b3fd-a41e36dcb3f7');\n",
              "        const dataTable =\n",
              "          await google.colab.kernel.invokeFunction('convertToInteractive',\n",
              "                                                    [key], {});\n",
              "        if (!dataTable) return;\n",
              "\n",
              "        const docLinkHtml = 'Like what you see? Visit the ' +\n",
              "          '<a target=\"_blank\" href=https://colab.research.google.com/notebooks/data_table.ipynb>data table notebook</a>'\n",
              "          + ' to learn more about interactive tables.';\n",
              "        element.innerHTML = '';\n",
              "        dataTable['output_type'] = 'display_data';\n",
              "        await google.colab.output.renderOutput(dataTable, element);\n",
              "        const docLink = document.createElement('div');\n",
              "        docLink.innerHTML = docLinkHtml;\n",
              "        element.appendChild(docLink);\n",
              "      }\n",
              "    </script>\n",
              "  </div>\n",
              "\n",
              "\n",
              "<div id=\"df-b0d6c0ca-2f60-472a-93bf-15d23040b964\">\n",
              "  <button class=\"colab-df-quickchart\" onclick=\"quickchart('df-b0d6c0ca-2f60-472a-93bf-15d23040b964')\"\n",
              "            title=\"Suggest charts\"\n",
              "            style=\"display:none;\">\n",
              "\n",
              "<svg xmlns=\"http://www.w3.org/2000/svg\" height=\"24px\"viewBox=\"0 0 24 24\"\n",
              "     width=\"24px\">\n",
              "    <g>\n",
              "        <path d=\"M19 3H5c-1.1 0-2 .9-2 2v14c0 1.1.9 2 2 2h14c1.1 0 2-.9 2-2V5c0-1.1-.9-2-2-2zM9 17H7v-7h2v7zm4 0h-2V7h2v10zm4 0h-2v-4h2v4z\"/>\n",
              "    </g>\n",
              "</svg>\n",
              "  </button>\n",
              "\n",
              "<style>\n",
              "  .colab-df-quickchart {\n",
              "      --bg-color: #E8F0FE;\n",
              "      --fill-color: #1967D2;\n",
              "      --hover-bg-color: #E2EBFA;\n",
              "      --hover-fill-color: #174EA6;\n",
              "      --disabled-fill-color: #AAA;\n",
              "      --disabled-bg-color: #DDD;\n",
              "  }\n",
              "\n",
              "  [theme=dark] .colab-df-quickchart {\n",
              "      --bg-color: #3B4455;\n",
              "      --fill-color: #D2E3FC;\n",
              "      --hover-bg-color: #434B5C;\n",
              "      --hover-fill-color: #FFFFFF;\n",
              "      --disabled-bg-color: #3B4455;\n",
              "      --disabled-fill-color: #666;\n",
              "  }\n",
              "\n",
              "  .colab-df-quickchart {\n",
              "    background-color: var(--bg-color);\n",
              "    border: none;\n",
              "    border-radius: 50%;\n",
              "    cursor: pointer;\n",
              "    display: none;\n",
              "    fill: var(--fill-color);\n",
              "    height: 32px;\n",
              "    padding: 0;\n",
              "    width: 32px;\n",
              "  }\n",
              "\n",
              "  .colab-df-quickchart:hover {\n",
              "    background-color: var(--hover-bg-color);\n",
              "    box-shadow: 0 1px 2px rgba(60, 64, 67, 0.3), 0 1px 3px 1px rgba(60, 64, 67, 0.15);\n",
              "    fill: var(--button-hover-fill-color);\n",
              "  }\n",
              "\n",
              "  .colab-df-quickchart-complete:disabled,\n",
              "  .colab-df-quickchart-complete:disabled:hover {\n",
              "    background-color: var(--disabled-bg-color);\n",
              "    fill: var(--disabled-fill-color);\n",
              "    box-shadow: none;\n",
              "  }\n",
              "\n",
              "  .colab-df-spinner {\n",
              "    border: 2px solid var(--fill-color);\n",
              "    border-color: transparent;\n",
              "    border-bottom-color: var(--fill-color);\n",
              "    animation:\n",
              "      spin 1s steps(1) infinite;\n",
              "  }\n",
              "\n",
              "  @keyframes spin {\n",
              "    0% {\n",
              "      border-color: transparent;\n",
              "      border-bottom-color: var(--fill-color);\n",
              "      border-left-color: var(--fill-color);\n",
              "    }\n",
              "    20% {\n",
              "      border-color: transparent;\n",
              "      border-left-color: var(--fill-color);\n",
              "      border-top-color: var(--fill-color);\n",
              "    }\n",
              "    30% {\n",
              "      border-color: transparent;\n",
              "      border-left-color: var(--fill-color);\n",
              "      border-top-color: var(--fill-color);\n",
              "      border-right-color: var(--fill-color);\n",
              "    }\n",
              "    40% {\n",
              "      border-color: transparent;\n",
              "      border-right-color: var(--fill-color);\n",
              "      border-top-color: var(--fill-color);\n",
              "    }\n",
              "    60% {\n",
              "      border-color: transparent;\n",
              "      border-right-color: var(--fill-color);\n",
              "    }\n",
              "    80% {\n",
              "      border-color: transparent;\n",
              "      border-right-color: var(--fill-color);\n",
              "      border-bottom-color: var(--fill-color);\n",
              "    }\n",
              "    90% {\n",
              "      border-color: transparent;\n",
              "      border-bottom-color: var(--fill-color);\n",
              "    }\n",
              "  }\n",
              "</style>\n",
              "\n",
              "  <script>\n",
              "    async function quickchart(key) {\n",
              "      const quickchartButtonEl =\n",
              "        document.querySelector('#' + key + ' button');\n",
              "      quickchartButtonEl.disabled = true;  // To prevent multiple clicks.\n",
              "      quickchartButtonEl.classList.add('colab-df-spinner');\n",
              "      try {\n",
              "        const charts = await google.colab.kernel.invokeFunction(\n",
              "            'suggestCharts', [key], {});\n",
              "      } catch (error) {\n",
              "        console.error('Error during call to suggestCharts:', error);\n",
              "      }\n",
              "      quickchartButtonEl.classList.remove('colab-df-spinner');\n",
              "      quickchartButtonEl.classList.add('colab-df-quickchart-complete');\n",
              "    }\n",
              "    (() => {\n",
              "      let quickchartButtonEl =\n",
              "        document.querySelector('#df-b0d6c0ca-2f60-472a-93bf-15d23040b964 button');\n",
              "      quickchartButtonEl.style.display =\n",
              "        google.colab.kernel.accessAllowed ? 'block' : 'none';\n",
              "    })();\n",
              "  </script>\n",
              "</div>\n",
              "    </div>\n",
              "  </div>\n"
            ]
          },
          "metadata": {},
          "execution_count": 10
        }
      ]
    },
    {
      "cell_type": "markdown",
      "source": [
        "### *Calculando a média, mediana e a moda*"
      ],
      "metadata": {
        "id": "xz1NiZCCrqSY"
      }
    },
    {
      "cell_type": "markdown",
      "source": [
        "Esses cálculos devem ser realizados em uma coluna específica chamada 'age'. Dito isso, os cálculos que serão executados irão ser utilizando ela como base."
      ],
      "metadata": {
        "id": "Kx_tQPOOrwl_"
      }
    },
    {
      "cell_type": "code",
      "source": [
        "# Calculando a média\n",
        "media = round(df['age'].mean(), 2)\n",
        "\n",
        "# Calculando a mediana\n",
        "mediana = df['age'].median()\n",
        "\n",
        "# Calculando a moda\n",
        "moda = df['age'].mode()"
      ],
      "metadata": {
        "id": "JzQ-Jgp4sPGC"
      },
      "execution_count": 11,
      "outputs": []
    },
    {
      "cell_type": "code",
      "source": [
        "print(f\"A média é igual a: {media}\\nA mediana é igual a: {mediana}\\nA moda é igual a: {moda}\")"
      ],
      "metadata": {
        "colab": {
          "base_uri": "https://localhost:8080/"
        },
        "id": "YVZUK9Ujsp8v",
        "outputId": "af8ce897-4a4a-4f2e-c73b-087b5b06a6bd"
      },
      "execution_count": 12,
      "outputs": [
        {
          "output_type": "stream",
          "name": "stdout",
          "text": [
            "A média é igual a: 38.58\n",
            "A mediana é igual a: 37.0\n",
            "A moda é igual a: 0    36\n",
            "Name: age, dtype: int64\n"
          ]
        }
      ]
    },
    {
      "cell_type": "markdown",
      "source": [
        "É possível notar que a média e a mediana não estão tão distantes assim, demonstrando assim que os dados não possuem tantos outliers que estejam afetando grandemente a média. A moda desse conjunto de dados é 36, indicando que a maior parte dessa base de dados possui 36 anos."
      ],
      "metadata": {
        "id": "9EwFdaj2t6DP"
      }
    },
    {
      "cell_type": "markdown",
      "source": [
        "### *Calculando a média geométrica, média harmônica, média quadrática*"
      ],
      "metadata": {
        "id": "5oXkp0wWu_c_"
      }
    },
    {
      "cell_type": "markdown",
      "source": [
        "Importando os pacotes"
      ],
      "metadata": {
        "id": "6Jk4q_4K00xM"
      }
    },
    {
      "cell_type": "code",
      "source": [
        "# Realizando a importação da biblioteca para cálculo da média harmônica\n",
        "from scipy.stats.mstats import hmean\n",
        "\n",
        "# Importando a biblioteca para calcular a média geométrica\n",
        "from scipy.stats.mstats import gmean"
      ],
      "metadata": {
        "id": "mZfYXLoqvJVs"
      },
      "execution_count": 13,
      "outputs": []
    },
    {
      "cell_type": "markdown",
      "source": [
        "Criando função para média quadrática"
      ],
      "metadata": {
        "id": "1AragJQ-1a0h"
      }
    },
    {
      "cell_type": "code",
      "source": [
        "# Função para calcular a média quadrática\n",
        "def quadratic_mean(dados):\n",
        "  return math.sqrt(sum(n * n for n in dados) / len(dados))"
      ],
      "metadata": {
        "id": "FkOa1yFl1c_G"
      },
      "execution_count": 14,
      "outputs": []
    },
    {
      "cell_type": "markdown",
      "source": [
        "Realizando os cálculos"
      ],
      "metadata": {
        "id": "KXEG4ZmS1nHF"
      }
    },
    {
      "cell_type": "code",
      "source": [
        "# Calculando a média geométrica\n",
        "media_geometrica = round(gmean(df['age']), 2)\n",
        "\n",
        "# Calculando a média harmônica\n",
        "media_harmonica = round(hmean(df['age']), 2)\n",
        "\n",
        "\n",
        "# Calculando a média quadrática\n",
        "media_quadratica = round(quadratic_mean(df['age']), 2)"
      ],
      "metadata": {
        "id": "yrGi7SuB1z58"
      },
      "execution_count": 20,
      "outputs": []
    },
    {
      "cell_type": "code",
      "source": [
        "print(f\"A média geométrica é igual a: {media_geometrica}\\nA média harmônica é igual a: {media_harmonica}\\nA média quadrática a: {media_quadratica}\")"
      ],
      "metadata": {
        "colab": {
          "base_uri": "https://localhost:8080/"
        },
        "id": "HNJq4son3IV0",
        "outputId": "70e98124-f534-4c3e-8456-33c0123e9477"
      },
      "execution_count": 24,
      "outputs": [
        {
          "output_type": "stream",
          "name": "stdout",
          "text": [
            "A média geométrica é igual a: 36.21\n",
            "A média harmônica é igual a: 33.92\n",
            "A média quadrática a: 40.92\n"
          ]
        }
      ]
    },
    {
      "cell_type": "markdown",
      "source": [
        "- A média geométrica de 36,21 está próxima da mediana que é de 37. Isso pode indicar que a presença de outliers não está afetando tanto a média geométrica.\n",
        "\n",
        "- A média harmônica foi de 33,92, sendo menor que a mediana e que a média geométrica. Isso indica que possivelmente outliers estão afetando essa média.\n",
        "\n",
        "- A média quadrática é de 40,92, sendo maior que todas as outras métricas. O que pode significar que outliers estão influenciando essa média."
      ],
      "metadata": {
        "id": "J4pSuSmS6AUt"
      }
    },
    {
      "cell_type": "markdown",
      "source": [
        "Observando todas as métricas juntas."
      ],
      "metadata": {
        "id": "ieeQbyEf4Pkb"
      }
    },
    {
      "cell_type": "code",
      "source": [
        "print(f\"A média é igual a: {media}\\nA mediana é igual a: {mediana}\\nA moda é igual a: {moda}\")\n",
        "\n",
        "print(\"-------------------------\")\n",
        "\n",
        "print(f\"A média geométrica é igual a: {media_geometrica}\\nA média harmônica é igual a: {media_harmonica}\\nA média quadrática a: {media_quadratica}\")"
      ],
      "metadata": {
        "colab": {
          "base_uri": "https://localhost:8080/"
        },
        "id": "v-URopCr4Rfa",
        "outputId": "0af39ee8-e2d2-44f1-b27a-590bfcd249ee"
      },
      "execution_count": 25,
      "outputs": [
        {
          "output_type": "stream",
          "name": "stdout",
          "text": [
            "A média é igual a: 38.58\n",
            "A mediana é igual a: 37.0\n",
            "A moda é igual a: 0    36\n",
            "Name: age, dtype: int64\n",
            "-------------------------\n",
            "A média geométrica é igual a: 36.21\n",
            "A média harmônica é igual a: 33.92\n",
            "A média quadrática a: 40.92\n"
          ]
        }
      ]
    },
    {
      "cell_type": "markdown",
      "source": [
        "**Conclusão**\n",
        "\n",
        "- A média de 38,58 indica que, em média, as pessoas do conjunto de dados têm 38 anos. A mediana de 37 indica que metade das pessoas do conjunto de dados tem 37 anos ou menos e metade tem 37 anos ou mais. A moda de 36 indica que a idade mais comum entre as pessoas do conjunto de dados é 36 anos.\n",
        "\n",
        "- A média harmônica é menor que a média geométrica e a mediana, o que indica que os dados estão relativamente dispersos. A média quadrática é maior que a média geométrica e a mediana, o que também indica que os dados estão relativamente dispersos."
      ],
      "metadata": {
        "id": "ZWtEZLOL8IPn"
      }
    }
  ]
}