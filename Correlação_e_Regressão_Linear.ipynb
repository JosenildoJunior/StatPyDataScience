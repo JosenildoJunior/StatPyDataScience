{
  "nbformat": 4,
  "nbformat_minor": 0,
  "metadata": {
    "colab": {
      "provenance": [],
      "authorship_tag": "ABX9TyOPkEnSR7nFCehqsl/MRRMV",
      "include_colab_link": true
    },
    "kernelspec": {
      "name": "python3",
      "display_name": "Python 3"
    },
    "language_info": {
      "name": "python"
    }
  },
  "cells": [
    {
      "cell_type": "markdown",
      "metadata": {
        "id": "view-in-github",
        "colab_type": "text"
      },
      "source": [
        "<a href=\"https://colab.research.google.com/github/JosenildoJunior/StatPyDataScience/blob/main/Correla%C3%A7%C3%A3o_e_Regress%C3%A3o_Linear.ipynb\" target=\"_parent\"><img src=\"https://colab.research.google.com/assets/colab-badge.svg\" alt=\"Open In Colab\"/></a>"
      ]
    },
    {
      "cell_type": "markdown",
      "source": [
        "# **Correlação**"
      ],
      "metadata": {
        "id": "OR4LT-jORo5y"
      }
    },
    {
      "cell_type": "markdown",
      "source": [
        "A correlação é uma medida estatística que descreve a relação entre duas variáveis. Ela avalia a direção e a força da associação entre essas variáveis.\n",
        "\n",
        "Os dados podem ser representados por pares ordenados (x, y), sendo x a variável independente (ou explanatória) e y a variável dependente (ou resposta)"
      ],
      "metadata": {
        "id": "UgheC17BUL7A"
      }
    },
    {
      "cell_type": "markdown",
      "source": [
        "## **Como funciona ?**"
      ],
      "metadata": {
        "id": "YCoDvjxxUhu5"
      }
    },
    {
      "cell_type": "markdown",
      "source": [
        "A correlação é calculada utilizando técnicas estatísticas, como o coeficiente de correlação de Pearson, Spearman ou Kendall. Esses coeficientes variam de -1 a 1, onde -1 indica uma correlação negativa perfeita, 0 indica nenhuma correlação e 1 indica uma correlação positiva perfeita.\n",
        "\n",
        "Força da Correlação:\n",
        "\n",
        "- 0.00 a 0.19 (ou -0.19): Correlação muito fraca.\n",
        "- 0.20 a 0.39 (ou -0.39): Correlação fraca.\n",
        "- 0.40 a 0.59 (ou -0.59): Correlação moderada.\n",
        "- 0.60 a 0.79 (ou -0.79): Correlação forte.\n",
        "- 0.80 a 1.00 (ou -1.00): Correlação muito forte."
      ],
      "metadata": {
        "id": "UB6iMhTaUj8R"
      }
    },
    {
      "cell_type": "markdown",
      "source": [
        "Vamos observar um exemplo para entendermos melhor o assunto\n",
        "\n",
        "Considere um conjunto de dados que represente as notas de dois alunos (Aluno A e Aluno B) em duas disciplinas diferentes (Matemática e Ciências). As notas são representadas em uma escala de 0 a 10.\n",
        "\n",
        "Crie um DataFrame com os seguintes dados:\n",
        "\n",
        "- Aluno A: [8, 7, 6, 9, 8]\n",
        "- Aluno B: [7, 6, 8, 9, 10]\n",
        "\n",
        "Calcule a correlação entre as notas do Aluno A e do Aluno B em ambas as disciplinas.\n",
        "\n",
        "Imprima o resultado da correlação para cada disciplina.\n",
        "\n",
        "Interprete os resultados."
      ],
      "metadata": {
        "id": "MGvm_SO1Vvxa"
      }
    },
    {
      "cell_type": "code",
      "execution_count": 2,
      "metadata": {
        "colab": {
          "base_uri": "https://localhost:8080/"
        },
        "id": "sCKPxkntQksu",
        "outputId": "d2defd9c-3258-4371-e317-be47bae91e57"
      },
      "outputs": [
        {
          "output_type": "stream",
          "name": "stdout",
          "text": [
            "Correlação entre as variáveis: 0.4160251471689218\n"
          ]
        }
      ],
      "source": [
        "# Manipulação de dados\n",
        "import pandas as pd\n",
        "\n",
        "# Vamos criar um DataFrame de exemplo\n",
        "dados = {\n",
        "    'Aluno_a': [8, 7, 6, 9, 8],\n",
        "    'Aluno_b': [7, 6, 8, 9, 10]\n",
        "}\n",
        "\n",
        "# Convertendo para um df\n",
        "df = pd.DataFrame(dados)\n",
        "\n",
        "# Calculando a correlação entre as duas variáveis\n",
        "correlacao = df['Aluno_a'].corr(df['Aluno_b'])\n",
        "\n",
        "# Exibindo o resultado\n",
        "print(\"Correlação entre as variáveis:\", correlacao)"
      ]
    },
    {
      "cell_type": "markdown",
      "source": [
        "Tivemos uma correlação positiva indicando que enquanto uma variavel cresce a outra também cresce a correlação é moderada de 0,41 é importante frisarmos que correlação não indida causualidade"
      ],
      "metadata": {
        "id": "7GCEMmKNWPvx"
      }
    },
    {
      "cell_type": "code",
      "source": [
        "# Em breve!!!"
      ],
      "metadata": {
        "id": "MO8htsVPWsOf"
      },
      "execution_count": null,
      "outputs": []
    }
  ]
}