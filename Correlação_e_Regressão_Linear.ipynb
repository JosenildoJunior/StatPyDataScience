{
  "nbformat": 4,
  "nbformat_minor": 0,
  "metadata": {
    "colab": {
      "provenance": [],
      "collapsed_sections": [
        "OR4LT-jORo5y",
        "YCoDvjxxUhu5",
        "z6G8PkGJeMxb",
        "rYiXj3-WBKUq"
      ],
      "authorship_tag": "ABX9TyMsV/RmiWzTmBlGjfZ9PoUl",
      "include_colab_link": true
    },
    "kernelspec": {
      "name": "python3",
      "display_name": "Python 3"
    },
    "language_info": {
      "name": "python"
    }
  },
  "cells": [
    {
      "cell_type": "markdown",
      "metadata": {
        "id": "view-in-github",
        "colab_type": "text"
      },
      "source": [
        "<a href=\"https://colab.research.google.com/github/JosenildoJunior/StatPyDataScience/blob/main/Correla%C3%A7%C3%A3o_e_Regress%C3%A3o_Linear.ipynb\" target=\"_parent\"><img src=\"https://colab.research.google.com/assets/colab-badge.svg\" alt=\"Open In Colab\"/></a>"
      ]
    },
    {
      "cell_type": "markdown",
      "source": [
        "# **Correlação**"
      ],
      "metadata": {
        "id": "OR4LT-jORo5y"
      }
    },
    {
      "cell_type": "markdown",
      "source": [
        "A correlação é uma medida estatística que descreve a relação entre duas variáveis. Ela avalia a direção e a força da associação entre essas variáveis.\n",
        "\n",
        "Os dados podem ser representados por pares ordenados (x, y), sendo x a variável independente (ou explanatória) e y a variável dependente (ou resposta)."
      ],
      "metadata": {
        "id": "UgheC17BUL7A"
      }
    },
    {
      "cell_type": "markdown",
      "source": [
        "## **Como funciona ?**"
      ],
      "metadata": {
        "id": "YCoDvjxxUhu5"
      }
    },
    {
      "cell_type": "markdown",
      "source": [
        "A correlação é calculada utilizando técnicas estatísticas, como o coeficiente de correlação de Pearson, Spearman ou Kendall. Esses coeficientes variam de -1 a 1, onde -1 indica uma correlação negativa perfeita, 0 indica nenhuma correlação e 1 indica uma correlação positiva perfeita.\n",
        "\n",
        "Força da Correlação:\n",
        "\n",
        "- 0.00 a 0.19 (ou -0.19): Correlação muito fraca.\n",
        "- 0.20 a 0.39 (ou -0.39): Correlação fraca.\n",
        "- 0.40 a 0.59 (ou -0.59): Correlação moderada.\n",
        "- 0.60 a 0.79 (ou -0.79): Correlação forte.\n",
        "- 0.80 a 1.00 (ou -1.00): Correlação muito forte."
      ],
      "metadata": {
        "id": "UB6iMhTaUj8R"
      }
    },
    {
      "cell_type": "markdown",
      "source": [
        "Vamos observar um exemplo para entendermos melhor o assunto\n",
        "\n",
        "Considere um conjunto de dados que represente as notas de dois alunos (Aluno A e Aluno B) em duas disciplinas diferentes (Matemática e Ciências). As notas são representadas em uma escala de 0 a 10.\n",
        "\n",
        "Crie um DataFrame com os seguintes dados:\n",
        "\n",
        "- Aluno A - Matemática: [8, 7, 6, 9, 8]\n",
        "- Aluno B - Matemática: [7, 6, 8, 9, 10]\n",
        "- Aluno A - Ciências: [9, 8, 7, 9, 8]\n",
        "- Aluno B - Ciências: [8, 9, 7, 8, 9]\n",
        "\n",
        "Calcule a correlação entre as notas do Aluno A e do Aluno B em ambas as disciplinas.\n",
        "\n",
        "Imprima o resultado da correlação para cada disciplina.\n",
        "\n",
        "Interprete os resultados."
      ],
      "metadata": {
        "id": "MGvm_SO1Vvxa"
      }
    },
    {
      "cell_type": "code",
      "execution_count": 3,
      "metadata": {
        "colab": {
          "base_uri": "https://localhost:8080/"
        },
        "id": "sCKPxkntQksu",
        "outputId": "6a260089-14e7-4512-fd87-f7afeb69d0b5"
      },
      "outputs": [
        {
          "output_type": "stream",
          "name": "stdout",
          "text": [
            "A correlação entre as variáveis em matématica é de: 0.4160251471689218 já em ciências é de: 0.2857142857142857\n"
          ]
        }
      ],
      "source": [
        "# Manipulação de dados\n",
        "import pandas as pd\n",
        "\n",
        "# Funções estatísticas\n",
        "import scipy.stats as st\n",
        "\n",
        "# Vamos criar um DataFrame de exemplo\n",
        "dados = {\n",
        "    'Aluno_a_matematica': [8, 7, 6, 9, 8],\n",
        "    'Aluno_b_matematica': [7, 6, 8, 9, 10],\n",
        "    'Aluno_a_ciencias': [9, 8, 7, 9, 8],\n",
        "    'Aluno_b_ciencias': [8, 9, 7, 8, 9]\n",
        "}\n",
        "\n",
        "# Convertendo para um df\n",
        "df = pd.DataFrame(dados)\n",
        "\n",
        "# Calculando a correlação entre as duas variáveis\n",
        "correlacao_mat, p_valor_mat = st.pearsonr(df['Aluno_a_matematica'], df['Aluno_b_matematica'])\n",
        "\n",
        "# Calculando a correlação entre as duas variáveis\n",
        "correlacao_cien, p_valor_cien = st.pearsonr(df['Aluno_a_ciencias'], df['Aluno_b_ciencias'])\n",
        "\n",
        "# Exibindo o resultado\n",
        "print(f\"A correlação entre as variáveis em matématica é de: {correlacao_mat} já em ciências é de: {correlacao_cien}\")"
      ]
    },
    {
      "cell_type": "markdown",
      "source": [
        "Observando a correlação nas notas de matemática, percebemos uma correlação moderada positiva, indicando que, à medida que o valor de uma variável aumenta, a outra variável tende a aumentar também.\n",
        "\n",
        "A correlação das notas de ciências é fraca e positiva. Nesse caso, o mesmo se aplica: à medida que uma variável aumenta, a outra tende a aumentar."
      ],
      "metadata": {
        "id": "7GCEMmKNWPvx"
      }
    },
    {
      "cell_type": "markdown",
      "source": [
        "É interessante notar que, nesse caso, também poderíamos utilizar o método 'corr' para calcular a correlação de **Pearson**. Também seria possível utilizarmos a função 'corrcoef' para realizar o mesmo cálculo."
      ],
      "metadata": {
        "id": "ZTHhTRPddKWj"
      }
    },
    {
      "cell_type": "markdown",
      "source": [
        "Além do Pearson, também existe o **Spearman**, que é uma medida de associação entre duas variáveis ordinais ou de intervalo. Ele avalia a relação monotônica entre as variáveis, ou seja, se uma variável aumenta, a outra tende a aumentar (ou diminuir), independentemente da magnitude do aumento (ou diminuição).\n",
        "\n",
        "Por outro lado, o coeficiente de correlação de Pearson avalia especificamente a relação linear entre duas variáveis, o que implica que ele assume uma relação constante entre os aumentos das variáveis. Se a relação entre as variáveis não for linear, o Pearson pode não capturar essa relação adequadamente."
      ],
      "metadata": {
        "id": "y3vHsGUBd6Ux"
      }
    },
    {
      "cell_type": "markdown",
      "source": [
        "Vamos observar a diferença entre o Spearman e o Pearson aplicando o Spearman nesta mesma questão."
      ],
      "metadata": {
        "id": "G60AfiPffnXB"
      }
    },
    {
      "cell_type": "code",
      "source": [
        "# Importando o Spearman\n",
        "from scipy.stats import spearmanr\n",
        "\n",
        "# Calculando a correlação de Spearman\n",
        "correlacao_mat_spear, p_valor_mat_spear = spearmanr(df['Aluno_a_matematica'], df['Aluno_b_matematica'])\n",
        "\n",
        "# Calculando a correlação de Spearman\n",
        "correlacao_cien_spear, p_valor_cien_spear = spearmanr(df['Aluno_a_ciencias'], df['Aluno_b_ciencias'])\n",
        "\n",
        "# Exibindo o resultado\n",
        "print(f\"A correlação Spearman entre as variáveis em matématica é de: {correlacao_mat_spear} já em ciências é de: {correlacao_cien_spear}\")"
      ],
      "metadata": {
        "colab": {
          "base_uri": "https://localhost:8080/"
        },
        "id": "XRqOCkvlfFxZ",
        "outputId": "09696562-e0a2-409e-a01e-d1fa8fb02d86"
      },
      "execution_count": 5,
      "outputs": [
        {
          "output_type": "stream",
          "name": "stdout",
          "text": [
            "A correlação Spearman entre as variáveis em matématica é de: 0.46169025843831935 já em ciências é de: 0.1111111111111111\n"
          ]
        }
      ]
    },
    {
      "cell_type": "markdown",
      "source": [
        "Aplicamos o Spearman nos mesmos dados e obtivemos resultados diferentes. Isso se deve porque, embora o Spearman também esteja medindo a direção e a força da correlação, ele está fazendo isso para a relação monótona, ou seja, ele avalia se, quando uma variável aumenta, a outra tende a aumentar ou diminuir consistentemente, mas não necessariamente em uma taxa constante.\n",
        "\n",
        "Logo, chegamos à conclusão de que:\n",
        "\n",
        "- Correlação de Pearson: Avalia a relação linear entre variáveis contínuas.\n",
        "- Correlação de Spearman: Avalia a relação monótona entre variáveis, sendo menos sensível a outliers e distribuições não-normais."
      ],
      "metadata": {
        "id": "1N-JoZcggQ3p"
      }
    },
    {
      "cell_type": "markdown",
      "source": [
        "### **Qual utilizar Pearson ou Spearman ?**"
      ],
      "metadata": {
        "id": "z6G8PkGJeMxb"
      }
    },
    {
      "cell_type": "markdown",
      "source": [
        "Para sabermos essa questão, primeiro precisamos entender a diferença entre elas:\n",
        "\n",
        "- A principal diferença entre a correlação de Pearson e a correlação de Spearman é que a correlação de Pearson avalia a associação linear entre duas variáveis, enquanto a correlação de Spearman avalia a associação monótona, o que a torna mais robusta em relação a outliers e a distribuições não-normais.\n",
        "\n",
        "Agora que já entendemos a diferença, fica mais fácil saber quando utilizar uma ou outra, concorda?\n",
        "\n",
        "- Você deve usar a correlação de Pearson quando suas variáveis são contínuas e seguem uma distribuição normal, e você está interessado na relação linear entre elas. Por outro lado, você deve usar a correlação de Spearman quando suas variáveis são ordinais, quando a relação entre elas não é linear ou quando a distribuição dos dados é não normal."
      ],
      "metadata": {
        "id": "_bIOCAUKeQCK"
      }
    },
    {
      "cell_type": "markdown",
      "source": [
        "### **Teste de hipóteses**"
      ],
      "metadata": {
        "id": "4X0zsyG75zXt"
      }
    },
    {
      "cell_type": "markdown",
      "source": [
        "Basicamente, podemos utilizar o teste de hipóteses para determinarmos se o coeficiente de correlação amostral fornece evidências suficientes de que o coeficiente de correlação populacional é significativo. Dito isso, nossas hipóteses seguem a seguinte fórmula:\n",
        "\n",
        "- H0: ρ = 0 (Não há correlação significativa)\n",
        "- Ha: ρ ≠ 0 (Correlação significativa)\n",
        "\n",
        "Então, digamos que o p-valor seja menor que o nível de significância. Dessa forma, podemos rejeitar a hipótese nula. Portanto, podemos dizer que a correlação é estatisticamente significativa."
      ],
      "metadata": {
        "id": "LVjIOHJW6JDL"
      }
    },
    {
      "cell_type": "markdown",
      "source": [
        "Nesse caso, vou aplicar o teste nas correlações de Spearman. Vamos utilizar um nível de significância de 0,05."
      ],
      "metadata": {
        "id": "TNrgQdYb7zO7"
      }
    },
    {
      "cell_type": "code",
      "source": [
        "# Observando os p-valores\n",
        "print(f\"p-valor das notas em matemática: {p_valor_mat_spear}\\np-valor das notas em ciências: {p_valor_cien_spear}\")"
      ],
      "metadata": {
        "colab": {
          "base_uri": "https://localhost:8080/"
        },
        "id": "QLR4NE3y7z7K",
        "outputId": "6fab0b32-449c-4dc3-c17c-206ac49ff6d2"
      },
      "execution_count": 9,
      "outputs": [
        {
          "output_type": "stream",
          "name": "stdout",
          "text": [
            "p-valor das notas em matemática: 0.43376615616902786\n",
            "p-valor das notas em ciências: 0.8588205736427662\n"
          ]
        }
      ]
    },
    {
      "cell_type": "markdown",
      "source": [
        "Em ambos os casos, o p-valor foi maior que nosso nível de significância, logo, falhamos em rejeitar a hipótese nula. Dito isso, com base em nosso teste a um nível de significância de 0,05, falhamos em rejeitar a hipótese nula. Logo, podemos concluir que não existem evidências de que as correlações sejam estatisticamente significativas em nossa população."
      ],
      "metadata": {
        "id": "M0hfwzZi9LLE"
      }
    },
    {
      "cell_type": "markdown",
      "source": [
        "# **Regressão**"
      ],
      "metadata": {
        "id": "rYiXj3-WBKUq"
      }
    },
    {
      "cell_type": "code",
      "source": [
        "#Em breve!!!"
      ],
      "metadata": {
        "id": "RLeztpZHBL_4"
      },
      "execution_count": null,
      "outputs": []
    }
  ]
}