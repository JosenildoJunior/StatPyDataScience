{
  "nbformat": 4,
  "nbformat_minor": 0,
  "metadata": {
    "colab": {
      "provenance": [],
      "collapsed_sections": [
        "YCoDvjxxUhu5",
        "z6G8PkGJeMxb",
        "rYiXj3-WBKUq",
        "JWmrv-cVIOju",
        "tb0r3iJRI47K",
        "Y9h4qwVkIgfm",
        "MUtAjXL8Krpu",
        "2tX8PtpELkFg",
        "L985BU_rL41W",
        "XVWM7Y_FOs2V",
        "ZQ_fQ1XbJGx7",
        "ymWwzZXKKIga"
      ],
      "authorship_tag": "ABX9TyOKMplm174zB5+Gl/8aMNX9",
      "include_colab_link": true
    },
    "kernelspec": {
      "name": "python3",
      "display_name": "Python 3"
    },
    "language_info": {
      "name": "python"
    }
  },
  "cells": [
    {
      "cell_type": "markdown",
      "metadata": {
        "id": "view-in-github",
        "colab_type": "text"
      },
      "source": [
        "<a href=\"https://colab.research.google.com/github/JosenildoJunior/StatPyDataScience/blob/main/Correla%C3%A7%C3%A3o_e_Regress%C3%A3o_Linear.ipynb\" target=\"_parent\"><img src=\"https://colab.research.google.com/assets/colab-badge.svg\" alt=\"Open In Colab\"/></a>"
      ]
    },
    {
      "cell_type": "markdown",
      "source": [
        "# **Correlação**"
      ],
      "metadata": {
        "id": "OR4LT-jORo5y"
      }
    },
    {
      "cell_type": "markdown",
      "source": [
        "A correlação é uma medida estatística que descreve a relação entre duas variáveis. Ela avalia a direção e a força da associação entre essas variáveis.\n",
        "\n",
        "Os dados podem ser representados por pares ordenados (x, y), sendo x a variável independente (ou explanatória) e y a variável dependente (ou resposta)."
      ],
      "metadata": {
        "id": "UgheC17BUL7A"
      }
    },
    {
      "cell_type": "markdown",
      "source": [
        "## **Como funciona ?**"
      ],
      "metadata": {
        "id": "YCoDvjxxUhu5"
      }
    },
    {
      "cell_type": "markdown",
      "source": [
        "A correlação é calculada utilizando técnicas estatísticas, como o coeficiente de correlação de Pearson, Spearman ou Kendall. Esses coeficientes variam de -1 a 1, onde -1 indica uma correlação negativa perfeita, 0 indica nenhuma correlação e 1 indica uma correlação positiva perfeita.\n",
        "\n",
        "Força da Correlação:\n",
        "\n",
        "- 0.00 a 0.19 (ou -0.19): Correlação muito fraca.\n",
        "- 0.20 a 0.39 (ou -0.39): Correlação fraca.\n",
        "- 0.40 a 0.59 (ou -0.59): Correlação moderada.\n",
        "- 0.60 a 0.79 (ou -0.79): Correlação forte.\n",
        "- 0.80 a 1.00 (ou -1.00): Correlação muito forte."
      ],
      "metadata": {
        "id": "UB6iMhTaUj8R"
      }
    },
    {
      "cell_type": "markdown",
      "source": [
        "Vamos observar um exemplo para entendermos melhor o assunto\n",
        "\n",
        "Considere um conjunto de dados que represente as notas de dois alunos (Aluno A e Aluno B) em duas disciplinas diferentes (Matemática e Ciências). As notas são representadas em uma escala de 0 a 10.\n",
        "\n",
        "Crie um DataFrame com os seguintes dados:\n",
        "\n",
        "- Aluno A - Matemática: [8, 7, 6, 9, 8]\n",
        "- Aluno B - Matemática: [7, 6, 8, 9, 10]\n",
        "- Aluno A - Ciências: [9, 8, 7, 9, 8]\n",
        "- Aluno B - Ciências: [8, 9, 7, 8, 9]\n",
        "\n",
        "Calcule a correlação entre as notas do Aluno A e do Aluno B em ambas as disciplinas.\n",
        "\n",
        "Imprima o resultado da correlação para cada disciplina.\n",
        "\n",
        "Interprete os resultados."
      ],
      "metadata": {
        "id": "MGvm_SO1Vvxa"
      }
    },
    {
      "cell_type": "code",
      "execution_count": null,
      "metadata": {
        "colab": {
          "base_uri": "https://localhost:8080/"
        },
        "id": "sCKPxkntQksu",
        "outputId": "6a260089-14e7-4512-fd87-f7afeb69d0b5"
      },
      "outputs": [
        {
          "output_type": "stream",
          "name": "stdout",
          "text": [
            "A correlação entre as variáveis em matématica é de: 0.4160251471689218 já em ciências é de: 0.2857142857142857\n"
          ]
        }
      ],
      "source": [
        "# Manipulação de dados\n",
        "import pandas as pd\n",
        "\n",
        "# Funções estatísticas\n",
        "import scipy.stats as st\n",
        "\n",
        "# Vamos criar um DataFrame de exemplo\n",
        "dados = {\n",
        "    'Aluno_a_matematica': [8, 7, 6, 9, 8],\n",
        "    'Aluno_b_matematica': [7, 6, 8, 9, 10],\n",
        "    'Aluno_a_ciencias': [9, 8, 7, 9, 8],\n",
        "    'Aluno_b_ciencias': [8, 9, 7, 8, 9]\n",
        "}\n",
        "\n",
        "# Convertendo para um df\n",
        "df = pd.DataFrame(dados)\n",
        "\n",
        "# Calculando a correlação entre as duas variáveis\n",
        "correlacao_mat, p_valor_mat = st.pearsonr(df['Aluno_a_matematica'], df['Aluno_b_matematica'])\n",
        "\n",
        "# Calculando a correlação entre as duas variáveis\n",
        "correlacao_cien, p_valor_cien = st.pearsonr(df['Aluno_a_ciencias'], df['Aluno_b_ciencias'])\n",
        "\n",
        "# Exibindo o resultado\n",
        "print(f\"A correlação entre as variáveis em matématica é de: {correlacao_mat} já em ciências é de: {correlacao_cien}\")"
      ]
    },
    {
      "cell_type": "markdown",
      "source": [
        "Observando a correlação nas notas de matemática, percebemos uma correlação moderada positiva, indicando que, à medida que o valor de uma variável aumenta, a outra variável tende a aumentar também.\n",
        "\n",
        "A correlação das notas de ciências é fraca e positiva. Nesse caso, o mesmo se aplica: à medida que uma variável aumenta, a outra tende a aumentar."
      ],
      "metadata": {
        "id": "7GCEMmKNWPvx"
      }
    },
    {
      "cell_type": "markdown",
      "source": [
        "É interessante notar que, nesse caso, também poderíamos utilizar o método 'corr' para calcular a correlação de **Pearson**. Também seria possível utilizarmos a função 'corrcoef' para realizar o mesmo cálculo."
      ],
      "metadata": {
        "id": "ZTHhTRPddKWj"
      }
    },
    {
      "cell_type": "markdown",
      "source": [
        "Além do Pearson, também existe o **Spearman**, que é uma medida de associação entre duas variáveis ordinais ou de intervalo. Ele avalia a relação monotônica entre as variáveis, ou seja, se uma variável aumenta, a outra tende a aumentar (ou diminuir), independentemente da magnitude do aumento (ou diminuição).\n",
        "\n",
        "Por outro lado, o coeficiente de correlação de Pearson avalia especificamente a relação linear entre duas variáveis, o que implica que ele assume uma relação constante entre os aumentos das variáveis. Se a relação entre as variáveis não for linear, o Pearson pode não capturar essa relação adequadamente."
      ],
      "metadata": {
        "id": "y3vHsGUBd6Ux"
      }
    },
    {
      "cell_type": "markdown",
      "source": [
        "Vamos observar a diferença entre o Spearman e o Pearson aplicando o Spearman nesta mesma questão."
      ],
      "metadata": {
        "id": "G60AfiPffnXB"
      }
    },
    {
      "cell_type": "code",
      "source": [
        "# Importando o Spearman\n",
        "from scipy.stats import spearmanr\n",
        "\n",
        "# Calculando a correlação de Spearman\n",
        "correlacao_mat_spear, p_valor_mat_spear = spearmanr(df['Aluno_a_matematica'], df['Aluno_b_matematica'])\n",
        "\n",
        "# Calculando a correlação de Spearman\n",
        "correlacao_cien_spear, p_valor_cien_spear = spearmanr(df['Aluno_a_ciencias'], df['Aluno_b_ciencias'])\n",
        "\n",
        "# Exibindo o resultado\n",
        "print(f\"A correlação Spearman entre as variáveis em matématica é de: {correlacao_mat_spear} já em ciências é de: {correlacao_cien_spear}\")"
      ],
      "metadata": {
        "colab": {
          "base_uri": "https://localhost:8080/"
        },
        "id": "XRqOCkvlfFxZ",
        "outputId": "09696562-e0a2-409e-a01e-d1fa8fb02d86"
      },
      "execution_count": null,
      "outputs": [
        {
          "output_type": "stream",
          "name": "stdout",
          "text": [
            "A correlação Spearman entre as variáveis em matématica é de: 0.46169025843831935 já em ciências é de: 0.1111111111111111\n"
          ]
        }
      ]
    },
    {
      "cell_type": "markdown",
      "source": [
        "Aplicamos o Spearman nos mesmos dados e obtivemos resultados diferentes. Isso se deve porque, embora o Spearman também esteja medindo a direção e a força da correlação, ele está fazendo isso para a relação monótona, ou seja, ele avalia se, quando uma variável aumenta, a outra tende a aumentar ou diminuir consistentemente, mas não necessariamente em uma taxa constante.\n",
        "\n",
        "Logo, chegamos à conclusão de que:\n",
        "\n",
        "- Correlação de Pearson: Avalia a relação linear entre variáveis contínuas.\n",
        "- Correlação de Spearman: Avalia a relação monótona entre variáveis, sendo menos sensível a outliers e distribuições não-normais."
      ],
      "metadata": {
        "id": "1N-JoZcggQ3p"
      }
    },
    {
      "cell_type": "markdown",
      "source": [
        "### **Qual utilizar Pearson ou Spearman ?**"
      ],
      "metadata": {
        "id": "z6G8PkGJeMxb"
      }
    },
    {
      "cell_type": "markdown",
      "source": [
        "Para sabermos essa questão, primeiro precisamos entender a diferença entre elas:\n",
        "\n",
        "- A principal diferença entre a correlação de Pearson e a correlação de Spearman é que a correlação de Pearson avalia a associação linear entre duas variáveis, enquanto a correlação de Spearman avalia a associação monótona, o que a torna mais robusta em relação a outliers e a distribuições não-normais.\n",
        "\n",
        "Agora que já entendemos a diferença, fica mais fácil saber quando utilizar uma ou outra, concorda?\n",
        "\n",
        "- Você deve usar a correlação de Pearson quando suas variáveis são contínuas e seguem uma distribuição normal, e você está interessado na relação linear entre elas. Por outro lado, você deve usar a correlação de Spearman quando suas variáveis são ordinais, quando a relação entre elas não é linear ou quando a distribuição dos dados é não normal."
      ],
      "metadata": {
        "id": "_bIOCAUKeQCK"
      }
    },
    {
      "cell_type": "markdown",
      "source": [
        "### **Teste de hipóteses**"
      ],
      "metadata": {
        "id": "4X0zsyG75zXt"
      }
    },
    {
      "cell_type": "markdown",
      "source": [
        "Basicamente, podemos utilizar o teste de hipóteses para determinarmos se o coeficiente de correlação amostral fornece evidências suficientes de que o coeficiente de correlação populacional é significativo. Dito isso, nossas hipóteses seguem a seguinte fórmula:\n",
        "\n",
        "- H0: ρ = 0 (Não há correlação significativa)\n",
        "- Ha: ρ ≠ 0 (Correlação significativa)\n",
        "\n",
        "Então, digamos que o p-valor seja menor que o nível de significância. Dessa forma, podemos rejeitar a hipótese nula. Portanto, podemos dizer que a correlação é estatisticamente significativa."
      ],
      "metadata": {
        "id": "LVjIOHJW6JDL"
      }
    },
    {
      "cell_type": "markdown",
      "source": [
        "Nesse caso, vou aplicar o teste nas correlações de Spearman. Vamos utilizar um nível de significância de 0,05."
      ],
      "metadata": {
        "id": "TNrgQdYb7zO7"
      }
    },
    {
      "cell_type": "code",
      "source": [
        "# Observando os p-valores\n",
        "print(f\"p-valor das notas em matemática: {p_valor_mat_spear}\\np-valor das notas em ciências: {p_valor_cien_spear}\")"
      ],
      "metadata": {
        "colab": {
          "base_uri": "https://localhost:8080/"
        },
        "id": "QLR4NE3y7z7K",
        "outputId": "6fab0b32-449c-4dc3-c17c-206ac49ff6d2"
      },
      "execution_count": null,
      "outputs": [
        {
          "output_type": "stream",
          "name": "stdout",
          "text": [
            "p-valor das notas em matemática: 0.43376615616902786\n",
            "p-valor das notas em ciências: 0.8588205736427662\n"
          ]
        }
      ]
    },
    {
      "cell_type": "markdown",
      "source": [
        "Em ambos os casos, o p-valor foi maior que nosso nível de significância, logo, falhamos em rejeitar a hipótese nula. Dito isso, com base em nosso teste a um nível de significância de 0,05, falhamos em rejeitar a hipótese nula. Logo, podemos concluir que não existem evidências de que as correlações sejam estatisticamente significativas em nossa população."
      ],
      "metadata": {
        "id": "M0hfwzZi9LLE"
      }
    },
    {
      "cell_type": "markdown",
      "source": [
        "# **Regressão Linear**"
      ],
      "metadata": {
        "id": "rYiXj3-WBKUq"
      }
    },
    {
      "cell_type": "markdown",
      "source": [
        "A regressão é uma técnica que nos permite quantificar e inferir a relação de uma variável dependente (que será a nossa variável resposta) com variáveis independentes (que são as nossas variáveis explicativas)."
      ],
      "metadata": {
        "id": "5YXK8chuQy9U"
      }
    },
    {
      "cell_type": "markdown",
      "source": [
        "Pontos importantes a se ter em mente:\n",
        "\n",
        "- **Variáveis dependentes**: Estas são as variáveis que estamos tentando explicar ou prever usando um modelo. Os valores dessas variáveis dependem de outras e normalmente as chamamos de 'y'.\n",
        "\n",
        "- **Variáveis independentes**: Estas são as variáveis que usamos para explicar ou prever as variáveis dependentes. Elas também são conhecidas como variáveis preditoras e normalmente as chamamos de 'X'.\n",
        "\n",
        "- **Coeficiente de determinação \\( R^2 \\)**: O coeficiente de determinação \\( R^2 \\) (R-quadrado) é uma métrica fundamental para avaliar o ajuste de um modelo de regressão aos dados. Se o \\( R^2 \\) de um modelo de regressão for, por exemplo, 0,328, isso significa que o modelo consegue explicar aproximadamente 32,8% da variabilidade dos dados. Em outras palavras, cerca de 32,8% da variação na variável dependente pode ser explicada pelas variáveis independentes incluídas no modelo."
      ],
      "metadata": {
        "id": "4suitOoePl99"
      }
    },
    {
      "cell_type": "markdown",
      "source": [
        "Regressão linear simples x Regressão múltipla:\n",
        "\n",
        "- **Regressão linear simples**: Envolvendo apenas uma variável independente, essa regressão visa traçar uma linha reta que se ajuste aos dados para modelar a relação da melhor forma possível entre a variável dependente e a única independente.\n",
        "\n",
        "- **Regressão linear múltipla**: Envolvendo duas ou mais variáveis independentes, essa regressão visa obter um plano que forme o melhor ajuste possível, minimizando a soma dos quadrados das diferenças entre os valores observados e os valores previstos pelo modelo linear múltiplo.\n",
        "\n",
        "Em **resumo**, a regressão linear simples analisa a relação entre duas variáveis, enquanto a regressão linear múltipla analisa a relação entre uma variável dependente e duas ou mais variáveis independentes."
      ],
      "metadata": {
        "id": "Ki9iCT3yQp2G"
      }
    },
    {
      "cell_type": "markdown",
      "source": [
        "**Mínimos Quadrados Ordinários (OLS)**\n",
        "\n",
        "O OLS é um tipo de análise de regressão. Para aplicarmos essa análise, é necessário respeitar alguns pontos importantes, tais como:\n",
        "\n",
        "- As **variáveis independentes** podem ser contínuas ou categóricas.\n",
        "\n",
        "- A **variável dependente** deve ser contínua.\n",
        "\n",
        "**Valores observados** x **Valores ajustados**\n",
        "\n",
        "- **Valores observados**: São os valores registrados durante nosso estudo ou experimento, juntamente com os valores das variáveis independentes. Esses valores são denotados usando Y.\n",
        "\n",
        "- **Valores ajustados**: São os valores que nosso modelo prevê. Valores previstos e valores ajustados são sinônimos. É comum denotarmos valores ajustados como Ŷ."
      ],
      "metadata": {
        "id": "sMMrTfkJV2iT"
      }
    },
    {
      "cell_type": "markdown",
      "source": [
        "**O que são resíduos e qual a sua importância?**\n",
        "\n",
        "Utilizamos os resíduos para avaliar o quão bem está indo nosso modelo. Precisamos analisar a diferença entre os valores observados e os valores ajustados, pois essa diferença representa o erro no modelo.\n",
        "\n",
        "Um resíduo é a distância entre o valor observado e o valor ajustado correspondente. A fórmula de cálculo dos resíduos é:\n",
        "\n",
        "- **Resíduos** = Valor observado – Valor ajustado\n",
        "\n",
        "Graficamente falando, os resíduos são as distâncias verticais entre os valores e os valores ajustados.\n",
        "\n",
        "No entanto, não podemos simplesmente somar os resíduos, pois os valores negativos e positivos se anularão. É aí que entra o **OLS**, pois essa análise elevará os **resíduos ao quadrado**. Dessa forma, poderemos somá-los sem anulá-los. Logo, um ponto de dados com um resíduo de 3 terá um erro quadrado de 9.\n",
        "\n",
        "Então o **OLS** desenha a linha que minimiza a **soma dos erros ao quadrado (SSE)**."
      ],
      "metadata": {
        "id": "w0Xra5mqXcj8"
      }
    },
    {
      "cell_type": "markdown",
      "source": [
        "**O que é a soma dos erros ao quadrado (SSE)?**\n",
        "\n",
        "Basicamente, o SSE é uma medida de variabilidade. O SSE aumenta conforme os pontos se afastam da linha ajustada. Como os cálculos usam diferenças quadradas, a variância está em unidades quadradas em vez das unidades originais dos dados. Para um dado conjunto, valores menores de SSE sinalizam que as observações estão mais próximas dos valores ajustados.\n",
        "\n",
        "\n",
        "\n",
        "\n",
        "\n",
        "\n"
      ],
      "metadata": {
        "id": "iiCRAL6zarBL"
      }
    },
    {
      "cell_type": "markdown",
      "source": [
        "## **Exemplos**"
      ],
      "metadata": {
        "id": "JWmrv-cVIOju"
      }
    },
    {
      "cell_type": "markdown",
      "source": [
        "Até aqui, já vimos bastante conceitos. Vamos observar uma parte um pouco mais prática agora. Dito isso, seguiremos as seguintes etapas:\n",
        "\n",
        "- Importação dos dados\n",
        "\n",
        "- Análise rápida dos dados (Nesse caso, queremos partir logo para a regressão, mas em situações reais seria necessário realizar uma análise mais minuciosa nos dados)\n",
        "\n",
        "- Preparar os dados (Observar os tipos de dados presentes, se existe algum valor ausente)\n",
        "\n",
        "- Dividir os dados (Dividir entre treino e teste)\n",
        "\n",
        "- Treinar o modelo (Treinar o modelo nas variáveis selecionadas)\n",
        "\n",
        "- Avaliar o modelo (Avaliar o desempenho do modelo)\n",
        "\n",
        "Nosso objetivo é realizar uma análise de regressão linear simples ou múltipla para prever os preços das casas com base em diferentes atributos."
      ],
      "metadata": {
        "id": "Fxm5NJLfHBew"
      }
    },
    {
      "cell_type": "markdown",
      "source": [
        "### **Regressão Linear Simples**"
      ],
      "metadata": {
        "id": "tb0r3iJRI47K"
      }
    },
    {
      "cell_type": "markdown",
      "source": [
        "Vamos criar um modelo de regressão simples e observar como ele se adaptará aos nossos dados."
      ],
      "metadata": {
        "id": "eQKxwO_DJ3bJ"
      }
    },
    {
      "cell_type": "markdown",
      "source": [
        "#### **Importando os dados**"
      ],
      "metadata": {
        "id": "Y9h4qwVkIgfm"
      }
    },
    {
      "cell_type": "code",
      "source": [
        "# Manipulação de dados\n",
        "import pandas as pd\n",
        "\n",
        "# Funções matématicas\n",
        "import numpy as np\n",
        "\n",
        "# URL do conjunto de dados no GitHub\n",
        "url = 'https://raw.githubusercontent.com/selva86/datasets/master/BostonHousing.csv'\n",
        "\n",
        "# Carregando o conjunto de dados\n",
        "df = pd.read_csv(url)\n",
        "\n",
        "# Exibindo as primeiras linhas\n",
        "df.head()"
      ],
      "metadata": {
        "id": "RLeztpZHBL_4",
        "colab": {
          "base_uri": "https://localhost:8080/",
          "height": 0
        },
        "outputId": "40251046-d246-4ef0-d834-b7a76fcacaf7"
      },
      "execution_count": 29,
      "outputs": [
        {
          "output_type": "execute_result",
          "data": {
            "text/plain": [
              "      crim    zn  indus  chas    nox     rm   age     dis  rad  tax  ptratio  \\\n",
              "0  0.00632  18.0   2.31     0  0.538  6.575  65.2  4.0900    1  296     15.3   \n",
              "1  0.02731   0.0   7.07     0  0.469  6.421  78.9  4.9671    2  242     17.8   \n",
              "2  0.02729   0.0   7.07     0  0.469  7.185  61.1  4.9671    2  242     17.8   \n",
              "3  0.03237   0.0   2.18     0  0.458  6.998  45.8  6.0622    3  222     18.7   \n",
              "4  0.06905   0.0   2.18     0  0.458  7.147  54.2  6.0622    3  222     18.7   \n",
              "\n",
              "        b  lstat  medv  \n",
              "0  396.90   4.98  24.0  \n",
              "1  396.90   9.14  21.6  \n",
              "2  392.83   4.03  34.7  \n",
              "3  394.63   2.94  33.4  \n",
              "4  396.90   5.33  36.2  "
            ],
            "text/html": [
              "\n",
              "  <div id=\"df-d319b42b-1d5b-4246-a384-49b173d9a628\" class=\"colab-df-container\">\n",
              "    <div>\n",
              "<style scoped>\n",
              "    .dataframe tbody tr th:only-of-type {\n",
              "        vertical-align: middle;\n",
              "    }\n",
              "\n",
              "    .dataframe tbody tr th {\n",
              "        vertical-align: top;\n",
              "    }\n",
              "\n",
              "    .dataframe thead th {\n",
              "        text-align: right;\n",
              "    }\n",
              "</style>\n",
              "<table border=\"1\" class=\"dataframe\">\n",
              "  <thead>\n",
              "    <tr style=\"text-align: right;\">\n",
              "      <th></th>\n",
              "      <th>crim</th>\n",
              "      <th>zn</th>\n",
              "      <th>indus</th>\n",
              "      <th>chas</th>\n",
              "      <th>nox</th>\n",
              "      <th>rm</th>\n",
              "      <th>age</th>\n",
              "      <th>dis</th>\n",
              "      <th>rad</th>\n",
              "      <th>tax</th>\n",
              "      <th>ptratio</th>\n",
              "      <th>b</th>\n",
              "      <th>lstat</th>\n",
              "      <th>medv</th>\n",
              "    </tr>\n",
              "  </thead>\n",
              "  <tbody>\n",
              "    <tr>\n",
              "      <th>0</th>\n",
              "      <td>0.00632</td>\n",
              "      <td>18.0</td>\n",
              "      <td>2.31</td>\n",
              "      <td>0</td>\n",
              "      <td>0.538</td>\n",
              "      <td>6.575</td>\n",
              "      <td>65.2</td>\n",
              "      <td>4.0900</td>\n",
              "      <td>1</td>\n",
              "      <td>296</td>\n",
              "      <td>15.3</td>\n",
              "      <td>396.90</td>\n",
              "      <td>4.98</td>\n",
              "      <td>24.0</td>\n",
              "    </tr>\n",
              "    <tr>\n",
              "      <th>1</th>\n",
              "      <td>0.02731</td>\n",
              "      <td>0.0</td>\n",
              "      <td>7.07</td>\n",
              "      <td>0</td>\n",
              "      <td>0.469</td>\n",
              "      <td>6.421</td>\n",
              "      <td>78.9</td>\n",
              "      <td>4.9671</td>\n",
              "      <td>2</td>\n",
              "      <td>242</td>\n",
              "      <td>17.8</td>\n",
              "      <td>396.90</td>\n",
              "      <td>9.14</td>\n",
              "      <td>21.6</td>\n",
              "    </tr>\n",
              "    <tr>\n",
              "      <th>2</th>\n",
              "      <td>0.02729</td>\n",
              "      <td>0.0</td>\n",
              "      <td>7.07</td>\n",
              "      <td>0</td>\n",
              "      <td>0.469</td>\n",
              "      <td>7.185</td>\n",
              "      <td>61.1</td>\n",
              "      <td>4.9671</td>\n",
              "      <td>2</td>\n",
              "      <td>242</td>\n",
              "      <td>17.8</td>\n",
              "      <td>392.83</td>\n",
              "      <td>4.03</td>\n",
              "      <td>34.7</td>\n",
              "    </tr>\n",
              "    <tr>\n",
              "      <th>3</th>\n",
              "      <td>0.03237</td>\n",
              "      <td>0.0</td>\n",
              "      <td>2.18</td>\n",
              "      <td>0</td>\n",
              "      <td>0.458</td>\n",
              "      <td>6.998</td>\n",
              "      <td>45.8</td>\n",
              "      <td>6.0622</td>\n",
              "      <td>3</td>\n",
              "      <td>222</td>\n",
              "      <td>18.7</td>\n",
              "      <td>394.63</td>\n",
              "      <td>2.94</td>\n",
              "      <td>33.4</td>\n",
              "    </tr>\n",
              "    <tr>\n",
              "      <th>4</th>\n",
              "      <td>0.06905</td>\n",
              "      <td>0.0</td>\n",
              "      <td>2.18</td>\n",
              "      <td>0</td>\n",
              "      <td>0.458</td>\n",
              "      <td>7.147</td>\n",
              "      <td>54.2</td>\n",
              "      <td>6.0622</td>\n",
              "      <td>3</td>\n",
              "      <td>222</td>\n",
              "      <td>18.7</td>\n",
              "      <td>396.90</td>\n",
              "      <td>5.33</td>\n",
              "      <td>36.2</td>\n",
              "    </tr>\n",
              "  </tbody>\n",
              "</table>\n",
              "</div>\n",
              "    <div class=\"colab-df-buttons\">\n",
              "\n",
              "  <div class=\"colab-df-container\">\n",
              "    <button class=\"colab-df-convert\" onclick=\"convertToInteractive('df-d319b42b-1d5b-4246-a384-49b173d9a628')\"\n",
              "            title=\"Convert this dataframe to an interactive table.\"\n",
              "            style=\"display:none;\">\n",
              "\n",
              "  <svg xmlns=\"http://www.w3.org/2000/svg\" height=\"24px\" viewBox=\"0 -960 960 960\">\n",
              "    <path d=\"M120-120v-720h720v720H120Zm60-500h600v-160H180v160Zm220 220h160v-160H400v160Zm0 220h160v-160H400v160ZM180-400h160v-160H180v160Zm440 0h160v-160H620v160ZM180-180h160v-160H180v160Zm440 0h160v-160H620v160Z\"/>\n",
              "  </svg>\n",
              "    </button>\n",
              "\n",
              "  <style>\n",
              "    .colab-df-container {\n",
              "      display:flex;\n",
              "      gap: 12px;\n",
              "    }\n",
              "\n",
              "    .colab-df-convert {\n",
              "      background-color: #E8F0FE;\n",
              "      border: none;\n",
              "      border-radius: 50%;\n",
              "      cursor: pointer;\n",
              "      display: none;\n",
              "      fill: #1967D2;\n",
              "      height: 32px;\n",
              "      padding: 0 0 0 0;\n",
              "      width: 32px;\n",
              "    }\n",
              "\n",
              "    .colab-df-convert:hover {\n",
              "      background-color: #E2EBFA;\n",
              "      box-shadow: 0px 1px 2px rgba(60, 64, 67, 0.3), 0px 1px 3px 1px rgba(60, 64, 67, 0.15);\n",
              "      fill: #174EA6;\n",
              "    }\n",
              "\n",
              "    .colab-df-buttons div {\n",
              "      margin-bottom: 4px;\n",
              "    }\n",
              "\n",
              "    [theme=dark] .colab-df-convert {\n",
              "      background-color: #3B4455;\n",
              "      fill: #D2E3FC;\n",
              "    }\n",
              "\n",
              "    [theme=dark] .colab-df-convert:hover {\n",
              "      background-color: #434B5C;\n",
              "      box-shadow: 0px 1px 3px 1px rgba(0, 0, 0, 0.15);\n",
              "      filter: drop-shadow(0px 1px 2px rgba(0, 0, 0, 0.3));\n",
              "      fill: #FFFFFF;\n",
              "    }\n",
              "  </style>\n",
              "\n",
              "    <script>\n",
              "      const buttonEl =\n",
              "        document.querySelector('#df-d319b42b-1d5b-4246-a384-49b173d9a628 button.colab-df-convert');\n",
              "      buttonEl.style.display =\n",
              "        google.colab.kernel.accessAllowed ? 'block' : 'none';\n",
              "\n",
              "      async function convertToInteractive(key) {\n",
              "        const element = document.querySelector('#df-d319b42b-1d5b-4246-a384-49b173d9a628');\n",
              "        const dataTable =\n",
              "          await google.colab.kernel.invokeFunction('convertToInteractive',\n",
              "                                                    [key], {});\n",
              "        if (!dataTable) return;\n",
              "\n",
              "        const docLinkHtml = 'Like what you see? Visit the ' +\n",
              "          '<a target=\"_blank\" href=https://colab.research.google.com/notebooks/data_table.ipynb>data table notebook</a>'\n",
              "          + ' to learn more about interactive tables.';\n",
              "        element.innerHTML = '';\n",
              "        dataTable['output_type'] = 'display_data';\n",
              "        await google.colab.output.renderOutput(dataTable, element);\n",
              "        const docLink = document.createElement('div');\n",
              "        docLink.innerHTML = docLinkHtml;\n",
              "        element.appendChild(docLink);\n",
              "      }\n",
              "    </script>\n",
              "  </div>\n",
              "\n",
              "\n",
              "<div id=\"df-eb18c6d8-26ee-4dc8-8149-af71b4b7916f\">\n",
              "  <button class=\"colab-df-quickchart\" onclick=\"quickchart('df-eb18c6d8-26ee-4dc8-8149-af71b4b7916f')\"\n",
              "            title=\"Suggest charts\"\n",
              "            style=\"display:none;\">\n",
              "\n",
              "<svg xmlns=\"http://www.w3.org/2000/svg\" height=\"24px\"viewBox=\"0 0 24 24\"\n",
              "     width=\"24px\">\n",
              "    <g>\n",
              "        <path d=\"M19 3H5c-1.1 0-2 .9-2 2v14c0 1.1.9 2 2 2h14c1.1 0 2-.9 2-2V5c0-1.1-.9-2-2-2zM9 17H7v-7h2v7zm4 0h-2V7h2v10zm4 0h-2v-4h2v4z\"/>\n",
              "    </g>\n",
              "</svg>\n",
              "  </button>\n",
              "\n",
              "<style>\n",
              "  .colab-df-quickchart {\n",
              "      --bg-color: #E8F0FE;\n",
              "      --fill-color: #1967D2;\n",
              "      --hover-bg-color: #E2EBFA;\n",
              "      --hover-fill-color: #174EA6;\n",
              "      --disabled-fill-color: #AAA;\n",
              "      --disabled-bg-color: #DDD;\n",
              "  }\n",
              "\n",
              "  [theme=dark] .colab-df-quickchart {\n",
              "      --bg-color: #3B4455;\n",
              "      --fill-color: #D2E3FC;\n",
              "      --hover-bg-color: #434B5C;\n",
              "      --hover-fill-color: #FFFFFF;\n",
              "      --disabled-bg-color: #3B4455;\n",
              "      --disabled-fill-color: #666;\n",
              "  }\n",
              "\n",
              "  .colab-df-quickchart {\n",
              "    background-color: var(--bg-color);\n",
              "    border: none;\n",
              "    border-radius: 50%;\n",
              "    cursor: pointer;\n",
              "    display: none;\n",
              "    fill: var(--fill-color);\n",
              "    height: 32px;\n",
              "    padding: 0;\n",
              "    width: 32px;\n",
              "  }\n",
              "\n",
              "  .colab-df-quickchart:hover {\n",
              "    background-color: var(--hover-bg-color);\n",
              "    box-shadow: 0 1px 2px rgba(60, 64, 67, 0.3), 0 1px 3px 1px rgba(60, 64, 67, 0.15);\n",
              "    fill: var(--button-hover-fill-color);\n",
              "  }\n",
              "\n",
              "  .colab-df-quickchart-complete:disabled,\n",
              "  .colab-df-quickchart-complete:disabled:hover {\n",
              "    background-color: var(--disabled-bg-color);\n",
              "    fill: var(--disabled-fill-color);\n",
              "    box-shadow: none;\n",
              "  }\n",
              "\n",
              "  .colab-df-spinner {\n",
              "    border: 2px solid var(--fill-color);\n",
              "    border-color: transparent;\n",
              "    border-bottom-color: var(--fill-color);\n",
              "    animation:\n",
              "      spin 1s steps(1) infinite;\n",
              "  }\n",
              "\n",
              "  @keyframes spin {\n",
              "    0% {\n",
              "      border-color: transparent;\n",
              "      border-bottom-color: var(--fill-color);\n",
              "      border-left-color: var(--fill-color);\n",
              "    }\n",
              "    20% {\n",
              "      border-color: transparent;\n",
              "      border-left-color: var(--fill-color);\n",
              "      border-top-color: var(--fill-color);\n",
              "    }\n",
              "    30% {\n",
              "      border-color: transparent;\n",
              "      border-left-color: var(--fill-color);\n",
              "      border-top-color: var(--fill-color);\n",
              "      border-right-color: var(--fill-color);\n",
              "    }\n",
              "    40% {\n",
              "      border-color: transparent;\n",
              "      border-right-color: var(--fill-color);\n",
              "      border-top-color: var(--fill-color);\n",
              "    }\n",
              "    60% {\n",
              "      border-color: transparent;\n",
              "      border-right-color: var(--fill-color);\n",
              "    }\n",
              "    80% {\n",
              "      border-color: transparent;\n",
              "      border-right-color: var(--fill-color);\n",
              "      border-bottom-color: var(--fill-color);\n",
              "    }\n",
              "    90% {\n",
              "      border-color: transparent;\n",
              "      border-bottom-color: var(--fill-color);\n",
              "    }\n",
              "  }\n",
              "</style>\n",
              "\n",
              "  <script>\n",
              "    async function quickchart(key) {\n",
              "      const quickchartButtonEl =\n",
              "        document.querySelector('#' + key + ' button');\n",
              "      quickchartButtonEl.disabled = true;  // To prevent multiple clicks.\n",
              "      quickchartButtonEl.classList.add('colab-df-spinner');\n",
              "      try {\n",
              "        const charts = await google.colab.kernel.invokeFunction(\n",
              "            'suggestCharts', [key], {});\n",
              "      } catch (error) {\n",
              "        console.error('Error during call to suggestCharts:', error);\n",
              "      }\n",
              "      quickchartButtonEl.classList.remove('colab-df-spinner');\n",
              "      quickchartButtonEl.classList.add('colab-df-quickchart-complete');\n",
              "    }\n",
              "    (() => {\n",
              "      let quickchartButtonEl =\n",
              "        document.querySelector('#df-eb18c6d8-26ee-4dc8-8149-af71b4b7916f button');\n",
              "      quickchartButtonEl.style.display =\n",
              "        google.colab.kernel.accessAllowed ? 'block' : 'none';\n",
              "    })();\n",
              "  </script>\n",
              "</div>\n",
              "\n",
              "    </div>\n",
              "  </div>\n"
            ],
            "application/vnd.google.colaboratory.intrinsic+json": {
              "type": "dataframe",
              "variable_name": "df",
              "summary": "{\n  \"name\": \"df\",\n  \"rows\": 506,\n  \"fields\": [\n    {\n      \"column\": \"crim\",\n      \"properties\": {\n        \"dtype\": \"number\",\n        \"std\": 8.60154510533249,\n        \"min\": 0.00632,\n        \"max\": 88.9762,\n        \"num_unique_values\": 504,\n        \"samples\": [\n          0.09178,\n          0.05644,\n          0.10574\n        ],\n        \"semantic_type\": \"\",\n        \"description\": \"\"\n      }\n    },\n    {\n      \"column\": \"zn\",\n      \"properties\": {\n        \"dtype\": \"number\",\n        \"std\": 23.32245299451514,\n        \"min\": 0.0,\n        \"max\": 100.0,\n        \"num_unique_values\": 26,\n        \"samples\": [\n          25.0,\n          30.0,\n          18.0\n        ],\n        \"semantic_type\": \"\",\n        \"description\": \"\"\n      }\n    },\n    {\n      \"column\": \"indus\",\n      \"properties\": {\n        \"dtype\": \"number\",\n        \"std\": 6.860352940897585,\n        \"min\": 0.46,\n        \"max\": 27.74,\n        \"num_unique_values\": 76,\n        \"samples\": [\n          8.14,\n          1.47,\n          1.22\n        ],\n        \"semantic_type\": \"\",\n        \"description\": \"\"\n      }\n    },\n    {\n      \"column\": \"chas\",\n      \"properties\": {\n        \"dtype\": \"number\",\n        \"std\": 0,\n        \"min\": 0,\n        \"max\": 1,\n        \"num_unique_values\": 2,\n        \"samples\": [\n          1,\n          0\n        ],\n        \"semantic_type\": \"\",\n        \"description\": \"\"\n      }\n    },\n    {\n      \"column\": \"nox\",\n      \"properties\": {\n        \"dtype\": \"number\",\n        \"std\": 0.11587767566755595,\n        \"min\": 0.385,\n        \"max\": 0.871,\n        \"num_unique_values\": 81,\n        \"samples\": [\n          0.401,\n          0.538\n        ],\n        \"semantic_type\": \"\",\n        \"description\": \"\"\n      }\n    },\n    {\n      \"column\": \"rm\",\n      \"properties\": {\n        \"dtype\": \"number\",\n        \"std\": 0.7026171434153233,\n        \"min\": 3.561,\n        \"max\": 8.78,\n        \"num_unique_values\": 446,\n        \"samples\": [\n          6.849,\n          4.88\n        ],\n        \"semantic_type\": \"\",\n        \"description\": \"\"\n      }\n    },\n    {\n      \"column\": \"age\",\n      \"properties\": {\n        \"dtype\": \"number\",\n        \"std\": 28.148861406903617,\n        \"min\": 2.9,\n        \"max\": 100.0,\n        \"num_unique_values\": 356,\n        \"samples\": [\n          51.8,\n          33.8\n        ],\n        \"semantic_type\": \"\",\n        \"description\": \"\"\n      }\n    },\n    {\n      \"column\": \"dis\",\n      \"properties\": {\n        \"dtype\": \"number\",\n        \"std\": 2.105710126627611,\n        \"min\": 1.1296,\n        \"max\": 12.1265,\n        \"num_unique_values\": 412,\n        \"samples\": [\n          2.2955,\n          4.2515\n        ],\n        \"semantic_type\": \"\",\n        \"description\": \"\"\n      }\n    },\n    {\n      \"column\": \"rad\",\n      \"properties\": {\n        \"dtype\": \"number\",\n        \"std\": 8,\n        \"min\": 1,\n        \"max\": 24,\n        \"num_unique_values\": 9,\n        \"samples\": [\n          7,\n          2\n        ],\n        \"semantic_type\": \"\",\n        \"description\": \"\"\n      }\n    },\n    {\n      \"column\": \"tax\",\n      \"properties\": {\n        \"dtype\": \"number\",\n        \"std\": 168,\n        \"min\": 187,\n        \"max\": 711,\n        \"num_unique_values\": 66,\n        \"samples\": [\n          370,\n          666\n        ],\n        \"semantic_type\": \"\",\n        \"description\": \"\"\n      }\n    },\n    {\n      \"column\": \"ptratio\",\n      \"properties\": {\n        \"dtype\": \"number\",\n        \"std\": 2.1649455237144406,\n        \"min\": 12.6,\n        \"max\": 22.0,\n        \"num_unique_values\": 46,\n        \"samples\": [\n          19.6,\n          15.6\n        ],\n        \"semantic_type\": \"\",\n        \"description\": \"\"\n      }\n    },\n    {\n      \"column\": \"b\",\n      \"properties\": {\n        \"dtype\": \"number\",\n        \"std\": 91.29486438415783,\n        \"min\": 0.32,\n        \"max\": 396.9,\n        \"num_unique_values\": 357,\n        \"samples\": [\n          396.24,\n          395.11\n        ],\n        \"semantic_type\": \"\",\n        \"description\": \"\"\n      }\n    },\n    {\n      \"column\": \"lstat\",\n      \"properties\": {\n        \"dtype\": \"number\",\n        \"std\": 7.141061511348571,\n        \"min\": 1.73,\n        \"max\": 37.97,\n        \"num_unique_values\": 455,\n        \"samples\": [\n          6.15,\n          4.32\n        ],\n        \"semantic_type\": \"\",\n        \"description\": \"\"\n      }\n    },\n    {\n      \"column\": \"medv\",\n      \"properties\": {\n        \"dtype\": \"number\",\n        \"std\": 9.197104087379818,\n        \"min\": 5.0,\n        \"max\": 50.0,\n        \"num_unique_values\": 229,\n        \"samples\": [\n          14.1,\n          22.5\n        ],\n        \"semantic_type\": \"\",\n        \"description\": \"\"\n      }\n    }\n  ]\n}"
            }
          },
          "metadata": {},
          "execution_count": 29
        }
      ]
    },
    {
      "cell_type": "markdown",
      "source": [
        "**Dicionário dos dados**\n",
        "\n",
        "- CRIM: Taxa de criminalidade per capita por cidade.\n",
        "\n",
        "- ZN: Proporção de terrenos residenciais zoneados para lotes com mais de 25.000 pés quadrados.\n",
        "\n",
        "- INDUS: Proporção de acres de negócios não comerciais por cidade.\n",
        "\n",
        "- CHAS: Variável fictícia de Charles River (1 se o trecho limita o rio; 0 caso contrário).\n",
        "\n",
        "- NOX: Concentração de óxidos nítricos (partes por 10 milhões).\n",
        "\n",
        "- RM: Número médio de quartos por habitação.\n",
        "\n",
        "- AGE: Proporção de unidades ocupadas pelo proprietário construídas antes de 1940.\n",
        "\n",
        "- DIS: Distâncias ponderadas para cinco centros de emprego em Boston.\n",
        "\n",
        "- RAD: Índice de acessibilidade às rodovias radiais.\n",
        "\n",
        "- TAX: Taxa de imposto sobre a propriedade de valor total por US$ 10.000.\n",
        "\n",
        "- PTRATIO: Proporção de alunos por professor na cidade.\n",
        "\n",
        "- B: 1000(Bk - 0,63)^2, onde Bk é a proporção de pessoas de descendência afro-americana por cidade.\n",
        "\n",
        "- LSTAT: Percentual da população de status baixo.\n",
        "\n",
        "- MEDV: Valor mediano das casas ocupadas pelos proprietários em US$ 1000."
      ],
      "metadata": {
        "id": "XAVM7IpNIqH_"
      }
    },
    {
      "cell_type": "markdown",
      "source": [
        "Nosso processo de carregamento foi um sucesso, então vamos partir para a próxima parte."
      ],
      "metadata": {
        "id": "bi8EZkBwKm6n"
      }
    },
    {
      "cell_type": "markdown",
      "source": [
        "#### **Análise rápida dos dados**"
      ],
      "metadata": {
        "id": "MUtAjXL8Krpu"
      }
    },
    {
      "cell_type": "markdown",
      "source": [
        "Como realizar uma análise completa não é o nosso objetivo atual, vamos observar as correlações mais fortes com a variável preço, pois iremos utilizá-la futuramente."
      ],
      "metadata": {
        "id": "v9fks9VhKwve"
      }
    },
    {
      "cell_type": "code",
      "source": [
        "# Calculando as correlações entre medv\n",
        "correlations = df.corrwith(df['medv'])\n",
        "\n",
        "# Exibir as correlações\n",
        "print(correlations)"
      ],
      "metadata": {
        "colab": {
          "base_uri": "https://localhost:8080/"
        },
        "id": "6Mx8ANVdJoNm",
        "outputId": "a1da1eea-8869-4608-9334-ecdd621b35d9"
      },
      "execution_count": 30,
      "outputs": [
        {
          "output_type": "stream",
          "name": "stdout",
          "text": [
            "crim      -0.388305\n",
            "zn         0.360445\n",
            "indus     -0.483725\n",
            "chas       0.175260\n",
            "nox       -0.427321\n",
            "rm         0.695360\n",
            "age       -0.376955\n",
            "dis        0.249929\n",
            "rad       -0.381626\n",
            "tax       -0.468536\n",
            "ptratio   -0.507787\n",
            "b          0.333461\n",
            "lstat     -0.737663\n",
            "medv       1.000000\n",
            "dtype: float64\n"
          ]
        }
      ]
    },
    {
      "cell_type": "markdown",
      "source": [
        "A variável que apresentou maior correlação foi a medv. Dito isso, vamos seguir adiante."
      ],
      "metadata": {
        "id": "If37MC1_LaK2"
      }
    },
    {
      "cell_type": "code",
      "source": [
        "# Observando as dimenções do nosso df\n",
        "df.shape"
      ],
      "metadata": {
        "colab": {
          "base_uri": "https://localhost:8080/"
        },
        "id": "pP6klRYDM4qm",
        "outputId": "310af254-2b6e-4133-fa36-adbcaf092387"
      },
      "execution_count": 31,
      "outputs": [
        {
          "output_type": "execute_result",
          "data": {
            "text/plain": [
              "(506, 14)"
            ]
          },
          "metadata": {},
          "execution_count": 31
        }
      ]
    },
    {
      "cell_type": "markdown",
      "source": [
        "Temos 506 linhas e 14 colunas. Vamos seguir para a preparação de dados."
      ],
      "metadata": {
        "id": "k_gHhe4PM_Pt"
      }
    },
    {
      "cell_type": "markdown",
      "source": [
        "#### **Preparando os dados**"
      ],
      "metadata": {
        "id": "2tX8PtpELkFg"
      }
    },
    {
      "cell_type": "markdown",
      "source": [
        "Vamos observar se existe algum valor ausente nas nossas variáveis."
      ],
      "metadata": {
        "id": "janjdgayLm62"
      }
    },
    {
      "cell_type": "code",
      "source": [
        "# Observando valores ausentes\n",
        "df.isnull().sum()"
      ],
      "metadata": {
        "colab": {
          "base_uri": "https://localhost:8080/"
        },
        "id": "tjn_tJrNLmIX",
        "outputId": "636cd3e2-a285-4f31-e84c-8d2c08f04a0d"
      },
      "execution_count": 32,
      "outputs": [
        {
          "output_type": "execute_result",
          "data": {
            "text/plain": [
              "crim       0\n",
              "zn         0\n",
              "indus      0\n",
              "chas       0\n",
              "nox        0\n",
              "rm         0\n",
              "age        0\n",
              "dis        0\n",
              "rad        0\n",
              "tax        0\n",
              "ptratio    0\n",
              "b          0\n",
              "lstat      0\n",
              "medv       0\n",
              "dtype: int64"
            ]
          },
          "metadata": {},
          "execution_count": 32
        }
      ]
    },
    {
      "cell_type": "markdown",
      "source": [
        "Como podemos observar, não existe nenhum valor ausente no nosso dataframe."
      ],
      "metadata": {
        "id": "vGyvcbTTLtlW"
      }
    },
    {
      "cell_type": "markdown",
      "source": [
        "#### **Dividindo os dados**"
      ],
      "metadata": {
        "id": "L985BU_rL41W"
      }
    },
    {
      "cell_type": "markdown",
      "source": [
        "Para a conclusão desta etapa, será necessário a importação de alguns pacotes. Dito isso, vamos seguir com as importações."
      ],
      "metadata": {
        "id": "78xZMCUPMbxm"
      }
    },
    {
      "cell_type": "code",
      "source": [
        "# Divisão dos dados\n",
        "from sklearn.model_selection import train_test_split\n",
        "\n",
        "# Regressão linear\n",
        "from sklearn.linear_model import LinearRegression\n",
        "\n",
        "# Métricas de validação do modelo\n",
        "from sklearn.metrics import r2_score, mean_squared_error"
      ],
      "metadata": {
        "id": "lwmlqBp6Mf4l"
      },
      "execution_count": 33,
      "outputs": []
    },
    {
      "cell_type": "markdown",
      "source": [
        "Agora vamos realizar a divisão dos nossos dados entre variáveis dependentes e independentes. Como vimos anteriormente, a variável dependente é o valor que queremos prever, e a variável independente são os dados que serão utilizados para prever a variável dependente."
      ],
      "metadata": {
        "id": "VAg_O3bCL9DX"
      }
    },
    {
      "cell_type": "code",
      "source": [
        "# Variável independente\n",
        "X = df[['lstat']]\n",
        "\n",
        "# Variável dependete\n",
        "y = df['medv']\n",
        "\n",
        "# Realizando a separação entre os dados que serão utilizados para treino e teste\n",
        "X_train, X_test, y_train, y_test = train_test_split(X, y, test_size=0.3)"
      ],
      "metadata": {
        "id": "inyWm0bjMKUm"
      },
      "execution_count": 34,
      "outputs": []
    },
    {
      "cell_type": "markdown",
      "source": [
        "Com os dados devidamente separados, podemos seguir adiante."
      ],
      "metadata": {
        "id": "Jz7S0c8xSEas"
      }
    },
    {
      "cell_type": "markdown",
      "source": [
        "#### **Treinamento e avaliação do modelo**"
      ],
      "metadata": {
        "id": "XVWM7Y_FOs2V"
      }
    },
    {
      "cell_type": "markdown",
      "source": [
        "Aqui vamos treinar o nosso modelo nos dados que desejamos e avaliar a performance do mesmo com as métricas que vimos acima."
      ],
      "metadata": {
        "id": "og8r67-MOydk"
      }
    },
    {
      "cell_type": "code",
      "source": [
        "# Instanciando o modelo\n",
        "modelo = LinearRegression()\n",
        "\n",
        "# Treinando o modelo\n",
        "modelo.fit(X_train, y_train)"
      ],
      "metadata": {
        "colab": {
          "base_uri": "https://localhost:8080/",
          "height": 75
        },
        "id": "vPYvMom1OvjL",
        "outputId": "37b6d13d-e1d6-4a51-c6a1-a436da6e112d"
      },
      "execution_count": 35,
      "outputs": [
        {
          "output_type": "execute_result",
          "data": {
            "text/plain": [
              "LinearRegression()"
            ],
            "text/html": [
              "<style>#sk-container-id-4 {color: black;background-color: white;}#sk-container-id-4 pre{padding: 0;}#sk-container-id-4 div.sk-toggleable {background-color: white;}#sk-container-id-4 label.sk-toggleable__label {cursor: pointer;display: block;width: 100%;margin-bottom: 0;padding: 0.3em;box-sizing: border-box;text-align: center;}#sk-container-id-4 label.sk-toggleable__label-arrow:before {content: \"▸\";float: left;margin-right: 0.25em;color: #696969;}#sk-container-id-4 label.sk-toggleable__label-arrow:hover:before {color: black;}#sk-container-id-4 div.sk-estimator:hover label.sk-toggleable__label-arrow:before {color: black;}#sk-container-id-4 div.sk-toggleable__content {max-height: 0;max-width: 0;overflow: hidden;text-align: left;background-color: #f0f8ff;}#sk-container-id-4 div.sk-toggleable__content pre {margin: 0.2em;color: black;border-radius: 0.25em;background-color: #f0f8ff;}#sk-container-id-4 input.sk-toggleable__control:checked~div.sk-toggleable__content {max-height: 200px;max-width: 100%;overflow: auto;}#sk-container-id-4 input.sk-toggleable__control:checked~label.sk-toggleable__label-arrow:before {content: \"▾\";}#sk-container-id-4 div.sk-estimator input.sk-toggleable__control:checked~label.sk-toggleable__label {background-color: #d4ebff;}#sk-container-id-4 div.sk-label input.sk-toggleable__control:checked~label.sk-toggleable__label {background-color: #d4ebff;}#sk-container-id-4 input.sk-hidden--visually {border: 0;clip: rect(1px 1px 1px 1px);clip: rect(1px, 1px, 1px, 1px);height: 1px;margin: -1px;overflow: hidden;padding: 0;position: absolute;width: 1px;}#sk-container-id-4 div.sk-estimator {font-family: monospace;background-color: #f0f8ff;border: 1px dotted black;border-radius: 0.25em;box-sizing: border-box;margin-bottom: 0.5em;}#sk-container-id-4 div.sk-estimator:hover {background-color: #d4ebff;}#sk-container-id-4 div.sk-parallel-item::after {content: \"\";width: 100%;border-bottom: 1px solid gray;flex-grow: 1;}#sk-container-id-4 div.sk-label:hover label.sk-toggleable__label {background-color: #d4ebff;}#sk-container-id-4 div.sk-serial::before {content: \"\";position: absolute;border-left: 1px solid gray;box-sizing: border-box;top: 0;bottom: 0;left: 50%;z-index: 0;}#sk-container-id-4 div.sk-serial {display: flex;flex-direction: column;align-items: center;background-color: white;padding-right: 0.2em;padding-left: 0.2em;position: relative;}#sk-container-id-4 div.sk-item {position: relative;z-index: 1;}#sk-container-id-4 div.sk-parallel {display: flex;align-items: stretch;justify-content: center;background-color: white;position: relative;}#sk-container-id-4 div.sk-item::before, #sk-container-id-4 div.sk-parallel-item::before {content: \"\";position: absolute;border-left: 1px solid gray;box-sizing: border-box;top: 0;bottom: 0;left: 50%;z-index: -1;}#sk-container-id-4 div.sk-parallel-item {display: flex;flex-direction: column;z-index: 1;position: relative;background-color: white;}#sk-container-id-4 div.sk-parallel-item:first-child::after {align-self: flex-end;width: 50%;}#sk-container-id-4 div.sk-parallel-item:last-child::after {align-self: flex-start;width: 50%;}#sk-container-id-4 div.sk-parallel-item:only-child::after {width: 0;}#sk-container-id-4 div.sk-dashed-wrapped {border: 1px dashed gray;margin: 0 0.4em 0.5em 0.4em;box-sizing: border-box;padding-bottom: 0.4em;background-color: white;}#sk-container-id-4 div.sk-label label {font-family: monospace;font-weight: bold;display: inline-block;line-height: 1.2em;}#sk-container-id-4 div.sk-label-container {text-align: center;}#sk-container-id-4 div.sk-container {/* jupyter's `normalize.less` sets `[hidden] { display: none; }` but bootstrap.min.css set `[hidden] { display: none !important; }` so we also need the `!important` here to be able to override the default hidden behavior on the sphinx rendered scikit-learn.org. See: https://github.com/scikit-learn/scikit-learn/issues/21755 */display: inline-block !important;position: relative;}#sk-container-id-4 div.sk-text-repr-fallback {display: none;}</style><div id=\"sk-container-id-4\" class=\"sk-top-container\"><div class=\"sk-text-repr-fallback\"><pre>LinearRegression()</pre><b>In a Jupyter environment, please rerun this cell to show the HTML representation or trust the notebook. <br />On GitHub, the HTML representation is unable to render, please try loading this page with nbviewer.org.</b></div><div class=\"sk-container\" hidden><div class=\"sk-item\"><div class=\"sk-estimator sk-toggleable\"><input class=\"sk-toggleable__control sk-hidden--visually\" id=\"sk-estimator-id-4\" type=\"checkbox\" checked><label for=\"sk-estimator-id-4\" class=\"sk-toggleable__label sk-toggleable__label-arrow\">LinearRegression</label><div class=\"sk-toggleable__content\"><pre>LinearRegression()</pre></div></div></div></div></div>"
            ]
          },
          "metadata": {},
          "execution_count": 35
        }
      ]
    },
    {
      "cell_type": "markdown",
      "source": [
        "Com o nosso modelo treinado, vamos observar as métricas."
      ],
      "metadata": {
        "id": "jU85kZ51O8LV"
      }
    },
    {
      "cell_type": "code",
      "source": [
        "# Realizando as predições\n",
        "y_pred = modelo.predict(X_test)\n",
        "\n",
        "# Calculando o R^2 (R-quadrado)\n",
        "r2 = r2_score(y_test, y_pred)\n",
        "\n",
        "# Calculando o MSE (mean squared error ou erro médio quadratico)\n",
        "mse = mean_squared_error(y_test, y_pred)\n",
        "\n",
        "print(\"R-quadrado:\", r2)\n",
        "print(\"Erro quadrático médio:\", mse)"
      ],
      "metadata": {
        "colab": {
          "base_uri": "https://localhost:8080/"
        },
        "id": "zW7boh1MPARt",
        "outputId": "2d786aec-f26f-41cd-ed8a-1c08f29e3da3"
      },
      "execution_count": 36,
      "outputs": [
        {
          "output_type": "stream",
          "name": "stdout",
          "text": [
            "R-quadrado: 0.5059392225769275\n",
            "Erro quadrático médio: 44.9896189698615\n"
          ]
        }
      ]
    },
    {
      "cell_type": "markdown",
      "source": [
        "Obtivemos um R-quadrado de 0,505. Isso indica que a variável independente que selecionamos consegue explicar cerca de 50,5% dos dados da variável dependente.\n",
        "\n",
        "O Erro Quadrático Médio representa a média dos quadrados dos erros entre os valores previstos pelo modelo e os valores reais observados nos dados. Logo, podemos concluir que os valores previstos pelo modelo estão, em média, a 44.98 unidades ao quadrado de distância dos valores reais observados nos dados. Quanto mais próximo de zero o MSE, melhor será o ajuste do modelo aos dados."
      ],
      "metadata": {
        "id": "5iKDN5QqQnRd"
      }
    },
    {
      "cell_type": "code",
      "source": [
        "# Calculando as diferenças\n",
        "diferencas = y_test - y_pred\n",
        "\n",
        "# Elevando as diferenças ao quadrado\n",
        "diferencas_quadradas = diferencas**2\n",
        "\n",
        "# Somando os quadrados das diferenças para obter o SSE\n",
        "SSE = np.sum(diferencas_quadradas)\n",
        "\n",
        "print(\"SSE:\", SSE)"
      ],
      "metadata": {
        "colab": {
          "base_uri": "https://localhost:8080/"
        },
        "id": "_49rILxZQPsE",
        "outputId": "77ec85ec-fe7d-4727-a6be-c4760630f62a"
      },
      "execution_count": 37,
      "outputs": [
        {
          "output_type": "stream",
          "name": "stdout",
          "text": [
            "SSE: 6838.422083418948\n"
          ]
        }
      ]
    },
    {
      "cell_type": "markdown",
      "source": [
        "Obtivemos um SSE de 6838.42. Isso significa que a soma total dos quadrados dos erros entre os valores previstos pelo modelo e os valores reais observados nos dados é de aproximadamente 6838.42 unidades ao quadrado."
      ],
      "metadata": {
        "id": "Dhg4OQOjRvJk"
      }
    },
    {
      "cell_type": "markdown",
      "source": [
        "#### **Visualização**"
      ],
      "metadata": {
        "id": "ZQ_fQ1XbJGx7"
      }
    },
    {
      "cell_type": "markdown",
      "source": [
        "Vamos observar a linha que foi traçada pelo nosso modelo."
      ],
      "metadata": {
        "id": "rJesTLvxJNjy"
      }
    },
    {
      "cell_type": "code",
      "source": [
        "# Visualização de dados\n",
        "import matplotlib.pyplot as plt\n",
        "\n",
        "# Scatter plot (gráfico de dispersão) dos dados de teste\n",
        "plt.scatter(X_test, y_test, color='blue')  # Plota os pontos de dados de teste com cor azul\n",
        "\n",
        "# Plot da linha de regressão (predições) sobre os dados de teste\n",
        "plt.plot(X_test, y_pred, color='red', linewidth=2)  # Plota a linha de regressão (predições) com cor vermelha e largura de linha de 2\n",
        "\n",
        "# Configuração dos rótulos dos eixos X e Y\n",
        "plt.xlabel('X')  # Define o rótulo do eixo X como 'X'\n",
        "plt.ylabel('Y')  # Define o rótulo do eixo Y como 'Y'\n",
        "\n",
        "# Configurando o título do gráfico\n",
        "plt.title('Regressão Linear Simples')\n",
        "\n",
        "# Exibindo o gráfico\n",
        "plt.show()"
      ],
      "metadata": {
        "colab": {
          "base_uri": "https://localhost:8080/",
          "height": 472
        },
        "id": "e97QFZA-GzY0",
        "outputId": "673f5a8c-0a9a-4f6d-d676-0d435860f54c"
      },
      "execution_count": 38,
      "outputs": [
        {
          "output_type": "display_data",
          "data": {
            "text/plain": [
              "<Figure size 640x480 with 1 Axes>"
            ],
            "image/png": "[encoded data removed]"
          },
          "metadata": {}
        }
      ]
    },
    {
      "cell_type": "markdown",
      "source": [
        "### **Regressão Linear Múltipla**"
      ],
      "metadata": {
        "id": "ymWwzZXKKIga"
      }
    },
    {
      "cell_type": "code",
      "source": [
        "# Em breve!!!"
      ],
      "metadata": {
        "id": "sZcinebnKa-S"
      },
      "execution_count": null,
      "outputs": []
    }
  ]
}