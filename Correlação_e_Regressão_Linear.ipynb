{
  "nbformat": 4,
  "nbformat_minor": 0,
  "metadata": {
    "colab": {
      "provenance": [],
      "collapsed_sections": [
        "OR4LT-jORo5y",
        "YCoDvjxxUhu5",
        "z6G8PkGJeMxb",
        "Y9h4qwVkIgfm",
        "2tX8PtpELkFg",
        "L985BU_rL41W",
        "XVWM7Y_FOs2V",
        "ZQ_fQ1XbJGx7",
        "9BsCFhCoMLgS",
        "1dnijFO3M6XC",
        "G3FGEQnaJNgy",
        "9vTsVgz9suXj",
        "YLpApsw6urHa",
        "1YaA3AqpzUNR",
        "YeYFxJ_f2Fs4",
        "dAYywq9R_Ss9",
        "QSqET5-FAl1s",
        "YvgeIkZFC5uU"
      ],
      "authorship_tag": "ABX9TyNoxTrTwOdGW+BEvOncMYA5",
      "include_colab_link": true
    },
    "kernelspec": {
      "name": "python3",
      "display_name": "Python 3"
    },
    "language_info": {
      "name": "python"
    }
  },
  "cells": [
    {
      "cell_type": "markdown",
      "metadata": {
        "id": "view-in-github",
        "colab_type": "text"
      },
      "source": [
        "<a href=\"https://colab.research.google.com/github/JosenildoJunior/StatPyDataScience/blob/main/Correla%C3%A7%C3%A3o_e_Regress%C3%A3o_Linear.ipynb\" target=\"_parent\"><img src=\"https://colab.research.google.com/assets/colab-badge.svg\" alt=\"Open In Colab\"/></a>"
      ]
    },
    {
      "cell_type": "markdown",
      "source": [
        "# **Correlação**"
      ],
      "metadata": {
        "id": "OR4LT-jORo5y"
      }
    },
    {
      "cell_type": "markdown",
      "source": [
        "A correlação é uma medida estatística que descreve a relação entre duas variáveis. Ela avalia a direção e a força da associação entre essas variáveis.\n",
        "\n",
        "Os dados podem ser representados por pares ordenados (x, y), sendo x a variável independente (ou explanatória) e y a variável dependente (ou resposta)."
      ],
      "metadata": {
        "id": "UgheC17BUL7A"
      }
    },
    {
      "cell_type": "markdown",
      "source": [
        "## **Como funciona ?**"
      ],
      "metadata": {
        "id": "YCoDvjxxUhu5"
      }
    },
    {
      "cell_type": "markdown",
      "source": [
        "A correlação é calculada utilizando técnicas estatísticas, como o coeficiente de correlação de Pearson, Spearman ou Kendall. Esses coeficientes variam de -1 a 1, onde -1 indica uma correlação negativa perfeita, 0 indica nenhuma correlação e 1 indica uma correlação positiva perfeita.\n",
        "\n",
        "Força da Correlação:\n",
        "\n",
        "- 0.00 a 0.19 (ou -0.19): Correlação muito fraca.\n",
        "- 0.20 a 0.39 (ou -0.39): Correlação fraca.\n",
        "- 0.40 a 0.59 (ou -0.59): Correlação moderada.\n",
        "- 0.60 a 0.79 (ou -0.79): Correlação forte.\n",
        "- 0.80 a 1.00 (ou -1.00): Correlação muito forte."
      ],
      "metadata": {
        "id": "UB6iMhTaUj8R"
      }
    },
    {
      "cell_type": "markdown",
      "source": [
        "Vamos observar um exemplo para entendermos melhor o assunto\n",
        "\n",
        "Considere um conjunto de dados que represente as notas de dois alunos (Aluno A e Aluno B) em duas disciplinas diferentes (Matemática e Ciências). As notas são representadas em uma escala de 0 a 10.\n",
        "\n",
        "Crie um DataFrame com os seguintes dados:\n",
        "\n",
        "- Aluno A - Matemática: [8, 7, 6, 9, 8]\n",
        "- Aluno B - Matemática: [7, 6, 8, 9, 10]\n",
        "- Aluno A - Ciências: [9, 8, 7, 9, 8]\n",
        "- Aluno B - Ciências: [8, 9, 7, 8, 9]\n",
        "\n",
        "Calcule a correlação entre as notas do Aluno A e do Aluno B em ambas as disciplinas.\n",
        "\n",
        "Imprima o resultado da correlação para cada disciplina.\n",
        "\n",
        "Interprete os resultados."
      ],
      "metadata": {
        "id": "MGvm_SO1Vvxa"
      }
    },
    {
      "cell_type": "code",
      "execution_count": null,
      "metadata": {
        "colab": {
          "base_uri": "https://localhost:8080/"
        },
        "id": "sCKPxkntQksu",
        "outputId": "6a260089-14e7-4512-fd87-f7afeb69d0b5"
      },
      "outputs": [
        {
          "output_type": "stream",
          "name": "stdout",
          "text": [
            "A correlação entre as variáveis em matématica é de: 0.4160251471689218 já em ciências é de: 0.2857142857142857\n"
          ]
        }
      ],
      "source": [
        "# Manipulação de dados\n",
        "import pandas as pd\n",
        "\n",
        "# Funções estatísticas\n",
        "import scipy.stats as st\n",
        "\n",
        "# Vamos criar um DataFrame de exemplo\n",
        "dados = {\n",
        "    'Aluno_a_matematica': [8, 7, 6, 9, 8],\n",
        "    'Aluno_b_matematica': [7, 6, 8, 9, 10],\n",
        "    'Aluno_a_ciencias': [9, 8, 7, 9, 8],\n",
        "    'Aluno_b_ciencias': [8, 9, 7, 8, 9]\n",
        "}\n",
        "\n",
        "# Convertendo para um df\n",
        "df = pd.DataFrame(dados)\n",
        "\n",
        "# Calculando a correlação entre as duas variáveis\n",
        "correlacao_mat, p_valor_mat = st.pearsonr(df['Aluno_a_matematica'], df['Aluno_b_matematica'])\n",
        "\n",
        "# Calculando a correlação entre as duas variáveis\n",
        "correlacao_cien, p_valor_cien = st.pearsonr(df['Aluno_a_ciencias'], df['Aluno_b_ciencias'])\n",
        "\n",
        "# Exibindo o resultado\n",
        "print(f\"A correlação entre as variáveis em matématica é de: {correlacao_mat} já em ciências é de: {correlacao_cien}\")"
      ]
    },
    {
      "cell_type": "markdown",
      "source": [
        "Observando a correlação nas notas de matemática, percebemos uma correlação moderada positiva, indicando que, à medida que o valor de uma variável aumenta, a outra variável tende a aumentar também.\n",
        "\n",
        "A correlação das notas de ciências é fraca e positiva. Nesse caso, o mesmo se aplica: à medida que uma variável aumenta, a outra tende a aumentar."
      ],
      "metadata": {
        "id": "7GCEMmKNWPvx"
      }
    },
    {
      "cell_type": "markdown",
      "source": [
        "É interessante notar que, nesse caso, também poderíamos utilizar o método 'corr' para calcular a correlação de **Pearson**. Também seria possível utilizarmos a função 'corrcoef' para realizar o mesmo cálculo."
      ],
      "metadata": {
        "id": "ZTHhTRPddKWj"
      }
    },
    {
      "cell_type": "markdown",
      "source": [
        "Além do Pearson, também existe o **Spearman**, que é uma medida de associação entre duas variáveis ordinais ou de intervalo. Ele avalia a relação monotônica entre as variáveis, ou seja, se uma variável aumenta, a outra tende a aumentar (ou diminuir), independentemente da magnitude do aumento (ou diminuição).\n",
        "\n",
        "Por outro lado, o coeficiente de correlação de Pearson avalia especificamente a relação linear entre duas variáveis, o que implica que ele assume uma relação constante entre os aumentos das variáveis. Se a relação entre as variáveis não for linear, o Pearson pode não capturar essa relação adequadamente."
      ],
      "metadata": {
        "id": "y3vHsGUBd6Ux"
      }
    },
    {
      "cell_type": "markdown",
      "source": [
        "Vamos observar a diferença entre o Spearman e o Pearson aplicando o Spearman nesta mesma questão."
      ],
      "metadata": {
        "id": "G60AfiPffnXB"
      }
    },
    {
      "cell_type": "code",
      "source": [
        "# Importando o Spearman\n",
        "from scipy.stats import spearmanr\n",
        "\n",
        "# Calculando a correlação de Spearman\n",
        "correlacao_mat_spear, p_valor_mat_spear = spearmanr(df['Aluno_a_matematica'], df['Aluno_b_matematica'])\n",
        "\n",
        "# Calculando a correlação de Spearman\n",
        "correlacao_cien_spear, p_valor_cien_spear = spearmanr(df['Aluno_a_ciencias'], df['Aluno_b_ciencias'])\n",
        "\n",
        "# Exibindo o resultado\n",
        "print(f\"A correlação Spearman entre as variáveis em matématica é de: {correlacao_mat_spear} já em ciências é de: {correlacao_cien_spear}\")"
      ],
      "metadata": {
        "colab": {
          "base_uri": "https://localhost:8080/"
        },
        "id": "XRqOCkvlfFxZ",
        "outputId": "09696562-e0a2-409e-a01e-d1fa8fb02d86"
      },
      "execution_count": null,
      "outputs": [
        {
          "output_type": "stream",
          "name": "stdout",
          "text": [
            "A correlação Spearman entre as variáveis em matématica é de: 0.46169025843831935 já em ciências é de: 0.1111111111111111\n"
          ]
        }
      ]
    },
    {
      "cell_type": "markdown",
      "source": [
        "Aplicamos o Spearman nos mesmos dados e obtivemos resultados diferentes. Isso se deve porque, embora o Spearman também esteja medindo a direção e a força da correlação, ele está fazendo isso para a relação monótona, ou seja, ele avalia se, quando uma variável aumenta, a outra tende a aumentar ou diminuir consistentemente, mas não necessariamente em uma taxa constante.\n",
        "\n",
        "Logo, chegamos à conclusão de que:\n",
        "\n",
        "- Correlação de Pearson: Avalia a relação linear entre variáveis contínuas.\n",
        "- Correlação de Spearman: Avalia a relação monótona entre variáveis, sendo menos sensível a outliers e distribuições não-normais."
      ],
      "metadata": {
        "id": "1N-JoZcggQ3p"
      }
    },
    {
      "cell_type": "markdown",
      "source": [
        "### **Qual utilizar Pearson ou Spearman ?**"
      ],
      "metadata": {
        "id": "z6G8PkGJeMxb"
      }
    },
    {
      "cell_type": "markdown",
      "source": [
        "Para sabermos essa questão, primeiro precisamos entender a diferença entre elas:\n",
        "\n",
        "- A principal diferença entre a correlação de Pearson e a correlação de Spearman é que a correlação de Pearson avalia a associação linear entre duas variáveis, enquanto a correlação de Spearman avalia a associação monótona, o que a torna mais robusta em relação a outliers e a distribuições não-normais.\n",
        "\n",
        "Agora que já entendemos a diferença, fica mais fácil saber quando utilizar uma ou outra, concorda?\n",
        "\n",
        "- Você deve usar a correlação de Pearson quando suas variáveis são contínuas e seguem uma distribuição normal, e você está interessado na relação linear entre elas. Por outro lado, você deve usar a correlação de Spearman quando suas variáveis são ordinais, quando a relação entre elas não é linear ou quando a distribuição dos dados é não normal."
      ],
      "metadata": {
        "id": "_bIOCAUKeQCK"
      }
    },
    {
      "cell_type": "markdown",
      "source": [
        "### **Teste de hipóteses**"
      ],
      "metadata": {
        "id": "4X0zsyG75zXt"
      }
    },
    {
      "cell_type": "markdown",
      "source": [
        "Basicamente, podemos utilizar o teste de hipóteses para determinarmos se o coeficiente de correlação amostral fornece evidências suficientes de que o coeficiente de correlação populacional é significativo. Dito isso, nossas hipóteses seguem a seguinte fórmula:\n",
        "\n",
        "- H0: ρ = 0 (Não há correlação significativa)\n",
        "- Ha: ρ ≠ 0 (Correlação significativa)\n",
        "\n",
        "Então, digamos que o p-valor seja menor que o nível de significância. Dessa forma, podemos rejeitar a hipótese nula. Portanto, podemos dizer que a correlação é estatisticamente significativa."
      ],
      "metadata": {
        "id": "LVjIOHJW6JDL"
      }
    },
    {
      "cell_type": "markdown",
      "source": [
        "Nesse caso, vou aplicar o teste nas correlações de Spearman. Vamos utilizar um nível de significância de 0,05."
      ],
      "metadata": {
        "id": "TNrgQdYb7zO7"
      }
    },
    {
      "cell_type": "code",
      "source": [
        "# Observando os p-valores\n",
        "print(f\"p-valor das notas em matemática: {p_valor_mat_spear}\\np-valor das notas em ciências: {p_valor_cien_spear}\")"
      ],
      "metadata": {
        "colab": {
          "base_uri": "https://localhost:8080/"
        },
        "id": "QLR4NE3y7z7K",
        "outputId": "6fab0b32-449c-4dc3-c17c-206ac49ff6d2"
      },
      "execution_count": null,
      "outputs": [
        {
          "output_type": "stream",
          "name": "stdout",
          "text": [
            "p-valor das notas em matemática: 0.43376615616902786\n",
            "p-valor das notas em ciências: 0.8588205736427662\n"
          ]
        }
      ]
    },
    {
      "cell_type": "markdown",
      "source": [
        "Em ambos os casos, o p-valor foi maior que nosso nível de significância, logo, falhamos em rejeitar a hipótese nula. Dito isso, com base em nosso teste a um nível de significância de 0,05, falhamos em rejeitar a hipótese nula. Logo, podemos concluir que não existem evidências de que as correlações sejam estatisticamente significativas em nossa população."
      ],
      "metadata": {
        "id": "M0hfwzZi9LLE"
      }
    },
    {
      "cell_type": "markdown",
      "source": [
        "# **Regressão Linear**"
      ],
      "metadata": {
        "id": "rYiXj3-WBKUq"
      }
    },
    {
      "cell_type": "markdown",
      "source": [
        "A regressão é uma técnica que nos permite quantificar e inferir a relação de uma variável dependente (que será a nossa variável resposta) com variáveis independentes (que são as nossas variáveis explicativas)."
      ],
      "metadata": {
        "id": "5YXK8chuQy9U"
      }
    },
    {
      "cell_type": "markdown",
      "source": [
        "Pontos importantes a se ter em mente:\n",
        "\n",
        "- **Variáveis dependentes**: Estas são as variáveis que estamos tentando explicar ou prever usando um modelo. Os valores dessas variáveis dependem de outras e normalmente as chamamos de 'y'.\n",
        "\n",
        "- **Variáveis independentes**: Estas são as variáveis que usamos para explicar ou prever as variáveis dependentes. Elas também são conhecidas como variáveis preditoras e normalmente as chamamos de 'X'.\n",
        "\n",
        "- **Coeficiente de determinação \\( R^2 \\)**: O coeficiente de determinação \\( R^2 \\) (R-quadrado) é uma métrica fundamental para avaliar o ajuste de um modelo de regressão aos dados. Se o \\( R^2 \\) de um modelo de regressão for, por exemplo, 0,328, isso significa que o modelo consegue explicar aproximadamente 32,8% da variabilidade dos dados. Em outras palavras, cerca de 32,8% da variação na variável dependente pode ser explicada pelas variáveis independentes incluídas no modelo."
      ],
      "metadata": {
        "id": "4suitOoePl99"
      }
    },
    {
      "cell_type": "markdown",
      "source": [
        "Regressão linear simples x Regressão múltipla:\n",
        "\n",
        "- **Regressão linear simples**: Envolvendo apenas uma variável independente, essa regressão visa traçar uma linha reta que se ajuste aos dados para modelar a relação da melhor forma possível entre a variável dependente e a única independente.\n",
        "\n",
        "- **Regressão linear múltipla**: Envolvendo duas ou mais variáveis independentes, essa regressão visa obter um plano que forme o melhor ajuste possível, minimizando a soma dos quadrados das diferenças entre os valores observados e os valores previstos pelo modelo linear múltiplo.\n",
        "\n",
        "Em **resumo**, a regressão linear simples analisa a relação entre duas variáveis, enquanto a regressão linear múltipla analisa a relação entre uma variável dependente e duas ou mais variáveis independentes."
      ],
      "metadata": {
        "id": "Ki9iCT3yQp2G"
      }
    },
    {
      "cell_type": "markdown",
      "source": [
        "**Mínimos Quadrados Ordinários (OLS)**\n",
        "\n",
        "O OLS é um tipo de análise de regressão. Para aplicarmos essa análise, é necessário respeitar alguns pontos importantes, tais como:\n",
        "\n",
        "- As **variáveis independentes** podem ser contínuas ou categóricas.\n",
        "\n",
        "- A **variável dependente** deve ser contínua.\n",
        "\n",
        "**Valores observados** x **Valores ajustados**\n",
        "\n",
        "- **Valores observados**: São os valores registrados durante nosso estudo ou experimento, juntamente com os valores das variáveis independentes. Esses valores são denotados usando Y.\n",
        "\n",
        "- **Valores ajustados**: São os valores que nosso modelo prevê. Valores previstos e valores ajustados são sinônimos. É comum denotarmos valores ajustados como Ŷ."
      ],
      "metadata": {
        "id": "sMMrTfkJV2iT"
      }
    },
    {
      "cell_type": "markdown",
      "source": [
        "**O que são resíduos e qual a sua importância?**\n",
        "\n",
        "Utilizamos os resíduos para avaliar o quão bem está indo nosso modelo. Precisamos analisar a diferença entre os valores observados e os valores ajustados, pois essa diferença representa o erro no modelo.\n",
        "\n",
        "Um resíduo é a distância entre o valor observado e o valor ajustado correspondente. A fórmula de cálculo dos resíduos é:\n",
        "\n",
        "- **Resíduos** = Valor observado – Valor ajustado\n",
        "\n",
        "Graficamente falando, os resíduos são as distâncias verticais entre os valores e os valores ajustados.\n",
        "\n",
        "No entanto, não podemos simplesmente somar os resíduos, pois os valores negativos e positivos se anularão. É aí que entra o **OLS**, pois essa análise elevará os **resíduos ao quadrado**. Dessa forma, poderemos somá-los sem anulá-los. Logo, um ponto de dados com um resíduo de 3 terá um erro quadrado de 9.\n",
        "\n",
        "Então o **OLS** desenha a linha que minimiza a **soma dos erros ao quadrado (SSE)**."
      ],
      "metadata": {
        "id": "w0Xra5mqXcj8"
      }
    },
    {
      "cell_type": "markdown",
      "source": [
        "**O que é a soma dos erros ao quadrado (SSE)?**\n",
        "\n",
        "Basicamente, o SSE é uma medida de variabilidade. O SSE aumenta conforme os pontos se afastam da linha ajustada. Como os cálculos usam diferenças quadradas, a variância está em unidades quadradas em vez das unidades originais dos dados. Para um dado conjunto, valores menores de SSE sinalizam que as observações estão mais próximas dos valores ajustados.\n",
        "\n",
        "\n",
        "\n",
        "\n",
        "\n",
        "\n"
      ],
      "metadata": {
        "id": "iiCRAL6zarBL"
      }
    },
    {
      "cell_type": "markdown",
      "source": [
        "## **Exemplos**"
      ],
      "metadata": {
        "id": "JWmrv-cVIOju"
      }
    },
    {
      "cell_type": "markdown",
      "source": [
        "Até aqui, já vimos bastante conceitos. Vamos observar uma parte um pouco mais prática agora. Dito isso, seguiremos as seguintes etapas:\n",
        "\n",
        "- Importação dos dados\n",
        "\n",
        "- Análise rápida dos dados (Nesse caso, queremos partir logo para a regressão, mas em situações reais seria necessário realizar uma análise mais minuciosa nos dados)\n",
        "\n",
        "- Preparar os dados (Observar os tipos de dados presentes, se existe algum valor ausente)\n",
        "\n",
        "- Dividir os dados (Dividir entre treino e teste)\n",
        "\n",
        "- Treinar o modelo (Treinar o modelo nas variáveis selecionadas)\n",
        "\n",
        "- Avaliar o modelo (Avaliar o desempenho do modelo)\n",
        "\n",
        "Nosso objetivo é realizar uma análise de regressão linear simples ou múltipla para prever os preços das casas com base em diferentes atributos."
      ],
      "metadata": {
        "id": "Fxm5NJLfHBew"
      }
    },
    {
      "cell_type": "markdown",
      "source": [
        "### **Regressão Linear Simples**"
      ],
      "metadata": {
        "id": "tb0r3iJRI47K"
      }
    },
    {
      "cell_type": "markdown",
      "source": [
        "Vamos criar um modelo de regressão simples e observar como ele se adaptará aos nossos dados."
      ],
      "metadata": {
        "id": "eQKxwO_DJ3bJ"
      }
    },
    {
      "cell_type": "markdown",
      "source": [
        "#### **Importando os dados**"
      ],
      "metadata": {
        "id": "Y9h4qwVkIgfm"
      }
    },
    {
      "cell_type": "code",
      "source": [
        "# Manipulação de dados\n",
        "import pandas as pd\n",
        "\n",
        "# Funções matématicas\n",
        "import numpy as np\n",
        "\n",
        "# URL do conjunto de dados no GitHub\n",
        "url = 'https://raw.githubusercontent.com/selva86/datasets/master/BostonHousing.csv'\n",
        "\n",
        "# Carregando o conjunto de dados\n",
        "df = pd.read_csv(url)\n",
        "\n",
        "# Exibindo as primeiras linhas\n",
        "df.head()"
      ],
      "metadata": {
        "id": "RLeztpZHBL_4",
        "colab": {
          "base_uri": "https://localhost:8080/",
          "height": 206
        },
        "outputId": "25ccf2e7-572d-414a-e4cd-1c452a18ef75"
      },
      "execution_count": null,
      "outputs": [
        {
          "output_type": "execute_result",
          "data": {
            "text/plain": [
              "      crim    zn  indus  chas    nox     rm   age     dis  rad  tax  ptratio  \\\n",
              "0  0.00632  18.0   2.31     0  0.538  6.575  65.2  4.0900    1  296     15.3   \n",
              "1  0.02731   0.0   7.07     0  0.469  6.421  78.9  4.9671    2  242     17.8   \n",
              "2  0.02729   0.0   7.07     0  0.469  7.185  61.1  4.9671    2  242     17.8   \n",
              "3  0.03237   0.0   2.18     0  0.458  6.998  45.8  6.0622    3  222     18.7   \n",
              "4  0.06905   0.0   2.18     0  0.458  7.147  54.2  6.0622    3  222     18.7   \n",
              "\n",
              "        b  lstat  medv  \n",
              "0  396.90   4.98  24.0  \n",
              "1  396.90   9.14  21.6  \n",
              "2  392.83   4.03  34.7  \n",
              "3  394.63   2.94  33.4  \n",
              "4  396.90   5.33  36.2  "
            ],
            "text/html": [
              "\n",
              "  <div id=\"df-7bf445a6-9b80-4bb2-8412-0214d8aee09b\" class=\"colab-df-container\">\n",
              "    <div>\n",
              "<style scoped>\n",
              "    .dataframe tbody tr th:only-of-type {\n",
              "        vertical-align: middle;\n",
              "    }\n",
              "\n",
              "    .dataframe tbody tr th {\n",
              "        vertical-align: top;\n",
              "    }\n",
              "\n",
              "    .dataframe thead th {\n",
              "        text-align: right;\n",
              "    }\n",
              "</style>\n",
              "<table border=\"1\" class=\"dataframe\">\n",
              "  <thead>\n",
              "    <tr style=\"text-align: right;\">\n",
              "      <th></th>\n",
              "      <th>crim</th>\n",
              "      <th>zn</th>\n",
              "      <th>indus</th>\n",
              "      <th>chas</th>\n",
              "      <th>nox</th>\n",
              "      <th>rm</th>\n",
              "      <th>age</th>\n",
              "      <th>dis</th>\n",
              "      <th>rad</th>\n",
              "      <th>tax</th>\n",
              "      <th>ptratio</th>\n",
              "      <th>b</th>\n",
              "      <th>lstat</th>\n",
              "      <th>medv</th>\n",
              "    </tr>\n",
              "  </thead>\n",
              "  <tbody>\n",
              "    <tr>\n",
              "      <th>0</th>\n",
              "      <td>0.00632</td>\n",
              "      <td>18.0</td>\n",
              "      <td>2.31</td>\n",
              "      <td>0</td>\n",
              "      <td>0.538</td>\n",
              "      <td>6.575</td>\n",
              "      <td>65.2</td>\n",
              "      <td>4.0900</td>\n",
              "      <td>1</td>\n",
              "      <td>296</td>\n",
              "      <td>15.3</td>\n",
              "      <td>396.90</td>\n",
              "      <td>4.98</td>\n",
              "      <td>24.0</td>\n",
              "    </tr>\n",
              "    <tr>\n",
              "      <th>1</th>\n",
              "      <td>0.02731</td>\n",
              "      <td>0.0</td>\n",
              "      <td>7.07</td>\n",
              "      <td>0</td>\n",
              "      <td>0.469</td>\n",
              "      <td>6.421</td>\n",
              "      <td>78.9</td>\n",
              "      <td>4.9671</td>\n",
              "      <td>2</td>\n",
              "      <td>242</td>\n",
              "      <td>17.8</td>\n",
              "      <td>396.90</td>\n",
              "      <td>9.14</td>\n",
              "      <td>21.6</td>\n",
              "    </tr>\n",
              "    <tr>\n",
              "      <th>2</th>\n",
              "      <td>0.02729</td>\n",
              "      <td>0.0</td>\n",
              "      <td>7.07</td>\n",
              "      <td>0</td>\n",
              "      <td>0.469</td>\n",
              "      <td>7.185</td>\n",
              "      <td>61.1</td>\n",
              "      <td>4.9671</td>\n",
              "      <td>2</td>\n",
              "      <td>242</td>\n",
              "      <td>17.8</td>\n",
              "      <td>392.83</td>\n",
              "      <td>4.03</td>\n",
              "      <td>34.7</td>\n",
              "    </tr>\n",
              "    <tr>\n",
              "      <th>3</th>\n",
              "      <td>0.03237</td>\n",
              "      <td>0.0</td>\n",
              "      <td>2.18</td>\n",
              "      <td>0</td>\n",
              "      <td>0.458</td>\n",
              "      <td>6.998</td>\n",
              "      <td>45.8</td>\n",
              "      <td>6.0622</td>\n",
              "      <td>3</td>\n",
              "      <td>222</td>\n",
              "      <td>18.7</td>\n",
              "      <td>394.63</td>\n",
              "      <td>2.94</td>\n",
              "      <td>33.4</td>\n",
              "    </tr>\n",
              "    <tr>\n",
              "      <th>4</th>\n",
              "      <td>0.06905</td>\n",
              "      <td>0.0</td>\n",
              "      <td>2.18</td>\n",
              "      <td>0</td>\n",
              "      <td>0.458</td>\n",
              "      <td>7.147</td>\n",
              "      <td>54.2</td>\n",
              "      <td>6.0622</td>\n",
              "      <td>3</td>\n",
              "      <td>222</td>\n",
              "      <td>18.7</td>\n",
              "      <td>396.90</td>\n",
              "      <td>5.33</td>\n",
              "      <td>36.2</td>\n",
              "    </tr>\n",
              "  </tbody>\n",
              "</table>\n",
              "</div>\n",
              "    <div class=\"colab-df-buttons\">\n",
              "\n",
              "  <div class=\"colab-df-container\">\n",
              "    <button class=\"colab-df-convert\" onclick=\"convertToInteractive('df-7bf445a6-9b80-4bb2-8412-0214d8aee09b')\"\n",
              "            title=\"Convert this dataframe to an interactive table.\"\n",
              "            style=\"display:none;\">\n",
              "\n",
              "  <svg xmlns=\"http://www.w3.org/2000/svg\" height=\"24px\" viewBox=\"0 -960 960 960\">\n",
              "    <path d=\"M120-120v-720h720v720H120Zm60-500h600v-160H180v160Zm220 220h160v-160H400v160Zm0 220h160v-160H400v160ZM180-400h160v-160H180v160Zm440 0h160v-160H620v160ZM180-180h160v-160H180v160Zm440 0h160v-160H620v160Z\"/>\n",
              "  </svg>\n",
              "    </button>\n",
              "\n",
              "  <style>\n",
              "    .colab-df-container {\n",
              "      display:flex;\n",
              "      gap: 12px;\n",
              "    }\n",
              "\n",
              "    .colab-df-convert {\n",
              "      background-color: #E8F0FE;\n",
              "      border: none;\n",
              "      border-radius: 50%;\n",
              "      cursor: pointer;\n",
              "      display: none;\n",
              "      fill: #1967D2;\n",
              "      height: 32px;\n",
              "      padding: 0 0 0 0;\n",
              "      width: 32px;\n",
              "    }\n",
              "\n",
              "    .colab-df-convert:hover {\n",
              "      background-color: #E2EBFA;\n",
              "      box-shadow: 0px 1px 2px rgba(60, 64, 67, 0.3), 0px 1px 3px 1px rgba(60, 64, 67, 0.15);\n",
              "      fill: #174EA6;\n",
              "    }\n",
              "\n",
              "    .colab-df-buttons div {\n",
              "      margin-bottom: 4px;\n",
              "    }\n",
              "\n",
              "    [theme=dark] .colab-df-convert {\n",
              "      background-color: #3B4455;\n",
              "      fill: #D2E3FC;\n",
              "    }\n",
              "\n",
              "    [theme=dark] .colab-df-convert:hover {\n",
              "      background-color: #434B5C;\n",
              "      box-shadow: 0px 1px 3px 1px rgba(0, 0, 0, 0.15);\n",
              "      filter: drop-shadow(0px 1px 2px rgba(0, 0, 0, 0.3));\n",
              "      fill: #FFFFFF;\n",
              "    }\n",
              "  </style>\n",
              "\n",
              "    <script>\n",
              "      const buttonEl =\n",
              "        document.querySelector('#df-7bf445a6-9b80-4bb2-8412-0214d8aee09b button.colab-df-convert');\n",
              "      buttonEl.style.display =\n",
              "        google.colab.kernel.accessAllowed ? 'block' : 'none';\n",
              "\n",
              "      async function convertToInteractive(key) {\n",
              "        const element = document.querySelector('#df-7bf445a6-9b80-4bb2-8412-0214d8aee09b');\n",
              "        const dataTable =\n",
              "          await google.colab.kernel.invokeFunction('convertToInteractive',\n",
              "                                                    [key], {});\n",
              "        if (!dataTable) return;\n",
              "\n",
              "        const docLinkHtml = 'Like what you see? Visit the ' +\n",
              "          '<a target=\"_blank\" href=https://colab.research.google.com/notebooks/data_table.ipynb>data table notebook</a>'\n",
              "          + ' to learn more about interactive tables.';\n",
              "        element.innerHTML = '';\n",
              "        dataTable['output_type'] = 'display_data';\n",
              "        await google.colab.output.renderOutput(dataTable, element);\n",
              "        const docLink = document.createElement('div');\n",
              "        docLink.innerHTML = docLinkHtml;\n",
              "        element.appendChild(docLink);\n",
              "      }\n",
              "    </script>\n",
              "  </div>\n",
              "\n",
              "\n",
              "<div id=\"df-df58da8c-ad9d-46c2-b9fd-45997a9935cb\">\n",
              "  <button class=\"colab-df-quickchart\" onclick=\"quickchart('df-df58da8c-ad9d-46c2-b9fd-45997a9935cb')\"\n",
              "            title=\"Suggest charts\"\n",
              "            style=\"display:none;\">\n",
              "\n",
              "<svg xmlns=\"http://www.w3.org/2000/svg\" height=\"24px\"viewBox=\"0 0 24 24\"\n",
              "     width=\"24px\">\n",
              "    <g>\n",
              "        <path d=\"M19 3H5c-1.1 0-2 .9-2 2v14c0 1.1.9 2 2 2h14c1.1 0 2-.9 2-2V5c0-1.1-.9-2-2-2zM9 17H7v-7h2v7zm4 0h-2V7h2v10zm4 0h-2v-4h2v4z\"/>\n",
              "    </g>\n",
              "</svg>\n",
              "  </button>\n",
              "\n",
              "<style>\n",
              "  .colab-df-quickchart {\n",
              "      --bg-color: #E8F0FE;\n",
              "      --fill-color: #1967D2;\n",
              "      --hover-bg-color: #E2EBFA;\n",
              "      --hover-fill-color: #174EA6;\n",
              "      --disabled-fill-color: #AAA;\n",
              "      --disabled-bg-color: #DDD;\n",
              "  }\n",
              "\n",
              "  [theme=dark] .colab-df-quickchart {\n",
              "      --bg-color: #3B4455;\n",
              "      --fill-color: #D2E3FC;\n",
              "      --hover-bg-color: #434B5C;\n",
              "      --hover-fill-color: #FFFFFF;\n",
              "      --disabled-bg-color: #3B4455;\n",
              "      --disabled-fill-color: #666;\n",
              "  }\n",
              "\n",
              "  .colab-df-quickchart {\n",
              "    background-color: var(--bg-color);\n",
              "    border: none;\n",
              "    border-radius: 50%;\n",
              "    cursor: pointer;\n",
              "    display: none;\n",
              "    fill: var(--fill-color);\n",
              "    height: 32px;\n",
              "    padding: 0;\n",
              "    width: 32px;\n",
              "  }\n",
              "\n",
              "  .colab-df-quickchart:hover {\n",
              "    background-color: var(--hover-bg-color);\n",
              "    box-shadow: 0 1px 2px rgba(60, 64, 67, 0.3), 0 1px 3px 1px rgba(60, 64, 67, 0.15);\n",
              "    fill: var(--button-hover-fill-color);\n",
              "  }\n",
              "\n",
              "  .colab-df-quickchart-complete:disabled,\n",
              "  .colab-df-quickchart-complete:disabled:hover {\n",
              "    background-color: var(--disabled-bg-color);\n",
              "    fill: var(--disabled-fill-color);\n",
              "    box-shadow: none;\n",
              "  }\n",
              "\n",
              "  .colab-df-spinner {\n",
              "    border: 2px solid var(--fill-color);\n",
              "    border-color: transparent;\n",
              "    border-bottom-color: var(--fill-color);\n",
              "    animation:\n",
              "      spin 1s steps(1) infinite;\n",
              "  }\n",
              "\n",
              "  @keyframes spin {\n",
              "    0% {\n",
              "      border-color: transparent;\n",
              "      border-bottom-color: var(--fill-color);\n",
              "      border-left-color: var(--fill-color);\n",
              "    }\n",
              "    20% {\n",
              "      border-color: transparent;\n",
              "      border-left-color: var(--fill-color);\n",
              "      border-top-color: var(--fill-color);\n",
              "    }\n",
              "    30% {\n",
              "      border-color: transparent;\n",
              "      border-left-color: var(--fill-color);\n",
              "      border-top-color: var(--fill-color);\n",
              "      border-right-color: var(--fill-color);\n",
              "    }\n",
              "    40% {\n",
              "      border-color: transparent;\n",
              "      border-right-color: var(--fill-color);\n",
              "      border-top-color: var(--fill-color);\n",
              "    }\n",
              "    60% {\n",
              "      border-color: transparent;\n",
              "      border-right-color: var(--fill-color);\n",
              "    }\n",
              "    80% {\n",
              "      border-color: transparent;\n",
              "      border-right-color: var(--fill-color);\n",
              "      border-bottom-color: var(--fill-color);\n",
              "    }\n",
              "    90% {\n",
              "      border-color: transparent;\n",
              "      border-bottom-color: var(--fill-color);\n",
              "    }\n",
              "  }\n",
              "</style>\n",
              "\n",
              "  <script>\n",
              "    async function quickchart(key) {\n",
              "      const quickchartButtonEl =\n",
              "        document.querySelector('#' + key + ' button');\n",
              "      quickchartButtonEl.disabled = true;  // To prevent multiple clicks.\n",
              "      quickchartButtonEl.classList.add('colab-df-spinner');\n",
              "      try {\n",
              "        const charts = await google.colab.kernel.invokeFunction(\n",
              "            'suggestCharts', [key], {});\n",
              "      } catch (error) {\n",
              "        console.error('Error during call to suggestCharts:', error);\n",
              "      }\n",
              "      quickchartButtonEl.classList.remove('colab-df-spinner');\n",
              "      quickchartButtonEl.classList.add('colab-df-quickchart-complete');\n",
              "    }\n",
              "    (() => {\n",
              "      let quickchartButtonEl =\n",
              "        document.querySelector('#df-df58da8c-ad9d-46c2-b9fd-45997a9935cb button');\n",
              "      quickchartButtonEl.style.display =\n",
              "        google.colab.kernel.accessAllowed ? 'block' : 'none';\n",
              "    })();\n",
              "  </script>\n",
              "</div>\n",
              "\n",
              "    </div>\n",
              "  </div>\n"
            ],
            "application/vnd.google.colaboratory.intrinsic+json": {
              "type": "dataframe",
              "variable_name": "df",
              "summary": "{\n  \"name\": \"df\",\n  \"rows\": 506,\n  \"fields\": [\n    {\n      \"column\": \"crim\",\n      \"properties\": {\n        \"dtype\": \"number\",\n        \"std\": 8.60154510533249,\n        \"min\": 0.00632,\n        \"max\": 88.9762,\n        \"num_unique_values\": 504,\n        \"samples\": [\n          0.09178,\n          0.05644,\n          0.10574\n        ],\n        \"semantic_type\": \"\",\n        \"description\": \"\"\n      }\n    },\n    {\n      \"column\": \"zn\",\n      \"properties\": {\n        \"dtype\": \"number\",\n        \"std\": 23.32245299451514,\n        \"min\": 0.0,\n        \"max\": 100.0,\n        \"num_unique_values\": 26,\n        \"samples\": [\n          25.0,\n          30.0,\n          18.0\n        ],\n        \"semantic_type\": \"\",\n        \"description\": \"\"\n      }\n    },\n    {\n      \"column\": \"indus\",\n      \"properties\": {\n        \"dtype\": \"number\",\n        \"std\": 6.860352940897585,\n        \"min\": 0.46,\n        \"max\": 27.74,\n        \"num_unique_values\": 76,\n        \"samples\": [\n          8.14,\n          1.47,\n          1.22\n        ],\n        \"semantic_type\": \"\",\n        \"description\": \"\"\n      }\n    },\n    {\n      \"column\": \"chas\",\n      \"properties\": {\n        \"dtype\": \"number\",\n        \"std\": 0,\n        \"min\": 0,\n        \"max\": 1,\n        \"num_unique_values\": 2,\n        \"samples\": [\n          1,\n          0\n        ],\n        \"semantic_type\": \"\",\n        \"description\": \"\"\n      }\n    },\n    {\n      \"column\": \"nox\",\n      \"properties\": {\n        \"dtype\": \"number\",\n        \"std\": 0.11587767566755595,\n        \"min\": 0.385,\n        \"max\": 0.871,\n        \"num_unique_values\": 81,\n        \"samples\": [\n          0.401,\n          0.538\n        ],\n        \"semantic_type\": \"\",\n        \"description\": \"\"\n      }\n    },\n    {\n      \"column\": \"rm\",\n      \"properties\": {\n        \"dtype\": \"number\",\n        \"std\": 0.7026171434153233,\n        \"min\": 3.561,\n        \"max\": 8.78,\n        \"num_unique_values\": 446,\n        \"samples\": [\n          6.849,\n          4.88\n        ],\n        \"semantic_type\": \"\",\n        \"description\": \"\"\n      }\n    },\n    {\n      \"column\": \"age\",\n      \"properties\": {\n        \"dtype\": \"number\",\n        \"std\": 28.148861406903617,\n        \"min\": 2.9,\n        \"max\": 100.0,\n        \"num_unique_values\": 356,\n        \"samples\": [\n          51.8,\n          33.8\n        ],\n        \"semantic_type\": \"\",\n        \"description\": \"\"\n      }\n    },\n    {\n      \"column\": \"dis\",\n      \"properties\": {\n        \"dtype\": \"number\",\n        \"std\": 2.105710126627611,\n        \"min\": 1.1296,\n        \"max\": 12.1265,\n        \"num_unique_values\": 412,\n        \"samples\": [\n          2.2955,\n          4.2515\n        ],\n        \"semantic_type\": \"\",\n        \"description\": \"\"\n      }\n    },\n    {\n      \"column\": \"rad\",\n      \"properties\": {\n        \"dtype\": \"number\",\n        \"std\": 8,\n        \"min\": 1,\n        \"max\": 24,\n        \"num_unique_values\": 9,\n        \"samples\": [\n          7,\n          2\n        ],\n        \"semantic_type\": \"\",\n        \"description\": \"\"\n      }\n    },\n    {\n      \"column\": \"tax\",\n      \"properties\": {\n        \"dtype\": \"number\",\n        \"std\": 168,\n        \"min\": 187,\n        \"max\": 711,\n        \"num_unique_values\": 66,\n        \"samples\": [\n          370,\n          666\n        ],\n        \"semantic_type\": \"\",\n        \"description\": \"\"\n      }\n    },\n    {\n      \"column\": \"ptratio\",\n      \"properties\": {\n        \"dtype\": \"number\",\n        \"std\": 2.1649455237144406,\n        \"min\": 12.6,\n        \"max\": 22.0,\n        \"num_unique_values\": 46,\n        \"samples\": [\n          19.6,\n          15.6\n        ],\n        \"semantic_type\": \"\",\n        \"description\": \"\"\n      }\n    },\n    {\n      \"column\": \"b\",\n      \"properties\": {\n        \"dtype\": \"number\",\n        \"std\": 91.29486438415783,\n        \"min\": 0.32,\n        \"max\": 396.9,\n        \"num_unique_values\": 357,\n        \"samples\": [\n          396.24,\n          395.11\n        ],\n        \"semantic_type\": \"\",\n        \"description\": \"\"\n      }\n    },\n    {\n      \"column\": \"lstat\",\n      \"properties\": {\n        \"dtype\": \"number\",\n        \"std\": 7.141061511348571,\n        \"min\": 1.73,\n        \"max\": 37.97,\n        \"num_unique_values\": 455,\n        \"samples\": [\n          6.15,\n          4.32\n        ],\n        \"semantic_type\": \"\",\n        \"description\": \"\"\n      }\n    },\n    {\n      \"column\": \"medv\",\n      \"properties\": {\n        \"dtype\": \"number\",\n        \"std\": 9.197104087379818,\n        \"min\": 5.0,\n        \"max\": 50.0,\n        \"num_unique_values\": 229,\n        \"samples\": [\n          14.1,\n          22.5\n        ],\n        \"semantic_type\": \"\",\n        \"description\": \"\"\n      }\n    }\n  ]\n}"
            }
          },
          "metadata": {},
          "execution_count": 49
        }
      ]
    },
    {
      "cell_type": "markdown",
      "source": [
        "**Dicionário dos dados**\n",
        "\n",
        "- CRIM: Taxa de criminalidade per capita por cidade.\n",
        "\n",
        "- ZN: Proporção de terrenos residenciais zoneados para lotes com mais de 25.000 pés quadrados.\n",
        "\n",
        "- INDUS: Proporção de acres de negócios não comerciais por cidade.\n",
        "\n",
        "- CHAS: Variável fictícia de Charles River (1 se o trecho limita o rio; 0 caso contrário).\n",
        "\n",
        "- NOX: Concentração de óxidos nítricos (partes por 10 milhões).\n",
        "\n",
        "- RM: Número médio de quartos por habitação.\n",
        "\n",
        "- AGE: Proporção de unidades ocupadas pelo proprietário construídas antes de 1940.\n",
        "\n",
        "- DIS: Distâncias ponderadas para cinco centros de emprego em Boston.\n",
        "\n",
        "- RAD: Índice de acessibilidade às rodovias radiais.\n",
        "\n",
        "- TAX: Taxa de imposto sobre a propriedade de valor total por US$ 10.000.\n",
        "\n",
        "- PTRATIO: Proporção de alunos por professor na cidade.\n",
        "\n",
        "- B: 1000(Bk - 0,63)^2, onde Bk é a proporção de pessoas de descendência afro-americana por cidade.\n",
        "\n",
        "- LSTAT: Percentual da população de status baixo.\n",
        "\n",
        "- MEDV: Valor mediano das casas ocupadas pelos proprietários em US$ 1000."
      ],
      "metadata": {
        "id": "XAVM7IpNIqH_"
      }
    },
    {
      "cell_type": "markdown",
      "source": [
        "Nosso processo de carregamento foi um sucesso, então vamos partir para a próxima parte."
      ],
      "metadata": {
        "id": "bi8EZkBwKm6n"
      }
    },
    {
      "cell_type": "markdown",
      "source": [
        "#### **Análise rápida dos dados**"
      ],
      "metadata": {
        "id": "MUtAjXL8Krpu"
      }
    },
    {
      "cell_type": "markdown",
      "source": [
        "Como realizar uma análise completa não é o nosso objetivo atual, vamos observar as correlações mais fortes com a variável preço, pois iremos utilizá-la futuramente."
      ],
      "metadata": {
        "id": "v9fks9VhKwve"
      }
    },
    {
      "cell_type": "code",
      "source": [
        "# Calculando as correlações entre medv\n",
        "correlations = df.corrwith(df['medv'])\n",
        "\n",
        "# Exibir as correlações\n",
        "print(correlations)"
      ],
      "metadata": {
        "colab": {
          "base_uri": "https://localhost:8080/"
        },
        "id": "6Mx8ANVdJoNm",
        "outputId": "a1da1eea-8869-4608-9334-ecdd621b35d9"
      },
      "execution_count": null,
      "outputs": [
        {
          "output_type": "stream",
          "name": "stdout",
          "text": [
            "crim      -0.388305\n",
            "zn         0.360445\n",
            "indus     -0.483725\n",
            "chas       0.175260\n",
            "nox       -0.427321\n",
            "rm         0.695360\n",
            "age       -0.376955\n",
            "dis        0.249929\n",
            "rad       -0.381626\n",
            "tax       -0.468536\n",
            "ptratio   -0.507787\n",
            "b          0.333461\n",
            "lstat     -0.737663\n",
            "medv       1.000000\n",
            "dtype: float64\n"
          ]
        }
      ]
    },
    {
      "cell_type": "markdown",
      "source": [
        "A variável que apresentou maior correlação foi a medv. Dito isso, vamos seguir adiante."
      ],
      "metadata": {
        "id": "If37MC1_LaK2"
      }
    },
    {
      "cell_type": "code",
      "source": [
        "# Observando as dimenções do nosso df\n",
        "df.shape"
      ],
      "metadata": {
        "colab": {
          "base_uri": "https://localhost:8080/"
        },
        "id": "pP6klRYDM4qm",
        "outputId": "310af254-2b6e-4133-fa36-adbcaf092387"
      },
      "execution_count": null,
      "outputs": [
        {
          "output_type": "execute_result",
          "data": {
            "text/plain": [
              "(506, 14)"
            ]
          },
          "metadata": {},
          "execution_count": 31
        }
      ]
    },
    {
      "cell_type": "markdown",
      "source": [
        "Temos 506 linhas e 14 colunas. Vamos seguir para a preparação de dados."
      ],
      "metadata": {
        "id": "k_gHhe4PM_Pt"
      }
    },
    {
      "cell_type": "markdown",
      "source": [
        "#### **Preparando os dados**"
      ],
      "metadata": {
        "id": "2tX8PtpELkFg"
      }
    },
    {
      "cell_type": "markdown",
      "source": [
        "Vamos observar se existe algum valor ausente nas nossas variáveis."
      ],
      "metadata": {
        "id": "janjdgayLm62"
      }
    },
    {
      "cell_type": "code",
      "source": [
        "# Observando valores ausentes\n",
        "df.isnull().sum()"
      ],
      "metadata": {
        "colab": {
          "base_uri": "https://localhost:8080/"
        },
        "id": "tjn_tJrNLmIX",
        "outputId": "636cd3e2-a285-4f31-e84c-8d2c08f04a0d"
      },
      "execution_count": null,
      "outputs": [
        {
          "output_type": "execute_result",
          "data": {
            "text/plain": [
              "crim       0\n",
              "zn         0\n",
              "indus      0\n",
              "chas       0\n",
              "nox        0\n",
              "rm         0\n",
              "age        0\n",
              "dis        0\n",
              "rad        0\n",
              "tax        0\n",
              "ptratio    0\n",
              "b          0\n",
              "lstat      0\n",
              "medv       0\n",
              "dtype: int64"
            ]
          },
          "metadata": {},
          "execution_count": 32
        }
      ]
    },
    {
      "cell_type": "markdown",
      "source": [
        "Como podemos observar, não existe nenhum valor ausente no nosso dataframe."
      ],
      "metadata": {
        "id": "vGyvcbTTLtlW"
      }
    },
    {
      "cell_type": "markdown",
      "source": [
        "#### **Dividindo os dados**"
      ],
      "metadata": {
        "id": "L985BU_rL41W"
      }
    },
    {
      "cell_type": "markdown",
      "source": [
        "Para a conclusão desta etapa, será necessário a importação de alguns pacotes. Dito isso, vamos seguir com as importações."
      ],
      "metadata": {
        "id": "78xZMCUPMbxm"
      }
    },
    {
      "cell_type": "code",
      "source": [
        "# Divisão dos dados\n",
        "from sklearn.model_selection import train_test_split\n",
        "\n",
        "# Regressão linear\n",
        "from sklearn.linear_model import LinearRegression\n",
        "\n",
        "# Métricas de validação do modelo\n",
        "from sklearn.metrics import r2_score, mean_squared_error"
      ],
      "metadata": {
        "id": "lwmlqBp6Mf4l"
      },
      "execution_count": null,
      "outputs": []
    },
    {
      "cell_type": "markdown",
      "source": [
        "Agora vamos realizar a divisão dos nossos dados entre variáveis dependentes e independentes. Como vimos anteriormente, a variável dependente é o valor que queremos prever, e a variável independente são os dados que serão utilizados para prever a variável dependente."
      ],
      "metadata": {
        "id": "VAg_O3bCL9DX"
      }
    },
    {
      "cell_type": "code",
      "source": [
        "# Variável independente\n",
        "X = df[['lstat']]\n",
        "\n",
        "# Variável dependete\n",
        "y = df['medv']\n",
        "\n",
        "# Realizando a separação entre os dados que serão utilizados para treino e teste\n",
        "X_train, X_test, y_train, y_test = train_test_split(X, y, test_size=0.3)"
      ],
      "metadata": {
        "id": "inyWm0bjMKUm"
      },
      "execution_count": null,
      "outputs": []
    },
    {
      "cell_type": "markdown",
      "source": [
        "Com os dados devidamente separados, podemos seguir adiante."
      ],
      "metadata": {
        "id": "Jz7S0c8xSEas"
      }
    },
    {
      "cell_type": "markdown",
      "source": [
        "#### **Treinamento e avaliação do modelo**"
      ],
      "metadata": {
        "id": "XVWM7Y_FOs2V"
      }
    },
    {
      "cell_type": "markdown",
      "source": [
        "Aqui vamos treinar o nosso modelo nos dados que desejamos e avaliar a performance do mesmo com as métricas que vimos acima."
      ],
      "metadata": {
        "id": "og8r67-MOydk"
      }
    },
    {
      "cell_type": "code",
      "source": [
        "# Instanciando o modelo\n",
        "modelo = LinearRegression()\n",
        "\n",
        "# Treinando o modelo\n",
        "modelo.fit(X_train, y_train)"
      ],
      "metadata": {
        "colab": {
          "base_uri": "https://localhost:8080/",
          "height": 75
        },
        "id": "vPYvMom1OvjL",
        "outputId": "37b6d13d-e1d6-4a51-c6a1-a436da6e112d"
      },
      "execution_count": null,
      "outputs": [
        {
          "output_type": "execute_result",
          "data": {
            "text/plain": [
              "LinearRegression()"
            ],
            "text/html": [
              "<style>#sk-container-id-4 {color: black;background-color: white;}#sk-container-id-4 pre{padding: 0;}#sk-container-id-4 div.sk-toggleable {background-color: white;}#sk-container-id-4 label.sk-toggleable__label {cursor: pointer;display: block;width: 100%;margin-bottom: 0;padding: 0.3em;box-sizing: border-box;text-align: center;}#sk-container-id-4 label.sk-toggleable__label-arrow:before {content: \"▸\";float: left;margin-right: 0.25em;color: #696969;}#sk-container-id-4 label.sk-toggleable__label-arrow:hover:before {color: black;}#sk-container-id-4 div.sk-estimator:hover label.sk-toggleable__label-arrow:before {color: black;}#sk-container-id-4 div.sk-toggleable__content {max-height: 0;max-width: 0;overflow: hidden;text-align: left;background-color: #f0f8ff;}#sk-container-id-4 div.sk-toggleable__content pre {margin: 0.2em;color: black;border-radius: 0.25em;background-color: #f0f8ff;}#sk-container-id-4 input.sk-toggleable__control:checked~div.sk-toggleable__content {max-height: 200px;max-width: 100%;overflow: auto;}#sk-container-id-4 input.sk-toggleable__control:checked~label.sk-toggleable__label-arrow:before {content: \"▾\";}#sk-container-id-4 div.sk-estimator input.sk-toggleable__control:checked~label.sk-toggleable__label {background-color: #d4ebff;}#sk-container-id-4 div.sk-label input.sk-toggleable__control:checked~label.sk-toggleable__label {background-color: #d4ebff;}#sk-container-id-4 input.sk-hidden--visually {border: 0;clip: rect(1px 1px 1px 1px);clip: rect(1px, 1px, 1px, 1px);height: 1px;margin: -1px;overflow: hidden;padding: 0;position: absolute;width: 1px;}#sk-container-id-4 div.sk-estimator {font-family: monospace;background-color: #f0f8ff;border: 1px dotted black;border-radius: 0.25em;box-sizing: border-box;margin-bottom: 0.5em;}#sk-container-id-4 div.sk-estimator:hover {background-color: #d4ebff;}#sk-container-id-4 div.sk-parallel-item::after {content: \"\";width: 100%;border-bottom: 1px solid gray;flex-grow: 1;}#sk-container-id-4 div.sk-label:hover label.sk-toggleable__label {background-color: #d4ebff;}#sk-container-id-4 div.sk-serial::before {content: \"\";position: absolute;border-left: 1px solid gray;box-sizing: border-box;top: 0;bottom: 0;left: 50%;z-index: 0;}#sk-container-id-4 div.sk-serial {display: flex;flex-direction: column;align-items: center;background-color: white;padding-right: 0.2em;padding-left: 0.2em;position: relative;}#sk-container-id-4 div.sk-item {position: relative;z-index: 1;}#sk-container-id-4 div.sk-parallel {display: flex;align-items: stretch;justify-content: center;background-color: white;position: relative;}#sk-container-id-4 div.sk-item::before, #sk-container-id-4 div.sk-parallel-item::before {content: \"\";position: absolute;border-left: 1px solid gray;box-sizing: border-box;top: 0;bottom: 0;left: 50%;z-index: -1;}#sk-container-id-4 div.sk-parallel-item {display: flex;flex-direction: column;z-index: 1;position: relative;background-color: white;}#sk-container-id-4 div.sk-parallel-item:first-child::after {align-self: flex-end;width: 50%;}#sk-container-id-4 div.sk-parallel-item:last-child::after {align-self: flex-start;width: 50%;}#sk-container-id-4 div.sk-parallel-item:only-child::after {width: 0;}#sk-container-id-4 div.sk-dashed-wrapped {border: 1px dashed gray;margin: 0 0.4em 0.5em 0.4em;box-sizing: border-box;padding-bottom: 0.4em;background-color: white;}#sk-container-id-4 div.sk-label label {font-family: monospace;font-weight: bold;display: inline-block;line-height: 1.2em;}#sk-container-id-4 div.sk-label-container {text-align: center;}#sk-container-id-4 div.sk-container {/* jupyter's `normalize.less` sets `[hidden] { display: none; }` but bootstrap.min.css set `[hidden] { display: none !important; }` so we also need the `!important` here to be able to override the default hidden behavior on the sphinx rendered scikit-learn.org. See: https://github.com/scikit-learn/scikit-learn/issues/21755 */display: inline-block !important;position: relative;}#sk-container-id-4 div.sk-text-repr-fallback {display: none;}</style><div id=\"sk-container-id-4\" class=\"sk-top-container\"><div class=\"sk-text-repr-fallback\"><pre>LinearRegression()</pre><b>In a Jupyter environment, please rerun this cell to show the HTML representation or trust the notebook. <br />On GitHub, the HTML representation is unable to render, please try loading this page with nbviewer.org.</b></div><div class=\"sk-container\" hidden><div class=\"sk-item\"><div class=\"sk-estimator sk-toggleable\"><input class=\"sk-toggleable__control sk-hidden--visually\" id=\"sk-estimator-id-4\" type=\"checkbox\" checked><label for=\"sk-estimator-id-4\" class=\"sk-toggleable__label sk-toggleable__label-arrow\">LinearRegression</label><div class=\"sk-toggleable__content\"><pre>LinearRegression()</pre></div></div></div></div></div>"
            ]
          },
          "metadata": {},
          "execution_count": 35
        }
      ]
    },
    {
      "cell_type": "markdown",
      "source": [
        "Com o nosso modelo treinado, vamos realizar as predições e observar as métricas."
      ],
      "metadata": {
        "id": "jU85kZ51O8LV"
      }
    },
    {
      "cell_type": "code",
      "source": [
        "# Realizando as predições\n",
        "y_pred = modelo.predict(X_test)\n",
        "\n",
        "# Calculando o R^2 (R-quadrado)\n",
        "r2 = r2_score(y_test, y_pred)\n",
        "\n",
        "# Calculando o MSE (mean squared error ou erro médio quadratico)\n",
        "mse = mean_squared_error(y_test, y_pred)\n",
        "\n",
        "print(\"R-quadrado:\", r2)\n",
        "print(\"Erro quadrático médio:\", mse)"
      ],
      "metadata": {
        "colab": {
          "base_uri": "https://localhost:8080/"
        },
        "id": "zW7boh1MPARt",
        "outputId": "2d786aec-f26f-41cd-ed8a-1c08f29e3da3"
      },
      "execution_count": null,
      "outputs": [
        {
          "output_type": "stream",
          "name": "stdout",
          "text": [
            "R-quadrado: 0.5059392225769275\n",
            "Erro quadrático médio: 44.9896189698615\n"
          ]
        }
      ]
    },
    {
      "cell_type": "markdown",
      "source": [
        "Obtivemos um R-quadrado de 0,505. Isso indica que a variável independente que selecionamos consegue explicar cerca de 50,5% dos dados da variável dependente.\n",
        "\n",
        "O Erro Quadrático Médio representa a média dos quadrados dos erros entre os valores previstos pelo modelo e os valores reais observados nos dados. Logo, podemos concluir que os valores previstos pelo modelo estão, em média, a 44.98 unidades ao quadrado de distância dos valores reais observados nos dados. Quanto mais próximo de zero o MSE, melhor será o ajuste do modelo aos dados."
      ],
      "metadata": {
        "id": "5iKDN5QqQnRd"
      }
    },
    {
      "cell_type": "code",
      "source": [
        "# Calculando as diferenças\n",
        "diferencas = y_test - y_pred\n",
        "\n",
        "# Elevando as diferenças ao quadrado\n",
        "diferencas_quadradas = diferencas**2\n",
        "\n",
        "# Somando os quadrados das diferenças para obter o SSE\n",
        "SSE = np.sum(diferencas_quadradas)\n",
        "\n",
        "print(\"SSE:\", SSE)"
      ],
      "metadata": {
        "colab": {
          "base_uri": "https://localhost:8080/"
        },
        "id": "_49rILxZQPsE",
        "outputId": "77ec85ec-fe7d-4727-a6be-c4760630f62a"
      },
      "execution_count": null,
      "outputs": [
        {
          "output_type": "stream",
          "name": "stdout",
          "text": [
            "SSE: 6838.422083418948\n"
          ]
        }
      ]
    },
    {
      "cell_type": "markdown",
      "source": [
        "Obtivemos um SSE de 6838.42. Isso significa que a soma total dos quadrados dos erros entre os valores previstos pelo modelo e os valores reais observados nos dados é de aproximadamente 6838.42 unidades ao quadrado."
      ],
      "metadata": {
        "id": "Dhg4OQOjRvJk"
      }
    },
    {
      "cell_type": "markdown",
      "source": [
        "#### **Visualização**"
      ],
      "metadata": {
        "id": "ZQ_fQ1XbJGx7"
      }
    },
    {
      "cell_type": "markdown",
      "source": [
        "Vamos observar a linha que foi traçada pelo nosso modelo."
      ],
      "metadata": {
        "id": "rJesTLvxJNjy"
      }
    },
    {
      "cell_type": "code",
      "source": [
        "# Visualização de dados\n",
        "import matplotlib.pyplot as plt\n",
        "\n",
        "# Scatter plot (gráfico de dispersão) dos dados de teste\n",
        "plt.scatter(X_test, y_test, color='blue')  # Plota os pontos de dados de teste com cor azul\n",
        "\n",
        "# Plot da linha de regressão (predições) sobre os dados de teste\n",
        "plt.plot(X_test, y_pred, color='red', linewidth=2)  # Plota a linha de regressão (predições) com cor vermelha e largura de linha de 2\n",
        "\n",
        "# Configuração dos rótulos dos eixos X e Y\n",
        "plt.xlabel('X')  # Define o rótulo do eixo X como 'X'\n",
        "plt.ylabel('Y')  # Define o rótulo do eixo Y como 'Y'\n",
        "\n",
        "# Configurando o título do gráfico\n",
        "plt.title('Regressão Linear Simples')\n",
        "\n",
        "# Exibindo o gráfico\n",
        "plt.show()"
      ],
      "metadata": {
        "colab": {
          "base_uri": "https://localhost:8080/",
          "height": 472
        },
        "id": "e97QFZA-GzY0",
        "outputId": "673f5a8c-0a9a-4f6d-d676-0d435860f54c"
      },
      "execution_count": null,
      "outputs": [
        {
          "output_type": "display_data",
          "data": {
            "text/plain": [
              "<Figure size 640x480 with 1 Axes>"
            ],
            "image/png": "[encoded data removed]"
          },
          "metadata": {}
        }
      ]
    },
    {
      "cell_type": "markdown",
      "source": [
        "Aqui podemos observar a reta que foi traçada pelo nosso modelo. Devemos levar em consideração que as bolinhas azuis representam os dados reais e a linha vermelha é a nossa linha de predições."
      ],
      "metadata": {
        "id": "pC12Ms0AKyEy"
      }
    },
    {
      "cell_type": "markdown",
      "source": [
        "### **Regressão Linear Múltipla**"
      ],
      "metadata": {
        "id": "ymWwzZXKKIga"
      }
    },
    {
      "cell_type": "markdown",
      "source": [
        "Como nos passos anteriores já verificamos os dados, vamos prosseguir diretamente para a divisão dos dados."
      ],
      "metadata": {
        "id": "33hnPeKXLSih"
      }
    },
    {
      "cell_type": "markdown",
      "source": [
        "#### **Divisão dos dados**"
      ],
      "metadata": {
        "id": "9BsCFhCoMLgS"
      }
    },
    {
      "cell_type": "markdown",
      "source": [
        "Vamos inicialmente realizar as importações necessárias."
      ],
      "metadata": {
        "id": "jUbkPwa_MTka"
      }
    },
    {
      "cell_type": "code",
      "source": [
        "# Divisão dos dados\n",
        "from sklearn.model_selection import train_test_split\n",
        "\n",
        "# Regressão linear\n",
        "from sklearn.linear_model import LinearRegression\n",
        "\n",
        "# Métricas de validação do modelo\n",
        "from sklearn.metrics import r2_score, mean_squared_error"
      ],
      "metadata": {
        "id": "sZcinebnKa-S"
      },
      "execution_count": null,
      "outputs": []
    },
    {
      "cell_type": "markdown",
      "source": [
        "Agora vamos partir para a separação dos dados propriamente dita. Diferentemente da regressão linear simples, aqui estamos utilizando todas as variáveis, exceto a nossa variável dependente."
      ],
      "metadata": {
        "id": "FHQkUQOuMXaa"
      }
    },
    {
      "cell_type": "code",
      "source": [
        "# Variáveis independentes\n",
        "X = df.drop('medv', axis=1)\n",
        "\n",
        "# Variável dependete\n",
        "y = df['medv']\n",
        "\n",
        "# Realizando a separação entre os dados que serão utilizados para treino e teste\n",
        "X_train, X_test, y_train, y_test = train_test_split(X, y, test_size=0.3)"
      ],
      "metadata": {
        "id": "dM4YywlcMeMZ"
      },
      "execution_count": null,
      "outputs": []
    },
    {
      "cell_type": "markdown",
      "source": [
        "#### **Treinando e Avaliando o modelo**"
      ],
      "metadata": {
        "id": "1dnijFO3M6XC"
      }
    },
    {
      "cell_type": "code",
      "source": [
        "# Instanciando o modelo\n",
        "modelo_mult = LinearRegression()\n",
        "\n",
        "# Treinando o modelo\n",
        "modelo_mult.fit(X_train, y_train)"
      ],
      "metadata": {
        "colab": {
          "base_uri": "https://localhost:8080/",
          "height": 75
        },
        "id": "Bw8J9cZVM-Jq",
        "outputId": "8cf6b236-71bc-476c-8cb6-dddf35e1e833"
      },
      "execution_count": null,
      "outputs": [
        {
          "output_type": "execute_result",
          "data": {
            "text/plain": [
              "LinearRegression()"
            ],
            "text/html": [
              "<style>#sk-container-id-7 {color: black;background-color: white;}#sk-container-id-7 pre{padding: 0;}#sk-container-id-7 div.sk-toggleable {background-color: white;}#sk-container-id-7 label.sk-toggleable__label {cursor: pointer;display: block;width: 100%;margin-bottom: 0;padding: 0.3em;box-sizing: border-box;text-align: center;}#sk-container-id-7 label.sk-toggleable__label-arrow:before {content: \"▸\";float: left;margin-right: 0.25em;color: #696969;}#sk-container-id-7 label.sk-toggleable__label-arrow:hover:before {color: black;}#sk-container-id-7 div.sk-estimator:hover label.sk-toggleable__label-arrow:before {color: black;}#sk-container-id-7 div.sk-toggleable__content {max-height: 0;max-width: 0;overflow: hidden;text-align: left;background-color: #f0f8ff;}#sk-container-id-7 div.sk-toggleable__content pre {margin: 0.2em;color: black;border-radius: 0.25em;background-color: #f0f8ff;}#sk-container-id-7 input.sk-toggleable__control:checked~div.sk-toggleable__content {max-height: 200px;max-width: 100%;overflow: auto;}#sk-container-id-7 input.sk-toggleable__control:checked~label.sk-toggleable__label-arrow:before {content: \"▾\";}#sk-container-id-7 div.sk-estimator input.sk-toggleable__control:checked~label.sk-toggleable__label {background-color: #d4ebff;}#sk-container-id-7 div.sk-label input.sk-toggleable__control:checked~label.sk-toggleable__label {background-color: #d4ebff;}#sk-container-id-7 input.sk-hidden--visually {border: 0;clip: rect(1px 1px 1px 1px);clip: rect(1px, 1px, 1px, 1px);height: 1px;margin: -1px;overflow: hidden;padding: 0;position: absolute;width: 1px;}#sk-container-id-7 div.sk-estimator {font-family: monospace;background-color: #f0f8ff;border: 1px dotted black;border-radius: 0.25em;box-sizing: border-box;margin-bottom: 0.5em;}#sk-container-id-7 div.sk-estimator:hover {background-color: #d4ebff;}#sk-container-id-7 div.sk-parallel-item::after {content: \"\";width: 100%;border-bottom: 1px solid gray;flex-grow: 1;}#sk-container-id-7 div.sk-label:hover label.sk-toggleable__label {background-color: #d4ebff;}#sk-container-id-7 div.sk-serial::before {content: \"\";position: absolute;border-left: 1px solid gray;box-sizing: border-box;top: 0;bottom: 0;left: 50%;z-index: 0;}#sk-container-id-7 div.sk-serial {display: flex;flex-direction: column;align-items: center;background-color: white;padding-right: 0.2em;padding-left: 0.2em;position: relative;}#sk-container-id-7 div.sk-item {position: relative;z-index: 1;}#sk-container-id-7 div.sk-parallel {display: flex;align-items: stretch;justify-content: center;background-color: white;position: relative;}#sk-container-id-7 div.sk-item::before, #sk-container-id-7 div.sk-parallel-item::before {content: \"\";position: absolute;border-left: 1px solid gray;box-sizing: border-box;top: 0;bottom: 0;left: 50%;z-index: -1;}#sk-container-id-7 div.sk-parallel-item {display: flex;flex-direction: column;z-index: 1;position: relative;background-color: white;}#sk-container-id-7 div.sk-parallel-item:first-child::after {align-self: flex-end;width: 50%;}#sk-container-id-7 div.sk-parallel-item:last-child::after {align-self: flex-start;width: 50%;}#sk-container-id-7 div.sk-parallel-item:only-child::after {width: 0;}#sk-container-id-7 div.sk-dashed-wrapped {border: 1px dashed gray;margin: 0 0.4em 0.5em 0.4em;box-sizing: border-box;padding-bottom: 0.4em;background-color: white;}#sk-container-id-7 div.sk-label label {font-family: monospace;font-weight: bold;display: inline-block;line-height: 1.2em;}#sk-container-id-7 div.sk-label-container {text-align: center;}#sk-container-id-7 div.sk-container {/* jupyter's `normalize.less` sets `[hidden] { display: none; }` but bootstrap.min.css set `[hidden] { display: none !important; }` so we also need the `!important` here to be able to override the default hidden behavior on the sphinx rendered scikit-learn.org. See: https://github.com/scikit-learn/scikit-learn/issues/21755 */display: inline-block !important;position: relative;}#sk-container-id-7 div.sk-text-repr-fallback {display: none;}</style><div id=\"sk-container-id-7\" class=\"sk-top-container\"><div class=\"sk-text-repr-fallback\"><pre>LinearRegression()</pre><b>In a Jupyter environment, please rerun this cell to show the HTML representation or trust the notebook. <br />On GitHub, the HTML representation is unable to render, please try loading this page with nbviewer.org.</b></div><div class=\"sk-container\" hidden><div class=\"sk-item\"><div class=\"sk-estimator sk-toggleable\"><input class=\"sk-toggleable__control sk-hidden--visually\" id=\"sk-estimator-id-7\" type=\"checkbox\" checked><label for=\"sk-estimator-id-7\" class=\"sk-toggleable__label sk-toggleable__label-arrow\">LinearRegression</label><div class=\"sk-toggleable__content\"><pre>LinearRegression()</pre></div></div></div></div></div>"
            ]
          },
          "metadata": {},
          "execution_count": 52
        }
      ]
    },
    {
      "cell_type": "markdown",
      "source": [
        "Agora vamos realizar as predições e observar as métricas do modelo."
      ],
      "metadata": {
        "id": "GZxZVLLcNI7B"
      }
    },
    {
      "cell_type": "code",
      "source": [
        "# Realizando as predições\n",
        "y_pred = modelo_mult.predict(X_test)\n",
        "\n",
        "# Calculando o R^2 (R-quadrado)\n",
        "r2 = r2_score(y_test, y_pred)\n",
        "\n",
        "# Calculando o MSE (mean squared error ou erro médio quadratico)\n",
        "mse = mean_squared_error(y_test, y_pred)\n",
        "\n",
        "# Calculando as diferenças\n",
        "diferencas = y_test - y_pred\n",
        "\n",
        "# Elevando as diferenças ao quadrado\n",
        "diferencas_quadradas = diferencas**2\n",
        "\n",
        "# Somando os quadrados das diferenças para obter o SSE\n",
        "SSE = np.sum(diferencas_quadradas)\n",
        "\n",
        "print(\"R-quadrado:\", r2)\n",
        "print(\"Erro quadrático médio:\", mse)\n",
        "print(\"SSE:\", SSE)"
      ],
      "metadata": {
        "colab": {
          "base_uri": "https://localhost:8080/"
        },
        "id": "nSaeFzEBNOSy",
        "outputId": "0d7f8e50-24cd-41da-9f24-01dc9462a8af"
      },
      "execution_count": null,
      "outputs": [
        {
          "output_type": "stream",
          "name": "stdout",
          "text": [
            "R-quadrado: 0.7759086544209721\n",
            "Erro quadrático médio: 18.288598976427483\n",
            "SSE: 2779.8670444169775\n"
          ]
        }
      ]
    },
    {
      "cell_type": "markdown",
      "source": [
        "Podemos observar uma melhora bastante considerável. Agora nosso modelo consegue explicar cerca de 77% da nossa variável dependente. Nosso erro quadrático é de 18,28 e o nosso SSE caiu para 2779,86. Tanto o MSE quanto o SSE apresentaram uma diminuição considerável, o que demonstra a melhoria do nosso modelo."
      ],
      "metadata": {
        "id": "HFSUSLAkOumx"
      }
    },
    {
      "cell_type": "markdown",
      "source": [
        "### **OLS**"
      ],
      "metadata": {
        "id": "G3FGEQnaJNgy"
      }
    },
    {
      "cell_type": "markdown",
      "source": [
        "OLS (Ordinary Least Squares) é um método estatístico utilizado em regressão linear para encontrar a linha que melhor se ajusta aos dados. Em termos simples, o OLS tenta minimizar a soma dos quadrados das diferenças entre os valores previstos pelo modelo e os valores reais observados nos dados."
      ],
      "metadata": {
        "id": "KB-3coimKCwr"
      }
    },
    {
      "cell_type": "markdown",
      "source": [
        "Para aplicarmos o **OLS**, temos que seguir alguns pré-requisitos, como por exemplo:\n",
        "\n",
        "- **Linearidade**: O modelo deve ser linear nos parâmetros. Isso significa que as relações entre as variáveis independentes e dependentes devem ser lineares.\n",
        "\n",
        "- **Homoscedasticidade**: Os erros do modelo devem ser homoscedásticos, os erros não devem exibir nenhum padrão sistemático em relação às variáveis independentes.\n",
        "\n",
        "- **Exogeneidade**: A exogeneidade significa que as variáveis independentes não são afetadas pelos erros do modelo. Ao verificar os resíduos em relação à variável independente, procuramos garantir que não haja padrões ou tendências nos resíduos em relação aos valores da variável independente.\n",
        "\n",
        "- **Autocorrelação de resíduos**: Indica se há dependência entre os resíduos do modelo ao longo do tempo ou das observações.\n",
        "\n",
        "- **Multicolonearidade**: Refere-se à alta correlação entre as variáveis independentes, o que pode afetar a precisão das estimativas dos coeficientes.\n",
        "\n",
        "- **Distribuição normal dos resíduos**: A distribuição normal dos resíduos implica que os resíduos do modelo de regressão estão normalmente distribuídos.\n",
        "\n",
        "- **Avaliar o modelo**: Além de verificar os pressupostos, é essencial avaliar a qualidade geral do modelo, incluindo o ajuste aos dados, a interpretação dos coeficientes e a relevância prática das conclusões.\n",
        "\n",
        "Se esses pré-requisitos não forem atendidos, as estimativas do modelo OLS podem ser enviesadas ou imprecisas, e outras técnicas de modelagem podem ser mais apropriadas."
      ],
      "metadata": {
        "id": "I56-S6xpVi1Q"
      }
    },
    {
      "cell_type": "markdown",
      "source": [
        "Agora que já sabemos o que temos que fazer, vamos importar nossa base de dados e começar a trabalhar nela."
      ],
      "metadata": {
        "id": "OobZzBfDbBIH"
      }
    },
    {
      "cell_type": "code",
      "source": [
        "# Acesso ao drive\n",
        "from google.colab import drive\n",
        "drive.mount('/content/drive')"
      ],
      "metadata": {
        "id": "_rTnmZStKC8C",
        "colab": {
          "base_uri": "https://localhost:8080/"
        },
        "outputId": "867baba5-b899-4ad2-c07a-aeae65c45bde"
      },
      "execution_count": null,
      "outputs": [
        {
          "output_type": "stream",
          "name": "stdout",
          "text": [
            "Drive already mounted at /content/drive; to attempt to forcibly remount, call drive.mount(\"/content/drive\", force_remount=True).\n"
          ]
        }
      ]
    },
    {
      "cell_type": "code",
      "source": [
        "# Funções matemáticas\n",
        "import numpy as np\n",
        "\n",
        "# Manipulação de dados\n",
        "import pandas as pd\n",
        "\n",
        "# Visualização de dados\n",
        "import matplotlib.pyplot as plt\n",
        "import seaborn as sns\n",
        "\n",
        "# Funções estatísticas\n",
        "from statsmodels.formula.api import ols\n",
        "from statsmodels.stats.diagnostic import het_breuschpagan\n",
        "from statsmodels.stats.stattools import durbin_watson\n",
        "from scipy.stats import shapiro\n",
        "import scipy.stats as stats\n",
        "import statsmodels.api as sm"
      ],
      "metadata": {
        "id": "qcQ8yHpibSLP"
      },
      "execution_count": null,
      "outputs": []
    },
    {
      "cell_type": "markdown",
      "source": [
        "Agora que já importamos todas as bibliotecas necessárias, vamos importar a base de dados propriamente dita."
      ],
      "metadata": {
        "id": "6cyEma6pburn"
      }
    },
    {
      "cell_type": "code",
      "source": [
        "# Importando o dataset\n",
        "df = pd.read_csv('/content/drive/MyDrive/Estatística para ciência de dados/venda_mkt.csv', sep = ';')"
      ],
      "metadata": {
        "id": "ME4eAqyfbu3m"
      },
      "execution_count": null,
      "outputs": []
    },
    {
      "cell_type": "code",
      "source": [
        "# Visualizando os primeiros registros\n",
        "df.head()"
      ],
      "metadata": {
        "colab": {
          "base_uri": "https://localhost:8080/",
          "height": 206
        },
        "id": "Wdq9qLwOb8-H",
        "outputId": "b108fd5c-587e-4044-ea63-c12d74a4487c"
      },
      "execution_count": null,
      "outputs": [
        {
          "output_type": "execute_result",
          "data": {
            "text/plain": [
              "  Publicidade  Vendas\n",
              "0      985,69     120\n",
              "1     1445,56     360\n",
              "2     1188,19     270\n",
              "3      574,51     220\n",
              "4      568,95     170"
            ],
            "text/html": [
              "\n",
              "  <div id=\"df-4444ed7c-8888-464b-8f14-2eb5d692700f\" class=\"colab-df-container\">\n",
              "    <div>\n",
              "<style scoped>\n",
              "    .dataframe tbody tr th:only-of-type {\n",
              "        vertical-align: middle;\n",
              "    }\n",
              "\n",
              "    .dataframe tbody tr th {\n",
              "        vertical-align: top;\n",
              "    }\n",
              "\n",
              "    .dataframe thead th {\n",
              "        text-align: right;\n",
              "    }\n",
              "</style>\n",
              "<table border=\"1\" class=\"dataframe\">\n",
              "  <thead>\n",
              "    <tr style=\"text-align: right;\">\n",
              "      <th></th>\n",
              "      <th>Publicidade</th>\n",
              "      <th>Vendas</th>\n",
              "    </tr>\n",
              "  </thead>\n",
              "  <tbody>\n",
              "    <tr>\n",
              "      <th>0</th>\n",
              "      <td>985,69</td>\n",
              "      <td>120</td>\n",
              "    </tr>\n",
              "    <tr>\n",
              "      <th>1</th>\n",
              "      <td>1445,56</td>\n",
              "      <td>360</td>\n",
              "    </tr>\n",
              "    <tr>\n",
              "      <th>2</th>\n",
              "      <td>1188,19</td>\n",
              "      <td>270</td>\n",
              "    </tr>\n",
              "    <tr>\n",
              "      <th>3</th>\n",
              "      <td>574,51</td>\n",
              "      <td>220</td>\n",
              "    </tr>\n",
              "    <tr>\n",
              "      <th>4</th>\n",
              "      <td>568,95</td>\n",
              "      <td>170</td>\n",
              "    </tr>\n",
              "  </tbody>\n",
              "</table>\n",
              "</div>\n",
              "    <div class=\"colab-df-buttons\">\n",
              "\n",
              "  <div class=\"colab-df-container\">\n",
              "    <button class=\"colab-df-convert\" onclick=\"convertToInteractive('df-4444ed7c-8888-464b-8f14-2eb5d692700f')\"\n",
              "            title=\"Convert this dataframe to an interactive table.\"\n",
              "            style=\"display:none;\">\n",
              "\n",
              "  <svg xmlns=\"http://www.w3.org/2000/svg\" height=\"24px\" viewBox=\"0 -960 960 960\">\n",
              "    <path d=\"M120-120v-720h720v720H120Zm60-500h600v-160H180v160Zm220 220h160v-160H400v160Zm0 220h160v-160H400v160ZM180-400h160v-160H180v160Zm440 0h160v-160H620v160ZM180-180h160v-160H180v160Zm440 0h160v-160H620v160Z\"/>\n",
              "  </svg>\n",
              "    </button>\n",
              "\n",
              "  <style>\n",
              "    .colab-df-container {\n",
              "      display:flex;\n",
              "      gap: 12px;\n",
              "    }\n",
              "\n",
              "    .colab-df-convert {\n",
              "      background-color: #E8F0FE;\n",
              "      border: none;\n",
              "      border-radius: 50%;\n",
              "      cursor: pointer;\n",
              "      display: none;\n",
              "      fill: #1967D2;\n",
              "      height: 32px;\n",
              "      padding: 0 0 0 0;\n",
              "      width: 32px;\n",
              "    }\n",
              "\n",
              "    .colab-df-convert:hover {\n",
              "      background-color: #E2EBFA;\n",
              "      box-shadow: 0px 1px 2px rgba(60, 64, 67, 0.3), 0px 1px 3px 1px rgba(60, 64, 67, 0.15);\n",
              "      fill: #174EA6;\n",
              "    }\n",
              "\n",
              "    .colab-df-buttons div {\n",
              "      margin-bottom: 4px;\n",
              "    }\n",
              "\n",
              "    [theme=dark] .colab-df-convert {\n",
              "      background-color: #3B4455;\n",
              "      fill: #D2E3FC;\n",
              "    }\n",
              "\n",
              "    [theme=dark] .colab-df-convert:hover {\n",
              "      background-color: #434B5C;\n",
              "      box-shadow: 0px 1px 3px 1px rgba(0, 0, 0, 0.15);\n",
              "      filter: drop-shadow(0px 1px 2px rgba(0, 0, 0, 0.3));\n",
              "      fill: #FFFFFF;\n",
              "    }\n",
              "  </style>\n",
              "\n",
              "    <script>\n",
              "      const buttonEl =\n",
              "        document.querySelector('#df-4444ed7c-8888-464b-8f14-2eb5d692700f button.colab-df-convert');\n",
              "      buttonEl.style.display =\n",
              "        google.colab.kernel.accessAllowed ? 'block' : 'none';\n",
              "\n",
              "      async function convertToInteractive(key) {\n",
              "        const element = document.querySelector('#df-4444ed7c-8888-464b-8f14-2eb5d692700f');\n",
              "        const dataTable =\n",
              "          await google.colab.kernel.invokeFunction('convertToInteractive',\n",
              "                                                    [key], {});\n",
              "        if (!dataTable) return;\n",
              "\n",
              "        const docLinkHtml = 'Like what you see? Visit the ' +\n",
              "          '<a target=\"_blank\" href=https://colab.research.google.com/notebooks/data_table.ipynb>data table notebook</a>'\n",
              "          + ' to learn more about interactive tables.';\n",
              "        element.innerHTML = '';\n",
              "        dataTable['output_type'] = 'display_data';\n",
              "        await google.colab.output.renderOutput(dataTable, element);\n",
              "        const docLink = document.createElement('div');\n",
              "        docLink.innerHTML = docLinkHtml;\n",
              "        element.appendChild(docLink);\n",
              "      }\n",
              "    </script>\n",
              "  </div>\n",
              "\n",
              "\n",
              "<div id=\"df-a92134b3-0ecc-4a9f-afcb-819dbbd1f7b1\">\n",
              "  <button class=\"colab-df-quickchart\" onclick=\"quickchart('df-a92134b3-0ecc-4a9f-afcb-819dbbd1f7b1')\"\n",
              "            title=\"Suggest charts\"\n",
              "            style=\"display:none;\">\n",
              "\n",
              "<svg xmlns=\"http://www.w3.org/2000/svg\" height=\"24px\"viewBox=\"0 0 24 24\"\n",
              "     width=\"24px\">\n",
              "    <g>\n",
              "        <path d=\"M19 3H5c-1.1 0-2 .9-2 2v14c0 1.1.9 2 2 2h14c1.1 0 2-.9 2-2V5c0-1.1-.9-2-2-2zM9 17H7v-7h2v7zm4 0h-2V7h2v10zm4 0h-2v-4h2v4z\"/>\n",
              "    </g>\n",
              "</svg>\n",
              "  </button>\n",
              "\n",
              "<style>\n",
              "  .colab-df-quickchart {\n",
              "      --bg-color: #E8F0FE;\n",
              "      --fill-color: #1967D2;\n",
              "      --hover-bg-color: #E2EBFA;\n",
              "      --hover-fill-color: #174EA6;\n",
              "      --disabled-fill-color: #AAA;\n",
              "      --disabled-bg-color: #DDD;\n",
              "  }\n",
              "\n",
              "  [theme=dark] .colab-df-quickchart {\n",
              "      --bg-color: #3B4455;\n",
              "      --fill-color: #D2E3FC;\n",
              "      --hover-bg-color: #434B5C;\n",
              "      --hover-fill-color: #FFFFFF;\n",
              "      --disabled-bg-color: #3B4455;\n",
              "      --disabled-fill-color: #666;\n",
              "  }\n",
              "\n",
              "  .colab-df-quickchart {\n",
              "    background-color: var(--bg-color);\n",
              "    border: none;\n",
              "    border-radius: 50%;\n",
              "    cursor: pointer;\n",
              "    display: none;\n",
              "    fill: var(--fill-color);\n",
              "    height: 32px;\n",
              "    padding: 0;\n",
              "    width: 32px;\n",
              "  }\n",
              "\n",
              "  .colab-df-quickchart:hover {\n",
              "    background-color: var(--hover-bg-color);\n",
              "    box-shadow: 0 1px 2px rgba(60, 64, 67, 0.3), 0 1px 3px 1px rgba(60, 64, 67, 0.15);\n",
              "    fill: var(--button-hover-fill-color);\n",
              "  }\n",
              "\n",
              "  .colab-df-quickchart-complete:disabled,\n",
              "  .colab-df-quickchart-complete:disabled:hover {\n",
              "    background-color: var(--disabled-bg-color);\n",
              "    fill: var(--disabled-fill-color);\n",
              "    box-shadow: none;\n",
              "  }\n",
              "\n",
              "  .colab-df-spinner {\n",
              "    border: 2px solid var(--fill-color);\n",
              "    border-color: transparent;\n",
              "    border-bottom-color: var(--fill-color);\n",
              "    animation:\n",
              "      spin 1s steps(1) infinite;\n",
              "  }\n",
              "\n",
              "  @keyframes spin {\n",
              "    0% {\n",
              "      border-color: transparent;\n",
              "      border-bottom-color: var(--fill-color);\n",
              "      border-left-color: var(--fill-color);\n",
              "    }\n",
              "    20% {\n",
              "      border-color: transparent;\n",
              "      border-left-color: var(--fill-color);\n",
              "      border-top-color: var(--fill-color);\n",
              "    }\n",
              "    30% {\n",
              "      border-color: transparent;\n",
              "      border-left-color: var(--fill-color);\n",
              "      border-top-color: var(--fill-color);\n",
              "      border-right-color: var(--fill-color);\n",
              "    }\n",
              "    40% {\n",
              "      border-color: transparent;\n",
              "      border-right-color: var(--fill-color);\n",
              "      border-top-color: var(--fill-color);\n",
              "    }\n",
              "    60% {\n",
              "      border-color: transparent;\n",
              "      border-right-color: var(--fill-color);\n",
              "    }\n",
              "    80% {\n",
              "      border-color: transparent;\n",
              "      border-right-color: var(--fill-color);\n",
              "      border-bottom-color: var(--fill-color);\n",
              "    }\n",
              "    90% {\n",
              "      border-color: transparent;\n",
              "      border-bottom-color: var(--fill-color);\n",
              "    }\n",
              "  }\n",
              "</style>\n",
              "\n",
              "  <script>\n",
              "    async function quickchart(key) {\n",
              "      const quickchartButtonEl =\n",
              "        document.querySelector('#' + key + ' button');\n",
              "      quickchartButtonEl.disabled = true;  // To prevent multiple clicks.\n",
              "      quickchartButtonEl.classList.add('colab-df-spinner');\n",
              "      try {\n",
              "        const charts = await google.colab.kernel.invokeFunction(\n",
              "            'suggestCharts', [key], {});\n",
              "      } catch (error) {\n",
              "        console.error('Error during call to suggestCharts:', error);\n",
              "      }\n",
              "      quickchartButtonEl.classList.remove('colab-df-spinner');\n",
              "      quickchartButtonEl.classList.add('colab-df-quickchart-complete');\n",
              "    }\n",
              "    (() => {\n",
              "      let quickchartButtonEl =\n",
              "        document.querySelector('#df-a92134b3-0ecc-4a9f-afcb-819dbbd1f7b1 button');\n",
              "      quickchartButtonEl.style.display =\n",
              "        google.colab.kernel.accessAllowed ? 'block' : 'none';\n",
              "    })();\n",
              "  </script>\n",
              "</div>\n",
              "\n",
              "    </div>\n",
              "  </div>\n"
            ],
            "application/vnd.google.colaboratory.intrinsic+json": {
              "type": "dataframe",
              "variable_name": "df",
              "summary": "{\n  \"name\": \"df\",\n  \"rows\": 187,\n  \"fields\": [\n    {\n      \"column\": \"Publicidade\",\n      \"properties\": {\n        \"dtype\": \"string\",\n        \"num_unique_values\": 180,\n        \"samples\": [\n          \"656,14\",\n          \"1170,92\",\n          \"985,97\"\n        ],\n        \"semantic_type\": \"\",\n        \"description\": \"\"\n      }\n    },\n    {\n      \"column\": \"Vendas\",\n      \"properties\": {\n        \"dtype\": \"number\",\n        \"std\": 75,\n        \"min\": 10,\n        \"max\": 360,\n        \"num_unique_values\": 33,\n        \"samples\": [\n          10,\n          60,\n          140\n        ],\n        \"semantic_type\": \"\",\n        \"description\": \"\"\n      }\n    }\n  ]\n}"
            }
          },
          "metadata": {},
          "execution_count": 34
        }
      ]
    },
    {
      "cell_type": "markdown",
      "source": [
        "Agora que nossos dados foram importados, vamos observar o tipo de dados que temos nesse dataframe."
      ],
      "metadata": {
        "id": "3bJvAKMZcUU-"
      }
    },
    {
      "cell_type": "code",
      "source": [
        "# Observando algumas informações sobre o nosso DF\n",
        "df.info()"
      ],
      "metadata": {
        "colab": {
          "base_uri": "https://localhost:8080/"
        },
        "id": "V7UTatCEcor2",
        "outputId": "e81f6100-d39e-4675-be9d-353af7789456"
      },
      "execution_count": null,
      "outputs": [
        {
          "output_type": "stream",
          "name": "stdout",
          "text": [
            "<class 'pandas.core.frame.DataFrame'>\n",
            "RangeIndex: 187 entries, 0 to 186\n",
            "Data columns (total 2 columns):\n",
            " #   Column       Non-Null Count  Dtype \n",
            "---  ------       --------------  ----- \n",
            " 0   Publicidade  187 non-null    object\n",
            " 1   Vendas       187 non-null    int64 \n",
            "dtypes: int64(1), object(1)\n",
            "memory usage: 3.0+ KB\n"
          ]
        }
      ]
    },
    {
      "cell_type": "markdown",
      "source": [
        "A nossa variável 'Publicidade' não é do tipo numérico, então precisamos corrigir isso."
      ],
      "metadata": {
        "id": "bN4O8sWycvLO"
      }
    },
    {
      "cell_type": "code",
      "source": [
        "# Sunstituindo a vírgula por ponto e alterando o tipo do dado\n",
        "df[\"Publicidade\"] = df[\"Publicidade\"].str.replace(\",\", \".\").astype(float)"
      ],
      "metadata": {
        "id": "hK8wkCzLc2-W"
      },
      "execution_count": null,
      "outputs": []
    },
    {
      "cell_type": "markdown",
      "source": [
        "Dessa forma, conseguimos alterar a coluna para tipo numérico."
      ],
      "metadata": {
        "id": "oFpVgfsZc9rq"
      }
    },
    {
      "cell_type": "code",
      "source": [
        "# Observando algumas informações sobre o nosso DF\n",
        "df.info()"
      ],
      "metadata": {
        "colab": {
          "base_uri": "https://localhost:8080/"
        },
        "id": "qW2d7xxbdA-O",
        "outputId": "ce4c6185-420e-42c7-d7a3-1dd1b55bc06c"
      },
      "execution_count": null,
      "outputs": [
        {
          "output_type": "stream",
          "name": "stdout",
          "text": [
            "<class 'pandas.core.frame.DataFrame'>\n",
            "RangeIndex: 187 entries, 0 to 186\n",
            "Data columns (total 2 columns):\n",
            " #   Column       Non-Null Count  Dtype  \n",
            "---  ------       --------------  -----  \n",
            " 0   Publicidade  187 non-null    float64\n",
            " 1   Vendas       187 non-null    int64  \n",
            "dtypes: float64(1), int64(1)\n",
            "memory usage: 3.0 KB\n"
          ]
        }
      ]
    },
    {
      "cell_type": "markdown",
      "source": [
        "Agora nossos dados são do tipo numérico. Dito isso, podemos seguir adiante."
      ],
      "metadata": {
        "id": "Jo-3AdTBdFHm"
      }
    },
    {
      "cell_type": "markdown",
      "source": [
        "Como temos apenas duas variáveis, vamos observar a correlação entre elas utilizando Pearson e Spearman."
      ],
      "metadata": {
        "id": "FkoNsWovdSXm"
      }
    },
    {
      "cell_type": "code",
      "source": [
        "# Calculando o Pearson\n",
        "publi_pearson, publi_pearson_p_valor = stats.pearsonr(df[\"Publicidade\"], df[\"Vendas\"])\n",
        "\n",
        "# Calculando o Spearman\n",
        "publi_spearman, publi_spear_p_valor = stats.spearmanr(df[\"Publicidade\"], df[\"Vendas\"])\n",
        "\n",
        "# Exibindo os resultados\n",
        "print(f\"Correlação de Pearson: {publi_pearson}, P-valor de Pearson: {publi_pearson_p_valor}\\nCorrelação de Spearman: {publi_spearman}, P-valor de Spearman: {publi_spear_p_valor}\")"
      ],
      "metadata": {
        "colab": {
          "base_uri": "https://localhost:8080/"
        },
        "id": "-FkCwd3JdNKv",
        "outputId": "d33e5401-c6c2-4a24-f03e-75ab30cf12d7"
      },
      "execution_count": null,
      "outputs": [
        {
          "output_type": "stream",
          "name": "stdout",
          "text": [
            "Correlação de Pearson: 0.6028225998334562, P-valor de Pearson: 6.94341444334192e-20\n",
            "Correlação de Spearman: 0.5901383471933167, P-valor de Spearman: 6.226559329632023e-19\n"
          ]
        }
      ]
    },
    {
      "cell_type": "markdown",
      "source": [
        "Podemos observar uma correlação positiva em torno de 0,60. Obtivemos um p-valor bastante baixo tanto no teste de Pearson quanto no teste de Spearman. Logo, podemos concluir que temos evidências de que essas variáveis apresentam correlações significativas."
      ],
      "metadata": {
        "id": "YURfKffcfhH9"
      }
    },
    {
      "cell_type": "markdown",
      "source": [
        "Vamos então dividir as variáveis."
      ],
      "metadata": {
        "id": "MGovaZAwsQfj"
      }
    },
    {
      "cell_type": "code",
      "source": [
        "# Variável independente\n",
        "X = df[\"Publicidade\"]\n",
        "\n",
        "# Variável dependente\n",
        "y = df[\"Vendas\"]"
      ],
      "metadata": {
        "id": "mJPHZZx_sZaz"
      },
      "execution_count": null,
      "outputs": []
    },
    {
      "cell_type": "markdown",
      "source": [
        "Com as variáveis devidamente separadas, vamos começar a observar se os requisitos para um OLS eficaz estão sendo satisfeitos."
      ],
      "metadata": {
        "id": "dH3ptJLIsprr"
      }
    },
    {
      "cell_type": "markdown",
      "source": [
        "#### **Linearidade**"
      ],
      "metadata": {
        "id": "9vTsVgz9suXj"
      }
    },
    {
      "cell_type": "markdown",
      "source": [
        "As relações entre as variáveis devem ser lineares, o que significa que o modelo deve ser linear nos parâmetros."
      ],
      "metadata": {
        "id": "Io3RP0GytaEE"
      }
    },
    {
      "cell_type": "code",
      "source": [
        "# Exibindo o gráfico\n",
        "sns.scatterplot(data=df, x=\"Publicidade\", y=\"Vendas\")\n",
        "\n",
        "# Definindo o título\n",
        "plt.title('Publicidade vs Vendas')\n",
        "\n",
        "# Exibindo o gráfico\n",
        "plt.show()"
      ],
      "metadata": {
        "colab": {
          "base_uri": "https://localhost:8080/",
          "height": 472
        },
        "id": "yOY1x0CIstDT",
        "outputId": "8c0affd3-eb1a-4b50-f5e4-510caf776139"
      },
      "execution_count": null,
      "outputs": [
        {
          "output_type": "display_data",
          "data": {
            "text/plain": [
              "<Figure size 640x480 with 1 Axes>"
            ],
            "image/png": "[encoded data removed]"
          },
          "metadata": {}
        }
      ]
    },
    {
      "cell_type": "markdown",
      "source": [
        "Ao observarmos o gráfico, não notamos nenhum tipo de relação exponencial ou algo assim; na verdade, dá até para perceber uma linearidade. Dito isso, vamos seguir com a nossa análise, levando em consideração que existe sim uma linearidade nesses dados."
      ],
      "metadata": {
        "id": "bj5ewCaTuaFj"
      }
    },
    {
      "cell_type": "markdown",
      "source": [
        "Antes de prosseguirmos, vamos criar um modelo e analisar os resíduos. É importante lembrarmos que o termo de erro deve ter uma média populacional de zero."
      ],
      "metadata": {
        "id": "zS03y2Gsvj7C"
      }
    },
    {
      "cell_type": "code",
      "source": [
        "# Criando e treinando o modelo linear\n",
        "model = ols('Vendas ~ Publicidade', data=df).fit()"
      ],
      "metadata": {
        "id": "qHb8Qg2eu0pa"
      },
      "execution_count": null,
      "outputs": []
    },
    {
      "cell_type": "markdown",
      "source": [
        "Agora que treinamos o modelo, vamos observar o termo de erro, calculando a média dos resíduos."
      ],
      "metadata": {
        "id": "0WkE95erxF96"
      }
    },
    {
      "cell_type": "code",
      "source": [
        "# Calculando o termo de erro\n",
        "model.resid.mean()"
      ],
      "metadata": {
        "colab": {
          "base_uri": "https://localhost:8080/"
        },
        "id": "ZOYS_PmQvA6h",
        "outputId": "c39864e6-b158-446a-f3d5-ed962c642310"
      },
      "execution_count": null,
      "outputs": [
        {
          "output_type": "execute_result",
          "data": {
            "text/plain": [
              "-1.3481313510571312e-13"
            ]
          },
          "metadata": {},
          "execution_count": 13
        }
      ]
    },
    {
      "cell_type": "markdown",
      "source": [
        "Obtivemos um termo de erro bem baixo e muito próximo de zero, o que atende exatamente a um dos requisitos citados anteriormente: o termo de erro deve ter uma média próxima a zero. Portanto, podemos seguir adiante e avaliar a homocedasticidade."
      ],
      "metadata": {
        "id": "r5uIUtBExFEj"
      }
    },
    {
      "cell_type": "markdown",
      "source": [
        "#### **Homocedasticidade**"
      ],
      "metadata": {
        "id": "YLpApsw6urHa"
      }
    },
    {
      "cell_type": "markdown",
      "source": [
        "Os erros do modelo não devem exibir nenhum padrão sistemático em relação às variáveis independentes; eles devem ser consistentes em toda a faixa de valores."
      ],
      "metadata": {
        "id": "R66yatA2uwob"
      }
    },
    {
      "cell_type": "code",
      "source": [
        "# Criando o gráfico de resíduos para avaliar a relação entre as vendas e a variável 'Publicidade'\n",
        "sns.residplot(x= model.fittedvalues, y = model.resid, lowess=True, line_kws={'color': 'red'})\n",
        "\n",
        "# Definindo o título do gráfico\n",
        "plt.title('Residuals vs Fitted values')\n",
        "\n",
        "# Editando o título dos eixos\n",
        "plt.xlabel('Fitted values')\n",
        "plt.ylabel('Residuals')\n",
        "\n",
        "# Exibindo o gráfico\n",
        "plt.show()"
      ],
      "metadata": {
        "colab": {
          "base_uri": "https://localhost:8080/",
          "height": 472
        },
        "id": "-hezXXksxyV6",
        "outputId": "c68e557d-6edf-44ea-dca2-c83a78c06f84"
      },
      "execution_count": null,
      "outputs": [
        {
          "output_type": "display_data",
          "data": {
            "text/plain": [
              "<Figure size 640x480 with 1 Axes>"
            ],
            "image/png": "[encoded data removed]"
          },
          "metadata": {}
        }
      ]
    },
    {
      "cell_type": "markdown",
      "source": [
        "Ao observar o gráfico, é possível notar que a linha vermelha está bem próxima à linha pontilhada, o que indica uma relação linear. Logo, um modelo linear se ajusta bem aos nossos dados.\n",
        "\n",
        "A homocedasticidade é a homogeneidade de variâncias. Caso exista a homocedasticidade, os pontos são dispersos ao longo do eixo X (formato retangular), sem redução ou aumento de variâncias."
      ],
      "metadata": {
        "id": "DLwPY4GtzBMT"
      }
    },
    {
      "cell_type": "markdown",
      "source": [
        "#### **Resíduos versus variável independente (Exogeneidade)**"
      ],
      "metadata": {
        "id": "1YaA3AqpzUNR"
      }
    },
    {
      "cell_type": "markdown",
      "source": [
        "Exogeneidade significa que as variáveis independentes não são afetadas pelos erros do modelo. Ao verificar os resíduos em relação à variável independente, procuramos garantir que não haja padrões ou tendências nos resíduos em relação aos valores da variável independente."
      ],
      "metadata": {
        "id": "7h7fIhjN1j2R"
      }
    },
    {
      "cell_type": "code",
      "source": [
        "# Criando uma cópia do df original\n",
        "df_resid = df.copy()\n",
        "\n",
        "# Adicionando no df cópia uma coluna apenas com os resíduos\n",
        "df_resid[\"residuo\"] = model.resid\n",
        "\n",
        "# Criando um gráfico com a variável independente e os resíduos\n",
        "plt.scatter(df_resid[\"Publicidade\"], df_resid[\"residuo\"])\n",
        "\n",
        "# Traçando uma linha no 0\n",
        "#plt.axhline(0, color='red')\n",
        "\n",
        "# Definindo o título do gráfico\n",
        "plt.title('Residuals vs Publicidade')\n",
        "\n",
        "# Editando o título dos eixos\n",
        "plt.xlabel('Publicidade');\n",
        "plt.ylabel('Residuals');\n",
        "\n",
        "# Exibindo o gráfico\n",
        "plt.show()"
      ],
      "metadata": {
        "colab": {
          "base_uri": "https://localhost:8080/",
          "height": 472
        },
        "id": "3uO0rq5BzUWx",
        "outputId": "d7c5b508-a836-417e-ffc5-61c5576e69e2"
      },
      "execution_count": null,
      "outputs": [
        {
          "output_type": "display_data",
          "data": {
            "text/plain": [
              "<Figure size 640x480 with 1 Axes>"
            ],
            "image/png": "[encoded data removed]"
          },
          "metadata": {}
        }
      ]
    },
    {
      "cell_type": "markdown",
      "source": [
        "Os dados estão bem espalhados e não encontramos nenhum padrão. Aparentemente, eles são bem aleatórios, então podemos seguir adiante."
      ],
      "metadata": {
        "id": "xfSqMEVc1SZB"
      }
    },
    {
      "cell_type": "markdown",
      "source": [
        "#### **Autocorrelação de resíduos**"
      ],
      "metadata": {
        "id": "YeYFxJ_f2Fs4"
      }
    },
    {
      "cell_type": "markdown",
      "source": [
        "O teste de Durbin-Watson é usado para detectar autocorrelação nos resíduos de um modelo de regressão. Ele fornece um valor entre 0 e 4. Um valor próximo de 2 sugere ausência de autocorrelação, enquanto valores significativamente menores ou maiores indicam autocorrelação positiva ou negativa, respectivamente.\n",
        "\n",
        "Um Durbin-Watson entre 1 e 3 é considerado aceitável."
      ],
      "metadata": {
        "id": "BvKIPrUK2ap6"
      }
    },
    {
      "cell_type": "code",
      "source": [
        "# Aplicando o Durbin Watson\n",
        "durbin_watson(model.resid)"
      ],
      "metadata": {
        "colab": {
          "base_uri": "https://localhost:8080/"
        },
        "id": "pX9dfzxH2HM5",
        "outputId": "5f6ade7f-e956-4337-c496-bfa7ae41b072"
      },
      "execution_count": null,
      "outputs": [
        {
          "output_type": "execute_result",
          "data": {
            "text/plain": [
              "1.9889098630777218"
            ]
          },
          "metadata": {},
          "execution_count": 26
        }
      ]
    },
    {
      "cell_type": "markdown",
      "source": [
        "Aqui conseguimos um Durbin de 1,98, o que está bem próximo de 2. Portanto, podemos concluir que não existe autocorrelação nos resíduos."
      ],
      "metadata": {
        "id": "hkljzeuG2scB"
      }
    },
    {
      "cell_type": "markdown",
      "source": [
        "#### **Multicolonearidade**"
      ],
      "metadata": {
        "id": "dAYywq9R_Ss9"
      }
    },
    {
      "cell_type": "markdown",
      "source": [
        "Nesse caso, temos apenas uma variável independente; portanto, não será necessário realizar nenhum tipo de análise nessa parte."
      ],
      "metadata": {
        "id": "eIbBA4te_Uet"
      }
    },
    {
      "cell_type": "markdown",
      "source": [
        "#### **Resíduos tem distribuição normal**"
      ],
      "metadata": {
        "id": "QSqET5-FAl1s"
      }
    },
    {
      "cell_type": "markdown",
      "source": [
        "A distribuição normal dos resíduos implica que os resíduos do modelo de regressão estão normalmente distribuídos.\n",
        "\n",
        "Vamos ver duas formas de observar se a distribuição é ou não normal. A primeira será utilizando o teste de Shapiro-Wilk a um nível de confiança de 0,05."
      ],
      "metadata": {
        "id": "-A2S9xAPAs_k"
      }
    },
    {
      "cell_type": "code",
      "source": [
        "# Aplicando o teste\n",
        "shapiro_test = shapiro(model.resid)\n",
        "\n",
        "# Exibindo o resultado\n",
        "print(\"Shapiro-Wilk test p-value:\", shapiro_test[1])"
      ],
      "metadata": {
        "colab": {
          "base_uri": "https://localhost:8080/"
        },
        "id": "GY88QdDOA2gs",
        "outputId": "2e9349e2-bc54-4efe-82f6-246970930d95"
      },
      "execution_count": null,
      "outputs": [
        {
          "output_type": "stream",
          "name": "stdout",
          "text": [
            "Shapiro-Wilk test p-value: 0.3856242001056671\n"
          ]
        }
      ]
    },
    {
      "cell_type": "markdown",
      "source": [
        "Obtivemos um p-valor maior que o nosso alpha, logo não temos evidências suficientes para rejeitar a hipótese nula de que os resíduos seguem uma distribuição normal. Isso indica que os resíduos do modelo de regressão podem ser considerados normalmente distribuídos."
      ],
      "metadata": {
        "id": "7jcVjDEvBvOl"
      }
    },
    {
      "cell_type": "markdown",
      "source": [
        "Vamos observar utilizando um gráfico."
      ],
      "metadata": {
        "id": "vXt1KImlCAKs"
      }
    },
    {
      "cell_type": "code",
      "source": [
        "# Gerando o gráfico QQ Plot dos resíduos\n",
        "sm.ProbPlot(model.resid).qqplot(line='s')\n",
        "\n",
        "# Definindo o título do gráfico\n",
        "plt.title('QQ Plot dos Resíduos')\n",
        "\n",
        "# Exibindo o gráfico\n",
        "plt.show()"
      ],
      "metadata": {
        "colab": {
          "base_uri": "https://localhost:8080/",
          "height": 489
        },
        "id": "gJI0PiLPBKvM",
        "outputId": "4a4d9c2e-dd6b-4b92-a5a1-395b58a998e3"
      },
      "execution_count": null,
      "outputs": [
        {
          "output_type": "execute_result",
          "data": {
            "text/plain": [
              "Text(0.5, 1.0, 'QQ Plot dos Resíduos')"
            ]
          },
          "metadata": {},
          "execution_count": 37
        },
        {
          "output_type": "display_data",
          "data": {
            "text/plain": [
              "<Figure size 640x480 with 1 Axes>"
            ],
            "image/png": "[encoded data removed]"
          },
          "metadata": {}
        }
      ]
    },
    {
      "cell_type": "markdown",
      "source": [
        "Como podemos notar, os pontos do QQ plot estão seguindo a linha, o que sugere que os resíduos estão seguindo uma distribuição normal."
      ],
      "metadata": {
        "id": "fyxu5TJHCcds"
      }
    },
    {
      "cell_type": "markdown",
      "source": [
        "Então, até agora, nossos dados estão aptos a passarem por uma análise OLS de confiança. Dito isso, vamos partir para a avaliação."
      ],
      "metadata": {
        "id": "wK6BSdRLCrdT"
      }
    },
    {
      "cell_type": "markdown",
      "source": [
        "#### **Avaliando o modelo**"
      ],
      "metadata": {
        "id": "YvgeIkZFC5uU"
      }
    },
    {
      "cell_type": "markdown",
      "source": [
        "Avaliando a qualidade geral do modelo."
      ],
      "metadata": {
        "id": "XjYRu06CDEuE"
      }
    },
    {
      "cell_type": "code",
      "source": [
        "# Imprimindo um resumo estatístico do modelo de regressão\n",
        "print(model.summary())"
      ],
      "metadata": {
        "colab": {
          "base_uri": "https://localhost:8080/"
        },
        "id": "HAPfKJQYDAyt",
        "outputId": "2391f4a6-074d-42a8-ca12-f741e5c4b04c"
      },
      "execution_count": null,
      "outputs": [
        {
          "output_type": "stream",
          "name": "stdout",
          "text": [
            "                            OLS Regression Results                            \n",
            "==============================================================================\n",
            "Dep. Variable:                 Vendas   R-squared:                       0.363\n",
            "Model:                            OLS   Adj. R-squared:                  0.360\n",
            "Method:                 Least Squares   F-statistic:                     105.6\n",
            "Date:                Fri, 22 Mar 2024   Prob (F-statistic):           6.94e-20\n",
            "Time:                        21:23:57   Log-Likelihood:                -1030.4\n",
            "No. Observations:                 187   AIC:                             2065.\n",
            "Df Residuals:                     185   BIC:                             2071.\n",
            "Df Model:                           1                                         \n",
            "Covariance Type:            nonrobust                                         \n",
            "===============================================================================\n",
            "                  coef    std err          t      P>|t|      [0.025      0.975]\n",
            "-------------------------------------------------------------------------------\n",
            "Intercept     125.1795      7.431     16.845      0.000     110.518     139.841\n",
            "Publicidade     0.1049      0.010     10.276      0.000       0.085       0.125\n",
            "==============================================================================\n",
            "Omnibus:                        1.750   Durbin-Watson:                   1.989\n",
            "Prob(Omnibus):                  0.417   Jarque-Bera (JB):                1.470\n",
            "Skew:                           0.048   Prob(JB):                        0.480\n",
            "Kurtosis:                       2.576   Cond. No.                     1.23e+03\n",
            "==============================================================================\n",
            "\n",
            "Notes:\n",
            "[1] Standard Errors assume that the covariance matrix of the errors is correctly specified.\n",
            "[2] The condition number is large, 1.23e+03. This might indicate that there are\n",
            "strong multicollinearity or other numerical problems.\n"
          ]
        }
      ]
    },
    {
      "cell_type": "markdown",
      "source": [
        "Vamos analisar os seguintes pontos:\n",
        "\n",
        "- **P-valor Publicidade**: Temos um p-valor menor que um alpha de 0,05, então podemos considerar o coeficiente de publicidade estatisticamente significativo, que nesse caso seria de 0.1049.\n",
        "\n",
        "- **Fórmula**\n",
        "  ```\n",
        "  Vendas = 0.1049 * Publicidade + 125.1795\n",
        "  ```\n",
        "\n",
        "  * A cada 1 real investido em publicidade, aumentamos 0.1049 nas vendas.\n",
        "\n",
        "  * Mesmo investindo 0 em publicidade, ainda esperaríamos uma venda de 125.1795.\n",
        "\n",
        "- **R-quadrado**: Temos um R-quadrado de 0.363 e um R-quadrado ajustado de 0.360, então podemos afirmar que o investimento em publicidade explica cerca de 36% das vendas.\n",
        "\n",
        "- **Prob (F-statistic)**: Obtivemos um valor bem abaixo de um nível de significância de 0.05, logo podemos afirmar que a variável publicidade está melhorando o nosso modelo."
      ],
      "metadata": {
        "id": "jDsjuXymDOfc"
      }
    },
    {
      "cell_type": "markdown",
      "source": [
        "Agora vamos observar o nosso intervalo de confiança."
      ],
      "metadata": {
        "id": "8n6v8PBiOKbt"
      }
    },
    {
      "cell_type": "code",
      "source": [
        "from statsmodels.sandbox.regression.predstd import wls_prediction_std\n",
        "\n",
        "#intervalo de confiança\n",
        "_, confidence_interval_lower, confidence_interval_upper = wls_prediction_std(model)\n",
        "\n",
        "#cria tamanho da imagem\n",
        "fig, ax = plt.subplots(figsize=(10,7))\n",
        "\n",
        "#plota os pontos\n",
        "ax.plot(X, y, 'o', label=\"data\")\n",
        "\n",
        "#plota linha predito\n",
        "ax.plot(X, model.predict(), 'g--.', label=\"OLS\")\n",
        "\n",
        "# plot intervalo de confiança\n",
        "ax.plot(X, confidence_interval_upper, 'r--')\n",
        "ax.plot(X, confidence_interval_lower, 'r--')\n",
        "\n",
        "# Exibindo o gráfico\n",
        "plt.show()"
      ],
      "metadata": {
        "colab": {
          "base_uri": "https://localhost:8080/",
          "height": 599
        },
        "id": "WP9kKpFDOxyt",
        "outputId": "7741ce86-6702-4a3e-ea69-d6d2f2e96afe"
      },
      "execution_count": null,
      "outputs": [
        {
          "output_type": "display_data",
          "data": {
            "text/plain": [
              "<Figure size 1000x700 with 1 Axes>"
            ],
            "image/png": "[encoded data removed]"
          },
          "metadata": {}
        }
      ]
    },
    {
      "cell_type": "markdown",
      "source": [
        "A linha do meio é a linha traçada pelo nosso modelo, enquanto as linhas superiores e inferiores referem-se aos nossos intervalos de confiança."
      ],
      "metadata": {
        "id": "-OUJksidO3IF"
      }
    },
    {
      "cell_type": "markdown",
      "source": [
        "### **Prever o FEV**"
      ],
      "metadata": {
        "id": "7kcAgu7-POEB"
      }
    },
    {
      "cell_type": "markdown",
      "source": [
        "Nessa parte iremos utilizar uma nova base de dados, nossos objetivos são entender se as variáveis são explicativas e prever o FEV. Para isso vamos começar importando os dados e alguns pacotes que utilizaremos ao decorrer dessa nossa previsão"
      ],
      "metadata": {
        "id": "0O5Yy4YoPS_Y"
      }
    },
    {
      "cell_type": "code",
      "source": [
        "# Acesso ao drive\n",
        "from google.colab import drive\n",
        "drive.mount('/content/drive')"
      ],
      "metadata": {
        "colab": {
          "base_uri": "https://localhost:8080/"
        },
        "id": "-UM6fckUPwO_",
        "outputId": "9951ac88-9c7f-42fb-904b-03ddff621a4e"
      },
      "execution_count": 1,
      "outputs": [
        {
          "output_type": "stream",
          "name": "stdout",
          "text": [
            "Mounted at /content/drive\n"
          ]
        }
      ]
    },
    {
      "cell_type": "code",
      "source": [
        "# Funções matemáticas\n",
        "import numpy as np\n",
        "\n",
        "# Manipulação de dados\n",
        "import pandas as pd\n",
        "\n",
        "# Visualização de dados\n",
        "import matplotlib.pyplot as plt\n",
        "import seaborn as sns\n",
        "\n",
        "# Funções estatísticas\n",
        "from statsmodels.formula.api import ols\n",
        "from statsmodels.stats.diagnostic import het_breuschpagan\n",
        "from statsmodels.stats.stattools import durbin_watson\n",
        "from scipy.stats import shapiro\n",
        "import scipy.stats as stats\n",
        "import statsmodels.api as sm"
      ],
      "metadata": {
        "id": "NbCU7qnZPx7p"
      },
      "execution_count": 2,
      "outputs": []
    },
    {
      "cell_type": "markdown",
      "source": [
        "Agora que já realizamos todas as importações necessarias vamos realizar a importação dos dados"
      ],
      "metadata": {
        "id": "juCCHsHAPz2Q"
      }
    },
    {
      "cell_type": "code",
      "source": [
        "# Importando o dataset\n",
        "df = pd.read_csv('/content/drive/MyDrive/Estatística para ciência de dados/df_fev2.csv')\n",
        "\n",
        "# Exibindo os dados\n",
        "df.head()"
      ],
      "metadata": {
        "colab": {
          "base_uri": "https://localhost:8080/",
          "height": 206
        },
        "id": "gmVMXHwFP33A",
        "outputId": "fb17708d-afcd-4f71-f9fc-dce8faa316e8"
      },
      "execution_count": 7,
      "outputs": [
        {
          "output_type": "execute_result",
          "data": {
            "text/plain": [
              "   Unnamed: 0  age    fev  height        sex smoke\n",
              "0           0    9  1.953    68.0  masculino   sim\n",
              "1           1   10  2.236    66.0   feminino   sim\n",
              "2           3   13  2.216    68.0   feminino   sim\n",
              "3           4   12  1.953    66.0  masculino   sim\n",
              "4           5   10  2.198    62.0   feminino   sim"
            ],
            "text/html": [
              "\n",
              "  <div id=\"df-68307650-9481-461f-a15e-591c5ef0e506\" class=\"colab-df-container\">\n",
              "    <div>\n",
              "<style scoped>\n",
              "    .dataframe tbody tr th:only-of-type {\n",
              "        vertical-align: middle;\n",
              "    }\n",
              "\n",
              "    .dataframe tbody tr th {\n",
              "        vertical-align: top;\n",
              "    }\n",
              "\n",
              "    .dataframe thead th {\n",
              "        text-align: right;\n",
              "    }\n",
              "</style>\n",
              "<table border=\"1\" class=\"dataframe\">\n",
              "  <thead>\n",
              "    <tr style=\"text-align: right;\">\n",
              "      <th></th>\n",
              "      <th>Unnamed: 0</th>\n",
              "      <th>age</th>\n",
              "      <th>fev</th>\n",
              "      <th>height</th>\n",
              "      <th>sex</th>\n",
              "      <th>smoke</th>\n",
              "    </tr>\n",
              "  </thead>\n",
              "  <tbody>\n",
              "    <tr>\n",
              "      <th>0</th>\n",
              "      <td>0</td>\n",
              "      <td>9</td>\n",
              "      <td>1.953</td>\n",
              "      <td>68.0</td>\n",
              "      <td>masculino</td>\n",
              "      <td>sim</td>\n",
              "    </tr>\n",
              "    <tr>\n",
              "      <th>1</th>\n",
              "      <td>1</td>\n",
              "      <td>10</td>\n",
              "      <td>2.236</td>\n",
              "      <td>66.0</td>\n",
              "      <td>feminino</td>\n",
              "      <td>sim</td>\n",
              "    </tr>\n",
              "    <tr>\n",
              "      <th>2</th>\n",
              "      <td>3</td>\n",
              "      <td>13</td>\n",
              "      <td>2.216</td>\n",
              "      <td>68.0</td>\n",
              "      <td>feminino</td>\n",
              "      <td>sim</td>\n",
              "    </tr>\n",
              "    <tr>\n",
              "      <th>3</th>\n",
              "      <td>4</td>\n",
              "      <td>12</td>\n",
              "      <td>1.953</td>\n",
              "      <td>66.0</td>\n",
              "      <td>masculino</td>\n",
              "      <td>sim</td>\n",
              "    </tr>\n",
              "    <tr>\n",
              "      <th>4</th>\n",
              "      <td>5</td>\n",
              "      <td>10</td>\n",
              "      <td>2.198</td>\n",
              "      <td>62.0</td>\n",
              "      <td>feminino</td>\n",
              "      <td>sim</td>\n",
              "    </tr>\n",
              "  </tbody>\n",
              "</table>\n",
              "</div>\n",
              "    <div class=\"colab-df-buttons\">\n",
              "\n",
              "  <div class=\"colab-df-container\">\n",
              "    <button class=\"colab-df-convert\" onclick=\"convertToInteractive('df-68307650-9481-461f-a15e-591c5ef0e506')\"\n",
              "            title=\"Convert this dataframe to an interactive table.\"\n",
              "            style=\"display:none;\">\n",
              "\n",
              "  <svg xmlns=\"http://www.w3.org/2000/svg\" height=\"24px\" viewBox=\"0 -960 960 960\">\n",
              "    <path d=\"M120-120v-720h720v720H120Zm60-500h600v-160H180v160Zm220 220h160v-160H400v160Zm0 220h160v-160H400v160ZM180-400h160v-160H180v160Zm440 0h160v-160H620v160ZM180-180h160v-160H180v160Zm440 0h160v-160H620v160Z\"/>\n",
              "  </svg>\n",
              "    </button>\n",
              "\n",
              "  <style>\n",
              "    .colab-df-container {\n",
              "      display:flex;\n",
              "      gap: 12px;\n",
              "    }\n",
              "\n",
              "    .colab-df-convert {\n",
              "      background-color: #E8F0FE;\n",
              "      border: none;\n",
              "      border-radius: 50%;\n",
              "      cursor: pointer;\n",
              "      display: none;\n",
              "      fill: #1967D2;\n",
              "      height: 32px;\n",
              "      padding: 0 0 0 0;\n",
              "      width: 32px;\n",
              "    }\n",
              "\n",
              "    .colab-df-convert:hover {\n",
              "      background-color: #E2EBFA;\n",
              "      box-shadow: 0px 1px 2px rgba(60, 64, 67, 0.3), 0px 1px 3px 1px rgba(60, 64, 67, 0.15);\n",
              "      fill: #174EA6;\n",
              "    }\n",
              "\n",
              "    .colab-df-buttons div {\n",
              "      margin-bottom: 4px;\n",
              "    }\n",
              "\n",
              "    [theme=dark] .colab-df-convert {\n",
              "      background-color: #3B4455;\n",
              "      fill: #D2E3FC;\n",
              "    }\n",
              "\n",
              "    [theme=dark] .colab-df-convert:hover {\n",
              "      background-color: #434B5C;\n",
              "      box-shadow: 0px 1px 3px 1px rgba(0, 0, 0, 0.15);\n",
              "      filter: drop-shadow(0px 1px 2px rgba(0, 0, 0, 0.3));\n",
              "      fill: #FFFFFF;\n",
              "    }\n",
              "  </style>\n",
              "\n",
              "    <script>\n",
              "      const buttonEl =\n",
              "        document.querySelector('#df-68307650-9481-461f-a15e-591c5ef0e506 button.colab-df-convert');\n",
              "      buttonEl.style.display =\n",
              "        google.colab.kernel.accessAllowed ? 'block' : 'none';\n",
              "\n",
              "      async function convertToInteractive(key) {\n",
              "        const element = document.querySelector('#df-68307650-9481-461f-a15e-591c5ef0e506');\n",
              "        const dataTable =\n",
              "          await google.colab.kernel.invokeFunction('convertToInteractive',\n",
              "                                                    [key], {});\n",
              "        if (!dataTable) return;\n",
              "\n",
              "        const docLinkHtml = 'Like what you see? Visit the ' +\n",
              "          '<a target=\"_blank\" href=https://colab.research.google.com/notebooks/data_table.ipynb>data table notebook</a>'\n",
              "          + ' to learn more about interactive tables.';\n",
              "        element.innerHTML = '';\n",
              "        dataTable['output_type'] = 'display_data';\n",
              "        await google.colab.output.renderOutput(dataTable, element);\n",
              "        const docLink = document.createElement('div');\n",
              "        docLink.innerHTML = docLinkHtml;\n",
              "        element.appendChild(docLink);\n",
              "      }\n",
              "    </script>\n",
              "  </div>\n",
              "\n",
              "\n",
              "<div id=\"df-3a138847-2a94-4ec4-955b-56086fac9fae\">\n",
              "  <button class=\"colab-df-quickchart\" onclick=\"quickchart('df-3a138847-2a94-4ec4-955b-56086fac9fae')\"\n",
              "            title=\"Suggest charts\"\n",
              "            style=\"display:none;\">\n",
              "\n",
              "<svg xmlns=\"http://www.w3.org/2000/svg\" height=\"24px\"viewBox=\"0 0 24 24\"\n",
              "     width=\"24px\">\n",
              "    <g>\n",
              "        <path d=\"M19 3H5c-1.1 0-2 .9-2 2v14c0 1.1.9 2 2 2h14c1.1 0 2-.9 2-2V5c0-1.1-.9-2-2-2zM9 17H7v-7h2v7zm4 0h-2V7h2v10zm4 0h-2v-4h2v4z\"/>\n",
              "    </g>\n",
              "</svg>\n",
              "  </button>\n",
              "\n",
              "<style>\n",
              "  .colab-df-quickchart {\n",
              "      --bg-color: #E8F0FE;\n",
              "      --fill-color: #1967D2;\n",
              "      --hover-bg-color: #E2EBFA;\n",
              "      --hover-fill-color: #174EA6;\n",
              "      --disabled-fill-color: #AAA;\n",
              "      --disabled-bg-color: #DDD;\n",
              "  }\n",
              "\n",
              "  [theme=dark] .colab-df-quickchart {\n",
              "      --bg-color: #3B4455;\n",
              "      --fill-color: #D2E3FC;\n",
              "      --hover-bg-color: #434B5C;\n",
              "      --hover-fill-color: #FFFFFF;\n",
              "      --disabled-bg-color: #3B4455;\n",
              "      --disabled-fill-color: #666;\n",
              "  }\n",
              "\n",
              "  .colab-df-quickchart {\n",
              "    background-color: var(--bg-color);\n",
              "    border: none;\n",
              "    border-radius: 50%;\n",
              "    cursor: pointer;\n",
              "    display: none;\n",
              "    fill: var(--fill-color);\n",
              "    height: 32px;\n",
              "    padding: 0;\n",
              "    width: 32px;\n",
              "  }\n",
              "\n",
              "  .colab-df-quickchart:hover {\n",
              "    background-color: var(--hover-bg-color);\n",
              "    box-shadow: 0 1px 2px rgba(60, 64, 67, 0.3), 0 1px 3px 1px rgba(60, 64, 67, 0.15);\n",
              "    fill: var(--button-hover-fill-color);\n",
              "  }\n",
              "\n",
              "  .colab-df-quickchart-complete:disabled,\n",
              "  .colab-df-quickchart-complete:disabled:hover {\n",
              "    background-color: var(--disabled-bg-color);\n",
              "    fill: var(--disabled-fill-color);\n",
              "    box-shadow: none;\n",
              "  }\n",
              "\n",
              "  .colab-df-spinner {\n",
              "    border: 2px solid var(--fill-color);\n",
              "    border-color: transparent;\n",
              "    border-bottom-color: var(--fill-color);\n",
              "    animation:\n",
              "      spin 1s steps(1) infinite;\n",
              "  }\n",
              "\n",
              "  @keyframes spin {\n",
              "    0% {\n",
              "      border-color: transparent;\n",
              "      border-bottom-color: var(--fill-color);\n",
              "      border-left-color: var(--fill-color);\n",
              "    }\n",
              "    20% {\n",
              "      border-color: transparent;\n",
              "      border-left-color: var(--fill-color);\n",
              "      border-top-color: var(--fill-color);\n",
              "    }\n",
              "    30% {\n",
              "      border-color: transparent;\n",
              "      border-left-color: var(--fill-color);\n",
              "      border-top-color: var(--fill-color);\n",
              "      border-right-color: var(--fill-color);\n",
              "    }\n",
              "    40% {\n",
              "      border-color: transparent;\n",
              "      border-right-color: var(--fill-color);\n",
              "      border-top-color: var(--fill-color);\n",
              "    }\n",
              "    60% {\n",
              "      border-color: transparent;\n",
              "      border-right-color: var(--fill-color);\n",
              "    }\n",
              "    80% {\n",
              "      border-color: transparent;\n",
              "      border-right-color: var(--fill-color);\n",
              "      border-bottom-color: var(--fill-color);\n",
              "    }\n",
              "    90% {\n",
              "      border-color: transparent;\n",
              "      border-bottom-color: var(--fill-color);\n",
              "    }\n",
              "  }\n",
              "</style>\n",
              "\n",
              "  <script>\n",
              "    async function quickchart(key) {\n",
              "      const quickchartButtonEl =\n",
              "        document.querySelector('#' + key + ' button');\n",
              "      quickchartButtonEl.disabled = true;  // To prevent multiple clicks.\n",
              "      quickchartButtonEl.classList.add('colab-df-spinner');\n",
              "      try {\n",
              "        const charts = await google.colab.kernel.invokeFunction(\n",
              "            'suggestCharts', [key], {});\n",
              "      } catch (error) {\n",
              "        console.error('Error during call to suggestCharts:', error);\n",
              "      }\n",
              "      quickchartButtonEl.classList.remove('colab-df-spinner');\n",
              "      quickchartButtonEl.classList.add('colab-df-quickchart-complete');\n",
              "    }\n",
              "    (() => {\n",
              "      let quickchartButtonEl =\n",
              "        document.querySelector('#df-3a138847-2a94-4ec4-955b-56086fac9fae button');\n",
              "      quickchartButtonEl.style.display =\n",
              "        google.colab.kernel.accessAllowed ? 'block' : 'none';\n",
              "    })();\n",
              "  </script>\n",
              "</div>\n",
              "\n",
              "    </div>\n",
              "  </div>\n"
            ],
            "application/vnd.google.colaboratory.intrinsic+json": {
              "type": "dataframe",
              "variable_name": "df",
              "summary": "{\n  \"name\": \"df\",\n  \"rows\": 654,\n  \"fields\": [\n    {\n      \"column\": \"Unnamed: 0\",\n      \"properties\": {\n        \"dtype\": \"number\",\n        \"std\": 190,\n        \"min\": 0,\n        \"max\": 660,\n        \"num_unique_values\": 654,\n        \"samples\": [\n          335,\n          80,\n          508\n        ],\n        \"semantic_type\": \"\",\n        \"description\": \"\"\n      }\n    },\n    {\n      \"column\": \"age\",\n      \"properties\": {\n        \"dtype\": \"number\",\n        \"std\": 2,\n        \"min\": 3,\n        \"max\": 19,\n        \"num_unique_values\": 17,\n        \"samples\": [\n          9,\n          10,\n          7\n        ],\n        \"semantic_type\": \"\",\n        \"description\": \"\"\n      }\n    },\n    {\n      \"column\": \"fev\",\n      \"properties\": {\n        \"dtype\": \"number\",\n        \"std\": 0.8404719964546364,\n        \"min\": 0.791,\n        \"max\": 5.633,\n        \"num_unique_values\": 569,\n        \"samples\": [\n          2.993,\n          2.069,\n          2.65\n        ],\n        \"semantic_type\": \"\",\n        \"description\": \"\"\n      }\n    },\n    {\n      \"column\": \"height\",\n      \"properties\": {\n        \"dtype\": \"number\",\n        \"std\": 5.671439981629049,\n        \"min\": 46.0,\n        \"max\": 74.0,\n        \"num_unique_values\": 56,\n        \"samples\": [\n          68.0,\n          53.0,\n          46.5\n        ],\n        \"semantic_type\": \"\",\n        \"description\": \"\"\n      }\n    },\n    {\n      \"column\": \"sex\",\n      \"properties\": {\n        \"dtype\": \"category\",\n        \"num_unique_values\": 2,\n        \"samples\": [\n          \"feminino\",\n          \"masculino\"\n        ],\n        \"semantic_type\": \"\",\n        \"description\": \"\"\n      }\n    },\n    {\n      \"column\": \"smoke\",\n      \"properties\": {\n        \"dtype\": \"category\",\n        \"num_unique_values\": 2,\n        \"samples\": [\n          \"nao\",\n          \"sim\"\n        ],\n        \"semantic_type\": \"\",\n        \"description\": \"\"\n      }\n    }\n  ]\n}"
            }
          },
          "metadata": {},
          "execution_count": 7
        }
      ]
    },
    {
      "cell_type": "markdown",
      "source": [
        "Agora que os dados foram devidamentes importados vamos partir para uma analise exploratoria do mesmo"
      ],
      "metadata": {
        "id": "tAwsjAnnQN__"
      }
    },
    {
      "cell_type": "markdown",
      "source": [
        "#### **Analise exploratoria**"
      ],
      "metadata": {
        "id": "9f5Do2-MQhrQ"
      }
    },
    {
      "cell_type": "markdown",
      "source": [
        "Vamos começar observando um panorama geral dos nossos dados"
      ],
      "metadata": {
        "id": "RJgA_fF3QrL3"
      }
    },
    {
      "cell_type": "code",
      "source": [
        "# Resumo estatístico\n",
        "df.describe()"
      ],
      "metadata": {
        "colab": {
          "base_uri": "https://localhost:8080/",
          "height": 300
        },
        "id": "L_rK5l7TQv0f",
        "outputId": "0a473ea0-74ce-401c-f0b4-d5a87cbb5d76"
      },
      "execution_count": 8,
      "outputs": [
        {
          "output_type": "execute_result",
          "data": {
            "text/plain": [
              "       Unnamed: 0         age         fev      height\n",
              "count  654.000000  654.000000  654.000000  654.000000\n",
              "mean   329.466361    9.905199    2.617127   61.113761\n",
              "std    190.157470    2.930048    0.840472    5.671440\n",
              "min      0.000000    3.000000    0.791000   46.000000\n",
              "25%    165.250000    8.000000    1.973000   57.000000\n",
              "50%    328.500000   10.000000    2.531000   61.500000\n",
              "75%    494.750000   12.000000    3.109500   65.475000\n",
              "max    660.000000   19.000000    5.633000   74.000000"
            ],
            "text/html": [
              "\n",
              "  <div id=\"df-f2cea0be-4189-48bd-89b2-562b9825cd1a\" class=\"colab-df-container\">\n",
              "    <div>\n",
              "<style scoped>\n",
              "    .dataframe tbody tr th:only-of-type {\n",
              "        vertical-align: middle;\n",
              "    }\n",
              "\n",
              "    .dataframe tbody tr th {\n",
              "        vertical-align: top;\n",
              "    }\n",
              "\n",
              "    .dataframe thead th {\n",
              "        text-align: right;\n",
              "    }\n",
              "</style>\n",
              "<table border=\"1\" class=\"dataframe\">\n",
              "  <thead>\n",
              "    <tr style=\"text-align: right;\">\n",
              "      <th></th>\n",
              "      <th>Unnamed: 0</th>\n",
              "      <th>age</th>\n",
              "      <th>fev</th>\n",
              "      <th>height</th>\n",
              "    </tr>\n",
              "  </thead>\n",
              "  <tbody>\n",
              "    <tr>\n",
              "      <th>count</th>\n",
              "      <td>654.000000</td>\n",
              "      <td>654.000000</td>\n",
              "      <td>654.000000</td>\n",
              "      <td>654.000000</td>\n",
              "    </tr>\n",
              "    <tr>\n",
              "      <th>mean</th>\n",
              "      <td>329.466361</td>\n",
              "      <td>9.905199</td>\n",
              "      <td>2.617127</td>\n",
              "      <td>61.113761</td>\n",
              "    </tr>\n",
              "    <tr>\n",
              "      <th>std</th>\n",
              "      <td>190.157470</td>\n",
              "      <td>2.930048</td>\n",
              "      <td>0.840472</td>\n",
              "      <td>5.671440</td>\n",
              "    </tr>\n",
              "    <tr>\n",
              "      <th>min</th>\n",
              "      <td>0.000000</td>\n",
              "      <td>3.000000</td>\n",
              "      <td>0.791000</td>\n",
              "      <td>46.000000</td>\n",
              "    </tr>\n",
              "    <tr>\n",
              "      <th>25%</th>\n",
              "      <td>165.250000</td>\n",
              "      <td>8.000000</td>\n",
              "      <td>1.973000</td>\n",
              "      <td>57.000000</td>\n",
              "    </tr>\n",
              "    <tr>\n",
              "      <th>50%</th>\n",
              "      <td>328.500000</td>\n",
              "      <td>10.000000</td>\n",
              "      <td>2.531000</td>\n",
              "      <td>61.500000</td>\n",
              "    </tr>\n",
              "    <tr>\n",
              "      <th>75%</th>\n",
              "      <td>494.750000</td>\n",
              "      <td>12.000000</td>\n",
              "      <td>3.109500</td>\n",
              "      <td>65.475000</td>\n",
              "    </tr>\n",
              "    <tr>\n",
              "      <th>max</th>\n",
              "      <td>660.000000</td>\n",
              "      <td>19.000000</td>\n",
              "      <td>5.633000</td>\n",
              "      <td>74.000000</td>\n",
              "    </tr>\n",
              "  </tbody>\n",
              "</table>\n",
              "</div>\n",
              "    <div class=\"colab-df-buttons\">\n",
              "\n",
              "  <div class=\"colab-df-container\">\n",
              "    <button class=\"colab-df-convert\" onclick=\"convertToInteractive('df-f2cea0be-4189-48bd-89b2-562b9825cd1a')\"\n",
              "            title=\"Convert this dataframe to an interactive table.\"\n",
              "            style=\"display:none;\">\n",
              "\n",
              "  <svg xmlns=\"http://www.w3.org/2000/svg\" height=\"24px\" viewBox=\"0 -960 960 960\">\n",
              "    <path d=\"M120-120v-720h720v720H120Zm60-500h600v-160H180v160Zm220 220h160v-160H400v160Zm0 220h160v-160H400v160ZM180-400h160v-160H180v160Zm440 0h160v-160H620v160ZM180-180h160v-160H180v160Zm440 0h160v-160H620v160Z\"/>\n",
              "  </svg>\n",
              "    </button>\n",
              "\n",
              "  <style>\n",
              "    .colab-df-container {\n",
              "      display:flex;\n",
              "      gap: 12px;\n",
              "    }\n",
              "\n",
              "    .colab-df-convert {\n",
              "      background-color: #E8F0FE;\n",
              "      border: none;\n",
              "      border-radius: 50%;\n",
              "      cursor: pointer;\n",
              "      display: none;\n",
              "      fill: #1967D2;\n",
              "      height: 32px;\n",
              "      padding: 0 0 0 0;\n",
              "      width: 32px;\n",
              "    }\n",
              "\n",
              "    .colab-df-convert:hover {\n",
              "      background-color: #E2EBFA;\n",
              "      box-shadow: 0px 1px 2px rgba(60, 64, 67, 0.3), 0px 1px 3px 1px rgba(60, 64, 67, 0.15);\n",
              "      fill: #174EA6;\n",
              "    }\n",
              "\n",
              "    .colab-df-buttons div {\n",
              "      margin-bottom: 4px;\n",
              "    }\n",
              "\n",
              "    [theme=dark] .colab-df-convert {\n",
              "      background-color: #3B4455;\n",
              "      fill: #D2E3FC;\n",
              "    }\n",
              "\n",
              "    [theme=dark] .colab-df-convert:hover {\n",
              "      background-color: #434B5C;\n",
              "      box-shadow: 0px 1px 3px 1px rgba(0, 0, 0, 0.15);\n",
              "      filter: drop-shadow(0px 1px 2px rgba(0, 0, 0, 0.3));\n",
              "      fill: #FFFFFF;\n",
              "    }\n",
              "  </style>\n",
              "\n",
              "    <script>\n",
              "      const buttonEl =\n",
              "        document.querySelector('#df-f2cea0be-4189-48bd-89b2-562b9825cd1a button.colab-df-convert');\n",
              "      buttonEl.style.display =\n",
              "        google.colab.kernel.accessAllowed ? 'block' : 'none';\n",
              "\n",
              "      async function convertToInteractive(key) {\n",
              "        const element = document.querySelector('#df-f2cea0be-4189-48bd-89b2-562b9825cd1a');\n",
              "        const dataTable =\n",
              "          await google.colab.kernel.invokeFunction('convertToInteractive',\n",
              "                                                    [key], {});\n",
              "        if (!dataTable) return;\n",
              "\n",
              "        const docLinkHtml = 'Like what you see? Visit the ' +\n",
              "          '<a target=\"_blank\" href=https://colab.research.google.com/notebooks/data_table.ipynb>data table notebook</a>'\n",
              "          + ' to learn more about interactive tables.';\n",
              "        element.innerHTML = '';\n",
              "        dataTable['output_type'] = 'display_data';\n",
              "        await google.colab.output.renderOutput(dataTable, element);\n",
              "        const docLink = document.createElement('div');\n",
              "        docLink.innerHTML = docLinkHtml;\n",
              "        element.appendChild(docLink);\n",
              "      }\n",
              "    </script>\n",
              "  </div>\n",
              "\n",
              "\n",
              "<div id=\"df-600bff01-9f3e-462a-b5bf-895a3d0ac66c\">\n",
              "  <button class=\"colab-df-quickchart\" onclick=\"quickchart('df-600bff01-9f3e-462a-b5bf-895a3d0ac66c')\"\n",
              "            title=\"Suggest charts\"\n",
              "            style=\"display:none;\">\n",
              "\n",
              "<svg xmlns=\"http://www.w3.org/2000/svg\" height=\"24px\"viewBox=\"0 0 24 24\"\n",
              "     width=\"24px\">\n",
              "    <g>\n",
              "        <path d=\"M19 3H5c-1.1 0-2 .9-2 2v14c0 1.1.9 2 2 2h14c1.1 0 2-.9 2-2V5c0-1.1-.9-2-2-2zM9 17H7v-7h2v7zm4 0h-2V7h2v10zm4 0h-2v-4h2v4z\"/>\n",
              "    </g>\n",
              "</svg>\n",
              "  </button>\n",
              "\n",
              "<style>\n",
              "  .colab-df-quickchart {\n",
              "      --bg-color: #E8F0FE;\n",
              "      --fill-color: #1967D2;\n",
              "      --hover-bg-color: #E2EBFA;\n",
              "      --hover-fill-color: #174EA6;\n",
              "      --disabled-fill-color: #AAA;\n",
              "      --disabled-bg-color: #DDD;\n",
              "  }\n",
              "\n",
              "  [theme=dark] .colab-df-quickchart {\n",
              "      --bg-color: #3B4455;\n",
              "      --fill-color: #D2E3FC;\n",
              "      --hover-bg-color: #434B5C;\n",
              "      --hover-fill-color: #FFFFFF;\n",
              "      --disabled-bg-color: #3B4455;\n",
              "      --disabled-fill-color: #666;\n",
              "  }\n",
              "\n",
              "  .colab-df-quickchart {\n",
              "    background-color: var(--bg-color);\n",
              "    border: none;\n",
              "    border-radius: 50%;\n",
              "    cursor: pointer;\n",
              "    display: none;\n",
              "    fill: var(--fill-color);\n",
              "    height: 32px;\n",
              "    padding: 0;\n",
              "    width: 32px;\n",
              "  }\n",
              "\n",
              "  .colab-df-quickchart:hover {\n",
              "    background-color: var(--hover-bg-color);\n",
              "    box-shadow: 0 1px 2px rgba(60, 64, 67, 0.3), 0 1px 3px 1px rgba(60, 64, 67, 0.15);\n",
              "    fill: var(--button-hover-fill-color);\n",
              "  }\n",
              "\n",
              "  .colab-df-quickchart-complete:disabled,\n",
              "  .colab-df-quickchart-complete:disabled:hover {\n",
              "    background-color: var(--disabled-bg-color);\n",
              "    fill: var(--disabled-fill-color);\n",
              "    box-shadow: none;\n",
              "  }\n",
              "\n",
              "  .colab-df-spinner {\n",
              "    border: 2px solid var(--fill-color);\n",
              "    border-color: transparent;\n",
              "    border-bottom-color: var(--fill-color);\n",
              "    animation:\n",
              "      spin 1s steps(1) infinite;\n",
              "  }\n",
              "\n",
              "  @keyframes spin {\n",
              "    0% {\n",
              "      border-color: transparent;\n",
              "      border-bottom-color: var(--fill-color);\n",
              "      border-left-color: var(--fill-color);\n",
              "    }\n",
              "    20% {\n",
              "      border-color: transparent;\n",
              "      border-left-color: var(--fill-color);\n",
              "      border-top-color: var(--fill-color);\n",
              "    }\n",
              "    30% {\n",
              "      border-color: transparent;\n",
              "      border-left-color: var(--fill-color);\n",
              "      border-top-color: var(--fill-color);\n",
              "      border-right-color: var(--fill-color);\n",
              "    }\n",
              "    40% {\n",
              "      border-color: transparent;\n",
              "      border-right-color: var(--fill-color);\n",
              "      border-top-color: var(--fill-color);\n",
              "    }\n",
              "    60% {\n",
              "      border-color: transparent;\n",
              "      border-right-color: var(--fill-color);\n",
              "    }\n",
              "    80% {\n",
              "      border-color: transparent;\n",
              "      border-right-color: var(--fill-color);\n",
              "      border-bottom-color: var(--fill-color);\n",
              "    }\n",
              "    90% {\n",
              "      border-color: transparent;\n",
              "      border-bottom-color: var(--fill-color);\n",
              "    }\n",
              "  }\n",
              "</style>\n",
              "\n",
              "  <script>\n",
              "    async function quickchart(key) {\n",
              "      const quickchartButtonEl =\n",
              "        document.querySelector('#' + key + ' button');\n",
              "      quickchartButtonEl.disabled = true;  // To prevent multiple clicks.\n",
              "      quickchartButtonEl.classList.add('colab-df-spinner');\n",
              "      try {\n",
              "        const charts = await google.colab.kernel.invokeFunction(\n",
              "            'suggestCharts', [key], {});\n",
              "      } catch (error) {\n",
              "        console.error('Error during call to suggestCharts:', error);\n",
              "      }\n",
              "      quickchartButtonEl.classList.remove('colab-df-spinner');\n",
              "      quickchartButtonEl.classList.add('colab-df-quickchart-complete');\n",
              "    }\n",
              "    (() => {\n",
              "      let quickchartButtonEl =\n",
              "        document.querySelector('#df-600bff01-9f3e-462a-b5bf-895a3d0ac66c button');\n",
              "      quickchartButtonEl.style.display =\n",
              "        google.colab.kernel.accessAllowed ? 'block' : 'none';\n",
              "    })();\n",
              "  </script>\n",
              "</div>\n",
              "\n",
              "    </div>\n",
              "  </div>\n"
            ],
            "application/vnd.google.colaboratory.intrinsic+json": {
              "type": "dataframe",
              "summary": "{\n  \"name\": \"df\",\n  \"rows\": 8,\n  \"fields\": [\n    {\n      \"column\": \"Unnamed: 0\",\n      \"properties\": {\n        \"dtype\": \"number\",\n        \"std\": 236.78605677965433,\n        \"min\": 0.0,\n        \"max\": 660.0,\n        \"num_unique_values\": 8,\n        \"samples\": [\n          329.4663608562691,\n          328.5,\n          654.0\n        ],\n        \"semantic_type\": \"\",\n        \"description\": \"\"\n      }\n    },\n    {\n      \"column\": \"age\",\n      \"properties\": {\n        \"dtype\": \"number\",\n        \"std\": 228.00694982855907,\n        \"min\": 2.9300477247755734,\n        \"max\": 654.0,\n        \"num_unique_values\": 8,\n        \"samples\": [\n          9.905198776758409,\n          10.0,\n          654.0\n        ],\n        \"semantic_type\": \"\",\n        \"description\": \"\"\n      }\n    },\n    {\n      \"column\": \"fev\",\n      \"properties\": {\n        \"dtype\": \"number\",\n        \"std\": 230.34529091113637,\n        \"min\": 0.791,\n        \"max\": 654.0,\n        \"num_unique_values\": 8,\n        \"samples\": [\n          2.6171269113149846,\n          2.531,\n          654.0\n        ],\n        \"semantic_type\": \"\",\n        \"description\": \"\"\n      }\n    },\n    {\n      \"column\": \"height\",\n      \"properties\": {\n        \"dtype\": \"number\",\n        \"std\": 213.51701132892768,\n        \"min\": 5.671439981629049,\n        \"max\": 654.0,\n        \"num_unique_values\": 8,\n        \"samples\": [\n          61.11376146788991,\n          61.5,\n          654.0\n        ],\n        \"semantic_type\": \"\",\n        \"description\": \"\"\n      }\n    }\n  ]\n}"
            }
          },
          "metadata": {},
          "execution_count": 8
        }
      ]
    },
    {
      "cell_type": "markdown",
      "source": [
        "A variavel 'Unnamed' não será utilizada então vamos excluir essa coluna"
      ],
      "metadata": {
        "id": "wSCqDDJJQ2Jv"
      }
    },
    {
      "cell_type": "code",
      "source": [
        "# Realizando a exclusão da coluna\n",
        "df = df.drop('Unnamed: 0', axis = 1)\n",
        "\n",
        "# Resumo estatístico\n",
        "df.describe()"
      ],
      "metadata": {
        "colab": {
          "base_uri": "https://localhost:8080/",
          "height": 300
        },
        "id": "PWo0CBbiQ8qg",
        "outputId": "cfcdacf5-2485-495c-e671-d659b0640275"
      },
      "execution_count": 9,
      "outputs": [
        {
          "output_type": "execute_result",
          "data": {
            "text/plain": [
              "              age         fev      height\n",
              "count  654.000000  654.000000  654.000000\n",
              "mean     9.905199    2.617127   61.113761\n",
              "std      2.930048    0.840472    5.671440\n",
              "min      3.000000    0.791000   46.000000\n",
              "25%      8.000000    1.973000   57.000000\n",
              "50%     10.000000    2.531000   61.500000\n",
              "75%     12.000000    3.109500   65.475000\n",
              "max     19.000000    5.633000   74.000000"
            ],
            "text/html": [
              "\n",
              "  <div id=\"df-9a1e634f-6b38-4501-9d41-5f16b8a60dac\" class=\"colab-df-container\">\n",
              "    <div>\n",
              "<style scoped>\n",
              "    .dataframe tbody tr th:only-of-type {\n",
              "        vertical-align: middle;\n",
              "    }\n",
              "\n",
              "    .dataframe tbody tr th {\n",
              "        vertical-align: top;\n",
              "    }\n",
              "\n",
              "    .dataframe thead th {\n",
              "        text-align: right;\n",
              "    }\n",
              "</style>\n",
              "<table border=\"1\" class=\"dataframe\">\n",
              "  <thead>\n",
              "    <tr style=\"text-align: right;\">\n",
              "      <th></th>\n",
              "      <th>age</th>\n",
              "      <th>fev</th>\n",
              "      <th>height</th>\n",
              "    </tr>\n",
              "  </thead>\n",
              "  <tbody>\n",
              "    <tr>\n",
              "      <th>count</th>\n",
              "      <td>654.000000</td>\n",
              "      <td>654.000000</td>\n",
              "      <td>654.000000</td>\n",
              "    </tr>\n",
              "    <tr>\n",
              "      <th>mean</th>\n",
              "      <td>9.905199</td>\n",
              "      <td>2.617127</td>\n",
              "      <td>61.113761</td>\n",
              "    </tr>\n",
              "    <tr>\n",
              "      <th>std</th>\n",
              "      <td>2.930048</td>\n",
              "      <td>0.840472</td>\n",
              "      <td>5.671440</td>\n",
              "    </tr>\n",
              "    <tr>\n",
              "      <th>min</th>\n",
              "      <td>3.000000</td>\n",
              "      <td>0.791000</td>\n",
              "      <td>46.000000</td>\n",
              "    </tr>\n",
              "    <tr>\n",
              "      <th>25%</th>\n",
              "      <td>8.000000</td>\n",
              "      <td>1.973000</td>\n",
              "      <td>57.000000</td>\n",
              "    </tr>\n",
              "    <tr>\n",
              "      <th>50%</th>\n",
              "      <td>10.000000</td>\n",
              "      <td>2.531000</td>\n",
              "      <td>61.500000</td>\n",
              "    </tr>\n",
              "    <tr>\n",
              "      <th>75%</th>\n",
              "      <td>12.000000</td>\n",
              "      <td>3.109500</td>\n",
              "      <td>65.475000</td>\n",
              "    </tr>\n",
              "    <tr>\n",
              "      <th>max</th>\n",
              "      <td>19.000000</td>\n",
              "      <td>5.633000</td>\n",
              "      <td>74.000000</td>\n",
              "    </tr>\n",
              "  </tbody>\n",
              "</table>\n",
              "</div>\n",
              "    <div class=\"colab-df-buttons\">\n",
              "\n",
              "  <div class=\"colab-df-container\">\n",
              "    <button class=\"colab-df-convert\" onclick=\"convertToInteractive('df-9a1e634f-6b38-4501-9d41-5f16b8a60dac')\"\n",
              "            title=\"Convert this dataframe to an interactive table.\"\n",
              "            style=\"display:none;\">\n",
              "\n",
              "  <svg xmlns=\"http://www.w3.org/2000/svg\" height=\"24px\" viewBox=\"0 -960 960 960\">\n",
              "    <path d=\"M120-120v-720h720v720H120Zm60-500h600v-160H180v160Zm220 220h160v-160H400v160Zm0 220h160v-160H400v160ZM180-400h160v-160H180v160Zm440 0h160v-160H620v160ZM180-180h160v-160H180v160Zm440 0h160v-160H620v160Z\"/>\n",
              "  </svg>\n",
              "    </button>\n",
              "\n",
              "  <style>\n",
              "    .colab-df-container {\n",
              "      display:flex;\n",
              "      gap: 12px;\n",
              "    }\n",
              "\n",
              "    .colab-df-convert {\n",
              "      background-color: #E8F0FE;\n",
              "      border: none;\n",
              "      border-radius: 50%;\n",
              "      cursor: pointer;\n",
              "      display: none;\n",
              "      fill: #1967D2;\n",
              "      height: 32px;\n",
              "      padding: 0 0 0 0;\n",
              "      width: 32px;\n",
              "    }\n",
              "\n",
              "    .colab-df-convert:hover {\n",
              "      background-color: #E2EBFA;\n",
              "      box-shadow: 0px 1px 2px rgba(60, 64, 67, 0.3), 0px 1px 3px 1px rgba(60, 64, 67, 0.15);\n",
              "      fill: #174EA6;\n",
              "    }\n",
              "\n",
              "    .colab-df-buttons div {\n",
              "      margin-bottom: 4px;\n",
              "    }\n",
              "\n",
              "    [theme=dark] .colab-df-convert {\n",
              "      background-color: #3B4455;\n",
              "      fill: #D2E3FC;\n",
              "    }\n",
              "\n",
              "    [theme=dark] .colab-df-convert:hover {\n",
              "      background-color: #434B5C;\n",
              "      box-shadow: 0px 1px 3px 1px rgba(0, 0, 0, 0.15);\n",
              "      filter: drop-shadow(0px 1px 2px rgba(0, 0, 0, 0.3));\n",
              "      fill: #FFFFFF;\n",
              "    }\n",
              "  </style>\n",
              "\n",
              "    <script>\n",
              "      const buttonEl =\n",
              "        document.querySelector('#df-9a1e634f-6b38-4501-9d41-5f16b8a60dac button.colab-df-convert');\n",
              "      buttonEl.style.display =\n",
              "        google.colab.kernel.accessAllowed ? 'block' : 'none';\n",
              "\n",
              "      async function convertToInteractive(key) {\n",
              "        const element = document.querySelector('#df-9a1e634f-6b38-4501-9d41-5f16b8a60dac');\n",
              "        const dataTable =\n",
              "          await google.colab.kernel.invokeFunction('convertToInteractive',\n",
              "                                                    [key], {});\n",
              "        if (!dataTable) return;\n",
              "\n",
              "        const docLinkHtml = 'Like what you see? Visit the ' +\n",
              "          '<a target=\"_blank\" href=https://colab.research.google.com/notebooks/data_table.ipynb>data table notebook</a>'\n",
              "          + ' to learn more about interactive tables.';\n",
              "        element.innerHTML = '';\n",
              "        dataTable['output_type'] = 'display_data';\n",
              "        await google.colab.output.renderOutput(dataTable, element);\n",
              "        const docLink = document.createElement('div');\n",
              "        docLink.innerHTML = docLinkHtml;\n",
              "        element.appendChild(docLink);\n",
              "      }\n",
              "    </script>\n",
              "  </div>\n",
              "\n",
              "\n",
              "<div id=\"df-343b4ef6-3aab-4b29-8b8b-386c1a4f2b41\">\n",
              "  <button class=\"colab-df-quickchart\" onclick=\"quickchart('df-343b4ef6-3aab-4b29-8b8b-386c1a4f2b41')\"\n",
              "            title=\"Suggest charts\"\n",
              "            style=\"display:none;\">\n",
              "\n",
              "<svg xmlns=\"http://www.w3.org/2000/svg\" height=\"24px\"viewBox=\"0 0 24 24\"\n",
              "     width=\"24px\">\n",
              "    <g>\n",
              "        <path d=\"M19 3H5c-1.1 0-2 .9-2 2v14c0 1.1.9 2 2 2h14c1.1 0 2-.9 2-2V5c0-1.1-.9-2-2-2zM9 17H7v-7h2v7zm4 0h-2V7h2v10zm4 0h-2v-4h2v4z\"/>\n",
              "    </g>\n",
              "</svg>\n",
              "  </button>\n",
              "\n",
              "<style>\n",
              "  .colab-df-quickchart {\n",
              "      --bg-color: #E8F0FE;\n",
              "      --fill-color: #1967D2;\n",
              "      --hover-bg-color: #E2EBFA;\n",
              "      --hover-fill-color: #174EA6;\n",
              "      --disabled-fill-color: #AAA;\n",
              "      --disabled-bg-color: #DDD;\n",
              "  }\n",
              "\n",
              "  [theme=dark] .colab-df-quickchart {\n",
              "      --bg-color: #3B4455;\n",
              "      --fill-color: #D2E3FC;\n",
              "      --hover-bg-color: #434B5C;\n",
              "      --hover-fill-color: #FFFFFF;\n",
              "      --disabled-bg-color: #3B4455;\n",
              "      --disabled-fill-color: #666;\n",
              "  }\n",
              "\n",
              "  .colab-df-quickchart {\n",
              "    background-color: var(--bg-color);\n",
              "    border: none;\n",
              "    border-radius: 50%;\n",
              "    cursor: pointer;\n",
              "    display: none;\n",
              "    fill: var(--fill-color);\n",
              "    height: 32px;\n",
              "    padding: 0;\n",
              "    width: 32px;\n",
              "  }\n",
              "\n",
              "  .colab-df-quickchart:hover {\n",
              "    background-color: var(--hover-bg-color);\n",
              "    box-shadow: 0 1px 2px rgba(60, 64, 67, 0.3), 0 1px 3px 1px rgba(60, 64, 67, 0.15);\n",
              "    fill: var(--button-hover-fill-color);\n",
              "  }\n",
              "\n",
              "  .colab-df-quickchart-complete:disabled,\n",
              "  .colab-df-quickchart-complete:disabled:hover {\n",
              "    background-color: var(--disabled-bg-color);\n",
              "    fill: var(--disabled-fill-color);\n",
              "    box-shadow: none;\n",
              "  }\n",
              "\n",
              "  .colab-df-spinner {\n",
              "    border: 2px solid var(--fill-color);\n",
              "    border-color: transparent;\n",
              "    border-bottom-color: var(--fill-color);\n",
              "    animation:\n",
              "      spin 1s steps(1) infinite;\n",
              "  }\n",
              "\n",
              "  @keyframes spin {\n",
              "    0% {\n",
              "      border-color: transparent;\n",
              "      border-bottom-color: var(--fill-color);\n",
              "      border-left-color: var(--fill-color);\n",
              "    }\n",
              "    20% {\n",
              "      border-color: transparent;\n",
              "      border-left-color: var(--fill-color);\n",
              "      border-top-color: var(--fill-color);\n",
              "    }\n",
              "    30% {\n",
              "      border-color: transparent;\n",
              "      border-left-color: var(--fill-color);\n",
              "      border-top-color: var(--fill-color);\n",
              "      border-right-color: var(--fill-color);\n",
              "    }\n",
              "    40% {\n",
              "      border-color: transparent;\n",
              "      border-right-color: var(--fill-color);\n",
              "      border-top-color: var(--fill-color);\n",
              "    }\n",
              "    60% {\n",
              "      border-color: transparent;\n",
              "      border-right-color: var(--fill-color);\n",
              "    }\n",
              "    80% {\n",
              "      border-color: transparent;\n",
              "      border-right-color: var(--fill-color);\n",
              "      border-bottom-color: var(--fill-color);\n",
              "    }\n",
              "    90% {\n",
              "      border-color: transparent;\n",
              "      border-bottom-color: var(--fill-color);\n",
              "    }\n",
              "  }\n",
              "</style>\n",
              "\n",
              "  <script>\n",
              "    async function quickchart(key) {\n",
              "      const quickchartButtonEl =\n",
              "        document.querySelector('#' + key + ' button');\n",
              "      quickchartButtonEl.disabled = true;  // To prevent multiple clicks.\n",
              "      quickchartButtonEl.classList.add('colab-df-spinner');\n",
              "      try {\n",
              "        const charts = await google.colab.kernel.invokeFunction(\n",
              "            'suggestCharts', [key], {});\n",
              "      } catch (error) {\n",
              "        console.error('Error during call to suggestCharts:', error);\n",
              "      }\n",
              "      quickchartButtonEl.classList.remove('colab-df-spinner');\n",
              "      quickchartButtonEl.classList.add('colab-df-quickchart-complete');\n",
              "    }\n",
              "    (() => {\n",
              "      let quickchartButtonEl =\n",
              "        document.querySelector('#df-343b4ef6-3aab-4b29-8b8b-386c1a4f2b41 button');\n",
              "      quickchartButtonEl.style.display =\n",
              "        google.colab.kernel.accessAllowed ? 'block' : 'none';\n",
              "    })();\n",
              "  </script>\n",
              "</div>\n",
              "\n",
              "    </div>\n",
              "  </div>\n"
            ],
            "application/vnd.google.colaboratory.intrinsic+json": {
              "type": "dataframe",
              "summary": "{\n  \"name\": \"df\",\n  \"rows\": 8,\n  \"fields\": [\n    {\n      \"column\": \"age\",\n      \"properties\": {\n        \"dtype\": \"number\",\n        \"std\": 228.00694982855907,\n        \"min\": 2.9300477247755734,\n        \"max\": 654.0,\n        \"num_unique_values\": 8,\n        \"samples\": [\n          9.905198776758409,\n          10.0,\n          654.0\n        ],\n        \"semantic_type\": \"\",\n        \"description\": \"\"\n      }\n    },\n    {\n      \"column\": \"fev\",\n      \"properties\": {\n        \"dtype\": \"number\",\n        \"std\": 230.34529091113637,\n        \"min\": 0.791,\n        \"max\": 654.0,\n        \"num_unique_values\": 8,\n        \"samples\": [\n          2.6171269113149846,\n          2.531,\n          654.0\n        ],\n        \"semantic_type\": \"\",\n        \"description\": \"\"\n      }\n    },\n    {\n      \"column\": \"height\",\n      \"properties\": {\n        \"dtype\": \"number\",\n        \"std\": 213.51701132892768,\n        \"min\": 5.671439981629049,\n        \"max\": 654.0,\n        \"num_unique_values\": 8,\n        \"samples\": [\n          61.11376146788991,\n          61.5,\n          654.0\n        ],\n        \"semantic_type\": \"\",\n        \"description\": \"\"\n      }\n    }\n  ]\n}"
            }
          },
          "metadata": {},
          "execution_count": 9
        }
      ]
    },
    {
      "cell_type": "markdown",
      "source": [
        "Podemos observar que as variaveis age, fev e height possuem uma média bem proxima a mediana indicando que possivelmente esses dados apresentam uma distribuição bem proxima a uma normal\n",
        "\n",
        "A julgar pelos valores minimos e maximos aparentemente não existem nenhum valor descrepante (outliers)\n",
        "\n",
        "Ao todo temos 3 variaveis numericas e observando nosso head acima temos 2 variaveis categoricas"
      ],
      "metadata": {
        "id": "Qaj7Sp3ZRVuo"
      }
    },
    {
      "cell_type": "code",
      "source": [
        "# Observando algumas informações sobre nosso DF\n",
        "df.info()"
      ],
      "metadata": {
        "colab": {
          "base_uri": "https://localhost:8080/"
        },
        "id": "0MWozM2eSK9B",
        "outputId": "f2f9ee69-9fd7-4d49-9f8c-faf8bb7549e0"
      },
      "execution_count": 6,
      "outputs": [
        {
          "output_type": "stream",
          "name": "stdout",
          "text": [
            "<class 'pandas.core.frame.DataFrame'>\n",
            "RangeIndex: 654 entries, 0 to 653\n",
            "Data columns (total 5 columns):\n",
            " #   Column  Non-Null Count  Dtype  \n",
            "---  ------  --------------  -----  \n",
            " 0   age     654 non-null    int64  \n",
            " 1   fev     654 non-null    float64\n",
            " 2   height  654 non-null    float64\n",
            " 3   sex     654 non-null    object \n",
            " 4   smoke   654 non-null    object \n",
            "dtypes: float64(2), int64(1), object(2)\n",
            "memory usage: 25.7+ KB\n"
          ]
        }
      ]
    },
    {
      "cell_type": "markdown",
      "source": [
        "Como suspeitavamos anteriormente temos 5 variaveis ao todo, sendo:\n",
        "\n",
        "Varivaies numericas: age, fev e height\n",
        "\n",
        "Variaveis categoricas: sex, smoke"
      ],
      "metadata": {
        "id": "TD9x03JuSQjh"
      }
    }
  ]
}