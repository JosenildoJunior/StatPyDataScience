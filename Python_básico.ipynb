{
  "nbformat": 4,
  "nbformat_minor": 0,
  "metadata": {
    "colab": {
      "provenance": [],
      "collapsed_sections": [
        "4ztrhRW2Akxg"
      ],
      "authorship_tag": "ABX9TyMk/oDbVb/H9rIQQawBKpjW",
      "include_colab_link": true
    },
    "kernelspec": {
      "name": "python3",
      "display_name": "Python 3"
    },
    "language_info": {
      "name": "python"
    }
  },
  "cells": [
    {
      "cell_type": "markdown",
      "metadata": {
        "id": "view-in-github",
        "colab_type": "text"
      },
      "source": [
        "<a href=\"https://colab.research.google.com/github/JosenildoJunior/StatPyDataScience/blob/main/Python_b%C3%A1sico.ipynb\" target=\"_parent\"><img src=\"https://colab.research.google.com/assets/colab-badge.svg\" alt=\"Open In Colab\"/></a>"
      ]
    },
    {
      "cell_type": "markdown",
      "source": [
        "# Estatística com Python: Um Guia para Estudos e Solução de Problemas\n"
      ],
      "metadata": {
        "id": "mn7HfIIdzcrR"
      }
    },
    {
      "cell_type": "markdown",
      "source": [
        "## Neste módulo, vamos aprender sobre os conceitos básicos de Python, incluindo:\n",
        "\n",
        "* **Variáveis:** Como declarar e usar variáveis para armazenar dados.\n",
        "* **Tipos de dados:** Os diferentes tipos de dados que podem ser armazenados em variáveis.\n",
        "* **Operadores:** Como realizar operações matemáticas e lógicas.\n",
        "* **Estruturas de controle:** Como controlar o fluxo de execução de seu código."
      ],
      "metadata": {
        "id": "OfdLi8no0of7"
      }
    },
    {
      "cell_type": "markdown",
      "source": [
        "## **Variáveis**"
      ],
      "metadata": {
        "id": "4ztrhRW2Akxg"
      }
    },
    {
      "cell_type": "markdown",
      "source": [
        "Uma variável é um local na memória do computador destinado ao armazenamento de valores. Para ilustrar esse conceito, considere o exemplo de armazenar a idade de uma pessoa, como 27 anos, em uma variável. No contexto do Python, como poderíamos realizar essa operação?"
      ],
      "metadata": {
        "id": "kpQTRkt4BBAh"
      }
    },
    {
      "cell_type": "code",
      "source": [
        "# Criando a variável\n",
        "idade = 27"
      ],
      "metadata": {
        "id": "8miR14uZAm8N"
      },
      "execution_count": 2,
      "outputs": []
    },
    {
      "cell_type": "markdown",
      "source": [
        "Podemos observar que para criar uma variável, basta escolher um nome e, em seguida, utilizar o símbolo de igual (=), que funciona como uma atribuição. Portanto, ao usar essa abordagem, criamos uma variável chamada 'idade' e a associamos ao valor 27."
      ],
      "metadata": {
        "id": "0AotZ86UB5ZG"
      }
    },
    {
      "cell_type": "markdown",
      "source": [
        "Agora que já declaramos essa variavel podemos acessar o seu valor em qualquer momento que seja necessario, utilizaremos a função 'print' para exibir o valor presente em deteminada variavel"
      ],
      "metadata": {
        "id": "4C8D6_YTCVdR"
      }
    },
    {
      "cell_type": "code",
      "source": [
        "# Exibindo o valor\n",
        "print(idade)"
      ],
      "metadata": {
        "colab": {
          "base_uri": "https://localhost:8080/"
        },
        "id": "yj5DFZ8oCrzA",
        "outputId": "8cd87374-62f0-443b-ac8b-1e7125fafdfb"
      },
      "execution_count": 3,
      "outputs": [
        {
          "output_type": "stream",
          "name": "stdout",
          "text": [
            "27\n"
          ]
        }
      ]
    },
    {
      "cell_type": "markdown",
      "source": [
        "Dessa forma podemos imprimir o valor da variável sempre que necessario, é importante lembrarmos que depois de declarada, uma variável pode ser acessada e modificada usando seu nome, vamos alterar o valor da idade para 20"
      ],
      "metadata": {
        "id": "lvPENQ-ZCv4u"
      }
    },
    {
      "cell_type": "code",
      "source": [
        "# Alterando o valor da variável\n",
        "idade = 20"
      ],
      "metadata": {
        "id": "37qEXiYPDEFG"
      },
      "execution_count": 4,
      "outputs": []
    },
    {
      "cell_type": "markdown",
      "source": [
        "Para realizar essa alteração bastou utilizarmos a mesma variavel porém ao atribuirmos um valor diferente ela automaticamente subescreve o antigo valor que ela continha, dessa forma a varipável idade passou a ter o valor de 20, diferentemente de quando criamos pela primeira vez onde o valor era de 27"
      ],
      "metadata": {
        "id": "mCnS-4r8DJCU"
      }
    },
    {
      "cell_type": "code",
      "source": [
        "# Exibindo o valor\n",
        "print(idade)"
      ],
      "metadata": {
        "colab": {
          "base_uri": "https://localhost:8080/"
        },
        "id": "gQ8axG6TDasb",
        "outputId": "14a6cd11-f55e-46a5-c26f-5b39ea724cab"
      },
      "execution_count": 5,
      "outputs": [
        {
          "output_type": "stream",
          "name": "stdout",
          "text": [
            "20\n"
          ]
        }
      ]
    },
    {
      "cell_type": "markdown",
      "source": [
        "Podemos confirmar então que o valor da variável foi alterado, as variáveis são uma ferramenta fundamental na programação em Python. Elas nos permitem armazenar dados e manipular esses dados de forma eficiente"
      ],
      "metadata": {
        "id": "qde6SaKGDd2r"
      }
    },
    {
      "cell_type": "markdown",
      "source": [
        "## **Tipos de dados**"
      ],
      "metadata": {
        "id": "SzN5yWvU9M0O"
      }
    },
    {
      "cell_type": "code",
      "execution_count": null,
      "metadata": {
        "id": "CVmx-gJTzNIj"
      },
      "outputs": [],
      "source": [
        "# Em breve!!!"
      ]
    }
  ]
}