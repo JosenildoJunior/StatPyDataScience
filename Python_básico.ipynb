{
  "nbformat": 4,
  "nbformat_minor": 0,
  "metadata": {
    "colab": {
      "provenance": [],
      "collapsed_sections": [
        "4ztrhRW2Akxg",
        "SzN5yWvU9M0O",
        "5omOarakRumL",
        "ng3gqxvsSxzz",
        "5n_ZtomfUEwC",
        "IjE-KtdMRZZM",
        "wrLoJUHYX-lO",
        "eJRHPBWFa3wZ",
        "oj3HGQPI5jMq",
        "NtgxTb4K44qg",
        "4RyIm8cR7G4g",
        "vuSPyxQy77zx",
        "GLugMzTMAJCb",
        "_FszjS22EJYm",
        "qTseIXALLNMl",
        "TUiBrAadBm0x",
        "vHf3KZ9OGIgf",
        "-FdLAfloGzEj",
        "x5S4Yf-IIM6L",
        "cY3t3rbJIzSk",
        "kpK6juJhKaka"
      ],
      "authorship_tag": "ABX9TyNIE+LiKnQn9D/Pg5sMuwJ4",
      "include_colab_link": true
    },
    "kernelspec": {
      "name": "python3",
      "display_name": "Python 3"
    },
    "language_info": {
      "name": "python"
    }
  },
  "cells": [
    {
      "cell_type": "markdown",
      "metadata": {
        "id": "view-in-github",
        "colab_type": "text"
      },
      "source": [
        "<a href=\"https://colab.research.google.com/github/JosenildoJunior/StatPyDataScience/blob/main/Python_b%C3%A1sico.ipynb\" target=\"_parent\"><img src=\"https://colab.research.google.com/assets/colab-badge.svg\" alt=\"Open In Colab\"/></a>"
      ]
    },
    {
      "cell_type": "markdown",
      "source": [
        "# Estatística com Python: Um Guia para Estudos e Solução de Problemas\n"
      ],
      "metadata": {
        "id": "mn7HfIIdzcrR"
      }
    },
    {
      "cell_type": "markdown",
      "source": [
        "## Neste módulo, vamos aprender sobre os conceitos básicos de Python, incluindo:\n",
        "\n",
        "* **Variáveis:** Como declarar e usar variáveis para armazenar dados.\n",
        "* **Tipos de dados:** Os diferentes tipos de dados que podem ser armazenados em variáveis.\n",
        "* **Operadores:** Como realizar operações matemáticas e lógicas.\n",
        "* **Estruturas de controle:** Como controlar o fluxo de execução de seu código."
      ],
      "metadata": {
        "id": "OfdLi8no0of7"
      }
    },
    {
      "cell_type": "markdown",
      "source": [
        "## **Variáveis**"
      ],
      "metadata": {
        "id": "4ztrhRW2Akxg"
      }
    },
    {
      "cell_type": "markdown",
      "source": [
        "Uma variável é um local na memória do computador destinado ao armazenamento de valores. Para ilustrar esse conceito, considere o exemplo de armazenar a idade de uma pessoa, como 27 anos, em uma variável. No contexto do Python, como poderíamos realizar essa operação?"
      ],
      "metadata": {
        "id": "kpQTRkt4BBAh"
      }
    },
    {
      "cell_type": "code",
      "source": [
        "# Criando a variável\n",
        "idade = 27"
      ],
      "metadata": {
        "id": "8miR14uZAm8N"
      },
      "execution_count": null,
      "outputs": []
    },
    {
      "cell_type": "markdown",
      "source": [
        "Podemos observar que para criar uma variável, basta escolher um nome e, em seguida, utilizar o símbolo de igual (=), que funciona como uma atribuição. Portanto, ao usar essa abordagem, criamos uma variável chamada 'idade' e a associamos ao valor 27."
      ],
      "metadata": {
        "id": "0AotZ86UB5ZG"
      }
    },
    {
      "cell_type": "markdown",
      "source": [
        "Agora que a variável foi declarada, podemos acessar seu valor a qualquer momento necessário. Utilizaremos a função 'print' para exibir o valor contido na variável."
      ],
      "metadata": {
        "id": "4C8D6_YTCVdR"
      }
    },
    {
      "cell_type": "code",
      "source": [
        "# Exibindo o valor\n",
        "print(idade)"
      ],
      "metadata": {
        "colab": {
          "base_uri": "https://localhost:8080/"
        },
        "id": "yj5DFZ8oCrzA",
        "outputId": "8cd87374-62f0-443b-ac8b-1e7125fafdfb"
      },
      "execution_count": null,
      "outputs": [
        {
          "output_type": "stream",
          "name": "stdout",
          "text": [
            "27\n"
          ]
        }
      ]
    },
    {
      "cell_type": "markdown",
      "source": [
        "\n",
        "Dessa forma, podemos imprimir o valor da variável sempre que necessário. É importante lembrar que após ser declarada, uma variável pode ser acessada e modificada usando seu nome. Vamos alterar o valor da idade para 20."
      ],
      "metadata": {
        "id": "lvPENQ-ZCv4u"
      }
    },
    {
      "cell_type": "code",
      "source": [
        "# Alterando o valor da variável\n",
        "idade = 20"
      ],
      "metadata": {
        "id": "37qEXiYPDEFG"
      },
      "execution_count": null,
      "outputs": []
    },
    {
      "cell_type": "markdown",
      "source": [
        "Para realizar essa alteração, bastou utilizarmos a mesma variável, porém, ao atribuirmos um valor diferente, ela automaticamente sobrescreveu o antigo valor que continha. Dessa forma, a variável 'idade' passou a ter o valor de 20, diferentemente da primeira vez em que a criamos, quando seu valor era 27."
      ],
      "metadata": {
        "id": "mCnS-4r8DJCU"
      }
    },
    {
      "cell_type": "code",
      "source": [
        "# Exibindo o valor\n",
        "print(idade)"
      ],
      "metadata": {
        "colab": {
          "base_uri": "https://localhost:8080/"
        },
        "id": "gQ8axG6TDasb",
        "outputId": "14a6cd11-f55e-46a5-c26f-5b39ea724cab"
      },
      "execution_count": null,
      "outputs": [
        {
          "output_type": "stream",
          "name": "stdout",
          "text": [
            "20\n"
          ]
        }
      ]
    },
    {
      "cell_type": "markdown",
      "source": [
        "Podemos confirmar, então, que o valor da variável foi alterado. As variáveis são uma ferramenta fundamental na programação em Python, permitindo-nos armazenar dados e manipulá-los de forma eficiente."
      ],
      "metadata": {
        "id": "qde6SaKGDd2r"
      }
    },
    {
      "cell_type": "markdown",
      "source": [
        "## **Tipos de dados**"
      ],
      "metadata": {
        "id": "SzN5yWvU9M0O"
      }
    },
    {
      "cell_type": "markdown",
      "source": [
        "Os tipos de dados determinam o tipo de valor que pode ser armazenado em uma variável. Os tipos de dados mais comuns são:\n",
        "\n",
        "- Inteiro: armazena números inteiros, como 1, 2, 3, etc.\n",
        "- Ponto flutuante: armazena números de ponto flutuante, como 1.0, 2.5, 3.14159, etc.\n",
        "- Booleano: armazena valores lógicos, como True (verdadeiro) ou False (falso).\n",
        "- String: armazena texto, como \"Olá, mundo!\".\n",
        "- Date: armazenar informações de data, como (2024, 1, 10)\n",
        "\n"
      ],
      "metadata": {
        "id": "cVHNewKgPuli"
      }
    },
    {
      "cell_type": "markdown",
      "source": [
        "### **Int (Inteiros)**"
      ],
      "metadata": {
        "id": "5omOarakRumL"
      }
    },
    {
      "cell_type": "markdown",
      "source": [
        "Como já vimos anteriormente, variáveis do tipo int representam números inteiros, como a idade de alguém, por exemplo. Ao declararmos uma variável e atribuirmos a ela um valor numérico inteiro, ela será automaticamente do tipo int. Vamos observar com um exemplo:"
      ],
      "metadata": {
        "id": "OsYFY0F0Rw7g"
      }
    },
    {
      "cell_type": "code",
      "source": [
        "# Criando uma variável do tipo int\n",
        "gols = 2"
      ],
      "metadata": {
        "id": "WvkGNIHySEqv"
      },
      "execution_count": null,
      "outputs": []
    },
    {
      "cell_type": "markdown",
      "source": [
        "Criamos uma variável chamada 'gols' e atribuímos a ela um valor inteiro. Para garantir que essa variável seja do tipo int, podemos utilizar a função chamada 'type'. Esta função retornará o tipo da variável, seja qual for."
      ],
      "metadata": {
        "id": "n_KDrV9ySNwG"
      }
    },
    {
      "cell_type": "code",
      "source": [
        "# Observando o tipo da variável\n",
        "type(gols)"
      ],
      "metadata": {
        "colab": {
          "base_uri": "https://localhost:8080/"
        },
        "id": "M4cvY2_pSdQc",
        "outputId": "b6766da7-ed88-4c50-ceba-6b8b5343d45d"
      },
      "execution_count": null,
      "outputs": [
        {
          "output_type": "execute_result",
          "data": {
            "text/plain": [
              "int"
            ]
          },
          "metadata": {},
          "execution_count": 7
        }
      ]
    },
    {
      "cell_type": "markdown",
      "source": [
        "Ao observar o resultado da função 'type' e encontrar 'int', confirmamos que a variável é do tipo inteiro. Isso é uma maneira útil de verificar o tipo de variável que estamos manipulando em Python."
      ],
      "metadata": {
        "id": "kygsEUV-Sglz"
      }
    },
    {
      "cell_type": "markdown",
      "source": [
        "### **Float (Ponto flutuante)**"
      ],
      "metadata": {
        "id": "ng3gqxvsSxzz"
      }
    },
    {
      "cell_type": "markdown",
      "source": [
        "No tipo float, os dados armazenados representam números reais com casas decimais, como 1.0, 2.5 e 3.14159. Vamos explorar mais a fundo para uma compreensão mais ampla."
      ],
      "metadata": {
        "id": "mgH2T0DxS3JZ"
      }
    },
    {
      "cell_type": "code",
      "source": [
        "# Criando a variável do tipo float\n",
        "altura = 1.74"
      ],
      "metadata": {
        "id": "2XhD7regTX59"
      },
      "execution_count": null,
      "outputs": []
    },
    {
      "cell_type": "markdown",
      "source": [
        "Para exemplificar, criamos uma variável que recebe a altura de um indivíduo em metros. Por se tratar de um valor real, podemos concluir que é do tipo float, mas vamos confirmar.\n",
        "\n"
      ],
      "metadata": {
        "id": "NNgjN43iTgJ1"
      }
    },
    {
      "cell_type": "code",
      "source": [
        "# Observando o tipo da variável\n",
        "type(altura)"
      ],
      "metadata": {
        "colab": {
          "base_uri": "https://localhost:8080/"
        },
        "id": "mtWU6rGfTz0l",
        "outputId": "e6eafd67-228a-42ea-d6ff-0e3cbc69aefd"
      },
      "execution_count": null,
      "outputs": [
        {
          "output_type": "execute_result",
          "data": {
            "text/plain": [
              "float"
            ]
          },
          "metadata": {},
          "execution_count": 12
        }
      ]
    },
    {
      "cell_type": "markdown",
      "source": [
        "E é exatamente isso que confirmamos ao executarmos a função `type`. Percebemos que a saída foi float, confirmando que esse dado se trata de um valor do tipo float."
      ],
      "metadata": {
        "id": "Q19OAgWYT3BS"
      }
    },
    {
      "cell_type": "markdown",
      "source": [
        "### **Bool (Booleano)**"
      ],
      "metadata": {
        "id": "5n_ZtomfUEwC"
      }
    },
    {
      "cell_type": "markdown",
      "source": [
        "\n",
        "Os dados booleanos, ou bool, são dados que só podem receber dois valores: verdadeiro (True) ou falso (False). Eles são usados para representar valores lógicos, como a verdade ou falsidade de uma afirmação."
      ],
      "metadata": {
        "id": "XxhwIlxJUSZg"
      }
    },
    {
      "cell_type": "code",
      "source": [
        "# Criando a variável do tipo bool\n",
        "falso = False\n",
        "\n",
        "# Criando a variável do tipo bool\n",
        "verdadeiro = True\n",
        "\n",
        "# Criando a variável do tipo bool\n",
        "casa = False"
      ],
      "metadata": {
        "id": "0BxqqMnAUVkw"
      },
      "execution_count": null,
      "outputs": []
    },
    {
      "cell_type": "markdown",
      "source": [
        "É importante frisar que o tipo da variável é independente do nome. O que realmente importa para determinar o tipo da variável é o conteúdo. Neste exemplo, foram criadas três variáveis, todas recebendo valores booleanos, que podem ser verdadeiro ou falso. Apesar de terem nomes diferentes, os conteúdos são do mesmo tipo. Portanto, ao utilizarmos a função 'type', o resultado será o mesmo. Vamos conferir."
      ],
      "metadata": {
        "id": "ervCZShoUrBV"
      }
    },
    {
      "cell_type": "code",
      "source": [
        "# Observando o tipo da variável\n",
        "type(falso), type(verdadeiro), type(casa)"
      ],
      "metadata": {
        "colab": {
          "base_uri": "https://localhost:8080/"
        },
        "id": "U5f4raz1VHn6",
        "outputId": "851dec01-8a7c-4a4f-d905-d8b95a298e19"
      },
      "execution_count": null,
      "outputs": [
        {
          "output_type": "execute_result",
          "data": {
            "text/plain": [
              "(bool, bool, bool)"
            ]
          },
          "metadata": {},
          "execution_count": 14
        }
      ]
    },
    {
      "cell_type": "markdown",
      "source": [
        "Podemos observar, então, que em todos os casos o tipo de dado é o mesmo; ambas são do tipo booleano."
      ],
      "metadata": {
        "id": "lEM3gwc_VQxI"
      }
    },
    {
      "cell_type": "markdown",
      "source": [
        "### **String (Texto)**"
      ],
      "metadata": {
        "id": "IjE-KtdMRZZM"
      }
    },
    {
      "cell_type": "markdown",
      "source": [
        "Strings são dados do tipo texto; normalmente, esse tipo de dado está entre aspas. Logo, se declararmos uma variável com um nome qualquer e seu conteúdo estiver entre aspas (sejam elas simples ou duplas), isso implica que o conteúdo daquela variável será do tipo string. Vamos ver no exemplo a seguir."
      ],
      "metadata": {
        "id": "ZkgPuBRFPzXA"
      }
    },
    {
      "cell_type": "code",
      "execution_count": null,
      "metadata": {
        "id": "CVmx-gJTzNIj"
      },
      "outputs": [],
      "source": [
        "# Criando a variável do tipo string\n",
        "nome = 'Pepper'"
      ]
    },
    {
      "cell_type": "markdown",
      "source": [
        "Então, a nossa variável está criada, mas como posso ter certeza de que essa variável se trata realmente de uma variável do tipo texto? Para sanarmos essa dúvida, vamos utilizar novamente a função 'type'."
      ],
      "metadata": {
        "id": "Lw_0zvn1Q1ZB"
      }
    },
    {
      "cell_type": "code",
      "source": [
        "# Observando o tipo da variável\n",
        "type(nome)"
      ],
      "metadata": {
        "colab": {
          "base_uri": "https://localhost:8080/"
        },
        "id": "4cm-UiOQRKMO",
        "outputId": "5925a06b-bc5a-4650-ce67-f4da05444811"
      },
      "execution_count": null,
      "outputs": [
        {
          "output_type": "execute_result",
          "data": {
            "text/plain": [
              "str"
            ]
          },
          "metadata": {},
          "execution_count": 9
        }
      ]
    },
    {
      "cell_type": "markdown",
      "source": [
        "Dessa forma, podemos ter certeza do tipo de dados armazenado em qualquer variável que utilizemos essa função. Neste caso, o resultado foi 'str' ou string, logo podemos concluir que o tipo da variável é do tipo texto."
      ],
      "metadata": {
        "id": "8nesy6AiRMGc"
      }
    },
    {
      "cell_type": "markdown",
      "source": [
        "### **Datetime (Data)**"
      ],
      "metadata": {
        "id": "wrLoJUHYX-lO"
      }
    },
    {
      "cell_type": "markdown",
      "source": [
        "No Python, a variável do tipo date é usada para representar datas. Esta variável faz parte do módulo datetime na biblioteca padrão do Python. Ela é usada para armazenar informações de data sem incluir informações sobre o horário específico."
      ],
      "metadata": {
        "id": "Xdms6MrAYLTU"
      }
    },
    {
      "cell_type": "markdown",
      "source": [
        "Para exemplificar esse tipo de dados, será necessário a importação de uma biblioteca. Vamos observar essa parte."
      ],
      "metadata": {
        "id": "_mBC3iaEYPw0"
      }
    },
    {
      "cell_type": "code",
      "source": [
        "# Realizando a importação\n",
        "from datetime import date"
      ],
      "metadata": {
        "id": "8vodkXLqYYUj"
      },
      "execution_count": null,
      "outputs": []
    },
    {
      "cell_type": "markdown",
      "source": [
        "Agora que realizamos a importação do pacote, podemos seguir para a exemplificação."
      ],
      "metadata": {
        "id": "d8G4fi_PYg-R"
      }
    },
    {
      "cell_type": "code",
      "source": [
        "# Obter o dia de hoje\n",
        "data_atual = date.today()"
      ],
      "metadata": {
        "id": "s9l4KZD1YGVU"
      },
      "execution_count": null,
      "outputs": []
    },
    {
      "cell_type": "markdown",
      "source": [
        "Atribuímos à variável data_atual o valor da função 'today()', que retorna a data atual. Vamos observar o dado armazenado e, em seguida, o tipo do dado."
      ],
      "metadata": {
        "id": "xpZ0-esaYmWY"
      }
    },
    {
      "cell_type": "code",
      "source": [
        "# Exibindo a data de hoje\n",
        "print(data_atual)"
      ],
      "metadata": {
        "colab": {
          "base_uri": "https://localhost:8080/"
        },
        "id": "4k_9mGQoY52u",
        "outputId": "77ca1226-ab6a-4c1b-c5f5-31f6da0a9f45"
      },
      "execution_count": null,
      "outputs": [
        {
          "output_type": "stream",
          "name": "stdout",
          "text": [
            "2024-01-15\n"
          ]
        }
      ]
    },
    {
      "cell_type": "markdown",
      "source": [
        "Dessa forma, podemos observar o valor armazenado, que é o exato dia em que estou executando este código. Agora, vamos confirmar qual o tipo de dado presente nessa variável."
      ],
      "metadata": {
        "id": "4gd8o4DtZJ-1"
      }
    },
    {
      "cell_type": "code",
      "source": [
        "# Observando o tipo do dado\n",
        "type(data_atual)"
      ],
      "metadata": {
        "colab": {
          "base_uri": "https://localhost:8080/"
        },
        "id": "pNRq2XFzZaIx",
        "outputId": "582d8d38-5bc8-4eb2-fce3-cb6e51b4c306"
      },
      "execution_count": null,
      "outputs": [
        {
          "output_type": "execute_result",
          "data": {
            "text/plain": [
              "datetime.date"
            ]
          },
          "metadata": {},
          "execution_count": 22
        }
      ]
    },
    {
      "cell_type": "markdown",
      "source": [
        "O resultado foi datetime.date, logo podemos concluir que esse dado se trata realmente de um dado do tipo data."
      ],
      "metadata": {
        "id": "UyO9A4__Zj_7"
      }
    },
    {
      "cell_type": "markdown",
      "source": [
        "## **Estruturas**"
      ],
      "metadata": {
        "id": "fSsqhvDEaiiq"
      }
    },
    {
      "cell_type": "markdown",
      "source": [
        "As estruturas de dados são objetos que armazenam e organizam dados. Elas são usadas para simplificar o código e tornar mais eficiente o processamento de dados.\n",
        "\n",
        "As principais estruturas de dados em Python são:\n",
        "\n",
        "- Listas: armazenam uma coleção de valores de qualquer tipo.\n",
        "- Tuplas: armazenam uma coleção de valores de qualquer tipo, mas são imutáveis.\n",
        "- Dicionários: armazenam uma coleção de pares chave-valor.\n",
        "- Conjuntos: armazenam uma coleção de valores únicos."
      ],
      "metadata": {
        "id": "nUlHMVbJasn6"
      }
    },
    {
      "cell_type": "markdown",
      "source": [
        "### **List (Listas)**"
      ],
      "metadata": {
        "id": "eJRHPBWFa3wZ"
      }
    },
    {
      "cell_type": "markdown",
      "source": [
        "Listas são estruturas de dados ordenadas que permitem armazenar uma coleção de valores de qualquer tipo. Os valores de uma lista são chamados de elementos ou itens."
      ],
      "metadata": {
        "id": "TT8YwDp8bFZX"
      }
    },
    {
      "cell_type": "markdown",
      "source": [
        "Para declararmos uma lista em Python, seguimos o seguinte padrão: nome_da_variável, seguido por um sinal de igual (=) e os valores entre colchetes ([ ]), como por exemplo:"
      ],
      "metadata": {
        "id": "KiqEcmeHbHof"
      }
    },
    {
      "cell_type": "code",
      "source": [
        "# Criando uma lista\n",
        "frutas = ['Abacate', 'Abacate', 'Uva', 12, 3.14, 12]"
      ],
      "metadata": {
        "id": "PR7kY-Fcbm1U"
      },
      "execution_count": null,
      "outputs": []
    },
    {
      "cell_type": "markdown",
      "source": [
        "Podemos notar uma coisa interessante: uma lista pode ser criada e utilizada para armazenar dados de diferentes tipos. Podemos observar que nessa mesma lista chamada frutas, temos variáveis dos tipos string, int e float. Vamos verificar se essa variável realmente se trata de uma lista."
      ],
      "metadata": {
        "id": "i0E6f5y0bw9i"
      }
    },
    {
      "cell_type": "markdown",
      "source": [
        "Observando a lista criada."
      ],
      "metadata": {
        "id": "o4G_AWUJ-gMI"
      }
    },
    {
      "cell_type": "code",
      "source": [
        "# Exibindo os valores\n",
        "print(frutas)"
      ],
      "metadata": {
        "colab": {
          "base_uri": "https://localhost:8080/"
        },
        "id": "kmPLg-gK-ikQ",
        "outputId": "2601b575-46bb-46ab-ebc2-f923b46d960f"
      },
      "execution_count": null,
      "outputs": [
        {
          "output_type": "stream",
          "name": "stdout",
          "text": [
            "['Abacate', 'Abacate', 'Uva', 12, 3.14, 12]\n"
          ]
        }
      ]
    },
    {
      "cell_type": "markdown",
      "source": [
        "Agora vamos observar o tipo do dado."
      ],
      "metadata": {
        "id": "AZYpU_-lA9rt"
      }
    },
    {
      "cell_type": "code",
      "source": [
        "# Exibindo o tipo do dado\n",
        "type(frutas)"
      ],
      "metadata": {
        "colab": {
          "base_uri": "https://localhost:8080/"
        },
        "id": "ASjwuu3DcRgm",
        "outputId": "07074aec-a5bc-4e9d-c635-4b40f196c171"
      },
      "execution_count": null,
      "outputs": [
        {
          "output_type": "execute_result",
          "data": {
            "text/plain": [
              "list"
            ]
          },
          "metadata": {},
          "execution_count": 106
        }
      ]
    },
    {
      "cell_type": "markdown",
      "source": [
        "Podemos observar então que essa variável realmente se trata de uma lista e que pode armazenar diversos tipos de dados. Para demonstrar o quão poderosa é essa estrutura de dados, vamos observar como realizar funções como, por exemplo:\n",
        "\n",
        "- Acessar elementos\n",
        "- Adicionar elementos\n",
        "- Alterar elementos\n",
        "- Remover elementos\n",
        "- Contar elementos\n",
        "- Verificando a existência de elementos\n",
        "- Buscar elementos\n",
        "- Ordenar a lista\n",
        "- Invertendo a lista\n",
        "\n"
      ],
      "metadata": {
        "id": "_4eUHk6mcXc-"
      }
    },
    {
      "cell_type": "markdown",
      "source": [
        "#### *Acessando um elemento*"
      ],
      "metadata": {
        "id": "oj3HGQPI5jMq"
      }
    },
    {
      "cell_type": "markdown",
      "source": [
        "Para acessar um elemento em uma lista, basta passar a posição que o elemento está na lista entre colchetes. Lembrando que a contagem desses números começa em 0 no Python. Então, digamos que existe a seguinte lista: notas = [6.0, 10, 9.7] Podemos notar que temos 3 elementos. Mas, se quisermos acessar o primeiro, utilizaremos o código da seguinte forma: notas[0], Pois, como a contagem em Python começa de 0, o primeiro elemento da lista está na posição 0, o segundo na posição 1, o terceiro na posição 2 e assim por diante."
      ],
      "metadata": {
        "id": "-4Ti4O4X5rah"
      }
    },
    {
      "cell_type": "markdown",
      "source": [
        "Primeiro, vamos exibir a lista completa."
      ],
      "metadata": {
        "id": "TUFENO1q6fps"
      }
    },
    {
      "cell_type": "code",
      "source": [
        "# Exibindo os valores\n",
        "print(frutas)"
      ],
      "metadata": {
        "colab": {
          "base_uri": "https://localhost:8080/"
        },
        "id": "X_suZ9T_6hyL",
        "outputId": "6ee3d343-d24e-4762-808a-bf4c8885f334"
      },
      "execution_count": null,
      "outputs": [
        {
          "output_type": "stream",
          "name": "stdout",
          "text": [
            "['Abacate', 'Abacate', 'Uva', 12, 3.14, 12]\n"
          ]
        }
      ]
    },
    {
      "cell_type": "markdown",
      "source": [
        "Agora, vamos acessar o terceiro elemento da lista."
      ],
      "metadata": {
        "id": "TC95ry6d6k6k"
      }
    },
    {
      "cell_type": "code",
      "source": [
        "# Acessando um elemento na lista\n",
        "frutas[2]"
      ],
      "metadata": {
        "colab": {
          "base_uri": "https://localhost:8080/"
        },
        "id": "RGT1oaU_5q14",
        "outputId": "fe19f0a3-d348-46a5-ca78-19bfff8178e9"
      },
      "execution_count": null,
      "outputs": [
        {
          "output_type": "execute_result",
          "data": {
            "text/plain": [
              "'Uva'"
            ],
            "application/vnd.google.colaboratory.intrinsic+json": {
              "type": "string"
            }
          },
          "metadata": {},
          "execution_count": 108
        }
      ]
    },
    {
      "cell_type": "markdown",
      "source": [
        "Ao observar o resultado, podemos ver que realmente exibimos o terceiro elemento na lista. Isso ocorre porque, em Python, o primeiro elemento de uma lista tem índice 0, o segundo elemento tem índice 1 e assim por diante. Portanto, para exibir o terceiro elemento, passamos como parâmetro o índice 2."
      ],
      "metadata": {
        "id": "otGPJwmH6o9T"
      }
    },
    {
      "cell_type": "markdown",
      "source": [
        "#### *Adicionando um elemento*"
      ],
      "metadata": {
        "id": "NtgxTb4K44qg"
      }
    },
    {
      "cell_type": "markdown",
      "source": [
        "Para adicionar um elemento a uma lista, basta utilizarmos a função append(). Essa função recebe como parâmetro o item que queremos adicionar à lista. Vamos observar um exemplo:"
      ],
      "metadata": {
        "id": "9k5EuPtl48sm"
      }
    },
    {
      "cell_type": "code",
      "source": [
        "# Adicionando um elemento a lista\n",
        "frutas.append(\"Laranja\")"
      ],
      "metadata": {
        "id": "Vo7ouRg_5Hks"
      },
      "execution_count": null,
      "outputs": []
    },
    {
      "cell_type": "markdown",
      "source": [
        "Agora, com o item adicionado, vamos observar a lista completa."
      ],
      "metadata": {
        "id": "FelB_gc65OE9"
      }
    },
    {
      "cell_type": "code",
      "source": [
        "# Exibindo os valores\n",
        "print(frutas)"
      ],
      "metadata": {
        "colab": {
          "base_uri": "https://localhost:8080/"
        },
        "id": "5tgb-WpX5QWU",
        "outputId": "0866bf72-8947-470c-8de4-8e4150e77bc0"
      },
      "execution_count": null,
      "outputs": [
        {
          "output_type": "stream",
          "name": "stdout",
          "text": [
            "['Abacate', 'Abacate', 'Uva', 12, 3.14, 12, 'Laranja']\n"
          ]
        }
      ]
    },
    {
      "cell_type": "markdown",
      "source": [
        "Podemos então notar que o elemento foi adicionado com sucesso à lista."
      ],
      "metadata": {
        "id": "LeibaSde5Ss1"
      }
    },
    {
      "cell_type": "markdown",
      "source": [
        "#### *Alterando elementos*"
      ],
      "metadata": {
        "id": "4RyIm8cR7G4g"
      }
    },
    {
      "cell_type": "markdown",
      "source": [
        "Para alterar um elemento de uma lista, basta indicarmos o índice do elemento que queremos alterar e, em seguida, passar o novo valor para esse índice. Vamos observar um exemplo:"
      ],
      "metadata": {
        "id": "n4XY0iKs7Mr_"
      }
    },
    {
      "cell_type": "code",
      "source": [
        "# Alterando um elemento\n",
        "frutas[4] = 'Maracúja'"
      ],
      "metadata": {
        "id": "WYMZNE4i7ast"
      },
      "execution_count": null,
      "outputs": []
    },
    {
      "cell_type": "markdown",
      "source": [
        "Assim, realizamos uma alteração de um elemento na lista. Vamos observar como ela está agora."
      ],
      "metadata": {
        "id": "rQvVvxlR7s2r"
      }
    },
    {
      "cell_type": "code",
      "source": [
        "# Exibindo os valores\n",
        "print(frutas)"
      ],
      "metadata": {
        "colab": {
          "base_uri": "https://localhost:8080/"
        },
        "id": "9le7rAvm7yB6",
        "outputId": "e1f4457d-ab8f-414d-eebc-143f67543c0d"
      },
      "execution_count": null,
      "outputs": [
        {
          "output_type": "stream",
          "name": "stdout",
          "text": [
            "['Abacate', 'Abacate', 'Uva', 12, 'Maracúja', 12, 'Laranja']\n"
          ]
        }
      ]
    },
    {
      "cell_type": "markdown",
      "source": [
        "Podemos confirmar que o elemento que desejamos foi alterado no índice que queríamos."
      ],
      "metadata": {
        "id": "vT80YbAnCOJ_"
      }
    },
    {
      "cell_type": "markdown",
      "source": [
        "#### *Removendo elementos*"
      ],
      "metadata": {
        "id": "vuSPyxQy77zx"
      }
    },
    {
      "cell_type": "markdown",
      "source": [
        "Existem diferentes métodos para remover um elemento de uma lista. Dois dos mais comuns são:\n",
        "\n",
        "- O método remove( ) remove o primeiro elemento da lista que corresponder ao valor especificado.\n",
        "- O método pop( ) remove o elemento da lista na posição especificada."
      ],
      "metadata": {
        "id": "bmtmoROt8L1I"
      }
    },
    {
      "cell_type": "markdown",
      "source": [
        "Vamos observar primeiro o método remove."
      ],
      "metadata": {
        "id": "bOicipol87ob"
      }
    },
    {
      "cell_type": "code",
      "source": [
        "# Removendo um elemento\n",
        "frutas.remove(12)"
      ],
      "metadata": {
        "id": "3SF0gBsl8_ui"
      },
      "execution_count": null,
      "outputs": []
    },
    {
      "cell_type": "markdown",
      "source": [
        "Agora que removemos um elemento, vamos observar como está a lista atual."
      ],
      "metadata": {
        "id": "JvsQD3gw9E-6"
      }
    },
    {
      "cell_type": "code",
      "source": [
        "# Exibindo o resultado\n",
        "print(frutas)"
      ],
      "metadata": {
        "colab": {
          "base_uri": "https://localhost:8080/"
        },
        "id": "VXm_0WUf9KYA",
        "outputId": "1a897f1f-f520-464a-9b41-22bc240eb618"
      },
      "execution_count": null,
      "outputs": [
        {
          "output_type": "stream",
          "name": "stdout",
          "text": [
            "['Abacate', 'Abacate', 'Uva', 'Maracúja', 12, 'Laranja']\n"
          ]
        }
      ]
    },
    {
      "cell_type": "markdown",
      "source": [
        "Dessa forma, podemos observar que realmente conseguimos remover o elemento 12 da lista. No entanto, essa função removeu apenas o primeiro valor 12 que encontrou. Dessa forma, o segundo elemento 12 continua na lista. Vamos utilizar agora o método pop( ) para removermos um elemento com base em sua posição na lista."
      ],
      "metadata": {
        "id": "YUyOXNy_9TNv"
      }
    },
    {
      "cell_type": "code",
      "source": [
        "# Removendo um elemento\n",
        "frutas.pop(4)"
      ],
      "metadata": {
        "colab": {
          "base_uri": "https://localhost:8080/"
        },
        "id": "fuLjq81I9p4F",
        "outputId": "2a3cb587-47e0-4d3b-a4e8-f0e44370c238"
      },
      "execution_count": null,
      "outputs": [
        {
          "output_type": "execute_result",
          "data": {
            "text/plain": [
              "12"
            ]
          },
          "metadata": {},
          "execution_count": 115
        }
      ]
    },
    {
      "cell_type": "markdown",
      "source": [
        "Agora que removemos todos os elementos que desejamos, vamos observar como ficou a nossa lista."
      ],
      "metadata": {
        "id": "fIetu6f_-x_W"
      }
    },
    {
      "cell_type": "code",
      "source": [
        "# Exibindo os valores\n",
        "print(frutas)"
      ],
      "metadata": {
        "colab": {
          "base_uri": "https://localhost:8080/"
        },
        "id": "icOwGUSb9sxO",
        "outputId": "33fd9637-3658-4ed6-8a02-e42a051fdaa2"
      },
      "execution_count": null,
      "outputs": [
        {
          "output_type": "stream",
          "name": "stdout",
          "text": [
            "['Abacate', 'Abacate', 'Uva', 'Maracúja', 'Laranja']\n"
          ]
        }
      ]
    },
    {
      "cell_type": "markdown",
      "source": [
        "Agora sim, removemos e alteramos todos os valores que desejávamos na nossa lista, ficando apenas com 5 elementos."
      ],
      "metadata": {
        "id": "NVE7cHRx_-Xs"
      }
    },
    {
      "cell_type": "markdown",
      "source": [
        "#### *Contando os elementos*"
      ],
      "metadata": {
        "id": "GLugMzTMAJCb"
      }
    },
    {
      "cell_type": "markdown",
      "source": [
        "Vamos utilizar o método len() para contarmos quantos elementos temos na nossa lista. Utilizaremos esse método da seguinte forma:"
      ],
      "metadata": {
        "id": "yALXJl7lAMsd"
      }
    },
    {
      "cell_type": "code",
      "source": [
        "# Exibindo o número de elementos\n",
        "len(frutas)"
      ],
      "metadata": {
        "colab": {
          "base_uri": "https://localhost:8080/"
        },
        "id": "cF0Jd_3IAMPs",
        "outputId": "1abcbc43-6e7c-47cc-bae6-e82894421822"
      },
      "execution_count": null,
      "outputs": [
        {
          "output_type": "execute_result",
          "data": {
            "text/plain": [
              "5"
            ]
          },
          "metadata": {},
          "execution_count": 117
        }
      ]
    },
    {
      "cell_type": "markdown",
      "source": [
        "Como vimos anteriormente, nossa lista realmente possui apenas 5 elementos."
      ],
      "metadata": {
        "id": "67fO3BkBAeNh"
      }
    },
    {
      "cell_type": "markdown",
      "source": [
        "Também é possível contarmos quantas vezes um mesmo elemento aparece na lista. Para isso, utilizaremos o método count()."
      ],
      "metadata": {
        "id": "vmqavFcUFupr"
      }
    },
    {
      "cell_type": "code",
      "source": [
        "# Contando quantas vezes o mesmo elemento aparece\n",
        "frutas.count('Abacate')"
      ],
      "metadata": {
        "colab": {
          "base_uri": "https://localhost:8080/"
        },
        "id": "VQINVfXzF1mD",
        "outputId": "7b0692cb-8600-45b9-8366-2f0bed423934"
      },
      "execution_count": null,
      "outputs": [
        {
          "output_type": "execute_result",
          "data": {
            "text/plain": [
              "2"
            ]
          },
          "metadata": {},
          "execution_count": 118
        }
      ]
    },
    {
      "cell_type": "markdown",
      "source": [
        "Quando pesquisamos pelo elemento 'Abacate', é possível notar que ele retorna o número 2, que é exatamente o número de elementos chamados 'Abacate' que temos na lista. Vamos pesquisar agora o elemento 'Uva' para ver o que encontramos."
      ],
      "metadata": {
        "id": "WZ5hv-WYGJzB"
      }
    },
    {
      "cell_type": "code",
      "source": [
        "# Contando quantas vezes o mesmo elemento aparece\n",
        "frutas.count('Uva')"
      ],
      "metadata": {
        "colab": {
          "base_uri": "https://localhost:8080/"
        },
        "id": "FUPsbRQwGXLH",
        "outputId": "392dc799-7081-4a4a-a9e2-9874e98a6bba"
      },
      "execution_count": null,
      "outputs": [
        {
          "output_type": "execute_result",
          "data": {
            "text/plain": [
              "1"
            ]
          },
          "metadata": {},
          "execution_count": 119
        }
      ]
    },
    {
      "cell_type": "markdown",
      "source": [
        "Exatamente isso que acontece. Na nossa lista, existem 2 abacates e apenas uma uva."
      ],
      "metadata": {
        "id": "KYnYwhI8Gq6u"
      }
    },
    {
      "cell_type": "markdown",
      "source": [
        "#### *Verificando se existe um determinado elemento na lista*"
      ],
      "metadata": {
        "id": "_FszjS22EJYm"
      }
    },
    {
      "cell_type": "markdown",
      "source": [
        "Para verificar se um elemento existe em uma lista, podemos utilizar o operador 'in'. Ele retorna True se o elemento estiver presente na lista e False caso contrário."
      ],
      "metadata": {
        "id": "pBxjMHesER7G"
      }
    },
    {
      "cell_type": "markdown",
      "source": [
        "Primeiro, vamos exibir a lista para observarmos os elementos existentes nela."
      ],
      "metadata": {
        "id": "qlobeJtcE0Ci"
      }
    },
    {
      "cell_type": "code",
      "source": [
        "# Exibindo os valores\n",
        "print(frutas)"
      ],
      "metadata": {
        "colab": {
          "base_uri": "https://localhost:8080/"
        },
        "id": "I72l_N1-E4hy",
        "outputId": "6557e663-08f3-4a48-ff23-f9d764e05e50"
      },
      "execution_count": null,
      "outputs": [
        {
          "output_type": "stream",
          "name": "stdout",
          "text": [
            "['Abacate', 'Abacate', 'Uva', 'Maracúja', 'Laranja']\n"
          ]
        }
      ]
    },
    {
      "cell_type": "markdown",
      "source": [
        "Agora, vamos verificar se o elemento 'Uva' está na lista."
      ],
      "metadata": {
        "id": "4c2yxAQEE6-J"
      }
    },
    {
      "cell_type": "code",
      "source": [
        "# Buscando um elemento na lista\n",
        "\"Uva\" in frutas"
      ],
      "metadata": {
        "colab": {
          "base_uri": "https://localhost:8080/"
        },
        "id": "enVEcbPmEu0C",
        "outputId": "53bdd07b-2c4d-4dca-d505-f40b7e3aca98"
      },
      "execution_count": null,
      "outputs": [
        {
          "output_type": "execute_result",
          "data": {
            "text/plain": [
              "True"
            ]
          },
          "metadata": {},
          "execution_count": 121
        }
      ]
    },
    {
      "cell_type": "markdown",
      "source": [
        "O resultado foi True, logo podemos afirmar que existe um elemento chamado Uva na nossa lista. Vamos tentar pesquisar algum elemento que não existe."
      ],
      "metadata": {
        "id": "HBF_JOECFCgR"
      }
    },
    {
      "cell_type": "code",
      "source": [
        "# Buscando um elemento na lista\n",
        "\"Manga\" in frutas"
      ],
      "metadata": {
        "colab": {
          "base_uri": "https://localhost:8080/"
        },
        "id": "rKVC2HTeFLSf",
        "outputId": "74587d11-81a5-47f9-869b-f5948b7620c3"
      },
      "execution_count": null,
      "outputs": [
        {
          "output_type": "execute_result",
          "data": {
            "text/plain": [
              "False"
            ]
          },
          "metadata": {},
          "execution_count": 122
        }
      ]
    },
    {
      "cell_type": "markdown",
      "source": [
        "Ao verificarmos o elemento chamado Manga, recebemos um resultado False. Logo, podemos afirmar que esse elemento não está contido na lista."
      ],
      "metadata": {
        "id": "iBBrg1fEHic_"
      }
    },
    {
      "cell_type": "markdown",
      "source": [
        "#### *Buscando elementos na lista*"
      ],
      "metadata": {
        "id": "qTseIXALLNMl"
      }
    },
    {
      "cell_type": "markdown",
      "source": [
        "Se quisessemos descobrir a posição que determinado elemento ocupa na lista iremos utilizar o método 'index()'."
      ],
      "metadata": {
        "id": "baxVMAZMKbKi"
      }
    },
    {
      "cell_type": "markdown",
      "source": [
        "Vamos exibir a lista completa."
      ],
      "metadata": {
        "id": "dwd1wXiDLhL7"
      }
    },
    {
      "cell_type": "code",
      "source": [
        "# Exibindo os valores\n",
        "print(frutas)"
      ],
      "metadata": {
        "colab": {
          "base_uri": "https://localhost:8080/"
        },
        "id": "kszvA8NoLi_q",
        "outputId": "050fad0d-2a6f-4a7d-c82a-6d36c3bb582c"
      },
      "execution_count": null,
      "outputs": [
        {
          "output_type": "stream",
          "name": "stdout",
          "text": [
            "['Abacate', 'Abacate', 'Uva', 'Maracúja', 'Laranja']\n"
          ]
        }
      ]
    },
    {
      "cell_type": "markdown",
      "source": [
        "Agora, vamos aplicar o método para buscar um elemento na lista."
      ],
      "metadata": {
        "id": "mEtgJkEOLs0p"
      }
    },
    {
      "cell_type": "code",
      "source": [
        "# Buscando um elemento\n",
        "frutas.index(\"Abacate\")"
      ],
      "metadata": {
        "colab": {
          "base_uri": "https://localhost:8080/"
        },
        "id": "0whMovZ5LZlL",
        "outputId": "7a3e96b8-fbe1-4b29-819e-04a593647af7"
      },
      "execution_count": null,
      "outputs": [
        {
          "output_type": "execute_result",
          "data": {
            "text/plain": [
              "0"
            ]
          },
          "metadata": {},
          "execution_count": 124
        }
      ]
    },
    {
      "cell_type": "markdown",
      "source": [
        "Como a lista contém dois abacates, a função retornou a posição do primeiro. Vamos observar outro exemplo."
      ],
      "metadata": {
        "id": "YReb6729LzJp"
      }
    },
    {
      "cell_type": "code",
      "source": [
        "# Buscando um elemento\n",
        "frutas.index(\"Maracúja\")"
      ],
      "metadata": {
        "colab": {
          "base_uri": "https://localhost:8080/"
        },
        "id": "oHDCs8o4L4cA",
        "outputId": "5e0962f7-9e16-4982-e8f4-17254b900178"
      },
      "execution_count": null,
      "outputs": [
        {
          "output_type": "execute_result",
          "data": {
            "text/plain": [
              "3"
            ]
          },
          "metadata": {},
          "execution_count": 125
        }
      ]
    },
    {
      "cell_type": "markdown",
      "source": [
        "Como podemos observar, o elemento Maracujá ocupa o segundo lugar na nossa lista. Logo, o seu índice é o número 1. Se buscássemos um elemento que não existe na lista, o que aconteceria?"
      ],
      "metadata": {
        "id": "Kgy-FdDfL7Kw"
      }
    },
    {
      "cell_type": "code",
      "source": [
        "# Buscando um elemento\n",
        "frutas.index(\"Manga\")"
      ],
      "metadata": {
        "colab": {
          "base_uri": "https://localhost:8080/",
          "height": 193
        },
        "id": "64u8vkKvMIwl",
        "outputId": "cc6f1e3a-91a4-4a6d-86d4-3c3b5592b130"
      },
      "execution_count": null,
      "outputs": [
        {
          "output_type": "error",
          "ename": "ValueError",
          "evalue": "'Manga' is not in list",
          "traceback": [
            "\u001b[0;31m---------------------------------------------------------------------------\u001b[0m",
            "\u001b[0;31mValueError\u001b[0m                                Traceback (most recent call last)",
            "\u001b[0;32m<ipython-input-126-f1c73bc89107>\u001b[0m in \u001b[0;36m<cell line: 2>\u001b[0;34m()\u001b[0m\n\u001b[1;32m      1\u001b[0m \u001b[0;31m# Buscando um elemnto\u001b[0m\u001b[0;34m\u001b[0m\u001b[0;34m\u001b[0m\u001b[0m\n\u001b[0;32m----> 2\u001b[0;31m \u001b[0mfrutas\u001b[0m\u001b[0;34m.\u001b[0m\u001b[0mindex\u001b[0m\u001b[0;34m(\u001b[0m\u001b[0;34m\"Manga\"\u001b[0m\u001b[0;34m)\u001b[0m\u001b[0;34m\u001b[0m\u001b[0;34m\u001b[0m\u001b[0m\n\u001b[0m",
            "\u001b[0;31mValueError\u001b[0m: 'Manga' is not in list"
          ]
        }
      ]
    },
    {
      "cell_type": "markdown",
      "source": [
        "Podemos observar que, ao tentarmos buscar um elemento que não existe na lista com esse método, ocorrerá um erro, informando que o elemento que estamos procurando não existe na lista."
      ],
      "metadata": {
        "id": "ZJQeODGLMMtG"
      }
    },
    {
      "cell_type": "markdown",
      "source": [
        "#### *Ordenando a lista*"
      ],
      "metadata": {
        "id": "2SAS1dzUJHOc"
      }
    },
    {
      "cell_type": "markdown",
      "source": [
        "Para ordenar a lista, utilizaremos o método sort(). Com esse método, é possível ordenar a lista tanto em ordem crescente quanto em ordem decrescente. Primeiramente, vamos observar como ordenar em ordem crescente."
      ],
      "metadata": {
        "id": "OAHad36TJJoc"
      }
    },
    {
      "cell_type": "markdown",
      "source": [
        "Primeiro, vamos observar a atual ordenação da nossa lista."
      ],
      "metadata": {
        "id": "Dy4FalHKJgdh"
      }
    },
    {
      "cell_type": "code",
      "source": [
        "# Exibe os valores\n",
        "print(frutas)"
      ],
      "metadata": {
        "colab": {
          "base_uri": "https://localhost:8080/"
        },
        "id": "s04bniwNJjY5",
        "outputId": "28d8497d-625a-452d-b8d6-b45397c153db"
      },
      "execution_count": null,
      "outputs": [
        {
          "output_type": "stream",
          "name": "stdout",
          "text": [
            "['Abacate', 'Abacate', 'Uva', 'Maracúja', 'Laranja']\n"
          ]
        }
      ]
    },
    {
      "cell_type": "markdown",
      "source": [
        "Ordenando a lista em ordem crescente."
      ],
      "metadata": {
        "id": "iv4J9E5nJWvr"
      }
    },
    {
      "cell_type": "code",
      "source": [
        "# Ordena a lista em ordem crescente\n",
        "frutas.sort()"
      ],
      "metadata": {
        "id": "riMB69s2JaSa"
      },
      "execution_count": null,
      "outputs": []
    },
    {
      "cell_type": "markdown",
      "source": [
        "Agora que ordenamos a lista, vamos observar como ela está."
      ],
      "metadata": {
        "id": "SAdzllidJpyQ"
      }
    },
    {
      "cell_type": "code",
      "source": [
        "# Exibe os valores\n",
        "print(frutas)"
      ],
      "metadata": {
        "colab": {
          "base_uri": "https://localhost:8080/"
        },
        "id": "ChsjBcMhJvFo",
        "outputId": "6b5c962c-c506-42c6-a237-a4ad007a5406"
      },
      "execution_count": null,
      "outputs": [
        {
          "output_type": "stream",
          "name": "stdout",
          "text": [
            "['Abacate', 'Abacate', 'Laranja', 'Maracúja', 'Uva']\n"
          ]
        }
      ]
    },
    {
      "cell_type": "markdown",
      "source": [
        "Podemos confirmar que agora nossa lista está em ordem crescente. Vamos fazer ao contrário e deixar a lista em ordem decrescente."
      ],
      "metadata": {
        "id": "2pX8cIblJw2A"
      }
    },
    {
      "cell_type": "code",
      "source": [
        "# Ordena a lista em ordem decrescente\n",
        "frutas.sort(reverse=True)"
      ],
      "metadata": {
        "id": "fpGWrafrJFp0"
      },
      "execution_count": null,
      "outputs": []
    },
    {
      "cell_type": "markdown",
      "source": [
        "Vamos observar como está nossa lista agora."
      ],
      "metadata": {
        "id": "6bmzXCrzJ8RH"
      }
    },
    {
      "cell_type": "code",
      "source": [
        "# Exibe os valores\n",
        "print(frutas)"
      ],
      "metadata": {
        "colab": {
          "base_uri": "https://localhost:8080/"
        },
        "id": "4AK8otwNKEa9",
        "outputId": "2a00a518-c9ca-4b8a-991e-bded00091df2"
      },
      "execution_count": null,
      "outputs": [
        {
          "output_type": "stream",
          "name": "stdout",
          "text": [
            "['Uva', 'Maracúja', 'Laranja', 'Abacate', 'Abacate']\n"
          ]
        }
      ]
    },
    {
      "cell_type": "markdown",
      "source": [
        "Podemos, então, observar como podemos alterar a ordem da nossa lista."
      ],
      "metadata": {
        "id": "6C5R0WicKHpt"
      }
    },
    {
      "cell_type": "markdown",
      "source": [
        "#### *Invertendo a ordem dos elementos*"
      ],
      "metadata": {
        "id": "q5R0vDtHRSym"
      }
    },
    {
      "cell_type": "markdown",
      "source": [
        "Vamos observar como podemos inverter a ordem dos elementos presentes na lista. Para isso, utilizaremos o método reverse( )."
      ],
      "metadata": {
        "id": "SCfNV_jSRWQu"
      }
    },
    {
      "cell_type": "markdown",
      "source": [
        "Novamente, vamos observar como está a lista atualmente."
      ],
      "metadata": {
        "id": "bOxpfbJiRe6F"
      }
    },
    {
      "cell_type": "code",
      "source": [
        "# Exibindo os valores\n",
        "print(frutas)"
      ],
      "metadata": {
        "colab": {
          "base_uri": "https://localhost:8080/"
        },
        "id": "H7g9OMp2RlG0",
        "outputId": "735e1ceb-f1f8-4cb3-c8e1-ff3b6e3e687d"
      },
      "execution_count": null,
      "outputs": [
        {
          "output_type": "stream",
          "name": "stdout",
          "text": [
            "['Uva', 'Maracúja', 'Laranja', 'Abacate', 'Abacate']\n"
          ]
        }
      ]
    },
    {
      "cell_type": "markdown",
      "source": [
        "Agora, vamos verificar como podemos inverter a lista na prática."
      ],
      "metadata": {
        "id": "eO9chVjdRn2E"
      }
    },
    {
      "cell_type": "code",
      "source": [
        "# Inverte a ordem dos elementos na lista\n",
        "frutas.reverse()"
      ],
      "metadata": {
        "id": "uxlKGLpJRT6X"
      },
      "execution_count": null,
      "outputs": []
    },
    {
      "cell_type": "markdown",
      "source": [
        "Agora que já aplicamos o método de inversão, vamos observar como está a nossa lista."
      ],
      "metadata": {
        "id": "LfXYFqnHRsUT"
      }
    },
    {
      "cell_type": "code",
      "source": [
        "# Exibindo os valores\n",
        "print(frutas)"
      ],
      "metadata": {
        "colab": {
          "base_uri": "https://localhost:8080/"
        },
        "id": "4dW3I2NnRv7b",
        "outputId": "a32d158e-1940-4108-e4b0-dfab8e4d8c91"
      },
      "execution_count": null,
      "outputs": [
        {
          "output_type": "stream",
          "name": "stdout",
          "text": [
            "['Abacate', 'Abacate', 'Laranja', 'Maracúja', 'Uva']\n"
          ]
        }
      ]
    },
    {
      "cell_type": "markdown",
      "source": [
        "Como podemos observar, nossa lista voltou para a ordem inicial."
      ],
      "metadata": {
        "id": "iuBsbCwyRxs7"
      }
    },
    {
      "cell_type": "markdown",
      "source": [
        "### **Tuple (tuplas)**"
      ],
      "metadata": {
        "id": "TUiBrAadBm0x"
      }
    },
    {
      "cell_type": "markdown",
      "source": [
        "Tuplas são estruturas de dados ordenadas que permitem armazenar uma coleção de valores de qualquer tipo. No entanto, tuplas são imutáveis, o que significa que não é possível alterar seus elementos após a criação."
      ],
      "metadata": {
        "id": "zGthm95fCK0F"
      }
    },
    {
      "cell_type": "markdown",
      "source": [
        "As tuplas possuem certas semelhanças com as listas, porém é importante frisar que as listas são mutáveis enquanto as tuplas são imutáveis. Vamos observar como declarar uma tupla."
      ],
      "metadata": {
        "id": "3Jop-h1nCZHc"
      }
    },
    {
      "cell_type": "code",
      "source": [
        "# Criando uma tupla\n",
        "vegetais = (\"abóbora\", \"pimentão\", \"chuchu\", \"pimentão\")"
      ],
      "metadata": {
        "id": "joarcUxNC4w4"
      },
      "execution_count": 56,
      "outputs": []
    },
    {
      "cell_type": "markdown",
      "source": [
        "Aqui podemos observar que a criação de uma tupla é bem semelhante à criação de uma lista, mas levando em consideração que os elementos da tupla não podem ser alterados, normalmente os elementos que são guardados nelas são exatamente elementos que não precisam ser alterados, como dados históricos por exemplo.\n",
        "\n"
      ],
      "metadata": {
        "id": "bakIp9OUFGTP"
      }
    },
    {
      "cell_type": "markdown",
      "source": [
        "\n",
        "Vamos observar algumas funções que podemos utilizar nas tuplas:\n",
        "\n",
        "- len(): retorna o comprimento da tupla.\n",
        "- in: verifica se um elemento está presente na tupla.\n",
        "- index(): retorna o índice de um elemento na tupla.\n",
        "- count(): retorna o número de ocorrências de um elemento na tupla.\n",
        "- sorted(): retorna uma nova tupla ordenada.\n",
        "\n",
        "Essas funções são bem semelhantes com as que utilizamos na lista. Vamos observar algumas dessas na prática."
      ],
      "metadata": {
        "id": "m6Dw6eHCFUnN"
      }
    },
    {
      "cell_type": "markdown",
      "source": [
        "#### *Acessando um elemento*"
      ],
      "metadata": {
        "id": "vHf3KZ9OGIgf"
      }
    },
    {
      "cell_type": "markdown",
      "source": [
        "Antes de acessarmos um elemento, vamos observar a tupla completa."
      ],
      "metadata": {
        "id": "7inLXmRDGW69"
      }
    },
    {
      "cell_type": "code",
      "source": [
        "# Exibindo os valores\n",
        "print(vegetais)"
      ],
      "metadata": {
        "colab": {
          "base_uri": "https://localhost:8080/"
        },
        "id": "H47Edg-GFuFT",
        "outputId": "ce39a81b-5658-4075-d3d6-38ec38b81019"
      },
      "execution_count": 36,
      "outputs": [
        {
          "output_type": "stream",
          "name": "stdout",
          "text": [
            "('abóbora', 'pimentão ', 'chuchu', 'pimentão')\n"
          ]
        }
      ]
    },
    {
      "cell_type": "markdown",
      "source": [
        "\n",
        "Agora vamos observar como acessar um elemento de acordo com o seu índice."
      ],
      "metadata": {
        "id": "C8YsZZXIGahU"
      }
    },
    {
      "cell_type": "code",
      "source": [
        "# Acessando um elemento na tupla\n",
        "vegetais[1]"
      ],
      "metadata": {
        "colab": {
          "base_uri": "https://localhost:8080/",
          "height": 35
        },
        "id": "Yu7PUTzQF9nZ",
        "outputId": "aaa1ef0b-1dda-4964-fac8-6c3bc73fdda5"
      },
      "execution_count": 37,
      "outputs": [
        {
          "output_type": "execute_result",
          "data": {
            "text/plain": [
              "'pimentão '"
            ],
            "application/vnd.google.colaboratory.intrinsic+json": {
              "type": "string"
            }
          },
          "metadata": {},
          "execution_count": 37
        }
      ]
    },
    {
      "cell_type": "markdown",
      "source": [
        "\n",
        "Podemos observar que a maneira de acessar um elemento tanto na lista quanto na tupla são bem semelhantes. Utilizamos praticamente a mesma lógica: passamos o nome da tupla e, em seguida, entre colchetes, o índice do elemento que queremos observar."
      ],
      "metadata": {
        "id": "P-fp00DIGe8s"
      }
    },
    {
      "cell_type": "markdown",
      "source": [
        "#### *Contando os elementos*"
      ],
      "metadata": {
        "id": "-FdLAfloGzEj"
      }
    },
    {
      "cell_type": "markdown",
      "source": [
        "Vamos utilizar o método len( ) para contarmos quantos elementos temos na nossa tupla."
      ],
      "metadata": {
        "id": "_pmC34yAG2EB"
      }
    },
    {
      "cell_type": "code",
      "source": [
        "# Exibindo o número de elementos\n",
        "len(vegetais)"
      ],
      "metadata": {
        "colab": {
          "base_uri": "https://localhost:8080/"
        },
        "id": "lVmqhz_4G-0Z",
        "outputId": "b6f184fc-fa9e-489e-d810-aa6c6be24fab"
      },
      "execution_count": 38,
      "outputs": [
        {
          "output_type": "execute_result",
          "data": {
            "text/plain": [
              "4"
            ]
          },
          "metadata": {},
          "execution_count": 38
        }
      ]
    },
    {
      "cell_type": "markdown",
      "source": [
        "Dessa forma, podemos confirmar que a nossa tupla possui pelo menos 4 elementos."
      ],
      "metadata": {
        "id": "BXMc_bXsG7RK"
      }
    },
    {
      "cell_type": "markdown",
      "source": [
        "Agora, vamos utilizar o método count( ) para sabermos quantas vezes existe um determinado elemento na nossa tupla."
      ],
      "metadata": {
        "id": "o1PRtX_eHRqI"
      }
    },
    {
      "cell_type": "code",
      "source": [
        "# Contando quantas vezes o mesmo elemento aparece\n",
        "vegetais.count(\"pimentão\")"
      ],
      "metadata": {
        "colab": {
          "base_uri": "https://localhost:8080/"
        },
        "id": "f1twLtHYHZbw",
        "outputId": "08cf6600-6481-4b01-eca0-5ea61dea8650"
      },
      "execution_count": 57,
      "outputs": [
        {
          "output_type": "execute_result",
          "data": {
            "text/plain": [
              "2"
            ]
          },
          "metadata": {},
          "execution_count": 57
        }
      ]
    },
    {
      "cell_type": "markdown",
      "source": [
        "Ao conferirmos quantos elementos \"pimentão\" temos na tupla, o valor retornado foi o número 2. Isso indica que o elemento \"pimentão\" aparece 2 vezes na tupla."
      ],
      "metadata": {
        "id": "hlPAZBpGHq_9"
      }
    },
    {
      "cell_type": "markdown",
      "source": [
        "\n",
        "Vamos tentar contar um elemento que não existe na tupla."
      ],
      "metadata": {
        "id": "65qdzFn9H6Zk"
      }
    },
    {
      "cell_type": "code",
      "source": [
        "# Contando quantas vezes o mesmo elemento aparece\n",
        "vegetais.count(3)"
      ],
      "metadata": {
        "colab": {
          "base_uri": "https://localhost:8080/"
        },
        "id": "F6UJKI2KH-Za",
        "outputId": "b5caead5-794b-4715-c47a-5b5bfea6ede6"
      },
      "execution_count": 10,
      "outputs": [
        {
          "output_type": "execute_result",
          "data": {
            "text/plain": [
              "0"
            ]
          },
          "metadata": {},
          "execution_count": 10
        }
      ]
    },
    {
      "cell_type": "markdown",
      "source": [
        "Como pesquisamos um valor que não existe na tupla, recebemos um valor igual a 0, que está condizente com a realidade da nossa tupla."
      ],
      "metadata": {
        "id": "P40Z5XVwIAkb"
      }
    },
    {
      "cell_type": "markdown",
      "source": [
        "#### *Verificando se existe um determinado elemento na tupla*"
      ],
      "metadata": {
        "id": "x5S4Yf-IIM6L"
      }
    },
    {
      "cell_type": "markdown",
      "source": [
        "Para isso, utilizaremos o operador \"in\" da seguinte forma."
      ],
      "metadata": {
        "id": "jHw_S3trIN7Q"
      }
    },
    {
      "cell_type": "code",
      "source": [
        "# Buscando um elemento na lista\n",
        "'chuchu' in vegetais"
      ],
      "metadata": {
        "colab": {
          "base_uri": "https://localhost:8080/"
        },
        "id": "EivYmQMXIRxo",
        "outputId": "3fdce6a4-9c1f-44eb-a31e-acdebf7b4021"
      },
      "execution_count": 12,
      "outputs": [
        {
          "output_type": "execute_result",
          "data": {
            "text/plain": [
              "True"
            ]
          },
          "metadata": {},
          "execution_count": 12
        }
      ]
    },
    {
      "cell_type": "markdown",
      "source": [
        "Ao pesquisar o elemento \"chuchu\" na tupla, recebemos um True. Ou seja, é verdade que existe um elemento \"chuchu\" na tupla. Vamos verificar um exemplo onde isso não é verdade."
      ],
      "metadata": {
        "id": "DTg8jAEaIY_o"
      }
    },
    {
      "cell_type": "code",
      "source": [
        "# Buscando um elemento na lista\n",
        "'morango' in vegetais"
      ],
      "metadata": {
        "colab": {
          "base_uri": "https://localhost:8080/"
        },
        "id": "LYldHSkuIlH4",
        "outputId": "c9d148e3-295d-4bf7-dc2e-2169732154a8"
      },
      "execution_count": 13,
      "outputs": [
        {
          "output_type": "execute_result",
          "data": {
            "text/plain": [
              "False"
            ]
          },
          "metadata": {},
          "execution_count": 13
        }
      ]
    },
    {
      "cell_type": "markdown",
      "source": [
        "Como o elemento \"morango\" não existe na tupla, recebemos um False da nossa busca."
      ],
      "metadata": {
        "id": "H_2h1jwOIn34"
      }
    },
    {
      "cell_type": "markdown",
      "source": [
        "#### *Buscando um elemento na tupla*"
      ],
      "metadata": {
        "id": "cY3t3rbJIzSk"
      }
    },
    {
      "cell_type": "markdown",
      "source": [
        "Se quiséssemos descobrir a posição que determinado elemento ocupa na tupla, iremos utilizar o método 'index( )', assim como fazemos na lista."
      ],
      "metadata": {
        "id": "3ujrkkt-I36b"
      }
    },
    {
      "cell_type": "markdown",
      "source": [
        "Vamos exibir a tupla completa."
      ],
      "metadata": {
        "id": "IMDfx3X7I-7r"
      }
    },
    {
      "cell_type": "code",
      "source": [
        "# Exibindo os valores\n",
        "print(vegetais)"
      ],
      "metadata": {
        "colab": {
          "base_uri": "https://localhost:8080/"
        },
        "id": "aSH69Fz1JFlr",
        "outputId": "3838347c-2778-4444-fffe-28a38f7adfbf"
      },
      "execution_count": 14,
      "outputs": [
        {
          "output_type": "stream",
          "name": "stdout",
          "text": [
            "('abóbora', 'chuchu', 2, 2, 5)\n"
          ]
        }
      ]
    },
    {
      "cell_type": "markdown",
      "source": [
        "Agora, vamos aplicar o método para buscar um elemento na tupla."
      ],
      "metadata": {
        "id": "5WxChcDfJNBS"
      }
    },
    {
      "cell_type": "code",
      "source": [
        "# Buscando um elemento\n",
        "vegetais.index(\"abóbora\")"
      ],
      "metadata": {
        "colab": {
          "base_uri": "https://localhost:8080/"
        },
        "id": "2KopP-u0I3Hs",
        "outputId": "d2f82e22-0bea-44ab-c036-3881311f481b"
      },
      "execution_count": 15,
      "outputs": [
        {
          "output_type": "execute_result",
          "data": {
            "text/plain": [
              "0"
            ]
          },
          "metadata": {},
          "execution_count": 15
        }
      ]
    },
    {
      "cell_type": "markdown",
      "source": [
        "Podemos observar então que o elemento \"abóbora\" está na posição 0 da nossa tupla."
      ],
      "metadata": {
        "id": "TXRFSA1eJPNx"
      }
    },
    {
      "cell_type": "markdown",
      "source": [
        "Caso tentarmos buscar um elemento que não existe, iremos receber um erro, assim como na lista. Vamos observar um exemplo."
      ],
      "metadata": {
        "id": "MDgehZYlJi-w"
      }
    },
    {
      "cell_type": "code",
      "source": [
        "# Buscando um elemento\n",
        "vegetais.index(\"Tomate\")"
      ],
      "metadata": {
        "colab": {
          "base_uri": "https://localhost:8080/",
          "height": 193
        },
        "id": "cgq4W0CbJj2g",
        "outputId": "b13b9be5-7192-4bb9-c371-7cdd6583cc05"
      },
      "execution_count": 16,
      "outputs": [
        {
          "output_type": "error",
          "ename": "ValueError",
          "evalue": "tuple.index(x): x not in tuple",
          "traceback": [
            "\u001b[0;31m---------------------------------------------------------------------------\u001b[0m",
            "\u001b[0;31mValueError\u001b[0m                                Traceback (most recent call last)",
            "\u001b[0;32m<ipython-input-16-f95bc4fdccc3>\u001b[0m in \u001b[0;36m<cell line: 2>\u001b[0;34m()\u001b[0m\n\u001b[1;32m      1\u001b[0m \u001b[0;31m# Buscando um elemento\u001b[0m\u001b[0;34m\u001b[0m\u001b[0;34m\u001b[0m\u001b[0m\n\u001b[0;32m----> 2\u001b[0;31m \u001b[0mvegetais\u001b[0m\u001b[0;34m.\u001b[0m\u001b[0mindex\u001b[0m\u001b[0;34m(\u001b[0m\u001b[0;34m\"Tomate\"\u001b[0m\u001b[0;34m)\u001b[0m\u001b[0;34m\u001b[0m\u001b[0;34m\u001b[0m\u001b[0m\n\u001b[0m",
            "\u001b[0;31mValueError\u001b[0m: tuple.index(x): x not in tuple"
          ]
        }
      ]
    },
    {
      "cell_type": "markdown",
      "source": [
        "Como havíamos dito anteriormente, ao tentarmos buscar um elemento que não existe, receberemos um erro nos informando que o elemento buscado não existe na tupla."
      ],
      "metadata": {
        "id": "2-ccS5vgJpBO"
      }
    },
    {
      "cell_type": "markdown",
      "source": [
        "#### *Ordenando a tupla*"
      ],
      "metadata": {
        "id": "kpK6juJhKaka"
      }
    },
    {
      "cell_type": "markdown",
      "source": [
        "Vamos utilizar o método 'sorted( )' para ordenar os elementos da tupla."
      ],
      "metadata": {
        "id": "8RXdnuCQKdDi"
      }
    },
    {
      "cell_type": "markdown",
      "source": [
        "Mas primeiro, vamos observar como está ordenada a nossa tupla atualmente."
      ],
      "metadata": {
        "id": "ne-B4z0zKyy3"
      }
    },
    {
      "cell_type": "code",
      "source": [
        "# Exibindo os valores\n",
        "print(vegetais)"
      ],
      "metadata": {
        "colab": {
          "base_uri": "https://localhost:8080/"
        },
        "id": "91XLOyx8K331",
        "outputId": "2afc054f-669d-41a5-de2a-ed3ed1746a92"
      },
      "execution_count": 28,
      "outputs": [
        {
          "output_type": "stream",
          "name": "stdout",
          "text": [
            "('abóbora', 'pimentão ', 'chuchu', 'pimentão')\n"
          ]
        }
      ]
    },
    {
      "cell_type": "markdown",
      "source": [
        "Agora, vamos aplicar o método 'sorted( )' para ordenar a mesma."
      ],
      "metadata": {
        "id": "eFHyoYIrK6v9"
      }
    },
    {
      "cell_type": "code",
      "source": [
        "# Ordenando a tupla\n",
        "print(sorted(vegetais))"
      ],
      "metadata": {
        "colab": {
          "base_uri": "https://localhost:8080/"
        },
        "id": "vIVARMAEKcTp",
        "outputId": "bbab3393-a77a-4ad5-ce05-ac1be6583026"
      },
      "execution_count": 29,
      "outputs": [
        {
          "output_type": "stream",
          "name": "stdout",
          "text": [
            "['abóbora', 'chuchu', 'pimentão', 'pimentão ']\n"
          ]
        }
      ]
    },
    {
      "cell_type": "markdown",
      "source": [
        "Dessa forma, podemos notar como podemos alterar a ordem dos elementos da nossa tupla."
      ],
      "metadata": {
        "id": "8omRP6rnL-KX"
      }
    }
  ]
}