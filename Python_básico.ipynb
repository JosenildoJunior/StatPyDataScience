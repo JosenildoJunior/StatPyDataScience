{
  "nbformat": 4,
  "nbformat_minor": 0,
  "metadata": {
    "colab": {
      "provenance": [],
      "collapsed_sections": [
        "4ztrhRW2Akxg",
        "SzN5yWvU9M0O",
        "5omOarakRumL",
        "ng3gqxvsSxzz",
        "5n_ZtomfUEwC",
        "IjE-KtdMRZZM"
      ],
      "authorship_tag": "ABX9TyMOJTrUJw2ns20g3HxpNQ9k",
      "include_colab_link": true
    },
    "kernelspec": {
      "name": "python3",
      "display_name": "Python 3"
    },
    "language_info": {
      "name": "python"
    }
  },
  "cells": [
    {
      "cell_type": "markdown",
      "metadata": {
        "id": "view-in-github",
        "colab_type": "text"
      },
      "source": [
        "<a href=\"https://colab.research.google.com/github/JosenildoJunior/StatPyDataScience/blob/main/Python_b%C3%A1sico.ipynb\" target=\"_parent\"><img src=\"https://colab.research.google.com/assets/colab-badge.svg\" alt=\"Open In Colab\"/></a>"
      ]
    },
    {
      "cell_type": "markdown",
      "source": [
        "# Estatística com Python: Um Guia para Estudos e Solução de Problemas\n"
      ],
      "metadata": {
        "id": "mn7HfIIdzcrR"
      }
    },
    {
      "cell_type": "markdown",
      "source": [
        "## Neste módulo, vamos aprender sobre os conceitos básicos de Python, incluindo:\n",
        "\n",
        "* **Variáveis:** Como declarar e usar variáveis para armazenar dados.\n",
        "* **Tipos de dados:** Os diferentes tipos de dados que podem ser armazenados em variáveis.\n",
        "* **Operadores:** Como realizar operações matemáticas e lógicas.\n",
        "* **Estruturas de controle:** Como controlar o fluxo de execução de seu código."
      ],
      "metadata": {
        "id": "OfdLi8no0of7"
      }
    },
    {
      "cell_type": "markdown",
      "source": [
        "## **Variáveis**"
      ],
      "metadata": {
        "id": "4ztrhRW2Akxg"
      }
    },
    {
      "cell_type": "markdown",
      "source": [
        "Uma variável é um local na memória do computador destinado ao armazenamento de valores. Para ilustrar esse conceito, considere o exemplo de armazenar a idade de uma pessoa, como 27 anos, em uma variável. No contexto do Python, como poderíamos realizar essa operação?"
      ],
      "metadata": {
        "id": "kpQTRkt4BBAh"
      }
    },
    {
      "cell_type": "code",
      "source": [
        "# Criando a variável\n",
        "idade = 27"
      ],
      "metadata": {
        "id": "8miR14uZAm8N"
      },
      "execution_count": 2,
      "outputs": []
    },
    {
      "cell_type": "markdown",
      "source": [
        "Podemos observar que para criar uma variável, basta escolher um nome e, em seguida, utilizar o símbolo de igual (=), que funciona como uma atribuição. Portanto, ao usar essa abordagem, criamos uma variável chamada 'idade' e a associamos ao valor 27."
      ],
      "metadata": {
        "id": "0AotZ86UB5ZG"
      }
    },
    {
      "cell_type": "markdown",
      "source": [
        "Agora que a variável foi declarada, podemos acessar seu valor a qualquer momento necessário. Utilizaremos a função 'print' para exibir o valor contido na variável."
      ],
      "metadata": {
        "id": "4C8D6_YTCVdR"
      }
    },
    {
      "cell_type": "code",
      "source": [
        "# Exibindo o valor\n",
        "print(idade)"
      ],
      "metadata": {
        "colab": {
          "base_uri": "https://localhost:8080/"
        },
        "id": "yj5DFZ8oCrzA",
        "outputId": "8cd87374-62f0-443b-ac8b-1e7125fafdfb"
      },
      "execution_count": 3,
      "outputs": [
        {
          "output_type": "stream",
          "name": "stdout",
          "text": [
            "27\n"
          ]
        }
      ]
    },
    {
      "cell_type": "markdown",
      "source": [
        "\n",
        "Dessa forma, podemos imprimir o valor da variável sempre que necessário. É importante lembrar que após ser declarada, uma variável pode ser acessada e modificada usando seu nome. Vamos alterar o valor da idade para 20."
      ],
      "metadata": {
        "id": "lvPENQ-ZCv4u"
      }
    },
    {
      "cell_type": "code",
      "source": [
        "# Alterando o valor da variável\n",
        "idade = 20"
      ],
      "metadata": {
        "id": "37qEXiYPDEFG"
      },
      "execution_count": 4,
      "outputs": []
    },
    {
      "cell_type": "markdown",
      "source": [
        "Para realizar essa alteração, bastou utilizarmos a mesma variável, porém, ao atribuirmos um valor diferente, ela automaticamente sobrescreveu o antigo valor que continha. Dessa forma, a variável 'idade' passou a ter o valor de 20, diferentemente da primeira vez em que a criamos, quando seu valor era 27."
      ],
      "metadata": {
        "id": "mCnS-4r8DJCU"
      }
    },
    {
      "cell_type": "code",
      "source": [
        "# Exibindo o valor\n",
        "print(idade)"
      ],
      "metadata": {
        "colab": {
          "base_uri": "https://localhost:8080/"
        },
        "id": "gQ8axG6TDasb",
        "outputId": "14a6cd11-f55e-46a5-c26f-5b39ea724cab"
      },
      "execution_count": 5,
      "outputs": [
        {
          "output_type": "stream",
          "name": "stdout",
          "text": [
            "20\n"
          ]
        }
      ]
    },
    {
      "cell_type": "markdown",
      "source": [
        "Podemos confirmar, então, que o valor da variável foi alterado. As variáveis são uma ferramenta fundamental na programação em Python, permitindo-nos armazenar dados e manipulá-los de forma eficiente."
      ],
      "metadata": {
        "id": "qde6SaKGDd2r"
      }
    },
    {
      "cell_type": "markdown",
      "source": [
        "## **Tipos de dados**"
      ],
      "metadata": {
        "id": "SzN5yWvU9M0O"
      }
    },
    {
      "cell_type": "markdown",
      "source": [
        "Em Python, os tipos de dados determinam o tipo de valor que pode ser armazenado em uma variável. Os tipos de dados mais comuns são:\n",
        "\n",
        "- Inteiro: armazena números inteiros, como 1, 2, 3, etc.\n",
        "- Ponto flutuante: armazena números de ponto flutuante, como 1.0, 2.5, 3.14159, etc.\n",
        "- Booleano: armazena valores lógicos, como True (verdadeiro) ou False (falso).\n",
        "- String: armazena texto, como \"Olá, mundo!\"."
      ],
      "metadata": {
        "id": "cVHNewKgPuli"
      }
    },
    {
      "cell_type": "markdown",
      "source": [
        "### **Int (inteiros)**"
      ],
      "metadata": {
        "id": "5omOarakRumL"
      }
    },
    {
      "cell_type": "markdown",
      "source": [
        "Como já vimos anteriormente, variáveis do tipo int representam números inteiros, como a idade de alguém, por exemplo. Ao declararmos uma variável e atribuirmos a ela um valor numérico inteiro, ela será automaticamente do tipo int. Vamos observar com um exemplo:"
      ],
      "metadata": {
        "id": "OsYFY0F0Rw7g"
      }
    },
    {
      "cell_type": "code",
      "source": [
        "# Criando uma variável do tipo int\n",
        "gols = 2"
      ],
      "metadata": {
        "id": "WvkGNIHySEqv"
      },
      "execution_count": 6,
      "outputs": []
    },
    {
      "cell_type": "markdown",
      "source": [
        "Criamos uma variável chamada 'gols' e atribuímos a ela um valor inteiro. Para garantir que essa variável seja do tipo int, podemos utilizar a função chamada 'type'. Esta função retornará o tipo da variável, seja qual for."
      ],
      "metadata": {
        "id": "n_KDrV9ySNwG"
      }
    },
    {
      "cell_type": "code",
      "source": [
        "# Observando o tipo da variável\n",
        "type(gols)"
      ],
      "metadata": {
        "colab": {
          "base_uri": "https://localhost:8080/"
        },
        "id": "M4cvY2_pSdQc",
        "outputId": "b6766da7-ed88-4c50-ceba-6b8b5343d45d"
      },
      "execution_count": 7,
      "outputs": [
        {
          "output_type": "execute_result",
          "data": {
            "text/plain": [
              "int"
            ]
          },
          "metadata": {},
          "execution_count": 7
        }
      ]
    },
    {
      "cell_type": "markdown",
      "source": [
        "Ao observar o resultado da função 'type' e encontrar 'int', confirmamos que a variável é do tipo inteiro. Isso é uma maneira útil de verificar o tipo de variável que estamos manipulando em Python."
      ],
      "metadata": {
        "id": "kygsEUV-Sglz"
      }
    },
    {
      "cell_type": "markdown",
      "source": [
        "### **Float (Ponto flutuante)**"
      ],
      "metadata": {
        "id": "ng3gqxvsSxzz"
      }
    },
    {
      "cell_type": "markdown",
      "source": [
        "No tipo float, os dados armazenados representam números reais com casas decimais, como 1.0, 2.5 e 3.14159. Vamos explorar mais a fundo para uma compreensão mais ampla."
      ],
      "metadata": {
        "id": "mgH2T0DxS3JZ"
      }
    },
    {
      "cell_type": "code",
      "source": [
        "# Criando a variável do tipo float\n",
        "altura = 1.74"
      ],
      "metadata": {
        "id": "2XhD7regTX59"
      },
      "execution_count": 11,
      "outputs": []
    },
    {
      "cell_type": "markdown",
      "source": [
        "Para exemplificar, criamos uma variável que recebe a altura de um indivíduo em metros. Por se tratar de um valor real, podemos concluir que é do tipo float, mas vamos confirmar.\n",
        "\n"
      ],
      "metadata": {
        "id": "NNgjN43iTgJ1"
      }
    },
    {
      "cell_type": "code",
      "source": [
        "# Observando o tipo da variável\n",
        "type(altura)"
      ],
      "metadata": {
        "colab": {
          "base_uri": "https://localhost:8080/"
        },
        "id": "mtWU6rGfTz0l",
        "outputId": "e6eafd67-228a-42ea-d6ff-0e3cbc69aefd"
      },
      "execution_count": 12,
      "outputs": [
        {
          "output_type": "execute_result",
          "data": {
            "text/plain": [
              "float"
            ]
          },
          "metadata": {},
          "execution_count": 12
        }
      ]
    },
    {
      "cell_type": "markdown",
      "source": [
        "E é exatamente isso que confirmamos ao executarmos a função `type`. Percebemos que a saída foi float, confirmando que esse dado se trata de um valor do tipo float."
      ],
      "metadata": {
        "id": "Q19OAgWYT3BS"
      }
    },
    {
      "cell_type": "markdown",
      "source": [
        "### **Bool (Booleano)**"
      ],
      "metadata": {
        "id": "5n_ZtomfUEwC"
      }
    },
    {
      "cell_type": "markdown",
      "source": [
        "\n",
        "Os dados booleanos, ou bool, são dados que só podem receber dois valores: verdadeiro (True) ou falso (False). Eles são usados para representar valores lógicos, como a verdade ou falsidade de uma afirmação."
      ],
      "metadata": {
        "id": "XxhwIlxJUSZg"
      }
    },
    {
      "cell_type": "code",
      "source": [
        "# Criando a variável do tipo bool\n",
        "falso = False\n",
        "\n",
        "# Criando a variável do tipo bool\n",
        "verdadeiro = True\n",
        "\n",
        "# Criando a variável do tipo bool\n",
        "casa = False"
      ],
      "metadata": {
        "id": "0BxqqMnAUVkw"
      },
      "execution_count": 13,
      "outputs": []
    },
    {
      "cell_type": "markdown",
      "source": [
        "É importante frisar que o tipo da variável é independente do nome. O que realmente importa para determinar o tipo da variável é o conteúdo. Neste exemplo, foram criadas três variáveis, todas recebendo valores booleanos, que podem ser verdadeiro ou falso. Apesar de terem nomes diferentes, os conteúdos são do mesmo tipo. Portanto, ao utilizarmos a função 'type', o resultado será o mesmo. Vamos conferir."
      ],
      "metadata": {
        "id": "ervCZShoUrBV"
      }
    },
    {
      "cell_type": "code",
      "source": [
        "# Observando o tipo da variável\n",
        "type(falso), type(verdadeiro), type(casa)"
      ],
      "metadata": {
        "colab": {
          "base_uri": "https://localhost:8080/"
        },
        "id": "U5f4raz1VHn6",
        "outputId": "851dec01-8a7c-4a4f-d905-d8b95a298e19"
      },
      "execution_count": 14,
      "outputs": [
        {
          "output_type": "execute_result",
          "data": {
            "text/plain": [
              "(bool, bool, bool)"
            ]
          },
          "metadata": {},
          "execution_count": 14
        }
      ]
    },
    {
      "cell_type": "markdown",
      "source": [
        "Podemos observar, então, que em todos os casos o tipo de dado é o mesmo; ambas são do tipo booleano."
      ],
      "metadata": {
        "id": "lEM3gwc_VQxI"
      }
    },
    {
      "cell_type": "markdown",
      "source": [
        "### **String (texto)**"
      ],
      "metadata": {
        "id": "IjE-KtdMRZZM"
      }
    },
    {
      "cell_type": "markdown",
      "source": [
        "Strings são dados do tipo texto; normalmente, esse tipo de dado está entre aspas. Logo, se declararmos uma variável com um nome qualquer e seu conteúdo estiver entre aspas (sejam elas simples ou duplas), isso implica que o conteúdo daquela variável será do tipo string. Vamos ver no exemplo a seguir."
      ],
      "metadata": {
        "id": "ZkgPuBRFPzXA"
      }
    },
    {
      "cell_type": "code",
      "execution_count": 8,
      "metadata": {
        "id": "CVmx-gJTzNIj"
      },
      "outputs": [],
      "source": [
        "# Criando a variável do tipo string\n",
        "nome = 'Pepper'"
      ]
    },
    {
      "cell_type": "markdown",
      "source": [
        "Então, a nossa variável está criada, mas como posso ter certeza de que essa variável se trata realmente de uma variável do tipo texto? Para sanarmos essa dúvida, vamos utilizar novamente a função 'type'."
      ],
      "metadata": {
        "id": "Lw_0zvn1Q1ZB"
      }
    },
    {
      "cell_type": "code",
      "source": [
        "# Observando o tipo da variável\n",
        "type(nome)"
      ],
      "metadata": {
        "colab": {
          "base_uri": "https://localhost:8080/"
        },
        "id": "4cm-UiOQRKMO",
        "outputId": "5925a06b-bc5a-4650-ce67-f4da05444811"
      },
      "execution_count": 9,
      "outputs": [
        {
          "output_type": "execute_result",
          "data": {
            "text/plain": [
              "str"
            ]
          },
          "metadata": {},
          "execution_count": 9
        }
      ]
    },
    {
      "cell_type": "markdown",
      "source": [
        "Dessa forma, podemos ter certeza do tipo de dados armazenado em qualquer variável que utilizemos essa função. Neste caso, o resultado foi 'str' ou string, logo podemos concluir que o tipo da variável é do tipo texto."
      ],
      "metadata": {
        "id": "8nesy6AiRMGc"
      }
    }
  ]
}