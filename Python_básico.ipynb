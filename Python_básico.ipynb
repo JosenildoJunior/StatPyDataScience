{
  "nbformat": 4,
  "nbformat_minor": 0,
  "metadata": {
    "colab": {
      "provenance": [],
      "collapsed_sections": [
        "4ztrhRW2Akxg",
        "SzN5yWvU9M0O",
        "5omOarakRumL",
        "ng3gqxvsSxzz",
        "5n_ZtomfUEwC",
        "IjE-KtdMRZZM",
        "wrLoJUHYX-lO",
        "fSsqhvDEaiiq",
        "eJRHPBWFa3wZ",
        "oj3HGQPI5jMq",
        "NtgxTb4K44qg",
        "4RyIm8cR7G4g",
        "vuSPyxQy77zx",
        "GLugMzTMAJCb",
        "_FszjS22EJYm",
        "qTseIXALLNMl",
        "2SAS1dzUJHOc",
        "q5R0vDtHRSym",
        "TUiBrAadBm0x",
        "vHf3KZ9OGIgf",
        "-FdLAfloGzEj",
        "x5S4Yf-IIM6L",
        "cY3t3rbJIzSk",
        "kpK6juJhKaka",
        "7ZGHpHJVSTaR",
        "o4ZAu6g1VN27",
        "DJbfixJPZe-F",
        "Pe6zTQb_YEPo",
        "dRhrNsYgarsF",
        "Ar01x6J_XSWU",
        "tr7N2u0eMlbF",
        "PgGVSY2COUig",
        "mpMhRTJ_Pk0Q",
        "xuzG4dEoQJBL",
        "EeNZq8x7QpkI",
        "MvFcPycaWmA1",
        "50ltQ3_AXDDp",
        "VWYEM8tdbNXF",
        "nG5IWcv4imBP",
        "tCi-k4DYkZ0N"
      ],
      "authorship_tag": "ABX9TyPqs91LAfNM78/B80UrWlrP",
      "include_colab_link": true
    },
    "kernelspec": {
      "name": "python3",
      "display_name": "Python 3"
    },
    "language_info": {
      "name": "python"
    }
  },
  "cells": [
    {
      "cell_type": "markdown",
      "metadata": {
        "id": "view-in-github",
        "colab_type": "text"
      },
      "source": [
        "<a href=\"https://colab.research.google.com/github/JosenildoJunior/StatPyDataScience/blob/main/Python_b%C3%A1sico.ipynb\" target=\"_parent\"><img src=\"https://colab.research.google.com/assets/colab-badge.svg\" alt=\"Open In Colab\"/></a>"
      ]
    },
    {
      "cell_type": "markdown",
      "source": [
        "# Estatística com Python: Um Guia para Estudos e Solução de Problemas\n"
      ],
      "metadata": {
        "id": "mn7HfIIdzcrR"
      }
    },
    {
      "cell_type": "markdown",
      "source": [
        "## Neste módulo, vamos aprender sobre os conceitos básicos de Python, incluindo:\n",
        "\n",
        "* **Variáveis:** Como declarar e usar variáveis para armazenar dados.\n",
        "* **Tipos de dados:** Os diferentes tipos de dados que podem ser armazenados em variáveis.\n",
        "* **Estruturas:** São objetos que armazenam e organizam dados.\n",
        "* **Operadores e operações matemáticas:** Como realizar operações matemáticas e lógicas.\n",
        "* **Estruturas de controle:** Como controlar o fluxo de execução de seu código.\n",
        "* **Pandas:** Biblioteca para manipulação e análise de dados."
      ],
      "metadata": {
        "id": "OfdLi8no0of7"
      }
    },
    {
      "cell_type": "markdown",
      "source": [
        "## **Variáveis**"
      ],
      "metadata": {
        "id": "4ztrhRW2Akxg"
      }
    },
    {
      "cell_type": "markdown",
      "source": [
        "Uma variável é um local na memória do computador destinado ao armazenamento de valores. Para ilustrar esse conceito, considere o exemplo de armazenar a idade de uma pessoa, como 27 anos, em uma variável. No contexto do Python, como poderíamos realizar essa operação?"
      ],
      "metadata": {
        "id": "kpQTRkt4BBAh"
      }
    },
    {
      "cell_type": "code",
      "source": [
        "# Criando a variável\n",
        "idade = 27"
      ],
      "metadata": {
        "id": "8miR14uZAm8N"
      },
      "execution_count": null,
      "outputs": []
    },
    {
      "cell_type": "markdown",
      "source": [
        "Podemos observar que para criar uma variável, basta escolher um nome e, em seguida, utilizar o símbolo de igual (=), que funciona como uma atribuição. Portanto, ao usar essa abordagem, criamos uma variável chamada 'idade' e a associamos ao valor 27."
      ],
      "metadata": {
        "id": "0AotZ86UB5ZG"
      }
    },
    {
      "cell_type": "markdown",
      "source": [
        "Agora que a variável foi declarada, podemos acessar seu valor a qualquer momento necessário. Utilizaremos a função 'print' para exibir o valor contido na variável."
      ],
      "metadata": {
        "id": "4C8D6_YTCVdR"
      }
    },
    {
      "cell_type": "code",
      "source": [
        "# Exibindo o valor\n",
        "print(idade)"
      ],
      "metadata": {
        "colab": {
          "base_uri": "https://localhost:8080/"
        },
        "id": "yj5DFZ8oCrzA",
        "outputId": "8cd87374-62f0-443b-ac8b-1e7125fafdfb"
      },
      "execution_count": null,
      "outputs": [
        {
          "output_type": "stream",
          "name": "stdout",
          "text": [
            "27\n"
          ]
        }
      ]
    },
    {
      "cell_type": "markdown",
      "source": [
        "\n",
        "Dessa forma, podemos imprimir o valor da variável sempre que necessário. É importante lembrar que após ser declarada, uma variável pode ser acessada e modificada usando seu nome. Vamos alterar o valor da idade para 20."
      ],
      "metadata": {
        "id": "lvPENQ-ZCv4u"
      }
    },
    {
      "cell_type": "code",
      "source": [
        "# Alterando o valor da variável\n",
        "idade = 20"
      ],
      "metadata": {
        "id": "37qEXiYPDEFG"
      },
      "execution_count": null,
      "outputs": []
    },
    {
      "cell_type": "markdown",
      "source": [
        "Para realizar essa alteração, bastou utilizarmos a mesma variável, porém, ao atribuirmos um valor diferente, ela automaticamente sobrescreveu o antigo valor que continha. Dessa forma, a variável 'idade' passou a ter o valor de 20, diferentemente da primeira vez em que a criamos, quando seu valor era 27."
      ],
      "metadata": {
        "id": "mCnS-4r8DJCU"
      }
    },
    {
      "cell_type": "code",
      "source": [
        "# Exibindo o valor\n",
        "print(idade)"
      ],
      "metadata": {
        "colab": {
          "base_uri": "https://localhost:8080/"
        },
        "id": "gQ8axG6TDasb",
        "outputId": "14a6cd11-f55e-46a5-c26f-5b39ea724cab"
      },
      "execution_count": null,
      "outputs": [
        {
          "output_type": "stream",
          "name": "stdout",
          "text": [
            "20\n"
          ]
        }
      ]
    },
    {
      "cell_type": "markdown",
      "source": [
        "Podemos confirmar, então, que o valor da variável foi alterado. As variáveis são uma ferramenta fundamental na programação em Python, permitindo-nos armazenar dados e manipulá-los de forma eficiente."
      ],
      "metadata": {
        "id": "qde6SaKGDd2r"
      }
    },
    {
      "cell_type": "markdown",
      "source": [
        "## **Tipos de dados**"
      ],
      "metadata": {
        "id": "SzN5yWvU9M0O"
      }
    },
    {
      "cell_type": "markdown",
      "source": [
        "Os tipos de dados determinam o tipo de valor que pode ser armazenado em uma variável. Os tipos de dados mais comuns são:\n",
        "\n",
        "- Inteiro: armazena números inteiros, como 1, 2, 3, etc.\n",
        "- Ponto flutuante: armazena números de ponto flutuante, como 1.0, 2.5, 3.14159, etc.\n",
        "- Booleano: armazena valores lógicos, como True (verdadeiro) ou False (falso).\n",
        "- String: armazena texto, como \"Olá, mundo!\".\n",
        "- Date: armazenar informações de data, como (2024, 1, 10)\n",
        "\n"
      ],
      "metadata": {
        "id": "cVHNewKgPuli"
      }
    },
    {
      "cell_type": "markdown",
      "source": [
        "### **Int (Inteiros)**"
      ],
      "metadata": {
        "id": "5omOarakRumL"
      }
    },
    {
      "cell_type": "markdown",
      "source": [
        "Como já vimos anteriormente, variáveis do tipo int representam números inteiros, como a idade de alguém, por exemplo. Ao declararmos uma variável e atribuirmos a ela um valor numérico inteiro, ela será automaticamente do tipo int. Vamos observar com um exemplo:"
      ],
      "metadata": {
        "id": "OsYFY0F0Rw7g"
      }
    },
    {
      "cell_type": "code",
      "source": [
        "# Criando uma variável do tipo int\n",
        "gols = 2"
      ],
      "metadata": {
        "id": "WvkGNIHySEqv"
      },
      "execution_count": null,
      "outputs": []
    },
    {
      "cell_type": "markdown",
      "source": [
        "Criamos uma variável chamada 'gols' e atribuímos a ela um valor inteiro. Para garantir que essa variável seja do tipo int, podemos utilizar a função chamada 'type'. Esta função retornará o tipo da variável, seja qual for."
      ],
      "metadata": {
        "id": "n_KDrV9ySNwG"
      }
    },
    {
      "cell_type": "code",
      "source": [
        "# Observando o tipo da variável\n",
        "type(gols)"
      ],
      "metadata": {
        "colab": {
          "base_uri": "https://localhost:8080/"
        },
        "id": "M4cvY2_pSdQc",
        "outputId": "b6766da7-ed88-4c50-ceba-6b8b5343d45d"
      },
      "execution_count": null,
      "outputs": [
        {
          "output_type": "execute_result",
          "data": {
            "text/plain": [
              "int"
            ]
          },
          "metadata": {},
          "execution_count": 7
        }
      ]
    },
    {
      "cell_type": "markdown",
      "source": [
        "Ao observar o resultado da função 'type' e encontrar 'int', confirmamos que a variável é do tipo inteiro. Isso é uma maneira útil de verificar o tipo de variável que estamos manipulando em Python."
      ],
      "metadata": {
        "id": "kygsEUV-Sglz"
      }
    },
    {
      "cell_type": "markdown",
      "source": [
        "### **Float (Ponto flutuante)**"
      ],
      "metadata": {
        "id": "ng3gqxvsSxzz"
      }
    },
    {
      "cell_type": "markdown",
      "source": [
        "No tipo float, os dados armazenados representam números reais com casas decimais, como 1.0, 2.5 e 3.14159. Vamos explorar mais a fundo para uma compreensão mais ampla."
      ],
      "metadata": {
        "id": "mgH2T0DxS3JZ"
      }
    },
    {
      "cell_type": "code",
      "source": [
        "# Criando a variável do tipo float\n",
        "altura = 1.74"
      ],
      "metadata": {
        "id": "2XhD7regTX59"
      },
      "execution_count": null,
      "outputs": []
    },
    {
      "cell_type": "markdown",
      "source": [
        "Para exemplificar, criamos uma variável que recebe a altura de um indivíduo em metros. Por se tratar de um valor real, podemos concluir que é do tipo float, mas vamos confirmar.\n",
        "\n"
      ],
      "metadata": {
        "id": "NNgjN43iTgJ1"
      }
    },
    {
      "cell_type": "code",
      "source": [
        "# Observando o tipo da variável\n",
        "type(altura)"
      ],
      "metadata": {
        "colab": {
          "base_uri": "https://localhost:8080/"
        },
        "id": "mtWU6rGfTz0l",
        "outputId": "e6eafd67-228a-42ea-d6ff-0e3cbc69aefd"
      },
      "execution_count": null,
      "outputs": [
        {
          "output_type": "execute_result",
          "data": {
            "text/plain": [
              "float"
            ]
          },
          "metadata": {},
          "execution_count": 12
        }
      ]
    },
    {
      "cell_type": "markdown",
      "source": [
        "E é exatamente isso que confirmamos ao executarmos a função `type`. Percebemos que a saída foi float, confirmando que esse dado se trata de um valor do tipo float."
      ],
      "metadata": {
        "id": "Q19OAgWYT3BS"
      }
    },
    {
      "cell_type": "markdown",
      "source": [
        "### **Bool (Booleano)**"
      ],
      "metadata": {
        "id": "5n_ZtomfUEwC"
      }
    },
    {
      "cell_type": "markdown",
      "source": [
        "\n",
        "Os dados booleanos, ou bool, são dados que só podem receber dois valores: verdadeiro (True) ou falso (False). Eles são usados para representar valores lógicos, como a verdade ou falsidade de uma afirmação."
      ],
      "metadata": {
        "id": "XxhwIlxJUSZg"
      }
    },
    {
      "cell_type": "code",
      "source": [
        "# Criando a variável do tipo bool\n",
        "falso = False\n",
        "\n",
        "# Criando a variável do tipo bool\n",
        "verdadeiro = True\n",
        "\n",
        "# Criando a variável do tipo bool\n",
        "casa = False"
      ],
      "metadata": {
        "id": "0BxqqMnAUVkw"
      },
      "execution_count": null,
      "outputs": []
    },
    {
      "cell_type": "markdown",
      "source": [
        "É importante frisar que o tipo da variável é independente do nome. O que realmente importa para determinar o tipo da variável é o conteúdo. Neste exemplo, foram criadas três variáveis, todas recebendo valores booleanos, que podem ser verdadeiro ou falso. Apesar de terem nomes diferentes, os conteúdos são do mesmo tipo. Portanto, ao utilizarmos a função 'type', o resultado será o mesmo. Vamos conferir."
      ],
      "metadata": {
        "id": "ervCZShoUrBV"
      }
    },
    {
      "cell_type": "code",
      "source": [
        "# Observando o tipo da variável\n",
        "type(falso), type(verdadeiro), type(casa)"
      ],
      "metadata": {
        "colab": {
          "base_uri": "https://localhost:8080/"
        },
        "id": "U5f4raz1VHn6",
        "outputId": "851dec01-8a7c-4a4f-d905-d8b95a298e19"
      },
      "execution_count": null,
      "outputs": [
        {
          "output_type": "execute_result",
          "data": {
            "text/plain": [
              "(bool, bool, bool)"
            ]
          },
          "metadata": {},
          "execution_count": 14
        }
      ]
    },
    {
      "cell_type": "markdown",
      "source": [
        "Podemos observar, então, que em todos os casos o tipo de dado é o mesmo; ambas são do tipo booleano."
      ],
      "metadata": {
        "id": "lEM3gwc_VQxI"
      }
    },
    {
      "cell_type": "markdown",
      "source": [
        "### **String (Texto)**"
      ],
      "metadata": {
        "id": "IjE-KtdMRZZM"
      }
    },
    {
      "cell_type": "markdown",
      "source": [
        "Strings são dados do tipo texto; normalmente, esse tipo de dado está entre aspas. Logo, se declararmos uma variável com um nome qualquer e seu conteúdo estiver entre aspas (sejam elas simples ou duplas), isso implica que o conteúdo daquela variável será do tipo string. Vamos ver no exemplo a seguir."
      ],
      "metadata": {
        "id": "ZkgPuBRFPzXA"
      }
    },
    {
      "cell_type": "code",
      "execution_count": null,
      "metadata": {
        "id": "CVmx-gJTzNIj"
      },
      "outputs": [],
      "source": [
        "# Criando a variável do tipo string\n",
        "nome = 'Pepper'"
      ]
    },
    {
      "cell_type": "markdown",
      "source": [
        "Então, a nossa variável está criada, mas como posso ter certeza de que essa variável se trata realmente de uma variável do tipo texto? Para sanarmos essa dúvida, vamos utilizar novamente a função 'type'."
      ],
      "metadata": {
        "id": "Lw_0zvn1Q1ZB"
      }
    },
    {
      "cell_type": "code",
      "source": [
        "# Observando o tipo da variável\n",
        "type(nome)"
      ],
      "metadata": {
        "colab": {
          "base_uri": "https://localhost:8080/"
        },
        "id": "4cm-UiOQRKMO",
        "outputId": "5925a06b-bc5a-4650-ce67-f4da05444811"
      },
      "execution_count": null,
      "outputs": [
        {
          "output_type": "execute_result",
          "data": {
            "text/plain": [
              "str"
            ]
          },
          "metadata": {},
          "execution_count": 9
        }
      ]
    },
    {
      "cell_type": "markdown",
      "source": [
        "Dessa forma, podemos ter certeza do tipo de dados armazenado em qualquer variável que utilizemos essa função. Neste caso, o resultado foi 'str' ou string, logo podemos concluir que o tipo da variável é do tipo texto."
      ],
      "metadata": {
        "id": "8nesy6AiRMGc"
      }
    },
    {
      "cell_type": "markdown",
      "source": [
        "### **Datetime (Data)**"
      ],
      "metadata": {
        "id": "wrLoJUHYX-lO"
      }
    },
    {
      "cell_type": "markdown",
      "source": [
        "No Python, a variável do tipo date é usada para representar datas. Esta variável faz parte do módulo datetime na biblioteca padrão do Python. Ela é usada para armazenar informações de data sem incluir informações sobre o horário específico."
      ],
      "metadata": {
        "id": "Xdms6MrAYLTU"
      }
    },
    {
      "cell_type": "markdown",
      "source": [
        "Para exemplificar esse tipo de dados, será necessário a importação de uma biblioteca. Vamos observar essa parte."
      ],
      "metadata": {
        "id": "_mBC3iaEYPw0"
      }
    },
    {
      "cell_type": "code",
      "source": [
        "# Realizando a importação\n",
        "from datetime import date"
      ],
      "metadata": {
        "id": "8vodkXLqYYUj"
      },
      "execution_count": null,
      "outputs": []
    },
    {
      "cell_type": "markdown",
      "source": [
        "Agora que realizamos a importação do pacote, podemos seguir para a exemplificação."
      ],
      "metadata": {
        "id": "d8G4fi_PYg-R"
      }
    },
    {
      "cell_type": "code",
      "source": [
        "# Obter o dia de hoje\n",
        "data_atual = date.today()"
      ],
      "metadata": {
        "id": "s9l4KZD1YGVU"
      },
      "execution_count": null,
      "outputs": []
    },
    {
      "cell_type": "markdown",
      "source": [
        "Atribuímos à variável data_atual o valor da função 'today()', que retorna a data atual. Vamos observar o dado armazenado e, em seguida, o tipo do dado."
      ],
      "metadata": {
        "id": "xpZ0-esaYmWY"
      }
    },
    {
      "cell_type": "code",
      "source": [
        "# Exibindo a data de hoje\n",
        "print(data_atual)"
      ],
      "metadata": {
        "colab": {
          "base_uri": "https://localhost:8080/"
        },
        "id": "4k_9mGQoY52u",
        "outputId": "77ca1226-ab6a-4c1b-c5f5-31f6da0a9f45"
      },
      "execution_count": null,
      "outputs": [
        {
          "output_type": "stream",
          "name": "stdout",
          "text": [
            "2024-01-15\n"
          ]
        }
      ]
    },
    {
      "cell_type": "markdown",
      "source": [
        "Dessa forma, podemos observar o valor armazenado, que é o exato dia em que estou executando este código. Agora, vamos confirmar qual o tipo de dado presente nessa variável."
      ],
      "metadata": {
        "id": "4gd8o4DtZJ-1"
      }
    },
    {
      "cell_type": "code",
      "source": [
        "# Observando o tipo do dado\n",
        "type(data_atual)"
      ],
      "metadata": {
        "colab": {
          "base_uri": "https://localhost:8080/"
        },
        "id": "pNRq2XFzZaIx",
        "outputId": "582d8d38-5bc8-4eb2-fce3-cb6e51b4c306"
      },
      "execution_count": null,
      "outputs": [
        {
          "output_type": "execute_result",
          "data": {
            "text/plain": [
              "datetime.date"
            ]
          },
          "metadata": {},
          "execution_count": 22
        }
      ]
    },
    {
      "cell_type": "markdown",
      "source": [
        "O resultado foi datetime.date, logo podemos concluir que esse dado se trata realmente de um dado do tipo data."
      ],
      "metadata": {
        "id": "UyO9A4__Zj_7"
      }
    },
    {
      "cell_type": "markdown",
      "source": [
        "## **Estruturas**"
      ],
      "metadata": {
        "id": "fSsqhvDEaiiq"
      }
    },
    {
      "cell_type": "markdown",
      "source": [
        "As estruturas de dados são objetos que armazenam e organizam dados. Elas são usadas para simplificar o código e tornar mais eficiente o processamento de dados.\n",
        "\n",
        "As principais estruturas de dados em Python são:\n",
        "\n",
        "- Listas: armazenam uma coleção de valores de qualquer tipo.\n",
        "- Tuplas: armazenam uma coleção de valores de qualquer tipo, mas são imutáveis.\n",
        "- Dicionários: armazenam uma coleção de pares chave-valor.\n",
        "- Conjuntos: armazenam uma coleção de valores únicos."
      ],
      "metadata": {
        "id": "nUlHMVbJasn6"
      }
    },
    {
      "cell_type": "markdown",
      "source": [
        "### **List (Listas)**"
      ],
      "metadata": {
        "id": "eJRHPBWFa3wZ"
      }
    },
    {
      "cell_type": "markdown",
      "source": [
        "Listas são estruturas de dados ordenadas que permitem armazenar uma coleção de valores de qualquer tipo. Os valores de uma lista são chamados de elementos ou itens."
      ],
      "metadata": {
        "id": "TT8YwDp8bFZX"
      }
    },
    {
      "cell_type": "markdown",
      "source": [
        "Para declararmos uma lista em Python, seguimos o seguinte padrão: nome_da_variável, seguido por um sinal de igual (=) e os valores entre colchetes ([ ]), como por exemplo:"
      ],
      "metadata": {
        "id": "KiqEcmeHbHof"
      }
    },
    {
      "cell_type": "code",
      "source": [
        "# Criando uma lista\n",
        "frutas = ['Abacate', 'Abacate', 'Uva', 12, 3.14, 12]"
      ],
      "metadata": {
        "id": "PR7kY-Fcbm1U"
      },
      "execution_count": null,
      "outputs": []
    },
    {
      "cell_type": "markdown",
      "source": [
        "Podemos notar uma coisa interessante: uma lista pode ser criada e utilizada para armazenar dados de diferentes tipos. Podemos observar que nessa mesma lista chamada frutas, temos variáveis dos tipos string, int e float. Vamos verificar se essa variável realmente se trata de uma lista."
      ],
      "metadata": {
        "id": "i0E6f5y0bw9i"
      }
    },
    {
      "cell_type": "markdown",
      "source": [
        "Observando a lista criada."
      ],
      "metadata": {
        "id": "o4G_AWUJ-gMI"
      }
    },
    {
      "cell_type": "code",
      "source": [
        "# Exibindo os valores\n",
        "print(frutas)"
      ],
      "metadata": {
        "colab": {
          "base_uri": "https://localhost:8080/"
        },
        "id": "kmPLg-gK-ikQ",
        "outputId": "2601b575-46bb-46ab-ebc2-f923b46d960f"
      },
      "execution_count": null,
      "outputs": [
        {
          "output_type": "stream",
          "name": "stdout",
          "text": [
            "['Abacate', 'Abacate', 'Uva', 12, 3.14, 12]\n"
          ]
        }
      ]
    },
    {
      "cell_type": "markdown",
      "source": [
        "Agora vamos observar o tipo do dado."
      ],
      "metadata": {
        "id": "AZYpU_-lA9rt"
      }
    },
    {
      "cell_type": "code",
      "source": [
        "# Exibindo o tipo do dado\n",
        "type(frutas)"
      ],
      "metadata": {
        "colab": {
          "base_uri": "https://localhost:8080/"
        },
        "id": "ASjwuu3DcRgm",
        "outputId": "07074aec-a5bc-4e9d-c635-4b40f196c171"
      },
      "execution_count": null,
      "outputs": [
        {
          "output_type": "execute_result",
          "data": {
            "text/plain": [
              "list"
            ]
          },
          "metadata": {},
          "execution_count": 106
        }
      ]
    },
    {
      "cell_type": "markdown",
      "source": [
        "Podemos observar então que essa variável realmente se trata de uma lista e que pode armazenar diversos tipos de dados. Para demonstrar o quão poderosa é essa estrutura de dados, vamos observar como realizar funções como, por exemplo:\n",
        "\n",
        "- Acessar elementos\n",
        "- Adicionar elementos\n",
        "- Alterar elementos\n",
        "- Remover elementos\n",
        "- Contar elementos\n",
        "- Verificando a existência de elementos\n",
        "- Buscar elementos\n",
        "- Ordenar a lista\n",
        "- Invertendo a lista\n",
        "\n"
      ],
      "metadata": {
        "id": "_4eUHk6mcXc-"
      }
    },
    {
      "cell_type": "markdown",
      "source": [
        "#### *Acessando um elemento*"
      ],
      "metadata": {
        "id": "oj3HGQPI5jMq"
      }
    },
    {
      "cell_type": "markdown",
      "source": [
        "Para acessar um elemento em uma lista, basta passar a posição que o elemento está na lista entre colchetes. Lembrando que a contagem desses números começa em 0 no Python. Então, digamos que existe a seguinte lista: notas = [6.0, 10, 9.7] Podemos notar que temos 3 elementos. Mas, se quisermos acessar o primeiro, utilizaremos o código da seguinte forma: notas[0], Pois, como a contagem em Python começa de 0, o primeiro elemento da lista está na posição 0, o segundo na posição 1, o terceiro na posição 2 e assim por diante."
      ],
      "metadata": {
        "id": "-4Ti4O4X5rah"
      }
    },
    {
      "cell_type": "markdown",
      "source": [
        "Primeiro, vamos exibir a lista completa."
      ],
      "metadata": {
        "id": "TUFENO1q6fps"
      }
    },
    {
      "cell_type": "code",
      "source": [
        "# Exibindo os valores\n",
        "print(frutas)"
      ],
      "metadata": {
        "colab": {
          "base_uri": "https://localhost:8080/"
        },
        "id": "X_suZ9T_6hyL",
        "outputId": "6ee3d343-d24e-4762-808a-bf4c8885f334"
      },
      "execution_count": null,
      "outputs": [
        {
          "output_type": "stream",
          "name": "stdout",
          "text": [
            "['Abacate', 'Abacate', 'Uva', 12, 3.14, 12]\n"
          ]
        }
      ]
    },
    {
      "cell_type": "markdown",
      "source": [
        "Agora, vamos acessar o terceiro elemento da lista."
      ],
      "metadata": {
        "id": "TC95ry6d6k6k"
      }
    },
    {
      "cell_type": "code",
      "source": [
        "# Acessando um elemento na lista\n",
        "frutas[2]"
      ],
      "metadata": {
        "colab": {
          "base_uri": "https://localhost:8080/"
        },
        "id": "RGT1oaU_5q14",
        "outputId": "fe19f0a3-d348-46a5-ca78-19bfff8178e9"
      },
      "execution_count": null,
      "outputs": [
        {
          "output_type": "execute_result",
          "data": {
            "text/plain": [
              "'Uva'"
            ],
            "application/vnd.google.colaboratory.intrinsic+json": {
              "type": "string"
            }
          },
          "metadata": {},
          "execution_count": 108
        }
      ]
    },
    {
      "cell_type": "markdown",
      "source": [
        "Ao observar o resultado, podemos ver que realmente exibimos o terceiro elemento na lista. Isso ocorre porque, em Python, o primeiro elemento de uma lista tem índice 0, o segundo elemento tem índice 1 e assim por diante. Portanto, para exibir o terceiro elemento, passamos como parâmetro o índice 2."
      ],
      "metadata": {
        "id": "otGPJwmH6o9T"
      }
    },
    {
      "cell_type": "markdown",
      "source": [
        "#### *Adicionando um elemento*"
      ],
      "metadata": {
        "id": "NtgxTb4K44qg"
      }
    },
    {
      "cell_type": "markdown",
      "source": [
        "Para adicionar um elemento a uma lista, basta utilizarmos a função append(). Essa função recebe como parâmetro o item que queremos adicionar à lista. Vamos observar um exemplo:"
      ],
      "metadata": {
        "id": "9k5EuPtl48sm"
      }
    },
    {
      "cell_type": "code",
      "source": [
        "# Adicionando um elemento a lista\n",
        "frutas.append(\"Laranja\")"
      ],
      "metadata": {
        "id": "Vo7ouRg_5Hks"
      },
      "execution_count": null,
      "outputs": []
    },
    {
      "cell_type": "markdown",
      "source": [
        "Agora, com o item adicionado, vamos observar a lista completa."
      ],
      "metadata": {
        "id": "FelB_gc65OE9"
      }
    },
    {
      "cell_type": "code",
      "source": [
        "# Exibindo os valores\n",
        "print(frutas)"
      ],
      "metadata": {
        "colab": {
          "base_uri": "https://localhost:8080/"
        },
        "id": "5tgb-WpX5QWU",
        "outputId": "0866bf72-8947-470c-8de4-8e4150e77bc0"
      },
      "execution_count": null,
      "outputs": [
        {
          "output_type": "stream",
          "name": "stdout",
          "text": [
            "['Abacate', 'Abacate', 'Uva', 12, 3.14, 12, 'Laranja']\n"
          ]
        }
      ]
    },
    {
      "cell_type": "markdown",
      "source": [
        "Podemos então notar que o elemento foi adicionado com sucesso à lista."
      ],
      "metadata": {
        "id": "LeibaSde5Ss1"
      }
    },
    {
      "cell_type": "markdown",
      "source": [
        "#### *Alterando elementos*"
      ],
      "metadata": {
        "id": "4RyIm8cR7G4g"
      }
    },
    {
      "cell_type": "markdown",
      "source": [
        "Para alterar um elemento de uma lista, basta indicarmos o índice do elemento que queremos alterar e, em seguida, passar o novo valor para esse índice. Vamos observar um exemplo:"
      ],
      "metadata": {
        "id": "n4XY0iKs7Mr_"
      }
    },
    {
      "cell_type": "code",
      "source": [
        "# Alterando um elemento\n",
        "frutas[4] = 'Maracúja'"
      ],
      "metadata": {
        "id": "WYMZNE4i7ast"
      },
      "execution_count": null,
      "outputs": []
    },
    {
      "cell_type": "markdown",
      "source": [
        "Assim, realizamos uma alteração de um elemento na lista. Vamos observar como ela está agora."
      ],
      "metadata": {
        "id": "rQvVvxlR7s2r"
      }
    },
    {
      "cell_type": "code",
      "source": [
        "# Exibindo os valores\n",
        "print(frutas)"
      ],
      "metadata": {
        "colab": {
          "base_uri": "https://localhost:8080/"
        },
        "id": "9le7rAvm7yB6",
        "outputId": "e1f4457d-ab8f-414d-eebc-143f67543c0d"
      },
      "execution_count": null,
      "outputs": [
        {
          "output_type": "stream",
          "name": "stdout",
          "text": [
            "['Abacate', 'Abacate', 'Uva', 12, 'Maracúja', 12, 'Laranja']\n"
          ]
        }
      ]
    },
    {
      "cell_type": "markdown",
      "source": [
        "Podemos confirmar que o elemento que desejamos foi alterado no índice que queríamos."
      ],
      "metadata": {
        "id": "vT80YbAnCOJ_"
      }
    },
    {
      "cell_type": "markdown",
      "source": [
        "#### *Removendo elementos*"
      ],
      "metadata": {
        "id": "vuSPyxQy77zx"
      }
    },
    {
      "cell_type": "markdown",
      "source": [
        "Existem diferentes métodos para remover um elemento de uma lista. Dois dos mais comuns são:\n",
        "\n",
        "- O método remove( ) remove o primeiro elemento da lista que corresponder ao valor especificado.\n",
        "- O método pop( ) remove o elemento da lista na posição especificada."
      ],
      "metadata": {
        "id": "bmtmoROt8L1I"
      }
    },
    {
      "cell_type": "markdown",
      "source": [
        "Vamos observar primeiro o método remove."
      ],
      "metadata": {
        "id": "bOicipol87ob"
      }
    },
    {
      "cell_type": "code",
      "source": [
        "# Removendo um elemento\n",
        "frutas.remove(12)"
      ],
      "metadata": {
        "id": "3SF0gBsl8_ui"
      },
      "execution_count": null,
      "outputs": []
    },
    {
      "cell_type": "markdown",
      "source": [
        "Agora que removemos um elemento, vamos observar como está a lista atual."
      ],
      "metadata": {
        "id": "JvsQD3gw9E-6"
      }
    },
    {
      "cell_type": "code",
      "source": [
        "# Exibindo o resultado\n",
        "print(frutas)"
      ],
      "metadata": {
        "colab": {
          "base_uri": "https://localhost:8080/"
        },
        "id": "VXm_0WUf9KYA",
        "outputId": "1a897f1f-f520-464a-9b41-22bc240eb618"
      },
      "execution_count": null,
      "outputs": [
        {
          "output_type": "stream",
          "name": "stdout",
          "text": [
            "['Abacate', 'Abacate', 'Uva', 'Maracúja', 12, 'Laranja']\n"
          ]
        }
      ]
    },
    {
      "cell_type": "markdown",
      "source": [
        "Dessa forma, podemos observar que realmente conseguimos remover o elemento 12 da lista. No entanto, essa função removeu apenas o primeiro valor 12 que encontrou. Dessa forma, o segundo elemento 12 continua na lista. Vamos utilizar agora o método pop( ) para removermos um elemento com base em sua posição na lista."
      ],
      "metadata": {
        "id": "YUyOXNy_9TNv"
      }
    },
    {
      "cell_type": "code",
      "source": [
        "# Removendo um elemento\n",
        "frutas.pop(4)"
      ],
      "metadata": {
        "colab": {
          "base_uri": "https://localhost:8080/"
        },
        "id": "fuLjq81I9p4F",
        "outputId": "2a3cb587-47e0-4d3b-a4e8-f0e44370c238"
      },
      "execution_count": null,
      "outputs": [
        {
          "output_type": "execute_result",
          "data": {
            "text/plain": [
              "12"
            ]
          },
          "metadata": {},
          "execution_count": 115
        }
      ]
    },
    {
      "cell_type": "markdown",
      "source": [
        "Agora que removemos todos os elementos que desejamos, vamos observar como ficou a nossa lista."
      ],
      "metadata": {
        "id": "fIetu6f_-x_W"
      }
    },
    {
      "cell_type": "code",
      "source": [
        "# Exibindo os valores\n",
        "print(frutas)"
      ],
      "metadata": {
        "colab": {
          "base_uri": "https://localhost:8080/"
        },
        "id": "icOwGUSb9sxO",
        "outputId": "33fd9637-3658-4ed6-8a02-e42a051fdaa2"
      },
      "execution_count": null,
      "outputs": [
        {
          "output_type": "stream",
          "name": "stdout",
          "text": [
            "['Abacate', 'Abacate', 'Uva', 'Maracúja', 'Laranja']\n"
          ]
        }
      ]
    },
    {
      "cell_type": "markdown",
      "source": [
        "Agora sim, removemos e alteramos todos os valores que desejávamos na nossa lista, ficando apenas com 5 elementos."
      ],
      "metadata": {
        "id": "NVE7cHRx_-Xs"
      }
    },
    {
      "cell_type": "markdown",
      "source": [
        "#### *Contando os elementos*"
      ],
      "metadata": {
        "id": "GLugMzTMAJCb"
      }
    },
    {
      "cell_type": "markdown",
      "source": [
        "Vamos utilizar o método len() para contarmos quantos elementos temos na nossa lista. Utilizaremos esse método da seguinte forma:"
      ],
      "metadata": {
        "id": "yALXJl7lAMsd"
      }
    },
    {
      "cell_type": "code",
      "source": [
        "# Exibindo o número de elementos\n",
        "len(frutas)"
      ],
      "metadata": {
        "colab": {
          "base_uri": "https://localhost:8080/"
        },
        "id": "cF0Jd_3IAMPs",
        "outputId": "1abcbc43-6e7c-47cc-bae6-e82894421822"
      },
      "execution_count": null,
      "outputs": [
        {
          "output_type": "execute_result",
          "data": {
            "text/plain": [
              "5"
            ]
          },
          "metadata": {},
          "execution_count": 117
        }
      ]
    },
    {
      "cell_type": "markdown",
      "source": [
        "Como vimos anteriormente, nossa lista realmente possui apenas 5 elementos."
      ],
      "metadata": {
        "id": "67fO3BkBAeNh"
      }
    },
    {
      "cell_type": "markdown",
      "source": [
        "Também é possível contarmos quantas vezes um mesmo elemento aparece na lista. Para isso, utilizaremos o método count()."
      ],
      "metadata": {
        "id": "vmqavFcUFupr"
      }
    },
    {
      "cell_type": "code",
      "source": [
        "# Contando quantas vezes o mesmo elemento aparece\n",
        "frutas.count('Abacate')"
      ],
      "metadata": {
        "colab": {
          "base_uri": "https://localhost:8080/"
        },
        "id": "VQINVfXzF1mD",
        "outputId": "7b0692cb-8600-45b9-8366-2f0bed423934"
      },
      "execution_count": null,
      "outputs": [
        {
          "output_type": "execute_result",
          "data": {
            "text/plain": [
              "2"
            ]
          },
          "metadata": {},
          "execution_count": 118
        }
      ]
    },
    {
      "cell_type": "markdown",
      "source": [
        "Quando pesquisamos pelo elemento 'Abacate', é possível notar que ele retorna o número 2, que é exatamente o número de elementos chamados 'Abacate' que temos na lista. Vamos pesquisar agora o elemento 'Uva' para ver o que encontramos."
      ],
      "metadata": {
        "id": "WZ5hv-WYGJzB"
      }
    },
    {
      "cell_type": "code",
      "source": [
        "# Contando quantas vezes o mesmo elemento aparece\n",
        "frutas.count('Uva')"
      ],
      "metadata": {
        "colab": {
          "base_uri": "https://localhost:8080/"
        },
        "id": "FUPsbRQwGXLH",
        "outputId": "392dc799-7081-4a4a-a9e2-9874e98a6bba"
      },
      "execution_count": null,
      "outputs": [
        {
          "output_type": "execute_result",
          "data": {
            "text/plain": [
              "1"
            ]
          },
          "metadata": {},
          "execution_count": 119
        }
      ]
    },
    {
      "cell_type": "markdown",
      "source": [
        "Exatamente isso que acontece. Na nossa lista, existem 2 abacates e apenas uma uva."
      ],
      "metadata": {
        "id": "KYnYwhI8Gq6u"
      }
    },
    {
      "cell_type": "markdown",
      "source": [
        "#### *Verificando se existe um determinado elemento*"
      ],
      "metadata": {
        "id": "_FszjS22EJYm"
      }
    },
    {
      "cell_type": "markdown",
      "source": [
        "Para verificar se um elemento existe em uma lista, podemos utilizar o operador 'in'. Ele retorna True se o elemento estiver presente na lista e False caso contrário."
      ],
      "metadata": {
        "id": "pBxjMHesER7G"
      }
    },
    {
      "cell_type": "markdown",
      "source": [
        "Primeiro, vamos exibir a lista para observarmos os elementos existentes nela."
      ],
      "metadata": {
        "id": "qlobeJtcE0Ci"
      }
    },
    {
      "cell_type": "code",
      "source": [
        "# Exibindo os valores\n",
        "print(frutas)"
      ],
      "metadata": {
        "colab": {
          "base_uri": "https://localhost:8080/"
        },
        "id": "I72l_N1-E4hy",
        "outputId": "6557e663-08f3-4a48-ff23-f9d764e05e50"
      },
      "execution_count": null,
      "outputs": [
        {
          "output_type": "stream",
          "name": "stdout",
          "text": [
            "['Abacate', 'Abacate', 'Uva', 'Maracúja', 'Laranja']\n"
          ]
        }
      ]
    },
    {
      "cell_type": "markdown",
      "source": [
        "Agora, vamos verificar se o elemento 'Uva' está na lista."
      ],
      "metadata": {
        "id": "4c2yxAQEE6-J"
      }
    },
    {
      "cell_type": "code",
      "source": [
        "# Buscando um elemento na lista\n",
        "\"Uva\" in frutas"
      ],
      "metadata": {
        "colab": {
          "base_uri": "https://localhost:8080/"
        },
        "id": "enVEcbPmEu0C",
        "outputId": "53bdd07b-2c4d-4dca-d505-f40b7e3aca98"
      },
      "execution_count": null,
      "outputs": [
        {
          "output_type": "execute_result",
          "data": {
            "text/plain": [
              "True"
            ]
          },
          "metadata": {},
          "execution_count": 121
        }
      ]
    },
    {
      "cell_type": "markdown",
      "source": [
        "O resultado foi True, logo podemos afirmar que existe um elemento chamado Uva na nossa lista. Vamos tentar pesquisar algum elemento que não existe."
      ],
      "metadata": {
        "id": "HBF_JOECFCgR"
      }
    },
    {
      "cell_type": "code",
      "source": [
        "# Buscando um elemento na lista\n",
        "\"Manga\" in frutas"
      ],
      "metadata": {
        "colab": {
          "base_uri": "https://localhost:8080/"
        },
        "id": "rKVC2HTeFLSf",
        "outputId": "74587d11-81a5-47f9-869b-f5948b7620c3"
      },
      "execution_count": null,
      "outputs": [
        {
          "output_type": "execute_result",
          "data": {
            "text/plain": [
              "False"
            ]
          },
          "metadata": {},
          "execution_count": 122
        }
      ]
    },
    {
      "cell_type": "markdown",
      "source": [
        "Ao verificarmos o elemento chamado Manga, recebemos um resultado False. Logo, podemos afirmar que esse elemento não está contido na lista."
      ],
      "metadata": {
        "id": "iBBrg1fEHic_"
      }
    },
    {
      "cell_type": "markdown",
      "source": [
        "#### *Buscando elementos*"
      ],
      "metadata": {
        "id": "qTseIXALLNMl"
      }
    },
    {
      "cell_type": "markdown",
      "source": [
        "Se quisessemos descobrir a posição que determinado elemento ocupa na lista iremos utilizar o método 'index()'."
      ],
      "metadata": {
        "id": "baxVMAZMKbKi"
      }
    },
    {
      "cell_type": "markdown",
      "source": [
        "Vamos exibir a lista completa."
      ],
      "metadata": {
        "id": "dwd1wXiDLhL7"
      }
    },
    {
      "cell_type": "code",
      "source": [
        "# Exibindo os valores\n",
        "print(frutas)"
      ],
      "metadata": {
        "colab": {
          "base_uri": "https://localhost:8080/"
        },
        "id": "kszvA8NoLi_q",
        "outputId": "050fad0d-2a6f-4a7d-c82a-6d36c3bb582c"
      },
      "execution_count": null,
      "outputs": [
        {
          "output_type": "stream",
          "name": "stdout",
          "text": [
            "['Abacate', 'Abacate', 'Uva', 'Maracúja', 'Laranja']\n"
          ]
        }
      ]
    },
    {
      "cell_type": "markdown",
      "source": [
        "Agora, vamos aplicar o método para buscar um elemento na lista."
      ],
      "metadata": {
        "id": "mEtgJkEOLs0p"
      }
    },
    {
      "cell_type": "code",
      "source": [
        "# Buscando um elemento\n",
        "frutas.index(\"Abacate\")"
      ],
      "metadata": {
        "colab": {
          "base_uri": "https://localhost:8080/"
        },
        "id": "0whMovZ5LZlL",
        "outputId": "7a3e96b8-fbe1-4b29-819e-04a593647af7"
      },
      "execution_count": null,
      "outputs": [
        {
          "output_type": "execute_result",
          "data": {
            "text/plain": [
              "0"
            ]
          },
          "metadata": {},
          "execution_count": 124
        }
      ]
    },
    {
      "cell_type": "markdown",
      "source": [
        "Como a lista contém dois abacates, a função retornou a posição do primeiro. Vamos observar outro exemplo."
      ],
      "metadata": {
        "id": "YReb6729LzJp"
      }
    },
    {
      "cell_type": "code",
      "source": [
        "# Buscando um elemento\n",
        "frutas.index(\"Maracúja\")"
      ],
      "metadata": {
        "colab": {
          "base_uri": "https://localhost:8080/"
        },
        "id": "oHDCs8o4L4cA",
        "outputId": "5e0962f7-9e16-4982-e8f4-17254b900178"
      },
      "execution_count": null,
      "outputs": [
        {
          "output_type": "execute_result",
          "data": {
            "text/plain": [
              "3"
            ]
          },
          "metadata": {},
          "execution_count": 125
        }
      ]
    },
    {
      "cell_type": "markdown",
      "source": [
        "Como podemos observar, o elemento Maracujá ocupa o segundo lugar na nossa lista. Logo, o seu índice é o número 1. Se buscássemos um elemento que não existe na lista, o que aconteceria?"
      ],
      "metadata": {
        "id": "Kgy-FdDfL7Kw"
      }
    },
    {
      "cell_type": "code",
      "source": [
        "# Buscando um elemento\n",
        "frutas.index(\"Manga\")"
      ],
      "metadata": {
        "colab": {
          "base_uri": "https://localhost:8080/",
          "height": 193
        },
        "id": "64u8vkKvMIwl",
        "outputId": "cc6f1e3a-91a4-4a6d-86d4-3c3b5592b130"
      },
      "execution_count": null,
      "outputs": [
        {
          "output_type": "error",
          "ename": "ValueError",
          "evalue": "'Manga' is not in list",
          "traceback": [
            "\u001b[0;31m---------------------------------------------------------------------------\u001b[0m",
            "\u001b[0;31mValueError\u001b[0m                                Traceback (most recent call last)",
            "\u001b[0;32m<ipython-input-126-f1c73bc89107>\u001b[0m in \u001b[0;36m<cell line: 2>\u001b[0;34m()\u001b[0m\n\u001b[1;32m      1\u001b[0m \u001b[0;31m# Buscando um elemnto\u001b[0m\u001b[0;34m\u001b[0m\u001b[0;34m\u001b[0m\u001b[0m\n\u001b[0;32m----> 2\u001b[0;31m \u001b[0mfrutas\u001b[0m\u001b[0;34m.\u001b[0m\u001b[0mindex\u001b[0m\u001b[0;34m(\u001b[0m\u001b[0;34m\"Manga\"\u001b[0m\u001b[0;34m)\u001b[0m\u001b[0;34m\u001b[0m\u001b[0;34m\u001b[0m\u001b[0m\n\u001b[0m",
            "\u001b[0;31mValueError\u001b[0m: 'Manga' is not in list"
          ]
        }
      ]
    },
    {
      "cell_type": "markdown",
      "source": [
        "Podemos observar que, ao tentarmos buscar um elemento que não existe na lista com esse método, ocorrerá um erro, informando que o elemento que estamos procurando não existe na lista."
      ],
      "metadata": {
        "id": "ZJQeODGLMMtG"
      }
    },
    {
      "cell_type": "markdown",
      "source": [
        "#### *Ordenando a lista*"
      ],
      "metadata": {
        "id": "2SAS1dzUJHOc"
      }
    },
    {
      "cell_type": "markdown",
      "source": [
        "Para ordenar a lista, utilizaremos o método sort(). Com esse método, é possível ordenar a lista tanto em ordem crescente quanto em ordem decrescente. Primeiramente, vamos observar como ordenar em ordem crescente."
      ],
      "metadata": {
        "id": "OAHad36TJJoc"
      }
    },
    {
      "cell_type": "markdown",
      "source": [
        "Primeiro, vamos observar a atual ordenação da nossa lista."
      ],
      "metadata": {
        "id": "Dy4FalHKJgdh"
      }
    },
    {
      "cell_type": "code",
      "source": [
        "# Exibe os valores\n",
        "print(frutas)"
      ],
      "metadata": {
        "colab": {
          "base_uri": "https://localhost:8080/"
        },
        "id": "s04bniwNJjY5",
        "outputId": "28d8497d-625a-452d-b8d6-b45397c153db"
      },
      "execution_count": null,
      "outputs": [
        {
          "output_type": "stream",
          "name": "stdout",
          "text": [
            "['Abacate', 'Abacate', 'Uva', 'Maracúja', 'Laranja']\n"
          ]
        }
      ]
    },
    {
      "cell_type": "markdown",
      "source": [
        "Ordenando a lista em ordem crescente."
      ],
      "metadata": {
        "id": "iv4J9E5nJWvr"
      }
    },
    {
      "cell_type": "code",
      "source": [
        "# Ordena a lista em ordem crescente\n",
        "frutas.sort()"
      ],
      "metadata": {
        "id": "riMB69s2JaSa"
      },
      "execution_count": null,
      "outputs": []
    },
    {
      "cell_type": "markdown",
      "source": [
        "Agora que ordenamos a lista, vamos observar como ela está."
      ],
      "metadata": {
        "id": "SAdzllidJpyQ"
      }
    },
    {
      "cell_type": "code",
      "source": [
        "# Exibe os valores\n",
        "print(frutas)"
      ],
      "metadata": {
        "colab": {
          "base_uri": "https://localhost:8080/"
        },
        "id": "ChsjBcMhJvFo",
        "outputId": "6b5c962c-c506-42c6-a237-a4ad007a5406"
      },
      "execution_count": null,
      "outputs": [
        {
          "output_type": "stream",
          "name": "stdout",
          "text": [
            "['Abacate', 'Abacate', 'Laranja', 'Maracúja', 'Uva']\n"
          ]
        }
      ]
    },
    {
      "cell_type": "markdown",
      "source": [
        "Podemos confirmar que agora nossa lista está em ordem crescente. Vamos fazer ao contrário e deixar a lista em ordem decrescente."
      ],
      "metadata": {
        "id": "2pX8cIblJw2A"
      }
    },
    {
      "cell_type": "code",
      "source": [
        "# Ordena a lista em ordem decrescente\n",
        "frutas.sort(reverse=True)"
      ],
      "metadata": {
        "id": "fpGWrafrJFp0"
      },
      "execution_count": null,
      "outputs": []
    },
    {
      "cell_type": "markdown",
      "source": [
        "Vamos observar como está nossa lista agora."
      ],
      "metadata": {
        "id": "6bmzXCrzJ8RH"
      }
    },
    {
      "cell_type": "code",
      "source": [
        "# Exibe os valores\n",
        "print(frutas)"
      ],
      "metadata": {
        "colab": {
          "base_uri": "https://localhost:8080/"
        },
        "id": "4AK8otwNKEa9",
        "outputId": "2a00a518-c9ca-4b8a-991e-bded00091df2"
      },
      "execution_count": null,
      "outputs": [
        {
          "output_type": "stream",
          "name": "stdout",
          "text": [
            "['Uva', 'Maracúja', 'Laranja', 'Abacate', 'Abacate']\n"
          ]
        }
      ]
    },
    {
      "cell_type": "markdown",
      "source": [
        "Podemos, então, observar como podemos alterar a ordem da nossa lista."
      ],
      "metadata": {
        "id": "6C5R0WicKHpt"
      }
    },
    {
      "cell_type": "markdown",
      "source": [
        "#### *Invertendo a ordem dos elementos*"
      ],
      "metadata": {
        "id": "q5R0vDtHRSym"
      }
    },
    {
      "cell_type": "markdown",
      "source": [
        "Vamos observar como podemos inverter a ordem dos elementos presentes na lista. Para isso, utilizaremos o método reverse( )."
      ],
      "metadata": {
        "id": "SCfNV_jSRWQu"
      }
    },
    {
      "cell_type": "markdown",
      "source": [
        "Novamente, vamos observar como está a lista atualmente."
      ],
      "metadata": {
        "id": "bOxpfbJiRe6F"
      }
    },
    {
      "cell_type": "code",
      "source": [
        "# Exibindo os valores\n",
        "print(frutas)"
      ],
      "metadata": {
        "colab": {
          "base_uri": "https://localhost:8080/"
        },
        "id": "H7g9OMp2RlG0",
        "outputId": "735e1ceb-f1f8-4cb3-c8e1-ff3b6e3e687d"
      },
      "execution_count": null,
      "outputs": [
        {
          "output_type": "stream",
          "name": "stdout",
          "text": [
            "['Uva', 'Maracúja', 'Laranja', 'Abacate', 'Abacate']\n"
          ]
        }
      ]
    },
    {
      "cell_type": "markdown",
      "source": [
        "Agora, vamos verificar como podemos inverter a lista na prática."
      ],
      "metadata": {
        "id": "eO9chVjdRn2E"
      }
    },
    {
      "cell_type": "code",
      "source": [
        "# Inverte a ordem dos elementos na lista\n",
        "frutas.reverse()"
      ],
      "metadata": {
        "id": "uxlKGLpJRT6X"
      },
      "execution_count": null,
      "outputs": []
    },
    {
      "cell_type": "markdown",
      "source": [
        "Agora que já aplicamos o método de inversão, vamos observar como está a nossa lista."
      ],
      "metadata": {
        "id": "LfXYFqnHRsUT"
      }
    },
    {
      "cell_type": "code",
      "source": [
        "# Exibindo os valores\n",
        "print(frutas)"
      ],
      "metadata": {
        "colab": {
          "base_uri": "https://localhost:8080/"
        },
        "id": "4dW3I2NnRv7b",
        "outputId": "a32d158e-1940-4108-e4b0-dfab8e4d8c91"
      },
      "execution_count": null,
      "outputs": [
        {
          "output_type": "stream",
          "name": "stdout",
          "text": [
            "['Abacate', 'Abacate', 'Laranja', 'Maracúja', 'Uva']\n"
          ]
        }
      ]
    },
    {
      "cell_type": "markdown",
      "source": [
        "Como podemos observar, nossa lista voltou para a ordem inicial."
      ],
      "metadata": {
        "id": "iuBsbCwyRxs7"
      }
    },
    {
      "cell_type": "markdown",
      "source": [
        "### **Tuple (tuplas)**"
      ],
      "metadata": {
        "id": "TUiBrAadBm0x"
      }
    },
    {
      "cell_type": "markdown",
      "source": [
        "Tuplas são estruturas de dados ordenadas que permitem armazenar uma coleção de valores de qualquer tipo. No entanto, tuplas são imutáveis, o que significa que não é possível alterar seus elementos após a criação."
      ],
      "metadata": {
        "id": "zGthm95fCK0F"
      }
    },
    {
      "cell_type": "markdown",
      "source": [
        "As tuplas possuem certas semelhanças com as listas, porém é importante frisar que as listas são mutáveis enquanto as tuplas são imutáveis. Vamos observar como declarar uma tupla."
      ],
      "metadata": {
        "id": "3Jop-h1nCZHc"
      }
    },
    {
      "cell_type": "code",
      "source": [
        "# Criando uma tupla\n",
        "vegetais = (\"abóbora\", \"pimentão\", \"chuchu\", \"pimentão\")"
      ],
      "metadata": {
        "id": "joarcUxNC4w4"
      },
      "execution_count": null,
      "outputs": []
    },
    {
      "cell_type": "markdown",
      "source": [
        "Aqui podemos observar que a criação de uma tupla é bem semelhante à criação de uma lista, mas levando em consideração que os elementos da tupla não podem ser alterados, normalmente os elementos que são guardados nelas são exatamente elementos que não precisam ser alterados, como dados históricos por exemplo.\n",
        "\n"
      ],
      "metadata": {
        "id": "bakIp9OUFGTP"
      }
    },
    {
      "cell_type": "markdown",
      "source": [
        "\n",
        "Vamos observar algumas funções que podemos utilizar nas tuplas:\n",
        "\n",
        "- len(): retorna o comprimento da tupla.\n",
        "- in: verifica se um elemento está presente na tupla.\n",
        "- index(): retorna o índice de um elemento na tupla.\n",
        "- count(): retorna o número de ocorrências de um elemento na tupla.\n",
        "- sorted(): retorna uma nova tupla ordenada.\n",
        "\n",
        "Essas funções são bem semelhantes com as que utilizamos na lista. Vamos observar algumas dessas na prática."
      ],
      "metadata": {
        "id": "m6Dw6eHCFUnN"
      }
    },
    {
      "cell_type": "markdown",
      "source": [
        "#### *Acessando um elemento*"
      ],
      "metadata": {
        "id": "vHf3KZ9OGIgf"
      }
    },
    {
      "cell_type": "markdown",
      "source": [
        "Antes de acessarmos um elemento, vamos observar a tupla completa."
      ],
      "metadata": {
        "id": "7inLXmRDGW69"
      }
    },
    {
      "cell_type": "code",
      "source": [
        "# Exibindo os valores\n",
        "print(vegetais)"
      ],
      "metadata": {
        "colab": {
          "base_uri": "https://localhost:8080/"
        },
        "id": "H47Edg-GFuFT",
        "outputId": "ce39a81b-5658-4075-d3d6-38ec38b81019"
      },
      "execution_count": null,
      "outputs": [
        {
          "output_type": "stream",
          "name": "stdout",
          "text": [
            "('abóbora', 'pimentão ', 'chuchu', 'pimentão')\n"
          ]
        }
      ]
    },
    {
      "cell_type": "markdown",
      "source": [
        "\n",
        "Agora vamos observar como acessar um elemento de acordo com o seu índice."
      ],
      "metadata": {
        "id": "C8YsZZXIGahU"
      }
    },
    {
      "cell_type": "code",
      "source": [
        "# Acessando um elemento na tupla\n",
        "vegetais[1]"
      ],
      "metadata": {
        "colab": {
          "base_uri": "https://localhost:8080/",
          "height": 35
        },
        "id": "Yu7PUTzQF9nZ",
        "outputId": "aaa1ef0b-1dda-4964-fac8-6c3bc73fdda5"
      },
      "execution_count": null,
      "outputs": [
        {
          "output_type": "execute_result",
          "data": {
            "text/plain": [
              "'pimentão '"
            ],
            "application/vnd.google.colaboratory.intrinsic+json": {
              "type": "string"
            }
          },
          "metadata": {},
          "execution_count": 37
        }
      ]
    },
    {
      "cell_type": "markdown",
      "source": [
        "\n",
        "Podemos observar que a maneira de acessar um elemento tanto na lista quanto na tupla são bem semelhantes. Utilizamos praticamente a mesma lógica: passamos o nome da tupla e, em seguida, entre colchetes, o índice do elemento que queremos observar."
      ],
      "metadata": {
        "id": "P-fp00DIGe8s"
      }
    },
    {
      "cell_type": "markdown",
      "source": [
        "#### *Contando os elementos*"
      ],
      "metadata": {
        "id": "-FdLAfloGzEj"
      }
    },
    {
      "cell_type": "markdown",
      "source": [
        "Vamos utilizar o método len( ) para contarmos quantos elementos temos na nossa tupla."
      ],
      "metadata": {
        "id": "_pmC34yAG2EB"
      }
    },
    {
      "cell_type": "code",
      "source": [
        "# Exibindo o número de elementos\n",
        "len(vegetais)"
      ],
      "metadata": {
        "colab": {
          "base_uri": "https://localhost:8080/"
        },
        "id": "lVmqhz_4G-0Z",
        "outputId": "b6f184fc-fa9e-489e-d810-aa6c6be24fab"
      },
      "execution_count": null,
      "outputs": [
        {
          "output_type": "execute_result",
          "data": {
            "text/plain": [
              "4"
            ]
          },
          "metadata": {},
          "execution_count": 38
        }
      ]
    },
    {
      "cell_type": "markdown",
      "source": [
        "Dessa forma, podemos confirmar que a nossa tupla possui pelo menos 4 elementos."
      ],
      "metadata": {
        "id": "BXMc_bXsG7RK"
      }
    },
    {
      "cell_type": "markdown",
      "source": [
        "Agora, vamos utilizar o método count( ) para sabermos quantas vezes existe um determinado elemento na nossa tupla."
      ],
      "metadata": {
        "id": "o1PRtX_eHRqI"
      }
    },
    {
      "cell_type": "code",
      "source": [
        "# Contando quantas vezes o mesmo elemento aparece\n",
        "vegetais.count(\"pimentão\")"
      ],
      "metadata": {
        "colab": {
          "base_uri": "https://localhost:8080/"
        },
        "id": "f1twLtHYHZbw",
        "outputId": "08cf6600-6481-4b01-eca0-5ea61dea8650"
      },
      "execution_count": null,
      "outputs": [
        {
          "output_type": "execute_result",
          "data": {
            "text/plain": [
              "2"
            ]
          },
          "metadata": {},
          "execution_count": 57
        }
      ]
    },
    {
      "cell_type": "markdown",
      "source": [
        "Ao conferirmos quantos elementos \"pimentão\" temos na tupla, o valor retornado foi o número 2. Isso indica que o elemento \"pimentão\" aparece 2 vezes na tupla."
      ],
      "metadata": {
        "id": "hlPAZBpGHq_9"
      }
    },
    {
      "cell_type": "markdown",
      "source": [
        "\n",
        "Vamos tentar contar um elemento que não existe na tupla."
      ],
      "metadata": {
        "id": "65qdzFn9H6Zk"
      }
    },
    {
      "cell_type": "code",
      "source": [
        "# Contando quantas vezes o mesmo elemento aparece\n",
        "vegetais.count(3)"
      ],
      "metadata": {
        "colab": {
          "base_uri": "https://localhost:8080/"
        },
        "id": "F6UJKI2KH-Za",
        "outputId": "b5caead5-794b-4715-c47a-5b5bfea6ede6"
      },
      "execution_count": null,
      "outputs": [
        {
          "output_type": "execute_result",
          "data": {
            "text/plain": [
              "0"
            ]
          },
          "metadata": {},
          "execution_count": 10
        }
      ]
    },
    {
      "cell_type": "markdown",
      "source": [
        "Como pesquisamos um valor que não existe na tupla, recebemos um valor igual a 0, que está condizente com a realidade da nossa tupla."
      ],
      "metadata": {
        "id": "P40Z5XVwIAkb"
      }
    },
    {
      "cell_type": "markdown",
      "source": [
        "#### *Verificando se existe um determinado elemento*"
      ],
      "metadata": {
        "id": "x5S4Yf-IIM6L"
      }
    },
    {
      "cell_type": "markdown",
      "source": [
        "Para isso, utilizaremos o operador \"in\" da seguinte forma."
      ],
      "metadata": {
        "id": "jHw_S3trIN7Q"
      }
    },
    {
      "cell_type": "code",
      "source": [
        "# Buscando um elemento na lista\n",
        "'chuchu' in vegetais"
      ],
      "metadata": {
        "colab": {
          "base_uri": "https://localhost:8080/"
        },
        "id": "EivYmQMXIRxo",
        "outputId": "3fdce6a4-9c1f-44eb-a31e-acdebf7b4021"
      },
      "execution_count": null,
      "outputs": [
        {
          "output_type": "execute_result",
          "data": {
            "text/plain": [
              "True"
            ]
          },
          "metadata": {},
          "execution_count": 12
        }
      ]
    },
    {
      "cell_type": "markdown",
      "source": [
        "Ao pesquisar o elemento \"chuchu\" na tupla, recebemos um True. Ou seja, é verdade que existe um elemento \"chuchu\" na tupla. Vamos verificar um exemplo onde isso não é verdade."
      ],
      "metadata": {
        "id": "DTg8jAEaIY_o"
      }
    },
    {
      "cell_type": "code",
      "source": [
        "# Buscando um elemento na lista\n",
        "'morango' in vegetais"
      ],
      "metadata": {
        "colab": {
          "base_uri": "https://localhost:8080/"
        },
        "id": "LYldHSkuIlH4",
        "outputId": "c9d148e3-295d-4bf7-dc2e-2169732154a8"
      },
      "execution_count": null,
      "outputs": [
        {
          "output_type": "execute_result",
          "data": {
            "text/plain": [
              "False"
            ]
          },
          "metadata": {},
          "execution_count": 13
        }
      ]
    },
    {
      "cell_type": "markdown",
      "source": [
        "Como o elemento \"morango\" não existe na tupla, recebemos um False da nossa busca."
      ],
      "metadata": {
        "id": "H_2h1jwOIn34"
      }
    },
    {
      "cell_type": "markdown",
      "source": [
        "#### *Buscando um elemento*"
      ],
      "metadata": {
        "id": "cY3t3rbJIzSk"
      }
    },
    {
      "cell_type": "markdown",
      "source": [
        "Se quiséssemos descobrir a posição que determinado elemento ocupa na tupla, iremos utilizar o método 'index( )', assim como fazemos na lista."
      ],
      "metadata": {
        "id": "3ujrkkt-I36b"
      }
    },
    {
      "cell_type": "markdown",
      "source": [
        "Vamos exibir a tupla completa."
      ],
      "metadata": {
        "id": "IMDfx3X7I-7r"
      }
    },
    {
      "cell_type": "code",
      "source": [
        "# Exibindo os valores\n",
        "print(vegetais)"
      ],
      "metadata": {
        "colab": {
          "base_uri": "https://localhost:8080/"
        },
        "id": "aSH69Fz1JFlr",
        "outputId": "3838347c-2778-4444-fffe-28a38f7adfbf"
      },
      "execution_count": null,
      "outputs": [
        {
          "output_type": "stream",
          "name": "stdout",
          "text": [
            "('abóbora', 'chuchu', 2, 2, 5)\n"
          ]
        }
      ]
    },
    {
      "cell_type": "markdown",
      "source": [
        "Agora, vamos aplicar o método para buscar um elemento na tupla."
      ],
      "metadata": {
        "id": "5WxChcDfJNBS"
      }
    },
    {
      "cell_type": "code",
      "source": [
        "# Buscando um elemento\n",
        "vegetais.index(\"abóbora\")"
      ],
      "metadata": {
        "colab": {
          "base_uri": "https://localhost:8080/"
        },
        "id": "2KopP-u0I3Hs",
        "outputId": "d2f82e22-0bea-44ab-c036-3881311f481b"
      },
      "execution_count": null,
      "outputs": [
        {
          "output_type": "execute_result",
          "data": {
            "text/plain": [
              "0"
            ]
          },
          "metadata": {},
          "execution_count": 15
        }
      ]
    },
    {
      "cell_type": "markdown",
      "source": [
        "Podemos observar então que o elemento \"abóbora\" está na posição 0 da nossa tupla."
      ],
      "metadata": {
        "id": "TXRFSA1eJPNx"
      }
    },
    {
      "cell_type": "markdown",
      "source": [
        "Caso tentarmos buscar um elemento que não existe, iremos receber um erro, assim como na lista. Vamos observar um exemplo."
      ],
      "metadata": {
        "id": "MDgehZYlJi-w"
      }
    },
    {
      "cell_type": "code",
      "source": [
        "# Buscando um elemento\n",
        "vegetais.index(\"Tomate\")"
      ],
      "metadata": {
        "colab": {
          "base_uri": "https://localhost:8080/",
          "height": 193
        },
        "id": "cgq4W0CbJj2g",
        "outputId": "b13b9be5-7192-4bb9-c371-7cdd6583cc05"
      },
      "execution_count": null,
      "outputs": [
        {
          "output_type": "error",
          "ename": "ValueError",
          "evalue": "tuple.index(x): x not in tuple",
          "traceback": [
            "\u001b[0;31m---------------------------------------------------------------------------\u001b[0m",
            "\u001b[0;31mValueError\u001b[0m                                Traceback (most recent call last)",
            "\u001b[0;32m<ipython-input-16-f95bc4fdccc3>\u001b[0m in \u001b[0;36m<cell line: 2>\u001b[0;34m()\u001b[0m\n\u001b[1;32m      1\u001b[0m \u001b[0;31m# Buscando um elemento\u001b[0m\u001b[0;34m\u001b[0m\u001b[0;34m\u001b[0m\u001b[0m\n\u001b[0;32m----> 2\u001b[0;31m \u001b[0mvegetais\u001b[0m\u001b[0;34m.\u001b[0m\u001b[0mindex\u001b[0m\u001b[0;34m(\u001b[0m\u001b[0;34m\"Tomate\"\u001b[0m\u001b[0;34m)\u001b[0m\u001b[0;34m\u001b[0m\u001b[0;34m\u001b[0m\u001b[0m\n\u001b[0m",
            "\u001b[0;31mValueError\u001b[0m: tuple.index(x): x not in tuple"
          ]
        }
      ]
    },
    {
      "cell_type": "markdown",
      "source": [
        "Como havíamos dito anteriormente, ao tentarmos buscar um elemento que não existe, receberemos um erro nos informando que o elemento buscado não existe na tupla."
      ],
      "metadata": {
        "id": "2-ccS5vgJpBO"
      }
    },
    {
      "cell_type": "markdown",
      "source": [
        "#### *Ordenando a tupla*"
      ],
      "metadata": {
        "id": "kpK6juJhKaka"
      }
    },
    {
      "cell_type": "markdown",
      "source": [
        "Vamos utilizar o método 'sorted( )' para ordenar os elementos da tupla."
      ],
      "metadata": {
        "id": "8RXdnuCQKdDi"
      }
    },
    {
      "cell_type": "markdown",
      "source": [
        "Mas primeiro, vamos observar como está ordenada a nossa tupla atualmente."
      ],
      "metadata": {
        "id": "ne-B4z0zKyy3"
      }
    },
    {
      "cell_type": "code",
      "source": [
        "# Exibindo os valores\n",
        "print(vegetais)"
      ],
      "metadata": {
        "colab": {
          "base_uri": "https://localhost:8080/"
        },
        "id": "91XLOyx8K331",
        "outputId": "2afc054f-669d-41a5-de2a-ed3ed1746a92"
      },
      "execution_count": null,
      "outputs": [
        {
          "output_type": "stream",
          "name": "stdout",
          "text": [
            "('abóbora', 'pimentão ', 'chuchu', 'pimentão')\n"
          ]
        }
      ]
    },
    {
      "cell_type": "markdown",
      "source": [
        "Agora, vamos aplicar o método 'sorted( )' para ordenar a mesma."
      ],
      "metadata": {
        "id": "eFHyoYIrK6v9"
      }
    },
    {
      "cell_type": "code",
      "source": [
        "# Ordenando a tupla\n",
        "print(sorted(vegetais))"
      ],
      "metadata": {
        "colab": {
          "base_uri": "https://localhost:8080/"
        },
        "id": "vIVARMAEKcTp",
        "outputId": "bbab3393-a77a-4ad5-ce05-ac1be6583026"
      },
      "execution_count": null,
      "outputs": [
        {
          "output_type": "stream",
          "name": "stdout",
          "text": [
            "['abóbora', 'chuchu', 'pimentão', 'pimentão ']\n"
          ]
        }
      ]
    },
    {
      "cell_type": "markdown",
      "source": [
        "Dessa forma, podemos notar como podemos alterar a ordem dos elementos da nossa tupla."
      ],
      "metadata": {
        "id": "8omRP6rnL-KX"
      }
    },
    {
      "cell_type": "markdown",
      "source": [
        "### **Dict (dicionário)**"
      ],
      "metadata": {
        "id": "7ZGHpHJVSTaR"
      }
    },
    {
      "cell_type": "markdown",
      "source": [
        "Dicionários são estruturas de dados que permitem armazenar uma coleção de pares chave-valor. As chaves são usadas para acessar os valores associados a elas."
      ],
      "metadata": {
        "id": "GtQBT6BVSYL4"
      }
    },
    {
      "cell_type": "markdown",
      "source": [
        "Para declararmos um dicionario no Python será feito da seguinte forma:"
      ],
      "metadata": {
        "id": "_YBKNmBiTMay"
      }
    },
    {
      "cell_type": "code",
      "source": [
        "# Criando um dic\n",
        "alunos = {\"Lerma\": 7.0, \"Ana\": 9.0, \"Maria\": 8.0, \"IA\": 10.0}"
      ],
      "metadata": {
        "id": "LrbmAlVRTTzJ"
      },
      "execution_count": null,
      "outputs": []
    },
    {
      "cell_type": "markdown",
      "source": [
        "Podemos observar que, na declaração, basta utilizarmos chaves. Como um dicionário funciona na estrutura chave-valor, quando preenchemos, basta declararmos os mesmos. Nesse exemplo, temos os nomes de alunos e suas respectivas notas."
      ],
      "metadata": {
        "id": "62eiko8dUSZM"
      }
    },
    {
      "cell_type": "markdown",
      "source": [
        "Algumas das funções que podem ser utilizadas em dicionários incluem:\n",
        "\n",
        "- len(): retorna o comprimento do dicionário.\n",
        "- in: verifica se uma chave está presente no dicionário.\n",
        "- get(): retorna o valor associado a uma chave, ou um valor padrão se a chave não estiver presente.\n",
        "- update(): adiciona ou atualiza os valores associados a chaves existentes.\n",
        "- keys(): retorna uma lista com as chaves do dicionário.\n",
        "- values(): retorna uma lista com os valores do dicionário.\n",
        "- items(): retorna uma lista de tuplas, cada uma contendo uma chave e seu valor associado.\n",
        "\n",
        "Essas são algumas das funções que podemos utilizar nos dicionários. Vamos observá-las na prática."
      ],
      "metadata": {
        "id": "nr5y2EwKUSba"
      }
    },
    {
      "cell_type": "markdown",
      "source": [
        "#### *Acessando um elemento*"
      ],
      "metadata": {
        "id": "o4ZAu6g1VN27"
      }
    },
    {
      "cell_type": "markdown",
      "source": [
        "Para acessarmos um elemento, basta passarmos a chave do elemento que queremos acessar. Por exemplo, se quisessemos verificar a nota do aluno chamado \"Lerma\"."
      ],
      "metadata": {
        "id": "J97jvjXLVVJK"
      }
    },
    {
      "cell_type": "code",
      "source": [
        "# Acessando o valor com base na chave\n",
        "alunos[\"Lerma\"]"
      ],
      "metadata": {
        "colab": {
          "base_uri": "https://localhost:8080/"
        },
        "id": "Uj04Nd4pVcoS",
        "outputId": "de11b5f4-c08c-4741-c250-37af4d56c2de"
      },
      "execution_count": null,
      "outputs": [
        {
          "output_type": "execute_result",
          "data": {
            "text/plain": [
              "7.0"
            ]
          },
          "metadata": {},
          "execution_count": 64
        }
      ]
    },
    {
      "cell_type": "markdown",
      "source": [
        "Dessa forma, sempre poderemos verificar o valor de alguma chave. Nesse caso, as nossas chaves são o nome dos alunos e os valores são suas notas.\n",
        "\n"
      ],
      "metadata": {
        "id": "xILz21JSW6C_"
      }
    },
    {
      "cell_type": "markdown",
      "source": [
        "#### *Adicionando um elemento*"
      ],
      "metadata": {
        "id": "DJbfixJPZe-F"
      }
    },
    {
      "cell_type": "markdown",
      "source": [
        "Vamos utilizar o método update( ) para adicionarmos mais um elemento ao dicionário. Primeiro, vamos visualizar o dicionário completo."
      ],
      "metadata": {
        "id": "PlZtfPU7ZjO9"
      }
    },
    {
      "cell_type": "code",
      "source": [
        "# Exibindo os valores\n",
        "print(alunos)"
      ],
      "metadata": {
        "colab": {
          "base_uri": "https://localhost:8080/"
        },
        "id": "lownjNlXaEia",
        "outputId": "a6e2b272-4aee-4814-df2d-c12e26ca9efb"
      },
      "execution_count": null,
      "outputs": [
        {
          "output_type": "stream",
          "name": "stdout",
          "text": [
            "{'Lerma': 7.5, 'Ana': 9.0, 'Maria': 8.0, 'IA': 10.0}\n"
          ]
        }
      ]
    },
    {
      "cell_type": "markdown",
      "source": [
        "Agora, vamos adicionar mais um elemento."
      ],
      "metadata": {
        "id": "C-yWO24VaFIy"
      }
    },
    {
      "cell_type": "code",
      "source": [
        "# Adicionando mais um elemento\n",
        "alunos.update({\"Ia 2.0\": 9.2})"
      ],
      "metadata": {
        "id": "kx-nbRu_ZuQj"
      },
      "execution_count": null,
      "outputs": []
    },
    {
      "cell_type": "markdown",
      "source": [
        "Vamos observar como ficou nosso dicionário após essa inclusão."
      ],
      "metadata": {
        "id": "JN5kOGpOaNJx"
      }
    },
    {
      "cell_type": "code",
      "source": [
        "# Exibindo os valores\n",
        "print(alunos)"
      ],
      "metadata": {
        "colab": {
          "base_uri": "https://localhost:8080/"
        },
        "id": "9vNGYtUxaRCA",
        "outputId": "d7c404bb-2041-4a63-ec6e-5eb1f77f5636"
      },
      "execution_count": null,
      "outputs": [
        {
          "output_type": "stream",
          "name": "stdout",
          "text": [
            "{'Lerma': 7.5, 'Ana': 9.0, 'Maria': 8.0, 'IA': 10.0, 'Ia 2.0': 9.2}\n"
          ]
        }
      ]
    },
    {
      "cell_type": "markdown",
      "source": [
        "Podemos então observar que conseguimos adicionar um novo elemento ao dicionário."
      ],
      "metadata": {
        "id": "mKp0zuDGaUhn"
      }
    },
    {
      "cell_type": "markdown",
      "source": [
        "#### *Alterando um elemento*"
      ],
      "metadata": {
        "id": "Pe6zTQb_YEPo"
      }
    },
    {
      "cell_type": "markdown",
      "source": [
        "Nesse caso, vamos alterar a nota do aluno \"Lerma\". Vamos primeiro visualizar o dicionário completo."
      ],
      "metadata": {
        "id": "tvnUbmZYYI6m"
      }
    },
    {
      "cell_type": "code",
      "source": [
        "# Exibindo os valores\n",
        "print(alunos)"
      ],
      "metadata": {
        "colab": {
          "base_uri": "https://localhost:8080/"
        },
        "id": "05SAvn5ZYW9e",
        "outputId": "8cfa185e-faa8-4ef1-f7a6-4623ccc5f5c6"
      },
      "execution_count": null,
      "outputs": [
        {
          "output_type": "stream",
          "name": "stdout",
          "text": [
            "{'Lerma': 7.0, 'Ana': 9.0, 'Maria': 8.0, 'IA': 10.0}\n"
          ]
        }
      ]
    },
    {
      "cell_type": "markdown",
      "source": [
        "Agora, vamos aplicar o método update( ) para realizar uma alteração de valores no dicionário."
      ],
      "metadata": {
        "id": "mD2LnKUnYaS1"
      }
    },
    {
      "cell_type": "code",
      "source": [
        "# Atualiza o valor associado à chave \"idade\"\n",
        "alunos.update({\"Lerma\": 7.5})"
      ],
      "metadata": {
        "id": "O0zXUPPoYGzP"
      },
      "execution_count": null,
      "outputs": []
    },
    {
      "cell_type": "markdown",
      "source": [
        "Vamos observar como ficou nosso dicionário agora."
      ],
      "metadata": {
        "id": "xk4WNpd1YmaU"
      }
    },
    {
      "cell_type": "code",
      "source": [
        "# Exibindo os valores\n",
        "print(alunos)"
      ],
      "metadata": {
        "colab": {
          "base_uri": "https://localhost:8080/"
        },
        "id": "RPK9PhimYpG7",
        "outputId": "92a86efd-b93a-4535-bd12-744b74578e24"
      },
      "execution_count": null,
      "outputs": [
        {
          "output_type": "stream",
          "name": "stdout",
          "text": [
            "{'Lerma': 7.5, 'Ana': 9.0, 'Maria': 8.0, 'IA': 10.0}\n"
          ]
        }
      ]
    },
    {
      "cell_type": "markdown",
      "source": [
        "Dessa forma, podemos notar que realizamos com sucesso uma alteração na nota do aluno."
      ],
      "metadata": {
        "id": "DLK57S_rYqtL"
      }
    },
    {
      "cell_type": "code",
      "source": [
        "type(alunos)"
      ],
      "metadata": {
        "colab": {
          "base_uri": "https://localhost:8080/"
        },
        "id": "NbEEzEobdNYc",
        "outputId": "631b4d74-9be7-4d96-9073-07f35b96f02f"
      },
      "execution_count": null,
      "outputs": [
        {
          "output_type": "execute_result",
          "data": {
            "text/plain": [
              "dict"
            ]
          },
          "metadata": {},
          "execution_count": 78
        }
      ]
    },
    {
      "cell_type": "markdown",
      "source": [
        "#### *Excluindo um elemento*"
      ],
      "metadata": {
        "id": "dRhrNsYgarsF"
      }
    },
    {
      "cell_type": "markdown",
      "source": [
        "Existem diversas maneiras de excluir um elemento de um dicionário. Nesse caso, vamos utilizar o método pop() para realizar a exclusão."
      ],
      "metadata": {
        "id": "M8c1aNIMat0N"
      }
    },
    {
      "cell_type": "markdown",
      "source": [
        "Vamos relembrar como está atualmente nosso dicionário."
      ],
      "metadata": {
        "id": "-oa18soKbEY6"
      }
    },
    {
      "cell_type": "code",
      "source": [
        "# Exibindo os valores\n",
        "print(alunos)"
      ],
      "metadata": {
        "colab": {
          "base_uri": "https://localhost:8080/"
        },
        "id": "Xy1pNp46bH2J",
        "outputId": "716474fd-fede-441a-fdd4-d6915a77edae"
      },
      "execution_count": null,
      "outputs": [
        {
          "output_type": "stream",
          "name": "stdout",
          "text": [
            "{'Lerma': 7.5, 'Ana': 9.0, 'Maria': 8.0, 'IA': 10.0, 'Ia 2.0': 9.2}\n"
          ]
        }
      ]
    },
    {
      "cell_type": "markdown",
      "source": [
        "Agora, vamos excluir o aluno \"Ia 2.0\"."
      ],
      "metadata": {
        "id": "CBplAST_bIep"
      }
    },
    {
      "cell_type": "code",
      "source": [
        "alunos.pop(\"Ia 2.0\")"
      ],
      "metadata": {
        "colab": {
          "base_uri": "https://localhost:8080/"
        },
        "id": "-FKreGXzbLox",
        "outputId": "3f8f4e12-4791-4238-90b3-5d9a0bc57b35"
      },
      "execution_count": null,
      "outputs": [
        {
          "output_type": "execute_result",
          "data": {
            "text/plain": [
              "9.2"
            ]
          },
          "metadata": {},
          "execution_count": 75
        }
      ]
    },
    {
      "cell_type": "markdown",
      "source": [
        "Agora que realizamos a exclusão, vamos observar o dicionário completo."
      ],
      "metadata": {
        "id": "JAN07u0xbPnI"
      }
    },
    {
      "cell_type": "code",
      "source": [
        "# Exibindo os valores\n",
        "print(alunos)"
      ],
      "metadata": {
        "colab": {
          "base_uri": "https://localhost:8080/"
        },
        "id": "JNugh3dGbiqX",
        "outputId": "cfc1a328-6df7-4ec7-ce28-11933d08690e"
      },
      "execution_count": null,
      "outputs": [
        {
          "output_type": "stream",
          "name": "stdout",
          "text": [
            "{'Lerma': 7.5, 'Ana': 9.0, 'Maria': 8.0, 'IA': 10.0}\n"
          ]
        }
      ]
    },
    {
      "cell_type": "markdown",
      "source": [
        "Podemos, então, confirmar a exclusão do elemento que não queríamos."
      ],
      "metadata": {
        "id": "aoGEG90CbmMW"
      }
    },
    {
      "cell_type": "markdown",
      "source": [
        "#### *Contando os elementos*"
      ],
      "metadata": {
        "id": "Ar01x6J_XSWU"
      }
    },
    {
      "cell_type": "markdown",
      "source": [
        "Utilizaremos novamente o método len() para conferirmos o tamanho do nosso dicionário."
      ],
      "metadata": {
        "id": "Am0DEQJgXcEV"
      }
    },
    {
      "cell_type": "code",
      "source": [
        "# Observando o comprimento do dicionário\n",
        "len(alunos)"
      ],
      "metadata": {
        "colab": {
          "base_uri": "https://localhost:8080/"
        },
        "id": "Z-1t4qxtXbVs",
        "outputId": "1589c037-9662-46aa-f30b-6b6ad5f46820"
      },
      "execution_count": null,
      "outputs": [
        {
          "output_type": "execute_result",
          "data": {
            "text/plain": [
              "4"
            ]
          },
          "metadata": {},
          "execution_count": 77
        }
      ]
    },
    {
      "cell_type": "markdown",
      "source": [
        "É possível notar que ele conta o número de chaves presentes em nosso dicionário, sendo assim o número de elementos está correto."
      ],
      "metadata": {
        "id": "5wUVLc_lXmh7"
      }
    },
    {
      "cell_type": "markdown",
      "source": [
        "#### *Verificando se existe um determinado elemento*"
      ],
      "metadata": {
        "id": "tr7N2u0eMlbF"
      }
    },
    {
      "cell_type": "markdown",
      "source": [
        "Para verificar a existência de algum elemento, vamos utilizar novamente o operador \"in\" da seguinte forma:"
      ],
      "metadata": {
        "id": "SDmBSWTUMmJl"
      }
    },
    {
      "cell_type": "code",
      "source": [
        "# Buscando um elemento\n",
        "\"João\" in alunos"
      ],
      "metadata": {
        "colab": {
          "base_uri": "https://localhost:8080/"
        },
        "id": "GusiFIwyMrCM",
        "outputId": "259d36f0-7321-4dc8-a9a5-d5b69aaafb5c"
      },
      "execution_count": null,
      "outputs": [
        {
          "output_type": "execute_result",
          "data": {
            "text/plain": [
              "False"
            ]
          },
          "metadata": {},
          "execution_count": 4
        }
      ]
    },
    {
      "cell_type": "markdown",
      "source": [
        "Dessa forma, podemos conferir se existe ou não um determinado elemento no dicionário. Caso a saída seja True, indica que o elemento buscado existe no dicionário. Caso a saída seja False, indica que o elemento buscado não existe no dicionário."
      ],
      "metadata": {
        "id": "WNa4figcM5ZK"
      }
    },
    {
      "cell_type": "markdown",
      "source": [
        "#### *Observando o valor associado a uma chave*"
      ],
      "metadata": {
        "id": "PgGVSY2COUig"
      }
    },
    {
      "cell_type": "markdown",
      "source": [
        "Para retornar o valor referente a uma determinada chave que vamos buscar, utilizaremos o método get(). Vamos observar como ele funciona na prática."
      ],
      "metadata": {
        "id": "q-3W4F9mOcwB"
      }
    },
    {
      "cell_type": "markdown",
      "source": [
        "Primeiro, vamos observar o dicionário completo."
      ],
      "metadata": {
        "id": "ucSB6MOnOlaX"
      }
    },
    {
      "cell_type": "code",
      "source": [
        "# Exibindo os valores\n",
        "print(alunos)"
      ],
      "metadata": {
        "colab": {
          "base_uri": "https://localhost:8080/"
        },
        "id": "JPsqLylXOncV",
        "outputId": "a0ba3f8b-014c-400f-df0c-f41903d7164a"
      },
      "execution_count": null,
      "outputs": [
        {
          "output_type": "stream",
          "name": "stdout",
          "text": [
            "{'Lerma': 7.0, 'Ana': 9.0, 'Maria': 8.0, 'IA': 10.0}\n"
          ]
        }
      ]
    },
    {
      "cell_type": "markdown",
      "source": [
        "Agora, vamos retornar o valor referente à aluna \"Ana\"."
      ],
      "metadata": {
        "id": "XJ6zjpJ6OrXl"
      }
    },
    {
      "cell_type": "code",
      "source": [
        "# Retorna o valor associado à chave \"nome\"\n",
        "print(alunos.get(\"Ana\"))"
      ],
      "metadata": {
        "colab": {
          "base_uri": "https://localhost:8080/"
        },
        "id": "SR_KBy_jNBKg",
        "outputId": "3f862921-a558-4a6a-bf78-b9ef0f3afecf"
      },
      "execution_count": null,
      "outputs": [
        {
          "output_type": "stream",
          "name": "stdout",
          "text": [
            "9.0\n"
          ]
        }
      ]
    },
    {
      "cell_type": "markdown",
      "source": [
        "Dessa forma, podemos observar o valor referente à chave que buscamos. Mas e se buscássemos uma chave que não existe? Vamos ver o que podemos fazer a respeito disso."
      ],
      "metadata": {
        "id": "a210PMfGO1LE"
      }
    },
    {
      "cell_type": "code",
      "source": [
        "# Retorna o valor padrão \"Não encontrado\" se a chave não estiver presente\n",
        "print(alunos.get(\"Kobe\", \"Aluno não cadastrado\"))"
      ],
      "metadata": {
        "colab": {
          "base_uri": "https://localhost:8080/"
        },
        "id": "VlrsLxNcPBS0",
        "outputId": "89aaede9-040a-4922-e8ce-f733641be4c8"
      },
      "execution_count": null,
      "outputs": [
        {
          "output_type": "stream",
          "name": "stdout",
          "text": [
            "Aluno não cadastrado\n"
          ]
        }
      ]
    },
    {
      "cell_type": "markdown",
      "source": [
        "Ao adicionarmos mais um parâmetro ao método get(), podemos definir um valor padrão caso a busca que realizamos não seja concluída por inexistência da chave buscada. Caso buscássemos por uma chave existente, esse método retornaria o valor referente à chave. Como a chave não foi encontrada, o valor retornado foi a mensagem padrão que declaramos no mesmo método."
      ],
      "metadata": {
        "id": "WMbZid4gPMja"
      }
    },
    {
      "cell_type": "markdown",
      "source": [
        "#### *Observando as chaves*"
      ],
      "metadata": {
        "id": "mpMhRTJ_Pk0Q"
      }
    },
    {
      "cell_type": "markdown",
      "source": [
        "Utilizando o método keys(), podemos observar todas as chaves presentes no nosso dicionário. Vamos observar um exemplo."
      ],
      "metadata": {
        "id": "4FKmPGqAP3zl"
      }
    },
    {
      "cell_type": "code",
      "source": [
        "# Retornando todas as chaves\n",
        "alunos.keys()"
      ],
      "metadata": {
        "colab": {
          "base_uri": "https://localhost:8080/"
        },
        "id": "n5KodlhnPLyT",
        "outputId": "a082b238-d4df-409f-b2e9-7be8170c7487"
      },
      "execution_count": null,
      "outputs": [
        {
          "output_type": "execute_result",
          "data": {
            "text/plain": [
              "dict_keys(['Lerma', 'Ana', 'Maria', 'IA'])"
            ]
          },
          "metadata": {},
          "execution_count": 10
        }
      ]
    },
    {
      "cell_type": "markdown",
      "source": [
        "Utilizando esse método, sempre será possível obter uma lista com as chaves do dicionário."
      ],
      "metadata": {
        "id": "H_umNhiLP_ik"
      }
    },
    {
      "cell_type": "markdown",
      "source": [
        "#### *Observando os valores*"
      ],
      "metadata": {
        "id": "xuzG4dEoQJBL"
      }
    },
    {
      "cell_type": "markdown",
      "source": [
        "Para observarmos todos os valores presentes no nosso dicionário, vamos utilizar o método values() da seguinte forma:"
      ],
      "metadata": {
        "id": "d8zBRvoIQN2C"
      }
    },
    {
      "cell_type": "code",
      "source": [
        "# Retornando todos os valores\n",
        "alunos.values()"
      ],
      "metadata": {
        "colab": {
          "base_uri": "https://localhost:8080/"
        },
        "id": "x3guUTfxQX_C",
        "outputId": "03030d85-8011-43f4-c567-92f0b8d7929e"
      },
      "execution_count": null,
      "outputs": [
        {
          "output_type": "execute_result",
          "data": {
            "text/plain": [
              "dict_values([7.0, 9.0, 8.0, 10.0])"
            ]
          },
          "metadata": {},
          "execution_count": 11
        }
      ]
    },
    {
      "cell_type": "markdown",
      "source": [
        "Assim, podemos sempre obter uma lista com todos os valores do dicionário."
      ],
      "metadata": {
        "id": "P0o2vbwNQfkh"
      }
    },
    {
      "cell_type": "markdown",
      "source": [
        "#### *Observando tanto chave quanto o valor*"
      ],
      "metadata": {
        "id": "EeNZq8x7QpkI"
      }
    },
    {
      "cell_type": "markdown",
      "source": [
        "á sabemos como visualizar cada um desses separadamente. Mas, se quisemos observar tanto a chave quanto o valor de uma só vez, como poderíamos fazer? Para conseguirmos observar cada chave e seu valor associado, podemos utilizar o método items(). Vamos observar na prática."
      ],
      "metadata": {
        "id": "QAbT5P2uQtcB"
      }
    },
    {
      "cell_type": "code",
      "source": [
        "# Observando todas as chaves e seus valores\n",
        "alunos.items()"
      ],
      "metadata": {
        "colab": {
          "base_uri": "https://localhost:8080/"
        },
        "id": "30pTZCBGRALN",
        "outputId": "05ba5e2e-6e49-4435-b446-8b93dcfafdd3"
      },
      "execution_count": null,
      "outputs": [
        {
          "output_type": "execute_result",
          "data": {
            "text/plain": [
              "dict_items([('Lerma', 7.0), ('Ana', 9.0), ('Maria', 8.0), ('IA', 10.0)])"
            ]
          },
          "metadata": {},
          "execution_count": 12
        }
      ]
    },
    {
      "cell_type": "markdown",
      "source": [
        "Dessa forma, podemos observar uma lista de tuplas, onde cada tupla contém uma chave e seu valor associado."
      ],
      "metadata": {
        "id": "6epwhHUOREw8"
      }
    },
    {
      "cell_type": "markdown",
      "source": [
        "## **Operadores**"
      ],
      "metadata": {
        "id": "MvFcPycaWmA1"
      }
    },
    {
      "cell_type": "markdown",
      "source": [
        "Existem dois tipos de operadores no Python: os operadores de comparação e os operadores lógicos. Vamos observar ambos um pouco mais afundo."
      ],
      "metadata": {
        "id": "0mS0txAQWowd"
      }
    },
    {
      "cell_type": "markdown",
      "source": [
        "### *Operadores de comparação*"
      ],
      "metadata": {
        "id": "50ltQ3_AXDDp"
      }
    },
    {
      "cell_type": "markdown",
      "source": [
        "Os operadores de comparação são usados para comparar dois valores e retornar um valor booleano (True ou False). Eles são usados em instruções condicionais para fazer verificações e tomar decisões."
      ],
      "metadata": {
        "id": "9iJ0AFtQXKRh"
      }
    },
    {
      "cell_type": "markdown",
      "source": [
        "Vamos observar quais são esses operadores de comparação:\n",
        "\n",
        "- O operador de igualdade == é usado para verificar se dois valores são iguais.\n",
        "- O operador de desigualdade != é usado para verificar se dois valores são diferentes.\n",
        "- O operador de maior que > é usado para verificar se o primeiro valor é maior que o segundo valor.\n",
        "- O operador de maior ou igual a >= é usado para verificar se o primeiro valor é maior ou igual ao segundo valor.\n",
        "- O operador de menor que < é usado para verificar se o primeiro valor é menor que o segundo valor.\n",
        "- O operador de menor ou igual a <= é usado para verificar se o primeiro valor é menor ou igual ao segundo valor."
      ],
      "metadata": {
        "id": "jLD_FJw_XRWQ"
      }
    },
    {
      "cell_type": "markdown",
      "source": [
        "Vamos observar um exemplo de cada um desses operadores."
      ],
      "metadata": {
        "id": "o6MEZvBSX4Hr"
      }
    },
    {
      "cell_type": "markdown",
      "source": [
        "**Igualdade**"
      ],
      "metadata": {
        "id": "k0jnXsnlYCZr"
      }
    },
    {
      "cell_type": "code",
      "source": [
        "# Igualdade\n",
        "16 == 17"
      ],
      "metadata": {
        "colab": {
          "base_uri": "https://localhost:8080/"
        },
        "id": "rHnkBDb5X7uT",
        "outputId": "b2504920-e425-4f9e-8424-246b85e0bd31"
      },
      "execution_count": null,
      "outputs": [
        {
          "output_type": "execute_result",
          "data": {
            "text/plain": [
              "False"
            ]
          },
          "metadata": {},
          "execution_count": 13
        }
      ]
    },
    {
      "cell_type": "markdown",
      "source": [
        "Como os valores são diferentes, obtivemos um resultado falso."
      ],
      "metadata": {
        "id": "zdF_GIMGYOe5"
      }
    },
    {
      "cell_type": "markdown",
      "source": [
        "**Desigualdade**"
      ],
      "metadata": {
        "id": "0yM9cmEFYMiC"
      }
    },
    {
      "cell_type": "code",
      "source": [
        "# Desigualdade\n",
        "'maçã' != 'Maçã'"
      ],
      "metadata": {
        "colab": {
          "base_uri": "https://localhost:8080/"
        },
        "id": "QOJ7bZeMYGcD",
        "outputId": "1b478d11-2f20-4ac7-c061-f7bdc3644ecd"
      },
      "execution_count": null,
      "outputs": [
        {
          "output_type": "execute_result",
          "data": {
            "text/plain": [
              "True"
            ]
          },
          "metadata": {},
          "execution_count": 15
        }
      ]
    },
    {
      "cell_type": "markdown",
      "source": [
        "Os valores são diferentes porque a primeira palavra começa com letra maiúscula e o Python é sensível a esse tipo de coisa. Logo, esse detalhe faz com que, aos olhos do Python, sejam elementos diferentes um do outro."
      ],
      "metadata": {
        "id": "gqHJyaaaYSZ5"
      }
    },
    {
      "cell_type": "markdown",
      "source": [
        "**Maior que**"
      ],
      "metadata": {
        "id": "Axhm2RcOYrSf"
      }
    },
    {
      "cell_type": "code",
      "source": [
        "# Maior que\n",
        "57 > 20"
      ],
      "metadata": {
        "colab": {
          "base_uri": "https://localhost:8080/"
        },
        "id": "aGBUc72nYuPv",
        "outputId": "6d1460c2-46fd-4b76-ceb4-e0506a72fc42"
      },
      "execution_count": null,
      "outputs": [
        {
          "output_type": "execute_result",
          "data": {
            "text/plain": [
              "True"
            ]
          },
          "metadata": {},
          "execution_count": 17
        }
      ]
    },
    {
      "cell_type": "markdown",
      "source": [
        "O primeiro valor é maior que o segundo, logo obtivemos um valor True."
      ],
      "metadata": {
        "id": "Rx9S5WxdY01O"
      }
    },
    {
      "cell_type": "markdown",
      "source": [
        "**Maior ou igual a**"
      ],
      "metadata": {
        "id": "FcT8doE9Y-GL"
      }
    },
    {
      "cell_type": "code",
      "source": [
        "# Maior ou igual\n",
        "57 >= 57"
      ],
      "metadata": {
        "colab": {
          "base_uri": "https://localhost:8080/"
        },
        "id": "ZqNP1DemY678",
        "outputId": "1a15b2ce-9cd8-409e-edf8-735fb2ec2030"
      },
      "execution_count": null,
      "outputs": [
        {
          "output_type": "execute_result",
          "data": {
            "text/plain": [
              "True"
            ]
          },
          "metadata": {},
          "execution_count": 18
        }
      ]
    },
    {
      "cell_type": "markdown",
      "source": [
        "57 é igual a 57, portanto, o resultado que obtivemos foi um True."
      ],
      "metadata": {
        "id": "xT0T4RdiZFZy"
      }
    },
    {
      "cell_type": "markdown",
      "source": [
        "**Menor que**"
      ],
      "metadata": {
        "id": "Q7W7bpEyZMar"
      }
    },
    {
      "cell_type": "code",
      "source": [
        "# Menor que\n",
        "2289 < 2288"
      ],
      "metadata": {
        "colab": {
          "base_uri": "https://localhost:8080/"
        },
        "id": "30oGbYetZOZi",
        "outputId": "ff2c91b2-1d10-44c5-b6f4-7c98e177b9a9"
      },
      "execution_count": null,
      "outputs": [
        {
          "output_type": "execute_result",
          "data": {
            "text/plain": [
              "False"
            ]
          },
          "metadata": {},
          "execution_count": 20
        }
      ]
    },
    {
      "cell_type": "markdown",
      "source": [
        "O primeiro valor é maior ou igual ao segundo, portanto, obtivemos um valor False."
      ],
      "metadata": {
        "id": "ft859dZjZWxZ"
      }
    },
    {
      "cell_type": "markdown",
      "source": [
        "**Menor ou igual a**"
      ],
      "metadata": {
        "id": "6zEAf4GFZdXh"
      }
    },
    {
      "cell_type": "code",
      "source": [
        "# Menor ou igual\n",
        "2289 <= 2289"
      ],
      "metadata": {
        "colab": {
          "base_uri": "https://localhost:8080/"
        },
        "id": "YMHIFecOZfIh",
        "outputId": "c7d650e9-40d3-4ce4-f112-31fdb881bc16"
      },
      "execution_count": null,
      "outputs": [
        {
          "output_type": "execute_result",
          "data": {
            "text/plain": [
              "True"
            ]
          },
          "metadata": {},
          "execution_count": 21
        }
      ]
    },
    {
      "cell_type": "markdown",
      "source": [
        "Mesmo que o primeiro valor não seja menor que o outro, eles são iguais, por isso recebemos o valor True."
      ],
      "metadata": {
        "id": "3eKR6XxSZjWA"
      }
    },
    {
      "cell_type": "markdown",
      "source": [
        "### *Operadores lógicos*"
      ],
      "metadata": {
        "id": "VWYEM8tdbNXF"
      }
    },
    {
      "cell_type": "markdown",
      "source": [
        "Os operadores lógicos são usados para combinar duas ou mais expressões condicionais. Eles são usados para tomar decisões baseadas em múltiplas condições."
      ],
      "metadata": {
        "id": "uSXSjXQSbLw8"
      }
    },
    {
      "cell_type": "markdown",
      "source": [
        "Vamos observar quais são esses operadores lógicos:\n",
        "\n",
        "- O operador 'and' é usado para combinar duas expressões condicionais. O resultado da expressão será True apenas se ambas as expressões forem True.\n",
        "\n",
        "- O operador 'or' é usado para combinar duas expressões condicionais. O resultado da expressão será True se pelo menos uma das expressões for True.\n",
        "\n",
        "- O operador 'not' é usado para inverter o valor booleano de uma expressão. Se a expressão for True, o resultado será False. Se a expressão for False, o resultado será True.\n"
      ],
      "metadata": {
        "id": "pzxdAoVKbUi7"
      }
    },
    {
      "cell_type": "markdown",
      "source": [
        "Vamos observar um exemplo de cada um desses tipos de operadores."
      ],
      "metadata": {
        "id": "f_HyqcP_bxZo"
      }
    },
    {
      "cell_type": "markdown",
      "source": [
        "**And**"
      ],
      "metadata": {
        "id": "KRdfk8VVb-1Q"
      }
    },
    {
      "cell_type": "code",
      "source": [
        "# Aplicando o and\n",
        "17 > 18 and 18 < 21"
      ],
      "metadata": {
        "colab": {
          "base_uri": "https://localhost:8080/"
        },
        "id": "zcesiS9DcCr4",
        "outputId": "9b3c1c51-077b-48e0-af8e-3b8596b9f95f"
      },
      "execution_count": null,
      "outputs": [
        {
          "output_type": "execute_result",
          "data": {
            "text/plain": [
              "False"
            ]
          },
          "metadata": {},
          "execution_count": 23
        }
      ]
    },
    {
      "cell_type": "markdown",
      "source": [
        "Como estamos utilizando o operando 'and', ambas as expressões tinham que ser verdadeiras. Como 17 é menor que 18, e na expressão estamos conferindo se, na verdade, ele é maior que 18, o resultado seria False. A segunda expressão, por outro lado, resultou em True, pois 21 é maior que 18. Logo, nossa expressão ficou da seguinte forma:"
      ],
      "metadata": {
        "id": "VYtFiwNacLcu"
      }
    },
    {
      "cell_type": "code",
      "source": [
        "# Expressão apenas com operadores\n",
        "False and True"
      ],
      "metadata": {
        "colab": {
          "base_uri": "https://localhost:8080/"
        },
        "id": "8V0YjiKRcleC",
        "outputId": "eb397d99-4580-4e72-bb20-bf19b6eb9124"
      },
      "execution_count": null,
      "outputs": [
        {
          "output_type": "execute_result",
          "data": {
            "text/plain": [
              "False"
            ]
          },
          "metadata": {},
          "execution_count": 24
        }
      ]
    },
    {
      "cell_type": "markdown",
      "source": [
        "Como no 'and' ambas as expressões precisam ser verdadeiras, o nosso resultado foi False, pois uma das expressões teve um resultado False."
      ],
      "metadata": {
        "id": "s6OTTuIqcsEY"
      }
    },
    {
      "cell_type": "markdown",
      "source": [
        "**Or**"
      ],
      "metadata": {
        "id": "yy-XzNsQc0XI"
      }
    },
    {
      "cell_type": "code",
      "source": [
        "# Aplicando o or\n",
        "17 > 18 or 18 < 21"
      ],
      "metadata": {
        "colab": {
          "base_uri": "https://localhost:8080/"
        },
        "id": "JcLZaP3Qc4jY",
        "outputId": "6b82e1bd-f6ea-4386-847d-96f6a4bc0c0d"
      },
      "execution_count": null,
      "outputs": [
        {
          "output_type": "execute_result",
          "data": {
            "text/plain": [
              "True"
            ]
          },
          "metadata": {},
          "execution_count": 25
        }
      ]
    },
    {
      "cell_type": "markdown",
      "source": [
        "Já no 'or', basta que um dos resultados da expressão seja verdadeiro para que o resultado seja verdadeiro. Como vimos no exemplo anterior, a expressão acima é False 'and' True, por isso nosso resultado final utilizando o operador 'or' é True."
      ],
      "metadata": {
        "id": "M_nZ8xbQc7Qg"
      }
    },
    {
      "cell_type": "markdown",
      "source": [
        "**Or**"
      ],
      "metadata": {
        "id": "oPV5Zo6lc7XY"
      }
    },
    {
      "cell_type": "code",
      "source": [
        "# Aplicando o not\n",
        "not(17 > 18 or 18 < 21)"
      ],
      "metadata": {
        "colab": {
          "base_uri": "https://localhost:8080/"
        },
        "id": "KjXv4V7gdOId",
        "outputId": "85a8240b-7c20-461c-8d12-6452dcefda47"
      },
      "execution_count": null,
      "outputs": [
        {
          "output_type": "execute_result",
          "data": {
            "text/plain": [
              "False"
            ]
          },
          "metadata": {},
          "execution_count": 26
        }
      ]
    },
    {
      "cell_type": "markdown",
      "source": [
        "O operador 'not' inverte o valor lógico de uma expressão. Para observarmos bem essa parte, utilizei a mesma operação que utilizamos no 'or'. Como o resultado final foi True e o operador not inverte o resultado, logo o resultado final é False, que é o contrário de True."
      ],
      "metadata": {
        "id": "MvIyKNODdMA-"
      }
    },
    {
      "cell_type": "markdown",
      "source": [
        "## **Operações matemáticas**"
      ],
      "metadata": {
        "id": "nG5IWcv4imBP"
      }
    },
    {
      "cell_type": "markdown",
      "source": [
        "Os operadores matemáticos são usados para realizar operações matemáticas em Python."
      ],
      "metadata": {
        "id": "qlAazuCEitIG"
      }
    },
    {
      "cell_type": "markdown",
      "source": [
        "**Operador de adição**"
      ],
      "metadata": {
        "id": "6AiEqXgjpcjb"
      }
    },
    {
      "cell_type": "markdown",
      "source": [
        "O operador de adição '+' é usado para somar dois valores, vamos observar um exemplo."
      ],
      "metadata": {
        "id": "RTVSmrSxphuy"
      }
    },
    {
      "cell_type": "code",
      "source": [
        "# Definindo os valores das varáveis\n",
        "x = 10\n",
        "y = 57\n",
        "\n",
        "# Realizando a operação\n",
        "soma = x + y\n",
        "\n",
        "# Exibindo o resultado\n",
        "print(soma)"
      ],
      "metadata": {
        "colab": {
          "base_uri": "https://localhost:8080/"
        },
        "id": "J66Go8oipkRq",
        "outputId": "6e3251bd-2143-4d4b-dac1-12eebb094a8e"
      },
      "execution_count": null,
      "outputs": [
        {
          "output_type": "stream",
          "name": "stdout",
          "text": [
            "67\n"
          ]
        }
      ]
    },
    {
      "cell_type": "markdown",
      "source": [
        "As operações matemáticas no Python são bastante intuitivas, então acredito que neste primeiro momento basta entendermos o seu funcionamento. Dito isso, vamos prosseguir."
      ],
      "metadata": {
        "id": "F18Q6aySpyKB"
      }
    },
    {
      "cell_type": "markdown",
      "source": [
        "**Operador de subtração**"
      ],
      "metadata": {
        "id": "qmDHoBXnqDAB"
      }
    },
    {
      "cell_type": "markdown",
      "source": [
        "O operador de subtração '-' é usado para subtrair dois valores."
      ],
      "metadata": {
        "id": "jdXcxeRFqFIg"
      }
    },
    {
      "cell_type": "code",
      "source": [
        "# Definindo os valores das varáveis\n",
        "x = 10\n",
        "y = 57\n",
        "\n",
        "# Realizando a operação\n",
        "subtracao = x - y\n",
        "\n",
        "# Exibindo o resultado\n",
        "print(subtracao)"
      ],
      "metadata": {
        "colab": {
          "base_uri": "https://localhost:8080/"
        },
        "id": "F2CFDY-4qJ-W",
        "outputId": "2ca49717-0b92-467e-f015-2b864eb0c87d"
      },
      "execution_count": null,
      "outputs": [
        {
          "output_type": "stream",
          "name": "stdout",
          "text": [
            "-47\n"
          ]
        }
      ]
    },
    {
      "cell_type": "markdown",
      "source": [
        "**Operador de multiplicação**"
      ],
      "metadata": {
        "id": "WpoIcN6nqPLW"
      }
    },
    {
      "cell_type": "markdown",
      "source": [
        "O operador de multiplicação '*' é usado para multiplicar dois valores."
      ],
      "metadata": {
        "id": "f2HXzTh8qQZ1"
      }
    },
    {
      "cell_type": "code",
      "source": [
        "# Definindo os valores das varáveis\n",
        "x = 10\n",
        "y = 57\n",
        "\n",
        "# Realizando a operação\n",
        "multiplicacao = x * y\n",
        "\n",
        "# Exibindo o resultado\n",
        "print(multiplicacao)"
      ],
      "metadata": {
        "colab": {
          "base_uri": "https://localhost:8080/"
        },
        "id": "RDGT0ZoBqRxm",
        "outputId": "b452c6f7-c02b-4065-c78c-05bb1cda6bc0"
      },
      "execution_count": null,
      "outputs": [
        {
          "output_type": "stream",
          "name": "stdout",
          "text": [
            "570\n"
          ]
        }
      ]
    },
    {
      "cell_type": "markdown",
      "source": [
        "**Operador de divisão**"
      ],
      "metadata": {
        "id": "nGWX8W_wqceT"
      }
    },
    {
      "cell_type": "markdown",
      "source": [
        "O operador de divisão '/' é usado para dividir dois valores."
      ],
      "metadata": {
        "id": "5T53P2ZQqeRU"
      }
    },
    {
      "cell_type": "code",
      "source": [
        "# Definindo os valores das varáveis\n",
        "x = 10\n",
        "y = 57\n",
        "\n",
        "# Realizando a operação\n",
        "divisao = x / y\n",
        "\n",
        "# Exibindo o resultado\n",
        "print(divisao)"
      ],
      "metadata": {
        "colab": {
          "base_uri": "https://localhost:8080/"
        },
        "id": "IEJcd1N3qcxd",
        "outputId": "64d57381-a06c-4019-c1ae-d2085f8fce37"
      },
      "execution_count": null,
      "outputs": [
        {
          "output_type": "stream",
          "name": "stdout",
          "text": [
            "0.17543859649122806\n"
          ]
        }
      ]
    },
    {
      "cell_type": "markdown",
      "source": [
        "**Operador de divisão inteira**"
      ],
      "metadata": {
        "id": "tO5_0sJyqpqy"
      }
    },
    {
      "cell_type": "markdown",
      "source": [
        "O operador de divisão inteira '//' é usado para realizar divisão inteira, truncando o resultado para um número inteiro."
      ],
      "metadata": {
        "id": "NZH9mWdBqrYa"
      }
    },
    {
      "cell_type": "code",
      "source": [
        "# Definindo os valores das varáveis\n",
        "x = 10\n",
        "y = 57\n",
        "\n",
        "# Realizando a operação\n",
        "div_inteira = x // y\n",
        "\n",
        "# Exibindo o resultado\n",
        "print(div_inteira)"
      ],
      "metadata": {
        "colab": {
          "base_uri": "https://localhost:8080/"
        },
        "id": "7kqvlZdMqrjS",
        "outputId": "37f9ce3c-8199-42d7-a8ba-cdef4ff09a2c"
      },
      "execution_count": null,
      "outputs": [
        {
          "output_type": "stream",
          "name": "stdout",
          "text": [
            "0\n"
          ]
        }
      ]
    },
    {
      "cell_type": "markdown",
      "source": [
        "**Operador de resto**"
      ],
      "metadata": {
        "id": "X2EX5XVHqx_C"
      }
    },
    {
      "cell_type": "markdown",
      "source": [
        "O operador de resto '%' é usado para calcular o resto da divisão de dois valores."
      ],
      "metadata": {
        "id": "0MdYvYhvqz4a"
      }
    },
    {
      "cell_type": "code",
      "source": [
        "# Definindo os valores das varáveis\n",
        "x = 10\n",
        "y = 57\n",
        "\n",
        "# Realizando a operação\n",
        "div_inteira = x % y\n",
        "\n",
        "# Exibindo o resultado\n",
        "print(div_inteira)"
      ],
      "metadata": {
        "colab": {
          "base_uri": "https://localhost:8080/"
        },
        "id": "YgULNSmmq1zp",
        "outputId": "b2b98bbf-3584-4b4a-ec8f-2bcd2b26a40c"
      },
      "execution_count": null,
      "outputs": [
        {
          "output_type": "stream",
          "name": "stdout",
          "text": [
            "10\n"
          ]
        }
      ]
    },
    {
      "cell_type": "markdown",
      "source": [
        "**Operador de exponenciação**"
      ],
      "metadata": {
        "id": "1IiY1W34q_bR"
      }
    },
    {
      "cell_type": "markdown",
      "source": [
        "O operador de exponenciação '**' é usado para elevar um valor a um expoente."
      ],
      "metadata": {
        "id": "toOlQVkZrAQA"
      }
    },
    {
      "cell_type": "code",
      "source": [
        "# Definindo os valores das varáveis\n",
        "x = 10\n",
        "y = 2\n",
        "\n",
        "# Realizando a operação\n",
        "div_inteira = x ** y\n",
        "\n",
        "# Exibindo o resultado\n",
        "print(div_inteira)"
      ],
      "metadata": {
        "colab": {
          "base_uri": "https://localhost:8080/"
        },
        "id": "vHXPjiFkrC8R",
        "outputId": "200cd0d2-c7eb-4f22-9c7a-89de3faa9712"
      },
      "execution_count": null,
      "outputs": [
        {
          "output_type": "stream",
          "name": "stdout",
          "text": [
            "100\n"
          ]
        }
      ]
    },
    {
      "cell_type": "markdown",
      "source": [
        "## **Estruturas de controle**"
      ],
      "metadata": {
        "id": "tCi-k4DYkZ0N"
      }
    },
    {
      "cell_type": "markdown",
      "source": [
        "As estruturas de controle são instruções que controlam o fluxo de execução de um programa. Em Python, existem três tipos principais de estruturas de controle:\n",
        "\n",
        "- Instruções condicionais: Essas instruções permitem que o fluxo de execução de um programa seja alterado com base em uma condição.\n",
        "- Laços de repetição: Essas instruções permitem que um bloco de código seja executado repetidamente."
      ],
      "metadata": {
        "id": "KkWEschxkx5p"
      }
    },
    {
      "cell_type": "markdown",
      "source": [
        "**Instruções condicionais**"
      ],
      "metadata": {
        "id": "P8GxC-Uyk7jI"
      }
    },
    {
      "cell_type": "markdown",
      "source": [
        "As instruções condicionais são usadas para alterar o fluxo de execução de um programa com base em uma condição. Em Python, existem dois tipos de instruções condicionais:\n",
        "\n",
        "- if-else: Esta instrução permite que o fluxo de execução de um programa seja alterado dependendo do valor de uma expressão booleana.\n",
        "- elif: Esta instrução permite que o fluxo de execução de um programa seja alterado dependendo do valor de uma expressão booleana, mas apenas se a primeira expressão booleana for falsa."
      ],
      "metadata": {
        "id": "OD222OUElOVO"
      }
    },
    {
      "cell_type": "markdown",
      "source": [
        "Para fixarmos melhor, vamos observar um exemplo onde o if-else será utilizado. Nosso objetivo será descobrir se determinado número é par ou ímpar. Vamos observar na prática.\n",
        "\n"
      ],
      "metadata": {
        "id": "hxJyuuNalZvN"
      }
    },
    {
      "cell_type": "code",
      "source": [
        "# Definindo o número\n",
        "num = 7\n",
        "\n",
        "# Criando a nossa condição\n",
        "if num % 2 == 0:\n",
        "  print(\"Esse número é par!\")\n",
        "else:\n",
        "  print(\"Esse número é impar!\")"
      ],
      "metadata": {
        "colab": {
          "base_uri": "https://localhost:8080/"
        },
        "id": "jz5UfTU1ljst",
        "outputId": "dd274055-0d8a-4968-fa10-ef8f02142ab0"
      },
      "execution_count": null,
      "outputs": [
        {
          "output_type": "stream",
          "name": "stdout",
          "text": [
            "Esse número é impar!\n"
          ]
        }
      ]
    },
    {
      "cell_type": "markdown",
      "source": [
        "Primeiro, declaramos qual será o número que queremos investigar. Em seguida, iniciamos a nossa condição. Para facilitar o entendimento, vamos tentar ler esse código da seguinte forma:\n",
        "\n",
        "Se o resto da divisão de num for igual a 0, imprima a mensagem \"Esse número é par!\".\n",
        "Senão, imprima \"Esse número é ímpar!"
      ],
      "metadata": {
        "id": "3sq7QRJ5mOYC"
      }
    },
    {
      "cell_type": "markdown",
      "source": [
        "**Laços de repetição**"
      ],
      "metadata": {
        "id": "oYA2VdXrmpIm"
      }
    },
    {
      "cell_type": "markdown",
      "source": [
        "Os laços de repetição são usados para executar um bloco de código repetidamente. Em Python, existem dois tipos de laços de repetição:\n",
        "\n",
        "- for: Este laço é usado para repetir um bloco de código um número específico de vezes.\n",
        "- while: Este laço é usado para repetir um bloco de código enquanto uma condição for verdadeira."
      ],
      "metadata": {
        "id": "kNBOqw9QmrMl"
      }
    },
    {
      "cell_type": "markdown",
      "source": [
        "Vamos observar um exemplo do laço for, que é usado para repetir um bloco de código um número específico de vezes. A sintaxe do laço for é a seguinte:"
      ],
      "metadata": {
        "id": "iJp6MNdimzpr"
      }
    },
    {
      "cell_type": "code",
      "source": [
        "# Criando o laço\n",
        "for i in range(9):\n",
        "  print(i)"
      ],
      "metadata": {
        "colab": {
          "base_uri": "https://localhost:8080/"
        },
        "id": "tNZLKLsFm6jz",
        "outputId": "f6bf3bfe-e752-4d44-a013-10def8264665"
      },
      "execution_count": null,
      "outputs": [
        {
          "output_type": "stream",
          "name": "stdout",
          "text": [
            "0\n",
            "1\n",
            "2\n",
            "3\n",
            "4\n",
            "5\n",
            "6\n",
            "7\n",
            "8\n"
          ]
        }
      ]
    },
    {
      "cell_type": "markdown",
      "source": [
        "Nesse exemplo, estamos utilizando a função 'range()' para criar uma sequência de 9 números começando do 0, ou seja, basicamente vamos criar uma sequência de 0 a 9. Então, podemos ler esse código da seguinte forma:\n",
        "\n",
        "Para todo elemento no range(0, 9), imprima cada um desses elementos.\n",
        "\n",
        "A função 'range()' retorna uma sequência de números, começando pelo primeiro argumento e terminando antes do segundo argumento. Nesse caso, o primeiro argumento é 0 e o segundo argumento é 9. Portanto, a função 'range()' retornará uma sequência de 9 números, de 0 a 8.\n",
        "\n",
        "O laço for irá iterar sobre essa sequência, atribuindo cada elemento à variável n. Em seguida, o bloco de código irá imprimir o valor da variável n."
      ],
      "metadata": {
        "id": "Chf2GdYRm_pL"
      }
    },
    {
      "cell_type": "markdown",
      "source": [
        "Já o laço while é usado para repetir um bloco de código enquanto uma condição for verdadeira. A sintaxe do laço while é a seguinte:"
      ],
      "metadata": {
        "id": "iyztVSVPqMUd"
      }
    },
    {
      "cell_type": "code",
      "source": [
        "# Definindo o valor inicial\n",
        "i = 0\n",
        "\n",
        "# Criando o laço\n",
        "while i <= 10:\n",
        "\n",
        "  # Exibindo o valor atual\n",
        "  print(i)\n",
        "\n",
        "  # Somando mais 1 para o valor em que o looping está passando\n",
        "  i += 1\n",
        "\n",
        "  # Quando o i chegar no número 7, vamos para o looping\n",
        "  if i == 8:\n",
        "    break"
      ],
      "metadata": {
        "colab": {
          "base_uri": "https://localhost:8080/"
        },
        "id": "f4mtXAWbqXhy",
        "outputId": "d18ff0bd-9ac2-443e-bd15-5455cdb0171c"
      },
      "execution_count": null,
      "outputs": [
        {
          "output_type": "stream",
          "name": "stdout",
          "text": [
            "0\n",
            "1\n",
            "2\n",
            "3\n",
            "4\n",
            "5\n",
            "6\n",
            "7\n"
          ]
        }
      ]
    },
    {
      "cell_type": "markdown",
      "source": [
        "Para entendermos melhor esse código, podemos ler ele da seguinte forma:\n",
        "\n",
        "Primeiro, declaramos a variável inicial com o valor 0.\n",
        "Em seguida, enquanto o valor de inicial for menor ou igual a 10, imprima o valor de inicial.\n",
        "Logo após, somamos 1 ao valor de inicial.\n",
        "Quando o valor de inicial for igual a 8, utilizamos a instrução break para pararmos a execução do programa e não gerarmos um loop infinito.\n",
        "\n",
        "No laço while, temos duas instruções bem importantes, sendo elas:\n",
        "\n",
        "- break: Esta instrução interrompe a execução do loop atual.\n",
        "- continue: Esta instrução continua a execução do loop atual, mas pula a próxima iteração."
      ],
      "metadata": {
        "id": "98mHLnazqa1Z"
      }
    },
    {
      "cell_type": "markdown",
      "source": [
        "## **Pandas**"
      ],
      "metadata": {
        "id": "lyAD_ktti-kX"
      }
    },
    {
      "cell_type": "markdown",
      "source": [
        "O pandas pode ser usado para uma variedade de tarefas de manipulação e análise de dados, incluindo:\n",
        "\n",
        "- Leitura e escrita de dados: O pandas pode ser usado para ler e escrever dados de uma variedade de fontes, incluindo arquivos CSV, Excel, SQL e JSON.\n",
        "- Manipulação de dados: O pandas pode ser usado para manipular dados, como filtrar, ordenar, agrupar e sumarizar dados.\n",
        "- Análise de dados: O pandas pode ser usado para realizar análises estatísticas, como regressão, classificação e clustering."
      ],
      "metadata": {
        "id": "Sf9yk1qttlAU"
      }
    },
    {
      "cell_type": "markdown",
      "source": [
        "Antes de tudo, precisamos importar a biblioteca pandas. Então, vamos fazer isso."
      ],
      "metadata": {
        "id": "HWlVLHoYtuqq"
      }
    },
    {
      "cell_type": "code",
      "source": [
        "# Importando o pandas\n",
        "import pandas as pd"
      ],
      "metadata": {
        "id": "wMC5goUwqpqZ"
      },
      "execution_count": 1,
      "outputs": []
    },
    {
      "cell_type": "markdown",
      "source": [
        "Como, nesse caso, os meus dados estão no Drive, será necessário importar a biblioteca do Drive para que eu possa acessar o conteúdo presente no meu Drive."
      ],
      "metadata": {
        "id": "0lM6EDIEudYm"
      }
    },
    {
      "cell_type": "code",
      "source": [
        "# Acesso ao drive\n",
        "from google.colab import drive\n",
        "drive.mount('/content/drive')"
      ],
      "metadata": {
        "colab": {
          "base_uri": "https://localhost:8080/"
        },
        "id": "ybfs660iuZQW",
        "outputId": "b6c25e58-47fe-4408-fc78-7cf9c525c42b"
      },
      "execution_count": 2,
      "outputs": [
        {
          "output_type": "stream",
          "name": "stdout",
          "text": [
            "Mounted at /content/drive\n"
          ]
        }
      ]
    },
    {
      "cell_type": "markdown",
      "source": [
        "Agora que já realizamos essas importações iniciais, vamos importar nossos dados para verificarmos diferentes funções do próprio pandas."
      ],
      "metadata": {
        "id": "QiAdZ5EUt_x6"
      }
    },
    {
      "cell_type": "code",
      "source": [
        "# Carregando os dados\n",
        "df = pd.read_csv(\"/content/drive/MyDrive/Estatística para ciência de dados/top10s.csv\", encoding=\"ISO-8859-1\")\n",
        "\n",
        "# Carregando outros dados\n",
        "df2 = pd.read_csv(\"/content/drive/MyDrive/Estatística para ciência de dados/SpotifyTopSongsByCountry - May 2020.csv\", encoding=\"ISO-8859-1\")"
      ],
      "metadata": {
        "id": "ptDWD7xiu4PS"
      },
      "execution_count": 3,
      "outputs": []
    },
    {
      "cell_type": "markdown",
      "source": [
        "Utilizamos a função read_csv() do pandas para realizar a leitura dos dados e armazenamos o resultado nas variáveis df e df2."
      ],
      "metadata": {
        "id": "5R0dRy3XuxBc"
      }
    },
    {
      "cell_type": "markdown",
      "source": [
        "Agora, vamos entender o que cada uma das colunas presentes no conjunto de dados significa."
      ],
      "metadata": {
        "id": "ybh1dQ4NwsNe"
      }
    },
    {
      "cell_type": "markdown",
      "source": [
        "**Entendendo as colunas do dataset:**\n",
        "\n",
        "* Genre - the genre of the track\n",
        "* Year - the release year of the recording. Note that due to vagaries of releases, re-releases, re-issues and general madness, sometimes the release years are not what you'd expect.\n",
        "* Added - the earliest date you added the track to your collection.\n",
        "* Beats Per Minute (BPM) - The tempo of the song.\n",
        "* Energy - The energy of a song - the higher the value, the more energtic. song\n",
        "* Danceability - The higher the value, the easier it is to dance to this song.\n",
        "* Loudness (dB) - The higher the value, the louder the song.\n",
        "* Liveness - The higher the value, the more likely the song is a live recording.\n",
        "* Valence - The higher the value, the more positive mood for the song.\n",
        "* Length - The duration of the song.\n",
        "* Acousticness - The higher the value the more acoustic the song is.\n",
        "* Speechiness - The higher the value the more spoken word the song contains.\n",
        "* Popularity - The higher the value the more popular the song is.\n",
        "* Duration - The length of the song."
      ],
      "metadata": {
        "id": "xGahpGkXwwJf"
      }
    },
    {
      "cell_type": "markdown",
      "source": [
        "### **Obtendo algumas informações inicias sobre os dados**"
      ],
      "metadata": {
        "id": "dK5zoWb2w8sG"
      }
    },
    {
      "cell_type": "markdown",
      "source": [
        "Inicialmente, vamos observar as cinco primeiras linhas do nosso dataframe."
      ],
      "metadata": {
        "id": "9lGWyKoOrBIA"
      }
    },
    {
      "cell_type": "code",
      "source": [
        "# Observando os primeiros registros do nosso df\n",
        "df.head()"
      ],
      "metadata": {
        "id": "yPZJQiXr3tjx",
        "colab": {
          "base_uri": "https://localhost:8080/",
          "height": 206
        },
        "outputId": "6ba110ad-e57e-4a66-aadb-08fee0d85418"
      },
      "execution_count": 4,
      "outputs": [
        {
          "output_type": "execute_result",
          "data": {
            "text/plain": [
              "   Unnamed: 0                 title      artist        top genre  year  bpm  \\\n",
              "0           1      Hey, Soul Sister       Train       neo mellow  2010   97   \n",
              "1           2  Love The Way You Lie      Eminem  detroit hip hop  2010   87   \n",
              "2           3               TiK ToK       Kesha        dance pop  2010  120   \n",
              "3           4           Bad Romance   Lady Gaga        dance pop  2010  119   \n",
              "4           5  Just the Way You Are  Bruno Mars              pop  2010  109   \n",
              "\n",
              "   nrgy  dnce  dB  live  val  dur  acous  spch  pop  \n",
              "0    89    67  -4     8   80  217     19     4   83  \n",
              "1    93    75  -5    52   64  263     24    23   82  \n",
              "2    84    76  -3    29   71  200     10    14   80  \n",
              "3    92    70  -4     8   71  295      0     4   79  \n",
              "4    84    64  -5     9   43  221      2     4   78  "
            ],
            "text/html": [
              "\n",
              "  <div id=\"df-fc9ce449-875b-4579-b696-1c03aa448269\" class=\"colab-df-container\">\n",
              "    <div>\n",
              "<style scoped>\n",
              "    .dataframe tbody tr th:only-of-type {\n",
              "        vertical-align: middle;\n",
              "    }\n",
              "\n",
              "    .dataframe tbody tr th {\n",
              "        vertical-align: top;\n",
              "    }\n",
              "\n",
              "    .dataframe thead th {\n",
              "        text-align: right;\n",
              "    }\n",
              "</style>\n",
              "<table border=\"1\" class=\"dataframe\">\n",
              "  <thead>\n",
              "    <tr style=\"text-align: right;\">\n",
              "      <th></th>\n",
              "      <th>Unnamed: 0</th>\n",
              "      <th>title</th>\n",
              "      <th>artist</th>\n",
              "      <th>top genre</th>\n",
              "      <th>year</th>\n",
              "      <th>bpm</th>\n",
              "      <th>nrgy</th>\n",
              "      <th>dnce</th>\n",
              "      <th>dB</th>\n",
              "      <th>live</th>\n",
              "      <th>val</th>\n",
              "      <th>dur</th>\n",
              "      <th>acous</th>\n",
              "      <th>spch</th>\n",
              "      <th>pop</th>\n",
              "    </tr>\n",
              "  </thead>\n",
              "  <tbody>\n",
              "    <tr>\n",
              "      <th>0</th>\n",
              "      <td>1</td>\n",
              "      <td>Hey, Soul Sister</td>\n",
              "      <td>Train</td>\n",
              "      <td>neo mellow</td>\n",
              "      <td>2010</td>\n",
              "      <td>97</td>\n",
              "      <td>89</td>\n",
              "      <td>67</td>\n",
              "      <td>-4</td>\n",
              "      <td>8</td>\n",
              "      <td>80</td>\n",
              "      <td>217</td>\n",
              "      <td>19</td>\n",
              "      <td>4</td>\n",
              "      <td>83</td>\n",
              "    </tr>\n",
              "    <tr>\n",
              "      <th>1</th>\n",
              "      <td>2</td>\n",
              "      <td>Love The Way You Lie</td>\n",
              "      <td>Eminem</td>\n",
              "      <td>detroit hip hop</td>\n",
              "      <td>2010</td>\n",
              "      <td>87</td>\n",
              "      <td>93</td>\n",
              "      <td>75</td>\n",
              "      <td>-5</td>\n",
              "      <td>52</td>\n",
              "      <td>64</td>\n",
              "      <td>263</td>\n",
              "      <td>24</td>\n",
              "      <td>23</td>\n",
              "      <td>82</td>\n",
              "    </tr>\n",
              "    <tr>\n",
              "      <th>2</th>\n",
              "      <td>3</td>\n",
              "      <td>TiK ToK</td>\n",
              "      <td>Kesha</td>\n",
              "      <td>dance pop</td>\n",
              "      <td>2010</td>\n",
              "      <td>120</td>\n",
              "      <td>84</td>\n",
              "      <td>76</td>\n",
              "      <td>-3</td>\n",
              "      <td>29</td>\n",
              "      <td>71</td>\n",
              "      <td>200</td>\n",
              "      <td>10</td>\n",
              "      <td>14</td>\n",
              "      <td>80</td>\n",
              "    </tr>\n",
              "    <tr>\n",
              "      <th>3</th>\n",
              "      <td>4</td>\n",
              "      <td>Bad Romance</td>\n",
              "      <td>Lady Gaga</td>\n",
              "      <td>dance pop</td>\n",
              "      <td>2010</td>\n",
              "      <td>119</td>\n",
              "      <td>92</td>\n",
              "      <td>70</td>\n",
              "      <td>-4</td>\n",
              "      <td>8</td>\n",
              "      <td>71</td>\n",
              "      <td>295</td>\n",
              "      <td>0</td>\n",
              "      <td>4</td>\n",
              "      <td>79</td>\n",
              "    </tr>\n",
              "    <tr>\n",
              "      <th>4</th>\n",
              "      <td>5</td>\n",
              "      <td>Just the Way You Are</td>\n",
              "      <td>Bruno Mars</td>\n",
              "      <td>pop</td>\n",
              "      <td>2010</td>\n",
              "      <td>109</td>\n",
              "      <td>84</td>\n",
              "      <td>64</td>\n",
              "      <td>-5</td>\n",
              "      <td>9</td>\n",
              "      <td>43</td>\n",
              "      <td>221</td>\n",
              "      <td>2</td>\n",
              "      <td>4</td>\n",
              "      <td>78</td>\n",
              "    </tr>\n",
              "  </tbody>\n",
              "</table>\n",
              "</div>\n",
              "    <div class=\"colab-df-buttons\">\n",
              "\n",
              "  <div class=\"colab-df-container\">\n",
              "    <button class=\"colab-df-convert\" onclick=\"convertToInteractive('df-fc9ce449-875b-4579-b696-1c03aa448269')\"\n",
              "            title=\"Convert this dataframe to an interactive table.\"\n",
              "            style=\"display:none;\">\n",
              "\n",
              "  <svg xmlns=\"http://www.w3.org/2000/svg\" height=\"24px\" viewBox=\"0 -960 960 960\">\n",
              "    <path d=\"M120-120v-720h720v720H120Zm60-500h600v-160H180v160Zm220 220h160v-160H400v160Zm0 220h160v-160H400v160ZM180-400h160v-160H180v160Zm440 0h160v-160H620v160ZM180-180h160v-160H180v160Zm440 0h160v-160H620v160Z\"/>\n",
              "  </svg>\n",
              "    </button>\n",
              "\n",
              "  <style>\n",
              "    .colab-df-container {\n",
              "      display:flex;\n",
              "      gap: 12px;\n",
              "    }\n",
              "\n",
              "    .colab-df-convert {\n",
              "      background-color: #E8F0FE;\n",
              "      border: none;\n",
              "      border-radius: 50%;\n",
              "      cursor: pointer;\n",
              "      display: none;\n",
              "      fill: #1967D2;\n",
              "      height: 32px;\n",
              "      padding: 0 0 0 0;\n",
              "      width: 32px;\n",
              "    }\n",
              "\n",
              "    .colab-df-convert:hover {\n",
              "      background-color: #E2EBFA;\n",
              "      box-shadow: 0px 1px 2px rgba(60, 64, 67, 0.3), 0px 1px 3px 1px rgba(60, 64, 67, 0.15);\n",
              "      fill: #174EA6;\n",
              "    }\n",
              "\n",
              "    .colab-df-buttons div {\n",
              "      margin-bottom: 4px;\n",
              "    }\n",
              "\n",
              "    [theme=dark] .colab-df-convert {\n",
              "      background-color: #3B4455;\n",
              "      fill: #D2E3FC;\n",
              "    }\n",
              "\n",
              "    [theme=dark] .colab-df-convert:hover {\n",
              "      background-color: #434B5C;\n",
              "      box-shadow: 0px 1px 3px 1px rgba(0, 0, 0, 0.15);\n",
              "      filter: drop-shadow(0px 1px 2px rgba(0, 0, 0, 0.3));\n",
              "      fill: #FFFFFF;\n",
              "    }\n",
              "  </style>\n",
              "\n",
              "    <script>\n",
              "      const buttonEl =\n",
              "        document.querySelector('#df-fc9ce449-875b-4579-b696-1c03aa448269 button.colab-df-convert');\n",
              "      buttonEl.style.display =\n",
              "        google.colab.kernel.accessAllowed ? 'block' : 'none';\n",
              "\n",
              "      async function convertToInteractive(key) {\n",
              "        const element = document.querySelector('#df-fc9ce449-875b-4579-b696-1c03aa448269');\n",
              "        const dataTable =\n",
              "          await google.colab.kernel.invokeFunction('convertToInteractive',\n",
              "                                                    [key], {});\n",
              "        if (!dataTable) return;\n",
              "\n",
              "        const docLinkHtml = 'Like what you see? Visit the ' +\n",
              "          '<a target=\"_blank\" href=https://colab.research.google.com/notebooks/data_table.ipynb>data table notebook</a>'\n",
              "          + ' to learn more about interactive tables.';\n",
              "        element.innerHTML = '';\n",
              "        dataTable['output_type'] = 'display_data';\n",
              "        await google.colab.output.renderOutput(dataTable, element);\n",
              "        const docLink = document.createElement('div');\n",
              "        docLink.innerHTML = docLinkHtml;\n",
              "        element.appendChild(docLink);\n",
              "      }\n",
              "    </script>\n",
              "  </div>\n",
              "\n",
              "\n",
              "<div id=\"df-fe906e3b-b230-4ede-9982-dc7312aa8bca\">\n",
              "  <button class=\"colab-df-quickchart\" onclick=\"quickchart('df-fe906e3b-b230-4ede-9982-dc7312aa8bca')\"\n",
              "            title=\"Suggest charts\"\n",
              "            style=\"display:none;\">\n",
              "\n",
              "<svg xmlns=\"http://www.w3.org/2000/svg\" height=\"24px\"viewBox=\"0 0 24 24\"\n",
              "     width=\"24px\">\n",
              "    <g>\n",
              "        <path d=\"M19 3H5c-1.1 0-2 .9-2 2v14c0 1.1.9 2 2 2h14c1.1 0 2-.9 2-2V5c0-1.1-.9-2-2-2zM9 17H7v-7h2v7zm4 0h-2V7h2v10zm4 0h-2v-4h2v4z\"/>\n",
              "    </g>\n",
              "</svg>\n",
              "  </button>\n",
              "\n",
              "<style>\n",
              "  .colab-df-quickchart {\n",
              "      --bg-color: #E8F0FE;\n",
              "      --fill-color: #1967D2;\n",
              "      --hover-bg-color: #E2EBFA;\n",
              "      --hover-fill-color: #174EA6;\n",
              "      --disabled-fill-color: #AAA;\n",
              "      --disabled-bg-color: #DDD;\n",
              "  }\n",
              "\n",
              "  [theme=dark] .colab-df-quickchart {\n",
              "      --bg-color: #3B4455;\n",
              "      --fill-color: #D2E3FC;\n",
              "      --hover-bg-color: #434B5C;\n",
              "      --hover-fill-color: #FFFFFF;\n",
              "      --disabled-bg-color: #3B4455;\n",
              "      --disabled-fill-color: #666;\n",
              "  }\n",
              "\n",
              "  .colab-df-quickchart {\n",
              "    background-color: var(--bg-color);\n",
              "    border: none;\n",
              "    border-radius: 50%;\n",
              "    cursor: pointer;\n",
              "    display: none;\n",
              "    fill: var(--fill-color);\n",
              "    height: 32px;\n",
              "    padding: 0;\n",
              "    width: 32px;\n",
              "  }\n",
              "\n",
              "  .colab-df-quickchart:hover {\n",
              "    background-color: var(--hover-bg-color);\n",
              "    box-shadow: 0 1px 2px rgba(60, 64, 67, 0.3), 0 1px 3px 1px rgba(60, 64, 67, 0.15);\n",
              "    fill: var(--button-hover-fill-color);\n",
              "  }\n",
              "\n",
              "  .colab-df-quickchart-complete:disabled,\n",
              "  .colab-df-quickchart-complete:disabled:hover {\n",
              "    background-color: var(--disabled-bg-color);\n",
              "    fill: var(--disabled-fill-color);\n",
              "    box-shadow: none;\n",
              "  }\n",
              "\n",
              "  .colab-df-spinner {\n",
              "    border: 2px solid var(--fill-color);\n",
              "    border-color: transparent;\n",
              "    border-bottom-color: var(--fill-color);\n",
              "    animation:\n",
              "      spin 1s steps(1) infinite;\n",
              "  }\n",
              "\n",
              "  @keyframes spin {\n",
              "    0% {\n",
              "      border-color: transparent;\n",
              "      border-bottom-color: var(--fill-color);\n",
              "      border-left-color: var(--fill-color);\n",
              "    }\n",
              "    20% {\n",
              "      border-color: transparent;\n",
              "      border-left-color: var(--fill-color);\n",
              "      border-top-color: var(--fill-color);\n",
              "    }\n",
              "    30% {\n",
              "      border-color: transparent;\n",
              "      border-left-color: var(--fill-color);\n",
              "      border-top-color: var(--fill-color);\n",
              "      border-right-color: var(--fill-color);\n",
              "    }\n",
              "    40% {\n",
              "      border-color: transparent;\n",
              "      border-right-color: var(--fill-color);\n",
              "      border-top-color: var(--fill-color);\n",
              "    }\n",
              "    60% {\n",
              "      border-color: transparent;\n",
              "      border-right-color: var(--fill-color);\n",
              "    }\n",
              "    80% {\n",
              "      border-color: transparent;\n",
              "      border-right-color: var(--fill-color);\n",
              "      border-bottom-color: var(--fill-color);\n",
              "    }\n",
              "    90% {\n",
              "      border-color: transparent;\n",
              "      border-bottom-color: var(--fill-color);\n",
              "    }\n",
              "  }\n",
              "</style>\n",
              "\n",
              "  <script>\n",
              "    async function quickchart(key) {\n",
              "      const quickchartButtonEl =\n",
              "        document.querySelector('#' + key + ' button');\n",
              "      quickchartButtonEl.disabled = true;  // To prevent multiple clicks.\n",
              "      quickchartButtonEl.classList.add('colab-df-spinner');\n",
              "      try {\n",
              "        const charts = await google.colab.kernel.invokeFunction(\n",
              "            'suggestCharts', [key], {});\n",
              "      } catch (error) {\n",
              "        console.error('Error during call to suggestCharts:', error);\n",
              "      }\n",
              "      quickchartButtonEl.classList.remove('colab-df-spinner');\n",
              "      quickchartButtonEl.classList.add('colab-df-quickchart-complete');\n",
              "    }\n",
              "    (() => {\n",
              "      let quickchartButtonEl =\n",
              "        document.querySelector('#df-fe906e3b-b230-4ede-9982-dc7312aa8bca button');\n",
              "      quickchartButtonEl.style.display =\n",
              "        google.colab.kernel.accessAllowed ? 'block' : 'none';\n",
              "    })();\n",
              "  </script>\n",
              "</div>\n",
              "\n",
              "    </div>\n",
              "  </div>\n"
            ],
            "application/vnd.google.colaboratory.intrinsic+json": {
              "type": "dataframe",
              "variable_name": "df",
              "summary": "{\n  \"name\": \"df\",\n  \"rows\": 603,\n  \"fields\": [\n    {\n      \"column\": \"Unnamed: 0\",\n      \"properties\": {\n        \"dtype\": \"number\",\n        \"std\": 174,\n        \"min\": 1,\n        \"max\": 603,\n        \"num_unique_values\": 603,\n        \"samples\": [\n          111,\n          528,\n          568\n        ],\n        \"semantic_type\": \"\",\n        \"description\": \"\"\n      }\n    },\n    {\n      \"column\": \"title\",\n      \"properties\": {\n        \"dtype\": \"string\",\n        \"num_unique_values\": 584,\n        \"samples\": [\n          \"All We Know\",\n          \"Beautiful Birds (feat. Birdy)\",\n          \"S&M Remix\"\n        ],\n        \"semantic_type\": \"\",\n        \"description\": \"\"\n      }\n    },\n    {\n      \"column\": \"artist\",\n      \"properties\": {\n        \"dtype\": \"category\",\n        \"num_unique_values\": 184,\n        \"samples\": [\n          \"Selena Gomez & The Scene\",\n          \"Sleeping At Last\",\n          \"Jonas Blue\"\n        ],\n        \"semantic_type\": \"\",\n        \"description\": \"\"\n      }\n    },\n    {\n      \"column\": \"top genre\",\n      \"properties\": {\n        \"dtype\": \"category\",\n        \"num_unique_values\": 50,\n        \"samples\": [\n          \"british soul\",\n          \"latin\",\n          \"australian dance\"\n        ],\n        \"semantic_type\": \"\",\n        \"description\": \"\"\n      }\n    },\n    {\n      \"column\": \"year\",\n      \"properties\": {\n        \"dtype\": \"number\",\n        \"std\": 2,\n        \"min\": 2010,\n        \"max\": 2019,\n        \"num_unique_values\": 10,\n        \"samples\": [\n          2018,\n          2011,\n          2015\n        ],\n        \"semantic_type\": \"\",\n        \"description\": \"\"\n      }\n    },\n    {\n      \"column\": \"bpm\",\n      \"properties\": {\n        \"dtype\": \"number\",\n        \"std\": 24,\n        \"min\": 0,\n        \"max\": 206,\n        \"num_unique_values\": 104,\n        \"samples\": [\n          112,\n          155,\n          174\n        ],\n        \"semantic_type\": \"\",\n        \"description\": \"\"\n      }\n    },\n    {\n      \"column\": \"nrgy\",\n      \"properties\": {\n        \"dtype\": \"number\",\n        \"std\": 16,\n        \"min\": 0,\n        \"max\": 98,\n        \"num_unique_values\": 77,\n        \"samples\": [\n          86,\n          77,\n          83\n        ],\n        \"semantic_type\": \"\",\n        \"description\": \"\"\n      }\n    },\n    {\n      \"column\": \"dnce\",\n      \"properties\": {\n        \"dtype\": \"number\",\n        \"std\": 13,\n        \"min\": 0,\n        \"max\": 97,\n        \"num_unique_values\": 70,\n        \"samples\": [\n          60,\n          67,\n          87\n        ],\n        \"semantic_type\": \"\",\n        \"description\": \"\"\n      }\n    },\n    {\n      \"column\": \"dB\",\n      \"properties\": {\n        \"dtype\": \"number\",\n        \"std\": 2,\n        \"min\": -60,\n        \"max\": -2,\n        \"num_unique_values\": 14,\n        \"samples\": [\n          -12,\n          -15,\n          -4\n        ],\n        \"semantic_type\": \"\",\n        \"description\": \"\"\n      }\n    },\n    {\n      \"column\": \"live\",\n      \"properties\": {\n        \"dtype\": \"number\",\n        \"std\": 13,\n        \"min\": 0,\n        \"max\": 74,\n        \"num_unique_values\": 61,\n        \"samples\": [\n          8,\n          4,\n          55\n        ],\n        \"semantic_type\": \"\",\n        \"description\": \"\"\n      }\n    },\n    {\n      \"column\": \"val\",\n      \"properties\": {\n        \"dtype\": \"number\",\n        \"std\": 22,\n        \"min\": 0,\n        \"max\": 98,\n        \"num_unique_values\": 94,\n        \"samples\": [\n          62,\n          65,\n          19\n        ],\n        \"semantic_type\": \"\",\n        \"description\": \"\"\n      }\n    },\n    {\n      \"column\": \"dur\",\n      \"properties\": {\n        \"dtype\": \"number\",\n        \"std\": 34,\n        \"min\": 134,\n        \"max\": 424,\n        \"num_unique_values\": 144,\n        \"samples\": [\n          293,\n          215,\n          177\n        ],\n        \"semantic_type\": \"\",\n        \"description\": \"\"\n      }\n    },\n    {\n      \"column\": \"acous\",\n      \"properties\": {\n        \"dtype\": \"number\",\n        \"std\": 20,\n        \"min\": 0,\n        \"max\": 99,\n        \"num_unique_values\": 75,\n        \"samples\": [\n          2,\n          40,\n          33\n        ],\n        \"semantic_type\": \"\",\n        \"description\": \"\"\n      }\n    },\n    {\n      \"column\": \"spch\",\n      \"properties\": {\n        \"dtype\": \"number\",\n        \"std\": 7,\n        \"min\": 0,\n        \"max\": 48,\n        \"num_unique_values\": 39,\n        \"samples\": [\n          44,\n          28,\n          3\n        ],\n        \"semantic_type\": \"\",\n        \"description\": \"\"\n      }\n    },\n    {\n      \"column\": \"pop\",\n      \"properties\": {\n        \"dtype\": \"number\",\n        \"std\": 14,\n        \"min\": 0,\n        \"max\": 99,\n        \"num_unique_values\": 71,\n        \"samples\": [\n          56,\n          83,\n          36\n        ],\n        \"semantic_type\": \"\",\n        \"description\": \"\"\n      }\n    }\n  ]\n}"
            }
          },
          "metadata": {},
          "execution_count": 4
        }
      ]
    },
    {
      "cell_type": "markdown",
      "source": [
        "Agora, vamos observar as cinco últimas linhas."
      ],
      "metadata": {
        "id": "y595V2EfrJ2v"
      }
    },
    {
      "cell_type": "code",
      "source": [
        "# Observando os últimos registros\n",
        "df.tail()"
      ],
      "metadata": {
        "colab": {
          "base_uri": "https://localhost:8080/",
          "height": 206
        },
        "id": "L0CwzGD0rJEJ",
        "outputId": "60b8ad81-e7bb-4f3e-af5a-b2f248eb2177"
      },
      "execution_count": 5,
      "outputs": [
        {
          "output_type": "execute_result",
          "data": {
            "text/plain": [
              "     Unnamed: 0                                              title  \\\n",
              "598         599                Find U Again (feat. Camila Cabello)   \n",
              "599         600      Cross Me (feat. Chance the Rapper & PnB Rock)   \n",
              "600         601  No Brainer (feat. Justin Bieber, Chance the Ra...   \n",
              "601         602    Nothing Breaks Like a Heart (feat. Miley Cyrus)   \n",
              "602         603                                   Kills You Slowly   \n",
              "\n",
              "               artist   top genre  year  bpm  nrgy  dnce  dB  live  val  dur  \\\n",
              "598       Mark Ronson   dance pop  2019  104    66    61  -7    20   16  176   \n",
              "599        Ed Sheeran         pop  2019   95    79    75  -6     7   61  206   \n",
              "600         DJ Khaled   dance pop  2019  136    76    53  -5     9   65  260   \n",
              "601       Mark Ronson   dance pop  2019  114    79    60  -6    42   24  217   \n",
              "602  The Chainsmokers  electropop  2019  150    44    70  -9    13   23  213   \n",
              "\n",
              "     acous  spch  pop  \n",
              "598      1     3   75  \n",
              "599     21    12   75  \n",
              "600      7    34   70  \n",
              "601      1     7   69  \n",
              "602      6     6   67  "
            ],
            "text/html": [
              "\n",
              "  <div id=\"df-38f3c6d8-237c-469d-a309-6276c94eda3e\" class=\"colab-df-container\">\n",
              "    <div>\n",
              "<style scoped>\n",
              "    .dataframe tbody tr th:only-of-type {\n",
              "        vertical-align: middle;\n",
              "    }\n",
              "\n",
              "    .dataframe tbody tr th {\n",
              "        vertical-align: top;\n",
              "    }\n",
              "\n",
              "    .dataframe thead th {\n",
              "        text-align: right;\n",
              "    }\n",
              "</style>\n",
              "<table border=\"1\" class=\"dataframe\">\n",
              "  <thead>\n",
              "    <tr style=\"text-align: right;\">\n",
              "      <th></th>\n",
              "      <th>Unnamed: 0</th>\n",
              "      <th>title</th>\n",
              "      <th>artist</th>\n",
              "      <th>top genre</th>\n",
              "      <th>year</th>\n",
              "      <th>bpm</th>\n",
              "      <th>nrgy</th>\n",
              "      <th>dnce</th>\n",
              "      <th>dB</th>\n",
              "      <th>live</th>\n",
              "      <th>val</th>\n",
              "      <th>dur</th>\n",
              "      <th>acous</th>\n",
              "      <th>spch</th>\n",
              "      <th>pop</th>\n",
              "    </tr>\n",
              "  </thead>\n",
              "  <tbody>\n",
              "    <tr>\n",
              "      <th>598</th>\n",
              "      <td>599</td>\n",
              "      <td>Find U Again (feat. Camila Cabello)</td>\n",
              "      <td>Mark Ronson</td>\n",
              "      <td>dance pop</td>\n",
              "      <td>2019</td>\n",
              "      <td>104</td>\n",
              "      <td>66</td>\n",
              "      <td>61</td>\n",
              "      <td>-7</td>\n",
              "      <td>20</td>\n",
              "      <td>16</td>\n",
              "      <td>176</td>\n",
              "      <td>1</td>\n",
              "      <td>3</td>\n",
              "      <td>75</td>\n",
              "    </tr>\n",
              "    <tr>\n",
              "      <th>599</th>\n",
              "      <td>600</td>\n",
              "      <td>Cross Me (feat. Chance the Rapper &amp; PnB Rock)</td>\n",
              "      <td>Ed Sheeran</td>\n",
              "      <td>pop</td>\n",
              "      <td>2019</td>\n",
              "      <td>95</td>\n",
              "      <td>79</td>\n",
              "      <td>75</td>\n",
              "      <td>-6</td>\n",
              "      <td>7</td>\n",
              "      <td>61</td>\n",
              "      <td>206</td>\n",
              "      <td>21</td>\n",
              "      <td>12</td>\n",
              "      <td>75</td>\n",
              "    </tr>\n",
              "    <tr>\n",
              "      <th>600</th>\n",
              "      <td>601</td>\n",
              "      <td>No Brainer (feat. Justin Bieber, Chance the Ra...</td>\n",
              "      <td>DJ Khaled</td>\n",
              "      <td>dance pop</td>\n",
              "      <td>2019</td>\n",
              "      <td>136</td>\n",
              "      <td>76</td>\n",
              "      <td>53</td>\n",
              "      <td>-5</td>\n",
              "      <td>9</td>\n",
              "      <td>65</td>\n",
              "      <td>260</td>\n",
              "      <td>7</td>\n",
              "      <td>34</td>\n",
              "      <td>70</td>\n",
              "    </tr>\n",
              "    <tr>\n",
              "      <th>601</th>\n",
              "      <td>602</td>\n",
              "      <td>Nothing Breaks Like a Heart (feat. Miley Cyrus)</td>\n",
              "      <td>Mark Ronson</td>\n",
              "      <td>dance pop</td>\n",
              "      <td>2019</td>\n",
              "      <td>114</td>\n",
              "      <td>79</td>\n",
              "      <td>60</td>\n",
              "      <td>-6</td>\n",
              "      <td>42</td>\n",
              "      <td>24</td>\n",
              "      <td>217</td>\n",
              "      <td>1</td>\n",
              "      <td>7</td>\n",
              "      <td>69</td>\n",
              "    </tr>\n",
              "    <tr>\n",
              "      <th>602</th>\n",
              "      <td>603</td>\n",
              "      <td>Kills You Slowly</td>\n",
              "      <td>The Chainsmokers</td>\n",
              "      <td>electropop</td>\n",
              "      <td>2019</td>\n",
              "      <td>150</td>\n",
              "      <td>44</td>\n",
              "      <td>70</td>\n",
              "      <td>-9</td>\n",
              "      <td>13</td>\n",
              "      <td>23</td>\n",
              "      <td>213</td>\n",
              "      <td>6</td>\n",
              "      <td>6</td>\n",
              "      <td>67</td>\n",
              "    </tr>\n",
              "  </tbody>\n",
              "</table>\n",
              "</div>\n",
              "    <div class=\"colab-df-buttons\">\n",
              "\n",
              "  <div class=\"colab-df-container\">\n",
              "    <button class=\"colab-df-convert\" onclick=\"convertToInteractive('df-38f3c6d8-237c-469d-a309-6276c94eda3e')\"\n",
              "            title=\"Convert this dataframe to an interactive table.\"\n",
              "            style=\"display:none;\">\n",
              "\n",
              "  <svg xmlns=\"http://www.w3.org/2000/svg\" height=\"24px\" viewBox=\"0 -960 960 960\">\n",
              "    <path d=\"M120-120v-720h720v720H120Zm60-500h600v-160H180v160Zm220 220h160v-160H400v160Zm0 220h160v-160H400v160ZM180-400h160v-160H180v160Zm440 0h160v-160H620v160ZM180-180h160v-160H180v160Zm440 0h160v-160H620v160Z\"/>\n",
              "  </svg>\n",
              "    </button>\n",
              "\n",
              "  <style>\n",
              "    .colab-df-container {\n",
              "      display:flex;\n",
              "      gap: 12px;\n",
              "    }\n",
              "\n",
              "    .colab-df-convert {\n",
              "      background-color: #E8F0FE;\n",
              "      border: none;\n",
              "      border-radius: 50%;\n",
              "      cursor: pointer;\n",
              "      display: none;\n",
              "      fill: #1967D2;\n",
              "      height: 32px;\n",
              "      padding: 0 0 0 0;\n",
              "      width: 32px;\n",
              "    }\n",
              "\n",
              "    .colab-df-convert:hover {\n",
              "      background-color: #E2EBFA;\n",
              "      box-shadow: 0px 1px 2px rgba(60, 64, 67, 0.3), 0px 1px 3px 1px rgba(60, 64, 67, 0.15);\n",
              "      fill: #174EA6;\n",
              "    }\n",
              "\n",
              "    .colab-df-buttons div {\n",
              "      margin-bottom: 4px;\n",
              "    }\n",
              "\n",
              "    [theme=dark] .colab-df-convert {\n",
              "      background-color: #3B4455;\n",
              "      fill: #D2E3FC;\n",
              "    }\n",
              "\n",
              "    [theme=dark] .colab-df-convert:hover {\n",
              "      background-color: #434B5C;\n",
              "      box-shadow: 0px 1px 3px 1px rgba(0, 0, 0, 0.15);\n",
              "      filter: drop-shadow(0px 1px 2px rgba(0, 0, 0, 0.3));\n",
              "      fill: #FFFFFF;\n",
              "    }\n",
              "  </style>\n",
              "\n",
              "    <script>\n",
              "      const buttonEl =\n",
              "        document.querySelector('#df-38f3c6d8-237c-469d-a309-6276c94eda3e button.colab-df-convert');\n",
              "      buttonEl.style.display =\n",
              "        google.colab.kernel.accessAllowed ? 'block' : 'none';\n",
              "\n",
              "      async function convertToInteractive(key) {\n",
              "        const element = document.querySelector('#df-38f3c6d8-237c-469d-a309-6276c94eda3e');\n",
              "        const dataTable =\n",
              "          await google.colab.kernel.invokeFunction('convertToInteractive',\n",
              "                                                    [key], {});\n",
              "        if (!dataTable) return;\n",
              "\n",
              "        const docLinkHtml = 'Like what you see? Visit the ' +\n",
              "          '<a target=\"_blank\" href=https://colab.research.google.com/notebooks/data_table.ipynb>data table notebook</a>'\n",
              "          + ' to learn more about interactive tables.';\n",
              "        element.innerHTML = '';\n",
              "        dataTable['output_type'] = 'display_data';\n",
              "        await google.colab.output.renderOutput(dataTable, element);\n",
              "        const docLink = document.createElement('div');\n",
              "        docLink.innerHTML = docLinkHtml;\n",
              "        element.appendChild(docLink);\n",
              "      }\n",
              "    </script>\n",
              "  </div>\n",
              "\n",
              "\n",
              "<div id=\"df-eef78b3c-54c7-4da0-a343-128f1e9baa7f\">\n",
              "  <button class=\"colab-df-quickchart\" onclick=\"quickchart('df-eef78b3c-54c7-4da0-a343-128f1e9baa7f')\"\n",
              "            title=\"Suggest charts\"\n",
              "            style=\"display:none;\">\n",
              "\n",
              "<svg xmlns=\"http://www.w3.org/2000/svg\" height=\"24px\"viewBox=\"0 0 24 24\"\n",
              "     width=\"24px\">\n",
              "    <g>\n",
              "        <path d=\"M19 3H5c-1.1 0-2 .9-2 2v14c0 1.1.9 2 2 2h14c1.1 0 2-.9 2-2V5c0-1.1-.9-2-2-2zM9 17H7v-7h2v7zm4 0h-2V7h2v10zm4 0h-2v-4h2v4z\"/>\n",
              "    </g>\n",
              "</svg>\n",
              "  </button>\n",
              "\n",
              "<style>\n",
              "  .colab-df-quickchart {\n",
              "      --bg-color: #E8F0FE;\n",
              "      --fill-color: #1967D2;\n",
              "      --hover-bg-color: #E2EBFA;\n",
              "      --hover-fill-color: #174EA6;\n",
              "      --disabled-fill-color: #AAA;\n",
              "      --disabled-bg-color: #DDD;\n",
              "  }\n",
              "\n",
              "  [theme=dark] .colab-df-quickchart {\n",
              "      --bg-color: #3B4455;\n",
              "      --fill-color: #D2E3FC;\n",
              "      --hover-bg-color: #434B5C;\n",
              "      --hover-fill-color: #FFFFFF;\n",
              "      --disabled-bg-color: #3B4455;\n",
              "      --disabled-fill-color: #666;\n",
              "  }\n",
              "\n",
              "  .colab-df-quickchart {\n",
              "    background-color: var(--bg-color);\n",
              "    border: none;\n",
              "    border-radius: 50%;\n",
              "    cursor: pointer;\n",
              "    display: none;\n",
              "    fill: var(--fill-color);\n",
              "    height: 32px;\n",
              "    padding: 0;\n",
              "    width: 32px;\n",
              "  }\n",
              "\n",
              "  .colab-df-quickchart:hover {\n",
              "    background-color: var(--hover-bg-color);\n",
              "    box-shadow: 0 1px 2px rgba(60, 64, 67, 0.3), 0 1px 3px 1px rgba(60, 64, 67, 0.15);\n",
              "    fill: var(--button-hover-fill-color);\n",
              "  }\n",
              "\n",
              "  .colab-df-quickchart-complete:disabled,\n",
              "  .colab-df-quickchart-complete:disabled:hover {\n",
              "    background-color: var(--disabled-bg-color);\n",
              "    fill: var(--disabled-fill-color);\n",
              "    box-shadow: none;\n",
              "  }\n",
              "\n",
              "  .colab-df-spinner {\n",
              "    border: 2px solid var(--fill-color);\n",
              "    border-color: transparent;\n",
              "    border-bottom-color: var(--fill-color);\n",
              "    animation:\n",
              "      spin 1s steps(1) infinite;\n",
              "  }\n",
              "\n",
              "  @keyframes spin {\n",
              "    0% {\n",
              "      border-color: transparent;\n",
              "      border-bottom-color: var(--fill-color);\n",
              "      border-left-color: var(--fill-color);\n",
              "    }\n",
              "    20% {\n",
              "      border-color: transparent;\n",
              "      border-left-color: var(--fill-color);\n",
              "      border-top-color: var(--fill-color);\n",
              "    }\n",
              "    30% {\n",
              "      border-color: transparent;\n",
              "      border-left-color: var(--fill-color);\n",
              "      border-top-color: var(--fill-color);\n",
              "      border-right-color: var(--fill-color);\n",
              "    }\n",
              "    40% {\n",
              "      border-color: transparent;\n",
              "      border-right-color: var(--fill-color);\n",
              "      border-top-color: var(--fill-color);\n",
              "    }\n",
              "    60% {\n",
              "      border-color: transparent;\n",
              "      border-right-color: var(--fill-color);\n",
              "    }\n",
              "    80% {\n",
              "      border-color: transparent;\n",
              "      border-right-color: var(--fill-color);\n",
              "      border-bottom-color: var(--fill-color);\n",
              "    }\n",
              "    90% {\n",
              "      border-color: transparent;\n",
              "      border-bottom-color: var(--fill-color);\n",
              "    }\n",
              "  }\n",
              "</style>\n",
              "\n",
              "  <script>\n",
              "    async function quickchart(key) {\n",
              "      const quickchartButtonEl =\n",
              "        document.querySelector('#' + key + ' button');\n",
              "      quickchartButtonEl.disabled = true;  // To prevent multiple clicks.\n",
              "      quickchartButtonEl.classList.add('colab-df-spinner');\n",
              "      try {\n",
              "        const charts = await google.colab.kernel.invokeFunction(\n",
              "            'suggestCharts', [key], {});\n",
              "      } catch (error) {\n",
              "        console.error('Error during call to suggestCharts:', error);\n",
              "      }\n",
              "      quickchartButtonEl.classList.remove('colab-df-spinner');\n",
              "      quickchartButtonEl.classList.add('colab-df-quickchart-complete');\n",
              "    }\n",
              "    (() => {\n",
              "      let quickchartButtonEl =\n",
              "        document.querySelector('#df-eef78b3c-54c7-4da0-a343-128f1e9baa7f button');\n",
              "      quickchartButtonEl.style.display =\n",
              "        google.colab.kernel.accessAllowed ? 'block' : 'none';\n",
              "    })();\n",
              "  </script>\n",
              "</div>\n",
              "\n",
              "    </div>\n",
              "  </div>\n"
            ],
            "application/vnd.google.colaboratory.intrinsic+json": {
              "type": "dataframe",
              "summary": "{\n  \"name\": \"df\",\n  \"rows\": 5,\n  \"fields\": [\n    {\n      \"column\": \"Unnamed: 0\",\n      \"properties\": {\n        \"dtype\": \"number\",\n        \"std\": 1,\n        \"min\": 599,\n        \"max\": 603,\n        \"num_unique_values\": 5,\n        \"samples\": [\n          600,\n          603,\n          601\n        ],\n        \"semantic_type\": \"\",\n        \"description\": \"\"\n      }\n    },\n    {\n      \"column\": \"title\",\n      \"properties\": {\n        \"dtype\": \"string\",\n        \"num_unique_values\": 5,\n        \"samples\": [\n          \"Cross Me (feat. Chance the Rapper & PnB Rock)\",\n          \"Kills You Slowly\",\n          \"No Brainer (feat. Justin Bieber, Chance the Rapper & Quavo)\"\n        ],\n        \"semantic_type\": \"\",\n        \"description\": \"\"\n      }\n    },\n    {\n      \"column\": \"artist\",\n      \"properties\": {\n        \"dtype\": \"string\",\n        \"num_unique_values\": 4,\n        \"samples\": [\n          \"Ed Sheeran\",\n          \"The Chainsmokers\",\n          \"Mark Ronson\"\n        ],\n        \"semantic_type\": \"\",\n        \"description\": \"\"\n      }\n    },\n    {\n      \"column\": \"top genre\",\n      \"properties\": {\n        \"dtype\": \"string\",\n        \"num_unique_values\": 3,\n        \"samples\": [\n          \"dance pop\",\n          \"pop\",\n          \"electropop\"\n        ],\n        \"semantic_type\": \"\",\n        \"description\": \"\"\n      }\n    },\n    {\n      \"column\": \"year\",\n      \"properties\": {\n        \"dtype\": \"number\",\n        \"std\": 0,\n        \"min\": 2019,\n        \"max\": 2019,\n        \"num_unique_values\": 1,\n        \"samples\": [\n          2019\n        ],\n        \"semantic_type\": \"\",\n        \"description\": \"\"\n      }\n    },\n    {\n      \"column\": \"bpm\",\n      \"properties\": {\n        \"dtype\": \"number\",\n        \"std\": 22,\n        \"min\": 95,\n        \"max\": 150,\n        \"num_unique_values\": 5,\n        \"samples\": [\n          95\n        ],\n        \"semantic_type\": \"\",\n        \"description\": \"\"\n      }\n    },\n    {\n      \"column\": \"nrgy\",\n      \"properties\": {\n        \"dtype\": \"number\",\n        \"std\": 14,\n        \"min\": 44,\n        \"max\": 79,\n        \"num_unique_values\": 4,\n        \"samples\": [\n          79\n        ],\n        \"semantic_type\": \"\",\n        \"description\": \"\"\n      }\n    },\n    {\n      \"column\": \"dnce\",\n      \"properties\": {\n        \"dtype\": \"number\",\n        \"std\": 8,\n        \"min\": 53,\n        \"max\": 75,\n        \"num_unique_values\": 5,\n        \"samples\": [\n          75\n        ],\n        \"semantic_type\": \"\",\n        \"description\": \"\"\n      }\n    },\n    {\n      \"column\": \"dB\",\n      \"properties\": {\n        \"dtype\": \"number\",\n        \"std\": 1,\n        \"min\": -9,\n        \"max\": -5,\n        \"num_unique_values\": 4,\n        \"samples\": [\n          -6\n        ],\n        \"semantic_type\": \"\",\n        \"description\": \"\"\n      }\n    },\n    {\n      \"column\": \"live\",\n      \"properties\": {\n        \"dtype\": \"number\",\n        \"std\": 14,\n        \"min\": 7,\n        \"max\": 42,\n        \"num_unique_values\": 5,\n        \"samples\": [\n          7\n        ],\n        \"semantic_type\": \"\",\n        \"description\": \"\"\n      }\n    },\n    {\n      \"column\": \"val\",\n      \"properties\": {\n        \"dtype\": \"number\",\n        \"std\": 23,\n        \"min\": 16,\n        \"max\": 65,\n        \"num_unique_values\": 5,\n        \"samples\": [\n          61\n        ],\n        \"semantic_type\": \"\",\n        \"description\": \"\"\n      }\n    },\n    {\n      \"column\": \"dur\",\n      \"properties\": {\n        \"dtype\": \"number\",\n        \"std\": 30,\n        \"min\": 176,\n        \"max\": 260,\n        \"num_unique_values\": 5,\n        \"samples\": [\n          206\n        ],\n        \"semantic_type\": \"\",\n        \"description\": \"\"\n      }\n    },\n    {\n      \"column\": \"acous\",\n      \"properties\": {\n        \"dtype\": \"number\",\n        \"std\": 8,\n        \"min\": 1,\n        \"max\": 21,\n        \"num_unique_values\": 4,\n        \"samples\": [\n          21\n        ],\n        \"semantic_type\": \"\",\n        \"description\": \"\"\n      }\n    },\n    {\n      \"column\": \"spch\",\n      \"properties\": {\n        \"dtype\": \"number\",\n        \"std\": 12,\n        \"min\": 3,\n        \"max\": 34,\n        \"num_unique_values\": 5,\n        \"samples\": [\n          12\n        ],\n        \"semantic_type\": \"\",\n        \"description\": \"\"\n      }\n    },\n    {\n      \"column\": \"pop\",\n      \"properties\": {\n        \"dtype\": \"number\",\n        \"std\": 3,\n        \"min\": 67,\n        \"max\": 75,\n        \"num_unique_values\": 4,\n        \"samples\": [\n          70\n        ],\n        \"semantic_type\": \"\",\n        \"description\": \"\"\n      }\n    }\n  ]\n}"
            }
          },
          "metadata": {},
          "execution_count": 5
        }
      ]
    },
    {
      "cell_type": "markdown",
      "source": [
        "Agora, vamos observar os tipos das nossas variáveis."
      ],
      "metadata": {
        "id": "Lk3l9mRQrUQY"
      }
    },
    {
      "cell_type": "code",
      "source": [
        "# Observando os tipos das variáveis\n",
        "df.info()"
      ],
      "metadata": {
        "colab": {
          "base_uri": "https://localhost:8080/"
        },
        "id": "93G-VWQ4rW1n",
        "outputId": "c0df0ab3-5cd7-4a78-f180-9f25b8c13c95"
      },
      "execution_count": 6,
      "outputs": [
        {
          "output_type": "stream",
          "name": "stdout",
          "text": [
            "<class 'pandas.core.frame.DataFrame'>\n",
            "RangeIndex: 603 entries, 0 to 602\n",
            "Data columns (total 15 columns):\n",
            " #   Column      Non-Null Count  Dtype \n",
            "---  ------      --------------  ----- \n",
            " 0   Unnamed: 0  603 non-null    int64 \n",
            " 1   title       603 non-null    object\n",
            " 2   artist      603 non-null    object\n",
            " 3   top genre   603 non-null    object\n",
            " 4   year        603 non-null    int64 \n",
            " 5   bpm         603 non-null    int64 \n",
            " 6   nrgy        603 non-null    int64 \n",
            " 7   dnce        603 non-null    int64 \n",
            " 8   dB          603 non-null    int64 \n",
            " 9   live        603 non-null    int64 \n",
            " 10  val         603 non-null    int64 \n",
            " 11  dur         603 non-null    int64 \n",
            " 12  acous       603 non-null    int64 \n",
            " 13  spch        603 non-null    int64 \n",
            " 14  pop         603 non-null    int64 \n",
            "dtypes: int64(12), object(3)\n",
            "memory usage: 70.8+ KB\n"
          ]
        }
      ]
    },
    {
      "cell_type": "markdown",
      "source": [
        "Aqui, podemos observar não só o tipo das nossas variáveis, mas também diversas outras informações sobre o nosso dataframe, como, por exemplo, o número de linhas, que é 603, o número de colunas, que é 15, e o 'Dtype', que se refere ao tipo de dado presente em cada uma das colunas do nosso dataframe.\n",
        "\n",
        "Também conseguimos ver, em 'Non-Null Count', a quantidade de linhas não nulas presentes em cada uma das colunas do nosso dataframe."
      ],
      "metadata": {
        "id": "A3VtTQ5Crsn4"
      }
    },
    {
      "cell_type": "markdown",
      "source": [
        "Existe outra forma de observar exclusivamente o tipo de cada uma das colunas, que é usando 'dtypes'."
      ],
      "metadata": {
        "id": "r4wzzcVwsXwQ"
      }
    },
    {
      "cell_type": "code",
      "source": [
        "# Exibindo o tipo de dado presente em cada coluna\n",
        "df.dtypes"
      ],
      "metadata": {
        "colab": {
          "base_uri": "https://localhost:8080/"
        },
        "id": "SSpyuhlEr4rA",
        "outputId": "daed3b96-57d5-4bc9-c44a-24f41061b8af"
      },
      "execution_count": 9,
      "outputs": [
        {
          "output_type": "execute_result",
          "data": {
            "text/plain": [
              "Unnamed: 0     int64\n",
              "title         object\n",
              "artist        object\n",
              "top genre     object\n",
              "year           int64\n",
              "bpm            int64\n",
              "nrgy           int64\n",
              "dnce           int64\n",
              "dB             int64\n",
              "live           int64\n",
              "val            int64\n",
              "dur            int64\n",
              "acous          int64\n",
              "spch           int64\n",
              "pop            int64\n",
              "dtype: object"
            ]
          },
          "metadata": {},
          "execution_count": 9
        }
      ]
    },
    {
      "cell_type": "markdown",
      "source": [
        "Se eu quiser ver apenas colunas de um determinado tipo"
      ],
      "metadata": {
        "id": "WjWl2rzKsqTZ"
      }
    },
    {
      "cell_type": "code",
      "source": [
        "# Observando apenas as colunas do tipo 'object'\n",
        "df.dtypes[df.dtypes == 'object']"
      ],
      "metadata": {
        "colab": {
          "base_uri": "https://localhost:8080/"
        },
        "id": "aa3QtGassueo",
        "outputId": "4ef960e2-cd66-4c97-e5b0-c8abb21121ab"
      },
      "execution_count": 12,
      "outputs": [
        {
          "output_type": "execute_result",
          "data": {
            "text/plain": [
              "title        object\n",
              "artist       object\n",
              "top genre    object\n",
              "dtype: object"
            ]
          },
          "metadata": {},
          "execution_count": 12
        }
      ]
    },
    {
      "cell_type": "markdown",
      "source": [
        "Agora vamos observar as dimensões do nosso df"
      ],
      "metadata": {
        "id": "FhZT1XV0uMg5"
      }
    },
    {
      "cell_type": "code",
      "source": [
        "# Exibindo as dimensões\n",
        "df.shape"
      ],
      "metadata": {
        "colab": {
          "base_uri": "https://localhost:8080/"
        },
        "id": "VPwjy41UuOvC",
        "outputId": "456c6b2a-216d-403b-c239-2012f6a5e5dd"
      },
      "execution_count": 20,
      "outputs": [
        {
          "output_type": "execute_result",
          "data": {
            "text/plain": [
              "(603, 15)"
            ]
          },
          "metadata": {},
          "execution_count": 20
        }
      ]
    },
    {
      "cell_type": "markdown",
      "source": [
        "Aqui podemos observar o que já vimos anteriormente de que nosso df possui 603 linhas e 15 colunas"
      ],
      "metadata": {
        "id": "Db4O7DZuuRUR"
      }
    },
    {
      "cell_type": "markdown",
      "source": [
        "Agora vamos observar todas as colunas no nosso df"
      ],
      "metadata": {
        "id": "4gEE6zuduX0x"
      }
    },
    {
      "cell_type": "code",
      "source": [
        "# Exibindo o nome das nossas colunas\n",
        "df.columns"
      ],
      "metadata": {
        "colab": {
          "base_uri": "https://localhost:8080/"
        },
        "id": "3PlDWkUwubMR",
        "outputId": "4083abf6-e8c9-4fd1-dd3f-6626634d72af"
      },
      "execution_count": 22,
      "outputs": [
        {
          "output_type": "execute_result",
          "data": {
            "text/plain": [
              "Index(['Unnamed: 0', 'title', 'artist', 'top genre', 'year', 'bpm', 'nrgy',\n",
              "       'dnce', 'dB', 'live', 'val', 'dur', 'acous', 'spch', 'pop'],\n",
              "      dtype='object')"
            ]
          },
          "metadata": {},
          "execution_count": 22
        }
      ]
    },
    {
      "cell_type": "markdown",
      "source": [
        "Agora vamos observar algumas estatisticas sobre nosso df"
      ],
      "metadata": {
        "id": "d2T8gD8EtCXA"
      }
    },
    {
      "cell_type": "code",
      "source": [
        "# Resumo estátistico\n",
        "df.describe()"
      ],
      "metadata": {
        "colab": {
          "base_uri": "https://localhost:8080/",
          "height": 300
        },
        "id": "i2NC5vVAtEww",
        "outputId": "63109ccd-9bf0-4eb3-913f-33203dd4f82b"
      },
      "execution_count": 13,
      "outputs": [
        {
          "output_type": "execute_result",
          "data": {
            "text/plain": [
              "       Unnamed: 0         year         bpm        nrgy        dnce  \\\n",
              "count  603.000000   603.000000  603.000000  603.000000  603.000000   \n",
              "mean   302.000000  2014.592040  118.545605   70.504146   64.379768   \n",
              "std    174.215384     2.607057   24.795358   16.310664   13.378718   \n",
              "min      1.000000  2010.000000    0.000000    0.000000    0.000000   \n",
              "25%    151.500000  2013.000000  100.000000   61.000000   57.000000   \n",
              "50%    302.000000  2015.000000  120.000000   74.000000   66.000000   \n",
              "75%    452.500000  2017.000000  129.000000   82.000000   73.000000   \n",
              "max    603.000000  2019.000000  206.000000   98.000000   97.000000   \n",
              "\n",
              "               dB        live         val         dur       acous        spch  \\\n",
              "count  603.000000  603.000000  603.000000  603.000000  603.000000  603.000000   \n",
              "mean    -5.578773   17.774461   52.225539  224.674959   14.326700    8.358209   \n",
              "std      2.798020   13.102543   22.513020   34.130059   20.766165    7.483162   \n",
              "min    -60.000000    0.000000    0.000000  134.000000    0.000000    0.000000   \n",
              "25%     -6.000000    9.000000   35.000000  202.000000    2.000000    4.000000   \n",
              "50%     -5.000000   12.000000   52.000000  221.000000    6.000000    5.000000   \n",
              "75%     -4.000000   24.000000   69.000000  239.500000   17.000000    9.000000   \n",
              "max     -2.000000   74.000000   98.000000  424.000000   99.000000   48.000000   \n",
              "\n",
              "              pop  \n",
              "count  603.000000  \n",
              "mean    66.520730  \n",
              "std     14.517746  \n",
              "min      0.000000  \n",
              "25%     60.000000  \n",
              "50%     69.000000  \n",
              "75%     76.000000  \n",
              "max     99.000000  "
            ],
            "text/html": [
              "\n",
              "  <div id=\"df-1e7221d4-9c32-4711-b5f7-6355ec9c6704\" class=\"colab-df-container\">\n",
              "    <div>\n",
              "<style scoped>\n",
              "    .dataframe tbody tr th:only-of-type {\n",
              "        vertical-align: middle;\n",
              "    }\n",
              "\n",
              "    .dataframe tbody tr th {\n",
              "        vertical-align: top;\n",
              "    }\n",
              "\n",
              "    .dataframe thead th {\n",
              "        text-align: right;\n",
              "    }\n",
              "</style>\n",
              "<table border=\"1\" class=\"dataframe\">\n",
              "  <thead>\n",
              "    <tr style=\"text-align: right;\">\n",
              "      <th></th>\n",
              "      <th>Unnamed: 0</th>\n",
              "      <th>year</th>\n",
              "      <th>bpm</th>\n",
              "      <th>nrgy</th>\n",
              "      <th>dnce</th>\n",
              "      <th>dB</th>\n",
              "      <th>live</th>\n",
              "      <th>val</th>\n",
              "      <th>dur</th>\n",
              "      <th>acous</th>\n",
              "      <th>spch</th>\n",
              "      <th>pop</th>\n",
              "    </tr>\n",
              "  </thead>\n",
              "  <tbody>\n",
              "    <tr>\n",
              "      <th>count</th>\n",
              "      <td>603.000000</td>\n",
              "      <td>603.000000</td>\n",
              "      <td>603.000000</td>\n",
              "      <td>603.000000</td>\n",
              "      <td>603.000000</td>\n",
              "      <td>603.000000</td>\n",
              "      <td>603.000000</td>\n",
              "      <td>603.000000</td>\n",
              "      <td>603.000000</td>\n",
              "      <td>603.000000</td>\n",
              "      <td>603.000000</td>\n",
              "      <td>603.000000</td>\n",
              "    </tr>\n",
              "    <tr>\n",
              "      <th>mean</th>\n",
              "      <td>302.000000</td>\n",
              "      <td>2014.592040</td>\n",
              "      <td>118.545605</td>\n",
              "      <td>70.504146</td>\n",
              "      <td>64.379768</td>\n",
              "      <td>-5.578773</td>\n",
              "      <td>17.774461</td>\n",
              "      <td>52.225539</td>\n",
              "      <td>224.674959</td>\n",
              "      <td>14.326700</td>\n",
              "      <td>8.358209</td>\n",
              "      <td>66.520730</td>\n",
              "    </tr>\n",
              "    <tr>\n",
              "      <th>std</th>\n",
              "      <td>174.215384</td>\n",
              "      <td>2.607057</td>\n",
              "      <td>24.795358</td>\n",
              "      <td>16.310664</td>\n",
              "      <td>13.378718</td>\n",
              "      <td>2.798020</td>\n",
              "      <td>13.102543</td>\n",
              "      <td>22.513020</td>\n",
              "      <td>34.130059</td>\n",
              "      <td>20.766165</td>\n",
              "      <td>7.483162</td>\n",
              "      <td>14.517746</td>\n",
              "    </tr>\n",
              "    <tr>\n",
              "      <th>min</th>\n",
              "      <td>1.000000</td>\n",
              "      <td>2010.000000</td>\n",
              "      <td>0.000000</td>\n",
              "      <td>0.000000</td>\n",
              "      <td>0.000000</td>\n",
              "      <td>-60.000000</td>\n",
              "      <td>0.000000</td>\n",
              "      <td>0.000000</td>\n",
              "      <td>134.000000</td>\n",
              "      <td>0.000000</td>\n",
              "      <td>0.000000</td>\n",
              "      <td>0.000000</td>\n",
              "    </tr>\n",
              "    <tr>\n",
              "      <th>25%</th>\n",
              "      <td>151.500000</td>\n",
              "      <td>2013.000000</td>\n",
              "      <td>100.000000</td>\n",
              "      <td>61.000000</td>\n",
              "      <td>57.000000</td>\n",
              "      <td>-6.000000</td>\n",
              "      <td>9.000000</td>\n",
              "      <td>35.000000</td>\n",
              "      <td>202.000000</td>\n",
              "      <td>2.000000</td>\n",
              "      <td>4.000000</td>\n",
              "      <td>60.000000</td>\n",
              "    </tr>\n",
              "    <tr>\n",
              "      <th>50%</th>\n",
              "      <td>302.000000</td>\n",
              "      <td>2015.000000</td>\n",
              "      <td>120.000000</td>\n",
              "      <td>74.000000</td>\n",
              "      <td>66.000000</td>\n",
              "      <td>-5.000000</td>\n",
              "      <td>12.000000</td>\n",
              "      <td>52.000000</td>\n",
              "      <td>221.000000</td>\n",
              "      <td>6.000000</td>\n",
              "      <td>5.000000</td>\n",
              "      <td>69.000000</td>\n",
              "    </tr>\n",
              "    <tr>\n",
              "      <th>75%</th>\n",
              "      <td>452.500000</td>\n",
              "      <td>2017.000000</td>\n",
              "      <td>129.000000</td>\n",
              "      <td>82.000000</td>\n",
              "      <td>73.000000</td>\n",
              "      <td>-4.000000</td>\n",
              "      <td>24.000000</td>\n",
              "      <td>69.000000</td>\n",
              "      <td>239.500000</td>\n",
              "      <td>17.000000</td>\n",
              "      <td>9.000000</td>\n",
              "      <td>76.000000</td>\n",
              "    </tr>\n",
              "    <tr>\n",
              "      <th>max</th>\n",
              "      <td>603.000000</td>\n",
              "      <td>2019.000000</td>\n",
              "      <td>206.000000</td>\n",
              "      <td>98.000000</td>\n",
              "      <td>97.000000</td>\n",
              "      <td>-2.000000</td>\n",
              "      <td>74.000000</td>\n",
              "      <td>98.000000</td>\n",
              "      <td>424.000000</td>\n",
              "      <td>99.000000</td>\n",
              "      <td>48.000000</td>\n",
              "      <td>99.000000</td>\n",
              "    </tr>\n",
              "  </tbody>\n",
              "</table>\n",
              "</div>\n",
              "    <div class=\"colab-df-buttons\">\n",
              "\n",
              "  <div class=\"colab-df-container\">\n",
              "    <button class=\"colab-df-convert\" onclick=\"convertToInteractive('df-1e7221d4-9c32-4711-b5f7-6355ec9c6704')\"\n",
              "            title=\"Convert this dataframe to an interactive table.\"\n",
              "            style=\"display:none;\">\n",
              "\n",
              "  <svg xmlns=\"http://www.w3.org/2000/svg\" height=\"24px\" viewBox=\"0 -960 960 960\">\n",
              "    <path d=\"M120-120v-720h720v720H120Zm60-500h600v-160H180v160Zm220 220h160v-160H400v160Zm0 220h160v-160H400v160ZM180-400h160v-160H180v160Zm440 0h160v-160H620v160ZM180-180h160v-160H180v160Zm440 0h160v-160H620v160Z\"/>\n",
              "  </svg>\n",
              "    </button>\n",
              "\n",
              "  <style>\n",
              "    .colab-df-container {\n",
              "      display:flex;\n",
              "      gap: 12px;\n",
              "    }\n",
              "\n",
              "    .colab-df-convert {\n",
              "      background-color: #E8F0FE;\n",
              "      border: none;\n",
              "      border-radius: 50%;\n",
              "      cursor: pointer;\n",
              "      display: none;\n",
              "      fill: #1967D2;\n",
              "      height: 32px;\n",
              "      padding: 0 0 0 0;\n",
              "      width: 32px;\n",
              "    }\n",
              "\n",
              "    .colab-df-convert:hover {\n",
              "      background-color: #E2EBFA;\n",
              "      box-shadow: 0px 1px 2px rgba(60, 64, 67, 0.3), 0px 1px 3px 1px rgba(60, 64, 67, 0.15);\n",
              "      fill: #174EA6;\n",
              "    }\n",
              "\n",
              "    .colab-df-buttons div {\n",
              "      margin-bottom: 4px;\n",
              "    }\n",
              "\n",
              "    [theme=dark] .colab-df-convert {\n",
              "      background-color: #3B4455;\n",
              "      fill: #D2E3FC;\n",
              "    }\n",
              "\n",
              "    [theme=dark] .colab-df-convert:hover {\n",
              "      background-color: #434B5C;\n",
              "      box-shadow: 0px 1px 3px 1px rgba(0, 0, 0, 0.15);\n",
              "      filter: drop-shadow(0px 1px 2px rgba(0, 0, 0, 0.3));\n",
              "      fill: #FFFFFF;\n",
              "    }\n",
              "  </style>\n",
              "\n",
              "    <script>\n",
              "      const buttonEl =\n",
              "        document.querySelector('#df-1e7221d4-9c32-4711-b5f7-6355ec9c6704 button.colab-df-convert');\n",
              "      buttonEl.style.display =\n",
              "        google.colab.kernel.accessAllowed ? 'block' : 'none';\n",
              "\n",
              "      async function convertToInteractive(key) {\n",
              "        const element = document.querySelector('#df-1e7221d4-9c32-4711-b5f7-6355ec9c6704');\n",
              "        const dataTable =\n",
              "          await google.colab.kernel.invokeFunction('convertToInteractive',\n",
              "                                                    [key], {});\n",
              "        if (!dataTable) return;\n",
              "\n",
              "        const docLinkHtml = 'Like what you see? Visit the ' +\n",
              "          '<a target=\"_blank\" href=https://colab.research.google.com/notebooks/data_table.ipynb>data table notebook</a>'\n",
              "          + ' to learn more about interactive tables.';\n",
              "        element.innerHTML = '';\n",
              "        dataTable['output_type'] = 'display_data';\n",
              "        await google.colab.output.renderOutput(dataTable, element);\n",
              "        const docLink = document.createElement('div');\n",
              "        docLink.innerHTML = docLinkHtml;\n",
              "        element.appendChild(docLink);\n",
              "      }\n",
              "    </script>\n",
              "  </div>\n",
              "\n",
              "\n",
              "<div id=\"df-51875063-f2c8-4462-aef0-ab04b5b91fc3\">\n",
              "  <button class=\"colab-df-quickchart\" onclick=\"quickchart('df-51875063-f2c8-4462-aef0-ab04b5b91fc3')\"\n",
              "            title=\"Suggest charts\"\n",
              "            style=\"display:none;\">\n",
              "\n",
              "<svg xmlns=\"http://www.w3.org/2000/svg\" height=\"24px\"viewBox=\"0 0 24 24\"\n",
              "     width=\"24px\">\n",
              "    <g>\n",
              "        <path d=\"M19 3H5c-1.1 0-2 .9-2 2v14c0 1.1.9 2 2 2h14c1.1 0 2-.9 2-2V5c0-1.1-.9-2-2-2zM9 17H7v-7h2v7zm4 0h-2V7h2v10zm4 0h-2v-4h2v4z\"/>\n",
              "    </g>\n",
              "</svg>\n",
              "  </button>\n",
              "\n",
              "<style>\n",
              "  .colab-df-quickchart {\n",
              "      --bg-color: #E8F0FE;\n",
              "      --fill-color: #1967D2;\n",
              "      --hover-bg-color: #E2EBFA;\n",
              "      --hover-fill-color: #174EA6;\n",
              "      --disabled-fill-color: #AAA;\n",
              "      --disabled-bg-color: #DDD;\n",
              "  }\n",
              "\n",
              "  [theme=dark] .colab-df-quickchart {\n",
              "      --bg-color: #3B4455;\n",
              "      --fill-color: #D2E3FC;\n",
              "      --hover-bg-color: #434B5C;\n",
              "      --hover-fill-color: #FFFFFF;\n",
              "      --disabled-bg-color: #3B4455;\n",
              "      --disabled-fill-color: #666;\n",
              "  }\n",
              "\n",
              "  .colab-df-quickchart {\n",
              "    background-color: var(--bg-color);\n",
              "    border: none;\n",
              "    border-radius: 50%;\n",
              "    cursor: pointer;\n",
              "    display: none;\n",
              "    fill: var(--fill-color);\n",
              "    height: 32px;\n",
              "    padding: 0;\n",
              "    width: 32px;\n",
              "  }\n",
              "\n",
              "  .colab-df-quickchart:hover {\n",
              "    background-color: var(--hover-bg-color);\n",
              "    box-shadow: 0 1px 2px rgba(60, 64, 67, 0.3), 0 1px 3px 1px rgba(60, 64, 67, 0.15);\n",
              "    fill: var(--button-hover-fill-color);\n",
              "  }\n",
              "\n",
              "  .colab-df-quickchart-complete:disabled,\n",
              "  .colab-df-quickchart-complete:disabled:hover {\n",
              "    background-color: var(--disabled-bg-color);\n",
              "    fill: var(--disabled-fill-color);\n",
              "    box-shadow: none;\n",
              "  }\n",
              "\n",
              "  .colab-df-spinner {\n",
              "    border: 2px solid var(--fill-color);\n",
              "    border-color: transparent;\n",
              "    border-bottom-color: var(--fill-color);\n",
              "    animation:\n",
              "      spin 1s steps(1) infinite;\n",
              "  }\n",
              "\n",
              "  @keyframes spin {\n",
              "    0% {\n",
              "      border-color: transparent;\n",
              "      border-bottom-color: var(--fill-color);\n",
              "      border-left-color: var(--fill-color);\n",
              "    }\n",
              "    20% {\n",
              "      border-color: transparent;\n",
              "      border-left-color: var(--fill-color);\n",
              "      border-top-color: var(--fill-color);\n",
              "    }\n",
              "    30% {\n",
              "      border-color: transparent;\n",
              "      border-left-color: var(--fill-color);\n",
              "      border-top-color: var(--fill-color);\n",
              "      border-right-color: var(--fill-color);\n",
              "    }\n",
              "    40% {\n",
              "      border-color: transparent;\n",
              "      border-right-color: var(--fill-color);\n",
              "      border-top-color: var(--fill-color);\n",
              "    }\n",
              "    60% {\n",
              "      border-color: transparent;\n",
              "      border-right-color: var(--fill-color);\n",
              "    }\n",
              "    80% {\n",
              "      border-color: transparent;\n",
              "      border-right-color: var(--fill-color);\n",
              "      border-bottom-color: var(--fill-color);\n",
              "    }\n",
              "    90% {\n",
              "      border-color: transparent;\n",
              "      border-bottom-color: var(--fill-color);\n",
              "    }\n",
              "  }\n",
              "</style>\n",
              "\n",
              "  <script>\n",
              "    async function quickchart(key) {\n",
              "      const quickchartButtonEl =\n",
              "        document.querySelector('#' + key + ' button');\n",
              "      quickchartButtonEl.disabled = true;  // To prevent multiple clicks.\n",
              "      quickchartButtonEl.classList.add('colab-df-spinner');\n",
              "      try {\n",
              "        const charts = await google.colab.kernel.invokeFunction(\n",
              "            'suggestCharts', [key], {});\n",
              "      } catch (error) {\n",
              "        console.error('Error during call to suggestCharts:', error);\n",
              "      }\n",
              "      quickchartButtonEl.classList.remove('colab-df-spinner');\n",
              "      quickchartButtonEl.classList.add('colab-df-quickchart-complete');\n",
              "    }\n",
              "    (() => {\n",
              "      let quickchartButtonEl =\n",
              "        document.querySelector('#df-51875063-f2c8-4462-aef0-ab04b5b91fc3 button');\n",
              "      quickchartButtonEl.style.display =\n",
              "        google.colab.kernel.accessAllowed ? 'block' : 'none';\n",
              "    })();\n",
              "  </script>\n",
              "</div>\n",
              "\n",
              "    </div>\n",
              "  </div>\n"
            ],
            "application/vnd.google.colaboratory.intrinsic+json": {
              "type": "dataframe",
              "summary": "{\n  \"name\": \"df\",\n  \"rows\": 8,\n  \"fields\": [\n    {\n      \"column\": \"Unnamed: 0\",\n      \"properties\": {\n        \"dtype\": \"number\",\n        \"std\": 217.01940727850135,\n        \"min\": 1.0,\n        \"max\": 603.0,\n        \"num_unique_values\": 6,\n        \"samples\": [\n          603.0,\n          302.0,\n          452.5\n        ],\n        \"semantic_type\": \"\",\n        \"description\": \"\"\n      }\n    },\n    {\n      \"column\": \"year\",\n      \"properties\": {\n        \"dtype\": \"number\",\n        \"std\": 808.5705680254969,\n        \"min\": 2.607057184107005,\n        \"max\": 2019.0,\n        \"num_unique_values\": 8,\n        \"samples\": [\n          2014.592039800995,\n          2015.0,\n          603.0\n        ],\n        \"semantic_type\": \"\",\n        \"description\": \"\"\n      }\n    },\n    {\n      \"column\": \"bpm\",\n      \"properties\": {\n        \"dtype\": \"number\",\n        \"std\": 189.00787299648076,\n        \"min\": 0.0,\n        \"max\": 603.0,\n        \"num_unique_values\": 8,\n        \"samples\": [\n          118.54560530679933,\n          120.0,\n          603.0\n        ],\n        \"semantic_type\": \"\",\n        \"description\": \"\"\n      }\n    },\n    {\n      \"column\": \"nrgy\",\n      \"properties\": {\n        \"dtype\": \"number\",\n        \"std\": 195.72731467942162,\n        \"min\": 0.0,\n        \"max\": 603.0,\n        \"num_unique_values\": 8,\n        \"samples\": [\n          70.50414593698176,\n          74.0,\n          603.0\n        ],\n        \"semantic_type\": \"\",\n        \"description\": \"\"\n      }\n    },\n    {\n      \"column\": \"dnce\",\n      \"properties\": {\n        \"dtype\": \"number\",\n        \"std\": 197.0315587729321,\n        \"min\": 0.0,\n        \"max\": 603.0,\n        \"num_unique_values\": 8,\n        \"samples\": [\n          64.37976782752902,\n          66.0,\n          603.0\n        ],\n        \"semantic_type\": \"\",\n        \"description\": \"\"\n      }\n    },\n    {\n      \"column\": \"dB\",\n      \"properties\": {\n        \"dtype\": \"number\",\n        \"std\": 218.1444979851803,\n        \"min\": -60.0,\n        \"max\": 603.0,\n        \"num_unique_values\": 8,\n        \"samples\": [\n          -5.5787728026534,\n          -5.0,\n          603.0\n        ],\n        \"semantic_type\": \"\",\n        \"description\": \"\"\n      }\n    },\n    {\n      \"column\": \"live\",\n      \"properties\": {\n        \"dtype\": \"number\",\n        \"std\": 206.8542051316044,\n        \"min\": 0.0,\n        \"max\": 603.0,\n        \"num_unique_values\": 8,\n        \"samples\": [\n          17.77446102819237,\n          12.0,\n          603.0\n        ],\n        \"semantic_type\": \"\",\n        \"description\": \"\"\n      }\n    },\n    {\n      \"column\": \"val\",\n      \"properties\": {\n        \"dtype\": \"number\",\n        \"std\": 198.7892818744033,\n        \"min\": 0.0,\n        \"max\": 603.0,\n        \"num_unique_values\": 8,\n        \"samples\": [\n          52.22553897180763,\n          52.0,\n          603.0\n        ],\n        \"semantic_type\": \"\",\n        \"description\": \"\"\n      }\n    },\n    {\n      \"column\": \"dur\",\n      \"properties\": {\n        \"dtype\": \"number\",\n        \"std\": 176.46961475132733,\n        \"min\": 34.13005933128084,\n        \"max\": 603.0,\n        \"num_unique_values\": 8,\n        \"samples\": [\n          224.67495854063017,\n          221.0,\n          603.0\n        ],\n        \"semantic_type\": \"\",\n        \"description\": \"\"\n      }\n    },\n    {\n      \"column\": \"acous\",\n      \"properties\": {\n        \"dtype\": \"number\",\n        \"std\": 207.6319876479884,\n        \"min\": 0.0,\n        \"max\": 603.0,\n        \"num_unique_values\": 8,\n        \"samples\": [\n          14.32669983416252,\n          6.0,\n          603.0\n        ],\n        \"semantic_type\": \"\",\n        \"description\": \"\"\n      }\n    },\n    {\n      \"column\": \"spch\",\n      \"properties\": {\n        \"dtype\": \"number\",\n        \"std\": 209.60333094111388,\n        \"min\": 0.0,\n        \"max\": 603.0,\n        \"num_unique_values\": 8,\n        \"samples\": [\n          8.35820895522388,\n          5.0,\n          603.0\n        ],\n        \"semantic_type\": \"\",\n        \"description\": \"\"\n      }\n    },\n    {\n      \"column\": \"pop\",\n      \"properties\": {\n        \"dtype\": \"number\",\n        \"std\": 196.45256383154307,\n        \"min\": 0.0,\n        \"max\": 603.0,\n        \"num_unique_values\": 8,\n        \"samples\": [\n          66.52072968490879,\n          69.0,\n          603.0\n        ],\n        \"semantic_type\": \"\",\n        \"description\": \"\"\n      }\n    }\n  ]\n}"
            }
          },
          "metadata": {},
          "execution_count": 13
        }
      ]
    },
    {
      "cell_type": "markdown",
      "source": [
        "Aqui temos o total de valor em cada coluna, temos a média, o desvio padrão, o valor minimo, o 1, 2 e 3 quartil aleém do valor maximo"
      ],
      "metadata": {
        "id": "F1W1jnVytJVI"
      }
    },
    {
      "cell_type": "markdown",
      "source": [
        "Agora vamos observar a quantidade de valores nulos"
      ],
      "metadata": {
        "id": "QPyMdXzUtWAY"
      }
    },
    {
      "cell_type": "code",
      "source": [
        "# Exibindo a soma de valores nulos\n",
        "df.isnull().sum()"
      ],
      "metadata": {
        "colab": {
          "base_uri": "https://localhost:8080/"
        },
        "id": "Y5pRAw4XtYgY",
        "outputId": "91eb5789-588c-4519-993a-fdffd804ba2f"
      },
      "execution_count": 15,
      "outputs": [
        {
          "output_type": "execute_result",
          "data": {
            "text/plain": [
              "Unnamed: 0    0\n",
              "title         0\n",
              "artist        0\n",
              "top genre     0\n",
              "year          0\n",
              "bpm           0\n",
              "nrgy          0\n",
              "dnce          0\n",
              "dB            0\n",
              "live          0\n",
              "val           0\n",
              "dur           0\n",
              "acous         0\n",
              "spch          0\n",
              "pop           0\n",
              "dtype: int64"
            ]
          },
          "metadata": {},
          "execution_count": 15
        }
      ]
    },
    {
      "cell_type": "markdown",
      "source": [
        "Não temos nenhum valor nulo em nosso df"
      ],
      "metadata": {
        "id": "w7R1KXNbtc2I"
      }
    },
    {
      "cell_type": "markdown",
      "source": [
        "Agora vamos observar apenas os artistas unicos em nosso df"
      ],
      "metadata": {
        "id": "_bDKSfMOthUA"
      }
    },
    {
      "cell_type": "code",
      "source": [
        "# Exibindo artistas únicos\n",
        "df['artist'].unique()"
      ],
      "metadata": {
        "colab": {
          "base_uri": "https://localhost:8080/"
        },
        "id": "G2XvpbW3tk5B",
        "outputId": "91ba4265-d404-43a2-f5ef-86ee1667be57"
      },
      "execution_count": 17,
      "outputs": [
        {
          "output_type": "execute_result",
          "data": {
            "text/plain": [
              "array(['Train', 'Eminem', 'Kesha', 'Lady Gaga', 'Bruno Mars',\n",
              "       'Justin Bieber', 'Taio Cruz', 'OneRepublic', 'Alicia Keys',\n",
              "       'Rihanna', 'Flo Rida', 'Mike Posner', 'Far East Movement', 'Usher',\n",
              "       'Sean Kingston', 'The Black Eyed Peas', 'Adam Lambert', 'Maroon 5',\n",
              "       'Neon Trees', 'Selena Gomez & The Scene', 'Enrique Iglesias',\n",
              "       'Katy Perry', 'Britney Spears', '3OH!3', 'David Guetta',\n",
              "       'Christina Aguilera', 'Florence + The Machine', 'Shakira',\n",
              "       'Tinie Tempah', 'T.I.', 'Martin Solveig', 'Christina Perri',\n",
              "       'Adele', 'Pitbull', 'Beyoncé', 'Hot Chelle Rae', 'Avril Lavigne',\n",
              "       'Kanye West', 'LMFAO', 'Jessie J', 'Jennifer Lopez', 'Chris Brown',\n",
              "       'Sleeping At Last', 'Nicki Minaj', 'P!nk', 'Coldplay',\n",
              "       'One Direction', 'Taylor Swift', 'Carly Rae Jepsen',\n",
              "       'Kelly Clarkson', 'Owl City', 'The Wanted', 'fun.',\n",
              "       'Ellie Goulding', 'Gym Class Heroes', 'Avicii', 'The Script',\n",
              "       'Miley Cyrus', 'Swedish House Mafia', 'Daft Punk', 'James Arthur',\n",
              "       'Robin Thicke', 'Demi Lovato', 'Zedd', 'Lana Del Rey',\n",
              "       'Calvin Harris', 'Drake', 'Sara Bareilles',\n",
              "       'Macklemore & Ryan Lewis', 'Labrinth', 'Ne-Yo', 'Ariana Grande',\n",
              "       'Justin Timberlake', 'will.i.am', 'Icona Pop', 'Fergie',\n",
              "       'Little Mix', 'Emeli Sandé', 'Selena Gomez', 'Austin Mahone',\n",
              "       'Jonas Brothers', 'Mariah Carey', 'Ciara', 'Jewel',\n",
              "       'Kelly Rowland', 'John Legend', 'Sam Smith', 'Pharrell Williams',\n",
              "       'MAGIC!', 'Passenger', 'Bastille', 'Lorde', 'John Newman',\n",
              "       'Disclosure', 'Michael Jackson', '5 Seconds of Summer',\n",
              "       'Iggy Azalea', 'Jason Derulo', 'The Chainsmokers', 'Birdy',\n",
              "       'A Great Big World', 'Sia', 'Charli XCX', 'Lily Allen',\n",
              "       'Lea Michele', 'Ed Sheeran', 'The Weeknd', 'Mark Ronson', 'Hozier',\n",
              "       'Shawn Mendes', 'Mr. Probz', 'Zara Larsson', 'Fifth Harmony',\n",
              "       'Clean Bandit', 'Meghan Trainor', 'Nick Jonas', 'Paloma Faith',\n",
              "       'Olly Murs', 'Naughty Boy', 'Alessia Cara', 'Sigala', 'Rudimental',\n",
              "       'Lost Frequencies', 'Robin Schulz', 'Lilly Wood and The Prick',\n",
              "       'Wiz Khalifa', 'Alesso', 'Madonna', 'Gwen Stefani', 'Jess Glynne',\n",
              "       'Hilary Duff', 'Ricky Martin', 'Jennifer Hudson', 'DNCE',\n",
              "       'Martin Garrix', 'Lukas Graham', 'G-Eazy', 'Hailee Steinfeld',\n",
              "       'BØRNS', 'Major Lazer', 'MØ', 'Tove Lo', 'ZAYN', 'Bebe Rexha',\n",
              "       'Snakehips', 'Missy Elliott', 'Years & Years', 'Charlie Puth',\n",
              "       'Janet Jackson', 'Joey Montana', 'Nelly Furtado', 'DJ Snake',\n",
              "       'Kygo', 'DJ Khaled', 'Luis Fonsi', 'Camila Cabello', 'Jonas Blue',\n",
              "       'CNCO', 'Cardi B', 'Alan Walker', 'Liam Payne', 'Niall Horan',\n",
              "       'Cashmere Cat', 'Galantis', 'Dua Lipa', 'Silk City', 'Marshmello',\n",
              "       'Halsey', 'Troye Sivan', 'Dan + Shay', 'Rita Ora', 'Harry Styles',\n",
              "       'Ansel Elgort', 'J Balvin', 'N.E.R.D', 'Hayley Kiyoko', 'RedOne',\n",
              "       'Lewis Capaldi', 'SHAED', 'Lizzo', 'Mabel', 'Khalid', 'R3HAB',\n",
              "       'Daddy Yankee'], dtype=object)"
            ]
          },
          "metadata": {},
          "execution_count": 17
        }
      ]
    },
    {
      "cell_type": "markdown",
      "source": [
        "Dessa forma podemos observar cada um dos artistas que aparece em nosso df sem repetição"
      ],
      "metadata": {
        "id": "xu3gdlU_twWJ"
      }
    },
    {
      "cell_type": "code",
      "source": [
        "# Exibindo a soma artistas únicos\n",
        "df['artist'].nunique()"
      ],
      "metadata": {
        "colab": {
          "base_uri": "https://localhost:8080/"
        },
        "id": "fSWQlvSCt6OR",
        "outputId": "b50cafd4-610c-4578-d7d9-3125aab9489d"
      },
      "execution_count": 19,
      "outputs": [
        {
          "output_type": "execute_result",
          "data": {
            "text/plain": [
              "184"
            ]
          },
          "metadata": {},
          "execution_count": 19
        }
      ]
    },
    {
      "cell_type": "markdown",
      "source": [
        "Dessa forma é possivel chegarmos a conclusão de que temos 184 artistas diferentes em nosso df"
      ],
      "metadata": {
        "id": "tEefk-5Gt_5w"
      }
    },
    {
      "cell_type": "markdown",
      "source": [
        "Agora vamos observar os 3 menore valores da nossa coluna 'acous'"
      ],
      "metadata": {
        "id": "eBpW_hHeuyJp"
      }
    },
    {
      "cell_type": "code",
      "source": [
        "# Observando as 3 linhas com os valores mais baixos em 'acous'\n",
        "df.nsmallest(3, 'acous')"
      ],
      "metadata": {
        "colab": {
          "base_uri": "https://localhost:8080/",
          "height": 143
        },
        "id": "Gj2UCpPZu_Qq",
        "outputId": "86e20624-7d8e-42ed-e75b-6104ff7f7437"
      },
      "execution_count": 26,
      "outputs": [
        {
          "output_type": "execute_result",
          "data": {
            "text/plain": [
              "    Unnamed: 0        title     artist  top genre  year  bpm  nrgy  dnce  dB  \\\n",
              "3            4  Bad Romance  Lady Gaga  dance pop  2010  119    92    70  -4   \n",
              "6            7     Dynamite  Taio Cruz  dance pop  2010  120    78    75  -4   \n",
              "18          19    Alejandro  Lady Gaga  dance pop  2010   99    80    63  -7   \n",
              "\n",
              "    live  val  dur  acous  spch  pop  \n",
              "3      8   71  295      0     4   79  \n",
              "6      4   82  203      0     9   77  \n",
              "18    36   37  274      0     5   69  "
            ],
            "text/html": [
              "\n",
              "  <div id=\"df-52475a4a-a2ff-4b79-b8ff-544cb29580c9\" class=\"colab-df-container\">\n",
              "    <div>\n",
              "<style scoped>\n",
              "    .dataframe tbody tr th:only-of-type {\n",
              "        vertical-align: middle;\n",
              "    }\n",
              "\n",
              "    .dataframe tbody tr th {\n",
              "        vertical-align: top;\n",
              "    }\n",
              "\n",
              "    .dataframe thead th {\n",
              "        text-align: right;\n",
              "    }\n",
              "</style>\n",
              "<table border=\"1\" class=\"dataframe\">\n",
              "  <thead>\n",
              "    <tr style=\"text-align: right;\">\n",
              "      <th></th>\n",
              "      <th>Unnamed: 0</th>\n",
              "      <th>title</th>\n",
              "      <th>artist</th>\n",
              "      <th>top genre</th>\n",
              "      <th>year</th>\n",
              "      <th>bpm</th>\n",
              "      <th>nrgy</th>\n",
              "      <th>dnce</th>\n",
              "      <th>dB</th>\n",
              "      <th>live</th>\n",
              "      <th>val</th>\n",
              "      <th>dur</th>\n",
              "      <th>acous</th>\n",
              "      <th>spch</th>\n",
              "      <th>pop</th>\n",
              "    </tr>\n",
              "  </thead>\n",
              "  <tbody>\n",
              "    <tr>\n",
              "      <th>3</th>\n",
              "      <td>4</td>\n",
              "      <td>Bad Romance</td>\n",
              "      <td>Lady Gaga</td>\n",
              "      <td>dance pop</td>\n",
              "      <td>2010</td>\n",
              "      <td>119</td>\n",
              "      <td>92</td>\n",
              "      <td>70</td>\n",
              "      <td>-4</td>\n",
              "      <td>8</td>\n",
              "      <td>71</td>\n",
              "      <td>295</td>\n",
              "      <td>0</td>\n",
              "      <td>4</td>\n",
              "      <td>79</td>\n",
              "    </tr>\n",
              "    <tr>\n",
              "      <th>6</th>\n",
              "      <td>7</td>\n",
              "      <td>Dynamite</td>\n",
              "      <td>Taio Cruz</td>\n",
              "      <td>dance pop</td>\n",
              "      <td>2010</td>\n",
              "      <td>120</td>\n",
              "      <td>78</td>\n",
              "      <td>75</td>\n",
              "      <td>-4</td>\n",
              "      <td>4</td>\n",
              "      <td>82</td>\n",
              "      <td>203</td>\n",
              "      <td>0</td>\n",
              "      <td>9</td>\n",
              "      <td>77</td>\n",
              "    </tr>\n",
              "    <tr>\n",
              "      <th>18</th>\n",
              "      <td>19</td>\n",
              "      <td>Alejandro</td>\n",
              "      <td>Lady Gaga</td>\n",
              "      <td>dance pop</td>\n",
              "      <td>2010</td>\n",
              "      <td>99</td>\n",
              "      <td>80</td>\n",
              "      <td>63</td>\n",
              "      <td>-7</td>\n",
              "      <td>36</td>\n",
              "      <td>37</td>\n",
              "      <td>274</td>\n",
              "      <td>0</td>\n",
              "      <td>5</td>\n",
              "      <td>69</td>\n",
              "    </tr>\n",
              "  </tbody>\n",
              "</table>\n",
              "</div>\n",
              "    <div class=\"colab-df-buttons\">\n",
              "\n",
              "  <div class=\"colab-df-container\">\n",
              "    <button class=\"colab-df-convert\" onclick=\"convertToInteractive('df-52475a4a-a2ff-4b79-b8ff-544cb29580c9')\"\n",
              "            title=\"Convert this dataframe to an interactive table.\"\n",
              "            style=\"display:none;\">\n",
              "\n",
              "  <svg xmlns=\"http://www.w3.org/2000/svg\" height=\"24px\" viewBox=\"0 -960 960 960\">\n",
              "    <path d=\"M120-120v-720h720v720H120Zm60-500h600v-160H180v160Zm220 220h160v-160H400v160Zm0 220h160v-160H400v160ZM180-400h160v-160H180v160Zm440 0h160v-160H620v160ZM180-180h160v-160H180v160Zm440 0h160v-160H620v160Z\"/>\n",
              "  </svg>\n",
              "    </button>\n",
              "\n",
              "  <style>\n",
              "    .colab-df-container {\n",
              "      display:flex;\n",
              "      gap: 12px;\n",
              "    }\n",
              "\n",
              "    .colab-df-convert {\n",
              "      background-color: #E8F0FE;\n",
              "      border: none;\n",
              "      border-radius: 50%;\n",
              "      cursor: pointer;\n",
              "      display: none;\n",
              "      fill: #1967D2;\n",
              "      height: 32px;\n",
              "      padding: 0 0 0 0;\n",
              "      width: 32px;\n",
              "    }\n",
              "\n",
              "    .colab-df-convert:hover {\n",
              "      background-color: #E2EBFA;\n",
              "      box-shadow: 0px 1px 2px rgba(60, 64, 67, 0.3), 0px 1px 3px 1px rgba(60, 64, 67, 0.15);\n",
              "      fill: #174EA6;\n",
              "    }\n",
              "\n",
              "    .colab-df-buttons div {\n",
              "      margin-bottom: 4px;\n",
              "    }\n",
              "\n",
              "    [theme=dark] .colab-df-convert {\n",
              "      background-color: #3B4455;\n",
              "      fill: #D2E3FC;\n",
              "    }\n",
              "\n",
              "    [theme=dark] .colab-df-convert:hover {\n",
              "      background-color: #434B5C;\n",
              "      box-shadow: 0px 1px 3px 1px rgba(0, 0, 0, 0.15);\n",
              "      filter: drop-shadow(0px 1px 2px rgba(0, 0, 0, 0.3));\n",
              "      fill: #FFFFFF;\n",
              "    }\n",
              "  </style>\n",
              "\n",
              "    <script>\n",
              "      const buttonEl =\n",
              "        document.querySelector('#df-52475a4a-a2ff-4b79-b8ff-544cb29580c9 button.colab-df-convert');\n",
              "      buttonEl.style.display =\n",
              "        google.colab.kernel.accessAllowed ? 'block' : 'none';\n",
              "\n",
              "      async function convertToInteractive(key) {\n",
              "        const element = document.querySelector('#df-52475a4a-a2ff-4b79-b8ff-544cb29580c9');\n",
              "        const dataTable =\n",
              "          await google.colab.kernel.invokeFunction('convertToInteractive',\n",
              "                                                    [key], {});\n",
              "        if (!dataTable) return;\n",
              "\n",
              "        const docLinkHtml = 'Like what you see? Visit the ' +\n",
              "          '<a target=\"_blank\" href=https://colab.research.google.com/notebooks/data_table.ipynb>data table notebook</a>'\n",
              "          + ' to learn more about interactive tables.';\n",
              "        element.innerHTML = '';\n",
              "        dataTable['output_type'] = 'display_data';\n",
              "        await google.colab.output.renderOutput(dataTable, element);\n",
              "        const docLink = document.createElement('div');\n",
              "        docLink.innerHTML = docLinkHtml;\n",
              "        element.appendChild(docLink);\n",
              "      }\n",
              "    </script>\n",
              "  </div>\n",
              "\n",
              "\n",
              "<div id=\"df-8a95745c-589f-4371-be96-3636d43492f8\">\n",
              "  <button class=\"colab-df-quickchart\" onclick=\"quickchart('df-8a95745c-589f-4371-be96-3636d43492f8')\"\n",
              "            title=\"Suggest charts\"\n",
              "            style=\"display:none;\">\n",
              "\n",
              "<svg xmlns=\"http://www.w3.org/2000/svg\" height=\"24px\"viewBox=\"0 0 24 24\"\n",
              "     width=\"24px\">\n",
              "    <g>\n",
              "        <path d=\"M19 3H5c-1.1 0-2 .9-2 2v14c0 1.1.9 2 2 2h14c1.1 0 2-.9 2-2V5c0-1.1-.9-2-2-2zM9 17H7v-7h2v7zm4 0h-2V7h2v10zm4 0h-2v-4h2v4z\"/>\n",
              "    </g>\n",
              "</svg>\n",
              "  </button>\n",
              "\n",
              "<style>\n",
              "  .colab-df-quickchart {\n",
              "      --bg-color: #E8F0FE;\n",
              "      --fill-color: #1967D2;\n",
              "      --hover-bg-color: #E2EBFA;\n",
              "      --hover-fill-color: #174EA6;\n",
              "      --disabled-fill-color: #AAA;\n",
              "      --disabled-bg-color: #DDD;\n",
              "  }\n",
              "\n",
              "  [theme=dark] .colab-df-quickchart {\n",
              "      --bg-color: #3B4455;\n",
              "      --fill-color: #D2E3FC;\n",
              "      --hover-bg-color: #434B5C;\n",
              "      --hover-fill-color: #FFFFFF;\n",
              "      --disabled-bg-color: #3B4455;\n",
              "      --disabled-fill-color: #666;\n",
              "  }\n",
              "\n",
              "  .colab-df-quickchart {\n",
              "    background-color: var(--bg-color);\n",
              "    border: none;\n",
              "    border-radius: 50%;\n",
              "    cursor: pointer;\n",
              "    display: none;\n",
              "    fill: var(--fill-color);\n",
              "    height: 32px;\n",
              "    padding: 0;\n",
              "    width: 32px;\n",
              "  }\n",
              "\n",
              "  .colab-df-quickchart:hover {\n",
              "    background-color: var(--hover-bg-color);\n",
              "    box-shadow: 0 1px 2px rgba(60, 64, 67, 0.3), 0 1px 3px 1px rgba(60, 64, 67, 0.15);\n",
              "    fill: var(--button-hover-fill-color);\n",
              "  }\n",
              "\n",
              "  .colab-df-quickchart-complete:disabled,\n",
              "  .colab-df-quickchart-complete:disabled:hover {\n",
              "    background-color: var(--disabled-bg-color);\n",
              "    fill: var(--disabled-fill-color);\n",
              "    box-shadow: none;\n",
              "  }\n",
              "\n",
              "  .colab-df-spinner {\n",
              "    border: 2px solid var(--fill-color);\n",
              "    border-color: transparent;\n",
              "    border-bottom-color: var(--fill-color);\n",
              "    animation:\n",
              "      spin 1s steps(1) infinite;\n",
              "  }\n",
              "\n",
              "  @keyframes spin {\n",
              "    0% {\n",
              "      border-color: transparent;\n",
              "      border-bottom-color: var(--fill-color);\n",
              "      border-left-color: var(--fill-color);\n",
              "    }\n",
              "    20% {\n",
              "      border-color: transparent;\n",
              "      border-left-color: var(--fill-color);\n",
              "      border-top-color: var(--fill-color);\n",
              "    }\n",
              "    30% {\n",
              "      border-color: transparent;\n",
              "      border-left-color: var(--fill-color);\n",
              "      border-top-color: var(--fill-color);\n",
              "      border-right-color: var(--fill-color);\n",
              "    }\n",
              "    40% {\n",
              "      border-color: transparent;\n",
              "      border-right-color: var(--fill-color);\n",
              "      border-top-color: var(--fill-color);\n",
              "    }\n",
              "    60% {\n",
              "      border-color: transparent;\n",
              "      border-right-color: var(--fill-color);\n",
              "    }\n",
              "    80% {\n",
              "      border-color: transparent;\n",
              "      border-right-color: var(--fill-color);\n",
              "      border-bottom-color: var(--fill-color);\n",
              "    }\n",
              "    90% {\n",
              "      border-color: transparent;\n",
              "      border-bottom-color: var(--fill-color);\n",
              "    }\n",
              "  }\n",
              "</style>\n",
              "\n",
              "  <script>\n",
              "    async function quickchart(key) {\n",
              "      const quickchartButtonEl =\n",
              "        document.querySelector('#' + key + ' button');\n",
              "      quickchartButtonEl.disabled = true;  // To prevent multiple clicks.\n",
              "      quickchartButtonEl.classList.add('colab-df-spinner');\n",
              "      try {\n",
              "        const charts = await google.colab.kernel.invokeFunction(\n",
              "            'suggestCharts', [key], {});\n",
              "      } catch (error) {\n",
              "        console.error('Error during call to suggestCharts:', error);\n",
              "      }\n",
              "      quickchartButtonEl.classList.remove('colab-df-spinner');\n",
              "      quickchartButtonEl.classList.add('colab-df-quickchart-complete');\n",
              "    }\n",
              "    (() => {\n",
              "      let quickchartButtonEl =\n",
              "        document.querySelector('#df-8a95745c-589f-4371-be96-3636d43492f8 button');\n",
              "      quickchartButtonEl.style.display =\n",
              "        google.colab.kernel.accessAllowed ? 'block' : 'none';\n",
              "    })();\n",
              "  </script>\n",
              "</div>\n",
              "\n",
              "    </div>\n",
              "  </div>\n"
            ],
            "application/vnd.google.colaboratory.intrinsic+json": {
              "type": "dataframe",
              "summary": "{\n  \"name\": \"df\",\n  \"rows\": 3,\n  \"fields\": [\n    {\n      \"column\": \"Unnamed: 0\",\n      \"properties\": {\n        \"dtype\": \"number\",\n        \"std\": 7,\n        \"min\": 4,\n        \"max\": 19,\n        \"num_unique_values\": 3,\n        \"samples\": [\n          4,\n          7,\n          19\n        ],\n        \"semantic_type\": \"\",\n        \"description\": \"\"\n      }\n    },\n    {\n      \"column\": \"title\",\n      \"properties\": {\n        \"dtype\": \"string\",\n        \"num_unique_values\": 3,\n        \"samples\": [\n          \"Bad Romance\",\n          \"Dynamite\",\n          \"Alejandro\"\n        ],\n        \"semantic_type\": \"\",\n        \"description\": \"\"\n      }\n    },\n    {\n      \"column\": \"artist\",\n      \"properties\": {\n        \"dtype\": \"string\",\n        \"num_unique_values\": 2,\n        \"samples\": [\n          \"Taio Cruz\",\n          \"Lady Gaga\"\n        ],\n        \"semantic_type\": \"\",\n        \"description\": \"\"\n      }\n    },\n    {\n      \"column\": \"top genre\",\n      \"properties\": {\n        \"dtype\": \"category\",\n        \"num_unique_values\": 1,\n        \"samples\": [\n          \"dance pop\"\n        ],\n        \"semantic_type\": \"\",\n        \"description\": \"\"\n      }\n    },\n    {\n      \"column\": \"year\",\n      \"properties\": {\n        \"dtype\": \"number\",\n        \"std\": 0,\n        \"min\": 2010,\n        \"max\": 2010,\n        \"num_unique_values\": 1,\n        \"samples\": [\n          2010\n        ],\n        \"semantic_type\": \"\",\n        \"description\": \"\"\n      }\n    },\n    {\n      \"column\": \"bpm\",\n      \"properties\": {\n        \"dtype\": \"number\",\n        \"std\": 11,\n        \"min\": 99,\n        \"max\": 120,\n        \"num_unique_values\": 3,\n        \"samples\": [\n          119\n        ],\n        \"semantic_type\": \"\",\n        \"description\": \"\"\n      }\n    },\n    {\n      \"column\": \"nrgy\",\n      \"properties\": {\n        \"dtype\": \"number\",\n        \"std\": 7,\n        \"min\": 78,\n        \"max\": 92,\n        \"num_unique_values\": 3,\n        \"samples\": [\n          92\n        ],\n        \"semantic_type\": \"\",\n        \"description\": \"\"\n      }\n    },\n    {\n      \"column\": \"dnce\",\n      \"properties\": {\n        \"dtype\": \"number\",\n        \"std\": 6,\n        \"min\": 63,\n        \"max\": 75,\n        \"num_unique_values\": 3,\n        \"samples\": [\n          70\n        ],\n        \"semantic_type\": \"\",\n        \"description\": \"\"\n      }\n    },\n    {\n      \"column\": \"dB\",\n      \"properties\": {\n        \"dtype\": \"number\",\n        \"std\": 1,\n        \"min\": -7,\n        \"max\": -4,\n        \"num_unique_values\": 2,\n        \"samples\": [\n          -7\n        ],\n        \"semantic_type\": \"\",\n        \"description\": \"\"\n      }\n    },\n    {\n      \"column\": \"live\",\n      \"properties\": {\n        \"dtype\": \"number\",\n        \"std\": 17,\n        \"min\": 4,\n        \"max\": 36,\n        \"num_unique_values\": 3,\n        \"samples\": [\n          8\n        ],\n        \"semantic_type\": \"\",\n        \"description\": \"\"\n      }\n    },\n    {\n      \"column\": \"val\",\n      \"properties\": {\n        \"dtype\": \"number\",\n        \"std\": 23,\n        \"min\": 37,\n        \"max\": 82,\n        \"num_unique_values\": 3,\n        \"samples\": [\n          71\n        ],\n        \"semantic_type\": \"\",\n        \"description\": \"\"\n      }\n    },\n    {\n      \"column\": \"dur\",\n      \"properties\": {\n        \"dtype\": \"number\",\n        \"std\": 48,\n        \"min\": 203,\n        \"max\": 295,\n        \"num_unique_values\": 3,\n        \"samples\": [\n          295\n        ],\n        \"semantic_type\": \"\",\n        \"description\": \"\"\n      }\n    },\n    {\n      \"column\": \"acous\",\n      \"properties\": {\n        \"dtype\": \"number\",\n        \"std\": 0,\n        \"min\": 0,\n        \"max\": 0,\n        \"num_unique_values\": 1,\n        \"samples\": [\n          0\n        ],\n        \"semantic_type\": \"\",\n        \"description\": \"\"\n      }\n    },\n    {\n      \"column\": \"spch\",\n      \"properties\": {\n        \"dtype\": \"number\",\n        \"std\": 2,\n        \"min\": 4,\n        \"max\": 9,\n        \"num_unique_values\": 3,\n        \"samples\": [\n          4\n        ],\n        \"semantic_type\": \"\",\n        \"description\": \"\"\n      }\n    },\n    {\n      \"column\": \"pop\",\n      \"properties\": {\n        \"dtype\": \"number\",\n        \"std\": 5,\n        \"min\": 69,\n        \"max\": 79,\n        \"num_unique_values\": 3,\n        \"samples\": [\n          79\n        ],\n        \"semantic_type\": \"\",\n        \"description\": \"\"\n      }\n    }\n  ]\n}"
            }
          },
          "metadata": {},
          "execution_count": 26
        }
      ]
    },
    {
      "cell_type": "markdown",
      "source": [
        "Agora vamos observar os 3 maiores"
      ],
      "metadata": {
        "id": "qlVTarSdvNv6"
      }
    },
    {
      "cell_type": "code",
      "source": [
        "# Observando as 3 linhas com os valores mais altos em 'acous'\n",
        "df.nlargest(3, 'acous')"
      ],
      "metadata": {
        "colab": {
          "base_uri": "https://localhost:8080/",
          "height": 143
        },
        "id": "CzIPgDh0vUNK",
        "outputId": "8e0547d7-204d-4d26-f989-5797aede4580"
      },
      "execution_count": 28,
      "outputs": [
        {
          "output_type": "execute_result",
          "data": {
            "text/plain": [
              "     Unnamed: 0             title       artist   top genre  year  bpm  nrgy  \\\n",
              "431         432             Start  John Legend  neo mellow  2016  110     4   \n",
              "255         256  Not About Angels        Birdy  neo mellow  2014  116    14   \n",
              "186         187             Clown  Emeli Sandé   dance pop  2013  130    23   \n",
              "\n",
              "     dnce  dB  live  val  dur  acous  spch  pop  \n",
              "431    52 -15     9   26  310     99     4   47  \n",
              "255    41 -10     9   23  190     97     4   56  \n",
              "186    45  -8    11   23  221     92     4   60  "
            ],
            "text/html": [
              "\n",
              "  <div id=\"df-8f0691a4-c3fe-4870-9a53-2338afc32d8f\" class=\"colab-df-container\">\n",
              "    <div>\n",
              "<style scoped>\n",
              "    .dataframe tbody tr th:only-of-type {\n",
              "        vertical-align: middle;\n",
              "    }\n",
              "\n",
              "    .dataframe tbody tr th {\n",
              "        vertical-align: top;\n",
              "    }\n",
              "\n",
              "    .dataframe thead th {\n",
              "        text-align: right;\n",
              "    }\n",
              "</style>\n",
              "<table border=\"1\" class=\"dataframe\">\n",
              "  <thead>\n",
              "    <tr style=\"text-align: right;\">\n",
              "      <th></th>\n",
              "      <th>Unnamed: 0</th>\n",
              "      <th>title</th>\n",
              "      <th>artist</th>\n",
              "      <th>top genre</th>\n",
              "      <th>year</th>\n",
              "      <th>bpm</th>\n",
              "      <th>nrgy</th>\n",
              "      <th>dnce</th>\n",
              "      <th>dB</th>\n",
              "      <th>live</th>\n",
              "      <th>val</th>\n",
              "      <th>dur</th>\n",
              "      <th>acous</th>\n",
              "      <th>spch</th>\n",
              "      <th>pop</th>\n",
              "    </tr>\n",
              "  </thead>\n",
              "  <tbody>\n",
              "    <tr>\n",
              "      <th>431</th>\n",
              "      <td>432</td>\n",
              "      <td>Start</td>\n",
              "      <td>John Legend</td>\n",
              "      <td>neo mellow</td>\n",
              "      <td>2016</td>\n",
              "      <td>110</td>\n",
              "      <td>4</td>\n",
              "      <td>52</td>\n",
              "      <td>-15</td>\n",
              "      <td>9</td>\n",
              "      <td>26</td>\n",
              "      <td>310</td>\n",
              "      <td>99</td>\n",
              "      <td>4</td>\n",
              "      <td>47</td>\n",
              "    </tr>\n",
              "    <tr>\n",
              "      <th>255</th>\n",
              "      <td>256</td>\n",
              "      <td>Not About Angels</td>\n",
              "      <td>Birdy</td>\n",
              "      <td>neo mellow</td>\n",
              "      <td>2014</td>\n",
              "      <td>116</td>\n",
              "      <td>14</td>\n",
              "      <td>41</td>\n",
              "      <td>-10</td>\n",
              "      <td>9</td>\n",
              "      <td>23</td>\n",
              "      <td>190</td>\n",
              "      <td>97</td>\n",
              "      <td>4</td>\n",
              "      <td>56</td>\n",
              "    </tr>\n",
              "    <tr>\n",
              "      <th>186</th>\n",
              "      <td>187</td>\n",
              "      <td>Clown</td>\n",
              "      <td>Emeli Sandé</td>\n",
              "      <td>dance pop</td>\n",
              "      <td>2013</td>\n",
              "      <td>130</td>\n",
              "      <td>23</td>\n",
              "      <td>45</td>\n",
              "      <td>-8</td>\n",
              "      <td>11</td>\n",
              "      <td>23</td>\n",
              "      <td>221</td>\n",
              "      <td>92</td>\n",
              "      <td>4</td>\n",
              "      <td>60</td>\n",
              "    </tr>\n",
              "  </tbody>\n",
              "</table>\n",
              "</div>\n",
              "    <div class=\"colab-df-buttons\">\n",
              "\n",
              "  <div class=\"colab-df-container\">\n",
              "    <button class=\"colab-df-convert\" onclick=\"convertToInteractive('df-8f0691a4-c3fe-4870-9a53-2338afc32d8f')\"\n",
              "            title=\"Convert this dataframe to an interactive table.\"\n",
              "            style=\"display:none;\">\n",
              "\n",
              "  <svg xmlns=\"http://www.w3.org/2000/svg\" height=\"24px\" viewBox=\"0 -960 960 960\">\n",
              "    <path d=\"M120-120v-720h720v720H120Zm60-500h600v-160H180v160Zm220 220h160v-160H400v160Zm0 220h160v-160H400v160ZM180-400h160v-160H180v160Zm440 0h160v-160H620v160ZM180-180h160v-160H180v160Zm440 0h160v-160H620v160Z\"/>\n",
              "  </svg>\n",
              "    </button>\n",
              "\n",
              "  <style>\n",
              "    .colab-df-container {\n",
              "      display:flex;\n",
              "      gap: 12px;\n",
              "    }\n",
              "\n",
              "    .colab-df-convert {\n",
              "      background-color: #E8F0FE;\n",
              "      border: none;\n",
              "      border-radius: 50%;\n",
              "      cursor: pointer;\n",
              "      display: none;\n",
              "      fill: #1967D2;\n",
              "      height: 32px;\n",
              "      padding: 0 0 0 0;\n",
              "      width: 32px;\n",
              "    }\n",
              "\n",
              "    .colab-df-convert:hover {\n",
              "      background-color: #E2EBFA;\n",
              "      box-shadow: 0px 1px 2px rgba(60, 64, 67, 0.3), 0px 1px 3px 1px rgba(60, 64, 67, 0.15);\n",
              "      fill: #174EA6;\n",
              "    }\n",
              "\n",
              "    .colab-df-buttons div {\n",
              "      margin-bottom: 4px;\n",
              "    }\n",
              "\n",
              "    [theme=dark] .colab-df-convert {\n",
              "      background-color: #3B4455;\n",
              "      fill: #D2E3FC;\n",
              "    }\n",
              "\n",
              "    [theme=dark] .colab-df-convert:hover {\n",
              "      background-color: #434B5C;\n",
              "      box-shadow: 0px 1px 3px 1px rgba(0, 0, 0, 0.15);\n",
              "      filter: drop-shadow(0px 1px 2px rgba(0, 0, 0, 0.3));\n",
              "      fill: #FFFFFF;\n",
              "    }\n",
              "  </style>\n",
              "\n",
              "    <script>\n",
              "      const buttonEl =\n",
              "        document.querySelector('#df-8f0691a4-c3fe-4870-9a53-2338afc32d8f button.colab-df-convert');\n",
              "      buttonEl.style.display =\n",
              "        google.colab.kernel.accessAllowed ? 'block' : 'none';\n",
              "\n",
              "      async function convertToInteractive(key) {\n",
              "        const element = document.querySelector('#df-8f0691a4-c3fe-4870-9a53-2338afc32d8f');\n",
              "        const dataTable =\n",
              "          await google.colab.kernel.invokeFunction('convertToInteractive',\n",
              "                                                    [key], {});\n",
              "        if (!dataTable) return;\n",
              "\n",
              "        const docLinkHtml = 'Like what you see? Visit the ' +\n",
              "          '<a target=\"_blank\" href=https://colab.research.google.com/notebooks/data_table.ipynb>data table notebook</a>'\n",
              "          + ' to learn more about interactive tables.';\n",
              "        element.innerHTML = '';\n",
              "        dataTable['output_type'] = 'display_data';\n",
              "        await google.colab.output.renderOutput(dataTable, element);\n",
              "        const docLink = document.createElement('div');\n",
              "        docLink.innerHTML = docLinkHtml;\n",
              "        element.appendChild(docLink);\n",
              "      }\n",
              "    </script>\n",
              "  </div>\n",
              "\n",
              "\n",
              "<div id=\"df-8e423604-77bd-4cc9-8b03-250813824f9a\">\n",
              "  <button class=\"colab-df-quickchart\" onclick=\"quickchart('df-8e423604-77bd-4cc9-8b03-250813824f9a')\"\n",
              "            title=\"Suggest charts\"\n",
              "            style=\"display:none;\">\n",
              "\n",
              "<svg xmlns=\"http://www.w3.org/2000/svg\" height=\"24px\"viewBox=\"0 0 24 24\"\n",
              "     width=\"24px\">\n",
              "    <g>\n",
              "        <path d=\"M19 3H5c-1.1 0-2 .9-2 2v14c0 1.1.9 2 2 2h14c1.1 0 2-.9 2-2V5c0-1.1-.9-2-2-2zM9 17H7v-7h2v7zm4 0h-2V7h2v10zm4 0h-2v-4h2v4z\"/>\n",
              "    </g>\n",
              "</svg>\n",
              "  </button>\n",
              "\n",
              "<style>\n",
              "  .colab-df-quickchart {\n",
              "      --bg-color: #E8F0FE;\n",
              "      --fill-color: #1967D2;\n",
              "      --hover-bg-color: #E2EBFA;\n",
              "      --hover-fill-color: #174EA6;\n",
              "      --disabled-fill-color: #AAA;\n",
              "      --disabled-bg-color: #DDD;\n",
              "  }\n",
              "\n",
              "  [theme=dark] .colab-df-quickchart {\n",
              "      --bg-color: #3B4455;\n",
              "      --fill-color: #D2E3FC;\n",
              "      --hover-bg-color: #434B5C;\n",
              "      --hover-fill-color: #FFFFFF;\n",
              "      --disabled-bg-color: #3B4455;\n",
              "      --disabled-fill-color: #666;\n",
              "  }\n",
              "\n",
              "  .colab-df-quickchart {\n",
              "    background-color: var(--bg-color);\n",
              "    border: none;\n",
              "    border-radius: 50%;\n",
              "    cursor: pointer;\n",
              "    display: none;\n",
              "    fill: var(--fill-color);\n",
              "    height: 32px;\n",
              "    padding: 0;\n",
              "    width: 32px;\n",
              "  }\n",
              "\n",
              "  .colab-df-quickchart:hover {\n",
              "    background-color: var(--hover-bg-color);\n",
              "    box-shadow: 0 1px 2px rgba(60, 64, 67, 0.3), 0 1px 3px 1px rgba(60, 64, 67, 0.15);\n",
              "    fill: var(--button-hover-fill-color);\n",
              "  }\n",
              "\n",
              "  .colab-df-quickchart-complete:disabled,\n",
              "  .colab-df-quickchart-complete:disabled:hover {\n",
              "    background-color: var(--disabled-bg-color);\n",
              "    fill: var(--disabled-fill-color);\n",
              "    box-shadow: none;\n",
              "  }\n",
              "\n",
              "  .colab-df-spinner {\n",
              "    border: 2px solid var(--fill-color);\n",
              "    border-color: transparent;\n",
              "    border-bottom-color: var(--fill-color);\n",
              "    animation:\n",
              "      spin 1s steps(1) infinite;\n",
              "  }\n",
              "\n",
              "  @keyframes spin {\n",
              "    0% {\n",
              "      border-color: transparent;\n",
              "      border-bottom-color: var(--fill-color);\n",
              "      border-left-color: var(--fill-color);\n",
              "    }\n",
              "    20% {\n",
              "      border-color: transparent;\n",
              "      border-left-color: var(--fill-color);\n",
              "      border-top-color: var(--fill-color);\n",
              "    }\n",
              "    30% {\n",
              "      border-color: transparent;\n",
              "      border-left-color: var(--fill-color);\n",
              "      border-top-color: var(--fill-color);\n",
              "      border-right-color: var(--fill-color);\n",
              "    }\n",
              "    40% {\n",
              "      border-color: transparent;\n",
              "      border-right-color: var(--fill-color);\n",
              "      border-top-color: var(--fill-color);\n",
              "    }\n",
              "    60% {\n",
              "      border-color: transparent;\n",
              "      border-right-color: var(--fill-color);\n",
              "    }\n",
              "    80% {\n",
              "      border-color: transparent;\n",
              "      border-right-color: var(--fill-color);\n",
              "      border-bottom-color: var(--fill-color);\n",
              "    }\n",
              "    90% {\n",
              "      border-color: transparent;\n",
              "      border-bottom-color: var(--fill-color);\n",
              "    }\n",
              "  }\n",
              "</style>\n",
              "\n",
              "  <script>\n",
              "    async function quickchart(key) {\n",
              "      const quickchartButtonEl =\n",
              "        document.querySelector('#' + key + ' button');\n",
              "      quickchartButtonEl.disabled = true;  // To prevent multiple clicks.\n",
              "      quickchartButtonEl.classList.add('colab-df-spinner');\n",
              "      try {\n",
              "        const charts = await google.colab.kernel.invokeFunction(\n",
              "            'suggestCharts', [key], {});\n",
              "      } catch (error) {\n",
              "        console.error('Error during call to suggestCharts:', error);\n",
              "      }\n",
              "      quickchartButtonEl.classList.remove('colab-df-spinner');\n",
              "      quickchartButtonEl.classList.add('colab-df-quickchart-complete');\n",
              "    }\n",
              "    (() => {\n",
              "      let quickchartButtonEl =\n",
              "        document.querySelector('#df-8e423604-77bd-4cc9-8b03-250813824f9a button');\n",
              "      quickchartButtonEl.style.display =\n",
              "        google.colab.kernel.accessAllowed ? 'block' : 'none';\n",
              "    })();\n",
              "  </script>\n",
              "</div>\n",
              "\n",
              "    </div>\n",
              "  </div>\n"
            ],
            "application/vnd.google.colaboratory.intrinsic+json": {
              "type": "dataframe",
              "summary": "{\n  \"name\": \"df\",\n  \"rows\": 3,\n  \"fields\": [\n    {\n      \"column\": \"Unnamed: 0\",\n      \"properties\": {\n        \"dtype\": \"number\",\n        \"std\": 126,\n        \"min\": 187,\n        \"max\": 432,\n        \"num_unique_values\": 3,\n        \"samples\": [\n          432,\n          256,\n          187\n        ],\n        \"semantic_type\": \"\",\n        \"description\": \"\"\n      }\n    },\n    {\n      \"column\": \"title\",\n      \"properties\": {\n        \"dtype\": \"string\",\n        \"num_unique_values\": 3,\n        \"samples\": [\n          \"Start\",\n          \"Not About Angels\",\n          \"Clown\"\n        ],\n        \"semantic_type\": \"\",\n        \"description\": \"\"\n      }\n    },\n    {\n      \"column\": \"artist\",\n      \"properties\": {\n        \"dtype\": \"string\",\n        \"num_unique_values\": 3,\n        \"samples\": [\n          \"John Legend\",\n          \"Birdy\",\n          \"Emeli Sand\\u00e9\"\n        ],\n        \"semantic_type\": \"\",\n        \"description\": \"\"\n      }\n    },\n    {\n      \"column\": \"top genre\",\n      \"properties\": {\n        \"dtype\": \"string\",\n        \"num_unique_values\": 2,\n        \"samples\": [\n          \"dance pop\",\n          \"neo mellow\"\n        ],\n        \"semantic_type\": \"\",\n        \"description\": \"\"\n      }\n    },\n    {\n      \"column\": \"year\",\n      \"properties\": {\n        \"dtype\": \"number\",\n        \"std\": 1,\n        \"min\": 2013,\n        \"max\": 2016,\n        \"num_unique_values\": 3,\n        \"samples\": [\n          2016,\n          2014\n        ],\n        \"semantic_type\": \"\",\n        \"description\": \"\"\n      }\n    },\n    {\n      \"column\": \"bpm\",\n      \"properties\": {\n        \"dtype\": \"number\",\n        \"std\": 10,\n        \"min\": 110,\n        \"max\": 130,\n        \"num_unique_values\": 3,\n        \"samples\": [\n          110,\n          116\n        ],\n        \"semantic_type\": \"\",\n        \"description\": \"\"\n      }\n    },\n    {\n      \"column\": \"nrgy\",\n      \"properties\": {\n        \"dtype\": \"number\",\n        \"std\": 9,\n        \"min\": 4,\n        \"max\": 23,\n        \"num_unique_values\": 3,\n        \"samples\": [\n          4,\n          14\n        ],\n        \"semantic_type\": \"\",\n        \"description\": \"\"\n      }\n    },\n    {\n      \"column\": \"dnce\",\n      \"properties\": {\n        \"dtype\": \"number\",\n        \"std\": 5,\n        \"min\": 41,\n        \"max\": 52,\n        \"num_unique_values\": 3,\n        \"samples\": [\n          52,\n          41\n        ],\n        \"semantic_type\": \"\",\n        \"description\": \"\"\n      }\n    },\n    {\n      \"column\": \"dB\",\n      \"properties\": {\n        \"dtype\": \"number\",\n        \"std\": 3,\n        \"min\": -15,\n        \"max\": -8,\n        \"num_unique_values\": 3,\n        \"samples\": [\n          -15,\n          -10\n        ],\n        \"semantic_type\": \"\",\n        \"description\": \"\"\n      }\n    },\n    {\n      \"column\": \"live\",\n      \"properties\": {\n        \"dtype\": \"number\",\n        \"std\": 1,\n        \"min\": 9,\n        \"max\": 11,\n        \"num_unique_values\": 2,\n        \"samples\": [\n          11,\n          9\n        ],\n        \"semantic_type\": \"\",\n        \"description\": \"\"\n      }\n    },\n    {\n      \"column\": \"val\",\n      \"properties\": {\n        \"dtype\": \"number\",\n        \"std\": 1,\n        \"min\": 23,\n        \"max\": 26,\n        \"num_unique_values\": 2,\n        \"samples\": [\n          23,\n          26\n        ],\n        \"semantic_type\": \"\",\n        \"description\": \"\"\n      }\n    },\n    {\n      \"column\": \"dur\",\n      \"properties\": {\n        \"dtype\": \"number\",\n        \"std\": 62,\n        \"min\": 190,\n        \"max\": 310,\n        \"num_unique_values\": 3,\n        \"samples\": [\n          310,\n          190\n        ],\n        \"semantic_type\": \"\",\n        \"description\": \"\"\n      }\n    },\n    {\n      \"column\": \"acous\",\n      \"properties\": {\n        \"dtype\": \"number\",\n        \"std\": 3,\n        \"min\": 92,\n        \"max\": 99,\n        \"num_unique_values\": 3,\n        \"samples\": [\n          99,\n          97\n        ],\n        \"semantic_type\": \"\",\n        \"description\": \"\"\n      }\n    },\n    {\n      \"column\": \"spch\",\n      \"properties\": {\n        \"dtype\": \"number\",\n        \"std\": 0,\n        \"min\": 4,\n        \"max\": 4,\n        \"num_unique_values\": 1,\n        \"samples\": [\n          4\n        ],\n        \"semantic_type\": \"\",\n        \"description\": \"\"\n      }\n    },\n    {\n      \"column\": \"pop\",\n      \"properties\": {\n        \"dtype\": \"number\",\n        \"std\": 6,\n        \"min\": 47,\n        \"max\": 60,\n        \"num_unique_values\": 3,\n        \"samples\": [\n          47\n        ],\n        \"semantic_type\": \"\",\n        \"description\": \"\"\n      }\n    }\n  ]\n}"
            }
          },
          "metadata": {},
          "execution_count": 28
        }
      ]
    }
  ]
}