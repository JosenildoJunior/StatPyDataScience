{
  "nbformat": 4,
  "nbformat_minor": 0,
  "metadata": {
    "colab": {
      "provenance": [],
      "collapsed_sections": [
        "4ztrhRW2Akxg",
        "SzN5yWvU9M0O",
        "5omOarakRumL",
        "ng3gqxvsSxzz",
        "5n_ZtomfUEwC",
        "IjE-KtdMRZZM",
        "wrLoJUHYX-lO",
        "oj3HGQPI5jMq",
        "NtgxTb4K44qg",
        "4RyIm8cR7G4g",
        "vuSPyxQy77zx",
        "GLugMzTMAJCb",
        "_FszjS22EJYm",
        "qTseIXALLNMl",
        "2SAS1dzUJHOc",
        "q5R0vDtHRSym"
      ],
      "authorship_tag": "ABX9TyOKe929QwVQhqtio64aA4/Y",
      "include_colab_link": true
    },
    "kernelspec": {
      "name": "python3",
      "display_name": "Python 3"
    },
    "language_info": {
      "name": "python"
    }
  },
  "cells": [
    {
      "cell_type": "markdown",
      "metadata": {
        "id": "view-in-github",
        "colab_type": "text"
      },
      "source": [
        "<a href=\"https://colab.research.google.com/github/JosenildoJunior/StatPyDataScience/blob/main/Python_b%C3%A1sico.ipynb\" target=\"_parent\"><img src=\"https://colab.research.google.com/assets/colab-badge.svg\" alt=\"Open In Colab\"/></a>"
      ]
    },
    {
      "cell_type": "markdown",
      "source": [
        "# Estatística com Python: Um Guia para Estudos e Solução de Problemas\n"
      ],
      "metadata": {
        "id": "mn7HfIIdzcrR"
      }
    },
    {
      "cell_type": "markdown",
      "source": [
        "## Neste módulo, vamos aprender sobre os conceitos básicos de Python, incluindo:\n",
        "\n",
        "* **Variáveis:** Como declarar e usar variáveis para armazenar dados.\n",
        "* **Tipos de dados:** Os diferentes tipos de dados que podem ser armazenados em variáveis.\n",
        "* **Operadores:** Como realizar operações matemáticas e lógicas.\n",
        "* **Estruturas de controle:** Como controlar o fluxo de execução de seu código."
      ],
      "metadata": {
        "id": "OfdLi8no0of7"
      }
    },
    {
      "cell_type": "markdown",
      "source": [
        "## **Variáveis**"
      ],
      "metadata": {
        "id": "4ztrhRW2Akxg"
      }
    },
    {
      "cell_type": "markdown",
      "source": [
        "Uma variável é um local na memória do computador destinado ao armazenamento de valores. Para ilustrar esse conceito, considere o exemplo de armazenar a idade de uma pessoa, como 27 anos, em uma variável. No contexto do Python, como poderíamos realizar essa operação?"
      ],
      "metadata": {
        "id": "kpQTRkt4BBAh"
      }
    },
    {
      "cell_type": "code",
      "source": [
        "# Criando a variável\n",
        "idade = 27"
      ],
      "metadata": {
        "id": "8miR14uZAm8N"
      },
      "execution_count": null,
      "outputs": []
    },
    {
      "cell_type": "markdown",
      "source": [
        "Podemos observar que para criar uma variável, basta escolher um nome e, em seguida, utilizar o símbolo de igual (=), que funciona como uma atribuição. Portanto, ao usar essa abordagem, criamos uma variável chamada 'idade' e a associamos ao valor 27."
      ],
      "metadata": {
        "id": "0AotZ86UB5ZG"
      }
    },
    {
      "cell_type": "markdown",
      "source": [
        "Agora que a variável foi declarada, podemos acessar seu valor a qualquer momento necessário. Utilizaremos a função 'print' para exibir o valor contido na variável."
      ],
      "metadata": {
        "id": "4C8D6_YTCVdR"
      }
    },
    {
      "cell_type": "code",
      "source": [
        "# Exibindo o valor\n",
        "print(idade)"
      ],
      "metadata": {
        "colab": {
          "base_uri": "https://localhost:8080/"
        },
        "id": "yj5DFZ8oCrzA",
        "outputId": "8cd87374-62f0-443b-ac8b-1e7125fafdfb"
      },
      "execution_count": null,
      "outputs": [
        {
          "output_type": "stream",
          "name": "stdout",
          "text": [
            "27\n"
          ]
        }
      ]
    },
    {
      "cell_type": "markdown",
      "source": [
        "\n",
        "Dessa forma, podemos imprimir o valor da variável sempre que necessário. É importante lembrar que após ser declarada, uma variável pode ser acessada e modificada usando seu nome. Vamos alterar o valor da idade para 20."
      ],
      "metadata": {
        "id": "lvPENQ-ZCv4u"
      }
    },
    {
      "cell_type": "code",
      "source": [
        "# Alterando o valor da variável\n",
        "idade = 20"
      ],
      "metadata": {
        "id": "37qEXiYPDEFG"
      },
      "execution_count": null,
      "outputs": []
    },
    {
      "cell_type": "markdown",
      "source": [
        "Para realizar essa alteração, bastou utilizarmos a mesma variável, porém, ao atribuirmos um valor diferente, ela automaticamente sobrescreveu o antigo valor que continha. Dessa forma, a variável 'idade' passou a ter o valor de 20, diferentemente da primeira vez em que a criamos, quando seu valor era 27."
      ],
      "metadata": {
        "id": "mCnS-4r8DJCU"
      }
    },
    {
      "cell_type": "code",
      "source": [
        "# Exibindo o valor\n",
        "print(idade)"
      ],
      "metadata": {
        "colab": {
          "base_uri": "https://localhost:8080/"
        },
        "id": "gQ8axG6TDasb",
        "outputId": "14a6cd11-f55e-46a5-c26f-5b39ea724cab"
      },
      "execution_count": null,
      "outputs": [
        {
          "output_type": "stream",
          "name": "stdout",
          "text": [
            "20\n"
          ]
        }
      ]
    },
    {
      "cell_type": "markdown",
      "source": [
        "Podemos confirmar, então, que o valor da variável foi alterado. As variáveis são uma ferramenta fundamental na programação em Python, permitindo-nos armazenar dados e manipulá-los de forma eficiente."
      ],
      "metadata": {
        "id": "qde6SaKGDd2r"
      }
    },
    {
      "cell_type": "markdown",
      "source": [
        "## **Tipos de dados**"
      ],
      "metadata": {
        "id": "SzN5yWvU9M0O"
      }
    },
    {
      "cell_type": "markdown",
      "source": [
        "Os tipos de dados determinam o tipo de valor que pode ser armazenado em uma variável. Os tipos de dados mais comuns são:\n",
        "\n",
        "- Inteiro: armazena números inteiros, como 1, 2, 3, etc.\n",
        "- Ponto flutuante: armazena números de ponto flutuante, como 1.0, 2.5, 3.14159, etc.\n",
        "- Booleano: armazena valores lógicos, como True (verdadeiro) ou False (falso).\n",
        "- String: armazena texto, como \"Olá, mundo!\".\n",
        "- Date: armazenar informações de data, como (2024, 1, 10)\n",
        "\n"
      ],
      "metadata": {
        "id": "cVHNewKgPuli"
      }
    },
    {
      "cell_type": "markdown",
      "source": [
        "### **Int (Inteiros)**"
      ],
      "metadata": {
        "id": "5omOarakRumL"
      }
    },
    {
      "cell_type": "markdown",
      "source": [
        "Como já vimos anteriormente, variáveis do tipo int representam números inteiros, como a idade de alguém, por exemplo. Ao declararmos uma variável e atribuirmos a ela um valor numérico inteiro, ela será automaticamente do tipo int. Vamos observar com um exemplo:"
      ],
      "metadata": {
        "id": "OsYFY0F0Rw7g"
      }
    },
    {
      "cell_type": "code",
      "source": [
        "# Criando uma variável do tipo int\n",
        "gols = 2"
      ],
      "metadata": {
        "id": "WvkGNIHySEqv"
      },
      "execution_count": null,
      "outputs": []
    },
    {
      "cell_type": "markdown",
      "source": [
        "Criamos uma variável chamada 'gols' e atribuímos a ela um valor inteiro. Para garantir que essa variável seja do tipo int, podemos utilizar a função chamada 'type'. Esta função retornará o tipo da variável, seja qual for."
      ],
      "metadata": {
        "id": "n_KDrV9ySNwG"
      }
    },
    {
      "cell_type": "code",
      "source": [
        "# Observando o tipo da variável\n",
        "type(gols)"
      ],
      "metadata": {
        "colab": {
          "base_uri": "https://localhost:8080/"
        },
        "id": "M4cvY2_pSdQc",
        "outputId": "b6766da7-ed88-4c50-ceba-6b8b5343d45d"
      },
      "execution_count": null,
      "outputs": [
        {
          "output_type": "execute_result",
          "data": {
            "text/plain": [
              "int"
            ]
          },
          "metadata": {},
          "execution_count": 7
        }
      ]
    },
    {
      "cell_type": "markdown",
      "source": [
        "Ao observar o resultado da função 'type' e encontrar 'int', confirmamos que a variável é do tipo inteiro. Isso é uma maneira útil de verificar o tipo de variável que estamos manipulando em Python."
      ],
      "metadata": {
        "id": "kygsEUV-Sglz"
      }
    },
    {
      "cell_type": "markdown",
      "source": [
        "### **Float (Ponto flutuante)**"
      ],
      "metadata": {
        "id": "ng3gqxvsSxzz"
      }
    },
    {
      "cell_type": "markdown",
      "source": [
        "No tipo float, os dados armazenados representam números reais com casas decimais, como 1.0, 2.5 e 3.14159. Vamos explorar mais a fundo para uma compreensão mais ampla."
      ],
      "metadata": {
        "id": "mgH2T0DxS3JZ"
      }
    },
    {
      "cell_type": "code",
      "source": [
        "# Criando a variável do tipo float\n",
        "altura = 1.74"
      ],
      "metadata": {
        "id": "2XhD7regTX59"
      },
      "execution_count": null,
      "outputs": []
    },
    {
      "cell_type": "markdown",
      "source": [
        "Para exemplificar, criamos uma variável que recebe a altura de um indivíduo em metros. Por se tratar de um valor real, podemos concluir que é do tipo float, mas vamos confirmar.\n",
        "\n"
      ],
      "metadata": {
        "id": "NNgjN43iTgJ1"
      }
    },
    {
      "cell_type": "code",
      "source": [
        "# Observando o tipo da variável\n",
        "type(altura)"
      ],
      "metadata": {
        "colab": {
          "base_uri": "https://localhost:8080/"
        },
        "id": "mtWU6rGfTz0l",
        "outputId": "e6eafd67-228a-42ea-d6ff-0e3cbc69aefd"
      },
      "execution_count": null,
      "outputs": [
        {
          "output_type": "execute_result",
          "data": {
            "text/plain": [
              "float"
            ]
          },
          "metadata": {},
          "execution_count": 12
        }
      ]
    },
    {
      "cell_type": "markdown",
      "source": [
        "E é exatamente isso que confirmamos ao executarmos a função `type`. Percebemos que a saída foi float, confirmando que esse dado se trata de um valor do tipo float."
      ],
      "metadata": {
        "id": "Q19OAgWYT3BS"
      }
    },
    {
      "cell_type": "markdown",
      "source": [
        "### **Bool (Booleano)**"
      ],
      "metadata": {
        "id": "5n_ZtomfUEwC"
      }
    },
    {
      "cell_type": "markdown",
      "source": [
        "\n",
        "Os dados booleanos, ou bool, são dados que só podem receber dois valores: verdadeiro (True) ou falso (False). Eles são usados para representar valores lógicos, como a verdade ou falsidade de uma afirmação."
      ],
      "metadata": {
        "id": "XxhwIlxJUSZg"
      }
    },
    {
      "cell_type": "code",
      "source": [
        "# Criando a variável do tipo bool\n",
        "falso = False\n",
        "\n",
        "# Criando a variável do tipo bool\n",
        "verdadeiro = True\n",
        "\n",
        "# Criando a variável do tipo bool\n",
        "casa = False"
      ],
      "metadata": {
        "id": "0BxqqMnAUVkw"
      },
      "execution_count": null,
      "outputs": []
    },
    {
      "cell_type": "markdown",
      "source": [
        "É importante frisar que o tipo da variável é independente do nome. O que realmente importa para determinar o tipo da variável é o conteúdo. Neste exemplo, foram criadas três variáveis, todas recebendo valores booleanos, que podem ser verdadeiro ou falso. Apesar de terem nomes diferentes, os conteúdos são do mesmo tipo. Portanto, ao utilizarmos a função 'type', o resultado será o mesmo. Vamos conferir."
      ],
      "metadata": {
        "id": "ervCZShoUrBV"
      }
    },
    {
      "cell_type": "code",
      "source": [
        "# Observando o tipo da variável\n",
        "type(falso), type(verdadeiro), type(casa)"
      ],
      "metadata": {
        "colab": {
          "base_uri": "https://localhost:8080/"
        },
        "id": "U5f4raz1VHn6",
        "outputId": "851dec01-8a7c-4a4f-d905-d8b95a298e19"
      },
      "execution_count": null,
      "outputs": [
        {
          "output_type": "execute_result",
          "data": {
            "text/plain": [
              "(bool, bool, bool)"
            ]
          },
          "metadata": {},
          "execution_count": 14
        }
      ]
    },
    {
      "cell_type": "markdown",
      "source": [
        "Podemos observar, então, que em todos os casos o tipo de dado é o mesmo; ambas são do tipo booleano."
      ],
      "metadata": {
        "id": "lEM3gwc_VQxI"
      }
    },
    {
      "cell_type": "markdown",
      "source": [
        "### **String (Texto)**"
      ],
      "metadata": {
        "id": "IjE-KtdMRZZM"
      }
    },
    {
      "cell_type": "markdown",
      "source": [
        "Strings são dados do tipo texto; normalmente, esse tipo de dado está entre aspas. Logo, se declararmos uma variável com um nome qualquer e seu conteúdo estiver entre aspas (sejam elas simples ou duplas), isso implica que o conteúdo daquela variável será do tipo string. Vamos ver no exemplo a seguir."
      ],
      "metadata": {
        "id": "ZkgPuBRFPzXA"
      }
    },
    {
      "cell_type": "code",
      "execution_count": null,
      "metadata": {
        "id": "CVmx-gJTzNIj"
      },
      "outputs": [],
      "source": [
        "# Criando a variável do tipo string\n",
        "nome = 'Pepper'"
      ]
    },
    {
      "cell_type": "markdown",
      "source": [
        "Então, a nossa variável está criada, mas como posso ter certeza de que essa variável se trata realmente de uma variável do tipo texto? Para sanarmos essa dúvida, vamos utilizar novamente a função 'type'."
      ],
      "metadata": {
        "id": "Lw_0zvn1Q1ZB"
      }
    },
    {
      "cell_type": "code",
      "source": [
        "# Observando o tipo da variável\n",
        "type(nome)"
      ],
      "metadata": {
        "colab": {
          "base_uri": "https://localhost:8080/"
        },
        "id": "4cm-UiOQRKMO",
        "outputId": "5925a06b-bc5a-4650-ce67-f4da05444811"
      },
      "execution_count": null,
      "outputs": [
        {
          "output_type": "execute_result",
          "data": {
            "text/plain": [
              "str"
            ]
          },
          "metadata": {},
          "execution_count": 9
        }
      ]
    },
    {
      "cell_type": "markdown",
      "source": [
        "Dessa forma, podemos ter certeza do tipo de dados armazenado em qualquer variável que utilizemos essa função. Neste caso, o resultado foi 'str' ou string, logo podemos concluir que o tipo da variável é do tipo texto."
      ],
      "metadata": {
        "id": "8nesy6AiRMGc"
      }
    },
    {
      "cell_type": "markdown",
      "source": [
        "### **Datetime (Data)**"
      ],
      "metadata": {
        "id": "wrLoJUHYX-lO"
      }
    },
    {
      "cell_type": "markdown",
      "source": [
        "No Python, a variável do tipo date é usada para representar datas. Esta variável faz parte do módulo datetime na biblioteca padrão do Python. Ela é usada para armazenar informações de data sem incluir informações sobre o horário específico."
      ],
      "metadata": {
        "id": "Xdms6MrAYLTU"
      }
    },
    {
      "cell_type": "markdown",
      "source": [
        "Para exemplificar esse tipo de dados, será necessário a importação de uma biblioteca. Vamos observar essa parte."
      ],
      "metadata": {
        "id": "_mBC3iaEYPw0"
      }
    },
    {
      "cell_type": "code",
      "source": [
        "# Realizando a importação\n",
        "from datetime import date"
      ],
      "metadata": {
        "id": "8vodkXLqYYUj"
      },
      "execution_count": null,
      "outputs": []
    },
    {
      "cell_type": "markdown",
      "source": [
        "Agora que realizamos a importação do pacote, podemos seguir para a exemplificação."
      ],
      "metadata": {
        "id": "d8G4fi_PYg-R"
      }
    },
    {
      "cell_type": "code",
      "source": [
        "# Obter o dia de hoje\n",
        "data_atual = date.today()"
      ],
      "metadata": {
        "id": "s9l4KZD1YGVU"
      },
      "execution_count": null,
      "outputs": []
    },
    {
      "cell_type": "markdown",
      "source": [
        "Atribuímos à variável data_atual o valor da função 'today()', que retorna a data atual. Vamos observar o dado armazenado e, em seguida, o tipo do dado."
      ],
      "metadata": {
        "id": "xpZ0-esaYmWY"
      }
    },
    {
      "cell_type": "code",
      "source": [
        "# Exibindo a data de hoje\n",
        "print(data_atual)"
      ],
      "metadata": {
        "colab": {
          "base_uri": "https://localhost:8080/"
        },
        "id": "4k_9mGQoY52u",
        "outputId": "77ca1226-ab6a-4c1b-c5f5-31f6da0a9f45"
      },
      "execution_count": null,
      "outputs": [
        {
          "output_type": "stream",
          "name": "stdout",
          "text": [
            "2024-01-15\n"
          ]
        }
      ]
    },
    {
      "cell_type": "markdown",
      "source": [
        "Dessa forma, podemos observar o valor armazenado, que é o exato dia em que estou executando este código. Agora, vamos confirmar qual o tipo de dado presente nessa variável."
      ],
      "metadata": {
        "id": "4gd8o4DtZJ-1"
      }
    },
    {
      "cell_type": "code",
      "source": [
        "# Observando o tipo do dado\n",
        "type(data_atual)"
      ],
      "metadata": {
        "colab": {
          "base_uri": "https://localhost:8080/"
        },
        "id": "pNRq2XFzZaIx",
        "outputId": "582d8d38-5bc8-4eb2-fce3-cb6e51b4c306"
      },
      "execution_count": null,
      "outputs": [
        {
          "output_type": "execute_result",
          "data": {
            "text/plain": [
              "datetime.date"
            ]
          },
          "metadata": {},
          "execution_count": 22
        }
      ]
    },
    {
      "cell_type": "markdown",
      "source": [
        "O resultado foi datetime.date, logo podemos concluir que esse dado se trata realmente de um dado do tipo data."
      ],
      "metadata": {
        "id": "UyO9A4__Zj_7"
      }
    },
    {
      "cell_type": "markdown",
      "source": [
        "## **Estruturas**"
      ],
      "metadata": {
        "id": "fSsqhvDEaiiq"
      }
    },
    {
      "cell_type": "markdown",
      "source": [
        "As estruturas de dados são objetos que armazenam e organizam dados. Elas são usadas para simplificar o código e tornar mais eficiente o processamento de dados.\n",
        "\n",
        "As principais estruturas de dados em Python são:\n",
        "\n",
        "- Listas: armazenam uma coleção de valores de qualquer tipo.\n",
        "- Tuplas: armazenam uma coleção de valores de qualquer tipo, mas são imutáveis.\n",
        "- Dicionários: armazenam uma coleção de pares chave-valor.\n",
        "- Conjuntos: armazenam uma coleção de valores únicos."
      ],
      "metadata": {
        "id": "nUlHMVbJasn6"
      }
    },
    {
      "cell_type": "markdown",
      "source": [
        "### **List (Listas)**"
      ],
      "metadata": {
        "id": "eJRHPBWFa3wZ"
      }
    },
    {
      "cell_type": "markdown",
      "source": [
        "Listas são estruturas de dados ordenadas que permitem armazenar uma coleção de valores de qualquer tipo. Os valores de uma lista são chamados de elementos ou itens."
      ],
      "metadata": {
        "id": "TT8YwDp8bFZX"
      }
    },
    {
      "cell_type": "markdown",
      "source": [
        "Para declararmos uma lista em Python, seguimos o seguinte padrão: nome_da_variável, seguido por um sinal de igual (=) e os valores entre colchetes ([ ]), como por exemplo:"
      ],
      "metadata": {
        "id": "KiqEcmeHbHof"
      }
    },
    {
      "cell_type": "code",
      "source": [
        "# Criando uma lista\n",
        "frutas = ['Abacate', 'Abacate', 'Uva', 12, 3.14, 12]"
      ],
      "metadata": {
        "id": "PR7kY-Fcbm1U"
      },
      "execution_count": 78,
      "outputs": []
    },
    {
      "cell_type": "markdown",
      "source": [
        "Podemos notar uma coisa interessante: uma lista pode ser criada e utilizada para armazenar dados de diferentes tipos. Podemos observar que nessa mesma lista chamada frutas, temos variáveis dos tipos string, int e float. Vamos verificar se essa variável realmente se trata de uma lista."
      ],
      "metadata": {
        "id": "i0E6f5y0bw9i"
      }
    },
    {
      "cell_type": "markdown",
      "source": [
        "Observando a lista criada."
      ],
      "metadata": {
        "id": "o4G_AWUJ-gMI"
      }
    },
    {
      "cell_type": "code",
      "source": [
        "# Exibindo os valores\n",
        "print(frutas)"
      ],
      "metadata": {
        "colab": {
          "base_uri": "https://localhost:8080/"
        },
        "id": "kmPLg-gK-ikQ",
        "outputId": "559ab8ea-e822-4714-8b04-dd0c05a52218"
      },
      "execution_count": 77,
      "outputs": [
        {
          "output_type": "stream",
          "name": "stdout",
          "text": [
            "['Abacate', 'Abacate', 'Uva', 12, 3.14, 12]\n"
          ]
        }
      ]
    },
    {
      "cell_type": "markdown",
      "source": [
        "Agora vamos observar o tipo do dado."
      ],
      "metadata": {
        "id": "AZYpU_-lA9rt"
      }
    },
    {
      "cell_type": "code",
      "source": [
        "# Exibindo o tipo do dado\n",
        "type(frutas)"
      ],
      "metadata": {
        "colab": {
          "base_uri": "https://localhost:8080/"
        },
        "id": "ASjwuu3DcRgm",
        "outputId": "71e4be7d-5db0-4129-9634-5a8bc47fae21"
      },
      "execution_count": 59,
      "outputs": [
        {
          "output_type": "execute_result",
          "data": {
            "text/plain": [
              "list"
            ]
          },
          "metadata": {},
          "execution_count": 59
        }
      ]
    },
    {
      "cell_type": "markdown",
      "source": [
        "Podemos observar então que essa variável realmente se trata de uma lista e que pode armazenar diversos tipos de dados. Para demonstrar o quão poderosa é essa estrutura de dados, vamos observar como realizar funções como, por exemplo:\n",
        "\n",
        "- Acessar elementos\n",
        "- Adicionar elementos\n",
        "- Alterar elementos\n",
        "- Remover elementos\n",
        "- Contar elementos\n",
        "- Verificando a existência de elementos\n",
        "- Buscar elementos\n",
        "- Ordenar a lista\n",
        "- Invertendo a lista\n",
        "\n"
      ],
      "metadata": {
        "id": "_4eUHk6mcXc-"
      }
    },
    {
      "cell_type": "markdown",
      "source": [
        "#### *Acessando um elemento*"
      ],
      "metadata": {
        "id": "oj3HGQPI5jMq"
      }
    },
    {
      "cell_type": "markdown",
      "source": [
        "Para acessar um elemento em uma lista, basta passar a posição que o elemento está na lista entre colchetes. Lembrando que a contagem desses números começa em 0 no Python. Então, digamos que existe a seguinte lista: notas = [6.0, 10, 9.7] Podemos notar que temos 3 elementos. Mas, se quisermos acessar o primeiro, utilizaremos o código da seguinte forma: notas[0], Pois, como a contagem em Python começa de 0, o primeiro elemento da lista está na posição 0, o segundo na posição 1, o terceiro na posição 2 e assim por diante."
      ],
      "metadata": {
        "id": "-4Ti4O4X5rah"
      }
    },
    {
      "cell_type": "markdown",
      "source": [
        "Primeiro, vamos exibir a lista completa."
      ],
      "metadata": {
        "id": "TUFENO1q6fps"
      }
    },
    {
      "cell_type": "code",
      "source": [
        "# Exibindo os valores\n",
        "print(frutas)"
      ],
      "metadata": {
        "colab": {
          "base_uri": "https://localhost:8080/"
        },
        "id": "X_suZ9T_6hyL",
        "outputId": "bbcf0a7e-ec66-4ad2-cc01-cd1a42276173"
      },
      "execution_count": 60,
      "outputs": [
        {
          "output_type": "stream",
          "name": "stdout",
          "text": [
            "['Abacate', 'Abacate', 'Uva', 12, 3.14, 12]\n"
          ]
        }
      ]
    },
    {
      "cell_type": "markdown",
      "source": [
        "Agora, vamos acessar o terceiro elemento da lista."
      ],
      "metadata": {
        "id": "TC95ry6d6k6k"
      }
    },
    {
      "cell_type": "code",
      "source": [
        "# Acessando um elemento na lista\n",
        "frutas[2]"
      ],
      "metadata": {
        "colab": {
          "base_uri": "https://localhost:8080/",
          "height": 35
        },
        "id": "RGT1oaU_5q14",
        "outputId": "e5e4e894-46ec-4916-a57f-dda0f1e67923"
      },
      "execution_count": 61,
      "outputs": [
        {
          "output_type": "execute_result",
          "data": {
            "text/plain": [
              "'Uva'"
            ],
            "application/vnd.google.colaboratory.intrinsic+json": {
              "type": "string"
            }
          },
          "metadata": {},
          "execution_count": 61
        }
      ]
    },
    {
      "cell_type": "markdown",
      "source": [
        "Ao observar o resultado, podemos ver que realmente exibimos o terceiro elemento na lista. Isso ocorre porque, em Python, o primeiro elemento de uma lista tem índice 0, o segundo elemento tem índice 1 e assim por diante. Portanto, para exibir o terceiro elemento, passamos como parâmetro o índice 2."
      ],
      "metadata": {
        "id": "otGPJwmH6o9T"
      }
    },
    {
      "cell_type": "markdown",
      "source": [
        "#### *Adicionando um elemento*"
      ],
      "metadata": {
        "id": "NtgxTb4K44qg"
      }
    },
    {
      "cell_type": "markdown",
      "source": [
        "Para adicionar um elemento a uma lista, basta utilizarmos a função append(). Essa função recebe como parâmetro o item que queremos adicionar à lista. Vamos observar um exemplo:"
      ],
      "metadata": {
        "id": "9k5EuPtl48sm"
      }
    },
    {
      "cell_type": "code",
      "source": [
        "# Adicionando um elemento a lista\n",
        "frutas.append(\"Laranja\")"
      ],
      "metadata": {
        "id": "Vo7ouRg_5Hks"
      },
      "execution_count": 80,
      "outputs": []
    },
    {
      "cell_type": "markdown",
      "source": [
        "Agora, com o item adicionado, vamos observar a lista completa."
      ],
      "metadata": {
        "id": "FelB_gc65OE9"
      }
    },
    {
      "cell_type": "code",
      "source": [
        "# Exibindo os valores\n",
        "print(frutas)"
      ],
      "metadata": {
        "colab": {
          "base_uri": "https://localhost:8080/"
        },
        "id": "5tgb-WpX5QWU",
        "outputId": "61e60c30-f9e5-4fd3-a35f-9f424932a820"
      },
      "execution_count": 81,
      "outputs": [
        {
          "output_type": "stream",
          "name": "stdout",
          "text": [
            "['Abacate', 'Abacate', 'Uva', 12, 3.14, 12, 'Laranja']\n"
          ]
        }
      ]
    },
    {
      "cell_type": "markdown",
      "source": [
        "Podemos então notar que o elemento foi adicionado com sucesso à lista."
      ],
      "metadata": {
        "id": "LeibaSde5Ss1"
      }
    },
    {
      "cell_type": "markdown",
      "source": [
        "#### *Alterando elementos*"
      ],
      "metadata": {
        "id": "4RyIm8cR7G4g"
      }
    },
    {
      "cell_type": "markdown",
      "source": [
        "Para alterar um elemento de uma lista, basta indicarmos o índice do elemento que queremos alterar e, em seguida, passar o novo valor para esse índice. Vamos observar um exemplo:"
      ],
      "metadata": {
        "id": "n4XY0iKs7Mr_"
      }
    },
    {
      "cell_type": "code",
      "source": [
        "# Alterando um elemento\n",
        "frutas[4] = 'Maracúja'"
      ],
      "metadata": {
        "id": "WYMZNE4i7ast"
      },
      "execution_count": 83,
      "outputs": []
    },
    {
      "cell_type": "markdown",
      "source": [
        "Assim, realizamos uma alteração de um elemento na lista. Vamos observar como ela está agora."
      ],
      "metadata": {
        "id": "rQvVvxlR7s2r"
      }
    },
    {
      "cell_type": "code",
      "source": [
        "# Exibindo os valores\n",
        "print(frutas)"
      ],
      "metadata": {
        "colab": {
          "base_uri": "https://localhost:8080/"
        },
        "id": "9le7rAvm7yB6",
        "outputId": "98ee6f99-716e-44ab-fb5a-bd6fd201fe80"
      },
      "execution_count": 84,
      "outputs": [
        {
          "output_type": "stream",
          "name": "stdout",
          "text": [
            "['Abacate', 'Abacate', 'Uva', 12, 'Maracúja', 12, 'Laranja']\n"
          ]
        }
      ]
    },
    {
      "cell_type": "markdown",
      "source": [
        "Podemos confirmar que o elemento que desejamos foi alterado no índice que queríamos."
      ],
      "metadata": {
        "id": "vT80YbAnCOJ_"
      }
    },
    {
      "cell_type": "markdown",
      "source": [
        "#### *Removendo elementos*"
      ],
      "metadata": {
        "id": "vuSPyxQy77zx"
      }
    },
    {
      "cell_type": "markdown",
      "source": [
        "Existem diferentes métodos para remover um elemento de uma lista. Dois dos mais comuns são:\n",
        "\n",
        "- O método remove( ) remove o primeiro elemento da lista que corresponder ao valor especificado.\n",
        "- O método pop( ) remove o elemento da lista na posição especificada."
      ],
      "metadata": {
        "id": "bmtmoROt8L1I"
      }
    },
    {
      "cell_type": "markdown",
      "source": [
        "Vamos observar primeiro o método remove."
      ],
      "metadata": {
        "id": "bOicipol87ob"
      }
    },
    {
      "cell_type": "code",
      "source": [
        "# Removendo um elemento\n",
        "frutas.remove(12)"
      ],
      "metadata": {
        "id": "3SF0gBsl8_ui"
      },
      "execution_count": 85,
      "outputs": []
    },
    {
      "cell_type": "markdown",
      "source": [
        "Agora que removemos um elemento, vamos observar como está a lista atual."
      ],
      "metadata": {
        "id": "JvsQD3gw9E-6"
      }
    },
    {
      "cell_type": "code",
      "source": [
        "# Exibindo o resultado\n",
        "print(frutas)"
      ],
      "metadata": {
        "colab": {
          "base_uri": "https://localhost:8080/"
        },
        "id": "VXm_0WUf9KYA",
        "outputId": "e194aa47-ffff-49e5-b990-23d308461649"
      },
      "execution_count": 86,
      "outputs": [
        {
          "output_type": "stream",
          "name": "stdout",
          "text": [
            "['Abacate', 'Abacate', 'Uva', 'Maracúja', 12, 'Laranja']\n"
          ]
        }
      ]
    },
    {
      "cell_type": "markdown",
      "source": [
        "Dessa forma, podemos observar que realmente conseguimos remover o elemento 12 da lista. No entanto, essa função removeu apenas o primeiro valor 12 que encontrou. Dessa forma, o segundo elemento 12 continua na lista. Vamos utilizar agora o método pop( ) para removermos um elemento com base em sua posição na lista."
      ],
      "metadata": {
        "id": "YUyOXNy_9TNv"
      }
    },
    {
      "cell_type": "code",
      "source": [
        "# Removendo um elemento\n",
        "frutas.pop(4)"
      ],
      "metadata": {
        "colab": {
          "base_uri": "https://localhost:8080/"
        },
        "id": "fuLjq81I9p4F",
        "outputId": "e4c7c3ed-bfc2-443c-9fa8-93a53858189d"
      },
      "execution_count": 87,
      "outputs": [
        {
          "output_type": "execute_result",
          "data": {
            "text/plain": [
              "12"
            ]
          },
          "metadata": {},
          "execution_count": 87
        }
      ]
    },
    {
      "cell_type": "markdown",
      "source": [
        "Agora que removemos todos os elementos que desejamos, vamos observar como ficou a nossa lista."
      ],
      "metadata": {
        "id": "fIetu6f_-x_W"
      }
    },
    {
      "cell_type": "code",
      "source": [
        "# Exibindo os valores\n",
        "print(frutas)"
      ],
      "metadata": {
        "colab": {
          "base_uri": "https://localhost:8080/"
        },
        "id": "icOwGUSb9sxO",
        "outputId": "7594536e-f2dd-4344-a363-f406a874a088"
      },
      "execution_count": 88,
      "outputs": [
        {
          "output_type": "stream",
          "name": "stdout",
          "text": [
            "['Abacate', 'Abacate', 'Uva', 'Maracúja', 'Laranja']\n"
          ]
        }
      ]
    },
    {
      "cell_type": "markdown",
      "source": [
        "Agora sim, removemos e alteramos todos os valores que desejávamos na nossa lista, ficando apenas com 5 elementos."
      ],
      "metadata": {
        "id": "NVE7cHRx_-Xs"
      }
    },
    {
      "cell_type": "markdown",
      "source": [
        "#### *Contando os elementos*"
      ],
      "metadata": {
        "id": "GLugMzTMAJCb"
      }
    },
    {
      "cell_type": "markdown",
      "source": [
        "Vamos utilizar o método len() para contarmos quantos elementos temos na nossa lista. Utilizaremos esse método da seguinte forma:"
      ],
      "metadata": {
        "id": "yALXJl7lAMsd"
      }
    },
    {
      "cell_type": "code",
      "source": [
        "# Exibindo o número de elementos\n",
        "len(frutas)"
      ],
      "metadata": {
        "colab": {
          "base_uri": "https://localhost:8080/"
        },
        "id": "cF0Jd_3IAMPs",
        "outputId": "dd83aff3-aaa3-4af0-c854-e0b487d1d15e"
      },
      "execution_count": 89,
      "outputs": [
        {
          "output_type": "execute_result",
          "data": {
            "text/plain": [
              "5"
            ]
          },
          "metadata": {},
          "execution_count": 89
        }
      ]
    },
    {
      "cell_type": "markdown",
      "source": [
        "Como vimos anteriormente, nossa lista realmente possui apenas 5 elementos."
      ],
      "metadata": {
        "id": "67fO3BkBAeNh"
      }
    },
    {
      "cell_type": "markdown",
      "source": [
        "Também é possivel contarmos quantas vezes temos o mesmo elemento aparece na lista para isso utilizaremos o método 'count( )'"
      ],
      "metadata": {
        "id": "vmqavFcUFupr"
      }
    },
    {
      "cell_type": "code",
      "source": [
        "# Contando quantas vezes o mesmo elemento aparece\n",
        "frutas.count('Abacate')"
      ],
      "metadata": {
        "colab": {
          "base_uri": "https://localhost:8080/"
        },
        "id": "VQINVfXzF1mD",
        "outputId": "1e7b010c-4de4-484d-98f0-991d7c8806a3"
      },
      "execution_count": 90,
      "outputs": [
        {
          "output_type": "execute_result",
          "data": {
            "text/plain": [
              "2"
            ]
          },
          "metadata": {},
          "execution_count": 90
        }
      ]
    },
    {
      "cell_type": "markdown",
      "source": [
        "Quando pesquisamos pelo elemento 'Abacate' é possivel notar que ele retorna o número 2 que é exatamente o número de elementos chamados 'Abacate' que temos na lista, vamos pesquisar agora o elemento 'Uva' para ver o que encontramos"
      ],
      "metadata": {
        "id": "WZ5hv-WYGJzB"
      }
    },
    {
      "cell_type": "code",
      "source": [
        "# Contando quantas vezes o mesmo elemento aparece\n",
        "frutas.count('Uva')"
      ],
      "metadata": {
        "colab": {
          "base_uri": "https://localhost:8080/"
        },
        "id": "FUPsbRQwGXLH",
        "outputId": "f52caaf3-f0f6-4117-9fac-b62f981b696d"
      },
      "execution_count": 91,
      "outputs": [
        {
          "output_type": "execute_result",
          "data": {
            "text/plain": [
              "1"
            ]
          },
          "metadata": {},
          "execution_count": 91
        }
      ]
    },
    {
      "cell_type": "markdown",
      "source": [
        "Exatamente isso que acontece, na nossa lista existem 2 abacates e apenas uma uva"
      ],
      "metadata": {
        "id": "KYnYwhI8Gq6u"
      }
    },
    {
      "cell_type": "markdown",
      "source": [
        "#### *Verificando se existe um determinado elemento na lista*"
      ],
      "metadata": {
        "id": "_FszjS22EJYm"
      }
    },
    {
      "cell_type": "markdown",
      "source": [
        "Para verificarmos se existe um elemento na lista vamos utilizar o operador 'in' que retorna True se o elemento estiver presente na lista e False caso contrário."
      ],
      "metadata": {
        "id": "pBxjMHesER7G"
      }
    },
    {
      "cell_type": "markdown",
      "source": [
        "Primeiro vamos exibir a lista para observarmos os elementos existentes na mesma"
      ],
      "metadata": {
        "id": "qlobeJtcE0Ci"
      }
    },
    {
      "cell_type": "code",
      "source": [
        "# Exibindo os valores\n",
        "print(frutas)"
      ],
      "metadata": {
        "colab": {
          "base_uri": "https://localhost:8080/"
        },
        "id": "I72l_N1-E4hy",
        "outputId": "05160f3f-0f56-44c0-d554-3bf5a28466bf"
      },
      "execution_count": 73,
      "outputs": [
        {
          "output_type": "stream",
          "name": "stdout",
          "text": [
            "['Abacate', 'Abacate', 'Uva', 3.14, 'Laranja']\n"
          ]
        }
      ]
    },
    {
      "cell_type": "markdown",
      "source": [
        "Agora vamos verificar se o elemento 'Uva' esta na lista"
      ],
      "metadata": {
        "id": "4c2yxAQEE6-J"
      }
    },
    {
      "cell_type": "code",
      "source": [
        "# Buscando um elemento na lista\n",
        "\"Uva\" in frutas"
      ],
      "metadata": {
        "colab": {
          "base_uri": "https://localhost:8080/"
        },
        "id": "enVEcbPmEu0C",
        "outputId": "57b7fa31-161c-4cab-8357-5d67c8077efb"
      },
      "execution_count": 74,
      "outputs": [
        {
          "output_type": "execute_result",
          "data": {
            "text/plain": [
              "True"
            ]
          },
          "metadata": {},
          "execution_count": 74
        }
      ]
    },
    {
      "cell_type": "markdown",
      "source": [
        "O resultado foi um True, logo podemos afirmar que existe um elemento chamado 'Uva' na nossa lista, vamos tentar pesquisar algum elemento que não existe"
      ],
      "metadata": {
        "id": "HBF_JOECFCgR"
      }
    },
    {
      "cell_type": "code",
      "source": [
        "# Buscando um elemento na lista\n",
        "\"Manga\" in frutas"
      ],
      "metadata": {
        "colab": {
          "base_uri": "https://localhost:8080/"
        },
        "id": "rKVC2HTeFLSf",
        "outputId": "22e59050-c1fd-4817-bdfa-ce8300434601"
      },
      "execution_count": 75,
      "outputs": [
        {
          "output_type": "execute_result",
          "data": {
            "text/plain": [
              "False"
            ]
          },
          "metadata": {},
          "execution_count": 75
        }
      ]
    },
    {
      "cell_type": "markdown",
      "source": [
        "Ao verificarmos o elemento chamado 'Manga' recebemos um resultado False, logo podemos afirmar que esse elemento não esta contido na lista"
      ],
      "metadata": {
        "id": "iBBrg1fEHic_"
      }
    },
    {
      "cell_type": "markdown",
      "source": [
        "#### *Buscando elementos na lista*"
      ],
      "metadata": {
        "id": "qTseIXALLNMl"
      }
    },
    {
      "cell_type": "markdown",
      "source": [
        "Se quisessemos descobrir a posição que determinado elemento ocupa na lista iremos utilizar o método 'index()'."
      ],
      "metadata": {
        "id": "baxVMAZMKbKi"
      }
    },
    {
      "cell_type": "markdown",
      "source": [
        "Vamos observar a lista completa"
      ],
      "metadata": {
        "id": "dwd1wXiDLhL7"
      }
    },
    {
      "cell_type": "code",
      "source": [
        "# Exibindo os valores\n",
        "print(frutas)"
      ],
      "metadata": {
        "colab": {
          "base_uri": "https://localhost:8080/"
        },
        "id": "kszvA8NoLi_q",
        "outputId": "fbc7ee23-89d9-4de8-e232-bedb287743f9"
      },
      "execution_count": 98,
      "outputs": [
        {
          "output_type": "stream",
          "name": "stdout",
          "text": [
            "['Uva', 'Maracúja', 'Laranja', 'Abacate', 'Abacate']\n"
          ]
        }
      ]
    },
    {
      "cell_type": "markdown",
      "source": [
        "Agora vamos aplicar o método para buscarmos um elemento na lista"
      ],
      "metadata": {
        "id": "mEtgJkEOLs0p"
      }
    },
    {
      "cell_type": "code",
      "source": [
        "# Buscando um elemnto\n",
        "frutas.index(\"Abacate\")"
      ],
      "metadata": {
        "colab": {
          "base_uri": "https://localhost:8080/"
        },
        "id": "0whMovZ5LZlL",
        "outputId": "62fb9cdd-8632-4c69-d958-b15b78768fc3"
      },
      "execution_count": 97,
      "outputs": [
        {
          "output_type": "execute_result",
          "data": {
            "text/plain": [
              "3"
            ]
          },
          "metadata": {},
          "execution_count": 97
        }
      ]
    },
    {
      "cell_type": "markdown",
      "source": [
        "Como temos dois abacates a função retornou a posição do primeiro, vamos observar outro exemplo"
      ],
      "metadata": {
        "id": "YReb6729LzJp"
      }
    },
    {
      "cell_type": "code",
      "source": [
        "# Buscando um elemnto\n",
        "frutas.index(\"Maracúja\")"
      ],
      "metadata": {
        "colab": {
          "base_uri": "https://localhost:8080/"
        },
        "id": "oHDCs8o4L4cA",
        "outputId": "188facb9-0c9b-44d0-8a06-e85db81410b3"
      },
      "execution_count": 99,
      "outputs": [
        {
          "output_type": "execute_result",
          "data": {
            "text/plain": [
              "1"
            ]
          },
          "metadata": {},
          "execution_count": 99
        }
      ]
    },
    {
      "cell_type": "markdown",
      "source": [
        "Como podemos observar o elemento 'Maracúja' ocupa o segundo lugar na nossa lista, logo o seu indice é o numero 1 e se buscassemos um elemento que não existe na lista o que aconteceria ?"
      ],
      "metadata": {
        "id": "Kgy-FdDfL7Kw"
      }
    },
    {
      "cell_type": "code",
      "source": [
        "# Buscando um elemnto\n",
        "frutas.index(\"Manga\")"
      ],
      "metadata": {
        "colab": {
          "base_uri": "https://localhost:8080/",
          "height": 193
        },
        "id": "64u8vkKvMIwl",
        "outputId": "ef318aec-e460-4de7-9284-56a5c4f9c20e"
      },
      "execution_count": 100,
      "outputs": [
        {
          "output_type": "error",
          "ename": "ValueError",
          "evalue": "'Manga' is not in list",
          "traceback": [
            "\u001b[0;31m---------------------------------------------------------------------------\u001b[0m",
            "\u001b[0;31mValueError\u001b[0m                                Traceback (most recent call last)",
            "\u001b[0;32m<ipython-input-100-f1c73bc89107>\u001b[0m in \u001b[0;36m<cell line: 2>\u001b[0;34m()\u001b[0m\n\u001b[1;32m      1\u001b[0m \u001b[0;31m# Buscando um elemnto\u001b[0m\u001b[0;34m\u001b[0m\u001b[0;34m\u001b[0m\u001b[0m\n\u001b[0;32m----> 2\u001b[0;31m \u001b[0mfrutas\u001b[0m\u001b[0;34m.\u001b[0m\u001b[0mindex\u001b[0m\u001b[0;34m(\u001b[0m\u001b[0;34m\"Manga\"\u001b[0m\u001b[0;34m)\u001b[0m\u001b[0;34m\u001b[0m\u001b[0;34m\u001b[0m\u001b[0m\n\u001b[0m",
            "\u001b[0;31mValueError\u001b[0m: 'Manga' is not in list"
          ]
        }
      ]
    },
    {
      "cell_type": "markdown",
      "source": [
        "Podemos observar que ao tentarmos buscar um elemento que não existe na lista com esse método, iremos receber um erro, afirmando que o elemento que estamos buscando não existe na lista."
      ],
      "metadata": {
        "id": "ZJQeODGLMMtG"
      }
    },
    {
      "cell_type": "markdown",
      "source": [
        "#### *Ordenando a lista*"
      ],
      "metadata": {
        "id": "2SAS1dzUJHOc"
      }
    },
    {
      "cell_type": "markdown",
      "source": [
        "Para ordenarmos a lista utilizaremos o método 'sort()' com esse método é possivel ordenar a lista tanto em ordem crescente quanto em ordem decrescente, primeirao vamos observar como ordenar em ordem crescente"
      ],
      "metadata": {
        "id": "OAHad36TJJoc"
      }
    },
    {
      "cell_type": "markdown",
      "source": [
        "Primeiro, vamos observar como esta a atual ordenação da nossa lista"
      ],
      "metadata": {
        "id": "Dy4FalHKJgdh"
      }
    },
    {
      "cell_type": "code",
      "source": [
        "# Exibe os valores\n",
        "print(frutas)"
      ],
      "metadata": {
        "colab": {
          "base_uri": "https://localhost:8080/"
        },
        "id": "s04bniwNJjY5",
        "outputId": "6437a953-8c94-4e0a-9104-07425a6270f8"
      },
      "execution_count": 92,
      "outputs": [
        {
          "output_type": "stream",
          "name": "stdout",
          "text": [
            "['Abacate', 'Abacate', 'Uva', 'Maracúja', 'Laranja']\n"
          ]
        }
      ]
    },
    {
      "cell_type": "markdown",
      "source": [
        "Ordenando a lista em ordem crescente"
      ],
      "metadata": {
        "id": "iv4J9E5nJWvr"
      }
    },
    {
      "cell_type": "code",
      "source": [
        "# Ordena a lista em ordem crescente\n",
        "frutas.sort()"
      ],
      "metadata": {
        "id": "riMB69s2JaSa"
      },
      "execution_count": 93,
      "outputs": []
    },
    {
      "cell_type": "markdown",
      "source": [
        "Agora que ordenamos a lista vamos observar como ela está"
      ],
      "metadata": {
        "id": "SAdzllidJpyQ"
      }
    },
    {
      "cell_type": "code",
      "source": [
        "# Exibe os valores\n",
        "print(frutas)"
      ],
      "metadata": {
        "colab": {
          "base_uri": "https://localhost:8080/"
        },
        "id": "ChsjBcMhJvFo",
        "outputId": "673e6bd3-d196-4db3-e0c4-b75a963113cf"
      },
      "execution_count": 94,
      "outputs": [
        {
          "output_type": "stream",
          "name": "stdout",
          "text": [
            "['Abacate', 'Abacate', 'Laranja', 'Maracúja', 'Uva']\n"
          ]
        }
      ]
    },
    {
      "cell_type": "markdown",
      "source": [
        "Podemos confirmar que agora nossa lista esta em ordem crescente, vamos fazer ao contrario e deixar a lista em ordem decrescente"
      ],
      "metadata": {
        "id": "2pX8cIblJw2A"
      }
    },
    {
      "cell_type": "code",
      "source": [
        "# Ordena a lista em ordem decrescente\n",
        "frutas.sort(reverse=True)"
      ],
      "metadata": {
        "id": "fpGWrafrJFp0"
      },
      "execution_count": 95,
      "outputs": []
    },
    {
      "cell_type": "markdown",
      "source": [
        "Vamos observar como está a nossa lista agora"
      ],
      "metadata": {
        "id": "6bmzXCrzJ8RH"
      }
    },
    {
      "cell_type": "code",
      "source": [
        "# Exibe os valores\n",
        "print(frutas)"
      ],
      "metadata": {
        "colab": {
          "base_uri": "https://localhost:8080/"
        },
        "id": "4AK8otwNKEa9",
        "outputId": "1431cf26-49dc-43fe-b60f-e14385b4e371"
      },
      "execution_count": 96,
      "outputs": [
        {
          "output_type": "stream",
          "name": "stdout",
          "text": [
            "['Uva', 'Maracúja', 'Laranja', 'Abacate', 'Abacate']\n"
          ]
        }
      ]
    },
    {
      "cell_type": "markdown",
      "source": [
        "Podemos observar então como podemos alterar a ordem da nossa lista"
      ],
      "metadata": {
        "id": "6C5R0WicKHpt"
      }
    },
    {
      "cell_type": "markdown",
      "source": [
        "#### *Invertendo a ordem dos elementos*"
      ],
      "metadata": {
        "id": "q5R0vDtHRSym"
      }
    },
    {
      "cell_type": "markdown",
      "source": [
        "Vamos observar como podemos inverter a ordem dos elementos presentes na lista, para isso utilizaremos o método reverse ()"
      ],
      "metadata": {
        "id": "SCfNV_jSRWQu"
      }
    },
    {
      "cell_type": "markdown",
      "source": [
        "Novamente vamos observar como esta a lista atualmente"
      ],
      "metadata": {
        "id": "bOxpfbJiRe6F"
      }
    },
    {
      "cell_type": "code",
      "source": [
        "# Exibindo os valores\n",
        "print(frutas)"
      ],
      "metadata": {
        "colab": {
          "base_uri": "https://localhost:8080/"
        },
        "id": "H7g9OMp2RlG0",
        "outputId": "29c23026-3497-4926-f043-64a8254d5492"
      },
      "execution_count": 101,
      "outputs": [
        {
          "output_type": "stream",
          "name": "stdout",
          "text": [
            "['Uva', 'Maracúja', 'Laranja', 'Abacate', 'Abacate']\n"
          ]
        }
      ]
    },
    {
      "cell_type": "markdown",
      "source": [
        "Agora vamos verificar como podemos inverter a lista na prática"
      ],
      "metadata": {
        "id": "eO9chVjdRn2E"
      }
    },
    {
      "cell_type": "code",
      "source": [
        "# Inverte a ordem dos elementos na lista\n",
        "frutas.reverse()"
      ],
      "metadata": {
        "id": "uxlKGLpJRT6X"
      },
      "execution_count": 102,
      "outputs": []
    },
    {
      "cell_type": "markdown",
      "source": [
        "Agora que já aplicamos o método de inversão vamos observar como esta a nossa lista"
      ],
      "metadata": {
        "id": "LfXYFqnHRsUT"
      }
    },
    {
      "cell_type": "code",
      "source": [
        "# Exibindo os valores\n",
        "print(frutas)"
      ],
      "metadata": {
        "colab": {
          "base_uri": "https://localhost:8080/"
        },
        "id": "4dW3I2NnRv7b",
        "outputId": "83b7192e-4aa0-488a-8fad-d3d2a41a1cac"
      },
      "execution_count": 103,
      "outputs": [
        {
          "output_type": "stream",
          "name": "stdout",
          "text": [
            "['Abacate', 'Abacate', 'Laranja', 'Maracúja', 'Uva']\n"
          ]
        }
      ]
    },
    {
      "cell_type": "markdown",
      "source": [
        "Como podemos observar a nossa lista voltou para a ordem inicial"
      ],
      "metadata": {
        "id": "iuBsbCwyRxs7"
      }
    }
  ]
}