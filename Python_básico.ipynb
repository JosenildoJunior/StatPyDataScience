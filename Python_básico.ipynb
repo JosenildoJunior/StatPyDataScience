{
  "nbformat": 4,
  "nbformat_minor": 0,
  "metadata": {
    "colab": {
      "provenance": [],
      "authorship_tag": "ABX9TyPqT3/NVvtVYMGXmRTz0pP+",
      "include_colab_link": true
    },
    "kernelspec": {
      "name": "python3",
      "display_name": "Python 3"
    },
    "language_info": {
      "name": "python"
    }
  },
  "cells": [
    {
      "cell_type": "markdown",
      "metadata": {
        "id": "view-in-github",
        "colab_type": "text"
      },
      "source": [
        "<a href=\"https://colab.research.google.com/github/JosenildoJunior/StatPyDataScience/blob/main/Python_b%C3%A1sico.ipynb\" target=\"_parent\"><img src=\"https://colab.research.google.com/assets/colab-badge.svg\" alt=\"Open In Colab\"/></a>"
      ]
    },
    {
      "cell_type": "markdown",
      "source": [
        "# Estatística com Python: Um Guia para Estudos e Solução de Problemas\n"
      ],
      "metadata": {
        "id": "mn7HfIIdzcrR"
      }
    },
    {
      "cell_type": "markdown",
      "source": [
        "## Neste módulo, vamos aprender sobre os conceitos básicos de Python, incluindo:\n",
        "\n",
        "* **Variáveis:** Como declarar e usar variáveis para armazenar dados.\n",
        "* **Tipos de dados:** Os diferentes tipos de dados que podem ser armazenados em variáveis.\n",
        "* **Operadores:** Como realizar operações matemáticas e lógicas.\n",
        "* **Estruturas de controle:** Como controlar o fluxo de execução de seu código."
      ],
      "metadata": {
        "id": "OfdLi8no0of7"
      }
    },
    {
      "cell_type": "code",
      "execution_count": null,
      "metadata": {
        "id": "CVmx-gJTzNIj"
      },
      "outputs": [],
      "source": [
        "# Em breve!!!"
      ]
    }
  ]
}