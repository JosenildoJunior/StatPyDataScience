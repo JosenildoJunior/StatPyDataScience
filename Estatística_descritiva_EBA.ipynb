{
  "nbformat": 4,
  "nbformat_minor": 0,
  "metadata": {
    "colab": {
      "provenance": [],
      "collapsed_sections": [
        "Q7x3-ehFnNm1"
      ],
      "authorship_tag": "ABX9TyMvKwGpKreT+9+Z+zbnMvF6",
      "include_colab_link": true
    },
    "kernelspec": {
      "name": "python3",
      "display_name": "Python 3"
    },
    "language_info": {
      "name": "python"
    }
  },
  "cells": [
    {
      "cell_type": "markdown",
      "metadata": {
        "id": "view-in-github",
        "colab_type": "text"
      },
      "source": [
        "<a href=\"https://colab.research.google.com/github/JosenildoJunior/StatPyDataScience/blob/main/Estat%C3%ADstica_descritiva_EBA.ipynb\" target=\"_parent\"><img src=\"https://colab.research.google.com/assets/colab-badge.svg\" alt=\"Open In Colab\"/></a>"
      ]
    },
    {
      "cell_type": "markdown",
      "source": [
        "# **Introdução à Estatística Descritiva**"
      ],
      "metadata": {
        "id": "sRNJnk7RldJF"
      }
    },
    {
      "cell_type": "markdown",
      "source": [
        "A Estatística Descritiva é uma área fundamental da estatística que se concentra na organização, resumo e interpretação de dados. Ela busca extrair informações úteis e compreensíveis a partir de conjuntos de dados, permitindo uma análise mais eficaz e uma compreensão mais profunda dos fenômenos estudados."
      ],
      "metadata": {
        "id": "sa-TLEEwlixg"
      }
    },
    {
      "cell_type": "markdown",
      "source": [
        "## **Carregando os dados**"
      ],
      "metadata": {
        "id": "YXhjgdPfmAqV"
      }
    },
    {
      "cell_type": "markdown",
      "source": [
        "Vamos realizar a importação dos dados para que possamos aplicar diferentes tecnicas da estatistica descritiva"
      ],
      "metadata": {
        "id": "dajjTEFQmEL1"
      }
    },
    {
      "cell_type": "code",
      "execution_count": 2,
      "metadata": {
        "colab": {
          "base_uri": "https://localhost:8080/"
        },
        "id": "Aaz6zSxWPk0T",
        "outputId": "ba2b6f0b-3727-4cf6-b12d-0b01b07c6d83"
      },
      "outputs": [
        {
          "output_type": "stream",
          "name": "stdout",
          "text": [
            "Mounted at /content/drive\n"
          ]
        }
      ],
      "source": [
        "# Acesso ao drive\n",
        "from google.colab import drive\n",
        "drive.mount('/content/drive')"
      ]
    },
    {
      "cell_type": "code",
      "source": [
        "# Manipulação de dados\n",
        "import pandas as pd\n",
        "\n",
        "# Algébra linear\n",
        "import numpy as np\n",
        "\n",
        "# Visualização de dados\n",
        "import matplotlib.pyplot as plt\n",
        "import seaborn as sns"
      ],
      "metadata": {
        "id": "J7qkoYNumUhr"
      },
      "execution_count": 3,
      "outputs": []
    },
    {
      "cell_type": "markdown",
      "source": [
        "Agora que já importamos todas as bibliotecas necessarias vamos importar a base de dados propriamente dita"
      ],
      "metadata": {
        "id": "0VG4LMA4mdhj"
      }
    },
    {
      "cell_type": "code",
      "source": [
        "# Importando o dataset\n",
        "df = pd.read_csv('/content/drive/MyDrive/Estatística para ciência de dados/house_price.csv')"
      ],
      "metadata": {
        "id": "8gV-lOZAmcba"
      },
      "execution_count": 4,
      "outputs": []
    },
    {
      "cell_type": "markdown",
      "source": [
        "Agora que já carregamos a base de dados vamos ter um primeiro contato com esses dados"
      ],
      "metadata": {
        "id": "mma_r-4HnPK8"
      }
    },
    {
      "cell_type": "code",
      "source": [
        "# Observando os primeiros registros\n",
        "df.head()"
      ],
      "metadata": {
        "colab": {
          "base_uri": "https://localhost:8080/",
          "height": 206
        },
        "id": "r95IEky2nYqx",
        "outputId": "d77de706-a965-4f31-95f6-ef46d96cba32"
      },
      "execution_count": 5,
      "outputs": [
        {
          "output_type": "execute_result",
          "data": {
            "text/plain": [
              "   Unnamed: 0  SalePrice  OverallQual  OverallCond  BedroomAbvGr  \\\n",
              "0           0     208500            7            5             3   \n",
              "1           1     181500            6            8             3   \n",
              "2           2     223500            7            5             3   \n",
              "3           3     140000            7            5             3   \n",
              "4           4     250000            8            5             4   \n",
              "\n",
              "   TotRmsAbvGrd  GrLivArea  TotalBsmtSF  YearBuilt MSZoning Utilities BldgType  \n",
              "0             8       1710          856       2003       RL    AllPub     1Fam  \n",
              "1             6       1262         1262       1976       RL    AllPub     1Fam  \n",
              "2             6       1786          920       2001       RL    AllPub     1Fam  \n",
              "3             7       1717          756       1915       RL    AllPub     1Fam  \n",
              "4             9       2198         1145       2000       RL    AllPub     1Fam  "
            ],
            "text/html": [
              "\n",
              "  <div id=\"df-8bf4b421-ff37-4361-8bf4-ac05bcb85407\" class=\"colab-df-container\">\n",
              "    <div>\n",
              "<style scoped>\n",
              "    .dataframe tbody tr th:only-of-type {\n",
              "        vertical-align: middle;\n",
              "    }\n",
              "\n",
              "    .dataframe tbody tr th {\n",
              "        vertical-align: top;\n",
              "    }\n",
              "\n",
              "    .dataframe thead th {\n",
              "        text-align: right;\n",
              "    }\n",
              "</style>\n",
              "<table border=\"1\" class=\"dataframe\">\n",
              "  <thead>\n",
              "    <tr style=\"text-align: right;\">\n",
              "      <th></th>\n",
              "      <th>Unnamed: 0</th>\n",
              "      <th>SalePrice</th>\n",
              "      <th>OverallQual</th>\n",
              "      <th>OverallCond</th>\n",
              "      <th>BedroomAbvGr</th>\n",
              "      <th>TotRmsAbvGrd</th>\n",
              "      <th>GrLivArea</th>\n",
              "      <th>TotalBsmtSF</th>\n",
              "      <th>YearBuilt</th>\n",
              "      <th>MSZoning</th>\n",
              "      <th>Utilities</th>\n",
              "      <th>BldgType</th>\n",
              "    </tr>\n",
              "  </thead>\n",
              "  <tbody>\n",
              "    <tr>\n",
              "      <th>0</th>\n",
              "      <td>0</td>\n",
              "      <td>208500</td>\n",
              "      <td>7</td>\n",
              "      <td>5</td>\n",
              "      <td>3</td>\n",
              "      <td>8</td>\n",
              "      <td>1710</td>\n",
              "      <td>856</td>\n",
              "      <td>2003</td>\n",
              "      <td>RL</td>\n",
              "      <td>AllPub</td>\n",
              "      <td>1Fam</td>\n",
              "    </tr>\n",
              "    <tr>\n",
              "      <th>1</th>\n",
              "      <td>1</td>\n",
              "      <td>181500</td>\n",
              "      <td>6</td>\n",
              "      <td>8</td>\n",
              "      <td>3</td>\n",
              "      <td>6</td>\n",
              "      <td>1262</td>\n",
              "      <td>1262</td>\n",
              "      <td>1976</td>\n",
              "      <td>RL</td>\n",
              "      <td>AllPub</td>\n",
              "      <td>1Fam</td>\n",
              "    </tr>\n",
              "    <tr>\n",
              "      <th>2</th>\n",
              "      <td>2</td>\n",
              "      <td>223500</td>\n",
              "      <td>7</td>\n",
              "      <td>5</td>\n",
              "      <td>3</td>\n",
              "      <td>6</td>\n",
              "      <td>1786</td>\n",
              "      <td>920</td>\n",
              "      <td>2001</td>\n",
              "      <td>RL</td>\n",
              "      <td>AllPub</td>\n",
              "      <td>1Fam</td>\n",
              "    </tr>\n",
              "    <tr>\n",
              "      <th>3</th>\n",
              "      <td>3</td>\n",
              "      <td>140000</td>\n",
              "      <td>7</td>\n",
              "      <td>5</td>\n",
              "      <td>3</td>\n",
              "      <td>7</td>\n",
              "      <td>1717</td>\n",
              "      <td>756</td>\n",
              "      <td>1915</td>\n",
              "      <td>RL</td>\n",
              "      <td>AllPub</td>\n",
              "      <td>1Fam</td>\n",
              "    </tr>\n",
              "    <tr>\n",
              "      <th>4</th>\n",
              "      <td>4</td>\n",
              "      <td>250000</td>\n",
              "      <td>8</td>\n",
              "      <td>5</td>\n",
              "      <td>4</td>\n",
              "      <td>9</td>\n",
              "      <td>2198</td>\n",
              "      <td>1145</td>\n",
              "      <td>2000</td>\n",
              "      <td>RL</td>\n",
              "      <td>AllPub</td>\n",
              "      <td>1Fam</td>\n",
              "    </tr>\n",
              "  </tbody>\n",
              "</table>\n",
              "</div>\n",
              "    <div class=\"colab-df-buttons\">\n",
              "\n",
              "  <div class=\"colab-df-container\">\n",
              "    <button class=\"colab-df-convert\" onclick=\"convertToInteractive('df-8bf4b421-ff37-4361-8bf4-ac05bcb85407')\"\n",
              "            title=\"Convert this dataframe to an interactive table.\"\n",
              "            style=\"display:none;\">\n",
              "\n",
              "  <svg xmlns=\"http://www.w3.org/2000/svg\" height=\"24px\" viewBox=\"0 -960 960 960\">\n",
              "    <path d=\"M120-120v-720h720v720H120Zm60-500h600v-160H180v160Zm220 220h160v-160H400v160Zm0 220h160v-160H400v160ZM180-400h160v-160H180v160Zm440 0h160v-160H620v160ZM180-180h160v-160H180v160Zm440 0h160v-160H620v160Z\"/>\n",
              "  </svg>\n",
              "    </button>\n",
              "\n",
              "  <style>\n",
              "    .colab-df-container {\n",
              "      display:flex;\n",
              "      gap: 12px;\n",
              "    }\n",
              "\n",
              "    .colab-df-convert {\n",
              "      background-color: #E8F0FE;\n",
              "      border: none;\n",
              "      border-radius: 50%;\n",
              "      cursor: pointer;\n",
              "      display: none;\n",
              "      fill: #1967D2;\n",
              "      height: 32px;\n",
              "      padding: 0 0 0 0;\n",
              "      width: 32px;\n",
              "    }\n",
              "\n",
              "    .colab-df-convert:hover {\n",
              "      background-color: #E2EBFA;\n",
              "      box-shadow: 0px 1px 2px rgba(60, 64, 67, 0.3), 0px 1px 3px 1px rgba(60, 64, 67, 0.15);\n",
              "      fill: #174EA6;\n",
              "    }\n",
              "\n",
              "    .colab-df-buttons div {\n",
              "      margin-bottom: 4px;\n",
              "    }\n",
              "\n",
              "    [theme=dark] .colab-df-convert {\n",
              "      background-color: #3B4455;\n",
              "      fill: #D2E3FC;\n",
              "    }\n",
              "\n",
              "    [theme=dark] .colab-df-convert:hover {\n",
              "      background-color: #434B5C;\n",
              "      box-shadow: 0px 1px 3px 1px rgba(0, 0, 0, 0.15);\n",
              "      filter: drop-shadow(0px 1px 2px rgba(0, 0, 0, 0.3));\n",
              "      fill: #FFFFFF;\n",
              "    }\n",
              "  </style>\n",
              "\n",
              "    <script>\n",
              "      const buttonEl =\n",
              "        document.querySelector('#df-8bf4b421-ff37-4361-8bf4-ac05bcb85407 button.colab-df-convert');\n",
              "      buttonEl.style.display =\n",
              "        google.colab.kernel.accessAllowed ? 'block' : 'none';\n",
              "\n",
              "      async function convertToInteractive(key) {\n",
              "        const element = document.querySelector('#df-8bf4b421-ff37-4361-8bf4-ac05bcb85407');\n",
              "        const dataTable =\n",
              "          await google.colab.kernel.invokeFunction('convertToInteractive',\n",
              "                                                    [key], {});\n",
              "        if (!dataTable) return;\n",
              "\n",
              "        const docLinkHtml = 'Like what you see? Visit the ' +\n",
              "          '<a target=\"_blank\" href=https://colab.research.google.com/notebooks/data_table.ipynb>data table notebook</a>'\n",
              "          + ' to learn more about interactive tables.';\n",
              "        element.innerHTML = '';\n",
              "        dataTable['output_type'] = 'display_data';\n",
              "        await google.colab.output.renderOutput(dataTable, element);\n",
              "        const docLink = document.createElement('div');\n",
              "        docLink.innerHTML = docLinkHtml;\n",
              "        element.appendChild(docLink);\n",
              "      }\n",
              "    </script>\n",
              "  </div>\n",
              "\n",
              "\n",
              "<div id=\"df-217b80a6-ab66-4de0-a2ce-902b58a04fd4\">\n",
              "  <button class=\"colab-df-quickchart\" onclick=\"quickchart('df-217b80a6-ab66-4de0-a2ce-902b58a04fd4')\"\n",
              "            title=\"Suggest charts\"\n",
              "            style=\"display:none;\">\n",
              "\n",
              "<svg xmlns=\"http://www.w3.org/2000/svg\" height=\"24px\"viewBox=\"0 0 24 24\"\n",
              "     width=\"24px\">\n",
              "    <g>\n",
              "        <path d=\"M19 3H5c-1.1 0-2 .9-2 2v14c0 1.1.9 2 2 2h14c1.1 0 2-.9 2-2V5c0-1.1-.9-2-2-2zM9 17H7v-7h2v7zm4 0h-2V7h2v10zm4 0h-2v-4h2v4z\"/>\n",
              "    </g>\n",
              "</svg>\n",
              "  </button>\n",
              "\n",
              "<style>\n",
              "  .colab-df-quickchart {\n",
              "      --bg-color: #E8F0FE;\n",
              "      --fill-color: #1967D2;\n",
              "      --hover-bg-color: #E2EBFA;\n",
              "      --hover-fill-color: #174EA6;\n",
              "      --disabled-fill-color: #AAA;\n",
              "      --disabled-bg-color: #DDD;\n",
              "  }\n",
              "\n",
              "  [theme=dark] .colab-df-quickchart {\n",
              "      --bg-color: #3B4455;\n",
              "      --fill-color: #D2E3FC;\n",
              "      --hover-bg-color: #434B5C;\n",
              "      --hover-fill-color: #FFFFFF;\n",
              "      --disabled-bg-color: #3B4455;\n",
              "      --disabled-fill-color: #666;\n",
              "  }\n",
              "\n",
              "  .colab-df-quickchart {\n",
              "    background-color: var(--bg-color);\n",
              "    border: none;\n",
              "    border-radius: 50%;\n",
              "    cursor: pointer;\n",
              "    display: none;\n",
              "    fill: var(--fill-color);\n",
              "    height: 32px;\n",
              "    padding: 0;\n",
              "    width: 32px;\n",
              "  }\n",
              "\n",
              "  .colab-df-quickchart:hover {\n",
              "    background-color: var(--hover-bg-color);\n",
              "    box-shadow: 0 1px 2px rgba(60, 64, 67, 0.3), 0 1px 3px 1px rgba(60, 64, 67, 0.15);\n",
              "    fill: var(--button-hover-fill-color);\n",
              "  }\n",
              "\n",
              "  .colab-df-quickchart-complete:disabled,\n",
              "  .colab-df-quickchart-complete:disabled:hover {\n",
              "    background-color: var(--disabled-bg-color);\n",
              "    fill: var(--disabled-fill-color);\n",
              "    box-shadow: none;\n",
              "  }\n",
              "\n",
              "  .colab-df-spinner {\n",
              "    border: 2px solid var(--fill-color);\n",
              "    border-color: transparent;\n",
              "    border-bottom-color: var(--fill-color);\n",
              "    animation:\n",
              "      spin 1s steps(1) infinite;\n",
              "  }\n",
              "\n",
              "  @keyframes spin {\n",
              "    0% {\n",
              "      border-color: transparent;\n",
              "      border-bottom-color: var(--fill-color);\n",
              "      border-left-color: var(--fill-color);\n",
              "    }\n",
              "    20% {\n",
              "      border-color: transparent;\n",
              "      border-left-color: var(--fill-color);\n",
              "      border-top-color: var(--fill-color);\n",
              "    }\n",
              "    30% {\n",
              "      border-color: transparent;\n",
              "      border-left-color: var(--fill-color);\n",
              "      border-top-color: var(--fill-color);\n",
              "      border-right-color: var(--fill-color);\n",
              "    }\n",
              "    40% {\n",
              "      border-color: transparent;\n",
              "      border-right-color: var(--fill-color);\n",
              "      border-top-color: var(--fill-color);\n",
              "    }\n",
              "    60% {\n",
              "      border-color: transparent;\n",
              "      border-right-color: var(--fill-color);\n",
              "    }\n",
              "    80% {\n",
              "      border-color: transparent;\n",
              "      border-right-color: var(--fill-color);\n",
              "      border-bottom-color: var(--fill-color);\n",
              "    }\n",
              "    90% {\n",
              "      border-color: transparent;\n",
              "      border-bottom-color: var(--fill-color);\n",
              "    }\n",
              "  }\n",
              "</style>\n",
              "\n",
              "  <script>\n",
              "    async function quickchart(key) {\n",
              "      const quickchartButtonEl =\n",
              "        document.querySelector('#' + key + ' button');\n",
              "      quickchartButtonEl.disabled = true;  // To prevent multiple clicks.\n",
              "      quickchartButtonEl.classList.add('colab-df-spinner');\n",
              "      try {\n",
              "        const charts = await google.colab.kernel.invokeFunction(\n",
              "            'suggestCharts', [key], {});\n",
              "      } catch (error) {\n",
              "        console.error('Error during call to suggestCharts:', error);\n",
              "      }\n",
              "      quickchartButtonEl.classList.remove('colab-df-spinner');\n",
              "      quickchartButtonEl.classList.add('colab-df-quickchart-complete');\n",
              "    }\n",
              "    (() => {\n",
              "      let quickchartButtonEl =\n",
              "        document.querySelector('#df-217b80a6-ab66-4de0-a2ce-902b58a04fd4 button');\n",
              "      quickchartButtonEl.style.display =\n",
              "        google.colab.kernel.accessAllowed ? 'block' : 'none';\n",
              "    })();\n",
              "  </script>\n",
              "</div>\n",
              "\n",
              "    </div>\n",
              "  </div>\n"
            ]
          },
          "metadata": {},
          "execution_count": 5
        }
      ]
    },
    {
      "cell_type": "markdown",
      "source": [
        "Vemos diversas variaveis aqui, que até o momento não sabemos do que se trata então vamos observar o dicionario de dados"
      ],
      "metadata": {
        "id": "OvsBfA3InbYS"
      }
    },
    {
      "cell_type": "markdown",
      "source": [
        "- SalePrice: Price of sale\n",
        "- OverallQual: Rates the overall material and finish of the house\n",
        "- OverallCond: Rates the overall condition of the house\n",
        "- BedroomAbvGr: Bedrooms above grade (does NOT include basement bedrooms)\n",
        "- TotRmsAbvGrd: Total rooms above grade (does not include bathrooms)\n",
        "- GrLivArea: Above grade (ground) living area square feet\n",
        "- TotalBsmtSF: Total square feet of basement area\n",
        "\n",
        "- YearBuilt: Original construction date\n",
        "\n",
        "- MSZoning - Identifies the general zoning classification of the sale\n",
        "  - A    Agriculture\n",
        "  - C    Commercial\n",
        "  - FV    Floating Village Residential\n",
        "  - I     Industrial\n",
        "  - RH    Residential High Density\n",
        "  - RL    Residential Low Density\n",
        "  - RP    Residential Low Density Park\n",
        "  - RM    Residential Medium Density\n",
        "\n",
        "- Utilities: Type of utilities available\n",
        " - AllPub    All public Utilities (E,G,W,& S)    \n",
        " - NoSewr    Electricity, Gas, and Water (Septic Tank)\n",
        " - NoSeWa    Electricity and Gas Only\n",
        " - ELO       Electricity only    \n",
        "\n",
        "- BldgType: Type of dwelling\n",
        " - 1Fam      Single-family Detached    \n",
        " - 2FmCon    Two-family Conversion; originally built as one-family dwelling\n",
        " - Duplx     Duplex\n",
        " - TwnhsE    Townhouse End Unit\n",
        " - TwnhsI    Townhouse Inside Unit"
      ],
      "metadata": {
        "id": "oLRZ1Jz_ng5r"
      }
    },
    {
      "cell_type": "markdown",
      "source": [
        "## **Medidas de Tendência Central**"
      ],
      "metadata": {
        "id": "Q7x3-ehFnNm1"
      }
    },
    {
      "cell_type": "markdown",
      "source": [
        "- Média: Representa o valor médio de um conjunto de dados.\n",
        "- Mediana: O valor que divide o conjunto de dados ao meio quando ordenado.\n",
        "- Moda: O valor mais frequente em um conjunto de dados."
      ],
      "metadata": {
        "id": "p1wb6tD2ojqb"
      }
    },
    {
      "cell_type": "markdown",
      "source": [
        "Vamos observar como conseguir cada uma dessas medidas, mas antes, vamos observar novamente como estão nossos dados."
      ],
      "metadata": {
        "id": "k_zTOqU9oxg4"
      }
    },
    {
      "cell_type": "code",
      "source": [
        "# Observando os primeiros registros\n",
        "df.head()"
      ],
      "metadata": {
        "colab": {
          "base_uri": "https://localhost:8080/",
          "height": 206
        },
        "id": "5ZaKgVv_o4WK",
        "outputId": "87f402fc-a946-4e5e-de10-ac2a8f750aca"
      },
      "execution_count": null,
      "outputs": [
        {
          "output_type": "execute_result",
          "data": {
            "text/plain": [
              "   Unnamed: 0  SalePrice  OverallQual  OverallCond  BedroomAbvGr  \\\n",
              "0           0     208500            7            5             3   \n",
              "1           1     181500            6            8             3   \n",
              "2           2     223500            7            5             3   \n",
              "3           3     140000            7            5             3   \n",
              "4           4     250000            8            5             4   \n",
              "\n",
              "   TotRmsAbvGrd  GrLivArea  TotalBsmtSF  YearBuilt MSZoning Utilities BldgType  \n",
              "0             8       1710          856       2003       RL    AllPub     1Fam  \n",
              "1             6       1262         1262       1976       RL    AllPub     1Fam  \n",
              "2             6       1786          920       2001       RL    AllPub     1Fam  \n",
              "3             7       1717          756       1915       RL    AllPub     1Fam  \n",
              "4             9       2198         1145       2000       RL    AllPub     1Fam  "
            ],
            "text/html": [
              "\n",
              "  <div id=\"df-b8f8e5f2-34b9-4f84-8c92-ebcbb7418fff\" class=\"colab-df-container\">\n",
              "    <div>\n",
              "<style scoped>\n",
              "    .dataframe tbody tr th:only-of-type {\n",
              "        vertical-align: middle;\n",
              "    }\n",
              "\n",
              "    .dataframe tbody tr th {\n",
              "        vertical-align: top;\n",
              "    }\n",
              "\n",
              "    .dataframe thead th {\n",
              "        text-align: right;\n",
              "    }\n",
              "</style>\n",
              "<table border=\"1\" class=\"dataframe\">\n",
              "  <thead>\n",
              "    <tr style=\"text-align: right;\">\n",
              "      <th></th>\n",
              "      <th>Unnamed: 0</th>\n",
              "      <th>SalePrice</th>\n",
              "      <th>OverallQual</th>\n",
              "      <th>OverallCond</th>\n",
              "      <th>BedroomAbvGr</th>\n",
              "      <th>TotRmsAbvGrd</th>\n",
              "      <th>GrLivArea</th>\n",
              "      <th>TotalBsmtSF</th>\n",
              "      <th>YearBuilt</th>\n",
              "      <th>MSZoning</th>\n",
              "      <th>Utilities</th>\n",
              "      <th>BldgType</th>\n",
              "    </tr>\n",
              "  </thead>\n",
              "  <tbody>\n",
              "    <tr>\n",
              "      <th>0</th>\n",
              "      <td>0</td>\n",
              "      <td>208500</td>\n",
              "      <td>7</td>\n",
              "      <td>5</td>\n",
              "      <td>3</td>\n",
              "      <td>8</td>\n",
              "      <td>1710</td>\n",
              "      <td>856</td>\n",
              "      <td>2003</td>\n",
              "      <td>RL</td>\n",
              "      <td>AllPub</td>\n",
              "      <td>1Fam</td>\n",
              "    </tr>\n",
              "    <tr>\n",
              "      <th>1</th>\n",
              "      <td>1</td>\n",
              "      <td>181500</td>\n",
              "      <td>6</td>\n",
              "      <td>8</td>\n",
              "      <td>3</td>\n",
              "      <td>6</td>\n",
              "      <td>1262</td>\n",
              "      <td>1262</td>\n",
              "      <td>1976</td>\n",
              "      <td>RL</td>\n",
              "      <td>AllPub</td>\n",
              "      <td>1Fam</td>\n",
              "    </tr>\n",
              "    <tr>\n",
              "      <th>2</th>\n",
              "      <td>2</td>\n",
              "      <td>223500</td>\n",
              "      <td>7</td>\n",
              "      <td>5</td>\n",
              "      <td>3</td>\n",
              "      <td>6</td>\n",
              "      <td>1786</td>\n",
              "      <td>920</td>\n",
              "      <td>2001</td>\n",
              "      <td>RL</td>\n",
              "      <td>AllPub</td>\n",
              "      <td>1Fam</td>\n",
              "    </tr>\n",
              "    <tr>\n",
              "      <th>3</th>\n",
              "      <td>3</td>\n",
              "      <td>140000</td>\n",
              "      <td>7</td>\n",
              "      <td>5</td>\n",
              "      <td>3</td>\n",
              "      <td>7</td>\n",
              "      <td>1717</td>\n",
              "      <td>756</td>\n",
              "      <td>1915</td>\n",
              "      <td>RL</td>\n",
              "      <td>AllPub</td>\n",
              "      <td>1Fam</td>\n",
              "    </tr>\n",
              "    <tr>\n",
              "      <th>4</th>\n",
              "      <td>4</td>\n",
              "      <td>250000</td>\n",
              "      <td>8</td>\n",
              "      <td>5</td>\n",
              "      <td>4</td>\n",
              "      <td>9</td>\n",
              "      <td>2198</td>\n",
              "      <td>1145</td>\n",
              "      <td>2000</td>\n",
              "      <td>RL</td>\n",
              "      <td>AllPub</td>\n",
              "      <td>1Fam</td>\n",
              "    </tr>\n",
              "  </tbody>\n",
              "</table>\n",
              "</div>\n",
              "    <div class=\"colab-df-buttons\">\n",
              "\n",
              "  <div class=\"colab-df-container\">\n",
              "    <button class=\"colab-df-convert\" onclick=\"convertToInteractive('df-b8f8e5f2-34b9-4f84-8c92-ebcbb7418fff')\"\n",
              "            title=\"Convert this dataframe to an interactive table.\"\n",
              "            style=\"display:none;\">\n",
              "\n",
              "  <svg xmlns=\"http://www.w3.org/2000/svg\" height=\"24px\" viewBox=\"0 -960 960 960\">\n",
              "    <path d=\"M120-120v-720h720v720H120Zm60-500h600v-160H180v160Zm220 220h160v-160H400v160Zm0 220h160v-160H400v160ZM180-400h160v-160H180v160Zm440 0h160v-160H620v160ZM180-180h160v-160H180v160Zm440 0h160v-160H620v160Z\"/>\n",
              "  </svg>\n",
              "    </button>\n",
              "\n",
              "  <style>\n",
              "    .colab-df-container {\n",
              "      display:flex;\n",
              "      gap: 12px;\n",
              "    }\n",
              "\n",
              "    .colab-df-convert {\n",
              "      background-color: #E8F0FE;\n",
              "      border: none;\n",
              "      border-radius: 50%;\n",
              "      cursor: pointer;\n",
              "      display: none;\n",
              "      fill: #1967D2;\n",
              "      height: 32px;\n",
              "      padding: 0 0 0 0;\n",
              "      width: 32px;\n",
              "    }\n",
              "\n",
              "    .colab-df-convert:hover {\n",
              "      background-color: #E2EBFA;\n",
              "      box-shadow: 0px 1px 2px rgba(60, 64, 67, 0.3), 0px 1px 3px 1px rgba(60, 64, 67, 0.15);\n",
              "      fill: #174EA6;\n",
              "    }\n",
              "\n",
              "    .colab-df-buttons div {\n",
              "      margin-bottom: 4px;\n",
              "    }\n",
              "\n",
              "    [theme=dark] .colab-df-convert {\n",
              "      background-color: #3B4455;\n",
              "      fill: #D2E3FC;\n",
              "    }\n",
              "\n",
              "    [theme=dark] .colab-df-convert:hover {\n",
              "      background-color: #434B5C;\n",
              "      box-shadow: 0px 1px 3px 1px rgba(0, 0, 0, 0.15);\n",
              "      filter: drop-shadow(0px 1px 2px rgba(0, 0, 0, 0.3));\n",
              "      fill: #FFFFFF;\n",
              "    }\n",
              "  </style>\n",
              "\n",
              "    <script>\n",
              "      const buttonEl =\n",
              "        document.querySelector('#df-b8f8e5f2-34b9-4f84-8c92-ebcbb7418fff button.colab-df-convert');\n",
              "      buttonEl.style.display =\n",
              "        google.colab.kernel.accessAllowed ? 'block' : 'none';\n",
              "\n",
              "      async function convertToInteractive(key) {\n",
              "        const element = document.querySelector('#df-b8f8e5f2-34b9-4f84-8c92-ebcbb7418fff');\n",
              "        const dataTable =\n",
              "          await google.colab.kernel.invokeFunction('convertToInteractive',\n",
              "                                                    [key], {});\n",
              "        if (!dataTable) return;\n",
              "\n",
              "        const docLinkHtml = 'Like what you see? Visit the ' +\n",
              "          '<a target=\"_blank\" href=https://colab.research.google.com/notebooks/data_table.ipynb>data table notebook</a>'\n",
              "          + ' to learn more about interactive tables.';\n",
              "        element.innerHTML = '';\n",
              "        dataTable['output_type'] = 'display_data';\n",
              "        await google.colab.output.renderOutput(dataTable, element);\n",
              "        const docLink = document.createElement('div');\n",
              "        docLink.innerHTML = docLinkHtml;\n",
              "        element.appendChild(docLink);\n",
              "      }\n",
              "    </script>\n",
              "  </div>\n",
              "\n",
              "\n",
              "<div id=\"df-a5a44e2b-b018-4701-8ea8-65d34e949e29\">\n",
              "  <button class=\"colab-df-quickchart\" onclick=\"quickchart('df-a5a44e2b-b018-4701-8ea8-65d34e949e29')\"\n",
              "            title=\"Suggest charts\"\n",
              "            style=\"display:none;\">\n",
              "\n",
              "<svg xmlns=\"http://www.w3.org/2000/svg\" height=\"24px\"viewBox=\"0 0 24 24\"\n",
              "     width=\"24px\">\n",
              "    <g>\n",
              "        <path d=\"M19 3H5c-1.1 0-2 .9-2 2v14c0 1.1.9 2 2 2h14c1.1 0 2-.9 2-2V5c0-1.1-.9-2-2-2zM9 17H7v-7h2v7zm4 0h-2V7h2v10zm4 0h-2v-4h2v4z\"/>\n",
              "    </g>\n",
              "</svg>\n",
              "  </button>\n",
              "\n",
              "<style>\n",
              "  .colab-df-quickchart {\n",
              "      --bg-color: #E8F0FE;\n",
              "      --fill-color: #1967D2;\n",
              "      --hover-bg-color: #E2EBFA;\n",
              "      --hover-fill-color: #174EA6;\n",
              "      --disabled-fill-color: #AAA;\n",
              "      --disabled-bg-color: #DDD;\n",
              "  }\n",
              "\n",
              "  [theme=dark] .colab-df-quickchart {\n",
              "      --bg-color: #3B4455;\n",
              "      --fill-color: #D2E3FC;\n",
              "      --hover-bg-color: #434B5C;\n",
              "      --hover-fill-color: #FFFFFF;\n",
              "      --disabled-bg-color: #3B4455;\n",
              "      --disabled-fill-color: #666;\n",
              "  }\n",
              "\n",
              "  .colab-df-quickchart {\n",
              "    background-color: var(--bg-color);\n",
              "    border: none;\n",
              "    border-radius: 50%;\n",
              "    cursor: pointer;\n",
              "    display: none;\n",
              "    fill: var(--fill-color);\n",
              "    height: 32px;\n",
              "    padding: 0;\n",
              "    width: 32px;\n",
              "  }\n",
              "\n",
              "  .colab-df-quickchart:hover {\n",
              "    background-color: var(--hover-bg-color);\n",
              "    box-shadow: 0 1px 2px rgba(60, 64, 67, 0.3), 0 1px 3px 1px rgba(60, 64, 67, 0.15);\n",
              "    fill: var(--button-hover-fill-color);\n",
              "  }\n",
              "\n",
              "  .colab-df-quickchart-complete:disabled,\n",
              "  .colab-df-quickchart-complete:disabled:hover {\n",
              "    background-color: var(--disabled-bg-color);\n",
              "    fill: var(--disabled-fill-color);\n",
              "    box-shadow: none;\n",
              "  }\n",
              "\n",
              "  .colab-df-spinner {\n",
              "    border: 2px solid var(--fill-color);\n",
              "    border-color: transparent;\n",
              "    border-bottom-color: var(--fill-color);\n",
              "    animation:\n",
              "      spin 1s steps(1) infinite;\n",
              "  }\n",
              "\n",
              "  @keyframes spin {\n",
              "    0% {\n",
              "      border-color: transparent;\n",
              "      border-bottom-color: var(--fill-color);\n",
              "      border-left-color: var(--fill-color);\n",
              "    }\n",
              "    20% {\n",
              "      border-color: transparent;\n",
              "      border-left-color: var(--fill-color);\n",
              "      border-top-color: var(--fill-color);\n",
              "    }\n",
              "    30% {\n",
              "      border-color: transparent;\n",
              "      border-left-color: var(--fill-color);\n",
              "      border-top-color: var(--fill-color);\n",
              "      border-right-color: var(--fill-color);\n",
              "    }\n",
              "    40% {\n",
              "      border-color: transparent;\n",
              "      border-right-color: var(--fill-color);\n",
              "      border-top-color: var(--fill-color);\n",
              "    }\n",
              "    60% {\n",
              "      border-color: transparent;\n",
              "      border-right-color: var(--fill-color);\n",
              "    }\n",
              "    80% {\n",
              "      border-color: transparent;\n",
              "      border-right-color: var(--fill-color);\n",
              "      border-bottom-color: var(--fill-color);\n",
              "    }\n",
              "    90% {\n",
              "      border-color: transparent;\n",
              "      border-bottom-color: var(--fill-color);\n",
              "    }\n",
              "  }\n",
              "</style>\n",
              "\n",
              "  <script>\n",
              "    async function quickchart(key) {\n",
              "      const quickchartButtonEl =\n",
              "        document.querySelector('#' + key + ' button');\n",
              "      quickchartButtonEl.disabled = true;  // To prevent multiple clicks.\n",
              "      quickchartButtonEl.classList.add('colab-df-spinner');\n",
              "      try {\n",
              "        const charts = await google.colab.kernel.invokeFunction(\n",
              "            'suggestCharts', [key], {});\n",
              "      } catch (error) {\n",
              "        console.error('Error during call to suggestCharts:', error);\n",
              "      }\n",
              "      quickchartButtonEl.classList.remove('colab-df-spinner');\n",
              "      quickchartButtonEl.classList.add('colab-df-quickchart-complete');\n",
              "    }\n",
              "    (() => {\n",
              "      let quickchartButtonEl =\n",
              "        document.querySelector('#df-a5a44e2b-b018-4701-8ea8-65d34e949e29 button');\n",
              "      quickchartButtonEl.style.display =\n",
              "        google.colab.kernel.accessAllowed ? 'block' : 'none';\n",
              "    })();\n",
              "  </script>\n",
              "</div>\n",
              "\n",
              "    </div>\n",
              "  </div>\n"
            ]
          },
          "metadata": {},
          "execution_count": 6
        }
      ]
    },
    {
      "cell_type": "markdown",
      "source": [
        "Vamos observar a média, mediana e moda da variável 'SalePrice'"
      ],
      "metadata": {
        "id": "sH0kPprxpMoe"
      }
    },
    {
      "cell_type": "code",
      "source": [
        "# Calculando a média\n",
        "mean = df['SalePrice'].mean()\n",
        "\n",
        "# Calculando a mediana\n",
        "median = df['SalePrice'].median()\n",
        "\n",
        "# Calculando a moda\n",
        "mode = df['SalePrice'].mode()\n",
        "\n",
        "print(f\"Média: {mean}\\nMediana: {median}\\nModa {mode}\")"
      ],
      "metadata": {
        "colab": {
          "base_uri": "https://localhost:8080/"
        },
        "id": "R3T30O88pW5b",
        "outputId": "dfc30cee-2044-4913-9342-f26880d06ede"
      },
      "execution_count": null,
      "outputs": [
        {
          "output_type": "stream",
          "name": "stdout",
          "text": [
            "Média: 180921.19589041095\n",
            "Mediana: 163000.0\n",
            "Moda 0    140000\n",
            "Name: SalePrice, dtype: int64\n"
          ]
        }
      ]
    },
    {
      "cell_type": "markdown",
      "source": [
        "Dessa forma, podemos perceber que a média do preço de venda foi de 180k, enquanto a mediana é de 163k. Isso pode indicar que os dados não estão muito assimétricos; provavelmente existiram algumas poucas vendas com valores mais altos, o que está consequentemente elevando a média. Vamos observar isso mais a fundo."
      ],
      "metadata": {
        "id": "huwqkRrep91J"
      }
    },
    {
      "cell_type": "markdown",
      "source": [
        "## **Medidas de Posição Relativa**"
      ],
      "metadata": {
        "id": "NzpK7YKMsS0P"
      }
    },
    {
      "cell_type": "markdown",
      "source": [
        "- **Percentis:** Dividem os dados em percentagens, indicando a posição relativa de um valor.\n",
        "\n",
        "  - 25º percentil: 25% dos dados são menores que ou iguais a este valor.\n",
        "\n",
        "  - 50º percentil: A mediana. 50% dos dados são menores que ou iguais a este valor.\n",
        "\n",
        "  - 75º percentil: 75% dos dados são menores que ou iguais a este valor.\n",
        "\n",
        "\n",
        "- **Quartis:** Dividem os dados em quatro partes iguais, fornecendo informações sobre a dispersão.\n",
        "\n",
        "  - 1º quartil (Q1):\t25% dos dados são menores que ou iguais a este valor.\n",
        "\n",
        "  - 2º quartil (Q2):\tA mediana. 50% dos dados são menores que ou iguais a este valor.\n",
        "\n",
        "  - 3º quartil (Q3):\t75% dos dados são menores que ou iguais a este valor."
      ],
      "metadata": {
        "id": "ybpbMvDjsXPX"
      }
    },
    {
      "cell_type": "markdown",
      "source": [
        "Vamos utilizar o boxplot para investigarmos os quartis."
      ],
      "metadata": {
        "id": "rrN1Osuxs8wi"
      }
    },
    {
      "cell_type": "code",
      "source": [
        "# Criando o boxplot\n",
        "sns.boxplot(df['SalePrice']);"
      ],
      "metadata": {
        "colab": {
          "base_uri": "https://localhost:8080/",
          "height": 414
        },
        "id": "ECnSmXHOtCGw",
        "outputId": "d26c2bad-0622-486f-bd71-1e71bc797f87"
      },
      "execution_count": null,
      "outputs": [
        {
          "output_type": "display_data",
          "data": {
            "text/plain": [
              "<Figure size 640x480 with 1 Axes>"
            ],
            "image/png": "[encoded data removed]"
          },
          "metadata": {}
        }
      ]
    },
    {
      "cell_type": "markdown",
      "source": [
        "Com esse gráfico, podemos confirmar nossa suspeita de que aquela disparidade entre a média e a mediana deve-se a outliers que estão fazendo com que a média aumente. Vamos observar mais algumas medidas."
      ],
      "metadata": {
        "id": "yL020NZ3tR9-"
      }
    },
    {
      "cell_type": "code",
      "source": [
        "# Observando algumas medidas\n",
        "df['SalePrice'].describe()"
      ],
      "metadata": {
        "colab": {
          "base_uri": "https://localhost:8080/"
        },
        "id": "Rw09IErntoVV",
        "outputId": "b1704e7a-e5cf-4d1e-d635-aea708e7673c"
      },
      "execution_count": null,
      "outputs": [
        {
          "output_type": "execute_result",
          "data": {
            "text/plain": [
              "count      1460.000000\n",
              "mean     180921.195890\n",
              "std       79442.502883\n",
              "min       34900.000000\n",
              "25%      129975.000000\n",
              "50%      163000.000000\n",
              "75%      214000.000000\n",
              "max      755000.000000\n",
              "Name: SalePrice, dtype: float64"
            ]
          },
          "metadata": {},
          "execution_count": 17
        }
      ]
    },
    {
      "cell_type": "markdown",
      "source": [
        "Podemos observar neste momento que existem casas sendo vendidas a 34k, enquanto outras estão sendo vendidas a 755k, indicando assim uma alta amplitude. Logo, podemos observar uma maior variação nos preços de venda."
      ],
      "metadata": {
        "id": "VRuVDvqCt7Lj"
      }
    },
    {
      "cell_type": "markdown",
      "source": [
        "## **Hipóteses**"
      ],
      "metadata": {
        "id": "DNILOAaqJn2w"
      }
    },
    {
      "cell_type": "markdown",
      "source": [
        "Agora vamos imaginar a seguinte pergunta: O que faz uma casa ser vendida cara ou barata ?"
      ],
      "metadata": {
        "id": "9L42Gra1I6FF"
      }
    },
    {
      "cell_type": "markdown",
      "source": [
        "Para respondermos essa pergunta será necessario realizar uma analise um pouco mais minuciosa a respeito das diferentes colunas dos dados, vamos então separa os dados entre dados numericos e categoricos"
      ],
      "metadata": {
        "id": "DkJiFGaUJPx-"
      }
    },
    {
      "cell_type": "markdown",
      "source": [
        "Das variáveis **numéricas**, podemos pensar em algumas hipóteses:\n",
        "\n",
        "1.   A média/mediana da qualidade do imóvel é superior para os apartamentos mais caros\n",
        "2.   A média/mediana da quantidade de cômodos/quartos/área/banheiros é maior em apartamentos mais caros\n",
        "3.   Os apartamentos mais caros são mais antigos\n",
        "\n",
        "Das variáveis **categóricas**, podemos pensar em algumas hipóteses:\n",
        "4.   Existe diferença de preço de acordo com sua localização (zona)\n",
        "5.   As utilidades (gás, água, etc) existentes na casa tem influência no preço\n",
        "6.   O tipo de habitação influencia o preço (duplex, condomínio, etc)\n",
        "\n",
        "\n",
        "Agora, precisamos validar se essas hipóteses são verdadeiras ou não com dados\n"
      ],
      "metadata": {
        "id": "eVsW41BCJz93"
      }
    },
    {
      "cell_type": "markdown",
      "source": [
        "### **Númericas**"
      ],
      "metadata": {
        "id": "JuA3lk7TJ-DN"
      }
    },
    {
      "cell_type": "markdown",
      "source": [
        "Vamos observar um panorama geral dos dados"
      ],
      "metadata": {
        "id": "mrNKVjwbKFJc"
      }
    },
    {
      "cell_type": "code",
      "source": [
        "# Panorama geral\n",
        "df.describe()"
      ],
      "metadata": {
        "id": "yhu01CNZuVrX",
        "colab": {
          "base_uri": "https://localhost:8080/",
          "height": 300
        },
        "outputId": "64596a02-3913-4f63-c7cf-6bae04498439"
      },
      "execution_count": 6,
      "outputs": [
        {
          "output_type": "execute_result",
          "data": {
            "text/plain": [
              "        Unnamed: 0      SalePrice  OverallQual  OverallCond  BedroomAbvGr  \\\n",
              "count  1460.000000    1460.000000  1460.000000  1460.000000   1460.000000   \n",
              "mean    729.500000  180921.195890     6.099315     5.575342      2.866438   \n",
              "std     421.610009   79442.502883     1.382997     1.112799      0.815778   \n",
              "min       0.000000   34900.000000     1.000000     1.000000      0.000000   \n",
              "25%     364.750000  129975.000000     5.000000     5.000000      2.000000   \n",
              "50%     729.500000  163000.000000     6.000000     5.000000      3.000000   \n",
              "75%    1094.250000  214000.000000     7.000000     6.000000      3.000000   \n",
              "max    1459.000000  755000.000000    10.000000     9.000000      8.000000   \n",
              "\n",
              "       TotRmsAbvGrd    GrLivArea  TotalBsmtSF    YearBuilt  \n",
              "count   1460.000000  1460.000000  1460.000000  1460.000000  \n",
              "mean       6.517808  1515.463699  1057.429452  1971.267808  \n",
              "std        1.625393   525.480383   438.705324    30.202904  \n",
              "min        2.000000   334.000000     0.000000  1872.000000  \n",
              "25%        5.000000  1129.500000   795.750000  1954.000000  \n",
              "50%        6.000000  1464.000000   991.500000  1973.000000  \n",
              "75%        7.000000  1776.750000  1298.250000  2000.000000  \n",
              "max       14.000000  5642.000000  6110.000000  2010.000000  "
            ],
            "text/html": [
              "\n",
              "  <div id=\"df-27f81636-c402-4a10-9ecc-c06591f086c4\" class=\"colab-df-container\">\n",
              "    <div>\n",
              "<style scoped>\n",
              "    .dataframe tbody tr th:only-of-type {\n",
              "        vertical-align: middle;\n",
              "    }\n",
              "\n",
              "    .dataframe tbody tr th {\n",
              "        vertical-align: top;\n",
              "    }\n",
              "\n",
              "    .dataframe thead th {\n",
              "        text-align: right;\n",
              "    }\n",
              "</style>\n",
              "<table border=\"1\" class=\"dataframe\">\n",
              "  <thead>\n",
              "    <tr style=\"text-align: right;\">\n",
              "      <th></th>\n",
              "      <th>Unnamed: 0</th>\n",
              "      <th>SalePrice</th>\n",
              "      <th>OverallQual</th>\n",
              "      <th>OverallCond</th>\n",
              "      <th>BedroomAbvGr</th>\n",
              "      <th>TotRmsAbvGrd</th>\n",
              "      <th>GrLivArea</th>\n",
              "      <th>TotalBsmtSF</th>\n",
              "      <th>YearBuilt</th>\n",
              "    </tr>\n",
              "  </thead>\n",
              "  <tbody>\n",
              "    <tr>\n",
              "      <th>count</th>\n",
              "      <td>1460.000000</td>\n",
              "      <td>1460.000000</td>\n",
              "      <td>1460.000000</td>\n",
              "      <td>1460.000000</td>\n",
              "      <td>1460.000000</td>\n",
              "      <td>1460.000000</td>\n",
              "      <td>1460.000000</td>\n",
              "      <td>1460.000000</td>\n",
              "      <td>1460.000000</td>\n",
              "    </tr>\n",
              "    <tr>\n",
              "      <th>mean</th>\n",
              "      <td>729.500000</td>\n",
              "      <td>180921.195890</td>\n",
              "      <td>6.099315</td>\n",
              "      <td>5.575342</td>\n",
              "      <td>2.866438</td>\n",
              "      <td>6.517808</td>\n",
              "      <td>1515.463699</td>\n",
              "      <td>1057.429452</td>\n",
              "      <td>1971.267808</td>\n",
              "    </tr>\n",
              "    <tr>\n",
              "      <th>std</th>\n",
              "      <td>421.610009</td>\n",
              "      <td>79442.502883</td>\n",
              "      <td>1.382997</td>\n",
              "      <td>1.112799</td>\n",
              "      <td>0.815778</td>\n",
              "      <td>1.625393</td>\n",
              "      <td>525.480383</td>\n",
              "      <td>438.705324</td>\n",
              "      <td>30.202904</td>\n",
              "    </tr>\n",
              "    <tr>\n",
              "      <th>min</th>\n",
              "      <td>0.000000</td>\n",
              "      <td>34900.000000</td>\n",
              "      <td>1.000000</td>\n",
              "      <td>1.000000</td>\n",
              "      <td>0.000000</td>\n",
              "      <td>2.000000</td>\n",
              "      <td>334.000000</td>\n",
              "      <td>0.000000</td>\n",
              "      <td>1872.000000</td>\n",
              "    </tr>\n",
              "    <tr>\n",
              "      <th>25%</th>\n",
              "      <td>364.750000</td>\n",
              "      <td>129975.000000</td>\n",
              "      <td>5.000000</td>\n",
              "      <td>5.000000</td>\n",
              "      <td>2.000000</td>\n",
              "      <td>5.000000</td>\n",
              "      <td>1129.500000</td>\n",
              "      <td>795.750000</td>\n",
              "      <td>1954.000000</td>\n",
              "    </tr>\n",
              "    <tr>\n",
              "      <th>50%</th>\n",
              "      <td>729.500000</td>\n",
              "      <td>163000.000000</td>\n",
              "      <td>6.000000</td>\n",
              "      <td>5.000000</td>\n",
              "      <td>3.000000</td>\n",
              "      <td>6.000000</td>\n",
              "      <td>1464.000000</td>\n",
              "      <td>991.500000</td>\n",
              "      <td>1973.000000</td>\n",
              "    </tr>\n",
              "    <tr>\n",
              "      <th>75%</th>\n",
              "      <td>1094.250000</td>\n",
              "      <td>214000.000000</td>\n",
              "      <td>7.000000</td>\n",
              "      <td>6.000000</td>\n",
              "      <td>3.000000</td>\n",
              "      <td>7.000000</td>\n",
              "      <td>1776.750000</td>\n",
              "      <td>1298.250000</td>\n",
              "      <td>2000.000000</td>\n",
              "    </tr>\n",
              "    <tr>\n",
              "      <th>max</th>\n",
              "      <td>1459.000000</td>\n",
              "      <td>755000.000000</td>\n",
              "      <td>10.000000</td>\n",
              "      <td>9.000000</td>\n",
              "      <td>8.000000</td>\n",
              "      <td>14.000000</td>\n",
              "      <td>5642.000000</td>\n",
              "      <td>6110.000000</td>\n",
              "      <td>2010.000000</td>\n",
              "    </tr>\n",
              "  </tbody>\n",
              "</table>\n",
              "</div>\n",
              "    <div class=\"colab-df-buttons\">\n",
              "\n",
              "  <div class=\"colab-df-container\">\n",
              "    <button class=\"colab-df-convert\" onclick=\"convertToInteractive('df-27f81636-c402-4a10-9ecc-c06591f086c4')\"\n",
              "            title=\"Convert this dataframe to an interactive table.\"\n",
              "            style=\"display:none;\">\n",
              "\n",
              "  <svg xmlns=\"http://www.w3.org/2000/svg\" height=\"24px\" viewBox=\"0 -960 960 960\">\n",
              "    <path d=\"M120-120v-720h720v720H120Zm60-500h600v-160H180v160Zm220 220h160v-160H400v160Zm0 220h160v-160H400v160ZM180-400h160v-160H180v160Zm440 0h160v-160H620v160ZM180-180h160v-160H180v160Zm440 0h160v-160H620v160Z\"/>\n",
              "  </svg>\n",
              "    </button>\n",
              "\n",
              "  <style>\n",
              "    .colab-df-container {\n",
              "      display:flex;\n",
              "      gap: 12px;\n",
              "    }\n",
              "\n",
              "    .colab-df-convert {\n",
              "      background-color: #E8F0FE;\n",
              "      border: none;\n",
              "      border-radius: 50%;\n",
              "      cursor: pointer;\n",
              "      display: none;\n",
              "      fill: #1967D2;\n",
              "      height: 32px;\n",
              "      padding: 0 0 0 0;\n",
              "      width: 32px;\n",
              "    }\n",
              "\n",
              "    .colab-df-convert:hover {\n",
              "      background-color: #E2EBFA;\n",
              "      box-shadow: 0px 1px 2px rgba(60, 64, 67, 0.3), 0px 1px 3px 1px rgba(60, 64, 67, 0.15);\n",
              "      fill: #174EA6;\n",
              "    }\n",
              "\n",
              "    .colab-df-buttons div {\n",
              "      margin-bottom: 4px;\n",
              "    }\n",
              "\n",
              "    [theme=dark] .colab-df-convert {\n",
              "      background-color: #3B4455;\n",
              "      fill: #D2E3FC;\n",
              "    }\n",
              "\n",
              "    [theme=dark] .colab-df-convert:hover {\n",
              "      background-color: #434B5C;\n",
              "      box-shadow: 0px 1px 3px 1px rgba(0, 0, 0, 0.15);\n",
              "      filter: drop-shadow(0px 1px 2px rgba(0, 0, 0, 0.3));\n",
              "      fill: #FFFFFF;\n",
              "    }\n",
              "  </style>\n",
              "\n",
              "    <script>\n",
              "      const buttonEl =\n",
              "        document.querySelector('#df-27f81636-c402-4a10-9ecc-c06591f086c4 button.colab-df-convert');\n",
              "      buttonEl.style.display =\n",
              "        google.colab.kernel.accessAllowed ? 'block' : 'none';\n",
              "\n",
              "      async function convertToInteractive(key) {\n",
              "        const element = document.querySelector('#df-27f81636-c402-4a10-9ecc-c06591f086c4');\n",
              "        const dataTable =\n",
              "          await google.colab.kernel.invokeFunction('convertToInteractive',\n",
              "                                                    [key], {});\n",
              "        if (!dataTable) return;\n",
              "\n",
              "        const docLinkHtml = 'Like what you see? Visit the ' +\n",
              "          '<a target=\"_blank\" href=https://colab.research.google.com/notebooks/data_table.ipynb>data table notebook</a>'\n",
              "          + ' to learn more about interactive tables.';\n",
              "        element.innerHTML = '';\n",
              "        dataTable['output_type'] = 'display_data';\n",
              "        await google.colab.output.renderOutput(dataTable, element);\n",
              "        const docLink = document.createElement('div');\n",
              "        docLink.innerHTML = docLinkHtml;\n",
              "        element.appendChild(docLink);\n",
              "      }\n",
              "    </script>\n",
              "  </div>\n",
              "\n",
              "\n",
              "<div id=\"df-f991a8a6-83ba-4a7b-865e-e6a34acc4e17\">\n",
              "  <button class=\"colab-df-quickchart\" onclick=\"quickchart('df-f991a8a6-83ba-4a7b-865e-e6a34acc4e17')\"\n",
              "            title=\"Suggest charts\"\n",
              "            style=\"display:none;\">\n",
              "\n",
              "<svg xmlns=\"http://www.w3.org/2000/svg\" height=\"24px\"viewBox=\"0 0 24 24\"\n",
              "     width=\"24px\">\n",
              "    <g>\n",
              "        <path d=\"M19 3H5c-1.1 0-2 .9-2 2v14c0 1.1.9 2 2 2h14c1.1 0 2-.9 2-2V5c0-1.1-.9-2-2-2zM9 17H7v-7h2v7zm4 0h-2V7h2v10zm4 0h-2v-4h2v4z\"/>\n",
              "    </g>\n",
              "</svg>\n",
              "  </button>\n",
              "\n",
              "<style>\n",
              "  .colab-df-quickchart {\n",
              "      --bg-color: #E8F0FE;\n",
              "      --fill-color: #1967D2;\n",
              "      --hover-bg-color: #E2EBFA;\n",
              "      --hover-fill-color: #174EA6;\n",
              "      --disabled-fill-color: #AAA;\n",
              "      --disabled-bg-color: #DDD;\n",
              "  }\n",
              "\n",
              "  [theme=dark] .colab-df-quickchart {\n",
              "      --bg-color: #3B4455;\n",
              "      --fill-color: #D2E3FC;\n",
              "      --hover-bg-color: #434B5C;\n",
              "      --hover-fill-color: #FFFFFF;\n",
              "      --disabled-bg-color: #3B4455;\n",
              "      --disabled-fill-color: #666;\n",
              "  }\n",
              "\n",
              "  .colab-df-quickchart {\n",
              "    background-color: var(--bg-color);\n",
              "    border: none;\n",
              "    border-radius: 50%;\n",
              "    cursor: pointer;\n",
              "    display: none;\n",
              "    fill: var(--fill-color);\n",
              "    height: 32px;\n",
              "    padding: 0;\n",
              "    width: 32px;\n",
              "  }\n",
              "\n",
              "  .colab-df-quickchart:hover {\n",
              "    background-color: var(--hover-bg-color);\n",
              "    box-shadow: 0 1px 2px rgba(60, 64, 67, 0.3), 0 1px 3px 1px rgba(60, 64, 67, 0.15);\n",
              "    fill: var(--button-hover-fill-color);\n",
              "  }\n",
              "\n",
              "  .colab-df-quickchart-complete:disabled,\n",
              "  .colab-df-quickchart-complete:disabled:hover {\n",
              "    background-color: var(--disabled-bg-color);\n",
              "    fill: var(--disabled-fill-color);\n",
              "    box-shadow: none;\n",
              "  }\n",
              "\n",
              "  .colab-df-spinner {\n",
              "    border: 2px solid var(--fill-color);\n",
              "    border-color: transparent;\n",
              "    border-bottom-color: var(--fill-color);\n",
              "    animation:\n",
              "      spin 1s steps(1) infinite;\n",
              "  }\n",
              "\n",
              "  @keyframes spin {\n",
              "    0% {\n",
              "      border-color: transparent;\n",
              "      border-bottom-color: var(--fill-color);\n",
              "      border-left-color: var(--fill-color);\n",
              "    }\n",
              "    20% {\n",
              "      border-color: transparent;\n",
              "      border-left-color: var(--fill-color);\n",
              "      border-top-color: var(--fill-color);\n",
              "    }\n",
              "    30% {\n",
              "      border-color: transparent;\n",
              "      border-left-color: var(--fill-color);\n",
              "      border-top-color: var(--fill-color);\n",
              "      border-right-color: var(--fill-color);\n",
              "    }\n",
              "    40% {\n",
              "      border-color: transparent;\n",
              "      border-right-color: var(--fill-color);\n",
              "      border-top-color: var(--fill-color);\n",
              "    }\n",
              "    60% {\n",
              "      border-color: transparent;\n",
              "      border-right-color: var(--fill-color);\n",
              "    }\n",
              "    80% {\n",
              "      border-color: transparent;\n",
              "      border-right-color: var(--fill-color);\n",
              "      border-bottom-color: var(--fill-color);\n",
              "    }\n",
              "    90% {\n",
              "      border-color: transparent;\n",
              "      border-bottom-color: var(--fill-color);\n",
              "    }\n",
              "  }\n",
              "</style>\n",
              "\n",
              "  <script>\n",
              "    async function quickchart(key) {\n",
              "      const quickchartButtonEl =\n",
              "        document.querySelector('#' + key + ' button');\n",
              "      quickchartButtonEl.disabled = true;  // To prevent multiple clicks.\n",
              "      quickchartButtonEl.classList.add('colab-df-spinner');\n",
              "      try {\n",
              "        const charts = await google.colab.kernel.invokeFunction(\n",
              "            'suggestCharts', [key], {});\n",
              "      } catch (error) {\n",
              "        console.error('Error during call to suggestCharts:', error);\n",
              "      }\n",
              "      quickchartButtonEl.classList.remove('colab-df-spinner');\n",
              "      quickchartButtonEl.classList.add('colab-df-quickchart-complete');\n",
              "    }\n",
              "    (() => {\n",
              "      let quickchartButtonEl =\n",
              "        document.querySelector('#df-f991a8a6-83ba-4a7b-865e-e6a34acc4e17 button');\n",
              "      quickchartButtonEl.style.display =\n",
              "        google.colab.kernel.accessAllowed ? 'block' : 'none';\n",
              "    })();\n",
              "  </script>\n",
              "</div>\n",
              "\n",
              "    </div>\n",
              "  </div>\n"
            ]
          },
          "metadata": {},
          "execution_count": 6
        }
      ]
    },
    {
      "cell_type": "markdown",
      "source": [
        "Para valirdarmos nossas hipoteses será necessario a criação de colunas para identificarmos se uma casa é ou não cara, para isso utilizaremos o valor do 3º quartil que nesse caso é 214K, valores acima desse será considerado caro e abaixo será considerado barato"
      ],
      "metadata": {
        "id": "tG5qGrl6Kw1Y"
      }
    },
    {
      "cell_type": "code",
      "source": [
        "# Criando a nova coluna\n",
        "df['categoria_preco'] = np.where(df['SalePrice']>214000, \"cara\", \"barata\")"
      ],
      "metadata": {
        "id": "r15eFNHoLPg9"
      },
      "execution_count": 7,
      "outputs": []
    },
    {
      "cell_type": "markdown",
      "source": [
        "Dessa forma estamos armazenando em uma nova coluna todos os dados em que o preço de venda seja maior que 214k, sendo maior que esse valor ela será classificada como cara e abaixo desse valor será considerada como barata"
      ],
      "metadata": {
        "id": "V22sTuCWLSxj"
      }
    },
    {
      "cell_type": "code",
      "source": [
        "# Observando os dados\n",
        "df.head()"
      ],
      "metadata": {
        "colab": {
          "base_uri": "https://localhost:8080/",
          "height": 206
        },
        "id": "D5d7WjMbLs4A",
        "outputId": "4c70d202-0b87-4320-f837-8fc68c78613f"
      },
      "execution_count": 8,
      "outputs": [
        {
          "output_type": "execute_result",
          "data": {
            "text/plain": [
              "   Unnamed: 0  SalePrice  OverallQual  OverallCond  BedroomAbvGr  \\\n",
              "0           0     208500            7            5             3   \n",
              "1           1     181500            6            8             3   \n",
              "2           2     223500            7            5             3   \n",
              "3           3     140000            7            5             3   \n",
              "4           4     250000            8            5             4   \n",
              "\n",
              "   TotRmsAbvGrd  GrLivArea  TotalBsmtSF  YearBuilt MSZoning Utilities  \\\n",
              "0             8       1710          856       2003       RL    AllPub   \n",
              "1             6       1262         1262       1976       RL    AllPub   \n",
              "2             6       1786          920       2001       RL    AllPub   \n",
              "3             7       1717          756       1915       RL    AllPub   \n",
              "4             9       2198         1145       2000       RL    AllPub   \n",
              "\n",
              "  BldgType categoria_preco  \n",
              "0     1Fam          barata  \n",
              "1     1Fam          barata  \n",
              "2     1Fam            cara  \n",
              "3     1Fam          barata  \n",
              "4     1Fam            cara  "
            ],
            "text/html": [
              "\n",
              "  <div id=\"df-9e92c053-537d-4b9e-8001-06dcb9ca2ef3\" class=\"colab-df-container\">\n",
              "    <div>\n",
              "<style scoped>\n",
              "    .dataframe tbody tr th:only-of-type {\n",
              "        vertical-align: middle;\n",
              "    }\n",
              "\n",
              "    .dataframe tbody tr th {\n",
              "        vertical-align: top;\n",
              "    }\n",
              "\n",
              "    .dataframe thead th {\n",
              "        text-align: right;\n",
              "    }\n",
              "</style>\n",
              "<table border=\"1\" class=\"dataframe\">\n",
              "  <thead>\n",
              "    <tr style=\"text-align: right;\">\n",
              "      <th></th>\n",
              "      <th>Unnamed: 0</th>\n",
              "      <th>SalePrice</th>\n",
              "      <th>OverallQual</th>\n",
              "      <th>OverallCond</th>\n",
              "      <th>BedroomAbvGr</th>\n",
              "      <th>TotRmsAbvGrd</th>\n",
              "      <th>GrLivArea</th>\n",
              "      <th>TotalBsmtSF</th>\n",
              "      <th>YearBuilt</th>\n",
              "      <th>MSZoning</th>\n",
              "      <th>Utilities</th>\n",
              "      <th>BldgType</th>\n",
              "      <th>categoria_preco</th>\n",
              "    </tr>\n",
              "  </thead>\n",
              "  <tbody>\n",
              "    <tr>\n",
              "      <th>0</th>\n",
              "      <td>0</td>\n",
              "      <td>208500</td>\n",
              "      <td>7</td>\n",
              "      <td>5</td>\n",
              "      <td>3</td>\n",
              "      <td>8</td>\n",
              "      <td>1710</td>\n",
              "      <td>856</td>\n",
              "      <td>2003</td>\n",
              "      <td>RL</td>\n",
              "      <td>AllPub</td>\n",
              "      <td>1Fam</td>\n",
              "      <td>barata</td>\n",
              "    </tr>\n",
              "    <tr>\n",
              "      <th>1</th>\n",
              "      <td>1</td>\n",
              "      <td>181500</td>\n",
              "      <td>6</td>\n",
              "      <td>8</td>\n",
              "      <td>3</td>\n",
              "      <td>6</td>\n",
              "      <td>1262</td>\n",
              "      <td>1262</td>\n",
              "      <td>1976</td>\n",
              "      <td>RL</td>\n",
              "      <td>AllPub</td>\n",
              "      <td>1Fam</td>\n",
              "      <td>barata</td>\n",
              "    </tr>\n",
              "    <tr>\n",
              "      <th>2</th>\n",
              "      <td>2</td>\n",
              "      <td>223500</td>\n",
              "      <td>7</td>\n",
              "      <td>5</td>\n",
              "      <td>3</td>\n",
              "      <td>6</td>\n",
              "      <td>1786</td>\n",
              "      <td>920</td>\n",
              "      <td>2001</td>\n",
              "      <td>RL</td>\n",
              "      <td>AllPub</td>\n",
              "      <td>1Fam</td>\n",
              "      <td>cara</td>\n",
              "    </tr>\n",
              "    <tr>\n",
              "      <th>3</th>\n",
              "      <td>3</td>\n",
              "      <td>140000</td>\n",
              "      <td>7</td>\n",
              "      <td>5</td>\n",
              "      <td>3</td>\n",
              "      <td>7</td>\n",
              "      <td>1717</td>\n",
              "      <td>756</td>\n",
              "      <td>1915</td>\n",
              "      <td>RL</td>\n",
              "      <td>AllPub</td>\n",
              "      <td>1Fam</td>\n",
              "      <td>barata</td>\n",
              "    </tr>\n",
              "    <tr>\n",
              "      <th>4</th>\n",
              "      <td>4</td>\n",
              "      <td>250000</td>\n",
              "      <td>8</td>\n",
              "      <td>5</td>\n",
              "      <td>4</td>\n",
              "      <td>9</td>\n",
              "      <td>2198</td>\n",
              "      <td>1145</td>\n",
              "      <td>2000</td>\n",
              "      <td>RL</td>\n",
              "      <td>AllPub</td>\n",
              "      <td>1Fam</td>\n",
              "      <td>cara</td>\n",
              "    </tr>\n",
              "  </tbody>\n",
              "</table>\n",
              "</div>\n",
              "    <div class=\"colab-df-buttons\">\n",
              "\n",
              "  <div class=\"colab-df-container\">\n",
              "    <button class=\"colab-df-convert\" onclick=\"convertToInteractive('df-9e92c053-537d-4b9e-8001-06dcb9ca2ef3')\"\n",
              "            title=\"Convert this dataframe to an interactive table.\"\n",
              "            style=\"display:none;\">\n",
              "\n",
              "  <svg xmlns=\"http://www.w3.org/2000/svg\" height=\"24px\" viewBox=\"0 -960 960 960\">\n",
              "    <path d=\"M120-120v-720h720v720H120Zm60-500h600v-160H180v160Zm220 220h160v-160H400v160Zm0 220h160v-160H400v160ZM180-400h160v-160H180v160Zm440 0h160v-160H620v160ZM180-180h160v-160H180v160Zm440 0h160v-160H620v160Z\"/>\n",
              "  </svg>\n",
              "    </button>\n",
              "\n",
              "  <style>\n",
              "    .colab-df-container {\n",
              "      display:flex;\n",
              "      gap: 12px;\n",
              "    }\n",
              "\n",
              "    .colab-df-convert {\n",
              "      background-color: #E8F0FE;\n",
              "      border: none;\n",
              "      border-radius: 50%;\n",
              "      cursor: pointer;\n",
              "      display: none;\n",
              "      fill: #1967D2;\n",
              "      height: 32px;\n",
              "      padding: 0 0 0 0;\n",
              "      width: 32px;\n",
              "    }\n",
              "\n",
              "    .colab-df-convert:hover {\n",
              "      background-color: #E2EBFA;\n",
              "      box-shadow: 0px 1px 2px rgba(60, 64, 67, 0.3), 0px 1px 3px 1px rgba(60, 64, 67, 0.15);\n",
              "      fill: #174EA6;\n",
              "    }\n",
              "\n",
              "    .colab-df-buttons div {\n",
              "      margin-bottom: 4px;\n",
              "    }\n",
              "\n",
              "    [theme=dark] .colab-df-convert {\n",
              "      background-color: #3B4455;\n",
              "      fill: #D2E3FC;\n",
              "    }\n",
              "\n",
              "    [theme=dark] .colab-df-convert:hover {\n",
              "      background-color: #434B5C;\n",
              "      box-shadow: 0px 1px 3px 1px rgba(0, 0, 0, 0.15);\n",
              "      filter: drop-shadow(0px 1px 2px rgba(0, 0, 0, 0.3));\n",
              "      fill: #FFFFFF;\n",
              "    }\n",
              "  </style>\n",
              "\n",
              "    <script>\n",
              "      const buttonEl =\n",
              "        document.querySelector('#df-9e92c053-537d-4b9e-8001-06dcb9ca2ef3 button.colab-df-convert');\n",
              "      buttonEl.style.display =\n",
              "        google.colab.kernel.accessAllowed ? 'block' : 'none';\n",
              "\n",
              "      async function convertToInteractive(key) {\n",
              "        const element = document.querySelector('#df-9e92c053-537d-4b9e-8001-06dcb9ca2ef3');\n",
              "        const dataTable =\n",
              "          await google.colab.kernel.invokeFunction('convertToInteractive',\n",
              "                                                    [key], {});\n",
              "        if (!dataTable) return;\n",
              "\n",
              "        const docLinkHtml = 'Like what you see? Visit the ' +\n",
              "          '<a target=\"_blank\" href=https://colab.research.google.com/notebooks/data_table.ipynb>data table notebook</a>'\n",
              "          + ' to learn more about interactive tables.';\n",
              "        element.innerHTML = '';\n",
              "        dataTable['output_type'] = 'display_data';\n",
              "        await google.colab.output.renderOutput(dataTable, element);\n",
              "        const docLink = document.createElement('div');\n",
              "        docLink.innerHTML = docLinkHtml;\n",
              "        element.appendChild(docLink);\n",
              "      }\n",
              "    </script>\n",
              "  </div>\n",
              "\n",
              "\n",
              "<div id=\"df-49c3ab0b-55aa-4b9d-a974-780120f43491\">\n",
              "  <button class=\"colab-df-quickchart\" onclick=\"quickchart('df-49c3ab0b-55aa-4b9d-a974-780120f43491')\"\n",
              "            title=\"Suggest charts\"\n",
              "            style=\"display:none;\">\n",
              "\n",
              "<svg xmlns=\"http://www.w3.org/2000/svg\" height=\"24px\"viewBox=\"0 0 24 24\"\n",
              "     width=\"24px\">\n",
              "    <g>\n",
              "        <path d=\"M19 3H5c-1.1 0-2 .9-2 2v14c0 1.1.9 2 2 2h14c1.1 0 2-.9 2-2V5c0-1.1-.9-2-2-2zM9 17H7v-7h2v7zm4 0h-2V7h2v10zm4 0h-2v-4h2v4z\"/>\n",
              "    </g>\n",
              "</svg>\n",
              "  </button>\n",
              "\n",
              "<style>\n",
              "  .colab-df-quickchart {\n",
              "      --bg-color: #E8F0FE;\n",
              "      --fill-color: #1967D2;\n",
              "      --hover-bg-color: #E2EBFA;\n",
              "      --hover-fill-color: #174EA6;\n",
              "      --disabled-fill-color: #AAA;\n",
              "      --disabled-bg-color: #DDD;\n",
              "  }\n",
              "\n",
              "  [theme=dark] .colab-df-quickchart {\n",
              "      --bg-color: #3B4455;\n",
              "      --fill-color: #D2E3FC;\n",
              "      --hover-bg-color: #434B5C;\n",
              "      --hover-fill-color: #FFFFFF;\n",
              "      --disabled-bg-color: #3B4455;\n",
              "      --disabled-fill-color: #666;\n",
              "  }\n",
              "\n",
              "  .colab-df-quickchart {\n",
              "    background-color: var(--bg-color);\n",
              "    border: none;\n",
              "    border-radius: 50%;\n",
              "    cursor: pointer;\n",
              "    display: none;\n",
              "    fill: var(--fill-color);\n",
              "    height: 32px;\n",
              "    padding: 0;\n",
              "    width: 32px;\n",
              "  }\n",
              "\n",
              "  .colab-df-quickchart:hover {\n",
              "    background-color: var(--hover-bg-color);\n",
              "    box-shadow: 0 1px 2px rgba(60, 64, 67, 0.3), 0 1px 3px 1px rgba(60, 64, 67, 0.15);\n",
              "    fill: var(--button-hover-fill-color);\n",
              "  }\n",
              "\n",
              "  .colab-df-quickchart-complete:disabled,\n",
              "  .colab-df-quickchart-complete:disabled:hover {\n",
              "    background-color: var(--disabled-bg-color);\n",
              "    fill: var(--disabled-fill-color);\n",
              "    box-shadow: none;\n",
              "  }\n",
              "\n",
              "  .colab-df-spinner {\n",
              "    border: 2px solid var(--fill-color);\n",
              "    border-color: transparent;\n",
              "    border-bottom-color: var(--fill-color);\n",
              "    animation:\n",
              "      spin 1s steps(1) infinite;\n",
              "  }\n",
              "\n",
              "  @keyframes spin {\n",
              "    0% {\n",
              "      border-color: transparent;\n",
              "      border-bottom-color: var(--fill-color);\n",
              "      border-left-color: var(--fill-color);\n",
              "    }\n",
              "    20% {\n",
              "      border-color: transparent;\n",
              "      border-left-color: var(--fill-color);\n",
              "      border-top-color: var(--fill-color);\n",
              "    }\n",
              "    30% {\n",
              "      border-color: transparent;\n",
              "      border-left-color: var(--fill-color);\n",
              "      border-top-color: var(--fill-color);\n",
              "      border-right-color: var(--fill-color);\n",
              "    }\n",
              "    40% {\n",
              "      border-color: transparent;\n",
              "      border-right-color: var(--fill-color);\n",
              "      border-top-color: var(--fill-color);\n",
              "    }\n",
              "    60% {\n",
              "      border-color: transparent;\n",
              "      border-right-color: var(--fill-color);\n",
              "    }\n",
              "    80% {\n",
              "      border-color: transparent;\n",
              "      border-right-color: var(--fill-color);\n",
              "      border-bottom-color: var(--fill-color);\n",
              "    }\n",
              "    90% {\n",
              "      border-color: transparent;\n",
              "      border-bottom-color: var(--fill-color);\n",
              "    }\n",
              "  }\n",
              "</style>\n",
              "\n",
              "  <script>\n",
              "    async function quickchart(key) {\n",
              "      const quickchartButtonEl =\n",
              "        document.querySelector('#' + key + ' button');\n",
              "      quickchartButtonEl.disabled = true;  // To prevent multiple clicks.\n",
              "      quickchartButtonEl.classList.add('colab-df-spinner');\n",
              "      try {\n",
              "        const charts = await google.colab.kernel.invokeFunction(\n",
              "            'suggestCharts', [key], {});\n",
              "      } catch (error) {\n",
              "        console.error('Error during call to suggestCharts:', error);\n",
              "      }\n",
              "      quickchartButtonEl.classList.remove('colab-df-spinner');\n",
              "      quickchartButtonEl.classList.add('colab-df-quickchart-complete');\n",
              "    }\n",
              "    (() => {\n",
              "      let quickchartButtonEl =\n",
              "        document.querySelector('#df-49c3ab0b-55aa-4b9d-a974-780120f43491 button');\n",
              "      quickchartButtonEl.style.display =\n",
              "        google.colab.kernel.accessAllowed ? 'block' : 'none';\n",
              "    })();\n",
              "  </script>\n",
              "</div>\n",
              "\n",
              "    </div>\n",
              "  </div>\n"
            ]
          },
          "metadata": {},
          "execution_count": 8
        }
      ]
    },
    {
      "cell_type": "markdown",
      "source": [
        "Como podemos observar os dados já estão classificados como caro ou barato dependendo do valor que declaramos anteriormente"
      ],
      "metadata": {
        "id": "sPmKd8lmL4uH"
      }
    },
    {
      "cell_type": "markdown",
      "source": [
        "Agora vamos observar mais a fundo a seguinte hipotese : **A média/mediana da qualidade do imóvel é superior para os apartamentos mais caros**"
      ],
      "metadata": {
        "id": "TX9XAN2WMGxG"
      }
    },
    {
      "cell_type": "code",
      "source": [
        "# Agrupando os dados e observando a média\n",
        "df.groupby(\"categoria_preco\")[\"OverallQual\"].mean()"
      ],
      "metadata": {
        "colab": {
          "base_uri": "https://localhost:8080/"
        },
        "id": "pn9VMnHvMOtl",
        "outputId": "bfd5baff-12d0-48cf-8c4a-144942a1eb6c"
      },
      "execution_count": 9,
      "outputs": [
        {
          "output_type": "execute_result",
          "data": {
            "text/plain": [
              "categoria_preco\n",
              "barata    5.588342\n",
              "cara      7.649171\n",
              "Name: OverallQual, dtype: float64"
            ]
          },
          "metadata": {},
          "execution_count": 9
        }
      ]
    },
    {
      "cell_type": "markdown",
      "source": [
        "Dessa forma estamos agrupando os dados pela coluna 'categoria_preco' e a nota da qualidade do material da casa e observando a média para cada uma das categorias. Podemos observar que as categorias apresentam diferentes médias, vamos observar um pouco mais afundo essa situação"
      ],
      "metadata": {
        "id": "JamoATYDMT58"
      }
    },
    {
      "cell_type": "markdown",
      "source": [
        "Observando a mediana"
      ],
      "metadata": {
        "id": "JOANL0aRPXVF"
      }
    },
    {
      "cell_type": "code",
      "source": [
        "# Agrupando os dados e observando a mediana\n",
        "df.groupby(\"categoria_preco\")[\"OverallQual\"].median()"
      ],
      "metadata": {
        "colab": {
          "base_uri": "https://localhost:8080/"
        },
        "id": "lFr7V232PD65",
        "outputId": "e666e6dd-83d4-4581-e3d1-4bc911c25bb3"
      },
      "execution_count": 12,
      "outputs": [
        {
          "output_type": "execute_result",
          "data": {
            "text/plain": [
              "categoria_preco\n",
              "barata    6.0\n",
              "cara      8.0\n",
              "Name: OverallQual, dtype: float64"
            ]
          },
          "metadata": {},
          "execution_count": 12
        }
      ]
    },
    {
      "cell_type": "markdown",
      "source": [
        "Vamos observar um boxplot dessas colunas"
      ],
      "metadata": {
        "id": "dAvf_W-DPjX9"
      }
    },
    {
      "cell_type": "code",
      "source": [
        "# Criando o boxplot\n",
        "sns.boxplot(data = df, x = \"categoria_preco\", y = \"OverallQual\");"
      ],
      "metadata": {
        "colab": {
          "base_uri": "https://localhost:8080/",
          "height": 467
        },
        "id": "DLriyLVPPn2j",
        "outputId": "3ef4f96f-c745-43ba-8cfd-f56b8fd14e0c"
      },
      "execution_count": 18,
      "outputs": [
        {
          "output_type": "execute_result",
          "data": {
            "text/plain": [
              "<Axes: xlabel='categoria_preco', ylabel='OverallQual'>"
            ]
          },
          "metadata": {},
          "execution_count": 18
        },
        {
          "output_type": "display_data",
          "data": {
            "text/plain": [
              "<Figure size 640x480 with 1 Axes>"
            ],
            "image/png": "[encoded data removed]"
          },
          "metadata": {}
        }
      ]
    },
    {
      "cell_type": "markdown",
      "source": [
        "- Notamos que existem diferenças entre as médias das casas caras e a média das casas baratas, o mesmo se aplica a mediana\n",
        "\n",
        "- As casas caras apresentam tanto a média quanto a mediana maior que as casas baratas ou seja, basicamente até o momento as casas caras realmente apresentam uma qualidade melhor no material"
      ],
      "metadata": {
        "id": "7xvU9j7VQH04"
      }
    },
    {
      "cell_type": "markdown",
      "source": [
        "Porém ainda não podemos concluir isso com 100% de certeza pois podemos observar que o limite inferior das casas caras, esta no mesmo valor que o 3° quartil das casas baratas e o limite superior das casas baratas está no 1º quartil das casas caras ou seja nesse intervalo tanto as casas baratas quanto as casas caras possuem a mesma qualidade, dessa forma ainda que a media, mediana e o distanciamento do boxplot indiquem que as casas mais caras realmente apresentam uma melhor qualidade não podemos afirmar com 100% de certeza graças a essa situação, para resolução dessa problematica seria necessaria a realização de um teste de hipotese para comprovar se realmente existe uma diferença de média"
      ],
      "metadata": {
        "id": "vMaNCckUQdsF"
      }
    },
    {
      "cell_type": "markdown",
      "source": [
        "Vamos observar a média das casas com a coluna nota geral da casa"
      ],
      "metadata": {
        "id": "t_UlcewWVRDq"
      }
    },
    {
      "cell_type": "code",
      "source": [
        "# Agrupando os dados e observando a média\n",
        "df.groupby(\"categoria_preco\")[\"OverallCond\"].mean()"
      ],
      "metadata": {
        "colab": {
          "base_uri": "https://localhost:8080/"
        },
        "id": "jQNK-1bxVbOL",
        "outputId": "0f1849bb-7875-4407-b22a-20d6eea50279"
      },
      "execution_count": 21,
      "outputs": [
        {
          "output_type": "execute_result",
          "data": {
            "text/plain": [
              "categoria_preco\n",
              "barata    5.631148\n",
              "cara      5.406077\n",
              "Name: OverallCond, dtype: float64"
            ]
          },
          "metadata": {},
          "execution_count": 21
        }
      ]
    },
    {
      "cell_type": "markdown",
      "source": [
        "Observando a mediana"
      ],
      "metadata": {
        "id": "r3L3VwpZV0Xf"
      }
    },
    {
      "cell_type": "code",
      "source": [
        "# Agrupando os dados e observando a mediana\n",
        "df.groupby(\"categoria_preco\")[\"OverallCond\"].median()"
      ],
      "metadata": {
        "colab": {
          "base_uri": "https://localhost:8080/"
        },
        "id": "2WY1aT12Vkvp",
        "outputId": "f51a8d94-9e4d-4103-ca73-1ac7be540e3e"
      },
      "execution_count": 22,
      "outputs": [
        {
          "output_type": "execute_result",
          "data": {
            "text/plain": [
              "categoria_preco\n",
              "barata    5.0\n",
              "cara      5.0\n",
              "Name: OverallCond, dtype: float64"
            ]
          },
          "metadata": {},
          "execution_count": 22
        }
      ]
    }
  ]
}