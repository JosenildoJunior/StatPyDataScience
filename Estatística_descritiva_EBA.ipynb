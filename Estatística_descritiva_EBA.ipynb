{
  "nbformat": 4,
  "nbformat_minor": 0,
  "metadata": {
    "colab": {
      "provenance": [],
      "collapsed_sections": [
        "YXhjgdPfmAqV",
        "Q7x3-ehFnNm1",
        "NzpK7YKMsS0P",
        "DNILOAaqJn2w",
        "JuA3lk7TJ-DN",
        "TX9XAN2WMGxG",
        "HERSWEYVkDQZ",
        "gM2gZLAdmKQS",
        "JNPM3-mrB1x6",
        "WnA3M45qHn44",
        "4JN0bQhhN7fn",
        "HLwz5FrSSZjN",
        "pn46y-i3Tnwm",
        "Q6CbTaR-X8tM",
        "oZUU7qz3cu20",
        "o2bbCU7pc3k6"
      ],
      "authorship_tag": "ABX9TyP3QL30jhiuC9nlEWRbl1Yy",
      "include_colab_link": true
    },
    "kernelspec": {
      "name": "python3",
      "display_name": "Python 3"
    },
    "language_info": {
      "name": "python"
    }
  },
  "cells": [
    {
      "cell_type": "markdown",
      "metadata": {
        "id": "view-in-github",
        "colab_type": "text"
      },
      "source": [
        "<a href=\"https://colab.research.google.com/github/JosenildoJunior/StatPyDataScience/blob/main/Estat%C3%ADstica_descritiva_EBA.ipynb\" target=\"_parent\"><img src=\"https://colab.research.google.com/assets/colab-badge.svg\" alt=\"Open In Colab\"/></a>"
      ]
    },
    {
      "cell_type": "markdown",
      "source": [
        "# **Introdução à Estatística Descritiva**"
      ],
      "metadata": {
        "id": "sRNJnk7RldJF"
      }
    },
    {
      "cell_type": "markdown",
      "source": [
        "A Estatística Descritiva é uma área fundamental da estatística que se concentra na organização, resumo e interpretação de dados. Ela busca extrair informações úteis e compreensíveis a partir de conjuntos de dados, permitindo uma análise mais eficaz e uma compreensão mais profunda dos fenômenos estudados."
      ],
      "metadata": {
        "id": "sa-TLEEwlixg"
      }
    },
    {
      "cell_type": "markdown",
      "source": [
        "## **Carregando os dados**"
      ],
      "metadata": {
        "id": "YXhjgdPfmAqV"
      }
    },
    {
      "cell_type": "markdown",
      "source": [
        "Vamos realizar a importação dos dados para que possamos aplicar diferentes tecnicas da estatistica descritiva"
      ],
      "metadata": {
        "id": "dajjTEFQmEL1"
      }
    },
    {
      "cell_type": "code",
      "execution_count": 34,
      "metadata": {
        "colab": {
          "base_uri": "https://localhost:8080/"
        },
        "id": "Aaz6zSxWPk0T",
        "outputId": "ee354b1d-634b-40e8-d2ab-6b4724cff9b4"
      },
      "outputs": [
        {
          "output_type": "stream",
          "name": "stdout",
          "text": [
            "Drive already mounted at /content/drive; to attempt to forcibly remount, call drive.mount(\"/content/drive\", force_remount=True).\n"
          ]
        }
      ],
      "source": [
        "# Acesso ao drive\n",
        "from google.colab import drive\n",
        "drive.mount('/content/drive')"
      ]
    },
    {
      "cell_type": "code",
      "source": [
        "# Manipulação de dados\n",
        "import pandas as pd\n",
        "\n",
        "# Algébra linear\n",
        "import numpy as np\n",
        "\n",
        "# Visualização de dados\n",
        "import matplotlib.pyplot as plt\n",
        "import seaborn as sns\n",
        "\n",
        "# Funções estatísticas\n",
        "import statistics\n",
        "import scipy.stats"
      ],
      "metadata": {
        "id": "J7qkoYNumUhr"
      },
      "execution_count": 35,
      "outputs": []
    },
    {
      "cell_type": "markdown",
      "source": [
        "Agora que já importamos todas as bibliotecas necessarias vamos importar a base de dados propriamente dita"
      ],
      "metadata": {
        "id": "0VG4LMA4mdhj"
      }
    },
    {
      "cell_type": "code",
      "source": [
        "# Importando o dataset\n",
        "df = pd.read_csv('/content/drive/MyDrive/Estatística para ciência de dados/house_price.csv')"
      ],
      "metadata": {
        "id": "8gV-lOZAmcba"
      },
      "execution_count": 36,
      "outputs": []
    },
    {
      "cell_type": "markdown",
      "source": [
        "Agora que já carregamos a base de dados vamos ter um primeiro contato com esses dados"
      ],
      "metadata": {
        "id": "mma_r-4HnPK8"
      }
    },
    {
      "cell_type": "code",
      "source": [
        "# Observando os primeiros registros\n",
        "df.head()"
      ],
      "metadata": {
        "colab": {
          "base_uri": "https://localhost:8080/",
          "height": 0
        },
        "id": "r95IEky2nYqx",
        "outputId": "2c204e84-0f5c-44a2-ce1d-e67f21d512ea"
      },
      "execution_count": 37,
      "outputs": [
        {
          "output_type": "execute_result",
          "data": {
            "text/plain": [
              "   Unnamed: 0  SalePrice  OverallQual  OverallCond  BedroomAbvGr  \\\n",
              "0           0     208500            7            5             3   \n",
              "1           1     181500            6            8             3   \n",
              "2           2     223500            7            5             3   \n",
              "3           3     140000            7            5             3   \n",
              "4           4     250000            8            5             4   \n",
              "\n",
              "   TotRmsAbvGrd  GrLivArea  TotalBsmtSF  YearBuilt MSZoning Utilities BldgType  \n",
              "0             8       1710          856       2003       RL    AllPub     1Fam  \n",
              "1             6       1262         1262       1976       RL    AllPub     1Fam  \n",
              "2             6       1786          920       2001       RL    AllPub     1Fam  \n",
              "3             7       1717          756       1915       RL    AllPub     1Fam  \n",
              "4             9       2198         1145       2000       RL    AllPub     1Fam  "
            ],
            "text/html": [
              "\n",
              "  <div id=\"df-c774b818-ae68-4fcf-99da-7f03353932f5\" class=\"colab-df-container\">\n",
              "    <div>\n",
              "<style scoped>\n",
              "    .dataframe tbody tr th:only-of-type {\n",
              "        vertical-align: middle;\n",
              "    }\n",
              "\n",
              "    .dataframe tbody tr th {\n",
              "        vertical-align: top;\n",
              "    }\n",
              "\n",
              "    .dataframe thead th {\n",
              "        text-align: right;\n",
              "    }\n",
              "</style>\n",
              "<table border=\"1\" class=\"dataframe\">\n",
              "  <thead>\n",
              "    <tr style=\"text-align: right;\">\n",
              "      <th></th>\n",
              "      <th>Unnamed: 0</th>\n",
              "      <th>SalePrice</th>\n",
              "      <th>OverallQual</th>\n",
              "      <th>OverallCond</th>\n",
              "      <th>BedroomAbvGr</th>\n",
              "      <th>TotRmsAbvGrd</th>\n",
              "      <th>GrLivArea</th>\n",
              "      <th>TotalBsmtSF</th>\n",
              "      <th>YearBuilt</th>\n",
              "      <th>MSZoning</th>\n",
              "      <th>Utilities</th>\n",
              "      <th>BldgType</th>\n",
              "    </tr>\n",
              "  </thead>\n",
              "  <tbody>\n",
              "    <tr>\n",
              "      <th>0</th>\n",
              "      <td>0</td>\n",
              "      <td>208500</td>\n",
              "      <td>7</td>\n",
              "      <td>5</td>\n",
              "      <td>3</td>\n",
              "      <td>8</td>\n",
              "      <td>1710</td>\n",
              "      <td>856</td>\n",
              "      <td>2003</td>\n",
              "      <td>RL</td>\n",
              "      <td>AllPub</td>\n",
              "      <td>1Fam</td>\n",
              "    </tr>\n",
              "    <tr>\n",
              "      <th>1</th>\n",
              "      <td>1</td>\n",
              "      <td>181500</td>\n",
              "      <td>6</td>\n",
              "      <td>8</td>\n",
              "      <td>3</td>\n",
              "      <td>6</td>\n",
              "      <td>1262</td>\n",
              "      <td>1262</td>\n",
              "      <td>1976</td>\n",
              "      <td>RL</td>\n",
              "      <td>AllPub</td>\n",
              "      <td>1Fam</td>\n",
              "    </tr>\n",
              "    <tr>\n",
              "      <th>2</th>\n",
              "      <td>2</td>\n",
              "      <td>223500</td>\n",
              "      <td>7</td>\n",
              "      <td>5</td>\n",
              "      <td>3</td>\n",
              "      <td>6</td>\n",
              "      <td>1786</td>\n",
              "      <td>920</td>\n",
              "      <td>2001</td>\n",
              "      <td>RL</td>\n",
              "      <td>AllPub</td>\n",
              "      <td>1Fam</td>\n",
              "    </tr>\n",
              "    <tr>\n",
              "      <th>3</th>\n",
              "      <td>3</td>\n",
              "      <td>140000</td>\n",
              "      <td>7</td>\n",
              "      <td>5</td>\n",
              "      <td>3</td>\n",
              "      <td>7</td>\n",
              "      <td>1717</td>\n",
              "      <td>756</td>\n",
              "      <td>1915</td>\n",
              "      <td>RL</td>\n",
              "      <td>AllPub</td>\n",
              "      <td>1Fam</td>\n",
              "    </tr>\n",
              "    <tr>\n",
              "      <th>4</th>\n",
              "      <td>4</td>\n",
              "      <td>250000</td>\n",
              "      <td>8</td>\n",
              "      <td>5</td>\n",
              "      <td>4</td>\n",
              "      <td>9</td>\n",
              "      <td>2198</td>\n",
              "      <td>1145</td>\n",
              "      <td>2000</td>\n",
              "      <td>RL</td>\n",
              "      <td>AllPub</td>\n",
              "      <td>1Fam</td>\n",
              "    </tr>\n",
              "  </tbody>\n",
              "</table>\n",
              "</div>\n",
              "    <div class=\"colab-df-buttons\">\n",
              "\n",
              "  <div class=\"colab-df-container\">\n",
              "    <button class=\"colab-df-convert\" onclick=\"convertToInteractive('df-c774b818-ae68-4fcf-99da-7f03353932f5')\"\n",
              "            title=\"Convert this dataframe to an interactive table.\"\n",
              "            style=\"display:none;\">\n",
              "\n",
              "  <svg xmlns=\"http://www.w3.org/2000/svg\" height=\"24px\" viewBox=\"0 -960 960 960\">\n",
              "    <path d=\"M120-120v-720h720v720H120Zm60-500h600v-160H180v160Zm220 220h160v-160H400v160Zm0 220h160v-160H400v160ZM180-400h160v-160H180v160Zm440 0h160v-160H620v160ZM180-180h160v-160H180v160Zm440 0h160v-160H620v160Z\"/>\n",
              "  </svg>\n",
              "    </button>\n",
              "\n",
              "  <style>\n",
              "    .colab-df-container {\n",
              "      display:flex;\n",
              "      gap: 12px;\n",
              "    }\n",
              "\n",
              "    .colab-df-convert {\n",
              "      background-color: #E8F0FE;\n",
              "      border: none;\n",
              "      border-radius: 50%;\n",
              "      cursor: pointer;\n",
              "      display: none;\n",
              "      fill: #1967D2;\n",
              "      height: 32px;\n",
              "      padding: 0 0 0 0;\n",
              "      width: 32px;\n",
              "    }\n",
              "\n",
              "    .colab-df-convert:hover {\n",
              "      background-color: #E2EBFA;\n",
              "      box-shadow: 0px 1px 2px rgba(60, 64, 67, 0.3), 0px 1px 3px 1px rgba(60, 64, 67, 0.15);\n",
              "      fill: #174EA6;\n",
              "    }\n",
              "\n",
              "    .colab-df-buttons div {\n",
              "      margin-bottom: 4px;\n",
              "    }\n",
              "\n",
              "    [theme=dark] .colab-df-convert {\n",
              "      background-color: #3B4455;\n",
              "      fill: #D2E3FC;\n",
              "    }\n",
              "\n",
              "    [theme=dark] .colab-df-convert:hover {\n",
              "      background-color: #434B5C;\n",
              "      box-shadow: 0px 1px 3px 1px rgba(0, 0, 0, 0.15);\n",
              "      filter: drop-shadow(0px 1px 2px rgba(0, 0, 0, 0.3));\n",
              "      fill: #FFFFFF;\n",
              "    }\n",
              "  </style>\n",
              "\n",
              "    <script>\n",
              "      const buttonEl =\n",
              "        document.querySelector('#df-c774b818-ae68-4fcf-99da-7f03353932f5 button.colab-df-convert');\n",
              "      buttonEl.style.display =\n",
              "        google.colab.kernel.accessAllowed ? 'block' : 'none';\n",
              "\n",
              "      async function convertToInteractive(key) {\n",
              "        const element = document.querySelector('#df-c774b818-ae68-4fcf-99da-7f03353932f5');\n",
              "        const dataTable =\n",
              "          await google.colab.kernel.invokeFunction('convertToInteractive',\n",
              "                                                    [key], {});\n",
              "        if (!dataTable) return;\n",
              "\n",
              "        const docLinkHtml = 'Like what you see? Visit the ' +\n",
              "          '<a target=\"_blank\" href=https://colab.research.google.com/notebooks/data_table.ipynb>data table notebook</a>'\n",
              "          + ' to learn more about interactive tables.';\n",
              "        element.innerHTML = '';\n",
              "        dataTable['output_type'] = 'display_data';\n",
              "        await google.colab.output.renderOutput(dataTable, element);\n",
              "        const docLink = document.createElement('div');\n",
              "        docLink.innerHTML = docLinkHtml;\n",
              "        element.appendChild(docLink);\n",
              "      }\n",
              "    </script>\n",
              "  </div>\n",
              "\n",
              "\n",
              "<div id=\"df-b5f0646a-149f-41c3-a4d8-b6eff517d819\">\n",
              "  <button class=\"colab-df-quickchart\" onclick=\"quickchart('df-b5f0646a-149f-41c3-a4d8-b6eff517d819')\"\n",
              "            title=\"Suggest charts\"\n",
              "            style=\"display:none;\">\n",
              "\n",
              "<svg xmlns=\"http://www.w3.org/2000/svg\" height=\"24px\"viewBox=\"0 0 24 24\"\n",
              "     width=\"24px\">\n",
              "    <g>\n",
              "        <path d=\"M19 3H5c-1.1 0-2 .9-2 2v14c0 1.1.9 2 2 2h14c1.1 0 2-.9 2-2V5c0-1.1-.9-2-2-2zM9 17H7v-7h2v7zm4 0h-2V7h2v10zm4 0h-2v-4h2v4z\"/>\n",
              "    </g>\n",
              "</svg>\n",
              "  </button>\n",
              "\n",
              "<style>\n",
              "  .colab-df-quickchart {\n",
              "      --bg-color: #E8F0FE;\n",
              "      --fill-color: #1967D2;\n",
              "      --hover-bg-color: #E2EBFA;\n",
              "      --hover-fill-color: #174EA6;\n",
              "      --disabled-fill-color: #AAA;\n",
              "      --disabled-bg-color: #DDD;\n",
              "  }\n",
              "\n",
              "  [theme=dark] .colab-df-quickchart {\n",
              "      --bg-color: #3B4455;\n",
              "      --fill-color: #D2E3FC;\n",
              "      --hover-bg-color: #434B5C;\n",
              "      --hover-fill-color: #FFFFFF;\n",
              "      --disabled-bg-color: #3B4455;\n",
              "      --disabled-fill-color: #666;\n",
              "  }\n",
              "\n",
              "  .colab-df-quickchart {\n",
              "    background-color: var(--bg-color);\n",
              "    border: none;\n",
              "    border-radius: 50%;\n",
              "    cursor: pointer;\n",
              "    display: none;\n",
              "    fill: var(--fill-color);\n",
              "    height: 32px;\n",
              "    padding: 0;\n",
              "    width: 32px;\n",
              "  }\n",
              "\n",
              "  .colab-df-quickchart:hover {\n",
              "    background-color: var(--hover-bg-color);\n",
              "    box-shadow: 0 1px 2px rgba(60, 64, 67, 0.3), 0 1px 3px 1px rgba(60, 64, 67, 0.15);\n",
              "    fill: var(--button-hover-fill-color);\n",
              "  }\n",
              "\n",
              "  .colab-df-quickchart-complete:disabled,\n",
              "  .colab-df-quickchart-complete:disabled:hover {\n",
              "    background-color: var(--disabled-bg-color);\n",
              "    fill: var(--disabled-fill-color);\n",
              "    box-shadow: none;\n",
              "  }\n",
              "\n",
              "  .colab-df-spinner {\n",
              "    border: 2px solid var(--fill-color);\n",
              "    border-color: transparent;\n",
              "    border-bottom-color: var(--fill-color);\n",
              "    animation:\n",
              "      spin 1s steps(1) infinite;\n",
              "  }\n",
              "\n",
              "  @keyframes spin {\n",
              "    0% {\n",
              "      border-color: transparent;\n",
              "      border-bottom-color: var(--fill-color);\n",
              "      border-left-color: var(--fill-color);\n",
              "    }\n",
              "    20% {\n",
              "      border-color: transparent;\n",
              "      border-left-color: var(--fill-color);\n",
              "      border-top-color: var(--fill-color);\n",
              "    }\n",
              "    30% {\n",
              "      border-color: transparent;\n",
              "      border-left-color: var(--fill-color);\n",
              "      border-top-color: var(--fill-color);\n",
              "      border-right-color: var(--fill-color);\n",
              "    }\n",
              "    40% {\n",
              "      border-color: transparent;\n",
              "      border-right-color: var(--fill-color);\n",
              "      border-top-color: var(--fill-color);\n",
              "    }\n",
              "    60% {\n",
              "      border-color: transparent;\n",
              "      border-right-color: var(--fill-color);\n",
              "    }\n",
              "    80% {\n",
              "      border-color: transparent;\n",
              "      border-right-color: var(--fill-color);\n",
              "      border-bottom-color: var(--fill-color);\n",
              "    }\n",
              "    90% {\n",
              "      border-color: transparent;\n",
              "      border-bottom-color: var(--fill-color);\n",
              "    }\n",
              "  }\n",
              "</style>\n",
              "\n",
              "  <script>\n",
              "    async function quickchart(key) {\n",
              "      const quickchartButtonEl =\n",
              "        document.querySelector('#' + key + ' button');\n",
              "      quickchartButtonEl.disabled = true;  // To prevent multiple clicks.\n",
              "      quickchartButtonEl.classList.add('colab-df-spinner');\n",
              "      try {\n",
              "        const charts = await google.colab.kernel.invokeFunction(\n",
              "            'suggestCharts', [key], {});\n",
              "      } catch (error) {\n",
              "        console.error('Error during call to suggestCharts:', error);\n",
              "      }\n",
              "      quickchartButtonEl.classList.remove('colab-df-spinner');\n",
              "      quickchartButtonEl.classList.add('colab-df-quickchart-complete');\n",
              "    }\n",
              "    (() => {\n",
              "      let quickchartButtonEl =\n",
              "        document.querySelector('#df-b5f0646a-149f-41c3-a4d8-b6eff517d819 button');\n",
              "      quickchartButtonEl.style.display =\n",
              "        google.colab.kernel.accessAllowed ? 'block' : 'none';\n",
              "    })();\n",
              "  </script>\n",
              "</div>\n",
              "\n",
              "    </div>\n",
              "  </div>\n"
            ],
            "application/vnd.google.colaboratory.intrinsic+json": {
              "type": "dataframe",
              "variable_name": "df",
              "summary": "{\n  \"name\": \"df\",\n  \"rows\": 1460,\n  \"fields\": [\n    {\n      \"column\": \"Unnamed: 0\",\n      \"properties\": {\n        \"dtype\": \"number\",\n        \"std\": 421,\n        \"min\": 0,\n        \"max\": 1459,\n        \"num_unique_values\": 1460,\n        \"samples\": [\n          892,\n          1105,\n          413\n        ],\n        \"semantic_type\": \"\",\n        \"description\": \"\"\n      }\n    },\n    {\n      \"column\": \"SalePrice\",\n      \"properties\": {\n        \"dtype\": \"number\",\n        \"std\": 79442,\n        \"min\": 34900,\n        \"max\": 755000,\n        \"num_unique_values\": 663,\n        \"samples\": [\n          91300,\n          174500,\n          150900\n        ],\n        \"semantic_type\": \"\",\n        \"description\": \"\"\n      }\n    },\n    {\n      \"column\": \"OverallQual\",\n      \"properties\": {\n        \"dtype\": \"number\",\n        \"std\": 1,\n        \"min\": 1,\n        \"max\": 10,\n        \"num_unique_values\": 10,\n        \"samples\": [\n          1,\n          6,\n          4\n        ],\n        \"semantic_type\": \"\",\n        \"description\": \"\"\n      }\n    },\n    {\n      \"column\": \"OverallCond\",\n      \"properties\": {\n        \"dtype\": \"number\",\n        \"std\": 1,\n        \"min\": 1,\n        \"max\": 9,\n        \"num_unique_values\": 9,\n        \"samples\": [\n          9,\n          8,\n          2\n        ],\n        \"semantic_type\": \"\",\n        \"description\": \"\"\n      }\n    },\n    {\n      \"column\": \"BedroomAbvGr\",\n      \"properties\": {\n        \"dtype\": \"number\",\n        \"std\": 0,\n        \"min\": 0,\n        \"max\": 8,\n        \"num_unique_values\": 8,\n        \"samples\": [\n          4,\n          5,\n          3\n        ],\n        \"semantic_type\": \"\",\n        \"description\": \"\"\n      }\n    },\n    {\n      \"column\": \"TotRmsAbvGrd\",\n      \"properties\": {\n        \"dtype\": \"number\",\n        \"std\": 1,\n        \"min\": 2,\n        \"max\": 14,\n        \"num_unique_values\": 12,\n        \"samples\": [\n          2,\n          3,\n          8\n        ],\n        \"semantic_type\": \"\",\n        \"description\": \"\"\n      }\n    },\n    {\n      \"column\": \"GrLivArea\",\n      \"properties\": {\n        \"dtype\": \"number\",\n        \"std\": 525,\n        \"min\": 334,\n        \"max\": 5642,\n        \"num_unique_values\": 861,\n        \"samples\": [\n          1459,\n          1775,\n          840\n        ],\n        \"semantic_type\": \"\",\n        \"description\": \"\"\n      }\n    },\n    {\n      \"column\": \"TotalBsmtSF\",\n      \"properties\": {\n        \"dtype\": \"number\",\n        \"std\": 438,\n        \"min\": 0,\n        \"max\": 6110,\n        \"num_unique_values\": 721,\n        \"samples\": [\n          1536,\n          1192,\n          684\n        ],\n        \"semantic_type\": \"\",\n        \"description\": \"\"\n      }\n    },\n    {\n      \"column\": \"YearBuilt\",\n      \"properties\": {\n        \"dtype\": \"number\",\n        \"std\": 30,\n        \"min\": 1872,\n        \"max\": 2010,\n        \"num_unique_values\": 112,\n        \"samples\": [\n          1999,\n          1936,\n          2000\n        ],\n        \"semantic_type\": \"\",\n        \"description\": \"\"\n      }\n    },\n    {\n      \"column\": \"MSZoning\",\n      \"properties\": {\n        \"dtype\": \"category\",\n        \"num_unique_values\": 5,\n        \"samples\": [\n          \"RM\",\n          \"RH\",\n          \"C (all)\"\n        ],\n        \"semantic_type\": \"\",\n        \"description\": \"\"\n      }\n    },\n    {\n      \"column\": \"Utilities\",\n      \"properties\": {\n        \"dtype\": \"category\",\n        \"num_unique_values\": 2,\n        \"samples\": [\n          \"NoSeWa\",\n          \"AllPub\"\n        ],\n        \"semantic_type\": \"\",\n        \"description\": \"\"\n      }\n    },\n    {\n      \"column\": \"BldgType\",\n      \"properties\": {\n        \"dtype\": \"category\",\n        \"num_unique_values\": 5,\n        \"samples\": [\n          \"2fmCon\",\n          \"Twnhs\"\n        ],\n        \"semantic_type\": \"\",\n        \"description\": \"\"\n      }\n    }\n  ]\n}"
            }
          },
          "metadata": {},
          "execution_count": 37
        }
      ]
    },
    {
      "cell_type": "markdown",
      "source": [
        "Vemos diversas variaveis aqui, que até o momento não sabemos do que se trata então vamos observar o dicionario de dados"
      ],
      "metadata": {
        "id": "OvsBfA3InbYS"
      }
    },
    {
      "cell_type": "markdown",
      "source": [
        "- SalePrice: Price of sale\n",
        "- OverallQual: Rates the overall material and finish of the house\n",
        "- OverallCond: Rates the overall condition of the house\n",
        "- BedroomAbvGr: Bedrooms above grade (does NOT include basement bedrooms)\n",
        "- TotRmsAbvGrd: Total rooms above grade (does not include bathrooms)\n",
        "- GrLivArea: Above grade (ground) living area square feet\n",
        "- TotalBsmtSF: Total square feet of basement area\n",
        "\n",
        "- YearBuilt: Original construction date\n",
        "\n",
        "- MSZoning - Identifies the general zoning classification of the sale\n",
        "  - A    Agriculture\n",
        "  - C    Commercial\n",
        "  - FV    Floating Village Residential\n",
        "  - I     Industrial\n",
        "  - RH    Residential High Density\n",
        "  - RL    Residential Low Density\n",
        "  - RP    Residential Low Density Park\n",
        "  - RM    Residential Medium Density\n",
        "\n",
        "- Utilities: Type of utilities available\n",
        " - AllPub    All public Utilities (E,G,W,& S)    \n",
        " - NoSewr    Electricity, Gas, and Water (Septic Tank)\n",
        " - NoSeWa    Electricity and Gas Only\n",
        " - ELO       Electricity only    \n",
        "\n",
        "- BldgType: Type of dwelling\n",
        " - 1Fam      Single-family Detached    \n",
        " - 2FmCon    Two-family Conversion; originally built as one-family dwelling\n",
        " - Duplx     Duplex\n",
        " - TwnhsE    Townhouse End Unit\n",
        " - TwnhsI    Townhouse Inside Unit"
      ],
      "metadata": {
        "id": "oLRZ1Jz_ng5r"
      }
    },
    {
      "cell_type": "markdown",
      "source": [
        "## **Medidas de Tendência Central**"
      ],
      "metadata": {
        "id": "Q7x3-ehFnNm1"
      }
    },
    {
      "cell_type": "markdown",
      "source": [
        "- Média: Representa o valor médio de um conjunto de dados.\n",
        "- Mediana: O valor que divide o conjunto de dados ao meio quando ordenado.\n",
        "- Moda: O valor mais frequente em um conjunto de dados."
      ],
      "metadata": {
        "id": "p1wb6tD2ojqb"
      }
    },
    {
      "cell_type": "markdown",
      "source": [
        "Vamos observar como conseguir cada uma dessas medidas, mas antes, vamos observar novamente como estão nossos dados."
      ],
      "metadata": {
        "id": "k_zTOqU9oxg4"
      }
    },
    {
      "cell_type": "code",
      "source": [
        "# Observando os primeiros registros\n",
        "df.head()"
      ],
      "metadata": {
        "colab": {
          "base_uri": "https://localhost:8080/",
          "height": 0
        },
        "id": "5ZaKgVv_o4WK",
        "outputId": "7f53ba4b-7e06-4ed0-941b-e8c594852a5c"
      },
      "execution_count": 38,
      "outputs": [
        {
          "output_type": "execute_result",
          "data": {
            "text/plain": [
              "   Unnamed: 0  SalePrice  OverallQual  OverallCond  BedroomAbvGr  \\\n",
              "0           0     208500            7            5             3   \n",
              "1           1     181500            6            8             3   \n",
              "2           2     223500            7            5             3   \n",
              "3           3     140000            7            5             3   \n",
              "4           4     250000            8            5             4   \n",
              "\n",
              "   TotRmsAbvGrd  GrLivArea  TotalBsmtSF  YearBuilt MSZoning Utilities BldgType  \n",
              "0             8       1710          856       2003       RL    AllPub     1Fam  \n",
              "1             6       1262         1262       1976       RL    AllPub     1Fam  \n",
              "2             6       1786          920       2001       RL    AllPub     1Fam  \n",
              "3             7       1717          756       1915       RL    AllPub     1Fam  \n",
              "4             9       2198         1145       2000       RL    AllPub     1Fam  "
            ],
            "text/html": [
              "\n",
              "  <div id=\"df-7c40339a-035d-467e-a638-41508d05b1ff\" class=\"colab-df-container\">\n",
              "    <div>\n",
              "<style scoped>\n",
              "    .dataframe tbody tr th:only-of-type {\n",
              "        vertical-align: middle;\n",
              "    }\n",
              "\n",
              "    .dataframe tbody tr th {\n",
              "        vertical-align: top;\n",
              "    }\n",
              "\n",
              "    .dataframe thead th {\n",
              "        text-align: right;\n",
              "    }\n",
              "</style>\n",
              "<table border=\"1\" class=\"dataframe\">\n",
              "  <thead>\n",
              "    <tr style=\"text-align: right;\">\n",
              "      <th></th>\n",
              "      <th>Unnamed: 0</th>\n",
              "      <th>SalePrice</th>\n",
              "      <th>OverallQual</th>\n",
              "      <th>OverallCond</th>\n",
              "      <th>BedroomAbvGr</th>\n",
              "      <th>TotRmsAbvGrd</th>\n",
              "      <th>GrLivArea</th>\n",
              "      <th>TotalBsmtSF</th>\n",
              "      <th>YearBuilt</th>\n",
              "      <th>MSZoning</th>\n",
              "      <th>Utilities</th>\n",
              "      <th>BldgType</th>\n",
              "    </tr>\n",
              "  </thead>\n",
              "  <tbody>\n",
              "    <tr>\n",
              "      <th>0</th>\n",
              "      <td>0</td>\n",
              "      <td>208500</td>\n",
              "      <td>7</td>\n",
              "      <td>5</td>\n",
              "      <td>3</td>\n",
              "      <td>8</td>\n",
              "      <td>1710</td>\n",
              "      <td>856</td>\n",
              "      <td>2003</td>\n",
              "      <td>RL</td>\n",
              "      <td>AllPub</td>\n",
              "      <td>1Fam</td>\n",
              "    </tr>\n",
              "    <tr>\n",
              "      <th>1</th>\n",
              "      <td>1</td>\n",
              "      <td>181500</td>\n",
              "      <td>6</td>\n",
              "      <td>8</td>\n",
              "      <td>3</td>\n",
              "      <td>6</td>\n",
              "      <td>1262</td>\n",
              "      <td>1262</td>\n",
              "      <td>1976</td>\n",
              "      <td>RL</td>\n",
              "      <td>AllPub</td>\n",
              "      <td>1Fam</td>\n",
              "    </tr>\n",
              "    <tr>\n",
              "      <th>2</th>\n",
              "      <td>2</td>\n",
              "      <td>223500</td>\n",
              "      <td>7</td>\n",
              "      <td>5</td>\n",
              "      <td>3</td>\n",
              "      <td>6</td>\n",
              "      <td>1786</td>\n",
              "      <td>920</td>\n",
              "      <td>2001</td>\n",
              "      <td>RL</td>\n",
              "      <td>AllPub</td>\n",
              "      <td>1Fam</td>\n",
              "    </tr>\n",
              "    <tr>\n",
              "      <th>3</th>\n",
              "      <td>3</td>\n",
              "      <td>140000</td>\n",
              "      <td>7</td>\n",
              "      <td>5</td>\n",
              "      <td>3</td>\n",
              "      <td>7</td>\n",
              "      <td>1717</td>\n",
              "      <td>756</td>\n",
              "      <td>1915</td>\n",
              "      <td>RL</td>\n",
              "      <td>AllPub</td>\n",
              "      <td>1Fam</td>\n",
              "    </tr>\n",
              "    <tr>\n",
              "      <th>4</th>\n",
              "      <td>4</td>\n",
              "      <td>250000</td>\n",
              "      <td>8</td>\n",
              "      <td>5</td>\n",
              "      <td>4</td>\n",
              "      <td>9</td>\n",
              "      <td>2198</td>\n",
              "      <td>1145</td>\n",
              "      <td>2000</td>\n",
              "      <td>RL</td>\n",
              "      <td>AllPub</td>\n",
              "      <td>1Fam</td>\n",
              "    </tr>\n",
              "  </tbody>\n",
              "</table>\n",
              "</div>\n",
              "    <div class=\"colab-df-buttons\">\n",
              "\n",
              "  <div class=\"colab-df-container\">\n",
              "    <button class=\"colab-df-convert\" onclick=\"convertToInteractive('df-7c40339a-035d-467e-a638-41508d05b1ff')\"\n",
              "            title=\"Convert this dataframe to an interactive table.\"\n",
              "            style=\"display:none;\">\n",
              "\n",
              "  <svg xmlns=\"http://www.w3.org/2000/svg\" height=\"24px\" viewBox=\"0 -960 960 960\">\n",
              "    <path d=\"M120-120v-720h720v720H120Zm60-500h600v-160H180v160Zm220 220h160v-160H400v160Zm0 220h160v-160H400v160ZM180-400h160v-160H180v160Zm440 0h160v-160H620v160ZM180-180h160v-160H180v160Zm440 0h160v-160H620v160Z\"/>\n",
              "  </svg>\n",
              "    </button>\n",
              "\n",
              "  <style>\n",
              "    .colab-df-container {\n",
              "      display:flex;\n",
              "      gap: 12px;\n",
              "    }\n",
              "\n",
              "    .colab-df-convert {\n",
              "      background-color: #E8F0FE;\n",
              "      border: none;\n",
              "      border-radius: 50%;\n",
              "      cursor: pointer;\n",
              "      display: none;\n",
              "      fill: #1967D2;\n",
              "      height: 32px;\n",
              "      padding: 0 0 0 0;\n",
              "      width: 32px;\n",
              "    }\n",
              "\n",
              "    .colab-df-convert:hover {\n",
              "      background-color: #E2EBFA;\n",
              "      box-shadow: 0px 1px 2px rgba(60, 64, 67, 0.3), 0px 1px 3px 1px rgba(60, 64, 67, 0.15);\n",
              "      fill: #174EA6;\n",
              "    }\n",
              "\n",
              "    .colab-df-buttons div {\n",
              "      margin-bottom: 4px;\n",
              "    }\n",
              "\n",
              "    [theme=dark] .colab-df-convert {\n",
              "      background-color: #3B4455;\n",
              "      fill: #D2E3FC;\n",
              "    }\n",
              "\n",
              "    [theme=dark] .colab-df-convert:hover {\n",
              "      background-color: #434B5C;\n",
              "      box-shadow: 0px 1px 3px 1px rgba(0, 0, 0, 0.15);\n",
              "      filter: drop-shadow(0px 1px 2px rgba(0, 0, 0, 0.3));\n",
              "      fill: #FFFFFF;\n",
              "    }\n",
              "  </style>\n",
              "\n",
              "    <script>\n",
              "      const buttonEl =\n",
              "        document.querySelector('#df-7c40339a-035d-467e-a638-41508d05b1ff button.colab-df-convert');\n",
              "      buttonEl.style.display =\n",
              "        google.colab.kernel.accessAllowed ? 'block' : 'none';\n",
              "\n",
              "      async function convertToInteractive(key) {\n",
              "        const element = document.querySelector('#df-7c40339a-035d-467e-a638-41508d05b1ff');\n",
              "        const dataTable =\n",
              "          await google.colab.kernel.invokeFunction('convertToInteractive',\n",
              "                                                    [key], {});\n",
              "        if (!dataTable) return;\n",
              "\n",
              "        const docLinkHtml = 'Like what you see? Visit the ' +\n",
              "          '<a target=\"_blank\" href=https://colab.research.google.com/notebooks/data_table.ipynb>data table notebook</a>'\n",
              "          + ' to learn more about interactive tables.';\n",
              "        element.innerHTML = '';\n",
              "        dataTable['output_type'] = 'display_data';\n",
              "        await google.colab.output.renderOutput(dataTable, element);\n",
              "        const docLink = document.createElement('div');\n",
              "        docLink.innerHTML = docLinkHtml;\n",
              "        element.appendChild(docLink);\n",
              "      }\n",
              "    </script>\n",
              "  </div>\n",
              "\n",
              "\n",
              "<div id=\"df-7caab80d-ef35-4e16-a046-5d04972be6cb\">\n",
              "  <button class=\"colab-df-quickchart\" onclick=\"quickchart('df-7caab80d-ef35-4e16-a046-5d04972be6cb')\"\n",
              "            title=\"Suggest charts\"\n",
              "            style=\"display:none;\">\n",
              "\n",
              "<svg xmlns=\"http://www.w3.org/2000/svg\" height=\"24px\"viewBox=\"0 0 24 24\"\n",
              "     width=\"24px\">\n",
              "    <g>\n",
              "        <path d=\"M19 3H5c-1.1 0-2 .9-2 2v14c0 1.1.9 2 2 2h14c1.1 0 2-.9 2-2V5c0-1.1-.9-2-2-2zM9 17H7v-7h2v7zm4 0h-2V7h2v10zm4 0h-2v-4h2v4z\"/>\n",
              "    </g>\n",
              "</svg>\n",
              "  </button>\n",
              "\n",
              "<style>\n",
              "  .colab-df-quickchart {\n",
              "      --bg-color: #E8F0FE;\n",
              "      --fill-color: #1967D2;\n",
              "      --hover-bg-color: #E2EBFA;\n",
              "      --hover-fill-color: #174EA6;\n",
              "      --disabled-fill-color: #AAA;\n",
              "      --disabled-bg-color: #DDD;\n",
              "  }\n",
              "\n",
              "  [theme=dark] .colab-df-quickchart {\n",
              "      --bg-color: #3B4455;\n",
              "      --fill-color: #D2E3FC;\n",
              "      --hover-bg-color: #434B5C;\n",
              "      --hover-fill-color: #FFFFFF;\n",
              "      --disabled-bg-color: #3B4455;\n",
              "      --disabled-fill-color: #666;\n",
              "  }\n",
              "\n",
              "  .colab-df-quickchart {\n",
              "    background-color: var(--bg-color);\n",
              "    border: none;\n",
              "    border-radius: 50%;\n",
              "    cursor: pointer;\n",
              "    display: none;\n",
              "    fill: var(--fill-color);\n",
              "    height: 32px;\n",
              "    padding: 0;\n",
              "    width: 32px;\n",
              "  }\n",
              "\n",
              "  .colab-df-quickchart:hover {\n",
              "    background-color: var(--hover-bg-color);\n",
              "    box-shadow: 0 1px 2px rgba(60, 64, 67, 0.3), 0 1px 3px 1px rgba(60, 64, 67, 0.15);\n",
              "    fill: var(--button-hover-fill-color);\n",
              "  }\n",
              "\n",
              "  .colab-df-quickchart-complete:disabled,\n",
              "  .colab-df-quickchart-complete:disabled:hover {\n",
              "    background-color: var(--disabled-bg-color);\n",
              "    fill: var(--disabled-fill-color);\n",
              "    box-shadow: none;\n",
              "  }\n",
              "\n",
              "  .colab-df-spinner {\n",
              "    border: 2px solid var(--fill-color);\n",
              "    border-color: transparent;\n",
              "    border-bottom-color: var(--fill-color);\n",
              "    animation:\n",
              "      spin 1s steps(1) infinite;\n",
              "  }\n",
              "\n",
              "  @keyframes spin {\n",
              "    0% {\n",
              "      border-color: transparent;\n",
              "      border-bottom-color: var(--fill-color);\n",
              "      border-left-color: var(--fill-color);\n",
              "    }\n",
              "    20% {\n",
              "      border-color: transparent;\n",
              "      border-left-color: var(--fill-color);\n",
              "      border-top-color: var(--fill-color);\n",
              "    }\n",
              "    30% {\n",
              "      border-color: transparent;\n",
              "      border-left-color: var(--fill-color);\n",
              "      border-top-color: var(--fill-color);\n",
              "      border-right-color: var(--fill-color);\n",
              "    }\n",
              "    40% {\n",
              "      border-color: transparent;\n",
              "      border-right-color: var(--fill-color);\n",
              "      border-top-color: var(--fill-color);\n",
              "    }\n",
              "    60% {\n",
              "      border-color: transparent;\n",
              "      border-right-color: var(--fill-color);\n",
              "    }\n",
              "    80% {\n",
              "      border-color: transparent;\n",
              "      border-right-color: var(--fill-color);\n",
              "      border-bottom-color: var(--fill-color);\n",
              "    }\n",
              "    90% {\n",
              "      border-color: transparent;\n",
              "      border-bottom-color: var(--fill-color);\n",
              "    }\n",
              "  }\n",
              "</style>\n",
              "\n",
              "  <script>\n",
              "    async function quickchart(key) {\n",
              "      const quickchartButtonEl =\n",
              "        document.querySelector('#' + key + ' button');\n",
              "      quickchartButtonEl.disabled = true;  // To prevent multiple clicks.\n",
              "      quickchartButtonEl.classList.add('colab-df-spinner');\n",
              "      try {\n",
              "        const charts = await google.colab.kernel.invokeFunction(\n",
              "            'suggestCharts', [key], {});\n",
              "      } catch (error) {\n",
              "        console.error('Error during call to suggestCharts:', error);\n",
              "      }\n",
              "      quickchartButtonEl.classList.remove('colab-df-spinner');\n",
              "      quickchartButtonEl.classList.add('colab-df-quickchart-complete');\n",
              "    }\n",
              "    (() => {\n",
              "      let quickchartButtonEl =\n",
              "        document.querySelector('#df-7caab80d-ef35-4e16-a046-5d04972be6cb button');\n",
              "      quickchartButtonEl.style.display =\n",
              "        google.colab.kernel.accessAllowed ? 'block' : 'none';\n",
              "    })();\n",
              "  </script>\n",
              "</div>\n",
              "\n",
              "    </div>\n",
              "  </div>\n"
            ],
            "application/vnd.google.colaboratory.intrinsic+json": {
              "type": "dataframe",
              "variable_name": "df",
              "summary": "{\n  \"name\": \"df\",\n  \"rows\": 1460,\n  \"fields\": [\n    {\n      \"column\": \"Unnamed: 0\",\n      \"properties\": {\n        \"dtype\": \"number\",\n        \"std\": 421,\n        \"min\": 0,\n        \"max\": 1459,\n        \"num_unique_values\": 1460,\n        \"samples\": [\n          892,\n          1105,\n          413\n        ],\n        \"semantic_type\": \"\",\n        \"description\": \"\"\n      }\n    },\n    {\n      \"column\": \"SalePrice\",\n      \"properties\": {\n        \"dtype\": \"number\",\n        \"std\": 79442,\n        \"min\": 34900,\n        \"max\": 755000,\n        \"num_unique_values\": 663,\n        \"samples\": [\n          91300,\n          174500,\n          150900\n        ],\n        \"semantic_type\": \"\",\n        \"description\": \"\"\n      }\n    },\n    {\n      \"column\": \"OverallQual\",\n      \"properties\": {\n        \"dtype\": \"number\",\n        \"std\": 1,\n        \"min\": 1,\n        \"max\": 10,\n        \"num_unique_values\": 10,\n        \"samples\": [\n          1,\n          6,\n          4\n        ],\n        \"semantic_type\": \"\",\n        \"description\": \"\"\n      }\n    },\n    {\n      \"column\": \"OverallCond\",\n      \"properties\": {\n        \"dtype\": \"number\",\n        \"std\": 1,\n        \"min\": 1,\n        \"max\": 9,\n        \"num_unique_values\": 9,\n        \"samples\": [\n          9,\n          8,\n          2\n        ],\n        \"semantic_type\": \"\",\n        \"description\": \"\"\n      }\n    },\n    {\n      \"column\": \"BedroomAbvGr\",\n      \"properties\": {\n        \"dtype\": \"number\",\n        \"std\": 0,\n        \"min\": 0,\n        \"max\": 8,\n        \"num_unique_values\": 8,\n        \"samples\": [\n          4,\n          5,\n          3\n        ],\n        \"semantic_type\": \"\",\n        \"description\": \"\"\n      }\n    },\n    {\n      \"column\": \"TotRmsAbvGrd\",\n      \"properties\": {\n        \"dtype\": \"number\",\n        \"std\": 1,\n        \"min\": 2,\n        \"max\": 14,\n        \"num_unique_values\": 12,\n        \"samples\": [\n          2,\n          3,\n          8\n        ],\n        \"semantic_type\": \"\",\n        \"description\": \"\"\n      }\n    },\n    {\n      \"column\": \"GrLivArea\",\n      \"properties\": {\n        \"dtype\": \"number\",\n        \"std\": 525,\n        \"min\": 334,\n        \"max\": 5642,\n        \"num_unique_values\": 861,\n        \"samples\": [\n          1459,\n          1775,\n          840\n        ],\n        \"semantic_type\": \"\",\n        \"description\": \"\"\n      }\n    },\n    {\n      \"column\": \"TotalBsmtSF\",\n      \"properties\": {\n        \"dtype\": \"number\",\n        \"std\": 438,\n        \"min\": 0,\n        \"max\": 6110,\n        \"num_unique_values\": 721,\n        \"samples\": [\n          1536,\n          1192,\n          684\n        ],\n        \"semantic_type\": \"\",\n        \"description\": \"\"\n      }\n    },\n    {\n      \"column\": \"YearBuilt\",\n      \"properties\": {\n        \"dtype\": \"number\",\n        \"std\": 30,\n        \"min\": 1872,\n        \"max\": 2010,\n        \"num_unique_values\": 112,\n        \"samples\": [\n          1999,\n          1936,\n          2000\n        ],\n        \"semantic_type\": \"\",\n        \"description\": \"\"\n      }\n    },\n    {\n      \"column\": \"MSZoning\",\n      \"properties\": {\n        \"dtype\": \"category\",\n        \"num_unique_values\": 5,\n        \"samples\": [\n          \"RM\",\n          \"RH\",\n          \"C (all)\"\n        ],\n        \"semantic_type\": \"\",\n        \"description\": \"\"\n      }\n    },\n    {\n      \"column\": \"Utilities\",\n      \"properties\": {\n        \"dtype\": \"category\",\n        \"num_unique_values\": 2,\n        \"samples\": [\n          \"NoSeWa\",\n          \"AllPub\"\n        ],\n        \"semantic_type\": \"\",\n        \"description\": \"\"\n      }\n    },\n    {\n      \"column\": \"BldgType\",\n      \"properties\": {\n        \"dtype\": \"category\",\n        \"num_unique_values\": 5,\n        \"samples\": [\n          \"2fmCon\",\n          \"Twnhs\"\n        ],\n        \"semantic_type\": \"\",\n        \"description\": \"\"\n      }\n    }\n  ]\n}"
            }
          },
          "metadata": {},
          "execution_count": 38
        }
      ]
    },
    {
      "cell_type": "markdown",
      "source": [
        "Vamos observar a média, mediana e moda da variável 'SalePrice'"
      ],
      "metadata": {
        "id": "sH0kPprxpMoe"
      }
    },
    {
      "cell_type": "code",
      "source": [
        "# Calculando a média\n",
        "mean = df['SalePrice'].mean()\n",
        "\n",
        "# Calculando a mediana\n",
        "median = df['SalePrice'].median()\n",
        "\n",
        "# Calculando a moda\n",
        "mode = df['SalePrice'].mode()\n",
        "\n",
        "print(f\"Média: {mean}\\nMediana: {median}\\nModa {mode}\")"
      ],
      "metadata": {
        "colab": {
          "base_uri": "https://localhost:8080/"
        },
        "id": "R3T30O88pW5b",
        "outputId": "a6d1ba1a-3f10-417a-c82e-a583bf7eedbf"
      },
      "execution_count": 39,
      "outputs": [
        {
          "output_type": "stream",
          "name": "stdout",
          "text": [
            "Média: 180921.19589041095\n",
            "Mediana: 163000.0\n",
            "Moda 0    140000\n",
            "Name: SalePrice, dtype: int64\n"
          ]
        }
      ]
    },
    {
      "cell_type": "markdown",
      "source": [
        "Dessa forma, podemos perceber que a média do preço de venda foi de 180k, enquanto a mediana é de 163k. Isso pode indicar que os dados não estão muito assimétricos; provavelmente existiram algumas poucas vendas com valores mais altos, o que está consequentemente elevando a média. Vamos observar isso mais a fundo."
      ],
      "metadata": {
        "id": "huwqkRrep91J"
      }
    },
    {
      "cell_type": "markdown",
      "source": [
        "## **Medidas de Posição Relativa**"
      ],
      "metadata": {
        "id": "NzpK7YKMsS0P"
      }
    },
    {
      "cell_type": "markdown",
      "source": [
        "- **Percentis:** Dividem os dados em percentagens, indicando a posição relativa de um valor.\n",
        "\n",
        "  - 25º percentil: 25% dos dados são menores que ou iguais a este valor.\n",
        "\n",
        "  - 50º percentil: A mediana. 50% dos dados são menores que ou iguais a este valor.\n",
        "\n",
        "  - 75º percentil: 75% dos dados são menores que ou iguais a este valor.\n",
        "\n",
        "\n",
        "- **Quartis:** Dividem os dados em quatro partes iguais, fornecendo informações sobre a dispersão.\n",
        "\n",
        "  - 1º quartil (Q1):\t25% dos dados são menores que ou iguais a este valor.\n",
        "\n",
        "  - 2º quartil (Q2):\tA mediana. 50% dos dados são menores que ou iguais a este valor.\n",
        "\n",
        "  - 3º quartil (Q3):\t75% dos dados são menores que ou iguais a este valor."
      ],
      "metadata": {
        "id": "ybpbMvDjsXPX"
      }
    },
    {
      "cell_type": "markdown",
      "source": [
        "Vamos utilizar o boxplot para investigarmos os quartis."
      ],
      "metadata": {
        "id": "rrN1Osuxs8wi"
      }
    },
    {
      "cell_type": "code",
      "source": [
        "# Criando o boxplot\n",
        "sns.boxplot(df['SalePrice']);"
      ],
      "metadata": {
        "colab": {
          "base_uri": "https://localhost:8080/",
          "height": 0
        },
        "id": "ECnSmXHOtCGw",
        "outputId": "8465b2a7-9dfa-468a-dfbc-efa1a069cca0"
      },
      "execution_count": 40,
      "outputs": [
        {
          "output_type": "display_data",
          "data": {
            "text/plain": [
              "<Figure size 640x480 with 1 Axes>"
            ],
            "image/png": "[encoded data removed]"
          },
          "metadata": {}
        }
      ]
    },
    {
      "cell_type": "markdown",
      "source": [
        "Com esse gráfico, podemos confirmar nossa suspeita de que aquela disparidade entre a média e a mediana deve-se a outliers que estão fazendo com que a média aumente. Vamos observar mais algumas medidas."
      ],
      "metadata": {
        "id": "yL020NZ3tR9-"
      }
    },
    {
      "cell_type": "code",
      "source": [
        "# Observando algumas medidas\n",
        "df['SalePrice'].describe()"
      ],
      "metadata": {
        "colab": {
          "base_uri": "https://localhost:8080/"
        },
        "id": "Rw09IErntoVV",
        "outputId": "d9c02e79-b2ce-41e8-d247-c5bb1893b2fc"
      },
      "execution_count": 41,
      "outputs": [
        {
          "output_type": "execute_result",
          "data": {
            "text/plain": [
              "count      1460.000000\n",
              "mean     180921.195890\n",
              "std       79442.502883\n",
              "min       34900.000000\n",
              "25%      129975.000000\n",
              "50%      163000.000000\n",
              "75%      214000.000000\n",
              "max      755000.000000\n",
              "Name: SalePrice, dtype: float64"
            ]
          },
          "metadata": {},
          "execution_count": 41
        }
      ]
    },
    {
      "cell_type": "markdown",
      "source": [
        "Podemos observar neste momento que existem casas sendo vendidas a 34k, enquanto outras estão sendo vendidas a 755k, indicando assim uma alta amplitude. Logo, podemos observar uma maior variação nos preços de venda."
      ],
      "metadata": {
        "id": "VRuVDvqCt7Lj"
      }
    },
    {
      "cell_type": "markdown",
      "source": [
        "## **Hipóteses**"
      ],
      "metadata": {
        "id": "DNILOAaqJn2w"
      }
    },
    {
      "cell_type": "markdown",
      "source": [
        "Agora vamos imaginar a seguinte pergunta: O que faz uma casa ser vendida cara ou barata ?"
      ],
      "metadata": {
        "id": "9L42Gra1I6FF"
      }
    },
    {
      "cell_type": "markdown",
      "source": [
        "Para respondermos a essa pergunta, será necessário realizar uma análise um pouco mais minuciosa a respeito das diferentes colunas dos dados. Vamos, então, separar os dados entre dados numéricos e categóricos."
      ],
      "metadata": {
        "id": "DkJiFGaUJPx-"
      }
    },
    {
      "cell_type": "markdown",
      "source": [
        "Das variáveis **numéricas**, podemos pensar em algumas hipóteses:\n",
        "\n",
        "1.   A média/mediana da qualidade do imóvel é superior para os apartamentos mais caros\n",
        "2.   A média/mediana da quantidade de cômodos/quartos/área/banheiros é maior em apartamentos mais caros\n",
        "3.   Os apartamentos mais caros são mais antigos\n",
        "\n",
        "Das variáveis **categóricas**, podemos pensar em algumas hipóteses:\n",
        "4.   Existe diferença de preço de acordo com sua localização (zona)\n",
        "5.   As utilidades (gás, água, etc) existentes na casa tem influência no preço\n",
        "6.   O tipo de habitação influencia o preço (duplex, condomínio, etc)\n",
        "\n",
        "\n",
        "Agora, precisamos validar se essas hipóteses são verdadeiras ou não com dados.\n"
      ],
      "metadata": {
        "id": "eVsW41BCJz93"
      }
    },
    {
      "cell_type": "markdown",
      "source": [
        "### **Númericas**"
      ],
      "metadata": {
        "id": "JuA3lk7TJ-DN"
      }
    },
    {
      "cell_type": "markdown",
      "source": [
        "Vamos observar um panorama geral dos dados."
      ],
      "metadata": {
        "id": "mrNKVjwbKFJc"
      }
    },
    {
      "cell_type": "code",
      "source": [
        "# Panorama geral\n",
        "df.describe()"
      ],
      "metadata": {
        "id": "yhu01CNZuVrX",
        "colab": {
          "base_uri": "https://localhost:8080/",
          "height": 0
        },
        "outputId": "9a638d51-7b09-4391-d356-6dc1df6f3e96"
      },
      "execution_count": 42,
      "outputs": [
        {
          "output_type": "execute_result",
          "data": {
            "text/plain": [
              "        Unnamed: 0      SalePrice  OverallQual  OverallCond  BedroomAbvGr  \\\n",
              "count  1460.000000    1460.000000  1460.000000  1460.000000   1460.000000   \n",
              "mean    729.500000  180921.195890     6.099315     5.575342      2.866438   \n",
              "std     421.610009   79442.502883     1.382997     1.112799      0.815778   \n",
              "min       0.000000   34900.000000     1.000000     1.000000      0.000000   \n",
              "25%     364.750000  129975.000000     5.000000     5.000000      2.000000   \n",
              "50%     729.500000  163000.000000     6.000000     5.000000      3.000000   \n",
              "75%    1094.250000  214000.000000     7.000000     6.000000      3.000000   \n",
              "max    1459.000000  755000.000000    10.000000     9.000000      8.000000   \n",
              "\n",
              "       TotRmsAbvGrd    GrLivArea  TotalBsmtSF    YearBuilt  \n",
              "count   1460.000000  1460.000000  1460.000000  1460.000000  \n",
              "mean       6.517808  1515.463699  1057.429452  1971.267808  \n",
              "std        1.625393   525.480383   438.705324    30.202904  \n",
              "min        2.000000   334.000000     0.000000  1872.000000  \n",
              "25%        5.000000  1129.500000   795.750000  1954.000000  \n",
              "50%        6.000000  1464.000000   991.500000  1973.000000  \n",
              "75%        7.000000  1776.750000  1298.250000  2000.000000  \n",
              "max       14.000000  5642.000000  6110.000000  2010.000000  "
            ],
            "text/html": [
              "\n",
              "  <div id=\"df-deaf769e-4329-4706-a841-b6958133629d\" class=\"colab-df-container\">\n",
              "    <div>\n",
              "<style scoped>\n",
              "    .dataframe tbody tr th:only-of-type {\n",
              "        vertical-align: middle;\n",
              "    }\n",
              "\n",
              "    .dataframe tbody tr th {\n",
              "        vertical-align: top;\n",
              "    }\n",
              "\n",
              "    .dataframe thead th {\n",
              "        text-align: right;\n",
              "    }\n",
              "</style>\n",
              "<table border=\"1\" class=\"dataframe\">\n",
              "  <thead>\n",
              "    <tr style=\"text-align: right;\">\n",
              "      <th></th>\n",
              "      <th>Unnamed: 0</th>\n",
              "      <th>SalePrice</th>\n",
              "      <th>OverallQual</th>\n",
              "      <th>OverallCond</th>\n",
              "      <th>BedroomAbvGr</th>\n",
              "      <th>TotRmsAbvGrd</th>\n",
              "      <th>GrLivArea</th>\n",
              "      <th>TotalBsmtSF</th>\n",
              "      <th>YearBuilt</th>\n",
              "    </tr>\n",
              "  </thead>\n",
              "  <tbody>\n",
              "    <tr>\n",
              "      <th>count</th>\n",
              "      <td>1460.000000</td>\n",
              "      <td>1460.000000</td>\n",
              "      <td>1460.000000</td>\n",
              "      <td>1460.000000</td>\n",
              "      <td>1460.000000</td>\n",
              "      <td>1460.000000</td>\n",
              "      <td>1460.000000</td>\n",
              "      <td>1460.000000</td>\n",
              "      <td>1460.000000</td>\n",
              "    </tr>\n",
              "    <tr>\n",
              "      <th>mean</th>\n",
              "      <td>729.500000</td>\n",
              "      <td>180921.195890</td>\n",
              "      <td>6.099315</td>\n",
              "      <td>5.575342</td>\n",
              "      <td>2.866438</td>\n",
              "      <td>6.517808</td>\n",
              "      <td>1515.463699</td>\n",
              "      <td>1057.429452</td>\n",
              "      <td>1971.267808</td>\n",
              "    </tr>\n",
              "    <tr>\n",
              "      <th>std</th>\n",
              "      <td>421.610009</td>\n",
              "      <td>79442.502883</td>\n",
              "      <td>1.382997</td>\n",
              "      <td>1.112799</td>\n",
              "      <td>0.815778</td>\n",
              "      <td>1.625393</td>\n",
              "      <td>525.480383</td>\n",
              "      <td>438.705324</td>\n",
              "      <td>30.202904</td>\n",
              "    </tr>\n",
              "    <tr>\n",
              "      <th>min</th>\n",
              "      <td>0.000000</td>\n",
              "      <td>34900.000000</td>\n",
              "      <td>1.000000</td>\n",
              "      <td>1.000000</td>\n",
              "      <td>0.000000</td>\n",
              "      <td>2.000000</td>\n",
              "      <td>334.000000</td>\n",
              "      <td>0.000000</td>\n",
              "      <td>1872.000000</td>\n",
              "    </tr>\n",
              "    <tr>\n",
              "      <th>25%</th>\n",
              "      <td>364.750000</td>\n",
              "      <td>129975.000000</td>\n",
              "      <td>5.000000</td>\n",
              "      <td>5.000000</td>\n",
              "      <td>2.000000</td>\n",
              "      <td>5.000000</td>\n",
              "      <td>1129.500000</td>\n",
              "      <td>795.750000</td>\n",
              "      <td>1954.000000</td>\n",
              "    </tr>\n",
              "    <tr>\n",
              "      <th>50%</th>\n",
              "      <td>729.500000</td>\n",
              "      <td>163000.000000</td>\n",
              "      <td>6.000000</td>\n",
              "      <td>5.000000</td>\n",
              "      <td>3.000000</td>\n",
              "      <td>6.000000</td>\n",
              "      <td>1464.000000</td>\n",
              "      <td>991.500000</td>\n",
              "      <td>1973.000000</td>\n",
              "    </tr>\n",
              "    <tr>\n",
              "      <th>75%</th>\n",
              "      <td>1094.250000</td>\n",
              "      <td>214000.000000</td>\n",
              "      <td>7.000000</td>\n",
              "      <td>6.000000</td>\n",
              "      <td>3.000000</td>\n",
              "      <td>7.000000</td>\n",
              "      <td>1776.750000</td>\n",
              "      <td>1298.250000</td>\n",
              "      <td>2000.000000</td>\n",
              "    </tr>\n",
              "    <tr>\n",
              "      <th>max</th>\n",
              "      <td>1459.000000</td>\n",
              "      <td>755000.000000</td>\n",
              "      <td>10.000000</td>\n",
              "      <td>9.000000</td>\n",
              "      <td>8.000000</td>\n",
              "      <td>14.000000</td>\n",
              "      <td>5642.000000</td>\n",
              "      <td>6110.000000</td>\n",
              "      <td>2010.000000</td>\n",
              "    </tr>\n",
              "  </tbody>\n",
              "</table>\n",
              "</div>\n",
              "    <div class=\"colab-df-buttons\">\n",
              "\n",
              "  <div class=\"colab-df-container\">\n",
              "    <button class=\"colab-df-convert\" onclick=\"convertToInteractive('df-deaf769e-4329-4706-a841-b6958133629d')\"\n",
              "            title=\"Convert this dataframe to an interactive table.\"\n",
              "            style=\"display:none;\">\n",
              "\n",
              "  <svg xmlns=\"http://www.w3.org/2000/svg\" height=\"24px\" viewBox=\"0 -960 960 960\">\n",
              "    <path d=\"M120-120v-720h720v720H120Zm60-500h600v-160H180v160Zm220 220h160v-160H400v160Zm0 220h160v-160H400v160ZM180-400h160v-160H180v160Zm440 0h160v-160H620v160ZM180-180h160v-160H180v160Zm440 0h160v-160H620v160Z\"/>\n",
              "  </svg>\n",
              "    </button>\n",
              "\n",
              "  <style>\n",
              "    .colab-df-container {\n",
              "      display:flex;\n",
              "      gap: 12px;\n",
              "    }\n",
              "\n",
              "    .colab-df-convert {\n",
              "      background-color: #E8F0FE;\n",
              "      border: none;\n",
              "      border-radius: 50%;\n",
              "      cursor: pointer;\n",
              "      display: none;\n",
              "      fill: #1967D2;\n",
              "      height: 32px;\n",
              "      padding: 0 0 0 0;\n",
              "      width: 32px;\n",
              "    }\n",
              "\n",
              "    .colab-df-convert:hover {\n",
              "      background-color: #E2EBFA;\n",
              "      box-shadow: 0px 1px 2px rgba(60, 64, 67, 0.3), 0px 1px 3px 1px rgba(60, 64, 67, 0.15);\n",
              "      fill: #174EA6;\n",
              "    }\n",
              "\n",
              "    .colab-df-buttons div {\n",
              "      margin-bottom: 4px;\n",
              "    }\n",
              "\n",
              "    [theme=dark] .colab-df-convert {\n",
              "      background-color: #3B4455;\n",
              "      fill: #D2E3FC;\n",
              "    }\n",
              "\n",
              "    [theme=dark] .colab-df-convert:hover {\n",
              "      background-color: #434B5C;\n",
              "      box-shadow: 0px 1px 3px 1px rgba(0, 0, 0, 0.15);\n",
              "      filter: drop-shadow(0px 1px 2px rgba(0, 0, 0, 0.3));\n",
              "      fill: #FFFFFF;\n",
              "    }\n",
              "  </style>\n",
              "\n",
              "    <script>\n",
              "      const buttonEl =\n",
              "        document.querySelector('#df-deaf769e-4329-4706-a841-b6958133629d button.colab-df-convert');\n",
              "      buttonEl.style.display =\n",
              "        google.colab.kernel.accessAllowed ? 'block' : 'none';\n",
              "\n",
              "      async function convertToInteractive(key) {\n",
              "        const element = document.querySelector('#df-deaf769e-4329-4706-a841-b6958133629d');\n",
              "        const dataTable =\n",
              "          await google.colab.kernel.invokeFunction('convertToInteractive',\n",
              "                                                    [key], {});\n",
              "        if (!dataTable) return;\n",
              "\n",
              "        const docLinkHtml = 'Like what you see? Visit the ' +\n",
              "          '<a target=\"_blank\" href=https://colab.research.google.com/notebooks/data_table.ipynb>data table notebook</a>'\n",
              "          + ' to learn more about interactive tables.';\n",
              "        element.innerHTML = '';\n",
              "        dataTable['output_type'] = 'display_data';\n",
              "        await google.colab.output.renderOutput(dataTable, element);\n",
              "        const docLink = document.createElement('div');\n",
              "        docLink.innerHTML = docLinkHtml;\n",
              "        element.appendChild(docLink);\n",
              "      }\n",
              "    </script>\n",
              "  </div>\n",
              "\n",
              "\n",
              "<div id=\"df-3580f8ab-c578-4451-ab82-e17060d87bef\">\n",
              "  <button class=\"colab-df-quickchart\" onclick=\"quickchart('df-3580f8ab-c578-4451-ab82-e17060d87bef')\"\n",
              "            title=\"Suggest charts\"\n",
              "            style=\"display:none;\">\n",
              "\n",
              "<svg xmlns=\"http://www.w3.org/2000/svg\" height=\"24px\"viewBox=\"0 0 24 24\"\n",
              "     width=\"24px\">\n",
              "    <g>\n",
              "        <path d=\"M19 3H5c-1.1 0-2 .9-2 2v14c0 1.1.9 2 2 2h14c1.1 0 2-.9 2-2V5c0-1.1-.9-2-2-2zM9 17H7v-7h2v7zm4 0h-2V7h2v10zm4 0h-2v-4h2v4z\"/>\n",
              "    </g>\n",
              "</svg>\n",
              "  </button>\n",
              "\n",
              "<style>\n",
              "  .colab-df-quickchart {\n",
              "      --bg-color: #E8F0FE;\n",
              "      --fill-color: #1967D2;\n",
              "      --hover-bg-color: #E2EBFA;\n",
              "      --hover-fill-color: #174EA6;\n",
              "      --disabled-fill-color: #AAA;\n",
              "      --disabled-bg-color: #DDD;\n",
              "  }\n",
              "\n",
              "  [theme=dark] .colab-df-quickchart {\n",
              "      --bg-color: #3B4455;\n",
              "      --fill-color: #D2E3FC;\n",
              "      --hover-bg-color: #434B5C;\n",
              "      --hover-fill-color: #FFFFFF;\n",
              "      --disabled-bg-color: #3B4455;\n",
              "      --disabled-fill-color: #666;\n",
              "  }\n",
              "\n",
              "  .colab-df-quickchart {\n",
              "    background-color: var(--bg-color);\n",
              "    border: none;\n",
              "    border-radius: 50%;\n",
              "    cursor: pointer;\n",
              "    display: none;\n",
              "    fill: var(--fill-color);\n",
              "    height: 32px;\n",
              "    padding: 0;\n",
              "    width: 32px;\n",
              "  }\n",
              "\n",
              "  .colab-df-quickchart:hover {\n",
              "    background-color: var(--hover-bg-color);\n",
              "    box-shadow: 0 1px 2px rgba(60, 64, 67, 0.3), 0 1px 3px 1px rgba(60, 64, 67, 0.15);\n",
              "    fill: var(--button-hover-fill-color);\n",
              "  }\n",
              "\n",
              "  .colab-df-quickchart-complete:disabled,\n",
              "  .colab-df-quickchart-complete:disabled:hover {\n",
              "    background-color: var(--disabled-bg-color);\n",
              "    fill: var(--disabled-fill-color);\n",
              "    box-shadow: none;\n",
              "  }\n",
              "\n",
              "  .colab-df-spinner {\n",
              "    border: 2px solid var(--fill-color);\n",
              "    border-color: transparent;\n",
              "    border-bottom-color: var(--fill-color);\n",
              "    animation:\n",
              "      spin 1s steps(1) infinite;\n",
              "  }\n",
              "\n",
              "  @keyframes spin {\n",
              "    0% {\n",
              "      border-color: transparent;\n",
              "      border-bottom-color: var(--fill-color);\n",
              "      border-left-color: var(--fill-color);\n",
              "    }\n",
              "    20% {\n",
              "      border-color: transparent;\n",
              "      border-left-color: var(--fill-color);\n",
              "      border-top-color: var(--fill-color);\n",
              "    }\n",
              "    30% {\n",
              "      border-color: transparent;\n",
              "      border-left-color: var(--fill-color);\n",
              "      border-top-color: var(--fill-color);\n",
              "      border-right-color: var(--fill-color);\n",
              "    }\n",
              "    40% {\n",
              "      border-color: transparent;\n",
              "      border-right-color: var(--fill-color);\n",
              "      border-top-color: var(--fill-color);\n",
              "    }\n",
              "    60% {\n",
              "      border-color: transparent;\n",
              "      border-right-color: var(--fill-color);\n",
              "    }\n",
              "    80% {\n",
              "      border-color: transparent;\n",
              "      border-right-color: var(--fill-color);\n",
              "      border-bottom-color: var(--fill-color);\n",
              "    }\n",
              "    90% {\n",
              "      border-color: transparent;\n",
              "      border-bottom-color: var(--fill-color);\n",
              "    }\n",
              "  }\n",
              "</style>\n",
              "\n",
              "  <script>\n",
              "    async function quickchart(key) {\n",
              "      const quickchartButtonEl =\n",
              "        document.querySelector('#' + key + ' button');\n",
              "      quickchartButtonEl.disabled = true;  // To prevent multiple clicks.\n",
              "      quickchartButtonEl.classList.add('colab-df-spinner');\n",
              "      try {\n",
              "        const charts = await google.colab.kernel.invokeFunction(\n",
              "            'suggestCharts', [key], {});\n",
              "      } catch (error) {\n",
              "        console.error('Error during call to suggestCharts:', error);\n",
              "      }\n",
              "      quickchartButtonEl.classList.remove('colab-df-spinner');\n",
              "      quickchartButtonEl.classList.add('colab-df-quickchart-complete');\n",
              "    }\n",
              "    (() => {\n",
              "      let quickchartButtonEl =\n",
              "        document.querySelector('#df-3580f8ab-c578-4451-ab82-e17060d87bef button');\n",
              "      quickchartButtonEl.style.display =\n",
              "        google.colab.kernel.accessAllowed ? 'block' : 'none';\n",
              "    })();\n",
              "  </script>\n",
              "</div>\n",
              "\n",
              "    </div>\n",
              "  </div>\n"
            ],
            "application/vnd.google.colaboratory.intrinsic+json": {
              "type": "dataframe",
              "summary": "{\n  \"name\": \"df\",\n  \"rows\": 8,\n  \"fields\": [\n    {\n      \"column\": \"Unnamed: 0\",\n      \"properties\": {\n        \"dtype\": \"number\",\n        \"std\": 525.9721908494116,\n        \"min\": 0.0,\n        \"max\": 1460.0,\n        \"num_unique_values\": 7,\n        \"samples\": [\n          1460.0,\n          729.5,\n          1094.25\n        ],\n        \"semantic_type\": \"\",\n        \"description\": \"\"\n      }\n    },\n    {\n      \"column\": \"SalePrice\",\n      \"properties\": {\n        \"dtype\": \"number\",\n        \"std\": 237803.79920580916,\n        \"min\": 1460.0,\n        \"max\": 755000.0,\n        \"num_unique_values\": 8,\n        \"samples\": [\n          180921.19589041095,\n          163000.0,\n          1460.0\n        ],\n        \"semantic_type\": \"\",\n        \"description\": \"\"\n      }\n    },\n    {\n      \"column\": \"OverallQual\",\n      \"properties\": {\n        \"dtype\": \"number\",\n        \"std\": 514.3536444206449,\n        \"min\": 1.0,\n        \"max\": 1460.0,\n        \"num_unique_values\": 8,\n        \"samples\": [\n          6.0993150684931505,\n          6.0,\n          1460.0\n        ],\n        \"semantic_type\": \"\",\n        \"description\": \"\"\n      }\n    },\n    {\n      \"column\": \"OverallCond\",\n      \"properties\": {\n        \"dtype\": \"number\",\n        \"std\": 514.543568428961,\n        \"min\": 1.0,\n        \"max\": 1460.0,\n        \"num_unique_values\": 7,\n        \"samples\": [\n          1460.0,\n          5.575342465753424,\n          6.0\n        ],\n        \"semantic_type\": \"\",\n        \"description\": \"\"\n      }\n    },\n    {\n      \"column\": \"BedroomAbvGr\",\n      \"properties\": {\n        \"dtype\": \"number\",\n        \"std\": 515.1993302556721,\n        \"min\": 0.0,\n        \"max\": 1460.0,\n        \"num_unique_values\": 7,\n        \"samples\": [\n          1460.0,\n          2.8664383561643834,\n          3.0\n        ],\n        \"semantic_type\": \"\",\n        \"description\": \"\"\n      }\n    },\n    {\n      \"column\": \"TotRmsAbvGrd\",\n      \"properties\": {\n        \"dtype\": \"number\",\n        \"std\": 514.0734868253039,\n        \"min\": 1.6253932905840505,\n        \"max\": 1460.0,\n        \"num_unique_values\": 8,\n        \"samples\": [\n          6.517808219178082,\n          6.0,\n          1460.0\n        ],\n        \"semantic_type\": \"\",\n        \"description\": \"\"\n      }\n    },\n    {\n      \"column\": \"GrLivArea\",\n      \"properties\": {\n        \"dtype\": \"number\",\n        \"std\": 1658.5660189483694,\n        \"min\": 334.0,\n        \"max\": 5642.0,\n        \"num_unique_values\": 8,\n        \"samples\": [\n          1515.463698630137,\n          1464.0,\n          1460.0\n        ],\n        \"semantic_type\": \"\",\n        \"description\": \"\"\n      }\n    },\n    {\n      \"column\": \"TotalBsmtSF\",\n      \"properties\": {\n        \"dtype\": \"number\",\n        \"std\": 1913.0485885494809,\n        \"min\": 0.0,\n        \"max\": 6110.0,\n        \"num_unique_values\": 8,\n        \"samples\": [\n          1057.4294520547944,\n          991.5,\n          1460.0\n        ],\n        \"semantic_type\": \"\",\n        \"description\": \"\"\n      }\n    },\n    {\n      \"column\": \"YearBuilt\",\n      \"properties\": {\n        \"dtype\": \"number\",\n        \"std\": 682.4916400858369,\n        \"min\": 30.202904042525258,\n        \"max\": 2010.0,\n        \"num_unique_values\": 8,\n        \"samples\": [\n          1971.267808219178,\n          1973.0,\n          1460.0\n        ],\n        \"semantic_type\": \"\",\n        \"description\": \"\"\n      }\n    }\n  ]\n}"
            }
          },
          "metadata": {},
          "execution_count": 42
        }
      ]
    },
    {
      "cell_type": "markdown",
      "source": [
        "Para validarmos nossas hipóteses, será necessário a criação de colunas para identificarmos se uma casa é ou não cara. Para isso, utilizaremos o valor do 3º quartil, que neste caso é 214K. Valores acima desse serão considerados caros e abaixo serão considerados baratos."
      ],
      "metadata": {
        "id": "tG5qGrl6Kw1Y"
      }
    },
    {
      "cell_type": "code",
      "source": [
        "# Criando a nova coluna\n",
        "df['categoria_preco'] = np.where(df['SalePrice']>214000, \"cara\", \"barata\")"
      ],
      "metadata": {
        "id": "r15eFNHoLPg9"
      },
      "execution_count": 43,
      "outputs": []
    },
    {
      "cell_type": "markdown",
      "source": [
        "Dessa forma, estamos armazenando em uma nova coluna todos os dados em que o preço de venda seja maior que 214k. Sendo maior que esse valor, a casa será classificada como cara, e abaixo desse valor será considerada como barata."
      ],
      "metadata": {
        "id": "V22sTuCWLSxj"
      }
    },
    {
      "cell_type": "code",
      "source": [
        "# Observando os dados\n",
        "df.head()"
      ],
      "metadata": {
        "colab": {
          "base_uri": "https://localhost:8080/",
          "height": 0
        },
        "id": "D5d7WjMbLs4A",
        "outputId": "8a735b41-63e5-4f78-b09a-20388994a2ed"
      },
      "execution_count": 44,
      "outputs": [
        {
          "output_type": "execute_result",
          "data": {
            "text/plain": [
              "   Unnamed: 0  SalePrice  OverallQual  OverallCond  BedroomAbvGr  \\\n",
              "0           0     208500            7            5             3   \n",
              "1           1     181500            6            8             3   \n",
              "2           2     223500            7            5             3   \n",
              "3           3     140000            7            5             3   \n",
              "4           4     250000            8            5             4   \n",
              "\n",
              "   TotRmsAbvGrd  GrLivArea  TotalBsmtSF  YearBuilt MSZoning Utilities  \\\n",
              "0             8       1710          856       2003       RL    AllPub   \n",
              "1             6       1262         1262       1976       RL    AllPub   \n",
              "2             6       1786          920       2001       RL    AllPub   \n",
              "3             7       1717          756       1915       RL    AllPub   \n",
              "4             9       2198         1145       2000       RL    AllPub   \n",
              "\n",
              "  BldgType categoria_preco  \n",
              "0     1Fam          barata  \n",
              "1     1Fam          barata  \n",
              "2     1Fam            cara  \n",
              "3     1Fam          barata  \n",
              "4     1Fam            cara  "
            ],
            "text/html": [
              "\n",
              "  <div id=\"df-7ac4eaef-6e1f-4160-90ce-c7b0d1a35e76\" class=\"colab-df-container\">\n",
              "    <div>\n",
              "<style scoped>\n",
              "    .dataframe tbody tr th:only-of-type {\n",
              "        vertical-align: middle;\n",
              "    }\n",
              "\n",
              "    .dataframe tbody tr th {\n",
              "        vertical-align: top;\n",
              "    }\n",
              "\n",
              "    .dataframe thead th {\n",
              "        text-align: right;\n",
              "    }\n",
              "</style>\n",
              "<table border=\"1\" class=\"dataframe\">\n",
              "  <thead>\n",
              "    <tr style=\"text-align: right;\">\n",
              "      <th></th>\n",
              "      <th>Unnamed: 0</th>\n",
              "      <th>SalePrice</th>\n",
              "      <th>OverallQual</th>\n",
              "      <th>OverallCond</th>\n",
              "      <th>BedroomAbvGr</th>\n",
              "      <th>TotRmsAbvGrd</th>\n",
              "      <th>GrLivArea</th>\n",
              "      <th>TotalBsmtSF</th>\n",
              "      <th>YearBuilt</th>\n",
              "      <th>MSZoning</th>\n",
              "      <th>Utilities</th>\n",
              "      <th>BldgType</th>\n",
              "      <th>categoria_preco</th>\n",
              "    </tr>\n",
              "  </thead>\n",
              "  <tbody>\n",
              "    <tr>\n",
              "      <th>0</th>\n",
              "      <td>0</td>\n",
              "      <td>208500</td>\n",
              "      <td>7</td>\n",
              "      <td>5</td>\n",
              "      <td>3</td>\n",
              "      <td>8</td>\n",
              "      <td>1710</td>\n",
              "      <td>856</td>\n",
              "      <td>2003</td>\n",
              "      <td>RL</td>\n",
              "      <td>AllPub</td>\n",
              "      <td>1Fam</td>\n",
              "      <td>barata</td>\n",
              "    </tr>\n",
              "    <tr>\n",
              "      <th>1</th>\n",
              "      <td>1</td>\n",
              "      <td>181500</td>\n",
              "      <td>6</td>\n",
              "      <td>8</td>\n",
              "      <td>3</td>\n",
              "      <td>6</td>\n",
              "      <td>1262</td>\n",
              "      <td>1262</td>\n",
              "      <td>1976</td>\n",
              "      <td>RL</td>\n",
              "      <td>AllPub</td>\n",
              "      <td>1Fam</td>\n",
              "      <td>barata</td>\n",
              "    </tr>\n",
              "    <tr>\n",
              "      <th>2</th>\n",
              "      <td>2</td>\n",
              "      <td>223500</td>\n",
              "      <td>7</td>\n",
              "      <td>5</td>\n",
              "      <td>3</td>\n",
              "      <td>6</td>\n",
              "      <td>1786</td>\n",
              "      <td>920</td>\n",
              "      <td>2001</td>\n",
              "      <td>RL</td>\n",
              "      <td>AllPub</td>\n",
              "      <td>1Fam</td>\n",
              "      <td>cara</td>\n",
              "    </tr>\n",
              "    <tr>\n",
              "      <th>3</th>\n",
              "      <td>3</td>\n",
              "      <td>140000</td>\n",
              "      <td>7</td>\n",
              "      <td>5</td>\n",
              "      <td>3</td>\n",
              "      <td>7</td>\n",
              "      <td>1717</td>\n",
              "      <td>756</td>\n",
              "      <td>1915</td>\n",
              "      <td>RL</td>\n",
              "      <td>AllPub</td>\n",
              "      <td>1Fam</td>\n",
              "      <td>barata</td>\n",
              "    </tr>\n",
              "    <tr>\n",
              "      <th>4</th>\n",
              "      <td>4</td>\n",
              "      <td>250000</td>\n",
              "      <td>8</td>\n",
              "      <td>5</td>\n",
              "      <td>4</td>\n",
              "      <td>9</td>\n",
              "      <td>2198</td>\n",
              "      <td>1145</td>\n",
              "      <td>2000</td>\n",
              "      <td>RL</td>\n",
              "      <td>AllPub</td>\n",
              "      <td>1Fam</td>\n",
              "      <td>cara</td>\n",
              "    </tr>\n",
              "  </tbody>\n",
              "</table>\n",
              "</div>\n",
              "    <div class=\"colab-df-buttons\">\n",
              "\n",
              "  <div class=\"colab-df-container\">\n",
              "    <button class=\"colab-df-convert\" onclick=\"convertToInteractive('df-7ac4eaef-6e1f-4160-90ce-c7b0d1a35e76')\"\n",
              "            title=\"Convert this dataframe to an interactive table.\"\n",
              "            style=\"display:none;\">\n",
              "\n",
              "  <svg xmlns=\"http://www.w3.org/2000/svg\" height=\"24px\" viewBox=\"0 -960 960 960\">\n",
              "    <path d=\"M120-120v-720h720v720H120Zm60-500h600v-160H180v160Zm220 220h160v-160H400v160Zm0 220h160v-160H400v160ZM180-400h160v-160H180v160Zm440 0h160v-160H620v160ZM180-180h160v-160H180v160Zm440 0h160v-160H620v160Z\"/>\n",
              "  </svg>\n",
              "    </button>\n",
              "\n",
              "  <style>\n",
              "    .colab-df-container {\n",
              "      display:flex;\n",
              "      gap: 12px;\n",
              "    }\n",
              "\n",
              "    .colab-df-convert {\n",
              "      background-color: #E8F0FE;\n",
              "      border: none;\n",
              "      border-radius: 50%;\n",
              "      cursor: pointer;\n",
              "      display: none;\n",
              "      fill: #1967D2;\n",
              "      height: 32px;\n",
              "      padding: 0 0 0 0;\n",
              "      width: 32px;\n",
              "    }\n",
              "\n",
              "    .colab-df-convert:hover {\n",
              "      background-color: #E2EBFA;\n",
              "      box-shadow: 0px 1px 2px rgba(60, 64, 67, 0.3), 0px 1px 3px 1px rgba(60, 64, 67, 0.15);\n",
              "      fill: #174EA6;\n",
              "    }\n",
              "\n",
              "    .colab-df-buttons div {\n",
              "      margin-bottom: 4px;\n",
              "    }\n",
              "\n",
              "    [theme=dark] .colab-df-convert {\n",
              "      background-color: #3B4455;\n",
              "      fill: #D2E3FC;\n",
              "    }\n",
              "\n",
              "    [theme=dark] .colab-df-convert:hover {\n",
              "      background-color: #434B5C;\n",
              "      box-shadow: 0px 1px 3px 1px rgba(0, 0, 0, 0.15);\n",
              "      filter: drop-shadow(0px 1px 2px rgba(0, 0, 0, 0.3));\n",
              "      fill: #FFFFFF;\n",
              "    }\n",
              "  </style>\n",
              "\n",
              "    <script>\n",
              "      const buttonEl =\n",
              "        document.querySelector('#df-7ac4eaef-6e1f-4160-90ce-c7b0d1a35e76 button.colab-df-convert');\n",
              "      buttonEl.style.display =\n",
              "        google.colab.kernel.accessAllowed ? 'block' : 'none';\n",
              "\n",
              "      async function convertToInteractive(key) {\n",
              "        const element = document.querySelector('#df-7ac4eaef-6e1f-4160-90ce-c7b0d1a35e76');\n",
              "        const dataTable =\n",
              "          await google.colab.kernel.invokeFunction('convertToInteractive',\n",
              "                                                    [key], {});\n",
              "        if (!dataTable) return;\n",
              "\n",
              "        const docLinkHtml = 'Like what you see? Visit the ' +\n",
              "          '<a target=\"_blank\" href=https://colab.research.google.com/notebooks/data_table.ipynb>data table notebook</a>'\n",
              "          + ' to learn more about interactive tables.';\n",
              "        element.innerHTML = '';\n",
              "        dataTable['output_type'] = 'display_data';\n",
              "        await google.colab.output.renderOutput(dataTable, element);\n",
              "        const docLink = document.createElement('div');\n",
              "        docLink.innerHTML = docLinkHtml;\n",
              "        element.appendChild(docLink);\n",
              "      }\n",
              "    </script>\n",
              "  </div>\n",
              "\n",
              "\n",
              "<div id=\"df-f195eade-7119-45b7-8f1b-1ef5f726d78f\">\n",
              "  <button class=\"colab-df-quickchart\" onclick=\"quickchart('df-f195eade-7119-45b7-8f1b-1ef5f726d78f')\"\n",
              "            title=\"Suggest charts\"\n",
              "            style=\"display:none;\">\n",
              "\n",
              "<svg xmlns=\"http://www.w3.org/2000/svg\" height=\"24px\"viewBox=\"0 0 24 24\"\n",
              "     width=\"24px\">\n",
              "    <g>\n",
              "        <path d=\"M19 3H5c-1.1 0-2 .9-2 2v14c0 1.1.9 2 2 2h14c1.1 0 2-.9 2-2V5c0-1.1-.9-2-2-2zM9 17H7v-7h2v7zm4 0h-2V7h2v10zm4 0h-2v-4h2v4z\"/>\n",
              "    </g>\n",
              "</svg>\n",
              "  </button>\n",
              "\n",
              "<style>\n",
              "  .colab-df-quickchart {\n",
              "      --bg-color: #E8F0FE;\n",
              "      --fill-color: #1967D2;\n",
              "      --hover-bg-color: #E2EBFA;\n",
              "      --hover-fill-color: #174EA6;\n",
              "      --disabled-fill-color: #AAA;\n",
              "      --disabled-bg-color: #DDD;\n",
              "  }\n",
              "\n",
              "  [theme=dark] .colab-df-quickchart {\n",
              "      --bg-color: #3B4455;\n",
              "      --fill-color: #D2E3FC;\n",
              "      --hover-bg-color: #434B5C;\n",
              "      --hover-fill-color: #FFFFFF;\n",
              "      --disabled-bg-color: #3B4455;\n",
              "      --disabled-fill-color: #666;\n",
              "  }\n",
              "\n",
              "  .colab-df-quickchart {\n",
              "    background-color: var(--bg-color);\n",
              "    border: none;\n",
              "    border-radius: 50%;\n",
              "    cursor: pointer;\n",
              "    display: none;\n",
              "    fill: var(--fill-color);\n",
              "    height: 32px;\n",
              "    padding: 0;\n",
              "    width: 32px;\n",
              "  }\n",
              "\n",
              "  .colab-df-quickchart:hover {\n",
              "    background-color: var(--hover-bg-color);\n",
              "    box-shadow: 0 1px 2px rgba(60, 64, 67, 0.3), 0 1px 3px 1px rgba(60, 64, 67, 0.15);\n",
              "    fill: var(--button-hover-fill-color);\n",
              "  }\n",
              "\n",
              "  .colab-df-quickchart-complete:disabled,\n",
              "  .colab-df-quickchart-complete:disabled:hover {\n",
              "    background-color: var(--disabled-bg-color);\n",
              "    fill: var(--disabled-fill-color);\n",
              "    box-shadow: none;\n",
              "  }\n",
              "\n",
              "  .colab-df-spinner {\n",
              "    border: 2px solid var(--fill-color);\n",
              "    border-color: transparent;\n",
              "    border-bottom-color: var(--fill-color);\n",
              "    animation:\n",
              "      spin 1s steps(1) infinite;\n",
              "  }\n",
              "\n",
              "  @keyframes spin {\n",
              "    0% {\n",
              "      border-color: transparent;\n",
              "      border-bottom-color: var(--fill-color);\n",
              "      border-left-color: var(--fill-color);\n",
              "    }\n",
              "    20% {\n",
              "      border-color: transparent;\n",
              "      border-left-color: var(--fill-color);\n",
              "      border-top-color: var(--fill-color);\n",
              "    }\n",
              "    30% {\n",
              "      border-color: transparent;\n",
              "      border-left-color: var(--fill-color);\n",
              "      border-top-color: var(--fill-color);\n",
              "      border-right-color: var(--fill-color);\n",
              "    }\n",
              "    40% {\n",
              "      border-color: transparent;\n",
              "      border-right-color: var(--fill-color);\n",
              "      border-top-color: var(--fill-color);\n",
              "    }\n",
              "    60% {\n",
              "      border-color: transparent;\n",
              "      border-right-color: var(--fill-color);\n",
              "    }\n",
              "    80% {\n",
              "      border-color: transparent;\n",
              "      border-right-color: var(--fill-color);\n",
              "      border-bottom-color: var(--fill-color);\n",
              "    }\n",
              "    90% {\n",
              "      border-color: transparent;\n",
              "      border-bottom-color: var(--fill-color);\n",
              "    }\n",
              "  }\n",
              "</style>\n",
              "\n",
              "  <script>\n",
              "    async function quickchart(key) {\n",
              "      const quickchartButtonEl =\n",
              "        document.querySelector('#' + key + ' button');\n",
              "      quickchartButtonEl.disabled = true;  // To prevent multiple clicks.\n",
              "      quickchartButtonEl.classList.add('colab-df-spinner');\n",
              "      try {\n",
              "        const charts = await google.colab.kernel.invokeFunction(\n",
              "            'suggestCharts', [key], {});\n",
              "      } catch (error) {\n",
              "        console.error('Error during call to suggestCharts:', error);\n",
              "      }\n",
              "      quickchartButtonEl.classList.remove('colab-df-spinner');\n",
              "      quickchartButtonEl.classList.add('colab-df-quickchart-complete');\n",
              "    }\n",
              "    (() => {\n",
              "      let quickchartButtonEl =\n",
              "        document.querySelector('#df-f195eade-7119-45b7-8f1b-1ef5f726d78f button');\n",
              "      quickchartButtonEl.style.display =\n",
              "        google.colab.kernel.accessAllowed ? 'block' : 'none';\n",
              "    })();\n",
              "  </script>\n",
              "</div>\n",
              "\n",
              "    </div>\n",
              "  </div>\n"
            ],
            "application/vnd.google.colaboratory.intrinsic+json": {
              "type": "dataframe",
              "variable_name": "df",
              "summary": "{\n  \"name\": \"df\",\n  \"rows\": 1460,\n  \"fields\": [\n    {\n      \"column\": \"Unnamed: 0\",\n      \"properties\": {\n        \"dtype\": \"number\",\n        \"std\": 421,\n        \"min\": 0,\n        \"max\": 1459,\n        \"num_unique_values\": 1460,\n        \"samples\": [\n          892,\n          1105,\n          413\n        ],\n        \"semantic_type\": \"\",\n        \"description\": \"\"\n      }\n    },\n    {\n      \"column\": \"SalePrice\",\n      \"properties\": {\n        \"dtype\": \"number\",\n        \"std\": 79442,\n        \"min\": 34900,\n        \"max\": 755000,\n        \"num_unique_values\": 663,\n        \"samples\": [\n          91300,\n          174500,\n          150900\n        ],\n        \"semantic_type\": \"\",\n        \"description\": \"\"\n      }\n    },\n    {\n      \"column\": \"OverallQual\",\n      \"properties\": {\n        \"dtype\": \"number\",\n        \"std\": 1,\n        \"min\": 1,\n        \"max\": 10,\n        \"num_unique_values\": 10,\n        \"samples\": [\n          1,\n          6,\n          4\n        ],\n        \"semantic_type\": \"\",\n        \"description\": \"\"\n      }\n    },\n    {\n      \"column\": \"OverallCond\",\n      \"properties\": {\n        \"dtype\": \"number\",\n        \"std\": 1,\n        \"min\": 1,\n        \"max\": 9,\n        \"num_unique_values\": 9,\n        \"samples\": [\n          9,\n          8,\n          2\n        ],\n        \"semantic_type\": \"\",\n        \"description\": \"\"\n      }\n    },\n    {\n      \"column\": \"BedroomAbvGr\",\n      \"properties\": {\n        \"dtype\": \"number\",\n        \"std\": 0,\n        \"min\": 0,\n        \"max\": 8,\n        \"num_unique_values\": 8,\n        \"samples\": [\n          4,\n          5,\n          3\n        ],\n        \"semantic_type\": \"\",\n        \"description\": \"\"\n      }\n    },\n    {\n      \"column\": \"TotRmsAbvGrd\",\n      \"properties\": {\n        \"dtype\": \"number\",\n        \"std\": 1,\n        \"min\": 2,\n        \"max\": 14,\n        \"num_unique_values\": 12,\n        \"samples\": [\n          2,\n          3,\n          8\n        ],\n        \"semantic_type\": \"\",\n        \"description\": \"\"\n      }\n    },\n    {\n      \"column\": \"GrLivArea\",\n      \"properties\": {\n        \"dtype\": \"number\",\n        \"std\": 525,\n        \"min\": 334,\n        \"max\": 5642,\n        \"num_unique_values\": 861,\n        \"samples\": [\n          1459,\n          1775,\n          840\n        ],\n        \"semantic_type\": \"\",\n        \"description\": \"\"\n      }\n    },\n    {\n      \"column\": \"TotalBsmtSF\",\n      \"properties\": {\n        \"dtype\": \"number\",\n        \"std\": 438,\n        \"min\": 0,\n        \"max\": 6110,\n        \"num_unique_values\": 721,\n        \"samples\": [\n          1536,\n          1192,\n          684\n        ],\n        \"semantic_type\": \"\",\n        \"description\": \"\"\n      }\n    },\n    {\n      \"column\": \"YearBuilt\",\n      \"properties\": {\n        \"dtype\": \"number\",\n        \"std\": 30,\n        \"min\": 1872,\n        \"max\": 2010,\n        \"num_unique_values\": 112,\n        \"samples\": [\n          1999,\n          1936,\n          2000\n        ],\n        \"semantic_type\": \"\",\n        \"description\": \"\"\n      }\n    },\n    {\n      \"column\": \"MSZoning\",\n      \"properties\": {\n        \"dtype\": \"category\",\n        \"num_unique_values\": 5,\n        \"samples\": [\n          \"RM\",\n          \"RH\",\n          \"C (all)\"\n        ],\n        \"semantic_type\": \"\",\n        \"description\": \"\"\n      }\n    },\n    {\n      \"column\": \"Utilities\",\n      \"properties\": {\n        \"dtype\": \"category\",\n        \"num_unique_values\": 2,\n        \"samples\": [\n          \"NoSeWa\",\n          \"AllPub\"\n        ],\n        \"semantic_type\": \"\",\n        \"description\": \"\"\n      }\n    },\n    {\n      \"column\": \"BldgType\",\n      \"properties\": {\n        \"dtype\": \"category\",\n        \"num_unique_values\": 5,\n        \"samples\": [\n          \"2fmCon\",\n          \"Twnhs\"\n        ],\n        \"semantic_type\": \"\",\n        \"description\": \"\"\n      }\n    },\n    {\n      \"column\": \"categoria_preco\",\n      \"properties\": {\n        \"dtype\": \"category\",\n        \"num_unique_values\": 2,\n        \"samples\": [\n          \"cara\",\n          \"barata\"\n        ],\n        \"semantic_type\": \"\",\n        \"description\": \"\"\n      }\n    }\n  ]\n}"
            }
          },
          "metadata": {},
          "execution_count": 44
        }
      ]
    },
    {
      "cell_type": "markdown",
      "source": [
        "Como podemos observar, os dados já estão classificados como caro ou barato, dependendo do valor que declaramos anteriormente."
      ],
      "metadata": {
        "id": "sPmKd8lmL4uH"
      }
    },
    {
      "cell_type": "markdown",
      "source": [
        "#### Agora vamos observar mais a fundo a seguinte hipótese: **A média/mediana da qualidade do imóvel é superior para os apartamentos mais caros.**"
      ],
      "metadata": {
        "id": "TX9XAN2WMGxG"
      }
    },
    {
      "cell_type": "code",
      "source": [
        "# Agrupando os dados e observando a média\n",
        "df.groupby(\"categoria_preco\")[\"OverallQual\"].mean()"
      ],
      "metadata": {
        "colab": {
          "base_uri": "https://localhost:8080/"
        },
        "id": "pn9VMnHvMOtl",
        "outputId": "b15a81c4-9368-4dac-a66a-e412f888163e"
      },
      "execution_count": 45,
      "outputs": [
        {
          "output_type": "execute_result",
          "data": {
            "text/plain": [
              "categoria_preco\n",
              "barata    5.588342\n",
              "cara      7.649171\n",
              "Name: OverallQual, dtype: float64"
            ]
          },
          "metadata": {},
          "execution_count": 45
        }
      ]
    },
    {
      "cell_type": "markdown",
      "source": [
        "Dessa forma, estamos agrupando os dados pela coluna 'categoria_preco' e a nota da qualidade do material da casa, observando a média para cada uma das categorias. Podemos notar que as categorias apresentam diferentes médias. Vamos observar um pouco mais a fundo essa situação."
      ],
      "metadata": {
        "id": "JamoATYDMT58"
      }
    },
    {
      "cell_type": "markdown",
      "source": [
        "Observando a mediana."
      ],
      "metadata": {
        "id": "JOANL0aRPXVF"
      }
    },
    {
      "cell_type": "code",
      "source": [
        "# Agrupando os dados e observando a mediana\n",
        "df.groupby(\"categoria_preco\")[\"OverallQual\"].median()"
      ],
      "metadata": {
        "colab": {
          "base_uri": "https://localhost:8080/"
        },
        "id": "lFr7V232PD65",
        "outputId": "bf7bd78a-e132-41c8-d140-5bfa9f8cdc31"
      },
      "execution_count": 46,
      "outputs": [
        {
          "output_type": "execute_result",
          "data": {
            "text/plain": [
              "categoria_preco\n",
              "barata    6.0\n",
              "cara      8.0\n",
              "Name: OverallQual, dtype: float64"
            ]
          },
          "metadata": {},
          "execution_count": 46
        }
      ]
    },
    {
      "cell_type": "markdown",
      "source": [
        "Vamos observar um boxplot dessas colunas."
      ],
      "metadata": {
        "id": "dAvf_W-DPjX9"
      }
    },
    {
      "cell_type": "code",
      "source": [
        "# Criando o boxplot\n",
        "sns.boxplot(data = df, x = \"categoria_preco\", y = \"OverallQual\")\n",
        "plt.title(\"Preço x OverallQual\");"
      ],
      "metadata": {
        "colab": {
          "base_uri": "https://localhost:8080/",
          "height": 0
        },
        "id": "DLriyLVPPn2j",
        "outputId": "8df45199-c8b5-4310-e0e3-c9e4978f4b9b"
      },
      "execution_count": 47,
      "outputs": [
        {
          "output_type": "display_data",
          "data": {
            "text/plain": [
              "<Figure size 640x480 with 1 Axes>"
            ],
            "image/png": "[encoded data removed]"
          },
          "metadata": {}
        }
      ]
    },
    {
      "cell_type": "markdown",
      "source": [
        "- Observamos diferenças entre as médias das casas caras e a média das casas baratas, o mesmo se aplica à mediana.\n",
        "\n",
        "- As casas caras apresentam tanto a média quanto a mediana maior que as casas baratas, ou seja, até o momento, as casas caras realmente apresentam uma qualidade melhor no material."
      ],
      "metadata": {
        "id": "7xvU9j7VQH04"
      }
    },
    {
      "cell_type": "markdown",
      "source": [
        "Porém, ainda não podemos concluir isso com 100% de certeza, pois podemos observar que o limite inferior das casas caras está no mesmo valor que o 3° quartil das casas baratas, e o limite superior das casas baratas está no 1º quartil das casas caras. Ou seja, nesse intervalo, tanto as casas baratas quanto as casas caras possuem a mesma qualidade. Dessa forma, mesmo que a média, mediana e o distanciamento do boxplot indiquem que as casas mais caras realmente apresentam uma melhor qualidade, não podemos afirmar com 100% de certeza devido a essa situação. Para a resolução dessa problemática, seria necessária a realização de um teste de hipótese para comprovar se realmente existe uma diferença de média."
      ],
      "metadata": {
        "id": "vMaNCckUQdsF"
      }
    },
    {
      "cell_type": "markdown",
      "source": [
        "Vamos observar a média das casas com a coluna nota geral da casa."
      ],
      "metadata": {
        "id": "t_UlcewWVRDq"
      }
    },
    {
      "cell_type": "code",
      "source": [
        "# Agrupando os dados e observando a média\n",
        "df.groupby(\"categoria_preco\")[\"OverallCond\"].mean()"
      ],
      "metadata": {
        "colab": {
          "base_uri": "https://localhost:8080/"
        },
        "id": "jQNK-1bxVbOL",
        "outputId": "3cdd7ec0-0b5d-411d-96b9-ae551d7e30f0"
      },
      "execution_count": 48,
      "outputs": [
        {
          "output_type": "execute_result",
          "data": {
            "text/plain": [
              "categoria_preco\n",
              "barata    5.631148\n",
              "cara      5.406077\n",
              "Name: OverallCond, dtype: float64"
            ]
          },
          "metadata": {},
          "execution_count": 48
        }
      ]
    },
    {
      "cell_type": "markdown",
      "source": [
        "Observando a mediana."
      ],
      "metadata": {
        "id": "r3L3VwpZV0Xf"
      }
    },
    {
      "cell_type": "code",
      "source": [
        "# Agrupando os dados e observando a mediana\n",
        "df.groupby(\"categoria_preco\")[\"OverallCond\"].median()"
      ],
      "metadata": {
        "colab": {
          "base_uri": "https://localhost:8080/"
        },
        "id": "2WY1aT12Vkvp",
        "outputId": "df534246-f9fd-4347-c068-19accd9dc4de"
      },
      "execution_count": 49,
      "outputs": [
        {
          "output_type": "execute_result",
          "data": {
            "text/plain": [
              "categoria_preco\n",
              "barata    5.0\n",
              "cara      5.0\n",
              "Name: OverallCond, dtype: float64"
            ]
          },
          "metadata": {},
          "execution_count": 49
        }
      ]
    },
    {
      "cell_type": "markdown",
      "source": [
        "Agora vamos observar o boxplot."
      ],
      "metadata": {
        "id": "mPzh2GPKWBju"
      }
    },
    {
      "cell_type": "code",
      "source": [
        "# Criando o boxplot\n",
        "sns.boxplot(data = df, x = \"categoria_preco\", y = \"OverallCond\")\n",
        "plt.title(\"Preço x OverallCond\");"
      ],
      "metadata": {
        "colab": {
          "base_uri": "https://localhost:8080/",
          "height": 0
        },
        "id": "tp_NRxwYWC-O",
        "outputId": "bfc8daab-172e-40bb-ce1b-1dd5ea5be7cf"
      },
      "execution_count": 50,
      "outputs": [
        {
          "output_type": "display_data",
          "data": {
            "text/plain": [
              "<Figure size 640x480 with 1 Axes>"
            ],
            "image/png": "[encoded data removed]"
          },
          "metadata": {}
        }
      ]
    },
    {
      "cell_type": "markdown",
      "source": [
        "Podemos observar que, nesse caso, o boxplot das casas caras adquiriu um formato esquisito. Como vimos anteriormente, a média não está se distanciando muito uma da outra, e a mediana é exatamente a mesma. Vamos tentar investigar o motivo pelo qual esse boxplot está com essa forma estranha."
      ],
      "metadata": {
        "id": "h1ordbgXWS5U"
      }
    },
    {
      "cell_type": "code",
      "source": [
        "# Observando os registros presentes na coluna OverllCond\n",
        "df[df['categoria_preco'] == 'cara'].OverallCond.value_counts()"
      ],
      "metadata": {
        "colab": {
          "base_uri": "https://localhost:8080/"
        },
        "id": "nNP8XxqhXPnr",
        "outputId": "1577322d-4d24-4197-8fe9-27323d8d6a72"
      },
      "execution_count": 51,
      "outputs": [
        {
          "output_type": "execute_result",
          "data": {
            "text/plain": [
              "OverallCond\n",
              "5    284\n",
              "7     32\n",
              "6     25\n",
              "8      9\n",
              "9      9\n",
              "4      2\n",
              "2      1\n",
              "Name: count, dtype: int64"
            ]
          },
          "metadata": {},
          "execution_count": 51
        }
      ]
    },
    {
      "cell_type": "markdown",
      "source": [
        "Com esse código, podemos observar quais os valores estão presentes na variável 'OverallCond' quando a casa é considerada cara. Logo, podemos notar que existem 284 notas 5 e poucos valores das outras notas, por isso o boxplot está com aquele formato estranho."
      ],
      "metadata": {
        "id": "je_cgOPhXr7y"
      }
    },
    {
      "cell_type": "markdown",
      "source": [
        "Nesse caso, temos duas opções:\n",
        "\n",
        "- O pessoal que deu as notas para essas casas não levou esse critério muito a sério e acabou dando notas um pouco displicentes.\n",
        "\n",
        "- A condição das casas, sejam elas caras ou baratas, não muda tanto e estão praticamente no mesmo patamar nesse quesito, já que a média é bem próxima e a mediana é igual."
      ],
      "metadata": {
        "id": "-uuci168aThu"
      }
    },
    {
      "cell_type": "markdown",
      "source": [
        "**Conclusão**\n",
        "\n",
        "As casas caras apresentam uma média e mediana maiores que as casas baratas. Aparentemente, as casas caras realmente apresentam uma qualidade melhor no material. No entanto, detectamos sobreposição entre os boxplots. Para termos 100% de certeza, seria necessário um teste de hipótese.\n",
        "\n",
        "Ao observarmos as notas gerais para as casas, podemos perceber que a média está bem próxima e a mediana é a mesma, indicando que talvez as casas estejam bem semelhantes nesses pontos. Logo, essa característica não é muito relevante para sabermos o motivo de uma casa estar sendo vendida cara ou barata."
      ],
      "metadata": {
        "id": "brnGkmfvkfZG"
      }
    },
    {
      "cell_type": "markdown",
      "source": [
        "#### Vamos observar mais a fundo a seguinte hipótese: **A média/mediana da quantidade de cômodos/quartos/porão/área é maior em apartamentos mais caros.**"
      ],
      "metadata": {
        "id": "HERSWEYVkDQZ"
      }
    },
    {
      "cell_type": "markdown",
      "source": [
        "Vamos partir para a próxima variável."
      ],
      "metadata": {
        "id": "Q6fbTG9ybCaR"
      }
    },
    {
      "cell_type": "code",
      "source": [
        "# Agrupando os dados e observando a média\n",
        "df.groupby(\"categoria_preco\")[\"TotRmsAbvGrd\"].mean()"
      ],
      "metadata": {
        "colab": {
          "base_uri": "https://localhost:8080/"
        },
        "id": "bZgEdnQZbFeR",
        "outputId": "abd20b0b-62c5-47c3-f146-ba5218efa012"
      },
      "execution_count": 52,
      "outputs": [
        {
          "output_type": "execute_result",
          "data": {
            "text/plain": [
              "categoria_preco\n",
              "barata    6.122951\n",
              "cara      7.715470\n",
              "Name: TotRmsAbvGrd, dtype: float64"
            ]
          },
          "metadata": {},
          "execution_count": 52
        }
      ]
    },
    {
      "cell_type": "code",
      "source": [
        "# Agrupando os dados e observando a mediana\n",
        "df.groupby(\"categoria_preco\")[\"TotRmsAbvGrd\"].median()"
      ],
      "metadata": {
        "colab": {
          "base_uri": "https://localhost:8080/"
        },
        "id": "klrcAsIobK0-",
        "outputId": "846948ed-41e0-4027-bc73-f6d671bc0cd3"
      },
      "execution_count": 53,
      "outputs": [
        {
          "output_type": "execute_result",
          "data": {
            "text/plain": [
              "categoria_preco\n",
              "barata    6.0\n",
              "cara      8.0\n",
              "Name: TotRmsAbvGrd, dtype: float64"
            ]
          },
          "metadata": {},
          "execution_count": 53
        }
      ]
    },
    {
      "cell_type": "markdown",
      "source": [
        "Vamos observar o boxplot."
      ],
      "metadata": {
        "id": "zLBZk3tjbS4O"
      }
    },
    {
      "cell_type": "code",
      "source": [
        "# Criando o boxplot\n",
        "sns.boxplot(data = df, x = \"categoria_preco\", y = \"TotRmsAbvGrd\")\n",
        "plt.title(\"Preço x TotRmsAbvGrd\");"
      ],
      "metadata": {
        "colab": {
          "base_uri": "https://localhost:8080/",
          "height": 0
        },
        "id": "CqPpvlR5bVjv",
        "outputId": "6ef93a89-bcc9-4ff6-cc6a-bf4e2e883231"
      },
      "execution_count": 54,
      "outputs": [
        {
          "output_type": "display_data",
          "data": {
            "text/plain": [
              "<Figure size 640x480 with 1 Axes>"
            ],
            "image/png": "[encoded data removed]"
          },
          "metadata": {}
        }
      ]
    },
    {
      "cell_type": "markdown",
      "source": [
        "Essa variável se trata do total de cômodos acima do solo. Podemos observar que as casas caras apresentam tanto média quanto mediana maior que as casas baratas, além de um claro deslocamento do boxplot. No entanto, ainda assim, podemos observar que nesse caso novamente existe meio que uma sobreposição dos boxplots. Para realmente termos 100% de certeza se essas médias são realmente diferentes, seria necessário a realização de um teste de hipótese."
      ],
      "metadata": {
        "id": "0n1LwoSJbbOW"
      }
    },
    {
      "cell_type": "markdown",
      "source": [
        "Vamos partir para a próxima variável."
      ],
      "metadata": {
        "id": "joxrjHNLcNcJ"
      }
    },
    {
      "cell_type": "code",
      "source": [
        "# Agrupando os dados e observando a média\n",
        "df.groupby(\"categoria_preco\")[\"GrLivArea\"].mean()"
      ],
      "metadata": {
        "colab": {
          "base_uri": "https://localhost:8080/"
        },
        "id": "AAOrDaAGcQ7X",
        "outputId": "6bf2e50e-e684-491a-b190-cb8a4edef6dd"
      },
      "execution_count": 55,
      "outputs": [
        {
          "output_type": "execute_result",
          "data": {
            "text/plain": [
              "categoria_preco\n",
              "barata    1342.642077\n",
              "cara      2039.657459\n",
              "Name: GrLivArea, dtype: float64"
            ]
          },
          "metadata": {},
          "execution_count": 55
        }
      ]
    },
    {
      "cell_type": "code",
      "source": [
        "# Agrupando os dados e observando a mediana\n",
        "df.groupby(\"categoria_preco\")[\"GrLivArea\"].median()"
      ],
      "metadata": {
        "colab": {
          "base_uri": "https://localhost:8080/"
        },
        "id": "etVHHHmlcSgu",
        "outputId": "e9a30df4-a8dd-4884-d660-dd38fd110c2c"
      },
      "execution_count": 56,
      "outputs": [
        {
          "output_type": "execute_result",
          "data": {
            "text/plain": [
              "categoria_preco\n",
              "barata    1308.5\n",
              "cara      1956.0\n",
              "Name: GrLivArea, dtype: float64"
            ]
          },
          "metadata": {},
          "execution_count": 56
        }
      ]
    },
    {
      "cell_type": "code",
      "source": [
        "# Criando o boxplot\n",
        "sns.boxplot(data = df, x = \"categoria_preco\", y = \"GrLivArea\")\n",
        "plt.title(\"Preço x GrLivArea\");"
      ],
      "metadata": {
        "colab": {
          "base_uri": "https://localhost:8080/",
          "height": 0
        },
        "id": "TD-ngvtLcUS9",
        "outputId": "907d664c-9146-4c9f-ef61-3296b7ad1c40"
      },
      "execution_count": 57,
      "outputs": [
        {
          "output_type": "display_data",
          "data": {
            "text/plain": [
              "<Figure size 640x480 with 1 Axes>"
            ],
            "image/png": "[encoded data removed]"
          },
          "metadata": {}
        }
      ]
    },
    {
      "cell_type": "markdown",
      "source": [
        "Observando a área das casas, encontramos uma média e mediana maior nas casas mais caras. No entanto, novamente encontramos uma sobreposição, onde existem tanto casas caras quanto casas baratas apresentando uma área igual. Provavelmente, se tivéssemos mais alguma variável em conjunto com essa das áreas, poderíamos explicar um pouco mais a respeito dos valores das casas. Mas se quisermos utilizar apenas essa variável, novamente se faz necessário o teste de hipóteses."
      ],
      "metadata": {
        "id": "qUo3B9qqcjEk"
      }
    },
    {
      "cell_type": "markdown",
      "source": [
        "Oservando outra variável.\n",
        "\n"
      ],
      "metadata": {
        "id": "z1y-D6WgdVVY"
      }
    },
    {
      "cell_type": "code",
      "source": [
        "# Agrupando os dados e observando a média\n",
        "df.groupby(\"categoria_preco\")[\"TotalBsmtSF\"].mean()"
      ],
      "metadata": {
        "colab": {
          "base_uri": "https://localhost:8080/"
        },
        "id": "JNWKRer-dXfG",
        "outputId": "99d3b2a6-ba0d-48fd-968d-b27e96817140"
      },
      "execution_count": 58,
      "outputs": [
        {
          "output_type": "execute_result",
          "data": {
            "text/plain": [
              "categoria_preco\n",
              "barata     936.475410\n",
              "cara      1424.301105\n",
              "Name: TotalBsmtSF, dtype: float64"
            ]
          },
          "metadata": {},
          "execution_count": 58
        }
      ]
    },
    {
      "cell_type": "code",
      "source": [
        "# Agrupando os dados e observando a mediana\n",
        "df.groupby(\"categoria_preco\")[\"TotalBsmtSF\"].median()"
      ],
      "metadata": {
        "colab": {
          "base_uri": "https://localhost:8080/"
        },
        "id": "WVXELrugdZgO",
        "outputId": "7d83dec4-83db-4f82-f9fb-12c3b8247226"
      },
      "execution_count": 59,
      "outputs": [
        {
          "output_type": "execute_result",
          "data": {
            "text/plain": [
              "categoria_preco\n",
              "barata     912.0\n",
              "cara      1452.5\n",
              "Name: TotalBsmtSF, dtype: float64"
            ]
          },
          "metadata": {},
          "execution_count": 59
        }
      ]
    },
    {
      "cell_type": "code",
      "source": [
        "# Criando o boxplot\n",
        "sns.boxplot(data = df, x = \"categoria_preco\", y = \"TotalBsmtSF\")\n",
        "plt.title(\"Preço x TotalBsmtSF\");"
      ],
      "metadata": {
        "colab": {
          "base_uri": "https://localhost:8080/",
          "height": 0
        },
        "id": "-WTYNcv4dfsF",
        "outputId": "ead32d87-85c8-46e0-efd1-27bddf231bc9"
      },
      "execution_count": 60,
      "outputs": [
        {
          "output_type": "display_data",
          "data": {
            "text/plain": [
              "<Figure size 640x480 with 1 Axes>"
            ],
            "image/png": "[encoded data removed]"
          },
          "metadata": {}
        }
      ]
    },
    {
      "cell_type": "markdown",
      "source": [
        "Utilizando a variável do total da área do porão, observamos uma situação bem semelhante com as anteriores. As casas caras apresentam tanto média quanto mediana maiores, porém os boxplots estão apresentando uma sobreposição novamente, fazendo com que para a comprovação da diferença entre as médias seja necessario um teste de hipóteses."
      ],
      "metadata": {
        "id": "ogKJHbiVdsCc"
      }
    },
    {
      "cell_type": "code",
      "source": [
        "# Agrupando os dados e observando a média\n",
        "df.groupby(\"categoria_preco\")[\"BedroomAbvGr\"].mean()"
      ],
      "metadata": {
        "colab": {
          "base_uri": "https://localhost:8080/"
        },
        "id": "bdYt989xl9Xr",
        "outputId": "be124a72-d0c3-4c5b-9f11-2d968cd84a33"
      },
      "execution_count": 61,
      "outputs": [
        {
          "output_type": "execute_result",
          "data": {
            "text/plain": [
              "categoria_preco\n",
              "barata    2.806922\n",
              "cara      3.046961\n",
              "Name: BedroomAbvGr, dtype: float64"
            ]
          },
          "metadata": {},
          "execution_count": 61
        }
      ]
    },
    {
      "cell_type": "code",
      "source": [
        "# Agrupando os dados e observando a média\n",
        "df.groupby(\"categoria_preco\")[\"BedroomAbvGr\"].median()"
      ],
      "metadata": {
        "colab": {
          "base_uri": "https://localhost:8080/"
        },
        "id": "mqdjXP7omYxY",
        "outputId": "264637da-0967-4402-b5dc-c39c6303a5f0"
      },
      "execution_count": 62,
      "outputs": [
        {
          "output_type": "execute_result",
          "data": {
            "text/plain": [
              "categoria_preco\n",
              "barata    3.0\n",
              "cara      3.0\n",
              "Name: BedroomAbvGr, dtype: float64"
            ]
          },
          "metadata": {},
          "execution_count": 62
        }
      ]
    },
    {
      "cell_type": "code",
      "source": [
        "# Criando o boxplot\n",
        "sns.boxplot(data = df, x = \"categoria_preco\", y = \"BedroomAbvGr\")\n",
        "plt.title(\"Preço x BedroomAbvGr\");"
      ],
      "metadata": {
        "colab": {
          "base_uri": "https://localhost:8080/",
          "height": 0
        },
        "id": "mHYEzozKmcBI",
        "outputId": "3e7c17c8-3184-4010-b4e0-65a4df2eeee5"
      },
      "execution_count": 63,
      "outputs": [
        {
          "output_type": "display_data",
          "data": {
            "text/plain": [
              "<Figure size 640x480 with 1 Axes>"
            ],
            "image/png": "[encoded data removed]"
          },
          "metadata": {}
        }
      ]
    },
    {
      "cell_type": "markdown",
      "source": [
        "Ao observarmos a média, chegamos a um valor muito próximo, e obtivemos uma mediana igual entre os quartos presentes nas casas caras e baratas, mostrando que ambas as casas estão bem próximas no quesito número de banheiros. Podemos perceber também a sobreposição que está ocorrendo no boxplot, o que confirma a nossa desconfiança de que estão bem semelhantes."
      ],
      "metadata": {
        "id": "Cd-_HRK7mgeX"
      }
    },
    {
      "cell_type": "markdown",
      "source": [
        "**Conclusão**\n",
        "\n",
        "Ao analisar os dados fornecidos sobre as características das casas caras e baratas, observamos consistentemente que as casas caras tendem a ter médias e medianas mais elevadas em aspectos como total de cômodos, área total e tamanho do porão. No entanto, o número de quartos é bem semelhante tanto nas casas caras quanto nas casas baratas.\n",
        "\n",
        "É evidente que existe uma sobreposição nos boxplots, indicando que algumas casas baratas compartilham características semelhantes com as casas caras.\n",
        "\n",
        "Embora as casas caras geralmente apresentem características superiores, a sobreposição nos dados destaca a importância de uma análise mais aprofundada para compreender a diversidade dentro de cada categoria e fazer avaliações mais precisas."
      ],
      "metadata": {
        "id": "vxfClEHfeDHq"
      }
    },
    {
      "cell_type": "markdown",
      "source": [
        "#### Vamos observar mais a fundo a seguinte hipótese: **Os apartamentos mais caros são mais antigos**"
      ],
      "metadata": {
        "id": "gM2gZLAdmKQS"
      }
    },
    {
      "cell_type": "code",
      "source": [
        "# Agrupando os dados e observando a média\n",
        "df.groupby(\"categoria_preco\")[\"YearBuilt\"].mean()"
      ],
      "metadata": {
        "colab": {
          "base_uri": "https://localhost:8080/"
        },
        "id": "iDbTeJzseEOR",
        "outputId": "08b5aed9-6a95-4cd2-bf17-187c2bd7c844"
      },
      "execution_count": 64,
      "outputs": [
        {
          "output_type": "execute_result",
          "data": {
            "text/plain": [
              "categoria_preco\n",
              "barata    1964.303279\n",
              "cara      1992.392265\n",
              "Name: YearBuilt, dtype: float64"
            ]
          },
          "metadata": {},
          "execution_count": 64
        }
      ]
    },
    {
      "cell_type": "code",
      "source": [
        "# Agrupando os dados e observando a mediana\n",
        "df.groupby(\"categoria_preco\")[\"YearBuilt\"].median()"
      ],
      "metadata": {
        "colab": {
          "base_uri": "https://localhost:8080/"
        },
        "id": "QnW_YU8teGWI",
        "outputId": "727158be-4a14-49dc-bbb0-1427df895f3b"
      },
      "execution_count": 65,
      "outputs": [
        {
          "output_type": "execute_result",
          "data": {
            "text/plain": [
              "categoria_preco\n",
              "barata    1965.5\n",
              "cara      2002.0\n",
              "Name: YearBuilt, dtype: float64"
            ]
          },
          "metadata": {},
          "execution_count": 65
        }
      ]
    },
    {
      "cell_type": "code",
      "source": [
        "# Criando o boxplot\n",
        "sns.boxplot(data = df, x = \"categoria_preco\", y = \"YearBuilt\")\n",
        "plt.title(\"Preço x YearBuilt\");"
      ],
      "metadata": {
        "colab": {
          "base_uri": "https://localhost:8080/",
          "height": 0
        },
        "id": "iCmgy0KCeIKB",
        "outputId": "8fbb1c4a-7e96-4e34-91cb-3f9985629bda"
      },
      "execution_count": 66,
      "outputs": [
        {
          "output_type": "display_data",
          "data": {
            "text/plain": [
              "<Figure size 640x480 with 1 Axes>"
            ],
            "image/png": "[encoded data removed]"
          },
          "metadata": {}
        }
      ]
    },
    {
      "cell_type": "markdown",
      "source": [
        "**Conclusão**\n",
        "\n",
        "As médias entre as datas de construção das casas baratas e caras estão bem semelhantes, porém a mediana está um pouco diferente, o que pode indicar que a presença de outliers está esticando a média.\n",
        "\n",
        "Também é possível notar que a maior parte das casas caras está acima do terceiro quartil das casas baratas. Podemos observar que a maioria das casas caras foi construída acima de 1985. No entanto, devido à sobreposição, para afirmarmos que as casas novas realmente são mais caras, seria necessária a aplicação de um teste de hipótese."
      ],
      "metadata": {
        "id": "_Z_3NWapeOsI"
      }
    },
    {
      "cell_type": "markdown",
      "source": [
        "#### **Correlação**"
      ],
      "metadata": {
        "id": "JNPM3-mrB1x6"
      }
    },
    {
      "cell_type": "markdown",
      "source": [
        "Mesmo que correlação não seja um tema que será abordado agora, vale a pena dar uma olhada para entendermos como uma variável se comporta em relação à outra."
      ],
      "metadata": {
        "id": "qoITnaZLB333"
      }
    },
    {
      "cell_type": "code",
      "source": [
        "# Criando o gráfico de dispersão\n",
        "sns.scatterplot(data = df, x = 'SalePrice', y = 'OverallQual')\n",
        "plt.title(\"Preço x OverallQual\");"
      ],
      "metadata": {
        "colab": {
          "base_uri": "https://localhost:8080/",
          "height": 0
        },
        "id": "VUSAUnpwCSL1",
        "outputId": "c30a9e55-5471-4960-cd36-e6a55fed5a8e"
      },
      "execution_count": 67,
      "outputs": [
        {
          "output_type": "display_data",
          "data": {
            "text/plain": [
              "<Figure size 640x480 with 1 Axes>"
            ],
            "image/png": "[encoded data removed]"
          },
          "metadata": {}
        }
      ]
    },
    {
      "cell_type": "markdown",
      "source": [
        "Como a variável 'OverallQual' é do tipo discreta, é possível notar que existem diversos pontos na mesma linha. É possível enxergar uma correlação, embora possivelmente seja uma correlação fraca. Aparentemente, as casas que recebem notas mais altas apresentam os maiores preços."
      ],
      "metadata": {
        "id": "-UaK7m2cC89h"
      }
    },
    {
      "cell_type": "code",
      "source": [
        "# Criando o gráfico de dispersão\n",
        "sns.scatterplot(data = df, x = 'SalePrice', y = 'GrLivArea')\n",
        "plt.title(\"Preço x GrLivArea\");"
      ],
      "metadata": {
        "colab": {
          "base_uri": "https://localhost:8080/",
          "height": 0
        },
        "id": "nmt9w1nIDQVW",
        "outputId": "277ebdab-851e-4792-a872-5338f154668c"
      },
      "execution_count": 68,
      "outputs": [
        {
          "output_type": "display_data",
          "data": {
            "text/plain": [
              "<Figure size 640x480 with 1 Axes>"
            ],
            "image/png": "[encoded data removed]"
          },
          "metadata": {}
        }
      ]
    },
    {
      "cell_type": "markdown",
      "source": [
        "No caso dos preços de venda e da área, eles apresentam uma correlação que aparentemente é mais forte que a anterior, embora alguns pontos fujam bastante. Provavelmente, são aqueles casos em que casas com grandes áreas foram vendidas a baixos preços, enquanto algumas casas pequenas foram vendidas a altos preços."
      ],
      "metadata": {
        "id": "bHYbsMhWDV0-"
      }
    },
    {
      "cell_type": "code",
      "source": [
        "# Criando o gráfico de dispersão\n",
        "sns.scatterplot(data = df, x = 'SalePrice', y = 'YearBuilt')\n",
        "plt.title(\"Preço x YearBuilt\");"
      ],
      "metadata": {
        "colab": {
          "base_uri": "https://localhost:8080/",
          "height": 0
        },
        "id": "QT9eJXrDDpEL",
        "outputId": "882eac7e-5439-4669-d120-7663088078f3"
      },
      "execution_count": 69,
      "outputs": [
        {
          "output_type": "display_data",
          "data": {
            "text/plain": [
              "<Figure size 640x480 with 1 Axes>"
            ],
            "image/png": "[encoded data removed]"
          },
          "metadata": {}
        }
      ]
    },
    {
      "cell_type": "markdown",
      "source": [
        "Já no caso dos anos em relação ao preço da casa, a visualização não ficou tão boa. Talvez, utilizando outra técnica, seja possível observar essa correlação, mas até o momento, o que conseguimos enxergar é que a maior parte das casas novas são caras. Assim, acredito que as casas mais antigas não estão apresentando um valor tão alto, logo podemos descartar a nossa hipótese."
      ],
      "metadata": {
        "id": "LvnvCr4uD1Xq"
      }
    },
    {
      "cell_type": "markdown",
      "source": [
        "### **Categóricos**"
      ],
      "metadata": {
        "id": "WnA3M45qHn44"
      }
    },
    {
      "cell_type": "markdown",
      "source": [
        "Vamos prosseguir com as variáveis que podem ser tratadas como categóricas. Por favor, forneça mais informações ou instruções sobre como você gostaria de proceder com essas variáveis."
      ],
      "metadata": {
        "id": "OBaz76lIHq19"
      }
    },
    {
      "cell_type": "code",
      "source": [
        "# Criando o boxplot\n",
        "sns.boxplot(x=\"MSZoning\", y=\"SalePrice\", data=df);"
      ],
      "metadata": {
        "colab": {
          "base_uri": "https://localhost:8080/",
          "height": 0
        },
        "id": "NsQeAMPVH6V7",
        "outputId": "b160fd81-bc88-4486-e877-616ccede9b8c"
      },
      "execution_count": 70,
      "outputs": [
        {
          "output_type": "display_data",
          "data": {
            "text/plain": [
              "<Figure size 640x480 with 1 Axes>"
            ],
            "image/png": "[encoded data removed]"
          },
          "metadata": {}
        }
      ]
    },
    {
      "cell_type": "markdown",
      "source": [
        "Quando observamos esse gráfico, onde temos a classificação das zonas da casa, podemos perceber que a única que podemos realmente afirmar que existem diferenças entre elas é a 'FV' e a 'C'. Todas as outras estão demonstrando algum tipo de sobreposição, sendo necessário a aplicação de algum teste de hipótese. Mas já podemos afirmar que as casas nas zonas 'FV' tendem a ser mais caras que as casas da zona 'C'."
      ],
      "metadata": {
        "id": "1aN9LkmTIUOQ"
      }
    },
    {
      "cell_type": "code",
      "source": [
        "# Criando o boxplot\n",
        "sns.boxplot(x=\"Utilities\", y=\"SalePrice\", data=df);"
      ],
      "metadata": {
        "colab": {
          "base_uri": "https://localhost:8080/",
          "height": 0
        },
        "id": "LS397IgCLZVr",
        "outputId": "5e9e6f24-fd78-4993-d8c1-a537f3179de6"
      },
      "execution_count": 71,
      "outputs": [
        {
          "output_type": "display_data",
          "data": {
            "text/plain": [
              "<Figure size 640x480 with 1 Axes>"
            ],
            "image/png": "[encoded data removed]"
          },
          "metadata": {}
        }
      ]
    },
    {
      "cell_type": "markdown",
      "source": [
        "Pode-se observar novamente um padrão de gráfico estranho. Vamos analisar um pouco mais a fundo essa coluna para entendermos melhor esse caso."
      ],
      "metadata": {
        "id": "N8NKrne_LjTJ"
      }
    },
    {
      "cell_type": "code",
      "source": [
        "# Observando os valores presentes\n",
        "df['Utilities'].value_counts()"
      ],
      "metadata": {
        "colab": {
          "base_uri": "https://localhost:8080/"
        },
        "id": "fkwx9LBJLqxY",
        "outputId": "496a8e9c-feda-4dc9-8bf6-aaa1c6913d3e"
      },
      "execution_count": 72,
      "outputs": [
        {
          "output_type": "execute_result",
          "data": {
            "text/plain": [
              "Utilities\n",
              "AllPub    1459\n",
              "NoSeWa       1\n",
              "Name: count, dtype: int64"
            ]
          },
          "metadata": {},
          "execution_count": 72
        }
      ]
    },
    {
      "cell_type": "markdown",
      "source": [
        "Pode-se observar que quase todos os dados são classificados como 'AllPub', o que indica que as casas possuem todas as utilidades públicas, como energia, água, gás, etc. Apenas uma casa apresenta a característica 'NoSeWa', onde apenas a eletricidade e o gás estão presentes. Por conseguinte, podemos afirmar que, como quase todas as casas apresentam a categoria 'AllPub', essa característica não vai nos dizer muita coisa a respeito do preço de venda das casas."
      ],
      "metadata": {
        "id": "-mLMmw9bL2jo"
      }
    },
    {
      "cell_type": "code",
      "source": [
        "# Criando o boxplot\n",
        "sns.boxplot(x=\"BldgType\", y=\"SalePrice\", data=df);"
      ],
      "metadata": {
        "colab": {
          "base_uri": "https://localhost:8080/",
          "height": 0
        },
        "id": "BE3IK-OTMdGr",
        "outputId": "1f9ff958-9ba6-46fb-d942-7443cd52681e"
      },
      "execution_count": 73,
      "outputs": [
        {
          "output_type": "display_data",
          "data": {
            "text/plain": [
              "<Figure size 640x480 with 1 Axes>"
            ],
            "image/png": "[encoded data removed]"
          },
          "metadata": {}
        }
      ]
    },
    {
      "cell_type": "markdown",
      "source": [
        "Ao observar o gráfico de tipo de casa, aparentemente, ele não nos diz muita coisa, já que parece não existir muita diferença entre eles. Claro que, para decretarmos isso como uma certeza, seria necessário calcular a média de cada uma das categorias e, logo após, aplicar um teste de hipótese.\n",
        "\n",
        "\n",
        "\n",
        "\n",
        "\n",
        "\n"
      ],
      "metadata": {
        "id": "EVmIvAAZM0Xw"
      }
    },
    {
      "cell_type": "markdown",
      "source": [
        "## **Dispersão**"
      ],
      "metadata": {
        "id": "4JN0bQhhN7fn"
      }
    },
    {
      "cell_type": "markdown",
      "source": [
        "Vamos entender o comportamento da variavel 'SalePrice', vamos tentar reponder as seguintes perguntas:\n",
        "\n",
        "- 1) A distribuição é normal?\n",
        "\n",
        "- 2) Qual é o desvio padrão da distribuição? Será que os dados variam muito?\n",
        "\n",
        "- 3) Qual seria a curtose dessa distribuição? Com isso, conseguiremos entender se existem mais ou menos dados concentrados na cauda\n",
        "\n",
        "- 4) Se não for normal, qual é a skew dessa distribuição? Com isso, podemos entender se a cauda é desviada mais pra direita ou esqueda"
      ],
      "metadata": {
        "id": "97CbWjOUOCSo"
      }
    },
    {
      "cell_type": "markdown",
      "source": [
        "Agora vamos analisar o KPI"
      ],
      "metadata": {
        "id": "2XulCFH8OS_V"
      }
    },
    {
      "cell_type": "code",
      "source": [
        "# Criando o histograma\n",
        "sns.displot(df['SalePrice'], kde = True, bins = 30);"
      ],
      "metadata": {
        "colab": {
          "base_uri": "https://localhost:8080/",
          "height": 0
        },
        "id": "quYvhhbuOU7d",
        "outputId": "6cee1747-85f3-4733-85f0-f9f6a2c8594f"
      },
      "execution_count": 74,
      "outputs": [
        {
          "output_type": "display_data",
          "data": {
            "text/plain": [
              "<Figure size 500x500 with 1 Axes>"
            ],
            "image/png": "[encoded data removed]"
          },
          "metadata": {}
        }
      ]
    },
    {
      "cell_type": "markdown",
      "source": [
        "Podemos observar uma longa cauda do lado direito, mostrando que temos poucos registros com valores muito altos, ou seja, outliers. Devido a essa longa cauda, podemos afirmar que essa distribuição não se trata de uma distribuição normal."
      ],
      "metadata": {
        "id": "lj8kdgcUO8hR"
      }
    },
    {
      "cell_type": "markdown",
      "source": [
        "Agora vamos observar o desvio padrão."
      ],
      "metadata": {
        "id": "w2JXemxvPW9d"
      }
    },
    {
      "cell_type": "code",
      "source": [
        "# Calculando o desvio padrão\n",
        "desvio = df['SalePrice'].std()\n",
        "\n",
        "# Exibindo o desvio\n",
        "print(desvio)"
      ],
      "metadata": {
        "colab": {
          "base_uri": "https://localhost:8080/"
        },
        "id": "fjrY4XBHPVSV",
        "outputId": "5b360458-1f24-4090-9881-94962197cc5b"
      },
      "execution_count": 75,
      "outputs": [
        {
          "output_type": "stream",
          "name": "stdout",
          "text": [
            "79442.50288288662\n"
          ]
        }
      ]
    },
    {
      "cell_type": "markdown",
      "source": [
        "Levando em consideração que a nossa média para essa coluna era de 180k, um desvio de 79k parece ser bem alto em relação à média. Vamos observar o coeficiente de variação."
      ],
      "metadata": {
        "id": "fEquubePPkUb"
      }
    },
    {
      "cell_type": "markdown",
      "source": [
        "Agora que sabemos o desvio padrão, vamos calcular o coeficiente de variação."
      ],
      "metadata": {
        "id": "tSBLoXSGQjE9"
      }
    },
    {
      "cell_type": "code",
      "source": [
        "# Calculando o coeficiente de variância\n",
        "coef_var =  (desvio/df['SalePrice'].mean())*100\n",
        "\n",
        "# Outra forma de realizar esse cálculo: coef_var = scipy.stats.variation(df['SalePrice']) * 100\n",
        "\n",
        "# Exibindo o coeficiente\n",
        "print(coef_var)"
      ],
      "metadata": {
        "colab": {
          "base_uri": "https://localhost:8080/"
        },
        "id": "CGw3v4DMQJlA",
        "outputId": "c2c4a7a8-877c-45d7-ec30-54541c0f090c"
      },
      "execution_count": 76,
      "outputs": [
        {
          "output_type": "stream",
          "name": "stdout",
          "text": [
            "43.91000318780071\n"
          ]
        }
      ]
    },
    {
      "cell_type": "markdown",
      "source": [
        "Dessa forma, podemos afirmar que os dados diferem da média cerca de 79.442 unidades. Essa diferença representa cerca de 43% da média."
      ],
      "metadata": {
        "id": "MLul1lQNRZZV"
      }
    },
    {
      "cell_type": "markdown",
      "source": [
        "Vamos calcular o skew para entender onde está localizada a maior parte dos nossos outliers."
      ],
      "metadata": {
        "id": "WmIwrEVxSVrh"
      }
    },
    {
      "cell_type": "code",
      "source": [
        "# Importando o skew\n",
        "from scipy.stats import skew\n",
        "\n",
        "# Verificando assimetria\n",
        "skew(df['SalePrice'])"
      ],
      "metadata": {
        "colab": {
          "base_uri": "https://localhost:8080/"
        },
        "id": "3QiZuuHRPjaN",
        "outputId": "a4413b22-232a-4066-c05a-30982faa391e"
      },
      "execution_count": 77,
      "outputs": [
        {
          "output_type": "execute_result",
          "data": {
            "text/plain": [
              "1.880940746034036"
            ]
          },
          "metadata": {},
          "execution_count": 77
        }
      ]
    },
    {
      "cell_type": "markdown",
      "source": [
        "O skew está maior que um, logo não pode ser considerado normal e está positivo, indicando assim que a nossa assimetria é positiva e essa assimetria é para a direita."
      ],
      "metadata": {
        "id": "ICktRCsOSvRb"
      }
    },
    {
      "cell_type": "markdown",
      "source": [
        "## **Regressão**"
      ],
      "metadata": {
        "id": "HLwz5FrSSZjN"
      }
    },
    {
      "cell_type": "markdown",
      "source": [
        "Nosso intuito nesta etapa é aplicar a regressão linear para prever os preços das casas, entender os coeficientes e identificar quais são as variáveis mais importantes para a previsão."
      ],
      "metadata": {
        "id": "j68GyAldTMJN"
      }
    },
    {
      "cell_type": "markdown",
      "source": [
        "Como já fizemos previamente uma análise geral em nossos dados, vamos prosseguir para as seguintes etapas."
      ],
      "metadata": {
        "id": "LXaOIo5DTeKM"
      }
    },
    {
      "cell_type": "markdown",
      "source": [
        "### **Preparando os dados**"
      ],
      "metadata": {
        "id": "pn46y-i3Tnwm"
      }
    },
    {
      "cell_type": "markdown",
      "source": [
        "Antes de começarmos, vamos importar mais uma vez todas as bibliotecas necessárias."
      ],
      "metadata": {
        "id": "SQ7cZaONdRZ8"
      }
    },
    {
      "cell_type": "code",
      "source": [
        "# Funções matemáticas\n",
        "import numpy as np\n",
        "\n",
        "# Manipulação de dados\n",
        "import pandas as pd\n",
        "\n",
        "# Visualização de dados\n",
        "import matplotlib.pyplot as plt\n",
        "import seaborn as sns\n",
        "\n",
        "# Funções estatísticas\n",
        "from statsmodels.formula.api import ols\n",
        "from statsmodels.stats.diagnostic import het_breuschpagan\n",
        "from statsmodels.stats.stattools import durbin_watson\n",
        "from scipy.stats import shapiro\n",
        "import scipy.stats as stats\n",
        "import statsmodels.api as sm\n",
        "import statsmodels.formula.api as smf"
      ],
      "metadata": {
        "id": "_jyIthnJdUri"
      },
      "execution_count": 78,
      "outputs": []
    },
    {
      "cell_type": "markdown",
      "source": [
        "Vamos observar se existe algum valor ausente nas nossas variáveis."
      ],
      "metadata": {
        "id": "GETCD6EjTrgk"
      }
    },
    {
      "cell_type": "code",
      "source": [
        "# Observando valores ausentes\n",
        "df.isnull().sum()"
      ],
      "metadata": {
        "colab": {
          "base_uri": "https://localhost:8080/"
        },
        "id": "i8gYRBz0Trq1",
        "outputId": "fc383f4e-6883-44d4-f52c-179343d1dabe"
      },
      "execution_count": 79,
      "outputs": [
        {
          "output_type": "execute_result",
          "data": {
            "text/plain": [
              "Unnamed: 0         0\n",
              "SalePrice          0\n",
              "OverallQual        0\n",
              "OverallCond        0\n",
              "BedroomAbvGr       0\n",
              "TotRmsAbvGrd       0\n",
              "GrLivArea          0\n",
              "TotalBsmtSF        0\n",
              "YearBuilt          0\n",
              "MSZoning           0\n",
              "Utilities          0\n",
              "BldgType           0\n",
              "categoria_preco    0\n",
              "dtype: int64"
            ]
          },
          "metadata": {},
          "execution_count": 79
        }
      ]
    },
    {
      "cell_type": "markdown",
      "source": [
        "Não existem valores ausentes dito isso vamos seguir.\n"
      ],
      "metadata": {
        "id": "JnpHnZi7Up7t"
      }
    },
    {
      "cell_type": "markdown",
      "source": [
        "Agora vamos criar um DataFrame cópia para realizarmos as mudanças necessárias, tais como:\n",
        "\n",
        "- Exclusão da coluna 'Unnamed: 0'.\n",
        "- Vamos criar variáveis dummy para ajustar os valores de 'MSZoning', 'Utilities' e 'BldgType'."
      ],
      "metadata": {
        "id": "i50NZ3UiVHWj"
      }
    },
    {
      "cell_type": "code",
      "source": [
        "# Criando uma cópia do nosso DF\n",
        "df_copy = df.copy()\n",
        "\n",
        "# Exibindo os dados\n",
        "df_copy.head()"
      ],
      "metadata": {
        "colab": {
          "base_uri": "https://localhost:8080/",
          "height": 0
        },
        "id": "XmV9uIZNVs-t",
        "outputId": "22c99e5e-d525-4b49-8180-c7ed5425446c"
      },
      "execution_count": 80,
      "outputs": [
        {
          "output_type": "execute_result",
          "data": {
            "text/plain": [
              "   Unnamed: 0  SalePrice  OverallQual  OverallCond  BedroomAbvGr  \\\n",
              "0           0     208500            7            5             3   \n",
              "1           1     181500            6            8             3   \n",
              "2           2     223500            7            5             3   \n",
              "3           3     140000            7            5             3   \n",
              "4           4     250000            8            5             4   \n",
              "\n",
              "   TotRmsAbvGrd  GrLivArea  TotalBsmtSF  YearBuilt MSZoning Utilities  \\\n",
              "0             8       1710          856       2003       RL    AllPub   \n",
              "1             6       1262         1262       1976       RL    AllPub   \n",
              "2             6       1786          920       2001       RL    AllPub   \n",
              "3             7       1717          756       1915       RL    AllPub   \n",
              "4             9       2198         1145       2000       RL    AllPub   \n",
              "\n",
              "  BldgType categoria_preco  \n",
              "0     1Fam          barata  \n",
              "1     1Fam          barata  \n",
              "2     1Fam            cara  \n",
              "3     1Fam          barata  \n",
              "4     1Fam            cara  "
            ],
            "text/html": [
              "\n",
              "  <div id=\"df-f8462326-7534-44b8-8c27-8635369732ad\" class=\"colab-df-container\">\n",
              "    <div>\n",
              "<style scoped>\n",
              "    .dataframe tbody tr th:only-of-type {\n",
              "        vertical-align: middle;\n",
              "    }\n",
              "\n",
              "    .dataframe tbody tr th {\n",
              "        vertical-align: top;\n",
              "    }\n",
              "\n",
              "    .dataframe thead th {\n",
              "        text-align: right;\n",
              "    }\n",
              "</style>\n",
              "<table border=\"1\" class=\"dataframe\">\n",
              "  <thead>\n",
              "    <tr style=\"text-align: right;\">\n",
              "      <th></th>\n",
              "      <th>Unnamed: 0</th>\n",
              "      <th>SalePrice</th>\n",
              "      <th>OverallQual</th>\n",
              "      <th>OverallCond</th>\n",
              "      <th>BedroomAbvGr</th>\n",
              "      <th>TotRmsAbvGrd</th>\n",
              "      <th>GrLivArea</th>\n",
              "      <th>TotalBsmtSF</th>\n",
              "      <th>YearBuilt</th>\n",
              "      <th>MSZoning</th>\n",
              "      <th>Utilities</th>\n",
              "      <th>BldgType</th>\n",
              "      <th>categoria_preco</th>\n",
              "    </tr>\n",
              "  </thead>\n",
              "  <tbody>\n",
              "    <tr>\n",
              "      <th>0</th>\n",
              "      <td>0</td>\n",
              "      <td>208500</td>\n",
              "      <td>7</td>\n",
              "      <td>5</td>\n",
              "      <td>3</td>\n",
              "      <td>8</td>\n",
              "      <td>1710</td>\n",
              "      <td>856</td>\n",
              "      <td>2003</td>\n",
              "      <td>RL</td>\n",
              "      <td>AllPub</td>\n",
              "      <td>1Fam</td>\n",
              "      <td>barata</td>\n",
              "    </tr>\n",
              "    <tr>\n",
              "      <th>1</th>\n",
              "      <td>1</td>\n",
              "      <td>181500</td>\n",
              "      <td>6</td>\n",
              "      <td>8</td>\n",
              "      <td>3</td>\n",
              "      <td>6</td>\n",
              "      <td>1262</td>\n",
              "      <td>1262</td>\n",
              "      <td>1976</td>\n",
              "      <td>RL</td>\n",
              "      <td>AllPub</td>\n",
              "      <td>1Fam</td>\n",
              "      <td>barata</td>\n",
              "    </tr>\n",
              "    <tr>\n",
              "      <th>2</th>\n",
              "      <td>2</td>\n",
              "      <td>223500</td>\n",
              "      <td>7</td>\n",
              "      <td>5</td>\n",
              "      <td>3</td>\n",
              "      <td>6</td>\n",
              "      <td>1786</td>\n",
              "      <td>920</td>\n",
              "      <td>2001</td>\n",
              "      <td>RL</td>\n",
              "      <td>AllPub</td>\n",
              "      <td>1Fam</td>\n",
              "      <td>cara</td>\n",
              "    </tr>\n",
              "    <tr>\n",
              "      <th>3</th>\n",
              "      <td>3</td>\n",
              "      <td>140000</td>\n",
              "      <td>7</td>\n",
              "      <td>5</td>\n",
              "      <td>3</td>\n",
              "      <td>7</td>\n",
              "      <td>1717</td>\n",
              "      <td>756</td>\n",
              "      <td>1915</td>\n",
              "      <td>RL</td>\n",
              "      <td>AllPub</td>\n",
              "      <td>1Fam</td>\n",
              "      <td>barata</td>\n",
              "    </tr>\n",
              "    <tr>\n",
              "      <th>4</th>\n",
              "      <td>4</td>\n",
              "      <td>250000</td>\n",
              "      <td>8</td>\n",
              "      <td>5</td>\n",
              "      <td>4</td>\n",
              "      <td>9</td>\n",
              "      <td>2198</td>\n",
              "      <td>1145</td>\n",
              "      <td>2000</td>\n",
              "      <td>RL</td>\n",
              "      <td>AllPub</td>\n",
              "      <td>1Fam</td>\n",
              "      <td>cara</td>\n",
              "    </tr>\n",
              "  </tbody>\n",
              "</table>\n",
              "</div>\n",
              "    <div class=\"colab-df-buttons\">\n",
              "\n",
              "  <div class=\"colab-df-container\">\n",
              "    <button class=\"colab-df-convert\" onclick=\"convertToInteractive('df-f8462326-7534-44b8-8c27-8635369732ad')\"\n",
              "            title=\"Convert this dataframe to an interactive table.\"\n",
              "            style=\"display:none;\">\n",
              "\n",
              "  <svg xmlns=\"http://www.w3.org/2000/svg\" height=\"24px\" viewBox=\"0 -960 960 960\">\n",
              "    <path d=\"M120-120v-720h720v720H120Zm60-500h600v-160H180v160Zm220 220h160v-160H400v160Zm0 220h160v-160H400v160ZM180-400h160v-160H180v160Zm440 0h160v-160H620v160ZM180-180h160v-160H180v160Zm440 0h160v-160H620v160Z\"/>\n",
              "  </svg>\n",
              "    </button>\n",
              "\n",
              "  <style>\n",
              "    .colab-df-container {\n",
              "      display:flex;\n",
              "      gap: 12px;\n",
              "    }\n",
              "\n",
              "    .colab-df-convert {\n",
              "      background-color: #E8F0FE;\n",
              "      border: none;\n",
              "      border-radius: 50%;\n",
              "      cursor: pointer;\n",
              "      display: none;\n",
              "      fill: #1967D2;\n",
              "      height: 32px;\n",
              "      padding: 0 0 0 0;\n",
              "      width: 32px;\n",
              "    }\n",
              "\n",
              "    .colab-df-convert:hover {\n",
              "      background-color: #E2EBFA;\n",
              "      box-shadow: 0px 1px 2px rgba(60, 64, 67, 0.3), 0px 1px 3px 1px rgba(60, 64, 67, 0.15);\n",
              "      fill: #174EA6;\n",
              "    }\n",
              "\n",
              "    .colab-df-buttons div {\n",
              "      margin-bottom: 4px;\n",
              "    }\n",
              "\n",
              "    [theme=dark] .colab-df-convert {\n",
              "      background-color: #3B4455;\n",
              "      fill: #D2E3FC;\n",
              "    }\n",
              "\n",
              "    [theme=dark] .colab-df-convert:hover {\n",
              "      background-color: #434B5C;\n",
              "      box-shadow: 0px 1px 3px 1px rgba(0, 0, 0, 0.15);\n",
              "      filter: drop-shadow(0px 1px 2px rgba(0, 0, 0, 0.3));\n",
              "      fill: #FFFFFF;\n",
              "    }\n",
              "  </style>\n",
              "\n",
              "    <script>\n",
              "      const buttonEl =\n",
              "        document.querySelector('#df-f8462326-7534-44b8-8c27-8635369732ad button.colab-df-convert');\n",
              "      buttonEl.style.display =\n",
              "        google.colab.kernel.accessAllowed ? 'block' : 'none';\n",
              "\n",
              "      async function convertToInteractive(key) {\n",
              "        const element = document.querySelector('#df-f8462326-7534-44b8-8c27-8635369732ad');\n",
              "        const dataTable =\n",
              "          await google.colab.kernel.invokeFunction('convertToInteractive',\n",
              "                                                    [key], {});\n",
              "        if (!dataTable) return;\n",
              "\n",
              "        const docLinkHtml = 'Like what you see? Visit the ' +\n",
              "          '<a target=\"_blank\" href=https://colab.research.google.com/notebooks/data_table.ipynb>data table notebook</a>'\n",
              "          + ' to learn more about interactive tables.';\n",
              "        element.innerHTML = '';\n",
              "        dataTable['output_type'] = 'display_data';\n",
              "        await google.colab.output.renderOutput(dataTable, element);\n",
              "        const docLink = document.createElement('div');\n",
              "        docLink.innerHTML = docLinkHtml;\n",
              "        element.appendChild(docLink);\n",
              "      }\n",
              "    </script>\n",
              "  </div>\n",
              "\n",
              "\n",
              "<div id=\"df-e6ce6a9c-7042-4f2c-b4c5-0d241644cbe6\">\n",
              "  <button class=\"colab-df-quickchart\" onclick=\"quickchart('df-e6ce6a9c-7042-4f2c-b4c5-0d241644cbe6')\"\n",
              "            title=\"Suggest charts\"\n",
              "            style=\"display:none;\">\n",
              "\n",
              "<svg xmlns=\"http://www.w3.org/2000/svg\" height=\"24px\"viewBox=\"0 0 24 24\"\n",
              "     width=\"24px\">\n",
              "    <g>\n",
              "        <path d=\"M19 3H5c-1.1 0-2 .9-2 2v14c0 1.1.9 2 2 2h14c1.1 0 2-.9 2-2V5c0-1.1-.9-2-2-2zM9 17H7v-7h2v7zm4 0h-2V7h2v10zm4 0h-2v-4h2v4z\"/>\n",
              "    </g>\n",
              "</svg>\n",
              "  </button>\n",
              "\n",
              "<style>\n",
              "  .colab-df-quickchart {\n",
              "      --bg-color: #E8F0FE;\n",
              "      --fill-color: #1967D2;\n",
              "      --hover-bg-color: #E2EBFA;\n",
              "      --hover-fill-color: #174EA6;\n",
              "      --disabled-fill-color: #AAA;\n",
              "      --disabled-bg-color: #DDD;\n",
              "  }\n",
              "\n",
              "  [theme=dark] .colab-df-quickchart {\n",
              "      --bg-color: #3B4455;\n",
              "      --fill-color: #D2E3FC;\n",
              "      --hover-bg-color: #434B5C;\n",
              "      --hover-fill-color: #FFFFFF;\n",
              "      --disabled-bg-color: #3B4455;\n",
              "      --disabled-fill-color: #666;\n",
              "  }\n",
              "\n",
              "  .colab-df-quickchart {\n",
              "    background-color: var(--bg-color);\n",
              "    border: none;\n",
              "    border-radius: 50%;\n",
              "    cursor: pointer;\n",
              "    display: none;\n",
              "    fill: var(--fill-color);\n",
              "    height: 32px;\n",
              "    padding: 0;\n",
              "    width: 32px;\n",
              "  }\n",
              "\n",
              "  .colab-df-quickchart:hover {\n",
              "    background-color: var(--hover-bg-color);\n",
              "    box-shadow: 0 1px 2px rgba(60, 64, 67, 0.3), 0 1px 3px 1px rgba(60, 64, 67, 0.15);\n",
              "    fill: var(--button-hover-fill-color);\n",
              "  }\n",
              "\n",
              "  .colab-df-quickchart-complete:disabled,\n",
              "  .colab-df-quickchart-complete:disabled:hover {\n",
              "    background-color: var(--disabled-bg-color);\n",
              "    fill: var(--disabled-fill-color);\n",
              "    box-shadow: none;\n",
              "  }\n",
              "\n",
              "  .colab-df-spinner {\n",
              "    border: 2px solid var(--fill-color);\n",
              "    border-color: transparent;\n",
              "    border-bottom-color: var(--fill-color);\n",
              "    animation:\n",
              "      spin 1s steps(1) infinite;\n",
              "  }\n",
              "\n",
              "  @keyframes spin {\n",
              "    0% {\n",
              "      border-color: transparent;\n",
              "      border-bottom-color: var(--fill-color);\n",
              "      border-left-color: var(--fill-color);\n",
              "    }\n",
              "    20% {\n",
              "      border-color: transparent;\n",
              "      border-left-color: var(--fill-color);\n",
              "      border-top-color: var(--fill-color);\n",
              "    }\n",
              "    30% {\n",
              "      border-color: transparent;\n",
              "      border-left-color: var(--fill-color);\n",
              "      border-top-color: var(--fill-color);\n",
              "      border-right-color: var(--fill-color);\n",
              "    }\n",
              "    40% {\n",
              "      border-color: transparent;\n",
              "      border-right-color: var(--fill-color);\n",
              "      border-top-color: var(--fill-color);\n",
              "    }\n",
              "    60% {\n",
              "      border-color: transparent;\n",
              "      border-right-color: var(--fill-color);\n",
              "    }\n",
              "    80% {\n",
              "      border-color: transparent;\n",
              "      border-right-color: var(--fill-color);\n",
              "      border-bottom-color: var(--fill-color);\n",
              "    }\n",
              "    90% {\n",
              "      border-color: transparent;\n",
              "      border-bottom-color: var(--fill-color);\n",
              "    }\n",
              "  }\n",
              "</style>\n",
              "\n",
              "  <script>\n",
              "    async function quickchart(key) {\n",
              "      const quickchartButtonEl =\n",
              "        document.querySelector('#' + key + ' button');\n",
              "      quickchartButtonEl.disabled = true;  // To prevent multiple clicks.\n",
              "      quickchartButtonEl.classList.add('colab-df-spinner');\n",
              "      try {\n",
              "        const charts = await google.colab.kernel.invokeFunction(\n",
              "            'suggestCharts', [key], {});\n",
              "      } catch (error) {\n",
              "        console.error('Error during call to suggestCharts:', error);\n",
              "      }\n",
              "      quickchartButtonEl.classList.remove('colab-df-spinner');\n",
              "      quickchartButtonEl.classList.add('colab-df-quickchart-complete');\n",
              "    }\n",
              "    (() => {\n",
              "      let quickchartButtonEl =\n",
              "        document.querySelector('#df-e6ce6a9c-7042-4f2c-b4c5-0d241644cbe6 button');\n",
              "      quickchartButtonEl.style.display =\n",
              "        google.colab.kernel.accessAllowed ? 'block' : 'none';\n",
              "    })();\n",
              "  </script>\n",
              "</div>\n",
              "\n",
              "    </div>\n",
              "  </div>\n"
            ],
            "application/vnd.google.colaboratory.intrinsic+json": {
              "type": "dataframe",
              "variable_name": "df_copy",
              "summary": "{\n  \"name\": \"df_copy\",\n  \"rows\": 1460,\n  \"fields\": [\n    {\n      \"column\": \"Unnamed: 0\",\n      \"properties\": {\n        \"dtype\": \"number\",\n        \"std\": 421,\n        \"min\": 0,\n        \"max\": 1459,\n        \"num_unique_values\": 1460,\n        \"samples\": [\n          892,\n          1105,\n          413\n        ],\n        \"semantic_type\": \"\",\n        \"description\": \"\"\n      }\n    },\n    {\n      \"column\": \"SalePrice\",\n      \"properties\": {\n        \"dtype\": \"number\",\n        \"std\": 79442,\n        \"min\": 34900,\n        \"max\": 755000,\n        \"num_unique_values\": 663,\n        \"samples\": [\n          91300,\n          174500,\n          150900\n        ],\n        \"semantic_type\": \"\",\n        \"description\": \"\"\n      }\n    },\n    {\n      \"column\": \"OverallQual\",\n      \"properties\": {\n        \"dtype\": \"number\",\n        \"std\": 1,\n        \"min\": 1,\n        \"max\": 10,\n        \"num_unique_values\": 10,\n        \"samples\": [\n          1,\n          6,\n          4\n        ],\n        \"semantic_type\": \"\",\n        \"description\": \"\"\n      }\n    },\n    {\n      \"column\": \"OverallCond\",\n      \"properties\": {\n        \"dtype\": \"number\",\n        \"std\": 1,\n        \"min\": 1,\n        \"max\": 9,\n        \"num_unique_values\": 9,\n        \"samples\": [\n          9,\n          8,\n          2\n        ],\n        \"semantic_type\": \"\",\n        \"description\": \"\"\n      }\n    },\n    {\n      \"column\": \"BedroomAbvGr\",\n      \"properties\": {\n        \"dtype\": \"number\",\n        \"std\": 0,\n        \"min\": 0,\n        \"max\": 8,\n        \"num_unique_values\": 8,\n        \"samples\": [\n          4,\n          5,\n          3\n        ],\n        \"semantic_type\": \"\",\n        \"description\": \"\"\n      }\n    },\n    {\n      \"column\": \"TotRmsAbvGrd\",\n      \"properties\": {\n        \"dtype\": \"number\",\n        \"std\": 1,\n        \"min\": 2,\n        \"max\": 14,\n        \"num_unique_values\": 12,\n        \"samples\": [\n          2,\n          3,\n          8\n        ],\n        \"semantic_type\": \"\",\n        \"description\": \"\"\n      }\n    },\n    {\n      \"column\": \"GrLivArea\",\n      \"properties\": {\n        \"dtype\": \"number\",\n        \"std\": 525,\n        \"min\": 334,\n        \"max\": 5642,\n        \"num_unique_values\": 861,\n        \"samples\": [\n          1459,\n          1775,\n          840\n        ],\n        \"semantic_type\": \"\",\n        \"description\": \"\"\n      }\n    },\n    {\n      \"column\": \"TotalBsmtSF\",\n      \"properties\": {\n        \"dtype\": \"number\",\n        \"std\": 438,\n        \"min\": 0,\n        \"max\": 6110,\n        \"num_unique_values\": 721,\n        \"samples\": [\n          1536,\n          1192,\n          684\n        ],\n        \"semantic_type\": \"\",\n        \"description\": \"\"\n      }\n    },\n    {\n      \"column\": \"YearBuilt\",\n      \"properties\": {\n        \"dtype\": \"number\",\n        \"std\": 30,\n        \"min\": 1872,\n        \"max\": 2010,\n        \"num_unique_values\": 112,\n        \"samples\": [\n          1999,\n          1936,\n          2000\n        ],\n        \"semantic_type\": \"\",\n        \"description\": \"\"\n      }\n    },\n    {\n      \"column\": \"MSZoning\",\n      \"properties\": {\n        \"dtype\": \"category\",\n        \"num_unique_values\": 5,\n        \"samples\": [\n          \"RM\",\n          \"RH\",\n          \"C (all)\"\n        ],\n        \"semantic_type\": \"\",\n        \"description\": \"\"\n      }\n    },\n    {\n      \"column\": \"Utilities\",\n      \"properties\": {\n        \"dtype\": \"category\",\n        \"num_unique_values\": 2,\n        \"samples\": [\n          \"NoSeWa\",\n          \"AllPub\"\n        ],\n        \"semantic_type\": \"\",\n        \"description\": \"\"\n      }\n    },\n    {\n      \"column\": \"BldgType\",\n      \"properties\": {\n        \"dtype\": \"category\",\n        \"num_unique_values\": 5,\n        \"samples\": [\n          \"2fmCon\",\n          \"Twnhs\"\n        ],\n        \"semantic_type\": \"\",\n        \"description\": \"\"\n      }\n    },\n    {\n      \"column\": \"categoria_preco\",\n      \"properties\": {\n        \"dtype\": \"category\",\n        \"num_unique_values\": 2,\n        \"samples\": [\n          \"cara\",\n          \"barata\"\n        ],\n        \"semantic_type\": \"\",\n        \"description\": \"\"\n      }\n    }\n  ]\n}"
            }
          },
          "metadata": {},
          "execution_count": 80
        }
      ]
    },
    {
      "cell_type": "markdown",
      "source": [
        "Agora que criamos o nosso DataFrame cópia, vamos seguir para o ajuste das variáveis, começando pela exclusão da variável que não iremos utilizar."
      ],
      "metadata": {
        "id": "2GzD92ECVtpt"
      }
    },
    {
      "cell_type": "code",
      "source": [
        "# Excluindo a coluna que não iremos utilizar\n",
        "df_copy = df_copy.drop('Unnamed: 0', axis = 1)"
      ],
      "metadata": {
        "id": "kkvdPOTsWD1d"
      },
      "execution_count": 81,
      "outputs": []
    },
    {
      "cell_type": "markdown",
      "source": [
        "Agora que realizamos as devidas exclusões, vamos proceder com a 'dummyficação'."
      ],
      "metadata": {
        "id": "57uOQ3xcWWgU"
      }
    },
    {
      "cell_type": "code",
      "source": [
        "# Criando as variáveis dummy e forçando o tipo para inteiros\n",
        "dummies_zoning = pd.get_dummies(df_copy['MSZoning'], drop_first=True, dtype=int).rename(columns=lambda x: 'Zoning_' + str(x))\n",
        "\n",
        "# Criando as variáveis dummy e forçando o tipo para inteiros\n",
        "dummies_utilities = pd.get_dummies(df_copy['Utilities'], drop_first=True, dtype=int).rename(columns=lambda x: 'Utilities_' + str(x))\n",
        "\n",
        "# Criando as variáveis dummy e forçando o tipo para inteiros\n",
        "dummies_type = pd.get_dummies(df_copy['BldgType'], drop_first=True, dtype=int).rename(columns=lambda x: 'Type_' + str(x))\n",
        "\n",
        "# Aplicando no df_copy\n",
        "df_copy = pd.concat([df_copy, dummies_zoning, dummies_utilities, dummies_type], axis=1)\n",
        "\n",
        "# Exibindo o valor\n",
        "df_copy.head()"
      ],
      "metadata": {
        "colab": {
          "base_uri": "https://localhost:8080/",
          "height": 0
        },
        "id": "bv_TSq5ZXS9f",
        "outputId": "e8f818a0-0857-42e2-ef62-04b4e49f2ad1"
      },
      "execution_count": 82,
      "outputs": [
        {
          "output_type": "execute_result",
          "data": {
            "text/plain": [
              "   SalePrice  OverallQual  OverallCond  BedroomAbvGr  TotRmsAbvGrd  GrLivArea  \\\n",
              "0     208500            7            5             3             8       1710   \n",
              "1     181500            6            8             3             6       1262   \n",
              "2     223500            7            5             3             6       1786   \n",
              "3     140000            7            5             3             7       1717   \n",
              "4     250000            8            5             4             9       2198   \n",
              "\n",
              "   TotalBsmtSF  YearBuilt MSZoning Utilities  ... categoria_preco Zoning_FV  \\\n",
              "0          856       2003       RL    AllPub  ...          barata         0   \n",
              "1         1262       1976       RL    AllPub  ...          barata         0   \n",
              "2          920       2001       RL    AllPub  ...            cara         0   \n",
              "3          756       1915       RL    AllPub  ...          barata         0   \n",
              "4         1145       2000       RL    AllPub  ...            cara         0   \n",
              "\n",
              "   Zoning_RH  Zoning_RL  Zoning_RM  Utilities_NoSeWa  Type_2fmCon  \\\n",
              "0          0          1          0                 0            0   \n",
              "1          0          1          0                 0            0   \n",
              "2          0          1          0                 0            0   \n",
              "3          0          1          0                 0            0   \n",
              "4          0          1          0                 0            0   \n",
              "\n",
              "   Type_Duplex  Type_Twnhs  Type_TwnhsE  \n",
              "0            0           0            0  \n",
              "1            0           0            0  \n",
              "2            0           0            0  \n",
              "3            0           0            0  \n",
              "4            0           0            0  \n",
              "\n",
              "[5 rows x 21 columns]"
            ],
            "text/html": [
              "\n",
              "  <div id=\"df-056ec1a4-5622-4c08-a975-a7c0b34443b3\" class=\"colab-df-container\">\n",
              "    <div>\n",
              "<style scoped>\n",
              "    .dataframe tbody tr th:only-of-type {\n",
              "        vertical-align: middle;\n",
              "    }\n",
              "\n",
              "    .dataframe tbody tr th {\n",
              "        vertical-align: top;\n",
              "    }\n",
              "\n",
              "    .dataframe thead th {\n",
              "        text-align: right;\n",
              "    }\n",
              "</style>\n",
              "<table border=\"1\" class=\"dataframe\">\n",
              "  <thead>\n",
              "    <tr style=\"text-align: right;\">\n",
              "      <th></th>\n",
              "      <th>SalePrice</th>\n",
              "      <th>OverallQual</th>\n",
              "      <th>OverallCond</th>\n",
              "      <th>BedroomAbvGr</th>\n",
              "      <th>TotRmsAbvGrd</th>\n",
              "      <th>GrLivArea</th>\n",
              "      <th>TotalBsmtSF</th>\n",
              "      <th>YearBuilt</th>\n",
              "      <th>MSZoning</th>\n",
              "      <th>Utilities</th>\n",
              "      <th>...</th>\n",
              "      <th>categoria_preco</th>\n",
              "      <th>Zoning_FV</th>\n",
              "      <th>Zoning_RH</th>\n",
              "      <th>Zoning_RL</th>\n",
              "      <th>Zoning_RM</th>\n",
              "      <th>Utilities_NoSeWa</th>\n",
              "      <th>Type_2fmCon</th>\n",
              "      <th>Type_Duplex</th>\n",
              "      <th>Type_Twnhs</th>\n",
              "      <th>Type_TwnhsE</th>\n",
              "    </tr>\n",
              "  </thead>\n",
              "  <tbody>\n",
              "    <tr>\n",
              "      <th>0</th>\n",
              "      <td>208500</td>\n",
              "      <td>7</td>\n",
              "      <td>5</td>\n",
              "      <td>3</td>\n",
              "      <td>8</td>\n",
              "      <td>1710</td>\n",
              "      <td>856</td>\n",
              "      <td>2003</td>\n",
              "      <td>RL</td>\n",
              "      <td>AllPub</td>\n",
              "      <td>...</td>\n",
              "      <td>barata</td>\n",
              "      <td>0</td>\n",
              "      <td>0</td>\n",
              "      <td>1</td>\n",
              "      <td>0</td>\n",
              "      <td>0</td>\n",
              "      <td>0</td>\n",
              "      <td>0</td>\n",
              "      <td>0</td>\n",
              "      <td>0</td>\n",
              "    </tr>\n",
              "    <tr>\n",
              "      <th>1</th>\n",
              "      <td>181500</td>\n",
              "      <td>6</td>\n",
              "      <td>8</td>\n",
              "      <td>3</td>\n",
              "      <td>6</td>\n",
              "      <td>1262</td>\n",
              "      <td>1262</td>\n",
              "      <td>1976</td>\n",
              "      <td>RL</td>\n",
              "      <td>AllPub</td>\n",
              "      <td>...</td>\n",
              "      <td>barata</td>\n",
              "      <td>0</td>\n",
              "      <td>0</td>\n",
              "      <td>1</td>\n",
              "      <td>0</td>\n",
              "      <td>0</td>\n",
              "      <td>0</td>\n",
              "      <td>0</td>\n",
              "      <td>0</td>\n",
              "      <td>0</td>\n",
              "    </tr>\n",
              "    <tr>\n",
              "      <th>2</th>\n",
              "      <td>223500</td>\n",
              "      <td>7</td>\n",
              "      <td>5</td>\n",
              "      <td>3</td>\n",
              "      <td>6</td>\n",
              "      <td>1786</td>\n",
              "      <td>920</td>\n",
              "      <td>2001</td>\n",
              "      <td>RL</td>\n",
              "      <td>AllPub</td>\n",
              "      <td>...</td>\n",
              "      <td>cara</td>\n",
              "      <td>0</td>\n",
              "      <td>0</td>\n",
              "      <td>1</td>\n",
              "      <td>0</td>\n",
              "      <td>0</td>\n",
              "      <td>0</td>\n",
              "      <td>0</td>\n",
              "      <td>0</td>\n",
              "      <td>0</td>\n",
              "    </tr>\n",
              "    <tr>\n",
              "      <th>3</th>\n",
              "      <td>140000</td>\n",
              "      <td>7</td>\n",
              "      <td>5</td>\n",
              "      <td>3</td>\n",
              "      <td>7</td>\n",
              "      <td>1717</td>\n",
              "      <td>756</td>\n",
              "      <td>1915</td>\n",
              "      <td>RL</td>\n",
              "      <td>AllPub</td>\n",
              "      <td>...</td>\n",
              "      <td>barata</td>\n",
              "      <td>0</td>\n",
              "      <td>0</td>\n",
              "      <td>1</td>\n",
              "      <td>0</td>\n",
              "      <td>0</td>\n",
              "      <td>0</td>\n",
              "      <td>0</td>\n",
              "      <td>0</td>\n",
              "      <td>0</td>\n",
              "    </tr>\n",
              "    <tr>\n",
              "      <th>4</th>\n",
              "      <td>250000</td>\n",
              "      <td>8</td>\n",
              "      <td>5</td>\n",
              "      <td>4</td>\n",
              "      <td>9</td>\n",
              "      <td>2198</td>\n",
              "      <td>1145</td>\n",
              "      <td>2000</td>\n",
              "      <td>RL</td>\n",
              "      <td>AllPub</td>\n",
              "      <td>...</td>\n",
              "      <td>cara</td>\n",
              "      <td>0</td>\n",
              "      <td>0</td>\n",
              "      <td>1</td>\n",
              "      <td>0</td>\n",
              "      <td>0</td>\n",
              "      <td>0</td>\n",
              "      <td>0</td>\n",
              "      <td>0</td>\n",
              "      <td>0</td>\n",
              "    </tr>\n",
              "  </tbody>\n",
              "</table>\n",
              "<p>5 rows × 21 columns</p>\n",
              "</div>\n",
              "    <div class=\"colab-df-buttons\">\n",
              "\n",
              "  <div class=\"colab-df-container\">\n",
              "    <button class=\"colab-df-convert\" onclick=\"convertToInteractive('df-056ec1a4-5622-4c08-a975-a7c0b34443b3')\"\n",
              "            title=\"Convert this dataframe to an interactive table.\"\n",
              "            style=\"display:none;\">\n",
              "\n",
              "  <svg xmlns=\"http://www.w3.org/2000/svg\" height=\"24px\" viewBox=\"0 -960 960 960\">\n",
              "    <path d=\"M120-120v-720h720v720H120Zm60-500h600v-160H180v160Zm220 220h160v-160H400v160Zm0 220h160v-160H400v160ZM180-400h160v-160H180v160Zm440 0h160v-160H620v160ZM180-180h160v-160H180v160Zm440 0h160v-160H620v160Z\"/>\n",
              "  </svg>\n",
              "    </button>\n",
              "\n",
              "  <style>\n",
              "    .colab-df-container {\n",
              "      display:flex;\n",
              "      gap: 12px;\n",
              "    }\n",
              "\n",
              "    .colab-df-convert {\n",
              "      background-color: #E8F0FE;\n",
              "      border: none;\n",
              "      border-radius: 50%;\n",
              "      cursor: pointer;\n",
              "      display: none;\n",
              "      fill: #1967D2;\n",
              "      height: 32px;\n",
              "      padding: 0 0 0 0;\n",
              "      width: 32px;\n",
              "    }\n",
              "\n",
              "    .colab-df-convert:hover {\n",
              "      background-color: #E2EBFA;\n",
              "      box-shadow: 0px 1px 2px rgba(60, 64, 67, 0.3), 0px 1px 3px 1px rgba(60, 64, 67, 0.15);\n",
              "      fill: #174EA6;\n",
              "    }\n",
              "\n",
              "    .colab-df-buttons div {\n",
              "      margin-bottom: 4px;\n",
              "    }\n",
              "\n",
              "    [theme=dark] .colab-df-convert {\n",
              "      background-color: #3B4455;\n",
              "      fill: #D2E3FC;\n",
              "    }\n",
              "\n",
              "    [theme=dark] .colab-df-convert:hover {\n",
              "      background-color: #434B5C;\n",
              "      box-shadow: 0px 1px 3px 1px rgba(0, 0, 0, 0.15);\n",
              "      filter: drop-shadow(0px 1px 2px rgba(0, 0, 0, 0.3));\n",
              "      fill: #FFFFFF;\n",
              "    }\n",
              "  </style>\n",
              "\n",
              "    <script>\n",
              "      const buttonEl =\n",
              "        document.querySelector('#df-056ec1a4-5622-4c08-a975-a7c0b34443b3 button.colab-df-convert');\n",
              "      buttonEl.style.display =\n",
              "        google.colab.kernel.accessAllowed ? 'block' : 'none';\n",
              "\n",
              "      async function convertToInteractive(key) {\n",
              "        const element = document.querySelector('#df-056ec1a4-5622-4c08-a975-a7c0b34443b3');\n",
              "        const dataTable =\n",
              "          await google.colab.kernel.invokeFunction('convertToInteractive',\n",
              "                                                    [key], {});\n",
              "        if (!dataTable) return;\n",
              "\n",
              "        const docLinkHtml = 'Like what you see? Visit the ' +\n",
              "          '<a target=\"_blank\" href=https://colab.research.google.com/notebooks/data_table.ipynb>data table notebook</a>'\n",
              "          + ' to learn more about interactive tables.';\n",
              "        element.innerHTML = '';\n",
              "        dataTable['output_type'] = 'display_data';\n",
              "        await google.colab.output.renderOutput(dataTable, element);\n",
              "        const docLink = document.createElement('div');\n",
              "        docLink.innerHTML = docLinkHtml;\n",
              "        element.appendChild(docLink);\n",
              "      }\n",
              "    </script>\n",
              "  </div>\n",
              "\n",
              "\n",
              "<div id=\"df-d77863fb-a394-41ae-a299-a1f9b5983cdb\">\n",
              "  <button class=\"colab-df-quickchart\" onclick=\"quickchart('df-d77863fb-a394-41ae-a299-a1f9b5983cdb')\"\n",
              "            title=\"Suggest charts\"\n",
              "            style=\"display:none;\">\n",
              "\n",
              "<svg xmlns=\"http://www.w3.org/2000/svg\" height=\"24px\"viewBox=\"0 0 24 24\"\n",
              "     width=\"24px\">\n",
              "    <g>\n",
              "        <path d=\"M19 3H5c-1.1 0-2 .9-2 2v14c0 1.1.9 2 2 2h14c1.1 0 2-.9 2-2V5c0-1.1-.9-2-2-2zM9 17H7v-7h2v7zm4 0h-2V7h2v10zm4 0h-2v-4h2v4z\"/>\n",
              "    </g>\n",
              "</svg>\n",
              "  </button>\n",
              "\n",
              "<style>\n",
              "  .colab-df-quickchart {\n",
              "      --bg-color: #E8F0FE;\n",
              "      --fill-color: #1967D2;\n",
              "      --hover-bg-color: #E2EBFA;\n",
              "      --hover-fill-color: #174EA6;\n",
              "      --disabled-fill-color: #AAA;\n",
              "      --disabled-bg-color: #DDD;\n",
              "  }\n",
              "\n",
              "  [theme=dark] .colab-df-quickchart {\n",
              "      --bg-color: #3B4455;\n",
              "      --fill-color: #D2E3FC;\n",
              "      --hover-bg-color: #434B5C;\n",
              "      --hover-fill-color: #FFFFFF;\n",
              "      --disabled-bg-color: #3B4455;\n",
              "      --disabled-fill-color: #666;\n",
              "  }\n",
              "\n",
              "  .colab-df-quickchart {\n",
              "    background-color: var(--bg-color);\n",
              "    border: none;\n",
              "    border-radius: 50%;\n",
              "    cursor: pointer;\n",
              "    display: none;\n",
              "    fill: var(--fill-color);\n",
              "    height: 32px;\n",
              "    padding: 0;\n",
              "    width: 32px;\n",
              "  }\n",
              "\n",
              "  .colab-df-quickchart:hover {\n",
              "    background-color: var(--hover-bg-color);\n",
              "    box-shadow: 0 1px 2px rgba(60, 64, 67, 0.3), 0 1px 3px 1px rgba(60, 64, 67, 0.15);\n",
              "    fill: var(--button-hover-fill-color);\n",
              "  }\n",
              "\n",
              "  .colab-df-quickchart-complete:disabled,\n",
              "  .colab-df-quickchart-complete:disabled:hover {\n",
              "    background-color: var(--disabled-bg-color);\n",
              "    fill: var(--disabled-fill-color);\n",
              "    box-shadow: none;\n",
              "  }\n",
              "\n",
              "  .colab-df-spinner {\n",
              "    border: 2px solid var(--fill-color);\n",
              "    border-color: transparent;\n",
              "    border-bottom-color: var(--fill-color);\n",
              "    animation:\n",
              "      spin 1s steps(1) infinite;\n",
              "  }\n",
              "\n",
              "  @keyframes spin {\n",
              "    0% {\n",
              "      border-color: transparent;\n",
              "      border-bottom-color: var(--fill-color);\n",
              "      border-left-color: var(--fill-color);\n",
              "    }\n",
              "    20% {\n",
              "      border-color: transparent;\n",
              "      border-left-color: var(--fill-color);\n",
              "      border-top-color: var(--fill-color);\n",
              "    }\n",
              "    30% {\n",
              "      border-color: transparent;\n",
              "      border-left-color: var(--fill-color);\n",
              "      border-top-color: var(--fill-color);\n",
              "      border-right-color: var(--fill-color);\n",
              "    }\n",
              "    40% {\n",
              "      border-color: transparent;\n",
              "      border-right-color: var(--fill-color);\n",
              "      border-top-color: var(--fill-color);\n",
              "    }\n",
              "    60% {\n",
              "      border-color: transparent;\n",
              "      border-right-color: var(--fill-color);\n",
              "    }\n",
              "    80% {\n",
              "      border-color: transparent;\n",
              "      border-right-color: var(--fill-color);\n",
              "      border-bottom-color: var(--fill-color);\n",
              "    }\n",
              "    90% {\n",
              "      border-color: transparent;\n",
              "      border-bottom-color: var(--fill-color);\n",
              "    }\n",
              "  }\n",
              "</style>\n",
              "\n",
              "  <script>\n",
              "    async function quickchart(key) {\n",
              "      const quickchartButtonEl =\n",
              "        document.querySelector('#' + key + ' button');\n",
              "      quickchartButtonEl.disabled = true;  // To prevent multiple clicks.\n",
              "      quickchartButtonEl.classList.add('colab-df-spinner');\n",
              "      try {\n",
              "        const charts = await google.colab.kernel.invokeFunction(\n",
              "            'suggestCharts', [key], {});\n",
              "      } catch (error) {\n",
              "        console.error('Error during call to suggestCharts:', error);\n",
              "      }\n",
              "      quickchartButtonEl.classList.remove('colab-df-spinner');\n",
              "      quickchartButtonEl.classList.add('colab-df-quickchart-complete');\n",
              "    }\n",
              "    (() => {\n",
              "      let quickchartButtonEl =\n",
              "        document.querySelector('#df-d77863fb-a394-41ae-a299-a1f9b5983cdb button');\n",
              "      quickchartButtonEl.style.display =\n",
              "        google.colab.kernel.accessAllowed ? 'block' : 'none';\n",
              "    })();\n",
              "  </script>\n",
              "</div>\n",
              "\n",
              "    </div>\n",
              "  </div>\n"
            ],
            "application/vnd.google.colaboratory.intrinsic+json": {
              "type": "dataframe",
              "variable_name": "df_copy"
            }
          },
          "metadata": {},
          "execution_count": 82
        }
      ]
    },
    {
      "cell_type": "markdown",
      "source": [
        "Agora que realizamos esses ajustes nas colunas, vamos observar a correlação entre as variáveis."
      ],
      "metadata": {
        "id": "bdb1HYdhXtkM"
      }
    },
    {
      "cell_type": "code",
      "source": [
        "# Calcular a correlação entre variáveis específicas\n",
        "correlacao = df_copy[['SalePrice', 'OverallQual', 'OverallCond', 'BedroomAbvGr', 'TotRmsAbvGrd', 'GrLivArea', 'TotalBsmtSF', 'YearBuilt']].corr()\n",
        "\n",
        "# Exibindo as correlações\n",
        "correlacao.head(1)"
      ],
      "metadata": {
        "colab": {
          "base_uri": "https://localhost:8080/",
          "height": 0
        },
        "id": "K09klBCvbPyV",
        "outputId": "b3e45ae1-def4-4a24-dc83-ee3326facd18"
      },
      "execution_count": 83,
      "outputs": [
        {
          "output_type": "execute_result",
          "data": {
            "text/plain": [
              "           SalePrice  OverallQual  OverallCond  BedroomAbvGr  TotRmsAbvGrd  \\\n",
              "SalePrice        1.0     0.790982    -0.077856      0.168213      0.533723   \n",
              "\n",
              "           GrLivArea  TotalBsmtSF  YearBuilt  \n",
              "SalePrice   0.708624     0.613581   0.522897  "
            ],
            "text/html": [
              "\n",
              "  <div id=\"df-486471ce-3d9c-49cd-9da1-c87da1c057d2\" class=\"colab-df-container\">\n",
              "    <div>\n",
              "<style scoped>\n",
              "    .dataframe tbody tr th:only-of-type {\n",
              "        vertical-align: middle;\n",
              "    }\n",
              "\n",
              "    .dataframe tbody tr th {\n",
              "        vertical-align: top;\n",
              "    }\n",
              "\n",
              "    .dataframe thead th {\n",
              "        text-align: right;\n",
              "    }\n",
              "</style>\n",
              "<table border=\"1\" class=\"dataframe\">\n",
              "  <thead>\n",
              "    <tr style=\"text-align: right;\">\n",
              "      <th></th>\n",
              "      <th>SalePrice</th>\n",
              "      <th>OverallQual</th>\n",
              "      <th>OverallCond</th>\n",
              "      <th>BedroomAbvGr</th>\n",
              "      <th>TotRmsAbvGrd</th>\n",
              "      <th>GrLivArea</th>\n",
              "      <th>TotalBsmtSF</th>\n",
              "      <th>YearBuilt</th>\n",
              "    </tr>\n",
              "  </thead>\n",
              "  <tbody>\n",
              "    <tr>\n",
              "      <th>SalePrice</th>\n",
              "      <td>1.0</td>\n",
              "      <td>0.790982</td>\n",
              "      <td>-0.077856</td>\n",
              "      <td>0.168213</td>\n",
              "      <td>0.533723</td>\n",
              "      <td>0.708624</td>\n",
              "      <td>0.613581</td>\n",
              "      <td>0.522897</td>\n",
              "    </tr>\n",
              "  </tbody>\n",
              "</table>\n",
              "</div>\n",
              "    <div class=\"colab-df-buttons\">\n",
              "\n",
              "  <div class=\"colab-df-container\">\n",
              "    <button class=\"colab-df-convert\" onclick=\"convertToInteractive('df-486471ce-3d9c-49cd-9da1-c87da1c057d2')\"\n",
              "            title=\"Convert this dataframe to an interactive table.\"\n",
              "            style=\"display:none;\">\n",
              "\n",
              "  <svg xmlns=\"http://www.w3.org/2000/svg\" height=\"24px\" viewBox=\"0 -960 960 960\">\n",
              "    <path d=\"M120-120v-720h720v720H120Zm60-500h600v-160H180v160Zm220 220h160v-160H400v160Zm0 220h160v-160H400v160ZM180-400h160v-160H180v160Zm440 0h160v-160H620v160ZM180-180h160v-160H180v160Zm440 0h160v-160H620v160Z\"/>\n",
              "  </svg>\n",
              "    </button>\n",
              "\n",
              "  <style>\n",
              "    .colab-df-container {\n",
              "      display:flex;\n",
              "      gap: 12px;\n",
              "    }\n",
              "\n",
              "    .colab-df-convert {\n",
              "      background-color: #E8F0FE;\n",
              "      border: none;\n",
              "      border-radius: 50%;\n",
              "      cursor: pointer;\n",
              "      display: none;\n",
              "      fill: #1967D2;\n",
              "      height: 32px;\n",
              "      padding: 0 0 0 0;\n",
              "      width: 32px;\n",
              "    }\n",
              "\n",
              "    .colab-df-convert:hover {\n",
              "      background-color: #E2EBFA;\n",
              "      box-shadow: 0px 1px 2px rgba(60, 64, 67, 0.3), 0px 1px 3px 1px rgba(60, 64, 67, 0.15);\n",
              "      fill: #174EA6;\n",
              "    }\n",
              "\n",
              "    .colab-df-buttons div {\n",
              "      margin-bottom: 4px;\n",
              "    }\n",
              "\n",
              "    [theme=dark] .colab-df-convert {\n",
              "      background-color: #3B4455;\n",
              "      fill: #D2E3FC;\n",
              "    }\n",
              "\n",
              "    [theme=dark] .colab-df-convert:hover {\n",
              "      background-color: #434B5C;\n",
              "      box-shadow: 0px 1px 3px 1px rgba(0, 0, 0, 0.15);\n",
              "      filter: drop-shadow(0px 1px 2px rgba(0, 0, 0, 0.3));\n",
              "      fill: #FFFFFF;\n",
              "    }\n",
              "  </style>\n",
              "\n",
              "    <script>\n",
              "      const buttonEl =\n",
              "        document.querySelector('#df-486471ce-3d9c-49cd-9da1-c87da1c057d2 button.colab-df-convert');\n",
              "      buttonEl.style.display =\n",
              "        google.colab.kernel.accessAllowed ? 'block' : 'none';\n",
              "\n",
              "      async function convertToInteractive(key) {\n",
              "        const element = document.querySelector('#df-486471ce-3d9c-49cd-9da1-c87da1c057d2');\n",
              "        const dataTable =\n",
              "          await google.colab.kernel.invokeFunction('convertToInteractive',\n",
              "                                                    [key], {});\n",
              "        if (!dataTable) return;\n",
              "\n",
              "        const docLinkHtml = 'Like what you see? Visit the ' +\n",
              "          '<a target=\"_blank\" href=https://colab.research.google.com/notebooks/data_table.ipynb>data table notebook</a>'\n",
              "          + ' to learn more about interactive tables.';\n",
              "        element.innerHTML = '';\n",
              "        dataTable['output_type'] = 'display_data';\n",
              "        await google.colab.output.renderOutput(dataTable, element);\n",
              "        const docLink = document.createElement('div');\n",
              "        docLink.innerHTML = docLinkHtml;\n",
              "        element.appendChild(docLink);\n",
              "      }\n",
              "    </script>\n",
              "  </div>\n",
              "\n",
              "\n",
              "    </div>\n",
              "  </div>\n"
            ],
            "application/vnd.google.colaboratory.intrinsic+json": {
              "type": "dataframe",
              "variable_name": "correlacao",
              "summary": "{\n  \"name\": \"correlacao\",\n  \"rows\": 8,\n  \"fields\": [\n    {\n      \"column\": \"SalePrice\",\n      \"properties\": {\n        \"dtype\": \"number\",\n        \"std\": 0.34398833090531805,\n        \"min\": -0.07785589404867796,\n        \"max\": 1.0,\n        \"num_unique_values\": 8,\n        \"samples\": [\n          0.7909816005838053,\n          0.7086244776126517,\n          1.0\n        ],\n        \"semantic_type\": \"\",\n        \"description\": \"\"\n      }\n    },\n    {\n      \"column\": \"OverallQual\",\n      \"properties\": {\n        \"dtype\": \"number\",\n        \"std\": 0.35126299672905376,\n        \"min\": -0.09193234263907182,\n        \"max\": 1.0,\n        \"num_unique_values\": 8,\n        \"samples\": [\n          1.0,\n          0.5930074300286512,\n          0.7909816005838053\n        ],\n        \"semantic_type\": \"\",\n        \"description\": \"\"\n      }\n    },\n    {\n      \"column\": \"OverallCond\",\n      \"properties\": {\n        \"dtype\": \"number\",\n        \"std\": 0.4126276612861632,\n        \"min\": -0.37598319560698945,\n        \"max\": 1.0,\n        \"num_unique_values\": 8,\n        \"samples\": [\n          -0.09193234263907182,\n          -0.07968586538833815,\n          -0.07785589404867796\n        ],\n        \"semantic_type\": \"\",\n        \"description\": \"\"\n      }\n    },\n    {\n      \"column\": \"BedroomAbvGr\",\n      \"properties\": {\n        \"dtype\": \"number\",\n        \"std\": 0.3815536664759864,\n        \"min\": -0.07065121690473096,\n        \"max\": 1.0,\n        \"num_unique_values\": 8,\n        \"samples\": [\n          0.1016763562417855,\n          0.5212695109189949,\n          0.1682131543007397\n        ],\n        \"semantic_type\": \"\",\n        \"description\": \"\"\n      }\n    },\n    {\n      \"column\": \"TotRmsAbvGrd\",\n      \"properties\": {\n        \"dtype\": \"number\",\n        \"std\": 0.3602154532187191,\n        \"min\": -0.057583166112865375,\n        \"max\": 1.0,\n        \"num_unique_values\": 8,\n        \"samples\": [\n          0.42745234327798975,\n          0.8254893743088426,\n          0.5337231555820284\n        ],\n        \"semantic_type\": \"\",\n        \"description\": \"\"\n      }\n    },\n    {\n      \"column\": \"GrLivArea\",\n      \"properties\": {\n        \"dtype\": \"number\",\n        \"std\": 0.344558749588681,\n        \"min\": -0.07968586538833815,\n        \"max\": 1.0,\n        \"num_unique_values\": 8,\n        \"samples\": [\n          0.5930074300286512,\n          1.0,\n          0.7086244776126517\n        ],\n        \"semantic_type\": \"\",\n        \"description\": \"\"\n      }\n    },\n    {\n      \"column\": \"TotalBsmtSF\",\n      \"properties\": {\n        \"dtype\": \"number\",\n        \"std\": 0.35636019907160027,\n        \"min\": -0.1710975146249218,\n        \"max\": 1.0,\n        \"num_unique_values\": 8,\n        \"samples\": [\n          0.5378084986123907,\n          0.4548682025479031,\n          0.6135805515591942\n        ],\n        \"semantic_type\": \"\",\n        \"description\": \"\"\n      }\n    },\n    {\n      \"column\": \"YearBuilt\",\n      \"properties\": {\n        \"dtype\": \"number\",\n        \"std\": 0.42560726028875323,\n        \"min\": -0.37598319560698945,\n        \"max\": 1.0,\n        \"num_unique_values\": 8,\n        \"samples\": [\n          0.5723227689623621,\n          0.19900971367645862,\n          0.522897332879497\n        ],\n        \"semantic_type\": \"\",\n        \"description\": \"\"\n      }\n    }\n  ]\n}"
            }
          },
          "metadata": {},
          "execution_count": 83
        }
      ]
    },
    {
      "cell_type": "markdown",
      "source": [
        "Dessa forma, podemos observar que as variáveis OverallQual, GrLivArea e TotalBsmtSF apresentaram uma correlação positiva forte, enquanto as variáveis YearBuilt e TotRmsAbvGrd apresentaram uma correlação positiva moderada. Por outro lado, a variável BedroomAbvGr apresentou uma correlação fraca, e OverallCond apresentou uma correlação negativa. Ao observar as correlações, poderemos selecionar quais variáveis independentes numéricas iremos utilizar no nosso modelo."
      ],
      "metadata": {
        "id": "HIcDObc5bgc8"
      }
    },
    {
      "cell_type": "markdown",
      "source": [
        "**Correlação das variáveis categóricas**"
      ],
      "metadata": {
        "id": "3Yfv69TBgWpD"
      }
    },
    {
      "cell_type": "markdown",
      "source": [
        "Como estamos diante de algumas variáveis categóricas, utilizaremos o coeficiente de correlação de ponto bisserial, que é uma medida estatística que quantifica a relação entre uma variável contínua e uma variável dicotômica (binária)."
      ],
      "metadata": {
        "id": "qYzUMZspgZOr"
      }
    },
    {
      "cell_type": "code",
      "source": [
        "# Calcular o coeficiente de correlação de ponto bisserial para cada coluna Zoning e OverallQual\n",
        "correlacoes = {}\n",
        "for coluna_zoning in ['Zoning_FV', 'Zoning_RH', 'Zoning_RL', 'Zoning_RM']:\n",
        "    correlacao, p_valor = stats.pointbiserialr(df_copy[coluna_zoning], df_copy['OverallQual'])\n",
        "    correlacoes[coluna_zoning] = correlacao\n",
        "\n",
        "# Exibir as correlações\n",
        "for coluna, correlacao in correlacoes.items():\n",
        "    print(f\"Correlação entre {coluna} e OverallQual: {correlacao}\")"
      ],
      "metadata": {
        "colab": {
          "base_uri": "https://localhost:8080/"
        },
        "id": "C0IVByVje6LC",
        "outputId": "a3567dc3-15f2-44fd-ad1a-ce7f1d2effdd"
      },
      "execution_count": 84,
      "outputs": [
        {
          "output_type": "stream",
          "name": "stdout",
          "text": [
            "Correlação entre Zoning_FV e OverallQual: 0.1718542519455125\n",
            "Correlação entre Zoning_RH e OverallQual: -0.06466554026206718\n",
            "Correlação entre Zoning_RL e OverallQual: 0.12697235223075007\n",
            "Correlação entre Zoning_RM e OverallQual: -0.19551518486767883\n"
          ]
        }
      ]
    },
    {
      "cell_type": "code",
      "source": [
        "from scipy import stats\n",
        "\n",
        "# Calcular o coeficiente de correlação de ponto bisserial para cada coluna Type e OverallQual\n",
        "correlacoes = {}\n",
        "for coluna_type in ['Type_2fmCon', 'Type_Duplex', 'Type_Twnhs', 'Type_TwnhsE']:\n",
        "    correlacao, p_valor = stats.pointbiserialr(df_copy[coluna_type], df_copy['OverallQual'])\n",
        "    correlacoes[coluna_type] = correlacao\n",
        "\n",
        "# Exibir as correlações\n",
        "for coluna, correlacao in correlacoes.items():\n",
        "    print(f\"Correlação entre {coluna} e OverallQual: {correlacao}\")"
      ],
      "metadata": {
        "colab": {
          "base_uri": "https://localhost:8080/"
        },
        "id": "zbA68Tbrfgnr",
        "outputId": "0ff9f206-f31d-42f0-aca8-fc106a3dd221"
      },
      "execution_count": 85,
      "outputs": [
        {
          "output_type": "stream",
          "name": "stdout",
          "text": [
            "Correlação entre Type_2fmCon e OverallQual: -0.12398878761884097\n",
            "Correlação entre Type_Duplex e OverallQual: -0.15815576637058804\n",
            "Correlação entre Type_Twnhs e OverallQual: -0.003723056195691168\n",
            "Correlação entre Type_TwnhsE e OverallQual: 0.12866159155057064\n"
          ]
        }
      ]
    },
    {
      "cell_type": "code",
      "source": [
        "# Calcular o coeficiente de correlação de ponto bisserial da coluna Utilities e OverallQual\n",
        "correlacao_utilities, p_valor_utilities = stats.pointbiserialr(df_copy['Utilities_NoSeWa'], df_copy['OverallQual'])\n",
        "\n",
        "# Exibindo o ponto bisserial\n",
        "correlacao_utilities"
      ],
      "metadata": {
        "colab": {
          "base_uri": "https://localhost:8080/"
        },
        "id": "Jh34WoqgfyF7",
        "outputId": "7e7f71f3-9153-46bc-8f9f-1cad96823063"
      },
      "execution_count": 86,
      "outputs": [
        {
          "output_type": "execute_result",
          "data": {
            "text/plain": [
              "-0.0018806812153168838"
            ]
          },
          "metadata": {},
          "execution_count": 86
        }
      ]
    },
    {
      "cell_type": "markdown",
      "source": [
        "Dessa forma, podemos observar que todas as nossas variáveis categóricas apresentam uma correlação fraca ou muito fraca com a nossa variável dependente. Dito isso, vamos seguir adiante."
      ],
      "metadata": {
        "id": "cvKh0JSTg-zy"
      }
    },
    {
      "cell_type": "markdown",
      "source": [
        "### **Divisão dos dados**"
      ],
      "metadata": {
        "id": "Q6CbTaR-X8tM"
      }
    },
    {
      "cell_type": "markdown",
      "source": [
        "Inicialmente, vamos dividir nossos dados utilizando apenas as variáveis que apresentaram uma maior correlação."
      ],
      "metadata": {
        "id": "ZstsO5v-YLVs"
      }
    },
    {
      "cell_type": "code",
      "source": [
        "# Variáveis independentes\n",
        "X = df_copy[['OverallQual', 'GrLivArea', 'TotalBsmtSF', 'TotRmsAbvGrd', 'YearBuilt']]\n",
        "\n",
        "# Variável dependete\n",
        "y = df_copy['SalePrice']"
      ],
      "metadata": {
        "id": "XnLfH3NBUK4l"
      },
      "execution_count": 87,
      "outputs": []
    },
    {
      "cell_type": "markdown",
      "source": [
        "Com os dados devidamente separados, podemos seguir em frente para os pressupostos da regressão."
      ],
      "metadata": {
        "id": "l0BzTXUPctCm"
      }
    },
    {
      "cell_type": "markdown",
      "source": [
        "### **Pressupostos para aplicar a regressão**"
      ],
      "metadata": {
        "id": "oZUU7qz3cu20"
      }
    },
    {
      "cell_type": "markdown",
      "source": [
        "#### **Linearidade**"
      ],
      "metadata": {
        "id": "o2bbCU7pc3k6"
      }
    },
    {
      "cell_type": "markdown",
      "source": [
        "Já observamos a linearidade das variáveis numéricas anteriormente. A função que utilizamos para exibir a correlação nos retornou o nosso Pearson, mas vamos calcular os valores de outra forma."
      ],
      "metadata": {
        "id": "x-4g_y-Nc5dq"
      }
    },
    {
      "cell_type": "code",
      "source": [
        "# Calculando a correlação entre as variáveis\n",
        "correlacao_overall, p_valor_overall = stats.pearsonr(df_copy['OverallQual'], df_copy['SalePrice'])\n",
        "correlacao_grliv, p_valor_grliv = stats.pearsonr(df_copy['GrLivArea'], df_copy['SalePrice'])\n",
        "correlacao_bsmt, p_valor_bsmt = stats.pearsonr(df_copy['TotalBsmtSF'], df_copy['SalePrice'])\n",
        "correlacao_rms, p_valor_rms = stats.pearsonr(df_copy['TotRmsAbvGrd'], df_copy['SalePrice'])\n",
        "correlacao_year, p_valor_year = stats.pearsonr(df_copy['YearBuilt'], df_copy['SalePrice'])\n",
        "correlacao_overcond, p_valor_overcond = stats.pearsonr(df_copy['OverallCond'], df_copy['SalePrice'])\n",
        "\n",
        "# Imprimindo as correlações\n",
        "print(\"Correlação entre OverallQual e SalePrice:\", correlacao_overall)\n",
        "print(\"Correlação entre GrLivArea e SalePrice:\", correlacao_grliv)\n",
        "print(\"Correlação entre TotalBsmtSF e SalePrice:\", correlacao_bsmt)\n",
        "print(\"Correlação entre TotRmsAbvGrd e SalePrice:\", correlacao_rms)\n",
        "print(\"Correlação entre YearBuilt e SalePrice:\", correlacao_year)\n",
        "print(\"Correlação entre OverallCond e SalePrice:\", correlacao_overcond)"
      ],
      "metadata": {
        "colab": {
          "base_uri": "https://localhost:8080/"
        },
        "id": "pKs0EQkM1CqA",
        "outputId": "e3363bc0-3edc-4e69-e1d2-e5a216837e67"
      },
      "execution_count": 88,
      "outputs": [
        {
          "output_type": "stream",
          "name": "stdout",
          "text": [
            "Correlação entre OverallQual e SalePrice: 0.790981600583805\n",
            "Correlação entre GrLivArea e SalePrice: 0.7086244776126522\n",
            "Correlação entre TotalBsmtSF e SalePrice: 0.6135805515591953\n",
            "Correlação entre TotRmsAbvGrd e SalePrice: 0.5337231555820281\n",
            "Correlação entre YearBuilt e SalePrice: 0.5228973328794969\n",
            "Correlação entre OverallCond e SalePrice: -0.07785589404867801\n"
          ]
        }
      ]
    },
    {
      "cell_type": "markdown",
      "source": [
        "Alguns pontos importantes:\n",
        "\n",
        "- A variável OverallQual apresenta a maior correlação, sendo uma correlação forte e positiva, seguida pela variável GrLivArea, que também apresenta uma forte correlação positiva. Embora a variável TotalBsmtSF apresente uma correlação mais fraca que as duas citadas anteriormente, ainda assim ela apresenta uma correlação forte e positiva.\n",
        "\n",
        "- A variável TotRmsAbvGrd apresenta uma correlação positiva média, o mesmo aplicando-se para a variável YearBuilt.\n",
        "\n",
        "- A variável OverallCond apresenta uma correlação negativa muito fraca.\n",
        "\n",
        "Utilizando essa forma de cálculo, além de podermos observar novamente a correlação entre as variáveis, conseguimos calcular também o p-valor que iremos utilizar em breve."
      ],
      "metadata": {
        "id": "k8n6xz4O3CXQ"
      }
    }
  ]
}