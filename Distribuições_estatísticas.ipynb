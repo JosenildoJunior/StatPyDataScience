{
  "nbformat": 4,
  "nbformat_minor": 0,
  "metadata": {
    "colab": {
      "provenance": [],
      "collapsed_sections": [
        "y9VxKjYI3Ng4",
        "LkRwIP6uBInH"
      ],
      "authorship_tag": "ABX9TyNZqJrJTbrMBW2gcalHtiie",
      "include_colab_link": true
    },
    "kernelspec": {
      "name": "python3",
      "display_name": "Python 3"
    },
    "language_info": {
      "name": "python"
    }
  },
  "cells": [
    {
      "cell_type": "markdown",
      "metadata": {
        "id": "view-in-github",
        "colab_type": "text"
      },
      "source": [
        "<a href=\"https://colab.research.google.com/github/JosenildoJunior/StatPyDataScience/blob/main/Distribui%C3%A7%C3%B5es_estat%C3%ADsticas.ipynb\" target=\"_parent\"><img src=\"https://colab.research.google.com/assets/colab-badge.svg\" alt=\"Open In Colab\"/></a>"
      ]
    },
    {
      "cell_type": "markdown",
      "source": [
        "# Estatística com Python: Um Guia para Estudos e Solução de Problemas\n"
      ],
      "metadata": {
        "id": "LYjDdafEI5kM"
      }
    },
    {
      "cell_type": "markdown",
      "source": [
        "\n",
        "Breve Resumo:\n",
        "\n",
        "Distribuição estatística é uma função que descreve a probabilidade de ocorrência de um valor em um conjunto de dados. As distribuições estatísticas são importantes na estatística porque permitem que os pesquisadores façam inferências sobre os dados.\n",
        "\n",
        "Quando Utilizar:\n",
        "\n",
        "- Sempre que se deseja descrever a variabilidade de um conjunto de dados.\n",
        "- Sempre que se deseja fazer inferências sobre um conjunto de dados.\n",
        "- Sempre que se deseja comparar dois ou mais conjuntos de dados."
      ],
      "metadata": {
        "id": "a6od8_ad3EMj"
      }
    },
    {
      "cell_type": "markdown",
      "source": [
        "## **Distribuição normal**"
      ],
      "metadata": {
        "id": "y9VxKjYI3Ng4"
      }
    },
    {
      "cell_type": "markdown",
      "source": [
        "\n",
        "Breve Resumo:\n",
        "\n",
        "A distribuição normal é uma distribuição de probabilidade contínua que é simétrica em torno da média, com a mediana e a moda também no mesmo ponto."
      ],
      "metadata": {
        "id": "G8Eck7C83l01"
      }
    },
    {
      "cell_type": "markdown",
      "source": [
        "*Vamos observar um exemplo de distribuição normal, porém antes será necessarios realizar a importação de algumas bibliotecas*"
      ],
      "metadata": {
        "id": "GAxodkLX3tpU"
      }
    },
    {
      "cell_type": "code",
      "source": [
        "# Manipulação de dados\n",
        "import pandas as pd\n",
        "\n",
        "# Algébra linear\n",
        "import numpy as np\n",
        "\n",
        "# Visualização de dados\n",
        "import seaborn as sns\n",
        "import matplotlib.pyplot as plt\n",
        "\n",
        "# Funções estatísticas\n",
        "import statistics\n",
        "import scipy.stats"
      ],
      "metadata": {
        "id": "Cwt4T39w5e7-"
      },
      "execution_count": 10,
      "outputs": []
    },
    {
      "cell_type": "markdown",
      "source": [
        "Gerando dados de alturas"
      ],
      "metadata": {
        "id": "tunxFMDy4n7f"
      }
    },
    {
      "cell_type": "code",
      "execution_count": 2,
      "metadata": {
        "id": "gojfdGslI5LN"
      },
      "outputs": [],
      "source": [
        "# Dados\n",
        "dados = np.array([126. , 129.5, 133. , 133. , 136.5, 136.5, 140. , 140. , 140. ,\n",
        "                  140. , 143.5, 143.5, 143.5, 143.5, 143.5, 143.5, 147. , 147. ,\n",
        "                  147. , 147. , 147. , 147. , 147. , 150.5, 150.5, 150.5, 150.5,\n",
        "                  150.5, 150.5, 150.5, 150.5, 154. , 154. , 154. , 154. , 154. ,\n",
        "                  154. , 154. , 154. , 154. , 157.5, 157.5, 157.5, 157.5, 157.5,\n",
        "                  157.5, 157.5, 157.5, 157.5, 157.5, 161. , 161. , 161. , 161. ,\n",
        "                  161. , 161. , 161. , 161. , 161. , 161. , 164.5, 164.5, 164.5,\n",
        "                  164.5, 164.5, 164.5, 164.5, 164.5, 164.5, 168. , 168. , 168. ,\n",
        "                  168. , 168. , 168. , 168. , 168. , 171.5, 171.5, 171.5, 171.5,\n",
        "                  171.5, 171.5, 171.5, 175. , 175. , 175. , 175. , 175. , 175. ,\n",
        "                  178.5, 178.5, 178.5, 178.5, 182. , 182. , 185.5, 185.5, 189., 192.5])"
      ]
    },
    {
      "cell_type": "markdown",
      "source": [
        "Observando algumas medidas de posição desses dados"
      ],
      "metadata": {
        "id": "VaVRJigU5D_D"
      }
    },
    {
      "cell_type": "code",
      "source": [
        "# Calculando a média\n",
        "media_dados = dados.mean()\n",
        "\n",
        "# Calculando a mediana\n",
        "mediana_dados = np.median(dados)\n",
        "\n",
        "# Calculando a moda\n",
        "moda_dados = statistics.mode(dados)\n",
        "\n",
        "print(f\"A média desse conjunto de dados é {media_dados}, a mediana é: {mediana_dados} e a moda é {moda_dados}\")"
      ],
      "metadata": {
        "colab": {
          "base_uri": "https://localhost:8080/"
        },
        "id": "SfoFNKVH5Dba",
        "outputId": "147c8a2c-f402-47b1-e009-dffb325ad2fe"
      },
      "execution_count": 5,
      "outputs": [
        {
          "output_type": "stream",
          "name": "stdout",
          "text": [
            "A média desse conjunto de dados é 159.25, a mediana é: 159.25 e a moda é 157.5\n"
          ]
        }
      ]
    },
    {
      "cell_type": "markdown",
      "source": [
        "Aqui podemos observar uma coisa bem curiosa, a média e a mediana são iguais, interessante né ? Pois bem aqui nos deparamos com um exemplo de uma distribuiição simetrica, isso é uma das caracteristicas de uma distribuiiçã normal. Podemos observar também uma moda de 157,5 que é bem proxima da média e mediana mas vamos investigar esses dados um pouco mais afundo"
      ],
      "metadata": {
        "id": "p3oswT_i6xSV"
      }
    },
    {
      "cell_type": "markdown",
      "source": [
        "Observando algumas medidas de posição desses dados"
      ],
      "metadata": {
        "id": "ZwOPMoxe8AmL"
      }
    },
    {
      "cell_type": "code",
      "source": [
        "# Calculando o desvio\n",
        "desvio_padrao = np.std(dados)\n",
        "\n",
        "# Calculando o coeficiente de variação dos dados\n",
        "coeficiente_de_variacao = round(scipy.stats.variation(dados) * 100, 2)\n",
        "\n",
        "# Exibindo o resultado\n",
        "print(f\"Os dados se afastão cerca de {desvio_padrao} unidades da média, logo podemos observar uma variação de {coeficiente_de_variacao}% em relação a média.\")"
      ],
      "metadata": {
        "colab": {
          "base_uri": "https://localhost:8080/"
        },
        "id": "bxtMOnQS7_tX",
        "outputId": "df4bf14c-410d-4a6e-9f8d-3eb96bc78677"
      },
      "execution_count": 9,
      "outputs": [
        {
          "output_type": "stream",
          "name": "stdout",
          "text": [
            "Os dados se afastão cerca de 13.65 unidades da média, logo podemos observar uma variação de 8.57% em relação a média\n"
          ]
        }
      ]
    },
    {
      "cell_type": "markdown",
      "source": [
        "Podemos observar que os dados possuem um desvio padrão de 13,65 unidades que nesse caso é cm logo os dados diferem em cerca de 13,65 centimetros da média isso representa uma diferença de cerca de 8,5% da média"
      ],
      "metadata": {
        "id": "eoBztGX989kV"
      }
    },
    {
      "cell_type": "markdown",
      "source": [
        "Vamos observar uma representação grafica de como esses dados estão se distribuindo"
      ],
      "metadata": {
        "id": "qv6_wluj9LqL"
      }
    },
    {
      "cell_type": "code",
      "source": [
        "# Criando o gráfico\n",
        "sns.displot(dados, kde = True)\n",
        "\n",
        "# Adicionando o título\n",
        "plt.title(\"Distribuição dos dados\");"
      ],
      "metadata": {
        "colab": {
          "base_uri": "https://localhost:8080/",
          "height": 529
        },
        "id": "XaVUh5AD9VXg",
        "outputId": "dfbcaa5a-08ec-4b0e-b0e3-3ce1ea7d33d3"
      },
      "execution_count": 16,
      "outputs": [
        {
          "output_type": "display_data",
          "data": {
            "text/plain": [
              "<Figure size 500x500 with 1 Axes>"
            ],
            "image/png": "[encoded data removed]"
          },
          "metadata": {}
        }
      ]
    },
    {
      "cell_type": "markdown",
      "source": [
        "Esse gráfico é uma representação clara de uma **distribuição normal** pois é notavel a curva da distribuição é em forma de sino e podemos observar também que a maior parte dos dados estão proximos a média com valores extremos se tornando menos comuns essas são caracteristicas claras de uma distribuição normal"
      ],
      "metadata": {
        "id": "dBXFSoEG-aAk"
      }
    },
    {
      "cell_type": "markdown",
      "source": [
        "## **Enviesamento**"
      ],
      "metadata": {
        "id": "LkRwIP6uBInH"
      }
    },
    {
      "cell_type": "markdown",
      "source": [
        "\n",
        "Breve Resumo:\n",
        "\n",
        "Enviesamento é um erro sistemático que afeta a precisão de uma estimativa. O enviesamento pode ser causado por uma variedade de fatores, incluindo:\n",
        "\n",
        "- Seleção de amostra: se a amostra não for representativa da população, a estimativa estará enviesada.\n",
        "- Medição: se a medida estiver enviesada, a estimativa estará enviesada.\n",
        "- Análise: se a análise estiver enviesada, a estimativa estará enviesada."
      ],
      "metadata": {
        "id": "WwtKVSuUBPrl"
      }
    },
    {
      "cell_type": "code",
      "source": [],
      "metadata": {
        "id": "Lv7c8AFRBOt6"
      },
      "execution_count": null,
      "outputs": []
    }
  ]
}