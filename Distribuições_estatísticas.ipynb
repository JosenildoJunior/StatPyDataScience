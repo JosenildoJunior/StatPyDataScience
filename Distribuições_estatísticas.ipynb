{
  "nbformat": 4,
  "nbformat_minor": 0,
  "metadata": {
    "colab": {
      "provenance": [],
      "collapsed_sections": [
        "s_WJGmrus2QN",
        "y9VxKjYI3Ng4",
        "LkRwIP6uBInH",
        "diiH1_qhDsnD",
        "-_yeKViTGrPS",
        "OyOrEmBSWotn",
        "Dfei3f3ldvyY",
        "r1KMzvjpNk-t",
        "w59NjbpfRK_Q",
        "36MZXalzUxC-",
        "h9ie_fthWnvY",
        "HYlXsTlRW-FV",
        "sQJolfcFXVrT",
        "hco9Xqf8Xw5o",
        "QvfK8GuGt3-N",
        "_MvKljTvuqEw",
        "KC-41p3rwLf6",
        "M91iH7Y7zn_K",
        "E1Qc0xDD0oSh",
        "KGCcc9Zn2lID",
        "vYBp5JKt4QBm"
      ],
      "authorship_tag": "ABX9TyPhhodHBOecz7Ko6CsbpobD",
      "include_colab_link": true
    },
    "kernelspec": {
      "name": "python3",
      "display_name": "Python 3"
    },
    "language_info": {
      "name": "python"
    }
  },
  "cells": [
    {
      "cell_type": "markdown",
      "metadata": {
        "id": "view-in-github",
        "colab_type": "text"
      },
      "source": [
        "<a href=\"https://colab.research.google.com/github/JosenildoJunior/StatPyDataScience/blob/main/Distribui%C3%A7%C3%B5es_estat%C3%ADsticas.ipynb\" target=\"_parent\"><img src=\"https://colab.research.google.com/assets/colab-badge.svg\" alt=\"Open In Colab\"/></a>"
      ]
    },
    {
      "cell_type": "markdown",
      "source": [
        "# Estatística com Python: Um Guia para Estudos e Solução de Problemas\n"
      ],
      "metadata": {
        "id": "LYjDdafEI5kM"
      }
    },
    {
      "cell_type": "markdown",
      "source": [
        "\n",
        "## Breve Resumo:\n",
        "\n",
        "Distribuição estatística é uma função que descreve a probabilidade de ocorrência de um valor em um conjunto de dados. As distribuições estatísticas são importantes na estatística porque permitem que os pesquisadores façam inferências sobre os dados.\n",
        "\n",
        "Quando Utilizar:\n",
        "\n",
        "- Sempre que se deseja descrever a variabilidade de um conjunto de dados.\n",
        "- Sempre que se deseja fazer inferências sobre um conjunto de dados.\n",
        "- Sempre que se deseja comparar dois ou mais conjuntos de dados."
      ],
      "metadata": {
        "id": "a6od8_ad3EMj"
      }
    },
    {
      "cell_type": "markdown",
      "source": [
        "# **Variáveis contínuas**"
      ],
      "metadata": {
        "id": "s_WJGmrus2QN"
      }
    },
    {
      "cell_type": "markdown",
      "source": [
        "## Breve Resumo:\n",
        "\n",
        "Variáveis contínuas são dados que podem assumir qualquer valor em um intervalo. Por exemplo, a altura de uma pessoa, o tempo de uma corrida ou a temperatura em um dia são todos exemplos de variáveis contínuas. (Números reais)"
      ],
      "metadata": {
        "id": "qVaClWiVtmvX"
      }
    },
    {
      "cell_type": "markdown",
      "source": [
        "## **Distribuição normal**"
      ],
      "metadata": {
        "id": "y9VxKjYI3Ng4"
      }
    },
    {
      "cell_type": "markdown",
      "source": [
        "\n",
        "Breve Resumo:\n",
        "\n",
        "A distribuição normal é uma distribuição de probabilidade contínua que é simétrica em torno da média, com a mediana e a moda também no mesmo ponto."
      ],
      "metadata": {
        "id": "G8Eck7C83l01"
      }
    },
    {
      "cell_type": "markdown",
      "source": [
        "*Vamos observar um exemplo de distribuição normal. Porém, antes, será necessário realizar a importação de algumas bibliotecas.*"
      ],
      "metadata": {
        "id": "GAxodkLX3tpU"
      }
    },
    {
      "cell_type": "code",
      "source": [
        "# Manipulação de dados\n",
        "import pandas as pd\n",
        "\n",
        "# Algébra linear\n",
        "import numpy as np\n",
        "\n",
        "# Visualização de dados\n",
        "import seaborn as sns\n",
        "import matplotlib.pyplot as plt\n",
        "\n",
        "# Funções estatísticas\n",
        "import statistics\n",
        "import scipy.stats"
      ],
      "metadata": {
        "id": "Cwt4T39w5e7-"
      },
      "execution_count": 1,
      "outputs": []
    },
    {
      "cell_type": "markdown",
      "source": [
        "Gerando dados de alturas"
      ],
      "metadata": {
        "id": "tunxFMDy4n7f"
      }
    },
    {
      "cell_type": "code",
      "execution_count": null,
      "metadata": {
        "id": "gojfdGslI5LN"
      },
      "outputs": [],
      "source": [
        "# Dados\n",
        "dados = np.array([126. , 129.5, 133. , 133. , 136.5, 136.5, 140. , 140. , 140. ,\n",
        "                  140. , 143.5, 143.5, 143.5, 143.5, 143.5, 143.5, 147. , 147. ,\n",
        "                  147. , 147. , 147. , 147. , 147. , 150.5, 150.5, 150.5, 150.5,\n",
        "                  150.5, 150.5, 150.5, 150.5, 154. , 154. , 154. , 154. , 154. ,\n",
        "                  154. , 154. , 154. , 154. , 157.5, 157.5, 157.5, 157.5, 157.5,\n",
        "                  157.5, 157.5, 157.5, 157.5, 157.5, 161. , 161. , 161. , 161. ,\n",
        "                  161. , 161. , 161. , 161. , 161. , 161. , 164.5, 164.5, 164.5,\n",
        "                  164.5, 164.5, 164.5, 164.5, 164.5, 164.5, 168. , 168. , 168. ,\n",
        "                  168. , 168. , 168. , 168. , 168. , 171.5, 171.5, 171.5, 171.5,\n",
        "                  171.5, 171.5, 171.5, 175. , 175. , 175. , 175. , 175. , 175. ,\n",
        "                  178.5, 178.5, 178.5, 178.5, 182. , 182. , 185.5, 185.5, 189., 192.5])"
      ]
    },
    {
      "cell_type": "markdown",
      "source": [
        "Ao observar algumas medidas de posição desses dados, podemos obter informações importantes sobre sua distribuição."
      ],
      "metadata": {
        "id": "VaVRJigU5D_D"
      }
    },
    {
      "cell_type": "code",
      "source": [
        "# Calculando a média\n",
        "media_dados = dados.mean()\n",
        "\n",
        "# Calculando a mediana\n",
        "mediana_dados = np.median(dados)\n",
        "\n",
        "# Calculando a moda\n",
        "moda_dados = statistics.mode(dados)\n",
        "\n",
        "print(f\"A média desse conjunto de dados é {media_dados}, a mediana é: {mediana_dados} e a moda é {moda_dados}\")"
      ],
      "metadata": {
        "colab": {
          "base_uri": "https://localhost:8080/"
        },
        "id": "SfoFNKVH5Dba",
        "outputId": "cbc56433-b40f-4e48-8e99-ff5fa8f8bdc1"
      },
      "execution_count": null,
      "outputs": [
        {
          "output_type": "stream",
          "name": "stdout",
          "text": [
            "A média desse conjunto de dados é 159.25, a mediana é: 159.25 e a moda é 157.5\n"
          ]
        }
      ]
    },
    {
      "cell_type": "markdown",
      "source": [
        "Aqui podemos observar uma coisa interessante: a média e a mediana são iguais. Isso indica que estamos diante de um exemplo de distribuição simétrica, uma das características de uma distribuição normal. Além disso, a moda é de 157,5, que é próxima da média e da mediana. No entanto, vamos investigar esses dados mais a fundo para obter mais informações sobre sua distribuição."
      ],
      "metadata": {
        "id": "p3oswT_i6xSV"
      }
    },
    {
      "cell_type": "markdown",
      "source": [
        "Ao analisar algumas medidas de posição desses dados, podemos obter informações importantes sobre sua distribuição."
      ],
      "metadata": {
        "id": "ZwOPMoxe8AmL"
      }
    },
    {
      "cell_type": "code",
      "source": [
        "# Calculando o desvio\n",
        "desvio_padrao = np.std(dados)\n",
        "\n",
        "# Calculando o coeficiente de variação dos dados\n",
        "coeficiente_de_variacao = round(scipy.stats.variation(dados) * 100, 2)\n",
        "\n",
        "# Exibindo o resultado\n",
        "print(f\"Os dados se afastão cerca de {desvio_padrao} unidades da média, logo podemos observar uma variação de {coeficiente_de_variacao}% em relação a média.\")"
      ],
      "metadata": {
        "colab": {
          "base_uri": "https://localhost:8080/"
        },
        "id": "bxtMOnQS7_tX",
        "outputId": "df4bf14c-410d-4a6e-9f8d-3eb96bc78677"
      },
      "execution_count": null,
      "outputs": [
        {
          "output_type": "stream",
          "name": "stdout",
          "text": [
            "Os dados se afastão cerca de 13.65 unidades da média, logo podemos observar uma variação de 8.57% em relação a média\n"
          ]
        }
      ]
    },
    {
      "cell_type": "markdown",
      "source": [
        "Os dados possuem um desvio padrão de 13,65 cm. Isso significa que, em média, os dados diferem da média em cerca de 13,65 cm. Essa diferença representa cerca de 8,5% da média."
      ],
      "metadata": {
        "id": "eoBztGX989kV"
      }
    },
    {
      "cell_type": "markdown",
      "source": [
        "Vamos observar um gráfico que representa a distribuição desses dados."
      ],
      "metadata": {
        "id": "qv6_wluj9LqL"
      }
    },
    {
      "cell_type": "code",
      "source": [
        "# Criando o gráfico\n",
        "sns.displot(dados, kde = True)\n",
        "\n",
        "# Adicionando o título\n",
        "plt.title(\"Distribuição dos dados\");"
      ],
      "metadata": {
        "colab": {
          "base_uri": "https://localhost:8080/",
          "height": 529
        },
        "id": "XaVUh5AD9VXg",
        "outputId": "dfbcaa5a-08ec-4b0e-b0e3-3ce1ea7d33d3"
      },
      "execution_count": null,
      "outputs": [
        {
          "output_type": "display_data",
          "data": {
            "text/plain": [
              "<Figure size 500x500 with 1 Axes>"
            ],
            "image/png": "[encoded data removed]"
          },
          "metadata": {}
        }
      ]
    },
    {
      "cell_type": "markdown",
      "source": [
        "Esse gráfico é uma representação clara de uma distribuição normal. Isso fica evidente pela forma em sino da curva da distribuição. Além disso, podemos observar que a maior parte dos dados está próxima da média, com valores extremos se tornando menos comuns. Essas são características claras de uma distribuição normal."
      ],
      "metadata": {
        "id": "dBXFSoEG-aAk"
      }
    },
    {
      "cell_type": "markdown",
      "source": [
        "**Caracteristicas distribuição normal:**\n",
        "- A curva da distribuição é em forma de sino.\n",
        "- A média, a mediana e a moda são iguais.\n",
        "- A maioria dos dados está concentrada em torno da média, com valores mais extremos se tornando menos frequentes à medida que nos afastamos da média."
      ],
      "metadata": {
        "id": "8RYgkqgDGdBF"
      }
    },
    {
      "cell_type": "markdown",
      "source": [
        "## **Enviesamento**"
      ],
      "metadata": {
        "id": "LkRwIP6uBInH"
      }
    },
    {
      "cell_type": "markdown",
      "source": [
        "\n",
        "Breve Resumo:\n",
        "\n",
        "Enviesamento é um erro sistemático que afeta a precisão de uma estimativa. O enviesamento pode ser causado por uma variedade de fatores, incluindo:\n",
        "\n",
        "- Seleção de amostra: se a amostra não for representativa da população, a estimativa estará enviesada.\n",
        "- Medição: se a medida estiver enviesada, a estimativa estará enviesada.\n",
        "- Análise: se a análise estiver enviesada, a estimativa estará enviesada."
      ],
      "metadata": {
        "id": "WwtKVSuUBPrl"
      }
    },
    {
      "cell_type": "code",
      "source": [
        "# Importando a biblioteca para gerar distribuições\n",
        "from scipy.stats import skewnorm"
      ],
      "metadata": {
        "id": "Lv7c8AFRBOt6"
      },
      "execution_count": null,
      "outputs": []
    },
    {
      "cell_type": "markdown",
      "source": [
        "Dados enviesados podem apresentar distribuições enviesadas positivas ou negativas. Vamos observar a diferença entre esses dois tipos de distribuição, mas antes, vamos observar mais um exemplo de uma distribuição normal."
      ],
      "metadata": {
        "id": "sPPmkG0YBtTq"
      }
    },
    {
      "cell_type": "markdown",
      "source": [
        "*Carregando uma biblioteca para gerar distribuições utilizando números aleatórios.*"
      ],
      "metadata": {
        "id": "-ELpmXGrCEZe"
      }
    },
    {
      "cell_type": "code",
      "source": [
        "# Gerando uma distribuição normal\n",
        "dados_normal = skewnorm.rvs(a = 0, size = 1000, random_state = 16)"
      ],
      "metadata": {
        "id": "f6al9aDPB4bW"
      },
      "execution_count": null,
      "outputs": []
    },
    {
      "cell_type": "code",
      "source": [
        "# Criando o gráfico\n",
        "sns.displot(dados_normal, kde = True)\n",
        "\n",
        "# Adicionando o título\n",
        "plt.title(\"Distribuição normal\");"
      ],
      "metadata": {
        "colab": {
          "base_uri": "https://localhost:8080/",
          "height": 529
        },
        "id": "kwW3IzJRB_YA",
        "outputId": "b05d90dd-e718-436e-b922-077bf3a2ad71"
      },
      "execution_count": null,
      "outputs": [
        {
          "output_type": "display_data",
          "data": {
            "text/plain": [
              "<Figure size 500x500 with 1 Axes>"
            ],
            "image/png": "[encoded data removed]"
          },
          "metadata": {}
        }
      ]
    },
    {
      "cell_type": "markdown",
      "source": [
        "Neste gráfico, podemos observar o mesmo padrão que vimos anteriormente: os dados estão distribuídos em formato de sino, com a maior parte dos valores próximos da média e valores menos frequentes nas extremidades. É provável que a média e a mediana sejam próximas uma da outra. Vamos ver se isso é verdade."
      ],
      "metadata": {
        "id": "xbga-oN8C8z4"
      }
    },
    {
      "cell_type": "code",
      "source": [
        "# Calculando a média\n",
        "media_dados_normal = dados_normal.mean()\n",
        "\n",
        "# Calculando a mediana\n",
        "mediana_dados_normal = np.median(dados_normal)\n",
        "\n",
        "# Calculando a moda\n",
        "moda_dados_normal = statistics.mode(dados_normal)\n",
        "\n",
        "print(f\"A média desse conjunto de dados é {media_dados_normal}, a mediana é: {mediana_dados_normal} e a moda é {moda_dados_normal}\")"
      ],
      "metadata": {
        "colab": {
          "base_uri": "https://localhost:8080/"
        },
        "id": "A5G3qoD_DU29",
        "outputId": "fe447b08-36e5-4c5d-8b55-cd9043bb29ba"
      },
      "execution_count": null,
      "outputs": [
        {
          "output_type": "stream",
          "name": "stdout",
          "text": [
            "A média desse conjunto de dados é 0.04766317060310097, a mediana é: 0.022184180027139334 e a moda é -0.9160437091136551\n"
          ]
        }
      ]
    },
    {
      "cell_type": "markdown",
      "source": [
        "Como os dados foram gerados aleatoriamente, é provável que a moda esteja sempre bem distante da média e da mediana. No entanto, podemos observar que, neste caso, a média e a mediana estão bem próximas, confirmando nossa suspeita."
      ],
      "metadata": {
        "id": "g7tEGjDJDgGz"
      }
    },
    {
      "cell_type": "markdown",
      "source": [
        "### **Observando um enviesamento positivo**"
      ],
      "metadata": {
        "id": "diiH1_qhDsnD"
      }
    },
    {
      "cell_type": "markdown",
      "source": [
        "Neste caso, vamos utilizar a mesma biblioteca que utilizamos anteriormente, mas com parâmetros diferentes."
      ],
      "metadata": {
        "id": "Php6e7ayD194"
      }
    },
    {
      "cell_type": "code",
      "source": [
        "# Gerando dados enviesados positivamente para realizar esse enviesamento positivo o parametro 'a' deve ser positivo\n",
        "dados_enviesado_positivo = skewnorm.rvs(a = 10, size = 1000, random_state = 18)"
      ],
      "metadata": {
        "id": "NpaAuNcBD7aO"
      },
      "execution_count": null,
      "outputs": []
    },
    {
      "cell_type": "code",
      "source": [
        "# Criando o gráfico\n",
        "sns.displot(dados_enviesado_positivo, kde = True)\n",
        "\n",
        "# Adicionando o título\n",
        "plt.title(\"Distribuição enviesada positivamente\");"
      ],
      "metadata": {
        "colab": {
          "base_uri": "https://localhost:8080/",
          "height": 529
        },
        "id": "GUmCytBdELWG",
        "outputId": "e1def473-cb5c-48ee-c831-ca78e0fad4e0"
      },
      "execution_count": null,
      "outputs": [
        {
          "output_type": "display_data",
          "data": {
            "text/plain": [
              "<Figure size 500x500 with 1 Axes>"
            ],
            "image/png": "[encoded data removed]"
          },
          "metadata": {}
        }
      ]
    },
    {
      "cell_type": "markdown",
      "source": [
        "Podemos observar algumas características desse tipo de distribuição: a existência de valores mais altos que baixos, a média maior que a mediana e uma cauda longa do lado direito. A moda também pode ser menor que a média, mas, como os dados foram gerados aleatoriamente, isso pode não ocorrer. No entanto, já podemos observar duas das três características nesse gráfico."
      ],
      "metadata": {
        "id": "a2Gv4OnqElrU"
      }
    },
    {
      "cell_type": "code",
      "source": [
        "# Calculando a média\n",
        "media_dados_positivos = dados_enviesado_positivo.mean()\n",
        "\n",
        "# Calculando a mediana\n",
        "mediana_dados_positivos = np.median(dados_enviesado_positivo)\n",
        "\n",
        "# Calculando a moda\n",
        "moda_dados_positivos = statistics.mode(dados_enviesado_positivo)\n",
        "\n",
        "print(f\"A média desse conjunto de dados é {media_dados_positivos}, a mediana é: {mediana_dados_positivos} e a moda é {moda_dados_positivos}\")"
      ],
      "metadata": {
        "colab": {
          "base_uri": "https://localhost:8080/"
        },
        "id": "nyTEltQLFV12",
        "outputId": "d5f1eea8-6bd7-4e78-a6d5-1b027759dd0d"
      },
      "execution_count": null,
      "outputs": [
        {
          "output_type": "stream",
          "name": "stdout",
          "text": [
            "A média desse conjunto de dados é 0.824301793276006, a mediana é: 0.6856293050073365 e a moda é 0.04620315796668072\n"
          ]
        }
      ]
    },
    {
      "cell_type": "markdown",
      "source": [
        "Aqui, confirmamos nossa suspeita: a moda e a mediana são menores que a média, e há uma clara cauda longa à direita."
      ],
      "metadata": {
        "id": "PomfVFEsF5nh"
      }
    },
    {
      "cell_type": "markdown",
      "source": [
        "**Caracteristicas distribuição enviesada positivamente:**\n",
        "\n",
        "- A média é maior que a mediana. Isso significa que há mais valores mais altos do que valores mais baixos na distribuição.\n",
        "- A curva da distribuição é assimétrica, com a cauda mais longa à direita. Isso significa que a distribuição é mais concentrada em valores mais baixos do que em valores mais altos.\n",
        "- A moda é menor que a média. Isso significa que o valor mais comum na distribuição é menor que o valor médio."
      ],
      "metadata": {
        "id": "y7L5KQaKFvkS"
      }
    },
    {
      "cell_type": "markdown",
      "source": [
        "### **Observando um enviesamento negativo**"
      ],
      "metadata": {
        "id": "-_yeKViTGrPS"
      }
    },
    {
      "cell_type": "code",
      "source": [
        "# Gerando dados enviesados negativamente para realizar esse enviesamento negativo o parametro 'a' deve ser negativo\n",
        "dados_enviesado_negativo = skewnorm.rvs(a = -10, size = 1000, random_state = 19)"
      ],
      "metadata": {
        "id": "e-FL3bw_GxRa"
      },
      "execution_count": null,
      "outputs": []
    },
    {
      "cell_type": "code",
      "source": [
        "# Criando o gráfico\n",
        "sns.displot(dados_enviesado_negativo, kde = True)\n",
        "\n",
        "# Adicionando o título\n",
        "plt.title(\"Distribuição enviesada negativamente\");"
      ],
      "metadata": {
        "colab": {
          "base_uri": "https://localhost:8080/",
          "height": 529
        },
        "id": "zwQfSQ3rG3L6",
        "outputId": "ef83490d-7c2c-453b-bc9d-7655d6402195"
      },
      "execution_count": null,
      "outputs": [
        {
          "output_type": "display_data",
          "data": {
            "text/plain": [
              "<Figure size 500x500 with 1 Axes>"
            ],
            "image/png": "[encoded data removed]"
          },
          "metadata": {}
        }
      ]
    },
    {
      "cell_type": "markdown",
      "source": [
        "Neste caso, podemos observar uma curva com uma cauda mais longa à esquerda. A média provavelmente será menor que a mediana e a moda provavelmente será maior que a média. Essas são características claras desse tipo de distribuição. Vamos confirmar isso."
      ],
      "metadata": {
        "id": "sbhLd164HPhP"
      }
    },
    {
      "cell_type": "code",
      "source": [
        "# Calculando a média\n",
        "media_dados_negativos = dados_enviesado_negativo.mean()\n",
        "\n",
        "# Calculando a mediana\n",
        "mediana_dados_negativos  = np.median(dados_enviesado_negativo)\n",
        "\n",
        "# Calculando a moda\n",
        "moda_dados_negativos  = statistics.mode(dados_enviesado_negativo)\n",
        "\n",
        "print(f\"A média desse conjunto de dados é {media_dados_negativos}, a mediana é: {mediana_dados_negativos} e a moda é {moda_dados_negativos}\")"
      ],
      "metadata": {
        "colab": {
          "base_uri": "https://localhost:8080/"
        },
        "id": "QnbqgS2NH3rz",
        "outputId": "adef00a2-77af-4cd3-b252-417fbdff803c"
      },
      "execution_count": null,
      "outputs": [
        {
          "output_type": "stream",
          "name": "stdout",
          "text": [
            "A média desse conjunto de dados é -0.7853788527661647, a mediana é: -0.6608433497517592 e a moda é -0.4258924267583833\n"
          ]
        }
      ]
    },
    {
      "cell_type": "markdown",
      "source": [
        "Neste caso, podemos confirmar que a mediana e a moda são maiores que a média, e que há uma cauda mais longa à esquerda. Essas características são típicas de uma distribuição negativa."
      ],
      "metadata": {
        "id": "Mhgwe-9TIbdW"
      }
    },
    {
      "cell_type": "markdown",
      "source": [
        "## **Distribuição normal padronizada**"
      ],
      "metadata": {
        "id": "OyOrEmBSWotn"
      }
    },
    {
      "cell_type": "markdown",
      "source": [
        "\n",
        "Breve Resumo:\n",
        "\n",
        "A padronização dos dados, também conhecida como z-score, é uma técnica que transforma os dados de modo que tenham uma média de 0 e um desvio padrão de 1. A padronização é uma ferramenta útil para comparar conjuntos de dados com diferentes escalas ou unidades de medida.\n",
        "\n",
        "Quando Utilizar:\n",
        "\n",
        "- Sempre que se deseja comparar conjuntos de dados com diferentes escalas ou unidades de medida.\n",
        "- Sempre que se deseja comparar a dispersão de dados em diferentes conjuntos de dados.\n",
        "- Sempre que se deseja aplicar técnicas estatísticas que assumem que os dados são distribuídos normalmente.\n",
        "-  Após a padronização dos dados (z-score) alguns modelos de machine learning podem entregar um melhor desempenho."
      ],
      "metadata": {
        "id": "DphyLsXxXHb6"
      }
    },
    {
      "cell_type": "markdown",
      "source": [
        "A fórmula do cálculo do z-score é a seguinte:\n",
        "\n",
        "- $ Z = (X - μ) / σ $\n",
        "\n",
        "Onde:\n",
        "\n",
        "- Z é o z-score\n",
        "- X é o valor do dado\n",
        "- μ é a média da população\n",
        "- σ é o desvio padrão da população"
      ],
      "metadata": {
        "id": "_r5bZfTrX3j9"
      }
    },
    {
      "cell_type": "markdown",
      "source": [
        "Vamos ver como fica nossos dados apos aplicar essa formula"
      ],
      "metadata": {
        "id": "xG9tO7IgXq5w"
      }
    },
    {
      "cell_type": "code",
      "source": [
        "# Observando os dados\n",
        "dados"
      ],
      "metadata": {
        "colab": {
          "base_uri": "https://localhost:8080/"
        },
        "id": "m_J0PFNRYNjz",
        "outputId": "4e4ba004-7a8c-4cfa-d70e-99563df8d090"
      },
      "execution_count": null,
      "outputs": [
        {
          "output_type": "execute_result",
          "data": {
            "text/plain": [
              "array([126. , 129.5, 133. , 133. , 136.5, 136.5, 140. , 140. , 140. ,\n",
              "       140. , 143.5, 143.5, 143.5, 143.5, 143.5, 143.5, 147. , 147. ,\n",
              "       147. , 147. , 147. , 147. , 147. , 150.5, 150.5, 150.5, 150.5,\n",
              "       150.5, 150.5, 150.5, 150.5, 154. , 154. , 154. , 154. , 154. ,\n",
              "       154. , 154. , 154. , 154. , 157.5, 157.5, 157.5, 157.5, 157.5,\n",
              "       157.5, 157.5, 157.5, 157.5, 157.5, 161. , 161. , 161. , 161. ,\n",
              "       161. , 161. , 161. , 161. , 161. , 161. , 164.5, 164.5, 164.5,\n",
              "       164.5, 164.5, 164.5, 164.5, 164.5, 164.5, 168. , 168. , 168. ,\n",
              "       168. , 168. , 168. , 168. , 168. , 171.5, 171.5, 171.5, 171.5,\n",
              "       171.5, 171.5, 171.5, 175. , 175. , 175. , 175. , 175. , 175. ,\n",
              "       178.5, 178.5, 178.5, 178.5, 182. , 182. , 185.5, 185.5, 189. ,\n",
              "       192.5])"
            ]
          },
          "metadata": {},
          "execution_count": 4
        }
      ]
    },
    {
      "cell_type": "markdown",
      "source": [
        "Aqui podemos ter noção dos valores presentes nesses dados, mas vamos observar algumas medidas"
      ],
      "metadata": {
        "id": "rvWK05CJYYyb"
      }
    },
    {
      "cell_type": "code",
      "source": [
        "# Calculando o desvio padrão\n",
        "desvio_padrao = np.std(dados)\n",
        "\n",
        "print(f\"A média é: {media_dados} e o desvio padrão é: {desvio_padrao}\")"
      ],
      "metadata": {
        "colab": {
          "base_uri": "https://localhost:8080/"
        },
        "id": "5cFowh2mYkGI",
        "outputId": "4a13f604-b3b4-4b54-f50e-e4f0f3d8d0cf"
      },
      "execution_count": null,
      "outputs": [
        {
          "output_type": "stream",
          "name": "stdout",
          "text": [
            "A média é: 159.25 e o desvio padrão é: 13.65\n"
          ]
        }
      ]
    },
    {
      "cell_type": "markdown",
      "source": [
        "Obtivemos uma média de 159,2 e o desvio padrão de 13,6 porém apos aplicarmos a padronização nos dados a média vai tender a ser 0 e o desvio padrão a 1 vamos observar um pouco mais afundo"
      ],
      "metadata": {
        "id": "0CY7QdUdY6te"
      }
    },
    {
      "cell_type": "code",
      "source": [
        "# Padronizando os dados\n",
        "dados_padronizados = (dados - media_dados) / desvio_padrao\n",
        "\n",
        "# Observando os dados padronizados\n",
        "dados_padronizados"
      ],
      "metadata": {
        "colab": {
          "base_uri": "https://localhost:8080/"
        },
        "id": "2dXRll5kZJRU",
        "outputId": "75d27ff8-86d8-4123-fbca-8700ad4aabbf"
      },
      "execution_count": null,
      "outputs": [
        {
          "output_type": "execute_result",
          "data": {
            "text/plain": [
              "array([-2.43589744, -2.17948718, -1.92307692, -1.92307692, -1.66666667,\n",
              "       -1.66666667, -1.41025641, -1.41025641, -1.41025641, -1.41025641,\n",
              "       -1.15384615, -1.15384615, -1.15384615, -1.15384615, -1.15384615,\n",
              "       -1.15384615, -0.8974359 , -0.8974359 , -0.8974359 , -0.8974359 ,\n",
              "       -0.8974359 , -0.8974359 , -0.8974359 , -0.64102564, -0.64102564,\n",
              "       -0.64102564, -0.64102564, -0.64102564, -0.64102564, -0.64102564,\n",
              "       -0.64102564, -0.38461538, -0.38461538, -0.38461538, -0.38461538,\n",
              "       -0.38461538, -0.38461538, -0.38461538, -0.38461538, -0.38461538,\n",
              "       -0.12820513, -0.12820513, -0.12820513, -0.12820513, -0.12820513,\n",
              "       -0.12820513, -0.12820513, -0.12820513, -0.12820513, -0.12820513,\n",
              "        0.12820513,  0.12820513,  0.12820513,  0.12820513,  0.12820513,\n",
              "        0.12820513,  0.12820513,  0.12820513,  0.12820513,  0.12820513,\n",
              "        0.38461538,  0.38461538,  0.38461538,  0.38461538,  0.38461538,\n",
              "        0.38461538,  0.38461538,  0.38461538,  0.38461538,  0.64102564,\n",
              "        0.64102564,  0.64102564,  0.64102564,  0.64102564,  0.64102564,\n",
              "        0.64102564,  0.64102564,  0.8974359 ,  0.8974359 ,  0.8974359 ,\n",
              "        0.8974359 ,  0.8974359 ,  0.8974359 ,  0.8974359 ,  1.15384615,\n",
              "        1.15384615,  1.15384615,  1.15384615,  1.15384615,  1.15384615,\n",
              "        1.41025641,  1.41025641,  1.41025641,  1.41025641,  1.66666667,\n",
              "        1.66666667,  1.92307692,  1.92307692,  2.17948718,  2.43589744])"
            ]
          },
          "metadata": {},
          "execution_count": 7
        }
      ]
    },
    {
      "cell_type": "markdown",
      "source": [
        "Podemos notar diferenças claras nos dados, vamos agora observar algumas medidas"
      ],
      "metadata": {
        "id": "ljVEGBIfZu8h"
      }
    },
    {
      "cell_type": "code",
      "source": [
        "# Calculando a média\n",
        "media_dados_padronizados = dados_padronizados.mean()\n",
        "\n",
        "# Calculando o desvio padrão\n",
        "desvio_padrao_padronizados= np.std(dados_padronizados)\n",
        "\n",
        "print(f\"A média é: {media_dados_padronizados} e o desvio padrão é: {desvio_padrao_padronizados}\")"
      ],
      "metadata": {
        "colab": {
          "base_uri": "https://localhost:8080/"
        },
        "id": "rRvw9UdBZZdj",
        "outputId": "68aaa167-36fa-4749-8968-18cf8ec1619f"
      },
      "execution_count": null,
      "outputs": [
        {
          "output_type": "stream",
          "name": "stdout",
          "text": [
            "A média é: 0.0 e o desvio padrão é: 0.9999999999999999\n"
          ]
        }
      ]
    },
    {
      "cell_type": "markdown",
      "source": [
        "Podemos confirmar agora que nossa padronizaçã foi aplicada com sucesso, como podemos observar temos uma média de 0 e um desvio padrão tendendo a 1, mas será que isso impacta na nossa distribiuição ? vamos observar a distribuição de ambos de forma mais detalhadamente"
      ],
      "metadata": {
        "id": "43m7p5kVZ6HX"
      }
    },
    {
      "cell_type": "code",
      "source": [
        "# Configurando o tamanho da figura\n",
        "plt.figure(figsize=(12, 6))\n",
        "\n",
        "# Exibindo os dados não padronizados\n",
        "plt.subplot(1, 2, 1)\n",
        "sns.histplot(dados, color=\"blue\", kde = True)\n",
        "plt.title(\"Dados não padronizados\")\n",
        "\n",
        "# Exibindo os dados padronizados\n",
        "plt.subplot(1, 2, 2)\n",
        "sns.histplot(dados_padronizados, color=\"red\", kde = True)\n",
        "plt.title(\"Dados padronizados\")\n",
        "\n",
        "# Exibindo a figura\n",
        "plt.show()"
      ],
      "metadata": {
        "colab": {
          "base_uri": "https://localhost:8080/",
          "height": 545
        },
        "id": "WFcm0jTFadS6",
        "outputId": "1ff065b5-0b58-4d8e-a27c-618ac1009a1e"
      },
      "execution_count": null,
      "outputs": [
        {
          "output_type": "display_data",
          "data": {
            "text/plain": [
              "<Figure size 1200x600 with 2 Axes>"
            ],
            "image/png": "[encoded data removed]"
          },
          "metadata": {}
        }
      ]
    },
    {
      "cell_type": "markdown",
      "source": [
        "Após essa visualização podemos confirmar que os dados continuam apresentando a mesma distribuição embora após a padronização os dados apresenetem esrtar em uma escala diferente já que a padronização de dados não altera a distribuição dos dados. Ela apenas altera a escala dos dados, colocando-os em uma escala comum."
      ],
      "metadata": {
        "id": "ap3HFfASb1r5"
      }
    },
    {
      "cell_type": "markdown",
      "source": [
        "## **Teorema central do limite**"
      ],
      "metadata": {
        "id": "Dfei3f3ldvyY"
      }
    },
    {
      "cell_type": "markdown",
      "source": [
        "\n",
        "Breve Resumo:\n",
        "\n",
        "O teorema central do limite (TCL) é um teorema da teoria da probabilidade que afirma que a distribuição amostral da média de uma variável aleatória se aproxima de uma distribuição normal, conforme o tamanho da amostra aumenta."
      ],
      "metadata": {
        "id": "SOm7-jMweAXg"
      }
    },
    {
      "cell_type": "markdown",
      "source": [
        "Para entender melhor esse teorema, vamos observar o seguinte exemplo: vamos gerar aleatoriamente 500 registros de alturas entre 126 e 192 cm e, então, observaremos a sua distribuição."
      ],
      "metadata": {
        "id": "pqIiYQcDeGxl"
      }
    },
    {
      "cell_type": "code",
      "source": [
        "# Gerando os dados aleatórios\n",
        "alturas = np.random.randint(126, 192, 500)\n",
        "\n",
        "# Observando a médis dos dados gerados\n",
        "alturas.mean()"
      ],
      "metadata": {
        "colab": {
          "base_uri": "https://localhost:8080/"
        },
        "id": "CeIyrcxZeTuk",
        "outputId": "67a57426-df44-4d3f-bd0c-d02cd51495cb"
      },
      "execution_count": null,
      "outputs": [
        {
          "output_type": "execute_result",
          "data": {
            "text/plain": [
              "157.236"
            ]
          },
          "metadata": {},
          "execution_count": 18
        }
      ]
    },
    {
      "cell_type": "code",
      "source": [
        "# Gerando o histograma\n",
        "sns.histplot(alturas, kde = True)\n",
        "\n",
        "# Exibindo a figura\n",
        "plt.show()"
      ],
      "metadata": {
        "colab": {
          "base_uri": "https://localhost:8080/",
          "height": 430
        },
        "id": "nl62spBCetEi",
        "outputId": "f7fcf7e1-f838-42bf-92b9-e761399525d6"
      },
      "execution_count": null,
      "outputs": [
        {
          "output_type": "display_data",
          "data": {
            "text/plain": [
              "<Figure size 640x480 with 1 Axes>"
            ],
            "image/png": "[encoded data removed]"
          },
          "metadata": {}
        }
      ]
    },
    {
      "cell_type": "markdown",
      "source": [
        "Esta distribuição possui 500 registros e não é uma distribuição normal, pois a maior parte dos dados não está concentrada próxima da média e mediana. Além disso, a distribuição não apresenta o padrão de sino típico de uma distribuição normal, com a maior parte dos dados concentrados no centro e valores com menos frequências nos extremos."
      ],
      "metadata": {
        "id": "aafX2axWfCOf"
      }
    },
    {
      "cell_type": "markdown",
      "source": [
        "O teorema central do limite afirma que, quanto maior a amostra, mais a distribuição da média se aproxima de uma distribuição normal. Portanto, vamos aumentar a amostra para melhorar a aproximação."
      ],
      "metadata": {
        "id": "L49RDotbf2Yx"
      }
    },
    {
      "cell_type": "markdown",
      "source": [
        "Para isso, vamos criar uma lista chamada \"médias\" que contenha as médias de 1000 conjuntos de 500 números inteiros aleatórios, gerados aleatoriamente no intervalo de 126 a 191."
      ],
      "metadata": {
        "id": "LRjrWxPFgSt8"
      }
    },
    {
      "cell_type": "code",
      "source": [
        "# Gerando os números aleatórios\n",
        "medias = [np.mean(np.random.randint(126, 192, 500)) for _ in range(1000)]\n",
        "\n",
        "# Observandoa  quantidade de registros\n",
        "len(medias)"
      ],
      "metadata": {
        "colab": {
          "base_uri": "https://localhost:8080/"
        },
        "id": "lPVKS2AXgCuX",
        "outputId": "3113c17d-0bc2-456b-dafb-9af4c688e4ac"
      },
      "execution_count": null,
      "outputs": [
        {
          "output_type": "execute_result",
          "data": {
            "text/plain": [
              "1000"
            ]
          },
          "metadata": {},
          "execution_count": 22
        }
      ]
    },
    {
      "cell_type": "markdown",
      "source": [
        "Agora, vamos visualizar a distribuição dos dados, com essa quantidade de registros."
      ],
      "metadata": {
        "id": "P-Em9G_8gnAD"
      }
    },
    {
      "cell_type": "code",
      "source": [
        "# Gerando o histograma\n",
        "sns.histplot(medias, kde = True)\n",
        "\n",
        "# Exibindo a figura\n",
        "plt.show()"
      ],
      "metadata": {
        "colab": {
          "base_uri": "https://localhost:8080/",
          "height": 430
        },
        "id": "XAAg9gp1gw4K",
        "outputId": "3be0998b-3745-4f3c-e81c-e20e2f39e348"
      },
      "execution_count": null,
      "outputs": [
        {
          "output_type": "display_data",
          "data": {
            "text/plain": [
              "<Figure size 640x480 with 1 Axes>"
            ],
            "image/png": "[encoded data removed]"
          },
          "metadata": {}
        }
      ]
    },
    {
      "cell_type": "markdown",
      "source": [
        "A distribuição dos dados agora é claramente normal. Portanto, podemos confirmar o teorema central do limite, que afirma que quanto maior o tamanho da amostra, mais a distribuição amostral da média se aproxima de uma distribuição normal."
      ],
      "metadata": {
        "id": "FmzJiiT2g3RA"
      }
    },
    {
      "cell_type": "markdown",
      "source": [
        "## **Distribuição gama**"
      ],
      "metadata": {
        "id": "r1KMzvjpNk-t"
      }
    },
    {
      "cell_type": "markdown",
      "source": [
        "Breve Resumo:\n",
        "\n",
        "A distribuição gama é uma família de distribuições contínuas de probabilidade de dois parâmetros. A distribuição gama é usada para modelar valores de dados positivos que são assimétricos à direita e maiores que 0.\n",
        "\n",
        "Quando Utilizar:\n",
        "\n",
        "- Sempre que se deseja modelar valores de dados positivos que são assimétricos à direita e maiores que 0.\n",
        "- Sempre que se deseja estimar a média e a variância de valores de dados positivos que são assimétricos à direita e maiores que 0."
      ],
      "metadata": {
        "id": "uDeJb8H6NwM6"
      }
    },
    {
      "cell_type": "markdown",
      "source": [
        "Para demonstrar esse tipo de distribuição, vamos importar a seguinte biblioteca."
      ],
      "metadata": {
        "id": "hk1TwOLqNycr"
      }
    },
    {
      "cell_type": "code",
      "source": [
        "# Realizando a importação\n",
        "from scipy.stats import gamma"
      ],
      "metadata": {
        "id": "j3K7vRQ1N8TZ"
      },
      "execution_count": null,
      "outputs": []
    },
    {
      "cell_type": "markdown",
      "source": [
        "Agora, podemos finalmente criar a distribuição propriamente dita. O parâmetro 'a' informa onde a curva de decaimento no gráfico começará."
      ],
      "metadata": {
        "id": "mC8j7xGSOC2Z"
      }
    },
    {
      "cell_type": "code",
      "source": [
        "# Criando a distribuição\n",
        "dados_gama = gamma.rvs(a = 5, size = 1000)"
      ],
      "metadata": {
        "id": "xTSBm6YQOArh"
      },
      "execution_count": null,
      "outputs": []
    },
    {
      "cell_type": "markdown",
      "source": [
        "Observando a distribuição"
      ],
      "metadata": {
        "id": "kcZgd1-DQoCW"
      }
    },
    {
      "cell_type": "code",
      "source": [
        "# Gerando o histograma\n",
        "sns.histplot(dados_gama, kde = True)\n",
        "plt.title(\"Distribuição gama\")\n",
        "\n",
        "# Exibindo a figura\n",
        "plt.show()"
      ],
      "metadata": {
        "colab": {
          "base_uri": "https://localhost:8080/",
          "height": 452
        },
        "id": "pRZDmKYjOOtI",
        "outputId": "b5a052d0-24d4-421c-c9b1-ef9bb7f633fb"
      },
      "execution_count": null,
      "outputs": [
        {
          "output_type": "display_data",
          "data": {
            "text/plain": [
              "<Figure size 640x480 with 1 Axes>"
            ],
            "image/png": "[encoded data removed]"
          },
          "metadata": {}
        }
      ]
    },
    {
      "cell_type": "markdown",
      "source": [
        "A distribuição dos dados é um exemplo claro de uma distribuição gama. Algumas das características dessa distribuição são: a média é maior que a moda e a mediana; e há uma longa cauda no lado direito."
      ],
      "metadata": {
        "id": "efap7nhnPZJ3"
      }
    },
    {
      "cell_type": "markdown",
      "source": [
        "Analisando algumas medidas"
      ],
      "metadata": {
        "id": "CbYQp7BZPppe"
      }
    },
    {
      "cell_type": "code",
      "source": [
        "# Calculando a média\n",
        "media_gama = dados_gama.mean()\n",
        "\n",
        "# Calculando a mediana\n",
        "mediana_gama = np.median(dados_gama)\n",
        "\n",
        "# Calculando a moda\n",
        "moda_gama = statistics.mode(dados_gama)\n",
        "\n",
        "print(f\"A média é: {media_gama}, a mediana é: {mediana_gama} e a moda é: {moda_gama}\")"
      ],
      "metadata": {
        "colab": {
          "base_uri": "https://localhost:8080/"
        },
        "id": "KwaK20jMPs4z",
        "outputId": "3287bf3e-a532-485a-c39d-39b99c7380d0"
      },
      "execution_count": null,
      "outputs": [
        {
          "output_type": "stream",
          "name": "stdout",
          "text": [
            "A média é: 5.128182003771842, a mediana é: 4.814105616849779 e a moda é: 0.7923498467036311\n"
          ]
        }
      ]
    },
    {
      "cell_type": "markdown",
      "source": [
        "Assim, podemos confirmar que a média é maior que a mediana e a moda, conforme observado anteriormente."
      ],
      "metadata": {
        "id": "DqQRNkHvQZXO"
      }
    },
    {
      "cell_type": "markdown",
      "source": [
        "### **Distribuição exponencial**"
      ],
      "metadata": {
        "id": "w59NjbpfRK_Q"
      }
    },
    {
      "cell_type": "markdown",
      "source": [
        "\n",
        "Breve Resumo:\n",
        "\n",
        "A distribuição exponencial é uma distribuição de probabilidade contínua que descreve a probabilidade de um evento ocorrer em um determinado intervalo de tempo. A distribuição exponencial é simétrica em torno da média, com a mediana e a moda também no mesmo ponto.\n",
        "\n",
        "Quando Utilizar:\n",
        "\n",
        "- Sempre que se deseja modelar o tempo entre eventos aleatórios.\n",
        "- Sempre que se deseja estimar a média do tempo entre eventos aleatórios."
      ],
      "metadata": {
        "id": "-d8vO0hVRh5f"
      }
    },
    {
      "cell_type": "markdown",
      "source": [
        "Essa distribuição é semelhante a uma distribuição gama, mas a principal diferença está nos valores iniciais da distribuição. A melhor forma de entender isso é visualizar alguns exemplos."
      ],
      "metadata": {
        "id": "Hdt0Qk1IRkFO"
      }
    },
    {
      "cell_type": "markdown",
      "source": [
        "Para exemplificar essa distribuição, vamos importar a seguinte biblioteca."
      ],
      "metadata": {
        "id": "pb779gSAR4dM"
      }
    },
    {
      "cell_type": "code",
      "source": [
        "# Realizando a importação\n",
        "from scipy.stats import expon"
      ],
      "metadata": {
        "id": "SLTqGpd7R40k"
      },
      "execution_count": null,
      "outputs": []
    },
    {
      "cell_type": "markdown",
      "source": [
        "Agora, podemos finalmente criar a distribuição propriamente dita."
      ],
      "metadata": {
        "id": "w4MHNEDMSAGr"
      }
    },
    {
      "cell_type": "code",
      "source": [
        "# Criando a distribuição\n",
        "dados_exponencial = expon.rvs(size = 1000)"
      ],
      "metadata": {
        "id": "7J79bS4hSAcj"
      },
      "execution_count": null,
      "outputs": []
    },
    {
      "cell_type": "markdown",
      "source": [
        "Plotando a distribuição"
      ],
      "metadata": {
        "id": "fU3u3oBsSLVC"
      }
    },
    {
      "cell_type": "code",
      "source": [
        "# Gerando o histograma\n",
        "sns.histplot(dados_exponencial, kde = True)\n",
        "plt.title(\"Distribuição exponencial\")\n",
        "\n",
        "# Exibindo a figura\n",
        "plt.show()"
      ],
      "metadata": {
        "colab": {
          "base_uri": "https://localhost:8080/",
          "height": 452
        },
        "id": "uocH_EQOSLeS",
        "outputId": "37bda7b9-186f-405d-be17-82f19fd37069"
      },
      "execution_count": null,
      "outputs": [
        {
          "output_type": "display_data",
          "data": {
            "text/plain": [
              "<Figure size 640x480 with 1 Axes>"
            ],
            "image/png": "[encoded data removed]"
          },
          "metadata": {}
        }
      ]
    },
    {
      "cell_type": "markdown",
      "source": [
        "Podemos confirmar que, no início dos dados, a distribuição exponencial tem uma maior probabilidade de ocorrência do que a distribuição gama. Além disso, a distribuição exponencial apresenta uma cauda mais longa à direita, o que significa que é mais provável que ocorram valores extremos nessa distribuição. Essas são algumas das principais diferenças entre as duas distribuições."
      ],
      "metadata": {
        "id": "t5yqozV-SnlG"
      }
    },
    {
      "cell_type": "markdown",
      "source": [
        "## **Distribuição uniforme**"
      ],
      "metadata": {
        "id": "36MZXalzUxC-"
      }
    },
    {
      "cell_type": "markdown",
      "source": [
        "Breve Resumo:\n",
        "\n",
        "A distribuição uniforme é uma distribuição de probabilidade contínua que descreve a probabilidade de um valor ocorrer em um determinado intervalo. A distribuição uniforme é simétrica em torno do ponto médio do intervalo, com a mediana e a moda também no mesmo ponto.\n",
        "\n",
        "Quando Utilizar:\n",
        "\n",
        "- Sempre que se deseja modelar valores que ocorrem em um intervalo conhecido.\n",
        "- Sempre que se deseja estimar a média e a variância de valores que ocorrem em um intervalo conhecido."
      ],
      "metadata": {
        "id": "G5MuMWHDU07-"
      }
    },
    {
      "cell_type": "markdown",
      "source": [
        "Para exemplificar essa distribuição, vamos importar a seguinte biblioteca."
      ],
      "metadata": {
        "id": "gel2m29eVDns"
      }
    },
    {
      "cell_type": "code",
      "source": [
        "# Realizando a importação\n",
        "from scipy.stats import uniform"
      ],
      "metadata": {
        "id": "Or09qPXvVFw0"
      },
      "execution_count": null,
      "outputs": []
    },
    {
      "cell_type": "markdown",
      "source": [
        "Agora, finalmente, podemos criar a distribuição propriamente dita."
      ],
      "metadata": {
        "id": "N1H8TfqUVJ5k"
      }
    },
    {
      "cell_type": "code",
      "source": [
        "# Criando a distribuição\n",
        "dados_uniforme = uniform.rvs(size = 1000)"
      ],
      "metadata": {
        "id": "cMaBrtnkVKB7"
      },
      "execution_count": null,
      "outputs": []
    },
    {
      "cell_type": "markdown",
      "source": [
        "Visualizando a distribuição"
      ],
      "metadata": {
        "id": "sDH2tu8ZVNZK"
      }
    },
    {
      "cell_type": "code",
      "source": [
        "# Gerando o histograma\n",
        "sns.histplot(dados_uniforme, kde = True)\n",
        "plt.title(\"Distribuição uniforme\")\n",
        "\n",
        "# Exibindo a figura\n",
        "plt.show()"
      ],
      "metadata": {
        "colab": {
          "base_uri": "https://localhost:8080/",
          "height": 452
        },
        "id": "7RojLzx1VO1K",
        "outputId": "fd91c89b-c3fc-46b2-c3b9-8a9c293b04cd"
      },
      "execution_count": null,
      "outputs": [
        {
          "output_type": "display_data",
          "data": {
            "text/plain": [
              "<Figure size 640x480 with 1 Axes>"
            ],
            "image/png": "[encoded data removed]"
          },
          "metadata": {}
        }
      ]
    },
    {
      "cell_type": "markdown",
      "source": [
        "Podemos observar que, nesse caso, a distribuição é uma linha reta horizontal. É interessante notar que, quando temos uma lista com a acurácia de cada teste em modelos de machine learning, normalmente esses dados seguem uma distribuição uniforme. Vamos verificar isso mais detalhadamente."
      ],
      "metadata": {
        "id": "AY115LEZVr13"
      }
    },
    {
      "cell_type": "markdown",
      "source": [
        "### **Distribuição uniforme em Machine Learning**"
      ],
      "metadata": {
        "id": "h9ie_fthWnvY"
      }
    },
    {
      "cell_type": "markdown",
      "source": [
        "Como já utilizamos essa base de dados antes, vou realizar os passos de forma mais rápida e resumida dessa vez, para não perdermos o foco do objetivo, que é observar a distribuição dos resultados das saídas do modelo."
      ],
      "metadata": {
        "id": "OEXREaZBWt--"
      }
    },
    {
      "cell_type": "markdown",
      "source": [
        "#### **Carregamento dos dados**"
      ],
      "metadata": {
        "id": "HYlXsTlRW-FV"
      }
    },
    {
      "cell_type": "code",
      "source": [
        "# Importando as métricas de validação\n",
        "from sklearn.metrics import accuracy_score\n",
        "\n",
        "# Bilioteca para realizção de amostras estratificadas\n",
        "from sklearn.model_selection import train_test_split"
      ],
      "metadata": {
        "id": "jxQnGhs3XAfU"
      },
      "execution_count": null,
      "outputs": []
    },
    {
      "cell_type": "markdown",
      "source": [
        "Carregando os dados"
      ],
      "metadata": {
        "id": "T92xAK-DXIhV"
      }
    },
    {
      "cell_type": "code",
      "source": [
        "# Acesso ao drive\n",
        "from google.colab import drive\n",
        "drive.mount('/content/drive')"
      ],
      "metadata": {
        "colab": {
          "base_uri": "https://localhost:8080/"
        },
        "id": "aRm9JKubXIpz",
        "outputId": "9885e963-3402-4be0-9217-5e521f7d58cd"
      },
      "execution_count": null,
      "outputs": [
        {
          "output_type": "stream",
          "name": "stdout",
          "text": [
            "Mounted at /content/drive\n"
          ]
        }
      ]
    },
    {
      "cell_type": "code",
      "source": [
        "# Importando o dataset\n",
        "df = pd.read_csv('/content/drive/MyDrive/Estatística para ciência de dados/credit_data.csv')"
      ],
      "metadata": {
        "id": "Qu7S9aixXLCc"
      },
      "execution_count": null,
      "outputs": []
    },
    {
      "cell_type": "code",
      "source": [
        "# Removendo a coluna 'i#clientid' do Dataset\n",
        "df = df.drop('i#clientid', axis = 1)\n",
        "\n",
        "# Excluindo linhas com valores ausentes\n",
        "df = df.dropna()"
      ],
      "metadata": {
        "id": "K_RD-9CLXOmR"
      },
      "execution_count": null,
      "outputs": []
    },
    {
      "cell_type": "markdown",
      "source": [
        "#### **Machine Learning**"
      ],
      "metadata": {
        "id": "sQJolfcFXVrT"
      }
    },
    {
      "cell_type": "code",
      "source": [
        "# Importando os modelos\n",
        "from sklearn.naive_bayes import GaussianNB"
      ],
      "metadata": {
        "id": "TCi3bWeZXZRp"
      },
      "execution_count": null,
      "outputs": []
    },
    {
      "cell_type": "code",
      "source": [
        "# Separando os dados em X e Y\n",
        "\n",
        "# Variaveis preditoras\n",
        "X = df.drop('c#default', axis = 1)\n",
        "\n",
        "# Variavel resposta\n",
        "y = df['c#default']"
      ],
      "metadata": {
        "id": "ZSVC8c6SXaxa"
      },
      "execution_count": null,
      "outputs": []
    },
    {
      "cell_type": "code",
      "source": [
        "# Criando a lista para armazenar os resultado do Naive Bayes\n",
        "resultados_naive_bayes = []"
      ],
      "metadata": {
        "id": "dZvRBSy_Xevo"
      },
      "execution_count": null,
      "outputs": []
    },
    {
      "cell_type": "code",
      "source": [
        "# Criando o laço\n",
        "for i in range(30):\n",
        "  # Realizando a divisão entre os dados de treino e teste\n",
        "  X_treinamento, X_teste, y_treinamento, y_teste = train_test_split(X, y, test_size = 0.2,\n",
        "                                                                   stratify = y, random_state = i)\n",
        "\n",
        "  # Criando o modelo\n",
        "  naive_bayes = GaussianNB()\n",
        "\n",
        "  # Treinando o modelo\n",
        "  naive_bayes.fit(X_treinamento, y_treinamento)\n",
        "\n",
        "  # Incrementando o resultado da acurácia na lista criada anteriormente\n",
        "  resultados_naive_bayes.append(accuracy_score(y_teste, naive_bayes.predict(X_teste)))"
      ],
      "metadata": {
        "id": "JaJnYHVtXh-o"
      },
      "execution_count": null,
      "outputs": []
    },
    {
      "cell_type": "markdown",
      "source": [
        "Com todas as etapas de Machine Learning concluídas, podemos agora partir para a visualização dos dados."
      ],
      "metadata": {
        "id": "FhoxwX-0Xo7R"
      }
    },
    {
      "cell_type": "markdown",
      "source": [
        "#### **Visualização**"
      ],
      "metadata": {
        "id": "hco9Xqf8Xw5o"
      }
    },
    {
      "cell_type": "code",
      "source": [
        "# Gerando o histograma\n",
        "sns.histplot(resultados_naive_bayes, kde = True, bins = 10)\n",
        "plt.title(\"Distribuição resultados ML\")\n",
        "\n",
        "# Exibindo a figura\n",
        "plt.show()"
      ],
      "metadata": {
        "colab": {
          "base_uri": "https://localhost:8080/",
          "height": 452
        },
        "id": "qYxb4ov5Xyy-",
        "outputId": "e5d4e298-61be-4410-ce6c-0a50fda462db"
      },
      "execution_count": null,
      "outputs": [
        {
          "output_type": "display_data",
          "data": {
            "text/plain": [
              "<Figure size 640x480 with 1 Axes>"
            ],
            "image/png": "[encoded data removed]"
          },
          "metadata": {}
        }
      ]
    },
    {
      "cell_type": "markdown",
      "source": [
        "Observamos que a distribuição segue uma distribuição uniforme. No entanto, a variância dos dados também pode influenciar o formato da distribuição. Em geral, os resultados de modelos de Machine Learning seguem uma distribuição uniforme."
      ],
      "metadata": {
        "id": "HlXYgihcYb4y"
      }
    },
    {
      "cell_type": "markdown",
      "source": [
        "# **Variáveis discretas**"
      ],
      "metadata": {
        "id": "QvfK8GuGt3-N"
      }
    },
    {
      "cell_type": "markdown",
      "source": [
        "## Breve Resumo:\n",
        "\n",
        "Variáveis discretas são variáveis que podem assumir apenas um número finito ou infinito contável de valores. Por exemplo, o número de filhos que uma pessoa tem, o número de vezes que uma pessoa visita um site ou o número de vezes que uma máquina quebra são todos exemplos de variáveis discretas. (Números inteiros)"
      ],
      "metadata": {
        "id": "jJuD3fyEuGTL"
      }
    },
    {
      "cell_type": "markdown",
      "source": [
        "## **Distribuição de Bernoulli**"
      ],
      "metadata": {
        "id": "_MvKljTvuqEw"
      }
    },
    {
      "cell_type": "markdown",
      "source": [
        "\n",
        "Breve Resumo:\n",
        "\n",
        "A distribuição de Bernoulli é uma distribuição de probabilidade discreta que descreve a probabilidade de um evento ocorrer ou não ocorrer. A distribuição de Bernoulli é caracterizada por dois parâmetros:\n",
        "\n",
        "- P: a probabilidade de sucesso\n",
        "- Q: a probabilidade de fracasso, que é igual a 1 - p\n",
        "\n",
        "Quando Utilizar:\n",
        "\n",
        "- Sempre que se deseja modelar um evento que pode ocorrer ou não ocorrer.\n",
        "- Sempre que se deseja estimar a probabilidade de ocorrência de um evento."
      ],
      "metadata": {
        "id": "YHlYryRluu12"
      }
    },
    {
      "cell_type": "markdown",
      "source": [
        "Para exemplificar essa distribuição, vamos importar a seguinte biblioteca."
      ],
      "metadata": {
        "id": "JvbtNEhfvGNT"
      }
    },
    {
      "cell_type": "code",
      "source": [
        "# Realizando a importação\n",
        "from scipy.stats import bernoulli"
      ],
      "metadata": {
        "id": "HKET2FRFvGv0"
      },
      "execution_count": 2,
      "outputs": []
    },
    {
      "cell_type": "markdown",
      "source": [
        "Com a importação concluída podemos seguir adiante."
      ],
      "metadata": {
        "id": "mavj44pgvN2T"
      }
    },
    {
      "cell_type": "code",
      "source": [
        "# Criando a distribuição\n",
        "dados_bernoulli = bernoulli.rvs(size = 1000, p = 0.3)"
      ],
      "metadata": {
        "id": "3NUhityTvUBB"
      },
      "execution_count": 3,
      "outputs": []
    },
    {
      "cell_type": "markdown",
      "source": [
        "É importante ressaltar que, ao passarmos o parâmetro 'p' = 0.3, estamos afirmando que 30% de todos os registros serão positivos. Nesse caso, esses registros serão representados pelo número 1. Vamos analisar isso mais a fundo."
      ],
      "metadata": {
        "id": "b9A55FyzvklA"
      }
    },
    {
      "cell_type": "markdown",
      "source": [
        "Visualizando a distribuição"
      ],
      "metadata": {
        "id": "rHbBlWqSvZPw"
      }
    },
    {
      "cell_type": "code",
      "source": [
        "# Gerando o histograma\n",
        "sns.histplot(dados_bernoulli, kde = True)\n",
        "plt.title(\"Distribuição de Bernoulli\")\n",
        "\n",
        "# Exibindo a figura\n",
        "plt.show()"
      ],
      "metadata": {
        "colab": {
          "base_uri": "https://localhost:8080/",
          "height": 452
        },
        "id": "bqWkFQaAvZrx",
        "outputId": "a83a09a1-7752-4b4e-c52f-05a7e9400d1f"
      },
      "execution_count": 4,
      "outputs": [
        {
          "output_type": "display_data",
          "data": {
            "text/plain": [
              "<Figure size 640x480 with 1 Axes>"
            ],
            "image/png": "[encoded data removed]"
          },
          "metadata": {}
        }
      ]
    },
    {
      "cell_type": "markdown",
      "source": [
        "Agora podemos confirmar que 30% dos nossos dados representam o valor 1."
      ],
      "metadata": {
        "id": "vwJFKNsKv9P1"
      }
    },
    {
      "cell_type": "markdown",
      "source": [
        "## **Distribuição binomial**"
      ],
      "metadata": {
        "id": "KC-41p3rwLf6"
      }
    },
    {
      "cell_type": "markdown",
      "source": [
        "\n",
        "Breve Resumo:\n",
        "\n",
        "A distribuição binomial é uma distribuição de probabilidade discreta que descreve a probabilidade de um número fixo de sucessos em uma sequência de n tentativas independentes. A distribuição binomial é caracterizada por dois parâmetros:\n",
        "\n",
        "- n: o número de tentativas\n",
        "- p: a probabilidade de sucesso em cada tentativa\n",
        "\n",
        "Quando Utilizar:\n",
        "\n",
        "- Sempre que se deseja modelar o número de sucessos em uma sequência de tentativas independentes.\n",
        "- Sempre que se deseja estimar a probabilidade de ocorrência de um número fixo de sucessos em uma sequência de tentativas independentes."
      ],
      "metadata": {
        "id": "ZygzKzWXwafa"
      }
    },
    {
      "cell_type": "markdown",
      "source": [
        "Seguiremos o mesmo protocolo e importaremos a biblioteca necessária para exemplificação dessa distribuição."
      ],
      "metadata": {
        "id": "IRXytkN8w8o-"
      }
    },
    {
      "cell_type": "code",
      "source": [
        "# Realizando a importação\n",
        "from scipy.stats import binom"
      ],
      "metadata": {
        "id": "ypQ0H3m_xA_d"
      },
      "execution_count": 5,
      "outputs": []
    },
    {
      "cell_type": "markdown",
      "source": [
        "Agora podemos seguir adiante."
      ],
      "metadata": {
        "id": "XHHyZe79xFf8"
      }
    },
    {
      "cell_type": "code",
      "source": [
        "# Criando a distribuição\n",
        "dados_binomial = binom.rvs(size = 1000, n = 10, p = 0.7)"
      ],
      "metadata": {
        "id": "iie02k4ExIQ7"
      },
      "execution_count": 10,
      "outputs": []
    },
    {
      "cell_type": "markdown",
      "source": [
        "Criando a visualização"
      ],
      "metadata": {
        "id": "z2cTtbn1xTSK"
      }
    },
    {
      "cell_type": "code",
      "source": [
        "# Gerando o histograma\n",
        "sns.histplot(dados_binomial, kde = False)\n",
        "plt.title(\"Distribuição binomial\")\n",
        "\n",
        "# Exibindo a figura\n",
        "plt.show()"
      ],
      "metadata": {
        "colab": {
          "base_uri": "https://localhost:8080/",
          "height": 452
        },
        "id": "uwFpVkiixEW8",
        "outputId": "6fc78188-b4d1-4eda-bed6-0bc0a7e436d5"
      },
      "execution_count": 12,
      "outputs": [
        {
          "output_type": "display_data",
          "data": {
            "text/plain": [
              "<Figure size 640x480 with 1 Axes>"
            ],
            "image/png": "[encoded data removed]"
          },
          "metadata": {}
        }
      ]
    },
    {
      "cell_type": "markdown",
      "source": [
        "Neste caso da distribuição binomial, é como se tivéssemos 10 classes e estivéssemos calculando a probabilidade de sucesso para cada classe."
      ],
      "metadata": {
        "id": "9RyR-DHOyDe-"
      }
    },
    {
      "cell_type": "markdown",
      "source": [
        "##**Distribuição de poisson**"
      ],
      "metadata": {
        "id": "M91iH7Y7zn_K"
      }
    },
    {
      "cell_type": "markdown",
      "source": [
        "Breve Resumo:\n",
        "\n",
        "A distribuição de Poisson é uma distribuição de probabilidade discreta que descreve a probabilidade de um número fixo de eventos ocorrer em um intervalo de tempo ou espaço fixo. A distribuição de Poisson é caracterizada por um único parâmetro:\n",
        "\n",
        "- λ: a taxa média de eventos por intervalo de tempo ou espaço\n",
        "\n",
        "Quando Utilizar:\n",
        "\n",
        "- Sempre que se deseja modelar o número de eventos que ocorrem em um intervalo de tempo ou espaço fixo.\n",
        "- Sempre que se deseja estimar a probabilidade de ocorrência de um número fixo de eventos em um intervalo de tempo ou espaço fixo."
      ],
      "metadata": {
        "id": "ixGV_EQKztO4"
      }
    },
    {
      "cell_type": "markdown",
      "source": [
        "Importando biblioteca para exemplificação"
      ],
      "metadata": {
        "id": "WNmweJBbzxvg"
      }
    },
    {
      "cell_type": "code",
      "source": [
        "# Realizando a importação\n",
        "from scipy.stats import poisson"
      ],
      "metadata": {
        "id": "4G23ATaZzz0I"
      },
      "execution_count": 13,
      "outputs": []
    },
    {
      "cell_type": "markdown",
      "source": [
        "Continuando com a criação"
      ],
      "metadata": {
        "id": "j2hmQbIyz9DP"
      }
    },
    {
      "cell_type": "code",
      "source": [
        "# Criando a distribuição\n",
        "dados_poisson = poisson.rvs(size = 1000, mu = 1)"
      ],
      "metadata": {
        "id": "VsoN9PVXz5EP"
      },
      "execution_count": 14,
      "outputs": []
    },
    {
      "cell_type": "markdown",
      "source": [
        "Observando a a distribuição"
      ],
      "metadata": {
        "id": "jCXKN7VH0FW2"
      }
    },
    {
      "cell_type": "code",
      "source": [
        "# Gerando o histograma\n",
        "sns.histplot(dados_binomial, kde = False)\n",
        "plt.title(\"Distribuição de poisson\")\n",
        "\n",
        "# Exibindo a figura\n",
        "plt.show()"
      ],
      "metadata": {
        "colab": {
          "base_uri": "https://localhost:8080/",
          "height": 452
        },
        "id": "Vt2Rh8E90HR3",
        "outputId": "97e23dfe-00fd-42d4-ed1b-9f39e31cf0e1"
      },
      "execution_count": 15,
      "outputs": [
        {
          "output_type": "display_data",
          "data": {
            "text/plain": [
              "<Figure size 640x480 with 1 Axes>"
            ],
            "image/png": "[encoded data removed]"
          },
          "metadata": {}
        }
      ]
    },
    {
      "cell_type": "markdown",
      "source": [
        "A distribuição binomial exibe a quantidade de vezes que um evento ocorreu em determinado intervalo. No caso do gráfico acima, podemos imaginar que ele representa o número de ligações que um determinado serviço teve. Isso significa que às 4 horas foram recebidas quase 50 ligações. Por volta das 3 horas, foi o horário com o menor número de ligações, e assim sucessivamente."
      ],
      "metadata": {
        "id": "OHrwKgbj0Ldm"
      }
    },
    {
      "cell_type": "markdown",
      "source": [
        "## **Exercicio**"
      ],
      "metadata": {
        "id": "E1Qc0xDD0oSh"
      }
    },
    {
      "cell_type": "markdown",
      "source": [
        "O objetivo é utilizar a base de dados do censo para **identificar as distribuições para cada um dos atributos.** Para isso, carregue o arquivo census.csv e gere o histograma para cada atributo"
      ],
      "metadata": {
        "id": "dpPLKz9J0svJ"
      }
    },
    {
      "cell_type": "markdown",
      "source": [
        "### **Carregando os dados**"
      ],
      "metadata": {
        "id": "KGCcc9Zn2lID"
      }
    },
    {
      "cell_type": "code",
      "source": [
        "# Acesso ao drive\n",
        "from google.colab import drive\n",
        "drive.mount('/content/drive')"
      ],
      "metadata": {
        "colab": {
          "base_uri": "https://localhost:8080/"
        },
        "id": "n70KfpCP3J1O",
        "outputId": "d7261ca9-2cca-4cf1-faaa-b1de5273e443"
      },
      "execution_count": 16,
      "outputs": [
        {
          "output_type": "stream",
          "name": "stdout",
          "text": [
            "Mounted at /content/drive\n"
          ]
        }
      ]
    },
    {
      "cell_type": "markdown",
      "source": [
        "Importando os pacotes necessários"
      ],
      "metadata": {
        "id": "QPpzWCJE3NdG"
      }
    },
    {
      "cell_type": "code",
      "source": [
        "# Manipulação de dados\n",
        "import pandas as pd\n",
        "\n",
        "# Algébra linear\n",
        "import numpy as np\n",
        "\n",
        "# Funções estatísticas\n",
        "import statistics\n",
        "\n",
        "# Visualização de dados\n",
        "import matplotlib.pyplot as plt\n",
        "import seaborn as sns"
      ],
      "metadata": {
        "id": "In7SlHVk3PYo"
      },
      "execution_count": 24,
      "outputs": []
    },
    {
      "cell_type": "code",
      "source": [
        "# Importando o dataset\n",
        "df = pd.read_csv('/content/drive/MyDrive/Estatística para ciência de dados/census.csv')"
      ],
      "metadata": {
        "id": "bykbjsCU3vKK"
      },
      "execution_count": 18,
      "outputs": []
    },
    {
      "cell_type": "code",
      "source": [
        "# Observando os dados\n",
        "df.head()"
      ],
      "metadata": {
        "colab": {
          "base_uri": "https://localhost:8080/",
          "height": 206
        },
        "id": "TT-zcFH_33Jp",
        "outputId": "eddaab6f-5a0e-419f-b68c-e5309ed0ddf2"
      },
      "execution_count": 19,
      "outputs": [
        {
          "output_type": "execute_result",
          "data": {
            "text/plain": [
              "   age          workclass  final-weight   education  education-num  \\\n",
              "0   39          State-gov         77516   Bachelors             13   \n",
              "1   50   Self-emp-not-inc         83311   Bachelors             13   \n",
              "2   38            Private        215646     HS-grad              9   \n",
              "3   53            Private        234721        11th              7   \n",
              "4   28            Private        338409   Bachelors             13   \n",
              "\n",
              "        marital-status          occupation    relationship    race      sex  \\\n",
              "0        Never-married        Adm-clerical   Not-in-family   White     Male   \n",
              "1   Married-civ-spouse     Exec-managerial         Husband   White     Male   \n",
              "2             Divorced   Handlers-cleaners   Not-in-family   White     Male   \n",
              "3   Married-civ-spouse   Handlers-cleaners         Husband   Black     Male   \n",
              "4   Married-civ-spouse      Prof-specialty            Wife   Black   Female   \n",
              "\n",
              "   capital-gain  capital-loos  hour-per-week  native-country  income  \n",
              "0          2174             0             40   United-States   <=50K  \n",
              "1             0             0             13   United-States   <=50K  \n",
              "2             0             0             40   United-States   <=50K  \n",
              "3             0             0             40   United-States   <=50K  \n",
              "4             0             0             40            Cuba   <=50K  "
            ],
            "text/html": [
              "\n",
              "  <div id=\"df-b22ff082-1aad-4983-ac47-b82d3f1a79b4\" class=\"colab-df-container\">\n",
              "    <div>\n",
              "<style scoped>\n",
              "    .dataframe tbody tr th:only-of-type {\n",
              "        vertical-align: middle;\n",
              "    }\n",
              "\n",
              "    .dataframe tbody tr th {\n",
              "        vertical-align: top;\n",
              "    }\n",
              "\n",
              "    .dataframe thead th {\n",
              "        text-align: right;\n",
              "    }\n",
              "</style>\n",
              "<table border=\"1\" class=\"dataframe\">\n",
              "  <thead>\n",
              "    <tr style=\"text-align: right;\">\n",
              "      <th></th>\n",
              "      <th>age</th>\n",
              "      <th>workclass</th>\n",
              "      <th>final-weight</th>\n",
              "      <th>education</th>\n",
              "      <th>education-num</th>\n",
              "      <th>marital-status</th>\n",
              "      <th>occupation</th>\n",
              "      <th>relationship</th>\n",
              "      <th>race</th>\n",
              "      <th>sex</th>\n",
              "      <th>capital-gain</th>\n",
              "      <th>capital-loos</th>\n",
              "      <th>hour-per-week</th>\n",
              "      <th>native-country</th>\n",
              "      <th>income</th>\n",
              "    </tr>\n",
              "  </thead>\n",
              "  <tbody>\n",
              "    <tr>\n",
              "      <th>0</th>\n",
              "      <td>39</td>\n",
              "      <td>State-gov</td>\n",
              "      <td>77516</td>\n",
              "      <td>Bachelors</td>\n",
              "      <td>13</td>\n",
              "      <td>Never-married</td>\n",
              "      <td>Adm-clerical</td>\n",
              "      <td>Not-in-family</td>\n",
              "      <td>White</td>\n",
              "      <td>Male</td>\n",
              "      <td>2174</td>\n",
              "      <td>0</td>\n",
              "      <td>40</td>\n",
              "      <td>United-States</td>\n",
              "      <td>&lt;=50K</td>\n",
              "    </tr>\n",
              "    <tr>\n",
              "      <th>1</th>\n",
              "      <td>50</td>\n",
              "      <td>Self-emp-not-inc</td>\n",
              "      <td>83311</td>\n",
              "      <td>Bachelors</td>\n",
              "      <td>13</td>\n",
              "      <td>Married-civ-spouse</td>\n",
              "      <td>Exec-managerial</td>\n",
              "      <td>Husband</td>\n",
              "      <td>White</td>\n",
              "      <td>Male</td>\n",
              "      <td>0</td>\n",
              "      <td>0</td>\n",
              "      <td>13</td>\n",
              "      <td>United-States</td>\n",
              "      <td>&lt;=50K</td>\n",
              "    </tr>\n",
              "    <tr>\n",
              "      <th>2</th>\n",
              "      <td>38</td>\n",
              "      <td>Private</td>\n",
              "      <td>215646</td>\n",
              "      <td>HS-grad</td>\n",
              "      <td>9</td>\n",
              "      <td>Divorced</td>\n",
              "      <td>Handlers-cleaners</td>\n",
              "      <td>Not-in-family</td>\n",
              "      <td>White</td>\n",
              "      <td>Male</td>\n",
              "      <td>0</td>\n",
              "      <td>0</td>\n",
              "      <td>40</td>\n",
              "      <td>United-States</td>\n",
              "      <td>&lt;=50K</td>\n",
              "    </tr>\n",
              "    <tr>\n",
              "      <th>3</th>\n",
              "      <td>53</td>\n",
              "      <td>Private</td>\n",
              "      <td>234721</td>\n",
              "      <td>11th</td>\n",
              "      <td>7</td>\n",
              "      <td>Married-civ-spouse</td>\n",
              "      <td>Handlers-cleaners</td>\n",
              "      <td>Husband</td>\n",
              "      <td>Black</td>\n",
              "      <td>Male</td>\n",
              "      <td>0</td>\n",
              "      <td>0</td>\n",
              "      <td>40</td>\n",
              "      <td>United-States</td>\n",
              "      <td>&lt;=50K</td>\n",
              "    </tr>\n",
              "    <tr>\n",
              "      <th>4</th>\n",
              "      <td>28</td>\n",
              "      <td>Private</td>\n",
              "      <td>338409</td>\n",
              "      <td>Bachelors</td>\n",
              "      <td>13</td>\n",
              "      <td>Married-civ-spouse</td>\n",
              "      <td>Prof-specialty</td>\n",
              "      <td>Wife</td>\n",
              "      <td>Black</td>\n",
              "      <td>Female</td>\n",
              "      <td>0</td>\n",
              "      <td>0</td>\n",
              "      <td>40</td>\n",
              "      <td>Cuba</td>\n",
              "      <td>&lt;=50K</td>\n",
              "    </tr>\n",
              "  </tbody>\n",
              "</table>\n",
              "</div>\n",
              "    <div class=\"colab-df-buttons\">\n",
              "\n",
              "  <div class=\"colab-df-container\">\n",
              "    <button class=\"colab-df-convert\" onclick=\"convertToInteractive('df-b22ff082-1aad-4983-ac47-b82d3f1a79b4')\"\n",
              "            title=\"Convert this dataframe to an interactive table.\"\n",
              "            style=\"display:none;\">\n",
              "\n",
              "  <svg xmlns=\"http://www.w3.org/2000/svg\" height=\"24px\" viewBox=\"0 -960 960 960\">\n",
              "    <path d=\"M120-120v-720h720v720H120Zm60-500h600v-160H180v160Zm220 220h160v-160H400v160Zm0 220h160v-160H400v160ZM180-400h160v-160H180v160Zm440 0h160v-160H620v160ZM180-180h160v-160H180v160Zm440 0h160v-160H620v160Z\"/>\n",
              "  </svg>\n",
              "    </button>\n",
              "\n",
              "  <style>\n",
              "    .colab-df-container {\n",
              "      display:flex;\n",
              "      gap: 12px;\n",
              "    }\n",
              "\n",
              "    .colab-df-convert {\n",
              "      background-color: #E8F0FE;\n",
              "      border: none;\n",
              "      border-radius: 50%;\n",
              "      cursor: pointer;\n",
              "      display: none;\n",
              "      fill: #1967D2;\n",
              "      height: 32px;\n",
              "      padding: 0 0 0 0;\n",
              "      width: 32px;\n",
              "    }\n",
              "\n",
              "    .colab-df-convert:hover {\n",
              "      background-color: #E2EBFA;\n",
              "      box-shadow: 0px 1px 2px rgba(60, 64, 67, 0.3), 0px 1px 3px 1px rgba(60, 64, 67, 0.15);\n",
              "      fill: #174EA6;\n",
              "    }\n",
              "\n",
              "    .colab-df-buttons div {\n",
              "      margin-bottom: 4px;\n",
              "    }\n",
              "\n",
              "    [theme=dark] .colab-df-convert {\n",
              "      background-color: #3B4455;\n",
              "      fill: #D2E3FC;\n",
              "    }\n",
              "\n",
              "    [theme=dark] .colab-df-convert:hover {\n",
              "      background-color: #434B5C;\n",
              "      box-shadow: 0px 1px 3px 1px rgba(0, 0, 0, 0.15);\n",
              "      filter: drop-shadow(0px 1px 2px rgba(0, 0, 0, 0.3));\n",
              "      fill: #FFFFFF;\n",
              "    }\n",
              "  </style>\n",
              "\n",
              "    <script>\n",
              "      const buttonEl =\n",
              "        document.querySelector('#df-b22ff082-1aad-4983-ac47-b82d3f1a79b4 button.colab-df-convert');\n",
              "      buttonEl.style.display =\n",
              "        google.colab.kernel.accessAllowed ? 'block' : 'none';\n",
              "\n",
              "      async function convertToInteractive(key) {\n",
              "        const element = document.querySelector('#df-b22ff082-1aad-4983-ac47-b82d3f1a79b4');\n",
              "        const dataTable =\n",
              "          await google.colab.kernel.invokeFunction('convertToInteractive',\n",
              "                                                    [key], {});\n",
              "        if (!dataTable) return;\n",
              "\n",
              "        const docLinkHtml = 'Like what you see? Visit the ' +\n",
              "          '<a target=\"_blank\" href=https://colab.research.google.com/notebooks/data_table.ipynb>data table notebook</a>'\n",
              "          + ' to learn more about interactive tables.';\n",
              "        element.innerHTML = '';\n",
              "        dataTable['output_type'] = 'display_data';\n",
              "        await google.colab.output.renderOutput(dataTable, element);\n",
              "        const docLink = document.createElement('div');\n",
              "        docLink.innerHTML = docLinkHtml;\n",
              "        element.appendChild(docLink);\n",
              "      }\n",
              "    </script>\n",
              "  </div>\n",
              "\n",
              "\n",
              "<div id=\"df-c015c60c-4c7d-452c-8bc6-cdc58bb026fb\">\n",
              "  <button class=\"colab-df-quickchart\" onclick=\"quickchart('df-c015c60c-4c7d-452c-8bc6-cdc58bb026fb')\"\n",
              "            title=\"Suggest charts\"\n",
              "            style=\"display:none;\">\n",
              "\n",
              "<svg xmlns=\"http://www.w3.org/2000/svg\" height=\"24px\"viewBox=\"0 0 24 24\"\n",
              "     width=\"24px\">\n",
              "    <g>\n",
              "        <path d=\"M19 3H5c-1.1 0-2 .9-2 2v14c0 1.1.9 2 2 2h14c1.1 0 2-.9 2-2V5c0-1.1-.9-2-2-2zM9 17H7v-7h2v7zm4 0h-2V7h2v10zm4 0h-2v-4h2v4z\"/>\n",
              "    </g>\n",
              "</svg>\n",
              "  </button>\n",
              "\n",
              "<style>\n",
              "  .colab-df-quickchart {\n",
              "      --bg-color: #E8F0FE;\n",
              "      --fill-color: #1967D2;\n",
              "      --hover-bg-color: #E2EBFA;\n",
              "      --hover-fill-color: #174EA6;\n",
              "      --disabled-fill-color: #AAA;\n",
              "      --disabled-bg-color: #DDD;\n",
              "  }\n",
              "\n",
              "  [theme=dark] .colab-df-quickchart {\n",
              "      --bg-color: #3B4455;\n",
              "      --fill-color: #D2E3FC;\n",
              "      --hover-bg-color: #434B5C;\n",
              "      --hover-fill-color: #FFFFFF;\n",
              "      --disabled-bg-color: #3B4455;\n",
              "      --disabled-fill-color: #666;\n",
              "  }\n",
              "\n",
              "  .colab-df-quickchart {\n",
              "    background-color: var(--bg-color);\n",
              "    border: none;\n",
              "    border-radius: 50%;\n",
              "    cursor: pointer;\n",
              "    display: none;\n",
              "    fill: var(--fill-color);\n",
              "    height: 32px;\n",
              "    padding: 0;\n",
              "    width: 32px;\n",
              "  }\n",
              "\n",
              "  .colab-df-quickchart:hover {\n",
              "    background-color: var(--hover-bg-color);\n",
              "    box-shadow: 0 1px 2px rgba(60, 64, 67, 0.3), 0 1px 3px 1px rgba(60, 64, 67, 0.15);\n",
              "    fill: var(--button-hover-fill-color);\n",
              "  }\n",
              "\n",
              "  .colab-df-quickchart-complete:disabled,\n",
              "  .colab-df-quickchart-complete:disabled:hover {\n",
              "    background-color: var(--disabled-bg-color);\n",
              "    fill: var(--disabled-fill-color);\n",
              "    box-shadow: none;\n",
              "  }\n",
              "\n",
              "  .colab-df-spinner {\n",
              "    border: 2px solid var(--fill-color);\n",
              "    border-color: transparent;\n",
              "    border-bottom-color: var(--fill-color);\n",
              "    animation:\n",
              "      spin 1s steps(1) infinite;\n",
              "  }\n",
              "\n",
              "  @keyframes spin {\n",
              "    0% {\n",
              "      border-color: transparent;\n",
              "      border-bottom-color: var(--fill-color);\n",
              "      border-left-color: var(--fill-color);\n",
              "    }\n",
              "    20% {\n",
              "      border-color: transparent;\n",
              "      border-left-color: var(--fill-color);\n",
              "      border-top-color: var(--fill-color);\n",
              "    }\n",
              "    30% {\n",
              "      border-color: transparent;\n",
              "      border-left-color: var(--fill-color);\n",
              "      border-top-color: var(--fill-color);\n",
              "      border-right-color: var(--fill-color);\n",
              "    }\n",
              "    40% {\n",
              "      border-color: transparent;\n",
              "      border-right-color: var(--fill-color);\n",
              "      border-top-color: var(--fill-color);\n",
              "    }\n",
              "    60% {\n",
              "      border-color: transparent;\n",
              "      border-right-color: var(--fill-color);\n",
              "    }\n",
              "    80% {\n",
              "      border-color: transparent;\n",
              "      border-right-color: var(--fill-color);\n",
              "      border-bottom-color: var(--fill-color);\n",
              "    }\n",
              "    90% {\n",
              "      border-color: transparent;\n",
              "      border-bottom-color: var(--fill-color);\n",
              "    }\n",
              "  }\n",
              "</style>\n",
              "\n",
              "  <script>\n",
              "    async function quickchart(key) {\n",
              "      const quickchartButtonEl =\n",
              "        document.querySelector('#' + key + ' button');\n",
              "      quickchartButtonEl.disabled = true;  // To prevent multiple clicks.\n",
              "      quickchartButtonEl.classList.add('colab-df-spinner');\n",
              "      try {\n",
              "        const charts = await google.colab.kernel.invokeFunction(\n",
              "            'suggestCharts', [key], {});\n",
              "      } catch (error) {\n",
              "        console.error('Error during call to suggestCharts:', error);\n",
              "      }\n",
              "      quickchartButtonEl.classList.remove('colab-df-spinner');\n",
              "      quickchartButtonEl.classList.add('colab-df-quickchart-complete');\n",
              "    }\n",
              "    (() => {\n",
              "      let quickchartButtonEl =\n",
              "        document.querySelector('#df-c015c60c-4c7d-452c-8bc6-cdc58bb026fb button');\n",
              "      quickchartButtonEl.style.display =\n",
              "        google.colab.kernel.accessAllowed ? 'block' : 'none';\n",
              "    })();\n",
              "  </script>\n",
              "</div>\n",
              "    </div>\n",
              "  </div>\n"
            ]
          },
          "metadata": {},
          "execution_count": 19
        }
      ]
    },
    {
      "cell_type": "markdown",
      "source": [
        "Agora que já tivemos um pouco de noção a respeito desses dados podemos começar a gerar as distribuições para cada atribuito presente nessa base de dados"
      ],
      "metadata": {
        "id": "-B3YGyxM4GRf"
      }
    },
    {
      "cell_type": "markdown",
      "source": [
        "### Age"
      ],
      "metadata": {
        "id": "vYBp5JKt4QBm"
      }
    },
    {
      "cell_type": "markdown",
      "source": [
        "Observando a distribuição da coluna 'age'"
      ],
      "metadata": {
        "id": "goDU8PrO48vR"
      }
    },
    {
      "cell_type": "code",
      "source": [
        "# Gerando o histograma\n",
        "sns.histplot(df['age'], kde = True)\n",
        "plt.title(\"Distribuição de age\")\n",
        "\n",
        "# Exibindo a figura\n",
        "plt.show()"
      ],
      "metadata": {
        "colab": {
          "base_uri": "https://localhost:8080/",
          "height": 472
        },
        "id": "RSp4Kr_34WK8",
        "outputId": "7c823ef8-2ab6-4411-8bf3-c482a0ef03d9"
      },
      "execution_count": 23,
      "outputs": [
        {
          "output_type": "display_data",
          "data": {
            "text/plain": [
              "<Figure size 640x480 with 1 Axes>"
            ],
            "image/png": "[encoded data removed]"
          },
          "metadata": {}
        }
      ]
    },
    {
      "cell_type": "markdown",
      "source": [
        "Analisando algumas medidas"
      ],
      "metadata": {
        "id": "imfXWf3t5Ebw"
      }
    },
    {
      "cell_type": "code",
      "source": [
        "# Calculando a média\n",
        "media_age = df['age'].mean()\n",
        "\n",
        "# Calculando a mediana\n",
        "mediana_age = np.median(df['age'])\n",
        "\n",
        "# Calculando a moda\n",
        "moda_age = statistics.mode(df['age'])\n",
        "\n",
        "print(f\"A média é: {media_age}, a mediana é: {mediana_age} e a moda é: {moda_age}\")"
      ],
      "metadata": {
        "colab": {
          "base_uri": "https://localhost:8080/"
        },
        "id": "h3GKZ57h5eJO",
        "outputId": "4a638560-19ba-4a6e-efbd-848f2527a3f7"
      },
      "execution_count": 25,
      "outputs": [
        {
          "output_type": "stream",
          "name": "stdout",
          "text": [
            "A média é: 38.58164675532078, a mediana é: 37.0 e a moda é: 36\n"
          ]
        }
      ]
    },
    {
      "cell_type": "markdown",
      "source": [
        "Aparentemente essa distribuição se trata de uma **distribição gama**, já que podemos observar claramente uma cauda maior a direita, além de que a média é maior que a mediana e a moda, essas caracteristicas são referentes justamente a distribuição gama"
      ],
      "metadata": {
        "id": "sKj1G0DN5Enh"
      }
    }
  ]
}