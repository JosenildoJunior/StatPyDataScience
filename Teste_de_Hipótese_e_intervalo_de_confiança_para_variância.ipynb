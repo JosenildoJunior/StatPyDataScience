{
  "nbformat": 4,
  "nbformat_minor": 0,
  "metadata": {
    "colab": {
      "provenance": [],
      "collapsed_sections": [
        "ZtFL_TFRF660"
      ],
      "authorship_tag": "ABX9TyP4gR/l0XD8n9kzUYUViT0c",
      "include_colab_link": true
    },
    "kernelspec": {
      "name": "python3",
      "display_name": "Python 3"
    },
    "language_info": {
      "name": "python"
    }
  },
  "cells": [
    {
      "cell_type": "markdown",
      "metadata": {
        "id": "view-in-github",
        "colab_type": "text"
      },
      "source": [
        "<a href=\"https://colab.research.google.com/github/JosenildoJunior/StatPyDataScience/blob/main/Teste_de_Hip%C3%B3tese_e_intervalo_de_confian%C3%A7a_para_vari%C3%A2ncia.ipynb\" target=\"_parent\"><img src=\"https://colab.research.google.com/assets/colab-badge.svg\" alt=\"Open In Colab\"/></a>"
      ]
    },
    {
      "cell_type": "markdown",
      "source": [
        "# **Intervalo de confiança para variância e desvio padrão (1 amostra)**"
      ],
      "metadata": {
        "id": "ZtFL_TFRF660"
      }
    },
    {
      "cell_type": "markdown",
      "source": [
        "**Breve Resumo:**\n",
        "Um intervalo de confiança para a variância de uma população com base em uma amostra única de dados nos fornece uma faixa de valores plausíveis para a variância populacional com um certo nível de confiança."
      ],
      "metadata": {
        "id": "aKPaVqCpGJMj"
      }
    },
    {
      "cell_type": "markdown",
      "source": [
        "Quando Utilizar:\n",
        "\n",
        "Quando desejamos fazer inferências sobre a variabilidade de uma população com base em uma amostra.\n",
        "Quando queremos especificar um nível de confiança para a estimativa da variância populacional.\n",
        "\n",
        "Fórmula do Intervalo de Confiança: $\n",
        "\\left( \\frac{{(n - 1) \\cdot s^2}}{{\\chi_{\\alpha/2}^2}}, \\frac{{(n - 1) \\cdot s^2}}{{\\chi_{1 - \\alpha/2}^2}} \\right)$\n",
        "\n",
        "Onde:\n",
        "\n",
        "- **n** é o tamanho da amostra.\n",
        "\n",
        "- **s²** é a variância amostral.\n",
        "\n",
        "- **χ²/₂²** é o quantil da distribuição qui-quadrado com **n-1** graus de liberdade para o nível de significância **α/2**.\n",
        "\n",
        "- **χ₁₋α/₂²** é o quantil da distribuição qui-quadrado com **n-1** graus de liberdade para o complemento do nível de significância **1-α/2**.\n"
      ],
      "metadata": {
        "id": "aCKlEXkrGMHj"
      }
    },
    {
      "cell_type": "markdown",
      "source": [
        "Vamos observar um exemplo para tentarmos entender melhor\n",
        "\n",
        "**Exemplo:** Encontre os valores críticos χ²R e χ²L para um intervalo de confiança\n",
        "de 95% quando o tamanho da amostra é 18."
      ],
      "metadata": {
        "id": "0P2XFKDVIveU"
      }
    },
    {
      "cell_type": "markdown",
      "source": [
        "Primeiramente, vamos começar importando algumas bibliotecas necessárias."
      ],
      "metadata": {
        "id": "6bL19EPXJyG1"
      }
    },
    {
      "cell_type": "code",
      "source": [
        "# Importando o qui quadrado\n",
        "from scipy.stats import chi2"
      ],
      "metadata": {
        "id": "T9a6u_p7J4gL"
      },
      "execution_count": null,
      "outputs": []
    },
    {
      "cell_type": "markdown",
      "source": [
        "Agora podemos partir para a parte do cálculo propriamente dito."
      ],
      "metadata": {
        "id": "JUu9Ev9mJ_F7"
      }
    },
    {
      "cell_type": "code",
      "source": [
        "# Dados do problema\n",
        "n = 18  # Tamanho da amostra\n",
        "\n",
        "# Graus de liberdade para a distribuição qui-quadrado\n",
        "df = n - 1\n",
        "\n",
        "# Nível de confiança\n",
        "confianca = 0.95\n",
        "\n",
        "# Intervalo de confiança para a variância\n",
        "intervalo_variancia = stats.chi2.interval(confianca, df)\n",
        "\n",
        "# Definindo os valores criticos\n",
        "crit_superior = intervalo_variancia[1]\n",
        "crit_inferior = intervalo_variancia[0]\n",
        "\n",
        "# Exibindo os valores\n",
        "print(f\"χ²R = {crit_superior}, χ²L = {crit_inferior}\")"
      ],
      "metadata": {
        "colab": {
          "base_uri": "https://localhost:8080/"
        },
        "id": "d2EtMk88Ngg9",
        "outputId": "5c1c96ea-35fa-4dce-b86c-a66e9fd4b2a2"
      },
      "execution_count": null,
      "outputs": [
        {
          "output_type": "stream",
          "name": "stdout",
          "text": [
            "χ²R = 30.19100912163982, χ²L = 7.56418644957757\n"
          ]
        }
      ]
    },
    {
      "cell_type": "markdown",
      "source": [
        "Dessa forma, conseguimos obter os valores críticos que são bem importantes para definirmos os limites. Vamos observar em outro exemplo."
      ],
      "metadata": {
        "id": "F1WVfOE-dppO"
      }
    },
    {
      "cell_type": "markdown",
      "source": [
        "**Exemplo:** Você seleciona aleatoriamente e pesa as 30 unidades de uma\n",
        "amostra de um antialérgico. O desvio padrão da amostra é de 1,20 miligramas.\n",
        "Supondo que os pesos são normalmente distribuídos, construa intervalos de\n",
        "confiança de 99% para a variância e o desvio padrão da população."
      ],
      "metadata": {
        "id": "XCISE5xiP6BW"
      }
    },
    {
      "cell_type": "markdown",
      "source": [
        "Vamos realizar as importações necessárias."
      ],
      "metadata": {
        "id": "6SPs8FGeRP0F"
      }
    },
    {
      "cell_type": "code",
      "source": [
        "# Funções matématicas\n",
        "import numpy as np\n",
        "import scipy.stats as stats\n",
        "\n",
        "# Importando o qui quadrado\n",
        "from scipy.stats import chi2"
      ],
      "metadata": {
        "id": "lP3kp9O0RlM8"
      },
      "execution_count": null,
      "outputs": []
    },
    {
      "cell_type": "code",
      "source": [
        "# Dados do problema\n",
        "n = 30  # Tamanho da amostra\n",
        "s = 1.20  # Desvio padrão da amostra\n",
        "confianca = 0.99  # Nível de confiança\n",
        "\n",
        "# Graus de liberdade para a distribuição qui-quadrado\n",
        "df = n - 1"
      ],
      "metadata": {
        "id": "qSPiti1ZUgRG"
      },
      "execution_count": null,
      "outputs": []
    },
    {
      "cell_type": "markdown",
      "source": [
        "Agora que já temos os dados definidos, vamos abordar o restante dos problemas por etapas:\n",
        "\n",
        "- Vamos definir os valores críticos.\n",
        "- Calcular os limites para o intervalo.\n",
        "- Calcular os limites para o desvio padrão amostral."
      ],
      "metadata": {
        "id": "_oxT4xIVVdve"
      }
    },
    {
      "cell_type": "markdown",
      "source": [
        "**Definindo os valores**"
      ],
      "metadata": {
        "id": "lwEBaVvcVxd9"
      }
    },
    {
      "cell_type": "code",
      "source": [
        "# Intervalo de confiança para a variância\n",
        "intervalo_variancia = stats.chi2.interval(confianca, df)\n",
        "\n",
        "# Definindo os valores criticos\n",
        "crit_superior = intervalo_variancia[1]\n",
        "crit_inferior = intervalo_variancia[0]\n",
        "\n",
        "# Exibindo os valores\n",
        "print(f\"χ²R = {crit_superior}, χ²L = {crit_inferior}\")"
      ],
      "metadata": {
        "colab": {
          "base_uri": "https://localhost:8080/"
        },
        "id": "IiWEsoPkVz69",
        "outputId": "9cab0075-15b4-4f38-ff4e-40a194a6a4b4"
      },
      "execution_count": null,
      "outputs": [
        {
          "output_type": "stream",
          "name": "stdout",
          "text": [
            "χ²R = 52.335617785933614, χ²L = 13.121148887960413\n"
          ]
        }
      ]
    },
    {
      "cell_type": "markdown",
      "source": [
        "Para **calcular os limites inferiores e superiores do intervalo de confiança para a variância populacional**, aplicamos a raiz quadrada nos limites inferiores e superiores da variância, pois o desvio padrão é a raiz quadrada da variância. Portanto, as fórmulas são:\n",
        "\n",
        "$\n",
        "\\text{Limite Inferior} = \\frac{(n - 1) \\times s^2}{\\text{valor crítico superior}}\n",
        "$\n",
        "\n",
        "$\n",
        "\\text{Limite Superior} = \\frac{(n - 1) \\times s^2}{\\text{valor crítico inferior}}\n",
        "$\n",
        "\n",
        "onde:\n",
        "- \\(n\\) é o tamanho da amostra,\n",
        "- \\(s\\) é o desvio padrão da amostra, e\n",
        "- os valores críticos superior e inferior são obtidos a partir da distribuição qui-quadrado com \\(n - 1\\) graus de liberdade e um determinado nível de confiança.\n",
        "\n",
        "Para **calcular os limites inferiores e superiores do intervalo de confiança para o desvio padrão populacional**, aplicamos a raiz quadrada nos limites inferiores e superiores da variância, pois o desvio padrão é a raiz quadrada da variância. Portanto, as fórmulas são:\n",
        "\n",
        "$\n",
        "\\text{Limite Inferior do Desvio Padrão} = \\sqrt{\\text{Limite Inferior da Variância}}\n",
        "$\n",
        "\n",
        "$\n",
        "\\text{Limite Superior do Desvio Padrão} = \\sqrt{\\text{Limite Superior da Variância}}\n",
        "$\n",
        "\n",
        "onde:\n",
        "- \\(n\\) é o tamanho da amostra,\n",
        "- \\(s\\) é o desvio padrão amostral, e\n",
        "- os valores críticos superior e inferior são obtidos a partir da distribuição qui-quadrado com \\(n - 1\\) graus de liberdade e um determinado nível de confiança.\n"
      ],
      "metadata": {
        "id": "Wa7w5F3ZWYNm"
      }
    },
    {
      "cell_type": "code",
      "source": [
        "# Lmites para a variância\n",
        "limite_inferior_variancia = (n - 1) * s**2 / crit_superior\n",
        "limite_superior_variancia = (n - 1) * s**2 / crit_inferior\n",
        "\n",
        "# Limites para o desvio padrão\n",
        "limite_inferior_desvio = np.sqrt(limite_inferior_variancia)\n",
        "limite_superior_desvio = np.sqrt(limite_superior_variancia)\n",
        "\n",
        "print(\"Intervalo de confiança para a variação populacional:\", (limite_inferior_variancia, limite_superior_variancia))\n",
        "print(\"Intervalo de confiança para o desvio padrão populacional:\", (limite_inferior_desvio, limite_superior_desvio))"
      ],
      "metadata": {
        "colab": {
          "base_uri": "https://localhost:8080/"
        },
        "id": "yQH4htBkVcV-",
        "outputId": "12ed0d18-b809-4db8-c9d7-a23b2eab1064"
      },
      "execution_count": null,
      "outputs": [
        {
          "output_type": "stream",
          "name": "stdout",
          "text": [
            "Intervalo de confiança para a variação populacional: (0.7979269523636721, 3.1826481321553914)\n",
            "Intervalo de confiança para o desvio padrão populacional: (0.8932675704197887, 1.783997794885238)\n"
          ]
        }
      ]
    },
    {
      "cell_type": "markdown",
      "source": [
        "Dessa forma, podemos afirmar que com 99% de confiança, podemos dizer que a variância populacional está entre 0,79 e 3,18, e o desvio padrão populacional entre 0,89 e 1,78 miligramas."
      ],
      "metadata": {
        "id": "IPakKxi8eESW"
      }
    },
    {
      "cell_type": "markdown",
      "source": [
        "#**Teste de hipótese para a variância (1 amostra)**"
      ],
      "metadata": {
        "id": "juoy8UXrki5Y"
      }
    },
    {
      "cell_type": "markdown",
      "source": [
        "**Objetivo:** Comparar a variância da amostra com uma variância hipotética.\n",
        "\n"
      ],
      "metadata": {
        "id": "iJ8LKpmQkqXp"
      }
    },
    {
      "cell_type": "markdown",
      "source": [
        "**Fórmula:**\n",
        "\n",
        "- $χ² = (n - 1) * s² / σ²$\n",
        "\n",
        "**onde:**\n",
        "\n",
        "- χ² é a estatística do teste, que segue uma distribuição qui-quadrado com n - 1 graus de liberdade.\n",
        "- n é o tamanho da amostra.\n",
        "- s² é a variância da amostra.\n",
        "- σ² é a variância hipotética.\n",
        "\n",
        "Formulação das Hipóteses\n",
        "\n",
        "- Hipótese nula (H0): A variância da população é igual à variância hipotética (σ²).\n",
        "- Hipótese alternativa (H1): A variância da população é diferente da variância hipotética (σ²)."
      ],
      "metadata": {
        "id": "mJH_wQL7lX2o"
      }
    },
    {
      "cell_type": "markdown",
      "source": [
        "Vamos observar um exemplo para entendermos melhor:\n",
        "\n",
        "Uma empresa de processamento de laticínios afirma que a\n",
        "variância da quantidade de gordura no leite integral processado por ela é não\n",
        "mais que 0,25. Você suspeita que essa afirmação esteja errada e descobre que\n",
        "uma amostra aleatória de 41 recipientes de leite tem um variância de 0,27.\n",
        "Para um nível de significância a = 0,05, há evidência suficiente para rejeitar a\n",
        "afirmação da empresa? Suponha que a população é normalmente\n",
        "distribuída."
      ],
      "metadata": {
        "id": "jiDeK1MTl20n"
      }
    },
    {
      "cell_type": "markdown",
      "source": [
        "Resposta: Vamos começar definindo as hipóteses:\n",
        "\n",
        "H0: gordura ≤ 0,25\n",
        "\n",
        "Ha: gordura > 0,25\n",
        "\n",
        "Estamos diante de um teste unicaudal à direita."
      ],
      "metadata": {
        "id": "RjIthLyEm2eQ"
      }
    },
    {
      "cell_type": "markdown",
      "source": [
        "Agora vamos importar as bibliotecas necessárias."
      ],
      "metadata": {
        "id": "r-Wj39Z8mP7g"
      }
    },
    {
      "cell_type": "code",
      "source": [
        "# Funções estatísticas\n",
        "import scipy.stats as stats"
      ],
      "metadata": {
        "id": "AWdBFwrymSyP"
      },
      "execution_count": null,
      "outputs": []
    },
    {
      "cell_type": "markdown",
      "source": [
        "Agora podemos partir para o cálculo propriamente dito."
      ],
      "metadata": {
        "id": "W-R4A8u3mWKQ"
      }
    },
    {
      "cell_type": "code",
      "source": [
        "# Definindo os dados\n",
        "n = 41 # Tamanho da amostra\n",
        "s_amostra = 0.27 # Variância amostral\n",
        "s_hipotetica = 0.25 # Variância afirmada pela empresa\n",
        "alpha = 0.05 # Nível de significância\n",
        "df = n - 1 # Graus de liberdade\n",
        "\n",
        "# Calculando o valor do teste\n",
        "valor_teste = (n - 1) * s_amostra  / s_hipotetica\n",
        "\n",
        "# Exibindo o valor\n",
        "print(valor_teste)"
      ],
      "metadata": {
        "id": "sWuwk9-DmYsg",
        "colab": {
          "base_uri": "https://localhost:8080/"
        },
        "outputId": "229b1973-70ec-4ea4-bde0-56079b2d39d0"
      },
      "execution_count": null,
      "outputs": [
        {
          "output_type": "stream",
          "name": "stdout",
          "text": [
            "43.2\n"
          ]
        }
      ]
    },
    {
      "cell_type": "markdown",
      "source": [
        "Agora vamos calcular o p-valor para fazermos as nossas comparações."
      ],
      "metadata": {
        "id": "DvrG5ImXy0eE"
      }
    },
    {
      "cell_type": "code",
      "source": [
        "# Calculando o p-valor\n",
        "p_valor = 1 - stats.chi2.cdf(valor_teste, df)\n",
        "\n",
        "# Exibindo o p-valor\n",
        "print(\"P-valor:\", p_valor)\n",
        "\n",
        "# Conclusões\n",
        "if p_valor < alpha:\n",
        "    print(\"Rejeitar H0: Há evidências suficientes para concluir que a gordura no leite é maior que 0.25\")\n",
        "else:\n",
        "    print(\"Falha em rejeitar H0: Não existem evidências suficientes para concluir que a gordura no leite é maior que 0.25\")"
      ],
      "metadata": {
        "colab": {
          "base_uri": "https://localhost:8080/"
        },
        "id": "qc1U7azvy9As",
        "outputId": "f11678b0-4abf-45f2-f75a-26e0543aaa4f"
      },
      "execution_count": null,
      "outputs": [
        {
          "output_type": "stream",
          "name": "stdout",
          "text": [
            "P-valor: 0.33622313346405086\n",
            "Falha em rejeitar H0: Não existem evidências suficientes para concluir que a gordura no leite é maior que 0.25\n"
          ]
        }
      ]
    },
    {
      "cell_type": "markdown",
      "source": [
        "De acordo com o nosso teste de hipótese e com um nível de significância de 0.05, falhamos em rejeitar a hipótese nula. Portanto, podemos concluir que não há evidências suficientes para afirmar que a quantidade de gordura no leite é maior que 0,25."
      ],
      "metadata": {
        "id": "ViA9HoGSzwdM"
      }
    },
    {
      "cell_type": "markdown",
      "source": [
        "Vamos observar outro exemplo:\n",
        "\n",
        "Um fabricante de artigos esportivos afirma que a variância da força de uma certa linha de pesca é de 15,9. Uma amostra aleatória de 15 rolos de linha tem uma variância de 21,8. Para um nível de significância de α = 0,05, há evidência suficiente para rejeitar a afirmação do fabricante? Suponha que a população é normalmente distribuída."
      ],
      "metadata": {
        "id": "KyA7C5dU26v9"
      }
    },
    {
      "cell_type": "markdown",
      "source": [
        "Vamos começar definindo as hipóteses:\n",
        "\n",
        "H0: força da linha = 15,9\n",
        "\n",
        "Ha: força da linha ≠ 15,9\n",
        "\n",
        "Estamos diante de um teste bicaudal.\n",
        "\n",
        "É importante lembrarmos que quando utilizamos o teste qui-quadrado é muito importante que trabalhemos com uma distribuição normal, ou pelo menos 40 elementos na amostra. Nesse caso, o problema já nos informa que temos uma população normalmente distribuída, então podemos seguir adiante."
      ],
      "metadata": {
        "id": "GXoIt0yE2-f2"
      }
    },
    {
      "cell_type": "markdown",
      "source": [
        "Importando a biblioteca necessária."
      ],
      "metadata": {
        "id": "oKuyqy9h5HmG"
      }
    },
    {
      "cell_type": "code",
      "source": [
        "# Funções estatísticas\n",
        "import scipy.stats as stats"
      ],
      "metadata": {
        "id": "tthd42-s5Lh8"
      },
      "execution_count": null,
      "outputs": []
    },
    {
      "cell_type": "markdown",
      "source": [
        "Partindo para os cálculos."
      ],
      "metadata": {
        "id": "rj2vVk9O7lY_"
      }
    },
    {
      "cell_type": "code",
      "source": [
        "# Definindo os valores\n",
        "n = 15 # Tamanho da amostra\n",
        "s_amostra = 21.8 # Variância amostral\n",
        "s_hipotetica = 15.9 # Variância afirmada\n",
        "alpha = 0.05 # Nível de significância\n",
        "df = n - 1 # Graus de liberdade\n",
        "\n",
        "# Calculando o valor do teste\n",
        "valor_teste = (n - 1) * s_amostra / s_hipotetica\n",
        "\n",
        "# Exibindo o valor\n",
        "print(valor_teste)"
      ],
      "metadata": {
        "colab": {
          "base_uri": "https://localhost:8080/"
        },
        "id": "mw7QDjzn4ILf",
        "outputId": "6ee39d7a-d582-41a2-a117-cc9287652f1f"
      },
      "execution_count": null,
      "outputs": [
        {
          "output_type": "stream",
          "name": "stdout",
          "text": [
            "19.19496855345912\n"
          ]
        }
      ]
    },
    {
      "cell_type": "markdown",
      "source": [
        "Agora vamos calcular o p-valor."
      ],
      "metadata": {
        "id": "abIu-4Gv5dsm"
      }
    },
    {
      "cell_type": "code",
      "source": [
        "# Calculando o p-valor\n",
        "p_valor = 2 * (1 - stats.chi2.cdf(valor_teste, df))\n",
        "\n",
        "# Exibindo o p-valor\n",
        "print(\"P-valor:\", p_valor)\n",
        "\n",
        "# Conclusões\n",
        "if p_valor < alpha:\n",
        "    print(\"Rejeitar H0: Há evidências suficientes para concluir que a variância da força da linha é diferente de 15,9.\")\n",
        "else:\n",
        "    print(\"Falha em rejeitar H0: Não existem evidências suficientes para concluir que a variância da força da linha é diferente de 15,9.\")"
      ],
      "metadata": {
        "colab": {
          "base_uri": "https://localhost:8080/"
        },
        "id": "P4rlwO2j5fSO",
        "outputId": "b3e37734-f11b-4b16-c588-dd6b635962d5"
      },
      "execution_count": null,
      "outputs": [
        {
          "output_type": "stream",
          "name": "stdout",
          "text": [
            "P-valor: 0.3152647436788134\n",
            "Falha em rejeitar H0: Não existem evidências suficientes para concluir que a força da linha é diferente de 15,9.\n"
          ]
        }
      ]
    },
    {
      "cell_type": "markdown",
      "source": [
        "Segundo nosso teste de hipótese com um nível de significância de 0,05, falhamos em rejeitar a hipótese nula. Portanto, não há evidências suficientes para rejeitar a afirmação de que a variância da força da linha de pesca é igual a 15,9."
      ],
      "metadata": {
        "id": "IGOnnmCv6DEu"
      }
    },
    {
      "cell_type": "markdown",
      "source": [
        "#**Teste de hipótese para a variância (2 amostras)**"
      ],
      "metadata": {
        "id": "rhjBXfshIo84"
      }
    },
    {
      "cell_type": "markdown",
      "source": [
        "A fórmula do teste F é utilizada principalmente para comparar a variabilidade entre duas amostras. Ela é comumente empregada em testes de hipóteses para verificar se as variâncias de duas populações são estatisticamente iguais ou diferentes."
      ],
      "metadata": {
        "id": "lAX7a6uyKYsQ"
      }
    },
    {
      "cell_type": "markdown",
      "source": [
        "Dito isso essa é a fórmula do teste F:\n",
        "\n",
        "- $F = s1^2 / s2^2$\n",
        "\n",
        "Onde:\n",
        "\n",
        "- $s1^2$ é a variância da primeira amostra.\n",
        "- $s2^2$ é a variância da segunda amostra.\n",
        "\n",
        "Necessariamente s1 é maior que s2 então será dessa forma que iremos identificar qual é a primeira amostra e qual a segunda\n",
        "\n",
        "Vamos observar um exemplo\n"
      ],
      "metadata": {
        "id": "XvGX9hxOI4Sf"
      }
    },
    {
      "cell_type": "markdown",
      "source": [
        "Você quer comprar ações em uma empresa e está decidindo entre duas\n",
        "ações diferentes. Como o risco de uma ação pode estar associado ao desvio\n",
        "padrão dos preços de fechamento diários, você seleciona aleatoriamente\n",
        "amostras dos preços de fechamento diários para cada ação e obtém os\n",
        "resultados mostrados na tabela abaixo. Com a = 0,05, você pode concluir que\n",
        "uma das duas ações é um investimento mais arriscado? Suponha que os\n",
        "preços de fechamento das ações são normalmente distribuídos.\n",
        "\n",
        "A ação A apresenta os seguintes dados\n",
        "- n2 = 30\n",
        "- s2 = 3,5\n",
        "\n",
        "A ação B apresenta os seguintes dados\n",
        "- n1 = 31\n",
        "- s1 = 5,7\n"
      ],
      "metadata": {
        "id": "Wwpk9-FELVKR"
      }
    },
    {
      "cell_type": "markdown",
      "source": [
        "Resposta: Vamos começar definindo nossas hipoteses\n",
        "\n",
        "H0: risco ação A = risco ação B\n",
        "\n",
        "Ha: risco ação A ≠ risco ação B\n",
        "\n",
        "Estamos diante de um teste bicaudal\n",
        "\n",
        "Como a ação B apresentou uma variancia maior ela será a nossa primeira amostra e ação A será a nossa segunda\n",
        "\n",
        "Agora vamos partir para a importação das bibliotecas"
      ],
      "metadata": {
        "id": "kOtmn-byLZPB"
      }
    },
    {
      "cell_type": "code",
      "source": [
        "# Funções matématicas\n",
        "import numpy as np\n",
        "\n",
        "# Teste f\n",
        "import scipy.stats as stats"
      ],
      "metadata": {
        "id": "hmB--HoOQofw"
      },
      "execution_count": 15,
      "outputs": []
    },
    {
      "cell_type": "markdown",
      "source": [
        "Agora vamos para o calculo propriamente dito"
      ],
      "metadata": {
        "id": "Sq8P6_7NRc7B"
      }
    },
    {
      "cell_type": "code",
      "source": [
        "# Definindo os valores\n",
        "# Ação A\n",
        "n2 = 30 # Tamanho da amostra\n",
        "s2 = 3.5 ** 2 # Variância\n",
        "df2 = n2 - 1 # Graus de liberdade\n",
        "\n",
        "# Ação B\n",
        "n1 = 31 # Tamanho da amostra\n",
        "s1 = 5.7 ** 2 # Variância\n",
        "df1 = n1 - 1 # Graus de liberdade\n",
        "\n",
        "# Calculando o F\n",
        "F = s1 / s2\n",
        "\n",
        "# Exibindo o valor\n",
        "print(F)"
      ],
      "metadata": {
        "colab": {
          "base_uri": "https://localhost:8080/"
        },
        "id": "Ih2Dc_LFRfA5",
        "outputId": "dc0e795a-e601-48a6-b1b0-e6a3fb6f344d"
      },
      "execution_count": 10,
      "outputs": [
        {
          "output_type": "stream",
          "name": "stdout",
          "text": [
            "2.652244897959184\n"
          ]
        }
      ]
    },
    {
      "cell_type": "markdown",
      "source": [
        "Agora vamos calcular o p-valor"
      ],
      "metadata": {
        "id": "2JWR9IMaS12q"
      }
    },
    {
      "cell_type": "code",
      "source": [
        "# Definindo o alpha\n",
        "alpha = 0.05 / 2 # Realizando a divisão por se tratar de um teste bicaudal\n",
        "\n",
        "# Calculando o p-valor\n",
        "p_valor = 1 - stats.f.cdf(F, df1, df2)\n",
        "\n",
        "print(\"O p-valor é:\", p_valor)\n",
        "\n",
        "# Conclusões\n",
        "if p_valor < alpha:\n",
        "    print(\"Rejeitar H0: Há evidências suficientes para concluir que uma ação é mais arriscada que a outra.\")\n",
        "else:\n",
        "    print(\"Falha em rejeitar H0: Não existem evidências suficientes para concluir que uma ação é mais arriscada que a outra.\")"
      ],
      "metadata": {
        "colab": {
          "base_uri": "https://localhost:8080/"
        },
        "id": "pZc7juAoS30I",
        "outputId": "4602fc4f-3125-4127-9dae-890677d18ff0"
      },
      "execution_count": 30,
      "outputs": [
        {
          "output_type": "stream",
          "name": "stdout",
          "text": [
            "O p-valor é: 0.005108622913231997\n",
            "Rejeitar H0: Há evidências suficientes para concluir que uma ação é mais arriscada que a outra.\n"
          ]
        }
      ]
    },
    {
      "cell_type": "markdown",
      "source": [
        "Apos a execução do nosso teste de hipoteses rejeitamos a hipotese nula, logo podemos concluir que existem evidencias para concluirmos que uma ação é mais arriscada que outra"
      ],
      "metadata": {
        "id": "RCxCUpjnZQ56"
      }
    }
  ]
}