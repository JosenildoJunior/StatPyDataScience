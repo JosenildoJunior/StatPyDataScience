{
  "nbformat": 4,
  "nbformat_minor": 0,
  "metadata": {
    "colab": {
      "provenance": [],
      "collapsed_sections": [
        "ZtFL_TFRF660",
        "juoy8UXrki5Y",
        "rhjBXfshIo84",
        "1vYFia3xjXLH",
        "Y2KFA8oBEsgN",
        "LQE0JGCthZUW",
        "SrSceF0XKYL0",
        "7bb95dsEKc18",
        "HlhaGmWJ2FUs",
        "wHOrrp1H2Hy7",
        "zklq7WdF9Qyn",
        "J6eL2vlvLVIj"
      ],
      "authorship_tag": "ABX9TyPT2BgtEbSlMP0mH7tyuPuT",
      "include_colab_link": true
    },
    "kernelspec": {
      "name": "python3",
      "display_name": "Python 3"
    },
    "language_info": {
      "name": "python"
    }
  },
  "cells": [
    {
      "cell_type": "markdown",
      "metadata": {
        "id": "view-in-github",
        "colab_type": "text"
      },
      "source": [
        "<a href=\"https://colab.research.google.com/github/JosenildoJunior/StatPyDataScience/blob/main/Teste_de_Hip%C3%B3tese_e_intervalo_de_confian%C3%A7a_para_vari%C3%A2ncia.ipynb\" target=\"_parent\"><img src=\"https://colab.research.google.com/assets/colab-badge.svg\" alt=\"Open In Colab\"/></a>"
      ]
    },
    {
      "cell_type": "markdown",
      "source": [
        "# **Intervalo de confiança para variância e desvio padrão (1 amostra)**"
      ],
      "metadata": {
        "id": "ZtFL_TFRF660"
      }
    },
    {
      "cell_type": "markdown",
      "source": [
        "**Breve Resumo:**\n",
        "Um intervalo de confiança para a variância de uma população com base em uma amostra única de dados nos fornece uma faixa de valores plausíveis para a variância populacional com um certo nível de confiança."
      ],
      "metadata": {
        "id": "aKPaVqCpGJMj"
      }
    },
    {
      "cell_type": "markdown",
      "source": [
        "Quando Utilizar:\n",
        "\n",
        "Quando desejamos fazer inferências sobre a variabilidade de uma população com base em uma amostra.\n",
        "Quando queremos especificar um nível de confiança para a estimativa da variância populacional.\n",
        "\n",
        "Fórmula do Intervalo de Confiança: $\n",
        "\\left( \\frac{{(n - 1) \\cdot s^2}}{{\\chi_{\\alpha/2}^2}}, \\frac{{(n - 1) \\cdot s^2}}{{\\chi_{1 - \\alpha/2}^2}} \\right)$\n",
        "\n",
        "Onde:\n",
        "\n",
        "- **n** é o tamanho da amostra.\n",
        "\n",
        "- **s²** é a variância amostral.\n",
        "\n",
        "- **χ²/₂²** é o quantil da distribuição qui-quadrado com **n-1** graus de liberdade para o nível de significância **α/2**.\n",
        "\n",
        "- **χ₁₋α/₂²** é o quantil da distribuição qui-quadrado com **n-1** graus de liberdade para o complemento do nível de significância **1-α/2**.\n"
      ],
      "metadata": {
        "id": "aCKlEXkrGMHj"
      }
    },
    {
      "cell_type": "markdown",
      "source": [
        "Vamos observar um exemplo para tentarmos entender melhor\n",
        "\n",
        "**Exemplo:** Encontre os valores críticos χ²R e χ²L para um intervalo de confiança\n",
        "de 95% quando o tamanho da amostra é 18."
      ],
      "metadata": {
        "id": "0P2XFKDVIveU"
      }
    },
    {
      "cell_type": "markdown",
      "source": [
        "Primeiramente, vamos começar importando algumas bibliotecas necessárias."
      ],
      "metadata": {
        "id": "6bL19EPXJyG1"
      }
    },
    {
      "cell_type": "code",
      "source": [
        "# Importando o qui quadrado\n",
        "from scipy.stats import chi2"
      ],
      "metadata": {
        "id": "T9a6u_p7J4gL"
      },
      "execution_count": null,
      "outputs": []
    },
    {
      "cell_type": "markdown",
      "source": [
        "Agora podemos partir para a parte do cálculo propriamente dito."
      ],
      "metadata": {
        "id": "JUu9Ev9mJ_F7"
      }
    },
    {
      "cell_type": "code",
      "source": [
        "# Dados do problema\n",
        "n = 18  # Tamanho da amostra\n",
        "\n",
        "# Graus de liberdade para a distribuição qui-quadrado\n",
        "df = n - 1\n",
        "\n",
        "# Nível de confiança\n",
        "confianca = 0.95\n",
        "\n",
        "# Intervalo de confiança para a variância\n",
        "intervalo_variancia = stats.chi2.interval(confianca, df)\n",
        "\n",
        "# Definindo os valores criticos\n",
        "crit_superior = intervalo_variancia[1]\n",
        "crit_inferior = intervalo_variancia[0]\n",
        "\n",
        "# Exibindo os valores\n",
        "print(f\"χ²R = {crit_superior}, χ²L = {crit_inferior}\")"
      ],
      "metadata": {
        "colab": {
          "base_uri": "https://localhost:8080/"
        },
        "id": "d2EtMk88Ngg9",
        "outputId": "5c1c96ea-35fa-4dce-b86c-a66e9fd4b2a2"
      },
      "execution_count": null,
      "outputs": [
        {
          "output_type": "stream",
          "name": "stdout",
          "text": [
            "χ²R = 30.19100912163982, χ²L = 7.56418644957757\n"
          ]
        }
      ]
    },
    {
      "cell_type": "markdown",
      "source": [
        "Dessa forma, conseguimos obter os valores críticos que são bem importantes para definirmos os limites. Vamos observar em outro exemplo."
      ],
      "metadata": {
        "id": "F1WVfOE-dppO"
      }
    },
    {
      "cell_type": "markdown",
      "source": [
        "**Exemplo:** Você seleciona aleatoriamente e pesa as 30 unidades de uma\n",
        "amostra de um antialérgico. O desvio padrão da amostra é de 1,20 miligramas.\n",
        "Supondo que os pesos são normalmente distribuídos, construa intervalos de\n",
        "confiança de 99% para a variância e o desvio padrão da população."
      ],
      "metadata": {
        "id": "XCISE5xiP6BW"
      }
    },
    {
      "cell_type": "markdown",
      "source": [
        "Vamos realizar as importações necessárias."
      ],
      "metadata": {
        "id": "6SPs8FGeRP0F"
      }
    },
    {
      "cell_type": "code",
      "source": [
        "# Funções matématicas\n",
        "import numpy as np\n",
        "import scipy.stats as stats\n",
        "\n",
        "# Importando o qui quadrado\n",
        "from scipy.stats import chi2"
      ],
      "metadata": {
        "id": "lP3kp9O0RlM8"
      },
      "execution_count": null,
      "outputs": []
    },
    {
      "cell_type": "code",
      "source": [
        "# Dados do problema\n",
        "n = 30  # Tamanho da amostra\n",
        "s = 1.20  # Desvio padrão da amostra\n",
        "confianca = 0.99  # Nível de confiança\n",
        "\n",
        "# Graus de liberdade para a distribuição qui-quadrado\n",
        "df = n - 1"
      ],
      "metadata": {
        "id": "qSPiti1ZUgRG"
      },
      "execution_count": null,
      "outputs": []
    },
    {
      "cell_type": "markdown",
      "source": [
        "Agora que já temos os dados definidos, vamos abordar o restante dos problemas por etapas:\n",
        "\n",
        "- Vamos definir os valores críticos.\n",
        "- Calcular os limites para o intervalo.\n",
        "- Calcular os limites para o desvio padrão amostral."
      ],
      "metadata": {
        "id": "_oxT4xIVVdve"
      }
    },
    {
      "cell_type": "markdown",
      "source": [
        "**Definindo os valores**"
      ],
      "metadata": {
        "id": "lwEBaVvcVxd9"
      }
    },
    {
      "cell_type": "code",
      "source": [
        "# Intervalo de confiança para a variância\n",
        "intervalo_variancia = stats.chi2.interval(confianca, df)\n",
        "\n",
        "# Definindo os valores criticos\n",
        "crit_superior = intervalo_variancia[1]\n",
        "crit_inferior = intervalo_variancia[0]\n",
        "\n",
        "# Exibindo os valores\n",
        "print(f\"χ²R = {crit_superior}, χ²L = {crit_inferior}\")"
      ],
      "metadata": {
        "colab": {
          "base_uri": "https://localhost:8080/"
        },
        "id": "IiWEsoPkVz69",
        "outputId": "9cab0075-15b4-4f38-ff4e-40a194a6a4b4"
      },
      "execution_count": null,
      "outputs": [
        {
          "output_type": "stream",
          "name": "stdout",
          "text": [
            "χ²R = 52.335617785933614, χ²L = 13.121148887960413\n"
          ]
        }
      ]
    },
    {
      "cell_type": "markdown",
      "source": [
        "Para **calcular os limites inferiores e superiores do intervalo de confiança para a variância populacional**, aplicamos a raiz quadrada nos limites inferiores e superiores da variância, pois o desvio padrão é a raiz quadrada da variância. Portanto, as fórmulas são:\n",
        "\n",
        "$\n",
        "\\text{Limite Inferior} = \\frac{(n - 1) \\times s^2}{\\text{valor crítico superior}}\n",
        "$\n",
        "\n",
        "$\n",
        "\\text{Limite Superior} = \\frac{(n - 1) \\times s^2}{\\text{valor crítico inferior}}\n",
        "$\n",
        "\n",
        "onde:\n",
        "- \\(n\\) é o tamanho da amostra,\n",
        "- \\(s\\) é o desvio padrão da amostra, e\n",
        "- os valores críticos superior e inferior são obtidos a partir da distribuição qui-quadrado com \\(n - 1\\) graus de liberdade e um determinado nível de confiança.\n",
        "\n",
        "Para **calcular os limites inferiores e superiores do intervalo de confiança para o desvio padrão populacional**, aplicamos a raiz quadrada nos limites inferiores e superiores da variância, pois o desvio padrão é a raiz quadrada da variância. Portanto, as fórmulas são:\n",
        "\n",
        "$\n",
        "\\text{Limite Inferior do Desvio Padrão} = \\sqrt{\\text{Limite Inferior da Variância}}\n",
        "$\n",
        "\n",
        "$\n",
        "\\text{Limite Superior do Desvio Padrão} = \\sqrt{\\text{Limite Superior da Variância}}\n",
        "$\n",
        "\n",
        "onde:\n",
        "- \\(n\\) é o tamanho da amostra,\n",
        "- \\(s\\) é o desvio padrão amostral, e\n",
        "- os valores críticos superior e inferior são obtidos a partir da distribuição qui-quadrado com \\(n - 1\\) graus de liberdade e um determinado nível de confiança.\n"
      ],
      "metadata": {
        "id": "Wa7w5F3ZWYNm"
      }
    },
    {
      "cell_type": "code",
      "source": [
        "# Lmites para a variância\n",
        "limite_inferior_variancia = (n - 1) * s**2 / crit_superior\n",
        "limite_superior_variancia = (n - 1) * s**2 / crit_inferior\n",
        "\n",
        "# Limites para o desvio padrão\n",
        "limite_inferior_desvio = np.sqrt(limite_inferior_variancia)\n",
        "limite_superior_desvio = np.sqrt(limite_superior_variancia)\n",
        "\n",
        "print(\"Intervalo de confiança para a variação populacional:\", (limite_inferior_variancia, limite_superior_variancia))\n",
        "print(\"Intervalo de confiança para o desvio padrão populacional:\", (limite_inferior_desvio, limite_superior_desvio))"
      ],
      "metadata": {
        "colab": {
          "base_uri": "https://localhost:8080/"
        },
        "id": "yQH4htBkVcV-",
        "outputId": "12ed0d18-b809-4db8-c9d7-a23b2eab1064"
      },
      "execution_count": null,
      "outputs": [
        {
          "output_type": "stream",
          "name": "stdout",
          "text": [
            "Intervalo de confiança para a variação populacional: (0.7979269523636721, 3.1826481321553914)\n",
            "Intervalo de confiança para o desvio padrão populacional: (0.8932675704197887, 1.783997794885238)\n"
          ]
        }
      ]
    },
    {
      "cell_type": "markdown",
      "source": [
        "Dessa forma, podemos afirmar que com 99% de confiança, podemos dizer que a variância populacional está entre 0,79 e 3,18, e o desvio padrão populacional entre 0,89 e 1,78 miligramas."
      ],
      "metadata": {
        "id": "IPakKxi8eESW"
      }
    },
    {
      "cell_type": "markdown",
      "source": [
        "#**Teste de hipótese para a variância (1 amostra)**"
      ],
      "metadata": {
        "id": "juoy8UXrki5Y"
      }
    },
    {
      "cell_type": "markdown",
      "source": [
        "**Objetivo:** Comparar a variância da amostra com uma variância hipotética.\n",
        "\n"
      ],
      "metadata": {
        "id": "iJ8LKpmQkqXp"
      }
    },
    {
      "cell_type": "markdown",
      "source": [
        "**Fórmula:**\n",
        "\n",
        "- $χ² = (n - 1) * s² / σ²$\n",
        "\n",
        "**onde:**\n",
        "\n",
        "- χ² é a estatística do teste, que segue uma distribuição qui-quadrado com n - 1 graus de liberdade.\n",
        "- n é o tamanho da amostra.\n",
        "- s² é a variância da amostra.\n",
        "- σ² é a variância hipotética.\n",
        "\n",
        "Formulação das Hipóteses\n",
        "\n",
        "- Hipótese nula (H0): A variância da população é igual à variância hipotética (σ²).\n",
        "- Hipótese alternativa (H1): A variância da população é diferente da variância hipotética (σ²)."
      ],
      "metadata": {
        "id": "mJH_wQL7lX2o"
      }
    },
    {
      "cell_type": "markdown",
      "source": [
        "Vamos observar um exemplo para entendermos melhor:\n",
        "\n",
        "Uma empresa de processamento de laticínios afirma que a\n",
        "variância da quantidade de gordura no leite integral processado por ela é não\n",
        "mais que 0,25. Você suspeita que essa afirmação esteja errada e descobre que\n",
        "uma amostra aleatória de 41 recipientes de leite tem um variância de 0,27.\n",
        "Para um nível de significância a = 0,05, há evidência suficiente para rejeitar a\n",
        "afirmação da empresa? Suponha que a população é normalmente\n",
        "distribuída."
      ],
      "metadata": {
        "id": "jiDeK1MTl20n"
      }
    },
    {
      "cell_type": "markdown",
      "source": [
        "Resposta: Vamos começar definindo as hipóteses:\n",
        "\n",
        "H0: gordura ≤ 0,25\n",
        "\n",
        "Ha: gordura > 0,25\n",
        "\n",
        "Estamos diante de um teste unicaudal à direita."
      ],
      "metadata": {
        "id": "RjIthLyEm2eQ"
      }
    },
    {
      "cell_type": "markdown",
      "source": [
        "Agora vamos importar as bibliotecas necessárias."
      ],
      "metadata": {
        "id": "r-Wj39Z8mP7g"
      }
    },
    {
      "cell_type": "code",
      "source": [
        "# Funções estatísticas\n",
        "import scipy.stats as stats"
      ],
      "metadata": {
        "id": "AWdBFwrymSyP"
      },
      "execution_count": null,
      "outputs": []
    },
    {
      "cell_type": "markdown",
      "source": [
        "Agora podemos partir para o cálculo propriamente dito."
      ],
      "metadata": {
        "id": "W-R4A8u3mWKQ"
      }
    },
    {
      "cell_type": "code",
      "source": [
        "# Definindo os dados\n",
        "n = 41 # Tamanho da amostra\n",
        "s_amostra = 0.27 # Variância amostral\n",
        "s_hipotetica = 0.25 # Variância afirmada pela empresa\n",
        "alpha = 0.05 # Nível de significância\n",
        "df = n - 1 # Graus de liberdade\n",
        "\n",
        "# Calculando o valor do teste\n",
        "valor_teste = (n - 1) * s_amostra  / s_hipotetica\n",
        "\n",
        "# Exibindo o valor\n",
        "print(valor_teste)"
      ],
      "metadata": {
        "id": "sWuwk9-DmYsg",
        "colab": {
          "base_uri": "https://localhost:8080/"
        },
        "outputId": "229b1973-70ec-4ea4-bde0-56079b2d39d0"
      },
      "execution_count": null,
      "outputs": [
        {
          "output_type": "stream",
          "name": "stdout",
          "text": [
            "43.2\n"
          ]
        }
      ]
    },
    {
      "cell_type": "markdown",
      "source": [
        "Agora vamos calcular o p-valor para fazermos as nossas comparações."
      ],
      "metadata": {
        "id": "DvrG5ImXy0eE"
      }
    },
    {
      "cell_type": "code",
      "source": [
        "# Calculando o p-valor\n",
        "p_valor = 1 - stats.chi2.cdf(valor_teste, df)\n",
        "\n",
        "# Exibindo o p-valor\n",
        "print(\"P-valor:\", p_valor)\n",
        "\n",
        "# Conclusões\n",
        "if p_valor < alpha:\n",
        "    print(\"Rejeitar H0: Há evidências suficientes para concluir que a gordura no leite é maior que 0.25\")\n",
        "else:\n",
        "    print(\"Falha em rejeitar H0: Não existem evidências suficientes para concluir que a gordura no leite é maior que 0.25\")"
      ],
      "metadata": {
        "colab": {
          "base_uri": "https://localhost:8080/"
        },
        "id": "qc1U7azvy9As",
        "outputId": "f11678b0-4abf-45f2-f75a-26e0543aaa4f"
      },
      "execution_count": null,
      "outputs": [
        {
          "output_type": "stream",
          "name": "stdout",
          "text": [
            "P-valor: 0.33622313346405086\n",
            "Falha em rejeitar H0: Não existem evidências suficientes para concluir que a gordura no leite é maior que 0.25\n"
          ]
        }
      ]
    },
    {
      "cell_type": "markdown",
      "source": [
        "De acordo com o nosso teste de hipótese e com um nível de significância de 0.05, falhamos em rejeitar a hipótese nula. Portanto, podemos concluir que não há evidências suficientes para afirmar que a quantidade de gordura no leite é maior que 0,25."
      ],
      "metadata": {
        "id": "ViA9HoGSzwdM"
      }
    },
    {
      "cell_type": "markdown",
      "source": [
        "Vamos observar outro exemplo:\n",
        "\n",
        "Um fabricante de artigos esportivos afirma que a variância da força de uma certa linha de pesca é de 15,9. Uma amostra aleatória de 15 rolos de linha tem uma variância de 21,8. Para um nível de significância de α = 0,05, há evidência suficiente para rejeitar a afirmação do fabricante? Suponha que a população é normalmente distribuída."
      ],
      "metadata": {
        "id": "KyA7C5dU26v9"
      }
    },
    {
      "cell_type": "markdown",
      "source": [
        "Vamos começar definindo as hipóteses:\n",
        "\n",
        "H0: força da linha = 15,9\n",
        "\n",
        "Ha: força da linha ≠ 15,9\n",
        "\n",
        "Estamos diante de um teste bicaudal.\n",
        "\n",
        "É importante lembrarmos que quando utilizamos o teste qui-quadrado é muito importante que trabalhemos com uma distribuição normal, ou pelo menos 40 elementos na amostra. Nesse caso, o problema já nos informa que temos uma população normalmente distribuída, então podemos seguir adiante."
      ],
      "metadata": {
        "id": "GXoIt0yE2-f2"
      }
    },
    {
      "cell_type": "markdown",
      "source": [
        "Importando a biblioteca necessária."
      ],
      "metadata": {
        "id": "oKuyqy9h5HmG"
      }
    },
    {
      "cell_type": "code",
      "source": [
        "# Funções estatísticas\n",
        "import scipy.stats as stats"
      ],
      "metadata": {
        "id": "tthd42-s5Lh8"
      },
      "execution_count": null,
      "outputs": []
    },
    {
      "cell_type": "markdown",
      "source": [
        "Partindo para os cálculos."
      ],
      "metadata": {
        "id": "rj2vVk9O7lY_"
      }
    },
    {
      "cell_type": "code",
      "source": [
        "# Definindo os valores\n",
        "n = 15 # Tamanho da amostra\n",
        "s_amostra = 21.8 # Variância amostral\n",
        "s_hipotetica = 15.9 # Variância afirmada\n",
        "alpha = 0.05 # Nível de significância\n",
        "df = n - 1 # Graus de liberdade\n",
        "\n",
        "# Calculando o valor do teste\n",
        "valor_teste = (n - 1) * s_amostra / s_hipotetica\n",
        "\n",
        "# Exibindo o valor\n",
        "print(valor_teste)"
      ],
      "metadata": {
        "colab": {
          "base_uri": "https://localhost:8080/"
        },
        "id": "mw7QDjzn4ILf",
        "outputId": "6ee39d7a-d582-41a2-a117-cc9287652f1f"
      },
      "execution_count": null,
      "outputs": [
        {
          "output_type": "stream",
          "name": "stdout",
          "text": [
            "19.19496855345912\n"
          ]
        }
      ]
    },
    {
      "cell_type": "markdown",
      "source": [
        "Agora vamos calcular o p-valor."
      ],
      "metadata": {
        "id": "abIu-4Gv5dsm"
      }
    },
    {
      "cell_type": "code",
      "source": [
        "# Calculando o p-valor\n",
        "p_valor = 2 * (1 - stats.chi2.cdf(valor_teste, df))\n",
        "\n",
        "# Exibindo o p-valor\n",
        "print(\"P-valor:\", p_valor)\n",
        "\n",
        "# Conclusões\n",
        "if p_valor < alpha:\n",
        "    print(\"Rejeitar H0: Há evidências suficientes para concluir que a variância da força da linha é diferente de 15,9.\")\n",
        "else:\n",
        "    print(\"Falha em rejeitar H0: Não existem evidências suficientes para concluir que a variância da força da linha é diferente de 15,9.\")"
      ],
      "metadata": {
        "colab": {
          "base_uri": "https://localhost:8080/"
        },
        "id": "P4rlwO2j5fSO",
        "outputId": "b3e37734-f11b-4b16-c588-dd6b635962d5"
      },
      "execution_count": null,
      "outputs": [
        {
          "output_type": "stream",
          "name": "stdout",
          "text": [
            "P-valor: 0.3152647436788134\n",
            "Falha em rejeitar H0: Não existem evidências suficientes para concluir que a força da linha é diferente de 15,9.\n"
          ]
        }
      ]
    },
    {
      "cell_type": "markdown",
      "source": [
        "Segundo nosso teste de hipótese com um nível de significância de 0,05, falhamos em rejeitar a hipótese nula. Portanto, não há evidências suficientes para rejeitar a afirmação de que a variância da força da linha de pesca é igual a 15,9."
      ],
      "metadata": {
        "id": "IGOnnmCv6DEu"
      }
    },
    {
      "cell_type": "markdown",
      "source": [
        "#**Teste de hipótese para a variância (2 amostras)**"
      ],
      "metadata": {
        "id": "rhjBXfshIo84"
      }
    },
    {
      "cell_type": "markdown",
      "source": [
        "A fórmula do teste F é utilizada principalmente para comparar a variabilidade entre duas amostras. Ela é comumente empregada em testes de hipóteses para verificar se as variâncias de duas populações são estatisticamente iguais ou diferentes."
      ],
      "metadata": {
        "id": "lAX7a6uyKYsQ"
      }
    },
    {
      "cell_type": "markdown",
      "source": [
        "Dito isso essa é a fórmula do teste F:\n",
        "\n",
        "- $F = s1^2 / s2^2$\n",
        "\n",
        "Onde:\n",
        "\n",
        "- $s1^2$ é a variância da primeira amostra.\n",
        "- $s2^2$ é a variância da segunda amostra.\n",
        "\n",
        "Necessariamente, s1 é maior que s2; então, será dessa forma que identificaremos qual é a primeira amostra e qual é a segunda.\n",
        "\n",
        "Vamos observar um exemplo:\n"
      ],
      "metadata": {
        "id": "XvGX9hxOI4Sf"
      }
    },
    {
      "cell_type": "markdown",
      "source": [
        "Você quer comprar ações em uma empresa e está decidindo entre duas\n",
        "ações diferentes. Como o risco de uma ação pode estar associado ao desvio\n",
        "padrão dos preços de fechamento diários, você seleciona aleatoriamente\n",
        "amostras dos preços de fechamento diários para cada ação e obtém os\n",
        "resultados mostrados na tabela abaixo. Com a = 0,05, você pode concluir que\n",
        "uma das duas ações é um investimento mais arriscado? Suponha que os\n",
        "preços de fechamento das ações são normalmente distribuídos.\n",
        "\n",
        "A ação A apresenta os seguintes dados\n",
        "- n2 = 30\n",
        "- s2 = 3,5\n",
        "\n",
        "A ação B apresenta os seguintes dados\n",
        "- n1 = 31\n",
        "- s1 = 5,7\n"
      ],
      "metadata": {
        "id": "Wwpk9-FELVKR"
      }
    },
    {
      "cell_type": "markdown",
      "source": [
        "Resposta: Vamos começar definindo nossas hipóteses.\n",
        "\n",
        "H0: risco da ação A = risco da ação B\n",
        "\n",
        "Ha: risco da ação A ≠ risco da ação B\n",
        "\n",
        "Estamos diante de um teste bicaudal.\n",
        "\n",
        "Como a ação B apresentou uma variância maior, ela será nossa primeira amostra, e a ação A será nossa segunda.\n",
        "\n",
        "Agora vamos prosseguir com a importação das bibliotecas."
      ],
      "metadata": {
        "id": "kOtmn-byLZPB"
      }
    },
    {
      "cell_type": "code",
      "source": [
        "# Funções matématicas\n",
        "import numpy as np\n",
        "\n",
        "# Teste f\n",
        "import scipy.stats as stats"
      ],
      "metadata": {
        "id": "hmB--HoOQofw"
      },
      "execution_count": null,
      "outputs": []
    },
    {
      "cell_type": "markdown",
      "source": [
        "Agora vamos para o cálculo propriamente dito."
      ],
      "metadata": {
        "id": "Sq8P6_7NRc7B"
      }
    },
    {
      "cell_type": "code",
      "source": [
        "# Definindo os valores\n",
        "# Ação A\n",
        "n2 = 30 # Tamanho da amostra\n",
        "s2 = 3.5 ** 2 # Variância\n",
        "df2 = n2 - 1 # Graus de liberdade\n",
        "\n",
        "# Ação B\n",
        "n1 = 31 # Tamanho da amostra\n",
        "s1 = 5.7 ** 2 # Variância\n",
        "df1 = n1 - 1 # Graus de liberdade\n",
        "\n",
        "# Calculando o F\n",
        "F = s1 / s2\n",
        "\n",
        "# Exibindo o valor\n",
        "print(F)"
      ],
      "metadata": {
        "colab": {
          "base_uri": "https://localhost:8080/"
        },
        "id": "Ih2Dc_LFRfA5",
        "outputId": "dc0e795a-e601-48a6-b1b0-e6a3fb6f344d"
      },
      "execution_count": null,
      "outputs": [
        {
          "output_type": "stream",
          "name": "stdout",
          "text": [
            "2.652244897959184\n"
          ]
        }
      ]
    },
    {
      "cell_type": "markdown",
      "source": [
        "Agora vamos calcular o p-valor."
      ],
      "metadata": {
        "id": "2JWR9IMaS12q"
      }
    },
    {
      "cell_type": "code",
      "source": [
        "# Definindo o alpha\n",
        "alpha = 0.05 / 2 # Realizando a divisão por se tratar de um teste bicaudal\n",
        "\n",
        "# Calculando o p-valor\n",
        "p_valor = 1 - stats.f.cdf(F, df1, df2)\n",
        "\n",
        "print(\"O p-valor é:\", p_valor)\n",
        "\n",
        "# Conclusões\n",
        "if p_valor < alpha:\n",
        "    print(\"Rejeitar H0: Há evidências suficientes para concluir que uma ação é mais arriscada que a outra.\")\n",
        "else:\n",
        "    print(\"Falha em rejeitar H0: Não existem evidências suficientes para concluir que uma ação é mais arriscada que a outra.\")"
      ],
      "metadata": {
        "colab": {
          "base_uri": "https://localhost:8080/"
        },
        "id": "pZc7juAoS30I",
        "outputId": "0de3643e-a47d-42cc-b0c4-c44f30e02a6e"
      },
      "execution_count": null,
      "outputs": [
        {
          "output_type": "stream",
          "name": "stdout",
          "text": [
            "O p-valor é: 0.005108622913231997\n",
            "Rejeitar H0: Há evidências suficientes para concluir que uma ação é mais arriscada que a outra.\n"
          ]
        }
      ]
    },
    {
      "cell_type": "markdown",
      "source": [
        "Após a execução do nosso teste de hipóteses, rejeitamos a hipótese nula. Logo, podemos concluir que existem evidências para afirmar que uma ação é mais arriscada que a outra."
      ],
      "metadata": {
        "id": "RCxCUpjnZQ56"
      }
    },
    {
      "cell_type": "markdown",
      "source": [
        "Para casos como esses é possivel utilizarmos uma calculadora online, onde basta passarmos o nosso F, nosso denominador e o nosso numerador além do nivel de significancia e ela já vai nos retornar o nosso p-valor, esse é o link da ferramenta:\n",
        "\n",
        "- [Calculadora de Distribuição F](https://www.socscistatistics.com/pvalues/fdistribution.aspx)\n"
      ],
      "metadata": {
        "id": "YSVZx7_yi6l3"
      }
    },
    {
      "cell_type": "markdown",
      "source": [
        "# **Teste de hipótese - categóricos ou proporção com mais de 2 categorias (1 amostra)**"
      ],
      "metadata": {
        "id": "1vYFia3xjXLH"
      }
    },
    {
      "cell_type": "markdown",
      "source": [
        "O teste qui-quadrado é utilizado para testar se uma distribuição de frequência\n",
        "observada (valores amostrais) se ajusta a uma distribuição esperada (valores\n",
        "fixos que queremos comparar). Porém para aplicação deste teste algumas condições devem ser respeitadas tais condições são:\n",
        "\n",
        "- As frequências observadas devem ser obtidas de uma amostra aleatória.\n",
        "- Cada frequência esperada deve ser maior ou igual a 5.\n",
        "\n",
        "Se a situação respeitar essas condições podemos aplicar a seguinte formula:\n",
        "\n",
        "- x^2 = $\\frac{(O - E)^2}{E}$\n",
        "\n",
        "Onde:\n",
        "\n",
        "- x: é o valor observado na célula da tabela de contingência.\n",
        "- O: é o valor observado na célula da tabela de contingência.\n",
        "- E: é o valor esperado na célula da tabela de contingência.\n",
        "\n",
        "Lembrando que temos k – 1 graus de liberdade, sendo k o número de categorias.\n",
        "\n"
      ],
      "metadata": {
        "id": "0U5Thr_2jfX2"
      }
    },
    {
      "cell_type": "markdown",
      "source": [
        "Vamos observar um exemplo para tentarmos entender melhor.\n"
      ],
      "metadata": {
        "id": "qSXTPihAlJuA"
      }
    },
    {
      "cell_type": "markdown",
      "source": [
        "Uma associação de comércio varejista afirma que os meios de preparação de\n",
        "imposto são distribuídos conforme a tabela abaixo. Uma consultoria de\n",
        "impostos seleciona aleatoriamente 300 adultos e pergunta como eles\n",
        "preparam seus impostos. Os resultados encontram-se na tabela abaixo. Para a\n",
        "= 0,01, teste a afirmação da associação."
      ],
      "metadata": {
        "id": "o-Sls_oRla6n"
      }
    },
    {
      "cell_type": "markdown",
      "source": [
        "**Distribuição esperada para os meios**\n",
        "\n",
        "Contador = 24%\n",
        "\n",
        "Á mão = 20%\n",
        "\n",
        "Programa de computador = 35%\n",
        "\n",
        "Amigo/familiar = 6%\n",
        "\n",
        "Consultoria de impostos 15%\n",
        "\n",
        "**Resultados da pesquisa (n = 300)**\n",
        "\n",
        "Contador = 61\n",
        "\n",
        "Á mão = 42\n",
        "\n",
        "Programa de computador = 112\n",
        "\n",
        "Amigo/familiar = 29\n",
        "\n",
        "Consultoria de impostos = 56"
      ],
      "metadata": {
        "id": "HYULrPvIlexO"
      }
    },
    {
      "cell_type": "markdown",
      "source": [
        "Dito isso vamos definir nossas hipóteses:\n",
        "\n",
        "H0: A distribuição esperada dos métodos de preparação de impostos é: 24%\n",
        "por contador (72 do total de 300), 20% (60 do total de 300) à mão, 35% (105 do\n",
        "total de 300) com programa de computador, 6% (18 do total de 300) por\n",
        "amigo ou familiar e 15% (45 do total de 300) com consultoria de impostos.\n",
        "\n",
        "Ha: A distribuição dos métodos difere da distribuição esperada.\n",
        "\n",
        "Como existem 5 categorias, nosso grau de liberdade será 4, pois temos que: g.l = 5 - 1, logo g.l = 4"
      ],
      "metadata": {
        "id": "01BgJrwYrG6x"
      }
    },
    {
      "cell_type": "markdown",
      "source": [
        "Agora podemos partir para a estruturação dos dados e cálculo do qui-quadrado."
      ],
      "metadata": {
        "id": "5ZrrdqbblbaN"
      }
    },
    {
      "cell_type": "code",
      "source": [
        "# Definindo os dados em listas\n",
        "esperado = [72, 60, 105, 18, 45]\n",
        "observado = [61, 42, 112, 29, 56]\n",
        "\n",
        "# Função para calcular o teste qui-quadrado para cada categoria\n",
        "def qui_quadrado(esperado, observado):\n",
        "    return (observado - esperado) ** 2 / esperado\n",
        "\n",
        "# Calculando o qui-quadrado para cada categoria\n",
        "resultados = [qui_quadrado(esperado[i], observado[i]) for i in range(len(esperado))]\n",
        "\n",
        "# Realizando a soma dos resultados\n",
        "x = sum(resultados)\n",
        "\n",
        "# Graus de liberdade\n",
        "df = 5 - 1\n",
        "\n",
        "# Nível de significância\n",
        "alpha = 0.01\n",
        "\n",
        "# Exibindo o valor\n",
        "print(x)"
      ],
      "metadata": {
        "id": "8-2p8P-zlavZ",
        "colab": {
          "base_uri": "https://localhost:8080/"
        },
        "outputId": "d37b3c3e-e5d6-4e0e-a081-1c5ccce768c1"
      },
      "execution_count": null,
      "outputs": [
        {
          "output_type": "stream",
          "name": "stdout",
          "text": [
            "16.958333333333336\n"
          ]
        }
      ]
    },
    {
      "cell_type": "markdown",
      "source": [
        "Agora que temos o nosso qui-quadrado score, vamos buscar o p-valor."
      ],
      "metadata": {
        "id": "diU1V-2v-cMF"
      }
    },
    {
      "cell_type": "code",
      "source": [
        "# Importando a biblioteca\n",
        "from scipy.stats import chi2\n",
        "\n",
        "# Calculando o p-valor\n",
        "p_valor = 1 - chi2.cdf(x, df)\n",
        "\n",
        "# Conclusões\n",
        "if p_valor < alpha:\n",
        "    print(\"Rejeitar H0: Há evidências suficientes para concluir que a distribuição dos métodos difere da distribuição esperada.\")\n",
        "else:\n",
        "    print(\"Falha em rejeitar H0: Não existem evidências suficientes para concluir que a distribuição dos métodos difere da distribuição esperada.\")"
      ],
      "metadata": {
        "colab": {
          "base_uri": "https://localhost:8080/"
        },
        "id": "uSE4UU2V-iOs",
        "outputId": "d40f34f0-3740-4c4f-f9f8-8380c040f47e"
      },
      "execution_count": null,
      "outputs": [
        {
          "output_type": "stream",
          "name": "stdout",
          "text": [
            "Rejeitar H0: Há evidências suficientes para concluir que a distribuição dos métodos difere da distribuição esperada.\n"
          ]
        }
      ]
    },
    {
      "cell_type": "markdown",
      "source": [
        "Com base no nosso teste de hipótese a um nível de significância de 0,01, rejeitamos a hipótese nula. Logo, podemos concluir que existem evidências suficientes de que a distribuição dos métodos difere da distribuição esperada, portanto, são diferentes."
      ],
      "metadata": {
        "id": "2Lac8ozq_wvm"
      }
    },
    {
      "cell_type": "markdown",
      "source": [
        "Após calcularmos o qui-quadrado, existe uma calculadora na qual basta passarmos o mesmo e os graus de liberdade, junto com o alpha, que ela já retornará o p-valor. Vou deixar o link da ferramenta caso alguém tenha interesse:\n",
        "\n",
        "- [Calculadora de Distribuição Qui-Quadrado](https://www.socscistatistics.com/pvalues/chidistribution.aspx)"
      ],
      "metadata": {
        "id": "qp2VRL0mAes9"
      }
    },
    {
      "cell_type": "markdown",
      "source": [
        "# **Teste de hipótese - categóricos ou proporção com mais de 2 categorias (2 amostras)**"
      ],
      "metadata": {
        "id": "Y2KFA8oBEsgN"
      }
    },
    {
      "cell_type": "markdown",
      "source": [
        "Nesse caso, também utilizaremos o teste qui-quadrado, porém existem algumas diferenças, como a aplicação da fórmula.\n",
        "\n",
        "A estatística de teste qui-quadrado é calculada pela seguinte fórmula:\n",
        "- $\\chi^2 = \\sum \\frac{(O_{ij} - E_{ij})^2}{E_{ij}}$\n",
        "\n",
        "onde:\n",
        "- $\\chi^2$ é a estatística de teste qui-quadrado,\n",
        "- $O$ são as frequências observadas,\n",
        "- $E$ são as frequências esperadas.\n",
        "\n",
        "Dito isso, vamos observar um Exercício\n"
      ],
      "metadata": {
        "id": "XQM7B-RGFgSW"
      }
    },
    {
      "cell_type": "markdown",
      "source": [
        "Exercício:\n",
        "Um estudo foi realizado para investigar a preferência de bebidas entre dois grupos de pessoas (grupo A e grupo B). Os participantes foram questionados sobre sua preferência entre quatro tipos de bebidas: água, suco de laranja, refrigerante e chá. Os resultados foram os seguintes:\n",
        "\n",
        "- Grupo A (100 pessoas): 20 preferem água, 30 preferem suco de laranja, 40 preferem refrigerante, 10 preferem chá.\n",
        "- Grupo B (120 pessoas): 30 preferem água, 25 preferem suco de laranja, 45 preferem refrigerante, 20 preferem chá.\n",
        "\n",
        "É possivel determinar se há uma associação significativa entre a preferência de bebidas e os grupos A e B"
      ],
      "metadata": {
        "id": "pe2FLfuwGzne"
      }
    },
    {
      "cell_type": "markdown",
      "source": [
        "Resposta: Nesse caso, estamos diante de variáveis independentes, logo, podemos aplicar o nosso teste.\n",
        "\n",
        "Vamos criar as nossas hipóteses:\n",
        "\n",
        "H0: A = B -> não há diferença significativa na preferência de bebidas entre os grupos A e B\n",
        "\n",
        "Ha: A ≠ B -> há diferença significativa na preferência de bebidas entre os grupos A e B"
      ],
      "metadata": {
        "id": "hsR6c-t3HT3F"
      }
    },
    {
      "cell_type": "code",
      "source": [
        "# Importando a biblioteca\n",
        "from scipy.stats import chi2_contingency\n",
        "\n",
        "# Dados observados\n",
        "grupo_A = [20, 30, 40, 10]\n",
        "grupo_B = [30, 25, 45, 20]\n",
        "\n",
        "# Criando uma tabela de contingência com os dados observados\n",
        "tabela_contingencia = [grupo_A, grupo_B]\n",
        "\n",
        "# Executando o teste qui-quadrado de independência\n",
        "chi2, p_valor, _, _ = chi2_contingency(tabela_contingencia)\n",
        "\n",
        "# Imprimindo o resultado\n",
        "print(\"Valor qui-quadrado:\", chi2)\n",
        "print(\"p-valor:\", p_valor)"
      ],
      "metadata": {
        "colab": {
          "base_uri": "https://localhost:8080/"
        },
        "id": "bC1lVOKMEr5u",
        "outputId": "5c290d8d-2540-49f9-ffc6-9bb553c718b1"
      },
      "execution_count": null,
      "outputs": [
        {
          "output_type": "stream",
          "name": "stdout",
          "text": [
            "Valor qui-quadrado: 4.299346405228759\n",
            "p-valor: 0.23090173858289798\n"
          ]
        }
      ]
    },
    {
      "cell_type": "markdown",
      "source": [
        "Dessa forma, conseguimos obter o p-valor e o qui-quadrado. Agora podemos tirar nossas conclusões."
      ],
      "metadata": {
        "id": "qxTQETFbV9yr"
      }
    },
    {
      "cell_type": "code",
      "source": [
        "# Definindo o alpha\n",
        "alpha = 0.05\n",
        "\n",
        "# Conclusões\n",
        "if p_valor < alpha:\n",
        "    print(\"Rejeitar H0: NÂO existe evidências suficientes para concluir que existe uma associação significativa entre as preferência de bebidas e os grupos A e B.\")\n",
        "else:\n",
        "    print(\"Falha em rejeitar H0: Existem evidências suficientes para concluir que existe uma associação significativa entre as preferência de bebidas e os grupos A e B.\")"
      ],
      "metadata": {
        "colab": {
          "base_uri": "https://localhost:8080/"
        },
        "id": "o7h9PqEdWJDr",
        "outputId": "ff645367-ea93-4ded-def4-15adde5ade57"
      },
      "execution_count": null,
      "outputs": [
        {
          "output_type": "stream",
          "name": "stdout",
          "text": [
            "Falha em rejeitar H0: Existem evidências suficientes para concluir que existe uma associação significativa entre as preferência de bebidas e os grupos A e B.\n"
          ]
        }
      ]
    },
    {
      "cell_type": "markdown",
      "source": [
        "Dado o nosso teste de hipótese a um nível de significância de 0.05, falhamos em rejeitar a hipótese nula. Logo, podemos concluir que existem evidências de que não existe uma associação significativa entre a preferência de bebidas e os grupos A e B."
      ],
      "metadata": {
        "id": "93-hd-rRW6cL"
      }
    },
    {
      "cell_type": "markdown",
      "source": [
        "Uma outra opção seria calcularmos o teste e utilizarmos a calculadora online para calcularmos o p-valor. Vou deixar o link da mesma:\n",
        "\n",
        "- [Calculadora de Distribuição Qui-Quadrado](https://www.socscistatistics.com/pvalues/chidistribution.aspx)"
      ],
      "metadata": {
        "id": "lGVpsY8zYb37"
      }
    },
    {
      "cell_type": "markdown",
      "source": [
        "# **ANOVA um fator**"
      ],
      "metadata": {
        "id": "LQE0JGCthZUW"
      }
    },
    {
      "cell_type": "markdown",
      "source": [
        "Breve Resumo:\n",
        "\n",
        "A análise de variância (ANOVA) é uma técnica estatística utilizada para comparar as médias de três ou mais grupos independentes. Ela avalia se existe uma diferença significativa entre as médias dos grupos e é comumente utilizada quando se tem um fator categórico com mais de duas categorias.\n",
        "\n",
        "Quando Utilizar:\n",
        "\n",
        "- Quando você deseja comparar as médias de três ou mais grupos independentes para determinar se há uma diferença estatisticamente significativa entre eles.\n",
        "- Ao investigar o efeito de um único fator categórico com mais de duas categorias sobre uma variável contínua.\n",
        "- Quando você tem dados que atendem aos pressupostos da ANOVA, como normalidade, homogeneidade das variâncias e independência entre as observações.\n",
        "\n",
        "Requisitos para aplicação:\n",
        "\n",
        "- Independência das observações: As observações em cada grupo devem ser independentes umas das outras.\n",
        "- Normalidade dos resíduos: As diferenças entre os valores observados e os valores previstos devem ser normalmente distribuídas em cada grupo.\n",
        "- Homogeneidade das variâncias: As variâncias dos resíduos devem ser aproximadamente iguais em todos os grupos."
      ],
      "metadata": {
        "id": "eAFOX5nlh5r8"
      }
    },
    {
      "cell_type": "markdown",
      "source": [
        "Importante frisarmos que por padrão assumimos as seguintes hipóteses:\n",
        "\n",
        "- H0: Todas as médias do grupo são iguais.\n",
        "\n",
        "- Ha: Nem todas as médias do grupo são iguais."
      ],
      "metadata": {
        "id": "q4z3WCVYm50G"
      }
    },
    {
      "cell_type": "markdown",
      "source": [
        "Para um melhor entendimento, vamos observar um exemplo:\n",
        "\n",
        "Suponha que um pesquisador esteja investigando o efeito de diferentes tipos de adubos (A, B, C) no crescimento de plantas. O pesquisador selecionou aleatoriamente 10 plantas e aplicou um tipo de adubo em cada planta. Após um período de crescimento, ele mediu a altura das plantas em centímetros. Os resultados estão listados abaixo:\n",
        "\n",
        "- Adubo A: [30, 32, 31, 28, 29, 30, 32, 31, 30, 31]\n",
        "- Adubo B: [29, 30, 31, 33, 30, 31, 30, 31, 32, 31]\n",
        "- Adubo C: [27, 28, 30, 29, 28, 30, 29, 28, 29, 30]\n",
        "\n",
        "Determine se existe uma diferença significativa entre as médias das alturas das plantas para os três tipos de adubos. Use um nível de significância de 0.05."
      ],
      "metadata": {
        "id": "U9G7M076p2R5"
      }
    },
    {
      "cell_type": "markdown",
      "source": [
        "Vamos definir as hipóteses:\n",
        "\n",
        "H0: Altura média A = Altura média B = Altura média C  \n",
        "\n",
        "Ha: Existem diferenças entre as alturas médias"
      ],
      "metadata": {
        "id": "MoMfFtYXydsQ"
      }
    },
    {
      "cell_type": "markdown",
      "source": [
        "Nesse caso, como temos 3 grupos independentes e queremos saber se existem diferenças significativas entre eles, podemos aplicar o teste ANOVA de um fator. Dito isso, vamos começar com as importações necessárias."
      ],
      "metadata": {
        "id": "IosxmsPcqPqm"
      }
    },
    {
      "cell_type": "code",
      "source": [
        "# Importando o Anova um fator\n",
        "from scipy.stats import f_oneway"
      ],
      "metadata": {
        "id": "DRSgaTFcxpzX"
      },
      "execution_count": null,
      "outputs": []
    },
    {
      "cell_type": "markdown",
      "source": [
        "Dito isso, vamos partir para o cálculo."
      ],
      "metadata": {
        "id": "2-JhdPmUxxlO"
      }
    },
    {
      "cell_type": "code",
      "source": [
        "# Definindo os grupos\n",
        "adubo_a = [30, 32, 31, 28, 29, 30, 32, 31, 30, 31]\n",
        "adubo_b = [29, 30, 31, 33, 30, 31, 30, 31, 32, 31]\n",
        "adubo_c = [27, 28, 30, 29, 28, 30, 29, 28, 29, 30]\n",
        "\n",
        "# Executando ANOVA de um fator\n",
        "f_statistic, p_value = f_oneway(adubo_a, adubo_b, adubo_c)\n",
        "\n",
        "print(\"Estatística F:\", f_statistic)\n",
        "print(\"Valor p:\", p_value)\n",
        "\n",
        "if p_value < 0.05:\n",
        "    print(\"Rejeitar H0: Há diferença significativa entre as médias.\")\n",
        "else:\n",
        "    print(\"Falha em rejeitar H0: Não há diferença significativa entre as médias.\")"
      ],
      "metadata": {
        "colab": {
          "base_uri": "https://localhost:8080/"
        },
        "id": "-hTIK46Hxp1u",
        "outputId": "6a025a23-a78d-4e0b-d0ce-3dc6c304084d"
      },
      "execution_count": null,
      "outputs": [
        {
          "output_type": "stream",
          "name": "stdout",
          "text": [
            "Estatística F: 8.494382022471909\n",
            "Valor p: 0.0013749821478992777\n",
            "Rejeitar H0: Há diferença significativa entre as médias.\n"
          ]
        }
      ]
    },
    {
      "cell_type": "markdown",
      "source": [
        "Dessa forma, ao aplicarmos o teste e considerando nosso nível de significância de 0,05, rejeitamos a hipótese nula. Logo, podemos concluir que existem evidências de que as médias das alturas das plantas são diferentes."
      ],
      "metadata": {
        "id": "iYM_ufILyHUX"
      }
    },
    {
      "cell_type": "markdown",
      "source": [
        "## **Teste de Tukey**\n",
        "\n",
        "\n",
        "\n",
        "\n"
      ],
      "metadata": {
        "id": "SrSceF0XKYL0"
      }
    },
    {
      "cell_type": "markdown",
      "source": [
        "O teste de Tukey é uma análise de comparação múltipla usada após o teste ANOVA. Ele nos permite determinar quais grupos têm médias significativamente diferentes entre si.\n",
        "\n",
        "Passos para realizar o teste de Tukey:\n",
        "\n",
        "- Independência das observações: Mesmo pressuposto que o teste ANOVA.\n",
        "- Normalidade dos resíduos: Mesmo pressuposto que o teste ANOVA.\n",
        "- Homogeneidade das variâncias: Mesmo pressuposto que o teste ANOVA.\n",
        "\n",
        "Realizar o teste de Tukey:\n",
        "\n",
        "- Se os pressupostos forem atendidos, o teste de Tukey pode ser aplicado diretamente para comparar todas as médias dos grupos.\n",
        "\n",
        "- Se os pressupostos não forem atendidos (por exemplo, desigualdade de variâncias), considerar o teste de Games-Howell como uma alternativa."
      ],
      "metadata": {
        "id": "qgFyVJ6MQD9V"
      }
    },
    {
      "cell_type": "markdown",
      "source": [
        "Vamos observar a implementação do mesmo, já que a ANOVA já foi aplicada."
      ],
      "metadata": {
        "id": "cnjKw06AMhcN"
      }
    },
    {
      "cell_type": "code",
      "source": [
        "# Importando o teste\n",
        "from statsmodels.stats.multicomp import pairwise_tukeyhsd\n",
        "\n",
        "# Juntando os dados em um único DataFrame\n",
        "data = pd.DataFrame({\n",
        "    'altura': adubo_a + adubo_b + adubo_c,\n",
        "    'adubo': ['A'] * 10 + ['B'] * 10 + ['C'] * 10 # Como os primeiros 10 registros são do grupo A estou multiplicando o A 10 vezes para ele aparecer em todos os seus elementos\n",
        "                                                  # O mesmo esta sendo aplicado para as outras duas categórias\n",
        "})\n",
        "\n",
        "# Aplicando o teste de Tukey\n",
        "tukey_results = pairwise_tukeyhsd(data['altura'], data['adubo'])\n",
        "\n",
        "# Exibindo o resultado\n",
        "print(tukey_results)"
      ],
      "metadata": {
        "colab": {
          "base_uri": "https://localhost:8080/"
        },
        "id": "0wjJJ9zsH6IM",
        "outputId": "052059b5-87e2-4c7b-88ac-90b774c4006c"
      },
      "execution_count": null,
      "outputs": [
        {
          "output_type": "stream",
          "name": "stdout",
          "text": [
            "Multiple Comparison of Means - Tukey HSD, FWER=0.05 \n",
            "====================================================\n",
            "group1 group2 meandiff p-adj   lower   upper  reject\n",
            "----------------------------------------------------\n",
            "     A      B      0.4 0.7189 -0.8732  1.6732  False\n",
            "     A      C     -1.6 0.0116 -2.8732 -0.3268   True\n",
            "     B      C     -2.0 0.0016 -3.2732 -0.7268   True\n",
            "----------------------------------------------------\n"
          ]
        }
      ]
    },
    {
      "cell_type": "markdown",
      "source": [
        "Dessa forma, podemos observar as comparações entre cada grupo. Dito isso, vamos ver o que conseguimos extrair desse resultado:\n",
        "\n"
      ],
      "metadata": {
        "id": "gxs5pRBrNrw1"
      }
    },
    {
      "cell_type": "markdown",
      "source": [
        "**Comparação entre os grupos A e B:**\n",
        "\n",
        "- Podemos observar que a diferença da média é de 0,4.\n",
        "- O p-valor ajustado é de 0,71, o que é maior que o nosso alfa de 0,05.\n",
        "- O intervalo de confiança para a diferença da média varia de -0,87 a 1,67.\n",
        "- Como o p-valor ajustado é maior que o nosso alfa, falhamos em rejeitar a hipótese nula. Logo, não existe diferença significativa entre os grupos A e B.\n",
        "\n",
        "\n",
        "**Comparação entre os grupos A e C:**\n",
        "\n",
        "- Podemos observar que a diferença da média é de -1,6.\n",
        "- O p-valor ajustado é de 0,01, o que é menor que o nosso alfa de 0,05.\n",
        "- O intervalo de confiança para a diferença da média varia de -2,87 a -0,32.\n",
        "- Como o p-valor ajustado é menor que o nosso alfa, rejeitamos a hipótese nula, logo podemos concluir que existe diferença significativa entre os grupos A e C.\n",
        "\n",
        "\n",
        "**Comparação entre os grupos B e C:**\n",
        "\n",
        "- Podemos observar que a diferença da média é de -2,0.\n",
        "- O p-valor ajustado é de 0,001, o que é menor que o nosso alfa de 0,05.\n",
        "- O intervalo de confiança para a diferença da média varia de -3,27 a -0,72.\n",
        "- Como o p-valor ajustado é menor que o nosso alfa, rejeitamos a hipótese nula, logo podemos concluir que existe diferença significativa entre os grupos B e C."
      ],
      "metadata": {
        "id": "sy0nr5v8OB_G"
      }
    },
    {
      "cell_type": "markdown",
      "source": [
        "Dessa forma, podemos concluir, com um nível de significância de 0,05, que existem evidências da existência de diferenças estatísticas entre os grupos A:C e B:C."
      ],
      "metadata": {
        "id": "niaPo5BNhA5s"
      }
    },
    {
      "cell_type": "markdown",
      "source": [
        "## **Teste de Games-Howell**\n",
        "\n"
      ],
      "metadata": {
        "id": "7bb95dsEKc18"
      }
    },
    {
      "cell_type": "markdown",
      "source": [
        "O teste de Games-Howell é uma alternativa ao teste de Tukey quando os pressupostos do ANOVA não são atendidos, especialmente quando há desigualdade de variâncias entre os grupos.\n",
        "\n",
        "Passos para realizar o teste de Games-Howell:\n",
        "\n",
        "- Independência das observações: Mesmo pressuposto que o teste ANOVA.\n",
        "\n",
        "- Normalidade dos resíduos: Mesmo pressuposto que o teste ANOVA.\n",
        "\n",
        "- Homogeneidade das variâncias: Não é necessário assumir homogeneidade das variâncias entre os grupos.\n",
        "\n",
        "Realizar o teste de Games-Howell para comparações múltiplas entre os grupos."
      ],
      "metadata": {
        "id": "Zf3sGy5pQF_k"
      }
    },
    {
      "cell_type": "markdown",
      "source": [
        "Digamos que os dados que temos não passaram em todos os pressupostos para a aplicação de um teste ANOVA, nesse caso vamos aplicar o teste de Games-Howell dito isso vamos realizar algumas importações necessarias"
      ],
      "metadata": {
        "id": "HWjU-EFyjs4U"
      }
    },
    {
      "cell_type": "code",
      "source": [
        "# Realizando a instalação\n",
        "!pip install pingouin\n",
        "\n",
        "# Funções matématicas\n",
        "import numpy as np\n",
        "\n",
        "# Manipulação de dados\n",
        "import pandas as pd\n",
        "\n",
        "# Importando a biblioteca pingouin\n",
        "import pingouin as pg"
      ],
      "metadata": {
        "id": "8V2_gdIKKCmO"
      },
      "execution_count": null,
      "outputs": []
    },
    {
      "cell_type": "markdown",
      "source": [
        "Com todas as bibliotecas importadas podemos passar para a parte do calculo propriamente dito"
      ],
      "metadata": {
        "id": "fMS8coy7j5z7"
      }
    },
    {
      "cell_type": "code",
      "source": [
        "# Dados fornecidos\n",
        "grupo_A = [30, 32, 31, 28, 29, 30, 32, 31, 30, 31]\n",
        "grupo_B = [29, 30, 31, 33, 30, 31, 30, 31, 32, 31]\n",
        "grupo_C = [27, 28, 30, 29, 28, 30, 29, 28, 29, 30]\n",
        "\n",
        "    # Criando um DataFrame Pandas\n",
        "data = pd.DataFrame({\n",
        "        'Altura': np.concatenate([grupo_A, grupo_B, grupo_C]),\n",
        "'Adubo': ['A'] * len(grupo_A) + ['B'] * len(grupo_B) + ['C'] * len(grupo_C)\n",
        "})\n",
        "\n",
        "# Realizando o teste de Games-Howell\n",
        "games_howell_results = pg.pairwise_gameshowell(data, dv='Altura', between='Adubo')\n",
        "\n",
        "# Exibindo o resultado\n",
        "print(games_howell_results)"
      ],
      "metadata": {
        "id": "GahTyc0AP-e9",
        "colab": {
          "base_uri": "https://localhost:8080/"
        },
        "outputId": "88bfcf4e-bfc1-421b-d2c7-b1685e0e2667"
      },
      "execution_count": null,
      "outputs": [
        {
          "output_type": "stream",
          "name": "stdout",
          "text": [
            "   A  B  mean(A)  mean(B)  diff        se         T         df      pval  \\\n",
            "0  A  B     30.4     30.8  -0.4  0.537484 -0.744208  17.793636  0.740922   \n",
            "1  A  C     30.4     28.8   1.6  0.516398  3.098387  17.307692  0.016777   \n",
            "2  B  C     30.8     28.8   2.0  0.485341  4.120817  17.841214  0.001795   \n",
            "\n",
            "     hedges  \n",
            "0 -0.318757  \n",
            "1  1.327092  \n",
            "2  1.765017  \n"
          ]
        }
      ]
    },
    {
      "cell_type": "markdown",
      "source": [
        "Comparação entre os grupos A e B:\n",
        "\n",
        "- A média do grupo A é 30.4 e a média do grupo B é 30.8.\n",
        "- A diferença entre as médias é -0.4.\n",
        "- O erro padrão da diferença é 0.537.\n",
        "- A estatística de teste é -0.744.\n",
        "- Os graus de liberdade são 17.79.\n",
        "- O valor-p é 0.741, o que indica que a diferença não é estatisticamente significativa.\n",
        "- O tamanho do efeito (Hedges) é -0.319.\n",
        "\n",
        "Comparação entre os grupos A e C:\n",
        "\n",
        "- A média do grupo A é 30.4 e a média do grupo C é 28.8.\n",
        "- A diferença entre as médias é 1.6.\n",
        "- O erro padrão da diferença é 0.516.\n",
        "- A estatística de teste é 3.098.\n",
        "- Os graus de liberdade são 17.31.\n",
        "- O valor-p é 0.017, o que indica que a diferença é estatisticamente significativa.\n",
        "- O tamanho do efeito (Hedges) é 1.327.\n",
        "\n",
        "Comparação entre os grupos B e C:\n",
        "\n",
        "- A média do grupo B é 30.8 e a média do grupo C é 28.8.\n",
        "- A diferença entre as médias é 2.0.\n",
        "- O erro padrão da diferença é 0.485.\n",
        "- A estatística de teste é 4.121.\n",
        "- Os graus de liberdade são 17.84.\n",
        "- O valor-p é 0.002, o que indica que a diferença é estatisticamente significativa.\n",
        "- O tamanho do efeito (Hedges) é 1.765."
      ],
      "metadata": {
        "id": "Sf6ixiYvkb-D"
      }
    },
    {
      "cell_type": "markdown",
      "source": [
        "Utilizamos os mesmos dados e obtivemos um resultado muito semelhante. Novamente, os únicos grupos que apresentam diferenças estatisticamente significativas são os grupos A:C e B:C."
      ],
      "metadata": {
        "id": "JN_V5didkqE7"
      }
    },
    {
      "cell_type": "markdown",
      "source": [
        "# **Exercícios**"
      ],
      "metadata": {
        "id": "HlhaGmWJ2FUs"
      }
    },
    {
      "cell_type": "markdown",
      "source": [
        "## **Questão 1**"
      ],
      "metadata": {
        "id": "wHOrrp1H2Hy7"
      }
    },
    {
      "cell_type": "markdown",
      "source": [
        "Uma empresa de e-commerce deseja analisar a variabilidade no tempo de entrega de seus produtos para diferentes regiões. Eles coletaram uma amostra de 30 tempos de entrega para a Região A e desejam calcular um intervalo de confiança para a variância populacional do tempo de entrega nessa região.\n",
        "\n",
        "**Tempo de entrega (em dias) para a Região A - [3, 4, 5, 6, 4, 5, 5, 7, 6, 4, 5, 6, 7, 4, 5, 6, 5, 4, 6, 7, 5, 4, 6, 5, 7, 6, 5, 4, 5, 6]**\n",
        "\n",
        "Calcule um intervalo de confiança de 95% para a variância do tempo de entrega na Região A. O que esse intervalo representa em termos de variabilidade nos tempos de entrega?"
      ],
      "metadata": {
        "id": "JPMUARAx2HK7"
      }
    },
    {
      "cell_type": "markdown",
      "source": [
        "Vamos utilizar o qui-quadrado. Dito isso, vamos começar realizando as importações necessárias."
      ],
      "metadata": {
        "id": "7GRoAOng3B9d"
      }
    },
    {
      "cell_type": "code",
      "source": [
        "# Importando o qui quadrado\n",
        "from scipy.stats import chi2\n",
        "\n",
        "# Funções matématicas\n",
        "import numpy as np"
      ],
      "metadata": {
        "id": "0QjbXaIV3WT0"
      },
      "execution_count": null,
      "outputs": []
    },
    {
      "cell_type": "markdown",
      "source": [
        "Agora vamos definir os dados e partir para o cálculo."
      ],
      "metadata": {
        "id": "HKvgBAU53WyU"
      }
    },
    {
      "cell_type": "code",
      "source": [
        "# Definindo os dados\n",
        "regiao_a =  [3, 4, 5, 6, 4, 5, 5, 7, 6, 4, 5, 6, 7, 4, 5, 6, 5, 4, 6, 7, 5, 4, 6, 5, 7, 6, 5, 4, 5, 6]\n",
        "\n",
        "# Tamanho da amostra\n",
        "n = len(regiao_a)\n",
        "\n",
        "# Definindo os graus de liberdade\n",
        "df = n - 1\n",
        "\n",
        "# Definindo a variância amostral\n",
        "s = np.var(regiao_a)\n",
        "\n",
        "# Definindo o nível de confiança\n",
        "confianca = 0.95\n",
        "\n",
        "# Intervalo de confiança para a variância\n",
        "intervalo_variancia = chi2.interval(confianca, df)\n",
        "\n",
        "# Definindo os valores criticos\n",
        "crit_superior = intervalo_variancia[1]\n",
        "crit_inferior = intervalo_variancia[0]\n",
        "\n",
        "# Exibindo os valores\n",
        "print(f\"χ²R = {crit_superior}, χ²L = {crit_inferior}\")"
      ],
      "metadata": {
        "colab": {
          "base_uri": "https://localhost:8080/"
        },
        "id": "m4HuPMpc3eYM",
        "outputId": "d8ecea6e-8838-40fb-89e1-ce50cd9d409e"
      },
      "execution_count": null,
      "outputs": [
        {
          "output_type": "stream",
          "name": "stdout",
          "text": [
            "χ²R = 45.72228580417452, χ²L = 16.047071695364906\n"
          ]
        }
      ]
    },
    {
      "cell_type": "markdown",
      "source": [
        "Agora que conseguimos os nossos valores críticos, basta seguirmos para a definição dos nossos limites."
      ],
      "metadata": {
        "id": "oo111s8t36i1"
      }
    },
    {
      "cell_type": "code",
      "source": [
        "# Lmites para a variância\n",
        "limite_inferior_variancia = (n - 1) * s**2 / crit_superior\n",
        "limite_superior_variancia = (n - 1) * s**2 / crit_inferior\n",
        "\n",
        "print(\"Intervalo de confiança para a variação populacional:\", (limite_inferior_variancia, limite_superior_variancia))"
      ],
      "metadata": {
        "colab": {
          "base_uri": "https://localhost:8080/"
        },
        "id": "m6AxbzYC4KjD",
        "outputId": "ca8ce9b1-be10-4e59-aceb-ecb962996ff0"
      },
      "execution_count": null,
      "outputs": [
        {
          "output_type": "stream",
          "name": "stdout",
          "text": [
            "Intervalo de confiança para a variação populacional: (0.7846088454586377, 2.235554907310923)\n"
          ]
        }
      ]
    },
    {
      "cell_type": "markdown",
      "source": [
        "Dessa forma, podemos afirmar que, com 95% de confiança, podemos dizer que a variância populacional está entre 0,78 e 2,23."
      ],
      "metadata": {
        "id": "7Po0HAv784VG"
      }
    },
    {
      "cell_type": "markdown",
      "source": [
        "## **Questão 2**"
      ],
      "metadata": {
        "id": "zklq7WdF9Qyn"
      }
    },
    {
      "cell_type": "markdown",
      "source": [
        "Uma empresa de manufatura está interessada em verificar se a variância dos diâmetros de um determinado componente atende às especificações de qualidade. A variância máxima permitida é de 0,025. A empresa coletou uma amostra de e deseja realizar um teste de hipótese para determinar se a variância dos diâmetros difere significativamente da especificação.\n",
        "\n",
        "Diâmetros dos componentes - [4.2, 4.3, 4.1, 4.4, 4.2, 4.4, 4.3, 4.2, 4.5, 4.4, 4.2, 4.3, 4.1, 4.4, 4.5, 4.3, 4.3, 4.4, 4.4, 4.2, 4.4, 4.3, 4.0, 4.1, 3.9, 4.4, 4.3, 4.6, 4.2, 4.0, 4.4, 4.0, 4.3]\n",
        "\n",
        "A variância dos diâmetros dos componentes difere significativamente da especificação?"
      ],
      "metadata": {
        "id": "wryDfrbF9S6u"
      }
    },
    {
      "cell_type": "markdown",
      "source": [
        "Resposta: Sabendo disso, vamos começar definindo as nossas hipóteses:\n",
        "\n",
        "H0: variância <= especificação\n",
        "\n",
        "Ha: variância > especificação\n",
        "\n",
        "Estamos diante de um teste unicaudal à direita.\n",
        "\n",
        "Nesse caso, vamos aplicar o teste qui-quadrado. Dito isso, vamos seguir com as importações."
      ],
      "metadata": {
        "id": "T8wVkuj69WNu"
      }
    },
    {
      "cell_type": "code",
      "source": [
        "# Funções estatísticas\n",
        "import scipy.stats as stats"
      ],
      "metadata": {
        "id": "FSffCmP197d2"
      },
      "execution_count": null,
      "outputs": []
    },
    {
      "cell_type": "markdown",
      "source": [
        "Agora vamos partir para os cálculos."
      ],
      "metadata": {
        "id": "MtAWvq0T98OG"
      }
    },
    {
      "cell_type": "code",
      "source": [
        "# Definindo os valores\n",
        "amostra = [4.2, 4.3, 4.1, 4.4, 4.2, 4.4, 4.3, 4.2, 4.5, 4.4, 4.2, 4.3, 4.1, 4.4, 4.5, 4.3, 4.3, 4.4, 4.4, 4.2, 4.4, 4.3, 4.0, 4.1, 3.9, 4.4, 4.3, 4.6, 4.2, 4.0, 4.4, 4.0, 4.3]\n",
        "\n",
        "# Tamanho da amostra\n",
        "n = len(amostra)\n",
        "\n",
        "# Variância amostral\n",
        "s_amostra = np.var(amostra)\n",
        "\n",
        "# Variância afirmada\n",
        "s_hipotetica = 0.025\n",
        "\n",
        "# Nível de significância\n",
        "alpha = 0.05\n",
        "\n",
        "# Graus de liberdade\n",
        "df = n - 1\n",
        "\n",
        "# Calculando o valor do teste\n",
        "valor_teste = (n - 1) * s_amostra / s_hipotetica\n",
        "\n",
        "# Exibindo o valor\n",
        "print(valor_teste)"
      ],
      "metadata": {
        "colab": {
          "base_uri": "https://localhost:8080/"
        },
        "id": "AzxtRFoh9-6G",
        "outputId": "e31e5d4f-6b4d-4a42-c83c-462c49ca3c89"
      },
      "execution_count": null,
      "outputs": [
        {
          "output_type": "stream",
          "name": "stdout",
          "text": [
            "32.7933884297521\n"
          ]
        }
      ]
    },
    {
      "cell_type": "code",
      "source": [
        "# Outra maneira de conseguir a variância\n",
        "\n",
        "\"\"\"import statistics\n",
        "\n",
        "# Lista de valores\n",
        "lista = [1, 2, 3, 4, 5]\n",
        "\n",
        "# Calculando a variância usando statistics\n",
        "variancia = statistics.variance(amostra)\n",
        "\n",
        "print(\"Variância:\", variancia)\"\"\""
      ],
      "metadata": {
        "colab": {
          "base_uri": "https://localhost:8080/"
        },
        "id": "pPk05sriA8ae",
        "outputId": "cfb7b16d-ce1a-467d-ec71-5c88419b3a63"
      },
      "execution_count": null,
      "outputs": [
        {
          "output_type": "stream",
          "name": "stdout",
          "text": [
            "Variância: 0.02642045454545457\n"
          ]
        }
      ]
    },
    {
      "cell_type": "markdown",
      "source": [
        "Agora que temos o valor do teste, vamos calcular o p-valor."
      ],
      "metadata": {
        "id": "ezovaE1V-pAu"
      }
    },
    {
      "cell_type": "code",
      "source": [
        "# Calculando o p-valor\n",
        "p_valor = 1 - stats.chi2.cdf(valor_teste, df)\n",
        "\n",
        "# Exibindo o p-valor\n",
        "print(\"P-valor:\", p_valor)\n",
        "\n",
        "# Conclusões\n",
        "if p_valor < alpha:\n",
        "    print(\"Rejeitar H0: Há evidências suficientes para concluir que a variância é maior que 0,025.\")\n",
        "else:\n",
        "    print(\"Falha em rejeitar H0: Não existem evidências suficientes para concluir que a variância é maior que 0,025.\")"
      ],
      "metadata": {
        "colab": {
          "base_uri": "https://localhost:8080/"
        },
        "id": "KTL2ff8c-oT3",
        "outputId": "d5093a07-efb6-47df-d0a4-a0e1e0c4c0ea"
      },
      "execution_count": null,
      "outputs": [
        {
          "output_type": "stream",
          "name": "stdout",
          "text": [
            "P-valor: 0.4279283532700553\n",
            "Falha em rejeitar H0: Não existem evidências suficientes para concluir que a variância é maior que 0,025.\n"
          ]
        }
      ]
    },
    {
      "cell_type": "markdown",
      "source": [
        "Segundo nosso teste de hipótese e levando em consideração um nível de significância de 0,05, falhamos em rejeitar a hipótese nula, logo não temos evidências suficientes para concluir que a variância é maior do que o valor especificado."
      ],
      "metadata": {
        "id": "uWDJLRszCAsH"
      }
    },
    {
      "cell_type": "markdown",
      "source": [
        "#**Questão 3**"
      ],
      "metadata": {
        "id": "J6eL2vlvLVIj"
      }
    },
    {
      "cell_type": "markdown",
      "source": [
        "Uma empresa de alimentos lançou três diferentes embalagens para um de seus produtos populares. Eles coletaram dados de vendas durante um mês em diferentes regiões para avaliar se existe diferença significativa nas vendas entre as três embalagens.\n",
        "\n",
        "Vendas do produto para as três embalagens em diferentes regiões.\n",
        "\n",
        "| Região | Embalagem 1 | Embalagem 2 | Embalagem 3 |\n",
        "| --- | --- | --- | --- |\n",
        "| Região A | 120 | 130 | 110 |\n",
        "| Região B | 150 | 140 | 160 |\n",
        "| Região C | 100 | 110 | 105 |\n",
        "| Região D | 135 | 125 | 130 |\n",
        "\n",
        "Determine se existe uma diferença significativa nas vendas entre as três embalagens. Caso haja diferença, identifique quais embalagens têm médias de vendas significativamente diferentes e qual é o insight prático que pode ser obtido a partir desses resultados."
      ],
      "metadata": {
        "id": "fK5f_NLjLatT"
      }
    },
    {
      "cell_type": "markdown",
      "source": [
        "Reposta: Como temos mais de 2 amostras podemos utilizar o ANOVA, mas antes, vamos ver se esses dados seguem os requisitos para aplicarmos o teste:\n",
        "\n",
        "- Amostras aleatorias\n",
        "\n",
        "- Grupos independentes\n",
        "\n",
        "- A variável dependente é continua\n",
        "\n",
        "- Amostras tem pelo menos n = 15 cada\n",
        "\n",
        "- Variâncias populacionais em cada grupo é igual"
      ],
      "metadata": {
        "id": "JpUW2t1zMC2z"
      }
    },
    {
      "cell_type": "markdown",
      "source": [
        "Ele segue quase todos os requisitos, basta conferirmos as variancias nesse caso utilizaremos o **Barlett** ele assume que a hipótese nula para o teste é que as variâncias são iguais para todas as amostras. Já a hipótese alternativa assume que as variâncias não são iguais para um par ou mais Esse teste pode ser usado se tiver dados normalmente distribuidos ou +20 amostras"
      ],
      "metadata": {
        "id": "2vAMbmnZNFJU"
      }
    },
    {
      "cell_type": "markdown",
      "source": [
        "Dito isso vamos realizar as importações necessarias"
      ],
      "metadata": {
        "id": "OKfp11qEPkvc"
      }
    },
    {
      "cell_type": "code",
      "source": [
        "# Manipulação de dados\n",
        "import pandas as pd\n",
        "\n",
        "# Importando o Barlett\n",
        "from scipy.stats import bartlett"
      ],
      "metadata": {
        "id": "RhCjl0QhPnXE"
      },
      "execution_count": 6,
      "outputs": []
    },
    {
      "cell_type": "markdown",
      "source": [
        "Agora vamos criar um DF utilizando os dados da questão"
      ],
      "metadata": {
        "id": "tt6TkAoRPqHs"
      }
    },
    {
      "cell_type": "code",
      "source": [
        "# Dados\n",
        "dados = {\n",
        "    \"Região\": [\"Região A\", \"Região B\", \"Região C\", \"Região D\"],\n",
        "    \"Embalagem 1\": [120, 150, 100, 135],\n",
        "    \"Embalagem 2\": [130, 140, 110, 125],\n",
        "    \"Embalagem 3\": [110, 160, 105, 130]\n",
        "}\n",
        "\n",
        "# Criar DataFrame\n",
        "df = pd.DataFrame(dados)\n",
        "\n",
        "# Exibir DataFrame\n",
        "df"
      ],
      "metadata": {
        "colab": {
          "base_uri": "https://localhost:8080/",
          "height": 175
        },
        "id": "9NR0XH-1RZK2",
        "outputId": "ee578241-6951-45ab-846a-d35ac8fe9765"
      },
      "execution_count": 8,
      "outputs": [
        {
          "output_type": "execute_result",
          "data": {
            "text/plain": [
              "     Região  Embalagem 1  Embalagem 2  Embalagem 3\n",
              "0  Região A          120          130          110\n",
              "1  Região B          150          140          160\n",
              "2  Região C          100          110          105\n",
              "3  Região D          135          125          130"
            ],
            "text/html": [
              "\n",
              "  <div id=\"df-4fad80a9-5274-4da0-9965-ba9df637920b\" class=\"colab-df-container\">\n",
              "    <div>\n",
              "<style scoped>\n",
              "    .dataframe tbody tr th:only-of-type {\n",
              "        vertical-align: middle;\n",
              "    }\n",
              "\n",
              "    .dataframe tbody tr th {\n",
              "        vertical-align: top;\n",
              "    }\n",
              "\n",
              "    .dataframe thead th {\n",
              "        text-align: right;\n",
              "    }\n",
              "</style>\n",
              "<table border=\"1\" class=\"dataframe\">\n",
              "  <thead>\n",
              "    <tr style=\"text-align: right;\">\n",
              "      <th></th>\n",
              "      <th>Região</th>\n",
              "      <th>Embalagem 1</th>\n",
              "      <th>Embalagem 2</th>\n",
              "      <th>Embalagem 3</th>\n",
              "    </tr>\n",
              "  </thead>\n",
              "  <tbody>\n",
              "    <tr>\n",
              "      <th>0</th>\n",
              "      <td>Região A</td>\n",
              "      <td>120</td>\n",
              "      <td>130</td>\n",
              "      <td>110</td>\n",
              "    </tr>\n",
              "    <tr>\n",
              "      <th>1</th>\n",
              "      <td>Região B</td>\n",
              "      <td>150</td>\n",
              "      <td>140</td>\n",
              "      <td>160</td>\n",
              "    </tr>\n",
              "    <tr>\n",
              "      <th>2</th>\n",
              "      <td>Região C</td>\n",
              "      <td>100</td>\n",
              "      <td>110</td>\n",
              "      <td>105</td>\n",
              "    </tr>\n",
              "    <tr>\n",
              "      <th>3</th>\n",
              "      <td>Região D</td>\n",
              "      <td>135</td>\n",
              "      <td>125</td>\n",
              "      <td>130</td>\n",
              "    </tr>\n",
              "  </tbody>\n",
              "</table>\n",
              "</div>\n",
              "    <div class=\"colab-df-buttons\">\n",
              "\n",
              "  <div class=\"colab-df-container\">\n",
              "    <button class=\"colab-df-convert\" onclick=\"convertToInteractive('df-4fad80a9-5274-4da0-9965-ba9df637920b')\"\n",
              "            title=\"Convert this dataframe to an interactive table.\"\n",
              "            style=\"display:none;\">\n",
              "\n",
              "  <svg xmlns=\"http://www.w3.org/2000/svg\" height=\"24px\" viewBox=\"0 -960 960 960\">\n",
              "    <path d=\"M120-120v-720h720v720H120Zm60-500h600v-160H180v160Zm220 220h160v-160H400v160Zm0 220h160v-160H400v160ZM180-400h160v-160H180v160Zm440 0h160v-160H620v160ZM180-180h160v-160H180v160Zm440 0h160v-160H620v160Z\"/>\n",
              "  </svg>\n",
              "    </button>\n",
              "\n",
              "  <style>\n",
              "    .colab-df-container {\n",
              "      display:flex;\n",
              "      gap: 12px;\n",
              "    }\n",
              "\n",
              "    .colab-df-convert {\n",
              "      background-color: #E8F0FE;\n",
              "      border: none;\n",
              "      border-radius: 50%;\n",
              "      cursor: pointer;\n",
              "      display: none;\n",
              "      fill: #1967D2;\n",
              "      height: 32px;\n",
              "      padding: 0 0 0 0;\n",
              "      width: 32px;\n",
              "    }\n",
              "\n",
              "    .colab-df-convert:hover {\n",
              "      background-color: #E2EBFA;\n",
              "      box-shadow: 0px 1px 2px rgba(60, 64, 67, 0.3), 0px 1px 3px 1px rgba(60, 64, 67, 0.15);\n",
              "      fill: #174EA6;\n",
              "    }\n",
              "\n",
              "    .colab-df-buttons div {\n",
              "      margin-bottom: 4px;\n",
              "    }\n",
              "\n",
              "    [theme=dark] .colab-df-convert {\n",
              "      background-color: #3B4455;\n",
              "      fill: #D2E3FC;\n",
              "    }\n",
              "\n",
              "    [theme=dark] .colab-df-convert:hover {\n",
              "      background-color: #434B5C;\n",
              "      box-shadow: 0px 1px 3px 1px rgba(0, 0, 0, 0.15);\n",
              "      filter: drop-shadow(0px 1px 2px rgba(0, 0, 0, 0.3));\n",
              "      fill: #FFFFFF;\n",
              "    }\n",
              "  </style>\n",
              "\n",
              "    <script>\n",
              "      const buttonEl =\n",
              "        document.querySelector('#df-4fad80a9-5274-4da0-9965-ba9df637920b button.colab-df-convert');\n",
              "      buttonEl.style.display =\n",
              "        google.colab.kernel.accessAllowed ? 'block' : 'none';\n",
              "\n",
              "      async function convertToInteractive(key) {\n",
              "        const element = document.querySelector('#df-4fad80a9-5274-4da0-9965-ba9df637920b');\n",
              "        const dataTable =\n",
              "          await google.colab.kernel.invokeFunction('convertToInteractive',\n",
              "                                                    [key], {});\n",
              "        if (!dataTable) return;\n",
              "\n",
              "        const docLinkHtml = 'Like what you see? Visit the ' +\n",
              "          '<a target=\"_blank\" href=https://colab.research.google.com/notebooks/data_table.ipynb>data table notebook</a>'\n",
              "          + ' to learn more about interactive tables.';\n",
              "        element.innerHTML = '';\n",
              "        dataTable['output_type'] = 'display_data';\n",
              "        await google.colab.output.renderOutput(dataTable, element);\n",
              "        const docLink = document.createElement('div');\n",
              "        docLink.innerHTML = docLinkHtml;\n",
              "        element.appendChild(docLink);\n",
              "      }\n",
              "    </script>\n",
              "  </div>\n",
              "\n",
              "\n",
              "<div id=\"df-50d0001b-5684-416d-88ff-e1c4f1fbbc46\">\n",
              "  <button class=\"colab-df-quickchart\" onclick=\"quickchart('df-50d0001b-5684-416d-88ff-e1c4f1fbbc46')\"\n",
              "            title=\"Suggest charts\"\n",
              "            style=\"display:none;\">\n",
              "\n",
              "<svg xmlns=\"http://www.w3.org/2000/svg\" height=\"24px\"viewBox=\"0 0 24 24\"\n",
              "     width=\"24px\">\n",
              "    <g>\n",
              "        <path d=\"M19 3H5c-1.1 0-2 .9-2 2v14c0 1.1.9 2 2 2h14c1.1 0 2-.9 2-2V5c0-1.1-.9-2-2-2zM9 17H7v-7h2v7zm4 0h-2V7h2v10zm4 0h-2v-4h2v4z\"/>\n",
              "    </g>\n",
              "</svg>\n",
              "  </button>\n",
              "\n",
              "<style>\n",
              "  .colab-df-quickchart {\n",
              "      --bg-color: #E8F0FE;\n",
              "      --fill-color: #1967D2;\n",
              "      --hover-bg-color: #E2EBFA;\n",
              "      --hover-fill-color: #174EA6;\n",
              "      --disabled-fill-color: #AAA;\n",
              "      --disabled-bg-color: #DDD;\n",
              "  }\n",
              "\n",
              "  [theme=dark] .colab-df-quickchart {\n",
              "      --bg-color: #3B4455;\n",
              "      --fill-color: #D2E3FC;\n",
              "      --hover-bg-color: #434B5C;\n",
              "      --hover-fill-color: #FFFFFF;\n",
              "      --disabled-bg-color: #3B4455;\n",
              "      --disabled-fill-color: #666;\n",
              "  }\n",
              "\n",
              "  .colab-df-quickchart {\n",
              "    background-color: var(--bg-color);\n",
              "    border: none;\n",
              "    border-radius: 50%;\n",
              "    cursor: pointer;\n",
              "    display: none;\n",
              "    fill: var(--fill-color);\n",
              "    height: 32px;\n",
              "    padding: 0;\n",
              "    width: 32px;\n",
              "  }\n",
              "\n",
              "  .colab-df-quickchart:hover {\n",
              "    background-color: var(--hover-bg-color);\n",
              "    box-shadow: 0 1px 2px rgba(60, 64, 67, 0.3), 0 1px 3px 1px rgba(60, 64, 67, 0.15);\n",
              "    fill: var(--button-hover-fill-color);\n",
              "  }\n",
              "\n",
              "  .colab-df-quickchart-complete:disabled,\n",
              "  .colab-df-quickchart-complete:disabled:hover {\n",
              "    background-color: var(--disabled-bg-color);\n",
              "    fill: var(--disabled-fill-color);\n",
              "    box-shadow: none;\n",
              "  }\n",
              "\n",
              "  .colab-df-spinner {\n",
              "    border: 2px solid var(--fill-color);\n",
              "    border-color: transparent;\n",
              "    border-bottom-color: var(--fill-color);\n",
              "    animation:\n",
              "      spin 1s steps(1) infinite;\n",
              "  }\n",
              "\n",
              "  @keyframes spin {\n",
              "    0% {\n",
              "      border-color: transparent;\n",
              "      border-bottom-color: var(--fill-color);\n",
              "      border-left-color: var(--fill-color);\n",
              "    }\n",
              "    20% {\n",
              "      border-color: transparent;\n",
              "      border-left-color: var(--fill-color);\n",
              "      border-top-color: var(--fill-color);\n",
              "    }\n",
              "    30% {\n",
              "      border-color: transparent;\n",
              "      border-left-color: var(--fill-color);\n",
              "      border-top-color: var(--fill-color);\n",
              "      border-right-color: var(--fill-color);\n",
              "    }\n",
              "    40% {\n",
              "      border-color: transparent;\n",
              "      border-right-color: var(--fill-color);\n",
              "      border-top-color: var(--fill-color);\n",
              "    }\n",
              "    60% {\n",
              "      border-color: transparent;\n",
              "      border-right-color: var(--fill-color);\n",
              "    }\n",
              "    80% {\n",
              "      border-color: transparent;\n",
              "      border-right-color: var(--fill-color);\n",
              "      border-bottom-color: var(--fill-color);\n",
              "    }\n",
              "    90% {\n",
              "      border-color: transparent;\n",
              "      border-bottom-color: var(--fill-color);\n",
              "    }\n",
              "  }\n",
              "</style>\n",
              "\n",
              "  <script>\n",
              "    async function quickchart(key) {\n",
              "      const quickchartButtonEl =\n",
              "        document.querySelector('#' + key + ' button');\n",
              "      quickchartButtonEl.disabled = true;  // To prevent multiple clicks.\n",
              "      quickchartButtonEl.classList.add('colab-df-spinner');\n",
              "      try {\n",
              "        const charts = await google.colab.kernel.invokeFunction(\n",
              "            'suggestCharts', [key], {});\n",
              "      } catch (error) {\n",
              "        console.error('Error during call to suggestCharts:', error);\n",
              "      }\n",
              "      quickchartButtonEl.classList.remove('colab-df-spinner');\n",
              "      quickchartButtonEl.classList.add('colab-df-quickchart-complete');\n",
              "    }\n",
              "    (() => {\n",
              "      let quickchartButtonEl =\n",
              "        document.querySelector('#df-50d0001b-5684-416d-88ff-e1c4f1fbbc46 button');\n",
              "      quickchartButtonEl.style.display =\n",
              "        google.colab.kernel.accessAllowed ? 'block' : 'none';\n",
              "    })();\n",
              "  </script>\n",
              "</div>\n",
              "\n",
              "  <div id=\"id_dbe6cf3c-b067-4921-967a-195e933ba1b7\">\n",
              "    <style>\n",
              "      .colab-df-generate {\n",
              "        background-color: #E8F0FE;\n",
              "        border: none;\n",
              "        border-radius: 50%;\n",
              "        cursor: pointer;\n",
              "        display: none;\n",
              "        fill: #1967D2;\n",
              "        height: 32px;\n",
              "        padding: 0 0 0 0;\n",
              "        width: 32px;\n",
              "      }\n",
              "\n",
              "      .colab-df-generate:hover {\n",
              "        background-color: #E2EBFA;\n",
              "        box-shadow: 0px 1px 2px rgba(60, 64, 67, 0.3), 0px 1px 3px 1px rgba(60, 64, 67, 0.15);\n",
              "        fill: #174EA6;\n",
              "      }\n",
              "\n",
              "      [theme=dark] .colab-df-generate {\n",
              "        background-color: #3B4455;\n",
              "        fill: #D2E3FC;\n",
              "      }\n",
              "\n",
              "      [theme=dark] .colab-df-generate:hover {\n",
              "        background-color: #434B5C;\n",
              "        box-shadow: 0px 1px 3px 1px rgba(0, 0, 0, 0.15);\n",
              "        filter: drop-shadow(0px 1px 2px rgba(0, 0, 0, 0.3));\n",
              "        fill: #FFFFFF;\n",
              "      }\n",
              "    </style>\n",
              "    <button class=\"colab-df-generate\" onclick=\"generateWithVariable('df')\"\n",
              "            title=\"Generate code using this dataframe.\"\n",
              "            style=\"display:none;\">\n",
              "\n",
              "  <svg xmlns=\"http://www.w3.org/2000/svg\" height=\"24px\"viewBox=\"0 0 24 24\"\n",
              "       width=\"24px\">\n",
              "    <path d=\"M7,19H8.4L18.45,9,17,7.55,7,17.6ZM5,21V16.75L18.45,3.32a2,2,0,0,1,2.83,0l1.4,1.43a1.91,1.91,0,0,1,.58,1.4,1.91,1.91,0,0,1-.58,1.4L9.25,21ZM18.45,9,17,7.55Zm-12,3A5.31,5.31,0,0,0,4.9,8.1,5.31,5.31,0,0,0,1,6.5,5.31,5.31,0,0,0,4.9,4.9,5.31,5.31,0,0,0,6.5,1,5.31,5.31,0,0,0,8.1,4.9,5.31,5.31,0,0,0,12,6.5,5.46,5.46,0,0,0,6.5,12Z\"/>\n",
              "  </svg>\n",
              "    </button>\n",
              "    <script>\n",
              "      (() => {\n",
              "      const buttonEl =\n",
              "        document.querySelector('#id_dbe6cf3c-b067-4921-967a-195e933ba1b7 button.colab-df-generate');\n",
              "      buttonEl.style.display =\n",
              "        google.colab.kernel.accessAllowed ? 'block' : 'none';\n",
              "\n",
              "      buttonEl.onclick = () => {\n",
              "        google.colab.notebook.generateWithVariable('df');\n",
              "      }\n",
              "      })();\n",
              "    </script>\n",
              "  </div>\n",
              "\n",
              "    </div>\n",
              "  </div>\n"
            ],
            "application/vnd.google.colaboratory.intrinsic+json": {
              "type": "dataframe",
              "variable_name": "df",
              "summary": "{\n  \"name\": \"df\",\n  \"rows\": 4,\n  \"fields\": [\n    {\n      \"column\": \"Regi\\u00e3o\",\n      \"properties\": {\n        \"dtype\": \"string\",\n        \"num_unique_values\": 4,\n        \"samples\": [\n          \"Regi\\u00e3o B\",\n          \"Regi\\u00e3o D\",\n          \"Regi\\u00e3o A\"\n        ],\n        \"semantic_type\": \"\",\n        \"description\": \"\"\n      }\n    },\n    {\n      \"column\": \"Embalagem 1\",\n      \"properties\": {\n        \"dtype\": \"number\",\n        \"std\": 21,\n        \"min\": 100,\n        \"max\": 150,\n        \"num_unique_values\": 4,\n        \"samples\": [\n          150,\n          135,\n          120\n        ],\n        \"semantic_type\": \"\",\n        \"description\": \"\"\n      }\n    },\n    {\n      \"column\": \"Embalagem 2\",\n      \"properties\": {\n        \"dtype\": \"number\",\n        \"std\": 12,\n        \"min\": 110,\n        \"max\": 140,\n        \"num_unique_values\": 4,\n        \"samples\": [\n          140,\n          125,\n          130\n        ],\n        \"semantic_type\": \"\",\n        \"description\": \"\"\n      }\n    },\n    {\n      \"column\": \"Embalagem 3\",\n      \"properties\": {\n        \"dtype\": \"number\",\n        \"std\": 24,\n        \"min\": 105,\n        \"max\": 160,\n        \"num_unique_values\": 4,\n        \"samples\": [\n          160,\n          130,\n          110\n        ],\n        \"semantic_type\": \"\",\n        \"description\": \"\"\n      }\n    }\n  ]\n}"
            }
          },
          "metadata": {},
          "execution_count": 8
        }
      ]
    },
    {
      "cell_type": "markdown",
      "source": [
        "Antes de prosseguirmos vamos realizar uma rapida analise nas médias"
      ],
      "metadata": {
        "id": "QgaMmequTx2c"
      }
    },
    {
      "cell_type": "code",
      "source": [
        "# Resumos estatisticos\n",
        "df.describe()"
      ],
      "metadata": {
        "colab": {
          "base_uri": "https://localhost:8080/",
          "height": 300
        },
        "id": "3fxfcoOtT2Wd",
        "outputId": "dbb8d16c-ad44-43d7-80b4-bbaeb989dca0"
      },
      "execution_count": 20,
      "outputs": [
        {
          "output_type": "execute_result",
          "data": {
            "text/plain": [
              "       Embalagem 1  Embalagem 2  Embalagem 3\n",
              "count     4.000000         4.00     4.000000\n",
              "mean    126.250000       126.25   126.250000\n",
              "std      21.360009        12.50    24.958299\n",
              "min     100.000000       110.00   105.000000\n",
              "25%     115.000000       121.25   108.750000\n",
              "50%     127.500000       127.50   120.000000\n",
              "75%     138.750000       132.50   137.500000\n",
              "max     150.000000       140.00   160.000000"
            ],
            "text/html": [
              "\n",
              "  <div id=\"df-cd054194-0f04-4d47-bc80-cc4f8671b18f\" class=\"colab-df-container\">\n",
              "    <div>\n",
              "<style scoped>\n",
              "    .dataframe tbody tr th:only-of-type {\n",
              "        vertical-align: middle;\n",
              "    }\n",
              "\n",
              "    .dataframe tbody tr th {\n",
              "        vertical-align: top;\n",
              "    }\n",
              "\n",
              "    .dataframe thead th {\n",
              "        text-align: right;\n",
              "    }\n",
              "</style>\n",
              "<table border=\"1\" class=\"dataframe\">\n",
              "  <thead>\n",
              "    <tr style=\"text-align: right;\">\n",
              "      <th></th>\n",
              "      <th>Embalagem 1</th>\n",
              "      <th>Embalagem 2</th>\n",
              "      <th>Embalagem 3</th>\n",
              "    </tr>\n",
              "  </thead>\n",
              "  <tbody>\n",
              "    <tr>\n",
              "      <th>count</th>\n",
              "      <td>4.000000</td>\n",
              "      <td>4.00</td>\n",
              "      <td>4.000000</td>\n",
              "    </tr>\n",
              "    <tr>\n",
              "      <th>mean</th>\n",
              "      <td>126.250000</td>\n",
              "      <td>126.25</td>\n",
              "      <td>126.250000</td>\n",
              "    </tr>\n",
              "    <tr>\n",
              "      <th>std</th>\n",
              "      <td>21.360009</td>\n",
              "      <td>12.50</td>\n",
              "      <td>24.958299</td>\n",
              "    </tr>\n",
              "    <tr>\n",
              "      <th>min</th>\n",
              "      <td>100.000000</td>\n",
              "      <td>110.00</td>\n",
              "      <td>105.000000</td>\n",
              "    </tr>\n",
              "    <tr>\n",
              "      <th>25%</th>\n",
              "      <td>115.000000</td>\n",
              "      <td>121.25</td>\n",
              "      <td>108.750000</td>\n",
              "    </tr>\n",
              "    <tr>\n",
              "      <th>50%</th>\n",
              "      <td>127.500000</td>\n",
              "      <td>127.50</td>\n",
              "      <td>120.000000</td>\n",
              "    </tr>\n",
              "    <tr>\n",
              "      <th>75%</th>\n",
              "      <td>138.750000</td>\n",
              "      <td>132.50</td>\n",
              "      <td>137.500000</td>\n",
              "    </tr>\n",
              "    <tr>\n",
              "      <th>max</th>\n",
              "      <td>150.000000</td>\n",
              "      <td>140.00</td>\n",
              "      <td>160.000000</td>\n",
              "    </tr>\n",
              "  </tbody>\n",
              "</table>\n",
              "</div>\n",
              "    <div class=\"colab-df-buttons\">\n",
              "\n",
              "  <div class=\"colab-df-container\">\n",
              "    <button class=\"colab-df-convert\" onclick=\"convertToInteractive('df-cd054194-0f04-4d47-bc80-cc4f8671b18f')\"\n",
              "            title=\"Convert this dataframe to an interactive table.\"\n",
              "            style=\"display:none;\">\n",
              "\n",
              "  <svg xmlns=\"http://www.w3.org/2000/svg\" height=\"24px\" viewBox=\"0 -960 960 960\">\n",
              "    <path d=\"M120-120v-720h720v720H120Zm60-500h600v-160H180v160Zm220 220h160v-160H400v160Zm0 220h160v-160H400v160ZM180-400h160v-160H180v160Zm440 0h160v-160H620v160ZM180-180h160v-160H180v160Zm440 0h160v-160H620v160Z\"/>\n",
              "  </svg>\n",
              "    </button>\n",
              "\n",
              "  <style>\n",
              "    .colab-df-container {\n",
              "      display:flex;\n",
              "      gap: 12px;\n",
              "    }\n",
              "\n",
              "    .colab-df-convert {\n",
              "      background-color: #E8F0FE;\n",
              "      border: none;\n",
              "      border-radius: 50%;\n",
              "      cursor: pointer;\n",
              "      display: none;\n",
              "      fill: #1967D2;\n",
              "      height: 32px;\n",
              "      padding: 0 0 0 0;\n",
              "      width: 32px;\n",
              "    }\n",
              "\n",
              "    .colab-df-convert:hover {\n",
              "      background-color: #E2EBFA;\n",
              "      box-shadow: 0px 1px 2px rgba(60, 64, 67, 0.3), 0px 1px 3px 1px rgba(60, 64, 67, 0.15);\n",
              "      fill: #174EA6;\n",
              "    }\n",
              "\n",
              "    .colab-df-buttons div {\n",
              "      margin-bottom: 4px;\n",
              "    }\n",
              "\n",
              "    [theme=dark] .colab-df-convert {\n",
              "      background-color: #3B4455;\n",
              "      fill: #D2E3FC;\n",
              "    }\n",
              "\n",
              "    [theme=dark] .colab-df-convert:hover {\n",
              "      background-color: #434B5C;\n",
              "      box-shadow: 0px 1px 3px 1px rgba(0, 0, 0, 0.15);\n",
              "      filter: drop-shadow(0px 1px 2px rgba(0, 0, 0, 0.3));\n",
              "      fill: #FFFFFF;\n",
              "    }\n",
              "  </style>\n",
              "\n",
              "    <script>\n",
              "      const buttonEl =\n",
              "        document.querySelector('#df-cd054194-0f04-4d47-bc80-cc4f8671b18f button.colab-df-convert');\n",
              "      buttonEl.style.display =\n",
              "        google.colab.kernel.accessAllowed ? 'block' : 'none';\n",
              "\n",
              "      async function convertToInteractive(key) {\n",
              "        const element = document.querySelector('#df-cd054194-0f04-4d47-bc80-cc4f8671b18f');\n",
              "        const dataTable =\n",
              "          await google.colab.kernel.invokeFunction('convertToInteractive',\n",
              "                                                    [key], {});\n",
              "        if (!dataTable) return;\n",
              "\n",
              "        const docLinkHtml = 'Like what you see? Visit the ' +\n",
              "          '<a target=\"_blank\" href=https://colab.research.google.com/notebooks/data_table.ipynb>data table notebook</a>'\n",
              "          + ' to learn more about interactive tables.';\n",
              "        element.innerHTML = '';\n",
              "        dataTable['output_type'] = 'display_data';\n",
              "        await google.colab.output.renderOutput(dataTable, element);\n",
              "        const docLink = document.createElement('div');\n",
              "        docLink.innerHTML = docLinkHtml;\n",
              "        element.appendChild(docLink);\n",
              "      }\n",
              "    </script>\n",
              "  </div>\n",
              "\n",
              "\n",
              "<div id=\"df-a15bc3f1-8eca-414f-a6f1-7b66836d4612\">\n",
              "  <button class=\"colab-df-quickchart\" onclick=\"quickchart('df-a15bc3f1-8eca-414f-a6f1-7b66836d4612')\"\n",
              "            title=\"Suggest charts\"\n",
              "            style=\"display:none;\">\n",
              "\n",
              "<svg xmlns=\"http://www.w3.org/2000/svg\" height=\"24px\"viewBox=\"0 0 24 24\"\n",
              "     width=\"24px\">\n",
              "    <g>\n",
              "        <path d=\"M19 3H5c-1.1 0-2 .9-2 2v14c0 1.1.9 2 2 2h14c1.1 0 2-.9 2-2V5c0-1.1-.9-2-2-2zM9 17H7v-7h2v7zm4 0h-2V7h2v10zm4 0h-2v-4h2v4z\"/>\n",
              "    </g>\n",
              "</svg>\n",
              "  </button>\n",
              "\n",
              "<style>\n",
              "  .colab-df-quickchart {\n",
              "      --bg-color: #E8F0FE;\n",
              "      --fill-color: #1967D2;\n",
              "      --hover-bg-color: #E2EBFA;\n",
              "      --hover-fill-color: #174EA6;\n",
              "      --disabled-fill-color: #AAA;\n",
              "      --disabled-bg-color: #DDD;\n",
              "  }\n",
              "\n",
              "  [theme=dark] .colab-df-quickchart {\n",
              "      --bg-color: #3B4455;\n",
              "      --fill-color: #D2E3FC;\n",
              "      --hover-bg-color: #434B5C;\n",
              "      --hover-fill-color: #FFFFFF;\n",
              "      --disabled-bg-color: #3B4455;\n",
              "      --disabled-fill-color: #666;\n",
              "  }\n",
              "\n",
              "  .colab-df-quickchart {\n",
              "    background-color: var(--bg-color);\n",
              "    border: none;\n",
              "    border-radius: 50%;\n",
              "    cursor: pointer;\n",
              "    display: none;\n",
              "    fill: var(--fill-color);\n",
              "    height: 32px;\n",
              "    padding: 0;\n",
              "    width: 32px;\n",
              "  }\n",
              "\n",
              "  .colab-df-quickchart:hover {\n",
              "    background-color: var(--hover-bg-color);\n",
              "    box-shadow: 0 1px 2px rgba(60, 64, 67, 0.3), 0 1px 3px 1px rgba(60, 64, 67, 0.15);\n",
              "    fill: var(--button-hover-fill-color);\n",
              "  }\n",
              "\n",
              "  .colab-df-quickchart-complete:disabled,\n",
              "  .colab-df-quickchart-complete:disabled:hover {\n",
              "    background-color: var(--disabled-bg-color);\n",
              "    fill: var(--disabled-fill-color);\n",
              "    box-shadow: none;\n",
              "  }\n",
              "\n",
              "  .colab-df-spinner {\n",
              "    border: 2px solid var(--fill-color);\n",
              "    border-color: transparent;\n",
              "    border-bottom-color: var(--fill-color);\n",
              "    animation:\n",
              "      spin 1s steps(1) infinite;\n",
              "  }\n",
              "\n",
              "  @keyframes spin {\n",
              "    0% {\n",
              "      border-color: transparent;\n",
              "      border-bottom-color: var(--fill-color);\n",
              "      border-left-color: var(--fill-color);\n",
              "    }\n",
              "    20% {\n",
              "      border-color: transparent;\n",
              "      border-left-color: var(--fill-color);\n",
              "      border-top-color: var(--fill-color);\n",
              "    }\n",
              "    30% {\n",
              "      border-color: transparent;\n",
              "      border-left-color: var(--fill-color);\n",
              "      border-top-color: var(--fill-color);\n",
              "      border-right-color: var(--fill-color);\n",
              "    }\n",
              "    40% {\n",
              "      border-color: transparent;\n",
              "      border-right-color: var(--fill-color);\n",
              "      border-top-color: var(--fill-color);\n",
              "    }\n",
              "    60% {\n",
              "      border-color: transparent;\n",
              "      border-right-color: var(--fill-color);\n",
              "    }\n",
              "    80% {\n",
              "      border-color: transparent;\n",
              "      border-right-color: var(--fill-color);\n",
              "      border-bottom-color: var(--fill-color);\n",
              "    }\n",
              "    90% {\n",
              "      border-color: transparent;\n",
              "      border-bottom-color: var(--fill-color);\n",
              "    }\n",
              "  }\n",
              "</style>\n",
              "\n",
              "  <script>\n",
              "    async function quickchart(key) {\n",
              "      const quickchartButtonEl =\n",
              "        document.querySelector('#' + key + ' button');\n",
              "      quickchartButtonEl.disabled = true;  // To prevent multiple clicks.\n",
              "      quickchartButtonEl.classList.add('colab-df-spinner');\n",
              "      try {\n",
              "        const charts = await google.colab.kernel.invokeFunction(\n",
              "            'suggestCharts', [key], {});\n",
              "      } catch (error) {\n",
              "        console.error('Error during call to suggestCharts:', error);\n",
              "      }\n",
              "      quickchartButtonEl.classList.remove('colab-df-spinner');\n",
              "      quickchartButtonEl.classList.add('colab-df-quickchart-complete');\n",
              "    }\n",
              "    (() => {\n",
              "      let quickchartButtonEl =\n",
              "        document.querySelector('#df-a15bc3f1-8eca-414f-a6f1-7b66836d4612 button');\n",
              "      quickchartButtonEl.style.display =\n",
              "        google.colab.kernel.accessAllowed ? 'block' : 'none';\n",
              "    })();\n",
              "  </script>\n",
              "</div>\n",
              "\n",
              "    </div>\n",
              "  </div>\n"
            ],
            "application/vnd.google.colaboratory.intrinsic+json": {
              "type": "dataframe",
              "summary": "{\n  \"name\": \"df\",\n  \"rows\": 8,\n  \"fields\": [\n    {\n      \"column\": \"Embalagem 1\",\n      \"properties\": {\n        \"dtype\": \"number\",\n        \"std\": 54.81840243341507,\n        \"min\": 4.0,\n        \"max\": 150.0,\n        \"num_unique_values\": 8,\n        \"samples\": [\n          126.25,\n          127.5,\n          4.0\n        ],\n        \"semantic_type\": \"\",\n        \"description\": \"\"\n      }\n    },\n    {\n      \"column\": \"Embalagem 2\",\n      \"properties\": {\n        \"dtype\": \"number\",\n        \"std\": 55.34421508032382,\n        \"min\": 4.0,\n        \"max\": 140.0,\n        \"num_unique_values\": 8,\n        \"samples\": [\n          126.25,\n          127.5,\n          4.0\n        ],\n        \"semantic_type\": \"\",\n        \"description\": \"\"\n      }\n    },\n    {\n      \"column\": \"Embalagem 3\",\n      \"properties\": {\n        \"dtype\": \"number\",\n        \"std\": 54.79990842834258,\n        \"min\": 4.0,\n        \"max\": 160.0,\n        \"num_unique_values\": 8,\n        \"samples\": [\n          126.25,\n          120.0,\n          4.0\n        ],\n        \"semantic_type\": \"\",\n        \"description\": \"\"\n      }\n    }\n  ]\n}"
            }
          },
          "metadata": {},
          "execution_count": 20
        }
      ]
    },
    {
      "cell_type": "markdown",
      "source": [
        "Dessa forma podemos observar que as médias das 3 embalagens são iguas, todas elas são 126,25. Isso já pode ser um indicativo do que vamos achar quando concluirmos o nosso teste, provavelmente o resultado será que não existe diferença entre as médias, mas só para confirmarmos vamos continuar com o raciocinio"
      ],
      "metadata": {
        "id": "-qx1DxAuUZUl"
      }
    },
    {
      "cell_type": "markdown",
      "source": [
        "**Barlett**"
      ],
      "metadata": {
        "id": "q4-l_M-CXKiF"
      }
    },
    {
      "cell_type": "markdown",
      "source": [
        "Agora vamos aplicar o Barlett propriamente dito"
      ],
      "metadata": {
        "id": "dPnI9DaFTahM"
      }
    },
    {
      "cell_type": "code",
      "source": [
        "# Teste de Barlett\n",
        "statistic, p_valor = bartlett(df['Embalagem 1'], df['Embalagem 2'], df['Embalagem 3'])\n",
        "\n",
        "# Resultados\n",
        "print(\"Estatística de teste de Barlett:\", statistic)\n",
        "print(\"Valor-p:\", p_valor)\n",
        "\n",
        "# Verificação da hipótese nula\n",
        "alpha = 0.05\n",
        "if p_value < alpha:\n",
        "    print(\"Rejeitar H0: Não existe evidências suficientes para concluirmos que as variâncias são iguais.\")\n",
        "else:\n",
        "    print(\"Falha em rejeitar H0: Há evidências suficientes para concluirmos que as variâncias são iguais.\")"
      ],
      "metadata": {
        "colab": {
          "base_uri": "https://localhost:8080/"
        },
        "id": "DYmu_iznRhOt",
        "outputId": "c7752f4e-ea25-4963-c35c-332228815bc4"
      },
      "execution_count": 21,
      "outputs": [
        {
          "output_type": "stream",
          "name": "stdout",
          "text": [
            "Estatística de teste de Barlett: 1.182973421092691\n",
            "Valor-p: 0.5535037728277683\n",
            "Falha em rejeitar H0: Há evidências suficientes para concluirmos que as variâncias são iguais.\n"
          ]
        }
      ]
    },
    {
      "cell_type": "markdown",
      "source": [
        "Já que falhamos em rejeitar H0 podemos concluir com um nivel de significancia de 0,05 de que as variancias são iguais, dito isso vamos aplicar o ANOVA"
      ],
      "metadata": {
        "id": "P7B647anU2y0"
      }
    },
    {
      "cell_type": "markdown",
      "source": [
        "**ANOVA**"
      ],
      "metadata": {
        "id": "OWYDbpqOXPUm"
      }
    },
    {
      "cell_type": "code",
      "source": [
        "# Importando o Anova um fator\n",
        "from scipy.stats import f_oneway"
      ],
      "metadata": {
        "id": "dTVaYSdqVAD1"
      },
      "execution_count": 22,
      "outputs": []
    },
    {
      "cell_type": "code",
      "source": [
        "# Executando ANOVA de um fator\n",
        "f_statistic, p_valor = f_oneway(df['Embalagem 1'], df['Embalagem 2'], df['Embalagem 3'])\n",
        "\n",
        "print(\"Estatística F:\", f_statistic)\n",
        "print(\"Valor p:\", p_valor)\n",
        "\n",
        "if p_valor < 0.05:\n",
        "    print(\"Rejeitar H0: Há diferença significativa entre as médias.\")\n",
        "else:\n",
        "    print(\"Falha em rejeitar H0: Não há diferença significativa entre as médias.\")"
      ],
      "metadata": {
        "colab": {
          "base_uri": "https://localhost:8080/"
        },
        "id": "LRtyXXHiVGeN",
        "outputId": "d93877b3-bcfe-4b42-fa07-d8b2a14935df"
      },
      "execution_count": 23,
      "outputs": [
        {
          "output_type": "stream",
          "name": "stdout",
          "text": [
            "Estatística F: 0.0\n",
            "Valor p: 1.0\n",
            "Falha em rejeitar H0: Não há diferença significativa entre as médias.\n"
          ]
        }
      ]
    },
    {
      "cell_type": "markdown",
      "source": [
        "O ANOVA confirmou as nossas suspeitas, podemos afirmar a um nivel de significancia de 0,05 que as médias não são estatisticamente diferentes, como não temos diferenças entre as médias o teste de tukey não é necessario, mas mesmo assim vamos ver como seria a sua aplicabilidade"
      ],
      "metadata": {
        "id": "qE3biVsbVcUd"
      }
    },
    {
      "cell_type": "markdown",
      "source": [
        "**Tukey**"
      ],
      "metadata": {
        "id": "Bfd7KPxBXQ4-"
      }
    },
    {
      "cell_type": "code",
      "source": [
        "# Importando o teste\n",
        "from statsmodels.stats.multicomp import pairwise_tukeyhsd"
      ],
      "metadata": {
        "id": "w7T9GkW0V4Es"
      },
      "execution_count": 24,
      "outputs": []
    },
    {
      "cell_type": "code",
      "source": [
        "# Transformando os dados em formato apropriado para o teste de Tukey\n",
        "stacked_data = df.melt(id_vars=['Região'], value_vars=['Embalagem 1', 'Embalagem 2', 'Embalagem 3'], var_name='Embalagem', value_name='Valor')\n",
        "\n",
        "# Aplicando o teste de Tukey\n",
        "tukey_results = pairwise_tukeyhsd(stacked_data['Valor'], stacked_data['Embalagem'])\n",
        "\n",
        "# Exibindo o resultado\n",
        "print(tukey_results)"
      ],
      "metadata": {
        "colab": {
          "base_uri": "https://localhost:8080/"
        },
        "id": "WvZpHc1NV6n0",
        "outputId": "0ad009ad-6aa4-49a7-dfcb-ff6e916bdad5"
      },
      "execution_count": 27,
      "outputs": [
        {
          "output_type": "stream",
          "name": "stdout",
          "text": [
            "     Multiple Comparison of Means - Tukey HSD, FWER=0.05      \n",
            "==============================================================\n",
            "   group1      group2   meandiff p-adj  lower    upper  reject\n",
            "--------------------------------------------------------------\n",
            "Embalagem 1 Embalagem 2      0.0   1.0 -40.0634 40.0634  False\n",
            "Embalagem 1 Embalagem 3      0.0   1.0 -40.0634 40.0634  False\n",
            "Embalagem 2 Embalagem 3      0.0   1.0 -40.0634 40.0634  False\n",
            "--------------------------------------------------------------\n"
          ]
        }
      ]
    },
    {
      "cell_type": "markdown",
      "source": [
        "O Tukey também nos mostra que não existe diferenças entre as médias. Logo podemos concluir definitivamente que não existem diferenças estatisticamente significativas nas médias de vendas das embalagens a um nivel de significancia de 0,05"
      ],
      "metadata": {
        "id": "uA4QSUAsWmuV"
      }
    },
    {
      "cell_type": "markdown",
      "source": [
        "**Conclusão**:\n",
        "\n",
        "Como as embalagens não apresentam diferenças significativas entre as médias de vendas é possivel afirmar que o desempenho de vendas das 3 embalagens estão bem proximas, indicando assim uma estabilidade nesse aspecto e abrindo espaço para o foco em outras areas do negocio além de abrir espaço para uma possivel otimização em alguns processos existentes"
      ],
      "metadata": {
        "id": "Li14nvFoXpi1"
      }
    }
  ]
}