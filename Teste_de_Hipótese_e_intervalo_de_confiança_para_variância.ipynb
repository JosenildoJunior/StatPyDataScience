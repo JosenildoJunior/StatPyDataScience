{
  "nbformat": 4,
  "nbformat_minor": 0,
  "metadata": {
    "colab": {
      "provenance": [],
      "collapsed_sections": [
        "ZtFL_TFRF660"
      ],
      "authorship_tag": "ABX9TyMlaR5hhemYDGE6dqbG3DpZ",
      "include_colab_link": true
    },
    "kernelspec": {
      "name": "python3",
      "display_name": "Python 3"
    },
    "language_info": {
      "name": "python"
    }
  },
  "cells": [
    {
      "cell_type": "markdown",
      "metadata": {
        "id": "view-in-github",
        "colab_type": "text"
      },
      "source": [
        "<a href=\"https://colab.research.google.com/github/JosenildoJunior/StatPyDataScience/blob/main/Teste_de_Hip%C3%B3tese_e_intervalo_de_confian%C3%A7a_para_vari%C3%A2ncia.ipynb\" target=\"_parent\"><img src=\"https://colab.research.google.com/assets/colab-badge.svg\" alt=\"Open In Colab\"/></a>"
      ]
    },
    {
      "cell_type": "markdown",
      "source": [
        "# **Intervalo de confiança para variância e desvio padrão(1 amostra)**"
      ],
      "metadata": {
        "id": "ZtFL_TFRF660"
      }
    },
    {
      "cell_type": "markdown",
      "source": [
        "Breve Resumo:\n",
        "Um intervalo de confiança para a variância de uma população com base em uma amostra única de dados nos fornece uma faixa de valores plausíveis para a variância populacional com um certo nível de confiança."
      ],
      "metadata": {
        "id": "aKPaVqCpGJMj"
      }
    },
    {
      "cell_type": "markdown",
      "source": [
        "Quando Utilizar:\n",
        "\n",
        "Quando desejamos fazer inferências sobre a variabilidade de uma população com base em uma amostra.\n",
        "Quando queremos especificar um nível de confiança para a estimativa da variância populacional.\n",
        "\n",
        "Fórmula do Intervalo de Confiança: $\n",
        "\\left( \\frac{{(n - 1) \\cdot s^2}}{{\\chi_{\\alpha/2}^2}}, \\frac{{(n - 1) \\cdot s^2}}{{\\chi_{1 - \\alpha/2}^2}} \\right)$\n",
        "\n",
        "Onde:\n",
        "\n",
        "- **n** é o tamanho da amostra.\n",
        "\n",
        "- **s²** é a variância amostral.\n",
        "\n",
        "- **χ²/₂²** é o quantil da distribuição qui-quadrado com **n-1** graus de liberdade para o nível de significância **α/2**.\n",
        "\n",
        "- **χ₁₋α/₂²** é o quantil da distribuição qui-quadrado com **n-1** graus de liberdade para o complemento do nível de significância **1-α/2**.\n"
      ],
      "metadata": {
        "id": "aCKlEXkrGMHj"
      }
    },
    {
      "cell_type": "markdown",
      "source": [
        "Vamos observar um exemplo para tentarmos entender melhor\n",
        "\n",
        "**Exemplo:** Encontre os valores críticos χ²R e χ²L para um intervalo de confiança\n",
        "de 95% quando o tamanho da amostra é 18."
      ],
      "metadata": {
        "id": "0P2XFKDVIveU"
      }
    },
    {
      "cell_type": "markdown",
      "source": [
        "Primeiramente vamos começar importantdo algumas bibliotecas necessarias"
      ],
      "metadata": {
        "id": "6bL19EPXJyG1"
      }
    },
    {
      "cell_type": "code",
      "source": [
        "# Importando o qui quadrado\n",
        "from scipy.stats import chi2"
      ],
      "metadata": {
        "id": "T9a6u_p7J4gL"
      },
      "execution_count": 5,
      "outputs": []
    },
    {
      "cell_type": "markdown",
      "source": [
        "Agora podemos partir para a parte do calculo propriamente dito"
      ],
      "metadata": {
        "id": "JUu9Ev9mJ_F7"
      }
    },
    {
      "cell_type": "code",
      "source": [
        "# Dados do problema\n",
        "n = 18  # Tamanho da amostra\n",
        "\n",
        "# Graus de liberdade para a distribuição qui-quadrado\n",
        "df = n - 1\n",
        "\n",
        "# Nível de confiança\n",
        "confianca = 0.95\n",
        "\n",
        "# Intervalo de confiança para a variância\n",
        "intervalo_variancia = stats.chi2.interval(confianca, df)\n",
        "\n",
        "\n",
        "# Definindo os valores criticos\n",
        "crit_superior = intervalo_variancia[1]\n",
        "crit_inferior = intervalo_variancia[0]\n",
        "\n",
        "# Exibindo os valores\n",
        "print(f\"χ²R = {crit_superior}, χ²L = {crit_inferior}\")"
      ],
      "metadata": {
        "colab": {
          "base_uri": "https://localhost:8080/"
        },
        "id": "d2EtMk88Ngg9",
        "outputId": "5c1c96ea-35fa-4dce-b86c-a66e9fd4b2a2"
      },
      "execution_count": 37,
      "outputs": [
        {
          "output_type": "stream",
          "name": "stdout",
          "text": [
            "χ²R = 30.19100912163982, χ²L = 7.56418644957757\n"
          ]
        }
      ]
    },
    {
      "cell_type": "markdown",
      "source": [
        "Dessa forma conseguimos obter os valores criticos que são bem importantes para definirmos os limites, vamos observar em outro exemplo"
      ],
      "metadata": {
        "id": "F1WVfOE-dppO"
      }
    },
    {
      "cell_type": "markdown",
      "source": [
        "**Exemplo:** Você seleciona aleatoriamente e pesa as 30 unidades de uma\n",
        "amostra de um antialérgico. O desvio padrão da amostra é de 1,20 miligramas.\n",
        "Supondo que os pesos são normalmente distribuídos, construa intervalos de\n",
        "confiança de 99% para a variância e o desvio padrão da população."
      ],
      "metadata": {
        "id": "XCISE5xiP6BW"
      }
    },
    {
      "cell_type": "markdown",
      "source": [
        "Vamos realizar as importações necessarias"
      ],
      "metadata": {
        "id": "6SPs8FGeRP0F"
      }
    },
    {
      "cell_type": "code",
      "source": [
        "# Funções matématicas\n",
        "import numpy as np\n",
        "import scipy.stats as stats\n",
        "\n",
        "# Importando o qui quadrado\n",
        "from scipy.stats import chi2"
      ],
      "metadata": {
        "id": "lP3kp9O0RlM8"
      },
      "execution_count": 13,
      "outputs": []
    },
    {
      "cell_type": "code",
      "source": [
        "# Dados do problema\n",
        "n = 30  # Tamanho da amostra\n",
        "s = 1.20  # Desvio padrão da amostra\n",
        "confianca = 0.99  # Nível de confiança\n",
        "\n",
        "# Graus de liberdade para a distribuição qui-quadrado\n",
        "df = n - 1"
      ],
      "metadata": {
        "id": "qSPiti1ZUgRG"
      },
      "execution_count": 33,
      "outputs": []
    },
    {
      "cell_type": "markdown",
      "source": [
        "Agora que já temos os dados definidos vamos abordar o restante dos problemas por etapas:\n",
        "\n",
        "- Vamos definir os valores criticos\n",
        "- CAlcular os limites para o intervalo\n",
        "- Calcular os limites para o desvio padrão amostral"
      ],
      "metadata": {
        "id": "_oxT4xIVVdve"
      }
    },
    {
      "cell_type": "markdown",
      "source": [
        "**Definindo os valores**"
      ],
      "metadata": {
        "id": "lwEBaVvcVxd9"
      }
    },
    {
      "cell_type": "code",
      "source": [
        "# Intervalo de confiança para a variância\n",
        "intervalo_variancia = stats.chi2.interval(confianca, df)\n",
        "\n",
        "# Definindo os valores criticos\n",
        "crit_superior = intervalo_variancia[1]\n",
        "crit_inferior = intervalo_variancia[0]\n",
        "\n",
        "# Exibindo os valores\n",
        "print(f\"χ²R = {crit_superior}, χ²L = {crit_inferior}\")"
      ],
      "metadata": {
        "colab": {
          "base_uri": "https://localhost:8080/"
        },
        "id": "IiWEsoPkVz69",
        "outputId": "9cab0075-15b4-4f38-ff4e-40a194a6a4b4"
      },
      "execution_count": 34,
      "outputs": [
        {
          "output_type": "stream",
          "name": "stdout",
          "text": [
            "χ²R = 52.335617785933614, χ²L = 13.121148887960413\n"
          ]
        }
      ]
    },
    {
      "cell_type": "markdown",
      "source": [
        "Para **calcular os limites inferiores e superiores do intervalo de confiança para a variância populacional**, aplicamos a raiz quadrada nos limites inferiores e superiores da variância, pois o desvio padrão é a raiz quadrada da variância. Portanto, as fórmulas são:\n",
        "\n",
        "$\n",
        "\\text{Limite Inferior} = \\frac{(n - 1) \\times s^2}{\\text{valor crítico superior}}\n",
        "$\n",
        "\n",
        "$\n",
        "\\text{Limite Superior} = \\frac{(n - 1) \\times s^2}{\\text{valor crítico inferior}}\n",
        "$\n",
        "\n",
        "onde:\n",
        "- \\(n\\) é o tamanho da amostra,\n",
        "- \\(s\\) é o desvio padrão da amostra, e\n",
        "- os valores críticos superior e inferior são obtidos a partir da distribuição qui-quadrado com \\(n - 1\\) graus de liberdade e um determinado nível de confiança.\n",
        "\n",
        "Para **calcular os limites inferiores e superiores do intervalo de confiança para o desvio padrão populacional**, aplicamos a raiz quadrada nos limites inferiores e superiores da variância, pois o desvio padrão é a raiz quadrada da variância. Portanto, as fórmulas são:\n",
        "\n",
        "$\n",
        "\\text{Limite Inferior do Desvio Padrão} = \\sqrt{\\text{Limite Inferior da Variância}}\n",
        "$\n",
        "\n",
        "$\n",
        "\\text{Limite Superior do Desvio Padrão} = \\sqrt{\\text{Limite Superior da Variância}}\n",
        "$\n",
        "\n",
        "onde:\n",
        "- \\(n\\) é o tamanho da amostra,\n",
        "- \\(s\\) é o desvio padrão amostral, e\n",
        "- os valores críticos superior e inferior são obtidos a partir da distribuição qui-quadrado com \\(n - 1\\) graus de liberdade e um determinado nível de confiança.\n"
      ],
      "metadata": {
        "id": "Wa7w5F3ZWYNm"
      }
    },
    {
      "cell_type": "code",
      "source": [
        "# Lmites para a variância\n",
        "limite_inferior_variancia = (n - 1) * s**2 / crit_superior\n",
        "limite_superior_variancia = (n - 1) * s**2 / crit_inferior\n",
        "\n",
        "# Limites para o desvio padrão\n",
        "limite_inferior_desvio = np.sqrt(limite_inferior_variancia)\n",
        "limite_superior_desvio = np.sqrt(limite_superior_variancia)\n",
        "\n",
        "print(\"Intervalo de confiança para a variação populacional:\", (limite_inferior_variancia, limite_superior_variancia))\n",
        "print(\"Intervalo de confiança para o desvio padrão populacional:\", (limite_inferior_desvio, limite_superior_desvio))"
      ],
      "metadata": {
        "colab": {
          "base_uri": "https://localhost:8080/"
        },
        "id": "yQH4htBkVcV-",
        "outputId": "12ed0d18-b809-4db8-c9d7-a23b2eab1064"
      },
      "execution_count": 35,
      "outputs": [
        {
          "output_type": "stream",
          "name": "stdout",
          "text": [
            "Intervalo de confiança para a variação populacional: (0.7979269523636721, 3.1826481321553914)\n",
            "Intervalo de confiança para o desvio padrão populacional: (0.8932675704197887, 1.783997794885238)\n"
          ]
        }
      ]
    },
    {
      "cell_type": "markdown",
      "source": [
        "Desa forma podemos afirmar que com 99% de confiança, podemos dizer que a variância populacional está entre 0,79 e 3,18, e o desvio padrão populacional entre 0,89 e 1,78 miligramas"
      ],
      "metadata": {
        "id": "IPakKxi8eESW"
      }
    }
  ]
}