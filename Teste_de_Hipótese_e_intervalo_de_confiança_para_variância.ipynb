{
  "nbformat": 4,
  "nbformat_minor": 0,
  "metadata": {
    "colab": {
      "provenance": [],
      "authorship_tag": "ABX9TyM/EuvFkHYAoZ7p5Z1TP+Tg",
      "include_colab_link": true
    },
    "kernelspec": {
      "name": "python3",
      "display_name": "Python 3"
    },
    "language_info": {
      "name": "python"
    }
  },
  "cells": [
    {
      "cell_type": "markdown",
      "metadata": {
        "id": "view-in-github",
        "colab_type": "text"
      },
      "source": [
        "<a href=\"https://colab.research.google.com/github/JosenildoJunior/StatPyDataScience/blob/main/Teste_de_Hip%C3%B3tese_e_intervalo_de_confian%C3%A7a_para_vari%C3%A2ncia.ipynb\" target=\"_parent\"><img src=\"https://colab.research.google.com/assets/colab-badge.svg\" alt=\"Open In Colab\"/></a>"
      ]
    },
    {
      "cell_type": "markdown",
      "source": [
        "# **Intervalo de confiança para variância (1 amostra)**"
      ],
      "metadata": {
        "id": "ZtFL_TFRF660"
      }
    },
    {
      "cell_type": "markdown",
      "source": [
        "Breve Resumo:\n",
        "Um intervalo de confiança para a variância de uma população com base em uma amostra única de dados nos fornece uma faixa de valores plausíveis para a variância populacional com um certo nível de confiança."
      ],
      "metadata": {
        "id": "aKPaVqCpGJMj"
      }
    },
    {
      "cell_type": "markdown",
      "source": [
        "Quando Utilizar:\n",
        "\n",
        "Quando desejamos fazer inferências sobre a variabilidade de uma população com base em uma amostra.\n",
        "Quando queremos especificar um nível de confiança para a estimativa da variância populacional.\n",
        "\n",
        "Fórmula do Intervalo de Confiança: $\n",
        "\\left( \\frac{{(n - 1) \\cdot s^2}}{{\\chi_{\\alpha/2}^2}}, \\frac{{(n - 1) \\cdot s^2}}{{\\chi_{1 - \\alpha/2}^2}} \\right)$\n",
        "\n",
        "Onde:\n",
        "\n",
        "- **n** é o tamanho da amostra.\n",
        "\n",
        "- **s²** é a variância amostral.\n",
        "\n",
        "- **χ²/₂²** é o quantil da distribuição qui-quadrado com **n-1** graus de liberdade para o nível de significância **α/2**.\n",
        "\n",
        "- **χ₁₋α/₂²** é o quantil da distribuição qui-quadrado com **n-1** graus de liberdade para o complemento do nível de significância **1-α/2**.\n"
      ],
      "metadata": {
        "id": "aCKlEXkrGMHj"
      }
    },
    {
      "cell_type": "markdown",
      "source": [
        "Vamos observar um exemplo para tentarmos entender melhor\n",
        "\n",
        "Uma empresa de chocolates precisa estimar a variância do peso das suas trufas. A partir de uma amostra aleatória de 25 trufas, obtém-se uma variância amostral de 4 gramas². Deseja-se determinar um intervalo de confiança de 95% para a variância real do peso das trufas."
      ],
      "metadata": {
        "id": "0P2XFKDVIveU"
      }
    },
    {
      "cell_type": "markdown",
      "source": [
        "Primeiramente vamos começar importantdo algumas bibliotecas necessarias"
      ],
      "metadata": {
        "id": "6bL19EPXJyG1"
      }
    },
    {
      "cell_type": "code",
      "source": [
        "# Importando o qui quadrado\n",
        "from scipy.stats import chi2"
      ],
      "metadata": {
        "id": "T9a6u_p7J4gL"
      },
      "execution_count": 5,
      "outputs": []
    },
    {
      "cell_type": "markdown",
      "source": [
        "Agora podemos partir para a parte do calculo propriamente dito"
      ],
      "metadata": {
        "id": "JUu9Ev9mJ_F7"
      }
    },
    {
      "cell_type": "code",
      "source": [
        "# Dados do problema\n",
        "n = 25  # Tamanho da amostra\n",
        "squared_std_dev = 4  # Variância amostral conhecida\n",
        "\n",
        "# Graus de liberdade para a distribuição qui-quadrado\n",
        "df = n - 1\n",
        "\n",
        "# Nível de confiança\n",
        "confidence_level = 0.95\n",
        "\n",
        "# Calculando o intervalo para a variância\n",
        "intervalo_confianca_variancia = chi2.interval(confidence=1-confidence_level, df=df, loc=squared_std_dev**2)\n",
        "\n",
        "\n",
        "intervalo_confianca_variancia"
      ],
      "metadata": {
        "colab": {
          "base_uri": "https://localhost:8080/"
        },
        "id": "d2EtMk88Ngg9",
        "outputId": "9a4ca656-8a8c-46b4-ce55-aebbf7517110"
      },
      "execution_count": 11,
      "outputs": [
        {
          "output_type": "execute_result",
          "data": {
            "text/plain": [
              "(38.91196515721005, 39.76671845006376)"
            ]
          },
          "metadata": {},
          "execution_count": 11
        }
      ]
    },
    {
      "cell_type": "markdown",
      "source": [
        "Você seleciona aleatoriamente e pesa as 30 unidades de uma\n",
        "amostra de um antialérgico. O desvio padrão da amostra é de 1,20 miligramas.\n",
        "Supondo que os pesos são normalmente distribuídos, construa intervalos de\n",
        "confiança de 99% para a variância e o desvio padrão da população."
      ],
      "metadata": {
        "id": "XCISE5xiP6BW"
      }
    },
    {
      "cell_type": "markdown",
      "source": [
        "Vamos realizar as importações necessarias"
      ],
      "metadata": {
        "id": "6SPs8FGeRP0F"
      }
    },
    {
      "cell_type": "code",
      "source": [
        "# Funções matématicas\n",
        "import numpy as np\n",
        "\n",
        "# Importando o qui quadrado\n",
        "from scipy.stats import chi2"
      ],
      "metadata": {
        "id": "lP3kp9O0RlM8"
      },
      "execution_count": 13,
      "outputs": []
    },
    {
      "cell_type": "code",
      "source": [
        "import scipy.stats as stats\n",
        "\n",
        "# Dados do problema\n",
        "n = 30  # Tamanho da amostra\n",
        "s = 1.20  # Desvio padrão da amostra\n",
        "confianca = 0.99  # Nível de confiança\n",
        "\n",
        "# Graus de liberdade para a distribuição qui-quadrado\n",
        "df = n - 1"
      ],
      "metadata": {
        "id": "qSPiti1ZUgRG"
      },
      "execution_count": 19,
      "outputs": []
    },
    {
      "cell_type": "markdown",
      "source": [
        "Agora que já temos os dados definidos vamos abordar o restante dos problemas por etapas:\n",
        "\n",
        "- Vamos definir os valores criticos\n",
        "- CAlcular os limites para o intervalo\n",
        "- Calcular os limites para o desvio padrão amostral"
      ],
      "metadata": {
        "id": "_oxT4xIVVdve"
      }
    },
    {
      "cell_type": "markdown",
      "source": [
        "**Definindo os valores**"
      ],
      "metadata": {
        "id": "lwEBaVvcVxd9"
      }
    },
    {
      "cell_type": "code",
      "source": [
        "# Intervalo de confiança para a variância\n",
        "intervalo_variancia = stats.chi2.interval(confianca, df)\n",
        "\n",
        "# Definindo os valores criticos\n",
        "crit_superior = intervalo_variancia[1]\n",
        "crit_inferior = intervalo_variancia[0]\n",
        "\n",
        "# Exibindo os valores\n",
        "print(f\"χ²R = {crit_superior}, χ²L = {crit_inferior}\")"
      ],
      "metadata": {
        "colab": {
          "base_uri": "https://localhost:8080/"
        },
        "id": "IiWEsoPkVz69",
        "outputId": "43ec87b0-d418-435a-e546-c6bcb153b7d1"
      },
      "execution_count": 23,
      "outputs": [
        {
          "output_type": "stream",
          "name": "stdout",
          "text": [
            "χ²R = 52.335617785933614, χ²L = 13.121148887960413\n"
          ]
        }
      ]
    },
    {
      "cell_type": "markdown",
      "source": [
        "Para **calcular os limites inferiores e superiores do intervalo de confiança para a variância populacional**, aplicamos a raiz quadrada nos limites inferiores e superiores da variância, pois o desvio padrão é a raiz quadrada da variância. Portanto, as fórmulas são:\n",
        "\n",
        "$\n",
        "\\text{Limite Inferior} = \\frac{(n - 1) \\times s^2}{\\text{valor crítico superior}}\n",
        "$\n",
        "\n",
        "$\n",
        "\\text{Limite Superior} = \\frac{(n - 1) \\times s^2}{\\text{valor crítico inferior}}\n",
        "$\n",
        "\n",
        "onde:\n",
        "- \\(n\\) é o tamanho da amostra,\n",
        "- \\(s\\) é o desvio padrão da amostra, e\n",
        "- os valores críticos superior e inferior são obtidos a partir da distribuição qui-quadrado com \\(n - 1\\) graus de liberdade e um determinado nível de confiança.\n",
        "\n",
        "Para **calcular os limites inferiores e superiores do intervalo de confiança para o desvio padrão populacional**, aplicamos a raiz quadrada nos limites inferiores e superiores da variância, pois o desvio padrão é a raiz quadrada da variância. Portanto, as fórmulas são:\n",
        "\n",
        "$\n",
        "\\text{Limite Inferior do Desvio Padrão} = \\sqrt{\\text{Limite Inferior da Variância}}\n",
        "$\n",
        "\n",
        "$\n",
        "\\text{Limite Superior do Desvio Padrão} = \\sqrt{\\text{Limite Superior da Variância}}\n",
        "$\n",
        "\n",
        "onde:\n",
        "- \\(n\\) é o tamanho da amostra,\n",
        "- \\(s\\) é o desvio padrão amostral, e\n",
        "- os valores críticos superior e inferior são obtidos a partir da distribuição qui-quadrado com \\(n - 1\\) graus de liberdade e um determinado nível de confiança.\n"
      ],
      "metadata": {
        "id": "Wa7w5F3ZWYNm"
      }
    },
    {
      "cell_type": "code",
      "source": [
        "# Lmites para a variância\n",
        "limite_inferior_variancia = (n - 1) * s**2 / crit_superior\n",
        "limite_superior_variancia = (n - 1) * s**2 / crit_inferior\n",
        "\n",
        "# Limites para o desvio padrão\n",
        "limite_inferior_desvio = np.sqrt(limite_inferior_variancia)\n",
        "limite_superior_desvio = np.sqrt(limite_superior_variancia)\n",
        "\n",
        "print(\"Intervalo de confiança para a variação populacional:\", (limite_inferior_variancia, limite_superior_variancia))\n",
        "print(\"Intervalo de confiança para o desvio padrão populacional:\", (limite_inferior_desvio, limite_superior_desvio))"
      ],
      "metadata": {
        "colab": {
          "base_uri": "https://localhost:8080/"
        },
        "id": "yQH4htBkVcV-",
        "outputId": "92ccabc1-d8db-42df-cc95-84e0b16aa1a7"
      },
      "execution_count": 24,
      "outputs": [
        {
          "output_type": "stream",
          "name": "stdout",
          "text": [
            "Intervalo de confiança para a variação populacional: (0.7979269523636721, 3.1826481321553914)\n",
            "Intervalo de confiança para o desvio padrão populacional: (0.8932675704197887, 1.783997794885238)\n"
          ]
        }
      ]
    }
  ]
}