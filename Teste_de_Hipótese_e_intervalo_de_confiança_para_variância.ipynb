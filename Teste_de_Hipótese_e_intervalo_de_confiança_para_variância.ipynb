{
  "nbformat": 4,
  "nbformat_minor": 0,
  "metadata": {
    "colab": {
      "provenance": [],
      "collapsed_sections": [
        "ZtFL_TFRF660",
        "juoy8UXrki5Y",
        "rhjBXfshIo84",
        "1vYFia3xjXLH",
        "Y2KFA8oBEsgN",
        "LQE0JGCthZUW",
        "SrSceF0XKYL0",
        "7bb95dsEKc18"
      ],
      "authorship_tag": "ABX9TyP6zM/sdHW4u4KJiMlUc5qU",
      "include_colab_link": true
    },
    "kernelspec": {
      "name": "python3",
      "display_name": "Python 3"
    },
    "language_info": {
      "name": "python"
    }
  },
  "cells": [
    {
      "cell_type": "markdown",
      "metadata": {
        "id": "view-in-github",
        "colab_type": "text"
      },
      "source": [
        "<a href=\"https://colab.research.google.com/github/JosenildoJunior/StatPyDataScience/blob/main/Teste_de_Hip%C3%B3tese_e_intervalo_de_confian%C3%A7a_para_vari%C3%A2ncia.ipynb\" target=\"_parent\"><img src=\"https://colab.research.google.com/assets/colab-badge.svg\" alt=\"Open In Colab\"/></a>"
      ]
    },
    {
      "cell_type": "markdown",
      "source": [
        "# **Intervalo de confiança para variância e desvio padrão (1 amostra)**"
      ],
      "metadata": {
        "id": "ZtFL_TFRF660"
      }
    },
    {
      "cell_type": "markdown",
      "source": [
        "**Breve Resumo:**\n",
        "Um intervalo de confiança para a variância de uma população com base em uma amostra única de dados nos fornece uma faixa de valores plausíveis para a variância populacional com um certo nível de confiança."
      ],
      "metadata": {
        "id": "aKPaVqCpGJMj"
      }
    },
    {
      "cell_type": "markdown",
      "source": [
        "Quando Utilizar:\n",
        "\n",
        "Quando desejamos fazer inferências sobre a variabilidade de uma população com base em uma amostra.\n",
        "Quando queremos especificar um nível de confiança para a estimativa da variância populacional.\n",
        "\n",
        "Fórmula do Intervalo de Confiança: $\n",
        "\\left( \\frac{{(n - 1) \\cdot s^2}}{{\\chi_{\\alpha/2}^2}}, \\frac{{(n - 1) \\cdot s^2}}{{\\chi_{1 - \\alpha/2}^2}} \\right)$\n",
        "\n",
        "Onde:\n",
        "\n",
        "- **n** é o tamanho da amostra.\n",
        "\n",
        "- **s²** é a variância amostral.\n",
        "\n",
        "- **χ²/₂²** é o quantil da distribuição qui-quadrado com **n-1** graus de liberdade para o nível de significância **α/2**.\n",
        "\n",
        "- **χ₁₋α/₂²** é o quantil da distribuição qui-quadrado com **n-1** graus de liberdade para o complemento do nível de significância **1-α/2**.\n"
      ],
      "metadata": {
        "id": "aCKlEXkrGMHj"
      }
    },
    {
      "cell_type": "markdown",
      "source": [
        "Vamos observar um exemplo para tentarmos entender melhor\n",
        "\n",
        "**Exemplo:** Encontre os valores críticos χ²R e χ²L para um intervalo de confiança\n",
        "de 95% quando o tamanho da amostra é 18."
      ],
      "metadata": {
        "id": "0P2XFKDVIveU"
      }
    },
    {
      "cell_type": "markdown",
      "source": [
        "Primeiramente, vamos começar importando algumas bibliotecas necessárias."
      ],
      "metadata": {
        "id": "6bL19EPXJyG1"
      }
    },
    {
      "cell_type": "code",
      "source": [
        "# Importando o qui quadrado\n",
        "from scipy.stats import chi2"
      ],
      "metadata": {
        "id": "T9a6u_p7J4gL"
      },
      "execution_count": null,
      "outputs": []
    },
    {
      "cell_type": "markdown",
      "source": [
        "Agora podemos partir para a parte do cálculo propriamente dito."
      ],
      "metadata": {
        "id": "JUu9Ev9mJ_F7"
      }
    },
    {
      "cell_type": "code",
      "source": [
        "# Dados do problema\n",
        "n = 18  # Tamanho da amostra\n",
        "\n",
        "# Graus de liberdade para a distribuição qui-quadrado\n",
        "df = n - 1\n",
        "\n",
        "# Nível de confiança\n",
        "confianca = 0.95\n",
        "\n",
        "# Intervalo de confiança para a variância\n",
        "intervalo_variancia = stats.chi2.interval(confianca, df)\n",
        "\n",
        "# Definindo os valores criticos\n",
        "crit_superior = intervalo_variancia[1]\n",
        "crit_inferior = intervalo_variancia[0]\n",
        "\n",
        "# Exibindo os valores\n",
        "print(f\"χ²R = {crit_superior}, χ²L = {crit_inferior}\")"
      ],
      "metadata": {
        "colab": {
          "base_uri": "https://localhost:8080/"
        },
        "id": "d2EtMk88Ngg9",
        "outputId": "5c1c96ea-35fa-4dce-b86c-a66e9fd4b2a2"
      },
      "execution_count": null,
      "outputs": [
        {
          "output_type": "stream",
          "name": "stdout",
          "text": [
            "χ²R = 30.19100912163982, χ²L = 7.56418644957757\n"
          ]
        }
      ]
    },
    {
      "cell_type": "markdown",
      "source": [
        "Dessa forma, conseguimos obter os valores críticos que são bem importantes para definirmos os limites. Vamos observar em outro exemplo."
      ],
      "metadata": {
        "id": "F1WVfOE-dppO"
      }
    },
    {
      "cell_type": "markdown",
      "source": [
        "**Exemplo:** Você seleciona aleatoriamente e pesa as 30 unidades de uma\n",
        "amostra de um antialérgico. O desvio padrão da amostra é de 1,20 miligramas.\n",
        "Supondo que os pesos são normalmente distribuídos, construa intervalos de\n",
        "confiança de 99% para a variância e o desvio padrão da população."
      ],
      "metadata": {
        "id": "XCISE5xiP6BW"
      }
    },
    {
      "cell_type": "markdown",
      "source": [
        "Vamos realizar as importações necessárias."
      ],
      "metadata": {
        "id": "6SPs8FGeRP0F"
      }
    },
    {
      "cell_type": "code",
      "source": [
        "# Funções matématicas\n",
        "import numpy as np\n",
        "import scipy.stats as stats\n",
        "\n",
        "# Importando o qui quadrado\n",
        "from scipy.stats import chi2"
      ],
      "metadata": {
        "id": "lP3kp9O0RlM8"
      },
      "execution_count": null,
      "outputs": []
    },
    {
      "cell_type": "code",
      "source": [
        "# Dados do problema\n",
        "n = 30  # Tamanho da amostra\n",
        "s = 1.20  # Desvio padrão da amostra\n",
        "confianca = 0.99  # Nível de confiança\n",
        "\n",
        "# Graus de liberdade para a distribuição qui-quadrado\n",
        "df = n - 1"
      ],
      "metadata": {
        "id": "qSPiti1ZUgRG"
      },
      "execution_count": null,
      "outputs": []
    },
    {
      "cell_type": "markdown",
      "source": [
        "Agora que já temos os dados definidos, vamos abordar o restante dos problemas por etapas:\n",
        "\n",
        "- Vamos definir os valores críticos.\n",
        "- Calcular os limites para o intervalo.\n",
        "- Calcular os limites para o desvio padrão amostral."
      ],
      "metadata": {
        "id": "_oxT4xIVVdve"
      }
    },
    {
      "cell_type": "markdown",
      "source": [
        "**Definindo os valores**"
      ],
      "metadata": {
        "id": "lwEBaVvcVxd9"
      }
    },
    {
      "cell_type": "code",
      "source": [
        "# Intervalo de confiança para a variância\n",
        "intervalo_variancia = stats.chi2.interval(confianca, df)\n",
        "\n",
        "# Definindo os valores criticos\n",
        "crit_superior = intervalo_variancia[1]\n",
        "crit_inferior = intervalo_variancia[0]\n",
        "\n",
        "# Exibindo os valores\n",
        "print(f\"χ²R = {crit_superior}, χ²L = {crit_inferior}\")"
      ],
      "metadata": {
        "colab": {
          "base_uri": "https://localhost:8080/"
        },
        "id": "IiWEsoPkVz69",
        "outputId": "9cab0075-15b4-4f38-ff4e-40a194a6a4b4"
      },
      "execution_count": null,
      "outputs": [
        {
          "output_type": "stream",
          "name": "stdout",
          "text": [
            "χ²R = 52.335617785933614, χ²L = 13.121148887960413\n"
          ]
        }
      ]
    },
    {
      "cell_type": "markdown",
      "source": [
        "Para **calcular os limites inferiores e superiores do intervalo de confiança para a variância populacional**, aplicamos a raiz quadrada nos limites inferiores e superiores da variância, pois o desvio padrão é a raiz quadrada da variância. Portanto, as fórmulas são:\n",
        "\n",
        "$\n",
        "\\text{Limite Inferior} = \\frac{(n - 1) \\times s^2}{\\text{valor crítico superior}}\n",
        "$\n",
        "\n",
        "$\n",
        "\\text{Limite Superior} = \\frac{(n - 1) \\times s^2}{\\text{valor crítico inferior}}\n",
        "$\n",
        "\n",
        "onde:\n",
        "- \\(n\\) é o tamanho da amostra,\n",
        "- \\(s\\) é o desvio padrão da amostra, e\n",
        "- os valores críticos superior e inferior são obtidos a partir da distribuição qui-quadrado com \\(n - 1\\) graus de liberdade e um determinado nível de confiança.\n",
        "\n",
        "Para **calcular os limites inferiores e superiores do intervalo de confiança para o desvio padrão populacional**, aplicamos a raiz quadrada nos limites inferiores e superiores da variância, pois o desvio padrão é a raiz quadrada da variância. Portanto, as fórmulas são:\n",
        "\n",
        "$\n",
        "\\text{Limite Inferior do Desvio Padrão} = \\sqrt{\\text{Limite Inferior da Variância}}\n",
        "$\n",
        "\n",
        "$\n",
        "\\text{Limite Superior do Desvio Padrão} = \\sqrt{\\text{Limite Superior da Variância}}\n",
        "$\n",
        "\n",
        "onde:\n",
        "- \\(n\\) é o tamanho da amostra,\n",
        "- \\(s\\) é o desvio padrão amostral, e\n",
        "- os valores críticos superior e inferior são obtidos a partir da distribuição qui-quadrado com \\(n - 1\\) graus de liberdade e um determinado nível de confiança.\n"
      ],
      "metadata": {
        "id": "Wa7w5F3ZWYNm"
      }
    },
    {
      "cell_type": "code",
      "source": [
        "# Lmites para a variância\n",
        "limite_inferior_variancia = (n - 1) * s**2 / crit_superior\n",
        "limite_superior_variancia = (n - 1) * s**2 / crit_inferior\n",
        "\n",
        "# Limites para o desvio padrão\n",
        "limite_inferior_desvio = np.sqrt(limite_inferior_variancia)\n",
        "limite_superior_desvio = np.sqrt(limite_superior_variancia)\n",
        "\n",
        "print(\"Intervalo de confiança para a variação populacional:\", (limite_inferior_variancia, limite_superior_variancia))\n",
        "print(\"Intervalo de confiança para o desvio padrão populacional:\", (limite_inferior_desvio, limite_superior_desvio))"
      ],
      "metadata": {
        "colab": {
          "base_uri": "https://localhost:8080/"
        },
        "id": "yQH4htBkVcV-",
        "outputId": "12ed0d18-b809-4db8-c9d7-a23b2eab1064"
      },
      "execution_count": null,
      "outputs": [
        {
          "output_type": "stream",
          "name": "stdout",
          "text": [
            "Intervalo de confiança para a variação populacional: (0.7979269523636721, 3.1826481321553914)\n",
            "Intervalo de confiança para o desvio padrão populacional: (0.8932675704197887, 1.783997794885238)\n"
          ]
        }
      ]
    },
    {
      "cell_type": "markdown",
      "source": [
        "Dessa forma, podemos afirmar que com 99% de confiança, podemos dizer que a variância populacional está entre 0,79 e 3,18, e o desvio padrão populacional entre 0,89 e 1,78 miligramas."
      ],
      "metadata": {
        "id": "IPakKxi8eESW"
      }
    },
    {
      "cell_type": "markdown",
      "source": [
        "#**Teste de hipótese para a variância (1 amostra)**"
      ],
      "metadata": {
        "id": "juoy8UXrki5Y"
      }
    },
    {
      "cell_type": "markdown",
      "source": [
        "**Objetivo:** Comparar a variância da amostra com uma variância hipotética.\n",
        "\n"
      ],
      "metadata": {
        "id": "iJ8LKpmQkqXp"
      }
    },
    {
      "cell_type": "markdown",
      "source": [
        "**Fórmula:**\n",
        "\n",
        "- $χ² = (n - 1) * s² / σ²$\n",
        "\n",
        "**onde:**\n",
        "\n",
        "- χ² é a estatística do teste, que segue uma distribuição qui-quadrado com n - 1 graus de liberdade.\n",
        "- n é o tamanho da amostra.\n",
        "- s² é a variância da amostra.\n",
        "- σ² é a variância hipotética.\n",
        "\n",
        "Formulação das Hipóteses\n",
        "\n",
        "- Hipótese nula (H0): A variância da população é igual à variância hipotética (σ²).\n",
        "- Hipótese alternativa (H1): A variância da população é diferente da variância hipotética (σ²)."
      ],
      "metadata": {
        "id": "mJH_wQL7lX2o"
      }
    },
    {
      "cell_type": "markdown",
      "source": [
        "Vamos observar um exemplo para entendermos melhor:\n",
        "\n",
        "Uma empresa de processamento de laticínios afirma que a\n",
        "variância da quantidade de gordura no leite integral processado por ela é não\n",
        "mais que 0,25. Você suspeita que essa afirmação esteja errada e descobre que\n",
        "uma amostra aleatória de 41 recipientes de leite tem um variância de 0,27.\n",
        "Para um nível de significância a = 0,05, há evidência suficiente para rejeitar a\n",
        "afirmação da empresa? Suponha que a população é normalmente\n",
        "distribuída."
      ],
      "metadata": {
        "id": "jiDeK1MTl20n"
      }
    },
    {
      "cell_type": "markdown",
      "source": [
        "Resposta: Vamos começar definindo as hipóteses:\n",
        "\n",
        "H0: gordura ≤ 0,25\n",
        "\n",
        "Ha: gordura > 0,25\n",
        "\n",
        "Estamos diante de um teste unicaudal à direita."
      ],
      "metadata": {
        "id": "RjIthLyEm2eQ"
      }
    },
    {
      "cell_type": "markdown",
      "source": [
        "Agora vamos importar as bibliotecas necessárias."
      ],
      "metadata": {
        "id": "r-Wj39Z8mP7g"
      }
    },
    {
      "cell_type": "code",
      "source": [
        "# Funções estatísticas\n",
        "import scipy.stats as stats"
      ],
      "metadata": {
        "id": "AWdBFwrymSyP"
      },
      "execution_count": null,
      "outputs": []
    },
    {
      "cell_type": "markdown",
      "source": [
        "Agora podemos partir para o cálculo propriamente dito."
      ],
      "metadata": {
        "id": "W-R4A8u3mWKQ"
      }
    },
    {
      "cell_type": "code",
      "source": [
        "# Definindo os dados\n",
        "n = 41 # Tamanho da amostra\n",
        "s_amostra = 0.27 # Variância amostral\n",
        "s_hipotetica = 0.25 # Variância afirmada pela empresa\n",
        "alpha = 0.05 # Nível de significância\n",
        "df = n - 1 # Graus de liberdade\n",
        "\n",
        "# Calculando o valor do teste\n",
        "valor_teste = (n - 1) * s_amostra  / s_hipotetica\n",
        "\n",
        "# Exibindo o valor\n",
        "print(valor_teste)"
      ],
      "metadata": {
        "id": "sWuwk9-DmYsg",
        "colab": {
          "base_uri": "https://localhost:8080/"
        },
        "outputId": "229b1973-70ec-4ea4-bde0-56079b2d39d0"
      },
      "execution_count": null,
      "outputs": [
        {
          "output_type": "stream",
          "name": "stdout",
          "text": [
            "43.2\n"
          ]
        }
      ]
    },
    {
      "cell_type": "markdown",
      "source": [
        "Agora vamos calcular o p-valor para fazermos as nossas comparações."
      ],
      "metadata": {
        "id": "DvrG5ImXy0eE"
      }
    },
    {
      "cell_type": "code",
      "source": [
        "# Calculando o p-valor\n",
        "p_valor = 1 - stats.chi2.cdf(valor_teste, df)\n",
        "\n",
        "# Exibindo o p-valor\n",
        "print(\"P-valor:\", p_valor)\n",
        "\n",
        "# Conclusões\n",
        "if p_valor < alpha:\n",
        "    print(\"Rejeitar H0: Há evidências suficientes para concluir que a gordura no leite é maior que 0.25\")\n",
        "else:\n",
        "    print(\"Falha em rejeitar H0: Não existem evidências suficientes para concluir que a gordura no leite é maior que 0.25\")"
      ],
      "metadata": {
        "colab": {
          "base_uri": "https://localhost:8080/"
        },
        "id": "qc1U7azvy9As",
        "outputId": "f11678b0-4abf-45f2-f75a-26e0543aaa4f"
      },
      "execution_count": null,
      "outputs": [
        {
          "output_type": "stream",
          "name": "stdout",
          "text": [
            "P-valor: 0.33622313346405086\n",
            "Falha em rejeitar H0: Não existem evidências suficientes para concluir que a gordura no leite é maior que 0.25\n"
          ]
        }
      ]
    },
    {
      "cell_type": "markdown",
      "source": [
        "De acordo com o nosso teste de hipótese e com um nível de significância de 0.05, falhamos em rejeitar a hipótese nula. Portanto, podemos concluir que não há evidências suficientes para afirmar que a quantidade de gordura no leite é maior que 0,25."
      ],
      "metadata": {
        "id": "ViA9HoGSzwdM"
      }
    },
    {
      "cell_type": "markdown",
      "source": [
        "Vamos observar outro exemplo:\n",
        "\n",
        "Um fabricante de artigos esportivos afirma que a variância da força de uma certa linha de pesca é de 15,9. Uma amostra aleatória de 15 rolos de linha tem uma variância de 21,8. Para um nível de significância de α = 0,05, há evidência suficiente para rejeitar a afirmação do fabricante? Suponha que a população é normalmente distribuída."
      ],
      "metadata": {
        "id": "KyA7C5dU26v9"
      }
    },
    {
      "cell_type": "markdown",
      "source": [
        "Vamos começar definindo as hipóteses:\n",
        "\n",
        "H0: força da linha = 15,9\n",
        "\n",
        "Ha: força da linha ≠ 15,9\n",
        "\n",
        "Estamos diante de um teste bicaudal.\n",
        "\n",
        "É importante lembrarmos que quando utilizamos o teste qui-quadrado é muito importante que trabalhemos com uma distribuição normal, ou pelo menos 40 elementos na amostra. Nesse caso, o problema já nos informa que temos uma população normalmente distribuída, então podemos seguir adiante."
      ],
      "metadata": {
        "id": "GXoIt0yE2-f2"
      }
    },
    {
      "cell_type": "markdown",
      "source": [
        "Importando a biblioteca necessária."
      ],
      "metadata": {
        "id": "oKuyqy9h5HmG"
      }
    },
    {
      "cell_type": "code",
      "source": [
        "# Funções estatísticas\n",
        "import scipy.stats as stats"
      ],
      "metadata": {
        "id": "tthd42-s5Lh8"
      },
      "execution_count": null,
      "outputs": []
    },
    {
      "cell_type": "markdown",
      "source": [
        "Partindo para os cálculos."
      ],
      "metadata": {
        "id": "rj2vVk9O7lY_"
      }
    },
    {
      "cell_type": "code",
      "source": [
        "# Definindo os valores\n",
        "n = 15 # Tamanho da amostra\n",
        "s_amostra = 21.8 # Variância amostral\n",
        "s_hipotetica = 15.9 # Variância afirmada\n",
        "alpha = 0.05 # Nível de significância\n",
        "df = n - 1 # Graus de liberdade\n",
        "\n",
        "# Calculando o valor do teste\n",
        "valor_teste = (n - 1) * s_amostra / s_hipotetica\n",
        "\n",
        "# Exibindo o valor\n",
        "print(valor_teste)"
      ],
      "metadata": {
        "colab": {
          "base_uri": "https://localhost:8080/"
        },
        "id": "mw7QDjzn4ILf",
        "outputId": "6ee39d7a-d582-41a2-a117-cc9287652f1f"
      },
      "execution_count": null,
      "outputs": [
        {
          "output_type": "stream",
          "name": "stdout",
          "text": [
            "19.19496855345912\n"
          ]
        }
      ]
    },
    {
      "cell_type": "markdown",
      "source": [
        "Agora vamos calcular o p-valor."
      ],
      "metadata": {
        "id": "abIu-4Gv5dsm"
      }
    },
    {
      "cell_type": "code",
      "source": [
        "# Calculando o p-valor\n",
        "p_valor = 2 * (1 - stats.chi2.cdf(valor_teste, df))\n",
        "\n",
        "# Exibindo o p-valor\n",
        "print(\"P-valor:\", p_valor)\n",
        "\n",
        "# Conclusões\n",
        "if p_valor < alpha:\n",
        "    print(\"Rejeitar H0: Há evidências suficientes para concluir que a variância da força da linha é diferente de 15,9.\")\n",
        "else:\n",
        "    print(\"Falha em rejeitar H0: Não existem evidências suficientes para concluir que a variância da força da linha é diferente de 15,9.\")"
      ],
      "metadata": {
        "colab": {
          "base_uri": "https://localhost:8080/"
        },
        "id": "P4rlwO2j5fSO",
        "outputId": "b3e37734-f11b-4b16-c588-dd6b635962d5"
      },
      "execution_count": null,
      "outputs": [
        {
          "output_type": "stream",
          "name": "stdout",
          "text": [
            "P-valor: 0.3152647436788134\n",
            "Falha em rejeitar H0: Não existem evidências suficientes para concluir que a força da linha é diferente de 15,9.\n"
          ]
        }
      ]
    },
    {
      "cell_type": "markdown",
      "source": [
        "Segundo nosso teste de hipótese com um nível de significância de 0,05, falhamos em rejeitar a hipótese nula. Portanto, não há evidências suficientes para rejeitar a afirmação de que a variância da força da linha de pesca é igual a 15,9."
      ],
      "metadata": {
        "id": "IGOnnmCv6DEu"
      }
    },
    {
      "cell_type": "markdown",
      "source": [
        "#**Teste de hipótese para a variância (2 amostras)**"
      ],
      "metadata": {
        "id": "rhjBXfshIo84"
      }
    },
    {
      "cell_type": "markdown",
      "source": [
        "A fórmula do teste F é utilizada principalmente para comparar a variabilidade entre duas amostras. Ela é comumente empregada em testes de hipóteses para verificar se as variâncias de duas populações são estatisticamente iguais ou diferentes."
      ],
      "metadata": {
        "id": "lAX7a6uyKYsQ"
      }
    },
    {
      "cell_type": "markdown",
      "source": [
        "Dito isso essa é a fórmula do teste F:\n",
        "\n",
        "- $F = s1^2 / s2^2$\n",
        "\n",
        "Onde:\n",
        "\n",
        "- $s1^2$ é a variância da primeira amostra.\n",
        "- $s2^2$ é a variância da segunda amostra.\n",
        "\n",
        "Necessariamente, s1 é maior que s2; então, será dessa forma que identificaremos qual é a primeira amostra e qual é a segunda.\n",
        "\n",
        "Vamos observar um exemplo:\n"
      ],
      "metadata": {
        "id": "XvGX9hxOI4Sf"
      }
    },
    {
      "cell_type": "markdown",
      "source": [
        "Você quer comprar ações em uma empresa e está decidindo entre duas\n",
        "ações diferentes. Como o risco de uma ação pode estar associado ao desvio\n",
        "padrão dos preços de fechamento diários, você seleciona aleatoriamente\n",
        "amostras dos preços de fechamento diários para cada ação e obtém os\n",
        "resultados mostrados na tabela abaixo. Com a = 0,05, você pode concluir que\n",
        "uma das duas ações é um investimento mais arriscado? Suponha que os\n",
        "preços de fechamento das ações são normalmente distribuídos.\n",
        "\n",
        "A ação A apresenta os seguintes dados\n",
        "- n2 = 30\n",
        "- s2 = 3,5\n",
        "\n",
        "A ação B apresenta os seguintes dados\n",
        "- n1 = 31\n",
        "- s1 = 5,7\n"
      ],
      "metadata": {
        "id": "Wwpk9-FELVKR"
      }
    },
    {
      "cell_type": "markdown",
      "source": [
        "Resposta: Vamos começar definindo nossas hipóteses.\n",
        "\n",
        "H0: risco da ação A = risco da ação B\n",
        "\n",
        "Ha: risco da ação A ≠ risco da ação B\n",
        "\n",
        "Estamos diante de um teste bicaudal.\n",
        "\n",
        "Como a ação B apresentou uma variância maior, ela será nossa primeira amostra, e a ação A será nossa segunda.\n",
        "\n",
        "Agora vamos prosseguir com a importação das bibliotecas."
      ],
      "metadata": {
        "id": "kOtmn-byLZPB"
      }
    },
    {
      "cell_type": "code",
      "source": [
        "# Funções matématicas\n",
        "import numpy as np\n",
        "\n",
        "# Teste f\n",
        "import scipy.stats as stats"
      ],
      "metadata": {
        "id": "hmB--HoOQofw"
      },
      "execution_count": null,
      "outputs": []
    },
    {
      "cell_type": "markdown",
      "source": [
        "Agora vamos para o cálculo propriamente dito."
      ],
      "metadata": {
        "id": "Sq8P6_7NRc7B"
      }
    },
    {
      "cell_type": "code",
      "source": [
        "# Definindo os valores\n",
        "# Ação A\n",
        "n2 = 30 # Tamanho da amostra\n",
        "s2 = 3.5 ** 2 # Variância\n",
        "df2 = n2 - 1 # Graus de liberdade\n",
        "\n",
        "# Ação B\n",
        "n1 = 31 # Tamanho da amostra\n",
        "s1 = 5.7 ** 2 # Variância\n",
        "df1 = n1 - 1 # Graus de liberdade\n",
        "\n",
        "# Calculando o F\n",
        "F = s1 / s2\n",
        "\n",
        "# Exibindo o valor\n",
        "print(F)"
      ],
      "metadata": {
        "colab": {
          "base_uri": "https://localhost:8080/"
        },
        "id": "Ih2Dc_LFRfA5",
        "outputId": "dc0e795a-e601-48a6-b1b0-e6a3fb6f344d"
      },
      "execution_count": null,
      "outputs": [
        {
          "output_type": "stream",
          "name": "stdout",
          "text": [
            "2.652244897959184\n"
          ]
        }
      ]
    },
    {
      "cell_type": "markdown",
      "source": [
        "Agora vamos calcular o p-valor."
      ],
      "metadata": {
        "id": "2JWR9IMaS12q"
      }
    },
    {
      "cell_type": "code",
      "source": [
        "# Definindo o alpha\n",
        "alpha = 0.05 / 2 # Realizando a divisão por se tratar de um teste bicaudal\n",
        "\n",
        "# Calculando o p-valor\n",
        "p_valor = 1 - stats.f.cdf(F, df1, df2)\n",
        "\n",
        "print(\"O p-valor é:\", p_valor)\n",
        "\n",
        "# Conclusões\n",
        "if p_valor < alpha:\n",
        "    print(\"Rejeitar H0: Há evidências suficientes para concluir que uma ação é mais arriscada que a outra.\")\n",
        "else:\n",
        "    print(\"Falha em rejeitar H0: Não existem evidências suficientes para concluir que uma ação é mais arriscada que a outra.\")"
      ],
      "metadata": {
        "colab": {
          "base_uri": "https://localhost:8080/"
        },
        "id": "pZc7juAoS30I",
        "outputId": "0de3643e-a47d-42cc-b0c4-c44f30e02a6e"
      },
      "execution_count": null,
      "outputs": [
        {
          "output_type": "stream",
          "name": "stdout",
          "text": [
            "O p-valor é: 0.005108622913231997\n",
            "Rejeitar H0: Há evidências suficientes para concluir que uma ação é mais arriscada que a outra.\n"
          ]
        }
      ]
    },
    {
      "cell_type": "markdown",
      "source": [
        "Após a execução do nosso teste de hipóteses, rejeitamos a hipótese nula. Logo, podemos concluir que existem evidências para afirmar que uma ação é mais arriscada que a outra."
      ],
      "metadata": {
        "id": "RCxCUpjnZQ56"
      }
    },
    {
      "cell_type": "markdown",
      "source": [
        "Para casos como esses é possivel utilizarmos uma calculadora online, onde basta passarmos o nosso F, nosso denominador e o nosso numerador além do nivel de significancia e ela já vai nos retornar o nosso p-valor, esse é o link da ferramenta:\n",
        "\n",
        "- [Calculadora de Distribuição F](https://www.socscistatistics.com/pvalues/fdistribution.aspx)\n"
      ],
      "metadata": {
        "id": "YSVZx7_yi6l3"
      }
    },
    {
      "cell_type": "markdown",
      "source": [
        "# **Teste de hipótese - categóricos ou proporção com mais de 2 categorias (1 amostra)**"
      ],
      "metadata": {
        "id": "1vYFia3xjXLH"
      }
    },
    {
      "cell_type": "markdown",
      "source": [
        "O teste qui-quadrado é utilizado para testar se uma distribuição de frequência\n",
        "observada (valores amostrais) se ajusta a uma distribuição esperada (valores\n",
        "fixos que queremos comparar). Porém para aplicação deste teste algumas condições devem ser respeitadas tais condições são:\n",
        "\n",
        "- As frequências observadas devem ser obtidas de uma amostra aleatória.\n",
        "- Cada frequência esperada deve ser maior ou igual a 5.\n",
        "\n",
        "Se a situação respeitar essas condições podemos aplicar a seguinte formula:\n",
        "\n",
        "- x^2 = $\\frac{(O - E)^2}{E}$\n",
        "\n",
        "Onde:\n",
        "\n",
        "- x: é o valor observado na célula da tabela de contingência.\n",
        "- O: é o valor observado na célula da tabela de contingência.\n",
        "- E: é o valor esperado na célula da tabela de contingência.\n",
        "\n",
        "Lembrando que temos k – 1 graus de liberdade, sendo k o número de categorias.\n",
        "\n"
      ],
      "metadata": {
        "id": "0U5Thr_2jfX2"
      }
    },
    {
      "cell_type": "markdown",
      "source": [
        "Vamos observar um exemplo para tentarmos entender melhor.\n"
      ],
      "metadata": {
        "id": "qSXTPihAlJuA"
      }
    },
    {
      "cell_type": "markdown",
      "source": [
        "Uma associação de comércio varejista afirma que os meios de preparação de\n",
        "imposto são distribuídos conforme a tabela abaixo. Uma consultoria de\n",
        "impostos seleciona aleatoriamente 300 adultos e pergunta como eles\n",
        "preparam seus impostos. Os resultados encontram-se na tabela abaixo. Para a\n",
        "= 0,01, teste a afirmação da associação."
      ],
      "metadata": {
        "id": "o-Sls_oRla6n"
      }
    },
    {
      "cell_type": "markdown",
      "source": [
        "**Distribuição esperada para os meios**\n",
        "\n",
        "Contador = 24%\n",
        "\n",
        "Á mão = 20%\n",
        "\n",
        "Programa de computador = 35%\n",
        "\n",
        "Amigo/familiar = 6%\n",
        "\n",
        "Consultoria de impostos 15%\n",
        "\n",
        "**Resultados da pesquisa (n = 300)**\n",
        "\n",
        "Contador = 61\n",
        "\n",
        "Á mão = 42\n",
        "\n",
        "Programa de computador = 112\n",
        "\n",
        "Amigo/familiar = 29\n",
        "\n",
        "Consultoria de impostos = 56"
      ],
      "metadata": {
        "id": "HYULrPvIlexO"
      }
    },
    {
      "cell_type": "markdown",
      "source": [
        "Dito isso vamos definir nossas hipóteses:\n",
        "\n",
        "H0: A distribuição esperada dos métodos de preparação de impostos é: 24%\n",
        "por contador (72 do total de 300), 20% (60 do total de 300) à mão, 35% (105 do\n",
        "total de 300) com programa de computador, 6% (18 do total de 300) por\n",
        "amigo ou familiar e 15% (45 do total de 300) com consultoria de impostos.\n",
        "\n",
        "Ha: A distribuição dos métodos difere da distribuição esperada.\n",
        "\n",
        "Como existem 5 categorias, nosso grau de liberdade será 4, pois temos que: g.l = 5 - 1, logo g.l = 4"
      ],
      "metadata": {
        "id": "01BgJrwYrG6x"
      }
    },
    {
      "cell_type": "markdown",
      "source": [
        "Agora podemos partir para a estruturação dos dados e cálculo do qui-quadrado."
      ],
      "metadata": {
        "id": "5ZrrdqbblbaN"
      }
    },
    {
      "cell_type": "code",
      "source": [
        "# Definindo os dados em listas\n",
        "esperado = [72, 60, 105, 18, 45]\n",
        "observado = [61, 42, 112, 29, 56]\n",
        "\n",
        "# Função para calcular o teste qui-quadrado para cada categoria\n",
        "def qui_quadrado(esperado, observado):\n",
        "    return (observado - esperado) ** 2 / esperado\n",
        "\n",
        "# Calculando o qui-quadrado para cada categoria\n",
        "resultados = [qui_quadrado(esperado[i], observado[i]) for i in range(len(esperado))]\n",
        "\n",
        "# Realizando a soma dos resultados\n",
        "x = sum(resultados)\n",
        "\n",
        "# Graus de liberdade\n",
        "df = 5 - 1\n",
        "\n",
        "# Nível de significância\n",
        "alpha = 0.01\n",
        "\n",
        "# Exibindo o valor\n",
        "print(x)"
      ],
      "metadata": {
        "id": "8-2p8P-zlavZ",
        "colab": {
          "base_uri": "https://localhost:8080/"
        },
        "outputId": "d37b3c3e-e5d6-4e0e-a081-1c5ccce768c1"
      },
      "execution_count": null,
      "outputs": [
        {
          "output_type": "stream",
          "name": "stdout",
          "text": [
            "16.958333333333336\n"
          ]
        }
      ]
    },
    {
      "cell_type": "markdown",
      "source": [
        "Agora que temos o nosso qui-quadrado score, vamos buscar o p-valor."
      ],
      "metadata": {
        "id": "diU1V-2v-cMF"
      }
    },
    {
      "cell_type": "code",
      "source": [
        "# Importando a biblioteca\n",
        "from scipy.stats import chi2\n",
        "\n",
        "# Calculando o p-valor\n",
        "p_valor = 1 - chi2.cdf(x, df)\n",
        "\n",
        "# Conclusões\n",
        "if p_valor < alpha:\n",
        "    print(\"Rejeitar H0: Há evidências suficientes para concluir que a distribuição dos métodos difere da distribuição esperada.\")\n",
        "else:\n",
        "    print(\"Falha em rejeitar H0: Não existem evidências suficientes para concluir que a distribuição dos métodos difere da distribuição esperada.\")"
      ],
      "metadata": {
        "colab": {
          "base_uri": "https://localhost:8080/"
        },
        "id": "uSE4UU2V-iOs",
        "outputId": "d40f34f0-3740-4c4f-f9f8-8380c040f47e"
      },
      "execution_count": null,
      "outputs": [
        {
          "output_type": "stream",
          "name": "stdout",
          "text": [
            "Rejeitar H0: Há evidências suficientes para concluir que a distribuição dos métodos difere da distribuição esperada.\n"
          ]
        }
      ]
    },
    {
      "cell_type": "markdown",
      "source": [
        "Com base no nosso teste de hipótese a um nível de significância de 0,01, rejeitamos a hipótese nula. Logo, podemos concluir que existem evidências suficientes de que a distribuição dos métodos difere da distribuição esperada, portanto, são diferentes."
      ],
      "metadata": {
        "id": "2Lac8ozq_wvm"
      }
    },
    {
      "cell_type": "markdown",
      "source": [
        "Após calcularmos o qui-quadrado, existe uma calculadora na qual basta passarmos o mesmo e os graus de liberdade, junto com o alpha, que ela já retornará o p-valor. Vou deixar o link da ferramenta caso alguém tenha interesse:\n",
        "\n",
        "- [Calculadora de Distribuição Qui-Quadrado](https://www.socscistatistics.com/pvalues/chidistribution.aspx)"
      ],
      "metadata": {
        "id": "qp2VRL0mAes9"
      }
    },
    {
      "cell_type": "markdown",
      "source": [
        "# **Teste de hipótese - categóricos ou proporção com mais de 2 categorias (2 amostras)**"
      ],
      "metadata": {
        "id": "Y2KFA8oBEsgN"
      }
    },
    {
      "cell_type": "markdown",
      "source": [
        "Nesse caso, também utilizaremos o teste qui-quadrado, porém existem algumas diferenças, como a aplicação da fórmula.\n",
        "\n",
        "A estatística de teste qui-quadrado é calculada pela seguinte fórmula:\n",
        "- $\\chi^2 = \\sum \\frac{(O_{ij} - E_{ij})^2}{E_{ij}}$\n",
        "\n",
        "onde:\n",
        "- $\\chi^2$ é a estatística de teste qui-quadrado,\n",
        "- $O$ são as frequências observadas,\n",
        "- $E$ são as frequências esperadas.\n",
        "\n",
        "Dito isso, vamos observar um Exercício\n"
      ],
      "metadata": {
        "id": "XQM7B-RGFgSW"
      }
    },
    {
      "cell_type": "markdown",
      "source": [
        "Exercício:\n",
        "Um estudo foi realizado para investigar a preferência de bebidas entre dois grupos de pessoas (grupo A e grupo B). Os participantes foram questionados sobre sua preferência entre quatro tipos de bebidas: água, suco de laranja, refrigerante e chá. Os resultados foram os seguintes:\n",
        "\n",
        "- Grupo A (100 pessoas): 20 preferem água, 30 preferem suco de laranja, 40 preferem refrigerante, 10 preferem chá.\n",
        "- Grupo B (120 pessoas): 30 preferem água, 25 preferem suco de laranja, 45 preferem refrigerante, 20 preferem chá.\n",
        "\n",
        "É possivel determinar se há uma associação significativa entre a preferência de bebidas e os grupos A e B"
      ],
      "metadata": {
        "id": "pe2FLfuwGzne"
      }
    },
    {
      "cell_type": "markdown",
      "source": [
        "Resposta: Nesse caso, estamos diante de variáveis independentes, logo, podemos aplicar o nosso teste.\n",
        "\n",
        "Vamos criar as nossas hipóteses:\n",
        "\n",
        "H0: A = B -> não há diferença significativa na preferência de bebidas entre os grupos A e B\n",
        "\n",
        "Ha: A ≠ B -> há diferença significativa na preferência de bebidas entre os grupos A e B"
      ],
      "metadata": {
        "id": "hsR6c-t3HT3F"
      }
    },
    {
      "cell_type": "code",
      "source": [
        "# Importando a biblioteca\n",
        "from scipy.stats import chi2_contingency\n",
        "\n",
        "# Dados observados\n",
        "grupo_A = [20, 30, 40, 10]\n",
        "grupo_B = [30, 25, 45, 20]\n",
        "\n",
        "# Criando uma tabela de contingência com os dados observados\n",
        "tabela_contingencia = [grupo_A, grupo_B]\n",
        "\n",
        "# Executando o teste qui-quadrado de independência\n",
        "chi2, p_valor, _, _ = chi2_contingency(tabela_contingencia)\n",
        "\n",
        "# Imprimindo o resultado\n",
        "print(\"Valor qui-quadrado:\", chi2)\n",
        "print(\"p-valor:\", p_valor)"
      ],
      "metadata": {
        "colab": {
          "base_uri": "https://localhost:8080/"
        },
        "id": "bC1lVOKMEr5u",
        "outputId": "5c290d8d-2540-49f9-ffc6-9bb553c718b1"
      },
      "execution_count": null,
      "outputs": [
        {
          "output_type": "stream",
          "name": "stdout",
          "text": [
            "Valor qui-quadrado: 4.299346405228759\n",
            "p-valor: 0.23090173858289798\n"
          ]
        }
      ]
    },
    {
      "cell_type": "markdown",
      "source": [
        "Dessa forma, conseguimos obter o p-valor e o qui-quadrado. Agora podemos tirar nossas conclusões."
      ],
      "metadata": {
        "id": "qxTQETFbV9yr"
      }
    },
    {
      "cell_type": "code",
      "source": [
        "# Definindo o alpha\n",
        "alpha = 0.05\n",
        "\n",
        "# Conclusões\n",
        "if p_valor < alpha:\n",
        "    print(\"Rejeitar H0: NÂO existe evidências suficientes para concluir que existe uma associação significativa entre as preferência de bebidas e os grupos A e B.\")\n",
        "else:\n",
        "    print(\"Falha em rejeitar H0: Existem evidências suficientes para concluir que existe uma associação significativa entre as preferência de bebidas e os grupos A e B.\")"
      ],
      "metadata": {
        "colab": {
          "base_uri": "https://localhost:8080/"
        },
        "id": "o7h9PqEdWJDr",
        "outputId": "ff645367-ea93-4ded-def4-15adde5ade57"
      },
      "execution_count": null,
      "outputs": [
        {
          "output_type": "stream",
          "name": "stdout",
          "text": [
            "Falha em rejeitar H0: Existem evidências suficientes para concluir que existe uma associação significativa entre as preferência de bebidas e os grupos A e B.\n"
          ]
        }
      ]
    },
    {
      "cell_type": "markdown",
      "source": [
        "Dado o nosso teste de hipótese a um nível de significância de 0.05, falhamos em rejeitar a hipótese nula. Logo, podemos concluir que existem evidências de que não existe uma associação significativa entre a preferência de bebidas e os grupos A e B."
      ],
      "metadata": {
        "id": "93-hd-rRW6cL"
      }
    },
    {
      "cell_type": "markdown",
      "source": [
        "Uma outra opção seria calcularmos o teste e utilizarmos a calculadora online para calcularmos o p-valor. Vou deixar o link da mesma:\n",
        "\n",
        "- [Calculadora de Distribuição Qui-Quadrado](https://www.socscistatistics.com/pvalues/chidistribution.aspx)"
      ],
      "metadata": {
        "id": "lGVpsY8zYb37"
      }
    },
    {
      "cell_type": "markdown",
      "source": [
        "# **ANOVA um fator**"
      ],
      "metadata": {
        "id": "LQE0JGCthZUW"
      }
    },
    {
      "cell_type": "markdown",
      "source": [
        "Breve Resumo:\n",
        "\n",
        "A análise de variância (ANOVA) é uma técnica estatística utilizada para comparar as médias de três ou mais grupos independentes. Ela avalia se existe uma diferença significativa entre as médias dos grupos e é comumente utilizada quando se tem um fator categórico com mais de duas categorias.\n",
        "\n",
        "Quando Utilizar:\n",
        "\n",
        "- Quando você deseja comparar as médias de três ou mais grupos independentes para determinar se há uma diferença estatisticamente significativa entre eles.\n",
        "- Ao investigar o efeito de um único fator categórico com mais de duas categorias sobre uma variável contínua.\n",
        "- Quando você tem dados que atendem aos pressupostos da ANOVA, como normalidade, homogeneidade das variâncias e independência entre as observações.\n",
        "\n",
        "Requisitos para aplicação:\n",
        "\n",
        "- Independência das observações: As observações em cada grupo devem ser independentes umas das outras.\n",
        "- Normalidade dos resíduos: As diferenças entre os valores observados e os valores previstos devem ser normalmente distribuídas em cada grupo.\n",
        "- Homogeneidade das variâncias: As variâncias dos resíduos devem ser aproximadamente iguais em todos os grupos."
      ],
      "metadata": {
        "id": "eAFOX5nlh5r8"
      }
    },
    {
      "cell_type": "markdown",
      "source": [
        "Importante frisarmos que por padrão assumimos as seguintes hipóteses:\n",
        "\n",
        "- H0: Todas as médias do grupo são iguais.\n",
        "\n",
        "- Ha: Nem todas as médias do grupo são iguais."
      ],
      "metadata": {
        "id": "q4z3WCVYm50G"
      }
    },
    {
      "cell_type": "markdown",
      "source": [
        "Para um melhor entendimento, vamos observar um exemplo:\n",
        "\n",
        "Suponha que um pesquisador esteja investigando o efeito de diferentes tipos de adubos (A, B, C) no crescimento de plantas. O pesquisador selecionou aleatoriamente 10 plantas e aplicou um tipo de adubo em cada planta. Após um período de crescimento, ele mediu a altura das plantas em centímetros. Os resultados estão listados abaixo:\n",
        "\n",
        "- Adubo A: [30, 32, 31, 28, 29, 30, 32, 31, 30, 31]\n",
        "- Adubo B: [29, 30, 31, 33, 30, 31, 30, 31, 32, 31]\n",
        "- Adubo C: [27, 28, 30, 29, 28, 30, 29, 28, 29, 30]\n",
        "\n",
        "Determine se existe uma diferença significativa entre as médias das alturas das plantas para os três tipos de adubos. Use um nível de significância de 0.05."
      ],
      "metadata": {
        "id": "U9G7M076p2R5"
      }
    },
    {
      "cell_type": "markdown",
      "source": [
        "Vamos definir as hipóteses:\n",
        "\n",
        "H0: Altura média A = Altura média B = Altura média C  \n",
        "\n",
        "Ha: Existem diferenças entre as alturas médias"
      ],
      "metadata": {
        "id": "MoMfFtYXydsQ"
      }
    },
    {
      "cell_type": "markdown",
      "source": [
        "Nesse caso, como temos 3 grupos independentes e queremos saber se existem diferenças significativas entre eles, podemos aplicar o teste ANOVA de um fator. Dito isso, vamos começar com as importações necessárias."
      ],
      "metadata": {
        "id": "IosxmsPcqPqm"
      }
    },
    {
      "cell_type": "code",
      "source": [
        "# Importando o Anova um fator\n",
        "from scipy.stats import f_oneway"
      ],
      "metadata": {
        "id": "DRSgaTFcxpzX"
      },
      "execution_count": null,
      "outputs": []
    },
    {
      "cell_type": "markdown",
      "source": [
        "Dito isso, vamos partir para o cálculo."
      ],
      "metadata": {
        "id": "2-JhdPmUxxlO"
      }
    },
    {
      "cell_type": "code",
      "source": [
        "# Definindo os grupos\n",
        "adubo_a = [30, 32, 31, 28, 29, 30, 32, 31, 30, 31]\n",
        "adubo_b = [29, 30, 31, 33, 30, 31, 30, 31, 32, 31]\n",
        "adubo_c = [27, 28, 30, 29, 28, 30, 29, 28, 29, 30]\n",
        "\n",
        "# Executando ANOVA de um fator\n",
        "f_statistic, p_value = f_oneway(adubo_a, adubo_b, adubo_c)\n",
        "\n",
        "print(\"Estatística F:\", f_statistic)\n",
        "print(\"Valor p:\", p_value)\n",
        "\n",
        "if p_value < 0.05:\n",
        "    print(\"Rejeitar H0: Há diferença significativa entre as médias.\")\n",
        "else:\n",
        "    print(\"Falha em rejeitar H0: Não há diferença significativa entre as médias.\")"
      ],
      "metadata": {
        "colab": {
          "base_uri": "https://localhost:8080/"
        },
        "id": "-hTIK46Hxp1u",
        "outputId": "6a025a23-a78d-4e0b-d0ce-3dc6c304084d"
      },
      "execution_count": null,
      "outputs": [
        {
          "output_type": "stream",
          "name": "stdout",
          "text": [
            "Estatística F: 8.494382022471909\n",
            "Valor p: 0.0013749821478992777\n",
            "Rejeitar H0: Há diferença significativa entre as médias.\n"
          ]
        }
      ]
    },
    {
      "cell_type": "markdown",
      "source": [
        "Dessa forma, ao aplicarmos o teste e considerando nosso nível de significância de 0,05, rejeitamos a hipótese nula. Logo, podemos concluir que existem evidências de que as médias das alturas das plantas são diferentes."
      ],
      "metadata": {
        "id": "iYM_ufILyHUX"
      }
    },
    {
      "cell_type": "markdown",
      "source": [
        "## **Teste de Tukey**\n",
        "\n",
        "\n",
        "\n",
        "\n"
      ],
      "metadata": {
        "id": "SrSceF0XKYL0"
      }
    },
    {
      "cell_type": "markdown",
      "source": [
        "O teste de Tukey é uma análise de comparação múltipla usada após o teste ANOVA. Ele nos permite determinar quais grupos têm médias significativamente diferentes entre si.\n",
        "\n",
        "Passos para realizar o teste de Tukey:\n",
        "\n",
        "- Independência das observações: Mesmo pressuposto que o teste ANOVA.\n",
        "- Normalidade dos resíduos: Mesmo pressuposto que o teste ANOVA.\n",
        "- Homogeneidade das variâncias: Mesmo pressuposto que o teste ANOVA.\n",
        "\n",
        "Realizar o teste de Tukey:\n",
        "\n",
        "- Se os pressupostos forem atendidos, o teste de Tukey pode ser aplicado diretamente para comparar todas as médias dos grupos.\n",
        "\n",
        "- Se os pressupostos não forem atendidos (por exemplo, desigualdade de variâncias), considerar o teste de Games-Howell como uma alternativa."
      ],
      "metadata": {
        "id": "qgFyVJ6MQD9V"
      }
    },
    {
      "cell_type": "markdown",
      "source": [
        "Vamos observar a implementação do mesmo, já que a ANOVA já foi aplicada."
      ],
      "metadata": {
        "id": "cnjKw06AMhcN"
      }
    },
    {
      "cell_type": "code",
      "source": [
        "# Importando o teste\n",
        "from statsmodels.stats.multicomp import pairwise_tukeyhsd\n",
        "\n",
        "# Juntando os dados em um único DataFrame\n",
        "data = pd.DataFrame({\n",
        "    'altura': adubo_a + adubo_b + adubo_c,\n",
        "    'adubo': ['A'] * 10 + ['B'] * 10 + ['C'] * 10 # Como os primeiros 10 registros são do grupo A estou multiplicando o A 10 vezes para ele aparecer em todos os seus elementos\n",
        "                                                  # O mesmo esta sendo aplicado para as outras duas categórias\n",
        "})\n",
        "\n",
        "# Aplicando o teste de Tukey\n",
        "tukey_results = pairwise_tukeyhsd(data['altura'], data['adubo'])\n",
        "\n",
        "# Exibindo o resultado\n",
        "print(tukey_results)"
      ],
      "metadata": {
        "colab": {
          "base_uri": "https://localhost:8080/"
        },
        "id": "0wjJJ9zsH6IM",
        "outputId": "052059b5-87e2-4c7b-88ac-90b774c4006c"
      },
      "execution_count": null,
      "outputs": [
        {
          "output_type": "stream",
          "name": "stdout",
          "text": [
            "Multiple Comparison of Means - Tukey HSD, FWER=0.05 \n",
            "====================================================\n",
            "group1 group2 meandiff p-adj   lower   upper  reject\n",
            "----------------------------------------------------\n",
            "     A      B      0.4 0.7189 -0.8732  1.6732  False\n",
            "     A      C     -1.6 0.0116 -2.8732 -0.3268   True\n",
            "     B      C     -2.0 0.0016 -3.2732 -0.7268   True\n",
            "----------------------------------------------------\n"
          ]
        }
      ]
    },
    {
      "cell_type": "markdown",
      "source": [
        "Dessa forma, podemos observar as comparações entre cada grupo. Dito isso, vamos ver o que conseguimos extrair desse resultado:\n",
        "\n"
      ],
      "metadata": {
        "id": "gxs5pRBrNrw1"
      }
    },
    {
      "cell_type": "markdown",
      "source": [
        "**Comparação entre os grupos A e B:**\n",
        "\n",
        "- Podemos observar que a diferença da média é de 0,4.\n",
        "- O p-valor ajustado é de 0,71, o que é maior que o nosso alfa de 0,05.\n",
        "- O intervalo de confiança para a diferença da média varia de -0,87 a 1,67.\n",
        "- Como o p-valor ajustado é maior que o nosso alfa, falhamos em rejeitar a hipótese nula. Logo, não existe diferença significativa entre os grupos A e B.\n",
        "\n",
        "\n",
        "**Comparação entre os grupos A e C:**\n",
        "\n",
        "- Podemos observar que a diferença da média é de -1,6.\n",
        "- O p-valor ajustado é de 0,01, o que é menor que o nosso alfa de 0,05.\n",
        "- O intervalo de confiança para a diferença da média varia de -2,87 a -0,32.\n",
        "- Como o p-valor ajustado é menor que o nosso alfa, rejeitamos a hipótese nula, logo podemos concluir que existe diferença significativa entre os grupos A e C.\n",
        "\n",
        "\n",
        "**Comparação entre os grupos B e C:**\n",
        "\n",
        "- Podemos observar que a diferença da média é de -2,0.\n",
        "- O p-valor ajustado é de 0,001, o que é menor que o nosso alfa de 0,05.\n",
        "- O intervalo de confiança para a diferença da média varia de -3,27 a -0,72.\n",
        "- Como o p-valor ajustado é menor que o nosso alfa, rejeitamos a hipótese nula, logo podemos concluir que existe diferença significativa entre os grupos B e C."
      ],
      "metadata": {
        "id": "sy0nr5v8OB_G"
      }
    },
    {
      "cell_type": "markdown",
      "source": [
        "Dessa forma, podemos concluir, com um nível de significância de 0,05, que existem evidências da existência de diferenças estatísticas entre os grupos A:C e B:C."
      ],
      "metadata": {
        "id": "niaPo5BNhA5s"
      }
    },
    {
      "cell_type": "markdown",
      "source": [
        "## **Teste de Games-Howell**\n",
        "\n"
      ],
      "metadata": {
        "id": "7bb95dsEKc18"
      }
    },
    {
      "cell_type": "markdown",
      "source": [
        "O teste de Games-Howell é uma alternativa ao teste de Tukey quando os pressupostos do ANOVA não são atendidos, especialmente quando há desigualdade de variâncias entre os grupos.\n",
        "\n",
        "Passos para realizar o teste de Games-Howell:\n",
        "\n",
        "- Independência das observações: Mesmo pressuposto que o teste ANOVA.\n",
        "\n",
        "- Normalidade dos resíduos: Mesmo pressuposto que o teste ANOVA.\n",
        "\n",
        "- Homogeneidade das variâncias: Não é necessário assumir homogeneidade das variâncias entre os grupos.\n",
        "\n",
        "Realizar o teste de Games-Howell para comparações múltiplas entre os grupos."
      ],
      "metadata": {
        "id": "Zf3sGy5pQF_k"
      }
    },
    {
      "cell_type": "markdown",
      "source": [
        "Digamos que os dados que temos não passaram em todos os pressupostos para a aplicação de um teste ANOVA, nesse caso vamos aplicar o teste de Games-Howell dito isso vamos realizar algumas importações necessarias"
      ],
      "metadata": {
        "id": "HWjU-EFyjs4U"
      }
    },
    {
      "cell_type": "code",
      "source": [
        "# Realizando a instalação\n",
        "!pip install pingouin\n",
        "\n",
        "# Funções matématicas\n",
        "import numpy as np\n",
        "\n",
        "# Manipulação de dados\n",
        "import pandas as pd\n",
        "\n",
        "# Importando a biblioteca pingouin\n",
        "import pingouin as pg"
      ],
      "metadata": {
        "id": "8V2_gdIKKCmO"
      },
      "execution_count": null,
      "outputs": []
    },
    {
      "cell_type": "markdown",
      "source": [
        "Com todas as bibliotecas importadas podemos passar para a parte do calculo propriamente dito"
      ],
      "metadata": {
        "id": "fMS8coy7j5z7"
      }
    },
    {
      "cell_type": "code",
      "source": [
        "# Dados fornecidos\n",
        "grupo_A = [30, 32, 31, 28, 29, 30, 32, 31, 30, 31]\n",
        "grupo_B = [29, 30, 31, 33, 30, 31, 30, 31, 32, 31]\n",
        "grupo_C = [27, 28, 30, 29, 28, 30, 29, 28, 29, 30]\n",
        "\n",
        "    # Criando um DataFrame Pandas\n",
        "data = pd.DataFrame({\n",
        "        'Altura': np.concatenate([grupo_A, grupo_B, grupo_C]),\n",
        "'Adubo': ['A'] * len(grupo_A) + ['B'] * len(grupo_B) + ['C'] * len(grupo_C)\n",
        "})\n",
        "\n",
        "# Realizando o teste de Games-Howell\n",
        "games_howell_results = pg.pairwise_gameshowell(data, dv='Altura', between='Adubo')\n",
        "\n",
        "# Exibindo o resultado\n",
        "print(games_howell_results)"
      ],
      "metadata": {
        "id": "GahTyc0AP-e9",
        "colab": {
          "base_uri": "https://localhost:8080/"
        },
        "outputId": "88bfcf4e-bfc1-421b-d2c7-b1685e0e2667"
      },
      "execution_count": 7,
      "outputs": [
        {
          "output_type": "stream",
          "name": "stdout",
          "text": [
            "   A  B  mean(A)  mean(B)  diff        se         T         df      pval  \\\n",
            "0  A  B     30.4     30.8  -0.4  0.537484 -0.744208  17.793636  0.740922   \n",
            "1  A  C     30.4     28.8   1.6  0.516398  3.098387  17.307692  0.016777   \n",
            "2  B  C     30.8     28.8   2.0  0.485341  4.120817  17.841214  0.001795   \n",
            "\n",
            "     hedges  \n",
            "0 -0.318757  \n",
            "1  1.327092  \n",
            "2  1.765017  \n"
          ]
        }
      ]
    },
    {
      "cell_type": "markdown",
      "source": [
        "Comparação entre os grupos A e B:\n",
        "\n",
        "- A média do grupo A é 30.4 e a média do grupo B é 30.8.\n",
        "- A diferença entre as médias é -0.4.\n",
        "- O erro padrão da diferença é 0.537.\n",
        "- A estatística de teste é -0.744.\n",
        "- Os graus de liberdade são 17.79.\n",
        "- O valor-p é 0.741, o que indica que a diferença não é estatisticamente significativa.\n",
        "- O tamanho do efeito (Hedges) é -0.319.\n",
        "\n",
        "Comparação entre os grupos A e C:\n",
        "\n",
        "- A média do grupo A é 30.4 e a média do grupo C é 28.8.\n",
        "- A diferença entre as médias é 1.6.\n",
        "- O erro padrão da diferença é 0.516.\n",
        "- A estatística de teste é 3.098.\n",
        "- Os graus de liberdade são 17.31.\n",
        "- O valor-p é 0.017, o que indica que a diferença é estatisticamente significativa.\n",
        "- O tamanho do efeito (Hedges) é 1.327.\n",
        "\n",
        "Comparação entre os grupos B e C:\n",
        "\n",
        "- A média do grupo B é 30.8 e a média do grupo C é 28.8.\n",
        "- A diferença entre as médias é 2.0.\n",
        "- O erro padrão da diferença é 0.485.\n",
        "- A estatística de teste é 4.121.\n",
        "- Os graus de liberdade são 17.84.\n",
        "- O valor-p é 0.002, o que indica que a diferença é estatisticamente significativa.\n",
        "- O tamanho do efeito (Hedges) é 1.765."
      ],
      "metadata": {
        "id": "Sf6ixiYvkb-D"
      }
    },
    {
      "cell_type": "markdown",
      "source": [
        "Utilizamos os mesmos dados e obtivemos um resultado muito semelhante. Novamente, os únicos grupos que apresentam diferenças estatisticamente significativas são os grupos A:C e B:C."
      ],
      "metadata": {
        "id": "JN_V5didkqE7"
      }
    }
  ]
}