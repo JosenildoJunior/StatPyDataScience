{
  "nbformat": 4,
  "nbformat_minor": 0,
  "metadata": {
    "colab": {
      "provenance": [],
      "collapsed_sections": [
        "8_3PJ58At2JU",
        "cAk6wmwuwijf",
        "JhBtvxIMvtLd",
        "_t0YxA0IZiH_",
        "OkOQ0eyhsFSQ"
      ],
      "authorship_tag": "ABX9TyOZ2M8VCK1CqKuZFr3GcYYW",
      "include_colab_link": true
    },
    "kernelspec": {
      "name": "python3",
      "display_name": "Python 3"
    },
    "language_info": {
      "name": "python"
    }
  },
  "cells": [
    {
      "cell_type": "markdown",
      "metadata": {
        "id": "view-in-github",
        "colab_type": "text"
      },
      "source": [
        "<a href=\"https://colab.research.google.com/github/JosenildoJunior/StatPyDataScience/blob/main/Teste_de_hip%C3%B3tese_e_intervalo_de_confian%C3%A7a_para_m%C3%A9dias.ipynb\" target=\"_parent\"><img src=\"https://colab.research.google.com/assets/colab-badge.svg\" alt=\"Open In Colab\"/></a>"
      ]
    },
    {
      "cell_type": "markdown",
      "source": [
        "# **Teste de hipótese e intervalo de confiança para médias e proporções**"
      ],
      "metadata": {
        "id": "iEnnOswDteUw"
      }
    },
    {
      "cell_type": "markdown",
      "source": [
        "Vamos entender alguns tópicos importantes sobre testes de hipóteses e sua aplicação."
      ],
      "metadata": {
        "id": "lD4reY9Iw5ik"
      }
    },
    {
      "cell_type": "markdown",
      "source": [
        "## **O que são Testes de Hipóteses e Intervalos de Confiança?**\n",
        "\n"
      ],
      "metadata": {
        "id": "8_3PJ58At2JU"
      }
    },
    {
      "cell_type": "markdown",
      "source": [
        "- Um teste de hipóteses é um procedimento estatístico utilizado para tomar decisões sobre uma afirmação feita a respeito de um parâmetro de interesse em uma população.\n",
        "\n",
        "- Enquanto isso, um intervalo de confiança é uma faixa de valores que provavelmente contém o verdadeiro valor de um parâmetro desconhecido."
      ],
      "metadata": {
        "id": "VkIIxGtTvePB"
      }
    },
    {
      "cell_type": "markdown",
      "source": [
        "## **Níveis de Significância e Região Crítica**"
      ],
      "metadata": {
        "id": "cAk6wmwuwijf"
      }
    },
    {
      "cell_type": "markdown",
      "source": [
        "Ao realizar um teste de hipóteses, estabelecemos um nível de significância ($\\alpha$), que representa a probabilidade de cometer um erro do Tipo I, ou seja, rejeitar a hipótese nula quando ela é verdadeira. A região crítica é a área da distribuição amostral na qual rejeitamos a hipótese nula se a estatística de teste cair dentro dela."
      ],
      "metadata": {
        "id": "Hev4yEj4wlBn"
      }
    },
    {
      "cell_type": "markdown",
      "source": [
        "## **Testes de Hipóteses e Intervalos de Confiança para Médias**"
      ],
      "metadata": {
        "id": "JhBtvxIMvtLd"
      }
    },
    {
      "cell_type": "markdown",
      "source": [
        "Os testes de hipóteses e os intervalos de confiança para médias são amplamente utilizados para fazer inferências sobre a média populacional com base em uma amostra."
      ],
      "metadata": {
        "id": "4FZAZWCkvwBu"
      }
    },
    {
      "cell_type": "markdown",
      "source": [
        "### Intervalo de confiança para médias quando o **desvio-padrão populacional é conhecido**"
      ],
      "metadata": {
        "id": "_t0YxA0IZiH_"
      }
    },
    {
      "cell_type": "markdown",
      "source": [
        "No caso em que tivermos uma situação onde o desvio padrão populacional é conhecido, a distribuição é bem proxima a uma normal e os dados foram coletados de forma aleatoria poderemos utilizar a distribuição z para criarmos um intervalo de confiança"
      ],
      "metadata": {
        "id": "TxqiT5SOZqqW"
      }
    },
    {
      "cell_type": "markdown",
      "source": [
        "Mas antes precisamos estar com cientes de alguns topicos como por exemplo:\n",
        "\n",
        "**Erro padrão**: Que nada mais é que a maior distancia entre a estimativa pontual e o valor que esta sendo estimado, para realizar esse calculo seguiremos a seguinte formula:\n",
        "\n",
        "- $EP = σ / √n$\n",
        "\n",
        "Onde:\n",
        "\n",
        "σ é o desvio padrão populacional conhecido\n",
        "\n",
        "n é o tamanho da amostra\n",
        "\n",
        "E então podemos para obtermos o **intervalo de confiança**:\n",
        "\n",
        "- $IC = x̄ ± z * EP$\n",
        "\n",
        "Onde:\n",
        "\n",
        "x̄ é a média amostral\n",
        "\n",
        "z é o valor crítico da distribuição normal padrão para o nível de confiança desejado\n",
        "\n",
        "EP é o erro padrão\n"
      ],
      "metadata": {
        "id": "vs9Xpbm6apb3"
      }
    },
    {
      "cell_type": "markdown",
      "source": [
        "Dito isso vamos observar um exemplo:\n",
        "\n",
        "O diretor de admissões de uma faculdade deseja estimar a idade\n",
        "média de todos os estudantes atualmente matriculados. Em uma amostra\n",
        "aleatória de 20 estudantes, a idade média encontrada é de 22,9 anos e a\n",
        "distribuição é normal. De estudos anteriores, o desvio padrão populacional\n",
        "conhecido é de 1,5 ano, e a população é normalmente distribuída. Construa\n",
        "um intervalo de confiança de 90% da idade média da população"
      ],
      "metadata": {
        "id": "msiisqN9mWCS"
      }
    },
    {
      "cell_type": "markdown",
      "source": [
        "Resposta: Aqui podemos obsarvar que os dados estão normalmente distribuidos e conhecemos a média populacional, podemos também notar que a amostra é aleatoria logo podemos utilizar o intervalo de confiança z\n",
        "\n",
        "Agora vamos calcular o erro padrão"
      ],
      "metadata": {
        "id": "WfEUwpxlmkDZ"
      }
    },
    {
      "cell_type": "code",
      "source": [
        "# Funções matématicas\n",
        "from math import sqrt\n",
        "\n",
        "# Calculando o erro padrão\n",
        "erro_padrao = 1.5 / sqrt(20)"
      ],
      "metadata": {
        "id": "13fw9qUQnHI4"
      },
      "execution_count": 12,
      "outputs": []
    },
    {
      "cell_type": "markdown",
      "source": [
        "Como sabemos que a nossa distribuição é uma normal, vamos importar a seguinte biblioteca para nos auxiliar"
      ],
      "metadata": {
        "id": "oeqHyMA6naMw"
      }
    },
    {
      "cell_type": "code",
      "source": [
        "# Importando a função norm\n",
        "from scipy.stats import norm"
      ],
      "metadata": {
        "id": "S7NAJPJYrcXg"
      },
      "execution_count": null,
      "outputs": []
    },
    {
      "cell_type": "markdown",
      "source": [
        "A função norm é utilizada para calcular o intervalo de confiança para uma distribuição normal, agora podemos partir para o calculo propriamente dito"
      ],
      "metadata": {
        "id": "LGdoaQrcrcxJ"
      }
    },
    {
      "cell_type": "code",
      "source": [
        "# Calculando o intervalo de confiança\n",
        "intervalo_confianca = norm.interval(confidence=0.95, loc=22.9, scale=erro_padrao)\n",
        "\n",
        "# Exibindo o intervalo\n",
        "print(f\"Intervalo de confiança: {intervalo_confianca}\")"
      ],
      "metadata": {
        "colab": {
          "base_uri": "https://localhost:8080/"
        },
        "id": "C16DBRNKqS2p",
        "outputId": "348392a8-f70b-4875-e91c-0be28257f64a"
      },
      "execution_count": 14,
      "outputs": [
        {
          "output_type": "stream",
          "name": "stdout",
          "text": [
            "Intervalo de confiança: (22.24260809456756, 23.557391905432436)\n"
          ]
        }
      ]
    },
    {
      "cell_type": "markdown",
      "source": [
        "Logo podemos afirmar com 95% de confiança que a nossa que a média dos estudantes está entre 22,2 e 23,5 anos"
      ],
      "metadata": {
        "id": "UxWg8kuUrPnJ"
      }
    },
    {
      "cell_type": "markdown",
      "source": [
        "### Intervalo de confiança para médias quando o **desvio-padrão populacional é desconhecido**"
      ],
      "metadata": {
        "id": "OkOQ0eyhsFSQ"
      }
    },
    {
      "cell_type": "markdown",
      "source": [
        "Antes de mais nada vamos entender um pouco da distribuição t de Student"
      ],
      "metadata": {
        "id": "E0nDr6eZt62A"
      }
    },
    {
      "cell_type": "markdown",
      "source": [
        "O teste t de Student é usado para testar se a média de uma única amostra difere significativamente da média de uma população ou de um valor de referência conhecido."
      ],
      "metadata": {
        "id": "FihhkhO1v1cU"
      }
    },
    {
      "cell_type": "markdown",
      "source": [
        "**Quando utilizar o Teste T de Student?**\n",
        "\n",
        "-  Quando você tem duas amostras independentes e deseja determinar se as médias das duas populações das quais as amostras foram retiradas são significativamente diferentes. Por exemplo, você pode usar o teste t de Student para comparar as médias de altura entre homens e mulheres.\n",
        "\n",
        "-  Quando o tamanho da amostra é pequeno (geralmente menos de 30) e a distribuição das pontuações é aproximadamente normal."
      ],
      "metadata": {
        "id": "WAI39D3owOYx"
      }
    },
    {
      "cell_type": "markdown",
      "source": [
        "O passo a passo para calcular o intervalo de confiança utilizando a distribuição t é bem parecida com a z primeiro vamos iniciar calculando o erro padrão que tem a seguinte formula:\n",
        "\n",
        "- $E = t_c * s / √n$\n",
        "\n",
        "Onde:\n",
        "\n",
        "E: Erro padrão da média\n",
        "\n",
        "t_c: Valor crítico da distribuição t de Student com n-1 graus de liberdade e nível de confiança 1-α/2\n",
        "\n",
        "s: Desvio padrão da amostra\n",
        "\n",
        "n: Tamanho da amostra\n",
        "\n",
        "E então podemos para obtermos o **intervalo de confiança**:\n",
        "\n",
        "- $IC = X̄ ± t_c * s / √n$\n",
        "\n",
        "Onde:\n",
        "\n",
        "IC: Intervalo de confiança\n",
        "\n",
        "X̄: Média da amostra\n",
        "\n",
        "t_c: Valor crítico da distribuição t de Student com n-1 graus de liberdade e nível de confiança 1-α/2\n",
        "\n",
        "s: Desvio padrão da amostra\n",
        "\n",
        "n: Tamanho da amostra"
      ],
      "metadata": {
        "id": "Z2PbuTMauPGA"
      }
    },
    {
      "cell_type": "markdown",
      "source": [
        "Dito isso vamos a um exemplo:\n",
        "\n",
        "Você seleciona aleatoriamente 16 cafeterias e mede a temperatura\n",
        "do café vendido em cada uma delas. A temperatura média da amostra é 162,0\n",
        "oF (fahrenheit) com desvio padrão de 10,0 oF. Construa um intervalo de\n",
        "confiança de 95% para a temperatura média da população de cafés vendidos. Suponha que as temperaturas tenham distribuição aproximadamente\n",
        "normal."
      ],
      "metadata": {
        "id": "GQiFDuq6zfVA"
      }
    }
  ]
}