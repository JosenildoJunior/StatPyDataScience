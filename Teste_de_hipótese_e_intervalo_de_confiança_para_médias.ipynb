{
  "nbformat": 4,
  "nbformat_minor": 0,
  "metadata": {
    "colab": {
      "provenance": [],
      "collapsed_sections": [
        "8_3PJ58At2JU",
        "cAk6wmwuwijf",
        "_t0YxA0IZiH_"
      ],
      "authorship_tag": "ABX9TyMkMCceb20v9naVBA35yAZa",
      "include_colab_link": true
    },
    "kernelspec": {
      "name": "python3",
      "display_name": "Python 3"
    },
    "language_info": {
      "name": "python"
    }
  },
  "cells": [
    {
      "cell_type": "markdown",
      "metadata": {
        "id": "view-in-github",
        "colab_type": "text"
      },
      "source": [
        "<a href=\"https://colab.research.google.com/github/JosenildoJunior/StatPyDataScience/blob/main/Teste_de_hip%C3%B3tese_e_intervalo_de_confian%C3%A7a_para_m%C3%A9dias.ipynb\" target=\"_parent\"><img src=\"https://colab.research.google.com/assets/colab-badge.svg\" alt=\"Open In Colab\"/></a>"
      ]
    },
    {
      "cell_type": "markdown",
      "source": [
        "# **Teste de hipótese e intervalo de confiança para médias e proporções**"
      ],
      "metadata": {
        "id": "iEnnOswDteUw"
      }
    },
    {
      "cell_type": "markdown",
      "source": [
        "Vamos entender alguns tópicos importantes sobre testes de hipóteses e sua aplicação."
      ],
      "metadata": {
        "id": "lD4reY9Iw5ik"
      }
    },
    {
      "cell_type": "markdown",
      "source": [
        "## **O que são Testes de Hipóteses e Intervalos de Confiança?**\n",
        "\n"
      ],
      "metadata": {
        "id": "8_3PJ58At2JU"
      }
    },
    {
      "cell_type": "markdown",
      "source": [
        "- Um teste de hipóteses é um procedimento estatístico utilizado para tomar decisões sobre uma afirmação feita a respeito de um parâmetro de interesse em uma população.\n",
        "\n",
        "- Enquanto isso, um intervalo de confiança é uma faixa de valores que provavelmente contém o verdadeiro valor de um parâmetro desconhecido."
      ],
      "metadata": {
        "id": "VkIIxGtTvePB"
      }
    },
    {
      "cell_type": "markdown",
      "source": [
        "## **Níveis de Significância e Região Crítica**"
      ],
      "metadata": {
        "id": "cAk6wmwuwijf"
      }
    },
    {
      "cell_type": "markdown",
      "source": [
        "Ao realizar um teste de hipóteses, estabelecemos um nível de significância ($\\alpha$), que representa a probabilidade de cometer um erro do Tipo I, ou seja, rejeitar a hipótese nula quando ela é verdadeira. A região crítica é a área da distribuição amostral na qual rejeitamos a hipótese nula se a estatística de teste cair dentro dela."
      ],
      "metadata": {
        "id": "Hev4yEj4wlBn"
      }
    },
    {
      "cell_type": "markdown",
      "source": [
        "## **Testes de Hipóteses e Intervalos de Confiança para Médias**"
      ],
      "metadata": {
        "id": "JhBtvxIMvtLd"
      }
    },
    {
      "cell_type": "markdown",
      "source": [
        "Os testes de hipóteses e os intervalos de confiança para médias são amplamente utilizados para fazer inferências sobre a média populacional com base em uma amostra."
      ],
      "metadata": {
        "id": "4FZAZWCkvwBu"
      }
    },
    {
      "cell_type": "markdown",
      "source": [
        "### Intervalo de confiança para médias quando o **desvio-padrão populacional é conhecido**"
      ],
      "metadata": {
        "id": "_t0YxA0IZiH_"
      }
    },
    {
      "cell_type": "markdown",
      "source": [
        "No caso em que tivermos uma situação onde o desvio padrão populacional é conhecido, a distribuição é bem próxima a uma normal e os dados foram coletados de forma aleatória, poderemos utilizar a distribuição z para criarmos um intervalo de confiança."
      ],
      "metadata": {
        "id": "TxqiT5SOZqqW"
      }
    },
    {
      "cell_type": "markdown",
      "source": [
        "Mas antes precisamos estar com cientes de alguns topicos como por exemplo:\n",
        "\n",
        "**Erro padrão**: Que nada mais é que a maior distancia entre a estimativa pontual e o valor que esta sendo estimado, para realizar esse calculo seguiremos a seguinte formula:\n",
        "\n",
        "- $EP = σ / √n$\n",
        "\n",
        "Onde:\n",
        "\n",
        "σ é o desvio padrão populacional conhecido\n",
        "\n",
        "n é o tamanho da amostra\n",
        "\n",
        "E então podemos para obtermos o **intervalo de confiança**:\n",
        "\n",
        "- $IC = x̄ ± z * EP$\n",
        "\n",
        "Onde:\n",
        "\n",
        "x̄ é a média amostral\n",
        "\n",
        "z é o valor crítico da distribuição normal padrão para o nível de confiança desejado\n",
        "\n",
        "EP é o erro padrão\n"
      ],
      "metadata": {
        "id": "vs9Xpbm6apb3"
      }
    },
    {
      "cell_type": "markdown",
      "source": [
        "**Exemplo**:\n",
        "\n",
        "O diretor de admissões de uma faculdade deseja estimar a idade média de todos os estudantes matriculados. Em uma amostra aleatória de 20 estudantes, a média amostral é de 22,9 anos e a distribuição dos dados é normal. De estudos anteriores, o desvio padrão populacional conhecido é de 1,5 ano e a população é normalmente distribuída. Construa um intervalo de confiança de 90% para a idade média da população."
      ],
      "metadata": {
        "id": "msiisqN9mWCS"
      }
    },
    {
      "cell_type": "markdown",
      "source": [
        "**Resposta**:\n",
        "\n",
        "Aqui podemos observar que os dados estão normalmente distribuídos e conhecemos a média populacional. Podemos também notar que a amostra é aleatória, logo podemos utilizar o intervalo de confiança z.\n",
        "\n",
        "Agora vamos calcular o erro padrão."
      ],
      "metadata": {
        "id": "WfEUwpxlmkDZ"
      }
    },
    {
      "cell_type": "code",
      "source": [
        "# Funções matématicas\n",
        "from math import sqrt\n",
        "\n",
        "# Calculando o erro padrão\n",
        "erro_padrao = 1.5 / sqrt(20)"
      ],
      "metadata": {
        "id": "13fw9qUQnHI4"
      },
      "execution_count": null,
      "outputs": []
    },
    {
      "cell_type": "markdown",
      "source": [
        "Como sabemos que a nossa distribuição é normal, vamos importar a seguinte biblioteca para nos auxiliar."
      ],
      "metadata": {
        "id": "oeqHyMA6naMw"
      }
    },
    {
      "cell_type": "code",
      "source": [
        "# Importando a função norm\n",
        "from scipy.stats import norm"
      ],
      "metadata": {
        "id": "S7NAJPJYrcXg"
      },
      "execution_count": null,
      "outputs": []
    },
    {
      "cell_type": "markdown",
      "source": [
        "A função norm é utilizada para calcular o intervalo de confiança para uma distribuição normal. Agora, podemos partir para o cálculo propriamente dito."
      ],
      "metadata": {
        "id": "LGdoaQrcrcxJ"
      }
    },
    {
      "cell_type": "code",
      "source": [
        "# Calculando o intervalo de confiança\n",
        "intervalo_confianca = norm.interval(confidence=0.95, loc=22.9, scale=erro_padrao)\n",
        "\n",
        "# Exibindo o intervalo\n",
        "print(f\"Intervalo de confiança: {intervalo_confianca}\")"
      ],
      "metadata": {
        "colab": {
          "base_uri": "https://localhost:8080/"
        },
        "id": "C16DBRNKqS2p",
        "outputId": "348392a8-f70b-4875-e91c-0be28257f64a"
      },
      "execution_count": null,
      "outputs": [
        {
          "output_type": "stream",
          "name": "stdout",
          "text": [
            "Intervalo de confiança: (22.24260809456756, 23.557391905432436)\n"
          ]
        }
      ]
    },
    {
      "cell_type": "markdown",
      "source": [
        "Logo, podemos afirmar com 95% de confiança que a média dos estudantes está entre 22,2 e 23,5 anos.\n",
        "\n"
      ],
      "metadata": {
        "id": "UxWg8kuUrPnJ"
      }
    },
    {
      "cell_type": "markdown",
      "source": [
        "### Intervalo de confiança para médias quando o **desvio-padrão populacional é desconhecido**"
      ],
      "metadata": {
        "id": "OkOQ0eyhsFSQ"
      }
    },
    {
      "cell_type": "markdown",
      "source": [
        "Antes de tudo, vamos entender um pouco sobre a distribuição t de Student."
      ],
      "metadata": {
        "id": "E0nDr6eZt62A"
      }
    },
    {
      "cell_type": "markdown",
      "source": [
        "O teste t de Student é usado para testar se a média de uma única amostra difere significativamente da média de uma população ou de um valor de referência conhecido."
      ],
      "metadata": {
        "id": "FihhkhO1v1cU"
      }
    },
    {
      "cell_type": "markdown",
      "source": [
        "**Quando utilizar o Teste T de Student?**\n",
        "\n",
        "-  O teste t é comumente utilizado em situações onde estamos interessados em comparar a média de uma amostra com uma média populacional conhecida ou para comparar as médias de duas amostras independentes.\n",
        "\n",
        "-  Quando o tamanho da amostra é pequeno (geralmente menos de 30) e a distribuição das pontuações é aproximadamente normal."
      ],
      "metadata": {
        "id": "WAI39D3owOYx"
      }
    },
    {
      "cell_type": "markdown",
      "source": [
        "O passo a passo para calcular o intervalo de confiança utilizando a distribuição t é bastante similar ao da distribuição z.\n",
        "\n",
        "Primeiro, vamos calcular o **erro padrão**:\n",
        "\n",
        "- $E = t_c * s / √n$\n",
        "\n",
        "Onde:\n",
        "\n",
        "E: Erro padrão da média\n",
        "\n",
        "t_c: Valor crítico da distribuição t de Student com n-1 graus de liberdade e nível de confiança 1-α/2\n",
        "\n",
        "s: Desvio padrão da amostra\n",
        "\n",
        "n: Tamanho da amostra\n",
        "\n",
        "Em seguida, podemos calcular o **intervalo de confiança**:\n",
        "\n",
        "- $IC = X̄ ± t_c * s / √n$\n",
        "\n",
        "Onde:\n",
        "\n",
        "IC: Intervalo de confiança\n",
        "\n",
        "X̄: Média da amostra\n",
        "\n",
        "t_c: Valor crítico da distribuição t de Student com n-1 graus de liberdade e nível de confiança 1-α/2\n",
        "\n",
        "s: Desvio padrão da amostra\n",
        "\n",
        "n: Tamanho da amostra"
      ],
      "metadata": {
        "id": "Z2PbuTMauPGA"
      }
    },
    {
      "cell_type": "markdown",
      "source": [
        "Dito isso, vamos a um exemplo:\n",
        "\n",
        "Você seleciona aleatoriamente 16 cafeterias e mede a temperatura do café vendido em cada uma delas. A temperatura média da amostra é de 162,0°F (Fahrenheit) com desvio padrão de 10,0°F. Construa um intervalo de confiança de 95% para a temperatura média da população de cafés vendidos. Suponha que as temperaturas tenham uma distribuição aproximadamente normal."
      ],
      "metadata": {
        "id": "GQiFDuq6zfVA"
      }
    },
    {
      "cell_type": "markdown",
      "source": [
        "**Resposta**:\n",
        "\n",
        "Temos um desvio padrão populacional desconhecido, uma amostra aleatória e uma distribuição que se aproxima de uma normal. Portanto, podemos utilizar a distribuição t.\n",
        "\n",
        "Agora, vamos calcular o erro padrão."
      ],
      "metadata": {
        "id": "YkdtBMwT2s2P"
      }
    },
    {
      "cell_type": "code",
      "source": [
        "# Funções matématicas\n",
        "from math import sqrt\n",
        "import scipy.stats as st\n",
        "\n",
        "# Calculando o erro padrão\n",
        "erro_padrao = 10 / sqrt(16)"
      ],
      "metadata": {
        "id": "5ll-WA-q32pu"
      },
      "execution_count": null,
      "outputs": []
    },
    {
      "cell_type": "markdown",
      "source": [
        "Agora que já temos o erro padrão, vamos seguir para o cálculo dos intervalos de confiança."
      ],
      "metadata": {
        "id": "CjzTiv2i5Qzm"
      }
    },
    {
      "cell_type": "code",
      "source": [
        "# Criando o objeto da distribuição\n",
        "distribuicao_t = st.t(df=15, loc=162.0, scale=erro_padrao)\n",
        "\n",
        "# Calculando o intervalo de confiança\n",
        "intervalo_confianca = distribuicao_t.interval(confidence=0.95)\n",
        "\n",
        "# Exibindo o resultado\n",
        "print(f\"Intervalo de confiança: {intervalo_confianca}\")"
      ],
      "metadata": {
        "colab": {
          "base_uri": "https://localhost:8080/"
        },
        "id": "uAAJka4f4TeP",
        "outputId": "a92b131b-45f8-4711-c293-df63a8c87bf6"
      },
      "execution_count": null,
      "outputs": [
        {
          "output_type": "stream",
          "name": "stdout",
          "text": [
            "Intervalo de confiança: (156.67137613610169, 167.32862386389831)\n"
          ]
        }
      ]
    },
    {
      "cell_type": "markdown",
      "source": [
        "Dessa forma, podemos afirmar que temos 95% de confiança de que a temperatura média dos cafés vendidos está entre 156,67°F e 167,32°F."
      ],
      "metadata": {
        "id": "F_nrN-Cu5X-W"
      }
    },
    {
      "cell_type": "markdown",
      "source": [
        "### Teste de hipóteses para médias quando o **desvio-padrão populacional é conhecido**"
      ],
      "metadata": {
        "id": "3Lz56hfzI97D"
      }
    },
    {
      "cell_type": "markdown",
      "source": [
        "Quando temos um desvio-padrão populacional conhecido, padronizamos\n",
        "nossa média com o teste z utilizando a seguinte formula:\n",
        "\n",
        "- $Z = (X̄ - μ) / (σ / √n)$\n",
        "\n",
        "Onde:\n",
        "\n",
        "Z: Valor do teste Z\n",
        "\n",
        "X̄: Média da amostra\n",
        "\n",
        "μ: Média da população (hipótese)\n",
        "\n",
        "σ: Desvio padrão da população (conhecido)\n",
        "\n",
        "n: Tamanho da amostra"
      ],
      "metadata": {
        "id": "Buzg5HqaJP0a"
      }
    },
    {
      "cell_type": "markdown",
      "source": [
        "Utilizando essa formula obteremos o z-calculado a partir dai temos duas opções:\n",
        "\n",
        "- Podemos comparar o z calculado com o z critico, caso o z critico seja maior que o z calculado nos teremos evidencias suficientes para concordar com  a hipotese alternativa. (Existem sites que calculam o nosso z critico, basta passarmos o tipo do teste unicaudal e o nivel de significancia)\n",
        "\n",
        "- Podemos calcular o p-valor e comparar com o nosso alpha.\n",
        "  - Se o valor p for menor que $α$, rejeitamos a hipótese nula.\n",
        "  - Se o valor p for maior ou igual a $α$, falhamos em rejeitar a hipótese nula.\n",
        "\n",
        "Vamos observar o seguinte exemplo"
      ],
      "metadata": {
        "id": "mosU-T1LKCM7"
      }
    },
    {
      "cell_type": "markdown",
      "source": [
        "**Exemplo**: Em corrida de carros, o pit stop é o local em que um veículo vai\n",
        "para trocar pneus, abastecer, efetuar reparos e outros ajustes mecânicos. A\n",
        "eficiência de uma equipe que realiza esses ajustes pode afetar o resultado de\n",
        "uma corrida. Uma equipe afirma que seu tempo médio no pit stop (para 4\n",
        "trocas de pneus e abastecimento) é menor que 13 segundos. Uma amostra\n",
        "aleatória de 32 tempos de pit stop tem uma média de 12,9 segundos.\n",
        "Suponha que o desvio padrão populacional é de 0,19 segundos. Há\n",
        "evidência suficiente para concordar com a afirmação para 99% de confiança?"
      ],
      "metadata": {
        "id": "TWvd5SaoQqxc"
      }
    },
    {
      "cell_type": "markdown",
      "source": [
        "**Resposta:**"
      ],
      "metadata": {
        "id": "hQBydfwBQtjD"
      }
    },
    {
      "cell_type": "code",
      "source": [
        "from scipy.stats import norm\n",
        "import numpy as np\n",
        "\n",
        "# Definindo a média da amostra\n",
        "media_amostra = 12.9\n",
        "\n",
        "# Definindo a média populacional\n",
        "media_populacional = 13\n",
        "\n",
        "# Definindo o desvio padrão populacional\n",
        "desvio_padrao_populacional = 0.19\n",
        "\n",
        "# Definindo o tamanho da amostra\n",
        "tamanho_amostra = 32\n",
        "\n",
        "# Calculando o z-score\n",
        "z_score = (media_amostra - media_populacional) / (desvio_padrao_populacional / (np.sqrt(tamanho_amostra)))\n",
        "\n",
        "# Calculando o valor p\n",
        "valor_p = norm.cdf(z_score)\n",
        "\n",
        "# Definindo o alpha\n",
        "alpha = 0.01\n",
        "\n",
        "# Conclusões\n",
        "if valor_p < alpha:\n",
        "    print(\"Rejeitar H0: Há evidência suficiente para concluir que a média do tempo de pit stop é inferior a 13 segundos com 99% de confiança.\")\n",
        "else:\n",
        "    print(\"Falha em rejeitar H0: Não há evidência suficiente para concluir que a média do tempo de pit stop é inferior a 13 segundos com 99% de confiança.\")\n",
        "\n",
        "# Exibindo o p_valor\n",
        "print(f\"\\nO p-valor: {valor_p}\")"
      ],
      "metadata": {
        "colab": {
          "base_uri": "https://localhost:8080/"
        },
        "id": "nffWSBnnMeF0",
        "outputId": "93568dbe-c5bf-4c1a-900c-2bc1e1bd617b"
      },
      "execution_count": 9,
      "outputs": [
        {
          "output_type": "stream",
          "name": "stdout",
          "text": [
            "Rejeitar H0: Há evidência suficiente para concluir que a média do tempo de pit stop é inferior a 13 segundos com 99% de confiança.\n",
            "\n",
            "O p-valor: 0.0014540358484991462\n"
          ]
        }
      ]
    },
    {
      "cell_type": "code",
      "source": [],
      "metadata": {
        "id": "ZKXLPQoxOtTN"
      },
      "execution_count": null,
      "outputs": []
    }
  ]
}