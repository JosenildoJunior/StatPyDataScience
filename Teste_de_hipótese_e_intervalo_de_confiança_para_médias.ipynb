{
  "nbformat": 4,
  "nbformat_minor": 0,
  "metadata": {
    "colab": {
      "provenance": [],
      "collapsed_sections": [
        "8_3PJ58At2JU",
        "cAk6wmwuwijf",
        "JhBtvxIMvtLd",
        "_t0YxA0IZiH_",
        "OkOQ0eyhsFSQ",
        "3Lz56hfzI97D",
        "iOgC6idYkAda",
        "aSeaeL_IF68x",
        "cnyUdl0oGqhS",
        "FXDb4Ed3KGva",
        "NeLVAHCpCehp",
        "qvuLXi_ERMUr",
        "tMBaLK-XyQbi",
        "AlPmt_bPNvua",
        "lORbBPr_NOHT",
        "1bRjSzgNXf1c",
        "0m50glD68ztn",
        "Vx28_KVl0rlW"
      ],
      "authorship_tag": "ABX9TyMu5lv6SySxYUKL4ls4xIK+",
      "include_colab_link": true
    },
    "kernelspec": {
      "name": "python3",
      "display_name": "Python 3"
    },
    "language_info": {
      "name": "python"
    }
  },
  "cells": [
    {
      "cell_type": "markdown",
      "metadata": {
        "id": "view-in-github",
        "colab_type": "text"
      },
      "source": [
        "<a href=\"https://colab.research.google.com/github/JosenildoJunior/StatPyDataScience/blob/main/Teste_de_hip%C3%B3tese_e_intervalo_de_confian%C3%A7a_para_m%C3%A9dias.ipynb\" target=\"_parent\"><img src=\"https://colab.research.google.com/assets/colab-badge.svg\" alt=\"Open In Colab\"/></a>"
      ]
    },
    {
      "cell_type": "markdown",
      "source": [
        "# **Teste de hipótese e intervalo de confiança para médias e proporções**"
      ],
      "metadata": {
        "id": "iEnnOswDteUw"
      }
    },
    {
      "cell_type": "markdown",
      "source": [
        "Vamos entender alguns tópicos importantes sobre testes de hipóteses e sua aplicação."
      ],
      "metadata": {
        "id": "lD4reY9Iw5ik"
      }
    },
    {
      "cell_type": "markdown",
      "source": [
        "## **O que são Testes de Hipóteses e Intervalos de Confiança?**\n",
        "\n"
      ],
      "metadata": {
        "id": "8_3PJ58At2JU"
      }
    },
    {
      "cell_type": "markdown",
      "source": [
        "- Um teste de hipóteses é um procedimento estatístico utilizado para tomar decisões sobre uma afirmação feita a respeito de um parâmetro de interesse em uma população.\n",
        "\n",
        "- Enquanto isso, um intervalo de confiança é uma faixa de valores que provavelmente contém o verdadeiro valor de um parâmetro desconhecido."
      ],
      "metadata": {
        "id": "VkIIxGtTvePB"
      }
    },
    {
      "cell_type": "markdown",
      "source": [
        "## **Níveis de Significância e Região Crítica**"
      ],
      "metadata": {
        "id": "cAk6wmwuwijf"
      }
    },
    {
      "cell_type": "markdown",
      "source": [
        "Ao realizar um teste de hipóteses, estabelecemos um nível de significância ($\\alpha$), que representa a probabilidade de cometer um erro do Tipo I, ou seja, rejeitar a hipótese nula quando ela é verdadeira. A região crítica é a área da distribuição amostral na qual rejeitamos a hipótese nula se a estatística de teste cair dentro dela."
      ],
      "metadata": {
        "id": "Hev4yEj4wlBn"
      }
    },
    {
      "cell_type": "markdown",
      "source": [
        "## **Testes de Hipóteses e Intervalos de Confiança para Médias (1 Amostra)**"
      ],
      "metadata": {
        "id": "JhBtvxIMvtLd"
      }
    },
    {
      "cell_type": "markdown",
      "source": [
        "Os testes de hipóteses e os intervalos de confiança para médias são amplamente utilizados para fazer inferências sobre a média populacional com base em uma amostra."
      ],
      "metadata": {
        "id": "4FZAZWCkvwBu"
      }
    },
    {
      "cell_type": "markdown",
      "source": [
        "### Intervalo de confiança para médias quando o **desvio-padrão populacional é conhecido**"
      ],
      "metadata": {
        "id": "_t0YxA0IZiH_"
      }
    },
    {
      "cell_type": "markdown",
      "source": [
        "No caso em que tivermos uma situação onde o desvio padrão populacional é conhecido, a distribuição é bem próxima a uma normal e os dados foram coletados de forma aleatória, poderemos utilizar a distribuição z para criarmos um intervalo de confiança."
      ],
      "metadata": {
        "id": "TxqiT5SOZqqW"
      }
    },
    {
      "cell_type": "markdown",
      "source": [
        "Mas antes precisamos estar com cientes de alguns topicos como por exemplo:\n",
        "\n",
        "**Erro padrão**: Que nada mais é que a maior distancia entre a estimativa pontual e o valor que esta sendo estimado, para realizar esse calculo seguiremos a seguinte formula:\n",
        "\n",
        "- $EP = σ / √n$\n",
        "\n",
        "Onde:\n",
        "\n",
        "σ é o desvio padrão populacional conhecido\n",
        "\n",
        "n é o tamanho da amostra\n",
        "\n",
        "E então podemos para obtermos o **intervalo de confiança**:\n",
        "\n",
        "- $IC = x̄ ± z * EP$\n",
        "\n",
        "Onde:\n",
        "\n",
        "x̄ é a média amostral\n",
        "\n",
        "z é o valor crítico da distribuição normal padrão para o nível de confiança desejado\n",
        "\n",
        "EP é o erro padrão\n"
      ],
      "metadata": {
        "id": "vs9Xpbm6apb3"
      }
    },
    {
      "cell_type": "markdown",
      "source": [
        "**Exemplo**:\n",
        "\n",
        "O diretor de admissões de uma faculdade deseja estimar a idade média de todos os estudantes matriculados. Em uma amostra aleatória de 20 estudantes, a média amostral é de 22,9 anos e a distribuição dos dados é normal. De estudos anteriores, o desvio padrão populacional conhecido é de 1,5 ano e a população é normalmente distribuída. Construa um intervalo de confiança de 90% para a idade média da população."
      ],
      "metadata": {
        "id": "msiisqN9mWCS"
      }
    },
    {
      "cell_type": "markdown",
      "source": [
        "**Resposta**:\n",
        "\n",
        "Aqui podemos observar que os dados estão normalmente distribuídos e conhecemos a média populacional. Podemos também notar que a amostra é aleatória, logo podemos utilizar o intervalo de confiança z.\n",
        "\n",
        "Agora vamos calcular o erro padrão."
      ],
      "metadata": {
        "id": "WfEUwpxlmkDZ"
      }
    },
    {
      "cell_type": "code",
      "source": [
        "# Funções matématicas\n",
        "from math import sqrt\n",
        "\n",
        "# Calculando o erro padrão\n",
        "erro_padrao = 1.5 / sqrt(20)"
      ],
      "metadata": {
        "id": "13fw9qUQnHI4"
      },
      "execution_count": 18,
      "outputs": []
    },
    {
      "cell_type": "markdown",
      "source": [
        "Como sabemos que a nossa distribuição é normal, vamos importar a seguinte biblioteca para nos auxiliar."
      ],
      "metadata": {
        "id": "oeqHyMA6naMw"
      }
    },
    {
      "cell_type": "code",
      "source": [
        "# Importando a função norm\n",
        "from scipy.stats import norm"
      ],
      "metadata": {
        "id": "S7NAJPJYrcXg"
      },
      "execution_count": 19,
      "outputs": []
    },
    {
      "cell_type": "markdown",
      "source": [
        "A função norm é utilizada para calcular o intervalo de confiança para uma distribuição normal. Agora, podemos partir para o cálculo propriamente dito."
      ],
      "metadata": {
        "id": "LGdoaQrcrcxJ"
      }
    },
    {
      "cell_type": "code",
      "source": [
        "# Calculando o intervalo de confiança\n",
        "intervalo_confianca = norm.interval(confidence=0.95, loc=22.9, scale=erro_padrao)\n",
        "\n",
        "# Exibindo o intervalo\n",
        "print(f\"Intervalo de confiança: {intervalo_confianca}\")"
      ],
      "metadata": {
        "colab": {
          "base_uri": "https://localhost:8080/"
        },
        "id": "C16DBRNKqS2p",
        "outputId": "3abcfa3f-f22c-4247-a353-83605955b6b2"
      },
      "execution_count": 20,
      "outputs": [
        {
          "output_type": "stream",
          "name": "stdout",
          "text": [
            "Intervalo de confiança: (22.24260809456756, 23.557391905432436)\n"
          ]
        }
      ]
    },
    {
      "cell_type": "markdown",
      "source": [
        "Logo, podemos afirmar com 95% de confiança que a média dos estudantes está entre 22,2 e 23,5 anos.\n",
        "\n"
      ],
      "metadata": {
        "id": "UxWg8kuUrPnJ"
      }
    },
    {
      "cell_type": "markdown",
      "source": [
        "### Intervalo de confiança para médias quando o **desvio-padrão populacional é desconhecido**"
      ],
      "metadata": {
        "id": "OkOQ0eyhsFSQ"
      }
    },
    {
      "cell_type": "markdown",
      "source": [
        "Antes de tudo, vamos entender um pouco sobre a distribuição t de Student."
      ],
      "metadata": {
        "id": "E0nDr6eZt62A"
      }
    },
    {
      "cell_type": "markdown",
      "source": [
        "O teste t de Student é usado para testar se a média de uma única amostra difere significativamente da média de uma população ou de um valor de referência conhecido."
      ],
      "metadata": {
        "id": "FihhkhO1v1cU"
      }
    },
    {
      "cell_type": "markdown",
      "source": [
        "**Quando utilizar o Teste T de Student?**\n",
        "\n",
        "-  O teste t é comumente utilizado em situações onde estamos interessados em comparar a média de uma amostra com uma média populacional conhecida ou para comparar as médias de duas amostras independentes.\n",
        "\n",
        "-  Quando o tamanho da amostra é pequeno (geralmente menos de 30) e a distribuição das pontuações é aproximadamente normal."
      ],
      "metadata": {
        "id": "WAI39D3owOYx"
      }
    },
    {
      "cell_type": "markdown",
      "source": [
        "O passo a passo para calcular o intervalo de confiança utilizando a distribuição t é bastante similar ao da distribuição z.\n",
        "\n",
        "Primeiro, vamos calcular o **erro padrão**:\n",
        "\n",
        "- $E = t_c * s / √n$\n",
        "\n",
        "Onde:\n",
        "\n",
        "E: Erro padrão da média\n",
        "\n",
        "t_c: Valor crítico da distribuição t de Student com n-1 graus de liberdade e nível de confiança 1-α/2\n",
        "\n",
        "s: Desvio padrão da amostra\n",
        "\n",
        "n: Tamanho da amostra\n",
        "\n",
        "Em seguida, podemos calcular o **intervalo de confiança**:\n",
        "\n",
        "- $IC = X̄ ± t_c * s / √n$\n",
        "\n",
        "Onde:\n",
        "\n",
        "IC: Intervalo de confiança\n",
        "\n",
        "X̄: Média da amostra\n",
        "\n",
        "t_c: Valor crítico da distribuição t de Student com n-1 graus de liberdade e nível de confiança 1-α/2\n",
        "\n",
        "s: Desvio padrão da amostra\n",
        "\n",
        "n: Tamanho da amostra"
      ],
      "metadata": {
        "id": "Z2PbuTMauPGA"
      }
    },
    {
      "cell_type": "markdown",
      "source": [
        "Dito isso, vamos a um exemplo:\n",
        "\n",
        "Você seleciona aleatoriamente 16 cafeterias e mede a temperatura do café vendido em cada uma delas. A temperatura média da amostra é de 162,0°F (Fahrenheit) com desvio padrão de 10,0°F. Construa um intervalo de confiança de 95% para a temperatura média da população de cafés vendidos. Suponha que as temperaturas tenham uma distribuição aproximadamente normal."
      ],
      "metadata": {
        "id": "GQiFDuq6zfVA"
      }
    },
    {
      "cell_type": "markdown",
      "source": [
        "**Resposta**:\n",
        "\n",
        "Temos um desvio padrão populacional desconhecido, uma amostra aleatória e uma distribuição que se aproxima de uma normal. Portanto, podemos utilizar a distribuição t.\n",
        "\n",
        "Agora, vamos calcular o erro padrão."
      ],
      "metadata": {
        "id": "YkdtBMwT2s2P"
      }
    },
    {
      "cell_type": "code",
      "source": [
        "# Funções matématicas\n",
        "from math import sqrt\n",
        "import scipy.stats as st\n",
        "\n",
        "# Calculando o erro padrão\n",
        "erro_padrao = 10 / sqrt(16)"
      ],
      "metadata": {
        "id": "5ll-WA-q32pu"
      },
      "execution_count": 21,
      "outputs": []
    },
    {
      "cell_type": "markdown",
      "source": [
        "Agora que já temos o erro padrão, vamos seguir para o cálculo dos intervalos de confiança."
      ],
      "metadata": {
        "id": "CjzTiv2i5Qzm"
      }
    },
    {
      "cell_type": "code",
      "source": [
        "# Criando o objeto da distribuição\n",
        "distribuicao_t = st.t(df=15, loc=162.0, scale=erro_padrao)\n",
        "\n",
        "# Calculando o intervalo de confiança\n",
        "intervalo_confianca = distribuicao_t.interval(confidence=0.95)\n",
        "\n",
        "# Exibindo o resultado\n",
        "print(f\"Intervalo de confiança: {intervalo_confianca}\")"
      ],
      "metadata": {
        "colab": {
          "base_uri": "https://localhost:8080/"
        },
        "id": "uAAJka4f4TeP",
        "outputId": "9706b191-77ea-49e7-8fd7-47d4cbdea630"
      },
      "execution_count": 22,
      "outputs": [
        {
          "output_type": "stream",
          "name": "stdout",
          "text": [
            "Intervalo de confiança: (156.67137613610169, 167.32862386389831)\n"
          ]
        }
      ]
    },
    {
      "cell_type": "markdown",
      "source": [
        "Dessa forma, podemos afirmar que temos 95% de confiança de que a temperatura média dos cafés vendidos está entre 156,67°F e 167,32°F."
      ],
      "metadata": {
        "id": "F_nrN-Cu5X-W"
      }
    },
    {
      "cell_type": "markdown",
      "source": [
        "### Teste de hipóteses para médias quando o **desvio-padrão populacional é conhecido**"
      ],
      "metadata": {
        "id": "3Lz56hfzI97D"
      }
    },
    {
      "cell_type": "markdown",
      "source": [
        "Quando temos um desvio-padrão populacional conhecido, padronizamos\n",
        "nossa média com o teste z utilizando a seguinte formula:\n",
        "\n",
        "- $Z = (X̄ - μ) / (σ / √n)$\n",
        "\n",
        "Onde:\n",
        "\n",
        "Z: Valor do teste Z\n",
        "\n",
        "X̄: Média da amostra\n",
        "\n",
        "μ: Média da população (hipótese)\n",
        "\n",
        "σ: Desvio padrão da população (conhecido)\n",
        "\n",
        "n: Tamanho da amostra"
      ],
      "metadata": {
        "id": "Buzg5HqaJP0a"
      }
    },
    {
      "cell_type": "markdown",
      "source": [
        "Utilizando essa formula obteremos o z-calculado a partir dai temos duas opções:\n",
        "\n",
        "- Podemos comparar o z calculado com o z critico, caso o z critico seja maior que o z calculado nos teremos evidencias suficientes para concordar com  a hipotese alternativa. (Existem sites que calculam o nosso z critico, basta passarmos o tipo do teste unicaudal e o nivel de significancia)\n",
        "\n",
        "- Podemos calcular o p-valor e comparar com o nosso alpha.\n",
        "  - Se o valor p for menor que $α$, rejeitamos a hipótese nula.\n",
        "  - Se o valor p for maior ou igual a $α$, falhamos em rejeitar a hipótese nula.\n",
        "\n",
        "Vamos observar o seguinte exemplo"
      ],
      "metadata": {
        "id": "mosU-T1LKCM7"
      }
    },
    {
      "cell_type": "markdown",
      "source": [
        "**Exemplo**: Em corrida de carros, o pit stop é o local em que um veículo vai\n",
        "para trocar pneus, abastecer, efetuar reparos e outros ajustes mecânicos. A\n",
        "eficiência de uma equipe que realiza esses ajustes pode afetar o resultado de\n",
        "uma corrida. Uma equipe afirma que seu tempo médio no pit stop (para 4\n",
        "trocas de pneus e abastecimento) é menor que 13 segundos. Uma amostra\n",
        "aleatória de 32 tempos de pit stop tem uma média de 12,9 segundos.\n",
        "Suponha que o desvio padrão populacional é de 0,19 segundos. Há\n",
        "evidência suficiente para concordar com a afirmação para 99% de confiança?"
      ],
      "metadata": {
        "id": "TWvd5SaoQqxc"
      }
    },
    {
      "cell_type": "markdown",
      "source": [
        "**Resposta**: Vamos começar especificando as hipóteses:\n",
        "\n",
        "H0: pit stop ≥ 13 segundos\n",
        "\n",
        "Ha: pit stop < 13 segundos\n",
        "\n",
        "É importante notar que a hipótese alternativa geralmente expressa o efeito que estamos tentando detectar, enquanto a hipótese nula é a posição inicial ou o status quo que estamos tentando testar.\n",
        "\n",
        "Levando em consideração que sabemos o desvio da população e temos uma amostra normalmente distribuída, já que temos 32 elementos (seguindo o teorema do limite central, essa distribuição vai estar bem próxima de uma normal, já que possui mais que 30 elementos). Dessa forma, podemos utilizar o teste Z."
      ],
      "metadata": {
        "id": "hQBydfwBQtjD"
      }
    },
    {
      "cell_type": "markdown",
      "source": [
        "Para nos auxiliar na realização dos cálculos, vamos realizar algumas importações."
      ],
      "metadata": {
        "id": "xQZbhQO3VMR0"
      }
    },
    {
      "cell_type": "code",
      "source": [
        "# Importando funcionalidades relacionadas à distribuição normal.\n",
        "from scipy.stats import norm\n",
        "\n",
        "# Funções matématicas\n",
        "import numpy as np"
      ],
      "metadata": {
        "id": "tUlUJ7GfVjpk"
      },
      "execution_count": 23,
      "outputs": []
    },
    {
      "cell_type": "markdown",
      "source": [
        "Agora podemos seguir para o cálculo do nosso Z calculado."
      ],
      "metadata": {
        "id": "NtmAmpZ3VjyU"
      }
    },
    {
      "cell_type": "code",
      "source": [
        "# Definindo a média da amostra\n",
        "media_amostra = 12.9\n",
        "\n",
        "# Definindo a média populacional\n",
        "media_populacional = 13\n",
        "\n",
        "# Definindo o desvio padrão populacional\n",
        "desvio_padrao_populacional = 0.19\n",
        "\n",
        "# Definindo o tamanho da amostra\n",
        "tamanho_amostra = 32\n",
        "\n",
        "# Calculando o z-score\n",
        "z_score = (media_amostra - media_populacional) / (desvio_padrao_populacional / (np.sqrt(tamanho_amostra)))\n",
        "\n",
        "# Exibindo o z_score\n",
        "print(z_score)"
      ],
      "metadata": {
        "colab": {
          "base_uri": "https://localhost:8080/"
        },
        "id": "nffWSBnnMeF0",
        "outputId": "98c63b27-4b7e-4833-dfb9-45888d4d900c"
      },
      "execution_count": 24,
      "outputs": [
        {
          "output_type": "stream",
          "name": "stdout",
          "text": [
            "-2.977291710259137\n"
          ]
        }
      ]
    },
    {
      "cell_type": "markdown",
      "source": [
        "Agora que temos o valor de Z, vamos seguir para o cálculo do p-valor."
      ],
      "metadata": {
        "id": "NuII19P_WDrU"
      }
    },
    {
      "cell_type": "code",
      "source": [
        "# Calculando o valor p\n",
        "valor_p = norm.cdf(z_score)\n",
        "\n",
        "# Definindo o alpha\n",
        "alpha = 0.01\n",
        "\n",
        "# Conclusões\n",
        "if valor_p < alpha:\n",
        "    print(\"Rejeitar H0: Há evidência suficiente para concluir que a média do tempo de pit stop é inferior a 13 segundos com 99% de confiança.\")\n",
        "else:\n",
        "    print(\"Falha em rejeitar H0: Não há evidência suficiente para concluir que a média do tempo de pit stop é inferior a 13 segundos com 99% de confiança.\")\n",
        "\n",
        "# Exibindo o p_valor\n",
        "print(f\"\\nO p-valor: {valor_p}\")"
      ],
      "metadata": {
        "colab": {
          "base_uri": "https://localhost:8080/"
        },
        "id": "eSLNE4yoV3Qc",
        "outputId": "deff9d21-23c1-4d2d-9041-d2da7e224215"
      },
      "execution_count": 25,
      "outputs": [
        {
          "output_type": "stream",
          "name": "stdout",
          "text": [
            "Rejeitar H0: Há evidência suficiente para concluir que a média do tempo de pit stop é inferior a 13 segundos com 99% de confiança.\n",
            "\n",
            "O p-valor: 0.0014540358484991462\n"
          ]
        }
      ]
    },
    {
      "cell_type": "markdown",
      "source": [
        "Como podemos observar, a hipótese nula foi rejeitada pois o p-valor foi menor que o alfa. Dessa forma, podemos afirmar com 99% de confiança que temos evidências suficientes para concluir que o tempo médio de pitstop é superior a 13 segundos."
      ],
      "metadata": {
        "id": "EbMfJ-3NjP96"
      }
    },
    {
      "cell_type": "markdown",
      "source": [
        "### Teste de hipóteses para médias quando o **desvio-padrão populacional é desconhecido**"
      ],
      "metadata": {
        "id": "iOgC6idYkAda"
      }
    },
    {
      "cell_type": "markdown",
      "source": [
        "O teste de hipótese para a média quando o desvio padrão populacional é desconhecido é comumente realizado utilizando o teste t de Student. Aqui está a fórmula para calcular o valor do teste t:\n",
        "\n",
        "$ t = \\frac{{\\bar{x} - \\mu}}{{s/\\sqrt{n}}} $\n",
        "\n",
        "Onde:\n",
        "- $( \\bar{x} )$ é a média da amostra,\n",
        "- $( \\mu )$ é a média da população (valor sob a hipótese nula),\n",
        "- $( s )$ é o desvio padrão da amostra\n",
        "- $( n )$ é o tamanho da amostra.\n"
      ],
      "metadata": {
        "id": "lDFMsEnrkWTC"
      }
    },
    {
      "cell_type": "markdown",
      "source": [
        "**Exemplo**: Uma indústria afirma que o nível médio do pH da água em um rio\n",
        "próximo é de 6,8. Você seleciona aleatoriamente 39 amostras de água e mede\n",
        "o pH de cada uma. A média amostral e o desvio padrão são de 6,7 e 0,35,\n",
        "respectivamente. Há evidência suficiente para rejeitar a afirmação da\n",
        "indústria considerando nível de significância α = 0,05?"
      ],
      "metadata": {
        "id": "3mtlIXomlx2K"
      }
    },
    {
      "cell_type": "markdown",
      "source": [
        "Aqui, temos mais de 30 elementos, então a nossa distribuição se aproximará de uma normal. Queremos saber se existe diferença entre as médias e conhecemos apenas o desvio padrão populacional. Dito isso, vamos identificar as hipóteses:\n",
        "\n",
        "H0: pH médio = 6,8\n",
        "\n",
        "Ha: pH médio ≠ 6,8\n",
        "\n",
        "Este teste é bicaudal.\n",
        "\n",
        "Levando em consideração que nossa amostra é maior que 30, vamos utilizar o teste T.\n",
        "\n",
        "Vamos importar a biblioteca necessária para a realização do teste e partir para o cálculo."
      ],
      "metadata": {
        "id": "WBegddmMm49D"
      }
    },
    {
      "cell_type": "code",
      "source": [
        "# Importando a função t\n",
        "from scipy.stats import t"
      ],
      "metadata": {
        "id": "40DI7bxCpCHM"
      },
      "execution_count": 26,
      "outputs": []
    },
    {
      "cell_type": "markdown",
      "source": [
        "Agora vamos aplicar a fórmula do teste T."
      ],
      "metadata": {
        "id": "1ReuTdZ_pIGz"
      }
    },
    {
      "cell_type": "code",
      "source": [
        "# Definindo os valores\n",
        "media_amostral = 6.7\n",
        "media_populacional = 6.8\n",
        "desvio_padrao_amostral = 0.35\n",
        "tamanho_amostra = 39\n",
        "nivel_significancia = 0.05\n",
        "\n",
        "# Graus de liberdade\n",
        "graus_liberdade = tamanho_amostra - 1\n",
        "\n",
        "# Calculando o valor do teste t\n",
        "t_score = (media_amostral - media_populacional) / (desvio_padrao_amostral / (tamanho_amostra ** 0.5))\n",
        "\n",
        "# Exibindo o valor de t_score\n",
        "print(t_score)"
      ],
      "metadata": {
        "id": "ZKXLPQoxOtTN",
        "colab": {
          "base_uri": "https://localhost:8080/"
        },
        "outputId": "b391b608-f3f1-454a-b2a5-578ca41a0b0e"
      },
      "execution_count": 27,
      "outputs": [
        {
          "output_type": "stream",
          "name": "stdout",
          "text": [
            "-1.7842851423995363\n"
          ]
        }
      ]
    },
    {
      "cell_type": "markdown",
      "source": [
        "Agora que temos o valor de t, vamos calcular o p-valor. É importante frisar que, por se tratar de um teste bicaudal, devemos multiplicar por 2 o valor encontrado na fórmula para considerarmos as duas caudas. Se fosse um teste unicaudal, essa multiplicação não seria necessária."
      ],
      "metadata": {
        "id": "IcqNz7tUrSJ7"
      }
    },
    {
      "cell_type": "code",
      "source": [
        "# Calculando o valor p\n",
        "valor_p = 2 * (1 - t.cdf(abs(t_score), graus_liberdade))\n",
        "\n",
        "# Comparando com o nível de significância\n",
        "if valor_p < nivel_significancia:\n",
        "    print(\"Rejeitar H0: Há evidência suficiente para rejeitar a afirmação da indústria.\")\n",
        "else:\n",
        "    print(\"Falha em rejeitar H0: Não há evidência suficiente para rejeitar a afirmação da indústria.\")\n",
        "\n",
        "# Exibindo o p-valor\n",
        "print(f\"\\nO valor p é: {valor_p}\")"
      ],
      "metadata": {
        "colab": {
          "base_uri": "https://localhost:8080/"
        },
        "id": "uXbfjG7arHyk",
        "outputId": "d2065cac-cfc9-42cf-8a01-57945b86e59f"
      },
      "execution_count": 28,
      "outputs": [
        {
          "output_type": "stream",
          "name": "stdout",
          "text": [
            "Falha em rejeitar H0: Não há evidência suficiente para rejeitar a afirmação da indústria.\n",
            "\n",
            "O valor p é: 0.08236385181341821\n"
          ]
        }
      ]
    },
    {
      "cell_type": "markdown",
      "source": [
        "Dados os resultados do teste de hipóteses com um nível de significância de 0,05, falhamos em rejeitar a hipótese nula de que a média de pH da água é igual a 6,8. Portanto, não há evidências suficientes para afirmar que a média de pH da água difere de 6,8."
      ],
      "metadata": {
        "id": "W_y5otRNtgE3"
      }
    },
    {
      "cell_type": "markdown",
      "source": [
        "### **Exercicios Testes de hipóteses (1 amostra)**"
      ],
      "metadata": {
        "id": "aSeaeL_IF68x"
      }
    },
    {
      "cell_type": "markdown",
      "source": [
        "Aqui vamos responder alguns exercícios com o intuito de maximizar o entendimento no assunto."
      ],
      "metadata": {
        "id": "mxSvP9fXGBHz"
      }
    },
    {
      "cell_type": "markdown",
      "source": [
        "#### **1º Questão**"
      ],
      "metadata": {
        "id": "cnyUdl0oGqhS"
      }
    },
    {
      "cell_type": "markdown",
      "source": [
        "Suponha que você tenha uma amostra de altura de 50 pessoas de uma determinada população e queira testar se a altura média dessa população é maior que 170 cm. A média da sua amostra é 172 cm, com um desvio padrão populacional de 5 cm. Use um nível de significância de 0,05."
      ],
      "metadata": {
        "id": "NB0oD8nVGou4"
      }
    },
    {
      "cell_type": "markdown",
      "source": [
        "**Resposta**: Levando em consideração que temos uma amostra com mais de 30 elementos, possuindo uma distribuição que provavelmente se aproxima de uma normal, e conhecemos o desvio padrão populacional, podemos utilizar o teste Z. Dito isso, vamos determinar quais são as hipóteses:\n",
        "\n",
        "H0: altura média ≤ 170\n",
        "\n",
        "Ha: altura média > 170\n",
        "\n",
        "Nosso teste é unicaudal à direita.\n",
        "\n",
        "Com as hipóteses definidas, podemos seguir adiante com a importação de alguns pacotes."
      ],
      "metadata": {
        "id": "sbRTqmK7HBOC"
      }
    },
    {
      "cell_type": "code",
      "source": [
        "# Importando funcionalidades relacionadas à distribuição normal.\n",
        "from scipy.stats import norm\n",
        "\n",
        "# Funções matématicas\n",
        "import numpy as np"
      ],
      "metadata": {
        "id": "7oHUn6_kIA2y"
      },
      "execution_count": 29,
      "outputs": []
    },
    {
      "cell_type": "markdown",
      "source": [
        "Agora vamos aplicar a fórmula do z calculado."
      ],
      "metadata": {
        "id": "DuP4m5sEIJYK"
      }
    },
    {
      "cell_type": "code",
      "source": [
        "# Definindo a média da amostra\n",
        "media_amostra = 172\n",
        "\n",
        "# Definindo a média populacional\n",
        "media_populacional = 170\n",
        "\n",
        "# Definindo o desvio padrão populacional\n",
        "desvio_padrao_populacional = 5\n",
        "\n",
        "# Definindo o tamanho da amostra\n",
        "tamanho_amostra = 50\n",
        "\n",
        "# Calculando o z-score\n",
        "z_score = (media_amostra - media_populacional) / (desvio_padrao_populacional / (np.sqrt(tamanho_amostra)))\n",
        "\n",
        "# Exibindo o z_score\n",
        "print(z_score)"
      ],
      "metadata": {
        "colab": {
          "base_uri": "https://localhost:8080/"
        },
        "id": "yODRnZ_gINEZ",
        "outputId": "3aa38b98-e9a0-4fda-e93c-81fe85b03ff8"
      },
      "execution_count": 30,
      "outputs": [
        {
          "output_type": "stream",
          "name": "stdout",
          "text": [
            "2.8284271247461903\n"
          ]
        }
      ]
    },
    {
      "cell_type": "markdown",
      "source": [
        "Agora que temos o valor de Z, vamos seguir para o cálculo do p-valor."
      ],
      "metadata": {
        "id": "QgEsU37XIbSh"
      }
    },
    {
      "cell_type": "code",
      "source": [
        "# Calculando o valor-p\n",
        "valor_p = 1 - norm.cdf(z_score)\n",
        "\n",
        "# Definindo o alpha\n",
        "alpha = 0.05\n",
        "\n",
        "# Conclusões\n",
        "if valor_p < alpha:\n",
        "    print(\"Rejeitar H0: A altura média da população é maior que 170 cm.\")\n",
        "else:\n",
        "    print(\"Falha em rejeitar H0: A altura média da população não é maior que 170 cm.\")\n",
        "\n",
        "# Exibindo o p_valor\n",
        "print(f\"\\nO p-valor: {valor_p}\")"
      ],
      "metadata": {
        "colab": {
          "base_uri": "https://localhost:8080/"
        },
        "id": "Y-WUqGw4IvUi",
        "outputId": "1fa17309-1ec4-4b3a-bf65-40409abeea72"
      },
      "execution_count": 31,
      "outputs": [
        {
          "output_type": "stream",
          "name": "stdout",
          "text": [
            "Rejeitar H0: A altura média da população é maior que 170 cm.\n",
            "\n",
            "O p-valor: 0.0023388674905235884\n"
          ]
        }
      ]
    },
    {
      "cell_type": "markdown",
      "source": [
        "Dados os resultados do teste de hipóteses com um nível de significância de 0,05, rejeitamos a hipótese nula e concluímos que há evidências suficientes para afirmar que a altura média da população é maior que 170 cm."
      ],
      "metadata": {
        "id": "BpSIG98rSLCb"
      }
    },
    {
      "cell_type": "markdown",
      "source": [
        "#### **2º Questão**"
      ],
      "metadata": {
        "id": "FXDb4Ed3KGva"
      }
    },
    {
      "cell_type": "markdown",
      "source": [
        "Suponha que você trabalhe em uma fábrica de lâmpadas e deseje testar se a vida média de uma nova linha de lâmpadas LED é superior a 1000 horas. Você testa uma amostra de 40 lâmpadas e encontra que a vida média é de 1025 horas, com um desvio padrão amostral de 50 horas. Use um nível de significância de 0,05."
      ],
      "metadata": {
        "id": "z34NT7vRKJNj"
      }
    },
    {
      "cell_type": "markdown",
      "source": [
        "Dessa vez, temos o desvio padrão da amostra conhecido e o desvio populacional desconhecido. Também temos 40 elementos, então será interessante aplicarmos o teste t. Vamos formular as hipóteses:\n",
        "\n",
        "H0: Vida média da lâmpada de LED ≤ 1000\n",
        "\n",
        "Ha: Vida média da lâmpada de LED > 1000\n",
        "\n",
        "Estamos diante de um teste unicaudal à direita.\n",
        "\n",
        "Vamos seguir adiante para a importação das funções necessárias."
      ],
      "metadata": {
        "id": "4NJUPkEoKKdi"
      }
    },
    {
      "cell_type": "code",
      "source": [
        "# Importando funcionalidades relacionadas à distribuição normal.\n",
        "from scipy.stats import norm\n",
        "\n",
        "# Funções matématicas\n",
        "import numpy as np"
      ],
      "metadata": {
        "id": "rSpLxO_qLbAr"
      },
      "execution_count": 32,
      "outputs": []
    },
    {
      "cell_type": "markdown",
      "source": [
        "Agora vamos aplicar a fórmula."
      ],
      "metadata": {
        "id": "UTjsQzs0LbT6"
      }
    },
    {
      "cell_type": "code",
      "source": [
        "# Definindo a média da amostra\n",
        "media_amostra = 1025\n",
        "\n",
        "# Definindo a média populacional\n",
        "media_populacional = 1000\n",
        "\n",
        "# Definindo o desvio padrão populacional\n",
        "desvio_padrao_populacional = 50\n",
        "\n",
        "# Definindo o tamanho da amostra\n",
        "tamanho_amostra = 40\n",
        "\n",
        "# Calculando o z-score\n",
        "z_score = (media_amostra - media_populacional) / (desvio_padrao_populacional / (np.sqrt(tamanho_amostra)))\n",
        "\n",
        "# Exibindo o z_score\n",
        "print(z_score)"
      ],
      "metadata": {
        "colab": {
          "base_uri": "https://localhost:8080/"
        },
        "id": "Yd8uEcRWLedh",
        "outputId": "c99bea6c-774b-4cb7-fc1c-086cd4cc1f6a"
      },
      "execution_count": 33,
      "outputs": [
        {
          "output_type": "stream",
          "name": "stdout",
          "text": [
            "3.1622776601683795\n"
          ]
        }
      ]
    },
    {
      "cell_type": "markdown",
      "source": [
        "Agora que temos o valor de Z, vamos seguir para o cálculo do p-valor."
      ],
      "metadata": {
        "id": "3JZaUf6olk_p"
      }
    },
    {
      "cell_type": "code",
      "source": [
        "# Calculando o valor-p\n",
        "valor_p = 1 - norm.cdf(z_score)\n",
        "\n",
        "# Definindo o alpha\n",
        "alpha = 0.05\n",
        "\n",
        "# Conclusões\n",
        "if valor_p < alpha:\n",
        "    print(\"Rejeitar H0: A lâmpada possui mais de 1000 horas.\")\n",
        "else:\n",
        "    print(\"Falha em rejeitar H0: A lâmpada possui menos de 1000 horas.\")\n",
        "\n",
        "# Exibindo o p_valor\n",
        "print(f\"\\nO p-valor: {valor_p}\")"
      ],
      "metadata": {
        "colab": {
          "base_uri": "https://localhost:8080/"
        },
        "id": "y22e2VGRlmaA",
        "outputId": "f8d7bd0e-016c-49aa-f0c6-0583a931d05c"
      },
      "execution_count": 34,
      "outputs": [
        {
          "output_type": "stream",
          "name": "stdout",
          "text": [
            "Rejeitar H0: A lâmpada possui mais de 1000 horas.\n",
            "\n",
            "O p-valor: 0.0007827011290012509\n"
          ]
        }
      ]
    },
    {
      "cell_type": "markdown",
      "source": [
        "Dados os resultados do teste de hipóteses com um nível de significância de 0,05, rejeitamos a hipótese nula de que a vida média da lâmpada de LED é igual ou menor que 1000 horas. Portanto, há evidências suficientes para afirmar que a vida média da lâmpada de LED é maior que 1000 horas."
      ],
      "metadata": {
        "id": "8xJNTYDQmAC5"
      }
    },
    {
      "cell_type": "markdown",
      "source": [
        "#### **3º Questão**"
      ],
      "metadata": {
        "id": "NeLVAHCpCehp"
      }
    },
    {
      "cell_type": "markdown",
      "source": [
        "Um nutricionista acredita que o teor médio de açúcar em uma determinada marca de cereal é inferior a 8 gramas por porção. Com uma amostra de 30 pacotes de cereal, ele obteve uma média de 7,5 gramas de açúcar. Realize um teste de hipótese com nível de significância de 5% para verificar se a afirmação do nutricionista é válida. Use o desvio padrão amostrao de 0.03g."
      ],
      "metadata": {
        "id": "GSWFF3ssCfw4"
      }
    },
    {
      "cell_type": "markdown",
      "source": [
        "Resposta: Aqui nós temos 30 elementos, então a distribuição pode se aproximar de uma normal e temos o desvio padrão da amostra, logo podemos aplicar o teste t. Então vamos começar definindo as hipóteses:\n",
        "\n",
        "H0: Teor médio de açúcar ≥ 8\n",
        "\n",
        "Ha: Teor médio de açúcar < 8\n",
        "\n",
        "Aqui temos uma distribuição unilateral à esquerda.\n",
        "\n",
        "Para realizar esse teste, vamos importar algumas bibliotecas necessárias."
      ],
      "metadata": {
        "id": "u9cGBmfFCjNI"
      }
    },
    {
      "cell_type": "code",
      "source": [
        "# Importando a função t\n",
        "from scipy.stats import t\n",
        "\n",
        "# Funções matématicas\n",
        "import numpy as np"
      ],
      "metadata": {
        "id": "faBywrWwElmz"
      },
      "execution_count": 35,
      "outputs": []
    },
    {
      "cell_type": "markdown",
      "source": [
        "Agora podemos partir para o cálculo do teste t."
      ],
      "metadata": {
        "id": "TpvmMFRyEzda"
      }
    },
    {
      "cell_type": "code",
      "source": [
        "# Definindo os valores\n",
        "media_amostral = 7.5\n",
        "media_populacional = 8\n",
        "desvio_padrao_amostral = 0.03\n",
        "tamanho_amostra = 30\n",
        "\n",
        "# Alpha\n",
        "nivel_significancia = 0.05\n",
        "\n",
        "# Graus de liberdade\n",
        "graus_liberdade = tamanho_amostra - 1\n",
        "\n",
        "# Calculando o valor do teste t\n",
        "t_score = (media_amostral - media_populacional) / (desvio_padrao_amostral / (np.sqrt(tamanho_amostra)))\n",
        "\n",
        "# Exibindo o valor de t_score\n",
        "print(t_score)"
      ],
      "metadata": {
        "colab": {
          "base_uri": "https://localhost:8080/"
        },
        "id": "1e4cYNlTEwr6",
        "outputId": "f2d00d81-11ac-4ac3-9d2c-7bfaa20b64fe"
      },
      "execution_count": 36,
      "outputs": [
        {
          "output_type": "stream",
          "name": "stdout",
          "text": [
            "-91.28709291752769\n"
          ]
        }
      ]
    },
    {
      "cell_type": "markdown",
      "source": [
        "Agora vamos calcular o nosso p-valor."
      ],
      "metadata": {
        "id": "hMpAYL45H5vi"
      }
    },
    {
      "cell_type": "code",
      "source": [
        "# Calculando o p-valor (usando a distribuição t de Student)\n",
        "p_valor = t.cdf(t_score, df= graus_liberdade)\n",
        "\n",
        "# Exibindo o p_valor\n",
        "p_valor"
      ],
      "metadata": {
        "colab": {
          "base_uri": "https://localhost:8080/"
        },
        "id": "9E8LhbvAIR5i",
        "outputId": "4141a19f-11a1-4c63-8961-0c04cce20ce3"
      },
      "execution_count": 37,
      "outputs": [
        {
          "output_type": "execute_result",
          "data": {
            "text/plain": [
              "1.5765076797027478e-37"
            ]
          },
          "metadata": {},
          "execution_count": 37
        }
      ]
    },
    {
      "cell_type": "markdown",
      "source": [
        "Agora que temos o p-valor, vamos tirar as conclusões."
      ],
      "metadata": {
        "id": "g2wFpPYEJf67"
      }
    },
    {
      "cell_type": "code",
      "source": [
        "# Conclusões\n",
        "if p_valor < alpha:\n",
        "  print(\"Rejeitar H0: Existem evidências para acreditarmos que o teor médio do açúcar é inferior a 8 gramas.\")\n",
        "else:\n",
        "  print(\"Falha em rejeitar H0: Não existem evidências para acreditarmos que o teor médio do açúcar é inferior a 8 gramas.\")"
      ],
      "metadata": {
        "colab": {
          "base_uri": "https://localhost:8080/"
        },
        "id": "4eow8WybJhtL",
        "outputId": "b0b1a511-e23b-4815-b0e5-961487a7c469"
      },
      "execution_count": 38,
      "outputs": [
        {
          "output_type": "stream",
          "name": "stdout",
          "text": [
            "Rejeitar H0: Existem evidências para acreditarmos que o teor médio do açúcar é inferior a 8 gramas.\n"
          ]
        }
      ]
    },
    {
      "cell_type": "markdown",
      "source": [
        "Após realizar o nosso teste a um nível de significância de 0,05, rejeitamos a hipótese nula. Logo, podemos concluir que existem evidências para que o teor médio de açúcar realmente seja inferior a 8 gramas."
      ],
      "metadata": {
        "id": "RFOmLlYeLhkD"
      }
    },
    {
      "cell_type": "markdown",
      "source": [
        "### **Como escolher um teste**"
      ],
      "metadata": {
        "id": "qvuLXi_ERMUr"
      }
    },
    {
      "cell_type": "markdown",
      "source": [
        "Relembrando quais são os requisitos para escolher entre usar o teste Z ou o teste t, depende das características dos dados e do que se conhece sobre a população.\n",
        "\n",
        "**Teste Z**:\n",
        "\n",
        "Use o teste Z quando:\n",
        "\n",
        "- O desvio padrão populacional é conhecido.\n",
        "\n",
        "- O tamanho da amostra é grande (geralmente acima de 30).\n",
        "\n",
        "**Teste t de Student**:\n",
        "\n",
        "Use o teste t de Student quando:\n",
        "\n",
        "- O desvio padrão populacional é desconhecido.\n",
        "\n",
        "- O tamanho da amostra é pequeno (geralmente abaixo de 30) ou desconhecido.\n",
        "\n",
        "- Intervalos de confiança para a média com amostras pequenas ou quando o desvio padrão populacional é desconhecido.\n",
        "\n",
        "Em resumo, se você conhece o desvio padrão populacional e está lidando com uma amostra grande, geralmente é seguro usar a teste Z. No entanto, se o desvio padrão populacional não for conhecido ou se estiver lidando com uma amostra pequena, é mais apropriado usar a teste t de Student."
      ],
      "metadata": {
        "id": "NJohy_rtROur"
      }
    },
    {
      "cell_type": "markdown",
      "source": [
        "## **Testes de Hipóteses para Médias (2 Amostras)**"
      ],
      "metadata": {
        "id": "tMBaLK-XyQbi"
      }
    },
    {
      "cell_type": "markdown",
      "source": [
        "Antes de mais nada precisamos entender alguns conceitos importante para a aplicação desses testes sendo eles:\n",
        "\n",
        "- Amostras dependentes: Quando cada elemento de uma amostra corresponde a um elemento de outra amostra, dessa forma eles ficam meio que 'interligados'\n",
        "\n",
        "Exemplo: Você mede o peso de uma pessoa antes e depois de uma dieta. As medidas antes e depois estão interligadas para cada indivíduo, já que se referem à mesma pessoa.\n",
        "\n",
        "- Amostras independentes: Quando a amostra selecionada de uma população não tem nenhuma relação com a outra amostra selecionada\n",
        "\n",
        "Exemplo: Você compara as alturas de estudantes de duas turmas diferentes. As alturas dos alunos de uma turma não têm relação direta com as alturas dos alunos da outra turma; são conjuntos distintos de indivíduos."
      ],
      "metadata": {
        "id": "FSiN3tGxyocL"
      }
    },
    {
      "cell_type": "markdown",
      "source": [
        "### Desvio-padrão populacional **conhecido e amostras independentes**"
      ],
      "metadata": {
        "id": "AlPmt_bPNvua"
      }
    },
    {
      "cell_type": "markdown",
      "source": [
        "Nesse caso também podemos usar um teste z, a formula é a seguinte:"
      ],
      "metadata": {
        "id": "qOAMjeNH12Ey"
      }
    },
    {
      "cell_type": "markdown",
      "source": [
        "$$\n",
        "Z = \\frac{{(\\bar{X}_1 - \\bar{X}_2) - (\\mu_1 - \\mu_2)}}{{\\sqrt{\\frac{{\\sigma_1^2}}{{n_1}} + \\frac{{\\sigma_2^2}}{{n_2}}}}}\n",
        "$$\n",
        "\n",
        "Onde:\n",
        "- $( \\bar{X}_1 ) e ( \\bar{X}_2 )$ são as médias das duas amostras,\n",
        "- $( \\mu_1 )$ e $( \\mu_2 )$ são as médias populacionais (ou a média hipotética),\n",
        "- $( \\sigma_1 )$ e $( \\sigma_2 )$ são os desvios padrão populacionais das duas amostras,\n",
        "- $( n_1 )$ e $( n_2 )$ são os tamanhos das duas amostras.\n"
      ],
      "metadata": {
        "id": "CIJgBLL41Dyr"
      }
    },
    {
      "cell_type": "markdown",
      "source": [
        "Para aplicarmos esse teste temos que cumprir os seguintes requisitos:\n",
        "\n",
        "- Os desvios padrão populacionais são conhecidos.\n",
        "- As amostras são selecionadas aleatoriamente.\n",
        "- As amostras são independentes.\n",
        "- As populações são normalmente distribuídas ou cada tamanho de amostra\n",
        "é de pelo menos 30 elementos."
      ],
      "metadata": {
        "id": "HeA-daki2Ixy"
      }
    },
    {
      "cell_type": "markdown",
      "source": [
        "Vamos observar um exemplo para entendermos melhor o assunto:\n",
        "\n",
        "Um estudo foi realizado para comparar o desempenho médio de duas turmas em um teste de matemática. Uma amostra de 40 alunos da Turma A teve um desempenho médio de 75, com um desvio padrão populacional de 10. Uma amostra de 35 alunos da Turma B teve um desempenho médio de 70, com um desvio padrão populacional de 12. Com um nível de significância de 0,05, teste se há uma diferença significativa no desempenho médio entre as duas turmas."
      ],
      "metadata": {
        "id": "9ZyrAfvT4H5z"
      }
    },
    {
      "cell_type": "markdown",
      "source": [
        "Vamos iniciar definindo nossas hipóteses:\n",
        "\n",
        "H0: média do grupo A = média do grupo B\n",
        "\n",
        "Ha: média do grupo A ≠ média do grupo B\n",
        "\n",
        "Este é um teste bicaudal.\n",
        "\n",
        "Vamos prosseguir para o cálculo"
      ],
      "metadata": {
        "id": "BQwm3zAx4XWD"
      }
    },
    {
      "cell_type": "code",
      "source": [
        "# Importar a biblioteca numpy\n",
        "import numpy as np\n",
        "\n",
        "# Importar a função norm\n",
        "from scipy.stats import norm\n",
        "\n",
        "# Médias amostrais\n",
        "media_a = 75\n",
        "media_b = 70\n",
        "\n",
        "# Desvio padrão populacional\n",
        "desvio_a = 10\n",
        "desvio_b = 12\n",
        "\n",
        "# Tamanho da amostra\n",
        "amostra_a = 40\n",
        "amostra_b = 35\n",
        "\n",
        "# Nível de significância\n",
        "alpha = 0.05"
      ],
      "metadata": {
        "id": "sqHYS_bx5Enj"
      },
      "execution_count": 39,
      "outputs": []
    },
    {
      "cell_type": "markdown",
      "source": [
        "Agora que já separamos todos os dados, vamos substituir na fórmula de Z, já que cumprimos todos os requisitos necessários para a implementação do mesmo."
      ],
      "metadata": {
        "id": "qRRefBPW57V7"
      }
    },
    {
      "cell_type": "code",
      "source": [
        "# Calculando o Z\n",
        "z = (media_a - media_b) / np.sqrt((desvio_a**2/amostra_a) + (desvio_b**2/amostra_b))\n",
        "\n",
        "# Exibindo o valor de z\n",
        "print(z)"
      ],
      "metadata": {
        "id": "6YEfHBHX6EyU",
        "colab": {
          "base_uri": "https://localhost:8080/"
        },
        "outputId": "e22137fb-a3e5-4f3e-8583-7acb5925113f"
      },
      "execution_count": 40,
      "outputs": [
        {
          "output_type": "stream",
          "name": "stdout",
          "text": [
            "1.9441444452997994\n"
          ]
        }
      ]
    },
    {
      "cell_type": "markdown",
      "source": [
        "Agora que temos o valor de Z, vamos seguir para o cálculo do p-valor."
      ],
      "metadata": {
        "id": "sF2SBaBpLFNz"
      }
    },
    {
      "cell_type": "code",
      "source": [
        "# Calcular o valor p para um teste bicaudal\n",
        "p_valor= 2 * (1 - norm.cdf(abs(z)))\n",
        "\n",
        "# Conclusões\n",
        "if p_valor < alpha:\n",
        "    print(\"Rejeitar H0: Há evidências de que existe diferença de desemepenho.\")\n",
        "else:\n",
        "    print(\"Falha em rejeitar H0: Não há evidências de que existe diferença de desempenho.\")\n",
        "\n",
        "# Exibindo o p_valor\n",
        "print(f\"\\nO p-valor: {p_valor}\")"
      ],
      "metadata": {
        "colab": {
          "base_uri": "https://localhost:8080/"
        },
        "id": "mS4rni8bII9s",
        "outputId": "7af99774-1142-4929-daae-f69b6d6cba87"
      },
      "execution_count": 41,
      "outputs": [
        {
          "output_type": "stream",
          "name": "stdout",
          "text": [
            "Falha em rejeitar H0: Não há evidências de que existe diferença de desempenho.\n",
            "\n",
            "O p-valor: 0.051878034893831915\n"
          ]
        }
      ]
    },
    {
      "cell_type": "markdown",
      "source": [
        "Dados os resultados do teste de hipótese a um nível de significância de 0,05, não podemos rejeitar a hipótese nula. Portanto, não há evidências suficientes para afirmar que o desempenho das duas turmas são diferentes."
      ],
      "metadata": {
        "id": "yIsaMKwaJ10l"
      }
    },
    {
      "cell_type": "markdown",
      "source": [
        "### Desvio-padrão populacional **desconhecido e amostras independentes**"
      ],
      "metadata": {
        "id": "lORbBPr_NOHT"
      }
    },
    {
      "cell_type": "markdown",
      "source": [
        "A realização dos cálculos desse teste é um pouco mais complexa do que os outros por conter mais passos para a sua resolução. Hoje em dia existem ferramentas que nos auxiliam nesse cálculo, como por exemplo o seguinte site:\n",
        "\n",
        "- https://select-statistics.co.uk/calculators/two-sample-t-test-calculator/\n",
        "\n",
        "Esse site já nos retornará diretamente o valor p assim que passarmos os dados, como média, desvio padrão e tamanho das duas amostras. Logo, basta pegarmos o valor p que ele vai retornar e comparar com o nosso alfa. Outra solução é utilizar uma função do pacote scipy, que é a função que abordaremos neste momento. Dito isso, vamos seguir adiante."
      ],
      "metadata": {
        "id": "7op6SnBcP1Bc"
      }
    },
    {
      "cell_type": "markdown",
      "source": [
        "Para aplicarmos esse teste temos que seguir:\n",
        "\n",
        "- Os desvios padrão populacionais são desconhecidos\n",
        "- As amostras são selecionadas aleatoriamente\n",
        "- As amostras são independentes\n",
        "- As amostras são normalmente distribuídas ou cada tamanho de\n",
        "- amostra é de pelo menos 30"
      ],
      "metadata": {
        "id": "xLed3kC9SD8U"
      }
    },
    {
      "cell_type": "markdown",
      "source": [
        "Vamos observar o seguinte exemplo:\n",
        "\n",
        "Os resultados de um teste estadual de matemática para amostras aleatórias\n",
        "de estudantes ensinados por dois professores diferentes na mesma escola.\n",
        "Podemos concluir que há diferença nas pontuações médias dos testes de\n",
        "matemática para todos os estudantes dos dois professores? Use confiança de\n",
        "90%. Suponha que as populações são normalmente distribuídas e que as\n",
        "variâncias populacionais não são iguais.\n",
        "\n",
        "**Dados do professor 1**\n",
        "\n",
        "- x1 = 473\n",
        "- s1 = 39.7\n",
        "- n1 = 8\n",
        "\n",
        "**Dados do professor 2**\n",
        "- x2 = 459\n",
        "- s2 = 24.5\n",
        "- n2 = 18\n",
        "\n"
      ],
      "metadata": {
        "id": "JIE6l6WXRN7b"
      }
    },
    {
      "cell_type": "markdown",
      "source": [
        "**Resposta**: Vamos organizar as hipóteses.\n",
        "\n",
        "H0: Média do Professor 1 = Média do Professor 2\n",
        "\n",
        "Ha: Média do Professor ≠ Média do Professor 1\n",
        "\n",
        "Este é um teste bicaudal.\n",
        "\n",
        "Para realização deste cálculo, vamos utilizar uma função do SciPy. Então, vamos realizar a sua importação."
      ],
      "metadata": {
        "id": "9GJu8gGES2d8"
      }
    },
    {
      "cell_type": "code",
      "source": [
        "# importando a função\n",
        "from scipy import stats"
      ],
      "metadata": {
        "id": "VWzCI1QRUfC-"
      },
      "execution_count": 42,
      "outputs": []
    },
    {
      "cell_type": "markdown",
      "source": [
        "Agora vamos realizar o cálculo propriamente dito."
      ],
      "metadata": {
        "id": "dyikxyPyUh_k"
      }
    },
    {
      "cell_type": "code",
      "source": [
        "# Dados do professor 1\n",
        "media_1 = 473\n",
        "desvio_1 = 39.7\n",
        "amostra_1 = 8\n",
        "\n",
        "# Dados do professor 2\n",
        "media_2 = 459\n",
        "desvio_2 = 24.5\n",
        "amostra_2 = 18\n",
        "\n",
        "# Realizando o teste t\n",
        "# O argumento equal_var=False indica que as variâncias populacionais não são assumidas como iguais\n",
        "statistic, p_valor = stats.ttest_ind_from_stats(media_1, desvio_1, amostra_1, media_2, desvio_2, amostra_2, equal_var=False)\n",
        "\n",
        "# Nível de significância\n",
        "alpha = 0.10\n",
        "\n",
        "if p_valor < alpha:\n",
        "    print(\"Rejeitar H0: Há evidências de que há diferença nas pontuações médias dos testes de matemática.\")\n",
        "else:\n",
        "    print(\"Falha em rejeitar H0: Não há evidências suficientes para afirmar que há diferença nas pontuações médias dos testes de matemática.\")\n",
        "\n",
        "# Exibindo o p-valor\n",
        "print(p_valor)"
      ],
      "metadata": {
        "colab": {
          "base_uri": "https://localhost:8080/"
        },
        "id": "5NSXxTZrQ5_0",
        "outputId": "ae55012a-f6ba-41c5-aaf2-339d7d2d96a0"
      },
      "execution_count": 43,
      "outputs": [
        {
          "output_type": "stream",
          "name": "stdout",
          "text": [
            "Falha em rejeitar H0: Não há evidências suficientes para afirmar que há diferença nas pontuações médias dos testes de matemática.\n",
            "0.37924039002820076\n"
          ]
        }
      ]
    },
    {
      "cell_type": "markdown",
      "source": [
        "Dado o nosso teste de hipótese utilizando um nível de confiança de 0,1, falhamos em rejeitar a hipótese nula. Logo, podemos concluir que não há evidências suficientes para afirmar que existe diferença nas médias dos testes."
      ],
      "metadata": {
        "id": "P3kLYtC-WQ0U"
      }
    },
    {
      "cell_type": "markdown",
      "source": [
        "### Desvio-padrão populacional **desconhecido e amostras dependentes**"
      ],
      "metadata": {
        "id": "1bRjSzgNXf1c"
      }
    },
    {
      "cell_type": "markdown",
      "source": [
        "Para a execução desse teste será necessario seguirmos os seguintes passos:\n",
        "\n",
        "Claro! Aqui está o passo a passo para a resolução do teste t pareado, juntamente com as fórmulas, em formato Markdown:\n",
        "\n",
        "Passo 1: Calcular as diferenças entre as observações antes e depois:\n",
        "\n",
        "- $\n",
        "\\text{Diferença} = \\text{Depois} - \\text{Antes}\n",
        "$\n",
        "\n",
        "Passo 2: Calcular a média das diferenças:\n",
        "\n",
        "- $\n",
        "\\bar{D} = \\frac{1}{n} \\sum_{i=1}^{n} D_i\n",
        "$\n",
        "\n",
        "Passo 3: Calcular o desvio padrão das diferenças:\n",
        "\n",
        "- $\n",
        "s_D = \\sqrt{\\frac{\\sum_{i=1}^{n}(D_i - \\bar{D})^2}{n-1}}\n",
        "$\n",
        "\n",
        "Passo 4: Calcular a estatística t:\n",
        "\n",
        "- $\n",
        "t = \\frac{\\bar{D}}{\\frac{s_D}{\\sqrt{n}}}\n",
        "$\n",
        "\n",
        "Passo 5: Calcular o valor p utilizando a distribuição t de Student:\n",
        "\n",
        "- $\n",
        "\\text{Valor p} = 2 \\times (1 - \\text{cdf}(|t|, \\text{graus de liberdade}))\n",
        "$\n",
        "\n",
        "Passo 6: Comparar o valor p com o nível de significância e interpretar o resultado.\n",
        "\n",
        "\n",
        "\n",
        "Condições para aplicar esse teste:\n",
        "\n",
        "- As amostras são selecionadas aleatoriamente.\n",
        "- As amostras são dependentes (emparelhadas)\n",
        "- As populações são normalmente distribuídas ou o número n de pares\n",
        "de dados é pelo menos 30."
      ],
      "metadata": {
        "id": "JGZjYfKPZKKV"
      }
    },
    {
      "cell_type": "markdown",
      "source": [
        "Vamos observar um exemplo para tentarmos entender melhor o assunto:\n",
        "\n",
        "**Exemplo**: Suponha que você tenha os seguintes dados de medidas de pressão arterial antes e depois de um tratamento para cinco pacientes:\n",
        "\n",
        "Antes: [120, 130, 125, 140, 128]\n",
        "\n",
        "Depois: [118, 128, 120, 135, 126]\n",
        "\n",
        "Determinar se houve uma diferença significativa na pressão arterial antes e depois do tratamento utilizando um nível de significância de 0,05."
      ],
      "metadata": {
        "id": "UpkWnZ0fwOlc"
      }
    },
    {
      "cell_type": "markdown",
      "source": [
        "Resposta: Para a resolução desse exercício será necessário a importação de algumas bibliotecas. Dito isso, vamos realizar as importações."
      ],
      "metadata": {
        "id": "wM3GtknvwkBU"
      }
    },
    {
      "cell_type": "code",
      "source": [
        "# Funções matématicas\n",
        "import numpy as np\n",
        "from scipy import stats"
      ],
      "metadata": {
        "id": "Bo8E9m81le0s"
      },
      "execution_count": 44,
      "outputs": []
    },
    {
      "cell_type": "markdown",
      "source": [
        "Agora vamos definir as nossas hipóteses:\n",
        "\n",
        "H0: pressão antes = pressão depois\n",
        "\n",
        "Ha: pressão antes ≠ pressão depois\n",
        "\n",
        "Com as hipóteses definidas, podemos partir para a aplicação das fórmulas.\n",
        "\n",
        "Importante frisarmos que, embora não tenhamos 30 amostras, estamos considerando que a distribuição da população se aproxima de uma normal, as amostras são aleatórias e as variáveis são dependentes. Logo, podemos implementar o teste t pareado."
      ],
      "metadata": {
        "id": "G8kPs8Zqw7RV"
      }
    },
    {
      "cell_type": "code",
      "source": [
        "# Dados da pressão antes e depois do tratamento\n",
        "antes = [120, 130, 125, 140, 128]\n",
        "depois = [118, 128, 120, 135, 126]\n",
        "\n",
        "# Passo 1: Calcular as diferenças entre as observações antes e depois\n",
        "diferencas = np.array(depois) - np.array(antes)\n",
        "\n",
        "# Passo 2: Calcular a média das diferenças\n",
        "media_diferencas = np.mean(diferencas)\n",
        "\n",
        "# Passo 3: Calcular o desvio padrão das diferenças\n",
        "desvio_padrao_diferencas = np.std(diferencas, ddof=1)\n",
        "\n",
        "# Passo 4: Calcular a estatística t\n",
        "t_statistic = media_diferencas / (desvio_padrao_diferencas / np.sqrt(len(antes)))\n",
        "\n",
        "# Passo 5: Calcular o valor p, por se tratar de um teste bicaudal, multiplicamos por 2\n",
        "graus_de_liberdade = len(antes) - 1\n",
        "p_valor = 2 * (1 - stats.t.cdf(abs(t_statistic), graus_de_liberdade))\n",
        "\n",
        "# Definindo o alpha\n",
        "alpha = 0.05\n",
        "\n",
        "# Conclusões\n",
        "if p_valor < alpha:\n",
        "  print(\"Rejeitar H0: Há evidências da diferença entre os exames antes e depois do tratamento.\")\n",
        "else:\n",
        "  print(\"Falha em rejeitar H0: Não existem evidências da diferença entre os exames antes e depois do tratamento.\")\n",
        "\n",
        "# Exibindo o p-valor\n",
        "print(p_valor)"
      ],
      "metadata": {
        "colab": {
          "base_uri": "https://localhost:8080/"
        },
        "id": "ugFx7Km_xzHk",
        "outputId": "1d72b58b-4c4c-4092-853c-830432630ab2"
      },
      "execution_count": 45,
      "outputs": [
        {
          "output_type": "stream",
          "name": "stdout",
          "text": [
            "Rejeitar H0: Há evidências da diferença entre os exames antes e depois do tratamento.\n",
            "0.01211283539994401\n"
          ]
        }
      ]
    },
    {
      "cell_type": "markdown",
      "source": [
        "Com base no resultado do teste utilizando um nível de significância de 0,05, rejeitamos H0. Logo, podemos concluir que há evidências da diferença entre os resultados dos exames antes e depois do tratamento."
      ],
      "metadata": {
        "id": "zWKZdP20xuXN"
      }
    },
    {
      "cell_type": "markdown",
      "source": [
        "## **Teste de Hipótese de Proporção (1 amostra)**"
      ],
      "metadata": {
        "id": "0m50glD68ztn"
      }
    },
    {
      "cell_type": "markdown",
      "source": [
        "**Quando utilizar**: Este teste é utilizado quando queremos comparar uma proporção amostral com uma proporção conhecida ou esperada da população.\n",
        "\n",
        "Hipóteses:\n",
        "\n",
        "- H0: p = p0 (a proporção da população é igual a um valor específico)\n",
        "- Ha: p ≠ p0 (a proporção da população é diferente de um valor específico)\n"
      ],
      "metadata": {
        "id": "iTWXP3Vt85QN"
      }
    },
    {
      "cell_type": "markdown",
      "source": [
        "Estatística do Teste (Z):\n",
        "\n",
        "- $Z = (p̂ - p0) / √(p0(1 - p0) / n)$"
      ],
      "metadata": {
        "id": "NG7Iz3Dx9HFX"
      }
    },
    {
      "cell_type": "markdown",
      "source": [
        "**Exemplo**:\n",
        "Suponha que você queira testar se a proporção de clientes satisfeitos com um produto é diferente de 0.75. Você seleciona uma amostra de 100 clientes e encontra que 70 deles estão satisfeitos. Use um nível de significância de 0.05 para realizar o teste de hipótese."
      ],
      "metadata": {
        "id": "vJPvJGH79P6-"
      }
    },
    {
      "cell_type": "markdown",
      "source": [
        "**Resposta**: Primeiro, vamos começar definindo as nossas hipóteses:\n",
        "\n",
        "H0: proporção de satisfeitos = 0,75\n",
        "\n",
        "Ha: proporção de satisfeitos ≠ 0,75\n",
        "\n",
        "Este é um teste bicaudal.\n",
        "\n",
        "Agora podemos começar importando algumas bibliotecas que serão necessárias."
      ],
      "metadata": {
        "id": "M4F3FtZKxdI1"
      }
    },
    {
      "cell_type": "code",
      "source": [
        "# Funções matématicas\n",
        "import numpy as np\n",
        "from scipy import stats\n",
        "\n",
        "# Importar a função norm\n",
        "from scipy.stats import norm"
      ],
      "metadata": {
        "id": "2mbFsVH-966N"
      },
      "execution_count": 46,
      "outputs": []
    },
    {
      "cell_type": "markdown",
      "source": [
        "Agora vamos partir para os cálculos, dividindo-os em etapas."
      ],
      "metadata": {
        "id": "1BwRJXQCx7RE"
      }
    },
    {
      "cell_type": "code",
      "source": [
        "# Dados do problema\n",
        "p0 = 0.75  # proporção esperada\n",
        "n = 100    # tamanho da amostra\n",
        "x = 70     # número de clientes satisfeitos\n",
        "alpha = 0.05 #  nível de significância\n",
        "\n",
        "# Calculando a proporção da amostra\n",
        "p_hat = x / n\n",
        "\n",
        "# Calculando a estatística Z\n",
        "Z = (p_hat - p0) / np.sqrt(p0 * (1 - p0) / n)\n",
        "\n",
        "# Imprimindo os resultados\n",
        "print(\"Estatística Z:\", Z)"
      ],
      "metadata": {
        "colab": {
          "base_uri": "https://localhost:8080/"
        },
        "id": "kKx8QI7Ex-c9",
        "outputId": "8fc29b0b-f2cd-4a0e-fb79-2a6f0978319f"
      },
      "execution_count": 47,
      "outputs": [
        {
          "output_type": "stream",
          "name": "stdout",
          "text": [
            "Estatística Z: -1.1547005383792526\n"
          ]
        }
      ]
    },
    {
      "cell_type": "markdown",
      "source": [
        "Agora podemos calcular o valor de p."
      ],
      "metadata": {
        "id": "DJRs1P66yMNs"
      }
    },
    {
      "cell_type": "code",
      "source": [
        "# Calculando o valor p\n",
        "p_valor = 2 * (1 - norm.cdf(abs(Z)))\n",
        "\n",
        "# Conclusões\n",
        "if p_valor < alpha:\n",
        "  print(\"Rejeitar H0: Há evidências da diferença na proporção de satisfeitos\")\n",
        "else:\n",
        "  print(\"Falha em rejeitar H0: Não existe evidências da diferença na proporção de satisfeitos\")\n",
        "\n",
        "# Exibindo o p_valor\n",
        "print(f\"\\nO p-valor: {p_valor}\")"
      ],
      "metadata": {
        "colab": {
          "base_uri": "https://localhost:8080/"
        },
        "id": "iwJaDA6pyOf1",
        "outputId": "f73434f2-989d-4e0c-b99a-88ceca0538b1"
      },
      "execution_count": 48,
      "outputs": [
        {
          "output_type": "stream",
          "name": "stdout",
          "text": [
            "Falha em rejeitar H0: Não existe evidências da diferença na proporção de satisfeitos\n",
            "\n",
            "O p-valor: 0.24821307898992329\n"
          ]
        }
      ]
    },
    {
      "cell_type": "markdown",
      "source": [
        "Com base no teste que executamos e em um nível de significância de 0,05, falhamos em rejeitar a hipótese nula. Portanto, podemos concluir que não existem evidências de diferença na proporção de clientes satisfeitos."
      ],
      "metadata": {
        "id": "e6uoSjnjzsCu"
      }
    },
    {
      "cell_type": "markdown",
      "source": [
        "## **Teste de Hipótese de Proporção (2 amostras)**"
      ],
      "metadata": {
        "id": "Vx28_KVl0rlW"
      }
    },
    {
      "cell_type": "markdown",
      "source": [
        "**Quando utilizar**: Este teste é utilizado quando queremos comparar as proporções de duas amostras independentes.\n",
        "\n",
        "Hipóteses:\n",
        "\n",
        "- H0: p1 - p2 = 0 (não há diferença entre as proporções das duas populações)\n",
        "- Ha: p1 - p2 ≠ 0 (há diferença entre as proporções das duas populações"
      ],
      "metadata": {
        "id": "RN_r2srh03bc"
      }
    },
    {
      "cell_type": "markdown",
      "source": [
        "Estatística do Teste (Z):\n",
        "\n",
        "- $Z = ((p̂1 - p̂2) - 0) / √(p̂(1 - p̂)((1/n1) + (1/n2)))\n",
        "$"
      ],
      "metadata": {
        "id": "3yexzxTR1HIc"
      }
    },
    {
      "cell_type": "markdown",
      "source": [
        "Logo de cara, parece ser uma fórmula assustadora, mas vamos observar um exemplo da aplicação da mesma.\n",
        "\n",
        "**Exemplo**:\n",
        "Suponha que você queira testar se a proporção de clientes satisfeitos com um produto é diferente entre duas regiões. Você seleciona uma amostra de 100 clientes de cada região e encontra que 70 clientes na região A estão satisfeitos, enquanto 60 clientes na região B estão satisfeitos. Use um nível de significância de 0.05 para realizar o teste de hipótese."
      ],
      "metadata": {
        "id": "-lZtUoGq1Nwt"
      }
    },
    {
      "cell_type": "markdown",
      "source": [
        "**Resposta**: Vamos começar definindo as nossas hipóteses:\n",
        "\n",
        "H0: Proporção de satisfeitos na região A = Proporção de satisfeitos na região B\n",
        "\n",
        "Ha: Proporção de satisfeitos na região A ≠ Proporção de satisfeitos na região B\n",
        "\n",
        "Nos deparamos novamente com um teste bicaudal.\n",
        "\n",
        "Agora vamos realizar algumas importações necessárias."
      ],
      "metadata": {
        "id": "5jcTxcNX22Ud"
      }
    },
    {
      "cell_type": "code",
      "source": [
        "# Funções matématicas\n",
        "import numpy as np\n",
        "from scipy import stats\n",
        "\n",
        "# Importar a função norm\n",
        "from scipy.stats import norm"
      ],
      "metadata": {
        "id": "1chXW_pU7cT2"
      },
      "execution_count": 49,
      "outputs": []
    },
    {
      "cell_type": "markdown",
      "source": [
        "Agora podemos partir para os cálculos propriamente ditos."
      ],
      "metadata": {
        "id": "9OAkS6n57dbn"
      }
    },
    {
      "cell_type": "code",
      "source": [
        "# Dados do problema\n",
        "n1 = 100   # tamanho da amostra região A\n",
        "n2 = 100   # tamanho da amostra região B\n",
        "x1 = 70    # número de clientes satisfeitos na região A\n",
        "x2 = 60    # número de clientes satisfeitos na região B\n",
        "\n",
        "# nível de significância\n",
        "alpha = 0.05\n",
        "\n",
        "# Calculando as proporções das amostras\n",
        "p_hat1 = x1 / n1\n",
        "p_hat2 = x2 / n2\n",
        "\n",
        "# Calculando a proporção combinada\n",
        "p_hat = (x1 + x2) / (n1 + n2)\n",
        "\n",
        "# Calculando a estatística Z\n",
        "Z = (p_hat1 - p_hat2) / np.sqrt(p_hat * (1 - p_hat) * (1/n1 + 1/n2))\n",
        "\n",
        "print(\"Estatística Z:\", Z)"
      ],
      "metadata": {
        "colab": {
          "base_uri": "https://localhost:8080/"
        },
        "id": "l2SsC5tt7Zr2",
        "outputId": "316fa7d1-4fda-4b0e-f5d4-6dbc95e8fa47"
      },
      "execution_count": 50,
      "outputs": [
        {
          "output_type": "stream",
          "name": "stdout",
          "text": [
            "Estatística Z: 1.482498633322202\n"
          ]
        }
      ]
    },
    {
      "cell_type": "markdown",
      "source": [
        "Agora vamos partir para o cálculo do valor-p."
      ],
      "metadata": {
        "id": "ytuUXbPA7lUu"
      }
    },
    {
      "cell_type": "code",
      "source": [
        "# Calculando o valor p\n",
        "p_valor = 2 * (1 - norm.cdf(abs(Z)))\n",
        "\n",
        "# Conclusões\n",
        "if p_valor < alpha:\n",
        "  print(\"Rejeitar H0: Há evidências da diferença de clientes satisfeitos da região A e B.\")\n",
        "else:\n",
        "  print(\"Falha em rejeitar H0: Não existe evidências da diferença de clientes satisfeitos da região A e B.\")\n",
        "\n",
        "# Imprimindo o p_valor\n",
        "print(\"\\nValor p:\", p_valor)"
      ],
      "metadata": {
        "colab": {
          "base_uri": "https://localhost:8080/"
        },
        "id": "Worv0PH-7nqd",
        "outputId": "9545e900-35f9-4b6b-bb5b-0910c176e824"
      },
      "execution_count": 51,
      "outputs": [
        {
          "output_type": "stream",
          "name": "stdout",
          "text": [
            "Falha em rejeitar H0: Não existe evidências da diferença de clientes satisfeitos da região A e B.\n",
            "\n",
            "Valor p: 0.13820766697402576\n"
          ]
        }
      ]
    },
    {
      "cell_type": "markdown",
      "source": [
        "Após aplicarmos o nosso teste de hipótese com um nível de significância de 0,05, falhamos em rejeitar a hipótese nula. Logo, podemos concluir que não existe diferença na satisfação dos clientes entre as regiões A e B."
      ],
      "metadata": {
        "id": "K6x5TWRO8btt"
      }
    }
  ]
}