{
  "nbformat": 4,
  "nbformat_minor": 0,
  "metadata": {
    "colab": {
      "provenance": [],
      "collapsed_sections": [
        "fS2DD4jbE-nz",
        "qv9ICt7cFDUM",
        "8lKhOA4MFdPr"
      ],
      "authorship_tag": "ABX9TyMGhTcUiKs1pfuoIEZ54/ux",
      "include_colab_link": true
    },
    "kernelspec": {
      "name": "python3",
      "display_name": "Python 3"
    },
    "language_info": {
      "name": "python"
    }
  },
  "cells": [
    {
      "cell_type": "markdown",
      "metadata": {
        "id": "view-in-github",
        "colab_type": "text"
      },
      "source": [
        "<a href=\"https://colab.research.google.com/github/JosenildoJunior/StatPyDataScience/blob/main/Regress%C3%A3o_Log%C3%ADstica.ipynb\" target=\"_parent\"><img src=\"https://colab.research.google.com/assets/colab-badge.svg\" alt=\"Open In Colab\"/></a>"
      ]
    },
    {
      "cell_type": "markdown",
      "source": [
        "# **Regressão logistica**"
      ],
      "metadata": {
        "id": "QyH50lqyC2A7"
      }
    },
    {
      "cell_type": "markdown",
      "source": [
        "## **Conceitos importantes**"
      ],
      "metadata": {
        "id": "fS2DD4jbE-nz"
      }
    },
    {
      "cell_type": "markdown",
      "source": [
        "Antes de partirmos para a regressão propriamente dito, vamos relembrar alguns pontos sobre a regressão linear"
      ],
      "metadata": {
        "id": "x99W_PRBC7K0"
      }
    },
    {
      "cell_type": "markdown",
      "source": [
        "**Regressão Linear**:\n",
        "\n",
        "- Definição:\n",
        "\n",
        "  - **A regressão linear** é um método estatístico usado para modelar a relação entre uma variável dependente (ou resposta) e uma ou mais variáveis independentes (ou características).\n",
        "\n",
        "- Objetivo:\n",
        "\n",
        "  - O objetivo da regressão linear é prever valores contínuos com base em uma relação linear entre as características e a variável de destino.\n",
        "\n",
        "- Exemplo:\n",
        "\n",
        "  - Um exemplo comum de regressão linear é prever o preço de uma casa com base em características como área, número de quartos, localização, etc.\n",
        "\n",
        "- Saída:\n",
        "\n",
        "  - A saída de um modelo de regressão linear é um valor contínuo. Por exemplo, o preço previsto de uma casa em dólares."
      ],
      "metadata": {
        "id": "2H7_VdpQEk0N"
      }
    },
    {
      "cell_type": "markdown",
      "source": [
        "Agora vamos observar alguns pontos sobre a classificação"
      ],
      "metadata": {
        "id": "sjfEza5BElMs"
      }
    },
    {
      "cell_type": "markdown",
      "source": [
        "**Classificação**:\n",
        "- Definição:\n",
        "\n",
        "  - **A classificação** é um tipo de algoritmo de aprendizado de máquina supervisionado usado para prever a classe de um objeto com base em suas características.\n",
        "- Objetivo:\n",
        "\n",
        "  - O objetivo da classificação é separar os pontos de dados em diferentes categorias ou classes usando uma linha reta (ou plano) no espaço de características.\n",
        "\n",
        "- Exemplo:\n",
        "\n",
        "  - Um exemplo comum de classificação linear é a classificação de flores em diferentes espécies com base em características como comprimento e largura das pétalas e sépalas.\n",
        "\n",
        "- Saída:\n",
        "\n",
        "  - A saída de um modelo de classificação é uma classe ou categoria discreta. Por exemplo, \"espécie 1\", \"espécie 2\", etc.\n",
        "\n"
      ],
      "metadata": {
        "id": "inTm3X04Dhjr"
      }
    },
    {
      "cell_type": "markdown",
      "source": [
        "Dessa forma podemos observar que são tecnicas bem distintas uma das outras partidno desde o seu objetivo até a sua saida"
      ],
      "metadata": {
        "id": "X_GdouudEy_M"
      }
    },
    {
      "cell_type": "markdown",
      "source": [
        "## **Prática**"
      ],
      "metadata": {
        "id": "qv9ICt7cFDUM"
      }
    },
    {
      "cell_type": "markdown",
      "source": [
        "Agora que já revimos e entendemos um pouco mais sobre classificação vamos aplicar na pratica, para isso como de costume vamos importar as nossas biliotecas e nossos dados"
      ],
      "metadata": {
        "id": "UXkz0efvFND1"
      }
    },
    {
      "cell_type": "markdown",
      "source": [
        "### **Carregando os dados**"
      ],
      "metadata": {
        "id": "8lKhOA4MFdPr"
      }
    },
    {
      "cell_type": "code",
      "source": [
        "# Acesso ao drive\n",
        "from google.colab import drive\n",
        "drive.mount('/content/drive')"
      ],
      "metadata": {
        "id": "YQ0xcZZCFfmL"
      },
      "execution_count": null,
      "outputs": []
    },
    {
      "cell_type": "code",
      "source": [
        "# Manipulação de dados\n",
        "import pandas as pd\n",
        "\n",
        "# Algébra linear\n",
        "import numpy as np\n",
        "\n",
        "# Visualização de dados\n",
        "import matplotlib.pyplot as plt\n",
        "import seaborn as sns\n",
        "\n",
        "# Funções estatísticas\n",
        "import statistics\n",
        "import scipy.stats\n",
        "\n",
        "# Machine learning\n",
        "from sklearn.preprocessing import StandardScaler\n",
        "import sklearn.linear_model as skl_lm\n",
        "from sklearn.metrics import confusion_matrix, classification_report, precision_score\n",
        "from sklearn.model_selection import train_test_split"
      ],
      "metadata": {
        "id": "aXhj0XQ9Fg9s"
      },
      "execution_count": null,
      "outputs": []
    },
    {
      "cell_type": "markdown",
      "source": [
        "Agora que já importamos todas as bibliotecas necessarias vamos importar a base de dados propriamente dita"
      ],
      "metadata": {
        "id": "drpaCHOdFqCT"
      }
    },
    {
      "cell_type": "code",
      "source": [
        "# Importando o dataset\n",
        "df = pd.read_csv('/content/drive/MyDrive/Estatística para ciência de dados/data_classificacao.csv')"
      ],
      "metadata": {
        "id": "3A2qU3jvFqNE"
      },
      "execution_count": null,
      "outputs": []
    },
    {
      "cell_type": "markdown",
      "source": [
        "Agora que já carregamos a base de dados vamos ter um primeiro contato com esses dados\n",
        "\n"
      ],
      "metadata": {
        "id": "eymqM1CfF7yM"
      }
    },
    {
      "cell_type": "code",
      "source": [
        "# Observando os primeiros registros\n",
        "df.head()"
      ],
      "metadata": {
        "id": "CWbGhSV4F79k"
      },
      "execution_count": null,
      "outputs": []
    },
    {
      "cell_type": "markdown",
      "source": [
        "Vemos diversas variaveis aqui, que até o momento não sabemos do que se trata então vamos observar o dicionario de dados"
      ],
      "metadata": {
        "id": "SK-2w9OlGLXc"
      }
    },
    {
      "cell_type": "markdown",
      "source": [
        "\n",
        "* **id**\n",
        "* **diagnosis**: M = maligno, B = benigno\n",
        "\n",
        "*Colunas 3 a 32*\n",
        "\n",
        "Dez características de valor real são computadas para cada núcleo celular:\n",
        "\n",
        "* **radius**: distâncias do centro aos pontos do perímetro\n",
        "* **texture**: desvio padrão dos valores da escala de cinza\n",
        "* **perimeter**\n",
        "* **area**\n",
        "* **smoothness**: variação local nos comprimentos dos raios\n",
        "* **compactness**: perímetro^2 / área - 1,0\n",
        "* **concavity**: severidade das porções côncavas do contorno\n",
        "* **concave points**: número de porções côncavas do contorno\n",
        "* **symmetry**\n",
        "* **fractal dimension**: \"aproximação da costa\" - 1"
      ],
      "metadata": {
        "id": "oIdVMyMfGdCM"
      }
    },
    {
      "cell_type": "code",
      "source": [],
      "metadata": {
        "id": "BVBWUWxYGLo8"
      },
      "execution_count": null,
      "outputs": []
    }
  ]
}