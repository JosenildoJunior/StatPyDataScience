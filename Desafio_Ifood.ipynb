{
  "nbformat": 4,
  "nbformat_minor": 0,
  "metadata": {
    "colab": {
      "provenance": [],
      "collapsed_sections": [
        "Z7yo8ZjZjCYV",
        "CQSTAmqjiKbc",
        "wc5TSve3k_KQ",
        "GVwY7A0KlII-",
        "I1GgN5NKt5lv",
        "0oVkANhp2mxk",
        "C7S9OvvPvETt",
        "voPM4GWM7fF-",
        "xAklZWKXTO8V",
        "BkSd-F5ST7wJ",
        "9XmchFQ-UY91",
        "0FUf7TFTeDgX",
        "dcvwXdZ6e2FN",
        "O6tFnSeUlwJt",
        "jtrjzLF2mvUH",
        "BABhFGTd016n",
        "-pcnQgHhoJBD",
        "19Q_onYSpj1V",
        "gwaLHn3DD2Rd",
        "yT3qld0xveXT",
        "_eJmdpHX_kKB",
        "nujCcSK3EQQI",
        "Qx8ORp9uh1_Z",
        "Geg4uVaj0WeM",
        "mnhP_Qa444dJ"
      ],
      "include_colab_link": true
    },
    "kernelspec": {
      "name": "python3",
      "display_name": "Python 3"
    },
    "language_info": {
      "name": "python"
    }
  },
  "cells": [
    {
      "cell_type": "markdown",
      "metadata": {
        "id": "view-in-github",
        "colab_type": "text"
      },
      "source": [
        "<a href=\"https://colab.research.google.com/github/JosenildoJunior/StatPyDataScience/blob/main/Desafio_Ifood.ipynb\" target=\"_parent\"><img src=\"https://colab.research.google.com/assets/colab-badge.svg\" alt=\"Open In Colab\"/></a>"
      ]
    },
    {
      "cell_type": "markdown",
      "source": [
        "# **Análise exploratória em dados do Ifood**"
      ],
      "metadata": {
        "id": "6M6aieWTh2u3"
      }
    },
    {
      "cell_type": "markdown",
      "source": [
        "O conjunto de dados é composto por clientes da empresa Ifood com dados sobre:\n",
        "\n",
        "- Perfis de clientes\n",
        "- Preferências do produto\n",
        "- Sucessos/fracassos da campanha\n",
        "- Desempenho do canal\n",
        "\n",
        "\n",
        "**O objetivo é realizar uma análise exploratória desses dados.**"
      ],
      "metadata": {
        "id": "NCKRWXxZhwgP"
      }
    },
    {
      "cell_type": "markdown",
      "source": [
        "## **Importando os dados**"
      ],
      "metadata": {
        "id": "Z7yo8ZjZjCYV"
      }
    },
    {
      "cell_type": "markdown",
      "source": [
        "Nessa parte iremos importar todas as bibliotecas que iremos precisar para realizar nossa analise e também os dados, dito isso vamos seguir para a importação das bibliotecas e posteriormente dos dados"
      ],
      "metadata": {
        "id": "IOC57p6ejGM8"
      }
    },
    {
      "cell_type": "code",
      "source": [
        "# Manipulação de dados\n",
        "import pandas as pd\n",
        "\n",
        "# Algébra linear\n",
        "import numpy as np\n",
        "\n",
        "# Visualização de dados\n",
        "import matplotlib.pyplot as plt\n",
        "import seaborn as sns\n",
        "\n",
        "# Funções estatísticas\n",
        "import statistics\n",
        "import scipy.stats\n",
        "\n",
        "# Importando o skew\n",
        "from scipy.stats import skew"
      ],
      "metadata": {
        "id": "xFlFR6ybjjf7"
      },
      "execution_count": null,
      "outputs": []
    },
    {
      "cell_type": "markdown",
      "source": [
        "Com as bibliotecas importadas podemos seguir para a importação dos dados propriamente dito"
      ],
      "metadata": {
        "id": "RDpdpordj89e"
      }
    },
    {
      "cell_type": "code",
      "source": [
        "# Acesso ao drive\n",
        "from google.colab import drive\n",
        "drive.mount('/content/drive')"
      ],
      "metadata": {
        "colab": {
          "base_uri": "https://localhost:8080/"
        },
        "id": "uNkZvF1lj6yg",
        "outputId": "1216b46b-2d41-46c9-8ab2-d930e01fce94"
      },
      "execution_count": null,
      "outputs": [
        {
          "output_type": "stream",
          "name": "stdout",
          "text": [
            "Mounted at /content/drive\n"
          ]
        }
      ]
    },
    {
      "cell_type": "code",
      "source": [
        "# Importando o dataset\n",
        "df = pd.read_csv('/content/drive/MyDrive/Estatística para ciência de dados/mkt_data.csv')\n",
        "\n",
        "# Observando os primeiro registros\n",
        "df.head()"
      ],
      "metadata": {
        "colab": {
          "base_uri": "https://localhost:8080/"
        },
        "id": "KEqWK4S8kF3l",
        "outputId": "e4eb5875-28e2-4121-dfda-49d1d7dbaded"
      },
      "execution_count": null,
      "outputs": [
        {
          "output_type": "execute_result",
          "data": {
            "text/plain": [
              "   Unnamed: 0   Income  Kidhome  Teenhome  Recency  MntWines  MntFruits  \\\n",
              "0           0  58138.0        0         0       58       635         88   \n",
              "1           1  46344.0        1         1       38        11          1   \n",
              "2           2  71613.0        0         0       26       426         49   \n",
              "3           3  26646.0        1         0       26        11          4   \n",
              "4           4  58293.0        1         0       94       173         43   \n",
              "\n",
              "   MntMeatProducts  MntFishProducts  MntSweetProducts  ...  \\\n",
              "0              546              172                88  ...   \n",
              "1                6                2                 1  ...   \n",
              "2              127              111                21  ...   \n",
              "3               20               10                 3  ...   \n",
              "4              118               46                27  ...   \n",
              "\n",
              "   education_Graduation  education_Master  education_PhD  MntTotal  \\\n",
              "0                   3.0               NaN            NaN      1529   \n",
              "1                   3.0               NaN            NaN        21   \n",
              "2                   3.0               NaN            NaN       734   \n",
              "3                   3.0               NaN            NaN        48   \n",
              "4                   NaN               NaN            5.0       407   \n",
              "\n",
              "   MntRegularProds  AcceptedCmpOverall  marital_status  education_level  kids  \\\n",
              "0             1441                   0          Single       Graduation     0   \n",
              "1               15                   0          Single       Graduation     2   \n",
              "2              692                   0        Together       Graduation     0   \n",
              "3               43                   0        Together       Graduation     1   \n",
              "4              392                   0         Married              PhD     1   \n",
              "\n",
              "   expenses  \n",
              "0      1529  \n",
              "1        21  \n",
              "2       734  \n",
              "3        48  \n",
              "4       407  \n",
              "\n",
              "[5 rows x 44 columns]"
            ],
            "text/html": [
              "\n",
              "  <div id=\"df-5f859ba6-aaba-46a2-93bb-74ceb07b91a7\" class=\"colab-df-container\">\n",
              "    <div>\n",
              "<style scoped>\n",
              "    .dataframe tbody tr th:only-of-type {\n",
              "        vertical-align: middle;\n",
              "    }\n",
              "\n",
              "    .dataframe tbody tr th {\n",
              "        vertical-align: top;\n",
              "    }\n",
              "\n",
              "    .dataframe thead th {\n",
              "        text-align: right;\n",
              "    }\n",
              "</style>\n",
              "<table border=\"1\" class=\"dataframe\">\n",
              "  <thead>\n",
              "    <tr style=\"text-align: right;\">\n",
              "      <th></th>\n",
              "      <th>Unnamed: 0</th>\n",
              "      <th>Income</th>\n",
              "      <th>Kidhome</th>\n",
              "      <th>Teenhome</th>\n",
              "      <th>Recency</th>\n",
              "      <th>MntWines</th>\n",
              "      <th>MntFruits</th>\n",
              "      <th>MntMeatProducts</th>\n",
              "      <th>MntFishProducts</th>\n",
              "      <th>MntSweetProducts</th>\n",
              "      <th>...</th>\n",
              "      <th>education_Graduation</th>\n",
              "      <th>education_Master</th>\n",
              "      <th>education_PhD</th>\n",
              "      <th>MntTotal</th>\n",
              "      <th>MntRegularProds</th>\n",
              "      <th>AcceptedCmpOverall</th>\n",
              "      <th>marital_status</th>\n",
              "      <th>education_level</th>\n",
              "      <th>kids</th>\n",
              "      <th>expenses</th>\n",
              "    </tr>\n",
              "  </thead>\n",
              "  <tbody>\n",
              "    <tr>\n",
              "      <th>0</th>\n",
              "      <td>0</td>\n",
              "      <td>58138.0</td>\n",
              "      <td>0</td>\n",
              "      <td>0</td>\n",
              "      <td>58</td>\n",
              "      <td>635</td>\n",
              "      <td>88</td>\n",
              "      <td>546</td>\n",
              "      <td>172</td>\n",
              "      <td>88</td>\n",
              "      <td>...</td>\n",
              "      <td>3.0</td>\n",
              "      <td>NaN</td>\n",
              "      <td>NaN</td>\n",
              "      <td>1529</td>\n",
              "      <td>1441</td>\n",
              "      <td>0</td>\n",
              "      <td>Single</td>\n",
              "      <td>Graduation</td>\n",
              "      <td>0</td>\n",
              "      <td>1529</td>\n",
              "    </tr>\n",
              "    <tr>\n",
              "      <th>1</th>\n",
              "      <td>1</td>\n",
              "      <td>46344.0</td>\n",
              "      <td>1</td>\n",
              "      <td>1</td>\n",
              "      <td>38</td>\n",
              "      <td>11</td>\n",
              "      <td>1</td>\n",
              "      <td>6</td>\n",
              "      <td>2</td>\n",
              "      <td>1</td>\n",
              "      <td>...</td>\n",
              "      <td>3.0</td>\n",
              "      <td>NaN</td>\n",
              "      <td>NaN</td>\n",
              "      <td>21</td>\n",
              "      <td>15</td>\n",
              "      <td>0</td>\n",
              "      <td>Single</td>\n",
              "      <td>Graduation</td>\n",
              "      <td>2</td>\n",
              "      <td>21</td>\n",
              "    </tr>\n",
              "    <tr>\n",
              "      <th>2</th>\n",
              "      <td>2</td>\n",
              "      <td>71613.0</td>\n",
              "      <td>0</td>\n",
              "      <td>0</td>\n",
              "      <td>26</td>\n",
              "      <td>426</td>\n",
              "      <td>49</td>\n",
              "      <td>127</td>\n",
              "      <td>111</td>\n",
              "      <td>21</td>\n",
              "      <td>...</td>\n",
              "      <td>3.0</td>\n",
              "      <td>NaN</td>\n",
              "      <td>NaN</td>\n",
              "      <td>734</td>\n",
              "      <td>692</td>\n",
              "      <td>0</td>\n",
              "      <td>Together</td>\n",
              "      <td>Graduation</td>\n",
              "      <td>0</td>\n",
              "      <td>734</td>\n",
              "    </tr>\n",
              "    <tr>\n",
              "      <th>3</th>\n",
              "      <td>3</td>\n",
              "      <td>26646.0</td>\n",
              "      <td>1</td>\n",
              "      <td>0</td>\n",
              "      <td>26</td>\n",
              "      <td>11</td>\n",
              "      <td>4</td>\n",
              "      <td>20</td>\n",
              "      <td>10</td>\n",
              "      <td>3</td>\n",
              "      <td>...</td>\n",
              "      <td>3.0</td>\n",
              "      <td>NaN</td>\n",
              "      <td>NaN</td>\n",
              "      <td>48</td>\n",
              "      <td>43</td>\n",
              "      <td>0</td>\n",
              "      <td>Together</td>\n",
              "      <td>Graduation</td>\n",
              "      <td>1</td>\n",
              "      <td>48</td>\n",
              "    </tr>\n",
              "    <tr>\n",
              "      <th>4</th>\n",
              "      <td>4</td>\n",
              "      <td>58293.0</td>\n",
              "      <td>1</td>\n",
              "      <td>0</td>\n",
              "      <td>94</td>\n",
              "      <td>173</td>\n",
              "      <td>43</td>\n",
              "      <td>118</td>\n",
              "      <td>46</td>\n",
              "      <td>27</td>\n",
              "      <td>...</td>\n",
              "      <td>NaN</td>\n",
              "      <td>NaN</td>\n",
              "      <td>5.0</td>\n",
              "      <td>407</td>\n",
              "      <td>392</td>\n",
              "      <td>0</td>\n",
              "      <td>Married</td>\n",
              "      <td>PhD</td>\n",
              "      <td>1</td>\n",
              "      <td>407</td>\n",
              "    </tr>\n",
              "  </tbody>\n",
              "</table>\n",
              "<p>5 rows × 44 columns</p>\n",
              "</div>\n",
              "    <div class=\"colab-df-buttons\">\n",
              "\n",
              "  <div class=\"colab-df-container\">\n",
              "    <button class=\"colab-df-convert\" onclick=\"convertToInteractive('df-5f859ba6-aaba-46a2-93bb-74ceb07b91a7')\"\n",
              "            title=\"Convert this dataframe to an interactive table.\"\n",
              "            style=\"display:none;\">\n",
              "\n",
              "  <svg xmlns=\"http://www.w3.org/2000/svg\" height=\"24px\" viewBox=\"0 -960 960 960\">\n",
              "    <path d=\"M120-120v-720h720v720H120Zm60-500h600v-160H180v160Zm220 220h160v-160H400v160Zm0 220h160v-160H400v160ZM180-400h160v-160H180v160Zm440 0h160v-160H620v160ZM180-180h160v-160H180v160Zm440 0h160v-160H620v160Z\"/>\n",
              "  </svg>\n",
              "    </button>\n",
              "\n",
              "  <style>\n",
              "    .colab-df-container {\n",
              "      display:flex;\n",
              "      gap: 12px;\n",
              "    }\n",
              "\n",
              "    .colab-df-convert {\n",
              "      background-color: #E8F0FE;\n",
              "      border: none;\n",
              "      border-radius: 50%;\n",
              "      cursor: pointer;\n",
              "      display: none;\n",
              "      fill: #1967D2;\n",
              "      height: 32px;\n",
              "      padding: 0 0 0 0;\n",
              "      width: 32px;\n",
              "    }\n",
              "\n",
              "    .colab-df-convert:hover {\n",
              "      background-color: #E2EBFA;\n",
              "      box-shadow: 0px 1px 2px rgba(60, 64, 67, 0.3), 0px 1px 3px 1px rgba(60, 64, 67, 0.15);\n",
              "      fill: #174EA6;\n",
              "    }\n",
              "\n",
              "    .colab-df-buttons div {\n",
              "      margin-bottom: 4px;\n",
              "    }\n",
              "\n",
              "    [theme=dark] .colab-df-convert {\n",
              "      background-color: #3B4455;\n",
              "      fill: #D2E3FC;\n",
              "    }\n",
              "\n",
              "    [theme=dark] .colab-df-convert:hover {\n",
              "      background-color: #434B5C;\n",
              "      box-shadow: 0px 1px 3px 1px rgba(0, 0, 0, 0.15);\n",
              "      filter: drop-shadow(0px 1px 2px rgba(0, 0, 0, 0.3));\n",
              "      fill: #FFFFFF;\n",
              "    }\n",
              "  </style>\n",
              "\n",
              "    <script>\n",
              "      const buttonEl =\n",
              "        document.querySelector('#df-5f859ba6-aaba-46a2-93bb-74ceb07b91a7 button.colab-df-convert');\n",
              "      buttonEl.style.display =\n",
              "        google.colab.kernel.accessAllowed ? 'block' : 'none';\n",
              "\n",
              "      async function convertToInteractive(key) {\n",
              "        const element = document.querySelector('#df-5f859ba6-aaba-46a2-93bb-74ceb07b91a7');\n",
              "        const dataTable =\n",
              "          await google.colab.kernel.invokeFunction('convertToInteractive',\n",
              "                                                    [key], {});\n",
              "        if (!dataTable) return;\n",
              "\n",
              "        const docLinkHtml = 'Like what you see? Visit the ' +\n",
              "          '<a target=\"_blank\" href=https://colab.research.google.com/notebooks/data_table.ipynb>data table notebook</a>'\n",
              "          + ' to learn more about interactive tables.';\n",
              "        element.innerHTML = '';\n",
              "        dataTable['output_type'] = 'display_data';\n",
              "        await google.colab.output.renderOutput(dataTable, element);\n",
              "        const docLink = document.createElement('div');\n",
              "        docLink.innerHTML = docLinkHtml;\n",
              "        element.appendChild(docLink);\n",
              "      }\n",
              "    </script>\n",
              "  </div>\n",
              "\n",
              "\n",
              "<div id=\"df-8762a51c-2770-4654-bea3-6ab3a13cb8d6\">\n",
              "  <button class=\"colab-df-quickchart\" onclick=\"quickchart('df-8762a51c-2770-4654-bea3-6ab3a13cb8d6')\"\n",
              "            title=\"Suggest charts\"\n",
              "            style=\"display:none;\">\n",
              "\n",
              "<svg xmlns=\"http://www.w3.org/2000/svg\" height=\"24px\"viewBox=\"0 0 24 24\"\n",
              "     width=\"24px\">\n",
              "    <g>\n",
              "        <path d=\"M19 3H5c-1.1 0-2 .9-2 2v14c0 1.1.9 2 2 2h14c1.1 0 2-.9 2-2V5c0-1.1-.9-2-2-2zM9 17H7v-7h2v7zm4 0h-2V7h2v10zm4 0h-2v-4h2v4z\"/>\n",
              "    </g>\n",
              "</svg>\n",
              "  </button>\n",
              "\n",
              "<style>\n",
              "  .colab-df-quickchart {\n",
              "      --bg-color: #E8F0FE;\n",
              "      --fill-color: #1967D2;\n",
              "      --hover-bg-color: #E2EBFA;\n",
              "      --hover-fill-color: #174EA6;\n",
              "      --disabled-fill-color: #AAA;\n",
              "      --disabled-bg-color: #DDD;\n",
              "  }\n",
              "\n",
              "  [theme=dark] .colab-df-quickchart {\n",
              "      --bg-color: #3B4455;\n",
              "      --fill-color: #D2E3FC;\n",
              "      --hover-bg-color: #434B5C;\n",
              "      --hover-fill-color: #FFFFFF;\n",
              "      --disabled-bg-color: #3B4455;\n",
              "      --disabled-fill-color: #666;\n",
              "  }\n",
              "\n",
              "  .colab-df-quickchart {\n",
              "    background-color: var(--bg-color);\n",
              "    border: none;\n",
              "    border-radius: 50%;\n",
              "    cursor: pointer;\n",
              "    display: none;\n",
              "    fill: var(--fill-color);\n",
              "    height: 32px;\n",
              "    padding: 0;\n",
              "    width: 32px;\n",
              "  }\n",
              "\n",
              "  .colab-df-quickchart:hover {\n",
              "    background-color: var(--hover-bg-color);\n",
              "    box-shadow: 0 1px 2px rgba(60, 64, 67, 0.3), 0 1px 3px 1px rgba(60, 64, 67, 0.15);\n",
              "    fill: var(--button-hover-fill-color);\n",
              "  }\n",
              "\n",
              "  .colab-df-quickchart-complete:disabled,\n",
              "  .colab-df-quickchart-complete:disabled:hover {\n",
              "    background-color: var(--disabled-bg-color);\n",
              "    fill: var(--disabled-fill-color);\n",
              "    box-shadow: none;\n",
              "  }\n",
              "\n",
              "  .colab-df-spinner {\n",
              "    border: 2px solid var(--fill-color);\n",
              "    border-color: transparent;\n",
              "    border-bottom-color: var(--fill-color);\n",
              "    animation:\n",
              "      spin 1s steps(1) infinite;\n",
              "  }\n",
              "\n",
              "  @keyframes spin {\n",
              "    0% {\n",
              "      border-color: transparent;\n",
              "      border-bottom-color: var(--fill-color);\n",
              "      border-left-color: var(--fill-color);\n",
              "    }\n",
              "    20% {\n",
              "      border-color: transparent;\n",
              "      border-left-color: var(--fill-color);\n",
              "      border-top-color: var(--fill-color);\n",
              "    }\n",
              "    30% {\n",
              "      border-color: transparent;\n",
              "      border-left-color: var(--fill-color);\n",
              "      border-top-color: var(--fill-color);\n",
              "      border-right-color: var(--fill-color);\n",
              "    }\n",
              "    40% {\n",
              "      border-color: transparent;\n",
              "      border-right-color: var(--fill-color);\n",
              "      border-top-color: var(--fill-color);\n",
              "    }\n",
              "    60% {\n",
              "      border-color: transparent;\n",
              "      border-right-color: var(--fill-color);\n",
              "    }\n",
              "    80% {\n",
              "      border-color: transparent;\n",
              "      border-right-color: var(--fill-color);\n",
              "      border-bottom-color: var(--fill-color);\n",
              "    }\n",
              "    90% {\n",
              "      border-color: transparent;\n",
              "      border-bottom-color: var(--fill-color);\n",
              "    }\n",
              "  }\n",
              "</style>\n",
              "\n",
              "  <script>\n",
              "    async function quickchart(key) {\n",
              "      const quickchartButtonEl =\n",
              "        document.querySelector('#' + key + ' button');\n",
              "      quickchartButtonEl.disabled = true;  // To prevent multiple clicks.\n",
              "      quickchartButtonEl.classList.add('colab-df-spinner');\n",
              "      try {\n",
              "        const charts = await google.colab.kernel.invokeFunction(\n",
              "            'suggestCharts', [key], {});\n",
              "      } catch (error) {\n",
              "        console.error('Error during call to suggestCharts:', error);\n",
              "      }\n",
              "      quickchartButtonEl.classList.remove('colab-df-spinner');\n",
              "      quickchartButtonEl.classList.add('colab-df-quickchart-complete');\n",
              "    }\n",
              "    (() => {\n",
              "      let quickchartButtonEl =\n",
              "        document.querySelector('#df-8762a51c-2770-4654-bea3-6ab3a13cb8d6 button');\n",
              "      quickchartButtonEl.style.display =\n",
              "        google.colab.kernel.accessAllowed ? 'block' : 'none';\n",
              "    })();\n",
              "  </script>\n",
              "</div>\n",
              "\n",
              "    </div>\n",
              "  </div>\n"
            ],
            "application/vnd.google.colaboratory.intrinsic+json": {
              "type": "dataframe",
              "variable_name": "df"
            }
          },
          "metadata": {},
          "execution_count": 3
        }
      ]
    },
    {
      "cell_type": "markdown",
      "source": [
        "Agora podemos partir para a proxima etapa"
      ],
      "metadata": {
        "id": "nFERFnhlkl4h"
      }
    },
    {
      "cell_type": "markdown",
      "source": [
        "## **Análise inicial**"
      ],
      "metadata": {
        "id": "CQSTAmqjiKbc"
      }
    },
    {
      "cell_type": "markdown",
      "source": [
        "Nessa parte do desafio responderemos algumas perguntas com o intuito de enterdermos um pouco mais de como esses dados se comportam, para isso responderemos as seguintes perguntas:\n",
        "\n",
        "- Quantos dados temos? Linhas e colunas\n",
        "- Quais são as colunas numéricas?\n",
        "- Temos duplicados na nossa base? Se tivermos, retire-os\n",
        "- Temos dados nulos nessa base? Será que eles indicam algo? O que fazer com eles?\n",
        "- Qual é a média, mediana, 25 percentil, 75 percentil, mínimo e máximo de cada uma das colunas numéricas?"
      ],
      "metadata": {
        "id": "2dvgLmgYiPMj"
      }
    },
    {
      "cell_type": "markdown",
      "source": [
        "Agora que já sabemos as perguntas, vamos partir para a resolução das mesmas."
      ],
      "metadata": {
        "id": "nL1uADqYi-tP"
      }
    },
    {
      "cell_type": "markdown",
      "source": [
        "### **Quantos dados temos? Linhas e colunas**"
      ],
      "metadata": {
        "id": "wc5TSve3k_KQ"
      }
    },
    {
      "cell_type": "code",
      "execution_count": null,
      "metadata": {
        "colab": {
          "base_uri": "https://localhost:8080/"
        },
        "id": "Pyto1meGhnvA",
        "outputId": "3687917b-6de5-47d4-dabe-545319dd0d00"
      },
      "outputs": [
        {
          "output_type": "execute_result",
          "data": {
            "text/plain": [
              "(2205, 44)"
            ]
          },
          "metadata": {},
          "execution_count": 4
        }
      ],
      "source": [
        "# Observando as dimensões dos dados\n",
        "df.shape"
      ]
    },
    {
      "cell_type": "markdown",
      "source": [
        "Dessa forma, podemos observar que temos 2205 linhas e 44 colunas nessa base de dados."
      ],
      "metadata": {
        "id": "sfEBNsiolBwW"
      }
    },
    {
      "cell_type": "markdown",
      "source": [
        "### **Quais são as colunas numéricas?**"
      ],
      "metadata": {
        "id": "GVwY7A0KlII-"
      }
    },
    {
      "cell_type": "code",
      "source": [
        "# Observando o tipo de dado\n",
        "df.info()"
      ],
      "metadata": {
        "colab": {
          "base_uri": "https://localhost:8080/"
        },
        "id": "AQUtC98JlLBt",
        "outputId": "b152aabe-1b46-4b25-f0b9-1b6b825ff054"
      },
      "execution_count": null,
      "outputs": [
        {
          "output_type": "stream",
          "name": "stdout",
          "text": [
            "<class 'pandas.core.frame.DataFrame'>\n",
            "RangeIndex: 2205 entries, 0 to 2204\n",
            "Data columns (total 44 columns):\n",
            " #   Column                Non-Null Count  Dtype  \n",
            "---  ------                --------------  -----  \n",
            " 0   Unnamed: 0            2205 non-null   int64  \n",
            " 1   Income                2205 non-null   float64\n",
            " 2   Kidhome               2205 non-null   int64  \n",
            " 3   Teenhome              2205 non-null   int64  \n",
            " 4   Recency               2205 non-null   int64  \n",
            " 5   MntWines              2205 non-null   int64  \n",
            " 6   MntFruits             2205 non-null   int64  \n",
            " 7   MntMeatProducts       2205 non-null   int64  \n",
            " 8   MntFishProducts       2205 non-null   int64  \n",
            " 9   MntSweetProducts      2205 non-null   int64  \n",
            " 10  MntGoldProds          2205 non-null   int64  \n",
            " 11  NumDealsPurchases     2205 non-null   int64  \n",
            " 12  NumWebPurchases       2205 non-null   int64  \n",
            " 13  NumCatalogPurchases   2205 non-null   int64  \n",
            " 14  NumStorePurchases     2205 non-null   int64  \n",
            " 15  NumWebVisitsMonth     2205 non-null   int64  \n",
            " 16  AcceptedCmp3          2205 non-null   int64  \n",
            " 17  AcceptedCmp4          2205 non-null   int64  \n",
            " 18  AcceptedCmp5          2205 non-null   int64  \n",
            " 19  AcceptedCmp1          2205 non-null   int64  \n",
            " 20  AcceptedCmp2          2205 non-null   int64  \n",
            " 21  Complain              2205 non-null   int64  \n",
            " 22  Z_CostContact         2205 non-null   int64  \n",
            " 23  Z_Revenue             2205 non-null   int64  \n",
            " 24  Response              2205 non-null   int64  \n",
            " 25  Age                   2205 non-null   int64  \n",
            " 26  Customer_Days         2205 non-null   int64  \n",
            " 27  marital_Divorced      230 non-null    float64\n",
            " 28  marital_Married       854 non-null    float64\n",
            " 29  marital_Single        477 non-null    float64\n",
            " 30  marital_Together      568 non-null    float64\n",
            " 31  marital_Widow         76 non-null     float64\n",
            " 32  education_2n Cycle    198 non-null    float64\n",
            " 33  education_Basic       54 non-null     float64\n",
            " 34  education_Graduation  1113 non-null   float64\n",
            " 35  education_Master      364 non-null    float64\n",
            " 36  education_PhD         476 non-null    float64\n",
            " 37  MntTotal              2205 non-null   int64  \n",
            " 38  MntRegularProds       2205 non-null   int64  \n",
            " 39  AcceptedCmpOverall    2205 non-null   int64  \n",
            " 40  marital_status        2205 non-null   object \n",
            " 41  education_level       2205 non-null   object \n",
            " 42  kids                  2205 non-null   int64  \n",
            " 43  expenses              2205 non-null   int64  \n",
            "dtypes: float64(11), int64(31), object(2)\n",
            "memory usage: 758.1+ KB\n"
          ]
        }
      ]
    },
    {
      "cell_type": "markdown",
      "source": [
        "Agora vamos observar apenas as variáveis numéricas."
      ],
      "metadata": {
        "id": "0IidCLWwg7Rn"
      }
    },
    {
      "cell_type": "code",
      "source": [
        "# Selecionando apenas as numéricas\n",
        "numerics = ['int16', 'int32', 'int64', 'float16', 'float32', 'float64']\n",
        "df.select_dtypes(include=numerics).columns"
      ],
      "metadata": {
        "colab": {
          "base_uri": "https://localhost:8080/"
        },
        "id": "vbcXYPR4gXhi",
        "outputId": "7d9e598b-0634-4ce3-b084-f98906204bf9"
      },
      "execution_count": null,
      "outputs": [
        {
          "output_type": "execute_result",
          "data": {
            "text/plain": [
              "Index(['Unnamed: 0', 'Income', 'Kidhome', 'Teenhome', 'Recency', 'MntWines',\n",
              "       'MntFruits', 'MntMeatProducts', 'MntFishProducts', 'MntSweetProducts',\n",
              "       'MntGoldProds', 'NumDealsPurchases', 'NumWebPurchases',\n",
              "       'NumCatalogPurchases', 'NumStorePurchases', 'NumWebVisitsMonth',\n",
              "       'AcceptedCmp3', 'AcceptedCmp4', 'AcceptedCmp5', 'AcceptedCmp1',\n",
              "       'AcceptedCmp2', 'Complain', 'Z_CostContact', 'Z_Revenue', 'Response',\n",
              "       'Age', 'Customer_Days', 'marital_Divorced', 'marital_Married',\n",
              "       'marital_Single', 'marital_Together', 'marital_Widow',\n",
              "       'education_2n Cycle', 'education_Basic', 'education_Graduation',\n",
              "       'education_Master', 'education_PhD', 'MntTotal', 'MntRegularProds',\n",
              "       'AcceptedCmpOverall', 'kids', 'expenses'],\n",
              "      dtype='object')"
            ]
          },
          "metadata": {},
          "execution_count": 4
        }
      ]
    },
    {
      "cell_type": "markdown",
      "source": [
        "Dessa forma, podemos perceber que todas as variáveis presentes nessa lista são variáveis numéricas.\n",
        "\n"
      ],
      "metadata": {
        "id": "qwZRApSqg_kn"
      }
    },
    {
      "cell_type": "markdown",
      "source": [
        "### **Temos duplicados na nossa base? Se tivermos, retire-os**"
      ],
      "metadata": {
        "id": "I1GgN5NKt5lv"
      }
    },
    {
      "cell_type": "code",
      "source": [
        "# Verificando o valores duplicados\n",
        "df.duplicated().sum()"
      ],
      "metadata": {
        "colab": {
          "base_uri": "https://localhost:8080/"
        },
        "id": "0Za8XSoVtkVx",
        "outputId": "5b4ef036-b58c-400c-9d86-099be0cf7c72"
      },
      "execution_count": null,
      "outputs": [
        {
          "output_type": "execute_result",
          "data": {
            "text/plain": [
              "0"
            ]
          },
          "metadata": {},
          "execution_count": 6
        }
      ]
    },
    {
      "cell_type": "markdown",
      "source": [
        "Podemos observar que nesta base não existem valores duplicados. Sendo assim, podemos seguir adiante."
      ],
      "metadata": {
        "id": "2lwSGAgYt-Bt"
      }
    },
    {
      "cell_type": "markdown",
      "source": [
        "### **Temos dados nulos nessa base? Será que eles indicam algo? O que fazer com eles?**"
      ],
      "metadata": {
        "id": "0oVkANhp2mxk"
      }
    },
    {
      "cell_type": "code",
      "source": [
        "# Observando os valores ausentes\n",
        "def percent_ausentes(df_medias):\n",
        "    p_faltantes = df_medias.isnull().mean()\n",
        "    valores_faltantes = pd.DataFrame({'Variavéis': df_medias.columns,\n",
        "                                           '% de ausentes': p_faltantes}\n",
        "                                      ).reset_index(drop = True)\n",
        "\n",
        "    return valores_faltantes.sort_values(by = ['% de ausentes'], ascending = False)\n",
        "\n",
        "percent_ausentes(df)"
      ],
      "metadata": {
        "colab": {
          "base_uri": "https://localhost:8080/"
        },
        "id": "kS7qmSHl23VZ",
        "outputId": "f38b7a4d-8a55-4335-d57a-d352645cdb3e"
      },
      "execution_count": null,
      "outputs": [
        {
          "output_type": "execute_result",
          "data": {
            "text/plain": [
              "               Variavéis  % de ausentes\n",
              "33       education_Basic       0.975510\n",
              "31         marital_Widow       0.965533\n",
              "32    education_2n Cycle       0.910204\n",
              "27      marital_Divorced       0.895692\n",
              "35      education_Master       0.834921\n",
              "36         education_PhD       0.784127\n",
              "29        marital_Single       0.783673\n",
              "30      marital_Together       0.742404\n",
              "28       marital_Married       0.612698\n",
              "34  education_Graduation       0.495238\n",
              "24              Response       0.000000\n",
              "25                   Age       0.000000\n",
              "26         Customer_Days       0.000000\n",
              "0             Unnamed: 0       0.000000\n",
              "1                 Income       0.000000\n",
              "37              MntTotal       0.000000\n",
              "38       MntRegularProds       0.000000\n",
              "39    AcceptedCmpOverall       0.000000\n",
              "40        marital_status       0.000000\n",
              "41       education_level       0.000000\n",
              "42                  kids       0.000000\n",
              "23             Z_Revenue       0.000000\n",
              "22         Z_CostContact       0.000000\n",
              "21              Complain       0.000000\n",
              "10          MntGoldProds       0.000000\n",
              "2                Kidhome       0.000000\n",
              "3               Teenhome       0.000000\n",
              "4                Recency       0.000000\n",
              "5               MntWines       0.000000\n",
              "6              MntFruits       0.000000\n",
              "7        MntMeatProducts       0.000000\n",
              "8        MntFishProducts       0.000000\n",
              "9       MntSweetProducts       0.000000\n",
              "11     NumDealsPurchases       0.000000\n",
              "20          AcceptedCmp2       0.000000\n",
              "12       NumWebPurchases       0.000000\n",
              "13   NumCatalogPurchases       0.000000\n",
              "14     NumStorePurchases       0.000000\n",
              "15     NumWebVisitsMonth       0.000000\n",
              "16          AcceptedCmp3       0.000000\n",
              "17          AcceptedCmp4       0.000000\n",
              "18          AcceptedCmp5       0.000000\n",
              "19          AcceptedCmp1       0.000000\n",
              "43              expenses       0.000000"
            ],
            "text/html": [
              "\n",
              "  <div id=\"df-886c0548-1cac-4987-9c2c-2efdc46b2201\" class=\"colab-df-container\">\n",
              "    <div>\n",
              "<style scoped>\n",
              "    .dataframe tbody tr th:only-of-type {\n",
              "        vertical-align: middle;\n",
              "    }\n",
              "\n",
              "    .dataframe tbody tr th {\n",
              "        vertical-align: top;\n",
              "    }\n",
              "\n",
              "    .dataframe thead th {\n",
              "        text-align: right;\n",
              "    }\n",
              "</style>\n",
              "<table border=\"1\" class=\"dataframe\">\n",
              "  <thead>\n",
              "    <tr style=\"text-align: right;\">\n",
              "      <th></th>\n",
              "      <th>Variavéis</th>\n",
              "      <th>% de ausentes</th>\n",
              "    </tr>\n",
              "  </thead>\n",
              "  <tbody>\n",
              "    <tr>\n",
              "      <th>33</th>\n",
              "      <td>education_Basic</td>\n",
              "      <td>0.975510</td>\n",
              "    </tr>\n",
              "    <tr>\n",
              "      <th>31</th>\n",
              "      <td>marital_Widow</td>\n",
              "      <td>0.965533</td>\n",
              "    </tr>\n",
              "    <tr>\n",
              "      <th>32</th>\n",
              "      <td>education_2n Cycle</td>\n",
              "      <td>0.910204</td>\n",
              "    </tr>\n",
              "    <tr>\n",
              "      <th>27</th>\n",
              "      <td>marital_Divorced</td>\n",
              "      <td>0.895692</td>\n",
              "    </tr>\n",
              "    <tr>\n",
              "      <th>35</th>\n",
              "      <td>education_Master</td>\n",
              "      <td>0.834921</td>\n",
              "    </tr>\n",
              "    <tr>\n",
              "      <th>36</th>\n",
              "      <td>education_PhD</td>\n",
              "      <td>0.784127</td>\n",
              "    </tr>\n",
              "    <tr>\n",
              "      <th>29</th>\n",
              "      <td>marital_Single</td>\n",
              "      <td>0.783673</td>\n",
              "    </tr>\n",
              "    <tr>\n",
              "      <th>30</th>\n",
              "      <td>marital_Together</td>\n",
              "      <td>0.742404</td>\n",
              "    </tr>\n",
              "    <tr>\n",
              "      <th>28</th>\n",
              "      <td>marital_Married</td>\n",
              "      <td>0.612698</td>\n",
              "    </tr>\n",
              "    <tr>\n",
              "      <th>34</th>\n",
              "      <td>education_Graduation</td>\n",
              "      <td>0.495238</td>\n",
              "    </tr>\n",
              "    <tr>\n",
              "      <th>24</th>\n",
              "      <td>Response</td>\n",
              "      <td>0.000000</td>\n",
              "    </tr>\n",
              "    <tr>\n",
              "      <th>25</th>\n",
              "      <td>Age</td>\n",
              "      <td>0.000000</td>\n",
              "    </tr>\n",
              "    <tr>\n",
              "      <th>26</th>\n",
              "      <td>Customer_Days</td>\n",
              "      <td>0.000000</td>\n",
              "    </tr>\n",
              "    <tr>\n",
              "      <th>0</th>\n",
              "      <td>Unnamed: 0</td>\n",
              "      <td>0.000000</td>\n",
              "    </tr>\n",
              "    <tr>\n",
              "      <th>1</th>\n",
              "      <td>Income</td>\n",
              "      <td>0.000000</td>\n",
              "    </tr>\n",
              "    <tr>\n",
              "      <th>37</th>\n",
              "      <td>MntTotal</td>\n",
              "      <td>0.000000</td>\n",
              "    </tr>\n",
              "    <tr>\n",
              "      <th>38</th>\n",
              "      <td>MntRegularProds</td>\n",
              "      <td>0.000000</td>\n",
              "    </tr>\n",
              "    <tr>\n",
              "      <th>39</th>\n",
              "      <td>AcceptedCmpOverall</td>\n",
              "      <td>0.000000</td>\n",
              "    </tr>\n",
              "    <tr>\n",
              "      <th>40</th>\n",
              "      <td>marital_status</td>\n",
              "      <td>0.000000</td>\n",
              "    </tr>\n",
              "    <tr>\n",
              "      <th>41</th>\n",
              "      <td>education_level</td>\n",
              "      <td>0.000000</td>\n",
              "    </tr>\n",
              "    <tr>\n",
              "      <th>42</th>\n",
              "      <td>kids</td>\n",
              "      <td>0.000000</td>\n",
              "    </tr>\n",
              "    <tr>\n",
              "      <th>23</th>\n",
              "      <td>Z_Revenue</td>\n",
              "      <td>0.000000</td>\n",
              "    </tr>\n",
              "    <tr>\n",
              "      <th>22</th>\n",
              "      <td>Z_CostContact</td>\n",
              "      <td>0.000000</td>\n",
              "    </tr>\n",
              "    <tr>\n",
              "      <th>21</th>\n",
              "      <td>Complain</td>\n",
              "      <td>0.000000</td>\n",
              "    </tr>\n",
              "    <tr>\n",
              "      <th>10</th>\n",
              "      <td>MntGoldProds</td>\n",
              "      <td>0.000000</td>\n",
              "    </tr>\n",
              "    <tr>\n",
              "      <th>2</th>\n",
              "      <td>Kidhome</td>\n",
              "      <td>0.000000</td>\n",
              "    </tr>\n",
              "    <tr>\n",
              "      <th>3</th>\n",
              "      <td>Teenhome</td>\n",
              "      <td>0.000000</td>\n",
              "    </tr>\n",
              "    <tr>\n",
              "      <th>4</th>\n",
              "      <td>Recency</td>\n",
              "      <td>0.000000</td>\n",
              "    </tr>\n",
              "    <tr>\n",
              "      <th>5</th>\n",
              "      <td>MntWines</td>\n",
              "      <td>0.000000</td>\n",
              "    </tr>\n",
              "    <tr>\n",
              "      <th>6</th>\n",
              "      <td>MntFruits</td>\n",
              "      <td>0.000000</td>\n",
              "    </tr>\n",
              "    <tr>\n",
              "      <th>7</th>\n",
              "      <td>MntMeatProducts</td>\n",
              "      <td>0.000000</td>\n",
              "    </tr>\n",
              "    <tr>\n",
              "      <th>8</th>\n",
              "      <td>MntFishProducts</td>\n",
              "      <td>0.000000</td>\n",
              "    </tr>\n",
              "    <tr>\n",
              "      <th>9</th>\n",
              "      <td>MntSweetProducts</td>\n",
              "      <td>0.000000</td>\n",
              "    </tr>\n",
              "    <tr>\n",
              "      <th>11</th>\n",
              "      <td>NumDealsPurchases</td>\n",
              "      <td>0.000000</td>\n",
              "    </tr>\n",
              "    <tr>\n",
              "      <th>20</th>\n",
              "      <td>AcceptedCmp2</td>\n",
              "      <td>0.000000</td>\n",
              "    </tr>\n",
              "    <tr>\n",
              "      <th>12</th>\n",
              "      <td>NumWebPurchases</td>\n",
              "      <td>0.000000</td>\n",
              "    </tr>\n",
              "    <tr>\n",
              "      <th>13</th>\n",
              "      <td>NumCatalogPurchases</td>\n",
              "      <td>0.000000</td>\n",
              "    </tr>\n",
              "    <tr>\n",
              "      <th>14</th>\n",
              "      <td>NumStorePurchases</td>\n",
              "      <td>0.000000</td>\n",
              "    </tr>\n",
              "    <tr>\n",
              "      <th>15</th>\n",
              "      <td>NumWebVisitsMonth</td>\n",
              "      <td>0.000000</td>\n",
              "    </tr>\n",
              "    <tr>\n",
              "      <th>16</th>\n",
              "      <td>AcceptedCmp3</td>\n",
              "      <td>0.000000</td>\n",
              "    </tr>\n",
              "    <tr>\n",
              "      <th>17</th>\n",
              "      <td>AcceptedCmp4</td>\n",
              "      <td>0.000000</td>\n",
              "    </tr>\n",
              "    <tr>\n",
              "      <th>18</th>\n",
              "      <td>AcceptedCmp5</td>\n",
              "      <td>0.000000</td>\n",
              "    </tr>\n",
              "    <tr>\n",
              "      <th>19</th>\n",
              "      <td>AcceptedCmp1</td>\n",
              "      <td>0.000000</td>\n",
              "    </tr>\n",
              "    <tr>\n",
              "      <th>43</th>\n",
              "      <td>expenses</td>\n",
              "      <td>0.000000</td>\n",
              "    </tr>\n",
              "  </tbody>\n",
              "</table>\n",
              "</div>\n",
              "    <div class=\"colab-df-buttons\">\n",
              "\n",
              "  <div class=\"colab-df-container\">\n",
              "    <button class=\"colab-df-convert\" onclick=\"convertToInteractive('df-886c0548-1cac-4987-9c2c-2efdc46b2201')\"\n",
              "            title=\"Convert this dataframe to an interactive table.\"\n",
              "            style=\"display:none;\">\n",
              "\n",
              "  <svg xmlns=\"http://www.w3.org/2000/svg\" height=\"24px\" viewBox=\"0 -960 960 960\">\n",
              "    <path d=\"M120-120v-720h720v720H120Zm60-500h600v-160H180v160Zm220 220h160v-160H400v160Zm0 220h160v-160H400v160ZM180-400h160v-160H180v160Zm440 0h160v-160H620v160ZM180-180h160v-160H180v160Zm440 0h160v-160H620v160Z\"/>\n",
              "  </svg>\n",
              "    </button>\n",
              "\n",
              "  <style>\n",
              "    .colab-df-container {\n",
              "      display:flex;\n",
              "      gap: 12px;\n",
              "    }\n",
              "\n",
              "    .colab-df-convert {\n",
              "      background-color: #E8F0FE;\n",
              "      border: none;\n",
              "      border-radius: 50%;\n",
              "      cursor: pointer;\n",
              "      display: none;\n",
              "      fill: #1967D2;\n",
              "      height: 32px;\n",
              "      padding: 0 0 0 0;\n",
              "      width: 32px;\n",
              "    }\n",
              "\n",
              "    .colab-df-convert:hover {\n",
              "      background-color: #E2EBFA;\n",
              "      box-shadow: 0px 1px 2px rgba(60, 64, 67, 0.3), 0px 1px 3px 1px rgba(60, 64, 67, 0.15);\n",
              "      fill: #174EA6;\n",
              "    }\n",
              "\n",
              "    .colab-df-buttons div {\n",
              "      margin-bottom: 4px;\n",
              "    }\n",
              "\n",
              "    [theme=dark] .colab-df-convert {\n",
              "      background-color: #3B4455;\n",
              "      fill: #D2E3FC;\n",
              "    }\n",
              "\n",
              "    [theme=dark] .colab-df-convert:hover {\n",
              "      background-color: #434B5C;\n",
              "      box-shadow: 0px 1px 3px 1px rgba(0, 0, 0, 0.15);\n",
              "      filter: drop-shadow(0px 1px 2px rgba(0, 0, 0, 0.3));\n",
              "      fill: #FFFFFF;\n",
              "    }\n",
              "  </style>\n",
              "\n",
              "    <script>\n",
              "      const buttonEl =\n",
              "        document.querySelector('#df-886c0548-1cac-4987-9c2c-2efdc46b2201 button.colab-df-convert');\n",
              "      buttonEl.style.display =\n",
              "        google.colab.kernel.accessAllowed ? 'block' : 'none';\n",
              "\n",
              "      async function convertToInteractive(key) {\n",
              "        const element = document.querySelector('#df-886c0548-1cac-4987-9c2c-2efdc46b2201');\n",
              "        const dataTable =\n",
              "          await google.colab.kernel.invokeFunction('convertToInteractive',\n",
              "                                                    [key], {});\n",
              "        if (!dataTable) return;\n",
              "\n",
              "        const docLinkHtml = 'Like what you see? Visit the ' +\n",
              "          '<a target=\"_blank\" href=https://colab.research.google.com/notebooks/data_table.ipynb>data table notebook</a>'\n",
              "          + ' to learn more about interactive tables.';\n",
              "        element.innerHTML = '';\n",
              "        dataTable['output_type'] = 'display_data';\n",
              "        await google.colab.output.renderOutput(dataTable, element);\n",
              "        const docLink = document.createElement('div');\n",
              "        docLink.innerHTML = docLinkHtml;\n",
              "        element.appendChild(docLink);\n",
              "      }\n",
              "    </script>\n",
              "  </div>\n",
              "\n",
              "\n",
              "<div id=\"df-af1dff9e-d982-4e9d-ae4d-c387bb36dd24\">\n",
              "  <button class=\"colab-df-quickchart\" onclick=\"quickchart('df-af1dff9e-d982-4e9d-ae4d-c387bb36dd24')\"\n",
              "            title=\"Suggest charts\"\n",
              "            style=\"display:none;\">\n",
              "\n",
              "<svg xmlns=\"http://www.w3.org/2000/svg\" height=\"24px\"viewBox=\"0 0 24 24\"\n",
              "     width=\"24px\">\n",
              "    <g>\n",
              "        <path d=\"M19 3H5c-1.1 0-2 .9-2 2v14c0 1.1.9 2 2 2h14c1.1 0 2-.9 2-2V5c0-1.1-.9-2-2-2zM9 17H7v-7h2v7zm4 0h-2V7h2v10zm4 0h-2v-4h2v4z\"/>\n",
              "    </g>\n",
              "</svg>\n",
              "  </button>\n",
              "\n",
              "<style>\n",
              "  .colab-df-quickchart {\n",
              "      --bg-color: #E8F0FE;\n",
              "      --fill-color: #1967D2;\n",
              "      --hover-bg-color: #E2EBFA;\n",
              "      --hover-fill-color: #174EA6;\n",
              "      --disabled-fill-color: #AAA;\n",
              "      --disabled-bg-color: #DDD;\n",
              "  }\n",
              "\n",
              "  [theme=dark] .colab-df-quickchart {\n",
              "      --bg-color: #3B4455;\n",
              "      --fill-color: #D2E3FC;\n",
              "      --hover-bg-color: #434B5C;\n",
              "      --hover-fill-color: #FFFFFF;\n",
              "      --disabled-bg-color: #3B4455;\n",
              "      --disabled-fill-color: #666;\n",
              "  }\n",
              "\n",
              "  .colab-df-quickchart {\n",
              "    background-color: var(--bg-color);\n",
              "    border: none;\n",
              "    border-radius: 50%;\n",
              "    cursor: pointer;\n",
              "    display: none;\n",
              "    fill: var(--fill-color);\n",
              "    height: 32px;\n",
              "    padding: 0;\n",
              "    width: 32px;\n",
              "  }\n",
              "\n",
              "  .colab-df-quickchart:hover {\n",
              "    background-color: var(--hover-bg-color);\n",
              "    box-shadow: 0 1px 2px rgba(60, 64, 67, 0.3), 0 1px 3px 1px rgba(60, 64, 67, 0.15);\n",
              "    fill: var(--button-hover-fill-color);\n",
              "  }\n",
              "\n",
              "  .colab-df-quickchart-complete:disabled,\n",
              "  .colab-df-quickchart-complete:disabled:hover {\n",
              "    background-color: var(--disabled-bg-color);\n",
              "    fill: var(--disabled-fill-color);\n",
              "    box-shadow: none;\n",
              "  }\n",
              "\n",
              "  .colab-df-spinner {\n",
              "    border: 2px solid var(--fill-color);\n",
              "    border-color: transparent;\n",
              "    border-bottom-color: var(--fill-color);\n",
              "    animation:\n",
              "      spin 1s steps(1) infinite;\n",
              "  }\n",
              "\n",
              "  @keyframes spin {\n",
              "    0% {\n",
              "      border-color: transparent;\n",
              "      border-bottom-color: var(--fill-color);\n",
              "      border-left-color: var(--fill-color);\n",
              "    }\n",
              "    20% {\n",
              "      border-color: transparent;\n",
              "      border-left-color: var(--fill-color);\n",
              "      border-top-color: var(--fill-color);\n",
              "    }\n",
              "    30% {\n",
              "      border-color: transparent;\n",
              "      border-left-color: var(--fill-color);\n",
              "      border-top-color: var(--fill-color);\n",
              "      border-right-color: var(--fill-color);\n",
              "    }\n",
              "    40% {\n",
              "      border-color: transparent;\n",
              "      border-right-color: var(--fill-color);\n",
              "      border-top-color: var(--fill-color);\n",
              "    }\n",
              "    60% {\n",
              "      border-color: transparent;\n",
              "      border-right-color: var(--fill-color);\n",
              "    }\n",
              "    80% {\n",
              "      border-color: transparent;\n",
              "      border-right-color: var(--fill-color);\n",
              "      border-bottom-color: var(--fill-color);\n",
              "    }\n",
              "    90% {\n",
              "      border-color: transparent;\n",
              "      border-bottom-color: var(--fill-color);\n",
              "    }\n",
              "  }\n",
              "</style>\n",
              "\n",
              "  <script>\n",
              "    async function quickchart(key) {\n",
              "      const quickchartButtonEl =\n",
              "        document.querySelector('#' + key + ' button');\n",
              "      quickchartButtonEl.disabled = true;  // To prevent multiple clicks.\n",
              "      quickchartButtonEl.classList.add('colab-df-spinner');\n",
              "      try {\n",
              "        const charts = await google.colab.kernel.invokeFunction(\n",
              "            'suggestCharts', [key], {});\n",
              "      } catch (error) {\n",
              "        console.error('Error during call to suggestCharts:', error);\n",
              "      }\n",
              "      quickchartButtonEl.classList.remove('colab-df-spinner');\n",
              "      quickchartButtonEl.classList.add('colab-df-quickchart-complete');\n",
              "    }\n",
              "    (() => {\n",
              "      let quickchartButtonEl =\n",
              "        document.querySelector('#df-af1dff9e-d982-4e9d-ae4d-c387bb36dd24 button');\n",
              "      quickchartButtonEl.style.display =\n",
              "        google.colab.kernel.accessAllowed ? 'block' : 'none';\n",
              "    })();\n",
              "  </script>\n",
              "</div>\n",
              "\n",
              "    </div>\n",
              "  </div>\n"
            ]
          },
          "metadata": {},
          "execution_count": 7
        }
      ]
    },
    {
      "cell_type": "markdown",
      "source": [
        "Essa função nos retorna a porcentagem de valores ausentes presentes em cada coluna. Podemos observar que existem variáveis com a grande maioria de registros ausentes, como, por exemplo, education_basic, marital_widow e education_2n Cycle, que possuem mais de 90% dos valores ausentes. As variáveis marital_divorced e education_master possuem mais de 80%. Variáveis como education_Phd, marital_single e marital_together possuem um pouco mais de 70% de valores ausentes, enquanto as variáveis marital_married e education_graduation possuem, respectivamente, 61% e 49% de valores ausentes."
      ],
      "metadata": {
        "id": "HgRh1AHB3cNc"
      }
    },
    {
      "cell_type": "markdown",
      "source": [
        "Pelo expressivo número de valores ausentes, é possível levantar a hipótese de que os usuários não davam tanta importância para o preenchimento dessas características e acabavam deixando em branco."
      ],
      "metadata": {
        "id": "f8peQKrQts0A"
      }
    },
    {
      "cell_type": "markdown",
      "source": [
        "Essas variáveis que, em sua grande maioria, possuem valores ausentes, não vão nos dizer nada a respeito dos nossos dados. Portanto, no momento, elas podem ser retiradas do nosso dataset. Vamos aproveitar para retirar também a coluna \"Unnamed\", já que ela não será utilizada."
      ],
      "metadata": {
        "id": "bRWYqv0Ju68H"
      }
    },
    {
      "cell_type": "code",
      "source": [
        "# Realizando a exclusão das colunas\n",
        "#df = df.drop(['Unnamed: 0','education_Basic', 'marital_Widow', 'education_2n Cycle', 'marital_Divorced', 'education_Master',\n",
        "              'education_PhD', 'marital_Single', 'marital_Together', 'marital_Married', 'education_Graduation'], axis = 1)"
      ],
      "metadata": {
        "id": "9wmwpMpB6XLv"
      },
      "execution_count": null,
      "outputs": []
    },
    {
      "cell_type": "markdown",
      "source": [
        "Agora vamos observar novamente os valores ausentes."
      ],
      "metadata": {
        "id": "Bkq3EW8R7IOB"
      }
    },
    {
      "cell_type": "code",
      "source": [
        "# Observando os valores ausentes\n",
        "def percent_ausentes(df_medias):\n",
        "    p_faltantes = df_medias.isnull().mean()\n",
        "    valores_faltantes = pd.DataFrame({'Variavéis': df_medias.columns,\n",
        "                                           '% de ausentes': p_faltantes}\n",
        "                                      ).reset_index(drop = True)\n",
        "\n",
        "    return valores_faltantes.sort_values(by = ['% de ausentes'], ascending = False)\n",
        "\n",
        "percent_ausentes(df)"
      ],
      "metadata": {
        "colab": {
          "base_uri": "https://localhost:8080/"
        },
        "id": "u9w1lShA7L1Y",
        "outputId": "ab76ea86-25e2-470c-dde3-2176aee69d8a"
      },
      "execution_count": null,
      "outputs": [
        {
          "output_type": "execute_result",
          "data": {
            "text/plain": [
              "              Variavéis  % de ausentes\n",
              "0                Income            0.0\n",
              "17         AcceptedCmp5            0.0\n",
              "31                 kids            0.0\n",
              "30      education_level            0.0\n",
              "29       marital_status            0.0\n",
              "28   AcceptedCmpOverall            0.0\n",
              "27      MntRegularProds            0.0\n",
              "26             MntTotal            0.0\n",
              "25        Customer_Days            0.0\n",
              "24                  Age            0.0\n",
              "23             Response            0.0\n",
              "22            Z_Revenue            0.0\n",
              "21        Z_CostContact            0.0\n",
              "20             Complain            0.0\n",
              "19         AcceptedCmp2            0.0\n",
              "18         AcceptedCmp1            0.0\n",
              "16         AcceptedCmp4            0.0\n",
              "1               Kidhome            0.0\n",
              "15         AcceptedCmp3            0.0\n",
              "14    NumWebVisitsMonth            0.0\n",
              "13    NumStorePurchases            0.0\n",
              "12  NumCatalogPurchases            0.0\n",
              "11      NumWebPurchases            0.0\n",
              "10    NumDealsPurchases            0.0\n",
              "9          MntGoldProds            0.0\n",
              "8      MntSweetProducts            0.0\n",
              "7       MntFishProducts            0.0\n",
              "6       MntMeatProducts            0.0\n",
              "5             MntFruits            0.0\n",
              "4              MntWines            0.0\n",
              "3               Recency            0.0\n",
              "2              Teenhome            0.0\n",
              "32             expenses            0.0"
            ],
            "text/html": [
              "\n",
              "  <div id=\"df-25f35116-03a5-4a68-ad22-1600efe71a16\" class=\"colab-df-container\">\n",
              "    <div>\n",
              "<style scoped>\n",
              "    .dataframe tbody tr th:only-of-type {\n",
              "        vertical-align: middle;\n",
              "    }\n",
              "\n",
              "    .dataframe tbody tr th {\n",
              "        vertical-align: top;\n",
              "    }\n",
              "\n",
              "    .dataframe thead th {\n",
              "        text-align: right;\n",
              "    }\n",
              "</style>\n",
              "<table border=\"1\" class=\"dataframe\">\n",
              "  <thead>\n",
              "    <tr style=\"text-align: right;\">\n",
              "      <th></th>\n",
              "      <th>Variavéis</th>\n",
              "      <th>% de ausentes</th>\n",
              "    </tr>\n",
              "  </thead>\n",
              "  <tbody>\n",
              "    <tr>\n",
              "      <th>0</th>\n",
              "      <td>Income</td>\n",
              "      <td>0.0</td>\n",
              "    </tr>\n",
              "    <tr>\n",
              "      <th>17</th>\n",
              "      <td>AcceptedCmp5</td>\n",
              "      <td>0.0</td>\n",
              "    </tr>\n",
              "    <tr>\n",
              "      <th>31</th>\n",
              "      <td>kids</td>\n",
              "      <td>0.0</td>\n",
              "    </tr>\n",
              "    <tr>\n",
              "      <th>30</th>\n",
              "      <td>education_level</td>\n",
              "      <td>0.0</td>\n",
              "    </tr>\n",
              "    <tr>\n",
              "      <th>29</th>\n",
              "      <td>marital_status</td>\n",
              "      <td>0.0</td>\n",
              "    </tr>\n",
              "    <tr>\n",
              "      <th>28</th>\n",
              "      <td>AcceptedCmpOverall</td>\n",
              "      <td>0.0</td>\n",
              "    </tr>\n",
              "    <tr>\n",
              "      <th>27</th>\n",
              "      <td>MntRegularProds</td>\n",
              "      <td>0.0</td>\n",
              "    </tr>\n",
              "    <tr>\n",
              "      <th>26</th>\n",
              "      <td>MntTotal</td>\n",
              "      <td>0.0</td>\n",
              "    </tr>\n",
              "    <tr>\n",
              "      <th>25</th>\n",
              "      <td>Customer_Days</td>\n",
              "      <td>0.0</td>\n",
              "    </tr>\n",
              "    <tr>\n",
              "      <th>24</th>\n",
              "      <td>Age</td>\n",
              "      <td>0.0</td>\n",
              "    </tr>\n",
              "    <tr>\n",
              "      <th>23</th>\n",
              "      <td>Response</td>\n",
              "      <td>0.0</td>\n",
              "    </tr>\n",
              "    <tr>\n",
              "      <th>22</th>\n",
              "      <td>Z_Revenue</td>\n",
              "      <td>0.0</td>\n",
              "    </tr>\n",
              "    <tr>\n",
              "      <th>21</th>\n",
              "      <td>Z_CostContact</td>\n",
              "      <td>0.0</td>\n",
              "    </tr>\n",
              "    <tr>\n",
              "      <th>20</th>\n",
              "      <td>Complain</td>\n",
              "      <td>0.0</td>\n",
              "    </tr>\n",
              "    <tr>\n",
              "      <th>19</th>\n",
              "      <td>AcceptedCmp2</td>\n",
              "      <td>0.0</td>\n",
              "    </tr>\n",
              "    <tr>\n",
              "      <th>18</th>\n",
              "      <td>AcceptedCmp1</td>\n",
              "      <td>0.0</td>\n",
              "    </tr>\n",
              "    <tr>\n",
              "      <th>16</th>\n",
              "      <td>AcceptedCmp4</td>\n",
              "      <td>0.0</td>\n",
              "    </tr>\n",
              "    <tr>\n",
              "      <th>1</th>\n",
              "      <td>Kidhome</td>\n",
              "      <td>0.0</td>\n",
              "    </tr>\n",
              "    <tr>\n",
              "      <th>15</th>\n",
              "      <td>AcceptedCmp3</td>\n",
              "      <td>0.0</td>\n",
              "    </tr>\n",
              "    <tr>\n",
              "      <th>14</th>\n",
              "      <td>NumWebVisitsMonth</td>\n",
              "      <td>0.0</td>\n",
              "    </tr>\n",
              "    <tr>\n",
              "      <th>13</th>\n",
              "      <td>NumStorePurchases</td>\n",
              "      <td>0.0</td>\n",
              "    </tr>\n",
              "    <tr>\n",
              "      <th>12</th>\n",
              "      <td>NumCatalogPurchases</td>\n",
              "      <td>0.0</td>\n",
              "    </tr>\n",
              "    <tr>\n",
              "      <th>11</th>\n",
              "      <td>NumWebPurchases</td>\n",
              "      <td>0.0</td>\n",
              "    </tr>\n",
              "    <tr>\n",
              "      <th>10</th>\n",
              "      <td>NumDealsPurchases</td>\n",
              "      <td>0.0</td>\n",
              "    </tr>\n",
              "    <tr>\n",
              "      <th>9</th>\n",
              "      <td>MntGoldProds</td>\n",
              "      <td>0.0</td>\n",
              "    </tr>\n",
              "    <tr>\n",
              "      <th>8</th>\n",
              "      <td>MntSweetProducts</td>\n",
              "      <td>0.0</td>\n",
              "    </tr>\n",
              "    <tr>\n",
              "      <th>7</th>\n",
              "      <td>MntFishProducts</td>\n",
              "      <td>0.0</td>\n",
              "    </tr>\n",
              "    <tr>\n",
              "      <th>6</th>\n",
              "      <td>MntMeatProducts</td>\n",
              "      <td>0.0</td>\n",
              "    </tr>\n",
              "    <tr>\n",
              "      <th>5</th>\n",
              "      <td>MntFruits</td>\n",
              "      <td>0.0</td>\n",
              "    </tr>\n",
              "    <tr>\n",
              "      <th>4</th>\n",
              "      <td>MntWines</td>\n",
              "      <td>0.0</td>\n",
              "    </tr>\n",
              "    <tr>\n",
              "      <th>3</th>\n",
              "      <td>Recency</td>\n",
              "      <td>0.0</td>\n",
              "    </tr>\n",
              "    <tr>\n",
              "      <th>2</th>\n",
              "      <td>Teenhome</td>\n",
              "      <td>0.0</td>\n",
              "    </tr>\n",
              "    <tr>\n",
              "      <th>32</th>\n",
              "      <td>expenses</td>\n",
              "      <td>0.0</td>\n",
              "    </tr>\n",
              "  </tbody>\n",
              "</table>\n",
              "</div>\n",
              "    <div class=\"colab-df-buttons\">\n",
              "\n",
              "  <div class=\"colab-df-container\">\n",
              "    <button class=\"colab-df-convert\" onclick=\"convertToInteractive('df-25f35116-03a5-4a68-ad22-1600efe71a16')\"\n",
              "            title=\"Convert this dataframe to an interactive table.\"\n",
              "            style=\"display:none;\">\n",
              "\n",
              "  <svg xmlns=\"http://www.w3.org/2000/svg\" height=\"24px\" viewBox=\"0 -960 960 960\">\n",
              "    <path d=\"M120-120v-720h720v720H120Zm60-500h600v-160H180v160Zm220 220h160v-160H400v160Zm0 220h160v-160H400v160ZM180-400h160v-160H180v160Zm440 0h160v-160H620v160ZM180-180h160v-160H180v160Zm440 0h160v-160H620v160Z\"/>\n",
              "  </svg>\n",
              "    </button>\n",
              "\n",
              "  <style>\n",
              "    .colab-df-container {\n",
              "      display:flex;\n",
              "      gap: 12px;\n",
              "    }\n",
              "\n",
              "    .colab-df-convert {\n",
              "      background-color: #E8F0FE;\n",
              "      border: none;\n",
              "      border-radius: 50%;\n",
              "      cursor: pointer;\n",
              "      display: none;\n",
              "      fill: #1967D2;\n",
              "      height: 32px;\n",
              "      padding: 0 0 0 0;\n",
              "      width: 32px;\n",
              "    }\n",
              "\n",
              "    .colab-df-convert:hover {\n",
              "      background-color: #E2EBFA;\n",
              "      box-shadow: 0px 1px 2px rgba(60, 64, 67, 0.3), 0px 1px 3px 1px rgba(60, 64, 67, 0.15);\n",
              "      fill: #174EA6;\n",
              "    }\n",
              "\n",
              "    .colab-df-buttons div {\n",
              "      margin-bottom: 4px;\n",
              "    }\n",
              "\n",
              "    [theme=dark] .colab-df-convert {\n",
              "      background-color: #3B4455;\n",
              "      fill: #D2E3FC;\n",
              "    }\n",
              "\n",
              "    [theme=dark] .colab-df-convert:hover {\n",
              "      background-color: #434B5C;\n",
              "      box-shadow: 0px 1px 3px 1px rgba(0, 0, 0, 0.15);\n",
              "      filter: drop-shadow(0px 1px 2px rgba(0, 0, 0, 0.3));\n",
              "      fill: #FFFFFF;\n",
              "    }\n",
              "  </style>\n",
              "\n",
              "    <script>\n",
              "      const buttonEl =\n",
              "        document.querySelector('#df-25f35116-03a5-4a68-ad22-1600efe71a16 button.colab-df-convert');\n",
              "      buttonEl.style.display =\n",
              "        google.colab.kernel.accessAllowed ? 'block' : 'none';\n",
              "\n",
              "      async function convertToInteractive(key) {\n",
              "        const element = document.querySelector('#df-25f35116-03a5-4a68-ad22-1600efe71a16');\n",
              "        const dataTable =\n",
              "          await google.colab.kernel.invokeFunction('convertToInteractive',\n",
              "                                                    [key], {});\n",
              "        if (!dataTable) return;\n",
              "\n",
              "        const docLinkHtml = 'Like what you see? Visit the ' +\n",
              "          '<a target=\"_blank\" href=https://colab.research.google.com/notebooks/data_table.ipynb>data table notebook</a>'\n",
              "          + ' to learn more about interactive tables.';\n",
              "        element.innerHTML = '';\n",
              "        dataTable['output_type'] = 'display_data';\n",
              "        await google.colab.output.renderOutput(dataTable, element);\n",
              "        const docLink = document.createElement('div');\n",
              "        docLink.innerHTML = docLinkHtml;\n",
              "        element.appendChild(docLink);\n",
              "      }\n",
              "    </script>\n",
              "  </div>\n",
              "\n",
              "\n",
              "<div id=\"df-94b12dc8-cf01-498f-91eb-d82849419e7d\">\n",
              "  <button class=\"colab-df-quickchart\" onclick=\"quickchart('df-94b12dc8-cf01-498f-91eb-d82849419e7d')\"\n",
              "            title=\"Suggest charts\"\n",
              "            style=\"display:none;\">\n",
              "\n",
              "<svg xmlns=\"http://www.w3.org/2000/svg\" height=\"24px\"viewBox=\"0 0 24 24\"\n",
              "     width=\"24px\">\n",
              "    <g>\n",
              "        <path d=\"M19 3H5c-1.1 0-2 .9-2 2v14c0 1.1.9 2 2 2h14c1.1 0 2-.9 2-2V5c0-1.1-.9-2-2-2zM9 17H7v-7h2v7zm4 0h-2V7h2v10zm4 0h-2v-4h2v4z\"/>\n",
              "    </g>\n",
              "</svg>\n",
              "  </button>\n",
              "\n",
              "<style>\n",
              "  .colab-df-quickchart {\n",
              "      --bg-color: #E8F0FE;\n",
              "      --fill-color: #1967D2;\n",
              "      --hover-bg-color: #E2EBFA;\n",
              "      --hover-fill-color: #174EA6;\n",
              "      --disabled-fill-color: #AAA;\n",
              "      --disabled-bg-color: #DDD;\n",
              "  }\n",
              "\n",
              "  [theme=dark] .colab-df-quickchart {\n",
              "      --bg-color: #3B4455;\n",
              "      --fill-color: #D2E3FC;\n",
              "      --hover-bg-color: #434B5C;\n",
              "      --hover-fill-color: #FFFFFF;\n",
              "      --disabled-bg-color: #3B4455;\n",
              "      --disabled-fill-color: #666;\n",
              "  }\n",
              "\n",
              "  .colab-df-quickchart {\n",
              "    background-color: var(--bg-color);\n",
              "    border: none;\n",
              "    border-radius: 50%;\n",
              "    cursor: pointer;\n",
              "    display: none;\n",
              "    fill: var(--fill-color);\n",
              "    height: 32px;\n",
              "    padding: 0;\n",
              "    width: 32px;\n",
              "  }\n",
              "\n",
              "  .colab-df-quickchart:hover {\n",
              "    background-color: var(--hover-bg-color);\n",
              "    box-shadow: 0 1px 2px rgba(60, 64, 67, 0.3), 0 1px 3px 1px rgba(60, 64, 67, 0.15);\n",
              "    fill: var(--button-hover-fill-color);\n",
              "  }\n",
              "\n",
              "  .colab-df-quickchart-complete:disabled,\n",
              "  .colab-df-quickchart-complete:disabled:hover {\n",
              "    background-color: var(--disabled-bg-color);\n",
              "    fill: var(--disabled-fill-color);\n",
              "    box-shadow: none;\n",
              "  }\n",
              "\n",
              "  .colab-df-spinner {\n",
              "    border: 2px solid var(--fill-color);\n",
              "    border-color: transparent;\n",
              "    border-bottom-color: var(--fill-color);\n",
              "    animation:\n",
              "      spin 1s steps(1) infinite;\n",
              "  }\n",
              "\n",
              "  @keyframes spin {\n",
              "    0% {\n",
              "      border-color: transparent;\n",
              "      border-bottom-color: var(--fill-color);\n",
              "      border-left-color: var(--fill-color);\n",
              "    }\n",
              "    20% {\n",
              "      border-color: transparent;\n",
              "      border-left-color: var(--fill-color);\n",
              "      border-top-color: var(--fill-color);\n",
              "    }\n",
              "    30% {\n",
              "      border-color: transparent;\n",
              "      border-left-color: var(--fill-color);\n",
              "      border-top-color: var(--fill-color);\n",
              "      border-right-color: var(--fill-color);\n",
              "    }\n",
              "    40% {\n",
              "      border-color: transparent;\n",
              "      border-right-color: var(--fill-color);\n",
              "      border-top-color: var(--fill-color);\n",
              "    }\n",
              "    60% {\n",
              "      border-color: transparent;\n",
              "      border-right-color: var(--fill-color);\n",
              "    }\n",
              "    80% {\n",
              "      border-color: transparent;\n",
              "      border-right-color: var(--fill-color);\n",
              "      border-bottom-color: var(--fill-color);\n",
              "    }\n",
              "    90% {\n",
              "      border-color: transparent;\n",
              "      border-bottom-color: var(--fill-color);\n",
              "    }\n",
              "  }\n",
              "</style>\n",
              "\n",
              "  <script>\n",
              "    async function quickchart(key) {\n",
              "      const quickchartButtonEl =\n",
              "        document.querySelector('#' + key + ' button');\n",
              "      quickchartButtonEl.disabled = true;  // To prevent multiple clicks.\n",
              "      quickchartButtonEl.classList.add('colab-df-spinner');\n",
              "      try {\n",
              "        const charts = await google.colab.kernel.invokeFunction(\n",
              "            'suggestCharts', [key], {});\n",
              "      } catch (error) {\n",
              "        console.error('Error during call to suggestCharts:', error);\n",
              "      }\n",
              "      quickchartButtonEl.classList.remove('colab-df-spinner');\n",
              "      quickchartButtonEl.classList.add('colab-df-quickchart-complete');\n",
              "    }\n",
              "    (() => {\n",
              "      let quickchartButtonEl =\n",
              "        document.querySelector('#df-94b12dc8-cf01-498f-91eb-d82849419e7d button');\n",
              "      quickchartButtonEl.style.display =\n",
              "        google.colab.kernel.accessAllowed ? 'block' : 'none';\n",
              "    })();\n",
              "  </script>\n",
              "</div>\n",
              "\n",
              "    </div>\n",
              "  </div>\n"
            ]
          },
          "metadata": {},
          "execution_count": 9
        }
      ]
    },
    {
      "cell_type": "markdown",
      "source": [
        "Com os valores ausentes tratados, podemos seguir adiante."
      ],
      "metadata": {
        "id": "nSBi5zoG7TkG"
      }
    },
    {
      "cell_type": "markdown",
      "source": [
        "#### *Outra forma de tratar esse problema*"
      ],
      "metadata": {
        "id": "C7S9OvvPvETt"
      }
    },
    {
      "cell_type": "markdown",
      "source": [
        "Existe outra forma de tratar esse problema. Vamos observar um pouco mais cada uma dessas variáveis que possuem valores nulos expressivos, como por exemplo a coluna \"education_PhD\""
      ],
      "metadata": {
        "id": "T75oG2xXvIut"
      }
    },
    {
      "cell_type": "code",
      "source": [
        "#Observando os valores\n",
        "df.education_PhD.value_counts()"
      ],
      "metadata": {
        "colab": {
          "base_uri": "https://localhost:8080/"
        },
        "id": "9qWD4lE0vP17",
        "outputId": "3f4f6be8-3455-4bfa-d160-10886c9e8114"
      },
      "execution_count": null,
      "outputs": [
        {
          "output_type": "execute_result",
          "data": {
            "text/plain": [
              "5.0    476\n",
              "Name: education_PhD, dtype: int64"
            ]
          },
          "metadata": {},
          "execution_count": 76
        }
      ]
    },
    {
      "cell_type": "markdown",
      "source": [
        "Podemos observar que essa coluna possui 476 valores 5.0 e o restante é nulo. Isso pode indicar que as pessoas que não possuem determinadas características podem ser nulas. Sendo assim, é possível transformar essa variável em uma variável booleana do tipo 1 se tiver a característica e 0 se não tiver."
      ],
      "metadata": {
        "id": "_3SCfeYU-OcS"
      }
    },
    {
      "cell_type": "code",
      "source": [
        "#selecionando colunas com nulos\n",
        "colunas_com_nulos = [\"marital_Divorced\"\n",
        ", \"marital_Married\"\n",
        ", \"marital_Single\"\n",
        ", \"marital_Together\"\n",
        ", \"marital_Widow\"\n",
        ", \"education_2n Cycle\"\n",
        ", \"education_Basic\"\n",
        ", \"education_Graduation\"\n",
        ", \"education_Master\"\n",
        ", \"education_PhD\"]"
      ],
      "metadata": {
        "id": "8QZEyD1Y-uoP"
      },
      "execution_count": null,
      "outputs": []
    },
    {
      "cell_type": "code",
      "source": [
        "# Substituindo por booleano\n",
        "for item in colunas_com_nulos:\n",
        "\n",
        "# Se for nulo, substituimos por 0, caso contrário substituimos por 1\n",
        "  df[\"booleano\"+str(item)] = np.where(df[item].isnull(), 0, 1)"
      ],
      "metadata": {
        "id": "nPslQN2q-waf"
      },
      "execution_count": null,
      "outputs": []
    },
    {
      "cell_type": "code",
      "source": [
        "# Observando os dados\n",
        "df.head()"
      ],
      "metadata": {
        "id": "XLrCgKi7-x7-"
      },
      "execution_count": null,
      "outputs": []
    },
    {
      "cell_type": "markdown",
      "source": [
        "Dessa forma, podemos abordar o tratamento dessa variável de uma maneira que nos permita utilizar essas variáveis para possíveis análises no futuro. No momento, vamos adotar essa estratégia."
      ],
      "metadata": {
        "id": "7uwRb0sL-0N-"
      }
    },
    {
      "cell_type": "markdown",
      "source": [
        "### **Qual é a média, mediana, 25 percentil, 75 percentil, mínimo e máximo de cada uma das colunas numéricas?**"
      ],
      "metadata": {
        "id": "voPM4GWM7fF-"
      }
    },
    {
      "cell_type": "markdown",
      "source": [
        "Como este dataset possui bastante colunas, vamos utilizar o seguinte método para que todas as colunas sejam exibidas corretamente."
      ],
      "metadata": {
        "id": "Ml0ujT6o8FqB"
      }
    },
    {
      "cell_type": "code",
      "source": [
        "# Configurar para exibir todas as colunas\n",
        "pd.set_option('display.max_columns', None)"
      ],
      "metadata": {
        "id": "YskjhmT68BsC"
      },
      "execution_count": null,
      "outputs": []
    },
    {
      "cell_type": "markdown",
      "source": [
        "Vamos utilizar o método 'describe' para observar essas informações de todas as colunas numéricas de uma só vez."
      ],
      "metadata": {
        "id": "8jCyVXHB7hIW"
      }
    },
    {
      "cell_type": "code",
      "source": [
        "# Resumo estatístico\n",
        "df.describe()"
      ],
      "metadata": {
        "colab": {
          "base_uri": "https://localhost:8080/",
          "height": 320
        },
        "id": "THL0zKFD7mqG",
        "outputId": "5dcf4a3b-0473-47fc-fa9d-1d86af83b640"
      },
      "execution_count": null,
      "outputs": [
        {
          "output_type": "execute_result",
          "data": {
            "text/plain": [
              "              Income      Kidhome     Teenhome      Recency     MntWines  \\\n",
              "count    2205.000000  2205.000000  2205.000000  2205.000000  2205.000000   \n",
              "mean    51622.094785     0.442177     0.506576    49.009070   306.164626   \n",
              "std     20713.063826     0.537132     0.544380    28.932111   337.493839   \n",
              "min      1730.000000     0.000000     0.000000     0.000000     0.000000   \n",
              "25%     35196.000000     0.000000     0.000000    24.000000    24.000000   \n",
              "50%     51287.000000     0.000000     0.000000    49.000000   178.000000   \n",
              "75%     68281.000000     1.000000     1.000000    74.000000   507.000000   \n",
              "max    113734.000000     2.000000     2.000000    99.000000  1493.000000   \n",
              "\n",
              "         MntFruits  MntMeatProducts  MntFishProducts  MntSweetProducts  \\\n",
              "count  2205.000000      2205.000000      2205.000000       2205.000000   \n",
              "mean     26.403175       165.312018        37.756463         27.128345   \n",
              "std      39.784484       217.784507        54.824635         41.130468   \n",
              "min       0.000000         0.000000         0.000000          0.000000   \n",
              "25%       2.000000        16.000000         3.000000          1.000000   \n",
              "50%       8.000000        68.000000        12.000000          8.000000   \n",
              "75%      33.000000       232.000000        50.000000         34.000000   \n",
              "max     199.000000      1725.000000       259.000000        262.000000   \n",
              "\n",
              "       MntGoldProds  NumDealsPurchases  NumWebPurchases  NumCatalogPurchases  \\\n",
              "count   2205.000000        2205.000000      2205.000000          2205.000000   \n",
              "mean      44.057143           2.318367         4.100680             2.645351   \n",
              "std       51.736211           1.886107         2.737424             2.798647   \n",
              "min        0.000000           0.000000         0.000000             0.000000   \n",
              "25%        9.000000           1.000000         2.000000             0.000000   \n",
              "50%       25.000000           2.000000         4.000000             2.000000   \n",
              "75%       56.000000           3.000000         6.000000             4.000000   \n",
              "max      321.000000          15.000000        27.000000            28.000000   \n",
              "\n",
              "       NumStorePurchases  NumWebVisitsMonth  AcceptedCmp3  AcceptedCmp4  \\\n",
              "count        2205.000000        2205.000000   2205.000000   2205.000000   \n",
              "mean            5.823583           5.336961      0.073923      0.074376   \n",
              "std             3.241796           2.413535      0.261705      0.262442   \n",
              "min             0.000000           0.000000      0.000000      0.000000   \n",
              "25%             3.000000           3.000000      0.000000      0.000000   \n",
              "50%             5.000000           6.000000      0.000000      0.000000   \n",
              "75%             8.000000           7.000000      0.000000      0.000000   \n",
              "max            13.000000          20.000000      1.000000      1.000000   \n",
              "\n",
              "       AcceptedCmp5  AcceptedCmp1  AcceptedCmp2     Complain  Z_CostContact  \\\n",
              "count   2205.000000   2205.000000   2205.000000  2205.000000         2205.0   \n",
              "mean       0.073016      0.064399      0.013605     0.009070            3.0   \n",
              "std        0.260222      0.245518      0.115872     0.094827            0.0   \n",
              "min        0.000000      0.000000      0.000000     0.000000            3.0   \n",
              "25%        0.000000      0.000000      0.000000     0.000000            3.0   \n",
              "50%        0.000000      0.000000      0.000000     0.000000            3.0   \n",
              "75%        0.000000      0.000000      0.000000     0.000000            3.0   \n",
              "max        1.000000      1.000000      1.000000     1.000000            3.0   \n",
              "\n",
              "       Z_Revenue    Response          Age  Customer_Days     MntTotal  \\\n",
              "count     2205.0  2205.00000  2205.000000    2205.000000  2205.000000   \n",
              "mean        11.0     0.15102    51.095692    2512.718367   562.764626   \n",
              "std          0.0     0.35815    11.705801     202.563647   575.936911   \n",
              "min         11.0     0.00000    24.000000    2159.000000     4.000000   \n",
              "25%         11.0     0.00000    43.000000    2339.000000    56.000000   \n",
              "50%         11.0     0.00000    50.000000    2515.000000   343.000000   \n",
              "75%         11.0     0.00000    61.000000    2688.000000   964.000000   \n",
              "max         11.0     1.00000    80.000000    2858.000000  2491.000000   \n",
              "\n",
              "       MntRegularProds  AcceptedCmpOverall         kids     expenses  \n",
              "count      2205.000000          2205.00000  2205.000000  2205.000000  \n",
              "mean        518.707483             0.29932     0.948753   562.764626  \n",
              "std         553.847248             0.68044     0.749231   575.936911  \n",
              "min        -283.000000             0.00000     0.000000     4.000000  \n",
              "25%          42.000000             0.00000     0.000000    56.000000  \n",
              "50%         288.000000             0.00000     1.000000   343.000000  \n",
              "75%         884.000000             0.00000     1.000000   964.000000  \n",
              "max        2458.000000             4.00000     3.000000  2491.000000  "
            ],
            "text/html": [
              "\n",
              "  <div id=\"df-fd0b7610-8b93-4b2a-8e1f-efc72fbbad90\" class=\"colab-df-container\">\n",
              "    <div>\n",
              "<style scoped>\n",
              "    .dataframe tbody tr th:only-of-type {\n",
              "        vertical-align: middle;\n",
              "    }\n",
              "\n",
              "    .dataframe tbody tr th {\n",
              "        vertical-align: top;\n",
              "    }\n",
              "\n",
              "    .dataframe thead th {\n",
              "        text-align: right;\n",
              "    }\n",
              "</style>\n",
              "<table border=\"1\" class=\"dataframe\">\n",
              "  <thead>\n",
              "    <tr style=\"text-align: right;\">\n",
              "      <th></th>\n",
              "      <th>Income</th>\n",
              "      <th>Kidhome</th>\n",
              "      <th>Teenhome</th>\n",
              "      <th>Recency</th>\n",
              "      <th>MntWines</th>\n",
              "      <th>MntFruits</th>\n",
              "      <th>MntMeatProducts</th>\n",
              "      <th>MntFishProducts</th>\n",
              "      <th>MntSweetProducts</th>\n",
              "      <th>MntGoldProds</th>\n",
              "      <th>NumDealsPurchases</th>\n",
              "      <th>NumWebPurchases</th>\n",
              "      <th>NumCatalogPurchases</th>\n",
              "      <th>NumStorePurchases</th>\n",
              "      <th>NumWebVisitsMonth</th>\n",
              "      <th>AcceptedCmp3</th>\n",
              "      <th>AcceptedCmp4</th>\n",
              "      <th>AcceptedCmp5</th>\n",
              "      <th>AcceptedCmp1</th>\n",
              "      <th>AcceptedCmp2</th>\n",
              "      <th>Complain</th>\n",
              "      <th>Z_CostContact</th>\n",
              "      <th>Z_Revenue</th>\n",
              "      <th>Response</th>\n",
              "      <th>Age</th>\n",
              "      <th>Customer_Days</th>\n",
              "      <th>MntTotal</th>\n",
              "      <th>MntRegularProds</th>\n",
              "      <th>AcceptedCmpOverall</th>\n",
              "      <th>kids</th>\n",
              "      <th>expenses</th>\n",
              "    </tr>\n",
              "  </thead>\n",
              "  <tbody>\n",
              "    <tr>\n",
              "      <th>count</th>\n",
              "      <td>2205.000000</td>\n",
              "      <td>2205.000000</td>\n",
              "      <td>2205.000000</td>\n",
              "      <td>2205.000000</td>\n",
              "      <td>2205.000000</td>\n",
              "      <td>2205.000000</td>\n",
              "      <td>2205.000000</td>\n",
              "      <td>2205.000000</td>\n",
              "      <td>2205.000000</td>\n",
              "      <td>2205.000000</td>\n",
              "      <td>2205.000000</td>\n",
              "      <td>2205.000000</td>\n",
              "      <td>2205.000000</td>\n",
              "      <td>2205.000000</td>\n",
              "      <td>2205.000000</td>\n",
              "      <td>2205.000000</td>\n",
              "      <td>2205.000000</td>\n",
              "      <td>2205.000000</td>\n",
              "      <td>2205.000000</td>\n",
              "      <td>2205.000000</td>\n",
              "      <td>2205.000000</td>\n",
              "      <td>2205.0</td>\n",
              "      <td>2205.0</td>\n",
              "      <td>2205.00000</td>\n",
              "      <td>2205.000000</td>\n",
              "      <td>2205.000000</td>\n",
              "      <td>2205.000000</td>\n",
              "      <td>2205.000000</td>\n",
              "      <td>2205.00000</td>\n",
              "      <td>2205.000000</td>\n",
              "      <td>2205.000000</td>\n",
              "    </tr>\n",
              "    <tr>\n",
              "      <th>mean</th>\n",
              "      <td>51622.094785</td>\n",
              "      <td>0.442177</td>\n",
              "      <td>0.506576</td>\n",
              "      <td>49.009070</td>\n",
              "      <td>306.164626</td>\n",
              "      <td>26.403175</td>\n",
              "      <td>165.312018</td>\n",
              "      <td>37.756463</td>\n",
              "      <td>27.128345</td>\n",
              "      <td>44.057143</td>\n",
              "      <td>2.318367</td>\n",
              "      <td>4.100680</td>\n",
              "      <td>2.645351</td>\n",
              "      <td>5.823583</td>\n",
              "      <td>5.336961</td>\n",
              "      <td>0.073923</td>\n",
              "      <td>0.074376</td>\n",
              "      <td>0.073016</td>\n",
              "      <td>0.064399</td>\n",
              "      <td>0.013605</td>\n",
              "      <td>0.009070</td>\n",
              "      <td>3.0</td>\n",
              "      <td>11.0</td>\n",
              "      <td>0.15102</td>\n",
              "      <td>51.095692</td>\n",
              "      <td>2512.718367</td>\n",
              "      <td>562.764626</td>\n",
              "      <td>518.707483</td>\n",
              "      <td>0.29932</td>\n",
              "      <td>0.948753</td>\n",
              "      <td>562.764626</td>\n",
              "    </tr>\n",
              "    <tr>\n",
              "      <th>std</th>\n",
              "      <td>20713.063826</td>\n",
              "      <td>0.537132</td>\n",
              "      <td>0.544380</td>\n",
              "      <td>28.932111</td>\n",
              "      <td>337.493839</td>\n",
              "      <td>39.784484</td>\n",
              "      <td>217.784507</td>\n",
              "      <td>54.824635</td>\n",
              "      <td>41.130468</td>\n",
              "      <td>51.736211</td>\n",
              "      <td>1.886107</td>\n",
              "      <td>2.737424</td>\n",
              "      <td>2.798647</td>\n",
              "      <td>3.241796</td>\n",
              "      <td>2.413535</td>\n",
              "      <td>0.261705</td>\n",
              "      <td>0.262442</td>\n",
              "      <td>0.260222</td>\n",
              "      <td>0.245518</td>\n",
              "      <td>0.115872</td>\n",
              "      <td>0.094827</td>\n",
              "      <td>0.0</td>\n",
              "      <td>0.0</td>\n",
              "      <td>0.35815</td>\n",
              "      <td>11.705801</td>\n",
              "      <td>202.563647</td>\n",
              "      <td>575.936911</td>\n",
              "      <td>553.847248</td>\n",
              "      <td>0.68044</td>\n",
              "      <td>0.749231</td>\n",
              "      <td>575.936911</td>\n",
              "    </tr>\n",
              "    <tr>\n",
              "      <th>min</th>\n",
              "      <td>1730.000000</td>\n",
              "      <td>0.000000</td>\n",
              "      <td>0.000000</td>\n",
              "      <td>0.000000</td>\n",
              "      <td>0.000000</td>\n",
              "      <td>0.000000</td>\n",
              "      <td>0.000000</td>\n",
              "      <td>0.000000</td>\n",
              "      <td>0.000000</td>\n",
              "      <td>0.000000</td>\n",
              "      <td>0.000000</td>\n",
              "      <td>0.000000</td>\n",
              "      <td>0.000000</td>\n",
              "      <td>0.000000</td>\n",
              "      <td>0.000000</td>\n",
              "      <td>0.000000</td>\n",
              "      <td>0.000000</td>\n",
              "      <td>0.000000</td>\n",
              "      <td>0.000000</td>\n",
              "      <td>0.000000</td>\n",
              "      <td>0.000000</td>\n",
              "      <td>3.0</td>\n",
              "      <td>11.0</td>\n",
              "      <td>0.00000</td>\n",
              "      <td>24.000000</td>\n",
              "      <td>2159.000000</td>\n",
              "      <td>4.000000</td>\n",
              "      <td>-283.000000</td>\n",
              "      <td>0.00000</td>\n",
              "      <td>0.000000</td>\n",
              "      <td>4.000000</td>\n",
              "    </tr>\n",
              "    <tr>\n",
              "      <th>25%</th>\n",
              "      <td>35196.000000</td>\n",
              "      <td>0.000000</td>\n",
              "      <td>0.000000</td>\n",
              "      <td>24.000000</td>\n",
              "      <td>24.000000</td>\n",
              "      <td>2.000000</td>\n",
              "      <td>16.000000</td>\n",
              "      <td>3.000000</td>\n",
              "      <td>1.000000</td>\n",
              "      <td>9.000000</td>\n",
              "      <td>1.000000</td>\n",
              "      <td>2.000000</td>\n",
              "      <td>0.000000</td>\n",
              "      <td>3.000000</td>\n",
              "      <td>3.000000</td>\n",
              "      <td>0.000000</td>\n",
              "      <td>0.000000</td>\n",
              "      <td>0.000000</td>\n",
              "      <td>0.000000</td>\n",
              "      <td>0.000000</td>\n",
              "      <td>0.000000</td>\n",
              "      <td>3.0</td>\n",
              "      <td>11.0</td>\n",
              "      <td>0.00000</td>\n",
              "      <td>43.000000</td>\n",
              "      <td>2339.000000</td>\n",
              "      <td>56.000000</td>\n",
              "      <td>42.000000</td>\n",
              "      <td>0.00000</td>\n",
              "      <td>0.000000</td>\n",
              "      <td>56.000000</td>\n",
              "    </tr>\n",
              "    <tr>\n",
              "      <th>50%</th>\n",
              "      <td>51287.000000</td>\n",
              "      <td>0.000000</td>\n",
              "      <td>0.000000</td>\n",
              "      <td>49.000000</td>\n",
              "      <td>178.000000</td>\n",
              "      <td>8.000000</td>\n",
              "      <td>68.000000</td>\n",
              "      <td>12.000000</td>\n",
              "      <td>8.000000</td>\n",
              "      <td>25.000000</td>\n",
              "      <td>2.000000</td>\n",
              "      <td>4.000000</td>\n",
              "      <td>2.000000</td>\n",
              "      <td>5.000000</td>\n",
              "      <td>6.000000</td>\n",
              "      <td>0.000000</td>\n",
              "      <td>0.000000</td>\n",
              "      <td>0.000000</td>\n",
              "      <td>0.000000</td>\n",
              "      <td>0.000000</td>\n",
              "      <td>0.000000</td>\n",
              "      <td>3.0</td>\n",
              "      <td>11.0</td>\n",
              "      <td>0.00000</td>\n",
              "      <td>50.000000</td>\n",
              "      <td>2515.000000</td>\n",
              "      <td>343.000000</td>\n",
              "      <td>288.000000</td>\n",
              "      <td>0.00000</td>\n",
              "      <td>1.000000</td>\n",
              "      <td>343.000000</td>\n",
              "    </tr>\n",
              "    <tr>\n",
              "      <th>75%</th>\n",
              "      <td>68281.000000</td>\n",
              "      <td>1.000000</td>\n",
              "      <td>1.000000</td>\n",
              "      <td>74.000000</td>\n",
              "      <td>507.000000</td>\n",
              "      <td>33.000000</td>\n",
              "      <td>232.000000</td>\n",
              "      <td>50.000000</td>\n",
              "      <td>34.000000</td>\n",
              "      <td>56.000000</td>\n",
              "      <td>3.000000</td>\n",
              "      <td>6.000000</td>\n",
              "      <td>4.000000</td>\n",
              "      <td>8.000000</td>\n",
              "      <td>7.000000</td>\n",
              "      <td>0.000000</td>\n",
              "      <td>0.000000</td>\n",
              "      <td>0.000000</td>\n",
              "      <td>0.000000</td>\n",
              "      <td>0.000000</td>\n",
              "      <td>0.000000</td>\n",
              "      <td>3.0</td>\n",
              "      <td>11.0</td>\n",
              "      <td>0.00000</td>\n",
              "      <td>61.000000</td>\n",
              "      <td>2688.000000</td>\n",
              "      <td>964.000000</td>\n",
              "      <td>884.000000</td>\n",
              "      <td>0.00000</td>\n",
              "      <td>1.000000</td>\n",
              "      <td>964.000000</td>\n",
              "    </tr>\n",
              "    <tr>\n",
              "      <th>max</th>\n",
              "      <td>113734.000000</td>\n",
              "      <td>2.000000</td>\n",
              "      <td>2.000000</td>\n",
              "      <td>99.000000</td>\n",
              "      <td>1493.000000</td>\n",
              "      <td>199.000000</td>\n",
              "      <td>1725.000000</td>\n",
              "      <td>259.000000</td>\n",
              "      <td>262.000000</td>\n",
              "      <td>321.000000</td>\n",
              "      <td>15.000000</td>\n",
              "      <td>27.000000</td>\n",
              "      <td>28.000000</td>\n",
              "      <td>13.000000</td>\n",
              "      <td>20.000000</td>\n",
              "      <td>1.000000</td>\n",
              "      <td>1.000000</td>\n",
              "      <td>1.000000</td>\n",
              "      <td>1.000000</td>\n",
              "      <td>1.000000</td>\n",
              "      <td>1.000000</td>\n",
              "      <td>3.0</td>\n",
              "      <td>11.0</td>\n",
              "      <td>1.00000</td>\n",
              "      <td>80.000000</td>\n",
              "      <td>2858.000000</td>\n",
              "      <td>2491.000000</td>\n",
              "      <td>2458.000000</td>\n",
              "      <td>4.00000</td>\n",
              "      <td>3.000000</td>\n",
              "      <td>2491.000000</td>\n",
              "    </tr>\n",
              "  </tbody>\n",
              "</table>\n",
              "</div>\n",
              "    <div class=\"colab-df-buttons\">\n",
              "\n",
              "  <div class=\"colab-df-container\">\n",
              "    <button class=\"colab-df-convert\" onclick=\"convertToInteractive('df-fd0b7610-8b93-4b2a-8e1f-efc72fbbad90')\"\n",
              "            title=\"Convert this dataframe to an interactive table.\"\n",
              "            style=\"display:none;\">\n",
              "\n",
              "  <svg xmlns=\"http://www.w3.org/2000/svg\" height=\"24px\" viewBox=\"0 -960 960 960\">\n",
              "    <path d=\"M120-120v-720h720v720H120Zm60-500h600v-160H180v160Zm220 220h160v-160H400v160Zm0 220h160v-160H400v160ZM180-400h160v-160H180v160Zm440 0h160v-160H620v160ZM180-180h160v-160H180v160Zm440 0h160v-160H620v160Z\"/>\n",
              "  </svg>\n",
              "    </button>\n",
              "\n",
              "  <style>\n",
              "    .colab-df-container {\n",
              "      display:flex;\n",
              "      gap: 12px;\n",
              "    }\n",
              "\n",
              "    .colab-df-convert {\n",
              "      background-color: #E8F0FE;\n",
              "      border: none;\n",
              "      border-radius: 50%;\n",
              "      cursor: pointer;\n",
              "      display: none;\n",
              "      fill: #1967D2;\n",
              "      height: 32px;\n",
              "      padding: 0 0 0 0;\n",
              "      width: 32px;\n",
              "    }\n",
              "\n",
              "    .colab-df-convert:hover {\n",
              "      background-color: #E2EBFA;\n",
              "      box-shadow: 0px 1px 2px rgba(60, 64, 67, 0.3), 0px 1px 3px 1px rgba(60, 64, 67, 0.15);\n",
              "      fill: #174EA6;\n",
              "    }\n",
              "\n",
              "    .colab-df-buttons div {\n",
              "      margin-bottom: 4px;\n",
              "    }\n",
              "\n",
              "    [theme=dark] .colab-df-convert {\n",
              "      background-color: #3B4455;\n",
              "      fill: #D2E3FC;\n",
              "    }\n",
              "\n",
              "    [theme=dark] .colab-df-convert:hover {\n",
              "      background-color: #434B5C;\n",
              "      box-shadow: 0px 1px 3px 1px rgba(0, 0, 0, 0.15);\n",
              "      filter: drop-shadow(0px 1px 2px rgba(0, 0, 0, 0.3));\n",
              "      fill: #FFFFFF;\n",
              "    }\n",
              "  </style>\n",
              "\n",
              "    <script>\n",
              "      const buttonEl =\n",
              "        document.querySelector('#df-fd0b7610-8b93-4b2a-8e1f-efc72fbbad90 button.colab-df-convert');\n",
              "      buttonEl.style.display =\n",
              "        google.colab.kernel.accessAllowed ? 'block' : 'none';\n",
              "\n",
              "      async function convertToInteractive(key) {\n",
              "        const element = document.querySelector('#df-fd0b7610-8b93-4b2a-8e1f-efc72fbbad90');\n",
              "        const dataTable =\n",
              "          await google.colab.kernel.invokeFunction('convertToInteractive',\n",
              "                                                    [key], {});\n",
              "        if (!dataTable) return;\n",
              "\n",
              "        const docLinkHtml = 'Like what you see? Visit the ' +\n",
              "          '<a target=\"_blank\" href=https://colab.research.google.com/notebooks/data_table.ipynb>data table notebook</a>'\n",
              "          + ' to learn more about interactive tables.';\n",
              "        element.innerHTML = '';\n",
              "        dataTable['output_type'] = 'display_data';\n",
              "        await google.colab.output.renderOutput(dataTable, element);\n",
              "        const docLink = document.createElement('div');\n",
              "        docLink.innerHTML = docLinkHtml;\n",
              "        element.appendChild(docLink);\n",
              "      }\n",
              "    </script>\n",
              "  </div>\n",
              "\n",
              "\n",
              "<div id=\"df-4a65f2ea-8740-4297-9638-87b8cb8d42b4\">\n",
              "  <button class=\"colab-df-quickchart\" onclick=\"quickchart('df-4a65f2ea-8740-4297-9638-87b8cb8d42b4')\"\n",
              "            title=\"Suggest charts\"\n",
              "            style=\"display:none;\">\n",
              "\n",
              "<svg xmlns=\"http://www.w3.org/2000/svg\" height=\"24px\"viewBox=\"0 0 24 24\"\n",
              "     width=\"24px\">\n",
              "    <g>\n",
              "        <path d=\"M19 3H5c-1.1 0-2 .9-2 2v14c0 1.1.9 2 2 2h14c1.1 0 2-.9 2-2V5c0-1.1-.9-2-2-2zM9 17H7v-7h2v7zm4 0h-2V7h2v10zm4 0h-2v-4h2v4z\"/>\n",
              "    </g>\n",
              "</svg>\n",
              "  </button>\n",
              "\n",
              "<style>\n",
              "  .colab-df-quickchart {\n",
              "      --bg-color: #E8F0FE;\n",
              "      --fill-color: #1967D2;\n",
              "      --hover-bg-color: #E2EBFA;\n",
              "      --hover-fill-color: #174EA6;\n",
              "      --disabled-fill-color: #AAA;\n",
              "      --disabled-bg-color: #DDD;\n",
              "  }\n",
              "\n",
              "  [theme=dark] .colab-df-quickchart {\n",
              "      --bg-color: #3B4455;\n",
              "      --fill-color: #D2E3FC;\n",
              "      --hover-bg-color: #434B5C;\n",
              "      --hover-fill-color: #FFFFFF;\n",
              "      --disabled-bg-color: #3B4455;\n",
              "      --disabled-fill-color: #666;\n",
              "  }\n",
              "\n",
              "  .colab-df-quickchart {\n",
              "    background-color: var(--bg-color);\n",
              "    border: none;\n",
              "    border-radius: 50%;\n",
              "    cursor: pointer;\n",
              "    display: none;\n",
              "    fill: var(--fill-color);\n",
              "    height: 32px;\n",
              "    padding: 0;\n",
              "    width: 32px;\n",
              "  }\n",
              "\n",
              "  .colab-df-quickchart:hover {\n",
              "    background-color: var(--hover-bg-color);\n",
              "    box-shadow: 0 1px 2px rgba(60, 64, 67, 0.3), 0 1px 3px 1px rgba(60, 64, 67, 0.15);\n",
              "    fill: var(--button-hover-fill-color);\n",
              "  }\n",
              "\n",
              "  .colab-df-quickchart-complete:disabled,\n",
              "  .colab-df-quickchart-complete:disabled:hover {\n",
              "    background-color: var(--disabled-bg-color);\n",
              "    fill: var(--disabled-fill-color);\n",
              "    box-shadow: none;\n",
              "  }\n",
              "\n",
              "  .colab-df-spinner {\n",
              "    border: 2px solid var(--fill-color);\n",
              "    border-color: transparent;\n",
              "    border-bottom-color: var(--fill-color);\n",
              "    animation:\n",
              "      spin 1s steps(1) infinite;\n",
              "  }\n",
              "\n",
              "  @keyframes spin {\n",
              "    0% {\n",
              "      border-color: transparent;\n",
              "      border-bottom-color: var(--fill-color);\n",
              "      border-left-color: var(--fill-color);\n",
              "    }\n",
              "    20% {\n",
              "      border-color: transparent;\n",
              "      border-left-color: var(--fill-color);\n",
              "      border-top-color: var(--fill-color);\n",
              "    }\n",
              "    30% {\n",
              "      border-color: transparent;\n",
              "      border-left-color: var(--fill-color);\n",
              "      border-top-color: var(--fill-color);\n",
              "      border-right-color: var(--fill-color);\n",
              "    }\n",
              "    40% {\n",
              "      border-color: transparent;\n",
              "      border-right-color: var(--fill-color);\n",
              "      border-top-color: var(--fill-color);\n",
              "    }\n",
              "    60% {\n",
              "      border-color: transparent;\n",
              "      border-right-color: var(--fill-color);\n",
              "    }\n",
              "    80% {\n",
              "      border-color: transparent;\n",
              "      border-right-color: var(--fill-color);\n",
              "      border-bottom-color: var(--fill-color);\n",
              "    }\n",
              "    90% {\n",
              "      border-color: transparent;\n",
              "      border-bottom-color: var(--fill-color);\n",
              "    }\n",
              "  }\n",
              "</style>\n",
              "\n",
              "  <script>\n",
              "    async function quickchart(key) {\n",
              "      const quickchartButtonEl =\n",
              "        document.querySelector('#' + key + ' button');\n",
              "      quickchartButtonEl.disabled = true;  // To prevent multiple clicks.\n",
              "      quickchartButtonEl.classList.add('colab-df-spinner');\n",
              "      try {\n",
              "        const charts = await google.colab.kernel.invokeFunction(\n",
              "            'suggestCharts', [key], {});\n",
              "      } catch (error) {\n",
              "        console.error('Error during call to suggestCharts:', error);\n",
              "      }\n",
              "      quickchartButtonEl.classList.remove('colab-df-spinner');\n",
              "      quickchartButtonEl.classList.add('colab-df-quickchart-complete');\n",
              "    }\n",
              "    (() => {\n",
              "      let quickchartButtonEl =\n",
              "        document.querySelector('#df-4a65f2ea-8740-4297-9638-87b8cb8d42b4 button');\n",
              "      quickchartButtonEl.style.display =\n",
              "        google.colab.kernel.accessAllowed ? 'block' : 'none';\n",
              "    })();\n",
              "  </script>\n",
              "</div>\n",
              "\n",
              "    </div>\n",
              "  </div>\n"
            ]
          },
          "metadata": {},
          "execution_count": 11
        }
      ]
    },
    {
      "cell_type": "markdown",
      "source": [
        "Dessa forma, podemos observar algumas medidas interessantes, como a média de renda, que é de 51.622.\n",
        "\n",
        "Na coluna \"recency\", que representa o número de dias desde a última compra, a média é de 49 dias, e o maior número de dias que alguém está sem comprar foi 99 dias.\n",
        "\n",
        "A média de gastos nos últimos dois anos em vinho é bem superior à de frutas, peixes e doces. No entanto, podemos notar uma mediana bem diferente da média, o que pode ser um indicativo de que existem outliers nessas colunas.\n",
        "\n",
        "Na coluna \"NumWebPurchases\", que indica o número de compras através de websites, a média de pedidos é de 4, que por sinal está bem próxima da mediana.\n",
        "\n",
        "Aparentemente, a maior média de pedidos é feita diretamente na loja, já que eles atingem uma média de 5 pedidos.\n",
        "\n",
        "A média de idade dessa base é de 51 anos."
      ],
      "metadata": {
        "id": "ik-zGXHsOmYB"
      }
    },
    {
      "cell_type": "markdown",
      "source": [
        "Essas são algumas informações que foram possíveis tirar dos dados nesse momento. Vamos seguir com a nossa análise."
      ],
      "metadata": {
        "id": "TwDGYiJLTGn_"
      }
    },
    {
      "cell_type": "markdown",
      "source": [
        "## **Entendendo o perfil dos clientes**"
      ],
      "metadata": {
        "id": "xAklZWKXTO8V"
      }
    },
    {
      "cell_type": "markdown",
      "source": [
        "Nessa parte vamos utilizar alguns conceitos estatisticos para tentar entender melhor o perfil dos clientes nessa base, para isso precisamos estabelecer algumas perguntas como por exemplo:\n",
        "\n",
        "- Qual é o maior salário encontrado na nossa base?\n",
        "- Qual é a distribuição de salário na nossa base? Temos clientes que ganham muito bem e outros que não ganham muito bem? Veja na coluna Income\n",
        "- Nossos clientes tem níveis de educação maiores ou menores? Veja na coluna education_level\n",
        "- Quantos clientes temos em cada estado civil? Veja na coluna marital_status"
      ],
      "metadata": {
        "id": "Hz1Q0l8eTZmt"
      }
    },
    {
      "cell_type": "markdown",
      "source": [
        "Agora que já sabemos as perguntas, vamos partir para a resolução das mesmas."
      ],
      "metadata": {
        "id": "epDfZiLZT7cL"
      }
    },
    {
      "cell_type": "markdown",
      "source": [
        "### **Qual é o maior salário encontrado na nossa base?**"
      ],
      "metadata": {
        "id": "BkSd-F5ST7wJ"
      }
    },
    {
      "cell_type": "markdown",
      "source": [
        "Vamos utilizar novamente a função 'describe()' para obtermos um resumo estatístico da nossa variável renda."
      ],
      "metadata": {
        "id": "uOnGuG5KVblX"
      }
    },
    {
      "cell_type": "code",
      "source": [
        "# Resumo estatístico\n",
        "df['Income'].describe()"
      ],
      "metadata": {
        "colab": {
          "base_uri": "https://localhost:8080/"
        },
        "id": "4KP_ptpIUDTY",
        "outputId": "4bbbb21c-ee1c-413f-a194-f7d6529b3aaf"
      },
      "execution_count": null,
      "outputs": [
        {
          "output_type": "execute_result",
          "data": {
            "text/plain": [
              "count      2205.000000\n",
              "mean      51622.094785\n",
              "std       20713.063826\n",
              "min        1730.000000\n",
              "25%       35196.000000\n",
              "50%       51287.000000\n",
              "75%       68281.000000\n",
              "max      113734.000000\n",
              "Name: Income, dtype: float64"
            ]
          },
          "metadata": {},
          "execution_count": 12
        }
      ]
    },
    {
      "cell_type": "markdown",
      "source": [
        "Podemos observar que a maior renda presente nessa base é de 113 mil, e a menor é de 1730."
      ],
      "metadata": {
        "id": "QuMP24YqULW_"
      }
    },
    {
      "cell_type": "markdown",
      "source": [
        "### **Qual é a distribuição de salário na nossa base? Temos clientes que ganham muito bem e outros que não ganham muito bem?**"
      ],
      "metadata": {
        "id": "9XmchFQ-UY91"
      }
    },
    {
      "cell_type": "markdown",
      "source": [
        "Para respondermos a essa pergunta, será necessário a criação de um gráfico de Distribuição."
      ],
      "metadata": {
        "id": "FDWfXZBhVuAs"
      }
    },
    {
      "cell_type": "code",
      "source": [
        "# Criando o gráfico\n",
        "sns.histplot(df['Income'], kde = True)\n",
        "plt.title(\"Distribuição (Income)\");"
      ],
      "metadata": {
        "colab": {
          "base_uri": "https://localhost:8080/",
          "height": 472
        },
        "id": "Ce_NyPSQVm7U",
        "outputId": "64962a4a-6f23-4f75-d457-c8822cd6548d"
      },
      "execution_count": null,
      "outputs": [
        {
          "output_type": "display_data",
          "data": {
            "text/plain": [
              "<Figure size 640x480 with 1 Axes>"
            ],
            "image/png": "[encoded data removed]"
          },
          "metadata": {}
        }
      ]
    },
    {
      "cell_type": "markdown",
      "source": [
        "Podemos observar que realmente existem pessoas que ganham muito e outras que ganham pouco."
      ],
      "metadata": {
        "id": "TXNbXejbVkjl"
      }
    },
    {
      "cell_type": "markdown",
      "source": [
        "Vamos verificar a presença de outliers nessa coluna."
      ],
      "metadata": {
        "id": "YdLbPLfTisWS"
      }
    },
    {
      "cell_type": "code",
      "source": [
        "# Criando o boxplot\n",
        "sns.boxplot(df['Income'])\n",
        "plt.title(\"Income\");"
      ],
      "metadata": {
        "colab": {
          "base_uri": "https://localhost:8080/",
          "height": 433
        },
        "id": "R3FLjLW7ivAQ",
        "outputId": "9b786640-4cb6-4224-9ac9-846ffd5ed674"
      },
      "execution_count": null,
      "outputs": [
        {
          "output_type": "display_data",
          "data": {
            "text/plain": [
              "<Figure size 640x480 with 1 Axes>"
            ],
            "image/png": "[encoded data removed]"
          },
          "metadata": {}
        }
      ]
    },
    {
      "cell_type": "markdown",
      "source": [
        "Com esse boxplot, podemos observar que nessa coluna, não existem outliers. Podemos afirmar que, provavelmente, a média e a mediana serão bem próximas uma da outra."
      ],
      "metadata": {
        "id": "0FO0LVySi_uW"
      }
    },
    {
      "cell_type": "code",
      "source": [
        "# Calculando a média\n",
        "media_income = df['Income'].mean().round(2)\n",
        "\n",
        "# Calculando a mediana\n",
        "mediana_income = df['Income'].median().round(2)\n",
        "\n",
        "# Exibindo os valores\n",
        "print(f\"A média é {media_income} e a mediana é {mediana_income}\")"
      ],
      "metadata": {
        "colab": {
          "base_uri": "https://localhost:8080/"
        },
        "id": "Q8A1fk6Ki6ZB",
        "outputId": "ea3e3c99-3db5-462a-a4a6-83c7732c40a2"
      },
      "execution_count": null,
      "outputs": [
        {
          "output_type": "stream",
          "name": "stdout",
          "text": [
            "A média é 51622.09 e a mediana é 51287.0\n"
          ]
        }
      ]
    },
    {
      "cell_type": "markdown",
      "source": [
        "Como suspeitamos anteriormente, a média e a mediana estão próximas. Agora, vamos observar a dispersão dos dados."
      ],
      "metadata": {
        "id": "WA3HE3qTjcKr"
      }
    },
    {
      "cell_type": "code",
      "source": [
        "# Calculando o desvio padrão\n",
        "desvio = df['Income'].std().round(2)\n",
        "\n",
        "# Calculando o coeficiente de variância\n",
        "coef_var =  round((desvio/df['Income'].mean())*100, 2)\n",
        "\n",
        "print(f\"Os dados diferem da média cerca de {desvio} unidades. Essa diferença representa cerca de {coef_var}% da média.\")"
      ],
      "metadata": {
        "colab": {
          "base_uri": "https://localhost:8080/"
        },
        "id": "Bgiqp53xi9r_",
        "outputId": "6303f737-1619-4183-8e4f-836766e2c80a"
      },
      "execution_count": null,
      "outputs": [
        {
          "output_type": "stream",
          "name": "stdout",
          "text": [
            "Os dados diferem da média cerca de 20713.06 unidades. Essa diferença representa cerca de 40.12% da média.\n"
          ]
        }
      ]
    },
    {
      "cell_type": "markdown",
      "source": [
        "Com isso, podemos afirmar que realmente os dados estão variando bastante. No entanto, como vimos anteriormente, eles estão bem distribuídos, quase assumindo uma distribuição normal. Vamos observar o skew dessa coluna."
      ],
      "metadata": {
        "id": "NfjOjwh_lOJn"
      }
    },
    {
      "cell_type": "code",
      "source": [
        "# Verificando assimetria\n",
        "df[\"Income\"].skew()"
      ],
      "metadata": {
        "colab": {
          "base_uri": "https://localhost:8080/"
        },
        "id": "5bk3WHqWmZx3",
        "outputId": "87d548a8-f519-4ea8-9703-81bab39d17fa"
      },
      "execution_count": null,
      "outputs": [
        {
          "output_type": "execute_result",
          "data": {
            "text/plain": [
              "0.013164263414417078"
            ]
          },
          "metadata": {},
          "execution_count": 26
        }
      ]
    },
    {
      "cell_type": "markdown",
      "source": [
        "Podemos observar que o skew está bem próximo de 0, o que seria uma distribuição normal. No entanto, nesse caso, o skew é de 0,13, indicando assim que os dados apresentam uma leve assimetria positiva à direita. Isso significa que existem mais valores maiores que valores menores."
      ],
      "metadata": {
        "id": "RD-vzeqlmq9t"
      }
    },
    {
      "cell_type": "markdown",
      "source": [
        "Vamos tentar observar a correlação entre a idade e renda para verificarmos se uma pessoa mais velha tende a ganhar mais."
      ],
      "metadata": {
        "id": "PlMbMM-PXbpo"
      }
    },
    {
      "cell_type": "code",
      "source": [
        "# Criando o gráfico de dispersão\n",
        "sns.scatterplot(data = df, x = 'Income', y = 'Age')\n",
        "plt.title(\"Renda x Idade\");"
      ],
      "metadata": {
        "colab": {
          "base_uri": "https://localhost:8080/"
        },
        "id": "HPY0GTZwX1a8",
        "outputId": "152c02d4-0c5b-485a-d84a-a4440761e7b8"
      },
      "execution_count": null,
      "outputs": [
        {
          "output_type": "display_data",
          "data": {
            "text/plain": [
              "<Figure size 640x480 with 1 Axes>"
            ],
            "image/png": "[encoded data removed]"
          },
          "metadata": {}
        }
      ]
    },
    {
      "cell_type": "markdown",
      "source": [
        "Aparentemente, a renda está bem distribuída em relação à idade. Existem pessoas novas que recebem muito e pessoas mais velhas que também recebem muito."
      ],
      "metadata": {
        "id": "n0mzS5Mdc0Sa"
      }
    },
    {
      "cell_type": "markdown",
      "source": [
        "### **Nossos clientes tem níveis de educação maiores ou menores?**"
      ],
      "metadata": {
        "id": "0FUf7TFTeDgX"
      }
    },
    {
      "cell_type": "markdown",
      "source": [
        "Vamos utilizar o 'value_counts' para identificarmos quantos registros existem em cada categoria."
      ],
      "metadata": {
        "id": "1akw6WgReRlA"
      }
    },
    {
      "cell_type": "code",
      "source": [
        "# Observando os valores na coluna\n",
        "df['education_level'].value_counts().sort_values(ascending = False)"
      ],
      "metadata": {
        "colab": {
          "base_uri": "https://localhost:8080/"
        },
        "id": "QnV9vCTceEhm",
        "outputId": "756dab77-d654-46c2-8502-45599546d148"
      },
      "execution_count": null,
      "outputs": [
        {
          "output_type": "execute_result",
          "data": {
            "text/plain": [
              "Graduation    1113\n",
              "PhD            476\n",
              "Master         364\n",
              "2n Cycle       198\n",
              "Basic           54\n",
              "Name: education_level, dtype: int64"
            ]
          },
          "metadata": {},
          "execution_count": 30
        }
      ]
    },
    {
      "cell_type": "markdown",
      "source": [
        "Podemos perceber então que a maior parte dos clientes presentes nessa base possuem graduação, seguidos por PhD. Então, podemos afirmar que a maior parte dos clientes possui um bom nível educacional."
      ],
      "metadata": {
        "id": "v9Na6Q1xeaIE"
      }
    },
    {
      "cell_type": "markdown",
      "source": [
        "### **Quantos clientes temos em cada estado civil?**"
      ],
      "metadata": {
        "id": "dcvwXdZ6e2FN"
      }
    },
    {
      "cell_type": "code",
      "source": [
        "# Observando os valores na coluna\n",
        "df['marital_status'].value_counts().sort_values(ascending = False)"
      ],
      "metadata": {
        "colab": {
          "base_uri": "https://localhost:8080/"
        },
        "id": "4lGmDZeWe3Ti",
        "outputId": "76d5a423-43fc-406b-aa8c-c545bf03854b"
      },
      "execution_count": null,
      "outputs": [
        {
          "output_type": "execute_result",
          "data": {
            "text/plain": [
              "Married     854\n",
              "Together    568\n",
              "Single      477\n",
              "Divorced    230\n",
              "Widow        76\n",
              "Name: marital_status, dtype: int64"
            ]
          },
          "metadata": {},
          "execution_count": 33
        }
      ]
    },
    {
      "cell_type": "markdown",
      "source": [
        "A maior parte dos nossos clientes são casados, seguidos pelo status de \"together\"."
      ],
      "metadata": {
        "id": "EJPN6KBFfFx4"
      }
    },
    {
      "cell_type": "markdown",
      "source": [
        "## **Observando a correlação dos dados**"
      ],
      "metadata": {
        "id": "O6tFnSeUlwJt"
      }
    },
    {
      "cell_type": "markdown",
      "source": [
        "Para entendermos melhor como esses dados se correlacionam vamos tentar responder as seguintes perguntas:\n",
        "\n",
        "- Qual é a relação de estado civil com número de filhos? Será que as pessoas casadas têm um maior número de filhos?\n",
        "- Pessoas casadas tendem a gastar mais ?\n",
        "- As pessoas gastam mais ou menos em nossa plataforma quando têm filhos?\n",
        "- Pessoas que têm um maior salário gastam mais?\n",
        "- Pessoas que reclamam se tornam detratoras (Deixam de comprar na plataforma)"
      ],
      "metadata": {
        "id": "grp1RjucmDLK"
      }
    },
    {
      "cell_type": "markdown",
      "source": [
        "### **Qual é a relação de estado civil com número de filhos? Será que as pessoas casadas têm um maior número de filhos?**"
      ],
      "metadata": {
        "id": "jtrjzLF2mvUH"
      }
    },
    {
      "cell_type": "code",
      "source": [
        "# Agrupando os dados e observando a média\n",
        "df.groupby(\"marital_status\")[\"kids\"].mean().sort_values(ascending=False)"
      ],
      "metadata": {
        "colab": {
          "base_uri": "https://localhost:8080/"
        },
        "id": "JFe_q2wCmnWf",
        "outputId": "4ee88aea-fcd1-4a41-92fb-c1c6d04c88da"
      },
      "execution_count": null,
      "outputs": [
        {
          "output_type": "execute_result",
          "data": {
            "text/plain": [
              "marital_status\n",
              "Divorced    1.008696\n",
              "Together    0.980634\n",
              "Married     0.967213\n",
              "Widow       0.881579\n",
              "Single      0.859539\n",
              "Name: kids, dtype: float64"
            ]
          },
          "metadata": {},
          "execution_count": 67
        }
      ]
    },
    {
      "cell_type": "code",
      "source": [
        "# Agrupando os dados e observando a mediana\n",
        "df.groupby(\"marital_status\")[\"kids\"].median().sort_values(ascending=False)"
      ],
      "metadata": {
        "colab": {
          "base_uri": "https://localhost:8080/"
        },
        "id": "Kg84wj131IaC",
        "outputId": "34c0749e-b1a2-4a0e-ff00-68c80de8971f"
      },
      "execution_count": null,
      "outputs": [
        {
          "output_type": "execute_result",
          "data": {
            "text/plain": [
              "marital_status\n",
              "Divorced    1.0\n",
              "Married     1.0\n",
              "Single      1.0\n",
              "Together    1.0\n",
              "Widow       1.0\n",
              "Name: kids, dtype: float64"
            ]
          },
          "metadata": {},
          "execution_count": 69
        }
      ]
    },
    {
      "cell_type": "markdown",
      "source": [
        "Podemos observar que as médias da quantidade de filhos estão bem próximas, porém a média de filhos por pessoa divorciada é um pouco maior que as demais. Vamos observar o boxplot para entendermos melhor."
      ],
      "metadata": {
        "id": "oOEK_MItnWwh"
      }
    },
    {
      "cell_type": "code",
      "source": [
        "# Criando o boxplot\n",
        "sns.boxplot(x = 'marital_status', y = 'kids', data = df);"
      ],
      "metadata": {
        "colab": {
          "base_uri": "https://localhost:8080/",
          "height": 450
        },
        "id": "KpKo9yd2vzUA",
        "outputId": "63f11519-9e7c-4f2d-822a-55573bb6ee8c"
      },
      "execution_count": null,
      "outputs": [
        {
          "output_type": "display_data",
          "data": {
            "text/plain": [
              "<Figure size 640x480 with 1 Axes>"
            ],
            "image/png": "[encoded data removed]"
          },
          "metadata": {}
        }
      ]
    },
    {
      "cell_type": "markdown",
      "source": [
        "Podemos observar que, realmente, cada atributo apresenta a mesma mediana e boxplots bem semelhantes em quase todos os casos. É possível observar uma sobreposição nos boxplots. Dessa forma, para podermos determinar com 100% de certeza se realmente existem diferenças entre as médias, seria necessária a realização de um teste de hipóteses."
      ],
      "metadata": {
        "id": "K8U-37Pz1hTO"
      }
    },
    {
      "cell_type": "markdown",
      "source": [
        "### **Pessoas casadas tendem a gastar mais ?**"
      ],
      "metadata": {
        "id": "BABhFGTd016n"
      }
    },
    {
      "cell_type": "code",
      "source": [
        "# Agrupando os dados e observando a média\n",
        "df.groupby(\"marital_status\")[\"expenses\"].mean().sort_values(ascending=False)"
      ],
      "metadata": {
        "colab": {
          "base_uri": "https://localhost:8080/"
        },
        "id": "L6J69xkd04X_",
        "outputId": "e49481df-9ab4-487c-f7ce-fc58007b8804"
      },
      "execution_count": null,
      "outputs": [
        {
          "output_type": "execute_result",
          "data": {
            "text/plain": [
              "marital_status\n",
              "Widow       672.105263\n",
              "Single      569.274633\n",
              "Divorced    569.052174\n",
              "Together    564.350352\n",
              "Married     546.649883\n",
              "Name: expenses, dtype: float64"
            ]
          },
          "metadata": {},
          "execution_count": 44
        }
      ]
    },
    {
      "cell_type": "code",
      "source": [
        "# Agrupando os dados e observando a mediana\n",
        "df.groupby(\"marital_status\")[\"expenses\"].median().sort_values(ascending=False)"
      ],
      "metadata": {
        "colab": {
          "base_uri": "https://localhost:8080/"
        },
        "id": "gDuWBN332WJm",
        "outputId": "62a636be-532c-4874-87ec-bb5477694f33"
      },
      "execution_count": null,
      "outputs": [
        {
          "output_type": "execute_result",
          "data": {
            "text/plain": [
              "marital_status\n",
              "Widow       596.0\n",
              "Divorced    361.0\n",
              "Married     341.0\n",
              "Together    325.0\n",
              "Single      303.0\n",
              "Name: expenses, dtype: float64"
            ]
          },
          "metadata": {},
          "execution_count": 71
        }
      ]
    },
    {
      "cell_type": "code",
      "source": [
        "# Criando o boxplot\n",
        "sns.boxplot(x = 'marital_status', y = 'expenses', data = df);"
      ],
      "metadata": {
        "colab": {
          "base_uri": "https://localhost:8080/",
          "height": 450
        },
        "id": "HD-my7wA2Nxv",
        "outputId": "70c09e70-f211-42b0-9420-4ebc216ab5e3"
      },
      "execution_count": null,
      "outputs": [
        {
          "output_type": "display_data",
          "data": {
            "text/plain": [
              "<Figure size 640x480 with 1 Axes>"
            ],
            "image/png": "[encoded data removed]"
          },
          "metadata": {}
        }
      ]
    },
    {
      "cell_type": "markdown",
      "source": [
        "Pessoas dos status \"Widow\" apresentam tanto uma média quanto uma mediana maior referência aos gastos. Podemos confirmar isso observando o boxplot. Inclusive, o \"Widow\" apresenta um terceiro quartil maior que \"divorced\", \"married\" e \"together\" e um terceiro quartil bem próximos entre \"widow\" e \"single\"."
      ],
      "metadata": {
        "id": "lslSdROX2EGW"
      }
    },
    {
      "cell_type": "markdown",
      "source": [
        "### **As pessoas gastam mais ou menos em nossa plataforma quando têm filhos?**"
      ],
      "metadata": {
        "id": "-pcnQgHhoJBD"
      }
    },
    {
      "cell_type": "markdown",
      "source": [
        "Vamos observar a média de gastos, agrupados pelo número de filhos."
      ],
      "metadata": {
        "id": "JiwiGPYvpLfT"
      }
    },
    {
      "cell_type": "code",
      "source": [
        "# Agrupando os dados\n",
        "df.groupby(\"kids\")[\"expenses\"].mean().sort_values(ascending=False)"
      ],
      "metadata": {
        "colab": {
          "base_uri": "https://localhost:8080/"
        },
        "id": "v9hfMIOcopcw",
        "outputId": "99ee1c77-0472-402e-8777-a32f2f60d2e9"
      },
      "execution_count": null,
      "outputs": [
        {
          "output_type": "execute_result",
          "data": {
            "text/plain": [
              "kids\n",
              "0    1041.207006\n",
              "1     434.530576\n",
              "3     237.380000\n",
              "2     221.568675\n",
              "Name: expenses, dtype: float64"
            ]
          },
          "metadata": {},
          "execution_count": 47
        }
      ]
    },
    {
      "cell_type": "code",
      "source": [
        "# Agrupando os dados e observando a mediana\n",
        "df.groupby(\"kids\")[\"expenses\"].median().sort_values(ascending=False)"
      ],
      "metadata": {
        "colab": {
          "base_uri": "https://localhost:8080/"
        },
        "id": "MMZ9383E7IF6",
        "outputId": "5bf55268-29c2-4977-f21a-b6cf2d3b8a66"
      },
      "execution_count": null,
      "outputs": [
        {
          "output_type": "execute_result",
          "data": {
            "text/plain": [
              "kids\n",
              "0    1106.5\n",
              "1     264.0\n",
              "2      84.0\n",
              "3      62.0\n",
              "Name: expenses, dtype: float64"
            ]
          },
          "metadata": {},
          "execution_count": 5
        }
      ]
    },
    {
      "cell_type": "code",
      "source": [
        "# Criando o boxplot\n",
        "sns.boxplot(x = 'kids', y = 'expenses', data = df);"
      ],
      "metadata": {
        "colab": {
          "base_uri": "https://localhost:8080/",
          "height": 449
        },
        "id": "bp0mXx6_7NV5",
        "outputId": "20a3d9de-187a-4f4b-d2ff-b51633e4c3db"
      },
      "execution_count": null,
      "outputs": [
        {
          "output_type": "display_data",
          "data": {
            "text/plain": [
              "<Figure size 640x480 with 1 Axes>"
            ],
            "image/png": "[encoded data removed]"
          },
          "metadata": {}
        }
      ]
    },
    {
      "cell_type": "markdown",
      "source": [
        "Na nossa base, pessoas que não têm filhos tendem a gastar mais. Quanto mais filhos as pessoas têm, menos gastos nossos clientes estão tendo. Porém, ao observarmos o boxplot novamente, podemos observar a existência de sobreposição. Logo, para descobrirmos se realmente existem essas diferenças, seria necessário aplicarmos um teste de hipóteses."
      ],
      "metadata": {
        "id": "M2LS8ZK3o8id"
      }
    },
    {
      "cell_type": "markdown",
      "source": [
        "#### **A equipe de marketing pensou em fazer campanhas direcionadas ao grupo de pessoas com filho (independente da quantidade), porém precisamos comprovar se de fato as médias de gastos dos grupos é diferente.**"
      ],
      "metadata": {
        "id": "19Q_onYSpj1V"
      }
    },
    {
      "cell_type": "markdown",
      "source": [
        "Dito isso: Agrupe todas as pessoas que tem filhos em um grupo chamado \"com filhos\" e faça uma comparação da média de gastos de pessoas sem filhos e pessoas com filhos."
      ],
      "metadata": {
        "id": "eXZYWMuxp9at"
      }
    },
    {
      "cell_type": "markdown",
      "source": [
        "Vamos começar realizando o agrupamento das pessoas que têm e que não têm filhos."
      ],
      "metadata": {
        "id": "CYJgSafIpyHs"
      }
    },
    {
      "cell_type": "code",
      "source": [
        "# DataFrame com pessoas que têm filhos\n",
        "df_com_filhos = df[df['kids'] > 0][['kids', 'expenses']]\n",
        "\n",
        "# DataFrame com pessoas que não têm filhos\n",
        "df_sem_filhos = df[df['kids'] == 0][['kids', 'expenses']]"
      ],
      "metadata": {
        "id": "v1XKrUGyqeIF"
      },
      "execution_count": null,
      "outputs": []
    },
    {
      "cell_type": "code",
      "source": [
        "# Exibindo os DataFrames com filhos\n",
        "df_com_filhos.head()"
      ],
      "metadata": {
        "colab": {
          "base_uri": "https://localhost:8080/",
          "height": 206
        },
        "id": "ncWdsTtS7Iti",
        "outputId": "ccc0aac5-c5aa-4b9b-da6f-af0a16583c0d"
      },
      "execution_count": null,
      "outputs": [
        {
          "output_type": "execute_result",
          "data": {
            "text/plain": [
              "   kids  expenses\n",
              "1     2        21\n",
              "3     1        48\n",
              "4     1       407\n",
              "5     1       702\n",
              "6     1       563"
            ],
            "text/html": [
              "\n",
              "  <div id=\"df-a011bfbc-229a-4cff-8836-7467af2ba731\" class=\"colab-df-container\">\n",
              "    <div>\n",
              "<style scoped>\n",
              "    .dataframe tbody tr th:only-of-type {\n",
              "        vertical-align: middle;\n",
              "    }\n",
              "\n",
              "    .dataframe tbody tr th {\n",
              "        vertical-align: top;\n",
              "    }\n",
              "\n",
              "    .dataframe thead th {\n",
              "        text-align: right;\n",
              "    }\n",
              "</style>\n",
              "<table border=\"1\" class=\"dataframe\">\n",
              "  <thead>\n",
              "    <tr style=\"text-align: right;\">\n",
              "      <th></th>\n",
              "      <th>kids</th>\n",
              "      <th>expenses</th>\n",
              "    </tr>\n",
              "  </thead>\n",
              "  <tbody>\n",
              "    <tr>\n",
              "      <th>1</th>\n",
              "      <td>2</td>\n",
              "      <td>21</td>\n",
              "    </tr>\n",
              "    <tr>\n",
              "      <th>3</th>\n",
              "      <td>1</td>\n",
              "      <td>48</td>\n",
              "    </tr>\n",
              "    <tr>\n",
              "      <th>4</th>\n",
              "      <td>1</td>\n",
              "      <td>407</td>\n",
              "    </tr>\n",
              "    <tr>\n",
              "      <th>5</th>\n",
              "      <td>1</td>\n",
              "      <td>702</td>\n",
              "    </tr>\n",
              "    <tr>\n",
              "      <th>6</th>\n",
              "      <td>1</td>\n",
              "      <td>563</td>\n",
              "    </tr>\n",
              "  </tbody>\n",
              "</table>\n",
              "</div>\n",
              "    <div class=\"colab-df-buttons\">\n",
              "\n",
              "  <div class=\"colab-df-container\">\n",
              "    <button class=\"colab-df-convert\" onclick=\"convertToInteractive('df-a011bfbc-229a-4cff-8836-7467af2ba731')\"\n",
              "            title=\"Convert this dataframe to an interactive table.\"\n",
              "            style=\"display:none;\">\n",
              "\n",
              "  <svg xmlns=\"http://www.w3.org/2000/svg\" height=\"24px\" viewBox=\"0 -960 960 960\">\n",
              "    <path d=\"M120-120v-720h720v720H120Zm60-500h600v-160H180v160Zm220 220h160v-160H400v160Zm0 220h160v-160H400v160ZM180-400h160v-160H180v160Zm440 0h160v-160H620v160ZM180-180h160v-160H180v160Zm440 0h160v-160H620v160Z\"/>\n",
              "  </svg>\n",
              "    </button>\n",
              "\n",
              "  <style>\n",
              "    .colab-df-container {\n",
              "      display:flex;\n",
              "      gap: 12px;\n",
              "    }\n",
              "\n",
              "    .colab-df-convert {\n",
              "      background-color: #E8F0FE;\n",
              "      border: none;\n",
              "      border-radius: 50%;\n",
              "      cursor: pointer;\n",
              "      display: none;\n",
              "      fill: #1967D2;\n",
              "      height: 32px;\n",
              "      padding: 0 0 0 0;\n",
              "      width: 32px;\n",
              "    }\n",
              "\n",
              "    .colab-df-convert:hover {\n",
              "      background-color: #E2EBFA;\n",
              "      box-shadow: 0px 1px 2px rgba(60, 64, 67, 0.3), 0px 1px 3px 1px rgba(60, 64, 67, 0.15);\n",
              "      fill: #174EA6;\n",
              "    }\n",
              "\n",
              "    .colab-df-buttons div {\n",
              "      margin-bottom: 4px;\n",
              "    }\n",
              "\n",
              "    [theme=dark] .colab-df-convert {\n",
              "      background-color: #3B4455;\n",
              "      fill: #D2E3FC;\n",
              "    }\n",
              "\n",
              "    [theme=dark] .colab-df-convert:hover {\n",
              "      background-color: #434B5C;\n",
              "      box-shadow: 0px 1px 3px 1px rgba(0, 0, 0, 0.15);\n",
              "      filter: drop-shadow(0px 1px 2px rgba(0, 0, 0, 0.3));\n",
              "      fill: #FFFFFF;\n",
              "    }\n",
              "  </style>\n",
              "\n",
              "    <script>\n",
              "      const buttonEl =\n",
              "        document.querySelector('#df-a011bfbc-229a-4cff-8836-7467af2ba731 button.colab-df-convert');\n",
              "      buttonEl.style.display =\n",
              "        google.colab.kernel.accessAllowed ? 'block' : 'none';\n",
              "\n",
              "      async function convertToInteractive(key) {\n",
              "        const element = document.querySelector('#df-a011bfbc-229a-4cff-8836-7467af2ba731');\n",
              "        const dataTable =\n",
              "          await google.colab.kernel.invokeFunction('convertToInteractive',\n",
              "                                                    [key], {});\n",
              "        if (!dataTable) return;\n",
              "\n",
              "        const docLinkHtml = 'Like what you see? Visit the ' +\n",
              "          '<a target=\"_blank\" href=https://colab.research.google.com/notebooks/data_table.ipynb>data table notebook</a>'\n",
              "          + ' to learn more about interactive tables.';\n",
              "        element.innerHTML = '';\n",
              "        dataTable['output_type'] = 'display_data';\n",
              "        await google.colab.output.renderOutput(dataTable, element);\n",
              "        const docLink = document.createElement('div');\n",
              "        docLink.innerHTML = docLinkHtml;\n",
              "        element.appendChild(docLink);\n",
              "      }\n",
              "    </script>\n",
              "  </div>\n",
              "\n",
              "\n",
              "<div id=\"df-00f738e1-6edc-43b3-be81-da6d43dbdefc\">\n",
              "  <button class=\"colab-df-quickchart\" onclick=\"quickchart('df-00f738e1-6edc-43b3-be81-da6d43dbdefc')\"\n",
              "            title=\"Suggest charts\"\n",
              "            style=\"display:none;\">\n",
              "\n",
              "<svg xmlns=\"http://www.w3.org/2000/svg\" height=\"24px\"viewBox=\"0 0 24 24\"\n",
              "     width=\"24px\">\n",
              "    <g>\n",
              "        <path d=\"M19 3H5c-1.1 0-2 .9-2 2v14c0 1.1.9 2 2 2h14c1.1 0 2-.9 2-2V5c0-1.1-.9-2-2-2zM9 17H7v-7h2v7zm4 0h-2V7h2v10zm4 0h-2v-4h2v4z\"/>\n",
              "    </g>\n",
              "</svg>\n",
              "  </button>\n",
              "\n",
              "<style>\n",
              "  .colab-df-quickchart {\n",
              "      --bg-color: #E8F0FE;\n",
              "      --fill-color: #1967D2;\n",
              "      --hover-bg-color: #E2EBFA;\n",
              "      --hover-fill-color: #174EA6;\n",
              "      --disabled-fill-color: #AAA;\n",
              "      --disabled-bg-color: #DDD;\n",
              "  }\n",
              "\n",
              "  [theme=dark] .colab-df-quickchart {\n",
              "      --bg-color: #3B4455;\n",
              "      --fill-color: #D2E3FC;\n",
              "      --hover-bg-color: #434B5C;\n",
              "      --hover-fill-color: #FFFFFF;\n",
              "      --disabled-bg-color: #3B4455;\n",
              "      --disabled-fill-color: #666;\n",
              "  }\n",
              "\n",
              "  .colab-df-quickchart {\n",
              "    background-color: var(--bg-color);\n",
              "    border: none;\n",
              "    border-radius: 50%;\n",
              "    cursor: pointer;\n",
              "    display: none;\n",
              "    fill: var(--fill-color);\n",
              "    height: 32px;\n",
              "    padding: 0;\n",
              "    width: 32px;\n",
              "  }\n",
              "\n",
              "  .colab-df-quickchart:hover {\n",
              "    background-color: var(--hover-bg-color);\n",
              "    box-shadow: 0 1px 2px rgba(60, 64, 67, 0.3), 0 1px 3px 1px rgba(60, 64, 67, 0.15);\n",
              "    fill: var(--button-hover-fill-color);\n",
              "  }\n",
              "\n",
              "  .colab-df-quickchart-complete:disabled,\n",
              "  .colab-df-quickchart-complete:disabled:hover {\n",
              "    background-color: var(--disabled-bg-color);\n",
              "    fill: var(--disabled-fill-color);\n",
              "    box-shadow: none;\n",
              "  }\n",
              "\n",
              "  .colab-df-spinner {\n",
              "    border: 2px solid var(--fill-color);\n",
              "    border-color: transparent;\n",
              "    border-bottom-color: var(--fill-color);\n",
              "    animation:\n",
              "      spin 1s steps(1) infinite;\n",
              "  }\n",
              "\n",
              "  @keyframes spin {\n",
              "    0% {\n",
              "      border-color: transparent;\n",
              "      border-bottom-color: var(--fill-color);\n",
              "      border-left-color: var(--fill-color);\n",
              "    }\n",
              "    20% {\n",
              "      border-color: transparent;\n",
              "      border-left-color: var(--fill-color);\n",
              "      border-top-color: var(--fill-color);\n",
              "    }\n",
              "    30% {\n",
              "      border-color: transparent;\n",
              "      border-left-color: var(--fill-color);\n",
              "      border-top-color: var(--fill-color);\n",
              "      border-right-color: var(--fill-color);\n",
              "    }\n",
              "    40% {\n",
              "      border-color: transparent;\n",
              "      border-right-color: var(--fill-color);\n",
              "      border-top-color: var(--fill-color);\n",
              "    }\n",
              "    60% {\n",
              "      border-color: transparent;\n",
              "      border-right-color: var(--fill-color);\n",
              "    }\n",
              "    80% {\n",
              "      border-color: transparent;\n",
              "      border-right-color: var(--fill-color);\n",
              "      border-bottom-color: var(--fill-color);\n",
              "    }\n",
              "    90% {\n",
              "      border-color: transparent;\n",
              "      border-bottom-color: var(--fill-color);\n",
              "    }\n",
              "  }\n",
              "</style>\n",
              "\n",
              "  <script>\n",
              "    async function quickchart(key) {\n",
              "      const quickchartButtonEl =\n",
              "        document.querySelector('#' + key + ' button');\n",
              "      quickchartButtonEl.disabled = true;  // To prevent multiple clicks.\n",
              "      quickchartButtonEl.classList.add('colab-df-spinner');\n",
              "      try {\n",
              "        const charts = await google.colab.kernel.invokeFunction(\n",
              "            'suggestCharts', [key], {});\n",
              "      } catch (error) {\n",
              "        console.error('Error during call to suggestCharts:', error);\n",
              "      }\n",
              "      quickchartButtonEl.classList.remove('colab-df-spinner');\n",
              "      quickchartButtonEl.classList.add('colab-df-quickchart-complete');\n",
              "    }\n",
              "    (() => {\n",
              "      let quickchartButtonEl =\n",
              "        document.querySelector('#df-00f738e1-6edc-43b3-be81-da6d43dbdefc button');\n",
              "      quickchartButtonEl.style.display =\n",
              "        google.colab.kernel.accessAllowed ? 'block' : 'none';\n",
              "    })();\n",
              "  </script>\n",
              "</div>\n",
              "\n",
              "    </div>\n",
              "  </div>\n"
            ],
            "application/vnd.google.colaboratory.intrinsic+json": {
              "type": "dataframe",
              "variable_name": "df_com_filhos",
              "summary": "{\n  \"name\": \"df_com_filhos\",\n  \"rows\": 1577,\n  \"fields\": [\n    {\n      \"column\": \"kids\",\n      \"properties\": {\n        \"dtype\": \"number\",\n        \"std\": 0,\n        \"min\": 1,\n        \"max\": 3,\n        \"num_unique_values\": 3,\n        \"samples\": [\n          2,\n          1,\n          3\n        ],\n        \"semantic_type\": \"\",\n        \"description\": \"\"\n      }\n    },\n    {\n      \"column\": \"expenses\",\n      \"properties\": {\n        \"dtype\": \"number\",\n        \"std\": 424,\n        \"min\": 4,\n        \"max\": 2036,\n        \"num_unique_values\": 585,\n        \"samples\": [\n          1677,\n          661,\n          116\n        ],\n        \"semantic_type\": \"\",\n        \"description\": \"\"\n      }\n    }\n  ]\n}"
            }
          },
          "metadata": {},
          "execution_count": 56
        }
      ]
    },
    {
      "cell_type": "code",
      "source": [
        "# Exibindo os DataFrames sem filhos\n",
        "df_sem_filhos.head()"
      ],
      "metadata": {
        "colab": {
          "base_uri": "https://localhost:8080/",
          "height": 206
        },
        "id": "MWpk5UGW68xK",
        "outputId": "bb3029f7-c0ea-4813-c361-d21db211c3c9"
      },
      "execution_count": null,
      "outputs": [
        {
          "output_type": "execute_result",
          "data": {
            "text/plain": [
              "    kids  expenses\n",
              "0      0      1529\n",
              "2      0       734\n",
              "10     0        45\n",
              "11     0      1072\n",
              "13     0        41"
            ],
            "text/html": [
              "\n",
              "  <div id=\"df-d5fd5ecb-338f-4fce-bbc8-9da4705ee983\" class=\"colab-df-container\">\n",
              "    <div>\n",
              "<style scoped>\n",
              "    .dataframe tbody tr th:only-of-type {\n",
              "        vertical-align: middle;\n",
              "    }\n",
              "\n",
              "    .dataframe tbody tr th {\n",
              "        vertical-align: top;\n",
              "    }\n",
              "\n",
              "    .dataframe thead th {\n",
              "        text-align: right;\n",
              "    }\n",
              "</style>\n",
              "<table border=\"1\" class=\"dataframe\">\n",
              "  <thead>\n",
              "    <tr style=\"text-align: right;\">\n",
              "      <th></th>\n",
              "      <th>kids</th>\n",
              "      <th>expenses</th>\n",
              "    </tr>\n",
              "  </thead>\n",
              "  <tbody>\n",
              "    <tr>\n",
              "      <th>0</th>\n",
              "      <td>0</td>\n",
              "      <td>1529</td>\n",
              "    </tr>\n",
              "    <tr>\n",
              "      <th>2</th>\n",
              "      <td>0</td>\n",
              "      <td>734</td>\n",
              "    </tr>\n",
              "    <tr>\n",
              "      <th>10</th>\n",
              "      <td>0</td>\n",
              "      <td>45</td>\n",
              "    </tr>\n",
              "    <tr>\n",
              "      <th>11</th>\n",
              "      <td>0</td>\n",
              "      <td>1072</td>\n",
              "    </tr>\n",
              "    <tr>\n",
              "      <th>13</th>\n",
              "      <td>0</td>\n",
              "      <td>41</td>\n",
              "    </tr>\n",
              "  </tbody>\n",
              "</table>\n",
              "</div>\n",
              "    <div class=\"colab-df-buttons\">\n",
              "\n",
              "  <div class=\"colab-df-container\">\n",
              "    <button class=\"colab-df-convert\" onclick=\"convertToInteractive('df-d5fd5ecb-338f-4fce-bbc8-9da4705ee983')\"\n",
              "            title=\"Convert this dataframe to an interactive table.\"\n",
              "            style=\"display:none;\">\n",
              "\n",
              "  <svg xmlns=\"http://www.w3.org/2000/svg\" height=\"24px\" viewBox=\"0 -960 960 960\">\n",
              "    <path d=\"M120-120v-720h720v720H120Zm60-500h600v-160H180v160Zm220 220h160v-160H400v160Zm0 220h160v-160H400v160ZM180-400h160v-160H180v160Zm440 0h160v-160H620v160ZM180-180h160v-160H180v160Zm440 0h160v-160H620v160Z\"/>\n",
              "  </svg>\n",
              "    </button>\n",
              "\n",
              "  <style>\n",
              "    .colab-df-container {\n",
              "      display:flex;\n",
              "      gap: 12px;\n",
              "    }\n",
              "\n",
              "    .colab-df-convert {\n",
              "      background-color: #E8F0FE;\n",
              "      border: none;\n",
              "      border-radius: 50%;\n",
              "      cursor: pointer;\n",
              "      display: none;\n",
              "      fill: #1967D2;\n",
              "      height: 32px;\n",
              "      padding: 0 0 0 0;\n",
              "      width: 32px;\n",
              "    }\n",
              "\n",
              "    .colab-df-convert:hover {\n",
              "      background-color: #E2EBFA;\n",
              "      box-shadow: 0px 1px 2px rgba(60, 64, 67, 0.3), 0px 1px 3px 1px rgba(60, 64, 67, 0.15);\n",
              "      fill: #174EA6;\n",
              "    }\n",
              "\n",
              "    .colab-df-buttons div {\n",
              "      margin-bottom: 4px;\n",
              "    }\n",
              "\n",
              "    [theme=dark] .colab-df-convert {\n",
              "      background-color: #3B4455;\n",
              "      fill: #D2E3FC;\n",
              "    }\n",
              "\n",
              "    [theme=dark] .colab-df-convert:hover {\n",
              "      background-color: #434B5C;\n",
              "      box-shadow: 0px 1px 3px 1px rgba(0, 0, 0, 0.15);\n",
              "      filter: drop-shadow(0px 1px 2px rgba(0, 0, 0, 0.3));\n",
              "      fill: #FFFFFF;\n",
              "    }\n",
              "  </style>\n",
              "\n",
              "    <script>\n",
              "      const buttonEl =\n",
              "        document.querySelector('#df-d5fd5ecb-338f-4fce-bbc8-9da4705ee983 button.colab-df-convert');\n",
              "      buttonEl.style.display =\n",
              "        google.colab.kernel.accessAllowed ? 'block' : 'none';\n",
              "\n",
              "      async function convertToInteractive(key) {\n",
              "        const element = document.querySelector('#df-d5fd5ecb-338f-4fce-bbc8-9da4705ee983');\n",
              "        const dataTable =\n",
              "          await google.colab.kernel.invokeFunction('convertToInteractive',\n",
              "                                                    [key], {});\n",
              "        if (!dataTable) return;\n",
              "\n",
              "        const docLinkHtml = 'Like what you see? Visit the ' +\n",
              "          '<a target=\"_blank\" href=https://colab.research.google.com/notebooks/data_table.ipynb>data table notebook</a>'\n",
              "          + ' to learn more about interactive tables.';\n",
              "        element.innerHTML = '';\n",
              "        dataTable['output_type'] = 'display_data';\n",
              "        await google.colab.output.renderOutput(dataTable, element);\n",
              "        const docLink = document.createElement('div');\n",
              "        docLink.innerHTML = docLinkHtml;\n",
              "        element.appendChild(docLink);\n",
              "      }\n",
              "    </script>\n",
              "  </div>\n",
              "\n",
              "\n",
              "<div id=\"df-65af096f-8154-4ed7-8fd7-394b2f2f30e0\">\n",
              "  <button class=\"colab-df-quickchart\" onclick=\"quickchart('df-65af096f-8154-4ed7-8fd7-394b2f2f30e0')\"\n",
              "            title=\"Suggest charts\"\n",
              "            style=\"display:none;\">\n",
              "\n",
              "<svg xmlns=\"http://www.w3.org/2000/svg\" height=\"24px\"viewBox=\"0 0 24 24\"\n",
              "     width=\"24px\">\n",
              "    <g>\n",
              "        <path d=\"M19 3H5c-1.1 0-2 .9-2 2v14c0 1.1.9 2 2 2h14c1.1 0 2-.9 2-2V5c0-1.1-.9-2-2-2zM9 17H7v-7h2v7zm4 0h-2V7h2v10zm4 0h-2v-4h2v4z\"/>\n",
              "    </g>\n",
              "</svg>\n",
              "  </button>\n",
              "\n",
              "<style>\n",
              "  .colab-df-quickchart {\n",
              "      --bg-color: #E8F0FE;\n",
              "      --fill-color: #1967D2;\n",
              "      --hover-bg-color: #E2EBFA;\n",
              "      --hover-fill-color: #174EA6;\n",
              "      --disabled-fill-color: #AAA;\n",
              "      --disabled-bg-color: #DDD;\n",
              "  }\n",
              "\n",
              "  [theme=dark] .colab-df-quickchart {\n",
              "      --bg-color: #3B4455;\n",
              "      --fill-color: #D2E3FC;\n",
              "      --hover-bg-color: #434B5C;\n",
              "      --hover-fill-color: #FFFFFF;\n",
              "      --disabled-bg-color: #3B4455;\n",
              "      --disabled-fill-color: #666;\n",
              "  }\n",
              "\n",
              "  .colab-df-quickchart {\n",
              "    background-color: var(--bg-color);\n",
              "    border: none;\n",
              "    border-radius: 50%;\n",
              "    cursor: pointer;\n",
              "    display: none;\n",
              "    fill: var(--fill-color);\n",
              "    height: 32px;\n",
              "    padding: 0;\n",
              "    width: 32px;\n",
              "  }\n",
              "\n",
              "  .colab-df-quickchart:hover {\n",
              "    background-color: var(--hover-bg-color);\n",
              "    box-shadow: 0 1px 2px rgba(60, 64, 67, 0.3), 0 1px 3px 1px rgba(60, 64, 67, 0.15);\n",
              "    fill: var(--button-hover-fill-color);\n",
              "  }\n",
              "\n",
              "  .colab-df-quickchart-complete:disabled,\n",
              "  .colab-df-quickchart-complete:disabled:hover {\n",
              "    background-color: var(--disabled-bg-color);\n",
              "    fill: var(--disabled-fill-color);\n",
              "    box-shadow: none;\n",
              "  }\n",
              "\n",
              "  .colab-df-spinner {\n",
              "    border: 2px solid var(--fill-color);\n",
              "    border-color: transparent;\n",
              "    border-bottom-color: var(--fill-color);\n",
              "    animation:\n",
              "      spin 1s steps(1) infinite;\n",
              "  }\n",
              "\n",
              "  @keyframes spin {\n",
              "    0% {\n",
              "      border-color: transparent;\n",
              "      border-bottom-color: var(--fill-color);\n",
              "      border-left-color: var(--fill-color);\n",
              "    }\n",
              "    20% {\n",
              "      border-color: transparent;\n",
              "      border-left-color: var(--fill-color);\n",
              "      border-top-color: var(--fill-color);\n",
              "    }\n",
              "    30% {\n",
              "      border-color: transparent;\n",
              "      border-left-color: var(--fill-color);\n",
              "      border-top-color: var(--fill-color);\n",
              "      border-right-color: var(--fill-color);\n",
              "    }\n",
              "    40% {\n",
              "      border-color: transparent;\n",
              "      border-right-color: var(--fill-color);\n",
              "      border-top-color: var(--fill-color);\n",
              "    }\n",
              "    60% {\n",
              "      border-color: transparent;\n",
              "      border-right-color: var(--fill-color);\n",
              "    }\n",
              "    80% {\n",
              "      border-color: transparent;\n",
              "      border-right-color: var(--fill-color);\n",
              "      border-bottom-color: var(--fill-color);\n",
              "    }\n",
              "    90% {\n",
              "      border-color: transparent;\n",
              "      border-bottom-color: var(--fill-color);\n",
              "    }\n",
              "  }\n",
              "</style>\n",
              "\n",
              "  <script>\n",
              "    async function quickchart(key) {\n",
              "      const quickchartButtonEl =\n",
              "        document.querySelector('#' + key + ' button');\n",
              "      quickchartButtonEl.disabled = true;  // To prevent multiple clicks.\n",
              "      quickchartButtonEl.classList.add('colab-df-spinner');\n",
              "      try {\n",
              "        const charts = await google.colab.kernel.invokeFunction(\n",
              "            'suggestCharts', [key], {});\n",
              "      } catch (error) {\n",
              "        console.error('Error during call to suggestCharts:', error);\n",
              "      }\n",
              "      quickchartButtonEl.classList.remove('colab-df-spinner');\n",
              "      quickchartButtonEl.classList.add('colab-df-quickchart-complete');\n",
              "    }\n",
              "    (() => {\n",
              "      let quickchartButtonEl =\n",
              "        document.querySelector('#df-65af096f-8154-4ed7-8fd7-394b2f2f30e0 button');\n",
              "      quickchartButtonEl.style.display =\n",
              "        google.colab.kernel.accessAllowed ? 'block' : 'none';\n",
              "    })();\n",
              "  </script>\n",
              "</div>\n",
              "\n",
              "    </div>\n",
              "  </div>\n"
            ],
            "application/vnd.google.colaboratory.intrinsic+json": {
              "type": "dataframe",
              "variable_name": "df_sem_filhos",
              "summary": "{\n  \"name\": \"df_sem_filhos\",\n  \"rows\": 628,\n  \"fields\": [\n    {\n      \"column\": \"kids\",\n      \"properties\": {\n        \"dtype\": \"number\",\n        \"std\": 0,\n        \"min\": 0,\n        \"max\": 0,\n        \"num_unique_values\": 1,\n        \"samples\": [\n          0\n        ],\n        \"semantic_type\": \"\",\n        \"description\": \"\"\n      }\n    },\n    {\n      \"column\": \"expenses\",\n      \"properties\": {\n        \"dtype\": \"number\",\n        \"std\": 625,\n        \"min\": 5,\n        \"max\": 2491,\n        \"num_unique_values\": 474,\n        \"samples\": [\n          1235\n        ],\n        \"semantic_type\": \"\",\n        \"description\": \"\"\n      }\n    }\n  ]\n}"
            }
          },
          "metadata": {},
          "execution_count": 57
        }
      ]
    },
    {
      "cell_type": "markdown",
      "source": [
        "Como queremos saber se existe de fato uma diferença entre os gastos, vamos aplicar um teste de hipótese para média com duas amostras. Logo, nossas hipóteses serão:\n",
        "\n",
        "H0: média com filhos = média sem filhos\n",
        "\n",
        "Ha: média com filhos ≠ média sem filhos\n",
        "\n",
        "Estamos diante de um teste bicaudal.\n",
        "\n",
        "Dito isso, vamos realizar as importações necessárias."
      ],
      "metadata": {
        "id": "Fmugp5ztq_ad"
      }
    },
    {
      "cell_type": "code",
      "source": [
        "# importando a função\n",
        "from scipy import stats"
      ],
      "metadata": {
        "id": "sSuT-rC4rR1t"
      },
      "execution_count": null,
      "outputs": []
    },
    {
      "cell_type": "markdown",
      "source": [
        "Vamos observar a quantidade de dados presente em cada um dos novos dataframes."
      ],
      "metadata": {
        "id": "EhvfYo1h79KS"
      }
    },
    {
      "cell_type": "code",
      "source": [
        "# Exibindo os valores\n",
        "print(f\"Número de pessoas com filho {df_com_filhos.count()}\\n Número de pessoas sem filho {df_sem_filhos.count()}\")"
      ],
      "metadata": {
        "colab": {
          "base_uri": "https://localhost:8080/"
        },
        "id": "sdHbc5yf8FFZ",
        "outputId": "df1da93d-79fa-4ac1-e305-d41b51dce94f"
      },
      "execution_count": null,
      "outputs": [
        {
          "output_type": "stream",
          "name": "stdout",
          "text": [
            "Número de pessoas com filho kids        1577\n",
            "expenses    1577\n",
            "dtype: int64\n",
            " Número de pessoas sem filho kids        628\n",
            "expenses    628\n",
            "dtype: int64\n"
          ]
        }
      ]
    },
    {
      "cell_type": "markdown",
      "source": [
        "Podemos ver que nossas amostras têm dados que garantem uma normalidade, segundo o teorema do limite central. Dito isso, vamos avançar para os próximos passos."
      ],
      "metadata": {
        "id": "oYFOPJvs84cJ"
      }
    },
    {
      "cell_type": "markdown",
      "source": [
        "Agora vamos prosseguir para os cálculos."
      ],
      "metadata": {
        "id": "qI9sBZ1VruzO"
      }
    },
    {
      "cell_type": "code",
      "source": [
        "# Realizando o teste t\n",
        "_, p_valor = stats.ttest_ind(df_com_filhos, df_sem_filhos)\n",
        "\n",
        "# Pegando o primeiro p-valor\n",
        "p_valor = p_valor[1]\n",
        "\n",
        "# Nível de significância\n",
        "alpha = 0.05\n",
        "\n",
        "# Conclusões\n",
        "if p_valor < alpha:\n",
        "    print(\"Rejeitar H0: Há evidências de que existe diferença na média de gastos de pessoas com e sem filhos.\")\n",
        "else:\n",
        "    print(\"Falha em rejeitar H0: Não há evidências suficientes para afirmar que há diferença na média de gastos de pessoas com e sem filhos.\")\n",
        "\n",
        "# Exibindo o p-valor\n",
        "print(p_valor)"
      ],
      "metadata": {
        "id": "3NoRyLP8rwEt",
        "colab": {
          "base_uri": "https://localhost:8080/"
        },
        "outputId": "ea37a6f6-b109-44a8-93db-d8e5312321d7"
      },
      "execution_count": null,
      "outputs": [
        {
          "output_type": "stream",
          "name": "stdout",
          "text": [
            "Rejeitar H0: Há evidências de que existe diferença na média de gastos de pessoas com e sem filhos.\n",
            "5.171525024868465e-156\n"
          ]
        }
      ]
    },
    {
      "cell_type": "markdown",
      "source": [
        "Segundo nosso teste de hipóteses e um nível de significância de 0,05, rejeitamos a hipótese nula. Logo, podemos afirmar que as médias são diferentes. É importante frisar que o valor p foi muito baixo; portanto, mesmo se fosse um nível de significância menor, o resultado não mudaria."
      ],
      "metadata": {
        "id": "Z5dTMiC3COtl"
      }
    },
    {
      "cell_type": "markdown",
      "source": [
        "Dito isso, vamos observar a média de ambas as amostras."
      ],
      "metadata": {
        "id": "1Nwb7dWCCxY-"
      }
    },
    {
      "cell_type": "code",
      "source": [
        "# Exibindo as médias\n",
        "print(f\"Média de gastos de pessoas com filhos: {df_com_filhos['expenses'].mean()}\\nMédia de gastos de pessoas sem filhos: {df_sem_filhos['expenses'].mean()}\")"
      ],
      "metadata": {
        "colab": {
          "base_uri": "https://localhost:8080/"
        },
        "id": "a3wH46f8BIAt",
        "outputId": "7a1fe769-0fb4-4651-b0f0-22a89a75d41d"
      },
      "execution_count": null,
      "outputs": [
        {
          "output_type": "stream",
          "name": "stdout",
          "text": [
            "Média de gastos de pessoas com filhos: 372.23715916296766\n",
            "Média de gastos de pessoas sem filhos: 1041.2070063694268\n"
          ]
        }
      ]
    },
    {
      "cell_type": "markdown",
      "source": [
        "Existe uma clara diferença entre os gastos médios de uma pessoa com e uma pessoa sem filhos."
      ],
      "metadata": {
        "id": "pQRlF3eGDcyd"
      }
    },
    {
      "cell_type": "markdown",
      "source": [
        "#### **Agora, compare os grupos de pessoas com filhos. O time de marketing nos pediu para verificar se há diferenças de gastos (expenses) em quem tem 1, 2, 3 ou mais filhos para que eles possam afunilar mais ainda a campanha. A média desses grupos é diferente? Qual(is) tem menor média?**"
      ],
      "metadata": {
        "id": "gwaLHn3DD2Rd"
      }
    },
    {
      "cell_type": "markdown",
      "source": [
        "Para começarmos, vamos observar a média desses grupos."
      ],
      "metadata": {
        "id": "WUdycGiXDJiO"
      }
    },
    {
      "cell_type": "code",
      "source": [
        "# Agrupando os dados\n",
        "df.groupby(\"kids\")[\"expenses\"].mean().sort_values(ascending=False)"
      ],
      "metadata": {
        "id": "J9lu30v7D8XE",
        "colab": {
          "base_uri": "https://localhost:8080/"
        },
        "outputId": "b7af752e-4ae6-4281-8dae-f0096c73b7b0"
      },
      "execution_count": null,
      "outputs": [
        {
          "output_type": "execute_result",
          "data": {
            "text/plain": [
              "kids\n",
              "0    1041.207006\n",
              "1     434.530576\n",
              "3     237.380000\n",
              "2     221.568675\n",
              "Name: expenses, dtype: float64"
            ]
          },
          "metadata": {},
          "execution_count": 4
        }
      ]
    },
    {
      "cell_type": "markdown",
      "source": [
        "Nesse primeiro momento, podemos observar que realmente os grupos apresentam médias diferentes, mas será que essas diferenças são estatisticamente significativas? Vamos observar."
      ],
      "metadata": {
        "id": "gHb1KpYEDqE2"
      }
    },
    {
      "cell_type": "markdown",
      "source": [
        "Como temos 3 grupos, podemos aplicar o teste ANOVA, mas antes vamos observar se respeitamos todos os requisitos para a aplicação desse teste, sendo eles:\n",
        "\n",
        "Premissas:\n",
        "\n",
        "- Amostras aleatórias\n",
        "- Grupos independentes\n",
        "- A variável dependente é contínua\n",
        "- A variável independente é categórica\n",
        "- Seus dados de amostra devem seguir uma distribuição normal ou cada grupo deve ter variações aproximadamente iguais (se não tiver, usar o ANOVA de Welch)."
      ],
      "metadata": {
        "id": "jnYUjSSGD0fP"
      }
    },
    {
      "cell_type": "markdown",
      "source": [
        "Precisamos observar a variância desses dados. Para isso, vamos aplicar o teste de Bartlett, mas antes vamos agrupar os dados das pessoas que têm 1, 2 e 3 filhos."
      ],
      "metadata": {
        "id": "_x7JV5eAFcDG"
      }
    },
    {
      "cell_type": "code",
      "source": [
        "# DataFrame com pessoas que têm 1 filho\n",
        "df_um_filho = df[df['kids'] == 1][['expenses']]\n",
        "\n",
        "# DataFrame com pessoas que têm 2 filhos\n",
        "df_dois_filhos = df[df['kids'] == 2][['expenses']]\n",
        "\n",
        "# DataFrame com pessoas que têm 3 filhos\n",
        "df_tres_filhos = df[df['kids'] == 3][['expenses']]"
      ],
      "metadata": {
        "id": "s8-i9jdnJq1w"
      },
      "execution_count": null,
      "outputs": []
    },
    {
      "cell_type": "markdown",
      "source": [
        "Agora podemos aplicar o teste propriamente dito, lembrando que nossas hipóteses são:\n",
        "\n",
        "- H0: as variâncias são estatisticamente iguais\n",
        "- Ha: as variâncias são estatisticamente diferentes"
      ],
      "metadata": {
        "id": "EOxfawA6UhPx"
      }
    },
    {
      "cell_type": "code",
      "source": [
        "# Importando o teste de barlett\n",
        "from scipy.stats import bartlett\n",
        "\n",
        "# Execute o teste de Bartlett para verificar a homogeneidade das variâncias\n",
        "statistic, p_value = bartlett(df_um_filho['expenses'] ,df_dois_filhos['expenses'], df_tres_filhos['expenses'])\n",
        "\n",
        "# Exiba o resultado do teste\n",
        "print(f\"Estatística de Bartlett: {statistic}\")\n",
        "print(f\"Valor p: {p_value}\\n\")\n",
        "\n",
        "# Nível de significância\n",
        "alpha = 0.05\n",
        "\n",
        "# Conclusões\n",
        "if p_value < alpha:\n",
        "    print(\"Rejeitar H0: Há evidências suficientes para rejeitar a hipótese nula. As variâncias são diferentes.\")\n",
        "else:\n",
        "    print(\"Falha em rejeitar H0: Não temos evidências suficientes para rejeitar a hipótese nula. As variâncias são iguais.\")"
      ],
      "metadata": {
        "colab": {
          "base_uri": "https://localhost:8080/"
        },
        "id": "JU8GBYlQKD9Q",
        "outputId": "f06cecda-54db-42a4-bbf7-bafa09ebf1f4"
      },
      "execution_count": null,
      "outputs": [
        {
          "output_type": "stream",
          "name": "stdout",
          "text": [
            "Estatística de Bartlett: 102.21719770243517\n",
            "Valor p:6.365280420300725e-23\n",
            "\n",
            "Rejeitar H0: Há evidências suficientes para rejeitar a hipótese nula. As variâncias são diferentes.\n"
          ]
        }
      ]
    },
    {
      "cell_type": "markdown",
      "source": [
        "Obtivemos um valor p bem baixo após aplicarmos o nosso teste. Portanto, rejeitamos a hipótese nula a um nível de significância de 0,05, o que nos leva a concluir que as variâncias são diferentes."
      ],
      "metadata": {
        "id": "cV5nRLg0WnM6"
      }
    },
    {
      "cell_type": "markdown",
      "source": [
        "Com esse resultado do nosso teste, nossos dados não respeitam o último dos requisitos. Nesse caso, vamos recorrer ao ANOVA de Welch. Dito isso, vamos seguir adiante."
      ],
      "metadata": {
        "id": "jxhneVPMXJmg"
      }
    },
    {
      "cell_type": "code",
      "source": [
        "# Realizando a instalação\n",
        "!pip install pingouin"
      ],
      "metadata": {
        "id": "Fi4WKhr8sKEf"
      },
      "execution_count": null,
      "outputs": []
    },
    {
      "cell_type": "code",
      "source": [
        "# Importando a biblioteca pingouin\n",
        "import pingouin as pg\n",
        "\n",
        "# Pegando apenas os dados onde a coluna 'kids' é diferente de 0\n",
        "df_com_filhos = df[df['kids'] != 0]\n",
        "\n",
        "# Execute o teste de ANOVA de Welch\n",
        "anova_welch = pg.welch_anova(dv='expenses', between='kids', data=df_com_filhos)\n",
        "\n",
        "# Pegue apenas o valor p do resultado\n",
        "p_value = anova_welch['p-unc'].values\n",
        "\n",
        "# Nível de significância\n",
        "alpha = 0.05\n",
        "\n",
        "# Conclusões\n",
        "if p_value < alpha:\n",
        "    print(\"Rejeitar H0: Há evidências suficientes para rejeitar a hipótese nula. Pelo menos um grupo difere dos outros.\")\n",
        "else:\n",
        "    print(\"Falha em rejeitar H0: Não temos evidências suficientes para rejeitar a hipótese nula. Não existe diferença entre os grupos.\")"
      ],
      "metadata": {
        "colab": {
          "base_uri": "https://localhost:8080/"
        },
        "id": "FgqX86wtXoww",
        "outputId": "be56fa6d-fd8a-4bc6-d5c9-83974b694612"
      },
      "execution_count": null,
      "outputs": [
        {
          "output_type": "stream",
          "name": "stdout",
          "text": [
            "Rejeitar H0: Há evidências suficientes para rejeitar a hipótese nula. Pelo menos um grupo difere dos outros.\n"
          ]
        }
      ]
    },
    {
      "cell_type": "markdown",
      "source": [
        "Após a aplicação do nosso teste a um nível de significância de 0,05, rejeitamos a hipótese nula. Logo, podemos concluir que os grupos apresentam diferenças entre si."
      ],
      "metadata": {
        "id": "thi7UvLIY3rq"
      }
    },
    {
      "cell_type": "markdown",
      "source": [
        "Nossa missão agora é identificar quais grupos apresentam essas diferenças. Como os grupos apresentam variâncias diferentes, não podemos aplicar o teste de Tukey. Sendo assim, vamos aplicar o teste de Games-Howell. Dito isso, vamos seguir adiante."
      ],
      "metadata": {
        "id": "qoyFzSmBZik6"
      }
    },
    {
      "cell_type": "markdown",
      "source": [
        "Vamos observar quantos registros temos para cada grupo de filhos."
      ],
      "metadata": {
        "id": "S2Kko6r-dh86"
      }
    },
    {
      "cell_type": "code",
      "source": [
        "# Observando quantos registros temos em cada grupo\n",
        "df_com_filhos['kids'].value_counts()"
      ],
      "metadata": {
        "colab": {
          "base_uri": "https://localhost:8080/"
        },
        "id": "-H6diZRtdmHB",
        "outputId": "ca79192d-42ff-4a2b-bd5b-0375fc2111b9"
      },
      "execution_count": null,
      "outputs": [
        {
          "output_type": "execute_result",
          "data": {
            "text/plain": [
              "1    1112\n",
              "2     415\n",
              "3      50\n",
              "Name: kids, dtype: int64"
            ]
          },
          "metadata": {},
          "execution_count": 79
        }
      ]
    },
    {
      "cell_type": "markdown",
      "source": [
        "Estamos respeitando o teorema do limite central. Logo, vamos seguir adiante para a aplicação do teste."
      ],
      "metadata": {
        "id": "Rb763aR6duhk"
      }
    },
    {
      "cell_type": "code",
      "source": [
        "# Realizando o teste de Games-Howell\n",
        "games_howell_results = pg.pairwise_gameshowell(df_com_filhos, dv='expenses', between='kids')\n",
        "\n",
        "# Exibindo o resultado\n",
        "games_howell_results"
      ],
      "metadata": {
        "colab": {
          "base_uri": "https://localhost:8080/",
          "height": 143
        },
        "id": "pBom7ThGd5Rq",
        "outputId": "60953faf-450b-4a62-8680-32eeb1d8f8d2"
      },
      "execution_count": null,
      "outputs": [
        {
          "output_type": "execute_result",
          "data": {
            "text/plain": [
              "   A  B     mean(A)     mean(B)        diff         se          T  \\\n",
              "0  1  2  434.530576  221.568675  212.961901  19.678256  10.822194   \n",
              "1  1  3  434.530576  237.380000  197.150576  56.823741   3.469511   \n",
              "2  2  3  221.568675  237.380000  -15.811325  56.988869  -0.277446   \n",
              "\n",
              "            df          pval    hedges  \n",
              "0  1152.588538  2.596812e-13  0.513077  \n",
              "1    55.099957  2.888048e-03  0.437688  \n",
              "2    55.722906  9.584865e-01 -0.052201  "
            ],
            "text/html": [
              "\n",
              "  <div id=\"df-59556ed7-1bb3-4b6d-a5a3-c2f35567dbc1\" class=\"colab-df-container\">\n",
              "    <div>\n",
              "<style scoped>\n",
              "    .dataframe tbody tr th:only-of-type {\n",
              "        vertical-align: middle;\n",
              "    }\n",
              "\n",
              "    .dataframe tbody tr th {\n",
              "        vertical-align: top;\n",
              "    }\n",
              "\n",
              "    .dataframe thead th {\n",
              "        text-align: right;\n",
              "    }\n",
              "</style>\n",
              "<table border=\"1\" class=\"dataframe\">\n",
              "  <thead>\n",
              "    <tr style=\"text-align: right;\">\n",
              "      <th></th>\n",
              "      <th>A</th>\n",
              "      <th>B</th>\n",
              "      <th>mean(A)</th>\n",
              "      <th>mean(B)</th>\n",
              "      <th>diff</th>\n",
              "      <th>se</th>\n",
              "      <th>T</th>\n",
              "      <th>df</th>\n",
              "      <th>pval</th>\n",
              "      <th>hedges</th>\n",
              "    </tr>\n",
              "  </thead>\n",
              "  <tbody>\n",
              "    <tr>\n",
              "      <th>0</th>\n",
              "      <td>1</td>\n",
              "      <td>2</td>\n",
              "      <td>434.530576</td>\n",
              "      <td>221.568675</td>\n",
              "      <td>212.961901</td>\n",
              "      <td>19.678256</td>\n",
              "      <td>10.822194</td>\n",
              "      <td>1152.588538</td>\n",
              "      <td>2.596812e-13</td>\n",
              "      <td>0.513077</td>\n",
              "    </tr>\n",
              "    <tr>\n",
              "      <th>1</th>\n",
              "      <td>1</td>\n",
              "      <td>3</td>\n",
              "      <td>434.530576</td>\n",
              "      <td>237.380000</td>\n",
              "      <td>197.150576</td>\n",
              "      <td>56.823741</td>\n",
              "      <td>3.469511</td>\n",
              "      <td>55.099957</td>\n",
              "      <td>2.888048e-03</td>\n",
              "      <td>0.437688</td>\n",
              "    </tr>\n",
              "    <tr>\n",
              "      <th>2</th>\n",
              "      <td>2</td>\n",
              "      <td>3</td>\n",
              "      <td>221.568675</td>\n",
              "      <td>237.380000</td>\n",
              "      <td>-15.811325</td>\n",
              "      <td>56.988869</td>\n",
              "      <td>-0.277446</td>\n",
              "      <td>55.722906</td>\n",
              "      <td>9.584865e-01</td>\n",
              "      <td>-0.052201</td>\n",
              "    </tr>\n",
              "  </tbody>\n",
              "</table>\n",
              "</div>\n",
              "    <div class=\"colab-df-buttons\">\n",
              "\n",
              "  <div class=\"colab-df-container\">\n",
              "    <button class=\"colab-df-convert\" onclick=\"convertToInteractive('df-59556ed7-1bb3-4b6d-a5a3-c2f35567dbc1')\"\n",
              "            title=\"Convert this dataframe to an interactive table.\"\n",
              "            style=\"display:none;\">\n",
              "\n",
              "  <svg xmlns=\"http://www.w3.org/2000/svg\" height=\"24px\" viewBox=\"0 -960 960 960\">\n",
              "    <path d=\"M120-120v-720h720v720H120Zm60-500h600v-160H180v160Zm220 220h160v-160H400v160Zm0 220h160v-160H400v160ZM180-400h160v-160H180v160Zm440 0h160v-160H620v160ZM180-180h160v-160H180v160Zm440 0h160v-160H620v160Z\"/>\n",
              "  </svg>\n",
              "    </button>\n",
              "\n",
              "  <style>\n",
              "    .colab-df-container {\n",
              "      display:flex;\n",
              "      gap: 12px;\n",
              "    }\n",
              "\n",
              "    .colab-df-convert {\n",
              "      background-color: #E8F0FE;\n",
              "      border: none;\n",
              "      border-radius: 50%;\n",
              "      cursor: pointer;\n",
              "      display: none;\n",
              "      fill: #1967D2;\n",
              "      height: 32px;\n",
              "      padding: 0 0 0 0;\n",
              "      width: 32px;\n",
              "    }\n",
              "\n",
              "    .colab-df-convert:hover {\n",
              "      background-color: #E2EBFA;\n",
              "      box-shadow: 0px 1px 2px rgba(60, 64, 67, 0.3), 0px 1px 3px 1px rgba(60, 64, 67, 0.15);\n",
              "      fill: #174EA6;\n",
              "    }\n",
              "\n",
              "    .colab-df-buttons div {\n",
              "      margin-bottom: 4px;\n",
              "    }\n",
              "\n",
              "    [theme=dark] .colab-df-convert {\n",
              "      background-color: #3B4455;\n",
              "      fill: #D2E3FC;\n",
              "    }\n",
              "\n",
              "    [theme=dark] .colab-df-convert:hover {\n",
              "      background-color: #434B5C;\n",
              "      box-shadow: 0px 1px 3px 1px rgba(0, 0, 0, 0.15);\n",
              "      filter: drop-shadow(0px 1px 2px rgba(0, 0, 0, 0.3));\n",
              "      fill: #FFFFFF;\n",
              "    }\n",
              "  </style>\n",
              "\n",
              "    <script>\n",
              "      const buttonEl =\n",
              "        document.querySelector('#df-59556ed7-1bb3-4b6d-a5a3-c2f35567dbc1 button.colab-df-convert');\n",
              "      buttonEl.style.display =\n",
              "        google.colab.kernel.accessAllowed ? 'block' : 'none';\n",
              "\n",
              "      async function convertToInteractive(key) {\n",
              "        const element = document.querySelector('#df-59556ed7-1bb3-4b6d-a5a3-c2f35567dbc1');\n",
              "        const dataTable =\n",
              "          await google.colab.kernel.invokeFunction('convertToInteractive',\n",
              "                                                    [key], {});\n",
              "        if (!dataTable) return;\n",
              "\n",
              "        const docLinkHtml = 'Like what you see? Visit the ' +\n",
              "          '<a target=\"_blank\" href=https://colab.research.google.com/notebooks/data_table.ipynb>data table notebook</a>'\n",
              "          + ' to learn more about interactive tables.';\n",
              "        element.innerHTML = '';\n",
              "        dataTable['output_type'] = 'display_data';\n",
              "        await google.colab.output.renderOutput(dataTable, element);\n",
              "        const docLink = document.createElement('div');\n",
              "        docLink.innerHTML = docLinkHtml;\n",
              "        element.appendChild(docLink);\n",
              "      }\n",
              "    </script>\n",
              "  </div>\n",
              "\n",
              "\n",
              "<div id=\"df-53fdb215-667b-40c0-a038-7a939df1ac0f\">\n",
              "  <button class=\"colab-df-quickchart\" onclick=\"quickchart('df-53fdb215-667b-40c0-a038-7a939df1ac0f')\"\n",
              "            title=\"Suggest charts\"\n",
              "            style=\"display:none;\">\n",
              "\n",
              "<svg xmlns=\"http://www.w3.org/2000/svg\" height=\"24px\"viewBox=\"0 0 24 24\"\n",
              "     width=\"24px\">\n",
              "    <g>\n",
              "        <path d=\"M19 3H5c-1.1 0-2 .9-2 2v14c0 1.1.9 2 2 2h14c1.1 0 2-.9 2-2V5c0-1.1-.9-2-2-2zM9 17H7v-7h2v7zm4 0h-2V7h2v10zm4 0h-2v-4h2v4z\"/>\n",
              "    </g>\n",
              "</svg>\n",
              "  </button>\n",
              "\n",
              "<style>\n",
              "  .colab-df-quickchart {\n",
              "      --bg-color: #E8F0FE;\n",
              "      --fill-color: #1967D2;\n",
              "      --hover-bg-color: #E2EBFA;\n",
              "      --hover-fill-color: #174EA6;\n",
              "      --disabled-fill-color: #AAA;\n",
              "      --disabled-bg-color: #DDD;\n",
              "  }\n",
              "\n",
              "  [theme=dark] .colab-df-quickchart {\n",
              "      --bg-color: #3B4455;\n",
              "      --fill-color: #D2E3FC;\n",
              "      --hover-bg-color: #434B5C;\n",
              "      --hover-fill-color: #FFFFFF;\n",
              "      --disabled-bg-color: #3B4455;\n",
              "      --disabled-fill-color: #666;\n",
              "  }\n",
              "\n",
              "  .colab-df-quickchart {\n",
              "    background-color: var(--bg-color);\n",
              "    border: none;\n",
              "    border-radius: 50%;\n",
              "    cursor: pointer;\n",
              "    display: none;\n",
              "    fill: var(--fill-color);\n",
              "    height: 32px;\n",
              "    padding: 0;\n",
              "    width: 32px;\n",
              "  }\n",
              "\n",
              "  .colab-df-quickchart:hover {\n",
              "    background-color: var(--hover-bg-color);\n",
              "    box-shadow: 0 1px 2px rgba(60, 64, 67, 0.3), 0 1px 3px 1px rgba(60, 64, 67, 0.15);\n",
              "    fill: var(--button-hover-fill-color);\n",
              "  }\n",
              "\n",
              "  .colab-df-quickchart-complete:disabled,\n",
              "  .colab-df-quickchart-complete:disabled:hover {\n",
              "    background-color: var(--disabled-bg-color);\n",
              "    fill: var(--disabled-fill-color);\n",
              "    box-shadow: none;\n",
              "  }\n",
              "\n",
              "  .colab-df-spinner {\n",
              "    border: 2px solid var(--fill-color);\n",
              "    border-color: transparent;\n",
              "    border-bottom-color: var(--fill-color);\n",
              "    animation:\n",
              "      spin 1s steps(1) infinite;\n",
              "  }\n",
              "\n",
              "  @keyframes spin {\n",
              "    0% {\n",
              "      border-color: transparent;\n",
              "      border-bottom-color: var(--fill-color);\n",
              "      border-left-color: var(--fill-color);\n",
              "    }\n",
              "    20% {\n",
              "      border-color: transparent;\n",
              "      border-left-color: var(--fill-color);\n",
              "      border-top-color: var(--fill-color);\n",
              "    }\n",
              "    30% {\n",
              "      border-color: transparent;\n",
              "      border-left-color: var(--fill-color);\n",
              "      border-top-color: var(--fill-color);\n",
              "      border-right-color: var(--fill-color);\n",
              "    }\n",
              "    40% {\n",
              "      border-color: transparent;\n",
              "      border-right-color: var(--fill-color);\n",
              "      border-top-color: var(--fill-color);\n",
              "    }\n",
              "    60% {\n",
              "      border-color: transparent;\n",
              "      border-right-color: var(--fill-color);\n",
              "    }\n",
              "    80% {\n",
              "      border-color: transparent;\n",
              "      border-right-color: var(--fill-color);\n",
              "      border-bottom-color: var(--fill-color);\n",
              "    }\n",
              "    90% {\n",
              "      border-color: transparent;\n",
              "      border-bottom-color: var(--fill-color);\n",
              "    }\n",
              "  }\n",
              "</style>\n",
              "\n",
              "  <script>\n",
              "    async function quickchart(key) {\n",
              "      const quickchartButtonEl =\n",
              "        document.querySelector('#' + key + ' button');\n",
              "      quickchartButtonEl.disabled = true;  // To prevent multiple clicks.\n",
              "      quickchartButtonEl.classList.add('colab-df-spinner');\n",
              "      try {\n",
              "        const charts = await google.colab.kernel.invokeFunction(\n",
              "            'suggestCharts', [key], {});\n",
              "      } catch (error) {\n",
              "        console.error('Error during call to suggestCharts:', error);\n",
              "      }\n",
              "      quickchartButtonEl.classList.remove('colab-df-spinner');\n",
              "      quickchartButtonEl.classList.add('colab-df-quickchart-complete');\n",
              "    }\n",
              "    (() => {\n",
              "      let quickchartButtonEl =\n",
              "        document.querySelector('#df-53fdb215-667b-40c0-a038-7a939df1ac0f button');\n",
              "      quickchartButtonEl.style.display =\n",
              "        google.colab.kernel.accessAllowed ? 'block' : 'none';\n",
              "    })();\n",
              "  </script>\n",
              "</div>\n",
              "\n",
              "  <div id=\"id_38c0380f-fc57-470f-8b0c-3f710892faee\">\n",
              "    <style>\n",
              "      .colab-df-generate {\n",
              "        background-color: #E8F0FE;\n",
              "        border: none;\n",
              "        border-radius: 50%;\n",
              "        cursor: pointer;\n",
              "        display: none;\n",
              "        fill: #1967D2;\n",
              "        height: 32px;\n",
              "        padding: 0 0 0 0;\n",
              "        width: 32px;\n",
              "      }\n",
              "\n",
              "      .colab-df-generate:hover {\n",
              "        background-color: #E2EBFA;\n",
              "        box-shadow: 0px 1px 2px rgba(60, 64, 67, 0.3), 0px 1px 3px 1px rgba(60, 64, 67, 0.15);\n",
              "        fill: #174EA6;\n",
              "      }\n",
              "\n",
              "      [theme=dark] .colab-df-generate {\n",
              "        background-color: #3B4455;\n",
              "        fill: #D2E3FC;\n",
              "      }\n",
              "\n",
              "      [theme=dark] .colab-df-generate:hover {\n",
              "        background-color: #434B5C;\n",
              "        box-shadow: 0px 1px 3px 1px rgba(0, 0, 0, 0.15);\n",
              "        filter: drop-shadow(0px 1px 2px rgba(0, 0, 0, 0.3));\n",
              "        fill: #FFFFFF;\n",
              "      }\n",
              "    </style>\n",
              "    <button class=\"colab-df-generate\" onclick=\"generateWithVariable('games_howell_results')\"\n",
              "            title=\"Generate code using this dataframe.\"\n",
              "            style=\"display:none;\">\n",
              "\n",
              "  <svg xmlns=\"http://www.w3.org/2000/svg\" height=\"24px\"viewBox=\"0 0 24 24\"\n",
              "       width=\"24px\">\n",
              "    <path d=\"M7,19H8.4L18.45,9,17,7.55,7,17.6ZM5,21V16.75L18.45,3.32a2,2,0,0,1,2.83,0l1.4,1.43a1.91,1.91,0,0,1,.58,1.4,1.91,1.91,0,0,1-.58,1.4L9.25,21ZM18.45,9,17,7.55Zm-12,3A5.31,5.31,0,0,0,4.9,8.1,5.31,5.31,0,0,0,1,6.5,5.31,5.31,0,0,0,4.9,4.9,5.31,5.31,0,0,0,6.5,1,5.31,5.31,0,0,0,8.1,4.9,5.31,5.31,0,0,0,12,6.5,5.46,5.46,0,0,0,6.5,12Z\"/>\n",
              "  </svg>\n",
              "    </button>\n",
              "    <script>\n",
              "      (() => {\n",
              "      const buttonEl =\n",
              "        document.querySelector('#id_38c0380f-fc57-470f-8b0c-3f710892faee button.colab-df-generate');\n",
              "      buttonEl.style.display =\n",
              "        google.colab.kernel.accessAllowed ? 'block' : 'none';\n",
              "\n",
              "      buttonEl.onclick = () => {\n",
              "        google.colab.notebook.generateWithVariable('games_howell_results');\n",
              "      }\n",
              "      })();\n",
              "    </script>\n",
              "  </div>\n",
              "\n",
              "    </div>\n",
              "  </div>\n"
            ],
            "application/vnd.google.colaboratory.intrinsic+json": {
              "type": "dataframe",
              "variable_name": "games_howell_results",
              "summary": "{\n  \"name\": \"games_howell_results\",\n  \"rows\": 3,\n  \"fields\": [\n    {\n      \"column\": \"A\",\n      \"properties\": {\n        \"dtype\": \"number\",\n        \"std\": 0,\n        \"min\": 1,\n        \"max\": 2,\n        \"num_unique_values\": 2,\n        \"samples\": [\n          2,\n          1\n        ],\n        \"semantic_type\": \"\",\n        \"description\": \"\"\n      }\n    },\n    {\n      \"column\": \"B\",\n      \"properties\": {\n        \"dtype\": \"number\",\n        \"std\": 0,\n        \"min\": 2,\n        \"max\": 3,\n        \"num_unique_values\": 2,\n        \"samples\": [\n          3,\n          2\n        ],\n        \"semantic_type\": \"\",\n        \"description\": \"\"\n      }\n    },\n    {\n      \"column\": \"mean(A)\",\n      \"properties\": {\n        \"dtype\": \"number\",\n        \"std\": 122.95361077755479,\n        \"min\": 221.56867469879518,\n        \"max\": 434.53057553956836,\n        \"num_unique_values\": 2,\n        \"samples\": [\n          221.56867469879518,\n          434.53057553956836\n        ],\n        \"semantic_type\": \"\",\n        \"description\": \"\"\n      }\n    },\n    {\n      \"column\": \"mean(B)\",\n      \"properties\": {\n        \"dtype\": \"number\",\n        \"std\": 9.128672918895342,\n        \"min\": 221.56867469879518,\n        \"max\": 237.38,\n        \"num_unique_values\": 2,\n        \"samples\": [\n          237.38,\n          221.56867469879518\n        ],\n        \"semantic_type\": \"\",\n        \"description\": \"\"\n      }\n    },\n    {\n      \"column\": \"diff\",\n      \"properties\": {\n        \"dtype\": \"number\",\n        \"std\": 127.76277380162061,\n        \"min\": -15.811325301204818,\n        \"max\": 212.96190084077318,\n        \"num_unique_values\": 3,\n        \"samples\": [\n          212.96190084077318,\n          197.15057553956837\n        ],\n        \"semantic_type\": \"\",\n        \"description\": \"\"\n      }\n    },\n    {\n      \"column\": \"se\",\n      \"properties\": {\n        \"dtype\": \"number\",\n        \"std\": 21.493782362371125,\n        \"min\": 19.67825641892667,\n        \"max\": 56.98886864607078,\n        \"num_unique_values\": 3,\n        \"samples\": [\n          19.67825641892667,\n          56.82374106461926\n        ],\n        \"semantic_type\": \"\",\n        \"description\": \"\"\n      }\n    },\n    {\n      \"column\": \"T\",\n      \"properties\": {\n        \"dtype\": \"number\",\n        \"std\": 5.646586370166051,\n        \"min\": -0.27744585349467127,\n        \"max\": 10.822193608369952,\n        \"num_unique_values\": 3,\n        \"samples\": [\n          10.822193608369952,\n          3.4695106630760395\n        ],\n        \"semantic_type\": \"\",\n        \"description\": \"\"\n      }\n    },\n    {\n      \"column\": \"df\",\n      \"properties\": {\n        \"dtype\": \"number\",\n        \"std\": 633.4555743547575,\n        \"min\": 55.09995699513535,\n        \"max\": 1152.5885381143596,\n        \"num_unique_values\": 3,\n        \"samples\": [\n          1152.5885381143596,\n          55.09995699513535\n        ],\n        \"semantic_type\": \"\",\n        \"description\": \"\"\n      }\n    },\n    {\n      \"column\": \"pval\",\n      \"properties\": {\n        \"dtype\": \"number\",\n        \"std\": 0.5525506230754874,\n        \"min\": 2.596811654598241e-13,\n        \"max\": 0.9584865085558164,\n        \"num_unique_values\": 3,\n        \"samples\": [\n          2.596811654598241e-13,\n          0.00288804766110351\n        ],\n        \"semantic_type\": \"\",\n        \"description\": \"\"\n      }\n    },\n    {\n      \"column\": \"hedges\",\n      \"properties\": {\n        \"dtype\": \"number\",\n        \"std\": 0.3069242353974298,\n        \"min\": -0.05220141529480797,\n        \"max\": 0.5130767740803365,\n        \"num_unique_values\": 3,\n        \"samples\": [\n          0.5130767740803365,\n          0.4376884581258234\n        ],\n        \"semantic_type\": \"\",\n        \"description\": \"\"\n      }\n    }\n  ]\n}"
            }
          },
          "metadata": {},
          "execution_count": 76
        }
      ]
    },
    {
      "cell_type": "markdown",
      "source": [
        "Importante frisar que o valor de alpha é 5e-02, que é igual a 0,05."
      ],
      "metadata": {
        "id": "u4fiG4fVpPiG"
      }
    },
    {
      "cell_type": "markdown",
      "source": [
        "Comparação entre os grupos 1 e 2:\n",
        "\n",
        "- A média de gastos das pessoas com 1 filho é 434,53 e com 2 filhos é 221,56.\n",
        "- A diferença entre esses grupos é de 212,96.\n",
        "- O erro padrão da diferença é de 19,67.\n",
        "- A estatística do teste é de 10,82.\n",
        "- Os graus de liberdade são de 1152,58.\n",
        "- O valor p é de 2,59e-13, o que o torna bem menor que nosso alpha. Portanto, rejeitamos H0, logo podemos afirmar que existe diferença estatística entre os grupos.\n",
        "- O tamanho do efeito de Hedges é de 0,51.\n",
        "\n",
        "Comparação entre os grupos 1 e 3:\n",
        "\n",
        "- A média de gastos das pessoas com 1 filho é 434,53 e com 3 filhos é 237,38.\n",
        "- A diferença entre esses grupos é de 197,15.\n",
        "- O erro padrão da diferença é de 56,82.\n",
        "- A estatística do teste é de 3,46.\n",
        "- Os graus de liberdade são de 55,09.\n",
        "- O valor p é de 2,88e-03, o que o torna menor que nosso alpha. Portanto, rejeitamos H0, logo podemos afirmar que existe diferença estatística entre os grupos.\n",
        "- O tamanho do efeito de Hedges é de 0,43.\n",
        "\n",
        "Comparação entre os grupos 2 e 3:\n",
        "\n",
        "- A média de gastos das pessoas com 2 filhos é 221,56 e com 3 filhos é 237,38.\n",
        "- A diferença entre esses grupos é de -15,81.\n",
        "- O erro padrão da diferença é de 56,98.\n",
        "- A estatística do teste é de -0,27.\n",
        "- Os graus de liberdade são de 55,72.\n",
        "- O valor p é de 9,58e-01, o que o torna maior que nosso alpha. Portanto, falhamos em rejeitar H0, logo podemos afirmar que não existe diferença estatística entre os grupos.\n",
        "- O tamanho do efeito de Hedges é de -0,05."
      ],
      "metadata": {
        "id": "XRkgFROniV5z"
      }
    },
    {
      "cell_type": "markdown",
      "source": [
        "**Conclusões**\n",
        "\n",
        "Após os testes, podemos notar que existem diferenças nos gastos das pessoas:\n",
        "\n",
        "- 1 filho x 2 filhos: As pessoas com 1 filho apresentam uma média de gastos maior do que as pessoas com 2 filhos.\n",
        "- 1 filho x 3 filhos: As pessoas com 1 filho apresentam uma média de gastos maior do que as pessoas com 3 filhos.\n",
        "- 2 filhos x 3 filhos: Apresentam médias estatisticamente iguais.\n",
        "-------------------\n",
        "O grupo com a menor média de gastos são pessoas com 2 e 3 filhos, sendo que pessoas com 2 filhos apresentam a menor média de todas."
      ],
      "metadata": {
        "id": "fzXFtUmDpDpG"
      }
    },
    {
      "cell_type": "markdown",
      "source": [
        "### **Pessoas que têm um maior salário tende a gastar mais?**"
      ],
      "metadata": {
        "id": "yT3qld0xveXT"
      }
    },
    {
      "cell_type": "code",
      "source": [
        "# Criando o gráfico de dispersão\n",
        "sns.scatterplot(data = df, x = 'expenses', y = 'Income')\n",
        "plt.title(\"Renda x Gastos\");"
      ],
      "metadata": {
        "colab": {
          "base_uri": "https://localhost:8080/",
          "height": 472
        },
        "id": "sZfa-vbhvgQi",
        "outputId": "bc9b9cec-5583-44df-ab3c-c32b2adc1a38"
      },
      "execution_count": null,
      "outputs": [
        {
          "output_type": "display_data",
          "data": {
            "text/plain": [
              "<Figure size 640x480 with 1 Axes>"
            ],
            "image/png": "[encoded data removed]"
          },
          "metadata": {}
        }
      ]
    },
    {
      "cell_type": "markdown",
      "source": [
        "Podemos observar que pessoas que ganham acima de 35 mil tendem a gastar cada vez mais conforme o aumento da renda."
      ],
      "metadata": {
        "id": "KidsIHUwv7Wn"
      }
    },
    {
      "cell_type": "markdown",
      "source": [
        "### **Pessoas que reclamam voltam a comprar ?**"
      ],
      "metadata": {
        "id": "_eJmdpHX_kKB"
      }
    },
    {
      "cell_type": "markdown",
      "source": [
        "Queremos agora saber se o fato de uma pessoa reclamar na plataforma a torna detratora (detrator aqui seria não comprar mais em nossa plataforma).\n",
        "\n",
        "Dito isso, vamos começar observando os gastos de uma pessoa que reclama."
      ],
      "metadata": {
        "id": "KNw26ZrP_sRe"
      }
    },
    {
      "cell_type": "code",
      "source": [
        "# Observando a quantidade de reclamações\n",
        "df['Complain'].value_counts()"
      ],
      "metadata": {
        "colab": {
          "base_uri": "https://localhost:8080/"
        },
        "id": "DHeX1rjd_9Qu",
        "outputId": "c94a422c-b0aa-4f34-ecc6-cc77b3f9cd25"
      },
      "execution_count": null,
      "outputs": [
        {
          "output_type": "execute_result",
          "data": {
            "text/plain": [
              "0    2185\n",
              "1      20\n",
              "Name: Complain, dtype: int64"
            ]
          },
          "metadata": {},
          "execution_count": 4
        }
      ]
    },
    {
      "cell_type": "markdown",
      "source": [
        "Temos 20 pessoas que reclamaram nos últimos dois anos, agora vamos observar a média de gastos."
      ],
      "metadata": {
        "id": "aFlBK25XBLF_"
      }
    },
    {
      "cell_type": "code",
      "source": [
        "# Agrupando os dados e observando a média\n",
        "df.groupby(\"Complain\")[\"expenses\"].mean().sort_values(ascending=False)"
      ],
      "metadata": {
        "colab": {
          "base_uri": "https://localhost:8080/"
        },
        "id": "kpKCpfP2AElP",
        "outputId": "61f9e74c-31ec-404e-96ce-812e327234a6"
      },
      "execution_count": null,
      "outputs": [
        {
          "output_type": "execute_result",
          "data": {
            "text/plain": [
              "Complain\n",
              "0    564.58032\n",
              "1    364.40000\n",
              "Name: expenses, dtype: float64"
            ]
          },
          "metadata": {},
          "execution_count": 5
        }
      ]
    },
    {
      "cell_type": "markdown",
      "source": [
        "Aqui podemos notar que as pessoas que fizeram alguma reclamação têm uma média de gastos menor do que as que não apresentaram."
      ],
      "metadata": {
        "id": "FYD9x8FrBY-3"
      }
    },
    {
      "cell_type": "code",
      "source": [
        "# Agrupando os dados e calculando a média das despesas para cada reclamação\n",
        "gastos_reclamacao = df.groupby(\"Complain\")[\"expenses\"].mean().sort_values(ascending=False)\n",
        "\n",
        "# Definindo o tamanho da figura\n",
        "plt.figure(figsize=(5, 4))\n",
        "\n",
        "# Criando o gráfico de barras\n",
        "gastos_reclamacao.plot(kind='bar', color='skyblue')\n",
        "\n",
        "# Definindo o título do gráfico\n",
        "plt.title('Média de Gastos por Reclamação')\n",
        "\n",
        "# Definindo o rótulo do eixo x\n",
        "plt.xlabel('')\n",
        "\n",
        "# Rotacionando os rótulos do eixo x para melhor visualização\n",
        "plt.xticks(rotation=0, ha='right')\n",
        "\n",
        "# Ajustando o layout do gráfico\n",
        "plt.tight_layout()\n",
        "\n",
        "# Exibindo o gráfico\n",
        "plt.show()"
      ],
      "metadata": {
        "colab": {
          "base_uri": "https://localhost:8080/",
          "height": 407
        },
        "id": "IYyAC3XxBrT_",
        "outputId": "53e93237-2456-4a94-cb6c-93e23b1d40e2"
      },
      "execution_count": null,
      "outputs": [
        {
          "output_type": "display_data",
          "data": {
            "text/plain": [
              "<Figure size 500x400 with 1 Axes>"
            ],
            "image/png": "[encoded data removed]"
          },
          "metadata": {}
        }
      ]
    },
    {
      "cell_type": "markdown",
      "source": [
        "Dessa forma, podemos observar de maneira mais visual a diferença da média de gastos entre as pessoas que apresentaram alguma reclamação e as que não apresentaram. A pergunta que resta é: será que realmente uma pessoa que reclama deixa de comprar em nossa plataforma? Para descobrirmos, vamos aplicar uma tese de hipótese."
      ],
      "metadata": {
        "id": "3P8fATcrDHhQ"
      }
    },
    {
      "cell_type": "markdown",
      "source": [
        "#### **Teste de hipótese paramétrico**"
      ],
      "metadata": {
        "id": "nujCcSK3EQQI"
      }
    },
    {
      "cell_type": "markdown",
      "source": [
        "Vamos começar definindo as nossas hipóteses. Se uma pessoa se torna detratora, nesse caso, ela basicamente deixará de comprar em nossa plataforma. Portanto, automaticamente, os gastos dela tendem a ser menores do que os das pessoas que compram. Logo, podemos assumir as seguintes hipóteses:\n",
        "\n",
        "H0: média de gastos de pessoas que reclamaram = média de gastos de pessoas que não reclamaram\n",
        "\n",
        "H1: média de gastos de pessoas que reclamaram ≠ média de gastos de pessoas que não reclamaram\n",
        "\n",
        "Estamos diante de um teste bicaudal"
      ],
      "metadata": {
        "id": "k7iE2hO8EViA"
      }
    },
    {
      "cell_type": "markdown",
      "source": [
        "Vamos separar os dados entre as pessoas que reclamaram e as que não reclamaram."
      ],
      "metadata": {
        "id": "C7ozTHp9IhRK"
      }
    },
    {
      "cell_type": "code",
      "source": [
        "# Pessoas que apresentaram alguma reclamação\n",
        "reclamacao = df[df['Complain'] == 1][['Complain', 'expenses']]\n",
        "\n",
        "# Pessoas que não apresentaram reclamação\n",
        "sem_reclamacao = df[df['Complain'] == 0][['Complain', 'expenses']]\n",
        "\n",
        "# Exibindo a quantidade de registros em cada uma dessas amostras\n",
        "print(f'Reclamação: {len(reclamacao)}\\nSem reclamação: {len(sem_reclamacao)}')"
      ],
      "metadata": {
        "colab": {
          "base_uri": "https://localhost:8080/"
        },
        "id": "Kq1kcdBhIrFC",
        "outputId": "e6254fb4-e274-4de5-e239-f34ee03f74f4"
      },
      "execution_count": null,
      "outputs": [
        {
          "output_type": "stream",
          "name": "stdout",
          "text": [
            "Reclamação: 20\n",
            "Sem reclamação: 2185\n"
          ]
        }
      ]
    },
    {
      "cell_type": "markdown",
      "source": [
        "Dito isso, vamos observar a distribuição dos dados para escolhermos qual teste deve ser aplicado."
      ],
      "metadata": {
        "id": "Vud6AoOVIeWZ"
      }
    },
    {
      "cell_type": "code",
      "source": [
        "# Importando o skew\n",
        "from scipy.stats import skew"
      ],
      "metadata": {
        "id": "tVjYG2hAHxxC"
      },
      "execution_count": null,
      "outputs": []
    },
    {
      "cell_type": "markdown",
      "source": [
        "Com o `skew` importado, podemos verificar a assimetria dos dados."
      ],
      "metadata": {
        "id": "Tb9ZlosEIIUa"
      }
    },
    {
      "cell_type": "code",
      "source": [
        "# Calculando o skew da amostra A\n",
        "coeficiente_assimetria_a = skew(reclamacao['expenses'])\n",
        "\n",
        "# Calculando o skew da amostra B\n",
        "coeficiente_assimetria_b = skew(sem_reclamacao['expenses'])\n",
        "\n",
        "# Exibindo o resultado\n",
        "print(f\"Skew da amostra A: {coeficiente_assimetria_a}\\nSkew da amostra B: {coeficiente_assimetria_b}\")"
      ],
      "metadata": {
        "colab": {
          "base_uri": "https://localhost:8080/"
        },
        "id": "o2DVHVmhIXgY",
        "outputId": "d40bc11f-04cd-47c9-8399-95e54d750563"
      },
      "execution_count": null,
      "outputs": [
        {
          "output_type": "stream",
          "name": "stdout",
          "text": [
            "Skew da amostra A: 0.9208589705273538\n",
            "Skew da amostra B: 0.9116318754969026\n"
          ]
        }
      ]
    },
    {
      "cell_type": "markdown",
      "source": [
        "Obtivemos um skew bastante alto. Levando em consideração que quanto mais próximo de zero, mais a distribuição se aproxima de uma normal, ambas as distribuições estão bem longe de uma normal."
      ],
      "metadata": {
        "id": "jNSZRrg2LZ9p"
      }
    },
    {
      "cell_type": "markdown",
      "source": [
        "Agora, vamos observar as variâncias desses dados. Como nossos dados não seguem uma distribuição normal, vou utilizar o teste de Levene em vez do teste de Bartlett, pois o teste de Levene é menos sensível à normalidade dos dados."
      ],
      "metadata": {
        "id": "UoueiBq9LvJq"
      }
    },
    {
      "cell_type": "code",
      "source": [
        "# Importando o teste de levene\n",
        "from scipy.stats import levene\n",
        "\n",
        "# Aplique o teste de Levene para comparar as variâncias\n",
        "statistic, p_value = levene(reclamacao['expenses'], sem_reclamacao['expenses'])\n",
        "\n",
        "# Exiba o resultado do teste\n",
        "print(f\"Estatística de Levene: {statistic}\")\n",
        "print(f\"Valor p: {p_value}\\n\")\n",
        "\n",
        "# Nível de significância\n",
        "alpha = 0.05\n",
        "\n",
        "# Conclusões\n",
        "if p_value < alpha:\n",
        "    print(\"Rejeitar H0: Há evidências suficientes para rejeitar a hipótese nula. As variâncias são diferentes.\")\n",
        "else:\n",
        "    print(\"Falha em rejeitar H0: Não temos evidências suficientes para rejeitar a hipótese nula. As variâncias são iguais.\")"
      ],
      "metadata": {
        "colab": {
          "base_uri": "https://localhost:8080/"
        },
        "id": "SRvKNQadMvvz",
        "outputId": "15bb49e6-d5a9-4baa-c191-6f4f5460ecbd"
      },
      "execution_count": null,
      "outputs": [
        {
          "output_type": "stream",
          "name": "stdout",
          "text": [
            "Estatística de Levene: 2.443754914525847\n",
            "Valor p: 0.11813710491195226\n",
            "\n",
            "Falha em rejeitar H0: Não temos evidências suficientes para rejeitar a hipótese nula. As variâncias são iguais.\n"
          ]
        }
      ]
    },
    {
      "cell_type": "markdown",
      "source": [
        "Então, chegamos à conclusão de que nossos dados apresentam variâncias semelhantes. Dito isso, neste caso, para o teste paramétrico, vamos utilizar o teste t de Welch, já que essa modificação do teste t é menos sensível à normalidade."
      ],
      "metadata": {
        "id": "iHnVsefsOD88"
      }
    },
    {
      "cell_type": "code",
      "source": [
        "# Importando o tese t de welch\n",
        "from scipy.stats import ttest_ind\n",
        "\n",
        "# Aplicando o teste t de Welch, utilizei o equal_var = True pois vimos que as variâncias são iguais\n",
        "resultado_teste = ttest_ind(reclamacao['expenses'], sem_reclamacao['expenses'], equal_var=True)\n",
        "\n",
        "# Examine o resultado\n",
        "valor_p = resultado_teste.pvalue\n",
        "print(\"Valor p do teste t de Welch:\", valor_p)\n",
        "\n",
        "# Nível de significância\n",
        "alpha = 0.05\n",
        "\n",
        "# Conclusões\n",
        "if valor_p < alpha:\n",
        "    print(\"Rejeitar H0: As médias das duas amostras são estatisticamente diferentes.\")\n",
        "else:\n",
        "    print(\"\\nFalha em rejeitar H0: As médias das duas amostras NÃO são estatisticamente diferentes.\")"
      ],
      "metadata": {
        "colab": {
          "base_uri": "https://localhost:8080/"
        },
        "id": "TC9KYfUfPCM0",
        "outputId": "f830495c-06de-45ab-e3c4-296efd909144"
      },
      "execution_count": null,
      "outputs": [
        {
          "output_type": "stream",
          "name": "stdout",
          "text": [
            "Valor p do teste t de Welch: 0.12180935471513422\n",
            "\n",
            "Falha em rejeitar H0: As médias das duas amostras NÃO são estatisticamente diferentes.\n"
          ]
        }
      ]
    },
    {
      "cell_type": "markdown",
      "source": [
        "Após a realização do teste a um nível de significância de 0,05, falhamos em rejeitar a hipótese nula. Logo, podemos afirmar que não temos evidências suficientes para concluir que as médias de gastos das pessoas que reclamam são diferentes das médias das pessoas que não reclamam."
      ],
      "metadata": {
        "id": "JYRey5U-hEey"
      }
    },
    {
      "cell_type": "markdown",
      "source": [
        "Como temos um número de elementos bastante reduzido em nossa amostra, vamos aplicar um teste não paramétrico para observarmos o resultado."
      ],
      "metadata": {
        "id": "tHAYXCFHhk5Q"
      }
    },
    {
      "cell_type": "markdown",
      "source": [
        "#### **Teste de hipótese não paramétrico**"
      ],
      "metadata": {
        "id": "Qx8ORp9uh1_Z"
      }
    },
    {
      "cell_type": "markdown",
      "source": [
        "Vamos aplicar o teste de Mann-Whitney para observarmos o resultado. Como já sabemos que as amostras não seguem uma distribuição normal e que apresentam variâncias semelhantes, podemos partir diretamente para o teste."
      ],
      "metadata": {
        "id": "5wWZdLnNiQ3p"
      }
    },
    {
      "cell_type": "code",
      "source": [
        "# Importando o teste de Mann-whitney\n",
        "from scipy.stats import mannwhitneyu\n",
        "\n",
        "# Aplicando o teste de Mann-Whitney, Utilizei o 'alternative = two-sided' pois se trata de um teste bicaudal\n",
        "stat, p_valor = mannwhitneyu(reclamacao['expenses'], sem_reclamacao['expenses'], alternative = 'two-sided')\n",
        "\n",
        "# Exibindo os resultados\n",
        "print(\"Estatística do teste de Mann-whitney:\", stat)\n",
        "print(f\"Valor p: {p_valor}\\n\")\n",
        "\n",
        "# Definindo o alpha\n",
        "alpha = 0.05\n",
        "\n",
        "# Conclusões\n",
        "if p_valor < alpha:\n",
        "    print(\"Rejeitar H0: Há evidências suficientes para concluir que existe diferenças entre as populações.\")\n",
        "else:\n",
        "    print(\"Falha em rejeitar H0: Não há evidências suficientes para concluir que existe diferenças entre as populações.\")\n"
      ],
      "metadata": {
        "colab": {
          "base_uri": "https://localhost:8080/"
        },
        "id": "o2r_OUasiBQh",
        "outputId": "d6dff8bb-1f6c-41ee-e97c-3ff6944c0e30"
      },
      "execution_count": null,
      "outputs": [
        {
          "output_type": "stream",
          "name": "stdout",
          "text": [
            "Estatística do teste de Mann-whitney: 17113.0\n",
            "Valor p: 0.09469749118274157\n",
            "\n",
            "Falha em rejeitar H0: Não há evidências suficientes para concluir que existe diferenças entre as populações.\n"
          ]
        }
      ]
    },
    {
      "cell_type": "markdown",
      "source": [
        "Após aplicar um teste de hipótese, desta vez não paramétrico, e utilizando um nível de significância de 0,05, falhamos em rejeitar a hipótese nula. Logo, podemos afirmar que não existem evidências suficientes para concluir que as amostras possuem diferenças."
      ],
      "metadata": {
        "id": "lUwLKHmti5xJ"
      }
    },
    {
      "cell_type": "markdown",
      "source": [
        "Porém, podemos notar que o valor-p está bem próximo do alpha. Nesse caso, vamos aplicar um bootstrap."
      ],
      "metadata": {
        "id": "gHl5d1vMj8ZC"
      }
    },
    {
      "cell_type": "code",
      "source": [
        "# Definindo as amostras\n",
        "amostra_A = reclamacao['expenses']\n",
        "amostra_B =  sem_reclamacao['expenses']\n",
        "\n",
        "# Defina o número de reamostragens bootstrap\n",
        "n_bootstraps = 10000\n",
        "\n",
        "# Lista para armazenar as diferenças de médias de cada reamostragem\n",
        "diferencas_medias = []\n",
        "\n",
        "# Loop para realizar as reamostragens bootstrap\n",
        "for _ in range(n_bootstraps):\n",
        "\n",
        "    # Realize a reamostragem com reposição para as duas amostras\n",
        "    amostra_A_boot = np.random.choice(amostra_A, len(amostra_A), replace=True)\n",
        "    amostra_B_boot = np.random.choice(amostra_B, len(amostra_B), replace=True)\n",
        "\n",
        "    # Calcule as médias das amostras reamostradas\n",
        "    media_amostra_A_boot = np.mean(amostra_A_boot)\n",
        "    media_amostra_B_boot = np.mean(amostra_B_boot)\n",
        "\n",
        "    # Calculando a diferença entre as médias das amostras reamostradas\n",
        "    diferenca_media = media_amostra_A_boot - media_amostra_B_boot\n",
        "\n",
        "    # Armazenando na lista das diferenças\n",
        "    diferencas_medias.append(diferenca_media)\n",
        "\n",
        "# Calculando o intervalo de confiança de 95% para a diferença de médias\n",
        "limite_inferior = np.percentile(diferencas_medias, 2.5)\n",
        "limite_superior = np.percentile(diferencas_medias, 97.5)\n",
        "\n",
        "# Exibindo o intervalo\n",
        "print(\"Intervalo de confiança (95%) da diferença de médias entre os sistemas A e B:\", (limite_inferior, limite_superior))"
      ],
      "metadata": {
        "colab": {
          "base_uri": "https://localhost:8080/"
        },
        "id": "0vWzczUPkIyJ",
        "outputId": "fb71dab5-d93a-4c08-a3a5-71e9c91dcf32"
      },
      "execution_count": null,
      "outputs": [
        {
          "output_type": "stream",
          "name": "stdout",
          "text": [
            "Intervalo de confiança (95%) da diferença de médias entre os sistemas A e B: (-371.9168935926773, -7.9919336384439505)\n"
          ]
        }
      ]
    },
    {
      "cell_type": "markdown",
      "source": [
        "Podemos observar que nosso intervalo não passa pelo zero. Se o intervalo de confiança não inclui zero, isso pode sugerir que há uma diferença estatisticamente significativa entre as amostras.\n",
        "\n"
      ],
      "metadata": {
        "id": "PCuZ6sVzk4RS"
      }
    },
    {
      "cell_type": "code",
      "source": [
        "# Observando a distribuição do bootstrap\n",
        "sns.displot(diferencas_medias, kde=False, bins=20)\n",
        "\n",
        "# Adicionando um título\n",
        "plt.title(\"Bootstrap\")\n",
        "\n",
        "# Adicionando uma linha de corte no limite inferior\n",
        "plt.axvline(x=limite_inferior, color='r', linestyle='--')\n",
        "\n",
        "# Adicionando outra linha de corte no limite superior\n",
        "plt.axvline(x=limite_superior, color='r', linestyle='--')\n",
        "\n",
        "# Exibindo o gráfico\n",
        "plt.show()"
      ],
      "metadata": {
        "colab": {
          "base_uri": "https://localhost:8080/",
          "height": 529
        },
        "id": "2RuVIbR1xBEN",
        "outputId": "3e424f14-a4db-4c7a-8ad2-aaff864127a2"
      },
      "execution_count": 29,
      "outputs": [
        {
          "output_type": "display_data",
          "data": {
            "text/plain": [
              "<Figure size 500x500 with 1 Axes>"
            ],
            "image/png": "[encoded data removed]"
          },
          "metadata": {}
        }
      ]
    },
    {
      "cell_type": "markdown",
      "source": [
        "Podemos observar neste gráfico onde está o intervalo de confiança. Ao todo, tivemos 2 testes apontando que falhamos em rejeitar a H0, sendo um desses testes paramétrico e outro não paramétrico. Enquanto no terceiro teste, rejeitamos a H0. Em casos como esse, a opção mais segura a ser assumida é de que **não temos dados suficientes para rejeitar H0**."
      ],
      "metadata": {
        "id": "eW5UKubowpFV"
      }
    },
    {
      "cell_type": "markdown",
      "source": [
        "## **Conclusões iniciais**"
      ],
      "metadata": {
        "id": "Geg4uVaj0WeM"
      }
    },
    {
      "cell_type": "markdown",
      "source": [
        "A média de renda dos usuários é de R$ 51.000,00. Eles costumam ficar 59 dias sem comprar um produto. Nos últimos 2 anos, os gastos com vinho foram bem maiores que com frutas, peixes, doces ou produtos de ouro.\n",
        "\n",
        "A maior parte das compras é feita diretamente em lojas, com uma média de 5 pedidos por usuário. A idade média dos usuários é de 51 anos.\n",
        "\n",
        "A maioria dos clientes possui graduação e são casados.\n",
        "\n",
        "As pessoas do status widow tendem a gastar mais.\n",
        "\n",
        "Quanto menos filhos uma pessoa da nossa base tem, menor é o gasto que ela faz.\n",
        "\n",
        "Quando uma pessoa tem renda maior que R$ 35.000,00, ela tende a gastar mais.\n",
        "\n",
        "Não temos dados suficientes para assumir que pessoas que apresentaram uma reclamação gastam mais do que aquelas que não apresentam."
      ],
      "metadata": {
        "id": "zDzc1LxgBi3I"
      }
    },
    {
      "cell_type": "markdown",
      "source": [
        "### **O que poderia ser feito com as informações que temos até aqui ?**"
      ],
      "metadata": {
        "id": "mnhP_Qa444dJ"
      }
    },
    {
      "cell_type": "markdown",
      "source": [
        "\n",
        "Com base nas análises realizadas, existem algumas sugestões que podem estar alinhadas com o intuito de aumentar o lucro da empresa, sendo elas:\n",
        "\n",
        "**Aumentar a frequência de compra dos clientes.** A média de 59 dias entre uma compra e outra é bastante alta. A empresa pode investir em estratégias para aumentar a frequência de compra, como:\n",
        "\n",
        "- Ofertas e promoções direcionadas para clientes que não compram há algum tempo;\n",
        "  - A empresa pode oferecer descontos, brindes ou outros benefícios para incentivar esses clientes a voltarem a comprar.\n",
        "- Programas de fidelidade que oferecem benefícios aos clientes que compram com frequência;\n",
        "  - Esses programas podem incluir pontos que podem ser trocados por produtos ou serviços, descontos progressivos ou acesso a eventos exclusivos.\n",
        "\n",
        "**Foco nos clientes com renda maior que R$ 35.000,00.** Esses clientes são os que mais gastam, portanto, a empresa deve investir em estratégias para atrair e reter esses clientes. Algumas ideias são:\n",
        "\n",
        "- Oferecer produtos e serviços de maior valor agregado;\n",
        "  - A empresa pode oferecer produtos e serviços exclusivos ou personalizados, que atendam às necessidades e aos desejos desses clientes.\n",
        "- Personalizar a comunicação com esses clientes, de acordo com seus interesses;\n",
        "  - A empresa pode enviar e-mails, SMS ou mensagens personalizadas, de acordo com os interesses desses clientes (Sempre respeitando as regulamentações da ANATEL e da LGPD).\n",
        "- Oferecer programas de relacionamento exclusivos para esses clientes;\n",
        "  - Esses programas podem oferecer benefícios especiais, como descontos, brindes ou acesso a eventos exclusivos.\n",
        "\n",
        "**Explorar um pouco mais o fato de que a maioria de seus clientes são casados.** Esses clientes podem estar interessados em produtos e serviços relacionados à família, como:\n",
        "\n",
        "- Oferecer produtos e serviços relacionados à família;\n",
        "  - A empresa pode focar um pouco mais em produtos para ocasiões especiais, como casamentos, aniversários ou festas de fim de ano"
      ],
      "metadata": {
        "id": "KuD5Q8cL485_"
      }
    }
  ]
}