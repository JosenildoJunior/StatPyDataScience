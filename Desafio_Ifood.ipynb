{
  "nbformat": 4,
  "nbformat_minor": 0,
  "metadata": {
    "colab": {
      "provenance": [],
      "collapsed_sections": [
        "Z7yo8ZjZjCYV",
        "CQSTAmqjiKbc",
        "wc5TSve3k_KQ",
        "GVwY7A0KlII-",
        "I1GgN5NKt5lv"
      ],
      "authorship_tag": "ABX9TyMoZE+yhs1YVT7GnhzogMWn",
      "include_colab_link": true
    },
    "kernelspec": {
      "name": "python3",
      "display_name": "Python 3"
    },
    "language_info": {
      "name": "python"
    }
  },
  "cells": [
    {
      "cell_type": "markdown",
      "metadata": {
        "id": "view-in-github",
        "colab_type": "text"
      },
      "source": [
        "<a href=\"https://colab.research.google.com/github/JosenildoJunior/StatPyDataScience/blob/main/Desafio_Ifood.ipynb\" target=\"_parent\"><img src=\"https://colab.research.google.com/assets/colab-badge.svg\" alt=\"Open In Colab\"/></a>"
      ]
    },
    {
      "cell_type": "markdown",
      "source": [
        "# **Análise exploratória em dados do Ifood**"
      ],
      "metadata": {
        "id": "6M6aieWTh2u3"
      }
    },
    {
      "cell_type": "markdown",
      "source": [
        "O conjunto de dados é composto por clientes da empresa Ifood com dados sobre:\n",
        "\n",
        "- Perfis de clientes\n",
        "- Preferências do produto\n",
        "- Sucessos/fracassos da campanha\n",
        "- Desempenho do canal\n",
        "\n",
        "\n",
        "**O objetivo é realizar uma análise exploratória desses dados.**"
      ],
      "metadata": {
        "id": "NCKRWXxZhwgP"
      }
    },
    {
      "cell_type": "markdown",
      "source": [
        "## **Importando os dados**"
      ],
      "metadata": {
        "id": "Z7yo8ZjZjCYV"
      }
    },
    {
      "cell_type": "markdown",
      "source": [
        "Nessa parte iremos importar todas as bibliotecas que iremos precisar para realizar nossa analise e também os dados, dito isso vamos seguir para a importação das bibliotecas e posteriormente dos dados"
      ],
      "metadata": {
        "id": "IOC57p6ejGM8"
      }
    },
    {
      "cell_type": "code",
      "source": [
        "# Manipulação de dados\n",
        "import pandas as pd\n",
        "\n",
        "# Algébra linear\n",
        "import numpy as np\n",
        "\n",
        "# Visualização de dados\n",
        "import matplotlib.pyplot as plt\n",
        "import seaborn as sns\n",
        "\n",
        "# Funções estatísticas\n",
        "import statistics\n",
        "import scipy.stats"
      ],
      "metadata": {
        "id": "xFlFR6ybjjf7"
      },
      "execution_count": 1,
      "outputs": []
    },
    {
      "cell_type": "markdown",
      "source": [
        "Com as bibliotecas importadas podemos seguir para a importação dos dados propriamente dito"
      ],
      "metadata": {
        "id": "RDpdpordj89e"
      }
    },
    {
      "cell_type": "code",
      "source": [
        "# Acesso ao drive\n",
        "from google.colab import drive\n",
        "drive.mount('/content/drive')"
      ],
      "metadata": {
        "colab": {
          "base_uri": "https://localhost:8080/"
        },
        "id": "uNkZvF1lj6yg",
        "outputId": "6391918b-7ee5-41ff-e902-4f7d75a97024"
      },
      "execution_count": 2,
      "outputs": [
        {
          "output_type": "stream",
          "name": "stdout",
          "text": [
            "Mounted at /content/drive\n"
          ]
        }
      ]
    },
    {
      "cell_type": "code",
      "source": [
        "# Importando o dataset\n",
        "df = pd.read_csv('/content/drive/MyDrive/Estatística para ciência de dados/mkt_data.csv')\n",
        "\n",
        "# Observando os primeiro registros\n",
        "df.head()"
      ],
      "metadata": {
        "colab": {
          "base_uri": "https://localhost:8080/",
          "height": 273
        },
        "id": "KEqWK4S8kF3l",
        "outputId": "543308ac-90bf-4c45-bea5-db55dada1d4f"
      },
      "execution_count": 3,
      "outputs": [
        {
          "output_type": "execute_result",
          "data": {
            "text/plain": [
              "   Unnamed: 0   Income  Kidhome  Teenhome  Recency  MntWines  MntFruits  \\\n",
              "0           0  58138.0        0         0       58       635         88   \n",
              "1           1  46344.0        1         1       38        11          1   \n",
              "2           2  71613.0        0         0       26       426         49   \n",
              "3           3  26646.0        1         0       26        11          4   \n",
              "4           4  58293.0        1         0       94       173         43   \n",
              "\n",
              "   MntMeatProducts  MntFishProducts  MntSweetProducts  ...  \\\n",
              "0              546              172                88  ...   \n",
              "1                6                2                 1  ...   \n",
              "2              127              111                21  ...   \n",
              "3               20               10                 3  ...   \n",
              "4              118               46                27  ...   \n",
              "\n",
              "   education_Graduation  education_Master  education_PhD  MntTotal  \\\n",
              "0                   3.0               NaN            NaN      1529   \n",
              "1                   3.0               NaN            NaN        21   \n",
              "2                   3.0               NaN            NaN       734   \n",
              "3                   3.0               NaN            NaN        48   \n",
              "4                   NaN               NaN            5.0       407   \n",
              "\n",
              "   MntRegularProds  AcceptedCmpOverall  marital_status  education_level  kids  \\\n",
              "0             1441                   0          Single       Graduation     0   \n",
              "1               15                   0          Single       Graduation     2   \n",
              "2              692                   0        Together       Graduation     0   \n",
              "3               43                   0        Together       Graduation     1   \n",
              "4              392                   0         Married              PhD     1   \n",
              "\n",
              "   expenses  \n",
              "0      1529  \n",
              "1        21  \n",
              "2       734  \n",
              "3        48  \n",
              "4       407  \n",
              "\n",
              "[5 rows x 44 columns]"
            ],
            "text/html": [
              "\n",
              "  <div id=\"df-c653e12b-4c28-4689-acbc-d6ae721d0924\" class=\"colab-df-container\">\n",
              "    <div>\n",
              "<style scoped>\n",
              "    .dataframe tbody tr th:only-of-type {\n",
              "        vertical-align: middle;\n",
              "    }\n",
              "\n",
              "    .dataframe tbody tr th {\n",
              "        vertical-align: top;\n",
              "    }\n",
              "\n",
              "    .dataframe thead th {\n",
              "        text-align: right;\n",
              "    }\n",
              "</style>\n",
              "<table border=\"1\" class=\"dataframe\">\n",
              "  <thead>\n",
              "    <tr style=\"text-align: right;\">\n",
              "      <th></th>\n",
              "      <th>Unnamed: 0</th>\n",
              "      <th>Income</th>\n",
              "      <th>Kidhome</th>\n",
              "      <th>Teenhome</th>\n",
              "      <th>Recency</th>\n",
              "      <th>MntWines</th>\n",
              "      <th>MntFruits</th>\n",
              "      <th>MntMeatProducts</th>\n",
              "      <th>MntFishProducts</th>\n",
              "      <th>MntSweetProducts</th>\n",
              "      <th>...</th>\n",
              "      <th>education_Graduation</th>\n",
              "      <th>education_Master</th>\n",
              "      <th>education_PhD</th>\n",
              "      <th>MntTotal</th>\n",
              "      <th>MntRegularProds</th>\n",
              "      <th>AcceptedCmpOverall</th>\n",
              "      <th>marital_status</th>\n",
              "      <th>education_level</th>\n",
              "      <th>kids</th>\n",
              "      <th>expenses</th>\n",
              "    </tr>\n",
              "  </thead>\n",
              "  <tbody>\n",
              "    <tr>\n",
              "      <th>0</th>\n",
              "      <td>0</td>\n",
              "      <td>58138.0</td>\n",
              "      <td>0</td>\n",
              "      <td>0</td>\n",
              "      <td>58</td>\n",
              "      <td>635</td>\n",
              "      <td>88</td>\n",
              "      <td>546</td>\n",
              "      <td>172</td>\n",
              "      <td>88</td>\n",
              "      <td>...</td>\n",
              "      <td>3.0</td>\n",
              "      <td>NaN</td>\n",
              "      <td>NaN</td>\n",
              "      <td>1529</td>\n",
              "      <td>1441</td>\n",
              "      <td>0</td>\n",
              "      <td>Single</td>\n",
              "      <td>Graduation</td>\n",
              "      <td>0</td>\n",
              "      <td>1529</td>\n",
              "    </tr>\n",
              "    <tr>\n",
              "      <th>1</th>\n",
              "      <td>1</td>\n",
              "      <td>46344.0</td>\n",
              "      <td>1</td>\n",
              "      <td>1</td>\n",
              "      <td>38</td>\n",
              "      <td>11</td>\n",
              "      <td>1</td>\n",
              "      <td>6</td>\n",
              "      <td>2</td>\n",
              "      <td>1</td>\n",
              "      <td>...</td>\n",
              "      <td>3.0</td>\n",
              "      <td>NaN</td>\n",
              "      <td>NaN</td>\n",
              "      <td>21</td>\n",
              "      <td>15</td>\n",
              "      <td>0</td>\n",
              "      <td>Single</td>\n",
              "      <td>Graduation</td>\n",
              "      <td>2</td>\n",
              "      <td>21</td>\n",
              "    </tr>\n",
              "    <tr>\n",
              "      <th>2</th>\n",
              "      <td>2</td>\n",
              "      <td>71613.0</td>\n",
              "      <td>0</td>\n",
              "      <td>0</td>\n",
              "      <td>26</td>\n",
              "      <td>426</td>\n",
              "      <td>49</td>\n",
              "      <td>127</td>\n",
              "      <td>111</td>\n",
              "      <td>21</td>\n",
              "      <td>...</td>\n",
              "      <td>3.0</td>\n",
              "      <td>NaN</td>\n",
              "      <td>NaN</td>\n",
              "      <td>734</td>\n",
              "      <td>692</td>\n",
              "      <td>0</td>\n",
              "      <td>Together</td>\n",
              "      <td>Graduation</td>\n",
              "      <td>0</td>\n",
              "      <td>734</td>\n",
              "    </tr>\n",
              "    <tr>\n",
              "      <th>3</th>\n",
              "      <td>3</td>\n",
              "      <td>26646.0</td>\n",
              "      <td>1</td>\n",
              "      <td>0</td>\n",
              "      <td>26</td>\n",
              "      <td>11</td>\n",
              "      <td>4</td>\n",
              "      <td>20</td>\n",
              "      <td>10</td>\n",
              "      <td>3</td>\n",
              "      <td>...</td>\n",
              "      <td>3.0</td>\n",
              "      <td>NaN</td>\n",
              "      <td>NaN</td>\n",
              "      <td>48</td>\n",
              "      <td>43</td>\n",
              "      <td>0</td>\n",
              "      <td>Together</td>\n",
              "      <td>Graduation</td>\n",
              "      <td>1</td>\n",
              "      <td>48</td>\n",
              "    </tr>\n",
              "    <tr>\n",
              "      <th>4</th>\n",
              "      <td>4</td>\n",
              "      <td>58293.0</td>\n",
              "      <td>1</td>\n",
              "      <td>0</td>\n",
              "      <td>94</td>\n",
              "      <td>173</td>\n",
              "      <td>43</td>\n",
              "      <td>118</td>\n",
              "      <td>46</td>\n",
              "      <td>27</td>\n",
              "      <td>...</td>\n",
              "      <td>NaN</td>\n",
              "      <td>NaN</td>\n",
              "      <td>5.0</td>\n",
              "      <td>407</td>\n",
              "      <td>392</td>\n",
              "      <td>0</td>\n",
              "      <td>Married</td>\n",
              "      <td>PhD</td>\n",
              "      <td>1</td>\n",
              "      <td>407</td>\n",
              "    </tr>\n",
              "  </tbody>\n",
              "</table>\n",
              "<p>5 rows × 44 columns</p>\n",
              "</div>\n",
              "    <div class=\"colab-df-buttons\">\n",
              "\n",
              "  <div class=\"colab-df-container\">\n",
              "    <button class=\"colab-df-convert\" onclick=\"convertToInteractive('df-c653e12b-4c28-4689-acbc-d6ae721d0924')\"\n",
              "            title=\"Convert this dataframe to an interactive table.\"\n",
              "            style=\"display:none;\">\n",
              "\n",
              "  <svg xmlns=\"http://www.w3.org/2000/svg\" height=\"24px\" viewBox=\"0 -960 960 960\">\n",
              "    <path d=\"M120-120v-720h720v720H120Zm60-500h600v-160H180v160Zm220 220h160v-160H400v160Zm0 220h160v-160H400v160ZM180-400h160v-160H180v160Zm440 0h160v-160H620v160ZM180-180h160v-160H180v160Zm440 0h160v-160H620v160Z\"/>\n",
              "  </svg>\n",
              "    </button>\n",
              "\n",
              "  <style>\n",
              "    .colab-df-container {\n",
              "      display:flex;\n",
              "      gap: 12px;\n",
              "    }\n",
              "\n",
              "    .colab-df-convert {\n",
              "      background-color: #E8F0FE;\n",
              "      border: none;\n",
              "      border-radius: 50%;\n",
              "      cursor: pointer;\n",
              "      display: none;\n",
              "      fill: #1967D2;\n",
              "      height: 32px;\n",
              "      padding: 0 0 0 0;\n",
              "      width: 32px;\n",
              "    }\n",
              "\n",
              "    .colab-df-convert:hover {\n",
              "      background-color: #E2EBFA;\n",
              "      box-shadow: 0px 1px 2px rgba(60, 64, 67, 0.3), 0px 1px 3px 1px rgba(60, 64, 67, 0.15);\n",
              "      fill: #174EA6;\n",
              "    }\n",
              "\n",
              "    .colab-df-buttons div {\n",
              "      margin-bottom: 4px;\n",
              "    }\n",
              "\n",
              "    [theme=dark] .colab-df-convert {\n",
              "      background-color: #3B4455;\n",
              "      fill: #D2E3FC;\n",
              "    }\n",
              "\n",
              "    [theme=dark] .colab-df-convert:hover {\n",
              "      background-color: #434B5C;\n",
              "      box-shadow: 0px 1px 3px 1px rgba(0, 0, 0, 0.15);\n",
              "      filter: drop-shadow(0px 1px 2px rgba(0, 0, 0, 0.3));\n",
              "      fill: #FFFFFF;\n",
              "    }\n",
              "  </style>\n",
              "\n",
              "    <script>\n",
              "      const buttonEl =\n",
              "        document.querySelector('#df-c653e12b-4c28-4689-acbc-d6ae721d0924 button.colab-df-convert');\n",
              "      buttonEl.style.display =\n",
              "        google.colab.kernel.accessAllowed ? 'block' : 'none';\n",
              "\n",
              "      async function convertToInteractive(key) {\n",
              "        const element = document.querySelector('#df-c653e12b-4c28-4689-acbc-d6ae721d0924');\n",
              "        const dataTable =\n",
              "          await google.colab.kernel.invokeFunction('convertToInteractive',\n",
              "                                                    [key], {});\n",
              "        if (!dataTable) return;\n",
              "\n",
              "        const docLinkHtml = 'Like what you see? Visit the ' +\n",
              "          '<a target=\"_blank\" href=https://colab.research.google.com/notebooks/data_table.ipynb>data table notebook</a>'\n",
              "          + ' to learn more about interactive tables.';\n",
              "        element.innerHTML = '';\n",
              "        dataTable['output_type'] = 'display_data';\n",
              "        await google.colab.output.renderOutput(dataTable, element);\n",
              "        const docLink = document.createElement('div');\n",
              "        docLink.innerHTML = docLinkHtml;\n",
              "        element.appendChild(docLink);\n",
              "      }\n",
              "    </script>\n",
              "  </div>\n",
              "\n",
              "\n",
              "<div id=\"df-6faf4e48-9550-4f83-8ac6-c9aa6bde3053\">\n",
              "  <button class=\"colab-df-quickchart\" onclick=\"quickchart('df-6faf4e48-9550-4f83-8ac6-c9aa6bde3053')\"\n",
              "            title=\"Suggest charts\"\n",
              "            style=\"display:none;\">\n",
              "\n",
              "<svg xmlns=\"http://www.w3.org/2000/svg\" height=\"24px\"viewBox=\"0 0 24 24\"\n",
              "     width=\"24px\">\n",
              "    <g>\n",
              "        <path d=\"M19 3H5c-1.1 0-2 .9-2 2v14c0 1.1.9 2 2 2h14c1.1 0 2-.9 2-2V5c0-1.1-.9-2-2-2zM9 17H7v-7h2v7zm4 0h-2V7h2v10zm4 0h-2v-4h2v4z\"/>\n",
              "    </g>\n",
              "</svg>\n",
              "  </button>\n",
              "\n",
              "<style>\n",
              "  .colab-df-quickchart {\n",
              "      --bg-color: #E8F0FE;\n",
              "      --fill-color: #1967D2;\n",
              "      --hover-bg-color: #E2EBFA;\n",
              "      --hover-fill-color: #174EA6;\n",
              "      --disabled-fill-color: #AAA;\n",
              "      --disabled-bg-color: #DDD;\n",
              "  }\n",
              "\n",
              "  [theme=dark] .colab-df-quickchart {\n",
              "      --bg-color: #3B4455;\n",
              "      --fill-color: #D2E3FC;\n",
              "      --hover-bg-color: #434B5C;\n",
              "      --hover-fill-color: #FFFFFF;\n",
              "      --disabled-bg-color: #3B4455;\n",
              "      --disabled-fill-color: #666;\n",
              "  }\n",
              "\n",
              "  .colab-df-quickchart {\n",
              "    background-color: var(--bg-color);\n",
              "    border: none;\n",
              "    border-radius: 50%;\n",
              "    cursor: pointer;\n",
              "    display: none;\n",
              "    fill: var(--fill-color);\n",
              "    height: 32px;\n",
              "    padding: 0;\n",
              "    width: 32px;\n",
              "  }\n",
              "\n",
              "  .colab-df-quickchart:hover {\n",
              "    background-color: var(--hover-bg-color);\n",
              "    box-shadow: 0 1px 2px rgba(60, 64, 67, 0.3), 0 1px 3px 1px rgba(60, 64, 67, 0.15);\n",
              "    fill: var(--button-hover-fill-color);\n",
              "  }\n",
              "\n",
              "  .colab-df-quickchart-complete:disabled,\n",
              "  .colab-df-quickchart-complete:disabled:hover {\n",
              "    background-color: var(--disabled-bg-color);\n",
              "    fill: var(--disabled-fill-color);\n",
              "    box-shadow: none;\n",
              "  }\n",
              "\n",
              "  .colab-df-spinner {\n",
              "    border: 2px solid var(--fill-color);\n",
              "    border-color: transparent;\n",
              "    border-bottom-color: var(--fill-color);\n",
              "    animation:\n",
              "      spin 1s steps(1) infinite;\n",
              "  }\n",
              "\n",
              "  @keyframes spin {\n",
              "    0% {\n",
              "      border-color: transparent;\n",
              "      border-bottom-color: var(--fill-color);\n",
              "      border-left-color: var(--fill-color);\n",
              "    }\n",
              "    20% {\n",
              "      border-color: transparent;\n",
              "      border-left-color: var(--fill-color);\n",
              "      border-top-color: var(--fill-color);\n",
              "    }\n",
              "    30% {\n",
              "      border-color: transparent;\n",
              "      border-left-color: var(--fill-color);\n",
              "      border-top-color: var(--fill-color);\n",
              "      border-right-color: var(--fill-color);\n",
              "    }\n",
              "    40% {\n",
              "      border-color: transparent;\n",
              "      border-right-color: var(--fill-color);\n",
              "      border-top-color: var(--fill-color);\n",
              "    }\n",
              "    60% {\n",
              "      border-color: transparent;\n",
              "      border-right-color: var(--fill-color);\n",
              "    }\n",
              "    80% {\n",
              "      border-color: transparent;\n",
              "      border-right-color: var(--fill-color);\n",
              "      border-bottom-color: var(--fill-color);\n",
              "    }\n",
              "    90% {\n",
              "      border-color: transparent;\n",
              "      border-bottom-color: var(--fill-color);\n",
              "    }\n",
              "  }\n",
              "</style>\n",
              "\n",
              "  <script>\n",
              "    async function quickchart(key) {\n",
              "      const quickchartButtonEl =\n",
              "        document.querySelector('#' + key + ' button');\n",
              "      quickchartButtonEl.disabled = true;  // To prevent multiple clicks.\n",
              "      quickchartButtonEl.classList.add('colab-df-spinner');\n",
              "      try {\n",
              "        const charts = await google.colab.kernel.invokeFunction(\n",
              "            'suggestCharts', [key], {});\n",
              "      } catch (error) {\n",
              "        console.error('Error during call to suggestCharts:', error);\n",
              "      }\n",
              "      quickchartButtonEl.classList.remove('colab-df-spinner');\n",
              "      quickchartButtonEl.classList.add('colab-df-quickchart-complete');\n",
              "    }\n",
              "    (() => {\n",
              "      let quickchartButtonEl =\n",
              "        document.querySelector('#df-6faf4e48-9550-4f83-8ac6-c9aa6bde3053 button');\n",
              "      quickchartButtonEl.style.display =\n",
              "        google.colab.kernel.accessAllowed ? 'block' : 'none';\n",
              "    })();\n",
              "  </script>\n",
              "</div>\n",
              "\n",
              "    </div>\n",
              "  </div>\n"
            ]
          },
          "metadata": {},
          "execution_count": 3
        }
      ]
    },
    {
      "cell_type": "markdown",
      "source": [
        "Agora podemos partir para a proxima etapa"
      ],
      "metadata": {
        "id": "nFERFnhlkl4h"
      }
    },
    {
      "cell_type": "markdown",
      "source": [
        "## **Análise inicial**"
      ],
      "metadata": {
        "id": "CQSTAmqjiKbc"
      }
    },
    {
      "cell_type": "markdown",
      "source": [
        "Nessa parte do desafio responderemos algumas perguntas com o intuito de enterdermos um pouco mais de como esses dados se comportam, para isso responderemos as seguintes perguntas:\n",
        "\n",
        "- Quantos dados temos? Linhas e colunas\n",
        "- Quais são as colunas numéricas?\n",
        "- Temos duplicados na nossa base? Se tivermos, retire-os\n",
        "- Temos dados nulos nessa base? Será que eles indicam algo? O que fazer com eles?\n",
        "- Qual é a média, mediana, 25 percentil, 75 percentil, mínimo e máximo de cada uma das colunas numéricas?"
      ],
      "metadata": {
        "id": "2dvgLmgYiPMj"
      }
    },
    {
      "cell_type": "markdown",
      "source": [
        "Agora que já sabemos as perguntas, vamos partir para a resolução das mesmas."
      ],
      "metadata": {
        "id": "nL1uADqYi-tP"
      }
    },
    {
      "cell_type": "markdown",
      "source": [
        "### **Quantos dados temos? Linhas e colunas**"
      ],
      "metadata": {
        "id": "wc5TSve3k_KQ"
      }
    },
    {
      "cell_type": "code",
      "execution_count": 4,
      "metadata": {
        "colab": {
          "base_uri": "https://localhost:8080/"
        },
        "id": "Pyto1meGhnvA",
        "outputId": "87e61465-e664-415c-f0d3-b05e471d3b64"
      },
      "outputs": [
        {
          "output_type": "execute_result",
          "data": {
            "text/plain": [
              "(2205, 44)"
            ]
          },
          "metadata": {},
          "execution_count": 4
        }
      ],
      "source": [
        "# Observando as dimensões dos dados\n",
        "df.shape"
      ]
    },
    {
      "cell_type": "markdown",
      "source": [
        "Dessa forma, podemos observar que temos 2205 linhas e 44 colunas nessa base de dados."
      ],
      "metadata": {
        "id": "sfEBNsiolBwW"
      }
    },
    {
      "cell_type": "markdown",
      "source": [
        "### **Quais são as colunas numéricas?**"
      ],
      "metadata": {
        "id": "GVwY7A0KlII-"
      }
    },
    {
      "cell_type": "code",
      "source": [
        "# Observando o tipo de dado\n",
        "df.info()"
      ],
      "metadata": {
        "colab": {
          "base_uri": "https://localhost:8080/"
        },
        "id": "AQUtC98JlLBt",
        "outputId": "ef501ced-8e88-4e5d-e57d-82b26fa02577"
      },
      "execution_count": 5,
      "outputs": [
        {
          "output_type": "stream",
          "name": "stdout",
          "text": [
            "<class 'pandas.core.frame.DataFrame'>\n",
            "RangeIndex: 2205 entries, 0 to 2204\n",
            "Data columns (total 44 columns):\n",
            " #   Column                Non-Null Count  Dtype  \n",
            "---  ------                --------------  -----  \n",
            " 0   Unnamed: 0            2205 non-null   int64  \n",
            " 1   Income                2205 non-null   float64\n",
            " 2   Kidhome               2205 non-null   int64  \n",
            " 3   Teenhome              2205 non-null   int64  \n",
            " 4   Recency               2205 non-null   int64  \n",
            " 5   MntWines              2205 non-null   int64  \n",
            " 6   MntFruits             2205 non-null   int64  \n",
            " 7   MntMeatProducts       2205 non-null   int64  \n",
            " 8   MntFishProducts       2205 non-null   int64  \n",
            " 9   MntSweetProducts      2205 non-null   int64  \n",
            " 10  MntGoldProds          2205 non-null   int64  \n",
            " 11  NumDealsPurchases     2205 non-null   int64  \n",
            " 12  NumWebPurchases       2205 non-null   int64  \n",
            " 13  NumCatalogPurchases   2205 non-null   int64  \n",
            " 14  NumStorePurchases     2205 non-null   int64  \n",
            " 15  NumWebVisitsMonth     2205 non-null   int64  \n",
            " 16  AcceptedCmp3          2205 non-null   int64  \n",
            " 17  AcceptedCmp4          2205 non-null   int64  \n",
            " 18  AcceptedCmp5          2205 non-null   int64  \n",
            " 19  AcceptedCmp1          2205 non-null   int64  \n",
            " 20  AcceptedCmp2          2205 non-null   int64  \n",
            " 21  Complain              2205 non-null   int64  \n",
            " 22  Z_CostContact         2205 non-null   int64  \n",
            " 23  Z_Revenue             2205 non-null   int64  \n",
            " 24  Response              2205 non-null   int64  \n",
            " 25  Age                   2205 non-null   int64  \n",
            " 26  Customer_Days         2205 non-null   int64  \n",
            " 27  marital_Divorced      230 non-null    float64\n",
            " 28  marital_Married       854 non-null    float64\n",
            " 29  marital_Single        477 non-null    float64\n",
            " 30  marital_Together      568 non-null    float64\n",
            " 31  marital_Widow         76 non-null     float64\n",
            " 32  education_2n Cycle    198 non-null    float64\n",
            " 33  education_Basic       54 non-null     float64\n",
            " 34  education_Graduation  1113 non-null   float64\n",
            " 35  education_Master      364 non-null    float64\n",
            " 36  education_PhD         476 non-null    float64\n",
            " 37  MntTotal              2205 non-null   int64  \n",
            " 38  MntRegularProds       2205 non-null   int64  \n",
            " 39  AcceptedCmpOverall    2205 non-null   int64  \n",
            " 40  marital_status        2205 non-null   object \n",
            " 41  education_level       2205 non-null   object \n",
            " 42  kids                  2205 non-null   int64  \n",
            " 43  expenses              2205 non-null   int64  \n",
            "dtypes: float64(11), int64(31), object(2)\n",
            "memory usage: 758.1+ KB\n"
          ]
        }
      ]
    },
    {
      "cell_type": "markdown",
      "source": [
        "Dessa forma, podemos observar o tipo de dado presente em cada uma das colunas. Temos 2 variáveis categóricas e 42 colunas numéricas, sendo elas:\n",
        "\n",
        "**Variáveis categóricas:**\n",
        " - marital_status        \n",
        " - education_level\n",
        "\n",
        "**Variáveis numéricas:**\n",
        "- Income\n",
        "- Kidhome\n",
        "- Teenhome              \n",
        "- Recency               \n",
        "- MntWines              \n",
        "- MntFruits             \n",
        "- MntMeatProducts       \n",
        "- MntFishProducts     \n",
        "-  MntSweetProducts       \n",
        "- MntGoldProds          \n",
        "- NumDealsPurchases\n",
        "- NumWebPurchases       \n",
        "- NumCatalogPurchases    \n",
        "- NumStorePurchases     \n",
        "- NumWebVisitsMonth    \n",
        "- AcceptedCmp3        \n",
        "- AcceptedCmp4         \n",
        "- AcceptedCmp5          \n",
        "- AcceptedCmp1          \n",
        "- AcceptedCmp2          \n",
        "- Complain             \n",
        "- Z_CostContact        \n",
        "-  Z_Revenue             \n",
        "-  Response              \n",
        "- Age                   \n",
        "- Customer_Days       \n",
        "- marital_Divorced     \n",
        "- marital_Married      \n",
        "- marital_Single        \n",
        "- marital_Together    \n",
        "- marital_Widow         \n",
        "- education_2n Cycle    \n",
        "- education_Basic       \n",
        "- education_Graduation  \n",
        "- education_Master     \n",
        "-  education_PhD         \n",
        "-  MntTotal              \n",
        "-  MntRegularProds       \n",
        "-  AcceptedCmpOverall   \n",
        "-  kids                \n",
        "-  expenses             \n",
        "\n",
        "\n"
      ],
      "metadata": {
        "id": "3YoQ7v-ClRju"
      }
    },
    {
      "cell_type": "markdown",
      "source": [
        "### **Temos duplicados na nossa base? Se tivermos, retire-os**"
      ],
      "metadata": {
        "id": "I1GgN5NKt5lv"
      }
    },
    {
      "cell_type": "code",
      "source": [
        "# Verificando o valores duplicados\n",
        "df.duplicated().sum()"
      ],
      "metadata": {
        "colab": {
          "base_uri": "https://localhost:8080/"
        },
        "id": "0Za8XSoVtkVx",
        "outputId": "4033c9c2-5f94-4fc4-8566-682de566a948"
      },
      "execution_count": 9,
      "outputs": [
        {
          "output_type": "execute_result",
          "data": {
            "text/plain": [
              "0"
            ]
          },
          "metadata": {},
          "execution_count": 9
        }
      ]
    },
    {
      "cell_type": "markdown",
      "source": [
        "Podemos observar que nesta base não existem valores duplicados. Sendo assim, podemos seguir adiante."
      ],
      "metadata": {
        "id": "2lwSGAgYt-Bt"
      }
    }
  ]
}